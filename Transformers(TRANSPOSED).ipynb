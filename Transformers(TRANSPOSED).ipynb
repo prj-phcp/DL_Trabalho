{
 "cells": [
  {
   "cell_type": "code",
   "execution_count": 1,
   "metadata": {
    "tags": []
   },
   "outputs": [
    {
     "name": "stdout",
     "output_type": "stream",
     "text": [
      "Sun Jun 18 21:39:04 2023       \n",
      "+-----------------------------------------------------------------------------+\n",
      "| NVIDIA-SMI 515.43.04    Driver Version: 515.43.04    CUDA Version: 11.7     |\n",
      "|-------------------------------+----------------------+----------------------+\n",
      "| GPU  Name        Persistence-M| Bus-Id        Disp.A | Volatile Uncorr. ECC |\n",
      "| Fan  Temp  Perf  Pwr:Usage/Cap|         Memory-Usage | GPU-Util  Compute M. |\n",
      "|                               |                      |               MIG M. |\n",
      "|===============================+======================+======================|\n",
      "|   0  Tesla V100-SXM2...  Off  | 00000000:15:00.0 Off |                    0 |\n",
      "| N/A   23C    P0    38W / 300W |      0MiB / 32768MiB |      0%      Default |\n",
      "|                               |                      |                  N/A |\n",
      "+-------------------------------+----------------------+----------------------+\n",
      "                                                                               \n",
      "+-----------------------------------------------------------------------------+\n",
      "| Processes:                                                                  |\n",
      "|  GPU   GI   CI        PID   Type   Process name                  GPU Memory |\n",
      "|        ID   ID                                                   Usage      |\n",
      "|=============================================================================|\n",
      "|  No running processes found                                                 |\n",
      "+-----------------------------------------------------------------------------+\n"
     ]
    }
   ],
   "source": [
    "import math\n",
    "import json\n",
    "import time\n",
    "import numpy as np\n",
    "import pandas as pd\n",
    "import matplotlib.pyplot as plt\n",
    "from tqdm import tqdm\n",
    "\n",
    "import torch\n",
    "import torch.nn as nn\n",
    "import torch.optim as optim\n",
    "from torch.utils.data import Dataset\n",
    "from torch.utils.data.sampler import SubsetRandomSampler\n",
    "\n",
    "from sklearn.preprocessing import MinMaxScaler, RobustScaler\n",
    "from sklearn.model_selection import train_test_split\n",
    "from sklearn.metrics import mean_squared_error, r2_score\n",
    "\n",
    "!nvidia-smi"
   ]
  },
  {
   "cell_type": "code",
   "execution_count": 2,
   "metadata": {
    "tags": []
   },
   "outputs": [
    {
     "name": "stdout",
     "output_type": "stream",
     "text": [
      "cuda:0\n"
     ]
    }
   ],
   "source": [
    "# Dispositivo onde tensores serão criados, armazenados e processados\n",
    "device = torch.device(\"cuda:0\" if torch.cuda.is_available() else \"cpu\")\n",
    "print(device)\n",
    "# Randon Seed fixa para resultados reprodutíveis\n",
    "seed = 42\n",
    "torch.manual_seed(seed)\n",
    "torch.cuda.manual_seed(seed)\n",
    "np.random.seed(seed)"
   ]
  },
  {
   "cell_type": "markdown",
   "metadata": {},
   "source": [
    "## Data Loader"
   ]
  },
  {
   "cell_type": "code",
   "execution_count": 3,
   "metadata": {
    "tags": []
   },
   "outputs": [],
   "source": [
    "class WellLoader(Dataset):\n",
    "    \n",
    "    def __init__(self, \n",
    "                 path, \n",
    "                 wells, \n",
    "                 var_in, \n",
    "                 var_out,\n",
    "                 normalizing_percentile=90.0,\n",
    "                 normalizing_split=0.2,\n",
    "                 normalizer=RobustScaler,\n",
    "                 max_sequence=16, \n",
    "                 step=1):\n",
    "        \n",
    "        self.path = path\n",
    "        with open(self.path + '/metadata.json', 'r') as metafile:\n",
    "            self.metadata = json.loads(metafile.read())\n",
    "        self.wells = wells\n",
    "        self.var_in = var_in\n",
    "        self.var_out = var_out\n",
    "        self.normalizing_percentile=normalizing_percentile\n",
    "        self.normalizing_split = normalizing_split\n",
    "        self.normalizer = normalizer\n",
    "        self.max_sequence = max_sequence\n",
    "        self.step = step\n",
    "        self.batches_X = None\n",
    "        self.batches_Y = None\n",
    "        self.outputs = None\n",
    "        self.normalizers = []\n",
    "        \n",
    "        indexes = self.get_wells_index(self.wells)\n",
    "        self.load_data_by_index(indexes)\n",
    "        \n",
    "    def get_wells_index(self, wells):\n",
    "        \n",
    "        indexes = []\n",
    "        for well, filt in wells:\n",
    "            indexes.extend([(meta['INDEX'], filt) for meta in self.metadata if meta['WELL'] == well])\n",
    "        return indexes\n",
    "    \n",
    "    def load_data_by_index(self, indexes):\n",
    "        \n",
    "        batches_X = []\n",
    "        batches_Y = []\n",
    "        outputs = []\n",
    "        for index, filt in indexes:\n",
    "            data = pd.read_json(f'{self.path}/{index}.json')#.reset_index()\n",
    "            # Armengue: Por liq vol para preencher o dataset\n",
    "            data['BORE_LIQ_VOL'] = data['BORE_OIL_VOL'] + data['BORE_WAT_VOL']\n",
    "            data = data[self.var_in + self.var_out].dropna().reset_index(drop=True)\n",
    "            X = data.values[filt,:]\n",
    "            Y = data[self.var_out].values[filt,:]\n",
    "            X_base, _, Y_base, _ = train_test_split(X, Y, test_size = self.normalizing_split)\n",
    "            #scaler_X = X_base.max(axis=0, keepdims=True)\n",
    "            #scaler_Y = Y_base.max(axis=0, keepdims=True)\n",
    "            #scaler_X = self.normalizer().fit(X_base)\n",
    "            #scaler_Y = self.normalizer().fit(Y_base)\n",
    "            scaler_X = np.percentile(X_base,self.normalizing_percentile,axis=0,keepdims=True)\n",
    "            scaler_Y = np.percentile(Y_base,self.normalizing_percentile,axis=0,keepdims=True)\n",
    "            self.normalizers.append((scaler_X, scaler_Y))\n",
    "            #X, Y = scaler_X.transform(X), scaler_Y.transform(Y)\n",
    "            X, Y = X / scaler_X, Y / scaler_Y\n",
    "            X, Y = torch.from_numpy(X.astype('float32')), torch.from_numpy(Y.astype('float32'))\n",
    "            output = Y[self.max_sequence::self.step]\n",
    "            #print(Y.shape)\n",
    "            #X = torch.split(X, self.max_sequence, dim= 0)\n",
    "            #Y = torch.split(Y, self.max_sequence, dim= 0)\n",
    "            X = X.unfold(0,self.max_sequence, self.step)\n",
    "            Y = Y.unfold(0,self.max_sequence, self.step)\n",
    "            batches_X.append(X[:-1,:,:])\n",
    "            batches_Y.append(Y[:-1,:,:])\n",
    "            outputs.append(Y[1:,:,:])\n",
    "            #print(X.shape)\n",
    "        self.batches_X = torch.concat(batches_X, axis=0)\n",
    "        self.batches_Y = torch.concat(batches_Y, axis=0)\n",
    "        self.outputs = torch.concat(outputs, axis=0)\n",
    "            \n",
    "    def __len__(self):\n",
    "        \n",
    "        return self.outputs.shape[0]\n",
    "    \n",
    "    def __getitem__(self, idx):\n",
    "                        \n",
    "        srcs = self.batches_X[idx,:,:]\n",
    "        trgts = self.batches_Y[idx,:,:]\n",
    "        output = self.outputs[idx,:,:]\n",
    "        \n",
    "        return srcs.permute(1,0), trgts.permute(1,0), output.permute(1,0)\n",
    "        \n",
    "        \n",
    "                 "
   ]
  },
  {
   "cell_type": "code",
   "execution_count": 4,
   "metadata": {
    "tags": []
   },
   "outputs": [],
   "source": [
    "path = './dataset/volve'\n",
    "wells = [\n",
    "    ('15/9-F-1 C', slice(28, None)),\n",
    "]\n",
    "\n",
    "var_in = [\n",
    "        'AVG_DOWNHOLE_PRESSURE',\n",
    "        'AVG_WHP_P',\n",
    "        'AVG_CHOKE_SIZE_P',\n",
    "        'AVG_WHT_P',\n",
    "        'AVG_DOWNHOLE_TEMPERATURE',\n",
    "]\n",
    "\n",
    "var_out = [\n",
    "        #'BORE_OIL_VOL',\n",
    "        'BORE_LIQ_VOL',\n",
    "        #'BORE_GAS_VOL',\n",
    "        #'BORE_WAT_VOL',\n",
    "]\n",
    "\n",
    "dataset = WellLoader(path, wells, var_in, var_out, max_sequence = 16)"
   ]
  },
  {
   "cell_type": "code",
   "execution_count": 5,
   "metadata": {
    "tags": []
   },
   "outputs": [
    {
     "name": "stdout",
     "output_type": "stream",
     "text": [
      "(tensor([[0.7839, 0.6474, 0.8411, 0.7933, 0.9954],\n",
      "        [0.7913, 0.6511, 0.5181, 0.7699, 0.9934],\n",
      "        [0.7852, 0.6506, 0.8560, 0.7895, 0.9942],\n",
      "        [0.7819, 0.6418, 0.8446, 0.7984, 0.9956],\n",
      "        [0.7851, 0.6445, 0.8347, 0.7827, 0.9950],\n",
      "        [0.7882, 0.6454, 0.8240, 0.7465, 0.9945],\n",
      "        [0.7836, 0.6366, 0.8032, 0.7567, 0.9947],\n",
      "        [0.7847, 0.6338, 0.8237, 0.6687, 0.9944],\n",
      "        [0.7840, 0.6295, 0.8242, 0.6657, 0.9944],\n",
      "        [0.7767, 0.6172, 0.8374, 0.7419, 0.9950],\n",
      "        [0.7645, 0.6002, 0.8495, 0.7407, 0.9961],\n",
      "        [0.7659, 0.5994, 0.8383, 0.7672, 0.9958],\n",
      "        [0.7647, 0.5957, 0.8384, 0.7654, 0.9958],\n",
      "        [0.7644, 0.5937, 0.8274, 0.7188, 0.9957],\n",
      "        [0.7641, 0.5913, 0.8232, 0.7384, 0.9957],\n",
      "        [0.7637, 0.5900, 0.8231, 0.6750, 0.9959]]), tensor([[0.8104],\n",
      "        [0.1569],\n",
      "        [0.8370],\n",
      "        [0.7297],\n",
      "        [0.6819],\n",
      "        [0.6570],\n",
      "        [0.6322],\n",
      "        [0.6597],\n",
      "        [0.6526],\n",
      "        [0.6943],\n",
      "        [0.7404],\n",
      "        [0.6996],\n",
      "        [0.6943],\n",
      "        [0.6597],\n",
      "        [0.6517],\n",
      "        [0.7413]]), tensor([[0.1569],\n",
      "        [0.8370],\n",
      "        [0.7297],\n",
      "        [0.6819],\n",
      "        [0.6570],\n",
      "        [0.6322],\n",
      "        [0.6597],\n",
      "        [0.6526],\n",
      "        [0.6943],\n",
      "        [0.7404],\n",
      "        [0.6996],\n",
      "        [0.6943],\n",
      "        [0.6597],\n",
      "        [0.6517],\n",
      "        [0.7413],\n",
      "        [0.7510]]))\n"
     ]
    }
   ],
   "source": [
    "print(dataset[0])"
   ]
  },
  {
   "cell_type": "code",
   "execution_count": 6,
   "metadata": {
    "tags": []
   },
   "outputs": [],
   "source": [
    "class SubsetSplitter:\n",
    "    \n",
    "    def __init__(self, batch_size, validation_split, test_split, shuffle=False):\n",
    "        \n",
    "        self.batch_size = batch_size\n",
    "        self.validation_split = validation_split\n",
    "        self.test_split = test_split\n",
    "        self.shuffle = shuffle\n",
    "        \n",
    "    def __call__(self, dataset:Dataset):\n",
    "        \n",
    "        dataset_size = len(dataset)\n",
    "        indices = list(range(dataset_size))\n",
    "        validation_split = int(np.floor(self.validation_split * dataset_size))\n",
    "        test_split = int(np.floor(self.test_split * dataset_size))\n",
    "        train_split = dataset_size - validation_split - test_split\n",
    "        # Extracting test independently of others\n",
    "        test_indices = indices[train_split + validation_split:]\n",
    "        indices = indices[:train_split + validation_split]\n",
    "        if self.shuffle :\n",
    "            np.random.shuffle(indices)\n",
    "        train_indices = indices[:train_split]\n",
    "        validation_indices = indices[train_split:]\n",
    "\n",
    "        # Creating PT data samplers and loaders:\n",
    "        train_sampler = SubsetRandomSampler(train_indices)\n",
    "        valid_sampler = SubsetRandomSampler(validation_indices)\n",
    "        test_sampler = SubsetRandomSampler(test_indices)\n",
    "\n",
    "        train_loader = torch.utils.data.DataLoader(dataset, batch_size=self.batch_size, \n",
    "                                                   sampler=train_sampler)\n",
    "        validation_loader = torch.utils.data.DataLoader(dataset, batch_size=self.batch_size,\n",
    "                                                    sampler=valid_sampler)\n",
    "        test_loader = torch.utils.data.DataLoader(dataset, batch_size=self.batch_size,\n",
    "                                                    sampler=test_sampler)\n",
    "        \n",
    "        return train_loader, validation_loader, test_loader"
   ]
  },
  {
   "cell_type": "code",
   "execution_count": 7,
   "metadata": {
    "tags": []
   },
   "outputs": [],
   "source": [
    "splitter = SubsetSplitter(4, 0.1, 0.3, shuffle=False)\n",
    "train_loader, validation_loader, test_loader = splitter(dataset)"
   ]
  },
  {
   "cell_type": "markdown",
   "metadata": {},
   "source": [
    "## Model definition"
   ]
  },
  {
   "cell_type": "code",
   "execution_count": 8,
   "metadata": {},
   "outputs": [
    {
     "data": {
      "text/plain": [
       "tensor([[[0.0000, 0.0000, 0.0000, 1.4286, 0.0000, 1.4286, 0.0000, 1.4286,\n",
       "          0.0000, 0.0000],\n",
       "         [0.0000, 0.0000, 0.0000, 0.0000, 0.0000, 1.4286, 0.0000, 0.0000,\n",
       "          0.0000, 1.4286]]])"
      ]
     },
     "execution_count": 8,
     "metadata": {},
     "output_type": "execute_result"
    }
   ],
   "source": [
    "class PositionalEncoding(nn.Module):\n",
    "    def __init__(self, dim_model, dropout_p, max_len):\n",
    "        super().__init__()\n",
    "        # Modified version from: https://pytorch.org/tutorials/beginner/transformer_tutorial.html\n",
    "        # max_len determines how far the position can have an effect on a token (window)\n",
    "        \n",
    "        # Info\n",
    "        self.dropout = nn.Dropout(dropout_p)\n",
    "        \n",
    "        # Encoding - From formula\n",
    "        pos_encoding = torch.zeros(max_len, dim_model)\n",
    "        positions_list = torch.arange(0, max_len, dtype=torch.float).view(-1, 1) # 0, 1, 2, 3, 4, 5\n",
    "        division_term = torch.exp(torch.arange(0, dim_model, 2).float() * (-math.log(10000.0)) / dim_model) # 1000^(2i/dim_model)\n",
    "        \n",
    "        # PE(pos, 2i) = sin(pos/1000^(2i/dim_model))\n",
    "        pos_encoding[:, 0::2] = torch.sin(positions_list * division_term)\n",
    "        \n",
    "        # PE(pos, 2i + 1) = cos(pos/1000^(2i/dim_model))\n",
    "        pos_encoding[:, 1::2] = torch.cos(positions_list * division_term)\n",
    "        \n",
    "        # Saving buffer (same as parameter without gradients needed)\n",
    "        pos_encoding = pos_encoding.unsqueeze(0).transpose(0, 1)\n",
    "        self.register_buffer(\"pos_encoding\",pos_encoding)\n",
    "        \n",
    "    def forward(self, token_embedding: torch.tensor) -> torch.tensor:\n",
    "        # Residual connection + pos encoding\n",
    "        return self.dropout(token_embedding + self.pos_encoding[:token_embedding.size(0), :])\n",
    "    \n",
    "    \n",
    "positional_encoding = PositionalEncoding(dim_model = 10, dropout_p=0.3, max_len=1200)\n",
    "tensor = torch.zeros((1,2,10))\n",
    "tensor\n",
    "encoded = positional_encoding(tensor)\n",
    "encoded"
   ]
  },
  {
   "cell_type": "code",
   "execution_count": 9,
   "metadata": {},
   "outputs": [],
   "source": [
    "class TSTransformer(nn.Module):\n",
    "    \"\"\"\n",
    "    Model from \"A detailed guide to Pytorch's nn.Transformer() module.\", by\n",
    "    Daniel Melchor: https://medium.com/@danielmelchor/a-detailed-guide-to-pytorchs-nn-transformer-module-c80afbc9ffb1\n",
    "    \"\"\"\n",
    "    # Constructor\n",
    "    def __init__(\n",
    "        self,\n",
    "        num_outputs,\n",
    "        src_dim,\n",
    "        tgt_dim,\n",
    "        src_heads,\n",
    "        tgt_heads,\n",
    "        num_encoder_layers,\n",
    "        num_decoder_layers,\n",
    "        dropout_p,\n",
    "        dim_feedforward =2048,\n",
    "        num_linear_layers=0,\n",
    "        norm_first=False\n",
    "    ):\n",
    "        super().__init__()\n",
    "\n",
    "        # INFO\n",
    "        self.model_type = \"Transformer\"\n",
    "        self.src_dim = src_dim\n",
    "        self.tgt_dim = tgt_dim\n",
    "\n",
    "        # LAYERS\n",
    "        \n",
    "        # MONTANDO O TRANSFORMER\n",
    "        # Encoder\n",
    "        encoder_layer = nn.TransformerEncoderLayer(\n",
    "            d_model=src_dim,\n",
    "            nhead=src_heads,\n",
    "            dim_feedforward=dim_feedforward,\n",
    "            dropout=dropout_p,\n",
    "            batch_first=True,\n",
    "            norm_first=norm_first\n",
    "        )\n",
    "        self.encoder = nn.TransformerEncoder(\n",
    "            encoder_layer = encoder_layer,\n",
    "            num_layers = num_encoder_layers,\n",
    "            norm=None,\n",
    "        )\n",
    "        \n",
    "        # Decoder\n",
    "        decoder_layer = nn.TransformerDecoderLayer(\n",
    "            d_model=tgt_dim,\n",
    "            nhead=tgt_heads,\n",
    "            dim_feedforward=dim_feedforward,\n",
    "            dropout=dropout_p,\n",
    "            batch_first=True,\n",
    "            norm_first=norm_first\n",
    "        )\n",
    "        self.decoder = nn.TransformerDecoder(\n",
    "            decoder_layer = decoder_layer,\n",
    "            num_layers = num_decoder_layers,\n",
    "            norm=None,\n",
    "        )\n",
    "            \n",
    "        # Como encoder e decoder podem ter dimenoes\n",
    "        self.memory_match = nn.Linear(src_dim, tgt_dim)\n",
    "        \n",
    "        self.linear_layers = nn.ModuleList()\n",
    "        for i in range(num_linear_layers):\n",
    "            self.linear_layers.append(nn.Linear(dim_model, dim_model))\n",
    "            self.linear_layers.append(nn.ReLU6())\n",
    "        self.out = nn.Linear(tgt_dim, num_outputs)\n",
    "        \n",
    "        \n",
    "    def forward(self, src, tgt, src_mask=None, tgt_mask=None, src_pad_mask=None, tgt_pad_mask=None, is_causal=False):\n",
    "        # Src size must be (batch_size, src sequence length)\n",
    "        # Tgt size must be (batch_size, tgt sequence length)\n",
    "        \n",
    "        \n",
    "        \n",
    "\n",
    "        # Step1 - Passing source through encoder\n",
    "        memory = self.encoder(src, \n",
    "                              mask=src_mask,\n",
    "                              src_key_padding_mask=src_pad_mask,\n",
    "                              is_causal=is_causal)\n",
    "        \n",
    "        # Step2 - Matching memory sahpe to tgt shape\n",
    "        memory = self.memory_match(memory)\n",
    "        \n",
    "        \n",
    "        # Step3 - Passing tgt and memory through decoder\n",
    "        #transformer_out = self.decoder(tgt, \n",
    "        #                               memory,\n",
    "        #                               tgt_mask=tgt_mask,\n",
    "        #                               memory_mask=src_mask,\n",
    "        #                               tgt_key_padding_mask=tgt_pad_mask,\n",
    "        #                               memory_key_padding_mask=src_pad_mask,\n",
    "        #                              )\n",
    "        \n",
    "        \n",
    "        for linear in self.linear_layers:\n",
    "            transformer_out = linear(transformer_out)\n",
    "        out = transformer_out\n",
    "        #out = torch.add(out, tgt)\n",
    "        #out = torch.concat([out, tgt], axis=-1)\n",
    "        \n",
    "        #recuperando informacao de escala\n",
    "        #out = torch.mul(out, tgt)\n",
    "        #bias = self.bias_layer(tgt)\n",
    "        #out = torch.add(out, bias)\n",
    "        #out = self.out(out)\n",
    "        \n",
    "        \n",
    "        return out\n",
    "      \n",
    "    def get_tgt_mask(self, size) -> torch.tensor:\n",
    "        # Generates a squeare matrix where the each row allows one word more to be seen\n",
    "        mask = torch.tril(torch.ones(size, size) == 1) # Lower triangular matrix\n",
    "        mask = mask.float()\n",
    "        mask = mask.masked_fill(mask == 0, False) # Convert zeros to -inf\n",
    "        mask = mask.masked_fill(mask == 1, True) # Convert ones to 0\n",
    "        \n",
    "        # EX for size=5:\n",
    "        # [[0., -inf, -inf, -inf, -inf],\n",
    "        #  [0.,   0., -inf, -inf, -inf],\n",
    "        #  [0.,   0.,   0., -inf, -inf],\n",
    "        #  [0.,   0.,   0.,   0., -inf],\n",
    "        #  [0.,   0.,   0.,   0.,   0.]]\n",
    "        \n",
    "        return mask\n",
    "    \n",
    "    def create_pad_mask(self, matrix: torch.tensor, pad_token: int) -> torch.tensor:\n",
    "        # If matrix = [1,2,3,0,0,0] where pad_token=0, the result mask is\n",
    "        # [False, False, False, True, True, True]\n",
    "        return (matrix == pad_token)"
   ]
  },
  {
   "cell_type": "code",
   "execution_count": 10,
   "metadata": {
    "tags": []
   },
   "outputs": [],
   "source": [
    "class Training:\n",
    "    \n",
    "    def __init__(self, epochs, loss, optimizer, scheduler, path, model_name='Transformer', model_size=8, early_stop=True, patience=5):\n",
    "        \n",
    "        self.loss = loss\n",
    "        self.optimizer = optimizer\n",
    "        self.scheduler = scheduler\n",
    "        self.epochs = epochs\n",
    "        self.path = path\n",
    "        self.model_name = model_name\n",
    "        self.model_size = model_size\n",
    "        self.early_stop_flag = early_stop\n",
    "        self.patience = patience\n",
    "        self.clear_results()\n",
    "        \n",
    "    def clear_results(self):\n",
    "        \n",
    "        self.results = {\n",
    "            'Train':[],\n",
    "            'Validation':[],\n",
    "            'Test':[],\n",
    "        }\n",
    "        \n",
    "    def fit(self, model, train_loader, validation_loader, test_loader):\n",
    "        \n",
    "        self.clear_results()\n",
    "        torch.cuda.empty_cache()\n",
    "        decrease = self.patience\n",
    "        not_improved = 0\n",
    "        \n",
    "        model.to(device)\n",
    "        fit_time = time.time()\n",
    "        \n",
    "        for e in range(self.epochs):\n",
    "            since = time.time()\n",
    "            running_loss = 0\n",
    "            #training loop\n",
    "            model.train()\n",
    "            self.train_loop(model, train_loader)\n",
    "            model.eval()\n",
    "            self.validation_loop(model, validation_loader)\n",
    "            self.test_loop(model, test_loader)\n",
    "            decrease, not_improved = self.early_stopping(validation_loader, decrease)\n",
    "            if not_improved == 1 and self.early_stop_flag:\n",
    "                print('[***] end training ...') \n",
    "                break\n",
    "            loss_per_training_batch = self.results['Train'][-1]\n",
    "            loss_per_validation_batch = self.results['Validation'][-1]\n",
    "            loss_per_test_batch = self.results['Test'][-1]\n",
    "            print(\"Epoch:{}/{}..\".format(e+1, self.epochs),\n",
    "                  \"Train Loss: {:.3f}..\".format(loss_per_training_batch),\n",
    "                  \"Val Loss: {:.3f}..\".format(loss_per_validation_batch),\n",
    "                  \"Test Loss: {:.3f}..\".format(loss_per_test_batch),\n",
    "                  \"Time: {:.2f}m\".format((time.time()-since)/60))\n",
    "        print('Total time: {:.2f} m' .format((time.time()- fit_time)/60))\n",
    "        \n",
    "    def train_loop(self, model, train_loader):\n",
    "        \n",
    "        mask = model.get_tgt_mask(self.model_size).to(device)\n",
    "        running_loss = 0.0\n",
    "        for i, data in enumerate(tqdm(train_loader)):\n",
    "            #training phase\n",
    "            X, y_tgt, y_out = data\n",
    "            X, y_tgt, y_out = X.to(device), y_tgt.to(device), y_out.to(device)\n",
    "            \n",
    "            output = model(X, y_tgt, src_mask=mask, tgt_mask=mask)\n",
    "            #print(X.shape, y_tgt.shape, y_out.shape, output.shape)\n",
    "            loss = self.loss(output, y_out)\n",
    "            #backward\n",
    "            loss.backward()\n",
    "            self.optimizer.step() #update weight          \n",
    "            self.optimizer.zero_grad() #reset gradient\n",
    "            \n",
    "            #step the learning rate\n",
    "            if not self.scheduler is None:\n",
    "                self.scheduler.step()\n",
    "            running_loss += loss.item()\n",
    "        \n",
    "        self.results['Train'].append(running_loss/len(train_loader))\n",
    "    \n",
    "    \n",
    "    def validation_loop(self, model, validation_loader):\n",
    "        \n",
    "        mask = model.get_tgt_mask(self.model_size).to(device)\n",
    "        running_loss = 0.0\n",
    "        with torch.no_grad():\n",
    "            for i, data in enumerate(tqdm(validation_loader)):\n",
    "                #training phase\n",
    "                X, y_tgt, y_out = data\n",
    "                X, y_tgt, y_out = X.to(device), y_tgt.to(device), y_out.to(device)\n",
    "                \n",
    "                output = model(X, y_tgt, src_mask=mask, tgt_mask=mask)\n",
    "                loss = self.loss(output, y_out)\n",
    "                \n",
    "                running_loss += loss.item()\n",
    "        \n",
    "        self.results['Validation'].append(running_loss/len(validation_loader))\n",
    "        \n",
    "    def test_loop(self, model, test_loader):\n",
    "        \n",
    "        mask = model.get_tgt_mask(self.model_size).to(device)\n",
    "        running_loss = 0.0\n",
    "        with torch.no_grad():\n",
    "            for i, data in enumerate(tqdm(test_loader)):\n",
    "                #training phase\n",
    "                X, y_tgt, y_out = data\n",
    "                X, y_tgt, y_out = X.to(device), y_tgt.to(device), y_out.to(device)\n",
    "                \n",
    "                output = model(X, y_tgt, src_mask=mask, tgt_mask=mask)\n",
    "                loss = self.loss(output, y_out)\n",
    "                \n",
    "                running_loss += loss.item()\n",
    "        \n",
    "        self.results['Test'].append(running_loss/len(test_loader))\n",
    "        \n",
    "    def early_stopping(self, validation_loader, decrease):\n",
    "        \n",
    "        loss_per_validation_batch = self.results['Validation'][-1]\n",
    "        min_loss = np.min(self.results['Validation'][:-1] + [np.inf])\n",
    "        if min_loss >= self.results['Validation'][-1]:\n",
    "            print('Loss Decreasing.. {:.3f} >> {:.3f} '.format(min_loss, loss_per_validation_batch))\n",
    "            decrease = self.patience\n",
    "            print('saving model...')\n",
    "            torch.save(model, self.path + f'/{self.model_name}.pt')\n",
    "        else:\n",
    "            decrease -= 1\n",
    "        if decrease < 0:     \n",
    "                not_improved = 1\n",
    "        else:\n",
    "            not_improved = 0\n",
    "        return decrease, not_improved\n",
    "    \n",
    "    def get_best_model(self):\n",
    "        \n",
    "        model = torch.load(self.path + f'/{self.model_name}.pt')\n",
    "        return model\n",
    "            \n",
    "            "
   ]
  },
  {
   "cell_type": "code",
   "execution_count": 11,
   "metadata": {
    "tags": []
   },
   "outputs": [
    {
     "name": "stdout",
     "output_type": "stream",
     "text": [
      "TSTransformer(\n",
      "  (encoder): TransformerEncoder(\n",
      "    (layers): ModuleList(\n",
      "      (0-23): 24 x TransformerEncoderLayer(\n",
      "        (self_attn): MultiheadAttention(\n",
      "          (out_proj): NonDynamicallyQuantizableLinear(in_features=5, out_features=5, bias=True)\n",
      "        )\n",
      "        (linear1): Linear(in_features=5, out_features=20, bias=True)\n",
      "        (dropout): Dropout(p=0.1, inplace=False)\n",
      "        (linear2): Linear(in_features=20, out_features=5, bias=True)\n",
      "        (norm1): LayerNorm((5,), eps=1e-05, elementwise_affine=True)\n",
      "        (norm2): LayerNorm((5,), eps=1e-05, elementwise_affine=True)\n",
      "        (dropout1): Dropout(p=0.1, inplace=False)\n",
      "        (dropout2): Dropout(p=0.1, inplace=False)\n",
      "      )\n",
      "    )\n",
      "  )\n",
      "  (decoder): TransformerDecoder(\n",
      "    (layers): ModuleList(\n",
      "      (0-23): 24 x TransformerDecoderLayer(\n",
      "        (self_attn): MultiheadAttention(\n",
      "          (out_proj): NonDynamicallyQuantizableLinear(in_features=1, out_features=1, bias=True)\n",
      "        )\n",
      "        (multihead_attn): MultiheadAttention(\n",
      "          (out_proj): NonDynamicallyQuantizableLinear(in_features=1, out_features=1, bias=True)\n",
      "        )\n",
      "        (linear1): Linear(in_features=1, out_features=20, bias=True)\n",
      "        (dropout): Dropout(p=0.1, inplace=False)\n",
      "        (linear2): Linear(in_features=20, out_features=1, bias=True)\n",
      "        (norm1): LayerNorm((1,), eps=1e-05, elementwise_affine=True)\n",
      "        (norm2): LayerNorm((1,), eps=1e-05, elementwise_affine=True)\n",
      "        (norm3): LayerNorm((1,), eps=1e-05, elementwise_affine=True)\n",
      "        (dropout1): Dropout(p=0.1, inplace=False)\n",
      "        (dropout2): Dropout(p=0.1, inplace=False)\n",
      "        (dropout3): Dropout(p=0.1, inplace=False)\n",
      "      )\n",
      "    )\n",
      "  )\n",
      "  (memory_match): Linear(in_features=5, out_features=1, bias=True)\n",
      "  (linear_layers): ModuleList()\n",
      "  (out): Linear(in_features=1, out_features=1, bias=True)\n",
      ")\n"
     ]
    }
   ],
   "source": [
    "model = TSTransformer(\n",
    "    num_outputs=1,\n",
    "    src_dim=5,\n",
    "    tgt_dim=1,\n",
    "    src_heads=5,\n",
    "    tgt_heads=1,\n",
    "    num_encoder_layers=24,\n",
    "    num_decoder_layers=24,\n",
    "    dropout_p=0.1,\n",
    "    dim_feedforward =20,\n",
    "    num_linear_layers=0,\n",
    "    norm_first=False,\n",
    ").to(device)\n",
    "\n",
    "print(model)\n",
    "\n",
    "lr_ = 5e-4\n",
    "epoch = 1000\n",
    "weight_decay = 1e-4\n",
    "path = '.'\n",
    "model_name = 'TRANSPOSED'\n",
    "\n",
    "loss = torch.nn.MSELoss()\n",
    "#optimizer = torch.optim.Adam(model.parameters(), lr=lr_)\n",
    "#optimizer = torch.optim.SGD(model.parameters(), lr=lr_)\n",
    "optimizer = torch.optim.AdamW(model.parameters(), lr=lr_, weight_decay=weight_decay)\n",
    "sched = None\n",
    "sched = torch.optim.lr_scheduler.OneCycleLR(optimizer, lr_, epochs=epoch,\n",
    "                                            steps_per_epoch=len(train_loader))\n",
    "training = Training(epoch, loss, optimizer, sched, model_name=model_name, model_size = dataset.max_sequence, path=path, early_stop=False, patience=20)"
   ]
  },
  {
   "cell_type": "code",
   "execution_count": 12,
   "metadata": {
    "tags": []
   },
   "outputs": [
    {
     "name": "stderr",
     "output_type": "stream",
     "text": [
      "100%|██████████| 106/106 [00:16<00:00,  6.48it/s]\n",
      "  0%|          | 0/18 [00:00<?, ?it/s]/projetos/c5ef/venvs/dl_raul/lib64/python3.9/site-packages/torch/nn/modules/activation.py:1160: UserWarning: Converting mask without torch.bool dtype to bool; this will negatively affect performance. Prefer to use a boolean mask directly. (Triggered internally at ../aten/src/ATen/native/transformers/attention.cpp:150.)\n",
      "  return torch._native_multi_head_attention(\n",
      "100%|██████████| 18/18 [00:00<00:00, 38.68it/s]\n",
      "100%|██████████| 53/53 [00:01<00:00, 41.57it/s]\n"
     ]
    },
    {
     "name": "stdout",
     "output_type": "stream",
     "text": [
      "Loss Decreasing.. inf >> 0.333 \n",
      "saving model...\n",
      "Epoch:1/1000.. Train Loss: 0.345.. Val Loss: 0.333.. Test Loss: 0.338.. Time: 0.30m\n"
     ]
    },
    {
     "name": "stderr",
     "output_type": "stream",
     "text": [
      "100%|██████████| 106/106 [00:12<00:00,  8.18it/s]\n",
      "100%|██████████| 18/18 [00:00<00:00, 41.81it/s]\n",
      "100%|██████████| 53/53 [00:01<00:00, 41.45it/s]\n"
     ]
    },
    {
     "name": "stdout",
     "output_type": "stream",
     "text": [
      "Epoch:2/1000.. Train Loss: 0.344.. Val Loss: 0.366.. Test Loss: 0.334.. Time: 0.25m\n"
     ]
    },
    {
     "name": "stderr",
     "output_type": "stream",
     "text": [
      "100%|██████████| 106/106 [00:12<00:00,  8.40it/s]\n",
      "100%|██████████| 18/18 [00:00<00:00, 42.15it/s]\n",
      "100%|██████████| 53/53 [00:01<00:00, 40.52it/s]\n"
     ]
    },
    {
     "name": "stdout",
     "output_type": "stream",
     "text": [
      "Epoch:3/1000.. Train Loss: 0.342.. Val Loss: 0.359.. Test Loss: 0.332.. Time: 0.24m\n"
     ]
    },
    {
     "name": "stderr",
     "output_type": "stream",
     "text": [
      "100%|██████████| 106/106 [00:12<00:00,  8.52it/s]\n",
      "100%|██████████| 18/18 [00:00<00:00, 41.90it/s]\n",
      "100%|██████████| 53/53 [00:01<00:00, 41.56it/s]\n"
     ]
    },
    {
     "name": "stdout",
     "output_type": "stream",
     "text": [
      "Epoch:4/1000.. Train Loss: 0.339.. Val Loss: 0.355.. Test Loss: 0.345.. Time: 0.24m\n"
     ]
    },
    {
     "name": "stderr",
     "output_type": "stream",
     "text": [
      "100%|██████████| 106/106 [00:12<00:00,  8.36it/s]\n",
      "100%|██████████| 18/18 [00:00<00:00, 41.78it/s]\n",
      "100%|██████████| 53/53 [00:01<00:00, 41.79it/s]\n"
     ]
    },
    {
     "name": "stdout",
     "output_type": "stream",
     "text": [
      "Epoch:5/1000.. Train Loss: 0.339.. Val Loss: 0.345.. Test Loss: 0.332.. Time: 0.24m\n"
     ]
    },
    {
     "name": "stderr",
     "output_type": "stream",
     "text": [
      "100%|██████████| 106/106 [00:12<00:00,  8.48it/s]\n",
      "100%|██████████| 18/18 [00:00<00:00, 41.38it/s]\n",
      "100%|██████████| 53/53 [00:01<00:00, 41.54it/s]\n"
     ]
    },
    {
     "name": "stdout",
     "output_type": "stream",
     "text": [
      "Loss Decreasing.. 0.333 >> 0.326 \n",
      "saving model...\n",
      "Epoch:6/1000.. Train Loss: 0.338.. Val Loss: 0.326.. Test Loss: 0.341.. Time: 0.24m\n"
     ]
    },
    {
     "name": "stderr",
     "output_type": "stream",
     "text": [
      "100%|██████████| 106/106 [00:12<00:00,  8.27it/s]\n",
      "100%|██████████| 18/18 [00:00<00:00, 41.57it/s]\n",
      "100%|██████████| 53/53 [00:01<00:00, 40.76it/s]\n"
     ]
    },
    {
     "name": "stdout",
     "output_type": "stream",
     "text": [
      "Loss Decreasing.. 0.326 >> 0.325 \n",
      "saving model...\n",
      "Epoch:7/1000.. Train Loss: 0.336.. Val Loss: 0.325.. Test Loss: 0.328.. Time: 0.24m\n"
     ]
    },
    {
     "name": "stderr",
     "output_type": "stream",
     "text": [
      "100%|██████████| 106/106 [00:11<00:00,  9.43it/s]\n",
      "100%|██████████| 18/18 [00:00<00:00, 41.26it/s]\n",
      "100%|██████████| 53/53 [00:01<00:00, 41.55it/s]\n"
     ]
    },
    {
     "name": "stdout",
     "output_type": "stream",
     "text": [
      "Epoch:8/1000.. Train Loss: 0.333.. Val Loss: 0.338.. Test Loss: 0.337.. Time: 0.22m\n"
     ]
    },
    {
     "name": "stderr",
     "output_type": "stream",
     "text": [
      "100%|██████████| 106/106 [00:11<00:00,  9.57it/s]\n",
      "100%|██████████| 18/18 [00:00<00:00, 40.24it/s]\n",
      "100%|██████████| 53/53 [00:01<00:00, 41.45it/s]\n"
     ]
    },
    {
     "name": "stdout",
     "output_type": "stream",
     "text": [
      "Epoch:9/1000.. Train Loss: 0.330.. Val Loss: 0.330.. Test Loss: 0.325.. Time: 0.21m\n"
     ]
    },
    {
     "name": "stderr",
     "output_type": "stream",
     "text": [
      "100%|██████████| 106/106 [00:12<00:00,  8.46it/s]\n",
      "100%|██████████| 18/18 [00:00<00:00, 40.47it/s]\n",
      "100%|██████████| 53/53 [00:01<00:00, 41.38it/s]\n"
     ]
    },
    {
     "name": "stdout",
     "output_type": "stream",
     "text": [
      "Epoch:10/1000.. Train Loss: 0.331.. Val Loss: 0.362.. Test Loss: 0.325.. Time: 0.24m\n"
     ]
    },
    {
     "name": "stderr",
     "output_type": "stream",
     "text": [
      "100%|██████████| 106/106 [00:13<00:00,  8.09it/s]\n",
      "100%|██████████| 18/18 [00:00<00:00, 41.70it/s]\n",
      "100%|██████████| 53/53 [00:01<00:00, 41.74it/s]\n"
     ]
    },
    {
     "name": "stdout",
     "output_type": "stream",
     "text": [
      "Loss Decreasing.. 0.325 >> 0.320 \n",
      "saving model...\n",
      "Epoch:11/1000.. Train Loss: 0.327.. Val Loss: 0.320.. Test Loss: 0.323.. Time: 0.25m\n"
     ]
    },
    {
     "name": "stderr",
     "output_type": "stream",
     "text": [
      "100%|██████████| 106/106 [00:12<00:00,  8.28it/s]\n",
      "100%|██████████| 18/18 [00:00<00:00, 40.05it/s]\n",
      "100%|██████████| 53/53 [00:01<00:00, 40.94it/s]\n"
     ]
    },
    {
     "name": "stdout",
     "output_type": "stream",
     "text": [
      "Loss Decreasing.. 0.320 >> 0.318 \n",
      "saving model...\n",
      "Epoch:12/1000.. Train Loss: 0.325.. Val Loss: 0.318.. Test Loss: 0.324.. Time: 0.24m\n"
     ]
    },
    {
     "name": "stderr",
     "output_type": "stream",
     "text": [
      "100%|██████████| 106/106 [00:12<00:00,  8.52it/s]\n",
      "100%|██████████| 18/18 [00:00<00:00, 41.57it/s]\n",
      "100%|██████████| 53/53 [00:01<00:00, 40.83it/s]\n"
     ]
    },
    {
     "name": "stdout",
     "output_type": "stream",
     "text": [
      "Loss Decreasing.. 0.318 >> 0.317 \n",
      "saving model...\n",
      "Epoch:13/1000.. Train Loss: 0.327.. Val Loss: 0.317.. Test Loss: 0.325.. Time: 0.24m\n"
     ]
    },
    {
     "name": "stderr",
     "output_type": "stream",
     "text": [
      "100%|██████████| 106/106 [00:13<00:00,  8.05it/s]\n",
      "100%|██████████| 18/18 [00:00<00:00, 41.10it/s]\n",
      "100%|██████████| 53/53 [00:01<00:00, 41.14it/s]\n"
     ]
    },
    {
     "name": "stdout",
     "output_type": "stream",
     "text": [
      "Loss Decreasing.. 0.317 >> 0.315 \n",
      "saving model...\n",
      "Epoch:14/1000.. Train Loss: 0.323.. Val Loss: 0.315.. Test Loss: 0.316.. Time: 0.25m\n"
     ]
    },
    {
     "name": "stderr",
     "output_type": "stream",
     "text": [
      "100%|██████████| 106/106 [00:13<00:00,  8.06it/s]\n",
      "100%|██████████| 18/18 [00:00<00:00, 41.38it/s]\n",
      "100%|██████████| 53/53 [00:01<00:00, 41.64it/s]\n"
     ]
    },
    {
     "name": "stdout",
     "output_type": "stream",
     "text": [
      "Epoch:15/1000.. Train Loss: 0.321.. Val Loss: 0.345.. Test Loss: 0.321.. Time: 0.25m\n"
     ]
    },
    {
     "name": "stderr",
     "output_type": "stream",
     "text": [
      "100%|██████████| 106/106 [00:13<00:00,  8.14it/s]\n",
      "100%|██████████| 18/18 [00:00<00:00, 41.52it/s]\n",
      "100%|██████████| 53/53 [00:01<00:00, 41.32it/s]\n"
     ]
    },
    {
     "name": "stdout",
     "output_type": "stream",
     "text": [
      "Epoch:16/1000.. Train Loss: 0.319.. Val Loss: 0.324.. Test Loss: 0.313.. Time: 0.25m\n"
     ]
    },
    {
     "name": "stderr",
     "output_type": "stream",
     "text": [
      "100%|██████████| 106/106 [00:12<00:00,  8.49it/s]\n",
      "100%|██████████| 18/18 [00:00<00:00, 40.65it/s]\n",
      "100%|██████████| 53/53 [00:01<00:00, 42.00it/s]\n"
     ]
    },
    {
     "name": "stdout",
     "output_type": "stream",
     "text": [
      "Epoch:17/1000.. Train Loss: 0.318.. Val Loss: 0.330.. Test Loss: 0.311.. Time: 0.24m\n"
     ]
    },
    {
     "name": "stderr",
     "output_type": "stream",
     "text": [
      "100%|██████████| 106/106 [00:12<00:00,  8.31it/s]\n",
      "100%|██████████| 18/18 [00:00<00:00, 40.74it/s]\n",
      "100%|██████████| 53/53 [00:01<00:00, 41.28it/s]\n"
     ]
    },
    {
     "name": "stdout",
     "output_type": "stream",
     "text": [
      "Loss Decreasing.. 0.315 >> 0.310 \n",
      "saving model...\n",
      "Epoch:18/1000.. Train Loss: 0.316.. Val Loss: 0.310.. Test Loss: 0.323.. Time: 0.24m\n"
     ]
    },
    {
     "name": "stderr",
     "output_type": "stream",
     "text": [
      "100%|██████████| 106/106 [00:13<00:00,  8.09it/s]\n",
      "100%|██████████| 18/18 [00:00<00:00, 42.22it/s]\n",
      "100%|██████████| 53/53 [00:01<00:00, 41.87it/s]\n"
     ]
    },
    {
     "name": "stdout",
     "output_type": "stream",
     "text": [
      "Epoch:19/1000.. Train Loss: 0.312.. Val Loss: 0.311.. Test Loss: 0.311.. Time: 0.25m\n"
     ]
    },
    {
     "name": "stderr",
     "output_type": "stream",
     "text": [
      "100%|██████████| 106/106 [00:12<00:00,  8.24it/s]\n",
      "100%|██████████| 18/18 [00:00<00:00, 42.00it/s]\n",
      "100%|██████████| 53/53 [00:01<00:00, 42.04it/s]\n"
     ]
    },
    {
     "name": "stdout",
     "output_type": "stream",
     "text": [
      "Loss Decreasing.. 0.310 >> 0.307 \n",
      "saving model...\n",
      "Epoch:20/1000.. Train Loss: 0.311.. Val Loss: 0.307.. Test Loss: 0.307.. Time: 0.24m\n"
     ]
    },
    {
     "name": "stderr",
     "output_type": "stream",
     "text": [
      "100%|██████████| 106/106 [00:12<00:00,  8.42it/s]\n",
      "100%|██████████| 18/18 [00:00<00:00, 41.77it/s]\n",
      "100%|██████████| 53/53 [00:01<00:00, 41.95it/s]\n"
     ]
    },
    {
     "name": "stdout",
     "output_type": "stream",
     "text": [
      "Epoch:21/1000.. Train Loss: 0.309.. Val Loss: 0.314.. Test Loss: 0.314.. Time: 0.24m\n"
     ]
    },
    {
     "name": "stderr",
     "output_type": "stream",
     "text": [
      "100%|██████████| 106/106 [00:11<00:00,  9.46it/s]\n",
      "100%|██████████| 18/18 [00:00<00:00, 41.97it/s]\n",
      "100%|██████████| 53/53 [00:01<00:00, 41.85it/s]\n"
     ]
    },
    {
     "name": "stdout",
     "output_type": "stream",
     "text": [
      "Loss Decreasing.. 0.307 >> 0.304 \n",
      "saving model...\n",
      "Epoch:22/1000.. Train Loss: 0.306.. Val Loss: 0.304.. Test Loss: 0.303.. Time: 0.22m\n"
     ]
    },
    {
     "name": "stderr",
     "output_type": "stream",
     "text": [
      "100%|██████████| 106/106 [00:12<00:00,  8.57it/s]\n",
      "100%|██████████| 18/18 [00:00<00:00, 41.87it/s]\n",
      "100%|██████████| 53/53 [00:01<00:00, 41.82it/s]\n"
     ]
    },
    {
     "name": "stdout",
     "output_type": "stream",
     "text": [
      "Epoch:23/1000.. Train Loss: 0.306.. Val Loss: 0.311.. Test Loss: 0.310.. Time: 0.24m\n"
     ]
    },
    {
     "name": "stderr",
     "output_type": "stream",
     "text": [
      "100%|██████████| 106/106 [00:12<00:00,  8.40it/s]\n",
      "100%|██████████| 18/18 [00:00<00:00, 42.38it/s]\n",
      "100%|██████████| 53/53 [00:01<00:00, 42.41it/s]\n"
     ]
    },
    {
     "name": "stdout",
     "output_type": "stream",
     "text": [
      "Epoch:24/1000.. Train Loss: 0.304.. Val Loss: 0.322.. Test Loss: 0.304.. Time: 0.24m\n"
     ]
    },
    {
     "name": "stderr",
     "output_type": "stream",
     "text": [
      "100%|██████████| 106/106 [00:12<00:00,  8.33it/s]\n",
      "100%|██████████| 18/18 [00:00<00:00, 41.99it/s]\n",
      "100%|██████████| 53/53 [00:01<00:00, 41.96it/s]\n"
     ]
    },
    {
     "name": "stdout",
     "output_type": "stream",
     "text": [
      "Epoch:25/1000.. Train Loss: 0.303.. Val Loss: 0.305.. Test Loss: 0.298.. Time: 0.24m\n"
     ]
    },
    {
     "name": "stderr",
     "output_type": "stream",
     "text": [
      "100%|██████████| 106/106 [00:12<00:00,  8.48it/s]\n",
      "100%|██████████| 18/18 [00:00<00:00, 40.99it/s]\n",
      "100%|██████████| 53/53 [00:01<00:00, 40.98it/s]\n"
     ]
    },
    {
     "name": "stdout",
     "output_type": "stream",
     "text": [
      "Epoch:26/1000.. Train Loss: 0.299.. Val Loss: 0.333.. Test Loss: 0.306.. Time: 0.24m\n"
     ]
    },
    {
     "name": "stderr",
     "output_type": "stream",
     "text": [
      "100%|██████████| 106/106 [00:12<00:00,  8.62it/s]\n",
      "100%|██████████| 18/18 [00:00<00:00, 42.16it/s]\n",
      "100%|██████████| 53/53 [00:01<00:00, 42.43it/s]\n"
     ]
    },
    {
     "name": "stdout",
     "output_type": "stream",
     "text": [
      "Loss Decreasing.. 0.304 >> 0.296 \n",
      "saving model...\n",
      "Epoch:27/1000.. Train Loss: 0.301.. Val Loss: 0.296.. Test Loss: 0.297.. Time: 0.24m\n"
     ]
    },
    {
     "name": "stderr",
     "output_type": "stream",
     "text": [
      "100%|██████████| 106/106 [00:12<00:00,  8.45it/s]\n",
      "100%|██████████| 18/18 [00:00<00:00, 41.82it/s]\n",
      "100%|██████████| 53/53 [00:01<00:00, 41.78it/s]\n"
     ]
    },
    {
     "name": "stdout",
     "output_type": "stream",
     "text": [
      "Epoch:28/1000.. Train Loss: 0.298.. Val Loss: 0.300.. Test Loss: 0.297.. Time: 0.24m\n"
     ]
    },
    {
     "name": "stderr",
     "output_type": "stream",
     "text": [
      "100%|██████████| 106/106 [00:12<00:00,  8.44it/s]\n",
      "100%|██████████| 18/18 [00:00<00:00, 41.87it/s]\n",
      "100%|██████████| 53/53 [00:01<00:00, 41.83it/s]\n"
     ]
    },
    {
     "name": "stdout",
     "output_type": "stream",
     "text": [
      "Epoch:29/1000.. Train Loss: 0.292.. Val Loss: 0.313.. Test Loss: 0.291.. Time: 0.24m\n"
     ]
    },
    {
     "name": "stderr",
     "output_type": "stream",
     "text": [
      "100%|██████████| 106/106 [00:12<00:00,  8.63it/s]\n",
      "100%|██████████| 18/18 [00:00<00:00, 42.26it/s]\n",
      "100%|██████████| 53/53 [00:01<00:00, 42.55it/s]\n"
     ]
    },
    {
     "name": "stdout",
     "output_type": "stream",
     "text": [
      "Loss Decreasing.. 0.296 >> 0.295 \n",
      "saving model...\n",
      "Epoch:30/1000.. Train Loss: 0.290.. Val Loss: 0.295.. Test Loss: 0.295.. Time: 0.23m\n"
     ]
    },
    {
     "name": "stderr",
     "output_type": "stream",
     "text": [
      "100%|██████████| 106/106 [00:12<00:00,  8.38it/s]\n",
      "100%|██████████| 18/18 [00:00<00:00, 41.84it/s]\n",
      "100%|██████████| 53/53 [00:01<00:00, 42.03it/s]\n"
     ]
    },
    {
     "name": "stdout",
     "output_type": "stream",
     "text": [
      "Epoch:31/1000.. Train Loss: 0.288.. Val Loss: 0.318.. Test Loss: 0.288.. Time: 0.24m\n"
     ]
    },
    {
     "name": "stderr",
     "output_type": "stream",
     "text": [
      "100%|██████████| 106/106 [00:12<00:00,  8.64it/s]\n",
      "100%|██████████| 18/18 [00:00<00:00, 41.81it/s]\n",
      "100%|██████████| 53/53 [00:01<00:00, 41.93it/s]\n"
     ]
    },
    {
     "name": "stdout",
     "output_type": "stream",
     "text": [
      "Epoch:32/1000.. Train Loss: 0.284.. Val Loss: 0.297.. Test Loss: 0.286.. Time: 0.23m\n"
     ]
    },
    {
     "name": "stderr",
     "output_type": "stream",
     "text": [
      "100%|██████████| 106/106 [00:12<00:00,  8.53it/s]\n",
      "100%|██████████| 18/18 [00:00<00:00, 42.34it/s]\n",
      "100%|██████████| 53/53 [00:01<00:00, 42.25it/s]\n"
     ]
    },
    {
     "name": "stdout",
     "output_type": "stream",
     "text": [
      "Loss Decreasing.. 0.295 >> 0.286 \n",
      "saving model...\n",
      "Epoch:33/1000.. Train Loss: 0.284.. Val Loss: 0.286.. Test Loss: 0.285.. Time: 0.24m\n"
     ]
    },
    {
     "name": "stderr",
     "output_type": "stream",
     "text": [
      "100%|██████████| 106/106 [00:12<00:00,  8.52it/s]\n",
      "100%|██████████| 18/18 [00:00<00:00, 42.00it/s]\n",
      "100%|██████████| 53/53 [00:01<00:00, 42.16it/s]\n"
     ]
    },
    {
     "name": "stdout",
     "output_type": "stream",
     "text": [
      "Epoch:34/1000.. Train Loss: 0.281.. Val Loss: 0.308.. Test Loss: 0.283.. Time: 0.24m\n"
     ]
    },
    {
     "name": "stderr",
     "output_type": "stream",
     "text": [
      "100%|██████████| 106/106 [00:12<00:00,  8.50it/s]\n",
      "100%|██████████| 18/18 [00:00<00:00, 41.87it/s]\n",
      "100%|██████████| 53/53 [00:01<00:00, 41.81it/s]\n"
     ]
    },
    {
     "name": "stdout",
     "output_type": "stream",
     "text": [
      "Epoch:35/1000.. Train Loss: 0.278.. Val Loss: 0.310.. Test Loss: 0.286.. Time: 0.24m\n"
     ]
    },
    {
     "name": "stderr",
     "output_type": "stream",
     "text": [
      "100%|██████████| 106/106 [00:12<00:00,  8.29it/s]\n",
      "100%|██████████| 18/18 [00:00<00:00, 41.40it/s]\n",
      "100%|██████████| 53/53 [00:01<00:00, 40.24it/s]\n"
     ]
    },
    {
     "name": "stdout",
     "output_type": "stream",
     "text": [
      "Loss Decreasing.. 0.286 >> 0.283 \n",
      "saving model...\n",
      "Epoch:36/1000.. Train Loss: 0.277.. Val Loss: 0.283.. Test Loss: 0.283.. Time: 0.24m\n"
     ]
    },
    {
     "name": "stderr",
     "output_type": "stream",
     "text": [
      "100%|██████████| 106/106 [00:12<00:00,  8.52it/s]\n",
      "100%|██████████| 18/18 [00:00<00:00, 40.26it/s]\n",
      "100%|██████████| 53/53 [00:01<00:00, 40.23it/s]\n"
     ]
    },
    {
     "name": "stdout",
     "output_type": "stream",
     "text": [
      "Epoch:37/1000.. Train Loss: 0.272.. Val Loss: 0.312.. Test Loss: 0.276.. Time: 0.24m\n"
     ]
    },
    {
     "name": "stderr",
     "output_type": "stream",
     "text": [
      "100%|██████████| 106/106 [00:12<00:00,  8.48it/s]\n",
      "100%|██████████| 18/18 [00:00<00:00, 42.36it/s]\n",
      "100%|██████████| 53/53 [00:01<00:00, 42.54it/s]\n"
     ]
    },
    {
     "name": "stdout",
     "output_type": "stream",
     "text": [
      "Epoch:38/1000.. Train Loss: 0.271.. Val Loss: 0.289.. Test Loss: 0.277.. Time: 0.24m\n"
     ]
    },
    {
     "name": "stderr",
     "output_type": "stream",
     "text": [
      "100%|██████████| 106/106 [00:12<00:00,  8.41it/s]\n",
      "100%|██████████| 18/18 [00:00<00:00, 41.83it/s]\n",
      "100%|██████████| 53/53 [00:01<00:00, 41.97it/s]\n"
     ]
    },
    {
     "name": "stdout",
     "output_type": "stream",
     "text": [
      "Epoch:39/1000.. Train Loss: 0.267.. Val Loss: 0.310.. Test Loss: 0.277.. Time: 0.24m\n"
     ]
    },
    {
     "name": "stderr",
     "output_type": "stream",
     "text": [
      "100%|██████████| 106/106 [00:12<00:00,  8.33it/s]\n",
      "100%|██████████| 18/18 [00:00<00:00, 41.63it/s]\n",
      "100%|██████████| 53/53 [00:01<00:00, 42.06it/s]\n"
     ]
    },
    {
     "name": "stdout",
     "output_type": "stream",
     "text": [
      "Loss Decreasing.. 0.283 >> 0.278 \n",
      "saving model...\n",
      "Epoch:40/1000.. Train Loss: 0.266.. Val Loss: 0.278.. Test Loss: 0.275.. Time: 0.24m\n"
     ]
    },
    {
     "name": "stderr",
     "output_type": "stream",
     "text": [
      "100%|██████████| 106/106 [00:12<00:00,  8.46it/s]\n",
      "100%|██████████| 18/18 [00:00<00:00, 41.99it/s]\n",
      "100%|██████████| 53/53 [00:01<00:00, 41.82it/s]\n"
     ]
    },
    {
     "name": "stdout",
     "output_type": "stream",
     "text": [
      "Epoch:41/1000.. Train Loss: 0.263.. Val Loss: 0.294.. Test Loss: 0.273.. Time: 0.24m\n"
     ]
    },
    {
     "name": "stderr",
     "output_type": "stream",
     "text": [
      "100%|██████████| 106/106 [00:12<00:00,  8.23it/s]\n",
      "100%|██████████| 18/18 [00:00<00:00, 41.50it/s]\n",
      "100%|██████████| 53/53 [00:01<00:00, 41.74it/s]\n"
     ]
    },
    {
     "name": "stdout",
     "output_type": "stream",
     "text": [
      "Epoch:42/1000.. Train Loss: 0.261.. Val Loss: 0.281.. Test Loss: 0.273.. Time: 0.24m\n"
     ]
    },
    {
     "name": "stderr",
     "output_type": "stream",
     "text": [
      "100%|██████████| 106/106 [00:12<00:00,  8.30it/s]\n",
      "100%|██████████| 18/18 [00:00<00:00, 42.37it/s]\n",
      "100%|██████████| 53/53 [00:01<00:00, 42.04it/s]\n"
     ]
    },
    {
     "name": "stdout",
     "output_type": "stream",
     "text": [
      "Loss Decreasing.. 0.278 >> 0.271 \n",
      "saving model...\n",
      "Epoch:43/1000.. Train Loss: 0.258.. Val Loss: 0.271.. Test Loss: 0.272.. Time: 0.24m\n"
     ]
    },
    {
     "name": "stderr",
     "output_type": "stream",
     "text": [
      "100%|██████████| 106/106 [00:12<00:00,  8.35it/s]\n",
      "100%|██████████| 18/18 [00:00<00:00, 41.39it/s]\n",
      "100%|██████████| 53/53 [00:01<00:00, 41.38it/s]\n"
     ]
    },
    {
     "name": "stdout",
     "output_type": "stream",
     "text": [
      "Epoch:44/1000.. Train Loss: 0.257.. Val Loss: 0.279.. Test Loss: 0.266.. Time: 0.24m\n"
     ]
    },
    {
     "name": "stderr",
     "output_type": "stream",
     "text": [
      "100%|██████████| 106/106 [00:12<00:00,  8.27it/s]\n",
      "100%|██████████| 18/18 [00:00<00:00, 41.36it/s]\n",
      "100%|██████████| 53/53 [00:01<00:00, 41.49it/s]\n"
     ]
    },
    {
     "name": "stdout",
     "output_type": "stream",
     "text": [
      "Loss Decreasing.. 0.271 >> 0.264 \n",
      "saving model...\n",
      "Epoch:45/1000.. Train Loss: 0.252.. Val Loss: 0.264.. Test Loss: 0.260.. Time: 0.24m\n"
     ]
    },
    {
     "name": "stderr",
     "output_type": "stream",
     "text": [
      "100%|██████████| 106/106 [00:12<00:00,  8.47it/s]\n",
      "100%|██████████| 18/18 [00:00<00:00, 38.59it/s]\n",
      "100%|██████████| 53/53 [00:01<00:00, 39.68it/s]\n"
     ]
    },
    {
     "name": "stdout",
     "output_type": "stream",
     "text": [
      "Epoch:46/1000.. Train Loss: 0.250.. Val Loss: 0.283.. Test Loss: 0.258.. Time: 0.24m\n"
     ]
    },
    {
     "name": "stderr",
     "output_type": "stream",
     "text": [
      "100%|██████████| 106/106 [00:12<00:00,  8.44it/s]\n",
      "100%|██████████| 18/18 [00:00<00:00, 40.44it/s]\n",
      "100%|██████████| 53/53 [00:01<00:00, 40.69it/s]\n"
     ]
    },
    {
     "name": "stdout",
     "output_type": "stream",
     "text": [
      "Epoch:47/1000.. Train Loss: 0.247.. Val Loss: 0.267.. Test Loss: 0.256.. Time: 0.24m\n"
     ]
    },
    {
     "name": "stderr",
     "output_type": "stream",
     "text": [
      "100%|██████████| 106/106 [00:12<00:00,  8.32it/s]\n",
      "100%|██████████| 18/18 [00:00<00:00, 40.76it/s]\n",
      "100%|██████████| 53/53 [00:01<00:00, 40.55it/s]\n"
     ]
    },
    {
     "name": "stdout",
     "output_type": "stream",
     "text": [
      "Epoch:48/1000.. Train Loss: 0.248.. Val Loss: 0.268.. Test Loss: 0.256.. Time: 0.24m\n"
     ]
    },
    {
     "name": "stderr",
     "output_type": "stream",
     "text": [
      "100%|██████████| 106/106 [00:12<00:00,  8.43it/s]\n",
      "100%|██████████| 18/18 [00:00<00:00, 42.17it/s]\n",
      "100%|██████████| 53/53 [00:01<00:00, 41.94it/s]\n"
     ]
    },
    {
     "name": "stdout",
     "output_type": "stream",
     "text": [
      "Loss Decreasing.. 0.264 >> 0.264 \n",
      "saving model...\n",
      "Epoch:49/1000.. Train Loss: 0.242.. Val Loss: 0.264.. Test Loss: 0.255.. Time: 0.24m\n"
     ]
    },
    {
     "name": "stderr",
     "output_type": "stream",
     "text": [
      "100%|██████████| 106/106 [00:12<00:00,  8.60it/s]\n",
      "100%|██████████| 18/18 [00:00<00:00, 42.34it/s]\n",
      "100%|██████████| 53/53 [00:01<00:00, 42.04it/s]\n"
     ]
    },
    {
     "name": "stdout",
     "output_type": "stream",
     "text": [
      "Epoch:50/1000.. Train Loss: 0.243.. Val Loss: 0.277.. Test Loss: 0.254.. Time: 0.23m\n"
     ]
    },
    {
     "name": "stderr",
     "output_type": "stream",
     "text": [
      "100%|██████████| 106/106 [00:12<00:00,  8.56it/s]\n",
      "100%|██████████| 18/18 [00:00<00:00, 42.13it/s]\n",
      "100%|██████████| 53/53 [00:01<00:00, 41.97it/s]\n"
     ]
    },
    {
     "name": "stdout",
     "output_type": "stream",
     "text": [
      "Loss Decreasing.. 0.264 >> 0.253 \n",
      "saving model...\n",
      "Epoch:51/1000.. Train Loss: 0.237.. Val Loss: 0.253.. Test Loss: 0.254.. Time: 0.24m\n"
     ]
    },
    {
     "name": "stderr",
     "output_type": "stream",
     "text": [
      "100%|██████████| 106/106 [00:12<00:00,  8.26it/s]\n",
      "100%|██████████| 18/18 [00:00<00:00, 41.35it/s]\n",
      "100%|██████████| 53/53 [00:01<00:00, 41.54it/s]\n"
     ]
    },
    {
     "name": "stdout",
     "output_type": "stream",
     "text": [
      "Loss Decreasing.. 0.253 >> 0.252 \n",
      "saving model...\n",
      "Epoch:52/1000.. Train Loss: 0.234.. Val Loss: 0.252.. Test Loss: 0.247.. Time: 0.24m\n"
     ]
    },
    {
     "name": "stderr",
     "output_type": "stream",
     "text": [
      "100%|██████████| 106/106 [00:12<00:00,  8.38it/s]\n",
      "100%|██████████| 18/18 [00:00<00:00, 42.12it/s]\n",
      "100%|██████████| 53/53 [00:01<00:00, 42.09it/s]\n"
     ]
    },
    {
     "name": "stdout",
     "output_type": "stream",
     "text": [
      "Loss Decreasing.. 0.252 >> 0.250 \n",
      "saving model...\n",
      "Epoch:53/1000.. Train Loss: 0.232.. Val Loss: 0.250.. Test Loss: 0.246.. Time: 0.24m\n"
     ]
    },
    {
     "name": "stderr",
     "output_type": "stream",
     "text": [
      "100%|██████████| 106/106 [00:12<00:00,  8.48it/s]\n",
      "100%|██████████| 18/18 [00:00<00:00, 41.96it/s]\n",
      "100%|██████████| 53/53 [00:01<00:00, 42.04it/s]\n"
     ]
    },
    {
     "name": "stdout",
     "output_type": "stream",
     "text": [
      "Epoch:54/1000.. Train Loss: 0.228.. Val Loss: 0.250.. Test Loss: 0.245.. Time: 0.24m\n"
     ]
    },
    {
     "name": "stderr",
     "output_type": "stream",
     "text": [
      "100%|██████████| 106/106 [00:12<00:00,  8.45it/s]\n",
      "100%|██████████| 18/18 [00:00<00:00, 41.50it/s]\n",
      "100%|██████████| 53/53 [00:01<00:00, 42.19it/s]\n"
     ]
    },
    {
     "name": "stdout",
     "output_type": "stream",
     "text": [
      "Loss Decreasing.. 0.250 >> 0.246 \n",
      "saving model...\n",
      "Epoch:55/1000.. Train Loss: 0.226.. Val Loss: 0.246.. Test Loss: 0.244.. Time: 0.24m\n"
     ]
    },
    {
     "name": "stderr",
     "output_type": "stream",
     "text": [
      "100%|██████████| 106/106 [00:12<00:00,  8.65it/s]\n",
      "100%|██████████| 18/18 [00:00<00:00, 42.38it/s]\n",
      "100%|██████████| 53/53 [00:01<00:00, 39.97it/s]\n"
     ]
    },
    {
     "name": "stdout",
     "output_type": "stream",
     "text": [
      "Epoch:56/1000.. Train Loss: 0.223.. Val Loss: 0.256.. Test Loss: 0.244.. Time: 0.23m\n"
     ]
    },
    {
     "name": "stderr",
     "output_type": "stream",
     "text": [
      "100%|██████████| 106/106 [00:12<00:00,  8.56it/s]\n",
      "100%|██████████| 18/18 [00:00<00:00, 42.25it/s]\n",
      "100%|██████████| 53/53 [00:01<00:00, 42.30it/s]\n"
     ]
    },
    {
     "name": "stdout",
     "output_type": "stream",
     "text": [
      "Epoch:57/1000.. Train Loss: 0.224.. Val Loss: 0.260.. Test Loss: 0.241.. Time: 0.24m\n"
     ]
    },
    {
     "name": "stderr",
     "output_type": "stream",
     "text": [
      "100%|██████████| 106/106 [00:12<00:00,  8.36it/s]\n",
      "100%|██████████| 18/18 [00:00<00:00, 41.13it/s]\n",
      "100%|██████████| 53/53 [00:01<00:00, 42.26it/s]\n"
     ]
    },
    {
     "name": "stdout",
     "output_type": "stream",
     "text": [
      "Epoch:58/1000.. Train Loss: 0.218.. Val Loss: 0.254.. Test Loss: 0.238.. Time: 0.24m\n"
     ]
    },
    {
     "name": "stderr",
     "output_type": "stream",
     "text": [
      "100%|██████████| 106/106 [00:12<00:00,  8.32it/s]\n",
      "100%|██████████| 18/18 [00:00<00:00, 42.31it/s]\n",
      "100%|██████████| 53/53 [00:01<00:00, 42.78it/s]\n"
     ]
    },
    {
     "name": "stdout",
     "output_type": "stream",
     "text": [
      "Loss Decreasing.. 0.246 >> 0.239 \n",
      "saving model...\n",
      "Epoch:59/1000.. Train Loss: 0.214.. Val Loss: 0.239.. Test Loss: 0.235.. Time: 0.24m\n"
     ]
    },
    {
     "name": "stderr",
     "output_type": "stream",
     "text": [
      "100%|██████████| 106/106 [00:12<00:00,  8.45it/s]\n",
      "100%|██████████| 18/18 [00:00<00:00, 42.53it/s]\n",
      "100%|██████████| 53/53 [00:01<00:00, 42.27it/s]\n"
     ]
    },
    {
     "name": "stdout",
     "output_type": "stream",
     "text": [
      "Epoch:60/1000.. Train Loss: 0.213.. Val Loss: 0.254.. Test Loss: 0.232.. Time: 0.24m\n"
     ]
    },
    {
     "name": "stderr",
     "output_type": "stream",
     "text": [
      "100%|██████████| 106/106 [00:12<00:00,  8.31it/s]\n",
      "100%|██████████| 18/18 [00:00<00:00, 42.32it/s]\n",
      "100%|██████████| 53/53 [00:01<00:00, 42.41it/s]\n"
     ]
    },
    {
     "name": "stdout",
     "output_type": "stream",
     "text": [
      "Loss Decreasing.. 0.239 >> 0.236 \n",
      "saving model...\n",
      "Epoch:61/1000.. Train Loss: 0.210.. Val Loss: 0.236.. Test Loss: 0.237.. Time: 0.24m\n"
     ]
    },
    {
     "name": "stderr",
     "output_type": "stream",
     "text": [
      "100%|██████████| 106/106 [00:12<00:00,  8.73it/s]\n",
      "100%|██████████| 18/18 [00:00<00:00, 41.28it/s]\n",
      "100%|██████████| 53/53 [00:01<00:00, 40.63it/s]\n"
     ]
    },
    {
     "name": "stdout",
     "output_type": "stream",
     "text": [
      "Epoch:62/1000.. Train Loss: 0.208.. Val Loss: 0.237.. Test Loss: 0.226.. Time: 0.23m\n"
     ]
    },
    {
     "name": "stderr",
     "output_type": "stream",
     "text": [
      "100%|██████████| 106/106 [00:12<00:00,  8.16it/s]\n",
      "100%|██████████| 18/18 [00:00<00:00, 42.14it/s]\n",
      "100%|██████████| 53/53 [00:01<00:00, 42.06it/s]\n"
     ]
    },
    {
     "name": "stdout",
     "output_type": "stream",
     "text": [
      "Epoch:63/1000.. Train Loss: 0.204.. Val Loss: 0.257.. Test Loss: 0.228.. Time: 0.25m\n"
     ]
    },
    {
     "name": "stderr",
     "output_type": "stream",
     "text": [
      "100%|██████████| 106/106 [00:12<00:00,  8.49it/s]\n",
      "100%|██████████| 18/18 [00:00<00:00, 40.18it/s]\n",
      "100%|██████████| 53/53 [00:01<00:00, 42.04it/s]\n"
     ]
    },
    {
     "name": "stdout",
     "output_type": "stream",
     "text": [
      "Loss Decreasing.. 0.236 >> 0.232 \n",
      "saving model...\n",
      "Epoch:64/1000.. Train Loss: 0.204.. Val Loss: 0.232.. Test Loss: 0.224.. Time: 0.24m\n"
     ]
    },
    {
     "name": "stderr",
     "output_type": "stream",
     "text": [
      "100%|██████████| 106/106 [00:12<00:00,  8.17it/s]\n",
      "100%|██████████| 18/18 [00:00<00:00, 40.91it/s]\n",
      "100%|██████████| 53/53 [00:01<00:00, 40.78it/s]\n"
     ]
    },
    {
     "name": "stdout",
     "output_type": "stream",
     "text": [
      "Loss Decreasing.. 0.232 >> 0.230 \n",
      "saving model...\n",
      "Epoch:65/1000.. Train Loss: 0.199.. Val Loss: 0.230.. Test Loss: 0.222.. Time: 0.25m\n"
     ]
    },
    {
     "name": "stderr",
     "output_type": "stream",
     "text": [
      "100%|██████████| 106/106 [00:12<00:00,  8.28it/s]\n",
      "100%|██████████| 18/18 [00:00<00:00, 41.01it/s]\n",
      "100%|██████████| 53/53 [00:01<00:00, 40.87it/s]\n"
     ]
    },
    {
     "name": "stdout",
     "output_type": "stream",
     "text": [
      "Epoch:66/1000.. Train Loss: 0.197.. Val Loss: 0.236.. Test Loss: 0.222.. Time: 0.24m\n"
     ]
    },
    {
     "name": "stderr",
     "output_type": "stream",
     "text": [
      "100%|██████████| 106/106 [00:12<00:00,  8.17it/s]\n",
      "100%|██████████| 18/18 [00:00<00:00, 42.18it/s]\n",
      "100%|██████████| 53/53 [00:01<00:00, 42.25it/s]\n"
     ]
    },
    {
     "name": "stdout",
     "output_type": "stream",
     "text": [
      "Loss Decreasing.. 0.230 >> 0.228 \n",
      "saving model...\n",
      "Epoch:67/1000.. Train Loss: 0.196.. Val Loss: 0.228.. Test Loss: 0.218.. Time: 0.25m\n"
     ]
    },
    {
     "name": "stderr",
     "output_type": "stream",
     "text": [
      "100%|██████████| 106/106 [00:12<00:00,  8.44it/s]\n",
      "100%|██████████| 18/18 [00:00<00:00, 42.21it/s]\n",
      "100%|██████████| 53/53 [00:01<00:00, 42.03it/s]\n"
     ]
    },
    {
     "name": "stdout",
     "output_type": "stream",
     "text": [
      "Epoch:68/1000.. Train Loss: 0.191.. Val Loss: 0.240.. Test Loss: 0.222.. Time: 0.24m\n"
     ]
    },
    {
     "name": "stderr",
     "output_type": "stream",
     "text": [
      "100%|██████████| 106/106 [00:12<00:00,  8.42it/s]\n",
      "100%|██████████| 18/18 [00:00<00:00, 41.37it/s]\n",
      "100%|██████████| 53/53 [00:01<00:00, 41.26it/s]\n"
     ]
    },
    {
     "name": "stdout",
     "output_type": "stream",
     "text": [
      "Epoch:69/1000.. Train Loss: 0.189.. Val Loss: 0.247.. Test Loss: 0.221.. Time: 0.24m\n"
     ]
    },
    {
     "name": "stderr",
     "output_type": "stream",
     "text": [
      "100%|██████████| 106/106 [00:12<00:00,  8.27it/s]\n",
      "100%|██████████| 18/18 [00:00<00:00, 41.48it/s]\n",
      "100%|██████████| 53/53 [00:01<00:00, 41.86it/s]\n"
     ]
    },
    {
     "name": "stdout",
     "output_type": "stream",
     "text": [
      "Epoch:70/1000.. Train Loss: 0.189.. Val Loss: 0.229.. Test Loss: 0.213.. Time: 0.24m\n"
     ]
    },
    {
     "name": "stderr",
     "output_type": "stream",
     "text": [
      "100%|██████████| 106/106 [00:12<00:00,  8.48it/s]\n",
      "100%|██████████| 18/18 [00:00<00:00, 40.52it/s]\n",
      "100%|██████████| 53/53 [00:01<00:00, 41.92it/s]\n"
     ]
    },
    {
     "name": "stdout",
     "output_type": "stream",
     "text": [
      "Epoch:71/1000.. Train Loss: 0.184.. Val Loss: 0.243.. Test Loss: 0.215.. Time: 0.24m\n"
     ]
    },
    {
     "name": "stderr",
     "output_type": "stream",
     "text": [
      "100%|██████████| 106/106 [00:12<00:00,  8.26it/s]\n",
      "100%|██████████| 18/18 [00:00<00:00, 42.07it/s]\n",
      "100%|██████████| 53/53 [00:01<00:00, 41.96it/s]\n"
     ]
    },
    {
     "name": "stdout",
     "output_type": "stream",
     "text": [
      "Epoch:72/1000.. Train Loss: 0.182.. Val Loss: 0.239.. Test Loss: 0.212.. Time: 0.24m\n"
     ]
    },
    {
     "name": "stderr",
     "output_type": "stream",
     "text": [
      "100%|██████████| 106/106 [00:12<00:00,  8.27it/s]\n",
      "100%|██████████| 18/18 [00:00<00:00, 42.14it/s]\n",
      "100%|██████████| 53/53 [00:01<00:00, 42.46it/s]\n"
     ]
    },
    {
     "name": "stdout",
     "output_type": "stream",
     "text": [
      "Epoch:73/1000.. Train Loss: 0.180.. Val Loss: 0.237.. Test Loss: 0.216.. Time: 0.24m\n"
     ]
    },
    {
     "name": "stderr",
     "output_type": "stream",
     "text": [
      "100%|██████████| 106/106 [00:12<00:00,  8.49it/s]\n",
      "100%|██████████| 18/18 [00:00<00:00, 42.07it/s]\n",
      "100%|██████████| 53/53 [00:01<00:00, 41.98it/s]\n"
     ]
    },
    {
     "name": "stdout",
     "output_type": "stream",
     "text": [
      "Loss Decreasing.. 0.228 >> 0.224 \n",
      "saving model...\n",
      "Epoch:74/1000.. Train Loss: 0.178.. Val Loss: 0.224.. Test Loss: 0.209.. Time: 0.24m\n"
     ]
    },
    {
     "name": "stderr",
     "output_type": "stream",
     "text": [
      "100%|██████████| 106/106 [00:12<00:00,  8.51it/s]\n",
      "100%|██████████| 18/18 [00:00<00:00, 42.00it/s]\n",
      "100%|██████████| 53/53 [00:01<00:00, 42.18it/s]\n"
     ]
    },
    {
     "name": "stdout",
     "output_type": "stream",
     "text": [
      "Epoch:75/1000.. Train Loss: 0.179.. Val Loss: 0.230.. Test Loss: 0.207.. Time: 0.24m\n"
     ]
    },
    {
     "name": "stderr",
     "output_type": "stream",
     "text": [
      "100%|██████████| 106/106 [00:12<00:00,  8.49it/s]\n",
      "100%|██████████| 18/18 [00:00<00:00, 43.17it/s]\n",
      "100%|██████████| 53/53 [00:01<00:00, 43.22it/s]\n"
     ]
    },
    {
     "name": "stdout",
     "output_type": "stream",
     "text": [
      "Epoch:76/1000.. Train Loss: 0.174.. Val Loss: 0.232.. Test Loss: 0.209.. Time: 0.24m\n"
     ]
    },
    {
     "name": "stderr",
     "output_type": "stream",
     "text": [
      "100%|██████████| 106/106 [00:12<00:00,  8.52it/s]\n",
      "100%|██████████| 18/18 [00:00<00:00, 42.93it/s]\n",
      "100%|██████████| 53/53 [00:01<00:00, 43.18it/s]\n"
     ]
    },
    {
     "name": "stdout",
     "output_type": "stream",
     "text": [
      "Loss Decreasing.. 0.224 >> 0.218 \n",
      "saving model...\n",
      "Epoch:77/1000.. Train Loss: 0.175.. Val Loss: 0.218.. Test Loss: 0.205.. Time: 0.24m\n"
     ]
    },
    {
     "name": "stderr",
     "output_type": "stream",
     "text": [
      "100%|██████████| 106/106 [00:12<00:00,  8.66it/s]\n",
      "100%|██████████| 18/18 [00:00<00:00, 43.08it/s]\n",
      "100%|██████████| 53/53 [00:01<00:00, 43.34it/s]\n"
     ]
    },
    {
     "name": "stdout",
     "output_type": "stream",
     "text": [
      "Epoch:78/1000.. Train Loss: 0.171.. Val Loss: 0.227.. Test Loss: 0.205.. Time: 0.23m\n"
     ]
    },
    {
     "name": "stderr",
     "output_type": "stream",
     "text": [
      "100%|██████████| 106/106 [00:12<00:00,  8.54it/s]\n",
      "100%|██████████| 18/18 [00:00<00:00, 40.85it/s]\n",
      "100%|██████████| 53/53 [00:01<00:00, 42.87it/s]\n"
     ]
    },
    {
     "name": "stdout",
     "output_type": "stream",
     "text": [
      "Epoch:79/1000.. Train Loss: 0.170.. Val Loss: 0.223.. Test Loss: 0.207.. Time: 0.24m\n"
     ]
    },
    {
     "name": "stderr",
     "output_type": "stream",
     "text": [
      "100%|██████████| 106/106 [00:12<00:00,  8.76it/s]\n",
      "100%|██████████| 18/18 [00:00<00:00, 42.60it/s]\n",
      "100%|██████████| 53/53 [00:01<00:00, 42.75it/s]\n"
     ]
    },
    {
     "name": "stdout",
     "output_type": "stream",
     "text": [
      "Loss Decreasing.. 0.218 >> 0.217 \n",
      "saving model...\n",
      "Epoch:80/1000.. Train Loss: 0.168.. Val Loss: 0.217.. Test Loss: 0.203.. Time: 0.23m\n"
     ]
    },
    {
     "name": "stderr",
     "output_type": "stream",
     "text": [
      "100%|██████████| 106/106 [00:12<00:00,  8.70it/s]\n",
      "100%|██████████| 18/18 [00:00<00:00, 42.59it/s]\n",
      "100%|██████████| 53/53 [00:01<00:00, 42.69it/s]\n"
     ]
    },
    {
     "name": "stdout",
     "output_type": "stream",
     "text": [
      "Loss Decreasing.. 0.217 >> 0.216 \n",
      "saving model...\n",
      "Epoch:81/1000.. Train Loss: 0.167.. Val Loss: 0.216.. Test Loss: 0.204.. Time: 0.23m\n"
     ]
    },
    {
     "name": "stderr",
     "output_type": "stream",
     "text": [
      "100%|██████████| 106/106 [00:12<00:00,  8.73it/s]\n",
      "100%|██████████| 18/18 [00:00<00:00, 42.50it/s]\n",
      "100%|██████████| 53/53 [00:01<00:00, 42.61it/s]\n"
     ]
    },
    {
     "name": "stdout",
     "output_type": "stream",
     "text": [
      "Epoch:82/1000.. Train Loss: 0.164.. Val Loss: 0.227.. Test Loss: 0.201.. Time: 0.23m\n"
     ]
    },
    {
     "name": "stderr",
     "output_type": "stream",
     "text": [
      "100%|██████████| 106/106 [00:12<00:00,  8.79it/s]\n",
      "100%|██████████| 18/18 [00:00<00:00, 42.85it/s]\n",
      "100%|██████████| 53/53 [00:01<00:00, 42.70it/s]\n"
     ]
    },
    {
     "name": "stdout",
     "output_type": "stream",
     "text": [
      "Epoch:83/1000.. Train Loss: 0.164.. Val Loss: 0.222.. Test Loss: 0.204.. Time: 0.23m\n"
     ]
    },
    {
     "name": "stderr",
     "output_type": "stream",
     "text": [
      "100%|██████████| 106/106 [00:12<00:00,  8.78it/s]\n",
      "100%|██████████| 18/18 [00:00<00:00, 42.96it/s]\n",
      "100%|██████████| 53/53 [00:01<00:00, 42.56it/s]\n"
     ]
    },
    {
     "name": "stdout",
     "output_type": "stream",
     "text": [
      "Epoch:84/1000.. Train Loss: 0.162.. Val Loss: 0.225.. Test Loss: 0.203.. Time: 0.23m\n"
     ]
    },
    {
     "name": "stderr",
     "output_type": "stream",
     "text": [
      "100%|██████████| 106/106 [00:12<00:00,  8.81it/s]\n",
      "100%|██████████| 18/18 [00:00<00:00, 41.68it/s]\n",
      "100%|██████████| 53/53 [00:01<00:00, 41.93it/s]\n"
     ]
    },
    {
     "name": "stdout",
     "output_type": "stream",
     "text": [
      "Epoch:85/1000.. Train Loss: 0.161.. Val Loss: 0.220.. Test Loss: 0.201.. Time: 0.23m\n"
     ]
    },
    {
     "name": "stderr",
     "output_type": "stream",
     "text": [
      "100%|██████████| 106/106 [00:12<00:00,  8.79it/s]\n",
      "100%|██████████| 18/18 [00:00<00:00, 41.51it/s]\n",
      "100%|██████████| 53/53 [00:01<00:00, 43.15it/s]\n"
     ]
    },
    {
     "name": "stdout",
     "output_type": "stream",
     "text": [
      "Loss Decreasing.. 0.216 >> 0.216 \n",
      "saving model...\n",
      "Epoch:86/1000.. Train Loss: 0.160.. Val Loss: 0.216.. Test Loss: 0.201.. Time: 0.23m\n"
     ]
    },
    {
     "name": "stderr",
     "output_type": "stream",
     "text": [
      "100%|██████████| 106/106 [00:12<00:00,  8.83it/s]\n",
      "100%|██████████| 18/18 [00:00<00:00, 43.16it/s]\n",
      "100%|██████████| 53/53 [00:01<00:00, 43.03it/s]\n"
     ]
    },
    {
     "name": "stdout",
     "output_type": "stream",
     "text": [
      "Epoch:87/1000.. Train Loss: 0.160.. Val Loss: 0.217.. Test Loss: 0.200.. Time: 0.23m\n"
     ]
    },
    {
     "name": "stderr",
     "output_type": "stream",
     "text": [
      "100%|██████████| 106/106 [00:12<00:00,  8.76it/s]\n",
      "100%|██████████| 18/18 [00:00<00:00, 43.34it/s]\n",
      "100%|██████████| 53/53 [00:01<00:00, 43.17it/s]\n"
     ]
    },
    {
     "name": "stdout",
     "output_type": "stream",
     "text": [
      "Epoch:88/1000.. Train Loss: 0.160.. Val Loss: 0.220.. Test Loss: 0.200.. Time: 0.23m\n"
     ]
    },
    {
     "name": "stderr",
     "output_type": "stream",
     "text": [
      "100%|██████████| 106/106 [00:12<00:00,  8.56it/s]\n",
      "100%|██████████| 18/18 [00:00<00:00, 43.42it/s]\n",
      "100%|██████████| 53/53 [00:01<00:00, 43.51it/s]\n"
     ]
    },
    {
     "name": "stdout",
     "output_type": "stream",
     "text": [
      "Epoch:89/1000.. Train Loss: 0.156.. Val Loss: 0.216.. Test Loss: 0.200.. Time: 0.23m\n"
     ]
    },
    {
     "name": "stderr",
     "output_type": "stream",
     "text": [
      "100%|██████████| 106/106 [00:12<00:00,  8.54it/s]\n",
      "100%|██████████| 18/18 [00:00<00:00, 42.85it/s]\n",
      "100%|██████████| 53/53 [00:01<00:00, 42.19it/s]\n"
     ]
    },
    {
     "name": "stdout",
     "output_type": "stream",
     "text": [
      "Epoch:90/1000.. Train Loss: 0.158.. Val Loss: 0.220.. Test Loss: 0.200.. Time: 0.24m\n"
     ]
    },
    {
     "name": "stderr",
     "output_type": "stream",
     "text": [
      "100%|██████████| 106/106 [00:12<00:00,  8.59it/s]\n",
      "100%|██████████| 18/18 [00:00<00:00, 42.97it/s]\n",
      "100%|██████████| 53/53 [00:01<00:00, 42.75it/s]\n"
     ]
    },
    {
     "name": "stdout",
     "output_type": "stream",
     "text": [
      "Epoch:91/1000.. Train Loss: 0.155.. Val Loss: 0.216.. Test Loss: 0.200.. Time: 0.23m\n"
     ]
    },
    {
     "name": "stderr",
     "output_type": "stream",
     "text": [
      "100%|██████████| 106/106 [00:12<00:00,  8.66it/s]\n",
      "100%|██████████| 18/18 [00:00<00:00, 43.07it/s]\n",
      "100%|██████████| 53/53 [00:01<00:00, 42.99it/s]\n"
     ]
    },
    {
     "name": "stdout",
     "output_type": "stream",
     "text": [
      "Epoch:92/1000.. Train Loss: 0.155.. Val Loss: 0.228.. Test Loss: 0.201.. Time: 0.23m\n"
     ]
    },
    {
     "name": "stderr",
     "output_type": "stream",
     "text": [
      "100%|██████████| 106/106 [00:12<00:00,  8.44it/s]\n",
      "100%|██████████| 18/18 [00:00<00:00, 42.71it/s]\n",
      "100%|██████████| 53/53 [00:01<00:00, 41.71it/s]\n"
     ]
    },
    {
     "name": "stdout",
     "output_type": "stream",
     "text": [
      "Epoch:93/1000.. Train Loss: 0.155.. Val Loss: 0.222.. Test Loss: 0.200.. Time: 0.24m\n"
     ]
    },
    {
     "name": "stderr",
     "output_type": "stream",
     "text": [
      "100%|██████████| 106/106 [00:12<00:00,  8.57it/s]\n",
      "100%|██████████| 18/18 [00:00<00:00, 42.88it/s]\n",
      "100%|██████████| 53/53 [00:01<00:00, 42.70it/s]\n"
     ]
    },
    {
     "name": "stdout",
     "output_type": "stream",
     "text": [
      "Epoch:94/1000.. Train Loss: 0.155.. Val Loss: 0.219.. Test Loss: 0.201.. Time: 0.23m\n"
     ]
    },
    {
     "name": "stderr",
     "output_type": "stream",
     "text": [
      "100%|██████████| 106/106 [00:12<00:00,  8.35it/s]\n",
      "100%|██████████| 18/18 [00:00<00:00, 42.58it/s]\n",
      "100%|██████████| 53/53 [00:01<00:00, 42.71it/s]\n"
     ]
    },
    {
     "name": "stdout",
     "output_type": "stream",
     "text": [
      "Epoch:95/1000.. Train Loss: 0.153.. Val Loss: 0.220.. Test Loss: 0.200.. Time: 0.24m\n"
     ]
    },
    {
     "name": "stderr",
     "output_type": "stream",
     "text": [
      "100%|██████████| 106/106 [00:12<00:00,  8.47it/s]\n",
      "100%|██████████| 18/18 [00:00<00:00, 42.76it/s]\n",
      "100%|██████████| 53/53 [00:01<00:00, 42.07it/s]\n"
     ]
    },
    {
     "name": "stdout",
     "output_type": "stream",
     "text": [
      "Epoch:96/1000.. Train Loss: 0.154.. Val Loss: 0.226.. Test Loss: 0.200.. Time: 0.24m\n"
     ]
    },
    {
     "name": "stderr",
     "output_type": "stream",
     "text": [
      "100%|██████████| 106/106 [00:12<00:00,  8.62it/s]\n",
      "100%|██████████| 18/18 [00:00<00:00, 41.74it/s]\n",
      "100%|██████████| 53/53 [00:01<00:00, 43.10it/s]\n"
     ]
    },
    {
     "name": "stdout",
     "output_type": "stream",
     "text": [
      "Epoch:97/1000.. Train Loss: 0.152.. Val Loss: 0.228.. Test Loss: 0.200.. Time: 0.23m\n"
     ]
    },
    {
     "name": "stderr",
     "output_type": "stream",
     "text": [
      "100%|██████████| 106/106 [00:12<00:00,  8.52it/s]\n",
      "100%|██████████| 18/18 [00:00<00:00, 42.84it/s]\n",
      "100%|██████████| 53/53 [00:01<00:00, 42.71it/s]\n"
     ]
    },
    {
     "name": "stdout",
     "output_type": "stream",
     "text": [
      "Epoch:98/1000.. Train Loss: 0.151.. Val Loss: 0.222.. Test Loss: 0.203.. Time: 0.24m\n"
     ]
    },
    {
     "name": "stderr",
     "output_type": "stream",
     "text": [
      "100%|██████████| 106/106 [00:12<00:00,  8.51it/s]\n",
      "100%|██████████| 18/18 [00:00<00:00, 43.14it/s]\n",
      "100%|██████████| 53/53 [00:01<00:00, 43.11it/s]\n"
     ]
    },
    {
     "name": "stdout",
     "output_type": "stream",
     "text": [
      "Epoch:99/1000.. Train Loss: 0.152.. Val Loss: 0.219.. Test Loss: 0.202.. Time: 0.24m\n"
     ]
    },
    {
     "name": "stderr",
     "output_type": "stream",
     "text": [
      "100%|██████████| 106/106 [00:12<00:00,  8.48it/s]\n",
      "100%|██████████| 18/18 [00:00<00:00, 43.17it/s]\n",
      "100%|██████████| 53/53 [00:01<00:00, 42.94it/s]\n"
     ]
    },
    {
     "name": "stdout",
     "output_type": "stream",
     "text": [
      "Epoch:100/1000.. Train Loss: 0.151.. Val Loss: 0.220.. Test Loss: 0.200.. Time: 0.24m\n"
     ]
    },
    {
     "name": "stderr",
     "output_type": "stream",
     "text": [
      "100%|██████████| 106/106 [00:12<00:00,  8.60it/s]\n",
      "100%|██████████| 18/18 [00:00<00:00, 42.33it/s]\n",
      "100%|██████████| 53/53 [00:01<00:00, 42.98it/s]\n"
     ]
    },
    {
     "name": "stdout",
     "output_type": "stream",
     "text": [
      "Epoch:101/1000.. Train Loss: 0.151.. Val Loss: 0.222.. Test Loss: 0.201.. Time: 0.23m\n"
     ]
    },
    {
     "name": "stderr",
     "output_type": "stream",
     "text": [
      "100%|██████████| 106/106 [00:12<00:00,  8.56it/s]\n",
      "100%|██████████| 18/18 [00:00<00:00, 42.67it/s]\n",
      "100%|██████████| 53/53 [00:01<00:00, 42.97it/s]\n"
     ]
    },
    {
     "name": "stdout",
     "output_type": "stream",
     "text": [
      "Epoch:102/1000.. Train Loss: 0.151.. Val Loss: 0.225.. Test Loss: 0.202.. Time: 0.23m\n"
     ]
    },
    {
     "name": "stderr",
     "output_type": "stream",
     "text": [
      "100%|██████████| 106/106 [00:12<00:00,  8.64it/s]\n",
      "100%|██████████| 18/18 [00:00<00:00, 43.46it/s]\n",
      "100%|██████████| 53/53 [00:01<00:00, 43.53it/s]\n"
     ]
    },
    {
     "name": "stdout",
     "output_type": "stream",
     "text": [
      "Epoch:103/1000.. Train Loss: 0.150.. Val Loss: 0.221.. Test Loss: 0.203.. Time: 0.23m\n"
     ]
    },
    {
     "name": "stderr",
     "output_type": "stream",
     "text": [
      "100%|██████████| 106/106 [00:12<00:00,  8.55it/s]\n",
      "100%|██████████| 18/18 [00:00<00:00, 42.81it/s]\n",
      "100%|██████████| 53/53 [00:01<00:00, 42.96it/s]\n"
     ]
    },
    {
     "name": "stdout",
     "output_type": "stream",
     "text": [
      "Epoch:104/1000.. Train Loss: 0.150.. Val Loss: 0.221.. Test Loss: 0.202.. Time: 0.23m\n"
     ]
    },
    {
     "name": "stderr",
     "output_type": "stream",
     "text": [
      "100%|██████████| 106/106 [00:12<00:00,  8.67it/s]\n",
      "100%|██████████| 18/18 [00:00<00:00, 43.12it/s]\n",
      "100%|██████████| 53/53 [00:01<00:00, 43.00it/s]\n"
     ]
    },
    {
     "name": "stdout",
     "output_type": "stream",
     "text": [
      "Epoch:105/1000.. Train Loss: 0.152.. Val Loss: 0.222.. Test Loss: 0.202.. Time: 0.23m\n"
     ]
    },
    {
     "name": "stderr",
     "output_type": "stream",
     "text": [
      "100%|██████████| 106/106 [00:12<00:00,  8.42it/s]\n",
      "100%|██████████| 18/18 [00:00<00:00, 42.77it/s]\n",
      "100%|██████████| 53/53 [00:01<00:00, 42.92it/s]\n"
     ]
    },
    {
     "name": "stdout",
     "output_type": "stream",
     "text": [
      "Epoch:106/1000.. Train Loss: 0.150.. Val Loss: 0.230.. Test Loss: 0.202.. Time: 0.24m\n"
     ]
    },
    {
     "name": "stderr",
     "output_type": "stream",
     "text": [
      "100%|██████████| 106/106 [00:11<00:00,  8.90it/s]\n",
      "100%|██████████| 18/18 [00:00<00:00, 43.06it/s]\n",
      "100%|██████████| 53/53 [00:01<00:00, 42.84it/s]\n"
     ]
    },
    {
     "name": "stdout",
     "output_type": "stream",
     "text": [
      "Epoch:107/1000.. Train Loss: 0.150.. Val Loss: 0.223.. Test Loss: 0.202.. Time: 0.23m\n"
     ]
    },
    {
     "name": "stderr",
     "output_type": "stream",
     "text": [
      "100%|██████████| 106/106 [00:12<00:00,  8.77it/s]\n",
      "100%|██████████| 18/18 [00:00<00:00, 43.40it/s]\n",
      "100%|██████████| 53/53 [00:01<00:00, 43.52it/s]\n"
     ]
    },
    {
     "name": "stdout",
     "output_type": "stream",
     "text": [
      "Epoch:108/1000.. Train Loss: 0.151.. Val Loss: 0.223.. Test Loss: 0.203.. Time: 0.23m\n"
     ]
    },
    {
     "name": "stderr",
     "output_type": "stream",
     "text": [
      "100%|██████████| 106/106 [00:12<00:00,  8.74it/s]\n",
      "100%|██████████| 18/18 [00:00<00:00, 42.49it/s]\n",
      "100%|██████████| 53/53 [00:01<00:00, 42.96it/s]\n"
     ]
    },
    {
     "name": "stdout",
     "output_type": "stream",
     "text": [
      "Epoch:109/1000.. Train Loss: 0.149.. Val Loss: 0.222.. Test Loss: 0.203.. Time: 0.23m\n"
     ]
    },
    {
     "name": "stderr",
     "output_type": "stream",
     "text": [
      "100%|██████████| 106/106 [00:11<00:00,  8.90it/s]\n",
      "100%|██████████| 18/18 [00:00<00:00, 43.44it/s]\n",
      "100%|██████████| 53/53 [00:01<00:00, 43.45it/s]\n"
     ]
    },
    {
     "name": "stdout",
     "output_type": "stream",
     "text": [
      "Epoch:110/1000.. Train Loss: 0.152.. Val Loss: 0.228.. Test Loss: 0.204.. Time: 0.23m\n"
     ]
    },
    {
     "name": "stderr",
     "output_type": "stream",
     "text": [
      "100%|██████████| 106/106 [00:12<00:00,  8.70it/s]\n",
      "100%|██████████| 18/18 [00:00<00:00, 43.00it/s]\n",
      "100%|██████████| 53/53 [00:01<00:00, 42.98it/s]\n"
     ]
    },
    {
     "name": "stdout",
     "output_type": "stream",
     "text": [
      "Epoch:111/1000.. Train Loss: 0.152.. Val Loss: 0.231.. Test Loss: 0.205.. Time: 0.23m\n"
     ]
    },
    {
     "name": "stderr",
     "output_type": "stream",
     "text": [
      "100%|██████████| 106/106 [00:12<00:00,  8.57it/s]\n",
      "100%|██████████| 18/18 [00:00<00:00, 42.75it/s]\n",
      "100%|██████████| 53/53 [00:01<00:00, 43.07it/s]\n"
     ]
    },
    {
     "name": "stdout",
     "output_type": "stream",
     "text": [
      "Epoch:112/1000.. Train Loss: 0.149.. Val Loss: 0.227.. Test Loss: 0.203.. Time: 0.23m\n"
     ]
    },
    {
     "name": "stderr",
     "output_type": "stream",
     "text": [
      "100%|██████████| 106/106 [00:12<00:00,  8.41it/s]\n",
      "100%|██████████| 18/18 [00:00<00:00, 42.90it/s]\n",
      "100%|██████████| 53/53 [00:01<00:00, 43.13it/s]\n"
     ]
    },
    {
     "name": "stdout",
     "output_type": "stream",
     "text": [
      "Epoch:113/1000.. Train Loss: 0.150.. Val Loss: 0.226.. Test Loss: 0.204.. Time: 0.24m\n"
     ]
    },
    {
     "name": "stderr",
     "output_type": "stream",
     "text": [
      "100%|██████████| 106/106 [00:12<00:00,  8.58it/s]\n",
      "100%|██████████| 18/18 [00:00<00:00, 42.63it/s]\n",
      "100%|██████████| 53/53 [00:01<00:00, 42.75it/s]\n"
     ]
    },
    {
     "name": "stdout",
     "output_type": "stream",
     "text": [
      "Epoch:114/1000.. Train Loss: 0.149.. Val Loss: 0.225.. Test Loss: 0.204.. Time: 0.23m\n"
     ]
    },
    {
     "name": "stderr",
     "output_type": "stream",
     "text": [
      "100%|██████████| 106/106 [00:12<00:00,  8.77it/s]\n",
      "100%|██████████| 18/18 [00:00<00:00, 42.72it/s]\n",
      "100%|██████████| 53/53 [00:01<00:00, 42.74it/s]\n"
     ]
    },
    {
     "name": "stdout",
     "output_type": "stream",
     "text": [
      "Epoch:115/1000.. Train Loss: 0.152.. Val Loss: 0.227.. Test Loss: 0.204.. Time: 0.23m\n"
     ]
    },
    {
     "name": "stderr",
     "output_type": "stream",
     "text": [
      "100%|██████████| 106/106 [00:12<00:00,  8.51it/s]\n",
      "100%|██████████| 18/18 [00:00<00:00, 43.10it/s]\n",
      "100%|██████████| 53/53 [00:01<00:00, 42.77it/s]\n"
     ]
    },
    {
     "name": "stdout",
     "output_type": "stream",
     "text": [
      "Epoch:116/1000.. Train Loss: 0.149.. Val Loss: 0.226.. Test Loss: 0.204.. Time: 0.24m\n"
     ]
    },
    {
     "name": "stderr",
     "output_type": "stream",
     "text": [
      "100%|██████████| 106/106 [00:12<00:00,  8.55it/s]\n",
      "100%|██████████| 18/18 [00:00<00:00, 42.49it/s]\n",
      "100%|██████████| 53/53 [00:01<00:00, 42.35it/s]\n"
     ]
    },
    {
     "name": "stdout",
     "output_type": "stream",
     "text": [
      "Epoch:117/1000.. Train Loss: 0.152.. Val Loss: 0.232.. Test Loss: 0.205.. Time: 0.24m\n"
     ]
    },
    {
     "name": "stderr",
     "output_type": "stream",
     "text": [
      "100%|██████████| 106/106 [00:12<00:00,  8.49it/s]\n",
      "100%|██████████| 18/18 [00:00<00:00, 42.82it/s]\n",
      "100%|██████████| 53/53 [00:01<00:00, 43.01it/s]\n"
     ]
    },
    {
     "name": "stdout",
     "output_type": "stream",
     "text": [
      "Epoch:118/1000.. Train Loss: 0.150.. Val Loss: 0.224.. Test Loss: 0.204.. Time: 0.24m\n"
     ]
    },
    {
     "name": "stderr",
     "output_type": "stream",
     "text": [
      "100%|██████████| 106/106 [00:12<00:00,  8.63it/s]\n",
      "100%|██████████| 18/18 [00:00<00:00, 43.07it/s]\n",
      "100%|██████████| 53/53 [00:01<00:00, 42.99it/s]\n"
     ]
    },
    {
     "name": "stdout",
     "output_type": "stream",
     "text": [
      "Epoch:119/1000.. Train Loss: 0.149.. Val Loss: 0.225.. Test Loss: 0.204.. Time: 0.23m\n"
     ]
    },
    {
     "name": "stderr",
     "output_type": "stream",
     "text": [
      "100%|██████████| 106/106 [00:10<00:00, 10.06it/s]\n",
      "100%|██████████| 18/18 [00:00<00:00, 43.63it/s]\n",
      "100%|██████████| 53/53 [00:01<00:00, 41.88it/s]\n"
     ]
    },
    {
     "name": "stdout",
     "output_type": "stream",
     "text": [
      "Epoch:120/1000.. Train Loss: 0.149.. Val Loss: 0.225.. Test Loss: 0.204.. Time: 0.20m\n"
     ]
    },
    {
     "name": "stderr",
     "output_type": "stream",
     "text": [
      "100%|██████████| 106/106 [00:12<00:00,  8.65it/s]\n",
      "100%|██████████| 18/18 [00:00<00:00, 42.98it/s]\n",
      "100%|██████████| 53/53 [00:01<00:00, 42.94it/s]\n"
     ]
    },
    {
     "name": "stdout",
     "output_type": "stream",
     "text": [
      "Epoch:121/1000.. Train Loss: 0.151.. Val Loss: 0.225.. Test Loss: 0.205.. Time: 0.23m\n"
     ]
    },
    {
     "name": "stderr",
     "output_type": "stream",
     "text": [
      "100%|██████████| 106/106 [00:12<00:00,  8.70it/s]\n",
      "100%|██████████| 18/18 [00:00<00:00, 42.73it/s]\n",
      "100%|██████████| 53/53 [00:01<00:00, 43.05it/s]\n"
     ]
    },
    {
     "name": "stdout",
     "output_type": "stream",
     "text": [
      "Epoch:122/1000.. Train Loss: 0.150.. Val Loss: 0.224.. Test Loss: 0.204.. Time: 0.23m\n"
     ]
    },
    {
     "name": "stderr",
     "output_type": "stream",
     "text": [
      "100%|██████████| 106/106 [00:12<00:00,  8.72it/s]\n",
      "100%|██████████| 18/18 [00:00<00:00, 43.11it/s]\n",
      "100%|██████████| 53/53 [00:01<00:00, 43.02it/s]\n"
     ]
    },
    {
     "name": "stdout",
     "output_type": "stream",
     "text": [
      "Epoch:123/1000.. Train Loss: 0.149.. Val Loss: 0.225.. Test Loss: 0.205.. Time: 0.23m\n"
     ]
    },
    {
     "name": "stderr",
     "output_type": "stream",
     "text": [
      "100%|██████████| 106/106 [00:11<00:00,  8.85it/s]\n",
      "100%|██████████| 18/18 [00:00<00:00, 42.81it/s]\n",
      "100%|██████████| 53/53 [00:01<00:00, 43.03it/s]\n"
     ]
    },
    {
     "name": "stdout",
     "output_type": "stream",
     "text": [
      "Epoch:124/1000.. Train Loss: 0.150.. Val Loss: 0.224.. Test Loss: 0.204.. Time: 0.23m\n"
     ]
    },
    {
     "name": "stderr",
     "output_type": "stream",
     "text": [
      "100%|██████████| 106/106 [00:12<00:00,  8.64it/s]\n",
      "100%|██████████| 18/18 [00:00<00:00, 41.82it/s]\n",
      "100%|██████████| 53/53 [00:01<00:00, 42.04it/s]\n"
     ]
    },
    {
     "name": "stdout",
     "output_type": "stream",
     "text": [
      "Epoch:125/1000.. Train Loss: 0.149.. Val Loss: 0.224.. Test Loss: 0.204.. Time: 0.23m\n"
     ]
    },
    {
     "name": "stderr",
     "output_type": "stream",
     "text": [
      "100%|██████████| 106/106 [00:12<00:00,  8.66it/s]\n",
      "100%|██████████| 18/18 [00:00<00:00, 41.76it/s]\n",
      "100%|██████████| 53/53 [00:01<00:00, 42.79it/s]\n"
     ]
    },
    {
     "name": "stdout",
     "output_type": "stream",
     "text": [
      "Epoch:126/1000.. Train Loss: 0.151.. Val Loss: 0.225.. Test Loss: 0.205.. Time: 0.23m\n"
     ]
    },
    {
     "name": "stderr",
     "output_type": "stream",
     "text": [
      "100%|██████████| 106/106 [00:11<00:00,  8.86it/s]\n",
      "100%|██████████| 18/18 [00:00<00:00, 42.93it/s]\n",
      "100%|██████████| 53/53 [00:01<00:00, 42.90it/s]\n"
     ]
    },
    {
     "name": "stdout",
     "output_type": "stream",
     "text": [
      "Epoch:127/1000.. Train Loss: 0.149.. Val Loss: 0.226.. Test Loss: 0.204.. Time: 0.23m\n"
     ]
    },
    {
     "name": "stderr",
     "output_type": "stream",
     "text": [
      "100%|██████████| 106/106 [00:12<00:00,  8.78it/s]\n",
      "100%|██████████| 18/18 [00:00<00:00, 43.40it/s]\n",
      "100%|██████████| 53/53 [00:01<00:00, 42.83it/s]\n"
     ]
    },
    {
     "name": "stdout",
     "output_type": "stream",
     "text": [
      "Epoch:128/1000.. Train Loss: 0.150.. Val Loss: 0.223.. Test Loss: 0.206.. Time: 0.23m\n"
     ]
    },
    {
     "name": "stderr",
     "output_type": "stream",
     "text": [
      "100%|██████████| 106/106 [00:12<00:00,  8.67it/s]\n",
      "100%|██████████| 18/18 [00:00<00:00, 43.10it/s]\n",
      "100%|██████████| 53/53 [00:01<00:00, 42.93it/s]\n"
     ]
    },
    {
     "name": "stdout",
     "output_type": "stream",
     "text": [
      "Epoch:129/1000.. Train Loss: 0.150.. Val Loss: 0.225.. Test Loss: 0.205.. Time: 0.23m\n"
     ]
    },
    {
     "name": "stderr",
     "output_type": "stream",
     "text": [
      "100%|██████████| 106/106 [00:12<00:00,  8.30it/s]\n",
      "100%|██████████| 18/18 [00:00<00:00, 41.20it/s]\n",
      "100%|██████████| 53/53 [00:01<00:00, 42.76it/s]\n"
     ]
    },
    {
     "name": "stdout",
     "output_type": "stream",
     "text": [
      "Epoch:130/1000.. Train Loss: 0.151.. Val Loss: 0.226.. Test Loss: 0.205.. Time: 0.24m\n"
     ]
    },
    {
     "name": "stderr",
     "output_type": "stream",
     "text": [
      "100%|██████████| 106/106 [00:12<00:00,  8.69it/s]\n",
      "100%|██████████| 18/18 [00:00<00:00, 42.15it/s]\n",
      "100%|██████████| 53/53 [00:01<00:00, 42.12it/s]\n"
     ]
    },
    {
     "name": "stdout",
     "output_type": "stream",
     "text": [
      "Epoch:131/1000.. Train Loss: 0.151.. Val Loss: 0.228.. Test Loss: 0.205.. Time: 0.23m\n"
     ]
    },
    {
     "name": "stderr",
     "output_type": "stream",
     "text": [
      "100%|██████████| 106/106 [00:12<00:00,  8.66it/s]\n",
      "100%|██████████| 18/18 [00:00<00:00, 40.40it/s]\n",
      "100%|██████████| 53/53 [00:01<00:00, 42.19it/s]\n"
     ]
    },
    {
     "name": "stdout",
     "output_type": "stream",
     "text": [
      "Epoch:132/1000.. Train Loss: 0.150.. Val Loss: 0.232.. Test Loss: 0.204.. Time: 0.23m\n"
     ]
    },
    {
     "name": "stderr",
     "output_type": "stream",
     "text": [
      "100%|██████████| 106/106 [00:12<00:00,  8.62it/s]\n",
      "100%|██████████| 18/18 [00:00<00:00, 42.12it/s]\n",
      "100%|██████████| 53/53 [00:01<00:00, 41.77it/s]\n"
     ]
    },
    {
     "name": "stdout",
     "output_type": "stream",
     "text": [
      "Epoch:133/1000.. Train Loss: 0.149.. Val Loss: 0.224.. Test Loss: 0.205.. Time: 0.23m\n"
     ]
    },
    {
     "name": "stderr",
     "output_type": "stream",
     "text": [
      "100%|██████████| 106/106 [00:12<00:00,  8.57it/s]\n",
      "100%|██████████| 18/18 [00:00<00:00, 41.61it/s]\n",
      "100%|██████████| 53/53 [00:01<00:00, 42.12it/s]\n"
     ]
    },
    {
     "name": "stdout",
     "output_type": "stream",
     "text": [
      "Epoch:134/1000.. Train Loss: 0.152.. Val Loss: 0.230.. Test Loss: 0.205.. Time: 0.24m\n"
     ]
    },
    {
     "name": "stderr",
     "output_type": "stream",
     "text": [
      "100%|██████████| 106/106 [00:12<00:00,  8.60it/s]\n",
      "100%|██████████| 18/18 [00:00<00:00, 42.48it/s]\n",
      "100%|██████████| 53/53 [00:01<00:00, 42.71it/s]\n"
     ]
    },
    {
     "name": "stdout",
     "output_type": "stream",
     "text": [
      "Epoch:135/1000.. Train Loss: 0.151.. Val Loss: 0.232.. Test Loss: 0.204.. Time: 0.23m\n"
     ]
    },
    {
     "name": "stderr",
     "output_type": "stream",
     "text": [
      "100%|██████████| 106/106 [00:12<00:00,  8.66it/s]\n",
      "100%|██████████| 18/18 [00:00<00:00, 42.22it/s]\n",
      "100%|██████████| 53/53 [00:01<00:00, 42.21it/s]\n"
     ]
    },
    {
     "name": "stdout",
     "output_type": "stream",
     "text": [
      "Epoch:136/1000.. Train Loss: 0.150.. Val Loss: 0.225.. Test Loss: 0.204.. Time: 0.23m\n"
     ]
    },
    {
     "name": "stderr",
     "output_type": "stream",
     "text": [
      "100%|██████████| 106/106 [00:12<00:00,  8.74it/s]\n",
      "100%|██████████| 18/18 [00:00<00:00, 42.29it/s]\n",
      "100%|██████████| 53/53 [00:01<00:00, 41.40it/s]\n"
     ]
    },
    {
     "name": "stdout",
     "output_type": "stream",
     "text": [
      "Epoch:137/1000.. Train Loss: 0.151.. Val Loss: 0.225.. Test Loss: 0.205.. Time: 0.23m\n"
     ]
    },
    {
     "name": "stderr",
     "output_type": "stream",
     "text": [
      "100%|██████████| 106/106 [00:12<00:00,  8.67it/s]\n",
      "100%|██████████| 18/18 [00:00<00:00, 42.07it/s]\n",
      "100%|██████████| 53/53 [00:01<00:00, 42.09it/s]\n"
     ]
    },
    {
     "name": "stdout",
     "output_type": "stream",
     "text": [
      "Epoch:138/1000.. Train Loss: 0.151.. Val Loss: 0.228.. Test Loss: 0.205.. Time: 0.23m\n"
     ]
    },
    {
     "name": "stderr",
     "output_type": "stream",
     "text": [
      "100%|██████████| 106/106 [00:12<00:00,  8.69it/s]\n",
      "100%|██████████| 18/18 [00:00<00:00, 42.07it/s]\n",
      "100%|██████████| 53/53 [00:01<00:00, 42.16it/s]\n"
     ]
    },
    {
     "name": "stdout",
     "output_type": "stream",
     "text": [
      "Epoch:139/1000.. Train Loss: 0.150.. Val Loss: 0.225.. Test Loss: 0.205.. Time: 0.23m\n"
     ]
    },
    {
     "name": "stderr",
     "output_type": "stream",
     "text": [
      "100%|██████████| 106/106 [00:12<00:00,  8.72it/s]\n",
      "100%|██████████| 18/18 [00:00<00:00, 42.56it/s]\n",
      "100%|██████████| 53/53 [00:01<00:00, 41.98it/s]\n"
     ]
    },
    {
     "name": "stdout",
     "output_type": "stream",
     "text": [
      "Epoch:140/1000.. Train Loss: 0.150.. Val Loss: 0.224.. Test Loss: 0.206.. Time: 0.23m\n"
     ]
    },
    {
     "name": "stderr",
     "output_type": "stream",
     "text": [
      "100%|██████████| 106/106 [00:11<00:00,  8.96it/s]\n",
      "100%|██████████| 18/18 [00:00<00:00, 40.51it/s]\n",
      "100%|██████████| 53/53 [00:01<00:00, 42.58it/s]\n"
     ]
    },
    {
     "name": "stdout",
     "output_type": "stream",
     "text": [
      "Epoch:141/1000.. Train Loss: 0.149.. Val Loss: 0.228.. Test Loss: 0.204.. Time: 0.23m\n"
     ]
    },
    {
     "name": "stderr",
     "output_type": "stream",
     "text": [
      "100%|██████████| 106/106 [00:12<00:00,  8.69it/s]\n",
      "100%|██████████| 18/18 [00:00<00:00, 43.11it/s]\n",
      "100%|██████████| 53/53 [00:01<00:00, 43.01it/s]\n"
     ]
    },
    {
     "name": "stdout",
     "output_type": "stream",
     "text": [
      "Epoch:142/1000.. Train Loss: 0.151.. Val Loss: 0.228.. Test Loss: 0.205.. Time: 0.23m\n"
     ]
    },
    {
     "name": "stderr",
     "output_type": "stream",
     "text": [
      "100%|██████████| 106/106 [00:11<00:00,  8.88it/s]\n",
      "100%|██████████| 18/18 [00:00<00:00, 43.20it/s]\n",
      "100%|██████████| 53/53 [00:01<00:00, 43.21it/s]\n"
     ]
    },
    {
     "name": "stdout",
     "output_type": "stream",
     "text": [
      "Epoch:143/1000.. Train Loss: 0.149.. Val Loss: 0.225.. Test Loss: 0.204.. Time: 0.23m\n"
     ]
    },
    {
     "name": "stderr",
     "output_type": "stream",
     "text": [
      "100%|██████████| 106/106 [00:12<00:00,  8.81it/s]\n",
      "100%|██████████| 18/18 [00:00<00:00, 42.92it/s]\n",
      "100%|██████████| 53/53 [00:01<00:00, 42.77it/s]\n"
     ]
    },
    {
     "name": "stdout",
     "output_type": "stream",
     "text": [
      "Epoch:144/1000.. Train Loss: 0.150.. Val Loss: 0.224.. Test Loss: 0.205.. Time: 0.23m\n"
     ]
    },
    {
     "name": "stderr",
     "output_type": "stream",
     "text": [
      "100%|██████████| 106/106 [00:11<00:00,  8.86it/s]\n",
      "100%|██████████| 18/18 [00:00<00:00, 42.62it/s]\n",
      "100%|██████████| 53/53 [00:01<00:00, 42.74it/s]\n"
     ]
    },
    {
     "name": "stdout",
     "output_type": "stream",
     "text": [
      "Epoch:145/1000.. Train Loss: 0.151.. Val Loss: 0.232.. Test Loss: 0.205.. Time: 0.23m\n"
     ]
    },
    {
     "name": "stderr",
     "output_type": "stream",
     "text": [
      "100%|██████████| 106/106 [00:12<00:00,  8.52it/s]\n",
      "100%|██████████| 18/18 [00:00<00:00, 42.35it/s]\n",
      "100%|██████████| 53/53 [00:01<00:00, 42.66it/s]\n"
     ]
    },
    {
     "name": "stdout",
     "output_type": "stream",
     "text": [
      "Epoch:146/1000.. Train Loss: 0.152.. Val Loss: 0.225.. Test Loss: 0.205.. Time: 0.24m\n"
     ]
    },
    {
     "name": "stderr",
     "output_type": "stream",
     "text": [
      "100%|██████████| 106/106 [00:12<00:00,  8.34it/s]\n",
      "100%|██████████| 18/18 [00:00<00:00, 42.41it/s]\n",
      "100%|██████████| 53/53 [00:01<00:00, 42.51it/s]\n"
     ]
    },
    {
     "name": "stdout",
     "output_type": "stream",
     "text": [
      "Epoch:147/1000.. Train Loss: 0.150.. Val Loss: 0.225.. Test Loss: 0.205.. Time: 0.24m\n"
     ]
    },
    {
     "name": "stderr",
     "output_type": "stream",
     "text": [
      "100%|██████████| 106/106 [00:12<00:00,  8.51it/s]\n",
      "100%|██████████| 18/18 [00:00<00:00, 41.99it/s]\n",
      "100%|██████████| 53/53 [00:01<00:00, 42.11it/s]\n"
     ]
    },
    {
     "name": "stdout",
     "output_type": "stream",
     "text": [
      "Epoch:148/1000.. Train Loss: 0.149.. Val Loss: 0.232.. Test Loss: 0.205.. Time: 0.24m\n"
     ]
    },
    {
     "name": "stderr",
     "output_type": "stream",
     "text": [
      "100%|██████████| 106/106 [00:12<00:00,  8.76it/s]\n",
      "100%|██████████| 18/18 [00:00<00:00, 43.04it/s]\n",
      "100%|██████████| 53/53 [00:01<00:00, 42.61it/s]\n"
     ]
    },
    {
     "name": "stdout",
     "output_type": "stream",
     "text": [
      "Epoch:149/1000.. Train Loss: 0.151.. Val Loss: 0.225.. Test Loss: 0.204.. Time: 0.23m\n"
     ]
    },
    {
     "name": "stderr",
     "output_type": "stream",
     "text": [
      "100%|██████████| 106/106 [00:12<00:00,  8.56it/s]\n",
      "100%|██████████| 18/18 [00:00<00:00, 42.92it/s]\n",
      "100%|██████████| 53/53 [00:01<00:00, 42.01it/s]\n"
     ]
    },
    {
     "name": "stdout",
     "output_type": "stream",
     "text": [
      "Epoch:150/1000.. Train Loss: 0.151.. Val Loss: 0.223.. Test Loss: 0.205.. Time: 0.24m\n"
     ]
    },
    {
     "name": "stderr",
     "output_type": "stream",
     "text": [
      "100%|██████████| 106/106 [00:12<00:00,  8.57it/s]\n",
      "100%|██████████| 18/18 [00:00<00:00, 43.15it/s]\n",
      "100%|██████████| 53/53 [00:01<00:00, 42.97it/s]\n"
     ]
    },
    {
     "name": "stdout",
     "output_type": "stream",
     "text": [
      "Epoch:151/1000.. Train Loss: 0.151.. Val Loss: 0.232.. Test Loss: 0.204.. Time: 0.24m\n"
     ]
    },
    {
     "name": "stderr",
     "output_type": "stream",
     "text": [
      "100%|██████████| 106/106 [00:12<00:00,  8.51it/s]\n",
      "100%|██████████| 18/18 [00:00<00:00, 41.70it/s]\n",
      "100%|██████████| 53/53 [00:01<00:00, 42.58it/s]\n"
     ]
    },
    {
     "name": "stdout",
     "output_type": "stream",
     "text": [
      "Epoch:152/1000.. Train Loss: 0.149.. Val Loss: 0.225.. Test Loss: 0.205.. Time: 0.24m\n"
     ]
    },
    {
     "name": "stderr",
     "output_type": "stream",
     "text": [
      "100%|██████████| 106/106 [00:12<00:00,  8.57it/s]\n",
      "100%|██████████| 18/18 [00:00<00:00, 42.47it/s]\n",
      "100%|██████████| 53/53 [00:01<00:00, 41.43it/s]\n"
     ]
    },
    {
     "name": "stdout",
     "output_type": "stream",
     "text": [
      "Epoch:153/1000.. Train Loss: 0.149.. Val Loss: 0.232.. Test Loss: 0.206.. Time: 0.24m\n"
     ]
    },
    {
     "name": "stderr",
     "output_type": "stream",
     "text": [
      "100%|██████████| 106/106 [00:12<00:00,  8.67it/s]\n",
      "100%|██████████| 18/18 [00:00<00:00, 42.29it/s]\n",
      "100%|██████████| 53/53 [00:01<00:00, 42.16it/s]\n"
     ]
    },
    {
     "name": "stdout",
     "output_type": "stream",
     "text": [
      "Epoch:154/1000.. Train Loss: 0.152.. Val Loss: 0.225.. Test Loss: 0.206.. Time: 0.23m\n"
     ]
    },
    {
     "name": "stderr",
     "output_type": "stream",
     "text": [
      "100%|██████████| 106/106 [00:12<00:00,  8.65it/s]\n",
      "100%|██████████| 18/18 [00:00<00:00, 42.50it/s]\n",
      "100%|██████████| 53/53 [00:01<00:00, 42.52it/s]\n"
     ]
    },
    {
     "name": "stdout",
     "output_type": "stream",
     "text": [
      "Epoch:155/1000.. Train Loss: 0.152.. Val Loss: 0.226.. Test Loss: 0.205.. Time: 0.23m\n"
     ]
    },
    {
     "name": "stderr",
     "output_type": "stream",
     "text": [
      "100%|██████████| 106/106 [00:12<00:00,  8.76it/s]\n",
      "100%|██████████| 18/18 [00:00<00:00, 42.84it/s]\n",
      "100%|██████████| 53/53 [00:01<00:00, 42.15it/s]\n"
     ]
    },
    {
     "name": "stdout",
     "output_type": "stream",
     "text": [
      "Epoch:156/1000.. Train Loss: 0.151.. Val Loss: 0.226.. Test Loss: 0.205.. Time: 0.23m\n"
     ]
    },
    {
     "name": "stderr",
     "output_type": "stream",
     "text": [
      "100%|██████████| 106/106 [00:12<00:00,  8.60it/s]\n",
      "100%|██████████| 18/18 [00:00<00:00, 42.91it/s]\n",
      "100%|██████████| 53/53 [00:01<00:00, 42.01it/s]\n"
     ]
    },
    {
     "name": "stdout",
     "output_type": "stream",
     "text": [
      "Epoch:157/1000.. Train Loss: 0.149.. Val Loss: 0.227.. Test Loss: 0.206.. Time: 0.23m\n"
     ]
    },
    {
     "name": "stderr",
     "output_type": "stream",
     "text": [
      "100%|██████████| 106/106 [00:12<00:00,  8.35it/s]\n",
      "100%|██████████| 18/18 [00:00<00:00, 42.37it/s]\n",
      "100%|██████████| 53/53 [00:01<00:00, 42.74it/s]\n"
     ]
    },
    {
     "name": "stdout",
     "output_type": "stream",
     "text": [
      "Epoch:158/1000.. Train Loss: 0.151.. Val Loss: 0.225.. Test Loss: 0.206.. Time: 0.24m\n"
     ]
    },
    {
     "name": "stderr",
     "output_type": "stream",
     "text": [
      "100%|██████████| 106/106 [00:12<00:00,  8.67it/s]\n",
      "100%|██████████| 18/18 [00:00<00:00, 41.96it/s]\n",
      "100%|██████████| 53/53 [00:01<00:00, 42.83it/s]\n"
     ]
    },
    {
     "name": "stdout",
     "output_type": "stream",
     "text": [
      "Epoch:159/1000.. Train Loss: 0.151.. Val Loss: 0.231.. Test Loss: 0.206.. Time: 0.23m\n"
     ]
    },
    {
     "name": "stderr",
     "output_type": "stream",
     "text": [
      "100%|██████████| 106/106 [00:12<00:00,  8.77it/s]\n",
      "100%|██████████| 18/18 [00:00<00:00, 42.47it/s]\n",
      "100%|██████████| 53/53 [00:01<00:00, 42.89it/s]\n"
     ]
    },
    {
     "name": "stdout",
     "output_type": "stream",
     "text": [
      "Epoch:160/1000.. Train Loss: 0.150.. Val Loss: 0.225.. Test Loss: 0.205.. Time: 0.23m\n"
     ]
    },
    {
     "name": "stderr",
     "output_type": "stream",
     "text": [
      "100%|██████████| 106/106 [00:11<00:00,  8.85it/s]\n",
      "100%|██████████| 18/18 [00:00<00:00, 42.57it/s]\n",
      "100%|██████████| 53/53 [00:01<00:00, 42.87it/s]\n"
     ]
    },
    {
     "name": "stdout",
     "output_type": "stream",
     "text": [
      "Epoch:161/1000.. Train Loss: 0.151.. Val Loss: 0.227.. Test Loss: 0.205.. Time: 0.23m\n"
     ]
    },
    {
     "name": "stderr",
     "output_type": "stream",
     "text": [
      "100%|██████████| 106/106 [00:11<00:00,  8.87it/s]\n",
      "100%|██████████| 18/18 [00:00<00:00, 43.06it/s]\n",
      "100%|██████████| 53/53 [00:01<00:00, 43.01it/s]\n"
     ]
    },
    {
     "name": "stdout",
     "output_type": "stream",
     "text": [
      "Epoch:162/1000.. Train Loss: 0.151.. Val Loss: 0.225.. Test Loss: 0.204.. Time: 0.23m\n"
     ]
    },
    {
     "name": "stderr",
     "output_type": "stream",
     "text": [
      "100%|██████████| 106/106 [00:12<00:00,  8.52it/s]\n",
      "100%|██████████| 18/18 [00:00<00:00, 42.83it/s]\n",
      "100%|██████████| 53/53 [00:01<00:00, 43.04it/s]\n"
     ]
    },
    {
     "name": "stdout",
     "output_type": "stream",
     "text": [
      "Epoch:163/1000.. Train Loss: 0.150.. Val Loss: 0.227.. Test Loss: 0.205.. Time: 0.24m\n"
     ]
    },
    {
     "name": "stderr",
     "output_type": "stream",
     "text": [
      "100%|██████████| 106/106 [00:11<00:00,  8.88it/s]\n",
      "100%|██████████| 18/18 [00:00<00:00, 41.61it/s]\n",
      "100%|██████████| 53/53 [00:01<00:00, 41.48it/s]\n"
     ]
    },
    {
     "name": "stdout",
     "output_type": "stream",
     "text": [
      "Epoch:164/1000.. Train Loss: 0.152.. Val Loss: 0.225.. Test Loss: 0.204.. Time: 0.23m\n"
     ]
    },
    {
     "name": "stderr",
     "output_type": "stream",
     "text": [
      "100%|██████████| 106/106 [00:12<00:00,  8.48it/s]\n",
      "100%|██████████| 18/18 [00:00<00:00, 41.24it/s]\n",
      "100%|██████████| 53/53 [00:01<00:00, 41.85it/s]\n"
     ]
    },
    {
     "name": "stdout",
     "output_type": "stream",
     "text": [
      "Epoch:165/1000.. Train Loss: 0.149.. Val Loss: 0.225.. Test Loss: 0.205.. Time: 0.24m\n"
     ]
    },
    {
     "name": "stderr",
     "output_type": "stream",
     "text": [
      "100%|██████████| 106/106 [00:12<00:00,  8.55it/s]\n",
      "100%|██████████| 18/18 [00:00<00:00, 42.44it/s]\n",
      "100%|██████████| 53/53 [00:01<00:00, 42.60it/s]\n"
     ]
    },
    {
     "name": "stdout",
     "output_type": "stream",
     "text": [
      "Epoch:166/1000.. Train Loss: 0.149.. Val Loss: 0.232.. Test Loss: 0.205.. Time: 0.24m\n"
     ]
    },
    {
     "name": "stderr",
     "output_type": "stream",
     "text": [
      "100%|██████████| 106/106 [00:12<00:00,  8.50it/s]\n",
      "100%|██████████| 18/18 [00:00<00:00, 42.74it/s]\n",
      "100%|██████████| 53/53 [00:01<00:00, 42.60it/s]\n"
     ]
    },
    {
     "name": "stdout",
     "output_type": "stream",
     "text": [
      "Epoch:167/1000.. Train Loss: 0.151.. Val Loss: 0.226.. Test Loss: 0.204.. Time: 0.24m\n"
     ]
    },
    {
     "name": "stderr",
     "output_type": "stream",
     "text": [
      "100%|██████████| 106/106 [00:12<00:00,  8.63it/s]\n",
      "100%|██████████| 18/18 [00:00<00:00, 41.54it/s]\n",
      "100%|██████████| 53/53 [00:01<00:00, 41.23it/s]\n"
     ]
    },
    {
     "name": "stdout",
     "output_type": "stream",
     "text": [
      "Epoch:168/1000.. Train Loss: 0.150.. Val Loss: 0.226.. Test Loss: 0.204.. Time: 0.23m\n"
     ]
    },
    {
     "name": "stderr",
     "output_type": "stream",
     "text": [
      "100%|██████████| 106/106 [00:12<00:00,  8.57it/s]\n",
      "100%|██████████| 18/18 [00:00<00:00, 41.81it/s]\n",
      "100%|██████████| 53/53 [00:01<00:00, 43.20it/s]\n"
     ]
    },
    {
     "name": "stdout",
     "output_type": "stream",
     "text": [
      "Epoch:169/1000.. Train Loss: 0.151.. Val Loss: 0.226.. Test Loss: 0.205.. Time: 0.23m\n"
     ]
    },
    {
     "name": "stderr",
     "output_type": "stream",
     "text": [
      "100%|██████████| 106/106 [00:12<00:00,  8.42it/s]\n",
      "100%|██████████| 18/18 [00:00<00:00, 42.88it/s]\n",
      "100%|██████████| 53/53 [00:01<00:00, 43.00it/s]\n"
     ]
    },
    {
     "name": "stdout",
     "output_type": "stream",
     "text": [
      "Epoch:170/1000.. Train Loss: 0.151.. Val Loss: 0.231.. Test Loss: 0.204.. Time: 0.24m\n"
     ]
    },
    {
     "name": "stderr",
     "output_type": "stream",
     "text": [
      "100%|██████████| 106/106 [00:12<00:00,  8.54it/s]\n",
      "100%|██████████| 18/18 [00:00<00:00, 40.66it/s]\n",
      "100%|██████████| 53/53 [00:01<00:00, 42.86it/s]\n"
     ]
    },
    {
     "name": "stdout",
     "output_type": "stream",
     "text": [
      "Epoch:171/1000.. Train Loss: 0.149.. Val Loss: 0.225.. Test Loss: 0.205.. Time: 0.24m\n"
     ]
    },
    {
     "name": "stderr",
     "output_type": "stream",
     "text": [
      "100%|██████████| 106/106 [00:12<00:00,  8.39it/s]\n",
      "100%|██████████| 18/18 [00:00<00:00, 42.40it/s]\n",
      "100%|██████████| 53/53 [00:01<00:00, 42.85it/s]\n"
     ]
    },
    {
     "name": "stdout",
     "output_type": "stream",
     "text": [
      "Epoch:172/1000.. Train Loss: 0.149.. Val Loss: 0.230.. Test Loss: 0.204.. Time: 0.24m\n"
     ]
    },
    {
     "name": "stderr",
     "output_type": "stream",
     "text": [
      "100%|██████████| 106/106 [00:12<00:00,  8.42it/s]\n",
      "100%|██████████| 18/18 [00:00<00:00, 42.92it/s]\n",
      "100%|██████████| 53/53 [00:01<00:00, 42.21it/s]\n"
     ]
    },
    {
     "name": "stdout",
     "output_type": "stream",
     "text": [
      "Epoch:173/1000.. Train Loss: 0.152.. Val Loss: 0.225.. Test Loss: 0.205.. Time: 0.24m\n"
     ]
    },
    {
     "name": "stderr",
     "output_type": "stream",
     "text": [
      "100%|██████████| 106/106 [00:12<00:00,  8.51it/s]\n",
      "100%|██████████| 18/18 [00:00<00:00, 42.91it/s]\n",
      "100%|██████████| 53/53 [00:01<00:00, 42.81it/s]\n"
     ]
    },
    {
     "name": "stdout",
     "output_type": "stream",
     "text": [
      "Epoch:174/1000.. Train Loss: 0.149.. Val Loss: 0.227.. Test Loss: 0.205.. Time: 0.24m\n"
     ]
    },
    {
     "name": "stderr",
     "output_type": "stream",
     "text": [
      "100%|██████████| 106/106 [00:12<00:00,  8.50it/s]\n",
      "100%|██████████| 18/18 [00:00<00:00, 42.22it/s]\n",
      "100%|██████████| 53/53 [00:01<00:00, 42.29it/s]\n"
     ]
    },
    {
     "name": "stdout",
     "output_type": "stream",
     "text": [
      "Epoch:175/1000.. Train Loss: 0.150.. Val Loss: 0.225.. Test Loss: 0.205.. Time: 0.24m\n"
     ]
    },
    {
     "name": "stderr",
     "output_type": "stream",
     "text": [
      "100%|██████████| 106/106 [00:12<00:00,  8.41it/s]\n",
      "100%|██████████| 18/18 [00:00<00:00, 41.13it/s]\n",
      "100%|██████████| 53/53 [00:01<00:00, 40.96it/s]\n"
     ]
    },
    {
     "name": "stdout",
     "output_type": "stream",
     "text": [
      "Epoch:176/1000.. Train Loss: 0.149.. Val Loss: 0.225.. Test Loss: 0.205.. Time: 0.24m\n"
     ]
    },
    {
     "name": "stderr",
     "output_type": "stream",
     "text": [
      "100%|██████████| 106/106 [00:12<00:00,  8.59it/s]\n",
      "100%|██████████| 18/18 [00:00<00:00, 41.22it/s]\n",
      "100%|██████████| 53/53 [00:01<00:00, 39.96it/s]\n"
     ]
    },
    {
     "name": "stdout",
     "output_type": "stream",
     "text": [
      "Epoch:177/1000.. Train Loss: 0.152.. Val Loss: 0.226.. Test Loss: 0.205.. Time: 0.24m\n"
     ]
    },
    {
     "name": "stderr",
     "output_type": "stream",
     "text": [
      "100%|██████████| 106/106 [00:12<00:00,  8.73it/s]\n",
      "100%|██████████| 18/18 [00:00<00:00, 42.85it/s]\n",
      "100%|██████████| 53/53 [00:01<00:00, 42.80it/s]\n"
     ]
    },
    {
     "name": "stdout",
     "output_type": "stream",
     "text": [
      "Epoch:178/1000.. Train Loss: 0.151.. Val Loss: 0.226.. Test Loss: 0.205.. Time: 0.23m\n"
     ]
    },
    {
     "name": "stderr",
     "output_type": "stream",
     "text": [
      "100%|██████████| 106/106 [00:11<00:00,  8.92it/s]\n",
      "100%|██████████| 18/18 [00:00<00:00, 42.17it/s]\n",
      "100%|██████████| 53/53 [00:01<00:00, 42.10it/s]\n"
     ]
    },
    {
     "name": "stdout",
     "output_type": "stream",
     "text": [
      "Epoch:179/1000.. Train Loss: 0.151.. Val Loss: 0.230.. Test Loss: 0.205.. Time: 0.23m\n"
     ]
    },
    {
     "name": "stderr",
     "output_type": "stream",
     "text": [
      "100%|██████████| 106/106 [00:12<00:00,  8.78it/s]\n",
      "100%|██████████| 18/18 [00:00<00:00, 39.94it/s]\n",
      "100%|██████████| 53/53 [00:01<00:00, 40.99it/s]\n"
     ]
    },
    {
     "name": "stdout",
     "output_type": "stream",
     "text": [
      "Epoch:180/1000.. Train Loss: 0.151.. Val Loss: 0.225.. Test Loss: 0.204.. Time: 0.23m\n"
     ]
    },
    {
     "name": "stderr",
     "output_type": "stream",
     "text": [
      "100%|██████████| 106/106 [00:12<00:00,  8.36it/s]\n",
      "100%|██████████| 18/18 [00:00<00:00, 41.66it/s]\n",
      "100%|██████████| 53/53 [00:01<00:00, 42.56it/s]\n"
     ]
    },
    {
     "name": "stdout",
     "output_type": "stream",
     "text": [
      "Epoch:181/1000.. Train Loss: 0.149.. Val Loss: 0.225.. Test Loss: 0.205.. Time: 0.24m\n"
     ]
    },
    {
     "name": "stderr",
     "output_type": "stream",
     "text": [
      "100%|██████████| 106/106 [00:11<00:00,  9.10it/s]\n",
      "100%|██████████| 18/18 [00:00<00:00, 42.44it/s]\n",
      "100%|██████████| 53/53 [00:01<00:00, 42.70it/s]\n"
     ]
    },
    {
     "name": "stdout",
     "output_type": "stream",
     "text": [
      "Epoch:182/1000.. Train Loss: 0.149.. Val Loss: 0.223.. Test Loss: 0.205.. Time: 0.22m\n"
     ]
    },
    {
     "name": "stderr",
     "output_type": "stream",
     "text": [
      "100%|██████████| 106/106 [00:12<00:00,  8.38it/s]\n",
      "100%|██████████| 18/18 [00:00<00:00, 42.47it/s]\n",
      "100%|██████████| 53/53 [00:01<00:00, 42.89it/s]\n"
     ]
    },
    {
     "name": "stdout",
     "output_type": "stream",
     "text": [
      "Epoch:183/1000.. Train Loss: 0.151.. Val Loss: 0.227.. Test Loss: 0.205.. Time: 0.24m\n"
     ]
    },
    {
     "name": "stderr",
     "output_type": "stream",
     "text": [
      "100%|██████████| 106/106 [00:12<00:00,  8.28it/s]\n",
      "100%|██████████| 18/18 [00:00<00:00, 42.83it/s]\n",
      "100%|██████████| 53/53 [00:01<00:00, 42.62it/s]\n"
     ]
    },
    {
     "name": "stdout",
     "output_type": "stream",
     "text": [
      "Epoch:184/1000.. Train Loss: 0.149.. Val Loss: 0.224.. Test Loss: 0.205.. Time: 0.24m\n"
     ]
    },
    {
     "name": "stderr",
     "output_type": "stream",
     "text": [
      "100%|██████████| 106/106 [00:12<00:00,  8.57it/s]\n",
      "100%|██████████| 18/18 [00:00<00:00, 42.77it/s]\n",
      "100%|██████████| 53/53 [00:01<00:00, 42.67it/s]\n"
     ]
    },
    {
     "name": "stdout",
     "output_type": "stream",
     "text": [
      "Epoch:185/1000.. Train Loss: 0.151.. Val Loss: 0.225.. Test Loss: 0.204.. Time: 0.23m\n"
     ]
    },
    {
     "name": "stderr",
     "output_type": "stream",
     "text": [
      "100%|██████████| 106/106 [00:12<00:00,  8.28it/s]\n",
      "100%|██████████| 18/18 [00:00<00:00, 41.27it/s]\n",
      "100%|██████████| 53/53 [00:01<00:00, 41.60it/s]\n"
     ]
    },
    {
     "name": "stdout",
     "output_type": "stream",
     "text": [
      "Epoch:186/1000.. Train Loss: 0.150.. Val Loss: 0.223.. Test Loss: 0.205.. Time: 0.24m\n"
     ]
    },
    {
     "name": "stderr",
     "output_type": "stream",
     "text": [
      "100%|██████████| 106/106 [00:12<00:00,  8.51it/s]\n",
      "100%|██████████| 18/18 [00:00<00:00, 42.83it/s]\n",
      "100%|██████████| 53/53 [00:01<00:00, 43.17it/s]\n"
     ]
    },
    {
     "name": "stdout",
     "output_type": "stream",
     "text": [
      "Epoch:187/1000.. Train Loss: 0.149.. Val Loss: 0.229.. Test Loss: 0.205.. Time: 0.24m\n"
     ]
    },
    {
     "name": "stderr",
     "output_type": "stream",
     "text": [
      "100%|██████████| 106/106 [00:12<00:00,  8.46it/s]\n",
      "100%|██████████| 18/18 [00:00<00:00, 41.07it/s]\n",
      "100%|██████████| 53/53 [00:01<00:00, 40.91it/s]\n"
     ]
    },
    {
     "name": "stdout",
     "output_type": "stream",
     "text": [
      "Epoch:188/1000.. Train Loss: 0.149.. Val Loss: 0.226.. Test Loss: 0.205.. Time: 0.24m\n"
     ]
    },
    {
     "name": "stderr",
     "output_type": "stream",
     "text": [
      "100%|██████████| 106/106 [00:12<00:00,  8.78it/s]\n",
      "100%|██████████| 18/18 [00:00<00:00, 43.03it/s]\n",
      "100%|██████████| 53/53 [00:01<00:00, 43.11it/s]\n"
     ]
    },
    {
     "name": "stdout",
     "output_type": "stream",
     "text": [
      "Epoch:189/1000.. Train Loss: 0.150.. Val Loss: 0.225.. Test Loss: 0.204.. Time: 0.23m\n"
     ]
    },
    {
     "name": "stderr",
     "output_type": "stream",
     "text": [
      "100%|██████████| 106/106 [00:12<00:00,  8.65it/s]\n",
      "100%|██████████| 18/18 [00:00<00:00, 41.13it/s]\n",
      "100%|██████████| 53/53 [00:01<00:00, 41.38it/s]\n"
     ]
    },
    {
     "name": "stdout",
     "output_type": "stream",
     "text": [
      "Epoch:190/1000.. Train Loss: 0.152.. Val Loss: 0.231.. Test Loss: 0.205.. Time: 0.23m\n"
     ]
    },
    {
     "name": "stderr",
     "output_type": "stream",
     "text": [
      "100%|██████████| 106/106 [00:12<00:00,  8.54it/s]\n",
      "100%|██████████| 18/18 [00:00<00:00, 42.89it/s]\n",
      "100%|██████████| 53/53 [00:01<00:00, 42.63it/s]\n"
     ]
    },
    {
     "name": "stdout",
     "output_type": "stream",
     "text": [
      "Epoch:191/1000.. Train Loss: 0.149.. Val Loss: 0.224.. Test Loss: 0.204.. Time: 0.24m\n"
     ]
    },
    {
     "name": "stderr",
     "output_type": "stream",
     "text": [
      "100%|██████████| 106/106 [00:12<00:00,  8.59it/s]\n",
      "100%|██████████| 18/18 [00:00<00:00, 42.77it/s]\n",
      "100%|██████████| 53/53 [00:01<00:00, 42.54it/s]\n"
     ]
    },
    {
     "name": "stdout",
     "output_type": "stream",
     "text": [
      "Epoch:192/1000.. Train Loss: 0.149.. Val Loss: 0.226.. Test Loss: 0.206.. Time: 0.23m\n"
     ]
    },
    {
     "name": "stderr",
     "output_type": "stream",
     "text": [
      "100%|██████████| 106/106 [00:12<00:00,  8.43it/s]\n",
      "100%|██████████| 18/18 [00:00<00:00, 42.56it/s]\n",
      "100%|██████████| 53/53 [00:01<00:00, 42.56it/s]\n"
     ]
    },
    {
     "name": "stdout",
     "output_type": "stream",
     "text": [
      "Epoch:193/1000.. Train Loss: 0.149.. Val Loss: 0.225.. Test Loss: 0.204.. Time: 0.24m\n"
     ]
    },
    {
     "name": "stderr",
     "output_type": "stream",
     "text": [
      "100%|██████████| 106/106 [00:12<00:00,  8.36it/s]\n",
      "100%|██████████| 18/18 [00:00<00:00, 42.42it/s]\n",
      "100%|██████████| 53/53 [00:01<00:00, 42.91it/s]\n"
     ]
    },
    {
     "name": "stdout",
     "output_type": "stream",
     "text": [
      "Epoch:194/1000.. Train Loss: 0.149.. Val Loss: 0.228.. Test Loss: 0.205.. Time: 0.24m\n"
     ]
    },
    {
     "name": "stderr",
     "output_type": "stream",
     "text": [
      "100%|██████████| 106/106 [00:12<00:00,  8.79it/s]\n",
      "100%|██████████| 18/18 [00:00<00:00, 41.14it/s]\n",
      "100%|██████████| 53/53 [00:01<00:00, 42.28it/s]\n"
     ]
    },
    {
     "name": "stdout",
     "output_type": "stream",
     "text": [
      "Epoch:195/1000.. Train Loss: 0.152.. Val Loss: 0.224.. Test Loss: 0.206.. Time: 0.23m\n"
     ]
    },
    {
     "name": "stderr",
     "output_type": "stream",
     "text": [
      "100%|██████████| 106/106 [00:12<00:00,  8.62it/s]\n",
      "100%|██████████| 18/18 [00:00<00:00, 43.31it/s]\n",
      "100%|██████████| 53/53 [00:01<00:00, 43.57it/s]\n"
     ]
    },
    {
     "name": "stdout",
     "output_type": "stream",
     "text": [
      "Epoch:196/1000.. Train Loss: 0.152.. Val Loss: 0.224.. Test Loss: 0.205.. Time: 0.23m\n"
     ]
    },
    {
     "name": "stderr",
     "output_type": "stream",
     "text": [
      "100%|██████████| 106/106 [00:12<00:00,  8.57it/s]\n",
      "100%|██████████| 18/18 [00:00<00:00, 43.27it/s]\n",
      "100%|██████████| 53/53 [00:01<00:00, 43.52it/s]\n"
     ]
    },
    {
     "name": "stdout",
     "output_type": "stream",
     "text": [
      "Epoch:197/1000.. Train Loss: 0.150.. Val Loss: 0.224.. Test Loss: 0.205.. Time: 0.23m\n"
     ]
    },
    {
     "name": "stderr",
     "output_type": "stream",
     "text": [
      "100%|██████████| 106/106 [00:12<00:00,  8.77it/s]\n",
      "100%|██████████| 18/18 [00:00<00:00, 43.45it/s]\n",
      "100%|██████████| 53/53 [00:01<00:00, 43.03it/s]\n"
     ]
    },
    {
     "name": "stdout",
     "output_type": "stream",
     "text": [
      "Epoch:198/1000.. Train Loss: 0.152.. Val Loss: 0.226.. Test Loss: 0.205.. Time: 0.23m\n"
     ]
    },
    {
     "name": "stderr",
     "output_type": "stream",
     "text": [
      "100%|██████████| 106/106 [00:12<00:00,  8.55it/s]\n",
      "100%|██████████| 18/18 [00:00<00:00, 42.75it/s]\n",
      "100%|██████████| 53/53 [00:01<00:00, 42.81it/s]\n"
     ]
    },
    {
     "name": "stdout",
     "output_type": "stream",
     "text": [
      "Epoch:199/1000.. Train Loss: 0.150.. Val Loss: 0.226.. Test Loss: 0.205.. Time: 0.24m\n"
     ]
    },
    {
     "name": "stderr",
     "output_type": "stream",
     "text": [
      "100%|██████████| 106/106 [00:12<00:00,  8.75it/s]\n",
      "100%|██████████| 18/18 [00:00<00:00, 40.63it/s]\n",
      "100%|██████████| 53/53 [00:01<00:00, 41.88it/s]\n"
     ]
    },
    {
     "name": "stdout",
     "output_type": "stream",
     "text": [
      "Epoch:200/1000.. Train Loss: 0.150.. Val Loss: 0.225.. Test Loss: 0.205.. Time: 0.23m\n"
     ]
    },
    {
     "name": "stderr",
     "output_type": "stream",
     "text": [
      "100%|██████████| 106/106 [00:12<00:00,  8.30it/s]\n",
      "100%|██████████| 18/18 [00:00<00:00, 42.55it/s]\n",
      "100%|██████████| 53/53 [00:01<00:00, 42.74it/s]\n"
     ]
    },
    {
     "name": "stdout",
     "output_type": "stream",
     "text": [
      "Epoch:201/1000.. Train Loss: 0.151.. Val Loss: 0.227.. Test Loss: 0.205.. Time: 0.24m\n"
     ]
    },
    {
     "name": "stderr",
     "output_type": "stream",
     "text": [
      "100%|██████████| 106/106 [00:12<00:00,  8.72it/s]\n",
      "100%|██████████| 18/18 [00:00<00:00, 42.75it/s]\n",
      "100%|██████████| 53/53 [00:01<00:00, 41.76it/s]\n"
     ]
    },
    {
     "name": "stdout",
     "output_type": "stream",
     "text": [
      "Epoch:202/1000.. Train Loss: 0.150.. Val Loss: 0.224.. Test Loss: 0.205.. Time: 0.23m\n"
     ]
    },
    {
     "name": "stderr",
     "output_type": "stream",
     "text": [
      "100%|██████████| 106/106 [00:12<00:00,  8.59it/s]\n",
      "100%|██████████| 18/18 [00:00<00:00, 40.54it/s]\n",
      "100%|██████████| 53/53 [00:01<00:00, 42.07it/s]\n"
     ]
    },
    {
     "name": "stdout",
     "output_type": "stream",
     "text": [
      "Epoch:203/1000.. Train Loss: 0.150.. Val Loss: 0.228.. Test Loss: 0.205.. Time: 0.23m\n"
     ]
    },
    {
     "name": "stderr",
     "output_type": "stream",
     "text": [
      "100%|██████████| 106/106 [00:11<00:00,  8.91it/s]\n",
      "100%|██████████| 18/18 [00:00<00:00, 43.16it/s]\n",
      "100%|██████████| 53/53 [00:01<00:00, 43.25it/s]\n"
     ]
    },
    {
     "name": "stdout",
     "output_type": "stream",
     "text": [
      "Epoch:204/1000.. Train Loss: 0.149.. Val Loss: 0.227.. Test Loss: 0.205.. Time: 0.23m\n"
     ]
    },
    {
     "name": "stderr",
     "output_type": "stream",
     "text": [
      "100%|██████████| 106/106 [00:12<00:00,  8.44it/s]\n",
      "100%|██████████| 18/18 [00:00<00:00, 42.29it/s]\n",
      "100%|██████████| 53/53 [00:01<00:00, 41.69it/s]\n"
     ]
    },
    {
     "name": "stdout",
     "output_type": "stream",
     "text": [
      "Epoch:205/1000.. Train Loss: 0.150.. Val Loss: 0.232.. Test Loss: 0.205.. Time: 0.24m\n"
     ]
    },
    {
     "name": "stderr",
     "output_type": "stream",
     "text": [
      "100%|██████████| 106/106 [00:12<00:00,  8.52it/s]\n",
      "100%|██████████| 18/18 [00:00<00:00, 41.55it/s]\n",
      "100%|██████████| 53/53 [00:01<00:00, 41.26it/s]\n"
     ]
    },
    {
     "name": "stdout",
     "output_type": "stream",
     "text": [
      "Epoch:206/1000.. Train Loss: 0.149.. Val Loss: 0.226.. Test Loss: 0.205.. Time: 0.24m\n"
     ]
    },
    {
     "name": "stderr",
     "output_type": "stream",
     "text": [
      "100%|██████████| 106/106 [00:12<00:00,  8.49it/s]\n",
      "100%|██████████| 18/18 [00:00<00:00, 41.17it/s]\n",
      "100%|██████████| 53/53 [00:01<00:00, 41.76it/s]\n"
     ]
    },
    {
     "name": "stdout",
     "output_type": "stream",
     "text": [
      "Epoch:207/1000.. Train Loss: 0.152.. Val Loss: 0.225.. Test Loss: 0.205.. Time: 0.24m\n"
     ]
    },
    {
     "name": "stderr",
     "output_type": "stream",
     "text": [
      "100%|██████████| 106/106 [00:12<00:00,  8.46it/s]\n",
      "100%|██████████| 18/18 [00:00<00:00, 43.16it/s]\n",
      "100%|██████████| 53/53 [00:01<00:00, 43.50it/s]\n"
     ]
    },
    {
     "name": "stdout",
     "output_type": "stream",
     "text": [
      "Epoch:208/1000.. Train Loss: 0.151.. Val Loss: 0.228.. Test Loss: 0.205.. Time: 0.24m\n"
     ]
    },
    {
     "name": "stderr",
     "output_type": "stream",
     "text": [
      "100%|██████████| 106/106 [00:12<00:00,  8.36it/s]\n",
      "100%|██████████| 18/18 [00:00<00:00, 41.82it/s]\n",
      "100%|██████████| 53/53 [00:01<00:00, 41.46it/s]\n"
     ]
    },
    {
     "name": "stdout",
     "output_type": "stream",
     "text": [
      "Epoch:209/1000.. Train Loss: 0.150.. Val Loss: 0.230.. Test Loss: 0.205.. Time: 0.24m\n"
     ]
    },
    {
     "name": "stderr",
     "output_type": "stream",
     "text": [
      "100%|██████████| 106/106 [00:12<00:00,  8.37it/s]\n",
      "100%|██████████| 18/18 [00:00<00:00, 40.41it/s]\n",
      "100%|██████████| 53/53 [00:01<00:00, 42.10it/s]\n"
     ]
    },
    {
     "name": "stdout",
     "output_type": "stream",
     "text": [
      "Epoch:210/1000.. Train Loss: 0.149.. Val Loss: 0.225.. Test Loss: 0.204.. Time: 0.24m\n"
     ]
    },
    {
     "name": "stderr",
     "output_type": "stream",
     "text": [
      "100%|██████████| 106/106 [00:12<00:00,  8.53it/s]\n",
      "100%|██████████| 18/18 [00:00<00:00, 40.93it/s]\n",
      "100%|██████████| 53/53 [00:01<00:00, 41.11it/s]\n"
     ]
    },
    {
     "name": "stdout",
     "output_type": "stream",
     "text": [
      "Epoch:211/1000.. Train Loss: 0.150.. Val Loss: 0.224.. Test Loss: 0.205.. Time: 0.24m\n"
     ]
    },
    {
     "name": "stderr",
     "output_type": "stream",
     "text": [
      "100%|██████████| 106/106 [00:12<00:00,  8.49it/s]\n",
      "100%|██████████| 18/18 [00:00<00:00, 42.97it/s]\n",
      "100%|██████████| 53/53 [00:01<00:00, 42.64it/s]\n"
     ]
    },
    {
     "name": "stdout",
     "output_type": "stream",
     "text": [
      "Epoch:212/1000.. Train Loss: 0.151.. Val Loss: 0.231.. Test Loss: 0.205.. Time: 0.24m\n"
     ]
    },
    {
     "name": "stderr",
     "output_type": "stream",
     "text": [
      "100%|██████████| 106/106 [00:12<00:00,  8.65it/s]\n",
      "100%|██████████| 18/18 [00:00<00:00, 42.77it/s]\n",
      "100%|██████████| 53/53 [00:01<00:00, 42.69it/s]\n"
     ]
    },
    {
     "name": "stdout",
     "output_type": "stream",
     "text": [
      "Epoch:213/1000.. Train Loss: 0.152.. Val Loss: 0.227.. Test Loss: 0.205.. Time: 0.23m\n"
     ]
    },
    {
     "name": "stderr",
     "output_type": "stream",
     "text": [
      "100%|██████████| 106/106 [00:12<00:00,  8.81it/s]\n",
      "100%|██████████| 18/18 [00:00<00:00, 42.75it/s]\n",
      "100%|██████████| 53/53 [00:01<00:00, 42.73it/s]\n"
     ]
    },
    {
     "name": "stdout",
     "output_type": "stream",
     "text": [
      "Epoch:214/1000.. Train Loss: 0.151.. Val Loss: 0.223.. Test Loss: 0.205.. Time: 0.23m\n"
     ]
    },
    {
     "name": "stderr",
     "output_type": "stream",
     "text": [
      "100%|██████████| 106/106 [00:12<00:00,  8.69it/s]\n",
      "100%|██████████| 18/18 [00:00<00:00, 42.64it/s]\n",
      "100%|██████████| 53/53 [00:01<00:00, 42.66it/s]\n"
     ]
    },
    {
     "name": "stdout",
     "output_type": "stream",
     "text": [
      "Epoch:215/1000.. Train Loss: 0.152.. Val Loss: 0.227.. Test Loss: 0.204.. Time: 0.23m\n"
     ]
    },
    {
     "name": "stderr",
     "output_type": "stream",
     "text": [
      "100%|██████████| 106/106 [00:12<00:00,  8.44it/s]\n",
      "100%|██████████| 18/18 [00:00<00:00, 43.18it/s]\n",
      "100%|██████████| 53/53 [00:01<00:00, 43.23it/s]\n"
     ]
    },
    {
     "name": "stdout",
     "output_type": "stream",
     "text": [
      "Epoch:216/1000.. Train Loss: 0.151.. Val Loss: 0.225.. Test Loss: 0.205.. Time: 0.24m\n"
     ]
    },
    {
     "name": "stderr",
     "output_type": "stream",
     "text": [
      "100%|██████████| 106/106 [00:12<00:00,  8.71it/s]\n",
      "100%|██████████| 18/18 [00:00<00:00, 41.17it/s]\n",
      "100%|██████████| 53/53 [00:01<00:00, 41.52it/s]\n"
     ]
    },
    {
     "name": "stdout",
     "output_type": "stream",
     "text": [
      "Epoch:217/1000.. Train Loss: 0.149.. Val Loss: 0.227.. Test Loss: 0.205.. Time: 0.23m\n"
     ]
    },
    {
     "name": "stderr",
     "output_type": "stream",
     "text": [
      "100%|██████████| 106/106 [00:11<00:00,  8.84it/s]\n",
      "100%|██████████| 18/18 [00:00<00:00, 42.46it/s]\n",
      "100%|██████████| 53/53 [00:01<00:00, 41.71it/s]\n"
     ]
    },
    {
     "name": "stdout",
     "output_type": "stream",
     "text": [
      "Epoch:218/1000.. Train Loss: 0.151.. Val Loss: 0.227.. Test Loss: 0.205.. Time: 0.23m\n"
     ]
    },
    {
     "name": "stderr",
     "output_type": "stream",
     "text": [
      "100%|██████████| 106/106 [00:12<00:00,  8.66it/s]\n",
      "100%|██████████| 18/18 [00:00<00:00, 42.62it/s]\n",
      "100%|██████████| 53/53 [00:01<00:00, 42.46it/s]\n"
     ]
    },
    {
     "name": "stdout",
     "output_type": "stream",
     "text": [
      "Epoch:219/1000.. Train Loss: 0.150.. Val Loss: 0.227.. Test Loss: 0.205.. Time: 0.23m\n"
     ]
    },
    {
     "name": "stderr",
     "output_type": "stream",
     "text": [
      "100%|██████████| 106/106 [00:11<00:00,  8.95it/s]\n",
      "100%|██████████| 18/18 [00:00<00:00, 42.87it/s]\n",
      "100%|██████████| 53/53 [00:01<00:00, 43.07it/s]\n"
     ]
    },
    {
     "name": "stdout",
     "output_type": "stream",
     "text": [
      "Epoch:220/1000.. Train Loss: 0.152.. Val Loss: 0.226.. Test Loss: 0.206.. Time: 0.23m\n"
     ]
    },
    {
     "name": "stderr",
     "output_type": "stream",
     "text": [
      "100%|██████████| 106/106 [00:12<00:00,  8.64it/s]\n",
      "100%|██████████| 18/18 [00:00<00:00, 42.84it/s]\n",
      "100%|██████████| 53/53 [00:01<00:00, 43.08it/s]\n"
     ]
    },
    {
     "name": "stdout",
     "output_type": "stream",
     "text": [
      "Epoch:221/1000.. Train Loss: 0.150.. Val Loss: 0.224.. Test Loss: 0.205.. Time: 0.23m\n"
     ]
    },
    {
     "name": "stderr",
     "output_type": "stream",
     "text": [
      "100%|██████████| 106/106 [00:12<00:00,  8.79it/s]\n",
      "100%|██████████| 18/18 [00:00<00:00, 41.85it/s]\n",
      "100%|██████████| 53/53 [00:01<00:00, 42.31it/s]\n"
     ]
    },
    {
     "name": "stdout",
     "output_type": "stream",
     "text": [
      "Epoch:222/1000.. Train Loss: 0.151.. Val Loss: 0.225.. Test Loss: 0.206.. Time: 0.23m\n"
     ]
    },
    {
     "name": "stderr",
     "output_type": "stream",
     "text": [
      "100%|██████████| 106/106 [00:12<00:00,  8.56it/s]\n",
      "100%|██████████| 18/18 [00:00<00:00, 42.25it/s]\n",
      "100%|██████████| 53/53 [00:01<00:00, 41.52it/s]\n"
     ]
    },
    {
     "name": "stdout",
     "output_type": "stream",
     "text": [
      "Epoch:223/1000.. Train Loss: 0.151.. Val Loss: 0.224.. Test Loss: 0.205.. Time: 0.24m\n"
     ]
    },
    {
     "name": "stderr",
     "output_type": "stream",
     "text": [
      "100%|██████████| 106/106 [00:12<00:00,  8.52it/s]\n",
      "100%|██████████| 18/18 [00:00<00:00, 41.36it/s]\n",
      "100%|██████████| 53/53 [00:01<00:00, 41.51it/s]\n"
     ]
    },
    {
     "name": "stdout",
     "output_type": "stream",
     "text": [
      "Epoch:224/1000.. Train Loss: 0.151.. Val Loss: 0.224.. Test Loss: 0.205.. Time: 0.24m\n"
     ]
    },
    {
     "name": "stderr",
     "output_type": "stream",
     "text": [
      "100%|██████████| 106/106 [00:12<00:00,  8.77it/s]\n",
      "100%|██████████| 18/18 [00:00<00:00, 43.37it/s]\n",
      "100%|██████████| 53/53 [00:01<00:00, 43.55it/s]\n"
     ]
    },
    {
     "name": "stdout",
     "output_type": "stream",
     "text": [
      "Epoch:225/1000.. Train Loss: 0.150.. Val Loss: 0.231.. Test Loss: 0.205.. Time: 0.23m\n"
     ]
    },
    {
     "name": "stderr",
     "output_type": "stream",
     "text": [
      "100%|██████████| 106/106 [00:12<00:00,  8.67it/s]\n",
      "100%|██████████| 18/18 [00:00<00:00, 43.53it/s]\n",
      "100%|██████████| 53/53 [00:01<00:00, 43.58it/s]\n"
     ]
    },
    {
     "name": "stdout",
     "output_type": "stream",
     "text": [
      "Epoch:226/1000.. Train Loss: 0.152.. Val Loss: 0.226.. Test Loss: 0.205.. Time: 0.23m\n"
     ]
    },
    {
     "name": "stderr",
     "output_type": "stream",
     "text": [
      "100%|██████████| 106/106 [00:12<00:00,  8.68it/s]\n",
      "100%|██████████| 18/18 [00:00<00:00, 42.68it/s]\n",
      "100%|██████████| 53/53 [00:01<00:00, 42.95it/s]\n"
     ]
    },
    {
     "name": "stdout",
     "output_type": "stream",
     "text": [
      "Epoch:227/1000.. Train Loss: 0.150.. Val Loss: 0.225.. Test Loss: 0.206.. Time: 0.23m\n"
     ]
    },
    {
     "name": "stderr",
     "output_type": "stream",
     "text": [
      "100%|██████████| 106/106 [00:12<00:00,  8.74it/s]\n",
      "100%|██████████| 18/18 [00:00<00:00, 43.38it/s]\n",
      "100%|██████████| 53/53 [00:01<00:00, 43.52it/s]\n"
     ]
    },
    {
     "name": "stdout",
     "output_type": "stream",
     "text": [
      "Epoch:228/1000.. Train Loss: 0.151.. Val Loss: 0.228.. Test Loss: 0.205.. Time: 0.23m\n"
     ]
    },
    {
     "name": "stderr",
     "output_type": "stream",
     "text": [
      "100%|██████████| 106/106 [00:12<00:00,  8.59it/s]\n",
      "100%|██████████| 18/18 [00:00<00:00, 42.92it/s]\n",
      "100%|██████████| 53/53 [00:01<00:00, 43.04it/s]\n"
     ]
    },
    {
     "name": "stdout",
     "output_type": "stream",
     "text": [
      "Epoch:229/1000.. Train Loss: 0.150.. Val Loss: 0.230.. Test Loss: 0.205.. Time: 0.23m\n"
     ]
    },
    {
     "name": "stderr",
     "output_type": "stream",
     "text": [
      "100%|██████████| 106/106 [00:11<00:00,  8.91it/s]\n",
      "100%|██████████| 18/18 [00:00<00:00, 43.15it/s]\n",
      "100%|██████████| 53/53 [00:01<00:00, 42.25it/s]\n"
     ]
    },
    {
     "name": "stdout",
     "output_type": "stream",
     "text": [
      "Epoch:230/1000.. Train Loss: 0.150.. Val Loss: 0.226.. Test Loss: 0.205.. Time: 0.23m\n"
     ]
    },
    {
     "name": "stderr",
     "output_type": "stream",
     "text": [
      "100%|██████████| 106/106 [00:12<00:00,  8.37it/s]\n",
      "100%|██████████| 18/18 [00:00<00:00, 41.35it/s]\n",
      "100%|██████████| 53/53 [00:01<00:00, 42.91it/s]\n"
     ]
    },
    {
     "name": "stdout",
     "output_type": "stream",
     "text": [
      "Epoch:231/1000.. Train Loss: 0.149.. Val Loss: 0.225.. Test Loss: 0.206.. Time: 0.24m\n"
     ]
    },
    {
     "name": "stderr",
     "output_type": "stream",
     "text": [
      "100%|██████████| 106/106 [00:12<00:00,  8.64it/s]\n",
      "100%|██████████| 18/18 [00:00<00:00, 43.06it/s]\n",
      "100%|██████████| 53/53 [00:01<00:00, 42.92it/s]\n"
     ]
    },
    {
     "name": "stdout",
     "output_type": "stream",
     "text": [
      "Epoch:232/1000.. Train Loss: 0.149.. Val Loss: 0.225.. Test Loss: 0.205.. Time: 0.23m\n"
     ]
    },
    {
     "name": "stderr",
     "output_type": "stream",
     "text": [
      "100%|██████████| 106/106 [00:11<00:00,  8.86it/s]\n",
      "100%|██████████| 18/18 [00:00<00:00, 43.04it/s]\n",
      "100%|██████████| 53/53 [00:01<00:00, 42.93it/s]\n"
     ]
    },
    {
     "name": "stdout",
     "output_type": "stream",
     "text": [
      "Epoch:233/1000.. Train Loss: 0.152.. Val Loss: 0.225.. Test Loss: 0.204.. Time: 0.23m\n"
     ]
    },
    {
     "name": "stderr",
     "output_type": "stream",
     "text": [
      "100%|██████████| 106/106 [00:12<00:00,  8.56it/s]\n",
      "100%|██████████| 18/18 [00:00<00:00, 42.73it/s]\n",
      "100%|██████████| 53/53 [00:01<00:00, 42.95it/s]\n"
     ]
    },
    {
     "name": "stdout",
     "output_type": "stream",
     "text": [
      "Epoch:234/1000.. Train Loss: 0.149.. Val Loss: 0.225.. Test Loss: 0.205.. Time: 0.23m\n"
     ]
    },
    {
     "name": "stderr",
     "output_type": "stream",
     "text": [
      "100%|██████████| 106/106 [00:12<00:00,  8.55it/s]\n",
      "100%|██████████| 18/18 [00:00<00:00, 43.47it/s]\n",
      "100%|██████████| 53/53 [00:01<00:00, 43.51it/s]\n"
     ]
    },
    {
     "name": "stdout",
     "output_type": "stream",
     "text": [
      "Epoch:235/1000.. Train Loss: 0.149.. Val Loss: 0.228.. Test Loss: 0.205.. Time: 0.23m\n"
     ]
    },
    {
     "name": "stderr",
     "output_type": "stream",
     "text": [
      "100%|██████████| 106/106 [00:12<00:00,  8.54it/s]\n",
      "100%|██████████| 18/18 [00:00<00:00, 42.90it/s]\n",
      "100%|██████████| 53/53 [00:01<00:00, 42.87it/s]\n"
     ]
    },
    {
     "name": "stdout",
     "output_type": "stream",
     "text": [
      "Epoch:236/1000.. Train Loss: 0.150.. Val Loss: 0.223.. Test Loss: 0.206.. Time: 0.23m\n"
     ]
    },
    {
     "name": "stderr",
     "output_type": "stream",
     "text": [
      "100%|██████████| 106/106 [00:12<00:00,  8.59it/s]\n",
      "100%|██████████| 18/18 [00:00<00:00, 42.15it/s]\n",
      "100%|██████████| 53/53 [00:01<00:00, 41.67it/s]\n"
     ]
    },
    {
     "name": "stdout",
     "output_type": "stream",
     "text": [
      "Epoch:237/1000.. Train Loss: 0.149.. Val Loss: 0.224.. Test Loss: 0.205.. Time: 0.23m\n"
     ]
    },
    {
     "name": "stderr",
     "output_type": "stream",
     "text": [
      "100%|██████████| 106/106 [00:12<00:00,  8.72it/s]\n",
      "100%|██████████| 18/18 [00:00<00:00, 42.91it/s]\n",
      "100%|██████████| 53/53 [00:01<00:00, 42.67it/s]\n"
     ]
    },
    {
     "name": "stdout",
     "output_type": "stream",
     "text": [
      "Epoch:238/1000.. Train Loss: 0.151.. Val Loss: 0.226.. Test Loss: 0.205.. Time: 0.23m\n"
     ]
    },
    {
     "name": "stderr",
     "output_type": "stream",
     "text": [
      "100%|██████████| 106/106 [00:12<00:00,  8.75it/s]\n",
      "100%|██████████| 18/18 [00:00<00:00, 41.24it/s]\n",
      "100%|██████████| 53/53 [00:01<00:00, 41.03it/s]\n"
     ]
    },
    {
     "name": "stdout",
     "output_type": "stream",
     "text": [
      "Epoch:239/1000.. Train Loss: 0.150.. Val Loss: 0.225.. Test Loss: 0.205.. Time: 0.23m\n"
     ]
    },
    {
     "name": "stderr",
     "output_type": "stream",
     "text": [
      "100%|██████████| 106/106 [00:12<00:00,  8.78it/s]\n",
      "100%|██████████| 18/18 [00:00<00:00, 42.13it/s]\n",
      "100%|██████████| 53/53 [00:01<00:00, 41.67it/s]\n"
     ]
    },
    {
     "name": "stdout",
     "output_type": "stream",
     "text": [
      "Epoch:240/1000.. Train Loss: 0.151.. Val Loss: 0.226.. Test Loss: 0.205.. Time: 0.23m\n"
     ]
    },
    {
     "name": "stderr",
     "output_type": "stream",
     "text": [
      "100%|██████████| 106/106 [00:12<00:00,  8.60it/s]\n",
      "100%|██████████| 18/18 [00:00<00:00, 42.34it/s]\n",
      "100%|██████████| 53/53 [00:01<00:00, 42.86it/s]\n"
     ]
    },
    {
     "name": "stdout",
     "output_type": "stream",
     "text": [
      "Epoch:241/1000.. Train Loss: 0.151.. Val Loss: 0.226.. Test Loss: 0.205.. Time: 0.23m\n"
     ]
    },
    {
     "name": "stderr",
     "output_type": "stream",
     "text": [
      "100%|██████████| 106/106 [00:12<00:00,  8.72it/s]\n",
      "100%|██████████| 18/18 [00:00<00:00, 42.64it/s]\n",
      "100%|██████████| 53/53 [00:01<00:00, 42.61it/s]\n"
     ]
    },
    {
     "name": "stdout",
     "output_type": "stream",
     "text": [
      "Epoch:242/1000.. Train Loss: 0.151.. Val Loss: 0.231.. Test Loss: 0.204.. Time: 0.23m\n"
     ]
    },
    {
     "name": "stderr",
     "output_type": "stream",
     "text": [
      "100%|██████████| 106/106 [00:12<00:00,  8.75it/s]\n",
      "100%|██████████| 18/18 [00:00<00:00, 42.79it/s]\n",
      "100%|██████████| 53/53 [00:01<00:00, 42.74it/s]\n"
     ]
    },
    {
     "name": "stdout",
     "output_type": "stream",
     "text": [
      "Epoch:243/1000.. Train Loss: 0.151.. Val Loss: 0.225.. Test Loss: 0.205.. Time: 0.23m\n"
     ]
    },
    {
     "name": "stderr",
     "output_type": "stream",
     "text": [
      "100%|██████████| 106/106 [00:12<00:00,  8.66it/s]\n",
      "100%|██████████| 18/18 [00:00<00:00, 42.75it/s]\n",
      "100%|██████████| 53/53 [00:01<00:00, 42.73it/s]\n"
     ]
    },
    {
     "name": "stdout",
     "output_type": "stream",
     "text": [
      "Epoch:244/1000.. Train Loss: 0.149.. Val Loss: 0.228.. Test Loss: 0.205.. Time: 0.23m\n"
     ]
    },
    {
     "name": "stderr",
     "output_type": "stream",
     "text": [
      "100%|██████████| 106/106 [00:11<00:00,  8.85it/s]\n",
      "100%|██████████| 18/18 [00:00<00:00, 43.03it/s]\n",
      "100%|██████████| 53/53 [00:01<00:00, 43.11it/s]\n"
     ]
    },
    {
     "name": "stdout",
     "output_type": "stream",
     "text": [
      "Epoch:245/1000.. Train Loss: 0.150.. Val Loss: 0.228.. Test Loss: 0.205.. Time: 0.23m\n"
     ]
    },
    {
     "name": "stderr",
     "output_type": "stream",
     "text": [
      "100%|██████████| 106/106 [00:12<00:00,  8.78it/s]\n",
      "100%|██████████| 18/18 [00:00<00:00, 42.02it/s]\n",
      "100%|██████████| 53/53 [00:01<00:00, 41.78it/s]\n"
     ]
    },
    {
     "name": "stdout",
     "output_type": "stream",
     "text": [
      "Epoch:246/1000.. Train Loss: 0.150.. Val Loss: 0.225.. Test Loss: 0.206.. Time: 0.23m\n"
     ]
    },
    {
     "name": "stderr",
     "output_type": "stream",
     "text": [
      "100%|██████████| 106/106 [00:12<00:00,  8.40it/s]\n",
      "100%|██████████| 18/18 [00:00<00:00, 43.51it/s]\n",
      "100%|██████████| 53/53 [00:01<00:00, 43.58it/s]\n"
     ]
    },
    {
     "name": "stdout",
     "output_type": "stream",
     "text": [
      "Epoch:247/1000.. Train Loss: 0.150.. Val Loss: 0.225.. Test Loss: 0.205.. Time: 0.24m\n"
     ]
    },
    {
     "name": "stderr",
     "output_type": "stream",
     "text": [
      "100%|██████████| 106/106 [00:12<00:00,  8.62it/s]\n",
      "100%|██████████| 18/18 [00:00<00:00, 42.99it/s]\n",
      "100%|██████████| 53/53 [00:01<00:00, 43.03it/s]\n"
     ]
    },
    {
     "name": "stdout",
     "output_type": "stream",
     "text": [
      "Epoch:248/1000.. Train Loss: 0.150.. Val Loss: 0.224.. Test Loss: 0.205.. Time: 0.23m\n"
     ]
    },
    {
     "name": "stderr",
     "output_type": "stream",
     "text": [
      "100%|██████████| 106/106 [00:12<00:00,  8.83it/s]\n",
      "100%|██████████| 18/18 [00:00<00:00, 41.20it/s]\n",
      "100%|██████████| 53/53 [00:01<00:00, 43.02it/s]\n"
     ]
    },
    {
     "name": "stdout",
     "output_type": "stream",
     "text": [
      "Epoch:249/1000.. Train Loss: 0.149.. Val Loss: 0.232.. Test Loss: 0.205.. Time: 0.23m\n"
     ]
    },
    {
     "name": "stderr",
     "output_type": "stream",
     "text": [
      "100%|██████████| 106/106 [00:12<00:00,  8.74it/s]\n",
      "100%|██████████| 18/18 [00:00<00:00, 43.13it/s]\n",
      "100%|██████████| 53/53 [00:01<00:00, 43.08it/s]\n"
     ]
    },
    {
     "name": "stdout",
     "output_type": "stream",
     "text": [
      "Epoch:250/1000.. Train Loss: 0.152.. Val Loss: 0.226.. Test Loss: 0.205.. Time: 0.23m\n"
     ]
    },
    {
     "name": "stderr",
     "output_type": "stream",
     "text": [
      "100%|██████████| 106/106 [00:12<00:00,  8.57it/s]\n",
      "100%|██████████| 18/18 [00:00<00:00, 42.89it/s]\n",
      "100%|██████████| 53/53 [00:01<00:00, 42.89it/s]\n"
     ]
    },
    {
     "name": "stdout",
     "output_type": "stream",
     "text": [
      "Epoch:251/1000.. Train Loss: 0.150.. Val Loss: 0.229.. Test Loss: 0.205.. Time: 0.23m\n"
     ]
    },
    {
     "name": "stderr",
     "output_type": "stream",
     "text": [
      "100%|██████████| 106/106 [00:11<00:00,  8.85it/s]\n",
      "100%|██████████| 18/18 [00:00<00:00, 43.25it/s]\n",
      "100%|██████████| 53/53 [00:01<00:00, 42.12it/s]\n"
     ]
    },
    {
     "name": "stdout",
     "output_type": "stream",
     "text": [
      "Epoch:252/1000.. Train Loss: 0.149.. Val Loss: 0.225.. Test Loss: 0.205.. Time: 0.23m\n"
     ]
    },
    {
     "name": "stderr",
     "output_type": "stream",
     "text": [
      "100%|██████████| 106/106 [00:12<00:00,  8.53it/s]\n",
      "100%|██████████| 18/18 [00:00<00:00, 42.81it/s]\n",
      "100%|██████████| 53/53 [00:01<00:00, 42.79it/s]\n"
     ]
    },
    {
     "name": "stdout",
     "output_type": "stream",
     "text": [
      "Epoch:253/1000.. Train Loss: 0.150.. Val Loss: 0.224.. Test Loss: 0.204.. Time: 0.24m\n"
     ]
    },
    {
     "name": "stderr",
     "output_type": "stream",
     "text": [
      "100%|██████████| 106/106 [00:12<00:00,  8.50it/s]\n",
      "100%|██████████| 18/18 [00:00<00:00, 41.12it/s]\n",
      "100%|██████████| 53/53 [00:01<00:00, 42.77it/s]\n"
     ]
    },
    {
     "name": "stdout",
     "output_type": "stream",
     "text": [
      "Epoch:254/1000.. Train Loss: 0.150.. Val Loss: 0.224.. Test Loss: 0.205.. Time: 0.24m\n"
     ]
    },
    {
     "name": "stderr",
     "output_type": "stream",
     "text": [
      "100%|██████████| 106/106 [00:12<00:00,  8.60it/s]\n",
      "100%|██████████| 18/18 [00:00<00:00, 40.40it/s]\n",
      "100%|██████████| 53/53 [00:01<00:00, 41.91it/s]\n"
     ]
    },
    {
     "name": "stdout",
     "output_type": "stream",
     "text": [
      "Epoch:255/1000.. Train Loss: 0.149.. Val Loss: 0.225.. Test Loss: 0.204.. Time: 0.23m\n"
     ]
    },
    {
     "name": "stderr",
     "output_type": "stream",
     "text": [
      "100%|██████████| 106/106 [00:12<00:00,  8.64it/s]\n",
      "100%|██████████| 18/18 [00:00<00:00, 39.30it/s]\n",
      "100%|██████████| 53/53 [00:01<00:00, 40.44it/s]\n"
     ]
    },
    {
     "name": "stdout",
     "output_type": "stream",
     "text": [
      "Epoch:256/1000.. Train Loss: 0.149.. Val Loss: 0.230.. Test Loss: 0.205.. Time: 0.24m\n"
     ]
    },
    {
     "name": "stderr",
     "output_type": "stream",
     "text": [
      "100%|██████████| 106/106 [00:12<00:00,  8.23it/s]\n",
      "100%|██████████| 18/18 [00:00<00:00, 42.84it/s]\n",
      "100%|██████████| 53/53 [00:01<00:00, 42.78it/s]\n"
     ]
    },
    {
     "name": "stdout",
     "output_type": "stream",
     "text": [
      "Epoch:257/1000.. Train Loss: 0.149.. Val Loss: 0.225.. Test Loss: 0.205.. Time: 0.24m\n"
     ]
    },
    {
     "name": "stderr",
     "output_type": "stream",
     "text": [
      "100%|██████████| 106/106 [00:12<00:00,  8.80it/s]\n",
      "100%|██████████| 18/18 [00:00<00:00, 41.20it/s]\n",
      "100%|██████████| 53/53 [00:01<00:00, 41.24it/s]\n"
     ]
    },
    {
     "name": "stdout",
     "output_type": "stream",
     "text": [
      "Epoch:258/1000.. Train Loss: 0.151.. Val Loss: 0.224.. Test Loss: 0.205.. Time: 0.23m\n"
     ]
    },
    {
     "name": "stderr",
     "output_type": "stream",
     "text": [
      "100%|██████████| 106/106 [00:12<00:00,  8.64it/s]\n",
      "100%|██████████| 18/18 [00:00<00:00, 41.63it/s]\n",
      "100%|██████████| 53/53 [00:01<00:00, 42.70it/s]\n"
     ]
    },
    {
     "name": "stdout",
     "output_type": "stream",
     "text": [
      "Epoch:259/1000.. Train Loss: 0.151.. Val Loss: 0.223.. Test Loss: 0.206.. Time: 0.23m\n"
     ]
    },
    {
     "name": "stderr",
     "output_type": "stream",
     "text": [
      "100%|██████████| 106/106 [00:12<00:00,  8.64it/s]\n",
      "100%|██████████| 18/18 [00:00<00:00, 42.91it/s]\n",
      "100%|██████████| 53/53 [00:01<00:00, 42.65it/s]\n"
     ]
    },
    {
     "name": "stdout",
     "output_type": "stream",
     "text": [
      "Epoch:260/1000.. Train Loss: 0.152.. Val Loss: 0.227.. Test Loss: 0.205.. Time: 0.23m\n"
     ]
    },
    {
     "name": "stderr",
     "output_type": "stream",
     "text": [
      "100%|██████████| 106/106 [00:12<00:00,  8.76it/s]\n",
      "100%|██████████| 18/18 [00:00<00:00, 42.32it/s]\n",
      "100%|██████████| 53/53 [00:01<00:00, 42.18it/s]\n"
     ]
    },
    {
     "name": "stdout",
     "output_type": "stream",
     "text": [
      "Epoch:261/1000.. Train Loss: 0.150.. Val Loss: 0.225.. Test Loss: 0.206.. Time: 0.23m\n"
     ]
    },
    {
     "name": "stderr",
     "output_type": "stream",
     "text": [
      "100%|██████████| 106/106 [00:12<00:00,  8.42it/s]\n",
      "100%|██████████| 18/18 [00:00<00:00, 43.35it/s]\n",
      "100%|██████████| 53/53 [00:01<00:00, 43.19it/s]\n"
     ]
    },
    {
     "name": "stdout",
     "output_type": "stream",
     "text": [
      "Epoch:262/1000.. Train Loss: 0.149.. Val Loss: 0.224.. Test Loss: 0.205.. Time: 0.24m\n"
     ]
    },
    {
     "name": "stderr",
     "output_type": "stream",
     "text": [
      "100%|██████████| 106/106 [00:12<00:00,  8.56it/s]\n",
      "100%|██████████| 18/18 [00:00<00:00, 41.76it/s]\n",
      "100%|██████████| 53/53 [00:01<00:00, 41.47it/s]\n"
     ]
    },
    {
     "name": "stdout",
     "output_type": "stream",
     "text": [
      "Epoch:263/1000.. Train Loss: 0.151.. Val Loss: 0.225.. Test Loss: 0.206.. Time: 0.24m\n"
     ]
    },
    {
     "name": "stderr",
     "output_type": "stream",
     "text": [
      "100%|██████████| 106/106 [00:12<00:00,  8.70it/s]\n",
      "100%|██████████| 18/18 [00:00<00:00, 42.77it/s]\n",
      "100%|██████████| 53/53 [00:01<00:00, 41.45it/s]\n"
     ]
    },
    {
     "name": "stdout",
     "output_type": "stream",
     "text": [
      "Epoch:264/1000.. Train Loss: 0.151.. Val Loss: 0.228.. Test Loss: 0.205.. Time: 0.23m\n"
     ]
    },
    {
     "name": "stderr",
     "output_type": "stream",
     "text": [
      "100%|██████████| 106/106 [00:12<00:00,  8.79it/s]\n",
      "100%|██████████| 18/18 [00:00<00:00, 41.62it/s]\n",
      "100%|██████████| 53/53 [00:01<00:00, 41.03it/s]\n"
     ]
    },
    {
     "name": "stdout",
     "output_type": "stream",
     "text": [
      "Epoch:265/1000.. Train Loss: 0.150.. Val Loss: 0.227.. Test Loss: 0.204.. Time: 0.23m\n"
     ]
    },
    {
     "name": "stderr",
     "output_type": "stream",
     "text": [
      "100%|██████████| 106/106 [00:12<00:00,  8.52it/s]\n",
      "100%|██████████| 18/18 [00:00<00:00, 42.53it/s]\n",
      "100%|██████████| 53/53 [00:01<00:00, 42.59it/s]\n"
     ]
    },
    {
     "name": "stdout",
     "output_type": "stream",
     "text": [
      "Epoch:266/1000.. Train Loss: 0.151.. Val Loss: 0.225.. Test Loss: 0.205.. Time: 0.24m\n"
     ]
    },
    {
     "name": "stderr",
     "output_type": "stream",
     "text": [
      "100%|██████████| 106/106 [00:12<00:00,  8.72it/s]\n",
      "100%|██████████| 18/18 [00:00<00:00, 41.97it/s]\n",
      "100%|██████████| 53/53 [00:01<00:00, 41.31it/s]\n"
     ]
    },
    {
     "name": "stdout",
     "output_type": "stream",
     "text": [
      "Epoch:267/1000.. Train Loss: 0.150.. Val Loss: 0.225.. Test Loss: 0.205.. Time: 0.23m\n"
     ]
    },
    {
     "name": "stderr",
     "output_type": "stream",
     "text": [
      "100%|██████████| 106/106 [00:12<00:00,  8.62it/s]\n",
      "100%|██████████| 18/18 [00:00<00:00, 42.65it/s]\n",
      "100%|██████████| 53/53 [00:01<00:00, 42.57it/s]\n"
     ]
    },
    {
     "name": "stdout",
     "output_type": "stream",
     "text": [
      "Epoch:268/1000.. Train Loss: 0.151.. Val Loss: 0.224.. Test Loss: 0.205.. Time: 0.23m\n"
     ]
    },
    {
     "name": "stderr",
     "output_type": "stream",
     "text": [
      "100%|██████████| 106/106 [00:11<00:00,  9.01it/s]\n",
      "100%|██████████| 18/18 [00:00<00:00, 40.00it/s]\n",
      "100%|██████████| 53/53 [00:01<00:00, 41.42it/s]\n"
     ]
    },
    {
     "name": "stdout",
     "output_type": "stream",
     "text": [
      "Epoch:269/1000.. Train Loss: 0.149.. Val Loss: 0.223.. Test Loss: 0.205.. Time: 0.23m\n"
     ]
    },
    {
     "name": "stderr",
     "output_type": "stream",
     "text": [
      "100%|██████████| 106/106 [00:11<00:00,  8.94it/s]\n",
      "100%|██████████| 18/18 [00:00<00:00, 41.70it/s]\n",
      "100%|██████████| 53/53 [00:01<00:00, 43.08it/s]\n"
     ]
    },
    {
     "name": "stdout",
     "output_type": "stream",
     "text": [
      "Epoch:270/1000.. Train Loss: 0.151.. Val Loss: 0.227.. Test Loss: 0.204.. Time: 0.23m\n"
     ]
    },
    {
     "name": "stderr",
     "output_type": "stream",
     "text": [
      "100%|██████████| 106/106 [00:12<00:00,  8.45it/s]\n",
      "100%|██████████| 18/18 [00:00<00:00, 42.78it/s]\n",
      "100%|██████████| 53/53 [00:01<00:00, 43.09it/s]\n"
     ]
    },
    {
     "name": "stdout",
     "output_type": "stream",
     "text": [
      "Epoch:271/1000.. Train Loss: 0.152.. Val Loss: 0.225.. Test Loss: 0.204.. Time: 0.24m\n"
     ]
    },
    {
     "name": "stderr",
     "output_type": "stream",
     "text": [
      "100%|██████████| 106/106 [00:12<00:00,  8.65it/s]\n",
      "100%|██████████| 18/18 [00:00<00:00, 41.40it/s]\n",
      "100%|██████████| 53/53 [00:01<00:00, 41.29it/s]\n"
     ]
    },
    {
     "name": "stdout",
     "output_type": "stream",
     "text": [
      "Epoch:272/1000.. Train Loss: 0.149.. Val Loss: 0.223.. Test Loss: 0.206.. Time: 0.23m\n"
     ]
    },
    {
     "name": "stderr",
     "output_type": "stream",
     "text": [
      "100%|██████████| 106/106 [00:12<00:00,  8.55it/s]\n",
      "100%|██████████| 18/18 [00:00<00:00, 42.56it/s]\n",
      "100%|██████████| 53/53 [00:01<00:00, 43.06it/s]\n"
     ]
    },
    {
     "name": "stdout",
     "output_type": "stream",
     "text": [
      "Epoch:273/1000.. Train Loss: 0.149.. Val Loss: 0.227.. Test Loss: 0.205.. Time: 0.24m\n"
     ]
    },
    {
     "name": "stderr",
     "output_type": "stream",
     "text": [
      "100%|██████████| 106/106 [00:12<00:00,  8.80it/s]\n",
      "100%|██████████| 18/18 [00:00<00:00, 42.16it/s]\n",
      "100%|██████████| 53/53 [00:01<00:00, 41.99it/s]\n"
     ]
    },
    {
     "name": "stdout",
     "output_type": "stream",
     "text": [
      "Epoch:274/1000.. Train Loss: 0.149.. Val Loss: 0.225.. Test Loss: 0.205.. Time: 0.23m\n"
     ]
    },
    {
     "name": "stderr",
     "output_type": "stream",
     "text": [
      "100%|██████████| 106/106 [00:12<00:00,  8.75it/s]\n",
      "100%|██████████| 18/18 [00:00<00:00, 41.61it/s]\n",
      "100%|██████████| 53/53 [00:01<00:00, 42.04it/s]\n"
     ]
    },
    {
     "name": "stdout",
     "output_type": "stream",
     "text": [
      "Epoch:275/1000.. Train Loss: 0.151.. Val Loss: 0.227.. Test Loss: 0.205.. Time: 0.23m\n"
     ]
    },
    {
     "name": "stderr",
     "output_type": "stream",
     "text": [
      "100%|██████████| 106/106 [00:12<00:00,  8.55it/s]\n",
      "100%|██████████| 18/18 [00:00<00:00, 41.96it/s]\n",
      "100%|██████████| 53/53 [00:01<00:00, 41.54it/s]\n"
     ]
    },
    {
     "name": "stdout",
     "output_type": "stream",
     "text": [
      "Epoch:276/1000.. Train Loss: 0.149.. Val Loss: 0.225.. Test Loss: 0.205.. Time: 0.24m\n"
     ]
    },
    {
     "name": "stderr",
     "output_type": "stream",
     "text": [
      "100%|██████████| 106/106 [00:12<00:00,  8.73it/s]\n",
      "100%|██████████| 18/18 [00:00<00:00, 42.74it/s]\n",
      "100%|██████████| 53/53 [00:01<00:00, 42.09it/s]\n"
     ]
    },
    {
     "name": "stdout",
     "output_type": "stream",
     "text": [
      "Epoch:277/1000.. Train Loss: 0.151.. Val Loss: 0.225.. Test Loss: 0.205.. Time: 0.23m\n"
     ]
    },
    {
     "name": "stderr",
     "output_type": "stream",
     "text": [
      "100%|██████████| 106/106 [00:12<00:00,  8.73it/s]\n",
      "100%|██████████| 18/18 [00:00<00:00, 42.15it/s]\n",
      "100%|██████████| 53/53 [00:01<00:00, 42.16it/s]\n"
     ]
    },
    {
     "name": "stdout",
     "output_type": "stream",
     "text": [
      "Epoch:278/1000.. Train Loss: 0.152.. Val Loss: 0.227.. Test Loss: 0.206.. Time: 0.23m\n"
     ]
    },
    {
     "name": "stderr",
     "output_type": "stream",
     "text": [
      "100%|██████████| 106/106 [00:12<00:00,  8.74it/s]\n",
      "100%|██████████| 18/18 [00:00<00:00, 42.17it/s]\n",
      "100%|██████████| 53/53 [00:01<00:00, 42.13it/s]\n"
     ]
    },
    {
     "name": "stdout",
     "output_type": "stream",
     "text": [
      "Epoch:279/1000.. Train Loss: 0.151.. Val Loss: 0.225.. Test Loss: 0.204.. Time: 0.23m\n"
     ]
    },
    {
     "name": "stderr",
     "output_type": "stream",
     "text": [
      "100%|██████████| 106/106 [00:12<00:00,  8.79it/s]\n",
      "100%|██████████| 18/18 [00:00<00:00, 42.21it/s]\n",
      "100%|██████████| 53/53 [00:01<00:00, 40.57it/s]\n"
     ]
    },
    {
     "name": "stdout",
     "output_type": "stream",
     "text": [
      "Epoch:280/1000.. Train Loss: 0.150.. Val Loss: 0.224.. Test Loss: 0.205.. Time: 0.23m\n"
     ]
    },
    {
     "name": "stderr",
     "output_type": "stream",
     "text": [
      "100%|██████████| 106/106 [00:12<00:00,  8.60it/s]\n",
      "100%|██████████| 18/18 [00:00<00:00, 42.15it/s]\n",
      "100%|██████████| 53/53 [00:01<00:00, 40.59it/s]\n"
     ]
    },
    {
     "name": "stdout",
     "output_type": "stream",
     "text": [
      "Epoch:281/1000.. Train Loss: 0.151.. Val Loss: 0.224.. Test Loss: 0.205.. Time: 0.24m\n"
     ]
    },
    {
     "name": "stderr",
     "output_type": "stream",
     "text": [
      "100%|██████████| 106/106 [00:12<00:00,  8.41it/s]\n",
      "100%|██████████| 18/18 [00:00<00:00, 42.23it/s]\n",
      "100%|██████████| 53/53 [00:01<00:00, 42.16it/s]\n"
     ]
    },
    {
     "name": "stdout",
     "output_type": "stream",
     "text": [
      "Epoch:282/1000.. Train Loss: 0.149.. Val Loss: 0.231.. Test Loss: 0.205.. Time: 0.24m\n"
     ]
    },
    {
     "name": "stderr",
     "output_type": "stream",
     "text": [
      "100%|██████████| 106/106 [00:12<00:00,  8.64it/s]\n",
      "100%|██████████| 18/18 [00:00<00:00, 43.13it/s]\n",
      "100%|██████████| 53/53 [00:01<00:00, 43.23it/s]\n"
     ]
    },
    {
     "name": "stdout",
     "output_type": "stream",
     "text": [
      "Epoch:283/1000.. Train Loss: 0.151.. Val Loss: 0.225.. Test Loss: 0.205.. Time: 0.23m\n"
     ]
    },
    {
     "name": "stderr",
     "output_type": "stream",
     "text": [
      "100%|██████████| 106/106 [00:12<00:00,  8.44it/s]\n",
      "100%|██████████| 18/18 [00:00<00:00, 42.02it/s]\n",
      "100%|██████████| 53/53 [00:01<00:00, 42.33it/s]\n"
     ]
    },
    {
     "name": "stdout",
     "output_type": "stream",
     "text": [
      "Epoch:284/1000.. Train Loss: 0.151.. Val Loss: 0.225.. Test Loss: 0.205.. Time: 0.24m\n"
     ]
    },
    {
     "name": "stderr",
     "output_type": "stream",
     "text": [
      "100%|██████████| 106/106 [00:12<00:00,  8.73it/s]\n",
      "100%|██████████| 18/18 [00:00<00:00, 42.61it/s]\n",
      "100%|██████████| 53/53 [00:01<00:00, 42.71it/s]\n"
     ]
    },
    {
     "name": "stdout",
     "output_type": "stream",
     "text": [
      "Epoch:285/1000.. Train Loss: 0.152.. Val Loss: 0.226.. Test Loss: 0.204.. Time: 0.23m\n"
     ]
    },
    {
     "name": "stderr",
     "output_type": "stream",
     "text": [
      "100%|██████████| 106/106 [00:12<00:00,  8.75it/s]\n",
      "100%|██████████| 18/18 [00:00<00:00, 42.63it/s]\n",
      "100%|██████████| 53/53 [00:01<00:00, 42.62it/s]\n"
     ]
    },
    {
     "name": "stdout",
     "output_type": "stream",
     "text": [
      "Epoch:286/1000.. Train Loss: 0.149.. Val Loss: 0.225.. Test Loss: 0.205.. Time: 0.23m\n"
     ]
    },
    {
     "name": "stderr",
     "output_type": "stream",
     "text": [
      "100%|██████████| 106/106 [00:12<00:00,  8.81it/s]\n",
      "100%|██████████| 18/18 [00:00<00:00, 42.12it/s]\n",
      "100%|██████████| 53/53 [00:01<00:00, 42.63it/s]\n"
     ]
    },
    {
     "name": "stdout",
     "output_type": "stream",
     "text": [
      "Epoch:287/1000.. Train Loss: 0.151.. Val Loss: 0.227.. Test Loss: 0.204.. Time: 0.23m\n"
     ]
    },
    {
     "name": "stderr",
     "output_type": "stream",
     "text": [
      "100%|██████████| 106/106 [00:12<00:00,  8.79it/s]\n",
      "100%|██████████| 18/18 [00:00<00:00, 42.93it/s]\n",
      "100%|██████████| 53/53 [00:01<00:00, 42.78it/s]\n"
     ]
    },
    {
     "name": "stdout",
     "output_type": "stream",
     "text": [
      "Epoch:288/1000.. Train Loss: 0.152.. Val Loss: 0.227.. Test Loss: 0.205.. Time: 0.23m\n"
     ]
    },
    {
     "name": "stderr",
     "output_type": "stream",
     "text": [
      "100%|██████████| 106/106 [00:12<00:00,  8.55it/s]\n",
      "100%|██████████| 18/18 [00:00<00:00, 42.68it/s]\n",
      "100%|██████████| 53/53 [00:01<00:00, 42.67it/s]\n"
     ]
    },
    {
     "name": "stdout",
     "output_type": "stream",
     "text": [
      "Epoch:289/1000.. Train Loss: 0.150.. Val Loss: 0.227.. Test Loss: 0.205.. Time: 0.24m\n"
     ]
    },
    {
     "name": "stderr",
     "output_type": "stream",
     "text": [
      "100%|██████████| 106/106 [00:11<00:00,  8.95it/s]\n",
      "100%|██████████| 18/18 [00:00<00:00, 42.86it/s]\n",
      "100%|██████████| 53/53 [00:01<00:00, 42.67it/s]\n"
     ]
    },
    {
     "name": "stdout",
     "output_type": "stream",
     "text": [
      "Epoch:290/1000.. Train Loss: 0.150.. Val Loss: 0.225.. Test Loss: 0.205.. Time: 0.23m\n"
     ]
    },
    {
     "name": "stderr",
     "output_type": "stream",
     "text": [
      "100%|██████████| 106/106 [00:12<00:00,  8.74it/s]\n",
      "100%|██████████| 18/18 [00:00<00:00, 43.04it/s]\n",
      "100%|██████████| 53/53 [00:01<00:00, 42.95it/s]\n"
     ]
    },
    {
     "name": "stdout",
     "output_type": "stream",
     "text": [
      "Epoch:291/1000.. Train Loss: 0.151.. Val Loss: 0.223.. Test Loss: 0.204.. Time: 0.23m\n"
     ]
    },
    {
     "name": "stderr",
     "output_type": "stream",
     "text": [
      "100%|██████████| 106/106 [00:12<00:00,  8.77it/s]\n",
      "100%|██████████| 18/18 [00:00<00:00, 43.34it/s]\n",
      "100%|██████████| 53/53 [00:01<00:00, 43.43it/s]\n"
     ]
    },
    {
     "name": "stdout",
     "output_type": "stream",
     "text": [
      "Epoch:292/1000.. Train Loss: 0.150.. Val Loss: 0.228.. Test Loss: 0.205.. Time: 0.23m\n"
     ]
    },
    {
     "name": "stderr",
     "output_type": "stream",
     "text": [
      "100%|██████████| 106/106 [00:12<00:00,  8.67it/s]\n",
      "100%|██████████| 18/18 [00:00<00:00, 43.20it/s]\n",
      "100%|██████████| 53/53 [00:01<00:00, 43.30it/s]\n"
     ]
    },
    {
     "name": "stdout",
     "output_type": "stream",
     "text": [
      "Epoch:293/1000.. Train Loss: 0.151.. Val Loss: 0.225.. Test Loss: 0.204.. Time: 0.23m\n"
     ]
    },
    {
     "name": "stderr",
     "output_type": "stream",
     "text": [
      "100%|██████████| 106/106 [00:12<00:00,  8.57it/s]\n",
      "100%|██████████| 18/18 [00:00<00:00, 43.39it/s]\n",
      "100%|██████████| 53/53 [00:01<00:00, 43.52it/s]\n"
     ]
    },
    {
     "name": "stdout",
     "output_type": "stream",
     "text": [
      "Epoch:294/1000.. Train Loss: 0.151.. Val Loss: 0.227.. Test Loss: 0.204.. Time: 0.23m\n"
     ]
    },
    {
     "name": "stderr",
     "output_type": "stream",
     "text": [
      "100%|██████████| 106/106 [00:12<00:00,  8.54it/s]\n",
      "100%|██████████| 18/18 [00:00<00:00, 43.51it/s]\n",
      "100%|██████████| 53/53 [00:01<00:00, 43.52it/s]\n"
     ]
    },
    {
     "name": "stdout",
     "output_type": "stream",
     "text": [
      "Epoch:295/1000.. Train Loss: 0.150.. Val Loss: 0.226.. Test Loss: 0.205.. Time: 0.23m\n"
     ]
    },
    {
     "name": "stderr",
     "output_type": "stream",
     "text": [
      "100%|██████████| 106/106 [00:12<00:00,  8.43it/s]\n",
      "100%|██████████| 18/18 [00:00<00:00, 43.41it/s]\n",
      "100%|██████████| 53/53 [00:01<00:00, 43.66it/s]\n"
     ]
    },
    {
     "name": "stdout",
     "output_type": "stream",
     "text": [
      "Epoch:296/1000.. Train Loss: 0.149.. Val Loss: 0.225.. Test Loss: 0.205.. Time: 0.24m\n"
     ]
    },
    {
     "name": "stderr",
     "output_type": "stream",
     "text": [
      "100%|██████████| 106/106 [00:12<00:00,  8.45it/s]\n",
      "100%|██████████| 18/18 [00:00<00:00, 43.32it/s]\n",
      "100%|██████████| 53/53 [00:01<00:00, 43.34it/s]\n"
     ]
    },
    {
     "name": "stdout",
     "output_type": "stream",
     "text": [
      "Epoch:297/1000.. Train Loss: 0.151.. Val Loss: 0.226.. Test Loss: 0.205.. Time: 0.24m\n"
     ]
    },
    {
     "name": "stderr",
     "output_type": "stream",
     "text": [
      "100%|██████████| 106/106 [00:12<00:00,  8.45it/s]\n",
      "100%|██████████| 18/18 [00:00<00:00, 43.11it/s]\n",
      "100%|██████████| 53/53 [00:01<00:00, 42.97it/s]\n"
     ]
    },
    {
     "name": "stdout",
     "output_type": "stream",
     "text": [
      "Epoch:298/1000.. Train Loss: 0.149.. Val Loss: 0.225.. Test Loss: 0.205.. Time: 0.24m\n"
     ]
    },
    {
     "name": "stderr",
     "output_type": "stream",
     "text": [
      "100%|██████████| 106/106 [00:12<00:00,  8.68it/s]\n",
      "100%|██████████| 18/18 [00:00<00:00, 42.12it/s]\n",
      "100%|██████████| 53/53 [00:01<00:00, 42.97it/s]\n"
     ]
    },
    {
     "name": "stdout",
     "output_type": "stream",
     "text": [
      "Epoch:299/1000.. Train Loss: 0.150.. Val Loss: 0.228.. Test Loss: 0.206.. Time: 0.23m\n"
     ]
    },
    {
     "name": "stderr",
     "output_type": "stream",
     "text": [
      "100%|██████████| 106/106 [00:12<00:00,  8.65it/s]\n",
      "100%|██████████| 18/18 [00:00<00:00, 42.86it/s]\n",
      "100%|██████████| 53/53 [00:01<00:00, 42.71it/s]\n"
     ]
    },
    {
     "name": "stdout",
     "output_type": "stream",
     "text": [
      "Epoch:300/1000.. Train Loss: 0.149.. Val Loss: 0.225.. Test Loss: 0.205.. Time: 0.23m\n"
     ]
    },
    {
     "name": "stderr",
     "output_type": "stream",
     "text": [
      "100%|██████████| 106/106 [00:12<00:00,  8.70it/s]\n",
      "100%|██████████| 18/18 [00:00<00:00, 42.01it/s]\n",
      "100%|██████████| 53/53 [00:01<00:00, 42.06it/s]\n"
     ]
    },
    {
     "name": "stdout",
     "output_type": "stream",
     "text": [
      "Epoch:301/1000.. Train Loss: 0.149.. Val Loss: 0.226.. Test Loss: 0.205.. Time: 0.23m\n"
     ]
    },
    {
     "name": "stderr",
     "output_type": "stream",
     "text": [
      "100%|██████████| 106/106 [00:12<00:00,  8.68it/s]\n",
      "100%|██████████| 18/18 [00:00<00:00, 42.68it/s]\n",
      "100%|██████████| 53/53 [00:01<00:00, 42.06it/s]\n"
     ]
    },
    {
     "name": "stdout",
     "output_type": "stream",
     "text": [
      "Epoch:302/1000.. Train Loss: 0.151.. Val Loss: 0.225.. Test Loss: 0.205.. Time: 0.23m\n"
     ]
    },
    {
     "name": "stderr",
     "output_type": "stream",
     "text": [
      "100%|██████████| 106/106 [00:12<00:00,  8.71it/s]\n",
      "100%|██████████| 18/18 [00:00<00:00, 43.04it/s]\n",
      "100%|██████████| 53/53 [00:01<00:00, 43.12it/s]\n"
     ]
    },
    {
     "name": "stdout",
     "output_type": "stream",
     "text": [
      "Epoch:303/1000.. Train Loss: 0.151.. Val Loss: 0.226.. Test Loss: 0.206.. Time: 0.23m\n"
     ]
    },
    {
     "name": "stderr",
     "output_type": "stream",
     "text": [
      "100%|██████████| 106/106 [00:12<00:00,  8.65it/s]\n",
      "100%|██████████| 18/18 [00:00<00:00, 42.96it/s]\n",
      "100%|██████████| 53/53 [00:01<00:00, 43.08it/s]\n"
     ]
    },
    {
     "name": "stdout",
     "output_type": "stream",
     "text": [
      "Epoch:304/1000.. Train Loss: 0.150.. Val Loss: 0.226.. Test Loss: 0.204.. Time: 0.23m\n"
     ]
    },
    {
     "name": "stderr",
     "output_type": "stream",
     "text": [
      "100%|██████████| 106/106 [00:12<00:00,  8.80it/s]\n",
      "100%|██████████| 18/18 [00:00<00:00, 41.28it/s]\n",
      "100%|██████████| 53/53 [00:01<00:00, 41.13it/s]\n"
     ]
    },
    {
     "name": "stdout",
     "output_type": "stream",
     "text": [
      "Epoch:305/1000.. Train Loss: 0.150.. Val Loss: 0.225.. Test Loss: 0.205.. Time: 0.23m\n"
     ]
    },
    {
     "name": "stderr",
     "output_type": "stream",
     "text": [
      "100%|██████████| 106/106 [00:12<00:00,  8.68it/s]\n",
      "100%|██████████| 18/18 [00:00<00:00, 41.41it/s]\n",
      "100%|██████████| 53/53 [00:01<00:00, 41.81it/s]\n"
     ]
    },
    {
     "name": "stdout",
     "output_type": "stream",
     "text": [
      "Epoch:306/1000.. Train Loss: 0.150.. Val Loss: 0.227.. Test Loss: 0.205.. Time: 0.23m\n"
     ]
    },
    {
     "name": "stderr",
     "output_type": "stream",
     "text": [
      "100%|██████████| 106/106 [00:12<00:00,  8.73it/s]\n",
      "100%|██████████| 18/18 [00:00<00:00, 42.52it/s]\n",
      "100%|██████████| 53/53 [00:01<00:00, 42.70it/s]\n"
     ]
    },
    {
     "name": "stdout",
     "output_type": "stream",
     "text": [
      "Epoch:307/1000.. Train Loss: 0.151.. Val Loss: 0.227.. Test Loss: 0.204.. Time: 0.23m\n"
     ]
    },
    {
     "name": "stderr",
     "output_type": "stream",
     "text": [
      "100%|██████████| 106/106 [00:12<00:00,  8.78it/s]\n",
      "100%|██████████| 18/18 [00:00<00:00, 43.33it/s]\n",
      "100%|██████████| 53/53 [00:01<00:00, 43.23it/s]\n"
     ]
    },
    {
     "name": "stdout",
     "output_type": "stream",
     "text": [
      "Epoch:308/1000.. Train Loss: 0.149.. Val Loss: 0.230.. Test Loss: 0.205.. Time: 0.23m\n"
     ]
    },
    {
     "name": "stderr",
     "output_type": "stream",
     "text": [
      "100%|██████████| 106/106 [00:12<00:00,  8.73it/s]\n",
      "100%|██████████| 18/18 [00:00<00:00, 42.82it/s]\n",
      "100%|██████████| 53/53 [00:01<00:00, 42.77it/s]\n"
     ]
    },
    {
     "name": "stdout",
     "output_type": "stream",
     "text": [
      "Epoch:309/1000.. Train Loss: 0.152.. Val Loss: 0.226.. Test Loss: 0.204.. Time: 0.23m\n"
     ]
    },
    {
     "name": "stderr",
     "output_type": "stream",
     "text": [
      "100%|██████████| 106/106 [00:12<00:00,  8.67it/s]\n",
      "100%|██████████| 18/18 [00:00<00:00, 41.23it/s]\n",
      "100%|██████████| 53/53 [00:01<00:00, 41.18it/s]\n"
     ]
    },
    {
     "name": "stdout",
     "output_type": "stream",
     "text": [
      "Epoch:310/1000.. Train Loss: 0.149.. Val Loss: 0.225.. Test Loss: 0.205.. Time: 0.23m\n"
     ]
    },
    {
     "name": "stderr",
     "output_type": "stream",
     "text": [
      "100%|██████████| 106/106 [00:11<00:00,  9.63it/s]\n",
      "100%|██████████| 18/18 [00:00<00:00, 41.93it/s]\n",
      "100%|██████████| 53/53 [00:01<00:00, 42.66it/s]\n"
     ]
    },
    {
     "name": "stdout",
     "output_type": "stream",
     "text": [
      "Epoch:311/1000.. Train Loss: 0.152.. Val Loss: 0.225.. Test Loss: 0.205.. Time: 0.21m\n"
     ]
    },
    {
     "name": "stderr",
     "output_type": "stream",
     "text": [
      "100%|██████████| 106/106 [00:12<00:00,  8.62it/s]\n",
      "100%|██████████| 18/18 [00:00<00:00, 42.72it/s]\n",
      "100%|██████████| 53/53 [00:01<00:00, 42.84it/s]\n"
     ]
    },
    {
     "name": "stdout",
     "output_type": "stream",
     "text": [
      "Epoch:312/1000.. Train Loss: 0.151.. Val Loss: 0.227.. Test Loss: 0.205.. Time: 0.23m\n"
     ]
    },
    {
     "name": "stderr",
     "output_type": "stream",
     "text": [
      "100%|██████████| 106/106 [00:12<00:00,  8.47it/s]\n",
      "100%|██████████| 18/18 [00:00<00:00, 42.87it/s]\n",
      "100%|██████████| 53/53 [00:01<00:00, 42.86it/s]\n"
     ]
    },
    {
     "name": "stdout",
     "output_type": "stream",
     "text": [
      "Epoch:313/1000.. Train Loss: 0.149.. Val Loss: 0.223.. Test Loss: 0.205.. Time: 0.24m\n"
     ]
    },
    {
     "name": "stderr",
     "output_type": "stream",
     "text": [
      "100%|██████████| 106/106 [00:12<00:00,  8.42it/s]\n",
      "100%|██████████| 18/18 [00:00<00:00, 42.83it/s]\n",
      "100%|██████████| 53/53 [00:01<00:00, 42.82it/s]\n"
     ]
    },
    {
     "name": "stdout",
     "output_type": "stream",
     "text": [
      "Epoch:314/1000.. Train Loss: 0.149.. Val Loss: 0.224.. Test Loss: 0.205.. Time: 0.24m\n"
     ]
    },
    {
     "name": "stderr",
     "output_type": "stream",
     "text": [
      "100%|██████████| 106/106 [00:12<00:00,  8.33it/s]\n",
      "100%|██████████| 18/18 [00:00<00:00, 41.51it/s]\n",
      "100%|██████████| 53/53 [00:01<00:00, 42.91it/s]\n"
     ]
    },
    {
     "name": "stdout",
     "output_type": "stream",
     "text": [
      "Epoch:315/1000.. Train Loss: 0.150.. Val Loss: 0.224.. Test Loss: 0.205.. Time: 0.24m\n"
     ]
    },
    {
     "name": "stderr",
     "output_type": "stream",
     "text": [
      "100%|██████████| 106/106 [00:12<00:00,  8.55it/s]\n",
      "100%|██████████| 18/18 [00:00<00:00, 43.14it/s]\n",
      "100%|██████████| 53/53 [00:01<00:00, 43.28it/s]\n"
     ]
    },
    {
     "name": "stdout",
     "output_type": "stream",
     "text": [
      "Epoch:316/1000.. Train Loss: 0.151.. Val Loss: 0.223.. Test Loss: 0.205.. Time: 0.23m\n"
     ]
    },
    {
     "name": "stderr",
     "output_type": "stream",
     "text": [
      "100%|██████████| 106/106 [00:12<00:00,  8.57it/s]\n",
      "100%|██████████| 18/18 [00:00<00:00, 43.09it/s]\n",
      "100%|██████████| 53/53 [00:01<00:00, 43.18it/s]\n"
     ]
    },
    {
     "name": "stdout",
     "output_type": "stream",
     "text": [
      "Epoch:317/1000.. Train Loss: 0.150.. Val Loss: 0.225.. Test Loss: 0.204.. Time: 0.23m\n"
     ]
    },
    {
     "name": "stderr",
     "output_type": "stream",
     "text": [
      "100%|██████████| 106/106 [00:12<00:00,  8.60it/s]\n",
      "100%|██████████| 18/18 [00:00<00:00, 42.28it/s]\n",
      "100%|██████████| 53/53 [00:01<00:00, 42.97it/s]\n"
     ]
    },
    {
     "name": "stdout",
     "output_type": "stream",
     "text": [
      "Epoch:318/1000.. Train Loss: 0.151.. Val Loss: 0.225.. Test Loss: 0.205.. Time: 0.23m\n"
     ]
    },
    {
     "name": "stderr",
     "output_type": "stream",
     "text": [
      "100%|██████████| 106/106 [00:12<00:00,  8.68it/s]\n",
      "100%|██████████| 18/18 [00:00<00:00, 42.86it/s]\n",
      "100%|██████████| 53/53 [00:01<00:00, 42.63it/s]\n"
     ]
    },
    {
     "name": "stdout",
     "output_type": "stream",
     "text": [
      "Epoch:319/1000.. Train Loss: 0.150.. Val Loss: 0.226.. Test Loss: 0.205.. Time: 0.23m\n"
     ]
    },
    {
     "name": "stderr",
     "output_type": "stream",
     "text": [
      "100%|██████████| 106/106 [00:12<00:00,  8.63it/s]\n",
      "100%|██████████| 18/18 [00:00<00:00, 43.21it/s]\n",
      "100%|██████████| 53/53 [00:01<00:00, 42.40it/s]\n"
     ]
    },
    {
     "name": "stdout",
     "output_type": "stream",
     "text": [
      "Epoch:320/1000.. Train Loss: 0.149.. Val Loss: 0.228.. Test Loss: 0.205.. Time: 0.23m\n"
     ]
    },
    {
     "name": "stderr",
     "output_type": "stream",
     "text": [
      "100%|██████████| 106/106 [00:12<00:00,  8.57it/s]\n",
      "100%|██████████| 18/18 [00:00<00:00, 42.04it/s]\n",
      "100%|██████████| 53/53 [00:01<00:00, 42.76it/s]\n"
     ]
    },
    {
     "name": "stdout",
     "output_type": "stream",
     "text": [
      "Epoch:321/1000.. Train Loss: 0.149.. Val Loss: 0.227.. Test Loss: 0.204.. Time: 0.24m\n"
     ]
    },
    {
     "name": "stderr",
     "output_type": "stream",
     "text": [
      "100%|██████████| 106/106 [00:12<00:00,  8.62it/s]\n",
      "100%|██████████| 18/18 [00:00<00:00, 43.20it/s]\n",
      "100%|██████████| 53/53 [00:01<00:00, 43.20it/s]\n"
     ]
    },
    {
     "name": "stdout",
     "output_type": "stream",
     "text": [
      "Epoch:322/1000.. Train Loss: 0.149.. Val Loss: 0.225.. Test Loss: 0.205.. Time: 0.23m\n"
     ]
    },
    {
     "name": "stderr",
     "output_type": "stream",
     "text": [
      "100%|██████████| 106/106 [00:12<00:00,  8.51it/s]\n",
      "100%|██████████| 18/18 [00:00<00:00, 42.10it/s]\n",
      "100%|██████████| 53/53 [00:01<00:00, 42.00it/s]\n"
     ]
    },
    {
     "name": "stdout",
     "output_type": "stream",
     "text": [
      "Epoch:323/1000.. Train Loss: 0.150.. Val Loss: 0.225.. Test Loss: 0.205.. Time: 0.24m\n"
     ]
    },
    {
     "name": "stderr",
     "output_type": "stream",
     "text": [
      "100%|██████████| 106/106 [00:12<00:00,  8.76it/s]\n",
      "100%|██████████| 18/18 [00:00<00:00, 43.20it/s]\n",
      "100%|██████████| 53/53 [00:01<00:00, 42.86it/s]\n"
     ]
    },
    {
     "name": "stdout",
     "output_type": "stream",
     "text": [
      "Epoch:324/1000.. Train Loss: 0.149.. Val Loss: 0.232.. Test Loss: 0.204.. Time: 0.23m\n"
     ]
    },
    {
     "name": "stderr",
     "output_type": "stream",
     "text": [
      "100%|██████████| 106/106 [00:12<00:00,  8.51it/s]\n",
      "100%|██████████| 18/18 [00:00<00:00, 43.07it/s]\n",
      "100%|██████████| 53/53 [00:01<00:00, 42.93it/s]\n"
     ]
    },
    {
     "name": "stdout",
     "output_type": "stream",
     "text": [
      "Epoch:325/1000.. Train Loss: 0.149.. Val Loss: 0.231.. Test Loss: 0.205.. Time: 0.24m\n"
     ]
    },
    {
     "name": "stderr",
     "output_type": "stream",
     "text": [
      "100%|██████████| 106/106 [00:12<00:00,  8.72it/s]\n",
      "100%|██████████| 18/18 [00:00<00:00, 42.92it/s]\n",
      "100%|██████████| 53/53 [00:01<00:00, 42.88it/s]\n"
     ]
    },
    {
     "name": "stdout",
     "output_type": "stream",
     "text": [
      "Epoch:326/1000.. Train Loss: 0.151.. Val Loss: 0.231.. Test Loss: 0.204.. Time: 0.23m\n"
     ]
    },
    {
     "name": "stderr",
     "output_type": "stream",
     "text": [
      "100%|██████████| 106/106 [00:10<00:00, 10.02it/s]\n",
      "100%|██████████| 18/18 [00:00<00:00, 41.44it/s]\n",
      "100%|██████████| 53/53 [00:01<00:00, 41.32it/s]\n"
     ]
    },
    {
     "name": "stdout",
     "output_type": "stream",
     "text": [
      "Epoch:327/1000.. Train Loss: 0.150.. Val Loss: 0.224.. Test Loss: 0.205.. Time: 0.21m\n"
     ]
    },
    {
     "name": "stderr",
     "output_type": "stream",
     "text": [
      "100%|██████████| 106/106 [00:10<00:00,  9.85it/s]\n",
      "100%|██████████| 18/18 [00:00<00:00, 43.26it/s]\n",
      "100%|██████████| 53/53 [00:01<00:00, 43.13it/s]\n"
     ]
    },
    {
     "name": "stdout",
     "output_type": "stream",
     "text": [
      "Epoch:328/1000.. Train Loss: 0.149.. Val Loss: 0.224.. Test Loss: 0.205.. Time: 0.21m\n"
     ]
    },
    {
     "name": "stderr",
     "output_type": "stream",
     "text": [
      "100%|██████████| 106/106 [00:10<00:00,  9.99it/s]\n",
      "100%|██████████| 18/18 [00:00<00:00, 41.89it/s]\n",
      "100%|██████████| 53/53 [00:01<00:00, 41.13it/s]\n"
     ]
    },
    {
     "name": "stdout",
     "output_type": "stream",
     "text": [
      "Epoch:329/1000.. Train Loss: 0.150.. Val Loss: 0.227.. Test Loss: 0.206.. Time: 0.21m\n"
     ]
    },
    {
     "name": "stderr",
     "output_type": "stream",
     "text": [
      "100%|██████████| 106/106 [00:12<00:00,  8.53it/s]\n",
      "100%|██████████| 18/18 [00:00<00:00, 42.10it/s]\n",
      "100%|██████████| 53/53 [00:01<00:00, 42.21it/s]\n"
     ]
    },
    {
     "name": "stdout",
     "output_type": "stream",
     "text": [
      "Epoch:330/1000.. Train Loss: 0.149.. Val Loss: 0.228.. Test Loss: 0.206.. Time: 0.24m\n"
     ]
    },
    {
     "name": "stderr",
     "output_type": "stream",
     "text": [
      "100%|██████████| 106/106 [00:12<00:00,  8.64it/s]\n",
      "100%|██████████| 18/18 [00:00<00:00, 42.23it/s]\n",
      "100%|██████████| 53/53 [00:01<00:00, 42.83it/s]\n"
     ]
    },
    {
     "name": "stdout",
     "output_type": "stream",
     "text": [
      "Epoch:331/1000.. Train Loss: 0.149.. Val Loss: 0.225.. Test Loss: 0.204.. Time: 0.23m\n"
     ]
    },
    {
     "name": "stderr",
     "output_type": "stream",
     "text": [
      "100%|██████████| 106/106 [00:12<00:00,  8.61it/s]\n",
      "100%|██████████| 18/18 [00:00<00:00, 39.23it/s]\n",
      "100%|██████████| 53/53 [00:01<00:00, 40.91it/s]\n"
     ]
    },
    {
     "name": "stdout",
     "output_type": "stream",
     "text": [
      "Epoch:332/1000.. Train Loss: 0.151.. Val Loss: 0.225.. Test Loss: 0.205.. Time: 0.24m\n"
     ]
    },
    {
     "name": "stderr",
     "output_type": "stream",
     "text": [
      "100%|██████████| 106/106 [00:12<00:00,  8.52it/s]\n",
      "100%|██████████| 18/18 [00:00<00:00, 41.65it/s]\n",
      "100%|██████████| 53/53 [00:01<00:00, 41.85it/s]\n"
     ]
    },
    {
     "name": "stdout",
     "output_type": "stream",
     "text": [
      "Epoch:333/1000.. Train Loss: 0.152.. Val Loss: 0.229.. Test Loss: 0.205.. Time: 0.24m\n"
     ]
    },
    {
     "name": "stderr",
     "output_type": "stream",
     "text": [
      "100%|██████████| 106/106 [00:12<00:00,  8.80it/s]\n",
      "100%|██████████| 18/18 [00:00<00:00, 41.11it/s]\n",
      "100%|██████████| 53/53 [00:01<00:00, 41.11it/s]\n"
     ]
    },
    {
     "name": "stdout",
     "output_type": "stream",
     "text": [
      "Epoch:334/1000.. Train Loss: 0.151.. Val Loss: 0.227.. Test Loss: 0.205.. Time: 0.23m\n"
     ]
    },
    {
     "name": "stderr",
     "output_type": "stream",
     "text": [
      "100%|██████████| 106/106 [00:12<00:00,  8.41it/s]\n",
      "100%|██████████| 18/18 [00:00<00:00, 41.79it/s]\n",
      "100%|██████████| 53/53 [00:01<00:00, 41.64it/s]\n"
     ]
    },
    {
     "name": "stdout",
     "output_type": "stream",
     "text": [
      "Epoch:335/1000.. Train Loss: 0.150.. Val Loss: 0.225.. Test Loss: 0.204.. Time: 0.24m\n"
     ]
    },
    {
     "name": "stderr",
     "output_type": "stream",
     "text": [
      "100%|██████████| 106/106 [00:12<00:00,  8.44it/s]\n",
      "100%|██████████| 18/18 [00:00<00:00, 41.00it/s]\n",
      "100%|██████████| 53/53 [00:01<00:00, 41.38it/s]\n"
     ]
    },
    {
     "name": "stdout",
     "output_type": "stream",
     "text": [
      "Epoch:336/1000.. Train Loss: 0.149.. Val Loss: 0.232.. Test Loss: 0.205.. Time: 0.24m\n"
     ]
    },
    {
     "name": "stderr",
     "output_type": "stream",
     "text": [
      "100%|██████████| 106/106 [00:12<00:00,  8.48it/s]\n",
      "100%|██████████| 18/18 [00:00<00:00, 42.80it/s]\n",
      "100%|██████████| 53/53 [00:01<00:00, 42.81it/s]\n"
     ]
    },
    {
     "name": "stdout",
     "output_type": "stream",
     "text": [
      "Epoch:337/1000.. Train Loss: 0.150.. Val Loss: 0.224.. Test Loss: 0.205.. Time: 0.24m\n"
     ]
    },
    {
     "name": "stderr",
     "output_type": "stream",
     "text": [
      "100%|██████████| 106/106 [00:12<00:00,  8.65it/s]\n",
      "100%|██████████| 18/18 [00:00<00:00, 42.70it/s]\n",
      "100%|██████████| 53/53 [00:01<00:00, 43.04it/s]\n"
     ]
    },
    {
     "name": "stdout",
     "output_type": "stream",
     "text": [
      "Epoch:338/1000.. Train Loss: 0.150.. Val Loss: 0.226.. Test Loss: 0.204.. Time: 0.23m\n"
     ]
    },
    {
     "name": "stderr",
     "output_type": "stream",
     "text": [
      "100%|██████████| 106/106 [00:12<00:00,  8.55it/s]\n",
      "100%|██████████| 18/18 [00:00<00:00, 41.14it/s]\n",
      "100%|██████████| 53/53 [00:01<00:00, 40.99it/s]\n"
     ]
    },
    {
     "name": "stdout",
     "output_type": "stream",
     "text": [
      "Epoch:339/1000.. Train Loss: 0.150.. Val Loss: 0.227.. Test Loss: 0.204.. Time: 0.24m\n"
     ]
    },
    {
     "name": "stderr",
     "output_type": "stream",
     "text": [
      "100%|██████████| 106/106 [00:12<00:00,  8.34it/s]\n",
      "100%|██████████| 18/18 [00:00<00:00, 43.06it/s]\n",
      "100%|██████████| 53/53 [00:01<00:00, 42.58it/s]\n"
     ]
    },
    {
     "name": "stdout",
     "output_type": "stream",
     "text": [
      "Epoch:340/1000.. Train Loss: 0.151.. Val Loss: 0.225.. Test Loss: 0.204.. Time: 0.24m\n"
     ]
    },
    {
     "name": "stderr",
     "output_type": "stream",
     "text": [
      "100%|██████████| 106/106 [00:12<00:00,  8.42it/s]\n",
      "100%|██████████| 18/18 [00:00<00:00, 40.89it/s]\n",
      "100%|██████████| 53/53 [00:01<00:00, 40.84it/s]\n"
     ]
    },
    {
     "name": "stdout",
     "output_type": "stream",
     "text": [
      "Epoch:341/1000.. Train Loss: 0.152.. Val Loss: 0.223.. Test Loss: 0.205.. Time: 0.24m\n"
     ]
    },
    {
     "name": "stderr",
     "output_type": "stream",
     "text": [
      "100%|██████████| 106/106 [00:12<00:00,  8.22it/s]\n",
      "100%|██████████| 18/18 [00:00<00:00, 42.22it/s]\n",
      "100%|██████████| 53/53 [00:01<00:00, 42.16it/s]\n"
     ]
    },
    {
     "name": "stdout",
     "output_type": "stream",
     "text": [
      "Epoch:342/1000.. Train Loss: 0.149.. Val Loss: 0.230.. Test Loss: 0.207.. Time: 0.24m\n"
     ]
    },
    {
     "name": "stderr",
     "output_type": "stream",
     "text": [
      "100%|██████████| 106/106 [00:12<00:00,  8.61it/s]\n",
      "100%|██████████| 18/18 [00:00<00:00, 43.24it/s]\n",
      "100%|██████████| 53/53 [00:01<00:00, 42.99it/s]\n"
     ]
    },
    {
     "name": "stdout",
     "output_type": "stream",
     "text": [
      "Epoch:343/1000.. Train Loss: 0.149.. Val Loss: 0.227.. Test Loss: 0.206.. Time: 0.23m\n"
     ]
    },
    {
     "name": "stderr",
     "output_type": "stream",
     "text": [
      "100%|██████████| 106/106 [00:12<00:00,  8.48it/s]\n",
      "100%|██████████| 18/18 [00:00<00:00, 41.20it/s]\n",
      "100%|██████████| 53/53 [00:01<00:00, 42.92it/s]\n"
     ]
    },
    {
     "name": "stdout",
     "output_type": "stream",
     "text": [
      "Epoch:344/1000.. Train Loss: 0.149.. Val Loss: 0.225.. Test Loss: 0.205.. Time: 0.24m\n"
     ]
    },
    {
     "name": "stderr",
     "output_type": "stream",
     "text": [
      "100%|██████████| 106/106 [00:12<00:00,  8.55it/s]\n",
      "100%|██████████| 18/18 [00:00<00:00, 43.23it/s]\n",
      "100%|██████████| 53/53 [00:01<00:00, 42.15it/s]\n"
     ]
    },
    {
     "name": "stdout",
     "output_type": "stream",
     "text": [
      "Epoch:345/1000.. Train Loss: 0.150.. Val Loss: 0.229.. Test Loss: 0.205.. Time: 0.24m\n"
     ]
    },
    {
     "name": "stderr",
     "output_type": "stream",
     "text": [
      "100%|██████████| 106/106 [00:12<00:00,  8.62it/s]\n",
      "100%|██████████| 18/18 [00:00<00:00, 42.90it/s]\n",
      "100%|██████████| 53/53 [00:01<00:00, 43.28it/s]\n"
     ]
    },
    {
     "name": "stdout",
     "output_type": "stream",
     "text": [
      "Epoch:346/1000.. Train Loss: 0.149.. Val Loss: 0.227.. Test Loss: 0.205.. Time: 0.23m\n"
     ]
    },
    {
     "name": "stderr",
     "output_type": "stream",
     "text": [
      "100%|██████████| 106/106 [00:12<00:00,  8.71it/s]\n",
      "100%|██████████| 18/18 [00:00<00:00, 43.46it/s]\n",
      "100%|██████████| 53/53 [00:01<00:00, 43.47it/s]\n"
     ]
    },
    {
     "name": "stdout",
     "output_type": "stream",
     "text": [
      "Epoch:347/1000.. Train Loss: 0.149.. Val Loss: 0.228.. Test Loss: 0.205.. Time: 0.23m\n"
     ]
    },
    {
     "name": "stderr",
     "output_type": "stream",
     "text": [
      "100%|██████████| 106/106 [00:12<00:00,  8.53it/s]\n",
      "100%|██████████| 18/18 [00:00<00:00, 42.89it/s]\n",
      "100%|██████████| 53/53 [00:01<00:00, 43.55it/s]\n"
     ]
    },
    {
     "name": "stdout",
     "output_type": "stream",
     "text": [
      "Epoch:348/1000.. Train Loss: 0.150.. Val Loss: 0.225.. Test Loss: 0.205.. Time: 0.24m\n"
     ]
    },
    {
     "name": "stderr",
     "output_type": "stream",
     "text": [
      "100%|██████████| 106/106 [00:12<00:00,  8.71it/s]\n",
      "100%|██████████| 18/18 [00:00<00:00, 42.66it/s]\n",
      "100%|██████████| 53/53 [00:01<00:00, 42.97it/s]\n"
     ]
    },
    {
     "name": "stdout",
     "output_type": "stream",
     "text": [
      "Epoch:349/1000.. Train Loss: 0.151.. Val Loss: 0.226.. Test Loss: 0.205.. Time: 0.23m\n"
     ]
    },
    {
     "name": "stderr",
     "output_type": "stream",
     "text": [
      "100%|██████████| 106/106 [00:12<00:00,  8.70it/s]\n",
      "100%|██████████| 18/18 [00:00<00:00, 43.22it/s]\n",
      "100%|██████████| 53/53 [00:01<00:00, 41.87it/s]\n"
     ]
    },
    {
     "name": "stdout",
     "output_type": "stream",
     "text": [
      "Epoch:350/1000.. Train Loss: 0.151.. Val Loss: 0.232.. Test Loss: 0.206.. Time: 0.23m\n"
     ]
    },
    {
     "name": "stderr",
     "output_type": "stream",
     "text": [
      "100%|██████████| 106/106 [00:12<00:00,  8.68it/s]\n",
      "100%|██████████| 18/18 [00:00<00:00, 43.27it/s]\n",
      "100%|██████████| 53/53 [00:01<00:00, 43.20it/s]\n"
     ]
    },
    {
     "name": "stdout",
     "output_type": "stream",
     "text": [
      "Epoch:351/1000.. Train Loss: 0.150.. Val Loss: 0.226.. Test Loss: 0.205.. Time: 0.23m\n"
     ]
    },
    {
     "name": "stderr",
     "output_type": "stream",
     "text": [
      "100%|██████████| 106/106 [00:10<00:00, 10.09it/s]\n",
      "100%|██████████| 18/18 [00:00<00:00, 42.80it/s]\n",
      "100%|██████████| 53/53 [00:01<00:00, 42.81it/s]\n"
     ]
    },
    {
     "name": "stdout",
     "output_type": "stream",
     "text": [
      "Epoch:352/1000.. Train Loss: 0.152.. Val Loss: 0.227.. Test Loss: 0.205.. Time: 0.20m\n"
     ]
    },
    {
     "name": "stderr",
     "output_type": "stream",
     "text": [
      "100%|██████████| 106/106 [00:10<00:00, 10.15it/s]\n",
      "100%|██████████| 18/18 [00:00<00:00, 42.27it/s]\n",
      "100%|██████████| 53/53 [00:01<00:00, 42.84it/s]\n"
     ]
    },
    {
     "name": "stdout",
     "output_type": "stream",
     "text": [
      "Epoch:353/1000.. Train Loss: 0.151.. Val Loss: 0.224.. Test Loss: 0.205.. Time: 0.20m\n"
     ]
    },
    {
     "name": "stderr",
     "output_type": "stream",
     "text": [
      "100%|██████████| 106/106 [00:12<00:00,  8.71it/s]\n",
      "100%|██████████| 18/18 [00:00<00:00, 41.36it/s]\n",
      "100%|██████████| 53/53 [00:01<00:00, 42.63it/s]\n"
     ]
    },
    {
     "name": "stdout",
     "output_type": "stream",
     "text": [
      "Epoch:354/1000.. Train Loss: 0.152.. Val Loss: 0.226.. Test Loss: 0.205.. Time: 0.23m\n"
     ]
    },
    {
     "name": "stderr",
     "output_type": "stream",
     "text": [
      "100%|██████████| 106/106 [00:12<00:00,  8.44it/s]\n",
      "100%|██████████| 18/18 [00:00<00:00, 42.68it/s]\n",
      "100%|██████████| 53/53 [00:01<00:00, 42.55it/s]\n"
     ]
    },
    {
     "name": "stdout",
     "output_type": "stream",
     "text": [
      "Epoch:355/1000.. Train Loss: 0.149.. Val Loss: 0.226.. Test Loss: 0.205.. Time: 0.24m\n"
     ]
    },
    {
     "name": "stderr",
     "output_type": "stream",
     "text": [
      "100%|██████████| 106/106 [00:12<00:00,  8.76it/s]\n",
      "100%|██████████| 18/18 [00:00<00:00, 42.86it/s]\n",
      "100%|██████████| 53/53 [00:01<00:00, 42.84it/s]\n"
     ]
    },
    {
     "name": "stdout",
     "output_type": "stream",
     "text": [
      "Epoch:356/1000.. Train Loss: 0.151.. Val Loss: 0.227.. Test Loss: 0.205.. Time: 0.23m\n"
     ]
    },
    {
     "name": "stderr",
     "output_type": "stream",
     "text": [
      "100%|██████████| 106/106 [00:12<00:00,  8.64it/s]\n",
      "100%|██████████| 18/18 [00:00<00:00, 42.49it/s]\n",
      "100%|██████████| 53/53 [00:01<00:00, 42.65it/s]\n"
     ]
    },
    {
     "name": "stdout",
     "output_type": "stream",
     "text": [
      "Epoch:357/1000.. Train Loss: 0.150.. Val Loss: 0.225.. Test Loss: 0.205.. Time: 0.23m\n"
     ]
    },
    {
     "name": "stderr",
     "output_type": "stream",
     "text": [
      "100%|██████████| 106/106 [00:12<00:00,  8.51it/s]\n",
      "100%|██████████| 18/18 [00:00<00:00, 43.09it/s]\n",
      "100%|██████████| 53/53 [00:01<00:00, 42.93it/s]\n"
     ]
    },
    {
     "name": "stdout",
     "output_type": "stream",
     "text": [
      "Epoch:358/1000.. Train Loss: 0.150.. Val Loss: 0.232.. Test Loss: 0.205.. Time: 0.24m\n"
     ]
    },
    {
     "name": "stderr",
     "output_type": "stream",
     "text": [
      "100%|██████████| 106/106 [00:11<00:00,  8.84it/s]\n",
      "100%|██████████| 18/18 [00:00<00:00, 42.89it/s]\n",
      "100%|██████████| 53/53 [00:01<00:00, 42.99it/s]\n"
     ]
    },
    {
     "name": "stdout",
     "output_type": "stream",
     "text": [
      "Epoch:359/1000.. Train Loss: 0.151.. Val Loss: 0.225.. Test Loss: 0.206.. Time: 0.23m\n"
     ]
    },
    {
     "name": "stderr",
     "output_type": "stream",
     "text": [
      "100%|██████████| 106/106 [00:12<00:00,  8.62it/s]\n",
      "100%|██████████| 18/18 [00:00<00:00, 41.38it/s]\n",
      "100%|██████████| 53/53 [00:01<00:00, 42.90it/s]\n"
     ]
    },
    {
     "name": "stdout",
     "output_type": "stream",
     "text": [
      "Epoch:360/1000.. Train Loss: 0.151.. Val Loss: 0.227.. Test Loss: 0.206.. Time: 0.23m\n"
     ]
    },
    {
     "name": "stderr",
     "output_type": "stream",
     "text": [
      "100%|██████████| 106/106 [00:12<00:00,  8.61it/s]\n",
      "100%|██████████| 18/18 [00:00<00:00, 43.46it/s]\n",
      "100%|██████████| 53/53 [00:01<00:00, 43.47it/s]\n"
     ]
    },
    {
     "name": "stdout",
     "output_type": "stream",
     "text": [
      "Epoch:361/1000.. Train Loss: 0.150.. Val Loss: 0.223.. Test Loss: 0.205.. Time: 0.23m\n"
     ]
    },
    {
     "name": "stderr",
     "output_type": "stream",
     "text": [
      "100%|██████████| 106/106 [00:12<00:00,  8.71it/s]\n",
      "100%|██████████| 18/18 [00:00<00:00, 43.07it/s]\n",
      "100%|██████████| 53/53 [00:01<00:00, 42.91it/s]\n"
     ]
    },
    {
     "name": "stdout",
     "output_type": "stream",
     "text": [
      "Epoch:362/1000.. Train Loss: 0.151.. Val Loss: 0.232.. Test Loss: 0.205.. Time: 0.23m\n"
     ]
    },
    {
     "name": "stderr",
     "output_type": "stream",
     "text": [
      "100%|██████████| 106/106 [00:12<00:00,  8.59it/s]\n",
      "100%|██████████| 18/18 [00:00<00:00, 42.71it/s]\n",
      "100%|██████████| 53/53 [00:01<00:00, 43.04it/s]\n"
     ]
    },
    {
     "name": "stdout",
     "output_type": "stream",
     "text": [
      "Epoch:363/1000.. Train Loss: 0.151.. Val Loss: 0.227.. Test Loss: 0.204.. Time: 0.23m\n"
     ]
    },
    {
     "name": "stderr",
     "output_type": "stream",
     "text": [
      "100%|██████████| 106/106 [00:12<00:00,  8.56it/s]\n",
      "100%|██████████| 18/18 [00:00<00:00, 42.98it/s]\n",
      "100%|██████████| 53/53 [00:01<00:00, 43.01it/s]\n"
     ]
    },
    {
     "name": "stdout",
     "output_type": "stream",
     "text": [
      "Epoch:364/1000.. Train Loss: 0.152.. Val Loss: 0.229.. Test Loss: 0.204.. Time: 0.23m\n"
     ]
    },
    {
     "name": "stderr",
     "output_type": "stream",
     "text": [
      "100%|██████████| 106/106 [00:12<00:00,  8.77it/s]\n",
      "100%|██████████| 18/18 [00:00<00:00, 42.74it/s]\n",
      "100%|██████████| 53/53 [00:01<00:00, 42.67it/s]\n"
     ]
    },
    {
     "name": "stdout",
     "output_type": "stream",
     "text": [
      "Epoch:365/1000.. Train Loss: 0.150.. Val Loss: 0.224.. Test Loss: 0.205.. Time: 0.23m\n"
     ]
    },
    {
     "name": "stderr",
     "output_type": "stream",
     "text": [
      "100%|██████████| 106/106 [00:12<00:00,  8.76it/s]\n",
      "100%|██████████| 18/18 [00:00<00:00, 42.93it/s]\n",
      "100%|██████████| 53/53 [00:01<00:00, 41.92it/s]\n"
     ]
    },
    {
     "name": "stdout",
     "output_type": "stream",
     "text": [
      "Epoch:366/1000.. Train Loss: 0.151.. Val Loss: 0.232.. Test Loss: 0.205.. Time: 0.23m\n"
     ]
    },
    {
     "name": "stderr",
     "output_type": "stream",
     "text": [
      "100%|██████████| 106/106 [00:12<00:00,  8.63it/s]\n",
      "100%|██████████| 18/18 [00:00<00:00, 42.96it/s]\n",
      "100%|██████████| 53/53 [00:01<00:00, 42.67it/s]\n"
     ]
    },
    {
     "name": "stdout",
     "output_type": "stream",
     "text": [
      "Epoch:367/1000.. Train Loss: 0.150.. Val Loss: 0.229.. Test Loss: 0.206.. Time: 0.23m\n"
     ]
    },
    {
     "name": "stderr",
     "output_type": "stream",
     "text": [
      "100%|██████████| 106/106 [00:12<00:00,  8.78it/s]\n",
      "100%|██████████| 18/18 [00:00<00:00, 42.98it/s]\n",
      "100%|██████████| 53/53 [00:01<00:00, 42.44it/s]\n"
     ]
    },
    {
     "name": "stdout",
     "output_type": "stream",
     "text": [
      "Epoch:368/1000.. Train Loss: 0.151.. Val Loss: 0.226.. Test Loss: 0.204.. Time: 0.23m\n"
     ]
    },
    {
     "name": "stderr",
     "output_type": "stream",
     "text": [
      "100%|██████████| 106/106 [00:10<00:00, 10.11it/s]\n",
      "100%|██████████| 18/18 [00:00<00:00, 42.76it/s]\n",
      "100%|██████████| 53/53 [00:01<00:00, 42.48it/s]\n"
     ]
    },
    {
     "name": "stdout",
     "output_type": "stream",
     "text": [
      "Epoch:369/1000.. Train Loss: 0.149.. Val Loss: 0.224.. Test Loss: 0.205.. Time: 0.20m\n"
     ]
    },
    {
     "name": "stderr",
     "output_type": "stream",
     "text": [
      "100%|██████████| 106/106 [00:10<00:00, 10.11it/s]\n",
      "100%|██████████| 18/18 [00:00<00:00, 42.75it/s]\n",
      "100%|██████████| 53/53 [00:01<00:00, 42.64it/s]\n"
     ]
    },
    {
     "name": "stdout",
     "output_type": "stream",
     "text": [
      "Epoch:370/1000.. Train Loss: 0.149.. Val Loss: 0.226.. Test Loss: 0.205.. Time: 0.20m\n"
     ]
    },
    {
     "name": "stderr",
     "output_type": "stream",
     "text": [
      "100%|██████████| 106/106 [00:10<00:00,  9.87it/s]\n",
      "100%|██████████| 18/18 [00:00<00:00, 43.17it/s]\n",
      "100%|██████████| 53/53 [00:01<00:00, 43.28it/s]\n"
     ]
    },
    {
     "name": "stdout",
     "output_type": "stream",
     "text": [
      "Epoch:371/1000.. Train Loss: 0.149.. Val Loss: 0.225.. Test Loss: 0.206.. Time: 0.21m\n"
     ]
    },
    {
     "name": "stderr",
     "output_type": "stream",
     "text": [
      "100%|██████████| 106/106 [00:10<00:00, 10.19it/s]\n",
      "100%|██████████| 18/18 [00:00<00:00, 42.63it/s]\n",
      "100%|██████████| 53/53 [00:01<00:00, 42.73it/s]\n"
     ]
    },
    {
     "name": "stdout",
     "output_type": "stream",
     "text": [
      "Epoch:372/1000.. Train Loss: 0.150.. Val Loss: 0.225.. Test Loss: 0.205.. Time: 0.20m\n"
     ]
    },
    {
     "name": "stderr",
     "output_type": "stream",
     "text": [
      "100%|██████████| 106/106 [00:10<00:00,  9.99it/s]\n",
      "100%|██████████| 18/18 [00:00<00:00, 42.62it/s]\n",
      "100%|██████████| 53/53 [00:01<00:00, 41.50it/s]\n"
     ]
    },
    {
     "name": "stdout",
     "output_type": "stream",
     "text": [
      "Epoch:373/1000.. Train Loss: 0.149.. Val Loss: 0.227.. Test Loss: 0.206.. Time: 0.21m\n"
     ]
    },
    {
     "name": "stderr",
     "output_type": "stream",
     "text": [
      "100%|██████████| 106/106 [00:12<00:00,  8.63it/s]\n",
      "100%|██████████| 18/18 [00:00<00:00, 42.54it/s]\n",
      "100%|██████████| 53/53 [00:01<00:00, 41.45it/s]\n"
     ]
    },
    {
     "name": "stdout",
     "output_type": "stream",
     "text": [
      "Epoch:374/1000.. Train Loss: 0.149.. Val Loss: 0.231.. Test Loss: 0.204.. Time: 0.23m\n"
     ]
    },
    {
     "name": "stderr",
     "output_type": "stream",
     "text": [
      "100%|██████████| 106/106 [00:11<00:00,  8.96it/s]\n",
      "100%|██████████| 18/18 [00:00<00:00, 42.13it/s]\n",
      "100%|██████████| 53/53 [00:01<00:00, 41.93it/s]\n"
     ]
    },
    {
     "name": "stdout",
     "output_type": "stream",
     "text": [
      "Epoch:375/1000.. Train Loss: 0.151.. Val Loss: 0.226.. Test Loss: 0.205.. Time: 0.23m\n"
     ]
    },
    {
     "name": "stderr",
     "output_type": "stream",
     "text": [
      "100%|██████████| 106/106 [00:11<00:00,  8.94it/s]\n",
      "100%|██████████| 18/18 [00:00<00:00, 42.63it/s]\n",
      "100%|██████████| 53/53 [00:01<00:00, 42.57it/s]\n"
     ]
    },
    {
     "name": "stdout",
     "output_type": "stream",
     "text": [
      "Epoch:376/1000.. Train Loss: 0.149.. Val Loss: 0.224.. Test Loss: 0.206.. Time: 0.23m\n"
     ]
    },
    {
     "name": "stderr",
     "output_type": "stream",
     "text": [
      "100%|██████████| 106/106 [00:12<00:00,  8.81it/s]\n",
      "100%|██████████| 18/18 [00:00<00:00, 42.48it/s]\n",
      "100%|██████████| 53/53 [00:01<00:00, 41.26it/s]\n"
     ]
    },
    {
     "name": "stdout",
     "output_type": "stream",
     "text": [
      "Epoch:377/1000.. Train Loss: 0.150.. Val Loss: 0.226.. Test Loss: 0.205.. Time: 0.23m\n"
     ]
    },
    {
     "name": "stderr",
     "output_type": "stream",
     "text": [
      "100%|██████████| 106/106 [00:12<00:00,  8.70it/s]\n",
      "100%|██████████| 18/18 [00:00<00:00, 42.54it/s]\n",
      "100%|██████████| 53/53 [00:01<00:00, 42.05it/s]\n"
     ]
    },
    {
     "name": "stdout",
     "output_type": "stream",
     "text": [
      "Epoch:378/1000.. Train Loss: 0.151.. Val Loss: 0.228.. Test Loss: 0.206.. Time: 0.23m\n"
     ]
    },
    {
     "name": "stderr",
     "output_type": "stream",
     "text": [
      "100%|██████████| 106/106 [00:12<00:00,  8.77it/s]\n",
      "100%|██████████| 18/18 [00:00<00:00, 42.94it/s]\n",
      "100%|██████████| 53/53 [00:01<00:00, 42.73it/s]\n"
     ]
    },
    {
     "name": "stdout",
     "output_type": "stream",
     "text": [
      "Epoch:379/1000.. Train Loss: 0.150.. Val Loss: 0.225.. Test Loss: 0.206.. Time: 0.23m\n"
     ]
    },
    {
     "name": "stderr",
     "output_type": "stream",
     "text": [
      "100%|██████████| 106/106 [00:12<00:00,  8.66it/s]\n",
      "100%|██████████| 18/18 [00:00<00:00, 42.06it/s]\n",
      "100%|██████████| 53/53 [00:01<00:00, 42.97it/s]\n"
     ]
    },
    {
     "name": "stdout",
     "output_type": "stream",
     "text": [
      "Epoch:380/1000.. Train Loss: 0.151.. Val Loss: 0.225.. Test Loss: 0.205.. Time: 0.23m\n"
     ]
    },
    {
     "name": "stderr",
     "output_type": "stream",
     "text": [
      "100%|██████████| 106/106 [00:11<00:00,  8.91it/s]\n",
      "100%|██████████| 18/18 [00:00<00:00, 42.17it/s]\n",
      "100%|██████████| 53/53 [00:01<00:00, 42.88it/s]\n"
     ]
    },
    {
     "name": "stdout",
     "output_type": "stream",
     "text": [
      "Epoch:381/1000.. Train Loss: 0.149.. Val Loss: 0.224.. Test Loss: 0.206.. Time: 0.23m\n"
     ]
    },
    {
     "name": "stderr",
     "output_type": "stream",
     "text": [
      "100%|██████████| 106/106 [00:12<00:00,  8.60it/s]\n",
      "100%|██████████| 18/18 [00:00<00:00, 42.32it/s]\n",
      "100%|██████████| 53/53 [00:01<00:00, 42.35it/s]\n"
     ]
    },
    {
     "name": "stdout",
     "output_type": "stream",
     "text": [
      "Epoch:382/1000.. Train Loss: 0.151.. Val Loss: 0.225.. Test Loss: 0.206.. Time: 0.23m\n"
     ]
    },
    {
     "name": "stderr",
     "output_type": "stream",
     "text": [
      "100%|██████████| 106/106 [00:12<00:00,  8.78it/s]\n",
      "100%|██████████| 18/18 [00:00<00:00, 42.67it/s]\n",
      "100%|██████████| 53/53 [00:01<00:00, 42.74it/s]\n"
     ]
    },
    {
     "name": "stdout",
     "output_type": "stream",
     "text": [
      "Epoch:383/1000.. Train Loss: 0.150.. Val Loss: 0.228.. Test Loss: 0.205.. Time: 0.23m\n"
     ]
    },
    {
     "name": "stderr",
     "output_type": "stream",
     "text": [
      "100%|██████████| 106/106 [00:12<00:00,  8.67it/s]\n",
      "100%|██████████| 18/18 [00:00<00:00, 41.57it/s]\n",
      "100%|██████████| 53/53 [00:01<00:00, 43.25it/s]\n"
     ]
    },
    {
     "name": "stdout",
     "output_type": "stream",
     "text": [
      "Epoch:384/1000.. Train Loss: 0.151.. Val Loss: 0.227.. Test Loss: 0.205.. Time: 0.23m\n"
     ]
    },
    {
     "name": "stderr",
     "output_type": "stream",
     "text": [
      "100%|██████████| 106/106 [00:12<00:00,  8.50it/s]\n",
      "100%|██████████| 18/18 [00:00<00:00, 38.55it/s]\n",
      "100%|██████████| 53/53 [00:01<00:00, 42.41it/s]\n"
     ]
    },
    {
     "name": "stdout",
     "output_type": "stream",
     "text": [
      "Epoch:385/1000.. Train Loss: 0.152.. Val Loss: 0.227.. Test Loss: 0.205.. Time: 0.24m\n"
     ]
    },
    {
     "name": "stderr",
     "output_type": "stream",
     "text": [
      "100%|██████████| 106/106 [00:12<00:00,  8.73it/s]\n",
      "100%|██████████| 18/18 [00:00<00:00, 42.51it/s]\n",
      "100%|██████████| 53/53 [00:01<00:00, 42.64it/s]\n"
     ]
    },
    {
     "name": "stdout",
     "output_type": "stream",
     "text": [
      "Epoch:386/1000.. Train Loss: 0.151.. Val Loss: 0.226.. Test Loss: 0.205.. Time: 0.23m\n"
     ]
    },
    {
     "name": "stderr",
     "output_type": "stream",
     "text": [
      "100%|██████████| 106/106 [00:12<00:00,  8.76it/s]\n",
      "100%|██████████| 18/18 [00:00<00:00, 43.19it/s]\n",
      "100%|██████████| 53/53 [00:01<00:00, 42.46it/s]\n"
     ]
    },
    {
     "name": "stdout",
     "output_type": "stream",
     "text": [
      "Epoch:387/1000.. Train Loss: 0.149.. Val Loss: 0.224.. Test Loss: 0.205.. Time: 0.23m\n"
     ]
    },
    {
     "name": "stderr",
     "output_type": "stream",
     "text": [
      "100%|██████████| 106/106 [00:12<00:00,  8.73it/s]\n",
      "100%|██████████| 18/18 [00:00<00:00, 43.10it/s]\n",
      "100%|██████████| 53/53 [00:01<00:00, 42.84it/s]\n"
     ]
    },
    {
     "name": "stdout",
     "output_type": "stream",
     "text": [
      "Epoch:388/1000.. Train Loss: 0.151.. Val Loss: 0.226.. Test Loss: 0.206.. Time: 0.23m\n"
     ]
    },
    {
     "name": "stderr",
     "output_type": "stream",
     "text": [
      "100%|██████████| 106/106 [00:12<00:00,  8.64it/s]\n",
      "100%|██████████| 18/18 [00:00<00:00, 42.57it/s]\n",
      "100%|██████████| 53/53 [00:01<00:00, 42.88it/s]\n"
     ]
    },
    {
     "name": "stdout",
     "output_type": "stream",
     "text": [
      "Epoch:389/1000.. Train Loss: 0.152.. Val Loss: 0.223.. Test Loss: 0.205.. Time: 0.23m\n"
     ]
    },
    {
     "name": "stderr",
     "output_type": "stream",
     "text": [
      "100%|██████████| 106/106 [00:12<00:00,  8.43it/s]\n",
      "100%|██████████| 18/18 [00:00<00:00, 42.73it/s]\n",
      "100%|██████████| 53/53 [00:01<00:00, 42.88it/s]\n"
     ]
    },
    {
     "name": "stdout",
     "output_type": "stream",
     "text": [
      "Epoch:390/1000.. Train Loss: 0.151.. Val Loss: 0.226.. Test Loss: 0.205.. Time: 0.24m\n"
     ]
    },
    {
     "name": "stderr",
     "output_type": "stream",
     "text": [
      "100%|██████████| 106/106 [00:12<00:00,  8.75it/s]\n",
      "100%|██████████| 18/18 [00:00<00:00, 42.76it/s]\n",
      "100%|██████████| 53/53 [00:01<00:00, 42.64it/s]\n"
     ]
    },
    {
     "name": "stdout",
     "output_type": "stream",
     "text": [
      "Epoch:391/1000.. Train Loss: 0.150.. Val Loss: 0.231.. Test Loss: 0.204.. Time: 0.23m\n"
     ]
    },
    {
     "name": "stderr",
     "output_type": "stream",
     "text": [
      "100%|██████████| 106/106 [00:12<00:00,  8.47it/s]\n",
      "100%|██████████| 18/18 [00:00<00:00, 42.35it/s]\n",
      "100%|██████████| 53/53 [00:01<00:00, 42.69it/s]\n"
     ]
    },
    {
     "name": "stdout",
     "output_type": "stream",
     "text": [
      "Epoch:392/1000.. Train Loss: 0.150.. Val Loss: 0.224.. Test Loss: 0.204.. Time: 0.24m\n"
     ]
    },
    {
     "name": "stderr",
     "output_type": "stream",
     "text": [
      "100%|██████████| 106/106 [00:12<00:00,  8.46it/s]\n",
      "100%|██████████| 18/18 [00:00<00:00, 41.61it/s]\n",
      "100%|██████████| 53/53 [00:01<00:00, 42.83it/s]\n"
     ]
    },
    {
     "name": "stdout",
     "output_type": "stream",
     "text": [
      "Epoch:393/1000.. Train Loss: 0.152.. Val Loss: 0.227.. Test Loss: 0.205.. Time: 0.24m\n"
     ]
    },
    {
     "name": "stderr",
     "output_type": "stream",
     "text": [
      "100%|██████████| 106/106 [00:12<00:00,  8.76it/s]\n",
      "100%|██████████| 18/18 [00:00<00:00, 41.08it/s]\n",
      "100%|██████████| 53/53 [00:01<00:00, 41.68it/s]\n"
     ]
    },
    {
     "name": "stdout",
     "output_type": "stream",
     "text": [
      "Epoch:394/1000.. Train Loss: 0.152.. Val Loss: 0.227.. Test Loss: 0.205.. Time: 0.23m\n"
     ]
    },
    {
     "name": "stderr",
     "output_type": "stream",
     "text": [
      "100%|██████████| 106/106 [00:12<00:00,  8.70it/s]\n",
      "100%|██████████| 18/18 [00:00<00:00, 43.00it/s]\n",
      "100%|██████████| 53/53 [00:01<00:00, 43.18it/s]\n"
     ]
    },
    {
     "name": "stdout",
     "output_type": "stream",
     "text": [
      "Epoch:395/1000.. Train Loss: 0.149.. Val Loss: 0.228.. Test Loss: 0.205.. Time: 0.23m\n"
     ]
    },
    {
     "name": "stderr",
     "output_type": "stream",
     "text": [
      "100%|██████████| 106/106 [00:12<00:00,  8.61it/s]\n",
      "100%|██████████| 18/18 [00:00<00:00, 43.12it/s]\n",
      "100%|██████████| 53/53 [00:01<00:00, 43.21it/s]\n"
     ]
    },
    {
     "name": "stdout",
     "output_type": "stream",
     "text": [
      "Epoch:396/1000.. Train Loss: 0.150.. Val Loss: 0.225.. Test Loss: 0.206.. Time: 0.23m\n"
     ]
    },
    {
     "name": "stderr",
     "output_type": "stream",
     "text": [
      "100%|██████████| 106/106 [00:12<00:00,  8.65it/s]\n",
      "100%|██████████| 18/18 [00:00<00:00, 43.15it/s]\n",
      "100%|██████████| 53/53 [00:01<00:00, 43.34it/s]\n"
     ]
    },
    {
     "name": "stdout",
     "output_type": "stream",
     "text": [
      "Epoch:397/1000.. Train Loss: 0.151.. Val Loss: 0.227.. Test Loss: 0.205.. Time: 0.23m\n"
     ]
    },
    {
     "name": "stderr",
     "output_type": "stream",
     "text": [
      "100%|██████████| 106/106 [00:12<00:00,  8.49it/s]\n",
      "100%|██████████| 18/18 [00:00<00:00, 42.99it/s]\n",
      "100%|██████████| 53/53 [00:01<00:00, 43.37it/s]\n"
     ]
    },
    {
     "name": "stdout",
     "output_type": "stream",
     "text": [
      "Epoch:398/1000.. Train Loss: 0.151.. Val Loss: 0.227.. Test Loss: 0.206.. Time: 0.24m\n"
     ]
    },
    {
     "name": "stderr",
     "output_type": "stream",
     "text": [
      "100%|██████████| 106/106 [00:12<00:00,  8.47it/s]\n",
      "100%|██████████| 18/18 [00:00<00:00, 42.77it/s]\n",
      "100%|██████████| 53/53 [00:01<00:00, 42.87it/s]\n"
     ]
    },
    {
     "name": "stdout",
     "output_type": "stream",
     "text": [
      "Epoch:399/1000.. Train Loss: 0.151.. Val Loss: 0.229.. Test Loss: 0.206.. Time: 0.24m\n"
     ]
    },
    {
     "name": "stderr",
     "output_type": "stream",
     "text": [
      "100%|██████████| 106/106 [00:11<00:00,  8.94it/s]\n",
      "100%|██████████| 18/18 [00:00<00:00, 42.36it/s]\n",
      "100%|██████████| 53/53 [00:01<00:00, 42.63it/s]\n"
     ]
    },
    {
     "name": "stdout",
     "output_type": "stream",
     "text": [
      "Epoch:400/1000.. Train Loss: 0.149.. Val Loss: 0.226.. Test Loss: 0.206.. Time: 0.23m\n"
     ]
    },
    {
     "name": "stderr",
     "output_type": "stream",
     "text": [
      "100%|██████████| 106/106 [00:12<00:00,  8.63it/s]\n",
      "100%|██████████| 18/18 [00:00<00:00, 42.66it/s]\n",
      "100%|██████████| 53/53 [00:01<00:00, 42.61it/s]\n"
     ]
    },
    {
     "name": "stdout",
     "output_type": "stream",
     "text": [
      "Epoch:401/1000.. Train Loss: 0.151.. Val Loss: 0.231.. Test Loss: 0.205.. Time: 0.23m\n"
     ]
    },
    {
     "name": "stderr",
     "output_type": "stream",
     "text": [
      "100%|██████████| 106/106 [00:12<00:00,  8.74it/s]\n",
      "100%|██████████| 18/18 [00:00<00:00, 42.60it/s]\n",
      "100%|██████████| 53/53 [00:01<00:00, 41.51it/s]\n"
     ]
    },
    {
     "name": "stdout",
     "output_type": "stream",
     "text": [
      "Epoch:402/1000.. Train Loss: 0.150.. Val Loss: 0.232.. Test Loss: 0.206.. Time: 0.23m\n"
     ]
    },
    {
     "name": "stderr",
     "output_type": "stream",
     "text": [
      "100%|██████████| 106/106 [00:12<00:00,  8.58it/s]\n",
      "100%|██████████| 18/18 [00:00<00:00, 42.66it/s]\n",
      "100%|██████████| 53/53 [00:01<00:00, 42.61it/s]\n"
     ]
    },
    {
     "name": "stdout",
     "output_type": "stream",
     "text": [
      "Epoch:403/1000.. Train Loss: 0.151.. Val Loss: 0.224.. Test Loss: 0.205.. Time: 0.23m\n"
     ]
    },
    {
     "name": "stderr",
     "output_type": "stream",
     "text": [
      "100%|██████████| 106/106 [00:12<00:00,  8.69it/s]\n",
      "100%|██████████| 18/18 [00:00<00:00, 42.60it/s]\n",
      "100%|██████████| 53/53 [00:01<00:00, 42.79it/s]\n"
     ]
    },
    {
     "name": "stdout",
     "output_type": "stream",
     "text": [
      "Epoch:404/1000.. Train Loss: 0.149.. Val Loss: 0.232.. Test Loss: 0.205.. Time: 0.23m\n"
     ]
    },
    {
     "name": "stderr",
     "output_type": "stream",
     "text": [
      "100%|██████████| 106/106 [00:12<00:00,  8.66it/s]\n",
      "100%|██████████| 18/18 [00:00<00:00, 42.84it/s]\n",
      "100%|██████████| 53/53 [00:01<00:00, 42.65it/s]\n"
     ]
    },
    {
     "name": "stdout",
     "output_type": "stream",
     "text": [
      "Epoch:405/1000.. Train Loss: 0.150.. Val Loss: 0.224.. Test Loss: 0.206.. Time: 0.23m\n"
     ]
    },
    {
     "name": "stderr",
     "output_type": "stream",
     "text": [
      "100%|██████████| 106/106 [00:12<00:00,  8.73it/s]\n",
      "100%|██████████| 18/18 [00:00<00:00, 42.62it/s]\n",
      "100%|██████████| 53/53 [00:01<00:00, 42.59it/s]\n"
     ]
    },
    {
     "name": "stdout",
     "output_type": "stream",
     "text": [
      "Epoch:406/1000.. Train Loss: 0.150.. Val Loss: 0.227.. Test Loss: 0.205.. Time: 0.23m\n"
     ]
    },
    {
     "name": "stderr",
     "output_type": "stream",
     "text": [
      "100%|██████████| 106/106 [00:12<00:00,  8.77it/s]\n",
      "100%|██████████| 18/18 [00:00<00:00, 43.02it/s]\n",
      "100%|██████████| 53/53 [00:01<00:00, 43.13it/s]\n"
     ]
    },
    {
     "name": "stdout",
     "output_type": "stream",
     "text": [
      "Epoch:407/1000.. Train Loss: 0.149.. Val Loss: 0.224.. Test Loss: 0.205.. Time: 0.23m\n"
     ]
    },
    {
     "name": "stderr",
     "output_type": "stream",
     "text": [
      "100%|██████████| 106/106 [00:12<00:00,  8.71it/s]\n",
      "100%|██████████| 18/18 [00:00<00:00, 42.65it/s]\n",
      "100%|██████████| 53/53 [00:01<00:00, 42.60it/s]\n"
     ]
    },
    {
     "name": "stdout",
     "output_type": "stream",
     "text": [
      "Epoch:408/1000.. Train Loss: 0.149.. Val Loss: 0.227.. Test Loss: 0.206.. Time: 0.23m\n"
     ]
    },
    {
     "name": "stderr",
     "output_type": "stream",
     "text": [
      "100%|██████████| 106/106 [00:12<00:00,  8.77it/s]\n",
      "100%|██████████| 18/18 [00:00<00:00, 42.01it/s]\n",
      "100%|██████████| 53/53 [00:01<00:00, 42.67it/s]\n"
     ]
    },
    {
     "name": "stdout",
     "output_type": "stream",
     "text": [
      "Epoch:409/1000.. Train Loss: 0.150.. Val Loss: 0.232.. Test Loss: 0.205.. Time: 0.23m\n"
     ]
    },
    {
     "name": "stderr",
     "output_type": "stream",
     "text": [
      "100%|██████████| 106/106 [00:11<00:00,  8.83it/s]\n",
      "100%|██████████| 18/18 [00:00<00:00, 42.06it/s]\n",
      "100%|██████████| 53/53 [00:01<00:00, 42.17it/s]\n"
     ]
    },
    {
     "name": "stdout",
     "output_type": "stream",
     "text": [
      "Epoch:410/1000.. Train Loss: 0.150.. Val Loss: 0.225.. Test Loss: 0.205.. Time: 0.23m\n"
     ]
    },
    {
     "name": "stderr",
     "output_type": "stream",
     "text": [
      "100%|██████████| 106/106 [00:12<00:00,  8.58it/s]\n",
      "100%|██████████| 18/18 [00:00<00:00, 43.09it/s]\n",
      "100%|██████████| 53/53 [00:01<00:00, 43.10it/s]\n"
     ]
    },
    {
     "name": "stdout",
     "output_type": "stream",
     "text": [
      "Epoch:411/1000.. Train Loss: 0.150.. Val Loss: 0.226.. Test Loss: 0.204.. Time: 0.23m\n"
     ]
    },
    {
     "name": "stderr",
     "output_type": "stream",
     "text": [
      "100%|██████████| 106/106 [00:12<00:00,  8.60it/s]\n",
      "100%|██████████| 18/18 [00:00<00:00, 42.52it/s]\n",
      "100%|██████████| 53/53 [00:01<00:00, 42.59it/s]\n"
     ]
    },
    {
     "name": "stdout",
     "output_type": "stream",
     "text": [
      "Epoch:412/1000.. Train Loss: 0.151.. Val Loss: 0.226.. Test Loss: 0.205.. Time: 0.23m\n"
     ]
    },
    {
     "name": "stderr",
     "output_type": "stream",
     "text": [
      "100%|██████████| 106/106 [00:12<00:00,  8.58it/s]\n",
      "100%|██████████| 18/18 [00:00<00:00, 43.59it/s]\n",
      "100%|██████████| 53/53 [00:01<00:00, 43.58it/s]\n"
     ]
    },
    {
     "name": "stdout",
     "output_type": "stream",
     "text": [
      "Epoch:413/1000.. Train Loss: 0.149.. Val Loss: 0.228.. Test Loss: 0.205.. Time: 0.23m\n"
     ]
    },
    {
     "name": "stderr",
     "output_type": "stream",
     "text": [
      "100%|██████████| 106/106 [00:12<00:00,  8.64it/s]\n",
      "100%|██████████| 18/18 [00:00<00:00, 40.97it/s]\n",
      "100%|██████████| 53/53 [00:01<00:00, 42.21it/s]\n"
     ]
    },
    {
     "name": "stdout",
     "output_type": "stream",
     "text": [
      "Epoch:414/1000.. Train Loss: 0.149.. Val Loss: 0.227.. Test Loss: 0.204.. Time: 0.23m\n"
     ]
    },
    {
     "name": "stderr",
     "output_type": "stream",
     "text": [
      "100%|██████████| 106/106 [00:11<00:00,  8.87it/s]\n",
      "100%|██████████| 18/18 [00:00<00:00, 42.76it/s]\n",
      "100%|██████████| 53/53 [00:01<00:00, 41.74it/s]\n"
     ]
    },
    {
     "name": "stdout",
     "output_type": "stream",
     "text": [
      "Epoch:415/1000.. Train Loss: 0.151.. Val Loss: 0.225.. Test Loss: 0.205.. Time: 0.23m\n"
     ]
    },
    {
     "name": "stderr",
     "output_type": "stream",
     "text": [
      "100%|██████████| 106/106 [00:11<00:00,  8.90it/s]\n",
      "100%|██████████| 18/18 [00:00<00:00, 42.69it/s]\n",
      "100%|██████████| 53/53 [00:01<00:00, 42.97it/s]\n"
     ]
    },
    {
     "name": "stdout",
     "output_type": "stream",
     "text": [
      "Epoch:416/1000.. Train Loss: 0.151.. Val Loss: 0.232.. Test Loss: 0.206.. Time: 0.23m\n"
     ]
    },
    {
     "name": "stderr",
     "output_type": "stream",
     "text": [
      "100%|██████████| 106/106 [00:12<00:00,  8.68it/s]\n",
      "100%|██████████| 18/18 [00:00<00:00, 42.98it/s]\n",
      "100%|██████████| 53/53 [00:01<00:00, 43.15it/s]\n"
     ]
    },
    {
     "name": "stdout",
     "output_type": "stream",
     "text": [
      "Epoch:417/1000.. Train Loss: 0.151.. Val Loss: 0.225.. Test Loss: 0.205.. Time: 0.23m\n"
     ]
    },
    {
     "name": "stderr",
     "output_type": "stream",
     "text": [
      "100%|██████████| 106/106 [00:12<00:00,  8.69it/s]\n",
      "100%|██████████| 18/18 [00:00<00:00, 42.86it/s]\n",
      "100%|██████████| 53/53 [00:01<00:00, 43.01it/s]\n"
     ]
    },
    {
     "name": "stdout",
     "output_type": "stream",
     "text": [
      "Epoch:418/1000.. Train Loss: 0.149.. Val Loss: 0.227.. Test Loss: 0.204.. Time: 0.23m\n"
     ]
    },
    {
     "name": "stderr",
     "output_type": "stream",
     "text": [
      "100%|██████████| 106/106 [00:12<00:00,  8.73it/s]\n",
      "100%|██████████| 18/18 [00:00<00:00, 42.68it/s]\n",
      "100%|██████████| 53/53 [00:01<00:00, 42.96it/s]\n"
     ]
    },
    {
     "name": "stdout",
     "output_type": "stream",
     "text": [
      "Epoch:419/1000.. Train Loss: 0.150.. Val Loss: 0.226.. Test Loss: 0.205.. Time: 0.23m\n"
     ]
    },
    {
     "name": "stderr",
     "output_type": "stream",
     "text": [
      "100%|██████████| 106/106 [00:12<00:00,  8.67it/s]\n",
      "100%|██████████| 18/18 [00:00<00:00, 43.02it/s]\n",
      "100%|██████████| 53/53 [00:01<00:00, 43.25it/s]\n"
     ]
    },
    {
     "name": "stdout",
     "output_type": "stream",
     "text": [
      "Epoch:420/1000.. Train Loss: 0.150.. Val Loss: 0.228.. Test Loss: 0.204.. Time: 0.23m\n"
     ]
    },
    {
     "name": "stderr",
     "output_type": "stream",
     "text": [
      "100%|██████████| 106/106 [00:12<00:00,  8.81it/s]\n",
      "100%|██████████| 18/18 [00:00<00:00, 43.12it/s]\n",
      "100%|██████████| 53/53 [00:01<00:00, 42.93it/s]\n"
     ]
    },
    {
     "name": "stdout",
     "output_type": "stream",
     "text": [
      "Epoch:421/1000.. Train Loss: 0.150.. Val Loss: 0.225.. Test Loss: 0.205.. Time: 0.23m\n"
     ]
    },
    {
     "name": "stderr",
     "output_type": "stream",
     "text": [
      "100%|██████████| 106/106 [00:12<00:00,  8.64it/s]\n",
      "100%|██████████| 18/18 [00:00<00:00, 42.72it/s]\n",
      "100%|██████████| 53/53 [00:01<00:00, 42.43it/s]\n"
     ]
    },
    {
     "name": "stdout",
     "output_type": "stream",
     "text": [
      "Epoch:422/1000.. Train Loss: 0.149.. Val Loss: 0.226.. Test Loss: 0.205.. Time: 0.23m\n"
     ]
    },
    {
     "name": "stderr",
     "output_type": "stream",
     "text": [
      "100%|██████████| 106/106 [00:12<00:00,  8.63it/s]\n",
      "100%|██████████| 18/18 [00:00<00:00, 42.52it/s]\n",
      "100%|██████████| 53/53 [00:01<00:00, 42.59it/s]\n"
     ]
    },
    {
     "name": "stdout",
     "output_type": "stream",
     "text": [
      "Epoch:423/1000.. Train Loss: 0.151.. Val Loss: 0.232.. Test Loss: 0.205.. Time: 0.23m\n"
     ]
    },
    {
     "name": "stderr",
     "output_type": "stream",
     "text": [
      "100%|██████████| 106/106 [00:12<00:00,  8.33it/s]\n",
      "100%|██████████| 18/18 [00:00<00:00, 42.48it/s]\n",
      "100%|██████████| 53/53 [00:01<00:00, 42.47it/s]\n"
     ]
    },
    {
     "name": "stdout",
     "output_type": "stream",
     "text": [
      "Epoch:424/1000.. Train Loss: 0.151.. Val Loss: 0.227.. Test Loss: 0.205.. Time: 0.24m\n"
     ]
    },
    {
     "name": "stderr",
     "output_type": "stream",
     "text": [
      "100%|██████████| 106/106 [00:12<00:00,  8.38it/s]\n",
      "100%|██████████| 18/18 [00:00<00:00, 42.58it/s]\n",
      "100%|██████████| 53/53 [00:01<00:00, 42.63it/s]\n"
     ]
    },
    {
     "name": "stdout",
     "output_type": "stream",
     "text": [
      "Epoch:425/1000.. Train Loss: 0.150.. Val Loss: 0.225.. Test Loss: 0.205.. Time: 0.24m\n"
     ]
    },
    {
     "name": "stderr",
     "output_type": "stream",
     "text": [
      "100%|██████████| 106/106 [00:12<00:00,  8.44it/s]\n",
      "100%|██████████| 18/18 [00:00<00:00, 42.85it/s]\n",
      "100%|██████████| 53/53 [00:01<00:00, 42.68it/s]\n"
     ]
    },
    {
     "name": "stdout",
     "output_type": "stream",
     "text": [
      "Epoch:426/1000.. Train Loss: 0.151.. Val Loss: 0.230.. Test Loss: 0.205.. Time: 0.24m\n"
     ]
    },
    {
     "name": "stderr",
     "output_type": "stream",
     "text": [
      "100%|██████████| 106/106 [00:12<00:00,  8.36it/s]\n",
      "100%|██████████| 18/18 [00:00<00:00, 40.75it/s]\n",
      "100%|██████████| 53/53 [00:01<00:00, 41.77it/s]\n"
     ]
    },
    {
     "name": "stdout",
     "output_type": "stream",
     "text": [
      "Epoch:427/1000.. Train Loss: 0.150.. Val Loss: 0.231.. Test Loss: 0.204.. Time: 0.24m\n"
     ]
    },
    {
     "name": "stderr",
     "output_type": "stream",
     "text": [
      "100%|██████████| 106/106 [00:12<00:00,  8.73it/s]\n",
      "100%|██████████| 18/18 [00:00<00:00, 42.35it/s]\n",
      "100%|██████████| 53/53 [00:01<00:00, 42.55it/s]\n"
     ]
    },
    {
     "name": "stdout",
     "output_type": "stream",
     "text": [
      "Epoch:428/1000.. Train Loss: 0.151.. Val Loss: 0.232.. Test Loss: 0.206.. Time: 0.23m\n"
     ]
    },
    {
     "name": "stderr",
     "output_type": "stream",
     "text": [
      "100%|██████████| 106/106 [00:12<00:00,  8.79it/s]\n",
      "100%|██████████| 18/18 [00:00<00:00, 41.14it/s]\n",
      "100%|██████████| 53/53 [00:01<00:00, 42.06it/s]\n"
     ]
    },
    {
     "name": "stdout",
     "output_type": "stream",
     "text": [
      "Epoch:429/1000.. Train Loss: 0.149.. Val Loss: 0.226.. Test Loss: 0.205.. Time: 0.23m\n"
     ]
    },
    {
     "name": "stderr",
     "output_type": "stream",
     "text": [
      "100%|██████████| 106/106 [00:12<00:00,  8.81it/s]\n",
      "100%|██████████| 18/18 [00:00<00:00, 42.86it/s]\n",
      "100%|██████████| 53/53 [00:01<00:00, 42.73it/s]\n"
     ]
    },
    {
     "name": "stdout",
     "output_type": "stream",
     "text": [
      "Epoch:430/1000.. Train Loss: 0.152.. Val Loss: 0.226.. Test Loss: 0.205.. Time: 0.23m\n"
     ]
    },
    {
     "name": "stderr",
     "output_type": "stream",
     "text": [
      "100%|██████████| 106/106 [00:12<00:00,  8.44it/s]\n",
      "100%|██████████| 18/18 [00:00<00:00, 42.96it/s]\n",
      "100%|██████████| 53/53 [00:01<00:00, 42.37it/s]\n"
     ]
    },
    {
     "name": "stdout",
     "output_type": "stream",
     "text": [
      "Epoch:431/1000.. Train Loss: 0.150.. Val Loss: 0.223.. Test Loss: 0.205.. Time: 0.24m\n"
     ]
    },
    {
     "name": "stderr",
     "output_type": "stream",
     "text": [
      "100%|██████████| 106/106 [00:12<00:00,  8.58it/s]\n",
      "100%|██████████| 18/18 [00:00<00:00, 42.64it/s]\n",
      "100%|██████████| 53/53 [00:01<00:00, 42.73it/s]\n"
     ]
    },
    {
     "name": "stdout",
     "output_type": "stream",
     "text": [
      "Epoch:432/1000.. Train Loss: 0.151.. Val Loss: 0.225.. Test Loss: 0.204.. Time: 0.23m\n"
     ]
    },
    {
     "name": "stderr",
     "output_type": "stream",
     "text": [
      "100%|██████████| 106/106 [00:12<00:00,  8.60it/s]\n",
      "100%|██████████| 18/18 [00:00<00:00, 42.75it/s]\n",
      "100%|██████████| 53/53 [00:01<00:00, 42.68it/s]\n"
     ]
    },
    {
     "name": "stdout",
     "output_type": "stream",
     "text": [
      "Epoch:433/1000.. Train Loss: 0.151.. Val Loss: 0.225.. Test Loss: 0.204.. Time: 0.23m\n"
     ]
    },
    {
     "name": "stderr",
     "output_type": "stream",
     "text": [
      "100%|██████████| 106/106 [00:12<00:00,  8.52it/s]\n",
      "100%|██████████| 18/18 [00:00<00:00, 42.55it/s]\n",
      "100%|██████████| 53/53 [00:01<00:00, 42.58it/s]\n"
     ]
    },
    {
     "name": "stdout",
     "output_type": "stream",
     "text": [
      "Epoch:434/1000.. Train Loss: 0.151.. Val Loss: 0.224.. Test Loss: 0.205.. Time: 0.24m\n"
     ]
    },
    {
     "name": "stderr",
     "output_type": "stream",
     "text": [
      "100%|██████████| 106/106 [00:12<00:00,  8.21it/s]\n",
      "100%|██████████| 18/18 [00:00<00:00, 42.08it/s]\n",
      "100%|██████████| 53/53 [00:01<00:00, 42.75it/s]\n"
     ]
    },
    {
     "name": "stdout",
     "output_type": "stream",
     "text": [
      "Epoch:435/1000.. Train Loss: 0.150.. Val Loss: 0.224.. Test Loss: 0.205.. Time: 0.24m\n"
     ]
    },
    {
     "name": "stderr",
     "output_type": "stream",
     "text": [
      "100%|██████████| 106/106 [00:12<00:00,  8.21it/s]\n",
      "100%|██████████| 18/18 [00:00<00:00, 42.34it/s]\n",
      "100%|██████████| 53/53 [00:01<00:00, 42.38it/s]\n"
     ]
    },
    {
     "name": "stdout",
     "output_type": "stream",
     "text": [
      "Epoch:436/1000.. Train Loss: 0.151.. Val Loss: 0.225.. Test Loss: 0.204.. Time: 0.24m\n"
     ]
    },
    {
     "name": "stderr",
     "output_type": "stream",
     "text": [
      "100%|██████████| 106/106 [00:12<00:00,  8.44it/s]\n",
      "100%|██████████| 18/18 [00:00<00:00, 42.78it/s]\n",
      "100%|██████████| 53/53 [00:01<00:00, 42.50it/s]\n"
     ]
    },
    {
     "name": "stdout",
     "output_type": "stream",
     "text": [
      "Epoch:437/1000.. Train Loss: 0.151.. Val Loss: 0.226.. Test Loss: 0.206.. Time: 0.24m\n"
     ]
    },
    {
     "name": "stderr",
     "output_type": "stream",
     "text": [
      "100%|██████████| 106/106 [00:12<00:00,  8.66it/s]\n",
      "100%|██████████| 18/18 [00:00<00:00, 42.96it/s]\n",
      "100%|██████████| 53/53 [00:01<00:00, 42.70it/s]\n"
     ]
    },
    {
     "name": "stdout",
     "output_type": "stream",
     "text": [
      "Epoch:438/1000.. Train Loss: 0.151.. Val Loss: 0.224.. Test Loss: 0.205.. Time: 0.23m\n"
     ]
    },
    {
     "name": "stderr",
     "output_type": "stream",
     "text": [
      "100%|██████████| 106/106 [00:12<00:00,  8.46it/s]\n",
      "100%|██████████| 18/18 [00:00<00:00, 42.94it/s]\n",
      "100%|██████████| 53/53 [00:01<00:00, 43.14it/s]\n"
     ]
    },
    {
     "name": "stdout",
     "output_type": "stream",
     "text": [
      "Epoch:439/1000.. Train Loss: 0.149.. Val Loss: 0.225.. Test Loss: 0.204.. Time: 0.24m\n"
     ]
    },
    {
     "name": "stderr",
     "output_type": "stream",
     "text": [
      "100%|██████████| 106/106 [00:12<00:00,  8.41it/s]\n",
      "100%|██████████| 18/18 [00:00<00:00, 41.54it/s]\n",
      "100%|██████████| 53/53 [00:01<00:00, 41.57it/s]\n"
     ]
    },
    {
     "name": "stdout",
     "output_type": "stream",
     "text": [
      "Epoch:440/1000.. Train Loss: 0.149.. Val Loss: 0.227.. Test Loss: 0.205.. Time: 0.24m\n"
     ]
    },
    {
     "name": "stderr",
     "output_type": "stream",
     "text": [
      "100%|██████████| 106/106 [00:12<00:00,  8.76it/s]\n",
      "100%|██████████| 18/18 [00:00<00:00, 42.70it/s]\n",
      "100%|██████████| 53/53 [00:01<00:00, 42.61it/s]\n"
     ]
    },
    {
     "name": "stdout",
     "output_type": "stream",
     "text": [
      "Epoch:441/1000.. Train Loss: 0.152.. Val Loss: 0.225.. Test Loss: 0.205.. Time: 0.23m\n"
     ]
    },
    {
     "name": "stderr",
     "output_type": "stream",
     "text": [
      "100%|██████████| 106/106 [00:12<00:00,  8.55it/s]\n",
      "100%|██████████| 18/18 [00:00<00:00, 41.58it/s]\n",
      "100%|██████████| 53/53 [00:01<00:00, 42.55it/s]\n"
     ]
    },
    {
     "name": "stdout",
     "output_type": "stream",
     "text": [
      "Epoch:442/1000.. Train Loss: 0.151.. Val Loss: 0.225.. Test Loss: 0.205.. Time: 0.24m\n"
     ]
    },
    {
     "name": "stderr",
     "output_type": "stream",
     "text": [
      "100%|██████████| 106/106 [00:12<00:00,  8.65it/s]\n",
      "100%|██████████| 18/18 [00:00<00:00, 40.80it/s]\n",
      "100%|██████████| 53/53 [00:01<00:00, 42.59it/s]\n"
     ]
    },
    {
     "name": "stdout",
     "output_type": "stream",
     "text": [
      "Epoch:443/1000.. Train Loss: 0.150.. Val Loss: 0.228.. Test Loss: 0.205.. Time: 0.23m\n"
     ]
    },
    {
     "name": "stderr",
     "output_type": "stream",
     "text": [
      "100%|██████████| 106/106 [00:12<00:00,  8.59it/s]\n",
      "100%|██████████| 18/18 [00:00<00:00, 42.78it/s]\n",
      "100%|██████████| 53/53 [00:01<00:00, 43.17it/s]\n"
     ]
    },
    {
     "name": "stdout",
     "output_type": "stream",
     "text": [
      "Epoch:444/1000.. Train Loss: 0.150.. Val Loss: 0.226.. Test Loss: 0.205.. Time: 0.23m\n"
     ]
    },
    {
     "name": "stderr",
     "output_type": "stream",
     "text": [
      "100%|██████████| 106/106 [00:12<00:00,  8.57it/s]\n",
      "100%|██████████| 18/18 [00:00<00:00, 42.81it/s]\n",
      "100%|██████████| 53/53 [00:01<00:00, 42.70it/s]\n"
     ]
    },
    {
     "name": "stdout",
     "output_type": "stream",
     "text": [
      "Epoch:445/1000.. Train Loss: 0.151.. Val Loss: 0.225.. Test Loss: 0.204.. Time: 0.23m\n"
     ]
    },
    {
     "name": "stderr",
     "output_type": "stream",
     "text": [
      "100%|██████████| 106/106 [00:12<00:00,  8.68it/s]\n",
      "100%|██████████| 18/18 [00:00<00:00, 42.61it/s]\n",
      "100%|██████████| 53/53 [00:01<00:00, 42.71it/s]\n"
     ]
    },
    {
     "name": "stdout",
     "output_type": "stream",
     "text": [
      "Epoch:446/1000.. Train Loss: 0.150.. Val Loss: 0.231.. Test Loss: 0.206.. Time: 0.23m\n"
     ]
    },
    {
     "name": "stderr",
     "output_type": "stream",
     "text": [
      "100%|██████████| 106/106 [00:12<00:00,  8.61it/s]\n",
      "100%|██████████| 18/18 [00:00<00:00, 43.18it/s]\n",
      "100%|██████████| 53/53 [00:01<00:00, 43.19it/s]\n"
     ]
    },
    {
     "name": "stdout",
     "output_type": "stream",
     "text": [
      "Epoch:447/1000.. Train Loss: 0.149.. Val Loss: 0.224.. Test Loss: 0.204.. Time: 0.23m\n"
     ]
    },
    {
     "name": "stderr",
     "output_type": "stream",
     "text": [
      "100%|██████████| 106/106 [00:12<00:00,  8.73it/s]\n",
      "100%|██████████| 18/18 [00:00<00:00, 42.50it/s]\n",
      "100%|██████████| 53/53 [00:01<00:00, 41.52it/s]\n"
     ]
    },
    {
     "name": "stdout",
     "output_type": "stream",
     "text": [
      "Epoch:448/1000.. Train Loss: 0.150.. Val Loss: 0.224.. Test Loss: 0.205.. Time: 0.23m\n"
     ]
    },
    {
     "name": "stderr",
     "output_type": "stream",
     "text": [
      "100%|██████████| 106/106 [00:12<00:00,  8.69it/s]\n",
      "100%|██████████| 18/18 [00:00<00:00, 40.51it/s]\n",
      "100%|██████████| 53/53 [00:01<00:00, 41.18it/s]\n"
     ]
    },
    {
     "name": "stdout",
     "output_type": "stream",
     "text": [
      "Epoch:449/1000.. Train Loss: 0.152.. Val Loss: 0.224.. Test Loss: 0.206.. Time: 0.23m\n"
     ]
    },
    {
     "name": "stderr",
     "output_type": "stream",
     "text": [
      "100%|██████████| 106/106 [00:12<00:00,  8.57it/s]\n",
      "100%|██████████| 18/18 [00:00<00:00, 41.16it/s]\n",
      "100%|██████████| 53/53 [00:01<00:00, 42.82it/s]\n"
     ]
    },
    {
     "name": "stdout",
     "output_type": "stream",
     "text": [
      "Epoch:450/1000.. Train Loss: 0.150.. Val Loss: 0.225.. Test Loss: 0.206.. Time: 0.24m\n"
     ]
    },
    {
     "name": "stderr",
     "output_type": "stream",
     "text": [
      "100%|██████████| 106/106 [00:12<00:00,  8.76it/s]\n",
      "100%|██████████| 18/18 [00:00<00:00, 41.07it/s]\n",
      "100%|██████████| 53/53 [00:01<00:00, 41.89it/s]\n"
     ]
    },
    {
     "name": "stdout",
     "output_type": "stream",
     "text": [
      "Epoch:451/1000.. Train Loss: 0.149.. Val Loss: 0.225.. Test Loss: 0.205.. Time: 0.23m\n"
     ]
    },
    {
     "name": "stderr",
     "output_type": "stream",
     "text": [
      "100%|██████████| 106/106 [00:12<00:00,  8.81it/s]\n",
      "100%|██████████| 18/18 [00:00<00:00, 42.65it/s]\n",
      "100%|██████████| 53/53 [00:01<00:00, 42.49it/s]\n"
     ]
    },
    {
     "name": "stdout",
     "output_type": "stream",
     "text": [
      "Epoch:452/1000.. Train Loss: 0.151.. Val Loss: 0.226.. Test Loss: 0.205.. Time: 0.23m\n"
     ]
    },
    {
     "name": "stderr",
     "output_type": "stream",
     "text": [
      "100%|██████████| 106/106 [00:12<00:00,  8.39it/s]\n",
      "100%|██████████| 18/18 [00:00<00:00, 42.32it/s]\n",
      "100%|██████████| 53/53 [00:01<00:00, 41.05it/s]\n"
     ]
    },
    {
     "name": "stdout",
     "output_type": "stream",
     "text": [
      "Epoch:453/1000.. Train Loss: 0.151.. Val Loss: 0.232.. Test Loss: 0.205.. Time: 0.24m\n"
     ]
    },
    {
     "name": "stderr",
     "output_type": "stream",
     "text": [
      "100%|██████████| 106/106 [00:12<00:00,  8.52it/s]\n",
      "100%|██████████| 18/18 [00:00<00:00, 42.55it/s]\n",
      "100%|██████████| 53/53 [00:01<00:00, 42.16it/s]\n"
     ]
    },
    {
     "name": "stdout",
     "output_type": "stream",
     "text": [
      "Epoch:454/1000.. Train Loss: 0.149.. Val Loss: 0.227.. Test Loss: 0.205.. Time: 0.24m\n"
     ]
    },
    {
     "name": "stderr",
     "output_type": "stream",
     "text": [
      "100%|██████████| 106/106 [00:12<00:00,  8.76it/s]\n",
      "100%|██████████| 18/18 [00:00<00:00, 42.64it/s]\n",
      "100%|██████████| 53/53 [00:01<00:00, 42.06it/s]\n"
     ]
    },
    {
     "name": "stdout",
     "output_type": "stream",
     "text": [
      "Epoch:455/1000.. Train Loss: 0.149.. Val Loss: 0.225.. Test Loss: 0.205.. Time: 0.23m\n"
     ]
    },
    {
     "name": "stderr",
     "output_type": "stream",
     "text": [
      "100%|██████████| 106/106 [00:12<00:00,  8.74it/s]\n",
      "100%|██████████| 18/18 [00:00<00:00, 42.38it/s]\n",
      "100%|██████████| 53/53 [00:01<00:00, 42.47it/s]\n"
     ]
    },
    {
     "name": "stdout",
     "output_type": "stream",
     "text": [
      "Epoch:456/1000.. Train Loss: 0.150.. Val Loss: 0.227.. Test Loss: 0.206.. Time: 0.23m\n"
     ]
    },
    {
     "name": "stderr",
     "output_type": "stream",
     "text": [
      "100%|██████████| 106/106 [00:11<00:00,  8.85it/s]\n",
      "100%|██████████| 18/18 [00:00<00:00, 42.35it/s]\n",
      "100%|██████████| 53/53 [00:01<00:00, 41.84it/s]\n"
     ]
    },
    {
     "name": "stdout",
     "output_type": "stream",
     "text": [
      "Epoch:457/1000.. Train Loss: 0.149.. Val Loss: 0.232.. Test Loss: 0.205.. Time: 0.23m\n"
     ]
    },
    {
     "name": "stderr",
     "output_type": "stream",
     "text": [
      "100%|██████████| 106/106 [00:12<00:00,  8.69it/s]\n",
      "100%|██████████| 18/18 [00:00<00:00, 42.96it/s]\n",
      "100%|██████████| 53/53 [00:01<00:00, 42.95it/s]\n"
     ]
    },
    {
     "name": "stdout",
     "output_type": "stream",
     "text": [
      "Epoch:458/1000.. Train Loss: 0.152.. Val Loss: 0.225.. Test Loss: 0.205.. Time: 0.23m\n"
     ]
    },
    {
     "name": "stderr",
     "output_type": "stream",
     "text": [
      "100%|██████████| 106/106 [00:12<00:00,  8.79it/s]\n",
      "100%|██████████| 18/18 [00:00<00:00, 42.62it/s]\n",
      "100%|██████████| 53/53 [00:01<00:00, 43.12it/s]\n"
     ]
    },
    {
     "name": "stdout",
     "output_type": "stream",
     "text": [
      "Epoch:459/1000.. Train Loss: 0.150.. Val Loss: 0.224.. Test Loss: 0.204.. Time: 0.23m\n"
     ]
    },
    {
     "name": "stderr",
     "output_type": "stream",
     "text": [
      "100%|██████████| 106/106 [00:12<00:00,  8.78it/s]\n",
      "100%|██████████| 18/18 [00:00<00:00, 43.20it/s]\n",
      "100%|██████████| 53/53 [00:01<00:00, 43.60it/s]\n"
     ]
    },
    {
     "name": "stdout",
     "output_type": "stream",
     "text": [
      "Epoch:460/1000.. Train Loss: 0.149.. Val Loss: 0.225.. Test Loss: 0.205.. Time: 0.23m\n"
     ]
    },
    {
     "name": "stderr",
     "output_type": "stream",
     "text": [
      "100%|██████████| 106/106 [00:12<00:00,  8.70it/s]\n",
      "100%|██████████| 18/18 [00:00<00:00, 42.81it/s]\n",
      "100%|██████████| 53/53 [00:01<00:00, 42.94it/s]\n"
     ]
    },
    {
     "name": "stdout",
     "output_type": "stream",
     "text": [
      "Epoch:461/1000.. Train Loss: 0.150.. Val Loss: 0.225.. Test Loss: 0.205.. Time: 0.23m\n"
     ]
    },
    {
     "name": "stderr",
     "output_type": "stream",
     "text": [
      "100%|██████████| 106/106 [00:11<00:00,  8.87it/s]\n",
      "100%|██████████| 18/18 [00:00<00:00, 42.82it/s]\n",
      "100%|██████████| 53/53 [00:01<00:00, 42.89it/s]\n"
     ]
    },
    {
     "name": "stdout",
     "output_type": "stream",
     "text": [
      "Epoch:462/1000.. Train Loss: 0.151.. Val Loss: 0.225.. Test Loss: 0.206.. Time: 0.23m\n"
     ]
    },
    {
     "name": "stderr",
     "output_type": "stream",
     "text": [
      "100%|██████████| 106/106 [00:12<00:00,  8.72it/s]\n",
      "100%|██████████| 18/18 [00:00<00:00, 42.71it/s]\n",
      "100%|██████████| 53/53 [00:01<00:00, 42.69it/s]\n"
     ]
    },
    {
     "name": "stdout",
     "output_type": "stream",
     "text": [
      "Epoch:463/1000.. Train Loss: 0.149.. Val Loss: 0.230.. Test Loss: 0.204.. Time: 0.23m\n"
     ]
    },
    {
     "name": "stderr",
     "output_type": "stream",
     "text": [
      "100%|██████████| 106/106 [00:12<00:00,  8.68it/s]\n",
      "100%|██████████| 18/18 [00:00<00:00, 42.58it/s]\n",
      "100%|██████████| 53/53 [00:01<00:00, 42.26it/s]\n"
     ]
    },
    {
     "name": "stdout",
     "output_type": "stream",
     "text": [
      "Epoch:464/1000.. Train Loss: 0.149.. Val Loss: 0.225.. Test Loss: 0.204.. Time: 0.23m\n"
     ]
    },
    {
     "name": "stderr",
     "output_type": "stream",
     "text": [
      "100%|██████████| 106/106 [00:12<00:00,  8.77it/s]\n",
      "100%|██████████| 18/18 [00:00<00:00, 42.19it/s]\n",
      "100%|██████████| 53/53 [00:01<00:00, 42.25it/s]\n"
     ]
    },
    {
     "name": "stdout",
     "output_type": "stream",
     "text": [
      "Epoch:465/1000.. Train Loss: 0.149.. Val Loss: 0.226.. Test Loss: 0.205.. Time: 0.23m\n"
     ]
    },
    {
     "name": "stderr",
     "output_type": "stream",
     "text": [
      "100%|██████████| 106/106 [00:12<00:00,  8.77it/s]\n",
      "100%|██████████| 18/18 [00:00<00:00, 41.98it/s]\n",
      "100%|██████████| 53/53 [00:01<00:00, 42.17it/s]\n"
     ]
    },
    {
     "name": "stdout",
     "output_type": "stream",
     "text": [
      "Epoch:466/1000.. Train Loss: 0.150.. Val Loss: 0.232.. Test Loss: 0.205.. Time: 0.23m\n"
     ]
    },
    {
     "name": "stderr",
     "output_type": "stream",
     "text": [
      "100%|██████████| 106/106 [00:12<00:00,  8.77it/s]\n",
      "100%|██████████| 18/18 [00:00<00:00, 43.07it/s]\n",
      "100%|██████████| 53/53 [00:01<00:00, 43.21it/s]\n"
     ]
    },
    {
     "name": "stdout",
     "output_type": "stream",
     "text": [
      "Epoch:467/1000.. Train Loss: 0.149.. Val Loss: 0.227.. Test Loss: 0.205.. Time: 0.23m\n"
     ]
    },
    {
     "name": "stderr",
     "output_type": "stream",
     "text": [
      "100%|██████████| 106/106 [00:12<00:00,  8.54it/s]\n",
      "100%|██████████| 18/18 [00:00<00:00, 42.57it/s]\n",
      "100%|██████████| 53/53 [00:01<00:00, 42.70it/s]\n"
     ]
    },
    {
     "name": "stdout",
     "output_type": "stream",
     "text": [
      "Epoch:468/1000.. Train Loss: 0.150.. Val Loss: 0.225.. Test Loss: 0.205.. Time: 0.24m\n"
     ]
    },
    {
     "name": "stderr",
     "output_type": "stream",
     "text": [
      "100%|██████████| 106/106 [00:12<00:00,  8.68it/s]\n",
      "100%|██████████| 18/18 [00:00<00:00, 42.06it/s]\n",
      "100%|██████████| 53/53 [00:01<00:00, 42.13it/s]\n"
     ]
    },
    {
     "name": "stdout",
     "output_type": "stream",
     "text": [
      "Epoch:469/1000.. Train Loss: 0.150.. Val Loss: 0.227.. Test Loss: 0.205.. Time: 0.23m\n"
     ]
    },
    {
     "name": "stderr",
     "output_type": "stream",
     "text": [
      "100%|██████████| 106/106 [00:12<00:00,  8.80it/s]\n",
      "100%|██████████| 18/18 [00:00<00:00, 41.18it/s]\n",
      "100%|██████████| 53/53 [00:01<00:00, 42.89it/s]\n"
     ]
    },
    {
     "name": "stdout",
     "output_type": "stream",
     "text": [
      "Epoch:470/1000.. Train Loss: 0.150.. Val Loss: 0.223.. Test Loss: 0.204.. Time: 0.23m\n"
     ]
    },
    {
     "name": "stderr",
     "output_type": "stream",
     "text": [
      "100%|██████████| 106/106 [00:12<00:00,  8.74it/s]\n",
      "100%|██████████| 18/18 [00:00<00:00, 43.06it/s]\n",
      "100%|██████████| 53/53 [00:01<00:00, 42.82it/s]\n"
     ]
    },
    {
     "name": "stdout",
     "output_type": "stream",
     "text": [
      "Epoch:471/1000.. Train Loss: 0.150.. Val Loss: 0.227.. Test Loss: 0.205.. Time: 0.23m\n"
     ]
    },
    {
     "name": "stderr",
     "output_type": "stream",
     "text": [
      "100%|██████████| 106/106 [00:12<00:00,  8.77it/s]\n",
      "100%|██████████| 18/18 [00:00<00:00, 42.81it/s]\n",
      "100%|██████████| 53/53 [00:01<00:00, 42.70it/s]\n"
     ]
    },
    {
     "name": "stdout",
     "output_type": "stream",
     "text": [
      "Epoch:472/1000.. Train Loss: 0.151.. Val Loss: 0.231.. Test Loss: 0.205.. Time: 0.23m\n"
     ]
    },
    {
     "name": "stderr",
     "output_type": "stream",
     "text": [
      "100%|██████████| 106/106 [00:12<00:00,  8.67it/s]\n",
      "100%|██████████| 18/18 [00:00<00:00, 43.22it/s]\n",
      "100%|██████████| 53/53 [00:01<00:00, 42.62it/s]\n"
     ]
    },
    {
     "name": "stdout",
     "output_type": "stream",
     "text": [
      "Epoch:473/1000.. Train Loss: 0.152.. Val Loss: 0.224.. Test Loss: 0.205.. Time: 0.23m\n"
     ]
    },
    {
     "name": "stderr",
     "output_type": "stream",
     "text": [
      "100%|██████████| 106/106 [00:10<00:00,  9.85it/s]\n",
      "100%|██████████| 18/18 [00:00<00:00, 42.28it/s]\n",
      "100%|██████████| 53/53 [00:01<00:00, 42.91it/s]\n"
     ]
    },
    {
     "name": "stdout",
     "output_type": "stream",
     "text": [
      "Epoch:474/1000.. Train Loss: 0.149.. Val Loss: 0.224.. Test Loss: 0.205.. Time: 0.21m\n"
     ]
    },
    {
     "name": "stderr",
     "output_type": "stream",
     "text": [
      "100%|██████████| 106/106 [00:12<00:00,  8.52it/s]\n",
      "100%|██████████| 18/18 [00:00<00:00, 42.34it/s]\n",
      "100%|██████████| 53/53 [00:01<00:00, 42.64it/s]\n"
     ]
    },
    {
     "name": "stdout",
     "output_type": "stream",
     "text": [
      "Epoch:475/1000.. Train Loss: 0.150.. Val Loss: 0.231.. Test Loss: 0.205.. Time: 0.24m\n"
     ]
    },
    {
     "name": "stderr",
     "output_type": "stream",
     "text": [
      "100%|██████████| 106/106 [00:12<00:00,  8.80it/s]\n",
      "100%|██████████| 18/18 [00:00<00:00, 42.78it/s]\n",
      "100%|██████████| 53/53 [00:01<00:00, 42.88it/s]\n"
     ]
    },
    {
     "name": "stdout",
     "output_type": "stream",
     "text": [
      "Epoch:476/1000.. Train Loss: 0.151.. Val Loss: 0.232.. Test Loss: 0.206.. Time: 0.23m\n"
     ]
    },
    {
     "name": "stderr",
     "output_type": "stream",
     "text": [
      "100%|██████████| 106/106 [00:12<00:00,  8.47it/s]\n",
      "100%|██████████| 18/18 [00:00<00:00, 43.11it/s]\n",
      "100%|██████████| 53/53 [00:01<00:00, 43.20it/s]\n"
     ]
    },
    {
     "name": "stdout",
     "output_type": "stream",
     "text": [
      "Epoch:477/1000.. Train Loss: 0.149.. Val Loss: 0.225.. Test Loss: 0.205.. Time: 0.24m\n"
     ]
    },
    {
     "name": "stderr",
     "output_type": "stream",
     "text": [
      "100%|██████████| 106/106 [00:12<00:00,  8.51it/s]\n",
      "100%|██████████| 18/18 [00:00<00:00, 42.63it/s]\n",
      "100%|██████████| 53/53 [00:01<00:00, 42.79it/s]\n"
     ]
    },
    {
     "name": "stdout",
     "output_type": "stream",
     "text": [
      "Epoch:478/1000.. Train Loss: 0.150.. Val Loss: 0.225.. Test Loss: 0.205.. Time: 0.24m\n"
     ]
    },
    {
     "name": "stderr",
     "output_type": "stream",
     "text": [
      "100%|██████████| 106/106 [00:12<00:00,  8.78it/s]\n",
      "100%|██████████| 18/18 [00:00<00:00, 41.37it/s]\n",
      "100%|██████████| 53/53 [00:01<00:00, 42.80it/s]\n"
     ]
    },
    {
     "name": "stdout",
     "output_type": "stream",
     "text": [
      "Epoch:479/1000.. Train Loss: 0.151.. Val Loss: 0.224.. Test Loss: 0.206.. Time: 0.23m\n"
     ]
    },
    {
     "name": "stderr",
     "output_type": "stream",
     "text": [
      "100%|██████████| 106/106 [00:12<00:00,  8.71it/s]\n",
      "100%|██████████| 18/18 [00:00<00:00, 42.21it/s]\n",
      "100%|██████████| 53/53 [00:01<00:00, 42.01it/s]\n"
     ]
    },
    {
     "name": "stdout",
     "output_type": "stream",
     "text": [
      "Epoch:480/1000.. Train Loss: 0.151.. Val Loss: 0.224.. Test Loss: 0.205.. Time: 0.23m\n"
     ]
    },
    {
     "name": "stderr",
     "output_type": "stream",
     "text": [
      "100%|██████████| 106/106 [00:10<00:00,  9.68it/s]\n",
      "100%|██████████| 18/18 [00:00<00:00, 42.48it/s]\n",
      "100%|██████████| 53/53 [00:01<00:00, 42.10it/s]\n"
     ]
    },
    {
     "name": "stdout",
     "output_type": "stream",
     "text": [
      "Epoch:481/1000.. Train Loss: 0.149.. Val Loss: 0.227.. Test Loss: 0.205.. Time: 0.21m\n"
     ]
    },
    {
     "name": "stderr",
     "output_type": "stream",
     "text": [
      "100%|██████████| 106/106 [00:10<00:00,  9.77it/s]\n",
      "100%|██████████| 18/18 [00:00<00:00, 42.53it/s]\n",
      "100%|██████████| 53/53 [00:01<00:00, 42.61it/s]\n"
     ]
    },
    {
     "name": "stdout",
     "output_type": "stream",
     "text": [
      "Epoch:482/1000.. Train Loss: 0.151.. Val Loss: 0.224.. Test Loss: 0.205.. Time: 0.21m\n"
     ]
    },
    {
     "name": "stderr",
     "output_type": "stream",
     "text": [
      "100%|██████████| 106/106 [00:10<00:00,  9.85it/s]\n",
      "100%|██████████| 18/18 [00:00<00:00, 40.72it/s]\n",
      "100%|██████████| 53/53 [00:01<00:00, 41.27it/s]\n"
     ]
    },
    {
     "name": "stdout",
     "output_type": "stream",
     "text": [
      "Epoch:483/1000.. Train Loss: 0.149.. Val Loss: 0.225.. Test Loss: 0.205.. Time: 0.21m\n"
     ]
    },
    {
     "name": "stderr",
     "output_type": "stream",
     "text": [
      "100%|██████████| 106/106 [00:10<00:00,  9.89it/s]\n",
      "100%|██████████| 18/18 [00:00<00:00, 42.15it/s]\n",
      "100%|██████████| 53/53 [00:01<00:00, 42.03it/s]\n"
     ]
    },
    {
     "name": "stdout",
     "output_type": "stream",
     "text": [
      "Epoch:484/1000.. Train Loss: 0.151.. Val Loss: 0.232.. Test Loss: 0.205.. Time: 0.21m\n"
     ]
    },
    {
     "name": "stderr",
     "output_type": "stream",
     "text": [
      "100%|██████████| 106/106 [00:10<00:00,  9.81it/s]\n",
      "100%|██████████| 18/18 [00:00<00:00, 42.22it/s]\n",
      "100%|██████████| 53/53 [00:01<00:00, 41.57it/s]\n"
     ]
    },
    {
     "name": "stdout",
     "output_type": "stream",
     "text": [
      "Epoch:485/1000.. Train Loss: 0.150.. Val Loss: 0.224.. Test Loss: 0.205.. Time: 0.21m\n"
     ]
    },
    {
     "name": "stderr",
     "output_type": "stream",
     "text": [
      "100%|██████████| 106/106 [00:10<00:00,  9.72it/s]\n",
      "100%|██████████| 18/18 [00:00<00:00, 42.67it/s]\n",
      "100%|██████████| 53/53 [00:01<00:00, 42.52it/s]\n"
     ]
    },
    {
     "name": "stdout",
     "output_type": "stream",
     "text": [
      "Epoch:486/1000.. Train Loss: 0.150.. Val Loss: 0.226.. Test Loss: 0.205.. Time: 0.21m\n"
     ]
    },
    {
     "name": "stderr",
     "output_type": "stream",
     "text": [
      "100%|██████████| 106/106 [00:11<00:00,  9.06it/s]\n",
      "100%|██████████| 18/18 [00:00<00:00, 42.08it/s]\n",
      "100%|██████████| 53/53 [00:01<00:00, 42.02it/s]\n"
     ]
    },
    {
     "name": "stdout",
     "output_type": "stream",
     "text": [
      "Epoch:487/1000.. Train Loss: 0.151.. Val Loss: 0.225.. Test Loss: 0.205.. Time: 0.22m\n"
     ]
    },
    {
     "name": "stderr",
     "output_type": "stream",
     "text": [
      "100%|██████████| 106/106 [00:12<00:00,  8.44it/s]\n",
      "100%|██████████| 18/18 [00:00<00:00, 42.08it/s]\n",
      "100%|██████████| 53/53 [00:01<00:00, 42.11it/s]\n"
     ]
    },
    {
     "name": "stdout",
     "output_type": "stream",
     "text": [
      "Epoch:488/1000.. Train Loss: 0.151.. Val Loss: 0.226.. Test Loss: 0.204.. Time: 0.24m\n"
     ]
    },
    {
     "name": "stderr",
     "output_type": "stream",
     "text": [
      "100%|██████████| 106/106 [00:12<00:00,  8.57it/s]\n",
      "100%|██████████| 18/18 [00:00<00:00, 42.69it/s]\n",
      "100%|██████████| 53/53 [00:01<00:00, 42.83it/s]\n"
     ]
    },
    {
     "name": "stdout",
     "output_type": "stream",
     "text": [
      "Epoch:489/1000.. Train Loss: 0.151.. Val Loss: 0.225.. Test Loss: 0.204.. Time: 0.23m\n"
     ]
    },
    {
     "name": "stderr",
     "output_type": "stream",
     "text": [
      "100%|██████████| 106/106 [00:12<00:00,  8.79it/s]\n",
      "100%|██████████| 18/18 [00:00<00:00, 42.60it/s]\n",
      "100%|██████████| 53/53 [00:01<00:00, 42.73it/s]\n"
     ]
    },
    {
     "name": "stdout",
     "output_type": "stream",
     "text": [
      "Epoch:490/1000.. Train Loss: 0.151.. Val Loss: 0.224.. Test Loss: 0.204.. Time: 0.23m\n"
     ]
    },
    {
     "name": "stderr",
     "output_type": "stream",
     "text": [
      "100%|██████████| 106/106 [00:12<00:00,  8.59it/s]\n",
      "100%|██████████| 18/18 [00:00<00:00, 42.56it/s]\n",
      "100%|██████████| 53/53 [00:01<00:00, 42.55it/s]\n"
     ]
    },
    {
     "name": "stdout",
     "output_type": "stream",
     "text": [
      "Epoch:491/1000.. Train Loss: 0.151.. Val Loss: 0.227.. Test Loss: 0.205.. Time: 0.23m\n"
     ]
    },
    {
     "name": "stderr",
     "output_type": "stream",
     "text": [
      "100%|██████████| 106/106 [00:12<00:00,  8.67it/s]\n",
      "100%|██████████| 18/18 [00:00<00:00, 41.40it/s]\n",
      "100%|██████████| 53/53 [00:01<00:00, 42.88it/s]\n"
     ]
    },
    {
     "name": "stdout",
     "output_type": "stream",
     "text": [
      "Epoch:492/1000.. Train Loss: 0.149.. Val Loss: 0.224.. Test Loss: 0.204.. Time: 0.23m\n"
     ]
    },
    {
     "name": "stderr",
     "output_type": "stream",
     "text": [
      "100%|██████████| 106/106 [00:12<00:00,  8.61it/s]\n",
      "100%|██████████| 18/18 [00:00<00:00, 42.44it/s]\n",
      "100%|██████████| 53/53 [00:01<00:00, 42.52it/s]\n"
     ]
    },
    {
     "name": "stdout",
     "output_type": "stream",
     "text": [
      "Epoch:493/1000.. Train Loss: 0.150.. Val Loss: 0.226.. Test Loss: 0.205.. Time: 0.23m\n"
     ]
    },
    {
     "name": "stderr",
     "output_type": "stream",
     "text": [
      "100%|██████████| 106/106 [00:12<00:00,  8.55it/s]\n",
      "100%|██████████| 18/18 [00:00<00:00, 42.88it/s]\n",
      "100%|██████████| 53/53 [00:01<00:00, 43.22it/s]\n"
     ]
    },
    {
     "name": "stdout",
     "output_type": "stream",
     "text": [
      "Epoch:494/1000.. Train Loss: 0.151.. Val Loss: 0.226.. Test Loss: 0.205.. Time: 0.24m\n"
     ]
    },
    {
     "name": "stderr",
     "output_type": "stream",
     "text": [
      "100%|██████████| 106/106 [00:12<00:00,  8.71it/s]\n",
      "100%|██████████| 18/18 [00:00<00:00, 42.41it/s]\n",
      "100%|██████████| 53/53 [00:01<00:00, 42.65it/s]\n"
     ]
    },
    {
     "name": "stdout",
     "output_type": "stream",
     "text": [
      "Epoch:495/1000.. Train Loss: 0.151.. Val Loss: 0.227.. Test Loss: 0.205.. Time: 0.23m\n"
     ]
    },
    {
     "name": "stderr",
     "output_type": "stream",
     "text": [
      "100%|██████████| 106/106 [00:12<00:00,  8.80it/s]\n",
      "100%|██████████| 18/18 [00:00<00:00, 42.82it/s]\n",
      "100%|██████████| 53/53 [00:01<00:00, 42.67it/s]\n"
     ]
    },
    {
     "name": "stdout",
     "output_type": "stream",
     "text": [
      "Epoch:496/1000.. Train Loss: 0.152.. Val Loss: 0.226.. Test Loss: 0.204.. Time: 0.23m\n"
     ]
    },
    {
     "name": "stderr",
     "output_type": "stream",
     "text": [
      "100%|██████████| 106/106 [00:12<00:00,  8.70it/s]\n",
      "100%|██████████| 18/18 [00:00<00:00, 42.58it/s]\n",
      "100%|██████████| 53/53 [00:01<00:00, 42.68it/s]\n"
     ]
    },
    {
     "name": "stdout",
     "output_type": "stream",
     "text": [
      "Epoch:497/1000.. Train Loss: 0.150.. Val Loss: 0.225.. Test Loss: 0.204.. Time: 0.23m\n"
     ]
    },
    {
     "name": "stderr",
     "output_type": "stream",
     "text": [
      "100%|██████████| 106/106 [00:10<00:00, 10.14it/s]\n",
      "100%|██████████| 18/18 [00:00<00:00, 42.89it/s]\n",
      "100%|██████████| 53/53 [00:01<00:00, 42.74it/s]\n"
     ]
    },
    {
     "name": "stdout",
     "output_type": "stream",
     "text": [
      "Epoch:498/1000.. Train Loss: 0.151.. Val Loss: 0.225.. Test Loss: 0.205.. Time: 0.20m\n"
     ]
    },
    {
     "name": "stderr",
     "output_type": "stream",
     "text": [
      "100%|██████████| 106/106 [00:12<00:00,  8.52it/s]\n",
      "100%|██████████| 18/18 [00:00<00:00, 42.36it/s]\n",
      "100%|██████████| 53/53 [00:01<00:00, 43.30it/s]\n"
     ]
    },
    {
     "name": "stdout",
     "output_type": "stream",
     "text": [
      "Epoch:499/1000.. Train Loss: 0.150.. Val Loss: 0.224.. Test Loss: 0.205.. Time: 0.24m\n"
     ]
    },
    {
     "name": "stderr",
     "output_type": "stream",
     "text": [
      "100%|██████████| 106/106 [00:12<00:00,  8.48it/s]\n",
      "100%|██████████| 18/18 [00:00<00:00, 42.84it/s]\n",
      "100%|██████████| 53/53 [00:01<00:00, 42.70it/s]\n"
     ]
    },
    {
     "name": "stdout",
     "output_type": "stream",
     "text": [
      "Epoch:500/1000.. Train Loss: 0.150.. Val Loss: 0.227.. Test Loss: 0.206.. Time: 0.24m\n"
     ]
    },
    {
     "name": "stderr",
     "output_type": "stream",
     "text": [
      "100%|██████████| 106/106 [00:12<00:00,  8.53it/s]\n",
      "100%|██████████| 18/18 [00:00<00:00, 42.75it/s]\n",
      "100%|██████████| 53/53 [00:01<00:00, 42.69it/s]\n"
     ]
    },
    {
     "name": "stdout",
     "output_type": "stream",
     "text": [
      "Epoch:501/1000.. Train Loss: 0.150.. Val Loss: 0.228.. Test Loss: 0.206.. Time: 0.24m\n"
     ]
    },
    {
     "name": "stderr",
     "output_type": "stream",
     "text": [
      "100%|██████████| 106/106 [00:12<00:00,  8.65it/s]\n",
      "100%|██████████| 18/18 [00:00<00:00, 42.89it/s]\n",
      "100%|██████████| 53/53 [00:01<00:00, 43.41it/s]\n"
     ]
    },
    {
     "name": "stdout",
     "output_type": "stream",
     "text": [
      "Epoch:502/1000.. Train Loss: 0.151.. Val Loss: 0.231.. Test Loss: 0.205.. Time: 0.23m\n"
     ]
    },
    {
     "name": "stderr",
     "output_type": "stream",
     "text": [
      "100%|██████████| 106/106 [00:12<00:00,  8.71it/s]\n",
      "100%|██████████| 18/18 [00:00<00:00, 42.92it/s]\n",
      "100%|██████████| 53/53 [00:01<00:00, 43.00it/s]\n"
     ]
    },
    {
     "name": "stdout",
     "output_type": "stream",
     "text": [
      "Epoch:503/1000.. Train Loss: 0.151.. Val Loss: 0.224.. Test Loss: 0.204.. Time: 0.23m\n"
     ]
    },
    {
     "name": "stderr",
     "output_type": "stream",
     "text": [
      "100%|██████████| 106/106 [00:11<00:00,  8.88it/s]\n",
      "100%|██████████| 18/18 [00:00<00:00, 42.44it/s]\n",
      "100%|██████████| 53/53 [00:01<00:00, 41.65it/s]\n"
     ]
    },
    {
     "name": "stdout",
     "output_type": "stream",
     "text": [
      "Epoch:504/1000.. Train Loss: 0.152.. Val Loss: 0.225.. Test Loss: 0.204.. Time: 0.23m\n"
     ]
    },
    {
     "name": "stderr",
     "output_type": "stream",
     "text": [
      "100%|██████████| 106/106 [00:12<00:00,  8.76it/s]\n",
      "100%|██████████| 18/18 [00:00<00:00, 41.10it/s]\n",
      "100%|██████████| 53/53 [00:01<00:00, 42.22it/s]\n"
     ]
    },
    {
     "name": "stdout",
     "output_type": "stream",
     "text": [
      "Epoch:505/1000.. Train Loss: 0.149.. Val Loss: 0.225.. Test Loss: 0.204.. Time: 0.23m\n"
     ]
    },
    {
     "name": "stderr",
     "output_type": "stream",
     "text": [
      "100%|██████████| 106/106 [00:12<00:00,  8.29it/s]\n",
      "100%|██████████| 18/18 [00:00<00:00, 42.63it/s]\n",
      "100%|██████████| 53/53 [00:01<00:00, 42.50it/s]\n"
     ]
    },
    {
     "name": "stdout",
     "output_type": "stream",
     "text": [
      "Epoch:506/1000.. Train Loss: 0.150.. Val Loss: 0.227.. Test Loss: 0.205.. Time: 0.24m\n"
     ]
    },
    {
     "name": "stderr",
     "output_type": "stream",
     "text": [
      "100%|██████████| 106/106 [00:10<00:00,  9.92it/s]\n",
      "100%|██████████| 18/18 [00:00<00:00, 42.26it/s]\n",
      "100%|██████████| 53/53 [00:01<00:00, 42.15it/s]\n"
     ]
    },
    {
     "name": "stdout",
     "output_type": "stream",
     "text": [
      "Epoch:507/1000.. Train Loss: 0.151.. Val Loss: 0.227.. Test Loss: 0.206.. Time: 0.21m\n"
     ]
    },
    {
     "name": "stderr",
     "output_type": "stream",
     "text": [
      "100%|██████████| 106/106 [00:10<00:00, 10.07it/s]\n",
      "100%|██████████| 18/18 [00:00<00:00, 43.10it/s]\n",
      "100%|██████████| 53/53 [00:01<00:00, 43.06it/s]\n"
     ]
    },
    {
     "name": "stdout",
     "output_type": "stream",
     "text": [
      "Epoch:508/1000.. Train Loss: 0.151.. Val Loss: 0.223.. Test Loss: 0.206.. Time: 0.20m\n"
     ]
    },
    {
     "name": "stderr",
     "output_type": "stream",
     "text": [
      "100%|██████████| 106/106 [00:10<00:00, 10.12it/s]\n",
      "100%|██████████| 18/18 [00:00<00:00, 42.64it/s]\n",
      "100%|██████████| 53/53 [00:01<00:00, 42.74it/s]\n"
     ]
    },
    {
     "name": "stdout",
     "output_type": "stream",
     "text": [
      "Epoch:509/1000.. Train Loss: 0.151.. Val Loss: 0.224.. Test Loss: 0.205.. Time: 0.20m\n"
     ]
    },
    {
     "name": "stderr",
     "output_type": "stream",
     "text": [
      "100%|██████████| 106/106 [00:10<00:00,  9.72it/s]\n",
      "100%|██████████| 18/18 [00:00<00:00, 43.08it/s]\n",
      "100%|██████████| 53/53 [00:01<00:00, 43.32it/s]\n"
     ]
    },
    {
     "name": "stdout",
     "output_type": "stream",
     "text": [
      "Epoch:510/1000.. Train Loss: 0.152.. Val Loss: 0.228.. Test Loss: 0.205.. Time: 0.21m\n"
     ]
    },
    {
     "name": "stderr",
     "output_type": "stream",
     "text": [
      "100%|██████████| 106/106 [00:12<00:00,  8.73it/s]\n",
      "100%|██████████| 18/18 [00:00<00:00, 43.15it/s]\n",
      "100%|██████████| 53/53 [00:01<00:00, 43.26it/s]\n"
     ]
    },
    {
     "name": "stdout",
     "output_type": "stream",
     "text": [
      "Epoch:511/1000.. Train Loss: 0.150.. Val Loss: 0.225.. Test Loss: 0.206.. Time: 0.23m\n"
     ]
    },
    {
     "name": "stderr",
     "output_type": "stream",
     "text": [
      "100%|██████████| 106/106 [00:12<00:00,  8.67it/s]\n",
      "100%|██████████| 18/18 [00:00<00:00, 43.25it/s]\n",
      "100%|██████████| 53/53 [00:01<00:00, 42.99it/s]\n"
     ]
    },
    {
     "name": "stdout",
     "output_type": "stream",
     "text": [
      "Epoch:512/1000.. Train Loss: 0.150.. Val Loss: 0.226.. Test Loss: 0.205.. Time: 0.23m\n"
     ]
    },
    {
     "name": "stderr",
     "output_type": "stream",
     "text": [
      "100%|██████████| 106/106 [00:12<00:00,  8.53it/s]\n",
      "100%|██████████| 18/18 [00:00<00:00, 43.20it/s]\n",
      "100%|██████████| 53/53 [00:01<00:00, 43.20it/s]\n"
     ]
    },
    {
     "name": "stdout",
     "output_type": "stream",
     "text": [
      "Epoch:513/1000.. Train Loss: 0.149.. Val Loss: 0.227.. Test Loss: 0.205.. Time: 0.24m\n"
     ]
    },
    {
     "name": "stderr",
     "output_type": "stream",
     "text": [
      "100%|██████████| 106/106 [00:12<00:00,  8.67it/s]\n",
      "100%|██████████| 18/18 [00:00<00:00, 43.27it/s]\n",
      "100%|██████████| 53/53 [00:01<00:00, 42.67it/s]\n"
     ]
    },
    {
     "name": "stdout",
     "output_type": "stream",
     "text": [
      "Epoch:514/1000.. Train Loss: 0.151.. Val Loss: 0.225.. Test Loss: 0.205.. Time: 0.23m\n"
     ]
    },
    {
     "name": "stderr",
     "output_type": "stream",
     "text": [
      "100%|██████████| 106/106 [00:12<00:00,  8.68it/s]\n",
      "100%|██████████| 18/18 [00:00<00:00, 42.77it/s]\n",
      "100%|██████████| 53/53 [00:01<00:00, 42.64it/s]\n"
     ]
    },
    {
     "name": "stdout",
     "output_type": "stream",
     "text": [
      "Epoch:515/1000.. Train Loss: 0.151.. Val Loss: 0.225.. Test Loss: 0.205.. Time: 0.23m\n"
     ]
    },
    {
     "name": "stderr",
     "output_type": "stream",
     "text": [
      "100%|██████████| 106/106 [00:12<00:00,  8.52it/s]\n",
      "100%|██████████| 18/18 [00:00<00:00, 43.25it/s]\n",
      "100%|██████████| 53/53 [00:01<00:00, 41.38it/s]\n"
     ]
    },
    {
     "name": "stdout",
     "output_type": "stream",
     "text": [
      "Epoch:516/1000.. Train Loss: 0.150.. Val Loss: 0.232.. Test Loss: 0.205.. Time: 0.24m\n"
     ]
    },
    {
     "name": "stderr",
     "output_type": "stream",
     "text": [
      "100%|██████████| 106/106 [00:12<00:00,  8.71it/s]\n",
      "100%|██████████| 18/18 [00:00<00:00, 42.78it/s]\n",
      "100%|██████████| 53/53 [00:01<00:00, 42.60it/s]\n"
     ]
    },
    {
     "name": "stdout",
     "output_type": "stream",
     "text": [
      "Epoch:517/1000.. Train Loss: 0.150.. Val Loss: 0.227.. Test Loss: 0.205.. Time: 0.23m\n"
     ]
    },
    {
     "name": "stderr",
     "output_type": "stream",
     "text": [
      "100%|██████████| 106/106 [00:11<00:00,  8.86it/s]\n",
      "100%|██████████| 18/18 [00:00<00:00, 42.64it/s]\n",
      "100%|██████████| 53/53 [00:01<00:00, 41.64it/s]\n"
     ]
    },
    {
     "name": "stdout",
     "output_type": "stream",
     "text": [
      "Epoch:518/1000.. Train Loss: 0.151.. Val Loss: 0.225.. Test Loss: 0.205.. Time: 0.23m\n"
     ]
    },
    {
     "name": "stderr",
     "output_type": "stream",
     "text": [
      "100%|██████████| 106/106 [00:12<00:00,  8.18it/s]\n",
      "100%|██████████| 18/18 [00:00<00:00, 40.61it/s]\n",
      "100%|██████████| 53/53 [00:01<00:00, 43.01it/s]\n"
     ]
    },
    {
     "name": "stdout",
     "output_type": "stream",
     "text": [
      "Epoch:519/1000.. Train Loss: 0.151.. Val Loss: 0.226.. Test Loss: 0.205.. Time: 0.24m\n"
     ]
    },
    {
     "name": "stderr",
     "output_type": "stream",
     "text": [
      "100%|██████████| 106/106 [00:12<00:00,  8.76it/s]\n",
      "100%|██████████| 18/18 [00:00<00:00, 43.17it/s]\n",
      "100%|██████████| 53/53 [00:01<00:00, 42.81it/s]\n"
     ]
    },
    {
     "name": "stdout",
     "output_type": "stream",
     "text": [
      "Epoch:520/1000.. Train Loss: 0.149.. Val Loss: 0.225.. Test Loss: 0.205.. Time: 0.23m\n"
     ]
    },
    {
     "name": "stderr",
     "output_type": "stream",
     "text": [
      "100%|██████████| 106/106 [00:12<00:00,  8.72it/s]\n",
      "100%|██████████| 18/18 [00:00<00:00, 42.92it/s]\n",
      "100%|██████████| 53/53 [00:01<00:00, 42.74it/s]\n"
     ]
    },
    {
     "name": "stdout",
     "output_type": "stream",
     "text": [
      "Epoch:521/1000.. Train Loss: 0.151.. Val Loss: 0.227.. Test Loss: 0.205.. Time: 0.23m\n"
     ]
    },
    {
     "name": "stderr",
     "output_type": "stream",
     "text": [
      "100%|██████████| 106/106 [00:11<00:00,  8.94it/s]\n",
      "100%|██████████| 18/18 [00:00<00:00, 42.70it/s]\n",
      "100%|██████████| 53/53 [00:01<00:00, 42.85it/s]\n"
     ]
    },
    {
     "name": "stdout",
     "output_type": "stream",
     "text": [
      "Epoch:522/1000.. Train Loss: 0.149.. Val Loss: 0.224.. Test Loss: 0.205.. Time: 0.23m\n"
     ]
    },
    {
     "name": "stderr",
     "output_type": "stream",
     "text": [
      "100%|██████████| 106/106 [00:11<00:00,  8.89it/s]\n",
      "100%|██████████| 18/18 [00:00<00:00, 42.89it/s]\n",
      "100%|██████████| 53/53 [00:01<00:00, 42.97it/s]\n"
     ]
    },
    {
     "name": "stdout",
     "output_type": "stream",
     "text": [
      "Epoch:523/1000.. Train Loss: 0.151.. Val Loss: 0.225.. Test Loss: 0.205.. Time: 0.23m\n"
     ]
    },
    {
     "name": "stderr",
     "output_type": "stream",
     "text": [
      "100%|██████████| 106/106 [00:12<00:00,  8.73it/s]\n",
      "100%|██████████| 18/18 [00:00<00:00, 42.25it/s]\n",
      "100%|██████████| 53/53 [00:01<00:00, 42.99it/s]\n"
     ]
    },
    {
     "name": "stdout",
     "output_type": "stream",
     "text": [
      "Epoch:524/1000.. Train Loss: 0.151.. Val Loss: 0.227.. Test Loss: 0.205.. Time: 0.23m\n"
     ]
    },
    {
     "name": "stderr",
     "output_type": "stream",
     "text": [
      "100%|██████████| 106/106 [00:12<00:00,  8.52it/s]\n",
      "100%|██████████| 18/18 [00:00<00:00, 42.13it/s]\n",
      "100%|██████████| 53/53 [00:01<00:00, 42.14it/s]\n"
     ]
    },
    {
     "name": "stdout",
     "output_type": "stream",
     "text": [
      "Epoch:525/1000.. Train Loss: 0.149.. Val Loss: 0.225.. Test Loss: 0.204.. Time: 0.24m\n"
     ]
    },
    {
     "name": "stderr",
     "output_type": "stream",
     "text": [
      "100%|██████████| 106/106 [00:12<00:00,  8.48it/s]\n",
      "100%|██████████| 18/18 [00:00<00:00, 42.72it/s]\n",
      "100%|██████████| 53/53 [00:01<00:00, 42.77it/s]\n"
     ]
    },
    {
     "name": "stdout",
     "output_type": "stream",
     "text": [
      "Epoch:526/1000.. Train Loss: 0.149.. Val Loss: 0.225.. Test Loss: 0.204.. Time: 0.24m\n"
     ]
    },
    {
     "name": "stderr",
     "output_type": "stream",
     "text": [
      "100%|██████████| 106/106 [00:12<00:00,  8.82it/s]\n",
      "100%|██████████| 18/18 [00:00<00:00, 41.05it/s]\n",
      "100%|██████████| 53/53 [00:01<00:00, 41.76it/s]\n"
     ]
    },
    {
     "name": "stdout",
     "output_type": "stream",
     "text": [
      "Epoch:527/1000.. Train Loss: 0.151.. Val Loss: 0.232.. Test Loss: 0.205.. Time: 0.23m\n"
     ]
    },
    {
     "name": "stderr",
     "output_type": "stream",
     "text": [
      "100%|██████████| 106/106 [00:11<00:00,  8.84it/s]\n",
      "100%|██████████| 18/18 [00:00<00:00, 42.85it/s]\n",
      "100%|██████████| 53/53 [00:01<00:00, 42.65it/s]\n"
     ]
    },
    {
     "name": "stdout",
     "output_type": "stream",
     "text": [
      "Epoch:528/1000.. Train Loss: 0.152.. Val Loss: 0.225.. Test Loss: 0.205.. Time: 0.23m\n"
     ]
    },
    {
     "name": "stderr",
     "output_type": "stream",
     "text": [
      "100%|██████████| 106/106 [00:12<00:00,  8.36it/s]\n",
      "100%|██████████| 18/18 [00:00<00:00, 43.14it/s]\n",
      "100%|██████████| 53/53 [00:01<00:00, 43.27it/s]\n"
     ]
    },
    {
     "name": "stdout",
     "output_type": "stream",
     "text": [
      "Epoch:529/1000.. Train Loss: 0.150.. Val Loss: 0.232.. Test Loss: 0.205.. Time: 0.24m\n"
     ]
    },
    {
     "name": "stderr",
     "output_type": "stream",
     "text": [
      "100%|██████████| 106/106 [00:12<00:00,  8.69it/s]\n",
      "100%|██████████| 18/18 [00:00<00:00, 42.57it/s]\n",
      "100%|██████████| 53/53 [00:01<00:00, 42.61it/s]\n"
     ]
    },
    {
     "name": "stdout",
     "output_type": "stream",
     "text": [
      "Epoch:530/1000.. Train Loss: 0.150.. Val Loss: 0.227.. Test Loss: 0.205.. Time: 0.23m\n"
     ]
    },
    {
     "name": "stderr",
     "output_type": "stream",
     "text": [
      "100%|██████████| 106/106 [00:12<00:00,  8.70it/s]\n",
      "100%|██████████| 18/18 [00:00<00:00, 42.60it/s]\n",
      "100%|██████████| 53/53 [00:01<00:00, 42.57it/s]\n"
     ]
    },
    {
     "name": "stdout",
     "output_type": "stream",
     "text": [
      "Epoch:531/1000.. Train Loss: 0.150.. Val Loss: 0.230.. Test Loss: 0.205.. Time: 0.23m\n"
     ]
    },
    {
     "name": "stderr",
     "output_type": "stream",
     "text": [
      "100%|██████████| 106/106 [00:10<00:00, 10.00it/s]\n",
      "100%|██████████| 18/18 [00:00<00:00, 42.91it/s]\n",
      "100%|██████████| 53/53 [00:01<00:00, 42.71it/s]\n"
     ]
    },
    {
     "name": "stdout",
     "output_type": "stream",
     "text": [
      "Epoch:532/1000.. Train Loss: 0.149.. Val Loss: 0.232.. Test Loss: 0.206.. Time: 0.21m\n"
     ]
    },
    {
     "name": "stderr",
     "output_type": "stream",
     "text": [
      "100%|██████████| 106/106 [00:10<00:00, 10.09it/s]\n",
      "100%|██████████| 18/18 [00:00<00:00, 42.41it/s]\n",
      "100%|██████████| 53/53 [00:01<00:00, 41.82it/s]\n"
     ]
    },
    {
     "name": "stdout",
     "output_type": "stream",
     "text": [
      "Epoch:533/1000.. Train Loss: 0.149.. Val Loss: 0.227.. Test Loss: 0.204.. Time: 0.20m\n"
     ]
    },
    {
     "name": "stderr",
     "output_type": "stream",
     "text": [
      "100%|██████████| 106/106 [00:12<00:00,  8.55it/s]\n",
      "100%|██████████| 18/18 [00:00<00:00, 42.25it/s]\n",
      "100%|██████████| 53/53 [00:01<00:00, 42.11it/s]\n"
     ]
    },
    {
     "name": "stdout",
     "output_type": "stream",
     "text": [
      "Epoch:534/1000.. Train Loss: 0.151.. Val Loss: 0.226.. Test Loss: 0.205.. Time: 0.24m\n"
     ]
    },
    {
     "name": "stderr",
     "output_type": "stream",
     "text": [
      "100%|██████████| 106/106 [00:12<00:00,  8.79it/s]\n",
      "100%|██████████| 18/18 [00:00<00:00, 40.83it/s]\n",
      "100%|██████████| 53/53 [00:01<00:00, 42.03it/s]\n"
     ]
    },
    {
     "name": "stdout",
     "output_type": "stream",
     "text": [
      "Epoch:535/1000.. Train Loss: 0.151.. Val Loss: 0.224.. Test Loss: 0.204.. Time: 0.23m\n"
     ]
    },
    {
     "name": "stderr",
     "output_type": "stream",
     "text": [
      "100%|██████████| 106/106 [00:12<00:00,  8.27it/s]\n",
      "100%|██████████| 18/18 [00:00<00:00, 40.46it/s]\n",
      "100%|██████████| 53/53 [00:01<00:00, 41.30it/s]\n"
     ]
    },
    {
     "name": "stdout",
     "output_type": "stream",
     "text": [
      "Epoch:536/1000.. Train Loss: 0.151.. Val Loss: 0.225.. Test Loss: 0.206.. Time: 0.24m\n"
     ]
    },
    {
     "name": "stderr",
     "output_type": "stream",
     "text": [
      "100%|██████████| 106/106 [00:12<00:00,  8.37it/s]\n",
      "100%|██████████| 18/18 [00:00<00:00, 43.02it/s]\n",
      "100%|██████████| 53/53 [00:01<00:00, 42.43it/s]\n"
     ]
    },
    {
     "name": "stdout",
     "output_type": "stream",
     "text": [
      "Epoch:537/1000.. Train Loss: 0.149.. Val Loss: 0.231.. Test Loss: 0.206.. Time: 0.24m\n"
     ]
    },
    {
     "name": "stderr",
     "output_type": "stream",
     "text": [
      "100%|██████████| 106/106 [00:12<00:00,  8.73it/s]\n",
      "100%|██████████| 18/18 [00:00<00:00, 42.49it/s]\n",
      "100%|██████████| 53/53 [00:01<00:00, 42.25it/s]\n"
     ]
    },
    {
     "name": "stdout",
     "output_type": "stream",
     "text": [
      "Epoch:538/1000.. Train Loss: 0.151.. Val Loss: 0.230.. Test Loss: 0.205.. Time: 0.23m\n"
     ]
    },
    {
     "name": "stderr",
     "output_type": "stream",
     "text": [
      "100%|██████████| 106/106 [00:12<00:00,  8.75it/s]\n",
      "100%|██████████| 18/18 [00:00<00:00, 42.29it/s]\n",
      "100%|██████████| 53/53 [00:01<00:00, 42.57it/s]\n"
     ]
    },
    {
     "name": "stdout",
     "output_type": "stream",
     "text": [
      "Epoch:539/1000.. Train Loss: 0.150.. Val Loss: 0.227.. Test Loss: 0.205.. Time: 0.23m\n"
     ]
    },
    {
     "name": "stderr",
     "output_type": "stream",
     "text": [
      "100%|██████████| 106/106 [00:12<00:00,  8.68it/s]\n",
      "100%|██████████| 18/18 [00:00<00:00, 42.53it/s]\n",
      "100%|██████████| 53/53 [00:01<00:00, 43.17it/s]\n"
     ]
    },
    {
     "name": "stdout",
     "output_type": "stream",
     "text": [
      "Epoch:540/1000.. Train Loss: 0.149.. Val Loss: 0.232.. Test Loss: 0.205.. Time: 0.23m\n"
     ]
    },
    {
     "name": "stderr",
     "output_type": "stream",
     "text": [
      "100%|██████████| 106/106 [00:12<00:00,  8.73it/s]\n",
      "100%|██████████| 18/18 [00:00<00:00, 39.91it/s]\n",
      "100%|██████████| 53/53 [00:01<00:00, 42.55it/s]\n"
     ]
    },
    {
     "name": "stdout",
     "output_type": "stream",
     "text": [
      "Epoch:541/1000.. Train Loss: 0.149.. Val Loss: 0.229.. Test Loss: 0.205.. Time: 0.23m\n"
     ]
    },
    {
     "name": "stderr",
     "output_type": "stream",
     "text": [
      "100%|██████████| 106/106 [00:12<00:00,  8.49it/s]\n",
      "100%|██████████| 18/18 [00:00<00:00, 39.87it/s]\n",
      "100%|██████████| 53/53 [00:01<00:00, 42.17it/s]\n"
     ]
    },
    {
     "name": "stdout",
     "output_type": "stream",
     "text": [
      "Epoch:542/1000.. Train Loss: 0.150.. Val Loss: 0.232.. Test Loss: 0.206.. Time: 0.24m\n"
     ]
    },
    {
     "name": "stderr",
     "output_type": "stream",
     "text": [
      "100%|██████████| 106/106 [00:12<00:00,  8.56it/s]\n",
      "100%|██████████| 18/18 [00:00<00:00, 42.81it/s]\n",
      "100%|██████████| 53/53 [00:01<00:00, 42.73it/s]\n"
     ]
    },
    {
     "name": "stdout",
     "output_type": "stream",
     "text": [
      "Epoch:543/1000.. Train Loss: 0.149.. Val Loss: 0.226.. Test Loss: 0.205.. Time: 0.24m\n"
     ]
    },
    {
     "name": "stderr",
     "output_type": "stream",
     "text": [
      "100%|██████████| 106/106 [00:12<00:00,  8.55it/s]\n",
      "100%|██████████| 18/18 [00:00<00:00, 43.13it/s]\n",
      "100%|██████████| 53/53 [00:01<00:00, 41.91it/s]\n"
     ]
    },
    {
     "name": "stdout",
     "output_type": "stream",
     "text": [
      "Epoch:544/1000.. Train Loss: 0.151.. Val Loss: 0.225.. Test Loss: 0.204.. Time: 0.24m\n"
     ]
    },
    {
     "name": "stderr",
     "output_type": "stream",
     "text": [
      "100%|██████████| 106/106 [00:12<00:00,  8.58it/s]\n",
      "100%|██████████| 18/18 [00:00<00:00, 42.76it/s]\n",
      "100%|██████████| 53/53 [00:01<00:00, 42.48it/s]\n"
     ]
    },
    {
     "name": "stdout",
     "output_type": "stream",
     "text": [
      "Epoch:545/1000.. Train Loss: 0.150.. Val Loss: 0.223.. Test Loss: 0.205.. Time: 0.23m\n"
     ]
    },
    {
     "name": "stderr",
     "output_type": "stream",
     "text": [
      "100%|██████████| 106/106 [00:12<00:00,  8.62it/s]\n",
      "100%|██████████| 18/18 [00:00<00:00, 42.75it/s]\n",
      "100%|██████████| 53/53 [00:01<00:00, 42.65it/s]\n"
     ]
    },
    {
     "name": "stdout",
     "output_type": "stream",
     "text": [
      "Epoch:546/1000.. Train Loss: 0.149.. Val Loss: 0.225.. Test Loss: 0.207.. Time: 0.23m\n"
     ]
    },
    {
     "name": "stderr",
     "output_type": "stream",
     "text": [
      "100%|██████████| 106/106 [00:11<00:00,  8.84it/s]\n",
      "100%|██████████| 18/18 [00:00<00:00, 43.41it/s]\n",
      "100%|██████████| 53/53 [00:01<00:00, 42.66it/s]\n"
     ]
    },
    {
     "name": "stdout",
     "output_type": "stream",
     "text": [
      "Epoch:547/1000.. Train Loss: 0.151.. Val Loss: 0.231.. Test Loss: 0.205.. Time: 0.23m\n"
     ]
    },
    {
     "name": "stderr",
     "output_type": "stream",
     "text": [
      "100%|██████████| 106/106 [00:12<00:00,  8.68it/s]\n",
      "100%|██████████| 18/18 [00:00<00:00, 41.70it/s]\n",
      "100%|██████████| 53/53 [00:01<00:00, 41.64it/s]\n"
     ]
    },
    {
     "name": "stdout",
     "output_type": "stream",
     "text": [
      "Epoch:548/1000.. Train Loss: 0.150.. Val Loss: 0.226.. Test Loss: 0.206.. Time: 0.23m\n"
     ]
    },
    {
     "name": "stderr",
     "output_type": "stream",
     "text": [
      "100%|██████████| 106/106 [00:12<00:00,  8.54it/s]\n",
      "100%|██████████| 18/18 [00:00<00:00, 42.51it/s]\n",
      "100%|██████████| 53/53 [00:01<00:00, 42.55it/s]\n"
     ]
    },
    {
     "name": "stdout",
     "output_type": "stream",
     "text": [
      "Epoch:549/1000.. Train Loss: 0.149.. Val Loss: 0.230.. Test Loss: 0.205.. Time: 0.24m\n"
     ]
    },
    {
     "name": "stderr",
     "output_type": "stream",
     "text": [
      "100%|██████████| 106/106 [00:12<00:00,  8.67it/s]\n",
      "100%|██████████| 18/18 [00:00<00:00, 41.50it/s]\n",
      "100%|██████████| 53/53 [00:01<00:00, 41.18it/s]\n"
     ]
    },
    {
     "name": "stdout",
     "output_type": "stream",
     "text": [
      "Epoch:550/1000.. Train Loss: 0.149.. Val Loss: 0.228.. Test Loss: 0.205.. Time: 0.23m\n"
     ]
    },
    {
     "name": "stderr",
     "output_type": "stream",
     "text": [
      "100%|██████████| 106/106 [00:12<00:00,  8.19it/s]\n",
      "100%|██████████| 18/18 [00:00<00:00, 43.05it/s]\n",
      "100%|██████████| 53/53 [00:01<00:00, 43.04it/s]\n"
     ]
    },
    {
     "name": "stdout",
     "output_type": "stream",
     "text": [
      "Epoch:551/1000.. Train Loss: 0.150.. Val Loss: 0.223.. Test Loss: 0.204.. Time: 0.24m\n"
     ]
    },
    {
     "name": "stderr",
     "output_type": "stream",
     "text": [
      "100%|██████████| 106/106 [00:12<00:00,  8.66it/s]\n",
      "100%|██████████| 18/18 [00:00<00:00, 42.73it/s]\n",
      "100%|██████████| 53/53 [00:01<00:00, 42.82it/s]\n"
     ]
    },
    {
     "name": "stdout",
     "output_type": "stream",
     "text": [
      "Epoch:552/1000.. Train Loss: 0.149.. Val Loss: 0.226.. Test Loss: 0.205.. Time: 0.23m\n"
     ]
    },
    {
     "name": "stderr",
     "output_type": "stream",
     "text": [
      "100%|██████████| 106/106 [00:12<00:00,  8.58it/s]\n",
      "100%|██████████| 18/18 [00:00<00:00, 42.72it/s]\n",
      "100%|██████████| 53/53 [00:01<00:00, 42.89it/s]\n"
     ]
    },
    {
     "name": "stdout",
     "output_type": "stream",
     "text": [
      "Epoch:553/1000.. Train Loss: 0.150.. Val Loss: 0.226.. Test Loss: 0.205.. Time: 0.23m\n"
     ]
    },
    {
     "name": "stderr",
     "output_type": "stream",
     "text": [
      "100%|██████████| 106/106 [00:12<00:00,  8.79it/s]\n",
      "100%|██████████| 18/18 [00:00<00:00, 43.00it/s]\n",
      "100%|██████████| 53/53 [00:01<00:00, 42.94it/s]\n"
     ]
    },
    {
     "name": "stdout",
     "output_type": "stream",
     "text": [
      "Epoch:554/1000.. Train Loss: 0.149.. Val Loss: 0.226.. Test Loss: 0.205.. Time: 0.23m\n"
     ]
    },
    {
     "name": "stderr",
     "output_type": "stream",
     "text": [
      "100%|██████████| 106/106 [00:12<00:00,  8.74it/s]\n",
      "100%|██████████| 18/18 [00:00<00:00, 42.92it/s]\n",
      "100%|██████████| 53/53 [00:01<00:00, 42.96it/s]\n"
     ]
    },
    {
     "name": "stdout",
     "output_type": "stream",
     "text": [
      "Epoch:555/1000.. Train Loss: 0.150.. Val Loss: 0.232.. Test Loss: 0.205.. Time: 0.23m\n"
     ]
    },
    {
     "name": "stderr",
     "output_type": "stream",
     "text": [
      "100%|██████████| 106/106 [00:12<00:00,  8.69it/s]\n",
      "100%|██████████| 18/18 [00:00<00:00, 42.03it/s]\n",
      "100%|██████████| 53/53 [00:01<00:00, 42.08it/s]\n"
     ]
    },
    {
     "name": "stdout",
     "output_type": "stream",
     "text": [
      "Epoch:556/1000.. Train Loss: 0.150.. Val Loss: 0.232.. Test Loss: 0.205.. Time: 0.23m\n"
     ]
    },
    {
     "name": "stderr",
     "output_type": "stream",
     "text": [
      "100%|██████████| 106/106 [00:12<00:00,  8.70it/s]\n",
      "100%|██████████| 18/18 [00:00<00:00, 42.49it/s]\n",
      "100%|██████████| 53/53 [00:01<00:00, 42.17it/s]\n"
     ]
    },
    {
     "name": "stdout",
     "output_type": "stream",
     "text": [
      "Epoch:557/1000.. Train Loss: 0.150.. Val Loss: 0.227.. Test Loss: 0.206.. Time: 0.23m\n"
     ]
    },
    {
     "name": "stderr",
     "output_type": "stream",
     "text": [
      "100%|██████████| 106/106 [00:12<00:00,  8.73it/s]\n",
      "100%|██████████| 18/18 [00:00<00:00, 42.72it/s]\n",
      "100%|██████████| 53/53 [00:01<00:00, 42.75it/s]\n"
     ]
    },
    {
     "name": "stdout",
     "output_type": "stream",
     "text": [
      "Epoch:558/1000.. Train Loss: 0.151.. Val Loss: 0.231.. Test Loss: 0.205.. Time: 0.23m\n"
     ]
    },
    {
     "name": "stderr",
     "output_type": "stream",
     "text": [
      "100%|██████████| 106/106 [00:12<00:00,  8.60it/s]\n",
      "100%|██████████| 18/18 [00:00<00:00, 42.60it/s]\n",
      "100%|██████████| 53/53 [00:01<00:00, 42.40it/s]\n"
     ]
    },
    {
     "name": "stdout",
     "output_type": "stream",
     "text": [
      "Epoch:559/1000.. Train Loss: 0.151.. Val Loss: 0.225.. Test Loss: 0.204.. Time: 0.23m\n"
     ]
    },
    {
     "name": "stderr",
     "output_type": "stream",
     "text": [
      "100%|██████████| 106/106 [00:12<00:00,  8.69it/s]\n",
      "100%|██████████| 18/18 [00:00<00:00, 42.80it/s]\n",
      "100%|██████████| 53/53 [00:01<00:00, 42.64it/s]\n"
     ]
    },
    {
     "name": "stdout",
     "output_type": "stream",
     "text": [
      "Epoch:560/1000.. Train Loss: 0.150.. Val Loss: 0.226.. Test Loss: 0.206.. Time: 0.23m\n"
     ]
    },
    {
     "name": "stderr",
     "output_type": "stream",
     "text": [
      "100%|██████████| 106/106 [00:12<00:00,  8.79it/s]\n",
      "100%|██████████| 18/18 [00:00<00:00, 42.69it/s]\n",
      "100%|██████████| 53/53 [00:01<00:00, 42.71it/s]\n"
     ]
    },
    {
     "name": "stdout",
     "output_type": "stream",
     "text": [
      "Epoch:561/1000.. Train Loss: 0.149.. Val Loss: 0.225.. Test Loss: 0.204.. Time: 0.23m\n"
     ]
    },
    {
     "name": "stderr",
     "output_type": "stream",
     "text": [
      "100%|██████████| 106/106 [00:12<00:00,  8.59it/s]\n",
      "100%|██████████| 18/18 [00:00<00:00, 41.82it/s]\n",
      "100%|██████████| 53/53 [00:01<00:00, 42.73it/s]\n"
     ]
    },
    {
     "name": "stdout",
     "output_type": "stream",
     "text": [
      "Epoch:562/1000.. Train Loss: 0.151.. Val Loss: 0.225.. Test Loss: 0.204.. Time: 0.23m\n"
     ]
    },
    {
     "name": "stderr",
     "output_type": "stream",
     "text": [
      "100%|██████████| 106/106 [00:12<00:00,  8.50it/s]\n",
      "100%|██████████| 18/18 [00:00<00:00, 42.84it/s]\n",
      "100%|██████████| 53/53 [00:01<00:00, 42.92it/s]\n"
     ]
    },
    {
     "name": "stdout",
     "output_type": "stream",
     "text": [
      "Epoch:563/1000.. Train Loss: 0.149.. Val Loss: 0.225.. Test Loss: 0.205.. Time: 0.24m\n"
     ]
    },
    {
     "name": "stderr",
     "output_type": "stream",
     "text": [
      "100%|██████████| 106/106 [00:11<00:00,  8.91it/s]\n",
      "100%|██████████| 18/18 [00:00<00:00, 42.92it/s]\n",
      "100%|██████████| 53/53 [00:01<00:00, 42.93it/s]\n"
     ]
    },
    {
     "name": "stdout",
     "output_type": "stream",
     "text": [
      "Epoch:564/1000.. Train Loss: 0.151.. Val Loss: 0.226.. Test Loss: 0.206.. Time: 0.23m\n"
     ]
    },
    {
     "name": "stderr",
     "output_type": "stream",
     "text": [
      "100%|██████████| 106/106 [00:12<00:00,  8.32it/s]\n",
      "100%|██████████| 18/18 [00:00<00:00, 43.19it/s]\n",
      "100%|██████████| 53/53 [00:01<00:00, 43.54it/s]\n"
     ]
    },
    {
     "name": "stdout",
     "output_type": "stream",
     "text": [
      "Epoch:565/1000.. Train Loss: 0.150.. Val Loss: 0.225.. Test Loss: 0.204.. Time: 0.24m\n"
     ]
    },
    {
     "name": "stderr",
     "output_type": "stream",
     "text": [
      "100%|██████████| 106/106 [00:12<00:00,  8.71it/s]\n",
      "100%|██████████| 18/18 [00:00<00:00, 42.81it/s]\n",
      "100%|██████████| 53/53 [00:01<00:00, 43.04it/s]\n"
     ]
    },
    {
     "name": "stdout",
     "output_type": "stream",
     "text": [
      "Epoch:566/1000.. Train Loss: 0.149.. Val Loss: 0.225.. Test Loss: 0.205.. Time: 0.23m\n"
     ]
    },
    {
     "name": "stderr",
     "output_type": "stream",
     "text": [
      "100%|██████████| 106/106 [00:12<00:00,  8.78it/s]\n",
      "100%|██████████| 18/18 [00:00<00:00, 42.99it/s]\n",
      "100%|██████████| 53/53 [00:01<00:00, 43.04it/s]\n"
     ]
    },
    {
     "name": "stdout",
     "output_type": "stream",
     "text": [
      "Epoch:567/1000.. Train Loss: 0.150.. Val Loss: 0.223.. Test Loss: 0.205.. Time: 0.23m\n"
     ]
    },
    {
     "name": "stderr",
     "output_type": "stream",
     "text": [
      "100%|██████████| 106/106 [00:12<00:00,  8.80it/s]\n",
      "100%|██████████| 18/18 [00:00<00:00, 42.70it/s]\n",
      "100%|██████████| 53/53 [00:01<00:00, 42.82it/s]\n"
     ]
    },
    {
     "name": "stdout",
     "output_type": "stream",
     "text": [
      "Epoch:568/1000.. Train Loss: 0.150.. Val Loss: 0.225.. Test Loss: 0.205.. Time: 0.23m\n"
     ]
    },
    {
     "name": "stderr",
     "output_type": "stream",
     "text": [
      "100%|██████████| 106/106 [00:12<00:00,  8.60it/s]\n",
      "100%|██████████| 18/18 [00:00<00:00, 42.74it/s]\n",
      "100%|██████████| 53/53 [00:01<00:00, 42.77it/s]\n"
     ]
    },
    {
     "name": "stdout",
     "output_type": "stream",
     "text": [
      "Epoch:569/1000.. Train Loss: 0.149.. Val Loss: 0.225.. Test Loss: 0.204.. Time: 0.23m\n"
     ]
    },
    {
     "name": "stderr",
     "output_type": "stream",
     "text": [
      "100%|██████████| 106/106 [00:12<00:00,  8.72it/s]\n",
      "100%|██████████| 18/18 [00:00<00:00, 42.68it/s]\n",
      "100%|██████████| 53/53 [00:01<00:00, 43.25it/s]\n"
     ]
    },
    {
     "name": "stdout",
     "output_type": "stream",
     "text": [
      "Epoch:570/1000.. Train Loss: 0.149.. Val Loss: 0.227.. Test Loss: 0.205.. Time: 0.23m\n"
     ]
    },
    {
     "name": "stderr",
     "output_type": "stream",
     "text": [
      "100%|██████████| 106/106 [00:12<00:00,  8.70it/s]\n",
      "100%|██████████| 18/18 [00:00<00:00, 43.26it/s]\n",
      "100%|██████████| 53/53 [00:01<00:00, 43.33it/s]\n"
     ]
    },
    {
     "name": "stdout",
     "output_type": "stream",
     "text": [
      "Epoch:571/1000.. Train Loss: 0.151.. Val Loss: 0.231.. Test Loss: 0.205.. Time: 0.23m\n"
     ]
    },
    {
     "name": "stderr",
     "output_type": "stream",
     "text": [
      "100%|██████████| 106/106 [00:12<00:00,  8.68it/s]\n",
      "100%|██████████| 18/18 [00:00<00:00, 43.21it/s]\n",
      "100%|██████████| 53/53 [00:01<00:00, 43.34it/s]\n"
     ]
    },
    {
     "name": "stdout",
     "output_type": "stream",
     "text": [
      "Epoch:572/1000.. Train Loss: 0.150.. Val Loss: 0.226.. Test Loss: 0.206.. Time: 0.23m\n"
     ]
    },
    {
     "name": "stderr",
     "output_type": "stream",
     "text": [
      "100%|██████████| 106/106 [00:12<00:00,  8.67it/s]\n",
      "100%|██████████| 18/18 [00:00<00:00, 42.78it/s]\n",
      "100%|██████████| 53/53 [00:01<00:00, 42.83it/s]\n"
     ]
    },
    {
     "name": "stdout",
     "output_type": "stream",
     "text": [
      "Epoch:573/1000.. Train Loss: 0.152.. Val Loss: 0.226.. Test Loss: 0.205.. Time: 0.23m\n"
     ]
    },
    {
     "name": "stderr",
     "output_type": "stream",
     "text": [
      "100%|██████████| 106/106 [00:11<00:00,  8.87it/s]\n",
      "100%|██████████| 18/18 [00:00<00:00, 42.61it/s]\n",
      "100%|██████████| 53/53 [00:01<00:00, 42.08it/s]\n"
     ]
    },
    {
     "name": "stdout",
     "output_type": "stream",
     "text": [
      "Epoch:574/1000.. Train Loss: 0.150.. Val Loss: 0.230.. Test Loss: 0.206.. Time: 0.23m\n"
     ]
    },
    {
     "name": "stderr",
     "output_type": "stream",
     "text": [
      "100%|██████████| 106/106 [00:12<00:00,  8.76it/s]\n",
      "100%|██████████| 18/18 [00:00<00:00, 43.39it/s]\n",
      "100%|██████████| 53/53 [00:01<00:00, 43.13it/s]\n"
     ]
    },
    {
     "name": "stdout",
     "output_type": "stream",
     "text": [
      "Epoch:575/1000.. Train Loss: 0.150.. Val Loss: 0.225.. Test Loss: 0.205.. Time: 0.23m\n"
     ]
    },
    {
     "name": "stderr",
     "output_type": "stream",
     "text": [
      "100%|██████████| 106/106 [00:12<00:00,  8.64it/s]\n",
      "100%|██████████| 18/18 [00:00<00:00, 42.91it/s]\n",
      "100%|██████████| 53/53 [00:01<00:00, 42.88it/s]\n"
     ]
    },
    {
     "name": "stdout",
     "output_type": "stream",
     "text": [
      "Epoch:576/1000.. Train Loss: 0.151.. Val Loss: 0.224.. Test Loss: 0.204.. Time: 0.23m\n"
     ]
    },
    {
     "name": "stderr",
     "output_type": "stream",
     "text": [
      "100%|██████████| 106/106 [00:12<00:00,  8.76it/s]\n",
      "100%|██████████| 18/18 [00:00<00:00, 42.67it/s]\n",
      "100%|██████████| 53/53 [00:01<00:00, 42.07it/s]\n"
     ]
    },
    {
     "name": "stdout",
     "output_type": "stream",
     "text": [
      "Epoch:577/1000.. Train Loss: 0.149.. Val Loss: 0.224.. Test Loss: 0.205.. Time: 0.23m\n"
     ]
    },
    {
     "name": "stderr",
     "output_type": "stream",
     "text": [
      "100%|██████████| 106/106 [00:12<00:00,  8.62it/s]\n",
      "100%|██████████| 18/18 [00:00<00:00, 42.75it/s]\n",
      "100%|██████████| 53/53 [00:01<00:00, 42.66it/s]\n"
     ]
    },
    {
     "name": "stdout",
     "output_type": "stream",
     "text": [
      "Epoch:578/1000.. Train Loss: 0.151.. Val Loss: 0.224.. Test Loss: 0.206.. Time: 0.23m\n"
     ]
    },
    {
     "name": "stderr",
     "output_type": "stream",
     "text": [
      "100%|██████████| 106/106 [00:12<00:00,  8.64it/s]\n",
      "100%|██████████| 18/18 [00:00<00:00, 42.05it/s]\n",
      "100%|██████████| 53/53 [00:01<00:00, 42.83it/s]\n"
     ]
    },
    {
     "name": "stdout",
     "output_type": "stream",
     "text": [
      "Epoch:579/1000.. Train Loss: 0.152.. Val Loss: 0.225.. Test Loss: 0.206.. Time: 0.23m\n"
     ]
    },
    {
     "name": "stderr",
     "output_type": "stream",
     "text": [
      "100%|██████████| 106/106 [00:12<00:00,  8.58it/s]\n",
      "100%|██████████| 18/18 [00:00<00:00, 42.05it/s]\n",
      "100%|██████████| 53/53 [00:01<00:00, 42.78it/s]\n"
     ]
    },
    {
     "name": "stdout",
     "output_type": "stream",
     "text": [
      "Epoch:580/1000.. Train Loss: 0.149.. Val Loss: 0.227.. Test Loss: 0.205.. Time: 0.23m\n"
     ]
    },
    {
     "name": "stderr",
     "output_type": "stream",
     "text": [
      "100%|██████████| 106/106 [00:12<00:00,  8.75it/s]\n",
      "100%|██████████| 18/18 [00:00<00:00, 42.68it/s]\n",
      "100%|██████████| 53/53 [00:01<00:00, 42.59it/s]\n"
     ]
    },
    {
     "name": "stdout",
     "output_type": "stream",
     "text": [
      "Epoch:581/1000.. Train Loss: 0.149.. Val Loss: 0.225.. Test Loss: 0.205.. Time: 0.23m\n"
     ]
    },
    {
     "name": "stderr",
     "output_type": "stream",
     "text": [
      "100%|██████████| 106/106 [00:12<00:00,  8.53it/s]\n",
      "100%|██████████| 18/18 [00:00<00:00, 42.77it/s]\n",
      "100%|██████████| 53/53 [00:01<00:00, 42.36it/s]\n"
     ]
    },
    {
     "name": "stdout",
     "output_type": "stream",
     "text": [
      "Epoch:582/1000.. Train Loss: 0.149.. Val Loss: 0.227.. Test Loss: 0.205.. Time: 0.24m\n"
     ]
    },
    {
     "name": "stderr",
     "output_type": "stream",
     "text": [
      "100%|██████████| 106/106 [00:12<00:00,  8.62it/s]\n",
      "100%|██████████| 18/18 [00:00<00:00, 42.90it/s]\n",
      "100%|██████████| 53/53 [00:01<00:00, 42.89it/s]\n"
     ]
    },
    {
     "name": "stdout",
     "output_type": "stream",
     "text": [
      "Epoch:583/1000.. Train Loss: 0.150.. Val Loss: 0.231.. Test Loss: 0.206.. Time: 0.23m\n"
     ]
    },
    {
     "name": "stderr",
     "output_type": "stream",
     "text": [
      "100%|██████████| 106/106 [00:12<00:00,  8.53it/s]\n",
      "100%|██████████| 18/18 [00:00<00:00, 41.49it/s]\n",
      "100%|██████████| 53/53 [00:01<00:00, 42.73it/s]\n"
     ]
    },
    {
     "name": "stdout",
     "output_type": "stream",
     "text": [
      "Epoch:584/1000.. Train Loss: 0.150.. Val Loss: 0.225.. Test Loss: 0.205.. Time: 0.24m\n"
     ]
    },
    {
     "name": "stderr",
     "output_type": "stream",
     "text": [
      "100%|██████████| 106/106 [00:12<00:00,  8.59it/s]\n",
      "100%|██████████| 18/18 [00:00<00:00, 41.59it/s]\n",
      "100%|██████████| 53/53 [00:01<00:00, 42.33it/s]\n"
     ]
    },
    {
     "name": "stdout",
     "output_type": "stream",
     "text": [
      "Epoch:585/1000.. Train Loss: 0.150.. Val Loss: 0.225.. Test Loss: 0.206.. Time: 0.23m\n"
     ]
    },
    {
     "name": "stderr",
     "output_type": "stream",
     "text": [
      "100%|██████████| 106/106 [00:12<00:00,  8.55it/s]\n",
      "100%|██████████| 18/18 [00:00<00:00, 42.79it/s]\n",
      "100%|██████████| 53/53 [00:01<00:00, 42.68it/s]\n"
     ]
    },
    {
     "name": "stdout",
     "output_type": "stream",
     "text": [
      "Epoch:586/1000.. Train Loss: 0.151.. Val Loss: 0.225.. Test Loss: 0.205.. Time: 0.24m\n"
     ]
    },
    {
     "name": "stderr",
     "output_type": "stream",
     "text": [
      "100%|██████████| 106/106 [00:12<00:00,  8.58it/s]\n",
      "100%|██████████| 18/18 [00:00<00:00, 41.05it/s]\n",
      "100%|██████████| 53/53 [00:01<00:00, 41.77it/s]\n"
     ]
    },
    {
     "name": "stdout",
     "output_type": "stream",
     "text": [
      "Epoch:587/1000.. Train Loss: 0.150.. Val Loss: 0.225.. Test Loss: 0.205.. Time: 0.24m\n"
     ]
    },
    {
     "name": "stderr",
     "output_type": "stream",
     "text": [
      "100%|██████████| 106/106 [00:12<00:00,  8.35it/s]\n",
      "100%|██████████| 18/18 [00:00<00:00, 42.39it/s]\n",
      "100%|██████████| 53/53 [00:01<00:00, 41.91it/s]\n"
     ]
    },
    {
     "name": "stdout",
     "output_type": "stream",
     "text": [
      "Epoch:588/1000.. Train Loss: 0.150.. Val Loss: 0.225.. Test Loss: 0.205.. Time: 0.24m\n"
     ]
    },
    {
     "name": "stderr",
     "output_type": "stream",
     "text": [
      "100%|██████████| 106/106 [00:12<00:00,  8.65it/s]\n",
      "100%|██████████| 18/18 [00:00<00:00, 42.73it/s]\n",
      "100%|██████████| 53/53 [00:01<00:00, 42.65it/s]\n"
     ]
    },
    {
     "name": "stdout",
     "output_type": "stream",
     "text": [
      "Epoch:589/1000.. Train Loss: 0.150.. Val Loss: 0.228.. Test Loss: 0.205.. Time: 0.23m\n"
     ]
    },
    {
     "name": "stderr",
     "output_type": "stream",
     "text": [
      "100%|██████████| 106/106 [00:11<00:00,  8.88it/s]\n",
      "100%|██████████| 18/18 [00:00<00:00, 42.63it/s]\n",
      "100%|██████████| 53/53 [00:01<00:00, 42.55it/s]\n"
     ]
    },
    {
     "name": "stdout",
     "output_type": "stream",
     "text": [
      "Epoch:590/1000.. Train Loss: 0.149.. Val Loss: 0.227.. Test Loss: 0.205.. Time: 0.23m\n"
     ]
    },
    {
     "name": "stderr",
     "output_type": "stream",
     "text": [
      "100%|██████████| 106/106 [00:12<00:00,  8.48it/s]\n",
      "100%|██████████| 18/18 [00:00<00:00, 41.32it/s]\n",
      "100%|██████████| 53/53 [00:01<00:00, 42.73it/s]\n"
     ]
    },
    {
     "name": "stdout",
     "output_type": "stream",
     "text": [
      "Epoch:591/1000.. Train Loss: 0.149.. Val Loss: 0.227.. Test Loss: 0.205.. Time: 0.24m\n"
     ]
    },
    {
     "name": "stderr",
     "output_type": "stream",
     "text": [
      "100%|██████████| 106/106 [00:12<00:00,  8.63it/s]\n",
      "100%|██████████| 18/18 [00:00<00:00, 42.69it/s]\n",
      "100%|██████████| 53/53 [00:01<00:00, 42.51it/s]\n"
     ]
    },
    {
     "name": "stdout",
     "output_type": "stream",
     "text": [
      "Epoch:592/1000.. Train Loss: 0.151.. Val Loss: 0.231.. Test Loss: 0.206.. Time: 0.23m\n"
     ]
    },
    {
     "name": "stderr",
     "output_type": "stream",
     "text": [
      "100%|██████████| 106/106 [00:12<00:00,  8.81it/s]\n",
      "100%|██████████| 18/18 [00:00<00:00, 42.19it/s]\n",
      "100%|██████████| 53/53 [00:01<00:00, 41.60it/s]\n"
     ]
    },
    {
     "name": "stdout",
     "output_type": "stream",
     "text": [
      "Epoch:593/1000.. Train Loss: 0.150.. Val Loss: 0.225.. Test Loss: 0.204.. Time: 0.23m\n"
     ]
    },
    {
     "name": "stderr",
     "output_type": "stream",
     "text": [
      "100%|██████████| 106/106 [00:12<00:00,  8.70it/s]\n",
      "100%|██████████| 18/18 [00:00<00:00, 42.30it/s]\n",
      "100%|██████████| 53/53 [00:01<00:00, 42.41it/s]\n"
     ]
    },
    {
     "name": "stdout",
     "output_type": "stream",
     "text": [
      "Epoch:594/1000.. Train Loss: 0.150.. Val Loss: 0.225.. Test Loss: 0.205.. Time: 0.23m\n"
     ]
    },
    {
     "name": "stderr",
     "output_type": "stream",
     "text": [
      "100%|██████████| 106/106 [00:12<00:00,  8.65it/s]\n",
      "100%|██████████| 18/18 [00:00<00:00, 42.11it/s]\n",
      "100%|██████████| 53/53 [00:01<00:00, 42.61it/s]\n"
     ]
    },
    {
     "name": "stdout",
     "output_type": "stream",
     "text": [
      "Epoch:595/1000.. Train Loss: 0.149.. Val Loss: 0.225.. Test Loss: 0.205.. Time: 0.23m\n"
     ]
    },
    {
     "name": "stderr",
     "output_type": "stream",
     "text": [
      "100%|██████████| 106/106 [00:12<00:00,  8.79it/s]\n",
      "100%|██████████| 18/18 [00:00<00:00, 41.22it/s]\n",
      "100%|██████████| 53/53 [00:01<00:00, 42.54it/s]\n"
     ]
    },
    {
     "name": "stdout",
     "output_type": "stream",
     "text": [
      "Epoch:596/1000.. Train Loss: 0.151.. Val Loss: 0.227.. Test Loss: 0.206.. Time: 0.23m\n"
     ]
    },
    {
     "name": "stderr",
     "output_type": "stream",
     "text": [
      "100%|██████████| 106/106 [00:12<00:00,  8.66it/s]\n",
      "100%|██████████| 18/18 [00:00<00:00, 42.86it/s]\n",
      "100%|██████████| 53/53 [00:01<00:00, 42.97it/s]\n"
     ]
    },
    {
     "name": "stdout",
     "output_type": "stream",
     "text": [
      "Epoch:597/1000.. Train Loss: 0.150.. Val Loss: 0.223.. Test Loss: 0.205.. Time: 0.23m\n"
     ]
    },
    {
     "name": "stderr",
     "output_type": "stream",
     "text": [
      "100%|██████████| 106/106 [00:12<00:00,  8.65it/s]\n",
      "100%|██████████| 18/18 [00:00<00:00, 42.94it/s]\n",
      "100%|██████████| 53/53 [00:01<00:00, 43.04it/s]\n"
     ]
    },
    {
     "name": "stdout",
     "output_type": "stream",
     "text": [
      "Epoch:598/1000.. Train Loss: 0.149.. Val Loss: 0.231.. Test Loss: 0.205.. Time: 0.23m\n"
     ]
    },
    {
     "name": "stderr",
     "output_type": "stream",
     "text": [
      "100%|██████████| 106/106 [00:12<00:00,  8.57it/s]\n",
      "100%|██████████| 18/18 [00:00<00:00, 43.28it/s]\n",
      "100%|██████████| 53/53 [00:01<00:00, 43.59it/s]\n"
     ]
    },
    {
     "name": "stdout",
     "output_type": "stream",
     "text": [
      "Epoch:599/1000.. Train Loss: 0.149.. Val Loss: 0.230.. Test Loss: 0.205.. Time: 0.23m\n"
     ]
    },
    {
     "name": "stderr",
     "output_type": "stream",
     "text": [
      "100%|██████████| 106/106 [00:12<00:00,  8.63it/s]\n",
      "100%|██████████| 18/18 [00:00<00:00, 40.95it/s]\n",
      "100%|██████████| 53/53 [00:01<00:00, 42.02it/s]\n"
     ]
    },
    {
     "name": "stdout",
     "output_type": "stream",
     "text": [
      "Epoch:600/1000.. Train Loss: 0.149.. Val Loss: 0.227.. Test Loss: 0.204.. Time: 0.23m\n"
     ]
    },
    {
     "name": "stderr",
     "output_type": "stream",
     "text": [
      "100%|██████████| 106/106 [00:12<00:00,  8.40it/s]\n",
      "100%|██████████| 18/18 [00:00<00:00, 42.92it/s]\n",
      "100%|██████████| 53/53 [00:01<00:00, 42.77it/s]\n"
     ]
    },
    {
     "name": "stdout",
     "output_type": "stream",
     "text": [
      "Epoch:601/1000.. Train Loss: 0.150.. Val Loss: 0.227.. Test Loss: 0.205.. Time: 0.24m\n"
     ]
    },
    {
     "name": "stderr",
     "output_type": "stream",
     "text": [
      "100%|██████████| 106/106 [00:12<00:00,  8.61it/s]\n",
      "100%|██████████| 18/18 [00:00<00:00, 42.99it/s]\n",
      "100%|██████████| 53/53 [00:01<00:00, 43.03it/s]\n"
     ]
    },
    {
     "name": "stdout",
     "output_type": "stream",
     "text": [
      "Epoch:602/1000.. Train Loss: 0.151.. Val Loss: 0.224.. Test Loss: 0.205.. Time: 0.23m\n"
     ]
    },
    {
     "name": "stderr",
     "output_type": "stream",
     "text": [
      "100%|██████████| 106/106 [00:12<00:00,  8.56it/s]\n",
      "100%|██████████| 18/18 [00:00<00:00, 42.18it/s]\n",
      "100%|██████████| 53/53 [00:01<00:00, 42.20it/s]\n"
     ]
    },
    {
     "name": "stdout",
     "output_type": "stream",
     "text": [
      "Epoch:603/1000.. Train Loss: 0.149.. Val Loss: 0.224.. Test Loss: 0.205.. Time: 0.24m\n"
     ]
    },
    {
     "name": "stderr",
     "output_type": "stream",
     "text": [
      "100%|██████████| 106/106 [00:12<00:00,  8.79it/s]\n",
      "100%|██████████| 18/18 [00:00<00:00, 41.42it/s]\n",
      "100%|██████████| 53/53 [00:01<00:00, 41.41it/s]\n"
     ]
    },
    {
     "name": "stdout",
     "output_type": "stream",
     "text": [
      "Epoch:604/1000.. Train Loss: 0.150.. Val Loss: 0.225.. Test Loss: 0.205.. Time: 0.23m\n"
     ]
    },
    {
     "name": "stderr",
     "output_type": "stream",
     "text": [
      "100%|██████████| 106/106 [00:12<00:00,  8.62it/s]\n",
      "100%|██████████| 18/18 [00:00<00:00, 42.08it/s]\n",
      "100%|██████████| 53/53 [00:01<00:00, 42.69it/s]\n"
     ]
    },
    {
     "name": "stdout",
     "output_type": "stream",
     "text": [
      "Epoch:605/1000.. Train Loss: 0.150.. Val Loss: 0.225.. Test Loss: 0.205.. Time: 0.23m\n"
     ]
    },
    {
     "name": "stderr",
     "output_type": "stream",
     "text": [
      "100%|██████████| 106/106 [00:11<00:00,  8.87it/s]\n",
      "100%|██████████| 18/18 [00:00<00:00, 43.37it/s]\n",
      "100%|██████████| 53/53 [00:01<00:00, 42.80it/s]\n"
     ]
    },
    {
     "name": "stdout",
     "output_type": "stream",
     "text": [
      "Epoch:606/1000.. Train Loss: 0.151.. Val Loss: 0.224.. Test Loss: 0.205.. Time: 0.23m\n"
     ]
    },
    {
     "name": "stderr",
     "output_type": "stream",
     "text": [
      "100%|██████████| 106/106 [00:12<00:00,  8.55it/s]\n",
      "100%|██████████| 18/18 [00:00<00:00, 41.98it/s]\n",
      "100%|██████████| 53/53 [00:01<00:00, 41.92it/s]\n"
     ]
    },
    {
     "name": "stdout",
     "output_type": "stream",
     "text": [
      "Epoch:607/1000.. Train Loss: 0.152.. Val Loss: 0.227.. Test Loss: 0.205.. Time: 0.24m\n"
     ]
    },
    {
     "name": "stderr",
     "output_type": "stream",
     "text": [
      "100%|██████████| 106/106 [00:12<00:00,  8.49it/s]\n",
      "100%|██████████| 18/18 [00:00<00:00, 42.08it/s]\n",
      "100%|██████████| 53/53 [00:01<00:00, 42.16it/s]\n"
     ]
    },
    {
     "name": "stdout",
     "output_type": "stream",
     "text": [
      "Epoch:608/1000.. Train Loss: 0.150.. Val Loss: 0.225.. Test Loss: 0.206.. Time: 0.24m\n"
     ]
    },
    {
     "name": "stderr",
     "output_type": "stream",
     "text": [
      "100%|██████████| 106/106 [00:12<00:00,  8.82it/s]\n",
      "100%|██████████| 18/18 [00:00<00:00, 42.68it/s]\n",
      "100%|██████████| 53/53 [00:01<00:00, 41.94it/s]\n"
     ]
    },
    {
     "name": "stdout",
     "output_type": "stream",
     "text": [
      "Epoch:609/1000.. Train Loss: 0.150.. Val Loss: 0.225.. Test Loss: 0.206.. Time: 0.23m\n"
     ]
    },
    {
     "name": "stderr",
     "output_type": "stream",
     "text": [
      "100%|██████████| 106/106 [00:11<00:00,  8.84it/s]\n",
      "100%|██████████| 18/18 [00:00<00:00, 43.14it/s]\n",
      "100%|██████████| 53/53 [00:01<00:00, 43.20it/s]\n"
     ]
    },
    {
     "name": "stdout",
     "output_type": "stream",
     "text": [
      "Epoch:610/1000.. Train Loss: 0.149.. Val Loss: 0.226.. Test Loss: 0.204.. Time: 0.23m\n"
     ]
    },
    {
     "name": "stderr",
     "output_type": "stream",
     "text": [
      "100%|██████████| 106/106 [00:12<00:00,  8.60it/s]\n",
      "100%|██████████| 18/18 [00:00<00:00, 42.98it/s]\n",
      "100%|██████████| 53/53 [00:01<00:00, 43.25it/s]\n"
     ]
    },
    {
     "name": "stdout",
     "output_type": "stream",
     "text": [
      "Epoch:611/1000.. Train Loss: 0.150.. Val Loss: 0.224.. Test Loss: 0.205.. Time: 0.23m\n"
     ]
    },
    {
     "name": "stderr",
     "output_type": "stream",
     "text": [
      "100%|██████████| 106/106 [00:12<00:00,  8.64it/s]\n",
      "100%|██████████| 18/18 [00:00<00:00, 42.78it/s]\n",
      "100%|██████████| 53/53 [00:01<00:00, 42.84it/s]\n"
     ]
    },
    {
     "name": "stdout",
     "output_type": "stream",
     "text": [
      "Epoch:612/1000.. Train Loss: 0.151.. Val Loss: 0.224.. Test Loss: 0.205.. Time: 0.23m\n"
     ]
    },
    {
     "name": "stderr",
     "output_type": "stream",
     "text": [
      "100%|██████████| 106/106 [00:12<00:00,  8.57it/s]\n",
      "100%|██████████| 18/18 [00:00<00:00, 40.83it/s]\n",
      "100%|██████████| 53/53 [00:01<00:00, 41.90it/s]\n"
     ]
    },
    {
     "name": "stdout",
     "output_type": "stream",
     "text": [
      "Epoch:613/1000.. Train Loss: 0.151.. Val Loss: 0.227.. Test Loss: 0.205.. Time: 0.24m\n"
     ]
    },
    {
     "name": "stderr",
     "output_type": "stream",
     "text": [
      "100%|██████████| 106/106 [00:12<00:00,  8.63it/s]\n",
      "100%|██████████| 18/18 [00:00<00:00, 42.42it/s]\n",
      "100%|██████████| 53/53 [00:01<00:00, 42.71it/s]\n"
     ]
    },
    {
     "name": "stdout",
     "output_type": "stream",
     "text": [
      "Epoch:614/1000.. Train Loss: 0.151.. Val Loss: 0.225.. Test Loss: 0.204.. Time: 0.23m\n"
     ]
    },
    {
     "name": "stderr",
     "output_type": "stream",
     "text": [
      "100%|██████████| 106/106 [00:12<00:00,  8.81it/s]\n",
      "100%|██████████| 18/18 [00:00<00:00, 42.93it/s]\n",
      "100%|██████████| 53/53 [00:01<00:00, 42.84it/s]\n"
     ]
    },
    {
     "name": "stdout",
     "output_type": "stream",
     "text": [
      "Epoch:615/1000.. Train Loss: 0.151.. Val Loss: 0.225.. Test Loss: 0.205.. Time: 0.23m\n"
     ]
    },
    {
     "name": "stderr",
     "output_type": "stream",
     "text": [
      "100%|██████████| 106/106 [00:12<00:00,  8.58it/s]\n",
      "100%|██████████| 18/18 [00:00<00:00, 43.24it/s]\n",
      "100%|██████████| 53/53 [00:01<00:00, 43.30it/s]\n"
     ]
    },
    {
     "name": "stdout",
     "output_type": "stream",
     "text": [
      "Epoch:616/1000.. Train Loss: 0.152.. Val Loss: 0.225.. Test Loss: 0.204.. Time: 0.23m\n"
     ]
    },
    {
     "name": "stderr",
     "output_type": "stream",
     "text": [
      "100%|██████████| 106/106 [00:12<00:00,  8.62it/s]\n",
      "100%|██████████| 18/18 [00:00<00:00, 43.22it/s]\n",
      "100%|██████████| 53/53 [00:01<00:00, 43.32it/s]\n"
     ]
    },
    {
     "name": "stdout",
     "output_type": "stream",
     "text": [
      "Epoch:617/1000.. Train Loss: 0.151.. Val Loss: 0.225.. Test Loss: 0.205.. Time: 0.23m\n"
     ]
    },
    {
     "name": "stderr",
     "output_type": "stream",
     "text": [
      "100%|██████████| 106/106 [00:12<00:00,  8.57it/s]\n",
      "100%|██████████| 18/18 [00:00<00:00, 43.11it/s]\n",
      "100%|██████████| 53/53 [00:01<00:00, 43.16it/s]\n"
     ]
    },
    {
     "name": "stdout",
     "output_type": "stream",
     "text": [
      "Epoch:618/1000.. Train Loss: 0.149.. Val Loss: 0.232.. Test Loss: 0.205.. Time: 0.23m\n"
     ]
    },
    {
     "name": "stderr",
     "output_type": "stream",
     "text": [
      "100%|██████████| 106/106 [00:12<00:00,  8.51it/s]\n",
      "100%|██████████| 18/18 [00:00<00:00, 43.18it/s]\n",
      "100%|██████████| 53/53 [00:01<00:00, 43.28it/s]\n"
     ]
    },
    {
     "name": "stdout",
     "output_type": "stream",
     "text": [
      "Epoch:619/1000.. Train Loss: 0.151.. Val Loss: 0.224.. Test Loss: 0.205.. Time: 0.24m\n"
     ]
    },
    {
     "name": "stderr",
     "output_type": "stream",
     "text": [
      "100%|██████████| 106/106 [00:12<00:00,  8.56it/s]\n",
      "100%|██████████| 18/18 [00:00<00:00, 43.09it/s]\n",
      "100%|██████████| 53/53 [00:01<00:00, 42.44it/s]\n"
     ]
    },
    {
     "name": "stdout",
     "output_type": "stream",
     "text": [
      "Epoch:620/1000.. Train Loss: 0.150.. Val Loss: 0.225.. Test Loss: 0.205.. Time: 0.24m\n"
     ]
    },
    {
     "name": "stderr",
     "output_type": "stream",
     "text": [
      "100%|██████████| 106/106 [00:12<00:00,  8.59it/s]\n",
      "100%|██████████| 18/18 [00:00<00:00, 43.19it/s]\n",
      "100%|██████████| 53/53 [00:01<00:00, 43.31it/s]\n"
     ]
    },
    {
     "name": "stdout",
     "output_type": "stream",
     "text": [
      "Epoch:621/1000.. Train Loss: 0.152.. Val Loss: 0.231.. Test Loss: 0.205.. Time: 0.23m\n"
     ]
    },
    {
     "name": "stderr",
     "output_type": "stream",
     "text": [
      "100%|██████████| 106/106 [00:12<00:00,  8.58it/s]\n",
      "100%|██████████| 18/18 [00:00<00:00, 40.72it/s]\n",
      "100%|██████████| 53/53 [00:01<00:00, 42.58it/s]\n"
     ]
    },
    {
     "name": "stdout",
     "output_type": "stream",
     "text": [
      "Epoch:622/1000.. Train Loss: 0.150.. Val Loss: 0.230.. Test Loss: 0.205.. Time: 0.23m\n"
     ]
    },
    {
     "name": "stderr",
     "output_type": "stream",
     "text": [
      "100%|██████████| 106/106 [00:12<00:00,  8.34it/s]\n",
      "100%|██████████| 18/18 [00:00<00:00, 42.75it/s]\n",
      "100%|██████████| 53/53 [00:01<00:00, 42.56it/s]\n"
     ]
    },
    {
     "name": "stdout",
     "output_type": "stream",
     "text": [
      "Epoch:623/1000.. Train Loss: 0.149.. Val Loss: 0.228.. Test Loss: 0.204.. Time: 0.24m\n"
     ]
    },
    {
     "name": "stderr",
     "output_type": "stream",
     "text": [
      "100%|██████████| 106/106 [00:12<00:00,  8.40it/s]\n",
      "100%|██████████| 18/18 [00:00<00:00, 41.77it/s]\n",
      "100%|██████████| 53/53 [00:01<00:00, 42.99it/s]\n"
     ]
    },
    {
     "name": "stdout",
     "output_type": "stream",
     "text": [
      "Epoch:624/1000.. Train Loss: 0.152.. Val Loss: 0.223.. Test Loss: 0.205.. Time: 0.24m\n"
     ]
    },
    {
     "name": "stderr",
     "output_type": "stream",
     "text": [
      "100%|██████████| 106/106 [00:12<00:00,  8.40it/s]\n",
      "100%|██████████| 18/18 [00:00<00:00, 42.45it/s]\n",
      "100%|██████████| 53/53 [00:01<00:00, 42.95it/s]\n"
     ]
    },
    {
     "name": "stdout",
     "output_type": "stream",
     "text": [
      "Epoch:625/1000.. Train Loss: 0.149.. Val Loss: 0.226.. Test Loss: 0.204.. Time: 0.24m\n"
     ]
    },
    {
     "name": "stderr",
     "output_type": "stream",
     "text": [
      "100%|██████████| 106/106 [00:12<00:00,  8.65it/s]\n",
      "100%|██████████| 18/18 [00:00<00:00, 42.63it/s]\n",
      "100%|██████████| 53/53 [00:01<00:00, 41.47it/s]\n"
     ]
    },
    {
     "name": "stdout",
     "output_type": "stream",
     "text": [
      "Epoch:626/1000.. Train Loss: 0.149.. Val Loss: 0.230.. Test Loss: 0.206.. Time: 0.23m\n"
     ]
    },
    {
     "name": "stderr",
     "output_type": "stream",
     "text": [
      "100%|██████████| 106/106 [00:12<00:00,  8.63it/s]\n",
      "100%|██████████| 18/18 [00:00<00:00, 41.71it/s]\n",
      "100%|██████████| 53/53 [00:01<00:00, 43.07it/s]\n"
     ]
    },
    {
     "name": "stdout",
     "output_type": "stream",
     "text": [
      "Epoch:627/1000.. Train Loss: 0.150.. Val Loss: 0.226.. Test Loss: 0.205.. Time: 0.23m\n"
     ]
    },
    {
     "name": "stderr",
     "output_type": "stream",
     "text": [
      "100%|██████████| 106/106 [00:12<00:00,  8.76it/s]\n",
      "100%|██████████| 18/18 [00:00<00:00, 42.80it/s]\n",
      "100%|██████████| 53/53 [00:01<00:00, 43.01it/s]\n"
     ]
    },
    {
     "name": "stdout",
     "output_type": "stream",
     "text": [
      "Epoch:628/1000.. Train Loss: 0.151.. Val Loss: 0.224.. Test Loss: 0.204.. Time: 0.23m\n"
     ]
    },
    {
     "name": "stderr",
     "output_type": "stream",
     "text": [
      "100%|██████████| 106/106 [00:12<00:00,  8.44it/s]\n",
      "100%|██████████| 18/18 [00:00<00:00, 42.85it/s]\n",
      "100%|██████████| 53/53 [00:01<00:00, 42.73it/s]\n"
     ]
    },
    {
     "name": "stdout",
     "output_type": "stream",
     "text": [
      "Epoch:629/1000.. Train Loss: 0.149.. Val Loss: 0.226.. Test Loss: 0.205.. Time: 0.24m\n"
     ]
    },
    {
     "name": "stderr",
     "output_type": "stream",
     "text": [
      "100%|██████████| 106/106 [00:10<00:00,  9.96it/s]\n",
      "100%|██████████| 18/18 [00:00<00:00, 42.94it/s]\n",
      "100%|██████████| 53/53 [00:01<00:00, 42.41it/s]\n"
     ]
    },
    {
     "name": "stdout",
     "output_type": "stream",
     "text": [
      "Epoch:630/1000.. Train Loss: 0.149.. Val Loss: 0.225.. Test Loss: 0.205.. Time: 0.21m\n"
     ]
    },
    {
     "name": "stderr",
     "output_type": "stream",
     "text": [
      "100%|██████████| 106/106 [00:11<00:00,  8.96it/s]\n",
      "100%|██████████| 18/18 [00:00<00:00, 43.01it/s]\n",
      "100%|██████████| 53/53 [00:01<00:00, 42.91it/s]\n"
     ]
    },
    {
     "name": "stdout",
     "output_type": "stream",
     "text": [
      "Epoch:631/1000.. Train Loss: 0.151.. Val Loss: 0.226.. Test Loss: 0.205.. Time: 0.23m\n"
     ]
    },
    {
     "name": "stderr",
     "output_type": "stream",
     "text": [
      "100%|██████████| 106/106 [00:12<00:00,  8.74it/s]\n",
      "100%|██████████| 18/18 [00:00<00:00, 42.22it/s]\n",
      "100%|██████████| 53/53 [00:01<00:00, 43.08it/s]\n"
     ]
    },
    {
     "name": "stdout",
     "output_type": "stream",
     "text": [
      "Epoch:632/1000.. Train Loss: 0.150.. Val Loss: 0.227.. Test Loss: 0.205.. Time: 0.23m\n"
     ]
    },
    {
     "name": "stderr",
     "output_type": "stream",
     "text": [
      "100%|██████████| 106/106 [00:12<00:00,  8.71it/s]\n",
      "100%|██████████| 18/18 [00:00<00:00, 42.78it/s]\n",
      "100%|██████████| 53/53 [00:01<00:00, 42.73it/s]\n"
     ]
    },
    {
     "name": "stdout",
     "output_type": "stream",
     "text": [
      "Epoch:633/1000.. Train Loss: 0.150.. Val Loss: 0.225.. Test Loss: 0.205.. Time: 0.23m\n"
     ]
    },
    {
     "name": "stderr",
     "output_type": "stream",
     "text": [
      "100%|██████████| 106/106 [00:12<00:00,  8.77it/s]\n",
      "100%|██████████| 18/18 [00:00<00:00, 43.36it/s]\n",
      "100%|██████████| 53/53 [00:01<00:00, 43.43it/s]\n"
     ]
    },
    {
     "name": "stdout",
     "output_type": "stream",
     "text": [
      "Epoch:634/1000.. Train Loss: 0.151.. Val Loss: 0.227.. Test Loss: 0.206.. Time: 0.23m\n"
     ]
    },
    {
     "name": "stderr",
     "output_type": "stream",
     "text": [
      "100%|██████████| 106/106 [00:12<00:00,  8.69it/s]\n",
      "100%|██████████| 18/18 [00:00<00:00, 42.96it/s]\n",
      "100%|██████████| 53/53 [00:01<00:00, 42.81it/s]\n"
     ]
    },
    {
     "name": "stdout",
     "output_type": "stream",
     "text": [
      "Epoch:635/1000.. Train Loss: 0.151.. Val Loss: 0.224.. Test Loss: 0.204.. Time: 0.23m\n"
     ]
    },
    {
     "name": "stderr",
     "output_type": "stream",
     "text": [
      "100%|██████████| 106/106 [00:12<00:00,  8.80it/s]\n",
      "100%|██████████| 18/18 [00:00<00:00, 42.96it/s]\n",
      "100%|██████████| 53/53 [00:01<00:00, 42.86it/s]\n"
     ]
    },
    {
     "name": "stdout",
     "output_type": "stream",
     "text": [
      "Epoch:636/1000.. Train Loss: 0.150.. Val Loss: 0.224.. Test Loss: 0.204.. Time: 0.23m\n"
     ]
    },
    {
     "name": "stderr",
     "output_type": "stream",
     "text": [
      "100%|██████████| 106/106 [00:12<00:00,  8.72it/s]\n",
      "100%|██████████| 18/18 [00:00<00:00, 43.00it/s]\n",
      "100%|██████████| 53/53 [00:01<00:00, 42.90it/s]\n"
     ]
    },
    {
     "name": "stdout",
     "output_type": "stream",
     "text": [
      "Epoch:637/1000.. Train Loss: 0.150.. Val Loss: 0.231.. Test Loss: 0.205.. Time: 0.23m\n"
     ]
    },
    {
     "name": "stderr",
     "output_type": "stream",
     "text": [
      "100%|██████████| 106/106 [00:12<00:00,  8.57it/s]\n",
      "100%|██████████| 18/18 [00:00<00:00, 42.16it/s]\n",
      "100%|██████████| 53/53 [00:01<00:00, 43.24it/s]\n"
     ]
    },
    {
     "name": "stdout",
     "output_type": "stream",
     "text": [
      "Epoch:638/1000.. Train Loss: 0.150.. Val Loss: 0.228.. Test Loss: 0.205.. Time: 0.23m\n"
     ]
    },
    {
     "name": "stderr",
     "output_type": "stream",
     "text": [
      "100%|██████████| 106/106 [00:11<00:00,  8.88it/s]\n",
      "100%|██████████| 18/18 [00:00<00:00, 42.74it/s]\n",
      "100%|██████████| 53/53 [00:01<00:00, 42.88it/s]\n"
     ]
    },
    {
     "name": "stdout",
     "output_type": "stream",
     "text": [
      "Epoch:639/1000.. Train Loss: 0.151.. Val Loss: 0.225.. Test Loss: 0.204.. Time: 0.23m\n"
     ]
    },
    {
     "name": "stderr",
     "output_type": "stream",
     "text": [
      "100%|██████████| 106/106 [00:12<00:00,  8.71it/s]\n",
      "100%|██████████| 18/18 [00:00<00:00, 41.19it/s]\n",
      "100%|██████████| 53/53 [00:01<00:00, 42.16it/s]\n"
     ]
    },
    {
     "name": "stdout",
     "output_type": "stream",
     "text": [
      "Epoch:640/1000.. Train Loss: 0.151.. Val Loss: 0.232.. Test Loss: 0.205.. Time: 0.23m\n"
     ]
    },
    {
     "name": "stderr",
     "output_type": "stream",
     "text": [
      "100%|██████████| 106/106 [00:12<00:00,  8.66it/s]\n",
      "100%|██████████| 18/18 [00:00<00:00, 42.84it/s]\n",
      "100%|██████████| 53/53 [00:01<00:00, 42.91it/s]\n"
     ]
    },
    {
     "name": "stdout",
     "output_type": "stream",
     "text": [
      "Epoch:641/1000.. Train Loss: 0.150.. Val Loss: 0.226.. Test Loss: 0.205.. Time: 0.23m\n"
     ]
    },
    {
     "name": "stderr",
     "output_type": "stream",
     "text": [
      "100%|██████████| 106/106 [00:12<00:00,  8.72it/s]\n",
      "100%|██████████| 18/18 [00:00<00:00, 41.62it/s]\n",
      "100%|██████████| 53/53 [00:01<00:00, 42.41it/s]\n"
     ]
    },
    {
     "name": "stdout",
     "output_type": "stream",
     "text": [
      "Epoch:642/1000.. Train Loss: 0.150.. Val Loss: 0.226.. Test Loss: 0.205.. Time: 0.23m\n"
     ]
    },
    {
     "name": "stderr",
     "output_type": "stream",
     "text": [
      "100%|██████████| 106/106 [00:12<00:00,  8.52it/s]\n",
      "100%|██████████| 18/18 [00:00<00:00, 42.69it/s]\n",
      "100%|██████████| 53/53 [00:01<00:00, 42.25it/s]\n"
     ]
    },
    {
     "name": "stdout",
     "output_type": "stream",
     "text": [
      "Epoch:643/1000.. Train Loss: 0.151.. Val Loss: 0.223.. Test Loss: 0.205.. Time: 0.24m\n"
     ]
    },
    {
     "name": "stderr",
     "output_type": "stream",
     "text": [
      "100%|██████████| 106/106 [00:12<00:00,  8.77it/s]\n",
      "100%|██████████| 18/18 [00:00<00:00, 42.90it/s]\n",
      "100%|██████████| 53/53 [00:01<00:00, 43.04it/s]\n"
     ]
    },
    {
     "name": "stdout",
     "output_type": "stream",
     "text": [
      "Epoch:644/1000.. Train Loss: 0.151.. Val Loss: 0.224.. Test Loss: 0.204.. Time: 0.23m\n"
     ]
    },
    {
     "name": "stderr",
     "output_type": "stream",
     "text": [
      "100%|██████████| 106/106 [00:12<00:00,  8.65it/s]\n",
      "100%|██████████| 18/18 [00:00<00:00, 41.67it/s]\n",
      "100%|██████████| 53/53 [00:01<00:00, 42.20it/s]\n"
     ]
    },
    {
     "name": "stdout",
     "output_type": "stream",
     "text": [
      "Epoch:645/1000.. Train Loss: 0.151.. Val Loss: 0.225.. Test Loss: 0.206.. Time: 0.23m\n"
     ]
    },
    {
     "name": "stderr",
     "output_type": "stream",
     "text": [
      "100%|██████████| 106/106 [00:12<00:00,  8.58it/s]\n",
      "100%|██████████| 18/18 [00:00<00:00, 42.43it/s]\n",
      "100%|██████████| 53/53 [00:01<00:00, 42.60it/s]\n"
     ]
    },
    {
     "name": "stdout",
     "output_type": "stream",
     "text": [
      "Epoch:646/1000.. Train Loss: 0.150.. Val Loss: 0.225.. Test Loss: 0.205.. Time: 0.23m\n"
     ]
    },
    {
     "name": "stderr",
     "output_type": "stream",
     "text": [
      "100%|██████████| 106/106 [00:12<00:00,  8.73it/s]\n",
      "100%|██████████| 18/18 [00:00<00:00, 42.75it/s]\n",
      "100%|██████████| 53/53 [00:01<00:00, 42.62it/s]\n"
     ]
    },
    {
     "name": "stdout",
     "output_type": "stream",
     "text": [
      "Epoch:647/1000.. Train Loss: 0.151.. Val Loss: 0.224.. Test Loss: 0.204.. Time: 0.23m\n"
     ]
    },
    {
     "name": "stderr",
     "output_type": "stream",
     "text": [
      "100%|██████████| 106/106 [00:12<00:00,  8.59it/s]\n",
      "100%|██████████| 18/18 [00:00<00:00, 42.38it/s]\n",
      "100%|██████████| 53/53 [00:01<00:00, 43.02it/s]\n"
     ]
    },
    {
     "name": "stdout",
     "output_type": "stream",
     "text": [
      "Epoch:648/1000.. Train Loss: 0.149.. Val Loss: 0.225.. Test Loss: 0.204.. Time: 0.23m\n"
     ]
    },
    {
     "name": "stderr",
     "output_type": "stream",
     "text": [
      "100%|██████████| 106/106 [00:11<00:00,  8.84it/s]\n",
      "100%|██████████| 18/18 [00:00<00:00, 43.15it/s]\n",
      "100%|██████████| 53/53 [00:01<00:00, 42.79it/s]\n"
     ]
    },
    {
     "name": "stdout",
     "output_type": "stream",
     "text": [
      "Epoch:649/1000.. Train Loss: 0.152.. Val Loss: 0.225.. Test Loss: 0.205.. Time: 0.23m\n"
     ]
    },
    {
     "name": "stderr",
     "output_type": "stream",
     "text": [
      "100%|██████████| 106/106 [00:12<00:00,  8.71it/s]\n",
      "100%|██████████| 18/18 [00:00<00:00, 43.00it/s]\n",
      "100%|██████████| 53/53 [00:01<00:00, 42.83it/s]\n"
     ]
    },
    {
     "name": "stdout",
     "output_type": "stream",
     "text": [
      "Epoch:650/1000.. Train Loss: 0.150.. Val Loss: 0.227.. Test Loss: 0.205.. Time: 0.23m\n"
     ]
    },
    {
     "name": "stderr",
     "output_type": "stream",
     "text": [
      "100%|██████████| 106/106 [00:12<00:00,  8.51it/s]\n",
      "100%|██████████| 18/18 [00:00<00:00, 43.05it/s]\n",
      "100%|██████████| 53/53 [00:01<00:00, 43.08it/s]\n"
     ]
    },
    {
     "name": "stdout",
     "output_type": "stream",
     "text": [
      "Epoch:651/1000.. Train Loss: 0.149.. Val Loss: 0.230.. Test Loss: 0.204.. Time: 0.24m\n"
     ]
    },
    {
     "name": "stderr",
     "output_type": "stream",
     "text": [
      "100%|██████████| 106/106 [00:12<00:00,  8.41it/s]\n",
      "100%|██████████| 18/18 [00:00<00:00, 42.78it/s]\n",
      "100%|██████████| 53/53 [00:01<00:00, 42.85it/s]\n"
     ]
    },
    {
     "name": "stdout",
     "output_type": "stream",
     "text": [
      "Epoch:652/1000.. Train Loss: 0.150.. Val Loss: 0.227.. Test Loss: 0.206.. Time: 0.24m\n"
     ]
    },
    {
     "name": "stderr",
     "output_type": "stream",
     "text": [
      "100%|██████████| 106/106 [00:12<00:00,  8.59it/s]\n",
      "100%|██████████| 18/18 [00:00<00:00, 40.98it/s]\n",
      "100%|██████████| 53/53 [00:01<00:00, 41.99it/s]\n"
     ]
    },
    {
     "name": "stdout",
     "output_type": "stream",
     "text": [
      "Epoch:653/1000.. Train Loss: 0.151.. Val Loss: 0.228.. Test Loss: 0.205.. Time: 0.23m\n"
     ]
    },
    {
     "name": "stderr",
     "output_type": "stream",
     "text": [
      "100%|██████████| 106/106 [00:12<00:00,  8.75it/s]\n",
      "100%|██████████| 18/18 [00:00<00:00, 42.78it/s]\n",
      "100%|██████████| 53/53 [00:01<00:00, 42.71it/s]\n"
     ]
    },
    {
     "name": "stdout",
     "output_type": "stream",
     "text": [
      "Epoch:654/1000.. Train Loss: 0.151.. Val Loss: 0.230.. Test Loss: 0.205.. Time: 0.23m\n"
     ]
    },
    {
     "name": "stderr",
     "output_type": "stream",
     "text": [
      "100%|██████████| 106/106 [00:12<00:00,  8.63it/s]\n",
      "100%|██████████| 18/18 [00:00<00:00, 42.93it/s]\n",
      "100%|██████████| 53/53 [00:01<00:00, 42.81it/s]\n"
     ]
    },
    {
     "name": "stdout",
     "output_type": "stream",
     "text": [
      "Epoch:655/1000.. Train Loss: 0.149.. Val Loss: 0.225.. Test Loss: 0.205.. Time: 0.23m\n"
     ]
    },
    {
     "name": "stderr",
     "output_type": "stream",
     "text": [
      "100%|██████████| 106/106 [00:12<00:00,  8.60it/s]\n",
      "100%|██████████| 18/18 [00:00<00:00, 42.64it/s]\n",
      "100%|██████████| 53/53 [00:01<00:00, 42.67it/s]\n"
     ]
    },
    {
     "name": "stdout",
     "output_type": "stream",
     "text": [
      "Epoch:656/1000.. Train Loss: 0.149.. Val Loss: 0.225.. Test Loss: 0.206.. Time: 0.23m\n"
     ]
    },
    {
     "name": "stderr",
     "output_type": "stream",
     "text": [
      "100%|██████████| 106/106 [00:11<00:00,  8.87it/s]\n",
      "100%|██████████| 18/18 [00:00<00:00, 43.10it/s]\n",
      "100%|██████████| 53/53 [00:01<00:00, 42.60it/s]\n"
     ]
    },
    {
     "name": "stdout",
     "output_type": "stream",
     "text": [
      "Epoch:657/1000.. Train Loss: 0.149.. Val Loss: 0.228.. Test Loss: 0.204.. Time: 0.23m\n"
     ]
    },
    {
     "name": "stderr",
     "output_type": "stream",
     "text": [
      "100%|██████████| 106/106 [00:12<00:00,  8.60it/s]\n",
      "100%|██████████| 18/18 [00:00<00:00, 42.76it/s]\n",
      "100%|██████████| 53/53 [00:01<00:00, 42.80it/s]\n"
     ]
    },
    {
     "name": "stdout",
     "output_type": "stream",
     "text": [
      "Epoch:658/1000.. Train Loss: 0.150.. Val Loss: 0.227.. Test Loss: 0.206.. Time: 0.23m\n"
     ]
    },
    {
     "name": "stderr",
     "output_type": "stream",
     "text": [
      "100%|██████████| 106/106 [00:12<00:00,  8.57it/s]\n",
      "100%|██████████| 18/18 [00:00<00:00, 42.92it/s]\n",
      "100%|██████████| 53/53 [00:01<00:00, 42.81it/s]\n"
     ]
    },
    {
     "name": "stdout",
     "output_type": "stream",
     "text": [
      "Epoch:659/1000.. Train Loss: 0.149.. Val Loss: 0.224.. Test Loss: 0.205.. Time: 0.23m\n"
     ]
    },
    {
     "name": "stderr",
     "output_type": "stream",
     "text": [
      "100%|██████████| 106/106 [00:12<00:00,  8.65it/s]\n",
      "100%|██████████| 18/18 [00:00<00:00, 42.92it/s]\n",
      "100%|██████████| 53/53 [00:01<00:00, 42.83it/s]\n"
     ]
    },
    {
     "name": "stdout",
     "output_type": "stream",
     "text": [
      "Epoch:660/1000.. Train Loss: 0.151.. Val Loss: 0.227.. Test Loss: 0.205.. Time: 0.23m\n"
     ]
    },
    {
     "name": "stderr",
     "output_type": "stream",
     "text": [
      "100%|██████████| 106/106 [00:12<00:00,  8.77it/s]\n",
      "100%|██████████| 18/18 [00:00<00:00, 43.20it/s]\n",
      "100%|██████████| 53/53 [00:01<00:00, 42.82it/s]\n"
     ]
    },
    {
     "name": "stdout",
     "output_type": "stream",
     "text": [
      "Epoch:661/1000.. Train Loss: 0.149.. Val Loss: 0.225.. Test Loss: 0.205.. Time: 0.23m\n"
     ]
    },
    {
     "name": "stderr",
     "output_type": "stream",
     "text": [
      "100%|██████████| 106/106 [00:12<00:00,  8.72it/s]\n",
      "100%|██████████| 18/18 [00:00<00:00, 42.47it/s]\n",
      "100%|██████████| 53/53 [00:01<00:00, 42.70it/s]\n"
     ]
    },
    {
     "name": "stdout",
     "output_type": "stream",
     "text": [
      "Epoch:662/1000.. Train Loss: 0.151.. Val Loss: 0.225.. Test Loss: 0.205.. Time: 0.23m\n"
     ]
    },
    {
     "name": "stderr",
     "output_type": "stream",
     "text": [
      "100%|██████████| 106/106 [00:12<00:00,  8.59it/s]\n",
      "100%|██████████| 18/18 [00:00<00:00, 42.76it/s]\n",
      "100%|██████████| 53/53 [00:01<00:00, 42.38it/s]\n"
     ]
    },
    {
     "name": "stdout",
     "output_type": "stream",
     "text": [
      "Epoch:663/1000.. Train Loss: 0.150.. Val Loss: 0.225.. Test Loss: 0.205.. Time: 0.23m\n"
     ]
    },
    {
     "name": "stderr",
     "output_type": "stream",
     "text": [
      "100%|██████████| 106/106 [00:12<00:00,  8.74it/s]\n",
      "100%|██████████| 18/18 [00:00<00:00, 42.54it/s]\n",
      "100%|██████████| 53/53 [00:01<00:00, 42.78it/s]\n"
     ]
    },
    {
     "name": "stdout",
     "output_type": "stream",
     "text": [
      "Epoch:664/1000.. Train Loss: 0.150.. Val Loss: 0.225.. Test Loss: 0.205.. Time: 0.23m\n"
     ]
    },
    {
     "name": "stderr",
     "output_type": "stream",
     "text": [
      "100%|██████████| 106/106 [00:12<00:00,  8.72it/s]\n",
      "100%|██████████| 18/18 [00:00<00:00, 42.24it/s]\n",
      "100%|██████████| 53/53 [00:01<00:00, 42.57it/s]\n"
     ]
    },
    {
     "name": "stdout",
     "output_type": "stream",
     "text": [
      "Epoch:665/1000.. Train Loss: 0.151.. Val Loss: 0.227.. Test Loss: 0.205.. Time: 0.23m\n"
     ]
    },
    {
     "name": "stderr",
     "output_type": "stream",
     "text": [
      "100%|██████████| 106/106 [00:12<00:00,  8.68it/s]\n",
      "100%|██████████| 18/18 [00:00<00:00, 42.98it/s]\n",
      "100%|██████████| 53/53 [00:01<00:00, 43.16it/s]\n"
     ]
    },
    {
     "name": "stdout",
     "output_type": "stream",
     "text": [
      "Epoch:666/1000.. Train Loss: 0.150.. Val Loss: 0.232.. Test Loss: 0.205.. Time: 0.23m\n"
     ]
    },
    {
     "name": "stderr",
     "output_type": "stream",
     "text": [
      "100%|██████████| 106/106 [00:12<00:00,  8.72it/s]\n",
      "100%|██████████| 18/18 [00:00<00:00, 42.92it/s]\n",
      "100%|██████████| 53/53 [00:01<00:00, 42.11it/s]\n"
     ]
    },
    {
     "name": "stdout",
     "output_type": "stream",
     "text": [
      "Epoch:667/1000.. Train Loss: 0.151.. Val Loss: 0.224.. Test Loss: 0.205.. Time: 0.23m\n"
     ]
    },
    {
     "name": "stderr",
     "output_type": "stream",
     "text": [
      "100%|██████████| 106/106 [00:12<00:00,  8.68it/s]\n",
      "100%|██████████| 18/18 [00:00<00:00, 42.98it/s]\n",
      "100%|██████████| 53/53 [00:01<00:00, 42.22it/s]\n"
     ]
    },
    {
     "name": "stdout",
     "output_type": "stream",
     "text": [
      "Epoch:668/1000.. Train Loss: 0.150.. Val Loss: 0.227.. Test Loss: 0.205.. Time: 0.23m\n"
     ]
    },
    {
     "name": "stderr",
     "output_type": "stream",
     "text": [
      "100%|██████████| 106/106 [00:12<00:00,  8.71it/s]\n",
      "100%|██████████| 18/18 [00:00<00:00, 41.55it/s]\n",
      "100%|██████████| 53/53 [00:01<00:00, 42.48it/s]\n"
     ]
    },
    {
     "name": "stdout",
     "output_type": "stream",
     "text": [
      "Epoch:669/1000.. Train Loss: 0.150.. Val Loss: 0.225.. Test Loss: 0.205.. Time: 0.23m\n"
     ]
    },
    {
     "name": "stderr",
     "output_type": "stream",
     "text": [
      "100%|██████████| 106/106 [00:12<00:00,  8.60it/s]\n",
      "100%|██████████| 18/18 [00:00<00:00, 43.12it/s]\n",
      "100%|██████████| 53/53 [00:01<00:00, 42.96it/s]\n"
     ]
    },
    {
     "name": "stdout",
     "output_type": "stream",
     "text": [
      "Epoch:670/1000.. Train Loss: 0.149.. Val Loss: 0.224.. Test Loss: 0.205.. Time: 0.23m\n"
     ]
    },
    {
     "name": "stderr",
     "output_type": "stream",
     "text": [
      "100%|██████████| 106/106 [00:12<00:00,  8.73it/s]\n",
      "100%|██████████| 18/18 [00:00<00:00, 42.95it/s]\n",
      "100%|██████████| 53/53 [00:01<00:00, 42.71it/s]\n"
     ]
    },
    {
     "name": "stdout",
     "output_type": "stream",
     "text": [
      "Epoch:671/1000.. Train Loss: 0.150.. Val Loss: 0.224.. Test Loss: 0.205.. Time: 0.23m\n"
     ]
    },
    {
     "name": "stderr",
     "output_type": "stream",
     "text": [
      "100%|██████████| 106/106 [00:11<00:00,  8.90it/s]\n",
      "100%|██████████| 18/18 [00:00<00:00, 42.67it/s]\n",
      "100%|██████████| 53/53 [00:01<00:00, 42.71it/s]\n"
     ]
    },
    {
     "name": "stdout",
     "output_type": "stream",
     "text": [
      "Epoch:672/1000.. Train Loss: 0.149.. Val Loss: 0.227.. Test Loss: 0.205.. Time: 0.23m\n"
     ]
    },
    {
     "name": "stderr",
     "output_type": "stream",
     "text": [
      "100%|██████████| 106/106 [00:12<00:00,  8.70it/s]\n",
      "100%|██████████| 18/18 [00:00<00:00, 41.58it/s]\n",
      "100%|██████████| 53/53 [00:01<00:00, 42.96it/s]\n"
     ]
    },
    {
     "name": "stdout",
     "output_type": "stream",
     "text": [
      "Epoch:673/1000.. Train Loss: 0.151.. Val Loss: 0.223.. Test Loss: 0.205.. Time: 0.23m\n"
     ]
    },
    {
     "name": "stderr",
     "output_type": "stream",
     "text": [
      "100%|██████████| 106/106 [00:12<00:00,  8.71it/s]\n",
      "100%|██████████| 18/18 [00:00<00:00, 41.01it/s]\n",
      "100%|██████████| 53/53 [00:01<00:00, 41.73it/s]\n"
     ]
    },
    {
     "name": "stdout",
     "output_type": "stream",
     "text": [
      "Epoch:674/1000.. Train Loss: 0.149.. Val Loss: 0.227.. Test Loss: 0.205.. Time: 0.23m\n"
     ]
    },
    {
     "name": "stderr",
     "output_type": "stream",
     "text": [
      "100%|██████████| 106/106 [00:11<00:00,  8.86it/s]\n",
      "100%|██████████| 18/18 [00:00<00:00, 42.84it/s]\n",
      "100%|██████████| 53/53 [00:01<00:00, 43.27it/s]\n"
     ]
    },
    {
     "name": "stdout",
     "output_type": "stream",
     "text": [
      "Epoch:675/1000.. Train Loss: 0.149.. Val Loss: 0.224.. Test Loss: 0.205.. Time: 0.23m\n"
     ]
    },
    {
     "name": "stderr",
     "output_type": "stream",
     "text": [
      "100%|██████████| 106/106 [00:12<00:00,  8.63it/s]\n",
      "100%|██████████| 18/18 [00:00<00:00, 42.80it/s]\n",
      "100%|██████████| 53/53 [00:01<00:00, 42.65it/s]\n"
     ]
    },
    {
     "name": "stdout",
     "output_type": "stream",
     "text": [
      "Epoch:676/1000.. Train Loss: 0.149.. Val Loss: 0.225.. Test Loss: 0.204.. Time: 0.23m\n"
     ]
    },
    {
     "name": "stderr",
     "output_type": "stream",
     "text": [
      "100%|██████████| 106/106 [00:12<00:00,  8.61it/s]\n",
      "100%|██████████| 18/18 [00:00<00:00, 43.06it/s]\n",
      "100%|██████████| 53/53 [00:01<00:00, 42.70it/s]\n"
     ]
    },
    {
     "name": "stdout",
     "output_type": "stream",
     "text": [
      "Epoch:677/1000.. Train Loss: 0.150.. Val Loss: 0.225.. Test Loss: 0.205.. Time: 0.23m\n"
     ]
    },
    {
     "name": "stderr",
     "output_type": "stream",
     "text": [
      "100%|██████████| 106/106 [00:12<00:00,  8.73it/s]\n",
      "100%|██████████| 18/18 [00:00<00:00, 43.08it/s]\n",
      "100%|██████████| 53/53 [00:01<00:00, 42.73it/s]\n"
     ]
    },
    {
     "name": "stdout",
     "output_type": "stream",
     "text": [
      "Epoch:678/1000.. Train Loss: 0.150.. Val Loss: 0.231.. Test Loss: 0.204.. Time: 0.23m\n"
     ]
    },
    {
     "name": "stderr",
     "output_type": "stream",
     "text": [
      "100%|██████████| 106/106 [00:12<00:00,  8.67it/s]\n",
      "100%|██████████| 18/18 [00:00<00:00, 43.01it/s]\n",
      "100%|██████████| 53/53 [00:01<00:00, 42.53it/s]\n"
     ]
    },
    {
     "name": "stdout",
     "output_type": "stream",
     "text": [
      "Epoch:679/1000.. Train Loss: 0.151.. Val Loss: 0.230.. Test Loss: 0.204.. Time: 0.23m\n"
     ]
    },
    {
     "name": "stderr",
     "output_type": "stream",
     "text": [
      "100%|██████████| 106/106 [00:12<00:00,  8.76it/s]\n",
      "100%|██████████| 18/18 [00:00<00:00, 42.82it/s]\n",
      "100%|██████████| 53/53 [00:01<00:00, 42.92it/s]\n"
     ]
    },
    {
     "name": "stdout",
     "output_type": "stream",
     "text": [
      "Epoch:680/1000.. Train Loss: 0.150.. Val Loss: 0.225.. Test Loss: 0.205.. Time: 0.23m\n"
     ]
    },
    {
     "name": "stderr",
     "output_type": "stream",
     "text": [
      "100%|██████████| 106/106 [00:12<00:00,  8.67it/s]\n",
      "100%|██████████| 18/18 [00:00<00:00, 43.19it/s]\n",
      "100%|██████████| 53/53 [00:01<00:00, 43.27it/s]\n"
     ]
    },
    {
     "name": "stdout",
     "output_type": "stream",
     "text": [
      "Epoch:681/1000.. Train Loss: 0.150.. Val Loss: 0.231.. Test Loss: 0.205.. Time: 0.23m\n"
     ]
    },
    {
     "name": "stderr",
     "output_type": "stream",
     "text": [
      "100%|██████████| 106/106 [00:11<00:00,  8.89it/s]\n",
      "100%|██████████| 18/18 [00:00<00:00, 42.68it/s]\n",
      "100%|██████████| 53/53 [00:01<00:00, 43.27it/s]\n"
     ]
    },
    {
     "name": "stdout",
     "output_type": "stream",
     "text": [
      "Epoch:682/1000.. Train Loss: 0.149.. Val Loss: 0.225.. Test Loss: 0.204.. Time: 0.23m\n"
     ]
    },
    {
     "name": "stderr",
     "output_type": "stream",
     "text": [
      "100%|██████████| 106/106 [00:11<00:00,  8.84it/s]\n",
      "100%|██████████| 18/18 [00:00<00:00, 43.20it/s]\n",
      "100%|██████████| 53/53 [00:01<00:00, 42.65it/s]\n"
     ]
    },
    {
     "name": "stdout",
     "output_type": "stream",
     "text": [
      "Epoch:683/1000.. Train Loss: 0.150.. Val Loss: 0.230.. Test Loss: 0.205.. Time: 0.23m\n"
     ]
    },
    {
     "name": "stderr",
     "output_type": "stream",
     "text": [
      "100%|██████████| 106/106 [00:12<00:00,  8.73it/s]\n",
      "100%|██████████| 18/18 [00:00<00:00, 43.11it/s]\n",
      "100%|██████████| 53/53 [00:01<00:00, 43.21it/s]\n"
     ]
    },
    {
     "name": "stdout",
     "output_type": "stream",
     "text": [
      "Epoch:684/1000.. Train Loss: 0.151.. Val Loss: 0.231.. Test Loss: 0.205.. Time: 0.23m\n"
     ]
    },
    {
     "name": "stderr",
     "output_type": "stream",
     "text": [
      "100%|██████████| 106/106 [00:12<00:00,  8.64it/s]\n",
      "100%|██████████| 18/18 [00:00<00:00, 43.15it/s]\n",
      "100%|██████████| 53/53 [00:01<00:00, 43.26it/s]\n"
     ]
    },
    {
     "name": "stdout",
     "output_type": "stream",
     "text": [
      "Epoch:685/1000.. Train Loss: 0.149.. Val Loss: 0.227.. Test Loss: 0.204.. Time: 0.23m\n"
     ]
    },
    {
     "name": "stderr",
     "output_type": "stream",
     "text": [
      "100%|██████████| 106/106 [00:12<00:00,  8.72it/s]\n",
      "100%|██████████| 18/18 [00:00<00:00, 43.11it/s]\n",
      "100%|██████████| 53/53 [00:01<00:00, 42.90it/s]\n"
     ]
    },
    {
     "name": "stdout",
     "output_type": "stream",
     "text": [
      "Epoch:686/1000.. Train Loss: 0.150.. Val Loss: 0.223.. Test Loss: 0.205.. Time: 0.23m\n"
     ]
    },
    {
     "name": "stderr",
     "output_type": "stream",
     "text": [
      "100%|██████████| 106/106 [00:12<00:00,  8.52it/s]\n",
      "100%|██████████| 18/18 [00:00<00:00, 41.82it/s]\n",
      "100%|██████████| 53/53 [00:01<00:00, 42.49it/s]\n"
     ]
    },
    {
     "name": "stdout",
     "output_type": "stream",
     "text": [
      "Epoch:687/1000.. Train Loss: 0.150.. Val Loss: 0.232.. Test Loss: 0.205.. Time: 0.24m\n"
     ]
    },
    {
     "name": "stderr",
     "output_type": "stream",
     "text": [
      "100%|██████████| 106/106 [00:12<00:00,  8.59it/s]\n",
      "100%|██████████| 18/18 [00:00<00:00, 42.67it/s]\n",
      "100%|██████████| 53/53 [00:01<00:00, 42.71it/s]\n"
     ]
    },
    {
     "name": "stdout",
     "output_type": "stream",
     "text": [
      "Epoch:688/1000.. Train Loss: 0.150.. Val Loss: 0.225.. Test Loss: 0.204.. Time: 0.23m\n"
     ]
    },
    {
     "name": "stderr",
     "output_type": "stream",
     "text": [
      "100%|██████████| 106/106 [00:12<00:00,  8.33it/s]\n",
      "100%|██████████| 18/18 [00:00<00:00, 42.70it/s]\n",
      "100%|██████████| 53/53 [00:01<00:00, 42.77it/s]\n"
     ]
    },
    {
     "name": "stdout",
     "output_type": "stream",
     "text": [
      "Epoch:689/1000.. Train Loss: 0.150.. Val Loss: 0.223.. Test Loss: 0.205.. Time: 0.24m\n"
     ]
    },
    {
     "name": "stderr",
     "output_type": "stream",
     "text": [
      "100%|██████████| 106/106 [00:12<00:00,  8.42it/s]\n",
      "100%|██████████| 18/18 [00:00<00:00, 42.55it/s]\n",
      "100%|██████████| 53/53 [00:01<00:00, 42.63it/s]\n"
     ]
    },
    {
     "name": "stdout",
     "output_type": "stream",
     "text": [
      "Epoch:690/1000.. Train Loss: 0.151.. Val Loss: 0.225.. Test Loss: 0.205.. Time: 0.24m\n"
     ]
    },
    {
     "name": "stderr",
     "output_type": "stream",
     "text": [
      "100%|██████████| 106/106 [00:12<00:00,  8.48it/s]\n",
      "100%|██████████| 18/18 [00:00<00:00, 42.76it/s]\n",
      "100%|██████████| 53/53 [00:01<00:00, 42.55it/s]\n"
     ]
    },
    {
     "name": "stdout",
     "output_type": "stream",
     "text": [
      "Epoch:691/1000.. Train Loss: 0.149.. Val Loss: 0.225.. Test Loss: 0.205.. Time: 0.24m\n"
     ]
    },
    {
     "name": "stderr",
     "output_type": "stream",
     "text": [
      "100%|██████████| 106/106 [00:11<00:00,  8.86it/s]\n",
      "100%|██████████| 18/18 [00:00<00:00, 42.16it/s]\n",
      "100%|██████████| 53/53 [00:01<00:00, 41.61it/s]\n"
     ]
    },
    {
     "name": "stdout",
     "output_type": "stream",
     "text": [
      "Epoch:692/1000.. Train Loss: 0.149.. Val Loss: 0.223.. Test Loss: 0.205.. Time: 0.23m\n"
     ]
    },
    {
     "name": "stderr",
     "output_type": "stream",
     "text": [
      "100%|██████████| 106/106 [00:12<00:00,  8.71it/s]\n",
      "100%|██████████| 18/18 [00:00<00:00, 40.24it/s]\n",
      "100%|██████████| 53/53 [00:01<00:00, 42.14it/s]\n"
     ]
    },
    {
     "name": "stdout",
     "output_type": "stream",
     "text": [
      "Epoch:693/1000.. Train Loss: 0.149.. Val Loss: 0.227.. Test Loss: 0.205.. Time: 0.23m\n"
     ]
    },
    {
     "name": "stderr",
     "output_type": "stream",
     "text": [
      "100%|██████████| 106/106 [00:12<00:00,  8.38it/s]\n",
      "100%|██████████| 18/18 [00:00<00:00, 41.29it/s]\n",
      "100%|██████████| 53/53 [00:01<00:00, 42.88it/s]\n"
     ]
    },
    {
     "name": "stdout",
     "output_type": "stream",
     "text": [
      "Epoch:694/1000.. Train Loss: 0.149.. Val Loss: 0.225.. Test Loss: 0.204.. Time: 0.24m\n"
     ]
    },
    {
     "name": "stderr",
     "output_type": "stream",
     "text": [
      "100%|██████████| 106/106 [00:12<00:00,  8.35it/s]\n",
      "100%|██████████| 18/18 [00:00<00:00, 43.16it/s]\n",
      "100%|██████████| 53/53 [00:01<00:00, 42.85it/s]\n"
     ]
    },
    {
     "name": "stdout",
     "output_type": "stream",
     "text": [
      "Epoch:695/1000.. Train Loss: 0.150.. Val Loss: 0.230.. Test Loss: 0.206.. Time: 0.24m\n"
     ]
    },
    {
     "name": "stderr",
     "output_type": "stream",
     "text": [
      "100%|██████████| 106/106 [00:12<00:00,  8.78it/s]\n",
      "100%|██████████| 18/18 [00:00<00:00, 42.63it/s]\n",
      "100%|██████████| 53/53 [00:01<00:00, 41.21it/s]\n"
     ]
    },
    {
     "name": "stdout",
     "output_type": "stream",
     "text": [
      "Epoch:696/1000.. Train Loss: 0.152.. Val Loss: 0.227.. Test Loss: 0.205.. Time: 0.23m\n"
     ]
    },
    {
     "name": "stderr",
     "output_type": "stream",
     "text": [
      "100%|██████████| 106/106 [00:12<00:00,  8.43it/s]\n",
      "100%|██████████| 18/18 [00:00<00:00, 42.74it/s]\n",
      "100%|██████████| 53/53 [00:01<00:00, 42.83it/s]\n"
     ]
    },
    {
     "name": "stdout",
     "output_type": "stream",
     "text": [
      "Epoch:697/1000.. Train Loss: 0.149.. Val Loss: 0.226.. Test Loss: 0.205.. Time: 0.24m\n"
     ]
    },
    {
     "name": "stderr",
     "output_type": "stream",
     "text": [
      "100%|██████████| 106/106 [00:12<00:00,  8.74it/s]\n",
      "100%|██████████| 18/18 [00:00<00:00, 42.54it/s]\n",
      "100%|██████████| 53/53 [00:01<00:00, 42.39it/s]\n"
     ]
    },
    {
     "name": "stdout",
     "output_type": "stream",
     "text": [
      "Epoch:698/1000.. Train Loss: 0.150.. Val Loss: 0.228.. Test Loss: 0.205.. Time: 0.23m\n"
     ]
    },
    {
     "name": "stderr",
     "output_type": "stream",
     "text": [
      "100%|██████████| 106/106 [00:12<00:00,  8.64it/s]\n",
      "100%|██████████| 18/18 [00:00<00:00, 40.85it/s]\n",
      "100%|██████████| 53/53 [00:01<00:00, 41.87it/s]\n"
     ]
    },
    {
     "name": "stdout",
     "output_type": "stream",
     "text": [
      "Epoch:699/1000.. Train Loss: 0.151.. Val Loss: 0.231.. Test Loss: 0.205.. Time: 0.23m\n"
     ]
    },
    {
     "name": "stderr",
     "output_type": "stream",
     "text": [
      "100%|██████████| 106/106 [00:12<00:00,  8.50it/s]\n",
      "100%|██████████| 18/18 [00:00<00:00, 41.82it/s]\n",
      "100%|██████████| 53/53 [00:01<00:00, 42.65it/s]\n"
     ]
    },
    {
     "name": "stdout",
     "output_type": "stream",
     "text": [
      "Epoch:700/1000.. Train Loss: 0.151.. Val Loss: 0.225.. Test Loss: 0.205.. Time: 0.24m\n"
     ]
    },
    {
     "name": "stderr",
     "output_type": "stream",
     "text": [
      "100%|██████████| 106/106 [00:12<00:00,  8.64it/s]\n",
      "100%|██████████| 18/18 [00:00<00:00, 40.22it/s]\n",
      "100%|██████████| 53/53 [00:01<00:00, 42.12it/s]\n"
     ]
    },
    {
     "name": "stdout",
     "output_type": "stream",
     "text": [
      "Epoch:701/1000.. Train Loss: 0.151.. Val Loss: 0.231.. Test Loss: 0.205.. Time: 0.23m\n"
     ]
    },
    {
     "name": "stderr",
     "output_type": "stream",
     "text": [
      "100%|██████████| 106/106 [00:12<00:00,  8.67it/s]\n",
      "100%|██████████| 18/18 [00:00<00:00, 43.43it/s]\n",
      "100%|██████████| 53/53 [00:01<00:00, 43.50it/s]\n"
     ]
    },
    {
     "name": "stdout",
     "output_type": "stream",
     "text": [
      "Epoch:702/1000.. Train Loss: 0.149.. Val Loss: 0.231.. Test Loss: 0.205.. Time: 0.23m\n"
     ]
    },
    {
     "name": "stderr",
     "output_type": "stream",
     "text": [
      "100%|██████████| 106/106 [00:12<00:00,  8.71it/s]\n",
      "100%|██████████| 18/18 [00:00<00:00, 42.71it/s]\n",
      "100%|██████████| 53/53 [00:01<00:00, 42.89it/s]\n"
     ]
    },
    {
     "name": "stdout",
     "output_type": "stream",
     "text": [
      "Epoch:703/1000.. Train Loss: 0.149.. Val Loss: 0.223.. Test Loss: 0.205.. Time: 0.23m\n"
     ]
    },
    {
     "name": "stderr",
     "output_type": "stream",
     "text": [
      "100%|██████████| 106/106 [00:12<00:00,  8.55it/s]\n",
      "100%|██████████| 18/18 [00:00<00:00, 40.38it/s]\n",
      "100%|██████████| 53/53 [00:01<00:00, 40.48it/s]\n"
     ]
    },
    {
     "name": "stdout",
     "output_type": "stream",
     "text": [
      "Epoch:704/1000.. Train Loss: 0.150.. Val Loss: 0.231.. Test Loss: 0.204.. Time: 0.24m\n"
     ]
    },
    {
     "name": "stderr",
     "output_type": "stream",
     "text": [
      "100%|██████████| 106/106 [00:12<00:00,  8.60it/s]\n",
      "100%|██████████| 18/18 [00:00<00:00, 40.84it/s]\n",
      "100%|██████████| 53/53 [00:01<00:00, 41.52it/s]\n"
     ]
    },
    {
     "name": "stdout",
     "output_type": "stream",
     "text": [
      "Epoch:705/1000.. Train Loss: 0.151.. Val Loss: 0.225.. Test Loss: 0.205.. Time: 0.24m\n"
     ]
    },
    {
     "name": "stderr",
     "output_type": "stream",
     "text": [
      "100%|██████████| 106/106 [00:12<00:00,  8.49it/s]\n",
      "100%|██████████| 18/18 [00:00<00:00, 42.05it/s]\n",
      "100%|██████████| 53/53 [00:01<00:00, 42.07it/s]\n"
     ]
    },
    {
     "name": "stdout",
     "output_type": "stream",
     "text": [
      "Epoch:706/1000.. Train Loss: 0.151.. Val Loss: 0.225.. Test Loss: 0.204.. Time: 0.24m\n"
     ]
    },
    {
     "name": "stderr",
     "output_type": "stream",
     "text": [
      "100%|██████████| 106/106 [00:12<00:00,  8.41it/s]\n",
      "100%|██████████| 18/18 [00:00<00:00, 42.91it/s]\n",
      "100%|██████████| 53/53 [00:01<00:00, 42.76it/s]\n"
     ]
    },
    {
     "name": "stdout",
     "output_type": "stream",
     "text": [
      "Epoch:707/1000.. Train Loss: 0.150.. Val Loss: 0.223.. Test Loss: 0.205.. Time: 0.24m\n"
     ]
    },
    {
     "name": "stderr",
     "output_type": "stream",
     "text": [
      "100%|██████████| 106/106 [00:12<00:00,  8.64it/s]\n",
      "100%|██████████| 18/18 [00:00<00:00, 43.01it/s]\n",
      "100%|██████████| 53/53 [00:01<00:00, 42.97it/s]\n"
     ]
    },
    {
     "name": "stdout",
     "output_type": "stream",
     "text": [
      "Epoch:708/1000.. Train Loss: 0.150.. Val Loss: 0.232.. Test Loss: 0.204.. Time: 0.23m\n"
     ]
    },
    {
     "name": "stderr",
     "output_type": "stream",
     "text": [
      "100%|██████████| 106/106 [00:12<00:00,  8.55it/s]\n",
      "100%|██████████| 18/18 [00:00<00:00, 42.81it/s]\n",
      "100%|██████████| 53/53 [00:01<00:00, 42.08it/s]\n"
     ]
    },
    {
     "name": "stdout",
     "output_type": "stream",
     "text": [
      "Epoch:709/1000.. Train Loss: 0.152.. Val Loss: 0.231.. Test Loss: 0.205.. Time: 0.24m\n"
     ]
    },
    {
     "name": "stderr",
     "output_type": "stream",
     "text": [
      "100%|██████████| 106/106 [00:11<00:00,  8.91it/s]\n",
      "100%|██████████| 18/18 [00:00<00:00, 41.99it/s]\n",
      "100%|██████████| 53/53 [00:01<00:00, 42.06it/s]\n"
     ]
    },
    {
     "name": "stdout",
     "output_type": "stream",
     "text": [
      "Epoch:710/1000.. Train Loss: 0.149.. Val Loss: 0.225.. Test Loss: 0.205.. Time: 0.23m\n"
     ]
    },
    {
     "name": "stderr",
     "output_type": "stream",
     "text": [
      "100%|██████████| 106/106 [00:12<00:00,  8.48it/s]\n",
      "100%|██████████| 18/18 [00:00<00:00, 42.13it/s]\n",
      "100%|██████████| 53/53 [00:01<00:00, 42.11it/s]\n"
     ]
    },
    {
     "name": "stdout",
     "output_type": "stream",
     "text": [
      "Epoch:711/1000.. Train Loss: 0.149.. Val Loss: 0.228.. Test Loss: 0.205.. Time: 0.24m\n"
     ]
    },
    {
     "name": "stderr",
     "output_type": "stream",
     "text": [
      "100%|██████████| 106/106 [00:12<00:00,  8.68it/s]\n",
      "100%|██████████| 18/18 [00:00<00:00, 42.66it/s]\n",
      "100%|██████████| 53/53 [00:01<00:00, 42.62it/s]\n"
     ]
    },
    {
     "name": "stdout",
     "output_type": "stream",
     "text": [
      "Epoch:712/1000.. Train Loss: 0.150.. Val Loss: 0.225.. Test Loss: 0.206.. Time: 0.23m\n"
     ]
    },
    {
     "name": "stderr",
     "output_type": "stream",
     "text": [
      "100%|██████████| 106/106 [00:12<00:00,  8.74it/s]\n",
      "100%|██████████| 18/18 [00:00<00:00, 42.17it/s]\n",
      "100%|██████████| 53/53 [00:01<00:00, 42.06it/s]\n"
     ]
    },
    {
     "name": "stdout",
     "output_type": "stream",
     "text": [
      "Epoch:713/1000.. Train Loss: 0.149.. Val Loss: 0.224.. Test Loss: 0.205.. Time: 0.23m\n"
     ]
    },
    {
     "name": "stderr",
     "output_type": "stream",
     "text": [
      "100%|██████████| 106/106 [00:12<00:00,  8.54it/s]\n",
      "100%|██████████| 18/18 [00:00<00:00, 42.54it/s]\n",
      "100%|██████████| 53/53 [00:01<00:00, 42.63it/s]\n"
     ]
    },
    {
     "name": "stdout",
     "output_type": "stream",
     "text": [
      "Epoch:714/1000.. Train Loss: 0.149.. Val Loss: 0.223.. Test Loss: 0.205.. Time: 0.24m\n"
     ]
    },
    {
     "name": "stderr",
     "output_type": "stream",
     "text": [
      "100%|██████████| 106/106 [00:12<00:00,  8.55it/s]\n",
      "100%|██████████| 18/18 [00:00<00:00, 41.80it/s]\n",
      "100%|██████████| 53/53 [00:01<00:00, 42.04it/s]\n"
     ]
    },
    {
     "name": "stdout",
     "output_type": "stream",
     "text": [
      "Epoch:715/1000.. Train Loss: 0.149.. Val Loss: 0.226.. Test Loss: 0.205.. Time: 0.24m\n"
     ]
    },
    {
     "name": "stderr",
     "output_type": "stream",
     "text": [
      "100%|██████████| 106/106 [00:12<00:00,  8.49it/s]\n",
      "100%|██████████| 18/18 [00:00<00:00, 42.18it/s]\n",
      "100%|██████████| 53/53 [00:01<00:00, 41.64it/s]\n"
     ]
    },
    {
     "name": "stdout",
     "output_type": "stream",
     "text": [
      "Epoch:716/1000.. Train Loss: 0.151.. Val Loss: 0.227.. Test Loss: 0.204.. Time: 0.24m\n"
     ]
    },
    {
     "name": "stderr",
     "output_type": "stream",
     "text": [
      "100%|██████████| 106/106 [00:12<00:00,  8.56it/s]\n",
      "100%|██████████| 18/18 [00:00<00:00, 40.41it/s]\n",
      "100%|██████████| 53/53 [00:01<00:00, 42.35it/s]\n"
     ]
    },
    {
     "name": "stdout",
     "output_type": "stream",
     "text": [
      "Epoch:717/1000.. Train Loss: 0.150.. Val Loss: 0.226.. Test Loss: 0.206.. Time: 0.24m\n"
     ]
    },
    {
     "name": "stderr",
     "output_type": "stream",
     "text": [
      "100%|██████████| 106/106 [00:12<00:00,  8.68it/s]\n",
      "100%|██████████| 18/18 [00:00<00:00, 43.11it/s]\n",
      "100%|██████████| 53/53 [00:01<00:00, 43.07it/s]\n"
     ]
    },
    {
     "name": "stdout",
     "output_type": "stream",
     "text": [
      "Epoch:718/1000.. Train Loss: 0.149.. Val Loss: 0.225.. Test Loss: 0.204.. Time: 0.23m\n"
     ]
    },
    {
     "name": "stderr",
     "output_type": "stream",
     "text": [
      "100%|██████████| 106/106 [00:12<00:00,  8.58it/s]\n",
      "100%|██████████| 18/18 [00:00<00:00, 41.78it/s]\n",
      "100%|██████████| 53/53 [00:01<00:00, 42.68it/s]\n"
     ]
    },
    {
     "name": "stdout",
     "output_type": "stream",
     "text": [
      "Epoch:719/1000.. Train Loss: 0.151.. Val Loss: 0.227.. Test Loss: 0.204.. Time: 0.23m\n"
     ]
    },
    {
     "name": "stderr",
     "output_type": "stream",
     "text": [
      "100%|██████████| 106/106 [00:12<00:00,  8.82it/s]\n",
      "100%|██████████| 18/18 [00:00<00:00, 42.79it/s]\n",
      "100%|██████████| 53/53 [00:01<00:00, 42.66it/s]\n"
     ]
    },
    {
     "name": "stdout",
     "output_type": "stream",
     "text": [
      "Epoch:720/1000.. Train Loss: 0.152.. Val Loss: 0.225.. Test Loss: 0.205.. Time: 0.23m\n"
     ]
    },
    {
     "name": "stderr",
     "output_type": "stream",
     "text": [
      "100%|██████████| 106/106 [00:12<00:00,  8.53it/s]\n",
      "100%|██████████| 18/18 [00:00<00:00, 42.73it/s]\n",
      "100%|██████████| 53/53 [00:01<00:00, 42.74it/s]\n"
     ]
    },
    {
     "name": "stdout",
     "output_type": "stream",
     "text": [
      "Epoch:721/1000.. Train Loss: 0.151.. Val Loss: 0.231.. Test Loss: 0.205.. Time: 0.24m\n"
     ]
    },
    {
     "name": "stderr",
     "output_type": "stream",
     "text": [
      "100%|██████████| 106/106 [00:12<00:00,  8.81it/s]\n",
      "100%|██████████| 18/18 [00:00<00:00, 42.66it/s]\n",
      "100%|██████████| 53/53 [00:01<00:00, 42.60it/s]\n"
     ]
    },
    {
     "name": "stdout",
     "output_type": "stream",
     "text": [
      "Epoch:722/1000.. Train Loss: 0.150.. Val Loss: 0.225.. Test Loss: 0.206.. Time: 0.23m\n"
     ]
    },
    {
     "name": "stderr",
     "output_type": "stream",
     "text": [
      "100%|██████████| 106/106 [00:12<00:00,  8.73it/s]\n",
      "100%|██████████| 18/18 [00:00<00:00, 42.67it/s]\n",
      "100%|██████████| 53/53 [00:01<00:00, 42.18it/s]\n"
     ]
    },
    {
     "name": "stdout",
     "output_type": "stream",
     "text": [
      "Epoch:723/1000.. Train Loss: 0.151.. Val Loss: 0.225.. Test Loss: 0.205.. Time: 0.23m\n"
     ]
    },
    {
     "name": "stderr",
     "output_type": "stream",
     "text": [
      "100%|██████████| 106/106 [00:12<00:00,  8.55it/s]\n",
      "100%|██████████| 18/18 [00:00<00:00, 40.28it/s]\n",
      "100%|██████████| 53/53 [00:01<00:00, 41.96it/s]\n"
     ]
    },
    {
     "name": "stdout",
     "output_type": "stream",
     "text": [
      "Epoch:724/1000.. Train Loss: 0.149.. Val Loss: 0.226.. Test Loss: 0.205.. Time: 0.24m\n"
     ]
    },
    {
     "name": "stderr",
     "output_type": "stream",
     "text": [
      "100%|██████████| 106/106 [00:12<00:00,  8.77it/s]\n",
      "100%|██████████| 18/18 [00:00<00:00, 42.17it/s]\n",
      "100%|██████████| 53/53 [00:01<00:00, 42.10it/s]\n"
     ]
    },
    {
     "name": "stdout",
     "output_type": "stream",
     "text": [
      "Epoch:725/1000.. Train Loss: 0.150.. Val Loss: 0.225.. Test Loss: 0.205.. Time: 0.23m\n"
     ]
    },
    {
     "name": "stderr",
     "output_type": "stream",
     "text": [
      "100%|██████████| 106/106 [00:12<00:00,  8.74it/s]\n",
      "100%|██████████| 18/18 [00:00<00:00, 42.48it/s]\n",
      "100%|██████████| 53/53 [00:01<00:00, 42.56it/s]\n"
     ]
    },
    {
     "name": "stdout",
     "output_type": "stream",
     "text": [
      "Epoch:726/1000.. Train Loss: 0.149.. Val Loss: 0.232.. Test Loss: 0.205.. Time: 0.23m\n"
     ]
    },
    {
     "name": "stderr",
     "output_type": "stream",
     "text": [
      "100%|██████████| 106/106 [00:12<00:00,  8.59it/s]\n",
      "100%|██████████| 18/18 [00:00<00:00, 42.21it/s]\n",
      "100%|██████████| 53/53 [00:01<00:00, 42.11it/s]\n"
     ]
    },
    {
     "name": "stdout",
     "output_type": "stream",
     "text": [
      "Epoch:727/1000.. Train Loss: 0.149.. Val Loss: 0.225.. Test Loss: 0.204.. Time: 0.23m\n"
     ]
    },
    {
     "name": "stderr",
     "output_type": "stream",
     "text": [
      "100%|██████████| 106/106 [00:12<00:00,  8.66it/s]\n",
      "100%|██████████| 18/18 [00:00<00:00, 42.36it/s]\n",
      "100%|██████████| 53/53 [00:01<00:00, 42.63it/s]\n"
     ]
    },
    {
     "name": "stdout",
     "output_type": "stream",
     "text": [
      "Epoch:728/1000.. Train Loss: 0.151.. Val Loss: 0.224.. Test Loss: 0.205.. Time: 0.23m\n"
     ]
    },
    {
     "name": "stderr",
     "output_type": "stream",
     "text": [
      "100%|██████████| 106/106 [00:11<00:00,  8.86it/s]\n",
      "100%|██████████| 18/18 [00:00<00:00, 42.06it/s]\n",
      "100%|██████████| 53/53 [00:01<00:00, 42.15it/s]\n"
     ]
    },
    {
     "name": "stdout",
     "output_type": "stream",
     "text": [
      "Epoch:729/1000.. Train Loss: 0.152.. Val Loss: 0.227.. Test Loss: 0.204.. Time: 0.23m\n"
     ]
    },
    {
     "name": "stderr",
     "output_type": "stream",
     "text": [
      "100%|██████████| 106/106 [00:12<00:00,  8.79it/s]\n",
      "100%|██████████| 18/18 [00:00<00:00, 39.55it/s]\n",
      "100%|██████████| 53/53 [00:01<00:00, 41.17it/s]\n"
     ]
    },
    {
     "name": "stdout",
     "output_type": "stream",
     "text": [
      "Epoch:730/1000.. Train Loss: 0.149.. Val Loss: 0.232.. Test Loss: 0.205.. Time: 0.23m\n"
     ]
    },
    {
     "name": "stderr",
     "output_type": "stream",
     "text": [
      "100%|██████████| 106/106 [00:12<00:00,  8.39it/s]\n",
      "100%|██████████| 18/18 [00:00<00:00, 42.84it/s]\n",
      "100%|██████████| 53/53 [00:01<00:00, 43.04it/s]\n"
     ]
    },
    {
     "name": "stdout",
     "output_type": "stream",
     "text": [
      "Epoch:731/1000.. Train Loss: 0.149.. Val Loss: 0.232.. Test Loss: 0.205.. Time: 0.24m\n"
     ]
    },
    {
     "name": "stderr",
     "output_type": "stream",
     "text": [
      "100%|██████████| 106/106 [00:11<00:00,  8.92it/s]\n",
      "100%|██████████| 18/18 [00:00<00:00, 42.55it/s]\n",
      "100%|██████████| 53/53 [00:01<00:00, 43.18it/s]\n"
     ]
    },
    {
     "name": "stdout",
     "output_type": "stream",
     "text": [
      "Epoch:732/1000.. Train Loss: 0.150.. Val Loss: 0.227.. Test Loss: 0.206.. Time: 0.23m\n"
     ]
    },
    {
     "name": "stderr",
     "output_type": "stream",
     "text": [
      "100%|██████████| 106/106 [00:12<00:00,  8.62it/s]\n",
      "100%|██████████| 18/18 [00:00<00:00, 42.34it/s]\n",
      "100%|██████████| 53/53 [00:01<00:00, 43.24it/s]\n"
     ]
    },
    {
     "name": "stdout",
     "output_type": "stream",
     "text": [
      "Epoch:733/1000.. Train Loss: 0.150.. Val Loss: 0.225.. Test Loss: 0.206.. Time: 0.23m\n"
     ]
    },
    {
     "name": "stderr",
     "output_type": "stream",
     "text": [
      "100%|██████████| 106/106 [00:12<00:00,  8.81it/s]\n",
      "100%|██████████| 18/18 [00:00<00:00, 42.81it/s]\n",
      "100%|██████████| 53/53 [00:01<00:00, 42.71it/s]\n"
     ]
    },
    {
     "name": "stdout",
     "output_type": "stream",
     "text": [
      "Epoch:734/1000.. Train Loss: 0.150.. Val Loss: 0.226.. Test Loss: 0.205.. Time: 0.23m\n"
     ]
    },
    {
     "name": "stderr",
     "output_type": "stream",
     "text": [
      "100%|██████████| 106/106 [00:12<00:00,  8.61it/s]\n",
      "100%|██████████| 18/18 [00:00<00:00, 42.70it/s]\n",
      "100%|██████████| 53/53 [00:01<00:00, 42.64it/s]\n"
     ]
    },
    {
     "name": "stdout",
     "output_type": "stream",
     "text": [
      "Epoch:735/1000.. Train Loss: 0.151.. Val Loss: 0.227.. Test Loss: 0.205.. Time: 0.23m\n"
     ]
    },
    {
     "name": "stderr",
     "output_type": "stream",
     "text": [
      "100%|██████████| 106/106 [00:12<00:00,  8.58it/s]\n",
      "100%|██████████| 18/18 [00:00<00:00, 42.60it/s]\n",
      "100%|██████████| 53/53 [00:01<00:00, 42.70it/s]\n"
     ]
    },
    {
     "name": "stdout",
     "output_type": "stream",
     "text": [
      "Epoch:736/1000.. Train Loss: 0.150.. Val Loss: 0.226.. Test Loss: 0.205.. Time: 0.23m\n"
     ]
    },
    {
     "name": "stderr",
     "output_type": "stream",
     "text": [
      "100%|██████████| 106/106 [00:12<00:00,  8.60it/s]\n",
      "100%|██████████| 18/18 [00:00<00:00, 42.17it/s]\n",
      "100%|██████████| 53/53 [00:01<00:00, 42.24it/s]\n"
     ]
    },
    {
     "name": "stdout",
     "output_type": "stream",
     "text": [
      "Epoch:737/1000.. Train Loss: 0.150.. Val Loss: 0.232.. Test Loss: 0.205.. Time: 0.23m\n"
     ]
    },
    {
     "name": "stderr",
     "output_type": "stream",
     "text": [
      "100%|██████████| 106/106 [00:10<00:00,  9.78it/s]\n",
      "100%|██████████| 18/18 [00:00<00:00, 42.16it/s]\n",
      "100%|██████████| 53/53 [00:01<00:00, 42.03it/s]\n"
     ]
    },
    {
     "name": "stdout",
     "output_type": "stream",
     "text": [
      "Epoch:738/1000.. Train Loss: 0.149.. Val Loss: 0.228.. Test Loss: 0.205.. Time: 0.21m\n"
     ]
    },
    {
     "name": "stderr",
     "output_type": "stream",
     "text": [
      "100%|██████████| 106/106 [00:12<00:00,  8.74it/s]\n",
      "100%|██████████| 18/18 [00:00<00:00, 43.06it/s]\n",
      "100%|██████████| 53/53 [00:01<00:00, 42.75it/s]\n"
     ]
    },
    {
     "name": "stdout",
     "output_type": "stream",
     "text": [
      "Epoch:739/1000.. Train Loss: 0.149.. Val Loss: 0.227.. Test Loss: 0.206.. Time: 0.23m\n"
     ]
    },
    {
     "name": "stderr",
     "output_type": "stream",
     "text": [
      "100%|██████████| 106/106 [00:12<00:00,  8.56it/s]\n",
      "100%|██████████| 18/18 [00:00<00:00, 43.11it/s]\n",
      "100%|██████████| 53/53 [00:01<00:00, 43.26it/s]\n"
     ]
    },
    {
     "name": "stdout",
     "output_type": "stream",
     "text": [
      "Epoch:740/1000.. Train Loss: 0.149.. Val Loss: 0.225.. Test Loss: 0.205.. Time: 0.23m\n"
     ]
    },
    {
     "name": "stderr",
     "output_type": "stream",
     "text": [
      "100%|██████████| 106/106 [00:12<00:00,  8.76it/s]\n",
      "100%|██████████| 18/18 [00:00<00:00, 42.95it/s]\n",
      "100%|██████████| 53/53 [00:01<00:00, 42.73it/s]\n"
     ]
    },
    {
     "name": "stdout",
     "output_type": "stream",
     "text": [
      "Epoch:741/1000.. Train Loss: 0.149.. Val Loss: 0.227.. Test Loss: 0.206.. Time: 0.23m\n"
     ]
    },
    {
     "name": "stderr",
     "output_type": "stream",
     "text": [
      "100%|██████████| 106/106 [00:12<00:00,  8.56it/s]\n",
      "100%|██████████| 18/18 [00:00<00:00, 42.68it/s]\n",
      "100%|██████████| 53/53 [00:01<00:00, 42.66it/s]\n"
     ]
    },
    {
     "name": "stdout",
     "output_type": "stream",
     "text": [
      "Epoch:742/1000.. Train Loss: 0.150.. Val Loss: 0.227.. Test Loss: 0.205.. Time: 0.24m\n"
     ]
    },
    {
     "name": "stderr",
     "output_type": "stream",
     "text": [
      "100%|██████████| 106/106 [00:12<00:00,  8.40it/s]\n",
      "100%|██████████| 18/18 [00:00<00:00, 41.49it/s]\n",
      "100%|██████████| 53/53 [00:01<00:00, 41.95it/s]\n"
     ]
    },
    {
     "name": "stdout",
     "output_type": "stream",
     "text": [
      "Epoch:743/1000.. Train Loss: 0.149.. Val Loss: 0.231.. Test Loss: 0.204.. Time: 0.24m\n"
     ]
    },
    {
     "name": "stderr",
     "output_type": "stream",
     "text": [
      "100%|██████████| 106/106 [00:11<00:00,  8.87it/s]\n",
      "100%|██████████| 18/18 [00:00<00:00, 43.17it/s]\n",
      "100%|██████████| 53/53 [00:01<00:00, 43.19it/s]\n"
     ]
    },
    {
     "name": "stdout",
     "output_type": "stream",
     "text": [
      "Epoch:744/1000.. Train Loss: 0.151.. Val Loss: 0.226.. Test Loss: 0.205.. Time: 0.23m\n"
     ]
    },
    {
     "name": "stderr",
     "output_type": "stream",
     "text": [
      "100%|██████████| 106/106 [00:12<00:00,  8.67it/s]\n",
      "100%|██████████| 18/18 [00:00<00:00, 42.51it/s]\n",
      "100%|██████████| 53/53 [00:01<00:00, 42.66it/s]\n"
     ]
    },
    {
     "name": "stdout",
     "output_type": "stream",
     "text": [
      "Epoch:745/1000.. Train Loss: 0.149.. Val Loss: 0.230.. Test Loss: 0.205.. Time: 0.23m\n"
     ]
    },
    {
     "name": "stderr",
     "output_type": "stream",
     "text": [
      "100%|██████████| 106/106 [00:12<00:00,  8.76it/s]\n",
      "100%|██████████| 18/18 [00:00<00:00, 40.88it/s]\n",
      "100%|██████████| 53/53 [00:01<00:00, 41.85it/s]\n"
     ]
    },
    {
     "name": "stdout",
     "output_type": "stream",
     "text": [
      "Epoch:746/1000.. Train Loss: 0.151.. Val Loss: 0.226.. Test Loss: 0.205.. Time: 0.23m\n"
     ]
    },
    {
     "name": "stderr",
     "output_type": "stream",
     "text": [
      "100%|██████████| 106/106 [00:12<00:00,  8.72it/s]\n",
      "100%|██████████| 18/18 [00:00<00:00, 42.93it/s]\n",
      "100%|██████████| 53/53 [00:01<00:00, 43.18it/s]\n"
     ]
    },
    {
     "name": "stdout",
     "output_type": "stream",
     "text": [
      "Epoch:747/1000.. Train Loss: 0.149.. Val Loss: 0.227.. Test Loss: 0.205.. Time: 0.23m\n"
     ]
    },
    {
     "name": "stderr",
     "output_type": "stream",
     "text": [
      "100%|██████████| 106/106 [00:11<00:00,  8.99it/s]\n",
      "100%|██████████| 18/18 [00:00<00:00, 42.74it/s]\n",
      "100%|██████████| 53/53 [00:01<00:00, 42.59it/s]\n"
     ]
    },
    {
     "name": "stdout",
     "output_type": "stream",
     "text": [
      "Epoch:748/1000.. Train Loss: 0.151.. Val Loss: 0.225.. Test Loss: 0.205.. Time: 0.22m\n"
     ]
    },
    {
     "name": "stderr",
     "output_type": "stream",
     "text": [
      "100%|██████████| 106/106 [00:12<00:00,  8.81it/s]\n",
      "100%|██████████| 18/18 [00:00<00:00, 42.97it/s]\n",
      "100%|██████████| 53/53 [00:01<00:00, 42.88it/s]\n"
     ]
    },
    {
     "name": "stdout",
     "output_type": "stream",
     "text": [
      "Epoch:749/1000.. Train Loss: 0.149.. Val Loss: 0.224.. Test Loss: 0.205.. Time: 0.23m\n"
     ]
    },
    {
     "name": "stderr",
     "output_type": "stream",
     "text": [
      "100%|██████████| 106/106 [00:12<00:00,  8.78it/s]\n",
      "100%|██████████| 18/18 [00:00<00:00, 40.56it/s]\n",
      "100%|██████████| 53/53 [00:01<00:00, 42.39it/s]\n"
     ]
    },
    {
     "name": "stdout",
     "output_type": "stream",
     "text": [
      "Epoch:750/1000.. Train Loss: 0.152.. Val Loss: 0.226.. Test Loss: 0.206.. Time: 0.23m\n"
     ]
    },
    {
     "name": "stderr",
     "output_type": "stream",
     "text": [
      "100%|██████████| 106/106 [00:12<00:00,  8.40it/s]\n",
      "100%|██████████| 18/18 [00:00<00:00, 43.54it/s]\n",
      "100%|██████████| 53/53 [00:01<00:00, 43.56it/s]\n"
     ]
    },
    {
     "name": "stdout",
     "output_type": "stream",
     "text": [
      "Epoch:751/1000.. Train Loss: 0.151.. Val Loss: 0.225.. Test Loss: 0.205.. Time: 0.24m\n"
     ]
    },
    {
     "name": "stderr",
     "output_type": "stream",
     "text": [
      "100%|██████████| 106/106 [00:12<00:00,  8.60it/s]\n",
      "100%|██████████| 18/18 [00:00<00:00, 42.82it/s]\n",
      "100%|██████████| 53/53 [00:01<00:00, 42.87it/s]\n"
     ]
    },
    {
     "name": "stdout",
     "output_type": "stream",
     "text": [
      "Epoch:752/1000.. Train Loss: 0.151.. Val Loss: 0.228.. Test Loss: 0.205.. Time: 0.23m\n"
     ]
    },
    {
     "name": "stderr",
     "output_type": "stream",
     "text": [
      "100%|██████████| 106/106 [00:12<00:00,  8.79it/s]\n",
      "100%|██████████| 18/18 [00:00<00:00, 42.95it/s]\n",
      "100%|██████████| 53/53 [00:01<00:00, 43.00it/s]\n"
     ]
    },
    {
     "name": "stdout",
     "output_type": "stream",
     "text": [
      "Epoch:753/1000.. Train Loss: 0.151.. Val Loss: 0.231.. Test Loss: 0.204.. Time: 0.23m\n"
     ]
    },
    {
     "name": "stderr",
     "output_type": "stream",
     "text": [
      "100%|██████████| 106/106 [00:11<00:00,  8.85it/s]\n",
      "100%|██████████| 18/18 [00:00<00:00, 41.22it/s]\n",
      "100%|██████████| 53/53 [00:01<00:00, 42.30it/s]\n"
     ]
    },
    {
     "name": "stdout",
     "output_type": "stream",
     "text": [
      "Epoch:754/1000.. Train Loss: 0.149.. Val Loss: 0.224.. Test Loss: 0.206.. Time: 0.23m\n"
     ]
    },
    {
     "name": "stderr",
     "output_type": "stream",
     "text": [
      "100%|██████████| 106/106 [00:12<00:00,  8.72it/s]\n",
      "100%|██████████| 18/18 [00:00<00:00, 42.72it/s]\n",
      "100%|██████████| 53/53 [00:01<00:00, 42.24it/s]\n"
     ]
    },
    {
     "name": "stdout",
     "output_type": "stream",
     "text": [
      "Epoch:755/1000.. Train Loss: 0.150.. Val Loss: 0.226.. Test Loss: 0.205.. Time: 0.23m\n"
     ]
    },
    {
     "name": "stderr",
     "output_type": "stream",
     "text": [
      "100%|██████████| 106/106 [00:12<00:00,  8.80it/s]\n",
      "100%|██████████| 18/18 [00:00<00:00, 42.31it/s]\n",
      "100%|██████████| 53/53 [00:01<00:00, 42.10it/s]\n"
     ]
    },
    {
     "name": "stdout",
     "output_type": "stream",
     "text": [
      "Epoch:756/1000.. Train Loss: 0.149.. Val Loss: 0.226.. Test Loss: 0.206.. Time: 0.23m\n"
     ]
    },
    {
     "name": "stderr",
     "output_type": "stream",
     "text": [
      "100%|██████████| 106/106 [00:12<00:00,  8.59it/s]\n",
      "100%|██████████| 18/18 [00:00<00:00, 42.77it/s]\n",
      "100%|██████████| 53/53 [00:01<00:00, 40.71it/s]\n"
     ]
    },
    {
     "name": "stdout",
     "output_type": "stream",
     "text": [
      "Epoch:757/1000.. Train Loss: 0.151.. Val Loss: 0.225.. Test Loss: 0.205.. Time: 0.24m\n"
     ]
    },
    {
     "name": "stderr",
     "output_type": "stream",
     "text": [
      "100%|██████████| 106/106 [00:11<00:00,  8.85it/s]\n",
      "100%|██████████| 18/18 [00:00<00:00, 43.18it/s]\n",
      "100%|██████████| 53/53 [00:01<00:00, 43.24it/s]\n"
     ]
    },
    {
     "name": "stdout",
     "output_type": "stream",
     "text": [
      "Epoch:758/1000.. Train Loss: 0.150.. Val Loss: 0.224.. Test Loss: 0.204.. Time: 0.23m\n"
     ]
    },
    {
     "name": "stderr",
     "output_type": "stream",
     "text": [
      "100%|██████████| 106/106 [00:12<00:00,  8.69it/s]\n",
      "100%|██████████| 18/18 [00:00<00:00, 41.78it/s]\n",
      "100%|██████████| 53/53 [00:01<00:00, 42.69it/s]\n"
     ]
    },
    {
     "name": "stdout",
     "output_type": "stream",
     "text": [
      "Epoch:759/1000.. Train Loss: 0.150.. Val Loss: 0.225.. Test Loss: 0.205.. Time: 0.23m\n"
     ]
    },
    {
     "name": "stderr",
     "output_type": "stream",
     "text": [
      "100%|██████████| 106/106 [00:12<00:00,  8.78it/s]\n",
      "100%|██████████| 18/18 [00:00<00:00, 43.38it/s]\n",
      "100%|██████████| 53/53 [00:01<00:00, 43.48it/s]\n"
     ]
    },
    {
     "name": "stdout",
     "output_type": "stream",
     "text": [
      "Epoch:760/1000.. Train Loss: 0.150.. Val Loss: 0.225.. Test Loss: 0.206.. Time: 0.23m\n"
     ]
    },
    {
     "name": "stderr",
     "output_type": "stream",
     "text": [
      "100%|██████████| 106/106 [00:12<00:00,  8.69it/s]\n",
      "100%|██████████| 18/18 [00:00<00:00, 42.91it/s]\n",
      "100%|██████████| 53/53 [00:01<00:00, 42.88it/s]\n"
     ]
    },
    {
     "name": "stdout",
     "output_type": "stream",
     "text": [
      "Epoch:761/1000.. Train Loss: 0.149.. Val Loss: 0.227.. Test Loss: 0.205.. Time: 0.23m\n"
     ]
    },
    {
     "name": "stderr",
     "output_type": "stream",
     "text": [
      "100%|██████████| 106/106 [00:12<00:00,  8.78it/s]\n",
      "100%|██████████| 18/18 [00:00<00:00, 42.93it/s]\n",
      "100%|██████████| 53/53 [00:01<00:00, 42.78it/s]\n"
     ]
    },
    {
     "name": "stdout",
     "output_type": "stream",
     "text": [
      "Epoch:762/1000.. Train Loss: 0.152.. Val Loss: 0.225.. Test Loss: 0.205.. Time: 0.23m\n"
     ]
    },
    {
     "name": "stderr",
     "output_type": "stream",
     "text": [
      "100%|██████████| 106/106 [00:12<00:00,  8.70it/s]\n",
      "100%|██████████| 18/18 [00:00<00:00, 43.09it/s]\n",
      "100%|██████████| 53/53 [00:01<00:00, 42.87it/s]\n"
     ]
    },
    {
     "name": "stdout",
     "output_type": "stream",
     "text": [
      "Epoch:763/1000.. Train Loss: 0.151.. Val Loss: 0.227.. Test Loss: 0.205.. Time: 0.23m\n"
     ]
    },
    {
     "name": "stderr",
     "output_type": "stream",
     "text": [
      "100%|██████████| 106/106 [00:12<00:00,  8.78it/s]\n",
      "100%|██████████| 18/18 [00:00<00:00, 43.07it/s]\n",
      "100%|██████████| 53/53 [00:01<00:00, 42.89it/s]\n"
     ]
    },
    {
     "name": "stdout",
     "output_type": "stream",
     "text": [
      "Epoch:764/1000.. Train Loss: 0.149.. Val Loss: 0.226.. Test Loss: 0.205.. Time: 0.23m\n"
     ]
    },
    {
     "name": "stderr",
     "output_type": "stream",
     "text": [
      "100%|██████████| 106/106 [00:12<00:00,  8.64it/s]\n",
      "100%|██████████| 18/18 [00:00<00:00, 42.96it/s]\n",
      "100%|██████████| 53/53 [00:01<00:00, 42.86it/s]\n"
     ]
    },
    {
     "name": "stdout",
     "output_type": "stream",
     "text": [
      "Epoch:765/1000.. Train Loss: 0.149.. Val Loss: 0.223.. Test Loss: 0.205.. Time: 0.23m\n"
     ]
    },
    {
     "name": "stderr",
     "output_type": "stream",
     "text": [
      "100%|██████████| 106/106 [00:12<00:00,  8.79it/s]\n",
      "100%|██████████| 18/18 [00:00<00:00, 43.41it/s]\n",
      "100%|██████████| 53/53 [00:01<00:00, 43.59it/s]\n"
     ]
    },
    {
     "name": "stdout",
     "output_type": "stream",
     "text": [
      "Epoch:766/1000.. Train Loss: 0.150.. Val Loss: 0.226.. Test Loss: 0.205.. Time: 0.23m\n"
     ]
    },
    {
     "name": "stderr",
     "output_type": "stream",
     "text": [
      "100%|██████████| 106/106 [00:12<00:00,  8.75it/s]\n",
      "100%|██████████| 18/18 [00:00<00:00, 42.88it/s]\n",
      "100%|██████████| 53/53 [00:01<00:00, 43.00it/s]\n"
     ]
    },
    {
     "name": "stdout",
     "output_type": "stream",
     "text": [
      "Epoch:767/1000.. Train Loss: 0.151.. Val Loss: 0.231.. Test Loss: 0.205.. Time: 0.23m\n"
     ]
    },
    {
     "name": "stderr",
     "output_type": "stream",
     "text": [
      "100%|██████████| 106/106 [00:12<00:00,  8.76it/s]\n",
      "100%|██████████| 18/18 [00:00<00:00, 42.15it/s]\n",
      "100%|██████████| 53/53 [00:01<00:00, 42.59it/s]\n"
     ]
    },
    {
     "name": "stdout",
     "output_type": "stream",
     "text": [
      "Epoch:768/1000.. Train Loss: 0.149.. Val Loss: 0.227.. Test Loss: 0.205.. Time: 0.23m\n"
     ]
    },
    {
     "name": "stderr",
     "output_type": "stream",
     "text": [
      "100%|██████████| 106/106 [00:12<00:00,  8.68it/s]\n",
      "100%|██████████| 18/18 [00:00<00:00, 42.99it/s]\n",
      "100%|██████████| 53/53 [00:01<00:00, 42.80it/s]\n"
     ]
    },
    {
     "name": "stdout",
     "output_type": "stream",
     "text": [
      "Epoch:769/1000.. Train Loss: 0.151.. Val Loss: 0.229.. Test Loss: 0.205.. Time: 0.23m\n"
     ]
    },
    {
     "name": "stderr",
     "output_type": "stream",
     "text": [
      "100%|██████████| 106/106 [00:12<00:00,  8.77it/s]\n",
      "100%|██████████| 18/18 [00:00<00:00, 43.60it/s]\n",
      "100%|██████████| 53/53 [00:01<00:00, 43.58it/s]\n"
     ]
    },
    {
     "name": "stdout",
     "output_type": "stream",
     "text": [
      "Epoch:770/1000.. Train Loss: 0.151.. Val Loss: 0.225.. Test Loss: 0.206.. Time: 0.23m\n"
     ]
    },
    {
     "name": "stderr",
     "output_type": "stream",
     "text": [
      "100%|██████████| 106/106 [00:12<00:00,  8.64it/s]\n",
      "100%|██████████| 18/18 [00:00<00:00, 43.34it/s]\n",
      "100%|██████████| 53/53 [00:01<00:00, 43.47it/s]\n"
     ]
    },
    {
     "name": "stdout",
     "output_type": "stream",
     "text": [
      "Epoch:771/1000.. Train Loss: 0.149.. Val Loss: 0.223.. Test Loss: 0.205.. Time: 0.23m\n"
     ]
    },
    {
     "name": "stderr",
     "output_type": "stream",
     "text": [
      "100%|██████████| 106/106 [00:12<00:00,  8.63it/s]\n",
      "100%|██████████| 18/18 [00:00<00:00, 43.00it/s]\n",
      "100%|██████████| 53/53 [00:01<00:00, 42.95it/s]\n"
     ]
    },
    {
     "name": "stdout",
     "output_type": "stream",
     "text": [
      "Epoch:772/1000.. Train Loss: 0.150.. Val Loss: 0.227.. Test Loss: 0.205.. Time: 0.23m\n"
     ]
    },
    {
     "name": "stderr",
     "output_type": "stream",
     "text": [
      "100%|██████████| 106/106 [00:11<00:00,  8.86it/s]\n",
      "100%|██████████| 18/18 [00:00<00:00, 42.90it/s]\n",
      "100%|██████████| 53/53 [00:01<00:00, 43.12it/s]\n"
     ]
    },
    {
     "name": "stdout",
     "output_type": "stream",
     "text": [
      "Epoch:773/1000.. Train Loss: 0.151.. Val Loss: 0.226.. Test Loss: 0.205.. Time: 0.23m\n"
     ]
    },
    {
     "name": "stderr",
     "output_type": "stream",
     "text": [
      "100%|██████████| 106/106 [00:11<00:00,  8.91it/s]\n",
      "100%|██████████| 18/18 [00:00<00:00, 43.22it/s]\n",
      "100%|██████████| 53/53 [00:01<00:00, 42.98it/s]\n"
     ]
    },
    {
     "name": "stdout",
     "output_type": "stream",
     "text": [
      "Epoch:774/1000.. Train Loss: 0.151.. Val Loss: 0.228.. Test Loss: 0.204.. Time: 0.23m\n"
     ]
    },
    {
     "name": "stderr",
     "output_type": "stream",
     "text": [
      "100%|██████████| 106/106 [00:11<00:00,  8.88it/s]\n",
      "100%|██████████| 18/18 [00:00<00:00, 43.43it/s]\n",
      "100%|██████████| 53/53 [00:01<00:00, 43.54it/s]\n"
     ]
    },
    {
     "name": "stdout",
     "output_type": "stream",
     "text": [
      "Epoch:775/1000.. Train Loss: 0.150.. Val Loss: 0.224.. Test Loss: 0.205.. Time: 0.23m\n"
     ]
    },
    {
     "name": "stderr",
     "output_type": "stream",
     "text": [
      "100%|██████████| 106/106 [00:11<00:00,  8.99it/s]\n",
      "100%|██████████| 18/18 [00:00<00:00, 42.94it/s]\n",
      "100%|██████████| 53/53 [00:01<00:00, 42.98it/s]\n"
     ]
    },
    {
     "name": "stdout",
     "output_type": "stream",
     "text": [
      "Epoch:776/1000.. Train Loss: 0.150.. Val Loss: 0.226.. Test Loss: 0.206.. Time: 0.22m\n"
     ]
    },
    {
     "name": "stderr",
     "output_type": "stream",
     "text": [
      "100%|██████████| 106/106 [00:11<00:00,  8.84it/s]\n",
      "100%|██████████| 18/18 [00:00<00:00, 43.49it/s]\n",
      "100%|██████████| 53/53 [00:01<00:00, 43.58it/s]\n"
     ]
    },
    {
     "name": "stdout",
     "output_type": "stream",
     "text": [
      "Epoch:777/1000.. Train Loss: 0.152.. Val Loss: 0.223.. Test Loss: 0.204.. Time: 0.23m\n"
     ]
    },
    {
     "name": "stderr",
     "output_type": "stream",
     "text": [
      "100%|██████████| 106/106 [00:12<00:00,  8.62it/s]\n",
      "100%|██████████| 18/18 [00:00<00:00, 42.35it/s]\n",
      "100%|██████████| 53/53 [00:01<00:00, 42.24it/s]\n"
     ]
    },
    {
     "name": "stdout",
     "output_type": "stream",
     "text": [
      "Epoch:778/1000.. Train Loss: 0.149.. Val Loss: 0.227.. Test Loss: 0.205.. Time: 0.23m\n"
     ]
    },
    {
     "name": "stderr",
     "output_type": "stream",
     "text": [
      "100%|██████████| 106/106 [00:12<00:00,  8.79it/s]\n",
      "100%|██████████| 18/18 [00:00<00:00, 43.40it/s]\n",
      "100%|██████████| 53/53 [00:01<00:00, 43.42it/s]\n"
     ]
    },
    {
     "name": "stdout",
     "output_type": "stream",
     "text": [
      "Epoch:779/1000.. Train Loss: 0.151.. Val Loss: 0.224.. Test Loss: 0.206.. Time: 0.23m\n"
     ]
    },
    {
     "name": "stderr",
     "output_type": "stream",
     "text": [
      "100%|██████████| 106/106 [00:12<00:00,  8.67it/s]\n",
      "100%|██████████| 18/18 [00:00<00:00, 42.90it/s]\n",
      "100%|██████████| 53/53 [00:01<00:00, 43.03it/s]\n"
     ]
    },
    {
     "name": "stdout",
     "output_type": "stream",
     "text": [
      "Epoch:780/1000.. Train Loss: 0.150.. Val Loss: 0.231.. Test Loss: 0.205.. Time: 0.23m\n"
     ]
    },
    {
     "name": "stderr",
     "output_type": "stream",
     "text": [
      "100%|██████████| 106/106 [00:11<00:00,  8.92it/s]\n",
      "100%|██████████| 18/18 [00:00<00:00, 43.05it/s]\n",
      "100%|██████████| 53/53 [00:01<00:00, 43.11it/s]\n"
     ]
    },
    {
     "name": "stdout",
     "output_type": "stream",
     "text": [
      "Epoch:781/1000.. Train Loss: 0.149.. Val Loss: 0.227.. Test Loss: 0.205.. Time: 0.23m\n"
     ]
    },
    {
     "name": "stderr",
     "output_type": "stream",
     "text": [
      "100%|██████████| 106/106 [00:12<00:00,  8.57it/s]\n",
      "100%|██████████| 18/18 [00:00<00:00, 43.12it/s]\n",
      "100%|██████████| 53/53 [00:01<00:00, 43.00it/s]\n"
     ]
    },
    {
     "name": "stdout",
     "output_type": "stream",
     "text": [
      "Epoch:782/1000.. Train Loss: 0.151.. Val Loss: 0.223.. Test Loss: 0.205.. Time: 0.23m\n"
     ]
    },
    {
     "name": "stderr",
     "output_type": "stream",
     "text": [
      "100%|██████████| 106/106 [00:10<00:00, 10.15it/s]\n",
      "100%|██████████| 18/18 [00:00<00:00, 43.09it/s]\n",
      "100%|██████████| 53/53 [00:01<00:00, 42.94it/s]\n"
     ]
    },
    {
     "name": "stdout",
     "output_type": "stream",
     "text": [
      "Epoch:783/1000.. Train Loss: 0.150.. Val Loss: 0.232.. Test Loss: 0.206.. Time: 0.20m\n"
     ]
    },
    {
     "name": "stderr",
     "output_type": "stream",
     "text": [
      "100%|██████████| 106/106 [00:10<00:00, 10.03it/s]\n",
      "100%|██████████| 18/18 [00:00<00:00, 42.67it/s]\n",
      "100%|██████████| 53/53 [00:01<00:00, 42.91it/s]\n"
     ]
    },
    {
     "name": "stdout",
     "output_type": "stream",
     "text": [
      "Epoch:784/1000.. Train Loss: 0.149.. Val Loss: 0.224.. Test Loss: 0.205.. Time: 0.20m\n"
     ]
    },
    {
     "name": "stderr",
     "output_type": "stream",
     "text": [
      "100%|██████████| 106/106 [00:10<00:00, 10.04it/s]\n",
      "100%|██████████| 18/18 [00:00<00:00, 43.22it/s]\n",
      "100%|██████████| 53/53 [00:01<00:00, 42.89it/s]\n"
     ]
    },
    {
     "name": "stdout",
     "output_type": "stream",
     "text": [
      "Epoch:785/1000.. Train Loss: 0.149.. Val Loss: 0.230.. Test Loss: 0.206.. Time: 0.20m\n"
     ]
    },
    {
     "name": "stderr",
     "output_type": "stream",
     "text": [
      "100%|██████████| 106/106 [00:12<00:00,  8.64it/s]\n",
      "100%|██████████| 18/18 [00:00<00:00, 42.76it/s]\n",
      "100%|██████████| 53/53 [00:01<00:00, 42.83it/s]\n"
     ]
    },
    {
     "name": "stdout",
     "output_type": "stream",
     "text": [
      "Epoch:786/1000.. Train Loss: 0.151.. Val Loss: 0.225.. Test Loss: 0.205.. Time: 0.23m\n"
     ]
    },
    {
     "name": "stderr",
     "output_type": "stream",
     "text": [
      "100%|██████████| 106/106 [00:10<00:00, 10.11it/s]\n",
      "100%|██████████| 18/18 [00:00<00:00, 43.37it/s]\n",
      "100%|██████████| 53/53 [00:01<00:00, 43.22it/s]\n"
     ]
    },
    {
     "name": "stdout",
     "output_type": "stream",
     "text": [
      "Epoch:787/1000.. Train Loss: 0.152.. Val Loss: 0.230.. Test Loss: 0.206.. Time: 0.20m\n"
     ]
    },
    {
     "name": "stderr",
     "output_type": "stream",
     "text": [
      "100%|██████████| 106/106 [00:10<00:00, 10.11it/s]\n",
      "100%|██████████| 18/18 [00:00<00:00, 43.17it/s]\n",
      "100%|██████████| 53/53 [00:01<00:00, 43.20it/s]\n"
     ]
    },
    {
     "name": "stdout",
     "output_type": "stream",
     "text": [
      "Epoch:788/1000.. Train Loss: 0.151.. Val Loss: 0.223.. Test Loss: 0.205.. Time: 0.20m\n"
     ]
    },
    {
     "name": "stderr",
     "output_type": "stream",
     "text": [
      "100%|██████████| 106/106 [00:10<00:00, 10.14it/s]\n",
      "100%|██████████| 18/18 [00:00<00:00, 42.83it/s]\n",
      "100%|██████████| 53/53 [00:01<00:00, 42.68it/s]\n"
     ]
    },
    {
     "name": "stdout",
     "output_type": "stream",
     "text": [
      "Epoch:789/1000.. Train Loss: 0.150.. Val Loss: 0.225.. Test Loss: 0.205.. Time: 0.20m\n"
     ]
    },
    {
     "name": "stderr",
     "output_type": "stream",
     "text": [
      "100%|██████████| 106/106 [00:10<00:00,  9.99it/s]\n",
      "100%|██████████| 18/18 [00:00<00:00, 43.28it/s]\n",
      "100%|██████████| 53/53 [00:01<00:00, 43.27it/s]\n"
     ]
    },
    {
     "name": "stdout",
     "output_type": "stream",
     "text": [
      "Epoch:790/1000.. Train Loss: 0.151.. Val Loss: 0.225.. Test Loss: 0.205.. Time: 0.21m\n"
     ]
    },
    {
     "name": "stderr",
     "output_type": "stream",
     "text": [
      "100%|██████████| 106/106 [00:10<00:00, 10.06it/s]\n",
      "100%|██████████| 18/18 [00:00<00:00, 42.85it/s]\n",
      "100%|██████████| 53/53 [00:01<00:00, 42.66it/s]\n"
     ]
    },
    {
     "name": "stdout",
     "output_type": "stream",
     "text": [
      "Epoch:791/1000.. Train Loss: 0.150.. Val Loss: 0.226.. Test Loss: 0.204.. Time: 0.20m\n"
     ]
    },
    {
     "name": "stderr",
     "output_type": "stream",
     "text": [
      "100%|██████████| 106/106 [00:10<00:00, 10.14it/s]\n",
      "100%|██████████| 18/18 [00:00<00:00, 42.95it/s]\n",
      "100%|██████████| 53/53 [00:01<00:00, 42.69it/s]\n"
     ]
    },
    {
     "name": "stdout",
     "output_type": "stream",
     "text": [
      "Epoch:792/1000.. Train Loss: 0.150.. Val Loss: 0.225.. Test Loss: 0.205.. Time: 0.20m\n"
     ]
    },
    {
     "name": "stderr",
     "output_type": "stream",
     "text": [
      "100%|██████████| 106/106 [00:10<00:00, 10.13it/s]\n",
      "100%|██████████| 18/18 [00:00<00:00, 43.16it/s]\n",
      "100%|██████████| 53/53 [00:01<00:00, 43.11it/s]\n"
     ]
    },
    {
     "name": "stdout",
     "output_type": "stream",
     "text": [
      "Epoch:793/1000.. Train Loss: 0.152.. Val Loss: 0.228.. Test Loss: 0.205.. Time: 0.20m\n"
     ]
    },
    {
     "name": "stderr",
     "output_type": "stream",
     "text": [
      "100%|██████████| 106/106 [00:10<00:00, 10.10it/s]\n",
      "100%|██████████| 18/18 [00:00<00:00, 43.03it/s]\n",
      "100%|██████████| 53/53 [00:01<00:00, 43.17it/s]\n"
     ]
    },
    {
     "name": "stdout",
     "output_type": "stream",
     "text": [
      "Epoch:794/1000.. Train Loss: 0.150.. Val Loss: 0.225.. Test Loss: 0.205.. Time: 0.20m\n"
     ]
    },
    {
     "name": "stderr",
     "output_type": "stream",
     "text": [
      "100%|██████████| 106/106 [00:10<00:00, 10.05it/s]\n",
      "100%|██████████| 18/18 [00:00<00:00, 42.48it/s]\n",
      "100%|██████████| 53/53 [00:01<00:00, 42.60it/s]\n"
     ]
    },
    {
     "name": "stdout",
     "output_type": "stream",
     "text": [
      "Epoch:795/1000.. Train Loss: 0.149.. Val Loss: 0.224.. Test Loss: 0.205.. Time: 0.20m\n"
     ]
    },
    {
     "name": "stderr",
     "output_type": "stream",
     "text": [
      "100%|██████████| 106/106 [00:10<00:00, 10.04it/s]\n",
      "100%|██████████| 18/18 [00:00<00:00, 43.08it/s]\n",
      "100%|██████████| 53/53 [00:01<00:00, 43.14it/s]\n"
     ]
    },
    {
     "name": "stdout",
     "output_type": "stream",
     "text": [
      "Epoch:796/1000.. Train Loss: 0.149.. Val Loss: 0.228.. Test Loss: 0.205.. Time: 0.20m\n"
     ]
    },
    {
     "name": "stderr",
     "output_type": "stream",
     "text": [
      "100%|██████████| 106/106 [00:10<00:00,  9.98it/s]\n",
      "100%|██████████| 18/18 [00:00<00:00, 42.72it/s]\n",
      "100%|██████████| 53/53 [00:01<00:00, 42.55it/s]\n"
     ]
    },
    {
     "name": "stdout",
     "output_type": "stream",
     "text": [
      "Epoch:797/1000.. Train Loss: 0.152.. Val Loss: 0.225.. Test Loss: 0.205.. Time: 0.21m\n"
     ]
    },
    {
     "name": "stderr",
     "output_type": "stream",
     "text": [
      "100%|██████████| 106/106 [00:12<00:00,  8.71it/s]\n",
      "100%|██████████| 18/18 [00:00<00:00, 42.74it/s]\n",
      "100%|██████████| 53/53 [00:01<00:00, 42.62it/s]\n"
     ]
    },
    {
     "name": "stdout",
     "output_type": "stream",
     "text": [
      "Epoch:798/1000.. Train Loss: 0.150.. Val Loss: 0.232.. Test Loss: 0.205.. Time: 0.23m\n"
     ]
    },
    {
     "name": "stderr",
     "output_type": "stream",
     "text": [
      "100%|██████████| 106/106 [00:12<00:00,  8.77it/s]\n",
      "100%|██████████| 18/18 [00:00<00:00, 43.02it/s]\n",
      "100%|██████████| 53/53 [00:01<00:00, 42.87it/s]\n"
     ]
    },
    {
     "name": "stdout",
     "output_type": "stream",
     "text": [
      "Epoch:799/1000.. Train Loss: 0.149.. Val Loss: 0.228.. Test Loss: 0.205.. Time: 0.23m\n"
     ]
    },
    {
     "name": "stderr",
     "output_type": "stream",
     "text": [
      "100%|██████████| 106/106 [00:11<00:00,  8.97it/s]\n",
      "100%|██████████| 18/18 [00:00<00:00, 41.03it/s]\n",
      "100%|██████████| 53/53 [00:01<00:00, 42.23it/s]\n"
     ]
    },
    {
     "name": "stdout",
     "output_type": "stream",
     "text": [
      "Epoch:800/1000.. Train Loss: 0.149.. Val Loss: 0.228.. Test Loss: 0.206.. Time: 0.23m\n"
     ]
    },
    {
     "name": "stderr",
     "output_type": "stream",
     "text": [
      "100%|██████████| 106/106 [00:12<00:00,  8.38it/s]\n",
      "100%|██████████| 18/18 [00:00<00:00, 43.00it/s]\n",
      "100%|██████████| 53/53 [00:01<00:00, 43.11it/s]\n"
     ]
    },
    {
     "name": "stdout",
     "output_type": "stream",
     "text": [
      "Epoch:801/1000.. Train Loss: 0.150.. Val Loss: 0.224.. Test Loss: 0.205.. Time: 0.24m\n"
     ]
    },
    {
     "name": "stderr",
     "output_type": "stream",
     "text": [
      "100%|██████████| 106/106 [00:12<00:00,  8.81it/s]\n",
      "100%|██████████| 18/18 [00:00<00:00, 42.82it/s]\n",
      "100%|██████████| 53/53 [00:01<00:00, 43.09it/s]\n"
     ]
    },
    {
     "name": "stdout",
     "output_type": "stream",
     "text": [
      "Epoch:802/1000.. Train Loss: 0.149.. Val Loss: 0.225.. Test Loss: 0.205.. Time: 0.23m\n"
     ]
    },
    {
     "name": "stderr",
     "output_type": "stream",
     "text": [
      "100%|██████████| 106/106 [00:12<00:00,  8.79it/s]\n",
      "100%|██████████| 18/18 [00:00<00:00, 43.48it/s]\n",
      "100%|██████████| 53/53 [00:01<00:00, 43.53it/s]\n"
     ]
    },
    {
     "name": "stdout",
     "output_type": "stream",
     "text": [
      "Epoch:803/1000.. Train Loss: 0.149.. Val Loss: 0.225.. Test Loss: 0.205.. Time: 0.23m\n"
     ]
    },
    {
     "name": "stderr",
     "output_type": "stream",
     "text": [
      "100%|██████████| 106/106 [00:11<00:00,  8.90it/s]\n",
      "100%|██████████| 18/18 [00:00<00:00, 42.50it/s]\n",
      "100%|██████████| 53/53 [00:01<00:00, 43.10it/s]\n"
     ]
    },
    {
     "name": "stdout",
     "output_type": "stream",
     "text": [
      "Epoch:804/1000.. Train Loss: 0.150.. Val Loss: 0.227.. Test Loss: 0.205.. Time: 0.23m\n"
     ]
    },
    {
     "name": "stderr",
     "output_type": "stream",
     "text": [
      "100%|██████████| 106/106 [00:11<00:00,  8.86it/s]\n",
      "100%|██████████| 18/18 [00:00<00:00, 42.92it/s]\n",
      "100%|██████████| 53/53 [00:01<00:00, 42.65it/s]\n"
     ]
    },
    {
     "name": "stdout",
     "output_type": "stream",
     "text": [
      "Epoch:805/1000.. Train Loss: 0.151.. Val Loss: 0.223.. Test Loss: 0.205.. Time: 0.23m\n"
     ]
    },
    {
     "name": "stderr",
     "output_type": "stream",
     "text": [
      "100%|██████████| 106/106 [00:12<00:00,  8.64it/s]\n",
      "100%|██████████| 18/18 [00:00<00:00, 41.89it/s]\n",
      "100%|██████████| 53/53 [00:01<00:00, 42.64it/s]\n"
     ]
    },
    {
     "name": "stdout",
     "output_type": "stream",
     "text": [
      "Epoch:806/1000.. Train Loss: 0.150.. Val Loss: 0.231.. Test Loss: 0.206.. Time: 0.23m\n"
     ]
    },
    {
     "name": "stderr",
     "output_type": "stream",
     "text": [
      "100%|██████████| 106/106 [00:12<00:00,  8.71it/s]\n",
      "100%|██████████| 18/18 [00:00<00:00, 42.90it/s]\n",
      "100%|██████████| 53/53 [00:01<00:00, 43.05it/s]\n"
     ]
    },
    {
     "name": "stdout",
     "output_type": "stream",
     "text": [
      "Epoch:807/1000.. Train Loss: 0.150.. Val Loss: 0.225.. Test Loss: 0.206.. Time: 0.23m\n"
     ]
    },
    {
     "name": "stderr",
     "output_type": "stream",
     "text": [
      "100%|██████████| 106/106 [00:11<00:00,  8.97it/s]\n",
      "100%|██████████| 18/18 [00:00<00:00, 42.81it/s]\n",
      "100%|██████████| 53/53 [00:01<00:00, 43.00it/s]\n"
     ]
    },
    {
     "name": "stdout",
     "output_type": "stream",
     "text": [
      "Epoch:808/1000.. Train Loss: 0.149.. Val Loss: 0.227.. Test Loss: 0.205.. Time: 0.23m\n"
     ]
    },
    {
     "name": "stderr",
     "output_type": "stream",
     "text": [
      "100%|██████████| 106/106 [00:12<00:00,  8.68it/s]\n",
      "100%|██████████| 18/18 [00:00<00:00, 42.92it/s]\n",
      "100%|██████████| 53/53 [00:01<00:00, 43.14it/s]\n"
     ]
    },
    {
     "name": "stdout",
     "output_type": "stream",
     "text": [
      "Epoch:809/1000.. Train Loss: 0.151.. Val Loss: 0.227.. Test Loss: 0.206.. Time: 0.23m\n"
     ]
    },
    {
     "name": "stderr",
     "output_type": "stream",
     "text": [
      "100%|██████████| 106/106 [00:11<00:00,  8.85it/s]\n",
      "100%|██████████| 18/18 [00:00<00:00, 43.41it/s]\n",
      "100%|██████████| 53/53 [00:01<00:00, 43.50it/s]\n"
     ]
    },
    {
     "name": "stdout",
     "output_type": "stream",
     "text": [
      "Epoch:810/1000.. Train Loss: 0.149.. Val Loss: 0.225.. Test Loss: 0.205.. Time: 0.23m\n"
     ]
    },
    {
     "name": "stderr",
     "output_type": "stream",
     "text": [
      "100%|██████████| 106/106 [00:12<00:00,  8.74it/s]\n",
      "100%|██████████| 18/18 [00:00<00:00, 42.89it/s]\n",
      "100%|██████████| 53/53 [00:01<00:00, 43.01it/s]\n"
     ]
    },
    {
     "name": "stdout",
     "output_type": "stream",
     "text": [
      "Epoch:811/1000.. Train Loss: 0.150.. Val Loss: 0.225.. Test Loss: 0.205.. Time: 0.23m\n"
     ]
    },
    {
     "name": "stderr",
     "output_type": "stream",
     "text": [
      "100%|██████████| 106/106 [00:12<00:00,  8.73it/s]\n",
      "100%|██████████| 18/18 [00:00<00:00, 41.27it/s]\n",
      "100%|██████████| 53/53 [00:01<00:00, 42.17it/s]\n"
     ]
    },
    {
     "name": "stdout",
     "output_type": "stream",
     "text": [
      "Epoch:812/1000.. Train Loss: 0.151.. Val Loss: 0.227.. Test Loss: 0.205.. Time: 0.23m\n"
     ]
    },
    {
     "name": "stderr",
     "output_type": "stream",
     "text": [
      "100%|██████████| 106/106 [00:12<00:00,  8.80it/s]\n",
      "100%|██████████| 18/18 [00:00<00:00, 42.27it/s]\n",
      "100%|██████████| 53/53 [00:01<00:00, 42.63it/s]\n"
     ]
    },
    {
     "name": "stdout",
     "output_type": "stream",
     "text": [
      "Epoch:813/1000.. Train Loss: 0.151.. Val Loss: 0.226.. Test Loss: 0.206.. Time: 0.23m\n"
     ]
    },
    {
     "name": "stderr",
     "output_type": "stream",
     "text": [
      "100%|██████████| 106/106 [00:12<00:00,  8.68it/s]\n",
      "100%|██████████| 18/18 [00:00<00:00, 43.02it/s]\n",
      "100%|██████████| 53/53 [00:01<00:00, 42.83it/s]\n"
     ]
    },
    {
     "name": "stdout",
     "output_type": "stream",
     "text": [
      "Epoch:814/1000.. Train Loss: 0.152.. Val Loss: 0.227.. Test Loss: 0.205.. Time: 0.23m\n"
     ]
    },
    {
     "name": "stderr",
     "output_type": "stream",
     "text": [
      "100%|██████████| 106/106 [00:12<00:00,  8.57it/s]\n",
      "100%|██████████| 18/18 [00:00<00:00, 42.22it/s]\n",
      "100%|██████████| 53/53 [00:01<00:00, 43.00it/s]\n"
     ]
    },
    {
     "name": "stdout",
     "output_type": "stream",
     "text": [
      "Epoch:815/1000.. Train Loss: 0.149.. Val Loss: 0.225.. Test Loss: 0.204.. Time: 0.24m\n"
     ]
    },
    {
     "name": "stderr",
     "output_type": "stream",
     "text": [
      "100%|██████████| 106/106 [00:11<00:00,  8.83it/s]\n",
      "100%|██████████| 18/18 [00:00<00:00, 43.19it/s]\n",
      "100%|██████████| 53/53 [00:01<00:00, 42.86it/s]\n"
     ]
    },
    {
     "name": "stdout",
     "output_type": "stream",
     "text": [
      "Epoch:816/1000.. Train Loss: 0.149.. Val Loss: 0.225.. Test Loss: 0.204.. Time: 0.23m\n"
     ]
    },
    {
     "name": "stderr",
     "output_type": "stream",
     "text": [
      "100%|██████████| 106/106 [00:11<00:00,  8.95it/s]\n",
      "100%|██████████| 18/18 [00:00<00:00, 42.53it/s]\n",
      "100%|██████████| 53/53 [00:01<00:00, 41.85it/s]\n"
     ]
    },
    {
     "name": "stdout",
     "output_type": "stream",
     "text": [
      "Epoch:817/1000.. Train Loss: 0.150.. Val Loss: 0.225.. Test Loss: 0.206.. Time: 0.23m\n"
     ]
    },
    {
     "name": "stderr",
     "output_type": "stream",
     "text": [
      "100%|██████████| 106/106 [00:12<00:00,  8.73it/s]\n",
      "100%|██████████| 18/18 [00:00<00:00, 43.00it/s]\n",
      "100%|██████████| 53/53 [00:01<00:00, 42.92it/s]\n"
     ]
    },
    {
     "name": "stdout",
     "output_type": "stream",
     "text": [
      "Epoch:818/1000.. Train Loss: 0.150.. Val Loss: 0.225.. Test Loss: 0.205.. Time: 0.23m\n"
     ]
    },
    {
     "name": "stderr",
     "output_type": "stream",
     "text": [
      "100%|██████████| 106/106 [00:12<00:00,  8.72it/s]\n",
      "100%|██████████| 18/18 [00:00<00:00, 41.13it/s]\n",
      "100%|██████████| 53/53 [00:01<00:00, 42.29it/s]\n"
     ]
    },
    {
     "name": "stdout",
     "output_type": "stream",
     "text": [
      "Epoch:819/1000.. Train Loss: 0.152.. Val Loss: 0.229.. Test Loss: 0.204.. Time: 0.23m\n"
     ]
    },
    {
     "name": "stderr",
     "output_type": "stream",
     "text": [
      "100%|██████████| 106/106 [00:11<00:00,  8.84it/s]\n",
      "100%|██████████| 18/18 [00:00<00:00, 42.74it/s]\n",
      "100%|██████████| 53/53 [00:01<00:00, 42.96it/s]\n"
     ]
    },
    {
     "name": "stdout",
     "output_type": "stream",
     "text": [
      "Epoch:820/1000.. Train Loss: 0.150.. Val Loss: 0.227.. Test Loss: 0.205.. Time: 0.23m\n"
     ]
    },
    {
     "name": "stderr",
     "output_type": "stream",
     "text": [
      "100%|██████████| 106/106 [00:11<00:00,  8.94it/s]\n",
      "100%|██████████| 18/18 [00:00<00:00, 41.64it/s]\n",
      "100%|██████████| 53/53 [00:01<00:00, 41.67it/s]\n"
     ]
    },
    {
     "name": "stdout",
     "output_type": "stream",
     "text": [
      "Epoch:821/1000.. Train Loss: 0.151.. Val Loss: 0.225.. Test Loss: 0.205.. Time: 0.23m\n"
     ]
    },
    {
     "name": "stderr",
     "output_type": "stream",
     "text": [
      "100%|██████████| 106/106 [00:12<00:00,  8.61it/s]\n",
      "100%|██████████| 18/18 [00:00<00:00, 42.58it/s]\n",
      "100%|██████████| 53/53 [00:01<00:00, 42.70it/s]\n"
     ]
    },
    {
     "name": "stdout",
     "output_type": "stream",
     "text": [
      "Epoch:822/1000.. Train Loss: 0.151.. Val Loss: 0.232.. Test Loss: 0.205.. Time: 0.23m\n"
     ]
    },
    {
     "name": "stderr",
     "output_type": "stream",
     "text": [
      "100%|██████████| 106/106 [00:12<00:00,  8.39it/s]\n",
      "100%|██████████| 18/18 [00:00<00:00, 43.05it/s]\n",
      "100%|██████████| 53/53 [00:01<00:00, 42.88it/s]\n"
     ]
    },
    {
     "name": "stdout",
     "output_type": "stream",
     "text": [
      "Epoch:823/1000.. Train Loss: 0.149.. Val Loss: 0.227.. Test Loss: 0.205.. Time: 0.24m\n"
     ]
    },
    {
     "name": "stderr",
     "output_type": "stream",
     "text": [
      "100%|██████████| 106/106 [00:12<00:00,  8.48it/s]\n",
      "100%|██████████| 18/18 [00:00<00:00, 42.60it/s]\n",
      "100%|██████████| 53/53 [00:01<00:00, 42.89it/s]\n"
     ]
    },
    {
     "name": "stdout",
     "output_type": "stream",
     "text": [
      "Epoch:824/1000.. Train Loss: 0.149.. Val Loss: 0.232.. Test Loss: 0.204.. Time: 0.24m\n"
     ]
    },
    {
     "name": "stderr",
     "output_type": "stream",
     "text": [
      "100%|██████████| 106/106 [00:11<00:00,  8.86it/s]\n",
      "100%|██████████| 18/18 [00:00<00:00, 42.57it/s]\n",
      "100%|██████████| 53/53 [00:01<00:00, 43.34it/s]\n"
     ]
    },
    {
     "name": "stdout",
     "output_type": "stream",
     "text": [
      "Epoch:825/1000.. Train Loss: 0.150.. Val Loss: 0.231.. Test Loss: 0.204.. Time: 0.23m\n"
     ]
    },
    {
     "name": "stderr",
     "output_type": "stream",
     "text": [
      "100%|██████████| 106/106 [00:12<00:00,  8.61it/s]\n",
      "100%|██████████| 18/18 [00:00<00:00, 42.75it/s]\n",
      "100%|██████████| 53/53 [00:01<00:00, 42.72it/s]\n"
     ]
    },
    {
     "name": "stdout",
     "output_type": "stream",
     "text": [
      "Epoch:826/1000.. Train Loss: 0.150.. Val Loss: 0.225.. Test Loss: 0.204.. Time: 0.23m\n"
     ]
    },
    {
     "name": "stderr",
     "output_type": "stream",
     "text": [
      "100%|██████████| 106/106 [00:12<00:00,  8.72it/s]\n",
      "100%|██████████| 18/18 [00:00<00:00, 42.20it/s]\n",
      "100%|██████████| 53/53 [00:01<00:00, 43.00it/s]\n"
     ]
    },
    {
     "name": "stdout",
     "output_type": "stream",
     "text": [
      "Epoch:827/1000.. Train Loss: 0.149.. Val Loss: 0.225.. Test Loss: 0.205.. Time: 0.23m\n"
     ]
    },
    {
     "name": "stderr",
     "output_type": "stream",
     "text": [
      "100%|██████████| 106/106 [00:12<00:00,  8.83it/s]\n",
      "100%|██████████| 18/18 [00:00<00:00, 42.11it/s]\n",
      "100%|██████████| 53/53 [00:01<00:00, 43.09it/s]\n"
     ]
    },
    {
     "name": "stdout",
     "output_type": "stream",
     "text": [
      "Epoch:828/1000.. Train Loss: 0.150.. Val Loss: 0.228.. Test Loss: 0.205.. Time: 0.23m\n"
     ]
    },
    {
     "name": "stderr",
     "output_type": "stream",
     "text": [
      "100%|██████████| 106/106 [00:12<00:00,  8.66it/s]\n",
      "100%|██████████| 18/18 [00:00<00:00, 42.78it/s]\n",
      "100%|██████████| 53/53 [00:01<00:00, 42.96it/s]\n"
     ]
    },
    {
     "name": "stdout",
     "output_type": "stream",
     "text": [
      "Epoch:829/1000.. Train Loss: 0.149.. Val Loss: 0.231.. Test Loss: 0.205.. Time: 0.23m\n"
     ]
    },
    {
     "name": "stderr",
     "output_type": "stream",
     "text": [
      "100%|██████████| 106/106 [00:12<00:00,  8.75it/s]\n",
      "100%|██████████| 18/18 [00:00<00:00, 41.78it/s]\n",
      "100%|██████████| 53/53 [00:01<00:00, 42.90it/s]\n"
     ]
    },
    {
     "name": "stdout",
     "output_type": "stream",
     "text": [
      "Epoch:830/1000.. Train Loss: 0.150.. Val Loss: 0.225.. Test Loss: 0.205.. Time: 0.23m\n"
     ]
    },
    {
     "name": "stderr",
     "output_type": "stream",
     "text": [
      "100%|██████████| 106/106 [00:12<00:00,  8.83it/s]\n",
      "100%|██████████| 18/18 [00:00<00:00, 42.80it/s]\n",
      "100%|██████████| 53/53 [00:01<00:00, 41.65it/s]\n"
     ]
    },
    {
     "name": "stdout",
     "output_type": "stream",
     "text": [
      "Epoch:831/1000.. Train Loss: 0.149.. Val Loss: 0.229.. Test Loss: 0.205.. Time: 0.23m\n"
     ]
    },
    {
     "name": "stderr",
     "output_type": "stream",
     "text": [
      "100%|██████████| 106/106 [00:11<00:00,  8.85it/s]\n",
      "100%|██████████| 18/18 [00:00<00:00, 42.97it/s]\n",
      "100%|██████████| 53/53 [00:01<00:00, 42.83it/s]\n"
     ]
    },
    {
     "name": "stdout",
     "output_type": "stream",
     "text": [
      "Epoch:832/1000.. Train Loss: 0.149.. Val Loss: 0.226.. Test Loss: 0.204.. Time: 0.23m\n"
     ]
    },
    {
     "name": "stderr",
     "output_type": "stream",
     "text": [
      "100%|██████████| 106/106 [00:11<00:00,  8.87it/s]\n",
      "100%|██████████| 18/18 [00:00<00:00, 42.77it/s]\n",
      "100%|██████████| 53/53 [00:01<00:00, 42.70it/s]\n"
     ]
    },
    {
     "name": "stdout",
     "output_type": "stream",
     "text": [
      "Epoch:833/1000.. Train Loss: 0.149.. Val Loss: 0.224.. Test Loss: 0.204.. Time: 0.23m\n"
     ]
    },
    {
     "name": "stderr",
     "output_type": "stream",
     "text": [
      "100%|██████████| 106/106 [00:12<00:00,  8.25it/s]\n",
      "100%|██████████| 18/18 [00:00<00:00, 42.89it/s]\n",
      "100%|██████████| 53/53 [00:01<00:00, 42.73it/s]\n"
     ]
    },
    {
     "name": "stdout",
     "output_type": "stream",
     "text": [
      "Epoch:834/1000.. Train Loss: 0.149.. Val Loss: 0.231.. Test Loss: 0.205.. Time: 0.24m\n"
     ]
    },
    {
     "name": "stderr",
     "output_type": "stream",
     "text": [
      "100%|██████████| 106/106 [00:12<00:00,  8.38it/s]\n",
      "100%|██████████| 18/18 [00:00<00:00, 43.08it/s]\n",
      "100%|██████████| 53/53 [00:01<00:00, 43.22it/s]\n"
     ]
    },
    {
     "name": "stdout",
     "output_type": "stream",
     "text": [
      "Epoch:835/1000.. Train Loss: 0.152.. Val Loss: 0.228.. Test Loss: 0.204.. Time: 0.24m\n"
     ]
    },
    {
     "name": "stderr",
     "output_type": "stream",
     "text": [
      "100%|██████████| 106/106 [00:12<00:00,  8.47it/s]\n",
      "100%|██████████| 18/18 [00:00<00:00, 42.63it/s]\n",
      "100%|██████████| 53/53 [00:01<00:00, 42.99it/s]\n"
     ]
    },
    {
     "name": "stdout",
     "output_type": "stream",
     "text": [
      "Epoch:836/1000.. Train Loss: 0.149.. Val Loss: 0.225.. Test Loss: 0.205.. Time: 0.24m\n"
     ]
    },
    {
     "name": "stderr",
     "output_type": "stream",
     "text": [
      "100%|██████████| 106/106 [00:12<00:00,  8.51it/s]\n",
      "100%|██████████| 18/18 [00:00<00:00, 42.22it/s]\n",
      "100%|██████████| 53/53 [00:01<00:00, 42.64it/s]\n"
     ]
    },
    {
     "name": "stdout",
     "output_type": "stream",
     "text": [
      "Epoch:837/1000.. Train Loss: 0.152.. Val Loss: 0.227.. Test Loss: 0.205.. Time: 0.24m\n"
     ]
    },
    {
     "name": "stderr",
     "output_type": "stream",
     "text": [
      "100%|██████████| 106/106 [00:12<00:00,  8.62it/s]\n",
      "100%|██████████| 18/18 [00:00<00:00, 43.20it/s]\n",
      "100%|██████████| 53/53 [00:01<00:00, 43.30it/s]\n"
     ]
    },
    {
     "name": "stdout",
     "output_type": "stream",
     "text": [
      "Epoch:838/1000.. Train Loss: 0.149.. Val Loss: 0.225.. Test Loss: 0.205.. Time: 0.23m\n"
     ]
    },
    {
     "name": "stderr",
     "output_type": "stream",
     "text": [
      "100%|██████████| 106/106 [00:12<00:00,  8.31it/s]\n",
      "100%|██████████| 18/18 [00:00<00:00, 42.94it/s]\n",
      "100%|██████████| 53/53 [00:01<00:00, 41.21it/s]\n"
     ]
    },
    {
     "name": "stdout",
     "output_type": "stream",
     "text": [
      "Epoch:839/1000.. Train Loss: 0.150.. Val Loss: 0.225.. Test Loss: 0.205.. Time: 0.24m\n"
     ]
    },
    {
     "name": "stderr",
     "output_type": "stream",
     "text": [
      "100%|██████████| 106/106 [00:12<00:00,  8.53it/s]\n",
      "100%|██████████| 18/18 [00:00<00:00, 42.76it/s]\n",
      "100%|██████████| 53/53 [00:01<00:00, 42.53it/s]\n"
     ]
    },
    {
     "name": "stdout",
     "output_type": "stream",
     "text": [
      "Epoch:840/1000.. Train Loss: 0.149.. Val Loss: 0.225.. Test Loss: 0.204.. Time: 0.24m\n"
     ]
    },
    {
     "name": "stderr",
     "output_type": "stream",
     "text": [
      "100%|██████████| 106/106 [00:12<00:00,  8.50it/s]\n",
      "100%|██████████| 18/18 [00:00<00:00, 42.67it/s]\n",
      "100%|██████████| 53/53 [00:01<00:00, 42.81it/s]\n"
     ]
    },
    {
     "name": "stdout",
     "output_type": "stream",
     "text": [
      "Epoch:841/1000.. Train Loss: 0.152.. Val Loss: 0.225.. Test Loss: 0.205.. Time: 0.24m\n"
     ]
    },
    {
     "name": "stderr",
     "output_type": "stream",
     "text": [
      "100%|██████████| 106/106 [00:12<00:00,  8.58it/s]\n",
      "100%|██████████| 18/18 [00:00<00:00, 40.77it/s]\n",
      "100%|██████████| 53/53 [00:01<00:00, 41.89it/s]\n"
     ]
    },
    {
     "name": "stdout",
     "output_type": "stream",
     "text": [
      "Epoch:842/1000.. Train Loss: 0.151.. Val Loss: 0.226.. Test Loss: 0.205.. Time: 0.24m\n"
     ]
    },
    {
     "name": "stderr",
     "output_type": "stream",
     "text": [
      "100%|██████████| 106/106 [00:12<00:00,  8.63it/s]\n",
      "100%|██████████| 18/18 [00:00<00:00, 42.14it/s]\n",
      "100%|██████████| 53/53 [00:01<00:00, 42.85it/s]\n"
     ]
    },
    {
     "name": "stdout",
     "output_type": "stream",
     "text": [
      "Epoch:843/1000.. Train Loss: 0.151.. Val Loss: 0.225.. Test Loss: 0.205.. Time: 0.23m\n"
     ]
    },
    {
     "name": "stderr",
     "output_type": "stream",
     "text": [
      "100%|██████████| 106/106 [00:12<00:00,  8.69it/s]\n",
      "100%|██████████| 18/18 [00:00<00:00, 40.81it/s]\n",
      "100%|██████████| 53/53 [00:01<00:00, 42.22it/s]\n"
     ]
    },
    {
     "name": "stdout",
     "output_type": "stream",
     "text": [
      "Epoch:844/1000.. Train Loss: 0.149.. Val Loss: 0.226.. Test Loss: 0.205.. Time: 0.23m\n"
     ]
    },
    {
     "name": "stderr",
     "output_type": "stream",
     "text": [
      "100%|██████████| 106/106 [00:12<00:00,  8.72it/s]\n",
      "100%|██████████| 18/18 [00:00<00:00, 42.15it/s]\n",
      "100%|██████████| 53/53 [00:01<00:00, 42.16it/s]\n"
     ]
    },
    {
     "name": "stdout",
     "output_type": "stream",
     "text": [
      "Epoch:845/1000.. Train Loss: 0.151.. Val Loss: 0.225.. Test Loss: 0.206.. Time: 0.23m\n"
     ]
    },
    {
     "name": "stderr",
     "output_type": "stream",
     "text": [
      "100%|██████████| 106/106 [00:12<00:00,  8.80it/s]\n",
      "100%|██████████| 18/18 [00:00<00:00, 42.25it/s]\n",
      "100%|██████████| 53/53 [00:01<00:00, 42.93it/s]\n"
     ]
    },
    {
     "name": "stdout",
     "output_type": "stream",
     "text": [
      "Epoch:846/1000.. Train Loss: 0.151.. Val Loss: 0.225.. Test Loss: 0.205.. Time: 0.23m\n"
     ]
    },
    {
     "name": "stderr",
     "output_type": "stream",
     "text": [
      "100%|██████████| 106/106 [00:10<00:00, 10.01it/s]\n",
      "100%|██████████| 18/18 [00:00<00:00, 42.82it/s]\n",
      "100%|██████████| 53/53 [00:01<00:00, 42.80it/s]\n"
     ]
    },
    {
     "name": "stdout",
     "output_type": "stream",
     "text": [
      "Epoch:847/1000.. Train Loss: 0.151.. Val Loss: 0.223.. Test Loss: 0.206.. Time: 0.21m\n"
     ]
    },
    {
     "name": "stderr",
     "output_type": "stream",
     "text": [
      "100%|██████████| 106/106 [00:12<00:00,  8.50it/s]\n",
      "100%|██████████| 18/18 [00:00<00:00, 43.39it/s]\n",
      "100%|██████████| 53/53 [00:01<00:00, 43.55it/s]\n"
     ]
    },
    {
     "name": "stdout",
     "output_type": "stream",
     "text": [
      "Epoch:848/1000.. Train Loss: 0.150.. Val Loss: 0.225.. Test Loss: 0.205.. Time: 0.24m\n"
     ]
    },
    {
     "name": "stderr",
     "output_type": "stream",
     "text": [
      "100%|██████████| 106/106 [00:11<00:00,  8.99it/s]\n",
      "100%|██████████| 18/18 [00:00<00:00, 41.61it/s]\n",
      "100%|██████████| 53/53 [00:01<00:00, 43.29it/s]\n"
     ]
    },
    {
     "name": "stdout",
     "output_type": "stream",
     "text": [
      "Epoch:849/1000.. Train Loss: 0.151.. Val Loss: 0.224.. Test Loss: 0.205.. Time: 0.22m\n"
     ]
    },
    {
     "name": "stderr",
     "output_type": "stream",
     "text": [
      "100%|██████████| 106/106 [00:11<00:00,  8.88it/s]\n",
      "100%|██████████| 18/18 [00:00<00:00, 42.74it/s]\n",
      "100%|██████████| 53/53 [00:01<00:00, 43.47it/s]\n"
     ]
    },
    {
     "name": "stdout",
     "output_type": "stream",
     "text": [
      "Epoch:850/1000.. Train Loss: 0.149.. Val Loss: 0.228.. Test Loss: 0.205.. Time: 0.23m\n"
     ]
    },
    {
     "name": "stderr",
     "output_type": "stream",
     "text": [
      "100%|██████████| 106/106 [00:12<00:00,  8.66it/s]\n",
      "100%|██████████| 18/18 [00:00<00:00, 42.27it/s]\n",
      "100%|██████████| 53/53 [00:01<00:00, 42.23it/s]\n"
     ]
    },
    {
     "name": "stdout",
     "output_type": "stream",
     "text": [
      "Epoch:851/1000.. Train Loss: 0.150.. Val Loss: 0.231.. Test Loss: 0.205.. Time: 0.23m\n"
     ]
    },
    {
     "name": "stderr",
     "output_type": "stream",
     "text": [
      "100%|██████████| 106/106 [00:12<00:00,  8.81it/s]\n",
      "100%|██████████| 18/18 [00:00<00:00, 41.65it/s]\n",
      "100%|██████████| 53/53 [00:01<00:00, 42.05it/s]\n"
     ]
    },
    {
     "name": "stdout",
     "output_type": "stream",
     "text": [
      "Epoch:852/1000.. Train Loss: 0.151.. Val Loss: 0.227.. Test Loss: 0.205.. Time: 0.23m\n"
     ]
    },
    {
     "name": "stderr",
     "output_type": "stream",
     "text": [
      "100%|██████████| 106/106 [00:12<00:00,  8.74it/s]\n",
      "100%|██████████| 18/18 [00:00<00:00, 42.60it/s]\n",
      "100%|██████████| 53/53 [00:01<00:00, 42.54it/s]\n"
     ]
    },
    {
     "name": "stdout",
     "output_type": "stream",
     "text": [
      "Epoch:853/1000.. Train Loss: 0.150.. Val Loss: 0.230.. Test Loss: 0.205.. Time: 0.23m\n"
     ]
    },
    {
     "name": "stderr",
     "output_type": "stream",
     "text": [
      "100%|██████████| 106/106 [00:12<00:00,  8.32it/s]\n",
      "100%|██████████| 18/18 [00:00<00:00, 41.93it/s]\n",
      "100%|██████████| 53/53 [00:01<00:00, 42.69it/s]\n"
     ]
    },
    {
     "name": "stdout",
     "output_type": "stream",
     "text": [
      "Epoch:854/1000.. Train Loss: 0.152.. Val Loss: 0.224.. Test Loss: 0.206.. Time: 0.24m\n"
     ]
    },
    {
     "name": "stderr",
     "output_type": "stream",
     "text": [
      "100%|██████████| 106/106 [00:12<00:00,  8.77it/s]\n",
      "100%|██████████| 18/18 [00:00<00:00, 43.49it/s]\n",
      "100%|██████████| 53/53 [00:01<00:00, 43.50it/s]\n"
     ]
    },
    {
     "name": "stdout",
     "output_type": "stream",
     "text": [
      "Epoch:855/1000.. Train Loss: 0.150.. Val Loss: 0.232.. Test Loss: 0.205.. Time: 0.23m\n"
     ]
    },
    {
     "name": "stderr",
     "output_type": "stream",
     "text": [
      "100%|██████████| 106/106 [00:12<00:00,  8.63it/s]\n",
      "100%|██████████| 18/18 [00:00<00:00, 42.78it/s]\n",
      "100%|██████████| 53/53 [00:01<00:00, 42.92it/s]\n"
     ]
    },
    {
     "name": "stdout",
     "output_type": "stream",
     "text": [
      "Epoch:856/1000.. Train Loss: 0.150.. Val Loss: 0.232.. Test Loss: 0.205.. Time: 0.23m\n"
     ]
    },
    {
     "name": "stderr",
     "output_type": "stream",
     "text": [
      "100%|██████████| 106/106 [00:12<00:00,  8.78it/s]\n",
      "100%|██████████| 18/18 [00:00<00:00, 42.24it/s]\n",
      "100%|██████████| 53/53 [00:01<00:00, 42.15it/s]\n"
     ]
    },
    {
     "name": "stdout",
     "output_type": "stream",
     "text": [
      "Epoch:857/1000.. Train Loss: 0.149.. Val Loss: 0.225.. Test Loss: 0.205.. Time: 0.23m\n"
     ]
    },
    {
     "name": "stderr",
     "output_type": "stream",
     "text": [
      "100%|██████████| 106/106 [00:12<00:00,  8.68it/s]\n",
      "100%|██████████| 18/18 [00:00<00:00, 42.17it/s]\n",
      "100%|██████████| 53/53 [00:01<00:00, 42.27it/s]\n"
     ]
    },
    {
     "name": "stdout",
     "output_type": "stream",
     "text": [
      "Epoch:858/1000.. Train Loss: 0.151.. Val Loss: 0.225.. Test Loss: 0.206.. Time: 0.23m\n"
     ]
    },
    {
     "name": "stderr",
     "output_type": "stream",
     "text": [
      "100%|██████████| 106/106 [00:12<00:00,  8.83it/s]\n",
      "100%|██████████| 18/18 [00:00<00:00, 42.92it/s]\n",
      "100%|██████████| 53/53 [00:01<00:00, 43.15it/s]\n"
     ]
    },
    {
     "name": "stdout",
     "output_type": "stream",
     "text": [
      "Epoch:859/1000.. Train Loss: 0.150.. Val Loss: 0.225.. Test Loss: 0.204.. Time: 0.23m\n"
     ]
    },
    {
     "name": "stderr",
     "output_type": "stream",
     "text": [
      "100%|██████████| 106/106 [00:12<00:00,  8.54it/s]\n",
      "100%|██████████| 18/18 [00:00<00:00, 42.63it/s]\n",
      "100%|██████████| 53/53 [00:01<00:00, 42.20it/s]\n"
     ]
    },
    {
     "name": "stdout",
     "output_type": "stream",
     "text": [
      "Epoch:860/1000.. Train Loss: 0.149.. Val Loss: 0.225.. Test Loss: 0.206.. Time: 0.24m\n"
     ]
    },
    {
     "name": "stderr",
     "output_type": "stream",
     "text": [
      "100%|██████████| 106/106 [00:11<00:00,  8.93it/s]\n",
      "100%|██████████| 18/18 [00:00<00:00, 43.09it/s]\n",
      "100%|██████████| 53/53 [00:01<00:00, 43.04it/s]\n"
     ]
    },
    {
     "name": "stdout",
     "output_type": "stream",
     "text": [
      "Epoch:861/1000.. Train Loss: 0.150.. Val Loss: 0.225.. Test Loss: 0.204.. Time: 0.23m\n"
     ]
    },
    {
     "name": "stderr",
     "output_type": "stream",
     "text": [
      "100%|██████████| 106/106 [00:12<00:00,  8.80it/s]\n",
      "100%|██████████| 18/18 [00:00<00:00, 43.07it/s]\n",
      "100%|██████████| 53/53 [00:01<00:00, 42.93it/s]\n"
     ]
    },
    {
     "name": "stdout",
     "output_type": "stream",
     "text": [
      "Epoch:862/1000.. Train Loss: 0.149.. Val Loss: 0.226.. Test Loss: 0.206.. Time: 0.23m\n"
     ]
    },
    {
     "name": "stderr",
     "output_type": "stream",
     "text": [
      "100%|██████████| 106/106 [00:12<00:00,  8.78it/s]\n",
      "100%|██████████| 18/18 [00:00<00:00, 41.37it/s]\n",
      "100%|██████████| 53/53 [00:01<00:00, 42.89it/s]\n"
     ]
    },
    {
     "name": "stdout",
     "output_type": "stream",
     "text": [
      "Epoch:863/1000.. Train Loss: 0.150.. Val Loss: 0.226.. Test Loss: 0.205.. Time: 0.23m\n"
     ]
    },
    {
     "name": "stderr",
     "output_type": "stream",
     "text": [
      "100%|██████████| 106/106 [00:12<00:00,  8.71it/s]\n",
      "100%|██████████| 18/18 [00:00<00:00, 43.07it/s]\n",
      "100%|██████████| 53/53 [00:01<00:00, 42.65it/s]\n"
     ]
    },
    {
     "name": "stdout",
     "output_type": "stream",
     "text": [
      "Epoch:864/1000.. Train Loss: 0.150.. Val Loss: 0.227.. Test Loss: 0.205.. Time: 0.23m\n"
     ]
    },
    {
     "name": "stderr",
     "output_type": "stream",
     "text": [
      "100%|██████████| 106/106 [00:12<00:00,  8.71it/s]\n",
      "100%|██████████| 18/18 [00:00<00:00, 42.81it/s]\n",
      "100%|██████████| 53/53 [00:01<00:00, 43.23it/s]\n"
     ]
    },
    {
     "name": "stdout",
     "output_type": "stream",
     "text": [
      "Epoch:865/1000.. Train Loss: 0.151.. Val Loss: 0.231.. Test Loss: 0.205.. Time: 0.23m\n"
     ]
    },
    {
     "name": "stderr",
     "output_type": "stream",
     "text": [
      "100%|██████████| 106/106 [00:12<00:00,  8.56it/s]\n",
      "100%|██████████| 18/18 [00:00<00:00, 42.78it/s]\n",
      "100%|██████████| 53/53 [00:01<00:00, 42.79it/s]\n"
     ]
    },
    {
     "name": "stdout",
     "output_type": "stream",
     "text": [
      "Epoch:866/1000.. Train Loss: 0.151.. Val Loss: 0.225.. Test Loss: 0.205.. Time: 0.23m\n"
     ]
    },
    {
     "name": "stderr",
     "output_type": "stream",
     "text": [
      "100%|██████████| 106/106 [00:12<00:00,  8.75it/s]\n",
      "100%|██████████| 18/18 [00:00<00:00, 42.20it/s]\n",
      "100%|██████████| 53/53 [00:01<00:00, 41.40it/s]\n"
     ]
    },
    {
     "name": "stdout",
     "output_type": "stream",
     "text": [
      "Epoch:867/1000.. Train Loss: 0.149.. Val Loss: 0.223.. Test Loss: 0.205.. Time: 0.23m\n"
     ]
    },
    {
     "name": "stderr",
     "output_type": "stream",
     "text": [
      "100%|██████████| 106/106 [00:11<00:00,  8.86it/s]\n",
      "100%|██████████| 18/18 [00:00<00:00, 43.12it/s]\n",
      "100%|██████████| 53/53 [00:01<00:00, 43.24it/s]\n"
     ]
    },
    {
     "name": "stdout",
     "output_type": "stream",
     "text": [
      "Epoch:868/1000.. Train Loss: 0.150.. Val Loss: 0.231.. Test Loss: 0.205.. Time: 0.23m\n"
     ]
    },
    {
     "name": "stderr",
     "output_type": "stream",
     "text": [
      "100%|██████████| 106/106 [00:12<00:00,  8.76it/s]\n",
      "100%|██████████| 18/18 [00:00<00:00, 42.44it/s]\n",
      "100%|██████████| 53/53 [00:01<00:00, 42.73it/s]\n"
     ]
    },
    {
     "name": "stdout",
     "output_type": "stream",
     "text": [
      "Epoch:869/1000.. Train Loss: 0.151.. Val Loss: 0.225.. Test Loss: 0.206.. Time: 0.23m\n"
     ]
    },
    {
     "name": "stderr",
     "output_type": "stream",
     "text": [
      "100%|██████████| 106/106 [00:11<00:00,  8.84it/s]\n",
      "100%|██████████| 18/18 [00:00<00:00, 42.59it/s]\n",
      "100%|██████████| 53/53 [00:01<00:00, 42.67it/s]\n"
     ]
    },
    {
     "name": "stdout",
     "output_type": "stream",
     "text": [
      "Epoch:870/1000.. Train Loss: 0.151.. Val Loss: 0.226.. Test Loss: 0.204.. Time: 0.23m\n"
     ]
    },
    {
     "name": "stderr",
     "output_type": "stream",
     "text": [
      "100%|██████████| 106/106 [00:12<00:00,  8.74it/s]\n",
      "100%|██████████| 18/18 [00:00<00:00, 40.75it/s]\n",
      "100%|██████████| 53/53 [00:01<00:00, 42.09it/s]\n"
     ]
    },
    {
     "name": "stdout",
     "output_type": "stream",
     "text": [
      "Epoch:871/1000.. Train Loss: 0.151.. Val Loss: 0.225.. Test Loss: 0.204.. Time: 0.23m\n"
     ]
    },
    {
     "name": "stderr",
     "output_type": "stream",
     "text": [
      "100%|██████████| 106/106 [00:12<00:00,  8.73it/s]\n",
      "100%|██████████| 18/18 [00:00<00:00, 42.72it/s]\n",
      "100%|██████████| 53/53 [00:01<00:00, 41.85it/s]\n"
     ]
    },
    {
     "name": "stdout",
     "output_type": "stream",
     "text": [
      "Epoch:872/1000.. Train Loss: 0.151.. Val Loss: 0.225.. Test Loss: 0.204.. Time: 0.23m\n"
     ]
    },
    {
     "name": "stderr",
     "output_type": "stream",
     "text": [
      "100%|██████████| 106/106 [00:12<00:00,  8.70it/s]\n",
      "100%|██████████| 18/18 [00:00<00:00, 43.36it/s]\n",
      "100%|██████████| 53/53 [00:01<00:00, 43.24it/s]\n"
     ]
    },
    {
     "name": "stdout",
     "output_type": "stream",
     "text": [
      "Epoch:873/1000.. Train Loss: 0.150.. Val Loss: 0.225.. Test Loss: 0.205.. Time: 0.23m\n"
     ]
    },
    {
     "name": "stderr",
     "output_type": "stream",
     "text": [
      "100%|██████████| 106/106 [00:11<00:00,  8.94it/s]\n",
      "100%|██████████| 18/18 [00:00<00:00, 42.61it/s]\n",
      "100%|██████████| 53/53 [00:01<00:00, 42.85it/s]\n"
     ]
    },
    {
     "name": "stdout",
     "output_type": "stream",
     "text": [
      "Epoch:874/1000.. Train Loss: 0.149.. Val Loss: 0.227.. Test Loss: 0.205.. Time: 0.23m\n"
     ]
    },
    {
     "name": "stderr",
     "output_type": "stream",
     "text": [
      "100%|██████████| 106/106 [00:12<00:00,  8.68it/s]\n",
      "100%|██████████| 18/18 [00:00<00:00, 42.77it/s]\n",
      "100%|██████████| 53/53 [00:01<00:00, 42.70it/s]\n"
     ]
    },
    {
     "name": "stdout",
     "output_type": "stream",
     "text": [
      "Epoch:875/1000.. Train Loss: 0.150.. Val Loss: 0.223.. Test Loss: 0.205.. Time: 0.23m\n"
     ]
    },
    {
     "name": "stderr",
     "output_type": "stream",
     "text": [
      "100%|██████████| 106/106 [00:12<00:00,  8.73it/s]\n",
      "100%|██████████| 18/18 [00:00<00:00, 43.07it/s]\n",
      "100%|██████████| 53/53 [00:01<00:00, 43.04it/s]\n"
     ]
    },
    {
     "name": "stdout",
     "output_type": "stream",
     "text": [
      "Epoch:876/1000.. Train Loss: 0.149.. Val Loss: 0.227.. Test Loss: 0.205.. Time: 0.23m\n"
     ]
    },
    {
     "name": "stderr",
     "output_type": "stream",
     "text": [
      "100%|██████████| 106/106 [00:12<00:00,  8.80it/s]\n",
      "100%|██████████| 18/18 [00:00<00:00, 42.20it/s]\n",
      "100%|██████████| 53/53 [00:01<00:00, 42.14it/s]\n"
     ]
    },
    {
     "name": "stdout",
     "output_type": "stream",
     "text": [
      "Epoch:877/1000.. Train Loss: 0.151.. Val Loss: 0.225.. Test Loss: 0.205.. Time: 0.23m\n"
     ]
    },
    {
     "name": "stderr",
     "output_type": "stream",
     "text": [
      "100%|██████████| 106/106 [00:12<00:00,  8.80it/s]\n",
      "100%|██████████| 18/18 [00:00<00:00, 42.20it/s]\n",
      "100%|██████████| 53/53 [00:01<00:00, 42.53it/s]\n"
     ]
    },
    {
     "name": "stdout",
     "output_type": "stream",
     "text": [
      "Epoch:878/1000.. Train Loss: 0.149.. Val Loss: 0.223.. Test Loss: 0.205.. Time: 0.23m\n"
     ]
    },
    {
     "name": "stderr",
     "output_type": "stream",
     "text": [
      "100%|██████████| 106/106 [00:10<00:00,  9.99it/s]\n",
      "100%|██████████| 18/18 [00:00<00:00, 42.82it/s]\n",
      "100%|██████████| 53/53 [00:01<00:00, 42.51it/s]\n"
     ]
    },
    {
     "name": "stdout",
     "output_type": "stream",
     "text": [
      "Epoch:879/1000.. Train Loss: 0.150.. Val Loss: 0.227.. Test Loss: 0.205.. Time: 0.21m\n"
     ]
    },
    {
     "name": "stderr",
     "output_type": "stream",
     "text": [
      "100%|██████████| 106/106 [00:10<00:00, 10.07it/s]\n",
      "100%|██████████| 18/18 [00:00<00:00, 42.49it/s]\n",
      "100%|██████████| 53/53 [00:01<00:00, 42.64it/s]\n"
     ]
    },
    {
     "name": "stdout",
     "output_type": "stream",
     "text": [
      "Epoch:880/1000.. Train Loss: 0.149.. Val Loss: 0.225.. Test Loss: 0.204.. Time: 0.20m\n"
     ]
    },
    {
     "name": "stderr",
     "output_type": "stream",
     "text": [
      "100%|██████████| 106/106 [00:10<00:00,  9.96it/s]\n",
      "100%|██████████| 18/18 [00:00<00:00, 43.15it/s]\n",
      "100%|██████████| 53/53 [00:01<00:00, 43.11it/s]\n"
     ]
    },
    {
     "name": "stdout",
     "output_type": "stream",
     "text": [
      "Epoch:881/1000.. Train Loss: 0.150.. Val Loss: 0.225.. Test Loss: 0.205.. Time: 0.21m\n"
     ]
    },
    {
     "name": "stderr",
     "output_type": "stream",
     "text": [
      "100%|██████████| 106/106 [00:10<00:00, 10.13it/s]\n",
      "100%|██████████| 18/18 [00:00<00:00, 43.29it/s]\n",
      "100%|██████████| 53/53 [00:01<00:00, 43.18it/s]\n"
     ]
    },
    {
     "name": "stdout",
     "output_type": "stream",
     "text": [
      "Epoch:882/1000.. Train Loss: 0.151.. Val Loss: 0.225.. Test Loss: 0.206.. Time: 0.20m\n"
     ]
    },
    {
     "name": "stderr",
     "output_type": "stream",
     "text": [
      "100%|██████████| 106/106 [00:10<00:00, 10.02it/s]\n",
      "100%|██████████| 18/18 [00:00<00:00, 42.91it/s]\n",
      "100%|██████████| 53/53 [00:01<00:00, 43.18it/s]\n"
     ]
    },
    {
     "name": "stdout",
     "output_type": "stream",
     "text": [
      "Epoch:883/1000.. Train Loss: 0.151.. Val Loss: 0.223.. Test Loss: 0.205.. Time: 0.20m\n"
     ]
    },
    {
     "name": "stderr",
     "output_type": "stream",
     "text": [
      "100%|██████████| 106/106 [00:10<00:00, 10.05it/s]\n",
      "100%|██████████| 18/18 [00:00<00:00, 42.70it/s]\n",
      "100%|██████████| 53/53 [00:01<00:00, 42.20it/s]\n"
     ]
    },
    {
     "name": "stdout",
     "output_type": "stream",
     "text": [
      "Epoch:884/1000.. Train Loss: 0.149.. Val Loss: 0.231.. Test Loss: 0.205.. Time: 0.20m\n"
     ]
    },
    {
     "name": "stderr",
     "output_type": "stream",
     "text": [
      "100%|██████████| 106/106 [00:12<00:00,  8.64it/s]\n",
      "100%|██████████| 18/18 [00:00<00:00, 42.55it/s]\n",
      "100%|██████████| 53/53 [00:01<00:00, 42.89it/s]\n"
     ]
    },
    {
     "name": "stdout",
     "output_type": "stream",
     "text": [
      "Epoch:885/1000.. Train Loss: 0.151.. Val Loss: 0.226.. Test Loss: 0.204.. Time: 0.23m\n"
     ]
    },
    {
     "name": "stderr",
     "output_type": "stream",
     "text": [
      "100%|██████████| 106/106 [00:12<00:00,  8.76it/s]\n",
      "100%|██████████| 18/18 [00:00<00:00, 42.07it/s]\n",
      "100%|██████████| 53/53 [00:01<00:00, 42.66it/s]\n"
     ]
    },
    {
     "name": "stdout",
     "output_type": "stream",
     "text": [
      "Epoch:886/1000.. Train Loss: 0.152.. Val Loss: 0.226.. Test Loss: 0.205.. Time: 0.23m\n"
     ]
    },
    {
     "name": "stderr",
     "output_type": "stream",
     "text": [
      "100%|██████████| 106/106 [00:12<00:00,  8.71it/s]\n",
      "100%|██████████| 18/18 [00:00<00:00, 42.22it/s]\n",
      "100%|██████████| 53/53 [00:01<00:00, 42.20it/s]\n"
     ]
    },
    {
     "name": "stdout",
     "output_type": "stream",
     "text": [
      "Epoch:887/1000.. Train Loss: 0.149.. Val Loss: 0.225.. Test Loss: 0.205.. Time: 0.23m\n"
     ]
    },
    {
     "name": "stderr",
     "output_type": "stream",
     "text": [
      "100%|██████████| 106/106 [00:12<00:00,  8.73it/s]\n",
      "100%|██████████| 18/18 [00:00<00:00, 41.95it/s]\n",
      "100%|██████████| 53/53 [00:01<00:00, 42.09it/s]\n"
     ]
    },
    {
     "name": "stdout",
     "output_type": "stream",
     "text": [
      "Epoch:888/1000.. Train Loss: 0.151.. Val Loss: 0.226.. Test Loss: 0.205.. Time: 0.23m\n"
     ]
    },
    {
     "name": "stderr",
     "output_type": "stream",
     "text": [
      "100%|██████████| 106/106 [00:12<00:00,  8.65it/s]\n",
      "100%|██████████| 18/18 [00:00<00:00, 42.41it/s]\n",
      "100%|██████████| 53/53 [00:01<00:00, 42.74it/s]\n"
     ]
    },
    {
     "name": "stdout",
     "output_type": "stream",
     "text": [
      "Epoch:889/1000.. Train Loss: 0.150.. Val Loss: 0.227.. Test Loss: 0.206.. Time: 0.23m\n"
     ]
    },
    {
     "name": "stderr",
     "output_type": "stream",
     "text": [
      "100%|██████████| 106/106 [00:12<00:00,  8.76it/s]\n",
      "100%|██████████| 18/18 [00:00<00:00, 43.06it/s]\n",
      "100%|██████████| 53/53 [00:01<00:00, 42.36it/s]\n"
     ]
    },
    {
     "name": "stdout",
     "output_type": "stream",
     "text": [
      "Epoch:890/1000.. Train Loss: 0.151.. Val Loss: 0.231.. Test Loss: 0.205.. Time: 0.23m\n"
     ]
    },
    {
     "name": "stderr",
     "output_type": "stream",
     "text": [
      "100%|██████████| 106/106 [00:12<00:00,  8.59it/s]\n",
      "100%|██████████| 18/18 [00:00<00:00, 42.90it/s]\n",
      "100%|██████████| 53/53 [00:01<00:00, 41.52it/s]\n"
     ]
    },
    {
     "name": "stdout",
     "output_type": "stream",
     "text": [
      "Epoch:891/1000.. Train Loss: 0.151.. Val Loss: 0.226.. Test Loss: 0.205.. Time: 0.23m\n"
     ]
    },
    {
     "name": "stderr",
     "output_type": "stream",
     "text": [
      "100%|██████████| 106/106 [00:12<00:00,  8.82it/s]\n",
      "100%|██████████| 18/18 [00:00<00:00, 41.87it/s]\n",
      "100%|██████████| 53/53 [00:01<00:00, 42.90it/s]\n"
     ]
    },
    {
     "name": "stdout",
     "output_type": "stream",
     "text": [
      "Epoch:892/1000.. Train Loss: 0.151.. Val Loss: 0.225.. Test Loss: 0.205.. Time: 0.23m\n"
     ]
    },
    {
     "name": "stderr",
     "output_type": "stream",
     "text": [
      "100%|██████████| 106/106 [00:12<00:00,  8.76it/s]\n",
      "100%|██████████| 18/18 [00:00<00:00, 42.33it/s]\n",
      "100%|██████████| 53/53 [00:01<00:00, 43.14it/s]\n"
     ]
    },
    {
     "name": "stdout",
     "output_type": "stream",
     "text": [
      "Epoch:893/1000.. Train Loss: 0.150.. Val Loss: 0.226.. Test Loss: 0.205.. Time: 0.23m\n"
     ]
    },
    {
     "name": "stderr",
     "output_type": "stream",
     "text": [
      "100%|██████████| 106/106 [00:11<00:00,  8.84it/s]\n",
      "100%|██████████| 18/18 [00:00<00:00, 43.62it/s]\n",
      "100%|██████████| 53/53 [00:01<00:00, 43.50it/s]\n"
     ]
    },
    {
     "name": "stdout",
     "output_type": "stream",
     "text": [
      "Epoch:894/1000.. Train Loss: 0.151.. Val Loss: 0.226.. Test Loss: 0.206.. Time: 0.23m\n"
     ]
    },
    {
     "name": "stderr",
     "output_type": "stream",
     "text": [
      "100%|██████████| 106/106 [00:11<00:00,  8.90it/s]\n",
      "100%|██████████| 18/18 [00:00<00:00, 43.11it/s]\n",
      "100%|██████████| 53/53 [00:01<00:00, 42.92it/s]\n"
     ]
    },
    {
     "name": "stdout",
     "output_type": "stream",
     "text": [
      "Epoch:895/1000.. Train Loss: 0.150.. Val Loss: 0.227.. Test Loss: 0.206.. Time: 0.23m\n"
     ]
    },
    {
     "name": "stderr",
     "output_type": "stream",
     "text": [
      "100%|██████████| 106/106 [00:12<00:00,  8.81it/s]\n",
      "100%|██████████| 18/18 [00:00<00:00, 42.97it/s]\n",
      "100%|██████████| 53/53 [00:01<00:00, 43.12it/s]\n"
     ]
    },
    {
     "name": "stdout",
     "output_type": "stream",
     "text": [
      "Epoch:896/1000.. Train Loss: 0.150.. Val Loss: 0.225.. Test Loss: 0.204.. Time: 0.23m\n"
     ]
    },
    {
     "name": "stderr",
     "output_type": "stream",
     "text": [
      "100%|██████████| 106/106 [00:12<00:00,  8.81it/s]\n",
      "100%|██████████| 18/18 [00:00<00:00, 42.73it/s]\n",
      "100%|██████████| 53/53 [00:01<00:00, 42.78it/s]\n"
     ]
    },
    {
     "name": "stdout",
     "output_type": "stream",
     "text": [
      "Epoch:897/1000.. Train Loss: 0.150.. Val Loss: 0.225.. Test Loss: 0.204.. Time: 0.23m\n"
     ]
    },
    {
     "name": "stderr",
     "output_type": "stream",
     "text": [
      "100%|██████████| 106/106 [00:12<00:00,  8.36it/s]\n",
      "100%|██████████| 18/18 [00:00<00:00, 43.46it/s]\n",
      "100%|██████████| 53/53 [00:01<00:00, 43.49it/s]\n"
     ]
    },
    {
     "name": "stdout",
     "output_type": "stream",
     "text": [
      "Epoch:898/1000.. Train Loss: 0.149.. Val Loss: 0.225.. Test Loss: 0.205.. Time: 0.24m\n"
     ]
    },
    {
     "name": "stderr",
     "output_type": "stream",
     "text": [
      "100%|██████████| 106/106 [00:12<00:00,  8.70it/s]\n",
      "100%|██████████| 18/18 [00:00<00:00, 42.85it/s]\n",
      "100%|██████████| 53/53 [00:01<00:00, 42.65it/s]\n"
     ]
    },
    {
     "name": "stdout",
     "output_type": "stream",
     "text": [
      "Epoch:899/1000.. Train Loss: 0.149.. Val Loss: 0.227.. Test Loss: 0.205.. Time: 0.23m\n"
     ]
    },
    {
     "name": "stderr",
     "output_type": "stream",
     "text": [
      "100%|██████████| 106/106 [00:12<00:00,  8.66it/s]\n",
      "100%|██████████| 18/18 [00:00<00:00, 42.66it/s]\n",
      "100%|██████████| 53/53 [00:01<00:00, 42.87it/s]\n"
     ]
    },
    {
     "name": "stdout",
     "output_type": "stream",
     "text": [
      "Epoch:900/1000.. Train Loss: 0.149.. Val Loss: 0.228.. Test Loss: 0.205.. Time: 0.23m\n"
     ]
    },
    {
     "name": "stderr",
     "output_type": "stream",
     "text": [
      "100%|██████████| 106/106 [00:12<00:00,  8.67it/s]\n",
      "100%|██████████| 18/18 [00:00<00:00, 41.25it/s]\n",
      "100%|██████████| 53/53 [00:01<00:00, 42.68it/s]\n"
     ]
    },
    {
     "name": "stdout",
     "output_type": "stream",
     "text": [
      "Epoch:901/1000.. Train Loss: 0.149.. Val Loss: 0.224.. Test Loss: 0.204.. Time: 0.23m\n"
     ]
    },
    {
     "name": "stderr",
     "output_type": "stream",
     "text": [
      "100%|██████████| 106/106 [00:12<00:00,  8.73it/s]\n",
      "100%|██████████| 18/18 [00:00<00:00, 42.96it/s]\n",
      "100%|██████████| 53/53 [00:01<00:00, 42.92it/s]\n"
     ]
    },
    {
     "name": "stdout",
     "output_type": "stream",
     "text": [
      "Epoch:902/1000.. Train Loss: 0.150.. Val Loss: 0.225.. Test Loss: 0.204.. Time: 0.23m\n"
     ]
    },
    {
     "name": "stderr",
     "output_type": "stream",
     "text": [
      "100%|██████████| 106/106 [00:11<00:00,  8.86it/s]\n",
      "100%|██████████| 18/18 [00:00<00:00, 42.76it/s]\n",
      "100%|██████████| 53/53 [00:01<00:00, 41.74it/s]\n"
     ]
    },
    {
     "name": "stdout",
     "output_type": "stream",
     "text": [
      "Epoch:903/1000.. Train Loss: 0.151.. Val Loss: 0.231.. Test Loss: 0.205.. Time: 0.23m\n"
     ]
    },
    {
     "name": "stderr",
     "output_type": "stream",
     "text": [
      "100%|██████████| 106/106 [00:12<00:00,  8.76it/s]\n",
      "100%|██████████| 18/18 [00:00<00:00, 42.94it/s]\n",
      "100%|██████████| 53/53 [00:01<00:00, 42.95it/s]\n"
     ]
    },
    {
     "name": "stdout",
     "output_type": "stream",
     "text": [
      "Epoch:904/1000.. Train Loss: 0.152.. Val Loss: 0.227.. Test Loss: 0.205.. Time: 0.23m\n"
     ]
    },
    {
     "name": "stderr",
     "output_type": "stream",
     "text": [
      "100%|██████████| 106/106 [00:12<00:00,  8.73it/s]\n",
      "100%|██████████| 18/18 [00:00<00:00, 43.14it/s]\n",
      "100%|██████████| 53/53 [00:01<00:00, 43.00it/s]\n"
     ]
    },
    {
     "name": "stdout",
     "output_type": "stream",
     "text": [
      "Epoch:905/1000.. Train Loss: 0.151.. Val Loss: 0.227.. Test Loss: 0.206.. Time: 0.23m\n"
     ]
    },
    {
     "name": "stderr",
     "output_type": "stream",
     "text": [
      "100%|██████████| 106/106 [00:12<00:00,  8.58it/s]\n",
      "100%|██████████| 18/18 [00:00<00:00, 43.14it/s]\n",
      "100%|██████████| 53/53 [00:01<00:00, 42.95it/s]\n"
     ]
    },
    {
     "name": "stdout",
     "output_type": "stream",
     "text": [
      "Epoch:906/1000.. Train Loss: 0.151.. Val Loss: 0.227.. Test Loss: 0.205.. Time: 0.23m\n"
     ]
    },
    {
     "name": "stderr",
     "output_type": "stream",
     "text": [
      "100%|██████████| 106/106 [00:12<00:00,  8.43it/s]\n",
      "100%|██████████| 18/18 [00:00<00:00, 43.12it/s]\n",
      "100%|██████████| 53/53 [00:01<00:00, 42.11it/s]\n"
     ]
    },
    {
     "name": "stdout",
     "output_type": "stream",
     "text": [
      "Epoch:907/1000.. Train Loss: 0.149.. Val Loss: 0.231.. Test Loss: 0.205.. Time: 0.24m\n"
     ]
    },
    {
     "name": "stderr",
     "output_type": "stream",
     "text": [
      "100%|██████████| 106/106 [00:12<00:00,  8.32it/s]\n",
      "100%|██████████| 18/18 [00:00<00:00, 42.75it/s]\n",
      "100%|██████████| 53/53 [00:01<00:00, 43.24it/s]\n"
     ]
    },
    {
     "name": "stdout",
     "output_type": "stream",
     "text": [
      "Epoch:908/1000.. Train Loss: 0.149.. Val Loss: 0.225.. Test Loss: 0.205.. Time: 0.24m\n"
     ]
    },
    {
     "name": "stderr",
     "output_type": "stream",
     "text": [
      "100%|██████████| 106/106 [00:11<00:00,  8.88it/s]\n",
      "100%|██████████| 18/18 [00:00<00:00, 41.52it/s]\n",
      "100%|██████████| 53/53 [00:01<00:00, 41.62it/s]\n"
     ]
    },
    {
     "name": "stdout",
     "output_type": "stream",
     "text": [
      "Epoch:909/1000.. Train Loss: 0.151.. Val Loss: 0.224.. Test Loss: 0.204.. Time: 0.23m\n"
     ]
    },
    {
     "name": "stderr",
     "output_type": "stream",
     "text": [
      "100%|██████████| 106/106 [00:12<00:00,  8.69it/s]\n",
      "100%|██████████| 18/18 [00:00<00:00, 40.88it/s]\n",
      "100%|██████████| 53/53 [00:01<00:00, 42.43it/s]\n"
     ]
    },
    {
     "name": "stdout",
     "output_type": "stream",
     "text": [
      "Epoch:910/1000.. Train Loss: 0.150.. Val Loss: 0.225.. Test Loss: 0.205.. Time: 0.23m\n"
     ]
    },
    {
     "name": "stderr",
     "output_type": "stream",
     "text": [
      "100%|██████████| 106/106 [00:12<00:00,  8.79it/s]\n",
      "100%|██████████| 18/18 [00:00<00:00, 42.98it/s]\n",
      "100%|██████████| 53/53 [00:01<00:00, 42.65it/s]\n"
     ]
    },
    {
     "name": "stdout",
     "output_type": "stream",
     "text": [
      "Epoch:911/1000.. Train Loss: 0.151.. Val Loss: 0.225.. Test Loss: 0.206.. Time: 0.23m\n"
     ]
    },
    {
     "name": "stderr",
     "output_type": "stream",
     "text": [
      "100%|██████████| 106/106 [00:12<00:00,  8.77it/s]\n",
      "100%|██████████| 18/18 [00:00<00:00, 43.12it/s]\n",
      "100%|██████████| 53/53 [00:01<00:00, 43.06it/s]\n"
     ]
    },
    {
     "name": "stdout",
     "output_type": "stream",
     "text": [
      "Epoch:912/1000.. Train Loss: 0.150.. Val Loss: 0.227.. Test Loss: 0.205.. Time: 0.23m\n"
     ]
    },
    {
     "name": "stderr",
     "output_type": "stream",
     "text": [
      "100%|██████████| 106/106 [00:12<00:00,  8.78it/s]\n",
      "100%|██████████| 18/18 [00:00<00:00, 43.11it/s]\n",
      "100%|██████████| 53/53 [00:01<00:00, 42.89it/s]\n"
     ]
    },
    {
     "name": "stdout",
     "output_type": "stream",
     "text": [
      "Epoch:913/1000.. Train Loss: 0.150.. Val Loss: 0.224.. Test Loss: 0.205.. Time: 0.23m\n"
     ]
    },
    {
     "name": "stderr",
     "output_type": "stream",
     "text": [
      "100%|██████████| 106/106 [00:12<00:00,  8.74it/s]\n",
      "100%|██████████| 18/18 [00:00<00:00, 41.76it/s]\n",
      "100%|██████████| 53/53 [00:01<00:00, 41.88it/s]\n"
     ]
    },
    {
     "name": "stdout",
     "output_type": "stream",
     "text": [
      "Epoch:914/1000.. Train Loss: 0.150.. Val Loss: 0.225.. Test Loss: 0.205.. Time: 0.23m\n"
     ]
    },
    {
     "name": "stderr",
     "output_type": "stream",
     "text": [
      "100%|██████████| 106/106 [00:11<00:00,  8.99it/s]\n",
      "100%|██████████| 18/18 [00:00<00:00, 43.09it/s]\n",
      "100%|██████████| 53/53 [00:01<00:00, 43.01it/s]\n"
     ]
    },
    {
     "name": "stdout",
     "output_type": "stream",
     "text": [
      "Epoch:915/1000.. Train Loss: 0.149.. Val Loss: 0.226.. Test Loss: 0.204.. Time: 0.22m\n"
     ]
    },
    {
     "name": "stderr",
     "output_type": "stream",
     "text": [
      "100%|██████████| 106/106 [00:12<00:00,  8.80it/s]\n",
      "100%|██████████| 18/18 [00:00<00:00, 43.16it/s]\n",
      "100%|██████████| 53/53 [00:01<00:00, 42.94it/s]\n"
     ]
    },
    {
     "name": "stdout",
     "output_type": "stream",
     "text": [
      "Epoch:916/1000.. Train Loss: 0.151.. Val Loss: 0.225.. Test Loss: 0.206.. Time: 0.23m\n"
     ]
    },
    {
     "name": "stderr",
     "output_type": "stream",
     "text": [
      "100%|██████████| 106/106 [00:12<00:00,  8.47it/s]\n",
      "100%|██████████| 18/18 [00:00<00:00, 42.98it/s]\n",
      "100%|██████████| 53/53 [00:01<00:00, 41.73it/s]\n"
     ]
    },
    {
     "name": "stdout",
     "output_type": "stream",
     "text": [
      "Epoch:917/1000.. Train Loss: 0.149.. Val Loss: 0.225.. Test Loss: 0.205.. Time: 0.24m\n"
     ]
    },
    {
     "name": "stderr",
     "output_type": "stream",
     "text": [
      "100%|██████████| 106/106 [00:12<00:00,  8.72it/s]\n",
      "100%|██████████| 18/18 [00:00<00:00, 42.93it/s]\n",
      "100%|██████████| 53/53 [00:01<00:00, 42.99it/s]\n"
     ]
    },
    {
     "name": "stdout",
     "output_type": "stream",
     "text": [
      "Epoch:918/1000.. Train Loss: 0.151.. Val Loss: 0.225.. Test Loss: 0.205.. Time: 0.23m\n"
     ]
    },
    {
     "name": "stderr",
     "output_type": "stream",
     "text": [
      "100%|██████████| 106/106 [00:12<00:00,  8.73it/s]\n",
      "100%|██████████| 18/18 [00:00<00:00, 42.81it/s]\n",
      "100%|██████████| 53/53 [00:01<00:00, 42.94it/s]\n"
     ]
    },
    {
     "name": "stdout",
     "output_type": "stream",
     "text": [
      "Epoch:919/1000.. Train Loss: 0.149.. Val Loss: 0.227.. Test Loss: 0.205.. Time: 0.23m\n"
     ]
    },
    {
     "name": "stderr",
     "output_type": "stream",
     "text": [
      "100%|██████████| 106/106 [00:11<00:00,  8.87it/s]\n",
      "100%|██████████| 18/18 [00:00<00:00, 42.69it/s]\n",
      "100%|██████████| 53/53 [00:01<00:00, 42.73it/s]\n"
     ]
    },
    {
     "name": "stdout",
     "output_type": "stream",
     "text": [
      "Epoch:920/1000.. Train Loss: 0.150.. Val Loss: 0.223.. Test Loss: 0.204.. Time: 0.23m\n"
     ]
    },
    {
     "name": "stderr",
     "output_type": "stream",
     "text": [
      "100%|██████████| 106/106 [00:11<00:00,  8.84it/s]\n",
      "100%|██████████| 18/18 [00:00<00:00, 42.83it/s]\n",
      "100%|██████████| 53/53 [00:01<00:00, 42.61it/s]\n"
     ]
    },
    {
     "name": "stdout",
     "output_type": "stream",
     "text": [
      "Epoch:921/1000.. Train Loss: 0.149.. Val Loss: 0.227.. Test Loss: 0.205.. Time: 0.23m\n"
     ]
    },
    {
     "name": "stderr",
     "output_type": "stream",
     "text": [
      "100%|██████████| 106/106 [00:12<00:00,  8.74it/s]\n",
      "100%|██████████| 18/18 [00:00<00:00, 43.17it/s]\n",
      "100%|██████████| 53/53 [00:01<00:00, 43.30it/s]\n"
     ]
    },
    {
     "name": "stdout",
     "output_type": "stream",
     "text": [
      "Epoch:922/1000.. Train Loss: 0.149.. Val Loss: 0.226.. Test Loss: 0.205.. Time: 0.23m\n"
     ]
    },
    {
     "name": "stderr",
     "output_type": "stream",
     "text": [
      "100%|██████████| 106/106 [00:12<00:00,  8.80it/s]\n",
      "100%|██████████| 18/18 [00:00<00:00, 42.83it/s]\n",
      "100%|██████████| 53/53 [00:01<00:00, 42.75it/s]\n"
     ]
    },
    {
     "name": "stdout",
     "output_type": "stream",
     "text": [
      "Epoch:923/1000.. Train Loss: 0.149.. Val Loss: 0.230.. Test Loss: 0.206.. Time: 0.23m\n"
     ]
    },
    {
     "name": "stderr",
     "output_type": "stream",
     "text": [
      "100%|██████████| 106/106 [00:12<00:00,  8.82it/s]\n",
      "100%|██████████| 18/18 [00:00<00:00, 42.90it/s]\n",
      "100%|██████████| 53/53 [00:01<00:00, 42.80it/s]\n"
     ]
    },
    {
     "name": "stdout",
     "output_type": "stream",
     "text": [
      "Epoch:924/1000.. Train Loss: 0.150.. Val Loss: 0.225.. Test Loss: 0.205.. Time: 0.23m\n"
     ]
    },
    {
     "name": "stderr",
     "output_type": "stream",
     "text": [
      "100%|██████████| 106/106 [00:12<00:00,  8.45it/s]\n",
      "100%|██████████| 18/18 [00:00<00:00, 42.35it/s]\n",
      "100%|██████████| 53/53 [00:01<00:00, 42.74it/s]\n"
     ]
    },
    {
     "name": "stdout",
     "output_type": "stream",
     "text": [
      "Epoch:925/1000.. Train Loss: 0.152.. Val Loss: 0.225.. Test Loss: 0.205.. Time: 0.24m\n"
     ]
    },
    {
     "name": "stderr",
     "output_type": "stream",
     "text": [
      "100%|██████████| 106/106 [00:12<00:00,  8.82it/s]\n",
      "100%|██████████| 18/18 [00:00<00:00, 42.67it/s]\n",
      "100%|██████████| 53/53 [00:01<00:00, 43.19it/s]\n"
     ]
    },
    {
     "name": "stdout",
     "output_type": "stream",
     "text": [
      "Epoch:926/1000.. Train Loss: 0.149.. Val Loss: 0.225.. Test Loss: 0.205.. Time: 0.23m\n"
     ]
    },
    {
     "name": "stderr",
     "output_type": "stream",
     "text": [
      "100%|██████████| 106/106 [00:12<00:00,  8.61it/s]\n",
      "100%|██████████| 18/18 [00:00<00:00, 42.39it/s]\n",
      "100%|██████████| 53/53 [00:01<00:00, 41.95it/s]\n"
     ]
    },
    {
     "name": "stdout",
     "output_type": "stream",
     "text": [
      "Epoch:927/1000.. Train Loss: 0.149.. Val Loss: 0.226.. Test Loss: 0.205.. Time: 0.23m\n"
     ]
    },
    {
     "name": "stderr",
     "output_type": "stream",
     "text": [
      "100%|██████████| 106/106 [00:12<00:00,  8.78it/s]\n",
      "100%|██████████| 18/18 [00:00<00:00, 42.40it/s]\n",
      "100%|██████████| 53/53 [00:01<00:00, 42.25it/s]\n"
     ]
    },
    {
     "name": "stdout",
     "output_type": "stream",
     "text": [
      "Epoch:928/1000.. Train Loss: 0.150.. Val Loss: 0.225.. Test Loss: 0.206.. Time: 0.23m\n"
     ]
    },
    {
     "name": "stderr",
     "output_type": "stream",
     "text": [
      "100%|██████████| 106/106 [00:12<00:00,  8.75it/s]\n",
      "100%|██████████| 18/18 [00:00<00:00, 43.06it/s]\n",
      "100%|██████████| 53/53 [00:01<00:00, 42.94it/s]\n"
     ]
    },
    {
     "name": "stdout",
     "output_type": "stream",
     "text": [
      "Epoch:929/1000.. Train Loss: 0.151.. Val Loss: 0.226.. Test Loss: 0.205.. Time: 0.23m\n"
     ]
    },
    {
     "name": "stderr",
     "output_type": "stream",
     "text": [
      "100%|██████████| 106/106 [00:12<00:00,  8.75it/s]\n",
      "100%|██████████| 18/18 [00:00<00:00, 42.92it/s]\n",
      "100%|██████████| 53/53 [00:01<00:00, 43.09it/s]\n"
     ]
    },
    {
     "name": "stdout",
     "output_type": "stream",
     "text": [
      "Epoch:930/1000.. Train Loss: 0.151.. Val Loss: 0.225.. Test Loss: 0.206.. Time: 0.23m\n"
     ]
    },
    {
     "name": "stderr",
     "output_type": "stream",
     "text": [
      "100%|██████████| 106/106 [00:12<00:00,  8.74it/s]\n",
      "100%|██████████| 18/18 [00:00<00:00, 41.35it/s]\n",
      "100%|██████████| 53/53 [00:01<00:00, 40.76it/s]\n"
     ]
    },
    {
     "name": "stdout",
     "output_type": "stream",
     "text": [
      "Epoch:931/1000.. Train Loss: 0.149.. Val Loss: 0.225.. Test Loss: 0.205.. Time: 0.23m\n"
     ]
    },
    {
     "name": "stderr",
     "output_type": "stream",
     "text": [
      "100%|██████████| 106/106 [00:11<00:00,  8.84it/s]\n",
      "100%|██████████| 18/18 [00:00<00:00, 41.11it/s]\n",
      "100%|██████████| 53/53 [00:01<00:00, 41.06it/s]\n"
     ]
    },
    {
     "name": "stdout",
     "output_type": "stream",
     "text": [
      "Epoch:932/1000.. Train Loss: 0.149.. Val Loss: 0.227.. Test Loss: 0.205.. Time: 0.23m\n"
     ]
    },
    {
     "name": "stderr",
     "output_type": "stream",
     "text": [
      "100%|██████████| 106/106 [00:12<00:00,  8.21it/s]\n",
      "100%|██████████| 18/18 [00:00<00:00, 41.69it/s]\n",
      "100%|██████████| 53/53 [00:01<00:00, 41.51it/s]\n"
     ]
    },
    {
     "name": "stdout",
     "output_type": "stream",
     "text": [
      "Epoch:933/1000.. Train Loss: 0.151.. Val Loss: 0.225.. Test Loss: 0.205.. Time: 0.24m\n"
     ]
    },
    {
     "name": "stderr",
     "output_type": "stream",
     "text": [
      "100%|██████████| 106/106 [00:12<00:00,  8.70it/s]\n",
      "100%|██████████| 18/18 [00:00<00:00, 42.62it/s]\n",
      "100%|██████████| 53/53 [00:01<00:00, 42.66it/s]\n"
     ]
    },
    {
     "name": "stdout",
     "output_type": "stream",
     "text": [
      "Epoch:934/1000.. Train Loss: 0.150.. Val Loss: 0.227.. Test Loss: 0.205.. Time: 0.23m\n"
     ]
    },
    {
     "name": "stderr",
     "output_type": "stream",
     "text": [
      "100%|██████████| 106/106 [00:12<00:00,  8.65it/s]\n",
      "100%|██████████| 18/18 [00:00<00:00, 42.84it/s]\n",
      "100%|██████████| 53/53 [00:01<00:00, 42.65it/s]\n"
     ]
    },
    {
     "name": "stdout",
     "output_type": "stream",
     "text": [
      "Epoch:935/1000.. Train Loss: 0.150.. Val Loss: 0.225.. Test Loss: 0.205.. Time: 0.23m\n"
     ]
    },
    {
     "name": "stderr",
     "output_type": "stream",
     "text": [
      "100%|██████████| 106/106 [00:12<00:00,  8.21it/s]\n",
      "100%|██████████| 18/18 [00:00<00:00, 42.53it/s]\n",
      "100%|██████████| 53/53 [00:01<00:00, 42.75it/s]\n"
     ]
    },
    {
     "name": "stdout",
     "output_type": "stream",
     "text": [
      "Epoch:936/1000.. Train Loss: 0.151.. Val Loss: 0.227.. Test Loss: 0.205.. Time: 0.24m\n"
     ]
    },
    {
     "name": "stderr",
     "output_type": "stream",
     "text": [
      "100%|██████████| 106/106 [00:12<00:00,  8.32it/s]\n",
      "100%|██████████| 18/18 [00:00<00:00, 43.12it/s]\n",
      "100%|██████████| 53/53 [00:01<00:00, 42.86it/s]\n"
     ]
    },
    {
     "name": "stdout",
     "output_type": "stream",
     "text": [
      "Epoch:937/1000.. Train Loss: 0.152.. Val Loss: 0.225.. Test Loss: 0.206.. Time: 0.24m\n"
     ]
    },
    {
     "name": "stderr",
     "output_type": "stream",
     "text": [
      "100%|██████████| 106/106 [00:12<00:00,  8.69it/s]\n",
      "100%|██████████| 18/18 [00:00<00:00, 42.77it/s]\n",
      "100%|██████████| 53/53 [00:01<00:00, 42.39it/s]\n"
     ]
    },
    {
     "name": "stdout",
     "output_type": "stream",
     "text": [
      "Epoch:938/1000.. Train Loss: 0.149.. Val Loss: 0.225.. Test Loss: 0.204.. Time: 0.23m\n"
     ]
    },
    {
     "name": "stderr",
     "output_type": "stream",
     "text": [
      "100%|██████████| 106/106 [00:12<00:00,  8.78it/s]\n",
      "100%|██████████| 18/18 [00:00<00:00, 43.55it/s]\n",
      "100%|██████████| 53/53 [00:01<00:00, 43.00it/s]\n"
     ]
    },
    {
     "name": "stdout",
     "output_type": "stream",
     "text": [
      "Epoch:939/1000.. Train Loss: 0.149.. Val Loss: 0.226.. Test Loss: 0.205.. Time: 0.23m\n"
     ]
    },
    {
     "name": "stderr",
     "output_type": "stream",
     "text": [
      "100%|██████████| 106/106 [00:12<00:00,  8.81it/s]\n",
      "100%|██████████| 18/18 [00:00<00:00, 43.25it/s]\n",
      "100%|██████████| 53/53 [00:01<00:00, 43.07it/s]\n"
     ]
    },
    {
     "name": "stdout",
     "output_type": "stream",
     "text": [
      "Epoch:940/1000.. Train Loss: 0.152.. Val Loss: 0.229.. Test Loss: 0.206.. Time: 0.23m\n"
     ]
    },
    {
     "name": "stderr",
     "output_type": "stream",
     "text": [
      "100%|██████████| 106/106 [00:12<00:00,  8.83it/s]\n",
      "100%|██████████| 18/18 [00:00<00:00, 42.09it/s]\n",
      "100%|██████████| 53/53 [00:01<00:00, 42.00it/s]\n"
     ]
    },
    {
     "name": "stdout",
     "output_type": "stream",
     "text": [
      "Epoch:941/1000.. Train Loss: 0.152.. Val Loss: 0.225.. Test Loss: 0.205.. Time: 0.23m\n"
     ]
    },
    {
     "name": "stderr",
     "output_type": "stream",
     "text": [
      "100%|██████████| 106/106 [00:12<00:00,  8.44it/s]\n",
      "100%|██████████| 18/18 [00:00<00:00, 42.08it/s]\n",
      "100%|██████████| 53/53 [00:01<00:00, 41.94it/s]\n"
     ]
    },
    {
     "name": "stdout",
     "output_type": "stream",
     "text": [
      "Epoch:942/1000.. Train Loss: 0.149.. Val Loss: 0.226.. Test Loss: 0.205.. Time: 0.24m\n"
     ]
    },
    {
     "name": "stderr",
     "output_type": "stream",
     "text": [
      "100%|██████████| 106/106 [00:12<00:00,  8.44it/s]\n",
      "100%|██████████| 18/18 [00:00<00:00, 42.94it/s]\n",
      "100%|██████████| 53/53 [00:01<00:00, 42.73it/s]\n"
     ]
    },
    {
     "name": "stdout",
     "output_type": "stream",
     "text": [
      "Epoch:943/1000.. Train Loss: 0.151.. Val Loss: 0.223.. Test Loss: 0.206.. Time: 0.24m\n"
     ]
    },
    {
     "name": "stderr",
     "output_type": "stream",
     "text": [
      "100%|██████████| 106/106 [00:12<00:00,  8.66it/s]\n",
      "100%|██████████| 18/18 [00:00<00:00, 42.47it/s]\n",
      "100%|██████████| 53/53 [00:01<00:00, 42.80it/s]\n"
     ]
    },
    {
     "name": "stdout",
     "output_type": "stream",
     "text": [
      "Epoch:944/1000.. Train Loss: 0.151.. Val Loss: 0.225.. Test Loss: 0.205.. Time: 0.23m\n"
     ]
    },
    {
     "name": "stderr",
     "output_type": "stream",
     "text": [
      "100%|██████████| 106/106 [00:12<00:00,  8.63it/s]\n",
      "100%|██████████| 18/18 [00:00<00:00, 43.09it/s]\n",
      "100%|██████████| 53/53 [00:01<00:00, 42.83it/s]\n"
     ]
    },
    {
     "name": "stdout",
     "output_type": "stream",
     "text": [
      "Epoch:945/1000.. Train Loss: 0.149.. Val Loss: 0.225.. Test Loss: 0.205.. Time: 0.23m\n"
     ]
    },
    {
     "name": "stderr",
     "output_type": "stream",
     "text": [
      "100%|██████████| 106/106 [00:12<00:00,  8.52it/s]\n",
      "100%|██████████| 18/18 [00:00<00:00, 42.82it/s]\n",
      "100%|██████████| 53/53 [00:01<00:00, 42.74it/s]\n"
     ]
    },
    {
     "name": "stdout",
     "output_type": "stream",
     "text": [
      "Epoch:946/1000.. Train Loss: 0.152.. Val Loss: 0.225.. Test Loss: 0.206.. Time: 0.24m\n"
     ]
    },
    {
     "name": "stderr",
     "output_type": "stream",
     "text": [
      "100%|██████████| 106/106 [00:12<00:00,  8.62it/s]\n",
      "100%|██████████| 18/18 [00:00<00:00, 43.09it/s]\n",
      "100%|██████████| 53/53 [00:01<00:00, 42.62it/s]\n"
     ]
    },
    {
     "name": "stdout",
     "output_type": "stream",
     "text": [
      "Epoch:947/1000.. Train Loss: 0.152.. Val Loss: 0.227.. Test Loss: 0.205.. Time: 0.23m\n"
     ]
    },
    {
     "name": "stderr",
     "output_type": "stream",
     "text": [
      "100%|██████████| 106/106 [00:12<00:00,  8.51it/s]\n",
      "100%|██████████| 18/18 [00:00<00:00, 40.93it/s]\n",
      "100%|██████████| 53/53 [00:01<00:00, 41.93it/s]\n"
     ]
    },
    {
     "name": "stdout",
     "output_type": "stream",
     "text": [
      "Epoch:948/1000.. Train Loss: 0.149.. Val Loss: 0.223.. Test Loss: 0.205.. Time: 0.24m\n"
     ]
    },
    {
     "name": "stderr",
     "output_type": "stream",
     "text": [
      "100%|██████████| 106/106 [00:12<00:00,  8.23it/s]\n",
      "100%|██████████| 18/18 [00:00<00:00, 42.76it/s]\n",
      "100%|██████████| 53/53 [00:01<00:00, 42.56it/s]\n"
     ]
    },
    {
     "name": "stdout",
     "output_type": "stream",
     "text": [
      "Epoch:949/1000.. Train Loss: 0.149.. Val Loss: 0.231.. Test Loss: 0.205.. Time: 0.24m\n"
     ]
    },
    {
     "name": "stderr",
     "output_type": "stream",
     "text": [
      "100%|██████████| 106/106 [00:12<00:00,  8.55it/s]\n",
      "100%|██████████| 18/18 [00:00<00:00, 42.64it/s]\n",
      "100%|██████████| 53/53 [00:01<00:00, 42.63it/s]\n"
     ]
    },
    {
     "name": "stdout",
     "output_type": "stream",
     "text": [
      "Epoch:950/1000.. Train Loss: 0.150.. Val Loss: 0.232.. Test Loss: 0.204.. Time: 0.24m\n"
     ]
    },
    {
     "name": "stderr",
     "output_type": "stream",
     "text": [
      "100%|██████████| 106/106 [00:12<00:00,  8.53it/s]\n",
      "100%|██████████| 18/18 [00:00<00:00, 41.38it/s]\n",
      "100%|██████████| 53/53 [00:01<00:00, 41.39it/s]\n"
     ]
    },
    {
     "name": "stdout",
     "output_type": "stream",
     "text": [
      "Epoch:951/1000.. Train Loss: 0.150.. Val Loss: 0.227.. Test Loss: 0.204.. Time: 0.24m\n"
     ]
    },
    {
     "name": "stderr",
     "output_type": "stream",
     "text": [
      "100%|██████████| 106/106 [00:12<00:00,  8.49it/s]\n",
      "100%|██████████| 18/18 [00:00<00:00, 43.01it/s]\n",
      "100%|██████████| 53/53 [00:01<00:00, 42.81it/s]\n"
     ]
    },
    {
     "name": "stdout",
     "output_type": "stream",
     "text": [
      "Epoch:952/1000.. Train Loss: 0.149.. Val Loss: 0.224.. Test Loss: 0.205.. Time: 0.24m\n"
     ]
    },
    {
     "name": "stderr",
     "output_type": "stream",
     "text": [
      "100%|██████████| 106/106 [00:12<00:00,  8.77it/s]\n",
      "100%|██████████| 18/18 [00:00<00:00, 42.15it/s]\n",
      "100%|██████████| 53/53 [00:01<00:00, 42.93it/s]\n"
     ]
    },
    {
     "name": "stdout",
     "output_type": "stream",
     "text": [
      "Epoch:953/1000.. Train Loss: 0.151.. Val Loss: 0.230.. Test Loss: 0.205.. Time: 0.23m\n"
     ]
    },
    {
     "name": "stderr",
     "output_type": "stream",
     "text": [
      "100%|██████████| 106/106 [00:12<00:00,  8.67it/s]\n",
      "100%|██████████| 18/18 [00:00<00:00, 43.29it/s]\n",
      "100%|██████████| 53/53 [00:01<00:00, 43.50it/s]\n"
     ]
    },
    {
     "name": "stdout",
     "output_type": "stream",
     "text": [
      "Epoch:954/1000.. Train Loss: 0.149.. Val Loss: 0.224.. Test Loss: 0.205.. Time: 0.23m\n"
     ]
    },
    {
     "name": "stderr",
     "output_type": "stream",
     "text": [
      "100%|██████████| 106/106 [00:12<00:00,  8.61it/s]\n",
      "100%|██████████| 18/18 [00:00<00:00, 42.99it/s]\n",
      "100%|██████████| 53/53 [00:01<00:00, 42.91it/s]\n"
     ]
    },
    {
     "name": "stdout",
     "output_type": "stream",
     "text": [
      "Epoch:955/1000.. Train Loss: 0.152.. Val Loss: 0.232.. Test Loss: 0.206.. Time: 0.23m\n"
     ]
    },
    {
     "name": "stderr",
     "output_type": "stream",
     "text": [
      "100%|██████████| 106/106 [00:12<00:00,  8.73it/s]\n",
      "100%|██████████| 18/18 [00:00<00:00, 42.73it/s]\n",
      "100%|██████████| 53/53 [00:01<00:00, 42.66it/s]\n"
     ]
    },
    {
     "name": "stdout",
     "output_type": "stream",
     "text": [
      "Epoch:956/1000.. Train Loss: 0.149.. Val Loss: 0.227.. Test Loss: 0.205.. Time: 0.23m\n"
     ]
    },
    {
     "name": "stderr",
     "output_type": "stream",
     "text": [
      "100%|██████████| 106/106 [00:12<00:00,  8.60it/s]\n",
      "100%|██████████| 18/18 [00:00<00:00, 42.84it/s]\n",
      "100%|██████████| 53/53 [00:01<00:00, 42.73it/s]\n"
     ]
    },
    {
     "name": "stdout",
     "output_type": "stream",
     "text": [
      "Epoch:957/1000.. Train Loss: 0.151.. Val Loss: 0.225.. Test Loss: 0.205.. Time: 0.23m\n"
     ]
    },
    {
     "name": "stderr",
     "output_type": "stream",
     "text": [
      "100%|██████████| 106/106 [00:12<00:00,  8.72it/s]\n",
      "100%|██████████| 18/18 [00:00<00:00, 41.30it/s]\n",
      "100%|██████████| 53/53 [00:01<00:00, 41.45it/s]\n"
     ]
    },
    {
     "name": "stdout",
     "output_type": "stream",
     "text": [
      "Epoch:958/1000.. Train Loss: 0.150.. Val Loss: 0.231.. Test Loss: 0.205.. Time: 0.23m\n"
     ]
    },
    {
     "name": "stderr",
     "output_type": "stream",
     "text": [
      "100%|██████████| 106/106 [00:12<00:00,  8.34it/s]\n",
      "100%|██████████| 18/18 [00:00<00:00, 42.99it/s]\n",
      "100%|██████████| 53/53 [00:01<00:00, 42.69it/s]\n"
     ]
    },
    {
     "name": "stdout",
     "output_type": "stream",
     "text": [
      "Epoch:959/1000.. Train Loss: 0.150.. Val Loss: 0.230.. Test Loss: 0.205.. Time: 0.24m\n"
     ]
    },
    {
     "name": "stderr",
     "output_type": "stream",
     "text": [
      "100%|██████████| 106/106 [00:12<00:00,  8.71it/s]\n",
      "100%|██████████| 18/18 [00:00<00:00, 43.14it/s]\n",
      "100%|██████████| 53/53 [00:01<00:00, 43.13it/s]\n"
     ]
    },
    {
     "name": "stdout",
     "output_type": "stream",
     "text": [
      "Epoch:960/1000.. Train Loss: 0.151.. Val Loss: 0.231.. Test Loss: 0.204.. Time: 0.23m\n"
     ]
    },
    {
     "name": "stderr",
     "output_type": "stream",
     "text": [
      "100%|██████████| 106/106 [00:12<00:00,  8.49it/s]\n",
      "100%|██████████| 18/18 [00:00<00:00, 43.16it/s]\n",
      "100%|██████████| 53/53 [00:01<00:00, 43.25it/s]\n"
     ]
    },
    {
     "name": "stdout",
     "output_type": "stream",
     "text": [
      "Epoch:961/1000.. Train Loss: 0.151.. Val Loss: 0.225.. Test Loss: 0.205.. Time: 0.24m\n"
     ]
    },
    {
     "name": "stderr",
     "output_type": "stream",
     "text": [
      "100%|██████████| 106/106 [00:12<00:00,  8.54it/s]\n",
      "100%|██████████| 18/18 [00:00<00:00, 41.27it/s]\n",
      "100%|██████████| 53/53 [00:01<00:00, 41.74it/s]\n"
     ]
    },
    {
     "name": "stdout",
     "output_type": "stream",
     "text": [
      "Epoch:962/1000.. Train Loss: 0.149.. Val Loss: 0.227.. Test Loss: 0.206.. Time: 0.24m\n"
     ]
    },
    {
     "name": "stderr",
     "output_type": "stream",
     "text": [
      "100%|██████████| 106/106 [00:10<00:00,  9.94it/s]\n",
      "100%|██████████| 18/18 [00:00<00:00, 42.81it/s]\n",
      "100%|██████████| 53/53 [00:01<00:00, 42.41it/s]\n"
     ]
    },
    {
     "name": "stdout",
     "output_type": "stream",
     "text": [
      "Epoch:963/1000.. Train Loss: 0.149.. Val Loss: 0.227.. Test Loss: 0.205.. Time: 0.21m\n"
     ]
    },
    {
     "name": "stderr",
     "output_type": "stream",
     "text": [
      "100%|██████████| 106/106 [00:12<00:00,  8.73it/s]\n",
      "100%|██████████| 18/18 [00:00<00:00, 42.34it/s]\n",
      "100%|██████████| 53/53 [00:01<00:00, 41.96it/s]\n"
     ]
    },
    {
     "name": "stdout",
     "output_type": "stream",
     "text": [
      "Epoch:964/1000.. Train Loss: 0.151.. Val Loss: 0.223.. Test Loss: 0.206.. Time: 0.23m\n"
     ]
    },
    {
     "name": "stderr",
     "output_type": "stream",
     "text": [
      "100%|██████████| 106/106 [00:12<00:00,  8.78it/s]\n",
      "100%|██████████| 18/18 [00:00<00:00, 42.08it/s]\n",
      "100%|██████████| 53/53 [00:01<00:00, 42.56it/s]\n"
     ]
    },
    {
     "name": "stdout",
     "output_type": "stream",
     "text": [
      "Epoch:965/1000.. Train Loss: 0.150.. Val Loss: 0.232.. Test Loss: 0.205.. Time: 0.23m\n"
     ]
    },
    {
     "name": "stderr",
     "output_type": "stream",
     "text": [
      "100%|██████████| 106/106 [00:12<00:00,  8.26it/s]\n",
      "100%|██████████| 18/18 [00:00<00:00, 42.34it/s]\n",
      "100%|██████████| 53/53 [00:01<00:00, 42.68it/s]\n"
     ]
    },
    {
     "name": "stdout",
     "output_type": "stream",
     "text": [
      "Epoch:966/1000.. Train Loss: 0.151.. Val Loss: 0.225.. Test Loss: 0.204.. Time: 0.24m\n"
     ]
    },
    {
     "name": "stderr",
     "output_type": "stream",
     "text": [
      "100%|██████████| 106/106 [00:12<00:00,  8.51it/s]\n",
      "100%|██████████| 18/18 [00:00<00:00, 40.35it/s]\n",
      "100%|██████████| 53/53 [00:01<00:00, 42.70it/s]\n"
     ]
    },
    {
     "name": "stdout",
     "output_type": "stream",
     "text": [
      "Epoch:967/1000.. Train Loss: 0.150.. Val Loss: 0.225.. Test Loss: 0.205.. Time: 0.24m\n"
     ]
    },
    {
     "name": "stderr",
     "output_type": "stream",
     "text": [
      "100%|██████████| 106/106 [00:12<00:00,  8.44it/s]\n",
      "100%|██████████| 18/18 [00:00<00:00, 43.05it/s]\n",
      "100%|██████████| 53/53 [00:01<00:00, 43.14it/s]\n"
     ]
    },
    {
     "name": "stdout",
     "output_type": "stream",
     "text": [
      "Epoch:968/1000.. Train Loss: 0.149.. Val Loss: 0.225.. Test Loss: 0.206.. Time: 0.24m\n"
     ]
    },
    {
     "name": "stderr",
     "output_type": "stream",
     "text": [
      "100%|██████████| 106/106 [00:12<00:00,  8.52it/s]\n",
      "100%|██████████| 18/18 [00:00<00:00, 43.13it/s]\n",
      "100%|██████████| 53/53 [00:01<00:00, 43.20it/s]\n"
     ]
    },
    {
     "name": "stdout",
     "output_type": "stream",
     "text": [
      "Epoch:969/1000.. Train Loss: 0.150.. Val Loss: 0.226.. Test Loss: 0.205.. Time: 0.24m\n"
     ]
    },
    {
     "name": "stderr",
     "output_type": "stream",
     "text": [
      "100%|██████████| 106/106 [00:12<00:00,  8.56it/s]\n",
      "100%|██████████| 18/18 [00:00<00:00, 43.17it/s]\n",
      "100%|██████████| 53/53 [00:01<00:00, 43.14it/s]\n"
     ]
    },
    {
     "name": "stdout",
     "output_type": "stream",
     "text": [
      "Epoch:970/1000.. Train Loss: 0.150.. Val Loss: 0.225.. Test Loss: 0.206.. Time: 0.23m\n"
     ]
    },
    {
     "name": "stderr",
     "output_type": "stream",
     "text": [
      "100%|██████████| 106/106 [00:12<00:00,  8.46it/s]\n",
      "100%|██████████| 18/18 [00:00<00:00, 42.21it/s]\n",
      "100%|██████████| 53/53 [00:01<00:00, 42.17it/s]\n"
     ]
    },
    {
     "name": "stdout",
     "output_type": "stream",
     "text": [
      "Epoch:971/1000.. Train Loss: 0.149.. Val Loss: 0.231.. Test Loss: 0.205.. Time: 0.24m\n"
     ]
    },
    {
     "name": "stderr",
     "output_type": "stream",
     "text": [
      "100%|██████████| 106/106 [00:12<00:00,  8.63it/s]\n",
      "100%|██████████| 18/18 [00:00<00:00, 42.27it/s]\n",
      "100%|██████████| 53/53 [00:01<00:00, 42.11it/s]\n"
     ]
    },
    {
     "name": "stdout",
     "output_type": "stream",
     "text": [
      "Epoch:972/1000.. Train Loss: 0.149.. Val Loss: 0.225.. Test Loss: 0.204.. Time: 0.23m\n"
     ]
    },
    {
     "name": "stderr",
     "output_type": "stream",
     "text": [
      "100%|██████████| 106/106 [00:12<00:00,  8.65it/s]\n",
      "100%|██████████| 18/18 [00:00<00:00, 42.58it/s]\n",
      "100%|██████████| 53/53 [00:01<00:00, 42.21it/s]\n"
     ]
    },
    {
     "name": "stdout",
     "output_type": "stream",
     "text": [
      "Epoch:973/1000.. Train Loss: 0.152.. Val Loss: 0.227.. Test Loss: 0.205.. Time: 0.23m\n"
     ]
    },
    {
     "name": "stderr",
     "output_type": "stream",
     "text": [
      "100%|██████████| 106/106 [00:12<00:00,  8.64it/s]\n",
      "100%|██████████| 18/18 [00:00<00:00, 42.03it/s]\n",
      "100%|██████████| 53/53 [00:01<00:00, 43.16it/s]\n"
     ]
    },
    {
     "name": "stdout",
     "output_type": "stream",
     "text": [
      "Epoch:974/1000.. Train Loss: 0.149.. Val Loss: 0.227.. Test Loss: 0.205.. Time: 0.23m\n"
     ]
    },
    {
     "name": "stderr",
     "output_type": "stream",
     "text": [
      "100%|██████████| 106/106 [00:11<00:00,  8.93it/s]\n",
      "100%|██████████| 18/18 [00:00<00:00, 43.10it/s]\n",
      "100%|██████████| 53/53 [00:01<00:00, 42.94it/s]\n"
     ]
    },
    {
     "name": "stdout",
     "output_type": "stream",
     "text": [
      "Epoch:975/1000.. Train Loss: 0.150.. Val Loss: 0.227.. Test Loss: 0.205.. Time: 0.23m\n"
     ]
    },
    {
     "name": "stderr",
     "output_type": "stream",
     "text": [
      "100%|██████████| 106/106 [00:12<00:00,  8.76it/s]\n",
      "100%|██████████| 18/18 [00:00<00:00, 42.17it/s]\n",
      "100%|██████████| 53/53 [00:01<00:00, 42.13it/s]\n"
     ]
    },
    {
     "name": "stdout",
     "output_type": "stream",
     "text": [
      "Epoch:976/1000.. Train Loss: 0.151.. Val Loss: 0.226.. Test Loss: 0.205.. Time: 0.23m\n"
     ]
    },
    {
     "name": "stderr",
     "output_type": "stream",
     "text": [
      "100%|██████████| 106/106 [00:12<00:00,  8.81it/s]\n",
      "100%|██████████| 18/18 [00:00<00:00, 42.74it/s]\n",
      "100%|██████████| 53/53 [00:01<00:00, 42.63it/s]\n"
     ]
    },
    {
     "name": "stdout",
     "output_type": "stream",
     "text": [
      "Epoch:977/1000.. Train Loss: 0.151.. Val Loss: 0.232.. Test Loss: 0.205.. Time: 0.23m\n"
     ]
    },
    {
     "name": "stderr",
     "output_type": "stream",
     "text": [
      "100%|██████████| 106/106 [00:12<00:00,  8.67it/s]\n",
      "100%|██████████| 18/18 [00:00<00:00, 43.17it/s]\n",
      "100%|██████████| 53/53 [00:01<00:00, 43.10it/s]\n"
     ]
    },
    {
     "name": "stdout",
     "output_type": "stream",
     "text": [
      "Epoch:978/1000.. Train Loss: 0.151.. Val Loss: 0.225.. Test Loss: 0.205.. Time: 0.23m\n"
     ]
    },
    {
     "name": "stderr",
     "output_type": "stream",
     "text": [
      "100%|██████████| 106/106 [00:12<00:00,  8.69it/s]\n",
      "100%|██████████| 18/18 [00:00<00:00, 42.47it/s]\n",
      "100%|██████████| 53/53 [00:01<00:00, 42.52it/s]\n"
     ]
    },
    {
     "name": "stdout",
     "output_type": "stream",
     "text": [
      "Epoch:979/1000.. Train Loss: 0.151.. Val Loss: 0.225.. Test Loss: 0.205.. Time: 0.23m\n"
     ]
    },
    {
     "name": "stderr",
     "output_type": "stream",
     "text": [
      "100%|██████████| 106/106 [00:12<00:00,  8.61it/s]\n",
      "100%|██████████| 18/18 [00:00<00:00, 42.42it/s]\n",
      "100%|██████████| 53/53 [00:01<00:00, 42.45it/s]\n"
     ]
    },
    {
     "name": "stdout",
     "output_type": "stream",
     "text": [
      "Epoch:980/1000.. Train Loss: 0.149.. Val Loss: 0.224.. Test Loss: 0.204.. Time: 0.23m\n"
     ]
    },
    {
     "name": "stderr",
     "output_type": "stream",
     "text": [
      "100%|██████████| 106/106 [00:12<00:00,  8.61it/s]\n",
      "100%|██████████| 18/18 [00:00<00:00, 41.44it/s]\n",
      "100%|██████████| 53/53 [00:01<00:00, 42.29it/s]\n"
     ]
    },
    {
     "name": "stdout",
     "output_type": "stream",
     "text": [
      "Epoch:981/1000.. Train Loss: 0.150.. Val Loss: 0.225.. Test Loss: 0.205.. Time: 0.23m\n"
     ]
    },
    {
     "name": "stderr",
     "output_type": "stream",
     "text": [
      "100%|██████████| 106/106 [00:12<00:00,  8.54it/s]\n",
      "100%|██████████| 18/18 [00:00<00:00, 43.22it/s]\n",
      "100%|██████████| 53/53 [00:01<00:00, 42.99it/s]\n"
     ]
    },
    {
     "name": "stdout",
     "output_type": "stream",
     "text": [
      "Epoch:982/1000.. Train Loss: 0.152.. Val Loss: 0.226.. Test Loss: 0.205.. Time: 0.24m\n"
     ]
    },
    {
     "name": "stderr",
     "output_type": "stream",
     "text": [
      "100%|██████████| 106/106 [00:12<00:00,  8.71it/s]\n",
      "100%|██████████| 18/18 [00:00<00:00, 40.49it/s]\n",
      "100%|██████████| 53/53 [00:01<00:00, 41.61it/s]\n"
     ]
    },
    {
     "name": "stdout",
     "output_type": "stream",
     "text": [
      "Epoch:983/1000.. Train Loss: 0.150.. Val Loss: 0.232.. Test Loss: 0.205.. Time: 0.23m\n"
     ]
    },
    {
     "name": "stderr",
     "output_type": "stream",
     "text": [
      "100%|██████████| 106/106 [00:12<00:00,  8.57it/s]\n",
      "100%|██████████| 18/18 [00:00<00:00, 42.72it/s]\n",
      "100%|██████████| 53/53 [00:01<00:00, 40.38it/s]\n"
     ]
    },
    {
     "name": "stdout",
     "output_type": "stream",
     "text": [
      "Epoch:984/1000.. Train Loss: 0.149.. Val Loss: 0.225.. Test Loss: 0.205.. Time: 0.24m\n"
     ]
    },
    {
     "name": "stderr",
     "output_type": "stream",
     "text": [
      "100%|██████████| 106/106 [00:12<00:00,  8.68it/s]\n",
      "100%|██████████| 18/18 [00:00<00:00, 42.53it/s]\n",
      "100%|██████████| 53/53 [00:01<00:00, 42.55it/s]\n"
     ]
    },
    {
     "name": "stdout",
     "output_type": "stream",
     "text": [
      "Epoch:985/1000.. Train Loss: 0.150.. Val Loss: 0.226.. Test Loss: 0.205.. Time: 0.23m\n"
     ]
    },
    {
     "name": "stderr",
     "output_type": "stream",
     "text": [
      "100%|██████████| 106/106 [00:12<00:00,  8.64it/s]\n",
      "100%|██████████| 18/18 [00:00<00:00, 42.10it/s]\n",
      "100%|██████████| 53/53 [00:01<00:00, 42.85it/s]\n"
     ]
    },
    {
     "name": "stdout",
     "output_type": "stream",
     "text": [
      "Epoch:986/1000.. Train Loss: 0.151.. Val Loss: 0.224.. Test Loss: 0.205.. Time: 0.23m\n"
     ]
    },
    {
     "name": "stderr",
     "output_type": "stream",
     "text": [
      "100%|██████████| 106/106 [00:12<00:00,  8.67it/s]\n",
      "100%|██████████| 18/18 [00:00<00:00, 43.00it/s]\n",
      "100%|██████████| 53/53 [00:01<00:00, 42.85it/s]\n"
     ]
    },
    {
     "name": "stdout",
     "output_type": "stream",
     "text": [
      "Epoch:987/1000.. Train Loss: 0.150.. Val Loss: 0.227.. Test Loss: 0.204.. Time: 0.23m\n"
     ]
    },
    {
     "name": "stderr",
     "output_type": "stream",
     "text": [
      "100%|██████████| 106/106 [00:12<00:00,  8.73it/s]\n",
      "100%|██████████| 18/18 [00:00<00:00, 43.12it/s]\n",
      "100%|██████████| 53/53 [00:01<00:00, 42.89it/s]\n"
     ]
    },
    {
     "name": "stdout",
     "output_type": "stream",
     "text": [
      "Epoch:988/1000.. Train Loss: 0.152.. Val Loss: 0.225.. Test Loss: 0.205.. Time: 0.23m\n"
     ]
    },
    {
     "name": "stderr",
     "output_type": "stream",
     "text": [
      "100%|██████████| 106/106 [00:12<00:00,  8.71it/s]\n",
      "100%|██████████| 18/18 [00:00<00:00, 43.14it/s]\n",
      "100%|██████████| 53/53 [00:01<00:00, 42.49it/s]\n"
     ]
    },
    {
     "name": "stdout",
     "output_type": "stream",
     "text": [
      "Epoch:989/1000.. Train Loss: 0.150.. Val Loss: 0.225.. Test Loss: 0.204.. Time: 0.23m\n"
     ]
    },
    {
     "name": "stderr",
     "output_type": "stream",
     "text": [
      "100%|██████████| 106/106 [00:12<00:00,  8.82it/s]\n",
      "100%|██████████| 18/18 [00:00<00:00, 42.93it/s]\n",
      "100%|██████████| 53/53 [00:01<00:00, 42.83it/s]\n"
     ]
    },
    {
     "name": "stdout",
     "output_type": "stream",
     "text": [
      "Epoch:990/1000.. Train Loss: 0.151.. Val Loss: 0.225.. Test Loss: 0.205.. Time: 0.23m\n"
     ]
    },
    {
     "name": "stderr",
     "output_type": "stream",
     "text": [
      "100%|██████████| 106/106 [00:12<00:00,  8.72it/s]\n",
      "100%|██████████| 18/18 [00:00<00:00, 43.29it/s]\n",
      "100%|██████████| 53/53 [00:01<00:00, 43.48it/s]\n"
     ]
    },
    {
     "name": "stdout",
     "output_type": "stream",
     "text": [
      "Epoch:991/1000.. Train Loss: 0.150.. Val Loss: 0.227.. Test Loss: 0.205.. Time: 0.23m\n"
     ]
    },
    {
     "name": "stderr",
     "output_type": "stream",
     "text": [
      "100%|██████████| 106/106 [00:12<00:00,  8.66it/s]\n",
      "100%|██████████| 18/18 [00:00<00:00, 42.85it/s]\n",
      "100%|██████████| 53/53 [00:01<00:00, 42.96it/s]\n"
     ]
    },
    {
     "name": "stdout",
     "output_type": "stream",
     "text": [
      "Epoch:992/1000.. Train Loss: 0.149.. Val Loss: 0.225.. Test Loss: 0.205.. Time: 0.23m\n"
     ]
    },
    {
     "name": "stderr",
     "output_type": "stream",
     "text": [
      "100%|██████████| 106/106 [00:12<00:00,  8.61it/s]\n",
      "100%|██████████| 18/18 [00:00<00:00, 42.76it/s]\n",
      "100%|██████████| 53/53 [00:01<00:00, 42.57it/s]\n"
     ]
    },
    {
     "name": "stdout",
     "output_type": "stream",
     "text": [
      "Epoch:993/1000.. Train Loss: 0.150.. Val Loss: 0.231.. Test Loss: 0.205.. Time: 0.23m\n"
     ]
    },
    {
     "name": "stderr",
     "output_type": "stream",
     "text": [
      "100%|██████████| 106/106 [00:12<00:00,  8.51it/s]\n",
      "100%|██████████| 18/18 [00:00<00:00, 43.11it/s]\n",
      "100%|██████████| 53/53 [00:01<00:00, 43.17it/s]\n"
     ]
    },
    {
     "name": "stdout",
     "output_type": "stream",
     "text": [
      "Epoch:994/1000.. Train Loss: 0.151.. Val Loss: 0.231.. Test Loss: 0.206.. Time: 0.24m\n"
     ]
    },
    {
     "name": "stderr",
     "output_type": "stream",
     "text": [
      "100%|██████████| 106/106 [00:12<00:00,  8.64it/s]\n",
      "100%|██████████| 18/18 [00:00<00:00, 42.66it/s]\n",
      "100%|██████████| 53/53 [00:01<00:00, 42.20it/s]\n"
     ]
    },
    {
     "name": "stdout",
     "output_type": "stream",
     "text": [
      "Epoch:995/1000.. Train Loss: 0.149.. Val Loss: 0.225.. Test Loss: 0.205.. Time: 0.23m\n"
     ]
    },
    {
     "name": "stderr",
     "output_type": "stream",
     "text": [
      "100%|██████████| 106/106 [00:12<00:00,  8.77it/s]\n",
      "100%|██████████| 18/18 [00:00<00:00, 41.61it/s]\n",
      "100%|██████████| 53/53 [00:01<00:00, 42.54it/s]\n"
     ]
    },
    {
     "name": "stdout",
     "output_type": "stream",
     "text": [
      "Epoch:996/1000.. Train Loss: 0.150.. Val Loss: 0.231.. Test Loss: 0.205.. Time: 0.23m\n"
     ]
    },
    {
     "name": "stderr",
     "output_type": "stream",
     "text": [
      "100%|██████████| 106/106 [00:11<00:00,  8.88it/s]\n",
      "100%|██████████| 18/18 [00:00<00:00, 42.41it/s]\n",
      "100%|██████████| 53/53 [00:01<00:00, 42.65it/s]\n"
     ]
    },
    {
     "name": "stdout",
     "output_type": "stream",
     "text": [
      "Epoch:997/1000.. Train Loss: 0.149.. Val Loss: 0.224.. Test Loss: 0.205.. Time: 0.23m\n"
     ]
    },
    {
     "name": "stderr",
     "output_type": "stream",
     "text": [
      "100%|██████████| 106/106 [00:12<00:00,  8.63it/s]\n",
      "100%|██████████| 18/18 [00:00<00:00, 42.81it/s]\n",
      "100%|██████████| 53/53 [00:01<00:00, 42.51it/s]\n"
     ]
    },
    {
     "name": "stdout",
     "output_type": "stream",
     "text": [
      "Epoch:998/1000.. Train Loss: 0.149.. Val Loss: 0.227.. Test Loss: 0.205.. Time: 0.23m\n"
     ]
    },
    {
     "name": "stderr",
     "output_type": "stream",
     "text": [
      "100%|██████████| 106/106 [00:12<00:00,  8.44it/s]\n",
      "100%|██████████| 18/18 [00:00<00:00, 42.46it/s]\n",
      "100%|██████████| 53/53 [00:01<00:00, 42.48it/s]\n"
     ]
    },
    {
     "name": "stdout",
     "output_type": "stream",
     "text": [
      "Epoch:999/1000.. Train Loss: 0.149.. Val Loss: 0.232.. Test Loss: 0.204.. Time: 0.24m\n"
     ]
    },
    {
     "name": "stderr",
     "output_type": "stream",
     "text": [
      "100%|██████████| 106/106 [00:12<00:00,  8.69it/s]\n",
      "100%|██████████| 18/18 [00:00<00:00, 42.57it/s]\n",
      "100%|██████████| 53/53 [00:01<00:00, 42.71it/s]\n"
     ]
    },
    {
     "name": "stdout",
     "output_type": "stream",
     "text": [
      "Epoch:1000/1000.. Train Loss: 0.149.. Val Loss: 0.226.. Test Loss: 0.204.. Time: 0.23m\n",
      "Total time: 232.12 m\n"
     ]
    }
   ],
   "source": [
    "training.fit(model, train_loader, validation_loader, test_loader)\n",
    "best_model = training.get_best_model()"
   ]
  },
  {
   "cell_type": "code",
   "execution_count": 13,
   "metadata": {
    "tags": []
   },
   "outputs": [
    {
     "data": {
      "text/plain": [
       "<matplotlib.legend.Legend at 0x2b63e5d36820>"
      ]
     },
     "execution_count": 13,
     "metadata": {},
     "output_type": "execute_result"
    },
    {
     "data": {
      "image/png": "[encoded data removed]",
      "text/plain": [
       "<Figure size 640x480 with 1 Axes>"
      ]
     },
     "metadata": {},
     "output_type": "display_data"
    }
   ],
   "source": [
    "fig, ax = plt.subplots()\n",
    "\n",
    "ax.plot(training.results['Train'], label='Train')\n",
    "ax.plot(training.results['Validation'], label='Validation')\n",
    "ax.plot(training.results['Test'], label='Test')\n",
    "ax.legend()"
   ]
  },
  {
   "cell_type": "markdown",
   "metadata": {},
   "source": [
    "## Evaluation and plotting classes"
   ]
  },
  {
   "cell_type": "code",
   "execution_count": 14,
   "metadata": {
    "tags": []
   },
   "outputs": [],
   "source": [
    "class OSAEvaluator:\n",
    "    \n",
    "    def evaluate_OSA(self, dataset, model):\n",
    "        \n",
    "        torch.cuda.empty_cache()\n",
    "        Y_real = []\n",
    "        Y_pred = []\n",
    "        for i, data in enumerate(tqdm(dataset)):\n",
    "            src, tgt, y_real = data\n",
    "            src, tgt, y_real = src.to(device), tgt.to(device), y_real.to(device)\n",
    "            y_pred = model(src, tgt)\n",
    "            Y_real.append(y_real[-1,:])\n",
    "            Y_pred.append(y_pred[-1,:])\n",
    "        \n",
    "        Y_real = torch.vstack(Y_real).cpu()\n",
    "        Y_pred = torch.vstack(Y_pred).cpu().detach()\n",
    "        print('********** OSA Evaluation summary **********')\n",
    "        print(f'OSA MSE: {mean_squared_error(Y_real, Y_pred)}')\n",
    "        print(f'OSA RMSE: {np.sqrt(mean_squared_error(Y_real, Y_pred))}')\n",
    "        print(f'OSA R2 score: {r2_score(Y_real, Y_pred)}')\n",
    "        print('********************************************')\n",
    "        return Y_real, Y_pred\n",
    "            \n",
    "class FSEvaluator:\n",
    "    \n",
    "    def evaluate_FS(self, dataset, model):\n",
    "        \n",
    "        torch.cuda.empty_cache()\n",
    "        Y_real = []\n",
    "        Y_pred = []\n",
    "        tgt_sim = None\n",
    "        for i, data in enumerate(tqdm(dataset)):\n",
    "            src, tgt, y_real = data\n",
    "            src, tgt, y_real = src.to(device), tgt.to(device), y_real.to(device)\n",
    "            if tgt_sim is None:\n",
    "                tgt_sim = tgt\n",
    "            y_pred = model(src, tgt_sim)\n",
    "            tgt_sim[:-1,:] = tgt_sim[1:,:].clone()\n",
    "            tgt_sim[-1,:] = y_pred[-1,:].clone()\n",
    "            Y_real.append(y_real[-1,:])\n",
    "            Y_pred.append(y_pred[-1,:])\n",
    "        \n",
    "        Y_real = torch.vstack(Y_real).cpu()\n",
    "        Y_pred = torch.vstack(Y_pred).cpu().detach()\n",
    "        print('*********** FS Evaluation summary **********')\n",
    "        print(f'FS MSE: {mean_squared_error(Y_real, Y_pred)}')\n",
    "        print(f'FS RMSE: {np.sqrt(mean_squared_error(Y_real, Y_pred))}')\n",
    "        print(f'FS R2 score: {r2_score(Y_real, Y_pred)}')\n",
    "        print('********************************************')\n",
    "        return Y_real, Y_pred\n",
    "    \n",
    "class Evaluator(OSAEvaluator, FSEvaluator):\n",
    "    \n",
    "    pass\n",
    "        "
   ]
  },
  {
   "cell_type": "code",
   "execution_count": 15,
   "metadata": {
    "tags": []
   },
   "outputs": [
    {
     "name": "stderr",
     "output_type": "stream",
     "text": [
      "100%|██████████| 699/699 [00:18<00:00, 36.84it/s]\n"
     ]
    },
    {
     "name": "stdout",
     "output_type": "stream",
     "text": [
      "********** OSA Evaluation summary **********\n",
      "OSA MSE: 0.17552147805690765\n",
      "OSA RMSE: 0.4189528226852417\n",
      "OSA R2 score: -0.007321673846260923\n",
      "********************************************\n"
     ]
    },
    {
     "name": "stderr",
     "output_type": "stream",
     "text": [
      "100%|██████████| 699/699 [00:17<00:00, 39.92it/s]"
     ]
    },
    {
     "name": "stdout",
     "output_type": "stream",
     "text": [
      "*********** FS Evaluation summary **********\n",
      "FS MSE: 0.17552147805690765\n",
      "FS RMSE: 0.4189528226852417\n",
      "FS R2 score: -0.007321673846260923\n",
      "********************************************\n"
     ]
    },
    {
     "name": "stderr",
     "output_type": "stream",
     "text": [
      "\n"
     ]
    }
   ],
   "source": [
    "evaluator = Evaluator()\n",
    "Y_real, Y_pred_OSA = evaluator.evaluate_OSA(dataset, model)\n",
    "Y_real, Y_pred_FS = evaluator.evaluate_FS(dataset, model)"
   ]
  },
  {
   "cell_type": "code",
   "execution_count": 16,
   "metadata": {
    "tags": []
   },
   "outputs": [
    {
     "data": {
      "text/plain": [
       "<matplotlib.legend.Legend at 0x2b63e770b340>"
      ]
     },
     "execution_count": 16,
     "metadata": {},
     "output_type": "execute_result"
    },
    {
     "data": {
      "image/png": "[encoded data removed]",
      "text/plain": [
       "<Figure size 640x480 with 1 Axes>"
      ]
     },
     "metadata": {},
     "output_type": "display_data"
    }
   ],
   "source": [
    "fig, ax = plt.subplots()\n",
    "ax.plot(Y_real, label='Real')\n",
    "ax.plot(Y_pred_OSA, label='OSA')\n",
    "ax.plot(Y_pred_FS, label='FS')\n",
    "ax.legend()"
   ]
  },
  {
   "cell_type": "code",
   "execution_count": 17,
   "metadata": {},
   "outputs": [
    {
     "name": "stderr",
     "output_type": "stream",
     "text": [
      "100%|██████████| 699/699 [00:18<00:00, 37.01it/s]\n"
     ]
    },
    {
     "name": "stdout",
     "output_type": "stream",
     "text": [
      "********** OSA Evaluation summary **********\n",
      "OSA MSE: 0.1778472512960434\n",
      "OSA RMSE: 0.42171940207481384\n",
      "OSA R2 score: -0.020669388866868976\n",
      "********************************************\n"
     ]
    },
    {
     "name": "stderr",
     "output_type": "stream",
     "text": [
      "100%|██████████| 699/699 [00:17<00:00, 40.65it/s]"
     ]
    },
    {
     "name": "stdout",
     "output_type": "stream",
     "text": [
      "*********** FS Evaluation summary **********\n",
      "FS MSE: 0.1778472512960434\n",
      "FS RMSE: 0.42171940207481384\n",
      "FS R2 score: -0.020669388866868976\n",
      "********************************************\n"
     ]
    },
    {
     "name": "stderr",
     "output_type": "stream",
     "text": [
      "\n"
     ]
    }
   ],
   "source": [
    "evaluator = Evaluator()\n",
    "Y_real, Y_pred_OSA = evaluator.evaluate_OSA(dataset, best_model)\n",
    "Y_real, Y_pred_FS = evaluator.evaluate_FS(dataset, best_model)"
   ]
  },
  {
   "cell_type": "code",
   "execution_count": 18,
   "metadata": {
    "tags": []
   },
   "outputs": [
    {
     "data": {
      "text/plain": [
       "<matplotlib.legend.Legend at 0x2b63e5e829a0>"
      ]
     },
     "execution_count": 18,
     "metadata": {},
     "output_type": "execute_result"
    },
    {
     "data": {
      "image/png": "[encoded data removed]",
      "text/plain": [
       "<Figure size 640x480 with 1 Axes>"
      ]
     },
     "metadata": {},
     "output_type": "display_data"
    }
   ],
   "source": [
    "fig, ax = plt.subplots()\n",
    "ax.plot(Y_real, label='Real')\n",
    "ax.plot(Y_pred_OSA, label='OSA')\n",
    "ax.plot(Y_pred_FS, label='FS')\n",
    "ax.legend()"
   ]
  },
  {
   "cell_type": "code",
   "execution_count": null,
   "metadata": {
    "tags": []
   },
   "outputs": [],
   "source": []
  }
 ],
 "metadata": {
  "kernelspec": {
   "display_name": "raul_dl",
   "language": "python",
   "name": "raul_dl"
  },
  "language_info": {
   "codemirror_mode": {
    "name": "ipython",
    "version": 3
   },
   "file_extension": ".py",
   "mimetype": "text/x-python",
   "name": "python",
   "nbconvert_exporter": "python",
   "pygments_lexer": "ipython3",
   "version": "3.9.13"
  }
 },
 "nbformat": 4,
 "nbformat_minor": 4
}
