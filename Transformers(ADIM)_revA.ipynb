{
 "cells": [
  {
   "cell_type": "code",
   "execution_count": 58,
   "metadata": {
    "tags": []
   },
   "outputs": [
    {
     "name": "stdout",
     "output_type": "stream",
     "text": [
      "Sun Jun 11 11:22:16 2023       \n",
      "+-----------------------------------------------------------------------------+\n",
      "| NVIDIA-SMI 515.43.04    Driver Version: 515.43.04    CUDA Version: 11.7     |\n",
      "|-------------------------------+----------------------+----------------------+\n",
      "| GPU  Name        Persistence-M| Bus-Id        Disp.A | Volatile Uncorr. ECC |\n",
      "| Fan  Temp  Perf  Pwr:Usage/Cap|         Memory-Usage | GPU-Util  Compute M. |\n",
      "|                               |                      |               MIG M. |\n",
      "|===============================+======================+======================|\n",
      "|   0  Tesla V100-SXM2...  Off  | 00000000:15:00.0 Off |                    0 |\n",
      "| N/A   30C    P0    53W / 300W |   2235MiB / 32768MiB |     18%      Default |\n",
      "|                               |                      |                  N/A |\n",
      "+-------------------------------+----------------------+----------------------+\n",
      "                                                                               \n",
      "+-----------------------------------------------------------------------------+\n",
      "| Processes:                                                                  |\n",
      "|  GPU   GI   CI        PID   Type   Process name                  GPU Memory |\n",
      "|        ID   ID                                                   Usage      |\n",
      "|=============================================================================|\n",
      "|    0   N/A  N/A     27244      C   .../venvs/dl_raul/bin/python      953MiB |\n",
      "|    0   N/A  N/A     27247      C   .../venvs/dl_raul/bin/python     1279MiB |\n",
      "+-----------------------------------------------------------------------------+\n"
     ]
    }
   ],
   "source": [
    "import math\n",
    "import json\n",
    "import time\n",
    "import numpy as np\n",
    "import pandas as pd\n",
    "import matplotlib.pyplot as plt\n",
    "from tqdm import tqdm\n",
    "\n",
    "import torch\n",
    "import torch.nn as nn\n",
    "import torch.optim as optim\n",
    "from torch.utils.data import Dataset\n",
    "from torch.utils.data.sampler import SubsetRandomSampler\n",
    "\n",
    "from sklearn.preprocessing import MinMaxScaler, RobustScaler\n",
    "from sklearn.model_selection import train_test_split\n",
    "from sklearn.metrics import mean_squared_error, r2_score\n",
    "\n",
    "!nvidia-smi"
   ]
  },
  {
   "cell_type": "code",
   "execution_count": 59,
   "metadata": {
    "tags": []
   },
   "outputs": [
    {
     "name": "stdout",
     "output_type": "stream",
     "text": [
      "cuda:0\n"
     ]
    }
   ],
   "source": [
    "# Dispositivo onde tensores serão criados, armazenados e processados\n",
    "device = torch.device(\"cuda:0\" if torch.cuda.is_available() else \"cpu\")\n",
    "print(device)\n",
    "# Randon Seed fixa para resultados reprodutíveis\n",
    "seed = 42\n",
    "torch.manual_seed(seed)\n",
    "torch.cuda.manual_seed(seed)\n",
    "np.random.seed(seed)"
   ]
  },
  {
   "cell_type": "markdown",
   "metadata": {},
   "source": [
    "## Data Loader"
   ]
  },
  {
   "cell_type": "code",
   "execution_count": 60,
   "metadata": {
    "tags": []
   },
   "outputs": [],
   "source": [
    "class WellLoader(Dataset):\n",
    "    \n",
    "    def __init__(self, \n",
    "                 path, \n",
    "                 wells, \n",
    "                 var_in, \n",
    "                 var_out,\n",
    "                 normalizing_percentile=90.0,\n",
    "                 normalizing_split=0.2,\n",
    "                 normalizer=RobustScaler,\n",
    "                 max_sequence=16, \n",
    "                 step=1):\n",
    "        \n",
    "        self.path = path\n",
    "        with open(self.path + '/metadata.json', 'r') as metafile:\n",
    "            self.metadata = json.loads(metafile.read())\n",
    "        self.wells = wells\n",
    "        self.var_in = var_in\n",
    "        self.var_out = var_out\n",
    "        self.normalizing_percentile=normalizing_percentile\n",
    "        self.normalizing_split = normalizing_split\n",
    "        self.normalizer = normalizer\n",
    "        self.max_sequence = max_sequence\n",
    "        self.step = step\n",
    "        self.batches_X = None\n",
    "        self.batches_Y = None\n",
    "        self.outputs = None\n",
    "        self.normalizers = []\n",
    "        \n",
    "        indexes = self.get_wells_index(self.wells)\n",
    "        self.load_data_by_index(indexes)\n",
    "        \n",
    "    def get_wells_index(self, wells):\n",
    "        \n",
    "        indexes = []\n",
    "        for well, filt in wells:\n",
    "            indexes.extend([(meta['INDEX'], filt) for meta in self.metadata if meta['WELL'] == well])\n",
    "        return indexes\n",
    "    \n",
    "    def load_data_by_index(self, indexes):\n",
    "        \n",
    "        batches_X = []\n",
    "        batches_Y = []\n",
    "        outputs = []\n",
    "        for index, filt in indexes:\n",
    "            data = pd.read_json(f'{self.path}/{index}.json')#.reset_index()\n",
    "            # Armengue: Por liq vol para preencher o dataset\n",
    "            data['BORE_LIQ_VOL'] = data['BORE_OIL_VOL'] + data['BORE_WAT_VOL']\n",
    "            data = data[self.var_in + self.var_out].dropna().reset_index(drop=True)\n",
    "            X = data[self.var_in].values[filt,:]\n",
    "            Y = data[self.var_out].values[filt,:]\n",
    "            X_base, _, Y_base, _ = train_test_split(X, Y, test_size = self.normalizing_split)\n",
    "            #scaler_X = X_base.max(axis=0, keepdims=True)\n",
    "            #scaler_Y = Y_base.max(axis=0, keepdims=True)\n",
    "            scaler_X = self.normalizer().fit(X_base)\n",
    "            scaler_Y = self.normalizer().fit(Y_base)\n",
    "            #scaler_X = np.percentile(X_base,self.normalizing_percentile,axis=0,keepdims=True)\n",
    "            #scaler_Y = np.percentile(Y_base,self.normalizing_percentile,axis=0,keepdims=True)\n",
    "            self.normalizers.append((scaler_X, scaler_Y))\n",
    "            X, Y = scaler_X.transform(X), scaler_Y.transform(Y)\n",
    "            #X, Y = X / scaler_X, Y / scaler_Y\n",
    "            X, Y = torch.from_numpy(X.astype('float32')), torch.from_numpy(Y.astype('float32'))\n",
    "            output = Y[self.max_sequence::self.step]\n",
    "            #print(Y.shape)\n",
    "            #X = torch.split(X, self.max_sequence, dim= 0)\n",
    "            #Y = torch.split(Y, self.max_sequence, dim= 0)\n",
    "            X = X.unfold(0,self.max_sequence, self.step)\n",
    "            Y = Y.unfold(0,self.max_sequence, self.step)\n",
    "            batches_X.append(X)\n",
    "            batches_Y.append(Y)\n",
    "            outputs.append(output)\n",
    "            #print(X.shape)\n",
    "        self.batches_X = torch.concat(batches_X, axis=0)\n",
    "        self.batches_Y = torch.concat(batches_Y, axis=0)\n",
    "        self.outputs = torch.concat(outputs, axis=0)\n",
    "            \n",
    "    def __len__(self):\n",
    "        \n",
    "        return self.outputs.shape[0]\n",
    "    \n",
    "    def __getitem__(self, idx):\n",
    "                        \n",
    "        srcs = self.batches_X[idx,:,:]\n",
    "        trgts = self.batches_Y[idx,:,:]\n",
    "        output = self.outputs[idx,:]\n",
    "        \n",
    "        return srcs, trgts, output\n",
    "        \n",
    "        \n",
    "                 "
   ]
  },
  {
   "cell_type": "code",
   "execution_count": 61,
   "metadata": {
    "tags": []
   },
   "outputs": [],
   "source": [
    "path = './dataset/volve'\n",
    "wells = [\n",
    "    ('15/9-F-1 C', slice(28, None)),\n",
    "]\n",
    "\n",
    "var_in = [\n",
    "        'AVG_DOWNHOLE_PRESSURE',\n",
    "        'AVG_WHP_P',\n",
    "        'AVG_CHOKE_SIZE_P',\n",
    "        'AVG_WHT_P',\n",
    "        'AVG_DOWNHOLE_TEMPERATURE',\n",
    "]\n",
    "\n",
    "var_out = [\n",
    "        #'BORE_OIL_VOL',\n",
    "        'BORE_LIQ_VOL',\n",
    "        #'BORE_GAS_VOL',\n",
    "        #'BORE_WAT_VOL',\n",
    "]\n",
    "\n",
    "\n",
    "dataset = WellLoader(path, wells, var_in, var_out, max_sequence = 8)"
   ]
  },
  {
   "cell_type": "code",
   "execution_count": 62,
   "metadata": {
    "tags": []
   },
   "outputs": [],
   "source": [
    "class SubsetSplitter:\n",
    "    \n",
    "    def __init__(self, batch_size, validation_split, test_split, shuffle=False):\n",
    "        \n",
    "        self.batch_size = batch_size\n",
    "        self.validation_split = validation_split\n",
    "        self.test_split = test_split\n",
    "        self.shuffle = shuffle\n",
    "        \n",
    "    def __call__(self, dataset:Dataset):\n",
    "        \n",
    "        dataset_size = len(dataset)\n",
    "        indices = list(range(dataset_size))\n",
    "        validation_split = int(np.floor(self.validation_split * dataset_size))\n",
    "        test_split = int(np.floor(self.test_split * dataset_size))\n",
    "        train_split = dataset_size - validation_split - test_split\n",
    "        # Extracting test independently of others\n",
    "        test_indices = indices[train_split + validation_split:]\n",
    "        indices = indices[:train_split + validation_split]\n",
    "        if self.shuffle :\n",
    "            np.random.shuffle(indices)\n",
    "        train_indices = indices[:train_split]\n",
    "        validation_indices = indices[train_split:]\n",
    "\n",
    "        # Creating PT data samplers and loaders:\n",
    "        train_sampler = SubsetRandomSampler(train_indices)\n",
    "        valid_sampler = SubsetRandomSampler(validation_indices)\n",
    "        test_sampler = SubsetRandomSampler(test_indices)\n",
    "\n",
    "        train_loader = torch.utils.data.DataLoader(dataset, batch_size=self.batch_size, \n",
    "                                                   sampler=train_sampler)\n",
    "        validation_loader = torch.utils.data.DataLoader(dataset, batch_size=self.batch_size,\n",
    "                                                    sampler=valid_sampler)\n",
    "        test_loader = torch.utils.data.DataLoader(dataset, batch_size=self.batch_size,\n",
    "                                                    sampler=test_sampler)\n",
    "        \n",
    "        return train_loader, validation_loader, test_loader"
   ]
  },
  {
   "cell_type": "code",
   "execution_count": 63,
   "metadata": {
    "tags": []
   },
   "outputs": [],
   "source": [
    "splitter = SubsetSplitter(4, 0.1, 0.3, shuffle=False)\n",
    "train_loader, validation_loader, test_loader = splitter(dataset)"
   ]
  },
  {
   "cell_type": "markdown",
   "metadata": {},
   "source": [
    "## Model definition"
   ]
  },
  {
   "cell_type": "code",
   "execution_count": 64,
   "metadata": {},
   "outputs": [
    {
     "data": {
      "text/plain": [
       "tensor([[[0.0000, 0.0000, 0.0000, 1.4286, 0.0000, 1.4286, 0.0000, 1.4286,\n",
       "          0.0000, 0.0000],\n",
       "         [0.0000, 0.0000, 0.0000, 0.0000, 0.0000, 1.4286, 0.0000, 0.0000,\n",
       "          0.0000, 1.4286]]])"
      ]
     },
     "execution_count": 64,
     "metadata": {},
     "output_type": "execute_result"
    }
   ],
   "source": [
    "class PositionalEncoding(nn.Module):\n",
    "    def __init__(self, dim_model, dropout_p, max_len):\n",
    "        super().__init__()\n",
    "        # Modified version from: https://pytorch.org/tutorials/beginner/transformer_tutorial.html\n",
    "        # max_len determines how far the position can have an effect on a token (window)\n",
    "        \n",
    "        # Info\n",
    "        self.dropout = nn.Dropout(dropout_p)\n",
    "        \n",
    "        # Encoding - From formula\n",
    "        pos_encoding = torch.zeros(max_len, dim_model)\n",
    "        positions_list = torch.arange(0, max_len, dtype=torch.float).view(-1, 1) # 0, 1, 2, 3, 4, 5\n",
    "        division_term = torch.exp(torch.arange(0, dim_model, 2).float() * (-math.log(10000.0)) / dim_model) # 1000^(2i/dim_model)\n",
    "        \n",
    "        # PE(pos, 2i) = sin(pos/1000^(2i/dim_model))\n",
    "        pos_encoding[:, 0::2] = torch.sin(positions_list * division_term)\n",
    "        \n",
    "        # PE(pos, 2i + 1) = cos(pos/1000^(2i/dim_model))\n",
    "        pos_encoding[:, 1::2] = torch.cos(positions_list * division_term)\n",
    "        \n",
    "        # Saving buffer (same as parameter without gradients needed)\n",
    "        pos_encoding = pos_encoding.unsqueeze(0).transpose(0, 1)\n",
    "        self.register_buffer(\"pos_encoding\",pos_encoding)\n",
    "        \n",
    "    def forward(self, token_embedding: torch.tensor) -> torch.tensor:\n",
    "        # Residual connection + pos encoding\n",
    "        return self.dropout(token_embedding + self.pos_encoding[:token_embedding.size(0), :])\n",
    "    \n",
    "    \n",
    "positional_encoding = PositionalEncoding(dim_model = 10, dropout_p=0.3, max_len=1200)\n",
    "tensor = torch.zeros((1,2,10))\n",
    "tensor\n",
    "encoded = positional_encoding(tensor)\n",
    "encoded"
   ]
  },
  {
   "cell_type": "code",
   "execution_count": 65,
   "metadata": {},
   "outputs": [],
   "source": [
    "class Transformer(nn.Module):\n",
    "    \"\"\"\n",
    "    Model from \"A detailed guide to Pytorch's nn.Transformer() module.\", by\n",
    "    Daniel Melchor: https://medium.com/@danielmelchor/a-detailed-guide-to-pytorchs-nn-transformer-module-c80afbc9ffb1\n",
    "    \"\"\"\n",
    "    # Constructor\n",
    "    def __init__(\n",
    "        self,\n",
    "        num_outputs,\n",
    "        dim_model,\n",
    "        num_heads,\n",
    "        num_encoder_layers,\n",
    "        num_decoder_layers,\n",
    "        dropout_p,\n",
    "        dim_feedforward =2048,\n",
    "        num_linear_layers=0,\n",
    "        norm_first=False\n",
    "    ):\n",
    "        super().__init__()\n",
    "\n",
    "        # INFO\n",
    "        self.model_type = \"Transformer\"\n",
    "        self.dim_model = dim_model\n",
    "\n",
    "        # LAYERS\n",
    "        self.positional_encoder = PositionalEncoding(\n",
    "            dim_model=dim_model, dropout_p=dropout_p, max_len=5000\n",
    "        )\n",
    "        #self.embedding = nn.Embedding(num_outputs, dim_model)\n",
    "        self.transformer = nn.Transformer(\n",
    "            d_model=dim_model,\n",
    "            nhead=num_heads,\n",
    "            num_encoder_layers=num_encoder_layers,\n",
    "            num_decoder_layers=num_decoder_layers,\n",
    "            dropout=dropout_p, \n",
    "            batch_first=True,\n",
    "            norm_first = norm_first,\n",
    "            dim_feedforward =dim_feedforward \n",
    "        )\n",
    "        self.linear_layers = nn.ModuleList()\n",
    "        for i in range(num_linear_layers):\n",
    "            self.linear_layers.append(nn.Linear(dim_model, dim_model))\n",
    "            self.linear_layers.append(nn.ReLU6())\n",
    "        self.out = nn.Linear(dim_model, num_outputs)\n",
    "        #self.bias_layer = nn.Linear(dim_model, dim_model)\n",
    "        \n",
    "    def forward(self, src, tgt, tgt_mask=None, src_pad_mask=None, tgt_pad_mask=None):\n",
    "        # Src size must be (batch_size, src sequence length)\n",
    "        # Tgt size must be (batch_size, tgt sequence length)\n",
    "\n",
    "        # Embedding + positional encoding - Out size = (batch_size, sequence length, dim_model)\n",
    "        #src = self.embedding(src) * math.sqrt(self.dim_model)\n",
    "        #tgt = self.embedding(tgt) * math.sqrt(self.dim_model)\n",
    "        src_corr = src #* math.sqrt(self.dim_model)\n",
    "        tgt_corr = tgt #* math.sqrt(self.dim_model)\n",
    "        #src_corr = self.positional_encoder(src_corr)\n",
    "        #tgt_corr = self.positional_encoder(tgt_corr)\n",
    "        \n",
    "        # We could use the parameter batch_first=True, but our KDL version doesn't support it yet, so we permute\n",
    "        # to obtain size (sequence length, batch_size, dim_model),\n",
    "        #src = src.permute(1,0,2)\n",
    "        #tgt = tgt.permute(1,0,2)\n",
    "\n",
    "        # Transformer blocks - Out size = (sequence length, batch_size, num_tokens)\n",
    "        transformer_out = self.transformer(src_corr, tgt_corr, tgt_mask=tgt_mask, src_key_padding_mask=src_pad_mask, \n",
    "                                           tgt_key_padding_mask=tgt_pad_mask)\n",
    "        for linear in self.linear_layers:\n",
    "            transformer_out = linear(transformer_out)\n",
    "        out = transformer_out\n",
    "        out = torch.add(out, tgt)\n",
    "        \n",
    "        #recuperando informacao de escala\n",
    "        #out = torch.mul(out, tgt)\n",
    "        #bias = self.bias_layer(tgt)\n",
    "        #out = torch.add(out, bias)\n",
    "        \n",
    "        out = self.out(out)\n",
    "        \n",
    "        \n",
    "        return out\n",
    "      \n",
    "    def get_tgt_mask(self, size) -> torch.tensor:\n",
    "        # Generates a squeare matrix where the each row allows one word more to be seen\n",
    "        mask = torch.tril(torch.ones(size, size) == 1) # Lower triangular matrix\n",
    "        mask = mask.float()\n",
    "        mask = mask.masked_fill(mask == 0, float('-inf')) # Convert zeros to -inf\n",
    "        mask = mask.masked_fill(mask == 1, float(0.0)) # Convert ones to 0\n",
    "        \n",
    "        # EX for size=5:\n",
    "        # [[0., -inf, -inf, -inf, -inf],\n",
    "        #  [0.,   0., -inf, -inf, -inf],\n",
    "        #  [0.,   0.,   0., -inf, -inf],\n",
    "        #  [0.,   0.,   0.,   0., -inf],\n",
    "        #  [0.,   0.,   0.,   0.,   0.]]\n",
    "        \n",
    "        return mask\n",
    "    \n",
    "    def create_pad_mask(self, matrix: torch.tensor, pad_token: int) -> torch.tensor:\n",
    "        # If matrix = [1,2,3,0,0,0] where pad_token=0, the result mask is\n",
    "        # [False, False, False, True, True, True]\n",
    "        return (matrix == pad_token)"
   ]
  },
  {
   "cell_type": "code",
   "execution_count": 66,
   "metadata": {
    "tags": []
   },
   "outputs": [],
   "source": [
    "class Training:\n",
    "    \n",
    "    def __init__(self, epochs, loss, optimizer, scheduler, path, model_name='Transformer', early_stop=True, patience=5):\n",
    "        \n",
    "        self.loss = loss\n",
    "        self.optimizer = optimizer\n",
    "        self.scheduler = scheduler\n",
    "        self.epochs = epochs\n",
    "        self.path = path\n",
    "        self.model_name = model_name\n",
    "        self.early_stop_flag = early_stop\n",
    "        self.patience = patience\n",
    "        self.clear_results()\n",
    "        \n",
    "    def clear_results(self):\n",
    "        \n",
    "        self.results = {\n",
    "            'Train':[],\n",
    "            'Validation':[],\n",
    "            'Test':[],\n",
    "        }\n",
    "        \n",
    "    def fit(self, model, train_loader, validation_loader, test_loader):\n",
    "        \n",
    "        self.clear_results()\n",
    "        torch.cuda.empty_cache()\n",
    "        decrease = self.patience\n",
    "        not_improved = 0\n",
    "        \n",
    "        model.to(device)\n",
    "        fit_time = time.time()\n",
    "        \n",
    "        for e in range(self.epochs):\n",
    "            since = time.time()\n",
    "            running_loss = 0\n",
    "            #training loop\n",
    "            model.train()\n",
    "            self.train_loop(model, train_loader)\n",
    "            model.eval()\n",
    "            self.validation_loop(model, validation_loader)\n",
    "            self.test_loop(model, test_loader)\n",
    "            decrease, not_improved = self.early_stopping(validation_loader, decrease)\n",
    "            if not_improved == 1 and self.early_stop_flag:\n",
    "                print('[***] end training ...') \n",
    "                break\n",
    "            loss_per_training_batch = self.results['Train'][-1]\n",
    "            loss_per_validation_batch = self.results['Validation'][-1]\n",
    "            loss_per_test_batch = self.results['Test'][-1]\n",
    "            print(\"Epoch:{}/{}..\".format(e+1, self.epochs),\n",
    "                  \"Train Loss: {:.3f}..\".format(loss_per_training_batch),\n",
    "                  \"Val Loss: {:.3f}..\".format(loss_per_validation_batch),\n",
    "                  \"Test Loss: {:.3f}..\".format(loss_per_test_batch),\n",
    "                  \"Time: {:.2f}m\".format((time.time()-since)/60))\n",
    "        print('Total time: {:.2f} m' .format((time.time()- fit_time)/60))\n",
    "        \n",
    "    def train_loop(self, model, train_loader):\n",
    "        \n",
    "        running_loss = 0.0\n",
    "        for i, data in enumerate(tqdm(train_loader)):\n",
    "            #training phase\n",
    "            X, y_tgt, y_out = data\n",
    "            X, y_tgt, y_out = X.to(device), y_tgt.to(device), y_out.to(device)\n",
    "            #y_result, y_tgt = Y, torch.from_numpy(-1.0*np.ones(Y.shape).astype('float32')).to(device)\n",
    "            #y_tgt[:,:,1:] = Y[:,:,:-1]\n",
    "            #y_tgt[:,:,0] = 0.0\n",
    "            output = model(X, y_tgt)\n",
    "            loss = self.loss(output.ravel(), y_out.ravel())\n",
    "            #backward\n",
    "            loss.backward()\n",
    "            self.optimizer.step() #update weight          \n",
    "            self.optimizer.zero_grad() #reset gradient\n",
    "            \n",
    "            #step the learning rate\n",
    "            if not self.scheduler is None:\n",
    "                self.scheduler.step()\n",
    "            running_loss += loss.item()\n",
    "        \n",
    "        self.results['Train'].append(running_loss/len(train_loader))\n",
    "    \n",
    "    \n",
    "    def validation_loop(self, model, validation_loader):\n",
    "        \n",
    "        running_loss = 0.0\n",
    "        with torch.no_grad():\n",
    "            for i, data in enumerate(tqdm(validation_loader)):\n",
    "                #training phase\n",
    "                X, y_tgt, y_out = data\n",
    "                X, y_tgt, y_out = X.to(device), y_tgt.to(device), y_out.to(device)\n",
    "                #y_result, y_tgt = Y, torch.from_numpy(-1.0*np.ones(Y.shape).astype('float32')).to(device)\n",
    "                #y_tgt[:,:,1:] = Y[:,:,:-1]\n",
    "                #y_tgt[:,:,0] = 0.0\n",
    "                output = model(X, y_tgt)\n",
    "                loss = self.loss(output.ravel(), y_out.ravel())\n",
    "                \n",
    "                running_loss += loss.item()\n",
    "        \n",
    "        self.results['Validation'].append(running_loss/len(validation_loader))\n",
    "        \n",
    "    def test_loop(self, model, test_loader):\n",
    "        \n",
    "        running_loss = 0.0\n",
    "        with torch.no_grad():\n",
    "            for i, data in enumerate(tqdm(test_loader)):\n",
    "                #training phase\n",
    "                X, y_tgt, y_out = data\n",
    "                X, y_tgt, y_out = X.to(device), y_tgt.to(device), y_out.to(device)\n",
    "                #y_result, y_tgt = Y, torch.from_numpy(-1.0*np.ones(Y.shape).astype('float32')).to(device)\n",
    "                #y_tgt[:,:,1:] = Y[:,:,:-1]\n",
    "                #y_tgt[:,:,0] = 0.0\n",
    "                output = model(X, y_tgt)\n",
    "                loss = self.loss(output.ravel(), y_out.ravel())\n",
    "                \n",
    "                running_loss += loss.item()\n",
    "        \n",
    "        self.results['Test'].append(running_loss/len(test_loader))\n",
    "        \n",
    "    def early_stopping(self, validation_loader, decrease):\n",
    "        \n",
    "        loss_per_validation_batch = self.results['Validation'][-1]\n",
    "        min_loss = np.min(self.results['Validation'][:-1] + [np.inf])\n",
    "        if min_loss >= self.results['Validation'][-1]:\n",
    "            print('Loss Decreasing.. {:.3f} >> {:.3f} '.format(min_loss, loss_per_validation_batch))\n",
    "            decrease = self.patience\n",
    "            print('saving model...')\n",
    "            torch.save(model, self.path + f'/{self.model_name}.pt')\n",
    "        else:\n",
    "            decrease -= 1\n",
    "        if decrease < 0:     \n",
    "                not_improved = 1\n",
    "        else:\n",
    "            not_improved = 0\n",
    "        return decrease, not_improved\n",
    "    \n",
    "    def get_best_model(self):\n",
    "        \n",
    "        model = torch.load(self.path + f'/{self.model_name}.pt')\n",
    "        return model\n",
    "            \n",
    "            "
   ]
  },
  {
   "cell_type": "code",
   "execution_count": 67,
   "metadata": {
    "tags": []
   },
   "outputs": [
    {
     "name": "stdout",
     "output_type": "stream",
     "text": [
      "Transformer(\n",
      "  (positional_encoder): PositionalEncoding(\n",
      "    (dropout): Dropout(p=0.1, inplace=False)\n",
      "  )\n",
      "  (transformer): Transformer(\n",
      "    (encoder): TransformerEncoder(\n",
      "      (layers): ModuleList(\n",
      "        (0-2): 3 x TransformerEncoderLayer(\n",
      "          (self_attn): MultiheadAttention(\n",
      "            (out_proj): NonDynamicallyQuantizableLinear(in_features=8, out_features=8, bias=True)\n",
      "          )\n",
      "          (linear1): Linear(in_features=8, out_features=32, bias=True)\n",
      "          (dropout): Dropout(p=0.1, inplace=False)\n",
      "          (linear2): Linear(in_features=32, out_features=8, bias=True)\n",
      "          (norm1): LayerNorm((8,), eps=1e-05, elementwise_affine=True)\n",
      "          (norm2): LayerNorm((8,), eps=1e-05, elementwise_affine=True)\n",
      "          (dropout1): Dropout(p=0.1, inplace=False)\n",
      "          (dropout2): Dropout(p=0.1, inplace=False)\n",
      "        )\n",
      "      )\n",
      "      (norm): LayerNorm((8,), eps=1e-05, elementwise_affine=True)\n",
      "    )\n",
      "    (decoder): TransformerDecoder(\n",
      "      (layers): ModuleList(\n",
      "        (0-2): 3 x TransformerDecoderLayer(\n",
      "          (self_attn): MultiheadAttention(\n",
      "            (out_proj): NonDynamicallyQuantizableLinear(in_features=8, out_features=8, bias=True)\n",
      "          )\n",
      "          (multihead_attn): MultiheadAttention(\n",
      "            (out_proj): NonDynamicallyQuantizableLinear(in_features=8, out_features=8, bias=True)\n",
      "          )\n",
      "          (linear1): Linear(in_features=8, out_features=32, bias=True)\n",
      "          (dropout): Dropout(p=0.1, inplace=False)\n",
      "          (linear2): Linear(in_features=32, out_features=8, bias=True)\n",
      "          (norm1): LayerNorm((8,), eps=1e-05, elementwise_affine=True)\n",
      "          (norm2): LayerNorm((8,), eps=1e-05, elementwise_affine=True)\n",
      "          (norm3): LayerNorm((8,), eps=1e-05, elementwise_affine=True)\n",
      "          (dropout1): Dropout(p=0.1, inplace=False)\n",
      "          (dropout2): Dropout(p=0.1, inplace=False)\n",
      "          (dropout3): Dropout(p=0.1, inplace=False)\n",
      "        )\n",
      "      )\n",
      "      (norm): LayerNorm((8,), eps=1e-05, elementwise_affine=True)\n",
      "    )\n",
      "  )\n",
      "  (linear_layers): ModuleList()\n",
      "  (out): Linear(in_features=8, out_features=1, bias=True)\n",
      ")\n"
     ]
    }
   ],
   "source": [
    "model = Transformer(\n",
    "    num_outputs=1, dim_model=dataset.max_sequence, num_heads=2, \n",
    "    num_encoder_layers=3, num_decoder_layers=3, dropout_p=0.1, norm_first=False,\n",
    "    num_linear_layers=0, dim_feedforward =4*dataset.max_sequence\n",
    ").to(device)\n",
    "\n",
    "print(model)\n",
    "\n",
    "lr_ = 5e-4\n",
    "epoch = 1000\n",
    "weight_decay = 1e-4\n",
    "path = '.'\n",
    "model_name = 'ADIM'\n",
    "\n",
    "loss = torch.nn.MSELoss()\n",
    "#optimizer = torch.optim.Adam(model.parameters(), lr=lr_)\n",
    "#optimizer = torch.optim.SGD(model.parameters(), lr=lr_)\n",
    "optimizer = torch.optim.AdamW(model.parameters(), lr=lr_, weight_decay=weight_decay)\n",
    "sched = None\n",
    "sched = torch.optim.lr_scheduler.OneCycleLR(optimizer, lr_, epochs=epoch,\n",
    "                                            steps_per_epoch=len(train_loader))\n",
    "training = Training(epoch, loss, optimizer, sched, model_name=model_name, path=path, early_stop=False, patience=20)"
   ]
  },
  {
   "cell_type": "code",
   "execution_count": 68,
   "metadata": {
    "tags": []
   },
   "outputs": [
    {
     "name": "stderr",
     "output_type": "stream",
     "text": [
      "100%|██████████| 107/107 [00:01<00:00, 59.25it/s]\n",
      "100%|██████████| 18/18 [00:00<00:00, 316.88it/s]\n",
      "100%|██████████| 53/53 [00:00<00:00, 317.43it/s]\n"
     ]
    },
    {
     "name": "stdout",
     "output_type": "stream",
     "text": [
      "Loss Decreasing.. inf >> 0.509 \n",
      "saving model...\n",
      "Epoch:1/1000.. Train Loss: 0.480.. Val Loss: 0.509.. Test Loss: 0.428.. Time: 0.03m\n"
     ]
    },
    {
     "name": "stderr",
     "output_type": "stream",
     "text": [
      "100%|██████████| 107/107 [00:01<00:00, 64.12it/s]\n",
      "100%|██████████| 18/18 [00:00<00:00, 306.38it/s]\n",
      "100%|██████████| 53/53 [00:00<00:00, 311.19it/s]\n"
     ]
    },
    {
     "name": "stdout",
     "output_type": "stream",
     "text": [
      "Loss Decreasing.. 0.509 >> 0.445 \n",
      "saving model...\n",
      "Epoch:2/1000.. Train Loss: 0.415.. Val Loss: 0.445.. Test Loss: 0.380.. Time: 0.03m\n"
     ]
    },
    {
     "name": "stderr",
     "output_type": "stream",
     "text": [
      "100%|██████████| 107/107 [00:01<00:00, 64.07it/s]\n",
      "100%|██████████| 18/18 [00:00<00:00, 308.01it/s]\n",
      "100%|██████████| 53/53 [00:00<00:00, 317.81it/s]\n"
     ]
    },
    {
     "name": "stdout",
     "output_type": "stream",
     "text": [
      "Loss Decreasing.. 0.445 >> 0.412 \n",
      "saving model...\n",
      "Epoch:3/1000.. Train Loss: 0.415.. Val Loss: 0.412.. Test Loss: 0.341.. Time: 0.03m\n"
     ]
    },
    {
     "name": "stderr",
     "output_type": "stream",
     "text": [
      "100%|██████████| 107/107 [00:01<00:00, 65.59it/s]\n",
      "100%|██████████| 18/18 [00:00<00:00, 313.37it/s]\n",
      "100%|██████████| 53/53 [00:00<00:00, 312.11it/s]\n"
     ]
    },
    {
     "name": "stdout",
     "output_type": "stream",
     "text": [
      "Loss Decreasing.. 0.412 >> 0.394 \n",
      "saving model...\n",
      "Epoch:4/1000.. Train Loss: 0.322.. Val Loss: 0.394.. Test Loss: 0.312.. Time: 0.03m\n"
     ]
    },
    {
     "name": "stderr",
     "output_type": "stream",
     "text": [
      "100%|██████████| 107/107 [00:01<00:00, 64.01it/s]\n",
      "100%|██████████| 18/18 [00:00<00:00, 312.13it/s]\n",
      "100%|██████████| 53/53 [00:00<00:00, 321.01it/s]\n"
     ]
    },
    {
     "name": "stdout",
     "output_type": "stream",
     "text": [
      "Loss Decreasing.. 0.394 >> 0.349 \n",
      "saving model...\n",
      "Epoch:5/1000.. Train Loss: 0.342.. Val Loss: 0.349.. Test Loss: 0.285.. Time: 0.03m\n"
     ]
    },
    {
     "name": "stderr",
     "output_type": "stream",
     "text": [
      "100%|██████████| 107/107 [00:01<00:00, 63.75it/s]\n",
      "100%|██████████| 18/18 [00:00<00:00, 304.29it/s]\n",
      "100%|██████████| 53/53 [00:00<00:00, 309.73it/s]\n"
     ]
    },
    {
     "name": "stdout",
     "output_type": "stream",
     "text": [
      "Loss Decreasing.. 0.349 >> 0.331 \n",
      "saving model...\n",
      "Epoch:6/1000.. Train Loss: 0.322.. Val Loss: 0.331.. Test Loss: 0.263.. Time: 0.03m\n"
     ]
    },
    {
     "name": "stderr",
     "output_type": "stream",
     "text": [
      "100%|██████████| 107/107 [00:01<00:00, 63.18it/s]\n",
      "100%|██████████| 18/18 [00:00<00:00, 307.69it/s]\n",
      "100%|██████████| 53/53 [00:00<00:00, 316.68it/s]\n"
     ]
    },
    {
     "name": "stdout",
     "output_type": "stream",
     "text": [
      "Loss Decreasing.. 0.331 >> 0.310 \n",
      "saving model...\n",
      "Epoch:7/1000.. Train Loss: 0.335.. Val Loss: 0.310.. Test Loss: 0.240.. Time: 0.03m\n"
     ]
    },
    {
     "name": "stderr",
     "output_type": "stream",
     "text": [
      "100%|██████████| 107/107 [00:01<00:00, 65.59it/s]\n",
      "100%|██████████| 18/18 [00:00<00:00, 314.05it/s]\n",
      "100%|██████████| 53/53 [00:00<00:00, 307.86it/s]\n"
     ]
    },
    {
     "name": "stdout",
     "output_type": "stream",
     "text": [
      "Loss Decreasing.. 0.310 >> 0.295 \n",
      "saving model...\n",
      "Epoch:8/1000.. Train Loss: 0.291.. Val Loss: 0.295.. Test Loss: 0.225.. Time: 0.03m\n"
     ]
    },
    {
     "name": "stderr",
     "output_type": "stream",
     "text": [
      "100%|██████████| 107/107 [00:01<00:00, 63.76it/s]\n",
      "100%|██████████| 18/18 [00:00<00:00, 312.68it/s]\n",
      "100%|██████████| 53/53 [00:00<00:00, 315.36it/s]\n"
     ]
    },
    {
     "name": "stdout",
     "output_type": "stream",
     "text": [
      "Loss Decreasing.. 0.295 >> 0.285 \n",
      "saving model...\n",
      "Epoch:9/1000.. Train Loss: 0.302.. Val Loss: 0.285.. Test Loss: 0.213.. Time: 0.03m\n"
     ]
    },
    {
     "name": "stderr",
     "output_type": "stream",
     "text": [
      "100%|██████████| 107/107 [00:01<00:00, 64.99it/s]\n",
      "100%|██████████| 18/18 [00:00<00:00, 309.19it/s]\n",
      "100%|██████████| 53/53 [00:00<00:00, 296.95it/s]\n"
     ]
    },
    {
     "name": "stdout",
     "output_type": "stream",
     "text": [
      "Loss Decreasing.. 0.285 >> 0.277 \n",
      "saving model...\n",
      "Epoch:10/1000.. Train Loss: 0.278.. Val Loss: 0.277.. Test Loss: 0.203.. Time: 0.03m\n"
     ]
    },
    {
     "name": "stderr",
     "output_type": "stream",
     "text": [
      "100%|██████████| 107/107 [00:01<00:00, 59.09it/s]\n",
      "100%|██████████| 18/18 [00:00<00:00, 318.50it/s]\n",
      "100%|██████████| 53/53 [00:00<00:00, 318.87it/s]\n"
     ]
    },
    {
     "name": "stdout",
     "output_type": "stream",
     "text": [
      "Loss Decreasing.. 0.277 >> 0.276 \n",
      "saving model...\n",
      "Epoch:11/1000.. Train Loss: 0.248.. Val Loss: 0.276.. Test Loss: 0.193.. Time: 0.03m\n"
     ]
    },
    {
     "name": "stderr",
     "output_type": "stream",
     "text": [
      "100%|██████████| 107/107 [00:01<00:00, 61.26it/s]\n",
      "100%|██████████| 18/18 [00:00<00:00, 311.12it/s]\n",
      "100%|██████████| 53/53 [00:00<00:00, 316.44it/s]\n"
     ]
    },
    {
     "name": "stdout",
     "output_type": "stream",
     "text": [
      "Loss Decreasing.. 0.276 >> 0.254 \n",
      "saving model...\n",
      "Epoch:12/1000.. Train Loss: 0.259.. Val Loss: 0.254.. Test Loss: 0.183.. Time: 0.03m\n"
     ]
    },
    {
     "name": "stderr",
     "output_type": "stream",
     "text": [
      "100%|██████████| 107/107 [00:01<00:00, 64.31it/s]\n",
      "100%|██████████| 18/18 [00:00<00:00, 307.57it/s]\n",
      "100%|██████████| 53/53 [00:00<00:00, 301.96it/s]\n"
     ]
    },
    {
     "name": "stdout",
     "output_type": "stream",
     "text": [
      "Loss Decreasing.. 0.254 >> 0.252 \n",
      "saving model...\n",
      "Epoch:13/1000.. Train Loss: 0.292.. Val Loss: 0.252.. Test Loss: 0.173.. Time: 0.03m\n"
     ]
    },
    {
     "name": "stderr",
     "output_type": "stream",
     "text": [
      "100%|██████████| 107/107 [00:01<00:00, 63.66it/s]\n",
      "100%|██████████| 18/18 [00:00<00:00, 315.45it/s]\n",
      "100%|██████████| 53/53 [00:00<00:00, 314.80it/s]\n"
     ]
    },
    {
     "name": "stdout",
     "output_type": "stream",
     "text": [
      "Epoch:14/1000.. Train Loss: 0.242.. Val Loss: 0.255.. Test Loss: 0.166.. Time: 0.03m\n"
     ]
    },
    {
     "name": "stderr",
     "output_type": "stream",
     "text": [
      "100%|██████████| 107/107 [00:01<00:00, 65.89it/s]\n",
      "100%|██████████| 18/18 [00:00<00:00, 316.28it/s]\n",
      "100%|██████████| 53/53 [00:00<00:00, 298.82it/s]\n"
     ]
    },
    {
     "name": "stdout",
     "output_type": "stream",
     "text": [
      "Loss Decreasing.. 0.252 >> 0.242 \n",
      "saving model...\n",
      "Epoch:15/1000.. Train Loss: 0.203.. Val Loss: 0.242.. Test Loss: 0.162.. Time: 0.03m\n"
     ]
    },
    {
     "name": "stderr",
     "output_type": "stream",
     "text": [
      "100%|██████████| 107/107 [00:01<00:00, 64.10it/s]\n",
      "100%|██████████| 18/18 [00:00<00:00, 315.50it/s]\n",
      "100%|██████████| 53/53 [00:00<00:00, 314.21it/s]\n"
     ]
    },
    {
     "name": "stdout",
     "output_type": "stream",
     "text": [
      "Epoch:16/1000.. Train Loss: 0.214.. Val Loss: 0.253.. Test Loss: 0.154.. Time: 0.03m\n"
     ]
    },
    {
     "name": "stderr",
     "output_type": "stream",
     "text": [
      "100%|██████████| 107/107 [00:01<00:00, 65.38it/s]\n",
      "100%|██████████| 18/18 [00:00<00:00, 313.95it/s]\n",
      "100%|██████████| 53/53 [00:00<00:00, 312.72it/s]\n"
     ]
    },
    {
     "name": "stdout",
     "output_type": "stream",
     "text": [
      "Loss Decreasing.. 0.242 >> 0.228 \n",
      "saving model...\n",
      "Epoch:17/1000.. Train Loss: 0.214.. Val Loss: 0.228.. Test Loss: 0.148.. Time: 0.03m\n"
     ]
    },
    {
     "name": "stderr",
     "output_type": "stream",
     "text": [
      "100%|██████████| 107/107 [00:01<00:00, 62.68it/s]\n",
      "100%|██████████| 18/18 [00:00<00:00, 307.52it/s]\n",
      "100%|██████████| 53/53 [00:00<00:00, 252.92it/s]\n"
     ]
    },
    {
     "name": "stdout",
     "output_type": "stream",
     "text": [
      "Epoch:18/1000.. Train Loss: 0.205.. Val Loss: 0.242.. Test Loss: 0.143.. Time: 0.03m\n"
     ]
    },
    {
     "name": "stderr",
     "output_type": "stream",
     "text": [
      "100%|██████████| 107/107 [00:01<00:00, 66.13it/s]\n",
      "100%|██████████| 18/18 [00:00<00:00, 299.80it/s]\n",
      "100%|██████████| 53/53 [00:00<00:00, 319.34it/s]\n"
     ]
    },
    {
     "name": "stdout",
     "output_type": "stream",
     "text": [
      "Loss Decreasing.. 0.228 >> 0.227 \n",
      "saving model...\n",
      "Epoch:19/1000.. Train Loss: 0.199.. Val Loss: 0.227.. Test Loss: 0.140.. Time: 0.03m\n"
     ]
    },
    {
     "name": "stderr",
     "output_type": "stream",
     "text": [
      "100%|██████████| 107/107 [00:01<00:00, 61.67it/s]\n",
      "100%|██████████| 18/18 [00:00<00:00, 311.08it/s]\n",
      "100%|██████████| 53/53 [00:00<00:00, 315.89it/s]\n"
     ]
    },
    {
     "name": "stdout",
     "output_type": "stream",
     "text": [
      "Loss Decreasing.. 0.227 >> 0.208 \n",
      "saving model...\n",
      "Epoch:20/1000.. Train Loss: 0.199.. Val Loss: 0.208.. Test Loss: 0.136.. Time: 0.03m\n"
     ]
    },
    {
     "name": "stderr",
     "output_type": "stream",
     "text": [
      "100%|██████████| 107/107 [00:01<00:00, 65.49it/s]\n",
      "100%|██████████| 18/18 [00:00<00:00, 311.17it/s]\n",
      "100%|██████████| 53/53 [00:00<00:00, 314.87it/s]\n"
     ]
    },
    {
     "name": "stdout",
     "output_type": "stream",
     "text": [
      "Loss Decreasing.. 0.208 >> 0.205 \n",
      "saving model...\n",
      "Epoch:21/1000.. Train Loss: 0.191.. Val Loss: 0.205.. Test Loss: 0.133.. Time: 0.03m\n"
     ]
    },
    {
     "name": "stderr",
     "output_type": "stream",
     "text": [
      "100%|██████████| 107/107 [00:01<00:00, 63.88it/s]\n",
      "100%|██████████| 18/18 [00:00<00:00, 316.03it/s]\n",
      "100%|██████████| 53/53 [00:00<00:00, 315.09it/s]\n"
     ]
    },
    {
     "name": "stdout",
     "output_type": "stream",
     "text": [
      "Loss Decreasing.. 0.205 >> 0.204 \n",
      "saving model...\n",
      "Epoch:22/1000.. Train Loss: 0.186.. Val Loss: 0.204.. Test Loss: 0.130.. Time: 0.03m\n"
     ]
    },
    {
     "name": "stderr",
     "output_type": "stream",
     "text": [
      "100%|██████████| 107/107 [00:01<00:00, 64.68it/s]\n",
      "100%|██████████| 18/18 [00:00<00:00, 317.93it/s]\n",
      "100%|██████████| 53/53 [00:00<00:00, 312.18it/s]\n"
     ]
    },
    {
     "name": "stdout",
     "output_type": "stream",
     "text": [
      "Loss Decreasing.. 0.204 >> 0.197 \n",
      "saving model...\n",
      "Epoch:23/1000.. Train Loss: 0.200.. Val Loss: 0.197.. Test Loss: 0.127.. Time: 0.03m\n"
     ]
    },
    {
     "name": "stderr",
     "output_type": "stream",
     "text": [
      "100%|██████████| 107/107 [00:01<00:00, 64.20it/s]\n",
      "100%|██████████| 18/18 [00:00<00:00, 297.60it/s]\n",
      "100%|██████████| 53/53 [00:00<00:00, 305.85it/s]\n"
     ]
    },
    {
     "name": "stdout",
     "output_type": "stream",
     "text": [
      "Loss Decreasing.. 0.197 >> 0.194 \n",
      "saving model...\n",
      "Epoch:24/1000.. Train Loss: 0.202.. Val Loss: 0.194.. Test Loss: 0.124.. Time: 0.03m\n"
     ]
    },
    {
     "name": "stderr",
     "output_type": "stream",
     "text": [
      "100%|██████████| 107/107 [00:01<00:00, 68.16it/s]\n",
      "100%|██████████| 18/18 [00:00<00:00, 315.58it/s]\n",
      "100%|██████████| 53/53 [00:00<00:00, 317.40it/s]\n"
     ]
    },
    {
     "name": "stdout",
     "output_type": "stream",
     "text": [
      "Epoch:25/1000.. Train Loss: 0.184.. Val Loss: 0.198.. Test Loss: 0.121.. Time: 0.03m\n"
     ]
    },
    {
     "name": "stderr",
     "output_type": "stream",
     "text": [
      "100%|██████████| 107/107 [00:01<00:00, 63.25it/s]\n",
      "100%|██████████| 18/18 [00:00<00:00, 319.09it/s]\n",
      "100%|██████████| 53/53 [00:00<00:00, 320.79it/s]\n"
     ]
    },
    {
     "name": "stdout",
     "output_type": "stream",
     "text": [
      "Epoch:26/1000.. Train Loss: 0.163.. Val Loss: 0.196.. Test Loss: 0.119.. Time: 0.03m\n"
     ]
    },
    {
     "name": "stderr",
     "output_type": "stream",
     "text": [
      "100%|██████████| 107/107 [00:01<00:00, 65.94it/s]\n",
      "100%|██████████| 18/18 [00:00<00:00, 316.71it/s]\n",
      "100%|██████████| 53/53 [00:00<00:00, 317.37it/s]\n"
     ]
    },
    {
     "name": "stdout",
     "output_type": "stream",
     "text": [
      "Loss Decreasing.. 0.194 >> 0.194 \n",
      "saving model...\n",
      "Epoch:27/1000.. Train Loss: 0.174.. Val Loss: 0.194.. Test Loss: 0.117.. Time: 0.03m\n"
     ]
    },
    {
     "name": "stderr",
     "output_type": "stream",
     "text": [
      "100%|██████████| 107/107 [00:01<00:00, 63.86it/s]\n",
      "100%|██████████| 18/18 [00:00<00:00, 314.38it/s]\n",
      "100%|██████████| 53/53 [00:00<00:00, 314.22it/s]\n"
     ]
    },
    {
     "name": "stdout",
     "output_type": "stream",
     "text": [
      "Loss Decreasing.. 0.194 >> 0.192 \n",
      "saving model...\n",
      "Epoch:28/1000.. Train Loss: 0.173.. Val Loss: 0.192.. Test Loss: 0.116.. Time: 0.03m\n"
     ]
    },
    {
     "name": "stderr",
     "output_type": "stream",
     "text": [
      "100%|██████████| 107/107 [00:01<00:00, 65.77it/s]\n",
      "100%|██████████| 18/18 [00:00<00:00, 310.22it/s]\n",
      "100%|██████████| 53/53 [00:00<00:00, 314.09it/s]\n"
     ]
    },
    {
     "name": "stdout",
     "output_type": "stream",
     "text": [
      "Loss Decreasing.. 0.192 >> 0.183 \n",
      "saving model...\n",
      "Epoch:29/1000.. Train Loss: 0.167.. Val Loss: 0.183.. Test Loss: 0.116.. Time: 0.03m\n"
     ]
    },
    {
     "name": "stderr",
     "output_type": "stream",
     "text": [
      "100%|██████████| 107/107 [00:01<00:00, 62.57it/s]\n",
      "100%|██████████| 18/18 [00:00<00:00, 313.32it/s]\n",
      "100%|██████████| 53/53 [00:00<00:00, 319.94it/s]\n"
     ]
    },
    {
     "name": "stdout",
     "output_type": "stream",
     "text": [
      "Loss Decreasing.. 0.183 >> 0.178 \n",
      "saving model...\n",
      "Epoch:30/1000.. Train Loss: 0.156.. Val Loss: 0.178.. Test Loss: 0.113.. Time: 0.03m\n"
     ]
    },
    {
     "name": "stderr",
     "output_type": "stream",
     "text": [
      "100%|██████████| 107/107 [00:01<00:00, 66.36it/s]\n",
      "100%|██████████| 18/18 [00:00<00:00, 316.65it/s]\n",
      "100%|██████████| 53/53 [00:00<00:00, 313.34it/s]\n"
     ]
    },
    {
     "name": "stdout",
     "output_type": "stream",
     "text": [
      "Epoch:31/1000.. Train Loss: 0.159.. Val Loss: 0.202.. Test Loss: 0.112.. Time: 0.03m\n"
     ]
    },
    {
     "name": "stderr",
     "output_type": "stream",
     "text": [
      "100%|██████████| 107/107 [00:01<00:00, 62.47it/s]\n",
      "100%|██████████| 18/18 [00:00<00:00, 315.29it/s]\n",
      "100%|██████████| 53/53 [00:00<00:00, 312.97it/s]\n"
     ]
    },
    {
     "name": "stdout",
     "output_type": "stream",
     "text": [
      "Epoch:32/1000.. Train Loss: 0.158.. Val Loss: 0.179.. Test Loss: 0.110.. Time: 0.03m\n"
     ]
    },
    {
     "name": "stderr",
     "output_type": "stream",
     "text": [
      "100%|██████████| 107/107 [00:01<00:00, 65.46it/s]\n",
      "100%|██████████| 18/18 [00:00<00:00, 317.00it/s]\n",
      "100%|██████████| 53/53 [00:00<00:00, 328.14it/s]\n"
     ]
    },
    {
     "name": "stdout",
     "output_type": "stream",
     "text": [
      "Loss Decreasing.. 0.178 >> 0.172 \n",
      "saving model...\n",
      "Epoch:33/1000.. Train Loss: 0.137.. Val Loss: 0.172.. Test Loss: 0.108.. Time: 0.03m\n"
     ]
    },
    {
     "name": "stderr",
     "output_type": "stream",
     "text": [
      "100%|██████████| 107/107 [00:01<00:00, 63.37it/s]\n",
      "100%|██████████| 18/18 [00:00<00:00, 319.42it/s]\n",
      "100%|██████████| 53/53 [00:00<00:00, 320.61it/s]\n"
     ]
    },
    {
     "name": "stdout",
     "output_type": "stream",
     "text": [
      "Epoch:34/1000.. Train Loss: 0.156.. Val Loss: 0.183.. Test Loss: 0.107.. Time: 0.03m\n"
     ]
    },
    {
     "name": "stderr",
     "output_type": "stream",
     "text": [
      "100%|██████████| 107/107 [00:01<00:00, 65.15it/s]\n",
      "100%|██████████| 18/18 [00:00<00:00, 315.52it/s]\n",
      "100%|██████████| 53/53 [00:00<00:00, 316.34it/s]\n"
     ]
    },
    {
     "name": "stdout",
     "output_type": "stream",
     "text": [
      "Epoch:35/1000.. Train Loss: 0.147.. Val Loss: 0.184.. Test Loss: 0.106.. Time: 0.03m\n"
     ]
    },
    {
     "name": "stderr",
     "output_type": "stream",
     "text": [
      "100%|██████████| 107/107 [00:01<00:00, 65.53it/s]\n",
      "100%|██████████| 18/18 [00:00<00:00, 320.46it/s]\n",
      "100%|██████████| 53/53 [00:00<00:00, 315.44it/s]\n"
     ]
    },
    {
     "name": "stdout",
     "output_type": "stream",
     "text": [
      "Loss Decreasing.. 0.172 >> 0.172 \n",
      "saving model...\n",
      "Epoch:36/1000.. Train Loss: 0.150.. Val Loss: 0.172.. Test Loss: 0.104.. Time: 0.03m\n"
     ]
    },
    {
     "name": "stderr",
     "output_type": "stream",
     "text": [
      "100%|██████████| 107/107 [00:01<00:00, 64.46it/s]\n",
      "100%|██████████| 18/18 [00:00<00:00, 307.66it/s]\n",
      "100%|██████████| 53/53 [00:00<00:00, 296.05it/s]\n"
     ]
    },
    {
     "name": "stdout",
     "output_type": "stream",
     "text": [
      "Loss Decreasing.. 0.172 >> 0.164 \n",
      "saving model...\n",
      "Epoch:37/1000.. Train Loss: 0.145.. Val Loss: 0.164.. Test Loss: 0.104.. Time: 0.03m\n"
     ]
    },
    {
     "name": "stderr",
     "output_type": "stream",
     "text": [
      "100%|██████████| 107/107 [00:01<00:00, 59.88it/s]\n",
      "100%|██████████| 18/18 [00:00<00:00, 316.28it/s]\n",
      "100%|██████████| 53/53 [00:00<00:00, 308.98it/s]\n"
     ]
    },
    {
     "name": "stdout",
     "output_type": "stream",
     "text": [
      "Loss Decreasing.. 0.164 >> 0.160 \n",
      "saving model...\n",
      "Epoch:38/1000.. Train Loss: 0.139.. Val Loss: 0.160.. Test Loss: 0.102.. Time: 0.03m\n"
     ]
    },
    {
     "name": "stderr",
     "output_type": "stream",
     "text": [
      "100%|██████████| 107/107 [00:01<00:00, 64.18it/s]\n",
      "100%|██████████| 18/18 [00:00<00:00, 315.21it/s]\n",
      "100%|██████████| 53/53 [00:00<00:00, 299.62it/s]\n"
     ]
    },
    {
     "name": "stdout",
     "output_type": "stream",
     "text": [
      "Epoch:39/1000.. Train Loss: 0.132.. Val Loss: 0.167.. Test Loss: 0.104.. Time: 0.03m\n"
     ]
    },
    {
     "name": "stderr",
     "output_type": "stream",
     "text": [
      "100%|██████████| 107/107 [00:01<00:00, 60.08it/s]\n",
      "100%|██████████| 18/18 [00:00<00:00, 243.34it/s]\n",
      "100%|██████████| 53/53 [00:00<00:00, 308.47it/s]\n"
     ]
    },
    {
     "name": "stdout",
     "output_type": "stream",
     "text": [
      "Epoch:40/1000.. Train Loss: 0.143.. Val Loss: 0.169.. Test Loss: 0.104.. Time: 0.03m\n"
     ]
    },
    {
     "name": "stderr",
     "output_type": "stream",
     "text": [
      "100%|██████████| 107/107 [00:01<00:00, 63.87it/s]\n",
      "100%|██████████| 18/18 [00:00<00:00, 318.53it/s]\n",
      "100%|██████████| 53/53 [00:00<00:00, 301.59it/s]\n"
     ]
    },
    {
     "name": "stdout",
     "output_type": "stream",
     "text": [
      "Loss Decreasing.. 0.160 >> 0.156 \n",
      "saving model...\n",
      "Epoch:41/1000.. Train Loss: 0.139.. Val Loss: 0.156.. Test Loss: 0.104.. Time: 0.03m\n"
     ]
    },
    {
     "name": "stderr",
     "output_type": "stream",
     "text": [
      "100%|██████████| 107/107 [00:01<00:00, 66.08it/s]\n",
      "100%|██████████| 18/18 [00:00<00:00, 311.62it/s]\n",
      "100%|██████████| 53/53 [00:00<00:00, 301.55it/s]\n"
     ]
    },
    {
     "name": "stdout",
     "output_type": "stream",
     "text": [
      "Epoch:42/1000.. Train Loss: 0.119.. Val Loss: 0.162.. Test Loss: 0.104.. Time: 0.03m\n"
     ]
    },
    {
     "name": "stderr",
     "output_type": "stream",
     "text": [
      "100%|██████████| 107/107 [00:01<00:00, 63.29it/s]\n",
      "100%|██████████| 18/18 [00:00<00:00, 324.03it/s]\n",
      "100%|██████████| 53/53 [00:00<00:00, 319.92it/s]\n"
     ]
    },
    {
     "name": "stdout",
     "output_type": "stream",
     "text": [
      "Loss Decreasing.. 0.156 >> 0.154 \n",
      "saving model...\n",
      "Epoch:43/1000.. Train Loss: 0.144.. Val Loss: 0.154.. Test Loss: 0.105.. Time: 0.03m\n"
     ]
    },
    {
     "name": "stderr",
     "output_type": "stream",
     "text": [
      "100%|██████████| 107/107 [00:01<00:00, 63.09it/s]\n",
      "100%|██████████| 18/18 [00:00<00:00, 316.39it/s]\n",
      "100%|██████████| 53/53 [00:00<00:00, 319.41it/s]\n"
     ]
    },
    {
     "name": "stdout",
     "output_type": "stream",
     "text": [
      "Epoch:44/1000.. Train Loss: 0.117.. Val Loss: 0.154.. Test Loss: 0.104.. Time: 0.03m\n"
     ]
    },
    {
     "name": "stderr",
     "output_type": "stream",
     "text": [
      "100%|██████████| 107/107 [00:01<00:00, 64.37it/s]\n",
      "100%|██████████| 18/18 [00:00<00:00, 315.77it/s]\n",
      "100%|██████████| 53/53 [00:00<00:00, 317.08it/s]\n"
     ]
    },
    {
     "name": "stdout",
     "output_type": "stream",
     "text": [
      "Loss Decreasing.. 0.154 >> 0.151 \n",
      "saving model...\n",
      "Epoch:45/1000.. Train Loss: 0.122.. Val Loss: 0.151.. Test Loss: 0.104.. Time: 0.03m\n"
     ]
    },
    {
     "name": "stderr",
     "output_type": "stream",
     "text": [
      "100%|██████████| 107/107 [00:01<00:00, 60.86it/s]\n",
      "100%|██████████| 18/18 [00:00<00:00, 253.65it/s]\n",
      "100%|██████████| 53/53 [00:00<00:00, 284.71it/s]\n"
     ]
    },
    {
     "name": "stdout",
     "output_type": "stream",
     "text": [
      "Loss Decreasing.. 0.151 >> 0.150 \n",
      "saving model...\n",
      "Epoch:46/1000.. Train Loss: 0.127.. Val Loss: 0.150.. Test Loss: 0.104.. Time: 0.03m\n"
     ]
    },
    {
     "name": "stderr",
     "output_type": "stream",
     "text": [
      "100%|██████████| 107/107 [00:01<00:00, 67.73it/s]\n",
      "100%|██████████| 18/18 [00:00<00:00, 311.52it/s]\n",
      "100%|██████████| 53/53 [00:00<00:00, 317.67it/s]\n"
     ]
    },
    {
     "name": "stdout",
     "output_type": "stream",
     "text": [
      "Epoch:47/1000.. Train Loss: 0.121.. Val Loss: 0.152.. Test Loss: 0.103.. Time: 0.03m\n"
     ]
    },
    {
     "name": "stderr",
     "output_type": "stream",
     "text": [
      "100%|██████████| 107/107 [00:01<00:00, 71.32it/s]\n",
      "100%|██████████| 18/18 [00:00<00:00, 311.83it/s]\n",
      "100%|██████████| 53/53 [00:00<00:00, 319.76it/s]\n"
     ]
    },
    {
     "name": "stdout",
     "output_type": "stream",
     "text": [
      "Loss Decreasing.. 0.150 >> 0.149 \n",
      "saving model...\n",
      "Epoch:48/1000.. Train Loss: 0.125.. Val Loss: 0.149.. Test Loss: 0.103.. Time: 0.03m\n"
     ]
    },
    {
     "name": "stderr",
     "output_type": "stream",
     "text": [
      "100%|██████████| 107/107 [00:01<00:00, 70.05it/s]\n",
      "100%|██████████| 18/18 [00:00<00:00, 240.11it/s]\n",
      "100%|██████████| 53/53 [00:00<00:00, 319.77it/s]\n"
     ]
    },
    {
     "name": "stdout",
     "output_type": "stream",
     "text": [
      "Loss Decreasing.. 0.149 >> 0.149 \n",
      "saving model...\n",
      "Epoch:49/1000.. Train Loss: 0.115.. Val Loss: 0.149.. Test Loss: 0.102.. Time: 0.03m\n"
     ]
    },
    {
     "name": "stderr",
     "output_type": "stream",
     "text": [
      "100%|██████████| 107/107 [00:01<00:00, 71.40it/s]\n",
      "100%|██████████| 18/18 [00:00<00:00, 315.71it/s]\n",
      "100%|██████████| 53/53 [00:00<00:00, 316.86it/s]\n"
     ]
    },
    {
     "name": "stdout",
     "output_type": "stream",
     "text": [
      "Loss Decreasing.. 0.149 >> 0.146 \n",
      "saving model...\n",
      "Epoch:50/1000.. Train Loss: 0.114.. Val Loss: 0.146.. Test Loss: 0.101.. Time: 0.03m\n"
     ]
    },
    {
     "name": "stderr",
     "output_type": "stream",
     "text": [
      "100%|██████████| 107/107 [00:01<00:00, 70.11it/s]\n",
      "100%|██████████| 18/18 [00:00<00:00, 321.39it/s]\n",
      "100%|██████████| 53/53 [00:00<00:00, 316.20it/s]\n"
     ]
    },
    {
     "name": "stdout",
     "output_type": "stream",
     "text": [
      "Epoch:51/1000.. Train Loss: 0.118.. Val Loss: 0.152.. Test Loss: 0.101.. Time: 0.03m\n"
     ]
    },
    {
     "name": "stderr",
     "output_type": "stream",
     "text": [
      "100%|██████████| 107/107 [00:01<00:00, 70.57it/s]\n",
      "100%|██████████| 18/18 [00:00<00:00, 312.85it/s]\n",
      "100%|██████████| 53/53 [00:00<00:00, 321.27it/s]\n"
     ]
    },
    {
     "name": "stdout",
     "output_type": "stream",
     "text": [
      "Epoch:52/1000.. Train Loss: 0.103.. Val Loss: 0.153.. Test Loss: 0.101.. Time: 0.03m\n"
     ]
    },
    {
     "name": "stderr",
     "output_type": "stream",
     "text": [
      "100%|██████████| 107/107 [00:01<00:00, 70.35it/s]\n",
      "100%|██████████| 18/18 [00:00<00:00, 312.92it/s]\n",
      "100%|██████████| 53/53 [00:00<00:00, 317.32it/s]\n"
     ]
    },
    {
     "name": "stdout",
     "output_type": "stream",
     "text": [
      "Epoch:53/1000.. Train Loss: 0.113.. Val Loss: 0.150.. Test Loss: 0.100.. Time: 0.03m\n"
     ]
    },
    {
     "name": "stderr",
     "output_type": "stream",
     "text": [
      "100%|██████████| 107/107 [00:01<00:00, 64.36it/s]\n",
      "100%|██████████| 18/18 [00:00<00:00, 299.85it/s]\n",
      "100%|██████████| 53/53 [00:00<00:00, 307.23it/s]\n"
     ]
    },
    {
     "name": "stdout",
     "output_type": "stream",
     "text": [
      "Loss Decreasing.. 0.146 >> 0.141 \n",
      "saving model...\n",
      "Epoch:54/1000.. Train Loss: 0.112.. Val Loss: 0.141.. Test Loss: 0.099.. Time: 0.03m\n"
     ]
    },
    {
     "name": "stderr",
     "output_type": "stream",
     "text": [
      "100%|██████████| 107/107 [00:01<00:00, 59.92it/s]\n",
      "100%|██████████| 18/18 [00:00<00:00, 310.74it/s]\n",
      "100%|██████████| 53/53 [00:00<00:00, 310.51it/s]\n"
     ]
    },
    {
     "name": "stdout",
     "output_type": "stream",
     "text": [
      "Epoch:55/1000.. Train Loss: 0.106.. Val Loss: 0.148.. Test Loss: 0.099.. Time: 0.03m\n"
     ]
    },
    {
     "name": "stderr",
     "output_type": "stream",
     "text": [
      "100%|██████████| 107/107 [00:01<00:00, 66.30it/s]\n",
      "100%|██████████| 18/18 [00:00<00:00, 313.48it/s]\n",
      "100%|██████████| 53/53 [00:00<00:00, 315.21it/s]\n"
     ]
    },
    {
     "name": "stdout",
     "output_type": "stream",
     "text": [
      "Loss Decreasing.. 0.141 >> 0.138 \n",
      "saving model...\n",
      "Epoch:56/1000.. Train Loss: 0.110.. Val Loss: 0.138.. Test Loss: 0.098.. Time: 0.03m\n"
     ]
    },
    {
     "name": "stderr",
     "output_type": "stream",
     "text": [
      "100%|██████████| 107/107 [00:01<00:00, 64.84it/s]\n",
      "100%|██████████| 18/18 [00:00<00:00, 313.87it/s]\n",
      "100%|██████████| 53/53 [00:00<00:00, 316.58it/s]\n"
     ]
    },
    {
     "name": "stdout",
     "output_type": "stream",
     "text": [
      "Epoch:57/1000.. Train Loss: 0.097.. Val Loss: 0.145.. Test Loss: 0.098.. Time: 0.03m\n"
     ]
    },
    {
     "name": "stderr",
     "output_type": "stream",
     "text": [
      "100%|██████████| 107/107 [00:01<00:00, 65.16it/s]\n",
      "100%|██████████| 18/18 [00:00<00:00, 323.66it/s]\n",
      "100%|██████████| 53/53 [00:00<00:00, 316.20it/s]\n"
     ]
    },
    {
     "name": "stdout",
     "output_type": "stream",
     "text": [
      "Loss Decreasing.. 0.138 >> 0.137 \n",
      "saving model...\n",
      "Epoch:58/1000.. Train Loss: 0.102.. Val Loss: 0.137.. Test Loss: 0.097.. Time: 0.03m\n"
     ]
    },
    {
     "name": "stderr",
     "output_type": "stream",
     "text": [
      "100%|██████████| 107/107 [00:01<00:00, 63.22it/s]\n",
      "100%|██████████| 18/18 [00:00<00:00, 320.29it/s]\n",
      "100%|██████████| 53/53 [00:00<00:00, 316.27it/s]\n"
     ]
    },
    {
     "name": "stdout",
     "output_type": "stream",
     "text": [
      "Loss Decreasing.. 0.137 >> 0.137 \n",
      "saving model...\n",
      "Epoch:59/1000.. Train Loss: 0.096.. Val Loss: 0.137.. Test Loss: 0.097.. Time: 0.03m\n"
     ]
    },
    {
     "name": "stderr",
     "output_type": "stream",
     "text": [
      "100%|██████████| 107/107 [00:01<00:00, 64.03it/s]\n",
      "100%|██████████| 18/18 [00:00<00:00, 323.10it/s]\n",
      "100%|██████████| 53/53 [00:00<00:00, 309.87it/s]\n"
     ]
    },
    {
     "name": "stdout",
     "output_type": "stream",
     "text": [
      "Loss Decreasing.. 0.137 >> 0.136 \n",
      "saving model...\n",
      "Epoch:60/1000.. Train Loss: 0.096.. Val Loss: 0.136.. Test Loss: 0.097.. Time: 0.03m\n"
     ]
    },
    {
     "name": "stderr",
     "output_type": "stream",
     "text": [
      "100%|██████████| 107/107 [00:01<00:00, 63.18it/s]\n",
      "100%|██████████| 18/18 [00:00<00:00, 309.46it/s]\n",
      "100%|██████████| 53/53 [00:00<00:00, 314.62it/s]\n"
     ]
    },
    {
     "name": "stdout",
     "output_type": "stream",
     "text": [
      "Epoch:61/1000.. Train Loss: 0.092.. Val Loss: 0.139.. Test Loss: 0.096.. Time: 0.03m\n"
     ]
    },
    {
     "name": "stderr",
     "output_type": "stream",
     "text": [
      "100%|██████████| 107/107 [00:01<00:00, 66.45it/s]\n",
      "100%|██████████| 18/18 [00:00<00:00, 309.27it/s]\n",
      "100%|██████████| 53/53 [00:00<00:00, 317.56it/s]\n"
     ]
    },
    {
     "name": "stdout",
     "output_type": "stream",
     "text": [
      "Epoch:62/1000.. Train Loss: 0.089.. Val Loss: 0.137.. Test Loss: 0.097.. Time: 0.03m\n"
     ]
    },
    {
     "name": "stderr",
     "output_type": "stream",
     "text": [
      "100%|██████████| 107/107 [00:01<00:00, 63.09it/s]\n",
      "100%|██████████| 18/18 [00:00<00:00, 314.43it/s]\n",
      "100%|██████████| 53/53 [00:00<00:00, 317.86it/s]\n"
     ]
    },
    {
     "name": "stdout",
     "output_type": "stream",
     "text": [
      "Epoch:63/1000.. Train Loss: 0.094.. Val Loss: 0.157.. Test Loss: 0.096.. Time: 0.03m\n"
     ]
    },
    {
     "name": "stderr",
     "output_type": "stream",
     "text": [
      "100%|██████████| 107/107 [00:01<00:00, 65.26it/s]\n",
      "100%|██████████| 18/18 [00:00<00:00, 246.31it/s]\n",
      "100%|██████████| 53/53 [00:00<00:00, 302.89it/s]\n"
     ]
    },
    {
     "name": "stdout",
     "output_type": "stream",
     "text": [
      "Loss Decreasing.. 0.136 >> 0.134 \n",
      "saving model...\n",
      "Epoch:64/1000.. Train Loss: 0.094.. Val Loss: 0.134.. Test Loss: 0.097.. Time: 0.03m\n"
     ]
    },
    {
     "name": "stderr",
     "output_type": "stream",
     "text": [
      "100%|██████████| 107/107 [00:01<00:00, 63.59it/s]\n",
      "100%|██████████| 18/18 [00:00<00:00, 319.53it/s]\n",
      "100%|██████████| 53/53 [00:00<00:00, 306.03it/s]\n"
     ]
    },
    {
     "name": "stdout",
     "output_type": "stream",
     "text": [
      "Epoch:65/1000.. Train Loss: 0.096.. Val Loss: 0.134.. Test Loss: 0.096.. Time: 0.03m\n"
     ]
    },
    {
     "name": "stderr",
     "output_type": "stream",
     "text": [
      "100%|██████████| 107/107 [00:01<00:00, 62.89it/s]\n",
      "100%|██████████| 18/18 [00:00<00:00, 305.47it/s]\n",
      "100%|██████████| 53/53 [00:00<00:00, 307.29it/s]\n"
     ]
    },
    {
     "name": "stdout",
     "output_type": "stream",
     "text": [
      "Loss Decreasing.. 0.134 >> 0.131 \n",
      "saving model...\n",
      "Epoch:66/1000.. Train Loss: 0.084.. Val Loss: 0.131.. Test Loss: 0.095.. Time: 0.03m\n"
     ]
    },
    {
     "name": "stderr",
     "output_type": "stream",
     "text": [
      "100%|██████████| 107/107 [00:01<00:00, 60.69it/s]\n",
      "100%|██████████| 18/18 [00:00<00:00, 317.47it/s]\n",
      "100%|██████████| 53/53 [00:00<00:00, 317.79it/s]\n"
     ]
    },
    {
     "name": "stdout",
     "output_type": "stream",
     "text": [
      "Epoch:67/1000.. Train Loss: 0.099.. Val Loss: 0.131.. Test Loss: 0.094.. Time: 0.03m\n"
     ]
    },
    {
     "name": "stderr",
     "output_type": "stream",
     "text": [
      "100%|██████████| 107/107 [00:01<00:00, 66.25it/s]\n",
      "100%|██████████| 18/18 [00:00<00:00, 312.13it/s]\n",
      "100%|██████████| 53/53 [00:00<00:00, 308.41it/s]\n"
     ]
    },
    {
     "name": "stdout",
     "output_type": "stream",
     "text": [
      "Epoch:68/1000.. Train Loss: 0.095.. Val Loss: 0.137.. Test Loss: 0.094.. Time: 0.03m\n"
     ]
    },
    {
     "name": "stderr",
     "output_type": "stream",
     "text": [
      "100%|██████████| 107/107 [00:01<00:00, 63.96it/s]\n",
      "100%|██████████| 18/18 [00:00<00:00, 321.27it/s]\n",
      "100%|██████████| 53/53 [00:00<00:00, 300.36it/s]\n"
     ]
    },
    {
     "name": "stdout",
     "output_type": "stream",
     "text": [
      "Loss Decreasing.. 0.131 >> 0.129 \n",
      "saving model...\n",
      "Epoch:69/1000.. Train Loss: 0.090.. Val Loss: 0.129.. Test Loss: 0.093.. Time: 0.03m\n"
     ]
    },
    {
     "name": "stderr",
     "output_type": "stream",
     "text": [
      "100%|██████████| 107/107 [00:01<00:00, 64.20it/s]\n",
      "100%|██████████| 18/18 [00:00<00:00, 305.78it/s]\n",
      "100%|██████████| 53/53 [00:00<00:00, 312.34it/s]\n"
     ]
    },
    {
     "name": "stdout",
     "output_type": "stream",
     "text": [
      "Epoch:70/1000.. Train Loss: 0.084.. Val Loss: 0.135.. Test Loss: 0.094.. Time: 0.03m\n"
     ]
    },
    {
     "name": "stderr",
     "output_type": "stream",
     "text": [
      "100%|██████████| 107/107 [00:01<00:00, 65.25it/s]\n",
      "100%|██████████| 18/18 [00:00<00:00, 318.11it/s]\n",
      "100%|██████████| 53/53 [00:00<00:00, 314.18it/s]\n"
     ]
    },
    {
     "name": "stdout",
     "output_type": "stream",
     "text": [
      "Loss Decreasing.. 0.129 >> 0.128 \n",
      "saving model...\n",
      "Epoch:71/1000.. Train Loss: 0.083.. Val Loss: 0.128.. Test Loss: 0.095.. Time: 0.03m\n"
     ]
    },
    {
     "name": "stderr",
     "output_type": "stream",
     "text": [
      "100%|██████████| 107/107 [00:01<00:00, 65.80it/s]\n",
      "100%|██████████| 18/18 [00:00<00:00, 314.59it/s]\n",
      "100%|██████████| 53/53 [00:00<00:00, 314.15it/s]\n"
     ]
    },
    {
     "name": "stdout",
     "output_type": "stream",
     "text": [
      "Loss Decreasing.. 0.128 >> 0.127 \n",
      "saving model...\n",
      "Epoch:72/1000.. Train Loss: 0.086.. Val Loss: 0.127.. Test Loss: 0.093.. Time: 0.03m\n"
     ]
    },
    {
     "name": "stderr",
     "output_type": "stream",
     "text": [
      "100%|██████████| 107/107 [00:01<00:00, 63.83it/s]\n",
      "100%|██████████| 18/18 [00:00<00:00, 320.66it/s]\n",
      "100%|██████████| 53/53 [00:00<00:00, 317.64it/s]\n"
     ]
    },
    {
     "name": "stdout",
     "output_type": "stream",
     "text": [
      "Epoch:73/1000.. Train Loss: 0.082.. Val Loss: 0.134.. Test Loss: 0.093.. Time: 0.03m\n"
     ]
    },
    {
     "name": "stderr",
     "output_type": "stream",
     "text": [
      "100%|██████████| 107/107 [00:01<00:00, 63.98it/s]\n",
      "100%|██████████| 18/18 [00:00<00:00, 309.31it/s]\n",
      "100%|██████████| 53/53 [00:00<00:00, 316.51it/s]\n"
     ]
    },
    {
     "name": "stdout",
     "output_type": "stream",
     "text": [
      "Epoch:74/1000.. Train Loss: 0.073.. Val Loss: 0.128.. Test Loss: 0.093.. Time: 0.03m\n"
     ]
    },
    {
     "name": "stderr",
     "output_type": "stream",
     "text": [
      "100%|██████████| 107/107 [00:01<00:00, 57.83it/s]\n",
      "100%|██████████| 18/18 [00:00<00:00, 259.24it/s]\n",
      "100%|██████████| 53/53 [00:00<00:00, 311.94it/s]\n"
     ]
    },
    {
     "name": "stdout",
     "output_type": "stream",
     "text": [
      "Epoch:75/1000.. Train Loss: 0.085.. Val Loss: 0.132.. Test Loss: 0.093.. Time: 0.03m\n"
     ]
    },
    {
     "name": "stderr",
     "output_type": "stream",
     "text": [
      "100%|██████████| 107/107 [00:01<00:00, 58.73it/s]\n",
      "100%|██████████| 18/18 [00:00<00:00, 314.45it/s]\n",
      "100%|██████████| 53/53 [00:00<00:00, 317.31it/s]\n"
     ]
    },
    {
     "name": "stdout",
     "output_type": "stream",
     "text": [
      "Loss Decreasing.. 0.127 >> 0.127 \n",
      "saving model...\n",
      "Epoch:76/1000.. Train Loss: 0.082.. Val Loss: 0.127.. Test Loss: 0.093.. Time: 0.03m\n"
     ]
    },
    {
     "name": "stderr",
     "output_type": "stream",
     "text": [
      "100%|██████████| 107/107 [00:01<00:00, 64.23it/s]\n",
      "100%|██████████| 18/18 [00:00<00:00, 322.42it/s]\n",
      "100%|██████████| 53/53 [00:00<00:00, 301.98it/s]\n"
     ]
    },
    {
     "name": "stdout",
     "output_type": "stream",
     "text": [
      "Epoch:77/1000.. Train Loss: 0.086.. Val Loss: 0.128.. Test Loss: 0.090.. Time: 0.03m\n"
     ]
    },
    {
     "name": "stderr",
     "output_type": "stream",
     "text": [
      "100%|██████████| 107/107 [00:01<00:00, 64.47it/s]\n",
      "100%|██████████| 18/18 [00:00<00:00, 270.08it/s]\n",
      "100%|██████████| 53/53 [00:00<00:00, 306.51it/s]\n"
     ]
    },
    {
     "name": "stdout",
     "output_type": "stream",
     "text": [
      "Loss Decreasing.. 0.127 >> 0.127 \n",
      "saving model...\n",
      "Epoch:78/1000.. Train Loss: 0.080.. Val Loss: 0.127.. Test Loss: 0.090.. Time: 0.03m\n"
     ]
    },
    {
     "name": "stderr",
     "output_type": "stream",
     "text": [
      "100%|██████████| 107/107 [00:01<00:00, 66.55it/s]\n",
      "100%|██████████| 18/18 [00:00<00:00, 313.24it/s]\n",
      "100%|██████████| 53/53 [00:00<00:00, 309.37it/s]\n"
     ]
    },
    {
     "name": "stdout",
     "output_type": "stream",
     "text": [
      "Loss Decreasing.. 0.127 >> 0.127 \n",
      "saving model...\n",
      "Epoch:79/1000.. Train Loss: 0.084.. Val Loss: 0.127.. Test Loss: 0.091.. Time: 0.03m\n"
     ]
    },
    {
     "name": "stderr",
     "output_type": "stream",
     "text": [
      "100%|██████████| 107/107 [00:01<00:00, 64.22it/s]\n",
      "100%|██████████| 18/18 [00:00<00:00, 302.60it/s]\n",
      "100%|██████████| 53/53 [00:00<00:00, 322.31it/s]\n"
     ]
    },
    {
     "name": "stdout",
     "output_type": "stream",
     "text": [
      "Loss Decreasing.. 0.127 >> 0.126 \n",
      "saving model...\n",
      "Epoch:80/1000.. Train Loss: 0.084.. Val Loss: 0.126.. Test Loss: 0.090.. Time: 0.03m\n"
     ]
    },
    {
     "name": "stderr",
     "output_type": "stream",
     "text": [
      "100%|██████████| 107/107 [00:01<00:00, 65.54it/s]\n",
      "100%|██████████| 18/18 [00:00<00:00, 314.44it/s]\n",
      "100%|██████████| 53/53 [00:00<00:00, 302.28it/s]\n"
     ]
    },
    {
     "name": "stdout",
     "output_type": "stream",
     "text": [
      "Epoch:81/1000.. Train Loss: 0.077.. Val Loss: 0.127.. Test Loss: 0.091.. Time: 0.03m\n"
     ]
    },
    {
     "name": "stderr",
     "output_type": "stream",
     "text": [
      "100%|██████████| 107/107 [00:01<00:00, 63.36it/s]\n",
      "100%|██████████| 18/18 [00:00<00:00, 314.73it/s]\n",
      "100%|██████████| 53/53 [00:00<00:00, 311.99it/s]\n"
     ]
    },
    {
     "name": "stdout",
     "output_type": "stream",
     "text": [
      "Loss Decreasing.. 0.126 >> 0.124 \n",
      "saving model...\n",
      "Epoch:82/1000.. Train Loss: 0.079.. Val Loss: 0.124.. Test Loss: 0.088.. Time: 0.03m\n"
     ]
    },
    {
     "name": "stderr",
     "output_type": "stream",
     "text": [
      "100%|██████████| 107/107 [00:01<00:00, 64.88it/s]\n",
      "100%|██████████| 18/18 [00:00<00:00, 308.34it/s]\n",
      "100%|██████████| 53/53 [00:00<00:00, 302.97it/s]\n"
     ]
    },
    {
     "name": "stdout",
     "output_type": "stream",
     "text": [
      "Epoch:83/1000.. Train Loss: 0.078.. Val Loss: 0.125.. Test Loss: 0.088.. Time: 0.03m\n"
     ]
    },
    {
     "name": "stderr",
     "output_type": "stream",
     "text": [
      "100%|██████████| 107/107 [00:01<00:00, 64.41it/s]\n",
      "100%|██████████| 18/18 [00:00<00:00, 302.53it/s]\n",
      "100%|██████████| 53/53 [00:00<00:00, 294.98it/s]\n"
     ]
    },
    {
     "name": "stdout",
     "output_type": "stream",
     "text": [
      "Epoch:84/1000.. Train Loss: 0.077.. Val Loss: 0.141.. Test Loss: 0.089.. Time: 0.03m\n"
     ]
    },
    {
     "name": "stderr",
     "output_type": "stream",
     "text": [
      "100%|██████████| 107/107 [00:01<00:00, 66.61it/s]\n",
      "100%|██████████| 18/18 [00:00<00:00, 310.68it/s]\n",
      "100%|██████████| 53/53 [00:00<00:00, 314.57it/s]\n"
     ]
    },
    {
     "name": "stdout",
     "output_type": "stream",
     "text": [
      "Loss Decreasing.. 0.124 >> 0.123 \n",
      "saving model...\n",
      "Epoch:85/1000.. Train Loss: 0.082.. Val Loss: 0.123.. Test Loss: 0.088.. Time: 0.03m\n"
     ]
    },
    {
     "name": "stderr",
     "output_type": "stream",
     "text": [
      "100%|██████████| 107/107 [00:01<00:00, 64.58it/s]\n",
      "100%|██████████| 18/18 [00:00<00:00, 330.01it/s]\n",
      "100%|██████████| 53/53 [00:00<00:00, 315.73it/s]\n"
     ]
    },
    {
     "name": "stdout",
     "output_type": "stream",
     "text": [
      "Epoch:86/1000.. Train Loss: 0.080.. Val Loss: 0.124.. Test Loss: 0.087.. Time: 0.03m\n"
     ]
    },
    {
     "name": "stderr",
     "output_type": "stream",
     "text": [
      "100%|██████████| 107/107 [00:01<00:00, 63.26it/s]\n",
      "100%|██████████| 18/18 [00:00<00:00, 313.67it/s]\n",
      "100%|██████████| 53/53 [00:00<00:00, 317.38it/s]\n"
     ]
    },
    {
     "name": "stdout",
     "output_type": "stream",
     "text": [
      "Loss Decreasing.. 0.123 >> 0.122 \n",
      "saving model...\n",
      "Epoch:87/1000.. Train Loss: 0.080.. Val Loss: 0.122.. Test Loss: 0.087.. Time: 0.03m\n"
     ]
    },
    {
     "name": "stderr",
     "output_type": "stream",
     "text": [
      "100%|██████████| 107/107 [00:01<00:00, 64.71it/s]\n",
      "100%|██████████| 18/18 [00:00<00:00, 322.17it/s]\n",
      "100%|██████████| 53/53 [00:00<00:00, 316.41it/s]\n"
     ]
    },
    {
     "name": "stdout",
     "output_type": "stream",
     "text": [
      "Loss Decreasing.. 0.122 >> 0.122 \n",
      "saving model...\n",
      "Epoch:88/1000.. Train Loss: 0.073.. Val Loss: 0.122.. Test Loss: 0.086.. Time: 0.03m\n"
     ]
    },
    {
     "name": "stderr",
     "output_type": "stream",
     "text": [
      "100%|██████████| 107/107 [00:01<00:00, 64.27it/s]\n",
      "100%|██████████| 18/18 [00:00<00:00, 316.19it/s]\n",
      "100%|██████████| 53/53 [00:00<00:00, 311.29it/s]\n"
     ]
    },
    {
     "name": "stdout",
     "output_type": "stream",
     "text": [
      "Epoch:89/1000.. Train Loss: 0.071.. Val Loss: 0.122.. Test Loss: 0.084.. Time: 0.03m\n"
     ]
    },
    {
     "name": "stderr",
     "output_type": "stream",
     "text": [
      "100%|██████████| 107/107 [00:01<00:00, 63.66it/s]\n",
      "100%|██████████| 18/18 [00:00<00:00, 309.54it/s]\n",
      "100%|██████████| 53/53 [00:00<00:00, 314.39it/s]\n"
     ]
    },
    {
     "name": "stdout",
     "output_type": "stream",
     "text": [
      "Loss Decreasing.. 0.122 >> 0.122 \n",
      "saving model...\n",
      "Epoch:90/1000.. Train Loss: 0.074.. Val Loss: 0.122.. Test Loss: 0.086.. Time: 0.03m\n"
     ]
    },
    {
     "name": "stderr",
     "output_type": "stream",
     "text": [
      "100%|██████████| 107/107 [00:01<00:00, 64.27it/s]\n",
      "100%|██████████| 18/18 [00:00<00:00, 310.70it/s]\n",
      "100%|██████████| 53/53 [00:00<00:00, 302.44it/s]\n"
     ]
    },
    {
     "name": "stdout",
     "output_type": "stream",
     "text": [
      "Epoch:91/1000.. Train Loss: 0.075.. Val Loss: 0.125.. Test Loss: 0.090.. Time: 0.03m\n"
     ]
    },
    {
     "name": "stderr",
     "output_type": "stream",
     "text": [
      "100%|██████████| 107/107 [00:01<00:00, 64.80it/s]\n",
      "100%|██████████| 18/18 [00:00<00:00, 304.51it/s]\n",
      "100%|██████████| 53/53 [00:00<00:00, 314.69it/s]\n"
     ]
    },
    {
     "name": "stdout",
     "output_type": "stream",
     "text": [
      "Epoch:92/1000.. Train Loss: 0.077.. Val Loss: 0.125.. Test Loss: 0.086.. Time: 0.03m\n"
     ]
    },
    {
     "name": "stderr",
     "output_type": "stream",
     "text": [
      "100%|██████████| 107/107 [00:01<00:00, 65.33it/s]\n",
      "100%|██████████| 18/18 [00:00<00:00, 313.74it/s]\n",
      "100%|██████████| 53/53 [00:00<00:00, 310.56it/s]\n"
     ]
    },
    {
     "name": "stdout",
     "output_type": "stream",
     "text": [
      "Epoch:93/1000.. Train Loss: 0.073.. Val Loss: 0.124.. Test Loss: 0.085.. Time: 0.03m\n"
     ]
    },
    {
     "name": "stderr",
     "output_type": "stream",
     "text": [
      "100%|██████████| 107/107 [00:01<00:00, 65.28it/s]\n",
      "100%|██████████| 18/18 [00:00<00:00, 316.99it/s]\n",
      "100%|██████████| 53/53 [00:00<00:00, 314.97it/s]\n"
     ]
    },
    {
     "name": "stdout",
     "output_type": "stream",
     "text": [
      "Loss Decreasing.. 0.122 >> 0.120 \n",
      "saving model...\n",
      "Epoch:94/1000.. Train Loss: 0.069.. Val Loss: 0.120.. Test Loss: 0.082.. Time: 0.03m\n"
     ]
    },
    {
     "name": "stderr",
     "output_type": "stream",
     "text": [
      "100%|██████████| 107/107 [00:01<00:00, 63.98it/s]\n",
      "100%|██████████| 18/18 [00:00<00:00, 306.18it/s]\n",
      "100%|██████████| 53/53 [00:00<00:00, 309.83it/s]\n"
     ]
    },
    {
     "name": "stdout",
     "output_type": "stream",
     "text": [
      "Loss Decreasing.. 0.120 >> 0.119 \n",
      "saving model...\n",
      "Epoch:95/1000.. Train Loss: 0.076.. Val Loss: 0.119.. Test Loss: 0.081.. Time: 0.03m\n"
     ]
    },
    {
     "name": "stderr",
     "output_type": "stream",
     "text": [
      "100%|██████████| 107/107 [00:01<00:00, 66.94it/s]\n",
      "100%|██████████| 18/18 [00:00<00:00, 321.80it/s]\n",
      "100%|██████████| 53/53 [00:00<00:00, 316.93it/s]\n"
     ]
    },
    {
     "name": "stdout",
     "output_type": "stream",
     "text": [
      "Epoch:96/1000.. Train Loss: 0.070.. Val Loss: 0.119.. Test Loss: 0.082.. Time: 0.03m\n"
     ]
    },
    {
     "name": "stderr",
     "output_type": "stream",
     "text": [
      "100%|██████████| 107/107 [00:01<00:00, 64.76it/s]\n",
      "100%|██████████| 18/18 [00:00<00:00, 316.64it/s]\n",
      "100%|██████████| 53/53 [00:00<00:00, 322.72it/s]\n"
     ]
    },
    {
     "name": "stdout",
     "output_type": "stream",
     "text": [
      "Loss Decreasing.. 0.119 >> 0.118 \n",
      "saving model...\n",
      "Epoch:97/1000.. Train Loss: 0.073.. Val Loss: 0.118.. Test Loss: 0.082.. Time: 0.03m\n"
     ]
    },
    {
     "name": "stderr",
     "output_type": "stream",
     "text": [
      "100%|██████████| 107/107 [00:01<00:00, 64.32it/s]\n",
      "100%|██████████| 18/18 [00:00<00:00, 312.07it/s]\n",
      "100%|██████████| 53/53 [00:00<00:00, 316.28it/s]\n"
     ]
    },
    {
     "name": "stdout",
     "output_type": "stream",
     "text": [
      "Epoch:98/1000.. Train Loss: 0.071.. Val Loss: 0.119.. Test Loss: 0.082.. Time: 0.03m\n"
     ]
    },
    {
     "name": "stderr",
     "output_type": "stream",
     "text": [
      "100%|██████████| 107/107 [00:01<00:00, 62.15it/s]\n",
      "100%|██████████| 18/18 [00:00<00:00, 323.62it/s]\n",
      "100%|██████████| 53/53 [00:00<00:00, 314.31it/s]\n"
     ]
    },
    {
     "name": "stdout",
     "output_type": "stream",
     "text": [
      "Epoch:99/1000.. Train Loss: 0.072.. Val Loss: 0.119.. Test Loss: 0.082.. Time: 0.03m\n"
     ]
    },
    {
     "name": "stderr",
     "output_type": "stream",
     "text": [
      "100%|██████████| 107/107 [00:01<00:00, 64.50it/s]\n",
      "100%|██████████| 18/18 [00:00<00:00, 269.52it/s]\n",
      "100%|██████████| 53/53 [00:00<00:00, 270.83it/s]\n"
     ]
    },
    {
     "name": "stdout",
     "output_type": "stream",
     "text": [
      "Epoch:100/1000.. Train Loss: 0.070.. Val Loss: 0.126.. Test Loss: 0.081.. Time: 0.03m\n"
     ]
    },
    {
     "name": "stderr",
     "output_type": "stream",
     "text": [
      "100%|██████████| 107/107 [00:01<00:00, 61.95it/s]\n",
      "100%|██████████| 18/18 [00:00<00:00, 303.82it/s]\n",
      "100%|██████████| 53/53 [00:00<00:00, 312.07it/s]\n"
     ]
    },
    {
     "name": "stdout",
     "output_type": "stream",
     "text": [
      "Epoch:101/1000.. Train Loss: 0.072.. Val Loss: 0.120.. Test Loss: 0.081.. Time: 0.03m\n"
     ]
    },
    {
     "name": "stderr",
     "output_type": "stream",
     "text": [
      "100%|██████████| 107/107 [00:01<00:00, 63.10it/s]\n",
      "100%|██████████| 18/18 [00:00<00:00, 275.05it/s]\n",
      "100%|██████████| 53/53 [00:00<00:00, 298.52it/s]\n"
     ]
    },
    {
     "name": "stdout",
     "output_type": "stream",
     "text": [
      "Epoch:102/1000.. Train Loss: 0.070.. Val Loss: 0.119.. Test Loss: 0.082.. Time: 0.03m\n"
     ]
    },
    {
     "name": "stderr",
     "output_type": "stream",
     "text": [
      "100%|██████████| 107/107 [00:01<00:00, 62.87it/s]\n",
      "100%|██████████| 18/18 [00:00<00:00, 311.48it/s]\n",
      "100%|██████████| 53/53 [00:00<00:00, 312.73it/s]\n"
     ]
    },
    {
     "name": "stdout",
     "output_type": "stream",
     "text": [
      "Loss Decreasing.. 0.118 >> 0.116 \n",
      "saving model...\n",
      "Epoch:103/1000.. Train Loss: 0.072.. Val Loss: 0.116.. Test Loss: 0.081.. Time: 0.03m\n"
     ]
    },
    {
     "name": "stderr",
     "output_type": "stream",
     "text": [
      "100%|██████████| 107/107 [00:01<00:00, 60.55it/s]\n",
      "100%|██████████| 18/18 [00:00<00:00, 301.87it/s]\n",
      "100%|██████████| 53/53 [00:00<00:00, 319.98it/s]\n"
     ]
    },
    {
     "name": "stdout",
     "output_type": "stream",
     "text": [
      "Epoch:104/1000.. Train Loss: 0.063.. Val Loss: 0.119.. Test Loss: 0.082.. Time: 0.03m\n"
     ]
    },
    {
     "name": "stderr",
     "output_type": "stream",
     "text": [
      "100%|██████████| 107/107 [00:01<00:00, 58.32it/s]\n",
      "100%|██████████| 18/18 [00:00<00:00, 316.52it/s]\n",
      "100%|██████████| 53/53 [00:00<00:00, 276.19it/s]\n"
     ]
    },
    {
     "name": "stdout",
     "output_type": "stream",
     "text": [
      "Epoch:105/1000.. Train Loss: 0.074.. Val Loss: 0.117.. Test Loss: 0.081.. Time: 0.03m\n"
     ]
    },
    {
     "name": "stderr",
     "output_type": "stream",
     "text": [
      "100%|██████████| 107/107 [00:01<00:00, 65.54it/s]\n",
      "100%|██████████| 18/18 [00:00<00:00, 315.94it/s]\n",
      "100%|██████████| 53/53 [00:00<00:00, 309.70it/s]\n"
     ]
    },
    {
     "name": "stdout",
     "output_type": "stream",
     "text": [
      "Epoch:106/1000.. Train Loss: 0.067.. Val Loss: 0.117.. Test Loss: 0.080.. Time: 0.03m\n"
     ]
    },
    {
     "name": "stderr",
     "output_type": "stream",
     "text": [
      "100%|██████████| 107/107 [00:01<00:00, 65.40it/s]\n",
      "100%|██████████| 18/18 [00:00<00:00, 315.64it/s]\n",
      "100%|██████████| 53/53 [00:00<00:00, 317.92it/s]\n"
     ]
    },
    {
     "name": "stdout",
     "output_type": "stream",
     "text": [
      "Loss Decreasing.. 0.116 >> 0.115 \n",
      "saving model...\n",
      "Epoch:107/1000.. Train Loss: 0.062.. Val Loss: 0.115.. Test Loss: 0.080.. Time: 0.03m\n"
     ]
    },
    {
     "name": "stderr",
     "output_type": "stream",
     "text": [
      "100%|██████████| 107/107 [00:01<00:00, 64.83it/s]\n",
      "100%|██████████| 18/18 [00:00<00:00, 271.58it/s]\n",
      "100%|██████████| 53/53 [00:00<00:00, 301.39it/s]\n"
     ]
    },
    {
     "name": "stdout",
     "output_type": "stream",
     "text": [
      "Loss Decreasing.. 0.115 >> 0.115 \n",
      "saving model...\n",
      "Epoch:108/1000.. Train Loss: 0.068.. Val Loss: 0.115.. Test Loss: 0.080.. Time: 0.03m\n"
     ]
    },
    {
     "name": "stderr",
     "output_type": "stream",
     "text": [
      "100%|██████████| 107/107 [00:01<00:00, 71.22it/s]\n",
      "100%|██████████| 18/18 [00:00<00:00, 320.77it/s]\n",
      "100%|██████████| 53/53 [00:00<00:00, 313.51it/s]\n"
     ]
    },
    {
     "name": "stdout",
     "output_type": "stream",
     "text": [
      "Loss Decreasing.. 0.115 >> 0.115 \n",
      "saving model...\n",
      "Epoch:109/1000.. Train Loss: 0.062.. Val Loss: 0.115.. Test Loss: 0.082.. Time: 0.03m\n"
     ]
    },
    {
     "name": "stderr",
     "output_type": "stream",
     "text": [
      "100%|██████████| 107/107 [00:01<00:00, 67.13it/s]\n",
      "100%|██████████| 18/18 [00:00<00:00, 307.18it/s]\n",
      "100%|██████████| 53/53 [00:00<00:00, 313.06it/s]\n"
     ]
    },
    {
     "name": "stdout",
     "output_type": "stream",
     "text": [
      "Epoch:110/1000.. Train Loss: 0.064.. Val Loss: 0.116.. Test Loss: 0.081.. Time: 0.03m\n"
     ]
    },
    {
     "name": "stderr",
     "output_type": "stream",
     "text": [
      "100%|██████████| 107/107 [00:01<00:00, 64.81it/s]\n",
      "100%|██████████| 18/18 [00:00<00:00, 314.18it/s]\n",
      "100%|██████████| 53/53 [00:00<00:00, 316.69it/s]\n"
     ]
    },
    {
     "name": "stdout",
     "output_type": "stream",
     "text": [
      "Epoch:111/1000.. Train Loss: 0.066.. Val Loss: 0.115.. Test Loss: 0.078.. Time: 0.03m\n"
     ]
    },
    {
     "name": "stderr",
     "output_type": "stream",
     "text": [
      "100%|██████████| 107/107 [00:01<00:00, 62.50it/s]\n",
      "100%|██████████| 18/18 [00:00<00:00, 314.41it/s]\n",
      "100%|██████████| 53/53 [00:00<00:00, 315.76it/s]\n"
     ]
    },
    {
     "name": "stdout",
     "output_type": "stream",
     "text": [
      "Epoch:112/1000.. Train Loss: 0.064.. Val Loss: 0.117.. Test Loss: 0.080.. Time: 0.03m\n"
     ]
    },
    {
     "name": "stderr",
     "output_type": "stream",
     "text": [
      "100%|██████████| 107/107 [00:01<00:00, 64.29it/s]\n",
      "100%|██████████| 18/18 [00:00<00:00, 320.31it/s]\n",
      "100%|██████████| 53/53 [00:00<00:00, 320.46it/s]\n"
     ]
    },
    {
     "name": "stdout",
     "output_type": "stream",
     "text": [
      "Epoch:113/1000.. Train Loss: 0.062.. Val Loss: 0.117.. Test Loss: 0.079.. Time: 0.03m\n"
     ]
    },
    {
     "name": "stderr",
     "output_type": "stream",
     "text": [
      "100%|██████████| 107/107 [00:01<00:00, 64.09it/s]\n",
      "100%|██████████| 18/18 [00:00<00:00, 321.95it/s]\n",
      "100%|██████████| 53/53 [00:00<00:00, 314.14it/s]\n"
     ]
    },
    {
     "name": "stdout",
     "output_type": "stream",
     "text": [
      "Epoch:114/1000.. Train Loss: 0.062.. Val Loss: 0.124.. Test Loss: 0.079.. Time: 0.03m\n"
     ]
    },
    {
     "name": "stderr",
     "output_type": "stream",
     "text": [
      "100%|██████████| 107/107 [00:01<00:00, 65.41it/s]\n",
      "100%|██████████| 18/18 [00:00<00:00, 320.78it/s]\n",
      "100%|██████████| 53/53 [00:00<00:00, 304.36it/s]\n"
     ]
    },
    {
     "name": "stdout",
     "output_type": "stream",
     "text": [
      "Epoch:115/1000.. Train Loss: 0.067.. Val Loss: 0.117.. Test Loss: 0.078.. Time: 0.03m\n"
     ]
    },
    {
     "name": "stderr",
     "output_type": "stream",
     "text": [
      "100%|██████████| 107/107 [00:01<00:00, 60.77it/s]\n",
      "100%|██████████| 18/18 [00:00<00:00, 306.60it/s]\n",
      "100%|██████████| 53/53 [00:00<00:00, 317.72it/s]\n"
     ]
    },
    {
     "name": "stdout",
     "output_type": "stream",
     "text": [
      "Epoch:116/1000.. Train Loss: 0.069.. Val Loss: 0.132.. Test Loss: 0.077.. Time: 0.03m\n"
     ]
    },
    {
     "name": "stderr",
     "output_type": "stream",
     "text": [
      "100%|██████████| 107/107 [00:01<00:00, 61.90it/s]\n",
      "100%|██████████| 18/18 [00:00<00:00, 312.23it/s]\n",
      "100%|██████████| 53/53 [00:00<00:00, 309.84it/s]\n"
     ]
    },
    {
     "name": "stdout",
     "output_type": "stream",
     "text": [
      "Epoch:117/1000.. Train Loss: 0.059.. Val Loss: 0.118.. Test Loss: 0.080.. Time: 0.03m\n"
     ]
    },
    {
     "name": "stderr",
     "output_type": "stream",
     "text": [
      "100%|██████████| 107/107 [00:01<00:00, 61.38it/s]\n",
      "100%|██████████| 18/18 [00:00<00:00, 316.00it/s]\n",
      "100%|██████████| 53/53 [00:00<00:00, 317.28it/s]\n"
     ]
    },
    {
     "name": "stdout",
     "output_type": "stream",
     "text": [
      "Epoch:118/1000.. Train Loss: 0.060.. Val Loss: 0.116.. Test Loss: 0.078.. Time: 0.03m\n"
     ]
    },
    {
     "name": "stderr",
     "output_type": "stream",
     "text": [
      "100%|██████████| 107/107 [00:01<00:00, 64.89it/s]\n",
      "100%|██████████| 18/18 [00:00<00:00, 274.78it/s]\n",
      "100%|██████████| 53/53 [00:00<00:00, 308.58it/s]\n"
     ]
    },
    {
     "name": "stdout",
     "output_type": "stream",
     "text": [
      "Epoch:119/1000.. Train Loss: 0.065.. Val Loss: 0.118.. Test Loss: 0.080.. Time: 0.03m\n"
     ]
    },
    {
     "name": "stderr",
     "output_type": "stream",
     "text": [
      "100%|██████████| 107/107 [00:01<00:00, 62.56it/s]\n",
      "100%|██████████| 18/18 [00:00<00:00, 304.04it/s]\n",
      "100%|██████████| 53/53 [00:00<00:00, 311.57it/s]\n"
     ]
    },
    {
     "name": "stdout",
     "output_type": "stream",
     "text": [
      "Epoch:120/1000.. Train Loss: 0.062.. Val Loss: 0.116.. Test Loss: 0.078.. Time: 0.03m\n"
     ]
    },
    {
     "name": "stderr",
     "output_type": "stream",
     "text": [
      "100%|██████████| 107/107 [00:01<00:00, 64.34it/s]\n",
      "100%|██████████| 18/18 [00:00<00:00, 314.85it/s]\n",
      "100%|██████████| 53/53 [00:00<00:00, 312.99it/s]\n"
     ]
    },
    {
     "name": "stdout",
     "output_type": "stream",
     "text": [
      "Epoch:121/1000.. Train Loss: 0.059.. Val Loss: 0.117.. Test Loss: 0.080.. Time: 0.03m\n"
     ]
    },
    {
     "name": "stderr",
     "output_type": "stream",
     "text": [
      "100%|██████████| 107/107 [00:01<00:00, 64.91it/s]\n",
      "100%|██████████| 18/18 [00:00<00:00, 319.35it/s]\n",
      "100%|██████████| 53/53 [00:00<00:00, 316.27it/s]\n"
     ]
    },
    {
     "name": "stdout",
     "output_type": "stream",
     "text": [
      "Epoch:122/1000.. Train Loss: 0.064.. Val Loss: 0.120.. Test Loss: 0.082.. Time: 0.03m\n"
     ]
    },
    {
     "name": "stderr",
     "output_type": "stream",
     "text": [
      "100%|██████████| 107/107 [00:01<00:00, 64.85it/s]\n",
      "100%|██████████| 18/18 [00:00<00:00, 312.10it/s]\n",
      "100%|██████████| 53/53 [00:00<00:00, 304.68it/s]\n"
     ]
    },
    {
     "name": "stdout",
     "output_type": "stream",
     "text": [
      "Epoch:123/1000.. Train Loss: 0.060.. Val Loss: 0.119.. Test Loss: 0.083.. Time: 0.03m\n"
     ]
    },
    {
     "name": "stderr",
     "output_type": "stream",
     "text": [
      "100%|██████████| 107/107 [00:01<00:00, 63.28it/s]\n",
      "100%|██████████| 18/18 [00:00<00:00, 317.15it/s]\n",
      "100%|██████████| 53/53 [00:00<00:00, 302.77it/s]\n"
     ]
    },
    {
     "name": "stdout",
     "output_type": "stream",
     "text": [
      "Epoch:124/1000.. Train Loss: 0.063.. Val Loss: 0.120.. Test Loss: 0.083.. Time: 0.03m\n"
     ]
    },
    {
     "name": "stderr",
     "output_type": "stream",
     "text": [
      "100%|██████████| 107/107 [00:01<00:00, 63.30it/s]\n",
      "100%|██████████| 18/18 [00:00<00:00, 312.61it/s]\n",
      "100%|██████████| 53/53 [00:00<00:00, 303.22it/s]\n"
     ]
    },
    {
     "name": "stdout",
     "output_type": "stream",
     "text": [
      "Epoch:125/1000.. Train Loss: 0.056.. Val Loss: 0.119.. Test Loss: 0.078.. Time: 0.03m\n"
     ]
    },
    {
     "name": "stderr",
     "output_type": "stream",
     "text": [
      "100%|██████████| 107/107 [00:01<00:00, 65.02it/s]\n",
      "100%|██████████| 18/18 [00:00<00:00, 310.29it/s]\n",
      "100%|██████████| 53/53 [00:00<00:00, 304.82it/s]\n"
     ]
    },
    {
     "name": "stdout",
     "output_type": "stream",
     "text": [
      "Epoch:126/1000.. Train Loss: 0.066.. Val Loss: 0.116.. Test Loss: 0.077.. Time: 0.03m\n"
     ]
    },
    {
     "name": "stderr",
     "output_type": "stream",
     "text": [
      "100%|██████████| 107/107 [00:01<00:00, 64.29it/s]\n",
      "100%|██████████| 18/18 [00:00<00:00, 296.93it/s]\n",
      "100%|██████████| 53/53 [00:00<00:00, 316.74it/s]\n"
     ]
    },
    {
     "name": "stdout",
     "output_type": "stream",
     "text": [
      "Epoch:127/1000.. Train Loss: 0.057.. Val Loss: 0.123.. Test Loss: 0.081.. Time: 0.03m\n"
     ]
    },
    {
     "name": "stderr",
     "output_type": "stream",
     "text": [
      "100%|██████████| 107/107 [00:01<00:00, 64.58it/s]\n",
      "100%|██████████| 18/18 [00:00<00:00, 268.21it/s]\n",
      "100%|██████████| 53/53 [00:00<00:00, 283.33it/s]\n"
     ]
    },
    {
     "name": "stdout",
     "output_type": "stream",
     "text": [
      "Epoch:128/1000.. Train Loss: 0.057.. Val Loss: 0.127.. Test Loss: 0.079.. Time: 0.03m\n"
     ]
    },
    {
     "name": "stderr",
     "output_type": "stream",
     "text": [
      "100%|██████████| 107/107 [00:01<00:00, 61.02it/s]\n",
      "100%|██████████| 18/18 [00:00<00:00, 309.88it/s]\n",
      "100%|██████████| 53/53 [00:00<00:00, 314.44it/s]\n"
     ]
    },
    {
     "name": "stdout",
     "output_type": "stream",
     "text": [
      "Epoch:129/1000.. Train Loss: 0.061.. Val Loss: 0.124.. Test Loss: 0.080.. Time: 0.03m\n"
     ]
    },
    {
     "name": "stderr",
     "output_type": "stream",
     "text": [
      "100%|██████████| 107/107 [00:01<00:00, 62.58it/s]\n",
      "100%|██████████| 18/18 [00:00<00:00, 264.07it/s]\n",
      "100%|██████████| 53/53 [00:00<00:00, 309.58it/s]\n"
     ]
    },
    {
     "name": "stdout",
     "output_type": "stream",
     "text": [
      "Epoch:130/1000.. Train Loss: 0.062.. Val Loss: 0.127.. Test Loss: 0.077.. Time: 0.03m\n"
     ]
    },
    {
     "name": "stderr",
     "output_type": "stream",
     "text": [
      "100%|██████████| 107/107 [00:01<00:00, 64.80it/s]\n",
      "100%|██████████| 18/18 [00:00<00:00, 232.59it/s]\n",
      "100%|██████████| 53/53 [00:00<00:00, 314.84it/s]\n"
     ]
    },
    {
     "name": "stdout",
     "output_type": "stream",
     "text": [
      "Epoch:131/1000.. Train Loss: 0.055.. Val Loss: 0.128.. Test Loss: 0.082.. Time: 0.03m\n"
     ]
    },
    {
     "name": "stderr",
     "output_type": "stream",
     "text": [
      "100%|██████████| 107/107 [00:01<00:00, 58.42it/s]\n",
      "100%|██████████| 18/18 [00:00<00:00, 299.23it/s]\n",
      "100%|██████████| 53/53 [00:00<00:00, 288.47it/s]\n"
     ]
    },
    {
     "name": "stdout",
     "output_type": "stream",
     "text": [
      "Epoch:132/1000.. Train Loss: 0.055.. Val Loss: 0.129.. Test Loss: 0.081.. Time: 0.03m\n"
     ]
    },
    {
     "name": "stderr",
     "output_type": "stream",
     "text": [
      "100%|██████████| 107/107 [00:01<00:00, 63.67it/s]\n",
      "100%|██████████| 18/18 [00:00<00:00, 315.64it/s]\n",
      "100%|██████████| 53/53 [00:00<00:00, 316.52it/s]\n"
     ]
    },
    {
     "name": "stdout",
     "output_type": "stream",
     "text": [
      "Epoch:133/1000.. Train Loss: 0.057.. Val Loss: 0.124.. Test Loss: 0.079.. Time: 0.03m\n"
     ]
    },
    {
     "name": "stderr",
     "output_type": "stream",
     "text": [
      "100%|██████████| 107/107 [00:01<00:00, 66.12it/s]\n",
      "100%|██████████| 18/18 [00:00<00:00, 312.01it/s]\n",
      "100%|██████████| 53/53 [00:00<00:00, 317.69it/s]\n"
     ]
    },
    {
     "name": "stdout",
     "output_type": "stream",
     "text": [
      "Epoch:134/1000.. Train Loss: 0.058.. Val Loss: 0.130.. Test Loss: 0.080.. Time: 0.03m\n"
     ]
    },
    {
     "name": "stderr",
     "output_type": "stream",
     "text": [
      "100%|██████████| 107/107 [00:01<00:00, 62.70it/s]\n",
      "100%|██████████| 18/18 [00:00<00:00, 319.16it/s]\n",
      "100%|██████████| 53/53 [00:00<00:00, 315.09it/s]\n"
     ]
    },
    {
     "name": "stdout",
     "output_type": "stream",
     "text": [
      "Epoch:135/1000.. Train Loss: 0.054.. Val Loss: 0.128.. Test Loss: 0.079.. Time: 0.03m\n"
     ]
    },
    {
     "name": "stderr",
     "output_type": "stream",
     "text": [
      "100%|██████████| 107/107 [00:01<00:00, 67.20it/s]\n",
      "100%|██████████| 18/18 [00:00<00:00, 316.94it/s]\n",
      "100%|██████████| 53/53 [00:00<00:00, 321.73it/s]\n"
     ]
    },
    {
     "name": "stdout",
     "output_type": "stream",
     "text": [
      "Epoch:136/1000.. Train Loss: 0.057.. Val Loss: 0.155.. Test Loss: 0.080.. Time: 0.03m\n"
     ]
    },
    {
     "name": "stderr",
     "output_type": "stream",
     "text": [
      "100%|██████████| 107/107 [00:01<00:00, 60.98it/s]\n",
      "100%|██████████| 18/18 [00:00<00:00, 259.85it/s]\n",
      "100%|██████████| 53/53 [00:00<00:00, 314.71it/s]\n"
     ]
    },
    {
     "name": "stdout",
     "output_type": "stream",
     "text": [
      "Epoch:137/1000.. Train Loss: 0.050.. Val Loss: 0.127.. Test Loss: 0.078.. Time: 0.03m\n"
     ]
    },
    {
     "name": "stderr",
     "output_type": "stream",
     "text": [
      "100%|██████████| 107/107 [00:01<00:00, 65.48it/s]\n",
      "100%|██████████| 18/18 [00:00<00:00, 297.37it/s]\n",
      "100%|██████████| 53/53 [00:00<00:00, 302.12it/s]\n"
     ]
    },
    {
     "name": "stdout",
     "output_type": "stream",
     "text": [
      "Epoch:138/1000.. Train Loss: 0.055.. Val Loss: 0.129.. Test Loss: 0.080.. Time: 0.03m\n"
     ]
    },
    {
     "name": "stderr",
     "output_type": "stream",
     "text": [
      "100%|██████████| 107/107 [00:01<00:00, 62.74it/s]\n",
      "100%|██████████| 18/18 [00:00<00:00, 321.04it/s]\n",
      "100%|██████████| 53/53 [00:00<00:00, 312.05it/s]\n"
     ]
    },
    {
     "name": "stdout",
     "output_type": "stream",
     "text": [
      "Epoch:139/1000.. Train Loss: 0.057.. Val Loss: 0.137.. Test Loss: 0.082.. Time: 0.03m\n"
     ]
    },
    {
     "name": "stderr",
     "output_type": "stream",
     "text": [
      "100%|██████████| 107/107 [00:01<00:00, 65.23it/s]\n",
      "100%|██████████| 18/18 [00:00<00:00, 295.74it/s]\n",
      "100%|██████████| 53/53 [00:00<00:00, 319.62it/s]\n"
     ]
    },
    {
     "name": "stdout",
     "output_type": "stream",
     "text": [
      "Epoch:140/1000.. Train Loss: 0.055.. Val Loss: 0.127.. Test Loss: 0.076.. Time: 0.03m\n"
     ]
    },
    {
     "name": "stderr",
     "output_type": "stream",
     "text": [
      "100%|██████████| 107/107 [00:01<00:00, 63.59it/s]\n",
      "100%|██████████| 18/18 [00:00<00:00, 276.23it/s]\n",
      "100%|██████████| 53/53 [00:00<00:00, 316.54it/s]\n"
     ]
    },
    {
     "name": "stdout",
     "output_type": "stream",
     "text": [
      "Epoch:141/1000.. Train Loss: 0.056.. Val Loss: 0.128.. Test Loss: 0.077.. Time: 0.03m\n"
     ]
    },
    {
     "name": "stderr",
     "output_type": "stream",
     "text": [
      "100%|██████████| 107/107 [00:01<00:00, 66.07it/s]\n",
      "100%|██████████| 18/18 [00:00<00:00, 278.70it/s]\n",
      "100%|██████████| 53/53 [00:00<00:00, 311.22it/s]\n"
     ]
    },
    {
     "name": "stdout",
     "output_type": "stream",
     "text": [
      "Epoch:142/1000.. Train Loss: 0.055.. Val Loss: 0.132.. Test Loss: 0.075.. Time: 0.03m\n"
     ]
    },
    {
     "name": "stderr",
     "output_type": "stream",
     "text": [
      "100%|██████████| 107/107 [00:01<00:00, 64.80it/s]\n",
      "100%|██████████| 18/18 [00:00<00:00, 277.44it/s]\n",
      "100%|██████████| 53/53 [00:00<00:00, 318.29it/s]\n"
     ]
    },
    {
     "name": "stdout",
     "output_type": "stream",
     "text": [
      "Epoch:143/1000.. Train Loss: 0.050.. Val Loss: 0.129.. Test Loss: 0.078.. Time: 0.03m\n"
     ]
    },
    {
     "name": "stderr",
     "output_type": "stream",
     "text": [
      "100%|██████████| 107/107 [00:01<00:00, 64.46it/s]\n",
      "100%|██████████| 18/18 [00:00<00:00, 312.06it/s]\n",
      "100%|██████████| 53/53 [00:00<00:00, 323.01it/s]\n"
     ]
    },
    {
     "name": "stdout",
     "output_type": "stream",
     "text": [
      "Epoch:144/1000.. Train Loss: 0.051.. Val Loss: 0.131.. Test Loss: 0.079.. Time: 0.03m\n"
     ]
    },
    {
     "name": "stderr",
     "output_type": "stream",
     "text": [
      "100%|██████████| 107/107 [00:01<00:00, 61.70it/s]\n",
      "100%|██████████| 18/18 [00:00<00:00, 244.08it/s]\n",
      "100%|██████████| 53/53 [00:00<00:00, 298.51it/s]\n"
     ]
    },
    {
     "name": "stdout",
     "output_type": "stream",
     "text": [
      "Epoch:145/1000.. Train Loss: 0.053.. Val Loss: 0.126.. Test Loss: 0.077.. Time: 0.03m\n"
     ]
    },
    {
     "name": "stderr",
     "output_type": "stream",
     "text": [
      "100%|██████████| 107/107 [00:01<00:00, 64.32it/s]\n",
      "100%|██████████| 18/18 [00:00<00:00, 310.05it/s]\n",
      "100%|██████████| 53/53 [00:00<00:00, 315.03it/s]\n"
     ]
    },
    {
     "name": "stdout",
     "output_type": "stream",
     "text": [
      "Epoch:146/1000.. Train Loss: 0.051.. Val Loss: 0.126.. Test Loss: 0.078.. Time: 0.03m\n"
     ]
    },
    {
     "name": "stderr",
     "output_type": "stream",
     "text": [
      "100%|██████████| 107/107 [00:01<00:00, 64.41it/s]\n",
      "100%|██████████| 18/18 [00:00<00:00, 316.21it/s]\n",
      "100%|██████████| 53/53 [00:00<00:00, 319.82it/s]\n"
     ]
    },
    {
     "name": "stdout",
     "output_type": "stream",
     "text": [
      "Epoch:147/1000.. Train Loss: 0.056.. Val Loss: 0.133.. Test Loss: 0.081.. Time: 0.03m\n"
     ]
    },
    {
     "name": "stderr",
     "output_type": "stream",
     "text": [
      "100%|██████████| 107/107 [00:01<00:00, 63.21it/s]\n",
      "100%|██████████| 18/18 [00:00<00:00, 319.19it/s]\n",
      "100%|██████████| 53/53 [00:00<00:00, 294.17it/s]\n"
     ]
    },
    {
     "name": "stdout",
     "output_type": "stream",
     "text": [
      "Epoch:148/1000.. Train Loss: 0.050.. Val Loss: 0.138.. Test Loss: 0.079.. Time: 0.03m\n"
     ]
    },
    {
     "name": "stderr",
     "output_type": "stream",
     "text": [
      "100%|██████████| 107/107 [00:01<00:00, 63.16it/s]\n",
      "100%|██████████| 18/18 [00:00<00:00, 305.03it/s]\n",
      "100%|██████████| 53/53 [00:00<00:00, 311.92it/s]\n"
     ]
    },
    {
     "name": "stdout",
     "output_type": "stream",
     "text": [
      "Epoch:149/1000.. Train Loss: 0.050.. Val Loss: 0.142.. Test Loss: 0.081.. Time: 0.03m\n"
     ]
    },
    {
     "name": "stderr",
     "output_type": "stream",
     "text": [
      "100%|██████████| 107/107 [00:01<00:00, 65.21it/s]\n",
      "100%|██████████| 18/18 [00:00<00:00, 313.14it/s]\n",
      "100%|██████████| 53/53 [00:00<00:00, 314.54it/s]\n"
     ]
    },
    {
     "name": "stdout",
     "output_type": "stream",
     "text": [
      "Epoch:150/1000.. Train Loss: 0.050.. Val Loss: 0.137.. Test Loss: 0.081.. Time: 0.03m\n"
     ]
    },
    {
     "name": "stderr",
     "output_type": "stream",
     "text": [
      "100%|██████████| 107/107 [00:01<00:00, 65.33it/s]\n",
      "100%|██████████| 18/18 [00:00<00:00, 316.87it/s]\n",
      "100%|██████████| 53/53 [00:00<00:00, 317.74it/s]\n"
     ]
    },
    {
     "name": "stdout",
     "output_type": "stream",
     "text": [
      "Epoch:151/1000.. Train Loss: 0.051.. Val Loss: 0.135.. Test Loss: 0.079.. Time: 0.03m\n"
     ]
    },
    {
     "name": "stderr",
     "output_type": "stream",
     "text": [
      "100%|██████████| 107/107 [00:01<00:00, 66.56it/s]\n",
      "100%|██████████| 18/18 [00:00<00:00, 306.07it/s]\n",
      "100%|██████████| 53/53 [00:00<00:00, 310.22it/s]\n"
     ]
    },
    {
     "name": "stdout",
     "output_type": "stream",
     "text": [
      "Epoch:152/1000.. Train Loss: 0.053.. Val Loss: 0.143.. Test Loss: 0.087.. Time: 0.03m\n"
     ]
    },
    {
     "name": "stderr",
     "output_type": "stream",
     "text": [
      "100%|██████████| 107/107 [00:01<00:00, 64.45it/s]\n",
      "100%|██████████| 18/18 [00:00<00:00, 312.44it/s]\n",
      "100%|██████████| 53/53 [00:00<00:00, 319.21it/s]\n"
     ]
    },
    {
     "name": "stdout",
     "output_type": "stream",
     "text": [
      "Epoch:153/1000.. Train Loss: 0.049.. Val Loss: 0.140.. Test Loss: 0.084.. Time: 0.03m\n"
     ]
    },
    {
     "name": "stderr",
     "output_type": "stream",
     "text": [
      "100%|██████████| 107/107 [00:01<00:00, 66.14it/s]\n",
      "100%|██████████| 18/18 [00:00<00:00, 319.57it/s]\n",
      "100%|██████████| 53/53 [00:00<00:00, 315.72it/s]\n"
     ]
    },
    {
     "name": "stdout",
     "output_type": "stream",
     "text": [
      "Epoch:154/1000.. Train Loss: 0.049.. Val Loss: 0.135.. Test Loss: 0.081.. Time: 0.03m\n"
     ]
    },
    {
     "name": "stderr",
     "output_type": "stream",
     "text": [
      "100%|██████████| 107/107 [00:01<00:00, 63.44it/s]\n",
      "100%|██████████| 18/18 [00:00<00:00, 309.24it/s]\n",
      "100%|██████████| 53/53 [00:00<00:00, 318.86it/s]\n"
     ]
    },
    {
     "name": "stdout",
     "output_type": "stream",
     "text": [
      "Epoch:155/1000.. Train Loss: 0.054.. Val Loss: 0.159.. Test Loss: 0.083.. Time: 0.03m\n"
     ]
    },
    {
     "name": "stderr",
     "output_type": "stream",
     "text": [
      "100%|██████████| 107/107 [00:01<00:00, 58.24it/s]\n",
      "100%|██████████| 18/18 [00:00<00:00, 315.36it/s]\n",
      "100%|██████████| 53/53 [00:00<00:00, 317.78it/s]\n"
     ]
    },
    {
     "name": "stdout",
     "output_type": "stream",
     "text": [
      "Epoch:156/1000.. Train Loss: 0.048.. Val Loss: 0.143.. Test Loss: 0.083.. Time: 0.03m\n"
     ]
    },
    {
     "name": "stderr",
     "output_type": "stream",
     "text": [
      "100%|██████████| 107/107 [00:01<00:00, 63.69it/s]\n",
      "100%|██████████| 18/18 [00:00<00:00, 285.37it/s]\n",
      "100%|██████████| 53/53 [00:00<00:00, 303.46it/s]\n"
     ]
    },
    {
     "name": "stdout",
     "output_type": "stream",
     "text": [
      "Epoch:157/1000.. Train Loss: 0.051.. Val Loss: 0.146.. Test Loss: 0.088.. Time: 0.03m\n"
     ]
    },
    {
     "name": "stderr",
     "output_type": "stream",
     "text": [
      "100%|██████████| 107/107 [00:01<00:00, 58.49it/s]\n",
      "100%|██████████| 18/18 [00:00<00:00, 248.92it/s]\n",
      "100%|██████████| 53/53 [00:00<00:00, 307.90it/s]\n"
     ]
    },
    {
     "name": "stdout",
     "output_type": "stream",
     "text": [
      "Epoch:158/1000.. Train Loss: 0.049.. Val Loss: 0.140.. Test Loss: 0.083.. Time: 0.03m\n"
     ]
    },
    {
     "name": "stderr",
     "output_type": "stream",
     "text": [
      "100%|██████████| 107/107 [00:01<00:00, 64.97it/s]\n",
      "100%|██████████| 18/18 [00:00<00:00, 315.47it/s]\n",
      "100%|██████████| 53/53 [00:00<00:00, 322.38it/s]\n"
     ]
    },
    {
     "name": "stdout",
     "output_type": "stream",
     "text": [
      "Epoch:159/1000.. Train Loss: 0.050.. Val Loss: 0.133.. Test Loss: 0.083.. Time: 0.03m\n"
     ]
    },
    {
     "name": "stderr",
     "output_type": "stream",
     "text": [
      "100%|██████████| 107/107 [00:01<00:00, 64.03it/s]\n",
      "100%|██████████| 18/18 [00:00<00:00, 315.75it/s]\n",
      "100%|██████████| 53/53 [00:00<00:00, 317.52it/s]\n"
     ]
    },
    {
     "name": "stdout",
     "output_type": "stream",
     "text": [
      "Epoch:160/1000.. Train Loss: 0.048.. Val Loss: 0.137.. Test Loss: 0.088.. Time: 0.03m\n"
     ]
    },
    {
     "name": "stderr",
     "output_type": "stream",
     "text": [
      "100%|██████████| 107/107 [00:01<00:00, 63.48it/s]\n",
      "100%|██████████| 18/18 [00:00<00:00, 315.41it/s]\n",
      "100%|██████████| 53/53 [00:00<00:00, 313.99it/s]\n"
     ]
    },
    {
     "name": "stdout",
     "output_type": "stream",
     "text": [
      "Epoch:161/1000.. Train Loss: 0.051.. Val Loss: 0.145.. Test Loss: 0.084.. Time: 0.03m\n"
     ]
    },
    {
     "name": "stderr",
     "output_type": "stream",
     "text": [
      "100%|██████████| 107/107 [00:01<00:00, 62.73it/s]\n",
      "100%|██████████| 18/18 [00:00<00:00, 311.81it/s]\n",
      "100%|██████████| 53/53 [00:00<00:00, 317.00it/s]\n"
     ]
    },
    {
     "name": "stdout",
     "output_type": "stream",
     "text": [
      "Epoch:162/1000.. Train Loss: 0.051.. Val Loss: 0.162.. Test Loss: 0.086.. Time: 0.03m\n"
     ]
    },
    {
     "name": "stderr",
     "output_type": "stream",
     "text": [
      "100%|██████████| 107/107 [00:01<00:00, 63.84it/s]\n",
      "100%|██████████| 18/18 [00:00<00:00, 316.24it/s]\n",
      "100%|██████████| 53/53 [00:00<00:00, 314.41it/s]\n"
     ]
    },
    {
     "name": "stdout",
     "output_type": "stream",
     "text": [
      "Epoch:163/1000.. Train Loss: 0.047.. Val Loss: 0.163.. Test Loss: 0.085.. Time: 0.03m\n"
     ]
    },
    {
     "name": "stderr",
     "output_type": "stream",
     "text": [
      "100%|██████████| 107/107 [00:01<00:00, 64.06it/s]\n",
      "100%|██████████| 18/18 [00:00<00:00, 277.83it/s]\n",
      "100%|██████████| 53/53 [00:00<00:00, 304.90it/s]\n"
     ]
    },
    {
     "name": "stdout",
     "output_type": "stream",
     "text": [
      "Epoch:164/1000.. Train Loss: 0.050.. Val Loss: 0.145.. Test Loss: 0.092.. Time: 0.03m\n"
     ]
    },
    {
     "name": "stderr",
     "output_type": "stream",
     "text": [
      "100%|██████████| 107/107 [00:01<00:00, 66.38it/s]\n",
      "100%|██████████| 18/18 [00:00<00:00, 310.19it/s]\n",
      "100%|██████████| 53/53 [00:00<00:00, 318.97it/s]\n"
     ]
    },
    {
     "name": "stdout",
     "output_type": "stream",
     "text": [
      "Epoch:165/1000.. Train Loss: 0.050.. Val Loss: 0.146.. Test Loss: 0.097.. Time: 0.03m\n"
     ]
    },
    {
     "name": "stderr",
     "output_type": "stream",
     "text": [
      "100%|██████████| 107/107 [00:01<00:00, 62.60it/s]\n",
      "100%|██████████| 18/18 [00:00<00:00, 316.63it/s]\n",
      "100%|██████████| 53/53 [00:00<00:00, 314.89it/s]\n"
     ]
    },
    {
     "name": "stdout",
     "output_type": "stream",
     "text": [
      "Epoch:166/1000.. Train Loss: 0.048.. Val Loss: 0.142.. Test Loss: 0.092.. Time: 0.03m\n"
     ]
    },
    {
     "name": "stderr",
     "output_type": "stream",
     "text": [
      "100%|██████████| 107/107 [00:01<00:00, 64.86it/s]\n",
      "100%|██████████| 18/18 [00:00<00:00, 316.47it/s]\n",
      "100%|██████████| 53/53 [00:00<00:00, 316.95it/s]\n"
     ]
    },
    {
     "name": "stdout",
     "output_type": "stream",
     "text": [
      "Epoch:167/1000.. Train Loss: 0.045.. Val Loss: 0.148.. Test Loss: 0.089.. Time: 0.03m\n"
     ]
    },
    {
     "name": "stderr",
     "output_type": "stream",
     "text": [
      "100%|██████████| 107/107 [00:01<00:00, 64.55it/s]\n",
      "100%|██████████| 18/18 [00:00<00:00, 309.88it/s]\n",
      "100%|██████████| 53/53 [00:00<00:00, 314.30it/s]\n"
     ]
    },
    {
     "name": "stdout",
     "output_type": "stream",
     "text": [
      "Epoch:168/1000.. Train Loss: 0.049.. Val Loss: 0.133.. Test Loss: 0.086.. Time: 0.03m\n"
     ]
    },
    {
     "name": "stderr",
     "output_type": "stream",
     "text": [
      "100%|██████████| 107/107 [00:01<00:00, 65.66it/s]\n",
      "100%|██████████| 18/18 [00:00<00:00, 313.64it/s]\n",
      "100%|██████████| 53/53 [00:00<00:00, 315.66it/s]\n"
     ]
    },
    {
     "name": "stdout",
     "output_type": "stream",
     "text": [
      "Epoch:169/1000.. Train Loss: 0.045.. Val Loss: 0.131.. Test Loss: 0.087.. Time: 0.03m\n"
     ]
    },
    {
     "name": "stderr",
     "output_type": "stream",
     "text": [
      "100%|██████████| 107/107 [00:01<00:00, 64.87it/s]\n",
      "100%|██████████| 18/18 [00:00<00:00, 316.98it/s]\n",
      "100%|██████████| 53/53 [00:00<00:00, 316.32it/s]\n"
     ]
    },
    {
     "name": "stdout",
     "output_type": "stream",
     "text": [
      "Epoch:170/1000.. Train Loss: 0.044.. Val Loss: 0.153.. Test Loss: 0.084.. Time: 0.03m\n"
     ]
    },
    {
     "name": "stderr",
     "output_type": "stream",
     "text": [
      "100%|██████████| 107/107 [00:01<00:00, 64.91it/s]\n",
      "100%|██████████| 18/18 [00:00<00:00, 312.19it/s]\n",
      "100%|██████████| 53/53 [00:00<00:00, 318.44it/s]\n"
     ]
    },
    {
     "name": "stdout",
     "output_type": "stream",
     "text": [
      "Epoch:171/1000.. Train Loss: 0.047.. Val Loss: 0.132.. Test Loss: 0.083.. Time: 0.03m\n"
     ]
    },
    {
     "name": "stderr",
     "output_type": "stream",
     "text": [
      "100%|██████████| 107/107 [00:01<00:00, 63.19it/s]\n",
      "100%|██████████| 18/18 [00:00<00:00, 304.90it/s]\n",
      "100%|██████████| 53/53 [00:00<00:00, 319.27it/s]\n"
     ]
    },
    {
     "name": "stdout",
     "output_type": "stream",
     "text": [
      "Epoch:172/1000.. Train Loss: 0.043.. Val Loss: 0.136.. Test Loss: 0.086.. Time: 0.03m\n"
     ]
    },
    {
     "name": "stderr",
     "output_type": "stream",
     "text": [
      "100%|██████████| 107/107 [00:01<00:00, 65.35it/s]\n",
      "100%|██████████| 18/18 [00:00<00:00, 305.06it/s]\n",
      "100%|██████████| 53/53 [00:00<00:00, 316.21it/s]\n"
     ]
    },
    {
     "name": "stdout",
     "output_type": "stream",
     "text": [
      "Epoch:173/1000.. Train Loss: 0.046.. Val Loss: 0.136.. Test Loss: 0.086.. Time: 0.03m\n"
     ]
    },
    {
     "name": "stderr",
     "output_type": "stream",
     "text": [
      "100%|██████████| 107/107 [00:01<00:00, 65.76it/s]\n",
      "100%|██████████| 18/18 [00:00<00:00, 312.95it/s]\n",
      "100%|██████████| 53/53 [00:00<00:00, 313.16it/s]\n"
     ]
    },
    {
     "name": "stdout",
     "output_type": "stream",
     "text": [
      "Epoch:174/1000.. Train Loss: 0.045.. Val Loss: 0.163.. Test Loss: 0.082.. Time: 0.03m\n"
     ]
    },
    {
     "name": "stderr",
     "output_type": "stream",
     "text": [
      "100%|██████████| 107/107 [00:01<00:00, 65.35it/s]\n",
      "100%|██████████| 18/18 [00:00<00:00, 312.60it/s]\n",
      "100%|██████████| 53/53 [00:00<00:00, 310.69it/s]\n"
     ]
    },
    {
     "name": "stdout",
     "output_type": "stream",
     "text": [
      "Epoch:175/1000.. Train Loss: 0.048.. Val Loss: 0.137.. Test Loss: 0.088.. Time: 0.03m\n"
     ]
    },
    {
     "name": "stderr",
     "output_type": "stream",
     "text": [
      "100%|██████████| 107/107 [00:01<00:00, 64.58it/s]\n",
      "100%|██████████| 18/18 [00:00<00:00, 290.31it/s]\n",
      "100%|██████████| 53/53 [00:00<00:00, 301.53it/s]\n"
     ]
    },
    {
     "name": "stdout",
     "output_type": "stream",
     "text": [
      "Epoch:176/1000.. Train Loss: 0.045.. Val Loss: 0.135.. Test Loss: 0.089.. Time: 0.03m\n"
     ]
    },
    {
     "name": "stderr",
     "output_type": "stream",
     "text": [
      "100%|██████████| 107/107 [00:01<00:00, 65.23it/s]\n",
      "100%|██████████| 18/18 [00:00<00:00, 316.54it/s]\n",
      "100%|██████████| 53/53 [00:00<00:00, 298.29it/s]\n"
     ]
    },
    {
     "name": "stdout",
     "output_type": "stream",
     "text": [
      "Epoch:177/1000.. Train Loss: 0.047.. Val Loss: 0.134.. Test Loss: 0.093.. Time: 0.03m\n"
     ]
    },
    {
     "name": "stderr",
     "output_type": "stream",
     "text": [
      "100%|██████████| 107/107 [00:01<00:00, 65.60it/s]\n",
      "100%|██████████| 18/18 [00:00<00:00, 317.57it/s]\n",
      "100%|██████████| 53/53 [00:00<00:00, 311.38it/s]\n"
     ]
    },
    {
     "name": "stdout",
     "output_type": "stream",
     "text": [
      "Epoch:178/1000.. Train Loss: 0.043.. Val Loss: 0.133.. Test Loss: 0.088.. Time: 0.03m\n"
     ]
    },
    {
     "name": "stderr",
     "output_type": "stream",
     "text": [
      "100%|██████████| 107/107 [00:01<00:00, 63.15it/s]\n",
      "100%|██████████| 18/18 [00:00<00:00, 312.74it/s]\n",
      "100%|██████████| 53/53 [00:00<00:00, 312.76it/s]\n"
     ]
    },
    {
     "name": "stdout",
     "output_type": "stream",
     "text": [
      "Epoch:179/1000.. Train Loss: 0.044.. Val Loss: 0.141.. Test Loss: 0.086.. Time: 0.03m\n"
     ]
    },
    {
     "name": "stderr",
     "output_type": "stream",
     "text": [
      "100%|██████████| 107/107 [00:01<00:00, 65.89it/s]\n",
      "100%|██████████| 18/18 [00:00<00:00, 310.38it/s]\n",
      "100%|██████████| 53/53 [00:00<00:00, 316.45it/s]\n"
     ]
    },
    {
     "name": "stdout",
     "output_type": "stream",
     "text": [
      "Epoch:180/1000.. Train Loss: 0.043.. Val Loss: 0.138.. Test Loss: 0.089.. Time: 0.03m\n"
     ]
    },
    {
     "name": "stderr",
     "output_type": "stream",
     "text": [
      "100%|██████████| 107/107 [00:01<00:00, 62.06it/s]\n",
      "100%|██████████| 18/18 [00:00<00:00, 314.90it/s]\n",
      "100%|██████████| 53/53 [00:00<00:00, 310.43it/s]\n"
     ]
    },
    {
     "name": "stdout",
     "output_type": "stream",
     "text": [
      "Epoch:181/1000.. Train Loss: 0.044.. Val Loss: 0.140.. Test Loss: 0.089.. Time: 0.03m\n"
     ]
    },
    {
     "name": "stderr",
     "output_type": "stream",
     "text": [
      "100%|██████████| 107/107 [00:01<00:00, 66.10it/s]\n",
      "100%|██████████| 18/18 [00:00<00:00, 306.71it/s]\n",
      "100%|██████████| 53/53 [00:00<00:00, 314.70it/s]\n"
     ]
    },
    {
     "name": "stdout",
     "output_type": "stream",
     "text": [
      "Epoch:182/1000.. Train Loss: 0.046.. Val Loss: 0.147.. Test Loss: 0.091.. Time: 0.03m\n"
     ]
    },
    {
     "name": "stderr",
     "output_type": "stream",
     "text": [
      "100%|██████████| 107/107 [00:01<00:00, 65.81it/s]\n",
      "100%|██████████| 18/18 [00:00<00:00, 317.29it/s]\n",
      "100%|██████████| 53/53 [00:00<00:00, 318.07it/s]\n"
     ]
    },
    {
     "name": "stdout",
     "output_type": "stream",
     "text": [
      "Epoch:183/1000.. Train Loss: 0.044.. Val Loss: 0.146.. Test Loss: 0.092.. Time: 0.03m\n"
     ]
    },
    {
     "name": "stderr",
     "output_type": "stream",
     "text": [
      "100%|██████████| 107/107 [00:01<00:00, 65.79it/s]\n",
      "100%|██████████| 18/18 [00:00<00:00, 313.26it/s]\n",
      "100%|██████████| 53/53 [00:00<00:00, 312.58it/s]\n"
     ]
    },
    {
     "name": "stdout",
     "output_type": "stream",
     "text": [
      "Epoch:184/1000.. Train Loss: 0.045.. Val Loss: 0.139.. Test Loss: 0.089.. Time: 0.03m\n"
     ]
    },
    {
     "name": "stderr",
     "output_type": "stream",
     "text": [
      "100%|██████████| 107/107 [00:01<00:00, 64.44it/s]\n",
      "100%|██████████| 18/18 [00:00<00:00, 316.46it/s]\n",
      "100%|██████████| 53/53 [00:00<00:00, 316.94it/s]\n"
     ]
    },
    {
     "name": "stdout",
     "output_type": "stream",
     "text": [
      "Epoch:185/1000.. Train Loss: 0.045.. Val Loss: 0.138.. Test Loss: 0.092.. Time: 0.03m\n"
     ]
    },
    {
     "name": "stderr",
     "output_type": "stream",
     "text": [
      "100%|██████████| 107/107 [00:01<00:00, 64.06it/s]\n",
      "100%|██████████| 18/18 [00:00<00:00, 319.93it/s]\n",
      "100%|██████████| 53/53 [00:00<00:00, 319.95it/s]\n"
     ]
    },
    {
     "name": "stdout",
     "output_type": "stream",
     "text": [
      "Epoch:186/1000.. Train Loss: 0.046.. Val Loss: 0.135.. Test Loss: 0.086.. Time: 0.03m\n"
     ]
    },
    {
     "name": "stderr",
     "output_type": "stream",
     "text": [
      "100%|██████████| 107/107 [00:01<00:00, 62.83it/s]\n",
      "100%|██████████| 18/18 [00:00<00:00, 319.84it/s]\n",
      "100%|██████████| 53/53 [00:00<00:00, 312.94it/s]\n"
     ]
    },
    {
     "name": "stdout",
     "output_type": "stream",
     "text": [
      "Epoch:187/1000.. Train Loss: 0.047.. Val Loss: 0.141.. Test Loss: 0.091.. Time: 0.03m\n"
     ]
    },
    {
     "name": "stderr",
     "output_type": "stream",
     "text": [
      "100%|██████████| 107/107 [00:01<00:00, 62.97it/s]\n",
      "100%|██████████| 18/18 [00:00<00:00, 313.37it/s]\n",
      "100%|██████████| 53/53 [00:00<00:00, 322.55it/s]\n"
     ]
    },
    {
     "name": "stdout",
     "output_type": "stream",
     "text": [
      "Epoch:188/1000.. Train Loss: 0.042.. Val Loss: 0.139.. Test Loss: 0.091.. Time: 0.03m\n"
     ]
    },
    {
     "name": "stderr",
     "output_type": "stream",
     "text": [
      "100%|██████████| 107/107 [00:01<00:00, 64.97it/s]\n",
      "100%|██████████| 18/18 [00:00<00:00, 316.11it/s]\n",
      "100%|██████████| 53/53 [00:00<00:00, 313.37it/s]\n"
     ]
    },
    {
     "name": "stdout",
     "output_type": "stream",
     "text": [
      "Epoch:189/1000.. Train Loss: 0.043.. Val Loss: 0.136.. Test Loss: 0.092.. Time: 0.03m\n"
     ]
    },
    {
     "name": "stderr",
     "output_type": "stream",
     "text": [
      "100%|██████████| 107/107 [00:01<00:00, 64.39it/s]\n",
      "100%|██████████| 18/18 [00:00<00:00, 296.16it/s]\n",
      "100%|██████████| 53/53 [00:00<00:00, 317.33it/s]\n"
     ]
    },
    {
     "name": "stdout",
     "output_type": "stream",
     "text": [
      "Epoch:190/1000.. Train Loss: 0.045.. Val Loss: 0.138.. Test Loss: 0.092.. Time: 0.03m\n"
     ]
    },
    {
     "name": "stderr",
     "output_type": "stream",
     "text": [
      "100%|██████████| 107/107 [00:01<00:00, 65.50it/s]\n",
      "100%|██████████| 18/18 [00:00<00:00, 278.99it/s]\n",
      "100%|██████████| 53/53 [00:00<00:00, 317.11it/s]\n"
     ]
    },
    {
     "name": "stdout",
     "output_type": "stream",
     "text": [
      "Epoch:191/1000.. Train Loss: 0.041.. Val Loss: 0.133.. Test Loss: 0.091.. Time: 0.03m\n"
     ]
    },
    {
     "name": "stderr",
     "output_type": "stream",
     "text": [
      "100%|██████████| 107/107 [00:01<00:00, 66.65it/s]\n",
      "100%|██████████| 18/18 [00:00<00:00, 308.54it/s]\n",
      "100%|██████████| 53/53 [00:00<00:00, 318.33it/s]\n"
     ]
    },
    {
     "name": "stdout",
     "output_type": "stream",
     "text": [
      "Epoch:192/1000.. Train Loss: 0.042.. Val Loss: 0.154.. Test Loss: 0.097.. Time: 0.03m\n"
     ]
    },
    {
     "name": "stderr",
     "output_type": "stream",
     "text": [
      "100%|██████████| 107/107 [00:01<00:00, 63.57it/s]\n",
      "100%|██████████| 18/18 [00:00<00:00, 281.49it/s]\n",
      "100%|██████████| 53/53 [00:00<00:00, 310.44it/s]\n"
     ]
    },
    {
     "name": "stdout",
     "output_type": "stream",
     "text": [
      "Epoch:193/1000.. Train Loss: 0.046.. Val Loss: 0.143.. Test Loss: 0.095.. Time: 0.03m\n"
     ]
    },
    {
     "name": "stderr",
     "output_type": "stream",
     "text": [
      "100%|██████████| 107/107 [00:01<00:00, 65.64it/s]\n",
      "100%|██████████| 18/18 [00:00<00:00, 315.19it/s]\n",
      "100%|██████████| 53/53 [00:00<00:00, 318.25it/s]\n"
     ]
    },
    {
     "name": "stdout",
     "output_type": "stream",
     "text": [
      "Epoch:194/1000.. Train Loss: 0.038.. Val Loss: 0.140.. Test Loss: 0.100.. Time: 0.03m\n"
     ]
    },
    {
     "name": "stderr",
     "output_type": "stream",
     "text": [
      "100%|██████████| 107/107 [00:01<00:00, 63.88it/s]\n",
      "100%|██████████| 18/18 [00:00<00:00, 306.88it/s]\n",
      "100%|██████████| 53/53 [00:00<00:00, 315.82it/s]\n"
     ]
    },
    {
     "name": "stdout",
     "output_type": "stream",
     "text": [
      "Epoch:195/1000.. Train Loss: 0.038.. Val Loss: 0.143.. Test Loss: 0.100.. Time: 0.03m\n"
     ]
    },
    {
     "name": "stderr",
     "output_type": "stream",
     "text": [
      "100%|██████████| 107/107 [00:01<00:00, 63.29it/s]\n",
      "100%|██████████| 18/18 [00:00<00:00, 313.05it/s]\n",
      "100%|██████████| 53/53 [00:00<00:00, 314.76it/s]\n"
     ]
    },
    {
     "name": "stdout",
     "output_type": "stream",
     "text": [
      "Epoch:196/1000.. Train Loss: 0.047.. Val Loss: 0.152.. Test Loss: 0.098.. Time: 0.03m\n"
     ]
    },
    {
     "name": "stderr",
     "output_type": "stream",
     "text": [
      "100%|██████████| 107/107 [00:01<00:00, 59.46it/s]\n",
      "100%|██████████| 18/18 [00:00<00:00, 319.38it/s]\n",
      "100%|██████████| 53/53 [00:00<00:00, 320.84it/s]\n"
     ]
    },
    {
     "name": "stdout",
     "output_type": "stream",
     "text": [
      "Epoch:197/1000.. Train Loss: 0.040.. Val Loss: 0.153.. Test Loss: 0.098.. Time: 0.03m\n"
     ]
    },
    {
     "name": "stderr",
     "output_type": "stream",
     "text": [
      "100%|██████████| 107/107 [00:01<00:00, 64.77it/s]\n",
      "100%|██████████| 18/18 [00:00<00:00, 317.79it/s]\n",
      "100%|██████████| 53/53 [00:00<00:00, 320.39it/s]\n"
     ]
    },
    {
     "name": "stdout",
     "output_type": "stream",
     "text": [
      "Epoch:198/1000.. Train Loss: 0.040.. Val Loss: 0.153.. Test Loss: 0.102.. Time: 0.03m\n"
     ]
    },
    {
     "name": "stderr",
     "output_type": "stream",
     "text": [
      "100%|██████████| 107/107 [00:01<00:00, 62.38it/s]\n",
      "100%|██████████| 18/18 [00:00<00:00, 310.59it/s]\n",
      "100%|██████████| 53/53 [00:00<00:00, 315.54it/s]\n"
     ]
    },
    {
     "name": "stdout",
     "output_type": "stream",
     "text": [
      "Epoch:199/1000.. Train Loss: 0.041.. Val Loss: 0.153.. Test Loss: 0.111.. Time: 0.03m\n"
     ]
    },
    {
     "name": "stderr",
     "output_type": "stream",
     "text": [
      "100%|██████████| 107/107 [00:01<00:00, 65.54it/s]\n",
      "100%|██████████| 18/18 [00:00<00:00, 312.41it/s]\n",
      "100%|██████████| 53/53 [00:00<00:00, 312.71it/s]\n"
     ]
    },
    {
     "name": "stdout",
     "output_type": "stream",
     "text": [
      "Epoch:200/1000.. Train Loss: 0.045.. Val Loss: 0.140.. Test Loss: 0.114.. Time: 0.03m\n"
     ]
    },
    {
     "name": "stderr",
     "output_type": "stream",
     "text": [
      "100%|██████████| 107/107 [00:01<00:00, 59.40it/s]\n",
      "100%|██████████| 18/18 [00:00<00:00, 234.57it/s]\n",
      "100%|██████████| 53/53 [00:00<00:00, 303.29it/s]\n"
     ]
    },
    {
     "name": "stdout",
     "output_type": "stream",
     "text": [
      "Epoch:201/1000.. Train Loss: 0.040.. Val Loss: 0.142.. Test Loss: 0.104.. Time: 0.03m\n"
     ]
    },
    {
     "name": "stderr",
     "output_type": "stream",
     "text": [
      "100%|██████████| 107/107 [00:01<00:00, 62.00it/s]\n",
      "100%|██████████| 18/18 [00:00<00:00, 317.53it/s]\n",
      "100%|██████████| 53/53 [00:00<00:00, 320.23it/s]\n"
     ]
    },
    {
     "name": "stdout",
     "output_type": "stream",
     "text": [
      "Epoch:202/1000.. Train Loss: 0.038.. Val Loss: 0.138.. Test Loss: 0.101.. Time: 0.03m\n"
     ]
    },
    {
     "name": "stderr",
     "output_type": "stream",
     "text": [
      "100%|██████████| 107/107 [00:01<00:00, 61.24it/s]\n",
      "100%|██████████| 18/18 [00:00<00:00, 316.45it/s]\n",
      "100%|██████████| 53/53 [00:00<00:00, 296.85it/s]\n"
     ]
    },
    {
     "name": "stdout",
     "output_type": "stream",
     "text": [
      "Epoch:203/1000.. Train Loss: 0.042.. Val Loss: 0.139.. Test Loss: 0.090.. Time: 0.03m\n"
     ]
    },
    {
     "name": "stderr",
     "output_type": "stream",
     "text": [
      "100%|██████████| 107/107 [00:01<00:00, 65.65it/s]\n",
      "100%|██████████| 18/18 [00:00<00:00, 316.58it/s]\n",
      "100%|██████████| 53/53 [00:00<00:00, 319.75it/s]\n"
     ]
    },
    {
     "name": "stdout",
     "output_type": "stream",
     "text": [
      "Epoch:204/1000.. Train Loss: 0.048.. Val Loss: 0.133.. Test Loss: 0.102.. Time: 0.03m\n"
     ]
    },
    {
     "name": "stderr",
     "output_type": "stream",
     "text": [
      "100%|██████████| 107/107 [00:01<00:00, 60.82it/s]\n",
      "100%|██████████| 18/18 [00:00<00:00, 298.30it/s]\n",
      "100%|██████████| 53/53 [00:00<00:00, 318.10it/s]\n"
     ]
    },
    {
     "name": "stdout",
     "output_type": "stream",
     "text": [
      "Epoch:205/1000.. Train Loss: 0.047.. Val Loss: 0.131.. Test Loss: 0.090.. Time: 0.03m\n"
     ]
    },
    {
     "name": "stderr",
     "output_type": "stream",
     "text": [
      "100%|██████████| 107/107 [00:01<00:00, 64.80it/s]\n",
      "100%|██████████| 18/18 [00:00<00:00, 320.80it/s]\n",
      "100%|██████████| 53/53 [00:00<00:00, 319.72it/s]\n"
     ]
    },
    {
     "name": "stdout",
     "output_type": "stream",
     "text": [
      "Epoch:206/1000.. Train Loss: 0.041.. Val Loss: 0.140.. Test Loss: 0.095.. Time: 0.03m\n"
     ]
    },
    {
     "name": "stderr",
     "output_type": "stream",
     "text": [
      "100%|██████████| 107/107 [00:01<00:00, 61.49it/s]\n",
      "100%|██████████| 18/18 [00:00<00:00, 310.45it/s]\n",
      "100%|██████████| 53/53 [00:00<00:00, 317.41it/s]\n"
     ]
    },
    {
     "name": "stdout",
     "output_type": "stream",
     "text": [
      "Epoch:207/1000.. Train Loss: 0.043.. Val Loss: 0.136.. Test Loss: 0.105.. Time: 0.03m\n"
     ]
    },
    {
     "name": "stderr",
     "output_type": "stream",
     "text": [
      "100%|██████████| 107/107 [00:01<00:00, 65.71it/s]\n",
      "100%|██████████| 18/18 [00:00<00:00, 315.93it/s]\n",
      "100%|██████████| 53/53 [00:00<00:00, 316.55it/s]\n"
     ]
    },
    {
     "name": "stdout",
     "output_type": "stream",
     "text": [
      "Epoch:208/1000.. Train Loss: 0.046.. Val Loss: 0.141.. Test Loss: 0.098.. Time: 0.03m\n"
     ]
    },
    {
     "name": "stderr",
     "output_type": "stream",
     "text": [
      "100%|██████████| 107/107 [00:01<00:00, 64.21it/s]\n",
      "100%|██████████| 18/18 [00:00<00:00, 304.05it/s]\n",
      "100%|██████████| 53/53 [00:00<00:00, 315.23it/s]\n"
     ]
    },
    {
     "name": "stdout",
     "output_type": "stream",
     "text": [
      "Epoch:209/1000.. Train Loss: 0.039.. Val Loss: 0.139.. Test Loss: 0.094.. Time: 0.03m\n"
     ]
    },
    {
     "name": "stderr",
     "output_type": "stream",
     "text": [
      "100%|██████████| 107/107 [00:01<00:00, 65.29it/s]\n",
      "100%|██████████| 18/18 [00:00<00:00, 306.36it/s]\n",
      "100%|██████████| 53/53 [00:00<00:00, 310.55it/s]\n"
     ]
    },
    {
     "name": "stdout",
     "output_type": "stream",
     "text": [
      "Epoch:210/1000.. Train Loss: 0.043.. Val Loss: 0.160.. Test Loss: 0.095.. Time: 0.03m\n"
     ]
    },
    {
     "name": "stderr",
     "output_type": "stream",
     "text": [
      "100%|██████████| 107/107 [00:01<00:00, 64.90it/s]\n",
      "100%|██████████| 18/18 [00:00<00:00, 311.99it/s]\n",
      "100%|██████████| 53/53 [00:00<00:00, 308.57it/s]\n"
     ]
    },
    {
     "name": "stdout",
     "output_type": "stream",
     "text": [
      "Epoch:211/1000.. Train Loss: 0.035.. Val Loss: 0.159.. Test Loss: 0.100.. Time: 0.03m\n"
     ]
    },
    {
     "name": "stderr",
     "output_type": "stream",
     "text": [
      "100%|██████████| 107/107 [00:01<00:00, 67.17it/s]\n",
      "100%|██████████| 18/18 [00:00<00:00, 317.17it/s]\n",
      "100%|██████████| 53/53 [00:00<00:00, 307.68it/s]\n"
     ]
    },
    {
     "name": "stdout",
     "output_type": "stream",
     "text": [
      "Epoch:212/1000.. Train Loss: 0.038.. Val Loss: 0.159.. Test Loss: 0.101.. Time: 0.03m\n"
     ]
    },
    {
     "name": "stderr",
     "output_type": "stream",
     "text": [
      "100%|██████████| 107/107 [00:01<00:00, 62.92it/s]\n",
      "100%|██████████| 18/18 [00:00<00:00, 311.15it/s]\n",
      "100%|██████████| 53/53 [00:00<00:00, 301.09it/s]\n"
     ]
    },
    {
     "name": "stdout",
     "output_type": "stream",
     "text": [
      "Epoch:213/1000.. Train Loss: 0.037.. Val Loss: 0.142.. Test Loss: 0.097.. Time: 0.03m\n"
     ]
    },
    {
     "name": "stderr",
     "output_type": "stream",
     "text": [
      "100%|██████████| 107/107 [00:01<00:00, 65.35it/s]\n",
      "100%|██████████| 18/18 [00:00<00:00, 318.59it/s]\n",
      "100%|██████████| 53/53 [00:00<00:00, 317.76it/s]\n"
     ]
    },
    {
     "name": "stdout",
     "output_type": "stream",
     "text": [
      "Epoch:214/1000.. Train Loss: 0.039.. Val Loss: 0.145.. Test Loss: 0.097.. Time: 0.03m\n"
     ]
    },
    {
     "name": "stderr",
     "output_type": "stream",
     "text": [
      "100%|██████████| 107/107 [00:01<00:00, 61.11it/s]\n",
      "100%|██████████| 18/18 [00:00<00:00, 305.15it/s]\n",
      "100%|██████████| 53/53 [00:00<00:00, 320.84it/s]\n"
     ]
    },
    {
     "name": "stdout",
     "output_type": "stream",
     "text": [
      "Epoch:215/1000.. Train Loss: 0.040.. Val Loss: 0.145.. Test Loss: 0.100.. Time: 0.03m\n"
     ]
    },
    {
     "name": "stderr",
     "output_type": "stream",
     "text": [
      "100%|██████████| 107/107 [00:01<00:00, 63.84it/s]\n",
      "100%|██████████| 18/18 [00:00<00:00, 314.53it/s]\n",
      "100%|██████████| 53/53 [00:00<00:00, 303.64it/s]\n"
     ]
    },
    {
     "name": "stdout",
     "output_type": "stream",
     "text": [
      "Epoch:216/1000.. Train Loss: 0.044.. Val Loss: 0.150.. Test Loss: 0.100.. Time: 0.03m\n"
     ]
    },
    {
     "name": "stderr",
     "output_type": "stream",
     "text": [
      "100%|██████████| 107/107 [00:01<00:00, 63.06it/s]\n",
      "100%|██████████| 18/18 [00:00<00:00, 315.18it/s]\n",
      "100%|██████████| 53/53 [00:00<00:00, 312.65it/s]\n"
     ]
    },
    {
     "name": "stdout",
     "output_type": "stream",
     "text": [
      "Epoch:217/1000.. Train Loss: 0.044.. Val Loss: 0.138.. Test Loss: 0.100.. Time: 0.03m\n"
     ]
    },
    {
     "name": "stderr",
     "output_type": "stream",
     "text": [
      "100%|██████████| 107/107 [00:01<00:00, 63.57it/s]\n",
      "100%|██████████| 18/18 [00:00<00:00, 319.79it/s]\n",
      "100%|██████████| 53/53 [00:00<00:00, 298.62it/s]\n"
     ]
    },
    {
     "name": "stdout",
     "output_type": "stream",
     "text": [
      "Epoch:218/1000.. Train Loss: 0.041.. Val Loss: 0.144.. Test Loss: 0.104.. Time: 0.03m\n"
     ]
    },
    {
     "name": "stderr",
     "output_type": "stream",
     "text": [
      "100%|██████████| 107/107 [00:01<00:00, 62.83it/s]\n",
      "100%|██████████| 18/18 [00:00<00:00, 294.33it/s]\n",
      "100%|██████████| 53/53 [00:00<00:00, 314.74it/s]\n"
     ]
    },
    {
     "name": "stdout",
     "output_type": "stream",
     "text": [
      "Epoch:219/1000.. Train Loss: 0.043.. Val Loss: 0.156.. Test Loss: 0.101.. Time: 0.03m\n"
     ]
    },
    {
     "name": "stderr",
     "output_type": "stream",
     "text": [
      "100%|██████████| 107/107 [00:01<00:00, 63.71it/s]\n",
      "100%|██████████| 18/18 [00:00<00:00, 314.08it/s]\n",
      "100%|██████████| 53/53 [00:00<00:00, 314.84it/s]\n"
     ]
    },
    {
     "name": "stdout",
     "output_type": "stream",
     "text": [
      "Epoch:220/1000.. Train Loss: 0.040.. Val Loss: 0.144.. Test Loss: 0.096.. Time: 0.03m\n"
     ]
    },
    {
     "name": "stderr",
     "output_type": "stream",
     "text": [
      "100%|██████████| 107/107 [00:01<00:00, 65.01it/s]\n",
      "100%|██████████| 18/18 [00:00<00:00, 315.56it/s]\n",
      "100%|██████████| 53/53 [00:00<00:00, 322.78it/s]\n"
     ]
    },
    {
     "name": "stdout",
     "output_type": "stream",
     "text": [
      "Epoch:221/1000.. Train Loss: 0.037.. Val Loss: 0.142.. Test Loss: 0.100.. Time: 0.03m\n"
     ]
    },
    {
     "name": "stderr",
     "output_type": "stream",
     "text": [
      "100%|██████████| 107/107 [00:01<00:00, 64.64it/s]\n",
      "100%|██████████| 18/18 [00:00<00:00, 313.12it/s]\n",
      "100%|██████████| 53/53 [00:00<00:00, 304.44it/s]\n"
     ]
    },
    {
     "name": "stdout",
     "output_type": "stream",
     "text": [
      "Epoch:222/1000.. Train Loss: 0.037.. Val Loss: 0.143.. Test Loss: 0.094.. Time: 0.03m\n"
     ]
    },
    {
     "name": "stderr",
     "output_type": "stream",
     "text": [
      "100%|██████████| 107/107 [00:01<00:00, 64.40it/s]\n",
      "100%|██████████| 18/18 [00:00<00:00, 313.92it/s]\n",
      "100%|██████████| 53/53 [00:00<00:00, 310.98it/s]\n"
     ]
    },
    {
     "name": "stdout",
     "output_type": "stream",
     "text": [
      "Epoch:223/1000.. Train Loss: 0.038.. Val Loss: 0.156.. Test Loss: 0.101.. Time: 0.03m\n"
     ]
    },
    {
     "name": "stderr",
     "output_type": "stream",
     "text": [
      "100%|██████████| 107/107 [00:01<00:00, 66.18it/s]\n",
      "100%|██████████| 18/18 [00:00<00:00, 317.60it/s]\n",
      "100%|██████████| 53/53 [00:00<00:00, 313.92it/s]\n"
     ]
    },
    {
     "name": "stdout",
     "output_type": "stream",
     "text": [
      "Epoch:224/1000.. Train Loss: 0.035.. Val Loss: 0.147.. Test Loss: 0.095.. Time: 0.03m\n"
     ]
    },
    {
     "name": "stderr",
     "output_type": "stream",
     "text": [
      "100%|██████████| 107/107 [00:01<00:00, 63.01it/s]\n",
      "100%|██████████| 18/18 [00:00<00:00, 313.91it/s]\n",
      "100%|██████████| 53/53 [00:00<00:00, 314.67it/s]\n"
     ]
    },
    {
     "name": "stdout",
     "output_type": "stream",
     "text": [
      "Epoch:225/1000.. Train Loss: 0.040.. Val Loss: 0.160.. Test Loss: 0.104.. Time: 0.03m\n"
     ]
    },
    {
     "name": "stderr",
     "output_type": "stream",
     "text": [
      "100%|██████████| 107/107 [00:01<00:00, 65.63it/s]\n",
      "100%|██████████| 18/18 [00:00<00:00, 314.12it/s]\n",
      "100%|██████████| 53/53 [00:00<00:00, 315.11it/s]\n"
     ]
    },
    {
     "name": "stdout",
     "output_type": "stream",
     "text": [
      "Epoch:226/1000.. Train Loss: 0.040.. Val Loss: 0.153.. Test Loss: 0.096.. Time: 0.03m\n"
     ]
    },
    {
     "name": "stderr",
     "output_type": "stream",
     "text": [
      "100%|██████████| 107/107 [00:01<00:00, 63.63it/s]\n",
      "100%|██████████| 18/18 [00:00<00:00, 307.39it/s]\n",
      "100%|██████████| 53/53 [00:00<00:00, 321.91it/s]\n"
     ]
    },
    {
     "name": "stdout",
     "output_type": "stream",
     "text": [
      "Epoch:227/1000.. Train Loss: 0.046.. Val Loss: 0.155.. Test Loss: 0.096.. Time: 0.03m\n"
     ]
    },
    {
     "name": "stderr",
     "output_type": "stream",
     "text": [
      "100%|██████████| 107/107 [00:01<00:00, 64.60it/s]\n",
      "100%|██████████| 18/18 [00:00<00:00, 312.00it/s]\n",
      "100%|██████████| 53/53 [00:00<00:00, 314.92it/s]\n"
     ]
    },
    {
     "name": "stdout",
     "output_type": "stream",
     "text": [
      "Epoch:228/1000.. Train Loss: 0.036.. Val Loss: 0.149.. Test Loss: 0.104.. Time: 0.03m\n"
     ]
    },
    {
     "name": "stderr",
     "output_type": "stream",
     "text": [
      "100%|██████████| 107/107 [00:01<00:00, 62.93it/s]\n",
      "100%|██████████| 18/18 [00:00<00:00, 314.61it/s]\n",
      "100%|██████████| 53/53 [00:00<00:00, 313.76it/s]\n"
     ]
    },
    {
     "name": "stdout",
     "output_type": "stream",
     "text": [
      "Epoch:229/1000.. Train Loss: 0.041.. Val Loss: 0.154.. Test Loss: 0.093.. Time: 0.03m\n"
     ]
    },
    {
     "name": "stderr",
     "output_type": "stream",
     "text": [
      "100%|██████████| 107/107 [00:01<00:00, 63.84it/s]\n",
      "100%|██████████| 18/18 [00:00<00:00, 256.15it/s]\n",
      "100%|██████████| 53/53 [00:00<00:00, 305.09it/s]\n"
     ]
    },
    {
     "name": "stdout",
     "output_type": "stream",
     "text": [
      "Epoch:230/1000.. Train Loss: 0.035.. Val Loss: 0.150.. Test Loss: 0.097.. Time: 0.03m\n"
     ]
    },
    {
     "name": "stderr",
     "output_type": "stream",
     "text": [
      "100%|██████████| 107/107 [00:01<00:00, 63.42it/s]\n",
      "100%|██████████| 18/18 [00:00<00:00, 317.57it/s]\n",
      "100%|██████████| 53/53 [00:00<00:00, 318.37it/s]\n"
     ]
    },
    {
     "name": "stdout",
     "output_type": "stream",
     "text": [
      "Epoch:231/1000.. Train Loss: 0.036.. Val Loss: 0.165.. Test Loss: 0.097.. Time: 0.03m\n"
     ]
    },
    {
     "name": "stderr",
     "output_type": "stream",
     "text": [
      "100%|██████████| 107/107 [00:01<00:00, 65.05it/s]\n",
      "100%|██████████| 18/18 [00:00<00:00, 311.57it/s]\n",
      "100%|██████████| 53/53 [00:00<00:00, 312.80it/s]\n"
     ]
    },
    {
     "name": "stdout",
     "output_type": "stream",
     "text": [
      "Epoch:232/1000.. Train Loss: 0.034.. Val Loss: 0.151.. Test Loss: 0.099.. Time: 0.03m\n"
     ]
    },
    {
     "name": "stderr",
     "output_type": "stream",
     "text": [
      "100%|██████████| 107/107 [00:01<00:00, 67.46it/s]\n",
      "100%|██████████| 18/18 [00:00<00:00, 313.08it/s]\n",
      "100%|██████████| 53/53 [00:00<00:00, 310.09it/s]\n"
     ]
    },
    {
     "name": "stdout",
     "output_type": "stream",
     "text": [
      "Epoch:233/1000.. Train Loss: 0.042.. Val Loss: 0.146.. Test Loss: 0.093.. Time: 0.03m\n"
     ]
    },
    {
     "name": "stderr",
     "output_type": "stream",
     "text": [
      "100%|██████████| 107/107 [00:01<00:00, 63.80it/s]\n",
      "100%|██████████| 18/18 [00:00<00:00, 311.62it/s]\n",
      "100%|██████████| 53/53 [00:00<00:00, 308.64it/s]\n"
     ]
    },
    {
     "name": "stdout",
     "output_type": "stream",
     "text": [
      "Epoch:234/1000.. Train Loss: 0.041.. Val Loss: 0.163.. Test Loss: 0.119.. Time: 0.03m\n"
     ]
    },
    {
     "name": "stderr",
     "output_type": "stream",
     "text": [
      "100%|██████████| 107/107 [00:01<00:00, 64.30it/s]\n",
      "100%|██████████| 18/18 [00:00<00:00, 315.43it/s]\n",
      "100%|██████████| 53/53 [00:00<00:00, 317.92it/s]\n"
     ]
    },
    {
     "name": "stdout",
     "output_type": "stream",
     "text": [
      "Epoch:235/1000.. Train Loss: 0.040.. Val Loss: 0.152.. Test Loss: 0.091.. Time: 0.03m\n"
     ]
    },
    {
     "name": "stderr",
     "output_type": "stream",
     "text": [
      "100%|██████████| 107/107 [00:01<00:00, 64.73it/s]\n",
      "100%|██████████| 18/18 [00:00<00:00, 309.30it/s]\n",
      "100%|██████████| 53/53 [00:00<00:00, 303.77it/s]\n"
     ]
    },
    {
     "name": "stdout",
     "output_type": "stream",
     "text": [
      "Epoch:236/1000.. Train Loss: 0.038.. Val Loss: 0.134.. Test Loss: 0.094.. Time: 0.03m\n"
     ]
    },
    {
     "name": "stderr",
     "output_type": "stream",
     "text": [
      "100%|██████████| 107/107 [00:01<00:00, 65.57it/s]\n",
      "100%|██████████| 18/18 [00:00<00:00, 318.89it/s]\n",
      "100%|██████████| 53/53 [00:00<00:00, 317.91it/s]\n"
     ]
    },
    {
     "name": "stdout",
     "output_type": "stream",
     "text": [
      "Epoch:237/1000.. Train Loss: 0.036.. Val Loss: 0.139.. Test Loss: 0.107.. Time: 0.03m\n"
     ]
    },
    {
     "name": "stderr",
     "output_type": "stream",
     "text": [
      "100%|██████████| 107/107 [00:01<00:00, 65.06it/s]\n",
      "100%|██████████| 18/18 [00:00<00:00, 316.29it/s]\n",
      "100%|██████████| 53/53 [00:00<00:00, 308.56it/s]\n"
     ]
    },
    {
     "name": "stdout",
     "output_type": "stream",
     "text": [
      "Epoch:238/1000.. Train Loss: 0.039.. Val Loss: 0.161.. Test Loss: 0.107.. Time: 0.03m\n"
     ]
    },
    {
     "name": "stderr",
     "output_type": "stream",
     "text": [
      "100%|██████████| 107/107 [00:01<00:00, 66.48it/s]\n",
      "100%|██████████| 18/18 [00:00<00:00, 311.15it/s]\n",
      "100%|██████████| 53/53 [00:00<00:00, 318.65it/s]\n"
     ]
    },
    {
     "name": "stdout",
     "output_type": "stream",
     "text": [
      "Epoch:239/1000.. Train Loss: 0.038.. Val Loss: 0.193.. Test Loss: 0.104.. Time: 0.03m\n"
     ]
    },
    {
     "name": "stderr",
     "output_type": "stream",
     "text": [
      "100%|██████████| 107/107 [00:01<00:00, 63.18it/s]\n",
      "100%|██████████| 18/18 [00:00<00:00, 315.50it/s]\n",
      "100%|██████████| 53/53 [00:00<00:00, 310.08it/s]\n"
     ]
    },
    {
     "name": "stdout",
     "output_type": "stream",
     "text": [
      "Epoch:240/1000.. Train Loss: 0.032.. Val Loss: 0.185.. Test Loss: 0.116.. Time: 0.03m\n"
     ]
    },
    {
     "name": "stderr",
     "output_type": "stream",
     "text": [
      "100%|██████████| 107/107 [00:01<00:00, 64.50it/s]\n",
      "100%|██████████| 18/18 [00:00<00:00, 313.73it/s]\n",
      "100%|██████████| 53/53 [00:00<00:00, 319.63it/s]\n"
     ]
    },
    {
     "name": "stdout",
     "output_type": "stream",
     "text": [
      "Epoch:241/1000.. Train Loss: 0.033.. Val Loss: 0.194.. Test Loss: 0.104.. Time: 0.03m\n"
     ]
    },
    {
     "name": "stderr",
     "output_type": "stream",
     "text": [
      "100%|██████████| 107/107 [00:01<00:00, 63.33it/s]\n",
      "100%|██████████| 18/18 [00:00<00:00, 317.54it/s]\n",
      "100%|██████████| 53/53 [00:00<00:00, 318.88it/s]\n"
     ]
    },
    {
     "name": "stdout",
     "output_type": "stream",
     "text": [
      "Epoch:242/1000.. Train Loss: 0.032.. Val Loss: 0.172.. Test Loss: 0.111.. Time: 0.03m\n"
     ]
    },
    {
     "name": "stderr",
     "output_type": "stream",
     "text": [
      "100%|██████████| 107/107 [00:01<00:00, 63.35it/s]\n",
      "100%|██████████| 18/18 [00:00<00:00, 317.66it/s]\n",
      "100%|██████████| 53/53 [00:00<00:00, 272.46it/s]\n"
     ]
    },
    {
     "name": "stdout",
     "output_type": "stream",
     "text": [
      "Epoch:243/1000.. Train Loss: 0.042.. Val Loss: 0.171.. Test Loss: 0.092.. Time: 0.03m\n"
     ]
    },
    {
     "name": "stderr",
     "output_type": "stream",
     "text": [
      "100%|██████████| 107/107 [00:01<00:00, 63.30it/s]\n",
      "100%|██████████| 18/18 [00:00<00:00, 314.18it/s]\n",
      "100%|██████████| 53/53 [00:00<00:00, 320.31it/s]\n"
     ]
    },
    {
     "name": "stdout",
     "output_type": "stream",
     "text": [
      "Epoch:244/1000.. Train Loss: 0.046.. Val Loss: 0.151.. Test Loss: 0.091.. Time: 0.03m\n"
     ]
    },
    {
     "name": "stderr",
     "output_type": "stream",
     "text": [
      "100%|██████████| 107/107 [00:01<00:00, 65.72it/s]\n",
      "100%|██████████| 18/18 [00:00<00:00, 257.08it/s]\n",
      "100%|██████████| 53/53 [00:00<00:00, 321.63it/s]\n"
     ]
    },
    {
     "name": "stdout",
     "output_type": "stream",
     "text": [
      "Epoch:245/1000.. Train Loss: 0.041.. Val Loss: 0.153.. Test Loss: 0.097.. Time: 0.03m\n"
     ]
    },
    {
     "name": "stderr",
     "output_type": "stream",
     "text": [
      "100%|██████████| 107/107 [00:01<00:00, 63.29it/s]\n",
      "100%|██████████| 18/18 [00:00<00:00, 318.52it/s]\n",
      "100%|██████████| 53/53 [00:00<00:00, 314.62it/s]\n"
     ]
    },
    {
     "name": "stdout",
     "output_type": "stream",
     "text": [
      "Epoch:246/1000.. Train Loss: 0.037.. Val Loss: 0.157.. Test Loss: 0.105.. Time: 0.03m\n"
     ]
    },
    {
     "name": "stderr",
     "output_type": "stream",
     "text": [
      "100%|██████████| 107/107 [00:01<00:00, 63.26it/s]\n",
      "100%|██████████| 18/18 [00:00<00:00, 299.27it/s]\n",
      "100%|██████████| 53/53 [00:00<00:00, 303.53it/s]\n"
     ]
    },
    {
     "name": "stdout",
     "output_type": "stream",
     "text": [
      "Epoch:247/1000.. Train Loss: 0.039.. Val Loss: 0.154.. Test Loss: 0.102.. Time: 0.03m\n"
     ]
    },
    {
     "name": "stderr",
     "output_type": "stream",
     "text": [
      "100%|██████████| 107/107 [00:01<00:00, 64.11it/s]\n",
      "100%|██████████| 18/18 [00:00<00:00, 312.26it/s]\n",
      "100%|██████████| 53/53 [00:00<00:00, 327.12it/s]\n"
     ]
    },
    {
     "name": "stdout",
     "output_type": "stream",
     "text": [
      "Epoch:248/1000.. Train Loss: 0.038.. Val Loss: 0.183.. Test Loss: 0.114.. Time: 0.03m\n"
     ]
    },
    {
     "name": "stderr",
     "output_type": "stream",
     "text": [
      "100%|██████████| 107/107 [00:01<00:00, 64.84it/s]\n",
      "100%|██████████| 18/18 [00:00<00:00, 314.54it/s]\n",
      "100%|██████████| 53/53 [00:00<00:00, 309.78it/s]\n"
     ]
    },
    {
     "name": "stdout",
     "output_type": "stream",
     "text": [
      "Epoch:249/1000.. Train Loss: 0.036.. Val Loss: 0.155.. Test Loss: 0.123.. Time: 0.03m\n"
     ]
    },
    {
     "name": "stderr",
     "output_type": "stream",
     "text": [
      "100%|██████████| 107/107 [00:01<00:00, 63.89it/s]\n",
      "100%|██████████| 18/18 [00:00<00:00, 309.33it/s]\n",
      "100%|██████████| 53/53 [00:00<00:00, 320.13it/s]\n"
     ]
    },
    {
     "name": "stdout",
     "output_type": "stream",
     "text": [
      "Epoch:250/1000.. Train Loss: 0.042.. Val Loss: 0.160.. Test Loss: 0.104.. Time: 0.03m\n"
     ]
    },
    {
     "name": "stderr",
     "output_type": "stream",
     "text": [
      "100%|██████████| 107/107 [00:01<00:00, 65.47it/s]\n",
      "100%|██████████| 18/18 [00:00<00:00, 311.21it/s]\n",
      "100%|██████████| 53/53 [00:00<00:00, 308.66it/s]\n"
     ]
    },
    {
     "name": "stdout",
     "output_type": "stream",
     "text": [
      "Epoch:251/1000.. Train Loss: 0.039.. Val Loss: 0.153.. Test Loss: 0.099.. Time: 0.03m\n"
     ]
    },
    {
     "name": "stderr",
     "output_type": "stream",
     "text": [
      "100%|██████████| 107/107 [00:01<00:00, 62.20it/s]\n",
      "100%|██████████| 18/18 [00:00<00:00, 319.97it/s]\n",
      "100%|██████████| 53/53 [00:00<00:00, 308.14it/s]\n"
     ]
    },
    {
     "name": "stdout",
     "output_type": "stream",
     "text": [
      "Epoch:252/1000.. Train Loss: 0.042.. Val Loss: 0.143.. Test Loss: 0.105.. Time: 0.03m\n"
     ]
    },
    {
     "name": "stderr",
     "output_type": "stream",
     "text": [
      "100%|██████████| 107/107 [00:01<00:00, 66.75it/s]\n",
      "100%|██████████| 18/18 [00:00<00:00, 312.94it/s]\n",
      "100%|██████████| 53/53 [00:00<00:00, 290.37it/s]\n"
     ]
    },
    {
     "name": "stdout",
     "output_type": "stream",
     "text": [
      "Epoch:253/1000.. Train Loss: 0.034.. Val Loss: 0.146.. Test Loss: 0.107.. Time: 0.03m\n"
     ]
    },
    {
     "name": "stderr",
     "output_type": "stream",
     "text": [
      "100%|██████████| 107/107 [00:01<00:00, 62.78it/s]\n",
      "100%|██████████| 18/18 [00:00<00:00, 318.73it/s]\n",
      "100%|██████████| 53/53 [00:00<00:00, 317.87it/s]\n"
     ]
    },
    {
     "name": "stdout",
     "output_type": "stream",
     "text": [
      "Epoch:254/1000.. Train Loss: 0.037.. Val Loss: 0.130.. Test Loss: 0.105.. Time: 0.03m\n"
     ]
    },
    {
     "name": "stderr",
     "output_type": "stream",
     "text": [
      "100%|██████████| 107/107 [00:01<00:00, 65.39it/s]\n",
      "100%|██████████| 18/18 [00:00<00:00, 311.65it/s]\n",
      "100%|██████████| 53/53 [00:00<00:00, 314.15it/s]\n"
     ]
    },
    {
     "name": "stdout",
     "output_type": "stream",
     "text": [
      "Epoch:255/1000.. Train Loss: 0.037.. Val Loss: 0.149.. Test Loss: 0.107.. Time: 0.03m\n"
     ]
    },
    {
     "name": "stderr",
     "output_type": "stream",
     "text": [
      "100%|██████████| 107/107 [00:01<00:00, 65.18it/s]\n",
      "100%|██████████| 18/18 [00:00<00:00, 311.49it/s]\n",
      "100%|██████████| 53/53 [00:00<00:00, 319.04it/s]\n"
     ]
    },
    {
     "name": "stdout",
     "output_type": "stream",
     "text": [
      "Epoch:256/1000.. Train Loss: 0.034.. Val Loss: 0.153.. Test Loss: 0.114.. Time: 0.03m\n"
     ]
    },
    {
     "name": "stderr",
     "output_type": "stream",
     "text": [
      "100%|██████████| 107/107 [00:01<00:00, 64.99it/s]\n",
      "100%|██████████| 18/18 [00:00<00:00, 316.54it/s]\n",
      "100%|██████████| 53/53 [00:00<00:00, 315.67it/s]\n"
     ]
    },
    {
     "name": "stdout",
     "output_type": "stream",
     "text": [
      "Epoch:257/1000.. Train Loss: 0.034.. Val Loss: 0.154.. Test Loss: 0.107.. Time: 0.03m\n"
     ]
    },
    {
     "name": "stderr",
     "output_type": "stream",
     "text": [
      "100%|██████████| 107/107 [00:01<00:00, 62.90it/s]\n",
      "100%|██████████| 18/18 [00:00<00:00, 312.57it/s]\n",
      "100%|██████████| 53/53 [00:00<00:00, 313.21it/s]\n"
     ]
    },
    {
     "name": "stdout",
     "output_type": "stream",
     "text": [
      "Epoch:258/1000.. Train Loss: 0.037.. Val Loss: 0.179.. Test Loss: 0.105.. Time: 0.03m\n"
     ]
    },
    {
     "name": "stderr",
     "output_type": "stream",
     "text": [
      "100%|██████████| 107/107 [00:01<00:00, 64.65it/s]\n",
      "100%|██████████| 18/18 [00:00<00:00, 308.73it/s]\n",
      "100%|██████████| 53/53 [00:00<00:00, 314.25it/s]\n"
     ]
    },
    {
     "name": "stdout",
     "output_type": "stream",
     "text": [
      "Epoch:259/1000.. Train Loss: 0.028.. Val Loss: 0.167.. Test Loss: 0.116.. Time: 0.03m\n"
     ]
    },
    {
     "name": "stderr",
     "output_type": "stream",
     "text": [
      "100%|██████████| 107/107 [00:01<00:00, 61.75it/s]\n",
      "100%|██████████| 18/18 [00:00<00:00, 314.48it/s]\n",
      "100%|██████████| 53/53 [00:00<00:00, 315.33it/s]\n"
     ]
    },
    {
     "name": "stdout",
     "output_type": "stream",
     "text": [
      "Epoch:260/1000.. Train Loss: 0.035.. Val Loss: 0.173.. Test Loss: 0.121.. Time: 0.03m\n"
     ]
    },
    {
     "name": "stderr",
     "output_type": "stream",
     "text": [
      "100%|██████████| 107/107 [00:01<00:00, 64.83it/s]\n",
      "100%|██████████| 18/18 [00:00<00:00, 306.13it/s]\n",
      "100%|██████████| 53/53 [00:00<00:00, 299.88it/s]\n"
     ]
    },
    {
     "name": "stdout",
     "output_type": "stream",
     "text": [
      "Epoch:261/1000.. Train Loss: 0.034.. Val Loss: 0.144.. Test Loss: 0.108.. Time: 0.03m\n"
     ]
    },
    {
     "name": "stderr",
     "output_type": "stream",
     "text": [
      "100%|██████████| 107/107 [00:01<00:00, 64.73it/s]\n",
      "100%|██████████| 18/18 [00:00<00:00, 311.76it/s]\n",
      "100%|██████████| 53/53 [00:00<00:00, 321.66it/s]\n"
     ]
    },
    {
     "name": "stdout",
     "output_type": "stream",
     "text": [
      "Epoch:262/1000.. Train Loss: 0.034.. Val Loss: 0.190.. Test Loss: 0.114.. Time: 0.03m\n"
     ]
    },
    {
     "name": "stderr",
     "output_type": "stream",
     "text": [
      "100%|██████████| 107/107 [00:01<00:00, 62.52it/s]\n",
      "100%|██████████| 18/18 [00:00<00:00, 312.17it/s]\n",
      "100%|██████████| 53/53 [00:00<00:00, 318.47it/s]\n"
     ]
    },
    {
     "name": "stdout",
     "output_type": "stream",
     "text": [
      "Epoch:263/1000.. Train Loss: 0.044.. Val Loss: 0.185.. Test Loss: 0.106.. Time: 0.03m\n"
     ]
    },
    {
     "name": "stderr",
     "output_type": "stream",
     "text": [
      "100%|██████████| 107/107 [00:01<00:00, 65.08it/s]\n",
      "100%|██████████| 18/18 [00:00<00:00, 315.61it/s]\n",
      "100%|██████████| 53/53 [00:00<00:00, 318.19it/s]\n"
     ]
    },
    {
     "name": "stdout",
     "output_type": "stream",
     "text": [
      "Epoch:264/1000.. Train Loss: 0.035.. Val Loss: 0.188.. Test Loss: 0.099.. Time: 0.03m\n"
     ]
    },
    {
     "name": "stderr",
     "output_type": "stream",
     "text": [
      "100%|██████████| 107/107 [00:01<00:00, 64.22it/s]\n",
      "100%|██████████| 18/18 [00:00<00:00, 309.40it/s]\n",
      "100%|██████████| 53/53 [00:00<00:00, 315.15it/s]\n"
     ]
    },
    {
     "name": "stdout",
     "output_type": "stream",
     "text": [
      "Epoch:265/1000.. Train Loss: 0.040.. Val Loss: 0.198.. Test Loss: 0.099.. Time: 0.03m\n"
     ]
    },
    {
     "name": "stderr",
     "output_type": "stream",
     "text": [
      "100%|██████████| 107/107 [00:01<00:00, 62.86it/s]\n",
      "100%|██████████| 18/18 [00:00<00:00, 325.97it/s]\n",
      "100%|██████████| 53/53 [00:00<00:00, 318.43it/s]\n"
     ]
    },
    {
     "name": "stdout",
     "output_type": "stream",
     "text": [
      "Epoch:266/1000.. Train Loss: 0.035.. Val Loss: 0.157.. Test Loss: 0.102.. Time: 0.03m\n"
     ]
    },
    {
     "name": "stderr",
     "output_type": "stream",
     "text": [
      "100%|██████████| 107/107 [00:01<00:00, 64.17it/s]\n",
      "100%|██████████| 18/18 [00:00<00:00, 302.53it/s]\n",
      "100%|██████████| 53/53 [00:00<00:00, 298.62it/s]\n"
     ]
    },
    {
     "name": "stdout",
     "output_type": "stream",
     "text": [
      "Epoch:267/1000.. Train Loss: 0.036.. Val Loss: 0.169.. Test Loss: 0.103.. Time: 0.03m\n"
     ]
    },
    {
     "name": "stderr",
     "output_type": "stream",
     "text": [
      "100%|██████████| 107/107 [00:01<00:00, 64.73it/s]\n",
      "100%|██████████| 18/18 [00:00<00:00, 315.66it/s]\n",
      "100%|██████████| 53/53 [00:00<00:00, 316.89it/s]\n"
     ]
    },
    {
     "name": "stdout",
     "output_type": "stream",
     "text": [
      "Epoch:268/1000.. Train Loss: 0.034.. Val Loss: 0.169.. Test Loss: 0.100.. Time: 0.03m\n"
     ]
    },
    {
     "name": "stderr",
     "output_type": "stream",
     "text": [
      "100%|██████████| 107/107 [00:01<00:00, 65.48it/s]\n",
      "100%|██████████| 18/18 [00:00<00:00, 301.77it/s]\n",
      "100%|██████████| 53/53 [00:00<00:00, 288.61it/s]\n"
     ]
    },
    {
     "name": "stdout",
     "output_type": "stream",
     "text": [
      "Epoch:269/1000.. Train Loss: 0.041.. Val Loss: 0.173.. Test Loss: 0.105.. Time: 0.03m\n"
     ]
    },
    {
     "name": "stderr",
     "output_type": "stream",
     "text": [
      "100%|██████████| 107/107 [00:01<00:00, 63.22it/s]\n",
      "100%|██████████| 18/18 [00:00<00:00, 316.21it/s]\n",
      "100%|██████████| 53/53 [00:00<00:00, 320.16it/s]\n"
     ]
    },
    {
     "name": "stdout",
     "output_type": "stream",
     "text": [
      "Epoch:270/1000.. Train Loss: 0.037.. Val Loss: 0.172.. Test Loss: 0.109.. Time: 0.03m\n"
     ]
    },
    {
     "name": "stderr",
     "output_type": "stream",
     "text": [
      "100%|██████████| 107/107 [00:01<00:00, 65.36it/s]\n",
      "100%|██████████| 18/18 [00:00<00:00, 314.38it/s]\n",
      "100%|██████████| 53/53 [00:00<00:00, 312.10it/s]\n"
     ]
    },
    {
     "name": "stdout",
     "output_type": "stream",
     "text": [
      "Epoch:271/1000.. Train Loss: 0.029.. Val Loss: 0.157.. Test Loss: 0.101.. Time: 0.03m\n"
     ]
    },
    {
     "name": "stderr",
     "output_type": "stream",
     "text": [
      "100%|██████████| 107/107 [00:01<00:00, 63.57it/s]\n",
      "100%|██████████| 18/18 [00:00<00:00, 310.79it/s]\n",
      "100%|██████████| 53/53 [00:00<00:00, 301.32it/s]\n"
     ]
    },
    {
     "name": "stdout",
     "output_type": "stream",
     "text": [
      "Epoch:272/1000.. Train Loss: 0.046.. Val Loss: 0.164.. Test Loss: 0.097.. Time: 0.03m\n"
     ]
    },
    {
     "name": "stderr",
     "output_type": "stream",
     "text": [
      "100%|██████████| 107/107 [00:01<00:00, 64.98it/s]\n",
      "100%|██████████| 18/18 [00:00<00:00, 320.86it/s]\n",
      "100%|██████████| 53/53 [00:00<00:00, 314.90it/s]\n"
     ]
    },
    {
     "name": "stdout",
     "output_type": "stream",
     "text": [
      "Epoch:273/1000.. Train Loss: 0.033.. Val Loss: 0.136.. Test Loss: 0.098.. Time: 0.03m\n"
     ]
    },
    {
     "name": "stderr",
     "output_type": "stream",
     "text": [
      "100%|██████████| 107/107 [00:01<00:00, 66.01it/s]\n",
      "100%|██████████| 18/18 [00:00<00:00, 309.33it/s]\n",
      "100%|██████████| 53/53 [00:00<00:00, 318.95it/s]\n"
     ]
    },
    {
     "name": "stdout",
     "output_type": "stream",
     "text": [
      "Epoch:274/1000.. Train Loss: 0.036.. Val Loss: 0.148.. Test Loss: 0.101.. Time: 0.03m\n"
     ]
    },
    {
     "name": "stderr",
     "output_type": "stream",
     "text": [
      "100%|██████████| 107/107 [00:01<00:00, 63.31it/s]\n",
      "100%|██████████| 18/18 [00:00<00:00, 362.99it/s]\n",
      "100%|██████████| 53/53 [00:00<00:00, 346.51it/s]\n"
     ]
    },
    {
     "name": "stdout",
     "output_type": "stream",
     "text": [
      "Epoch:275/1000.. Train Loss: 0.034.. Val Loss: 0.142.. Test Loss: 0.109.. Time: 0.03m\n"
     ]
    },
    {
     "name": "stderr",
     "output_type": "stream",
     "text": [
      "100%|██████████| 107/107 [00:01<00:00, 66.59it/s]\n",
      "100%|██████████| 18/18 [00:00<00:00, 317.26it/s]\n",
      "100%|██████████| 53/53 [00:00<00:00, 316.06it/s]\n"
     ]
    },
    {
     "name": "stdout",
     "output_type": "stream",
     "text": [
      "Epoch:276/1000.. Train Loss: 0.044.. Val Loss: 0.225.. Test Loss: 0.107.. Time: 0.03m\n"
     ]
    },
    {
     "name": "stderr",
     "output_type": "stream",
     "text": [
      "100%|██████████| 107/107 [00:01<00:00, 64.55it/s]\n",
      "100%|██████████| 18/18 [00:00<00:00, 303.89it/s]\n",
      "100%|██████████| 53/53 [00:00<00:00, 240.79it/s]\n"
     ]
    },
    {
     "name": "stdout",
     "output_type": "stream",
     "text": [
      "Epoch:277/1000.. Train Loss: 0.031.. Val Loss: 0.176.. Test Loss: 0.105.. Time: 0.03m\n"
     ]
    },
    {
     "name": "stderr",
     "output_type": "stream",
     "text": [
      "100%|██████████| 107/107 [00:01<00:00, 67.27it/s]\n",
      "100%|██████████| 18/18 [00:00<00:00, 304.84it/s]\n",
      "100%|██████████| 53/53 [00:00<00:00, 301.55it/s]\n"
     ]
    },
    {
     "name": "stdout",
     "output_type": "stream",
     "text": [
      "Epoch:278/1000.. Train Loss: 0.034.. Val Loss: 0.179.. Test Loss: 0.111.. Time: 0.03m\n"
     ]
    },
    {
     "name": "stderr",
     "output_type": "stream",
     "text": [
      "100%|██████████| 107/107 [00:01<00:00, 64.80it/s]\n",
      "100%|██████████| 18/18 [00:00<00:00, 253.58it/s]\n",
      "100%|██████████| 53/53 [00:00<00:00, 259.32it/s]\n"
     ]
    },
    {
     "name": "stdout",
     "output_type": "stream",
     "text": [
      "Epoch:279/1000.. Train Loss: 0.034.. Val Loss: 0.165.. Test Loss: 0.113.. Time: 0.03m\n"
     ]
    },
    {
     "name": "stderr",
     "output_type": "stream",
     "text": [
      "100%|██████████| 107/107 [00:01<00:00, 61.63it/s]\n",
      "100%|██████████| 18/18 [00:00<00:00, 260.34it/s]\n",
      "100%|██████████| 53/53 [00:00<00:00, 276.34it/s]\n"
     ]
    },
    {
     "name": "stdout",
     "output_type": "stream",
     "text": [
      "Epoch:280/1000.. Train Loss: 0.027.. Val Loss: 0.170.. Test Loss: 0.117.. Time: 0.03m\n"
     ]
    },
    {
     "name": "stderr",
     "output_type": "stream",
     "text": [
      "100%|██████████| 107/107 [00:01<00:00, 59.15it/s]\n",
      "100%|██████████| 18/18 [00:00<00:00, 283.47it/s]\n",
      "100%|██████████| 53/53 [00:00<00:00, 297.75it/s]\n"
     ]
    },
    {
     "name": "stdout",
     "output_type": "stream",
     "text": [
      "Epoch:281/1000.. Train Loss: 0.033.. Val Loss: 0.181.. Test Loss: 0.099.. Time: 0.03m\n"
     ]
    },
    {
     "name": "stderr",
     "output_type": "stream",
     "text": [
      "100%|██████████| 107/107 [00:01<00:00, 65.54it/s]\n",
      "100%|██████████| 18/18 [00:00<00:00, 317.79it/s]\n",
      "100%|██████████| 53/53 [00:00<00:00, 317.25it/s]\n"
     ]
    },
    {
     "name": "stdout",
     "output_type": "stream",
     "text": [
      "Epoch:282/1000.. Train Loss: 0.036.. Val Loss: 0.171.. Test Loss: 0.088.. Time: 0.03m\n"
     ]
    },
    {
     "name": "stderr",
     "output_type": "stream",
     "text": [
      "100%|██████████| 107/107 [00:01<00:00, 63.40it/s]\n",
      "100%|██████████| 18/18 [00:00<00:00, 317.90it/s]\n",
      "100%|██████████| 53/53 [00:00<00:00, 310.41it/s]\n"
     ]
    },
    {
     "name": "stdout",
     "output_type": "stream",
     "text": [
      "Epoch:283/1000.. Train Loss: 0.041.. Val Loss: 0.166.. Test Loss: 0.094.. Time: 0.03m\n"
     ]
    },
    {
     "name": "stderr",
     "output_type": "stream",
     "text": [
      "100%|██████████| 107/107 [00:01<00:00, 65.52it/s]\n",
      "100%|██████████| 18/18 [00:00<00:00, 232.77it/s]\n",
      "100%|██████████| 53/53 [00:00<00:00, 241.47it/s]\n"
     ]
    },
    {
     "name": "stdout",
     "output_type": "stream",
     "text": [
      "Epoch:284/1000.. Train Loss: 0.032.. Val Loss: 0.165.. Test Loss: 0.106.. Time: 0.03m\n"
     ]
    },
    {
     "name": "stderr",
     "output_type": "stream",
     "text": [
      "100%|██████████| 107/107 [00:01<00:00, 59.41it/s]\n",
      "100%|██████████| 18/18 [00:00<00:00, 272.74it/s]\n",
      "100%|██████████| 53/53 [00:00<00:00, 319.25it/s]\n"
     ]
    },
    {
     "name": "stdout",
     "output_type": "stream",
     "text": [
      "Epoch:285/1000.. Train Loss: 0.043.. Val Loss: 0.194.. Test Loss: 0.102.. Time: 0.03m\n"
     ]
    },
    {
     "name": "stderr",
     "output_type": "stream",
     "text": [
      "100%|██████████| 107/107 [00:01<00:00, 66.41it/s]\n",
      "100%|██████████| 18/18 [00:00<00:00, 323.77it/s]\n",
      "100%|██████████| 53/53 [00:00<00:00, 311.39it/s]\n"
     ]
    },
    {
     "name": "stdout",
     "output_type": "stream",
     "text": [
      "Epoch:286/1000.. Train Loss: 0.040.. Val Loss: 0.159.. Test Loss: 0.095.. Time: 0.03m\n"
     ]
    },
    {
     "name": "stderr",
     "output_type": "stream",
     "text": [
      "100%|██████████| 107/107 [00:01<00:00, 63.67it/s]\n",
      "100%|██████████| 18/18 [00:00<00:00, 311.20it/s]\n",
      "100%|██████████| 53/53 [00:00<00:00, 317.71it/s]\n"
     ]
    },
    {
     "name": "stdout",
     "output_type": "stream",
     "text": [
      "Epoch:287/1000.. Train Loss: 0.036.. Val Loss: 0.206.. Test Loss: 0.096.. Time: 0.03m\n"
     ]
    },
    {
     "name": "stderr",
     "output_type": "stream",
     "text": [
      "100%|██████████| 107/107 [00:01<00:00, 66.44it/s]\n",
      "100%|██████████| 18/18 [00:00<00:00, 315.00it/s]\n",
      "100%|██████████| 53/53 [00:00<00:00, 318.66it/s]\n"
     ]
    },
    {
     "name": "stdout",
     "output_type": "stream",
     "text": [
      "Epoch:288/1000.. Train Loss: 0.033.. Val Loss: 0.207.. Test Loss: 0.126.. Time: 0.03m\n"
     ]
    },
    {
     "name": "stderr",
     "output_type": "stream",
     "text": [
      "100%|██████████| 107/107 [00:01<00:00, 63.41it/s]\n",
      "100%|██████████| 18/18 [00:00<00:00, 303.77it/s]\n",
      "100%|██████████| 53/53 [00:00<00:00, 308.80it/s]\n"
     ]
    },
    {
     "name": "stdout",
     "output_type": "stream",
     "text": [
      "Epoch:289/1000.. Train Loss: 0.043.. Val Loss: 0.180.. Test Loss: 0.105.. Time: 0.03m\n"
     ]
    },
    {
     "name": "stderr",
     "output_type": "stream",
     "text": [
      "100%|██████████| 107/107 [00:01<00:00, 64.68it/s]\n",
      "100%|██████████| 18/18 [00:00<00:00, 313.45it/s]\n",
      "100%|██████████| 53/53 [00:00<00:00, 308.69it/s]\n"
     ]
    },
    {
     "name": "stdout",
     "output_type": "stream",
     "text": [
      "Epoch:290/1000.. Train Loss: 0.034.. Val Loss: 0.171.. Test Loss: 0.105.. Time: 0.03m\n"
     ]
    },
    {
     "name": "stderr",
     "output_type": "stream",
     "text": [
      "100%|██████████| 107/107 [00:01<00:00, 66.00it/s]\n",
      "100%|██████████| 18/18 [00:00<00:00, 316.00it/s]\n",
      "100%|██████████| 53/53 [00:00<00:00, 314.68it/s]\n"
     ]
    },
    {
     "name": "stdout",
     "output_type": "stream",
     "text": [
      "Epoch:291/1000.. Train Loss: 0.032.. Val Loss: 0.212.. Test Loss: 0.112.. Time: 0.03m\n"
     ]
    },
    {
     "name": "stderr",
     "output_type": "stream",
     "text": [
      "100%|██████████| 107/107 [00:01<00:00, 63.90it/s]\n",
      "100%|██████████| 18/18 [00:00<00:00, 315.94it/s]\n",
      "100%|██████████| 53/53 [00:00<00:00, 308.38it/s]\n"
     ]
    },
    {
     "name": "stdout",
     "output_type": "stream",
     "text": [
      "Epoch:292/1000.. Train Loss: 0.029.. Val Loss: 0.217.. Test Loss: 0.112.. Time: 0.03m\n"
     ]
    },
    {
     "name": "stderr",
     "output_type": "stream",
     "text": [
      "100%|██████████| 107/107 [00:01<00:00, 64.18it/s]\n",
      "100%|██████████| 18/18 [00:00<00:00, 302.92it/s]\n",
      "100%|██████████| 53/53 [00:00<00:00, 320.60it/s]\n"
     ]
    },
    {
     "name": "stdout",
     "output_type": "stream",
     "text": [
      "Epoch:293/1000.. Train Loss: 0.033.. Val Loss: 0.167.. Test Loss: 0.104.. Time: 0.03m\n"
     ]
    },
    {
     "name": "stderr",
     "output_type": "stream",
     "text": [
      "100%|██████████| 107/107 [00:01<00:00, 63.73it/s]\n",
      "100%|██████████| 18/18 [00:00<00:00, 318.94it/s]\n",
      "100%|██████████| 53/53 [00:00<00:00, 308.83it/s]\n"
     ]
    },
    {
     "name": "stdout",
     "output_type": "stream",
     "text": [
      "Epoch:294/1000.. Train Loss: 0.028.. Val Loss: 0.165.. Test Loss: 0.111.. Time: 0.03m\n"
     ]
    },
    {
     "name": "stderr",
     "output_type": "stream",
     "text": [
      "100%|██████████| 107/107 [00:01<00:00, 64.35it/s]\n",
      "100%|██████████| 18/18 [00:00<00:00, 297.01it/s]\n",
      "100%|██████████| 53/53 [00:00<00:00, 308.89it/s]\n"
     ]
    },
    {
     "name": "stdout",
     "output_type": "stream",
     "text": [
      "Epoch:295/1000.. Train Loss: 0.036.. Val Loss: 0.195.. Test Loss: 0.115.. Time: 0.03m\n"
     ]
    },
    {
     "name": "stderr",
     "output_type": "stream",
     "text": [
      "100%|██████████| 107/107 [00:01<00:00, 56.52it/s]\n",
      "100%|██████████| 18/18 [00:00<00:00, 261.35it/s]\n",
      "100%|██████████| 53/53 [00:00<00:00, 297.14it/s]\n"
     ]
    },
    {
     "name": "stdout",
     "output_type": "stream",
     "text": [
      "Epoch:296/1000.. Train Loss: 0.029.. Val Loss: 0.179.. Test Loss: 0.111.. Time: 0.04m\n"
     ]
    },
    {
     "name": "stderr",
     "output_type": "stream",
     "text": [
      "100%|██████████| 107/107 [00:01<00:00, 65.57it/s]\n",
      "100%|██████████| 18/18 [00:00<00:00, 311.19it/s]\n",
      "100%|██████████| 53/53 [00:00<00:00, 315.32it/s]\n"
     ]
    },
    {
     "name": "stdout",
     "output_type": "stream",
     "text": [
      "Epoch:297/1000.. Train Loss: 0.031.. Val Loss: 0.179.. Test Loss: 0.117.. Time: 0.03m\n"
     ]
    },
    {
     "name": "stderr",
     "output_type": "stream",
     "text": [
      "100%|██████████| 107/107 [00:01<00:00, 64.37it/s]\n",
      "100%|██████████| 18/18 [00:00<00:00, 308.06it/s]\n",
      "100%|██████████| 53/53 [00:00<00:00, 307.61it/s]\n"
     ]
    },
    {
     "name": "stdout",
     "output_type": "stream",
     "text": [
      "Epoch:298/1000.. Train Loss: 0.037.. Val Loss: 0.181.. Test Loss: 0.112.. Time: 0.03m\n"
     ]
    },
    {
     "name": "stderr",
     "output_type": "stream",
     "text": [
      "100%|██████████| 107/107 [00:01<00:00, 65.66it/s]\n",
      "100%|██████████| 18/18 [00:00<00:00, 315.37it/s]\n",
      "100%|██████████| 53/53 [00:00<00:00, 320.10it/s]\n"
     ]
    },
    {
     "name": "stdout",
     "output_type": "stream",
     "text": [
      "Epoch:299/1000.. Train Loss: 0.029.. Val Loss: 0.184.. Test Loss: 0.108.. Time: 0.03m\n"
     ]
    },
    {
     "name": "stderr",
     "output_type": "stream",
     "text": [
      "100%|██████████| 107/107 [00:01<00:00, 61.71it/s]\n",
      "100%|██████████| 18/18 [00:00<00:00, 303.72it/s]\n",
      "100%|██████████| 53/53 [00:00<00:00, 314.56it/s]\n"
     ]
    },
    {
     "name": "stdout",
     "output_type": "stream",
     "text": [
      "Epoch:300/1000.. Train Loss: 0.040.. Val Loss: 0.223.. Test Loss: 0.114.. Time: 0.03m\n"
     ]
    },
    {
     "name": "stderr",
     "output_type": "stream",
     "text": [
      "100%|██████████| 107/107 [00:01<00:00, 66.93it/s]\n",
      "100%|██████████| 18/18 [00:00<00:00, 309.89it/s]\n",
      "100%|██████████| 53/53 [00:00<00:00, 313.30it/s]\n"
     ]
    },
    {
     "name": "stdout",
     "output_type": "stream",
     "text": [
      "Epoch:301/1000.. Train Loss: 0.033.. Val Loss: 0.167.. Test Loss: 0.110.. Time: 0.03m\n"
     ]
    },
    {
     "name": "stderr",
     "output_type": "stream",
     "text": [
      "100%|██████████| 107/107 [00:01<00:00, 65.06it/s]\n",
      "100%|██████████| 18/18 [00:00<00:00, 305.27it/s]\n",
      "100%|██████████| 53/53 [00:00<00:00, 315.97it/s]\n"
     ]
    },
    {
     "name": "stdout",
     "output_type": "stream",
     "text": [
      "Epoch:302/1000.. Train Loss: 0.031.. Val Loss: 0.225.. Test Loss: 0.117.. Time: 0.03m\n"
     ]
    },
    {
     "name": "stderr",
     "output_type": "stream",
     "text": [
      "100%|██████████| 107/107 [00:01<00:00, 66.08it/s]\n",
      "100%|██████████| 18/18 [00:00<00:00, 307.49it/s]\n",
      "100%|██████████| 53/53 [00:00<00:00, 297.25it/s]\n"
     ]
    },
    {
     "name": "stdout",
     "output_type": "stream",
     "text": [
      "Epoch:303/1000.. Train Loss: 0.034.. Val Loss: 0.216.. Test Loss: 0.102.. Time: 0.03m\n"
     ]
    },
    {
     "name": "stderr",
     "output_type": "stream",
     "text": [
      "100%|██████████| 107/107 [00:01<00:00, 62.63it/s]\n",
      "100%|██████████| 18/18 [00:00<00:00, 317.24it/s]\n",
      "100%|██████████| 53/53 [00:00<00:00, 319.36it/s]\n"
     ]
    },
    {
     "name": "stdout",
     "output_type": "stream",
     "text": [
      "Epoch:304/1000.. Train Loss: 0.033.. Val Loss: 0.199.. Test Loss: 0.103.. Time: 0.03m\n"
     ]
    },
    {
     "name": "stderr",
     "output_type": "stream",
     "text": [
      "100%|██████████| 107/107 [00:01<00:00, 63.22it/s]\n",
      "100%|██████████| 18/18 [00:00<00:00, 311.06it/s]\n",
      "100%|██████████| 53/53 [00:00<00:00, 316.85it/s]\n"
     ]
    },
    {
     "name": "stdout",
     "output_type": "stream",
     "text": [
      "Epoch:305/1000.. Train Loss: 0.034.. Val Loss: 0.188.. Test Loss: 0.121.. Time: 0.03m\n"
     ]
    },
    {
     "name": "stderr",
     "output_type": "stream",
     "text": [
      "100%|██████████| 107/107 [00:01<00:00, 60.05it/s]\n",
      "100%|██████████| 18/18 [00:00<00:00, 312.29it/s]\n",
      "100%|██████████| 53/53 [00:00<00:00, 308.07it/s]\n"
     ]
    },
    {
     "name": "stdout",
     "output_type": "stream",
     "text": [
      "Epoch:306/1000.. Train Loss: 0.040.. Val Loss: 0.170.. Test Loss: 0.106.. Time: 0.03m\n"
     ]
    },
    {
     "name": "stderr",
     "output_type": "stream",
     "text": [
      "100%|██████████| 107/107 [00:01<00:00, 64.22it/s]\n",
      "100%|██████████| 18/18 [00:00<00:00, 312.13it/s]\n",
      "100%|██████████| 53/53 [00:00<00:00, 319.91it/s]\n"
     ]
    },
    {
     "name": "stdout",
     "output_type": "stream",
     "text": [
      "Epoch:307/1000.. Train Loss: 0.039.. Val Loss: 0.198.. Test Loss: 0.113.. Time: 0.03m\n"
     ]
    },
    {
     "name": "stderr",
     "output_type": "stream",
     "text": [
      "100%|██████████| 107/107 [00:01<00:00, 63.58it/s]\n",
      "100%|██████████| 18/18 [00:00<00:00, 319.47it/s]\n",
      "100%|██████████| 53/53 [00:00<00:00, 319.51it/s]\n"
     ]
    },
    {
     "name": "stdout",
     "output_type": "stream",
     "text": [
      "Epoch:308/1000.. Train Loss: 0.029.. Val Loss: 0.171.. Test Loss: 0.118.. Time: 0.03m\n"
     ]
    },
    {
     "name": "stderr",
     "output_type": "stream",
     "text": [
      "100%|██████████| 107/107 [00:01<00:00, 65.87it/s]\n",
      "100%|██████████| 18/18 [00:00<00:00, 317.10it/s]\n",
      "100%|██████████| 53/53 [00:00<00:00, 320.15it/s]\n"
     ]
    },
    {
     "name": "stdout",
     "output_type": "stream",
     "text": [
      "Epoch:309/1000.. Train Loss: 0.030.. Val Loss: 0.164.. Test Loss: 0.117.. Time: 0.03m\n"
     ]
    },
    {
     "name": "stderr",
     "output_type": "stream",
     "text": [
      "100%|██████████| 107/107 [00:01<00:00, 64.93it/s]\n",
      "100%|██████████| 18/18 [00:00<00:00, 308.81it/s]\n",
      "100%|██████████| 53/53 [00:00<00:00, 318.34it/s]\n"
     ]
    },
    {
     "name": "stdout",
     "output_type": "stream",
     "text": [
      "Epoch:310/1000.. Train Loss: 0.028.. Val Loss: 0.197.. Test Loss: 0.111.. Time: 0.03m\n"
     ]
    },
    {
     "name": "stderr",
     "output_type": "stream",
     "text": [
      "100%|██████████| 107/107 [00:01<00:00, 67.20it/s]\n",
      "100%|██████████| 18/18 [00:00<00:00, 311.97it/s]\n",
      "100%|██████████| 53/53 [00:00<00:00, 316.13it/s]\n"
     ]
    },
    {
     "name": "stdout",
     "output_type": "stream",
     "text": [
      "Epoch:311/1000.. Train Loss: 0.037.. Val Loss: 0.164.. Test Loss: 0.107.. Time: 0.03m\n"
     ]
    },
    {
     "name": "stderr",
     "output_type": "stream",
     "text": [
      "100%|██████████| 107/107 [00:01<00:00, 61.17it/s]\n",
      "100%|██████████| 18/18 [00:00<00:00, 310.25it/s]\n",
      "100%|██████████| 53/53 [00:00<00:00, 320.06it/s]\n"
     ]
    },
    {
     "name": "stdout",
     "output_type": "stream",
     "text": [
      "Epoch:312/1000.. Train Loss: 0.025.. Val Loss: 0.196.. Test Loss: 0.112.. Time: 0.03m\n"
     ]
    },
    {
     "name": "stderr",
     "output_type": "stream",
     "text": [
      "100%|██████████| 107/107 [00:01<00:00, 66.15it/s]\n",
      "100%|██████████| 18/18 [00:00<00:00, 309.69it/s]\n",
      "100%|██████████| 53/53 [00:00<00:00, 307.07it/s]\n"
     ]
    },
    {
     "name": "stdout",
     "output_type": "stream",
     "text": [
      "Epoch:313/1000.. Train Loss: 0.035.. Val Loss: 0.168.. Test Loss: 0.120.. Time: 0.03m\n"
     ]
    },
    {
     "name": "stderr",
     "output_type": "stream",
     "text": [
      "100%|██████████| 107/107 [00:01<00:00, 66.33it/s]\n",
      "100%|██████████| 18/18 [00:00<00:00, 321.54it/s]\n",
      "100%|██████████| 53/53 [00:00<00:00, 319.96it/s]\n"
     ]
    },
    {
     "name": "stdout",
     "output_type": "stream",
     "text": [
      "Epoch:314/1000.. Train Loss: 0.039.. Val Loss: 0.209.. Test Loss: 0.104.. Time: 0.03m\n"
     ]
    },
    {
     "name": "stderr",
     "output_type": "stream",
     "text": [
      "100%|██████████| 107/107 [00:01<00:00, 63.86it/s]\n",
      "100%|██████████| 18/18 [00:00<00:00, 307.74it/s]\n",
      "100%|██████████| 53/53 [00:00<00:00, 314.37it/s]\n"
     ]
    },
    {
     "name": "stdout",
     "output_type": "stream",
     "text": [
      "Epoch:315/1000.. Train Loss: 0.037.. Val Loss: 0.205.. Test Loss: 0.115.. Time: 0.03m\n"
     ]
    },
    {
     "name": "stderr",
     "output_type": "stream",
     "text": [
      "100%|██████████| 107/107 [00:01<00:00, 62.34it/s]\n",
      "100%|██████████| 18/18 [00:00<00:00, 315.01it/s]\n",
      "100%|██████████| 53/53 [00:00<00:00, 306.03it/s]\n"
     ]
    },
    {
     "name": "stdout",
     "output_type": "stream",
     "text": [
      "Epoch:316/1000.. Train Loss: 0.027.. Val Loss: 0.192.. Test Loss: 0.123.. Time: 0.03m\n"
     ]
    },
    {
     "name": "stderr",
     "output_type": "stream",
     "text": [
      "100%|██████████| 107/107 [00:01<00:00, 66.14it/s]\n",
      "100%|██████████| 18/18 [00:00<00:00, 313.38it/s]\n",
      "100%|██████████| 53/53 [00:00<00:00, 317.49it/s]\n"
     ]
    },
    {
     "name": "stdout",
     "output_type": "stream",
     "text": [
      "Epoch:317/1000.. Train Loss: 0.031.. Val Loss: 0.178.. Test Loss: 0.116.. Time: 0.03m\n"
     ]
    },
    {
     "name": "stderr",
     "output_type": "stream",
     "text": [
      "100%|██████████| 107/107 [00:01<00:00, 66.65it/s]\n",
      "100%|██████████| 18/18 [00:00<00:00, 305.51it/s]\n",
      "100%|██████████| 53/53 [00:00<00:00, 314.20it/s]\n"
     ]
    },
    {
     "name": "stdout",
     "output_type": "stream",
     "text": [
      "Epoch:318/1000.. Train Loss: 0.037.. Val Loss: 0.194.. Test Loss: 0.101.. Time: 0.03m\n"
     ]
    },
    {
     "name": "stderr",
     "output_type": "stream",
     "text": [
      "100%|██████████| 107/107 [00:01<00:00, 70.50it/s]\n",
      "100%|██████████| 18/18 [00:00<00:00, 313.91it/s]\n",
      "100%|██████████| 53/53 [00:00<00:00, 317.07it/s]\n"
     ]
    },
    {
     "name": "stdout",
     "output_type": "stream",
     "text": [
      "Epoch:319/1000.. Train Loss: 0.031.. Val Loss: 0.184.. Test Loss: 0.101.. Time: 0.03m\n"
     ]
    },
    {
     "name": "stderr",
     "output_type": "stream",
     "text": [
      "100%|██████████| 107/107 [00:01<00:00, 69.64it/s]\n",
      "100%|██████████| 18/18 [00:00<00:00, 308.85it/s]\n",
      "100%|██████████| 53/53 [00:00<00:00, 314.73it/s]\n"
     ]
    },
    {
     "name": "stdout",
     "output_type": "stream",
     "text": [
      "Epoch:320/1000.. Train Loss: 0.034.. Val Loss: 0.184.. Test Loss: 0.104.. Time: 0.03m\n"
     ]
    },
    {
     "name": "stderr",
     "output_type": "stream",
     "text": [
      "100%|██████████| 107/107 [00:01<00:00, 70.10it/s]\n",
      "100%|██████████| 18/18 [00:00<00:00, 319.97it/s]\n",
      "100%|██████████| 53/53 [00:00<00:00, 309.45it/s]\n"
     ]
    },
    {
     "name": "stdout",
     "output_type": "stream",
     "text": [
      "Epoch:321/1000.. Train Loss: 0.036.. Val Loss: 0.176.. Test Loss: 0.094.. Time: 0.03m\n"
     ]
    },
    {
     "name": "stderr",
     "output_type": "stream",
     "text": [
      "100%|██████████| 107/107 [00:01<00:00, 65.32it/s]\n",
      "100%|██████████| 18/18 [00:00<00:00, 255.63it/s]\n",
      "100%|██████████| 53/53 [00:00<00:00, 308.13it/s]\n"
     ]
    },
    {
     "name": "stdout",
     "output_type": "stream",
     "text": [
      "Epoch:322/1000.. Train Loss: 0.029.. Val Loss: 0.201.. Test Loss: 0.103.. Time: 0.03m\n"
     ]
    },
    {
     "name": "stderr",
     "output_type": "stream",
     "text": [
      "100%|██████████| 107/107 [00:01<00:00, 59.12it/s]\n",
      "100%|██████████| 18/18 [00:00<00:00, 310.23it/s]\n",
      "100%|██████████| 53/53 [00:00<00:00, 309.83it/s]\n"
     ]
    },
    {
     "name": "stdout",
     "output_type": "stream",
     "text": [
      "Epoch:323/1000.. Train Loss: 0.029.. Val Loss: 0.181.. Test Loss: 0.123.. Time: 0.03m\n"
     ]
    },
    {
     "name": "stderr",
     "output_type": "stream",
     "text": [
      "100%|██████████| 107/107 [00:01<00:00, 60.18it/s]\n",
      "100%|██████████| 18/18 [00:00<00:00, 311.59it/s]\n",
      "100%|██████████| 53/53 [00:00<00:00, 316.31it/s]\n"
     ]
    },
    {
     "name": "stdout",
     "output_type": "stream",
     "text": [
      "Epoch:324/1000.. Train Loss: 0.042.. Val Loss: 0.179.. Test Loss: 0.171.. Time: 0.03m\n"
     ]
    },
    {
     "name": "stderr",
     "output_type": "stream",
     "text": [
      "100%|██████████| 107/107 [00:01<00:00, 64.23it/s]\n",
      "100%|██████████| 18/18 [00:00<00:00, 309.33it/s]\n",
      "100%|██████████| 53/53 [00:00<00:00, 321.73it/s]\n"
     ]
    },
    {
     "name": "stdout",
     "output_type": "stream",
     "text": [
      "Epoch:325/1000.. Train Loss: 0.031.. Val Loss: 0.186.. Test Loss: 0.115.. Time: 0.03m\n"
     ]
    },
    {
     "name": "stderr",
     "output_type": "stream",
     "text": [
      "100%|██████████| 107/107 [00:01<00:00, 63.93it/s]\n",
      "100%|██████████| 18/18 [00:00<00:00, 320.06it/s]\n",
      "100%|██████████| 53/53 [00:00<00:00, 318.03it/s]\n"
     ]
    },
    {
     "name": "stdout",
     "output_type": "stream",
     "text": [
      "Epoch:326/1000.. Train Loss: 0.034.. Val Loss: 0.195.. Test Loss: 0.114.. Time: 0.03m\n"
     ]
    },
    {
     "name": "stderr",
     "output_type": "stream",
     "text": [
      "100%|██████████| 107/107 [00:01<00:00, 63.29it/s]\n",
      "100%|██████████| 18/18 [00:00<00:00, 321.96it/s]\n",
      "100%|██████████| 53/53 [00:00<00:00, 315.60it/s]\n"
     ]
    },
    {
     "name": "stdout",
     "output_type": "stream",
     "text": [
      "Epoch:327/1000.. Train Loss: 0.033.. Val Loss: 0.187.. Test Loss: 0.109.. Time: 0.03m\n"
     ]
    },
    {
     "name": "stderr",
     "output_type": "stream",
     "text": [
      "100%|██████████| 107/107 [00:01<00:00, 63.50it/s]\n",
      "100%|██████████| 18/18 [00:00<00:00, 325.58it/s]\n",
      "100%|██████████| 53/53 [00:00<00:00, 316.31it/s]\n"
     ]
    },
    {
     "name": "stdout",
     "output_type": "stream",
     "text": [
      "Epoch:328/1000.. Train Loss: 0.037.. Val Loss: 0.179.. Test Loss: 0.109.. Time: 0.03m\n"
     ]
    },
    {
     "name": "stderr",
     "output_type": "stream",
     "text": [
      "100%|██████████| 107/107 [00:01<00:00, 64.38it/s]\n",
      "100%|██████████| 18/18 [00:00<00:00, 310.68it/s]\n",
      "100%|██████████| 53/53 [00:00<00:00, 315.95it/s]\n"
     ]
    },
    {
     "name": "stdout",
     "output_type": "stream",
     "text": [
      "Epoch:329/1000.. Train Loss: 0.030.. Val Loss: 0.164.. Test Loss: 0.109.. Time: 0.03m\n"
     ]
    },
    {
     "name": "stderr",
     "output_type": "stream",
     "text": [
      "100%|██████████| 107/107 [00:01<00:00, 70.30it/s]\n",
      "100%|██████████| 18/18 [00:00<00:00, 319.50it/s]\n",
      "100%|██████████| 53/53 [00:00<00:00, 315.88it/s]\n"
     ]
    },
    {
     "name": "stdout",
     "output_type": "stream",
     "text": [
      "Epoch:330/1000.. Train Loss: 0.035.. Val Loss: 0.160.. Test Loss: 0.101.. Time: 0.03m\n"
     ]
    },
    {
     "name": "stderr",
     "output_type": "stream",
     "text": [
      "100%|██████████| 107/107 [00:01<00:00, 71.16it/s]\n",
      "100%|██████████| 18/18 [00:00<00:00, 321.83it/s]\n",
      "100%|██████████| 53/53 [00:00<00:00, 316.30it/s]\n"
     ]
    },
    {
     "name": "stdout",
     "output_type": "stream",
     "text": [
      "Epoch:331/1000.. Train Loss: 0.033.. Val Loss: 0.144.. Test Loss: 0.109.. Time: 0.03m\n"
     ]
    },
    {
     "name": "stderr",
     "output_type": "stream",
     "text": [
      "100%|██████████| 107/107 [00:01<00:00, 70.62it/s]\n",
      "100%|██████████| 18/18 [00:00<00:00, 302.44it/s]\n",
      "100%|██████████| 53/53 [00:00<00:00, 310.35it/s]\n"
     ]
    },
    {
     "name": "stdout",
     "output_type": "stream",
     "text": [
      "Epoch:332/1000.. Train Loss: 0.030.. Val Loss: 0.234.. Test Loss: 0.104.. Time: 0.03m\n"
     ]
    },
    {
     "name": "stderr",
     "output_type": "stream",
     "text": [
      "100%|██████████| 107/107 [00:01<00:00, 70.69it/s]\n",
      "100%|██████████| 18/18 [00:00<00:00, 309.01it/s]\n",
      "100%|██████████| 53/53 [00:00<00:00, 319.52it/s]\n"
     ]
    },
    {
     "name": "stdout",
     "output_type": "stream",
     "text": [
      "Epoch:333/1000.. Train Loss: 0.033.. Val Loss: 0.168.. Test Loss: 0.104.. Time: 0.03m\n"
     ]
    },
    {
     "name": "stderr",
     "output_type": "stream",
     "text": [
      "100%|██████████| 107/107 [00:01<00:00, 70.84it/s]\n",
      "100%|██████████| 18/18 [00:00<00:00, 317.89it/s]\n",
      "100%|██████████| 53/53 [00:00<00:00, 319.67it/s]\n"
     ]
    },
    {
     "name": "stdout",
     "output_type": "stream",
     "text": [
      "Epoch:334/1000.. Train Loss: 0.032.. Val Loss: 0.189.. Test Loss: 0.120.. Time: 0.03m\n"
     ]
    },
    {
     "name": "stderr",
     "output_type": "stream",
     "text": [
      "100%|██████████| 107/107 [00:01<00:00, 71.43it/s]\n",
      "100%|██████████| 18/18 [00:00<00:00, 297.94it/s]\n",
      "100%|██████████| 53/53 [00:00<00:00, 316.07it/s]\n"
     ]
    },
    {
     "name": "stdout",
     "output_type": "stream",
     "text": [
      "Epoch:335/1000.. Train Loss: 0.027.. Val Loss: 0.161.. Test Loss: 0.113.. Time: 0.03m\n"
     ]
    },
    {
     "name": "stderr",
     "output_type": "stream",
     "text": [
      "100%|██████████| 107/107 [00:01<00:00, 70.15it/s]\n",
      "100%|██████████| 18/18 [00:00<00:00, 310.70it/s]\n",
      "100%|██████████| 53/53 [00:00<00:00, 314.07it/s]\n"
     ]
    },
    {
     "name": "stdout",
     "output_type": "stream",
     "text": [
      "Epoch:336/1000.. Train Loss: 0.038.. Val Loss: 0.170.. Test Loss: 0.114.. Time: 0.03m\n"
     ]
    },
    {
     "name": "stderr",
     "output_type": "stream",
     "text": [
      "100%|██████████| 107/107 [00:01<00:00, 70.97it/s]\n",
      "100%|██████████| 18/18 [00:00<00:00, 260.30it/s]\n",
      "100%|██████████| 53/53 [00:00<00:00, 297.05it/s]\n"
     ]
    },
    {
     "name": "stdout",
     "output_type": "stream",
     "text": [
      "Epoch:337/1000.. Train Loss: 0.034.. Val Loss: 0.179.. Test Loss: 0.101.. Time: 0.03m\n"
     ]
    },
    {
     "name": "stderr",
     "output_type": "stream",
     "text": [
      "100%|██████████| 107/107 [00:01<00:00, 64.70it/s]\n",
      "100%|██████████| 18/18 [00:00<00:00, 314.68it/s]\n",
      "100%|██████████| 53/53 [00:00<00:00, 314.01it/s]\n"
     ]
    },
    {
     "name": "stdout",
     "output_type": "stream",
     "text": [
      "Epoch:338/1000.. Train Loss: 0.029.. Val Loss: 0.166.. Test Loss: 0.101.. Time: 0.03m\n"
     ]
    },
    {
     "name": "stderr",
     "output_type": "stream",
     "text": [
      "100%|██████████| 107/107 [00:01<00:00, 64.62it/s]\n",
      "100%|██████████| 18/18 [00:00<00:00, 316.18it/s]\n",
      "100%|██████████| 53/53 [00:00<00:00, 316.77it/s]\n"
     ]
    },
    {
     "name": "stdout",
     "output_type": "stream",
     "text": [
      "Epoch:339/1000.. Train Loss: 0.032.. Val Loss: 0.163.. Test Loss: 0.112.. Time: 0.03m\n"
     ]
    },
    {
     "name": "stderr",
     "output_type": "stream",
     "text": [
      "100%|██████████| 107/107 [00:01<00:00, 64.19it/s]\n",
      "100%|██████████| 18/18 [00:00<00:00, 313.44it/s]\n",
      "100%|██████████| 53/53 [00:00<00:00, 314.05it/s]\n"
     ]
    },
    {
     "name": "stdout",
     "output_type": "stream",
     "text": [
      "Epoch:340/1000.. Train Loss: 0.027.. Val Loss: 0.173.. Test Loss: 0.136.. Time: 0.03m\n"
     ]
    },
    {
     "name": "stderr",
     "output_type": "stream",
     "text": [
      "100%|██████████| 107/107 [00:01<00:00, 64.54it/s]\n",
      "100%|██████████| 18/18 [00:00<00:00, 235.55it/s]\n",
      "100%|██████████| 53/53 [00:00<00:00, 310.38it/s]\n"
     ]
    },
    {
     "name": "stdout",
     "output_type": "stream",
     "text": [
      "Epoch:341/1000.. Train Loss: 0.039.. Val Loss: 0.149.. Test Loss: 0.097.. Time: 0.03m\n"
     ]
    },
    {
     "name": "stderr",
     "output_type": "stream",
     "text": [
      "100%|██████████| 107/107 [00:01<00:00, 61.56it/s]\n",
      "100%|██████████| 18/18 [00:00<00:00, 293.74it/s]\n",
      "100%|██████████| 53/53 [00:00<00:00, 270.30it/s]\n"
     ]
    },
    {
     "name": "stdout",
     "output_type": "stream",
     "text": [
      "Epoch:342/1000.. Train Loss: 0.039.. Val Loss: 0.149.. Test Loss: 0.112.. Time: 0.03m\n"
     ]
    },
    {
     "name": "stderr",
     "output_type": "stream",
     "text": [
      "100%|██████████| 107/107 [00:01<00:00, 62.39it/s]\n",
      "100%|██████████| 18/18 [00:00<00:00, 313.94it/s]\n",
      "100%|██████████| 53/53 [00:00<00:00, 317.02it/s]\n"
     ]
    },
    {
     "name": "stdout",
     "output_type": "stream",
     "text": [
      "Epoch:343/1000.. Train Loss: 0.037.. Val Loss: 0.155.. Test Loss: 0.102.. Time: 0.03m\n"
     ]
    },
    {
     "name": "stderr",
     "output_type": "stream",
     "text": [
      "100%|██████████| 107/107 [00:01<00:00, 65.23it/s]\n",
      "100%|██████████| 18/18 [00:00<00:00, 316.46it/s]\n",
      "100%|██████████| 53/53 [00:00<00:00, 316.12it/s]\n"
     ]
    },
    {
     "name": "stdout",
     "output_type": "stream",
     "text": [
      "Epoch:344/1000.. Train Loss: 0.033.. Val Loss: 0.158.. Test Loss: 0.111.. Time: 0.03m\n"
     ]
    },
    {
     "name": "stderr",
     "output_type": "stream",
     "text": [
      "100%|██████████| 107/107 [00:01<00:00, 63.38it/s]\n",
      "100%|██████████| 18/18 [00:00<00:00, 292.77it/s]\n",
      "100%|██████████| 53/53 [00:00<00:00, 305.48it/s]\n"
     ]
    },
    {
     "name": "stdout",
     "output_type": "stream",
     "text": [
      "Epoch:345/1000.. Train Loss: 0.036.. Val Loss: 0.155.. Test Loss: 0.120.. Time: 0.03m\n"
     ]
    },
    {
     "name": "stderr",
     "output_type": "stream",
     "text": [
      "100%|██████████| 107/107 [00:01<00:00, 65.88it/s]\n",
      "100%|██████████| 18/18 [00:00<00:00, 306.14it/s]\n",
      "100%|██████████| 53/53 [00:00<00:00, 309.13it/s]\n"
     ]
    },
    {
     "name": "stdout",
     "output_type": "stream",
     "text": [
      "Epoch:346/1000.. Train Loss: 0.033.. Val Loss: 0.172.. Test Loss: 0.112.. Time: 0.03m\n"
     ]
    },
    {
     "name": "stderr",
     "output_type": "stream",
     "text": [
      "100%|██████████| 107/107 [00:01<00:00, 63.53it/s]\n",
      "100%|██████████| 18/18 [00:00<00:00, 310.22it/s]\n",
      "100%|██████████| 53/53 [00:00<00:00, 311.26it/s]\n"
     ]
    },
    {
     "name": "stdout",
     "output_type": "stream",
     "text": [
      "Epoch:347/1000.. Train Loss: 0.031.. Val Loss: 0.164.. Test Loss: 0.114.. Time: 0.03m\n"
     ]
    },
    {
     "name": "stderr",
     "output_type": "stream",
     "text": [
      "100%|██████████| 107/107 [00:01<00:00, 65.73it/s]\n",
      "100%|██████████| 18/18 [00:00<00:00, 317.53it/s]\n",
      "100%|██████████| 53/53 [00:00<00:00, 317.74it/s]\n"
     ]
    },
    {
     "name": "stdout",
     "output_type": "stream",
     "text": [
      "Epoch:348/1000.. Train Loss: 0.033.. Val Loss: 0.194.. Test Loss: 0.130.. Time: 0.03m\n"
     ]
    },
    {
     "name": "stderr",
     "output_type": "stream",
     "text": [
      "100%|██████████| 107/107 [00:01<00:00, 65.03it/s]\n",
      "100%|██████████| 18/18 [00:00<00:00, 299.10it/s]\n",
      "100%|██████████| 53/53 [00:00<00:00, 312.67it/s]\n"
     ]
    },
    {
     "name": "stdout",
     "output_type": "stream",
     "text": [
      "Epoch:349/1000.. Train Loss: 0.035.. Val Loss: 0.215.. Test Loss: 0.123.. Time: 0.03m\n"
     ]
    },
    {
     "name": "stderr",
     "output_type": "stream",
     "text": [
      "100%|██████████| 107/107 [00:01<00:00, 64.88it/s]\n",
      "100%|██████████| 18/18 [00:00<00:00, 280.28it/s]\n",
      "100%|██████████| 53/53 [00:00<00:00, 293.89it/s]\n"
     ]
    },
    {
     "name": "stdout",
     "output_type": "stream",
     "text": [
      "Epoch:350/1000.. Train Loss: 0.033.. Val Loss: 0.175.. Test Loss: 0.124.. Time: 0.03m\n"
     ]
    },
    {
     "name": "stderr",
     "output_type": "stream",
     "text": [
      "100%|██████████| 107/107 [00:01<00:00, 64.35it/s]\n",
      "100%|██████████| 18/18 [00:00<00:00, 311.05it/s]\n",
      "100%|██████████| 53/53 [00:00<00:00, 312.41it/s]\n"
     ]
    },
    {
     "name": "stdout",
     "output_type": "stream",
     "text": [
      "Epoch:351/1000.. Train Loss: 0.028.. Val Loss: 0.177.. Test Loss: 0.115.. Time: 0.03m\n"
     ]
    },
    {
     "name": "stderr",
     "output_type": "stream",
     "text": [
      "100%|██████████| 107/107 [00:01<00:00, 65.60it/s]\n",
      "100%|██████████| 18/18 [00:00<00:00, 316.62it/s]\n",
      "100%|██████████| 53/53 [00:00<00:00, 322.96it/s]\n"
     ]
    },
    {
     "name": "stdout",
     "output_type": "stream",
     "text": [
      "Epoch:352/1000.. Train Loss: 0.031.. Val Loss: 0.171.. Test Loss: 0.113.. Time: 0.03m\n"
     ]
    },
    {
     "name": "stderr",
     "output_type": "stream",
     "text": [
      "100%|██████████| 107/107 [00:01<00:00, 61.43it/s]\n",
      "100%|██████████| 18/18 [00:00<00:00, 306.95it/s]\n",
      "100%|██████████| 53/53 [00:00<00:00, 312.89it/s]\n"
     ]
    },
    {
     "name": "stdout",
     "output_type": "stream",
     "text": [
      "Epoch:353/1000.. Train Loss: 0.031.. Val Loss: 0.164.. Test Loss: 0.110.. Time: 0.03m\n"
     ]
    },
    {
     "name": "stderr",
     "output_type": "stream",
     "text": [
      "100%|██████████| 107/107 [00:01<00:00, 67.51it/s]\n",
      "100%|██████████| 18/18 [00:00<00:00, 314.03it/s]\n",
      "100%|██████████| 53/53 [00:00<00:00, 317.37it/s]\n"
     ]
    },
    {
     "name": "stdout",
     "output_type": "stream",
     "text": [
      "Epoch:354/1000.. Train Loss: 0.035.. Val Loss: 0.168.. Test Loss: 0.104.. Time: 0.03m\n"
     ]
    },
    {
     "name": "stderr",
     "output_type": "stream",
     "text": [
      "100%|██████████| 107/107 [00:01<00:00, 61.15it/s]\n",
      "100%|██████████| 18/18 [00:00<00:00, 315.35it/s]\n",
      "100%|██████████| 53/53 [00:00<00:00, 315.29it/s]\n"
     ]
    },
    {
     "name": "stdout",
     "output_type": "stream",
     "text": [
      "Epoch:355/1000.. Train Loss: 0.031.. Val Loss: 0.170.. Test Loss: 0.125.. Time: 0.03m\n"
     ]
    },
    {
     "name": "stderr",
     "output_type": "stream",
     "text": [
      "100%|██████████| 107/107 [00:01<00:00, 67.82it/s]\n",
      "100%|██████████| 18/18 [00:00<00:00, 317.72it/s]\n",
      "100%|██████████| 53/53 [00:00<00:00, 320.44it/s]\n"
     ]
    },
    {
     "name": "stdout",
     "output_type": "stream",
     "text": [
      "Epoch:356/1000.. Train Loss: 0.029.. Val Loss: 0.204.. Test Loss: 0.130.. Time: 0.03m\n"
     ]
    },
    {
     "name": "stderr",
     "output_type": "stream",
     "text": [
      "100%|██████████| 107/107 [00:01<00:00, 60.40it/s]\n",
      "100%|██████████| 18/18 [00:00<00:00, 314.99it/s]\n",
      "100%|██████████| 53/53 [00:00<00:00, 319.23it/s]\n"
     ]
    },
    {
     "name": "stdout",
     "output_type": "stream",
     "text": [
      "Epoch:357/1000.. Train Loss: 0.032.. Val Loss: 0.172.. Test Loss: 0.120.. Time: 0.03m\n"
     ]
    },
    {
     "name": "stderr",
     "output_type": "stream",
     "text": [
      "100%|██████████| 107/107 [00:01<00:00, 63.92it/s]\n",
      "100%|██████████| 18/18 [00:00<00:00, 317.99it/s]\n",
      "100%|██████████| 53/53 [00:00<00:00, 317.95it/s]\n"
     ]
    },
    {
     "name": "stdout",
     "output_type": "stream",
     "text": [
      "Epoch:358/1000.. Train Loss: 0.032.. Val Loss: 0.200.. Test Loss: 0.111.. Time: 0.03m\n"
     ]
    },
    {
     "name": "stderr",
     "output_type": "stream",
     "text": [
      "100%|██████████| 107/107 [00:01<00:00, 58.43it/s]\n",
      "100%|██████████| 18/18 [00:00<00:00, 315.86it/s]\n",
      "100%|██████████| 53/53 [00:00<00:00, 318.99it/s]\n"
     ]
    },
    {
     "name": "stdout",
     "output_type": "stream",
     "text": [
      "Epoch:359/1000.. Train Loss: 0.031.. Val Loss: 0.177.. Test Loss: 0.112.. Time: 0.03m\n"
     ]
    },
    {
     "name": "stderr",
     "output_type": "stream",
     "text": [
      "100%|██████████| 107/107 [00:01<00:00, 65.21it/s]\n",
      "100%|██████████| 18/18 [00:00<00:00, 313.75it/s]\n",
      "100%|██████████| 53/53 [00:00<00:00, 314.72it/s]\n"
     ]
    },
    {
     "name": "stdout",
     "output_type": "stream",
     "text": [
      "Epoch:360/1000.. Train Loss: 0.028.. Val Loss: 0.165.. Test Loss: 0.133.. Time: 0.03m\n"
     ]
    },
    {
     "name": "stderr",
     "output_type": "stream",
     "text": [
      "100%|██████████| 107/107 [00:01<00:00, 63.07it/s]\n",
      "100%|██████████| 18/18 [00:00<00:00, 315.41it/s]\n",
      "100%|██████████| 53/53 [00:00<00:00, 319.91it/s]\n"
     ]
    },
    {
     "name": "stdout",
     "output_type": "stream",
     "text": [
      "Epoch:361/1000.. Train Loss: 0.027.. Val Loss: 0.160.. Test Loss: 0.116.. Time: 0.03m\n"
     ]
    },
    {
     "name": "stderr",
     "output_type": "stream",
     "text": [
      "100%|██████████| 107/107 [00:01<00:00, 63.18it/s]\n",
      "100%|██████████| 18/18 [00:00<00:00, 311.69it/s]\n",
      "100%|██████████| 53/53 [00:00<00:00, 301.01it/s]\n"
     ]
    },
    {
     "name": "stdout",
     "output_type": "stream",
     "text": [
      "Epoch:362/1000.. Train Loss: 0.034.. Val Loss: 0.186.. Test Loss: 0.112.. Time: 0.03m\n"
     ]
    },
    {
     "name": "stderr",
     "output_type": "stream",
     "text": [
      "100%|██████████| 107/107 [00:01<00:00, 62.45it/s]\n",
      "100%|██████████| 18/18 [00:00<00:00, 322.47it/s]\n",
      "100%|██████████| 53/53 [00:00<00:00, 309.37it/s]\n"
     ]
    },
    {
     "name": "stdout",
     "output_type": "stream",
     "text": [
      "Epoch:363/1000.. Train Loss: 0.026.. Val Loss: 0.164.. Test Loss: 0.119.. Time: 0.03m\n"
     ]
    },
    {
     "name": "stderr",
     "output_type": "stream",
     "text": [
      "100%|██████████| 107/107 [00:01<00:00, 64.69it/s]\n",
      "100%|██████████| 18/18 [00:00<00:00, 294.08it/s]\n",
      "100%|██████████| 53/53 [00:00<00:00, 312.54it/s]\n"
     ]
    },
    {
     "name": "stdout",
     "output_type": "stream",
     "text": [
      "Epoch:364/1000.. Train Loss: 0.031.. Val Loss: 0.183.. Test Loss: 0.116.. Time: 0.03m\n"
     ]
    },
    {
     "name": "stderr",
     "output_type": "stream",
     "text": [
      "100%|██████████| 107/107 [00:01<00:00, 63.28it/s]\n",
      "100%|██████████| 18/18 [00:00<00:00, 313.32it/s]\n",
      "100%|██████████| 53/53 [00:00<00:00, 307.53it/s]\n"
     ]
    },
    {
     "name": "stdout",
     "output_type": "stream",
     "text": [
      "Epoch:365/1000.. Train Loss: 0.034.. Val Loss: 0.169.. Test Loss: 0.113.. Time: 0.03m\n"
     ]
    },
    {
     "name": "stderr",
     "output_type": "stream",
     "text": [
      "100%|██████████| 107/107 [00:01<00:00, 64.27it/s]\n",
      "100%|██████████| 18/18 [00:00<00:00, 319.18it/s]\n",
      "100%|██████████| 53/53 [00:00<00:00, 312.36it/s]\n"
     ]
    },
    {
     "name": "stdout",
     "output_type": "stream",
     "text": [
      "Epoch:366/1000.. Train Loss: 0.030.. Val Loss: 0.178.. Test Loss: 0.127.. Time: 0.03m\n"
     ]
    },
    {
     "name": "stderr",
     "output_type": "stream",
     "text": [
      "100%|██████████| 107/107 [00:01<00:00, 63.88it/s]\n",
      "100%|██████████| 18/18 [00:00<00:00, 322.10it/s]\n",
      "100%|██████████| 53/53 [00:00<00:00, 317.07it/s]\n"
     ]
    },
    {
     "name": "stdout",
     "output_type": "stream",
     "text": [
      "Epoch:367/1000.. Train Loss: 0.030.. Val Loss: 0.157.. Test Loss: 0.107.. Time: 0.03m\n"
     ]
    },
    {
     "name": "stderr",
     "output_type": "stream",
     "text": [
      "100%|██████████| 107/107 [00:01<00:00, 63.32it/s]\n",
      "100%|██████████| 18/18 [00:00<00:00, 263.82it/s]\n",
      "100%|██████████| 53/53 [00:00<00:00, 295.76it/s]\n"
     ]
    },
    {
     "name": "stdout",
     "output_type": "stream",
     "text": [
      "Epoch:368/1000.. Train Loss: 0.033.. Val Loss: 0.164.. Test Loss: 0.107.. Time: 0.03m\n"
     ]
    },
    {
     "name": "stderr",
     "output_type": "stream",
     "text": [
      "100%|██████████| 107/107 [00:01<00:00, 62.75it/s]\n",
      "100%|██████████| 18/18 [00:00<00:00, 311.40it/s]\n",
      "100%|██████████| 53/53 [00:00<00:00, 312.19it/s]\n"
     ]
    },
    {
     "name": "stdout",
     "output_type": "stream",
     "text": [
      "Epoch:369/1000.. Train Loss: 0.027.. Val Loss: 0.166.. Test Loss: 0.111.. Time: 0.03m\n"
     ]
    },
    {
     "name": "stderr",
     "output_type": "stream",
     "text": [
      "100%|██████████| 107/107 [00:01<00:00, 62.49it/s]\n",
      "100%|██████████| 18/18 [00:00<00:00, 309.87it/s]\n",
      "100%|██████████| 53/53 [00:00<00:00, 308.06it/s]\n"
     ]
    },
    {
     "name": "stdout",
     "output_type": "stream",
     "text": [
      "Epoch:370/1000.. Train Loss: 0.033.. Val Loss: 0.181.. Test Loss: 0.120.. Time: 0.03m\n"
     ]
    },
    {
     "name": "stderr",
     "output_type": "stream",
     "text": [
      "100%|██████████| 107/107 [00:01<00:00, 62.91it/s]\n",
      "100%|██████████| 18/18 [00:00<00:00, 318.66it/s]\n",
      "100%|██████████| 53/53 [00:00<00:00, 318.53it/s]\n"
     ]
    },
    {
     "name": "stdout",
     "output_type": "stream",
     "text": [
      "Epoch:371/1000.. Train Loss: 0.027.. Val Loss: 0.169.. Test Loss: 0.110.. Time: 0.03m\n"
     ]
    },
    {
     "name": "stderr",
     "output_type": "stream",
     "text": [
      "100%|██████████| 107/107 [00:01<00:00, 64.69it/s]\n",
      "100%|██████████| 18/18 [00:00<00:00, 314.19it/s]\n",
      "100%|██████████| 53/53 [00:00<00:00, 301.51it/s]\n"
     ]
    },
    {
     "name": "stdout",
     "output_type": "stream",
     "text": [
      "Epoch:372/1000.. Train Loss: 0.027.. Val Loss: 0.181.. Test Loss: 0.113.. Time: 0.03m\n"
     ]
    },
    {
     "name": "stderr",
     "output_type": "stream",
     "text": [
      "100%|██████████| 107/107 [00:01<00:00, 64.64it/s]\n",
      "100%|██████████| 18/18 [00:00<00:00, 318.64it/s]\n",
      "100%|██████████| 53/53 [00:00<00:00, 317.29it/s]\n"
     ]
    },
    {
     "name": "stdout",
     "output_type": "stream",
     "text": [
      "Epoch:373/1000.. Train Loss: 0.025.. Val Loss: 0.170.. Test Loss: 0.112.. Time: 0.03m\n"
     ]
    },
    {
     "name": "stderr",
     "output_type": "stream",
     "text": [
      "100%|██████████| 107/107 [00:01<00:00, 62.56it/s]\n",
      "100%|██████████| 18/18 [00:00<00:00, 304.78it/s]\n",
      "100%|██████████| 53/53 [00:00<00:00, 317.58it/s]\n"
     ]
    },
    {
     "name": "stdout",
     "output_type": "stream",
     "text": [
      "Epoch:374/1000.. Train Loss: 0.030.. Val Loss: 0.189.. Test Loss: 0.106.. Time: 0.03m\n"
     ]
    },
    {
     "name": "stderr",
     "output_type": "stream",
     "text": [
      "100%|██████████| 107/107 [00:01<00:00, 65.00it/s]\n",
      "100%|██████████| 18/18 [00:00<00:00, 313.34it/s]\n",
      "100%|██████████| 53/53 [00:00<00:00, 312.10it/s]\n"
     ]
    },
    {
     "name": "stdout",
     "output_type": "stream",
     "text": [
      "Epoch:375/1000.. Train Loss: 0.032.. Val Loss: 0.157.. Test Loss: 0.119.. Time: 0.03m\n"
     ]
    },
    {
     "name": "stderr",
     "output_type": "stream",
     "text": [
      "100%|██████████| 107/107 [00:01<00:00, 63.04it/s]\n",
      "100%|██████████| 18/18 [00:00<00:00, 313.35it/s]\n",
      "100%|██████████| 53/53 [00:00<00:00, 306.07it/s]\n"
     ]
    },
    {
     "name": "stdout",
     "output_type": "stream",
     "text": [
      "Epoch:376/1000.. Train Loss: 0.031.. Val Loss: 0.164.. Test Loss: 0.116.. Time: 0.03m\n"
     ]
    },
    {
     "name": "stderr",
     "output_type": "stream",
     "text": [
      "100%|██████████| 107/107 [00:01<00:00, 65.61it/s]\n",
      "100%|██████████| 18/18 [00:00<00:00, 316.37it/s]\n",
      "100%|██████████| 53/53 [00:00<00:00, 315.39it/s]\n"
     ]
    },
    {
     "name": "stdout",
     "output_type": "stream",
     "text": [
      "Epoch:377/1000.. Train Loss: 0.026.. Val Loss: 0.183.. Test Loss: 0.109.. Time: 0.03m\n"
     ]
    },
    {
     "name": "stderr",
     "output_type": "stream",
     "text": [
      "100%|██████████| 107/107 [00:01<00:00, 63.91it/s]\n",
      "100%|██████████| 18/18 [00:00<00:00, 310.63it/s]\n",
      "100%|██████████| 53/53 [00:00<00:00, 317.97it/s]\n"
     ]
    },
    {
     "name": "stdout",
     "output_type": "stream",
     "text": [
      "Epoch:378/1000.. Train Loss: 0.026.. Val Loss: 0.157.. Test Loss: 0.103.. Time: 0.03m\n"
     ]
    },
    {
     "name": "stderr",
     "output_type": "stream",
     "text": [
      "100%|██████████| 107/107 [00:01<00:00, 64.72it/s]\n",
      "100%|██████████| 18/18 [00:00<00:00, 319.34it/s]\n",
      "100%|██████████| 53/53 [00:00<00:00, 318.85it/s]\n"
     ]
    },
    {
     "name": "stdout",
     "output_type": "stream",
     "text": [
      "Epoch:379/1000.. Train Loss: 0.037.. Val Loss: 0.168.. Test Loss: 0.107.. Time: 0.03m\n"
     ]
    },
    {
     "name": "stderr",
     "output_type": "stream",
     "text": [
      "100%|██████████| 107/107 [00:01<00:00, 63.22it/s]\n",
      "100%|██████████| 18/18 [00:00<00:00, 312.18it/s]\n",
      "100%|██████████| 53/53 [00:00<00:00, 314.37it/s]\n"
     ]
    },
    {
     "name": "stdout",
     "output_type": "stream",
     "text": [
      "Epoch:380/1000.. Train Loss: 0.039.. Val Loss: 0.173.. Test Loss: 0.095.. Time: 0.03m\n"
     ]
    },
    {
     "name": "stderr",
     "output_type": "stream",
     "text": [
      "100%|██████████| 107/107 [00:01<00:00, 65.51it/s]\n",
      "100%|██████████| 18/18 [00:00<00:00, 273.00it/s]\n",
      "100%|██████████| 53/53 [00:00<00:00, 314.83it/s]\n"
     ]
    },
    {
     "name": "stdout",
     "output_type": "stream",
     "text": [
      "Epoch:381/1000.. Train Loss: 0.032.. Val Loss: 0.182.. Test Loss: 0.097.. Time: 0.03m\n"
     ]
    },
    {
     "name": "stderr",
     "output_type": "stream",
     "text": [
      "100%|██████████| 107/107 [00:01<00:00, 64.43it/s]\n",
      "100%|██████████| 18/18 [00:00<00:00, 285.25it/s]\n",
      "100%|██████████| 53/53 [00:00<00:00, 317.48it/s]\n"
     ]
    },
    {
     "name": "stdout",
     "output_type": "stream",
     "text": [
      "Epoch:382/1000.. Train Loss: 0.030.. Val Loss: 0.149.. Test Loss: 0.101.. Time: 0.03m\n"
     ]
    },
    {
     "name": "stderr",
     "output_type": "stream",
     "text": [
      "100%|██████████| 107/107 [00:01<00:00, 65.43it/s]\n",
      "100%|██████████| 18/18 [00:00<00:00, 318.10it/s]\n",
      "100%|██████████| 53/53 [00:00<00:00, 321.38it/s]\n"
     ]
    },
    {
     "name": "stdout",
     "output_type": "stream",
     "text": [
      "Epoch:383/1000.. Train Loss: 0.026.. Val Loss: 0.176.. Test Loss: 0.114.. Time: 0.03m\n"
     ]
    },
    {
     "name": "stderr",
     "output_type": "stream",
     "text": [
      "100%|██████████| 107/107 [00:01<00:00, 65.64it/s]\n",
      "100%|██████████| 18/18 [00:00<00:00, 279.67it/s]\n",
      "100%|██████████| 53/53 [00:00<00:00, 354.29it/s]\n"
     ]
    },
    {
     "name": "stdout",
     "output_type": "stream",
     "text": [
      "Epoch:384/1000.. Train Loss: 0.034.. Val Loss: 0.150.. Test Loss: 0.103.. Time: 0.03m\n"
     ]
    },
    {
     "name": "stderr",
     "output_type": "stream",
     "text": [
      "100%|██████████| 107/107 [00:01<00:00, 63.48it/s]\n",
      "100%|██████████| 18/18 [00:00<00:00, 321.71it/s]\n",
      "100%|██████████| 53/53 [00:00<00:00, 318.10it/s]\n"
     ]
    },
    {
     "name": "stdout",
     "output_type": "stream",
     "text": [
      "Epoch:385/1000.. Train Loss: 0.031.. Val Loss: 0.176.. Test Loss: 0.103.. Time: 0.03m\n"
     ]
    },
    {
     "name": "stderr",
     "output_type": "stream",
     "text": [
      "100%|██████████| 107/107 [00:01<00:00, 62.45it/s]\n",
      "100%|██████████| 18/18 [00:00<00:00, 315.98it/s]\n",
      "100%|██████████| 53/53 [00:00<00:00, 318.39it/s]\n"
     ]
    },
    {
     "name": "stdout",
     "output_type": "stream",
     "text": [
      "Epoch:386/1000.. Train Loss: 0.030.. Val Loss: 0.163.. Test Loss: 0.115.. Time: 0.03m\n"
     ]
    },
    {
     "name": "stderr",
     "output_type": "stream",
     "text": [
      "100%|██████████| 107/107 [00:01<00:00, 67.09it/s]\n",
      "100%|██████████| 18/18 [00:00<00:00, 328.84it/s]\n",
      "100%|██████████| 53/53 [00:00<00:00, 317.64it/s]\n"
     ]
    },
    {
     "name": "stdout",
     "output_type": "stream",
     "text": [
      "Epoch:387/1000.. Train Loss: 0.035.. Val Loss: 0.158.. Test Loss: 0.105.. Time: 0.03m\n"
     ]
    },
    {
     "name": "stderr",
     "output_type": "stream",
     "text": [
      "100%|██████████| 107/107 [00:01<00:00, 63.37it/s]\n",
      "100%|██████████| 18/18 [00:00<00:00, 312.97it/s]\n",
      "100%|██████████| 53/53 [00:00<00:00, 313.86it/s]\n"
     ]
    },
    {
     "name": "stdout",
     "output_type": "stream",
     "text": [
      "Epoch:388/1000.. Train Loss: 0.033.. Val Loss: 0.171.. Test Loss: 0.133.. Time: 0.03m\n"
     ]
    },
    {
     "name": "stderr",
     "output_type": "stream",
     "text": [
      "100%|██████████| 107/107 [00:01<00:00, 64.71it/s]\n",
      "100%|██████████| 18/18 [00:00<00:00, 292.96it/s]\n",
      "100%|██████████| 53/53 [00:00<00:00, 311.47it/s]\n"
     ]
    },
    {
     "name": "stdout",
     "output_type": "stream",
     "text": [
      "Epoch:389/1000.. Train Loss: 0.028.. Val Loss: 0.169.. Test Loss: 0.120.. Time: 0.03m\n"
     ]
    },
    {
     "name": "stderr",
     "output_type": "stream",
     "text": [
      "100%|██████████| 107/107 [00:01<00:00, 63.91it/s]\n",
      "100%|██████████| 18/18 [00:00<00:00, 303.41it/s]\n",
      "100%|██████████| 53/53 [00:00<00:00, 319.43it/s]\n"
     ]
    },
    {
     "name": "stdout",
     "output_type": "stream",
     "text": [
      "Epoch:390/1000.. Train Loss: 0.025.. Val Loss: 0.161.. Test Loss: 0.114.. Time: 0.03m\n"
     ]
    },
    {
     "name": "stderr",
     "output_type": "stream",
     "text": [
      "100%|██████████| 107/107 [00:01<00:00, 65.65it/s]\n",
      "100%|██████████| 18/18 [00:00<00:00, 310.97it/s]\n",
      "100%|██████████| 53/53 [00:00<00:00, 312.77it/s]\n"
     ]
    },
    {
     "name": "stdout",
     "output_type": "stream",
     "text": [
      "Epoch:391/1000.. Train Loss: 0.026.. Val Loss: 0.172.. Test Loss: 0.125.. Time: 0.03m\n"
     ]
    },
    {
     "name": "stderr",
     "output_type": "stream",
     "text": [
      "100%|██████████| 107/107 [00:01<00:00, 62.99it/s]\n",
      "100%|██████████| 18/18 [00:00<00:00, 302.79it/s]\n",
      "100%|██████████| 53/53 [00:00<00:00, 313.16it/s]\n"
     ]
    },
    {
     "name": "stdout",
     "output_type": "stream",
     "text": [
      "Epoch:392/1000.. Train Loss: 0.031.. Val Loss: 0.165.. Test Loss: 0.117.. Time: 0.03m\n"
     ]
    },
    {
     "name": "stderr",
     "output_type": "stream",
     "text": [
      "100%|██████████| 107/107 [00:01<00:00, 64.56it/s]\n",
      "100%|██████████| 18/18 [00:00<00:00, 313.96it/s]\n",
      "100%|██████████| 53/53 [00:00<00:00, 315.16it/s]\n"
     ]
    },
    {
     "name": "stdout",
     "output_type": "stream",
     "text": [
      "Epoch:393/1000.. Train Loss: 0.032.. Val Loss: 0.172.. Test Loss: 0.110.. Time: 0.03m\n"
     ]
    },
    {
     "name": "stderr",
     "output_type": "stream",
     "text": [
      "100%|██████████| 107/107 [00:01<00:00, 64.92it/s]\n",
      "100%|██████████| 18/18 [00:00<00:00, 290.48it/s]\n",
      "100%|██████████| 53/53 [00:00<00:00, 303.99it/s]\n"
     ]
    },
    {
     "name": "stdout",
     "output_type": "stream",
     "text": [
      "Epoch:394/1000.. Train Loss: 0.033.. Val Loss: 0.178.. Test Loss: 0.108.. Time: 0.03m\n"
     ]
    },
    {
     "name": "stderr",
     "output_type": "stream",
     "text": [
      "100%|██████████| 107/107 [00:01<00:00, 65.26it/s]\n",
      "100%|██████████| 18/18 [00:00<00:00, 317.69it/s]\n",
      "100%|██████████| 53/53 [00:00<00:00, 314.34it/s]\n"
     ]
    },
    {
     "name": "stdout",
     "output_type": "stream",
     "text": [
      "Epoch:395/1000.. Train Loss: 0.031.. Val Loss: 0.207.. Test Loss: 0.131.. Time: 0.03m\n"
     ]
    },
    {
     "name": "stderr",
     "output_type": "stream",
     "text": [
      "100%|██████████| 107/107 [00:01<00:00, 62.36it/s]\n",
      "100%|██████████| 18/18 [00:00<00:00, 313.14it/s]\n",
      "100%|██████████| 53/53 [00:00<00:00, 316.93it/s]\n"
     ]
    },
    {
     "name": "stdout",
     "output_type": "stream",
     "text": [
      "Epoch:396/1000.. Train Loss: 0.027.. Val Loss: 0.187.. Test Loss: 0.117.. Time: 0.03m\n"
     ]
    },
    {
     "name": "stderr",
     "output_type": "stream",
     "text": [
      "100%|██████████| 107/107 [00:01<00:00, 64.70it/s]\n",
      "100%|██████████| 18/18 [00:00<00:00, 304.01it/s]\n",
      "100%|██████████| 53/53 [00:00<00:00, 303.72it/s]\n"
     ]
    },
    {
     "name": "stdout",
     "output_type": "stream",
     "text": [
      "Epoch:397/1000.. Train Loss: 0.030.. Val Loss: 0.193.. Test Loss: 0.128.. Time: 0.03m\n"
     ]
    },
    {
     "name": "stderr",
     "output_type": "stream",
     "text": [
      "100%|██████████| 107/107 [00:01<00:00, 65.51it/s]\n",
      "100%|██████████| 18/18 [00:00<00:00, 312.10it/s]\n",
      "100%|██████████| 53/53 [00:00<00:00, 319.28it/s]\n"
     ]
    },
    {
     "name": "stdout",
     "output_type": "stream",
     "text": [
      "Epoch:398/1000.. Train Loss: 0.030.. Val Loss: 0.182.. Test Loss: 0.111.. Time: 0.03m\n"
     ]
    },
    {
     "name": "stderr",
     "output_type": "stream",
     "text": [
      "100%|██████████| 107/107 [00:01<00:00, 62.31it/s]\n",
      "100%|██████████| 18/18 [00:00<00:00, 304.67it/s]\n",
      "100%|██████████| 53/53 [00:00<00:00, 312.64it/s]\n"
     ]
    },
    {
     "name": "stdout",
     "output_type": "stream",
     "text": [
      "Epoch:399/1000.. Train Loss: 0.030.. Val Loss: 0.174.. Test Loss: 0.100.. Time: 0.03m\n"
     ]
    },
    {
     "name": "stderr",
     "output_type": "stream",
     "text": [
      "100%|██████████| 107/107 [00:01<00:00, 65.22it/s]\n",
      "100%|██████████| 18/18 [00:00<00:00, 317.26it/s]\n",
      "100%|██████████| 53/53 [00:00<00:00, 317.57it/s]\n"
     ]
    },
    {
     "name": "stdout",
     "output_type": "stream",
     "text": [
      "Epoch:400/1000.. Train Loss: 0.032.. Val Loss: 0.190.. Test Loss: 0.110.. Time: 0.03m\n"
     ]
    },
    {
     "name": "stderr",
     "output_type": "stream",
     "text": [
      "100%|██████████| 107/107 [00:01<00:00, 63.41it/s]\n",
      "100%|██████████| 18/18 [00:00<00:00, 313.94it/s]\n",
      "100%|██████████| 53/53 [00:00<00:00, 318.73it/s]\n"
     ]
    },
    {
     "name": "stdout",
     "output_type": "stream",
     "text": [
      "Epoch:401/1000.. Train Loss: 0.027.. Val Loss: 0.162.. Test Loss: 0.119.. Time: 0.03m\n"
     ]
    },
    {
     "name": "stderr",
     "output_type": "stream",
     "text": [
      "100%|██████████| 107/107 [00:01<00:00, 66.41it/s]\n",
      "100%|██████████| 18/18 [00:00<00:00, 314.38it/s]\n",
      "100%|██████████| 53/53 [00:00<00:00, 318.43it/s]\n"
     ]
    },
    {
     "name": "stdout",
     "output_type": "stream",
     "text": [
      "Epoch:402/1000.. Train Loss: 0.028.. Val Loss: 0.175.. Test Loss: 0.114.. Time: 0.03m\n"
     ]
    },
    {
     "name": "stderr",
     "output_type": "stream",
     "text": [
      "100%|██████████| 107/107 [00:01<00:00, 61.92it/s]\n",
      "100%|██████████| 18/18 [00:00<00:00, 323.77it/s]\n",
      "100%|██████████| 53/53 [00:00<00:00, 313.37it/s]\n"
     ]
    },
    {
     "name": "stdout",
     "output_type": "stream",
     "text": [
      "Epoch:403/1000.. Train Loss: 0.029.. Val Loss: 0.154.. Test Loss: 0.117.. Time: 0.03m\n"
     ]
    },
    {
     "name": "stderr",
     "output_type": "stream",
     "text": [
      "100%|██████████| 107/107 [00:01<00:00, 65.22it/s]\n",
      "100%|██████████| 18/18 [00:00<00:00, 316.44it/s]\n",
      "100%|██████████| 53/53 [00:00<00:00, 320.32it/s]\n"
     ]
    },
    {
     "name": "stdout",
     "output_type": "stream",
     "text": [
      "Epoch:404/1000.. Train Loss: 0.024.. Val Loss: 0.167.. Test Loss: 0.113.. Time: 0.03m\n"
     ]
    },
    {
     "name": "stderr",
     "output_type": "stream",
     "text": [
      "100%|██████████| 107/107 [00:01<00:00, 65.23it/s]\n",
      "100%|██████████| 18/18 [00:00<00:00, 311.54it/s]\n",
      "100%|██████████| 53/53 [00:00<00:00, 318.62it/s]\n"
     ]
    },
    {
     "name": "stdout",
     "output_type": "stream",
     "text": [
      "Epoch:405/1000.. Train Loss: 0.026.. Val Loss: 0.187.. Test Loss: 0.116.. Time: 0.03m\n"
     ]
    },
    {
     "name": "stderr",
     "output_type": "stream",
     "text": [
      "100%|██████████| 107/107 [00:01<00:00, 63.00it/s]\n",
      "100%|██████████| 18/18 [00:00<00:00, 312.26it/s]\n",
      "100%|██████████| 53/53 [00:00<00:00, 315.53it/s]\n"
     ]
    },
    {
     "name": "stdout",
     "output_type": "stream",
     "text": [
      "Epoch:406/1000.. Train Loss: 0.028.. Val Loss: 0.162.. Test Loss: 0.130.. Time: 0.03m\n"
     ]
    },
    {
     "name": "stderr",
     "output_type": "stream",
     "text": [
      "100%|██████████| 107/107 [00:01<00:00, 63.41it/s]\n",
      "100%|██████████| 18/18 [00:00<00:00, 313.25it/s]\n",
      "100%|██████████| 53/53 [00:00<00:00, 307.00it/s]\n"
     ]
    },
    {
     "name": "stdout",
     "output_type": "stream",
     "text": [
      "Epoch:407/1000.. Train Loss: 0.027.. Val Loss: 0.177.. Test Loss: 0.121.. Time: 0.03m\n"
     ]
    },
    {
     "name": "stderr",
     "output_type": "stream",
     "text": [
      "100%|██████████| 107/107 [00:01<00:00, 63.55it/s]\n",
      "100%|██████████| 18/18 [00:00<00:00, 309.21it/s]\n",
      "100%|██████████| 53/53 [00:00<00:00, 316.35it/s]\n"
     ]
    },
    {
     "name": "stdout",
     "output_type": "stream",
     "text": [
      "Epoch:408/1000.. Train Loss: 0.031.. Val Loss: 0.180.. Test Loss: 0.105.. Time: 0.03m\n"
     ]
    },
    {
     "name": "stderr",
     "output_type": "stream",
     "text": [
      "100%|██████████| 107/107 [00:01<00:00, 63.72it/s]\n",
      "100%|██████████| 18/18 [00:00<00:00, 313.49it/s]\n",
      "100%|██████████| 53/53 [00:00<00:00, 315.38it/s]\n"
     ]
    },
    {
     "name": "stdout",
     "output_type": "stream",
     "text": [
      "Epoch:409/1000.. Train Loss: 0.030.. Val Loss: 0.183.. Test Loss: 0.118.. Time: 0.03m\n"
     ]
    },
    {
     "name": "stderr",
     "output_type": "stream",
     "text": [
      "100%|██████████| 107/107 [00:01<00:00, 60.95it/s]\n",
      "100%|██████████| 18/18 [00:00<00:00, 297.67it/s]\n",
      "100%|██████████| 53/53 [00:00<00:00, 314.00it/s]\n"
     ]
    },
    {
     "name": "stdout",
     "output_type": "stream",
     "text": [
      "Epoch:410/1000.. Train Loss: 0.027.. Val Loss: 0.199.. Test Loss: 0.112.. Time: 0.03m\n"
     ]
    },
    {
     "name": "stderr",
     "output_type": "stream",
     "text": [
      "100%|██████████| 107/107 [00:01<00:00, 61.30it/s]\n",
      "100%|██████████| 18/18 [00:00<00:00, 317.43it/s]\n",
      "100%|██████████| 53/53 [00:00<00:00, 303.27it/s]\n"
     ]
    },
    {
     "name": "stdout",
     "output_type": "stream",
     "text": [
      "Epoch:411/1000.. Train Loss: 0.030.. Val Loss: 0.198.. Test Loss: 0.121.. Time: 0.03m\n"
     ]
    },
    {
     "name": "stderr",
     "output_type": "stream",
     "text": [
      "100%|██████████| 107/107 [00:01<00:00, 64.74it/s]\n",
      "100%|██████████| 18/18 [00:00<00:00, 308.42it/s]\n",
      "100%|██████████| 53/53 [00:00<00:00, 312.39it/s]\n"
     ]
    },
    {
     "name": "stdout",
     "output_type": "stream",
     "text": [
      "Epoch:412/1000.. Train Loss: 0.025.. Val Loss: 0.183.. Test Loss: 0.115.. Time: 0.03m\n"
     ]
    },
    {
     "name": "stderr",
     "output_type": "stream",
     "text": [
      "100%|██████████| 107/107 [00:01<00:00, 63.40it/s]\n",
      "100%|██████████| 18/18 [00:00<00:00, 318.34it/s]\n",
      "100%|██████████| 53/53 [00:00<00:00, 318.04it/s]\n"
     ]
    },
    {
     "name": "stdout",
     "output_type": "stream",
     "text": [
      "Epoch:413/1000.. Train Loss: 0.028.. Val Loss: 0.190.. Test Loss: 0.108.. Time: 0.03m\n"
     ]
    },
    {
     "name": "stderr",
     "output_type": "stream",
     "text": [
      "100%|██████████| 107/107 [00:01<00:00, 62.86it/s]\n",
      "100%|██████████| 18/18 [00:00<00:00, 308.28it/s]\n",
      "100%|██████████| 53/53 [00:00<00:00, 314.55it/s]\n"
     ]
    },
    {
     "name": "stdout",
     "output_type": "stream",
     "text": [
      "Epoch:414/1000.. Train Loss: 0.026.. Val Loss: 0.183.. Test Loss: 0.109.. Time: 0.03m\n"
     ]
    },
    {
     "name": "stderr",
     "output_type": "stream",
     "text": [
      "100%|██████████| 107/107 [00:01<00:00, 63.92it/s]\n",
      "100%|██████████| 18/18 [00:00<00:00, 322.93it/s]\n",
      "100%|██████████| 53/53 [00:00<00:00, 319.09it/s]\n"
     ]
    },
    {
     "name": "stdout",
     "output_type": "stream",
     "text": [
      "Epoch:415/1000.. Train Loss: 0.026.. Val Loss: 0.171.. Test Loss: 0.109.. Time: 0.03m\n"
     ]
    },
    {
     "name": "stderr",
     "output_type": "stream",
     "text": [
      "100%|██████████| 107/107 [00:01<00:00, 65.04it/s]\n",
      "100%|██████████| 18/18 [00:00<00:00, 305.16it/s]\n",
      "100%|██████████| 53/53 [00:00<00:00, 315.53it/s]\n"
     ]
    },
    {
     "name": "stdout",
     "output_type": "stream",
     "text": [
      "Epoch:416/1000.. Train Loss: 0.030.. Val Loss: 0.176.. Test Loss: 0.113.. Time: 0.03m\n"
     ]
    },
    {
     "name": "stderr",
     "output_type": "stream",
     "text": [
      "100%|██████████| 107/107 [00:01<00:00, 64.77it/s]\n",
      "100%|██████████| 18/18 [00:00<00:00, 285.03it/s]\n",
      "100%|██████████| 53/53 [00:00<00:00, 322.06it/s]\n"
     ]
    },
    {
     "name": "stdout",
     "output_type": "stream",
     "text": [
      "Epoch:417/1000.. Train Loss: 0.028.. Val Loss: 0.168.. Test Loss: 0.111.. Time: 0.03m\n"
     ]
    },
    {
     "name": "stderr",
     "output_type": "stream",
     "text": [
      "100%|██████████| 107/107 [00:01<00:00, 63.64it/s]\n",
      "100%|██████████| 18/18 [00:00<00:00, 309.63it/s]\n",
      "100%|██████████| 53/53 [00:00<00:00, 313.06it/s]\n"
     ]
    },
    {
     "name": "stdout",
     "output_type": "stream",
     "text": [
      "Epoch:418/1000.. Train Loss: 0.029.. Val Loss: 0.172.. Test Loss: 0.118.. Time: 0.03m\n"
     ]
    },
    {
     "name": "stderr",
     "output_type": "stream",
     "text": [
      "100%|██████████| 107/107 [00:01<00:00, 65.45it/s]\n",
      "100%|██████████| 18/18 [00:00<00:00, 309.54it/s]\n",
      "100%|██████████| 53/53 [00:00<00:00, 316.10it/s]\n"
     ]
    },
    {
     "name": "stdout",
     "output_type": "stream",
     "text": [
      "Epoch:419/1000.. Train Loss: 0.025.. Val Loss: 0.185.. Test Loss: 0.123.. Time: 0.03m\n"
     ]
    },
    {
     "name": "stderr",
     "output_type": "stream",
     "text": [
      "100%|██████████| 107/107 [00:01<00:00, 63.20it/s]\n",
      "100%|██████████| 18/18 [00:00<00:00, 307.83it/s]\n",
      "100%|██████████| 53/53 [00:00<00:00, 316.84it/s]\n"
     ]
    },
    {
     "name": "stdout",
     "output_type": "stream",
     "text": [
      "Epoch:420/1000.. Train Loss: 0.025.. Val Loss: 0.182.. Test Loss: 0.119.. Time: 0.03m\n"
     ]
    },
    {
     "name": "stderr",
     "output_type": "stream",
     "text": [
      "100%|██████████| 107/107 [00:01<00:00, 57.20it/s]\n",
      "100%|██████████| 18/18 [00:00<00:00, 276.55it/s]\n",
      "100%|██████████| 53/53 [00:00<00:00, 314.77it/s]\n"
     ]
    },
    {
     "name": "stdout",
     "output_type": "stream",
     "text": [
      "Epoch:421/1000.. Train Loss: 0.025.. Val Loss: 0.180.. Test Loss: 0.127.. Time: 0.04m\n"
     ]
    },
    {
     "name": "stderr",
     "output_type": "stream",
     "text": [
      "100%|██████████| 107/107 [00:01<00:00, 63.26it/s]\n",
      "100%|██████████| 18/18 [00:00<00:00, 312.83it/s]\n",
      "100%|██████████| 53/53 [00:00<00:00, 323.94it/s]\n"
     ]
    },
    {
     "name": "stdout",
     "output_type": "stream",
     "text": [
      "Epoch:422/1000.. Train Loss: 0.028.. Val Loss: 0.187.. Test Loss: 0.135.. Time: 0.03m\n"
     ]
    },
    {
     "name": "stderr",
     "output_type": "stream",
     "text": [
      "100%|██████████| 107/107 [00:01<00:00, 64.78it/s]\n",
      "100%|██████████| 18/18 [00:00<00:00, 320.12it/s]\n",
      "100%|██████████| 53/53 [00:00<00:00, 319.96it/s]\n"
     ]
    },
    {
     "name": "stdout",
     "output_type": "stream",
     "text": [
      "Epoch:423/1000.. Train Loss: 0.026.. Val Loss: 0.213.. Test Loss: 0.117.. Time: 0.03m\n"
     ]
    },
    {
     "name": "stderr",
     "output_type": "stream",
     "text": [
      "100%|██████████| 107/107 [00:01<00:00, 59.07it/s]\n",
      "100%|██████████| 18/18 [00:00<00:00, 260.67it/s]\n",
      "100%|██████████| 53/53 [00:00<00:00, 266.06it/s]\n"
     ]
    },
    {
     "name": "stdout",
     "output_type": "stream",
     "text": [
      "Epoch:424/1000.. Train Loss: 0.024.. Val Loss: 0.193.. Test Loss: 0.113.. Time: 0.03m\n"
     ]
    },
    {
     "name": "stderr",
     "output_type": "stream",
     "text": [
      "100%|██████████| 107/107 [00:01<00:00, 65.40it/s]\n",
      "100%|██████████| 18/18 [00:00<00:00, 311.61it/s]\n",
      "100%|██████████| 53/53 [00:00<00:00, 313.93it/s]\n"
     ]
    },
    {
     "name": "stdout",
     "output_type": "stream",
     "text": [
      "Epoch:425/1000.. Train Loss: 0.026.. Val Loss: 0.216.. Test Loss: 0.125.. Time: 0.03m\n"
     ]
    },
    {
     "name": "stderr",
     "output_type": "stream",
     "text": [
      "100%|██████████| 107/107 [00:01<00:00, 62.84it/s]\n",
      "100%|██████████| 18/18 [00:00<00:00, 267.75it/s]\n",
      "100%|██████████| 53/53 [00:00<00:00, 311.16it/s]\n"
     ]
    },
    {
     "name": "stdout",
     "output_type": "stream",
     "text": [
      "Epoch:426/1000.. Train Loss: 0.032.. Val Loss: 0.199.. Test Loss: 0.112.. Time: 0.03m\n"
     ]
    },
    {
     "name": "stderr",
     "output_type": "stream",
     "text": [
      "100%|██████████| 107/107 [00:01<00:00, 64.93it/s]\n",
      "100%|██████████| 18/18 [00:00<00:00, 301.57it/s]\n",
      "100%|██████████| 53/53 [00:00<00:00, 310.03it/s]\n"
     ]
    },
    {
     "name": "stdout",
     "output_type": "stream",
     "text": [
      "Epoch:427/1000.. Train Loss: 0.031.. Val Loss: 0.185.. Test Loss: 0.116.. Time: 0.03m\n"
     ]
    },
    {
     "name": "stderr",
     "output_type": "stream",
     "text": [
      "100%|██████████| 107/107 [00:01<00:00, 63.82it/s]\n",
      "100%|██████████| 18/18 [00:00<00:00, 308.29it/s]\n",
      "100%|██████████| 53/53 [00:00<00:00, 314.78it/s]\n"
     ]
    },
    {
     "name": "stdout",
     "output_type": "stream",
     "text": [
      "Epoch:428/1000.. Train Loss: 0.025.. Val Loss: 0.208.. Test Loss: 0.119.. Time: 0.03m\n"
     ]
    },
    {
     "name": "stderr",
     "output_type": "stream",
     "text": [
      "100%|██████████| 107/107 [00:01<00:00, 65.26it/s]\n",
      "100%|██████████| 18/18 [00:00<00:00, 311.02it/s]\n",
      "100%|██████████| 53/53 [00:00<00:00, 310.87it/s]\n"
     ]
    },
    {
     "name": "stdout",
     "output_type": "stream",
     "text": [
      "Epoch:429/1000.. Train Loss: 0.025.. Val Loss: 0.193.. Test Loss: 0.111.. Time: 0.03m\n"
     ]
    },
    {
     "name": "stderr",
     "output_type": "stream",
     "text": [
      "100%|██████████| 107/107 [00:01<00:00, 57.51it/s]\n",
      "100%|██████████| 18/18 [00:00<00:00, 320.00it/s]\n",
      "100%|██████████| 53/53 [00:00<00:00, 315.37it/s]\n"
     ]
    },
    {
     "name": "stdout",
     "output_type": "stream",
     "text": [
      "Epoch:430/1000.. Train Loss: 0.029.. Val Loss: 0.188.. Test Loss: 0.102.. Time: 0.03m\n"
     ]
    },
    {
     "name": "stderr",
     "output_type": "stream",
     "text": [
      "100%|██████████| 107/107 [00:01<00:00, 65.42it/s]\n",
      "100%|██████████| 18/18 [00:00<00:00, 297.14it/s]\n",
      "100%|██████████| 53/53 [00:00<00:00, 298.79it/s]\n"
     ]
    },
    {
     "name": "stdout",
     "output_type": "stream",
     "text": [
      "Epoch:431/1000.. Train Loss: 0.034.. Val Loss: 0.174.. Test Loss: 0.085.. Time: 0.03m\n"
     ]
    },
    {
     "name": "stderr",
     "output_type": "stream",
     "text": [
      "100%|██████████| 107/107 [00:01<00:00, 60.83it/s]\n",
      "100%|██████████| 18/18 [00:00<00:00, 277.02it/s]\n",
      "100%|██████████| 53/53 [00:00<00:00, 315.27it/s]\n"
     ]
    },
    {
     "name": "stdout",
     "output_type": "stream",
     "text": [
      "Epoch:432/1000.. Train Loss: 0.037.. Val Loss: 0.181.. Test Loss: 0.089.. Time: 0.03m\n"
     ]
    },
    {
     "name": "stderr",
     "output_type": "stream",
     "text": [
      "100%|██████████| 107/107 [00:01<00:00, 63.00it/s]\n",
      "100%|██████████| 18/18 [00:00<00:00, 327.58it/s]\n",
      "100%|██████████| 53/53 [00:00<00:00, 316.57it/s]\n"
     ]
    },
    {
     "name": "stdout",
     "output_type": "stream",
     "text": [
      "Epoch:433/1000.. Train Loss: 0.028.. Val Loss: 0.205.. Test Loss: 0.104.. Time: 0.03m\n"
     ]
    },
    {
     "name": "stderr",
     "output_type": "stream",
     "text": [
      "100%|██████████| 107/107 [00:01<00:00, 64.14it/s]\n",
      "100%|██████████| 18/18 [00:00<00:00, 318.37it/s]\n",
      "100%|██████████| 53/53 [00:00<00:00, 308.80it/s]\n"
     ]
    },
    {
     "name": "stdout",
     "output_type": "stream",
     "text": [
      "Epoch:434/1000.. Train Loss: 0.024.. Val Loss: 0.185.. Test Loss: 0.112.. Time: 0.03m\n"
     ]
    },
    {
     "name": "stderr",
     "output_type": "stream",
     "text": [
      "100%|██████████| 107/107 [00:01<00:00, 61.74it/s]\n",
      "100%|██████████| 18/18 [00:00<00:00, 308.21it/s]\n",
      "100%|██████████| 53/53 [00:00<00:00, 306.38it/s]\n"
     ]
    },
    {
     "name": "stdout",
     "output_type": "stream",
     "text": [
      "Epoch:435/1000.. Train Loss: 0.025.. Val Loss: 0.210.. Test Loss: 0.111.. Time: 0.03m\n"
     ]
    },
    {
     "name": "stderr",
     "output_type": "stream",
     "text": [
      "100%|██████████| 107/107 [00:01<00:00, 65.64it/s]\n",
      "100%|██████████| 18/18 [00:00<00:00, 307.59it/s]\n",
      "100%|██████████| 53/53 [00:00<00:00, 311.48it/s]\n"
     ]
    },
    {
     "name": "stdout",
     "output_type": "stream",
     "text": [
      "Epoch:436/1000.. Train Loss: 0.028.. Val Loss: 0.206.. Test Loss: 0.116.. Time: 0.03m\n"
     ]
    },
    {
     "name": "stderr",
     "output_type": "stream",
     "text": [
      "100%|██████████| 107/107 [00:01<00:00, 60.17it/s]\n",
      "100%|██████████| 18/18 [00:00<00:00, 311.63it/s]\n",
      "100%|██████████| 53/53 [00:00<00:00, 317.53it/s]\n"
     ]
    },
    {
     "name": "stdout",
     "output_type": "stream",
     "text": [
      "Epoch:437/1000.. Train Loss: 0.024.. Val Loss: 0.175.. Test Loss: 0.107.. Time: 0.03m\n"
     ]
    },
    {
     "name": "stderr",
     "output_type": "stream",
     "text": [
      "100%|██████████| 107/107 [00:01<00:00, 64.02it/s]\n",
      "100%|██████████| 18/18 [00:00<00:00, 315.40it/s]\n",
      "100%|██████████| 53/53 [00:00<00:00, 319.55it/s]\n"
     ]
    },
    {
     "name": "stdout",
     "output_type": "stream",
     "text": [
      "Epoch:438/1000.. Train Loss: 0.020.. Val Loss: 0.172.. Test Loss: 0.112.. Time: 0.03m\n"
     ]
    },
    {
     "name": "stderr",
     "output_type": "stream",
     "text": [
      "100%|██████████| 107/107 [00:01<00:00, 64.33it/s]\n",
      "100%|██████████| 18/18 [00:00<00:00, 309.26it/s]\n",
      "100%|██████████| 53/53 [00:00<00:00, 313.21it/s]\n"
     ]
    },
    {
     "name": "stdout",
     "output_type": "stream",
     "text": [
      "Epoch:439/1000.. Train Loss: 0.030.. Val Loss: 0.175.. Test Loss: 0.109.. Time: 0.03m\n"
     ]
    },
    {
     "name": "stderr",
     "output_type": "stream",
     "text": [
      "100%|██████████| 107/107 [00:01<00:00, 66.08it/s]\n",
      "100%|██████████| 18/18 [00:00<00:00, 313.33it/s]\n",
      "100%|██████████| 53/53 [00:00<00:00, 318.25it/s]\n"
     ]
    },
    {
     "name": "stdout",
     "output_type": "stream",
     "text": [
      "Epoch:440/1000.. Train Loss: 0.025.. Val Loss: 0.183.. Test Loss: 0.118.. Time: 0.03m\n"
     ]
    },
    {
     "name": "stderr",
     "output_type": "stream",
     "text": [
      "100%|██████████| 107/107 [00:01<00:00, 64.15it/s]\n",
      "100%|██████████| 18/18 [00:00<00:00, 322.91it/s]\n",
      "100%|██████████| 53/53 [00:00<00:00, 317.27it/s]\n"
     ]
    },
    {
     "name": "stdout",
     "output_type": "stream",
     "text": [
      "Epoch:441/1000.. Train Loss: 0.026.. Val Loss: 0.155.. Test Loss: 0.109.. Time: 0.03m\n"
     ]
    },
    {
     "name": "stderr",
     "output_type": "stream",
     "text": [
      "100%|██████████| 107/107 [00:01<00:00, 63.54it/s]\n",
      "100%|██████████| 18/18 [00:00<00:00, 315.98it/s]\n",
      "100%|██████████| 53/53 [00:00<00:00, 310.45it/s]\n"
     ]
    },
    {
     "name": "stdout",
     "output_type": "stream",
     "text": [
      "Epoch:442/1000.. Train Loss: 0.025.. Val Loss: 0.170.. Test Loss: 0.113.. Time: 0.03m\n"
     ]
    },
    {
     "name": "stderr",
     "output_type": "stream",
     "text": [
      "100%|██████████| 107/107 [00:01<00:00, 62.63it/s]\n",
      "100%|██████████| 18/18 [00:00<00:00, 311.67it/s]\n",
      "100%|██████████| 53/53 [00:00<00:00, 310.53it/s]\n"
     ]
    },
    {
     "name": "stdout",
     "output_type": "stream",
     "text": [
      "Epoch:443/1000.. Train Loss: 0.028.. Val Loss: 0.180.. Test Loss: 0.112.. Time: 0.03m\n"
     ]
    },
    {
     "name": "stderr",
     "output_type": "stream",
     "text": [
      "100%|██████████| 107/107 [00:01<00:00, 64.15it/s]\n",
      "100%|██████████| 18/18 [00:00<00:00, 317.45it/s]\n",
      "100%|██████████| 53/53 [00:00<00:00, 316.51it/s]\n"
     ]
    },
    {
     "name": "stdout",
     "output_type": "stream",
     "text": [
      "Epoch:444/1000.. Train Loss: 0.025.. Val Loss: 0.185.. Test Loss: 0.110.. Time: 0.03m\n"
     ]
    },
    {
     "name": "stderr",
     "output_type": "stream",
     "text": [
      "100%|██████████| 107/107 [00:01<00:00, 64.01it/s]\n",
      "100%|██████████| 18/18 [00:00<00:00, 311.67it/s]\n",
      "100%|██████████| 53/53 [00:00<00:00, 318.70it/s]\n"
     ]
    },
    {
     "name": "stdout",
     "output_type": "stream",
     "text": [
      "Epoch:445/1000.. Train Loss: 0.023.. Val Loss: 0.212.. Test Loss: 0.117.. Time: 0.03m\n"
     ]
    },
    {
     "name": "stderr",
     "output_type": "stream",
     "text": [
      "100%|██████████| 107/107 [00:01<00:00, 66.08it/s]\n",
      "100%|██████████| 18/18 [00:00<00:00, 314.88it/s]\n",
      "100%|██████████| 53/53 [00:00<00:00, 315.22it/s]\n"
     ]
    },
    {
     "name": "stdout",
     "output_type": "stream",
     "text": [
      "Epoch:446/1000.. Train Loss: 0.024.. Val Loss: 0.197.. Test Loss: 0.113.. Time: 0.03m\n"
     ]
    },
    {
     "name": "stderr",
     "output_type": "stream",
     "text": [
      "100%|██████████| 107/107 [00:01<00:00, 63.20it/s]\n",
      "100%|██████████| 18/18 [00:00<00:00, 311.57it/s]\n",
      "100%|██████████| 53/53 [00:00<00:00, 314.44it/s]\n"
     ]
    },
    {
     "name": "stdout",
     "output_type": "stream",
     "text": [
      "Epoch:447/1000.. Train Loss: 0.031.. Val Loss: 0.181.. Test Loss: 0.117.. Time: 0.03m\n"
     ]
    },
    {
     "name": "stderr",
     "output_type": "stream",
     "text": [
      "100%|██████████| 107/107 [00:01<00:00, 64.31it/s]\n",
      "100%|██████████| 18/18 [00:00<00:00, 317.16it/s]\n",
      "100%|██████████| 53/53 [00:00<00:00, 316.58it/s]\n"
     ]
    },
    {
     "name": "stdout",
     "output_type": "stream",
     "text": [
      "Epoch:448/1000.. Train Loss: 0.025.. Val Loss: 0.180.. Test Loss: 0.117.. Time: 0.03m\n"
     ]
    },
    {
     "name": "stderr",
     "output_type": "stream",
     "text": [
      "100%|██████████| 107/107 [00:01<00:00, 60.15it/s]\n",
      "100%|██████████| 18/18 [00:00<00:00, 314.13it/s]\n",
      "100%|██████████| 53/53 [00:00<00:00, 319.66it/s]\n"
     ]
    },
    {
     "name": "stdout",
     "output_type": "stream",
     "text": [
      "Epoch:449/1000.. Train Loss: 0.033.. Val Loss: 0.203.. Test Loss: 0.143.. Time: 0.03m\n"
     ]
    },
    {
     "name": "stderr",
     "output_type": "stream",
     "text": [
      "100%|██████████| 107/107 [00:01<00:00, 66.24it/s]\n",
      "100%|██████████| 18/18 [00:00<00:00, 322.06it/s]\n",
      "100%|██████████| 53/53 [00:00<00:00, 320.34it/s]\n"
     ]
    },
    {
     "name": "stdout",
     "output_type": "stream",
     "text": [
      "Epoch:450/1000.. Train Loss: 0.025.. Val Loss: 0.205.. Test Loss: 0.122.. Time: 0.03m\n"
     ]
    },
    {
     "name": "stderr",
     "output_type": "stream",
     "text": [
      "100%|██████████| 107/107 [00:01<00:00, 65.14it/s]\n",
      "100%|██████████| 18/18 [00:00<00:00, 300.78it/s]\n",
      "100%|██████████| 53/53 [00:00<00:00, 320.69it/s]\n"
     ]
    },
    {
     "name": "stdout",
     "output_type": "stream",
     "text": [
      "Epoch:451/1000.. Train Loss: 0.026.. Val Loss: 0.204.. Test Loss: 0.132.. Time: 0.03m\n"
     ]
    },
    {
     "name": "stderr",
     "output_type": "stream",
     "text": [
      "100%|██████████| 107/107 [00:01<00:00, 63.10it/s]\n",
      "100%|██████████| 18/18 [00:00<00:00, 272.49it/s]\n",
      "100%|██████████| 53/53 [00:00<00:00, 300.99it/s]\n"
     ]
    },
    {
     "name": "stdout",
     "output_type": "stream",
     "text": [
      "Epoch:452/1000.. Train Loss: 0.028.. Val Loss: 0.196.. Test Loss: 0.115.. Time: 0.03m\n"
     ]
    },
    {
     "name": "stderr",
     "output_type": "stream",
     "text": [
      "100%|██████████| 107/107 [00:01<00:00, 62.32it/s]\n",
      "100%|██████████| 18/18 [00:00<00:00, 308.60it/s]\n",
      "100%|██████████| 53/53 [00:00<00:00, 303.78it/s]\n"
     ]
    },
    {
     "name": "stdout",
     "output_type": "stream",
     "text": [
      "Epoch:453/1000.. Train Loss: 0.029.. Val Loss: 0.198.. Test Loss: 0.118.. Time: 0.03m\n"
     ]
    },
    {
     "name": "stderr",
     "output_type": "stream",
     "text": [
      "100%|██████████| 107/107 [00:01<00:00, 67.62it/s]\n",
      "100%|██████████| 18/18 [00:00<00:00, 317.47it/s]\n",
      "100%|██████████| 53/53 [00:00<00:00, 316.20it/s]\n"
     ]
    },
    {
     "name": "stdout",
     "output_type": "stream",
     "text": [
      "Epoch:454/1000.. Train Loss: 0.023.. Val Loss: 0.197.. Test Loss: 0.118.. Time: 0.03m\n"
     ]
    },
    {
     "name": "stderr",
     "output_type": "stream",
     "text": [
      "100%|██████████| 107/107 [00:01<00:00, 64.80it/s]\n",
      "100%|██████████| 18/18 [00:00<00:00, 314.44it/s]\n",
      "100%|██████████| 53/53 [00:00<00:00, 315.83it/s]\n"
     ]
    },
    {
     "name": "stdout",
     "output_type": "stream",
     "text": [
      "Epoch:455/1000.. Train Loss: 0.029.. Val Loss: 0.194.. Test Loss: 0.113.. Time: 0.03m\n"
     ]
    },
    {
     "name": "stderr",
     "output_type": "stream",
     "text": [
      "100%|██████████| 107/107 [00:01<00:00, 64.30it/s]\n",
      "100%|██████████| 18/18 [00:00<00:00, 315.36it/s]\n",
      "100%|██████████| 53/53 [00:00<00:00, 307.83it/s]\n"
     ]
    },
    {
     "name": "stdout",
     "output_type": "stream",
     "text": [
      "Epoch:456/1000.. Train Loss: 0.025.. Val Loss: 0.210.. Test Loss: 0.117.. Time: 0.03m\n"
     ]
    },
    {
     "name": "stderr",
     "output_type": "stream",
     "text": [
      "100%|██████████| 107/107 [00:01<00:00, 63.02it/s]\n",
      "100%|██████████| 18/18 [00:00<00:00, 306.82it/s]\n",
      "100%|██████████| 53/53 [00:00<00:00, 303.92it/s]\n"
     ]
    },
    {
     "name": "stdout",
     "output_type": "stream",
     "text": [
      "Epoch:457/1000.. Train Loss: 0.031.. Val Loss: 0.199.. Test Loss: 0.103.. Time: 0.03m\n"
     ]
    },
    {
     "name": "stderr",
     "output_type": "stream",
     "text": [
      "100%|██████████| 107/107 [00:01<00:00, 65.19it/s]\n",
      "100%|██████████| 18/18 [00:00<00:00, 311.83it/s]\n",
      "100%|██████████| 53/53 [00:00<00:00, 309.20it/s]\n"
     ]
    },
    {
     "name": "stdout",
     "output_type": "stream",
     "text": [
      "Epoch:458/1000.. Train Loss: 0.022.. Val Loss: 0.194.. Test Loss: 0.112.. Time: 0.03m\n"
     ]
    },
    {
     "name": "stderr",
     "output_type": "stream",
     "text": [
      "100%|██████████| 107/107 [00:01<00:00, 64.59it/s]\n",
      "100%|██████████| 18/18 [00:00<00:00, 309.37it/s]\n",
      "100%|██████████| 53/53 [00:00<00:00, 299.15it/s]\n"
     ]
    },
    {
     "name": "stdout",
     "output_type": "stream",
     "text": [
      "Epoch:459/1000.. Train Loss: 0.024.. Val Loss: 0.187.. Test Loss: 0.108.. Time: 0.03m\n"
     ]
    },
    {
     "name": "stderr",
     "output_type": "stream",
     "text": [
      "100%|██████████| 107/107 [00:01<00:00, 64.89it/s]\n",
      "100%|██████████| 18/18 [00:00<00:00, 272.51it/s]\n",
      "100%|██████████| 53/53 [00:00<00:00, 312.14it/s]\n"
     ]
    },
    {
     "name": "stdout",
     "output_type": "stream",
     "text": [
      "Epoch:460/1000.. Train Loss: 0.026.. Val Loss: 0.194.. Test Loss: 0.111.. Time: 0.03m\n"
     ]
    },
    {
     "name": "stderr",
     "output_type": "stream",
     "text": [
      "100%|██████████| 107/107 [00:01<00:00, 64.76it/s]\n",
      "100%|██████████| 18/18 [00:00<00:00, 311.71it/s]\n",
      "100%|██████████| 53/53 [00:00<00:00, 257.40it/s]\n"
     ]
    },
    {
     "name": "stdout",
     "output_type": "stream",
     "text": [
      "Epoch:461/1000.. Train Loss: 0.030.. Val Loss: 0.175.. Test Loss: 0.095.. Time: 0.03m\n"
     ]
    },
    {
     "name": "stderr",
     "output_type": "stream",
     "text": [
      "100%|██████████| 107/107 [00:01<00:00, 64.67it/s]\n",
      "100%|██████████| 18/18 [00:00<00:00, 316.86it/s]\n",
      "100%|██████████| 53/53 [00:00<00:00, 317.81it/s]\n"
     ]
    },
    {
     "name": "stdout",
     "output_type": "stream",
     "text": [
      "Epoch:462/1000.. Train Loss: 0.031.. Val Loss: 0.220.. Test Loss: 0.084.. Time: 0.03m\n"
     ]
    },
    {
     "name": "stderr",
     "output_type": "stream",
     "text": [
      "100%|██████████| 107/107 [00:01<00:00, 65.35it/s]\n",
      "100%|██████████| 18/18 [00:00<00:00, 312.95it/s]\n",
      "100%|██████████| 53/53 [00:00<00:00, 316.76it/s]\n"
     ]
    },
    {
     "name": "stdout",
     "output_type": "stream",
     "text": [
      "Epoch:463/1000.. Train Loss: 0.029.. Val Loss: 0.190.. Test Loss: 0.093.. Time: 0.03m\n"
     ]
    },
    {
     "name": "stderr",
     "output_type": "stream",
     "text": [
      "100%|██████████| 107/107 [00:01<00:00, 65.34it/s]\n",
      "100%|██████████| 18/18 [00:00<00:00, 314.17it/s]\n",
      "100%|██████████| 53/53 [00:00<00:00, 316.89it/s]\n"
     ]
    },
    {
     "name": "stdout",
     "output_type": "stream",
     "text": [
      "Epoch:464/1000.. Train Loss: 0.027.. Val Loss: 0.195.. Test Loss: 0.107.. Time: 0.03m\n"
     ]
    },
    {
     "name": "stderr",
     "output_type": "stream",
     "text": [
      "100%|██████████| 107/107 [00:01<00:00, 63.76it/s]\n",
      "100%|██████████| 18/18 [00:00<00:00, 316.94it/s]\n",
      "100%|██████████| 53/53 [00:00<00:00, 320.35it/s]\n"
     ]
    },
    {
     "name": "stdout",
     "output_type": "stream",
     "text": [
      "Epoch:465/1000.. Train Loss: 0.027.. Val Loss: 0.192.. Test Loss: 0.101.. Time: 0.03m\n"
     ]
    },
    {
     "name": "stderr",
     "output_type": "stream",
     "text": [
      "100%|██████████| 107/107 [00:01<00:00, 66.04it/s]\n",
      "100%|██████████| 18/18 [00:00<00:00, 312.80it/s]\n",
      "100%|██████████| 53/53 [00:00<00:00, 316.10it/s]\n"
     ]
    },
    {
     "name": "stdout",
     "output_type": "stream",
     "text": [
      "Epoch:466/1000.. Train Loss: 0.028.. Val Loss: 0.213.. Test Loss: 0.109.. Time: 0.03m\n"
     ]
    },
    {
     "name": "stderr",
     "output_type": "stream",
     "text": [
      "100%|██████████| 107/107 [00:01<00:00, 63.32it/s]\n",
      "100%|██████████| 18/18 [00:00<00:00, 312.34it/s]\n",
      "100%|██████████| 53/53 [00:00<00:00, 313.26it/s]\n"
     ]
    },
    {
     "name": "stdout",
     "output_type": "stream",
     "text": [
      "Epoch:467/1000.. Train Loss: 0.028.. Val Loss: 0.183.. Test Loss: 0.112.. Time: 0.03m\n"
     ]
    },
    {
     "name": "stderr",
     "output_type": "stream",
     "text": [
      "100%|██████████| 107/107 [00:01<00:00, 65.04it/s]\n",
      "100%|██████████| 18/18 [00:00<00:00, 315.95it/s]\n",
      "100%|██████████| 53/53 [00:00<00:00, 316.85it/s]\n"
     ]
    },
    {
     "name": "stdout",
     "output_type": "stream",
     "text": [
      "Epoch:468/1000.. Train Loss: 0.025.. Val Loss: 0.198.. Test Loss: 0.114.. Time: 0.03m\n"
     ]
    },
    {
     "name": "stderr",
     "output_type": "stream",
     "text": [
      "100%|██████████| 107/107 [00:01<00:00, 64.19it/s]\n",
      "100%|██████████| 18/18 [00:00<00:00, 310.21it/s]\n",
      "100%|██████████| 53/53 [00:00<00:00, 313.31it/s]\n"
     ]
    },
    {
     "name": "stdout",
     "output_type": "stream",
     "text": [
      "Epoch:469/1000.. Train Loss: 0.024.. Val Loss: 0.186.. Test Loss: 0.113.. Time: 0.03m\n"
     ]
    },
    {
     "name": "stderr",
     "output_type": "stream",
     "text": [
      "100%|██████████| 107/107 [00:01<00:00, 66.03it/s]\n",
      "100%|██████████| 18/18 [00:00<00:00, 305.92it/s]\n",
      "100%|██████████| 53/53 [00:00<00:00, 294.76it/s]\n"
     ]
    },
    {
     "name": "stdout",
     "output_type": "stream",
     "text": [
      "Epoch:470/1000.. Train Loss: 0.024.. Val Loss: 0.174.. Test Loss: 0.110.. Time: 0.03m\n"
     ]
    },
    {
     "name": "stderr",
     "output_type": "stream",
     "text": [
      "100%|██████████| 107/107 [00:01<00:00, 61.92it/s]\n",
      "100%|██████████| 18/18 [00:00<00:00, 311.21it/s]\n",
      "100%|██████████| 53/53 [00:00<00:00, 316.94it/s]\n"
     ]
    },
    {
     "name": "stdout",
     "output_type": "stream",
     "text": [
      "Epoch:471/1000.. Train Loss: 0.025.. Val Loss: 0.179.. Test Loss: 0.109.. Time: 0.03m\n"
     ]
    },
    {
     "name": "stderr",
     "output_type": "stream",
     "text": [
      "100%|██████████| 107/107 [00:01<00:00, 66.17it/s]\n",
      "100%|██████████| 18/18 [00:00<00:00, 312.30it/s]\n",
      "100%|██████████| 53/53 [00:00<00:00, 316.65it/s]\n"
     ]
    },
    {
     "name": "stdout",
     "output_type": "stream",
     "text": [
      "Epoch:472/1000.. Train Loss: 0.023.. Val Loss: 0.186.. Test Loss: 0.120.. Time: 0.03m\n"
     ]
    },
    {
     "name": "stderr",
     "output_type": "stream",
     "text": [
      "100%|██████████| 107/107 [00:01<00:00, 63.25it/s]\n",
      "100%|██████████| 18/18 [00:00<00:00, 324.93it/s]\n",
      "100%|██████████| 53/53 [00:00<00:00, 316.14it/s]\n"
     ]
    },
    {
     "name": "stdout",
     "output_type": "stream",
     "text": [
      "Epoch:473/1000.. Train Loss: 0.024.. Val Loss: 0.204.. Test Loss: 0.128.. Time: 0.03m\n"
     ]
    },
    {
     "name": "stderr",
     "output_type": "stream",
     "text": [
      "100%|██████████| 107/107 [00:01<00:00, 66.05it/s]\n",
      "100%|██████████| 18/18 [00:00<00:00, 303.07it/s]\n",
      "100%|██████████| 53/53 [00:00<00:00, 317.28it/s]\n"
     ]
    },
    {
     "name": "stdout",
     "output_type": "stream",
     "text": [
      "Epoch:474/1000.. Train Loss: 0.026.. Val Loss: 0.187.. Test Loss: 0.121.. Time: 0.03m\n"
     ]
    },
    {
     "name": "stderr",
     "output_type": "stream",
     "text": [
      "100%|██████████| 107/107 [00:01<00:00, 64.26it/s]\n",
      "100%|██████████| 18/18 [00:00<00:00, 311.30it/s]\n",
      "100%|██████████| 53/53 [00:00<00:00, 315.92it/s]\n"
     ]
    },
    {
     "name": "stdout",
     "output_type": "stream",
     "text": [
      "Epoch:475/1000.. Train Loss: 0.031.. Val Loss: 0.180.. Test Loss: 0.109.. Time: 0.03m\n"
     ]
    },
    {
     "name": "stderr",
     "output_type": "stream",
     "text": [
      "100%|██████████| 107/107 [00:01<00:00, 64.72it/s]\n",
      "100%|██████████| 18/18 [00:00<00:00, 303.62it/s]\n",
      "100%|██████████| 53/53 [00:00<00:00, 278.40it/s]\n"
     ]
    },
    {
     "name": "stdout",
     "output_type": "stream",
     "text": [
      "Epoch:476/1000.. Train Loss: 0.023.. Val Loss: 0.187.. Test Loss: 0.119.. Time: 0.03m\n"
     ]
    },
    {
     "name": "stderr",
     "output_type": "stream",
     "text": [
      "100%|██████████| 107/107 [00:01<00:00, 62.70it/s]\n",
      "100%|██████████| 18/18 [00:00<00:00, 310.23it/s]\n",
      "100%|██████████| 53/53 [00:00<00:00, 313.04it/s]\n"
     ]
    },
    {
     "name": "stdout",
     "output_type": "stream",
     "text": [
      "Epoch:477/1000.. Train Loss: 0.022.. Val Loss: 0.150.. Test Loss: 0.111.. Time: 0.03m\n"
     ]
    },
    {
     "name": "stderr",
     "output_type": "stream",
     "text": [
      "100%|██████████| 107/107 [00:01<00:00, 65.49it/s]\n",
      "100%|██████████| 18/18 [00:00<00:00, 303.06it/s]\n",
      "100%|██████████| 53/53 [00:00<00:00, 310.34it/s]\n"
     ]
    },
    {
     "name": "stdout",
     "output_type": "stream",
     "text": [
      "Epoch:478/1000.. Train Loss: 0.027.. Val Loss: 0.193.. Test Loss: 0.113.. Time: 0.03m\n"
     ]
    },
    {
     "name": "stderr",
     "output_type": "stream",
     "text": [
      "100%|██████████| 107/107 [00:01<00:00, 62.89it/s]\n",
      "100%|██████████| 18/18 [00:00<00:00, 319.05it/s]\n",
      "100%|██████████| 53/53 [00:00<00:00, 311.69it/s]\n"
     ]
    },
    {
     "name": "stdout",
     "output_type": "stream",
     "text": [
      "Epoch:479/1000.. Train Loss: 0.025.. Val Loss: 0.164.. Test Loss: 0.123.. Time: 0.03m\n"
     ]
    },
    {
     "name": "stderr",
     "output_type": "stream",
     "text": [
      "100%|██████████| 107/107 [00:01<00:00, 64.50it/s]\n",
      "100%|██████████| 18/18 [00:00<00:00, 322.53it/s]\n",
      "100%|██████████| 53/53 [00:00<00:00, 314.14it/s]\n"
     ]
    },
    {
     "name": "stdout",
     "output_type": "stream",
     "text": [
      "Epoch:480/1000.. Train Loss: 0.025.. Val Loss: 0.182.. Test Loss: 0.121.. Time: 0.03m\n"
     ]
    },
    {
     "name": "stderr",
     "output_type": "stream",
     "text": [
      "100%|██████████| 107/107 [00:01<00:00, 64.28it/s]\n",
      "100%|██████████| 18/18 [00:00<00:00, 318.42it/s]\n",
      "100%|██████████| 53/53 [00:00<00:00, 300.82it/s]\n"
     ]
    },
    {
     "name": "stdout",
     "output_type": "stream",
     "text": [
      "Epoch:481/1000.. Train Loss: 0.030.. Val Loss: 0.196.. Test Loss: 0.125.. Time: 0.03m\n"
     ]
    },
    {
     "name": "stderr",
     "output_type": "stream",
     "text": [
      "100%|██████████| 107/107 [00:01<00:00, 65.73it/s]\n",
      "100%|██████████| 18/18 [00:00<00:00, 304.62it/s]\n",
      "100%|██████████| 53/53 [00:00<00:00, 303.78it/s]\n"
     ]
    },
    {
     "name": "stdout",
     "output_type": "stream",
     "text": [
      "Epoch:482/1000.. Train Loss: 0.025.. Val Loss: 0.191.. Test Loss: 0.122.. Time: 0.03m\n"
     ]
    },
    {
     "name": "stderr",
     "output_type": "stream",
     "text": [
      "100%|██████████| 107/107 [00:01<00:00, 64.12it/s]\n",
      "100%|██████████| 18/18 [00:00<00:00, 317.25it/s]\n",
      "100%|██████████| 53/53 [00:00<00:00, 318.64it/s]\n"
     ]
    },
    {
     "name": "stdout",
     "output_type": "stream",
     "text": [
      "Epoch:483/1000.. Train Loss: 0.024.. Val Loss: 0.167.. Test Loss: 0.108.. Time: 0.03m\n"
     ]
    },
    {
     "name": "stderr",
     "output_type": "stream",
     "text": [
      "100%|██████████| 107/107 [00:01<00:00, 65.20it/s]\n",
      "100%|██████████| 18/18 [00:00<00:00, 314.33it/s]\n",
      "100%|██████████| 53/53 [00:00<00:00, 320.37it/s]\n"
     ]
    },
    {
     "name": "stdout",
     "output_type": "stream",
     "text": [
      "Epoch:484/1000.. Train Loss: 0.023.. Val Loss: 0.183.. Test Loss: 0.107.. Time: 0.03m\n"
     ]
    },
    {
     "name": "stderr",
     "output_type": "stream",
     "text": [
      "100%|██████████| 107/107 [00:01<00:00, 63.41it/s]\n",
      "100%|██████████| 18/18 [00:00<00:00, 312.78it/s]\n",
      "100%|██████████| 53/53 [00:00<00:00, 315.10it/s]\n"
     ]
    },
    {
     "name": "stdout",
     "output_type": "stream",
     "text": [
      "Epoch:485/1000.. Train Loss: 0.030.. Val Loss: 0.170.. Test Loss: 0.115.. Time: 0.03m\n"
     ]
    },
    {
     "name": "stderr",
     "output_type": "stream",
     "text": [
      "100%|██████████| 107/107 [00:01<00:00, 65.17it/s]\n",
      "100%|██████████| 18/18 [00:00<00:00, 308.93it/s]\n",
      "100%|██████████| 53/53 [00:00<00:00, 309.14it/s]\n"
     ]
    },
    {
     "name": "stdout",
     "output_type": "stream",
     "text": [
      "Epoch:486/1000.. Train Loss: 0.027.. Val Loss: 0.181.. Test Loss: 0.122.. Time: 0.03m\n"
     ]
    },
    {
     "name": "stderr",
     "output_type": "stream",
     "text": [
      "100%|██████████| 107/107 [00:01<00:00, 62.75it/s]\n",
      "100%|██████████| 18/18 [00:00<00:00, 313.55it/s]\n",
      "100%|██████████| 53/53 [00:00<00:00, 317.72it/s]\n"
     ]
    },
    {
     "name": "stdout",
     "output_type": "stream",
     "text": [
      "Epoch:487/1000.. Train Loss: 0.029.. Val Loss: 0.178.. Test Loss: 0.116.. Time: 0.03m\n"
     ]
    },
    {
     "name": "stderr",
     "output_type": "stream",
     "text": [
      "100%|██████████| 107/107 [00:01<00:00, 66.41it/s]\n",
      "100%|██████████| 18/18 [00:00<00:00, 306.52it/s]\n",
      "100%|██████████| 53/53 [00:00<00:00, 292.31it/s]\n"
     ]
    },
    {
     "name": "stdout",
     "output_type": "stream",
     "text": [
      "Epoch:488/1000.. Train Loss: 0.025.. Val Loss: 0.182.. Test Loss: 0.114.. Time: 0.03m\n"
     ]
    },
    {
     "name": "stderr",
     "output_type": "stream",
     "text": [
      "100%|██████████| 107/107 [00:01<00:00, 64.77it/s]\n",
      "100%|██████████| 18/18 [00:00<00:00, 313.23it/s]\n",
      "100%|██████████| 53/53 [00:00<00:00, 320.81it/s]\n"
     ]
    },
    {
     "name": "stdout",
     "output_type": "stream",
     "text": [
      "Epoch:489/1000.. Train Loss: 0.030.. Val Loss: 0.193.. Test Loss: 0.117.. Time: 0.03m\n"
     ]
    },
    {
     "name": "stderr",
     "output_type": "stream",
     "text": [
      "100%|██████████| 107/107 [00:01<00:00, 65.19it/s]\n",
      "100%|██████████| 18/18 [00:00<00:00, 310.62it/s]\n",
      "100%|██████████| 53/53 [00:00<00:00, 303.74it/s]\n"
     ]
    },
    {
     "name": "stdout",
     "output_type": "stream",
     "text": [
      "Epoch:490/1000.. Train Loss: 0.025.. Val Loss: 0.187.. Test Loss: 0.112.. Time: 0.03m\n"
     ]
    },
    {
     "name": "stderr",
     "output_type": "stream",
     "text": [
      "100%|██████████| 107/107 [00:01<00:00, 63.47it/s]\n",
      "100%|██████████| 18/18 [00:00<00:00, 316.41it/s]\n",
      "100%|██████████| 53/53 [00:00<00:00, 323.54it/s]\n"
     ]
    },
    {
     "name": "stdout",
     "output_type": "stream",
     "text": [
      "Epoch:491/1000.. Train Loss: 0.025.. Val Loss: 0.175.. Test Loss: 0.113.. Time: 0.03m\n"
     ]
    },
    {
     "name": "stderr",
     "output_type": "stream",
     "text": [
      "100%|██████████| 107/107 [00:01<00:00, 66.99it/s]\n",
      "100%|██████████| 18/18 [00:00<00:00, 366.58it/s]\n",
      "100%|██████████| 53/53 [00:00<00:00, 339.32it/s]\n"
     ]
    },
    {
     "name": "stdout",
     "output_type": "stream",
     "text": [
      "Epoch:492/1000.. Train Loss: 0.025.. Val Loss: 0.180.. Test Loss: 0.112.. Time: 0.03m\n"
     ]
    },
    {
     "name": "stderr",
     "output_type": "stream",
     "text": [
      "100%|██████████| 107/107 [00:01<00:00, 63.01it/s]\n",
      "100%|██████████| 18/18 [00:00<00:00, 324.27it/s]\n",
      "100%|██████████| 53/53 [00:00<00:00, 316.05it/s]\n"
     ]
    },
    {
     "name": "stdout",
     "output_type": "stream",
     "text": [
      "Epoch:493/1000.. Train Loss: 0.024.. Val Loss: 0.185.. Test Loss: 0.113.. Time: 0.03m\n"
     ]
    },
    {
     "name": "stderr",
     "output_type": "stream",
     "text": [
      "100%|██████████| 107/107 [00:01<00:00, 64.98it/s]\n",
      "100%|██████████| 18/18 [00:00<00:00, 319.84it/s]\n",
      "100%|██████████| 53/53 [00:00<00:00, 309.06it/s]\n"
     ]
    },
    {
     "name": "stdout",
     "output_type": "stream",
     "text": [
      "Epoch:494/1000.. Train Loss: 0.022.. Val Loss: 0.191.. Test Loss: 0.118.. Time: 0.03m\n"
     ]
    },
    {
     "name": "stderr",
     "output_type": "stream",
     "text": [
      "100%|██████████| 107/107 [00:01<00:00, 64.13it/s]\n",
      "100%|██████████| 18/18 [00:00<00:00, 307.51it/s]\n",
      "100%|██████████| 53/53 [00:00<00:00, 314.58it/s]\n"
     ]
    },
    {
     "name": "stdout",
     "output_type": "stream",
     "text": [
      "Epoch:495/1000.. Train Loss: 0.026.. Val Loss: 0.180.. Test Loss: 0.117.. Time: 0.03m\n"
     ]
    },
    {
     "name": "stderr",
     "output_type": "stream",
     "text": [
      "100%|██████████| 107/107 [00:01<00:00, 64.11it/s]\n",
      "100%|██████████| 18/18 [00:00<00:00, 304.15it/s]\n",
      "100%|██████████| 53/53 [00:00<00:00, 306.40it/s]\n"
     ]
    },
    {
     "name": "stdout",
     "output_type": "stream",
     "text": [
      "Epoch:496/1000.. Train Loss: 0.024.. Val Loss: 0.185.. Test Loss: 0.125.. Time: 0.03m\n"
     ]
    },
    {
     "name": "stderr",
     "output_type": "stream",
     "text": [
      "100%|██████████| 107/107 [00:01<00:00, 64.19it/s]\n",
      "100%|██████████| 18/18 [00:00<00:00, 318.30it/s]\n",
      "100%|██████████| 53/53 [00:00<00:00, 309.24it/s]\n"
     ]
    },
    {
     "name": "stdout",
     "output_type": "stream",
     "text": [
      "Epoch:497/1000.. Train Loss: 0.029.. Val Loss: 0.212.. Test Loss: 0.120.. Time: 0.03m\n"
     ]
    },
    {
     "name": "stderr",
     "output_type": "stream",
     "text": [
      "100%|██████████| 107/107 [00:01<00:00, 62.82it/s]\n",
      "100%|██████████| 18/18 [00:00<00:00, 245.42it/s]\n",
      "100%|██████████| 53/53 [00:00<00:00, 305.28it/s]\n"
     ]
    },
    {
     "name": "stdout",
     "output_type": "stream",
     "text": [
      "Epoch:498/1000.. Train Loss: 0.025.. Val Loss: 0.209.. Test Loss: 0.114.. Time: 0.03m\n"
     ]
    },
    {
     "name": "stderr",
     "output_type": "stream",
     "text": [
      "100%|██████████| 107/107 [00:01<00:00, 64.32it/s]\n",
      "100%|██████████| 18/18 [00:00<00:00, 318.71it/s]\n",
      "100%|██████████| 53/53 [00:00<00:00, 315.92it/s]\n"
     ]
    },
    {
     "name": "stdout",
     "output_type": "stream",
     "text": [
      "Epoch:499/1000.. Train Loss: 0.022.. Val Loss: 0.209.. Test Loss: 0.114.. Time: 0.03m\n"
     ]
    },
    {
     "name": "stderr",
     "output_type": "stream",
     "text": [
      "100%|██████████| 107/107 [00:01<00:00, 57.84it/s]\n",
      "100%|██████████| 18/18 [00:00<00:00, 259.44it/s]\n",
      "100%|██████████| 53/53 [00:00<00:00, 301.01it/s]\n"
     ]
    },
    {
     "name": "stdout",
     "output_type": "stream",
     "text": [
      "Epoch:500/1000.. Train Loss: 0.025.. Val Loss: 0.209.. Test Loss: 0.116.. Time: 0.04m\n"
     ]
    },
    {
     "name": "stderr",
     "output_type": "stream",
     "text": [
      "100%|██████████| 107/107 [00:01<00:00, 65.01it/s]\n",
      "100%|██████████| 18/18 [00:00<00:00, 316.00it/s]\n",
      "100%|██████████| 53/53 [00:00<00:00, 316.48it/s]\n"
     ]
    },
    {
     "name": "stdout",
     "output_type": "stream",
     "text": [
      "Epoch:501/1000.. Train Loss: 0.022.. Val Loss: 0.202.. Test Loss: 0.117.. Time: 0.03m\n"
     ]
    },
    {
     "name": "stderr",
     "output_type": "stream",
     "text": [
      "100%|██████████| 107/107 [00:01<00:00, 64.20it/s]\n",
      "100%|██████████| 18/18 [00:00<00:00, 318.60it/s]\n",
      "100%|██████████| 53/53 [00:00<00:00, 318.44it/s]\n"
     ]
    },
    {
     "name": "stdout",
     "output_type": "stream",
     "text": [
      "Epoch:502/1000.. Train Loss: 0.021.. Val Loss: 0.208.. Test Loss: 0.114.. Time: 0.03m\n"
     ]
    },
    {
     "name": "stderr",
     "output_type": "stream",
     "text": [
      "100%|██████████| 107/107 [00:01<00:00, 64.24it/s]\n",
      "100%|██████████| 18/18 [00:00<00:00, 312.64it/s]\n",
      "100%|██████████| 53/53 [00:00<00:00, 321.36it/s]\n"
     ]
    },
    {
     "name": "stdout",
     "output_type": "stream",
     "text": [
      "Epoch:503/1000.. Train Loss: 0.021.. Val Loss: 0.188.. Test Loss: 0.121.. Time: 0.03m\n"
     ]
    },
    {
     "name": "stderr",
     "output_type": "stream",
     "text": [
      "100%|██████████| 107/107 [00:01<00:00, 62.92it/s]\n",
      "100%|██████████| 18/18 [00:00<00:00, 314.91it/s]\n",
      "100%|██████████| 53/53 [00:00<00:00, 317.27it/s]\n"
     ]
    },
    {
     "name": "stdout",
     "output_type": "stream",
     "text": [
      "Epoch:504/1000.. Train Loss: 0.027.. Val Loss: 0.197.. Test Loss: 0.111.. Time: 0.03m\n"
     ]
    },
    {
     "name": "stderr",
     "output_type": "stream",
     "text": [
      "100%|██████████| 107/107 [00:01<00:00, 64.90it/s]\n",
      "100%|██████████| 18/18 [00:00<00:00, 319.48it/s]\n",
      "100%|██████████| 53/53 [00:00<00:00, 316.52it/s]\n"
     ]
    },
    {
     "name": "stdout",
     "output_type": "stream",
     "text": [
      "Epoch:505/1000.. Train Loss: 0.021.. Val Loss: 0.200.. Test Loss: 0.111.. Time: 0.03m\n"
     ]
    },
    {
     "name": "stderr",
     "output_type": "stream",
     "text": [
      "100%|██████████| 107/107 [00:01<00:00, 62.15it/s]\n",
      "100%|██████████| 18/18 [00:00<00:00, 306.75it/s]\n",
      "100%|██████████| 53/53 [00:00<00:00, 313.90it/s]\n"
     ]
    },
    {
     "name": "stdout",
     "output_type": "stream",
     "text": [
      "Epoch:506/1000.. Train Loss: 0.024.. Val Loss: 0.210.. Test Loss: 0.115.. Time: 0.03m\n"
     ]
    },
    {
     "name": "stderr",
     "output_type": "stream",
     "text": [
      "100%|██████████| 107/107 [00:01<00:00, 67.06it/s]\n",
      "100%|██████████| 18/18 [00:00<00:00, 312.41it/s]\n",
      "100%|██████████| 53/53 [00:00<00:00, 317.26it/s]\n"
     ]
    },
    {
     "name": "stdout",
     "output_type": "stream",
     "text": [
      "Epoch:507/1000.. Train Loss: 0.021.. Val Loss: 0.185.. Test Loss: 0.105.. Time: 0.03m\n"
     ]
    },
    {
     "name": "stderr",
     "output_type": "stream",
     "text": [
      "100%|██████████| 107/107 [00:01<00:00, 63.29it/s]\n",
      "100%|██████████| 18/18 [00:00<00:00, 322.25it/s]\n",
      "100%|██████████| 53/53 [00:00<00:00, 318.03it/s]\n"
     ]
    },
    {
     "name": "stdout",
     "output_type": "stream",
     "text": [
      "Epoch:508/1000.. Train Loss: 0.026.. Val Loss: 0.188.. Test Loss: 0.107.. Time: 0.03m\n"
     ]
    },
    {
     "name": "stderr",
     "output_type": "stream",
     "text": [
      "100%|██████████| 107/107 [00:01<00:00, 65.61it/s]\n",
      "100%|██████████| 18/18 [00:00<00:00, 319.98it/s]\n",
      "100%|██████████| 53/53 [00:00<00:00, 309.18it/s]\n"
     ]
    },
    {
     "name": "stdout",
     "output_type": "stream",
     "text": [
      "Epoch:509/1000.. Train Loss: 0.025.. Val Loss: 0.189.. Test Loss: 0.110.. Time: 0.03m\n"
     ]
    },
    {
     "name": "stderr",
     "output_type": "stream",
     "text": [
      "100%|██████████| 107/107 [00:01<00:00, 63.95it/s]\n",
      "100%|██████████| 18/18 [00:00<00:00, 318.74it/s]\n",
      "100%|██████████| 53/53 [00:00<00:00, 318.49it/s]\n"
     ]
    },
    {
     "name": "stdout",
     "output_type": "stream",
     "text": [
      "Epoch:510/1000.. Train Loss: 0.021.. Val Loss: 0.188.. Test Loss: 0.112.. Time: 0.03m\n"
     ]
    },
    {
     "name": "stderr",
     "output_type": "stream",
     "text": [
      "100%|██████████| 107/107 [00:01<00:00, 64.78it/s]\n",
      "100%|██████████| 18/18 [00:00<00:00, 296.00it/s]\n",
      "100%|██████████| 53/53 [00:00<00:00, 308.71it/s]\n"
     ]
    },
    {
     "name": "stdout",
     "output_type": "stream",
     "text": [
      "Epoch:511/1000.. Train Loss: 0.030.. Val Loss: 0.169.. Test Loss: 0.116.. Time: 0.03m\n"
     ]
    },
    {
     "name": "stderr",
     "output_type": "stream",
     "text": [
      "100%|██████████| 107/107 [00:01<00:00, 61.42it/s]\n",
      "100%|██████████| 18/18 [00:00<00:00, 308.26it/s]\n",
      "100%|██████████| 53/53 [00:00<00:00, 313.86it/s]\n"
     ]
    },
    {
     "name": "stdout",
     "output_type": "stream",
     "text": [
      "Epoch:512/1000.. Train Loss: 0.033.. Val Loss: 0.171.. Test Loss: 0.109.. Time: 0.03m\n"
     ]
    },
    {
     "name": "stderr",
     "output_type": "stream",
     "text": [
      "100%|██████████| 107/107 [00:01<00:00, 65.46it/s]\n",
      "100%|██████████| 18/18 [00:00<00:00, 312.38it/s]\n",
      "100%|██████████| 53/53 [00:00<00:00, 310.56it/s]\n"
     ]
    },
    {
     "name": "stdout",
     "output_type": "stream",
     "text": [
      "Epoch:513/1000.. Train Loss: 0.026.. Val Loss: 0.188.. Test Loss: 0.113.. Time: 0.03m\n"
     ]
    },
    {
     "name": "stderr",
     "output_type": "stream",
     "text": [
      "100%|██████████| 107/107 [00:01<00:00, 63.84it/s]\n",
      "100%|██████████| 18/18 [00:00<00:00, 312.11it/s]\n",
      "100%|██████████| 53/53 [00:00<00:00, 312.41it/s]\n"
     ]
    },
    {
     "name": "stdout",
     "output_type": "stream",
     "text": [
      "Epoch:514/1000.. Train Loss: 0.023.. Val Loss: 0.223.. Test Loss: 0.117.. Time: 0.03m\n"
     ]
    },
    {
     "name": "stderr",
     "output_type": "stream",
     "text": [
      "100%|██████████| 107/107 [00:01<00:00, 65.84it/s]\n",
      "100%|██████████| 18/18 [00:00<00:00, 309.82it/s]\n",
      "100%|██████████| 53/53 [00:00<00:00, 312.50it/s]\n"
     ]
    },
    {
     "name": "stdout",
     "output_type": "stream",
     "text": [
      "Epoch:515/1000.. Train Loss: 0.029.. Val Loss: 0.221.. Test Loss: 0.114.. Time: 0.03m\n"
     ]
    },
    {
     "name": "stderr",
     "output_type": "stream",
     "text": [
      "100%|██████████| 107/107 [00:01<00:00, 63.44it/s]\n",
      "100%|██████████| 18/18 [00:00<00:00, 316.61it/s]\n",
      "100%|██████████| 53/53 [00:00<00:00, 308.26it/s]\n"
     ]
    },
    {
     "name": "stdout",
     "output_type": "stream",
     "text": [
      "Epoch:516/1000.. Train Loss: 0.032.. Val Loss: 0.183.. Test Loss: 0.114.. Time: 0.03m\n"
     ]
    },
    {
     "name": "stderr",
     "output_type": "stream",
     "text": [
      "100%|██████████| 107/107 [00:01<00:00, 64.95it/s]\n",
      "100%|██████████| 18/18 [00:00<00:00, 314.14it/s]\n",
      "100%|██████████| 53/53 [00:00<00:00, 315.98it/s]\n"
     ]
    },
    {
     "name": "stdout",
     "output_type": "stream",
     "text": [
      "Epoch:517/1000.. Train Loss: 0.023.. Val Loss: 0.207.. Test Loss: 0.118.. Time: 0.03m\n"
     ]
    },
    {
     "name": "stderr",
     "output_type": "stream",
     "text": [
      "100%|██████████| 107/107 [00:01<00:00, 62.69it/s]\n",
      "100%|██████████| 18/18 [00:00<00:00, 312.46it/s]\n",
      "100%|██████████| 53/53 [00:00<00:00, 316.33it/s]\n"
     ]
    },
    {
     "name": "stdout",
     "output_type": "stream",
     "text": [
      "Epoch:518/1000.. Train Loss: 0.032.. Val Loss: 0.180.. Test Loss: 0.113.. Time: 0.03m\n"
     ]
    },
    {
     "name": "stderr",
     "output_type": "stream",
     "text": [
      "100%|██████████| 107/107 [00:01<00:00, 64.99it/s]\n",
      "100%|██████████| 18/18 [00:00<00:00, 282.61it/s]\n",
      "100%|██████████| 53/53 [00:00<00:00, 317.01it/s]\n"
     ]
    },
    {
     "name": "stdout",
     "output_type": "stream",
     "text": [
      "Epoch:519/1000.. Train Loss: 0.024.. Val Loss: 0.193.. Test Loss: 0.123.. Time: 0.03m\n"
     ]
    },
    {
     "name": "stderr",
     "output_type": "stream",
     "text": [
      "100%|██████████| 107/107 [00:01<00:00, 62.94it/s]\n",
      "100%|██████████| 18/18 [00:00<00:00, 318.78it/s]\n",
      "100%|██████████| 53/53 [00:00<00:00, 317.38it/s]\n"
     ]
    },
    {
     "name": "stdout",
     "output_type": "stream",
     "text": [
      "Epoch:520/1000.. Train Loss: 0.025.. Val Loss: 0.193.. Test Loss: 0.110.. Time: 0.03m\n"
     ]
    },
    {
     "name": "stderr",
     "output_type": "stream",
     "text": [
      "100%|██████████| 107/107 [00:01<00:00, 64.66it/s]\n",
      "100%|██████████| 18/18 [00:00<00:00, 309.19it/s]\n",
      "100%|██████████| 53/53 [00:00<00:00, 315.01it/s]\n"
     ]
    },
    {
     "name": "stdout",
     "output_type": "stream",
     "text": [
      "Epoch:521/1000.. Train Loss: 0.022.. Val Loss: 0.179.. Test Loss: 0.110.. Time: 0.03m\n"
     ]
    },
    {
     "name": "stderr",
     "output_type": "stream",
     "text": [
      "100%|██████████| 107/107 [00:01<00:00, 64.08it/s]\n",
      "100%|██████████| 18/18 [00:00<00:00, 314.86it/s]\n",
      "100%|██████████| 53/53 [00:00<00:00, 303.22it/s]\n"
     ]
    },
    {
     "name": "stdout",
     "output_type": "stream",
     "text": [
      "Epoch:522/1000.. Train Loss: 0.026.. Val Loss: 0.185.. Test Loss: 0.107.. Time: 0.03m\n"
     ]
    },
    {
     "name": "stderr",
     "output_type": "stream",
     "text": [
      "100%|██████████| 107/107 [00:01<00:00, 65.36it/s]\n",
      "100%|██████████| 18/18 [00:00<00:00, 317.27it/s]\n",
      "100%|██████████| 53/53 [00:00<00:00, 298.26it/s]\n"
     ]
    },
    {
     "name": "stdout",
     "output_type": "stream",
     "text": [
      "Epoch:523/1000.. Train Loss: 0.021.. Val Loss: 0.193.. Test Loss: 0.110.. Time: 0.03m\n"
     ]
    },
    {
     "name": "stderr",
     "output_type": "stream",
     "text": [
      "100%|██████████| 107/107 [00:01<00:00, 64.47it/s]\n",
      "100%|██████████| 18/18 [00:00<00:00, 315.15it/s]\n",
      "100%|██████████| 53/53 [00:00<00:00, 315.41it/s]\n"
     ]
    },
    {
     "name": "stdout",
     "output_type": "stream",
     "text": [
      "Epoch:524/1000.. Train Loss: 0.023.. Val Loss: 0.195.. Test Loss: 0.116.. Time: 0.03m\n"
     ]
    },
    {
     "name": "stderr",
     "output_type": "stream",
     "text": [
      "100%|██████████| 107/107 [00:01<00:00, 63.77it/s]\n",
      "100%|██████████| 18/18 [00:00<00:00, 314.98it/s]\n",
      "100%|██████████| 53/53 [00:00<00:00, 311.74it/s]\n"
     ]
    },
    {
     "name": "stdout",
     "output_type": "stream",
     "text": [
      "Epoch:525/1000.. Train Loss: 0.024.. Val Loss: 0.197.. Test Loss: 0.110.. Time: 0.03m\n"
     ]
    },
    {
     "name": "stderr",
     "output_type": "stream",
     "text": [
      "100%|██████████| 107/107 [00:01<00:00, 65.96it/s]\n",
      "100%|██████████| 18/18 [00:00<00:00, 313.75it/s]\n",
      "100%|██████████| 53/53 [00:00<00:00, 316.82it/s]\n"
     ]
    },
    {
     "name": "stdout",
     "output_type": "stream",
     "text": [
      "Epoch:526/1000.. Train Loss: 0.025.. Val Loss: 0.201.. Test Loss: 0.111.. Time: 0.03m\n"
     ]
    },
    {
     "name": "stderr",
     "output_type": "stream",
     "text": [
      "100%|██████████| 107/107 [00:01<00:00, 65.04it/s]\n",
      "100%|██████████| 18/18 [00:00<00:00, 295.28it/s]\n",
      "100%|██████████| 53/53 [00:00<00:00, 315.62it/s]\n"
     ]
    },
    {
     "name": "stdout",
     "output_type": "stream",
     "text": [
      "Epoch:527/1000.. Train Loss: 0.025.. Val Loss: 0.187.. Test Loss: 0.111.. Time: 0.03m\n"
     ]
    },
    {
     "name": "stderr",
     "output_type": "stream",
     "text": [
      "100%|██████████| 107/107 [00:01<00:00, 64.35it/s]\n",
      "100%|██████████| 18/18 [00:00<00:00, 312.00it/s]\n",
      "100%|██████████| 53/53 [00:00<00:00, 300.27it/s]\n"
     ]
    },
    {
     "name": "stdout",
     "output_type": "stream",
     "text": [
      "Epoch:528/1000.. Train Loss: 0.025.. Val Loss: 0.191.. Test Loss: 0.099.. Time: 0.03m\n"
     ]
    },
    {
     "name": "stderr",
     "output_type": "stream",
     "text": [
      "100%|██████████| 107/107 [00:01<00:00, 64.25it/s]\n",
      "100%|██████████| 18/18 [00:00<00:00, 305.28it/s]\n",
      "100%|██████████| 53/53 [00:00<00:00, 304.39it/s]\n"
     ]
    },
    {
     "name": "stdout",
     "output_type": "stream",
     "text": [
      "Epoch:529/1000.. Train Loss: 0.030.. Val Loss: 0.182.. Test Loss: 0.095.. Time: 0.03m\n"
     ]
    },
    {
     "name": "stderr",
     "output_type": "stream",
     "text": [
      "100%|██████████| 107/107 [00:01<00:00, 64.42it/s]\n",
      "100%|██████████| 18/18 [00:00<00:00, 315.24it/s]\n",
      "100%|██████████| 53/53 [00:00<00:00, 319.00it/s]\n"
     ]
    },
    {
     "name": "stdout",
     "output_type": "stream",
     "text": [
      "Epoch:530/1000.. Train Loss: 0.032.. Val Loss: 0.181.. Test Loss: 0.098.. Time: 0.03m\n"
     ]
    },
    {
     "name": "stderr",
     "output_type": "stream",
     "text": [
      "100%|██████████| 107/107 [00:01<00:00, 64.63it/s]\n",
      "100%|██████████| 18/18 [00:00<00:00, 310.15it/s]\n",
      "100%|██████████| 53/53 [00:00<00:00, 314.04it/s]\n"
     ]
    },
    {
     "name": "stdout",
     "output_type": "stream",
     "text": [
      "Epoch:531/1000.. Train Loss: 0.028.. Val Loss: 0.197.. Test Loss: 0.100.. Time: 0.03m\n"
     ]
    },
    {
     "name": "stderr",
     "output_type": "stream",
     "text": [
      "100%|██████████| 107/107 [00:01<00:00, 64.88it/s]\n",
      "100%|██████████| 18/18 [00:00<00:00, 316.23it/s]\n",
      "100%|██████████| 53/53 [00:00<00:00, 305.15it/s]\n"
     ]
    },
    {
     "name": "stdout",
     "output_type": "stream",
     "text": [
      "Epoch:532/1000.. Train Loss: 0.026.. Val Loss: 0.184.. Test Loss: 0.105.. Time: 0.03m\n"
     ]
    },
    {
     "name": "stderr",
     "output_type": "stream",
     "text": [
      "100%|██████████| 107/107 [00:01<00:00, 64.75it/s]\n",
      "100%|██████████| 18/18 [00:00<00:00, 312.11it/s]\n",
      "100%|██████████| 53/53 [00:00<00:00, 302.83it/s]\n"
     ]
    },
    {
     "name": "stdout",
     "output_type": "stream",
     "text": [
      "Epoch:533/1000.. Train Loss: 0.024.. Val Loss: 0.173.. Test Loss: 0.100.. Time: 0.03m\n"
     ]
    },
    {
     "name": "stderr",
     "output_type": "stream",
     "text": [
      "100%|██████████| 107/107 [00:01<00:00, 62.58it/s]\n",
      "100%|██████████| 18/18 [00:00<00:00, 312.69it/s]\n",
      "100%|██████████| 53/53 [00:00<00:00, 316.02it/s]\n"
     ]
    },
    {
     "name": "stdout",
     "output_type": "stream",
     "text": [
      "Epoch:534/1000.. Train Loss: 0.024.. Val Loss: 0.171.. Test Loss: 0.104.. Time: 0.03m\n"
     ]
    },
    {
     "name": "stderr",
     "output_type": "stream",
     "text": [
      "100%|██████████| 107/107 [00:01<00:00, 64.99it/s]\n",
      "100%|██████████| 18/18 [00:00<00:00, 315.26it/s]\n",
      "100%|██████████| 53/53 [00:00<00:00, 322.81it/s]\n"
     ]
    },
    {
     "name": "stdout",
     "output_type": "stream",
     "text": [
      "Epoch:535/1000.. Train Loss: 0.025.. Val Loss: 0.169.. Test Loss: 0.103.. Time: 0.03m\n"
     ]
    },
    {
     "name": "stderr",
     "output_type": "stream",
     "text": [
      "100%|██████████| 107/107 [00:01<00:00, 64.67it/s]\n",
      "100%|██████████| 18/18 [00:00<00:00, 315.68it/s]\n",
      "100%|██████████| 53/53 [00:00<00:00, 320.42it/s]\n"
     ]
    },
    {
     "name": "stdout",
     "output_type": "stream",
     "text": [
      "Epoch:536/1000.. Train Loss: 0.025.. Val Loss: 0.176.. Test Loss: 0.114.. Time: 0.03m\n"
     ]
    },
    {
     "name": "stderr",
     "output_type": "stream",
     "text": [
      "100%|██████████| 107/107 [00:01<00:00, 64.19it/s]\n",
      "100%|██████████| 18/18 [00:00<00:00, 311.57it/s]\n",
      "100%|██████████| 53/53 [00:00<00:00, 316.23it/s]\n"
     ]
    },
    {
     "name": "stdout",
     "output_type": "stream",
     "text": [
      "Epoch:537/1000.. Train Loss: 0.034.. Val Loss: 0.180.. Test Loss: 0.113.. Time: 0.03m\n"
     ]
    },
    {
     "name": "stderr",
     "output_type": "stream",
     "text": [
      "100%|██████████| 107/107 [00:01<00:00, 64.18it/s]\n",
      "100%|██████████| 18/18 [00:00<00:00, 272.86it/s]\n",
      "100%|██████████| 53/53 [00:00<00:00, 311.77it/s]\n"
     ]
    },
    {
     "name": "stdout",
     "output_type": "stream",
     "text": [
      "Epoch:538/1000.. Train Loss: 0.023.. Val Loss: 0.176.. Test Loss: 0.114.. Time: 0.03m\n"
     ]
    },
    {
     "name": "stderr",
     "output_type": "stream",
     "text": [
      "100%|██████████| 107/107 [00:01<00:00, 64.68it/s]\n",
      "100%|██████████| 18/18 [00:00<00:00, 316.49it/s]\n",
      "100%|██████████| 53/53 [00:00<00:00, 314.48it/s]\n"
     ]
    },
    {
     "name": "stdout",
     "output_type": "stream",
     "text": [
      "Epoch:539/1000.. Train Loss: 0.023.. Val Loss: 0.184.. Test Loss: 0.110.. Time: 0.03m\n"
     ]
    },
    {
     "name": "stderr",
     "output_type": "stream",
     "text": [
      "100%|██████████| 107/107 [00:01<00:00, 64.40it/s]\n",
      "100%|██████████| 18/18 [00:00<00:00, 317.89it/s]\n",
      "100%|██████████| 53/53 [00:00<00:00, 314.81it/s]\n"
     ]
    },
    {
     "name": "stdout",
     "output_type": "stream",
     "text": [
      "Epoch:540/1000.. Train Loss: 0.028.. Val Loss: 0.177.. Test Loss: 0.109.. Time: 0.03m\n"
     ]
    },
    {
     "name": "stderr",
     "output_type": "stream",
     "text": [
      "100%|██████████| 107/107 [00:01<00:00, 64.42it/s]\n",
      "100%|██████████| 18/18 [00:00<00:00, 315.06it/s]\n",
      "100%|██████████| 53/53 [00:00<00:00, 315.71it/s]\n"
     ]
    },
    {
     "name": "stdout",
     "output_type": "stream",
     "text": [
      "Epoch:541/1000.. Train Loss: 0.024.. Val Loss: 0.185.. Test Loss: 0.114.. Time: 0.03m\n"
     ]
    },
    {
     "name": "stderr",
     "output_type": "stream",
     "text": [
      "100%|██████████| 107/107 [00:01<00:00, 65.11it/s]\n",
      "100%|██████████| 18/18 [00:00<00:00, 316.39it/s]\n",
      "100%|██████████| 53/53 [00:00<00:00, 317.74it/s]\n"
     ]
    },
    {
     "name": "stdout",
     "output_type": "stream",
     "text": [
      "Epoch:542/1000.. Train Loss: 0.026.. Val Loss: 0.202.. Test Loss: 0.105.. Time: 0.03m\n"
     ]
    },
    {
     "name": "stderr",
     "output_type": "stream",
     "text": [
      "100%|██████████| 107/107 [00:01<00:00, 64.86it/s]\n",
      "100%|██████████| 18/18 [00:00<00:00, 304.20it/s]\n",
      "100%|██████████| 53/53 [00:00<00:00, 297.90it/s]\n"
     ]
    },
    {
     "name": "stdout",
     "output_type": "stream",
     "text": [
      "Epoch:543/1000.. Train Loss: 0.025.. Val Loss: 0.175.. Test Loss: 0.107.. Time: 0.03m\n"
     ]
    },
    {
     "name": "stderr",
     "output_type": "stream",
     "text": [
      "100%|██████████| 107/107 [00:01<00:00, 62.66it/s]\n",
      "100%|██████████| 18/18 [00:00<00:00, 319.25it/s]\n",
      "100%|██████████| 53/53 [00:00<00:00, 295.56it/s]\n"
     ]
    },
    {
     "name": "stdout",
     "output_type": "stream",
     "text": [
      "Epoch:544/1000.. Train Loss: 0.027.. Val Loss: 0.162.. Test Loss: 0.109.. Time: 0.03m\n"
     ]
    },
    {
     "name": "stderr",
     "output_type": "stream",
     "text": [
      "100%|██████████| 107/107 [00:01<00:00, 64.57it/s]\n",
      "100%|██████████| 18/18 [00:00<00:00, 312.37it/s]\n",
      "100%|██████████| 53/53 [00:00<00:00, 313.78it/s]\n"
     ]
    },
    {
     "name": "stdout",
     "output_type": "stream",
     "text": [
      "Epoch:545/1000.. Train Loss: 0.025.. Val Loss: 0.167.. Test Loss: 0.109.. Time: 0.03m\n"
     ]
    },
    {
     "name": "stderr",
     "output_type": "stream",
     "text": [
      "100%|██████████| 107/107 [00:01<00:00, 63.19it/s]\n",
      "100%|██████████| 18/18 [00:00<00:00, 307.67it/s]\n",
      "100%|██████████| 53/53 [00:00<00:00, 312.07it/s]\n"
     ]
    },
    {
     "name": "stdout",
     "output_type": "stream",
     "text": [
      "Epoch:546/1000.. Train Loss: 0.028.. Val Loss: 0.174.. Test Loss: 0.113.. Time: 0.03m\n"
     ]
    },
    {
     "name": "stderr",
     "output_type": "stream",
     "text": [
      "100%|██████████| 107/107 [00:01<00:00, 63.95it/s]\n",
      "100%|██████████| 18/18 [00:00<00:00, 317.04it/s]\n",
      "100%|██████████| 53/53 [00:00<00:00, 316.25it/s]\n"
     ]
    },
    {
     "name": "stdout",
     "output_type": "stream",
     "text": [
      "Epoch:547/1000.. Train Loss: 0.022.. Val Loss: 0.207.. Test Loss: 0.113.. Time: 0.03m\n"
     ]
    },
    {
     "name": "stderr",
     "output_type": "stream",
     "text": [
      "100%|██████████| 107/107 [00:01<00:00, 63.75it/s]\n",
      "100%|██████████| 18/18 [00:00<00:00, 312.69it/s]\n",
      "100%|██████████| 53/53 [00:00<00:00, 314.88it/s]\n"
     ]
    },
    {
     "name": "stdout",
     "output_type": "stream",
     "text": [
      "Epoch:548/1000.. Train Loss: 0.024.. Val Loss: 0.181.. Test Loss: 0.104.. Time: 0.03m\n"
     ]
    },
    {
     "name": "stderr",
     "output_type": "stream",
     "text": [
      "100%|██████████| 107/107 [00:01<00:00, 62.69it/s]\n",
      "100%|██████████| 18/18 [00:00<00:00, 280.94it/s]\n",
      "100%|██████████| 53/53 [00:00<00:00, 317.92it/s]\n"
     ]
    },
    {
     "name": "stdout",
     "output_type": "stream",
     "text": [
      "Epoch:549/1000.. Train Loss: 0.023.. Val Loss: 0.186.. Test Loss: 0.105.. Time: 0.03m\n"
     ]
    },
    {
     "name": "stderr",
     "output_type": "stream",
     "text": [
      "100%|██████████| 107/107 [00:01<00:00, 65.46it/s]\n",
      "100%|██████████| 18/18 [00:00<00:00, 311.75it/s]\n",
      "100%|██████████| 53/53 [00:00<00:00, 301.23it/s]\n"
     ]
    },
    {
     "name": "stdout",
     "output_type": "stream",
     "text": [
      "Epoch:550/1000.. Train Loss: 0.021.. Val Loss: 0.185.. Test Loss: 0.106.. Time: 0.03m\n"
     ]
    },
    {
     "name": "stderr",
     "output_type": "stream",
     "text": [
      "100%|██████████| 107/107 [00:01<00:00, 63.51it/s]\n",
      "100%|██████████| 18/18 [00:00<00:00, 300.18it/s]\n",
      "100%|██████████| 53/53 [00:00<00:00, 302.98it/s]\n"
     ]
    },
    {
     "name": "stdout",
     "output_type": "stream",
     "text": [
      "Epoch:551/1000.. Train Loss: 0.022.. Val Loss: 0.196.. Test Loss: 0.110.. Time: 0.03m\n"
     ]
    },
    {
     "name": "stderr",
     "output_type": "stream",
     "text": [
      "100%|██████████| 107/107 [00:01<00:00, 66.26it/s]\n",
      "100%|██████████| 18/18 [00:00<00:00, 317.71it/s]\n",
      "100%|██████████| 53/53 [00:00<00:00, 318.69it/s]\n"
     ]
    },
    {
     "name": "stdout",
     "output_type": "stream",
     "text": [
      "Epoch:552/1000.. Train Loss: 0.021.. Val Loss: 0.204.. Test Loss: 0.110.. Time: 0.03m\n"
     ]
    },
    {
     "name": "stderr",
     "output_type": "stream",
     "text": [
      "100%|██████████| 107/107 [00:01<00:00, 64.16it/s]\n",
      "100%|██████████| 18/18 [00:00<00:00, 311.88it/s]\n",
      "100%|██████████| 53/53 [00:00<00:00, 321.73it/s]\n"
     ]
    },
    {
     "name": "stdout",
     "output_type": "stream",
     "text": [
      "Epoch:553/1000.. Train Loss: 0.024.. Val Loss: 0.186.. Test Loss: 0.111.. Time: 0.03m\n"
     ]
    },
    {
     "name": "stderr",
     "output_type": "stream",
     "text": [
      "100%|██████████| 107/107 [00:01<00:00, 64.27it/s]\n",
      "100%|██████████| 18/18 [00:00<00:00, 308.77it/s]\n",
      "100%|██████████| 53/53 [00:00<00:00, 317.62it/s]\n"
     ]
    },
    {
     "name": "stdout",
     "output_type": "stream",
     "text": [
      "Epoch:554/1000.. Train Loss: 0.023.. Val Loss: 0.191.. Test Loss: 0.111.. Time: 0.03m\n"
     ]
    },
    {
     "name": "stderr",
     "output_type": "stream",
     "text": [
      "100%|██████████| 107/107 [00:01<00:00, 64.29it/s]\n",
      "100%|██████████| 18/18 [00:00<00:00, 315.60it/s]\n",
      "100%|██████████| 53/53 [00:00<00:00, 319.71it/s]\n"
     ]
    },
    {
     "name": "stdout",
     "output_type": "stream",
     "text": [
      "Epoch:555/1000.. Train Loss: 0.024.. Val Loss: 0.178.. Test Loss: 0.114.. Time: 0.03m\n"
     ]
    },
    {
     "name": "stderr",
     "output_type": "stream",
     "text": [
      "100%|██████████| 107/107 [00:01<00:00, 65.90it/s]\n",
      "100%|██████████| 18/18 [00:00<00:00, 315.12it/s]\n",
      "100%|██████████| 53/53 [00:00<00:00, 317.13it/s]\n"
     ]
    },
    {
     "name": "stdout",
     "output_type": "stream",
     "text": [
      "Epoch:556/1000.. Train Loss: 0.019.. Val Loss: 0.208.. Test Loss: 0.114.. Time: 0.03m\n"
     ]
    },
    {
     "name": "stderr",
     "output_type": "stream",
     "text": [
      "100%|██████████| 107/107 [00:01<00:00, 61.28it/s]\n",
      "100%|██████████| 18/18 [00:00<00:00, 313.21it/s]\n",
      "100%|██████████| 53/53 [00:00<00:00, 320.19it/s]\n"
     ]
    },
    {
     "name": "stdout",
     "output_type": "stream",
     "text": [
      "Epoch:557/1000.. Train Loss: 0.023.. Val Loss: 0.204.. Test Loss: 0.114.. Time: 0.03m\n"
     ]
    },
    {
     "name": "stderr",
     "output_type": "stream",
     "text": [
      "100%|██████████| 107/107 [00:01<00:00, 63.52it/s]\n",
      "100%|██████████| 18/18 [00:00<00:00, 305.02it/s]\n",
      "100%|██████████| 53/53 [00:00<00:00, 311.43it/s]\n"
     ]
    },
    {
     "name": "stdout",
     "output_type": "stream",
     "text": [
      "Epoch:558/1000.. Train Loss: 0.025.. Val Loss: 0.196.. Test Loss: 0.107.. Time: 0.03m\n"
     ]
    },
    {
     "name": "stderr",
     "output_type": "stream",
     "text": [
      "100%|██████████| 107/107 [00:01<00:00, 60.68it/s]\n",
      "100%|██████████| 18/18 [00:00<00:00, 317.33it/s]\n",
      "100%|██████████| 53/53 [00:00<00:00, 316.13it/s]\n"
     ]
    },
    {
     "name": "stdout",
     "output_type": "stream",
     "text": [
      "Epoch:559/1000.. Train Loss: 0.027.. Val Loss: 0.204.. Test Loss: 0.113.. Time: 0.03m\n"
     ]
    },
    {
     "name": "stderr",
     "output_type": "stream",
     "text": [
      "100%|██████████| 107/107 [00:01<00:00, 64.30it/s]\n",
      "100%|██████████| 18/18 [00:00<00:00, 316.68it/s]\n",
      "100%|██████████| 53/53 [00:00<00:00, 317.88it/s]\n"
     ]
    },
    {
     "name": "stdout",
     "output_type": "stream",
     "text": [
      "Epoch:560/1000.. Train Loss: 0.025.. Val Loss: 0.179.. Test Loss: 0.112.. Time: 0.03m\n"
     ]
    },
    {
     "name": "stderr",
     "output_type": "stream",
     "text": [
      "100%|██████████| 107/107 [00:01<00:00, 62.71it/s]\n",
      "100%|██████████| 18/18 [00:00<00:00, 308.56it/s]\n",
      "100%|██████████| 53/53 [00:00<00:00, 308.29it/s]\n"
     ]
    },
    {
     "name": "stdout",
     "output_type": "stream",
     "text": [
      "Epoch:561/1000.. Train Loss: 0.026.. Val Loss: 0.183.. Test Loss: 0.111.. Time: 0.03m\n"
     ]
    },
    {
     "name": "stderr",
     "output_type": "stream",
     "text": [
      "100%|██████████| 107/107 [00:01<00:00, 66.40it/s]\n",
      "100%|██████████| 18/18 [00:00<00:00, 309.07it/s]\n",
      "100%|██████████| 53/53 [00:00<00:00, 312.66it/s]\n"
     ]
    },
    {
     "name": "stdout",
     "output_type": "stream",
     "text": [
      "Epoch:562/1000.. Train Loss: 0.023.. Val Loss: 0.208.. Test Loss: 0.113.. Time: 0.03m\n"
     ]
    },
    {
     "name": "stderr",
     "output_type": "stream",
     "text": [
      "100%|██████████| 107/107 [00:01<00:00, 62.04it/s]\n",
      "100%|██████████| 18/18 [00:00<00:00, 319.18it/s]\n",
      "100%|██████████| 53/53 [00:00<00:00, 320.35it/s]\n"
     ]
    },
    {
     "name": "stdout",
     "output_type": "stream",
     "text": [
      "Epoch:563/1000.. Train Loss: 0.030.. Val Loss: 0.227.. Test Loss: 0.114.. Time: 0.03m\n"
     ]
    },
    {
     "name": "stderr",
     "output_type": "stream",
     "text": [
      "100%|██████████| 107/107 [00:01<00:00, 64.24it/s]\n",
      "100%|██████████| 18/18 [00:00<00:00, 314.74it/s]\n",
      "100%|██████████| 53/53 [00:00<00:00, 318.51it/s]\n"
     ]
    },
    {
     "name": "stdout",
     "output_type": "stream",
     "text": [
      "Epoch:564/1000.. Train Loss: 0.030.. Val Loss: 0.172.. Test Loss: 0.113.. Time: 0.03m\n"
     ]
    },
    {
     "name": "stderr",
     "output_type": "stream",
     "text": [
      "100%|██████████| 107/107 [00:01<00:00, 65.21it/s]\n",
      "100%|██████████| 18/18 [00:00<00:00, 290.38it/s]\n",
      "100%|██████████| 53/53 [00:00<00:00, 318.11it/s]\n"
     ]
    },
    {
     "name": "stdout",
     "output_type": "stream",
     "text": [
      "Epoch:565/1000.. Train Loss: 0.025.. Val Loss: 0.186.. Test Loss: 0.116.. Time: 0.03m\n"
     ]
    },
    {
     "name": "stderr",
     "output_type": "stream",
     "text": [
      "100%|██████████| 107/107 [00:01<00:00, 64.54it/s]\n",
      "100%|██████████| 18/18 [00:00<00:00, 286.60it/s]\n",
      "100%|██████████| 53/53 [00:00<00:00, 314.72it/s]\n"
     ]
    },
    {
     "name": "stdout",
     "output_type": "stream",
     "text": [
      "Epoch:566/1000.. Train Loss: 0.024.. Val Loss: 0.186.. Test Loss: 0.116.. Time: 0.03m\n"
     ]
    },
    {
     "name": "stderr",
     "output_type": "stream",
     "text": [
      "100%|██████████| 107/107 [00:01<00:00, 61.15it/s]\n",
      "100%|██████████| 18/18 [00:00<00:00, 316.61it/s]\n",
      "100%|██████████| 53/53 [00:00<00:00, 314.26it/s]\n"
     ]
    },
    {
     "name": "stdout",
     "output_type": "stream",
     "text": [
      "Epoch:567/1000.. Train Loss: 0.023.. Val Loss: 0.181.. Test Loss: 0.112.. Time: 0.03m\n"
     ]
    },
    {
     "name": "stderr",
     "output_type": "stream",
     "text": [
      "100%|██████████| 107/107 [00:01<00:00, 59.46it/s]\n",
      "100%|██████████| 18/18 [00:00<00:00, 257.45it/s]\n",
      "100%|██████████| 53/53 [00:00<00:00, 282.86it/s]\n"
     ]
    },
    {
     "name": "stdout",
     "output_type": "stream",
     "text": [
      "Epoch:568/1000.. Train Loss: 0.025.. Val Loss: 0.190.. Test Loss: 0.114.. Time: 0.03m\n"
     ]
    },
    {
     "name": "stderr",
     "output_type": "stream",
     "text": [
      "100%|██████████| 107/107 [00:01<00:00, 62.09it/s]\n",
      "100%|██████████| 18/18 [00:00<00:00, 315.90it/s]\n",
      "100%|██████████| 53/53 [00:00<00:00, 318.44it/s]\n"
     ]
    },
    {
     "name": "stdout",
     "output_type": "stream",
     "text": [
      "Epoch:569/1000.. Train Loss: 0.022.. Val Loss: 0.170.. Test Loss: 0.111.. Time: 0.03m\n"
     ]
    },
    {
     "name": "stderr",
     "output_type": "stream",
     "text": [
      "100%|██████████| 107/107 [00:01<00:00, 62.30it/s]\n",
      "100%|██████████| 18/18 [00:00<00:00, 316.96it/s]\n",
      "100%|██████████| 53/53 [00:00<00:00, 314.97it/s]\n"
     ]
    },
    {
     "name": "stdout",
     "output_type": "stream",
     "text": [
      "Epoch:570/1000.. Train Loss: 0.019.. Val Loss: 0.173.. Test Loss: 0.112.. Time: 0.03m\n"
     ]
    },
    {
     "name": "stderr",
     "output_type": "stream",
     "text": [
      "100%|██████████| 107/107 [00:01<00:00, 62.63it/s]\n",
      "100%|██████████| 18/18 [00:00<00:00, 308.47it/s]\n",
      "100%|██████████| 53/53 [00:00<00:00, 310.00it/s]\n"
     ]
    },
    {
     "name": "stdout",
     "output_type": "stream",
     "text": [
      "Epoch:571/1000.. Train Loss: 0.021.. Val Loss: 0.176.. Test Loss: 0.117.. Time: 0.03m\n"
     ]
    },
    {
     "name": "stderr",
     "output_type": "stream",
     "text": [
      "100%|██████████| 107/107 [00:01<00:00, 64.62it/s]\n",
      "100%|██████████| 18/18 [00:00<00:00, 313.06it/s]\n",
      "100%|██████████| 53/53 [00:00<00:00, 297.27it/s]\n"
     ]
    },
    {
     "name": "stdout",
     "output_type": "stream",
     "text": [
      "Epoch:572/1000.. Train Loss: 0.023.. Val Loss: 0.184.. Test Loss: 0.114.. Time: 0.03m\n"
     ]
    },
    {
     "name": "stderr",
     "output_type": "stream",
     "text": [
      "100%|██████████| 107/107 [00:01<00:00, 63.76it/s]\n",
      "100%|██████████| 18/18 [00:00<00:00, 360.89it/s]\n",
      "100%|██████████| 53/53 [00:00<00:00, 327.41it/s]\n"
     ]
    },
    {
     "name": "stdout",
     "output_type": "stream",
     "text": [
      "Epoch:573/1000.. Train Loss: 0.022.. Val Loss: 0.171.. Test Loss: 0.116.. Time: 0.03m\n"
     ]
    },
    {
     "name": "stderr",
     "output_type": "stream",
     "text": [
      "100%|██████████| 107/107 [00:01<00:00, 61.83it/s]\n",
      "100%|██████████| 18/18 [00:00<00:00, 316.69it/s]\n",
      "100%|██████████| 53/53 [00:00<00:00, 313.32it/s]\n"
     ]
    },
    {
     "name": "stdout",
     "output_type": "stream",
     "text": [
      "Epoch:574/1000.. Train Loss: 0.025.. Val Loss: 0.183.. Test Loss: 0.117.. Time: 0.03m\n"
     ]
    },
    {
     "name": "stderr",
     "output_type": "stream",
     "text": [
      "100%|██████████| 107/107 [00:01<00:00, 57.76it/s]\n",
      "100%|██████████| 18/18 [00:00<00:00, 314.84it/s]\n",
      "100%|██████████| 53/53 [00:00<00:00, 308.19it/s]\n"
     ]
    },
    {
     "name": "stdout",
     "output_type": "stream",
     "text": [
      "Epoch:575/1000.. Train Loss: 0.022.. Val Loss: 0.166.. Test Loss: 0.114.. Time: 0.03m\n"
     ]
    },
    {
     "name": "stderr",
     "output_type": "stream",
     "text": [
      "100%|██████████| 107/107 [00:01<00:00, 67.21it/s]\n",
      "100%|██████████| 18/18 [00:00<00:00, 319.65it/s]\n",
      "100%|██████████| 53/53 [00:00<00:00, 323.93it/s]\n"
     ]
    },
    {
     "name": "stdout",
     "output_type": "stream",
     "text": [
      "Epoch:576/1000.. Train Loss: 0.021.. Val Loss: 0.178.. Test Loss: 0.113.. Time: 0.03m\n"
     ]
    },
    {
     "name": "stderr",
     "output_type": "stream",
     "text": [
      "100%|██████████| 107/107 [00:01<00:00, 65.86it/s]\n",
      "100%|██████████| 18/18 [00:00<00:00, 314.74it/s]\n",
      "100%|██████████| 53/53 [00:00<00:00, 318.74it/s]\n"
     ]
    },
    {
     "name": "stdout",
     "output_type": "stream",
     "text": [
      "Epoch:577/1000.. Train Loss: 0.028.. Val Loss: 0.174.. Test Loss: 0.113.. Time: 0.03m\n"
     ]
    },
    {
     "name": "stderr",
     "output_type": "stream",
     "text": [
      "100%|██████████| 107/107 [00:01<00:00, 67.49it/s]\n",
      "100%|██████████| 18/18 [00:00<00:00, 323.88it/s]\n",
      "100%|██████████| 53/53 [00:00<00:00, 318.74it/s]\n"
     ]
    },
    {
     "name": "stdout",
     "output_type": "stream",
     "text": [
      "Epoch:578/1000.. Train Loss: 0.023.. Val Loss: 0.242.. Test Loss: 0.112.. Time: 0.03m\n"
     ]
    },
    {
     "name": "stderr",
     "output_type": "stream",
     "text": [
      "100%|██████████| 107/107 [00:01<00:00, 62.30it/s]\n",
      "100%|██████████| 18/18 [00:00<00:00, 314.88it/s]\n",
      "100%|██████████| 53/53 [00:00<00:00, 319.83it/s]\n"
     ]
    },
    {
     "name": "stdout",
     "output_type": "stream",
     "text": [
      "Epoch:579/1000.. Train Loss: 0.023.. Val Loss: 0.156.. Test Loss: 0.113.. Time: 0.03m\n"
     ]
    },
    {
     "name": "stderr",
     "output_type": "stream",
     "text": [
      "100%|██████████| 107/107 [00:01<00:00, 60.25it/s]\n",
      "100%|██████████| 18/18 [00:00<00:00, 316.60it/s]\n",
      "100%|██████████| 53/53 [00:00<00:00, 303.32it/s]\n"
     ]
    },
    {
     "name": "stdout",
     "output_type": "stream",
     "text": [
      "Epoch:580/1000.. Train Loss: 0.022.. Val Loss: 0.155.. Test Loss: 0.112.. Time: 0.03m\n"
     ]
    },
    {
     "name": "stderr",
     "output_type": "stream",
     "text": [
      "100%|██████████| 107/107 [00:01<00:00, 64.53it/s]\n",
      "100%|██████████| 18/18 [00:00<00:00, 322.05it/s]\n",
      "100%|██████████| 53/53 [00:00<00:00, 320.36it/s]\n"
     ]
    },
    {
     "name": "stdout",
     "output_type": "stream",
     "text": [
      "Epoch:581/1000.. Train Loss: 0.024.. Val Loss: 0.197.. Test Loss: 0.111.. Time: 0.03m\n"
     ]
    },
    {
     "name": "stderr",
     "output_type": "stream",
     "text": [
      "100%|██████████| 107/107 [00:01<00:00, 64.76it/s]\n",
      "100%|██████████| 18/18 [00:00<00:00, 309.58it/s]\n",
      "100%|██████████| 53/53 [00:00<00:00, 307.42it/s]\n"
     ]
    },
    {
     "name": "stdout",
     "output_type": "stream",
     "text": [
      "Epoch:582/1000.. Train Loss: 0.019.. Val Loss: 0.178.. Test Loss: 0.113.. Time: 0.03m\n"
     ]
    },
    {
     "name": "stderr",
     "output_type": "stream",
     "text": [
      "100%|██████████| 107/107 [00:01<00:00, 65.41it/s]\n",
      "100%|██████████| 18/18 [00:00<00:00, 316.34it/s]\n",
      "100%|██████████| 53/53 [00:00<00:00, 323.15it/s]\n"
     ]
    },
    {
     "name": "stdout",
     "output_type": "stream",
     "text": [
      "Epoch:583/1000.. Train Loss: 0.019.. Val Loss: 0.175.. Test Loss: 0.118.. Time: 0.03m\n"
     ]
    },
    {
     "name": "stderr",
     "output_type": "stream",
     "text": [
      "100%|██████████| 107/107 [00:01<00:00, 64.91it/s]\n",
      "100%|██████████| 18/18 [00:00<00:00, 318.15it/s]\n",
      "100%|██████████| 53/53 [00:00<00:00, 309.07it/s]\n"
     ]
    },
    {
     "name": "stdout",
     "output_type": "stream",
     "text": [
      "Epoch:584/1000.. Train Loss: 0.024.. Val Loss: 0.179.. Test Loss: 0.111.. Time: 0.03m\n"
     ]
    },
    {
     "name": "stderr",
     "output_type": "stream",
     "text": [
      "100%|██████████| 107/107 [00:01<00:00, 63.93it/s]\n",
      "100%|██████████| 18/18 [00:00<00:00, 318.74it/s]\n",
      "100%|██████████| 53/53 [00:00<00:00, 320.69it/s]\n"
     ]
    },
    {
     "name": "stdout",
     "output_type": "stream",
     "text": [
      "Epoch:585/1000.. Train Loss: 0.022.. Val Loss: 0.169.. Test Loss: 0.111.. Time: 0.03m\n"
     ]
    },
    {
     "name": "stderr",
     "output_type": "stream",
     "text": [
      "100%|██████████| 107/107 [00:01<00:00, 63.44it/s]\n",
      "100%|██████████| 18/18 [00:00<00:00, 305.87it/s]\n",
      "100%|██████████| 53/53 [00:00<00:00, 315.33it/s]\n"
     ]
    },
    {
     "name": "stdout",
     "output_type": "stream",
     "text": [
      "Epoch:586/1000.. Train Loss: 0.024.. Val Loss: 0.183.. Test Loss: 0.117.. Time: 0.03m\n"
     ]
    },
    {
     "name": "stderr",
     "output_type": "stream",
     "text": [
      "100%|██████████| 107/107 [00:01<00:00, 65.06it/s]\n",
      "100%|██████████| 18/18 [00:00<00:00, 313.91it/s]\n",
      "100%|██████████| 53/53 [00:00<00:00, 314.18it/s]\n"
     ]
    },
    {
     "name": "stdout",
     "output_type": "stream",
     "text": [
      "Epoch:587/1000.. Train Loss: 0.024.. Val Loss: 0.191.. Test Loss: 0.117.. Time: 0.03m\n"
     ]
    },
    {
     "name": "stderr",
     "output_type": "stream",
     "text": [
      "100%|██████████| 107/107 [00:01<00:00, 65.28it/s]\n",
      "100%|██████████| 18/18 [00:00<00:00, 304.29it/s]\n",
      "100%|██████████| 53/53 [00:00<00:00, 312.34it/s]\n"
     ]
    },
    {
     "name": "stdout",
     "output_type": "stream",
     "text": [
      "Epoch:588/1000.. Train Loss: 0.019.. Val Loss: 0.194.. Test Loss: 0.114.. Time: 0.03m\n"
     ]
    },
    {
     "name": "stderr",
     "output_type": "stream",
     "text": [
      "100%|██████████| 107/107 [00:01<00:00, 65.91it/s]\n",
      "100%|██████████| 18/18 [00:00<00:00, 314.57it/s]\n",
      "100%|██████████| 53/53 [00:00<00:00, 318.38it/s]\n"
     ]
    },
    {
     "name": "stdout",
     "output_type": "stream",
     "text": [
      "Epoch:589/1000.. Train Loss: 0.021.. Val Loss: 0.194.. Test Loss: 0.116.. Time: 0.03m\n"
     ]
    },
    {
     "name": "stderr",
     "output_type": "stream",
     "text": [
      "100%|██████████| 107/107 [00:01<00:00, 61.59it/s]\n",
      "100%|██████████| 18/18 [00:00<00:00, 258.87it/s]\n",
      "100%|██████████| 53/53 [00:00<00:00, 314.45it/s]\n"
     ]
    },
    {
     "name": "stdout",
     "output_type": "stream",
     "text": [
      "Epoch:590/1000.. Train Loss: 0.020.. Val Loss: 0.170.. Test Loss: 0.112.. Time: 0.03m\n"
     ]
    },
    {
     "name": "stderr",
     "output_type": "stream",
     "text": [
      "100%|██████████| 107/107 [00:01<00:00, 63.64it/s]\n",
      "100%|██████████| 18/18 [00:00<00:00, 259.63it/s]\n",
      "100%|██████████| 53/53 [00:00<00:00, 283.76it/s]\n"
     ]
    },
    {
     "name": "stdout",
     "output_type": "stream",
     "text": [
      "Epoch:591/1000.. Train Loss: 0.022.. Val Loss: 0.180.. Test Loss: 0.114.. Time: 0.03m\n"
     ]
    },
    {
     "name": "stderr",
     "output_type": "stream",
     "text": [
      "100%|██████████| 107/107 [00:01<00:00, 63.95it/s]\n",
      "100%|██████████| 18/18 [00:00<00:00, 295.70it/s]\n",
      "100%|██████████| 53/53 [00:00<00:00, 297.29it/s]\n"
     ]
    },
    {
     "name": "stdout",
     "output_type": "stream",
     "text": [
      "Epoch:592/1000.. Train Loss: 0.022.. Val Loss: 0.184.. Test Loss: 0.116.. Time: 0.03m\n"
     ]
    },
    {
     "name": "stderr",
     "output_type": "stream",
     "text": [
      "100%|██████████| 107/107 [00:01<00:00, 65.92it/s]\n",
      "100%|██████████| 18/18 [00:00<00:00, 279.17it/s]\n",
      "100%|██████████| 53/53 [00:00<00:00, 302.34it/s]\n"
     ]
    },
    {
     "name": "stdout",
     "output_type": "stream",
     "text": [
      "Epoch:593/1000.. Train Loss: 0.021.. Val Loss: 0.184.. Test Loss: 0.117.. Time: 0.03m\n"
     ]
    },
    {
     "name": "stderr",
     "output_type": "stream",
     "text": [
      "100%|██████████| 107/107 [00:01<00:00, 64.21it/s]\n",
      "100%|██████████| 18/18 [00:00<00:00, 325.74it/s]\n",
      "100%|██████████| 53/53 [00:00<00:00, 311.00it/s]\n"
     ]
    },
    {
     "name": "stdout",
     "output_type": "stream",
     "text": [
      "Epoch:594/1000.. Train Loss: 0.020.. Val Loss: 0.180.. Test Loss: 0.123.. Time: 0.03m\n"
     ]
    },
    {
     "name": "stderr",
     "output_type": "stream",
     "text": [
      "100%|██████████| 107/107 [00:01<00:00, 65.92it/s]\n",
      "100%|██████████| 18/18 [00:00<00:00, 312.85it/s]\n",
      "100%|██████████| 53/53 [00:00<00:00, 299.44it/s]\n"
     ]
    },
    {
     "name": "stdout",
     "output_type": "stream",
     "text": [
      "Epoch:595/1000.. Train Loss: 0.020.. Val Loss: 0.171.. Test Loss: 0.112.. Time: 0.03m\n"
     ]
    },
    {
     "name": "stderr",
     "output_type": "stream",
     "text": [
      "100%|██████████| 107/107 [00:01<00:00, 63.69it/s]\n",
      "100%|██████████| 18/18 [00:00<00:00, 317.11it/s]\n",
      "100%|██████████| 53/53 [00:00<00:00, 318.55it/s]\n"
     ]
    },
    {
     "name": "stdout",
     "output_type": "stream",
     "text": [
      "Epoch:596/1000.. Train Loss: 0.020.. Val Loss: 0.175.. Test Loss: 0.110.. Time: 0.03m\n"
     ]
    },
    {
     "name": "stderr",
     "output_type": "stream",
     "text": [
      "100%|██████████| 107/107 [00:01<00:00, 71.34it/s]\n",
      "100%|██████████| 18/18 [00:00<00:00, 316.79it/s]\n",
      "100%|██████████| 53/53 [00:00<00:00, 299.01it/s]\n"
     ]
    },
    {
     "name": "stdout",
     "output_type": "stream",
     "text": [
      "Epoch:597/1000.. Train Loss: 0.025.. Val Loss: 0.174.. Test Loss: 0.108.. Time: 0.03m\n"
     ]
    },
    {
     "name": "stderr",
     "output_type": "stream",
     "text": [
      "100%|██████████| 107/107 [00:01<00:00, 62.01it/s]\n",
      "100%|██████████| 18/18 [00:00<00:00, 274.67it/s]\n",
      "100%|██████████| 53/53 [00:00<00:00, 314.23it/s]\n"
     ]
    },
    {
     "name": "stdout",
     "output_type": "stream",
     "text": [
      "Epoch:598/1000.. Train Loss: 0.028.. Val Loss: 0.188.. Test Loss: 0.105.. Time: 0.03m\n"
     ]
    },
    {
     "name": "stderr",
     "output_type": "stream",
     "text": [
      "100%|██████████| 107/107 [00:01<00:00, 64.05it/s]\n",
      "100%|██████████| 18/18 [00:00<00:00, 295.07it/s]\n",
      "100%|██████████| 53/53 [00:00<00:00, 313.24it/s]\n"
     ]
    },
    {
     "name": "stdout",
     "output_type": "stream",
     "text": [
      "Epoch:599/1000.. Train Loss: 0.021.. Val Loss: 0.200.. Test Loss: 0.113.. Time: 0.03m\n"
     ]
    },
    {
     "name": "stderr",
     "output_type": "stream",
     "text": [
      "100%|██████████| 107/107 [00:01<00:00, 62.20it/s]\n",
      "100%|██████████| 18/18 [00:00<00:00, 312.57it/s]\n",
      "100%|██████████| 53/53 [00:00<00:00, 323.01it/s]\n"
     ]
    },
    {
     "name": "stdout",
     "output_type": "stream",
     "text": [
      "Epoch:600/1000.. Train Loss: 0.021.. Val Loss: 0.180.. Test Loss: 0.114.. Time: 0.03m\n"
     ]
    },
    {
     "name": "stderr",
     "output_type": "stream",
     "text": [
      "100%|██████████| 107/107 [00:01<00:00, 66.71it/s]\n",
      "100%|██████████| 18/18 [00:00<00:00, 258.80it/s]\n",
      "100%|██████████| 53/53 [00:00<00:00, 295.98it/s]\n"
     ]
    },
    {
     "name": "stdout",
     "output_type": "stream",
     "text": [
      "Epoch:601/1000.. Train Loss: 0.025.. Val Loss: 0.170.. Test Loss: 0.109.. Time: 0.03m\n"
     ]
    },
    {
     "name": "stderr",
     "output_type": "stream",
     "text": [
      "100%|██████████| 107/107 [00:01<00:00, 62.61it/s]\n",
      "100%|██████████| 18/18 [00:00<00:00, 310.70it/s]\n",
      "100%|██████████| 53/53 [00:00<00:00, 312.21it/s]\n"
     ]
    },
    {
     "name": "stdout",
     "output_type": "stream",
     "text": [
      "Epoch:602/1000.. Train Loss: 0.022.. Val Loss: 0.190.. Test Loss: 0.112.. Time: 0.03m\n"
     ]
    },
    {
     "name": "stderr",
     "output_type": "stream",
     "text": [
      "100%|██████████| 107/107 [00:01<00:00, 64.33it/s]\n",
      "100%|██████████| 18/18 [00:00<00:00, 309.50it/s]\n",
      "100%|██████████| 53/53 [00:00<00:00, 313.86it/s]\n"
     ]
    },
    {
     "name": "stdout",
     "output_type": "stream",
     "text": [
      "Epoch:603/1000.. Train Loss: 0.019.. Val Loss: 0.173.. Test Loss: 0.114.. Time: 0.03m\n"
     ]
    },
    {
     "name": "stderr",
     "output_type": "stream",
     "text": [
      "100%|██████████| 107/107 [00:01<00:00, 61.87it/s]\n",
      "100%|██████████| 18/18 [00:00<00:00, 308.27it/s]\n",
      "100%|██████████| 53/53 [00:00<00:00, 315.75it/s]\n"
     ]
    },
    {
     "name": "stdout",
     "output_type": "stream",
     "text": [
      "Epoch:604/1000.. Train Loss: 0.018.. Val Loss: 0.163.. Test Loss: 0.116.. Time: 0.03m\n"
     ]
    },
    {
     "name": "stderr",
     "output_type": "stream",
     "text": [
      "100%|██████████| 107/107 [00:01<00:00, 67.18it/s]\n",
      "100%|██████████| 18/18 [00:00<00:00, 315.90it/s]\n",
      "100%|██████████| 53/53 [00:00<00:00, 320.43it/s]\n"
     ]
    },
    {
     "name": "stdout",
     "output_type": "stream",
     "text": [
      "Epoch:605/1000.. Train Loss: 0.024.. Val Loss: 0.168.. Test Loss: 0.115.. Time: 0.03m\n"
     ]
    },
    {
     "name": "stderr",
     "output_type": "stream",
     "text": [
      "100%|██████████| 107/107 [00:01<00:00, 61.40it/s]\n",
      "100%|██████████| 18/18 [00:00<00:00, 314.94it/s]\n",
      "100%|██████████| 53/53 [00:00<00:00, 316.47it/s]\n"
     ]
    },
    {
     "name": "stdout",
     "output_type": "stream",
     "text": [
      "Epoch:606/1000.. Train Loss: 0.028.. Val Loss: 0.185.. Test Loss: 0.111.. Time: 0.03m\n"
     ]
    },
    {
     "name": "stderr",
     "output_type": "stream",
     "text": [
      "100%|██████████| 107/107 [00:01<00:00, 66.11it/s]\n",
      "100%|██████████| 18/18 [00:00<00:00, 320.71it/s]\n",
      "100%|██████████| 53/53 [00:00<00:00, 316.13it/s]\n"
     ]
    },
    {
     "name": "stdout",
     "output_type": "stream",
     "text": [
      "Epoch:607/1000.. Train Loss: 0.021.. Val Loss: 0.168.. Test Loss: 0.114.. Time: 0.03m\n"
     ]
    },
    {
     "name": "stderr",
     "output_type": "stream",
     "text": [
      "100%|██████████| 107/107 [00:01<00:00, 64.61it/s]\n",
      "100%|██████████| 18/18 [00:00<00:00, 311.33it/s]\n",
      "100%|██████████| 53/53 [00:00<00:00, 314.18it/s]\n"
     ]
    },
    {
     "name": "stdout",
     "output_type": "stream",
     "text": [
      "Epoch:608/1000.. Train Loss: 0.024.. Val Loss: 0.179.. Test Loss: 0.114.. Time: 0.03m\n"
     ]
    },
    {
     "name": "stderr",
     "output_type": "stream",
     "text": [
      "100%|██████████| 107/107 [00:01<00:00, 64.52it/s]\n",
      "100%|██████████| 18/18 [00:00<00:00, 303.95it/s]\n",
      "100%|██████████| 53/53 [00:00<00:00, 301.78it/s]\n"
     ]
    },
    {
     "name": "stdout",
     "output_type": "stream",
     "text": [
      "Epoch:609/1000.. Train Loss: 0.019.. Val Loss: 0.178.. Test Loss: 0.113.. Time: 0.03m\n"
     ]
    },
    {
     "name": "stderr",
     "output_type": "stream",
     "text": [
      "100%|██████████| 107/107 [00:01<00:00, 67.09it/s]\n",
      "100%|██████████| 18/18 [00:00<00:00, 314.53it/s]\n",
      "100%|██████████| 53/53 [00:00<00:00, 315.34it/s]\n"
     ]
    },
    {
     "name": "stdout",
     "output_type": "stream",
     "text": [
      "Epoch:610/1000.. Train Loss: 0.018.. Val Loss: 0.176.. Test Loss: 0.113.. Time: 0.03m\n"
     ]
    },
    {
     "name": "stderr",
     "output_type": "stream",
     "text": [
      "100%|██████████| 107/107 [00:01<00:00, 67.68it/s]\n",
      "100%|██████████| 18/18 [00:00<00:00, 312.81it/s]\n",
      "100%|██████████| 53/53 [00:00<00:00, 318.18it/s]\n"
     ]
    },
    {
     "name": "stdout",
     "output_type": "stream",
     "text": [
      "Epoch:611/1000.. Train Loss: 0.020.. Val Loss: 0.186.. Test Loss: 0.121.. Time: 0.03m\n"
     ]
    },
    {
     "name": "stderr",
     "output_type": "stream",
     "text": [
      "100%|██████████| 107/107 [00:01<00:00, 62.27it/s]\n",
      "100%|██████████| 18/18 [00:00<00:00, 315.09it/s]\n",
      "100%|██████████| 53/53 [00:00<00:00, 305.72it/s]\n"
     ]
    },
    {
     "name": "stdout",
     "output_type": "stream",
     "text": [
      "Epoch:612/1000.. Train Loss: 0.021.. Val Loss: 0.204.. Test Loss: 0.120.. Time: 0.03m\n"
     ]
    },
    {
     "name": "stderr",
     "output_type": "stream",
     "text": [
      "100%|██████████| 107/107 [00:01<00:00, 65.76it/s]\n",
      "100%|██████████| 18/18 [00:00<00:00, 311.57it/s]\n",
      "100%|██████████| 53/53 [00:00<00:00, 301.27it/s]\n"
     ]
    },
    {
     "name": "stdout",
     "output_type": "stream",
     "text": [
      "Epoch:613/1000.. Train Loss: 0.022.. Val Loss: 0.184.. Test Loss: 0.114.. Time: 0.03m\n"
     ]
    },
    {
     "name": "stderr",
     "output_type": "stream",
     "text": [
      "100%|██████████| 107/107 [00:01<00:00, 64.69it/s]\n",
      "100%|██████████| 18/18 [00:00<00:00, 319.92it/s]\n",
      "100%|██████████| 53/53 [00:00<00:00, 318.23it/s]\n"
     ]
    },
    {
     "name": "stdout",
     "output_type": "stream",
     "text": [
      "Epoch:614/1000.. Train Loss: 0.018.. Val Loss: 0.203.. Test Loss: 0.114.. Time: 0.03m\n"
     ]
    },
    {
     "name": "stderr",
     "output_type": "stream",
     "text": [
      "100%|██████████| 107/107 [00:01<00:00, 65.17it/s]\n",
      "100%|██████████| 18/18 [00:00<00:00, 303.94it/s]\n",
      "100%|██████████| 53/53 [00:00<00:00, 311.50it/s]\n"
     ]
    },
    {
     "name": "stdout",
     "output_type": "stream",
     "text": [
      "Epoch:615/1000.. Train Loss: 0.019.. Val Loss: 0.184.. Test Loss: 0.116.. Time: 0.03m\n"
     ]
    },
    {
     "name": "stderr",
     "output_type": "stream",
     "text": [
      "100%|██████████| 107/107 [00:01<00:00, 64.30it/s]\n",
      "100%|██████████| 18/18 [00:00<00:00, 312.19it/s]\n",
      "100%|██████████| 53/53 [00:00<00:00, 312.27it/s]\n"
     ]
    },
    {
     "name": "stdout",
     "output_type": "stream",
     "text": [
      "Epoch:616/1000.. Train Loss: 0.022.. Val Loss: 0.182.. Test Loss: 0.116.. Time: 0.03m\n"
     ]
    },
    {
     "name": "stderr",
     "output_type": "stream",
     "text": [
      "100%|██████████| 107/107 [00:01<00:00, 65.46it/s]\n",
      "100%|██████████| 18/18 [00:00<00:00, 282.88it/s]\n",
      "100%|██████████| 53/53 [00:00<00:00, 314.30it/s]\n"
     ]
    },
    {
     "name": "stdout",
     "output_type": "stream",
     "text": [
      "Epoch:617/1000.. Train Loss: 0.022.. Val Loss: 0.191.. Test Loss: 0.111.. Time: 0.03m\n"
     ]
    },
    {
     "name": "stderr",
     "output_type": "stream",
     "text": [
      "100%|██████████| 107/107 [00:01<00:00, 64.34it/s]\n",
      "100%|██████████| 18/18 [00:00<00:00, 309.78it/s]\n",
      "100%|██████████| 53/53 [00:00<00:00, 315.85it/s]\n"
     ]
    },
    {
     "name": "stdout",
     "output_type": "stream",
     "text": [
      "Epoch:618/1000.. Train Loss: 0.025.. Val Loss: 0.173.. Test Loss: 0.115.. Time: 0.03m\n"
     ]
    },
    {
     "name": "stderr",
     "output_type": "stream",
     "text": [
      "100%|██████████| 107/107 [00:01<00:00, 65.53it/s]\n",
      "100%|██████████| 18/18 [00:00<00:00, 314.99it/s]\n",
      "100%|██████████| 53/53 [00:00<00:00, 320.42it/s]\n"
     ]
    },
    {
     "name": "stdout",
     "output_type": "stream",
     "text": [
      "Epoch:619/1000.. Train Loss: 0.018.. Val Loss: 0.176.. Test Loss: 0.117.. Time: 0.03m\n"
     ]
    },
    {
     "name": "stderr",
     "output_type": "stream",
     "text": [
      "100%|██████████| 107/107 [00:01<00:00, 63.61it/s]\n",
      "100%|██████████| 18/18 [00:00<00:00, 313.05it/s]\n",
      "100%|██████████| 53/53 [00:00<00:00, 312.42it/s]\n"
     ]
    },
    {
     "name": "stdout",
     "output_type": "stream",
     "text": [
      "Epoch:620/1000.. Train Loss: 0.036.. Val Loss: 0.169.. Test Loss: 0.098.. Time: 0.03m\n"
     ]
    },
    {
     "name": "stderr",
     "output_type": "stream",
     "text": [
      "100%|██████████| 107/107 [00:01<00:00, 64.50it/s]\n",
      "100%|██████████| 18/18 [00:00<00:00, 310.42it/s]\n",
      "100%|██████████| 53/53 [00:00<00:00, 292.41it/s]\n"
     ]
    },
    {
     "name": "stdout",
     "output_type": "stream",
     "text": [
      "Epoch:621/1000.. Train Loss: 0.022.. Val Loss: 0.177.. Test Loss: 0.100.. Time: 0.03m\n"
     ]
    },
    {
     "name": "stderr",
     "output_type": "stream",
     "text": [
      "100%|██████████| 107/107 [00:01<00:00, 58.45it/s]\n",
      "100%|██████████| 18/18 [00:00<00:00, 311.31it/s]\n",
      "100%|██████████| 53/53 [00:00<00:00, 313.27it/s]\n"
     ]
    },
    {
     "name": "stdout",
     "output_type": "stream",
     "text": [
      "Epoch:622/1000.. Train Loss: 0.024.. Val Loss: 0.174.. Test Loss: 0.112.. Time: 0.03m\n"
     ]
    },
    {
     "name": "stderr",
     "output_type": "stream",
     "text": [
      "100%|██████████| 107/107 [00:01<00:00, 65.52it/s]\n",
      "100%|██████████| 18/18 [00:00<00:00, 312.21it/s]\n",
      "100%|██████████| 53/53 [00:00<00:00, 315.75it/s]\n"
     ]
    },
    {
     "name": "stdout",
     "output_type": "stream",
     "text": [
      "Epoch:623/1000.. Train Loss: 0.023.. Val Loss: 0.162.. Test Loss: 0.113.. Time: 0.03m\n"
     ]
    },
    {
     "name": "stderr",
     "output_type": "stream",
     "text": [
      "100%|██████████| 107/107 [00:01<00:00, 63.11it/s]\n",
      "100%|██████████| 18/18 [00:00<00:00, 307.95it/s]\n",
      "100%|██████████| 53/53 [00:00<00:00, 305.78it/s]\n"
     ]
    },
    {
     "name": "stdout",
     "output_type": "stream",
     "text": [
      "Epoch:624/1000.. Train Loss: 0.020.. Val Loss: 0.170.. Test Loss: 0.114.. Time: 0.03m\n"
     ]
    },
    {
     "name": "stderr",
     "output_type": "stream",
     "text": [
      "100%|██████████| 107/107 [00:01<00:00, 66.56it/s]\n",
      "100%|██████████| 18/18 [00:00<00:00, 308.85it/s]\n",
      "100%|██████████| 53/53 [00:00<00:00, 319.99it/s]\n"
     ]
    },
    {
     "name": "stdout",
     "output_type": "stream",
     "text": [
      "Epoch:625/1000.. Train Loss: 0.018.. Val Loss: 0.177.. Test Loss: 0.117.. Time: 0.03m\n"
     ]
    },
    {
     "name": "stderr",
     "output_type": "stream",
     "text": [
      "100%|██████████| 107/107 [00:01<00:00, 64.79it/s]\n",
      "100%|██████████| 18/18 [00:00<00:00, 312.29it/s]\n",
      "100%|██████████| 53/53 [00:00<00:00, 317.30it/s]\n"
     ]
    },
    {
     "name": "stdout",
     "output_type": "stream",
     "text": [
      "Epoch:626/1000.. Train Loss: 0.022.. Val Loss: 0.182.. Test Loss: 0.122.. Time: 0.03m\n"
     ]
    },
    {
     "name": "stderr",
     "output_type": "stream",
     "text": [
      "100%|██████████| 107/107 [00:01<00:00, 65.67it/s]\n",
      "100%|██████████| 18/18 [00:00<00:00, 345.99it/s]\n",
      "100%|██████████| 53/53 [00:00<00:00, 326.70it/s]\n"
     ]
    },
    {
     "name": "stdout",
     "output_type": "stream",
     "text": [
      "Epoch:627/1000.. Train Loss: 0.027.. Val Loss: 0.177.. Test Loss: 0.123.. Time: 0.03m\n"
     ]
    },
    {
     "name": "stderr",
     "output_type": "stream",
     "text": [
      "100%|██████████| 107/107 [00:01<00:00, 63.51it/s]\n",
      "100%|██████████| 18/18 [00:00<00:00, 319.08it/s]\n",
      "100%|██████████| 53/53 [00:00<00:00, 315.96it/s]\n"
     ]
    },
    {
     "name": "stdout",
     "output_type": "stream",
     "text": [
      "Epoch:628/1000.. Train Loss: 0.023.. Val Loss: 0.189.. Test Loss: 0.124.. Time: 0.03m\n"
     ]
    },
    {
     "name": "stderr",
     "output_type": "stream",
     "text": [
      "100%|██████████| 107/107 [00:01<00:00, 65.29it/s]\n",
      "100%|██████████| 18/18 [00:00<00:00, 314.86it/s]\n",
      "100%|██████████| 53/53 [00:00<00:00, 311.64it/s]\n"
     ]
    },
    {
     "name": "stdout",
     "output_type": "stream",
     "text": [
      "Epoch:629/1000.. Train Loss: 0.024.. Val Loss: 0.197.. Test Loss: 0.114.. Time: 0.03m\n"
     ]
    },
    {
     "name": "stderr",
     "output_type": "stream",
     "text": [
      "100%|██████████| 107/107 [00:01<00:00, 63.52it/s]\n",
      "100%|██████████| 18/18 [00:00<00:00, 318.57it/s]\n",
      "100%|██████████| 53/53 [00:00<00:00, 323.31it/s]\n"
     ]
    },
    {
     "name": "stdout",
     "output_type": "stream",
     "text": [
      "Epoch:630/1000.. Train Loss: 0.022.. Val Loss: 0.198.. Test Loss: 0.114.. Time: 0.03m\n"
     ]
    },
    {
     "name": "stderr",
     "output_type": "stream",
     "text": [
      "100%|██████████| 107/107 [00:01<00:00, 66.24it/s]\n",
      "100%|██████████| 18/18 [00:00<00:00, 292.60it/s]\n",
      "100%|██████████| 53/53 [00:00<00:00, 309.63it/s]\n"
     ]
    },
    {
     "name": "stdout",
     "output_type": "stream",
     "text": [
      "Epoch:631/1000.. Train Loss: 0.025.. Val Loss: 0.180.. Test Loss: 0.119.. Time: 0.03m\n"
     ]
    },
    {
     "name": "stderr",
     "output_type": "stream",
     "text": [
      "100%|██████████| 107/107 [00:01<00:00, 62.94it/s]\n",
      "100%|██████████| 18/18 [00:00<00:00, 310.06it/s]\n",
      "100%|██████████| 53/53 [00:00<00:00, 322.16it/s]\n"
     ]
    },
    {
     "name": "stdout",
     "output_type": "stream",
     "text": [
      "Epoch:632/1000.. Train Loss: 0.020.. Val Loss: 0.191.. Test Loss: 0.119.. Time: 0.03m\n"
     ]
    },
    {
     "name": "stderr",
     "output_type": "stream",
     "text": [
      "100%|██████████| 107/107 [00:01<00:00, 66.11it/s]\n",
      "100%|██████████| 18/18 [00:00<00:00, 315.21it/s]\n",
      "100%|██████████| 53/53 [00:00<00:00, 320.66it/s]\n"
     ]
    },
    {
     "name": "stdout",
     "output_type": "stream",
     "text": [
      "Epoch:633/1000.. Train Loss: 0.021.. Val Loss: 0.206.. Test Loss: 0.118.. Time: 0.03m\n"
     ]
    },
    {
     "name": "stderr",
     "output_type": "stream",
     "text": [
      "100%|██████████| 107/107 [00:01<00:00, 61.85it/s]\n",
      "100%|██████████| 18/18 [00:00<00:00, 258.07it/s]\n",
      "100%|██████████| 53/53 [00:00<00:00, 309.04it/s]\n"
     ]
    },
    {
     "name": "stdout",
     "output_type": "stream",
     "text": [
      "Epoch:634/1000.. Train Loss: 0.022.. Val Loss: 0.186.. Test Loss: 0.118.. Time: 0.03m\n"
     ]
    },
    {
     "name": "stderr",
     "output_type": "stream",
     "text": [
      "100%|██████████| 107/107 [00:01<00:00, 63.31it/s]\n",
      "100%|██████████| 18/18 [00:00<00:00, 316.61it/s]\n",
      "100%|██████████| 53/53 [00:00<00:00, 321.02it/s]\n"
     ]
    },
    {
     "name": "stdout",
     "output_type": "stream",
     "text": [
      "Epoch:635/1000.. Train Loss: 0.023.. Val Loss: 0.188.. Test Loss: 0.120.. Time: 0.03m\n"
     ]
    },
    {
     "name": "stderr",
     "output_type": "stream",
     "text": [
      "100%|██████████| 107/107 [00:01<00:00, 62.39it/s]\n",
      "100%|██████████| 18/18 [00:00<00:00, 310.75it/s]\n",
      "100%|██████████| 53/53 [00:00<00:00, 316.13it/s]\n"
     ]
    },
    {
     "name": "stdout",
     "output_type": "stream",
     "text": [
      "Epoch:636/1000.. Train Loss: 0.021.. Val Loss: 0.181.. Test Loss: 0.116.. Time: 0.03m\n"
     ]
    },
    {
     "name": "stderr",
     "output_type": "stream",
     "text": [
      "100%|██████████| 107/107 [00:01<00:00, 65.23it/s]\n",
      "100%|██████████| 18/18 [00:00<00:00, 314.87it/s]\n",
      "100%|██████████| 53/53 [00:00<00:00, 301.27it/s]\n"
     ]
    },
    {
     "name": "stdout",
     "output_type": "stream",
     "text": [
      "Epoch:637/1000.. Train Loss: 0.019.. Val Loss: 0.184.. Test Loss: 0.118.. Time: 0.03m\n"
     ]
    },
    {
     "name": "stderr",
     "output_type": "stream",
     "text": [
      "100%|██████████| 107/107 [00:01<00:00, 61.53it/s]\n",
      "100%|██████████| 18/18 [00:00<00:00, 310.92it/s]\n",
      "100%|██████████| 53/53 [00:00<00:00, 319.75it/s]\n"
     ]
    },
    {
     "name": "stdout",
     "output_type": "stream",
     "text": [
      "Epoch:638/1000.. Train Loss: 0.020.. Val Loss: 0.190.. Test Loss: 0.117.. Time: 0.03m\n"
     ]
    },
    {
     "name": "stderr",
     "output_type": "stream",
     "text": [
      "100%|██████████| 107/107 [00:01<00:00, 66.52it/s]\n",
      "100%|██████████| 18/18 [00:00<00:00, 305.86it/s]\n",
      "100%|██████████| 53/53 [00:00<00:00, 315.30it/s]\n"
     ]
    },
    {
     "name": "stdout",
     "output_type": "stream",
     "text": [
      "Epoch:639/1000.. Train Loss: 0.023.. Val Loss: 0.183.. Test Loss: 0.114.. Time: 0.03m\n"
     ]
    },
    {
     "name": "stderr",
     "output_type": "stream",
     "text": [
      "100%|██████████| 107/107 [00:01<00:00, 62.40it/s]\n",
      "100%|██████████| 18/18 [00:00<00:00, 313.20it/s]\n",
      "100%|██████████| 53/53 [00:00<00:00, 313.39it/s]\n"
     ]
    },
    {
     "name": "stdout",
     "output_type": "stream",
     "text": [
      "Epoch:640/1000.. Train Loss: 0.019.. Val Loss: 0.186.. Test Loss: 0.115.. Time: 0.03m\n"
     ]
    },
    {
     "name": "stderr",
     "output_type": "stream",
     "text": [
      "100%|██████████| 107/107 [00:01<00:00, 70.68it/s]\n",
      "100%|██████████| 18/18 [00:00<00:00, 318.72it/s]\n",
      "100%|██████████| 53/53 [00:00<00:00, 315.08it/s]\n"
     ]
    },
    {
     "name": "stdout",
     "output_type": "stream",
     "text": [
      "Epoch:641/1000.. Train Loss: 0.021.. Val Loss: 0.170.. Test Loss: 0.113.. Time: 0.03m\n"
     ]
    },
    {
     "name": "stderr",
     "output_type": "stream",
     "text": [
      "100%|██████████| 107/107 [00:01<00:00, 70.81it/s]\n",
      "100%|██████████| 18/18 [00:00<00:00, 318.40it/s]\n",
      "100%|██████████| 53/53 [00:00<00:00, 319.22it/s]\n"
     ]
    },
    {
     "name": "stdout",
     "output_type": "stream",
     "text": [
      "Epoch:642/1000.. Train Loss: 0.019.. Val Loss: 0.179.. Test Loss: 0.118.. Time: 0.03m\n"
     ]
    },
    {
     "name": "stderr",
     "output_type": "stream",
     "text": [
      "100%|██████████| 107/107 [00:01<00:00, 71.42it/s]\n",
      "100%|██████████| 18/18 [00:00<00:00, 314.60it/s]\n",
      "100%|██████████| 53/53 [00:00<00:00, 315.92it/s]\n"
     ]
    },
    {
     "name": "stdout",
     "output_type": "stream",
     "text": [
      "Epoch:643/1000.. Train Loss: 0.022.. Val Loss: 0.197.. Test Loss: 0.117.. Time: 0.03m\n"
     ]
    },
    {
     "name": "stderr",
     "output_type": "stream",
     "text": [
      "100%|██████████| 107/107 [00:01<00:00, 70.19it/s]\n",
      "100%|██████████| 18/18 [00:00<00:00, 319.28it/s]\n",
      "100%|██████████| 53/53 [00:00<00:00, 313.67it/s]\n"
     ]
    },
    {
     "name": "stdout",
     "output_type": "stream",
     "text": [
      "Epoch:644/1000.. Train Loss: 0.024.. Val Loss: 0.182.. Test Loss: 0.116.. Time: 0.03m\n"
     ]
    },
    {
     "name": "stderr",
     "output_type": "stream",
     "text": [
      "100%|██████████| 107/107 [00:01<00:00, 71.37it/s]\n",
      "100%|██████████| 18/18 [00:00<00:00, 322.96it/s]\n",
      "100%|██████████| 53/53 [00:00<00:00, 310.31it/s]\n"
     ]
    },
    {
     "name": "stdout",
     "output_type": "stream",
     "text": [
      "Epoch:645/1000.. Train Loss: 0.028.. Val Loss: 0.181.. Test Loss: 0.113.. Time: 0.03m\n"
     ]
    },
    {
     "name": "stderr",
     "output_type": "stream",
     "text": [
      "100%|██████████| 107/107 [00:01<00:00, 70.52it/s]\n",
      "100%|██████████| 18/18 [00:00<00:00, 323.10it/s]\n",
      "100%|██████████| 53/53 [00:00<00:00, 318.33it/s]\n"
     ]
    },
    {
     "name": "stdout",
     "output_type": "stream",
     "text": [
      "Epoch:646/1000.. Train Loss: 0.021.. Val Loss: 0.191.. Test Loss: 0.119.. Time: 0.03m\n"
     ]
    },
    {
     "name": "stderr",
     "output_type": "stream",
     "text": [
      "100%|██████████| 107/107 [00:01<00:00, 70.71it/s]\n",
      "100%|██████████| 18/18 [00:00<00:00, 321.16it/s]\n",
      "100%|██████████| 53/53 [00:00<00:00, 321.08it/s]\n"
     ]
    },
    {
     "name": "stdout",
     "output_type": "stream",
     "text": [
      "Epoch:647/1000.. Train Loss: 0.021.. Val Loss: 0.191.. Test Loss: 0.115.. Time: 0.03m\n"
     ]
    },
    {
     "name": "stderr",
     "output_type": "stream",
     "text": [
      "100%|██████████| 107/107 [00:01<00:00, 70.79it/s]\n",
      "100%|██████████| 18/18 [00:00<00:00, 309.09it/s]\n",
      "100%|██████████| 53/53 [00:00<00:00, 316.96it/s]\n"
     ]
    },
    {
     "name": "stdout",
     "output_type": "stream",
     "text": [
      "Epoch:648/1000.. Train Loss: 0.019.. Val Loss: 0.190.. Test Loss: 0.114.. Time: 0.03m\n"
     ]
    },
    {
     "name": "stderr",
     "output_type": "stream",
     "text": [
      "100%|██████████| 107/107 [00:01<00:00, 61.47it/s]\n",
      "100%|██████████| 18/18 [00:00<00:00, 312.35it/s]\n",
      "100%|██████████| 53/53 [00:00<00:00, 313.62it/s]\n"
     ]
    },
    {
     "name": "stdout",
     "output_type": "stream",
     "text": [
      "Epoch:649/1000.. Train Loss: 0.018.. Val Loss: 0.182.. Test Loss: 0.111.. Time: 0.03m\n"
     ]
    },
    {
     "name": "stderr",
     "output_type": "stream",
     "text": [
      "100%|██████████| 107/107 [00:01<00:00, 60.78it/s]\n",
      "100%|██████████| 18/18 [00:00<00:00, 264.20it/s]\n",
      "100%|██████████| 53/53 [00:00<00:00, 306.50it/s]\n"
     ]
    },
    {
     "name": "stdout",
     "output_type": "stream",
     "text": [
      "Epoch:650/1000.. Train Loss: 0.019.. Val Loss: 0.181.. Test Loss: 0.113.. Time: 0.03m\n"
     ]
    },
    {
     "name": "stderr",
     "output_type": "stream",
     "text": [
      "100%|██████████| 107/107 [00:01<00:00, 65.37it/s]\n",
      "100%|██████████| 18/18 [00:00<00:00, 321.96it/s]\n",
      "100%|██████████| 53/53 [00:00<00:00, 314.05it/s]\n"
     ]
    },
    {
     "name": "stdout",
     "output_type": "stream",
     "text": [
      "Epoch:651/1000.. Train Loss: 0.019.. Val Loss: 0.173.. Test Loss: 0.115.. Time: 0.03m\n"
     ]
    },
    {
     "name": "stderr",
     "output_type": "stream",
     "text": [
      "100%|██████████| 107/107 [00:01<00:00, 63.09it/s]\n",
      "100%|██████████| 18/18 [00:00<00:00, 317.05it/s]\n",
      "100%|██████████| 53/53 [00:00<00:00, 317.06it/s]\n"
     ]
    },
    {
     "name": "stdout",
     "output_type": "stream",
     "text": [
      "Epoch:652/1000.. Train Loss: 0.022.. Val Loss: 0.186.. Test Loss: 0.115.. Time: 0.03m\n"
     ]
    },
    {
     "name": "stderr",
     "output_type": "stream",
     "text": [
      "100%|██████████| 107/107 [00:01<00:00, 66.43it/s]\n",
      "100%|██████████| 18/18 [00:00<00:00, 319.54it/s]\n",
      "100%|██████████| 53/53 [00:00<00:00, 315.18it/s]\n"
     ]
    },
    {
     "name": "stdout",
     "output_type": "stream",
     "text": [
      "Epoch:653/1000.. Train Loss: 0.020.. Val Loss: 0.198.. Test Loss: 0.115.. Time: 0.03m\n"
     ]
    },
    {
     "name": "stderr",
     "output_type": "stream",
     "text": [
      "100%|██████████| 107/107 [00:01<00:00, 63.85it/s]\n",
      "100%|██████████| 18/18 [00:00<00:00, 315.39it/s]\n",
      "100%|██████████| 53/53 [00:00<00:00, 318.22it/s]\n"
     ]
    },
    {
     "name": "stdout",
     "output_type": "stream",
     "text": [
      "Epoch:654/1000.. Train Loss: 0.024.. Val Loss: 0.179.. Test Loss: 0.119.. Time: 0.03m\n"
     ]
    },
    {
     "name": "stderr",
     "output_type": "stream",
     "text": [
      "100%|██████████| 107/107 [00:01<00:00, 64.99it/s]\n",
      "100%|██████████| 18/18 [00:00<00:00, 325.20it/s]\n",
      "100%|██████████| 53/53 [00:00<00:00, 320.90it/s]\n"
     ]
    },
    {
     "name": "stdout",
     "output_type": "stream",
     "text": [
      "Epoch:655/1000.. Train Loss: 0.024.. Val Loss: 0.191.. Test Loss: 0.117.. Time: 0.03m\n"
     ]
    },
    {
     "name": "stderr",
     "output_type": "stream",
     "text": [
      "100%|██████████| 107/107 [00:01<00:00, 62.80it/s]\n",
      "100%|██████████| 18/18 [00:00<00:00, 320.03it/s]\n",
      "100%|██████████| 53/53 [00:00<00:00, 317.53it/s]\n"
     ]
    },
    {
     "name": "stdout",
     "output_type": "stream",
     "text": [
      "Epoch:656/1000.. Train Loss: 0.023.. Val Loss: 0.186.. Test Loss: 0.116.. Time: 0.03m\n"
     ]
    },
    {
     "name": "stderr",
     "output_type": "stream",
     "text": [
      "100%|██████████| 107/107 [00:01<00:00, 66.10it/s]\n",
      "100%|██████████| 18/18 [00:00<00:00, 313.78it/s]\n",
      "100%|██████████| 53/53 [00:00<00:00, 315.40it/s]\n"
     ]
    },
    {
     "name": "stdout",
     "output_type": "stream",
     "text": [
      "Epoch:657/1000.. Train Loss: 0.018.. Val Loss: 0.179.. Test Loss: 0.124.. Time: 0.03m\n"
     ]
    },
    {
     "name": "stderr",
     "output_type": "stream",
     "text": [
      "100%|██████████| 107/107 [00:01<00:00, 64.70it/s]\n",
      "100%|██████████| 18/18 [00:00<00:00, 310.48it/s]\n",
      "100%|██████████| 53/53 [00:00<00:00, 317.10it/s]\n"
     ]
    },
    {
     "name": "stdout",
     "output_type": "stream",
     "text": [
      "Epoch:658/1000.. Train Loss: 0.022.. Val Loss: 0.182.. Test Loss: 0.116.. Time: 0.03m\n"
     ]
    },
    {
     "name": "stderr",
     "output_type": "stream",
     "text": [
      "100%|██████████| 107/107 [00:01<00:00, 64.26it/s]\n",
      "100%|██████████| 18/18 [00:00<00:00, 307.38it/s]\n",
      "100%|██████████| 53/53 [00:00<00:00, 315.07it/s]\n"
     ]
    },
    {
     "name": "stdout",
     "output_type": "stream",
     "text": [
      "Epoch:659/1000.. Train Loss: 0.025.. Val Loss: 0.167.. Test Loss: 0.119.. Time: 0.03m\n"
     ]
    },
    {
     "name": "stderr",
     "output_type": "stream",
     "text": [
      "100%|██████████| 107/107 [00:01<00:00, 63.73it/s]\n",
      "100%|██████████| 18/18 [00:00<00:00, 312.19it/s]\n",
      "100%|██████████| 53/53 [00:00<00:00, 315.39it/s]\n"
     ]
    },
    {
     "name": "stdout",
     "output_type": "stream",
     "text": [
      "Epoch:660/1000.. Train Loss: 0.024.. Val Loss: 0.173.. Test Loss: 0.117.. Time: 0.03m\n"
     ]
    },
    {
     "name": "stderr",
     "output_type": "stream",
     "text": [
      "100%|██████████| 107/107 [00:01<00:00, 66.64it/s]\n",
      "100%|██████████| 18/18 [00:00<00:00, 316.00it/s]\n",
      "100%|██████████| 53/53 [00:00<00:00, 312.56it/s]\n"
     ]
    },
    {
     "name": "stdout",
     "output_type": "stream",
     "text": [
      "Epoch:661/1000.. Train Loss: 0.023.. Val Loss: 0.180.. Test Loss: 0.120.. Time: 0.03m\n"
     ]
    },
    {
     "name": "stderr",
     "output_type": "stream",
     "text": [
      "100%|██████████| 107/107 [00:01<00:00, 64.26it/s]\n",
      "100%|██████████| 18/18 [00:00<00:00, 309.04it/s]\n",
      "100%|██████████| 53/53 [00:00<00:00, 317.34it/s]\n"
     ]
    },
    {
     "name": "stdout",
     "output_type": "stream",
     "text": [
      "Epoch:662/1000.. Train Loss: 0.020.. Val Loss: 0.174.. Test Loss: 0.117.. Time: 0.03m\n"
     ]
    },
    {
     "name": "stderr",
     "output_type": "stream",
     "text": [
      "100%|██████████| 107/107 [00:01<00:00, 63.20it/s]\n",
      "100%|██████████| 18/18 [00:00<00:00, 320.60it/s]\n",
      "100%|██████████| 53/53 [00:00<00:00, 313.69it/s]\n"
     ]
    },
    {
     "name": "stdout",
     "output_type": "stream",
     "text": [
      "Epoch:663/1000.. Train Loss: 0.020.. Val Loss: 0.179.. Test Loss: 0.123.. Time: 0.03m\n"
     ]
    },
    {
     "name": "stderr",
     "output_type": "stream",
     "text": [
      "100%|██████████| 107/107 [00:01<00:00, 63.10it/s]\n",
      "100%|██████████| 18/18 [00:00<00:00, 322.27it/s]\n",
      "100%|██████████| 53/53 [00:00<00:00, 315.43it/s]\n"
     ]
    },
    {
     "name": "stdout",
     "output_type": "stream",
     "text": [
      "Epoch:664/1000.. Train Loss: 0.021.. Val Loss: 0.178.. Test Loss: 0.118.. Time: 0.03m\n"
     ]
    },
    {
     "name": "stderr",
     "output_type": "stream",
     "text": [
      "100%|██████████| 107/107 [00:01<00:00, 64.96it/s]\n",
      "100%|██████████| 18/18 [00:00<00:00, 315.06it/s]\n",
      "100%|██████████| 53/53 [00:00<00:00, 315.82it/s]\n"
     ]
    },
    {
     "name": "stdout",
     "output_type": "stream",
     "text": [
      "Epoch:665/1000.. Train Loss: 0.023.. Val Loss: 0.201.. Test Loss: 0.123.. Time: 0.03m\n"
     ]
    },
    {
     "name": "stderr",
     "output_type": "stream",
     "text": [
      "100%|██████████| 107/107 [00:01<00:00, 64.79it/s]\n",
      "100%|██████████| 18/18 [00:00<00:00, 311.99it/s]\n",
      "100%|██████████| 53/53 [00:00<00:00, 304.39it/s]\n"
     ]
    },
    {
     "name": "stdout",
     "output_type": "stream",
     "text": [
      "Epoch:666/1000.. Train Loss: 0.020.. Val Loss: 0.189.. Test Loss: 0.120.. Time: 0.03m\n"
     ]
    },
    {
     "name": "stderr",
     "output_type": "stream",
     "text": [
      "100%|██████████| 107/107 [00:01<00:00, 63.15it/s]\n",
      "100%|██████████| 18/18 [00:00<00:00, 317.61it/s]\n",
      "100%|██████████| 53/53 [00:00<00:00, 309.19it/s]\n"
     ]
    },
    {
     "name": "stdout",
     "output_type": "stream",
     "text": [
      "Epoch:667/1000.. Train Loss: 0.021.. Val Loss: 0.215.. Test Loss: 0.124.. Time: 0.03m\n"
     ]
    },
    {
     "name": "stderr",
     "output_type": "stream",
     "text": [
      "100%|██████████| 107/107 [00:01<00:00, 64.66it/s]\n",
      "100%|██████████| 18/18 [00:00<00:00, 310.65it/s]\n",
      "100%|██████████| 53/53 [00:00<00:00, 322.07it/s]\n"
     ]
    },
    {
     "name": "stdout",
     "output_type": "stream",
     "text": [
      "Epoch:668/1000.. Train Loss: 0.019.. Val Loss: 0.189.. Test Loss: 0.120.. Time: 0.03m\n"
     ]
    },
    {
     "name": "stderr",
     "output_type": "stream",
     "text": [
      "100%|██████████| 107/107 [00:01<00:00, 64.51it/s]\n",
      "100%|██████████| 18/18 [00:00<00:00, 323.71it/s]\n",
      "100%|██████████| 53/53 [00:00<00:00, 317.36it/s]\n"
     ]
    },
    {
     "name": "stdout",
     "output_type": "stream",
     "text": [
      "Epoch:669/1000.. Train Loss: 0.020.. Val Loss: 0.186.. Test Loss: 0.118.. Time: 0.03m\n"
     ]
    },
    {
     "name": "stderr",
     "output_type": "stream",
     "text": [
      "100%|██████████| 107/107 [00:01<00:00, 62.61it/s]\n",
      "100%|██████████| 18/18 [00:00<00:00, 312.30it/s]\n",
      "100%|██████████| 53/53 [00:00<00:00, 312.42it/s]\n"
     ]
    },
    {
     "name": "stdout",
     "output_type": "stream",
     "text": [
      "Epoch:670/1000.. Train Loss: 0.023.. Val Loss: 0.222.. Test Loss: 0.128.. Time: 0.03m\n"
     ]
    },
    {
     "name": "stderr",
     "output_type": "stream",
     "text": [
      "100%|██████████| 107/107 [00:01<00:00, 64.47it/s]\n",
      "100%|██████████| 18/18 [00:00<00:00, 314.41it/s]\n",
      "100%|██████████| 53/53 [00:00<00:00, 318.10it/s]\n"
     ]
    },
    {
     "name": "stdout",
     "output_type": "stream",
     "text": [
      "Epoch:671/1000.. Train Loss: 0.022.. Val Loss: 0.189.. Test Loss: 0.119.. Time: 0.03m\n"
     ]
    },
    {
     "name": "stderr",
     "output_type": "stream",
     "text": [
      "100%|██████████| 107/107 [00:01<00:00, 64.38it/s]\n",
      "100%|██████████| 18/18 [00:00<00:00, 312.81it/s]\n",
      "100%|██████████| 53/53 [00:00<00:00, 314.19it/s]\n"
     ]
    },
    {
     "name": "stdout",
     "output_type": "stream",
     "text": [
      "Epoch:672/1000.. Train Loss: 0.020.. Val Loss: 0.188.. Test Loss: 0.122.. Time: 0.03m\n"
     ]
    },
    {
     "name": "stderr",
     "output_type": "stream",
     "text": [
      "100%|██████████| 107/107 [00:01<00:00, 65.40it/s]\n",
      "100%|██████████| 18/18 [00:00<00:00, 307.15it/s]\n",
      "100%|██████████| 53/53 [00:00<00:00, 313.35it/s]\n"
     ]
    },
    {
     "name": "stdout",
     "output_type": "stream",
     "text": [
      "Epoch:673/1000.. Train Loss: 0.024.. Val Loss: 0.206.. Test Loss: 0.119.. Time: 0.03m\n"
     ]
    },
    {
     "name": "stderr",
     "output_type": "stream",
     "text": [
      "100%|██████████| 107/107 [00:01<00:00, 64.07it/s]\n",
      "100%|██████████| 18/18 [00:00<00:00, 314.51it/s]\n",
      "100%|██████████| 53/53 [00:00<00:00, 315.05it/s]\n"
     ]
    },
    {
     "name": "stdout",
     "output_type": "stream",
     "text": [
      "Epoch:674/1000.. Train Loss: 0.023.. Val Loss: 0.211.. Test Loss: 0.117.. Time: 0.03m\n"
     ]
    },
    {
     "name": "stderr",
     "output_type": "stream",
     "text": [
      "100%|██████████| 107/107 [00:01<00:00, 64.43it/s]\n",
      "100%|██████████| 18/18 [00:00<00:00, 312.21it/s]\n",
      "100%|██████████| 53/53 [00:00<00:00, 306.42it/s]\n"
     ]
    },
    {
     "name": "stdout",
     "output_type": "stream",
     "text": [
      "Epoch:675/1000.. Train Loss: 0.023.. Val Loss: 0.186.. Test Loss: 0.119.. Time: 0.03m\n"
     ]
    },
    {
     "name": "stderr",
     "output_type": "stream",
     "text": [
      "100%|██████████| 107/107 [00:01<00:00, 65.00it/s]\n",
      "100%|██████████| 18/18 [00:00<00:00, 314.26it/s]\n",
      "100%|██████████| 53/53 [00:00<00:00, 313.50it/s]\n"
     ]
    },
    {
     "name": "stdout",
     "output_type": "stream",
     "text": [
      "Epoch:676/1000.. Train Loss: 0.018.. Val Loss: 0.177.. Test Loss: 0.120.. Time: 0.03m\n"
     ]
    },
    {
     "name": "stderr",
     "output_type": "stream",
     "text": [
      "100%|██████████| 107/107 [00:01<00:00, 65.05it/s]\n",
      "100%|██████████| 18/18 [00:00<00:00, 306.28it/s]\n",
      "100%|██████████| 53/53 [00:00<00:00, 312.79it/s]\n"
     ]
    },
    {
     "name": "stdout",
     "output_type": "stream",
     "text": [
      "Epoch:677/1000.. Train Loss: 0.020.. Val Loss: 0.194.. Test Loss: 0.118.. Time: 0.03m\n"
     ]
    },
    {
     "name": "stderr",
     "output_type": "stream",
     "text": [
      "100%|██████████| 107/107 [00:01<00:00, 64.31it/s]\n",
      "100%|██████████| 18/18 [00:00<00:00, 323.71it/s]\n",
      "100%|██████████| 53/53 [00:00<00:00, 319.43it/s]\n"
     ]
    },
    {
     "name": "stdout",
     "output_type": "stream",
     "text": [
      "Epoch:678/1000.. Train Loss: 0.019.. Val Loss: 0.189.. Test Loss: 0.120.. Time: 0.03m\n"
     ]
    },
    {
     "name": "stderr",
     "output_type": "stream",
     "text": [
      "100%|██████████| 107/107 [00:01<00:00, 64.80it/s]\n",
      "100%|██████████| 18/18 [00:00<00:00, 308.40it/s]\n",
      "100%|██████████| 53/53 [00:00<00:00, 311.98it/s]\n"
     ]
    },
    {
     "name": "stdout",
     "output_type": "stream",
     "text": [
      "Epoch:679/1000.. Train Loss: 0.021.. Val Loss: 0.196.. Test Loss: 0.120.. Time: 0.03m\n"
     ]
    },
    {
     "name": "stderr",
     "output_type": "stream",
     "text": [
      "100%|██████████| 107/107 [00:01<00:00, 64.42it/s]\n",
      "100%|██████████| 18/18 [00:00<00:00, 309.27it/s]\n",
      "100%|██████████| 53/53 [00:00<00:00, 318.47it/s]\n"
     ]
    },
    {
     "name": "stdout",
     "output_type": "stream",
     "text": [
      "Epoch:680/1000.. Train Loss: 0.019.. Val Loss: 0.181.. Test Loss: 0.117.. Time: 0.03m\n"
     ]
    },
    {
     "name": "stderr",
     "output_type": "stream",
     "text": [
      "100%|██████████| 107/107 [00:01<00:00, 65.13it/s]\n",
      "100%|██████████| 18/18 [00:00<00:00, 321.25it/s]\n",
      "100%|██████████| 53/53 [00:00<00:00, 306.78it/s]\n"
     ]
    },
    {
     "name": "stdout",
     "output_type": "stream",
     "text": [
      "Epoch:681/1000.. Train Loss: 0.023.. Val Loss: 0.184.. Test Loss: 0.119.. Time: 0.03m\n"
     ]
    },
    {
     "name": "stderr",
     "output_type": "stream",
     "text": [
      "100%|██████████| 107/107 [00:01<00:00, 66.73it/s]\n",
      "100%|██████████| 18/18 [00:00<00:00, 317.10it/s]\n",
      "100%|██████████| 53/53 [00:00<00:00, 317.96it/s]\n"
     ]
    },
    {
     "name": "stdout",
     "output_type": "stream",
     "text": [
      "Epoch:682/1000.. Train Loss: 0.017.. Val Loss: 0.180.. Test Loss: 0.119.. Time: 0.03m\n"
     ]
    },
    {
     "name": "stderr",
     "output_type": "stream",
     "text": [
      "100%|██████████| 107/107 [00:01<00:00, 62.65it/s]\n",
      "100%|██████████| 18/18 [00:00<00:00, 290.09it/s]\n",
      "100%|██████████| 53/53 [00:00<00:00, 318.77it/s]\n"
     ]
    },
    {
     "name": "stdout",
     "output_type": "stream",
     "text": [
      "Epoch:683/1000.. Train Loss: 0.021.. Val Loss: 0.185.. Test Loss: 0.126.. Time: 0.03m\n"
     ]
    },
    {
     "name": "stderr",
     "output_type": "stream",
     "text": [
      "100%|██████████| 107/107 [00:01<00:00, 65.65it/s]\n",
      "100%|██████████| 18/18 [00:00<00:00, 311.75it/s]\n",
      "100%|██████████| 53/53 [00:00<00:00, 319.52it/s]\n"
     ]
    },
    {
     "name": "stdout",
     "output_type": "stream",
     "text": [
      "Epoch:684/1000.. Train Loss: 0.022.. Val Loss: 0.198.. Test Loss: 0.122.. Time: 0.03m\n"
     ]
    },
    {
     "name": "stderr",
     "output_type": "stream",
     "text": [
      "100%|██████████| 107/107 [00:01<00:00, 64.11it/s]\n",
      "100%|██████████| 18/18 [00:00<00:00, 297.31it/s]\n",
      "100%|██████████| 53/53 [00:00<00:00, 313.36it/s]\n"
     ]
    },
    {
     "name": "stdout",
     "output_type": "stream",
     "text": [
      "Epoch:685/1000.. Train Loss: 0.021.. Val Loss: 0.187.. Test Loss: 0.122.. Time: 0.03m\n"
     ]
    },
    {
     "name": "stderr",
     "output_type": "stream",
     "text": [
      "100%|██████████| 107/107 [00:01<00:00, 64.42it/s]\n",
      "100%|██████████| 18/18 [00:00<00:00, 313.97it/s]\n",
      "100%|██████████| 53/53 [00:00<00:00, 310.42it/s]\n"
     ]
    },
    {
     "name": "stdout",
     "output_type": "stream",
     "text": [
      "Epoch:686/1000.. Train Loss: 0.024.. Val Loss: 0.191.. Test Loss: 0.118.. Time: 0.03m\n"
     ]
    },
    {
     "name": "stderr",
     "output_type": "stream",
     "text": [
      "100%|██████████| 107/107 [00:01<00:00, 64.64it/s]\n",
      "100%|██████████| 18/18 [00:00<00:00, 313.15it/s]\n",
      "100%|██████████| 53/53 [00:00<00:00, 318.43it/s]\n"
     ]
    },
    {
     "name": "stdout",
     "output_type": "stream",
     "text": [
      "Epoch:687/1000.. Train Loss: 0.019.. Val Loss: 0.187.. Test Loss: 0.122.. Time: 0.03m\n"
     ]
    },
    {
     "name": "stderr",
     "output_type": "stream",
     "text": [
      "100%|██████████| 107/107 [00:01<00:00, 65.45it/s]\n",
      "100%|██████████| 18/18 [00:00<00:00, 312.59it/s]\n",
      "100%|██████████| 53/53 [00:00<00:00, 310.07it/s]\n"
     ]
    },
    {
     "name": "stdout",
     "output_type": "stream",
     "text": [
      "Epoch:688/1000.. Train Loss: 0.021.. Val Loss: 0.181.. Test Loss: 0.120.. Time: 0.03m\n"
     ]
    },
    {
     "name": "stderr",
     "output_type": "stream",
     "text": [
      "100%|██████████| 107/107 [00:01<00:00, 63.63it/s]\n",
      "100%|██████████| 18/18 [00:00<00:00, 316.47it/s]\n",
      "100%|██████████| 53/53 [00:00<00:00, 313.83it/s]\n"
     ]
    },
    {
     "name": "stdout",
     "output_type": "stream",
     "text": [
      "Epoch:689/1000.. Train Loss: 0.019.. Val Loss: 0.199.. Test Loss: 0.121.. Time: 0.03m\n"
     ]
    },
    {
     "name": "stderr",
     "output_type": "stream",
     "text": [
      "100%|██████████| 107/107 [00:01<00:00, 66.00it/s]\n",
      "100%|██████████| 18/18 [00:00<00:00, 310.42it/s]\n",
      "100%|██████████| 53/53 [00:00<00:00, 312.65it/s]\n"
     ]
    },
    {
     "name": "stdout",
     "output_type": "stream",
     "text": [
      "Epoch:690/1000.. Train Loss: 0.017.. Val Loss: 0.189.. Test Loss: 0.122.. Time: 0.03m\n"
     ]
    },
    {
     "name": "stderr",
     "output_type": "stream",
     "text": [
      "100%|██████████| 107/107 [00:01<00:00, 64.17it/s]\n",
      "100%|██████████| 18/18 [00:00<00:00, 316.65it/s]\n",
      "100%|██████████| 53/53 [00:00<00:00, 323.26it/s]\n"
     ]
    },
    {
     "name": "stdout",
     "output_type": "stream",
     "text": [
      "Epoch:691/1000.. Train Loss: 0.023.. Val Loss: 0.178.. Test Loss: 0.110.. Time: 0.03m\n"
     ]
    },
    {
     "name": "stderr",
     "output_type": "stream",
     "text": [
      "100%|██████████| 107/107 [00:01<00:00, 67.00it/s]\n",
      "100%|██████████| 18/18 [00:00<00:00, 313.07it/s]\n",
      "100%|██████████| 53/53 [00:00<00:00, 317.32it/s]\n"
     ]
    },
    {
     "name": "stdout",
     "output_type": "stream",
     "text": [
      "Epoch:692/1000.. Train Loss: 0.017.. Val Loss: 0.185.. Test Loss: 0.118.. Time: 0.03m\n"
     ]
    },
    {
     "name": "stderr",
     "output_type": "stream",
     "text": [
      "100%|██████████| 107/107 [00:01<00:00, 63.20it/s]\n",
      "100%|██████████| 18/18 [00:00<00:00, 307.44it/s]\n",
      "100%|██████████| 53/53 [00:00<00:00, 319.58it/s]\n"
     ]
    },
    {
     "name": "stdout",
     "output_type": "stream",
     "text": [
      "Epoch:693/1000.. Train Loss: 0.020.. Val Loss: 0.210.. Test Loss: 0.123.. Time: 0.03m\n"
     ]
    },
    {
     "name": "stderr",
     "output_type": "stream",
     "text": [
      "100%|██████████| 107/107 [00:01<00:00, 65.50it/s]\n",
      "100%|██████████| 18/18 [00:00<00:00, 311.63it/s]\n",
      "100%|██████████| 53/53 [00:00<00:00, 312.54it/s]\n"
     ]
    },
    {
     "name": "stdout",
     "output_type": "stream",
     "text": [
      "Epoch:694/1000.. Train Loss: 0.019.. Val Loss: 0.186.. Test Loss: 0.123.. Time: 0.03m\n"
     ]
    },
    {
     "name": "stderr",
     "output_type": "stream",
     "text": [
      "100%|██████████| 107/107 [00:01<00:00, 64.90it/s]\n",
      "100%|██████████| 18/18 [00:00<00:00, 248.08it/s]\n",
      "100%|██████████| 53/53 [00:00<00:00, 312.59it/s]\n"
     ]
    },
    {
     "name": "stdout",
     "output_type": "stream",
     "text": [
      "Epoch:695/1000.. Train Loss: 0.018.. Val Loss: 0.182.. Test Loss: 0.120.. Time: 0.03m\n"
     ]
    },
    {
     "name": "stderr",
     "output_type": "stream",
     "text": [
      "100%|██████████| 107/107 [00:01<00:00, 65.03it/s]\n",
      "100%|██████████| 18/18 [00:00<00:00, 310.55it/s]\n",
      "100%|██████████| 53/53 [00:00<00:00, 312.61it/s]\n"
     ]
    },
    {
     "name": "stdout",
     "output_type": "stream",
     "text": [
      "Epoch:696/1000.. Train Loss: 0.019.. Val Loss: 0.187.. Test Loss: 0.120.. Time: 0.03m\n"
     ]
    },
    {
     "name": "stderr",
     "output_type": "stream",
     "text": [
      "100%|██████████| 107/107 [00:01<00:00, 57.72it/s]\n",
      "100%|██████████| 18/18 [00:00<00:00, 304.31it/s]\n",
      "100%|██████████| 53/53 [00:00<00:00, 312.16it/s]\n"
     ]
    },
    {
     "name": "stdout",
     "output_type": "stream",
     "text": [
      "Epoch:697/1000.. Train Loss: 0.021.. Val Loss: 0.200.. Test Loss: 0.119.. Time: 0.03m\n"
     ]
    },
    {
     "name": "stderr",
     "output_type": "stream",
     "text": [
      "100%|██████████| 107/107 [00:01<00:00, 64.06it/s]\n",
      "100%|██████████| 18/18 [00:00<00:00, 317.90it/s]\n",
      "100%|██████████| 53/53 [00:00<00:00, 300.70it/s]\n"
     ]
    },
    {
     "name": "stdout",
     "output_type": "stream",
     "text": [
      "Epoch:698/1000.. Train Loss: 0.021.. Val Loss: 0.181.. Test Loss: 0.118.. Time: 0.03m\n"
     ]
    },
    {
     "name": "stderr",
     "output_type": "stream",
     "text": [
      "100%|██████████| 107/107 [00:01<00:00, 63.02it/s]\n",
      "100%|██████████| 18/18 [00:00<00:00, 291.71it/s]\n",
      "100%|██████████| 53/53 [00:00<00:00, 316.63it/s]\n"
     ]
    },
    {
     "name": "stdout",
     "output_type": "stream",
     "text": [
      "Epoch:699/1000.. Train Loss: 0.022.. Val Loss: 0.230.. Test Loss: 0.120.. Time: 0.03m\n"
     ]
    },
    {
     "name": "stderr",
     "output_type": "stream",
     "text": [
      "100%|██████████| 107/107 [00:01<00:00, 64.91it/s]\n",
      "100%|██████████| 18/18 [00:00<00:00, 320.29it/s]\n",
      "100%|██████████| 53/53 [00:00<00:00, 320.11it/s]\n"
     ]
    },
    {
     "name": "stdout",
     "output_type": "stream",
     "text": [
      "Epoch:700/1000.. Train Loss: 0.018.. Val Loss: 0.180.. Test Loss: 0.119.. Time: 0.03m\n"
     ]
    },
    {
     "name": "stderr",
     "output_type": "stream",
     "text": [
      "100%|██████████| 107/107 [00:01<00:00, 64.25it/s]\n",
      "100%|██████████| 18/18 [00:00<00:00, 317.02it/s]\n",
      "100%|██████████| 53/53 [00:00<00:00, 319.63it/s]\n"
     ]
    },
    {
     "name": "stdout",
     "output_type": "stream",
     "text": [
      "Epoch:701/1000.. Train Loss: 0.019.. Val Loss: 0.192.. Test Loss: 0.119.. Time: 0.03m\n"
     ]
    },
    {
     "name": "stderr",
     "output_type": "stream",
     "text": [
      "100%|██████████| 107/107 [00:01<00:00, 60.16it/s]\n",
      "100%|██████████| 18/18 [00:00<00:00, 313.28it/s]\n",
      "100%|██████████| 53/53 [00:00<00:00, 318.67it/s]\n"
     ]
    },
    {
     "name": "stdout",
     "output_type": "stream",
     "text": [
      "Epoch:702/1000.. Train Loss: 0.018.. Val Loss: 0.181.. Test Loss: 0.124.. Time: 0.03m\n"
     ]
    },
    {
     "name": "stderr",
     "output_type": "stream",
     "text": [
      "100%|██████████| 107/107 [00:01<00:00, 63.58it/s]\n",
      "100%|██████████| 18/18 [00:00<00:00, 318.90it/s]\n",
      "100%|██████████| 53/53 [00:00<00:00, 319.22it/s]\n"
     ]
    },
    {
     "name": "stdout",
     "output_type": "stream",
     "text": [
      "Epoch:703/1000.. Train Loss: 0.019.. Val Loss: 0.179.. Test Loss: 0.120.. Time: 0.03m\n"
     ]
    },
    {
     "name": "stderr",
     "output_type": "stream",
     "text": [
      "100%|██████████| 107/107 [00:01<00:00, 65.54it/s]\n",
      "100%|██████████| 18/18 [00:00<00:00, 273.17it/s]\n",
      "100%|██████████| 53/53 [00:00<00:00, 319.71it/s]\n"
     ]
    },
    {
     "name": "stdout",
     "output_type": "stream",
     "text": [
      "Epoch:704/1000.. Train Loss: 0.020.. Val Loss: 0.173.. Test Loss: 0.123.. Time: 0.03m\n"
     ]
    },
    {
     "name": "stderr",
     "output_type": "stream",
     "text": [
      "100%|██████████| 107/107 [00:01<00:00, 63.12it/s]\n",
      "100%|██████████| 18/18 [00:00<00:00, 322.31it/s]\n",
      "100%|██████████| 53/53 [00:00<00:00, 313.28it/s]\n"
     ]
    },
    {
     "name": "stdout",
     "output_type": "stream",
     "text": [
      "Epoch:705/1000.. Train Loss: 0.020.. Val Loss: 0.189.. Test Loss: 0.119.. Time: 0.03m\n"
     ]
    },
    {
     "name": "stderr",
     "output_type": "stream",
     "text": [
      "100%|██████████| 107/107 [00:01<00:00, 63.24it/s]\n",
      "100%|██████████| 18/18 [00:00<00:00, 311.46it/s]\n",
      "100%|██████████| 53/53 [00:00<00:00, 315.43it/s]\n"
     ]
    },
    {
     "name": "stdout",
     "output_type": "stream",
     "text": [
      "Epoch:706/1000.. Train Loss: 0.026.. Val Loss: 0.170.. Test Loss: 0.117.. Time: 0.03m\n"
     ]
    },
    {
     "name": "stderr",
     "output_type": "stream",
     "text": [
      "100%|██████████| 107/107 [00:01<00:00, 63.30it/s]\n",
      "100%|██████████| 18/18 [00:00<00:00, 310.03it/s]\n",
      "100%|██████████| 53/53 [00:00<00:00, 313.96it/s]\n"
     ]
    },
    {
     "name": "stdout",
     "output_type": "stream",
     "text": [
      "Epoch:707/1000.. Train Loss: 0.019.. Val Loss: 0.182.. Test Loss: 0.120.. Time: 0.03m\n"
     ]
    },
    {
     "name": "stderr",
     "output_type": "stream",
     "text": [
      "100%|██████████| 107/107 [00:01<00:00, 60.18it/s]\n",
      "100%|██████████| 18/18 [00:00<00:00, 240.10it/s]\n",
      "100%|██████████| 53/53 [00:00<00:00, 314.39it/s]\n"
     ]
    },
    {
     "name": "stdout",
     "output_type": "stream",
     "text": [
      "Epoch:708/1000.. Train Loss: 0.023.. Val Loss: 0.171.. Test Loss: 0.121.. Time: 0.03m\n"
     ]
    },
    {
     "name": "stderr",
     "output_type": "stream",
     "text": [
      "100%|██████████| 107/107 [00:01<00:00, 66.41it/s]\n",
      "100%|██████████| 18/18 [00:00<00:00, 306.06it/s]\n",
      "100%|██████████| 53/53 [00:00<00:00, 311.52it/s]\n"
     ]
    },
    {
     "name": "stdout",
     "output_type": "stream",
     "text": [
      "Epoch:709/1000.. Train Loss: 0.022.. Val Loss: 0.189.. Test Loss: 0.119.. Time: 0.03m\n"
     ]
    },
    {
     "name": "stderr",
     "output_type": "stream",
     "text": [
      "100%|██████████| 107/107 [00:01<00:00, 62.93it/s]\n",
      "100%|██████████| 18/18 [00:00<00:00, 315.48it/s]\n",
      "100%|██████████| 53/53 [00:00<00:00, 251.48it/s]\n"
     ]
    },
    {
     "name": "stdout",
     "output_type": "stream",
     "text": [
      "Epoch:710/1000.. Train Loss: 0.021.. Val Loss: 0.171.. Test Loss: 0.120.. Time: 0.03m\n"
     ]
    },
    {
     "name": "stderr",
     "output_type": "stream",
     "text": [
      "100%|██████████| 107/107 [00:01<00:00, 61.93it/s]\n",
      "100%|██████████| 18/18 [00:00<00:00, 318.88it/s]\n",
      "100%|██████████| 53/53 [00:00<00:00, 318.29it/s]\n"
     ]
    },
    {
     "name": "stdout",
     "output_type": "stream",
     "text": [
      "Epoch:711/1000.. Train Loss: 0.019.. Val Loss: 0.179.. Test Loss: 0.122.. Time: 0.03m\n"
     ]
    },
    {
     "name": "stderr",
     "output_type": "stream",
     "text": [
      "100%|██████████| 107/107 [00:01<00:00, 65.56it/s]\n",
      "100%|██████████| 18/18 [00:00<00:00, 310.87it/s]\n",
      "100%|██████████| 53/53 [00:00<00:00, 319.51it/s]\n"
     ]
    },
    {
     "name": "stdout",
     "output_type": "stream",
     "text": [
      "Epoch:712/1000.. Train Loss: 0.019.. Val Loss: 0.177.. Test Loss: 0.124.. Time: 0.03m\n"
     ]
    },
    {
     "name": "stderr",
     "output_type": "stream",
     "text": [
      "100%|██████████| 107/107 [00:01<00:00, 63.63it/s]\n",
      "100%|██████████| 18/18 [00:00<00:00, 315.55it/s]\n",
      "100%|██████████| 53/53 [00:00<00:00, 306.29it/s]\n"
     ]
    },
    {
     "name": "stdout",
     "output_type": "stream",
     "text": [
      "Epoch:713/1000.. Train Loss: 0.018.. Val Loss: 0.198.. Test Loss: 0.124.. Time: 0.03m\n"
     ]
    },
    {
     "name": "stderr",
     "output_type": "stream",
     "text": [
      "100%|██████████| 107/107 [00:01<00:00, 66.40it/s]\n",
      "100%|██████████| 18/18 [00:00<00:00, 306.46it/s]\n",
      "100%|██████████| 53/53 [00:00<00:00, 320.90it/s]\n"
     ]
    },
    {
     "name": "stdout",
     "output_type": "stream",
     "text": [
      "Epoch:714/1000.. Train Loss: 0.016.. Val Loss: 0.175.. Test Loss: 0.122.. Time: 0.03m\n"
     ]
    },
    {
     "name": "stderr",
     "output_type": "stream",
     "text": [
      "100%|██████████| 107/107 [00:01<00:00, 64.53it/s]\n",
      "100%|██████████| 18/18 [00:00<00:00, 325.37it/s]\n",
      "100%|██████████| 53/53 [00:00<00:00, 316.29it/s]\n"
     ]
    },
    {
     "name": "stdout",
     "output_type": "stream",
     "text": [
      "Epoch:715/1000.. Train Loss: 0.019.. Val Loss: 0.189.. Test Loss: 0.120.. Time: 0.03m\n"
     ]
    },
    {
     "name": "stderr",
     "output_type": "stream",
     "text": [
      "100%|██████████| 107/107 [00:01<00:00, 65.21it/s]\n",
      "100%|██████████| 18/18 [00:00<00:00, 315.75it/s]\n",
      "100%|██████████| 53/53 [00:00<00:00, 315.72it/s]\n"
     ]
    },
    {
     "name": "stdout",
     "output_type": "stream",
     "text": [
      "Epoch:716/1000.. Train Loss: 0.019.. Val Loss: 0.172.. Test Loss: 0.120.. Time: 0.03m\n"
     ]
    },
    {
     "name": "stderr",
     "output_type": "stream",
     "text": [
      "100%|██████████| 107/107 [00:01<00:00, 63.78it/s]\n",
      "100%|██████████| 18/18 [00:00<00:00, 319.72it/s]\n",
      "100%|██████████| 53/53 [00:00<00:00, 313.82it/s]\n"
     ]
    },
    {
     "name": "stdout",
     "output_type": "stream",
     "text": [
      "Epoch:717/1000.. Train Loss: 0.018.. Val Loss: 0.198.. Test Loss: 0.125.. Time: 0.03m\n"
     ]
    },
    {
     "name": "stderr",
     "output_type": "stream",
     "text": [
      "100%|██████████| 107/107 [00:01<00:00, 66.28it/s]\n",
      "100%|██████████| 18/18 [00:00<00:00, 309.04it/s]\n",
      "100%|██████████| 53/53 [00:00<00:00, 313.68it/s]\n"
     ]
    },
    {
     "name": "stdout",
     "output_type": "stream",
     "text": [
      "Epoch:718/1000.. Train Loss: 0.016.. Val Loss: 0.181.. Test Loss: 0.127.. Time: 0.03m\n"
     ]
    },
    {
     "name": "stderr",
     "output_type": "stream",
     "text": [
      "100%|██████████| 107/107 [00:01<00:00, 59.55it/s]\n",
      "100%|██████████| 18/18 [00:00<00:00, 315.73it/s]\n",
      "100%|██████████| 53/53 [00:00<00:00, 317.66it/s]\n"
     ]
    },
    {
     "name": "stdout",
     "output_type": "stream",
     "text": [
      "Epoch:719/1000.. Train Loss: 0.020.. Val Loss: 0.199.. Test Loss: 0.123.. Time: 0.03m\n"
     ]
    },
    {
     "name": "stderr",
     "output_type": "stream",
     "text": [
      "100%|██████████| 107/107 [00:01<00:00, 64.74it/s]\n",
      "100%|██████████| 18/18 [00:00<00:00, 241.76it/s]\n",
      "100%|██████████| 53/53 [00:00<00:00, 275.16it/s]\n"
     ]
    },
    {
     "name": "stdout",
     "output_type": "stream",
     "text": [
      "Epoch:720/1000.. Train Loss: 0.019.. Val Loss: 0.179.. Test Loss: 0.120.. Time: 0.03m\n"
     ]
    },
    {
     "name": "stderr",
     "output_type": "stream",
     "text": [
      "100%|██████████| 107/107 [00:01<00:00, 63.18it/s]\n",
      "100%|██████████| 18/18 [00:00<00:00, 316.73it/s]\n",
      "100%|██████████| 53/53 [00:00<00:00, 316.17it/s]\n"
     ]
    },
    {
     "name": "stdout",
     "output_type": "stream",
     "text": [
      "Epoch:721/1000.. Train Loss: 0.020.. Val Loss: 0.174.. Test Loss: 0.124.. Time: 0.03m\n"
     ]
    },
    {
     "name": "stderr",
     "output_type": "stream",
     "text": [
      "100%|██████████| 107/107 [00:01<00:00, 63.35it/s]\n",
      "100%|██████████| 18/18 [00:00<00:00, 316.49it/s]\n",
      "100%|██████████| 53/53 [00:00<00:00, 316.30it/s]\n"
     ]
    },
    {
     "name": "stdout",
     "output_type": "stream",
     "text": [
      "Epoch:722/1000.. Train Loss: 0.023.. Val Loss: 0.188.. Test Loss: 0.124.. Time: 0.03m\n"
     ]
    },
    {
     "name": "stderr",
     "output_type": "stream",
     "text": [
      "100%|██████████| 107/107 [00:01<00:00, 64.18it/s]\n",
      "100%|██████████| 18/18 [00:00<00:00, 315.05it/s]\n",
      "100%|██████████| 53/53 [00:00<00:00, 317.66it/s]\n"
     ]
    },
    {
     "name": "stdout",
     "output_type": "stream",
     "text": [
      "Epoch:723/1000.. Train Loss: 0.020.. Val Loss: 0.196.. Test Loss: 0.123.. Time: 0.03m\n"
     ]
    },
    {
     "name": "stderr",
     "output_type": "stream",
     "text": [
      "100%|██████████| 107/107 [00:01<00:00, 66.52it/s]\n",
      "100%|██████████| 18/18 [00:00<00:00, 319.35it/s]\n",
      "100%|██████████| 53/53 [00:00<00:00, 315.53it/s]\n"
     ]
    },
    {
     "name": "stdout",
     "output_type": "stream",
     "text": [
      "Epoch:724/1000.. Train Loss: 0.018.. Val Loss: 0.205.. Test Loss: 0.122.. Time: 0.03m\n"
     ]
    },
    {
     "name": "stderr",
     "output_type": "stream",
     "text": [
      "100%|██████████| 107/107 [00:01<00:00, 65.12it/s]\n",
      "100%|██████████| 18/18 [00:00<00:00, 319.04it/s]\n",
      "100%|██████████| 53/53 [00:00<00:00, 319.11it/s]\n"
     ]
    },
    {
     "name": "stdout",
     "output_type": "stream",
     "text": [
      "Epoch:725/1000.. Train Loss: 0.019.. Val Loss: 0.181.. Test Loss: 0.121.. Time: 0.03m\n"
     ]
    },
    {
     "name": "stderr",
     "output_type": "stream",
     "text": [
      "100%|██████████| 107/107 [00:01<00:00, 65.27it/s]\n",
      "100%|██████████| 18/18 [00:00<00:00, 308.92it/s]\n",
      "100%|██████████| 53/53 [00:00<00:00, 300.62it/s]\n"
     ]
    },
    {
     "name": "stdout",
     "output_type": "stream",
     "text": [
      "Epoch:726/1000.. Train Loss: 0.017.. Val Loss: 0.177.. Test Loss: 0.126.. Time: 0.03m\n"
     ]
    },
    {
     "name": "stderr",
     "output_type": "stream",
     "text": [
      "100%|██████████| 107/107 [00:01<00:00, 65.61it/s]\n",
      "100%|██████████| 18/18 [00:00<00:00, 314.39it/s]\n",
      "100%|██████████| 53/53 [00:00<00:00, 318.40it/s]\n"
     ]
    },
    {
     "name": "stdout",
     "output_type": "stream",
     "text": [
      "Epoch:727/1000.. Train Loss: 0.018.. Val Loss: 0.178.. Test Loss: 0.129.. Time: 0.03m\n"
     ]
    },
    {
     "name": "stderr",
     "output_type": "stream",
     "text": [
      "100%|██████████| 107/107 [00:01<00:00, 62.10it/s]\n",
      "100%|██████████| 18/18 [00:00<00:00, 304.25it/s]\n",
      "100%|██████████| 53/53 [00:00<00:00, 316.51it/s]\n"
     ]
    },
    {
     "name": "stdout",
     "output_type": "stream",
     "text": [
      "Epoch:728/1000.. Train Loss: 0.017.. Val Loss: 0.172.. Test Loss: 0.126.. Time: 0.03m\n"
     ]
    },
    {
     "name": "stderr",
     "output_type": "stream",
     "text": [
      "100%|██████████| 107/107 [00:01<00:00, 66.51it/s]\n",
      "100%|██████████| 18/18 [00:00<00:00, 319.42it/s]\n",
      "100%|██████████| 53/53 [00:00<00:00, 317.41it/s]\n"
     ]
    },
    {
     "name": "stdout",
     "output_type": "stream",
     "text": [
      "Epoch:729/1000.. Train Loss: 0.018.. Val Loss: 0.172.. Test Loss: 0.123.. Time: 0.03m\n"
     ]
    },
    {
     "name": "stderr",
     "output_type": "stream",
     "text": [
      "100%|██████████| 107/107 [00:01<00:00, 64.94it/s]\n",
      "100%|██████████| 18/18 [00:00<00:00, 305.82it/s]\n",
      "100%|██████████| 53/53 [00:00<00:00, 311.78it/s]\n"
     ]
    },
    {
     "name": "stdout",
     "output_type": "stream",
     "text": [
      "Epoch:730/1000.. Train Loss: 0.016.. Val Loss: 0.186.. Test Loss: 0.119.. Time: 0.03m\n"
     ]
    },
    {
     "name": "stderr",
     "output_type": "stream",
     "text": [
      "100%|██████████| 107/107 [00:01<00:00, 63.96it/s]\n",
      "100%|██████████| 18/18 [00:00<00:00, 318.76it/s]\n",
      "100%|██████████| 53/53 [00:00<00:00, 317.39it/s]\n"
     ]
    },
    {
     "name": "stdout",
     "output_type": "stream",
     "text": [
      "Epoch:731/1000.. Train Loss: 0.020.. Val Loss: 0.183.. Test Loss: 0.120.. Time: 0.03m\n"
     ]
    },
    {
     "name": "stderr",
     "output_type": "stream",
     "text": [
      "100%|██████████| 107/107 [00:01<00:00, 65.22it/s]\n",
      "100%|██████████| 18/18 [00:00<00:00, 315.92it/s]\n",
      "100%|██████████| 53/53 [00:00<00:00, 315.58it/s]\n"
     ]
    },
    {
     "name": "stdout",
     "output_type": "stream",
     "text": [
      "Epoch:732/1000.. Train Loss: 0.020.. Val Loss: 0.187.. Test Loss: 0.128.. Time: 0.03m\n"
     ]
    },
    {
     "name": "stderr",
     "output_type": "stream",
     "text": [
      "100%|██████████| 107/107 [00:01<00:00, 64.43it/s]\n",
      "100%|██████████| 18/18 [00:00<00:00, 321.58it/s]\n",
      "100%|██████████| 53/53 [00:00<00:00, 314.87it/s]\n"
     ]
    },
    {
     "name": "stdout",
     "output_type": "stream",
     "text": [
      "Epoch:733/1000.. Train Loss: 0.027.. Val Loss: 0.172.. Test Loss: 0.121.. Time: 0.03m\n"
     ]
    },
    {
     "name": "stderr",
     "output_type": "stream",
     "text": [
      "100%|██████████| 107/107 [00:01<00:00, 65.16it/s]\n",
      "100%|██████████| 18/18 [00:00<00:00, 285.03it/s]\n",
      "100%|██████████| 53/53 [00:00<00:00, 320.61it/s]\n"
     ]
    },
    {
     "name": "stdout",
     "output_type": "stream",
     "text": [
      "Epoch:734/1000.. Train Loss: 0.019.. Val Loss: 0.178.. Test Loss: 0.121.. Time: 0.03m\n"
     ]
    },
    {
     "name": "stderr",
     "output_type": "stream",
     "text": [
      "100%|██████████| 107/107 [00:01<00:00, 65.51it/s]\n",
      "100%|██████████| 18/18 [00:00<00:00, 316.31it/s]\n",
      "100%|██████████| 53/53 [00:00<00:00, 315.51it/s]\n"
     ]
    },
    {
     "name": "stdout",
     "output_type": "stream",
     "text": [
      "Epoch:735/1000.. Train Loss: 0.017.. Val Loss: 0.196.. Test Loss: 0.129.. Time: 0.03m\n"
     ]
    },
    {
     "name": "stderr",
     "output_type": "stream",
     "text": [
      "100%|██████████| 107/107 [00:01<00:00, 65.26it/s]\n",
      "100%|██████████| 18/18 [00:00<00:00, 310.47it/s]\n",
      "100%|██████████| 53/53 [00:00<00:00, 298.54it/s]\n"
     ]
    },
    {
     "name": "stdout",
     "output_type": "stream",
     "text": [
      "Epoch:736/1000.. Train Loss: 0.022.. Val Loss: 0.185.. Test Loss: 0.127.. Time: 0.03m\n"
     ]
    },
    {
     "name": "stderr",
     "output_type": "stream",
     "text": [
      "100%|██████████| 107/107 [00:01<00:00, 64.37it/s]\n",
      "100%|██████████| 18/18 [00:00<00:00, 314.78it/s]\n",
      "100%|██████████| 53/53 [00:00<00:00, 317.42it/s]\n"
     ]
    },
    {
     "name": "stdout",
     "output_type": "stream",
     "text": [
      "Epoch:737/1000.. Train Loss: 0.020.. Val Loss: 0.181.. Test Loss: 0.123.. Time: 0.03m\n"
     ]
    },
    {
     "name": "stderr",
     "output_type": "stream",
     "text": [
      "100%|██████████| 107/107 [00:01<00:00, 64.08it/s]\n",
      "100%|██████████| 18/18 [00:00<00:00, 309.75it/s]\n",
      "100%|██████████| 53/53 [00:00<00:00, 313.72it/s]\n"
     ]
    },
    {
     "name": "stdout",
     "output_type": "stream",
     "text": [
      "Epoch:738/1000.. Train Loss: 0.019.. Val Loss: 0.187.. Test Loss: 0.124.. Time: 0.03m\n"
     ]
    },
    {
     "name": "stderr",
     "output_type": "stream",
     "text": [
      "100%|██████████| 107/107 [00:01<00:00, 64.31it/s]\n",
      "100%|██████████| 18/18 [00:00<00:00, 319.87it/s]\n",
      "100%|██████████| 53/53 [00:00<00:00, 316.92it/s]\n"
     ]
    },
    {
     "name": "stdout",
     "output_type": "stream",
     "text": [
      "Epoch:739/1000.. Train Loss: 0.019.. Val Loss: 0.189.. Test Loss: 0.128.. Time: 0.03m\n"
     ]
    },
    {
     "name": "stderr",
     "output_type": "stream",
     "text": [
      "100%|██████████| 107/107 [00:01<00:00, 64.10it/s]\n",
      "100%|██████████| 18/18 [00:00<00:00, 312.10it/s]\n",
      "100%|██████████| 53/53 [00:00<00:00, 284.49it/s]\n"
     ]
    },
    {
     "name": "stdout",
     "output_type": "stream",
     "text": [
      "Epoch:740/1000.. Train Loss: 0.017.. Val Loss: 0.176.. Test Loss: 0.122.. Time: 0.03m\n"
     ]
    },
    {
     "name": "stderr",
     "output_type": "stream",
     "text": [
      "100%|██████████| 107/107 [00:01<00:00, 64.10it/s]\n",
      "100%|██████████| 18/18 [00:00<00:00, 301.07it/s]\n",
      "100%|██████████| 53/53 [00:00<00:00, 321.48it/s]\n"
     ]
    },
    {
     "name": "stdout",
     "output_type": "stream",
     "text": [
      "Epoch:741/1000.. Train Loss: 0.020.. Val Loss: 0.180.. Test Loss: 0.121.. Time: 0.03m\n"
     ]
    },
    {
     "name": "stderr",
     "output_type": "stream",
     "text": [
      "100%|██████████| 107/107 [00:01<00:00, 66.32it/s]\n",
      "100%|██████████| 18/18 [00:00<00:00, 303.97it/s]\n",
      "100%|██████████| 53/53 [00:00<00:00, 310.20it/s]\n"
     ]
    },
    {
     "name": "stdout",
     "output_type": "stream",
     "text": [
      "Epoch:742/1000.. Train Loss: 0.020.. Val Loss: 0.176.. Test Loss: 0.120.. Time: 0.03m\n"
     ]
    },
    {
     "name": "stderr",
     "output_type": "stream",
     "text": [
      "100%|██████████| 107/107 [00:01<00:00, 62.88it/s]\n",
      "100%|██████████| 18/18 [00:00<00:00, 312.25it/s]\n",
      "100%|██████████| 53/53 [00:00<00:00, 318.21it/s]\n"
     ]
    },
    {
     "name": "stdout",
     "output_type": "stream",
     "text": [
      "Epoch:743/1000.. Train Loss: 0.018.. Val Loss: 0.174.. Test Loss: 0.120.. Time: 0.03m\n"
     ]
    },
    {
     "name": "stderr",
     "output_type": "stream",
     "text": [
      "100%|██████████| 107/107 [00:01<00:00, 65.80it/s]\n",
      "100%|██████████| 18/18 [00:00<00:00, 310.91it/s]\n",
      "100%|██████████| 53/53 [00:00<00:00, 313.38it/s]\n"
     ]
    },
    {
     "name": "stdout",
     "output_type": "stream",
     "text": [
      "Epoch:744/1000.. Train Loss: 0.023.. Val Loss: 0.188.. Test Loss: 0.128.. Time: 0.03m\n"
     ]
    },
    {
     "name": "stderr",
     "output_type": "stream",
     "text": [
      "100%|██████████| 107/107 [00:01<00:00, 61.89it/s]\n",
      "100%|██████████| 18/18 [00:00<00:00, 325.82it/s]\n",
      "100%|██████████| 53/53 [00:00<00:00, 316.26it/s]\n"
     ]
    },
    {
     "name": "stdout",
     "output_type": "stream",
     "text": [
      "Epoch:745/1000.. Train Loss: 0.017.. Val Loss: 0.188.. Test Loss: 0.129.. Time: 0.03m\n"
     ]
    },
    {
     "name": "stderr",
     "output_type": "stream",
     "text": [
      "100%|██████████| 107/107 [00:01<00:00, 66.17it/s]\n",
      "100%|██████████| 18/18 [00:00<00:00, 314.05it/s]\n",
      "100%|██████████| 53/53 [00:00<00:00, 316.65it/s]\n"
     ]
    },
    {
     "name": "stdout",
     "output_type": "stream",
     "text": [
      "Epoch:746/1000.. Train Loss: 0.018.. Val Loss: 0.196.. Test Loss: 0.126.. Time: 0.03m\n"
     ]
    },
    {
     "name": "stderr",
     "output_type": "stream",
     "text": [
      "100%|██████████| 107/107 [00:01<00:00, 65.00it/s]\n",
      "100%|██████████| 18/18 [00:00<00:00, 310.30it/s]\n",
      "100%|██████████| 53/53 [00:00<00:00, 317.49it/s]\n"
     ]
    },
    {
     "name": "stdout",
     "output_type": "stream",
     "text": [
      "Epoch:747/1000.. Train Loss: 0.020.. Val Loss: 0.186.. Test Loss: 0.124.. Time: 0.03m\n"
     ]
    },
    {
     "name": "stderr",
     "output_type": "stream",
     "text": [
      "100%|██████████| 107/107 [00:01<00:00, 64.46it/s]\n",
      "100%|██████████| 18/18 [00:00<00:00, 302.87it/s]\n",
      "100%|██████████| 53/53 [00:00<00:00, 311.63it/s]\n"
     ]
    },
    {
     "name": "stdout",
     "output_type": "stream",
     "text": [
      "Epoch:748/1000.. Train Loss: 0.019.. Val Loss: 0.201.. Test Loss: 0.126.. Time: 0.03m\n"
     ]
    },
    {
     "name": "stderr",
     "output_type": "stream",
     "text": [
      "100%|██████████| 107/107 [00:01<00:00, 63.58it/s]\n",
      "100%|██████████| 18/18 [00:00<00:00, 314.12it/s]\n",
      "100%|██████████| 53/53 [00:00<00:00, 301.24it/s]\n"
     ]
    },
    {
     "name": "stdout",
     "output_type": "stream",
     "text": [
      "Epoch:749/1000.. Train Loss: 0.017.. Val Loss: 0.198.. Test Loss: 0.124.. Time: 0.03m\n"
     ]
    },
    {
     "name": "stderr",
     "output_type": "stream",
     "text": [
      "100%|██████████| 107/107 [00:01<00:00, 67.24it/s]\n",
      "100%|██████████| 18/18 [00:00<00:00, 319.75it/s]\n",
      "100%|██████████| 53/53 [00:00<00:00, 319.47it/s]\n"
     ]
    },
    {
     "name": "stdout",
     "output_type": "stream",
     "text": [
      "Epoch:750/1000.. Train Loss: 0.017.. Val Loss: 0.201.. Test Loss: 0.124.. Time: 0.03m\n"
     ]
    },
    {
     "name": "stderr",
     "output_type": "stream",
     "text": [
      "100%|██████████| 107/107 [00:01<00:00, 65.81it/s]\n",
      "100%|██████████| 18/18 [00:00<00:00, 309.64it/s]\n",
      "100%|██████████| 53/53 [00:00<00:00, 311.10it/s]\n"
     ]
    },
    {
     "name": "stdout",
     "output_type": "stream",
     "text": [
      "Epoch:751/1000.. Train Loss: 0.021.. Val Loss: 0.190.. Test Loss: 0.122.. Time: 0.03m\n"
     ]
    },
    {
     "name": "stderr",
     "output_type": "stream",
     "text": [
      "100%|██████████| 107/107 [00:01<00:00, 64.50it/s]\n",
      "100%|██████████| 18/18 [00:00<00:00, 312.88it/s]\n",
      "100%|██████████| 53/53 [00:00<00:00, 310.89it/s]\n"
     ]
    },
    {
     "name": "stdout",
     "output_type": "stream",
     "text": [
      "Epoch:752/1000.. Train Loss: 0.020.. Val Loss: 0.187.. Test Loss: 0.122.. Time: 0.03m\n"
     ]
    },
    {
     "name": "stderr",
     "output_type": "stream",
     "text": [
      "100%|██████████| 107/107 [00:01<00:00, 63.86it/s]\n",
      "100%|██████████| 18/18 [00:00<00:00, 310.30it/s]\n",
      "100%|██████████| 53/53 [00:00<00:00, 306.93it/s]\n"
     ]
    },
    {
     "name": "stdout",
     "output_type": "stream",
     "text": [
      "Epoch:753/1000.. Train Loss: 0.016.. Val Loss: 0.196.. Test Loss: 0.125.. Time: 0.03m\n"
     ]
    },
    {
     "name": "stderr",
     "output_type": "stream",
     "text": [
      "100%|██████████| 107/107 [00:01<00:00, 64.43it/s]\n",
      "100%|██████████| 18/18 [00:00<00:00, 305.77it/s]\n",
      "100%|██████████| 53/53 [00:00<00:00, 306.61it/s]\n"
     ]
    },
    {
     "name": "stdout",
     "output_type": "stream",
     "text": [
      "Epoch:754/1000.. Train Loss: 0.019.. Val Loss: 0.188.. Test Loss: 0.120.. Time: 0.03m\n"
     ]
    },
    {
     "name": "stderr",
     "output_type": "stream",
     "text": [
      "100%|██████████| 107/107 [00:01<00:00, 64.63it/s]\n",
      "100%|██████████| 18/18 [00:00<00:00, 313.48it/s]\n",
      "100%|██████████| 53/53 [00:00<00:00, 312.93it/s]\n"
     ]
    },
    {
     "name": "stdout",
     "output_type": "stream",
     "text": [
      "Epoch:755/1000.. Train Loss: 0.018.. Val Loss: 0.189.. Test Loss: 0.121.. Time: 0.03m\n"
     ]
    },
    {
     "name": "stderr",
     "output_type": "stream",
     "text": [
      "100%|██████████| 107/107 [00:01<00:00, 64.62it/s]\n",
      "100%|██████████| 18/18 [00:00<00:00, 310.41it/s]\n",
      "100%|██████████| 53/53 [00:00<00:00, 309.30it/s]\n"
     ]
    },
    {
     "name": "stdout",
     "output_type": "stream",
     "text": [
      "Epoch:756/1000.. Train Loss: 0.017.. Val Loss: 0.187.. Test Loss: 0.124.. Time: 0.03m\n"
     ]
    },
    {
     "name": "stderr",
     "output_type": "stream",
     "text": [
      "100%|██████████| 107/107 [00:01<00:00, 65.73it/s]\n",
      "100%|██████████| 18/18 [00:00<00:00, 312.99it/s]\n",
      "100%|██████████| 53/53 [00:00<00:00, 313.33it/s]\n"
     ]
    },
    {
     "name": "stdout",
     "output_type": "stream",
     "text": [
      "Epoch:757/1000.. Train Loss: 0.019.. Val Loss: 0.191.. Test Loss: 0.123.. Time: 0.03m\n"
     ]
    },
    {
     "name": "stderr",
     "output_type": "stream",
     "text": [
      "100%|██████████| 107/107 [00:01<00:00, 64.28it/s]\n",
      "100%|██████████| 18/18 [00:00<00:00, 306.92it/s]\n",
      "100%|██████████| 53/53 [00:00<00:00, 310.97it/s]\n"
     ]
    },
    {
     "name": "stdout",
     "output_type": "stream",
     "text": [
      "Epoch:758/1000.. Train Loss: 0.019.. Val Loss: 0.173.. Test Loss: 0.120.. Time: 0.03m\n"
     ]
    },
    {
     "name": "stderr",
     "output_type": "stream",
     "text": [
      "100%|██████████| 107/107 [00:01<00:00, 65.73it/s]\n",
      "100%|██████████| 18/18 [00:00<00:00, 309.31it/s]\n",
      "100%|██████████| 53/53 [00:00<00:00, 286.31it/s]\n"
     ]
    },
    {
     "name": "stdout",
     "output_type": "stream",
     "text": [
      "Epoch:759/1000.. Train Loss: 0.020.. Val Loss: 0.175.. Test Loss: 0.123.. Time: 0.03m\n"
     ]
    },
    {
     "name": "stderr",
     "output_type": "stream",
     "text": [
      "100%|██████████| 107/107 [00:01<00:00, 63.16it/s]\n",
      "100%|██████████| 18/18 [00:00<00:00, 306.85it/s]\n",
      "100%|██████████| 53/53 [00:00<00:00, 308.26it/s]\n"
     ]
    },
    {
     "name": "stdout",
     "output_type": "stream",
     "text": [
      "Epoch:760/1000.. Train Loss: 0.016.. Val Loss: 0.179.. Test Loss: 0.123.. Time: 0.03m\n"
     ]
    },
    {
     "name": "stderr",
     "output_type": "stream",
     "text": [
      "100%|██████████| 107/107 [00:01<00:00, 64.20it/s]\n",
      "100%|██████████| 18/18 [00:00<00:00, 319.35it/s]\n",
      "100%|██████████| 53/53 [00:00<00:00, 277.47it/s]\n"
     ]
    },
    {
     "name": "stdout",
     "output_type": "stream",
     "text": [
      "Epoch:761/1000.. Train Loss: 0.018.. Val Loss: 0.179.. Test Loss: 0.124.. Time: 0.03m\n"
     ]
    },
    {
     "name": "stderr",
     "output_type": "stream",
     "text": [
      "100%|██████████| 107/107 [00:01<00:00, 60.22it/s]\n",
      "100%|██████████| 18/18 [00:00<00:00, 245.20it/s]\n",
      "100%|██████████| 53/53 [00:00<00:00, 315.04it/s]\n"
     ]
    },
    {
     "name": "stdout",
     "output_type": "stream",
     "text": [
      "Epoch:762/1000.. Train Loss: 0.018.. Val Loss: 0.183.. Test Loss: 0.126.. Time: 0.03m\n"
     ]
    },
    {
     "name": "stderr",
     "output_type": "stream",
     "text": [
      "100%|██████████| 107/107 [00:01<00:00, 62.16it/s]\n",
      "100%|██████████| 18/18 [00:00<00:00, 267.09it/s]\n",
      "100%|██████████| 53/53 [00:00<00:00, 250.59it/s]\n"
     ]
    },
    {
     "name": "stdout",
     "output_type": "stream",
     "text": [
      "Epoch:763/1000.. Train Loss: 0.016.. Val Loss: 0.204.. Test Loss: 0.123.. Time: 0.03m\n"
     ]
    },
    {
     "name": "stderr",
     "output_type": "stream",
     "text": [
      "100%|██████████| 107/107 [00:01<00:00, 60.18it/s]\n",
      "100%|██████████| 18/18 [00:00<00:00, 320.23it/s]\n",
      "100%|██████████| 53/53 [00:00<00:00, 317.93it/s]\n"
     ]
    },
    {
     "name": "stdout",
     "output_type": "stream",
     "text": [
      "Epoch:764/1000.. Train Loss: 0.020.. Val Loss: 0.199.. Test Loss: 0.124.. Time: 0.03m\n"
     ]
    },
    {
     "name": "stderr",
     "output_type": "stream",
     "text": [
      "100%|██████████| 107/107 [00:01<00:00, 62.80it/s]\n",
      "100%|██████████| 18/18 [00:00<00:00, 318.52it/s]\n",
      "100%|██████████| 53/53 [00:00<00:00, 287.83it/s]\n"
     ]
    },
    {
     "name": "stdout",
     "output_type": "stream",
     "text": [
      "Epoch:765/1000.. Train Loss: 0.016.. Val Loss: 0.190.. Test Loss: 0.127.. Time: 0.03m\n"
     ]
    },
    {
     "name": "stderr",
     "output_type": "stream",
     "text": [
      "100%|██████████| 107/107 [00:01<00:00, 60.02it/s]\n",
      "100%|██████████| 18/18 [00:00<00:00, 254.25it/s]\n",
      "100%|██████████| 53/53 [00:00<00:00, 250.81it/s]\n"
     ]
    },
    {
     "name": "stdout",
     "output_type": "stream",
     "text": [
      "Epoch:766/1000.. Train Loss: 0.018.. Val Loss: 0.183.. Test Loss: 0.124.. Time: 0.03m\n"
     ]
    },
    {
     "name": "stderr",
     "output_type": "stream",
     "text": [
      "100%|██████████| 107/107 [00:01<00:00, 56.24it/s]\n",
      "100%|██████████| 18/18 [00:00<00:00, 262.12it/s]\n",
      "100%|██████████| 53/53 [00:00<00:00, 311.09it/s]\n"
     ]
    },
    {
     "name": "stdout",
     "output_type": "stream",
     "text": [
      "Epoch:767/1000.. Train Loss: 0.019.. Val Loss: 0.193.. Test Loss: 0.124.. Time: 0.04m\n"
     ]
    },
    {
     "name": "stderr",
     "output_type": "stream",
     "text": [
      "100%|██████████| 107/107 [00:01<00:00, 65.51it/s]\n",
      "100%|██████████| 18/18 [00:00<00:00, 292.12it/s]\n",
      "100%|██████████| 53/53 [00:00<00:00, 315.07it/s]\n"
     ]
    },
    {
     "name": "stdout",
     "output_type": "stream",
     "text": [
      "Epoch:768/1000.. Train Loss: 0.017.. Val Loss: 0.184.. Test Loss: 0.124.. Time: 0.03m\n"
     ]
    },
    {
     "name": "stderr",
     "output_type": "stream",
     "text": [
      "100%|██████████| 107/107 [00:01<00:00, 63.11it/s]\n",
      "100%|██████████| 18/18 [00:00<00:00, 307.99it/s]\n",
      "100%|██████████| 53/53 [00:00<00:00, 321.89it/s]\n"
     ]
    },
    {
     "name": "stdout",
     "output_type": "stream",
     "text": [
      "Epoch:769/1000.. Train Loss: 0.022.. Val Loss: 0.187.. Test Loss: 0.120.. Time: 0.03m\n"
     ]
    },
    {
     "name": "stderr",
     "output_type": "stream",
     "text": [
      "100%|██████████| 107/107 [00:01<00:00, 64.25it/s]\n",
      "100%|██████████| 18/18 [00:00<00:00, 319.05it/s]\n",
      "100%|██████████| 53/53 [00:00<00:00, 315.19it/s]\n"
     ]
    },
    {
     "name": "stdout",
     "output_type": "stream",
     "text": [
      "Epoch:770/1000.. Train Loss: 0.019.. Val Loss: 0.185.. Test Loss: 0.117.. Time: 0.03m\n"
     ]
    },
    {
     "name": "stderr",
     "output_type": "stream",
     "text": [
      "100%|██████████| 107/107 [00:01<00:00, 63.39it/s]\n",
      "100%|██████████| 18/18 [00:00<00:00, 284.96it/s]\n",
      "100%|██████████| 53/53 [00:00<00:00, 322.91it/s]\n"
     ]
    },
    {
     "name": "stdout",
     "output_type": "stream",
     "text": [
      "Epoch:771/1000.. Train Loss: 0.019.. Val Loss: 0.186.. Test Loss: 0.117.. Time: 0.03m\n"
     ]
    },
    {
     "name": "stderr",
     "output_type": "stream",
     "text": [
      "100%|██████████| 107/107 [00:01<00:00, 64.79it/s]\n",
      "100%|██████████| 18/18 [00:00<00:00, 303.04it/s]\n",
      "100%|██████████| 53/53 [00:00<00:00, 307.25it/s]\n"
     ]
    },
    {
     "name": "stdout",
     "output_type": "stream",
     "text": [
      "Epoch:772/1000.. Train Loss: 0.017.. Val Loss: 0.210.. Test Loss: 0.118.. Time: 0.03m\n"
     ]
    },
    {
     "name": "stderr",
     "output_type": "stream",
     "text": [
      "100%|██████████| 107/107 [00:01<00:00, 62.93it/s]\n",
      "100%|██████████| 18/18 [00:00<00:00, 306.02it/s]\n",
      "100%|██████████| 53/53 [00:00<00:00, 312.08it/s]\n"
     ]
    },
    {
     "name": "stdout",
     "output_type": "stream",
     "text": [
      "Epoch:773/1000.. Train Loss: 0.019.. Val Loss: 0.197.. Test Loss: 0.117.. Time: 0.03m\n"
     ]
    },
    {
     "name": "stderr",
     "output_type": "stream",
     "text": [
      "100%|██████████| 107/107 [00:01<00:00, 65.02it/s]\n",
      "100%|██████████| 18/18 [00:00<00:00, 299.53it/s]\n",
      "100%|██████████| 53/53 [00:00<00:00, 302.06it/s]\n"
     ]
    },
    {
     "name": "stdout",
     "output_type": "stream",
     "text": [
      "Epoch:774/1000.. Train Loss: 0.017.. Val Loss: 0.184.. Test Loss: 0.118.. Time: 0.03m\n"
     ]
    },
    {
     "name": "stderr",
     "output_type": "stream",
     "text": [
      "100%|██████████| 107/107 [00:01<00:00, 64.64it/s]\n",
      "100%|██████████| 18/18 [00:00<00:00, 359.57it/s]\n",
      "100%|██████████| 53/53 [00:00<00:00, 365.20it/s]\n"
     ]
    },
    {
     "name": "stdout",
     "output_type": "stream",
     "text": [
      "Epoch:775/1000.. Train Loss: 0.016.. Val Loss: 0.186.. Test Loss: 0.121.. Time: 0.03m\n"
     ]
    },
    {
     "name": "stderr",
     "output_type": "stream",
     "text": [
      "100%|██████████| 107/107 [00:01<00:00, 66.17it/s]\n",
      "100%|██████████| 18/18 [00:00<00:00, 236.71it/s]\n",
      "100%|██████████| 53/53 [00:00<00:00, 310.00it/s]\n"
     ]
    },
    {
     "name": "stdout",
     "output_type": "stream",
     "text": [
      "Epoch:776/1000.. Train Loss: 0.018.. Val Loss: 0.182.. Test Loss: 0.120.. Time: 0.03m\n"
     ]
    },
    {
     "name": "stderr",
     "output_type": "stream",
     "text": [
      "100%|██████████| 107/107 [00:01<00:00, 65.15it/s]\n",
      "100%|██████████| 18/18 [00:00<00:00, 309.40it/s]\n",
      "100%|██████████| 53/53 [00:00<00:00, 310.23it/s]\n"
     ]
    },
    {
     "name": "stdout",
     "output_type": "stream",
     "text": [
      "Epoch:777/1000.. Train Loss: 0.017.. Val Loss: 0.185.. Test Loss: 0.121.. Time: 0.03m\n"
     ]
    },
    {
     "name": "stderr",
     "output_type": "stream",
     "text": [
      "100%|██████████| 107/107 [00:01<00:00, 64.60it/s]\n",
      "100%|██████████| 18/18 [00:00<00:00, 310.36it/s]\n",
      "100%|██████████| 53/53 [00:00<00:00, 293.24it/s]\n"
     ]
    },
    {
     "name": "stdout",
     "output_type": "stream",
     "text": [
      "Epoch:778/1000.. Train Loss: 0.020.. Val Loss: 0.187.. Test Loss: 0.122.. Time: 0.03m\n"
     ]
    },
    {
     "name": "stderr",
     "output_type": "stream",
     "text": [
      "100%|██████████| 107/107 [00:01<00:00, 63.30it/s]\n",
      "100%|██████████| 18/18 [00:00<00:00, 296.87it/s]\n",
      "100%|██████████| 53/53 [00:00<00:00, 298.93it/s]\n"
     ]
    },
    {
     "name": "stdout",
     "output_type": "stream",
     "text": [
      "Epoch:779/1000.. Train Loss: 0.021.. Val Loss: 0.184.. Test Loss: 0.123.. Time: 0.03m\n"
     ]
    },
    {
     "name": "stderr",
     "output_type": "stream",
     "text": [
      "100%|██████████| 107/107 [00:01<00:00, 64.86it/s]\n",
      "100%|██████████| 18/18 [00:00<00:00, 296.16it/s]\n",
      "100%|██████████| 53/53 [00:00<00:00, 302.94it/s]\n"
     ]
    },
    {
     "name": "stdout",
     "output_type": "stream",
     "text": [
      "Epoch:780/1000.. Train Loss: 0.019.. Val Loss: 0.187.. Test Loss: 0.121.. Time: 0.03m\n"
     ]
    },
    {
     "name": "stderr",
     "output_type": "stream",
     "text": [
      "100%|██████████| 107/107 [00:01<00:00, 63.05it/s]\n",
      "100%|██████████| 18/18 [00:00<00:00, 298.26it/s]\n",
      "100%|██████████| 53/53 [00:00<00:00, 305.25it/s]\n"
     ]
    },
    {
     "name": "stdout",
     "output_type": "stream",
     "text": [
      "Epoch:781/1000.. Train Loss: 0.017.. Val Loss: 0.178.. Test Loss: 0.122.. Time: 0.03m\n"
     ]
    },
    {
     "name": "stderr",
     "output_type": "stream",
     "text": [
      "100%|██████████| 107/107 [00:01<00:00, 63.31it/s]\n",
      "100%|██████████| 18/18 [00:00<00:00, 307.86it/s]\n",
      "100%|██████████| 53/53 [00:00<00:00, 291.65it/s]\n"
     ]
    },
    {
     "name": "stdout",
     "output_type": "stream",
     "text": [
      "Epoch:782/1000.. Train Loss: 0.018.. Val Loss: 0.178.. Test Loss: 0.123.. Time: 0.03m\n"
     ]
    },
    {
     "name": "stderr",
     "output_type": "stream",
     "text": [
      "100%|██████████| 107/107 [00:01<00:00, 62.08it/s]\n",
      "100%|██████████| 18/18 [00:00<00:00, 349.67it/s]\n",
      "100%|██████████| 53/53 [00:00<00:00, 364.23it/s]\n"
     ]
    },
    {
     "name": "stdout",
     "output_type": "stream",
     "text": [
      "Epoch:783/1000.. Train Loss: 0.020.. Val Loss: 0.175.. Test Loss: 0.122.. Time: 0.03m\n"
     ]
    },
    {
     "name": "stderr",
     "output_type": "stream",
     "text": [
      "100%|██████████| 107/107 [00:01<00:00, 62.33it/s]\n",
      "100%|██████████| 18/18 [00:00<00:00, 306.04it/s]\n",
      "100%|██████████| 53/53 [00:00<00:00, 313.23it/s]\n"
     ]
    },
    {
     "name": "stdout",
     "output_type": "stream",
     "text": [
      "Epoch:784/1000.. Train Loss: 0.019.. Val Loss: 0.177.. Test Loss: 0.122.. Time: 0.03m\n"
     ]
    },
    {
     "name": "stderr",
     "output_type": "stream",
     "text": [
      "100%|██████████| 107/107 [00:01<00:00, 64.43it/s]\n",
      "100%|██████████| 18/18 [00:00<00:00, 304.23it/s]\n",
      "100%|██████████| 53/53 [00:00<00:00, 311.94it/s]\n"
     ]
    },
    {
     "name": "stdout",
     "output_type": "stream",
     "text": [
      "Epoch:785/1000.. Train Loss: 0.019.. Val Loss: 0.184.. Test Loss: 0.122.. Time: 0.03m\n"
     ]
    },
    {
     "name": "stderr",
     "output_type": "stream",
     "text": [
      "100%|██████████| 107/107 [00:01<00:00, 62.09it/s]\n",
      "100%|██████████| 18/18 [00:00<00:00, 309.08it/s]\n",
      "100%|██████████| 53/53 [00:00<00:00, 308.59it/s]\n"
     ]
    },
    {
     "name": "stdout",
     "output_type": "stream",
     "text": [
      "Epoch:786/1000.. Train Loss: 0.016.. Val Loss: 0.186.. Test Loss: 0.122.. Time: 0.03m\n"
     ]
    },
    {
     "name": "stderr",
     "output_type": "stream",
     "text": [
      "100%|██████████| 107/107 [00:01<00:00, 64.48it/s]\n",
      "100%|██████████| 18/18 [00:00<00:00, 340.86it/s]\n",
      "100%|██████████| 53/53 [00:00<00:00, 358.45it/s]\n"
     ]
    },
    {
     "name": "stdout",
     "output_type": "stream",
     "text": [
      "Epoch:787/1000.. Train Loss: 0.019.. Val Loss: 0.184.. Test Loss: 0.123.. Time: 0.03m\n"
     ]
    },
    {
     "name": "stderr",
     "output_type": "stream",
     "text": [
      "100%|██████████| 107/107 [00:01<00:00, 65.88it/s]\n",
      "100%|██████████| 18/18 [00:00<00:00, 352.35it/s]\n",
      "100%|██████████| 53/53 [00:00<00:00, 369.28it/s]\n"
     ]
    },
    {
     "name": "stdout",
     "output_type": "stream",
     "text": [
      "Epoch:788/1000.. Train Loss: 0.020.. Val Loss: 0.181.. Test Loss: 0.121.. Time: 0.03m\n"
     ]
    },
    {
     "name": "stderr",
     "output_type": "stream",
     "text": [
      "100%|██████████| 107/107 [00:01<00:00, 69.35it/s]\n",
      "100%|██████████| 18/18 [00:00<00:00, 327.30it/s]\n",
      "100%|██████████| 53/53 [00:00<00:00, 357.96it/s]\n"
     ]
    },
    {
     "name": "stdout",
     "output_type": "stream",
     "text": [
      "Epoch:789/1000.. Train Loss: 0.018.. Val Loss: 0.174.. Test Loss: 0.120.. Time: 0.03m\n"
     ]
    },
    {
     "name": "stderr",
     "output_type": "stream",
     "text": [
      "100%|██████████| 107/107 [00:01<00:00, 66.94it/s]\n",
      "100%|██████████| 18/18 [00:00<00:00, 319.50it/s]\n",
      "100%|██████████| 53/53 [00:00<00:00, 355.36it/s]\n"
     ]
    },
    {
     "name": "stdout",
     "output_type": "stream",
     "text": [
      "Epoch:790/1000.. Train Loss: 0.017.. Val Loss: 0.174.. Test Loss: 0.122.. Time: 0.03m\n"
     ]
    },
    {
     "name": "stderr",
     "output_type": "stream",
     "text": [
      "100%|██████████| 107/107 [00:01<00:00, 71.33it/s]\n",
      "100%|██████████| 18/18 [00:00<00:00, 379.86it/s]\n",
      "100%|██████████| 53/53 [00:00<00:00, 382.44it/s]\n"
     ]
    },
    {
     "name": "stdout",
     "output_type": "stream",
     "text": [
      "Epoch:791/1000.. Train Loss: 0.017.. Val Loss: 0.178.. Test Loss: 0.124.. Time: 0.03m\n"
     ]
    },
    {
     "name": "stderr",
     "output_type": "stream",
     "text": [
      "100%|██████████| 107/107 [00:01<00:00, 67.75it/s]\n",
      "100%|██████████| 18/18 [00:00<00:00, 381.31it/s]\n",
      "100%|██████████| 53/53 [00:00<00:00, 384.20it/s]\n"
     ]
    },
    {
     "name": "stdout",
     "output_type": "stream",
     "text": [
      "Epoch:792/1000.. Train Loss: 0.017.. Val Loss: 0.177.. Test Loss: 0.123.. Time: 0.03m\n"
     ]
    },
    {
     "name": "stderr",
     "output_type": "stream",
     "text": [
      "100%|██████████| 107/107 [00:01<00:00, 71.59it/s]\n",
      "100%|██████████| 18/18 [00:00<00:00, 379.31it/s]\n",
      "100%|██████████| 53/53 [00:00<00:00, 385.49it/s]\n"
     ]
    },
    {
     "name": "stdout",
     "output_type": "stream",
     "text": [
      "Epoch:793/1000.. Train Loss: 0.021.. Val Loss: 0.180.. Test Loss: 0.120.. Time: 0.03m\n"
     ]
    },
    {
     "name": "stderr",
     "output_type": "stream",
     "text": [
      "100%|██████████| 107/107 [00:01<00:00, 69.25it/s]\n",
      "100%|██████████| 18/18 [00:00<00:00, 378.25it/s]\n",
      "100%|██████████| 53/53 [00:00<00:00, 383.02it/s]\n"
     ]
    },
    {
     "name": "stdout",
     "output_type": "stream",
     "text": [
      "Epoch:794/1000.. Train Loss: 0.018.. Val Loss: 0.175.. Test Loss: 0.119.. Time: 0.03m\n"
     ]
    },
    {
     "name": "stderr",
     "output_type": "stream",
     "text": [
      "100%|██████████| 107/107 [00:01<00:00, 71.10it/s]\n",
      "100%|██████████| 18/18 [00:00<00:00, 368.50it/s]\n",
      "100%|██████████| 53/53 [00:00<00:00, 383.98it/s]\n"
     ]
    },
    {
     "name": "stdout",
     "output_type": "stream",
     "text": [
      "Epoch:795/1000.. Train Loss: 0.016.. Val Loss: 0.197.. Test Loss: 0.122.. Time: 0.03m\n"
     ]
    },
    {
     "name": "stderr",
     "output_type": "stream",
     "text": [
      "100%|██████████| 107/107 [00:01<00:00, 70.78it/s]\n",
      "100%|██████████| 18/18 [00:00<00:00, 378.43it/s]\n",
      "100%|██████████| 53/53 [00:00<00:00, 381.38it/s]\n"
     ]
    },
    {
     "name": "stdout",
     "output_type": "stream",
     "text": [
      "Epoch:796/1000.. Train Loss: 0.017.. Val Loss: 0.191.. Test Loss: 0.121.. Time: 0.03m\n"
     ]
    },
    {
     "name": "stderr",
     "output_type": "stream",
     "text": [
      "100%|██████████| 107/107 [00:01<00:00, 71.49it/s]\n",
      "100%|██████████| 18/18 [00:00<00:00, 383.72it/s]\n",
      "100%|██████████| 53/53 [00:00<00:00, 384.15it/s]\n"
     ]
    },
    {
     "name": "stdout",
     "output_type": "stream",
     "text": [
      "Epoch:797/1000.. Train Loss: 0.020.. Val Loss: 0.176.. Test Loss: 0.121.. Time: 0.03m\n"
     ]
    },
    {
     "name": "stderr",
     "output_type": "stream",
     "text": [
      "100%|██████████| 107/107 [00:01<00:00, 67.24it/s]\n",
      "100%|██████████| 18/18 [00:00<00:00, 380.47it/s]\n",
      "100%|██████████| 53/53 [00:00<00:00, 381.28it/s]\n"
     ]
    },
    {
     "name": "stdout",
     "output_type": "stream",
     "text": [
      "Epoch:798/1000.. Train Loss: 0.017.. Val Loss: 0.179.. Test Loss: 0.123.. Time: 0.03m\n"
     ]
    },
    {
     "name": "stderr",
     "output_type": "stream",
     "text": [
      "100%|██████████| 107/107 [00:01<00:00, 71.59it/s]\n",
      "100%|██████████| 18/18 [00:00<00:00, 363.99it/s]\n",
      "100%|██████████| 53/53 [00:00<00:00, 381.15it/s]\n"
     ]
    },
    {
     "name": "stdout",
     "output_type": "stream",
     "text": [
      "Epoch:799/1000.. Train Loss: 0.017.. Val Loss: 0.191.. Test Loss: 0.124.. Time: 0.03m\n"
     ]
    },
    {
     "name": "stderr",
     "output_type": "stream",
     "text": [
      "100%|██████████| 107/107 [00:01<00:00, 71.67it/s]\n",
      "100%|██████████| 18/18 [00:00<00:00, 309.80it/s]\n",
      "100%|██████████| 53/53 [00:00<00:00, 357.56it/s]\n"
     ]
    },
    {
     "name": "stdout",
     "output_type": "stream",
     "text": [
      "Epoch:800/1000.. Train Loss: 0.017.. Val Loss: 0.212.. Test Loss: 0.124.. Time: 0.03m\n"
     ]
    },
    {
     "name": "stderr",
     "output_type": "stream",
     "text": [
      "100%|██████████| 107/107 [00:01<00:00, 71.61it/s]\n",
      "100%|██████████| 18/18 [00:00<00:00, 310.67it/s]\n",
      "100%|██████████| 53/53 [00:00<00:00, 383.98it/s]\n"
     ]
    },
    {
     "name": "stdout",
     "output_type": "stream",
     "text": [
      "Epoch:801/1000.. Train Loss: 0.020.. Val Loss: 0.187.. Test Loss: 0.124.. Time: 0.03m\n"
     ]
    },
    {
     "name": "stderr",
     "output_type": "stream",
     "text": [
      "100%|██████████| 107/107 [00:01<00:00, 68.97it/s]\n",
      "100%|██████████| 18/18 [00:00<00:00, 372.62it/s]\n",
      "100%|██████████| 53/53 [00:00<00:00, 380.78it/s]\n"
     ]
    },
    {
     "name": "stdout",
     "output_type": "stream",
     "text": [
      "Epoch:802/1000.. Train Loss: 0.016.. Val Loss: 0.175.. Test Loss: 0.125.. Time: 0.03m\n"
     ]
    },
    {
     "name": "stderr",
     "output_type": "stream",
     "text": [
      "100%|██████████| 107/107 [00:01<00:00, 70.73it/s]\n",
      "100%|██████████| 18/18 [00:00<00:00, 379.00it/s]\n",
      "100%|██████████| 53/53 [00:00<00:00, 384.21it/s]\n"
     ]
    },
    {
     "name": "stdout",
     "output_type": "stream",
     "text": [
      "Epoch:803/1000.. Train Loss: 0.016.. Val Loss: 0.175.. Test Loss: 0.124.. Time: 0.03m\n"
     ]
    },
    {
     "name": "stderr",
     "output_type": "stream",
     "text": [
      "100%|██████████| 107/107 [00:01<00:00, 70.81it/s]\n",
      "100%|██████████| 18/18 [00:00<00:00, 367.71it/s]\n",
      "100%|██████████| 53/53 [00:00<00:00, 386.07it/s]\n"
     ]
    },
    {
     "name": "stdout",
     "output_type": "stream",
     "text": [
      "Epoch:804/1000.. Train Loss: 0.019.. Val Loss: 0.182.. Test Loss: 0.124.. Time: 0.03m\n"
     ]
    },
    {
     "name": "stderr",
     "output_type": "stream",
     "text": [
      "100%|██████████| 107/107 [00:01<00:00, 69.58it/s]\n",
      "100%|██████████| 18/18 [00:00<00:00, 381.14it/s]\n",
      "100%|██████████| 53/53 [00:00<00:00, 383.70it/s]\n"
     ]
    },
    {
     "name": "stdout",
     "output_type": "stream",
     "text": [
      "Epoch:805/1000.. Train Loss: 0.019.. Val Loss: 0.200.. Test Loss: 0.124.. Time: 0.03m\n"
     ]
    },
    {
     "name": "stderr",
     "output_type": "stream",
     "text": [
      "100%|██████████| 107/107 [00:01<00:00, 70.29it/s]\n",
      "100%|██████████| 18/18 [00:00<00:00, 319.74it/s]\n",
      "100%|██████████| 53/53 [00:00<00:00, 372.11it/s]\n"
     ]
    },
    {
     "name": "stdout",
     "output_type": "stream",
     "text": [
      "Epoch:806/1000.. Train Loss: 0.016.. Val Loss: 0.175.. Test Loss: 0.124.. Time: 0.03m\n"
     ]
    },
    {
     "name": "stderr",
     "output_type": "stream",
     "text": [
      "100%|██████████| 107/107 [00:01<00:00, 70.48it/s]\n",
      "100%|██████████| 18/18 [00:00<00:00, 381.93it/s]\n",
      "100%|██████████| 53/53 [00:00<00:00, 382.91it/s]\n"
     ]
    },
    {
     "name": "stdout",
     "output_type": "stream",
     "text": [
      "Epoch:807/1000.. Train Loss: 0.018.. Val Loss: 0.175.. Test Loss: 0.123.. Time: 0.03m\n"
     ]
    },
    {
     "name": "stderr",
     "output_type": "stream",
     "text": [
      "100%|██████████| 107/107 [00:01<00:00, 68.94it/s]\n",
      "100%|██████████| 18/18 [00:00<00:00, 369.72it/s]\n",
      "100%|██████████| 53/53 [00:00<00:00, 349.96it/s]\n"
     ]
    },
    {
     "name": "stdout",
     "output_type": "stream",
     "text": [
      "Epoch:808/1000.. Train Loss: 0.018.. Val Loss: 0.185.. Test Loss: 0.120.. Time: 0.03m\n"
     ]
    },
    {
     "name": "stderr",
     "output_type": "stream",
     "text": [
      "100%|██████████| 107/107 [00:01<00:00, 69.49it/s]\n",
      "100%|██████████| 18/18 [00:00<00:00, 384.48it/s]\n",
      "100%|██████████| 53/53 [00:00<00:00, 381.41it/s]\n"
     ]
    },
    {
     "name": "stdout",
     "output_type": "stream",
     "text": [
      "Epoch:809/1000.. Train Loss: 0.017.. Val Loss: 0.177.. Test Loss: 0.120.. Time: 0.03m\n"
     ]
    },
    {
     "name": "stderr",
     "output_type": "stream",
     "text": [
      "100%|██████████| 107/107 [00:01<00:00, 72.10it/s]\n",
      "100%|██████████| 18/18 [00:00<00:00, 320.47it/s]\n",
      "100%|██████████| 53/53 [00:00<00:00, 377.50it/s]\n"
     ]
    },
    {
     "name": "stdout",
     "output_type": "stream",
     "text": [
      "Epoch:810/1000.. Train Loss: 0.016.. Val Loss: 0.176.. Test Loss: 0.120.. Time: 0.03m\n"
     ]
    },
    {
     "name": "stderr",
     "output_type": "stream",
     "text": [
      "100%|██████████| 107/107 [00:01<00:00, 67.23it/s]\n",
      "100%|██████████| 18/18 [00:00<00:00, 369.94it/s]\n",
      "100%|██████████| 53/53 [00:00<00:00, 368.71it/s]\n"
     ]
    },
    {
     "name": "stdout",
     "output_type": "stream",
     "text": [
      "Epoch:811/1000.. Train Loss: 0.017.. Val Loss: 0.174.. Test Loss: 0.119.. Time: 0.03m\n"
     ]
    },
    {
     "name": "stderr",
     "output_type": "stream",
     "text": [
      "100%|██████████| 107/107 [00:01<00:00, 71.85it/s]\n",
      "100%|██████████| 18/18 [00:00<00:00, 374.37it/s]\n",
      "100%|██████████| 53/53 [00:00<00:00, 379.42it/s]\n"
     ]
    },
    {
     "name": "stdout",
     "output_type": "stream",
     "text": [
      "Epoch:812/1000.. Train Loss: 0.017.. Val Loss: 0.187.. Test Loss: 0.120.. Time: 0.03m\n"
     ]
    },
    {
     "name": "stderr",
     "output_type": "stream",
     "text": [
      "100%|██████████| 107/107 [00:01<00:00, 67.16it/s]\n",
      "100%|██████████| 18/18 [00:00<00:00, 376.86it/s]\n",
      "100%|██████████| 53/53 [00:00<00:00, 378.04it/s]\n"
     ]
    },
    {
     "name": "stdout",
     "output_type": "stream",
     "text": [
      "Epoch:813/1000.. Train Loss: 0.016.. Val Loss: 0.186.. Test Loss: 0.119.. Time: 0.03m\n"
     ]
    },
    {
     "name": "stderr",
     "output_type": "stream",
     "text": [
      "100%|██████████| 107/107 [00:01<00:00, 67.75it/s]\n",
      "100%|██████████| 18/18 [00:00<00:00, 360.29it/s]\n",
      "100%|██████████| 53/53 [00:00<00:00, 343.52it/s]\n"
     ]
    },
    {
     "name": "stdout",
     "output_type": "stream",
     "text": [
      "Epoch:814/1000.. Train Loss: 0.016.. Val Loss: 0.173.. Test Loss: 0.119.. Time: 0.03m\n"
     ]
    },
    {
     "name": "stderr",
     "output_type": "stream",
     "text": [
      "100%|██████████| 107/107 [00:01<00:00, 67.60it/s]\n",
      "100%|██████████| 18/18 [00:00<00:00, 375.29it/s]\n",
      "100%|██████████| 53/53 [00:00<00:00, 381.52it/s]\n"
     ]
    },
    {
     "name": "stdout",
     "output_type": "stream",
     "text": [
      "Epoch:815/1000.. Train Loss: 0.017.. Val Loss: 0.185.. Test Loss: 0.120.. Time: 0.03m\n"
     ]
    },
    {
     "name": "stderr",
     "output_type": "stream",
     "text": [
      "100%|██████████| 107/107 [00:01<00:00, 72.28it/s]\n",
      "100%|██████████| 18/18 [00:00<00:00, 310.94it/s]\n",
      "100%|██████████| 53/53 [00:00<00:00, 378.04it/s]\n"
     ]
    },
    {
     "name": "stdout",
     "output_type": "stream",
     "text": [
      "Epoch:816/1000.. Train Loss: 0.018.. Val Loss: 0.176.. Test Loss: 0.120.. Time: 0.03m\n"
     ]
    },
    {
     "name": "stderr",
     "output_type": "stream",
     "text": [
      "100%|██████████| 107/107 [00:01<00:00, 69.84it/s]\n",
      "100%|██████████| 18/18 [00:00<00:00, 373.69it/s]\n",
      "100%|██████████| 53/53 [00:00<00:00, 382.85it/s]\n"
     ]
    },
    {
     "name": "stdout",
     "output_type": "stream",
     "text": [
      "Epoch:817/1000.. Train Loss: 0.018.. Val Loss: 0.182.. Test Loss: 0.123.. Time: 0.03m\n"
     ]
    },
    {
     "name": "stderr",
     "output_type": "stream",
     "text": [
      "100%|██████████| 107/107 [00:01<00:00, 70.96it/s]\n",
      "100%|██████████| 18/18 [00:00<00:00, 370.03it/s]\n",
      "100%|██████████| 53/53 [00:00<00:00, 359.63it/s]\n"
     ]
    },
    {
     "name": "stdout",
     "output_type": "stream",
     "text": [
      "Epoch:818/1000.. Train Loss: 0.017.. Val Loss: 0.182.. Test Loss: 0.121.. Time: 0.03m\n"
     ]
    },
    {
     "name": "stderr",
     "output_type": "stream",
     "text": [
      "100%|██████████| 107/107 [00:01<00:00, 71.23it/s]\n",
      "100%|██████████| 18/18 [00:00<00:00, 364.53it/s]\n",
      "100%|██████████| 53/53 [00:00<00:00, 365.33it/s]\n"
     ]
    },
    {
     "name": "stdout",
     "output_type": "stream",
     "text": [
      "Epoch:819/1000.. Train Loss: 0.016.. Val Loss: 0.178.. Test Loss: 0.123.. Time: 0.03m\n"
     ]
    },
    {
     "name": "stderr",
     "output_type": "stream",
     "text": [
      "100%|██████████| 107/107 [00:01<00:00, 69.61it/s]\n",
      "100%|██████████| 18/18 [00:00<00:00, 372.10it/s]\n",
      "100%|██████████| 53/53 [00:00<00:00, 378.05it/s]\n"
     ]
    },
    {
     "name": "stdout",
     "output_type": "stream",
     "text": [
      "Epoch:820/1000.. Train Loss: 0.021.. Val Loss: 0.180.. Test Loss: 0.126.. Time: 0.03m\n"
     ]
    },
    {
     "name": "stderr",
     "output_type": "stream",
     "text": [
      "100%|██████████| 107/107 [00:01<00:00, 70.71it/s]\n",
      "100%|██████████| 18/18 [00:00<00:00, 378.27it/s]\n",
      "100%|██████████| 53/53 [00:00<00:00, 382.50it/s]\n"
     ]
    },
    {
     "name": "stdout",
     "output_type": "stream",
     "text": [
      "Epoch:821/1000.. Train Loss: 0.018.. Val Loss: 0.176.. Test Loss: 0.126.. Time: 0.03m\n"
     ]
    },
    {
     "name": "stderr",
     "output_type": "stream",
     "text": [
      "100%|██████████| 107/107 [00:01<00:00, 69.21it/s]\n",
      "100%|██████████| 18/18 [00:00<00:00, 378.77it/s]\n",
      "100%|██████████| 53/53 [00:00<00:00, 383.61it/s]\n"
     ]
    },
    {
     "name": "stdout",
     "output_type": "stream",
     "text": [
      "Epoch:822/1000.. Train Loss: 0.020.. Val Loss: 0.177.. Test Loss: 0.125.. Time: 0.03m\n"
     ]
    },
    {
     "name": "stderr",
     "output_type": "stream",
     "text": [
      "100%|██████████| 107/107 [00:01<00:00, 71.14it/s]\n",
      "100%|██████████| 18/18 [00:00<00:00, 364.37it/s]\n",
      "100%|██████████| 53/53 [00:00<00:00, 382.66it/s]\n"
     ]
    },
    {
     "name": "stdout",
     "output_type": "stream",
     "text": [
      "Epoch:823/1000.. Train Loss: 0.020.. Val Loss: 0.177.. Test Loss: 0.124.. Time: 0.03m\n"
     ]
    },
    {
     "name": "stderr",
     "output_type": "stream",
     "text": [
      "100%|██████████| 107/107 [00:01<00:00, 69.96it/s]\n",
      "100%|██████████| 18/18 [00:00<00:00, 381.45it/s]\n",
      "100%|██████████| 53/53 [00:00<00:00, 382.40it/s]\n"
     ]
    },
    {
     "name": "stdout",
     "output_type": "stream",
     "text": [
      "Epoch:824/1000.. Train Loss: 0.017.. Val Loss: 0.186.. Test Loss: 0.122.. Time: 0.03m\n"
     ]
    },
    {
     "name": "stderr",
     "output_type": "stream",
     "text": [
      "100%|██████████| 107/107 [00:01<00:00, 70.60it/s]\n",
      "100%|██████████| 18/18 [00:00<00:00, 362.62it/s]\n",
      "100%|██████████| 53/53 [00:00<00:00, 383.30it/s]\n"
     ]
    },
    {
     "name": "stdout",
     "output_type": "stream",
     "text": [
      "Epoch:825/1000.. Train Loss: 0.022.. Val Loss: 0.177.. Test Loss: 0.121.. Time: 0.03m\n"
     ]
    },
    {
     "name": "stderr",
     "output_type": "stream",
     "text": [
      "100%|██████████| 107/107 [00:01<00:00, 69.67it/s]\n",
      "100%|██████████| 18/18 [00:00<00:00, 324.18it/s]\n",
      "100%|██████████| 53/53 [00:00<00:00, 352.99it/s]\n"
     ]
    },
    {
     "name": "stdout",
     "output_type": "stream",
     "text": [
      "Epoch:826/1000.. Train Loss: 0.020.. Val Loss: 0.174.. Test Loss: 0.122.. Time: 0.03m\n"
     ]
    },
    {
     "name": "stderr",
     "output_type": "stream",
     "text": [
      "100%|██████████| 107/107 [00:01<00:00, 69.90it/s]\n",
      "100%|██████████| 18/18 [00:00<00:00, 367.74it/s]\n",
      "100%|██████████| 53/53 [00:00<00:00, 370.49it/s]\n"
     ]
    },
    {
     "name": "stdout",
     "output_type": "stream",
     "text": [
      "Epoch:827/1000.. Train Loss: 0.016.. Val Loss: 0.174.. Test Loss: 0.122.. Time: 0.03m\n"
     ]
    },
    {
     "name": "stderr",
     "output_type": "stream",
     "text": [
      "100%|██████████| 107/107 [00:01<00:00, 70.57it/s]\n",
      "100%|██████████| 18/18 [00:00<00:00, 378.08it/s]\n",
      "100%|██████████| 53/53 [00:00<00:00, 384.84it/s]\n"
     ]
    },
    {
     "name": "stdout",
     "output_type": "stream",
     "text": [
      "Epoch:828/1000.. Train Loss: 0.018.. Val Loss: 0.176.. Test Loss: 0.124.. Time: 0.03m\n"
     ]
    },
    {
     "name": "stderr",
     "output_type": "stream",
     "text": [
      "100%|██████████| 107/107 [00:01<00:00, 71.73it/s]\n",
      "100%|██████████| 18/18 [00:00<00:00, 370.15it/s]\n",
      "100%|██████████| 53/53 [00:00<00:00, 384.44it/s]\n"
     ]
    },
    {
     "name": "stdout",
     "output_type": "stream",
     "text": [
      "Epoch:829/1000.. Train Loss: 0.020.. Val Loss: 0.213.. Test Loss: 0.127.. Time: 0.03m\n"
     ]
    },
    {
     "name": "stderr",
     "output_type": "stream",
     "text": [
      "100%|██████████| 107/107 [00:01<00:00, 67.39it/s]\n",
      "100%|██████████| 18/18 [00:00<00:00, 382.39it/s]\n",
      "100%|██████████| 53/53 [00:00<00:00, 357.34it/s]\n"
     ]
    },
    {
     "name": "stdout",
     "output_type": "stream",
     "text": [
      "Epoch:830/1000.. Train Loss: 0.017.. Val Loss: 0.193.. Test Loss: 0.123.. Time: 0.03m\n"
     ]
    },
    {
     "name": "stderr",
     "output_type": "stream",
     "text": [
      "100%|██████████| 107/107 [00:01<00:00, 71.40it/s]\n",
      "100%|██████████| 18/18 [00:00<00:00, 372.53it/s]\n",
      "100%|██████████| 53/53 [00:00<00:00, 376.60it/s]\n"
     ]
    },
    {
     "name": "stdout",
     "output_type": "stream",
     "text": [
      "Epoch:831/1000.. Train Loss: 0.020.. Val Loss: 0.171.. Test Loss: 0.123.. Time: 0.03m\n"
     ]
    },
    {
     "name": "stderr",
     "output_type": "stream",
     "text": [
      "100%|██████████| 107/107 [00:01<00:00, 68.20it/s]\n",
      "100%|██████████| 18/18 [00:00<00:00, 372.64it/s]\n",
      "100%|██████████| 53/53 [00:00<00:00, 384.78it/s]\n"
     ]
    },
    {
     "name": "stdout",
     "output_type": "stream",
     "text": [
      "Epoch:832/1000.. Train Loss: 0.019.. Val Loss: 0.172.. Test Loss: 0.124.. Time: 0.03m\n"
     ]
    },
    {
     "name": "stderr",
     "output_type": "stream",
     "text": [
      "100%|██████████| 107/107 [00:01<00:00, 71.25it/s]\n",
      "100%|██████████| 18/18 [00:00<00:00, 377.38it/s]\n",
      "100%|██████████| 53/53 [00:00<00:00, 370.09it/s]\n"
     ]
    },
    {
     "name": "stdout",
     "output_type": "stream",
     "text": [
      "Epoch:833/1000.. Train Loss: 0.018.. Val Loss: 0.189.. Test Loss: 0.124.. Time: 0.03m\n"
     ]
    },
    {
     "name": "stderr",
     "output_type": "stream",
     "text": [
      "100%|██████████| 107/107 [00:01<00:00, 68.42it/s]\n",
      "100%|██████████| 18/18 [00:00<00:00, 328.00it/s]\n",
      "100%|██████████| 53/53 [00:00<00:00, 367.07it/s]\n"
     ]
    },
    {
     "name": "stdout",
     "output_type": "stream",
     "text": [
      "Epoch:834/1000.. Train Loss: 0.015.. Val Loss: 0.178.. Test Loss: 0.124.. Time: 0.03m\n"
     ]
    },
    {
     "name": "stderr",
     "output_type": "stream",
     "text": [
      "100%|██████████| 107/107 [00:01<00:00, 71.60it/s]\n",
      "100%|██████████| 18/18 [00:00<00:00, 380.81it/s]\n",
      "100%|██████████| 53/53 [00:00<00:00, 381.83it/s]\n"
     ]
    },
    {
     "name": "stdout",
     "output_type": "stream",
     "text": [
      "Epoch:835/1000.. Train Loss: 0.017.. Val Loss: 0.174.. Test Loss: 0.123.. Time: 0.03m\n"
     ]
    },
    {
     "name": "stderr",
     "output_type": "stream",
     "text": [
      "100%|██████████| 107/107 [00:01<00:00, 70.43it/s]\n",
      "100%|██████████| 18/18 [00:00<00:00, 364.30it/s]\n",
      "100%|██████████| 53/53 [00:00<00:00, 373.69it/s]\n"
     ]
    },
    {
     "name": "stdout",
     "output_type": "stream",
     "text": [
      "Epoch:836/1000.. Train Loss: 0.022.. Val Loss: 0.176.. Test Loss: 0.122.. Time: 0.03m\n"
     ]
    },
    {
     "name": "stderr",
     "output_type": "stream",
     "text": [
      "100%|██████████| 107/107 [00:01<00:00, 70.46it/s]\n",
      "100%|██████████| 18/18 [00:00<00:00, 378.14it/s]\n",
      "100%|██████████| 53/53 [00:00<00:00, 371.61it/s]\n"
     ]
    },
    {
     "name": "stdout",
     "output_type": "stream",
     "text": [
      "Epoch:837/1000.. Train Loss: 0.015.. Val Loss: 0.187.. Test Loss: 0.123.. Time: 0.03m\n"
     ]
    },
    {
     "name": "stderr",
     "output_type": "stream",
     "text": [
      "100%|██████████| 107/107 [00:01<00:00, 69.66it/s]\n",
      "100%|██████████| 18/18 [00:00<00:00, 362.42it/s]\n",
      "100%|██████████| 53/53 [00:00<00:00, 368.68it/s]\n"
     ]
    },
    {
     "name": "stdout",
     "output_type": "stream",
     "text": [
      "Epoch:838/1000.. Train Loss: 0.018.. Val Loss: 0.174.. Test Loss: 0.122.. Time: 0.03m\n"
     ]
    },
    {
     "name": "stderr",
     "output_type": "stream",
     "text": [
      "100%|██████████| 107/107 [00:01<00:00, 70.35it/s]\n",
      "100%|██████████| 18/18 [00:00<00:00, 377.49it/s]\n",
      "100%|██████████| 53/53 [00:00<00:00, 384.59it/s]\n"
     ]
    },
    {
     "name": "stdout",
     "output_type": "stream",
     "text": [
      "Epoch:839/1000.. Train Loss: 0.021.. Val Loss: 0.176.. Test Loss: 0.122.. Time: 0.03m\n"
     ]
    },
    {
     "name": "stderr",
     "output_type": "stream",
     "text": [
      "100%|██████████| 107/107 [00:01<00:00, 71.23it/s]\n",
      "100%|██████████| 18/18 [00:00<00:00, 377.65it/s]\n",
      "100%|██████████| 53/53 [00:00<00:00, 365.56it/s]\n"
     ]
    },
    {
     "name": "stdout",
     "output_type": "stream",
     "text": [
      "Epoch:840/1000.. Train Loss: 0.015.. Val Loss: 0.182.. Test Loss: 0.120.. Time: 0.03m\n"
     ]
    },
    {
     "name": "stderr",
     "output_type": "stream",
     "text": [
      "100%|██████████| 107/107 [00:01<00:00, 69.29it/s]\n",
      "100%|██████████| 18/18 [00:00<00:00, 381.21it/s]\n",
      "100%|██████████| 53/53 [00:00<00:00, 370.11it/s]\n"
     ]
    },
    {
     "name": "stdout",
     "output_type": "stream",
     "text": [
      "Epoch:841/1000.. Train Loss: 0.017.. Val Loss: 0.174.. Test Loss: 0.122.. Time: 0.03m\n"
     ]
    },
    {
     "name": "stderr",
     "output_type": "stream",
     "text": [
      "100%|██████████| 107/107 [00:01<00:00, 70.99it/s]\n",
      "100%|██████████| 18/18 [00:00<00:00, 381.21it/s]\n",
      "100%|██████████| 53/53 [00:00<00:00, 376.03it/s]\n"
     ]
    },
    {
     "name": "stdout",
     "output_type": "stream",
     "text": [
      "Epoch:842/1000.. Train Loss: 0.017.. Val Loss: 0.176.. Test Loss: 0.123.. Time: 0.03m\n"
     ]
    },
    {
     "name": "stderr",
     "output_type": "stream",
     "text": [
      "100%|██████████| 107/107 [00:01<00:00, 68.21it/s]\n",
      "100%|██████████| 18/18 [00:00<00:00, 373.22it/s]\n",
      "100%|██████████| 53/53 [00:00<00:00, 383.43it/s]\n"
     ]
    },
    {
     "name": "stdout",
     "output_type": "stream",
     "text": [
      "Epoch:843/1000.. Train Loss: 0.019.. Val Loss: 0.179.. Test Loss: 0.123.. Time: 0.03m\n"
     ]
    },
    {
     "name": "stderr",
     "output_type": "stream",
     "text": [
      "100%|██████████| 107/107 [00:01<00:00, 69.25it/s]\n",
      "100%|██████████| 18/18 [00:00<00:00, 371.64it/s]\n",
      "100%|██████████| 53/53 [00:00<00:00, 367.23it/s]\n"
     ]
    },
    {
     "name": "stdout",
     "output_type": "stream",
     "text": [
      "Epoch:844/1000.. Train Loss: 0.017.. Val Loss: 0.182.. Test Loss: 0.123.. Time: 0.03m\n"
     ]
    },
    {
     "name": "stderr",
     "output_type": "stream",
     "text": [
      "100%|██████████| 107/107 [00:01<00:00, 70.98it/s]\n",
      "100%|██████████| 18/18 [00:00<00:00, 373.18it/s]\n",
      "100%|██████████| 53/53 [00:00<00:00, 361.46it/s]\n"
     ]
    },
    {
     "name": "stdout",
     "output_type": "stream",
     "text": [
      "Epoch:845/1000.. Train Loss: 0.018.. Val Loss: 0.177.. Test Loss: 0.121.. Time: 0.03m\n"
     ]
    },
    {
     "name": "stderr",
     "output_type": "stream",
     "text": [
      "100%|██████████| 107/107 [00:01<00:00, 70.56it/s]\n",
      "100%|██████████| 18/18 [00:00<00:00, 378.15it/s]\n",
      "100%|██████████| 53/53 [00:00<00:00, 379.22it/s]\n"
     ]
    },
    {
     "name": "stdout",
     "output_type": "stream",
     "text": [
      "Epoch:846/1000.. Train Loss: 0.018.. Val Loss: 0.181.. Test Loss: 0.122.. Time: 0.03m\n"
     ]
    },
    {
     "name": "stderr",
     "output_type": "stream",
     "text": [
      "100%|██████████| 107/107 [00:01<00:00, 67.88it/s]\n",
      "100%|██████████| 18/18 [00:00<00:00, 376.48it/s]\n",
      "100%|██████████| 53/53 [00:00<00:00, 382.60it/s]\n"
     ]
    },
    {
     "name": "stdout",
     "output_type": "stream",
     "text": [
      "Epoch:847/1000.. Train Loss: 0.020.. Val Loss: 0.180.. Test Loss: 0.121.. Time: 0.03m\n"
     ]
    },
    {
     "name": "stderr",
     "output_type": "stream",
     "text": [
      "100%|██████████| 107/107 [00:01<00:00, 70.93it/s]\n",
      "100%|██████████| 18/18 [00:00<00:00, 384.99it/s]\n",
      "100%|██████████| 53/53 [00:00<00:00, 353.78it/s]\n"
     ]
    },
    {
     "name": "stdout",
     "output_type": "stream",
     "text": [
      "Epoch:848/1000.. Train Loss: 0.018.. Val Loss: 0.179.. Test Loss: 0.121.. Time: 0.03m\n"
     ]
    },
    {
     "name": "stderr",
     "output_type": "stream",
     "text": [
      "100%|██████████| 107/107 [00:01<00:00, 68.51it/s]\n",
      "100%|██████████| 18/18 [00:00<00:00, 371.67it/s]\n",
      "100%|██████████| 53/53 [00:00<00:00, 373.15it/s]\n"
     ]
    },
    {
     "name": "stdout",
     "output_type": "stream",
     "text": [
      "Epoch:849/1000.. Train Loss: 0.016.. Val Loss: 0.199.. Test Loss: 0.123.. Time: 0.03m\n"
     ]
    },
    {
     "name": "stderr",
     "output_type": "stream",
     "text": [
      "100%|██████████| 107/107 [00:01<00:00, 70.75it/s]\n",
      "100%|██████████| 18/18 [00:00<00:00, 382.53it/s]\n",
      "100%|██████████| 53/53 [00:00<00:00, 359.51it/s]\n"
     ]
    },
    {
     "name": "stdout",
     "output_type": "stream",
     "text": [
      "Epoch:850/1000.. Train Loss: 0.017.. Val Loss: 0.200.. Test Loss: 0.123.. Time: 0.03m\n"
     ]
    },
    {
     "name": "stderr",
     "output_type": "stream",
     "text": [
      "100%|██████████| 107/107 [00:01<00:00, 68.81it/s]\n",
      "100%|██████████| 18/18 [00:00<00:00, 374.38it/s]\n",
      "100%|██████████| 53/53 [00:00<00:00, 374.53it/s]\n"
     ]
    },
    {
     "name": "stdout",
     "output_type": "stream",
     "text": [
      "Epoch:851/1000.. Train Loss: 0.017.. Val Loss: 0.180.. Test Loss: 0.123.. Time: 0.03m\n"
     ]
    },
    {
     "name": "stderr",
     "output_type": "stream",
     "text": [
      "100%|██████████| 107/107 [00:01<00:00, 71.73it/s]\n",
      "100%|██████████| 18/18 [00:00<00:00, 376.34it/s]\n",
      "100%|██████████| 53/53 [00:00<00:00, 361.90it/s]\n"
     ]
    },
    {
     "name": "stdout",
     "output_type": "stream",
     "text": [
      "Epoch:852/1000.. Train Loss: 0.016.. Val Loss: 0.178.. Test Loss: 0.124.. Time: 0.03m\n"
     ]
    },
    {
     "name": "stderr",
     "output_type": "stream",
     "text": [
      "100%|██████████| 107/107 [00:01<00:00, 67.37it/s]\n",
      "100%|██████████| 18/18 [00:00<00:00, 370.52it/s]\n",
      "100%|██████████| 53/53 [00:00<00:00, 378.22it/s]\n"
     ]
    },
    {
     "name": "stdout",
     "output_type": "stream",
     "text": [
      "Epoch:853/1000.. Train Loss: 0.018.. Val Loss: 0.174.. Test Loss: 0.122.. Time: 0.03m\n"
     ]
    },
    {
     "name": "stderr",
     "output_type": "stream",
     "text": [
      "100%|██████████| 107/107 [00:01<00:00, 69.60it/s]\n",
      "100%|██████████| 18/18 [00:00<00:00, 377.06it/s]\n",
      "100%|██████████| 53/53 [00:00<00:00, 377.93it/s]\n"
     ]
    },
    {
     "name": "stdout",
     "output_type": "stream",
     "text": [
      "Epoch:854/1000.. Train Loss: 0.018.. Val Loss: 0.172.. Test Loss: 0.121.. Time: 0.03m\n"
     ]
    },
    {
     "name": "stderr",
     "output_type": "stream",
     "text": [
      "100%|██████████| 107/107 [00:01<00:00, 65.70it/s]\n",
      "100%|██████████| 18/18 [00:00<00:00, 374.03it/s]\n",
      "100%|██████████| 53/53 [00:00<00:00, 358.50it/s]\n"
     ]
    },
    {
     "name": "stdout",
     "output_type": "stream",
     "text": [
      "Epoch:855/1000.. Train Loss: 0.019.. Val Loss: 0.173.. Test Loss: 0.121.. Time: 0.03m\n"
     ]
    },
    {
     "name": "stderr",
     "output_type": "stream",
     "text": [
      "100%|██████████| 107/107 [00:01<00:00, 70.32it/s]\n",
      "100%|██████████| 18/18 [00:00<00:00, 380.24it/s]\n",
      "100%|██████████| 53/53 [00:00<00:00, 382.30it/s]\n"
     ]
    },
    {
     "name": "stdout",
     "output_type": "stream",
     "text": [
      "Epoch:856/1000.. Train Loss: 0.016.. Val Loss: 0.174.. Test Loss: 0.122.. Time: 0.03m\n"
     ]
    },
    {
     "name": "stderr",
     "output_type": "stream",
     "text": [
      "100%|██████████| 107/107 [00:01<00:00, 69.96it/s]\n",
      "100%|██████████| 18/18 [00:00<00:00, 376.72it/s]\n",
      "100%|██████████| 53/53 [00:00<00:00, 347.56it/s]\n"
     ]
    },
    {
     "name": "stdout",
     "output_type": "stream",
     "text": [
      "Epoch:857/1000.. Train Loss: 0.016.. Val Loss: 0.177.. Test Loss: 0.124.. Time: 0.03m\n"
     ]
    },
    {
     "name": "stderr",
     "output_type": "stream",
     "text": [
      "100%|██████████| 107/107 [00:01<00:00, 71.05it/s]\n",
      "100%|██████████| 18/18 [00:00<00:00, 383.09it/s]\n",
      "100%|██████████| 53/53 [00:00<00:00, 384.27it/s]\n"
     ]
    },
    {
     "name": "stdout",
     "output_type": "stream",
     "text": [
      "Epoch:858/1000.. Train Loss: 0.017.. Val Loss: 0.185.. Test Loss: 0.124.. Time: 0.03m\n"
     ]
    },
    {
     "name": "stderr",
     "output_type": "stream",
     "text": [
      "100%|██████████| 107/107 [00:01<00:00, 69.61it/s]\n",
      "100%|██████████| 18/18 [00:00<00:00, 373.12it/s]\n",
      "100%|██████████| 53/53 [00:00<00:00, 371.95it/s]\n"
     ]
    },
    {
     "name": "stdout",
     "output_type": "stream",
     "text": [
      "Epoch:859/1000.. Train Loss: 0.017.. Val Loss: 0.181.. Test Loss: 0.125.. Time: 0.03m\n"
     ]
    },
    {
     "name": "stderr",
     "output_type": "stream",
     "text": [
      "100%|██████████| 107/107 [00:01<00:00, 71.40it/s]\n",
      "100%|██████████| 18/18 [00:00<00:00, 366.86it/s]\n",
      "100%|██████████| 53/53 [00:00<00:00, 383.16it/s]\n"
     ]
    },
    {
     "name": "stdout",
     "output_type": "stream",
     "text": [
      "Epoch:860/1000.. Train Loss: 0.019.. Val Loss: 0.179.. Test Loss: 0.125.. Time: 0.03m\n"
     ]
    },
    {
     "name": "stderr",
     "output_type": "stream",
     "text": [
      "100%|██████████| 107/107 [00:01<00:00, 71.96it/s]\n",
      "100%|██████████| 18/18 [00:00<00:00, 379.77it/s]\n",
      "100%|██████████| 53/53 [00:00<00:00, 372.44it/s]\n"
     ]
    },
    {
     "name": "stdout",
     "output_type": "stream",
     "text": [
      "Epoch:861/1000.. Train Loss: 0.019.. Val Loss: 0.178.. Test Loss: 0.123.. Time: 0.03m\n"
     ]
    },
    {
     "name": "stderr",
     "output_type": "stream",
     "text": [
      "100%|██████████| 107/107 [00:01<00:00, 69.65it/s]\n",
      "100%|██████████| 18/18 [00:00<00:00, 331.18it/s]\n",
      "100%|██████████| 53/53 [00:00<00:00, 379.11it/s]\n"
     ]
    },
    {
     "name": "stdout",
     "output_type": "stream",
     "text": [
      "Epoch:862/1000.. Train Loss: 0.018.. Val Loss: 0.177.. Test Loss: 0.124.. Time: 0.03m\n"
     ]
    },
    {
     "name": "stderr",
     "output_type": "stream",
     "text": [
      "100%|██████████| 107/107 [00:01<00:00, 71.22it/s]\n",
      "100%|██████████| 18/18 [00:00<00:00, 376.86it/s]\n",
      "100%|██████████| 53/53 [00:00<00:00, 376.13it/s]\n"
     ]
    },
    {
     "name": "stdout",
     "output_type": "stream",
     "text": [
      "Epoch:863/1000.. Train Loss: 0.018.. Val Loss: 0.179.. Test Loss: 0.124.. Time: 0.03m\n"
     ]
    },
    {
     "name": "stderr",
     "output_type": "stream",
     "text": [
      "100%|██████████| 107/107 [00:01<00:00, 70.76it/s]\n",
      "100%|██████████| 18/18 [00:00<00:00, 321.69it/s]\n",
      "100%|██████████| 53/53 [00:00<00:00, 355.09it/s]\n"
     ]
    },
    {
     "name": "stdout",
     "output_type": "stream",
     "text": [
      "Epoch:864/1000.. Train Loss: 0.018.. Val Loss: 0.189.. Test Loss: 0.125.. Time: 0.03m\n"
     ]
    },
    {
     "name": "stderr",
     "output_type": "stream",
     "text": [
      "100%|██████████| 107/107 [00:01<00:00, 70.32it/s]\n",
      "100%|██████████| 18/18 [00:00<00:00, 373.85it/s]\n",
      "100%|██████████| 53/53 [00:00<00:00, 384.46it/s]\n"
     ]
    },
    {
     "name": "stdout",
     "output_type": "stream",
     "text": [
      "Epoch:865/1000.. Train Loss: 0.023.. Val Loss: 0.193.. Test Loss: 0.126.. Time: 0.03m\n"
     ]
    },
    {
     "name": "stderr",
     "output_type": "stream",
     "text": [
      "100%|██████████| 107/107 [00:01<00:00, 68.50it/s]\n",
      "100%|██████████| 18/18 [00:00<00:00, 374.04it/s]\n",
      "100%|██████████| 53/53 [00:00<00:00, 381.65it/s]\n"
     ]
    },
    {
     "name": "stdout",
     "output_type": "stream",
     "text": [
      "Epoch:866/1000.. Train Loss: 0.017.. Val Loss: 0.208.. Test Loss: 0.126.. Time: 0.03m\n"
     ]
    },
    {
     "name": "stderr",
     "output_type": "stream",
     "text": [
      "100%|██████████| 107/107 [00:01<00:00, 72.29it/s]\n",
      "100%|██████████| 18/18 [00:00<00:00, 377.76it/s]\n",
      "100%|██████████| 53/53 [00:00<00:00, 380.65it/s]\n"
     ]
    },
    {
     "name": "stdout",
     "output_type": "stream",
     "text": [
      "Epoch:867/1000.. Train Loss: 0.019.. Val Loss: 0.188.. Test Loss: 0.127.. Time: 0.03m\n"
     ]
    },
    {
     "name": "stderr",
     "output_type": "stream",
     "text": [
      "100%|██████████| 107/107 [00:01<00:00, 68.84it/s]\n",
      "100%|██████████| 18/18 [00:00<00:00, 370.23it/s]\n",
      "100%|██████████| 53/53 [00:00<00:00, 379.11it/s]\n"
     ]
    },
    {
     "name": "stdout",
     "output_type": "stream",
     "text": [
      "Epoch:868/1000.. Train Loss: 0.016.. Val Loss: 0.183.. Test Loss: 0.125.. Time: 0.03m\n"
     ]
    },
    {
     "name": "stderr",
     "output_type": "stream",
     "text": [
      "100%|██████████| 107/107 [00:01<00:00, 70.27it/s]\n",
      "100%|██████████| 18/18 [00:00<00:00, 371.72it/s]\n",
      "100%|██████████| 53/53 [00:00<00:00, 385.69it/s]\n"
     ]
    },
    {
     "name": "stdout",
     "output_type": "stream",
     "text": [
      "Epoch:869/1000.. Train Loss: 0.017.. Val Loss: 0.185.. Test Loss: 0.125.. Time: 0.03m\n"
     ]
    },
    {
     "name": "stderr",
     "output_type": "stream",
     "text": [
      "100%|██████████| 107/107 [00:01<00:00, 70.22it/s]\n",
      "100%|██████████| 18/18 [00:00<00:00, 322.04it/s]\n",
      "100%|██████████| 53/53 [00:00<00:00, 380.40it/s]\n"
     ]
    },
    {
     "name": "stdout",
     "output_type": "stream",
     "text": [
      "Epoch:870/1000.. Train Loss: 0.016.. Val Loss: 0.184.. Test Loss: 0.126.. Time: 0.03m\n"
     ]
    },
    {
     "name": "stderr",
     "output_type": "stream",
     "text": [
      "100%|██████████| 107/107 [00:01<00:00, 71.18it/s]\n",
      "100%|██████████| 18/18 [00:00<00:00, 373.16it/s]\n",
      "100%|██████████| 53/53 [00:00<00:00, 378.60it/s]\n"
     ]
    },
    {
     "name": "stdout",
     "output_type": "stream",
     "text": [
      "Epoch:871/1000.. Train Loss: 0.021.. Val Loss: 0.186.. Test Loss: 0.125.. Time: 0.03m\n"
     ]
    },
    {
     "name": "stderr",
     "output_type": "stream",
     "text": [
      "100%|██████████| 107/107 [00:01<00:00, 66.59it/s]\n",
      "100%|██████████| 18/18 [00:00<00:00, 334.59it/s]\n",
      "100%|██████████| 53/53 [00:00<00:00, 370.71it/s]\n"
     ]
    },
    {
     "name": "stdout",
     "output_type": "stream",
     "text": [
      "Epoch:872/1000.. Train Loss: 0.016.. Val Loss: 0.181.. Test Loss: 0.125.. Time: 0.03m\n"
     ]
    },
    {
     "name": "stderr",
     "output_type": "stream",
     "text": [
      "100%|██████████| 107/107 [00:01<00:00, 69.88it/s]\n",
      "100%|██████████| 18/18 [00:00<00:00, 375.39it/s]\n",
      "100%|██████████| 53/53 [00:00<00:00, 380.85it/s]\n"
     ]
    },
    {
     "name": "stdout",
     "output_type": "stream",
     "text": [
      "Epoch:873/1000.. Train Loss: 0.018.. Val Loss: 0.179.. Test Loss: 0.124.. Time: 0.03m\n"
     ]
    },
    {
     "name": "stderr",
     "output_type": "stream",
     "text": [
      "100%|██████████| 107/107 [00:01<00:00, 70.61it/s]\n",
      "100%|██████████| 18/18 [00:00<00:00, 359.45it/s]\n",
      "100%|██████████| 53/53 [00:00<00:00, 372.94it/s]\n"
     ]
    },
    {
     "name": "stdout",
     "output_type": "stream",
     "text": [
      "Epoch:874/1000.. Train Loss: 0.016.. Val Loss: 0.178.. Test Loss: 0.124.. Time: 0.03m\n"
     ]
    },
    {
     "name": "stderr",
     "output_type": "stream",
     "text": [
      "100%|██████████| 107/107 [00:01<00:00, 71.50it/s]\n",
      "100%|██████████| 18/18 [00:00<00:00, 373.35it/s]\n",
      "100%|██████████| 53/53 [00:00<00:00, 380.34it/s]\n"
     ]
    },
    {
     "name": "stdout",
     "output_type": "stream",
     "text": [
      "Epoch:875/1000.. Train Loss: 0.020.. Val Loss: 0.199.. Test Loss: 0.123.. Time: 0.03m\n"
     ]
    },
    {
     "name": "stderr",
     "output_type": "stream",
     "text": [
      "100%|██████████| 107/107 [00:01<00:00, 68.78it/s]\n",
      "100%|██████████| 18/18 [00:00<00:00, 377.97it/s]\n",
      "100%|██████████| 53/53 [00:00<00:00, 370.67it/s]\n"
     ]
    },
    {
     "name": "stdout",
     "output_type": "stream",
     "text": [
      "Epoch:876/1000.. Train Loss: 0.020.. Val Loss: 0.179.. Test Loss: 0.123.. Time: 0.03m\n"
     ]
    },
    {
     "name": "stderr",
     "output_type": "stream",
     "text": [
      "100%|██████████| 107/107 [00:01<00:00, 69.03it/s]\n",
      "100%|██████████| 18/18 [00:00<00:00, 362.98it/s]\n",
      "100%|██████████| 53/53 [00:00<00:00, 374.54it/s]\n"
     ]
    },
    {
     "name": "stdout",
     "output_type": "stream",
     "text": [
      "Epoch:877/1000.. Train Loss: 0.016.. Val Loss: 0.182.. Test Loss: 0.122.. Time: 0.03m\n"
     ]
    },
    {
     "name": "stderr",
     "output_type": "stream",
     "text": [
      "100%|██████████| 107/107 [00:01<00:00, 70.49it/s]\n",
      "100%|██████████| 18/18 [00:00<00:00, 359.07it/s]\n",
      "100%|██████████| 53/53 [00:00<00:00, 370.02it/s]\n"
     ]
    },
    {
     "name": "stdout",
     "output_type": "stream",
     "text": [
      "Epoch:878/1000.. Train Loss: 0.018.. Val Loss: 0.176.. Test Loss: 0.123.. Time: 0.03m\n"
     ]
    },
    {
     "name": "stderr",
     "output_type": "stream",
     "text": [
      "100%|██████████| 107/107 [00:01<00:00, 71.06it/s]\n",
      "100%|██████████| 18/18 [00:00<00:00, 375.73it/s]\n",
      "100%|██████████| 53/53 [00:00<00:00, 384.27it/s]\n"
     ]
    },
    {
     "name": "stdout",
     "output_type": "stream",
     "text": [
      "Epoch:879/1000.. Train Loss: 0.016.. Val Loss: 0.184.. Test Loss: 0.122.. Time: 0.03m\n"
     ]
    },
    {
     "name": "stderr",
     "output_type": "stream",
     "text": [
      "100%|██████████| 107/107 [00:01<00:00, 71.44it/s]\n",
      "100%|██████████| 18/18 [00:00<00:00, 374.41it/s]\n",
      "100%|██████████| 53/53 [00:00<00:00, 356.19it/s]\n"
     ]
    },
    {
     "name": "stdout",
     "output_type": "stream",
     "text": [
      "Epoch:880/1000.. Train Loss: 0.017.. Val Loss: 0.190.. Test Loss: 0.123.. Time: 0.03m\n"
     ]
    },
    {
     "name": "stderr",
     "output_type": "stream",
     "text": [
      "100%|██████████| 107/107 [00:01<00:00, 70.38it/s]\n",
      "100%|██████████| 18/18 [00:00<00:00, 377.44it/s]\n",
      "100%|██████████| 53/53 [00:00<00:00, 384.57it/s]\n"
     ]
    },
    {
     "name": "stdout",
     "output_type": "stream",
     "text": [
      "Epoch:881/1000.. Train Loss: 0.017.. Val Loss: 0.194.. Test Loss: 0.123.. Time: 0.03m\n"
     ]
    },
    {
     "name": "stderr",
     "output_type": "stream",
     "text": [
      "100%|██████████| 107/107 [00:01<00:00, 70.24it/s]\n",
      "100%|██████████| 18/18 [00:00<00:00, 360.22it/s]\n",
      "100%|██████████| 53/53 [00:00<00:00, 352.61it/s]\n"
     ]
    },
    {
     "name": "stdout",
     "output_type": "stream",
     "text": [
      "Epoch:882/1000.. Train Loss: 0.017.. Val Loss: 0.176.. Test Loss: 0.123.. Time: 0.03m\n"
     ]
    },
    {
     "name": "stderr",
     "output_type": "stream",
     "text": [
      "100%|██████████| 107/107 [00:01<00:00, 69.11it/s]\n",
      "100%|██████████| 18/18 [00:00<00:00, 375.39it/s]\n",
      "100%|██████████| 53/53 [00:00<00:00, 385.30it/s]\n"
     ]
    },
    {
     "name": "stdout",
     "output_type": "stream",
     "text": [
      "Epoch:883/1000.. Train Loss: 0.016.. Val Loss: 0.174.. Test Loss: 0.123.. Time: 0.03m\n"
     ]
    },
    {
     "name": "stderr",
     "output_type": "stream",
     "text": [
      "100%|██████████| 107/107 [00:01<00:00, 68.08it/s]\n",
      "100%|██████████| 18/18 [00:00<00:00, 367.13it/s]\n",
      "100%|██████████| 53/53 [00:00<00:00, 382.18it/s]\n"
     ]
    },
    {
     "name": "stdout",
     "output_type": "stream",
     "text": [
      "Epoch:884/1000.. Train Loss: 0.017.. Val Loss: 0.176.. Test Loss: 0.123.. Time: 0.03m\n"
     ]
    },
    {
     "name": "stderr",
     "output_type": "stream",
     "text": [
      "100%|██████████| 107/107 [00:01<00:00, 67.59it/s]\n",
      "100%|██████████| 18/18 [00:00<00:00, 377.25it/s]\n",
      "100%|██████████| 53/53 [00:00<00:00, 382.90it/s]\n"
     ]
    },
    {
     "name": "stdout",
     "output_type": "stream",
     "text": [
      "Epoch:885/1000.. Train Loss: 0.018.. Val Loss: 0.183.. Test Loss: 0.123.. Time: 0.03m\n"
     ]
    },
    {
     "name": "stderr",
     "output_type": "stream",
     "text": [
      "100%|██████████| 107/107 [00:01<00:00, 72.63it/s]\n",
      "100%|██████████| 18/18 [00:00<00:00, 379.60it/s]\n",
      "100%|██████████| 53/53 [00:00<00:00, 381.80it/s]\n"
     ]
    },
    {
     "name": "stdout",
     "output_type": "stream",
     "text": [
      "Epoch:886/1000.. Train Loss: 0.016.. Val Loss: 0.177.. Test Loss: 0.123.. Time: 0.03m\n"
     ]
    },
    {
     "name": "stderr",
     "output_type": "stream",
     "text": [
      "100%|██████████| 107/107 [00:01<00:00, 67.55it/s]\n",
      "100%|██████████| 18/18 [00:00<00:00, 374.70it/s]\n",
      "100%|██████████| 53/53 [00:00<00:00, 382.81it/s]\n"
     ]
    },
    {
     "name": "stdout",
     "output_type": "stream",
     "text": [
      "Epoch:887/1000.. Train Loss: 0.019.. Val Loss: 0.177.. Test Loss: 0.123.. Time: 0.03m\n"
     ]
    },
    {
     "name": "stderr",
     "output_type": "stream",
     "text": [
      "100%|██████████| 107/107 [00:01<00:00, 71.17it/s]\n",
      "100%|██████████| 18/18 [00:00<00:00, 381.95it/s]\n",
      "100%|██████████| 53/53 [00:00<00:00, 382.47it/s]\n"
     ]
    },
    {
     "name": "stdout",
     "output_type": "stream",
     "text": [
      "Epoch:888/1000.. Train Loss: 0.016.. Val Loss: 0.178.. Test Loss: 0.122.. Time: 0.03m\n"
     ]
    },
    {
     "name": "stderr",
     "output_type": "stream",
     "text": [
      "100%|██████████| 107/107 [00:01<00:00, 71.97it/s]\n",
      "100%|██████████| 18/18 [00:00<00:00, 367.62it/s]\n",
      "100%|██████████| 53/53 [00:00<00:00, 378.85it/s]\n"
     ]
    },
    {
     "name": "stdout",
     "output_type": "stream",
     "text": [
      "Epoch:889/1000.. Train Loss: 0.019.. Val Loss: 0.194.. Test Loss: 0.123.. Time: 0.03m\n"
     ]
    },
    {
     "name": "stderr",
     "output_type": "stream",
     "text": [
      "100%|██████████| 107/107 [00:01<00:00, 71.82it/s]\n",
      "100%|██████████| 18/18 [00:00<00:00, 381.53it/s]\n",
      "100%|██████████| 53/53 [00:00<00:00, 381.93it/s]\n"
     ]
    },
    {
     "name": "stdout",
     "output_type": "stream",
     "text": [
      "Epoch:890/1000.. Train Loss: 0.019.. Val Loss: 0.184.. Test Loss: 0.121.. Time: 0.03m\n"
     ]
    },
    {
     "name": "stderr",
     "output_type": "stream",
     "text": [
      "100%|██████████| 107/107 [00:01<00:00, 69.31it/s]\n",
      "100%|██████████| 18/18 [00:00<00:00, 367.89it/s]\n",
      "100%|██████████| 53/53 [00:00<00:00, 384.95it/s]\n"
     ]
    },
    {
     "name": "stdout",
     "output_type": "stream",
     "text": [
      "Epoch:891/1000.. Train Loss: 0.017.. Val Loss: 0.177.. Test Loss: 0.122.. Time: 0.03m\n"
     ]
    },
    {
     "name": "stderr",
     "output_type": "stream",
     "text": [
      "100%|██████████| 107/107 [00:01<00:00, 71.09it/s]\n",
      "100%|██████████| 18/18 [00:00<00:00, 384.59it/s]\n",
      "100%|██████████| 53/53 [00:00<00:00, 361.07it/s]\n"
     ]
    },
    {
     "name": "stdout",
     "output_type": "stream",
     "text": [
      "Epoch:892/1000.. Train Loss: 0.017.. Val Loss: 0.195.. Test Loss: 0.122.. Time: 0.03m\n"
     ]
    },
    {
     "name": "stderr",
     "output_type": "stream",
     "text": [
      "100%|██████████| 107/107 [00:01<00:00, 72.01it/s]\n",
      "100%|██████████| 18/18 [00:00<00:00, 385.55it/s]\n",
      "100%|██████████| 53/53 [00:00<00:00, 346.38it/s]\n"
     ]
    },
    {
     "name": "stdout",
     "output_type": "stream",
     "text": [
      "Epoch:893/1000.. Train Loss: 0.018.. Val Loss: 0.178.. Test Loss: 0.122.. Time: 0.03m\n"
     ]
    },
    {
     "name": "stderr",
     "output_type": "stream",
     "text": [
      "100%|██████████| 107/107 [00:01<00:00, 70.92it/s]\n",
      "100%|██████████| 18/18 [00:00<00:00, 373.37it/s]\n",
      "100%|██████████| 53/53 [00:00<00:00, 378.31it/s]\n"
     ]
    },
    {
     "name": "stdout",
     "output_type": "stream",
     "text": [
      "Epoch:894/1000.. Train Loss: 0.016.. Val Loss: 0.174.. Test Loss: 0.122.. Time: 0.03m\n"
     ]
    },
    {
     "name": "stderr",
     "output_type": "stream",
     "text": [
      "100%|██████████| 107/107 [00:01<00:00, 70.12it/s]\n",
      "100%|██████████| 18/18 [00:00<00:00, 370.20it/s]\n",
      "100%|██████████| 53/53 [00:00<00:00, 375.96it/s]\n"
     ]
    },
    {
     "name": "stdout",
     "output_type": "stream",
     "text": [
      "Epoch:895/1000.. Train Loss: 0.016.. Val Loss: 0.187.. Test Loss: 0.123.. Time: 0.03m\n"
     ]
    },
    {
     "name": "stderr",
     "output_type": "stream",
     "text": [
      "100%|██████████| 107/107 [00:01<00:00, 69.44it/s]\n",
      "100%|██████████| 18/18 [00:00<00:00, 374.20it/s]\n",
      "100%|██████████| 53/53 [00:00<00:00, 381.54it/s]\n"
     ]
    },
    {
     "name": "stdout",
     "output_type": "stream",
     "text": [
      "Epoch:896/1000.. Train Loss: 0.016.. Val Loss: 0.178.. Test Loss: 0.124.. Time: 0.03m\n"
     ]
    },
    {
     "name": "stderr",
     "output_type": "stream",
     "text": [
      "100%|██████████| 107/107 [00:01<00:00, 72.08it/s]\n",
      "100%|██████████| 18/18 [00:00<00:00, 378.48it/s]\n",
      "100%|██████████| 53/53 [00:00<00:00, 381.35it/s]\n"
     ]
    },
    {
     "name": "stdout",
     "output_type": "stream",
     "text": [
      "Epoch:897/1000.. Train Loss: 0.016.. Val Loss: 0.179.. Test Loss: 0.124.. Time: 0.03m\n"
     ]
    },
    {
     "name": "stderr",
     "output_type": "stream",
     "text": [
      "100%|██████████| 107/107 [00:01<00:00, 68.53it/s]\n",
      "100%|██████████| 18/18 [00:00<00:00, 382.85it/s]\n",
      "100%|██████████| 53/53 [00:00<00:00, 378.62it/s]\n"
     ]
    },
    {
     "name": "stdout",
     "output_type": "stream",
     "text": [
      "Epoch:898/1000.. Train Loss: 0.017.. Val Loss: 0.193.. Test Loss: 0.124.. Time: 0.03m\n"
     ]
    },
    {
     "name": "stderr",
     "output_type": "stream",
     "text": [
      "100%|██████████| 107/107 [00:01<00:00, 71.62it/s]\n",
      "100%|██████████| 18/18 [00:00<00:00, 374.61it/s]\n",
      "100%|██████████| 53/53 [00:00<00:00, 382.70it/s]\n"
     ]
    },
    {
     "name": "stdout",
     "output_type": "stream",
     "text": [
      "Epoch:899/1000.. Train Loss: 0.019.. Val Loss: 0.199.. Test Loss: 0.124.. Time: 0.03m\n"
     ]
    },
    {
     "name": "stderr",
     "output_type": "stream",
     "text": [
      "100%|██████████| 107/107 [00:01<00:00, 71.40it/s]\n",
      "100%|██████████| 18/18 [00:00<00:00, 365.80it/s]\n",
      "100%|██████████| 53/53 [00:00<00:00, 367.75it/s]\n"
     ]
    },
    {
     "name": "stdout",
     "output_type": "stream",
     "text": [
      "Epoch:900/1000.. Train Loss: 0.015.. Val Loss: 0.181.. Test Loss: 0.124.. Time: 0.03m\n"
     ]
    },
    {
     "name": "stderr",
     "output_type": "stream",
     "text": [
      "100%|██████████| 107/107 [00:01<00:00, 68.52it/s]\n",
      "100%|██████████| 18/18 [00:00<00:00, 383.93it/s]\n",
      "100%|██████████| 53/53 [00:00<00:00, 376.20it/s]\n"
     ]
    },
    {
     "name": "stdout",
     "output_type": "stream",
     "text": [
      "Epoch:901/1000.. Train Loss: 0.017.. Val Loss: 0.181.. Test Loss: 0.124.. Time: 0.03m\n"
     ]
    },
    {
     "name": "stderr",
     "output_type": "stream",
     "text": [
      "100%|██████████| 107/107 [00:01<00:00, 70.68it/s]\n",
      "100%|██████████| 18/18 [00:00<00:00, 367.24it/s]\n",
      "100%|██████████| 53/53 [00:00<00:00, 376.76it/s]\n"
     ]
    },
    {
     "name": "stdout",
     "output_type": "stream",
     "text": [
      "Epoch:902/1000.. Train Loss: 0.017.. Val Loss: 0.181.. Test Loss: 0.124.. Time: 0.03m\n"
     ]
    },
    {
     "name": "stderr",
     "output_type": "stream",
     "text": [
      "100%|██████████| 107/107 [00:01<00:00, 70.90it/s]\n",
      "100%|██████████| 18/18 [00:00<00:00, 373.96it/s]\n",
      "100%|██████████| 53/53 [00:00<00:00, 377.45it/s]\n"
     ]
    },
    {
     "name": "stdout",
     "output_type": "stream",
     "text": [
      "Epoch:903/1000.. Train Loss: 0.017.. Val Loss: 0.182.. Test Loss: 0.124.. Time: 0.03m\n"
     ]
    },
    {
     "name": "stderr",
     "output_type": "stream",
     "text": [
      "100%|██████████| 107/107 [00:01<00:00, 70.59it/s]\n",
      "100%|██████████| 18/18 [00:00<00:00, 371.06it/s]\n",
      "100%|██████████| 53/53 [00:00<00:00, 378.05it/s]\n"
     ]
    },
    {
     "name": "stdout",
     "output_type": "stream",
     "text": [
      "Epoch:904/1000.. Train Loss: 0.016.. Val Loss: 0.185.. Test Loss: 0.125.. Time: 0.03m\n"
     ]
    },
    {
     "name": "stderr",
     "output_type": "stream",
     "text": [
      "100%|██████████| 107/107 [00:01<00:00, 69.06it/s]\n",
      "100%|██████████| 18/18 [00:00<00:00, 376.54it/s]\n",
      "100%|██████████| 53/53 [00:00<00:00, 379.67it/s]\n"
     ]
    },
    {
     "name": "stdout",
     "output_type": "stream",
     "text": [
      "Epoch:905/1000.. Train Loss: 0.017.. Val Loss: 0.182.. Test Loss: 0.125.. Time: 0.03m\n"
     ]
    },
    {
     "name": "stderr",
     "output_type": "stream",
     "text": [
      "100%|██████████| 107/107 [00:01<00:00, 70.81it/s]\n",
      "100%|██████████| 18/18 [00:00<00:00, 371.44it/s]\n",
      "100%|██████████| 53/53 [00:00<00:00, 378.81it/s]\n"
     ]
    },
    {
     "name": "stdout",
     "output_type": "stream",
     "text": [
      "Epoch:906/1000.. Train Loss: 0.014.. Val Loss: 0.180.. Test Loss: 0.124.. Time: 0.03m\n"
     ]
    },
    {
     "name": "stderr",
     "output_type": "stream",
     "text": [
      "100%|██████████| 107/107 [00:01<00:00, 68.81it/s]\n",
      "100%|██████████| 18/18 [00:00<00:00, 329.21it/s]\n",
      "100%|██████████| 53/53 [00:00<00:00, 378.17it/s]\n"
     ]
    },
    {
     "name": "stdout",
     "output_type": "stream",
     "text": [
      "Epoch:907/1000.. Train Loss: 0.017.. Val Loss: 0.179.. Test Loss: 0.124.. Time: 0.03m\n"
     ]
    },
    {
     "name": "stderr",
     "output_type": "stream",
     "text": [
      "100%|██████████| 107/107 [00:01<00:00, 71.51it/s]\n",
      "100%|██████████| 18/18 [00:00<00:00, 371.67it/s]\n",
      "100%|██████████| 53/53 [00:00<00:00, 384.34it/s]\n"
     ]
    },
    {
     "name": "stdout",
     "output_type": "stream",
     "text": [
      "Epoch:908/1000.. Train Loss: 0.015.. Val Loss: 0.181.. Test Loss: 0.124.. Time: 0.03m\n"
     ]
    },
    {
     "name": "stderr",
     "output_type": "stream",
     "text": [
      "100%|██████████| 107/107 [00:01<00:00, 68.70it/s]\n",
      "100%|██████████| 18/18 [00:00<00:00, 371.03it/s]\n",
      "100%|██████████| 53/53 [00:00<00:00, 383.11it/s]\n"
     ]
    },
    {
     "name": "stdout",
     "output_type": "stream",
     "text": [
      "Epoch:909/1000.. Train Loss: 0.017.. Val Loss: 0.179.. Test Loss: 0.125.. Time: 0.03m\n"
     ]
    },
    {
     "name": "stderr",
     "output_type": "stream",
     "text": [
      "100%|██████████| 107/107 [00:01<00:00, 71.82it/s]\n",
      "100%|██████████| 18/18 [00:00<00:00, 381.78it/s]\n",
      "100%|██████████| 53/53 [00:00<00:00, 384.34it/s]\n"
     ]
    },
    {
     "name": "stdout",
     "output_type": "stream",
     "text": [
      "Epoch:910/1000.. Train Loss: 0.020.. Val Loss: 0.178.. Test Loss: 0.124.. Time: 0.03m\n"
     ]
    },
    {
     "name": "stderr",
     "output_type": "stream",
     "text": [
      "100%|██████████| 107/107 [00:01<00:00, 69.97it/s]\n",
      "100%|██████████| 18/18 [00:00<00:00, 324.62it/s]\n",
      "100%|██████████| 53/53 [00:00<00:00, 382.08it/s]\n"
     ]
    },
    {
     "name": "stdout",
     "output_type": "stream",
     "text": [
      "Epoch:911/1000.. Train Loss: 0.016.. Val Loss: 0.178.. Test Loss: 0.124.. Time: 0.03m\n"
     ]
    },
    {
     "name": "stderr",
     "output_type": "stream",
     "text": [
      "100%|██████████| 107/107 [00:01<00:00, 70.73it/s]\n",
      "100%|██████████| 18/18 [00:00<00:00, 377.27it/s]\n",
      "100%|██████████| 53/53 [00:00<00:00, 376.94it/s]\n"
     ]
    },
    {
     "name": "stdout",
     "output_type": "stream",
     "text": [
      "Epoch:912/1000.. Train Loss: 0.020.. Val Loss: 0.177.. Test Loss: 0.123.. Time: 0.03m\n"
     ]
    },
    {
     "name": "stderr",
     "output_type": "stream",
     "text": [
      "100%|██████████| 107/107 [00:01<00:00, 66.45it/s]\n",
      "100%|██████████| 18/18 [00:00<00:00, 384.21it/s]\n",
      "100%|██████████| 53/53 [00:00<00:00, 369.03it/s]\n"
     ]
    },
    {
     "name": "stdout",
     "output_type": "stream",
     "text": [
      "Epoch:913/1000.. Train Loss: 0.016.. Val Loss: 0.177.. Test Loss: 0.123.. Time: 0.03m\n"
     ]
    },
    {
     "name": "stderr",
     "output_type": "stream",
     "text": [
      "100%|██████████| 107/107 [00:01<00:00, 71.31it/s]\n",
      "100%|██████████| 18/18 [00:00<00:00, 323.67it/s]\n",
      "100%|██████████| 53/53 [00:00<00:00, 380.15it/s]\n"
     ]
    },
    {
     "name": "stdout",
     "output_type": "stream",
     "text": [
      "Epoch:914/1000.. Train Loss: 0.019.. Val Loss: 0.178.. Test Loss: 0.122.. Time: 0.03m\n"
     ]
    },
    {
     "name": "stderr",
     "output_type": "stream",
     "text": [
      "100%|██████████| 107/107 [00:01<00:00, 68.07it/s]\n",
      "100%|██████████| 18/18 [00:00<00:00, 365.45it/s]\n",
      "100%|██████████| 53/53 [00:00<00:00, 378.77it/s]\n"
     ]
    },
    {
     "name": "stdout",
     "output_type": "stream",
     "text": [
      "Epoch:915/1000.. Train Loss: 0.017.. Val Loss: 0.181.. Test Loss: 0.122.. Time: 0.03m\n"
     ]
    },
    {
     "name": "stderr",
     "output_type": "stream",
     "text": [
      "100%|██████████| 107/107 [00:01<00:00, 71.28it/s]\n",
      "100%|██████████| 18/18 [00:00<00:00, 374.46it/s]\n",
      "100%|██████████| 53/53 [00:00<00:00, 376.56it/s]\n"
     ]
    },
    {
     "name": "stdout",
     "output_type": "stream",
     "text": [
      "Epoch:916/1000.. Train Loss: 0.016.. Val Loss: 0.179.. Test Loss: 0.122.. Time: 0.03m\n"
     ]
    },
    {
     "name": "stderr",
     "output_type": "stream",
     "text": [
      "100%|██████████| 107/107 [00:01<00:00, 69.55it/s]\n",
      "100%|██████████| 18/18 [00:00<00:00, 346.67it/s]\n",
      "100%|██████████| 53/53 [00:00<00:00, 358.87it/s]\n"
     ]
    },
    {
     "name": "stdout",
     "output_type": "stream",
     "text": [
      "Epoch:917/1000.. Train Loss: 0.016.. Val Loss: 0.179.. Test Loss: 0.122.. Time: 0.03m\n"
     ]
    },
    {
     "name": "stderr",
     "output_type": "stream",
     "text": [
      "100%|██████████| 107/107 [00:01<00:00, 71.04it/s]\n",
      "100%|██████████| 18/18 [00:00<00:00, 373.45it/s]\n",
      "100%|██████████| 53/53 [00:00<00:00, 379.80it/s]\n"
     ]
    },
    {
     "name": "stdout",
     "output_type": "stream",
     "text": [
      "Epoch:918/1000.. Train Loss: 0.021.. Val Loss: 0.177.. Test Loss: 0.122.. Time: 0.03m\n"
     ]
    },
    {
     "name": "stderr",
     "output_type": "stream",
     "text": [
      "100%|██████████| 107/107 [00:01<00:00, 69.48it/s]\n",
      "100%|██████████| 18/18 [00:00<00:00, 369.18it/s]\n",
      "100%|██████████| 53/53 [00:00<00:00, 380.57it/s]\n"
     ]
    },
    {
     "name": "stdout",
     "output_type": "stream",
     "text": [
      "Epoch:919/1000.. Train Loss: 0.021.. Val Loss: 0.191.. Test Loss: 0.121.. Time: 0.03m\n"
     ]
    },
    {
     "name": "stderr",
     "output_type": "stream",
     "text": [
      "100%|██████████| 107/107 [00:01<00:00, 70.65it/s]\n",
      "100%|██████████| 18/18 [00:00<00:00, 317.73it/s]\n",
      "100%|██████████| 53/53 [00:00<00:00, 367.93it/s]\n"
     ]
    },
    {
     "name": "stdout",
     "output_type": "stream",
     "text": [
      "Epoch:920/1000.. Train Loss: 0.021.. Val Loss: 0.178.. Test Loss: 0.122.. Time: 0.03m\n"
     ]
    },
    {
     "name": "stderr",
     "output_type": "stream",
     "text": [
      "100%|██████████| 107/107 [00:01<00:00, 71.64it/s]\n",
      "100%|██████████| 18/18 [00:00<00:00, 363.75it/s]\n",
      "100%|██████████| 53/53 [00:00<00:00, 381.46it/s]\n"
     ]
    },
    {
     "name": "stdout",
     "output_type": "stream",
     "text": [
      "Epoch:921/1000.. Train Loss: 0.015.. Val Loss: 0.185.. Test Loss: 0.122.. Time: 0.03m\n"
     ]
    },
    {
     "name": "stderr",
     "output_type": "stream",
     "text": [
      "100%|██████████| 107/107 [00:01<00:00, 70.33it/s]\n",
      "100%|██████████| 18/18 [00:00<00:00, 379.47it/s]\n",
      "100%|██████████| 53/53 [00:00<00:00, 383.46it/s]\n"
     ]
    },
    {
     "name": "stdout",
     "output_type": "stream",
     "text": [
      "Epoch:922/1000.. Train Loss: 0.017.. Val Loss: 0.179.. Test Loss: 0.122.. Time: 0.03m\n"
     ]
    },
    {
     "name": "stderr",
     "output_type": "stream",
     "text": [
      "100%|██████████| 107/107 [00:01<00:00, 71.21it/s]\n",
      "100%|██████████| 18/18 [00:00<00:00, 380.40it/s]\n",
      "100%|██████████| 53/53 [00:00<00:00, 381.12it/s]\n"
     ]
    },
    {
     "name": "stdout",
     "output_type": "stream",
     "text": [
      "Epoch:923/1000.. Train Loss: 0.018.. Val Loss: 0.188.. Test Loss: 0.122.. Time: 0.03m\n"
     ]
    },
    {
     "name": "stderr",
     "output_type": "stream",
     "text": [
      "100%|██████████| 107/107 [00:01<00:00, 70.84it/s]\n",
      "100%|██████████| 18/18 [00:00<00:00, 379.86it/s]\n",
      "100%|██████████| 53/53 [00:00<00:00, 372.66it/s]\n"
     ]
    },
    {
     "name": "stdout",
     "output_type": "stream",
     "text": [
      "Epoch:924/1000.. Train Loss: 0.017.. Val Loss: 0.179.. Test Loss: 0.123.. Time: 0.03m\n"
     ]
    },
    {
     "name": "stderr",
     "output_type": "stream",
     "text": [
      "100%|██████████| 107/107 [00:01<00:00, 71.58it/s]\n",
      "100%|██████████| 18/18 [00:00<00:00, 327.79it/s]\n",
      "100%|██████████| 53/53 [00:00<00:00, 383.81it/s]\n"
     ]
    },
    {
     "name": "stdout",
     "output_type": "stream",
     "text": [
      "Epoch:925/1000.. Train Loss: 0.016.. Val Loss: 0.181.. Test Loss: 0.124.. Time: 0.03m\n"
     ]
    },
    {
     "name": "stderr",
     "output_type": "stream",
     "text": [
      "100%|██████████| 107/107 [00:01<00:00, 70.35it/s]\n",
      "100%|██████████| 18/18 [00:00<00:00, 372.14it/s]\n",
      "100%|██████████| 53/53 [00:00<00:00, 385.45it/s]\n"
     ]
    },
    {
     "name": "stdout",
     "output_type": "stream",
     "text": [
      "Epoch:926/1000.. Train Loss: 0.019.. Val Loss: 0.181.. Test Loss: 0.124.. Time: 0.03m\n"
     ]
    },
    {
     "name": "stderr",
     "output_type": "stream",
     "text": [
      "100%|██████████| 107/107 [00:01<00:00, 70.00it/s]\n",
      "100%|██████████| 18/18 [00:00<00:00, 368.91it/s]\n",
      "100%|██████████| 53/53 [00:00<00:00, 384.13it/s]\n"
     ]
    },
    {
     "name": "stdout",
     "output_type": "stream",
     "text": [
      "Epoch:927/1000.. Train Loss: 0.017.. Val Loss: 0.182.. Test Loss: 0.124.. Time: 0.03m\n"
     ]
    },
    {
     "name": "stderr",
     "output_type": "stream",
     "text": [
      "100%|██████████| 107/107 [00:01<00:00, 69.44it/s]\n",
      "100%|██████████| 18/18 [00:00<00:00, 369.80it/s]\n",
      "100%|██████████| 53/53 [00:00<00:00, 375.59it/s]\n"
     ]
    },
    {
     "name": "stdout",
     "output_type": "stream",
     "text": [
      "Epoch:928/1000.. Train Loss: 0.016.. Val Loss: 0.181.. Test Loss: 0.123.. Time: 0.03m\n"
     ]
    },
    {
     "name": "stderr",
     "output_type": "stream",
     "text": [
      "100%|██████████| 107/107 [00:01<00:00, 72.03it/s]\n",
      "100%|██████████| 18/18 [00:00<00:00, 376.42it/s]\n",
      "100%|██████████| 53/53 [00:00<00:00, 381.18it/s]\n"
     ]
    },
    {
     "name": "stdout",
     "output_type": "stream",
     "text": [
      "Epoch:929/1000.. Train Loss: 0.019.. Val Loss: 0.181.. Test Loss: 0.123.. Time: 0.03m\n"
     ]
    },
    {
     "name": "stderr",
     "output_type": "stream",
     "text": [
      "100%|██████████| 107/107 [00:01<00:00, 69.21it/s]\n",
      "100%|██████████| 18/18 [00:00<00:00, 381.51it/s]\n",
      "100%|██████████| 53/53 [00:00<00:00, 373.24it/s]\n"
     ]
    },
    {
     "name": "stdout",
     "output_type": "stream",
     "text": [
      "Epoch:930/1000.. Train Loss: 0.018.. Val Loss: 0.183.. Test Loss: 0.123.. Time: 0.03m\n"
     ]
    },
    {
     "name": "stderr",
     "output_type": "stream",
     "text": [
      "100%|██████████| 107/107 [00:01<00:00, 70.17it/s]\n",
      "100%|██████████| 18/18 [00:00<00:00, 376.89it/s]\n",
      "100%|██████████| 53/53 [00:00<00:00, 380.61it/s]\n"
     ]
    },
    {
     "name": "stdout",
     "output_type": "stream",
     "text": [
      "Epoch:931/1000.. Train Loss: 0.016.. Val Loss: 0.182.. Test Loss: 0.124.. Time: 0.03m\n"
     ]
    },
    {
     "name": "stderr",
     "output_type": "stream",
     "text": [
      "100%|██████████| 107/107 [00:01<00:00, 71.12it/s]\n",
      "100%|██████████| 18/18 [00:00<00:00, 365.96it/s]\n",
      "100%|██████████| 53/53 [00:00<00:00, 386.44it/s]\n"
     ]
    },
    {
     "name": "stdout",
     "output_type": "stream",
     "text": [
      "Epoch:932/1000.. Train Loss: 0.015.. Val Loss: 0.182.. Test Loss: 0.123.. Time: 0.03m\n"
     ]
    },
    {
     "name": "stderr",
     "output_type": "stream",
     "text": [
      "100%|██████████| 107/107 [00:01<00:00, 70.47it/s]\n",
      "100%|██████████| 18/18 [00:00<00:00, 379.19it/s]\n",
      "100%|██████████| 53/53 [00:00<00:00, 380.33it/s]\n"
     ]
    },
    {
     "name": "stdout",
     "output_type": "stream",
     "text": [
      "Epoch:933/1000.. Train Loss: 0.016.. Val Loss: 0.188.. Test Loss: 0.124.. Time: 0.03m\n"
     ]
    },
    {
     "name": "stderr",
     "output_type": "stream",
     "text": [
      "100%|██████████| 107/107 [00:01<00:00, 70.02it/s]\n",
      "100%|██████████| 18/18 [00:00<00:00, 355.98it/s]\n",
      "100%|██████████| 53/53 [00:00<00:00, 389.92it/s]\n"
     ]
    },
    {
     "name": "stdout",
     "output_type": "stream",
     "text": [
      "Epoch:934/1000.. Train Loss: 0.015.. Val Loss: 0.182.. Test Loss: 0.123.. Time: 0.03m\n"
     ]
    },
    {
     "name": "stderr",
     "output_type": "stream",
     "text": [
      "100%|██████████| 107/107 [00:01<00:00, 70.17it/s]\n",
      "100%|██████████| 18/18 [00:00<00:00, 386.67it/s]\n",
      "100%|██████████| 53/53 [00:00<00:00, 388.80it/s]\n"
     ]
    },
    {
     "name": "stdout",
     "output_type": "stream",
     "text": [
      "Epoch:935/1000.. Train Loss: 0.017.. Val Loss: 0.181.. Test Loss: 0.123.. Time: 0.03m\n"
     ]
    },
    {
     "name": "stderr",
     "output_type": "stream",
     "text": [
      "100%|██████████| 107/107 [00:01<00:00, 73.09it/s]\n",
      "100%|██████████| 18/18 [00:00<00:00, 385.70it/s]\n",
      "100%|██████████| 53/53 [00:00<00:00, 368.37it/s]\n"
     ]
    },
    {
     "name": "stdout",
     "output_type": "stream",
     "text": [
      "Epoch:936/1000.. Train Loss: 0.018.. Val Loss: 0.181.. Test Loss: 0.123.. Time: 0.03m\n"
     ]
    },
    {
     "name": "stderr",
     "output_type": "stream",
     "text": [
      "100%|██████████| 107/107 [00:01<00:00, 68.70it/s]\n",
      "100%|██████████| 18/18 [00:00<00:00, 378.41it/s]\n",
      "100%|██████████| 53/53 [00:00<00:00, 382.42it/s]\n"
     ]
    },
    {
     "name": "stdout",
     "output_type": "stream",
     "text": [
      "Epoch:937/1000.. Train Loss: 0.016.. Val Loss: 0.180.. Test Loss: 0.123.. Time: 0.03m\n"
     ]
    },
    {
     "name": "stderr",
     "output_type": "stream",
     "text": [
      "100%|██████████| 107/107 [00:01<00:00, 72.28it/s]\n",
      "100%|██████████| 18/18 [00:00<00:00, 379.55it/s]\n",
      "100%|██████████| 53/53 [00:00<00:00, 384.05it/s]\n"
     ]
    },
    {
     "name": "stdout",
     "output_type": "stream",
     "text": [
      "Epoch:938/1000.. Train Loss: 0.018.. Val Loss: 0.186.. Test Loss: 0.123.. Time: 0.03m\n"
     ]
    },
    {
     "name": "stderr",
     "output_type": "stream",
     "text": [
      "100%|██████████| 107/107 [00:01<00:00, 69.66it/s]\n",
      "100%|██████████| 18/18 [00:00<00:00, 321.00it/s]\n",
      "100%|██████████| 53/53 [00:00<00:00, 375.99it/s]\n"
     ]
    },
    {
     "name": "stdout",
     "output_type": "stream",
     "text": [
      "Epoch:939/1000.. Train Loss: 0.017.. Val Loss: 0.180.. Test Loss: 0.123.. Time: 0.03m\n"
     ]
    },
    {
     "name": "stderr",
     "output_type": "stream",
     "text": [
      "100%|██████████| 107/107 [00:01<00:00, 68.00it/s]\n",
      "100%|██████████| 18/18 [00:00<00:00, 380.79it/s]\n",
      "100%|██████████| 53/53 [00:00<00:00, 381.82it/s]\n"
     ]
    },
    {
     "name": "stdout",
     "output_type": "stream",
     "text": [
      "Epoch:940/1000.. Train Loss: 0.017.. Val Loss: 0.194.. Test Loss: 0.123.. Time: 0.03m\n"
     ]
    },
    {
     "name": "stderr",
     "output_type": "stream",
     "text": [
      "100%|██████████| 107/107 [00:01<00:00, 68.38it/s]\n",
      "100%|██████████| 18/18 [00:00<00:00, 378.96it/s]\n",
      "100%|██████████| 53/53 [00:00<00:00, 378.19it/s]\n"
     ]
    },
    {
     "name": "stdout",
     "output_type": "stream",
     "text": [
      "Epoch:941/1000.. Train Loss: 0.017.. Val Loss: 0.188.. Test Loss: 0.124.. Time: 0.03m\n"
     ]
    },
    {
     "name": "stderr",
     "output_type": "stream",
     "text": [
      "100%|██████████| 107/107 [00:01<00:00, 70.70it/s]\n",
      "100%|██████████| 18/18 [00:00<00:00, 382.32it/s]\n",
      "100%|██████████| 53/53 [00:00<00:00, 380.62it/s]\n"
     ]
    },
    {
     "name": "stdout",
     "output_type": "stream",
     "text": [
      "Epoch:942/1000.. Train Loss: 0.017.. Val Loss: 0.180.. Test Loss: 0.123.. Time: 0.03m\n"
     ]
    },
    {
     "name": "stderr",
     "output_type": "stream",
     "text": [
      "100%|██████████| 107/107 [00:01<00:00, 68.36it/s]\n",
      "100%|██████████| 18/18 [00:00<00:00, 370.80it/s]\n",
      "100%|██████████| 53/53 [00:00<00:00, 382.77it/s]\n"
     ]
    },
    {
     "name": "stdout",
     "output_type": "stream",
     "text": [
      "Epoch:943/1000.. Train Loss: 0.016.. Val Loss: 0.182.. Test Loss: 0.123.. Time: 0.03m\n"
     ]
    },
    {
     "name": "stderr",
     "output_type": "stream",
     "text": [
      "100%|██████████| 107/107 [00:01<00:00, 71.46it/s]\n",
      "100%|██████████| 18/18 [00:00<00:00, 373.64it/s]\n",
      "100%|██████████| 53/53 [00:00<00:00, 380.41it/s]\n"
     ]
    },
    {
     "name": "stdout",
     "output_type": "stream",
     "text": [
      "Epoch:944/1000.. Train Loss: 0.020.. Val Loss: 0.180.. Test Loss: 0.123.. Time: 0.03m\n"
     ]
    },
    {
     "name": "stderr",
     "output_type": "stream",
     "text": [
      "100%|██████████| 107/107 [00:01<00:00, 70.89it/s]\n",
      "100%|██████████| 18/18 [00:00<00:00, 259.24it/s]\n",
      "100%|██████████| 53/53 [00:00<00:00, 367.72it/s]\n"
     ]
    },
    {
     "name": "stdout",
     "output_type": "stream",
     "text": [
      "Epoch:945/1000.. Train Loss: 0.018.. Val Loss: 0.180.. Test Loss: 0.123.. Time: 0.03m\n"
     ]
    },
    {
     "name": "stderr",
     "output_type": "stream",
     "text": [
      "100%|██████████| 107/107 [00:01<00:00, 70.54it/s]\n",
      "100%|██████████| 18/18 [00:00<00:00, 367.34it/s]\n",
      "100%|██████████| 53/53 [00:00<00:00, 383.77it/s]\n"
     ]
    },
    {
     "name": "stdout",
     "output_type": "stream",
     "text": [
      "Epoch:946/1000.. Train Loss: 0.016.. Val Loss: 0.181.. Test Loss: 0.123.. Time: 0.03m\n"
     ]
    },
    {
     "name": "stderr",
     "output_type": "stream",
     "text": [
      "100%|██████████| 107/107 [00:01<00:00, 71.77it/s]\n",
      "100%|██████████| 18/18 [00:00<00:00, 378.34it/s]\n",
      "100%|██████████| 53/53 [00:00<00:00, 373.93it/s]\n"
     ]
    },
    {
     "name": "stdout",
     "output_type": "stream",
     "text": [
      "Epoch:947/1000.. Train Loss: 0.016.. Val Loss: 0.185.. Test Loss: 0.123.. Time: 0.03m\n"
     ]
    },
    {
     "name": "stderr",
     "output_type": "stream",
     "text": [
      "100%|██████████| 107/107 [00:01<00:00, 68.00it/s]\n",
      "100%|██████████| 18/18 [00:00<00:00, 374.71it/s]\n",
      "100%|██████████| 53/53 [00:00<00:00, 377.58it/s]\n"
     ]
    },
    {
     "name": "stdout",
     "output_type": "stream",
     "text": [
      "Epoch:948/1000.. Train Loss: 0.018.. Val Loss: 0.179.. Test Loss: 0.123.. Time: 0.03m\n"
     ]
    },
    {
     "name": "stderr",
     "output_type": "stream",
     "text": [
      "100%|██████████| 107/107 [00:01<00:00, 70.77it/s]\n",
      "100%|██████████| 18/18 [00:00<00:00, 365.92it/s]\n",
      "100%|██████████| 53/53 [00:00<00:00, 367.58it/s]\n"
     ]
    },
    {
     "name": "stdout",
     "output_type": "stream",
     "text": [
      "Epoch:949/1000.. Train Loss: 0.017.. Val Loss: 0.189.. Test Loss: 0.123.. Time: 0.03m\n"
     ]
    },
    {
     "name": "stderr",
     "output_type": "stream",
     "text": [
      "100%|██████████| 107/107 [00:01<00:00, 67.76it/s]\n",
      "100%|██████████| 18/18 [00:00<00:00, 374.65it/s]\n",
      "100%|██████████| 53/53 [00:00<00:00, 378.86it/s]\n"
     ]
    },
    {
     "name": "stdout",
     "output_type": "stream",
     "text": [
      "Epoch:950/1000.. Train Loss: 0.017.. Val Loss: 0.180.. Test Loss: 0.123.. Time: 0.03m\n"
     ]
    },
    {
     "name": "stderr",
     "output_type": "stream",
     "text": [
      "100%|██████████| 107/107 [00:01<00:00, 70.91it/s]\n",
      "100%|██████████| 18/18 [00:00<00:00, 373.85it/s]\n",
      "100%|██████████| 53/53 [00:00<00:00, 370.64it/s]\n"
     ]
    },
    {
     "name": "stdout",
     "output_type": "stream",
     "text": [
      "Epoch:951/1000.. Train Loss: 0.017.. Val Loss: 0.180.. Test Loss: 0.123.. Time: 0.03m\n"
     ]
    },
    {
     "name": "stderr",
     "output_type": "stream",
     "text": [
      "100%|██████████| 107/107 [00:01<00:00, 67.90it/s]\n",
      "100%|██████████| 18/18 [00:00<00:00, 369.49it/s]\n",
      "100%|██████████| 53/53 [00:00<00:00, 369.31it/s]\n"
     ]
    },
    {
     "name": "stdout",
     "output_type": "stream",
     "text": [
      "Epoch:952/1000.. Train Loss: 0.019.. Val Loss: 0.180.. Test Loss: 0.123.. Time: 0.03m\n"
     ]
    },
    {
     "name": "stderr",
     "output_type": "stream",
     "text": [
      "100%|██████████| 107/107 [00:01<00:00, 68.57it/s]\n",
      "100%|██████████| 18/18 [00:00<00:00, 351.90it/s]\n",
      "100%|██████████| 53/53 [00:00<00:00, 322.37it/s]\n"
     ]
    },
    {
     "name": "stdout",
     "output_type": "stream",
     "text": [
      "Epoch:953/1000.. Train Loss: 0.018.. Val Loss: 0.186.. Test Loss: 0.123.. Time: 0.03m\n"
     ]
    },
    {
     "name": "stderr",
     "output_type": "stream",
     "text": [
      "100%|██████████| 107/107 [00:01<00:00, 68.09it/s]\n",
      "100%|██████████| 18/18 [00:00<00:00, 383.20it/s]\n",
      "100%|██████████| 53/53 [00:00<00:00, 380.81it/s]\n"
     ]
    },
    {
     "name": "stdout",
     "output_type": "stream",
     "text": [
      "Epoch:954/1000.. Train Loss: 0.019.. Val Loss: 0.181.. Test Loss: 0.123.. Time: 0.03m\n"
     ]
    },
    {
     "name": "stderr",
     "output_type": "stream",
     "text": [
      "100%|██████████| 107/107 [00:01<00:00, 70.67it/s]\n",
      "100%|██████████| 18/18 [00:00<00:00, 371.42it/s]\n",
      "100%|██████████| 53/53 [00:00<00:00, 377.04it/s]\n"
     ]
    },
    {
     "name": "stdout",
     "output_type": "stream",
     "text": [
      "Epoch:955/1000.. Train Loss: 0.020.. Val Loss: 0.190.. Test Loss: 0.123.. Time: 0.03m\n"
     ]
    },
    {
     "name": "stderr",
     "output_type": "stream",
     "text": [
      "100%|██████████| 107/107 [00:01<00:00, 68.79it/s]\n",
      "100%|██████████| 18/18 [00:00<00:00, 376.28it/s]\n",
      "100%|██████████| 53/53 [00:00<00:00, 379.09it/s]\n"
     ]
    },
    {
     "name": "stdout",
     "output_type": "stream",
     "text": [
      "Epoch:956/1000.. Train Loss: 0.016.. Val Loss: 0.180.. Test Loss: 0.123.. Time: 0.03m\n"
     ]
    },
    {
     "name": "stderr",
     "output_type": "stream",
     "text": [
      "100%|██████████| 107/107 [00:01<00:00, 71.35it/s]\n",
      "100%|██████████| 18/18 [00:00<00:00, 323.54it/s]\n",
      "100%|██████████| 53/53 [00:00<00:00, 378.45it/s]\n"
     ]
    },
    {
     "name": "stdout",
     "output_type": "stream",
     "text": [
      "Epoch:957/1000.. Train Loss: 0.018.. Val Loss: 0.181.. Test Loss: 0.123.. Time: 0.03m\n"
     ]
    },
    {
     "name": "stderr",
     "output_type": "stream",
     "text": [
      "100%|██████████| 107/107 [00:01<00:00, 69.91it/s]\n",
      "100%|██████████| 18/18 [00:00<00:00, 344.91it/s]\n",
      "100%|██████████| 53/53 [00:00<00:00, 382.41it/s]\n"
     ]
    },
    {
     "name": "stdout",
     "output_type": "stream",
     "text": [
      "Epoch:958/1000.. Train Loss: 0.020.. Val Loss: 0.180.. Test Loss: 0.123.. Time: 0.03m\n"
     ]
    },
    {
     "name": "stderr",
     "output_type": "stream",
     "text": [
      "100%|██████████| 107/107 [00:01<00:00, 69.52it/s]\n",
      "100%|██████████| 18/18 [00:00<00:00, 367.64it/s]\n",
      "100%|██████████| 53/53 [00:00<00:00, 361.12it/s]\n"
     ]
    },
    {
     "name": "stdout",
     "output_type": "stream",
     "text": [
      "Epoch:959/1000.. Train Loss: 0.017.. Val Loss: 0.180.. Test Loss: 0.123.. Time: 0.03m\n"
     ]
    },
    {
     "name": "stderr",
     "output_type": "stream",
     "text": [
      "100%|██████████| 107/107 [00:01<00:00, 70.28it/s]\n",
      "100%|██████████| 18/18 [00:00<00:00, 379.34it/s]\n",
      "100%|██████████| 53/53 [00:00<00:00, 379.12it/s]\n"
     ]
    },
    {
     "name": "stdout",
     "output_type": "stream",
     "text": [
      "Epoch:960/1000.. Train Loss: 0.017.. Val Loss: 0.180.. Test Loss: 0.123.. Time: 0.03m\n"
     ]
    },
    {
     "name": "stderr",
     "output_type": "stream",
     "text": [
      "100%|██████████| 107/107 [00:01<00:00, 71.56it/s]\n",
      "100%|██████████| 18/18 [00:00<00:00, 379.63it/s]\n",
      "100%|██████████| 53/53 [00:00<00:00, 353.73it/s]\n"
     ]
    },
    {
     "name": "stdout",
     "output_type": "stream",
     "text": [
      "Epoch:961/1000.. Train Loss: 0.016.. Val Loss: 0.180.. Test Loss: 0.123.. Time: 0.03m\n"
     ]
    },
    {
     "name": "stderr",
     "output_type": "stream",
     "text": [
      "100%|██████████| 107/107 [00:01<00:00, 68.71it/s]\n",
      "100%|██████████| 18/18 [00:00<00:00, 364.20it/s]\n",
      "100%|██████████| 53/53 [00:00<00:00, 364.47it/s]\n"
     ]
    },
    {
     "name": "stdout",
     "output_type": "stream",
     "text": [
      "Epoch:962/1000.. Train Loss: 0.017.. Val Loss: 0.208.. Test Loss: 0.123.. Time: 0.03m\n"
     ]
    },
    {
     "name": "stderr",
     "output_type": "stream",
     "text": [
      "100%|██████████| 107/107 [00:01<00:00, 71.96it/s]\n",
      "100%|██████████| 18/18 [00:00<00:00, 370.52it/s]\n",
      "100%|██████████| 53/53 [00:00<00:00, 355.81it/s]\n"
     ]
    },
    {
     "name": "stdout",
     "output_type": "stream",
     "text": [
      "Epoch:963/1000.. Train Loss: 0.017.. Val Loss: 0.180.. Test Loss: 0.123.. Time: 0.03m\n"
     ]
    },
    {
     "name": "stderr",
     "output_type": "stream",
     "text": [
      "100%|██████████| 107/107 [00:01<00:00, 68.85it/s]\n",
      "100%|██████████| 18/18 [00:00<00:00, 368.32it/s]\n",
      "100%|██████████| 53/53 [00:00<00:00, 368.95it/s]\n"
     ]
    },
    {
     "name": "stdout",
     "output_type": "stream",
     "text": [
      "Epoch:964/1000.. Train Loss: 0.019.. Val Loss: 0.190.. Test Loss: 0.123.. Time: 0.03m\n"
     ]
    },
    {
     "name": "stderr",
     "output_type": "stream",
     "text": [
      "100%|██████████| 107/107 [00:01<00:00, 69.80it/s]\n",
      "100%|██████████| 18/18 [00:00<00:00, 373.97it/s]\n",
      "100%|██████████| 53/53 [00:00<00:00, 362.69it/s]\n"
     ]
    },
    {
     "name": "stdout",
     "output_type": "stream",
     "text": [
      "Epoch:965/1000.. Train Loss: 0.018.. Val Loss: 0.181.. Test Loss: 0.123.. Time: 0.03m\n"
     ]
    },
    {
     "name": "stderr",
     "output_type": "stream",
     "text": [
      "100%|██████████| 107/107 [00:01<00:00, 70.97it/s]\n",
      "100%|██████████| 18/18 [00:00<00:00, 379.41it/s]\n",
      "100%|██████████| 53/53 [00:00<00:00, 348.28it/s]\n"
     ]
    },
    {
     "name": "stdout",
     "output_type": "stream",
     "text": [
      "Epoch:966/1000.. Train Loss: 0.017.. Val Loss: 0.190.. Test Loss: 0.123.. Time: 0.03m\n"
     ]
    },
    {
     "name": "stderr",
     "output_type": "stream",
     "text": [
      "100%|██████████| 107/107 [00:01<00:00, 68.37it/s]\n",
      "100%|██████████| 18/18 [00:00<00:00, 376.88it/s]\n",
      "100%|██████████| 53/53 [00:00<00:00, 383.85it/s]\n"
     ]
    },
    {
     "name": "stdout",
     "output_type": "stream",
     "text": [
      "Epoch:967/1000.. Train Loss: 0.018.. Val Loss: 0.201.. Test Loss: 0.123.. Time: 0.03m\n"
     ]
    },
    {
     "name": "stderr",
     "output_type": "stream",
     "text": [
      "100%|██████████| 107/107 [00:01<00:00, 69.76it/s]\n",
      "100%|██████████| 18/18 [00:00<00:00, 364.89it/s]\n",
      "100%|██████████| 53/53 [00:00<00:00, 364.26it/s]\n"
     ]
    },
    {
     "name": "stdout",
     "output_type": "stream",
     "text": [
      "Epoch:968/1000.. Train Loss: 0.020.. Val Loss: 0.181.. Test Loss: 0.123.. Time: 0.03m\n"
     ]
    },
    {
     "name": "stderr",
     "output_type": "stream",
     "text": [
      "100%|██████████| 107/107 [00:01<00:00, 71.45it/s]\n",
      "100%|██████████| 18/18 [00:00<00:00, 383.24it/s]\n",
      "100%|██████████| 53/53 [00:00<00:00, 379.46it/s]\n"
     ]
    },
    {
     "name": "stdout",
     "output_type": "stream",
     "text": [
      "Epoch:969/1000.. Train Loss: 0.016.. Val Loss: 0.187.. Test Loss: 0.123.. Time: 0.03m\n"
     ]
    },
    {
     "name": "stderr",
     "output_type": "stream",
     "text": [
      "100%|██████████| 107/107 [00:01<00:00, 71.37it/s]\n",
      "100%|██████████| 18/18 [00:00<00:00, 366.89it/s]\n",
      "100%|██████████| 53/53 [00:00<00:00, 383.57it/s]\n"
     ]
    },
    {
     "name": "stdout",
     "output_type": "stream",
     "text": [
      "Epoch:970/1000.. Train Loss: 0.017.. Val Loss: 0.181.. Test Loss: 0.123.. Time: 0.03m\n"
     ]
    },
    {
     "name": "stderr",
     "output_type": "stream",
     "text": [
      "100%|██████████| 107/107 [00:01<00:00, 70.31it/s]\n",
      "100%|██████████| 18/18 [00:00<00:00, 375.44it/s]\n",
      "100%|██████████| 53/53 [00:00<00:00, 385.65it/s]\n"
     ]
    },
    {
     "name": "stdout",
     "output_type": "stream",
     "text": [
      "Epoch:971/1000.. Train Loss: 0.017.. Val Loss: 0.180.. Test Loss: 0.123.. Time: 0.03m\n"
     ]
    },
    {
     "name": "stderr",
     "output_type": "stream",
     "text": [
      "100%|██████████| 107/107 [00:01<00:00, 70.81it/s]\n",
      "100%|██████████| 18/18 [00:00<00:00, 377.59it/s]\n",
      "100%|██████████| 53/53 [00:00<00:00, 369.52it/s]\n"
     ]
    },
    {
     "name": "stdout",
     "output_type": "stream",
     "text": [
      "Epoch:972/1000.. Train Loss: 0.018.. Val Loss: 0.181.. Test Loss: 0.123.. Time: 0.03m\n"
     ]
    },
    {
     "name": "stderr",
     "output_type": "stream",
     "text": [
      "100%|██████████| 107/107 [00:01<00:00, 69.52it/s]\n",
      "100%|██████████| 18/18 [00:00<00:00, 328.68it/s]\n",
      "100%|██████████| 53/53 [00:00<00:00, 383.31it/s]\n"
     ]
    },
    {
     "name": "stdout",
     "output_type": "stream",
     "text": [
      "Epoch:973/1000.. Train Loss: 0.016.. Val Loss: 0.190.. Test Loss: 0.123.. Time: 0.03m\n"
     ]
    },
    {
     "name": "stderr",
     "output_type": "stream",
     "text": [
      "100%|██████████| 107/107 [00:01<00:00, 71.77it/s]\n",
      "100%|██████████| 18/18 [00:00<00:00, 384.34it/s]\n",
      "100%|██████████| 53/53 [00:00<00:00, 384.83it/s]\n"
     ]
    },
    {
     "name": "stdout",
     "output_type": "stream",
     "text": [
      "Epoch:974/1000.. Train Loss: 0.016.. Val Loss: 0.180.. Test Loss: 0.123.. Time: 0.03m\n"
     ]
    },
    {
     "name": "stderr",
     "output_type": "stream",
     "text": [
      "100%|██████████| 107/107 [00:01<00:00, 68.88it/s]\n",
      "100%|██████████| 18/18 [00:00<00:00, 379.91it/s]\n",
      "100%|██████████| 53/53 [00:00<00:00, 347.38it/s]\n"
     ]
    },
    {
     "name": "stdout",
     "output_type": "stream",
     "text": [
      "Epoch:975/1000.. Train Loss: 0.017.. Val Loss: 0.180.. Test Loss: 0.123.. Time: 0.03m\n"
     ]
    },
    {
     "name": "stderr",
     "output_type": "stream",
     "text": [
      "100%|██████████| 107/107 [00:01<00:00, 70.99it/s]\n",
      "100%|██████████| 18/18 [00:00<00:00, 380.39it/s]\n",
      "100%|██████████| 53/53 [00:00<00:00, 356.89it/s]\n"
     ]
    },
    {
     "name": "stdout",
     "output_type": "stream",
     "text": [
      "Epoch:976/1000.. Train Loss: 0.017.. Val Loss: 0.201.. Test Loss: 0.123.. Time: 0.03m\n"
     ]
    },
    {
     "name": "stderr",
     "output_type": "stream",
     "text": [
      "100%|██████████| 107/107 [00:01<00:00, 68.98it/s]\n",
      "100%|██████████| 18/18 [00:00<00:00, 377.89it/s]\n",
      "100%|██████████| 53/53 [00:00<00:00, 384.00it/s]\n"
     ]
    },
    {
     "name": "stdout",
     "output_type": "stream",
     "text": [
      "Epoch:977/1000.. Train Loss: 0.017.. Val Loss: 0.190.. Test Loss: 0.123.. Time: 0.03m\n"
     ]
    },
    {
     "name": "stderr",
     "output_type": "stream",
     "text": [
      "100%|██████████| 107/107 [00:01<00:00, 70.39it/s]\n",
      "100%|██████████| 18/18 [00:00<00:00, 369.23it/s]\n",
      "100%|██████████| 53/53 [00:00<00:00, 382.63it/s]\n"
     ]
    },
    {
     "name": "stdout",
     "output_type": "stream",
     "text": [
      "Epoch:978/1000.. Train Loss: 0.017.. Val Loss: 0.180.. Test Loss: 0.123.. Time: 0.03m\n"
     ]
    },
    {
     "name": "stderr",
     "output_type": "stream",
     "text": [
      "100%|██████████| 107/107 [00:01<00:00, 70.35it/s]\n",
      "100%|██████████| 18/18 [00:00<00:00, 377.86it/s]\n",
      "100%|██████████| 53/53 [00:00<00:00, 355.32it/s]\n"
     ]
    },
    {
     "name": "stdout",
     "output_type": "stream",
     "text": [
      "Epoch:979/1000.. Train Loss: 0.016.. Val Loss: 0.181.. Test Loss: 0.123.. Time: 0.03m\n"
     ]
    },
    {
     "name": "stderr",
     "output_type": "stream",
     "text": [
      "100%|██████████| 107/107 [00:01<00:00, 72.01it/s]\n",
      "100%|██████████| 18/18 [00:00<00:00, 379.93it/s]\n",
      "100%|██████████| 53/53 [00:00<00:00, 385.30it/s]\n"
     ]
    },
    {
     "name": "stdout",
     "output_type": "stream",
     "text": [
      "Epoch:980/1000.. Train Loss: 0.017.. Val Loss: 0.180.. Test Loss: 0.123.. Time: 0.03m\n"
     ]
    },
    {
     "name": "stderr",
     "output_type": "stream",
     "text": [
      "100%|██████████| 107/107 [00:01<00:00, 70.61it/s]\n",
      "100%|██████████| 18/18 [00:00<00:00, 381.86it/s]\n",
      "100%|██████████| 53/53 [00:00<00:00, 382.89it/s]\n"
     ]
    },
    {
     "name": "stdout",
     "output_type": "stream",
     "text": [
      "Epoch:981/1000.. Train Loss: 0.017.. Val Loss: 0.180.. Test Loss: 0.123.. Time: 0.03m\n"
     ]
    },
    {
     "name": "stderr",
     "output_type": "stream",
     "text": [
      "100%|██████████| 107/107 [00:01<00:00, 69.93it/s]\n",
      "100%|██████████| 18/18 [00:00<00:00, 369.91it/s]\n",
      "100%|██████████| 53/53 [00:00<00:00, 386.23it/s]\n"
     ]
    },
    {
     "name": "stdout",
     "output_type": "stream",
     "text": [
      "Epoch:982/1000.. Train Loss: 0.020.. Val Loss: 0.181.. Test Loss: 0.123.. Time: 0.03m\n"
     ]
    },
    {
     "name": "stderr",
     "output_type": "stream",
     "text": [
      "100%|██████████| 107/107 [00:01<00:00, 71.11it/s]\n",
      "100%|██████████| 18/18 [00:00<00:00, 353.40it/s]\n",
      "100%|██████████| 53/53 [00:00<00:00, 355.10it/s]\n"
     ]
    },
    {
     "name": "stdout",
     "output_type": "stream",
     "text": [
      "Epoch:983/1000.. Train Loss: 0.018.. Val Loss: 0.180.. Test Loss: 0.123.. Time: 0.03m\n"
     ]
    },
    {
     "name": "stderr",
     "output_type": "stream",
     "text": [
      "100%|██████████| 107/107 [00:01<00:00, 67.68it/s]\n",
      "100%|██████████| 18/18 [00:00<00:00, 318.59it/s]\n",
      "100%|██████████| 53/53 [00:00<00:00, 350.82it/s]\n"
     ]
    },
    {
     "name": "stdout",
     "output_type": "stream",
     "text": [
      "Epoch:984/1000.. Train Loss: 0.016.. Val Loss: 0.181.. Test Loss: 0.123.. Time: 0.03m\n"
     ]
    },
    {
     "name": "stderr",
     "output_type": "stream",
     "text": [
      "100%|██████████| 107/107 [00:01<00:00, 70.59it/s]\n",
      "100%|██████████| 18/18 [00:00<00:00, 378.60it/s]\n",
      "100%|██████████| 53/53 [00:00<00:00, 369.64it/s]\n"
     ]
    },
    {
     "name": "stdout",
     "output_type": "stream",
     "text": [
      "Epoch:985/1000.. Train Loss: 0.015.. Val Loss: 0.181.. Test Loss: 0.123.. Time: 0.03m\n"
     ]
    },
    {
     "name": "stderr",
     "output_type": "stream",
     "text": [
      "100%|██████████| 107/107 [00:01<00:00, 70.35it/s]\n",
      "100%|██████████| 18/18 [00:00<00:00, 370.94it/s]\n",
      "100%|██████████| 53/53 [00:00<00:00, 372.95it/s]\n"
     ]
    },
    {
     "name": "stdout",
     "output_type": "stream",
     "text": [
      "Epoch:986/1000.. Train Loss: 0.018.. Val Loss: 0.180.. Test Loss: 0.123.. Time: 0.03m\n"
     ]
    },
    {
     "name": "stderr",
     "output_type": "stream",
     "text": [
      "100%|██████████| 107/107 [00:01<00:00, 71.24it/s]\n",
      "100%|██████████| 18/18 [00:00<00:00, 376.66it/s]\n",
      "100%|██████████| 53/53 [00:00<00:00, 340.80it/s]\n"
     ]
    },
    {
     "name": "stdout",
     "output_type": "stream",
     "text": [
      "Epoch:987/1000.. Train Loss: 0.017.. Val Loss: 0.187.. Test Loss: 0.123.. Time: 0.03m\n"
     ]
    },
    {
     "name": "stderr",
     "output_type": "stream",
     "text": [
      "100%|██████████| 107/107 [00:01<00:00, 70.34it/s]\n",
      "100%|██████████| 18/18 [00:00<00:00, 384.64it/s]\n",
      "100%|██████████| 53/53 [00:00<00:00, 359.28it/s]\n"
     ]
    },
    {
     "name": "stdout",
     "output_type": "stream",
     "text": [
      "Epoch:988/1000.. Train Loss: 0.020.. Val Loss: 0.180.. Test Loss: 0.123.. Time: 0.03m\n"
     ]
    },
    {
     "name": "stderr",
     "output_type": "stream",
     "text": [
      "100%|██████████| 107/107 [00:01<00:00, 70.12it/s]\n",
      "100%|██████████| 18/18 [00:00<00:00, 379.36it/s]\n",
      "100%|██████████| 53/53 [00:00<00:00, 352.29it/s]\n"
     ]
    },
    {
     "name": "stdout",
     "output_type": "stream",
     "text": [
      "Epoch:989/1000.. Train Loss: 0.019.. Val Loss: 0.180.. Test Loss: 0.123.. Time: 0.03m\n"
     ]
    },
    {
     "name": "stderr",
     "output_type": "stream",
     "text": [
      "100%|██████████| 107/107 [00:01<00:00, 69.51it/s]\n",
      "100%|██████████| 18/18 [00:00<00:00, 369.50it/s]\n",
      "100%|██████████| 53/53 [00:00<00:00, 371.64it/s]\n"
     ]
    },
    {
     "name": "stdout",
     "output_type": "stream",
     "text": [
      "Epoch:990/1000.. Train Loss: 0.017.. Val Loss: 0.181.. Test Loss: 0.123.. Time: 0.03m\n"
     ]
    },
    {
     "name": "stderr",
     "output_type": "stream",
     "text": [
      "100%|██████████| 107/107 [00:01<00:00, 70.48it/s]\n",
      "100%|██████████| 18/18 [00:00<00:00, 316.70it/s]\n",
      "100%|██████████| 53/53 [00:00<00:00, 378.05it/s]\n"
     ]
    },
    {
     "name": "stdout",
     "output_type": "stream",
     "text": [
      "Epoch:991/1000.. Train Loss: 0.018.. Val Loss: 0.180.. Test Loss: 0.123.. Time: 0.03m\n"
     ]
    },
    {
     "name": "stderr",
     "output_type": "stream",
     "text": [
      "100%|██████████| 107/107 [00:01<00:00, 66.96it/s]\n",
      "100%|██████████| 18/18 [00:00<00:00, 374.19it/s]\n",
      "100%|██████████| 53/53 [00:00<00:00, 378.52it/s]\n"
     ]
    },
    {
     "name": "stdout",
     "output_type": "stream",
     "text": [
      "Epoch:992/1000.. Train Loss: 0.018.. Val Loss: 0.190.. Test Loss: 0.123.. Time: 0.03m\n"
     ]
    },
    {
     "name": "stderr",
     "output_type": "stream",
     "text": [
      "100%|██████████| 107/107 [00:01<00:00, 71.31it/s]\n",
      "100%|██████████| 18/18 [00:00<00:00, 382.69it/s]\n",
      "100%|██████████| 53/53 [00:00<00:00, 385.93it/s]\n"
     ]
    },
    {
     "name": "stdout",
     "output_type": "stream",
     "text": [
      "Epoch:993/1000.. Train Loss: 0.019.. Val Loss: 0.180.. Test Loss: 0.123.. Time: 0.03m\n"
     ]
    },
    {
     "name": "stderr",
     "output_type": "stream",
     "text": [
      "100%|██████████| 107/107 [00:01<00:00, 66.80it/s]\n",
      "100%|██████████| 18/18 [00:00<00:00, 380.30it/s]\n",
      "100%|██████████| 53/53 [00:00<00:00, 382.01it/s]\n"
     ]
    },
    {
     "name": "stdout",
     "output_type": "stream",
     "text": [
      "Epoch:994/1000.. Train Loss: 0.017.. Val Loss: 0.180.. Test Loss: 0.123.. Time: 0.03m\n"
     ]
    },
    {
     "name": "stderr",
     "output_type": "stream",
     "text": [
      "100%|██████████| 107/107 [00:01<00:00, 71.02it/s]\n",
      "100%|██████████| 18/18 [00:00<00:00, 377.47it/s]\n",
      "100%|██████████| 53/53 [00:00<00:00, 381.39it/s]\n"
     ]
    },
    {
     "name": "stdout",
     "output_type": "stream",
     "text": [
      "Epoch:995/1000.. Train Loss: 0.017.. Val Loss: 0.205.. Test Loss: 0.123.. Time: 0.03m\n"
     ]
    },
    {
     "name": "stderr",
     "output_type": "stream",
     "text": [
      "100%|██████████| 107/107 [00:01<00:00, 70.10it/s]\n",
      "100%|██████████| 18/18 [00:00<00:00, 361.15it/s]\n",
      "100%|██████████| 53/53 [00:00<00:00, 368.94it/s]\n"
     ]
    },
    {
     "name": "stdout",
     "output_type": "stream",
     "text": [
      "Epoch:996/1000.. Train Loss: 0.016.. Val Loss: 0.180.. Test Loss: 0.123.. Time: 0.03m\n"
     ]
    },
    {
     "name": "stderr",
     "output_type": "stream",
     "text": [
      "100%|██████████| 107/107 [00:01<00:00, 70.49it/s]\n",
      "100%|██████████| 18/18 [00:00<00:00, 363.34it/s]\n",
      "100%|██████████| 53/53 [00:00<00:00, 384.18it/s]\n"
     ]
    },
    {
     "name": "stdout",
     "output_type": "stream",
     "text": [
      "Epoch:997/1000.. Train Loss: 0.015.. Val Loss: 0.180.. Test Loss: 0.123.. Time: 0.03m\n"
     ]
    },
    {
     "name": "stderr",
     "output_type": "stream",
     "text": [
      "100%|██████████| 107/107 [00:01<00:00, 70.30it/s]\n",
      "100%|██████████| 18/18 [00:00<00:00, 370.41it/s]\n",
      "100%|██████████| 53/53 [00:00<00:00, 371.50it/s]\n"
     ]
    },
    {
     "name": "stdout",
     "output_type": "stream",
     "text": [
      "Epoch:998/1000.. Train Loss: 0.017.. Val Loss: 0.180.. Test Loss: 0.123.. Time: 0.03m\n"
     ]
    },
    {
     "name": "stderr",
     "output_type": "stream",
     "text": [
      "100%|██████████| 107/107 [00:01<00:00, 71.49it/s]\n",
      "100%|██████████| 18/18 [00:00<00:00, 376.91it/s]\n",
      "100%|██████████| 53/53 [00:00<00:00, 382.35it/s]\n"
     ]
    },
    {
     "name": "stdout",
     "output_type": "stream",
     "text": [
      "Epoch:999/1000.. Train Loss: 0.016.. Val Loss: 0.205.. Test Loss: 0.123.. Time: 0.03m\n"
     ]
    },
    {
     "name": "stderr",
     "output_type": "stream",
     "text": [
      "100%|██████████| 107/107 [00:01<00:00, 71.68it/s]\n",
      "100%|██████████| 18/18 [00:00<00:00, 373.06it/s]\n",
      "100%|██████████| 53/53 [00:00<00:00, 373.27it/s]\n"
     ]
    },
    {
     "name": "stdout",
     "output_type": "stream",
     "text": [
      "Epoch:1000/1000.. Train Loss: 0.019.. Val Loss: 0.181.. Test Loss: 0.123.. Time: 0.03m\n",
      "Total time: 31.14 m\n"
     ]
    }
   ],
   "source": [
    "training.fit(model, train_loader, validation_loader, test_loader)\n",
    "best_model = training.get_best_model()"
   ]
  },
  {
   "cell_type": "code",
   "execution_count": 69,
   "metadata": {
    "tags": []
   },
   "outputs": [
    {
     "data": {
      "text/plain": [
       "<matplotlib.legend.Legend at 0x2b1d5a5cc220>"
      ]
     },
     "execution_count": 69,
     "metadata": {},
     "output_type": "execute_result"
    },
    {
     "data": {
      "image/png": "[encoded data removed]",
      "text/plain": [
       "<Figure size 640x480 with 1 Axes>"
      ]
     },
     "metadata": {},
     "output_type": "display_data"
    }
   ],
   "source": [
    "fig, ax = plt.subplots()\n",
    "\n",
    "ax.plot(training.results['Train'], label='Train')\n",
    "ax.plot(training.results['Validation'], label='Validation')\n",
    "ax.plot(training.results['Test'], label='Test')\n",
    "ax.legend()"
   ]
  },
  {
   "cell_type": "markdown",
   "metadata": {},
   "source": [
    "## Evaluation and plotting classes"
   ]
  },
  {
   "cell_type": "code",
   "execution_count": 70,
   "metadata": {
    "tags": []
   },
   "outputs": [],
   "source": [
    "class OSAEvaluator:\n",
    "    \n",
    "    def evaluate_OSA(self, dataset, model):\n",
    "        \n",
    "        torch.cuda.empty_cache()\n",
    "        Y_real = []\n",
    "        Y_pred = []\n",
    "        for i, data in enumerate(tqdm(dataset)):\n",
    "            src, tgt, y_real = data\n",
    "            src, tgt, y_real = src.to(device), tgt.to(device), y_real.to(device)\n",
    "            y_pred = model(src, tgt)\n",
    "            Y_real.append(y_real.reshape(1,-1))\n",
    "            Y_pred.append(y_pred)\n",
    "        \n",
    "        Y_real = torch.vstack(Y_real).cpu()\n",
    "        Y_pred = torch.vstack(Y_pred).cpu().detach()\n",
    "        print('********** OSA Evaluation summary **********')\n",
    "        print(f'OSA MSE: {mean_squared_error(Y_real, Y_pred)}')\n",
    "        print(f'OSA RMSE: {np.sqrt(mean_squared_error(Y_real, Y_pred))}')\n",
    "        print(f'OSA R2 score: {r2_score(Y_real, Y_pred)}')\n",
    "        print('********************************************')\n",
    "        return Y_real, Y_pred\n",
    "            \n",
    "class FSEvaluator:\n",
    "    \n",
    "    def evaluate_FS(self, dataset, model):\n",
    "        \n",
    "        torch.cuda.empty_cache()\n",
    "        Y_real = []\n",
    "        Y_pred = []\n",
    "        tgt_sim = None\n",
    "        for i, data in enumerate(tqdm(dataset)):\n",
    "            src, tgt, y_real = data\n",
    "            src, tgt, y_real = src.to(device), tgt.to(device), y_real.to(device)\n",
    "            if tgt_sim is None:\n",
    "                tgt_sim = tgt\n",
    "            else:\n",
    "                tgt_sim[:-1,:] = tgt_sim[1:,:]\n",
    "                tgt_sim[-1,:] = y_pred\n",
    "            y_pred = model(src, tgt_sim)\n",
    "            Y_real.append(y_real.reshape(1,-1))\n",
    "            Y_pred.append(y_pred)\n",
    "        \n",
    "        Y_real = torch.vstack(Y_real).cpu()\n",
    "        Y_pred = torch.vstack(Y_pred).cpu().detach()\n",
    "        print('*********** FS Evaluation summary **********')\n",
    "        print(f'FS MSE: {mean_squared_error(Y_real, Y_pred)}')\n",
    "        print(f'FS RMSE: {np.sqrt(mean_squared_error(Y_real, Y_pred))}')\n",
    "        print(f'FS R2 score: {r2_score(Y_real, Y_pred)}')\n",
    "        print('********************************************')\n",
    "        return Y_real, Y_pred\n",
    "    \n",
    "class Evaluator(OSAEvaluator, FSEvaluator):\n",
    "    \n",
    "    pass\n",
    "        "
   ]
  },
  {
   "cell_type": "code",
   "execution_count": 71,
   "metadata": {
    "tags": []
   },
   "outputs": [
    {
     "name": "stderr",
     "output_type": "stream",
     "text": [
      "100%|██████████| 707/707 [00:02<00:00, 254.68it/s]\n"
     ]
    },
    {
     "name": "stdout",
     "output_type": "stream",
     "text": [
      "********** OSA Evaluation summary **********\n",
      "OSA MSE: 0.06256423145532608\n",
      "OSA RMSE: 0.2501284182071686\n",
      "OSA R2 score: 0.813081152673762\n",
      "********************************************\n"
     ]
    },
    {
     "name": "stderr",
     "output_type": "stream",
     "text": [
      "100%|██████████| 707/707 [00:02<00:00, 291.48it/s]"
     ]
    },
    {
     "name": "stdout",
     "output_type": "stream",
     "text": [
      "*********** FS Evaluation summary **********\n",
      "FS MSE: 0.16274394094944\n",
      "FS RMSE: 0.40341535210609436\n",
      "FS R2 score: 0.5137811491530664\n",
      "********************************************\n"
     ]
    },
    {
     "name": "stderr",
     "output_type": "stream",
     "text": [
      "\n"
     ]
    }
   ],
   "source": [
    "evaluator = Evaluator()\n",
    "Y_real, Y_pred_OSA = evaluator.evaluate_OSA(dataset, model)\n",
    "Y_real, Y_pred_FS = evaluator.evaluate_FS(dataset, model)"
   ]
  },
  {
   "cell_type": "code",
   "execution_count": 72,
   "metadata": {
    "tags": []
   },
   "outputs": [
    {
     "data": {
      "text/plain": [
       "<matplotlib.legend.Legend at 0x2b1d5a6c1e80>"
      ]
     },
     "execution_count": 72,
     "metadata": {},
     "output_type": "execute_result"
    },
    {
     "data": {
      "image/png": "[encoded data removed]",
      "text/plain": [
       "<Figure size 640x480 with 1 Axes>"
      ]
     },
     "metadata": {},
     "output_type": "display_data"
    }
   ],
   "source": [
    "fig, ax = plt.subplots()\n",
    "ax.plot(Y_real, label='Real')\n",
    "ax.plot(Y_pred_OSA, label='OSA')\n",
    "ax.plot(Y_pred_FS, label='FS')\n",
    "ax.legend()"
   ]
  },
  {
   "cell_type": "code",
   "execution_count": 73,
   "metadata": {},
   "outputs": [
    {
     "name": "stderr",
     "output_type": "stream",
     "text": [
      "100%|██████████| 707/707 [00:02<00:00, 275.43it/s]\n"
     ]
    },
    {
     "name": "stdout",
     "output_type": "stream",
     "text": [
      "********** OSA Evaluation summary **********\n",
      "OSA MSE: 0.07050073146820068\n",
      "OSA RMSE: 0.26551973819732666\n",
      "OSA R2 score: 0.7893698309960738\n",
      "********************************************\n"
     ]
    },
    {
     "name": "stderr",
     "output_type": "stream",
     "text": [
      "100%|██████████| 707/707 [00:02<00:00, 269.17it/s]"
     ]
    },
    {
     "name": "stdout",
     "output_type": "stream",
     "text": [
      "*********** FS Evaluation summary **********\n",
      "FS MSE: 0.1919621229171753\n",
      "FS RMSE: 0.4381348192691803\n",
      "FS R2 score: 0.42648798825735745\n",
      "********************************************\n"
     ]
    },
    {
     "name": "stderr",
     "output_type": "stream",
     "text": [
      "\n"
     ]
    }
   ],
   "source": [
    "evaluator = Evaluator()\n",
    "Y_real, Y_pred_OSA = evaluator.evaluate_OSA(dataset, best_model)\n",
    "Y_real, Y_pred_FS = evaluator.evaluate_FS(dataset, best_model)"
   ]
  },
  {
   "cell_type": "code",
   "execution_count": 74,
   "metadata": {
    "tags": []
   },
   "outputs": [
    {
     "data": {
      "text/plain": [
       "<matplotlib.legend.Legend at 0x2b1d5a038dc0>"
      ]
     },
     "execution_count": 74,
     "metadata": {},
     "output_type": "execute_result"
    },
    {
     "data": {
      "image/png": "[encoded data removed]",
      "text/plain": [
       "<Figure size 640x480 with 1 Axes>"
      ]
     },
     "metadata": {},
     "output_type": "display_data"
    }
   ],
   "source": [
    "fig, ax = plt.subplots()\n",
    "ax.plot(Y_real, label='Real')\n",
    "ax.plot(Y_pred_OSA, label='OSA')\n",
    "ax.plot(Y_pred_FS, label='FS')\n",
    "ax.legend()"
   ]
  }
 ],
 "metadata": {
  "kernelspec": {
   "display_name": "raul_dl",
   "language": "python",
   "name": "raul_dl"
  },
  "language_info": {
   "codemirror_mode": {
    "name": "ipython",
    "version": 3
   },
   "file_extension": ".py",
   "mimetype": "text/x-python",
   "name": "python",
   "nbconvert_exporter": "python",
   "pygments_lexer": "ipython3",
   "version": "3.9.13"
  }
 },
 "nbformat": 4,
 "nbformat_minor": 4
}
