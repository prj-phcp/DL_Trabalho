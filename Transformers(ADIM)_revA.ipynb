{
 "cells": [
  {
   "cell_type": "code",
   "execution_count": 18,
   "metadata": {
    "tags": []
   },
   "outputs": [
    {
     "name": "stdout",
     "output_type": "stream",
     "text": [
      "Thu Jun 15 21:52:16 2023       \n",
      "+-----------------------------------------------------------------------------+\n",
      "| NVIDIA-SMI 515.43.04    Driver Version: 515.43.04    CUDA Version: 11.7     |\n",
      "|-------------------------------+----------------------+----------------------+\n",
      "| GPU  Name        Persistence-M| Bus-Id        Disp.A | Volatile Uncorr. ECC |\n",
      "| Fan  Temp  Perf  Pwr:Usage/Cap|         Memory-Usage | GPU-Util  Compute M. |\n",
      "|                               |                      |               MIG M. |\n",
      "|===============================+======================+======================|\n",
      "|   0  Tesla V100-SXM2...  Off  | 00000000:15:00.0 Off |                    0 |\n",
      "| N/A   28C    P0    52W / 300W |   7182MiB / 32768MiB |      0%      Default |\n",
      "|                               |                      |                  N/A |\n",
      "+-------------------------------+----------------------+----------------------+\n",
      "                                                                               \n",
      "+-----------------------------------------------------------------------------+\n",
      "| Processes:                                                                  |\n",
      "|  GPU   GI   CI        PID   Type   Process name                  GPU Memory |\n",
      "|        ID   ID                                                   Usage      |\n",
      "|=============================================================================|\n",
      "|    0   N/A  N/A      2910      C   .../venvs/dl_raul/bin/python     1149MiB |\n",
      "|    0   N/A  N/A     38388      C   .../venvs/dl_raul/bin/python     2055MiB |\n",
      "|    0   N/A  N/A     46720      C   .../venvs/dl_raul/bin/python     2975MiB |\n",
      "|    0   N/A  N/A     47249      C   .../venvs/dl_raul/bin/python     1001MiB |\n",
      "+-----------------------------------------------------------------------------+\n"
     ]
    }
   ],
   "source": [
    "import math\n",
    "import json\n",
    "import time\n",
    "import numpy as np\n",
    "import pandas as pd\n",
    "import matplotlib.pyplot as plt\n",
    "from tqdm import tqdm\n",
    "\n",
    "import torch\n",
    "import torch.nn as nn\n",
    "import torch.optim as optim\n",
    "from torch.utils.data import Dataset\n",
    "from torch.utils.data.sampler import SubsetRandomSampler\n",
    "\n",
    "from sklearn.preprocessing import MinMaxScaler, RobustScaler\n",
    "from sklearn.model_selection import train_test_split\n",
    "from sklearn.metrics import mean_squared_error, r2_score\n",
    "\n",
    "!nvidia-smi"
   ]
  },
  {
   "cell_type": "code",
   "execution_count": 19,
   "metadata": {
    "tags": []
   },
   "outputs": [
    {
     "name": "stdout",
     "output_type": "stream",
     "text": [
      "cuda:0\n"
     ]
    }
   ],
   "source": [
    "# Dispositivo onde tensores serão criados, armazenados e processados\n",
    "device = torch.device(\"cuda:0\" if torch.cuda.is_available() else \"cpu\")\n",
    "print(device)\n",
    "# Randon Seed fixa para resultados reprodutíveis\n",
    "seed = 42\n",
    "torch.manual_seed(seed)\n",
    "torch.cuda.manual_seed(seed)\n",
    "np.random.seed(seed)"
   ]
  },
  {
   "cell_type": "markdown",
   "metadata": {},
   "source": [
    "## Data Loader"
   ]
  },
  {
   "cell_type": "code",
   "execution_count": 20,
   "metadata": {
    "tags": []
   },
   "outputs": [],
   "source": [
    "class WellLoader(Dataset):\n",
    "    \n",
    "    def __init__(self, \n",
    "                 path, \n",
    "                 wells, \n",
    "                 var_in, \n",
    "                 var_out,\n",
    "                 normalizing_percentile=90.0,\n",
    "                 normalizing_split=0.2,\n",
    "                 normalizer=RobustScaler,\n",
    "                 max_sequence=16, \n",
    "                 step=1):\n",
    "        \n",
    "        self.path = path\n",
    "        with open(self.path + '/metadata.json', 'r') as metafile:\n",
    "            self.metadata = json.loads(metafile.read())\n",
    "        self.wells = wells\n",
    "        self.var_in = var_in\n",
    "        self.var_out = var_out\n",
    "        self.normalizing_percentile=normalizing_percentile\n",
    "        self.normalizing_split = normalizing_split\n",
    "        self.normalizer = normalizer\n",
    "        self.max_sequence = max_sequence\n",
    "        self.step = step\n",
    "        self.batches_X = None\n",
    "        self.batches_Y = None\n",
    "        self.outputs = None\n",
    "        self.normalizers = []\n",
    "        \n",
    "        indexes = self.get_wells_index(self.wells)\n",
    "        self.load_data_by_index(indexes)\n",
    "        \n",
    "    def get_wells_index(self, wells):\n",
    "        \n",
    "        indexes = []\n",
    "        for well, filt in wells:\n",
    "            indexes.extend([(meta['INDEX'], filt) for meta in self.metadata if meta['WELL'] == well])\n",
    "        return indexes\n",
    "    \n",
    "    def load_data_by_index(self, indexes):\n",
    "        \n",
    "        batches_X = []\n",
    "        batches_Y = []\n",
    "        outputs = []\n",
    "        for index, filt in indexes:\n",
    "            data = pd.read_json(f'{self.path}/{index}.json')#.reset_index()\n",
    "            # Armengue: Por liq vol para preencher o dataset\n",
    "            data['BORE_LIQ_VOL'] = data['BORE_OIL_VOL'] + data['BORE_WAT_VOL']\n",
    "            data = data[self.var_in + self.var_out].dropna().reset_index(drop=True)\n",
    "            X = data[self.var_in].values[filt,:]\n",
    "            Y = data[self.var_out].values[filt,:]\n",
    "            X_base, _, Y_base, _ = train_test_split(X, Y, test_size = self.normalizing_split)\n",
    "            #scaler_X = X_base.max(axis=0, keepdims=True)\n",
    "            #scaler_Y = Y_base.max(axis=0, keepdims=True)\n",
    "            scaler_X = self.normalizer().fit(X_base)\n",
    "            scaler_Y = self.normalizer().fit(Y_base)\n",
    "            #scaler_X = np.percentile(X_base,self.normalizing_percentile,axis=0,keepdims=True)\n",
    "            #scaler_Y = np.percentile(Y_base,self.normalizing_percentile,axis=0,keepdims=True)\n",
    "            self.normalizers.append((scaler_X, scaler_Y))\n",
    "            X, Y = scaler_X.transform(X), scaler_Y.transform(Y)\n",
    "            #X, Y = X / scaler_X, Y / scaler_Y\n",
    "            X, Y = torch.from_numpy(X.astype('float32')), torch.from_numpy(Y.astype('float32'))\n",
    "            output = Y[self.max_sequence::self.step]\n",
    "            #print(Y.shape)\n",
    "            #X = torch.split(X, self.max_sequence, dim= 0)\n",
    "            #Y = torch.split(Y, self.max_sequence, dim= 0)\n",
    "            X = X.unfold(0,self.max_sequence, self.step)\n",
    "            Y = Y.unfold(0,self.max_sequence, self.step)\n",
    "            batches_X.append(X)\n",
    "            batches_Y.append(Y)\n",
    "            outputs.append(output)\n",
    "            #print(X.shape)\n",
    "        self.batches_X = torch.concat(batches_X, axis=0)\n",
    "        self.batches_Y = torch.concat(batches_Y, axis=0)\n",
    "        self.outputs = torch.concat(outputs, axis=0)\n",
    "            \n",
    "    def __len__(self):\n",
    "        \n",
    "        return self.outputs.shape[0]\n",
    "    \n",
    "    def __getitem__(self, idx):\n",
    "                        \n",
    "        srcs = self.batches_X[idx,:,:]\n",
    "        trgts = self.batches_Y[idx,:,:]\n",
    "        output = self.outputs[idx,:]\n",
    "        \n",
    "        return srcs, trgts, output\n",
    "        \n",
    "        \n",
    "                 "
   ]
  },
  {
   "cell_type": "code",
   "execution_count": 21,
   "metadata": {
    "tags": []
   },
   "outputs": [],
   "source": [
    "path = './dataset/volve'\n",
    "wells = [\n",
    "    ('15/9-F-1 C', slice(28, None)),\n",
    "]\n",
    "\n",
    "var_in = [\n",
    "        'AVG_DOWNHOLE_PRESSURE',\n",
    "        'AVG_WHP_P',\n",
    "        'AVG_CHOKE_SIZE_P',\n",
    "        'AVG_WHT_P',\n",
    "        'AVG_DOWNHOLE_TEMPERATURE',\n",
    "]\n",
    "\n",
    "var_out = [\n",
    "        #'BORE_OIL_VOL',\n",
    "        'BORE_LIQ_VOL',\n",
    "        #'BORE_GAS_VOL',\n",
    "        #'BORE_WAT_VOL',\n",
    "]\n",
    "\n",
    "\n",
    "dataset = WellLoader(path, wells, var_in, var_out, max_sequence = 8)"
   ]
  },
  {
   "cell_type": "code",
   "execution_count": 22,
   "metadata": {
    "tags": []
   },
   "outputs": [],
   "source": [
    "class SubsetSplitter:\n",
    "    \n",
    "    def __init__(self, batch_size, validation_split, test_split, shuffle=False):\n",
    "        \n",
    "        self.batch_size = batch_size\n",
    "        self.validation_split = validation_split\n",
    "        self.test_split = test_split\n",
    "        self.shuffle = shuffle\n",
    "        \n",
    "    def __call__(self, dataset:Dataset):\n",
    "        \n",
    "        dataset_size = len(dataset)\n",
    "        indices = list(range(dataset_size))\n",
    "        validation_split = int(np.floor(self.validation_split * dataset_size))\n",
    "        test_split = int(np.floor(self.test_split * dataset_size))\n",
    "        train_split = dataset_size - validation_split - test_split\n",
    "        # Extracting test independently of others\n",
    "        test_indices = indices[train_split + validation_split:]\n",
    "        indices = indices[:train_split + validation_split]\n",
    "        if self.shuffle :\n",
    "            np.random.shuffle(indices)\n",
    "        train_indices = indices[:train_split]\n",
    "        validation_indices = indices[train_split:]\n",
    "\n",
    "        # Creating PT data samplers and loaders:\n",
    "        train_sampler = SubsetRandomSampler(train_indices)\n",
    "        valid_sampler = SubsetRandomSampler(validation_indices)\n",
    "        test_sampler = SubsetRandomSampler(test_indices)\n",
    "\n",
    "        train_loader = torch.utils.data.DataLoader(dataset, batch_size=self.batch_size, \n",
    "                                                   sampler=train_sampler)\n",
    "        validation_loader = torch.utils.data.DataLoader(dataset, batch_size=self.batch_size,\n",
    "                                                    sampler=valid_sampler)\n",
    "        test_loader = torch.utils.data.DataLoader(dataset, batch_size=self.batch_size,\n",
    "                                                    sampler=test_sampler)\n",
    "        \n",
    "        return train_loader, validation_loader, test_loader"
   ]
  },
  {
   "cell_type": "code",
   "execution_count": 23,
   "metadata": {
    "tags": []
   },
   "outputs": [],
   "source": [
    "splitter = SubsetSplitter(4, 0.1, 0.3, shuffle=False)\n",
    "train_loader, validation_loader, test_loader = splitter(dataset)"
   ]
  },
  {
   "cell_type": "markdown",
   "metadata": {},
   "source": [
    "## Model definition"
   ]
  },
  {
   "cell_type": "code",
   "execution_count": 24,
   "metadata": {},
   "outputs": [
    {
     "data": {
      "text/plain": [
       "tensor([[[0.0000, 0.0000, 0.0000, 1.4286, 0.0000, 1.4286, 0.0000, 1.4286,\n",
       "          0.0000, 0.0000],\n",
       "         [0.0000, 0.0000, 0.0000, 0.0000, 0.0000, 1.4286, 0.0000, 0.0000,\n",
       "          0.0000, 1.4286]]])"
      ]
     },
     "execution_count": 24,
     "metadata": {},
     "output_type": "execute_result"
    }
   ],
   "source": [
    "class PositionalEncoding(nn.Module):\n",
    "    def __init__(self, dim_model, dropout_p, max_len):\n",
    "        super().__init__()\n",
    "        # Modified version from: https://pytorch.org/tutorials/beginner/transformer_tutorial.html\n",
    "        # max_len determines how far the position can have an effect on a token (window)\n",
    "        \n",
    "        # Info\n",
    "        self.dropout = nn.Dropout(dropout_p)\n",
    "        \n",
    "        # Encoding - From formula\n",
    "        pos_encoding = torch.zeros(max_len, dim_model)\n",
    "        positions_list = torch.arange(0, max_len, dtype=torch.float).view(-1, 1) # 0, 1, 2, 3, 4, 5\n",
    "        division_term = torch.exp(torch.arange(0, dim_model, 2).float() * (-math.log(10000.0)) / dim_model) # 1000^(2i/dim_model)\n",
    "        \n",
    "        # PE(pos, 2i) = sin(pos/1000^(2i/dim_model))\n",
    "        pos_encoding[:, 0::2] = torch.sin(positions_list * division_term)\n",
    "        \n",
    "        # PE(pos, 2i + 1) = cos(pos/1000^(2i/dim_model))\n",
    "        pos_encoding[:, 1::2] = torch.cos(positions_list * division_term)\n",
    "        \n",
    "        # Saving buffer (same as parameter without gradients needed)\n",
    "        pos_encoding = pos_encoding.unsqueeze(0).transpose(0, 1)\n",
    "        self.register_buffer(\"pos_encoding\",pos_encoding)\n",
    "        \n",
    "    def forward(self, token_embedding: torch.tensor) -> torch.tensor:\n",
    "        # Residual connection + pos encoding\n",
    "        return self.dropout(token_embedding + self.pos_encoding[:token_embedding.size(0), :])\n",
    "    \n",
    "    \n",
    "positional_encoding = PositionalEncoding(dim_model = 10, dropout_p=0.3, max_len=1200)\n",
    "tensor = torch.zeros((1,2,10))\n",
    "tensor\n",
    "encoded = positional_encoding(tensor)\n",
    "encoded"
   ]
  },
  {
   "cell_type": "code",
   "execution_count": 25,
   "metadata": {},
   "outputs": [],
   "source": [
    "class Transformer(nn.Module):\n",
    "    \"\"\"\n",
    "    Model from \"A detailed guide to Pytorch's nn.Transformer() module.\", by\n",
    "    Daniel Melchor: https://medium.com/@danielmelchor/a-detailed-guide-to-pytorchs-nn-transformer-module-c80afbc9ffb1\n",
    "    \"\"\"\n",
    "    # Constructor\n",
    "    def __init__(\n",
    "        self,\n",
    "        num_outputs,\n",
    "        dim_model,\n",
    "        num_heads,\n",
    "        num_encoder_layers,\n",
    "        num_decoder_layers,\n",
    "        dropout_p,\n",
    "        dim_feedforward =2048,\n",
    "        num_linear_layers=0,\n",
    "        norm_first=False\n",
    "    ):\n",
    "        super().__init__()\n",
    "\n",
    "        # INFO\n",
    "        self.model_type = \"Transformer\"\n",
    "        self.dim_model = dim_model\n",
    "\n",
    "        # LAYERS\n",
    "        self.positional_encoder = PositionalEncoding(\n",
    "            dim_model=dim_model, dropout_p=dropout_p, max_len=5000\n",
    "        )\n",
    "        #self.embedding = nn.Embedding(num_outputs, dim_model)\n",
    "        self.transformer = nn.Transformer(\n",
    "            d_model=dim_model,\n",
    "            nhead=num_heads,\n",
    "            num_encoder_layers=num_encoder_layers,\n",
    "            num_decoder_layers=num_decoder_layers,\n",
    "            dropout=dropout_p, \n",
    "            batch_first=True,\n",
    "            norm_first = norm_first,\n",
    "            dim_feedforward =dim_feedforward \n",
    "        )\n",
    "        self.linear_layers = nn.ModuleList()\n",
    "        for i in range(num_linear_layers):\n",
    "            self.linear_layers.append(nn.Linear(dim_model, dim_model))\n",
    "            self.linear_layers.append(nn.ReLU6())\n",
    "        self.out = nn.Linear(dim_model, num_outputs)\n",
    "        #self.bias_layer = nn.Linear(dim_model, dim_model)\n",
    "        \n",
    "    def forward(self, src, tgt, tgt_mask=None, src_pad_mask=None, tgt_pad_mask=None):\n",
    "        # Src size must be (batch_size, src sequence length)\n",
    "        # Tgt size must be (batch_size, tgt sequence length)\n",
    "\n",
    "        # Embedding + positional encoding - Out size = (batch_size, sequence length, dim_model)\n",
    "        #src = self.embedding(src) * math.sqrt(self.dim_model)\n",
    "        #tgt = self.embedding(tgt) * math.sqrt(self.dim_model)\n",
    "        src_corr = src #* math.sqrt(self.dim_model)\n",
    "        tgt_corr = tgt #* math.sqrt(self.dim_model)\n",
    "        #src_corr = self.positional_encoder(src_corr)\n",
    "        #tgt_corr = self.positional_encoder(tgt_corr)\n",
    "        \n",
    "        # We could use the parameter batch_first=True, but our KDL version doesn't support it yet, so we permute\n",
    "        # to obtain size (sequence length, batch_size, dim_model),\n",
    "        #src = src.permute(1,0,2)\n",
    "        #tgt = tgt.permute(1,0,2)\n",
    "\n",
    "        # Transformer blocks - Out size = (sequence length, batch_size, num_tokens)\n",
    "        transformer_out = self.transformer(src_corr, tgt_corr, tgt_mask=tgt_mask, src_key_padding_mask=src_pad_mask, \n",
    "                                           tgt_key_padding_mask=tgt_pad_mask)\n",
    "        for linear in self.linear_layers:\n",
    "            transformer_out = linear(transformer_out)\n",
    "        out = transformer_out\n",
    "        #out = torch.add(out, tgt)\n",
    "        \n",
    "        #recuperando informacao de escala\n",
    "        #out = torch.mul(out, tgt)\n",
    "        #bias = self.bias_layer(tgt)\n",
    "        #out = torch.add(out, bias)\n",
    "        \n",
    "        out = self.out(out)\n",
    "        \n",
    "        \n",
    "        return out\n",
    "      \n",
    "    def get_tgt_mask(self, size) -> torch.tensor:\n",
    "        # Generates a squeare matrix where the each row allows one word more to be seen\n",
    "        mask = torch.tril(torch.ones(size, size) == 1) # Lower triangular matrix\n",
    "        mask = mask.float()\n",
    "        mask = mask.masked_fill(mask == 0, float('-inf')) # Convert zeros to -inf\n",
    "        mask = mask.masked_fill(mask == 1, float(0.0)) # Convert ones to 0\n",
    "        \n",
    "        # EX for size=5:\n",
    "        # [[0., -inf, -inf, -inf, -inf],\n",
    "        #  [0.,   0., -inf, -inf, -inf],\n",
    "        #  [0.,   0.,   0., -inf, -inf],\n",
    "        #  [0.,   0.,   0.,   0., -inf],\n",
    "        #  [0.,   0.,   0.,   0.,   0.]]\n",
    "        \n",
    "        return mask\n",
    "    \n",
    "    def create_pad_mask(self, matrix: torch.tensor, pad_token: int) -> torch.tensor:\n",
    "        # If matrix = [1,2,3,0,0,0] where pad_token=0, the result mask is\n",
    "        # [False, False, False, True, True, True]\n",
    "        return (matrix == pad_token)"
   ]
  },
  {
   "cell_type": "code",
   "execution_count": 26,
   "metadata": {
    "tags": []
   },
   "outputs": [],
   "source": [
    "class Training:\n",
    "    \n",
    "    def __init__(self, epochs, loss, optimizer, scheduler, path, model_name='Transformer', early_stop=True, patience=5):\n",
    "        \n",
    "        self.loss = loss\n",
    "        self.optimizer = optimizer\n",
    "        self.scheduler = scheduler\n",
    "        self.epochs = epochs\n",
    "        self.path = path\n",
    "        self.model_name = model_name\n",
    "        self.early_stop_flag = early_stop\n",
    "        self.patience = patience\n",
    "        self.clear_results()\n",
    "        \n",
    "    def clear_results(self):\n",
    "        \n",
    "        self.results = {\n",
    "            'Train':[],\n",
    "            'Validation':[],\n",
    "            'Test':[],\n",
    "        }\n",
    "        \n",
    "    def fit(self, model, train_loader, validation_loader, test_loader):\n",
    "        \n",
    "        self.clear_results()\n",
    "        torch.cuda.empty_cache()\n",
    "        decrease = self.patience\n",
    "        not_improved = 0\n",
    "        \n",
    "        model.to(device)\n",
    "        fit_time = time.time()\n",
    "        \n",
    "        for e in range(self.epochs):\n",
    "            since = time.time()\n",
    "            running_loss = 0\n",
    "            #training loop\n",
    "            model.train()\n",
    "            self.train_loop(model, train_loader)\n",
    "            model.eval()\n",
    "            self.validation_loop(model, validation_loader)\n",
    "            self.test_loop(model, test_loader)\n",
    "            decrease, not_improved = self.early_stopping(validation_loader, decrease)\n",
    "            if not_improved == 1 and self.early_stop_flag:\n",
    "                print('[***] end training ...') \n",
    "                break\n",
    "            loss_per_training_batch = self.results['Train'][-1]\n",
    "            loss_per_validation_batch = self.results['Validation'][-1]\n",
    "            loss_per_test_batch = self.results['Test'][-1]\n",
    "            print(\"Epoch:{}/{}..\".format(e+1, self.epochs),\n",
    "                  \"Train Loss: {:.3f}..\".format(loss_per_training_batch),\n",
    "                  \"Val Loss: {:.3f}..\".format(loss_per_validation_batch),\n",
    "                  \"Test Loss: {:.3f}..\".format(loss_per_test_batch),\n",
    "                  \"Time: {:.2f}m\".format((time.time()-since)/60))\n",
    "        print('Total time: {:.2f} m' .format((time.time()- fit_time)/60))\n",
    "        \n",
    "    def train_loop(self, model, train_loader):\n",
    "        \n",
    "        running_loss = 0.0\n",
    "        for i, data in enumerate(tqdm(train_loader)):\n",
    "            #training phase\n",
    "            X, y_tgt, y_out = data\n",
    "            X, y_tgt, y_out = X.to(device), y_tgt.to(device), y_out.to(device)\n",
    "            #y_result, y_tgt = Y, torch.from_numpy(-1.0*np.ones(Y.shape).astype('float32')).to(device)\n",
    "            #y_tgt[:,:,1:] = Y[:,:,:-1]\n",
    "            #y_tgt[:,:,0] = 0.0\n",
    "            output = model(X, y_tgt)\n",
    "            loss = self.loss(output.ravel(), y_out.ravel())\n",
    "            #backward\n",
    "            loss.backward()\n",
    "            self.optimizer.step() #update weight          \n",
    "            self.optimizer.zero_grad() #reset gradient\n",
    "            \n",
    "            #step the learning rate\n",
    "            if not self.scheduler is None:\n",
    "                self.scheduler.step()\n",
    "            running_loss += loss.item()\n",
    "        \n",
    "        self.results['Train'].append(running_loss/len(train_loader))\n",
    "    \n",
    "    \n",
    "    def validation_loop(self, model, validation_loader):\n",
    "        \n",
    "        running_loss = 0.0\n",
    "        with torch.no_grad():\n",
    "            for i, data in enumerate(tqdm(validation_loader)):\n",
    "                #training phase\n",
    "                X, y_tgt, y_out = data\n",
    "                X, y_tgt, y_out = X.to(device), y_tgt.to(device), y_out.to(device)\n",
    "                #y_result, y_tgt = Y, torch.from_numpy(-1.0*np.ones(Y.shape).astype('float32')).to(device)\n",
    "                #y_tgt[:,:,1:] = Y[:,:,:-1]\n",
    "                #y_tgt[:,:,0] = 0.0\n",
    "                output = model(X, y_tgt)\n",
    "                loss = self.loss(output.ravel(), y_out.ravel())\n",
    "                \n",
    "                running_loss += loss.item()\n",
    "        \n",
    "        self.results['Validation'].append(running_loss/len(validation_loader))\n",
    "        \n",
    "    def test_loop(self, model, test_loader):\n",
    "        \n",
    "        running_loss = 0.0\n",
    "        with torch.no_grad():\n",
    "            for i, data in enumerate(tqdm(test_loader)):\n",
    "                #training phase\n",
    "                X, y_tgt, y_out = data\n",
    "                X, y_tgt, y_out = X.to(device), y_tgt.to(device), y_out.to(device)\n",
    "                #y_result, y_tgt = Y, torch.from_numpy(-1.0*np.ones(Y.shape).astype('float32')).to(device)\n",
    "                #y_tgt[:,:,1:] = Y[:,:,:-1]\n",
    "                #y_tgt[:,:,0] = 0.0\n",
    "                output = model(X, y_tgt)\n",
    "                loss = self.loss(output.ravel(), y_out.ravel())\n",
    "                \n",
    "                running_loss += loss.item()\n",
    "        \n",
    "        self.results['Test'].append(running_loss/len(test_loader))\n",
    "        \n",
    "    def early_stopping(self, validation_loader, decrease):\n",
    "        \n",
    "        loss_per_validation_batch = self.results['Validation'][-1]\n",
    "        min_loss = np.min(self.results['Validation'][:-1] + [np.inf])\n",
    "        if min_loss >= self.results['Validation'][-1]:\n",
    "            print('Loss Decreasing.. {:.3f} >> {:.3f} '.format(min_loss, loss_per_validation_batch))\n",
    "            decrease = self.patience\n",
    "            print('saving model...')\n",
    "            torch.save(model, self.path + f'/{self.model_name}.pt')\n",
    "        else:\n",
    "            decrease -= 1\n",
    "        if decrease < 0:     \n",
    "                not_improved = 1\n",
    "        else:\n",
    "            not_improved = 0\n",
    "        return decrease, not_improved\n",
    "    \n",
    "    def get_best_model(self):\n",
    "        \n",
    "        model = torch.load(self.path + f'/{self.model_name}.pt')\n",
    "        return model\n",
    "            \n",
    "            "
   ]
  },
  {
   "cell_type": "code",
   "execution_count": 27,
   "metadata": {
    "tags": []
   },
   "outputs": [
    {
     "name": "stdout",
     "output_type": "stream",
     "text": [
      "Transformer(\n",
      "  (positional_encoder): PositionalEncoding(\n",
      "    (dropout): Dropout(p=0.1, inplace=False)\n",
      "  )\n",
      "  (transformer): Transformer(\n",
      "    (encoder): TransformerEncoder(\n",
      "      (layers): ModuleList(\n",
      "        (0-2): 3 x TransformerEncoderLayer(\n",
      "          (self_attn): MultiheadAttention(\n",
      "            (out_proj): NonDynamicallyQuantizableLinear(in_features=8, out_features=8, bias=True)\n",
      "          )\n",
      "          (linear1): Linear(in_features=8, out_features=32, bias=True)\n",
      "          (dropout): Dropout(p=0.1, inplace=False)\n",
      "          (linear2): Linear(in_features=32, out_features=8, bias=True)\n",
      "          (norm1): LayerNorm((8,), eps=1e-05, elementwise_affine=True)\n",
      "          (norm2): LayerNorm((8,), eps=1e-05, elementwise_affine=True)\n",
      "          (dropout1): Dropout(p=0.1, inplace=False)\n",
      "          (dropout2): Dropout(p=0.1, inplace=False)\n",
      "        )\n",
      "      )\n",
      "      (norm): LayerNorm((8,), eps=1e-05, elementwise_affine=True)\n",
      "    )\n",
      "    (decoder): TransformerDecoder(\n",
      "      (layers): ModuleList(\n",
      "        (0-2): 3 x TransformerDecoderLayer(\n",
      "          (self_attn): MultiheadAttention(\n",
      "            (out_proj): NonDynamicallyQuantizableLinear(in_features=8, out_features=8, bias=True)\n",
      "          )\n",
      "          (multihead_attn): MultiheadAttention(\n",
      "            (out_proj): NonDynamicallyQuantizableLinear(in_features=8, out_features=8, bias=True)\n",
      "          )\n",
      "          (linear1): Linear(in_features=8, out_features=32, bias=True)\n",
      "          (dropout): Dropout(p=0.1, inplace=False)\n",
      "          (linear2): Linear(in_features=32, out_features=8, bias=True)\n",
      "          (norm1): LayerNorm((8,), eps=1e-05, elementwise_affine=True)\n",
      "          (norm2): LayerNorm((8,), eps=1e-05, elementwise_affine=True)\n",
      "          (norm3): LayerNorm((8,), eps=1e-05, elementwise_affine=True)\n",
      "          (dropout1): Dropout(p=0.1, inplace=False)\n",
      "          (dropout2): Dropout(p=0.1, inplace=False)\n",
      "          (dropout3): Dropout(p=0.1, inplace=False)\n",
      "        )\n",
      "      )\n",
      "      (norm): LayerNorm((8,), eps=1e-05, elementwise_affine=True)\n",
      "    )\n",
      "  )\n",
      "  (linear_layers): ModuleList()\n",
      "  (out): Linear(in_features=8, out_features=1, bias=True)\n",
      ")\n"
     ]
    }
   ],
   "source": [
    "model = Transformer(\n",
    "    num_outputs=1, dim_model=dataset.max_sequence, num_heads=2, \n",
    "    num_encoder_layers=3, num_decoder_layers=3, dropout_p=0.1, norm_first=False,\n",
    "    num_linear_layers=0, dim_feedforward =4*dataset.max_sequence\n",
    ").to(device)\n",
    "\n",
    "print(model)\n",
    "\n",
    "lr_ = 5e-4\n",
    "epoch = 1000\n",
    "weight_decay = 1e-4\n",
    "path = '.'\n",
    "model_name = 'ADIM'\n",
    "\n",
    "loss = torch.nn.MSELoss()\n",
    "#optimizer = torch.optim.Adam(model.parameters(), lr=lr_)\n",
    "#optimizer = torch.optim.SGD(model.parameters(), lr=lr_)\n",
    "optimizer = torch.optim.AdamW(model.parameters(), lr=lr_, weight_decay=weight_decay)\n",
    "sched = None\n",
    "sched = torch.optim.lr_scheduler.OneCycleLR(optimizer, lr_, epochs=epoch,\n",
    "                                            steps_per_epoch=len(train_loader))\n",
    "training = Training(epoch, loss, optimizer, sched, model_name=model_name, path=path, early_stop=False, patience=20)"
   ]
  },
  {
   "cell_type": "code",
   "execution_count": 28,
   "metadata": {
    "tags": []
   },
   "outputs": [
    {
     "name": "stderr",
     "output_type": "stream",
     "text": [
      "100%|██████████| 107/107 [00:01<00:00, 75.40it/s]\n",
      "100%|██████████| 18/18 [00:00<00:00, 376.19it/s]\n",
      "100%|██████████| 53/53 [00:00<00:00, 380.38it/s]\n"
     ]
    },
    {
     "name": "stdout",
     "output_type": "stream",
     "text": [
      "Loss Decreasing.. inf >> 0.568 \n",
      "saving model...\n",
      "Epoch:1/1000.. Train Loss: 0.574.. Val Loss: 0.568.. Test Loss: 0.517.. Time: 0.03m\n"
     ]
    },
    {
     "name": "stderr",
     "output_type": "stream",
     "text": [
      "100%|██████████| 107/107 [00:01<00:00, 76.52it/s]\n",
      "100%|██████████| 18/18 [00:00<00:00, 383.33it/s]\n",
      "100%|██████████| 53/53 [00:00<00:00, 401.28it/s]\n"
     ]
    },
    {
     "name": "stdout",
     "output_type": "stream",
     "text": [
      "Loss Decreasing.. 0.568 >> 0.502 \n",
      "saving model...\n",
      "Epoch:2/1000.. Train Loss: 0.486.. Val Loss: 0.502.. Test Loss: 0.455.. Time: 0.03m\n"
     ]
    },
    {
     "name": "stderr",
     "output_type": "stream",
     "text": [
      "100%|██████████| 107/107 [00:01<00:00, 74.10it/s]\n",
      "100%|██████████| 18/18 [00:00<00:00, 397.87it/s]\n",
      "100%|██████████| 53/53 [00:00<00:00, 399.52it/s]\n"
     ]
    },
    {
     "name": "stdout",
     "output_type": "stream",
     "text": [
      "Loss Decreasing.. 0.502 >> 0.452 \n",
      "saving model...\n",
      "Epoch:3/1000.. Train Loss: 0.480.. Val Loss: 0.452.. Test Loss: 0.403.. Time: 0.03m\n"
     ]
    },
    {
     "name": "stderr",
     "output_type": "stream",
     "text": [
      "100%|██████████| 107/107 [00:01<00:00, 75.99it/s]\n",
      "100%|██████████| 18/18 [00:00<00:00, 390.55it/s]\n",
      "100%|██████████| 53/53 [00:00<00:00, 390.75it/s]\n"
     ]
    },
    {
     "name": "stdout",
     "output_type": "stream",
     "text": [
      "Loss Decreasing.. 0.452 >> 0.421 \n",
      "saving model...\n",
      "Epoch:4/1000.. Train Loss: 0.365.. Val Loss: 0.421.. Test Loss: 0.364.. Time: 0.03m\n"
     ]
    },
    {
     "name": "stderr",
     "output_type": "stream",
     "text": [
      "100%|██████████| 107/107 [00:01<00:00, 64.14it/s]\n",
      "100%|██████████| 18/18 [00:00<00:00, 323.22it/s]\n",
      "100%|██████████| 53/53 [00:00<00:00, 333.32it/s]\n"
     ]
    },
    {
     "name": "stdout",
     "output_type": "stream",
     "text": [
      "Loss Decreasing.. 0.421 >> 0.369 \n",
      "saving model...\n",
      "Epoch:5/1000.. Train Loss: 0.386.. Val Loss: 0.369.. Test Loss: 0.331.. Time: 0.03m\n"
     ]
    },
    {
     "name": "stderr",
     "output_type": "stream",
     "text": [
      "100%|██████████| 107/107 [00:01<00:00, 60.65it/s]\n",
      "100%|██████████| 18/18 [00:00<00:00, 323.22it/s]\n",
      "100%|██████████| 53/53 [00:00<00:00, 324.67it/s]\n"
     ]
    },
    {
     "name": "stdout",
     "output_type": "stream",
     "text": [
      "Loss Decreasing.. 0.369 >> 0.345 \n",
      "saving model...\n",
      "Epoch:6/1000.. Train Loss: 0.364.. Val Loss: 0.345.. Test Loss: 0.304.. Time: 0.03m\n"
     ]
    },
    {
     "name": "stderr",
     "output_type": "stream",
     "text": [
      "100%|██████████| 107/107 [00:01<00:00, 61.35it/s]\n",
      "100%|██████████| 18/18 [00:00<00:00, 327.91it/s]\n",
      "100%|██████████| 53/53 [00:00<00:00, 329.34it/s]\n"
     ]
    },
    {
     "name": "stdout",
     "output_type": "stream",
     "text": [
      "Loss Decreasing.. 0.345 >> 0.319 \n",
      "saving model...\n",
      "Epoch:7/1000.. Train Loss: 0.379.. Val Loss: 0.319.. Test Loss: 0.275.. Time: 0.03m\n"
     ]
    },
    {
     "name": "stderr",
     "output_type": "stream",
     "text": [
      "100%|██████████| 107/107 [00:01<00:00, 61.23it/s]\n",
      "100%|██████████| 18/18 [00:00<00:00, 324.29it/s]\n",
      "100%|██████████| 53/53 [00:00<00:00, 321.05it/s]\n"
     ]
    },
    {
     "name": "stdout",
     "output_type": "stream",
     "text": [
      "Loss Decreasing.. 0.319 >> 0.302 \n",
      "saving model...\n",
      "Epoch:8/1000.. Train Loss: 0.340.. Val Loss: 0.302.. Test Loss: 0.255.. Time: 0.03m\n"
     ]
    },
    {
     "name": "stderr",
     "output_type": "stream",
     "text": [
      "100%|██████████| 107/107 [00:01<00:00, 61.85it/s]\n",
      "100%|██████████| 18/18 [00:00<00:00, 325.53it/s]\n",
      "100%|██████████| 53/53 [00:00<00:00, 325.55it/s]\n"
     ]
    },
    {
     "name": "stdout",
     "output_type": "stream",
     "text": [
      "Loss Decreasing.. 0.302 >> 0.288 \n",
      "saving model...\n",
      "Epoch:9/1000.. Train Loss: 0.339.. Val Loss: 0.288.. Test Loss: 0.240.. Time: 0.03m\n"
     ]
    },
    {
     "name": "stderr",
     "output_type": "stream",
     "text": [
      "100%|██████████| 107/107 [00:01<00:00, 60.66it/s]\n",
      "100%|██████████| 18/18 [00:00<00:00, 318.91it/s]\n",
      "100%|██████████| 53/53 [00:00<00:00, 323.50it/s]\n"
     ]
    },
    {
     "name": "stdout",
     "output_type": "stream",
     "text": [
      "Loss Decreasing.. 0.288 >> 0.275 \n",
      "saving model...\n",
      "Epoch:10/1000.. Train Loss: 0.310.. Val Loss: 0.275.. Test Loss: 0.227.. Time: 0.03m\n"
     ]
    },
    {
     "name": "stderr",
     "output_type": "stream",
     "text": [
      "100%|██████████| 107/107 [00:01<00:00, 71.24it/s]\n",
      "100%|██████████| 18/18 [00:00<00:00, 329.57it/s]\n",
      "100%|██████████| 53/53 [00:00<00:00, 329.69it/s]\n"
     ]
    },
    {
     "name": "stdout",
     "output_type": "stream",
     "text": [
      "Loss Decreasing.. 0.275 >> 0.266 \n",
      "saving model...\n",
      "Epoch:11/1000.. Train Loss: 0.277.. Val Loss: 0.266.. Test Loss: 0.214.. Time: 0.03m\n"
     ]
    },
    {
     "name": "stderr",
     "output_type": "stream",
     "text": [
      "100%|██████████| 107/107 [00:01<00:00, 71.84it/s]\n",
      "100%|██████████| 18/18 [00:00<00:00, 325.79it/s]\n",
      "100%|██████████| 53/53 [00:00<00:00, 328.32it/s]\n"
     ]
    },
    {
     "name": "stdout",
     "output_type": "stream",
     "text": [
      "Loss Decreasing.. 0.266 >> 0.247 \n",
      "saving model...\n",
      "Epoch:12/1000.. Train Loss: 0.292.. Val Loss: 0.247.. Test Loss: 0.201.. Time: 0.03m\n"
     ]
    },
    {
     "name": "stderr",
     "output_type": "stream",
     "text": [
      "100%|██████████| 107/107 [00:01<00:00, 70.30it/s]\n",
      "100%|██████████| 18/18 [00:00<00:00, 324.78it/s]\n",
      "100%|██████████| 53/53 [00:00<00:00, 328.71it/s]\n"
     ]
    },
    {
     "name": "stdout",
     "output_type": "stream",
     "text": [
      "Loss Decreasing.. 0.247 >> 0.241 \n",
      "saving model...\n",
      "Epoch:13/1000.. Train Loss: 0.327.. Val Loss: 0.241.. Test Loss: 0.188.. Time: 0.03m\n"
     ]
    },
    {
     "name": "stderr",
     "output_type": "stream",
     "text": [
      "100%|██████████| 107/107 [00:01<00:00, 70.93it/s]\n",
      "100%|██████████| 18/18 [00:00<00:00, 327.56it/s]\n",
      "100%|██████████| 53/53 [00:00<00:00, 327.05it/s]\n"
     ]
    },
    {
     "name": "stdout",
     "output_type": "stream",
     "text": [
      "Epoch:14/1000.. Train Loss: 0.268.. Val Loss: 0.249.. Test Loss: 0.179.. Time: 0.03m\n"
     ]
    },
    {
     "name": "stderr",
     "output_type": "stream",
     "text": [
      "100%|██████████| 107/107 [00:01<00:00, 70.60it/s]\n",
      "100%|██████████| 18/18 [00:00<00:00, 335.97it/s]\n",
      "100%|██████████| 53/53 [00:00<00:00, 330.18it/s]\n"
     ]
    },
    {
     "name": "stdout",
     "output_type": "stream",
     "text": [
      "Loss Decreasing.. 0.241 >> 0.225 \n",
      "saving model...\n",
      "Epoch:15/1000.. Train Loss: 0.225.. Val Loss: 0.225.. Test Loss: 0.173.. Time: 0.03m\n"
     ]
    },
    {
     "name": "stderr",
     "output_type": "stream",
     "text": [
      "100%|██████████| 107/107 [00:01<00:00, 68.44it/s]\n",
      "100%|██████████| 18/18 [00:00<00:00, 312.67it/s]\n",
      "100%|██████████| 53/53 [00:00<00:00, 308.87it/s]\n"
     ]
    },
    {
     "name": "stdout",
     "output_type": "stream",
     "text": [
      "Loss Decreasing.. 0.225 >> 0.222 \n",
      "saving model...\n",
      "Epoch:16/1000.. Train Loss: 0.240.. Val Loss: 0.222.. Test Loss: 0.163.. Time: 0.03m\n"
     ]
    },
    {
     "name": "stderr",
     "output_type": "stream",
     "text": [
      "100%|██████████| 107/107 [00:01<00:00, 68.79it/s]\n",
      "100%|██████████| 18/18 [00:00<00:00, 323.77it/s]\n",
      "100%|██████████| 53/53 [00:00<00:00, 329.50it/s]\n"
     ]
    },
    {
     "name": "stdout",
     "output_type": "stream",
     "text": [
      "Loss Decreasing.. 0.222 >> 0.210 \n",
      "saving model...\n",
      "Epoch:17/1000.. Train Loss: 0.237.. Val Loss: 0.210.. Test Loss: 0.156.. Time: 0.03m\n"
     ]
    },
    {
     "name": "stderr",
     "output_type": "stream",
     "text": [
      "100%|██████████| 107/107 [00:01<00:00, 70.19it/s]\n",
      "100%|██████████| 18/18 [00:00<00:00, 329.56it/s]\n",
      "100%|██████████| 53/53 [00:00<00:00, 330.73it/s]\n"
     ]
    },
    {
     "name": "stdout",
     "output_type": "stream",
     "text": [
      "Epoch:18/1000.. Train Loss: 0.236.. Val Loss: 0.215.. Test Loss: 0.149.. Time: 0.03m\n"
     ]
    },
    {
     "name": "stderr",
     "output_type": "stream",
     "text": [
      "100%|██████████| 107/107 [00:01<00:00, 70.03it/s]\n",
      "100%|██████████| 18/18 [00:00<00:00, 314.08it/s]\n",
      "100%|██████████| 53/53 [00:00<00:00, 331.93it/s]\n"
     ]
    },
    {
     "name": "stdout",
     "output_type": "stream",
     "text": [
      "Loss Decreasing.. 0.210 >> 0.204 \n",
      "saving model...\n",
      "Epoch:19/1000.. Train Loss: 0.228.. Val Loss: 0.204.. Test Loss: 0.145.. Time: 0.03m\n"
     ]
    },
    {
     "name": "stderr",
     "output_type": "stream",
     "text": [
      "100%|██████████| 107/107 [00:01<00:00, 70.02it/s]\n",
      "100%|██████████| 18/18 [00:00<00:00, 326.59it/s]\n",
      "100%|██████████| 53/53 [00:00<00:00, 310.93it/s]\n"
     ]
    },
    {
     "name": "stdout",
     "output_type": "stream",
     "text": [
      "Loss Decreasing.. 0.204 >> 0.187 \n",
      "saving model...\n",
      "Epoch:20/1000.. Train Loss: 0.222.. Val Loss: 0.187.. Test Loss: 0.141.. Time: 0.03m\n"
     ]
    },
    {
     "name": "stderr",
     "output_type": "stream",
     "text": [
      "100%|██████████| 107/107 [00:01<00:00, 70.70it/s]\n",
      "100%|██████████| 18/18 [00:00<00:00, 327.63it/s]\n",
      "100%|██████████| 53/53 [00:00<00:00, 288.25it/s]\n"
     ]
    },
    {
     "name": "stdout",
     "output_type": "stream",
     "text": [
      "Loss Decreasing.. 0.187 >> 0.182 \n",
      "saving model...\n",
      "Epoch:21/1000.. Train Loss: 0.218.. Val Loss: 0.182.. Test Loss: 0.136.. Time: 0.03m\n"
     ]
    },
    {
     "name": "stderr",
     "output_type": "stream",
     "text": [
      "100%|██████████| 107/107 [00:01<00:00, 68.09it/s]\n",
      "100%|██████████| 18/18 [00:00<00:00, 320.02it/s]\n",
      "100%|██████████| 53/53 [00:00<00:00, 320.27it/s]\n"
     ]
    },
    {
     "name": "stdout",
     "output_type": "stream",
     "text": [
      "Loss Decreasing.. 0.182 >> 0.181 \n",
      "saving model...\n",
      "Epoch:22/1000.. Train Loss: 0.211.. Val Loss: 0.181.. Test Loss: 0.131.. Time: 0.03m\n"
     ]
    },
    {
     "name": "stderr",
     "output_type": "stream",
     "text": [
      "100%|██████████| 107/107 [00:01<00:00, 68.57it/s]\n",
      "100%|██████████| 18/18 [00:00<00:00, 317.47it/s]\n",
      "100%|██████████| 53/53 [00:00<00:00, 323.02it/s]\n"
     ]
    },
    {
     "name": "stdout",
     "output_type": "stream",
     "text": [
      "Loss Decreasing.. 0.181 >> 0.174 \n",
      "saving model...\n",
      "Epoch:23/1000.. Train Loss: 0.229.. Val Loss: 0.174.. Test Loss: 0.128.. Time: 0.03m\n"
     ]
    },
    {
     "name": "stderr",
     "output_type": "stream",
     "text": [
      "100%|██████████| 107/107 [00:01<00:00, 71.64it/s]\n",
      "100%|██████████| 18/18 [00:00<00:00, 320.29it/s]\n",
      "100%|██████████| 53/53 [00:00<00:00, 310.12it/s]\n"
     ]
    },
    {
     "name": "stdout",
     "output_type": "stream",
     "text": [
      "Loss Decreasing.. 0.174 >> 0.169 \n",
      "saving model...\n",
      "Epoch:24/1000.. Train Loss: 0.225.. Val Loss: 0.169.. Test Loss: 0.125.. Time: 0.03m\n"
     ]
    },
    {
     "name": "stderr",
     "output_type": "stream",
     "text": [
      "100%|██████████| 107/107 [00:01<00:00, 71.14it/s]\n",
      "100%|██████████| 18/18 [00:00<00:00, 323.38it/s]\n",
      "100%|██████████| 53/53 [00:00<00:00, 306.47it/s]\n"
     ]
    },
    {
     "name": "stdout",
     "output_type": "stream",
     "text": [
      "Loss Decreasing.. 0.169 >> 0.168 \n",
      "saving model...\n",
      "Epoch:25/1000.. Train Loss: 0.209.. Val Loss: 0.168.. Test Loss: 0.121.. Time: 0.03m\n"
     ]
    },
    {
     "name": "stderr",
     "output_type": "stream",
     "text": [
      "100%|██████████| 107/107 [00:01<00:00, 68.42it/s]\n",
      "100%|██████████| 18/18 [00:00<00:00, 323.59it/s]\n",
      "100%|██████████| 53/53 [00:00<00:00, 323.85it/s]\n"
     ]
    },
    {
     "name": "stdout",
     "output_type": "stream",
     "text": [
      "Epoch:26/1000.. Train Loss: 0.177.. Val Loss: 0.168.. Test Loss: 0.119.. Time: 0.03m\n"
     ]
    },
    {
     "name": "stderr",
     "output_type": "stream",
     "text": [
      "100%|██████████| 107/107 [00:01<00:00, 70.44it/s]\n",
      "100%|██████████| 18/18 [00:00<00:00, 325.40it/s]\n",
      "100%|██████████| 53/53 [00:00<00:00, 326.27it/s]\n"
     ]
    },
    {
     "name": "stdout",
     "output_type": "stream",
     "text": [
      "Loss Decreasing.. 0.168 >> 0.168 \n",
      "saving model...\n",
      "Epoch:27/1000.. Train Loss: 0.194.. Val Loss: 0.168.. Test Loss: 0.117.. Time: 0.03m\n"
     ]
    },
    {
     "name": "stderr",
     "output_type": "stream",
     "text": [
      "100%|██████████| 107/107 [00:01<00:00, 70.52it/s]\n",
      "100%|██████████| 18/18 [00:00<00:00, 318.29it/s]\n",
      "100%|██████████| 53/53 [00:00<00:00, 319.14it/s]\n"
     ]
    },
    {
     "name": "stdout",
     "output_type": "stream",
     "text": [
      "Loss Decreasing.. 0.168 >> 0.164 \n",
      "saving model...\n",
      "Epoch:28/1000.. Train Loss: 0.192.. Val Loss: 0.164.. Test Loss: 0.116.. Time: 0.03m\n"
     ]
    },
    {
     "name": "stderr",
     "output_type": "stream",
     "text": [
      "100%|██████████| 107/107 [00:01<00:00, 70.13it/s]\n",
      "100%|██████████| 18/18 [00:00<00:00, 326.28it/s]\n",
      "100%|██████████| 53/53 [00:00<00:00, 326.39it/s]\n"
     ]
    },
    {
     "name": "stdout",
     "output_type": "stream",
     "text": [
      "Loss Decreasing.. 0.164 >> 0.161 \n",
      "saving model...\n",
      "Epoch:29/1000.. Train Loss: 0.181.. Val Loss: 0.161.. Test Loss: 0.116.. Time: 0.03m\n"
     ]
    },
    {
     "name": "stderr",
     "output_type": "stream",
     "text": [
      "100%|██████████| 107/107 [00:01<00:00, 69.93it/s]\n",
      "100%|██████████| 18/18 [00:00<00:00, 322.54it/s]\n",
      "100%|██████████| 53/53 [00:00<00:00, 326.97it/s]\n"
     ]
    },
    {
     "name": "stdout",
     "output_type": "stream",
     "text": [
      "Loss Decreasing.. 0.161 >> 0.153 \n",
      "saving model...\n",
      "Epoch:30/1000.. Train Loss: 0.176.. Val Loss: 0.153.. Test Loss: 0.114.. Time: 0.03m\n"
     ]
    },
    {
     "name": "stderr",
     "output_type": "stream",
     "text": [
      "100%|██████████| 107/107 [00:01<00:00, 71.60it/s]\n",
      "100%|██████████| 18/18 [00:00<00:00, 322.29it/s]\n",
      "100%|██████████| 53/53 [00:00<00:00, 323.18it/s]\n"
     ]
    },
    {
     "name": "stdout",
     "output_type": "stream",
     "text": [
      "Epoch:31/1000.. Train Loss: 0.181.. Val Loss: 0.177.. Test Loss: 0.113.. Time: 0.03m\n"
     ]
    },
    {
     "name": "stderr",
     "output_type": "stream",
     "text": [
      "100%|██████████| 107/107 [00:01<00:00, 71.66it/s]\n",
      "100%|██████████| 18/18 [00:00<00:00, 313.01it/s]\n",
      "100%|██████████| 53/53 [00:00<00:00, 320.55it/s]\n"
     ]
    },
    {
     "name": "stdout",
     "output_type": "stream",
     "text": [
      "Epoch:32/1000.. Train Loss: 0.179.. Val Loss: 0.155.. Test Loss: 0.112.. Time: 0.03m\n"
     ]
    },
    {
     "name": "stderr",
     "output_type": "stream",
     "text": [
      "100%|██████████| 107/107 [00:01<00:00, 69.84it/s]\n",
      "100%|██████████| 18/18 [00:00<00:00, 324.09it/s]\n",
      "100%|██████████| 53/53 [00:00<00:00, 319.41it/s]\n"
     ]
    },
    {
     "name": "stdout",
     "output_type": "stream",
     "text": [
      "Loss Decreasing.. 0.153 >> 0.148 \n",
      "saving model...\n",
      "Epoch:33/1000.. Train Loss: 0.156.. Val Loss: 0.148.. Test Loss: 0.110.. Time: 0.03m\n"
     ]
    },
    {
     "name": "stderr",
     "output_type": "stream",
     "text": [
      "100%|██████████| 107/107 [00:01<00:00, 71.68it/s]\n",
      "100%|██████████| 18/18 [00:00<00:00, 324.50it/s]\n",
      "100%|██████████| 53/53 [00:00<00:00, 324.25it/s]\n"
     ]
    },
    {
     "name": "stdout",
     "output_type": "stream",
     "text": [
      "Epoch:34/1000.. Train Loss: 0.165.. Val Loss: 0.155.. Test Loss: 0.109.. Time: 0.03m\n"
     ]
    },
    {
     "name": "stderr",
     "output_type": "stream",
     "text": [
      "100%|██████████| 107/107 [00:01<00:00, 71.63it/s]\n",
      "100%|██████████| 18/18 [00:00<00:00, 322.86it/s]\n",
      "100%|██████████| 53/53 [00:00<00:00, 328.19it/s]\n"
     ]
    },
    {
     "name": "stdout",
     "output_type": "stream",
     "text": [
      "Epoch:35/1000.. Train Loss: 0.166.. Val Loss: 0.155.. Test Loss: 0.109.. Time: 0.03m\n"
     ]
    },
    {
     "name": "stderr",
     "output_type": "stream",
     "text": [
      "100%|██████████| 107/107 [00:01<00:00, 70.82it/s]\n",
      "100%|██████████| 18/18 [00:00<00:00, 322.53it/s]\n",
      "100%|██████████| 53/53 [00:00<00:00, 322.59it/s]\n"
     ]
    },
    {
     "name": "stdout",
     "output_type": "stream",
     "text": [
      "Loss Decreasing.. 0.148 >> 0.147 \n",
      "saving model...\n",
      "Epoch:36/1000.. Train Loss: 0.161.. Val Loss: 0.147.. Test Loss: 0.108.. Time: 0.03m\n"
     ]
    },
    {
     "name": "stderr",
     "output_type": "stream",
     "text": [
      "100%|██████████| 107/107 [00:01<00:00, 71.63it/s]\n",
      "100%|██████████| 18/18 [00:00<00:00, 325.01it/s]\n",
      "100%|██████████| 53/53 [00:00<00:00, 325.43it/s]\n"
     ]
    },
    {
     "name": "stdout",
     "output_type": "stream",
     "text": [
      "Loss Decreasing.. 0.147 >> 0.141 \n",
      "saving model...\n",
      "Epoch:37/1000.. Train Loss: 0.164.. Val Loss: 0.141.. Test Loss: 0.107.. Time: 0.03m\n"
     ]
    },
    {
     "name": "stderr",
     "output_type": "stream",
     "text": [
      "100%|██████████| 107/107 [00:01<00:00, 70.48it/s]\n",
      "100%|██████████| 18/18 [00:00<00:00, 320.58it/s]\n",
      "100%|██████████| 53/53 [00:00<00:00, 326.21it/s]\n"
     ]
    },
    {
     "name": "stdout",
     "output_type": "stream",
     "text": [
      "Loss Decreasing.. 0.141 >> 0.138 \n",
      "saving model...\n",
      "Epoch:38/1000.. Train Loss: 0.158.. Val Loss: 0.138.. Test Loss: 0.107.. Time: 0.03m\n"
     ]
    },
    {
     "name": "stderr",
     "output_type": "stream",
     "text": [
      "100%|██████████| 107/107 [00:01<00:00, 70.35it/s]\n",
      "100%|██████████| 18/18 [00:00<00:00, 324.17it/s]\n",
      "100%|██████████| 53/53 [00:00<00:00, 325.20it/s]\n"
     ]
    },
    {
     "name": "stdout",
     "output_type": "stream",
     "text": [
      "Epoch:39/1000.. Train Loss: 0.150.. Val Loss: 0.148.. Test Loss: 0.108.. Time: 0.03m\n"
     ]
    },
    {
     "name": "stderr",
     "output_type": "stream",
     "text": [
      "100%|██████████| 107/107 [00:01<00:00, 69.80it/s]\n",
      "100%|██████████| 18/18 [00:00<00:00, 284.22it/s]\n",
      "100%|██████████| 53/53 [00:00<00:00, 317.59it/s]\n"
     ]
    },
    {
     "name": "stdout",
     "output_type": "stream",
     "text": [
      "Epoch:40/1000.. Train Loss: 0.158.. Val Loss: 0.152.. Test Loss: 0.108.. Time: 0.03m\n"
     ]
    },
    {
     "name": "stderr",
     "output_type": "stream",
     "text": [
      "100%|██████████| 107/107 [00:01<00:00, 59.79it/s]\n",
      "100%|██████████| 18/18 [00:00<00:00, 229.54it/s]\n",
      "100%|██████████| 53/53 [00:00<00:00, 285.16it/s]\n"
     ]
    },
    {
     "name": "stdout",
     "output_type": "stream",
     "text": [
      "Loss Decreasing.. 0.138 >> 0.137 \n",
      "saving model...\n",
      "Epoch:41/1000.. Train Loss: 0.157.. Val Loss: 0.137.. Test Loss: 0.108.. Time: 0.03m\n"
     ]
    },
    {
     "name": "stderr",
     "output_type": "stream",
     "text": [
      "100%|██████████| 107/107 [00:01<00:00, 60.83it/s]\n",
      "100%|██████████| 18/18 [00:00<00:00, 238.35it/s]\n",
      "100%|██████████| 53/53 [00:00<00:00, 279.36it/s]\n"
     ]
    },
    {
     "name": "stdout",
     "output_type": "stream",
     "text": [
      "Epoch:42/1000.. Train Loss: 0.136.. Val Loss: 0.140.. Test Loss: 0.109.. Time: 0.03m\n"
     ]
    },
    {
     "name": "stderr",
     "output_type": "stream",
     "text": [
      "100%|██████████| 107/107 [00:01<00:00, 66.29it/s]\n",
      "100%|██████████| 18/18 [00:00<00:00, 281.34it/s]\n",
      "100%|██████████| 53/53 [00:00<00:00, 263.88it/s]\n"
     ]
    },
    {
     "name": "stdout",
     "output_type": "stream",
     "text": [
      "Loss Decreasing.. 0.137 >> 0.135 \n",
      "saving model...\n",
      "Epoch:43/1000.. Train Loss: 0.164.. Val Loss: 0.135.. Test Loss: 0.111.. Time: 0.03m\n"
     ]
    },
    {
     "name": "stderr",
     "output_type": "stream",
     "text": [
      "100%|██████████| 107/107 [00:01<00:00, 60.01it/s]\n",
      "100%|██████████| 18/18 [00:00<00:00, 241.24it/s]\n",
      "100%|██████████| 53/53 [00:00<00:00, 296.18it/s]\n"
     ]
    },
    {
     "name": "stdout",
     "output_type": "stream",
     "text": [
      "Epoch:44/1000.. Train Loss: 0.135.. Val Loss: 0.137.. Test Loss: 0.111.. Time: 0.03m\n"
     ]
    },
    {
     "name": "stderr",
     "output_type": "stream",
     "text": [
      "100%|██████████| 107/107 [00:01<00:00, 63.30it/s]\n",
      "100%|██████████| 18/18 [00:00<00:00, 286.51it/s]\n",
      "100%|██████████| 53/53 [00:00<00:00, 285.27it/s]\n"
     ]
    },
    {
     "name": "stdout",
     "output_type": "stream",
     "text": [
      "Loss Decreasing.. 0.135 >> 0.131 \n",
      "saving model...\n",
      "Epoch:45/1000.. Train Loss: 0.140.. Val Loss: 0.131.. Test Loss: 0.111.. Time: 0.03m\n"
     ]
    },
    {
     "name": "stderr",
     "output_type": "stream",
     "text": [
      "100%|██████████| 107/107 [00:01<00:00, 62.59it/s]\n",
      "100%|██████████| 18/18 [00:00<00:00, 281.39it/s]\n",
      "100%|██████████| 53/53 [00:00<00:00, 279.87it/s]\n"
     ]
    },
    {
     "name": "stdout",
     "output_type": "stream",
     "text": [
      "Loss Decreasing.. 0.131 >> 0.130 \n",
      "saving model...\n",
      "Epoch:46/1000.. Train Loss: 0.136.. Val Loss: 0.130.. Test Loss: 0.111.. Time: 0.03m\n"
     ]
    },
    {
     "name": "stderr",
     "output_type": "stream",
     "text": [
      "100%|██████████| 107/107 [00:01<00:00, 63.37it/s]\n",
      "100%|██████████| 18/18 [00:00<00:00, 288.70it/s]\n",
      "100%|██████████| 53/53 [00:00<00:00, 277.56it/s]\n"
     ]
    },
    {
     "name": "stdout",
     "output_type": "stream",
     "text": [
      "Loss Decreasing.. 0.130 >> 0.129 \n",
      "saving model...\n",
      "Epoch:47/1000.. Train Loss: 0.128.. Val Loss: 0.129.. Test Loss: 0.111.. Time: 0.03m\n"
     ]
    },
    {
     "name": "stderr",
     "output_type": "stream",
     "text": [
      "100%|██████████| 107/107 [00:01<00:00, 67.12it/s]\n",
      "100%|██████████| 18/18 [00:00<00:00, 328.85it/s]\n",
      "100%|██████████| 53/53 [00:00<00:00, 272.49it/s]\n"
     ]
    },
    {
     "name": "stdout",
     "output_type": "stream",
     "text": [
      "Epoch:48/1000.. Train Loss: 0.136.. Val Loss: 0.131.. Test Loss: 0.111.. Time: 0.03m\n"
     ]
    },
    {
     "name": "stderr",
     "output_type": "stream",
     "text": [
      "100%|██████████| 107/107 [00:01<00:00, 67.27it/s]\n",
      "100%|██████████| 18/18 [00:00<00:00, 279.86it/s]\n",
      "100%|██████████| 53/53 [00:00<00:00, 288.15it/s]\n"
     ]
    },
    {
     "name": "stdout",
     "output_type": "stream",
     "text": [
      "Epoch:49/1000.. Train Loss: 0.127.. Val Loss: 0.132.. Test Loss: 0.110.. Time: 0.03m\n"
     ]
    },
    {
     "name": "stderr",
     "output_type": "stream",
     "text": [
      "100%|██████████| 107/107 [00:01<00:00, 66.26it/s]\n",
      "100%|██████████| 18/18 [00:00<00:00, 275.67it/s]\n",
      "100%|██████████| 53/53 [00:00<00:00, 276.80it/s]\n"
     ]
    },
    {
     "name": "stdout",
     "output_type": "stream",
     "text": [
      "Loss Decreasing.. 0.129 >> 0.126 \n",
      "saving model...\n",
      "Epoch:50/1000.. Train Loss: 0.129.. Val Loss: 0.126.. Test Loss: 0.110.. Time: 0.03m\n"
     ]
    },
    {
     "name": "stderr",
     "output_type": "stream",
     "text": [
      "100%|██████████| 107/107 [00:01<00:00, 57.28it/s]\n",
      "100%|██████████| 18/18 [00:00<00:00, 287.12it/s]\n",
      "100%|██████████| 53/53 [00:00<00:00, 213.78it/s]\n"
     ]
    },
    {
     "name": "stdout",
     "output_type": "stream",
     "text": [
      "Epoch:51/1000.. Train Loss: 0.130.. Val Loss: 0.130.. Test Loss: 0.110.. Time: 0.04m\n"
     ]
    },
    {
     "name": "stderr",
     "output_type": "stream",
     "text": [
      "100%|██████████| 107/107 [00:01<00:00, 66.80it/s]\n",
      "100%|██████████| 18/18 [00:00<00:00, 264.52it/s]\n",
      "100%|██████████| 53/53 [00:00<00:00, 291.08it/s]\n"
     ]
    },
    {
     "name": "stdout",
     "output_type": "stream",
     "text": [
      "Epoch:52/1000.. Train Loss: 0.118.. Val Loss: 0.129.. Test Loss: 0.109.. Time: 0.03m\n"
     ]
    },
    {
     "name": "stderr",
     "output_type": "stream",
     "text": [
      "100%|██████████| 107/107 [00:01<00:00, 58.54it/s]\n",
      "100%|██████████| 18/18 [00:00<00:00, 286.48it/s]\n",
      "100%|██████████| 53/53 [00:00<00:00, 287.45it/s]\n"
     ]
    },
    {
     "name": "stdout",
     "output_type": "stream",
     "text": [
      "Loss Decreasing.. 0.126 >> 0.125 \n",
      "saving model...\n",
      "Epoch:53/1000.. Train Loss: 0.124.. Val Loss: 0.125.. Test Loss: 0.107.. Time: 0.03m\n"
     ]
    },
    {
     "name": "stderr",
     "output_type": "stream",
     "text": [
      "100%|██████████| 107/107 [00:01<00:00, 58.34it/s]\n",
      "100%|██████████| 18/18 [00:00<00:00, 286.47it/s]\n",
      "100%|██████████| 53/53 [00:00<00:00, 290.12it/s]\n"
     ]
    },
    {
     "name": "stdout",
     "output_type": "stream",
     "text": [
      "Loss Decreasing.. 0.125 >> 0.122 \n",
      "saving model...\n",
      "Epoch:54/1000.. Train Loss: 0.123.. Val Loss: 0.122.. Test Loss: 0.107.. Time: 0.04m\n"
     ]
    },
    {
     "name": "stderr",
     "output_type": "stream",
     "text": [
      "100%|██████████| 107/107 [00:01<00:00, 60.61it/s]\n",
      "100%|██████████| 18/18 [00:00<00:00, 280.04it/s]\n",
      "100%|██████████| 53/53 [00:00<00:00, 278.80it/s]\n"
     ]
    },
    {
     "name": "stdout",
     "output_type": "stream",
     "text": [
      "Epoch:55/1000.. Train Loss: 0.111.. Val Loss: 0.124.. Test Loss: 0.106.. Time: 0.03m\n"
     ]
    },
    {
     "name": "stderr",
     "output_type": "stream",
     "text": [
      "100%|██████████| 107/107 [00:01<00:00, 63.42it/s]\n",
      "100%|██████████| 18/18 [00:00<00:00, 285.72it/s]\n",
      "100%|██████████| 53/53 [00:00<00:00, 276.29it/s]\n"
     ]
    },
    {
     "name": "stdout",
     "output_type": "stream",
     "text": [
      "Loss Decreasing.. 0.122 >> 0.116 \n",
      "saving model...\n",
      "Epoch:56/1000.. Train Loss: 0.117.. Val Loss: 0.116.. Test Loss: 0.106.. Time: 0.03m\n"
     ]
    },
    {
     "name": "stderr",
     "output_type": "stream",
     "text": [
      "100%|██████████| 107/107 [00:01<00:00, 64.95it/s]\n",
      "100%|██████████| 18/18 [00:00<00:00, 287.14it/s]\n",
      "100%|██████████| 53/53 [00:00<00:00, 287.74it/s]\n"
     ]
    },
    {
     "name": "stdout",
     "output_type": "stream",
     "text": [
      "Epoch:57/1000.. Train Loss: 0.111.. Val Loss: 0.121.. Test Loss: 0.106.. Time: 0.03m\n"
     ]
    },
    {
     "name": "stderr",
     "output_type": "stream",
     "text": [
      "100%|██████████| 107/107 [00:01<00:00, 60.91it/s]\n",
      "100%|██████████| 18/18 [00:00<00:00, 278.84it/s]\n",
      "100%|██████████| 53/53 [00:00<00:00, 283.45it/s]\n"
     ]
    },
    {
     "name": "stdout",
     "output_type": "stream",
     "text": [
      "Loss Decreasing.. 0.116 >> 0.114 \n",
      "saving model...\n",
      "Epoch:58/1000.. Train Loss: 0.112.. Val Loss: 0.114.. Test Loss: 0.104.. Time: 0.03m\n"
     ]
    },
    {
     "name": "stderr",
     "output_type": "stream",
     "text": [
      "100%|██████████| 107/107 [00:01<00:00, 61.91it/s]\n",
      "100%|██████████| 18/18 [00:00<00:00, 286.86it/s]\n",
      "100%|██████████| 53/53 [00:00<00:00, 288.62it/s]\n"
     ]
    },
    {
     "name": "stdout",
     "output_type": "stream",
     "text": [
      "Epoch:59/1000.. Train Loss: 0.107.. Val Loss: 0.114.. Test Loss: 0.104.. Time: 0.03m\n"
     ]
    },
    {
     "name": "stderr",
     "output_type": "stream",
     "text": [
      "100%|██████████| 107/107 [00:01<00:00, 61.93it/s]\n",
      "100%|██████████| 18/18 [00:00<00:00, 289.02it/s]\n",
      "100%|██████████| 53/53 [00:00<00:00, 286.02it/s]\n"
     ]
    },
    {
     "name": "stdout",
     "output_type": "stream",
     "text": [
      "Loss Decreasing.. 0.114 >> 0.110 \n",
      "saving model...\n",
      "Epoch:60/1000.. Train Loss: 0.108.. Val Loss: 0.110.. Test Loss: 0.104.. Time: 0.03m\n"
     ]
    },
    {
     "name": "stderr",
     "output_type": "stream",
     "text": [
      "100%|██████████| 107/107 [00:01<00:00, 59.75it/s]\n",
      "100%|██████████| 18/18 [00:00<00:00, 286.26it/s]\n",
      "100%|██████████| 53/53 [00:00<00:00, 280.43it/s]\n"
     ]
    },
    {
     "name": "stdout",
     "output_type": "stream",
     "text": [
      "Loss Decreasing.. 0.110 >> 0.110 \n",
      "saving model...\n",
      "Epoch:61/1000.. Train Loss: 0.100.. Val Loss: 0.110.. Test Loss: 0.104.. Time: 0.03m\n"
     ]
    },
    {
     "name": "stderr",
     "output_type": "stream",
     "text": [
      "100%|██████████| 107/107 [00:01<00:00, 57.04it/s]\n",
      "100%|██████████| 18/18 [00:00<00:00, 291.08it/s]\n",
      "100%|██████████| 53/53 [00:00<00:00, 285.52it/s]\n"
     ]
    },
    {
     "name": "stdout",
     "output_type": "stream",
     "text": [
      "Epoch:62/1000.. Train Loss: 0.105.. Val Loss: 0.110.. Test Loss: 0.103.. Time: 0.04m\n"
     ]
    },
    {
     "name": "stderr",
     "output_type": "stream",
     "text": [
      "100%|██████████| 107/107 [00:01<00:00, 58.44it/s]\n",
      "100%|██████████| 18/18 [00:00<00:00, 283.24it/s]\n",
      "100%|██████████| 53/53 [00:00<00:00, 281.52it/s]\n"
     ]
    },
    {
     "name": "stdout",
     "output_type": "stream",
     "text": [
      "Epoch:63/1000.. Train Loss: 0.106.. Val Loss: 0.132.. Test Loss: 0.102.. Time: 0.03m\n"
     ]
    },
    {
     "name": "stderr",
     "output_type": "stream",
     "text": [
      "100%|██████████| 107/107 [00:01<00:00, 60.74it/s]\n",
      "100%|██████████| 18/18 [00:00<00:00, 281.42it/s]\n",
      "100%|██████████| 53/53 [00:00<00:00, 287.70it/s]\n"
     ]
    },
    {
     "name": "stdout",
     "output_type": "stream",
     "text": [
      "Loss Decreasing.. 0.110 >> 0.109 \n",
      "saving model...\n",
      "Epoch:64/1000.. Train Loss: 0.113.. Val Loss: 0.109.. Test Loss: 0.103.. Time: 0.03m\n"
     ]
    },
    {
     "name": "stderr",
     "output_type": "stream",
     "text": [
      "100%|██████████| 107/107 [00:01<00:00, 63.99it/s]\n",
      "100%|██████████| 18/18 [00:00<00:00, 288.67it/s]\n",
      "100%|██████████| 53/53 [00:00<00:00, 281.95it/s]\n"
     ]
    },
    {
     "name": "stdout",
     "output_type": "stream",
     "text": [
      "Loss Decreasing.. 0.109 >> 0.109 \n",
      "saving model...\n",
      "Epoch:65/1000.. Train Loss: 0.107.. Val Loss: 0.109.. Test Loss: 0.103.. Time: 0.03m\n"
     ]
    },
    {
     "name": "stderr",
     "output_type": "stream",
     "text": [
      "100%|██████████| 107/107 [00:01<00:00, 65.27it/s]\n",
      "100%|██████████| 18/18 [00:00<00:00, 284.11it/s]\n",
      "100%|██████████| 53/53 [00:00<00:00, 291.80it/s]\n"
     ]
    },
    {
     "name": "stdout",
     "output_type": "stream",
     "text": [
      "Loss Decreasing.. 0.109 >> 0.107 \n",
      "saving model...\n",
      "Epoch:66/1000.. Train Loss: 0.092.. Val Loss: 0.107.. Test Loss: 0.103.. Time: 0.03m\n"
     ]
    },
    {
     "name": "stderr",
     "output_type": "stream",
     "text": [
      "100%|██████████| 107/107 [00:01<00:00, 66.94it/s]\n",
      "100%|██████████| 18/18 [00:00<00:00, 276.43it/s]\n",
      "100%|██████████| 53/53 [00:00<00:00, 279.56it/s]\n"
     ]
    },
    {
     "name": "stdout",
     "output_type": "stream",
     "text": [
      "Loss Decreasing.. 0.107 >> 0.106 \n",
      "saving model...\n",
      "Epoch:67/1000.. Train Loss: 0.111.. Val Loss: 0.106.. Test Loss: 0.101.. Time: 0.03m\n"
     ]
    },
    {
     "name": "stderr",
     "output_type": "stream",
     "text": [
      "100%|██████████| 107/107 [00:01<00:00, 58.20it/s]\n",
      "100%|██████████| 18/18 [00:00<00:00, 286.06it/s]\n",
      "100%|██████████| 53/53 [00:00<00:00, 254.73it/s]\n"
     ]
    },
    {
     "name": "stdout",
     "output_type": "stream",
     "text": [
      "Epoch:68/1000.. Train Loss: 0.104.. Val Loss: 0.110.. Test Loss: 0.100.. Time: 0.04m\n"
     ]
    },
    {
     "name": "stderr",
     "output_type": "stream",
     "text": [
      "100%|██████████| 107/107 [00:01<00:00, 66.72it/s]\n",
      "100%|██████████| 18/18 [00:00<00:00, 278.18it/s]\n",
      "100%|██████████| 53/53 [00:00<00:00, 286.67it/s]\n"
     ]
    },
    {
     "name": "stdout",
     "output_type": "stream",
     "text": [
      "Loss Decreasing.. 0.106 >> 0.103 \n",
      "saving model...\n",
      "Epoch:69/1000.. Train Loss: 0.101.. Val Loss: 0.103.. Test Loss: 0.100.. Time: 0.03m\n"
     ]
    },
    {
     "name": "stderr",
     "output_type": "stream",
     "text": [
      "100%|██████████| 107/107 [00:01<00:00, 65.25it/s]\n",
      "100%|██████████| 18/18 [00:00<00:00, 275.26it/s]\n",
      "100%|██████████| 53/53 [00:00<00:00, 257.49it/s]\n"
     ]
    },
    {
     "name": "stdout",
     "output_type": "stream",
     "text": [
      "Epoch:70/1000.. Train Loss: 0.096.. Val Loss: 0.111.. Test Loss: 0.101.. Time: 0.03m\n"
     ]
    },
    {
     "name": "stderr",
     "output_type": "stream",
     "text": [
      "100%|██████████| 107/107 [00:01<00:00, 65.01it/s]\n",
      "100%|██████████| 18/18 [00:00<00:00, 286.50it/s]\n",
      "100%|██████████| 53/53 [00:00<00:00, 288.97it/s]\n"
     ]
    },
    {
     "name": "stdout",
     "output_type": "stream",
     "text": [
      "Loss Decreasing.. 0.103 >> 0.102 \n",
      "saving model...\n",
      "Epoch:71/1000.. Train Loss: 0.093.. Val Loss: 0.102.. Test Loss: 0.100.. Time: 0.03m\n"
     ]
    },
    {
     "name": "stderr",
     "output_type": "stream",
     "text": [
      "100%|██████████| 107/107 [00:01<00:00, 64.67it/s]\n",
      "100%|██████████| 18/18 [00:00<00:00, 283.76it/s]\n",
      "100%|██████████| 53/53 [00:00<00:00, 287.32it/s]\n"
     ]
    },
    {
     "name": "stdout",
     "output_type": "stream",
     "text": [
      "Loss Decreasing.. 0.102 >> 0.102 \n",
      "saving model...\n",
      "Epoch:72/1000.. Train Loss: 0.094.. Val Loss: 0.102.. Test Loss: 0.099.. Time: 0.03m\n"
     ]
    },
    {
     "name": "stderr",
     "output_type": "stream",
     "text": [
      "100%|██████████| 107/107 [00:01<00:00, 60.87it/s]\n",
      "100%|██████████| 18/18 [00:00<00:00, 226.75it/s]\n",
      "100%|██████████| 53/53 [00:00<00:00, 270.90it/s]\n"
     ]
    },
    {
     "name": "stdout",
     "output_type": "stream",
     "text": [
      "Epoch:73/1000.. Train Loss: 0.094.. Val Loss: 0.103.. Test Loss: 0.099.. Time: 0.03m\n"
     ]
    },
    {
     "name": "stderr",
     "output_type": "stream",
     "text": [
      "100%|██████████| 107/107 [00:01<00:00, 61.81it/s]\n",
      "100%|██████████| 18/18 [00:00<00:00, 287.19it/s]\n",
      "100%|██████████| 53/53 [00:00<00:00, 287.99it/s]\n"
     ]
    },
    {
     "name": "stdout",
     "output_type": "stream",
     "text": [
      "Loss Decreasing.. 0.102 >> 0.101 \n",
      "saving model...\n",
      "Epoch:74/1000.. Train Loss: 0.086.. Val Loss: 0.101.. Test Loss: 0.100.. Time: 0.03m\n"
     ]
    },
    {
     "name": "stderr",
     "output_type": "stream",
     "text": [
      "100%|██████████| 107/107 [00:01<00:00, 57.86it/s]\n",
      "100%|██████████| 18/18 [00:00<00:00, 207.47it/s]\n",
      "100%|██████████| 53/53 [00:00<00:00, 280.69it/s]\n"
     ]
    },
    {
     "name": "stdout",
     "output_type": "stream",
     "text": [
      "Loss Decreasing.. 0.101 >> 0.100 \n",
      "saving model...\n",
      "Epoch:75/1000.. Train Loss: 0.094.. Val Loss: 0.100.. Test Loss: 0.100.. Time: 0.04m\n"
     ]
    },
    {
     "name": "stderr",
     "output_type": "stream",
     "text": [
      "100%|██████████| 107/107 [00:01<00:00, 63.54it/s]\n",
      "100%|██████████| 18/18 [00:00<00:00, 289.56it/s]\n",
      "100%|██████████| 53/53 [00:00<00:00, 280.00it/s]\n"
     ]
    },
    {
     "name": "stdout",
     "output_type": "stream",
     "text": [
      "Loss Decreasing.. 0.100 >> 0.099 \n",
      "saving model...\n",
      "Epoch:76/1000.. Train Loss: 0.087.. Val Loss: 0.099.. Test Loss: 0.100.. Time: 0.03m\n"
     ]
    },
    {
     "name": "stderr",
     "output_type": "stream",
     "text": [
      "100%|██████████| 107/107 [00:01<00:00, 57.24it/s]\n",
      "100%|██████████| 18/18 [00:00<00:00, 213.85it/s]\n",
      "100%|██████████| 53/53 [00:00<00:00, 288.22it/s]\n"
     ]
    },
    {
     "name": "stdout",
     "output_type": "stream",
     "text": [
      "Epoch:77/1000.. Train Loss: 0.096.. Val Loss: 0.102.. Test Loss: 0.100.. Time: 0.04m\n"
     ]
    },
    {
     "name": "stderr",
     "output_type": "stream",
     "text": [
      "100%|██████████| 107/107 [00:01<00:00, 63.29it/s]\n",
      "100%|██████████| 18/18 [00:00<00:00, 247.33it/s]\n",
      "100%|██████████| 53/53 [00:00<00:00, 270.76it/s]\n"
     ]
    },
    {
     "name": "stdout",
     "output_type": "stream",
     "text": [
      "Loss Decreasing.. 0.099 >> 0.099 \n",
      "saving model...\n",
      "Epoch:78/1000.. Train Loss: 0.089.. Val Loss: 0.099.. Test Loss: 0.099.. Time: 0.03m\n"
     ]
    },
    {
     "name": "stderr",
     "output_type": "stream",
     "text": [
      "100%|██████████| 107/107 [00:01<00:00, 64.51it/s]\n",
      "100%|██████████| 18/18 [00:00<00:00, 278.87it/s]\n",
      "100%|██████████| 53/53 [00:00<00:00, 281.00it/s]\n"
     ]
    },
    {
     "name": "stdout",
     "output_type": "stream",
     "text": [
      "Loss Decreasing.. 0.099 >> 0.098 \n",
      "saving model...\n",
      "Epoch:79/1000.. Train Loss: 0.090.. Val Loss: 0.098.. Test Loss: 0.097.. Time: 0.03m\n"
     ]
    },
    {
     "name": "stderr",
     "output_type": "stream",
     "text": [
      "100%|██████████| 107/107 [00:01<00:00, 63.44it/s]\n",
      "100%|██████████| 18/18 [00:00<00:00, 223.47it/s]\n",
      "100%|██████████| 53/53 [00:00<00:00, 283.73it/s]\n"
     ]
    },
    {
     "name": "stdout",
     "output_type": "stream",
     "text": [
      "Loss Decreasing.. 0.098 >> 0.097 \n",
      "saving model...\n",
      "Epoch:80/1000.. Train Loss: 0.094.. Val Loss: 0.097.. Test Loss: 0.099.. Time: 0.03m\n"
     ]
    },
    {
     "name": "stderr",
     "output_type": "stream",
     "text": [
      "100%|██████████| 107/107 [00:01<00:00, 59.91it/s]\n",
      "100%|██████████| 18/18 [00:00<00:00, 232.17it/s]\n",
      "100%|██████████| 53/53 [00:00<00:00, 278.16it/s]\n"
     ]
    },
    {
     "name": "stdout",
     "output_type": "stream",
     "text": [
      "Epoch:81/1000.. Train Loss: 0.087.. Val Loss: 0.098.. Test Loss: 0.101.. Time: 0.03m\n"
     ]
    },
    {
     "name": "stderr",
     "output_type": "stream",
     "text": [
      "100%|██████████| 107/107 [00:01<00:00, 64.12it/s]\n",
      "100%|██████████| 18/18 [00:00<00:00, 273.02it/s]\n",
      "100%|██████████| 53/53 [00:00<00:00, 276.82it/s]\n"
     ]
    },
    {
     "name": "stdout",
     "output_type": "stream",
     "text": [
      "Epoch:82/1000.. Train Loss: 0.091.. Val Loss: 0.097.. Test Loss: 0.102.. Time: 0.03m\n"
     ]
    },
    {
     "name": "stderr",
     "output_type": "stream",
     "text": [
      "100%|██████████| 107/107 [00:01<00:00, 62.62it/s]\n",
      "100%|██████████| 18/18 [00:00<00:00, 276.69it/s]\n",
      "100%|██████████| 53/53 [00:00<00:00, 284.58it/s]\n"
     ]
    },
    {
     "name": "stdout",
     "output_type": "stream",
     "text": [
      "Epoch:83/1000.. Train Loss: 0.085.. Val Loss: 0.098.. Test Loss: 0.103.. Time: 0.03m\n"
     ]
    },
    {
     "name": "stderr",
     "output_type": "stream",
     "text": [
      "100%|██████████| 107/107 [00:01<00:00, 66.82it/s]\n",
      "100%|██████████| 18/18 [00:00<00:00, 284.83it/s]\n",
      "100%|██████████| 53/53 [00:00<00:00, 283.39it/s]\n"
     ]
    },
    {
     "name": "stdout",
     "output_type": "stream",
     "text": [
      "Epoch:84/1000.. Train Loss: 0.082.. Val Loss: 0.110.. Test Loss: 0.102.. Time: 0.03m\n"
     ]
    },
    {
     "name": "stderr",
     "output_type": "stream",
     "text": [
      "100%|██████████| 107/107 [00:01<00:00, 61.22it/s]\n",
      "100%|██████████| 18/18 [00:00<00:00, 243.53it/s]\n",
      "100%|██████████| 53/53 [00:00<00:00, 274.53it/s]\n"
     ]
    },
    {
     "name": "stdout",
     "output_type": "stream",
     "text": [
      "Epoch:85/1000.. Train Loss: 0.089.. Val Loss: 0.098.. Test Loss: 0.103.. Time: 0.03m\n"
     ]
    },
    {
     "name": "stderr",
     "output_type": "stream",
     "text": [
      "100%|██████████| 107/107 [00:01<00:00, 66.80it/s]\n",
      "100%|██████████| 18/18 [00:00<00:00, 272.94it/s]\n",
      "100%|██████████| 53/53 [00:00<00:00, 290.91it/s]\n"
     ]
    },
    {
     "name": "stdout",
     "output_type": "stream",
     "text": [
      "Epoch:86/1000.. Train Loss: 0.085.. Val Loss: 0.101.. Test Loss: 0.104.. Time: 0.03m\n"
     ]
    },
    {
     "name": "stderr",
     "output_type": "stream",
     "text": [
      "100%|██████████| 107/107 [00:01<00:00, 67.61it/s]\n",
      "100%|██████████| 18/18 [00:00<00:00, 287.48it/s]\n",
      "100%|██████████| 53/53 [00:00<00:00, 285.62it/s]\n"
     ]
    },
    {
     "name": "stdout",
     "output_type": "stream",
     "text": [
      "Epoch:87/1000.. Train Loss: 0.088.. Val Loss: 0.097.. Test Loss: 0.101.. Time: 0.03m\n"
     ]
    },
    {
     "name": "stderr",
     "output_type": "stream",
     "text": [
      "100%|██████████| 107/107 [00:01<00:00, 60.49it/s]\n",
      "100%|██████████| 18/18 [00:00<00:00, 293.83it/s]\n",
      "100%|██████████| 53/53 [00:00<00:00, 284.17it/s]\n"
     ]
    },
    {
     "name": "stdout",
     "output_type": "stream",
     "text": [
      "Loss Decreasing.. 0.097 >> 0.096 \n",
      "saving model...\n",
      "Epoch:88/1000.. Train Loss: 0.086.. Val Loss: 0.096.. Test Loss: 0.100.. Time: 0.03m\n"
     ]
    },
    {
     "name": "stderr",
     "output_type": "stream",
     "text": [
      "100%|██████████| 107/107 [00:01<00:00, 65.97it/s]\n",
      "100%|██████████| 18/18 [00:00<00:00, 276.15it/s]\n",
      "100%|██████████| 53/53 [00:00<00:00, 288.28it/s]\n"
     ]
    },
    {
     "name": "stdout",
     "output_type": "stream",
     "text": [
      "Loss Decreasing.. 0.096 >> 0.096 \n",
      "saving model...\n",
      "Epoch:89/1000.. Train Loss: 0.081.. Val Loss: 0.096.. Test Loss: 0.093.. Time: 0.03m\n"
     ]
    },
    {
     "name": "stderr",
     "output_type": "stream",
     "text": [
      "100%|██████████| 107/107 [00:01<00:00, 63.13it/s]\n",
      "100%|██████████| 18/18 [00:00<00:00, 252.21it/s]\n",
      "100%|██████████| 53/53 [00:00<00:00, 276.62it/s]\n"
     ]
    },
    {
     "name": "stdout",
     "output_type": "stream",
     "text": [
      "Loss Decreasing.. 0.096 >> 0.094 \n",
      "saving model...\n",
      "Epoch:90/1000.. Train Loss: 0.083.. Val Loss: 0.094.. Test Loss: 0.094.. Time: 0.03m\n"
     ]
    },
    {
     "name": "stderr",
     "output_type": "stream",
     "text": [
      "100%|██████████| 107/107 [00:01<00:00, 64.50it/s]\n",
      "100%|██████████| 18/18 [00:00<00:00, 286.69it/s]\n",
      "100%|██████████| 53/53 [00:00<00:00, 284.55it/s]\n"
     ]
    },
    {
     "name": "stdout",
     "output_type": "stream",
     "text": [
      "Epoch:91/1000.. Train Loss: 0.082.. Val Loss: 0.096.. Test Loss: 0.099.. Time: 0.03m\n"
     ]
    },
    {
     "name": "stderr",
     "output_type": "stream",
     "text": [
      "100%|██████████| 107/107 [00:01<00:00, 65.34it/s]\n",
      "100%|██████████| 18/18 [00:00<00:00, 286.62it/s]\n",
      "100%|██████████| 53/53 [00:00<00:00, 284.08it/s]\n"
     ]
    },
    {
     "name": "stdout",
     "output_type": "stream",
     "text": [
      "Epoch:92/1000.. Train Loss: 0.085.. Val Loss: 0.098.. Test Loss: 0.097.. Time: 0.03m\n"
     ]
    },
    {
     "name": "stderr",
     "output_type": "stream",
     "text": [
      "100%|██████████| 107/107 [00:01<00:00, 58.37it/s]\n",
      "100%|██████████| 18/18 [00:00<00:00, 281.51it/s]\n",
      "100%|██████████| 53/53 [00:00<00:00, 279.34it/s]\n"
     ]
    },
    {
     "name": "stdout",
     "output_type": "stream",
     "text": [
      "Epoch:93/1000.. Train Loss: 0.079.. Val Loss: 0.097.. Test Loss: 0.097.. Time: 0.03m\n"
     ]
    },
    {
     "name": "stderr",
     "output_type": "stream",
     "text": [
      "100%|██████████| 107/107 [00:01<00:00, 61.50it/s]\n",
      "100%|██████████| 18/18 [00:00<00:00, 204.46it/s]\n",
      "100%|██████████| 53/53 [00:00<00:00, 285.65it/s]\n"
     ]
    },
    {
     "name": "stdout",
     "output_type": "stream",
     "text": [
      "Epoch:94/1000.. Train Loss: 0.080.. Val Loss: 0.094.. Test Loss: 0.093.. Time: 0.03m\n"
     ]
    },
    {
     "name": "stderr",
     "output_type": "stream",
     "text": [
      "100%|██████████| 107/107 [00:01<00:00, 57.19it/s]\n",
      "100%|██████████| 18/18 [00:00<00:00, 282.02it/s]\n",
      "100%|██████████| 53/53 [00:00<00:00, 285.35it/s]\n"
     ]
    },
    {
     "name": "stdout",
     "output_type": "stream",
     "text": [
      "Loss Decreasing.. 0.094 >> 0.092 \n",
      "saving model...\n",
      "Epoch:95/1000.. Train Loss: 0.088.. Val Loss: 0.092.. Test Loss: 0.095.. Time: 0.04m\n"
     ]
    },
    {
     "name": "stderr",
     "output_type": "stream",
     "text": [
      "100%|██████████| 107/107 [00:01<00:00, 62.38it/s]\n",
      "100%|██████████| 18/18 [00:00<00:00, 285.66it/s]\n",
      "100%|██████████| 53/53 [00:00<00:00, 287.99it/s]\n"
     ]
    },
    {
     "name": "stdout",
     "output_type": "stream",
     "text": [
      "Epoch:96/1000.. Train Loss: 0.079.. Val Loss: 0.094.. Test Loss: 0.100.. Time: 0.03m\n"
     ]
    },
    {
     "name": "stderr",
     "output_type": "stream",
     "text": [
      "100%|██████████| 107/107 [00:01<00:00, 61.38it/s]\n",
      "100%|██████████| 18/18 [00:00<00:00, 281.42it/s]\n",
      "100%|██████████| 53/53 [00:00<00:00, 284.38it/s]\n"
     ]
    },
    {
     "name": "stdout",
     "output_type": "stream",
     "text": [
      "Loss Decreasing.. 0.092 >> 0.092 \n",
      "saving model...\n",
      "Epoch:97/1000.. Train Loss: 0.082.. Val Loss: 0.092.. Test Loss: 0.097.. Time: 0.03m\n"
     ]
    },
    {
     "name": "stderr",
     "output_type": "stream",
     "text": [
      "100%|██████████| 107/107 [00:01<00:00, 63.18it/s]\n",
      "100%|██████████| 18/18 [00:00<00:00, 229.13it/s]\n",
      "100%|██████████| 53/53 [00:00<00:00, 283.59it/s]\n"
     ]
    },
    {
     "name": "stdout",
     "output_type": "stream",
     "text": [
      "Epoch:98/1000.. Train Loss: 0.080.. Val Loss: 0.093.. Test Loss: 0.095.. Time: 0.03m\n"
     ]
    },
    {
     "name": "stderr",
     "output_type": "stream",
     "text": [
      "100%|██████████| 107/107 [00:01<00:00, 64.40it/s]\n",
      "100%|██████████| 18/18 [00:00<00:00, 261.00it/s]\n",
      "100%|██████████| 53/53 [00:00<00:00, 259.33it/s]\n"
     ]
    },
    {
     "name": "stdout",
     "output_type": "stream",
     "text": [
      "Loss Decreasing.. 0.092 >> 0.092 \n",
      "saving model...\n",
      "Epoch:99/1000.. Train Loss: 0.083.. Val Loss: 0.092.. Test Loss: 0.099.. Time: 0.03m\n"
     ]
    },
    {
     "name": "stderr",
     "output_type": "stream",
     "text": [
      "100%|██████████| 107/107 [00:01<00:00, 63.98it/s]\n",
      "100%|██████████| 18/18 [00:00<00:00, 287.50it/s]\n",
      "100%|██████████| 53/53 [00:00<00:00, 290.24it/s]\n"
     ]
    },
    {
     "name": "stdout",
     "output_type": "stream",
     "text": [
      "Epoch:100/1000.. Train Loss: 0.077.. Val Loss: 0.095.. Test Loss: 0.095.. Time: 0.03m\n"
     ]
    },
    {
     "name": "stderr",
     "output_type": "stream",
     "text": [
      "100%|██████████| 107/107 [00:01<00:00, 65.77it/s]\n",
      "100%|██████████| 18/18 [00:00<00:00, 281.05it/s]\n",
      "100%|██████████| 53/53 [00:00<00:00, 280.42it/s]\n"
     ]
    },
    {
     "name": "stdout",
     "output_type": "stream",
     "text": [
      "Epoch:101/1000.. Train Loss: 0.078.. Val Loss: 0.093.. Test Loss: 0.097.. Time: 0.03m\n"
     ]
    },
    {
     "name": "stderr",
     "output_type": "stream",
     "text": [
      "100%|██████████| 107/107 [00:01<00:00, 62.13it/s]\n",
      "100%|██████████| 18/18 [00:00<00:00, 278.63it/s]\n",
      "100%|██████████| 53/53 [00:00<00:00, 289.62it/s]\n"
     ]
    },
    {
     "name": "stdout",
     "output_type": "stream",
     "text": [
      "Epoch:102/1000.. Train Loss: 0.078.. Val Loss: 0.093.. Test Loss: 0.092.. Time: 0.03m\n"
     ]
    },
    {
     "name": "stderr",
     "output_type": "stream",
     "text": [
      "100%|██████████| 107/107 [00:01<00:00, 61.55it/s]\n",
      "100%|██████████| 18/18 [00:00<00:00, 282.19it/s]\n",
      "100%|██████████| 53/53 [00:00<00:00, 285.11it/s]\n"
     ]
    },
    {
     "name": "stdout",
     "output_type": "stream",
     "text": [
      "Epoch:103/1000.. Train Loss: 0.076.. Val Loss: 0.092.. Test Loss: 0.094.. Time: 0.03m\n"
     ]
    },
    {
     "name": "stderr",
     "output_type": "stream",
     "text": [
      "100%|██████████| 107/107 [00:01<00:00, 61.94it/s]\n",
      "100%|██████████| 18/18 [00:00<00:00, 291.02it/s]\n",
      "100%|██████████| 53/53 [00:00<00:00, 284.06it/s]\n"
     ]
    },
    {
     "name": "stdout",
     "output_type": "stream",
     "text": [
      "Epoch:104/1000.. Train Loss: 0.071.. Val Loss: 0.094.. Test Loss: 0.091.. Time: 0.03m\n"
     ]
    },
    {
     "name": "stderr",
     "output_type": "stream",
     "text": [
      "100%|██████████| 107/107 [00:01<00:00, 59.68it/s]\n",
      "100%|██████████| 18/18 [00:00<00:00, 288.04it/s]\n",
      "100%|██████████| 53/53 [00:00<00:00, 286.76it/s]\n"
     ]
    },
    {
     "name": "stdout",
     "output_type": "stream",
     "text": [
      "Epoch:105/1000.. Train Loss: 0.083.. Val Loss: 0.094.. Test Loss: 0.088.. Time: 0.03m\n"
     ]
    },
    {
     "name": "stderr",
     "output_type": "stream",
     "text": [
      "100%|██████████| 107/107 [00:01<00:00, 64.02it/s]\n",
      "100%|██████████| 18/18 [00:00<00:00, 229.96it/s]\n",
      "100%|██████████| 53/53 [00:00<00:00, 256.92it/s]\n"
     ]
    },
    {
     "name": "stdout",
     "output_type": "stream",
     "text": [
      "Epoch:106/1000.. Train Loss: 0.077.. Val Loss: 0.094.. Test Loss: 0.084.. Time: 0.03m\n"
     ]
    },
    {
     "name": "stderr",
     "output_type": "stream",
     "text": [
      "100%|██████████| 107/107 [00:01<00:00, 62.68it/s]\n",
      "100%|██████████| 18/18 [00:00<00:00, 220.24it/s]\n",
      "100%|██████████| 53/53 [00:00<00:00, 281.81it/s]\n"
     ]
    },
    {
     "name": "stdout",
     "output_type": "stream",
     "text": [
      "Loss Decreasing.. 0.092 >> 0.090 \n",
      "saving model...\n",
      "Epoch:107/1000.. Train Loss: 0.077.. Val Loss: 0.090.. Test Loss: 0.082.. Time: 0.03m\n"
     ]
    },
    {
     "name": "stderr",
     "output_type": "stream",
     "text": [
      "100%|██████████| 107/107 [00:01<00:00, 58.39it/s]\n",
      "100%|██████████| 18/18 [00:00<00:00, 228.14it/s]\n",
      "100%|██████████| 53/53 [00:00<00:00, 244.03it/s]\n"
     ]
    },
    {
     "name": "stdout",
     "output_type": "stream",
     "text": [
      "Epoch:108/1000.. Train Loss: 0.078.. Val Loss: 0.090.. Test Loss: 0.093.. Time: 0.04m\n"
     ]
    },
    {
     "name": "stderr",
     "output_type": "stream",
     "text": [
      "100%|██████████| 107/107 [00:01<00:00, 63.96it/s]\n",
      "100%|██████████| 18/18 [00:00<00:00, 217.55it/s]\n",
      "100%|██████████| 53/53 [00:00<00:00, 286.58it/s]\n"
     ]
    },
    {
     "name": "stdout",
     "output_type": "stream",
     "text": [
      "Epoch:109/1000.. Train Loss: 0.071.. Val Loss: 0.091.. Test Loss: 0.096.. Time: 0.03m\n"
     ]
    },
    {
     "name": "stderr",
     "output_type": "stream",
     "text": [
      "100%|██████████| 107/107 [00:01<00:00, 64.45it/s]\n",
      "100%|██████████| 18/18 [00:00<00:00, 287.90it/s]\n",
      "100%|██████████| 53/53 [00:00<00:00, 287.79it/s]\n"
     ]
    },
    {
     "name": "stdout",
     "output_type": "stream",
     "text": [
      "Epoch:110/1000.. Train Loss: 0.070.. Val Loss: 0.093.. Test Loss: 0.094.. Time: 0.03m\n"
     ]
    },
    {
     "name": "stderr",
     "output_type": "stream",
     "text": [
      "100%|██████████| 107/107 [00:01<00:00, 64.20it/s]\n",
      "100%|██████████| 18/18 [00:00<00:00, 281.17it/s]\n",
      "100%|██████████| 53/53 [00:00<00:00, 282.82it/s]\n"
     ]
    },
    {
     "name": "stdout",
     "output_type": "stream",
     "text": [
      "Epoch:111/1000.. Train Loss: 0.075.. Val Loss: 0.091.. Test Loss: 0.090.. Time: 0.03m\n"
     ]
    },
    {
     "name": "stderr",
     "output_type": "stream",
     "text": [
      "100%|██████████| 107/107 [00:01<00:00, 65.68it/s]\n",
      "100%|██████████| 18/18 [00:00<00:00, 282.11it/s]\n",
      "100%|██████████| 53/53 [00:00<00:00, 286.83it/s]\n"
     ]
    },
    {
     "name": "stdout",
     "output_type": "stream",
     "text": [
      "Epoch:112/1000.. Train Loss: 0.071.. Val Loss: 0.091.. Test Loss: 0.094.. Time: 0.03m\n"
     ]
    },
    {
     "name": "stderr",
     "output_type": "stream",
     "text": [
      "100%|██████████| 107/107 [00:01<00:00, 62.80it/s]\n",
      "100%|██████████| 18/18 [00:00<00:00, 247.80it/s]\n",
      "100%|██████████| 53/53 [00:00<00:00, 285.80it/s]\n"
     ]
    },
    {
     "name": "stdout",
     "output_type": "stream",
     "text": [
      "Loss Decreasing.. 0.090 >> 0.090 \n",
      "saving model...\n",
      "Epoch:113/1000.. Train Loss: 0.065.. Val Loss: 0.090.. Test Loss: 0.092.. Time: 0.03m\n"
     ]
    },
    {
     "name": "stderr",
     "output_type": "stream",
     "text": [
      "100%|██████████| 107/107 [00:01<00:00, 60.72it/s]\n",
      "100%|██████████| 18/18 [00:00<00:00, 275.98it/s]\n",
      "100%|██████████| 53/53 [00:00<00:00, 284.02it/s]\n"
     ]
    },
    {
     "name": "stdout",
     "output_type": "stream",
     "text": [
      "Epoch:114/1000.. Train Loss: 0.067.. Val Loss: 0.097.. Test Loss: 0.094.. Time: 0.03m\n"
     ]
    },
    {
     "name": "stderr",
     "output_type": "stream",
     "text": [
      "100%|██████████| 107/107 [00:01<00:00, 64.48it/s]\n",
      "100%|██████████| 18/18 [00:00<00:00, 297.13it/s]\n",
      "100%|██████████| 53/53 [00:00<00:00, 288.53it/s]\n"
     ]
    },
    {
     "name": "stdout",
     "output_type": "stream",
     "text": [
      "Epoch:115/1000.. Train Loss: 0.078.. Val Loss: 0.091.. Test Loss: 0.093.. Time: 0.03m\n"
     ]
    },
    {
     "name": "stderr",
     "output_type": "stream",
     "text": [
      "100%|██████████| 107/107 [00:01<00:00, 65.52it/s]\n",
      "100%|██████████| 18/18 [00:00<00:00, 282.04it/s]\n",
      "100%|██████████| 53/53 [00:00<00:00, 280.23it/s]\n"
     ]
    },
    {
     "name": "stdout",
     "output_type": "stream",
     "text": [
      "Epoch:116/1000.. Train Loss: 0.081.. Val Loss: 0.105.. Test Loss: 0.091.. Time: 0.03m\n"
     ]
    },
    {
     "name": "stderr",
     "output_type": "stream",
     "text": [
      "100%|██████████| 107/107 [00:01<00:00, 64.25it/s]\n",
      "100%|██████████| 18/18 [00:00<00:00, 283.62it/s]\n",
      "100%|██████████| 53/53 [00:00<00:00, 286.06it/s]\n"
     ]
    },
    {
     "name": "stdout",
     "output_type": "stream",
     "text": [
      "Epoch:117/1000.. Train Loss: 0.069.. Val Loss: 0.094.. Test Loss: 0.092.. Time: 0.03m\n"
     ]
    },
    {
     "name": "stderr",
     "output_type": "stream",
     "text": [
      "100%|██████████| 107/107 [00:01<00:00, 65.61it/s]\n",
      "100%|██████████| 18/18 [00:00<00:00, 282.69it/s]\n",
      "100%|██████████| 53/53 [00:00<00:00, 287.23it/s]\n"
     ]
    },
    {
     "name": "stdout",
     "output_type": "stream",
     "text": [
      "Epoch:118/1000.. Train Loss: 0.065.. Val Loss: 0.095.. Test Loss: 0.086.. Time: 0.03m\n"
     ]
    },
    {
     "name": "stderr",
     "output_type": "stream",
     "text": [
      "100%|██████████| 107/107 [00:01<00:00, 65.60it/s]\n",
      "100%|██████████| 18/18 [00:00<00:00, 286.88it/s]\n",
      "100%|██████████| 53/53 [00:00<00:00, 284.00it/s]\n"
     ]
    },
    {
     "name": "stdout",
     "output_type": "stream",
     "text": [
      "Epoch:119/1000.. Train Loss: 0.066.. Val Loss: 0.094.. Test Loss: 0.094.. Time: 0.03m\n"
     ]
    },
    {
     "name": "stderr",
     "output_type": "stream",
     "text": [
      "100%|██████████| 107/107 [00:01<00:00, 70.37it/s]\n",
      "100%|██████████| 18/18 [00:00<00:00, 288.43it/s]\n",
      "100%|██████████| 53/53 [00:00<00:00, 284.05it/s]\n"
     ]
    },
    {
     "name": "stdout",
     "output_type": "stream",
     "text": [
      "Epoch:120/1000.. Train Loss: 0.071.. Val Loss: 0.094.. Test Loss: 0.088.. Time: 0.03m\n"
     ]
    },
    {
     "name": "stderr",
     "output_type": "stream",
     "text": [
      "100%|██████████| 107/107 [00:01<00:00, 71.48it/s]\n",
      "100%|██████████| 18/18 [00:00<00:00, 296.45it/s]\n",
      "100%|██████████| 53/53 [00:00<00:00, 285.33it/s]\n"
     ]
    },
    {
     "name": "stdout",
     "output_type": "stream",
     "text": [
      "Epoch:121/1000.. Train Loss: 0.065.. Val Loss: 0.093.. Test Loss: 0.094.. Time: 0.03m\n"
     ]
    },
    {
     "name": "stderr",
     "output_type": "stream",
     "text": [
      "100%|██████████| 107/107 [00:01<00:00, 63.21it/s]\n",
      "100%|██████████| 18/18 [00:00<00:00, 281.50it/s]\n",
      "100%|██████████| 53/53 [00:00<00:00, 282.63it/s]\n"
     ]
    },
    {
     "name": "stdout",
     "output_type": "stream",
     "text": [
      "Epoch:122/1000.. Train Loss: 0.070.. Val Loss: 0.098.. Test Loss: 0.092.. Time: 0.03m\n"
     ]
    },
    {
     "name": "stderr",
     "output_type": "stream",
     "text": [
      "100%|██████████| 107/107 [00:01<00:00, 62.88it/s]\n",
      "100%|██████████| 18/18 [00:00<00:00, 276.92it/s]\n",
      "100%|██████████| 53/53 [00:00<00:00, 278.98it/s]\n"
     ]
    },
    {
     "name": "stdout",
     "output_type": "stream",
     "text": [
      "Epoch:123/1000.. Train Loss: 0.066.. Val Loss: 0.093.. Test Loss: 0.093.. Time: 0.03m\n"
     ]
    },
    {
     "name": "stderr",
     "output_type": "stream",
     "text": [
      "100%|██████████| 107/107 [00:01<00:00, 68.92it/s]\n",
      "100%|██████████| 18/18 [00:00<00:00, 324.48it/s]\n",
      "100%|██████████| 53/53 [00:00<00:00, 325.35it/s]\n"
     ]
    },
    {
     "name": "stdout",
     "output_type": "stream",
     "text": [
      "Epoch:124/1000.. Train Loss: 0.068.. Val Loss: 0.094.. Test Loss: 0.092.. Time: 0.03m\n"
     ]
    },
    {
     "name": "stderr",
     "output_type": "stream",
     "text": [
      "100%|██████████| 107/107 [00:01<00:00, 71.72it/s]\n",
      "100%|██████████| 18/18 [00:00<00:00, 331.39it/s]\n",
      "100%|██████████| 53/53 [00:00<00:00, 322.37it/s]\n"
     ]
    },
    {
     "name": "stdout",
     "output_type": "stream",
     "text": [
      "Epoch:125/1000.. Train Loss: 0.062.. Val Loss: 0.094.. Test Loss: 0.085.. Time: 0.03m\n"
     ]
    },
    {
     "name": "stderr",
     "output_type": "stream",
     "text": [
      "100%|██████████| 107/107 [00:01<00:00, 64.01it/s]\n",
      "100%|██████████| 18/18 [00:00<00:00, 323.62it/s]\n",
      "100%|██████████| 53/53 [00:00<00:00, 325.93it/s]\n"
     ]
    },
    {
     "name": "stdout",
     "output_type": "stream",
     "text": [
      "Epoch:126/1000.. Train Loss: 0.073.. Val Loss: 0.094.. Test Loss: 0.086.. Time: 0.03m\n"
     ]
    },
    {
     "name": "stderr",
     "output_type": "stream",
     "text": [
      "100%|██████████| 107/107 [00:01<00:00, 62.23it/s]\n",
      "100%|██████████| 18/18 [00:00<00:00, 335.07it/s]\n",
      "100%|██████████| 53/53 [00:00<00:00, 330.44it/s]\n"
     ]
    },
    {
     "name": "stdout",
     "output_type": "stream",
     "text": [
      "Epoch:127/1000.. Train Loss: 0.065.. Val Loss: 0.099.. Test Loss: 0.093.. Time: 0.03m\n"
     ]
    },
    {
     "name": "stderr",
     "output_type": "stream",
     "text": [
      "100%|██████████| 107/107 [00:01<00:00, 73.47it/s]\n",
      "100%|██████████| 18/18 [00:00<00:00, 329.19it/s]\n",
      "100%|██████████| 53/53 [00:00<00:00, 270.27it/s]\n"
     ]
    },
    {
     "name": "stdout",
     "output_type": "stream",
     "text": [
      "Epoch:128/1000.. Train Loss: 0.067.. Val Loss: 0.099.. Test Loss: 0.093.. Time: 0.03m\n"
     ]
    },
    {
     "name": "stderr",
     "output_type": "stream",
     "text": [
      "100%|██████████| 107/107 [00:01<00:00, 62.55it/s]\n",
      "100%|██████████| 18/18 [00:00<00:00, 326.71it/s]\n",
      "100%|██████████| 53/53 [00:00<00:00, 324.79it/s]\n"
     ]
    },
    {
     "name": "stdout",
     "output_type": "stream",
     "text": [
      "Epoch:129/1000.. Train Loss: 0.069.. Val Loss: 0.098.. Test Loss: 0.096.. Time: 0.03m\n"
     ]
    },
    {
     "name": "stderr",
     "output_type": "stream",
     "text": [
      "100%|██████████| 107/107 [00:01<00:00, 61.27it/s]\n",
      "100%|██████████| 18/18 [00:00<00:00, 277.96it/s]\n",
      "100%|██████████| 53/53 [00:00<00:00, 284.84it/s]\n"
     ]
    },
    {
     "name": "stdout",
     "output_type": "stream",
     "text": [
      "Epoch:130/1000.. Train Loss: 0.071.. Val Loss: 0.100.. Test Loss: 0.091.. Time: 0.03m\n"
     ]
    },
    {
     "name": "stderr",
     "output_type": "stream",
     "text": [
      "100%|██████████| 107/107 [00:01<00:00, 62.51it/s]\n",
      "100%|██████████| 18/18 [00:00<00:00, 287.24it/s]\n",
      "100%|██████████| 53/53 [00:00<00:00, 292.96it/s]\n"
     ]
    },
    {
     "name": "stdout",
     "output_type": "stream",
     "text": [
      "Epoch:131/1000.. Train Loss: 0.063.. Val Loss: 0.097.. Test Loss: 0.098.. Time: 0.03m\n"
     ]
    },
    {
     "name": "stderr",
     "output_type": "stream",
     "text": [
      "100%|██████████| 107/107 [00:01<00:00, 63.70it/s]\n",
      "100%|██████████| 18/18 [00:00<00:00, 293.22it/s]\n",
      "100%|██████████| 53/53 [00:00<00:00, 288.47it/s]\n"
     ]
    },
    {
     "name": "stdout",
     "output_type": "stream",
     "text": [
      "Epoch:132/1000.. Train Loss: 0.065.. Val Loss: 0.094.. Test Loss: 0.093.. Time: 0.03m\n"
     ]
    },
    {
     "name": "stderr",
     "output_type": "stream",
     "text": [
      "100%|██████████| 107/107 [00:01<00:00, 62.69it/s]\n",
      "100%|██████████| 18/18 [00:00<00:00, 282.68it/s]\n",
      "100%|██████████| 53/53 [00:00<00:00, 284.89it/s]\n"
     ]
    },
    {
     "name": "stdout",
     "output_type": "stream",
     "text": [
      "Epoch:133/1000.. Train Loss: 0.068.. Val Loss: 0.098.. Test Loss: 0.094.. Time: 0.03m\n"
     ]
    },
    {
     "name": "stderr",
     "output_type": "stream",
     "text": [
      "100%|██████████| 107/107 [00:01<00:00, 60.09it/s]\n",
      "100%|██████████| 18/18 [00:00<00:00, 293.35it/s]\n",
      "100%|██████████| 53/53 [00:00<00:00, 287.85it/s]\n"
     ]
    },
    {
     "name": "stdout",
     "output_type": "stream",
     "text": [
      "Epoch:134/1000.. Train Loss: 0.068.. Val Loss: 0.098.. Test Loss: 0.094.. Time: 0.03m\n"
     ]
    },
    {
     "name": "stderr",
     "output_type": "stream",
     "text": [
      "100%|██████████| 107/107 [00:01<00:00, 65.16it/s]\n",
      "100%|██████████| 18/18 [00:00<00:00, 284.82it/s]\n",
      "100%|██████████| 53/53 [00:00<00:00, 296.32it/s]\n"
     ]
    },
    {
     "name": "stdout",
     "output_type": "stream",
     "text": [
      "Epoch:135/1000.. Train Loss: 0.059.. Val Loss: 0.094.. Test Loss: 0.088.. Time: 0.03m\n"
     ]
    },
    {
     "name": "stderr",
     "output_type": "stream",
     "text": [
      "100%|██████████| 107/107 [00:01<00:00, 62.09it/s]\n",
      "100%|██████████| 18/18 [00:00<00:00, 296.73it/s]\n",
      "100%|██████████| 53/53 [00:00<00:00, 294.26it/s]\n"
     ]
    },
    {
     "name": "stdout",
     "output_type": "stream",
     "text": [
      "Epoch:136/1000.. Train Loss: 0.067.. Val Loss: 0.122.. Test Loss: 0.094.. Time: 0.03m\n"
     ]
    },
    {
     "name": "stderr",
     "output_type": "stream",
     "text": [
      "100%|██████████| 107/107 [00:01<00:00, 65.72it/s]\n",
      "100%|██████████| 18/18 [00:00<00:00, 284.19it/s]\n",
      "100%|██████████| 53/53 [00:00<00:00, 289.40it/s]\n"
     ]
    },
    {
     "name": "stdout",
     "output_type": "stream",
     "text": [
      "Epoch:137/1000.. Train Loss: 0.058.. Val Loss: 0.095.. Test Loss: 0.091.. Time: 0.03m\n"
     ]
    },
    {
     "name": "stderr",
     "output_type": "stream",
     "text": [
      "100%|██████████| 107/107 [00:01<00:00, 66.37it/s]\n",
      "100%|██████████| 18/18 [00:00<00:00, 282.91it/s]\n",
      "100%|██████████| 53/53 [00:00<00:00, 282.05it/s]\n"
     ]
    },
    {
     "name": "stdout",
     "output_type": "stream",
     "text": [
      "Epoch:138/1000.. Train Loss: 0.060.. Val Loss: 0.096.. Test Loss: 0.095.. Time: 0.03m\n"
     ]
    },
    {
     "name": "stderr",
     "output_type": "stream",
     "text": [
      "100%|██████████| 107/107 [00:01<00:00, 64.68it/s]\n",
      "100%|██████████| 18/18 [00:00<00:00, 284.31it/s]\n",
      "100%|██████████| 53/53 [00:00<00:00, 286.12it/s]\n"
     ]
    },
    {
     "name": "stdout",
     "output_type": "stream",
     "text": [
      "Epoch:139/1000.. Train Loss: 0.065.. Val Loss: 0.101.. Test Loss: 0.092.. Time: 0.03m\n"
     ]
    },
    {
     "name": "stderr",
     "output_type": "stream",
     "text": [
      "100%|██████████| 107/107 [00:01<00:00, 65.41it/s]\n",
      "100%|██████████| 18/18 [00:00<00:00, 285.49it/s]\n",
      "100%|██████████| 53/53 [00:00<00:00, 289.34it/s]\n"
     ]
    },
    {
     "name": "stdout",
     "output_type": "stream",
     "text": [
      "Epoch:140/1000.. Train Loss: 0.064.. Val Loss: 0.098.. Test Loss: 0.085.. Time: 0.03m\n"
     ]
    },
    {
     "name": "stderr",
     "output_type": "stream",
     "text": [
      "100%|██████████| 107/107 [00:01<00:00, 64.37it/s]\n",
      "100%|██████████| 18/18 [00:00<00:00, 334.96it/s]\n",
      "100%|██████████| 53/53 [00:00<00:00, 291.88it/s]\n"
     ]
    },
    {
     "name": "stdout",
     "output_type": "stream",
     "text": [
      "Epoch:141/1000.. Train Loss: 0.065.. Val Loss: 0.098.. Test Loss: 0.089.. Time: 0.03m\n"
     ]
    },
    {
     "name": "stderr",
     "output_type": "stream",
     "text": [
      "100%|██████████| 107/107 [00:01<00:00, 65.30it/s]\n",
      "100%|██████████| 18/18 [00:00<00:00, 294.53it/s]\n",
      "100%|██████████| 53/53 [00:00<00:00, 271.67it/s]\n"
     ]
    },
    {
     "name": "stdout",
     "output_type": "stream",
     "text": [
      "Epoch:142/1000.. Train Loss: 0.062.. Val Loss: 0.102.. Test Loss: 0.088.. Time: 0.03m\n"
     ]
    },
    {
     "name": "stderr",
     "output_type": "stream",
     "text": [
      "100%|██████████| 107/107 [00:01<00:00, 66.89it/s]\n",
      "100%|██████████| 18/18 [00:00<00:00, 276.71it/s]\n",
      "100%|██████████| 53/53 [00:00<00:00, 291.73it/s]\n"
     ]
    },
    {
     "name": "stdout",
     "output_type": "stream",
     "text": [
      "Epoch:143/1000.. Train Loss: 0.059.. Val Loss: 0.100.. Test Loss: 0.093.. Time: 0.03m\n"
     ]
    },
    {
     "name": "stderr",
     "output_type": "stream",
     "text": [
      "100%|██████████| 107/107 [00:01<00:00, 58.67it/s]\n",
      "100%|██████████| 18/18 [00:00<00:00, 295.47it/s]\n",
      "100%|██████████| 53/53 [00:00<00:00, 286.44it/s]\n"
     ]
    },
    {
     "name": "stdout",
     "output_type": "stream",
     "text": [
      "Epoch:144/1000.. Train Loss: 0.059.. Val Loss: 0.104.. Test Loss: 0.094.. Time: 0.03m\n"
     ]
    },
    {
     "name": "stderr",
     "output_type": "stream",
     "text": [
      "100%|██████████| 107/107 [00:01<00:00, 59.82it/s]\n",
      "100%|██████████| 18/18 [00:00<00:00, 235.05it/s]\n",
      "100%|██████████| 53/53 [00:00<00:00, 280.09it/s]\n"
     ]
    },
    {
     "name": "stdout",
     "output_type": "stream",
     "text": [
      "Epoch:145/1000.. Train Loss: 0.059.. Val Loss: 0.100.. Test Loss: 0.088.. Time: 0.03m\n"
     ]
    },
    {
     "name": "stderr",
     "output_type": "stream",
     "text": [
      "100%|██████████| 107/107 [00:01<00:00, 65.65it/s]\n",
      "100%|██████████| 18/18 [00:00<00:00, 281.64it/s]\n",
      "100%|██████████| 53/53 [00:00<00:00, 288.38it/s]\n"
     ]
    },
    {
     "name": "stdout",
     "output_type": "stream",
     "text": [
      "Epoch:146/1000.. Train Loss: 0.057.. Val Loss: 0.098.. Test Loss: 0.087.. Time: 0.03m\n"
     ]
    },
    {
     "name": "stderr",
     "output_type": "stream",
     "text": [
      "100%|██████████| 107/107 [00:01<00:00, 58.96it/s]\n",
      "100%|██████████| 18/18 [00:00<00:00, 245.33it/s]\n",
      "100%|██████████| 53/53 [00:00<00:00, 258.65it/s]\n"
     ]
    },
    {
     "name": "stdout",
     "output_type": "stream",
     "text": [
      "Epoch:147/1000.. Train Loss: 0.069.. Val Loss: 0.099.. Test Loss: 0.091.. Time: 0.04m\n"
     ]
    },
    {
     "name": "stderr",
     "output_type": "stream",
     "text": [
      "100%|██████████| 107/107 [00:01<00:00, 59.08it/s]\n",
      "100%|██████████| 18/18 [00:00<00:00, 219.74it/s]\n",
      "100%|██████████| 53/53 [00:00<00:00, 278.18it/s]\n"
     ]
    },
    {
     "name": "stdout",
     "output_type": "stream",
     "text": [
      "Epoch:148/1000.. Train Loss: 0.059.. Val Loss: 0.103.. Test Loss: 0.094.. Time: 0.03m\n"
     ]
    },
    {
     "name": "stderr",
     "output_type": "stream",
     "text": [
      "100%|██████████| 107/107 [00:01<00:00, 58.25it/s]\n",
      "100%|██████████| 18/18 [00:00<00:00, 216.15it/s]\n",
      "100%|██████████| 53/53 [00:00<00:00, 259.68it/s]\n"
     ]
    },
    {
     "name": "stdout",
     "output_type": "stream",
     "text": [
      "Epoch:149/1000.. Train Loss: 0.065.. Val Loss: 0.105.. Test Loss: 0.096.. Time: 0.04m\n"
     ]
    },
    {
     "name": "stderr",
     "output_type": "stream",
     "text": [
      "100%|██████████| 107/107 [00:01<00:00, 60.37it/s]\n",
      "100%|██████████| 18/18 [00:00<00:00, 235.22it/s]\n",
      "100%|██████████| 53/53 [00:00<00:00, 257.55it/s]\n"
     ]
    },
    {
     "name": "stdout",
     "output_type": "stream",
     "text": [
      "Epoch:150/1000.. Train Loss: 0.056.. Val Loss: 0.100.. Test Loss: 0.092.. Time: 0.03m\n"
     ]
    },
    {
     "name": "stderr",
     "output_type": "stream",
     "text": [
      "100%|██████████| 107/107 [00:01<00:00, 60.06it/s]\n",
      "100%|██████████| 18/18 [00:00<00:00, 281.35it/s]\n",
      "100%|██████████| 53/53 [00:00<00:00, 283.41it/s]\n"
     ]
    },
    {
     "name": "stdout",
     "output_type": "stream",
     "text": [
      "Epoch:151/1000.. Train Loss: 0.056.. Val Loss: 0.101.. Test Loss: 0.091.. Time: 0.03m\n"
     ]
    },
    {
     "name": "stderr",
     "output_type": "stream",
     "text": [
      "100%|██████████| 107/107 [00:01<00:00, 60.48it/s]\n",
      "100%|██████████| 18/18 [00:00<00:00, 243.41it/s]\n",
      "100%|██████████| 53/53 [00:00<00:00, 285.35it/s]\n"
     ]
    },
    {
     "name": "stdout",
     "output_type": "stream",
     "text": [
      "Epoch:152/1000.. Train Loss: 0.062.. Val Loss: 0.110.. Test Loss: 0.100.. Time: 0.03m\n"
     ]
    },
    {
     "name": "stderr",
     "output_type": "stream",
     "text": [
      "100%|██████████| 107/107 [00:01<00:00, 65.77it/s]\n",
      "100%|██████████| 18/18 [00:00<00:00, 278.54it/s]\n",
      "100%|██████████| 53/53 [00:00<00:00, 280.68it/s]\n"
     ]
    },
    {
     "name": "stdout",
     "output_type": "stream",
     "text": [
      "Epoch:153/1000.. Train Loss: 0.055.. Val Loss: 0.111.. Test Loss: 0.097.. Time: 0.03m\n"
     ]
    },
    {
     "name": "stderr",
     "output_type": "stream",
     "text": [
      "100%|██████████| 107/107 [00:01<00:00, 61.07it/s]\n",
      "100%|██████████| 18/18 [00:00<00:00, 267.85it/s]\n",
      "100%|██████████| 53/53 [00:00<00:00, 264.21it/s]\n"
     ]
    },
    {
     "name": "stdout",
     "output_type": "stream",
     "text": [
      "Epoch:154/1000.. Train Loss: 0.053.. Val Loss: 0.105.. Test Loss: 0.094.. Time: 0.03m\n"
     ]
    },
    {
     "name": "stderr",
     "output_type": "stream",
     "text": [
      "100%|██████████| 107/107 [00:01<00:00, 63.78it/s]\n",
      "100%|██████████| 18/18 [00:00<00:00, 288.57it/s]\n",
      "100%|██████████| 53/53 [00:00<00:00, 285.68it/s]\n"
     ]
    },
    {
     "name": "stdout",
     "output_type": "stream",
     "text": [
      "Epoch:155/1000.. Train Loss: 0.064.. Val Loss: 0.123.. Test Loss: 0.092.. Time: 0.03m\n"
     ]
    },
    {
     "name": "stderr",
     "output_type": "stream",
     "text": [
      "100%|██████████| 107/107 [00:01<00:00, 71.67it/s]\n",
      "100%|██████████| 18/18 [00:00<00:00, 283.61it/s]\n",
      "100%|██████████| 53/53 [00:00<00:00, 295.32it/s]\n"
     ]
    },
    {
     "name": "stdout",
     "output_type": "stream",
     "text": [
      "Epoch:156/1000.. Train Loss: 0.051.. Val Loss: 0.109.. Test Loss: 0.092.. Time: 0.03m\n"
     ]
    },
    {
     "name": "stderr",
     "output_type": "stream",
     "text": [
      "100%|██████████| 107/107 [00:01<00:00, 63.29it/s]\n",
      "100%|██████████| 18/18 [00:00<00:00, 275.97it/s]\n",
      "100%|██████████| 53/53 [00:00<00:00, 286.08it/s]\n"
     ]
    },
    {
     "name": "stdout",
     "output_type": "stream",
     "text": [
      "Epoch:157/1000.. Train Loss: 0.058.. Val Loss: 0.115.. Test Loss: 0.092.. Time: 0.03m\n"
     ]
    },
    {
     "name": "stderr",
     "output_type": "stream",
     "text": [
      "100%|██████████| 107/107 [00:01<00:00, 62.40it/s]\n",
      "100%|██████████| 18/18 [00:00<00:00, 292.69it/s]\n",
      "100%|██████████| 53/53 [00:00<00:00, 285.79it/s]\n"
     ]
    },
    {
     "name": "stdout",
     "output_type": "stream",
     "text": [
      "Epoch:158/1000.. Train Loss: 0.058.. Val Loss: 0.116.. Test Loss: 0.090.. Time: 0.03m\n"
     ]
    },
    {
     "name": "stderr",
     "output_type": "stream",
     "text": [
      "100%|██████████| 107/107 [00:01<00:00, 60.84it/s]\n",
      "100%|██████████| 18/18 [00:00<00:00, 282.96it/s]\n",
      "100%|██████████| 53/53 [00:00<00:00, 274.96it/s]\n"
     ]
    },
    {
     "name": "stdout",
     "output_type": "stream",
     "text": [
      "Epoch:159/1000.. Train Loss: 0.056.. Val Loss: 0.110.. Test Loss: 0.090.. Time: 0.03m\n"
     ]
    },
    {
     "name": "stderr",
     "output_type": "stream",
     "text": [
      "100%|██████████| 107/107 [00:01<00:00, 63.16it/s]\n",
      "100%|██████████| 18/18 [00:00<00:00, 289.18it/s]\n",
      "100%|██████████| 53/53 [00:00<00:00, 289.04it/s]\n"
     ]
    },
    {
     "name": "stdout",
     "output_type": "stream",
     "text": [
      "Epoch:160/1000.. Train Loss: 0.054.. Val Loss: 0.115.. Test Loss: 0.099.. Time: 0.03m\n"
     ]
    },
    {
     "name": "stderr",
     "output_type": "stream",
     "text": [
      "100%|██████████| 107/107 [00:01<00:00, 66.05it/s]\n",
      "100%|██████████| 18/18 [00:00<00:00, 277.53it/s]\n",
      "100%|██████████| 53/53 [00:00<00:00, 284.97it/s]\n"
     ]
    },
    {
     "name": "stdout",
     "output_type": "stream",
     "text": [
      "Epoch:161/1000.. Train Loss: 0.057.. Val Loss: 0.118.. Test Loss: 0.094.. Time: 0.03m\n"
     ]
    },
    {
     "name": "stderr",
     "output_type": "stream",
     "text": [
      "100%|██████████| 107/107 [00:01<00:00, 64.49it/s]\n",
      "100%|██████████| 18/18 [00:00<00:00, 280.01it/s]\n",
      "100%|██████████| 53/53 [00:00<00:00, 277.63it/s]\n"
     ]
    },
    {
     "name": "stdout",
     "output_type": "stream",
     "text": [
      "Epoch:162/1000.. Train Loss: 0.057.. Val Loss: 0.129.. Test Loss: 0.090.. Time: 0.03m\n"
     ]
    },
    {
     "name": "stderr",
     "output_type": "stream",
     "text": [
      "100%|██████████| 107/107 [00:01<00:00, 63.44it/s]\n",
      "100%|██████████| 18/18 [00:00<00:00, 245.68it/s]\n",
      "100%|██████████| 53/53 [00:00<00:00, 225.51it/s]\n"
     ]
    },
    {
     "name": "stdout",
     "output_type": "stream",
     "text": [
      "Epoch:163/1000.. Train Loss: 0.052.. Val Loss: 0.128.. Test Loss: 0.088.. Time: 0.03m\n"
     ]
    },
    {
     "name": "stderr",
     "output_type": "stream",
     "text": [
      "100%|██████████| 107/107 [00:01<00:00, 62.36it/s]\n",
      "100%|██████████| 18/18 [00:00<00:00, 283.94it/s]\n",
      "100%|██████████| 53/53 [00:00<00:00, 289.43it/s]\n"
     ]
    },
    {
     "name": "stdout",
     "output_type": "stream",
     "text": [
      "Epoch:164/1000.. Train Loss: 0.058.. Val Loss: 0.112.. Test Loss: 0.096.. Time: 0.03m\n"
     ]
    },
    {
     "name": "stderr",
     "output_type": "stream",
     "text": [
      "100%|██████████| 107/107 [00:01<00:00, 64.53it/s]\n",
      "100%|██████████| 18/18 [00:00<00:00, 289.75it/s]\n",
      "100%|██████████| 53/53 [00:00<00:00, 274.64it/s]\n"
     ]
    },
    {
     "name": "stdout",
     "output_type": "stream",
     "text": [
      "Epoch:165/1000.. Train Loss: 0.063.. Val Loss: 0.114.. Test Loss: 0.095.. Time: 0.03m\n"
     ]
    },
    {
     "name": "stderr",
     "output_type": "stream",
     "text": [
      "100%|██████████| 107/107 [00:01<00:00, 64.50it/s]\n",
      "100%|██████████| 18/18 [00:00<00:00, 289.80it/s]\n",
      "100%|██████████| 53/53 [00:00<00:00, 278.11it/s]\n"
     ]
    },
    {
     "name": "stdout",
     "output_type": "stream",
     "text": [
      "Epoch:166/1000.. Train Loss: 0.054.. Val Loss: 0.118.. Test Loss: 0.102.. Time: 0.03m\n"
     ]
    },
    {
     "name": "stderr",
     "output_type": "stream",
     "text": [
      "100%|██████████| 107/107 [00:01<00:00, 60.57it/s]\n",
      "100%|██████████| 18/18 [00:00<00:00, 281.37it/s]\n",
      "100%|██████████| 53/53 [00:00<00:00, 284.12it/s]\n"
     ]
    },
    {
     "name": "stdout",
     "output_type": "stream",
     "text": [
      "Epoch:167/1000.. Train Loss: 0.054.. Val Loss: 0.128.. Test Loss: 0.099.. Time: 0.03m\n"
     ]
    },
    {
     "name": "stderr",
     "output_type": "stream",
     "text": [
      "100%|██████████| 107/107 [00:01<00:00, 64.72it/s]\n",
      "100%|██████████| 18/18 [00:00<00:00, 286.51it/s]\n",
      "100%|██████████| 53/53 [00:00<00:00, 286.19it/s]\n"
     ]
    },
    {
     "name": "stdout",
     "output_type": "stream",
     "text": [
      "Epoch:168/1000.. Train Loss: 0.051.. Val Loss: 0.113.. Test Loss: 0.091.. Time: 0.03m\n"
     ]
    },
    {
     "name": "stderr",
     "output_type": "stream",
     "text": [
      "100%|██████████| 107/107 [00:01<00:00, 65.54it/s]\n",
      "100%|██████████| 18/18 [00:00<00:00, 280.32it/s]\n",
      "100%|██████████| 53/53 [00:00<00:00, 294.86it/s]\n"
     ]
    },
    {
     "name": "stdout",
     "output_type": "stream",
     "text": [
      "Epoch:169/1000.. Train Loss: 0.054.. Val Loss: 0.115.. Test Loss: 0.090.. Time: 0.03m\n"
     ]
    },
    {
     "name": "stderr",
     "output_type": "stream",
     "text": [
      "100%|██████████| 107/107 [00:01<00:00, 63.40it/s]\n",
      "100%|██████████| 18/18 [00:00<00:00, 274.65it/s]\n",
      "100%|██████████| 53/53 [00:00<00:00, 274.15it/s]\n"
     ]
    },
    {
     "name": "stdout",
     "output_type": "stream",
     "text": [
      "Epoch:170/1000.. Train Loss: 0.053.. Val Loss: 0.135.. Test Loss: 0.089.. Time: 0.03m\n"
     ]
    },
    {
     "name": "stderr",
     "output_type": "stream",
     "text": [
      "100%|██████████| 107/107 [00:01<00:00, 60.57it/s]\n",
      "100%|██████████| 18/18 [00:00<00:00, 296.46it/s]\n",
      "100%|██████████| 53/53 [00:00<00:00, 284.85it/s]\n"
     ]
    },
    {
     "name": "stdout",
     "output_type": "stream",
     "text": [
      "Epoch:171/1000.. Train Loss: 0.053.. Val Loss: 0.124.. Test Loss: 0.092.. Time: 0.03m\n"
     ]
    },
    {
     "name": "stderr",
     "output_type": "stream",
     "text": [
      "100%|██████████| 107/107 [00:01<00:00, 64.76it/s]\n",
      "100%|██████████| 18/18 [00:00<00:00, 292.13it/s]\n",
      "100%|██████████| 53/53 [00:00<00:00, 285.48it/s]\n"
     ]
    },
    {
     "name": "stdout",
     "output_type": "stream",
     "text": [
      "Epoch:172/1000.. Train Loss: 0.051.. Val Loss: 0.127.. Test Loss: 0.099.. Time: 0.03m\n"
     ]
    },
    {
     "name": "stderr",
     "output_type": "stream",
     "text": [
      "100%|██████████| 107/107 [00:01<00:00, 62.49it/s]\n",
      "100%|██████████| 18/18 [00:00<00:00, 267.86it/s]\n",
      "100%|██████████| 53/53 [00:00<00:00, 287.71it/s]\n"
     ]
    },
    {
     "name": "stdout",
     "output_type": "stream",
     "text": [
      "Epoch:173/1000.. Train Loss: 0.050.. Val Loss: 0.125.. Test Loss: 0.096.. Time: 0.03m\n"
     ]
    },
    {
     "name": "stderr",
     "output_type": "stream",
     "text": [
      "100%|██████████| 107/107 [00:01<00:00, 65.29it/s]\n",
      "100%|██████████| 18/18 [00:00<00:00, 307.23it/s]\n",
      "100%|██████████| 53/53 [00:00<00:00, 285.34it/s]\n"
     ]
    },
    {
     "name": "stdout",
     "output_type": "stream",
     "text": [
      "Epoch:174/1000.. Train Loss: 0.048.. Val Loss: 0.150.. Test Loss: 0.087.. Time: 0.03m\n"
     ]
    },
    {
     "name": "stderr",
     "output_type": "stream",
     "text": [
      "100%|██████████| 107/107 [00:01<00:00, 62.21it/s]\n",
      "100%|██████████| 18/18 [00:00<00:00, 233.10it/s]\n",
      "100%|██████████| 53/53 [00:00<00:00, 236.25it/s]\n"
     ]
    },
    {
     "name": "stdout",
     "output_type": "stream",
     "text": [
      "Epoch:175/1000.. Train Loss: 0.054.. Val Loss: 0.120.. Test Loss: 0.086.. Time: 0.03m\n"
     ]
    },
    {
     "name": "stderr",
     "output_type": "stream",
     "text": [
      "100%|██████████| 107/107 [00:01<00:00, 66.04it/s]\n",
      "100%|██████████| 18/18 [00:00<00:00, 290.56it/s]\n",
      "100%|██████████| 53/53 [00:00<00:00, 293.98it/s]\n"
     ]
    },
    {
     "name": "stdout",
     "output_type": "stream",
     "text": [
      "Epoch:176/1000.. Train Loss: 0.057.. Val Loss: 0.123.. Test Loss: 0.088.. Time: 0.03m\n"
     ]
    },
    {
     "name": "stderr",
     "output_type": "stream",
     "text": [
      "100%|██████████| 107/107 [00:01<00:00, 68.73it/s]\n",
      "100%|██████████| 18/18 [00:00<00:00, 290.32it/s]\n",
      "100%|██████████| 53/53 [00:00<00:00, 287.54it/s]\n"
     ]
    },
    {
     "name": "stdout",
     "output_type": "stream",
     "text": [
      "Epoch:177/1000.. Train Loss: 0.050.. Val Loss: 0.128.. Test Loss: 0.089.. Time: 0.03m\n"
     ]
    },
    {
     "name": "stderr",
     "output_type": "stream",
     "text": [
      "100%|██████████| 107/107 [00:01<00:00, 65.23it/s]\n",
      "100%|██████████| 18/18 [00:00<00:00, 266.04it/s]\n",
      "100%|██████████| 53/53 [00:00<00:00, 279.27it/s]\n"
     ]
    },
    {
     "name": "stdout",
     "output_type": "stream",
     "text": [
      "Epoch:178/1000.. Train Loss: 0.048.. Val Loss: 0.127.. Test Loss: 0.087.. Time: 0.03m\n"
     ]
    },
    {
     "name": "stderr",
     "output_type": "stream",
     "text": [
      "100%|██████████| 107/107 [00:01<00:00, 64.55it/s]\n",
      "100%|██████████| 18/18 [00:00<00:00, 296.03it/s]\n",
      "100%|██████████| 53/53 [00:00<00:00, 290.96it/s]\n"
     ]
    },
    {
     "name": "stdout",
     "output_type": "stream",
     "text": [
      "Epoch:179/1000.. Train Loss: 0.052.. Val Loss: 0.129.. Test Loss: 0.090.. Time: 0.03m\n"
     ]
    },
    {
     "name": "stderr",
     "output_type": "stream",
     "text": [
      "100%|██████████| 107/107 [00:01<00:00, 64.15it/s]\n",
      "100%|██████████| 18/18 [00:00<00:00, 281.84it/s]\n",
      "100%|██████████| 53/53 [00:00<00:00, 287.39it/s]\n"
     ]
    },
    {
     "name": "stdout",
     "output_type": "stream",
     "text": [
      "Epoch:180/1000.. Train Loss: 0.044.. Val Loss: 0.138.. Test Loss: 0.106.. Time: 0.03m\n"
     ]
    },
    {
     "name": "stderr",
     "output_type": "stream",
     "text": [
      "100%|██████████| 107/107 [00:01<00:00, 66.15it/s]\n",
      "100%|██████████| 18/18 [00:00<00:00, 285.73it/s]\n",
      "100%|██████████| 53/53 [00:00<00:00, 289.15it/s]\n"
     ]
    },
    {
     "name": "stdout",
     "output_type": "stream",
     "text": [
      "Epoch:181/1000.. Train Loss: 0.051.. Val Loss: 0.130.. Test Loss: 0.103.. Time: 0.03m\n"
     ]
    },
    {
     "name": "stderr",
     "output_type": "stream",
     "text": [
      "100%|██████████| 107/107 [00:01<00:00, 60.05it/s]\n",
      "100%|██████████| 18/18 [00:00<00:00, 281.66it/s]\n",
      "100%|██████████| 53/53 [00:00<00:00, 289.95it/s]\n"
     ]
    },
    {
     "name": "stdout",
     "output_type": "stream",
     "text": [
      "Epoch:182/1000.. Train Loss: 0.050.. Val Loss: 0.134.. Test Loss: 0.105.. Time: 0.03m\n"
     ]
    },
    {
     "name": "stderr",
     "output_type": "stream",
     "text": [
      "100%|██████████| 107/107 [00:01<00:00, 66.11it/s]\n",
      "100%|██████████| 18/18 [00:00<00:00, 288.93it/s]\n",
      "100%|██████████| 53/53 [00:00<00:00, 284.73it/s]\n"
     ]
    },
    {
     "name": "stdout",
     "output_type": "stream",
     "text": [
      "Epoch:183/1000.. Train Loss: 0.052.. Val Loss: 0.127.. Test Loss: 0.096.. Time: 0.03m\n"
     ]
    },
    {
     "name": "stderr",
     "output_type": "stream",
     "text": [
      "100%|██████████| 107/107 [00:01<00:00, 64.07it/s]\n",
      "100%|██████████| 18/18 [00:00<00:00, 297.15it/s]\n",
      "100%|██████████| 53/53 [00:00<00:00, 287.90it/s]\n"
     ]
    },
    {
     "name": "stdout",
     "output_type": "stream",
     "text": [
      "Epoch:184/1000.. Train Loss: 0.047.. Val Loss: 0.130.. Test Loss: 0.093.. Time: 0.03m\n"
     ]
    },
    {
     "name": "stderr",
     "output_type": "stream",
     "text": [
      "100%|██████████| 107/107 [00:01<00:00, 58.39it/s]\n",
      "100%|██████████| 18/18 [00:00<00:00, 291.54it/s]\n",
      "100%|██████████| 53/53 [00:00<00:00, 290.34it/s]\n"
     ]
    },
    {
     "name": "stdout",
     "output_type": "stream",
     "text": [
      "Epoch:185/1000.. Train Loss: 0.052.. Val Loss: 0.126.. Test Loss: 0.093.. Time: 0.03m\n"
     ]
    },
    {
     "name": "stderr",
     "output_type": "stream",
     "text": [
      "100%|██████████| 107/107 [00:01<00:00, 64.61it/s]\n",
      "100%|██████████| 18/18 [00:00<00:00, 230.12it/s]\n",
      "100%|██████████| 53/53 [00:00<00:00, 283.75it/s]\n"
     ]
    },
    {
     "name": "stdout",
     "output_type": "stream",
     "text": [
      "Epoch:186/1000.. Train Loss: 0.055.. Val Loss: 0.123.. Test Loss: 0.087.. Time: 0.03m\n"
     ]
    },
    {
     "name": "stderr",
     "output_type": "stream",
     "text": [
      "100%|██████████| 107/107 [00:01<00:00, 61.47it/s]\n",
      "100%|██████████| 18/18 [00:00<00:00, 276.18it/s]\n",
      "100%|██████████| 53/53 [00:00<00:00, 278.94it/s]\n"
     ]
    },
    {
     "name": "stdout",
     "output_type": "stream",
     "text": [
      "Epoch:187/1000.. Train Loss: 0.050.. Val Loss: 0.129.. Test Loss: 0.093.. Time: 0.03m\n"
     ]
    },
    {
     "name": "stderr",
     "output_type": "stream",
     "text": [
      "100%|██████████| 107/107 [00:01<00:00, 58.78it/s]\n",
      "100%|██████████| 18/18 [00:00<00:00, 283.71it/s]\n",
      "100%|██████████| 53/53 [00:00<00:00, 236.48it/s]\n"
     ]
    },
    {
     "name": "stdout",
     "output_type": "stream",
     "text": [
      "Epoch:188/1000.. Train Loss: 0.049.. Val Loss: 0.129.. Test Loss: 0.097.. Time: 0.04m\n"
     ]
    },
    {
     "name": "stderr",
     "output_type": "stream",
     "text": [
      "100%|██████████| 107/107 [00:01<00:00, 61.92it/s]\n",
      "100%|██████████| 18/18 [00:00<00:00, 299.49it/s]\n",
      "100%|██████████| 53/53 [00:00<00:00, 286.37it/s]\n"
     ]
    },
    {
     "name": "stdout",
     "output_type": "stream",
     "text": [
      "Epoch:189/1000.. Train Loss: 0.049.. Val Loss: 0.119.. Test Loss: 0.094.. Time: 0.03m\n"
     ]
    },
    {
     "name": "stderr",
     "output_type": "stream",
     "text": [
      "100%|██████████| 107/107 [00:01<00:00, 65.59it/s]\n",
      "100%|██████████| 18/18 [00:00<00:00, 280.91it/s]\n",
      "100%|██████████| 53/53 [00:00<00:00, 290.66it/s]\n"
     ]
    },
    {
     "name": "stdout",
     "output_type": "stream",
     "text": [
      "Epoch:190/1000.. Train Loss: 0.053.. Val Loss: 0.124.. Test Loss: 0.099.. Time: 0.03m\n"
     ]
    },
    {
     "name": "stderr",
     "output_type": "stream",
     "text": [
      "100%|██████████| 107/107 [00:01<00:00, 64.25it/s]\n",
      "100%|██████████| 18/18 [00:00<00:00, 282.84it/s]\n",
      "100%|██████████| 53/53 [00:00<00:00, 317.37it/s]\n"
     ]
    },
    {
     "name": "stdout",
     "output_type": "stream",
     "text": [
      "Epoch:191/1000.. Train Loss: 0.044.. Val Loss: 0.123.. Test Loss: 0.099.. Time: 0.03m\n"
     ]
    },
    {
     "name": "stderr",
     "output_type": "stream",
     "text": [
      "100%|██████████| 107/107 [00:01<00:00, 65.19it/s]\n",
      "100%|██████████| 18/18 [00:00<00:00, 295.30it/s]\n",
      "100%|██████████| 53/53 [00:00<00:00, 286.07it/s]\n"
     ]
    },
    {
     "name": "stdout",
     "output_type": "stream",
     "text": [
      "Epoch:192/1000.. Train Loss: 0.045.. Val Loss: 0.132.. Test Loss: 0.105.. Time: 0.03m\n"
     ]
    },
    {
     "name": "stderr",
     "output_type": "stream",
     "text": [
      "100%|██████████| 107/107 [00:01<00:00, 63.20it/s]\n",
      "100%|██████████| 18/18 [00:00<00:00, 284.91it/s]\n",
      "100%|██████████| 53/53 [00:00<00:00, 292.36it/s]\n"
     ]
    },
    {
     "name": "stdout",
     "output_type": "stream",
     "text": [
      "Epoch:193/1000.. Train Loss: 0.046.. Val Loss: 0.138.. Test Loss: 0.101.. Time: 0.03m\n"
     ]
    },
    {
     "name": "stderr",
     "output_type": "stream",
     "text": [
      "100%|██████████| 107/107 [00:01<00:00, 66.95it/s]\n",
      "100%|██████████| 18/18 [00:00<00:00, 282.48it/s]\n",
      "100%|██████████| 53/53 [00:00<00:00, 290.80it/s]\n"
     ]
    },
    {
     "name": "stdout",
     "output_type": "stream",
     "text": [
      "Epoch:194/1000.. Train Loss: 0.047.. Val Loss: 0.132.. Test Loss: 0.098.. Time: 0.03m\n"
     ]
    },
    {
     "name": "stderr",
     "output_type": "stream",
     "text": [
      "100%|██████████| 107/107 [00:01<00:00, 64.62it/s]\n",
      "100%|██████████| 18/18 [00:00<00:00, 295.96it/s]\n",
      "100%|██████████| 53/53 [00:00<00:00, 249.20it/s]\n"
     ]
    },
    {
     "name": "stdout",
     "output_type": "stream",
     "text": [
      "Epoch:195/1000.. Train Loss: 0.043.. Val Loss: 0.126.. Test Loss: 0.101.. Time: 0.03m\n"
     ]
    },
    {
     "name": "stderr",
     "output_type": "stream",
     "text": [
      "100%|██████████| 107/107 [00:01<00:00, 64.90it/s]\n",
      "100%|██████████| 18/18 [00:00<00:00, 282.31it/s]\n",
      "100%|██████████| 53/53 [00:00<00:00, 296.19it/s]\n"
     ]
    },
    {
     "name": "stdout",
     "output_type": "stream",
     "text": [
      "Epoch:196/1000.. Train Loss: 0.053.. Val Loss: 0.142.. Test Loss: 0.105.. Time: 0.03m\n"
     ]
    },
    {
     "name": "stderr",
     "output_type": "stream",
     "text": [
      "100%|██████████| 107/107 [00:01<00:00, 71.12it/s]\n",
      "100%|██████████| 18/18 [00:00<00:00, 289.70it/s]\n",
      "100%|██████████| 53/53 [00:00<00:00, 286.69it/s]\n"
     ]
    },
    {
     "name": "stdout",
     "output_type": "stream",
     "text": [
      "Epoch:197/1000.. Train Loss: 0.049.. Val Loss: 0.141.. Test Loss: 0.102.. Time: 0.03m\n"
     ]
    },
    {
     "name": "stderr",
     "output_type": "stream",
     "text": [
      "100%|██████████| 107/107 [00:01<00:00, 61.12it/s]\n",
      "100%|██████████| 18/18 [00:00<00:00, 223.13it/s]\n",
      "100%|██████████| 53/53 [00:00<00:00, 263.13it/s]\n"
     ]
    },
    {
     "name": "stdout",
     "output_type": "stream",
     "text": [
      "Epoch:198/1000.. Train Loss: 0.043.. Val Loss: 0.147.. Test Loss: 0.101.. Time: 0.03m\n"
     ]
    },
    {
     "name": "stderr",
     "output_type": "stream",
     "text": [
      "100%|██████████| 107/107 [00:01<00:00, 64.83it/s]\n",
      "100%|██████████| 18/18 [00:00<00:00, 277.06it/s]\n",
      "100%|██████████| 53/53 [00:00<00:00, 291.86it/s]\n"
     ]
    },
    {
     "name": "stdout",
     "output_type": "stream",
     "text": [
      "Epoch:199/1000.. Train Loss: 0.048.. Val Loss: 0.149.. Test Loss: 0.103.. Time: 0.03m\n"
     ]
    },
    {
     "name": "stderr",
     "output_type": "stream",
     "text": [
      "100%|██████████| 107/107 [00:01<00:00, 64.12it/s]\n",
      "100%|██████████| 18/18 [00:00<00:00, 282.88it/s]\n",
      "100%|██████████| 53/53 [00:00<00:00, 286.63it/s]\n"
     ]
    },
    {
     "name": "stdout",
     "output_type": "stream",
     "text": [
      "Epoch:200/1000.. Train Loss: 0.048.. Val Loss: 0.141.. Test Loss: 0.099.. Time: 0.03m\n"
     ]
    },
    {
     "name": "stderr",
     "output_type": "stream",
     "text": [
      "100%|██████████| 107/107 [00:01<00:00, 66.08it/s]\n",
      "100%|██████████| 18/18 [00:00<00:00, 297.48it/s]\n",
      "100%|██████████| 53/53 [00:00<00:00, 290.77it/s]\n"
     ]
    },
    {
     "name": "stdout",
     "output_type": "stream",
     "text": [
      "Epoch:201/1000.. Train Loss: 0.043.. Val Loss: 0.143.. Test Loss: 0.102.. Time: 0.03m\n"
     ]
    },
    {
     "name": "stderr",
     "output_type": "stream",
     "text": [
      "100%|██████████| 107/107 [00:01<00:00, 66.03it/s]\n",
      "100%|██████████| 18/18 [00:00<00:00, 283.30it/s]\n",
      "100%|██████████| 53/53 [00:00<00:00, 286.58it/s]\n"
     ]
    },
    {
     "name": "stdout",
     "output_type": "stream",
     "text": [
      "Epoch:202/1000.. Train Loss: 0.051.. Val Loss: 0.142.. Test Loss: 0.106.. Time: 0.03m\n"
     ]
    },
    {
     "name": "stderr",
     "output_type": "stream",
     "text": [
      "100%|██████████| 107/107 [00:01<00:00, 60.32it/s]\n",
      "100%|██████████| 18/18 [00:00<00:00, 222.35it/s]\n",
      "100%|██████████| 53/53 [00:00<00:00, 285.18it/s]\n"
     ]
    },
    {
     "name": "stdout",
     "output_type": "stream",
     "text": [
      "Epoch:203/1000.. Train Loss: 0.051.. Val Loss: 0.130.. Test Loss: 0.097.. Time: 0.03m\n"
     ]
    },
    {
     "name": "stderr",
     "output_type": "stream",
     "text": [
      "100%|██████████| 107/107 [00:01<00:00, 59.82it/s]\n",
      "100%|██████████| 18/18 [00:00<00:00, 267.35it/s]\n",
      "100%|██████████| 53/53 [00:00<00:00, 278.57it/s]\n"
     ]
    },
    {
     "name": "stdout",
     "output_type": "stream",
     "text": [
      "Epoch:204/1000.. Train Loss: 0.049.. Val Loss: 0.132.. Test Loss: 0.095.. Time: 0.03m\n"
     ]
    },
    {
     "name": "stderr",
     "output_type": "stream",
     "text": [
      "100%|██████████| 107/107 [00:01<00:00, 61.78it/s]\n",
      "100%|██████████| 18/18 [00:00<00:00, 278.42it/s]\n",
      "100%|██████████| 53/53 [00:00<00:00, 289.87it/s]\n"
     ]
    },
    {
     "name": "stdout",
     "output_type": "stream",
     "text": [
      "Epoch:205/1000.. Train Loss: 0.047.. Val Loss: 0.127.. Test Loss: 0.099.. Time: 0.03m\n"
     ]
    },
    {
     "name": "stderr",
     "output_type": "stream",
     "text": [
      "100%|██████████| 107/107 [00:01<00:00, 61.35it/s]\n",
      "100%|██████████| 18/18 [00:00<00:00, 283.64it/s]\n",
      "100%|██████████| 53/53 [00:00<00:00, 285.81it/s]\n"
     ]
    },
    {
     "name": "stdout",
     "output_type": "stream",
     "text": [
      "Epoch:206/1000.. Train Loss: 0.046.. Val Loss: 0.139.. Test Loss: 0.106.. Time: 0.03m\n"
     ]
    },
    {
     "name": "stderr",
     "output_type": "stream",
     "text": [
      "100%|██████████| 107/107 [00:01<00:00, 56.39it/s]\n",
      "100%|██████████| 18/18 [00:00<00:00, 252.40it/s]\n",
      "100%|██████████| 53/53 [00:00<00:00, 254.81it/s]\n"
     ]
    },
    {
     "name": "stdout",
     "output_type": "stream",
     "text": [
      "Epoch:207/1000.. Train Loss: 0.046.. Val Loss: 0.140.. Test Loss: 0.097.. Time: 0.04m\n"
     ]
    },
    {
     "name": "stderr",
     "output_type": "stream",
     "text": [
      "100%|██████████| 107/107 [00:02<00:00, 53.11it/s]\n",
      "100%|██████████| 18/18 [00:00<00:00, 245.71it/s]\n",
      "100%|██████████| 53/53 [00:00<00:00, 250.60it/s]\n"
     ]
    },
    {
     "name": "stdout",
     "output_type": "stream",
     "text": [
      "Epoch:208/1000.. Train Loss: 0.047.. Val Loss: 0.163.. Test Loss: 0.099.. Time: 0.04m\n"
     ]
    },
    {
     "name": "stderr",
     "output_type": "stream",
     "text": [
      "100%|██████████| 107/107 [00:01<00:00, 58.42it/s]\n",
      "100%|██████████| 18/18 [00:00<00:00, 238.44it/s]\n",
      "100%|██████████| 53/53 [00:00<00:00, 239.69it/s]\n"
     ]
    },
    {
     "name": "stdout",
     "output_type": "stream",
     "text": [
      "Epoch:209/1000.. Train Loss: 0.043.. Val Loss: 0.134.. Test Loss: 0.096.. Time: 0.04m\n"
     ]
    },
    {
     "name": "stderr",
     "output_type": "stream",
     "text": [
      "100%|██████████| 107/107 [00:01<00:00, 60.81it/s]\n",
      "100%|██████████| 18/18 [00:00<00:00, 252.27it/s]\n",
      "100%|██████████| 53/53 [00:00<00:00, 242.35it/s]\n"
     ]
    },
    {
     "name": "stdout",
     "output_type": "stream",
     "text": [
      "Epoch:210/1000.. Train Loss: 0.045.. Val Loss: 0.165.. Test Loss: 0.103.. Time: 0.03m\n"
     ]
    },
    {
     "name": "stderr",
     "output_type": "stream",
     "text": [
      "100%|██████████| 107/107 [00:01<00:00, 56.74it/s]\n",
      "100%|██████████| 18/18 [00:00<00:00, 250.53it/s]\n",
      "100%|██████████| 53/53 [00:00<00:00, 248.45it/s]\n"
     ]
    },
    {
     "name": "stdout",
     "output_type": "stream",
     "text": [
      "Epoch:211/1000.. Train Loss: 0.041.. Val Loss: 0.142.. Test Loss: 0.110.. Time: 0.04m\n"
     ]
    },
    {
     "name": "stderr",
     "output_type": "stream",
     "text": [
      "100%|██████████| 107/107 [00:01<00:00, 60.68it/s]\n",
      "100%|██████████| 18/18 [00:00<00:00, 199.55it/s]\n",
      "100%|██████████| 53/53 [00:00<00:00, 229.55it/s]\n"
     ]
    },
    {
     "name": "stdout",
     "output_type": "stream",
     "text": [
      "Epoch:212/1000.. Train Loss: 0.045.. Val Loss: 0.145.. Test Loss: 0.107.. Time: 0.03m\n"
     ]
    },
    {
     "name": "stderr",
     "output_type": "stream",
     "text": [
      "100%|██████████| 107/107 [00:01<00:00, 59.94it/s]\n",
      "100%|██████████| 18/18 [00:00<00:00, 232.58it/s]\n",
      "100%|██████████| 53/53 [00:00<00:00, 243.16it/s]\n"
     ]
    },
    {
     "name": "stdout",
     "output_type": "stream",
     "text": [
      "Epoch:213/1000.. Train Loss: 0.044.. Val Loss: 0.142.. Test Loss: 0.112.. Time: 0.03m\n"
     ]
    },
    {
     "name": "stderr",
     "output_type": "stream",
     "text": [
      "100%|██████████| 107/107 [00:01<00:00, 58.50it/s]\n",
      "100%|██████████| 18/18 [00:00<00:00, 241.18it/s]\n",
      "100%|██████████| 53/53 [00:00<00:00, 249.42it/s]\n"
     ]
    },
    {
     "name": "stdout",
     "output_type": "stream",
     "text": [
      "Epoch:214/1000.. Train Loss: 0.044.. Val Loss: 0.137.. Test Loss: 0.112.. Time: 0.04m\n"
     ]
    },
    {
     "name": "stderr",
     "output_type": "stream",
     "text": [
      "100%|██████████| 107/107 [00:01<00:00, 58.41it/s]\n",
      "100%|██████████| 18/18 [00:00<00:00, 239.48it/s]\n",
      "100%|██████████| 53/53 [00:00<00:00, 228.03it/s]\n"
     ]
    },
    {
     "name": "stdout",
     "output_type": "stream",
     "text": [
      "Epoch:215/1000.. Train Loss: 0.041.. Val Loss: 0.144.. Test Loss: 0.108.. Time: 0.04m\n"
     ]
    },
    {
     "name": "stderr",
     "output_type": "stream",
     "text": [
      "100%|██████████| 107/107 [00:01<00:00, 54.25it/s]\n",
      "100%|██████████| 18/18 [00:00<00:00, 244.53it/s]\n",
      "100%|██████████| 53/53 [00:00<00:00, 246.95it/s]\n"
     ]
    },
    {
     "name": "stdout",
     "output_type": "stream",
     "text": [
      "Epoch:216/1000.. Train Loss: 0.051.. Val Loss: 0.134.. Test Loss: 0.100.. Time: 0.04m\n"
     ]
    },
    {
     "name": "stderr",
     "output_type": "stream",
     "text": [
      "100%|██████████| 107/107 [00:01<00:00, 56.84it/s]\n",
      "100%|██████████| 18/18 [00:00<00:00, 226.02it/s]\n",
      "100%|██████████| 53/53 [00:00<00:00, 236.55it/s]\n"
     ]
    },
    {
     "name": "stdout",
     "output_type": "stream",
     "text": [
      "Epoch:217/1000.. Train Loss: 0.042.. Val Loss: 0.133.. Test Loss: 0.099.. Time: 0.04m\n"
     ]
    },
    {
     "name": "stderr",
     "output_type": "stream",
     "text": [
      "100%|██████████| 107/107 [00:01<00:00, 60.19it/s]\n",
      "100%|██████████| 18/18 [00:00<00:00, 243.84it/s]\n",
      "100%|██████████| 53/53 [00:00<00:00, 235.24it/s]\n"
     ]
    },
    {
     "name": "stdout",
     "output_type": "stream",
     "text": [
      "Epoch:218/1000.. Train Loss: 0.045.. Val Loss: 0.129.. Test Loss: 0.104.. Time: 0.03m\n"
     ]
    },
    {
     "name": "stderr",
     "output_type": "stream",
     "text": [
      "100%|██████████| 107/107 [00:01<00:00, 59.87it/s]\n",
      "100%|██████████| 18/18 [00:00<00:00, 186.72it/s]\n",
      "100%|██████████| 53/53 [00:00<00:00, 216.51it/s]\n"
     ]
    },
    {
     "name": "stdout",
     "output_type": "stream",
     "text": [
      "Epoch:219/1000.. Train Loss: 0.053.. Val Loss: 0.153.. Test Loss: 0.105.. Time: 0.04m\n"
     ]
    },
    {
     "name": "stderr",
     "output_type": "stream",
     "text": [
      "100%|██████████| 107/107 [00:01<00:00, 56.18it/s]\n",
      "100%|██████████| 18/18 [00:00<00:00, 251.09it/s]\n",
      "100%|██████████| 53/53 [00:00<00:00, 228.69it/s]\n"
     ]
    },
    {
     "name": "stdout",
     "output_type": "stream",
     "text": [
      "Epoch:220/1000.. Train Loss: 0.042.. Val Loss: 0.144.. Test Loss: 0.106.. Time: 0.04m\n"
     ]
    },
    {
     "name": "stderr",
     "output_type": "stream",
     "text": [
      "100%|██████████| 107/107 [00:01<00:00, 54.53it/s]\n",
      "100%|██████████| 18/18 [00:00<00:00, 231.25it/s]\n",
      "100%|██████████| 53/53 [00:00<00:00, 238.79it/s]\n"
     ]
    },
    {
     "name": "stdout",
     "output_type": "stream",
     "text": [
      "Epoch:221/1000.. Train Loss: 0.042.. Val Loss: 0.145.. Test Loss: 0.106.. Time: 0.04m\n"
     ]
    },
    {
     "name": "stderr",
     "output_type": "stream",
     "text": [
      "100%|██████████| 107/107 [00:01<00:00, 55.08it/s]\n",
      "100%|██████████| 18/18 [00:00<00:00, 198.93it/s]\n",
      "100%|██████████| 53/53 [00:00<00:00, 229.46it/s]\n"
     ]
    },
    {
     "name": "stdout",
     "output_type": "stream",
     "text": [
      "Epoch:222/1000.. Train Loss: 0.047.. Val Loss: 0.145.. Test Loss: 0.104.. Time: 0.04m\n"
     ]
    },
    {
     "name": "stderr",
     "output_type": "stream",
     "text": [
      "100%|██████████| 107/107 [00:01<00:00, 58.59it/s]\n",
      "100%|██████████| 18/18 [00:00<00:00, 244.49it/s]\n",
      "100%|██████████| 53/53 [00:00<00:00, 221.52it/s]\n"
     ]
    },
    {
     "name": "stdout",
     "output_type": "stream",
     "text": [
      "Epoch:223/1000.. Train Loss: 0.042.. Val Loss: 0.144.. Test Loss: 0.105.. Time: 0.04m\n"
     ]
    },
    {
     "name": "stderr",
     "output_type": "stream",
     "text": [
      "100%|██████████| 107/107 [00:01<00:00, 56.31it/s]\n",
      "100%|██████████| 18/18 [00:00<00:00, 233.37it/s]\n",
      "100%|██████████| 53/53 [00:00<00:00, 248.20it/s]\n"
     ]
    },
    {
     "name": "stdout",
     "output_type": "stream",
     "text": [
      "Epoch:224/1000.. Train Loss: 0.043.. Val Loss: 0.131.. Test Loss: 0.101.. Time: 0.04m\n"
     ]
    },
    {
     "name": "stderr",
     "output_type": "stream",
     "text": [
      "100%|██████████| 107/107 [00:01<00:00, 58.19it/s]\n",
      "100%|██████████| 18/18 [00:00<00:00, 240.03it/s]\n",
      "100%|██████████| 53/53 [00:00<00:00, 241.77it/s]\n"
     ]
    },
    {
     "name": "stdout",
     "output_type": "stream",
     "text": [
      "Epoch:225/1000.. Train Loss: 0.042.. Val Loss: 0.143.. Test Loss: 0.110.. Time: 0.04m\n"
     ]
    },
    {
     "name": "stderr",
     "output_type": "stream",
     "text": [
      "100%|██████████| 107/107 [00:01<00:00, 60.87it/s]\n",
      "100%|██████████| 18/18 [00:00<00:00, 239.98it/s]\n",
      "100%|██████████| 53/53 [00:00<00:00, 226.44it/s]\n"
     ]
    },
    {
     "name": "stdout",
     "output_type": "stream",
     "text": [
      "Epoch:226/1000.. Train Loss: 0.049.. Val Loss: 0.135.. Test Loss: 0.105.. Time: 0.03m\n"
     ]
    },
    {
     "name": "stderr",
     "output_type": "stream",
     "text": [
      "100%|██████████| 107/107 [00:01<00:00, 57.66it/s]\n",
      "100%|██████████| 18/18 [00:00<00:00, 251.13it/s]\n",
      "100%|██████████| 53/53 [00:00<00:00, 244.04it/s]\n"
     ]
    },
    {
     "name": "stdout",
     "output_type": "stream",
     "text": [
      "Epoch:227/1000.. Train Loss: 0.046.. Val Loss: 0.138.. Test Loss: 0.112.. Time: 0.04m\n"
     ]
    },
    {
     "name": "stderr",
     "output_type": "stream",
     "text": [
      "100%|██████████| 107/107 [00:01<00:00, 57.53it/s]\n",
      "100%|██████████| 18/18 [00:00<00:00, 236.48it/s]\n",
      "100%|██████████| 53/53 [00:00<00:00, 230.18it/s]\n"
     ]
    },
    {
     "name": "stdout",
     "output_type": "stream",
     "text": [
      "Epoch:228/1000.. Train Loss: 0.041.. Val Loss: 0.143.. Test Loss: 0.111.. Time: 0.04m\n"
     ]
    },
    {
     "name": "stderr",
     "output_type": "stream",
     "text": [
      "100%|██████████| 107/107 [00:01<00:00, 64.53it/s]\n",
      "100%|██████████| 18/18 [00:00<00:00, 253.45it/s]\n",
      "100%|██████████| 53/53 [00:00<00:00, 241.94it/s]\n"
     ]
    },
    {
     "name": "stdout",
     "output_type": "stream",
     "text": [
      "Epoch:229/1000.. Train Loss: 0.045.. Val Loss: 0.143.. Test Loss: 0.111.. Time: 0.03m\n"
     ]
    },
    {
     "name": "stderr",
     "output_type": "stream",
     "text": [
      "100%|██████████| 107/107 [00:01<00:00, 61.51it/s]\n",
      "100%|██████████| 18/18 [00:00<00:00, 237.13it/s]\n",
      "100%|██████████| 53/53 [00:00<00:00, 236.52it/s]\n"
     ]
    },
    {
     "name": "stdout",
     "output_type": "stream",
     "text": [
      "Epoch:230/1000.. Train Loss: 0.040.. Val Loss: 0.143.. Test Loss: 0.117.. Time: 0.03m\n"
     ]
    },
    {
     "name": "stderr",
     "output_type": "stream",
     "text": [
      "100%|██████████| 107/107 [00:01<00:00, 57.76it/s]\n",
      "100%|██████████| 18/18 [00:00<00:00, 240.70it/s]\n",
      "100%|██████████| 53/53 [00:00<00:00, 248.11it/s]\n"
     ]
    },
    {
     "name": "stdout",
     "output_type": "stream",
     "text": [
      "Epoch:231/1000.. Train Loss: 0.041.. Val Loss: 0.139.. Test Loss: 0.108.. Time: 0.04m\n"
     ]
    },
    {
     "name": "stderr",
     "output_type": "stream",
     "text": [
      "100%|██████████| 107/107 [00:01<00:00, 60.79it/s]\n",
      "100%|██████████| 18/18 [00:00<00:00, 204.07it/s]\n",
      "100%|██████████| 53/53 [00:00<00:00, 246.72it/s]\n"
     ]
    },
    {
     "name": "stdout",
     "output_type": "stream",
     "text": [
      "Epoch:232/1000.. Train Loss: 0.042.. Val Loss: 0.161.. Test Loss: 0.129.. Time: 0.03m\n"
     ]
    },
    {
     "name": "stderr",
     "output_type": "stream",
     "text": [
      "100%|██████████| 107/107 [00:01<00:00, 58.72it/s]\n",
      "100%|██████████| 18/18 [00:00<00:00, 237.40it/s]\n",
      "100%|██████████| 53/53 [00:00<00:00, 239.73it/s]\n"
     ]
    },
    {
     "name": "stdout",
     "output_type": "stream",
     "text": [
      "Epoch:233/1000.. Train Loss: 0.048.. Val Loss: 0.148.. Test Loss: 0.116.. Time: 0.04m\n"
     ]
    },
    {
     "name": "stderr",
     "output_type": "stream",
     "text": [
      "100%|██████████| 107/107 [00:01<00:00, 58.91it/s]\n",
      "100%|██████████| 18/18 [00:00<00:00, 201.93it/s]\n",
      "100%|██████████| 53/53 [00:00<00:00, 234.49it/s]\n"
     ]
    },
    {
     "name": "stdout",
     "output_type": "stream",
     "text": [
      "Epoch:234/1000.. Train Loss: 0.043.. Val Loss: 0.148.. Test Loss: 0.114.. Time: 0.04m\n"
     ]
    },
    {
     "name": "stderr",
     "output_type": "stream",
     "text": [
      "100%|██████████| 107/107 [00:01<00:00, 62.79it/s]\n",
      "100%|██████████| 18/18 [00:00<00:00, 239.98it/s]\n",
      "100%|██████████| 53/53 [00:00<00:00, 246.79it/s]\n"
     ]
    },
    {
     "name": "stdout",
     "output_type": "stream",
     "text": [
      "Epoch:235/1000.. Train Loss: 0.040.. Val Loss: 0.173.. Test Loss: 0.120.. Time: 0.03m\n"
     ]
    },
    {
     "name": "stderr",
     "output_type": "stream",
     "text": [
      "100%|██████████| 107/107 [00:01<00:00, 62.02it/s]\n",
      "100%|██████████| 18/18 [00:00<00:00, 246.65it/s]\n",
      "100%|██████████| 53/53 [00:00<00:00, 233.10it/s]\n"
     ]
    },
    {
     "name": "stdout",
     "output_type": "stream",
     "text": [
      "Epoch:236/1000.. Train Loss: 0.045.. Val Loss: 0.149.. Test Loss: 0.118.. Time: 0.03m\n"
     ]
    },
    {
     "name": "stderr",
     "output_type": "stream",
     "text": [
      "100%|██████████| 107/107 [00:01<00:00, 55.62it/s]\n",
      "100%|██████████| 18/18 [00:00<00:00, 236.67it/s]\n",
      "100%|██████████| 53/53 [00:00<00:00, 237.83it/s]\n"
     ]
    },
    {
     "name": "stdout",
     "output_type": "stream",
     "text": [
      "Epoch:237/1000.. Train Loss: 0.036.. Val Loss: 0.169.. Test Loss: 0.120.. Time: 0.04m\n"
     ]
    },
    {
     "name": "stderr",
     "output_type": "stream",
     "text": [
      "100%|██████████| 107/107 [00:01<00:00, 58.04it/s]\n",
      "100%|██████████| 18/18 [00:00<00:00, 191.30it/s]\n",
      "100%|██████████| 53/53 [00:00<00:00, 243.79it/s]\n"
     ]
    },
    {
     "name": "stdout",
     "output_type": "stream",
     "text": [
      "Epoch:238/1000.. Train Loss: 0.044.. Val Loss: 0.146.. Test Loss: 0.096.. Time: 0.04m\n"
     ]
    },
    {
     "name": "stderr",
     "output_type": "stream",
     "text": [
      "100%|██████████| 107/107 [00:01<00:00, 60.45it/s]\n",
      "100%|██████████| 18/18 [00:00<00:00, 199.19it/s]\n",
      "100%|██████████| 53/53 [00:00<00:00, 239.35it/s]\n"
     ]
    },
    {
     "name": "stdout",
     "output_type": "stream",
     "text": [
      "Epoch:239/1000.. Train Loss: 0.040.. Val Loss: 0.182.. Test Loss: 0.115.. Time: 0.03m\n"
     ]
    },
    {
     "name": "stderr",
     "output_type": "stream",
     "text": [
      "100%|██████████| 107/107 [00:01<00:00, 61.50it/s]\n",
      "100%|██████████| 18/18 [00:00<00:00, 245.78it/s]\n",
      "100%|██████████| 53/53 [00:00<00:00, 240.02it/s]\n"
     ]
    },
    {
     "name": "stdout",
     "output_type": "stream",
     "text": [
      "Epoch:240/1000.. Train Loss: 0.036.. Val Loss: 0.157.. Test Loss: 0.110.. Time: 0.03m\n"
     ]
    },
    {
     "name": "stderr",
     "output_type": "stream",
     "text": [
      "100%|██████████| 107/107 [00:01<00:00, 60.90it/s]\n",
      "100%|██████████| 18/18 [00:00<00:00, 243.26it/s]\n",
      "100%|██████████| 53/53 [00:00<00:00, 246.05it/s]\n"
     ]
    },
    {
     "name": "stdout",
     "output_type": "stream",
     "text": [
      "Epoch:241/1000.. Train Loss: 0.038.. Val Loss: 0.156.. Test Loss: 0.123.. Time: 0.03m\n"
     ]
    },
    {
     "name": "stderr",
     "output_type": "stream",
     "text": [
      "100%|██████████| 107/107 [00:01<00:00, 60.06it/s]\n",
      "100%|██████████| 18/18 [00:00<00:00, 231.25it/s]\n",
      "100%|██████████| 53/53 [00:00<00:00, 217.90it/s]\n"
     ]
    },
    {
     "name": "stdout",
     "output_type": "stream",
     "text": [
      "Epoch:242/1000.. Train Loss: 0.042.. Val Loss: 0.139.. Test Loss: 0.121.. Time: 0.04m\n"
     ]
    },
    {
     "name": "stderr",
     "output_type": "stream",
     "text": [
      "100%|██████████| 107/107 [00:02<00:00, 53.07it/s]\n",
      "100%|██████████| 18/18 [00:00<00:00, 238.75it/s]\n",
      "100%|██████████| 53/53 [00:00<00:00, 239.27it/s]\n"
     ]
    },
    {
     "name": "stdout",
     "output_type": "stream",
     "text": [
      "Epoch:243/1000.. Train Loss: 0.041.. Val Loss: 0.137.. Test Loss: 0.118.. Time: 0.04m\n"
     ]
    },
    {
     "name": "stderr",
     "output_type": "stream",
     "text": [
      "100%|██████████| 107/107 [00:01<00:00, 55.78it/s]\n",
      "100%|██████████| 18/18 [00:00<00:00, 191.81it/s]\n",
      "100%|██████████| 53/53 [00:00<00:00, 242.13it/s]\n"
     ]
    },
    {
     "name": "stdout",
     "output_type": "stream",
     "text": [
      "Epoch:244/1000.. Train Loss: 0.045.. Val Loss: 0.151.. Test Loss: 0.118.. Time: 0.04m\n"
     ]
    },
    {
     "name": "stderr",
     "output_type": "stream",
     "text": [
      "100%|██████████| 107/107 [00:01<00:00, 54.82it/s]\n",
      "100%|██████████| 18/18 [00:00<00:00, 243.45it/s]\n",
      "100%|██████████| 53/53 [00:00<00:00, 235.34it/s]\n"
     ]
    },
    {
     "name": "stdout",
     "output_type": "stream",
     "text": [
      "Epoch:245/1000.. Train Loss: 0.043.. Val Loss: 0.140.. Test Loss: 0.119.. Time: 0.04m\n"
     ]
    },
    {
     "name": "stderr",
     "output_type": "stream",
     "text": [
      "100%|██████████| 107/107 [00:01<00:00, 57.02it/s]\n",
      "100%|██████████| 18/18 [00:00<00:00, 278.00it/s]\n",
      "100%|██████████| 53/53 [00:00<00:00, 290.52it/s]\n"
     ]
    },
    {
     "name": "stdout",
     "output_type": "stream",
     "text": [
      "Epoch:246/1000.. Train Loss: 0.042.. Val Loss: 0.136.. Test Loss: 0.110.. Time: 0.04m\n"
     ]
    },
    {
     "name": "stderr",
     "output_type": "stream",
     "text": [
      "100%|██████████| 107/107 [00:01<00:00, 58.29it/s]\n",
      "100%|██████████| 18/18 [00:00<00:00, 273.77it/s]\n",
      "100%|██████████| 53/53 [00:00<00:00, 283.49it/s]\n"
     ]
    },
    {
     "name": "stdout",
     "output_type": "stream",
     "text": [
      "Epoch:247/1000.. Train Loss: 0.046.. Val Loss: 0.152.. Test Loss: 0.113.. Time: 0.03m\n"
     ]
    },
    {
     "name": "stderr",
     "output_type": "stream",
     "text": [
      "100%|██████████| 107/107 [00:01<00:00, 64.87it/s]\n",
      "100%|██████████| 18/18 [00:00<00:00, 285.52it/s]\n",
      "100%|██████████| 53/53 [00:00<00:00, 287.80it/s]\n"
     ]
    },
    {
     "name": "stdout",
     "output_type": "stream",
     "text": [
      "Epoch:248/1000.. Train Loss: 0.041.. Val Loss: 0.160.. Test Loss: 0.121.. Time: 0.03m\n"
     ]
    },
    {
     "name": "stderr",
     "output_type": "stream",
     "text": [
      "100%|██████████| 107/107 [00:01<00:00, 60.12it/s]\n",
      "100%|██████████| 18/18 [00:00<00:00, 247.83it/s]\n",
      "100%|██████████| 53/53 [00:00<00:00, 251.69it/s]\n"
     ]
    },
    {
     "name": "stdout",
     "output_type": "stream",
     "text": [
      "Epoch:249/1000.. Train Loss: 0.037.. Val Loss: 0.150.. Test Loss: 0.117.. Time: 0.03m\n"
     ]
    },
    {
     "name": "stderr",
     "output_type": "stream",
     "text": [
      "100%|██████████| 107/107 [00:01<00:00, 64.07it/s]\n",
      "100%|██████████| 18/18 [00:00<00:00, 284.38it/s]\n",
      "100%|██████████| 53/53 [00:00<00:00, 271.01it/s]\n"
     ]
    },
    {
     "name": "stdout",
     "output_type": "stream",
     "text": [
      "Epoch:250/1000.. Train Loss: 0.049.. Val Loss: 0.154.. Test Loss: 0.119.. Time: 0.03m\n"
     ]
    },
    {
     "name": "stderr",
     "output_type": "stream",
     "text": [
      "100%|██████████| 107/107 [00:01<00:00, 56.49it/s]\n",
      "100%|██████████| 18/18 [00:00<00:00, 259.99it/s]\n",
      "100%|██████████| 53/53 [00:00<00:00, 242.64it/s]\n"
     ]
    },
    {
     "name": "stdout",
     "output_type": "stream",
     "text": [
      "Epoch:251/1000.. Train Loss: 0.039.. Val Loss: 0.168.. Test Loss: 0.127.. Time: 0.04m\n"
     ]
    },
    {
     "name": "stderr",
     "output_type": "stream",
     "text": [
      "100%|██████████| 107/107 [00:01<00:00, 58.72it/s]\n",
      "100%|██████████| 18/18 [00:00<00:00, 246.24it/s]\n",
      "100%|██████████| 53/53 [00:00<00:00, 238.96it/s]\n"
     ]
    },
    {
     "name": "stdout",
     "output_type": "stream",
     "text": [
      "Epoch:252/1000.. Train Loss: 0.043.. Val Loss: 0.150.. Test Loss: 0.113.. Time: 0.04m\n"
     ]
    },
    {
     "name": "stderr",
     "output_type": "stream",
     "text": [
      "100%|██████████| 107/107 [00:01<00:00, 61.17it/s]\n",
      "100%|██████████| 18/18 [00:00<00:00, 252.64it/s]\n",
      "100%|██████████| 53/53 [00:00<00:00, 242.18it/s]\n"
     ]
    },
    {
     "name": "stdout",
     "output_type": "stream",
     "text": [
      "Epoch:253/1000.. Train Loss: 0.045.. Val Loss: 0.156.. Test Loss: 0.117.. Time: 0.03m\n"
     ]
    },
    {
     "name": "stderr",
     "output_type": "stream",
     "text": [
      "100%|██████████| 107/107 [00:01<00:00, 59.67it/s]\n",
      "100%|██████████| 18/18 [00:00<00:00, 247.16it/s]\n",
      "100%|██████████| 53/53 [00:00<00:00, 244.02it/s]\n"
     ]
    },
    {
     "name": "stdout",
     "output_type": "stream",
     "text": [
      "Epoch:254/1000.. Train Loss: 0.037.. Val Loss: 0.163.. Test Loss: 0.120.. Time: 0.03m\n"
     ]
    },
    {
     "name": "stderr",
     "output_type": "stream",
     "text": [
      "100%|██████████| 107/107 [00:01<00:00, 57.34it/s]\n",
      "100%|██████████| 18/18 [00:00<00:00, 222.18it/s]\n",
      "100%|██████████| 53/53 [00:00<00:00, 247.59it/s]\n"
     ]
    },
    {
     "name": "stdout",
     "output_type": "stream",
     "text": [
      "Epoch:255/1000.. Train Loss: 0.043.. Val Loss: 0.160.. Test Loss: 0.114.. Time: 0.04m\n"
     ]
    },
    {
     "name": "stderr",
     "output_type": "stream",
     "text": [
      "100%|██████████| 107/107 [00:01<00:00, 55.47it/s]\n",
      "100%|██████████| 18/18 [00:00<00:00, 235.64it/s]\n",
      "100%|██████████| 53/53 [00:00<00:00, 245.11it/s]\n"
     ]
    },
    {
     "name": "stdout",
     "output_type": "stream",
     "text": [
      "Epoch:256/1000.. Train Loss: 0.037.. Val Loss: 0.145.. Test Loss: 0.112.. Time: 0.04m\n"
     ]
    },
    {
     "name": "stderr",
     "output_type": "stream",
     "text": [
      "100%|██████████| 107/107 [00:01<00:00, 57.27it/s]\n",
      "100%|██████████| 18/18 [00:00<00:00, 243.79it/s]\n",
      "100%|██████████| 53/53 [00:00<00:00, 234.20it/s]\n"
     ]
    },
    {
     "name": "stdout",
     "output_type": "stream",
     "text": [
      "Epoch:257/1000.. Train Loss: 0.037.. Val Loss: 0.151.. Test Loss: 0.115.. Time: 0.04m\n"
     ]
    },
    {
     "name": "stderr",
     "output_type": "stream",
     "text": [
      "100%|██████████| 107/107 [00:01<00:00, 54.36it/s]\n",
      "100%|██████████| 18/18 [00:00<00:00, 197.87it/s]\n",
      "100%|██████████| 53/53 [00:00<00:00, 249.58it/s]\n"
     ]
    },
    {
     "name": "stdout",
     "output_type": "stream",
     "text": [
      "Epoch:258/1000.. Train Loss: 0.038.. Val Loss: 0.142.. Test Loss: 0.116.. Time: 0.04m\n"
     ]
    },
    {
     "name": "stderr",
     "output_type": "stream",
     "text": [
      "100%|██████████| 107/107 [00:01<00:00, 57.33it/s]\n",
      "100%|██████████| 18/18 [00:00<00:00, 242.88it/s]\n",
      "100%|██████████| 53/53 [00:00<00:00, 244.81it/s]\n"
     ]
    },
    {
     "name": "stdout",
     "output_type": "stream",
     "text": [
      "Epoch:259/1000.. Train Loss: 0.043.. Val Loss: 0.138.. Test Loss: 0.117.. Time: 0.04m\n"
     ]
    },
    {
     "name": "stderr",
     "output_type": "stream",
     "text": [
      "100%|██████████| 107/107 [00:01<00:00, 59.62it/s]\n",
      "100%|██████████| 18/18 [00:00<00:00, 237.32it/s]\n",
      "100%|██████████| 53/53 [00:00<00:00, 241.09it/s]\n"
     ]
    },
    {
     "name": "stdout",
     "output_type": "stream",
     "text": [
      "Epoch:260/1000.. Train Loss: 0.039.. Val Loss: 0.145.. Test Loss: 0.119.. Time: 0.03m\n"
     ]
    },
    {
     "name": "stderr",
     "output_type": "stream",
     "text": [
      "100%|██████████| 107/107 [00:01<00:00, 57.01it/s]\n",
      "100%|██████████| 18/18 [00:00<00:00, 259.26it/s]\n",
      "100%|██████████| 53/53 [00:00<00:00, 228.15it/s]\n"
     ]
    },
    {
     "name": "stdout",
     "output_type": "stream",
     "text": [
      "Epoch:261/1000.. Train Loss: 0.036.. Val Loss: 0.173.. Test Loss: 0.124.. Time: 0.04m\n"
     ]
    },
    {
     "name": "stderr",
     "output_type": "stream",
     "text": [
      "100%|██████████| 107/107 [00:01<00:00, 57.62it/s]\n",
      "100%|██████████| 18/18 [00:00<00:00, 235.02it/s]\n",
      "100%|██████████| 53/53 [00:00<00:00, 240.93it/s]\n"
     ]
    },
    {
     "name": "stdout",
     "output_type": "stream",
     "text": [
      "Epoch:262/1000.. Train Loss: 0.047.. Val Loss: 0.160.. Test Loss: 0.131.. Time: 0.04m\n"
     ]
    },
    {
     "name": "stderr",
     "output_type": "stream",
     "text": [
      "100%|██████████| 107/107 [00:01<00:00, 60.44it/s]\n",
      "100%|██████████| 18/18 [00:00<00:00, 245.15it/s]\n",
      "100%|██████████| 53/53 [00:00<00:00, 245.69it/s]\n"
     ]
    },
    {
     "name": "stdout",
     "output_type": "stream",
     "text": [
      "Epoch:263/1000.. Train Loss: 0.043.. Val Loss: 0.140.. Test Loss: 0.113.. Time: 0.03m\n"
     ]
    },
    {
     "name": "stderr",
     "output_type": "stream",
     "text": [
      "100%|██████████| 107/107 [00:01<00:00, 58.27it/s]\n",
      "100%|██████████| 18/18 [00:00<00:00, 234.48it/s]\n",
      "100%|██████████| 53/53 [00:00<00:00, 246.94it/s]\n"
     ]
    },
    {
     "name": "stdout",
     "output_type": "stream",
     "text": [
      "Epoch:264/1000.. Train Loss: 0.038.. Val Loss: 0.148.. Test Loss: 0.123.. Time: 0.04m\n"
     ]
    },
    {
     "name": "stderr",
     "output_type": "stream",
     "text": [
      "100%|██████████| 107/107 [00:01<00:00, 53.68it/s]\n",
      "100%|██████████| 18/18 [00:00<00:00, 214.55it/s]\n",
      "100%|██████████| 53/53 [00:00<00:00, 237.91it/s]\n"
     ]
    },
    {
     "name": "stdout",
     "output_type": "stream",
     "text": [
      "Epoch:265/1000.. Train Loss: 0.040.. Val Loss: 0.172.. Test Loss: 0.129.. Time: 0.04m\n"
     ]
    },
    {
     "name": "stderr",
     "output_type": "stream",
     "text": [
      "100%|██████████| 107/107 [00:01<00:00, 53.74it/s]\n",
      "100%|██████████| 18/18 [00:00<00:00, 229.51it/s]\n",
      "100%|██████████| 53/53 [00:00<00:00, 220.75it/s]\n"
     ]
    },
    {
     "name": "stdout",
     "output_type": "stream",
     "text": [
      "Epoch:266/1000.. Train Loss: 0.043.. Val Loss: 0.145.. Test Loss: 0.117.. Time: 0.04m\n"
     ]
    },
    {
     "name": "stderr",
     "output_type": "stream",
     "text": [
      "100%|██████████| 107/107 [00:01<00:00, 55.27it/s]\n",
      "100%|██████████| 18/18 [00:00<00:00, 244.94it/s]\n",
      "100%|██████████| 53/53 [00:00<00:00, 248.88it/s]\n"
     ]
    },
    {
     "name": "stdout",
     "output_type": "stream",
     "text": [
      "Epoch:267/1000.. Train Loss: 0.038.. Val Loss: 0.147.. Test Loss: 0.116.. Time: 0.04m\n"
     ]
    },
    {
     "name": "stderr",
     "output_type": "stream",
     "text": [
      "100%|██████████| 107/107 [00:01<00:00, 57.19it/s]\n",
      "100%|██████████| 18/18 [00:00<00:00, 256.68it/s]\n",
      "100%|██████████| 53/53 [00:00<00:00, 249.34it/s]\n"
     ]
    },
    {
     "name": "stdout",
     "output_type": "stream",
     "text": [
      "Epoch:268/1000.. Train Loss: 0.036.. Val Loss: 0.158.. Test Loss: 0.117.. Time: 0.04m\n"
     ]
    },
    {
     "name": "stderr",
     "output_type": "stream",
     "text": [
      "100%|██████████| 107/107 [00:01<00:00, 55.64it/s]\n",
      "100%|██████████| 18/18 [00:00<00:00, 249.55it/s]\n",
      "100%|██████████| 53/53 [00:00<00:00, 251.54it/s]\n"
     ]
    },
    {
     "name": "stdout",
     "output_type": "stream",
     "text": [
      "Epoch:269/1000.. Train Loss: 0.047.. Val Loss: 0.144.. Test Loss: 0.125.. Time: 0.04m\n"
     ]
    },
    {
     "name": "stderr",
     "output_type": "stream",
     "text": [
      "100%|██████████| 107/107 [00:01<00:00, 55.59it/s]\n",
      "100%|██████████| 18/18 [00:00<00:00, 243.69it/s]\n",
      "100%|██████████| 53/53 [00:00<00:00, 247.78it/s]\n"
     ]
    },
    {
     "name": "stdout",
     "output_type": "stream",
     "text": [
      "Epoch:270/1000.. Train Loss: 0.034.. Val Loss: 0.159.. Test Loss: 0.133.. Time: 0.04m\n"
     ]
    },
    {
     "name": "stderr",
     "output_type": "stream",
     "text": [
      "100%|██████████| 107/107 [00:01<00:00, 56.87it/s]\n",
      "100%|██████████| 18/18 [00:00<00:00, 239.52it/s]\n",
      "100%|██████████| 53/53 [00:00<00:00, 228.81it/s]\n"
     ]
    },
    {
     "name": "stdout",
     "output_type": "stream",
     "text": [
      "Epoch:271/1000.. Train Loss: 0.037.. Val Loss: 0.144.. Test Loss: 0.112.. Time: 0.04m\n"
     ]
    },
    {
     "name": "stderr",
     "output_type": "stream",
     "text": [
      "100%|██████████| 107/107 [00:01<00:00, 59.34it/s]\n",
      "100%|██████████| 18/18 [00:00<00:00, 228.71it/s]\n",
      "100%|██████████| 53/53 [00:00<00:00, 209.00it/s]\n"
     ]
    },
    {
     "name": "stdout",
     "output_type": "stream",
     "text": [
      "Epoch:272/1000.. Train Loss: 0.038.. Val Loss: 0.151.. Test Loss: 0.118.. Time: 0.04m\n"
     ]
    },
    {
     "name": "stderr",
     "output_type": "stream",
     "text": [
      "100%|██████████| 107/107 [00:01<00:00, 60.09it/s]\n",
      "100%|██████████| 18/18 [00:00<00:00, 256.60it/s]\n",
      "100%|██████████| 53/53 [00:00<00:00, 241.60it/s]\n"
     ]
    },
    {
     "name": "stdout",
     "output_type": "stream",
     "text": [
      "Epoch:273/1000.. Train Loss: 0.040.. Val Loss: 0.140.. Test Loss: 0.115.. Time: 0.03m\n"
     ]
    },
    {
     "name": "stderr",
     "output_type": "stream",
     "text": [
      "100%|██████████| 107/107 [00:01<00:00, 67.66it/s]\n",
      "100%|██████████| 18/18 [00:00<00:00, 246.49it/s]\n",
      "100%|██████████| 53/53 [00:00<00:00, 244.34it/s]\n"
     ]
    },
    {
     "name": "stdout",
     "output_type": "stream",
     "text": [
      "Epoch:274/1000.. Train Loss: 0.044.. Val Loss: 0.146.. Test Loss: 0.112.. Time: 0.03m\n"
     ]
    },
    {
     "name": "stderr",
     "output_type": "stream",
     "text": [
      "100%|██████████| 107/107 [00:01<00:00, 67.87it/s]\n",
      "100%|██████████| 18/18 [00:00<00:00, 247.72it/s]\n",
      "100%|██████████| 53/53 [00:00<00:00, 253.06it/s]\n"
     ]
    },
    {
     "name": "stdout",
     "output_type": "stream",
     "text": [
      "Epoch:275/1000.. Train Loss: 0.035.. Val Loss: 0.134.. Test Loss: 0.108.. Time: 0.03m\n"
     ]
    },
    {
     "name": "stderr",
     "output_type": "stream",
     "text": [
      "100%|██████████| 107/107 [00:01<00:00, 67.79it/s]\n",
      "100%|██████████| 18/18 [00:00<00:00, 237.86it/s]\n",
      "100%|██████████| 53/53 [00:00<00:00, 250.52it/s]\n"
     ]
    },
    {
     "name": "stdout",
     "output_type": "stream",
     "text": [
      "Epoch:276/1000.. Train Loss: 0.046.. Val Loss: 0.133.. Test Loss: 0.124.. Time: 0.03m\n"
     ]
    },
    {
     "name": "stderr",
     "output_type": "stream",
     "text": [
      "100%|██████████| 107/107 [00:01<00:00, 59.80it/s]\n",
      "100%|██████████| 18/18 [00:00<00:00, 259.54it/s]\n",
      "100%|██████████| 53/53 [00:00<00:00, 244.83it/s]\n"
     ]
    },
    {
     "name": "stdout",
     "output_type": "stream",
     "text": [
      "Epoch:277/1000.. Train Loss: 0.041.. Val Loss: 0.143.. Test Loss: 0.128.. Time: 0.03m\n"
     ]
    },
    {
     "name": "stderr",
     "output_type": "stream",
     "text": [
      "100%|██████████| 107/107 [00:01<00:00, 58.08it/s]\n",
      "100%|██████████| 18/18 [00:00<00:00, 249.65it/s]\n",
      "100%|██████████| 53/53 [00:00<00:00, 244.52it/s]\n"
     ]
    },
    {
     "name": "stdout",
     "output_type": "stream",
     "text": [
      "Epoch:278/1000.. Train Loss: 0.040.. Val Loss: 0.117.. Test Loss: 0.119.. Time: 0.04m\n"
     ]
    },
    {
     "name": "stderr",
     "output_type": "stream",
     "text": [
      "100%|██████████| 107/107 [00:01<00:00, 59.32it/s]\n",
      "100%|██████████| 18/18 [00:00<00:00, 245.61it/s]\n",
      "100%|██████████| 53/53 [00:00<00:00, 246.24it/s]\n"
     ]
    },
    {
     "name": "stdout",
     "output_type": "stream",
     "text": [
      "Epoch:279/1000.. Train Loss: 0.039.. Val Loss: 0.122.. Test Loss: 0.120.. Time: 0.03m\n"
     ]
    },
    {
     "name": "stderr",
     "output_type": "stream",
     "text": [
      "100%|██████████| 107/107 [00:01<00:00, 60.79it/s]\n",
      "100%|██████████| 18/18 [00:00<00:00, 238.56it/s]\n",
      "100%|██████████| 53/53 [00:00<00:00, 214.96it/s]\n"
     ]
    },
    {
     "name": "stdout",
     "output_type": "stream",
     "text": [
      "Epoch:280/1000.. Train Loss: 0.040.. Val Loss: 0.128.. Test Loss: 0.120.. Time: 0.03m\n"
     ]
    },
    {
     "name": "stderr",
     "output_type": "stream",
     "text": [
      "100%|██████████| 107/107 [00:01<00:00, 55.32it/s]\n",
      "100%|██████████| 18/18 [00:00<00:00, 233.44it/s]\n",
      "100%|██████████| 53/53 [00:00<00:00, 248.05it/s]\n"
     ]
    },
    {
     "name": "stdout",
     "output_type": "stream",
     "text": [
      "Epoch:281/1000.. Train Loss: 0.034.. Val Loss: 0.138.. Test Loss: 0.122.. Time: 0.04m\n"
     ]
    },
    {
     "name": "stderr",
     "output_type": "stream",
     "text": [
      "100%|██████████| 107/107 [00:01<00:00, 61.46it/s]\n",
      "100%|██████████| 18/18 [00:00<00:00, 237.33it/s]\n",
      "100%|██████████| 53/53 [00:00<00:00, 250.68it/s]\n"
     ]
    },
    {
     "name": "stdout",
     "output_type": "stream",
     "text": [
      "Epoch:282/1000.. Train Loss: 0.032.. Val Loss: 0.133.. Test Loss: 0.126.. Time: 0.03m\n"
     ]
    },
    {
     "name": "stderr",
     "output_type": "stream",
     "text": [
      "100%|██████████| 107/107 [00:01<00:00, 55.19it/s]\n",
      "100%|██████████| 18/18 [00:00<00:00, 225.64it/s]\n",
      "100%|██████████| 53/53 [00:00<00:00, 194.77it/s]\n"
     ]
    },
    {
     "name": "stdout",
     "output_type": "stream",
     "text": [
      "Epoch:283/1000.. Train Loss: 0.035.. Val Loss: 0.127.. Test Loss: 0.117.. Time: 0.04m\n"
     ]
    },
    {
     "name": "stderr",
     "output_type": "stream",
     "text": [
      "100%|██████████| 107/107 [00:01<00:00, 53.53it/s]\n",
      "100%|██████████| 18/18 [00:00<00:00, 248.91it/s]\n",
      "100%|██████████| 53/53 [00:00<00:00, 244.11it/s]\n"
     ]
    },
    {
     "name": "stdout",
     "output_type": "stream",
     "text": [
      "Epoch:284/1000.. Train Loss: 0.035.. Val Loss: 0.130.. Test Loss: 0.115.. Time: 0.04m\n"
     ]
    },
    {
     "name": "stderr",
     "output_type": "stream",
     "text": [
      "100%|██████████| 107/107 [00:01<00:00, 58.87it/s]\n",
      "100%|██████████| 18/18 [00:00<00:00, 242.40it/s]\n",
      "100%|██████████| 53/53 [00:00<00:00, 248.10it/s]\n"
     ]
    },
    {
     "name": "stdout",
     "output_type": "stream",
     "text": [
      "Epoch:285/1000.. Train Loss: 0.036.. Val Loss: 0.175.. Test Loss: 0.130.. Time: 0.04m\n"
     ]
    },
    {
     "name": "stderr",
     "output_type": "stream",
     "text": [
      "100%|██████████| 107/107 [00:01<00:00, 58.12it/s]\n",
      "100%|██████████| 18/18 [00:00<00:00, 207.07it/s]\n",
      "100%|██████████| 53/53 [00:00<00:00, 234.04it/s]\n"
     ]
    },
    {
     "name": "stdout",
     "output_type": "stream",
     "text": [
      "Epoch:286/1000.. Train Loss: 0.040.. Val Loss: 0.131.. Test Loss: 0.118.. Time: 0.04m\n"
     ]
    },
    {
     "name": "stderr",
     "output_type": "stream",
     "text": [
      "100%|██████████| 107/107 [00:01<00:00, 55.02it/s]\n",
      "100%|██████████| 18/18 [00:00<00:00, 237.97it/s]\n",
      "100%|██████████| 53/53 [00:00<00:00, 248.27it/s]\n"
     ]
    },
    {
     "name": "stdout",
     "output_type": "stream",
     "text": [
      "Epoch:287/1000.. Train Loss: 0.037.. Val Loss: 0.151.. Test Loss: 0.130.. Time: 0.04m\n"
     ]
    },
    {
     "name": "stderr",
     "output_type": "stream",
     "text": [
      "100%|██████████| 107/107 [00:01<00:00, 55.73it/s]\n",
      "100%|██████████| 18/18 [00:00<00:00, 221.51it/s]\n",
      "100%|██████████| 53/53 [00:00<00:00, 237.85it/s]\n"
     ]
    },
    {
     "name": "stdout",
     "output_type": "stream",
     "text": [
      "Epoch:288/1000.. Train Loss: 0.038.. Val Loss: 0.130.. Test Loss: 0.125.. Time: 0.04m\n"
     ]
    },
    {
     "name": "stderr",
     "output_type": "stream",
     "text": [
      "100%|██████████| 107/107 [00:01<00:00, 56.15it/s]\n",
      "100%|██████████| 18/18 [00:00<00:00, 226.67it/s]\n",
      "100%|██████████| 53/53 [00:00<00:00, 251.04it/s]\n"
     ]
    },
    {
     "name": "stdout",
     "output_type": "stream",
     "text": [
      "Epoch:289/1000.. Train Loss: 0.041.. Val Loss: 0.139.. Test Loss: 0.124.. Time: 0.04m\n"
     ]
    },
    {
     "name": "stderr",
     "output_type": "stream",
     "text": [
      "100%|██████████| 107/107 [00:01<00:00, 58.45it/s]\n",
      "100%|██████████| 18/18 [00:00<00:00, 249.59it/s]\n",
      "100%|██████████| 53/53 [00:00<00:00, 247.37it/s]\n"
     ]
    },
    {
     "name": "stdout",
     "output_type": "stream",
     "text": [
      "Epoch:290/1000.. Train Loss: 0.036.. Val Loss: 0.139.. Test Loss: 0.116.. Time: 0.04m\n"
     ]
    },
    {
     "name": "stderr",
     "output_type": "stream",
     "text": [
      "100%|██████████| 107/107 [00:01<00:00, 56.95it/s]\n",
      "100%|██████████| 18/18 [00:00<00:00, 248.10it/s]\n",
      "100%|██████████| 53/53 [00:00<00:00, 237.88it/s]\n"
     ]
    },
    {
     "name": "stdout",
     "output_type": "stream",
     "text": [
      "Epoch:291/1000.. Train Loss: 0.031.. Val Loss: 0.152.. Test Loss: 0.135.. Time: 0.04m\n"
     ]
    },
    {
     "name": "stderr",
     "output_type": "stream",
     "text": [
      "100%|██████████| 107/107 [00:01<00:00, 55.78it/s]\n",
      "100%|██████████| 18/18 [00:00<00:00, 243.24it/s]\n",
      "100%|██████████| 53/53 [00:00<00:00, 233.74it/s]\n"
     ]
    },
    {
     "name": "stdout",
     "output_type": "stream",
     "text": [
      "Epoch:292/1000.. Train Loss: 0.033.. Val Loss: 0.123.. Test Loss: 0.107.. Time: 0.04m\n"
     ]
    },
    {
     "name": "stderr",
     "output_type": "stream",
     "text": [
      "100%|██████████| 107/107 [00:01<00:00, 56.42it/s]\n",
      "100%|██████████| 18/18 [00:00<00:00, 258.53it/s]\n",
      "100%|██████████| 53/53 [00:00<00:00, 244.82it/s]\n"
     ]
    },
    {
     "name": "stdout",
     "output_type": "stream",
     "text": [
      "Epoch:293/1000.. Train Loss: 0.032.. Val Loss: 0.118.. Test Loss: 0.110.. Time: 0.04m\n"
     ]
    },
    {
     "name": "stderr",
     "output_type": "stream",
     "text": [
      "100%|██████████| 107/107 [00:01<00:00, 58.50it/s]\n",
      "100%|██████████| 18/18 [00:00<00:00, 230.18it/s]\n",
      "100%|██████████| 53/53 [00:00<00:00, 222.96it/s]\n"
     ]
    },
    {
     "name": "stdout",
     "output_type": "stream",
     "text": [
      "Epoch:294/1000.. Train Loss: 0.033.. Val Loss: 0.154.. Test Loss: 0.123.. Time: 0.04m\n"
     ]
    },
    {
     "name": "stderr",
     "output_type": "stream",
     "text": [
      "100%|██████████| 107/107 [00:01<00:00, 58.49it/s]\n",
      "100%|██████████| 18/18 [00:00<00:00, 240.78it/s]\n",
      "100%|██████████| 53/53 [00:00<00:00, 220.84it/s]\n"
     ]
    },
    {
     "name": "stdout",
     "output_type": "stream",
     "text": [
      "Epoch:295/1000.. Train Loss: 0.035.. Val Loss: 0.205.. Test Loss: 0.122.. Time: 0.04m\n"
     ]
    },
    {
     "name": "stderr",
     "output_type": "stream",
     "text": [
      "100%|██████████| 107/107 [00:01<00:00, 55.48it/s]\n",
      "100%|██████████| 18/18 [00:00<00:00, 209.70it/s]\n",
      "100%|██████████| 53/53 [00:00<00:00, 229.58it/s]\n"
     ]
    },
    {
     "name": "stdout",
     "output_type": "stream",
     "text": [
      "Epoch:296/1000.. Train Loss: 0.039.. Val Loss: 0.139.. Test Loss: 0.105.. Time: 0.04m\n"
     ]
    },
    {
     "name": "stderr",
     "output_type": "stream",
     "text": [
      "100%|██████████| 107/107 [00:01<00:00, 56.40it/s]\n",
      "100%|██████████| 18/18 [00:00<00:00, 255.26it/s]\n",
      "100%|██████████| 53/53 [00:00<00:00, 242.11it/s]\n"
     ]
    },
    {
     "name": "stdout",
     "output_type": "stream",
     "text": [
      "Epoch:297/1000.. Train Loss: 0.038.. Val Loss: 0.132.. Test Loss: 0.113.. Time: 0.04m\n"
     ]
    },
    {
     "name": "stderr",
     "output_type": "stream",
     "text": [
      "100%|██████████| 107/107 [00:01<00:00, 59.77it/s]\n",
      "100%|██████████| 18/18 [00:00<00:00, 237.39it/s]\n",
      "100%|██████████| 53/53 [00:00<00:00, 230.54it/s]\n"
     ]
    },
    {
     "name": "stdout",
     "output_type": "stream",
     "text": [
      "Epoch:298/1000.. Train Loss: 0.038.. Val Loss: 0.141.. Test Loss: 0.113.. Time: 0.04m\n"
     ]
    },
    {
     "name": "stderr",
     "output_type": "stream",
     "text": [
      "100%|██████████| 107/107 [00:01<00:00, 55.92it/s]\n",
      "100%|██████████| 18/18 [00:00<00:00, 205.23it/s]\n",
      "100%|██████████| 53/53 [00:00<00:00, 235.48it/s]\n"
     ]
    },
    {
     "name": "stdout",
     "output_type": "stream",
     "text": [
      "Epoch:299/1000.. Train Loss: 0.035.. Val Loss: 0.147.. Test Loss: 0.122.. Time: 0.04m\n"
     ]
    },
    {
     "name": "stderr",
     "output_type": "stream",
     "text": [
      "100%|██████████| 107/107 [00:01<00:00, 57.82it/s]\n",
      "100%|██████████| 18/18 [00:00<00:00, 241.10it/s]\n",
      "100%|██████████| 53/53 [00:00<00:00, 251.31it/s]\n"
     ]
    },
    {
     "name": "stdout",
     "output_type": "stream",
     "text": [
      "Epoch:300/1000.. Train Loss: 0.034.. Val Loss: 0.127.. Test Loss: 0.121.. Time: 0.04m\n"
     ]
    },
    {
     "name": "stderr",
     "output_type": "stream",
     "text": [
      "100%|██████████| 107/107 [00:01<00:00, 57.40it/s]\n",
      "100%|██████████| 18/18 [00:00<00:00, 237.37it/s]\n",
      "100%|██████████| 53/53 [00:00<00:00, 230.50it/s]\n"
     ]
    },
    {
     "name": "stdout",
     "output_type": "stream",
     "text": [
      "Epoch:301/1000.. Train Loss: 0.031.. Val Loss: 0.176.. Test Loss: 0.125.. Time: 0.04m\n"
     ]
    },
    {
     "name": "stderr",
     "output_type": "stream",
     "text": [
      "100%|██████████| 107/107 [00:01<00:00, 59.80it/s]\n",
      "100%|██████████| 18/18 [00:00<00:00, 192.06it/s]\n",
      "100%|██████████| 53/53 [00:00<00:00, 251.37it/s]\n"
     ]
    },
    {
     "name": "stdout",
     "output_type": "stream",
     "text": [
      "Epoch:302/1000.. Train Loss: 0.028.. Val Loss: 0.166.. Test Loss: 0.122.. Time: 0.04m\n"
     ]
    },
    {
     "name": "stderr",
     "output_type": "stream",
     "text": [
      "100%|██████████| 107/107 [00:01<00:00, 59.43it/s]\n",
      "100%|██████████| 18/18 [00:00<00:00, 247.28it/s]\n",
      "100%|██████████| 53/53 [00:00<00:00, 234.98it/s]\n"
     ]
    },
    {
     "name": "stdout",
     "output_type": "stream",
     "text": [
      "Epoch:303/1000.. Train Loss: 0.037.. Val Loss: 0.125.. Test Loss: 0.110.. Time: 0.04m\n"
     ]
    },
    {
     "name": "stderr",
     "output_type": "stream",
     "text": [
      "100%|██████████| 107/107 [00:01<00:00, 58.27it/s]\n",
      "100%|██████████| 18/18 [00:00<00:00, 212.84it/s]\n",
      "100%|██████████| 53/53 [00:00<00:00, 194.60it/s]\n"
     ]
    },
    {
     "name": "stdout",
     "output_type": "stream",
     "text": [
      "Epoch:304/1000.. Train Loss: 0.031.. Val Loss: 0.159.. Test Loss: 0.127.. Time: 0.04m\n"
     ]
    },
    {
     "name": "stderr",
     "output_type": "stream",
     "text": [
      "100%|██████████| 107/107 [00:01<00:00, 57.28it/s]\n",
      "100%|██████████| 18/18 [00:00<00:00, 220.46it/s]\n",
      "100%|██████████| 53/53 [00:00<00:00, 249.86it/s]\n"
     ]
    },
    {
     "name": "stdout",
     "output_type": "stream",
     "text": [
      "Epoch:305/1000.. Train Loss: 0.037.. Val Loss: 0.151.. Test Loss: 0.138.. Time: 0.04m\n"
     ]
    },
    {
     "name": "stderr",
     "output_type": "stream",
     "text": [
      "100%|██████████| 107/107 [00:01<00:00, 57.97it/s]\n",
      "100%|██████████| 18/18 [00:00<00:00, 243.61it/s]\n",
      "100%|██████████| 53/53 [00:00<00:00, 252.33it/s]\n"
     ]
    },
    {
     "name": "stdout",
     "output_type": "stream",
     "text": [
      "Epoch:306/1000.. Train Loss: 0.030.. Val Loss: 0.138.. Test Loss: 0.133.. Time: 0.04m\n"
     ]
    },
    {
     "name": "stderr",
     "output_type": "stream",
     "text": [
      "100%|██████████| 107/107 [00:01<00:00, 58.45it/s]\n",
      "100%|██████████| 18/18 [00:00<00:00, 256.63it/s]\n",
      "100%|██████████| 53/53 [00:00<00:00, 249.90it/s]\n"
     ]
    },
    {
     "name": "stdout",
     "output_type": "stream",
     "text": [
      "Epoch:307/1000.. Train Loss: 0.030.. Val Loss: 0.151.. Test Loss: 0.118.. Time: 0.04m\n"
     ]
    },
    {
     "name": "stderr",
     "output_type": "stream",
     "text": [
      "100%|██████████| 107/107 [00:01<00:00, 56.59it/s]\n",
      "100%|██████████| 18/18 [00:00<00:00, 218.03it/s]\n",
      "100%|██████████| 53/53 [00:00<00:00, 241.48it/s]\n"
     ]
    },
    {
     "name": "stdout",
     "output_type": "stream",
     "text": [
      "Epoch:308/1000.. Train Loss: 0.031.. Val Loss: 0.147.. Test Loss: 0.121.. Time: 0.04m\n"
     ]
    },
    {
     "name": "stderr",
     "output_type": "stream",
     "text": [
      "100%|██████████| 107/107 [00:01<00:00, 57.47it/s]\n",
      "100%|██████████| 18/18 [00:00<00:00, 252.88it/s]\n",
      "100%|██████████| 53/53 [00:00<00:00, 244.37it/s]\n"
     ]
    },
    {
     "name": "stdout",
     "output_type": "stream",
     "text": [
      "Epoch:309/1000.. Train Loss: 0.031.. Val Loss: 0.173.. Test Loss: 0.125.. Time: 0.04m\n"
     ]
    },
    {
     "name": "stderr",
     "output_type": "stream",
     "text": [
      "100%|██████████| 107/107 [00:01<00:00, 59.80it/s]\n",
      "100%|██████████| 18/18 [00:00<00:00, 180.29it/s]\n",
      "100%|██████████| 53/53 [00:00<00:00, 223.94it/s]\n"
     ]
    },
    {
     "name": "stdout",
     "output_type": "stream",
     "text": [
      "Epoch:310/1000.. Train Loss: 0.032.. Val Loss: 0.155.. Test Loss: 0.119.. Time: 0.04m\n"
     ]
    },
    {
     "name": "stderr",
     "output_type": "stream",
     "text": [
      "100%|██████████| 107/107 [00:01<00:00, 62.38it/s]\n",
      "100%|██████████| 18/18 [00:00<00:00, 215.16it/s]\n",
      "100%|██████████| 53/53 [00:00<00:00, 246.69it/s]\n"
     ]
    },
    {
     "name": "stdout",
     "output_type": "stream",
     "text": [
      "Epoch:311/1000.. Train Loss: 0.039.. Val Loss: 0.144.. Test Loss: 0.116.. Time: 0.03m\n"
     ]
    },
    {
     "name": "stderr",
     "output_type": "stream",
     "text": [
      "100%|██████████| 107/107 [00:01<00:00, 59.24it/s]\n",
      "100%|██████████| 18/18 [00:00<00:00, 206.09it/s]\n",
      "100%|██████████| 53/53 [00:00<00:00, 247.27it/s]\n"
     ]
    },
    {
     "name": "stdout",
     "output_type": "stream",
     "text": [
      "Epoch:312/1000.. Train Loss: 0.031.. Val Loss: 0.163.. Test Loss: 0.120.. Time: 0.04m\n"
     ]
    },
    {
     "name": "stderr",
     "output_type": "stream",
     "text": [
      "100%|██████████| 107/107 [00:01<00:00, 56.48it/s]\n",
      "100%|██████████| 18/18 [00:00<00:00, 230.15it/s]\n",
      "100%|██████████| 53/53 [00:00<00:00, 225.68it/s]\n"
     ]
    },
    {
     "name": "stdout",
     "output_type": "stream",
     "text": [
      "Epoch:313/1000.. Train Loss: 0.030.. Val Loss: 0.153.. Test Loss: 0.131.. Time: 0.04m\n"
     ]
    },
    {
     "name": "stderr",
     "output_type": "stream",
     "text": [
      "100%|██████████| 107/107 [00:01<00:00, 55.61it/s]\n",
      "100%|██████████| 18/18 [00:00<00:00, 216.26it/s]\n",
      "100%|██████████| 53/53 [00:00<00:00, 241.70it/s]\n"
     ]
    },
    {
     "name": "stdout",
     "output_type": "stream",
     "text": [
      "Epoch:314/1000.. Train Loss: 0.037.. Val Loss: 0.174.. Test Loss: 0.119.. Time: 0.04m\n"
     ]
    },
    {
     "name": "stderr",
     "output_type": "stream",
     "text": [
      "100%|██████████| 107/107 [00:01<00:00, 58.20it/s]\n",
      "100%|██████████| 18/18 [00:00<00:00, 210.61it/s]\n",
      "100%|██████████| 53/53 [00:00<00:00, 225.05it/s]\n"
     ]
    },
    {
     "name": "stdout",
     "output_type": "stream",
     "text": [
      "Epoch:315/1000.. Train Loss: 0.035.. Val Loss: 0.143.. Test Loss: 0.119.. Time: 0.04m\n"
     ]
    },
    {
     "name": "stderr",
     "output_type": "stream",
     "text": [
      "100%|██████████| 107/107 [00:01<00:00, 60.62it/s]\n",
      "100%|██████████| 18/18 [00:00<00:00, 242.96it/s]\n",
      "100%|██████████| 53/53 [00:00<00:00, 240.00it/s]\n"
     ]
    },
    {
     "name": "stdout",
     "output_type": "stream",
     "text": [
      "Epoch:316/1000.. Train Loss: 0.026.. Val Loss: 0.169.. Test Loss: 0.129.. Time: 0.03m\n"
     ]
    },
    {
     "name": "stderr",
     "output_type": "stream",
     "text": [
      "100%|██████████| 107/107 [00:01<00:00, 55.53it/s]\n",
      "100%|██████████| 18/18 [00:00<00:00, 221.95it/s]\n",
      "100%|██████████| 53/53 [00:00<00:00, 243.59it/s]\n"
     ]
    },
    {
     "name": "stdout",
     "output_type": "stream",
     "text": [
      "Epoch:317/1000.. Train Loss: 0.038.. Val Loss: 0.150.. Test Loss: 0.123.. Time: 0.04m\n"
     ]
    },
    {
     "name": "stderr",
     "output_type": "stream",
     "text": [
      "100%|██████████| 107/107 [00:01<00:00, 56.31it/s]\n",
      "100%|██████████| 18/18 [00:00<00:00, 225.21it/s]\n",
      "100%|██████████| 53/53 [00:00<00:00, 243.83it/s]\n"
     ]
    },
    {
     "name": "stdout",
     "output_type": "stream",
     "text": [
      "Epoch:318/1000.. Train Loss: 0.032.. Val Loss: 0.178.. Test Loss: 0.143.. Time: 0.04m\n"
     ]
    },
    {
     "name": "stderr",
     "output_type": "stream",
     "text": [
      "100%|██████████| 107/107 [00:01<00:00, 60.13it/s]\n",
      "100%|██████████| 18/18 [00:00<00:00, 195.11it/s]\n",
      "100%|██████████| 53/53 [00:00<00:00, 249.95it/s]\n"
     ]
    },
    {
     "name": "stdout",
     "output_type": "stream",
     "text": [
      "Epoch:319/1000.. Train Loss: 0.033.. Val Loss: 0.154.. Test Loss: 0.125.. Time: 0.03m\n"
     ]
    },
    {
     "name": "stderr",
     "output_type": "stream",
     "text": [
      "100%|██████████| 107/107 [00:01<00:00, 57.90it/s]\n",
      "100%|██████████| 18/18 [00:00<00:00, 249.30it/s]\n",
      "100%|██████████| 53/53 [00:00<00:00, 248.18it/s]\n"
     ]
    },
    {
     "name": "stdout",
     "output_type": "stream",
     "text": [
      "Epoch:320/1000.. Train Loss: 0.039.. Val Loss: 0.175.. Test Loss: 0.123.. Time: 0.04m\n"
     ]
    },
    {
     "name": "stderr",
     "output_type": "stream",
     "text": [
      "100%|██████████| 107/107 [00:01<00:00, 57.22it/s]\n",
      "100%|██████████| 18/18 [00:00<00:00, 215.51it/s]\n",
      "100%|██████████| 53/53 [00:00<00:00, 247.99it/s]\n"
     ]
    },
    {
     "name": "stdout",
     "output_type": "stream",
     "text": [
      "Epoch:321/1000.. Train Loss: 0.031.. Val Loss: 0.158.. Test Loss: 0.120.. Time: 0.04m\n"
     ]
    },
    {
     "name": "stderr",
     "output_type": "stream",
     "text": [
      "100%|██████████| 107/107 [00:01<00:00, 56.91it/s]\n",
      "100%|██████████| 18/18 [00:00<00:00, 203.14it/s]\n",
      "100%|██████████| 53/53 [00:00<00:00, 222.87it/s]\n"
     ]
    },
    {
     "name": "stdout",
     "output_type": "stream",
     "text": [
      "Epoch:322/1000.. Train Loss: 0.032.. Val Loss: 0.153.. Test Loss: 0.127.. Time: 0.04m\n"
     ]
    },
    {
     "name": "stderr",
     "output_type": "stream",
     "text": [
      "100%|██████████| 107/107 [00:01<00:00, 54.78it/s]\n",
      "100%|██████████| 18/18 [00:00<00:00, 255.52it/s]\n",
      "100%|██████████| 53/53 [00:00<00:00, 238.48it/s]\n"
     ]
    },
    {
     "name": "stdout",
     "output_type": "stream",
     "text": [
      "Epoch:323/1000.. Train Loss: 0.032.. Val Loss: 0.139.. Test Loss: 0.117.. Time: 0.04m\n"
     ]
    },
    {
     "name": "stderr",
     "output_type": "stream",
     "text": [
      "100%|██████████| 107/107 [00:01<00:00, 57.36it/s]\n",
      "100%|██████████| 18/18 [00:00<00:00, 232.01it/s]\n",
      "100%|██████████| 53/53 [00:00<00:00, 253.35it/s]\n"
     ]
    },
    {
     "name": "stdout",
     "output_type": "stream",
     "text": [
      "Epoch:324/1000.. Train Loss: 0.033.. Val Loss: 0.146.. Test Loss: 0.128.. Time: 0.04m\n"
     ]
    },
    {
     "name": "stderr",
     "output_type": "stream",
     "text": [
      "100%|██████████| 107/107 [00:01<00:00, 60.28it/s]\n",
      "100%|██████████| 18/18 [00:00<00:00, 226.63it/s]\n",
      "100%|██████████| 53/53 [00:00<00:00, 226.66it/s]\n"
     ]
    },
    {
     "name": "stdout",
     "output_type": "stream",
     "text": [
      "Epoch:325/1000.. Train Loss: 0.029.. Val Loss: 0.230.. Test Loss: 0.128.. Time: 0.04m\n"
     ]
    },
    {
     "name": "stderr",
     "output_type": "stream",
     "text": [
      "100%|██████████| 107/107 [00:01<00:00, 55.97it/s]\n",
      "100%|██████████| 18/18 [00:00<00:00, 241.75it/s]\n",
      "100%|██████████| 53/53 [00:00<00:00, 215.13it/s]\n"
     ]
    },
    {
     "name": "stdout",
     "output_type": "stream",
     "text": [
      "Epoch:326/1000.. Train Loss: 0.028.. Val Loss: 0.213.. Test Loss: 0.124.. Time: 0.04m\n"
     ]
    },
    {
     "name": "stderr",
     "output_type": "stream",
     "text": [
      "100%|██████████| 107/107 [00:01<00:00, 58.57it/s]\n",
      "100%|██████████| 18/18 [00:00<00:00, 239.52it/s]\n",
      "100%|██████████| 53/53 [00:00<00:00, 250.69it/s]\n"
     ]
    },
    {
     "name": "stdout",
     "output_type": "stream",
     "text": [
      "Epoch:327/1000.. Train Loss: 0.033.. Val Loss: 0.163.. Test Loss: 0.122.. Time: 0.04m\n"
     ]
    },
    {
     "name": "stderr",
     "output_type": "stream",
     "text": [
      "100%|██████████| 107/107 [00:01<00:00, 57.85it/s]\n",
      "100%|██████████| 18/18 [00:00<00:00, 257.34it/s]\n",
      "100%|██████████| 53/53 [00:00<00:00, 241.99it/s]\n"
     ]
    },
    {
     "name": "stdout",
     "output_type": "stream",
     "text": [
      "Epoch:328/1000.. Train Loss: 0.039.. Val Loss: 0.145.. Test Loss: 0.123.. Time: 0.04m\n"
     ]
    },
    {
     "name": "stderr",
     "output_type": "stream",
     "text": [
      "100%|██████████| 107/107 [00:01<00:00, 54.14it/s]\n",
      "100%|██████████| 18/18 [00:00<00:00, 238.81it/s]\n",
      "100%|██████████| 53/53 [00:00<00:00, 243.69it/s]\n"
     ]
    },
    {
     "name": "stdout",
     "output_type": "stream",
     "text": [
      "Epoch:329/1000.. Train Loss: 0.033.. Val Loss: 0.147.. Test Loss: 0.123.. Time: 0.04m\n"
     ]
    },
    {
     "name": "stderr",
     "output_type": "stream",
     "text": [
      "100%|██████████| 107/107 [00:01<00:00, 55.62it/s]\n",
      "100%|██████████| 18/18 [00:00<00:00, 227.76it/s]\n",
      "100%|██████████| 53/53 [00:00<00:00, 252.85it/s]\n"
     ]
    },
    {
     "name": "stdout",
     "output_type": "stream",
     "text": [
      "Epoch:330/1000.. Train Loss: 0.034.. Val Loss: 0.153.. Test Loss: 0.116.. Time: 0.04m\n"
     ]
    },
    {
     "name": "stderr",
     "output_type": "stream",
     "text": [
      "100%|██████████| 107/107 [00:01<00:00, 67.39it/s]\n",
      "100%|██████████| 18/18 [00:00<00:00, 218.24it/s]\n",
      "100%|██████████| 53/53 [00:00<00:00, 227.84it/s]\n"
     ]
    },
    {
     "name": "stdout",
     "output_type": "stream",
     "text": [
      "Epoch:331/1000.. Train Loss: 0.034.. Val Loss: 0.153.. Test Loss: 0.126.. Time: 0.03m\n"
     ]
    },
    {
     "name": "stderr",
     "output_type": "stream",
     "text": [
      "100%|██████████| 107/107 [00:01<00:00, 63.04it/s]\n",
      "100%|██████████| 18/18 [00:00<00:00, 256.09it/s]\n",
      "100%|██████████| 53/53 [00:00<00:00, 240.34it/s]\n"
     ]
    },
    {
     "name": "stdout",
     "output_type": "stream",
     "text": [
      "Epoch:332/1000.. Train Loss: 0.028.. Val Loss: 0.161.. Test Loss: 0.126.. Time: 0.03m\n"
     ]
    },
    {
     "name": "stderr",
     "output_type": "stream",
     "text": [
      "100%|██████████| 107/107 [00:01<00:00, 60.75it/s]\n",
      "100%|██████████| 18/18 [00:00<00:00, 214.89it/s]\n",
      "100%|██████████| 53/53 [00:00<00:00, 233.71it/s]\n"
     ]
    },
    {
     "name": "stdout",
     "output_type": "stream",
     "text": [
      "Epoch:333/1000.. Train Loss: 0.032.. Val Loss: 0.147.. Test Loss: 0.124.. Time: 0.03m\n"
     ]
    },
    {
     "name": "stderr",
     "output_type": "stream",
     "text": [
      "100%|██████████| 107/107 [00:01<00:00, 56.36it/s]\n",
      "100%|██████████| 18/18 [00:00<00:00, 212.70it/s]\n",
      "100%|██████████| 53/53 [00:00<00:00, 233.32it/s]\n"
     ]
    },
    {
     "name": "stdout",
     "output_type": "stream",
     "text": [
      "Epoch:334/1000.. Train Loss: 0.030.. Val Loss: 0.194.. Test Loss: 0.130.. Time: 0.04m\n"
     ]
    },
    {
     "name": "stderr",
     "output_type": "stream",
     "text": [
      "100%|██████████| 107/107 [00:01<00:00, 57.20it/s]\n",
      "100%|██████████| 18/18 [00:00<00:00, 244.19it/s]\n",
      "100%|██████████| 53/53 [00:00<00:00, 246.90it/s]\n"
     ]
    },
    {
     "name": "stdout",
     "output_type": "stream",
     "text": [
      "Epoch:335/1000.. Train Loss: 0.034.. Val Loss: 0.133.. Test Loss: 0.114.. Time: 0.04m\n"
     ]
    },
    {
     "name": "stderr",
     "output_type": "stream",
     "text": [
      "100%|██████████| 107/107 [00:01<00:00, 55.41it/s]\n",
      "100%|██████████| 18/18 [00:00<00:00, 253.62it/s]\n",
      "100%|██████████| 53/53 [00:00<00:00, 242.13it/s]\n"
     ]
    },
    {
     "name": "stdout",
     "output_type": "stream",
     "text": [
      "Epoch:336/1000.. Train Loss: 0.039.. Val Loss: 0.157.. Test Loss: 0.117.. Time: 0.04m\n"
     ]
    },
    {
     "name": "stderr",
     "output_type": "stream",
     "text": [
      "100%|██████████| 107/107 [00:01<00:00, 55.94it/s]\n",
      "100%|██████████| 18/18 [00:00<00:00, 244.82it/s]\n",
      "100%|██████████| 53/53 [00:00<00:00, 237.12it/s]\n"
     ]
    },
    {
     "name": "stdout",
     "output_type": "stream",
     "text": [
      "Epoch:337/1000.. Train Loss: 0.040.. Val Loss: 0.143.. Test Loss: 0.113.. Time: 0.04m\n"
     ]
    },
    {
     "name": "stderr",
     "output_type": "stream",
     "text": [
      "100%|██████████| 107/107 [00:01<00:00, 58.27it/s]\n",
      "100%|██████████| 18/18 [00:00<00:00, 232.32it/s]\n",
      "100%|██████████| 53/53 [00:00<00:00, 250.33it/s]\n"
     ]
    },
    {
     "name": "stdout",
     "output_type": "stream",
     "text": [
      "Epoch:338/1000.. Train Loss: 0.034.. Val Loss: 0.166.. Test Loss: 0.122.. Time: 0.04m\n"
     ]
    },
    {
     "name": "stderr",
     "output_type": "stream",
     "text": [
      "100%|██████████| 107/107 [00:01<00:00, 59.86it/s]\n",
      "100%|██████████| 18/18 [00:00<00:00, 247.54it/s]\n",
      "100%|██████████| 53/53 [00:00<00:00, 221.73it/s]\n"
     ]
    },
    {
     "name": "stdout",
     "output_type": "stream",
     "text": [
      "Epoch:339/1000.. Train Loss: 0.035.. Val Loss: 0.182.. Test Loss: 0.126.. Time: 0.04m\n"
     ]
    },
    {
     "name": "stderr",
     "output_type": "stream",
     "text": [
      "100%|██████████| 107/107 [00:01<00:00, 55.48it/s]\n",
      "100%|██████████| 18/18 [00:00<00:00, 245.83it/s]\n",
      "100%|██████████| 53/53 [00:00<00:00, 248.11it/s]\n"
     ]
    },
    {
     "name": "stdout",
     "output_type": "stream",
     "text": [
      "Epoch:340/1000.. Train Loss: 0.029.. Val Loss: 0.161.. Test Loss: 0.116.. Time: 0.04m\n"
     ]
    },
    {
     "name": "stderr",
     "output_type": "stream",
     "text": [
      "100%|██████████| 107/107 [00:01<00:00, 58.25it/s]\n",
      "100%|██████████| 18/18 [00:00<00:00, 235.74it/s]\n",
      "100%|██████████| 53/53 [00:00<00:00, 225.13it/s]\n"
     ]
    },
    {
     "name": "stdout",
     "output_type": "stream",
     "text": [
      "Epoch:341/1000.. Train Loss: 0.030.. Val Loss: 0.214.. Test Loss: 0.135.. Time: 0.04m\n"
     ]
    },
    {
     "name": "stderr",
     "output_type": "stream",
     "text": [
      "100%|██████████| 107/107 [00:01<00:00, 59.31it/s]\n",
      "100%|██████████| 18/18 [00:00<00:00, 243.68it/s]\n",
      "100%|██████████| 53/53 [00:00<00:00, 247.61it/s]\n"
     ]
    },
    {
     "name": "stdout",
     "output_type": "stream",
     "text": [
      "Epoch:342/1000.. Train Loss: 0.035.. Val Loss: 0.160.. Test Loss: 0.138.. Time: 0.04m\n"
     ]
    },
    {
     "name": "stderr",
     "output_type": "stream",
     "text": [
      "100%|██████████| 107/107 [00:01<00:00, 55.74it/s]\n",
      "100%|██████████| 18/18 [00:00<00:00, 242.06it/s]\n",
      "100%|██████████| 53/53 [00:00<00:00, 244.67it/s]\n"
     ]
    },
    {
     "name": "stdout",
     "output_type": "stream",
     "text": [
      "Epoch:343/1000.. Train Loss: 0.034.. Val Loss: 0.162.. Test Loss: 0.124.. Time: 0.04m\n"
     ]
    },
    {
     "name": "stderr",
     "output_type": "stream",
     "text": [
      "100%|██████████| 107/107 [00:01<00:00, 58.28it/s]\n",
      "100%|██████████| 18/18 [00:00<00:00, 240.62it/s]\n",
      "100%|██████████| 53/53 [00:00<00:00, 248.14it/s]\n"
     ]
    },
    {
     "name": "stdout",
     "output_type": "stream",
     "text": [
      "Epoch:344/1000.. Train Loss: 0.033.. Val Loss: 0.177.. Test Loss: 0.120.. Time: 0.04m\n"
     ]
    },
    {
     "name": "stderr",
     "output_type": "stream",
     "text": [
      "100%|██████████| 107/107 [00:01<00:00, 57.07it/s]\n",
      "100%|██████████| 18/18 [00:00<00:00, 188.51it/s]\n",
      "100%|██████████| 53/53 [00:00<00:00, 233.46it/s]\n"
     ]
    },
    {
     "name": "stdout",
     "output_type": "stream",
     "text": [
      "Epoch:345/1000.. Train Loss: 0.033.. Val Loss: 0.153.. Test Loss: 0.126.. Time: 0.04m\n"
     ]
    },
    {
     "name": "stderr",
     "output_type": "stream",
     "text": [
      "100%|██████████| 107/107 [00:01<00:00, 59.33it/s]\n",
      "100%|██████████| 18/18 [00:00<00:00, 253.36it/s]\n",
      "100%|██████████| 53/53 [00:00<00:00, 263.63it/s]\n"
     ]
    },
    {
     "name": "stdout",
     "output_type": "stream",
     "text": [
      "Epoch:346/1000.. Train Loss: 0.030.. Val Loss: 0.180.. Test Loss: 0.131.. Time: 0.03m\n"
     ]
    },
    {
     "name": "stderr",
     "output_type": "stream",
     "text": [
      "100%|██████████| 107/107 [00:01<00:00, 61.62it/s]\n",
      "100%|██████████| 18/18 [00:00<00:00, 242.47it/s]\n",
      "100%|██████████| 53/53 [00:00<00:00, 237.75it/s]\n"
     ]
    },
    {
     "name": "stdout",
     "output_type": "stream",
     "text": [
      "Epoch:347/1000.. Train Loss: 0.031.. Val Loss: 0.139.. Test Loss: 0.123.. Time: 0.03m\n"
     ]
    },
    {
     "name": "stderr",
     "output_type": "stream",
     "text": [
      "100%|██████████| 107/107 [00:01<00:00, 57.56it/s]\n",
      "100%|██████████| 18/18 [00:00<00:00, 258.62it/s]\n",
      "100%|██████████| 53/53 [00:00<00:00, 230.40it/s]\n"
     ]
    },
    {
     "name": "stdout",
     "output_type": "stream",
     "text": [
      "Epoch:348/1000.. Train Loss: 0.031.. Val Loss: 0.176.. Test Loss: 0.132.. Time: 0.04m\n"
     ]
    },
    {
     "name": "stderr",
     "output_type": "stream",
     "text": [
      "100%|██████████| 107/107 [00:01<00:00, 55.34it/s]\n",
      "100%|██████████| 18/18 [00:00<00:00, 249.04it/s]\n",
      "100%|██████████| 53/53 [00:00<00:00, 252.32it/s]\n"
     ]
    },
    {
     "name": "stdout",
     "output_type": "stream",
     "text": [
      "Epoch:349/1000.. Train Loss: 0.032.. Val Loss: 0.212.. Test Loss: 0.128.. Time: 0.04m\n"
     ]
    },
    {
     "name": "stderr",
     "output_type": "stream",
     "text": [
      "100%|██████████| 107/107 [00:01<00:00, 57.82it/s]\n",
      "100%|██████████| 18/18 [00:00<00:00, 250.87it/s]\n",
      "100%|██████████| 53/53 [00:00<00:00, 245.54it/s]\n"
     ]
    },
    {
     "name": "stdout",
     "output_type": "stream",
     "text": [
      "Epoch:350/1000.. Train Loss: 0.032.. Val Loss: 0.177.. Test Loss: 0.128.. Time: 0.04m\n"
     ]
    },
    {
     "name": "stderr",
     "output_type": "stream",
     "text": [
      "100%|██████████| 107/107 [00:01<00:00, 61.06it/s]\n",
      "100%|██████████| 18/18 [00:00<00:00, 248.56it/s]\n",
      "100%|██████████| 53/53 [00:00<00:00, 248.96it/s]\n"
     ]
    },
    {
     "name": "stdout",
     "output_type": "stream",
     "text": [
      "Epoch:351/1000.. Train Loss: 0.032.. Val Loss: 0.190.. Test Loss: 0.137.. Time: 0.03m\n"
     ]
    },
    {
     "name": "stderr",
     "output_type": "stream",
     "text": [
      "100%|██████████| 107/107 [00:01<00:00, 57.34it/s]\n",
      "100%|██████████| 18/18 [00:00<00:00, 250.58it/s]\n",
      "100%|██████████| 53/53 [00:00<00:00, 243.46it/s]\n"
     ]
    },
    {
     "name": "stdout",
     "output_type": "stream",
     "text": [
      "Epoch:352/1000.. Train Loss: 0.031.. Val Loss: 0.147.. Test Loss: 0.141.. Time: 0.04m\n"
     ]
    },
    {
     "name": "stderr",
     "output_type": "stream",
     "text": [
      "100%|██████████| 107/107 [00:01<00:00, 56.86it/s]\n",
      "100%|██████████| 18/18 [00:00<00:00, 248.73it/s]\n",
      "100%|██████████| 53/53 [00:00<00:00, 242.86it/s]\n"
     ]
    },
    {
     "name": "stdout",
     "output_type": "stream",
     "text": [
      "Epoch:353/1000.. Train Loss: 0.032.. Val Loss: 0.180.. Test Loss: 0.140.. Time: 0.04m\n"
     ]
    },
    {
     "name": "stderr",
     "output_type": "stream",
     "text": [
      "100%|██████████| 107/107 [00:01<00:00, 58.09it/s]\n",
      "100%|██████████| 18/18 [00:00<00:00, 244.40it/s]\n",
      "100%|██████████| 53/53 [00:00<00:00, 242.65it/s]\n"
     ]
    },
    {
     "name": "stdout",
     "output_type": "stream",
     "text": [
      "Epoch:354/1000.. Train Loss: 0.030.. Val Loss: 0.151.. Test Loss: 0.121.. Time: 0.04m\n"
     ]
    },
    {
     "name": "stderr",
     "output_type": "stream",
     "text": [
      "100%|██████████| 107/107 [00:01<00:00, 53.86it/s]\n",
      "100%|██████████| 18/18 [00:00<00:00, 261.79it/s]\n",
      "100%|██████████| 53/53 [00:00<00:00, 249.51it/s]\n"
     ]
    },
    {
     "name": "stdout",
     "output_type": "stream",
     "text": [
      "Epoch:355/1000.. Train Loss: 0.030.. Val Loss: 0.175.. Test Loss: 0.139.. Time: 0.04m\n"
     ]
    },
    {
     "name": "stderr",
     "output_type": "stream",
     "text": [
      "100%|██████████| 107/107 [00:01<00:00, 57.82it/s]\n",
      "100%|██████████| 18/18 [00:00<00:00, 222.62it/s]\n",
      "100%|██████████| 53/53 [00:00<00:00, 231.29it/s]\n"
     ]
    },
    {
     "name": "stdout",
     "output_type": "stream",
     "text": [
      "Epoch:356/1000.. Train Loss: 0.028.. Val Loss: 0.163.. Test Loss: 0.129.. Time: 0.04m\n"
     ]
    },
    {
     "name": "stderr",
     "output_type": "stream",
     "text": [
      "100%|██████████| 107/107 [00:01<00:00, 55.44it/s]\n",
      "100%|██████████| 18/18 [00:00<00:00, 202.66it/s]\n",
      "100%|██████████| 53/53 [00:00<00:00, 243.20it/s]\n"
     ]
    },
    {
     "name": "stdout",
     "output_type": "stream",
     "text": [
      "Epoch:357/1000.. Train Loss: 0.027.. Val Loss: 0.166.. Test Loss: 0.120.. Time: 0.04m\n"
     ]
    },
    {
     "name": "stderr",
     "output_type": "stream",
     "text": [
      "100%|██████████| 107/107 [00:02<00:00, 52.54it/s]\n",
      "100%|██████████| 18/18 [00:00<00:00, 258.19it/s]\n",
      "100%|██████████| 53/53 [00:00<00:00, 238.16it/s]\n"
     ]
    },
    {
     "name": "stdout",
     "output_type": "stream",
     "text": [
      "Epoch:358/1000.. Train Loss: 0.030.. Val Loss: 0.185.. Test Loss: 0.121.. Time: 0.04m\n"
     ]
    },
    {
     "name": "stderr",
     "output_type": "stream",
     "text": [
      "100%|██████████| 107/107 [00:01<00:00, 58.80it/s]\n",
      "100%|██████████| 18/18 [00:00<00:00, 233.32it/s]\n",
      "100%|██████████| 53/53 [00:00<00:00, 237.99it/s]\n"
     ]
    },
    {
     "name": "stdout",
     "output_type": "stream",
     "text": [
      "Epoch:359/1000.. Train Loss: 0.028.. Val Loss: 0.176.. Test Loss: 0.136.. Time: 0.04m\n"
     ]
    },
    {
     "name": "stderr",
     "output_type": "stream",
     "text": [
      "100%|██████████| 107/107 [00:01<00:00, 56.46it/s]\n",
      "100%|██████████| 18/18 [00:00<00:00, 260.62it/s]\n",
      "100%|██████████| 53/53 [00:00<00:00, 213.69it/s]\n"
     ]
    },
    {
     "name": "stdout",
     "output_type": "stream",
     "text": [
      "Epoch:360/1000.. Train Loss: 0.027.. Val Loss: 0.184.. Test Loss: 0.136.. Time: 0.04m\n"
     ]
    },
    {
     "name": "stderr",
     "output_type": "stream",
     "text": [
      "100%|██████████| 107/107 [00:01<00:00, 54.10it/s]\n",
      "100%|██████████| 18/18 [00:00<00:00, 288.05it/s]\n",
      "100%|██████████| 53/53 [00:00<00:00, 283.09it/s]\n"
     ]
    },
    {
     "name": "stdout",
     "output_type": "stream",
     "text": [
      "Epoch:361/1000.. Train Loss: 0.026.. Val Loss: 0.173.. Test Loss: 0.128.. Time: 0.04m\n"
     ]
    },
    {
     "name": "stderr",
     "output_type": "stream",
     "text": [
      "100%|██████████| 107/107 [00:01<00:00, 59.49it/s]\n",
      "100%|██████████| 18/18 [00:00<00:00, 217.60it/s]\n",
      "100%|██████████| 53/53 [00:00<00:00, 240.23it/s]\n"
     ]
    },
    {
     "name": "stdout",
     "output_type": "stream",
     "text": [
      "Epoch:362/1000.. Train Loss: 0.034.. Val Loss: 0.178.. Test Loss: 0.122.. Time: 0.04m\n"
     ]
    },
    {
     "name": "stderr",
     "output_type": "stream",
     "text": [
      "100%|██████████| 107/107 [00:01<00:00, 59.32it/s]\n",
      "100%|██████████| 18/18 [00:00<00:00, 231.59it/s]\n",
      "100%|██████████| 53/53 [00:00<00:00, 243.97it/s]\n"
     ]
    },
    {
     "name": "stdout",
     "output_type": "stream",
     "text": [
      "Epoch:363/1000.. Train Loss: 0.032.. Val Loss: 0.201.. Test Loss: 0.123.. Time: 0.04m\n"
     ]
    },
    {
     "name": "stderr",
     "output_type": "stream",
     "text": [
      "100%|██████████| 107/107 [00:02<00:00, 53.43it/s]\n",
      "100%|██████████| 18/18 [00:00<00:00, 262.31it/s]\n",
      "100%|██████████| 53/53 [00:00<00:00, 256.21it/s]\n"
     ]
    },
    {
     "name": "stdout",
     "output_type": "stream",
     "text": [
      "Epoch:364/1000.. Train Loss: 0.034.. Val Loss: 0.169.. Test Loss: 0.124.. Time: 0.04m\n"
     ]
    },
    {
     "name": "stderr",
     "output_type": "stream",
     "text": [
      "100%|██████████| 107/107 [00:01<00:00, 55.39it/s]\n",
      "100%|██████████| 18/18 [00:00<00:00, 204.26it/s]\n",
      "100%|██████████| 53/53 [00:00<00:00, 233.60it/s]\n"
     ]
    },
    {
     "name": "stdout",
     "output_type": "stream",
     "text": [
      "Epoch:365/1000.. Train Loss: 0.035.. Val Loss: 0.167.. Test Loss: 0.118.. Time: 0.04m\n"
     ]
    },
    {
     "name": "stderr",
     "output_type": "stream",
     "text": [
      "100%|██████████| 107/107 [00:01<00:00, 58.58it/s]\n",
      "100%|██████████| 18/18 [00:00<00:00, 243.59it/s]\n",
      "100%|██████████| 53/53 [00:00<00:00, 244.81it/s]\n"
     ]
    },
    {
     "name": "stdout",
     "output_type": "stream",
     "text": [
      "Epoch:366/1000.. Train Loss: 0.032.. Val Loss: 0.172.. Test Loss: 0.119.. Time: 0.04m\n"
     ]
    },
    {
     "name": "stderr",
     "output_type": "stream",
     "text": [
      "100%|██████████| 107/107 [00:01<00:00, 57.33it/s]\n",
      "100%|██████████| 18/18 [00:00<00:00, 241.34it/s]\n",
      "100%|██████████| 53/53 [00:00<00:00, 247.62it/s]\n"
     ]
    },
    {
     "name": "stdout",
     "output_type": "stream",
     "text": [
      "Epoch:367/1000.. Train Loss: 0.029.. Val Loss: 0.152.. Test Loss: 0.121.. Time: 0.04m\n"
     ]
    },
    {
     "name": "stderr",
     "output_type": "stream",
     "text": [
      "100%|██████████| 107/107 [00:01<00:00, 56.69it/s]\n",
      "100%|██████████| 18/18 [00:00<00:00, 257.97it/s]\n",
      "100%|██████████| 53/53 [00:00<00:00, 249.97it/s]\n"
     ]
    },
    {
     "name": "stdout",
     "output_type": "stream",
     "text": [
      "Epoch:368/1000.. Train Loss: 0.029.. Val Loss: 0.194.. Test Loss: 0.148.. Time: 0.04m\n"
     ]
    },
    {
     "name": "stderr",
     "output_type": "stream",
     "text": [
      "100%|██████████| 107/107 [00:01<00:00, 61.34it/s]\n",
      "100%|██████████| 18/18 [00:00<00:00, 245.43it/s]\n",
      "100%|██████████| 53/53 [00:00<00:00, 244.86it/s]\n"
     ]
    },
    {
     "name": "stdout",
     "output_type": "stream",
     "text": [
      "Epoch:369/1000.. Train Loss: 0.033.. Val Loss: 0.135.. Test Loss: 0.118.. Time: 0.03m\n"
     ]
    },
    {
     "name": "stderr",
     "output_type": "stream",
     "text": [
      "100%|██████████| 107/107 [00:01<00:00, 59.09it/s]\n",
      "100%|██████████| 18/18 [00:00<00:00, 250.83it/s]\n",
      "100%|██████████| 53/53 [00:00<00:00, 248.57it/s]\n"
     ]
    },
    {
     "name": "stdout",
     "output_type": "stream",
     "text": [
      "Epoch:370/1000.. Train Loss: 0.034.. Val Loss: 0.181.. Test Loss: 0.139.. Time: 0.04m\n"
     ]
    },
    {
     "name": "stderr",
     "output_type": "stream",
     "text": [
      "100%|██████████| 107/107 [00:01<00:00, 57.65it/s]\n",
      "100%|██████████| 18/18 [00:00<00:00, 225.10it/s]\n",
      "100%|██████████| 53/53 [00:00<00:00, 237.48it/s]\n"
     ]
    },
    {
     "name": "stdout",
     "output_type": "stream",
     "text": [
      "Epoch:371/1000.. Train Loss: 0.032.. Val Loss: 0.155.. Test Loss: 0.130.. Time: 0.04m\n"
     ]
    },
    {
     "name": "stderr",
     "output_type": "stream",
     "text": [
      "100%|██████████| 107/107 [00:01<00:00, 55.16it/s]\n",
      "100%|██████████| 18/18 [00:00<00:00, 247.47it/s]\n",
      "100%|██████████| 53/53 [00:00<00:00, 241.60it/s]\n"
     ]
    },
    {
     "name": "stdout",
     "output_type": "stream",
     "text": [
      "Epoch:372/1000.. Train Loss: 0.030.. Val Loss: 0.167.. Test Loss: 0.132.. Time: 0.04m\n"
     ]
    },
    {
     "name": "stderr",
     "output_type": "stream",
     "text": [
      "100%|██████████| 107/107 [00:01<00:00, 56.81it/s]\n",
      "100%|██████████| 18/18 [00:00<00:00, 248.41it/s]\n",
      "100%|██████████| 53/53 [00:00<00:00, 246.91it/s]\n"
     ]
    },
    {
     "name": "stdout",
     "output_type": "stream",
     "text": [
      "Epoch:373/1000.. Train Loss: 0.026.. Val Loss: 0.155.. Test Loss: 0.140.. Time: 0.04m\n"
     ]
    },
    {
     "name": "stderr",
     "output_type": "stream",
     "text": [
      "100%|██████████| 107/107 [00:01<00:00, 60.06it/s]\n",
      "100%|██████████| 18/18 [00:00<00:00, 242.74it/s]\n",
      "100%|██████████| 53/53 [00:00<00:00, 242.29it/s]\n"
     ]
    },
    {
     "name": "stdout",
     "output_type": "stream",
     "text": [
      "Epoch:374/1000.. Train Loss: 0.026.. Val Loss: 0.192.. Test Loss: 0.133.. Time: 0.03m\n"
     ]
    },
    {
     "name": "stderr",
     "output_type": "stream",
     "text": [
      "100%|██████████| 107/107 [00:01<00:00, 60.54it/s]\n",
      "100%|██████████| 18/18 [00:00<00:00, 241.38it/s]\n",
      "100%|██████████| 53/53 [00:00<00:00, 251.91it/s]\n"
     ]
    },
    {
     "name": "stdout",
     "output_type": "stream",
     "text": [
      "Epoch:375/1000.. Train Loss: 0.034.. Val Loss: 0.169.. Test Loss: 0.133.. Time: 0.03m\n"
     ]
    },
    {
     "name": "stderr",
     "output_type": "stream",
     "text": [
      "100%|██████████| 107/107 [00:01<00:00, 58.01it/s]\n",
      "100%|██████████| 18/18 [00:00<00:00, 236.76it/s]\n",
      "100%|██████████| 53/53 [00:00<00:00, 242.30it/s]\n"
     ]
    },
    {
     "name": "stdout",
     "output_type": "stream",
     "text": [
      "Epoch:376/1000.. Train Loss: 0.029.. Val Loss: 0.190.. Test Loss: 0.135.. Time: 0.04m\n"
     ]
    },
    {
     "name": "stderr",
     "output_type": "stream",
     "text": [
      "100%|██████████| 107/107 [00:01<00:00, 54.87it/s]\n",
      "100%|██████████| 18/18 [00:00<00:00, 255.47it/s]\n",
      "100%|██████████| 53/53 [00:00<00:00, 239.88it/s]\n"
     ]
    },
    {
     "name": "stdout",
     "output_type": "stream",
     "text": [
      "Epoch:377/1000.. Train Loss: 0.027.. Val Loss: 0.181.. Test Loss: 0.134.. Time: 0.04m\n"
     ]
    },
    {
     "name": "stderr",
     "output_type": "stream",
     "text": [
      "100%|██████████| 107/107 [00:01<00:00, 54.98it/s]\n",
      "100%|██████████| 18/18 [00:00<00:00, 248.49it/s]\n",
      "100%|██████████| 53/53 [00:00<00:00, 237.85it/s]\n"
     ]
    },
    {
     "name": "stdout",
     "output_type": "stream",
     "text": [
      "Epoch:378/1000.. Train Loss: 0.027.. Val Loss: 0.190.. Test Loss: 0.141.. Time: 0.04m\n"
     ]
    },
    {
     "name": "stderr",
     "output_type": "stream",
     "text": [
      "100%|██████████| 107/107 [00:01<00:00, 60.01it/s]\n",
      "100%|██████████| 18/18 [00:00<00:00, 237.00it/s]\n",
      "100%|██████████| 53/53 [00:00<00:00, 235.24it/s]\n"
     ]
    },
    {
     "name": "stdout",
     "output_type": "stream",
     "text": [
      "Epoch:379/1000.. Train Loss: 0.028.. Val Loss: 0.203.. Test Loss: 0.131.. Time: 0.03m\n"
     ]
    },
    {
     "name": "stderr",
     "output_type": "stream",
     "text": [
      "100%|██████████| 107/107 [00:01<00:00, 64.49it/s]\n",
      "100%|██████████| 18/18 [00:00<00:00, 242.29it/s]\n",
      "100%|██████████| 53/53 [00:00<00:00, 244.26it/s]\n"
     ]
    },
    {
     "name": "stdout",
     "output_type": "stream",
     "text": [
      "Epoch:380/1000.. Train Loss: 0.035.. Val Loss: 0.140.. Test Loss: 0.124.. Time: 0.03m\n"
     ]
    },
    {
     "name": "stderr",
     "output_type": "stream",
     "text": [
      "100%|██████████| 107/107 [00:01<00:00, 56.41it/s]\n",
      "100%|██████████| 18/18 [00:00<00:00, 245.01it/s]\n",
      "100%|██████████| 53/53 [00:00<00:00, 232.94it/s]\n"
     ]
    },
    {
     "name": "stdout",
     "output_type": "stream",
     "text": [
      "Epoch:381/1000.. Train Loss: 0.028.. Val Loss: 0.181.. Test Loss: 0.125.. Time: 0.04m\n"
     ]
    },
    {
     "name": "stderr",
     "output_type": "stream",
     "text": [
      "100%|██████████| 107/107 [00:01<00:00, 60.35it/s]\n",
      "100%|██████████| 18/18 [00:00<00:00, 155.41it/s]\n",
      "100%|██████████| 53/53 [00:00<00:00, 240.04it/s]\n"
     ]
    },
    {
     "name": "stdout",
     "output_type": "stream",
     "text": [
      "Epoch:382/1000.. Train Loss: 0.030.. Val Loss: 0.175.. Test Loss: 0.122.. Time: 0.04m\n"
     ]
    },
    {
     "name": "stderr",
     "output_type": "stream",
     "text": [
      "100%|██████████| 107/107 [00:01<00:00, 55.23it/s]\n",
      "100%|██████████| 18/18 [00:00<00:00, 201.31it/s]\n",
      "100%|██████████| 53/53 [00:00<00:00, 214.86it/s]\n"
     ]
    },
    {
     "name": "stdout",
     "output_type": "stream",
     "text": [
      "Epoch:383/1000.. Train Loss: 0.030.. Val Loss: 0.175.. Test Loss: 0.136.. Time: 0.04m\n"
     ]
    },
    {
     "name": "stderr",
     "output_type": "stream",
     "text": [
      "100%|██████████| 107/107 [00:01<00:00, 58.61it/s]\n",
      "100%|██████████| 18/18 [00:00<00:00, 238.58it/s]\n",
      "100%|██████████| 53/53 [00:00<00:00, 243.56it/s]\n"
     ]
    },
    {
     "name": "stdout",
     "output_type": "stream",
     "text": [
      "Epoch:384/1000.. Train Loss: 0.030.. Val Loss: 0.177.. Test Loss: 0.122.. Time: 0.04m\n"
     ]
    },
    {
     "name": "stderr",
     "output_type": "stream",
     "text": [
      "100%|██████████| 107/107 [00:01<00:00, 55.59it/s]\n",
      "100%|██████████| 18/18 [00:00<00:00, 243.77it/s]\n",
      "100%|██████████| 53/53 [00:00<00:00, 238.85it/s]\n"
     ]
    },
    {
     "name": "stdout",
     "output_type": "stream",
     "text": [
      "Epoch:385/1000.. Train Loss: 0.028.. Val Loss: 0.209.. Test Loss: 0.128.. Time: 0.04m\n"
     ]
    },
    {
     "name": "stderr",
     "output_type": "stream",
     "text": [
      "100%|██████████| 107/107 [00:01<00:00, 56.46it/s]\n",
      "100%|██████████| 18/18 [00:00<00:00, 229.36it/s]\n",
      "100%|██████████| 53/53 [00:00<00:00, 224.30it/s]\n"
     ]
    },
    {
     "name": "stdout",
     "output_type": "stream",
     "text": [
      "Epoch:386/1000.. Train Loss: 0.033.. Val Loss: 0.212.. Test Loss: 0.138.. Time: 0.04m\n"
     ]
    },
    {
     "name": "stderr",
     "output_type": "stream",
     "text": [
      "100%|██████████| 107/107 [00:01<00:00, 58.71it/s]\n",
      "100%|██████████| 18/18 [00:00<00:00, 246.72it/s]\n",
      "100%|██████████| 53/53 [00:00<00:00, 244.65it/s]\n"
     ]
    },
    {
     "name": "stdout",
     "output_type": "stream",
     "text": [
      "Epoch:387/1000.. Train Loss: 0.032.. Val Loss: 0.154.. Test Loss: 0.123.. Time: 0.04m\n"
     ]
    },
    {
     "name": "stderr",
     "output_type": "stream",
     "text": [
      "100%|██████████| 107/107 [00:01<00:00, 60.12it/s]\n",
      "100%|██████████| 18/18 [00:00<00:00, 242.04it/s]\n",
      "100%|██████████| 53/53 [00:00<00:00, 250.61it/s]\n"
     ]
    },
    {
     "name": "stdout",
     "output_type": "stream",
     "text": [
      "Epoch:388/1000.. Train Loss: 0.029.. Val Loss: 0.185.. Test Loss: 0.131.. Time: 0.03m\n"
     ]
    },
    {
     "name": "stderr",
     "output_type": "stream",
     "text": [
      "100%|██████████| 107/107 [00:01<00:00, 57.44it/s]\n",
      "100%|██████████| 18/18 [00:00<00:00, 243.35it/s]\n",
      "100%|██████████| 53/53 [00:00<00:00, 246.84it/s]\n"
     ]
    },
    {
     "name": "stdout",
     "output_type": "stream",
     "text": [
      "Epoch:389/1000.. Train Loss: 0.028.. Val Loss: 0.191.. Test Loss: 0.137.. Time: 0.04m\n"
     ]
    },
    {
     "name": "stderr",
     "output_type": "stream",
     "text": [
      "100%|██████████| 107/107 [00:01<00:00, 60.21it/s]\n",
      "100%|██████████| 18/18 [00:00<00:00, 249.73it/s]\n",
      "100%|██████████| 53/53 [00:00<00:00, 239.72it/s]\n"
     ]
    },
    {
     "name": "stdout",
     "output_type": "stream",
     "text": [
      "Epoch:390/1000.. Train Loss: 0.035.. Val Loss: 0.180.. Test Loss: 0.129.. Time: 0.03m\n"
     ]
    },
    {
     "name": "stderr",
     "output_type": "stream",
     "text": [
      "100%|██████████| 107/107 [00:01<00:00, 60.96it/s]\n",
      "100%|██████████| 18/18 [00:00<00:00, 238.75it/s]\n",
      "100%|██████████| 53/53 [00:00<00:00, 244.45it/s]\n"
     ]
    },
    {
     "name": "stdout",
     "output_type": "stream",
     "text": [
      "Epoch:391/1000.. Train Loss: 0.028.. Val Loss: 0.177.. Test Loss: 0.147.. Time: 0.03m\n"
     ]
    },
    {
     "name": "stderr",
     "output_type": "stream",
     "text": [
      "100%|██████████| 107/107 [00:01<00:00, 61.06it/s]\n",
      "100%|██████████| 18/18 [00:00<00:00, 256.54it/s]\n",
      "100%|██████████| 53/53 [00:00<00:00, 245.64it/s]\n"
     ]
    },
    {
     "name": "stdout",
     "output_type": "stream",
     "text": [
      "Epoch:392/1000.. Train Loss: 0.031.. Val Loss: 0.181.. Test Loss: 0.138.. Time: 0.03m\n"
     ]
    },
    {
     "name": "stderr",
     "output_type": "stream",
     "text": [
      "100%|██████████| 107/107 [00:01<00:00, 54.92it/s]\n",
      "100%|██████████| 18/18 [00:00<00:00, 238.48it/s]\n",
      "100%|██████████| 53/53 [00:00<00:00, 242.43it/s]\n"
     ]
    },
    {
     "name": "stdout",
     "output_type": "stream",
     "text": [
      "Epoch:393/1000.. Train Loss: 0.026.. Val Loss: 0.213.. Test Loss: 0.136.. Time: 0.04m\n"
     ]
    },
    {
     "name": "stderr",
     "output_type": "stream",
     "text": [
      "100%|██████████| 107/107 [00:01<00:00, 57.02it/s]\n",
      "100%|██████████| 18/18 [00:00<00:00, 257.69it/s]\n",
      "100%|██████████| 53/53 [00:00<00:00, 242.17it/s]\n"
     ]
    },
    {
     "name": "stdout",
     "output_type": "stream",
     "text": [
      "Epoch:394/1000.. Train Loss: 0.027.. Val Loss: 0.195.. Test Loss: 0.129.. Time: 0.04m\n"
     ]
    },
    {
     "name": "stderr",
     "output_type": "stream",
     "text": [
      "100%|██████████| 107/107 [00:01<00:00, 58.62it/s]\n",
      "100%|██████████| 18/18 [00:00<00:00, 243.72it/s]\n",
      "100%|██████████| 53/53 [00:00<00:00, 230.93it/s]\n"
     ]
    },
    {
     "name": "stdout",
     "output_type": "stream",
     "text": [
      "Epoch:395/1000.. Train Loss: 0.033.. Val Loss: 0.209.. Test Loss: 0.129.. Time: 0.04m\n"
     ]
    },
    {
     "name": "stderr",
     "output_type": "stream",
     "text": [
      "100%|██████████| 107/107 [00:01<00:00, 56.82it/s]\n",
      "100%|██████████| 18/18 [00:00<00:00, 238.67it/s]\n",
      "100%|██████████| 53/53 [00:00<00:00, 233.95it/s]\n"
     ]
    },
    {
     "name": "stdout",
     "output_type": "stream",
     "text": [
      "Epoch:396/1000.. Train Loss: 0.029.. Val Loss: 0.224.. Test Loss: 0.129.. Time: 0.04m\n"
     ]
    },
    {
     "name": "stderr",
     "output_type": "stream",
     "text": [
      "100%|██████████| 107/107 [00:01<00:00, 60.71it/s]\n",
      "100%|██████████| 18/18 [00:00<00:00, 246.54it/s]\n",
      "100%|██████████| 53/53 [00:00<00:00, 248.57it/s]\n"
     ]
    },
    {
     "name": "stdout",
     "output_type": "stream",
     "text": [
      "Epoch:397/1000.. Train Loss: 0.032.. Val Loss: 0.197.. Test Loss: 0.128.. Time: 0.03m\n"
     ]
    },
    {
     "name": "stderr",
     "output_type": "stream",
     "text": [
      "100%|██████████| 107/107 [00:01<00:00, 57.95it/s]\n",
      "100%|██████████| 18/18 [00:00<00:00, 220.39it/s]\n",
      "100%|██████████| 53/53 [00:00<00:00, 229.50it/s]\n"
     ]
    },
    {
     "name": "stdout",
     "output_type": "stream",
     "text": [
      "Epoch:398/1000.. Train Loss: 0.023.. Val Loss: 0.205.. Test Loss: 0.135.. Time: 0.04m\n"
     ]
    },
    {
     "name": "stderr",
     "output_type": "stream",
     "text": [
      "100%|██████████| 107/107 [00:01<00:00, 54.18it/s]\n",
      "100%|██████████| 18/18 [00:00<00:00, 244.69it/s]\n",
      "100%|██████████| 53/53 [00:00<00:00, 248.20it/s]\n"
     ]
    },
    {
     "name": "stdout",
     "output_type": "stream",
     "text": [
      "Epoch:399/1000.. Train Loss: 0.027.. Val Loss: 0.243.. Test Loss: 0.138.. Time: 0.04m\n"
     ]
    },
    {
     "name": "stderr",
     "output_type": "stream",
     "text": [
      "100%|██████████| 107/107 [00:01<00:00, 55.82it/s]\n",
      "100%|██████████| 18/18 [00:00<00:00, 203.87it/s]\n",
      "100%|██████████| 53/53 [00:00<00:00, 238.23it/s]\n"
     ]
    },
    {
     "name": "stdout",
     "output_type": "stream",
     "text": [
      "Epoch:400/1000.. Train Loss: 0.026.. Val Loss: 0.206.. Test Loss: 0.131.. Time: 0.04m\n"
     ]
    },
    {
     "name": "stderr",
     "output_type": "stream",
     "text": [
      "100%|██████████| 107/107 [00:01<00:00, 59.22it/s]\n",
      "100%|██████████| 18/18 [00:00<00:00, 295.01it/s]\n",
      "100%|██████████| 53/53 [00:00<00:00, 249.46it/s]\n"
     ]
    },
    {
     "name": "stdout",
     "output_type": "stream",
     "text": [
      "Epoch:401/1000.. Train Loss: 0.031.. Val Loss: 0.168.. Test Loss: 0.138.. Time: 0.04m\n"
     ]
    },
    {
     "name": "stderr",
     "output_type": "stream",
     "text": [
      "100%|██████████| 107/107 [00:01<00:00, 55.48it/s]\n",
      "100%|██████████| 18/18 [00:00<00:00, 260.72it/s]\n",
      "100%|██████████| 53/53 [00:00<00:00, 247.18it/s]\n"
     ]
    },
    {
     "name": "stdout",
     "output_type": "stream",
     "text": [
      "Epoch:402/1000.. Train Loss: 0.030.. Val Loss: 0.179.. Test Loss: 0.143.. Time: 0.04m\n"
     ]
    },
    {
     "name": "stderr",
     "output_type": "stream",
     "text": [
      "100%|██████████| 107/107 [00:01<00:00, 55.41it/s]\n",
      "100%|██████████| 18/18 [00:00<00:00, 254.58it/s]\n",
      "100%|██████████| 53/53 [00:00<00:00, 242.59it/s]\n"
     ]
    },
    {
     "name": "stdout",
     "output_type": "stream",
     "text": [
      "Epoch:403/1000.. Train Loss: 0.029.. Val Loss: 0.174.. Test Loss: 0.136.. Time: 0.04m\n"
     ]
    },
    {
     "name": "stderr",
     "output_type": "stream",
     "text": [
      "100%|██████████| 107/107 [00:01<00:00, 58.79it/s]\n",
      "100%|██████████| 18/18 [00:00<00:00, 252.87it/s]\n",
      "100%|██████████| 53/53 [00:00<00:00, 250.66it/s]\n"
     ]
    },
    {
     "name": "stdout",
     "output_type": "stream",
     "text": [
      "Epoch:404/1000.. Train Loss: 0.029.. Val Loss: 0.173.. Test Loss: 0.134.. Time: 0.04m\n"
     ]
    },
    {
     "name": "stderr",
     "output_type": "stream",
     "text": [
      "100%|██████████| 107/107 [00:01<00:00, 55.99it/s]\n",
      "100%|██████████| 18/18 [00:00<00:00, 207.98it/s]\n",
      "100%|██████████| 53/53 [00:00<00:00, 245.02it/s]\n"
     ]
    },
    {
     "name": "stdout",
     "output_type": "stream",
     "text": [
      "Epoch:405/1000.. Train Loss: 0.024.. Val Loss: 0.212.. Test Loss: 0.140.. Time: 0.04m\n"
     ]
    },
    {
     "name": "stderr",
     "output_type": "stream",
     "text": [
      "100%|██████████| 107/107 [00:01<00:00, 57.87it/s]\n",
      "100%|██████████| 18/18 [00:00<00:00, 247.48it/s]\n",
      "100%|██████████| 53/53 [00:00<00:00, 251.58it/s]\n"
     ]
    },
    {
     "name": "stdout",
     "output_type": "stream",
     "text": [
      "Epoch:406/1000.. Train Loss: 0.039.. Val Loss: 0.155.. Test Loss: 0.124.. Time: 0.04m\n"
     ]
    },
    {
     "name": "stderr",
     "output_type": "stream",
     "text": [
      "100%|██████████| 107/107 [00:01<00:00, 58.87it/s]\n",
      "100%|██████████| 18/18 [00:00<00:00, 181.74it/s]\n",
      "100%|██████████| 53/53 [00:00<00:00, 242.15it/s]\n"
     ]
    },
    {
     "name": "stdout",
     "output_type": "stream",
     "text": [
      "Epoch:407/1000.. Train Loss: 0.034.. Val Loss: 0.136.. Test Loss: 0.124.. Time: 0.04m\n"
     ]
    },
    {
     "name": "stderr",
     "output_type": "stream",
     "text": [
      "100%|██████████| 107/107 [00:01<00:00, 58.68it/s]\n",
      "100%|██████████| 18/18 [00:00<00:00, 199.42it/s]\n",
      "100%|██████████| 53/53 [00:00<00:00, 234.67it/s]\n"
     ]
    },
    {
     "name": "stdout",
     "output_type": "stream",
     "text": [
      "Epoch:408/1000.. Train Loss: 0.032.. Val Loss: 0.170.. Test Loss: 0.128.. Time: 0.04m\n"
     ]
    },
    {
     "name": "stderr",
     "output_type": "stream",
     "text": [
      "100%|██████████| 107/107 [00:01<00:00, 54.90it/s]\n",
      "100%|██████████| 18/18 [00:00<00:00, 247.54it/s]\n",
      "100%|██████████| 53/53 [00:00<00:00, 250.94it/s]\n"
     ]
    },
    {
     "name": "stdout",
     "output_type": "stream",
     "text": [
      "Epoch:409/1000.. Train Loss: 0.027.. Val Loss: 0.177.. Test Loss: 0.134.. Time: 0.04m\n"
     ]
    },
    {
     "name": "stderr",
     "output_type": "stream",
     "text": [
      "100%|██████████| 107/107 [00:01<00:00, 54.45it/s]\n",
      "100%|██████████| 18/18 [00:00<00:00, 195.52it/s]\n",
      "100%|██████████| 53/53 [00:00<00:00, 245.43it/s]\n"
     ]
    },
    {
     "name": "stdout",
     "output_type": "stream",
     "text": [
      "Epoch:410/1000.. Train Loss: 0.029.. Val Loss: 0.187.. Test Loss: 0.129.. Time: 0.04m\n"
     ]
    },
    {
     "name": "stderr",
     "output_type": "stream",
     "text": [
      "100%|██████████| 107/107 [00:01<00:00, 55.43it/s]\n",
      "100%|██████████| 18/18 [00:00<00:00, 228.23it/s]\n",
      "100%|██████████| 53/53 [00:00<00:00, 232.67it/s]\n"
     ]
    },
    {
     "name": "stdout",
     "output_type": "stream",
     "text": [
      "Epoch:411/1000.. Train Loss: 0.030.. Val Loss: 0.204.. Test Loss: 0.138.. Time: 0.04m\n"
     ]
    },
    {
     "name": "stderr",
     "output_type": "stream",
     "text": [
      "100%|██████████| 107/107 [00:01<00:00, 55.17it/s]\n",
      "100%|██████████| 18/18 [00:00<00:00, 233.98it/s]\n",
      "100%|██████████| 53/53 [00:00<00:00, 222.50it/s]\n"
     ]
    },
    {
     "name": "stdout",
     "output_type": "stream",
     "text": [
      "Epoch:412/1000.. Train Loss: 0.025.. Val Loss: 0.183.. Test Loss: 0.141.. Time: 0.04m\n"
     ]
    },
    {
     "name": "stderr",
     "output_type": "stream",
     "text": [
      "100%|██████████| 107/107 [00:01<00:00, 56.54it/s]\n",
      "100%|██████████| 18/18 [00:00<00:00, 244.36it/s]\n",
      "100%|██████████| 53/53 [00:00<00:00, 255.83it/s]\n"
     ]
    },
    {
     "name": "stdout",
     "output_type": "stream",
     "text": [
      "Epoch:413/1000.. Train Loss: 0.026.. Val Loss: 0.198.. Test Loss: 0.142.. Time: 0.04m\n"
     ]
    },
    {
     "name": "stderr",
     "output_type": "stream",
     "text": [
      "100%|██████████| 107/107 [00:01<00:00, 58.65it/s]\n",
      "100%|██████████| 18/18 [00:00<00:00, 241.11it/s]\n",
      "100%|██████████| 53/53 [00:00<00:00, 236.72it/s]\n"
     ]
    },
    {
     "name": "stdout",
     "output_type": "stream",
     "text": [
      "Epoch:414/1000.. Train Loss: 0.028.. Val Loss: 0.182.. Test Loss: 0.132.. Time: 0.04m\n"
     ]
    },
    {
     "name": "stderr",
     "output_type": "stream",
     "text": [
      "100%|██████████| 107/107 [00:01<00:00, 61.71it/s]\n",
      "100%|██████████| 18/18 [00:00<00:00, 257.76it/s]\n",
      "100%|██████████| 53/53 [00:00<00:00, 246.60it/s]\n"
     ]
    },
    {
     "name": "stdout",
     "output_type": "stream",
     "text": [
      "Epoch:415/1000.. Train Loss: 0.022.. Val Loss: 0.174.. Test Loss: 0.134.. Time: 0.03m\n"
     ]
    },
    {
     "name": "stderr",
     "output_type": "stream",
     "text": [
      "100%|██████████| 107/107 [00:01<00:00, 55.44it/s]\n",
      "100%|██████████| 18/18 [00:00<00:00, 239.56it/s]\n",
      "100%|██████████| 53/53 [00:00<00:00, 240.23it/s]\n"
     ]
    },
    {
     "name": "stdout",
     "output_type": "stream",
     "text": [
      "Epoch:416/1000.. Train Loss: 0.028.. Val Loss: 0.143.. Test Loss: 0.133.. Time: 0.04m\n"
     ]
    },
    {
     "name": "stderr",
     "output_type": "stream",
     "text": [
      "100%|██████████| 107/107 [00:01<00:00, 57.18it/s]\n",
      "100%|██████████| 18/18 [00:00<00:00, 229.54it/s]\n",
      "100%|██████████| 53/53 [00:00<00:00, 254.40it/s]\n"
     ]
    },
    {
     "name": "stdout",
     "output_type": "stream",
     "text": [
      "Epoch:417/1000.. Train Loss: 0.026.. Val Loss: 0.136.. Test Loss: 0.140.. Time: 0.04m\n"
     ]
    },
    {
     "name": "stderr",
     "output_type": "stream",
     "text": [
      "100%|██████████| 107/107 [00:01<00:00, 54.64it/s]\n",
      "100%|██████████| 18/18 [00:00<00:00, 245.60it/s]\n",
      "100%|██████████| 53/53 [00:00<00:00, 251.08it/s]\n"
     ]
    },
    {
     "name": "stdout",
     "output_type": "stream",
     "text": [
      "Epoch:418/1000.. Train Loss: 0.034.. Val Loss: 0.134.. Test Loss: 0.134.. Time: 0.04m\n"
     ]
    },
    {
     "name": "stderr",
     "output_type": "stream",
     "text": [
      "100%|██████████| 107/107 [00:01<00:00, 55.26it/s]\n",
      "100%|██████████| 18/18 [00:00<00:00, 212.24it/s]\n",
      "100%|██████████| 53/53 [00:00<00:00, 236.18it/s]\n"
     ]
    },
    {
     "name": "stdout",
     "output_type": "stream",
     "text": [
      "Epoch:419/1000.. Train Loss: 0.031.. Val Loss: 0.205.. Test Loss: 0.144.. Time: 0.04m\n"
     ]
    },
    {
     "name": "stderr",
     "output_type": "stream",
     "text": [
      "100%|██████████| 107/107 [00:01<00:00, 56.17it/s]\n",
      "100%|██████████| 18/18 [00:00<00:00, 256.61it/s]\n",
      "100%|██████████| 53/53 [00:00<00:00, 247.03it/s]\n"
     ]
    },
    {
     "name": "stdout",
     "output_type": "stream",
     "text": [
      "Epoch:420/1000.. Train Loss: 0.028.. Val Loss: 0.189.. Test Loss: 0.143.. Time: 0.04m\n"
     ]
    },
    {
     "name": "stderr",
     "output_type": "stream",
     "text": [
      "100%|██████████| 107/107 [00:01<00:00, 56.68it/s]\n",
      "100%|██████████| 18/18 [00:00<00:00, 247.83it/s]\n",
      "100%|██████████| 53/53 [00:00<00:00, 223.79it/s]\n"
     ]
    },
    {
     "name": "stdout",
     "output_type": "stream",
     "text": [
      "Epoch:421/1000.. Train Loss: 0.026.. Val Loss: 0.186.. Test Loss: 0.137.. Time: 0.04m\n"
     ]
    },
    {
     "name": "stderr",
     "output_type": "stream",
     "text": [
      "100%|██████████| 107/107 [00:01<00:00, 60.68it/s]\n",
      "100%|██████████| 18/18 [00:00<00:00, 246.63it/s]\n",
      "100%|██████████| 53/53 [00:00<00:00, 228.42it/s]\n"
     ]
    },
    {
     "name": "stdout",
     "output_type": "stream",
     "text": [
      "Epoch:422/1000.. Train Loss: 0.026.. Val Loss: 0.225.. Test Loss: 0.142.. Time: 0.03m\n"
     ]
    },
    {
     "name": "stderr",
     "output_type": "stream",
     "text": [
      "100%|██████████| 107/107 [00:01<00:00, 63.96it/s]\n",
      "100%|██████████| 18/18 [00:00<00:00, 232.75it/s]\n",
      "100%|██████████| 53/53 [00:00<00:00, 234.96it/s]\n"
     ]
    },
    {
     "name": "stdout",
     "output_type": "stream",
     "text": [
      "Epoch:423/1000.. Train Loss: 0.025.. Val Loss: 0.210.. Test Loss: 0.141.. Time: 0.03m\n"
     ]
    },
    {
     "name": "stderr",
     "output_type": "stream",
     "text": [
      "100%|██████████| 107/107 [00:01<00:00, 59.69it/s]\n",
      "100%|██████████| 18/18 [00:00<00:00, 259.01it/s]\n",
      "100%|██████████| 53/53 [00:00<00:00, 225.88it/s]\n"
     ]
    },
    {
     "name": "stdout",
     "output_type": "stream",
     "text": [
      "Epoch:424/1000.. Train Loss: 0.030.. Val Loss: 0.162.. Test Loss: 0.137.. Time: 0.04m\n"
     ]
    },
    {
     "name": "stderr",
     "output_type": "stream",
     "text": [
      "100%|██████████| 107/107 [00:01<00:00, 58.37it/s]\n",
      "100%|██████████| 18/18 [00:00<00:00, 241.30it/s]\n",
      "100%|██████████| 53/53 [00:00<00:00, 240.44it/s]\n"
     ]
    },
    {
     "name": "stdout",
     "output_type": "stream",
     "text": [
      "Epoch:425/1000.. Train Loss: 0.030.. Val Loss: 0.183.. Test Loss: 0.138.. Time: 0.04m\n"
     ]
    },
    {
     "name": "stderr",
     "output_type": "stream",
     "text": [
      "100%|██████████| 107/107 [00:01<00:00, 58.51it/s]\n",
      "100%|██████████| 18/18 [00:00<00:00, 234.21it/s]\n",
      "100%|██████████| 53/53 [00:00<00:00, 245.86it/s]\n"
     ]
    },
    {
     "name": "stdout",
     "output_type": "stream",
     "text": [
      "Epoch:426/1000.. Train Loss: 0.029.. Val Loss: 0.214.. Test Loss: 0.141.. Time: 0.04m\n"
     ]
    },
    {
     "name": "stderr",
     "output_type": "stream",
     "text": [
      "100%|██████████| 107/107 [00:01<00:00, 55.09it/s]\n",
      "100%|██████████| 18/18 [00:00<00:00, 255.62it/s]\n",
      "100%|██████████| 53/53 [00:00<00:00, 246.32it/s]\n"
     ]
    },
    {
     "name": "stdout",
     "output_type": "stream",
     "text": [
      "Epoch:427/1000.. Train Loss: 0.024.. Val Loss: 0.203.. Test Loss: 0.142.. Time: 0.04m\n"
     ]
    },
    {
     "name": "stderr",
     "output_type": "stream",
     "text": [
      "100%|██████████| 107/107 [00:01<00:00, 57.22it/s]\n",
      "100%|██████████| 18/18 [00:00<00:00, 243.16it/s]\n",
      "100%|██████████| 53/53 [00:00<00:00, 238.09it/s]\n"
     ]
    },
    {
     "name": "stdout",
     "output_type": "stream",
     "text": [
      "Epoch:428/1000.. Train Loss: 0.034.. Val Loss: 0.167.. Test Loss: 0.143.. Time: 0.04m\n"
     ]
    },
    {
     "name": "stderr",
     "output_type": "stream",
     "text": [
      "100%|██████████| 107/107 [00:01<00:00, 67.63it/s]\n",
      "100%|██████████| 18/18 [00:00<00:00, 242.50it/s]\n",
      "100%|██████████| 53/53 [00:00<00:00, 226.28it/s]\n"
     ]
    },
    {
     "name": "stdout",
     "output_type": "stream",
     "text": [
      "Epoch:429/1000.. Train Loss: 0.025.. Val Loss: 0.220.. Test Loss: 0.144.. Time: 0.03m\n"
     ]
    },
    {
     "name": "stderr",
     "output_type": "stream",
     "text": [
      "100%|██████████| 107/107 [00:01<00:00, 68.34it/s]\n",
      "100%|██████████| 18/18 [00:00<00:00, 249.86it/s]\n",
      "100%|██████████| 53/53 [00:00<00:00, 255.84it/s]\n"
     ]
    },
    {
     "name": "stdout",
     "output_type": "stream",
     "text": [
      "Epoch:430/1000.. Train Loss: 0.025.. Val Loss: 0.193.. Test Loss: 0.135.. Time: 0.03m\n"
     ]
    },
    {
     "name": "stderr",
     "output_type": "stream",
     "text": [
      "100%|██████████| 107/107 [00:01<00:00, 60.90it/s]\n",
      "100%|██████████| 18/18 [00:00<00:00, 236.50it/s]\n",
      "100%|██████████| 53/53 [00:00<00:00, 242.64it/s]\n"
     ]
    },
    {
     "name": "stdout",
     "output_type": "stream",
     "text": [
      "Epoch:431/1000.. Train Loss: 0.026.. Val Loss: 0.194.. Test Loss: 0.141.. Time: 0.03m\n"
     ]
    },
    {
     "name": "stderr",
     "output_type": "stream",
     "text": [
      "100%|██████████| 107/107 [00:01<00:00, 55.40it/s]\n",
      "100%|██████████| 18/18 [00:00<00:00, 197.36it/s]\n",
      "100%|██████████| 53/53 [00:00<00:00, 251.94it/s]\n"
     ]
    },
    {
     "name": "stdout",
     "output_type": "stream",
     "text": [
      "Epoch:432/1000.. Train Loss: 0.023.. Val Loss: 0.207.. Test Loss: 0.146.. Time: 0.04m\n"
     ]
    },
    {
     "name": "stderr",
     "output_type": "stream",
     "text": [
      "100%|██████████| 107/107 [00:01<00:00, 58.79it/s]\n",
      "100%|██████████| 18/18 [00:00<00:00, 202.29it/s]\n",
      "100%|██████████| 53/53 [00:00<00:00, 246.68it/s]\n"
     ]
    },
    {
     "name": "stdout",
     "output_type": "stream",
     "text": [
      "Epoch:433/1000.. Train Loss: 0.025.. Val Loss: 0.211.. Test Loss: 0.141.. Time: 0.04m\n"
     ]
    },
    {
     "name": "stderr",
     "output_type": "stream",
     "text": [
      "100%|██████████| 107/107 [00:01<00:00, 55.54it/s]\n",
      "100%|██████████| 18/18 [00:00<00:00, 209.91it/s]\n",
      "100%|██████████| 53/53 [00:00<00:00, 241.80it/s]\n"
     ]
    },
    {
     "name": "stdout",
     "output_type": "stream",
     "text": [
      "Epoch:434/1000.. Train Loss: 0.027.. Val Loss: 0.195.. Test Loss: 0.151.. Time: 0.04m\n"
     ]
    },
    {
     "name": "stderr",
     "output_type": "stream",
     "text": [
      "100%|██████████| 107/107 [00:01<00:00, 54.92it/s]\n",
      "100%|██████████| 18/18 [00:00<00:00, 244.33it/s]\n",
      "100%|██████████| 53/53 [00:00<00:00, 251.82it/s]\n"
     ]
    },
    {
     "name": "stdout",
     "output_type": "stream",
     "text": [
      "Epoch:435/1000.. Train Loss: 0.026.. Val Loss: 0.220.. Test Loss: 0.135.. Time: 0.04m\n"
     ]
    },
    {
     "name": "stderr",
     "output_type": "stream",
     "text": [
      "100%|██████████| 107/107 [00:01<00:00, 56.80it/s]\n",
      "100%|██████████| 18/18 [00:00<00:00, 211.34it/s]\n",
      "100%|██████████| 53/53 [00:00<00:00, 243.02it/s]\n"
     ]
    },
    {
     "name": "stdout",
     "output_type": "stream",
     "text": [
      "Epoch:436/1000.. Train Loss: 0.027.. Val Loss: 0.212.. Test Loss: 0.140.. Time: 0.04m\n"
     ]
    },
    {
     "name": "stderr",
     "output_type": "stream",
     "text": [
      "100%|██████████| 107/107 [00:01<00:00, 53.67it/s]\n",
      "100%|██████████| 18/18 [00:00<00:00, 243.10it/s]\n",
      "100%|██████████| 53/53 [00:00<00:00, 250.23it/s]\n"
     ]
    },
    {
     "name": "stdout",
     "output_type": "stream",
     "text": [
      "Epoch:437/1000.. Train Loss: 0.023.. Val Loss: 0.191.. Test Loss: 0.135.. Time: 0.04m\n"
     ]
    },
    {
     "name": "stderr",
     "output_type": "stream",
     "text": [
      "100%|██████████| 107/107 [00:01<00:00, 58.13it/s]\n",
      "100%|██████████| 18/18 [00:00<00:00, 218.46it/s]\n",
      "100%|██████████| 53/53 [00:00<00:00, 213.95it/s]\n"
     ]
    },
    {
     "name": "stdout",
     "output_type": "stream",
     "text": [
      "Epoch:438/1000.. Train Loss: 0.025.. Val Loss: 0.183.. Test Loss: 0.144.. Time: 0.04m\n"
     ]
    },
    {
     "name": "stderr",
     "output_type": "stream",
     "text": [
      "100%|██████████| 107/107 [00:01<00:00, 56.70it/s]\n",
      "100%|██████████| 18/18 [00:00<00:00, 251.03it/s]\n",
      "100%|██████████| 53/53 [00:00<00:00, 246.89it/s]\n"
     ]
    },
    {
     "name": "stdout",
     "output_type": "stream",
     "text": [
      "Epoch:439/1000.. Train Loss: 0.028.. Val Loss: 0.191.. Test Loss: 0.146.. Time: 0.04m\n"
     ]
    },
    {
     "name": "stderr",
     "output_type": "stream",
     "text": [
      "100%|██████████| 107/107 [00:01<00:00, 57.35it/s]\n",
      "100%|██████████| 18/18 [00:00<00:00, 241.28it/s]\n",
      "100%|██████████| 53/53 [00:00<00:00, 253.84it/s]\n"
     ]
    },
    {
     "name": "stdout",
     "output_type": "stream",
     "text": [
      "Epoch:440/1000.. Train Loss: 0.027.. Val Loss: 0.184.. Test Loss: 0.142.. Time: 0.04m\n"
     ]
    },
    {
     "name": "stderr",
     "output_type": "stream",
     "text": [
      "100%|██████████| 107/107 [00:01<00:00, 58.48it/s]\n",
      "100%|██████████| 18/18 [00:00<00:00, 252.77it/s]\n",
      "100%|██████████| 53/53 [00:00<00:00, 242.09it/s]\n"
     ]
    },
    {
     "name": "stdout",
     "output_type": "stream",
     "text": [
      "Epoch:441/1000.. Train Loss: 0.031.. Val Loss: 0.182.. Test Loss: 0.143.. Time: 0.04m\n"
     ]
    },
    {
     "name": "stderr",
     "output_type": "stream",
     "text": [
      "100%|██████████| 107/107 [00:01<00:00, 55.67it/s]\n",
      "100%|██████████| 18/18 [00:00<00:00, 244.38it/s]\n",
      "100%|██████████| 53/53 [00:00<00:00, 251.09it/s]\n"
     ]
    },
    {
     "name": "stdout",
     "output_type": "stream",
     "text": [
      "Epoch:442/1000.. Train Loss: 0.024.. Val Loss: 0.208.. Test Loss: 0.148.. Time: 0.04m\n"
     ]
    },
    {
     "name": "stderr",
     "output_type": "stream",
     "text": [
      "100%|██████████| 107/107 [00:01<00:00, 55.67it/s]\n",
      "100%|██████████| 18/18 [00:00<00:00, 242.01it/s]\n",
      "100%|██████████| 53/53 [00:00<00:00, 245.15it/s]\n"
     ]
    },
    {
     "name": "stdout",
     "output_type": "stream",
     "text": [
      "Epoch:443/1000.. Train Loss: 0.030.. Val Loss: 0.197.. Test Loss: 0.144.. Time: 0.04m\n"
     ]
    },
    {
     "name": "stderr",
     "output_type": "stream",
     "text": [
      "100%|██████████| 107/107 [00:01<00:00, 60.58it/s]\n",
      "100%|██████████| 18/18 [00:00<00:00, 244.27it/s]\n",
      "100%|██████████| 53/53 [00:00<00:00, 237.86it/s]\n"
     ]
    },
    {
     "name": "stdout",
     "output_type": "stream",
     "text": [
      "Epoch:444/1000.. Train Loss: 0.025.. Val Loss: 0.174.. Test Loss: 0.135.. Time: 0.03m\n"
     ]
    },
    {
     "name": "stderr",
     "output_type": "stream",
     "text": [
      "100%|██████████| 107/107 [00:01<00:00, 56.04it/s]\n",
      "100%|██████████| 18/18 [00:00<00:00, 232.74it/s]\n",
      "100%|██████████| 53/53 [00:00<00:00, 239.05it/s]\n"
     ]
    },
    {
     "name": "stdout",
     "output_type": "stream",
     "text": [
      "Epoch:445/1000.. Train Loss: 0.026.. Val Loss: 0.184.. Test Loss: 0.131.. Time: 0.04m\n"
     ]
    },
    {
     "name": "stderr",
     "output_type": "stream",
     "text": [
      "100%|██████████| 107/107 [00:01<00:00, 53.88it/s]\n",
      "100%|██████████| 18/18 [00:00<00:00, 242.66it/s]\n",
      "100%|██████████| 53/53 [00:00<00:00, 230.97it/s]\n"
     ]
    },
    {
     "name": "stdout",
     "output_type": "stream",
     "text": [
      "Epoch:446/1000.. Train Loss: 0.025.. Val Loss: 0.161.. Test Loss: 0.119.. Time: 0.04m\n"
     ]
    },
    {
     "name": "stderr",
     "output_type": "stream",
     "text": [
      "100%|██████████| 107/107 [00:01<00:00, 53.84it/s]\n",
      "100%|██████████| 18/18 [00:00<00:00, 246.14it/s]\n",
      "100%|██████████| 53/53 [00:00<00:00, 249.08it/s]\n"
     ]
    },
    {
     "name": "stdout",
     "output_type": "stream",
     "text": [
      "Epoch:447/1000.. Train Loss: 0.026.. Val Loss: 0.188.. Test Loss: 0.131.. Time: 0.04m\n"
     ]
    },
    {
     "name": "stderr",
     "output_type": "stream",
     "text": [
      "100%|██████████| 107/107 [00:01<00:00, 56.96it/s]\n",
      "100%|██████████| 18/18 [00:00<00:00, 252.63it/s]\n",
      "100%|██████████| 53/53 [00:00<00:00, 243.00it/s]\n"
     ]
    },
    {
     "name": "stdout",
     "output_type": "stream",
     "text": [
      "Epoch:448/1000.. Train Loss: 0.024.. Val Loss: 0.188.. Test Loss: 0.133.. Time: 0.04m\n"
     ]
    },
    {
     "name": "stderr",
     "output_type": "stream",
     "text": [
      "100%|██████████| 107/107 [00:01<00:00, 55.58it/s]\n",
      "100%|██████████| 18/18 [00:00<00:00, 209.80it/s]\n",
      "100%|██████████| 53/53 [00:00<00:00, 236.78it/s]\n"
     ]
    },
    {
     "name": "stdout",
     "output_type": "stream",
     "text": [
      "Epoch:449/1000.. Train Loss: 0.025.. Val Loss: 0.205.. Test Loss: 0.145.. Time: 0.04m\n"
     ]
    },
    {
     "name": "stderr",
     "output_type": "stream",
     "text": [
      "100%|██████████| 107/107 [00:01<00:00, 57.29it/s]\n",
      "100%|██████████| 18/18 [00:00<00:00, 241.18it/s]\n",
      "100%|██████████| 53/53 [00:00<00:00, 243.00it/s]\n"
     ]
    },
    {
     "name": "stdout",
     "output_type": "stream",
     "text": [
      "Epoch:450/1000.. Train Loss: 0.025.. Val Loss: 0.183.. Test Loss: 0.138.. Time: 0.04m\n"
     ]
    },
    {
     "name": "stderr",
     "output_type": "stream",
     "text": [
      "100%|██████████| 107/107 [00:01<00:00, 57.73it/s]\n",
      "100%|██████████| 18/18 [00:00<00:00, 234.31it/s]\n",
      "100%|██████████| 53/53 [00:00<00:00, 245.44it/s]\n"
     ]
    },
    {
     "name": "stdout",
     "output_type": "stream",
     "text": [
      "Epoch:451/1000.. Train Loss: 0.023.. Val Loss: 0.210.. Test Loss: 0.144.. Time: 0.04m\n"
     ]
    },
    {
     "name": "stderr",
     "output_type": "stream",
     "text": [
      "100%|██████████| 107/107 [00:01<00:00, 58.47it/s]\n",
      "100%|██████████| 18/18 [00:00<00:00, 241.62it/s]\n",
      "100%|██████████| 53/53 [00:00<00:00, 249.00it/s]\n"
     ]
    },
    {
     "name": "stdout",
     "output_type": "stream",
     "text": [
      "Epoch:452/1000.. Train Loss: 0.032.. Val Loss: 0.233.. Test Loss: 0.125.. Time: 0.04m\n"
     ]
    },
    {
     "name": "stderr",
     "output_type": "stream",
     "text": [
      "100%|██████████| 107/107 [00:01<00:00, 57.59it/s]\n",
      "100%|██████████| 18/18 [00:00<00:00, 261.42it/s]\n",
      "100%|██████████| 53/53 [00:00<00:00, 211.88it/s]\n"
     ]
    },
    {
     "name": "stdout",
     "output_type": "stream",
     "text": [
      "Epoch:453/1000.. Train Loss: 0.034.. Val Loss: 0.211.. Test Loss: 0.148.. Time: 0.04m\n"
     ]
    },
    {
     "name": "stderr",
     "output_type": "stream",
     "text": [
      "100%|██████████| 107/107 [00:01<00:00, 54.13it/s]\n",
      "100%|██████████| 18/18 [00:00<00:00, 237.54it/s]\n",
      "100%|██████████| 53/53 [00:00<00:00, 239.99it/s]\n"
     ]
    },
    {
     "name": "stdout",
     "output_type": "stream",
     "text": [
      "Epoch:454/1000.. Train Loss: 0.029.. Val Loss: 0.243.. Test Loss: 0.186.. Time: 0.04m\n"
     ]
    },
    {
     "name": "stderr",
     "output_type": "stream",
     "text": [
      "100%|██████████| 107/107 [00:01<00:00, 59.78it/s]\n",
      "100%|██████████| 18/18 [00:00<00:00, 259.99it/s]\n",
      "100%|██████████| 53/53 [00:00<00:00, 247.39it/s]\n"
     ]
    },
    {
     "name": "stdout",
     "output_type": "stream",
     "text": [
      "Epoch:455/1000.. Train Loss: 0.024.. Val Loss: 0.184.. Test Loss: 0.136.. Time: 0.03m\n"
     ]
    },
    {
     "name": "stderr",
     "output_type": "stream",
     "text": [
      "100%|██████████| 107/107 [00:01<00:00, 60.61it/s]\n",
      "100%|██████████| 18/18 [00:00<00:00, 239.17it/s]\n",
      "100%|██████████| 53/53 [00:00<00:00, 247.02it/s]\n"
     ]
    },
    {
     "name": "stdout",
     "output_type": "stream",
     "text": [
      "Epoch:456/1000.. Train Loss: 0.026.. Val Loss: 0.206.. Test Loss: 0.139.. Time: 0.03m\n"
     ]
    },
    {
     "name": "stderr",
     "output_type": "stream",
     "text": [
      "100%|██████████| 107/107 [00:01<00:00, 61.23it/s]\n",
      "100%|██████████| 18/18 [00:00<00:00, 248.50it/s]\n",
      "100%|██████████| 53/53 [00:00<00:00, 244.56it/s]\n"
     ]
    },
    {
     "name": "stdout",
     "output_type": "stream",
     "text": [
      "Epoch:457/1000.. Train Loss: 0.030.. Val Loss: 0.214.. Test Loss: 0.128.. Time: 0.03m\n"
     ]
    },
    {
     "name": "stderr",
     "output_type": "stream",
     "text": [
      "100%|██████████| 107/107 [00:01<00:00, 58.73it/s]\n",
      "100%|██████████| 18/18 [00:00<00:00, 223.25it/s]\n",
      "100%|██████████| 53/53 [00:00<00:00, 233.31it/s]\n"
     ]
    },
    {
     "name": "stdout",
     "output_type": "stream",
     "text": [
      "Epoch:458/1000.. Train Loss: 0.024.. Val Loss: 0.220.. Test Loss: 0.141.. Time: 0.04m\n"
     ]
    },
    {
     "name": "stderr",
     "output_type": "stream",
     "text": [
      "100%|██████████| 107/107 [00:01<00:00, 54.38it/s]\n",
      "100%|██████████| 18/18 [00:00<00:00, 245.38it/s]\n",
      "100%|██████████| 53/53 [00:00<00:00, 249.68it/s]\n"
     ]
    },
    {
     "name": "stdout",
     "output_type": "stream",
     "text": [
      "Epoch:459/1000.. Train Loss: 0.027.. Val Loss: 0.196.. Test Loss: 0.137.. Time: 0.04m\n"
     ]
    },
    {
     "name": "stderr",
     "output_type": "stream",
     "text": [
      "100%|██████████| 107/107 [00:01<00:00, 55.58it/s]\n",
      "100%|██████████| 18/18 [00:00<00:00, 234.34it/s]\n",
      "100%|██████████| 53/53 [00:00<00:00, 237.52it/s]\n"
     ]
    },
    {
     "name": "stdout",
     "output_type": "stream",
     "text": [
      "Epoch:460/1000.. Train Loss: 0.031.. Val Loss: 0.170.. Test Loss: 0.131.. Time: 0.04m\n"
     ]
    },
    {
     "name": "stderr",
     "output_type": "stream",
     "text": [
      "100%|██████████| 107/107 [00:01<00:00, 59.82it/s]\n",
      "100%|██████████| 18/18 [00:00<00:00, 216.82it/s]\n",
      "100%|██████████| 53/53 [00:00<00:00, 224.33it/s]\n"
     ]
    },
    {
     "name": "stdout",
     "output_type": "stream",
     "text": [
      "Epoch:461/1000.. Train Loss: 0.027.. Val Loss: 0.203.. Test Loss: 0.150.. Time: 0.04m\n"
     ]
    },
    {
     "name": "stderr",
     "output_type": "stream",
     "text": [
      "100%|██████████| 107/107 [00:01<00:00, 55.47it/s]\n",
      "100%|██████████| 18/18 [00:00<00:00, 241.93it/s]\n",
      "100%|██████████| 53/53 [00:00<00:00, 244.93it/s]\n"
     ]
    },
    {
     "name": "stdout",
     "output_type": "stream",
     "text": [
      "Epoch:462/1000.. Train Loss: 0.029.. Val Loss: 0.301.. Test Loss: 0.137.. Time: 0.04m\n"
     ]
    },
    {
     "name": "stderr",
     "output_type": "stream",
     "text": [
      "100%|██████████| 107/107 [00:02<00:00, 52.60it/s]\n",
      "100%|██████████| 18/18 [00:00<00:00, 237.49it/s]\n",
      "100%|██████████| 53/53 [00:00<00:00, 240.87it/s]\n"
     ]
    },
    {
     "name": "stdout",
     "output_type": "stream",
     "text": [
      "Epoch:463/1000.. Train Loss: 0.024.. Val Loss: 0.228.. Test Loss: 0.143.. Time: 0.04m\n"
     ]
    },
    {
     "name": "stderr",
     "output_type": "stream",
     "text": [
      "100%|██████████| 107/107 [00:01<00:00, 61.01it/s]\n",
      "100%|██████████| 18/18 [00:00<00:00, 253.91it/s]\n",
      "100%|██████████| 53/53 [00:00<00:00, 239.50it/s]\n"
     ]
    },
    {
     "name": "stdout",
     "output_type": "stream",
     "text": [
      "Epoch:464/1000.. Train Loss: 0.021.. Val Loss: 0.214.. Test Loss: 0.135.. Time: 0.03m\n"
     ]
    },
    {
     "name": "stderr",
     "output_type": "stream",
     "text": [
      "100%|██████████| 107/107 [00:01<00:00, 57.54it/s]\n",
      "100%|██████████| 18/18 [00:00<00:00, 251.66it/s]\n",
      "100%|██████████| 53/53 [00:00<00:00, 246.31it/s]\n"
     ]
    },
    {
     "name": "stdout",
     "output_type": "stream",
     "text": [
      "Epoch:465/1000.. Train Loss: 0.026.. Val Loss: 0.188.. Test Loss: 0.124.. Time: 0.04m\n"
     ]
    },
    {
     "name": "stderr",
     "output_type": "stream",
     "text": [
      "100%|██████████| 107/107 [00:01<00:00, 55.15it/s]\n",
      "100%|██████████| 18/18 [00:00<00:00, 231.23it/s]\n",
      "100%|██████████| 53/53 [00:00<00:00, 235.13it/s]\n"
     ]
    },
    {
     "name": "stdout",
     "output_type": "stream",
     "text": [
      "Epoch:466/1000.. Train Loss: 0.022.. Val Loss: 0.228.. Test Loss: 0.126.. Time: 0.04m\n"
     ]
    },
    {
     "name": "stderr",
     "output_type": "stream",
     "text": [
      "100%|██████████| 107/107 [00:02<00:00, 53.38it/s]\n",
      "100%|██████████| 18/18 [00:00<00:00, 260.23it/s]\n",
      "100%|██████████| 53/53 [00:00<00:00, 236.71it/s]\n"
     ]
    },
    {
     "name": "stdout",
     "output_type": "stream",
     "text": [
      "Epoch:467/1000.. Train Loss: 0.025.. Val Loss: 0.179.. Test Loss: 0.129.. Time: 0.04m\n"
     ]
    },
    {
     "name": "stderr",
     "output_type": "stream",
     "text": [
      "100%|██████████| 107/107 [00:01<00:00, 55.04it/s]\n",
      "100%|██████████| 18/18 [00:00<00:00, 283.10it/s]\n",
      "100%|██████████| 53/53 [00:00<00:00, 235.13it/s]\n"
     ]
    },
    {
     "name": "stdout",
     "output_type": "stream",
     "text": [
      "Epoch:468/1000.. Train Loss: 0.025.. Val Loss: 0.202.. Test Loss: 0.132.. Time: 0.04m\n"
     ]
    },
    {
     "name": "stderr",
     "output_type": "stream",
     "text": [
      "100%|██████████| 107/107 [00:01<00:00, 61.35it/s]\n",
      "100%|██████████| 18/18 [00:00<00:00, 227.77it/s]\n",
      "100%|██████████| 53/53 [00:00<00:00, 215.23it/s]\n"
     ]
    },
    {
     "name": "stdout",
     "output_type": "stream",
     "text": [
      "Epoch:469/1000.. Train Loss: 0.029.. Val Loss: 0.195.. Test Loss: 0.144.. Time: 0.03m\n"
     ]
    },
    {
     "name": "stderr",
     "output_type": "stream",
     "text": [
      "100%|██████████| 107/107 [00:01<00:00, 56.27it/s]\n",
      "100%|██████████| 18/18 [00:00<00:00, 254.15it/s]\n",
      "100%|██████████| 53/53 [00:00<00:00, 242.71it/s]\n"
     ]
    },
    {
     "name": "stdout",
     "output_type": "stream",
     "text": [
      "Epoch:470/1000.. Train Loss: 0.023.. Val Loss: 0.178.. Test Loss: 0.139.. Time: 0.04m\n"
     ]
    },
    {
     "name": "stderr",
     "output_type": "stream",
     "text": [
      "100%|██████████| 107/107 [00:01<00:00, 59.65it/s]\n",
      "100%|██████████| 18/18 [00:00<00:00, 293.02it/s]\n",
      "100%|██████████| 53/53 [00:00<00:00, 273.85it/s]\n"
     ]
    },
    {
     "name": "stdout",
     "output_type": "stream",
     "text": [
      "Epoch:471/1000.. Train Loss: 0.026.. Val Loss: 0.167.. Test Loss: 0.149.. Time: 0.03m\n"
     ]
    },
    {
     "name": "stderr",
     "output_type": "stream",
     "text": [
      "100%|██████████| 107/107 [00:01<00:00, 57.79it/s]\n",
      "100%|██████████| 18/18 [00:00<00:00, 228.97it/s]\n",
      "100%|██████████| 53/53 [00:00<00:00, 246.18it/s]\n"
     ]
    },
    {
     "name": "stdout",
     "output_type": "stream",
     "text": [
      "Epoch:472/1000.. Train Loss: 0.027.. Val Loss: 0.180.. Test Loss: 0.137.. Time: 0.04m\n"
     ]
    },
    {
     "name": "stderr",
     "output_type": "stream",
     "text": [
      "100%|██████████| 107/107 [00:01<00:00, 54.92it/s]\n",
      "100%|██████████| 18/18 [00:00<00:00, 240.20it/s]\n",
      "100%|██████████| 53/53 [00:00<00:00, 204.14it/s]\n"
     ]
    },
    {
     "name": "stdout",
     "output_type": "stream",
     "text": [
      "Epoch:473/1000.. Train Loss: 0.024.. Val Loss: 0.237.. Test Loss: 0.133.. Time: 0.04m\n"
     ]
    },
    {
     "name": "stderr",
     "output_type": "stream",
     "text": [
      "100%|██████████| 107/107 [00:01<00:00, 55.14it/s]\n",
      "100%|██████████| 18/18 [00:00<00:00, 240.10it/s]\n",
      "100%|██████████| 53/53 [00:00<00:00, 239.16it/s]\n"
     ]
    },
    {
     "name": "stdout",
     "output_type": "stream",
     "text": [
      "Epoch:474/1000.. Train Loss: 0.027.. Val Loss: 0.186.. Test Loss: 0.133.. Time: 0.04m\n"
     ]
    },
    {
     "name": "stderr",
     "output_type": "stream",
     "text": [
      "100%|██████████| 107/107 [00:01<00:00, 58.28it/s]\n",
      "100%|██████████| 18/18 [00:00<00:00, 227.11it/s]\n",
      "100%|██████████| 53/53 [00:00<00:00, 232.92it/s]\n"
     ]
    },
    {
     "name": "stdout",
     "output_type": "stream",
     "text": [
      "Epoch:475/1000.. Train Loss: 0.033.. Val Loss: 0.150.. Test Loss: 0.124.. Time: 0.04m\n"
     ]
    },
    {
     "name": "stderr",
     "output_type": "stream",
     "text": [
      "100%|██████████| 107/107 [00:01<00:00, 57.07it/s]\n",
      "100%|██████████| 18/18 [00:00<00:00, 192.15it/s]\n",
      "100%|██████████| 53/53 [00:00<00:00, 236.99it/s]\n"
     ]
    },
    {
     "name": "stdout",
     "output_type": "stream",
     "text": [
      "Epoch:476/1000.. Train Loss: 0.037.. Val Loss: 0.164.. Test Loss: 0.124.. Time: 0.04m\n"
     ]
    },
    {
     "name": "stderr",
     "output_type": "stream",
     "text": [
      "100%|██████████| 107/107 [00:01<00:00, 58.88it/s]\n",
      "100%|██████████| 18/18 [00:00<00:00, 197.57it/s]\n",
      "100%|██████████| 53/53 [00:00<00:00, 214.02it/s]\n"
     ]
    },
    {
     "name": "stdout",
     "output_type": "stream",
     "text": [
      "Epoch:477/1000.. Train Loss: 0.023.. Val Loss: 0.170.. Test Loss: 0.139.. Time: 0.04m\n"
     ]
    },
    {
     "name": "stderr",
     "output_type": "stream",
     "text": [
      "100%|██████████| 107/107 [00:01<00:00, 56.95it/s]\n",
      "100%|██████████| 18/18 [00:00<00:00, 220.36it/s]\n",
      "100%|██████████| 53/53 [00:00<00:00, 230.06it/s]\n"
     ]
    },
    {
     "name": "stdout",
     "output_type": "stream",
     "text": [
      "Epoch:478/1000.. Train Loss: 0.026.. Val Loss: 0.205.. Test Loss: 0.138.. Time: 0.04m\n"
     ]
    },
    {
     "name": "stderr",
     "output_type": "stream",
     "text": [
      "100%|██████████| 107/107 [00:01<00:00, 56.71it/s]\n",
      "100%|██████████| 18/18 [00:00<00:00, 237.02it/s]\n",
      "100%|██████████| 53/53 [00:00<00:00, 227.21it/s]\n"
     ]
    },
    {
     "name": "stdout",
     "output_type": "stream",
     "text": [
      "Epoch:479/1000.. Train Loss: 0.024.. Val Loss: 0.175.. Test Loss: 0.137.. Time: 0.04m\n"
     ]
    },
    {
     "name": "stderr",
     "output_type": "stream",
     "text": [
      "100%|██████████| 107/107 [00:01<00:00, 60.85it/s]\n",
      "100%|██████████| 18/18 [00:00<00:00, 254.76it/s]\n",
      "100%|██████████| 53/53 [00:00<00:00, 244.04it/s]\n"
     ]
    },
    {
     "name": "stdout",
     "output_type": "stream",
     "text": [
      "Epoch:480/1000.. Train Loss: 0.027.. Val Loss: 0.189.. Test Loss: 0.140.. Time: 0.03m\n"
     ]
    },
    {
     "name": "stderr",
     "output_type": "stream",
     "text": [
      "100%|██████████| 107/107 [00:01<00:00, 58.06it/s]\n",
      "100%|██████████| 18/18 [00:00<00:00, 212.90it/s]\n",
      "100%|██████████| 53/53 [00:00<00:00, 243.55it/s]\n"
     ]
    },
    {
     "name": "stdout",
     "output_type": "stream",
     "text": [
      "Epoch:481/1000.. Train Loss: 0.031.. Val Loss: 0.203.. Test Loss: 0.126.. Time: 0.04m\n"
     ]
    },
    {
     "name": "stderr",
     "output_type": "stream",
     "text": [
      "100%|██████████| 107/107 [00:01<00:00, 55.21it/s]\n",
      "100%|██████████| 18/18 [00:00<00:00, 213.90it/s]\n",
      "100%|██████████| 53/53 [00:00<00:00, 245.55it/s]\n"
     ]
    },
    {
     "name": "stdout",
     "output_type": "stream",
     "text": [
      "Epoch:482/1000.. Train Loss: 0.026.. Val Loss: 0.218.. Test Loss: 0.138.. Time: 0.04m\n"
     ]
    },
    {
     "name": "stderr",
     "output_type": "stream",
     "text": [
      "100%|██████████| 107/107 [00:01<00:00, 58.12it/s]\n",
      "100%|██████████| 18/18 [00:00<00:00, 202.04it/s]\n",
      "100%|██████████| 53/53 [00:00<00:00, 236.07it/s]\n"
     ]
    },
    {
     "name": "stdout",
     "output_type": "stream",
     "text": [
      "Epoch:483/1000.. Train Loss: 0.021.. Val Loss: 0.181.. Test Loss: 0.138.. Time: 0.04m\n"
     ]
    },
    {
     "name": "stderr",
     "output_type": "stream",
     "text": [
      "100%|██████████| 107/107 [00:01<00:00, 55.43it/s]\n",
      "100%|██████████| 18/18 [00:00<00:00, 203.05it/s]\n",
      "100%|██████████| 53/53 [00:00<00:00, 252.23it/s]\n"
     ]
    },
    {
     "name": "stdout",
     "output_type": "stream",
     "text": [
      "Epoch:484/1000.. Train Loss: 0.021.. Val Loss: 0.202.. Test Loss: 0.144.. Time: 0.04m\n"
     ]
    },
    {
     "name": "stderr",
     "output_type": "stream",
     "text": [
      "100%|██████████| 107/107 [00:01<00:00, 58.34it/s]\n",
      "100%|██████████| 18/18 [00:00<00:00, 243.89it/s]\n",
      "100%|██████████| 53/53 [00:00<00:00, 243.33it/s]\n"
     ]
    },
    {
     "name": "stdout",
     "output_type": "stream",
     "text": [
      "Epoch:485/1000.. Train Loss: 0.025.. Val Loss: 0.170.. Test Loss: 0.133.. Time: 0.04m\n"
     ]
    },
    {
     "name": "stderr",
     "output_type": "stream",
     "text": [
      "100%|██████████| 107/107 [00:01<00:00, 61.68it/s]\n",
      "100%|██████████| 18/18 [00:00<00:00, 248.88it/s]\n",
      "100%|██████████| 53/53 [00:00<00:00, 245.84it/s]\n"
     ]
    },
    {
     "name": "stdout",
     "output_type": "stream",
     "text": [
      "Epoch:486/1000.. Train Loss: 0.019.. Val Loss: 0.181.. Test Loss: 0.142.. Time: 0.03m\n"
     ]
    },
    {
     "name": "stderr",
     "output_type": "stream",
     "text": [
      "100%|██████████| 107/107 [00:01<00:00, 57.27it/s]\n",
      "100%|██████████| 18/18 [00:00<00:00, 239.72it/s]\n",
      "100%|██████████| 53/53 [00:00<00:00, 247.65it/s]\n"
     ]
    },
    {
     "name": "stdout",
     "output_type": "stream",
     "text": [
      "Epoch:487/1000.. Train Loss: 0.025.. Val Loss: 0.200.. Test Loss: 0.144.. Time: 0.04m\n"
     ]
    },
    {
     "name": "stderr",
     "output_type": "stream",
     "text": [
      "100%|██████████| 107/107 [00:01<00:00, 60.69it/s]\n",
      "100%|██████████| 18/18 [00:00<00:00, 247.48it/s]\n",
      "100%|██████████| 53/53 [00:00<00:00, 239.44it/s]\n"
     ]
    },
    {
     "name": "stdout",
     "output_type": "stream",
     "text": [
      "Epoch:488/1000.. Train Loss: 0.020.. Val Loss: 0.172.. Test Loss: 0.142.. Time: 0.03m\n"
     ]
    },
    {
     "name": "stderr",
     "output_type": "stream",
     "text": [
      "100%|██████████| 107/107 [00:01<00:00, 55.88it/s]\n",
      "100%|██████████| 18/18 [00:00<00:00, 215.01it/s]\n",
      "100%|██████████| 53/53 [00:00<00:00, 253.04it/s]\n"
     ]
    },
    {
     "name": "stdout",
     "output_type": "stream",
     "text": [
      "Epoch:489/1000.. Train Loss: 0.025.. Val Loss: 0.204.. Test Loss: 0.139.. Time: 0.04m\n"
     ]
    },
    {
     "name": "stderr",
     "output_type": "stream",
     "text": [
      "100%|██████████| 107/107 [00:01<00:00, 56.24it/s]\n",
      "100%|██████████| 18/18 [00:00<00:00, 246.52it/s]\n",
      "100%|██████████| 53/53 [00:00<00:00, 250.97it/s]\n"
     ]
    },
    {
     "name": "stdout",
     "output_type": "stream",
     "text": [
      "Epoch:490/1000.. Train Loss: 0.020.. Val Loss: 0.203.. Test Loss: 0.132.. Time: 0.04m\n"
     ]
    },
    {
     "name": "stderr",
     "output_type": "stream",
     "text": [
      "100%|██████████| 107/107 [00:01<00:00, 56.90it/s]\n",
      "100%|██████████| 18/18 [00:00<00:00, 243.03it/s]\n",
      "100%|██████████| 53/53 [00:00<00:00, 235.35it/s]\n"
     ]
    },
    {
     "name": "stdout",
     "output_type": "stream",
     "text": [
      "Epoch:491/1000.. Train Loss: 0.018.. Val Loss: 0.202.. Test Loss: 0.135.. Time: 0.04m\n"
     ]
    },
    {
     "name": "stderr",
     "output_type": "stream",
     "text": [
      "100%|██████████| 107/107 [00:01<00:00, 57.64it/s]\n",
      "100%|██████████| 18/18 [00:00<00:00, 233.89it/s]\n",
      "100%|██████████| 53/53 [00:00<00:00, 233.50it/s]\n"
     ]
    },
    {
     "name": "stdout",
     "output_type": "stream",
     "text": [
      "Epoch:492/1000.. Train Loss: 0.024.. Val Loss: 0.207.. Test Loss: 0.135.. Time: 0.04m\n"
     ]
    },
    {
     "name": "stderr",
     "output_type": "stream",
     "text": [
      "100%|██████████| 107/107 [00:01<00:00, 60.55it/s]\n",
      "100%|██████████| 18/18 [00:00<00:00, 228.17it/s]\n",
      "100%|██████████| 53/53 [00:00<00:00, 236.22it/s]\n"
     ]
    },
    {
     "name": "stdout",
     "output_type": "stream",
     "text": [
      "Epoch:493/1000.. Train Loss: 0.027.. Val Loss: 0.187.. Test Loss: 0.136.. Time: 0.03m\n"
     ]
    },
    {
     "name": "stderr",
     "output_type": "stream",
     "text": [
      "100%|██████████| 107/107 [00:01<00:00, 56.75it/s]\n",
      "100%|██████████| 18/18 [00:00<00:00, 259.42it/s]\n",
      "100%|██████████| 53/53 [00:00<00:00, 244.47it/s]\n"
     ]
    },
    {
     "name": "stdout",
     "output_type": "stream",
     "text": [
      "Epoch:494/1000.. Train Loss: 0.022.. Val Loss: 0.192.. Test Loss: 0.133.. Time: 0.04m\n"
     ]
    },
    {
     "name": "stderr",
     "output_type": "stream",
     "text": [
      "100%|██████████| 107/107 [00:01<00:00, 56.00it/s]\n",
      "100%|██████████| 18/18 [00:00<00:00, 217.21it/s]\n",
      "100%|██████████| 53/53 [00:00<00:00, 234.25it/s]\n"
     ]
    },
    {
     "name": "stdout",
     "output_type": "stream",
     "text": [
      "Epoch:495/1000.. Train Loss: 0.028.. Val Loss: 0.199.. Test Loss: 0.137.. Time: 0.04m\n"
     ]
    },
    {
     "name": "stderr",
     "output_type": "stream",
     "text": [
      "100%|██████████| 107/107 [00:01<00:00, 53.88it/s]\n",
      "100%|██████████| 18/18 [00:00<00:00, 253.98it/s]\n",
      "100%|██████████| 53/53 [00:00<00:00, 246.15it/s]\n"
     ]
    },
    {
     "name": "stdout",
     "output_type": "stream",
     "text": [
      "Epoch:496/1000.. Train Loss: 0.022.. Val Loss: 0.183.. Test Loss: 0.136.. Time: 0.04m\n"
     ]
    },
    {
     "name": "stderr",
     "output_type": "stream",
     "text": [
      "100%|██████████| 107/107 [00:01<00:00, 58.20it/s]\n",
      "100%|██████████| 18/18 [00:00<00:00, 245.82it/s]\n",
      "100%|██████████| 53/53 [00:00<00:00, 246.71it/s]\n"
     ]
    },
    {
     "name": "stdout",
     "output_type": "stream",
     "text": [
      "Epoch:497/1000.. Train Loss: 0.024.. Val Loss: 0.221.. Test Loss: 0.149.. Time: 0.04m\n"
     ]
    },
    {
     "name": "stderr",
     "output_type": "stream",
     "text": [
      "100%|██████████| 107/107 [00:01<00:00, 62.46it/s]\n",
      "100%|██████████| 18/18 [00:00<00:00, 237.75it/s]\n",
      "100%|██████████| 53/53 [00:00<00:00, 241.87it/s]\n"
     ]
    },
    {
     "name": "stdout",
     "output_type": "stream",
     "text": [
      "Epoch:498/1000.. Train Loss: 0.027.. Val Loss: 0.193.. Test Loss: 0.131.. Time: 0.03m\n"
     ]
    },
    {
     "name": "stderr",
     "output_type": "stream",
     "text": [
      "100%|██████████| 107/107 [00:01<00:00, 63.35it/s]\n",
      "100%|██████████| 18/18 [00:00<00:00, 228.58it/s]\n",
      "100%|██████████| 53/53 [00:00<00:00, 245.37it/s]\n"
     ]
    },
    {
     "name": "stdout",
     "output_type": "stream",
     "text": [
      "Epoch:499/1000.. Train Loss: 0.021.. Val Loss: 0.214.. Test Loss: 0.144.. Time: 0.03m\n"
     ]
    },
    {
     "name": "stderr",
     "output_type": "stream",
     "text": [
      "100%|██████████| 107/107 [00:01<00:00, 56.52it/s]\n",
      "100%|██████████| 18/18 [00:00<00:00, 221.16it/s]\n",
      "100%|██████████| 53/53 [00:00<00:00, 251.75it/s]\n"
     ]
    },
    {
     "name": "stdout",
     "output_type": "stream",
     "text": [
      "Epoch:500/1000.. Train Loss: 0.026.. Val Loss: 0.219.. Test Loss: 0.140.. Time: 0.04m\n"
     ]
    },
    {
     "name": "stderr",
     "output_type": "stream",
     "text": [
      "100%|██████████| 107/107 [00:01<00:00, 56.35it/s]\n",
      "100%|██████████| 18/18 [00:00<00:00, 237.43it/s]\n",
      "100%|██████████| 53/53 [00:00<00:00, 246.77it/s]\n"
     ]
    },
    {
     "name": "stdout",
     "output_type": "stream",
     "text": [
      "Epoch:501/1000.. Train Loss: 0.022.. Val Loss: 0.222.. Test Loss: 0.138.. Time: 0.04m\n"
     ]
    },
    {
     "name": "stderr",
     "output_type": "stream",
     "text": [
      "100%|██████████| 107/107 [00:01<00:00, 60.64it/s]\n",
      "100%|██████████| 18/18 [00:00<00:00, 258.91it/s]\n",
      "100%|██████████| 53/53 [00:00<00:00, 247.88it/s]\n"
     ]
    },
    {
     "name": "stdout",
     "output_type": "stream",
     "text": [
      "Epoch:502/1000.. Train Loss: 0.028.. Val Loss: 0.248.. Test Loss: 0.153.. Time: 0.03m\n"
     ]
    },
    {
     "name": "stderr",
     "output_type": "stream",
     "text": [
      "100%|██████████| 107/107 [00:01<00:00, 57.38it/s]\n",
      "100%|██████████| 18/18 [00:00<00:00, 245.07it/s]\n",
      "100%|██████████| 53/53 [00:00<00:00, 252.82it/s]\n"
     ]
    },
    {
     "name": "stdout",
     "output_type": "stream",
     "text": [
      "Epoch:503/1000.. Train Loss: 0.021.. Val Loss: 0.220.. Test Loss: 0.154.. Time: 0.04m\n"
     ]
    },
    {
     "name": "stderr",
     "output_type": "stream",
     "text": [
      "100%|██████████| 107/107 [00:02<00:00, 51.67it/s]\n",
      "100%|██████████| 18/18 [00:00<00:00, 253.14it/s]\n",
      "100%|██████████| 53/53 [00:00<00:00, 247.91it/s]\n"
     ]
    },
    {
     "name": "stdout",
     "output_type": "stream",
     "text": [
      "Epoch:504/1000.. Train Loss: 0.025.. Val Loss: 0.214.. Test Loss: 0.133.. Time: 0.04m\n"
     ]
    },
    {
     "name": "stderr",
     "output_type": "stream",
     "text": [
      "100%|██████████| 107/107 [00:01<00:00, 60.21it/s]\n",
      "100%|██████████| 18/18 [00:00<00:00, 247.21it/s]\n",
      "100%|██████████| 53/53 [00:00<00:00, 251.84it/s]\n"
     ]
    },
    {
     "name": "stdout",
     "output_type": "stream",
     "text": [
      "Epoch:505/1000.. Train Loss: 0.024.. Val Loss: 0.223.. Test Loss: 0.142.. Time: 0.03m\n"
     ]
    },
    {
     "name": "stderr",
     "output_type": "stream",
     "text": [
      "100%|██████████| 107/107 [00:01<00:00, 55.50it/s]\n",
      "100%|██████████| 18/18 [00:00<00:00, 227.49it/s]\n",
      "100%|██████████| 53/53 [00:00<00:00, 226.80it/s]\n"
     ]
    },
    {
     "name": "stdout",
     "output_type": "stream",
     "text": [
      "Epoch:506/1000.. Train Loss: 0.022.. Val Loss: 0.188.. Test Loss: 0.138.. Time: 0.04m\n"
     ]
    },
    {
     "name": "stderr",
     "output_type": "stream",
     "text": [
      "100%|██████████| 107/107 [00:01<00:00, 55.72it/s]\n",
      "100%|██████████| 18/18 [00:00<00:00, 258.69it/s]\n",
      "100%|██████████| 53/53 [00:00<00:00, 231.38it/s]\n"
     ]
    },
    {
     "name": "stdout",
     "output_type": "stream",
     "text": [
      "Epoch:507/1000.. Train Loss: 0.022.. Val Loss: 0.189.. Test Loss: 0.139.. Time: 0.04m\n"
     ]
    },
    {
     "name": "stderr",
     "output_type": "stream",
     "text": [
      "100%|██████████| 107/107 [00:01<00:00, 55.48it/s]\n",
      "100%|██████████| 18/18 [00:00<00:00, 243.32it/s]\n",
      "100%|██████████| 53/53 [00:00<00:00, 244.62it/s]\n"
     ]
    },
    {
     "name": "stdout",
     "output_type": "stream",
     "text": [
      "Epoch:508/1000.. Train Loss: 0.023.. Val Loss: 0.224.. Test Loss: 0.156.. Time: 0.04m\n"
     ]
    },
    {
     "name": "stderr",
     "output_type": "stream",
     "text": [
      "100%|██████████| 107/107 [00:01<00:00, 67.05it/s]\n",
      "100%|██████████| 18/18 [00:00<00:00, 231.67it/s]\n",
      "100%|██████████| 53/53 [00:00<00:00, 241.82it/s]\n"
     ]
    },
    {
     "name": "stdout",
     "output_type": "stream",
     "text": [
      "Epoch:509/1000.. Train Loss: 0.029.. Val Loss: 0.202.. Test Loss: 0.133.. Time: 0.03m\n"
     ]
    },
    {
     "name": "stderr",
     "output_type": "stream",
     "text": [
      "100%|██████████| 107/107 [00:01<00:00, 58.48it/s]\n",
      "100%|██████████| 18/18 [00:00<00:00, 246.23it/s]\n",
      "100%|██████████| 53/53 [00:00<00:00, 256.28it/s]\n"
     ]
    },
    {
     "name": "stdout",
     "output_type": "stream",
     "text": [
      "Epoch:510/1000.. Train Loss: 0.022.. Val Loss: 0.180.. Test Loss: 0.135.. Time: 0.04m\n"
     ]
    },
    {
     "name": "stderr",
     "output_type": "stream",
     "text": [
      "100%|██████████| 107/107 [00:01<00:00, 53.64it/s]\n",
      "100%|██████████| 18/18 [00:00<00:00, 225.50it/s]\n",
      "100%|██████████| 53/53 [00:00<00:00, 226.48it/s]\n"
     ]
    },
    {
     "name": "stdout",
     "output_type": "stream",
     "text": [
      "Epoch:511/1000.. Train Loss: 0.022.. Val Loss: 0.201.. Test Loss: 0.140.. Time: 0.04m\n"
     ]
    },
    {
     "name": "stderr",
     "output_type": "stream",
     "text": [
      "100%|██████████| 107/107 [00:01<00:00, 60.89it/s]\n",
      "100%|██████████| 18/18 [00:00<00:00, 242.98it/s]\n",
      "100%|██████████| 53/53 [00:00<00:00, 245.33it/s]\n"
     ]
    },
    {
     "name": "stdout",
     "output_type": "stream",
     "text": [
      "Epoch:512/1000.. Train Loss: 0.028.. Val Loss: 0.202.. Test Loss: 0.142.. Time: 0.03m\n"
     ]
    },
    {
     "name": "stderr",
     "output_type": "stream",
     "text": [
      "100%|██████████| 107/107 [00:01<00:00, 59.33it/s]\n",
      "100%|██████████| 18/18 [00:00<00:00, 252.02it/s]\n",
      "100%|██████████| 53/53 [00:00<00:00, 252.80it/s]\n"
     ]
    },
    {
     "name": "stdout",
     "output_type": "stream",
     "text": [
      "Epoch:513/1000.. Train Loss: 0.023.. Val Loss: 0.187.. Test Loss: 0.141.. Time: 0.04m\n"
     ]
    },
    {
     "name": "stderr",
     "output_type": "stream",
     "text": [
      "100%|██████████| 107/107 [00:01<00:00, 60.65it/s]\n",
      "100%|██████████| 18/18 [00:00<00:00, 233.58it/s]\n",
      "100%|██████████| 53/53 [00:00<00:00, 234.47it/s]\n"
     ]
    },
    {
     "name": "stdout",
     "output_type": "stream",
     "text": [
      "Epoch:514/1000.. Train Loss: 0.029.. Val Loss: 0.194.. Test Loss: 0.134.. Time: 0.03m\n"
     ]
    },
    {
     "name": "stderr",
     "output_type": "stream",
     "text": [
      "100%|██████████| 107/107 [00:01<00:00, 58.07it/s]\n",
      "100%|██████████| 18/18 [00:00<00:00, 241.17it/s]\n",
      "100%|██████████| 53/53 [00:00<00:00, 252.07it/s]\n"
     ]
    },
    {
     "name": "stdout",
     "output_type": "stream",
     "text": [
      "Epoch:515/1000.. Train Loss: 0.026.. Val Loss: 0.200.. Test Loss: 0.130.. Time: 0.04m\n"
     ]
    },
    {
     "name": "stderr",
     "output_type": "stream",
     "text": [
      "100%|██████████| 107/107 [00:01<00:00, 55.43it/s]\n",
      "100%|██████████| 18/18 [00:00<00:00, 243.37it/s]\n",
      "100%|██████████| 53/53 [00:00<00:00, 246.13it/s]\n"
     ]
    },
    {
     "name": "stdout",
     "output_type": "stream",
     "text": [
      "Epoch:516/1000.. Train Loss: 0.026.. Val Loss: 0.196.. Test Loss: 0.137.. Time: 0.04m\n"
     ]
    },
    {
     "name": "stderr",
     "output_type": "stream",
     "text": [
      "100%|██████████| 107/107 [00:01<00:00, 54.24it/s]\n",
      "100%|██████████| 18/18 [00:00<00:00, 241.77it/s]\n",
      "100%|██████████| 53/53 [00:00<00:00, 239.90it/s]\n"
     ]
    },
    {
     "name": "stdout",
     "output_type": "stream",
     "text": [
      "Epoch:517/1000.. Train Loss: 0.020.. Val Loss: 0.217.. Test Loss: 0.131.. Time: 0.04m\n"
     ]
    },
    {
     "name": "stderr",
     "output_type": "stream",
     "text": [
      "100%|██████████| 107/107 [00:01<00:00, 56.95it/s]\n",
      "100%|██████████| 18/18 [00:00<00:00, 199.80it/s]\n",
      "100%|██████████| 53/53 [00:00<00:00, 250.12it/s]\n"
     ]
    },
    {
     "name": "stdout",
     "output_type": "stream",
     "text": [
      "Epoch:518/1000.. Train Loss: 0.025.. Val Loss: 0.195.. Test Loss: 0.145.. Time: 0.04m\n"
     ]
    },
    {
     "name": "stderr",
     "output_type": "stream",
     "text": [
      "100%|██████████| 107/107 [00:02<00:00, 51.48it/s]\n",
      "100%|██████████| 18/18 [00:00<00:00, 202.36it/s]\n",
      "100%|██████████| 53/53 [00:00<00:00, 215.74it/s]\n"
     ]
    },
    {
     "name": "stdout",
     "output_type": "stream",
     "text": [
      "Epoch:519/1000.. Train Loss: 0.031.. Val Loss: 0.211.. Test Loss: 0.137.. Time: 0.04m\n"
     ]
    },
    {
     "name": "stderr",
     "output_type": "stream",
     "text": [
      "100%|██████████| 107/107 [00:01<00:00, 55.99it/s]\n",
      "100%|██████████| 18/18 [00:00<00:00, 211.77it/s]\n",
      "100%|██████████| 53/53 [00:00<00:00, 246.79it/s]\n"
     ]
    },
    {
     "name": "stdout",
     "output_type": "stream",
     "text": [
      "Epoch:520/1000.. Train Loss: 0.025.. Val Loss: 0.174.. Test Loss: 0.130.. Time: 0.04m\n"
     ]
    },
    {
     "name": "stderr",
     "output_type": "stream",
     "text": [
      "100%|██████████| 107/107 [00:01<00:00, 56.52it/s]\n",
      "100%|██████████| 18/18 [00:00<00:00, 234.66it/s]\n",
      "100%|██████████| 53/53 [00:00<00:00, 201.83it/s]\n"
     ]
    },
    {
     "name": "stdout",
     "output_type": "stream",
     "text": [
      "Epoch:521/1000.. Train Loss: 0.023.. Val Loss: 0.179.. Test Loss: 0.143.. Time: 0.04m\n"
     ]
    },
    {
     "name": "stderr",
     "output_type": "stream",
     "text": [
      "100%|██████████| 107/107 [00:01<00:00, 57.26it/s]\n",
      "100%|██████████| 18/18 [00:00<00:00, 271.17it/s]\n",
      "100%|██████████| 53/53 [00:00<00:00, 245.97it/s]\n"
     ]
    },
    {
     "name": "stdout",
     "output_type": "stream",
     "text": [
      "Epoch:522/1000.. Train Loss: 0.023.. Val Loss: 0.189.. Test Loss: 0.159.. Time: 0.04m\n"
     ]
    },
    {
     "name": "stderr",
     "output_type": "stream",
     "text": [
      "100%|██████████| 107/107 [00:01<00:00, 67.95it/s]\n",
      "100%|██████████| 18/18 [00:00<00:00, 257.98it/s]\n",
      "100%|██████████| 53/53 [00:00<00:00, 245.71it/s]\n"
     ]
    },
    {
     "name": "stdout",
     "output_type": "stream",
     "text": [
      "Epoch:523/1000.. Train Loss: 0.027.. Val Loss: 0.200.. Test Loss: 0.145.. Time: 0.03m\n"
     ]
    },
    {
     "name": "stderr",
     "output_type": "stream",
     "text": [
      "100%|██████████| 107/107 [00:01<00:00, 58.92it/s]\n",
      "100%|██████████| 18/18 [00:00<00:00, 249.58it/s]\n",
      "100%|██████████| 53/53 [00:00<00:00, 243.42it/s]\n"
     ]
    },
    {
     "name": "stdout",
     "output_type": "stream",
     "text": [
      "Epoch:524/1000.. Train Loss: 0.021.. Val Loss: 0.189.. Test Loss: 0.138.. Time: 0.04m\n"
     ]
    },
    {
     "name": "stderr",
     "output_type": "stream",
     "text": [
      "100%|██████████| 107/107 [00:01<00:00, 59.88it/s]\n",
      "100%|██████████| 18/18 [00:00<00:00, 236.38it/s]\n",
      "100%|██████████| 53/53 [00:00<00:00, 232.70it/s]\n"
     ]
    },
    {
     "name": "stdout",
     "output_type": "stream",
     "text": [
      "Epoch:525/1000.. Train Loss: 0.022.. Val Loss: 0.193.. Test Loss: 0.135.. Time: 0.04m\n"
     ]
    },
    {
     "name": "stderr",
     "output_type": "stream",
     "text": [
      "100%|██████████| 107/107 [00:01<00:00, 57.43it/s]\n",
      "100%|██████████| 18/18 [00:00<00:00, 242.97it/s]\n",
      "100%|██████████| 53/53 [00:00<00:00, 254.64it/s]\n"
     ]
    },
    {
     "name": "stdout",
     "output_type": "stream",
     "text": [
      "Epoch:526/1000.. Train Loss: 0.021.. Val Loss: 0.205.. Test Loss: 0.139.. Time: 0.04m\n"
     ]
    },
    {
     "name": "stderr",
     "output_type": "stream",
     "text": [
      "100%|██████████| 107/107 [00:01<00:00, 60.57it/s]\n",
      "100%|██████████| 18/18 [00:00<00:00, 236.65it/s]\n",
      "100%|██████████| 53/53 [00:00<00:00, 256.66it/s]\n"
     ]
    },
    {
     "name": "stdout",
     "output_type": "stream",
     "text": [
      "Epoch:527/1000.. Train Loss: 0.021.. Val Loss: 0.185.. Test Loss: 0.136.. Time: 0.03m\n"
     ]
    },
    {
     "name": "stderr",
     "output_type": "stream",
     "text": [
      "100%|██████████| 107/107 [00:01<00:00, 55.76it/s]\n",
      "100%|██████████| 18/18 [00:00<00:00, 237.66it/s]\n",
      "100%|██████████| 53/53 [00:00<00:00, 243.07it/s]\n"
     ]
    },
    {
     "name": "stdout",
     "output_type": "stream",
     "text": [
      "Epoch:528/1000.. Train Loss: 0.022.. Val Loss: 0.188.. Test Loss: 0.129.. Time: 0.04m\n"
     ]
    },
    {
     "name": "stderr",
     "output_type": "stream",
     "text": [
      "100%|██████████| 107/107 [00:01<00:00, 54.87it/s]\n",
      "100%|██████████| 18/18 [00:00<00:00, 231.35it/s]\n",
      "100%|██████████| 53/53 [00:00<00:00, 239.05it/s]\n"
     ]
    },
    {
     "name": "stdout",
     "output_type": "stream",
     "text": [
      "Epoch:529/1000.. Train Loss: 0.023.. Val Loss: 0.193.. Test Loss: 0.136.. Time: 0.04m\n"
     ]
    },
    {
     "name": "stderr",
     "output_type": "stream",
     "text": [
      "100%|██████████| 107/107 [00:01<00:00, 57.61it/s]\n",
      "100%|██████████| 18/18 [00:00<00:00, 243.30it/s]\n",
      "100%|██████████| 53/53 [00:00<00:00, 222.95it/s]\n"
     ]
    },
    {
     "name": "stdout",
     "output_type": "stream",
     "text": [
      "Epoch:530/1000.. Train Loss: 0.021.. Val Loss: 0.216.. Test Loss: 0.135.. Time: 0.04m\n"
     ]
    },
    {
     "name": "stderr",
     "output_type": "stream",
     "text": [
      "100%|██████████| 107/107 [00:01<00:00, 59.91it/s]\n",
      "100%|██████████| 18/18 [00:00<00:00, 237.18it/s]\n",
      "100%|██████████| 53/53 [00:00<00:00, 236.45it/s]\n"
     ]
    },
    {
     "name": "stdout",
     "output_type": "stream",
     "text": [
      "Epoch:531/1000.. Train Loss: 0.017.. Val Loss: 0.211.. Test Loss: 0.131.. Time: 0.03m\n"
     ]
    },
    {
     "name": "stderr",
     "output_type": "stream",
     "text": [
      "100%|██████████| 107/107 [00:01<00:00, 59.09it/s]\n",
      "100%|██████████| 18/18 [00:00<00:00, 238.05it/s]\n",
      "100%|██████████| 53/53 [00:00<00:00, 243.50it/s]\n"
     ]
    },
    {
     "name": "stdout",
     "output_type": "stream",
     "text": [
      "Epoch:532/1000.. Train Loss: 0.021.. Val Loss: 0.256.. Test Loss: 0.189.. Time: 0.04m\n"
     ]
    },
    {
     "name": "stderr",
     "output_type": "stream",
     "text": [
      "100%|██████████| 107/107 [00:01<00:00, 55.93it/s]\n",
      "100%|██████████| 18/18 [00:00<00:00, 246.08it/s]\n",
      "100%|██████████| 53/53 [00:00<00:00, 240.27it/s]\n"
     ]
    },
    {
     "name": "stdout",
     "output_type": "stream",
     "text": [
      "Epoch:533/1000.. Train Loss: 0.022.. Val Loss: 0.210.. Test Loss: 0.136.. Time: 0.04m\n"
     ]
    },
    {
     "name": "stderr",
     "output_type": "stream",
     "text": [
      "100%|██████████| 107/107 [00:01<00:00, 58.08it/s]\n",
      "100%|██████████| 18/18 [00:00<00:00, 185.77it/s]\n",
      "100%|██████████| 53/53 [00:00<00:00, 232.78it/s]\n"
     ]
    },
    {
     "name": "stdout",
     "output_type": "stream",
     "text": [
      "Epoch:534/1000.. Train Loss: 0.022.. Val Loss: 0.208.. Test Loss: 0.133.. Time: 0.04m\n"
     ]
    },
    {
     "name": "stderr",
     "output_type": "stream",
     "text": [
      "100%|██████████| 107/107 [00:01<00:00, 56.73it/s]\n",
      "100%|██████████| 18/18 [00:00<00:00, 239.53it/s]\n",
      "100%|██████████| 53/53 [00:00<00:00, 234.53it/s]\n"
     ]
    },
    {
     "name": "stdout",
     "output_type": "stream",
     "text": [
      "Epoch:535/1000.. Train Loss: 0.023.. Val Loss: 0.212.. Test Loss: 0.143.. Time: 0.04m\n"
     ]
    },
    {
     "name": "stderr",
     "output_type": "stream",
     "text": [
      "100%|██████████| 107/107 [00:01<00:00, 57.82it/s]\n",
      "100%|██████████| 18/18 [00:00<00:00, 214.69it/s]\n",
      "100%|██████████| 53/53 [00:00<00:00, 215.95it/s]\n"
     ]
    },
    {
     "name": "stdout",
     "output_type": "stream",
     "text": [
      "Epoch:536/1000.. Train Loss: 0.024.. Val Loss: 0.193.. Test Loss: 0.143.. Time: 0.04m\n"
     ]
    },
    {
     "name": "stderr",
     "output_type": "stream",
     "text": [
      "100%|██████████| 107/107 [00:01<00:00, 57.35it/s]\n",
      "100%|██████████| 18/18 [00:00<00:00, 202.27it/s]\n",
      "100%|██████████| 53/53 [00:00<00:00, 254.39it/s]\n"
     ]
    },
    {
     "name": "stdout",
     "output_type": "stream",
     "text": [
      "Epoch:537/1000.. Train Loss: 0.026.. Val Loss: 0.168.. Test Loss: 0.123.. Time: 0.04m\n"
     ]
    },
    {
     "name": "stderr",
     "output_type": "stream",
     "text": [
      "100%|██████████| 107/107 [00:02<00:00, 52.48it/s]\n",
      "100%|██████████| 18/18 [00:00<00:00, 242.88it/s]\n",
      "100%|██████████| 53/53 [00:00<00:00, 246.05it/s]\n"
     ]
    },
    {
     "name": "stdout",
     "output_type": "stream",
     "text": [
      "Epoch:538/1000.. Train Loss: 0.023.. Val Loss: 0.180.. Test Loss: 0.141.. Time: 0.04m\n"
     ]
    },
    {
     "name": "stderr",
     "output_type": "stream",
     "text": [
      "100%|██████████| 107/107 [00:01<00:00, 53.72it/s]\n",
      "100%|██████████| 18/18 [00:00<00:00, 224.96it/s]\n",
      "100%|██████████| 53/53 [00:00<00:00, 242.57it/s]\n"
     ]
    },
    {
     "name": "stdout",
     "output_type": "stream",
     "text": [
      "Epoch:539/1000.. Train Loss: 0.022.. Val Loss: 0.212.. Test Loss: 0.142.. Time: 0.04m\n"
     ]
    },
    {
     "name": "stderr",
     "output_type": "stream",
     "text": [
      "100%|██████████| 107/107 [00:01<00:00, 58.45it/s]\n",
      "100%|██████████| 18/18 [00:00<00:00, 229.70it/s]\n",
      "100%|██████████| 53/53 [00:00<00:00, 246.35it/s]\n"
     ]
    },
    {
     "name": "stdout",
     "output_type": "stream",
     "text": [
      "Epoch:540/1000.. Train Loss: 0.021.. Val Loss: 0.221.. Test Loss: 0.138.. Time: 0.04m\n"
     ]
    },
    {
     "name": "stderr",
     "output_type": "stream",
     "text": [
      "100%|██████████| 107/107 [00:01<00:00, 58.70it/s]\n",
      "100%|██████████| 18/18 [00:00<00:00, 230.57it/s]\n",
      "100%|██████████| 53/53 [00:00<00:00, 230.56it/s]\n"
     ]
    },
    {
     "name": "stdout",
     "output_type": "stream",
     "text": [
      "Epoch:541/1000.. Train Loss: 0.020.. Val Loss: 0.214.. Test Loss: 0.144.. Time: 0.04m\n"
     ]
    },
    {
     "name": "stderr",
     "output_type": "stream",
     "text": [
      "100%|██████████| 107/107 [00:01<00:00, 56.43it/s]\n",
      "100%|██████████| 18/18 [00:00<00:00, 213.01it/s]\n",
      "100%|██████████| 53/53 [00:00<00:00, 230.50it/s]\n"
     ]
    },
    {
     "name": "stdout",
     "output_type": "stream",
     "text": [
      "Epoch:542/1000.. Train Loss: 0.020.. Val Loss: 0.215.. Test Loss: 0.134.. Time: 0.04m\n"
     ]
    },
    {
     "name": "stderr",
     "output_type": "stream",
     "text": [
      "100%|██████████| 107/107 [00:01<00:00, 57.55it/s]\n",
      "100%|██████████| 18/18 [00:00<00:00, 187.55it/s]\n",
      "100%|██████████| 53/53 [00:00<00:00, 221.95it/s]\n"
     ]
    },
    {
     "name": "stdout",
     "output_type": "stream",
     "text": [
      "Epoch:543/1000.. Train Loss: 0.029.. Val Loss: 0.196.. Test Loss: 0.124.. Time: 0.04m\n"
     ]
    },
    {
     "name": "stderr",
     "output_type": "stream",
     "text": [
      "100%|██████████| 107/107 [00:01<00:00, 54.48it/s]\n",
      "100%|██████████| 18/18 [00:00<00:00, 231.18it/s]\n",
      "100%|██████████| 53/53 [00:00<00:00, 222.86it/s]\n"
     ]
    },
    {
     "name": "stdout",
     "output_type": "stream",
     "text": [
      "Epoch:544/1000.. Train Loss: 0.027.. Val Loss: 0.240.. Test Loss: 0.145.. Time: 0.04m\n"
     ]
    },
    {
     "name": "stderr",
     "output_type": "stream",
     "text": [
      "100%|██████████| 107/107 [00:01<00:00, 59.81it/s]\n",
      "100%|██████████| 18/18 [00:00<00:00, 259.89it/s]\n",
      "100%|██████████| 53/53 [00:00<00:00, 250.53it/s]\n"
     ]
    },
    {
     "name": "stdout",
     "output_type": "stream",
     "text": [
      "Epoch:545/1000.. Train Loss: 0.023.. Val Loss: 0.218.. Test Loss: 0.129.. Time: 0.03m\n"
     ]
    },
    {
     "name": "stderr",
     "output_type": "stream",
     "text": [
      "100%|██████████| 107/107 [00:01<00:00, 57.17it/s]\n",
      "100%|██████████| 18/18 [00:00<00:00, 214.54it/s]\n",
      "100%|██████████| 53/53 [00:00<00:00, 253.40it/s]\n"
     ]
    },
    {
     "name": "stdout",
     "output_type": "stream",
     "text": [
      "Epoch:546/1000.. Train Loss: 0.025.. Val Loss: 0.199.. Test Loss: 0.130.. Time: 0.04m\n"
     ]
    },
    {
     "name": "stderr",
     "output_type": "stream",
     "text": [
      "100%|██████████| 107/107 [00:01<00:00, 57.26it/s]\n",
      "100%|██████████| 18/18 [00:00<00:00, 250.74it/s]\n",
      "100%|██████████| 53/53 [00:00<00:00, 244.08it/s]\n"
     ]
    },
    {
     "name": "stdout",
     "output_type": "stream",
     "text": [
      "Epoch:547/1000.. Train Loss: 0.019.. Val Loss: 0.205.. Test Loss: 0.137.. Time: 0.04m\n"
     ]
    },
    {
     "name": "stderr",
     "output_type": "stream",
     "text": [
      "100%|██████████| 107/107 [00:01<00:00, 56.36it/s]\n",
      "100%|██████████| 18/18 [00:00<00:00, 229.66it/s]\n",
      "100%|██████████| 53/53 [00:00<00:00, 236.07it/s]\n"
     ]
    },
    {
     "name": "stdout",
     "output_type": "stream",
     "text": [
      "Epoch:548/1000.. Train Loss: 0.023.. Val Loss: 0.216.. Test Loss: 0.133.. Time: 0.04m\n"
     ]
    },
    {
     "name": "stderr",
     "output_type": "stream",
     "text": [
      "100%|██████████| 107/107 [00:01<00:00, 58.97it/s]\n",
      "100%|██████████| 18/18 [00:00<00:00, 215.24it/s]\n",
      "100%|██████████| 53/53 [00:00<00:00, 243.09it/s]\n"
     ]
    },
    {
     "name": "stdout",
     "output_type": "stream",
     "text": [
      "Epoch:549/1000.. Train Loss: 0.022.. Val Loss: 0.190.. Test Loss: 0.129.. Time: 0.04m\n"
     ]
    },
    {
     "name": "stderr",
     "output_type": "stream",
     "text": [
      "100%|██████████| 107/107 [00:01<00:00, 60.55it/s]\n",
      "100%|██████████| 18/18 [00:00<00:00, 252.13it/s]\n",
      "100%|██████████| 53/53 [00:00<00:00, 242.95it/s]\n"
     ]
    },
    {
     "name": "stdout",
     "output_type": "stream",
     "text": [
      "Epoch:550/1000.. Train Loss: 0.025.. Val Loss: 0.168.. Test Loss: 0.135.. Time: 0.03m\n"
     ]
    },
    {
     "name": "stderr",
     "output_type": "stream",
     "text": [
      "100%|██████████| 107/107 [00:01<00:00, 58.66it/s]\n",
      "100%|██████████| 18/18 [00:00<00:00, 234.21it/s]\n",
      "100%|██████████| 53/53 [00:00<00:00, 190.65it/s]\n"
     ]
    },
    {
     "name": "stdout",
     "output_type": "stream",
     "text": [
      "Epoch:551/1000.. Train Loss: 0.023.. Val Loss: 0.213.. Test Loss: 0.135.. Time: 0.04m\n"
     ]
    },
    {
     "name": "stderr",
     "output_type": "stream",
     "text": [
      "100%|██████████| 107/107 [00:01<00:00, 54.78it/s]\n",
      "100%|██████████| 18/18 [00:00<00:00, 236.39it/s]\n",
      "100%|██████████| 53/53 [00:00<00:00, 240.48it/s]\n"
     ]
    },
    {
     "name": "stdout",
     "output_type": "stream",
     "text": [
      "Epoch:552/1000.. Train Loss: 0.019.. Val Loss: 0.221.. Test Loss: 0.140.. Time: 0.04m\n"
     ]
    },
    {
     "name": "stderr",
     "output_type": "stream",
     "text": [
      "100%|██████████| 107/107 [00:01<00:00, 58.23it/s]\n",
      "100%|██████████| 18/18 [00:00<00:00, 240.63it/s]\n",
      "100%|██████████| 53/53 [00:00<00:00, 242.71it/s]\n"
     ]
    },
    {
     "name": "stdout",
     "output_type": "stream",
     "text": [
      "Epoch:553/1000.. Train Loss: 0.025.. Val Loss: 0.224.. Test Loss: 0.140.. Time: 0.04m\n"
     ]
    },
    {
     "name": "stderr",
     "output_type": "stream",
     "text": [
      "100%|██████████| 107/107 [00:01<00:00, 59.92it/s]\n",
      "100%|██████████| 18/18 [00:00<00:00, 257.24it/s]\n",
      "100%|██████████| 53/53 [00:00<00:00, 239.20it/s]\n"
     ]
    },
    {
     "name": "stdout",
     "output_type": "stream",
     "text": [
      "Epoch:554/1000.. Train Loss: 0.024.. Val Loss: 0.174.. Test Loss: 0.141.. Time: 0.03m\n"
     ]
    },
    {
     "name": "stderr",
     "output_type": "stream",
     "text": [
      "100%|██████████| 107/107 [00:01<00:00, 61.55it/s]\n",
      "100%|██████████| 18/18 [00:00<00:00, 256.26it/s]\n",
      "100%|██████████| 53/53 [00:00<00:00, 246.71it/s]\n"
     ]
    },
    {
     "name": "stdout",
     "output_type": "stream",
     "text": [
      "Epoch:555/1000.. Train Loss: 0.021.. Val Loss: 0.182.. Test Loss: 0.138.. Time: 0.03m\n"
     ]
    },
    {
     "name": "stderr",
     "output_type": "stream",
     "text": [
      "100%|██████████| 107/107 [00:01<00:00, 61.04it/s]\n",
      "100%|██████████| 18/18 [00:00<00:00, 261.84it/s]\n",
      "100%|██████████| 53/53 [00:00<00:00, 250.51it/s]\n"
     ]
    },
    {
     "name": "stdout",
     "output_type": "stream",
     "text": [
      "Epoch:556/1000.. Train Loss: 0.018.. Val Loss: 0.221.. Test Loss: 0.140.. Time: 0.03m\n"
     ]
    },
    {
     "name": "stderr",
     "output_type": "stream",
     "text": [
      "100%|██████████| 107/107 [00:01<00:00, 58.95it/s]\n",
      "100%|██████████| 18/18 [00:00<00:00, 242.80it/s]\n",
      "100%|██████████| 53/53 [00:00<00:00, 238.75it/s]\n"
     ]
    },
    {
     "name": "stdout",
     "output_type": "stream",
     "text": [
      "Epoch:557/1000.. Train Loss: 0.025.. Val Loss: 0.193.. Test Loss: 0.143.. Time: 0.04m\n"
     ]
    },
    {
     "name": "stderr",
     "output_type": "stream",
     "text": [
      "100%|██████████| 107/107 [00:01<00:00, 57.52it/s]\n",
      "100%|██████████| 18/18 [00:00<00:00, 238.02it/s]\n",
      "100%|██████████| 53/53 [00:00<00:00, 247.06it/s]\n"
     ]
    },
    {
     "name": "stdout",
     "output_type": "stream",
     "text": [
      "Epoch:558/1000.. Train Loss: 0.021.. Val Loss: 0.186.. Test Loss: 0.140.. Time: 0.04m\n"
     ]
    },
    {
     "name": "stderr",
     "output_type": "stream",
     "text": [
      "100%|██████████| 107/107 [00:01<00:00, 56.16it/s]\n",
      "100%|██████████| 18/18 [00:00<00:00, 239.80it/s]\n",
      "100%|██████████| 53/53 [00:00<00:00, 234.29it/s]\n"
     ]
    },
    {
     "name": "stdout",
     "output_type": "stream",
     "text": [
      "Epoch:559/1000.. Train Loss: 0.023.. Val Loss: 0.216.. Test Loss: 0.138.. Time: 0.04m\n"
     ]
    },
    {
     "name": "stderr",
     "output_type": "stream",
     "text": [
      "100%|██████████| 107/107 [00:01<00:00, 61.10it/s]\n",
      "100%|██████████| 18/18 [00:00<00:00, 238.88it/s]\n",
      "100%|██████████| 53/53 [00:00<00:00, 227.12it/s]\n"
     ]
    },
    {
     "name": "stdout",
     "output_type": "stream",
     "text": [
      "Epoch:560/1000.. Train Loss: 0.024.. Val Loss: 0.205.. Test Loss: 0.132.. Time: 0.03m\n"
     ]
    },
    {
     "name": "stderr",
     "output_type": "stream",
     "text": [
      "100%|██████████| 107/107 [00:01<00:00, 56.58it/s]\n",
      "100%|██████████| 18/18 [00:00<00:00, 241.71it/s]\n",
      "100%|██████████| 53/53 [00:00<00:00, 241.35it/s]\n"
     ]
    },
    {
     "name": "stdout",
     "output_type": "stream",
     "text": [
      "Epoch:561/1000.. Train Loss: 0.022.. Val Loss: 0.183.. Test Loss: 0.139.. Time: 0.04m\n"
     ]
    },
    {
     "name": "stderr",
     "output_type": "stream",
     "text": [
      "100%|██████████| 107/107 [00:01<00:00, 57.55it/s]\n",
      "100%|██████████| 18/18 [00:00<00:00, 211.28it/s]\n",
      "100%|██████████| 53/53 [00:00<00:00, 244.27it/s]\n"
     ]
    },
    {
     "name": "stdout",
     "output_type": "stream",
     "text": [
      "Epoch:562/1000.. Train Loss: 0.023.. Val Loss: 0.184.. Test Loss: 0.137.. Time: 0.04m\n"
     ]
    },
    {
     "name": "stderr",
     "output_type": "stream",
     "text": [
      "100%|██████████| 107/107 [00:01<00:00, 60.88it/s]\n",
      "100%|██████████| 18/18 [00:00<00:00, 240.39it/s]\n",
      "100%|██████████| 53/53 [00:00<00:00, 246.56it/s]\n"
     ]
    },
    {
     "name": "stdout",
     "output_type": "stream",
     "text": [
      "Epoch:563/1000.. Train Loss: 0.025.. Val Loss: 0.188.. Test Loss: 0.142.. Time: 0.03m\n"
     ]
    },
    {
     "name": "stderr",
     "output_type": "stream",
     "text": [
      "100%|██████████| 107/107 [00:01<00:00, 60.40it/s]\n",
      "100%|██████████| 18/18 [00:00<00:00, 203.09it/s]\n",
      "100%|██████████| 53/53 [00:00<00:00, 239.84it/s]\n"
     ]
    },
    {
     "name": "stdout",
     "output_type": "stream",
     "text": [
      "Epoch:564/1000.. Train Loss: 0.024.. Val Loss: 0.180.. Test Loss: 0.139.. Time: 0.03m\n"
     ]
    },
    {
     "name": "stderr",
     "output_type": "stream",
     "text": [
      "100%|██████████| 107/107 [00:01<00:00, 58.56it/s]\n",
      "100%|██████████| 18/18 [00:00<00:00, 202.97it/s]\n",
      "100%|██████████| 53/53 [00:00<00:00, 247.05it/s]\n"
     ]
    },
    {
     "name": "stdout",
     "output_type": "stream",
     "text": [
      "Epoch:565/1000.. Train Loss: 0.020.. Val Loss: 0.218.. Test Loss: 0.140.. Time: 0.04m\n"
     ]
    },
    {
     "name": "stderr",
     "output_type": "stream",
     "text": [
      "100%|██████████| 107/107 [00:01<00:00, 55.21it/s]\n",
      "100%|██████████| 18/18 [00:00<00:00, 241.51it/s]\n",
      "100%|██████████| 53/53 [00:00<00:00, 240.78it/s]\n"
     ]
    },
    {
     "name": "stdout",
     "output_type": "stream",
     "text": [
      "Epoch:566/1000.. Train Loss: 0.024.. Val Loss: 0.209.. Test Loss: 0.142.. Time: 0.04m\n"
     ]
    },
    {
     "name": "stderr",
     "output_type": "stream",
     "text": [
      "100%|██████████| 107/107 [00:01<00:00, 55.06it/s]\n",
      "100%|██████████| 18/18 [00:00<00:00, 217.18it/s]\n",
      "100%|██████████| 53/53 [00:00<00:00, 233.94it/s]\n"
     ]
    },
    {
     "name": "stdout",
     "output_type": "stream",
     "text": [
      "Epoch:567/1000.. Train Loss: 0.028.. Val Loss: 0.182.. Test Loss: 0.130.. Time: 0.04m\n"
     ]
    },
    {
     "name": "stderr",
     "output_type": "stream",
     "text": [
      "100%|██████████| 107/107 [00:01<00:00, 55.38it/s]\n",
      "100%|██████████| 18/18 [00:00<00:00, 247.21it/s]\n",
      "100%|██████████| 53/53 [00:00<00:00, 244.82it/s]\n"
     ]
    },
    {
     "name": "stdout",
     "output_type": "stream",
     "text": [
      "Epoch:568/1000.. Train Loss: 0.019.. Val Loss: 0.242.. Test Loss: 0.145.. Time: 0.04m\n"
     ]
    },
    {
     "name": "stderr",
     "output_type": "stream",
     "text": [
      "100%|██████████| 107/107 [00:01<00:00, 54.25it/s]\n",
      "100%|██████████| 18/18 [00:00<00:00, 249.14it/s]\n",
      "100%|██████████| 53/53 [00:00<00:00, 235.75it/s]\n"
     ]
    },
    {
     "name": "stdout",
     "output_type": "stream",
     "text": [
      "Epoch:569/1000.. Train Loss: 0.019.. Val Loss: 0.199.. Test Loss: 0.135.. Time: 0.04m\n"
     ]
    },
    {
     "name": "stderr",
     "output_type": "stream",
     "text": [
      "100%|██████████| 107/107 [00:01<00:00, 57.97it/s]\n",
      "100%|██████████| 18/18 [00:00<00:00, 219.19it/s]\n",
      "100%|██████████| 53/53 [00:00<00:00, 250.56it/s]\n"
     ]
    },
    {
     "name": "stdout",
     "output_type": "stream",
     "text": [
      "Epoch:570/1000.. Train Loss: 0.021.. Val Loss: 0.229.. Test Loss: 0.144.. Time: 0.04m\n"
     ]
    },
    {
     "name": "stderr",
     "output_type": "stream",
     "text": [
      "100%|██████████| 107/107 [00:01<00:00, 55.46it/s]\n",
      "100%|██████████| 18/18 [00:00<00:00, 254.49it/s]\n",
      "100%|██████████| 53/53 [00:00<00:00, 239.50it/s]\n"
     ]
    },
    {
     "name": "stdout",
     "output_type": "stream",
     "text": [
      "Epoch:571/1000.. Train Loss: 0.020.. Val Loss: 0.223.. Test Loss: 0.144.. Time: 0.04m\n"
     ]
    },
    {
     "name": "stderr",
     "output_type": "stream",
     "text": [
      "100%|██████████| 107/107 [00:01<00:00, 57.65it/s]\n",
      "100%|██████████| 18/18 [00:00<00:00, 204.37it/s]\n",
      "100%|██████████| 53/53 [00:00<00:00, 215.93it/s]\n"
     ]
    },
    {
     "name": "stdout",
     "output_type": "stream",
     "text": [
      "Epoch:572/1000.. Train Loss: 0.023.. Val Loss: 0.202.. Test Loss: 0.134.. Time: 0.04m\n"
     ]
    },
    {
     "name": "stderr",
     "output_type": "stream",
     "text": [
      "100%|██████████| 107/107 [00:01<00:00, 59.82it/s]\n",
      "100%|██████████| 18/18 [00:00<00:00, 229.85it/s]\n",
      "100%|██████████| 53/53 [00:00<00:00, 226.43it/s]\n"
     ]
    },
    {
     "name": "stdout",
     "output_type": "stream",
     "text": [
      "Epoch:573/1000.. Train Loss: 0.024.. Val Loss: 0.198.. Test Loss: 0.148.. Time: 0.04m\n"
     ]
    },
    {
     "name": "stderr",
     "output_type": "stream",
     "text": [
      "100%|██████████| 107/107 [00:01<00:00, 58.69it/s]\n",
      "100%|██████████| 18/18 [00:00<00:00, 221.59it/s]\n",
      "100%|██████████| 53/53 [00:00<00:00, 227.43it/s]\n"
     ]
    },
    {
     "name": "stdout",
     "output_type": "stream",
     "text": [
      "Epoch:574/1000.. Train Loss: 0.024.. Val Loss: 0.203.. Test Loss: 0.149.. Time: 0.04m\n"
     ]
    },
    {
     "name": "stderr",
     "output_type": "stream",
     "text": [
      "100%|██████████| 107/107 [00:01<00:00, 57.03it/s]\n",
      "100%|██████████| 18/18 [00:00<00:00, 214.83it/s]\n",
      "100%|██████████| 53/53 [00:00<00:00, 230.16it/s]\n"
     ]
    },
    {
     "name": "stdout",
     "output_type": "stream",
     "text": [
      "Epoch:575/1000.. Train Loss: 0.028.. Val Loss: 0.192.. Test Loss: 0.143.. Time: 0.04m\n"
     ]
    },
    {
     "name": "stderr",
     "output_type": "stream",
     "text": [
      "100%|██████████| 107/107 [00:01<00:00, 55.62it/s]\n",
      "100%|██████████| 18/18 [00:00<00:00, 252.83it/s]\n",
      "100%|██████████| 53/53 [00:00<00:00, 240.82it/s]\n"
     ]
    },
    {
     "name": "stdout",
     "output_type": "stream",
     "text": [
      "Epoch:576/1000.. Train Loss: 0.023.. Val Loss: 0.204.. Test Loss: 0.134.. Time: 0.04m\n"
     ]
    },
    {
     "name": "stderr",
     "output_type": "stream",
     "text": [
      "100%|██████████| 107/107 [00:01<00:00, 58.57it/s]\n",
      "100%|██████████| 18/18 [00:00<00:00, 251.63it/s]\n",
      "100%|██████████| 53/53 [00:00<00:00, 243.23it/s]\n"
     ]
    },
    {
     "name": "stdout",
     "output_type": "stream",
     "text": [
      "Epoch:577/1000.. Train Loss: 0.027.. Val Loss: 0.188.. Test Loss: 0.142.. Time: 0.04m\n"
     ]
    },
    {
     "name": "stderr",
     "output_type": "stream",
     "text": [
      "100%|██████████| 107/107 [00:01<00:00, 62.04it/s]\n",
      "100%|██████████| 18/18 [00:00<00:00, 249.18it/s]\n",
      "100%|██████████| 53/53 [00:00<00:00, 242.06it/s]\n"
     ]
    },
    {
     "name": "stdout",
     "output_type": "stream",
     "text": [
      "Epoch:578/1000.. Train Loss: 0.022.. Val Loss: 0.231.. Test Loss: 0.136.. Time: 0.03m\n"
     ]
    },
    {
     "name": "stderr",
     "output_type": "stream",
     "text": [
      "100%|██████████| 107/107 [00:01<00:00, 54.98it/s]\n",
      "100%|██████████| 18/18 [00:00<00:00, 231.23it/s]\n",
      "100%|██████████| 53/53 [00:00<00:00, 247.26it/s]\n"
     ]
    },
    {
     "name": "stdout",
     "output_type": "stream",
     "text": [
      "Epoch:579/1000.. Train Loss: 0.020.. Val Loss: 0.169.. Test Loss: 0.144.. Time: 0.04m\n"
     ]
    },
    {
     "name": "stderr",
     "output_type": "stream",
     "text": [
      "100%|██████████| 107/107 [00:01<00:00, 58.70it/s]\n",
      "100%|██████████| 18/18 [00:00<00:00, 247.48it/s]\n",
      "100%|██████████| 53/53 [00:00<00:00, 245.27it/s]\n"
     ]
    },
    {
     "name": "stdout",
     "output_type": "stream",
     "text": [
      "Epoch:580/1000.. Train Loss: 0.019.. Val Loss: 0.185.. Test Loss: 0.142.. Time: 0.04m\n"
     ]
    },
    {
     "name": "stderr",
     "output_type": "stream",
     "text": [
      "100%|██████████| 107/107 [00:01<00:00, 57.20it/s]\n",
      "100%|██████████| 18/18 [00:00<00:00, 211.88it/s]\n",
      "100%|██████████| 53/53 [00:00<00:00, 238.42it/s]\n"
     ]
    },
    {
     "name": "stdout",
     "output_type": "stream",
     "text": [
      "Epoch:581/1000.. Train Loss: 0.021.. Val Loss: 0.179.. Test Loss: 0.135.. Time: 0.04m\n"
     ]
    },
    {
     "name": "stderr",
     "output_type": "stream",
     "text": [
      "100%|██████████| 107/107 [00:01<00:00, 67.04it/s]\n",
      "100%|██████████| 18/18 [00:00<00:00, 244.79it/s]\n",
      "100%|██████████| 53/53 [00:00<00:00, 252.89it/s]\n"
     ]
    },
    {
     "name": "stdout",
     "output_type": "stream",
     "text": [
      "Epoch:582/1000.. Train Loss: 0.018.. Val Loss: 0.182.. Test Loss: 0.139.. Time: 0.03m\n"
     ]
    },
    {
     "name": "stderr",
     "output_type": "stream",
     "text": [
      "100%|██████████| 107/107 [00:01<00:00, 68.32it/s]\n",
      "100%|██████████| 18/18 [00:00<00:00, 260.38it/s]\n",
      "100%|██████████| 53/53 [00:00<00:00, 251.48it/s]\n"
     ]
    },
    {
     "name": "stdout",
     "output_type": "stream",
     "text": [
      "Epoch:583/1000.. Train Loss: 0.023.. Val Loss: 0.183.. Test Loss: 0.140.. Time: 0.03m\n"
     ]
    },
    {
     "name": "stderr",
     "output_type": "stream",
     "text": [
      "100%|██████████| 107/107 [00:01<00:00, 67.80it/s]\n",
      "100%|██████████| 18/18 [00:00<00:00, 254.26it/s]\n",
      "100%|██████████| 53/53 [00:00<00:00, 251.96it/s]\n"
     ]
    },
    {
     "name": "stdout",
     "output_type": "stream",
     "text": [
      "Epoch:584/1000.. Train Loss: 0.025.. Val Loss: 0.201.. Test Loss: 0.145.. Time: 0.03m\n"
     ]
    },
    {
     "name": "stderr",
     "output_type": "stream",
     "text": [
      "100%|██████████| 107/107 [00:01<00:00, 68.13it/s]\n",
      "100%|██████████| 18/18 [00:00<00:00, 257.77it/s]\n",
      "100%|██████████| 53/53 [00:00<00:00, 252.16it/s]\n"
     ]
    },
    {
     "name": "stdout",
     "output_type": "stream",
     "text": [
      "Epoch:585/1000.. Train Loss: 0.023.. Val Loss: 0.179.. Test Loss: 0.137.. Time: 0.03m\n"
     ]
    },
    {
     "name": "stderr",
     "output_type": "stream",
     "text": [
      "100%|██████████| 107/107 [00:01<00:00, 68.40it/s]\n",
      "100%|██████████| 18/18 [00:00<00:00, 249.23it/s]\n",
      "100%|██████████| 53/53 [00:00<00:00, 253.50it/s]\n"
     ]
    },
    {
     "name": "stdout",
     "output_type": "stream",
     "text": [
      "Epoch:586/1000.. Train Loss: 0.024.. Val Loss: 0.177.. Test Loss: 0.131.. Time: 0.03m\n"
     ]
    },
    {
     "name": "stderr",
     "output_type": "stream",
     "text": [
      "100%|██████████| 107/107 [00:01<00:00, 63.53it/s]\n",
      "100%|██████████| 18/18 [00:00<00:00, 216.25it/s]\n",
      "100%|██████████| 53/53 [00:00<00:00, 243.57it/s]\n"
     ]
    },
    {
     "name": "stdout",
     "output_type": "stream",
     "text": [
      "Epoch:587/1000.. Train Loss: 0.024.. Val Loss: 0.182.. Test Loss: 0.134.. Time: 0.03m\n"
     ]
    },
    {
     "name": "stderr",
     "output_type": "stream",
     "text": [
      "100%|██████████| 107/107 [00:01<00:00, 58.89it/s]\n",
      "100%|██████████| 18/18 [00:00<00:00, 203.98it/s]\n",
      "100%|██████████| 53/53 [00:00<00:00, 245.43it/s]\n"
     ]
    },
    {
     "name": "stdout",
     "output_type": "stream",
     "text": [
      "Epoch:588/1000.. Train Loss: 0.018.. Val Loss: 0.200.. Test Loss: 0.137.. Time: 0.04m\n"
     ]
    },
    {
     "name": "stderr",
     "output_type": "stream",
     "text": [
      "100%|██████████| 107/107 [00:01<00:00, 57.79it/s]\n",
      "100%|██████████| 18/18 [00:00<00:00, 242.34it/s]\n",
      "100%|██████████| 53/53 [00:00<00:00, 206.19it/s]\n"
     ]
    },
    {
     "name": "stdout",
     "output_type": "stream",
     "text": [
      "Epoch:589/1000.. Train Loss: 0.022.. Val Loss: 0.194.. Test Loss: 0.143.. Time: 0.04m\n"
     ]
    },
    {
     "name": "stderr",
     "output_type": "stream",
     "text": [
      "100%|██████████| 107/107 [00:01<00:00, 55.62it/s]\n",
      "100%|██████████| 18/18 [00:00<00:00, 216.72it/s]\n",
      "100%|██████████| 53/53 [00:00<00:00, 224.04it/s]\n"
     ]
    },
    {
     "name": "stdout",
     "output_type": "stream",
     "text": [
      "Epoch:590/1000.. Train Loss: 0.019.. Val Loss: 0.202.. Test Loss: 0.143.. Time: 0.04m\n"
     ]
    },
    {
     "name": "stderr",
     "output_type": "stream",
     "text": [
      "100%|██████████| 107/107 [00:01<00:00, 55.16it/s]\n",
      "100%|██████████| 18/18 [00:00<00:00, 260.26it/s]\n",
      "100%|██████████| 53/53 [00:00<00:00, 251.20it/s]\n"
     ]
    },
    {
     "name": "stdout",
     "output_type": "stream",
     "text": [
      "Epoch:591/1000.. Train Loss: 0.019.. Val Loss: 0.212.. Test Loss: 0.142.. Time: 0.04m\n"
     ]
    },
    {
     "name": "stderr",
     "output_type": "stream",
     "text": [
      "100%|██████████| 107/107 [00:01<00:00, 60.10it/s]\n",
      "100%|██████████| 18/18 [00:00<00:00, 260.50it/s]\n",
      "100%|██████████| 53/53 [00:00<00:00, 244.54it/s]\n"
     ]
    },
    {
     "name": "stdout",
     "output_type": "stream",
     "text": [
      "Epoch:592/1000.. Train Loss: 0.022.. Val Loss: 0.228.. Test Loss: 0.146.. Time: 0.03m\n"
     ]
    },
    {
     "name": "stderr",
     "output_type": "stream",
     "text": [
      "100%|██████████| 107/107 [00:01<00:00, 64.04it/s]\n",
      "100%|██████████| 18/18 [00:00<00:00, 246.06it/s]\n",
      "100%|██████████| 53/53 [00:00<00:00, 251.00it/s]\n"
     ]
    },
    {
     "name": "stdout",
     "output_type": "stream",
     "text": [
      "Epoch:593/1000.. Train Loss: 0.018.. Val Loss: 0.220.. Test Loss: 0.143.. Time: 0.03m\n"
     ]
    },
    {
     "name": "stderr",
     "output_type": "stream",
     "text": [
      "100%|██████████| 107/107 [00:01<00:00, 67.84it/s]\n",
      "100%|██████████| 18/18 [00:00<00:00, 193.19it/s]\n",
      "100%|██████████| 53/53 [00:00<00:00, 197.55it/s]\n"
     ]
    },
    {
     "name": "stdout",
     "output_type": "stream",
     "text": [
      "Epoch:594/1000.. Train Loss: 0.018.. Val Loss: 0.224.. Test Loss: 0.140.. Time: 0.03m\n"
     ]
    },
    {
     "name": "stderr",
     "output_type": "stream",
     "text": [
      "100%|██████████| 107/107 [00:01<00:00, 56.18it/s]\n",
      "100%|██████████| 18/18 [00:00<00:00, 251.66it/s]\n",
      "100%|██████████| 53/53 [00:00<00:00, 247.15it/s]\n"
     ]
    },
    {
     "name": "stdout",
     "output_type": "stream",
     "text": [
      "Epoch:595/1000.. Train Loss: 0.017.. Val Loss: 0.227.. Test Loss: 0.150.. Time: 0.04m\n"
     ]
    },
    {
     "name": "stderr",
     "output_type": "stream",
     "text": [
      "100%|██████████| 107/107 [00:01<00:00, 56.81it/s]\n",
      "100%|██████████| 18/18 [00:00<00:00, 241.98it/s]\n",
      "100%|██████████| 53/53 [00:00<00:00, 249.23it/s]\n"
     ]
    },
    {
     "name": "stdout",
     "output_type": "stream",
     "text": [
      "Epoch:596/1000.. Train Loss: 0.019.. Val Loss: 0.210.. Test Loss: 0.142.. Time: 0.04m\n"
     ]
    },
    {
     "name": "stderr",
     "output_type": "stream",
     "text": [
      "100%|██████████| 107/107 [00:01<00:00, 54.83it/s]\n",
      "100%|██████████| 18/18 [00:00<00:00, 250.16it/s]\n",
      "100%|██████████| 53/53 [00:00<00:00, 248.90it/s]\n"
     ]
    },
    {
     "name": "stdout",
     "output_type": "stream",
     "text": [
      "Epoch:597/1000.. Train Loss: 0.018.. Val Loss: 0.194.. Test Loss: 0.136.. Time: 0.04m\n"
     ]
    },
    {
     "name": "stderr",
     "output_type": "stream",
     "text": [
      "100%|██████████| 107/107 [00:02<00:00, 51.26it/s]\n",
      "100%|██████████| 18/18 [00:00<00:00, 256.71it/s]\n",
      "100%|██████████| 53/53 [00:00<00:00, 251.87it/s]\n"
     ]
    },
    {
     "name": "stdout",
     "output_type": "stream",
     "text": [
      "Epoch:598/1000.. Train Loss: 0.022.. Val Loss: 0.221.. Test Loss: 0.133.. Time: 0.04m\n"
     ]
    },
    {
     "name": "stderr",
     "output_type": "stream",
     "text": [
      "100%|██████████| 107/107 [00:01<00:00, 53.51it/s]\n",
      "100%|██████████| 18/18 [00:00<00:00, 240.03it/s]\n",
      "100%|██████████| 53/53 [00:00<00:00, 243.22it/s]\n"
     ]
    },
    {
     "name": "stdout",
     "output_type": "stream",
     "text": [
      "Epoch:599/1000.. Train Loss: 0.017.. Val Loss: 0.271.. Test Loss: 0.147.. Time: 0.04m\n"
     ]
    },
    {
     "name": "stderr",
     "output_type": "stream",
     "text": [
      "100%|██████████| 107/107 [00:01<00:00, 56.95it/s]\n",
      "100%|██████████| 18/18 [00:00<00:00, 240.44it/s]\n",
      "100%|██████████| 53/53 [00:00<00:00, 247.54it/s]\n"
     ]
    },
    {
     "name": "stdout",
     "output_type": "stream",
     "text": [
      "Epoch:600/1000.. Train Loss: 0.019.. Val Loss: 0.231.. Test Loss: 0.132.. Time: 0.04m\n"
     ]
    },
    {
     "name": "stderr",
     "output_type": "stream",
     "text": [
      "100%|██████████| 107/107 [00:01<00:00, 59.44it/s]\n",
      "100%|██████████| 18/18 [00:00<00:00, 235.54it/s]\n",
      "100%|██████████| 53/53 [00:00<00:00, 249.14it/s]\n"
     ]
    },
    {
     "name": "stdout",
     "output_type": "stream",
     "text": [
      "Epoch:601/1000.. Train Loss: 0.022.. Val Loss: 0.236.. Test Loss: 0.137.. Time: 0.03m\n"
     ]
    },
    {
     "name": "stderr",
     "output_type": "stream",
     "text": [
      "100%|██████████| 107/107 [00:01<00:00, 60.71it/s]\n",
      "100%|██████████| 18/18 [00:00<00:00, 248.14it/s]\n",
      "100%|██████████| 53/53 [00:00<00:00, 244.55it/s]\n"
     ]
    },
    {
     "name": "stdout",
     "output_type": "stream",
     "text": [
      "Epoch:602/1000.. Train Loss: 0.018.. Val Loss: 0.232.. Test Loss: 0.143.. Time: 0.03m\n"
     ]
    },
    {
     "name": "stderr",
     "output_type": "stream",
     "text": [
      "100%|██████████| 107/107 [00:01<00:00, 61.37it/s]\n",
      "100%|██████████| 18/18 [00:00<00:00, 253.15it/s]\n",
      "100%|██████████| 53/53 [00:00<00:00, 247.10it/s]\n"
     ]
    },
    {
     "name": "stdout",
     "output_type": "stream",
     "text": [
      "Epoch:603/1000.. Train Loss: 0.019.. Val Loss: 0.236.. Test Loss: 0.141.. Time: 0.03m\n"
     ]
    },
    {
     "name": "stderr",
     "output_type": "stream",
     "text": [
      "100%|██████████| 107/107 [00:01<00:00, 57.41it/s]\n",
      "100%|██████████| 18/18 [00:00<00:00, 246.95it/s]\n",
      "100%|██████████| 53/53 [00:00<00:00, 223.61it/s]\n"
     ]
    },
    {
     "name": "stdout",
     "output_type": "stream",
     "text": [
      "Epoch:604/1000.. Train Loss: 0.021.. Val Loss: 0.224.. Test Loss: 0.146.. Time: 0.04m\n"
     ]
    },
    {
     "name": "stderr",
     "output_type": "stream",
     "text": [
      "100%|██████████| 107/107 [00:01<00:00, 56.40it/s]\n",
      "100%|██████████| 18/18 [00:00<00:00, 223.29it/s]\n",
      "100%|██████████| 53/53 [00:00<00:00, 238.46it/s]\n"
     ]
    },
    {
     "name": "stdout",
     "output_type": "stream",
     "text": [
      "Epoch:605/1000.. Train Loss: 0.016.. Val Loss: 0.222.. Test Loss: 0.138.. Time: 0.04m\n"
     ]
    },
    {
     "name": "stderr",
     "output_type": "stream",
     "text": [
      "100%|██████████| 107/107 [00:02<00:00, 53.39it/s]\n",
      "100%|██████████| 18/18 [00:00<00:00, 234.48it/s]\n",
      "100%|██████████| 53/53 [00:00<00:00, 243.37it/s]\n"
     ]
    },
    {
     "name": "stdout",
     "output_type": "stream",
     "text": [
      "Epoch:606/1000.. Train Loss: 0.027.. Val Loss: 0.249.. Test Loss: 0.143.. Time: 0.04m\n"
     ]
    },
    {
     "name": "stderr",
     "output_type": "stream",
     "text": [
      "100%|██████████| 107/107 [00:01<00:00, 57.03it/s]\n",
      "100%|██████████| 18/18 [00:00<00:00, 248.70it/s]\n",
      "100%|██████████| 53/53 [00:00<00:00, 232.61it/s]\n"
     ]
    },
    {
     "name": "stdout",
     "output_type": "stream",
     "text": [
      "Epoch:607/1000.. Train Loss: 0.020.. Val Loss: 0.223.. Test Loss: 0.135.. Time: 0.04m\n"
     ]
    },
    {
     "name": "stderr",
     "output_type": "stream",
     "text": [
      "100%|██████████| 107/107 [00:01<00:00, 58.11it/s]\n",
      "100%|██████████| 18/18 [00:00<00:00, 239.03it/s]\n",
      "100%|██████████| 53/53 [00:00<00:00, 220.87it/s]\n"
     ]
    },
    {
     "name": "stdout",
     "output_type": "stream",
     "text": [
      "Epoch:608/1000.. Train Loss: 0.022.. Val Loss: 0.227.. Test Loss: 0.136.. Time: 0.04m\n"
     ]
    },
    {
     "name": "stderr",
     "output_type": "stream",
     "text": [
      "100%|██████████| 107/107 [00:01<00:00, 57.26it/s]\n",
      "100%|██████████| 18/18 [00:00<00:00, 239.66it/s]\n",
      "100%|██████████| 53/53 [00:00<00:00, 252.01it/s]\n"
     ]
    },
    {
     "name": "stdout",
     "output_type": "stream",
     "text": [
      "Epoch:609/1000.. Train Loss: 0.020.. Val Loss: 0.238.. Test Loss: 0.150.. Time: 0.04m\n"
     ]
    },
    {
     "name": "stderr",
     "output_type": "stream",
     "text": [
      "100%|██████████| 107/107 [00:01<00:00, 56.30it/s]\n",
      "100%|██████████| 18/18 [00:00<00:00, 239.80it/s]\n",
      "100%|██████████| 53/53 [00:00<00:00, 234.47it/s]\n"
     ]
    },
    {
     "name": "stdout",
     "output_type": "stream",
     "text": [
      "Epoch:610/1000.. Train Loss: 0.023.. Val Loss: 0.217.. Test Loss: 0.133.. Time: 0.04m\n"
     ]
    },
    {
     "name": "stderr",
     "output_type": "stream",
     "text": [
      "100%|██████████| 107/107 [00:01<00:00, 57.35it/s]\n",
      "100%|██████████| 18/18 [00:00<00:00, 243.53it/s]\n",
      "100%|██████████| 53/53 [00:00<00:00, 250.80it/s]\n"
     ]
    },
    {
     "name": "stdout",
     "output_type": "stream",
     "text": [
      "Epoch:611/1000.. Train Loss: 0.021.. Val Loss: 0.238.. Test Loss: 0.143.. Time: 0.04m\n"
     ]
    },
    {
     "name": "stderr",
     "output_type": "stream",
     "text": [
      "100%|██████████| 107/107 [00:01<00:00, 56.33it/s]\n",
      "100%|██████████| 18/18 [00:00<00:00, 197.64it/s]\n",
      "100%|██████████| 53/53 [00:00<00:00, 231.72it/s]\n"
     ]
    },
    {
     "name": "stdout",
     "output_type": "stream",
     "text": [
      "Epoch:612/1000.. Train Loss: 0.018.. Val Loss: 0.220.. Test Loss: 0.141.. Time: 0.04m\n"
     ]
    },
    {
     "name": "stderr",
     "output_type": "stream",
     "text": [
      "100%|██████████| 107/107 [00:01<00:00, 59.26it/s]\n",
      "100%|██████████| 18/18 [00:00<00:00, 234.61it/s]\n",
      "100%|██████████| 53/53 [00:00<00:00, 249.31it/s]\n"
     ]
    },
    {
     "name": "stdout",
     "output_type": "stream",
     "text": [
      "Epoch:613/1000.. Train Loss: 0.022.. Val Loss: 0.183.. Test Loss: 0.133.. Time: 0.04m\n"
     ]
    },
    {
     "name": "stderr",
     "output_type": "stream",
     "text": [
      "100%|██████████| 107/107 [00:01<00:00, 56.94it/s]\n",
      "100%|██████████| 18/18 [00:00<00:00, 260.49it/s]\n",
      "100%|██████████| 53/53 [00:00<00:00, 253.91it/s]\n"
     ]
    },
    {
     "name": "stdout",
     "output_type": "stream",
     "text": [
      "Epoch:614/1000.. Train Loss: 0.021.. Val Loss: 0.246.. Test Loss: 0.147.. Time: 0.04m\n"
     ]
    },
    {
     "name": "stderr",
     "output_type": "stream",
     "text": [
      "100%|██████████| 107/107 [00:01<00:00, 56.92it/s]\n",
      "100%|██████████| 18/18 [00:00<00:00, 262.85it/s]\n",
      "100%|██████████| 53/53 [00:00<00:00, 246.37it/s]\n"
     ]
    },
    {
     "name": "stdout",
     "output_type": "stream",
     "text": [
      "Epoch:615/1000.. Train Loss: 0.021.. Val Loss: 0.207.. Test Loss: 0.133.. Time: 0.04m\n"
     ]
    },
    {
     "name": "stderr",
     "output_type": "stream",
     "text": [
      "100%|██████████| 107/107 [00:01<00:00, 57.86it/s]\n",
      "100%|██████████| 18/18 [00:00<00:00, 263.42it/s]\n",
      "100%|██████████| 53/53 [00:00<00:00, 246.72it/s]\n"
     ]
    },
    {
     "name": "stdout",
     "output_type": "stream",
     "text": [
      "Epoch:616/1000.. Train Loss: 0.021.. Val Loss: 0.227.. Test Loss: 0.150.. Time: 0.04m\n"
     ]
    },
    {
     "name": "stderr",
     "output_type": "stream",
     "text": [
      "100%|██████████| 107/107 [00:01<00:00, 58.23it/s]\n",
      "100%|██████████| 18/18 [00:00<00:00, 226.80it/s]\n",
      "100%|██████████| 53/53 [00:00<00:00, 226.86it/s]\n"
     ]
    },
    {
     "name": "stdout",
     "output_type": "stream",
     "text": [
      "Epoch:617/1000.. Train Loss: 0.018.. Val Loss: 0.218.. Test Loss: 0.138.. Time: 0.04m\n"
     ]
    },
    {
     "name": "stderr",
     "output_type": "stream",
     "text": [
      "100%|██████████| 107/107 [00:01<00:00, 61.00it/s]\n",
      "100%|██████████| 18/18 [00:00<00:00, 253.19it/s]\n",
      "100%|██████████| 53/53 [00:00<00:00, 240.82it/s]\n"
     ]
    },
    {
     "name": "stdout",
     "output_type": "stream",
     "text": [
      "Epoch:618/1000.. Train Loss: 0.018.. Val Loss: 0.218.. Test Loss: 0.137.. Time: 0.03m\n"
     ]
    },
    {
     "name": "stderr",
     "output_type": "stream",
     "text": [
      "100%|██████████| 107/107 [00:01<00:00, 60.64it/s]\n",
      "100%|██████████| 18/18 [00:00<00:00, 243.20it/s]\n",
      "100%|██████████| 53/53 [00:00<00:00, 248.02it/s]\n"
     ]
    },
    {
     "name": "stdout",
     "output_type": "stream",
     "text": [
      "Epoch:619/1000.. Train Loss: 0.020.. Val Loss: 0.205.. Test Loss: 0.138.. Time: 0.03m\n"
     ]
    },
    {
     "name": "stderr",
     "output_type": "stream",
     "text": [
      "100%|██████████| 107/107 [00:01<00:00, 56.29it/s]\n",
      "100%|██████████| 18/18 [00:00<00:00, 190.41it/s]\n",
      "100%|██████████| 53/53 [00:00<00:00, 240.99it/s]\n"
     ]
    },
    {
     "name": "stdout",
     "output_type": "stream",
     "text": [
      "Epoch:620/1000.. Train Loss: 0.025.. Val Loss: 0.223.. Test Loss: 0.145.. Time: 0.04m\n"
     ]
    },
    {
     "name": "stderr",
     "output_type": "stream",
     "text": [
      "100%|██████████| 107/107 [00:01<00:00, 53.67it/s]\n",
      "100%|██████████| 18/18 [00:00<00:00, 252.99it/s]\n",
      "100%|██████████| 53/53 [00:00<00:00, 246.09it/s]\n"
     ]
    },
    {
     "name": "stdout",
     "output_type": "stream",
     "text": [
      "Epoch:621/1000.. Train Loss: 0.018.. Val Loss: 0.218.. Test Loss: 0.142.. Time: 0.04m\n"
     ]
    },
    {
     "name": "stderr",
     "output_type": "stream",
     "text": [
      "100%|██████████| 107/107 [00:01<00:00, 56.85it/s]\n",
      "100%|██████████| 18/18 [00:00<00:00, 247.98it/s]\n",
      "100%|██████████| 53/53 [00:00<00:00, 250.05it/s]\n"
     ]
    },
    {
     "name": "stdout",
     "output_type": "stream",
     "text": [
      "Epoch:622/1000.. Train Loss: 0.021.. Val Loss: 0.240.. Test Loss: 0.143.. Time: 0.04m\n"
     ]
    },
    {
     "name": "stderr",
     "output_type": "stream",
     "text": [
      "100%|██████████| 107/107 [00:01<00:00, 56.38it/s]\n",
      "100%|██████████| 18/18 [00:00<00:00, 235.11it/s]\n",
      "100%|██████████| 53/53 [00:00<00:00, 234.62it/s]\n"
     ]
    },
    {
     "name": "stdout",
     "output_type": "stream",
     "text": [
      "Epoch:623/1000.. Train Loss: 0.019.. Val Loss: 0.231.. Test Loss: 0.141.. Time: 0.04m\n"
     ]
    },
    {
     "name": "stderr",
     "output_type": "stream",
     "text": [
      "100%|██████████| 107/107 [00:01<00:00, 54.96it/s]\n",
      "100%|██████████| 18/18 [00:00<00:00, 229.27it/s]\n",
      "100%|██████████| 53/53 [00:00<00:00, 209.29it/s]\n"
     ]
    },
    {
     "name": "stdout",
     "output_type": "stream",
     "text": [
      "Epoch:624/1000.. Train Loss: 0.026.. Val Loss: 0.206.. Test Loss: 0.143.. Time: 0.04m\n"
     ]
    },
    {
     "name": "stderr",
     "output_type": "stream",
     "text": [
      "100%|██████████| 107/107 [00:01<00:00, 54.61it/s]\n",
      "100%|██████████| 18/18 [00:00<00:00, 253.24it/s]\n",
      "100%|██████████| 53/53 [00:00<00:00, 243.93it/s]\n"
     ]
    },
    {
     "name": "stdout",
     "output_type": "stream",
     "text": [
      "Epoch:625/1000.. Train Loss: 0.020.. Val Loss: 0.210.. Test Loss: 0.141.. Time: 0.04m\n"
     ]
    },
    {
     "name": "stderr",
     "output_type": "stream",
     "text": [
      "100%|██████████| 107/107 [00:01<00:00, 59.53it/s]\n",
      "100%|██████████| 18/18 [00:00<00:00, 247.75it/s]\n",
      "100%|██████████| 53/53 [00:00<00:00, 218.53it/s]\n"
     ]
    },
    {
     "name": "stdout",
     "output_type": "stream",
     "text": [
      "Epoch:626/1000.. Train Loss: 0.026.. Val Loss: 0.181.. Test Loss: 0.134.. Time: 0.04m\n"
     ]
    },
    {
     "name": "stderr",
     "output_type": "stream",
     "text": [
      "100%|██████████| 107/107 [00:01<00:00, 59.27it/s]\n",
      "100%|██████████| 18/18 [00:00<00:00, 236.12it/s]\n",
      "100%|██████████| 53/53 [00:00<00:00, 247.14it/s]\n"
     ]
    },
    {
     "name": "stdout",
     "output_type": "stream",
     "text": [
      "Epoch:627/1000.. Train Loss: 0.021.. Val Loss: 0.210.. Test Loss: 0.140.. Time: 0.04m\n"
     ]
    },
    {
     "name": "stderr",
     "output_type": "stream",
     "text": [
      "100%|██████████| 107/107 [00:01<00:00, 64.52it/s]\n",
      "100%|██████████| 18/18 [00:00<00:00, 247.98it/s]\n",
      "100%|██████████| 53/53 [00:00<00:00, 238.80it/s]\n"
     ]
    },
    {
     "name": "stdout",
     "output_type": "stream",
     "text": [
      "Epoch:628/1000.. Train Loss: 0.016.. Val Loss: 0.209.. Test Loss: 0.145.. Time: 0.03m\n"
     ]
    },
    {
     "name": "stderr",
     "output_type": "stream",
     "text": [
      "100%|██████████| 107/107 [00:01<00:00, 67.45it/s]\n",
      "100%|██████████| 18/18 [00:00<00:00, 247.19it/s]\n",
      "100%|██████████| 53/53 [00:00<00:00, 252.84it/s]\n"
     ]
    },
    {
     "name": "stdout",
     "output_type": "stream",
     "text": [
      "Epoch:629/1000.. Train Loss: 0.023.. Val Loss: 0.192.. Test Loss: 0.144.. Time: 0.03m\n"
     ]
    },
    {
     "name": "stderr",
     "output_type": "stream",
     "text": [
      "100%|██████████| 107/107 [00:01<00:00, 68.20it/s]\n",
      "100%|██████████| 18/18 [00:00<00:00, 249.35it/s]\n",
      "100%|██████████| 53/53 [00:00<00:00, 248.17it/s]\n"
     ]
    },
    {
     "name": "stdout",
     "output_type": "stream",
     "text": [
      "Epoch:630/1000.. Train Loss: 0.020.. Val Loss: 0.195.. Test Loss: 0.140.. Time: 0.03m\n"
     ]
    },
    {
     "name": "stderr",
     "output_type": "stream",
     "text": [
      "100%|██████████| 107/107 [00:01<00:00, 60.34it/s]\n",
      "100%|██████████| 18/18 [00:00<00:00, 214.29it/s]\n",
      "100%|██████████| 53/53 [00:00<00:00, 243.66it/s]\n"
     ]
    },
    {
     "name": "stdout",
     "output_type": "stream",
     "text": [
      "Epoch:631/1000.. Train Loss: 0.023.. Val Loss: 0.220.. Test Loss: 0.138.. Time: 0.03m\n"
     ]
    },
    {
     "name": "stderr",
     "output_type": "stream",
     "text": [
      "100%|██████████| 107/107 [00:01<00:00, 58.29it/s]\n",
      "100%|██████████| 18/18 [00:00<00:00, 240.48it/s]\n",
      "100%|██████████| 53/53 [00:00<00:00, 241.20it/s]\n"
     ]
    },
    {
     "name": "stdout",
     "output_type": "stream",
     "text": [
      "Epoch:632/1000.. Train Loss: 0.020.. Val Loss: 0.269.. Test Loss: 0.139.. Time: 0.04m\n"
     ]
    },
    {
     "name": "stderr",
     "output_type": "stream",
     "text": [
      "100%|██████████| 107/107 [00:01<00:00, 55.91it/s]\n",
      "100%|██████████| 18/18 [00:00<00:00, 242.55it/s]\n",
      "100%|██████████| 53/53 [00:00<00:00, 240.69it/s]\n"
     ]
    },
    {
     "name": "stdout",
     "output_type": "stream",
     "text": [
      "Epoch:633/1000.. Train Loss: 0.018.. Val Loss: 0.246.. Test Loss: 0.138.. Time: 0.04m\n"
     ]
    },
    {
     "name": "stderr",
     "output_type": "stream",
     "text": [
      "100%|██████████| 107/107 [00:01<00:00, 59.08it/s]\n",
      "100%|██████████| 18/18 [00:00<00:00, 202.18it/s]\n",
      "100%|██████████| 53/53 [00:00<00:00, 251.72it/s]\n"
     ]
    },
    {
     "name": "stdout",
     "output_type": "stream",
     "text": [
      "Epoch:634/1000.. Train Loss: 0.018.. Val Loss: 0.226.. Test Loss: 0.148.. Time: 0.04m\n"
     ]
    },
    {
     "name": "stderr",
     "output_type": "stream",
     "text": [
      "100%|██████████| 107/107 [00:01<00:00, 55.40it/s]\n",
      "100%|██████████| 18/18 [00:00<00:00, 218.34it/s]\n",
      "100%|██████████| 53/53 [00:00<00:00, 239.13it/s]\n"
     ]
    },
    {
     "name": "stdout",
     "output_type": "stream",
     "text": [
      "Epoch:635/1000.. Train Loss: 0.019.. Val Loss: 0.236.. Test Loss: 0.142.. Time: 0.04m\n"
     ]
    },
    {
     "name": "stderr",
     "output_type": "stream",
     "text": [
      "100%|██████████| 107/107 [00:01<00:00, 64.64it/s]\n",
      "100%|██████████| 18/18 [00:00<00:00, 242.59it/s]\n",
      "100%|██████████| 53/53 [00:00<00:00, 231.59it/s]\n"
     ]
    },
    {
     "name": "stdout",
     "output_type": "stream",
     "text": [
      "Epoch:636/1000.. Train Loss: 0.020.. Val Loss: 0.193.. Test Loss: 0.137.. Time: 0.03m\n"
     ]
    },
    {
     "name": "stderr",
     "output_type": "stream",
     "text": [
      "100%|██████████| 107/107 [00:01<00:00, 59.16it/s]\n",
      "100%|██████████| 18/18 [00:00<00:00, 273.73it/s]\n",
      "100%|██████████| 53/53 [00:00<00:00, 230.01it/s]\n"
     ]
    },
    {
     "name": "stdout",
     "output_type": "stream",
     "text": [
      "Epoch:637/1000.. Train Loss: 0.019.. Val Loss: 0.197.. Test Loss: 0.141.. Time: 0.04m\n"
     ]
    },
    {
     "name": "stderr",
     "output_type": "stream",
     "text": [
      "100%|██████████| 107/107 [00:01<00:00, 56.91it/s]\n",
      "100%|██████████| 18/18 [00:00<00:00, 244.85it/s]\n",
      "100%|██████████| 53/53 [00:00<00:00, 248.31it/s]\n"
     ]
    },
    {
     "name": "stdout",
     "output_type": "stream",
     "text": [
      "Epoch:638/1000.. Train Loss: 0.020.. Val Loss: 0.201.. Test Loss: 0.141.. Time: 0.04m\n"
     ]
    },
    {
     "name": "stderr",
     "output_type": "stream",
     "text": [
      "100%|██████████| 107/107 [00:01<00:00, 56.46it/s]\n",
      "100%|██████████| 18/18 [00:00<00:00, 219.14it/s]\n",
      "100%|██████████| 53/53 [00:00<00:00, 231.69it/s]\n"
     ]
    },
    {
     "name": "stdout",
     "output_type": "stream",
     "text": [
      "Epoch:639/1000.. Train Loss: 0.022.. Val Loss: 0.218.. Test Loss: 0.142.. Time: 0.04m\n"
     ]
    },
    {
     "name": "stderr",
     "output_type": "stream",
     "text": [
      "100%|██████████| 107/107 [00:01<00:00, 56.02it/s]\n",
      "100%|██████████| 18/18 [00:00<00:00, 229.28it/s]\n",
      "100%|██████████| 53/53 [00:00<00:00, 240.93it/s]\n"
     ]
    },
    {
     "name": "stdout",
     "output_type": "stream",
     "text": [
      "Epoch:640/1000.. Train Loss: 0.023.. Val Loss: 0.192.. Test Loss: 0.144.. Time: 0.04m\n"
     ]
    },
    {
     "name": "stderr",
     "output_type": "stream",
     "text": [
      "100%|██████████| 107/107 [00:01<00:00, 54.97it/s]\n",
      "100%|██████████| 18/18 [00:00<00:00, 247.26it/s]\n",
      "100%|██████████| 53/53 [00:00<00:00, 250.54it/s]\n"
     ]
    },
    {
     "name": "stdout",
     "output_type": "stream",
     "text": [
      "Epoch:641/1000.. Train Loss: 0.020.. Val Loss: 0.184.. Test Loss: 0.143.. Time: 0.04m\n"
     ]
    },
    {
     "name": "stderr",
     "output_type": "stream",
     "text": [
      "100%|██████████| 107/107 [00:01<00:00, 57.80it/s]\n",
      "100%|██████████| 18/18 [00:00<00:00, 242.96it/s]\n",
      "100%|██████████| 53/53 [00:00<00:00, 237.93it/s]\n"
     ]
    },
    {
     "name": "stdout",
     "output_type": "stream",
     "text": [
      "Epoch:642/1000.. Train Loss: 0.018.. Val Loss: 0.204.. Test Loss: 0.147.. Time: 0.04m\n"
     ]
    },
    {
     "name": "stderr",
     "output_type": "stream",
     "text": [
      "100%|██████████| 107/107 [00:01<00:00, 61.03it/s]\n",
      "100%|██████████| 18/18 [00:00<00:00, 242.83it/s]\n",
      "100%|██████████| 53/53 [00:00<00:00, 246.51it/s]\n"
     ]
    },
    {
     "name": "stdout",
     "output_type": "stream",
     "text": [
      "Epoch:643/1000.. Train Loss: 0.018.. Val Loss: 0.199.. Test Loss: 0.147.. Time: 0.03m\n"
     ]
    },
    {
     "name": "stderr",
     "output_type": "stream",
     "text": [
      "100%|██████████| 107/107 [00:01<00:00, 66.39it/s]\n",
      "100%|██████████| 18/18 [00:00<00:00, 241.01it/s]\n",
      "100%|██████████| 53/53 [00:00<00:00, 267.33it/s]\n"
     ]
    },
    {
     "name": "stdout",
     "output_type": "stream",
     "text": [
      "Epoch:644/1000.. Train Loss: 0.021.. Val Loss: 0.187.. Test Loss: 0.142.. Time: 0.03m\n"
     ]
    },
    {
     "name": "stderr",
     "output_type": "stream",
     "text": [
      "100%|██████████| 107/107 [00:01<00:00, 59.42it/s]\n",
      "100%|██████████| 18/18 [00:00<00:00, 263.03it/s]\n",
      "100%|██████████| 53/53 [00:00<00:00, 231.52it/s]\n"
     ]
    },
    {
     "name": "stdout",
     "output_type": "stream",
     "text": [
      "Epoch:645/1000.. Train Loss: 0.020.. Val Loss: 0.201.. Test Loss: 0.139.. Time: 0.04m\n"
     ]
    },
    {
     "name": "stderr",
     "output_type": "stream",
     "text": [
      "100%|██████████| 107/107 [00:01<00:00, 60.81it/s]\n",
      "100%|██████████| 18/18 [00:00<00:00, 246.53it/s]\n",
      "100%|██████████| 53/53 [00:00<00:00, 251.14it/s]\n"
     ]
    },
    {
     "name": "stdout",
     "output_type": "stream",
     "text": [
      "Epoch:646/1000.. Train Loss: 0.020.. Val Loss: 0.224.. Test Loss: 0.144.. Time: 0.03m\n"
     ]
    },
    {
     "name": "stderr",
     "output_type": "stream",
     "text": [
      "100%|██████████| 107/107 [00:01<00:00, 60.64it/s]\n",
      "100%|██████████| 18/18 [00:00<00:00, 259.19it/s]\n",
      "100%|██████████| 53/53 [00:00<00:00, 244.72it/s]\n"
     ]
    },
    {
     "name": "stdout",
     "output_type": "stream",
     "text": [
      "Epoch:647/1000.. Train Loss: 0.020.. Val Loss: 0.203.. Test Loss: 0.142.. Time: 0.03m\n"
     ]
    },
    {
     "name": "stderr",
     "output_type": "stream",
     "text": [
      "100%|██████████| 107/107 [00:01<00:00, 57.51it/s]\n",
      "100%|██████████| 18/18 [00:00<00:00, 222.36it/s]\n",
      "100%|██████████| 53/53 [00:00<00:00, 252.92it/s]\n"
     ]
    },
    {
     "name": "stdout",
     "output_type": "stream",
     "text": [
      "Epoch:648/1000.. Train Loss: 0.022.. Val Loss: 0.200.. Test Loss: 0.145.. Time: 0.04m\n"
     ]
    },
    {
     "name": "stderr",
     "output_type": "stream",
     "text": [
      "100%|██████████| 107/107 [00:01<00:00, 53.64it/s]\n",
      "100%|██████████| 18/18 [00:00<00:00, 246.18it/s]\n",
      "100%|██████████| 53/53 [00:00<00:00, 241.19it/s]\n"
     ]
    },
    {
     "name": "stdout",
     "output_type": "stream",
     "text": [
      "Epoch:649/1000.. Train Loss: 0.018.. Val Loss: 0.188.. Test Loss: 0.147.. Time: 0.04m\n"
     ]
    },
    {
     "name": "stderr",
     "output_type": "stream",
     "text": [
      "100%|██████████| 107/107 [00:01<00:00, 57.69it/s]\n",
      "100%|██████████| 18/18 [00:00<00:00, 238.83it/s]\n",
      "100%|██████████| 53/53 [00:00<00:00, 242.31it/s]\n"
     ]
    },
    {
     "name": "stdout",
     "output_type": "stream",
     "text": [
      "Epoch:650/1000.. Train Loss: 0.017.. Val Loss: 0.193.. Test Loss: 0.157.. Time: 0.04m\n"
     ]
    },
    {
     "name": "stderr",
     "output_type": "stream",
     "text": [
      "100%|██████████| 107/107 [00:01<00:00, 60.43it/s]\n",
      "100%|██████████| 18/18 [00:00<00:00, 246.27it/s]\n",
      "100%|██████████| 53/53 [00:00<00:00, 234.24it/s]\n"
     ]
    },
    {
     "name": "stdout",
     "output_type": "stream",
     "text": [
      "Epoch:651/1000.. Train Loss: 0.021.. Val Loss: 0.169.. Test Loss: 0.142.. Time: 0.03m\n"
     ]
    },
    {
     "name": "stderr",
     "output_type": "stream",
     "text": [
      "100%|██████████| 107/107 [00:01<00:00, 57.21it/s]\n",
      "100%|██████████| 18/18 [00:00<00:00, 271.16it/s]\n",
      "100%|██████████| 53/53 [00:00<00:00, 240.81it/s]\n"
     ]
    },
    {
     "name": "stdout",
     "output_type": "stream",
     "text": [
      "Epoch:652/1000.. Train Loss: 0.021.. Val Loss: 0.177.. Test Loss: 0.142.. Time: 0.04m\n"
     ]
    },
    {
     "name": "stderr",
     "output_type": "stream",
     "text": [
      "100%|██████████| 107/107 [00:01<00:00, 57.79it/s]\n",
      "100%|██████████| 18/18 [00:00<00:00, 243.64it/s]\n",
      "100%|██████████| 53/53 [00:00<00:00, 236.53it/s]\n"
     ]
    },
    {
     "name": "stdout",
     "output_type": "stream",
     "text": [
      "Epoch:653/1000.. Train Loss: 0.019.. Val Loss: 0.212.. Test Loss: 0.140.. Time: 0.04m\n"
     ]
    },
    {
     "name": "stderr",
     "output_type": "stream",
     "text": [
      "100%|██████████| 107/107 [00:01<00:00, 68.29it/s]\n",
      "100%|██████████| 18/18 [00:00<00:00, 262.77it/s]\n",
      "100%|██████████| 53/53 [00:00<00:00, 253.71it/s]\n"
     ]
    },
    {
     "name": "stdout",
     "output_type": "stream",
     "text": [
      "Epoch:654/1000.. Train Loss: 0.018.. Val Loss: 0.211.. Test Loss: 0.146.. Time: 0.03m\n"
     ]
    },
    {
     "name": "stderr",
     "output_type": "stream",
     "text": [
      "100%|██████████| 107/107 [00:01<00:00, 60.33it/s]\n",
      "100%|██████████| 18/18 [00:00<00:00, 238.52it/s]\n",
      "100%|██████████| 53/53 [00:00<00:00, 229.54it/s]\n"
     ]
    },
    {
     "name": "stdout",
     "output_type": "stream",
     "text": [
      "Epoch:655/1000.. Train Loss: 0.020.. Val Loss: 0.201.. Test Loss: 0.150.. Time: 0.03m\n"
     ]
    },
    {
     "name": "stderr",
     "output_type": "stream",
     "text": [
      "100%|██████████| 107/107 [00:01<00:00, 56.41it/s]\n",
      "100%|██████████| 18/18 [00:00<00:00, 234.56it/s]\n",
      "100%|██████████| 53/53 [00:00<00:00, 234.84it/s]\n"
     ]
    },
    {
     "name": "stdout",
     "output_type": "stream",
     "text": [
      "Epoch:656/1000.. Train Loss: 0.019.. Val Loss: 0.205.. Test Loss: 0.141.. Time: 0.04m\n"
     ]
    },
    {
     "name": "stderr",
     "output_type": "stream",
     "text": [
      "100%|██████████| 107/107 [00:01<00:00, 54.62it/s]\n",
      "100%|██████████| 18/18 [00:00<00:00, 217.60it/s]\n",
      "100%|██████████| 53/53 [00:00<00:00, 245.00it/s]\n"
     ]
    },
    {
     "name": "stdout",
     "output_type": "stream",
     "text": [
      "Epoch:657/1000.. Train Loss: 0.021.. Val Loss: 0.190.. Test Loss: 0.139.. Time: 0.04m\n"
     ]
    },
    {
     "name": "stderr",
     "output_type": "stream",
     "text": [
      "100%|██████████| 107/107 [00:01<00:00, 56.41it/s]\n",
      "100%|██████████| 18/18 [00:00<00:00, 192.13it/s]\n",
      "100%|██████████| 53/53 [00:00<00:00, 241.22it/s]\n"
     ]
    },
    {
     "name": "stdout",
     "output_type": "stream",
     "text": [
      "Epoch:658/1000.. Train Loss: 0.017.. Val Loss: 0.198.. Test Loss: 0.137.. Time: 0.04m\n"
     ]
    },
    {
     "name": "stderr",
     "output_type": "stream",
     "text": [
      "100%|██████████| 107/107 [00:01<00:00, 56.21it/s]\n",
      "100%|██████████| 18/18 [00:00<00:00, 236.01it/s]\n",
      "100%|██████████| 53/53 [00:00<00:00, 238.51it/s]\n"
     ]
    },
    {
     "name": "stdout",
     "output_type": "stream",
     "text": [
      "Epoch:659/1000.. Train Loss: 0.018.. Val Loss: 0.211.. Test Loss: 0.139.. Time: 0.04m\n"
     ]
    },
    {
     "name": "stderr",
     "output_type": "stream",
     "text": [
      "100%|██████████| 107/107 [00:01<00:00, 54.30it/s]\n",
      "100%|██████████| 18/18 [00:00<00:00, 243.86it/s]\n",
      "100%|██████████| 53/53 [00:00<00:00, 252.53it/s]\n"
     ]
    },
    {
     "name": "stdout",
     "output_type": "stream",
     "text": [
      "Epoch:660/1000.. Train Loss: 0.022.. Val Loss: 0.195.. Test Loss: 0.137.. Time: 0.04m\n"
     ]
    },
    {
     "name": "stderr",
     "output_type": "stream",
     "text": [
      "100%|██████████| 107/107 [00:01<00:00, 58.11it/s]\n",
      "100%|██████████| 18/18 [00:00<00:00, 222.39it/s]\n",
      "100%|██████████| 53/53 [00:00<00:00, 244.77it/s]\n"
     ]
    },
    {
     "name": "stdout",
     "output_type": "stream",
     "text": [
      "Epoch:661/1000.. Train Loss: 0.019.. Val Loss: 0.193.. Test Loss: 0.147.. Time: 0.04m\n"
     ]
    },
    {
     "name": "stderr",
     "output_type": "stream",
     "text": [
      "100%|██████████| 107/107 [00:01<00:00, 57.40it/s]\n",
      "100%|██████████| 18/18 [00:00<00:00, 247.90it/s]\n",
      "100%|██████████| 53/53 [00:00<00:00, 243.99it/s]\n"
     ]
    },
    {
     "name": "stdout",
     "output_type": "stream",
     "text": [
      "Epoch:662/1000.. Train Loss: 0.018.. Val Loss: 0.200.. Test Loss: 0.152.. Time: 0.04m\n"
     ]
    },
    {
     "name": "stderr",
     "output_type": "stream",
     "text": [
      "100%|██████████| 107/107 [00:01<00:00, 61.12it/s]\n",
      "100%|██████████| 18/18 [00:00<00:00, 252.94it/s]\n",
      "100%|██████████| 53/53 [00:00<00:00, 248.51it/s]\n"
     ]
    },
    {
     "name": "stdout",
     "output_type": "stream",
     "text": [
      "Epoch:663/1000.. Train Loss: 0.022.. Val Loss: 0.194.. Test Loss: 0.145.. Time: 0.03m\n"
     ]
    },
    {
     "name": "stderr",
     "output_type": "stream",
     "text": [
      "100%|██████████| 107/107 [00:01<00:00, 58.94it/s]\n",
      "100%|██████████| 18/18 [00:00<00:00, 246.69it/s]\n",
      "100%|██████████| 53/53 [00:00<00:00, 234.19it/s]\n"
     ]
    },
    {
     "name": "stdout",
     "output_type": "stream",
     "text": [
      "Epoch:664/1000.. Train Loss: 0.021.. Val Loss: 0.196.. Test Loss: 0.147.. Time: 0.04m\n"
     ]
    },
    {
     "name": "stderr",
     "output_type": "stream",
     "text": [
      "100%|██████████| 107/107 [00:01<00:00, 55.11it/s]\n",
      "100%|██████████| 18/18 [00:00<00:00, 221.35it/s]\n",
      "100%|██████████| 53/53 [00:00<00:00, 248.84it/s]\n"
     ]
    },
    {
     "name": "stdout",
     "output_type": "stream",
     "text": [
      "Epoch:665/1000.. Train Loss: 0.022.. Val Loss: 0.220.. Test Loss: 0.149.. Time: 0.04m\n"
     ]
    },
    {
     "name": "stderr",
     "output_type": "stream",
     "text": [
      "100%|██████████| 107/107 [00:01<00:00, 55.26it/s]\n",
      "100%|██████████| 18/18 [00:00<00:00, 210.98it/s]\n",
      "100%|██████████| 53/53 [00:00<00:00, 227.96it/s]\n"
     ]
    },
    {
     "name": "stdout",
     "output_type": "stream",
     "text": [
      "Epoch:666/1000.. Train Loss: 0.024.. Val Loss: 0.196.. Test Loss: 0.140.. Time: 0.04m\n"
     ]
    },
    {
     "name": "stderr",
     "output_type": "stream",
     "text": [
      "100%|██████████| 107/107 [00:01<00:00, 55.07it/s]\n",
      "100%|██████████| 18/18 [00:00<00:00, 194.25it/s]\n",
      "100%|██████████| 53/53 [00:00<00:00, 238.03it/s]\n"
     ]
    },
    {
     "name": "stdout",
     "output_type": "stream",
     "text": [
      "Epoch:667/1000.. Train Loss: 0.019.. Val Loss: 0.219.. Test Loss: 0.142.. Time: 0.04m\n"
     ]
    },
    {
     "name": "stderr",
     "output_type": "stream",
     "text": [
      "100%|██████████| 107/107 [00:01<00:00, 59.74it/s]\n",
      "100%|██████████| 18/18 [00:00<00:00, 246.40it/s]\n",
      "100%|██████████| 53/53 [00:00<00:00, 245.63it/s]\n"
     ]
    },
    {
     "name": "stdout",
     "output_type": "stream",
     "text": [
      "Epoch:668/1000.. Train Loss: 0.019.. Val Loss: 0.211.. Test Loss: 0.144.. Time: 0.03m\n"
     ]
    },
    {
     "name": "stderr",
     "output_type": "stream",
     "text": [
      "100%|██████████| 107/107 [00:01<00:00, 54.60it/s]\n",
      "100%|██████████| 18/18 [00:00<00:00, 195.64it/s]\n",
      "100%|██████████| 53/53 [00:00<00:00, 241.77it/s]\n"
     ]
    },
    {
     "name": "stdout",
     "output_type": "stream",
     "text": [
      "Epoch:669/1000.. Train Loss: 0.018.. Val Loss: 0.189.. Test Loss: 0.136.. Time: 0.04m\n"
     ]
    },
    {
     "name": "stderr",
     "output_type": "stream",
     "text": [
      "100%|██████████| 107/107 [00:01<00:00, 57.01it/s]\n",
      "100%|██████████| 18/18 [00:00<00:00, 244.35it/s]\n",
      "100%|██████████| 53/53 [00:00<00:00, 252.48it/s]\n"
     ]
    },
    {
     "name": "stdout",
     "output_type": "stream",
     "text": [
      "Epoch:670/1000.. Train Loss: 0.021.. Val Loss: 0.252.. Test Loss: 0.149.. Time: 0.04m\n"
     ]
    },
    {
     "name": "stderr",
     "output_type": "stream",
     "text": [
      "100%|██████████| 107/107 [00:01<00:00, 59.10it/s]\n",
      "100%|██████████| 18/18 [00:00<00:00, 238.87it/s]\n",
      "100%|██████████| 53/53 [00:00<00:00, 246.23it/s]\n"
     ]
    },
    {
     "name": "stdout",
     "output_type": "stream",
     "text": [
      "Epoch:671/1000.. Train Loss: 0.017.. Val Loss: 0.219.. Test Loss: 0.149.. Time: 0.04m\n"
     ]
    },
    {
     "name": "stderr",
     "output_type": "stream",
     "text": [
      "100%|██████████| 107/107 [00:01<00:00, 56.22it/s]\n",
      "100%|██████████| 18/18 [00:00<00:00, 194.32it/s]\n",
      "100%|██████████| 53/53 [00:00<00:00, 210.01it/s]\n"
     ]
    },
    {
     "name": "stdout",
     "output_type": "stream",
     "text": [
      "Epoch:672/1000.. Train Loss: 0.020.. Val Loss: 0.214.. Test Loss: 0.146.. Time: 0.04m\n"
     ]
    },
    {
     "name": "stderr",
     "output_type": "stream",
     "text": [
      "100%|██████████| 107/107 [00:01<00:00, 55.90it/s]\n",
      "100%|██████████| 18/18 [00:00<00:00, 243.05it/s]\n",
      "100%|██████████| 53/53 [00:00<00:00, 238.32it/s]\n"
     ]
    },
    {
     "name": "stdout",
     "output_type": "stream",
     "text": [
      "Epoch:673/1000.. Train Loss: 0.020.. Val Loss: 0.242.. Test Loss: 0.146.. Time: 0.04m\n"
     ]
    },
    {
     "name": "stderr",
     "output_type": "stream",
     "text": [
      "100%|██████████| 107/107 [00:01<00:00, 59.05it/s]\n",
      "100%|██████████| 18/18 [00:00<00:00, 219.52it/s]\n",
      "100%|██████████| 53/53 [00:00<00:00, 246.43it/s]\n"
     ]
    },
    {
     "name": "stdout",
     "output_type": "stream",
     "text": [
      "Epoch:674/1000.. Train Loss: 0.019.. Val Loss: 0.265.. Test Loss: 0.145.. Time: 0.04m\n"
     ]
    },
    {
     "name": "stderr",
     "output_type": "stream",
     "text": [
      "100%|██████████| 107/107 [00:01<00:00, 57.48it/s]\n",
      "100%|██████████| 18/18 [00:00<00:00, 256.64it/s]\n",
      "100%|██████████| 53/53 [00:00<00:00, 247.35it/s]\n"
     ]
    },
    {
     "name": "stdout",
     "output_type": "stream",
     "text": [
      "Epoch:675/1000.. Train Loss: 0.019.. Val Loss: 0.230.. Test Loss: 0.147.. Time: 0.04m\n"
     ]
    },
    {
     "name": "stderr",
     "output_type": "stream",
     "text": [
      "100%|██████████| 107/107 [00:01<00:00, 56.64it/s]\n",
      "100%|██████████| 18/18 [00:00<00:00, 236.31it/s]\n",
      "100%|██████████| 53/53 [00:00<00:00, 245.56it/s]\n"
     ]
    },
    {
     "name": "stdout",
     "output_type": "stream",
     "text": [
      "Epoch:676/1000.. Train Loss: 0.018.. Val Loss: 0.223.. Test Loss: 0.147.. Time: 0.04m\n"
     ]
    },
    {
     "name": "stderr",
     "output_type": "stream",
     "text": [
      "100%|██████████| 107/107 [00:01<00:00, 58.92it/s]\n",
      "100%|██████████| 18/18 [00:00<00:00, 250.48it/s]\n",
      "100%|██████████| 53/53 [00:00<00:00, 201.01it/s]\n"
     ]
    },
    {
     "name": "stdout",
     "output_type": "stream",
     "text": [
      "Epoch:677/1000.. Train Loss: 0.022.. Val Loss: 0.265.. Test Loss: 0.147.. Time: 0.04m\n"
     ]
    },
    {
     "name": "stderr",
     "output_type": "stream",
     "text": [
      "100%|██████████| 107/107 [00:01<00:00, 55.03it/s]\n",
      "100%|██████████| 18/18 [00:00<00:00, 243.63it/s]\n",
      "100%|██████████| 53/53 [00:00<00:00, 252.85it/s]\n"
     ]
    },
    {
     "name": "stdout",
     "output_type": "stream",
     "text": [
      "Epoch:678/1000.. Train Loss: 0.016.. Val Loss: 0.257.. Test Loss: 0.169.. Time: 0.04m\n"
     ]
    },
    {
     "name": "stderr",
     "output_type": "stream",
     "text": [
      "100%|██████████| 107/107 [00:01<00:00, 56.69it/s]\n",
      "100%|██████████| 18/18 [00:00<00:00, 225.92it/s]\n",
      "100%|██████████| 53/53 [00:00<00:00, 248.75it/s]\n"
     ]
    },
    {
     "name": "stdout",
     "output_type": "stream",
     "text": [
      "Epoch:679/1000.. Train Loss: 0.019.. Val Loss: 0.245.. Test Loss: 0.153.. Time: 0.04m\n"
     ]
    },
    {
     "name": "stderr",
     "output_type": "stream",
     "text": [
      "100%|██████████| 107/107 [00:01<00:00, 55.89it/s]\n",
      "100%|██████████| 18/18 [00:00<00:00, 244.79it/s]\n",
      "100%|██████████| 53/53 [00:00<00:00, 243.09it/s]\n"
     ]
    },
    {
     "name": "stdout",
     "output_type": "stream",
     "text": [
      "Epoch:680/1000.. Train Loss: 0.017.. Val Loss: 0.223.. Test Loss: 0.154.. Time: 0.04m\n"
     ]
    },
    {
     "name": "stderr",
     "output_type": "stream",
     "text": [
      "100%|██████████| 107/107 [00:01<00:00, 60.85it/s]\n",
      "100%|██████████| 18/18 [00:00<00:00, 236.32it/s]\n",
      "100%|██████████| 53/53 [00:00<00:00, 245.03it/s]\n"
     ]
    },
    {
     "name": "stdout",
     "output_type": "stream",
     "text": [
      "Epoch:681/1000.. Train Loss: 0.015.. Val Loss: 0.213.. Test Loss: 0.149.. Time: 0.03m\n"
     ]
    },
    {
     "name": "stderr",
     "output_type": "stream",
     "text": [
      "100%|██████████| 107/107 [00:01<00:00, 61.00it/s]\n",
      "100%|██████████| 18/18 [00:00<00:00, 248.79it/s]\n",
      "100%|██████████| 53/53 [00:00<00:00, 243.49it/s]\n"
     ]
    },
    {
     "name": "stdout",
     "output_type": "stream",
     "text": [
      "Epoch:682/1000.. Train Loss: 0.016.. Val Loss: 0.190.. Test Loss: 0.142.. Time: 0.03m\n"
     ]
    },
    {
     "name": "stderr",
     "output_type": "stream",
     "text": [
      "100%|██████████| 107/107 [00:01<00:00, 56.55it/s]\n",
      "100%|██████████| 18/18 [00:00<00:00, 239.81it/s]\n",
      "100%|██████████| 53/53 [00:00<00:00, 239.87it/s]\n"
     ]
    },
    {
     "name": "stdout",
     "output_type": "stream",
     "text": [
      "Epoch:683/1000.. Train Loss: 0.020.. Val Loss: 0.213.. Test Loss: 0.137.. Time: 0.04m\n"
     ]
    },
    {
     "name": "stderr",
     "output_type": "stream",
     "text": [
      "100%|██████████| 107/107 [00:01<00:00, 56.37it/s]\n",
      "100%|██████████| 18/18 [00:00<00:00, 259.02it/s]\n",
      "100%|██████████| 53/53 [00:00<00:00, 249.05it/s]\n"
     ]
    },
    {
     "name": "stdout",
     "output_type": "stream",
     "text": [
      "Epoch:684/1000.. Train Loss: 0.022.. Val Loss: 0.254.. Test Loss: 0.151.. Time: 0.04m\n"
     ]
    },
    {
     "name": "stderr",
     "output_type": "stream",
     "text": [
      "100%|██████████| 107/107 [00:01<00:00, 60.12it/s]\n",
      "100%|██████████| 18/18 [00:00<00:00, 243.47it/s]\n",
      "100%|██████████| 53/53 [00:00<00:00, 249.27it/s]\n"
     ]
    },
    {
     "name": "stdout",
     "output_type": "stream",
     "text": [
      "Epoch:685/1000.. Train Loss: 0.021.. Val Loss: 0.249.. Test Loss: 0.143.. Time: 0.03m\n"
     ]
    },
    {
     "name": "stderr",
     "output_type": "stream",
     "text": [
      "100%|██████████| 107/107 [00:01<00:00, 56.76it/s]\n",
      "100%|██████████| 18/18 [00:00<00:00, 243.34it/s]\n",
      "100%|██████████| 53/53 [00:00<00:00, 247.78it/s]\n"
     ]
    },
    {
     "name": "stdout",
     "output_type": "stream",
     "text": [
      "Epoch:686/1000.. Train Loss: 0.019.. Val Loss: 0.234.. Test Loss: 0.141.. Time: 0.04m\n"
     ]
    },
    {
     "name": "stderr",
     "output_type": "stream",
     "text": [
      "100%|██████████| 107/107 [00:01<00:00, 60.84it/s]\n",
      "100%|██████████| 18/18 [00:00<00:00, 244.34it/s]\n",
      "100%|██████████| 53/53 [00:00<00:00, 249.54it/s]\n"
     ]
    },
    {
     "name": "stdout",
     "output_type": "stream",
     "text": [
      "Epoch:687/1000.. Train Loss: 0.018.. Val Loss: 0.235.. Test Loss: 0.141.. Time: 0.03m\n"
     ]
    },
    {
     "name": "stderr",
     "output_type": "stream",
     "text": [
      "100%|██████████| 107/107 [00:01<00:00, 55.38it/s]\n",
      "100%|██████████| 18/18 [00:00<00:00, 188.80it/s]\n",
      "100%|██████████| 53/53 [00:00<00:00, 199.88it/s]\n"
     ]
    },
    {
     "name": "stdout",
     "output_type": "stream",
     "text": [
      "Epoch:688/1000.. Train Loss: 0.018.. Val Loss: 0.224.. Test Loss: 0.148.. Time: 0.04m\n"
     ]
    },
    {
     "name": "stderr",
     "output_type": "stream",
     "text": [
      "100%|██████████| 107/107 [00:01<00:00, 54.39it/s]\n",
      "100%|██████████| 18/18 [00:00<00:00, 245.78it/s]\n",
      "100%|██████████| 53/53 [00:00<00:00, 253.15it/s]\n"
     ]
    },
    {
     "name": "stdout",
     "output_type": "stream",
     "text": [
      "Epoch:689/1000.. Train Loss: 0.017.. Val Loss: 0.237.. Test Loss: 0.140.. Time: 0.04m\n"
     ]
    },
    {
     "name": "stderr",
     "output_type": "stream",
     "text": [
      "100%|██████████| 107/107 [00:01<00:00, 54.88it/s]\n",
      "100%|██████████| 18/18 [00:00<00:00, 212.86it/s]\n",
      "100%|██████████| 53/53 [00:00<00:00, 252.21it/s]\n"
     ]
    },
    {
     "name": "stdout",
     "output_type": "stream",
     "text": [
      "Epoch:690/1000.. Train Loss: 0.017.. Val Loss: 0.227.. Test Loss: 0.142.. Time: 0.04m\n"
     ]
    },
    {
     "name": "stderr",
     "output_type": "stream",
     "text": [
      "100%|██████████| 107/107 [00:01<00:00, 60.58it/s]\n",
      "100%|██████████| 18/18 [00:00<00:00, 244.64it/s]\n",
      "100%|██████████| 53/53 [00:00<00:00, 239.54it/s]\n"
     ]
    },
    {
     "name": "stdout",
     "output_type": "stream",
     "text": [
      "Epoch:691/1000.. Train Loss: 0.018.. Val Loss: 0.211.. Test Loss: 0.139.. Time: 0.03m\n"
     ]
    },
    {
     "name": "stderr",
     "output_type": "stream",
     "text": [
      "100%|██████████| 107/107 [00:01<00:00, 58.81it/s]\n",
      "100%|██████████| 18/18 [00:00<00:00, 245.45it/s]\n",
      "100%|██████████| 53/53 [00:00<00:00, 252.55it/s]\n"
     ]
    },
    {
     "name": "stdout",
     "output_type": "stream",
     "text": [
      "Epoch:692/1000.. Train Loss: 0.016.. Val Loss: 0.217.. Test Loss: 0.138.. Time: 0.04m\n"
     ]
    },
    {
     "name": "stderr",
     "output_type": "stream",
     "text": [
      "100%|██████████| 107/107 [00:01<00:00, 57.53it/s]\n",
      "100%|██████████| 18/18 [00:00<00:00, 246.79it/s]\n",
      "100%|██████████| 53/53 [00:00<00:00, 249.87it/s]\n"
     ]
    },
    {
     "name": "stdout",
     "output_type": "stream",
     "text": [
      "Epoch:693/1000.. Train Loss: 0.020.. Val Loss: 0.220.. Test Loss: 0.142.. Time: 0.04m\n"
     ]
    },
    {
     "name": "stderr",
     "output_type": "stream",
     "text": [
      "100%|██████████| 107/107 [00:01<00:00, 56.45it/s]\n",
      "100%|██████████| 18/18 [00:00<00:00, 242.63it/s]\n",
      "100%|██████████| 53/53 [00:00<00:00, 228.58it/s]\n"
     ]
    },
    {
     "name": "stdout",
     "output_type": "stream",
     "text": [
      "Epoch:694/1000.. Train Loss: 0.018.. Val Loss: 0.242.. Test Loss: 0.160.. Time: 0.04m\n"
     ]
    },
    {
     "name": "stderr",
     "output_type": "stream",
     "text": [
      "100%|██████████| 107/107 [00:01<00:00, 61.90it/s]\n",
      "100%|██████████| 18/18 [00:00<00:00, 239.87it/s]\n",
      "100%|██████████| 53/53 [00:00<00:00, 255.12it/s]\n"
     ]
    },
    {
     "name": "stdout",
     "output_type": "stream",
     "text": [
      "Epoch:695/1000.. Train Loss: 0.021.. Val Loss: 0.260.. Test Loss: 0.150.. Time: 0.03m\n"
     ]
    },
    {
     "name": "stderr",
     "output_type": "stream",
     "text": [
      "100%|██████████| 107/107 [00:01<00:00, 59.26it/s]\n",
      "100%|██████████| 18/18 [00:00<00:00, 241.26it/s]\n",
      "100%|██████████| 53/53 [00:00<00:00, 215.26it/s]\n"
     ]
    },
    {
     "name": "stdout",
     "output_type": "stream",
     "text": [
      "Epoch:696/1000.. Train Loss: 0.019.. Val Loss: 0.234.. Test Loss: 0.146.. Time: 0.04m\n"
     ]
    },
    {
     "name": "stderr",
     "output_type": "stream",
     "text": [
      "100%|██████████| 107/107 [00:01<00:00, 63.17it/s]\n",
      "100%|██████████| 18/18 [00:00<00:00, 198.78it/s]\n",
      "100%|██████████| 53/53 [00:00<00:00, 247.45it/s]\n"
     ]
    },
    {
     "name": "stdout",
     "output_type": "stream",
     "text": [
      "Epoch:697/1000.. Train Loss: 0.015.. Val Loss: 0.237.. Test Loss: 0.149.. Time: 0.03m\n"
     ]
    },
    {
     "name": "stderr",
     "output_type": "stream",
     "text": [
      "100%|██████████| 107/107 [00:01<00:00, 57.16it/s]\n",
      "100%|██████████| 18/18 [00:00<00:00, 245.19it/s]\n",
      "100%|██████████| 53/53 [00:00<00:00, 245.20it/s]\n"
     ]
    },
    {
     "name": "stdout",
     "output_type": "stream",
     "text": [
      "Epoch:698/1000.. Train Loss: 0.022.. Val Loss: 0.219.. Test Loss: 0.146.. Time: 0.04m\n"
     ]
    },
    {
     "name": "stderr",
     "output_type": "stream",
     "text": [
      "100%|██████████| 107/107 [00:01<00:00, 58.19it/s]\n",
      "100%|██████████| 18/18 [00:00<00:00, 236.09it/s]\n",
      "100%|██████████| 53/53 [00:00<00:00, 240.52it/s]\n"
     ]
    },
    {
     "name": "stdout",
     "output_type": "stream",
     "text": [
      "Epoch:699/1000.. Train Loss: 0.017.. Val Loss: 0.231.. Test Loss: 0.146.. Time: 0.04m\n"
     ]
    },
    {
     "name": "stderr",
     "output_type": "stream",
     "text": [
      "100%|██████████| 107/107 [00:01<00:00, 58.13it/s]\n",
      "100%|██████████| 18/18 [00:00<00:00, 243.79it/s]\n",
      "100%|██████████| 53/53 [00:00<00:00, 256.37it/s]\n"
     ]
    },
    {
     "name": "stdout",
     "output_type": "stream",
     "text": [
      "Epoch:700/1000.. Train Loss: 0.017.. Val Loss: 0.209.. Test Loss: 0.148.. Time: 0.04m\n"
     ]
    },
    {
     "name": "stderr",
     "output_type": "stream",
     "text": [
      "100%|██████████| 107/107 [00:01<00:00, 55.58it/s]\n",
      "100%|██████████| 18/18 [00:00<00:00, 232.69it/s]\n",
      "100%|██████████| 53/53 [00:00<00:00, 246.65it/s]\n"
     ]
    },
    {
     "name": "stdout",
     "output_type": "stream",
     "text": [
      "Epoch:701/1000.. Train Loss: 0.020.. Val Loss: 0.204.. Test Loss: 0.139.. Time: 0.04m\n"
     ]
    },
    {
     "name": "stderr",
     "output_type": "stream",
     "text": [
      "100%|██████████| 107/107 [00:01<00:00, 56.53it/s]\n",
      "100%|██████████| 18/18 [00:00<00:00, 258.90it/s]\n",
      "100%|██████████| 53/53 [00:00<00:00, 226.74it/s]\n"
     ]
    },
    {
     "name": "stdout",
     "output_type": "stream",
     "text": [
      "Epoch:702/1000.. Train Loss: 0.016.. Val Loss: 0.212.. Test Loss: 0.145.. Time: 0.04m\n"
     ]
    },
    {
     "name": "stderr",
     "output_type": "stream",
     "text": [
      "100%|██████████| 107/107 [00:01<00:00, 59.27it/s]\n",
      "100%|██████████| 18/18 [00:00<00:00, 253.72it/s]\n",
      "100%|██████████| 53/53 [00:00<00:00, 215.53it/s]\n"
     ]
    },
    {
     "name": "stdout",
     "output_type": "stream",
     "text": [
      "Epoch:703/1000.. Train Loss: 0.019.. Val Loss: 0.208.. Test Loss: 0.135.. Time: 0.04m\n"
     ]
    },
    {
     "name": "stderr",
     "output_type": "stream",
     "text": [
      "100%|██████████| 107/107 [00:01<00:00, 56.83it/s]\n",
      "100%|██████████| 18/18 [00:00<00:00, 254.17it/s]\n",
      "100%|██████████| 53/53 [00:00<00:00, 221.94it/s]\n"
     ]
    },
    {
     "name": "stdout",
     "output_type": "stream",
     "text": [
      "Epoch:704/1000.. Train Loss: 0.023.. Val Loss: 0.196.. Test Loss: 0.140.. Time: 0.04m\n"
     ]
    },
    {
     "name": "stderr",
     "output_type": "stream",
     "text": [
      "100%|██████████| 107/107 [00:01<00:00, 58.66it/s]\n",
      "100%|██████████| 18/18 [00:00<00:00, 210.83it/s]\n",
      "100%|██████████| 53/53 [00:00<00:00, 250.44it/s]\n"
     ]
    },
    {
     "name": "stdout",
     "output_type": "stream",
     "text": [
      "Epoch:705/1000.. Train Loss: 0.023.. Val Loss: 0.220.. Test Loss: 0.142.. Time: 0.04m\n"
     ]
    },
    {
     "name": "stderr",
     "output_type": "stream",
     "text": [
      "100%|██████████| 107/107 [00:01<00:00, 66.41it/s]\n",
      "100%|██████████| 18/18 [00:00<00:00, 221.41it/s]\n",
      "100%|██████████| 53/53 [00:00<00:00, 244.22it/s]\n"
     ]
    },
    {
     "name": "stdout",
     "output_type": "stream",
     "text": [
      "Epoch:706/1000.. Train Loss: 0.017.. Val Loss: 0.195.. Test Loss: 0.150.. Time: 0.03m\n"
     ]
    },
    {
     "name": "stderr",
     "output_type": "stream",
     "text": [
      "100%|██████████| 107/107 [00:01<00:00, 55.48it/s]\n",
      "100%|██████████| 18/18 [00:00<00:00, 223.26it/s]\n",
      "100%|██████████| 53/53 [00:00<00:00, 239.25it/s]\n"
     ]
    },
    {
     "name": "stdout",
     "output_type": "stream",
     "text": [
      "Epoch:707/1000.. Train Loss: 0.017.. Val Loss: 0.209.. Test Loss: 0.145.. Time: 0.04m\n"
     ]
    },
    {
     "name": "stderr",
     "output_type": "stream",
     "text": [
      "100%|██████████| 107/107 [00:01<00:00, 54.30it/s]\n",
      "100%|██████████| 18/18 [00:00<00:00, 255.05it/s]\n",
      "100%|██████████| 53/53 [00:00<00:00, 249.60it/s]\n"
     ]
    },
    {
     "name": "stdout",
     "output_type": "stream",
     "text": [
      "Epoch:708/1000.. Train Loss: 0.021.. Val Loss: 0.206.. Test Loss: 0.141.. Time: 0.04m\n"
     ]
    },
    {
     "name": "stderr",
     "output_type": "stream",
     "text": [
      "100%|██████████| 107/107 [00:01<00:00, 55.95it/s]\n",
      "100%|██████████| 18/18 [00:00<00:00, 244.41it/s]\n",
      "100%|██████████| 53/53 [00:00<00:00, 249.47it/s]\n"
     ]
    },
    {
     "name": "stdout",
     "output_type": "stream",
     "text": [
      "Epoch:709/1000.. Train Loss: 0.021.. Val Loss: 0.224.. Test Loss: 0.140.. Time: 0.04m\n"
     ]
    },
    {
     "name": "stderr",
     "output_type": "stream",
     "text": [
      "100%|██████████| 107/107 [00:01<00:00, 57.22it/s]\n",
      "100%|██████████| 18/18 [00:00<00:00, 240.48it/s]\n",
      "100%|██████████| 53/53 [00:00<00:00, 243.27it/s]\n"
     ]
    },
    {
     "name": "stdout",
     "output_type": "stream",
     "text": [
      "Epoch:710/1000.. Train Loss: 0.015.. Val Loss: 0.218.. Test Loss: 0.143.. Time: 0.04m\n"
     ]
    },
    {
     "name": "stderr",
     "output_type": "stream",
     "text": [
      "100%|██████████| 107/107 [00:01<00:00, 55.85it/s]\n",
      "100%|██████████| 18/18 [00:00<00:00, 192.83it/s]\n",
      "100%|██████████| 53/53 [00:00<00:00, 209.62it/s]\n"
     ]
    },
    {
     "name": "stdout",
     "output_type": "stream",
     "text": [
      "Epoch:711/1000.. Train Loss: 0.016.. Val Loss: 0.216.. Test Loss: 0.146.. Time: 0.04m\n"
     ]
    },
    {
     "name": "stderr",
     "output_type": "stream",
     "text": [
      "100%|██████████| 107/107 [00:01<00:00, 55.27it/s]\n",
      "100%|██████████| 18/18 [00:00<00:00, 233.74it/s]\n",
      "100%|██████████| 53/53 [00:00<00:00, 250.36it/s]\n"
     ]
    },
    {
     "name": "stdout",
     "output_type": "stream",
     "text": [
      "Epoch:712/1000.. Train Loss: 0.021.. Val Loss: 0.231.. Test Loss: 0.147.. Time: 0.04m\n"
     ]
    },
    {
     "name": "stderr",
     "output_type": "stream",
     "text": [
      "100%|██████████| 107/107 [00:01<00:00, 59.72it/s]\n",
      "100%|██████████| 18/18 [00:00<00:00, 202.48it/s]\n",
      "100%|██████████| 53/53 [00:00<00:00, 219.17it/s]\n"
     ]
    },
    {
     "name": "stdout",
     "output_type": "stream",
     "text": [
      "Epoch:713/1000.. Train Loss: 0.017.. Val Loss: 0.259.. Test Loss: 0.149.. Time: 0.04m\n"
     ]
    },
    {
     "name": "stderr",
     "output_type": "stream",
     "text": [
      "100%|██████████| 107/107 [00:01<00:00, 59.88it/s]\n",
      "100%|██████████| 18/18 [00:00<00:00, 248.33it/s]\n",
      "100%|██████████| 53/53 [00:00<00:00, 252.51it/s]\n"
     ]
    },
    {
     "name": "stdout",
     "output_type": "stream",
     "text": [
      "Epoch:714/1000.. Train Loss: 0.017.. Val Loss: 0.235.. Test Loss: 0.149.. Time: 0.03m\n"
     ]
    },
    {
     "name": "stderr",
     "output_type": "stream",
     "text": [
      "100%|██████████| 107/107 [00:01<00:00, 58.60it/s]\n",
      "100%|██████████| 18/18 [00:00<00:00, 243.75it/s]\n",
      "100%|██████████| 53/53 [00:00<00:00, 245.66it/s]\n"
     ]
    },
    {
     "name": "stdout",
     "output_type": "stream",
     "text": [
      "Epoch:715/1000.. Train Loss: 0.018.. Val Loss: 0.250.. Test Loss: 0.149.. Time: 0.04m\n"
     ]
    },
    {
     "name": "stderr",
     "output_type": "stream",
     "text": [
      "100%|██████████| 107/107 [00:01<00:00, 57.90it/s]\n",
      "100%|██████████| 18/18 [00:00<00:00, 216.06it/s]\n",
      "100%|██████████| 53/53 [00:00<00:00, 249.36it/s]\n"
     ]
    },
    {
     "name": "stdout",
     "output_type": "stream",
     "text": [
      "Epoch:716/1000.. Train Loss: 0.015.. Val Loss: 0.218.. Test Loss: 0.144.. Time: 0.04m\n"
     ]
    },
    {
     "name": "stderr",
     "output_type": "stream",
     "text": [
      "100%|██████████| 107/107 [00:01<00:00, 54.30it/s]\n",
      "100%|██████████| 18/18 [00:00<00:00, 248.56it/s]\n",
      "100%|██████████| 53/53 [00:00<00:00, 247.13it/s]\n"
     ]
    },
    {
     "name": "stdout",
     "output_type": "stream",
     "text": [
      "Epoch:717/1000.. Train Loss: 0.019.. Val Loss: 0.254.. Test Loss: 0.147.. Time: 0.04m\n"
     ]
    },
    {
     "name": "stderr",
     "output_type": "stream",
     "text": [
      "100%|██████████| 107/107 [00:01<00:00, 67.61it/s]\n",
      "100%|██████████| 18/18 [00:00<00:00, 244.26it/s]\n",
      "100%|██████████| 53/53 [00:00<00:00, 248.10it/s]\n"
     ]
    },
    {
     "name": "stdout",
     "output_type": "stream",
     "text": [
      "Epoch:718/1000.. Train Loss: 0.020.. Val Loss: 0.245.. Test Loss: 0.154.. Time: 0.03m\n"
     ]
    },
    {
     "name": "stderr",
     "output_type": "stream",
     "text": [
      "100%|██████████| 107/107 [00:01<00:00, 64.67it/s]\n",
      "100%|██████████| 18/18 [00:00<00:00, 245.28it/s]\n",
      "100%|██████████| 53/53 [00:00<00:00, 238.75it/s]\n"
     ]
    },
    {
     "name": "stdout",
     "output_type": "stream",
     "text": [
      "Epoch:719/1000.. Train Loss: 0.018.. Val Loss: 0.242.. Test Loss: 0.146.. Time: 0.03m\n"
     ]
    },
    {
     "name": "stderr",
     "output_type": "stream",
     "text": [
      "100%|██████████| 107/107 [00:01<00:00, 58.84it/s]\n",
      "100%|██████████| 18/18 [00:00<00:00, 221.37it/s]\n",
      "100%|██████████| 53/53 [00:00<00:00, 232.62it/s]\n"
     ]
    },
    {
     "name": "stdout",
     "output_type": "stream",
     "text": [
      "Epoch:720/1000.. Train Loss: 0.020.. Val Loss: 0.211.. Test Loss: 0.140.. Time: 0.04m\n"
     ]
    },
    {
     "name": "stderr",
     "output_type": "stream",
     "text": [
      "100%|██████████| 107/107 [00:01<00:00, 55.30it/s]\n",
      "100%|██████████| 18/18 [00:00<00:00, 220.41it/s]\n",
      "100%|██████████| 53/53 [00:00<00:00, 240.92it/s]\n"
     ]
    },
    {
     "name": "stdout",
     "output_type": "stream",
     "text": [
      "Epoch:721/1000.. Train Loss: 0.018.. Val Loss: 0.223.. Test Loss: 0.143.. Time: 0.04m\n"
     ]
    },
    {
     "name": "stderr",
     "output_type": "stream",
     "text": [
      "100%|██████████| 107/107 [00:01<00:00, 65.56it/s]\n",
      "100%|██████████| 18/18 [00:00<00:00, 245.35it/s]\n",
      "100%|██████████| 53/53 [00:00<00:00, 239.93it/s]\n"
     ]
    },
    {
     "name": "stdout",
     "output_type": "stream",
     "text": [
      "Epoch:722/1000.. Train Loss: 0.018.. Val Loss: 0.228.. Test Loss: 0.153.. Time: 0.03m\n"
     ]
    },
    {
     "name": "stderr",
     "output_type": "stream",
     "text": [
      "100%|██████████| 107/107 [00:01<00:00, 65.38it/s]\n",
      "100%|██████████| 18/18 [00:00<00:00, 224.09it/s]\n",
      "100%|██████████| 53/53 [00:00<00:00, 238.73it/s]\n"
     ]
    },
    {
     "name": "stdout",
     "output_type": "stream",
     "text": [
      "Epoch:723/1000.. Train Loss: 0.018.. Val Loss: 0.238.. Test Loss: 0.140.. Time: 0.03m\n"
     ]
    },
    {
     "name": "stderr",
     "output_type": "stream",
     "text": [
      "100%|██████████| 107/107 [00:01<00:00, 61.91it/s]\n",
      "100%|██████████| 18/18 [00:00<00:00, 242.94it/s]\n",
      "100%|██████████| 53/53 [00:00<00:00, 249.81it/s]\n"
     ]
    },
    {
     "name": "stdout",
     "output_type": "stream",
     "text": [
      "Epoch:724/1000.. Train Loss: 0.016.. Val Loss: 0.244.. Test Loss: 0.144.. Time: 0.03m\n"
     ]
    },
    {
     "name": "stderr",
     "output_type": "stream",
     "text": [
      "100%|██████████| 107/107 [00:01<00:00, 54.62it/s]\n",
      "100%|██████████| 18/18 [00:00<00:00, 247.98it/s]\n",
      "100%|██████████| 53/53 [00:00<00:00, 247.09it/s]\n"
     ]
    },
    {
     "name": "stdout",
     "output_type": "stream",
     "text": [
      "Epoch:725/1000.. Train Loss: 0.020.. Val Loss: 0.223.. Test Loss: 0.145.. Time: 0.04m\n"
     ]
    },
    {
     "name": "stderr",
     "output_type": "stream",
     "text": [
      "100%|██████████| 107/107 [00:01<00:00, 61.33it/s]\n",
      "100%|██████████| 18/18 [00:00<00:00, 249.48it/s]\n",
      "100%|██████████| 53/53 [00:00<00:00, 244.82it/s]\n"
     ]
    },
    {
     "name": "stdout",
     "output_type": "stream",
     "text": [
      "Epoch:726/1000.. Train Loss: 0.019.. Val Loss: 0.231.. Test Loss: 0.146.. Time: 0.03m\n"
     ]
    },
    {
     "name": "stderr",
     "output_type": "stream",
     "text": [
      "100%|██████████| 107/107 [00:01<00:00, 61.35it/s]\n",
      "100%|██████████| 18/18 [00:00<00:00, 180.80it/s]\n",
      "100%|██████████| 53/53 [00:00<00:00, 218.63it/s]\n"
     ]
    },
    {
     "name": "stdout",
     "output_type": "stream",
     "text": [
      "Epoch:727/1000.. Train Loss: 0.019.. Val Loss: 0.228.. Test Loss: 0.147.. Time: 0.03m\n"
     ]
    },
    {
     "name": "stderr",
     "output_type": "stream",
     "text": [
      "100%|██████████| 107/107 [00:02<00:00, 53.25it/s]\n",
      "100%|██████████| 18/18 [00:00<00:00, 225.44it/s]\n",
      "100%|██████████| 53/53 [00:00<00:00, 257.80it/s]\n"
     ]
    },
    {
     "name": "stdout",
     "output_type": "stream",
     "text": [
      "Epoch:728/1000.. Train Loss: 0.017.. Val Loss: 0.215.. Test Loss: 0.144.. Time: 0.04m\n"
     ]
    },
    {
     "name": "stderr",
     "output_type": "stream",
     "text": [
      "100%|██████████| 107/107 [00:02<00:00, 52.60it/s]\n",
      "100%|██████████| 18/18 [00:00<00:00, 249.00it/s]\n",
      "100%|██████████| 53/53 [00:00<00:00, 244.00it/s]\n"
     ]
    },
    {
     "name": "stdout",
     "output_type": "stream",
     "text": [
      "Epoch:729/1000.. Train Loss: 0.017.. Val Loss: 0.223.. Test Loss: 0.150.. Time: 0.04m\n"
     ]
    },
    {
     "name": "stderr",
     "output_type": "stream",
     "text": [
      "100%|██████████| 107/107 [00:01<00:00, 56.94it/s]\n",
      "100%|██████████| 18/18 [00:00<00:00, 236.25it/s]\n",
      "100%|██████████| 53/53 [00:00<00:00, 236.38it/s]\n"
     ]
    },
    {
     "name": "stdout",
     "output_type": "stream",
     "text": [
      "Epoch:730/1000.. Train Loss: 0.017.. Val Loss: 0.256.. Test Loss: 0.153.. Time: 0.04m\n"
     ]
    },
    {
     "name": "stderr",
     "output_type": "stream",
     "text": [
      "100%|██████████| 107/107 [00:01<00:00, 57.50it/s]\n",
      "100%|██████████| 18/18 [00:00<00:00, 209.77it/s]\n",
      "100%|██████████| 53/53 [00:00<00:00, 224.49it/s]\n"
     ]
    },
    {
     "name": "stdout",
     "output_type": "stream",
     "text": [
      "Epoch:731/1000.. Train Loss: 0.017.. Val Loss: 0.242.. Test Loss: 0.148.. Time: 0.04m\n"
     ]
    },
    {
     "name": "stderr",
     "output_type": "stream",
     "text": [
      "100%|██████████| 107/107 [00:01<00:00, 55.15it/s]\n",
      "100%|██████████| 18/18 [00:00<00:00, 245.75it/s]\n",
      "100%|██████████| 53/53 [00:00<00:00, 246.37it/s]\n"
     ]
    },
    {
     "name": "stdout",
     "output_type": "stream",
     "text": [
      "Epoch:732/1000.. Train Loss: 0.018.. Val Loss: 0.252.. Test Loss: 0.151.. Time: 0.04m\n"
     ]
    },
    {
     "name": "stderr",
     "output_type": "stream",
     "text": [
      "100%|██████████| 107/107 [00:01<00:00, 56.64it/s]\n",
      "100%|██████████| 18/18 [00:00<00:00, 255.85it/s]\n",
      "100%|██████████| 53/53 [00:00<00:00, 247.06it/s]\n"
     ]
    },
    {
     "name": "stdout",
     "output_type": "stream",
     "text": [
      "Epoch:733/1000.. Train Loss: 0.017.. Val Loss: 0.230.. Test Loss: 0.141.. Time: 0.04m\n"
     ]
    },
    {
     "name": "stderr",
     "output_type": "stream",
     "text": [
      "100%|██████████| 107/107 [00:01<00:00, 58.70it/s]\n",
      "100%|██████████| 18/18 [00:00<00:00, 252.82it/s]\n",
      "100%|██████████| 53/53 [00:00<00:00, 217.82it/s]\n"
     ]
    },
    {
     "name": "stdout",
     "output_type": "stream",
     "text": [
      "Epoch:734/1000.. Train Loss: 0.019.. Val Loss: 0.227.. Test Loss: 0.142.. Time: 0.04m\n"
     ]
    },
    {
     "name": "stderr",
     "output_type": "stream",
     "text": [
      "100%|██████████| 107/107 [00:01<00:00, 58.91it/s]\n",
      "100%|██████████| 18/18 [00:00<00:00, 227.64it/s]\n",
      "100%|██████████| 53/53 [00:00<00:00, 240.90it/s]\n"
     ]
    },
    {
     "name": "stdout",
     "output_type": "stream",
     "text": [
      "Epoch:735/1000.. Train Loss: 0.017.. Val Loss: 0.262.. Test Loss: 0.153.. Time: 0.04m\n"
     ]
    },
    {
     "name": "stderr",
     "output_type": "stream",
     "text": [
      "100%|██████████| 107/107 [00:01<00:00, 55.55it/s]\n",
      "100%|██████████| 18/18 [00:00<00:00, 250.61it/s]\n",
      "100%|██████████| 53/53 [00:00<00:00, 240.63it/s]\n"
     ]
    },
    {
     "name": "stdout",
     "output_type": "stream",
     "text": [
      "Epoch:736/1000.. Train Loss: 0.016.. Val Loss: 0.258.. Test Loss: 0.158.. Time: 0.04m\n"
     ]
    },
    {
     "name": "stderr",
     "output_type": "stream",
     "text": [
      "100%|██████████| 107/107 [00:01<00:00, 60.77it/s]\n",
      "100%|██████████| 18/18 [00:00<00:00, 230.47it/s]\n",
      "100%|██████████| 53/53 [00:00<00:00, 217.07it/s]\n"
     ]
    },
    {
     "name": "stdout",
     "output_type": "stream",
     "text": [
      "Epoch:737/1000.. Train Loss: 0.016.. Val Loss: 0.248.. Test Loss: 0.150.. Time: 0.03m\n"
     ]
    },
    {
     "name": "stderr",
     "output_type": "stream",
     "text": [
      "100%|██████████| 107/107 [00:01<00:00, 53.90it/s]\n",
      "100%|██████████| 18/18 [00:00<00:00, 261.27it/s]\n",
      "100%|██████████| 53/53 [00:00<00:00, 250.84it/s]\n"
     ]
    },
    {
     "name": "stdout",
     "output_type": "stream",
     "text": [
      "Epoch:738/1000.. Train Loss: 0.015.. Val Loss: 0.238.. Test Loss: 0.147.. Time: 0.04m\n"
     ]
    },
    {
     "name": "stderr",
     "output_type": "stream",
     "text": [
      "100%|██████████| 107/107 [00:01<00:00, 58.99it/s]\n",
      "100%|██████████| 18/18 [00:00<00:00, 251.85it/s]\n",
      "100%|██████████| 53/53 [00:00<00:00, 247.55it/s]\n"
     ]
    },
    {
     "name": "stdout",
     "output_type": "stream",
     "text": [
      "Epoch:739/1000.. Train Loss: 0.016.. Val Loss: 0.237.. Test Loss: 0.154.. Time: 0.04m\n"
     ]
    },
    {
     "name": "stderr",
     "output_type": "stream",
     "text": [
      "100%|██████████| 107/107 [00:01<00:00, 57.42it/s]\n",
      "100%|██████████| 18/18 [00:00<00:00, 235.25it/s]\n",
      "100%|██████████| 53/53 [00:00<00:00, 240.83it/s]\n"
     ]
    },
    {
     "name": "stdout",
     "output_type": "stream",
     "text": [
      "Epoch:740/1000.. Train Loss: 0.016.. Val Loss: 0.243.. Test Loss: 0.151.. Time: 0.04m\n"
     ]
    },
    {
     "name": "stderr",
     "output_type": "stream",
     "text": [
      "100%|██████████| 107/107 [00:01<00:00, 58.89it/s]\n",
      "100%|██████████| 18/18 [00:00<00:00, 249.87it/s]\n",
      "100%|██████████| 53/53 [00:00<00:00, 229.38it/s]\n"
     ]
    },
    {
     "name": "stdout",
     "output_type": "stream",
     "text": [
      "Epoch:741/1000.. Train Loss: 0.017.. Val Loss: 0.256.. Test Loss: 0.148.. Time: 0.04m\n"
     ]
    },
    {
     "name": "stderr",
     "output_type": "stream",
     "text": [
      "100%|██████████| 107/107 [00:01<00:00, 54.91it/s]\n",
      "100%|██████████| 18/18 [00:00<00:00, 208.40it/s]\n",
      "100%|██████████| 53/53 [00:00<00:00, 232.54it/s]\n"
     ]
    },
    {
     "name": "stdout",
     "output_type": "stream",
     "text": [
      "Epoch:742/1000.. Train Loss: 0.017.. Val Loss: 0.233.. Test Loss: 0.143.. Time: 0.04m\n"
     ]
    },
    {
     "name": "stderr",
     "output_type": "stream",
     "text": [
      "100%|██████████| 107/107 [00:01<00:00, 63.84it/s]\n",
      "100%|██████████| 18/18 [00:00<00:00, 253.47it/s]\n",
      "100%|██████████| 53/53 [00:00<00:00, 251.39it/s]\n"
     ]
    },
    {
     "name": "stdout",
     "output_type": "stream",
     "text": [
      "Epoch:743/1000.. Train Loss: 0.016.. Val Loss: 0.241.. Test Loss: 0.143.. Time: 0.03m\n"
     ]
    },
    {
     "name": "stderr",
     "output_type": "stream",
     "text": [
      "100%|██████████| 107/107 [00:01<00:00, 54.48it/s]\n",
      "100%|██████████| 18/18 [00:00<00:00, 169.49it/s]\n",
      "100%|██████████| 53/53 [00:00<00:00, 244.06it/s]\n"
     ]
    },
    {
     "name": "stdout",
     "output_type": "stream",
     "text": [
      "Epoch:744/1000.. Train Loss: 0.021.. Val Loss: 0.221.. Test Loss: 0.143.. Time: 0.04m\n"
     ]
    },
    {
     "name": "stderr",
     "output_type": "stream",
     "text": [
      "100%|██████████| 107/107 [00:01<00:00, 54.21it/s]\n",
      "100%|██████████| 18/18 [00:00<00:00, 255.15it/s]\n",
      "100%|██████████| 53/53 [00:00<00:00, 247.80it/s]\n"
     ]
    },
    {
     "name": "stdout",
     "output_type": "stream",
     "text": [
      "Epoch:745/1000.. Train Loss: 0.014.. Val Loss: 0.244.. Test Loss: 0.150.. Time: 0.04m\n"
     ]
    },
    {
     "name": "stderr",
     "output_type": "stream",
     "text": [
      "100%|██████████| 107/107 [00:01<00:00, 56.77it/s]\n",
      "100%|██████████| 18/18 [00:00<00:00, 239.62it/s]\n",
      "100%|██████████| 53/53 [00:00<00:00, 236.92it/s]\n"
     ]
    },
    {
     "name": "stdout",
     "output_type": "stream",
     "text": [
      "Epoch:746/1000.. Train Loss: 0.017.. Val Loss: 0.244.. Test Loss: 0.152.. Time: 0.04m\n"
     ]
    },
    {
     "name": "stderr",
     "output_type": "stream",
     "text": [
      "100%|██████████| 107/107 [00:01<00:00, 58.90it/s]\n",
      "100%|██████████| 18/18 [00:00<00:00, 244.47it/s]\n",
      "100%|██████████| 53/53 [00:00<00:00, 239.50it/s]\n"
     ]
    },
    {
     "name": "stdout",
     "output_type": "stream",
     "text": [
      "Epoch:747/1000.. Train Loss: 0.021.. Val Loss: 0.243.. Test Loss: 0.146.. Time: 0.04m\n"
     ]
    },
    {
     "name": "stderr",
     "output_type": "stream",
     "text": [
      "100%|██████████| 107/107 [00:01<00:00, 55.33it/s]\n",
      "100%|██████████| 18/18 [00:00<00:00, 222.25it/s]\n",
      "100%|██████████| 53/53 [00:00<00:00, 235.65it/s]\n"
     ]
    },
    {
     "name": "stdout",
     "output_type": "stream",
     "text": [
      "Epoch:748/1000.. Train Loss: 0.015.. Val Loss: 0.232.. Test Loss: 0.147.. Time: 0.04m\n"
     ]
    },
    {
     "name": "stderr",
     "output_type": "stream",
     "text": [
      "100%|██████████| 107/107 [00:01<00:00, 61.63it/s]\n",
      "100%|██████████| 18/18 [00:00<00:00, 251.72it/s]\n",
      "100%|██████████| 53/53 [00:00<00:00, 234.72it/s]\n"
     ]
    },
    {
     "name": "stdout",
     "output_type": "stream",
     "text": [
      "Epoch:749/1000.. Train Loss: 0.017.. Val Loss: 0.241.. Test Loss: 0.148.. Time: 0.03m\n"
     ]
    },
    {
     "name": "stderr",
     "output_type": "stream",
     "text": [
      "100%|██████████| 107/107 [00:01<00:00, 56.20it/s]\n",
      "100%|██████████| 18/18 [00:00<00:00, 247.40it/s]\n",
      "100%|██████████| 53/53 [00:00<00:00, 236.18it/s]\n"
     ]
    },
    {
     "name": "stdout",
     "output_type": "stream",
     "text": [
      "Epoch:750/1000.. Train Loss: 0.019.. Val Loss: 0.235.. Test Loss: 0.144.. Time: 0.04m\n"
     ]
    },
    {
     "name": "stderr",
     "output_type": "stream",
     "text": [
      "100%|██████████| 107/107 [00:01<00:00, 55.38it/s]\n",
      "100%|██████████| 18/18 [00:00<00:00, 250.76it/s]\n",
      "100%|██████████| 53/53 [00:00<00:00, 238.53it/s]\n"
     ]
    },
    {
     "name": "stdout",
     "output_type": "stream",
     "text": [
      "Epoch:751/1000.. Train Loss: 0.020.. Val Loss: 0.242.. Test Loss: 0.148.. Time: 0.04m\n"
     ]
    },
    {
     "name": "stderr",
     "output_type": "stream",
     "text": [
      "100%|██████████| 107/107 [00:01<00:00, 60.07it/s]\n",
      "100%|██████████| 18/18 [00:00<00:00, 241.83it/s]\n",
      "100%|██████████| 53/53 [00:00<00:00, 249.23it/s]\n"
     ]
    },
    {
     "name": "stdout",
     "output_type": "stream",
     "text": [
      "Epoch:752/1000.. Train Loss: 0.017.. Val Loss: 0.232.. Test Loss: 0.150.. Time: 0.03m\n"
     ]
    },
    {
     "name": "stderr",
     "output_type": "stream",
     "text": [
      "100%|██████████| 107/107 [00:01<00:00, 58.06it/s]\n",
      "100%|██████████| 18/18 [00:00<00:00, 235.25it/s]\n",
      "100%|██████████| 53/53 [00:00<00:00, 225.19it/s]\n"
     ]
    },
    {
     "name": "stdout",
     "output_type": "stream",
     "text": [
      "Epoch:753/1000.. Train Loss: 0.017.. Val Loss: 0.217.. Test Loss: 0.144.. Time: 0.04m\n"
     ]
    },
    {
     "name": "stderr",
     "output_type": "stream",
     "text": [
      "100%|██████████| 107/107 [00:01<00:00, 56.79it/s]\n",
      "100%|██████████| 18/18 [00:00<00:00, 270.76it/s]\n",
      "100%|██████████| 53/53 [00:00<00:00, 251.10it/s]\n"
     ]
    },
    {
     "name": "stdout",
     "output_type": "stream",
     "text": [
      "Epoch:754/1000.. Train Loss: 0.017.. Val Loss: 0.219.. Test Loss: 0.152.. Time: 0.04m\n"
     ]
    },
    {
     "name": "stderr",
     "output_type": "stream",
     "text": [
      "100%|██████████| 107/107 [00:01<00:00, 56.67it/s]\n",
      "100%|██████████| 18/18 [00:00<00:00, 196.34it/s]\n",
      "100%|██████████| 53/53 [00:00<00:00, 247.57it/s]\n"
     ]
    },
    {
     "name": "stdout",
     "output_type": "stream",
     "text": [
      "Epoch:755/1000.. Train Loss: 0.019.. Val Loss: 0.231.. Test Loss: 0.145.. Time: 0.04m\n"
     ]
    },
    {
     "name": "stderr",
     "output_type": "stream",
     "text": [
      "100%|██████████| 107/107 [00:01<00:00, 60.83it/s]\n",
      "100%|██████████| 18/18 [00:00<00:00, 249.92it/s]\n",
      "100%|██████████| 53/53 [00:00<00:00, 254.17it/s]\n"
     ]
    },
    {
     "name": "stdout",
     "output_type": "stream",
     "text": [
      "Epoch:756/1000.. Train Loss: 0.017.. Val Loss: 0.236.. Test Loss: 0.148.. Time: 0.03m\n"
     ]
    },
    {
     "name": "stderr",
     "output_type": "stream",
     "text": [
      "100%|██████████| 107/107 [00:01<00:00, 57.47it/s]\n",
      "100%|██████████| 18/18 [00:00<00:00, 240.20it/s]\n",
      "100%|██████████| 53/53 [00:00<00:00, 251.80it/s]\n"
     ]
    },
    {
     "name": "stdout",
     "output_type": "stream",
     "text": [
      "Epoch:757/1000.. Train Loss: 0.015.. Val Loss: 0.272.. Test Loss: 0.151.. Time: 0.04m\n"
     ]
    },
    {
     "name": "stderr",
     "output_type": "stream",
     "text": [
      "100%|██████████| 107/107 [00:01<00:00, 58.17it/s]\n",
      "100%|██████████| 18/18 [00:00<00:00, 261.07it/s]\n",
      "100%|██████████| 53/53 [00:00<00:00, 256.76it/s]\n"
     ]
    },
    {
     "name": "stdout",
     "output_type": "stream",
     "text": [
      "Epoch:758/1000.. Train Loss: 0.016.. Val Loss: 0.226.. Test Loss: 0.146.. Time: 0.04m\n"
     ]
    },
    {
     "name": "stderr",
     "output_type": "stream",
     "text": [
      "100%|██████████| 107/107 [00:01<00:00, 60.73it/s]\n",
      "100%|██████████| 18/18 [00:00<00:00, 244.83it/s]\n",
      "100%|██████████| 53/53 [00:00<00:00, 255.11it/s]\n"
     ]
    },
    {
     "name": "stdout",
     "output_type": "stream",
     "text": [
      "Epoch:759/1000.. Train Loss: 0.019.. Val Loss: 0.226.. Test Loss: 0.145.. Time: 0.03m\n"
     ]
    },
    {
     "name": "stderr",
     "output_type": "stream",
     "text": [
      "100%|██████████| 107/107 [00:01<00:00, 56.70it/s]\n",
      "100%|██████████| 18/18 [00:00<00:00, 250.15it/s]\n",
      "100%|██████████| 53/53 [00:00<00:00, 248.39it/s]\n"
     ]
    },
    {
     "name": "stdout",
     "output_type": "stream",
     "text": [
      "Epoch:760/1000.. Train Loss: 0.016.. Val Loss: 0.233.. Test Loss: 0.144.. Time: 0.04m\n"
     ]
    },
    {
     "name": "stderr",
     "output_type": "stream",
     "text": [
      "100%|██████████| 107/107 [00:01<00:00, 58.81it/s]\n",
      "100%|██████████| 18/18 [00:00<00:00, 243.64it/s]\n",
      "100%|██████████| 53/53 [00:00<00:00, 248.71it/s]\n"
     ]
    },
    {
     "name": "stdout",
     "output_type": "stream",
     "text": [
      "Epoch:761/1000.. Train Loss: 0.017.. Val Loss: 0.237.. Test Loss: 0.152.. Time: 0.04m\n"
     ]
    },
    {
     "name": "stderr",
     "output_type": "stream",
     "text": [
      "100%|██████████| 107/107 [00:01<00:00, 59.96it/s]\n",
      "100%|██████████| 18/18 [00:00<00:00, 248.73it/s]\n",
      "100%|██████████| 53/53 [00:00<00:00, 223.41it/s]\n"
     ]
    },
    {
     "name": "stdout",
     "output_type": "stream",
     "text": [
      "Epoch:762/1000.. Train Loss: 0.017.. Val Loss: 0.217.. Test Loss: 0.142.. Time: 0.04m\n"
     ]
    },
    {
     "name": "stderr",
     "output_type": "stream",
     "text": [
      "100%|██████████| 107/107 [00:01<00:00, 67.80it/s]\n",
      "100%|██████████| 18/18 [00:00<00:00, 254.87it/s]\n",
      "100%|██████████| 53/53 [00:00<00:00, 243.61it/s]\n"
     ]
    },
    {
     "name": "stdout",
     "output_type": "stream",
     "text": [
      "Epoch:763/1000.. Train Loss: 0.015.. Val Loss: 0.266.. Test Loss: 0.150.. Time: 0.03m\n"
     ]
    },
    {
     "name": "stderr",
     "output_type": "stream",
     "text": [
      "100%|██████████| 107/107 [00:01<00:00, 67.18it/s]\n",
      "100%|██████████| 18/18 [00:00<00:00, 262.87it/s]\n",
      "100%|██████████| 53/53 [00:00<00:00, 243.52it/s]\n"
     ]
    },
    {
     "name": "stdout",
     "output_type": "stream",
     "text": [
      "Epoch:764/1000.. Train Loss: 0.018.. Val Loss: 0.215.. Test Loss: 0.145.. Time: 0.03m\n"
     ]
    },
    {
     "name": "stderr",
     "output_type": "stream",
     "text": [
      "100%|██████████| 107/107 [00:01<00:00, 67.99it/s]\n",
      "100%|██████████| 18/18 [00:00<00:00, 252.80it/s]\n",
      "100%|██████████| 53/53 [00:00<00:00, 195.23it/s]\n"
     ]
    },
    {
     "name": "stdout",
     "output_type": "stream",
     "text": [
      "Epoch:765/1000.. Train Loss: 0.016.. Val Loss: 0.205.. Test Loss: 0.146.. Time: 0.03m\n"
     ]
    },
    {
     "name": "stderr",
     "output_type": "stream",
     "text": [
      "100%|██████████| 107/107 [00:01<00:00, 64.06it/s]\n",
      "100%|██████████| 18/18 [00:00<00:00, 232.01it/s]\n",
      "100%|██████████| 53/53 [00:00<00:00, 238.35it/s]\n"
     ]
    },
    {
     "name": "stdout",
     "output_type": "stream",
     "text": [
      "Epoch:766/1000.. Train Loss: 0.015.. Val Loss: 0.199.. Test Loss: 0.145.. Time: 0.03m\n"
     ]
    },
    {
     "name": "stderr",
     "output_type": "stream",
     "text": [
      "100%|██████████| 107/107 [00:01<00:00, 54.69it/s]\n",
      "100%|██████████| 18/18 [00:00<00:00, 246.32it/s]\n",
      "100%|██████████| 53/53 [00:00<00:00, 241.12it/s]\n"
     ]
    },
    {
     "name": "stdout",
     "output_type": "stream",
     "text": [
      "Epoch:767/1000.. Train Loss: 0.017.. Val Loss: 0.216.. Test Loss: 0.150.. Time: 0.04m\n"
     ]
    },
    {
     "name": "stderr",
     "output_type": "stream",
     "text": [
      "100%|██████████| 107/107 [00:01<00:00, 56.99it/s]\n",
      "100%|██████████| 18/18 [00:00<00:00, 245.82it/s]\n",
      "100%|██████████| 53/53 [00:00<00:00, 243.38it/s]\n"
     ]
    },
    {
     "name": "stdout",
     "output_type": "stream",
     "text": [
      "Epoch:768/1000.. Train Loss: 0.018.. Val Loss: 0.218.. Test Loss: 0.149.. Time: 0.04m\n"
     ]
    },
    {
     "name": "stderr",
     "output_type": "stream",
     "text": [
      "100%|██████████| 107/107 [00:01<00:00, 55.26it/s]\n",
      "100%|██████████| 18/18 [00:00<00:00, 253.84it/s]\n",
      "100%|██████████| 53/53 [00:00<00:00, 244.91it/s]\n"
     ]
    },
    {
     "name": "stdout",
     "output_type": "stream",
     "text": [
      "Epoch:769/1000.. Train Loss: 0.015.. Val Loss: 0.228.. Test Loss: 0.149.. Time: 0.04m\n"
     ]
    },
    {
     "name": "stderr",
     "output_type": "stream",
     "text": [
      "100%|██████████| 107/107 [00:01<00:00, 57.25it/s]\n",
      "100%|██████████| 18/18 [00:00<00:00, 235.98it/s]\n",
      "100%|██████████| 53/53 [00:00<00:00, 231.81it/s]\n"
     ]
    },
    {
     "name": "stdout",
     "output_type": "stream",
     "text": [
      "Epoch:770/1000.. Train Loss: 0.018.. Val Loss: 0.223.. Test Loss: 0.148.. Time: 0.04m\n"
     ]
    },
    {
     "name": "stderr",
     "output_type": "stream",
     "text": [
      "100%|██████████| 107/107 [00:01<00:00, 60.62it/s]\n",
      "100%|██████████| 18/18 [00:00<00:00, 231.49it/s]\n",
      "100%|██████████| 53/53 [00:00<00:00, 233.19it/s]\n"
     ]
    },
    {
     "name": "stdout",
     "output_type": "stream",
     "text": [
      "Epoch:771/1000.. Train Loss: 0.015.. Val Loss: 0.231.. Test Loss: 0.145.. Time: 0.03m\n"
     ]
    },
    {
     "name": "stderr",
     "output_type": "stream",
     "text": [
      "100%|██████████| 107/107 [00:01<00:00, 64.11it/s]\n",
      "100%|██████████| 18/18 [00:00<00:00, 208.19it/s]\n",
      "100%|██████████| 53/53 [00:00<00:00, 223.53it/s]\n"
     ]
    },
    {
     "name": "stdout",
     "output_type": "stream",
     "text": [
      "Epoch:772/1000.. Train Loss: 0.015.. Val Loss: 0.264.. Test Loss: 0.150.. Time: 0.03m\n"
     ]
    },
    {
     "name": "stderr",
     "output_type": "stream",
     "text": [
      "100%|██████████| 107/107 [00:01<00:00, 55.98it/s]\n",
      "100%|██████████| 18/18 [00:00<00:00, 238.09it/s]\n",
      "100%|██████████| 53/53 [00:00<00:00, 239.88it/s]\n"
     ]
    },
    {
     "name": "stdout",
     "output_type": "stream",
     "text": [
      "Epoch:773/1000.. Train Loss: 0.016.. Val Loss: 0.237.. Test Loss: 0.149.. Time: 0.04m\n"
     ]
    },
    {
     "name": "stderr",
     "output_type": "stream",
     "text": [
      "100%|██████████| 107/107 [00:01<00:00, 63.82it/s]\n",
      "100%|██████████| 18/18 [00:00<00:00, 231.13it/s]\n",
      "100%|██████████| 53/53 [00:00<00:00, 239.93it/s]\n"
     ]
    },
    {
     "name": "stdout",
     "output_type": "stream",
     "text": [
      "Epoch:774/1000.. Train Loss: 0.016.. Val Loss: 0.230.. Test Loss: 0.144.. Time: 0.03m\n"
     ]
    },
    {
     "name": "stderr",
     "output_type": "stream",
     "text": [
      "100%|██████████| 107/107 [00:01<00:00, 67.07it/s]\n",
      "100%|██████████| 18/18 [00:00<00:00, 196.96it/s]\n",
      "100%|██████████| 53/53 [00:00<00:00, 232.18it/s]\n"
     ]
    },
    {
     "name": "stdout",
     "output_type": "stream",
     "text": [
      "Epoch:775/1000.. Train Loss: 0.018.. Val Loss: 0.249.. Test Loss: 0.159.. Time: 0.03m\n"
     ]
    },
    {
     "name": "stderr",
     "output_type": "stream",
     "text": [
      "100%|██████████| 107/107 [00:01<00:00, 53.72it/s]\n",
      "100%|██████████| 18/18 [00:00<00:00, 251.67it/s]\n",
      "100%|██████████| 53/53 [00:00<00:00, 228.65it/s]\n"
     ]
    },
    {
     "name": "stdout",
     "output_type": "stream",
     "text": [
      "Epoch:776/1000.. Train Loss: 0.017.. Val Loss: 0.233.. Test Loss: 0.145.. Time: 0.04m\n"
     ]
    },
    {
     "name": "stderr",
     "output_type": "stream",
     "text": [
      "100%|██████████| 107/107 [00:01<00:00, 55.78it/s]\n",
      "100%|██████████| 18/18 [00:00<00:00, 247.14it/s]\n",
      "100%|██████████| 53/53 [00:00<00:00, 250.21it/s]\n"
     ]
    },
    {
     "name": "stdout",
     "output_type": "stream",
     "text": [
      "Epoch:777/1000.. Train Loss: 0.019.. Val Loss: 0.216.. Test Loss: 0.147.. Time: 0.04m\n"
     ]
    },
    {
     "name": "stderr",
     "output_type": "stream",
     "text": [
      "100%|██████████| 107/107 [00:01<00:00, 56.93it/s]\n",
      "100%|██████████| 18/18 [00:00<00:00, 254.10it/s]\n",
      "100%|██████████| 53/53 [00:00<00:00, 250.34it/s]\n"
     ]
    },
    {
     "name": "stdout",
     "output_type": "stream",
     "text": [
      "Epoch:778/1000.. Train Loss: 0.020.. Val Loss: 0.232.. Test Loss: 0.152.. Time: 0.04m\n"
     ]
    },
    {
     "name": "stderr",
     "output_type": "stream",
     "text": [
      "100%|██████████| 107/107 [00:01<00:00, 58.17it/s]\n",
      "100%|██████████| 18/18 [00:00<00:00, 260.57it/s]\n",
      "100%|██████████| 53/53 [00:00<00:00, 245.71it/s]\n"
     ]
    },
    {
     "name": "stdout",
     "output_type": "stream",
     "text": [
      "Epoch:779/1000.. Train Loss: 0.021.. Val Loss: 0.229.. Test Loss: 0.148.. Time: 0.04m\n"
     ]
    },
    {
     "name": "stderr",
     "output_type": "stream",
     "text": [
      "100%|██████████| 107/107 [00:01<00:00, 58.36it/s]\n",
      "100%|██████████| 18/18 [00:00<00:00, 233.99it/s]\n",
      "100%|██████████| 53/53 [00:00<00:00, 242.86it/s]\n"
     ]
    },
    {
     "name": "stdout",
     "output_type": "stream",
     "text": [
      "Epoch:780/1000.. Train Loss: 0.016.. Val Loss: 0.241.. Test Loss: 0.148.. Time: 0.04m\n"
     ]
    },
    {
     "name": "stderr",
     "output_type": "stream",
     "text": [
      "100%|██████████| 107/107 [00:01<00:00, 58.13it/s]\n",
      "100%|██████████| 18/18 [00:00<00:00, 204.88it/s]\n",
      "100%|██████████| 53/53 [00:00<00:00, 205.74it/s]\n"
     ]
    },
    {
     "name": "stdout",
     "output_type": "stream",
     "text": [
      "Epoch:781/1000.. Train Loss: 0.016.. Val Loss: 0.239.. Test Loss: 0.152.. Time: 0.04m\n"
     ]
    },
    {
     "name": "stderr",
     "output_type": "stream",
     "text": [
      "100%|██████████| 107/107 [00:01<00:00, 56.43it/s]\n",
      "100%|██████████| 18/18 [00:00<00:00, 226.39it/s]\n",
      "100%|██████████| 53/53 [00:00<00:00, 244.90it/s]\n"
     ]
    },
    {
     "name": "stdout",
     "output_type": "stream",
     "text": [
      "Epoch:782/1000.. Train Loss: 0.017.. Val Loss: 0.237.. Test Loss: 0.149.. Time: 0.04m\n"
     ]
    },
    {
     "name": "stderr",
     "output_type": "stream",
     "text": [
      "100%|██████████| 107/107 [00:01<00:00, 54.61it/s]\n",
      "100%|██████████| 18/18 [00:00<00:00, 237.15it/s]\n",
      "100%|██████████| 53/53 [00:00<00:00, 250.49it/s]\n"
     ]
    },
    {
     "name": "stdout",
     "output_type": "stream",
     "text": [
      "Epoch:783/1000.. Train Loss: 0.015.. Val Loss: 0.230.. Test Loss: 0.147.. Time: 0.04m\n"
     ]
    },
    {
     "name": "stderr",
     "output_type": "stream",
     "text": [
      "100%|██████████| 107/107 [00:01<00:00, 59.31it/s]\n",
      "100%|██████████| 18/18 [00:00<00:00, 240.31it/s]\n",
      "100%|██████████| 53/53 [00:00<00:00, 258.13it/s]\n"
     ]
    },
    {
     "name": "stdout",
     "output_type": "stream",
     "text": [
      "Epoch:784/1000.. Train Loss: 0.016.. Val Loss: 0.247.. Test Loss: 0.146.. Time: 0.03m\n"
     ]
    },
    {
     "name": "stderr",
     "output_type": "stream",
     "text": [
      "100%|██████████| 107/107 [00:01<00:00, 59.16it/s]\n",
      "100%|██████████| 18/18 [00:00<00:00, 254.81it/s]\n",
      "100%|██████████| 53/53 [00:00<00:00, 243.10it/s]\n"
     ]
    },
    {
     "name": "stdout",
     "output_type": "stream",
     "text": [
      "Epoch:785/1000.. Train Loss: 0.017.. Val Loss: 0.252.. Test Loss: 0.146.. Time: 0.04m\n"
     ]
    },
    {
     "name": "stderr",
     "output_type": "stream",
     "text": [
      "100%|██████████| 107/107 [00:01<00:00, 58.94it/s]\n",
      "100%|██████████| 18/18 [00:00<00:00, 224.67it/s]\n",
      "100%|██████████| 53/53 [00:00<00:00, 234.75it/s]\n"
     ]
    },
    {
     "name": "stdout",
     "output_type": "stream",
     "text": [
      "Epoch:786/1000.. Train Loss: 0.018.. Val Loss: 0.252.. Test Loss: 0.151.. Time: 0.04m\n"
     ]
    },
    {
     "name": "stderr",
     "output_type": "stream",
     "text": [
      "100%|██████████| 107/107 [00:01<00:00, 59.09it/s]\n",
      "100%|██████████| 18/18 [00:00<00:00, 233.71it/s]\n",
      "100%|██████████| 53/53 [00:00<00:00, 236.30it/s]\n"
     ]
    },
    {
     "name": "stdout",
     "output_type": "stream",
     "text": [
      "Epoch:787/1000.. Train Loss: 0.015.. Val Loss: 0.244.. Test Loss: 0.146.. Time: 0.04m\n"
     ]
    },
    {
     "name": "stderr",
     "output_type": "stream",
     "text": [
      "100%|██████████| 107/107 [00:01<00:00, 63.53it/s]\n",
      "100%|██████████| 18/18 [00:00<00:00, 234.57it/s]\n",
      "100%|██████████| 53/53 [00:00<00:00, 297.00it/s]\n"
     ]
    },
    {
     "name": "stdout",
     "output_type": "stream",
     "text": [
      "Epoch:788/1000.. Train Loss: 0.016.. Val Loss: 0.238.. Test Loss: 0.144.. Time: 0.03m\n"
     ]
    },
    {
     "name": "stderr",
     "output_type": "stream",
     "text": [
      "100%|██████████| 107/107 [00:01<00:00, 55.38it/s]\n",
      "100%|██████████| 18/18 [00:00<00:00, 241.46it/s]\n",
      "100%|██████████| 53/53 [00:00<00:00, 221.55it/s]\n"
     ]
    },
    {
     "name": "stdout",
     "output_type": "stream",
     "text": [
      "Epoch:789/1000.. Train Loss: 0.019.. Val Loss: 0.240.. Test Loss: 0.146.. Time: 0.04m\n"
     ]
    },
    {
     "name": "stderr",
     "output_type": "stream",
     "text": [
      "100%|██████████| 107/107 [00:01<00:00, 58.62it/s]\n",
      "100%|██████████| 18/18 [00:00<00:00, 235.78it/s]\n",
      "100%|██████████| 53/53 [00:00<00:00, 252.69it/s]\n"
     ]
    },
    {
     "name": "stdout",
     "output_type": "stream",
     "text": [
      "Epoch:790/1000.. Train Loss: 0.016.. Val Loss: 0.228.. Test Loss: 0.146.. Time: 0.04m\n"
     ]
    },
    {
     "name": "stderr",
     "output_type": "stream",
     "text": [
      "100%|██████████| 107/107 [00:01<00:00, 57.57it/s]\n",
      "100%|██████████| 18/18 [00:00<00:00, 199.76it/s]\n",
      "100%|██████████| 53/53 [00:00<00:00, 246.53it/s]\n"
     ]
    },
    {
     "name": "stdout",
     "output_type": "stream",
     "text": [
      "Epoch:791/1000.. Train Loss: 0.018.. Val Loss: 0.228.. Test Loss: 0.145.. Time: 0.04m\n"
     ]
    },
    {
     "name": "stderr",
     "output_type": "stream",
     "text": [
      "100%|██████████| 107/107 [00:01<00:00, 55.48it/s]\n",
      "100%|██████████| 18/18 [00:00<00:00, 247.12it/s]\n",
      "100%|██████████| 53/53 [00:00<00:00, 253.78it/s]\n"
     ]
    },
    {
     "name": "stdout",
     "output_type": "stream",
     "text": [
      "Epoch:792/1000.. Train Loss: 0.017.. Val Loss: 0.236.. Test Loss: 0.144.. Time: 0.04m\n"
     ]
    },
    {
     "name": "stderr",
     "output_type": "stream",
     "text": [
      "100%|██████████| 107/107 [00:01<00:00, 53.67it/s]\n",
      "100%|██████████| 18/18 [00:00<00:00, 274.60it/s]\n",
      "100%|██████████| 53/53 [00:00<00:00, 246.59it/s]\n"
     ]
    },
    {
     "name": "stdout",
     "output_type": "stream",
     "text": [
      "Epoch:793/1000.. Train Loss: 0.017.. Val Loss: 0.246.. Test Loss: 0.145.. Time: 0.04m\n"
     ]
    },
    {
     "name": "stderr",
     "output_type": "stream",
     "text": [
      "100%|██████████| 107/107 [00:01<00:00, 55.07it/s]\n",
      "100%|██████████| 18/18 [00:00<00:00, 242.39it/s]\n",
      "100%|██████████| 53/53 [00:00<00:00, 242.53it/s]\n"
     ]
    },
    {
     "name": "stdout",
     "output_type": "stream",
     "text": [
      "Epoch:794/1000.. Train Loss: 0.018.. Val Loss: 0.243.. Test Loss: 0.147.. Time: 0.04m\n"
     ]
    },
    {
     "name": "stderr",
     "output_type": "stream",
     "text": [
      "100%|██████████| 107/107 [00:01<00:00, 61.31it/s]\n",
      "100%|██████████| 18/18 [00:00<00:00, 204.53it/s]\n",
      "100%|██████████| 53/53 [00:00<00:00, 222.55it/s]\n"
     ]
    },
    {
     "name": "stdout",
     "output_type": "stream",
     "text": [
      "Epoch:795/1000.. Train Loss: 0.015.. Val Loss: 0.294.. Test Loss: 0.145.. Time: 0.03m\n"
     ]
    },
    {
     "name": "stderr",
     "output_type": "stream",
     "text": [
      "100%|██████████| 107/107 [00:02<00:00, 52.53it/s]\n",
      "100%|██████████| 18/18 [00:00<00:00, 246.97it/s]\n",
      "100%|██████████| 53/53 [00:00<00:00, 213.76it/s]\n"
     ]
    },
    {
     "name": "stdout",
     "output_type": "stream",
     "text": [
      "Epoch:796/1000.. Train Loss: 0.016.. Val Loss: 0.275.. Test Loss: 0.146.. Time: 0.04m\n"
     ]
    },
    {
     "name": "stderr",
     "output_type": "stream",
     "text": [
      "100%|██████████| 107/107 [00:01<00:00, 55.17it/s]\n",
      "100%|██████████| 18/18 [00:00<00:00, 233.12it/s]\n",
      "100%|██████████| 53/53 [00:00<00:00, 223.82it/s]\n"
     ]
    },
    {
     "name": "stdout",
     "output_type": "stream",
     "text": [
      "Epoch:797/1000.. Train Loss: 0.019.. Val Loss: 0.245.. Test Loss: 0.139.. Time: 0.04m\n"
     ]
    },
    {
     "name": "stderr",
     "output_type": "stream",
     "text": [
      "100%|██████████| 107/107 [00:01<00:00, 57.65it/s]\n",
      "100%|██████████| 18/18 [00:00<00:00, 244.52it/s]\n",
      "100%|██████████| 53/53 [00:00<00:00, 246.76it/s]\n"
     ]
    },
    {
     "name": "stdout",
     "output_type": "stream",
     "text": [
      "Epoch:798/1000.. Train Loss: 0.018.. Val Loss: 0.237.. Test Loss: 0.142.. Time: 0.04m\n"
     ]
    },
    {
     "name": "stderr",
     "output_type": "stream",
     "text": [
      "100%|██████████| 107/107 [00:01<00:00, 57.48it/s]\n",
      "100%|██████████| 18/18 [00:00<00:00, 245.25it/s]\n",
      "100%|██████████| 53/53 [00:00<00:00, 242.27it/s]\n"
     ]
    },
    {
     "name": "stdout",
     "output_type": "stream",
     "text": [
      "Epoch:799/1000.. Train Loss: 0.017.. Val Loss: 0.240.. Test Loss: 0.146.. Time: 0.04m\n"
     ]
    },
    {
     "name": "stderr",
     "output_type": "stream",
     "text": [
      "100%|██████████| 107/107 [00:01<00:00, 55.36it/s]\n",
      "100%|██████████| 18/18 [00:00<00:00, 254.59it/s]\n",
      "100%|██████████| 53/53 [00:00<00:00, 247.83it/s]\n"
     ]
    },
    {
     "name": "stdout",
     "output_type": "stream",
     "text": [
      "Epoch:800/1000.. Train Loss: 0.015.. Val Loss: 0.277.. Test Loss: 0.147.. Time: 0.04m\n"
     ]
    },
    {
     "name": "stderr",
     "output_type": "stream",
     "text": [
      "100%|██████████| 107/107 [00:01<00:00, 55.58it/s]\n",
      "100%|██████████| 18/18 [00:00<00:00, 231.07it/s]\n",
      "100%|██████████| 53/53 [00:00<00:00, 229.84it/s]\n"
     ]
    },
    {
     "name": "stdout",
     "output_type": "stream",
     "text": [
      "Epoch:801/1000.. Train Loss: 0.017.. Val Loss: 0.247.. Test Loss: 0.147.. Time: 0.04m\n"
     ]
    },
    {
     "name": "stderr",
     "output_type": "stream",
     "text": [
      "100%|██████████| 107/107 [00:01<00:00, 58.68it/s]\n",
      "100%|██████████| 18/18 [00:00<00:00, 233.12it/s]\n",
      "100%|██████████| 53/53 [00:00<00:00, 254.85it/s]\n"
     ]
    },
    {
     "name": "stdout",
     "output_type": "stream",
     "text": [
      "Epoch:802/1000.. Train Loss: 0.017.. Val Loss: 0.241.. Test Loss: 0.145.. Time: 0.04m\n"
     ]
    },
    {
     "name": "stderr",
     "output_type": "stream",
     "text": [
      "100%|██████████| 107/107 [00:01<00:00, 57.10it/s]\n",
      "100%|██████████| 18/18 [00:00<00:00, 236.77it/s]\n",
      "100%|██████████| 53/53 [00:00<00:00, 236.83it/s]\n"
     ]
    },
    {
     "name": "stdout",
     "output_type": "stream",
     "text": [
      "Epoch:803/1000.. Train Loss: 0.019.. Val Loss: 0.229.. Test Loss: 0.136.. Time: 0.04m\n"
     ]
    },
    {
     "name": "stderr",
     "output_type": "stream",
     "text": [
      "100%|██████████| 107/107 [00:01<00:00, 56.64it/s]\n",
      "100%|██████████| 18/18 [00:00<00:00, 232.67it/s]\n",
      "100%|██████████| 53/53 [00:00<00:00, 236.81it/s]\n"
     ]
    },
    {
     "name": "stdout",
     "output_type": "stream",
     "text": [
      "Epoch:804/1000.. Train Loss: 0.021.. Val Loss: 0.223.. Test Loss: 0.136.. Time: 0.04m\n"
     ]
    },
    {
     "name": "stderr",
     "output_type": "stream",
     "text": [
      "100%|██████████| 107/107 [00:01<00:00, 56.74it/s]\n",
      "100%|██████████| 18/18 [00:00<00:00, 236.24it/s]\n",
      "100%|██████████| 53/53 [00:00<00:00, 228.51it/s]\n"
     ]
    },
    {
     "name": "stdout",
     "output_type": "stream",
     "text": [
      "Epoch:805/1000.. Train Loss: 0.021.. Val Loss: 0.285.. Test Loss: 0.143.. Time: 0.04m\n"
     ]
    },
    {
     "name": "stderr",
     "output_type": "stream",
     "text": [
      "100%|██████████| 107/107 [00:01<00:00, 56.67it/s]\n",
      "100%|██████████| 18/18 [00:00<00:00, 240.24it/s]\n",
      "100%|██████████| 53/53 [00:00<00:00, 242.33it/s]\n"
     ]
    },
    {
     "name": "stdout",
     "output_type": "stream",
     "text": [
      "Epoch:806/1000.. Train Loss: 0.017.. Val Loss: 0.242.. Test Loss: 0.141.. Time: 0.04m\n"
     ]
    },
    {
     "name": "stderr",
     "output_type": "stream",
     "text": [
      "100%|██████████| 107/107 [00:02<00:00, 51.19it/s]\n",
      "100%|██████████| 18/18 [00:00<00:00, 234.82it/s]\n",
      "100%|██████████| 53/53 [00:00<00:00, 251.86it/s]\n"
     ]
    },
    {
     "name": "stdout",
     "output_type": "stream",
     "text": [
      "Epoch:807/1000.. Train Loss: 0.017.. Val Loss: 0.233.. Test Loss: 0.138.. Time: 0.04m\n"
     ]
    },
    {
     "name": "stderr",
     "output_type": "stream",
     "text": [
      "100%|██████████| 107/107 [00:01<00:00, 58.31it/s]\n",
      "100%|██████████| 18/18 [00:00<00:00, 243.91it/s]\n",
      "100%|██████████| 53/53 [00:00<00:00, 250.69it/s]\n"
     ]
    },
    {
     "name": "stdout",
     "output_type": "stream",
     "text": [
      "Epoch:808/1000.. Train Loss: 0.015.. Val Loss: 0.233.. Test Loss: 0.143.. Time: 0.04m\n"
     ]
    },
    {
     "name": "stderr",
     "output_type": "stream",
     "text": [
      "100%|██████████| 107/107 [00:01<00:00, 55.70it/s]\n",
      "100%|██████████| 18/18 [00:00<00:00, 244.67it/s]\n",
      "100%|██████████| 53/53 [00:00<00:00, 242.02it/s]\n"
     ]
    },
    {
     "name": "stdout",
     "output_type": "stream",
     "text": [
      "Epoch:809/1000.. Train Loss: 0.015.. Val Loss: 0.237.. Test Loss: 0.145.. Time: 0.04m\n"
     ]
    },
    {
     "name": "stderr",
     "output_type": "stream",
     "text": [
      "100%|██████████| 107/107 [00:01<00:00, 58.88it/s]\n",
      "100%|██████████| 18/18 [00:00<00:00, 249.97it/s]\n",
      "100%|██████████| 53/53 [00:00<00:00, 248.94it/s]\n"
     ]
    },
    {
     "name": "stdout",
     "output_type": "stream",
     "text": [
      "Epoch:810/1000.. Train Loss: 0.016.. Val Loss: 0.227.. Test Loss: 0.143.. Time: 0.04m\n"
     ]
    },
    {
     "name": "stderr",
     "output_type": "stream",
     "text": [
      "100%|██████████| 107/107 [00:01<00:00, 58.93it/s]\n",
      "100%|██████████| 18/18 [00:00<00:00, 237.99it/s]\n",
      "100%|██████████| 53/53 [00:00<00:00, 255.11it/s]\n"
     ]
    },
    {
     "name": "stdout",
     "output_type": "stream",
     "text": [
      "Epoch:811/1000.. Train Loss: 0.017.. Val Loss: 0.231.. Test Loss: 0.142.. Time: 0.04m\n"
     ]
    },
    {
     "name": "stderr",
     "output_type": "stream",
     "text": [
      "100%|██████████| 107/107 [00:01<00:00, 56.27it/s]\n",
      "100%|██████████| 18/18 [00:00<00:00, 237.47it/s]\n",
      "100%|██████████| 53/53 [00:00<00:00, 232.78it/s]\n"
     ]
    },
    {
     "name": "stdout",
     "output_type": "stream",
     "text": [
      "Epoch:812/1000.. Train Loss: 0.016.. Val Loss: 0.234.. Test Loss: 0.146.. Time: 0.04m\n"
     ]
    },
    {
     "name": "stderr",
     "output_type": "stream",
     "text": [
      "100%|██████████| 107/107 [00:01<00:00, 58.92it/s]\n",
      "100%|██████████| 18/18 [00:00<00:00, 255.04it/s]\n",
      "100%|██████████| 53/53 [00:00<00:00, 244.33it/s]\n"
     ]
    },
    {
     "name": "stdout",
     "output_type": "stream",
     "text": [
      "Epoch:813/1000.. Train Loss: 0.017.. Val Loss: 0.230.. Test Loss: 0.144.. Time: 0.04m\n"
     ]
    },
    {
     "name": "stderr",
     "output_type": "stream",
     "text": [
      "100%|██████████| 107/107 [00:01<00:00, 54.88it/s]\n",
      "100%|██████████| 18/18 [00:00<00:00, 231.62it/s]\n",
      "100%|██████████| 53/53 [00:00<00:00, 257.43it/s]\n"
     ]
    },
    {
     "name": "stdout",
     "output_type": "stream",
     "text": [
      "Epoch:814/1000.. Train Loss: 0.015.. Val Loss: 0.224.. Test Loss: 0.143.. Time: 0.04m\n"
     ]
    },
    {
     "name": "stderr",
     "output_type": "stream",
     "text": [
      "100%|██████████| 107/107 [00:01<00:00, 56.98it/s]\n",
      "100%|██████████| 18/18 [00:00<00:00, 252.30it/s]\n",
      "100%|██████████| 53/53 [00:00<00:00, 247.99it/s]\n"
     ]
    },
    {
     "name": "stdout",
     "output_type": "stream",
     "text": [
      "Epoch:815/1000.. Train Loss: 0.018.. Val Loss: 0.240.. Test Loss: 0.146.. Time: 0.04m\n"
     ]
    },
    {
     "name": "stderr",
     "output_type": "stream",
     "text": [
      "100%|██████████| 107/107 [00:01<00:00, 57.61it/s]\n",
      "100%|██████████| 18/18 [00:00<00:00, 233.61it/s]\n",
      "100%|██████████| 53/53 [00:00<00:00, 248.51it/s]\n"
     ]
    },
    {
     "name": "stdout",
     "output_type": "stream",
     "text": [
      "Epoch:816/1000.. Train Loss: 0.015.. Val Loss: 0.234.. Test Loss: 0.144.. Time: 0.04m\n"
     ]
    },
    {
     "name": "stderr",
     "output_type": "stream",
     "text": [
      "100%|██████████| 107/107 [00:01<00:00, 54.50it/s]\n",
      "100%|██████████| 18/18 [00:00<00:00, 199.10it/s]\n",
      "100%|██████████| 53/53 [00:00<00:00, 217.41it/s]\n"
     ]
    },
    {
     "name": "stdout",
     "output_type": "stream",
     "text": [
      "Epoch:817/1000.. Train Loss: 0.015.. Val Loss: 0.224.. Test Loss: 0.147.. Time: 0.04m\n"
     ]
    },
    {
     "name": "stderr",
     "output_type": "stream",
     "text": [
      "100%|██████████| 107/107 [00:02<00:00, 51.18it/s]\n",
      "100%|██████████| 18/18 [00:00<00:00, 197.22it/s]\n",
      "100%|██████████| 53/53 [00:00<00:00, 234.77it/s]\n"
     ]
    },
    {
     "name": "stdout",
     "output_type": "stream",
     "text": [
      "Epoch:818/1000.. Train Loss: 0.015.. Val Loss: 0.229.. Test Loss: 0.152.. Time: 0.04m\n"
     ]
    },
    {
     "name": "stderr",
     "output_type": "stream",
     "text": [
      "100%|██████████| 107/107 [00:01<00:00, 56.39it/s]\n",
      "100%|██████████| 18/18 [00:00<00:00, 188.61it/s]\n",
      "100%|██████████| 53/53 [00:00<00:00, 203.26it/s]\n"
     ]
    },
    {
     "name": "stdout",
     "output_type": "stream",
     "text": [
      "Epoch:819/1000.. Train Loss: 0.016.. Val Loss: 0.229.. Test Loss: 0.150.. Time: 0.04m\n"
     ]
    },
    {
     "name": "stderr",
     "output_type": "stream",
     "text": [
      "100%|██████████| 107/107 [00:01<00:00, 67.58it/s]\n",
      "100%|██████████| 18/18 [00:00<00:00, 263.01it/s]\n",
      "100%|██████████| 53/53 [00:00<00:00, 244.87it/s]\n"
     ]
    },
    {
     "name": "stdout",
     "output_type": "stream",
     "text": [
      "Epoch:820/1000.. Train Loss: 0.019.. Val Loss: 0.235.. Test Loss: 0.145.. Time: 0.03m\n"
     ]
    },
    {
     "name": "stderr",
     "output_type": "stream",
     "text": [
      "100%|██████████| 107/107 [00:01<00:00, 68.27it/s]\n",
      "100%|██████████| 18/18 [00:00<00:00, 231.99it/s]\n",
      "100%|██████████| 53/53 [00:00<00:00, 241.67it/s]\n"
     ]
    },
    {
     "name": "stdout",
     "output_type": "stream",
     "text": [
      "Epoch:821/1000.. Train Loss: 0.014.. Val Loss: 0.233.. Test Loss: 0.149.. Time: 0.03m\n"
     ]
    },
    {
     "name": "stderr",
     "output_type": "stream",
     "text": [
      "100%|██████████| 107/107 [00:01<00:00, 67.75it/s]\n",
      "100%|██████████| 18/18 [00:00<00:00, 246.96it/s]\n",
      "100%|██████████| 53/53 [00:00<00:00, 249.58it/s]\n"
     ]
    },
    {
     "name": "stdout",
     "output_type": "stream",
     "text": [
      "Epoch:822/1000.. Train Loss: 0.017.. Val Loss: 0.238.. Test Loss: 0.147.. Time: 0.03m\n"
     ]
    },
    {
     "name": "stderr",
     "output_type": "stream",
     "text": [
      "100%|██████████| 107/107 [00:01<00:00, 67.96it/s]\n",
      "100%|██████████| 18/18 [00:00<00:00, 244.06it/s]\n",
      "100%|██████████| 53/53 [00:00<00:00, 251.27it/s]\n"
     ]
    },
    {
     "name": "stdout",
     "output_type": "stream",
     "text": [
      "Epoch:823/1000.. Train Loss: 0.018.. Val Loss: 0.232.. Test Loss: 0.139.. Time: 0.03m\n"
     ]
    },
    {
     "name": "stderr",
     "output_type": "stream",
     "text": [
      "100%|██████████| 107/107 [00:01<00:00, 67.73it/s]\n",
      "100%|██████████| 18/18 [00:00<00:00, 200.63it/s]\n",
      "100%|██████████| 53/53 [00:00<00:00, 216.10it/s]\n"
     ]
    },
    {
     "name": "stdout",
     "output_type": "stream",
     "text": [
      "Epoch:824/1000.. Train Loss: 0.016.. Val Loss: 0.238.. Test Loss: 0.140.. Time: 0.03m\n"
     ]
    },
    {
     "name": "stderr",
     "output_type": "stream",
     "text": [
      "100%|██████████| 107/107 [00:01<00:00, 59.18it/s]\n",
      "100%|██████████| 18/18 [00:00<00:00, 254.30it/s]\n",
      "100%|██████████| 53/53 [00:00<00:00, 239.75it/s]\n"
     ]
    },
    {
     "name": "stdout",
     "output_type": "stream",
     "text": [
      "Epoch:825/1000.. Train Loss: 0.018.. Val Loss: 0.234.. Test Loss: 0.144.. Time: 0.04m\n"
     ]
    },
    {
     "name": "stderr",
     "output_type": "stream",
     "text": [
      "100%|██████████| 107/107 [00:01<00:00, 56.87it/s]\n",
      "100%|██████████| 18/18 [00:00<00:00, 232.95it/s]\n",
      "100%|██████████| 53/53 [00:00<00:00, 224.58it/s]\n"
     ]
    },
    {
     "name": "stdout",
     "output_type": "stream",
     "text": [
      "Epoch:826/1000.. Train Loss: 0.015.. Val Loss: 0.235.. Test Loss: 0.145.. Time: 0.04m\n"
     ]
    },
    {
     "name": "stderr",
     "output_type": "stream",
     "text": [
      "100%|██████████| 107/107 [00:01<00:00, 55.97it/s]\n",
      "100%|██████████| 18/18 [00:00<00:00, 195.90it/s]\n",
      "100%|██████████| 53/53 [00:00<00:00, 225.34it/s]\n"
     ]
    },
    {
     "name": "stdout",
     "output_type": "stream",
     "text": [
      "Epoch:827/1000.. Train Loss: 0.017.. Val Loss: 0.243.. Test Loss: 0.146.. Time: 0.04m\n"
     ]
    },
    {
     "name": "stderr",
     "output_type": "stream",
     "text": [
      "100%|██████████| 107/107 [00:01<00:00, 57.02it/s]\n",
      "100%|██████████| 18/18 [00:00<00:00, 257.59it/s]\n",
      "100%|██████████| 53/53 [00:00<00:00, 248.45it/s]\n"
     ]
    },
    {
     "name": "stdout",
     "output_type": "stream",
     "text": [
      "Epoch:828/1000.. Train Loss: 0.017.. Val Loss: 0.248.. Test Loss: 0.150.. Time: 0.04m\n"
     ]
    },
    {
     "name": "stderr",
     "output_type": "stream",
     "text": [
      "100%|██████████| 107/107 [00:01<00:00, 58.59it/s]\n",
      "100%|██████████| 18/18 [00:00<00:00, 243.33it/s]\n",
      "100%|██████████| 53/53 [00:00<00:00, 245.95it/s]\n"
     ]
    },
    {
     "name": "stdout",
     "output_type": "stream",
     "text": [
      "Epoch:829/1000.. Train Loss: 0.016.. Val Loss: 0.284.. Test Loss: 0.150.. Time: 0.04m\n"
     ]
    },
    {
     "name": "stderr",
     "output_type": "stream",
     "text": [
      "100%|██████████| 107/107 [00:01<00:00, 56.84it/s]\n",
      "100%|██████████| 18/18 [00:00<00:00, 245.64it/s]\n",
      "100%|██████████| 53/53 [00:00<00:00, 244.68it/s]\n"
     ]
    },
    {
     "name": "stdout",
     "output_type": "stream",
     "text": [
      "Epoch:830/1000.. Train Loss: 0.017.. Val Loss: 0.263.. Test Loss: 0.146.. Time: 0.04m\n"
     ]
    },
    {
     "name": "stderr",
     "output_type": "stream",
     "text": [
      "100%|██████████| 107/107 [00:01<00:00, 61.31it/s]\n",
      "100%|██████████| 18/18 [00:00<00:00, 240.19it/s]\n",
      "100%|██████████| 53/53 [00:00<00:00, 252.26it/s]\n"
     ]
    },
    {
     "name": "stdout",
     "output_type": "stream",
     "text": [
      "Epoch:831/1000.. Train Loss: 0.018.. Val Loss: 0.237.. Test Loss: 0.146.. Time: 0.03m\n"
     ]
    },
    {
     "name": "stderr",
     "output_type": "stream",
     "text": [
      "100%|██████████| 107/107 [00:01<00:00, 53.63it/s]\n",
      "100%|██████████| 18/18 [00:00<00:00, 246.90it/s]\n",
      "100%|██████████| 53/53 [00:00<00:00, 247.90it/s]\n"
     ]
    },
    {
     "name": "stdout",
     "output_type": "stream",
     "text": [
      "Epoch:832/1000.. Train Loss: 0.017.. Val Loss: 0.235.. Test Loss: 0.146.. Time: 0.04m\n"
     ]
    },
    {
     "name": "stderr",
     "output_type": "stream",
     "text": [
      "100%|██████████| 107/107 [00:01<00:00, 54.81it/s]\n",
      "100%|██████████| 18/18 [00:00<00:00, 230.88it/s]\n",
      "100%|██████████| 53/53 [00:00<00:00, 244.89it/s]\n"
     ]
    },
    {
     "name": "stdout",
     "output_type": "stream",
     "text": [
      "Epoch:833/1000.. Train Loss: 0.014.. Val Loss: 0.249.. Test Loss: 0.145.. Time: 0.04m\n"
     ]
    },
    {
     "name": "stderr",
     "output_type": "stream",
     "text": [
      "100%|██████████| 107/107 [00:01<00:00, 54.95it/s]\n",
      "100%|██████████| 18/18 [00:00<00:00, 254.27it/s]\n",
      "100%|██████████| 53/53 [00:00<00:00, 241.39it/s]\n"
     ]
    },
    {
     "name": "stdout",
     "output_type": "stream",
     "text": [
      "Epoch:834/1000.. Train Loss: 0.016.. Val Loss: 0.231.. Test Loss: 0.147.. Time: 0.04m\n"
     ]
    },
    {
     "name": "stderr",
     "output_type": "stream",
     "text": [
      "100%|██████████| 107/107 [00:01<00:00, 56.63it/s]\n",
      "100%|██████████| 18/18 [00:00<00:00, 220.87it/s]\n",
      "100%|██████████| 53/53 [00:00<00:00, 220.67it/s]\n"
     ]
    },
    {
     "name": "stdout",
     "output_type": "stream",
     "text": [
      "Epoch:835/1000.. Train Loss: 0.016.. Val Loss: 0.241.. Test Loss: 0.148.. Time: 0.04m\n"
     ]
    },
    {
     "name": "stderr",
     "output_type": "stream",
     "text": [
      "100%|██████████| 107/107 [00:01<00:00, 57.41it/s]\n",
      "100%|██████████| 18/18 [00:00<00:00, 237.15it/s]\n",
      "100%|██████████| 53/53 [00:00<00:00, 242.67it/s]\n"
     ]
    },
    {
     "name": "stdout",
     "output_type": "stream",
     "text": [
      "Epoch:836/1000.. Train Loss: 0.016.. Val Loss: 0.244.. Test Loss: 0.146.. Time: 0.04m\n"
     ]
    },
    {
     "name": "stderr",
     "output_type": "stream",
     "text": [
      "100%|██████████| 107/107 [00:01<00:00, 55.53it/s]\n",
      "100%|██████████| 18/18 [00:00<00:00, 234.65it/s]\n",
      "100%|██████████| 53/53 [00:00<00:00, 253.02it/s]\n"
     ]
    },
    {
     "name": "stdout",
     "output_type": "stream",
     "text": [
      "Epoch:837/1000.. Train Loss: 0.016.. Val Loss: 0.243.. Test Loss: 0.144.. Time: 0.04m\n"
     ]
    },
    {
     "name": "stderr",
     "output_type": "stream",
     "text": [
      "100%|██████████| 107/107 [00:02<00:00, 52.20it/s]\n",
      "100%|██████████| 18/18 [00:00<00:00, 242.58it/s]\n",
      "100%|██████████| 53/53 [00:00<00:00, 247.83it/s]\n"
     ]
    },
    {
     "name": "stdout",
     "output_type": "stream",
     "text": [
      "Epoch:838/1000.. Train Loss: 0.018.. Val Loss: 0.236.. Test Loss: 0.145.. Time: 0.04m\n"
     ]
    },
    {
     "name": "stderr",
     "output_type": "stream",
     "text": [
      "100%|██████████| 107/107 [00:01<00:00, 57.56it/s]\n",
      "100%|██████████| 18/18 [00:00<00:00, 245.26it/s]\n",
      "100%|██████████| 53/53 [00:00<00:00, 246.40it/s]\n"
     ]
    },
    {
     "name": "stdout",
     "output_type": "stream",
     "text": [
      "Epoch:839/1000.. Train Loss: 0.016.. Val Loss: 0.237.. Test Loss: 0.144.. Time: 0.04m\n"
     ]
    },
    {
     "name": "stderr",
     "output_type": "stream",
     "text": [
      "100%|██████████| 107/107 [00:01<00:00, 57.67it/s]\n",
      "100%|██████████| 18/18 [00:00<00:00, 257.92it/s]\n",
      "100%|██████████| 53/53 [00:00<00:00, 250.72it/s]\n"
     ]
    },
    {
     "name": "stdout",
     "output_type": "stream",
     "text": [
      "Epoch:840/1000.. Train Loss: 0.016.. Val Loss: 0.242.. Test Loss: 0.146.. Time: 0.04m\n"
     ]
    },
    {
     "name": "stderr",
     "output_type": "stream",
     "text": [
      "100%|██████████| 107/107 [00:01<00:00, 59.52it/s]\n",
      "100%|██████████| 18/18 [00:00<00:00, 246.04it/s]\n",
      "100%|██████████| 53/53 [00:00<00:00, 249.17it/s]\n"
     ]
    },
    {
     "name": "stdout",
     "output_type": "stream",
     "text": [
      "Epoch:841/1000.. Train Loss: 0.018.. Val Loss: 0.241.. Test Loss: 0.146.. Time: 0.03m\n"
     ]
    },
    {
     "name": "stderr",
     "output_type": "stream",
     "text": [
      "100%|██████████| 107/107 [00:01<00:00, 58.53it/s]\n",
      "100%|██████████| 18/18 [00:00<00:00, 234.86it/s]\n",
      "100%|██████████| 53/53 [00:00<00:00, 239.78it/s]\n"
     ]
    },
    {
     "name": "stdout",
     "output_type": "stream",
     "text": [
      "Epoch:842/1000.. Train Loss: 0.016.. Val Loss: 0.238.. Test Loss: 0.147.. Time: 0.04m\n"
     ]
    },
    {
     "name": "stderr",
     "output_type": "stream",
     "text": [
      "100%|██████████| 107/107 [00:01<00:00, 56.83it/s]\n",
      "100%|██████████| 18/18 [00:00<00:00, 213.38it/s]\n",
      "100%|██████████| 53/53 [00:00<00:00, 239.35it/s]\n"
     ]
    },
    {
     "name": "stdout",
     "output_type": "stream",
     "text": [
      "Epoch:843/1000.. Train Loss: 0.015.. Val Loss: 0.234.. Test Loss: 0.146.. Time: 0.04m\n"
     ]
    },
    {
     "name": "stderr",
     "output_type": "stream",
     "text": [
      "100%|██████████| 107/107 [00:01<00:00, 57.20it/s]\n",
      "100%|██████████| 18/18 [00:00<00:00, 240.64it/s]\n",
      "100%|██████████| 53/53 [00:00<00:00, 239.69it/s]\n"
     ]
    },
    {
     "name": "stdout",
     "output_type": "stream",
     "text": [
      "Epoch:844/1000.. Train Loss: 0.016.. Val Loss: 0.231.. Test Loss: 0.146.. Time: 0.04m\n"
     ]
    },
    {
     "name": "stderr",
     "output_type": "stream",
     "text": [
      "100%|██████████| 107/107 [00:01<00:00, 58.34it/s]\n",
      "100%|██████████| 18/18 [00:00<00:00, 247.56it/s]\n",
      "100%|██████████| 53/53 [00:00<00:00, 242.71it/s]\n"
     ]
    },
    {
     "name": "stdout",
     "output_type": "stream",
     "text": [
      "Epoch:845/1000.. Train Loss: 0.017.. Val Loss: 0.228.. Test Loss: 0.147.. Time: 0.04m\n"
     ]
    },
    {
     "name": "stderr",
     "output_type": "stream",
     "text": [
      "100%|██████████| 107/107 [00:01<00:00, 59.77it/s]\n",
      "100%|██████████| 18/18 [00:00<00:00, 238.51it/s]\n",
      "100%|██████████| 53/53 [00:00<00:00, 242.24it/s]\n"
     ]
    },
    {
     "name": "stdout",
     "output_type": "stream",
     "text": [
      "Epoch:846/1000.. Train Loss: 0.016.. Val Loss: 0.236.. Test Loss: 0.148.. Time: 0.03m\n"
     ]
    },
    {
     "name": "stderr",
     "output_type": "stream",
     "text": [
      "100%|██████████| 107/107 [00:01<00:00, 58.93it/s]\n",
      "100%|██████████| 18/18 [00:00<00:00, 255.42it/s]\n",
      "100%|██████████| 53/53 [00:00<00:00, 215.85it/s]\n"
     ]
    },
    {
     "name": "stdout",
     "output_type": "stream",
     "text": [
      "Epoch:847/1000.. Train Loss: 0.015.. Val Loss: 0.229.. Test Loss: 0.146.. Time: 0.04m\n"
     ]
    },
    {
     "name": "stderr",
     "output_type": "stream",
     "text": [
      "100%|██████████| 107/107 [00:01<00:00, 58.79it/s]\n",
      "100%|██████████| 18/18 [00:00<00:00, 249.01it/s]\n",
      "100%|██████████| 53/53 [00:00<00:00, 207.92it/s]\n"
     ]
    },
    {
     "name": "stdout",
     "output_type": "stream",
     "text": [
      "Epoch:848/1000.. Train Loss: 0.015.. Val Loss: 0.231.. Test Loss: 0.145.. Time: 0.04m\n"
     ]
    },
    {
     "name": "stderr",
     "output_type": "stream",
     "text": [
      "100%|██████████| 107/107 [00:01<00:00, 56.85it/s]\n",
      "100%|██████████| 18/18 [00:00<00:00, 242.39it/s]\n",
      "100%|██████████| 53/53 [00:00<00:00, 244.96it/s]\n"
     ]
    },
    {
     "name": "stdout",
     "output_type": "stream",
     "text": [
      "Epoch:849/1000.. Train Loss: 0.016.. Val Loss: 0.276.. Test Loss: 0.144.. Time: 0.04m\n"
     ]
    },
    {
     "name": "stderr",
     "output_type": "stream",
     "text": [
      "100%|██████████| 107/107 [00:01<00:00, 56.85it/s]\n",
      "100%|██████████| 18/18 [00:00<00:00, 193.74it/s]\n",
      "100%|██████████| 53/53 [00:00<00:00, 240.10it/s]\n"
     ]
    },
    {
     "name": "stdout",
     "output_type": "stream",
     "text": [
      "Epoch:850/1000.. Train Loss: 0.017.. Val Loss: 0.247.. Test Loss: 0.143.. Time: 0.04m\n"
     ]
    },
    {
     "name": "stderr",
     "output_type": "stream",
     "text": [
      "100%|██████████| 107/107 [00:01<00:00, 59.29it/s]\n",
      "100%|██████████| 18/18 [00:00<00:00, 226.06it/s]\n",
      "100%|██████████| 53/53 [00:00<00:00, 228.40it/s]\n"
     ]
    },
    {
     "name": "stdout",
     "output_type": "stream",
     "text": [
      "Epoch:851/1000.. Train Loss: 0.017.. Val Loss: 0.220.. Test Loss: 0.142.. Time: 0.04m\n"
     ]
    },
    {
     "name": "stderr",
     "output_type": "stream",
     "text": [
      "100%|██████████| 107/107 [00:01<00:00, 63.75it/s]\n",
      "100%|██████████| 18/18 [00:00<00:00, 248.97it/s]\n",
      "100%|██████████| 53/53 [00:00<00:00, 229.50it/s]\n"
     ]
    },
    {
     "name": "stdout",
     "output_type": "stream",
     "text": [
      "Epoch:852/1000.. Train Loss: 0.016.. Val Loss: 0.226.. Test Loss: 0.144.. Time: 0.03m\n"
     ]
    },
    {
     "name": "stderr",
     "output_type": "stream",
     "text": [
      "100%|██████████| 107/107 [00:01<00:00, 57.51it/s]\n",
      "100%|██████████| 18/18 [00:00<00:00, 235.03it/s]\n",
      "100%|██████████| 53/53 [00:00<00:00, 233.78it/s]\n"
     ]
    },
    {
     "name": "stdout",
     "output_type": "stream",
     "text": [
      "Epoch:853/1000.. Train Loss: 0.015.. Val Loss: 0.226.. Test Loss: 0.142.. Time: 0.04m\n"
     ]
    },
    {
     "name": "stderr",
     "output_type": "stream",
     "text": [
      "100%|██████████| 107/107 [00:01<00:00, 59.92it/s]\n",
      "100%|██████████| 18/18 [00:00<00:00, 241.03it/s]\n",
      "100%|██████████| 53/53 [00:00<00:00, 245.77it/s]\n"
     ]
    },
    {
     "name": "stdout",
     "output_type": "stream",
     "text": [
      "Epoch:854/1000.. Train Loss: 0.014.. Val Loss: 0.232.. Test Loss: 0.143.. Time: 0.03m\n"
     ]
    },
    {
     "name": "stderr",
     "output_type": "stream",
     "text": [
      "100%|██████████| 107/107 [00:01<00:00, 55.48it/s]\n",
      "100%|██████████| 18/18 [00:00<00:00, 234.90it/s]\n",
      "100%|██████████| 53/53 [00:00<00:00, 213.55it/s]\n"
     ]
    },
    {
     "name": "stdout",
     "output_type": "stream",
     "text": [
      "Epoch:855/1000.. Train Loss: 0.019.. Val Loss: 0.232.. Test Loss: 0.142.. Time: 0.04m\n"
     ]
    },
    {
     "name": "stderr",
     "output_type": "stream",
     "text": [
      "100%|██████████| 107/107 [00:01<00:00, 53.99it/s]\n",
      "100%|██████████| 18/18 [00:00<00:00, 207.11it/s]\n",
      "100%|██████████| 53/53 [00:00<00:00, 217.56it/s]\n"
     ]
    },
    {
     "name": "stdout",
     "output_type": "stream",
     "text": [
      "Epoch:856/1000.. Train Loss: 0.017.. Val Loss: 0.228.. Test Loss: 0.143.. Time: 0.04m\n"
     ]
    },
    {
     "name": "stderr",
     "output_type": "stream",
     "text": [
      "100%|██████████| 107/107 [00:01<00:00, 57.12it/s]\n",
      "100%|██████████| 18/18 [00:00<00:00, 232.65it/s]\n",
      "100%|██████████| 53/53 [00:00<00:00, 234.75it/s]\n"
     ]
    },
    {
     "name": "stdout",
     "output_type": "stream",
     "text": [
      "Epoch:857/1000.. Train Loss: 0.014.. Val Loss: 0.235.. Test Loss: 0.145.. Time: 0.04m\n"
     ]
    },
    {
     "name": "stderr",
     "output_type": "stream",
     "text": [
      "100%|██████████| 107/107 [00:01<00:00, 57.44it/s]\n",
      "100%|██████████| 18/18 [00:00<00:00, 245.30it/s]\n",
      "100%|██████████| 53/53 [00:00<00:00, 249.08it/s]\n"
     ]
    },
    {
     "name": "stdout",
     "output_type": "stream",
     "text": [
      "Epoch:858/1000.. Train Loss: 0.017.. Val Loss: 0.239.. Test Loss: 0.144.. Time: 0.04m\n"
     ]
    },
    {
     "name": "stderr",
     "output_type": "stream",
     "text": [
      "100%|██████████| 107/107 [00:01<00:00, 58.53it/s]\n",
      "100%|██████████| 18/18 [00:00<00:00, 191.60it/s]\n",
      "100%|██████████| 53/53 [00:00<00:00, 247.06it/s]\n"
     ]
    },
    {
     "name": "stdout",
     "output_type": "stream",
     "text": [
      "Epoch:859/1000.. Train Loss: 0.018.. Val Loss: 0.236.. Test Loss: 0.141.. Time: 0.04m\n"
     ]
    },
    {
     "name": "stderr",
     "output_type": "stream",
     "text": [
      "100%|██████████| 107/107 [00:01<00:00, 55.02it/s]\n",
      "100%|██████████| 18/18 [00:00<00:00, 227.36it/s]\n",
      "100%|██████████| 53/53 [00:00<00:00, 236.96it/s]\n"
     ]
    },
    {
     "name": "stdout",
     "output_type": "stream",
     "text": [
      "Epoch:860/1000.. Train Loss: 0.016.. Val Loss: 0.236.. Test Loss: 0.143.. Time: 0.04m\n"
     ]
    },
    {
     "name": "stderr",
     "output_type": "stream",
     "text": [
      "100%|██████████| 107/107 [00:01<00:00, 55.27it/s]\n",
      "100%|██████████| 18/18 [00:00<00:00, 199.36it/s]\n",
      "100%|██████████| 53/53 [00:00<00:00, 246.31it/s]\n"
     ]
    },
    {
     "name": "stdout",
     "output_type": "stream",
     "text": [
      "Epoch:861/1000.. Train Loss: 0.016.. Val Loss: 0.235.. Test Loss: 0.143.. Time: 0.04m\n"
     ]
    },
    {
     "name": "stderr",
     "output_type": "stream",
     "text": [
      "100%|██████████| 107/107 [00:01<00:00, 59.08it/s]\n",
      "100%|██████████| 18/18 [00:00<00:00, 242.79it/s]\n",
      "100%|██████████| 53/53 [00:00<00:00, 252.35it/s]\n"
     ]
    },
    {
     "name": "stdout",
     "output_type": "stream",
     "text": [
      "Epoch:862/1000.. Train Loss: 0.017.. Val Loss: 0.235.. Test Loss: 0.144.. Time: 0.04m\n"
     ]
    },
    {
     "name": "stderr",
     "output_type": "stream",
     "text": [
      "100%|██████████| 107/107 [00:01<00:00, 59.86it/s]\n",
      "100%|██████████| 18/18 [00:00<00:00, 254.76it/s]\n",
      "100%|██████████| 53/53 [00:00<00:00, 239.81it/s]\n"
     ]
    },
    {
     "name": "stdout",
     "output_type": "stream",
     "text": [
      "Epoch:863/1000.. Train Loss: 0.017.. Val Loss: 0.245.. Test Loss: 0.144.. Time: 0.03m\n"
     ]
    },
    {
     "name": "stderr",
     "output_type": "stream",
     "text": [
      "100%|██████████| 107/107 [00:01<00:00, 57.46it/s]\n",
      "100%|██████████| 18/18 [00:00<00:00, 246.87it/s]\n",
      "100%|██████████| 53/53 [00:00<00:00, 249.30it/s]\n"
     ]
    },
    {
     "name": "stdout",
     "output_type": "stream",
     "text": [
      "Epoch:864/1000.. Train Loss: 0.016.. Val Loss: 0.248.. Test Loss: 0.144.. Time: 0.04m\n"
     ]
    },
    {
     "name": "stderr",
     "output_type": "stream",
     "text": [
      "100%|██████████| 107/107 [00:01<00:00, 56.20it/s]\n",
      "100%|██████████| 18/18 [00:00<00:00, 212.63it/s]\n",
      "100%|██████████| 53/53 [00:00<00:00, 240.50it/s]\n"
     ]
    },
    {
     "name": "stdout",
     "output_type": "stream",
     "text": [
      "Epoch:865/1000.. Train Loss: 0.017.. Val Loss: 0.242.. Test Loss: 0.142.. Time: 0.04m\n"
     ]
    },
    {
     "name": "stderr",
     "output_type": "stream",
     "text": [
      "100%|██████████| 107/107 [00:01<00:00, 57.57it/s]\n",
      "100%|██████████| 18/18 [00:00<00:00, 249.80it/s]\n",
      "100%|██████████| 53/53 [00:00<00:00, 248.76it/s]\n"
     ]
    },
    {
     "name": "stdout",
     "output_type": "stream",
     "text": [
      "Epoch:866/1000.. Train Loss: 0.018.. Val Loss: 0.258.. Test Loss: 0.141.. Time: 0.04m\n"
     ]
    },
    {
     "name": "stderr",
     "output_type": "stream",
     "text": [
      "100%|██████████| 107/107 [00:01<00:00, 65.29it/s]\n",
      "100%|██████████| 18/18 [00:00<00:00, 208.21it/s]\n",
      "100%|██████████| 53/53 [00:00<00:00, 202.51it/s]\n"
     ]
    },
    {
     "name": "stdout",
     "output_type": "stream",
     "text": [
      "Epoch:867/1000.. Train Loss: 0.017.. Val Loss: 0.241.. Test Loss: 0.143.. Time: 0.03m\n"
     ]
    },
    {
     "name": "stderr",
     "output_type": "stream",
     "text": [
      "100%|██████████| 107/107 [00:01<00:00, 56.17it/s]\n",
      "100%|██████████| 18/18 [00:00<00:00, 244.16it/s]\n",
      "100%|██████████| 53/53 [00:00<00:00, 248.52it/s]\n"
     ]
    },
    {
     "name": "stdout",
     "output_type": "stream",
     "text": [
      "Epoch:868/1000.. Train Loss: 0.015.. Val Loss: 0.242.. Test Loss: 0.144.. Time: 0.04m\n"
     ]
    },
    {
     "name": "stderr",
     "output_type": "stream",
     "text": [
      "100%|██████████| 107/107 [00:01<00:00, 54.57it/s]\n",
      "100%|██████████| 18/18 [00:00<00:00, 242.23it/s]\n",
      "100%|██████████| 53/53 [00:00<00:00, 213.76it/s]\n"
     ]
    },
    {
     "name": "stdout",
     "output_type": "stream",
     "text": [
      "Epoch:869/1000.. Train Loss: 0.015.. Val Loss: 0.242.. Test Loss: 0.145.. Time: 0.04m\n"
     ]
    },
    {
     "name": "stderr",
     "output_type": "stream",
     "text": [
      "100%|██████████| 107/107 [00:01<00:00, 55.90it/s]\n",
      "100%|██████████| 18/18 [00:00<00:00, 255.99it/s]\n",
      "100%|██████████| 53/53 [00:00<00:00, 242.33it/s]\n"
     ]
    },
    {
     "name": "stdout",
     "output_type": "stream",
     "text": [
      "Epoch:870/1000.. Train Loss: 0.015.. Val Loss: 0.234.. Test Loss: 0.144.. Time: 0.04m\n"
     ]
    },
    {
     "name": "stderr",
     "output_type": "stream",
     "text": [
      "100%|██████████| 107/107 [00:01<00:00, 59.83it/s]\n",
      "100%|██████████| 18/18 [00:00<00:00, 255.56it/s]\n",
      "100%|██████████| 53/53 [00:00<00:00, 241.56it/s]\n"
     ]
    },
    {
     "name": "stdout",
     "output_type": "stream",
     "text": [
      "Epoch:871/1000.. Train Loss: 0.016.. Val Loss: 0.254.. Test Loss: 0.144.. Time: 0.03m\n"
     ]
    },
    {
     "name": "stderr",
     "output_type": "stream",
     "text": [
      "100%|██████████| 107/107 [00:01<00:00, 53.74it/s]\n",
      "100%|██████████| 18/18 [00:00<00:00, 224.84it/s]\n",
      "100%|██████████| 53/53 [00:00<00:00, 232.97it/s]\n"
     ]
    },
    {
     "name": "stdout",
     "output_type": "stream",
     "text": [
      "Epoch:872/1000.. Train Loss: 0.018.. Val Loss: 0.225.. Test Loss: 0.143.. Time: 0.04m\n"
     ]
    },
    {
     "name": "stderr",
     "output_type": "stream",
     "text": [
      "100%|██████████| 107/107 [00:01<00:00, 57.76it/s]\n",
      "100%|██████████| 18/18 [00:00<00:00, 222.07it/s]\n",
      "100%|██████████| 53/53 [00:00<00:00, 248.11it/s]\n"
     ]
    },
    {
     "name": "stdout",
     "output_type": "stream",
     "text": [
      "Epoch:873/1000.. Train Loss: 0.017.. Val Loss: 0.227.. Test Loss: 0.143.. Time: 0.04m\n"
     ]
    },
    {
     "name": "stderr",
     "output_type": "stream",
     "text": [
      "100%|██████████| 107/107 [00:01<00:00, 57.97it/s]\n",
      "100%|██████████| 18/18 [00:00<00:00, 249.51it/s]\n",
      "100%|██████████| 53/53 [00:00<00:00, 245.30it/s]\n"
     ]
    },
    {
     "name": "stdout",
     "output_type": "stream",
     "text": [
      "Epoch:874/1000.. Train Loss: 0.013.. Val Loss: 0.231.. Test Loss: 0.145.. Time: 0.04m\n"
     ]
    },
    {
     "name": "stderr",
     "output_type": "stream",
     "text": [
      "100%|██████████| 107/107 [00:01<00:00, 56.32it/s]\n",
      "100%|██████████| 18/18 [00:00<00:00, 239.60it/s]\n",
      "100%|██████████| 53/53 [00:00<00:00, 239.91it/s]\n"
     ]
    },
    {
     "name": "stdout",
     "output_type": "stream",
     "text": [
      "Epoch:875/1000.. Train Loss: 0.018.. Val Loss: 0.269.. Test Loss: 0.146.. Time: 0.04m\n"
     ]
    },
    {
     "name": "stderr",
     "output_type": "stream",
     "text": [
      "100%|██████████| 107/107 [00:01<00:00, 59.89it/s]\n",
      "100%|██████████| 18/18 [00:00<00:00, 251.06it/s]\n",
      "100%|██████████| 53/53 [00:00<00:00, 245.50it/s]\n"
     ]
    },
    {
     "name": "stdout",
     "output_type": "stream",
     "text": [
      "Epoch:876/1000.. Train Loss: 0.015.. Val Loss: 0.225.. Test Loss: 0.146.. Time: 0.03m\n"
     ]
    },
    {
     "name": "stderr",
     "output_type": "stream",
     "text": [
      "100%|██████████| 107/107 [00:01<00:00, 58.52it/s]\n",
      "100%|██████████| 18/18 [00:00<00:00, 208.05it/s]\n",
      "100%|██████████| 53/53 [00:00<00:00, 242.63it/s]\n"
     ]
    },
    {
     "name": "stdout",
     "output_type": "stream",
     "text": [
      "Epoch:877/1000.. Train Loss: 0.015.. Val Loss: 0.236.. Test Loss: 0.148.. Time: 0.04m\n"
     ]
    },
    {
     "name": "stderr",
     "output_type": "stream",
     "text": [
      "100%|██████████| 107/107 [00:01<00:00, 56.82it/s]\n",
      "100%|██████████| 18/18 [00:00<00:00, 255.97it/s]\n",
      "100%|██████████| 53/53 [00:00<00:00, 243.25it/s]\n"
     ]
    },
    {
     "name": "stdout",
     "output_type": "stream",
     "text": [
      "Epoch:878/1000.. Train Loss: 0.014.. Val Loss: 0.232.. Test Loss: 0.147.. Time: 0.04m\n"
     ]
    },
    {
     "name": "stderr",
     "output_type": "stream",
     "text": [
      "100%|██████████| 107/107 [00:01<00:00, 57.92it/s]\n",
      "100%|██████████| 18/18 [00:00<00:00, 251.58it/s]\n",
      "100%|██████████| 53/53 [00:00<00:00, 248.04it/s]\n"
     ]
    },
    {
     "name": "stdout",
     "output_type": "stream",
     "text": [
      "Epoch:879/1000.. Train Loss: 0.019.. Val Loss: 0.236.. Test Loss: 0.144.. Time: 0.04m\n"
     ]
    },
    {
     "name": "stderr",
     "output_type": "stream",
     "text": [
      "100%|██████████| 107/107 [00:01<00:00, 61.76it/s]\n",
      "100%|██████████| 18/18 [00:00<00:00, 234.19it/s]\n",
      "100%|██████████| 53/53 [00:00<00:00, 231.44it/s]\n"
     ]
    },
    {
     "name": "stdout",
     "output_type": "stream",
     "text": [
      "Epoch:880/1000.. Train Loss: 0.017.. Val Loss: 0.248.. Test Loss: 0.145.. Time: 0.03m\n"
     ]
    },
    {
     "name": "stderr",
     "output_type": "stream",
     "text": [
      "100%|██████████| 107/107 [00:01<00:00, 58.94it/s]\n",
      "100%|██████████| 18/18 [00:00<00:00, 197.28it/s]\n",
      "100%|██████████| 53/53 [00:00<00:00, 249.71it/s]\n"
     ]
    },
    {
     "name": "stdout",
     "output_type": "stream",
     "text": [
      "Epoch:881/1000.. Train Loss: 0.016.. Val Loss: 0.263.. Test Loss: 0.147.. Time: 0.04m\n"
     ]
    },
    {
     "name": "stderr",
     "output_type": "stream",
     "text": [
      "100%|██████████| 107/107 [00:01<00:00, 58.60it/s]\n",
      "100%|██████████| 18/18 [00:00<00:00, 238.14it/s]\n",
      "100%|██████████| 53/53 [00:00<00:00, 218.94it/s]\n"
     ]
    },
    {
     "name": "stdout",
     "output_type": "stream",
     "text": [
      "Epoch:882/1000.. Train Loss: 0.016.. Val Loss: 0.232.. Test Loss: 0.145.. Time: 0.04m\n"
     ]
    },
    {
     "name": "stderr",
     "output_type": "stream",
     "text": [
      "100%|██████████| 107/107 [00:01<00:00, 57.41it/s]\n",
      "100%|██████████| 18/18 [00:00<00:00, 240.80it/s]\n",
      "100%|██████████| 53/53 [00:00<00:00, 232.30it/s]\n"
     ]
    },
    {
     "name": "stdout",
     "output_type": "stream",
     "text": [
      "Epoch:883/1000.. Train Loss: 0.018.. Val Loss: 0.233.. Test Loss: 0.147.. Time: 0.04m\n"
     ]
    },
    {
     "name": "stderr",
     "output_type": "stream",
     "text": [
      "100%|██████████| 107/107 [00:01<00:00, 58.07it/s]\n",
      "100%|██████████| 18/18 [00:00<00:00, 246.44it/s]\n",
      "100%|██████████| 53/53 [00:00<00:00, 249.83it/s]\n"
     ]
    },
    {
     "name": "stdout",
     "output_type": "stream",
     "text": [
      "Epoch:884/1000.. Train Loss: 0.016.. Val Loss: 0.241.. Test Loss: 0.147.. Time: 0.04m\n"
     ]
    },
    {
     "name": "stderr",
     "output_type": "stream",
     "text": [
      "100%|██████████| 107/107 [00:01<00:00, 59.74it/s]\n",
      "100%|██████████| 18/18 [00:00<00:00, 282.46it/s]\n",
      "100%|██████████| 53/53 [00:00<00:00, 253.44it/s]\n"
     ]
    },
    {
     "name": "stdout",
     "output_type": "stream",
     "text": [
      "Epoch:885/1000.. Train Loss: 0.017.. Val Loss: 0.245.. Test Loss: 0.145.. Time: 0.03m\n"
     ]
    },
    {
     "name": "stderr",
     "output_type": "stream",
     "text": [
      "100%|██████████| 107/107 [00:01<00:00, 57.28it/s]\n",
      "100%|██████████| 18/18 [00:00<00:00, 246.75it/s]\n",
      "100%|██████████| 53/53 [00:00<00:00, 248.90it/s]\n"
     ]
    },
    {
     "name": "stdout",
     "output_type": "stream",
     "text": [
      "Epoch:886/1000.. Train Loss: 0.015.. Val Loss: 0.242.. Test Loss: 0.145.. Time: 0.04m\n"
     ]
    },
    {
     "name": "stderr",
     "output_type": "stream",
     "text": [
      "100%|██████████| 107/107 [00:01<00:00, 53.67it/s]\n",
      "100%|██████████| 18/18 [00:00<00:00, 213.36it/s]\n",
      "100%|██████████| 53/53 [00:00<00:00, 243.61it/s]\n"
     ]
    },
    {
     "name": "stdout",
     "output_type": "stream",
     "text": [
      "Epoch:887/1000.. Train Loss: 0.017.. Val Loss: 0.232.. Test Loss: 0.144.. Time: 0.04m\n"
     ]
    },
    {
     "name": "stderr",
     "output_type": "stream",
     "text": [
      "100%|██████████| 107/107 [00:01<00:00, 56.29it/s]\n",
      "100%|██████████| 18/18 [00:00<00:00, 204.95it/s]\n",
      "100%|██████████| 53/53 [00:00<00:00, 198.11it/s]\n"
     ]
    },
    {
     "name": "stdout",
     "output_type": "stream",
     "text": [
      "Epoch:888/1000.. Train Loss: 0.015.. Val Loss: 0.233.. Test Loss: 0.147.. Time: 0.04m\n"
     ]
    },
    {
     "name": "stderr",
     "output_type": "stream",
     "text": [
      "100%|██████████| 107/107 [00:01<00:00, 55.88it/s]\n",
      "100%|██████████| 18/18 [00:00<00:00, 242.33it/s]\n",
      "100%|██████████| 53/53 [00:00<00:00, 240.52it/s]\n"
     ]
    },
    {
     "name": "stdout",
     "output_type": "stream",
     "text": [
      "Epoch:889/1000.. Train Loss: 0.017.. Val Loss: 0.249.. Test Loss: 0.147.. Time: 0.04m\n"
     ]
    },
    {
     "name": "stderr",
     "output_type": "stream",
     "text": [
      "100%|██████████| 107/107 [00:01<00:00, 59.15it/s]\n",
      "100%|██████████| 18/18 [00:00<00:00, 241.65it/s]\n",
      "100%|██████████| 53/53 [00:00<00:00, 241.19it/s]\n"
     ]
    },
    {
     "name": "stdout",
     "output_type": "stream",
     "text": [
      "Epoch:890/1000.. Train Loss: 0.017.. Val Loss: 0.231.. Test Loss: 0.144.. Time: 0.04m\n"
     ]
    },
    {
     "name": "stderr",
     "output_type": "stream",
     "text": [
      "100%|██████████| 107/107 [00:01<00:00, 54.53it/s]\n",
      "100%|██████████| 18/18 [00:00<00:00, 258.48it/s]\n",
      "100%|██████████| 53/53 [00:00<00:00, 238.61it/s]\n"
     ]
    },
    {
     "name": "stdout",
     "output_type": "stream",
     "text": [
      "Epoch:891/1000.. Train Loss: 0.015.. Val Loss: 0.229.. Test Loss: 0.146.. Time: 0.04m\n"
     ]
    },
    {
     "name": "stderr",
     "output_type": "stream",
     "text": [
      "100%|██████████| 107/107 [00:01<00:00, 58.94it/s]\n",
      "100%|██████████| 18/18 [00:00<00:00, 250.88it/s]\n",
      "100%|██████████| 53/53 [00:00<00:00, 243.83it/s]\n"
     ]
    },
    {
     "name": "stdout",
     "output_type": "stream",
     "text": [
      "Epoch:892/1000.. Train Loss: 0.015.. Val Loss: 0.257.. Test Loss: 0.146.. Time: 0.04m\n"
     ]
    },
    {
     "name": "stderr",
     "output_type": "stream",
     "text": [
      "100%|██████████| 107/107 [00:01<00:00, 60.45it/s]\n",
      "100%|██████████| 18/18 [00:00<00:00, 259.91it/s]\n",
      "100%|██████████| 53/53 [00:00<00:00, 243.71it/s]\n"
     ]
    },
    {
     "name": "stdout",
     "output_type": "stream",
     "text": [
      "Epoch:893/1000.. Train Loss: 0.014.. Val Loss: 0.230.. Test Loss: 0.145.. Time: 0.03m\n"
     ]
    },
    {
     "name": "stderr",
     "output_type": "stream",
     "text": [
      "100%|██████████| 107/107 [00:01<00:00, 56.09it/s]\n",
      "100%|██████████| 18/18 [00:00<00:00, 207.30it/s]\n",
      "100%|██████████| 53/53 [00:00<00:00, 212.50it/s]\n"
     ]
    },
    {
     "name": "stdout",
     "output_type": "stream",
     "text": [
      "Epoch:894/1000.. Train Loss: 0.014.. Val Loss: 0.229.. Test Loss: 0.146.. Time: 0.04m\n"
     ]
    },
    {
     "name": "stderr",
     "output_type": "stream",
     "text": [
      "100%|██████████| 107/107 [00:01<00:00, 56.88it/s]\n",
      "100%|██████████| 18/18 [00:00<00:00, 202.35it/s]\n",
      "100%|██████████| 53/53 [00:00<00:00, 243.86it/s]\n"
     ]
    },
    {
     "name": "stdout",
     "output_type": "stream",
     "text": [
      "Epoch:895/1000.. Train Loss: 0.015.. Val Loss: 0.236.. Test Loss: 0.148.. Time: 0.04m\n"
     ]
    },
    {
     "name": "stderr",
     "output_type": "stream",
     "text": [
      "100%|██████████| 107/107 [00:01<00:00, 56.42it/s]\n",
      "100%|██████████| 18/18 [00:00<00:00, 249.64it/s]\n",
      "100%|██████████| 53/53 [00:00<00:00, 239.33it/s]\n"
     ]
    },
    {
     "name": "stdout",
     "output_type": "stream",
     "text": [
      "Epoch:896/1000.. Train Loss: 0.016.. Val Loss: 0.228.. Test Loss: 0.146.. Time: 0.04m\n"
     ]
    },
    {
     "name": "stderr",
     "output_type": "stream",
     "text": [
      "100%|██████████| 107/107 [00:01<00:00, 58.63it/s]\n",
      "100%|██████████| 18/18 [00:00<00:00, 239.58it/s]\n",
      "100%|██████████| 53/53 [00:00<00:00, 257.08it/s]\n"
     ]
    },
    {
     "name": "stdout",
     "output_type": "stream",
     "text": [
      "Epoch:897/1000.. Train Loss: 0.013.. Val Loss: 0.229.. Test Loss: 0.147.. Time: 0.04m\n"
     ]
    },
    {
     "name": "stderr",
     "output_type": "stream",
     "text": [
      "100%|██████████| 107/107 [00:01<00:00, 58.04it/s]\n",
      "100%|██████████| 18/18 [00:00<00:00, 245.14it/s]\n",
      "100%|██████████| 53/53 [00:00<00:00, 246.27it/s]\n"
     ]
    },
    {
     "name": "stdout",
     "output_type": "stream",
     "text": [
      "Epoch:898/1000.. Train Loss: 0.015.. Val Loss: 0.249.. Test Loss: 0.146.. Time: 0.04m\n"
     ]
    },
    {
     "name": "stderr",
     "output_type": "stream",
     "text": [
      "100%|██████████| 107/107 [00:01<00:00, 55.44it/s]\n",
      "100%|██████████| 18/18 [00:00<00:00, 200.06it/s]\n",
      "100%|██████████| 53/53 [00:00<00:00, 233.45it/s]\n"
     ]
    },
    {
     "name": "stdout",
     "output_type": "stream",
     "text": [
      "Epoch:899/1000.. Train Loss: 0.015.. Val Loss: 0.257.. Test Loss: 0.145.. Time: 0.04m\n"
     ]
    },
    {
     "name": "stderr",
     "output_type": "stream",
     "text": [
      "100%|██████████| 107/107 [00:01<00:00, 55.23it/s]\n",
      "100%|██████████| 18/18 [00:00<00:00, 245.73it/s]\n",
      "100%|██████████| 53/53 [00:00<00:00, 246.40it/s]\n"
     ]
    },
    {
     "name": "stdout",
     "output_type": "stream",
     "text": [
      "Epoch:900/1000.. Train Loss: 0.014.. Val Loss: 0.229.. Test Loss: 0.145.. Time: 0.04m\n"
     ]
    },
    {
     "name": "stderr",
     "output_type": "stream",
     "text": [
      "100%|██████████| 107/107 [00:01<00:00, 58.63it/s]\n",
      "100%|██████████| 18/18 [00:00<00:00, 249.15it/s]\n",
      "100%|██████████| 53/53 [00:00<00:00, 251.93it/s]\n"
     ]
    },
    {
     "name": "stdout",
     "output_type": "stream",
     "text": [
      "Epoch:901/1000.. Train Loss: 0.016.. Val Loss: 0.232.. Test Loss: 0.146.. Time: 0.04m\n"
     ]
    },
    {
     "name": "stderr",
     "output_type": "stream",
     "text": [
      "100%|██████████| 107/107 [00:01<00:00, 57.88it/s]\n",
      "100%|██████████| 18/18 [00:00<00:00, 244.75it/s]\n",
      "100%|██████████| 53/53 [00:00<00:00, 242.01it/s]\n"
     ]
    },
    {
     "name": "stdout",
     "output_type": "stream",
     "text": [
      "Epoch:902/1000.. Train Loss: 0.014.. Val Loss: 0.231.. Test Loss: 0.147.. Time: 0.04m\n"
     ]
    },
    {
     "name": "stderr",
     "output_type": "stream",
     "text": [
      "100%|██████████| 107/107 [00:01<00:00, 58.75it/s]\n",
      "100%|██████████| 18/18 [00:00<00:00, 241.68it/s]\n",
      "100%|██████████| 53/53 [00:00<00:00, 228.81it/s]\n"
     ]
    },
    {
     "name": "stdout",
     "output_type": "stream",
     "text": [
      "Epoch:903/1000.. Train Loss: 0.016.. Val Loss: 0.235.. Test Loss: 0.147.. Time: 0.04m\n"
     ]
    },
    {
     "name": "stderr",
     "output_type": "stream",
     "text": [
      "100%|██████████| 107/107 [00:01<00:00, 55.61it/s]\n",
      "100%|██████████| 18/18 [00:00<00:00, 233.19it/s]\n",
      "100%|██████████| 53/53 [00:00<00:00, 248.06it/s]\n"
     ]
    },
    {
     "name": "stdout",
     "output_type": "stream",
     "text": [
      "Epoch:904/1000.. Train Loss: 0.017.. Val Loss: 0.231.. Test Loss: 0.148.. Time: 0.04m\n"
     ]
    },
    {
     "name": "stderr",
     "output_type": "stream",
     "text": [
      "100%|██████████| 107/107 [00:01<00:00, 56.92it/s]\n",
      "100%|██████████| 18/18 [00:00<00:00, 232.35it/s]\n",
      "100%|██████████| 53/53 [00:00<00:00, 240.06it/s]\n"
     ]
    },
    {
     "name": "stdout",
     "output_type": "stream",
     "text": [
      "Epoch:905/1000.. Train Loss: 0.019.. Val Loss: 0.229.. Test Loss: 0.146.. Time: 0.04m\n"
     ]
    },
    {
     "name": "stderr",
     "output_type": "stream",
     "text": [
      "100%|██████████| 107/107 [00:01<00:00, 59.86it/s]\n",
      "100%|██████████| 18/18 [00:00<00:00, 247.35it/s]\n",
      "100%|██████████| 53/53 [00:00<00:00, 245.47it/s]\n"
     ]
    },
    {
     "name": "stdout",
     "output_type": "stream",
     "text": [
      "Epoch:906/1000.. Train Loss: 0.015.. Val Loss: 0.228.. Test Loss: 0.145.. Time: 0.03m\n"
     ]
    },
    {
     "name": "stderr",
     "output_type": "stream",
     "text": [
      "100%|██████████| 107/107 [00:01<00:00, 54.79it/s]\n",
      "100%|██████████| 18/18 [00:00<00:00, 247.49it/s]\n",
      "100%|██████████| 53/53 [00:00<00:00, 225.64it/s]\n"
     ]
    },
    {
     "name": "stdout",
     "output_type": "stream",
     "text": [
      "Epoch:907/1000.. Train Loss: 0.016.. Val Loss: 0.227.. Test Loss: 0.145.. Time: 0.04m\n"
     ]
    },
    {
     "name": "stderr",
     "output_type": "stream",
     "text": [
      "100%|██████████| 107/107 [00:01<00:00, 58.58it/s]\n",
      "100%|██████████| 18/18 [00:00<00:00, 252.84it/s]\n",
      "100%|██████████| 53/53 [00:00<00:00, 246.60it/s]\n"
     ]
    },
    {
     "name": "stdout",
     "output_type": "stream",
     "text": [
      "Epoch:908/1000.. Train Loss: 0.015.. Val Loss: 0.227.. Test Loss: 0.146.. Time: 0.04m\n"
     ]
    },
    {
     "name": "stderr",
     "output_type": "stream",
     "text": [
      "100%|██████████| 107/107 [00:01<00:00, 58.17it/s]\n",
      "100%|██████████| 18/18 [00:00<00:00, 232.73it/s]\n",
      "100%|██████████| 53/53 [00:00<00:00, 237.59it/s]\n"
     ]
    },
    {
     "name": "stdout",
     "output_type": "stream",
     "text": [
      "Epoch:909/1000.. Train Loss: 0.015.. Val Loss: 0.232.. Test Loss: 0.147.. Time: 0.04m\n"
     ]
    },
    {
     "name": "stderr",
     "output_type": "stream",
     "text": [
      "100%|██████████| 107/107 [00:01<00:00, 57.00it/s]\n",
      "100%|██████████| 18/18 [00:00<00:00, 204.11it/s]\n",
      "100%|██████████| 53/53 [00:00<00:00, 244.20it/s]\n"
     ]
    },
    {
     "name": "stdout",
     "output_type": "stream",
     "text": [
      "Epoch:910/1000.. Train Loss: 0.015.. Val Loss: 0.229.. Test Loss: 0.147.. Time: 0.04m\n"
     ]
    },
    {
     "name": "stderr",
     "output_type": "stream",
     "text": [
      "100%|██████████| 107/107 [00:01<00:00, 53.95it/s]\n",
      "100%|██████████| 18/18 [00:00<00:00, 233.67it/s]\n",
      "100%|██████████| 53/53 [00:00<00:00, 226.90it/s]\n"
     ]
    },
    {
     "name": "stdout",
     "output_type": "stream",
     "text": [
      "Epoch:911/1000.. Train Loss: 0.015.. Val Loss: 0.226.. Test Loss: 0.146.. Time: 0.04m\n"
     ]
    },
    {
     "name": "stderr",
     "output_type": "stream",
     "text": [
      "100%|██████████| 107/107 [00:01<00:00, 56.51it/s]\n",
      "100%|██████████| 18/18 [00:00<00:00, 257.24it/s]\n",
      "100%|██████████| 53/53 [00:00<00:00, 246.13it/s]\n"
     ]
    },
    {
     "name": "stdout",
     "output_type": "stream",
     "text": [
      "Epoch:912/1000.. Train Loss: 0.017.. Val Loss: 0.224.. Test Loss: 0.146.. Time: 0.04m\n"
     ]
    },
    {
     "name": "stderr",
     "output_type": "stream",
     "text": [
      "100%|██████████| 107/107 [00:01<00:00, 58.55it/s]\n",
      "100%|██████████| 18/18 [00:00<00:00, 240.39it/s]\n",
      "100%|██████████| 53/53 [00:00<00:00, 250.06it/s]\n"
     ]
    },
    {
     "name": "stdout",
     "output_type": "stream",
     "text": [
      "Epoch:913/1000.. Train Loss: 0.014.. Val Loss: 0.232.. Test Loss: 0.147.. Time: 0.04m\n"
     ]
    },
    {
     "name": "stderr",
     "output_type": "stream",
     "text": [
      "100%|██████████| 107/107 [00:01<00:00, 58.22it/s]\n",
      "100%|██████████| 18/18 [00:00<00:00, 256.74it/s]\n",
      "100%|██████████| 53/53 [00:00<00:00, 228.32it/s]\n"
     ]
    },
    {
     "name": "stdout",
     "output_type": "stream",
     "text": [
      "Epoch:914/1000.. Train Loss: 0.016.. Val Loss: 0.227.. Test Loss: 0.147.. Time: 0.04m\n"
     ]
    },
    {
     "name": "stderr",
     "output_type": "stream",
     "text": [
      "100%|██████████| 107/107 [00:01<00:00, 55.52it/s]\n",
      "100%|██████████| 18/18 [00:00<00:00, 225.41it/s]\n",
      "100%|██████████| 53/53 [00:00<00:00, 224.55it/s]\n"
     ]
    },
    {
     "name": "stdout",
     "output_type": "stream",
     "text": [
      "Epoch:915/1000.. Train Loss: 0.018.. Val Loss: 0.230.. Test Loss: 0.147.. Time: 0.04m\n"
     ]
    },
    {
     "name": "stderr",
     "output_type": "stream",
     "text": [
      "100%|██████████| 107/107 [00:01<00:00, 56.02it/s]\n",
      "100%|██████████| 18/18 [00:00<00:00, 247.09it/s]\n",
      "100%|██████████| 53/53 [00:00<00:00, 251.11it/s]\n"
     ]
    },
    {
     "name": "stdout",
     "output_type": "stream",
     "text": [
      "Epoch:916/1000.. Train Loss: 0.013.. Val Loss: 0.227.. Test Loss: 0.147.. Time: 0.04m\n"
     ]
    },
    {
     "name": "stderr",
     "output_type": "stream",
     "text": [
      "100%|██████████| 107/107 [00:01<00:00, 57.40it/s]\n",
      "100%|██████████| 18/18 [00:00<00:00, 236.38it/s]\n",
      "100%|██████████| 53/53 [00:00<00:00, 238.49it/s]\n"
     ]
    },
    {
     "name": "stdout",
     "output_type": "stream",
     "text": [
      "Epoch:917/1000.. Train Loss: 0.017.. Val Loss: 0.227.. Test Loss: 0.147.. Time: 0.04m\n"
     ]
    },
    {
     "name": "stderr",
     "output_type": "stream",
     "text": [
      "100%|██████████| 107/107 [00:01<00:00, 56.14it/s]\n",
      "100%|██████████| 18/18 [00:00<00:00, 230.14it/s]\n",
      "100%|██████████| 53/53 [00:00<00:00, 232.97it/s]\n"
     ]
    },
    {
     "name": "stdout",
     "output_type": "stream",
     "text": [
      "Epoch:918/1000.. Train Loss: 0.021.. Val Loss: 0.225.. Test Loss: 0.147.. Time: 0.04m\n"
     ]
    },
    {
     "name": "stderr",
     "output_type": "stream",
     "text": [
      "100%|██████████| 107/107 [00:02<00:00, 53.35it/s]\n",
      "100%|██████████| 18/18 [00:00<00:00, 251.77it/s]\n",
      "100%|██████████| 53/53 [00:00<00:00, 244.07it/s]\n"
     ]
    },
    {
     "name": "stdout",
     "output_type": "stream",
     "text": [
      "Epoch:919/1000.. Train Loss: 0.015.. Val Loss: 0.241.. Test Loss: 0.147.. Time: 0.04m\n"
     ]
    },
    {
     "name": "stderr",
     "output_type": "stream",
     "text": [
      "100%|██████████| 107/107 [00:01<00:00, 59.48it/s]\n",
      "100%|██████████| 18/18 [00:00<00:00, 256.15it/s]\n",
      "100%|██████████| 53/53 [00:00<00:00, 249.65it/s]\n"
     ]
    },
    {
     "name": "stdout",
     "output_type": "stream",
     "text": [
      "Epoch:920/1000.. Train Loss: 0.019.. Val Loss: 0.225.. Test Loss: 0.146.. Time: 0.03m\n"
     ]
    },
    {
     "name": "stderr",
     "output_type": "stream",
     "text": [
      "100%|██████████| 107/107 [00:01<00:00, 59.44it/s]\n",
      "100%|██████████| 18/18 [00:00<00:00, 240.40it/s]\n",
      "100%|██████████| 53/53 [00:00<00:00, 245.16it/s]\n"
     ]
    },
    {
     "name": "stdout",
     "output_type": "stream",
     "text": [
      "Epoch:921/1000.. Train Loss: 0.013.. Val Loss: 0.227.. Test Loss: 0.148.. Time: 0.03m\n"
     ]
    },
    {
     "name": "stderr",
     "output_type": "stream",
     "text": [
      "100%|██████████| 107/107 [00:01<00:00, 56.18it/s]\n",
      "100%|██████████| 18/18 [00:00<00:00, 228.27it/s]\n",
      "100%|██████████| 53/53 [00:00<00:00, 240.11it/s]\n"
     ]
    },
    {
     "name": "stdout",
     "output_type": "stream",
     "text": [
      "Epoch:922/1000.. Train Loss: 0.015.. Val Loss: 0.225.. Test Loss: 0.147.. Time: 0.04m\n"
     ]
    },
    {
     "name": "stderr",
     "output_type": "stream",
     "text": [
      "100%|██████████| 107/107 [00:01<00:00, 59.30it/s]\n",
      "100%|██████████| 18/18 [00:00<00:00, 242.39it/s]\n",
      "100%|██████████| 53/53 [00:00<00:00, 250.24it/s]\n"
     ]
    },
    {
     "name": "stdout",
     "output_type": "stream",
     "text": [
      "Epoch:923/1000.. Train Loss: 0.015.. Val Loss: 0.235.. Test Loss: 0.147.. Time: 0.03m\n"
     ]
    },
    {
     "name": "stderr",
     "output_type": "stream",
     "text": [
      "100%|██████████| 107/107 [00:01<00:00, 61.50it/s]\n",
      "100%|██████████| 18/18 [00:00<00:00, 251.23it/s]\n",
      "100%|██████████| 53/53 [00:00<00:00, 254.47it/s]\n"
     ]
    },
    {
     "name": "stdout",
     "output_type": "stream",
     "text": [
      "Epoch:924/1000.. Train Loss: 0.019.. Val Loss: 0.225.. Test Loss: 0.147.. Time: 0.03m\n"
     ]
    },
    {
     "name": "stderr",
     "output_type": "stream",
     "text": [
      "100%|██████████| 107/107 [00:01<00:00, 61.14it/s]\n",
      "100%|██████████| 18/18 [00:00<00:00, 229.89it/s]\n",
      "100%|██████████| 53/53 [00:00<00:00, 234.73it/s]\n"
     ]
    },
    {
     "name": "stdout",
     "output_type": "stream",
     "text": [
      "Epoch:925/1000.. Train Loss: 0.015.. Val Loss: 0.225.. Test Loss: 0.147.. Time: 0.03m\n"
     ]
    },
    {
     "name": "stderr",
     "output_type": "stream",
     "text": [
      "100%|██████████| 107/107 [00:01<00:00, 57.54it/s]\n",
      "100%|██████████| 18/18 [00:00<00:00, 252.74it/s]\n",
      "100%|██████████| 53/53 [00:00<00:00, 251.52it/s]\n"
     ]
    },
    {
     "name": "stdout",
     "output_type": "stream",
     "text": [
      "Epoch:926/1000.. Train Loss: 0.015.. Val Loss: 0.226.. Test Loss: 0.147.. Time: 0.04m\n"
     ]
    },
    {
     "name": "stderr",
     "output_type": "stream",
     "text": [
      "100%|██████████| 107/107 [00:01<00:00, 57.96it/s]\n",
      "100%|██████████| 18/18 [00:00<00:00, 233.07it/s]\n",
      "100%|██████████| 53/53 [00:00<00:00, 229.39it/s]\n"
     ]
    },
    {
     "name": "stdout",
     "output_type": "stream",
     "text": [
      "Epoch:927/1000.. Train Loss: 0.015.. Val Loss: 0.226.. Test Loss: 0.148.. Time: 0.04m\n"
     ]
    },
    {
     "name": "stderr",
     "output_type": "stream",
     "text": [
      "100%|██████████| 107/107 [00:01<00:00, 56.58it/s]\n",
      "100%|██████████| 18/18 [00:00<00:00, 263.00it/s]\n",
      "100%|██████████| 53/53 [00:00<00:00, 244.00it/s]\n"
     ]
    },
    {
     "name": "stdout",
     "output_type": "stream",
     "text": [
      "Epoch:928/1000.. Train Loss: 0.015.. Val Loss: 0.231.. Test Loss: 0.148.. Time: 0.04m\n"
     ]
    },
    {
     "name": "stderr",
     "output_type": "stream",
     "text": [
      "100%|██████████| 107/107 [00:01<00:00, 59.18it/s]\n",
      "100%|██████████| 18/18 [00:00<00:00, 246.69it/s]\n",
      "100%|██████████| 53/53 [00:00<00:00, 246.62it/s]\n"
     ]
    },
    {
     "name": "stdout",
     "output_type": "stream",
     "text": [
      "Epoch:929/1000.. Train Loss: 0.015.. Val Loss: 0.226.. Test Loss: 0.148.. Time: 0.04m\n"
     ]
    },
    {
     "name": "stderr",
     "output_type": "stream",
     "text": [
      "100%|██████████| 107/107 [00:01<00:00, 57.62it/s]\n",
      "100%|██████████| 18/18 [00:00<00:00, 237.82it/s]\n",
      "100%|██████████| 53/53 [00:00<00:00, 243.37it/s]\n"
     ]
    },
    {
     "name": "stdout",
     "output_type": "stream",
     "text": [
      "Epoch:930/1000.. Train Loss: 0.014.. Val Loss: 0.254.. Test Loss: 0.148.. Time: 0.04m\n"
     ]
    },
    {
     "name": "stderr",
     "output_type": "stream",
     "text": [
      "100%|██████████| 107/107 [00:01<00:00, 57.90it/s]\n",
      "100%|██████████| 18/18 [00:00<00:00, 190.53it/s]\n",
      "100%|██████████| 53/53 [00:00<00:00, 229.63it/s]\n"
     ]
    },
    {
     "name": "stdout",
     "output_type": "stream",
     "text": [
      "Epoch:931/1000.. Train Loss: 0.014.. Val Loss: 0.232.. Test Loss: 0.148.. Time: 0.04m\n"
     ]
    },
    {
     "name": "stderr",
     "output_type": "stream",
     "text": [
      "100%|██████████| 107/107 [00:01<00:00, 56.23it/s]\n",
      "100%|██████████| 18/18 [00:00<00:00, 236.10it/s]\n",
      "100%|██████████| 53/53 [00:00<00:00, 252.27it/s]\n"
     ]
    },
    {
     "name": "stdout",
     "output_type": "stream",
     "text": [
      "Epoch:932/1000.. Train Loss: 0.019.. Val Loss: 0.223.. Test Loss: 0.148.. Time: 0.04m\n"
     ]
    },
    {
     "name": "stderr",
     "output_type": "stream",
     "text": [
      "100%|██████████| 107/107 [00:01<00:00, 56.28it/s]\n",
      "100%|██████████| 18/18 [00:00<00:00, 243.91it/s]\n",
      "100%|██████████| 53/53 [00:00<00:00, 231.92it/s]\n"
     ]
    },
    {
     "name": "stdout",
     "output_type": "stream",
     "text": [
      "Epoch:933/1000.. Train Loss: 0.016.. Val Loss: 0.230.. Test Loss: 0.147.. Time: 0.04m\n"
     ]
    },
    {
     "name": "stderr",
     "output_type": "stream",
     "text": [
      "100%|██████████| 107/107 [00:01<00:00, 67.26it/s]\n",
      "100%|██████████| 18/18 [00:00<00:00, 188.75it/s]\n",
      "100%|██████████| 53/53 [00:00<00:00, 250.16it/s]\n"
     ]
    },
    {
     "name": "stdout",
     "output_type": "stream",
     "text": [
      "Epoch:934/1000.. Train Loss: 0.014.. Val Loss: 0.224.. Test Loss: 0.148.. Time: 0.03m\n"
     ]
    },
    {
     "name": "stderr",
     "output_type": "stream",
     "text": [
      "100%|██████████| 107/107 [00:01<00:00, 67.58it/s]\n",
      "100%|██████████| 18/18 [00:00<00:00, 250.54it/s]\n",
      "100%|██████████| 53/53 [00:00<00:00, 252.12it/s]\n"
     ]
    },
    {
     "name": "stdout",
     "output_type": "stream",
     "text": [
      "Epoch:935/1000.. Train Loss: 0.014.. Val Loss: 0.224.. Test Loss: 0.148.. Time: 0.03m\n"
     ]
    },
    {
     "name": "stderr",
     "output_type": "stream",
     "text": [
      "100%|██████████| 107/107 [00:01<00:00, 66.44it/s]\n",
      "100%|██████████| 18/18 [00:00<00:00, 219.85it/s]\n",
      "100%|██████████| 53/53 [00:00<00:00, 236.67it/s]\n"
     ]
    },
    {
     "name": "stdout",
     "output_type": "stream",
     "text": [
      "Epoch:936/1000.. Train Loss: 0.016.. Val Loss: 0.224.. Test Loss: 0.148.. Time: 0.03m\n"
     ]
    },
    {
     "name": "stderr",
     "output_type": "stream",
     "text": [
      "100%|██████████| 107/107 [00:01<00:00, 59.37it/s]\n",
      "100%|██████████| 18/18 [00:00<00:00, 239.75it/s]\n",
      "100%|██████████| 53/53 [00:00<00:00, 251.40it/s]\n"
     ]
    },
    {
     "name": "stdout",
     "output_type": "stream",
     "text": [
      "Epoch:937/1000.. Train Loss: 0.014.. Val Loss: 0.224.. Test Loss: 0.148.. Time: 0.03m\n"
     ]
    },
    {
     "name": "stderr",
     "output_type": "stream",
     "text": [
      "100%|██████████| 107/107 [00:01<00:00, 57.34it/s]\n",
      "100%|██████████| 18/18 [00:00<00:00, 242.88it/s]\n",
      "100%|██████████| 53/53 [00:00<00:00, 241.66it/s]\n"
     ]
    },
    {
     "name": "stdout",
     "output_type": "stream",
     "text": [
      "Epoch:938/1000.. Train Loss: 0.014.. Val Loss: 0.231.. Test Loss: 0.148.. Time: 0.04m\n"
     ]
    },
    {
     "name": "stderr",
     "output_type": "stream",
     "text": [
      "100%|██████████| 107/107 [00:01<00:00, 58.15it/s]\n",
      "100%|██████████| 18/18 [00:00<00:00, 198.80it/s]\n",
      "100%|██████████| 53/53 [00:00<00:00, 246.63it/s]\n"
     ]
    },
    {
     "name": "stdout",
     "output_type": "stream",
     "text": [
      "Epoch:939/1000.. Train Loss: 0.017.. Val Loss: 0.225.. Test Loss: 0.148.. Time: 0.04m\n"
     ]
    },
    {
     "name": "stderr",
     "output_type": "stream",
     "text": [
      "100%|██████████| 107/107 [00:01<00:00, 55.24it/s]\n",
      "100%|██████████| 18/18 [00:00<00:00, 252.42it/s]\n",
      "100%|██████████| 53/53 [00:00<00:00, 238.01it/s]\n"
     ]
    },
    {
     "name": "stdout",
     "output_type": "stream",
     "text": [
      "Epoch:940/1000.. Train Loss: 0.014.. Val Loss: 0.245.. Test Loss: 0.148.. Time: 0.04m\n"
     ]
    },
    {
     "name": "stderr",
     "output_type": "stream",
     "text": [
      "100%|██████████| 107/107 [00:01<00:00, 56.68it/s]\n",
      "100%|██████████| 18/18 [00:00<00:00, 234.98it/s]\n",
      "100%|██████████| 53/53 [00:00<00:00, 238.48it/s]\n"
     ]
    },
    {
     "name": "stdout",
     "output_type": "stream",
     "text": [
      "Epoch:941/1000.. Train Loss: 0.018.. Val Loss: 0.228.. Test Loss: 0.148.. Time: 0.04m\n"
     ]
    },
    {
     "name": "stderr",
     "output_type": "stream",
     "text": [
      "100%|██████████| 107/107 [00:01<00:00, 55.61it/s]\n",
      "100%|██████████| 18/18 [00:00<00:00, 235.94it/s]\n",
      "100%|██████████| 53/53 [00:00<00:00, 235.90it/s]\n"
     ]
    },
    {
     "name": "stdout",
     "output_type": "stream",
     "text": [
      "Epoch:942/1000.. Train Loss: 0.014.. Val Loss: 0.226.. Test Loss: 0.148.. Time: 0.04m\n"
     ]
    },
    {
     "name": "stderr",
     "output_type": "stream",
     "text": [
      "100%|██████████| 107/107 [00:01<00:00, 59.81it/s]\n",
      "100%|██████████| 18/18 [00:00<00:00, 248.28it/s]\n",
      "100%|██████████| 53/53 [00:00<00:00, 244.92it/s]\n"
     ]
    },
    {
     "name": "stdout",
     "output_type": "stream",
     "text": [
      "Epoch:943/1000.. Train Loss: 0.015.. Val Loss: 0.253.. Test Loss: 0.147.. Time: 0.03m\n"
     ]
    },
    {
     "name": "stderr",
     "output_type": "stream",
     "text": [
      "100%|██████████| 107/107 [00:02<00:00, 53.49it/s]\n",
      "100%|██████████| 18/18 [00:00<00:00, 229.20it/s]\n",
      "100%|██████████| 53/53 [00:00<00:00, 242.11it/s]\n"
     ]
    },
    {
     "name": "stdout",
     "output_type": "stream",
     "text": [
      "Epoch:944/1000.. Train Loss: 0.017.. Val Loss: 0.225.. Test Loss: 0.147.. Time: 0.04m\n"
     ]
    },
    {
     "name": "stderr",
     "output_type": "stream",
     "text": [
      "100%|██████████| 107/107 [00:01<00:00, 56.60it/s]\n",
      "100%|██████████| 18/18 [00:00<00:00, 258.64it/s]\n",
      "100%|██████████| 53/53 [00:00<00:00, 236.49it/s]\n"
     ]
    },
    {
     "name": "stdout",
     "output_type": "stream",
     "text": [
      "Epoch:945/1000.. Train Loss: 0.014.. Val Loss: 0.226.. Test Loss: 0.147.. Time: 0.04m\n"
     ]
    },
    {
     "name": "stderr",
     "output_type": "stream",
     "text": [
      "100%|██████████| 107/107 [00:01<00:00, 56.69it/s]\n",
      "100%|██████████| 18/18 [00:00<00:00, 254.55it/s]\n",
      "100%|██████████| 53/53 [00:00<00:00, 245.57it/s]\n"
     ]
    },
    {
     "name": "stdout",
     "output_type": "stream",
     "text": [
      "Epoch:946/1000.. Train Loss: 0.014.. Val Loss: 0.227.. Test Loss: 0.147.. Time: 0.04m\n"
     ]
    },
    {
     "name": "stderr",
     "output_type": "stream",
     "text": [
      "100%|██████████| 107/107 [00:01<00:00, 57.82it/s]\n",
      "100%|██████████| 18/18 [00:00<00:00, 219.61it/s]\n",
      "100%|██████████| 53/53 [00:00<00:00, 248.96it/s]\n"
     ]
    },
    {
     "name": "stdout",
     "output_type": "stream",
     "text": [
      "Epoch:947/1000.. Train Loss: 0.017.. Val Loss: 0.233.. Test Loss: 0.147.. Time: 0.04m\n"
     ]
    },
    {
     "name": "stderr",
     "output_type": "stream",
     "text": [
      "100%|██████████| 107/107 [00:01<00:00, 58.18it/s]\n",
      "100%|██████████| 18/18 [00:00<00:00, 211.88it/s]\n",
      "100%|██████████| 53/53 [00:00<00:00, 206.76it/s]\n"
     ]
    },
    {
     "name": "stdout",
     "output_type": "stream",
     "text": [
      "Epoch:948/1000.. Train Loss: 0.018.. Val Loss: 0.226.. Test Loss: 0.147.. Time: 0.04m\n"
     ]
    },
    {
     "name": "stderr",
     "output_type": "stream",
     "text": [
      "100%|██████████| 107/107 [00:01<00:00, 58.02it/s]\n",
      "100%|██████████| 18/18 [00:00<00:00, 227.67it/s]\n",
      "100%|██████████| 53/53 [00:00<00:00, 232.81it/s]\n"
     ]
    },
    {
     "name": "stdout",
     "output_type": "stream",
     "text": [
      "Epoch:949/1000.. Train Loss: 0.013.. Val Loss: 0.235.. Test Loss: 0.148.. Time: 0.04m\n"
     ]
    },
    {
     "name": "stderr",
     "output_type": "stream",
     "text": [
      "100%|██████████| 107/107 [00:01<00:00, 57.16it/s]\n",
      "100%|██████████| 18/18 [00:00<00:00, 251.48it/s]\n",
      "100%|██████████| 53/53 [00:00<00:00, 245.20it/s]\n"
     ]
    },
    {
     "name": "stdout",
     "output_type": "stream",
     "text": [
      "Epoch:950/1000.. Train Loss: 0.014.. Val Loss: 0.226.. Test Loss: 0.148.. Time: 0.04m\n"
     ]
    },
    {
     "name": "stderr",
     "output_type": "stream",
     "text": [
      "100%|██████████| 107/107 [00:01<00:00, 57.90it/s]\n",
      "100%|██████████| 18/18 [00:00<00:00, 228.56it/s]\n",
      "100%|██████████| 53/53 [00:00<00:00, 257.55it/s]\n"
     ]
    },
    {
     "name": "stdout",
     "output_type": "stream",
     "text": [
      "Epoch:951/1000.. Train Loss: 0.016.. Val Loss: 0.227.. Test Loss: 0.148.. Time: 0.04m\n"
     ]
    },
    {
     "name": "stderr",
     "output_type": "stream",
     "text": [
      "100%|██████████| 107/107 [00:01<00:00, 58.80it/s]\n",
      "100%|██████████| 18/18 [00:00<00:00, 247.92it/s]\n",
      "100%|██████████| 53/53 [00:00<00:00, 213.42it/s]\n"
     ]
    },
    {
     "name": "stdout",
     "output_type": "stream",
     "text": [
      "Epoch:952/1000.. Train Loss: 0.017.. Val Loss: 0.232.. Test Loss: 0.148.. Time: 0.04m\n"
     ]
    },
    {
     "name": "stderr",
     "output_type": "stream",
     "text": [
      "100%|██████████| 107/107 [00:01<00:00, 56.82it/s]\n",
      "100%|██████████| 18/18 [00:00<00:00, 229.50it/s]\n",
      "100%|██████████| 53/53 [00:00<00:00, 254.91it/s]\n"
     ]
    },
    {
     "name": "stdout",
     "output_type": "stream",
     "text": [
      "Epoch:953/1000.. Train Loss: 0.015.. Val Loss: 0.234.. Test Loss: 0.148.. Time: 0.04m\n"
     ]
    },
    {
     "name": "stderr",
     "output_type": "stream",
     "text": [
      "100%|██████████| 107/107 [00:01<00:00, 61.62it/s]\n",
      "100%|██████████| 18/18 [00:00<00:00, 243.56it/s]\n",
      "100%|██████████| 53/53 [00:00<00:00, 240.86it/s]\n"
     ]
    },
    {
     "name": "stdout",
     "output_type": "stream",
     "text": [
      "Epoch:954/1000.. Train Loss: 0.016.. Val Loss: 0.227.. Test Loss: 0.148.. Time: 0.03m\n"
     ]
    },
    {
     "name": "stderr",
     "output_type": "stream",
     "text": [
      "100%|██████████| 107/107 [00:01<00:00, 58.20it/s]\n",
      "100%|██████████| 18/18 [00:00<00:00, 191.19it/s]\n",
      "100%|██████████| 53/53 [00:00<00:00, 247.15it/s]\n"
     ]
    },
    {
     "name": "stdout",
     "output_type": "stream",
     "text": [
      "Epoch:955/1000.. Train Loss: 0.015.. Val Loss: 0.235.. Test Loss: 0.148.. Time: 0.04m\n"
     ]
    },
    {
     "name": "stderr",
     "output_type": "stream",
     "text": [
      "100%|██████████| 107/107 [00:01<00:00, 59.37it/s]\n",
      "100%|██████████| 18/18 [00:00<00:00, 244.34it/s]\n",
      "100%|██████████| 53/53 [00:00<00:00, 232.07it/s]\n"
     ]
    },
    {
     "name": "stdout",
     "output_type": "stream",
     "text": [
      "Epoch:956/1000.. Train Loss: 0.016.. Val Loss: 0.227.. Test Loss: 0.148.. Time: 0.04m\n"
     ]
    },
    {
     "name": "stderr",
     "output_type": "stream",
     "text": [
      "100%|██████████| 107/107 [00:01<00:00, 54.24it/s]\n",
      "100%|██████████| 18/18 [00:00<00:00, 215.66it/s]\n",
      "100%|██████████| 53/53 [00:00<00:00, 244.96it/s]\n"
     ]
    },
    {
     "name": "stdout",
     "output_type": "stream",
     "text": [
      "Epoch:957/1000.. Train Loss: 0.017.. Val Loss: 0.226.. Test Loss: 0.147.. Time: 0.04m\n"
     ]
    },
    {
     "name": "stderr",
     "output_type": "stream",
     "text": [
      "100%|██████████| 107/107 [00:01<00:00, 58.75it/s]\n",
      "100%|██████████| 18/18 [00:00<00:00, 216.43it/s]\n",
      "100%|██████████| 53/53 [00:00<00:00, 243.06it/s]\n"
     ]
    },
    {
     "name": "stdout",
     "output_type": "stream",
     "text": [
      "Epoch:958/1000.. Train Loss: 0.019.. Val Loss: 0.226.. Test Loss: 0.147.. Time: 0.04m\n"
     ]
    },
    {
     "name": "stderr",
     "output_type": "stream",
     "text": [
      "100%|██████████| 107/107 [00:01<00:00, 59.79it/s]\n",
      "100%|██████████| 18/18 [00:00<00:00, 252.02it/s]\n",
      "100%|██████████| 53/53 [00:00<00:00, 250.23it/s]\n"
     ]
    },
    {
     "name": "stdout",
     "output_type": "stream",
     "text": [
      "Epoch:959/1000.. Train Loss: 0.015.. Val Loss: 0.225.. Test Loss: 0.147.. Time: 0.03m\n"
     ]
    },
    {
     "name": "stderr",
     "output_type": "stream",
     "text": [
      "100%|██████████| 107/107 [00:01<00:00, 58.90it/s]\n",
      "100%|██████████| 18/18 [00:00<00:00, 201.30it/s]\n",
      "100%|██████████| 53/53 [00:00<00:00, 243.93it/s]\n"
     ]
    },
    {
     "name": "stdout",
     "output_type": "stream",
     "text": [
      "Epoch:960/1000.. Train Loss: 0.013.. Val Loss: 0.225.. Test Loss: 0.148.. Time: 0.04m\n"
     ]
    },
    {
     "name": "stderr",
     "output_type": "stream",
     "text": [
      "100%|██████████| 107/107 [00:01<00:00, 57.58it/s]\n",
      "100%|██████████| 18/18 [00:00<00:00, 247.81it/s]\n",
      "100%|██████████| 53/53 [00:00<00:00, 242.54it/s]\n"
     ]
    },
    {
     "name": "stdout",
     "output_type": "stream",
     "text": [
      "Epoch:961/1000.. Train Loss: 0.013.. Val Loss: 0.225.. Test Loss: 0.148.. Time: 0.04m\n"
     ]
    },
    {
     "name": "stderr",
     "output_type": "stream",
     "text": [
      "100%|██████████| 107/107 [00:01<00:00, 53.77it/s]\n",
      "100%|██████████| 18/18 [00:00<00:00, 265.06it/s]\n",
      "100%|██████████| 53/53 [00:00<00:00, 246.70it/s]\n"
     ]
    },
    {
     "name": "stdout",
     "output_type": "stream",
     "text": [
      "Epoch:962/1000.. Train Loss: 0.015.. Val Loss: 0.241.. Test Loss: 0.148.. Time: 0.04m\n"
     ]
    },
    {
     "name": "stderr",
     "output_type": "stream",
     "text": [
      "100%|██████████| 107/107 [00:01<00:00, 56.43it/s]\n",
      "100%|██████████| 18/18 [00:00<00:00, 240.09it/s]\n",
      "100%|██████████| 53/53 [00:00<00:00, 233.10it/s]\n"
     ]
    },
    {
     "name": "stdout",
     "output_type": "stream",
     "text": [
      "Epoch:963/1000.. Train Loss: 0.015.. Val Loss: 0.226.. Test Loss: 0.148.. Time: 0.04m\n"
     ]
    },
    {
     "name": "stderr",
     "output_type": "stream",
     "text": [
      "100%|██████████| 107/107 [00:01<00:00, 56.83it/s]\n",
      "100%|██████████| 18/18 [00:00<00:00, 227.06it/s]\n",
      "100%|██████████| 53/53 [00:00<00:00, 230.67it/s]\n"
     ]
    },
    {
     "name": "stdout",
     "output_type": "stream",
     "text": [
      "Epoch:964/1000.. Train Loss: 0.019.. Val Loss: 0.234.. Test Loss: 0.147.. Time: 0.04m\n"
     ]
    },
    {
     "name": "stderr",
     "output_type": "stream",
     "text": [
      "100%|██████████| 107/107 [00:01<00:00, 57.78it/s]\n",
      "100%|██████████| 18/18 [00:00<00:00, 208.40it/s]\n",
      "100%|██████████| 53/53 [00:00<00:00, 212.83it/s]\n"
     ]
    },
    {
     "name": "stdout",
     "output_type": "stream",
     "text": [
      "Epoch:965/1000.. Train Loss: 0.016.. Val Loss: 0.228.. Test Loss: 0.148.. Time: 0.04m\n"
     ]
    },
    {
     "name": "stderr",
     "output_type": "stream",
     "text": [
      "100%|██████████| 107/107 [00:01<00:00, 55.01it/s]\n",
      "100%|██████████| 18/18 [00:00<00:00, 224.44it/s]\n",
      "100%|██████████| 53/53 [00:00<00:00, 205.57it/s]\n"
     ]
    },
    {
     "name": "stdout",
     "output_type": "stream",
     "text": [
      "Epoch:966/1000.. Train Loss: 0.014.. Val Loss: 0.231.. Test Loss: 0.148.. Time: 0.04m\n"
     ]
    },
    {
     "name": "stderr",
     "output_type": "stream",
     "text": [
      "100%|██████████| 107/107 [00:01<00:00, 57.78it/s]\n",
      "100%|██████████| 18/18 [00:00<00:00, 235.20it/s]\n",
      "100%|██████████| 53/53 [00:00<00:00, 239.64it/s]\n"
     ]
    },
    {
     "name": "stdout",
     "output_type": "stream",
     "text": [
      "Epoch:967/1000.. Train Loss: 0.017.. Val Loss: 0.254.. Test Loss: 0.148.. Time: 0.04m\n"
     ]
    },
    {
     "name": "stderr",
     "output_type": "stream",
     "text": [
      "100%|██████████| 107/107 [00:01<00:00, 54.40it/s]\n",
      "100%|██████████| 18/18 [00:00<00:00, 255.75it/s]\n",
      "100%|██████████| 53/53 [00:00<00:00, 252.50it/s]\n"
     ]
    },
    {
     "name": "stdout",
     "output_type": "stream",
     "text": [
      "Epoch:968/1000.. Train Loss: 0.016.. Val Loss: 0.227.. Test Loss: 0.148.. Time: 0.04m\n"
     ]
    },
    {
     "name": "stderr",
     "output_type": "stream",
     "text": [
      "100%|██████████| 107/107 [00:01<00:00, 59.46it/s]\n",
      "100%|██████████| 18/18 [00:00<00:00, 244.76it/s]\n",
      "100%|██████████| 53/53 [00:00<00:00, 247.30it/s]\n"
     ]
    },
    {
     "name": "stdout",
     "output_type": "stream",
     "text": [
      "Epoch:969/1000.. Train Loss: 0.017.. Val Loss: 0.260.. Test Loss: 0.147.. Time: 0.03m\n"
     ]
    },
    {
     "name": "stderr",
     "output_type": "stream",
     "text": [
      "100%|██████████| 107/107 [00:01<00:00, 56.28it/s]\n",
      "100%|██████████| 18/18 [00:00<00:00, 286.29it/s]\n",
      "100%|██████████| 53/53 [00:00<00:00, 230.10it/s]\n"
     ]
    },
    {
     "name": "stdout",
     "output_type": "stream",
     "text": [
      "Epoch:970/1000.. Train Loss: 0.015.. Val Loss: 0.225.. Test Loss: 0.147.. Time: 0.04m\n"
     ]
    },
    {
     "name": "stderr",
     "output_type": "stream",
     "text": [
      "100%|██████████| 107/107 [00:01<00:00, 59.19it/s]\n",
      "100%|██████████| 18/18 [00:00<00:00, 200.12it/s]\n",
      "100%|██████████| 53/53 [00:00<00:00, 241.42it/s]\n"
     ]
    },
    {
     "name": "stdout",
     "output_type": "stream",
     "text": [
      "Epoch:971/1000.. Train Loss: 0.015.. Val Loss: 0.226.. Test Loss: 0.148.. Time: 0.04m\n"
     ]
    },
    {
     "name": "stderr",
     "output_type": "stream",
     "text": [
      "100%|██████████| 107/107 [00:01<00:00, 55.20it/s]\n",
      "100%|██████████| 18/18 [00:00<00:00, 254.18it/s]\n",
      "100%|██████████| 53/53 [00:00<00:00, 239.97it/s]\n"
     ]
    },
    {
     "name": "stdout",
     "output_type": "stream",
     "text": [
      "Epoch:972/1000.. Train Loss: 0.015.. Val Loss: 0.253.. Test Loss: 0.148.. Time: 0.04m\n"
     ]
    },
    {
     "name": "stderr",
     "output_type": "stream",
     "text": [
      "100%|██████████| 107/107 [00:01<00:00, 55.90it/s]\n",
      "100%|██████████| 18/18 [00:00<00:00, 233.46it/s]\n",
      "100%|██████████| 53/53 [00:00<00:00, 250.78it/s]\n"
     ]
    },
    {
     "name": "stdout",
     "output_type": "stream",
     "text": [
      "Epoch:973/1000.. Train Loss: 0.015.. Val Loss: 0.235.. Test Loss: 0.147.. Time: 0.04m\n"
     ]
    },
    {
     "name": "stderr",
     "output_type": "stream",
     "text": [
      "100%|██████████| 107/107 [00:01<00:00, 57.30it/s]\n",
      "100%|██████████| 18/18 [00:00<00:00, 255.50it/s]\n",
      "100%|██████████| 53/53 [00:00<00:00, 250.20it/s]\n"
     ]
    },
    {
     "name": "stdout",
     "output_type": "stream",
     "text": [
      "Epoch:974/1000.. Train Loss: 0.016.. Val Loss: 0.226.. Test Loss: 0.147.. Time: 0.04m\n"
     ]
    },
    {
     "name": "stderr",
     "output_type": "stream",
     "text": [
      "100%|██████████| 107/107 [00:01<00:00, 53.54it/s]\n",
      "100%|██████████| 18/18 [00:00<00:00, 247.88it/s]\n",
      "100%|██████████| 53/53 [00:00<00:00, 225.95it/s]\n"
     ]
    },
    {
     "name": "stdout",
     "output_type": "stream",
     "text": [
      "Epoch:975/1000.. Train Loss: 0.014.. Val Loss: 0.225.. Test Loss: 0.148.. Time: 0.04m\n"
     ]
    },
    {
     "name": "stderr",
     "output_type": "stream",
     "text": [
      "100%|██████████| 107/107 [00:01<00:00, 58.33it/s]\n",
      "100%|██████████| 18/18 [00:00<00:00, 245.36it/s]\n",
      "100%|██████████| 53/53 [00:00<00:00, 229.80it/s]\n"
     ]
    },
    {
     "name": "stdout",
     "output_type": "stream",
     "text": [
      "Epoch:976/1000.. Train Loss: 0.017.. Val Loss: 0.253.. Test Loss: 0.147.. Time: 0.04m\n"
     ]
    },
    {
     "name": "stderr",
     "output_type": "stream",
     "text": [
      "100%|██████████| 107/107 [00:01<00:00, 54.01it/s]\n",
      "100%|██████████| 18/18 [00:00<00:00, 237.78it/s]\n",
      "100%|██████████| 53/53 [00:00<00:00, 250.36it/s]\n"
     ]
    },
    {
     "name": "stdout",
     "output_type": "stream",
     "text": [
      "Epoch:977/1000.. Train Loss: 0.016.. Val Loss: 0.232.. Test Loss: 0.147.. Time: 0.04m\n"
     ]
    },
    {
     "name": "stderr",
     "output_type": "stream",
     "text": [
      "100%|██████████| 107/107 [00:01<00:00, 56.53it/s]\n",
      "100%|██████████| 18/18 [00:00<00:00, 234.69it/s]\n",
      "100%|██████████| 53/53 [00:00<00:00, 229.84it/s]\n"
     ]
    },
    {
     "name": "stdout",
     "output_type": "stream",
     "text": [
      "Epoch:978/1000.. Train Loss: 0.015.. Val Loss: 0.225.. Test Loss: 0.147.. Time: 0.04m\n"
     ]
    },
    {
     "name": "stderr",
     "output_type": "stream",
     "text": [
      "100%|██████████| 107/107 [00:01<00:00, 58.58it/s]\n",
      "100%|██████████| 18/18 [00:00<00:00, 243.47it/s]\n",
      "100%|██████████| 53/53 [00:00<00:00, 237.26it/s]\n"
     ]
    },
    {
     "name": "stdout",
     "output_type": "stream",
     "text": [
      "Epoch:979/1000.. Train Loss: 0.015.. Val Loss: 0.225.. Test Loss: 0.148.. Time: 0.04m\n"
     ]
    },
    {
     "name": "stderr",
     "output_type": "stream",
     "text": [
      "100%|██████████| 107/107 [00:01<00:00, 56.12it/s]\n",
      "100%|██████████| 18/18 [00:00<00:00, 247.27it/s]\n",
      "100%|██████████| 53/53 [00:00<00:00, 233.84it/s]\n"
     ]
    },
    {
     "name": "stdout",
     "output_type": "stream",
     "text": [
      "Epoch:980/1000.. Train Loss: 0.020.. Val Loss: 0.225.. Test Loss: 0.148.. Time: 0.04m\n"
     ]
    },
    {
     "name": "stderr",
     "output_type": "stream",
     "text": [
      "100%|██████████| 107/107 [00:01<00:00, 58.65it/s]\n",
      "100%|██████████| 18/18 [00:00<00:00, 249.89it/s]\n",
      "100%|██████████| 53/53 [00:00<00:00, 244.98it/s]\n"
     ]
    },
    {
     "name": "stdout",
     "output_type": "stream",
     "text": [
      "Epoch:981/1000.. Train Loss: 0.018.. Val Loss: 0.225.. Test Loss: 0.147.. Time: 0.04m\n"
     ]
    },
    {
     "name": "stderr",
     "output_type": "stream",
     "text": [
      "100%|██████████| 107/107 [00:02<00:00, 51.51it/s]\n",
      "100%|██████████| 18/18 [00:00<00:00, 206.09it/s]\n",
      "100%|██████████| 53/53 [00:00<00:00, 210.54it/s]\n"
     ]
    },
    {
     "name": "stdout",
     "output_type": "stream",
     "text": [
      "Epoch:982/1000.. Train Loss: 0.015.. Val Loss: 0.226.. Test Loss: 0.148.. Time: 0.04m\n"
     ]
    },
    {
     "name": "stderr",
     "output_type": "stream",
     "text": [
      "100%|██████████| 107/107 [00:01<00:00, 55.30it/s]\n",
      "100%|██████████| 18/18 [00:00<00:00, 249.75it/s]\n",
      "100%|██████████| 53/53 [00:00<00:00, 241.42it/s]\n"
     ]
    },
    {
     "name": "stdout",
     "output_type": "stream",
     "text": [
      "Epoch:983/1000.. Train Loss: 0.014.. Val Loss: 0.226.. Test Loss: 0.148.. Time: 0.04m\n"
     ]
    },
    {
     "name": "stderr",
     "output_type": "stream",
     "text": [
      "100%|██████████| 107/107 [00:01<00:00, 61.43it/s]\n",
      "100%|██████████| 18/18 [00:00<00:00, 231.23it/s]\n",
      "100%|██████████| 53/53 [00:00<00:00, 254.03it/s]\n"
     ]
    },
    {
     "name": "stdout",
     "output_type": "stream",
     "text": [
      "Epoch:984/1000.. Train Loss: 0.015.. Val Loss: 0.226.. Test Loss: 0.147.. Time: 0.03m\n"
     ]
    },
    {
     "name": "stderr",
     "output_type": "stream",
     "text": [
      "100%|██████████| 107/107 [00:01<00:00, 58.63it/s]\n",
      "100%|██████████| 18/18 [00:00<00:00, 249.11it/s]\n",
      "100%|██████████| 53/53 [00:00<00:00, 250.96it/s]\n"
     ]
    },
    {
     "name": "stdout",
     "output_type": "stream",
     "text": [
      "Epoch:985/1000.. Train Loss: 0.013.. Val Loss: 0.230.. Test Loss: 0.147.. Time: 0.04m\n"
     ]
    },
    {
     "name": "stderr",
     "output_type": "stream",
     "text": [
      "100%|██████████| 107/107 [00:01<00:00, 60.71it/s]\n",
      "100%|██████████| 18/18 [00:00<00:00, 249.47it/s]\n",
      "100%|██████████| 53/53 [00:00<00:00, 252.33it/s]\n"
     ]
    },
    {
     "name": "stdout",
     "output_type": "stream",
     "text": [
      "Epoch:986/1000.. Train Loss: 0.016.. Val Loss: 0.225.. Test Loss: 0.148.. Time: 0.03m\n"
     ]
    },
    {
     "name": "stderr",
     "output_type": "stream",
     "text": [
      "100%|██████████| 107/107 [00:01<00:00, 68.27it/s]\n",
      "100%|██████████| 18/18 [00:00<00:00, 264.24it/s]\n",
      "100%|██████████| 53/53 [00:00<00:00, 254.65it/s]\n"
     ]
    },
    {
     "name": "stdout",
     "output_type": "stream",
     "text": [
      "Epoch:987/1000.. Train Loss: 0.018.. Val Loss: 0.233.. Test Loss: 0.148.. Time: 0.03m\n"
     ]
    },
    {
     "name": "stderr",
     "output_type": "stream",
     "text": [
      "100%|██████████| 107/107 [00:01<00:00, 67.62it/s]\n",
      "100%|██████████| 18/18 [00:00<00:00, 252.63it/s]\n",
      "100%|██████████| 53/53 [00:00<00:00, 229.43it/s]\n"
     ]
    },
    {
     "name": "stdout",
     "output_type": "stream",
     "text": [
      "Epoch:988/1000.. Train Loss: 0.016.. Val Loss: 0.225.. Test Loss: 0.147.. Time: 0.03m\n"
     ]
    },
    {
     "name": "stderr",
     "output_type": "stream",
     "text": [
      "100%|██████████| 107/107 [00:01<00:00, 57.77it/s]\n",
      "100%|██████████| 18/18 [00:00<00:00, 241.58it/s]\n",
      "100%|██████████| 53/53 [00:00<00:00, 238.10it/s]\n"
     ]
    },
    {
     "name": "stdout",
     "output_type": "stream",
     "text": [
      "Epoch:989/1000.. Train Loss: 0.022.. Val Loss: 0.225.. Test Loss: 0.147.. Time: 0.04m\n"
     ]
    },
    {
     "name": "stderr",
     "output_type": "stream",
     "text": [
      "100%|██████████| 107/107 [00:01<00:00, 56.59it/s]\n",
      "100%|██████████| 18/18 [00:00<00:00, 251.25it/s]\n",
      "100%|██████████| 53/53 [00:00<00:00, 228.09it/s]\n"
     ]
    },
    {
     "name": "stdout",
     "output_type": "stream",
     "text": [
      "Epoch:990/1000.. Train Loss: 0.014.. Val Loss: 0.226.. Test Loss: 0.147.. Time: 0.04m\n"
     ]
    },
    {
     "name": "stderr",
     "output_type": "stream",
     "text": [
      "100%|██████████| 107/107 [00:01<00:00, 54.54it/s]\n",
      "100%|██████████| 18/18 [00:00<00:00, 249.20it/s]\n",
      "100%|██████████| 53/53 [00:00<00:00, 247.78it/s]\n"
     ]
    },
    {
     "name": "stdout",
     "output_type": "stream",
     "text": [
      "Epoch:991/1000.. Train Loss: 0.014.. Val Loss: 0.225.. Test Loss: 0.147.. Time: 0.04m\n"
     ]
    },
    {
     "name": "stderr",
     "output_type": "stream",
     "text": [
      "100%|██████████| 107/107 [00:01<00:00, 55.79it/s]\n",
      "100%|██████████| 18/18 [00:00<00:00, 249.10it/s]\n",
      "100%|██████████| 53/53 [00:00<00:00, 240.99it/s]\n"
     ]
    },
    {
     "name": "stdout",
     "output_type": "stream",
     "text": [
      "Epoch:992/1000.. Train Loss: 0.016.. Val Loss: 0.230.. Test Loss: 0.147.. Time: 0.04m\n"
     ]
    },
    {
     "name": "stderr",
     "output_type": "stream",
     "text": [
      "100%|██████████| 107/107 [00:01<00:00, 58.86it/s]\n",
      "100%|██████████| 18/18 [00:00<00:00, 231.01it/s]\n",
      "100%|██████████| 53/53 [00:00<00:00, 219.41it/s]\n"
     ]
    },
    {
     "name": "stdout",
     "output_type": "stream",
     "text": [
      "Epoch:993/1000.. Train Loss: 0.018.. Val Loss: 0.225.. Test Loss: 0.147.. Time: 0.04m\n"
     ]
    },
    {
     "name": "stderr",
     "output_type": "stream",
     "text": [
      "100%|██████████| 107/107 [00:01<00:00, 57.15it/s]\n",
      "100%|██████████| 18/18 [00:00<00:00, 185.19it/s]\n",
      "100%|██████████| 53/53 [00:00<00:00, 232.86it/s]\n"
     ]
    },
    {
     "name": "stdout",
     "output_type": "stream",
     "text": [
      "Epoch:994/1000.. Train Loss: 0.015.. Val Loss: 0.225.. Test Loss: 0.147.. Time: 0.04m\n"
     ]
    },
    {
     "name": "stderr",
     "output_type": "stream",
     "text": [
      "100%|██████████| 107/107 [00:01<00:00, 55.84it/s]\n",
      "100%|██████████| 18/18 [00:00<00:00, 208.14it/s]\n",
      "100%|██████████| 53/53 [00:00<00:00, 237.34it/s]\n"
     ]
    },
    {
     "name": "stdout",
     "output_type": "stream",
     "text": [
      "Epoch:995/1000.. Train Loss: 0.016.. Val Loss: 0.252.. Test Loss: 0.147.. Time: 0.04m\n"
     ]
    },
    {
     "name": "stderr",
     "output_type": "stream",
     "text": [
      "100%|██████████| 107/107 [00:01<00:00, 57.68it/s]\n",
      "100%|██████████| 18/18 [00:00<00:00, 232.56it/s]\n",
      "100%|██████████| 53/53 [00:00<00:00, 235.32it/s]\n"
     ]
    },
    {
     "name": "stdout",
     "output_type": "stream",
     "text": [
      "Epoch:996/1000.. Train Loss: 0.013.. Val Loss: 0.226.. Test Loss: 0.147.. Time: 0.04m\n"
     ]
    },
    {
     "name": "stderr",
     "output_type": "stream",
     "text": [
      "100%|██████████| 107/107 [00:01<00:00, 59.25it/s]\n",
      "100%|██████████| 18/18 [00:00<00:00, 252.25it/s]\n",
      "100%|██████████| 53/53 [00:00<00:00, 240.09it/s]\n"
     ]
    },
    {
     "name": "stdout",
     "output_type": "stream",
     "text": [
      "Epoch:997/1000.. Train Loss: 0.016.. Val Loss: 0.225.. Test Loss: 0.147.. Time: 0.04m\n"
     ]
    },
    {
     "name": "stderr",
     "output_type": "stream",
     "text": [
      "100%|██████████| 107/107 [00:01<00:00, 60.77it/s]\n",
      "100%|██████████| 18/18 [00:00<00:00, 241.41it/s]\n",
      "100%|██████████| 53/53 [00:00<00:00, 242.70it/s]\n"
     ]
    },
    {
     "name": "stdout",
     "output_type": "stream",
     "text": [
      "Epoch:998/1000.. Train Loss: 0.016.. Val Loss: 0.225.. Test Loss: 0.147.. Time: 0.03m\n"
     ]
    },
    {
     "name": "stderr",
     "output_type": "stream",
     "text": [
      "100%|██████████| 107/107 [00:01<00:00, 60.22it/s]\n",
      "100%|██████████| 18/18 [00:00<00:00, 243.09it/s]\n",
      "100%|██████████| 53/53 [00:00<00:00, 238.68it/s]\n"
     ]
    },
    {
     "name": "stdout",
     "output_type": "stream",
     "text": [
      "Epoch:999/1000.. Train Loss: 0.016.. Val Loss: 0.252.. Test Loss: 0.147.. Time: 0.03m\n"
     ]
    },
    {
     "name": "stderr",
     "output_type": "stream",
     "text": [
      "100%|██████████| 107/107 [00:01<00:00, 55.92it/s]\n",
      "100%|██████████| 18/18 [00:00<00:00, 227.42it/s]\n",
      "100%|██████████| 53/53 [00:00<00:00, 225.51it/s]"
     ]
    },
    {
     "name": "stdout",
     "output_type": "stream",
     "text": [
      "Epoch:1000/1000.. Train Loss: 0.016.. Val Loss: 0.231.. Test Loss: 0.147.. Time: 0.04m\n",
      "Total time: 35.13 m\n"
     ]
    },
    {
     "name": "stderr",
     "output_type": "stream",
     "text": [
      "\n"
     ]
    }
   ],
   "source": [
    "training.fit(model, train_loader, validation_loader, test_loader)\n",
    "best_model = training.get_best_model()"
   ]
  },
  {
   "cell_type": "code",
   "execution_count": 29,
   "metadata": {
    "tags": []
   },
   "outputs": [
    {
     "data": {
      "text/plain": [
       "<matplotlib.legend.Legend at 0x2b1713605580>"
      ]
     },
     "execution_count": 29,
     "metadata": {},
     "output_type": "execute_result"
    },
    {
     "data": {
      "image/png": "[encoded data removed]",
      "text/plain": [
       "<Figure size 640x480 with 1 Axes>"
      ]
     },
     "metadata": {},
     "output_type": "display_data"
    }
   ],
   "source": [
    "fig, ax = plt.subplots()\n",
    "\n",
    "ax.plot(training.results['Train'], label='Train')\n",
    "ax.plot(training.results['Validation'], label='Validation')\n",
    "ax.plot(training.results['Test'], label='Test')\n",
    "ax.legend()"
   ]
  },
  {
   "cell_type": "markdown",
   "metadata": {},
   "source": [
    "## Evaluation and plotting classes"
   ]
  },
  {
   "cell_type": "code",
   "execution_count": 30,
   "metadata": {
    "tags": []
   },
   "outputs": [],
   "source": [
    "class OSAEvaluator:\n",
    "    \n",
    "    def evaluate_OSA(self, dataset, model):\n",
    "        \n",
    "        torch.cuda.empty_cache()\n",
    "        Y_real = []\n",
    "        Y_pred = []\n",
    "        for i, data in enumerate(tqdm(dataset)):\n",
    "            src, tgt, y_real = data\n",
    "            src, tgt, y_real = src.to(device), tgt.to(device), y_real.to(device)\n",
    "            y_pred = model(src, tgt)\n",
    "            Y_real.append(y_real.reshape(1,-1))\n",
    "            Y_pred.append(y_pred)\n",
    "        \n",
    "        Y_real = torch.vstack(Y_real).cpu()\n",
    "        Y_pred = torch.vstack(Y_pred).cpu().detach()\n",
    "        print('********** OSA Evaluation summary **********')\n",
    "        print(f'OSA MSE: {mean_squared_error(Y_real, Y_pred)}')\n",
    "        print(f'OSA RMSE: {np.sqrt(mean_squared_error(Y_real, Y_pred))}')\n",
    "        print(f'OSA R2 score: {r2_score(Y_real, Y_pred)}')\n",
    "        print('********************************************')\n",
    "        return Y_real, Y_pred\n",
    "            \n",
    "class FSEvaluator:\n",
    "    \n",
    "    def evaluate_FS(self, dataset, model):\n",
    "        \n",
    "        torch.cuda.empty_cache()\n",
    "        Y_real = []\n",
    "        Y_pred = []\n",
    "        tgt_sim = None\n",
    "        for i, data in enumerate(tqdm(dataset)):\n",
    "            src, tgt, y_real = data\n",
    "            src, tgt, y_real = src.to(device), tgt.to(device), y_real.to(device)\n",
    "            if tgt_sim is None:\n",
    "                tgt_sim = tgt\n",
    "            else:\n",
    "                tgt_sim[:-1,:] = tgt_sim[1:,:]\n",
    "                tgt_sim[-1,:] = y_pred\n",
    "            y_pred = model(src, tgt_sim)\n",
    "            Y_real.append(y_real.reshape(1,-1))\n",
    "            Y_pred.append(y_pred)\n",
    "        \n",
    "        Y_real = torch.vstack(Y_real).cpu()\n",
    "        Y_pred = torch.vstack(Y_pred).cpu().detach()\n",
    "        print('*********** FS Evaluation summary **********')\n",
    "        print(f'FS MSE: {mean_squared_error(Y_real, Y_pred)}')\n",
    "        print(f'FS RMSE: {np.sqrt(mean_squared_error(Y_real, Y_pred))}')\n",
    "        print(f'FS R2 score: {r2_score(Y_real, Y_pred)}')\n",
    "        print('********************************************')\n",
    "        return Y_real, Y_pred\n",
    "    \n",
    "class Evaluator(OSAEvaluator, FSEvaluator):\n",
    "    \n",
    "    pass\n",
    "        "
   ]
  },
  {
   "cell_type": "code",
   "execution_count": 31,
   "metadata": {
    "tags": []
   },
   "outputs": [
    {
     "name": "stderr",
     "output_type": "stream",
     "text": [
      "100%|██████████| 707/707 [00:03<00:00, 211.49it/s]\n"
     ]
    },
    {
     "name": "stdout",
     "output_type": "stream",
     "text": [
      "********** OSA Evaluation summary **********\n",
      "OSA MSE: 0.07307636737823486\n",
      "OSA RMSE: 0.2703264057636261\n",
      "OSA R2 score: 0.7816747763007322\n",
      "********************************************\n"
     ]
    },
    {
     "name": "stderr",
     "output_type": "stream",
     "text": [
      "100%|██████████| 707/707 [00:03<00:00, 213.93it/s]"
     ]
    },
    {
     "name": "stdout",
     "output_type": "stream",
     "text": [
      "*********** FS Evaluation summary **********\n",
      "FS MSE: 0.35041099786758423\n",
      "FS RMSE: 0.5919552445411682\n",
      "FS R2 score: -0.04689873835459579\n",
      "********************************************\n"
     ]
    },
    {
     "name": "stderr",
     "output_type": "stream",
     "text": [
      "\n"
     ]
    }
   ],
   "source": [
    "evaluator = Evaluator()\n",
    "Y_real, Y_pred_OSA = evaluator.evaluate_OSA(dataset, model)\n",
    "Y_real, Y_pred_FS = evaluator.evaluate_FS(dataset, model)"
   ]
  },
  {
   "cell_type": "code",
   "execution_count": 32,
   "metadata": {
    "tags": []
   },
   "outputs": [
    {
     "data": {
      "text/plain": [
       "<matplotlib.legend.Legend at 0x2b17ae42d5e0>"
      ]
     },
     "execution_count": 32,
     "metadata": {},
     "output_type": "execute_result"
    },
    {
     "data": {
      "image/png": "[encoded data removed]",
      "text/plain": [
       "<Figure size 640x480 with 1 Axes>"
      ]
     },
     "metadata": {},
     "output_type": "display_data"
    }
   ],
   "source": [
    "fig, ax = plt.subplots()\n",
    "ax.plot(Y_real, label='Real')\n",
    "ax.plot(Y_pred_OSA, label='OSA')\n",
    "ax.plot(Y_pred_FS, label='FS')\n",
    "ax.legend()"
   ]
  },
  {
   "cell_type": "code",
   "execution_count": 33,
   "metadata": {},
   "outputs": [
    {
     "name": "stderr",
     "output_type": "stream",
     "text": [
      "100%|██████████| 707/707 [00:03<00:00, 214.77it/s]\n"
     ]
    },
    {
     "name": "stdout",
     "output_type": "stream",
     "text": [
      "********** OSA Evaluation summary **********\n",
      "OSA MSE: 0.07097885012626648\n",
      "OSA RMSE: 0.26641857624053955\n",
      "OSA R2 score: 0.787941377165618\n",
      "********************************************\n"
     ]
    },
    {
     "name": "stderr",
     "output_type": "stream",
     "text": [
      "100%|██████████| 707/707 [00:03<00:00, 215.06it/s]"
     ]
    },
    {
     "name": "stdout",
     "output_type": "stream",
     "text": [
      "*********** FS Evaluation summary **********\n",
      "FS MSE: 0.10105742514133453\n",
      "FS RMSE: 0.3178952932357788\n",
      "FS R2 score: 0.6980776996505222\n",
      "********************************************\n"
     ]
    },
    {
     "name": "stderr",
     "output_type": "stream",
     "text": [
      "\n"
     ]
    }
   ],
   "source": [
    "evaluator = Evaluator()\n",
    "Y_real, Y_pred_OSA = evaluator.evaluate_OSA(dataset, best_model)\n",
    "Y_real, Y_pred_FS = evaluator.evaluate_FS(dataset, best_model)"
   ]
  },
  {
   "cell_type": "code",
   "execution_count": 34,
   "metadata": {
    "tags": []
   },
   "outputs": [
    {
     "data": {
      "text/plain": [
       "<matplotlib.legend.Legend at 0x2b17aea50d60>"
      ]
     },
     "execution_count": 34,
     "metadata": {},
     "output_type": "execute_result"
    },
    {
     "data": {
      "image/png": "[encoded data removed]",
      "text/plain": [
       "<Figure size 640x480 with 1 Axes>"
      ]
     },
     "metadata": {},
     "output_type": "display_data"
    }
   ],
   "source": [
    "fig, ax = plt.subplots()\n",
    "ax.plot(Y_real, label='Real')\n",
    "ax.plot(Y_pred_OSA, label='OSA')\n",
    "ax.plot(Y_pred_FS, label='FS')\n",
    "ax.legend()"
   ]
  }
 ],
 "metadata": {
  "kernelspec": {
   "display_name": "raul_dl",
   "language": "python",
   "name": "raul_dl"
  },
  "language_info": {
   "codemirror_mode": {
    "name": "ipython",
    "version": 3
   },
   "file_extension": ".py",
   "mimetype": "text/x-python",
   "name": "python",
   "nbconvert_exporter": "python",
   "pygments_lexer": "ipython3",
   "version": "3.9.13"
  }
 },
 "nbformat": 4,
 "nbformat_minor": 4
}
