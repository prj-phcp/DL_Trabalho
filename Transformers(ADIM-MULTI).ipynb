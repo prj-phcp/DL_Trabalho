{
 "cells": [
  {
   "cell_type": "code",
   "execution_count": 1,
   "metadata": {
    "tags": []
   },
   "outputs": [
    {
     "name": "stdout",
     "output_type": "stream",
     "text": [
      "Sun Jun 11 16:25:22 2023       \n",
      "+-----------------------------------------------------------------------------+\n",
      "| NVIDIA-SMI 515.43.04    Driver Version: 515.43.04    CUDA Version: 11.7     |\n",
      "|-------------------------------+----------------------+----------------------+\n",
      "| GPU  Name        Persistence-M| Bus-Id        Disp.A | Volatile Uncorr. ECC |\n",
      "| Fan  Temp  Perf  Pwr:Usage/Cap|         Memory-Usage | GPU-Util  Compute M. |\n",
      "|                               |                      |               MIG M. |\n",
      "|===============================+======================+======================|\n",
      "|   0  Tesla V100-SXM2...  Off  | 00000000:15:00.0 Off |                    0 |\n",
      "| N/A   29C    P0    52W / 300W |    920MiB / 32768MiB |      6%      Default |\n",
      "|                               |                      |                  N/A |\n",
      "+-------------------------------+----------------------+----------------------+\n",
      "                                                                               \n",
      "+-----------------------------------------------------------------------------+\n",
      "| Processes:                                                                  |\n",
      "|  GPU   GI   CI        PID   Type   Process name                  GPU Memory |\n",
      "|        ID   ID                                                   Usage      |\n",
      "|=============================================================================|\n",
      "|    0   N/A  N/A     24672      C   .../venvs/dl_raul/bin/python      917MiB |\n",
      "+-----------------------------------------------------------------------------+\n"
     ]
    }
   ],
   "source": [
    "import math\n",
    "import json\n",
    "import time\n",
    "import numpy as np\n",
    "import pandas as pd\n",
    "import matplotlib.pyplot as plt\n",
    "from tqdm import tqdm\n",
    "\n",
    "import torch\n",
    "import torch.nn as nn\n",
    "import torch.optim as optim\n",
    "from torch.utils.data import Dataset\n",
    "from torch.utils.data.sampler import SubsetRandomSampler\n",
    "\n",
    "from sklearn.preprocessing import MinMaxScaler, RobustScaler\n",
    "from sklearn.model_selection import train_test_split\n",
    "from sklearn.metrics import mean_squared_error, r2_score\n",
    "\n",
    "!nvidia-smi"
   ]
  },
  {
   "cell_type": "code",
   "execution_count": 2,
   "metadata": {
    "tags": []
   },
   "outputs": [
    {
     "name": "stdout",
     "output_type": "stream",
     "text": [
      "cuda:0\n"
     ]
    }
   ],
   "source": [
    "# Dispositivo onde tensores serão criados, armazenados e processados\n",
    "device = torch.device(\"cuda:0\" if torch.cuda.is_available() else \"cpu\")\n",
    "print(device)\n",
    "# Randon Seed fixa para resultados reprodutíveis\n",
    "seed = 42\n",
    "torch.manual_seed(seed)\n",
    "torch.cuda.manual_seed(seed)\n",
    "np.random.seed(seed)"
   ]
  },
  {
   "cell_type": "markdown",
   "metadata": {},
   "source": [
    "## Data Loader"
   ]
  },
  {
   "cell_type": "code",
   "execution_count": 3,
   "metadata": {
    "tags": []
   },
   "outputs": [],
   "source": [
    "class WellLoader(Dataset):\n",
    "    \n",
    "    def __init__(self, \n",
    "                 path, \n",
    "                 wells, \n",
    "                 var_in, \n",
    "                 var_out,\n",
    "                 normalizing_percentile=90.0,\n",
    "                 normalizing_split=0.2,\n",
    "                 normalizer=RobustScaler,\n",
    "                 max_sequence=16, \n",
    "                 step=1):\n",
    "        \n",
    "        self.path = path\n",
    "        with open(self.path + '/metadata.json', 'r') as metafile:\n",
    "            self.metadata = json.loads(metafile.read())\n",
    "        self.wells = wells\n",
    "        self.var_in = var_in\n",
    "        self.var_out = var_out\n",
    "        self.normalizing_percentile=normalizing_percentile\n",
    "        self.normalizing_split = normalizing_split\n",
    "        self.normalizer = normalizer\n",
    "        self.max_sequence = max_sequence\n",
    "        self.step = step\n",
    "        self.batches_X = None\n",
    "        self.batches_Y = None\n",
    "        self.outputs = None\n",
    "        self.normalizers = []\n",
    "        \n",
    "        indexes = self.get_wells_index(self.wells)\n",
    "        self.load_data_by_index(indexes)\n",
    "        \n",
    "    def get_wells_index(self, wells):\n",
    "        \n",
    "        indexes = []\n",
    "        for well, filt in wells:\n",
    "            indexes.extend([(meta['INDEX'], filt) for meta in self.metadata if meta['WELL'] == well])\n",
    "        return indexes\n",
    "    \n",
    "    def load_data_by_index(self, indexes):\n",
    "        \n",
    "        batches_X = []\n",
    "        batches_Y = []\n",
    "        outputs = []\n",
    "        for index, filt in indexes:\n",
    "            data = pd.read_json(f'{self.path}/{index}.json')#.reset_index()\n",
    "            # Armengue: Por liq vol para preencher o dataset\n",
    "            data['BORE_LIQ_VOL'] = data['BORE_OIL_VOL'] + data['BORE_WAT_VOL']\n",
    "            data = data[self.var_in + self.var_out].dropna().reset_index(drop=True)\n",
    "            X = data[self.var_in].values[filt,:]\n",
    "            Y = data[self.var_out].values[filt,:]\n",
    "            X_base, _, Y_base, _ = train_test_split(X, Y, test_size = self.normalizing_split)\n",
    "            #scaler_X = X_base.max(axis=0, keepdims=True)\n",
    "            #scaler_Y = Y_base.max(axis=0, keepdims=True)\n",
    "            #scaler_X = self.normalizer().fit(X_base)\n",
    "            #scaler_Y = self.normalizer().fit(Y_base)\n",
    "            scaler_X = np.percentile(X_base,self.normalizing_percentile,axis=0,keepdims=True)\n",
    "            scaler_Y = np.percentile(Y_base,self.normalizing_percentile,axis=0,keepdims=True)\n",
    "            self.normalizers.append((scaler_X, scaler_Y))\n",
    "            #X, Y = scaler_X.transform(X), scaler_Y.transform(Y)\n",
    "            X, Y = X / scaler_X, Y / scaler_Y\n",
    "            X, Y = torch.from_numpy(X.astype('float32')), torch.from_numpy(Y.astype('float32'))\n",
    "            output = Y[self.max_sequence::self.step]\n",
    "            #print(Y.shape)\n",
    "            #X = torch.split(X, self.max_sequence, dim= 0)\n",
    "            #Y = torch.split(Y, self.max_sequence, dim= 0)\n",
    "            X = X.unfold(0,self.max_sequence, self.step)\n",
    "            Y = Y.unfold(0,self.max_sequence, self.step)\n",
    "            batches_X.append(X)\n",
    "            batches_Y.append(Y)\n",
    "            outputs.append(output)\n",
    "            #print(X.shape)\n",
    "        self.batches_X = torch.concat(batches_X, axis=0)\n",
    "        self.batches_Y = torch.concat(batches_Y, axis=0)\n",
    "        self.outputs = torch.concat(outputs, axis=0)\n",
    "            \n",
    "    def __len__(self):\n",
    "        \n",
    "        return self.outputs.shape[0]\n",
    "    \n",
    "    def __getitem__(self, idx):\n",
    "                        \n",
    "        srcs = self.batches_X[idx,:,:]\n",
    "        trgts = self.batches_Y[idx,:,:]\n",
    "        output = self.outputs[idx,:]\n",
    "        \n",
    "        return srcs, trgts, output\n",
    "        \n",
    "        "
   ]
  },
  {
   "cell_type": "code",
   "execution_count": 4,
   "metadata": {},
   "outputs": [
    {
     "name": "stdout",
     "output_type": "stream",
     "text": [
      "Total data for training :5424\n"
     ]
    }
   ],
   "source": [
    "path = './dataset/volve'\n",
    "wells = [\n",
    "    ('15/9-F-11', slice(15, None)),\n",
    "    ('15/9-F-12', slice(None, 800)),\n",
    "    ('15/9-F-14', slice(200, None)),\n",
    "    ('15/9-F-15 D', slice(10, 900)),\n",
    "    #('15/9-F-5', slice(None, None)),\n",
    "][::-1]\n",
    "\n",
    "#wells = [\n",
    "#    ('15/9-F-11', slice(15, 600)),\n",
    "#    ('15/9-F-12', slice(None, 800)),\n",
    "#    ('15/9-F-14', slice(1900, None)),\n",
    "#    ('15/9-F-15 D', slice(10, 900)),\n",
    "#    #('15/9-F-5', slice(None, None)),\n",
    "#][::-1]\n",
    "\n",
    "var_in = [\n",
    "        'AVG_DOWNHOLE_PRESSURE',\n",
    "        'AVG_WHP_P',\n",
    "        'AVG_CHOKE_SIZE_P',\n",
    "        'AVG_WHT_P',\n",
    "        'AVG_DOWNHOLE_TEMPERATURE',\n",
    "]\n",
    "\n",
    "var_out = [\n",
    "        #'BORE_OIL_VOL',\n",
    "        'BORE_LIQ_VOL',\n",
    "        #'BORE_GAS_VOL',\n",
    "        #'BORE_WAT_VOL',\n",
    "]\n",
    "\n",
    "\n",
    "dataset = WellLoader(path, wells, var_in, var_out, max_sequence = 16)\n",
    "print(f'Total data for training :{len(dataset)}')"
   ]
  },
  {
   "cell_type": "code",
   "execution_count": 5,
   "metadata": {
    "tags": []
   },
   "outputs": [
    {
     "name": "stdout",
     "output_type": "stream",
     "text": [
      "Total data for testing :699\n"
     ]
    }
   ],
   "source": [
    "path = './dataset/volve'\n",
    "wells = [\n",
    "    ('15/9-F-1 C', slice(28, None)),\n",
    "]\n",
    "\n",
    "var_in = [\n",
    "        'AVG_DOWNHOLE_PRESSURE',\n",
    "        'AVG_WHP_P',\n",
    "        'AVG_CHOKE_SIZE_P',\n",
    "        'AVG_WHT_P',\n",
    "        'AVG_DOWNHOLE_TEMPERATURE',\n",
    "]\n",
    "\n",
    "var_out = [\n",
    "        #'BORE_OIL_VOL',\n",
    "        'BORE_LIQ_VOL',\n",
    "        #'BORE_GAS_VOL',\n",
    "        #'BORE_WAT_VOL',\n",
    "]\n",
    "\n",
    "\n",
    "test_dataset = WellLoader(path, wells, var_in, var_out, max_sequence = 16)\n",
    "print(f'Total data for testing :{len(test_dataset)}')"
   ]
  },
  {
   "cell_type": "code",
   "execution_count": 6,
   "metadata": {
    "tags": []
   },
   "outputs": [],
   "source": [
    "class SubsetSplitter:\n",
    "    \n",
    "    def __init__(self, batch_size, validation_split, test_split, shuffle=False):\n",
    "        \n",
    "        self.batch_size = batch_size\n",
    "        self.validation_split = validation_split\n",
    "        self.test_split = test_split\n",
    "        self.shuffle = shuffle\n",
    "        \n",
    "    def __call__(self, dataset:Dataset):\n",
    "        \n",
    "        dataset_size = len(dataset)\n",
    "        indices = list(range(dataset_size))\n",
    "        validation_split = int(np.floor(self.validation_split * dataset_size))\n",
    "        test_split = int(np.floor(self.test_split * dataset_size))\n",
    "        train_split = dataset_size - validation_split - test_split\n",
    "        # Extracting test independently of others\n",
    "        test_indices = indices[train_split + validation_split:]\n",
    "        indices = indices[:train_split + validation_split]\n",
    "        if self.shuffle :\n",
    "            np.random.shuffle(indices)\n",
    "        train_indices = indices[:train_split]\n",
    "        validation_indices = indices[train_split:]\n",
    "\n",
    "        # Creating PT data samplers and loaders:\n",
    "        train_sampler = SubsetRandomSampler(train_indices)\n",
    "        valid_sampler = SubsetRandomSampler(validation_indices)\n",
    "        test_sampler = SubsetRandomSampler(test_indices)\n",
    "\n",
    "        train_loader = torch.utils.data.DataLoader(dataset, batch_size=self.batch_size, \n",
    "                                                   sampler=train_sampler)\n",
    "        validation_loader = torch.utils.data.DataLoader(dataset, batch_size=self.batch_size,\n",
    "                                                    sampler=valid_sampler)\n",
    "        test_loader = torch.utils.data.DataLoader(dataset, batch_size=self.batch_size,\n",
    "                                                    sampler=test_sampler)\n",
    "        \n",
    "        return train_loader, validation_loader, test_loader"
   ]
  },
  {
   "cell_type": "code",
   "execution_count": 7,
   "metadata": {
    "tags": []
   },
   "outputs": [],
   "source": [
    "splitter = SubsetSplitter(16, 0.25, 0.05)\n",
    "train_loader, validation_loader, test_loader = splitter(dataset)"
   ]
  },
  {
   "cell_type": "markdown",
   "metadata": {},
   "source": [
    "## Model definition"
   ]
  },
  {
   "cell_type": "code",
   "execution_count": 8,
   "metadata": {},
   "outputs": [
    {
     "data": {
      "text/plain": [
       "tensor([[[0.0000, 0.0000, 0.0000, 1.4286, 0.0000, 1.4286, 0.0000, 1.4286,\n",
       "          0.0000, 0.0000],\n",
       "         [0.0000, 0.0000, 0.0000, 0.0000, 0.0000, 1.4286, 0.0000, 0.0000,\n",
       "          0.0000, 1.4286]]])"
      ]
     },
     "execution_count": 8,
     "metadata": {},
     "output_type": "execute_result"
    }
   ],
   "source": [
    "class PositionalEncoding(nn.Module):\n",
    "    def __init__(self, dim_model, dropout_p, max_len):\n",
    "        super().__init__()\n",
    "        # Modified version from: https://pytorch.org/tutorials/beginner/transformer_tutorial.html\n",
    "        # max_len determines how far the position can have an effect on a token (window)\n",
    "        \n",
    "        # Info\n",
    "        self.dropout = nn.Dropout(dropout_p)\n",
    "        \n",
    "        # Encoding - From formula\n",
    "        pos_encoding = torch.zeros(max_len, dim_model)\n",
    "        positions_list = torch.arange(0, max_len, dtype=torch.float).view(-1, 1) # 0, 1, 2, 3, 4, 5\n",
    "        division_term = torch.exp(torch.arange(0, dim_model, 2).float() * (-math.log(10000.0)) / dim_model) # 1000^(2i/dim_model)\n",
    "        \n",
    "        # PE(pos, 2i) = sin(pos/1000^(2i/dim_model))\n",
    "        pos_encoding[:, 0::2] = torch.sin(positions_list * division_term)\n",
    "        \n",
    "        # PE(pos, 2i + 1) = cos(pos/1000^(2i/dim_model))\n",
    "        pos_encoding[:, 1::2] = torch.cos(positions_list * division_term)\n",
    "        \n",
    "        # Saving buffer (same as parameter without gradients needed)\n",
    "        pos_encoding = pos_encoding.unsqueeze(0).transpose(0, 1)\n",
    "        self.register_buffer(\"pos_encoding\",pos_encoding)\n",
    "        \n",
    "    def forward(self, token_embedding: torch.tensor) -> torch.tensor:\n",
    "        # Residual connection + pos encoding\n",
    "        return self.dropout(token_embedding + self.pos_encoding[:token_embedding.size(0), :])\n",
    "    \n",
    "    \n",
    "positional_encoding = PositionalEncoding(dim_model = 10, dropout_p=0.3, max_len=1200)\n",
    "tensor = torch.zeros((1,2,10))\n",
    "tensor\n",
    "encoded = positional_encoding(tensor)\n",
    "encoded"
   ]
  },
  {
   "cell_type": "code",
   "execution_count": 9,
   "metadata": {},
   "outputs": [],
   "source": [
    "class Transformer(nn.Module):\n",
    "    \"\"\"\n",
    "    Model from \"A detailed guide to Pytorch's nn.Transformer() module.\", by\n",
    "    Daniel Melchor: https://medium.com/@danielmelchor/a-detailed-guide-to-pytorchs-nn-transformer-module-c80afbc9ffb1\n",
    "    \"\"\"\n",
    "    # Constructor\n",
    "    def __init__(\n",
    "        self,\n",
    "        num_outputs,\n",
    "        dim_model,\n",
    "        num_heads,\n",
    "        num_encoder_layers,\n",
    "        num_decoder_layers,\n",
    "        dropout_p,\n",
    "        dim_feedforward =2048,\n",
    "        num_linear_layers=0,\n",
    "        norm_first=False\n",
    "    ):\n",
    "        super().__init__()\n",
    "\n",
    "        # INFO\n",
    "        self.model_type = \"Transformer\"\n",
    "        self.dim_model = dim_model\n",
    "\n",
    "        # LAYERS\n",
    "        self.positional_encoder = PositionalEncoding(\n",
    "            dim_model=dim_model, dropout_p=dropout_p, max_len=5000\n",
    "        )\n",
    "        #self.embedding = nn.Embedding(num_outputs, dim_model)\n",
    "        self.transformer = nn.Transformer(\n",
    "            d_model=dim_model,\n",
    "            nhead=num_heads,\n",
    "            num_encoder_layers=num_encoder_layers,\n",
    "            num_decoder_layers=num_decoder_layers,\n",
    "            dropout=dropout_p, \n",
    "            batch_first=True,\n",
    "            norm_first = norm_first,\n",
    "            dim_feedforward =dim_feedforward \n",
    "        )\n",
    "        self.linear_layers = nn.ModuleList()\n",
    "        for i in range(num_linear_layers):\n",
    "            self.linear_layers.append(nn.Linear(dim_model, dim_model))\n",
    "            self.linear_layers.append(nn.ReLU6())\n",
    "        self.out = nn.Linear(dim_model, num_outputs)\n",
    "        #self.bias_layer = nn.Linear(dim_model, dim_model)\n",
    "        \n",
    "    def forward(self, src, tgt, tgt_mask=None, src_pad_mask=None, tgt_pad_mask=None):\n",
    "        # Src size must be (batch_size, src sequence length)\n",
    "        # Tgt size must be (batch_size, tgt sequence length)\n",
    "\n",
    "        # Embedding + positional encoding - Out size = (batch_size, sequence length, dim_model)\n",
    "        #src = self.embedding(src) * math.sqrt(self.dim_model)\n",
    "        #tgt = self.embedding(tgt) * math.sqrt(self.dim_model)\n",
    "        src_corr = src #* math.sqrt(self.dim_model)\n",
    "        tgt_corr = tgt #* math.sqrt(self.dim_model)\n",
    "        #src_corr = self.positional_encoder(src_corr)\n",
    "        #tgt_corr = self.positional_encoder(tgt_corr)\n",
    "        \n",
    "        # We could use the parameter batch_first=True, but our KDL version doesn't support it yet, so we permute\n",
    "        # to obtain size (sequence length, batch_size, dim_model),\n",
    "        #src = src.permute(1,0,2)\n",
    "        #tgt = tgt.permute(1,0,2)\n",
    "\n",
    "        # Transformer blocks - Out size = (sequence length, batch_size, num_tokens)\n",
    "        transformer_out = self.transformer(src_corr, tgt_corr, tgt_mask=tgt_mask, src_key_padding_mask=src_pad_mask, \n",
    "                                           tgt_key_padding_mask=tgt_pad_mask)\n",
    "        for linear in self.linear_layers:\n",
    "            transformer_out = linear(transformer_out)\n",
    "        out = transformer_out\n",
    "        out = torch.add(out, tgt)\n",
    "        \n",
    "        #recuperando informacao de escala\n",
    "        #out = torch.mul(out, tgt)\n",
    "        #bias = self.bias_layer(tgt)\n",
    "        #out = torch.add(out, bias)\n",
    "        \n",
    "        out = self.out(out)\n",
    "        \n",
    "        \n",
    "        return out\n",
    "      \n",
    "    def get_tgt_mask(self, size) -> torch.tensor:\n",
    "        # Generates a squeare matrix where the each row allows one word more to be seen\n",
    "        mask = torch.tril(torch.ones(size, size) == 1) # Lower triangular matrix\n",
    "        mask = mask.float()\n",
    "        mask = mask.masked_fill(mask == 0, float('-inf')) # Convert zeros to -inf\n",
    "        mask = mask.masked_fill(mask == 1, float(0.0)) # Convert ones to 0\n",
    "        \n",
    "        # EX for size=5:\n",
    "        # [[0., -inf, -inf, -inf, -inf],\n",
    "        #  [0.,   0., -inf, -inf, -inf],\n",
    "        #  [0.,   0.,   0., -inf, -inf],\n",
    "        #  [0.,   0.,   0.,   0., -inf],\n",
    "        #  [0.,   0.,   0.,   0.,   0.]]\n",
    "        \n",
    "        return mask\n",
    "    \n",
    "    def create_pad_mask(self, matrix: torch.tensor, pad_token: int) -> torch.tensor:\n",
    "        # If matrix = [1,2,3,0,0,0] where pad_token=0, the result mask is\n",
    "        # [False, False, False, True, True, True]\n",
    "        return (matrix == pad_token)"
   ]
  },
  {
   "cell_type": "code",
   "execution_count": 10,
   "metadata": {
    "tags": []
   },
   "outputs": [],
   "source": [
    "class Training:\n",
    "    \n",
    "    def __init__(self, epochs, loss, optimizer, scheduler, path, model_name='Transformer', early_stop=True, patience=5):\n",
    "        \n",
    "        self.loss = loss\n",
    "        self.optimizer = optimizer\n",
    "        self.scheduler = scheduler\n",
    "        self.epochs = epochs\n",
    "        self.path = path\n",
    "        self.model_name = model_name\n",
    "        self.early_stop_flag = early_stop\n",
    "        self.patience = patience\n",
    "        self.clear_results()\n",
    "        \n",
    "    def clear_results(self):\n",
    "        \n",
    "        self.results = {\n",
    "            'Train':[],\n",
    "            'Validation':[],\n",
    "            'Test':[],\n",
    "        }\n",
    "        \n",
    "    def fit(self, model, train_loader, validation_loader, test_loader):\n",
    "        \n",
    "        self.clear_results()\n",
    "        torch.cuda.empty_cache()\n",
    "        decrease = self.patience\n",
    "        not_improved = 0\n",
    "        \n",
    "        model.to(device)\n",
    "        fit_time = time.time()\n",
    "        \n",
    "        for e in range(self.epochs):\n",
    "            since = time.time()\n",
    "            running_loss = 0\n",
    "            #training loop\n",
    "            model.train()\n",
    "            self.train_loop(model, train_loader)\n",
    "            model.eval()\n",
    "            self.validation_loop(model, validation_loader)\n",
    "            self.test_loop(model, test_loader)\n",
    "            decrease, not_improved = self.early_stopping(validation_loader, decrease)\n",
    "            if not_improved == 1 and self.early_stop_flag:\n",
    "                print('[***] end training ...') \n",
    "                break\n",
    "            loss_per_training_batch = self.results['Train'][-1]\n",
    "            loss_per_validation_batch = self.results['Validation'][-1]\n",
    "            loss_per_test_batch = self.results['Test'][-1]\n",
    "            print(\"Epoch:{}/{}..\".format(e+1, self.epochs),\n",
    "                  \"Train Loss: {:.3f}..\".format(loss_per_training_batch),\n",
    "                  \"Val Loss: {:.3f}..\".format(loss_per_validation_batch),\n",
    "                  \"Test Loss: {:.3f}..\".format(loss_per_test_batch),\n",
    "                  \"Time: {:.2f}m\".format((time.time()-since)/60))\n",
    "        print('Total time: {:.2f} m' .format((time.time()- fit_time)/60))\n",
    "        \n",
    "    def train_loop(self, model, train_loader):\n",
    "        \n",
    "        running_loss = 0.0\n",
    "        for i, data in enumerate(tqdm(train_loader)):\n",
    "            #training phase\n",
    "            X, y_tgt, y_out = data\n",
    "            X, y_tgt, y_out = X.to(device), y_tgt.to(device), y_out.to(device)\n",
    "            #y_result, y_tgt = Y, torch.from_numpy(-1.0*np.ones(Y.shape).astype('float32')).to(device)\n",
    "            #y_tgt[:,:,1:] = Y[:,:,:-1]\n",
    "            #y_tgt[:,:,0] = 0.0\n",
    "            output = model(X, y_tgt)\n",
    "            loss = self.loss(output.ravel(), y_out.ravel())\n",
    "            #backward\n",
    "            loss.backward()\n",
    "            self.optimizer.step() #update weight          \n",
    "            self.optimizer.zero_grad() #reset gradient\n",
    "            \n",
    "            #step the learning rate\n",
    "            if not self.scheduler is None:\n",
    "                self.scheduler.step()\n",
    "            running_loss += loss.item()\n",
    "        \n",
    "        self.results['Train'].append(running_loss/len(train_loader))\n",
    "    \n",
    "    \n",
    "    def validation_loop(self, model, validation_loader):\n",
    "        \n",
    "        running_loss = 0.0\n",
    "        with torch.no_grad():\n",
    "            for i, data in enumerate(tqdm(validation_loader)):\n",
    "                #training phase\n",
    "                X, y_tgt, y_out = data\n",
    "                X, y_tgt, y_out = X.to(device), y_tgt.to(device), y_out.to(device)\n",
    "                #y_result, y_tgt = Y, torch.from_numpy(-1.0*np.ones(Y.shape).astype('float32')).to(device)\n",
    "                #y_tgt[:,:,1:] = Y[:,:,:-1]\n",
    "                #y_tgt[:,:,0] = 0.0\n",
    "                output = model(X, y_tgt)\n",
    "                loss = self.loss(output.ravel(), y_out.ravel())\n",
    "                \n",
    "                running_loss += loss.item()\n",
    "        \n",
    "        self.results['Validation'].append(running_loss/len(validation_loader))\n",
    "        \n",
    "    def test_loop(self, model, test_loader):\n",
    "        \n",
    "        running_loss = 0.0\n",
    "        with torch.no_grad():\n",
    "            for i, data in enumerate(tqdm(test_loader)):\n",
    "                #training phase\n",
    "                X, y_tgt, y_out = data\n",
    "                X, y_tgt, y_out = X.to(device), y_tgt.to(device), y_out.to(device)\n",
    "                #y_result, y_tgt = Y, torch.from_numpy(-1.0*np.ones(Y.shape).astype('float32')).to(device)\n",
    "                #y_tgt[:,:,1:] = Y[:,:,:-1]\n",
    "                #y_tgt[:,:,0] = 0.0\n",
    "                output = model(X, y_tgt)\n",
    "                loss = self.loss(output.ravel(), y_out.ravel())\n",
    "                \n",
    "                running_loss += loss.item()\n",
    "        \n",
    "        self.results['Test'].append(running_loss/len(test_loader))\n",
    "        \n",
    "    def early_stopping(self, validation_loader, decrease):\n",
    "        \n",
    "        loss_per_validation_batch = self.results['Validation'][-1]\n",
    "        min_loss = np.min(self.results['Validation'][:-1] + [np.inf])\n",
    "        if min_loss >= self.results['Validation'][-1]:\n",
    "            print('Loss Decreasing.. {:.3f} >> {:.3f} '.format(min_loss, loss_per_validation_batch))\n",
    "            decrease = self.patience\n",
    "            print('saving model...')\n",
    "            torch.save(model, self.path + f'/{self.model_name}.pt')\n",
    "        else:\n",
    "            decrease -= 1\n",
    "        if decrease < 0:     \n",
    "                not_improved = 1\n",
    "        else:\n",
    "            not_improved = 0\n",
    "        return decrease, not_improved\n",
    "    \n",
    "    def get_best_model(self):\n",
    "        \n",
    "        model = torch.load(self.path + f'/{self.model_name}.pt')\n",
    "        return model\n",
    "            \n",
    "            "
   ]
  },
  {
   "cell_type": "code",
   "execution_count": 11,
   "metadata": {
    "tags": []
   },
   "outputs": [
    {
     "name": "stdout",
     "output_type": "stream",
     "text": [
      "Transformer(\n",
      "  (positional_encoder): PositionalEncoding(\n",
      "    (dropout): Dropout(p=0.1, inplace=False)\n",
      "  )\n",
      "  (transformer): Transformer(\n",
      "    (encoder): TransformerEncoder(\n",
      "      (layers): ModuleList(\n",
      "        (0-11): 12 x TransformerEncoderLayer(\n",
      "          (self_attn): MultiheadAttention(\n",
      "            (out_proj): NonDynamicallyQuantizableLinear(in_features=16, out_features=16, bias=True)\n",
      "          )\n",
      "          (linear1): Linear(in_features=16, out_features=64, bias=True)\n",
      "          (dropout): Dropout(p=0.1, inplace=False)\n",
      "          (linear2): Linear(in_features=64, out_features=16, bias=True)\n",
      "          (norm1): LayerNorm((16,), eps=1e-05, elementwise_affine=True)\n",
      "          (norm2): LayerNorm((16,), eps=1e-05, elementwise_affine=True)\n",
      "          (dropout1): Dropout(p=0.1, inplace=False)\n",
      "          (dropout2): Dropout(p=0.1, inplace=False)\n",
      "        )\n",
      "      )\n",
      "      (norm): LayerNorm((16,), eps=1e-05, elementwise_affine=True)\n",
      "    )\n",
      "    (decoder): TransformerDecoder(\n",
      "      (layers): ModuleList(\n",
      "        (0-5): 6 x TransformerDecoderLayer(\n",
      "          (self_attn): MultiheadAttention(\n",
      "            (out_proj): NonDynamicallyQuantizableLinear(in_features=16, out_features=16, bias=True)\n",
      "          )\n",
      "          (multihead_attn): MultiheadAttention(\n",
      "            (out_proj): NonDynamicallyQuantizableLinear(in_features=16, out_features=16, bias=True)\n",
      "          )\n",
      "          (linear1): Linear(in_features=16, out_features=64, bias=True)\n",
      "          (dropout): Dropout(p=0.1, inplace=False)\n",
      "          (linear2): Linear(in_features=64, out_features=16, bias=True)\n",
      "          (norm1): LayerNorm((16,), eps=1e-05, elementwise_affine=True)\n",
      "          (norm2): LayerNorm((16,), eps=1e-05, elementwise_affine=True)\n",
      "          (norm3): LayerNorm((16,), eps=1e-05, elementwise_affine=True)\n",
      "          (dropout1): Dropout(p=0.1, inplace=False)\n",
      "          (dropout2): Dropout(p=0.1, inplace=False)\n",
      "          (dropout3): Dropout(p=0.1, inplace=False)\n",
      "        )\n",
      "      )\n",
      "      (norm): LayerNorm((16,), eps=1e-05, elementwise_affine=True)\n",
      "    )\n",
      "  )\n",
      "  (linear_layers): ModuleList()\n",
      "  (out): Linear(in_features=16, out_features=1, bias=True)\n",
      ")\n"
     ]
    }
   ],
   "source": [
    "model = Transformer(\n",
    "    num_outputs=1, dim_model=dataset.max_sequence, num_heads=2, \n",
    "    num_encoder_layers=12, num_decoder_layers=6, dropout_p=0.1, \n",
    "    norm_first=False, num_linear_layers=0, dim_feedforward=4*dataset.max_sequence\n",
    ").to(device)\n",
    "\n",
    "print(model)\n",
    "\n",
    "lr_ = 5e-4\n",
    "epoch = 500\n",
    "weight_decay = 1e-4\n",
    "path = '.'\n",
    "model_name = 'ADIM-MULTI'\n",
    "\n",
    "loss = torch.nn.MSELoss()\n",
    "optimizer = torch.optim.Adam(model.parameters(), lr=lr_)\n",
    "#optimizer = torch.optim.SGD(model.parameters(), lr=lr_)\n",
    "#optimizer = torch.optim.AdamW(model.parameters(), lr=lr_, weight_decay=weight_decay)\n",
    "sched = None\n",
    "sched = torch.optim.lr_scheduler.OneCycleLR(optimizer, lr_, epochs=epoch,\n",
    "                                            steps_per_epoch=len(train_loader))\n",
    "training = Training(epoch, loss, optimizer, sched, model_name=model_name, path=path, early_stop=False, patience=20)"
   ]
  },
  {
   "cell_type": "code",
   "execution_count": 12,
   "metadata": {
    "tags": []
   },
   "outputs": [
    {
     "name": "stderr",
     "output_type": "stream",
     "text": [
      "100%|██████████| 238/238 [00:10<00:00, 22.16it/s]\n",
      "100%|██████████| 85/85 [00:00<00:00, 158.57it/s]\n",
      "100%|██████████| 17/17 [00:00<00:00, 156.23it/s]\n"
     ]
    },
    {
     "name": "stdout",
     "output_type": "stream",
     "text": [
      "Loss Decreasing.. inf >> 0.453 \n",
      "saving model...\n",
      "Epoch:1/500.. Train Loss: 0.470.. Val Loss: 0.453.. Test Loss: 0.225.. Time: 0.19m\n"
     ]
    },
    {
     "name": "stderr",
     "output_type": "stream",
     "text": [
      "100%|██████████| 238/238 [00:09<00:00, 24.09it/s]\n",
      "100%|██████████| 85/85 [00:00<00:00, 161.06it/s]\n",
      "100%|██████████| 17/17 [00:00<00:00, 158.89it/s]\n"
     ]
    },
    {
     "name": "stdout",
     "output_type": "stream",
     "text": [
      "Loss Decreasing.. 0.453 >> 0.387 \n",
      "saving model...\n",
      "Epoch:2/500.. Train Loss: 0.365.. Val Loss: 0.387.. Test Loss: 0.225.. Time: 0.18m\n"
     ]
    },
    {
     "name": "stderr",
     "output_type": "stream",
     "text": [
      "100%|██████████| 238/238 [00:09<00:00, 24.19it/s]\n",
      "100%|██████████| 85/85 [00:00<00:00, 162.46it/s]\n",
      "100%|██████████| 17/17 [00:00<00:00, 149.18it/s]\n"
     ]
    },
    {
     "name": "stdout",
     "output_type": "stream",
     "text": [
      "Loss Decreasing.. 0.387 >> 0.334 \n",
      "saving model...\n",
      "Epoch:3/500.. Train Loss: 0.316.. Val Loss: 0.334.. Test Loss: 0.168.. Time: 0.18m\n"
     ]
    },
    {
     "name": "stderr",
     "output_type": "stream",
     "text": [
      "100%|██████████| 238/238 [00:09<00:00, 23.97it/s]\n",
      "100%|██████████| 85/85 [00:00<00:00, 160.65it/s]\n",
      "100%|██████████| 17/17 [00:00<00:00, 162.39it/s]\n"
     ]
    },
    {
     "name": "stdout",
     "output_type": "stream",
     "text": [
      "Loss Decreasing.. 0.334 >> 0.311 \n",
      "saving model...\n",
      "Epoch:4/500.. Train Loss: 0.274.. Val Loss: 0.311.. Test Loss: 0.156.. Time: 0.18m\n"
     ]
    },
    {
     "name": "stderr",
     "output_type": "stream",
     "text": [
      "100%|██████████| 238/238 [00:10<00:00, 23.30it/s]\n",
      "100%|██████████| 85/85 [00:00<00:00, 162.94it/s]\n",
      "100%|██████████| 17/17 [00:00<00:00, 162.35it/s]\n"
     ]
    },
    {
     "name": "stdout",
     "output_type": "stream",
     "text": [
      "Loss Decreasing.. 0.311 >> 0.294 \n",
      "saving model...\n",
      "Epoch:5/500.. Train Loss: 0.261.. Val Loss: 0.294.. Test Loss: 0.158.. Time: 0.18m\n"
     ]
    },
    {
     "name": "stderr",
     "output_type": "stream",
     "text": [
      "100%|██████████| 238/238 [00:09<00:00, 23.82it/s]\n",
      "100%|██████████| 85/85 [00:00<00:00, 158.98it/s]\n",
      "100%|██████████| 17/17 [00:00<00:00, 161.05it/s]\n"
     ]
    },
    {
     "name": "stdout",
     "output_type": "stream",
     "text": [
      "Loss Decreasing.. 0.294 >> 0.288 \n",
      "saving model...\n",
      "Epoch:6/500.. Train Loss: 0.238.. Val Loss: 0.288.. Test Loss: 0.137.. Time: 0.18m\n"
     ]
    },
    {
     "name": "stderr",
     "output_type": "stream",
     "text": [
      "100%|██████████| 238/238 [00:09<00:00, 24.05it/s]\n",
      "100%|██████████| 85/85 [00:00<00:00, 163.44it/s]\n",
      "100%|██████████| 17/17 [00:00<00:00, 159.16it/s]\n"
     ]
    },
    {
     "name": "stdout",
     "output_type": "stream",
     "text": [
      "Loss Decreasing.. 0.288 >> 0.272 \n",
      "saving model...\n",
      "Epoch:7/500.. Train Loss: 0.223.. Val Loss: 0.272.. Test Loss: 0.136.. Time: 0.18m\n"
     ]
    },
    {
     "name": "stderr",
     "output_type": "stream",
     "text": [
      "100%|██████████| 238/238 [00:09<00:00, 23.93it/s]\n",
      "100%|██████████| 85/85 [00:00<00:00, 163.54it/s]\n",
      "100%|██████████| 17/17 [00:00<00:00, 159.82it/s]\n"
     ]
    },
    {
     "name": "stdout",
     "output_type": "stream",
     "text": [
      "Loss Decreasing.. 0.272 >> 0.258 \n",
      "saving model...\n",
      "Epoch:8/500.. Train Loss: 0.209.. Val Loss: 0.258.. Test Loss: 0.130.. Time: 0.18m\n"
     ]
    },
    {
     "name": "stderr",
     "output_type": "stream",
     "text": [
      "100%|██████████| 238/238 [00:10<00:00, 23.54it/s]\n",
      "100%|██████████| 85/85 [00:00<00:00, 162.88it/s]\n",
      "100%|██████████| 17/17 [00:00<00:00, 162.70it/s]\n"
     ]
    },
    {
     "name": "stdout",
     "output_type": "stream",
     "text": [
      "Loss Decreasing.. 0.258 >> 0.246 \n",
      "saving model...\n",
      "Epoch:9/500.. Train Loss: 0.200.. Val Loss: 0.246.. Test Loss: 0.124.. Time: 0.18m\n"
     ]
    },
    {
     "name": "stderr",
     "output_type": "stream",
     "text": [
      "100%|██████████| 238/238 [00:09<00:00, 24.05it/s]\n",
      "100%|██████████| 85/85 [00:00<00:00, 161.90it/s]\n",
      "100%|██████████| 17/17 [00:00<00:00, 160.33it/s]\n"
     ]
    },
    {
     "name": "stdout",
     "output_type": "stream",
     "text": [
      "Loss Decreasing.. 0.246 >> 0.235 \n",
      "saving model...\n",
      "Epoch:10/500.. Train Loss: 0.190.. Val Loss: 0.235.. Test Loss: 0.112.. Time: 0.18m\n"
     ]
    },
    {
     "name": "stderr",
     "output_type": "stream",
     "text": [
      "100%|██████████| 238/238 [00:09<00:00, 24.00it/s]\n",
      "100%|██████████| 85/85 [00:00<00:00, 161.74it/s]\n",
      "100%|██████████| 17/17 [00:00<00:00, 158.53it/s]\n"
     ]
    },
    {
     "name": "stdout",
     "output_type": "stream",
     "text": [
      "Loss Decreasing.. 0.235 >> 0.220 \n",
      "saving model...\n",
      "Epoch:11/500.. Train Loss: 0.174.. Val Loss: 0.220.. Test Loss: 0.115.. Time: 0.18m\n"
     ]
    },
    {
     "name": "stderr",
     "output_type": "stream",
     "text": [
      "100%|██████████| 238/238 [00:10<00:00, 23.71it/s]\n",
      "100%|██████████| 85/85 [00:00<00:00, 163.52it/s]\n",
      "100%|██████████| 17/17 [00:00<00:00, 151.09it/s]\n"
     ]
    },
    {
     "name": "stdout",
     "output_type": "stream",
     "text": [
      "Loss Decreasing.. 0.220 >> 0.208 \n",
      "saving model...\n",
      "Epoch:12/500.. Train Loss: 0.167.. Val Loss: 0.208.. Test Loss: 0.103.. Time: 0.18m\n"
     ]
    },
    {
     "name": "stderr",
     "output_type": "stream",
     "text": [
      "100%|██████████| 238/238 [00:09<00:00, 24.71it/s]\n",
      "100%|██████████| 85/85 [00:00<00:00, 163.14it/s]\n",
      "100%|██████████| 17/17 [00:00<00:00, 158.43it/s]\n"
     ]
    },
    {
     "name": "stdout",
     "output_type": "stream",
     "text": [
      "Loss Decreasing.. 0.208 >> 0.199 \n",
      "saving model...\n",
      "Epoch:13/500.. Train Loss: 0.155.. Val Loss: 0.199.. Test Loss: 0.098.. Time: 0.17m\n"
     ]
    },
    {
     "name": "stderr",
     "output_type": "stream",
     "text": [
      "100%|██████████| 238/238 [00:09<00:00, 23.84it/s]\n",
      "100%|██████████| 85/85 [00:00<00:00, 160.55it/s]\n",
      "100%|██████████| 17/17 [00:00<00:00, 159.66it/s]\n"
     ]
    },
    {
     "name": "stdout",
     "output_type": "stream",
     "text": [
      "Loss Decreasing.. 0.199 >> 0.188 \n",
      "saving model...\n",
      "Epoch:14/500.. Train Loss: 0.147.. Val Loss: 0.188.. Test Loss: 0.093.. Time: 0.18m\n"
     ]
    },
    {
     "name": "stderr",
     "output_type": "stream",
     "text": [
      "100%|██████████| 238/238 [00:09<00:00, 23.82it/s]\n",
      "100%|██████████| 85/85 [00:00<00:00, 161.34it/s]\n",
      "100%|██████████| 17/17 [00:00<00:00, 163.44it/s]\n"
     ]
    },
    {
     "name": "stdout",
     "output_type": "stream",
     "text": [
      "Loss Decreasing.. 0.188 >> 0.181 \n",
      "saving model...\n",
      "Epoch:15/500.. Train Loss: 0.142.. Val Loss: 0.181.. Test Loss: 0.088.. Time: 0.18m\n"
     ]
    },
    {
     "name": "stderr",
     "output_type": "stream",
     "text": [
      "100%|██████████| 238/238 [00:09<00:00, 23.84it/s]\n",
      "100%|██████████| 85/85 [00:00<00:00, 155.86it/s]\n",
      "100%|██████████| 17/17 [00:00<00:00, 155.39it/s]\n"
     ]
    },
    {
     "name": "stdout",
     "output_type": "stream",
     "text": [
      "Loss Decreasing.. 0.181 >> 0.173 \n",
      "saving model...\n",
      "Epoch:16/500.. Train Loss: 0.133.. Val Loss: 0.173.. Test Loss: 0.082.. Time: 0.18m\n"
     ]
    },
    {
     "name": "stderr",
     "output_type": "stream",
     "text": [
      "100%|██████████| 238/238 [00:10<00:00, 22.96it/s]\n",
      "100%|██████████| 85/85 [00:00<00:00, 151.26it/s]\n",
      "100%|██████████| 17/17 [00:00<00:00, 160.89it/s]\n"
     ]
    },
    {
     "name": "stdout",
     "output_type": "stream",
     "text": [
      "Loss Decreasing.. 0.173 >> 0.163 \n",
      "saving model...\n",
      "Epoch:17/500.. Train Loss: 0.125.. Val Loss: 0.163.. Test Loss: 0.080.. Time: 0.18m\n"
     ]
    },
    {
     "name": "stderr",
     "output_type": "stream",
     "text": [
      "100%|██████████| 238/238 [00:10<00:00, 23.75it/s]\n",
      "100%|██████████| 85/85 [00:00<00:00, 161.07it/s]\n",
      "100%|██████████| 17/17 [00:00<00:00, 162.07it/s]\n"
     ]
    },
    {
     "name": "stdout",
     "output_type": "stream",
     "text": [
      "Loss Decreasing.. 0.163 >> 0.156 \n",
      "saving model...\n",
      "Epoch:18/500.. Train Loss: 0.118.. Val Loss: 0.156.. Test Loss: 0.076.. Time: 0.18m\n"
     ]
    },
    {
     "name": "stderr",
     "output_type": "stream",
     "text": [
      "100%|██████████| 238/238 [00:10<00:00, 23.70it/s]\n",
      "100%|██████████| 85/85 [00:00<00:00, 162.80it/s]\n",
      "100%|██████████| 17/17 [00:00<00:00, 160.28it/s]\n"
     ]
    },
    {
     "name": "stdout",
     "output_type": "stream",
     "text": [
      "Loss Decreasing.. 0.156 >> 0.150 \n",
      "saving model...\n",
      "Epoch:19/500.. Train Loss: 0.114.. Val Loss: 0.150.. Test Loss: 0.075.. Time: 0.18m\n"
     ]
    },
    {
     "name": "stderr",
     "output_type": "stream",
     "text": [
      "100%|██████████| 238/238 [00:09<00:00, 23.83it/s]\n",
      "100%|██████████| 85/85 [00:00<00:00, 155.67it/s]\n",
      "100%|██████████| 17/17 [00:00<00:00, 160.76it/s]\n"
     ]
    },
    {
     "name": "stdout",
     "output_type": "stream",
     "text": [
      "Loss Decreasing.. 0.150 >> 0.144 \n",
      "saving model...\n",
      "Epoch:20/500.. Train Loss: 0.106.. Val Loss: 0.144.. Test Loss: 0.071.. Time: 0.18m\n"
     ]
    },
    {
     "name": "stderr",
     "output_type": "stream",
     "text": [
      "100%|██████████| 238/238 [00:10<00:00, 23.67it/s]\n",
      "100%|██████████| 85/85 [00:00<00:00, 159.58it/s]\n",
      "100%|██████████| 17/17 [00:00<00:00, 160.92it/s]\n"
     ]
    },
    {
     "name": "stdout",
     "output_type": "stream",
     "text": [
      "Loss Decreasing.. 0.144 >> 0.140 \n",
      "saving model...\n",
      "Epoch:21/500.. Train Loss: 0.102.. Val Loss: 0.140.. Test Loss: 0.067.. Time: 0.18m\n"
     ]
    },
    {
     "name": "stderr",
     "output_type": "stream",
     "text": [
      "100%|██████████| 238/238 [00:09<00:00, 24.10it/s]\n",
      "100%|██████████| 85/85 [00:00<00:00, 161.50it/s]\n",
      "100%|██████████| 17/17 [00:00<00:00, 160.24it/s]\n"
     ]
    },
    {
     "name": "stdout",
     "output_type": "stream",
     "text": [
      "Loss Decreasing.. 0.140 >> 0.139 \n",
      "saving model...\n",
      "Epoch:22/500.. Train Loss: 0.095.. Val Loss: 0.139.. Test Loss: 0.070.. Time: 0.18m\n"
     ]
    },
    {
     "name": "stderr",
     "output_type": "stream",
     "text": [
      "100%|██████████| 238/238 [00:10<00:00, 23.65it/s]\n",
      "100%|██████████| 85/85 [00:00<00:00, 163.21it/s]\n",
      "100%|██████████| 17/17 [00:00<00:00, 159.16it/s]\n"
     ]
    },
    {
     "name": "stdout",
     "output_type": "stream",
     "text": [
      "Loss Decreasing.. 0.139 >> 0.133 \n",
      "saving model...\n",
      "Epoch:23/500.. Train Loss: 0.091.. Val Loss: 0.133.. Test Loss: 0.066.. Time: 0.18m\n"
     ]
    },
    {
     "name": "stderr",
     "output_type": "stream",
     "text": [
      "100%|██████████| 238/238 [00:08<00:00, 26.84it/s]\n",
      "100%|██████████| 85/85 [00:00<00:00, 162.44it/s]\n",
      "100%|██████████| 17/17 [00:00<00:00, 160.65it/s]\n"
     ]
    },
    {
     "name": "stdout",
     "output_type": "stream",
     "text": [
      "Loss Decreasing.. 0.133 >> 0.130 \n",
      "saving model...\n",
      "Epoch:24/500.. Train Loss: 0.090.. Val Loss: 0.130.. Test Loss: 0.063.. Time: 0.16m\n"
     ]
    },
    {
     "name": "stderr",
     "output_type": "stream",
     "text": [
      "100%|██████████| 238/238 [00:10<00:00, 23.11it/s]\n",
      "100%|██████████| 85/85 [00:00<00:00, 161.07it/s]\n",
      "100%|██████████| 17/17 [00:00<00:00, 159.43it/s]\n"
     ]
    },
    {
     "name": "stdout",
     "output_type": "stream",
     "text": [
      "Loss Decreasing.. 0.130 >> 0.129 \n",
      "saving model...\n",
      "Epoch:25/500.. Train Loss: 0.084.. Val Loss: 0.129.. Test Loss: 0.063.. Time: 0.18m\n"
     ]
    },
    {
     "name": "stderr",
     "output_type": "stream",
     "text": [
      "100%|██████████| 238/238 [00:10<00:00, 23.78it/s]\n",
      "100%|██████████| 85/85 [00:00<00:00, 163.44it/s]\n",
      "100%|██████████| 17/17 [00:00<00:00, 162.03it/s]\n"
     ]
    },
    {
     "name": "stdout",
     "output_type": "stream",
     "text": [
      "Loss Decreasing.. 0.129 >> 0.126 \n",
      "saving model...\n",
      "Epoch:26/500.. Train Loss: 0.084.. Val Loss: 0.126.. Test Loss: 0.061.. Time: 0.18m\n"
     ]
    },
    {
     "name": "stderr",
     "output_type": "stream",
     "text": [
      "100%|██████████| 238/238 [00:10<00:00, 23.77it/s]\n",
      "100%|██████████| 85/85 [00:00<00:00, 161.61it/s]\n",
      "100%|██████████| 17/17 [00:00<00:00, 159.13it/s]\n"
     ]
    },
    {
     "name": "stdout",
     "output_type": "stream",
     "text": [
      "Loss Decreasing.. 0.126 >> 0.126 \n",
      "saving model...\n",
      "Epoch:27/500.. Train Loss: 0.081.. Val Loss: 0.126.. Test Loss: 0.058.. Time: 0.18m\n"
     ]
    },
    {
     "name": "stderr",
     "output_type": "stream",
     "text": [
      "100%|██████████| 238/238 [00:09<00:00, 24.03it/s]\n",
      "100%|██████████| 85/85 [00:00<00:00, 161.71it/s]\n",
      "100%|██████████| 17/17 [00:00<00:00, 158.18it/s]\n"
     ]
    },
    {
     "name": "stdout",
     "output_type": "stream",
     "text": [
      "Loss Decreasing.. 0.126 >> 0.124 \n",
      "saving model...\n",
      "Epoch:28/500.. Train Loss: 0.080.. Val Loss: 0.124.. Test Loss: 0.058.. Time: 0.18m\n"
     ]
    },
    {
     "name": "stderr",
     "output_type": "stream",
     "text": [
      "100%|██████████| 238/238 [00:10<00:00, 23.41it/s]\n",
      "100%|██████████| 85/85 [00:00<00:00, 159.87it/s]\n",
      "100%|██████████| 17/17 [00:00<00:00, 163.77it/s]\n"
     ]
    },
    {
     "name": "stdout",
     "output_type": "stream",
     "text": [
      "Loss Decreasing.. 0.124 >> 0.123 \n",
      "saving model...\n",
      "Epoch:29/500.. Train Loss: 0.077.. Val Loss: 0.123.. Test Loss: 0.058.. Time: 0.18m\n"
     ]
    },
    {
     "name": "stderr",
     "output_type": "stream",
     "text": [
      "100%|██████████| 238/238 [00:09<00:00, 23.83it/s]\n",
      "100%|██████████| 85/85 [00:00<00:00, 149.86it/s]\n",
      "100%|██████████| 17/17 [00:00<00:00, 158.66it/s]\n"
     ]
    },
    {
     "name": "stdout",
     "output_type": "stream",
     "text": [
      "Epoch:30/500.. Train Loss: 0.076.. Val Loss: 0.124.. Test Loss: 0.057.. Time: 0.18m\n"
     ]
    },
    {
     "name": "stderr",
     "output_type": "stream",
     "text": [
      "100%|██████████| 238/238 [00:09<00:00, 24.14it/s]\n",
      "100%|██████████| 85/85 [00:00<00:00, 161.56it/s]\n",
      "100%|██████████| 17/17 [00:00<00:00, 160.94it/s]\n"
     ]
    },
    {
     "name": "stdout",
     "output_type": "stream",
     "text": [
      "Epoch:31/500.. Train Loss: 0.075.. Val Loss: 0.124.. Test Loss: 0.054.. Time: 0.18m\n"
     ]
    },
    {
     "name": "stderr",
     "output_type": "stream",
     "text": [
      "100%|██████████| 238/238 [00:09<00:00, 24.19it/s]\n",
      "100%|██████████| 85/85 [00:00<00:00, 160.28it/s]\n",
      "100%|██████████| 17/17 [00:00<00:00, 150.02it/s]\n"
     ]
    },
    {
     "name": "stdout",
     "output_type": "stream",
     "text": [
      "Loss Decreasing.. 0.123 >> 0.123 \n",
      "saving model...\n",
      "Epoch:32/500.. Train Loss: 0.073.. Val Loss: 0.123.. Test Loss: 0.054.. Time: 0.18m\n"
     ]
    },
    {
     "name": "stderr",
     "output_type": "stream",
     "text": [
      "100%|██████████| 238/238 [00:09<00:00, 23.88it/s]\n",
      "100%|██████████| 85/85 [00:00<00:00, 161.34it/s]\n",
      "100%|██████████| 17/17 [00:00<00:00, 161.30it/s]\n"
     ]
    },
    {
     "name": "stdout",
     "output_type": "stream",
     "text": [
      "Epoch:33/500.. Train Loss: 0.072.. Val Loss: 0.125.. Test Loss: 0.054.. Time: 0.18m\n"
     ]
    },
    {
     "name": "stderr",
     "output_type": "stream",
     "text": [
      "100%|██████████| 238/238 [00:09<00:00, 23.96it/s]\n",
      "100%|██████████| 85/85 [00:00<00:00, 164.59it/s]\n",
      "100%|██████████| 17/17 [00:00<00:00, 165.51it/s]\n"
     ]
    },
    {
     "name": "stdout",
     "output_type": "stream",
     "text": [
      "Epoch:34/500.. Train Loss: 0.072.. Val Loss: 0.124.. Test Loss: 0.053.. Time: 0.18m\n"
     ]
    },
    {
     "name": "stderr",
     "output_type": "stream",
     "text": [
      "100%|██████████| 238/238 [00:09<00:00, 23.87it/s]\n",
      "100%|██████████| 85/85 [00:00<00:00, 162.65it/s]\n",
      "100%|██████████| 17/17 [00:00<00:00, 160.36it/s]\n"
     ]
    },
    {
     "name": "stdout",
     "output_type": "stream",
     "text": [
      "Loss Decreasing.. 0.123 >> 0.123 \n",
      "saving model...\n",
      "Epoch:35/500.. Train Loss: 0.070.. Val Loss: 0.123.. Test Loss: 0.055.. Time: 0.18m\n"
     ]
    },
    {
     "name": "stderr",
     "output_type": "stream",
     "text": [
      "100%|██████████| 238/238 [00:09<00:00, 24.18it/s]\n",
      "100%|██████████| 85/85 [00:00<00:00, 163.58it/s]\n",
      "100%|██████████| 17/17 [00:00<00:00, 147.29it/s]\n"
     ]
    },
    {
     "name": "stdout",
     "output_type": "stream",
     "text": [
      "Epoch:36/500.. Train Loss: 0.070.. Val Loss: 0.123.. Test Loss: 0.053.. Time: 0.17m\n"
     ]
    },
    {
     "name": "stderr",
     "output_type": "stream",
     "text": [
      "100%|██████████| 238/238 [00:10<00:00, 23.13it/s]\n",
      "100%|██████████| 85/85 [00:00<00:00, 160.22it/s]\n",
      "100%|██████████| 17/17 [00:00<00:00, 150.55it/s]\n"
     ]
    },
    {
     "name": "stdout",
     "output_type": "stream",
     "text": [
      "Loss Decreasing.. 0.123 >> 0.123 \n",
      "saving model...\n",
      "Epoch:37/500.. Train Loss: 0.068.. Val Loss: 0.123.. Test Loss: 0.051.. Time: 0.18m\n"
     ]
    },
    {
     "name": "stderr",
     "output_type": "stream",
     "text": [
      "100%|██████████| 238/238 [00:10<00:00, 23.51it/s]\n",
      "100%|██████████| 85/85 [00:00<00:00, 155.46it/s]\n",
      "100%|██████████| 17/17 [00:00<00:00, 163.69it/s]\n"
     ]
    },
    {
     "name": "stdout",
     "output_type": "stream",
     "text": [
      "Loss Decreasing.. 0.123 >> 0.121 \n",
      "saving model...\n",
      "Epoch:38/500.. Train Loss: 0.070.. Val Loss: 0.121.. Test Loss: 0.053.. Time: 0.18m\n"
     ]
    },
    {
     "name": "stderr",
     "output_type": "stream",
     "text": [
      "100%|██████████| 238/238 [00:09<00:00, 24.10it/s]\n",
      "100%|██████████| 85/85 [00:00<00:00, 158.48it/s]\n",
      "100%|██████████| 17/17 [00:00<00:00, 154.92it/s]\n"
     ]
    },
    {
     "name": "stdout",
     "output_type": "stream",
     "text": [
      "Epoch:39/500.. Train Loss: 0.068.. Val Loss: 0.121.. Test Loss: 0.051.. Time: 0.18m\n"
     ]
    },
    {
     "name": "stderr",
     "output_type": "stream",
     "text": [
      "100%|██████████| 238/238 [00:09<00:00, 24.18it/s]\n",
      "100%|██████████| 85/85 [00:00<00:00, 160.80it/s]\n",
      "100%|██████████| 17/17 [00:00<00:00, 161.65it/s]\n"
     ]
    },
    {
     "name": "stdout",
     "output_type": "stream",
     "text": [
      "Loss Decreasing.. 0.121 >> 0.120 \n",
      "saving model...\n",
      "Epoch:40/500.. Train Loss: 0.066.. Val Loss: 0.120.. Test Loss: 0.050.. Time: 0.18m\n"
     ]
    },
    {
     "name": "stderr",
     "output_type": "stream",
     "text": [
      "100%|██████████| 238/238 [00:10<00:00, 23.67it/s]\n",
      "100%|██████████| 85/85 [00:00<00:00, 163.77it/s]\n",
      "100%|██████████| 17/17 [00:00<00:00, 161.93it/s]\n"
     ]
    },
    {
     "name": "stdout",
     "output_type": "stream",
     "text": [
      "Loss Decreasing.. 0.120 >> 0.120 \n",
      "saving model...\n",
      "Epoch:41/500.. Train Loss: 0.066.. Val Loss: 0.120.. Test Loss: 0.050.. Time: 0.18m\n"
     ]
    },
    {
     "name": "stderr",
     "output_type": "stream",
     "text": [
      "100%|██████████| 238/238 [00:10<00:00, 23.76it/s]\n",
      "100%|██████████| 85/85 [00:00<00:00, 162.49it/s]\n",
      "100%|██████████| 17/17 [00:00<00:00, 163.02it/s]\n"
     ]
    },
    {
     "name": "stdout",
     "output_type": "stream",
     "text": [
      "Loss Decreasing.. 0.120 >> 0.119 \n",
      "saving model...\n",
      "Epoch:42/500.. Train Loss: 0.066.. Val Loss: 0.119.. Test Loss: 0.050.. Time: 0.18m\n"
     ]
    },
    {
     "name": "stderr",
     "output_type": "stream",
     "text": [
      "100%|██████████| 238/238 [00:09<00:00, 24.06it/s]\n",
      "100%|██████████| 85/85 [00:00<00:00, 157.76it/s]\n",
      "100%|██████████| 17/17 [00:00<00:00, 160.04it/s]\n"
     ]
    },
    {
     "name": "stdout",
     "output_type": "stream",
     "text": [
      "Loss Decreasing.. 0.119 >> 0.118 \n",
      "saving model...\n",
      "Epoch:43/500.. Train Loss: 0.066.. Val Loss: 0.118.. Test Loss: 0.050.. Time: 0.18m\n"
     ]
    },
    {
     "name": "stderr",
     "output_type": "stream",
     "text": [
      "100%|██████████| 238/238 [00:09<00:00, 23.87it/s]\n",
      "100%|██████████| 85/85 [00:00<00:00, 152.52it/s]\n",
      "100%|██████████| 17/17 [00:00<00:00, 155.59it/s]\n"
     ]
    },
    {
     "name": "stdout",
     "output_type": "stream",
     "text": [
      "Loss Decreasing.. 0.118 >> 0.117 \n",
      "saving model...\n",
      "Epoch:44/500.. Train Loss: 0.065.. Val Loss: 0.117.. Test Loss: 0.050.. Time: 0.18m\n"
     ]
    },
    {
     "name": "stderr",
     "output_type": "stream",
     "text": [
      "100%|██████████| 238/238 [00:10<00:00, 22.82it/s]\n",
      "100%|██████████| 85/85 [00:00<00:00, 159.14it/s]\n",
      "100%|██████████| 17/17 [00:00<00:00, 161.00it/s]\n"
     ]
    },
    {
     "name": "stdout",
     "output_type": "stream",
     "text": [
      "Loss Decreasing.. 0.117 >> 0.116 \n",
      "saving model...\n",
      "Epoch:45/500.. Train Loss: 0.065.. Val Loss: 0.116.. Test Loss: 0.050.. Time: 0.19m\n"
     ]
    },
    {
     "name": "stderr",
     "output_type": "stream",
     "text": [
      "100%|██████████| 238/238 [00:09<00:00, 23.96it/s]\n",
      "100%|██████████| 85/85 [00:00<00:00, 163.35it/s]\n",
      "100%|██████████| 17/17 [00:00<00:00, 162.12it/s]\n"
     ]
    },
    {
     "name": "stdout",
     "output_type": "stream",
     "text": [
      "Epoch:46/500.. Train Loss: 0.064.. Val Loss: 0.117.. Test Loss: 0.051.. Time: 0.18m\n"
     ]
    },
    {
     "name": "stderr",
     "output_type": "stream",
     "text": [
      "100%|██████████| 238/238 [00:09<00:00, 24.26it/s]\n",
      "100%|██████████| 85/85 [00:00<00:00, 162.17it/s]\n",
      "100%|██████████| 17/17 [00:00<00:00, 162.33it/s]\n"
     ]
    },
    {
     "name": "stdout",
     "output_type": "stream",
     "text": [
      "Loss Decreasing.. 0.116 >> 0.116 \n",
      "saving model...\n",
      "Epoch:47/500.. Train Loss: 0.063.. Val Loss: 0.116.. Test Loss: 0.051.. Time: 0.17m\n"
     ]
    },
    {
     "name": "stderr",
     "output_type": "stream",
     "text": [
      "100%|██████████| 238/238 [00:10<00:00, 23.43it/s]\n",
      "100%|██████████| 85/85 [00:00<00:00, 162.87it/s]\n",
      "100%|██████████| 17/17 [00:00<00:00, 161.69it/s]\n"
     ]
    },
    {
     "name": "stdout",
     "output_type": "stream",
     "text": [
      "Loss Decreasing.. 0.116 >> 0.115 \n",
      "saving model...\n",
      "Epoch:48/500.. Train Loss: 0.063.. Val Loss: 0.115.. Test Loss: 0.050.. Time: 0.18m\n"
     ]
    },
    {
     "name": "stderr",
     "output_type": "stream",
     "text": [
      "100%|██████████| 238/238 [00:10<00:00, 23.31it/s]\n",
      "100%|██████████| 85/85 [00:00<00:00, 161.47it/s]\n",
      "100%|██████████| 17/17 [00:00<00:00, 161.01it/s]\n"
     ]
    },
    {
     "name": "stdout",
     "output_type": "stream",
     "text": [
      "Epoch:49/500.. Train Loss: 0.063.. Val Loss: 0.115.. Test Loss: 0.050.. Time: 0.18m\n"
     ]
    },
    {
     "name": "stderr",
     "output_type": "stream",
     "text": [
      "100%|██████████| 238/238 [00:09<00:00, 23.82it/s]\n",
      "100%|██████████| 85/85 [00:00<00:00, 163.68it/s]\n",
      "100%|██████████| 17/17 [00:00<00:00, 165.53it/s]\n"
     ]
    },
    {
     "name": "stdout",
     "output_type": "stream",
     "text": [
      "Loss Decreasing.. 0.115 >> 0.113 \n",
      "saving model...\n",
      "Epoch:50/500.. Train Loss: 0.062.. Val Loss: 0.113.. Test Loss: 0.052.. Time: 0.18m\n"
     ]
    },
    {
     "name": "stderr",
     "output_type": "stream",
     "text": [
      "100%|██████████| 238/238 [00:10<00:00, 23.34it/s]\n",
      "100%|██████████| 85/85 [00:00<00:00, 155.19it/s]\n",
      "100%|██████████| 17/17 [00:00<00:00, 161.78it/s]\n"
     ]
    },
    {
     "name": "stdout",
     "output_type": "stream",
     "text": [
      "Epoch:51/500.. Train Loss: 0.062.. Val Loss: 0.114.. Test Loss: 0.050.. Time: 0.18m\n"
     ]
    },
    {
     "name": "stderr",
     "output_type": "stream",
     "text": [
      "100%|██████████| 238/238 [00:09<00:00, 23.94it/s]\n",
      "100%|██████████| 85/85 [00:00<00:00, 161.22it/s]\n",
      "100%|██████████| 17/17 [00:00<00:00, 159.86it/s]\n"
     ]
    },
    {
     "name": "stdout",
     "output_type": "stream",
     "text": [
      "Epoch:52/500.. Train Loss: 0.061.. Val Loss: 0.114.. Test Loss: 0.053.. Time: 0.18m\n"
     ]
    },
    {
     "name": "stderr",
     "output_type": "stream",
     "text": [
      "100%|██████████| 238/238 [00:10<00:00, 23.37it/s]\n",
      "100%|██████████| 85/85 [00:00<00:00, 163.06it/s]\n",
      "100%|██████████| 17/17 [00:00<00:00, 161.22it/s]\n"
     ]
    },
    {
     "name": "stdout",
     "output_type": "stream",
     "text": [
      "Loss Decreasing.. 0.113 >> 0.113 \n",
      "saving model...\n",
      "Epoch:53/500.. Train Loss: 0.061.. Val Loss: 0.113.. Test Loss: 0.051.. Time: 0.18m\n"
     ]
    },
    {
     "name": "stderr",
     "output_type": "stream",
     "text": [
      "100%|██████████| 238/238 [00:09<00:00, 24.02it/s]\n",
      "100%|██████████| 85/85 [00:00<00:00, 159.95it/s]\n",
      "100%|██████████| 17/17 [00:00<00:00, 154.87it/s]\n"
     ]
    },
    {
     "name": "stdout",
     "output_type": "stream",
     "text": [
      "Epoch:54/500.. Train Loss: 0.062.. Val Loss: 0.113.. Test Loss: 0.050.. Time: 0.18m\n"
     ]
    },
    {
     "name": "stderr",
     "output_type": "stream",
     "text": [
      "100%|██████████| 238/238 [00:09<00:00, 24.25it/s]\n",
      "100%|██████████| 85/85 [00:00<00:00, 160.84it/s]\n",
      "100%|██████████| 17/17 [00:00<00:00, 161.85it/s]\n"
     ]
    },
    {
     "name": "stdout",
     "output_type": "stream",
     "text": [
      "Epoch:55/500.. Train Loss: 0.059.. Val Loss: 0.115.. Test Loss: 0.053.. Time: 0.17m\n"
     ]
    },
    {
     "name": "stderr",
     "output_type": "stream",
     "text": [
      "100%|██████████| 238/238 [00:09<00:00, 24.27it/s]\n",
      "100%|██████████| 85/85 [00:00<00:00, 162.35it/s]\n",
      "100%|██████████| 17/17 [00:00<00:00, 163.33it/s]\n"
     ]
    },
    {
     "name": "stdout",
     "output_type": "stream",
     "text": [
      "Epoch:56/500.. Train Loss: 0.059.. Val Loss: 0.116.. Test Loss: 0.053.. Time: 0.17m\n"
     ]
    },
    {
     "name": "stderr",
     "output_type": "stream",
     "text": [
      "100%|██████████| 238/238 [00:09<00:00, 23.87it/s]\n",
      "100%|██████████| 85/85 [00:00<00:00, 162.65it/s]\n",
      "100%|██████████| 17/17 [00:00<00:00, 160.04it/s]\n"
     ]
    },
    {
     "name": "stdout",
     "output_type": "stream",
     "text": [
      "Loss Decreasing.. 0.113 >> 0.112 \n",
      "saving model...\n",
      "Epoch:57/500.. Train Loss: 0.061.. Val Loss: 0.112.. Test Loss: 0.051.. Time: 0.18m\n"
     ]
    },
    {
     "name": "stderr",
     "output_type": "stream",
     "text": [
      "100%|██████████| 238/238 [00:09<00:00, 23.84it/s]\n",
      "100%|██████████| 85/85 [00:00<00:00, 159.62it/s]\n",
      "100%|██████████| 17/17 [00:00<00:00, 164.86it/s]\n"
     ]
    },
    {
     "name": "stdout",
     "output_type": "stream",
     "text": [
      "Epoch:58/500.. Train Loss: 0.059.. Val Loss: 0.117.. Test Loss: 0.050.. Time: 0.18m\n"
     ]
    },
    {
     "name": "stderr",
     "output_type": "stream",
     "text": [
      "100%|██████████| 238/238 [00:09<00:00, 24.08it/s]\n",
      "100%|██████████| 85/85 [00:00<00:00, 159.96it/s]\n",
      "100%|██████████| 17/17 [00:00<00:00, 155.51it/s]\n"
     ]
    },
    {
     "name": "stdout",
     "output_type": "stream",
     "text": [
      "Epoch:59/500.. Train Loss: 0.059.. Val Loss: 0.114.. Test Loss: 0.050.. Time: 0.18m\n"
     ]
    },
    {
     "name": "stderr",
     "output_type": "stream",
     "text": [
      "100%|██████████| 238/238 [00:09<00:00, 24.11it/s]\n",
      "100%|██████████| 85/85 [00:00<00:00, 161.88it/s]\n",
      "100%|██████████| 17/17 [00:00<00:00, 147.55it/s]\n"
     ]
    },
    {
     "name": "stdout",
     "output_type": "stream",
     "text": [
      "Epoch:60/500.. Train Loss: 0.059.. Val Loss: 0.112.. Test Loss: 0.050.. Time: 0.18m\n"
     ]
    },
    {
     "name": "stderr",
     "output_type": "stream",
     "text": [
      "100%|██████████| 238/238 [00:10<00:00, 23.69it/s]\n",
      "100%|██████████| 85/85 [00:00<00:00, 162.40it/s]\n",
      "100%|██████████| 17/17 [00:00<00:00, 160.40it/s]\n"
     ]
    },
    {
     "name": "stdout",
     "output_type": "stream",
     "text": [
      "Epoch:61/500.. Train Loss: 0.059.. Val Loss: 0.115.. Test Loss: 0.049.. Time: 0.18m\n"
     ]
    },
    {
     "name": "stderr",
     "output_type": "stream",
     "text": [
      "100%|██████████| 238/238 [00:09<00:00, 24.20it/s]\n",
      "100%|██████████| 85/85 [00:00<00:00, 163.49it/s]\n",
      "100%|██████████| 17/17 [00:00<00:00, 156.59it/s]\n"
     ]
    },
    {
     "name": "stdout",
     "output_type": "stream",
     "text": [
      "Epoch:62/500.. Train Loss: 0.059.. Val Loss: 0.130.. Test Loss: 0.052.. Time: 0.17m\n"
     ]
    },
    {
     "name": "stderr",
     "output_type": "stream",
     "text": [
      "100%|██████████| 238/238 [00:09<00:00, 24.17it/s]\n",
      "100%|██████████| 85/85 [00:00<00:00, 163.64it/s]\n",
      "100%|██████████| 17/17 [00:00<00:00, 160.92it/s]\n"
     ]
    },
    {
     "name": "stdout",
     "output_type": "stream",
     "text": [
      "Loss Decreasing.. 0.112 >> 0.111 \n",
      "saving model...\n",
      "Epoch:63/500.. Train Loss: 0.061.. Val Loss: 0.111.. Test Loss: 0.051.. Time: 0.18m\n"
     ]
    },
    {
     "name": "stderr",
     "output_type": "stream",
     "text": [
      "100%|██████████| 238/238 [00:10<00:00, 23.35it/s]\n",
      "100%|██████████| 85/85 [00:00<00:00, 161.76it/s]\n",
      "100%|██████████| 17/17 [00:00<00:00, 161.06it/s]\n"
     ]
    },
    {
     "name": "stdout",
     "output_type": "stream",
     "text": [
      "Epoch:64/500.. Train Loss: 0.059.. Val Loss: 0.111.. Test Loss: 0.049.. Time: 0.18m\n"
     ]
    },
    {
     "name": "stderr",
     "output_type": "stream",
     "text": [
      "100%|██████████| 238/238 [00:10<00:00, 23.71it/s]\n",
      "100%|██████████| 85/85 [00:00<00:00, 162.42it/s]\n",
      "100%|██████████| 17/17 [00:00<00:00, 156.82it/s]\n"
     ]
    },
    {
     "name": "stdout",
     "output_type": "stream",
     "text": [
      "Epoch:65/500.. Train Loss: 0.059.. Val Loss: 0.113.. Test Loss: 0.050.. Time: 0.18m\n"
     ]
    },
    {
     "name": "stderr",
     "output_type": "stream",
     "text": [
      "100%|██████████| 238/238 [00:09<00:00, 23.88it/s]\n",
      "100%|██████████| 85/85 [00:00<00:00, 163.57it/s]\n",
      "100%|██████████| 17/17 [00:00<00:00, 161.78it/s]\n"
     ]
    },
    {
     "name": "stdout",
     "output_type": "stream",
     "text": [
      "Epoch:66/500.. Train Loss: 0.058.. Val Loss: 0.112.. Test Loss: 0.049.. Time: 0.18m\n"
     ]
    },
    {
     "name": "stderr",
     "output_type": "stream",
     "text": [
      "100%|██████████| 238/238 [00:09<00:00, 24.05it/s]\n",
      "100%|██████████| 85/85 [00:00<00:00, 161.30it/s]\n",
      "100%|██████████| 17/17 [00:00<00:00, 156.87it/s]\n"
     ]
    },
    {
     "name": "stdout",
     "output_type": "stream",
     "text": [
      "Epoch:67/500.. Train Loss: 0.058.. Val Loss: 0.118.. Test Loss: 0.049.. Time: 0.18m\n"
     ]
    },
    {
     "name": "stderr",
     "output_type": "stream",
     "text": [
      "100%|██████████| 238/238 [00:09<00:00, 24.31it/s]\n",
      "100%|██████████| 85/85 [00:00<00:00, 165.19it/s]\n",
      "100%|██████████| 17/17 [00:00<00:00, 165.72it/s]\n"
     ]
    },
    {
     "name": "stdout",
     "output_type": "stream",
     "text": [
      "Epoch:68/500.. Train Loss: 0.058.. Val Loss: 0.128.. Test Loss: 0.048.. Time: 0.17m\n"
     ]
    },
    {
     "name": "stderr",
     "output_type": "stream",
     "text": [
      "100%|██████████| 238/238 [00:10<00:00, 23.54it/s]\n",
      "100%|██████████| 85/85 [00:00<00:00, 162.26it/s]\n",
      "100%|██████████| 17/17 [00:00<00:00, 162.62it/s]\n"
     ]
    },
    {
     "name": "stdout",
     "output_type": "stream",
     "text": [
      "Epoch:69/500.. Train Loss: 0.058.. Val Loss: 0.112.. Test Loss: 0.048.. Time: 0.18m\n"
     ]
    },
    {
     "name": "stderr",
     "output_type": "stream",
     "text": [
      "100%|██████████| 238/238 [00:09<00:00, 24.17it/s]\n",
      "100%|██████████| 85/85 [00:00<00:00, 152.58it/s]\n",
      "100%|██████████| 17/17 [00:00<00:00, 162.00it/s]\n"
     ]
    },
    {
     "name": "stdout",
     "output_type": "stream",
     "text": [
      "Epoch:70/500.. Train Loss: 0.058.. Val Loss: 0.114.. Test Loss: 0.050.. Time: 0.18m\n"
     ]
    },
    {
     "name": "stderr",
     "output_type": "stream",
     "text": [
      "100%|██████████| 238/238 [00:09<00:00, 24.04it/s]\n",
      "100%|██████████| 85/85 [00:00<00:00, 162.58it/s]\n",
      "100%|██████████| 17/17 [00:00<00:00, 160.16it/s]\n"
     ]
    },
    {
     "name": "stdout",
     "output_type": "stream",
     "text": [
      "Epoch:71/500.. Train Loss: 0.057.. Val Loss: 0.113.. Test Loss: 0.050.. Time: 0.18m\n"
     ]
    },
    {
     "name": "stderr",
     "output_type": "stream",
     "text": [
      "100%|██████████| 238/238 [00:10<00:00, 23.50it/s]\n",
      "100%|██████████| 85/85 [00:00<00:00, 163.97it/s]\n",
      "100%|██████████| 17/17 [00:00<00:00, 162.25it/s]\n"
     ]
    },
    {
     "name": "stdout",
     "output_type": "stream",
     "text": [
      "Epoch:72/500.. Train Loss: 0.057.. Val Loss: 0.112.. Test Loss: 0.051.. Time: 0.18m\n"
     ]
    },
    {
     "name": "stderr",
     "output_type": "stream",
     "text": [
      "100%|██████████| 238/238 [00:10<00:00, 23.73it/s]\n",
      "100%|██████████| 85/85 [00:00<00:00, 159.40it/s]\n",
      "100%|██████████| 17/17 [00:00<00:00, 162.35it/s]\n"
     ]
    },
    {
     "name": "stdout",
     "output_type": "stream",
     "text": [
      "Epoch:73/500.. Train Loss: 0.058.. Val Loss: 0.121.. Test Loss: 0.052.. Time: 0.18m\n"
     ]
    },
    {
     "name": "stderr",
     "output_type": "stream",
     "text": [
      "100%|██████████| 238/238 [00:09<00:00, 24.25it/s]\n",
      "100%|██████████| 85/85 [00:00<00:00, 161.87it/s]\n",
      "100%|██████████| 17/17 [00:00<00:00, 162.56it/s]\n"
     ]
    },
    {
     "name": "stdout",
     "output_type": "stream",
     "text": [
      "Epoch:74/500.. Train Loss: 0.058.. Val Loss: 0.111.. Test Loss: 0.048.. Time: 0.17m\n"
     ]
    },
    {
     "name": "stderr",
     "output_type": "stream",
     "text": [
      "100%|██████████| 238/238 [00:09<00:00, 24.25it/s]\n",
      "100%|██████████| 85/85 [00:00<00:00, 159.58it/s]\n",
      "100%|██████████| 17/17 [00:00<00:00, 155.57it/s]\n"
     ]
    },
    {
     "name": "stdout",
     "output_type": "stream",
     "text": [
      "Epoch:75/500.. Train Loss: 0.057.. Val Loss: 0.112.. Test Loss: 0.047.. Time: 0.17m\n"
     ]
    },
    {
     "name": "stderr",
     "output_type": "stream",
     "text": [
      "100%|██████████| 238/238 [00:09<00:00, 23.87it/s]\n",
      "100%|██████████| 85/85 [00:00<00:00, 161.86it/s]\n",
      "100%|██████████| 17/17 [00:00<00:00, 159.68it/s]\n"
     ]
    },
    {
     "name": "stdout",
     "output_type": "stream",
     "text": [
      "Loss Decreasing.. 0.111 >> 0.111 \n",
      "saving model...\n",
      "Epoch:76/500.. Train Loss: 0.058.. Val Loss: 0.111.. Test Loss: 0.050.. Time: 0.18m\n"
     ]
    },
    {
     "name": "stderr",
     "output_type": "stream",
     "text": [
      "100%|██████████| 238/238 [00:10<00:00, 23.63it/s]\n",
      "100%|██████████| 85/85 [00:00<00:00, 160.41it/s]\n",
      "100%|██████████| 17/17 [00:00<00:00, 161.21it/s]\n"
     ]
    },
    {
     "name": "stdout",
     "output_type": "stream",
     "text": [
      "Epoch:77/500.. Train Loss: 0.057.. Val Loss: 0.119.. Test Loss: 0.047.. Time: 0.18m\n"
     ]
    },
    {
     "name": "stderr",
     "output_type": "stream",
     "text": [
      "100%|██████████| 238/238 [00:09<00:00, 23.86it/s]\n",
      "100%|██████████| 85/85 [00:00<00:00, 163.13it/s]\n",
      "100%|██████████| 17/17 [00:00<00:00, 153.09it/s]\n"
     ]
    },
    {
     "name": "stdout",
     "output_type": "stream",
     "text": [
      "Epoch:78/500.. Train Loss: 0.057.. Val Loss: 0.127.. Test Loss: 0.047.. Time: 0.18m\n"
     ]
    },
    {
     "name": "stderr",
     "output_type": "stream",
     "text": [
      "100%|██████████| 238/238 [00:08<00:00, 27.88it/s]\n",
      "100%|██████████| 85/85 [00:00<00:00, 161.36it/s]\n",
      "100%|██████████| 17/17 [00:00<00:00, 161.31it/s]\n"
     ]
    },
    {
     "name": "stdout",
     "output_type": "stream",
     "text": [
      "Epoch:79/500.. Train Loss: 0.057.. Val Loss: 0.115.. Test Loss: 0.052.. Time: 0.15m\n"
     ]
    },
    {
     "name": "stderr",
     "output_type": "stream",
     "text": [
      "100%|██████████| 238/238 [00:08<00:00, 27.87it/s]\n",
      "100%|██████████| 85/85 [00:00<00:00, 159.57it/s]\n",
      "100%|██████████| 17/17 [00:00<00:00, 161.87it/s]\n"
     ]
    },
    {
     "name": "stdout",
     "output_type": "stream",
     "text": [
      "Epoch:80/500.. Train Loss: 0.057.. Val Loss: 0.122.. Test Loss: 0.049.. Time: 0.15m\n"
     ]
    },
    {
     "name": "stderr",
     "output_type": "stream",
     "text": [
      "100%|██████████| 238/238 [00:09<00:00, 24.70it/s]\n",
      "100%|██████████| 85/85 [00:00<00:00, 161.50it/s]\n",
      "100%|██████████| 17/17 [00:00<00:00, 160.07it/s]\n"
     ]
    },
    {
     "name": "stdout",
     "output_type": "stream",
     "text": [
      "Epoch:81/500.. Train Loss: 0.057.. Val Loss: 0.129.. Test Loss: 0.048.. Time: 0.17m\n"
     ]
    },
    {
     "name": "stderr",
     "output_type": "stream",
     "text": [
      "100%|██████████| 238/238 [00:09<00:00, 24.05it/s]\n",
      "100%|██████████| 85/85 [00:00<00:00, 163.58it/s]\n",
      "100%|██████████| 17/17 [00:00<00:00, 162.50it/s]\n"
     ]
    },
    {
     "name": "stdout",
     "output_type": "stream",
     "text": [
      "Epoch:82/500.. Train Loss: 0.057.. Val Loss: 0.121.. Test Loss: 0.050.. Time: 0.18m\n"
     ]
    },
    {
     "name": "stderr",
     "output_type": "stream",
     "text": [
      "100%|██████████| 238/238 [00:09<00:00, 23.90it/s]\n",
      "100%|██████████| 85/85 [00:00<00:00, 162.43it/s]\n",
      "100%|██████████| 17/17 [00:00<00:00, 162.45it/s]\n"
     ]
    },
    {
     "name": "stdout",
     "output_type": "stream",
     "text": [
      "Epoch:83/500.. Train Loss: 0.056.. Val Loss: 0.116.. Test Loss: 0.050.. Time: 0.18m\n"
     ]
    },
    {
     "name": "stderr",
     "output_type": "stream",
     "text": [
      "100%|██████████| 238/238 [00:09<00:00, 24.20it/s]\n",
      "100%|██████████| 85/85 [00:00<00:00, 163.04it/s]\n",
      "100%|██████████| 17/17 [00:00<00:00, 160.85it/s]\n"
     ]
    },
    {
     "name": "stdout",
     "output_type": "stream",
     "text": [
      "Epoch:84/500.. Train Loss: 0.057.. Val Loss: 0.129.. Test Loss: 0.050.. Time: 0.17m\n"
     ]
    },
    {
     "name": "stderr",
     "output_type": "stream",
     "text": [
      "100%|██████████| 238/238 [00:09<00:00, 24.11it/s]\n",
      "100%|██████████| 85/85 [00:00<00:00, 163.36it/s]\n",
      "100%|██████████| 17/17 [00:00<00:00, 161.15it/s]\n"
     ]
    },
    {
     "name": "stdout",
     "output_type": "stream",
     "text": [
      "Epoch:85/500.. Train Loss: 0.059.. Val Loss: 0.114.. Test Loss: 0.048.. Time: 0.18m\n"
     ]
    },
    {
     "name": "stderr",
     "output_type": "stream",
     "text": [
      "100%|██████████| 238/238 [00:09<00:00, 24.21it/s]\n",
      "100%|██████████| 85/85 [00:00<00:00, 157.32it/s]\n",
      "100%|██████████| 17/17 [00:00<00:00, 161.83it/s]\n"
     ]
    },
    {
     "name": "stdout",
     "output_type": "stream",
     "text": [
      "Epoch:86/500.. Train Loss: 0.056.. Val Loss: 0.122.. Test Loss: 0.047.. Time: 0.17m\n"
     ]
    },
    {
     "name": "stderr",
     "output_type": "stream",
     "text": [
      "100%|██████████| 238/238 [00:09<00:00, 24.21it/s]\n",
      "100%|██████████| 85/85 [00:00<00:00, 163.50it/s]\n",
      "100%|██████████| 17/17 [00:00<00:00, 163.39it/s]\n"
     ]
    },
    {
     "name": "stdout",
     "output_type": "stream",
     "text": [
      "Epoch:87/500.. Train Loss: 0.057.. Val Loss: 0.128.. Test Loss: 0.047.. Time: 0.17m\n"
     ]
    },
    {
     "name": "stderr",
     "output_type": "stream",
     "text": [
      "100%|██████████| 238/238 [00:10<00:00, 23.49it/s]\n",
      "100%|██████████| 85/85 [00:00<00:00, 161.12it/s]\n",
      "100%|██████████| 17/17 [00:00<00:00, 158.80it/s]\n"
     ]
    },
    {
     "name": "stdout",
     "output_type": "stream",
     "text": [
      "Loss Decreasing.. 0.111 >> 0.111 \n",
      "saving model...\n",
      "Epoch:88/500.. Train Loss: 0.058.. Val Loss: 0.111.. Test Loss: 0.047.. Time: 0.18m\n"
     ]
    },
    {
     "name": "stderr",
     "output_type": "stream",
     "text": [
      "100%|██████████| 238/238 [00:10<00:00, 23.70it/s]\n",
      "100%|██████████| 85/85 [00:00<00:00, 162.88it/s]\n",
      "100%|██████████| 17/17 [00:00<00:00, 161.65it/s]\n"
     ]
    },
    {
     "name": "stdout",
     "output_type": "stream",
     "text": [
      "Loss Decreasing.. 0.111 >> 0.110 \n",
      "saving model...\n",
      "Epoch:89/500.. Train Loss: 0.057.. Val Loss: 0.110.. Test Loss: 0.049.. Time: 0.18m\n"
     ]
    },
    {
     "name": "stderr",
     "output_type": "stream",
     "text": [
      "100%|██████████| 238/238 [00:09<00:00, 24.11it/s]\n",
      "100%|██████████| 85/85 [00:00<00:00, 162.45it/s]\n",
      "100%|██████████| 17/17 [00:00<00:00, 162.52it/s]\n"
     ]
    },
    {
     "name": "stdout",
     "output_type": "stream",
     "text": [
      "Epoch:90/500.. Train Loss: 0.057.. Val Loss: 0.113.. Test Loss: 0.049.. Time: 0.18m\n"
     ]
    },
    {
     "name": "stderr",
     "output_type": "stream",
     "text": [
      "100%|██████████| 238/238 [00:09<00:00, 24.14it/s]\n",
      "100%|██████████| 85/85 [00:00<00:00, 162.05it/s]\n",
      "100%|██████████| 17/17 [00:00<00:00, 163.02it/s]\n"
     ]
    },
    {
     "name": "stdout",
     "output_type": "stream",
     "text": [
      "Epoch:91/500.. Train Loss: 0.057.. Val Loss: 0.111.. Test Loss: 0.047.. Time: 0.17m\n"
     ]
    },
    {
     "name": "stderr",
     "output_type": "stream",
     "text": [
      "100%|██████████| 238/238 [00:09<00:00, 23.86it/s]\n",
      "100%|██████████| 85/85 [00:00<00:00, 158.65it/s]\n",
      "100%|██████████| 17/17 [00:00<00:00, 149.77it/s]\n"
     ]
    },
    {
     "name": "stdout",
     "output_type": "stream",
     "text": [
      "Epoch:92/500.. Train Loss: 0.056.. Val Loss: 0.112.. Test Loss: 0.049.. Time: 0.18m\n"
     ]
    },
    {
     "name": "stderr",
     "output_type": "stream",
     "text": [
      "100%|██████████| 238/238 [00:10<00:00, 23.65it/s]\n",
      "100%|██████████| 85/85 [00:00<00:00, 148.04it/s]\n",
      "100%|██████████| 17/17 [00:00<00:00, 160.48it/s]\n"
     ]
    },
    {
     "name": "stdout",
     "output_type": "stream",
     "text": [
      "Epoch:93/500.. Train Loss: 0.056.. Val Loss: 0.111.. Test Loss: 0.048.. Time: 0.18m\n"
     ]
    },
    {
     "name": "stderr",
     "output_type": "stream",
     "text": [
      "100%|██████████| 238/238 [00:09<00:00, 24.01it/s]\n",
      "100%|██████████| 85/85 [00:00<00:00, 161.57it/s]\n",
      "100%|██████████| 17/17 [00:00<00:00, 160.38it/s]\n"
     ]
    },
    {
     "name": "stdout",
     "output_type": "stream",
     "text": [
      "Epoch:94/500.. Train Loss: 0.056.. Val Loss: 0.112.. Test Loss: 0.049.. Time: 0.18m\n"
     ]
    },
    {
     "name": "stderr",
     "output_type": "stream",
     "text": [
      "100%|██████████| 238/238 [00:09<00:00, 23.96it/s]\n",
      "100%|██████████| 85/85 [00:00<00:00, 159.83it/s]\n",
      "100%|██████████| 17/17 [00:00<00:00, 156.37it/s]\n"
     ]
    },
    {
     "name": "stdout",
     "output_type": "stream",
     "text": [
      "Epoch:95/500.. Train Loss: 0.056.. Val Loss: 0.112.. Test Loss: 0.047.. Time: 0.18m\n"
     ]
    },
    {
     "name": "stderr",
     "output_type": "stream",
     "text": [
      "100%|██████████| 238/238 [00:09<00:00, 24.25it/s]\n",
      "100%|██████████| 85/85 [00:00<00:00, 161.37it/s]\n",
      "100%|██████████| 17/17 [00:00<00:00, 159.32it/s]\n"
     ]
    },
    {
     "name": "stdout",
     "output_type": "stream",
     "text": [
      "Epoch:96/500.. Train Loss: 0.056.. Val Loss: 0.115.. Test Loss: 0.050.. Time: 0.17m\n"
     ]
    },
    {
     "name": "stderr",
     "output_type": "stream",
     "text": [
      "100%|██████████| 238/238 [00:10<00:00, 23.80it/s]\n",
      "100%|██████████| 85/85 [00:00<00:00, 160.91it/s]\n",
      "100%|██████████| 17/17 [00:00<00:00, 161.00it/s]\n"
     ]
    },
    {
     "name": "stdout",
     "output_type": "stream",
     "text": [
      "Epoch:97/500.. Train Loss: 0.058.. Val Loss: 0.112.. Test Loss: 0.048.. Time: 0.18m\n"
     ]
    },
    {
     "name": "stderr",
     "output_type": "stream",
     "text": [
      "100%|██████████| 238/238 [00:09<00:00, 24.03it/s]\n",
      "100%|██████████| 85/85 [00:00<00:00, 164.02it/s]\n",
      "100%|██████████| 17/17 [00:00<00:00, 158.75it/s]\n"
     ]
    },
    {
     "name": "stdout",
     "output_type": "stream",
     "text": [
      "Epoch:98/500.. Train Loss: 0.056.. Val Loss: 0.112.. Test Loss: 0.050.. Time: 0.18m\n"
     ]
    },
    {
     "name": "stderr",
     "output_type": "stream",
     "text": [
      "100%|██████████| 238/238 [00:10<00:00, 23.78it/s]\n",
      "100%|██████████| 85/85 [00:00<00:00, 164.43it/s]\n",
      "100%|██████████| 17/17 [00:00<00:00, 164.15it/s]\n"
     ]
    },
    {
     "name": "stdout",
     "output_type": "stream",
     "text": [
      "Epoch:99/500.. Train Loss: 0.055.. Val Loss: 0.113.. Test Loss: 0.051.. Time: 0.18m\n"
     ]
    },
    {
     "name": "stderr",
     "output_type": "stream",
     "text": [
      "100%|██████████| 238/238 [00:09<00:00, 23.88it/s]\n",
      "100%|██████████| 85/85 [00:00<00:00, 160.51it/s]\n",
      "100%|██████████| 17/17 [00:00<00:00, 161.22it/s]\n"
     ]
    },
    {
     "name": "stdout",
     "output_type": "stream",
     "text": [
      "Epoch:100/500.. Train Loss: 0.055.. Val Loss: 0.113.. Test Loss: 0.052.. Time: 0.18m\n"
     ]
    },
    {
     "name": "stderr",
     "output_type": "stream",
     "text": [
      "100%|██████████| 238/238 [00:10<00:00, 23.37it/s]\n",
      "100%|██████████| 85/85 [00:00<00:00, 161.39it/s]\n",
      "100%|██████████| 17/17 [00:00<00:00, 159.79it/s]\n"
     ]
    },
    {
     "name": "stdout",
     "output_type": "stream",
     "text": [
      "Epoch:101/500.. Train Loss: 0.056.. Val Loss: 0.111.. Test Loss: 0.049.. Time: 0.18m\n"
     ]
    },
    {
     "name": "stderr",
     "output_type": "stream",
     "text": [
      "100%|██████████| 238/238 [00:09<00:00, 24.06it/s]\n",
      "100%|██████████| 85/85 [00:00<00:00, 163.71it/s]\n",
      "100%|██████████| 17/17 [00:00<00:00, 156.18it/s]\n"
     ]
    },
    {
     "name": "stdout",
     "output_type": "stream",
     "text": [
      "Epoch:102/500.. Train Loss: 0.056.. Val Loss: 0.111.. Test Loss: 0.048.. Time: 0.18m\n"
     ]
    },
    {
     "name": "stderr",
     "output_type": "stream",
     "text": [
      "100%|██████████| 238/238 [00:09<00:00, 24.11it/s]\n",
      "100%|██████████| 85/85 [00:00<00:00, 163.67it/s]\n",
      "100%|██████████| 17/17 [00:00<00:00, 162.64it/s]\n"
     ]
    },
    {
     "name": "stdout",
     "output_type": "stream",
     "text": [
      "Epoch:103/500.. Train Loss: 0.055.. Val Loss: 0.114.. Test Loss: 0.047.. Time: 0.18m\n"
     ]
    },
    {
     "name": "stderr",
     "output_type": "stream",
     "text": [
      "100%|██████████| 238/238 [00:09<00:00, 24.16it/s]\n",
      "100%|██████████| 85/85 [00:00<00:00, 163.06it/s]\n",
      "100%|██████████| 17/17 [00:00<00:00, 162.68it/s]\n"
     ]
    },
    {
     "name": "stdout",
     "output_type": "stream",
     "text": [
      "Epoch:104/500.. Train Loss: 0.058.. Val Loss: 0.113.. Test Loss: 0.047.. Time: 0.17m\n"
     ]
    },
    {
     "name": "stderr",
     "output_type": "stream",
     "text": [
      "100%|██████████| 238/238 [00:09<00:00, 24.54it/s]\n",
      "100%|██████████| 85/85 [00:00<00:00, 163.01it/s]\n",
      "100%|██████████| 17/17 [00:00<00:00, 162.27it/s]\n"
     ]
    },
    {
     "name": "stdout",
     "output_type": "stream",
     "text": [
      "Epoch:105/500.. Train Loss: 0.059.. Val Loss: 0.111.. Test Loss: 0.047.. Time: 0.17m\n"
     ]
    },
    {
     "name": "stderr",
     "output_type": "stream",
     "text": [
      "100%|██████████| 238/238 [00:09<00:00, 24.13it/s]\n",
      "100%|██████████| 85/85 [00:00<00:00, 162.31it/s]\n",
      "100%|██████████| 17/17 [00:00<00:00, 147.13it/s]\n"
     ]
    },
    {
     "name": "stdout",
     "output_type": "stream",
     "text": [
      "Epoch:106/500.. Train Loss: 0.057.. Val Loss: 0.112.. Test Loss: 0.046.. Time: 0.18m\n"
     ]
    },
    {
     "name": "stderr",
     "output_type": "stream",
     "text": [
      "100%|██████████| 238/238 [00:10<00:00, 23.53it/s]\n",
      "100%|██████████| 85/85 [00:00<00:00, 163.90it/s]\n",
      "100%|██████████| 17/17 [00:00<00:00, 163.18it/s]\n"
     ]
    },
    {
     "name": "stdout",
     "output_type": "stream",
     "text": [
      "Epoch:107/500.. Train Loss: 0.058.. Val Loss: 0.110.. Test Loss: 0.046.. Time: 0.18m\n"
     ]
    },
    {
     "name": "stderr",
     "output_type": "stream",
     "text": [
      "100%|██████████| 238/238 [00:09<00:00, 24.19it/s]\n",
      "100%|██████████| 85/85 [00:00<00:00, 161.41it/s]\n",
      "100%|██████████| 17/17 [00:00<00:00, 162.90it/s]\n"
     ]
    },
    {
     "name": "stdout",
     "output_type": "stream",
     "text": [
      "Epoch:108/500.. Train Loss: 0.057.. Val Loss: 0.110.. Test Loss: 0.048.. Time: 0.17m\n"
     ]
    },
    {
     "name": "stderr",
     "output_type": "stream",
     "text": [
      "100%|██████████| 238/238 [00:09<00:00, 24.04it/s]\n",
      "100%|██████████| 85/85 [00:00<00:00, 158.63it/s]\n",
      "100%|██████████| 17/17 [00:00<00:00, 155.88it/s]\n"
     ]
    },
    {
     "name": "stdout",
     "output_type": "stream",
     "text": [
      "Epoch:109/500.. Train Loss: 0.058.. Val Loss: 0.112.. Test Loss: 0.050.. Time: 0.18m\n"
     ]
    },
    {
     "name": "stderr",
     "output_type": "stream",
     "text": [
      "100%|██████████| 238/238 [00:09<00:00, 24.04it/s]\n",
      "100%|██████████| 85/85 [00:00<00:00, 164.07it/s]\n",
      "100%|██████████| 17/17 [00:00<00:00, 162.97it/s]\n"
     ]
    },
    {
     "name": "stdout",
     "output_type": "stream",
     "text": [
      "Epoch:110/500.. Train Loss: 0.058.. Val Loss: 0.112.. Test Loss: 0.046.. Time: 0.18m\n"
     ]
    },
    {
     "name": "stderr",
     "output_type": "stream",
     "text": [
      "100%|██████████| 238/238 [00:09<00:00, 24.04it/s]\n",
      "100%|██████████| 85/85 [00:00<00:00, 162.50it/s]\n",
      "100%|██████████| 17/17 [00:00<00:00, 161.05it/s]\n"
     ]
    },
    {
     "name": "stdout",
     "output_type": "stream",
     "text": [
      "Epoch:111/500.. Train Loss: 0.057.. Val Loss: 0.112.. Test Loss: 0.051.. Time: 0.18m\n"
     ]
    },
    {
     "name": "stderr",
     "output_type": "stream",
     "text": [
      "100%|██████████| 238/238 [00:09<00:00, 23.91it/s]\n",
      "100%|██████████| 85/85 [00:00<00:00, 163.40it/s]\n",
      "100%|██████████| 17/17 [00:00<00:00, 162.52it/s]\n"
     ]
    },
    {
     "name": "stdout",
     "output_type": "stream",
     "text": [
      "Epoch:112/500.. Train Loss: 0.056.. Val Loss: 0.111.. Test Loss: 0.050.. Time: 0.18m\n"
     ]
    },
    {
     "name": "stderr",
     "output_type": "stream",
     "text": [
      "100%|██████████| 238/238 [00:10<00:00, 23.52it/s]\n",
      "100%|██████████| 85/85 [00:00<00:00, 160.70it/s]\n",
      "100%|██████████| 17/17 [00:00<00:00, 161.05it/s]\n"
     ]
    },
    {
     "name": "stdout",
     "output_type": "stream",
     "text": [
      "Epoch:113/500.. Train Loss: 0.056.. Val Loss: 0.110.. Test Loss: 0.047.. Time: 0.18m\n"
     ]
    },
    {
     "name": "stderr",
     "output_type": "stream",
     "text": [
      "100%|██████████| 238/238 [00:09<00:00, 24.22it/s]\n",
      "100%|██████████| 85/85 [00:00<00:00, 157.93it/s]\n",
      "100%|██████████| 17/17 [00:00<00:00, 161.89it/s]\n"
     ]
    },
    {
     "name": "stdout",
     "output_type": "stream",
     "text": [
      "Epoch:114/500.. Train Loss: 0.056.. Val Loss: 0.111.. Test Loss: 0.047.. Time: 0.17m\n"
     ]
    },
    {
     "name": "stderr",
     "output_type": "stream",
     "text": [
      "100%|██████████| 238/238 [00:10<00:00, 23.41it/s]\n",
      "100%|██████████| 85/85 [00:00<00:00, 164.25it/s]\n",
      "100%|██████████| 17/17 [00:00<00:00, 164.39it/s]\n"
     ]
    },
    {
     "name": "stdout",
     "output_type": "stream",
     "text": [
      "Epoch:115/500.. Train Loss: 0.056.. Val Loss: 0.113.. Test Loss: 0.049.. Time: 0.18m\n"
     ]
    },
    {
     "name": "stderr",
     "output_type": "stream",
     "text": [
      "100%|██████████| 238/238 [00:09<00:00, 23.82it/s]\n",
      "100%|██████████| 85/85 [00:00<00:00, 162.30it/s]\n",
      "100%|██████████| 17/17 [00:00<00:00, 160.22it/s]\n"
     ]
    },
    {
     "name": "stdout",
     "output_type": "stream",
     "text": [
      "Epoch:116/500.. Train Loss: 0.056.. Val Loss: 0.114.. Test Loss: 0.050.. Time: 0.18m\n"
     ]
    },
    {
     "name": "stderr",
     "output_type": "stream",
     "text": [
      "100%|██████████| 238/238 [00:09<00:00, 24.05it/s]\n",
      "100%|██████████| 85/85 [00:00<00:00, 155.87it/s]\n",
      "100%|██████████| 17/17 [00:00<00:00, 160.06it/s]\n"
     ]
    },
    {
     "name": "stdout",
     "output_type": "stream",
     "text": [
      "Epoch:117/500.. Train Loss: 0.058.. Val Loss: 0.112.. Test Loss: 0.048.. Time: 0.18m\n"
     ]
    },
    {
     "name": "stderr",
     "output_type": "stream",
     "text": [
      "100%|██████████| 238/238 [00:10<00:00, 23.69it/s]\n",
      "100%|██████████| 85/85 [00:00<00:00, 162.66it/s]\n",
      "100%|██████████| 17/17 [00:00<00:00, 160.84it/s]\n"
     ]
    },
    {
     "name": "stdout",
     "output_type": "stream",
     "text": [
      "Epoch:118/500.. Train Loss: 0.057.. Val Loss: 0.111.. Test Loss: 0.046.. Time: 0.18m\n"
     ]
    },
    {
     "name": "stderr",
     "output_type": "stream",
     "text": [
      "100%|██████████| 238/238 [00:09<00:00, 24.22it/s]\n",
      "100%|██████████| 85/85 [00:00<00:00, 161.51it/s]\n",
      "100%|██████████| 17/17 [00:00<00:00, 160.06it/s]\n"
     ]
    },
    {
     "name": "stdout",
     "output_type": "stream",
     "text": [
      "Epoch:119/500.. Train Loss: 0.058.. Val Loss: 0.111.. Test Loss: 0.046.. Time: 0.17m\n"
     ]
    },
    {
     "name": "stderr",
     "output_type": "stream",
     "text": [
      "100%|██████████| 238/238 [00:09<00:00, 23.92it/s]\n",
      "100%|██████████| 85/85 [00:00<00:00, 163.45it/s]\n",
      "100%|██████████| 17/17 [00:00<00:00, 163.88it/s]\n"
     ]
    },
    {
     "name": "stdout",
     "output_type": "stream",
     "text": [
      "Epoch:120/500.. Train Loss: 0.056.. Val Loss: 0.111.. Test Loss: 0.048.. Time: 0.18m\n"
     ]
    },
    {
     "name": "stderr",
     "output_type": "stream",
     "text": [
      "100%|██████████| 238/238 [00:10<00:00, 23.51it/s]\n",
      "100%|██████████| 85/85 [00:00<00:00, 160.10it/s]\n",
      "100%|██████████| 17/17 [00:00<00:00, 158.52it/s]\n"
     ]
    },
    {
     "name": "stdout",
     "output_type": "stream",
     "text": [
      "Epoch:121/500.. Train Loss: 0.056.. Val Loss: 0.111.. Test Loss: 0.048.. Time: 0.18m\n"
     ]
    },
    {
     "name": "stderr",
     "output_type": "stream",
     "text": [
      "100%|██████████| 238/238 [00:09<00:00, 24.07it/s]\n",
      "100%|██████████| 85/85 [00:00<00:00, 163.26it/s]\n",
      "100%|██████████| 17/17 [00:00<00:00, 161.87it/s]\n"
     ]
    },
    {
     "name": "stdout",
     "output_type": "stream",
     "text": [
      "Epoch:122/500.. Train Loss: 0.055.. Val Loss: 0.111.. Test Loss: 0.048.. Time: 0.18m\n"
     ]
    },
    {
     "name": "stderr",
     "output_type": "stream",
     "text": [
      "100%|██████████| 238/238 [00:09<00:00, 24.08it/s]\n",
      "100%|██████████| 85/85 [00:00<00:00, 159.65it/s]\n",
      "100%|██████████| 17/17 [00:00<00:00, 158.44it/s]\n"
     ]
    },
    {
     "name": "stdout",
     "output_type": "stream",
     "text": [
      "Epoch:123/500.. Train Loss: 0.056.. Val Loss: 0.111.. Test Loss: 0.050.. Time: 0.18m\n"
     ]
    },
    {
     "name": "stderr",
     "output_type": "stream",
     "text": [
      "100%|██████████| 238/238 [00:10<00:00, 23.75it/s]\n",
      "100%|██████████| 85/85 [00:00<00:00, 162.05it/s]\n",
      "100%|██████████| 17/17 [00:00<00:00, 161.09it/s]\n"
     ]
    },
    {
     "name": "stdout",
     "output_type": "stream",
     "text": [
      "Epoch:124/500.. Train Loss: 0.057.. Val Loss: 0.110.. Test Loss: 0.047.. Time: 0.18m\n"
     ]
    },
    {
     "name": "stderr",
     "output_type": "stream",
     "text": [
      "100%|██████████| 238/238 [00:09<00:00, 23.95it/s]\n",
      "100%|██████████| 85/85 [00:00<00:00, 162.24it/s]\n",
      "100%|██████████| 17/17 [00:00<00:00, 160.91it/s]\n"
     ]
    },
    {
     "name": "stdout",
     "output_type": "stream",
     "text": [
      "Epoch:125/500.. Train Loss: 0.057.. Val Loss: 0.114.. Test Loss: 0.051.. Time: 0.18m\n"
     ]
    },
    {
     "name": "stderr",
     "output_type": "stream",
     "text": [
      "100%|██████████| 238/238 [00:09<00:00, 24.11it/s]\n",
      "100%|██████████| 85/85 [00:00<00:00, 163.10it/s]\n",
      "100%|██████████| 17/17 [00:00<00:00, 162.25it/s]\n"
     ]
    },
    {
     "name": "stdout",
     "output_type": "stream",
     "text": [
      "Epoch:126/500.. Train Loss: 0.056.. Val Loss: 0.112.. Test Loss: 0.047.. Time: 0.18m\n"
     ]
    },
    {
     "name": "stderr",
     "output_type": "stream",
     "text": [
      "100%|██████████| 238/238 [00:09<00:00, 24.42it/s]\n",
      "100%|██████████| 85/85 [00:00<00:00, 165.07it/s]\n",
      "100%|██████████| 17/17 [00:00<00:00, 160.50it/s]\n"
     ]
    },
    {
     "name": "stdout",
     "output_type": "stream",
     "text": [
      "Epoch:127/500.. Train Loss: 0.056.. Val Loss: 0.111.. Test Loss: 0.047.. Time: 0.17m\n"
     ]
    },
    {
     "name": "stderr",
     "output_type": "stream",
     "text": [
      "100%|██████████| 238/238 [00:09<00:00, 23.92it/s]\n",
      "100%|██████████| 85/85 [00:00<00:00, 163.72it/s]\n",
      "100%|██████████| 17/17 [00:00<00:00, 162.66it/s]\n"
     ]
    },
    {
     "name": "stdout",
     "output_type": "stream",
     "text": [
      "Epoch:128/500.. Train Loss: 0.056.. Val Loss: 0.113.. Test Loss: 0.048.. Time: 0.18m\n"
     ]
    },
    {
     "name": "stderr",
     "output_type": "stream",
     "text": [
      "100%|██████████| 238/238 [00:09<00:00, 23.84it/s]\n",
      "100%|██████████| 85/85 [00:00<00:00, 162.20it/s]\n",
      "100%|██████████| 17/17 [00:00<00:00, 156.59it/s]\n"
     ]
    },
    {
     "name": "stdout",
     "output_type": "stream",
     "text": [
      "Epoch:129/500.. Train Loss: 0.057.. Val Loss: 0.112.. Test Loss: 0.047.. Time: 0.18m\n"
     ]
    },
    {
     "name": "stderr",
     "output_type": "stream",
     "text": [
      "100%|██████████| 238/238 [00:09<00:00, 24.17it/s]\n",
      "100%|██████████| 85/85 [00:00<00:00, 162.72it/s]\n",
      "100%|██████████| 17/17 [00:00<00:00, 163.12it/s]\n"
     ]
    },
    {
     "name": "stdout",
     "output_type": "stream",
     "text": [
      "Epoch:130/500.. Train Loss: 0.056.. Val Loss: 0.112.. Test Loss: 0.049.. Time: 0.17m\n"
     ]
    },
    {
     "name": "stderr",
     "output_type": "stream",
     "text": [
      "100%|██████████| 238/238 [00:09<00:00, 24.28it/s]\n",
      "100%|██████████| 85/85 [00:00<00:00, 163.34it/s]\n",
      "100%|██████████| 17/17 [00:00<00:00, 162.66it/s]\n"
     ]
    },
    {
     "name": "stdout",
     "output_type": "stream",
     "text": [
      "Epoch:131/500.. Train Loss: 0.056.. Val Loss: 0.111.. Test Loss: 0.049.. Time: 0.17m\n"
     ]
    },
    {
     "name": "stderr",
     "output_type": "stream",
     "text": [
      "100%|██████████| 238/238 [00:09<00:00, 24.06it/s]\n",
      "100%|██████████| 85/85 [00:00<00:00, 161.71it/s]\n",
      "100%|██████████| 17/17 [00:00<00:00, 128.68it/s]\n"
     ]
    },
    {
     "name": "stdout",
     "output_type": "stream",
     "text": [
      "Epoch:132/500.. Train Loss: 0.056.. Val Loss: 0.112.. Test Loss: 0.049.. Time: 0.18m\n"
     ]
    },
    {
     "name": "stderr",
     "output_type": "stream",
     "text": [
      "100%|██████████| 238/238 [00:09<00:00, 24.09it/s]\n",
      "100%|██████████| 85/85 [00:00<00:00, 163.58it/s]\n",
      "100%|██████████| 17/17 [00:00<00:00, 149.41it/s]\n"
     ]
    },
    {
     "name": "stdout",
     "output_type": "stream",
     "text": [
      "Epoch:133/500.. Train Loss: 0.055.. Val Loss: 0.113.. Test Loss: 0.047.. Time: 0.18m\n"
     ]
    },
    {
     "name": "stderr",
     "output_type": "stream",
     "text": [
      "100%|██████████| 238/238 [00:09<00:00, 24.51it/s]\n",
      "100%|██████████| 85/85 [00:00<00:00, 162.13it/s]\n",
      "100%|██████████| 17/17 [00:00<00:00, 160.70it/s]\n"
     ]
    },
    {
     "name": "stdout",
     "output_type": "stream",
     "text": [
      "Loss Decreasing.. 0.110 >> 0.109 \n",
      "saving model...\n",
      "Epoch:134/500.. Train Loss: 0.056.. Val Loss: 0.109.. Test Loss: 0.047.. Time: 0.17m\n"
     ]
    },
    {
     "name": "stderr",
     "output_type": "stream",
     "text": [
      "100%|██████████| 238/238 [00:09<00:00, 24.46it/s]\n",
      "100%|██████████| 85/85 [00:00<00:00, 160.72it/s]\n",
      "100%|██████████| 17/17 [00:00<00:00, 158.76it/s]\n"
     ]
    },
    {
     "name": "stdout",
     "output_type": "stream",
     "text": [
      "Epoch:135/500.. Train Loss: 0.055.. Val Loss: 0.113.. Test Loss: 0.047.. Time: 0.17m\n"
     ]
    },
    {
     "name": "stderr",
     "output_type": "stream",
     "text": [
      "100%|██████████| 238/238 [00:09<00:00, 24.85it/s]\n",
      "100%|██████████| 85/85 [00:00<00:00, 162.18it/s]\n",
      "100%|██████████| 17/17 [00:00<00:00, 159.25it/s]\n"
     ]
    },
    {
     "name": "stdout",
     "output_type": "stream",
     "text": [
      "Epoch:136/500.. Train Loss: 0.057.. Val Loss: 0.112.. Test Loss: 0.051.. Time: 0.17m\n"
     ]
    },
    {
     "name": "stderr",
     "output_type": "stream",
     "text": [
      "100%|██████████| 238/238 [00:09<00:00, 24.18it/s]\n",
      "100%|██████████| 85/85 [00:00<00:00, 163.37it/s]\n",
      "100%|██████████| 17/17 [00:00<00:00, 163.18it/s]\n"
     ]
    },
    {
     "name": "stdout",
     "output_type": "stream",
     "text": [
      "Epoch:137/500.. Train Loss: 0.055.. Val Loss: 0.112.. Test Loss: 0.048.. Time: 0.17m\n"
     ]
    },
    {
     "name": "stderr",
     "output_type": "stream",
     "text": [
      "100%|██████████| 238/238 [00:09<00:00, 24.44it/s]\n",
      "100%|██████████| 85/85 [00:00<00:00, 163.31it/s]\n",
      "100%|██████████| 17/17 [00:00<00:00, 164.34it/s]\n"
     ]
    },
    {
     "name": "stdout",
     "output_type": "stream",
     "text": [
      "Epoch:138/500.. Train Loss: 0.057.. Val Loss: 0.113.. Test Loss: 0.051.. Time: 0.17m\n"
     ]
    },
    {
     "name": "stderr",
     "output_type": "stream",
     "text": [
      "100%|██████████| 238/238 [00:09<00:00, 24.25it/s]\n",
      "100%|██████████| 85/85 [00:00<00:00, 163.42it/s]\n",
      "100%|██████████| 17/17 [00:00<00:00, 161.29it/s]\n"
     ]
    },
    {
     "name": "stdout",
     "output_type": "stream",
     "text": [
      "Epoch:139/500.. Train Loss: 0.055.. Val Loss: 0.113.. Test Loss: 0.052.. Time: 0.17m\n"
     ]
    },
    {
     "name": "stderr",
     "output_type": "stream",
     "text": [
      "100%|██████████| 238/238 [00:09<00:00, 24.29it/s]\n",
      "100%|██████████| 85/85 [00:00<00:00, 159.98it/s]\n",
      "100%|██████████| 17/17 [00:00<00:00, 159.25it/s]\n"
     ]
    },
    {
     "name": "stdout",
     "output_type": "stream",
     "text": [
      "Epoch:140/500.. Train Loss: 0.055.. Val Loss: 0.114.. Test Loss: 0.053.. Time: 0.17m\n"
     ]
    },
    {
     "name": "stderr",
     "output_type": "stream",
     "text": [
      "100%|██████████| 238/238 [00:10<00:00, 23.35it/s]\n",
      "100%|██████████| 85/85 [00:00<00:00, 162.90it/s]\n",
      "100%|██████████| 17/17 [00:00<00:00, 162.58it/s]\n"
     ]
    },
    {
     "name": "stdout",
     "output_type": "stream",
     "text": [
      "Epoch:141/500.. Train Loss: 0.055.. Val Loss: 0.113.. Test Loss: 0.052.. Time: 0.18m\n"
     ]
    },
    {
     "name": "stderr",
     "output_type": "stream",
     "text": [
      "100%|██████████| 238/238 [00:10<00:00, 23.58it/s]\n",
      "100%|██████████| 85/85 [00:00<00:00, 147.32it/s]\n",
      "100%|██████████| 17/17 [00:00<00:00, 159.69it/s]\n"
     ]
    },
    {
     "name": "stdout",
     "output_type": "stream",
     "text": [
      "Epoch:142/500.. Train Loss: 0.055.. Val Loss: 0.111.. Test Loss: 0.049.. Time: 0.18m\n"
     ]
    },
    {
     "name": "stderr",
     "output_type": "stream",
     "text": [
      "100%|██████████| 238/238 [00:09<00:00, 24.10it/s]\n",
      "100%|██████████| 85/85 [00:00<00:00, 163.37it/s]\n",
      "100%|██████████| 17/17 [00:00<00:00, 159.04it/s]\n"
     ]
    },
    {
     "name": "stdout",
     "output_type": "stream",
     "text": [
      "Epoch:143/500.. Train Loss: 0.056.. Val Loss: 0.111.. Test Loss: 0.048.. Time: 0.18m\n"
     ]
    },
    {
     "name": "stderr",
     "output_type": "stream",
     "text": [
      "100%|██████████| 238/238 [00:09<00:00, 24.25it/s]\n",
      "100%|██████████| 85/85 [00:00<00:00, 159.11it/s]\n",
      "100%|██████████| 17/17 [00:00<00:00, 159.87it/s]\n"
     ]
    },
    {
     "name": "stdout",
     "output_type": "stream",
     "text": [
      "Epoch:144/500.. Train Loss: 0.056.. Val Loss: 0.113.. Test Loss: 0.050.. Time: 0.17m\n"
     ]
    },
    {
     "name": "stderr",
     "output_type": "stream",
     "text": [
      "100%|██████████| 238/238 [00:09<00:00, 24.06it/s]\n",
      "100%|██████████| 85/85 [00:00<00:00, 163.50it/s]\n",
      "100%|██████████| 17/17 [00:00<00:00, 158.48it/s]\n"
     ]
    },
    {
     "name": "stdout",
     "output_type": "stream",
     "text": [
      "Epoch:145/500.. Train Loss: 0.055.. Val Loss: 0.115.. Test Loss: 0.051.. Time: 0.18m\n"
     ]
    },
    {
     "name": "stderr",
     "output_type": "stream",
     "text": [
      "100%|██████████| 238/238 [00:09<00:00, 24.09it/s]\n",
      "100%|██████████| 85/85 [00:00<00:00, 159.69it/s]\n",
      "100%|██████████| 17/17 [00:00<00:00, 146.81it/s]\n"
     ]
    },
    {
     "name": "stdout",
     "output_type": "stream",
     "text": [
      "Epoch:146/500.. Train Loss: 0.056.. Val Loss: 0.111.. Test Loss: 0.049.. Time: 0.18m\n"
     ]
    },
    {
     "name": "stderr",
     "output_type": "stream",
     "text": [
      "100%|██████████| 238/238 [00:10<00:00, 23.34it/s]\n",
      "100%|██████████| 85/85 [00:00<00:00, 162.84it/s]\n",
      "100%|██████████| 17/17 [00:00<00:00, 161.49it/s]\n"
     ]
    },
    {
     "name": "stdout",
     "output_type": "stream",
     "text": [
      "Epoch:147/500.. Train Loss: 0.055.. Val Loss: 0.114.. Test Loss: 0.051.. Time: 0.18m\n"
     ]
    },
    {
     "name": "stderr",
     "output_type": "stream",
     "text": [
      "100%|██████████| 238/238 [00:09<00:00, 23.94it/s]\n",
      "100%|██████████| 85/85 [00:00<00:00, 162.76it/s]\n",
      "100%|██████████| 17/17 [00:00<00:00, 159.57it/s]\n"
     ]
    },
    {
     "name": "stdout",
     "output_type": "stream",
     "text": [
      "Epoch:148/500.. Train Loss: 0.055.. Val Loss: 0.115.. Test Loss: 0.054.. Time: 0.18m\n"
     ]
    },
    {
     "name": "stderr",
     "output_type": "stream",
     "text": [
      "100%|██████████| 238/238 [00:10<00:00, 23.78it/s]\n",
      "100%|██████████| 85/85 [00:00<00:00, 161.83it/s]\n",
      "100%|██████████| 17/17 [00:00<00:00, 159.93it/s]\n"
     ]
    },
    {
     "name": "stdout",
     "output_type": "stream",
     "text": [
      "Epoch:149/500.. Train Loss: 0.058.. Val Loss: 0.111.. Test Loss: 0.049.. Time: 0.18m\n"
     ]
    },
    {
     "name": "stderr",
     "output_type": "stream",
     "text": [
      "100%|██████████| 238/238 [00:09<00:00, 24.06it/s]\n",
      "100%|██████████| 85/85 [00:00<00:00, 160.81it/s]\n",
      "100%|██████████| 17/17 [00:00<00:00, 156.76it/s]\n"
     ]
    },
    {
     "name": "stdout",
     "output_type": "stream",
     "text": [
      "Epoch:150/500.. Train Loss: 0.054.. Val Loss: 0.112.. Test Loss: 0.049.. Time: 0.18m\n"
     ]
    },
    {
     "name": "stderr",
     "output_type": "stream",
     "text": [
      "100%|██████████| 238/238 [00:09<00:00, 24.36it/s]\n",
      "100%|██████████| 85/85 [00:00<00:00, 162.38it/s]\n",
      "100%|██████████| 17/17 [00:00<00:00, 162.05it/s]\n"
     ]
    },
    {
     "name": "stdout",
     "output_type": "stream",
     "text": [
      "Epoch:151/500.. Train Loss: 0.055.. Val Loss: 0.111.. Test Loss: 0.051.. Time: 0.17m\n"
     ]
    },
    {
     "name": "stderr",
     "output_type": "stream",
     "text": [
      "100%|██████████| 238/238 [00:09<00:00, 24.24it/s]\n",
      "100%|██████████| 85/85 [00:00<00:00, 162.29it/s]\n",
      "100%|██████████| 17/17 [00:00<00:00, 163.87it/s]\n"
     ]
    },
    {
     "name": "stdout",
     "output_type": "stream",
     "text": [
      "Epoch:152/500.. Train Loss: 0.055.. Val Loss: 0.112.. Test Loss: 0.051.. Time: 0.17m\n"
     ]
    },
    {
     "name": "stderr",
     "output_type": "stream",
     "text": [
      "100%|██████████| 238/238 [00:09<00:00, 24.12it/s]\n",
      "100%|██████████| 85/85 [00:00<00:00, 162.94it/s]\n",
      "100%|██████████| 17/17 [00:00<00:00, 163.29it/s]\n"
     ]
    },
    {
     "name": "stdout",
     "output_type": "stream",
     "text": [
      "Epoch:153/500.. Train Loss: 0.055.. Val Loss: 0.113.. Test Loss: 0.053.. Time: 0.18m\n"
     ]
    },
    {
     "name": "stderr",
     "output_type": "stream",
     "text": [
      "100%|██████████| 238/238 [00:09<00:00, 24.03it/s]\n",
      "100%|██████████| 85/85 [00:00<00:00, 162.59it/s]\n",
      "100%|██████████| 17/17 [00:00<00:00, 161.05it/s]\n"
     ]
    },
    {
     "name": "stdout",
     "output_type": "stream",
     "text": [
      "Epoch:154/500.. Train Loss: 0.055.. Val Loss: 0.113.. Test Loss: 0.049.. Time: 0.18m\n"
     ]
    },
    {
     "name": "stderr",
     "output_type": "stream",
     "text": [
      "100%|██████████| 238/238 [00:09<00:00, 24.08it/s]\n",
      "100%|██████████| 85/85 [00:00<00:00, 161.05it/s]\n",
      "100%|██████████| 17/17 [00:00<00:00, 159.46it/s]\n"
     ]
    },
    {
     "name": "stdout",
     "output_type": "stream",
     "text": [
      "Epoch:155/500.. Train Loss: 0.055.. Val Loss: 0.114.. Test Loss: 0.051.. Time: 0.18m\n"
     ]
    },
    {
     "name": "stderr",
     "output_type": "stream",
     "text": [
      "100%|██████████| 238/238 [00:09<00:00, 24.01it/s]\n",
      "100%|██████████| 85/85 [00:00<00:00, 162.58it/s]\n",
      "100%|██████████| 17/17 [00:00<00:00, 156.47it/s]\n"
     ]
    },
    {
     "name": "stdout",
     "output_type": "stream",
     "text": [
      "Epoch:156/500.. Train Loss: 0.056.. Val Loss: 0.116.. Test Loss: 0.051.. Time: 0.18m\n"
     ]
    },
    {
     "name": "stderr",
     "output_type": "stream",
     "text": [
      "100%|██████████| 238/238 [00:10<00:00, 23.79it/s]\n",
      "100%|██████████| 85/85 [00:00<00:00, 164.50it/s]\n",
      "100%|██████████| 17/17 [00:00<00:00, 160.84it/s]\n"
     ]
    },
    {
     "name": "stdout",
     "output_type": "stream",
     "text": [
      "Epoch:157/500.. Train Loss: 0.055.. Val Loss: 0.112.. Test Loss: 0.049.. Time: 0.18m\n"
     ]
    },
    {
     "name": "stderr",
     "output_type": "stream",
     "text": [
      "100%|██████████| 238/238 [00:09<00:00, 24.09it/s]\n",
      "100%|██████████| 85/85 [00:00<00:00, 162.75it/s]\n",
      "100%|██████████| 17/17 [00:00<00:00, 159.37it/s]\n"
     ]
    },
    {
     "name": "stdout",
     "output_type": "stream",
     "text": [
      "Epoch:158/500.. Train Loss: 0.055.. Val Loss: 0.112.. Test Loss: 0.050.. Time: 0.18m\n"
     ]
    },
    {
     "name": "stderr",
     "output_type": "stream",
     "text": [
      "100%|██████████| 238/238 [00:09<00:00, 23.98it/s]\n",
      "100%|██████████| 85/85 [00:00<00:00, 162.42it/s]\n",
      "100%|██████████| 17/17 [00:00<00:00, 150.79it/s]\n"
     ]
    },
    {
     "name": "stdout",
     "output_type": "stream",
     "text": [
      "Epoch:159/500.. Train Loss: 0.056.. Val Loss: 0.112.. Test Loss: 0.051.. Time: 0.18m\n"
     ]
    },
    {
     "name": "stderr",
     "output_type": "stream",
     "text": [
      "100%|██████████| 238/238 [00:09<00:00, 24.00it/s]\n",
      "100%|██████████| 85/85 [00:00<00:00, 162.03it/s]\n",
      "100%|██████████| 17/17 [00:00<00:00, 164.02it/s]\n"
     ]
    },
    {
     "name": "stdout",
     "output_type": "stream",
     "text": [
      "Epoch:160/500.. Train Loss: 0.057.. Val Loss: 0.111.. Test Loss: 0.050.. Time: 0.18m\n"
     ]
    },
    {
     "name": "stderr",
     "output_type": "stream",
     "text": [
      "100%|██████████| 238/238 [00:10<00:00, 23.23it/s]\n",
      "100%|██████████| 85/85 [00:00<00:00, 161.86it/s]\n",
      "100%|██████████| 17/17 [00:00<00:00, 161.51it/s]\n"
     ]
    },
    {
     "name": "stdout",
     "output_type": "stream",
     "text": [
      "Epoch:161/500.. Train Loss: 0.056.. Val Loss: 0.111.. Test Loss: 0.049.. Time: 0.18m\n"
     ]
    },
    {
     "name": "stderr",
     "output_type": "stream",
     "text": [
      "100%|██████████| 238/238 [00:10<00:00, 23.09it/s]\n",
      "100%|██████████| 85/85 [00:00<00:00, 162.84it/s]\n",
      "100%|██████████| 17/17 [00:00<00:00, 159.09it/s]\n"
     ]
    },
    {
     "name": "stdout",
     "output_type": "stream",
     "text": [
      "Epoch:162/500.. Train Loss: 0.054.. Val Loss: 0.112.. Test Loss: 0.052.. Time: 0.18m\n"
     ]
    },
    {
     "name": "stderr",
     "output_type": "stream",
     "text": [
      "100%|██████████| 238/238 [00:09<00:00, 23.96it/s]\n",
      "100%|██████████| 85/85 [00:00<00:00, 159.77it/s]\n",
      "100%|██████████| 17/17 [00:00<00:00, 161.83it/s]\n"
     ]
    },
    {
     "name": "stdout",
     "output_type": "stream",
     "text": [
      "Epoch:163/500.. Train Loss: 0.054.. Val Loss: 0.115.. Test Loss: 0.050.. Time: 0.18m\n"
     ]
    },
    {
     "name": "stderr",
     "output_type": "stream",
     "text": [
      "100%|██████████| 238/238 [00:09<00:00, 24.34it/s]\n",
      "100%|██████████| 85/85 [00:00<00:00, 161.34it/s]\n",
      "100%|██████████| 17/17 [00:00<00:00, 155.37it/s]\n"
     ]
    },
    {
     "name": "stdout",
     "output_type": "stream",
     "text": [
      "Epoch:164/500.. Train Loss: 0.055.. Val Loss: 0.113.. Test Loss: 0.048.. Time: 0.17m\n"
     ]
    },
    {
     "name": "stderr",
     "output_type": "stream",
     "text": [
      "100%|██████████| 238/238 [00:09<00:00, 24.54it/s]\n",
      "100%|██████████| 85/85 [00:00<00:00, 161.66it/s]\n",
      "100%|██████████| 17/17 [00:00<00:00, 160.55it/s]\n"
     ]
    },
    {
     "name": "stdout",
     "output_type": "stream",
     "text": [
      "Epoch:165/500.. Train Loss: 0.055.. Val Loss: 0.112.. Test Loss: 0.053.. Time: 0.17m\n"
     ]
    },
    {
     "name": "stderr",
     "output_type": "stream",
     "text": [
      "100%|██████████| 238/238 [00:09<00:00, 24.57it/s]\n",
      "100%|██████████| 85/85 [00:00<00:00, 161.96it/s]\n",
      "100%|██████████| 17/17 [00:00<00:00, 159.09it/s]\n"
     ]
    },
    {
     "name": "stdout",
     "output_type": "stream",
     "text": [
      "Epoch:166/500.. Train Loss: 0.054.. Val Loss: 0.111.. Test Loss: 0.052.. Time: 0.17m\n"
     ]
    },
    {
     "name": "stderr",
     "output_type": "stream",
     "text": [
      "100%|██████████| 238/238 [00:09<00:00, 24.04it/s]\n",
      "100%|██████████| 85/85 [00:00<00:00, 163.46it/s]\n",
      "100%|██████████| 17/17 [00:00<00:00, 164.14it/s]\n"
     ]
    },
    {
     "name": "stdout",
     "output_type": "stream",
     "text": [
      "Epoch:167/500.. Train Loss: 0.056.. Val Loss: 0.110.. Test Loss: 0.048.. Time: 0.18m\n"
     ]
    },
    {
     "name": "stderr",
     "output_type": "stream",
     "text": [
      "100%|██████████| 238/238 [00:09<00:00, 24.03it/s]\n",
      "100%|██████████| 85/85 [00:00<00:00, 155.35it/s]\n",
      "100%|██████████| 17/17 [00:00<00:00, 153.73it/s]\n"
     ]
    },
    {
     "name": "stdout",
     "output_type": "stream",
     "text": [
      "Epoch:168/500.. Train Loss: 0.055.. Val Loss: 0.113.. Test Loss: 0.049.. Time: 0.18m\n"
     ]
    },
    {
     "name": "stderr",
     "output_type": "stream",
     "text": [
      "100%|██████████| 238/238 [00:10<00:00, 23.54it/s]\n",
      "100%|██████████| 85/85 [00:00<00:00, 165.37it/s]\n",
      "100%|██████████| 17/17 [00:00<00:00, 158.67it/s]\n"
     ]
    },
    {
     "name": "stdout",
     "output_type": "stream",
     "text": [
      "Epoch:169/500.. Train Loss: 0.055.. Val Loss: 0.113.. Test Loss: 0.049.. Time: 0.18m\n"
     ]
    },
    {
     "name": "stderr",
     "output_type": "stream",
     "text": [
      "100%|██████████| 238/238 [00:08<00:00, 27.94it/s]\n",
      "100%|██████████| 85/85 [00:00<00:00, 184.06it/s]\n",
      "100%|██████████| 17/17 [00:00<00:00, 183.88it/s]\n"
     ]
    },
    {
     "name": "stdout",
     "output_type": "stream",
     "text": [
      "Epoch:170/500.. Train Loss: 0.054.. Val Loss: 0.119.. Test Loss: 0.050.. Time: 0.15m\n"
     ]
    },
    {
     "name": "stderr",
     "output_type": "stream",
     "text": [
      "100%|██████████| 238/238 [00:08<00:00, 29.51it/s]\n",
      "100%|██████████| 85/85 [00:00<00:00, 180.80it/s]\n",
      "100%|██████████| 17/17 [00:00<00:00, 175.15it/s]\n"
     ]
    },
    {
     "name": "stdout",
     "output_type": "stream",
     "text": [
      "Epoch:171/500.. Train Loss: 0.054.. Val Loss: 0.115.. Test Loss: 0.052.. Time: 0.14m\n"
     ]
    },
    {
     "name": "stderr",
     "output_type": "stream",
     "text": [
      "100%|██████████| 238/238 [00:08<00:00, 28.36it/s]\n",
      "100%|██████████| 85/85 [00:00<00:00, 182.27it/s]\n",
      "100%|██████████| 17/17 [00:00<00:00, 182.55it/s]\n"
     ]
    },
    {
     "name": "stdout",
     "output_type": "stream",
     "text": [
      "Epoch:172/500.. Train Loss: 0.055.. Val Loss: 0.115.. Test Loss: 0.049.. Time: 0.15m\n"
     ]
    },
    {
     "name": "stderr",
     "output_type": "stream",
     "text": [
      "100%|██████████| 238/238 [00:09<00:00, 24.00it/s]\n",
      "100%|██████████| 85/85 [00:00<00:00, 180.55it/s]\n",
      "100%|██████████| 17/17 [00:00<00:00, 182.57it/s]\n"
     ]
    },
    {
     "name": "stdout",
     "output_type": "stream",
     "text": [
      "Epoch:173/500.. Train Loss: 0.054.. Val Loss: 0.112.. Test Loss: 0.050.. Time: 0.17m\n"
     ]
    },
    {
     "name": "stderr",
     "output_type": "stream",
     "text": [
      "100%|██████████| 238/238 [00:09<00:00, 24.59it/s]\n",
      "100%|██████████| 85/85 [00:00<00:00, 182.51it/s]\n",
      "100%|██████████| 17/17 [00:00<00:00, 182.86it/s]\n"
     ]
    },
    {
     "name": "stdout",
     "output_type": "stream",
     "text": [
      "Epoch:174/500.. Train Loss: 0.055.. Val Loss: 0.112.. Test Loss: 0.050.. Time: 0.17m\n"
     ]
    },
    {
     "name": "stderr",
     "output_type": "stream",
     "text": [
      "100%|██████████| 238/238 [00:09<00:00, 24.53it/s]\n",
      "100%|██████████| 85/85 [00:00<00:00, 182.79it/s]\n",
      "100%|██████████| 17/17 [00:00<00:00, 165.47it/s]\n"
     ]
    },
    {
     "name": "stdout",
     "output_type": "stream",
     "text": [
      "Epoch:175/500.. Train Loss: 0.054.. Val Loss: 0.117.. Test Loss: 0.053.. Time: 0.17m\n"
     ]
    },
    {
     "name": "stderr",
     "output_type": "stream",
     "text": [
      "100%|██████████| 238/238 [00:09<00:00, 24.47it/s]\n",
      "100%|██████████| 85/85 [00:00<00:00, 182.44it/s]\n",
      "100%|██████████| 17/17 [00:00<00:00, 183.21it/s]\n"
     ]
    },
    {
     "name": "stdout",
     "output_type": "stream",
     "text": [
      "Epoch:176/500.. Train Loss: 0.054.. Val Loss: 0.114.. Test Loss: 0.050.. Time: 0.17m\n"
     ]
    },
    {
     "name": "stderr",
     "output_type": "stream",
     "text": [
      "100%|██████████| 238/238 [00:09<00:00, 24.21it/s]\n",
      "100%|██████████| 85/85 [00:00<00:00, 179.06it/s]\n",
      "100%|██████████| 17/17 [00:00<00:00, 182.65it/s]\n"
     ]
    },
    {
     "name": "stdout",
     "output_type": "stream",
     "text": [
      "Epoch:177/500.. Train Loss: 0.054.. Val Loss: 0.113.. Test Loss: 0.051.. Time: 0.17m\n"
     ]
    },
    {
     "name": "stderr",
     "output_type": "stream",
     "text": [
      "100%|██████████| 238/238 [00:09<00:00, 24.58it/s]\n",
      "100%|██████████| 85/85 [00:00<00:00, 184.10it/s]\n",
      "100%|██████████| 17/17 [00:00<00:00, 179.63it/s]\n"
     ]
    },
    {
     "name": "stdout",
     "output_type": "stream",
     "text": [
      "Epoch:178/500.. Train Loss: 0.054.. Val Loss: 0.114.. Test Loss: 0.052.. Time: 0.17m\n"
     ]
    },
    {
     "name": "stderr",
     "output_type": "stream",
     "text": [
      "100%|██████████| 238/238 [00:09<00:00, 24.46it/s]\n",
      "100%|██████████| 85/85 [00:00<00:00, 179.84it/s]\n",
      "100%|██████████| 17/17 [00:00<00:00, 180.63it/s]\n"
     ]
    },
    {
     "name": "stdout",
     "output_type": "stream",
     "text": [
      "Epoch:179/500.. Train Loss: 0.054.. Val Loss: 0.114.. Test Loss: 0.051.. Time: 0.17m\n"
     ]
    },
    {
     "name": "stderr",
     "output_type": "stream",
     "text": [
      "100%|██████████| 238/238 [00:09<00:00, 24.65it/s]\n",
      "100%|██████████| 85/85 [00:00<00:00, 180.91it/s]\n",
      "100%|██████████| 17/17 [00:00<00:00, 177.33it/s]\n"
     ]
    },
    {
     "name": "stdout",
     "output_type": "stream",
     "text": [
      "Epoch:180/500.. Train Loss: 0.055.. Val Loss: 0.114.. Test Loss: 0.051.. Time: 0.17m\n"
     ]
    },
    {
     "name": "stderr",
     "output_type": "stream",
     "text": [
      "100%|██████████| 238/238 [00:09<00:00, 23.97it/s]\n",
      "100%|██████████| 85/85 [00:00<00:00, 176.97it/s]\n",
      "100%|██████████| 17/17 [00:00<00:00, 183.53it/s]\n"
     ]
    },
    {
     "name": "stdout",
     "output_type": "stream",
     "text": [
      "Epoch:181/500.. Train Loss: 0.055.. Val Loss: 0.110.. Test Loss: 0.049.. Time: 0.18m\n"
     ]
    },
    {
     "name": "stderr",
     "output_type": "stream",
     "text": [
      "100%|██████████| 238/238 [00:09<00:00, 24.48it/s]\n",
      "100%|██████████| 85/85 [00:00<00:00, 173.37it/s]\n",
      "100%|██████████| 17/17 [00:00<00:00, 183.63it/s]\n"
     ]
    },
    {
     "name": "stdout",
     "output_type": "stream",
     "text": [
      "Epoch:182/500.. Train Loss: 0.055.. Val Loss: 0.114.. Test Loss: 0.050.. Time: 0.17m\n"
     ]
    },
    {
     "name": "stderr",
     "output_type": "stream",
     "text": [
      "100%|██████████| 238/238 [00:09<00:00, 24.51it/s]\n",
      "100%|██████████| 85/85 [00:00<00:00, 178.97it/s]\n",
      "100%|██████████| 17/17 [00:00<00:00, 179.12it/s]\n"
     ]
    },
    {
     "name": "stdout",
     "output_type": "stream",
     "text": [
      "Epoch:183/500.. Train Loss: 0.054.. Val Loss: 0.112.. Test Loss: 0.049.. Time: 0.17m\n"
     ]
    },
    {
     "name": "stderr",
     "output_type": "stream",
     "text": [
      "100%|██████████| 238/238 [00:09<00:00, 24.62it/s]\n",
      "100%|██████████| 85/85 [00:00<00:00, 180.60it/s]\n",
      "100%|██████████| 17/17 [00:00<00:00, 183.62it/s]\n"
     ]
    },
    {
     "name": "stdout",
     "output_type": "stream",
     "text": [
      "Epoch:184/500.. Train Loss: 0.053.. Val Loss: 0.114.. Test Loss: 0.053.. Time: 0.17m\n"
     ]
    },
    {
     "name": "stderr",
     "output_type": "stream",
     "text": [
      "100%|██████████| 238/238 [00:09<00:00, 24.08it/s]\n",
      "100%|██████████| 85/85 [00:00<00:00, 183.27it/s]\n",
      "100%|██████████| 17/17 [00:00<00:00, 163.33it/s]\n"
     ]
    },
    {
     "name": "stdout",
     "output_type": "stream",
     "text": [
      "Epoch:185/500.. Train Loss: 0.054.. Val Loss: 0.113.. Test Loss: 0.049.. Time: 0.17m\n"
     ]
    },
    {
     "name": "stderr",
     "output_type": "stream",
     "text": [
      "100%|██████████| 238/238 [00:09<00:00, 24.36it/s]\n",
      "100%|██████████| 85/85 [00:00<00:00, 179.90it/s]\n",
      "100%|██████████| 17/17 [00:00<00:00, 181.16it/s]\n"
     ]
    },
    {
     "name": "stdout",
     "output_type": "stream",
     "text": [
      "Epoch:186/500.. Train Loss: 0.054.. Val Loss: 0.112.. Test Loss: 0.052.. Time: 0.17m\n"
     ]
    },
    {
     "name": "stderr",
     "output_type": "stream",
     "text": [
      "100%|██████████| 238/238 [00:09<00:00, 24.34it/s]\n",
      "100%|██████████| 85/85 [00:00<00:00, 183.70it/s]\n",
      "100%|██████████| 17/17 [00:00<00:00, 183.35it/s]\n"
     ]
    },
    {
     "name": "stdout",
     "output_type": "stream",
     "text": [
      "Epoch:187/500.. Train Loss: 0.054.. Val Loss: 0.111.. Test Loss: 0.051.. Time: 0.17m\n"
     ]
    },
    {
     "name": "stderr",
     "output_type": "stream",
     "text": [
      "100%|██████████| 238/238 [00:09<00:00, 24.45it/s]\n",
      "100%|██████████| 85/85 [00:00<00:00, 181.65it/s]\n",
      "100%|██████████| 17/17 [00:00<00:00, 183.36it/s]\n"
     ]
    },
    {
     "name": "stdout",
     "output_type": "stream",
     "text": [
      "Epoch:188/500.. Train Loss: 0.054.. Val Loss: 0.114.. Test Loss: 0.051.. Time: 0.17m\n"
     ]
    },
    {
     "name": "stderr",
     "output_type": "stream",
     "text": [
      "100%|██████████| 238/238 [00:09<00:00, 24.14it/s]\n",
      "100%|██████████| 85/85 [00:00<00:00, 178.55it/s]\n",
      "100%|██████████| 17/17 [00:00<00:00, 184.42it/s]\n"
     ]
    },
    {
     "name": "stdout",
     "output_type": "stream",
     "text": [
      "Epoch:189/500.. Train Loss: 0.054.. Val Loss: 0.113.. Test Loss: 0.052.. Time: 0.17m\n"
     ]
    },
    {
     "name": "stderr",
     "output_type": "stream",
     "text": [
      "100%|██████████| 238/238 [00:09<00:00, 24.28it/s]\n",
      "100%|██████████| 85/85 [00:00<00:00, 176.81it/s]\n",
      "100%|██████████| 17/17 [00:00<00:00, 161.11it/s]\n"
     ]
    },
    {
     "name": "stdout",
     "output_type": "stream",
     "text": [
      "Epoch:190/500.. Train Loss: 0.054.. Val Loss: 0.115.. Test Loss: 0.049.. Time: 0.17m\n"
     ]
    },
    {
     "name": "stderr",
     "output_type": "stream",
     "text": [
      "100%|██████████| 238/238 [00:09<00:00, 24.48it/s]\n",
      "100%|██████████| 85/85 [00:00<00:00, 180.72it/s]\n",
      "100%|██████████| 17/17 [00:00<00:00, 179.15it/s]\n"
     ]
    },
    {
     "name": "stdout",
     "output_type": "stream",
     "text": [
      "Epoch:191/500.. Train Loss: 0.054.. Val Loss: 0.113.. Test Loss: 0.049.. Time: 0.17m\n"
     ]
    },
    {
     "name": "stderr",
     "output_type": "stream",
     "text": [
      "100%|██████████| 238/238 [00:09<00:00, 24.62it/s]\n",
      "100%|██████████| 85/85 [00:00<00:00, 181.31it/s]\n",
      "100%|██████████| 17/17 [00:00<00:00, 182.24it/s]\n"
     ]
    },
    {
     "name": "stdout",
     "output_type": "stream",
     "text": [
      "Epoch:192/500.. Train Loss: 0.053.. Val Loss: 0.116.. Test Loss: 0.054.. Time: 0.17m\n"
     ]
    },
    {
     "name": "stderr",
     "output_type": "stream",
     "text": [
      "100%|██████████| 238/238 [00:09<00:00, 24.17it/s]\n",
      "100%|██████████| 85/85 [00:00<00:00, 183.28it/s]\n",
      "100%|██████████| 17/17 [00:00<00:00, 182.54it/s]\n"
     ]
    },
    {
     "name": "stdout",
     "output_type": "stream",
     "text": [
      "Epoch:193/500.. Train Loss: 0.056.. Val Loss: 0.114.. Test Loss: 0.048.. Time: 0.17m\n"
     ]
    },
    {
     "name": "stderr",
     "output_type": "stream",
     "text": [
      "100%|██████████| 238/238 [00:09<00:00, 24.31it/s]\n",
      "100%|██████████| 85/85 [00:00<00:00, 182.19it/s]\n",
      "100%|██████████| 17/17 [00:00<00:00, 183.05it/s]\n"
     ]
    },
    {
     "name": "stdout",
     "output_type": "stream",
     "text": [
      "Epoch:194/500.. Train Loss: 0.054.. Val Loss: 0.112.. Test Loss: 0.050.. Time: 0.17m\n"
     ]
    },
    {
     "name": "stderr",
     "output_type": "stream",
     "text": [
      "100%|██████████| 238/238 [00:09<00:00, 24.48it/s]\n",
      "100%|██████████| 85/85 [00:00<00:00, 184.36it/s]\n",
      "100%|██████████| 17/17 [00:00<00:00, 184.73it/s]\n"
     ]
    },
    {
     "name": "stdout",
     "output_type": "stream",
     "text": [
      "Epoch:195/500.. Train Loss: 0.054.. Val Loss: 0.111.. Test Loss: 0.051.. Time: 0.17m\n"
     ]
    },
    {
     "name": "stderr",
     "output_type": "stream",
     "text": [
      "100%|██████████| 238/238 [00:09<00:00, 24.39it/s]\n",
      "100%|██████████| 85/85 [00:00<00:00, 173.42it/s]\n",
      "100%|██████████| 17/17 [00:00<00:00, 182.79it/s]\n"
     ]
    },
    {
     "name": "stdout",
     "output_type": "stream",
     "text": [
      "Epoch:196/500.. Train Loss: 0.056.. Val Loss: 0.111.. Test Loss: 0.050.. Time: 0.17m\n"
     ]
    },
    {
     "name": "stderr",
     "output_type": "stream",
     "text": [
      "100%|██████████| 238/238 [00:09<00:00, 24.16it/s]\n",
      "100%|██████████| 85/85 [00:00<00:00, 174.65it/s]\n",
      "100%|██████████| 17/17 [00:00<00:00, 173.74it/s]\n"
     ]
    },
    {
     "name": "stdout",
     "output_type": "stream",
     "text": [
      "Epoch:197/500.. Train Loss: 0.057.. Val Loss: 0.112.. Test Loss: 0.049.. Time: 0.17m\n"
     ]
    },
    {
     "name": "stderr",
     "output_type": "stream",
     "text": [
      "100%|██████████| 238/238 [00:09<00:00, 24.57it/s]\n",
      "100%|██████████| 85/85 [00:00<00:00, 183.66it/s]\n",
      "100%|██████████| 17/17 [00:00<00:00, 182.00it/s]\n"
     ]
    },
    {
     "name": "stdout",
     "output_type": "stream",
     "text": [
      "Epoch:198/500.. Train Loss: 0.054.. Val Loss: 0.113.. Test Loss: 0.051.. Time: 0.17m\n"
     ]
    },
    {
     "name": "stderr",
     "output_type": "stream",
     "text": [
      "100%|██████████| 238/238 [00:09<00:00, 24.44it/s]\n",
      "100%|██████████| 85/85 [00:00<00:00, 183.77it/s]\n",
      "100%|██████████| 17/17 [00:00<00:00, 184.20it/s]\n"
     ]
    },
    {
     "name": "stdout",
     "output_type": "stream",
     "text": [
      "Epoch:199/500.. Train Loss: 0.053.. Val Loss: 0.115.. Test Loss: 0.057.. Time: 0.17m\n"
     ]
    },
    {
     "name": "stderr",
     "output_type": "stream",
     "text": [
      "100%|██████████| 238/238 [00:09<00:00, 24.50it/s]\n",
      "100%|██████████| 85/85 [00:00<00:00, 184.22it/s]\n",
      "100%|██████████| 17/17 [00:00<00:00, 180.29it/s]\n"
     ]
    },
    {
     "name": "stdout",
     "output_type": "stream",
     "text": [
      "Epoch:200/500.. Train Loss: 0.054.. Val Loss: 0.113.. Test Loss: 0.053.. Time: 0.17m\n"
     ]
    },
    {
     "name": "stderr",
     "output_type": "stream",
     "text": [
      "100%|██████████| 238/238 [00:09<00:00, 24.27it/s]\n",
      "100%|██████████| 85/85 [00:00<00:00, 184.03it/s]\n",
      "100%|██████████| 17/17 [00:00<00:00, 184.81it/s]\n"
     ]
    },
    {
     "name": "stdout",
     "output_type": "stream",
     "text": [
      "Epoch:201/500.. Train Loss: 0.054.. Val Loss: 0.113.. Test Loss: 0.053.. Time: 0.17m\n"
     ]
    },
    {
     "name": "stderr",
     "output_type": "stream",
     "text": [
      "100%|██████████| 238/238 [00:09<00:00, 24.36it/s]\n",
      "100%|██████████| 85/85 [00:00<00:00, 180.51it/s]\n",
      "100%|██████████| 17/17 [00:00<00:00, 180.78it/s]\n"
     ]
    },
    {
     "name": "stdout",
     "output_type": "stream",
     "text": [
      "Epoch:202/500.. Train Loss: 0.054.. Val Loss: 0.113.. Test Loss: 0.055.. Time: 0.17m\n"
     ]
    },
    {
     "name": "stderr",
     "output_type": "stream",
     "text": [
      "100%|██████████| 238/238 [00:09<00:00, 24.57it/s]\n",
      "100%|██████████| 85/85 [00:00<00:00, 181.07it/s]\n",
      "100%|██████████| 17/17 [00:00<00:00, 180.13it/s]\n"
     ]
    },
    {
     "name": "stdout",
     "output_type": "stream",
     "text": [
      "Epoch:203/500.. Train Loss: 0.053.. Val Loss: 0.112.. Test Loss: 0.055.. Time: 0.17m\n"
     ]
    },
    {
     "name": "stderr",
     "output_type": "stream",
     "text": [
      "100%|██████████| 238/238 [00:09<00:00, 24.46it/s]\n",
      "100%|██████████| 85/85 [00:00<00:00, 184.06it/s]\n",
      "100%|██████████| 17/17 [00:00<00:00, 184.24it/s]\n"
     ]
    },
    {
     "name": "stdout",
     "output_type": "stream",
     "text": [
      "Epoch:204/500.. Train Loss: 0.053.. Val Loss: 0.112.. Test Loss: 0.052.. Time: 0.17m\n"
     ]
    },
    {
     "name": "stderr",
     "output_type": "stream",
     "text": [
      "100%|██████████| 238/238 [00:09<00:00, 24.02it/s]\n",
      "100%|██████████| 85/85 [00:00<00:00, 180.68it/s]\n",
      "100%|██████████| 17/17 [00:00<00:00, 177.03it/s]\n"
     ]
    },
    {
     "name": "stdout",
     "output_type": "stream",
     "text": [
      "Epoch:205/500.. Train Loss: 0.053.. Val Loss: 0.115.. Test Loss: 0.053.. Time: 0.17m\n"
     ]
    },
    {
     "name": "stderr",
     "output_type": "stream",
     "text": [
      "100%|██████████| 238/238 [00:09<00:00, 24.32it/s]\n",
      "100%|██████████| 85/85 [00:00<00:00, 179.37it/s]\n",
      "100%|██████████| 17/17 [00:00<00:00, 182.37it/s]\n"
     ]
    },
    {
     "name": "stdout",
     "output_type": "stream",
     "text": [
      "Epoch:206/500.. Train Loss: 0.054.. Val Loss: 0.116.. Test Loss: 0.049.. Time: 0.17m\n"
     ]
    },
    {
     "name": "stderr",
     "output_type": "stream",
     "text": [
      "100%|██████████| 238/238 [00:09<00:00, 24.45it/s]\n",
      "100%|██████████| 85/85 [00:00<00:00, 178.92it/s]\n",
      "100%|██████████| 17/17 [00:00<00:00, 175.08it/s]\n"
     ]
    },
    {
     "name": "stdout",
     "output_type": "stream",
     "text": [
      "Epoch:207/500.. Train Loss: 0.052.. Val Loss: 0.118.. Test Loss: 0.054.. Time: 0.17m\n"
     ]
    },
    {
     "name": "stderr",
     "output_type": "stream",
     "text": [
      "100%|██████████| 238/238 [00:09<00:00, 24.45it/s]\n",
      "100%|██████████| 85/85 [00:00<00:00, 177.06it/s]\n",
      "100%|██████████| 17/17 [00:00<00:00, 182.94it/s]\n"
     ]
    },
    {
     "name": "stdout",
     "output_type": "stream",
     "text": [
      "Epoch:208/500.. Train Loss: 0.054.. Val Loss: 0.115.. Test Loss: 0.050.. Time: 0.17m\n"
     ]
    },
    {
     "name": "stderr",
     "output_type": "stream",
     "text": [
      "100%|██████████| 238/238 [00:09<00:00, 24.31it/s]\n",
      "100%|██████████| 85/85 [00:00<00:00, 167.21it/s]\n",
      "100%|██████████| 17/17 [00:00<00:00, 149.23it/s]\n"
     ]
    },
    {
     "name": "stdout",
     "output_type": "stream",
     "text": [
      "Epoch:209/500.. Train Loss: 0.053.. Val Loss: 0.113.. Test Loss: 0.054.. Time: 0.17m\n"
     ]
    },
    {
     "name": "stderr",
     "output_type": "stream",
     "text": [
      "100%|██████████| 238/238 [00:09<00:00, 24.44it/s]\n",
      "100%|██████████| 85/85 [00:00<00:00, 182.34it/s]\n",
      "100%|██████████| 17/17 [00:00<00:00, 162.55it/s]\n"
     ]
    },
    {
     "name": "stdout",
     "output_type": "stream",
     "text": [
      "Epoch:210/500.. Train Loss: 0.053.. Val Loss: 0.113.. Test Loss: 0.050.. Time: 0.17m\n"
     ]
    },
    {
     "name": "stderr",
     "output_type": "stream",
     "text": [
      "100%|██████████| 238/238 [00:09<00:00, 24.36it/s]\n",
      "100%|██████████| 85/85 [00:00<00:00, 183.42it/s]\n",
      "100%|██████████| 17/17 [00:00<00:00, 182.85it/s]\n"
     ]
    },
    {
     "name": "stdout",
     "output_type": "stream",
     "text": [
      "Epoch:211/500.. Train Loss: 0.053.. Val Loss: 0.112.. Test Loss: 0.053.. Time: 0.17m\n"
     ]
    },
    {
     "name": "stderr",
     "output_type": "stream",
     "text": [
      "100%|██████████| 238/238 [00:09<00:00, 24.63it/s]\n",
      "100%|██████████| 85/85 [00:00<00:00, 181.15it/s]\n",
      "100%|██████████| 17/17 [00:00<00:00, 156.18it/s]\n"
     ]
    },
    {
     "name": "stdout",
     "output_type": "stream",
     "text": [
      "Epoch:212/500.. Train Loss: 0.054.. Val Loss: 0.117.. Test Loss: 0.055.. Time: 0.17m\n"
     ]
    },
    {
     "name": "stderr",
     "output_type": "stream",
     "text": [
      "100%|██████████| 238/238 [00:09<00:00, 24.18it/s]\n",
      "100%|██████████| 85/85 [00:00<00:00, 182.44it/s]\n",
      "100%|██████████| 17/17 [00:00<00:00, 175.88it/s]\n"
     ]
    },
    {
     "name": "stdout",
     "output_type": "stream",
     "text": [
      "Epoch:213/500.. Train Loss: 0.053.. Val Loss: 0.112.. Test Loss: 0.050.. Time: 0.17m\n"
     ]
    },
    {
     "name": "stderr",
     "output_type": "stream",
     "text": [
      "100%|██████████| 238/238 [00:09<00:00, 24.46it/s]\n",
      "100%|██████████| 85/85 [00:00<00:00, 183.87it/s]\n",
      "100%|██████████| 17/17 [00:00<00:00, 181.10it/s]\n"
     ]
    },
    {
     "name": "stdout",
     "output_type": "stream",
     "text": [
      "Epoch:214/500.. Train Loss: 0.053.. Val Loss: 0.113.. Test Loss: 0.052.. Time: 0.17m\n"
     ]
    },
    {
     "name": "stderr",
     "output_type": "stream",
     "text": [
      "100%|██████████| 238/238 [00:09<00:00, 24.37it/s]\n",
      "100%|██████████| 85/85 [00:00<00:00, 180.79it/s]\n",
      "100%|██████████| 17/17 [00:00<00:00, 161.42it/s]\n"
     ]
    },
    {
     "name": "stdout",
     "output_type": "stream",
     "text": [
      "Epoch:215/500.. Train Loss: 0.055.. Val Loss: 0.112.. Test Loss: 0.049.. Time: 0.17m\n"
     ]
    },
    {
     "name": "stderr",
     "output_type": "stream",
     "text": [
      "100%|██████████| 238/238 [00:09<00:00, 24.41it/s]\n",
      "100%|██████████| 85/85 [00:00<00:00, 182.06it/s]\n",
      "100%|██████████| 17/17 [00:00<00:00, 182.00it/s]\n"
     ]
    },
    {
     "name": "stdout",
     "output_type": "stream",
     "text": [
      "Epoch:216/500.. Train Loss: 0.053.. Val Loss: 0.114.. Test Loss: 0.049.. Time: 0.17m\n"
     ]
    },
    {
     "name": "stderr",
     "output_type": "stream",
     "text": [
      "100%|██████████| 238/238 [00:09<00:00, 24.09it/s]\n",
      "100%|██████████| 85/85 [00:00<00:00, 177.94it/s]\n",
      "100%|██████████| 17/17 [00:00<00:00, 183.81it/s]\n"
     ]
    },
    {
     "name": "stdout",
     "output_type": "stream",
     "text": [
      "Epoch:217/500.. Train Loss: 0.053.. Val Loss: 0.115.. Test Loss: 0.053.. Time: 0.17m\n"
     ]
    },
    {
     "name": "stderr",
     "output_type": "stream",
     "text": [
      "100%|██████████| 238/238 [00:09<00:00, 24.52it/s]\n",
      "100%|██████████| 85/85 [00:00<00:00, 178.93it/s]\n",
      "100%|██████████| 17/17 [00:00<00:00, 179.07it/s]\n"
     ]
    },
    {
     "name": "stdout",
     "output_type": "stream",
     "text": [
      "Epoch:218/500.. Train Loss: 0.053.. Val Loss: 0.112.. Test Loss: 0.052.. Time: 0.17m\n"
     ]
    },
    {
     "name": "stderr",
     "output_type": "stream",
     "text": [
      "100%|██████████| 238/238 [00:09<00:00, 24.45it/s]\n",
      "100%|██████████| 85/85 [00:00<00:00, 183.01it/s]\n",
      "100%|██████████| 17/17 [00:00<00:00, 175.36it/s]\n"
     ]
    },
    {
     "name": "stdout",
     "output_type": "stream",
     "text": [
      "Epoch:219/500.. Train Loss: 0.052.. Val Loss: 0.114.. Test Loss: 0.055.. Time: 0.17m\n"
     ]
    },
    {
     "name": "stderr",
     "output_type": "stream",
     "text": [
      "100%|██████████| 238/238 [00:09<00:00, 24.41it/s]\n",
      "100%|██████████| 85/85 [00:00<00:00, 183.64it/s]\n",
      "100%|██████████| 17/17 [00:00<00:00, 182.56it/s]\n"
     ]
    },
    {
     "name": "stdout",
     "output_type": "stream",
     "text": [
      "Epoch:220/500.. Train Loss: 0.052.. Val Loss: 0.113.. Test Loss: 0.048.. Time: 0.17m\n"
     ]
    },
    {
     "name": "stderr",
     "output_type": "stream",
     "text": [
      "100%|██████████| 238/238 [00:09<00:00, 24.05it/s]\n",
      "100%|██████████| 85/85 [00:00<00:00, 183.28it/s]\n",
      "100%|██████████| 17/17 [00:00<00:00, 185.36it/s]\n"
     ]
    },
    {
     "name": "stdout",
     "output_type": "stream",
     "text": [
      "Epoch:221/500.. Train Loss: 0.056.. Val Loss: 0.113.. Test Loss: 0.053.. Time: 0.17m\n"
     ]
    },
    {
     "name": "stderr",
     "output_type": "stream",
     "text": [
      "100%|██████████| 238/238 [00:09<00:00, 24.60it/s]\n",
      "100%|██████████| 85/85 [00:00<00:00, 180.84it/s]\n",
      "100%|██████████| 17/17 [00:00<00:00, 184.09it/s]\n"
     ]
    },
    {
     "name": "stdout",
     "output_type": "stream",
     "text": [
      "Epoch:222/500.. Train Loss: 0.054.. Val Loss: 0.112.. Test Loss: 0.054.. Time: 0.17m\n"
     ]
    },
    {
     "name": "stderr",
     "output_type": "stream",
     "text": [
      "100%|██████████| 238/238 [00:09<00:00, 24.32it/s]\n",
      "100%|██████████| 85/85 [00:00<00:00, 183.97it/s]\n",
      "100%|██████████| 17/17 [00:00<00:00, 184.30it/s]\n"
     ]
    },
    {
     "name": "stdout",
     "output_type": "stream",
     "text": [
      "Epoch:223/500.. Train Loss: 0.052.. Val Loss: 0.112.. Test Loss: 0.054.. Time: 0.17m\n"
     ]
    },
    {
     "name": "stderr",
     "output_type": "stream",
     "text": [
      "100%|██████████| 238/238 [00:09<00:00, 24.57it/s]\n",
      "100%|██████████| 85/85 [00:00<00:00, 182.92it/s]\n",
      "100%|██████████| 17/17 [00:00<00:00, 177.43it/s]\n"
     ]
    },
    {
     "name": "stdout",
     "output_type": "stream",
     "text": [
      "Epoch:224/500.. Train Loss: 0.052.. Val Loss: 0.113.. Test Loss: 0.053.. Time: 0.17m\n"
     ]
    },
    {
     "name": "stderr",
     "output_type": "stream",
     "text": [
      "100%|██████████| 238/238 [00:09<00:00, 24.03it/s]\n",
      "100%|██████████| 85/85 [00:00<00:00, 183.21it/s]\n",
      "100%|██████████| 17/17 [00:00<00:00, 164.29it/s]\n"
     ]
    },
    {
     "name": "stdout",
     "output_type": "stream",
     "text": [
      "Epoch:225/500.. Train Loss: 0.054.. Val Loss: 0.113.. Test Loss: 0.053.. Time: 0.17m\n"
     ]
    },
    {
     "name": "stderr",
     "output_type": "stream",
     "text": [
      "100%|██████████| 238/238 [00:09<00:00, 24.36it/s]\n",
      "100%|██████████| 85/85 [00:00<00:00, 179.95it/s]\n",
      "100%|██████████| 17/17 [00:00<00:00, 183.39it/s]\n"
     ]
    },
    {
     "name": "stdout",
     "output_type": "stream",
     "text": [
      "Epoch:226/500.. Train Loss: 0.052.. Val Loss: 0.113.. Test Loss: 0.053.. Time: 0.17m\n"
     ]
    },
    {
     "name": "stderr",
     "output_type": "stream",
     "text": [
      "100%|██████████| 238/238 [00:09<00:00, 24.29it/s]\n",
      "100%|██████████| 85/85 [00:00<00:00, 184.55it/s]\n",
      "100%|██████████| 17/17 [00:00<00:00, 183.03it/s]\n"
     ]
    },
    {
     "name": "stdout",
     "output_type": "stream",
     "text": [
      "Epoch:227/500.. Train Loss: 0.054.. Val Loss: 0.113.. Test Loss: 0.051.. Time: 0.17m\n"
     ]
    },
    {
     "name": "stderr",
     "output_type": "stream",
     "text": [
      "100%|██████████| 238/238 [00:09<00:00, 24.40it/s]\n",
      "100%|██████████| 85/85 [00:00<00:00, 181.12it/s]\n",
      "100%|██████████| 17/17 [00:00<00:00, 181.52it/s]\n"
     ]
    },
    {
     "name": "stdout",
     "output_type": "stream",
     "text": [
      "Epoch:228/500.. Train Loss: 0.053.. Val Loss: 0.115.. Test Loss: 0.052.. Time: 0.17m\n"
     ]
    },
    {
     "name": "stderr",
     "output_type": "stream",
     "text": [
      "100%|██████████| 238/238 [00:09<00:00, 24.23it/s]\n",
      "100%|██████████| 85/85 [00:00<00:00, 178.26it/s]\n",
      "100%|██████████| 17/17 [00:00<00:00, 177.21it/s]\n"
     ]
    },
    {
     "name": "stdout",
     "output_type": "stream",
     "text": [
      "Epoch:229/500.. Train Loss: 0.053.. Val Loss: 0.113.. Test Loss: 0.053.. Time: 0.17m\n"
     ]
    },
    {
     "name": "stderr",
     "output_type": "stream",
     "text": [
      "100%|██████████| 238/238 [00:09<00:00, 24.52it/s]\n",
      "100%|██████████| 85/85 [00:00<00:00, 181.76it/s]\n",
      "100%|██████████| 17/17 [00:00<00:00, 184.18it/s]\n"
     ]
    },
    {
     "name": "stdout",
     "output_type": "stream",
     "text": [
      "Epoch:230/500.. Train Loss: 0.052.. Val Loss: 0.114.. Test Loss: 0.056.. Time: 0.17m\n"
     ]
    },
    {
     "name": "stderr",
     "output_type": "stream",
     "text": [
      "100%|██████████| 238/238 [00:09<00:00, 24.47it/s]\n",
      "100%|██████████| 85/85 [00:00<00:00, 182.05it/s]\n",
      "100%|██████████| 17/17 [00:00<00:00, 182.24it/s]\n"
     ]
    },
    {
     "name": "stdout",
     "output_type": "stream",
     "text": [
      "Epoch:231/500.. Train Loss: 0.053.. Val Loss: 0.112.. Test Loss: 0.052.. Time: 0.17m\n"
     ]
    },
    {
     "name": "stderr",
     "output_type": "stream",
     "text": [
      "100%|██████████| 238/238 [00:09<00:00, 24.43it/s]\n",
      "100%|██████████| 85/85 [00:00<00:00, 182.10it/s]\n",
      "100%|██████████| 17/17 [00:00<00:00, 182.22it/s]\n"
     ]
    },
    {
     "name": "stdout",
     "output_type": "stream",
     "text": [
      "Epoch:232/500.. Train Loss: 0.052.. Val Loss: 0.112.. Test Loss: 0.051.. Time: 0.17m\n"
     ]
    },
    {
     "name": "stderr",
     "output_type": "stream",
     "text": [
      "100%|██████████| 238/238 [00:09<00:00, 24.28it/s]\n",
      "100%|██████████| 85/85 [00:00<00:00, 182.20it/s]\n",
      "100%|██████████| 17/17 [00:00<00:00, 177.46it/s]\n"
     ]
    },
    {
     "name": "stdout",
     "output_type": "stream",
     "text": [
      "Epoch:233/500.. Train Loss: 0.052.. Val Loss: 0.115.. Test Loss: 0.054.. Time: 0.17m\n"
     ]
    },
    {
     "name": "stderr",
     "output_type": "stream",
     "text": [
      "100%|██████████| 238/238 [00:09<00:00, 24.61it/s]\n",
      "100%|██████████| 85/85 [00:00<00:00, 176.27it/s]\n",
      "100%|██████████| 17/17 [00:00<00:00, 180.28it/s]\n"
     ]
    },
    {
     "name": "stdout",
     "output_type": "stream",
     "text": [
      "Epoch:234/500.. Train Loss: 0.052.. Val Loss: 0.117.. Test Loss: 0.052.. Time: 0.17m\n"
     ]
    },
    {
     "name": "stderr",
     "output_type": "stream",
     "text": [
      "100%|██████████| 238/238 [00:09<00:00, 24.54it/s]\n",
      "100%|██████████| 85/85 [00:00<00:00, 181.02it/s]\n",
      "100%|██████████| 17/17 [00:00<00:00, 180.30it/s]\n"
     ]
    },
    {
     "name": "stdout",
     "output_type": "stream",
     "text": [
      "Epoch:235/500.. Train Loss: 0.053.. Val Loss: 0.116.. Test Loss: 0.051.. Time: 0.17m\n"
     ]
    },
    {
     "name": "stderr",
     "output_type": "stream",
     "text": [
      "100%|██████████| 238/238 [00:09<00:00, 24.49it/s]\n",
      "100%|██████████| 85/85 [00:00<00:00, 177.35it/s]\n",
      "100%|██████████| 17/17 [00:00<00:00, 180.65it/s]\n"
     ]
    },
    {
     "name": "stdout",
     "output_type": "stream",
     "text": [
      "Epoch:236/500.. Train Loss: 0.053.. Val Loss: 0.113.. Test Loss: 0.054.. Time: 0.17m\n"
     ]
    },
    {
     "name": "stderr",
     "output_type": "stream",
     "text": [
      "100%|██████████| 238/238 [00:09<00:00, 24.00it/s]\n",
      "100%|██████████| 85/85 [00:00<00:00, 183.03it/s]\n",
      "100%|██████████| 17/17 [00:00<00:00, 182.83it/s]\n"
     ]
    },
    {
     "name": "stdout",
     "output_type": "stream",
     "text": [
      "Epoch:237/500.. Train Loss: 0.052.. Val Loss: 0.113.. Test Loss: 0.052.. Time: 0.17m\n"
     ]
    },
    {
     "name": "stderr",
     "output_type": "stream",
     "text": [
      "100%|██████████| 238/238 [00:09<00:00, 24.38it/s]\n",
      "100%|██████████| 85/85 [00:00<00:00, 181.48it/s]\n",
      "100%|██████████| 17/17 [00:00<00:00, 182.31it/s]\n"
     ]
    },
    {
     "name": "stdout",
     "output_type": "stream",
     "text": [
      "Epoch:238/500.. Train Loss: 0.053.. Val Loss: 0.112.. Test Loss: 0.053.. Time: 0.17m\n"
     ]
    },
    {
     "name": "stderr",
     "output_type": "stream",
     "text": [
      "100%|██████████| 238/238 [00:09<00:00, 24.54it/s]\n",
      "100%|██████████| 85/85 [00:00<00:00, 184.27it/s]\n",
      "100%|██████████| 17/17 [00:00<00:00, 183.42it/s]\n"
     ]
    },
    {
     "name": "stdout",
     "output_type": "stream",
     "text": [
      "Epoch:239/500.. Train Loss: 0.053.. Val Loss: 0.115.. Test Loss: 0.054.. Time: 0.17m\n"
     ]
    },
    {
     "name": "stderr",
     "output_type": "stream",
     "text": [
      "100%|██████████| 238/238 [00:09<00:00, 24.39it/s]\n",
      "100%|██████████| 85/85 [00:00<00:00, 181.90it/s]\n",
      "100%|██████████| 17/17 [00:00<00:00, 183.15it/s]\n"
     ]
    },
    {
     "name": "stdout",
     "output_type": "stream",
     "text": [
      "Epoch:240/500.. Train Loss: 0.053.. Val Loss: 0.113.. Test Loss: 0.055.. Time: 0.17m\n"
     ]
    },
    {
     "name": "stderr",
     "output_type": "stream",
     "text": [
      "100%|██████████| 238/238 [00:09<00:00, 24.40it/s]\n",
      "100%|██████████| 85/85 [00:00<00:00, 179.87it/s]\n",
      "100%|██████████| 17/17 [00:00<00:00, 174.89it/s]\n"
     ]
    },
    {
     "name": "stdout",
     "output_type": "stream",
     "text": [
      "Epoch:241/500.. Train Loss: 0.053.. Val Loss: 0.113.. Test Loss: 0.053.. Time: 0.17m\n"
     ]
    },
    {
     "name": "stderr",
     "output_type": "stream",
     "text": [
      "100%|██████████| 238/238 [00:09<00:00, 24.52it/s]\n",
      "100%|██████████| 85/85 [00:00<00:00, 178.31it/s]\n",
      "100%|██████████| 17/17 [00:00<00:00, 177.22it/s]\n"
     ]
    },
    {
     "name": "stdout",
     "output_type": "stream",
     "text": [
      "Epoch:242/500.. Train Loss: 0.052.. Val Loss: 0.113.. Test Loss: 0.054.. Time: 0.17m\n"
     ]
    },
    {
     "name": "stderr",
     "output_type": "stream",
     "text": [
      "100%|██████████| 238/238 [00:09<00:00, 24.60it/s]\n",
      "100%|██████████| 85/85 [00:00<00:00, 184.03it/s]\n",
      "100%|██████████| 17/17 [00:00<00:00, 161.86it/s]\n"
     ]
    },
    {
     "name": "stdout",
     "output_type": "stream",
     "text": [
      "Epoch:243/500.. Train Loss: 0.052.. Val Loss: 0.113.. Test Loss: 0.054.. Time: 0.17m\n"
     ]
    },
    {
     "name": "stderr",
     "output_type": "stream",
     "text": [
      "100%|██████████| 238/238 [00:09<00:00, 24.32it/s]\n",
      "100%|██████████| 85/85 [00:00<00:00, 184.09it/s]\n",
      "100%|██████████| 17/17 [00:00<00:00, 184.12it/s]\n"
     ]
    },
    {
     "name": "stdout",
     "output_type": "stream",
     "text": [
      "Epoch:244/500.. Train Loss: 0.052.. Val Loss: 0.113.. Test Loss: 0.053.. Time: 0.17m\n"
     ]
    },
    {
     "name": "stderr",
     "output_type": "stream",
     "text": [
      "100%|██████████| 238/238 [00:09<00:00, 24.04it/s]\n",
      "100%|██████████| 85/85 [00:00<00:00, 182.42it/s]\n",
      "100%|██████████| 17/17 [00:00<00:00, 182.18it/s]\n"
     ]
    },
    {
     "name": "stdout",
     "output_type": "stream",
     "text": [
      "Epoch:245/500.. Train Loss: 0.053.. Val Loss: 0.113.. Test Loss: 0.052.. Time: 0.17m\n"
     ]
    },
    {
     "name": "stderr",
     "output_type": "stream",
     "text": [
      "100%|██████████| 238/238 [00:09<00:00, 24.41it/s]\n",
      "100%|██████████| 85/85 [00:00<00:00, 179.28it/s]\n",
      "100%|██████████| 17/17 [00:00<00:00, 179.52it/s]\n"
     ]
    },
    {
     "name": "stdout",
     "output_type": "stream",
     "text": [
      "Epoch:246/500.. Train Loss: 0.052.. Val Loss: 0.115.. Test Loss: 0.054.. Time: 0.17m\n"
     ]
    },
    {
     "name": "stderr",
     "output_type": "stream",
     "text": [
      "100%|██████████| 238/238 [00:09<00:00, 24.38it/s]\n",
      "100%|██████████| 85/85 [00:00<00:00, 174.52it/s]\n",
      "100%|██████████| 17/17 [00:00<00:00, 176.56it/s]\n"
     ]
    },
    {
     "name": "stdout",
     "output_type": "stream",
     "text": [
      "Epoch:247/500.. Train Loss: 0.053.. Val Loss: 0.112.. Test Loss: 0.054.. Time: 0.17m\n"
     ]
    },
    {
     "name": "stderr",
     "output_type": "stream",
     "text": [
      "100%|██████████| 238/238 [00:09<00:00, 24.64it/s]\n",
      "100%|██████████| 85/85 [00:00<00:00, 180.10it/s]\n",
      "100%|██████████| 17/17 [00:00<00:00, 184.99it/s]\n"
     ]
    },
    {
     "name": "stdout",
     "output_type": "stream",
     "text": [
      "Epoch:248/500.. Train Loss: 0.052.. Val Loss: 0.115.. Test Loss: 0.051.. Time: 0.17m\n"
     ]
    },
    {
     "name": "stderr",
     "output_type": "stream",
     "text": [
      "100%|██████████| 238/238 [00:09<00:00, 24.27it/s]\n",
      "100%|██████████| 85/85 [00:00<00:00, 183.86it/s]\n",
      "100%|██████████| 17/17 [00:00<00:00, 181.98it/s]\n"
     ]
    },
    {
     "name": "stdout",
     "output_type": "stream",
     "text": [
      "Epoch:249/500.. Train Loss: 0.052.. Val Loss: 0.117.. Test Loss: 0.053.. Time: 0.17m\n"
     ]
    },
    {
     "name": "stderr",
     "output_type": "stream",
     "text": [
      "100%|██████████| 238/238 [00:09<00:00, 24.42it/s]\n",
      "100%|██████████| 85/85 [00:00<00:00, 184.00it/s]\n",
      "100%|██████████| 17/17 [00:00<00:00, 185.17it/s]\n"
     ]
    },
    {
     "name": "stdout",
     "output_type": "stream",
     "text": [
      "Epoch:250/500.. Train Loss: 0.052.. Val Loss: 0.115.. Test Loss: 0.052.. Time: 0.17m\n"
     ]
    },
    {
     "name": "stderr",
     "output_type": "stream",
     "text": [
      "100%|██████████| 238/238 [00:09<00:00, 24.27it/s]\n",
      "100%|██████████| 85/85 [00:00<00:00, 184.57it/s]\n",
      "100%|██████████| 17/17 [00:00<00:00, 185.98it/s]\n"
     ]
    },
    {
     "name": "stdout",
     "output_type": "stream",
     "text": [
      "Epoch:251/500.. Train Loss: 0.051.. Val Loss: 0.115.. Test Loss: 0.056.. Time: 0.17m\n"
     ]
    },
    {
     "name": "stderr",
     "output_type": "stream",
     "text": [
      "100%|██████████| 238/238 [00:09<00:00, 24.56it/s]\n",
      "100%|██████████| 85/85 [00:00<00:00, 183.68it/s]\n",
      "100%|██████████| 17/17 [00:00<00:00, 182.62it/s]\n"
     ]
    },
    {
     "name": "stdout",
     "output_type": "stream",
     "text": [
      "Epoch:252/500.. Train Loss: 0.051.. Val Loss: 0.113.. Test Loss: 0.054.. Time: 0.17m\n"
     ]
    },
    {
     "name": "stderr",
     "output_type": "stream",
     "text": [
      "100%|██████████| 238/238 [00:09<00:00, 24.00it/s]\n",
      "100%|██████████| 85/85 [00:00<00:00, 179.42it/s]\n",
      "100%|██████████| 17/17 [00:00<00:00, 182.33it/s]\n"
     ]
    },
    {
     "name": "stdout",
     "output_type": "stream",
     "text": [
      "Epoch:253/500.. Train Loss: 0.052.. Val Loss: 0.114.. Test Loss: 0.054.. Time: 0.17m\n"
     ]
    },
    {
     "name": "stderr",
     "output_type": "stream",
     "text": [
      "100%|██████████| 238/238 [00:09<00:00, 24.45it/s]\n",
      "100%|██████████| 85/85 [00:00<00:00, 178.87it/s]\n",
      "100%|██████████| 17/17 [00:00<00:00, 182.72it/s]\n"
     ]
    },
    {
     "name": "stdout",
     "output_type": "stream",
     "text": [
      "Epoch:254/500.. Train Loss: 0.051.. Val Loss: 0.116.. Test Loss: 0.056.. Time: 0.17m\n"
     ]
    },
    {
     "name": "stderr",
     "output_type": "stream",
     "text": [
      "100%|██████████| 238/238 [00:09<00:00, 24.27it/s]\n",
      "100%|██████████| 85/85 [00:00<00:00, 179.32it/s]\n",
      "100%|██████████| 17/17 [00:00<00:00, 182.23it/s]\n"
     ]
    },
    {
     "name": "stdout",
     "output_type": "stream",
     "text": [
      "Epoch:255/500.. Train Loss: 0.052.. Val Loss: 0.117.. Test Loss: 0.055.. Time: 0.17m\n"
     ]
    },
    {
     "name": "stderr",
     "output_type": "stream",
     "text": [
      "100%|██████████| 238/238 [00:09<00:00, 24.49it/s]\n",
      "100%|██████████| 85/85 [00:00<00:00, 180.08it/s]\n",
      "100%|██████████| 17/17 [00:00<00:00, 184.50it/s]\n"
     ]
    },
    {
     "name": "stdout",
     "output_type": "stream",
     "text": [
      "Epoch:256/500.. Train Loss: 0.051.. Val Loss: 0.115.. Test Loss: 0.057.. Time: 0.17m\n"
     ]
    },
    {
     "name": "stderr",
     "output_type": "stream",
     "text": [
      "100%|██████████| 238/238 [00:09<00:00, 24.38it/s]\n",
      "100%|██████████| 85/85 [00:00<00:00, 180.19it/s]\n",
      "100%|██████████| 17/17 [00:00<00:00, 185.07it/s]\n"
     ]
    },
    {
     "name": "stdout",
     "output_type": "stream",
     "text": [
      "Epoch:257/500.. Train Loss: 0.053.. Val Loss: 0.112.. Test Loss: 0.055.. Time: 0.17m\n"
     ]
    },
    {
     "name": "stderr",
     "output_type": "stream",
     "text": [
      "100%|██████████| 238/238 [00:09<00:00, 24.43it/s]\n",
      "100%|██████████| 85/85 [00:00<00:00, 182.49it/s]\n",
      "100%|██████████| 17/17 [00:00<00:00, 182.79it/s]\n"
     ]
    },
    {
     "name": "stdout",
     "output_type": "stream",
     "text": [
      "Epoch:258/500.. Train Loss: 0.052.. Val Loss: 0.115.. Test Loss: 0.054.. Time: 0.17m\n"
     ]
    },
    {
     "name": "stderr",
     "output_type": "stream",
     "text": [
      "100%|██████████| 238/238 [00:09<00:00, 24.46it/s]\n",
      "100%|██████████| 85/85 [00:00<00:00, 184.22it/s]\n",
      "100%|██████████| 17/17 [00:00<00:00, 182.65it/s]\n"
     ]
    },
    {
     "name": "stdout",
     "output_type": "stream",
     "text": [
      "Epoch:259/500.. Train Loss: 0.052.. Val Loss: 0.113.. Test Loss: 0.055.. Time: 0.17m\n"
     ]
    },
    {
     "name": "stderr",
     "output_type": "stream",
     "text": [
      "100%|██████████| 238/238 [00:09<00:00, 24.26it/s]\n",
      "100%|██████████| 85/85 [00:00<00:00, 177.71it/s]\n",
      "100%|██████████| 17/17 [00:00<00:00, 183.85it/s]\n"
     ]
    },
    {
     "name": "stdout",
     "output_type": "stream",
     "text": [
      "Epoch:260/500.. Train Loss: 0.052.. Val Loss: 0.113.. Test Loss: 0.056.. Time: 0.17m\n"
     ]
    },
    {
     "name": "stderr",
     "output_type": "stream",
     "text": [
      "100%|██████████| 238/238 [00:09<00:00, 24.04it/s]\n",
      "100%|██████████| 85/85 [00:00<00:00, 179.96it/s]\n",
      "100%|██████████| 17/17 [00:00<00:00, 174.63it/s]\n"
     ]
    },
    {
     "name": "stdout",
     "output_type": "stream",
     "text": [
      "Epoch:261/500.. Train Loss: 0.053.. Val Loss: 0.113.. Test Loss: 0.054.. Time: 0.17m\n"
     ]
    },
    {
     "name": "stderr",
     "output_type": "stream",
     "text": [
      "100%|██████████| 238/238 [00:09<00:00, 24.58it/s]\n",
      "100%|██████████| 85/85 [00:00<00:00, 180.64it/s]\n",
      "100%|██████████| 17/17 [00:00<00:00, 181.27it/s]\n"
     ]
    },
    {
     "name": "stdout",
     "output_type": "stream",
     "text": [
      "Epoch:262/500.. Train Loss: 0.052.. Val Loss: 0.114.. Test Loss: 0.050.. Time: 0.17m\n"
     ]
    },
    {
     "name": "stderr",
     "output_type": "stream",
     "text": [
      "100%|██████████| 238/238 [00:08<00:00, 28.93it/s]\n",
      "100%|██████████| 85/85 [00:00<00:00, 179.59it/s]\n",
      "100%|██████████| 17/17 [00:00<00:00, 181.73it/s]\n"
     ]
    },
    {
     "name": "stdout",
     "output_type": "stream",
     "text": [
      "Epoch:263/500.. Train Loss: 0.053.. Val Loss: 0.113.. Test Loss: 0.055.. Time: 0.15m\n"
     ]
    },
    {
     "name": "stderr",
     "output_type": "stream",
     "text": [
      "100%|██████████| 238/238 [00:08<00:00, 29.41it/s]\n",
      "100%|██████████| 85/85 [00:00<00:00, 183.18it/s]\n",
      "100%|██████████| 17/17 [00:00<00:00, 182.94it/s]\n"
     ]
    },
    {
     "name": "stdout",
     "output_type": "stream",
     "text": [
      "Epoch:264/500.. Train Loss: 0.052.. Val Loss: 0.114.. Test Loss: 0.055.. Time: 0.14m\n"
     ]
    },
    {
     "name": "stderr",
     "output_type": "stream",
     "text": [
      "100%|██████████| 238/238 [00:09<00:00, 25.02it/s]\n",
      "100%|██████████| 85/85 [00:00<00:00, 181.78it/s]\n",
      "100%|██████████| 17/17 [00:00<00:00, 181.97it/s]\n"
     ]
    },
    {
     "name": "stdout",
     "output_type": "stream",
     "text": [
      "Epoch:265/500.. Train Loss: 0.051.. Val Loss: 0.115.. Test Loss: 0.054.. Time: 0.17m\n"
     ]
    },
    {
     "name": "stderr",
     "output_type": "stream",
     "text": [
      "100%|██████████| 238/238 [00:09<00:00, 24.20it/s]\n",
      "100%|██████████| 85/85 [00:00<00:00, 179.89it/s]\n",
      "100%|██████████| 17/17 [00:00<00:00, 184.04it/s]\n"
     ]
    },
    {
     "name": "stdout",
     "output_type": "stream",
     "text": [
      "Epoch:266/500.. Train Loss: 0.051.. Val Loss: 0.113.. Test Loss: 0.053.. Time: 0.17m\n"
     ]
    },
    {
     "name": "stderr",
     "output_type": "stream",
     "text": [
      "100%|██████████| 238/238 [00:09<00:00, 24.40it/s]\n",
      "100%|██████████| 85/85 [00:00<00:00, 178.81it/s]\n",
      "100%|██████████| 17/17 [00:00<00:00, 182.47it/s]\n"
     ]
    },
    {
     "name": "stdout",
     "output_type": "stream",
     "text": [
      "Epoch:267/500.. Train Loss: 0.051.. Val Loss: 0.114.. Test Loss: 0.053.. Time: 0.17m\n"
     ]
    },
    {
     "name": "stderr",
     "output_type": "stream",
     "text": [
      "100%|██████████| 238/238 [00:09<00:00, 24.53it/s]\n",
      "100%|██████████| 85/85 [00:00<00:00, 179.62it/s]\n",
      "100%|██████████| 17/17 [00:00<00:00, 179.78it/s]\n"
     ]
    },
    {
     "name": "stdout",
     "output_type": "stream",
     "text": [
      "Epoch:268/500.. Train Loss: 0.053.. Val Loss: 0.116.. Test Loss: 0.054.. Time: 0.17m\n"
     ]
    },
    {
     "name": "stderr",
     "output_type": "stream",
     "text": [
      "100%|██████████| 238/238 [00:09<00:00, 24.14it/s]\n",
      "100%|██████████| 85/85 [00:00<00:00, 181.38it/s]\n",
      "100%|██████████| 17/17 [00:00<00:00, 179.61it/s]\n"
     ]
    },
    {
     "name": "stdout",
     "output_type": "stream",
     "text": [
      "Epoch:269/500.. Train Loss: 0.052.. Val Loss: 0.115.. Test Loss: 0.055.. Time: 0.17m\n"
     ]
    },
    {
     "name": "stderr",
     "output_type": "stream",
     "text": [
      "100%|██████████| 238/238 [00:09<00:00, 24.49it/s]\n",
      "100%|██████████| 85/85 [00:00<00:00, 182.51it/s]\n",
      "100%|██████████| 17/17 [00:00<00:00, 182.91it/s]\n"
     ]
    },
    {
     "name": "stdout",
     "output_type": "stream",
     "text": [
      "Epoch:270/500.. Train Loss: 0.051.. Val Loss: 0.113.. Test Loss: 0.055.. Time: 0.17m\n"
     ]
    },
    {
     "name": "stderr",
     "output_type": "stream",
     "text": [
      "100%|██████████| 238/238 [00:09<00:00, 24.43it/s]\n",
      "100%|██████████| 85/85 [00:00<00:00, 183.42it/s]\n",
      "100%|██████████| 17/17 [00:00<00:00, 182.93it/s]\n"
     ]
    },
    {
     "name": "stdout",
     "output_type": "stream",
     "text": [
      "Epoch:271/500.. Train Loss: 0.051.. Val Loss: 0.113.. Test Loss: 0.054.. Time: 0.17m\n"
     ]
    },
    {
     "name": "stderr",
     "output_type": "stream",
     "text": [
      "100%|██████████| 238/238 [00:09<00:00, 24.47it/s]\n",
      "100%|██████████| 85/85 [00:00<00:00, 184.21it/s]\n",
      "100%|██████████| 17/17 [00:00<00:00, 183.74it/s]\n"
     ]
    },
    {
     "name": "stdout",
     "output_type": "stream",
     "text": [
      "Epoch:272/500.. Train Loss: 0.052.. Val Loss: 0.112.. Test Loss: 0.052.. Time: 0.17m\n"
     ]
    },
    {
     "name": "stderr",
     "output_type": "stream",
     "text": [
      "100%|██████████| 238/238 [00:09<00:00, 24.23it/s]\n",
      "100%|██████████| 85/85 [00:00<00:00, 180.38it/s]\n",
      "100%|██████████| 17/17 [00:00<00:00, 181.86it/s]\n"
     ]
    },
    {
     "name": "stdout",
     "output_type": "stream",
     "text": [
      "Epoch:273/500.. Train Loss: 0.051.. Val Loss: 0.113.. Test Loss: 0.052.. Time: 0.17m\n"
     ]
    },
    {
     "name": "stderr",
     "output_type": "stream",
     "text": [
      "100%|██████████| 238/238 [00:09<00:00, 24.40it/s]\n",
      "100%|██████████| 85/85 [00:00<00:00, 180.25it/s]\n",
      "100%|██████████| 17/17 [00:00<00:00, 179.42it/s]\n"
     ]
    },
    {
     "name": "stdout",
     "output_type": "stream",
     "text": [
      "Epoch:274/500.. Train Loss: 0.050.. Val Loss: 0.114.. Test Loss: 0.053.. Time: 0.17m\n"
     ]
    },
    {
     "name": "stderr",
     "output_type": "stream",
     "text": [
      "100%|██████████| 238/238 [00:09<00:00, 24.48it/s]\n",
      "100%|██████████| 85/85 [00:00<00:00, 183.59it/s]\n",
      "100%|██████████| 17/17 [00:00<00:00, 180.32it/s]\n"
     ]
    },
    {
     "name": "stdout",
     "output_type": "stream",
     "text": [
      "Epoch:275/500.. Train Loss: 0.050.. Val Loss: 0.114.. Test Loss: 0.051.. Time: 0.17m\n"
     ]
    },
    {
     "name": "stderr",
     "output_type": "stream",
     "text": [
      "100%|██████████| 238/238 [00:09<00:00, 24.31it/s]\n",
      "100%|██████████| 85/85 [00:00<00:00, 182.30it/s]\n",
      "100%|██████████| 17/17 [00:00<00:00, 183.91it/s]\n"
     ]
    },
    {
     "name": "stdout",
     "output_type": "stream",
     "text": [
      "Epoch:276/500.. Train Loss: 0.049.. Val Loss: 0.119.. Test Loss: 0.057.. Time: 0.17m\n"
     ]
    },
    {
     "name": "stderr",
     "output_type": "stream",
     "text": [
      "100%|██████████| 238/238 [00:09<00:00, 24.31it/s]\n",
      "100%|██████████| 85/85 [00:00<00:00, 184.30it/s]\n",
      "100%|██████████| 17/17 [00:00<00:00, 181.62it/s]\n"
     ]
    },
    {
     "name": "stdout",
     "output_type": "stream",
     "text": [
      "Epoch:277/500.. Train Loss: 0.050.. Val Loss: 0.115.. Test Loss: 0.056.. Time: 0.17m\n"
     ]
    },
    {
     "name": "stderr",
     "output_type": "stream",
     "text": [
      "100%|██████████| 238/238 [00:09<00:00, 24.44it/s]\n",
      "100%|██████████| 85/85 [00:00<00:00, 182.12it/s]\n",
      "100%|██████████| 17/17 [00:00<00:00, 182.90it/s]\n"
     ]
    },
    {
     "name": "stdout",
     "output_type": "stream",
     "text": [
      "Epoch:278/500.. Train Loss: 0.051.. Val Loss: 0.114.. Test Loss: 0.053.. Time: 0.17m\n"
     ]
    },
    {
     "name": "stderr",
     "output_type": "stream",
     "text": [
      "100%|██████████| 238/238 [00:09<00:00, 24.46it/s]\n",
      "100%|██████████| 85/85 [00:00<00:00, 173.59it/s]\n",
      "100%|██████████| 17/17 [00:00<00:00, 184.06it/s]\n"
     ]
    },
    {
     "name": "stdout",
     "output_type": "stream",
     "text": [
      "Epoch:279/500.. Train Loss: 0.051.. Val Loss: 0.115.. Test Loss: 0.054.. Time: 0.17m\n"
     ]
    },
    {
     "name": "stderr",
     "output_type": "stream",
     "text": [
      "100%|██████████| 238/238 [00:09<00:00, 24.35it/s]\n",
      "100%|██████████| 85/85 [00:00<00:00, 181.63it/s]\n",
      "100%|██████████| 17/17 [00:00<00:00, 183.36it/s]\n"
     ]
    },
    {
     "name": "stdout",
     "output_type": "stream",
     "text": [
      "Epoch:280/500.. Train Loss: 0.051.. Val Loss: 0.114.. Test Loss: 0.052.. Time: 0.17m\n"
     ]
    },
    {
     "name": "stderr",
     "output_type": "stream",
     "text": [
      "100%|██████████| 238/238 [00:09<00:00, 24.43it/s]\n",
      "100%|██████████| 85/85 [00:00<00:00, 184.49it/s]\n",
      "100%|██████████| 17/17 [00:00<00:00, 183.13it/s]\n"
     ]
    },
    {
     "name": "stdout",
     "output_type": "stream",
     "text": [
      "Epoch:281/500.. Train Loss: 0.053.. Val Loss: 0.112.. Test Loss: 0.052.. Time: 0.17m\n"
     ]
    },
    {
     "name": "stderr",
     "output_type": "stream",
     "text": [
      "100%|██████████| 238/238 [00:09<00:00, 24.31it/s]\n",
      "100%|██████████| 85/85 [00:00<00:00, 183.51it/s]\n",
      "100%|██████████| 17/17 [00:00<00:00, 183.26it/s]\n"
     ]
    },
    {
     "name": "stdout",
     "output_type": "stream",
     "text": [
      "Epoch:282/500.. Train Loss: 0.052.. Val Loss: 0.113.. Test Loss: 0.052.. Time: 0.17m\n"
     ]
    },
    {
     "name": "stderr",
     "output_type": "stream",
     "text": [
      "100%|██████████| 238/238 [00:09<00:00, 24.64it/s]\n",
      "100%|██████████| 85/85 [00:00<00:00, 183.55it/s]\n",
      "100%|██████████| 17/17 [00:00<00:00, 183.45it/s]\n"
     ]
    },
    {
     "name": "stdout",
     "output_type": "stream",
     "text": [
      "Epoch:283/500.. Train Loss: 0.051.. Val Loss: 0.115.. Test Loss: 0.055.. Time: 0.17m\n"
     ]
    },
    {
     "name": "stderr",
     "output_type": "stream",
     "text": [
      "100%|██████████| 238/238 [00:09<00:00, 24.41it/s]\n",
      "100%|██████████| 85/85 [00:00<00:00, 173.10it/s]\n",
      "100%|██████████| 17/17 [00:00<00:00, 179.93it/s]\n"
     ]
    },
    {
     "name": "stdout",
     "output_type": "stream",
     "text": [
      "Epoch:284/500.. Train Loss: 0.051.. Val Loss: 0.113.. Test Loss: 0.055.. Time: 0.17m\n"
     ]
    },
    {
     "name": "stderr",
     "output_type": "stream",
     "text": [
      "100%|██████████| 238/238 [00:09<00:00, 24.12it/s]\n",
      "100%|██████████| 85/85 [00:00<00:00, 181.47it/s]\n",
      "100%|██████████| 17/17 [00:00<00:00, 180.22it/s]\n"
     ]
    },
    {
     "name": "stdout",
     "output_type": "stream",
     "text": [
      "Epoch:285/500.. Train Loss: 0.050.. Val Loss: 0.114.. Test Loss: 0.055.. Time: 0.17m\n"
     ]
    },
    {
     "name": "stderr",
     "output_type": "stream",
     "text": [
      "100%|██████████| 238/238 [00:09<00:00, 24.51it/s]\n",
      "100%|██████████| 85/85 [00:00<00:00, 183.86it/s]\n",
      "100%|██████████| 17/17 [00:00<00:00, 183.84it/s]\n"
     ]
    },
    {
     "name": "stdout",
     "output_type": "stream",
     "text": [
      "Epoch:286/500.. Train Loss: 0.050.. Val Loss: 0.114.. Test Loss: 0.056.. Time: 0.17m\n"
     ]
    },
    {
     "name": "stderr",
     "output_type": "stream",
     "text": [
      "100%|██████████| 238/238 [00:09<00:00, 24.52it/s]\n",
      "100%|██████████| 85/85 [00:00<00:00, 184.65it/s]\n",
      "100%|██████████| 17/17 [00:00<00:00, 183.19it/s]\n"
     ]
    },
    {
     "name": "stdout",
     "output_type": "stream",
     "text": [
      "Epoch:287/500.. Train Loss: 0.052.. Val Loss: 0.113.. Test Loss: 0.053.. Time: 0.17m\n"
     ]
    },
    {
     "name": "stderr",
     "output_type": "stream",
     "text": [
      "100%|██████████| 238/238 [00:09<00:00, 24.33it/s]\n",
      "100%|██████████| 85/85 [00:00<00:00, 175.16it/s]\n",
      "100%|██████████| 17/17 [00:00<00:00, 183.63it/s]\n"
     ]
    },
    {
     "name": "stdout",
     "output_type": "stream",
     "text": [
      "Epoch:288/500.. Train Loss: 0.051.. Val Loss: 0.113.. Test Loss: 0.054.. Time: 0.17m\n"
     ]
    },
    {
     "name": "stderr",
     "output_type": "stream",
     "text": [
      "100%|██████████| 238/238 [00:09<00:00, 24.16it/s]\n",
      "100%|██████████| 85/85 [00:00<00:00, 177.67it/s]\n",
      "100%|██████████| 17/17 [00:00<00:00, 176.62it/s]\n"
     ]
    },
    {
     "name": "stdout",
     "output_type": "stream",
     "text": [
      "Epoch:289/500.. Train Loss: 0.050.. Val Loss: 0.116.. Test Loss: 0.054.. Time: 0.17m\n"
     ]
    },
    {
     "name": "stderr",
     "output_type": "stream",
     "text": [
      "100%|██████████| 238/238 [00:09<00:00, 24.40it/s]\n",
      "100%|██████████| 85/85 [00:00<00:00, 181.10it/s]\n",
      "100%|██████████| 17/17 [00:00<00:00, 162.16it/s]\n"
     ]
    },
    {
     "name": "stdout",
     "output_type": "stream",
     "text": [
      "Epoch:290/500.. Train Loss: 0.052.. Val Loss: 0.114.. Test Loss: 0.055.. Time: 0.17m\n"
     ]
    },
    {
     "name": "stderr",
     "output_type": "stream",
     "text": [
      "100%|██████████| 238/238 [00:09<00:00, 24.34it/s]\n",
      "100%|██████████| 85/85 [00:00<00:00, 178.90it/s]\n",
      "100%|██████████| 17/17 [00:00<00:00, 183.89it/s]\n"
     ]
    },
    {
     "name": "stdout",
     "output_type": "stream",
     "text": [
      "Epoch:291/500.. Train Loss: 0.050.. Val Loss: 0.116.. Test Loss: 0.057.. Time: 0.17m\n"
     ]
    },
    {
     "name": "stderr",
     "output_type": "stream",
     "text": [
      "100%|██████████| 238/238 [00:09<00:00, 24.55it/s]\n",
      "100%|██████████| 85/85 [00:00<00:00, 183.24it/s]\n",
      "100%|██████████| 17/17 [00:00<00:00, 183.15it/s]\n"
     ]
    },
    {
     "name": "stdout",
     "output_type": "stream",
     "text": [
      "Epoch:292/500.. Train Loss: 0.051.. Val Loss: 0.118.. Test Loss: 0.054.. Time: 0.17m\n"
     ]
    },
    {
     "name": "stderr",
     "output_type": "stream",
     "text": [
      "100%|██████████| 238/238 [00:09<00:00, 24.18it/s]\n",
      "100%|██████████| 85/85 [00:00<00:00, 184.03it/s]\n",
      "100%|██████████| 17/17 [00:00<00:00, 184.79it/s]\n"
     ]
    },
    {
     "name": "stdout",
     "output_type": "stream",
     "text": [
      "Epoch:293/500.. Train Loss: 0.050.. Val Loss: 0.114.. Test Loss: 0.056.. Time: 0.17m\n"
     ]
    },
    {
     "name": "stderr",
     "output_type": "stream",
     "text": [
      "100%|██████████| 238/238 [00:09<00:00, 24.52it/s]\n",
      "100%|██████████| 85/85 [00:00<00:00, 183.63it/s]\n",
      "100%|██████████| 17/17 [00:00<00:00, 179.96it/s]\n"
     ]
    },
    {
     "name": "stdout",
     "output_type": "stream",
     "text": [
      "Epoch:294/500.. Train Loss: 0.051.. Val Loss: 0.116.. Test Loss: 0.056.. Time: 0.17m\n"
     ]
    },
    {
     "name": "stderr",
     "output_type": "stream",
     "text": [
      "100%|██████████| 238/238 [00:09<00:00, 24.41it/s]\n",
      "100%|██████████| 85/85 [00:00<00:00, 181.41it/s]\n",
      "100%|██████████| 17/17 [00:00<00:00, 175.67it/s]\n"
     ]
    },
    {
     "name": "stdout",
     "output_type": "stream",
     "text": [
      "Epoch:295/500.. Train Loss: 0.051.. Val Loss: 0.117.. Test Loss: 0.053.. Time: 0.17m\n"
     ]
    },
    {
     "name": "stderr",
     "output_type": "stream",
     "text": [
      "100%|██████████| 238/238 [00:09<00:00, 24.47it/s]\n",
      "100%|██████████| 85/85 [00:00<00:00, 179.83it/s]\n",
      "100%|██████████| 17/17 [00:00<00:00, 162.25it/s]\n"
     ]
    },
    {
     "name": "stdout",
     "output_type": "stream",
     "text": [
      "Epoch:296/500.. Train Loss: 0.051.. Val Loss: 0.116.. Test Loss: 0.055.. Time: 0.17m\n"
     ]
    },
    {
     "name": "stderr",
     "output_type": "stream",
     "text": [
      "100%|██████████| 238/238 [00:09<00:00, 24.23it/s]\n",
      "100%|██████████| 85/85 [00:00<00:00, 181.95it/s]\n",
      "100%|██████████| 17/17 [00:00<00:00, 181.98it/s]\n"
     ]
    },
    {
     "name": "stdout",
     "output_type": "stream",
     "text": [
      "Epoch:297/500.. Train Loss: 0.052.. Val Loss: 0.115.. Test Loss: 0.055.. Time: 0.17m\n"
     ]
    },
    {
     "name": "stderr",
     "output_type": "stream",
     "text": [
      "100%|██████████| 238/238 [00:09<00:00, 24.31it/s]\n",
      "100%|██████████| 85/85 [00:00<00:00, 183.85it/s]\n",
      "100%|██████████| 17/17 [00:00<00:00, 184.16it/s]\n"
     ]
    },
    {
     "name": "stdout",
     "output_type": "stream",
     "text": [
      "Epoch:298/500.. Train Loss: 0.050.. Val Loss: 0.117.. Test Loss: 0.055.. Time: 0.17m\n"
     ]
    },
    {
     "name": "stderr",
     "output_type": "stream",
     "text": [
      "100%|██████████| 238/238 [00:09<00:00, 24.34it/s]\n",
      "100%|██████████| 85/85 [00:00<00:00, 177.02it/s]\n",
      "100%|██████████| 17/17 [00:00<00:00, 179.74it/s]\n"
     ]
    },
    {
     "name": "stdout",
     "output_type": "stream",
     "text": [
      "Epoch:299/500.. Train Loss: 0.050.. Val Loss: 0.115.. Test Loss: 0.055.. Time: 0.17m\n"
     ]
    },
    {
     "name": "stderr",
     "output_type": "stream",
     "text": [
      "100%|██████████| 238/238 [00:09<00:00, 24.58it/s]\n",
      "100%|██████████| 85/85 [00:00<00:00, 180.75it/s]\n",
      "100%|██████████| 17/17 [00:00<00:00, 184.66it/s]\n"
     ]
    },
    {
     "name": "stdout",
     "output_type": "stream",
     "text": [
      "Epoch:300/500.. Train Loss: 0.051.. Val Loss: 0.116.. Test Loss: 0.053.. Time: 0.17m\n"
     ]
    },
    {
     "name": "stderr",
     "output_type": "stream",
     "text": [
      "100%|██████████| 238/238 [00:09<00:00, 24.31it/s]\n",
      "100%|██████████| 85/85 [00:00<00:00, 181.82it/s]\n",
      "100%|██████████| 17/17 [00:00<00:00, 180.84it/s]\n"
     ]
    },
    {
     "name": "stdout",
     "output_type": "stream",
     "text": [
      "Epoch:301/500.. Train Loss: 0.050.. Val Loss: 0.120.. Test Loss: 0.059.. Time: 0.17m\n"
     ]
    },
    {
     "name": "stderr",
     "output_type": "stream",
     "text": [
      "100%|██████████| 238/238 [00:09<00:00, 24.35it/s]\n",
      "100%|██████████| 85/85 [00:00<00:00, 184.57it/s]\n",
      "100%|██████████| 17/17 [00:00<00:00, 182.28it/s]\n"
     ]
    },
    {
     "name": "stdout",
     "output_type": "stream",
     "text": [
      "Epoch:302/500.. Train Loss: 0.050.. Val Loss: 0.116.. Test Loss: 0.056.. Time: 0.17m\n"
     ]
    },
    {
     "name": "stderr",
     "output_type": "stream",
     "text": [
      "100%|██████████| 238/238 [00:09<00:00, 24.62it/s]\n",
      "100%|██████████| 85/85 [00:00<00:00, 182.53it/s]\n",
      "100%|██████████| 17/17 [00:00<00:00, 180.44it/s]\n"
     ]
    },
    {
     "name": "stdout",
     "output_type": "stream",
     "text": [
      "Epoch:303/500.. Train Loss: 0.050.. Val Loss: 0.116.. Test Loss: 0.057.. Time: 0.17m\n"
     ]
    },
    {
     "name": "stderr",
     "output_type": "stream",
     "text": [
      "100%|██████████| 238/238 [00:09<00:00, 24.33it/s]\n",
      "100%|██████████| 85/85 [00:00<00:00, 184.19it/s]\n",
      "100%|██████████| 17/17 [00:00<00:00, 183.25it/s]\n"
     ]
    },
    {
     "name": "stdout",
     "output_type": "stream",
     "text": [
      "Epoch:304/500.. Train Loss: 0.050.. Val Loss: 0.116.. Test Loss: 0.055.. Time: 0.17m\n"
     ]
    },
    {
     "name": "stderr",
     "output_type": "stream",
     "text": [
      "100%|██████████| 238/238 [00:09<00:00, 24.06it/s]\n",
      "100%|██████████| 85/85 [00:00<00:00, 179.07it/s]\n",
      "100%|██████████| 17/17 [00:00<00:00, 181.38it/s]\n"
     ]
    },
    {
     "name": "stdout",
     "output_type": "stream",
     "text": [
      "Epoch:305/500.. Train Loss: 0.050.. Val Loss: 0.116.. Test Loss: 0.056.. Time: 0.17m\n"
     ]
    },
    {
     "name": "stderr",
     "output_type": "stream",
     "text": [
      "100%|██████████| 238/238 [00:09<00:00, 24.45it/s]\n",
      "100%|██████████| 85/85 [00:00<00:00, 178.14it/s]\n",
      "100%|██████████| 17/17 [00:00<00:00, 175.24it/s]\n"
     ]
    },
    {
     "name": "stdout",
     "output_type": "stream",
     "text": [
      "Epoch:306/500.. Train Loss: 0.049.. Val Loss: 0.116.. Test Loss: 0.056.. Time: 0.17m\n"
     ]
    },
    {
     "name": "stderr",
     "output_type": "stream",
     "text": [
      "100%|██████████| 238/238 [00:09<00:00, 24.33it/s]\n",
      "100%|██████████| 85/85 [00:00<00:00, 183.61it/s]\n",
      "100%|██████████| 17/17 [00:00<00:00, 182.75it/s]\n"
     ]
    },
    {
     "name": "stdout",
     "output_type": "stream",
     "text": [
      "Epoch:307/500.. Train Loss: 0.049.. Val Loss: 0.116.. Test Loss: 0.054.. Time: 0.17m\n"
     ]
    },
    {
     "name": "stderr",
     "output_type": "stream",
     "text": [
      "100%|██████████| 238/238 [00:09<00:00, 24.25it/s]\n",
      "100%|██████████| 85/85 [00:00<00:00, 178.53it/s]\n",
      "100%|██████████| 17/17 [00:00<00:00, 179.58it/s]\n"
     ]
    },
    {
     "name": "stdout",
     "output_type": "stream",
     "text": [
      "Epoch:308/500.. Train Loss: 0.050.. Val Loss: 0.115.. Test Loss: 0.055.. Time: 0.17m\n"
     ]
    },
    {
     "name": "stderr",
     "output_type": "stream",
     "text": [
      "100%|██████████| 238/238 [00:09<00:00, 24.05it/s]\n",
      "100%|██████████| 85/85 [00:00<00:00, 182.33it/s]\n",
      "100%|██████████| 17/17 [00:00<00:00, 181.73it/s]\n"
     ]
    },
    {
     "name": "stdout",
     "output_type": "stream",
     "text": [
      "Epoch:309/500.. Train Loss: 0.049.. Val Loss: 0.119.. Test Loss: 0.059.. Time: 0.17m\n"
     ]
    },
    {
     "name": "stderr",
     "output_type": "stream",
     "text": [
      "100%|██████████| 238/238 [00:09<00:00, 24.46it/s]\n",
      "100%|██████████| 85/85 [00:00<00:00, 182.38it/s]\n",
      "100%|██████████| 17/17 [00:00<00:00, 180.44it/s]\n"
     ]
    },
    {
     "name": "stdout",
     "output_type": "stream",
     "text": [
      "Epoch:310/500.. Train Loss: 0.049.. Val Loss: 0.116.. Test Loss: 0.057.. Time: 0.17m\n"
     ]
    },
    {
     "name": "stderr",
     "output_type": "stream",
     "text": [
      "100%|██████████| 238/238 [00:09<00:00, 24.45it/s]\n",
      "100%|██████████| 85/85 [00:00<00:00, 181.61it/s]\n",
      "100%|██████████| 17/17 [00:00<00:00, 182.78it/s]\n"
     ]
    },
    {
     "name": "stdout",
     "output_type": "stream",
     "text": [
      "Epoch:311/500.. Train Loss: 0.049.. Val Loss: 0.117.. Test Loss: 0.060.. Time: 0.17m\n"
     ]
    },
    {
     "name": "stderr",
     "output_type": "stream",
     "text": [
      "100%|██████████| 238/238 [00:09<00:00, 24.39it/s]\n",
      "100%|██████████| 85/85 [00:00<00:00, 176.86it/s]\n",
      "100%|██████████| 17/17 [00:00<00:00, 177.29it/s]\n"
     ]
    },
    {
     "name": "stdout",
     "output_type": "stream",
     "text": [
      "Epoch:312/500.. Train Loss: 0.050.. Val Loss: 0.115.. Test Loss: 0.057.. Time: 0.17m\n"
     ]
    },
    {
     "name": "stderr",
     "output_type": "stream",
     "text": [
      "100%|██████████| 238/238 [00:09<00:00, 24.07it/s]\n",
      "100%|██████████| 85/85 [00:00<00:00, 180.69it/s]\n",
      "100%|██████████| 17/17 [00:00<00:00, 181.03it/s]\n"
     ]
    },
    {
     "name": "stdout",
     "output_type": "stream",
     "text": [
      "Epoch:313/500.. Train Loss: 0.049.. Val Loss: 0.114.. Test Loss: 0.055.. Time: 0.17m\n"
     ]
    },
    {
     "name": "stderr",
     "output_type": "stream",
     "text": [
      "100%|██████████| 238/238 [00:09<00:00, 24.46it/s]\n",
      "100%|██████████| 85/85 [00:00<00:00, 181.59it/s]\n",
      "100%|██████████| 17/17 [00:00<00:00, 182.60it/s]\n"
     ]
    },
    {
     "name": "stdout",
     "output_type": "stream",
     "text": [
      "Epoch:314/500.. Train Loss: 0.049.. Val Loss: 0.115.. Test Loss: 0.055.. Time: 0.17m\n"
     ]
    },
    {
     "name": "stderr",
     "output_type": "stream",
     "text": [
      "100%|██████████| 238/238 [00:09<00:00, 24.30it/s]\n",
      "100%|██████████| 85/85 [00:00<00:00, 180.32it/s]\n",
      "100%|██████████| 17/17 [00:00<00:00, 181.37it/s]\n"
     ]
    },
    {
     "name": "stdout",
     "output_type": "stream",
     "text": [
      "Epoch:315/500.. Train Loss: 0.049.. Val Loss: 0.114.. Test Loss: 0.054.. Time: 0.17m\n"
     ]
    },
    {
     "name": "stderr",
     "output_type": "stream",
     "text": [
      "100%|██████████| 238/238 [00:09<00:00, 24.39it/s]\n",
      "100%|██████████| 85/85 [00:00<00:00, 184.37it/s]\n",
      "100%|██████████| 17/17 [00:00<00:00, 164.15it/s]\n"
     ]
    },
    {
     "name": "stdout",
     "output_type": "stream",
     "text": [
      "Epoch:316/500.. Train Loss: 0.049.. Val Loss: 0.118.. Test Loss: 0.056.. Time: 0.17m\n"
     ]
    },
    {
     "name": "stderr",
     "output_type": "stream",
     "text": [
      "100%|██████████| 238/238 [00:09<00:00, 24.12it/s]\n",
      "100%|██████████| 85/85 [00:00<00:00, 182.97it/s]\n",
      "100%|██████████| 17/17 [00:00<00:00, 181.70it/s]\n"
     ]
    },
    {
     "name": "stdout",
     "output_type": "stream",
     "text": [
      "Epoch:317/500.. Train Loss: 0.050.. Val Loss: 0.120.. Test Loss: 0.062.. Time: 0.17m\n"
     ]
    },
    {
     "name": "stderr",
     "output_type": "stream",
     "text": [
      "100%|██████████| 238/238 [00:09<00:00, 24.51it/s]\n",
      "100%|██████████| 85/85 [00:00<00:00, 179.63it/s]\n",
      "100%|██████████| 17/17 [00:00<00:00, 181.81it/s]\n"
     ]
    },
    {
     "name": "stdout",
     "output_type": "stream",
     "text": [
      "Epoch:318/500.. Train Loss: 0.050.. Val Loss: 0.115.. Test Loss: 0.058.. Time: 0.17m\n"
     ]
    },
    {
     "name": "stderr",
     "output_type": "stream",
     "text": [
      "100%|██████████| 238/238 [00:09<00:00, 24.65it/s]\n",
      "100%|██████████| 85/85 [00:00<00:00, 179.12it/s]\n",
      "100%|██████████| 17/17 [00:00<00:00, 178.57it/s]\n"
     ]
    },
    {
     "name": "stdout",
     "output_type": "stream",
     "text": [
      "Epoch:319/500.. Train Loss: 0.049.. Val Loss: 0.114.. Test Loss: 0.056.. Time: 0.17m\n"
     ]
    },
    {
     "name": "stderr",
     "output_type": "stream",
     "text": [
      "100%|██████████| 238/238 [00:09<00:00, 24.67it/s]\n",
      "100%|██████████| 85/85 [00:00<00:00, 183.97it/s]\n",
      "100%|██████████| 17/17 [00:00<00:00, 184.58it/s]\n"
     ]
    },
    {
     "name": "stdout",
     "output_type": "stream",
     "text": [
      "Epoch:320/500.. Train Loss: 0.050.. Val Loss: 0.119.. Test Loss: 0.058.. Time: 0.17m\n"
     ]
    },
    {
     "name": "stderr",
     "output_type": "stream",
     "text": [
      "100%|██████████| 238/238 [00:09<00:00, 24.21it/s]\n",
      "100%|██████████| 85/85 [00:00<00:00, 183.81it/s]\n",
      "100%|██████████| 17/17 [00:00<00:00, 180.34it/s]\n"
     ]
    },
    {
     "name": "stdout",
     "output_type": "stream",
     "text": [
      "Epoch:321/500.. Train Loss: 0.049.. Val Loss: 0.116.. Test Loss: 0.057.. Time: 0.17m\n"
     ]
    },
    {
     "name": "stderr",
     "output_type": "stream",
     "text": [
      "100%|██████████| 238/238 [00:09<00:00, 24.32it/s]\n",
      "100%|██████████| 85/85 [00:00<00:00, 183.16it/s]\n",
      "100%|██████████| 17/17 [00:00<00:00, 184.61it/s]\n"
     ]
    },
    {
     "name": "stdout",
     "output_type": "stream",
     "text": [
      "Epoch:322/500.. Train Loss: 0.049.. Val Loss: 0.117.. Test Loss: 0.059.. Time: 0.17m\n"
     ]
    },
    {
     "name": "stderr",
     "output_type": "stream",
     "text": [
      "100%|██████████| 238/238 [00:09<00:00, 24.56it/s]\n",
      "100%|██████████| 85/85 [00:00<00:00, 180.18it/s]\n",
      "100%|██████████| 17/17 [00:00<00:00, 182.95it/s]\n"
     ]
    },
    {
     "name": "stdout",
     "output_type": "stream",
     "text": [
      "Epoch:323/500.. Train Loss: 0.049.. Val Loss: 0.117.. Test Loss: 0.058.. Time: 0.17m\n"
     ]
    },
    {
     "name": "stderr",
     "output_type": "stream",
     "text": [
      "100%|██████████| 238/238 [00:09<00:00, 24.41it/s]\n",
      "100%|██████████| 85/85 [00:00<00:00, 180.26it/s]\n",
      "100%|██████████| 17/17 [00:00<00:00, 174.42it/s]\n"
     ]
    },
    {
     "name": "stdout",
     "output_type": "stream",
     "text": [
      "Epoch:324/500.. Train Loss: 0.049.. Val Loss: 0.116.. Test Loss: 0.054.. Time: 0.17m\n"
     ]
    },
    {
     "name": "stderr",
     "output_type": "stream",
     "text": [
      "100%|██████████| 238/238 [00:09<00:00, 24.13it/s]\n",
      "100%|██████████| 85/85 [00:00<00:00, 179.91it/s]\n",
      "100%|██████████| 17/17 [00:00<00:00, 158.19it/s]\n"
     ]
    },
    {
     "name": "stdout",
     "output_type": "stream",
     "text": [
      "Epoch:325/500.. Train Loss: 0.052.. Val Loss: 0.117.. Test Loss: 0.055.. Time: 0.17m\n"
     ]
    },
    {
     "name": "stderr",
     "output_type": "stream",
     "text": [
      "100%|██████████| 238/238 [00:09<00:00, 24.46it/s]\n",
      "100%|██████████| 85/85 [00:00<00:00, 184.31it/s]\n",
      "100%|██████████| 17/17 [00:00<00:00, 184.03it/s]\n"
     ]
    },
    {
     "name": "stdout",
     "output_type": "stream",
     "text": [
      "Epoch:326/500.. Train Loss: 0.049.. Val Loss: 0.118.. Test Loss: 0.057.. Time: 0.17m\n"
     ]
    },
    {
     "name": "stderr",
     "output_type": "stream",
     "text": [
      "100%|██████████| 238/238 [00:09<00:00, 24.27it/s]\n",
      "100%|██████████| 85/85 [00:00<00:00, 183.75it/s]\n",
      "100%|██████████| 17/17 [00:00<00:00, 184.05it/s]\n"
     ]
    },
    {
     "name": "stdout",
     "output_type": "stream",
     "text": [
      "Epoch:327/500.. Train Loss: 0.051.. Val Loss: 0.117.. Test Loss: 0.057.. Time: 0.17m\n"
     ]
    },
    {
     "name": "stderr",
     "output_type": "stream",
     "text": [
      "100%|██████████| 238/238 [00:09<00:00, 24.65it/s]\n",
      "100%|██████████| 85/85 [00:00<00:00, 183.92it/s]\n",
      "100%|██████████| 17/17 [00:00<00:00, 160.20it/s]\n"
     ]
    },
    {
     "name": "stdout",
     "output_type": "stream",
     "text": [
      "Epoch:328/500.. Train Loss: 0.050.. Val Loss: 0.119.. Test Loss: 0.057.. Time: 0.17m\n"
     ]
    },
    {
     "name": "stderr",
     "output_type": "stream",
     "text": [
      "100%|██████████| 238/238 [00:09<00:00, 24.02it/s]\n",
      "100%|██████████| 85/85 [00:00<00:00, 183.87it/s]\n",
      "100%|██████████| 17/17 [00:00<00:00, 182.74it/s]\n"
     ]
    },
    {
     "name": "stdout",
     "output_type": "stream",
     "text": [
      "Epoch:329/500.. Train Loss: 0.049.. Val Loss: 0.114.. Test Loss: 0.053.. Time: 0.17m\n"
     ]
    },
    {
     "name": "stderr",
     "output_type": "stream",
     "text": [
      "100%|██████████| 238/238 [00:09<00:00, 24.51it/s]\n",
      "100%|██████████| 85/85 [00:00<00:00, 181.61it/s]\n",
      "100%|██████████| 17/17 [00:00<00:00, 179.63it/s]\n"
     ]
    },
    {
     "name": "stdout",
     "output_type": "stream",
     "text": [
      "Epoch:330/500.. Train Loss: 0.049.. Val Loss: 0.116.. Test Loss: 0.055.. Time: 0.17m\n"
     ]
    },
    {
     "name": "stderr",
     "output_type": "stream",
     "text": [
      "100%|██████████| 238/238 [00:09<00:00, 24.44it/s]\n",
      "100%|██████████| 85/85 [00:00<00:00, 177.26it/s]\n",
      "100%|██████████| 17/17 [00:00<00:00, 178.81it/s]\n"
     ]
    },
    {
     "name": "stdout",
     "output_type": "stream",
     "text": [
      "Epoch:331/500.. Train Loss: 0.049.. Val Loss: 0.117.. Test Loss: 0.056.. Time: 0.17m\n"
     ]
    },
    {
     "name": "stderr",
     "output_type": "stream",
     "text": [
      "100%|██████████| 238/238 [00:09<00:00, 24.43it/s]\n",
      "100%|██████████| 85/85 [00:00<00:00, 179.97it/s]\n",
      "100%|██████████| 17/17 [00:00<00:00, 182.93it/s]\n"
     ]
    },
    {
     "name": "stdout",
     "output_type": "stream",
     "text": [
      "Epoch:332/500.. Train Loss: 0.048.. Val Loss: 0.118.. Test Loss: 0.057.. Time: 0.17m\n"
     ]
    },
    {
     "name": "stderr",
     "output_type": "stream",
     "text": [
      "100%|██████████| 238/238 [00:09<00:00, 24.02it/s]\n",
      "100%|██████████| 85/85 [00:00<00:00, 183.13it/s]\n",
      "100%|██████████| 17/17 [00:00<00:00, 184.55it/s]\n"
     ]
    },
    {
     "name": "stdout",
     "output_type": "stream",
     "text": [
      "Epoch:333/500.. Train Loss: 0.049.. Val Loss: 0.118.. Test Loss: 0.056.. Time: 0.17m\n"
     ]
    },
    {
     "name": "stderr",
     "output_type": "stream",
     "text": [
      "100%|██████████| 238/238 [00:09<00:00, 24.43it/s]\n",
      "100%|██████████| 85/85 [00:00<00:00, 183.56it/s]\n",
      "100%|██████████| 17/17 [00:00<00:00, 180.25it/s]\n"
     ]
    },
    {
     "name": "stdout",
     "output_type": "stream",
     "text": [
      "Epoch:334/500.. Train Loss: 0.049.. Val Loss: 0.120.. Test Loss: 0.056.. Time: 0.17m\n"
     ]
    },
    {
     "name": "stderr",
     "output_type": "stream",
     "text": [
      "100%|██████████| 238/238 [00:09<00:00, 24.39it/s]\n",
      "100%|██████████| 85/85 [00:00<00:00, 182.21it/s]\n",
      "100%|██████████| 17/17 [00:00<00:00, 180.76it/s]\n"
     ]
    },
    {
     "name": "stdout",
     "output_type": "stream",
     "text": [
      "Epoch:335/500.. Train Loss: 0.049.. Val Loss: 0.120.. Test Loss: 0.057.. Time: 0.17m\n"
     ]
    },
    {
     "name": "stderr",
     "output_type": "stream",
     "text": [
      "100%|██████████| 238/238 [00:09<00:00, 24.09it/s]\n",
      "100%|██████████| 85/85 [00:00<00:00, 178.07it/s]\n",
      "100%|██████████| 17/17 [00:00<00:00, 181.39it/s]\n"
     ]
    },
    {
     "name": "stdout",
     "output_type": "stream",
     "text": [
      "Epoch:336/500.. Train Loss: 0.048.. Val Loss: 0.119.. Test Loss: 0.056.. Time: 0.17m\n"
     ]
    },
    {
     "name": "stderr",
     "output_type": "stream",
     "text": [
      "100%|██████████| 238/238 [00:09<00:00, 23.94it/s]\n",
      "100%|██████████| 85/85 [00:00<00:00, 173.63it/s]\n",
      "100%|██████████| 17/17 [00:00<00:00, 172.47it/s]\n"
     ]
    },
    {
     "name": "stdout",
     "output_type": "stream",
     "text": [
      "Epoch:337/500.. Train Loss: 0.048.. Val Loss: 0.116.. Test Loss: 0.057.. Time: 0.18m\n"
     ]
    },
    {
     "name": "stderr",
     "output_type": "stream",
     "text": [
      "100%|██████████| 238/238 [00:09<00:00, 24.39it/s]\n",
      "100%|██████████| 85/85 [00:00<00:00, 177.63it/s]\n",
      "100%|██████████| 17/17 [00:00<00:00, 173.29it/s]\n"
     ]
    },
    {
     "name": "stdout",
     "output_type": "stream",
     "text": [
      "Epoch:338/500.. Train Loss: 0.048.. Val Loss: 0.117.. Test Loss: 0.055.. Time: 0.17m\n"
     ]
    },
    {
     "name": "stderr",
     "output_type": "stream",
     "text": [
      "100%|██████████| 238/238 [00:09<00:00, 24.59it/s]\n",
      "100%|██████████| 85/85 [00:00<00:00, 184.61it/s]\n",
      "100%|██████████| 17/17 [00:00<00:00, 182.52it/s]\n"
     ]
    },
    {
     "name": "stdout",
     "output_type": "stream",
     "text": [
      "Epoch:339/500.. Train Loss: 0.048.. Val Loss: 0.114.. Test Loss: 0.056.. Time: 0.17m\n"
     ]
    },
    {
     "name": "stderr",
     "output_type": "stream",
     "text": [
      "100%|██████████| 238/238 [00:09<00:00, 24.48it/s]\n",
      "100%|██████████| 85/85 [00:00<00:00, 183.83it/s]\n",
      "100%|██████████| 17/17 [00:00<00:00, 184.09it/s]\n"
     ]
    },
    {
     "name": "stdout",
     "output_type": "stream",
     "text": [
      "Epoch:340/500.. Train Loss: 0.049.. Val Loss: 0.116.. Test Loss: 0.055.. Time: 0.17m\n"
     ]
    },
    {
     "name": "stderr",
     "output_type": "stream",
     "text": [
      "100%|██████████| 238/238 [00:09<00:00, 24.14it/s]\n",
      "100%|██████████| 85/85 [00:00<00:00, 183.28it/s]\n",
      "100%|██████████| 17/17 [00:00<00:00, 182.33it/s]\n"
     ]
    },
    {
     "name": "stdout",
     "output_type": "stream",
     "text": [
      "Epoch:341/500.. Train Loss: 0.049.. Val Loss: 0.118.. Test Loss: 0.055.. Time: 0.17m\n"
     ]
    },
    {
     "name": "stderr",
     "output_type": "stream",
     "text": [
      "100%|██████████| 238/238 [00:09<00:00, 24.35it/s]\n",
      "100%|██████████| 85/85 [00:00<00:00, 179.13it/s]\n",
      "100%|██████████| 17/17 [00:00<00:00, 182.04it/s]\n"
     ]
    },
    {
     "name": "stdout",
     "output_type": "stream",
     "text": [
      "Epoch:342/500.. Train Loss: 0.048.. Val Loss: 0.119.. Test Loss: 0.055.. Time: 0.17m\n"
     ]
    },
    {
     "name": "stderr",
     "output_type": "stream",
     "text": [
      "100%|██████████| 238/238 [00:09<00:00, 24.44it/s]\n",
      "100%|██████████| 85/85 [00:00<00:00, 178.20it/s]\n",
      "100%|██████████| 17/17 [00:00<00:00, 183.11it/s]\n"
     ]
    },
    {
     "name": "stdout",
     "output_type": "stream",
     "text": [
      "Epoch:343/500.. Train Loss: 0.050.. Val Loss: 0.116.. Test Loss: 0.054.. Time: 0.17m\n"
     ]
    },
    {
     "name": "stderr",
     "output_type": "stream",
     "text": [
      "100%|██████████| 238/238 [00:09<00:00, 24.48it/s]\n",
      "100%|██████████| 85/85 [00:00<00:00, 181.56it/s]\n",
      "100%|██████████| 17/17 [00:00<00:00, 160.69it/s]\n"
     ]
    },
    {
     "name": "stdout",
     "output_type": "stream",
     "text": [
      "Epoch:344/500.. Train Loss: 0.050.. Val Loss: 0.116.. Test Loss: 0.055.. Time: 0.17m\n"
     ]
    },
    {
     "name": "stderr",
     "output_type": "stream",
     "text": [
      "100%|██████████| 238/238 [00:09<00:00, 24.09it/s]\n",
      "100%|██████████| 85/85 [00:00<00:00, 178.94it/s]\n",
      "100%|██████████| 17/17 [00:00<00:00, 181.95it/s]\n"
     ]
    },
    {
     "name": "stdout",
     "output_type": "stream",
     "text": [
      "Epoch:345/500.. Train Loss: 0.048.. Val Loss: 0.115.. Test Loss: 0.055.. Time: 0.17m\n"
     ]
    },
    {
     "name": "stderr",
     "output_type": "stream",
     "text": [
      "100%|██████████| 238/238 [00:09<00:00, 24.47it/s]\n",
      "100%|██████████| 85/85 [00:00<00:00, 184.35it/s]\n",
      "100%|██████████| 17/17 [00:00<00:00, 183.53it/s]\n"
     ]
    },
    {
     "name": "stdout",
     "output_type": "stream",
     "text": [
      "Epoch:346/500.. Train Loss: 0.050.. Val Loss: 0.114.. Test Loss: 0.055.. Time: 0.17m\n"
     ]
    },
    {
     "name": "stderr",
     "output_type": "stream",
     "text": [
      "100%|██████████| 238/238 [00:09<00:00, 24.72it/s]\n",
      "100%|██████████| 85/85 [00:00<00:00, 182.60it/s]\n",
      "100%|██████████| 17/17 [00:00<00:00, 170.15it/s]\n"
     ]
    },
    {
     "name": "stdout",
     "output_type": "stream",
     "text": [
      "Epoch:347/500.. Train Loss: 0.049.. Val Loss: 0.114.. Test Loss: 0.054.. Time: 0.17m\n"
     ]
    },
    {
     "name": "stderr",
     "output_type": "stream",
     "text": [
      "100%|██████████| 238/238 [00:09<00:00, 24.40it/s]\n",
      "100%|██████████| 85/85 [00:00<00:00, 185.29it/s]\n",
      "100%|██████████| 17/17 [00:00<00:00, 181.83it/s]\n"
     ]
    },
    {
     "name": "stdout",
     "output_type": "stream",
     "text": [
      "Epoch:348/500.. Train Loss: 0.048.. Val Loss: 0.117.. Test Loss: 0.056.. Time: 0.17m\n"
     ]
    },
    {
     "name": "stderr",
     "output_type": "stream",
     "text": [
      "100%|██████████| 238/238 [00:09<00:00, 24.03it/s]\n",
      "100%|██████████| 85/85 [00:00<00:00, 181.84it/s]\n",
      "100%|██████████| 17/17 [00:00<00:00, 182.87it/s]\n"
     ]
    },
    {
     "name": "stdout",
     "output_type": "stream",
     "text": [
      "Epoch:349/500.. Train Loss: 0.048.. Val Loss: 0.118.. Test Loss: 0.057.. Time: 0.17m\n"
     ]
    },
    {
     "name": "stderr",
     "output_type": "stream",
     "text": [
      "100%|██████████| 238/238 [00:09<00:00, 24.56it/s]\n",
      "100%|██████████| 85/85 [00:00<00:00, 184.33it/s]\n",
      "100%|██████████| 17/17 [00:00<00:00, 180.83it/s]\n"
     ]
    },
    {
     "name": "stdout",
     "output_type": "stream",
     "text": [
      "Epoch:350/500.. Train Loss: 0.049.. Val Loss: 0.117.. Test Loss: 0.058.. Time: 0.17m\n"
     ]
    },
    {
     "name": "stderr",
     "output_type": "stream",
     "text": [
      "100%|██████████| 238/238 [00:09<00:00, 24.30it/s]\n",
      "100%|██████████| 85/85 [00:00<00:00, 182.82it/s]\n",
      "100%|██████████| 17/17 [00:00<00:00, 180.69it/s]\n"
     ]
    },
    {
     "name": "stdout",
     "output_type": "stream",
     "text": [
      "Epoch:351/500.. Train Loss: 0.048.. Val Loss: 0.117.. Test Loss: 0.061.. Time: 0.17m\n"
     ]
    },
    {
     "name": "stderr",
     "output_type": "stream",
     "text": [
      "100%|██████████| 238/238 [00:09<00:00, 24.43it/s]\n",
      "100%|██████████| 85/85 [00:00<00:00, 182.26it/s]\n",
      "100%|██████████| 17/17 [00:00<00:00, 180.97it/s]\n"
     ]
    },
    {
     "name": "stdout",
     "output_type": "stream",
     "text": [
      "Epoch:352/500.. Train Loss: 0.049.. Val Loss: 0.116.. Test Loss: 0.056.. Time: 0.17m\n"
     ]
    },
    {
     "name": "stderr",
     "output_type": "stream",
     "text": [
      "100%|██████████| 238/238 [00:09<00:00, 24.19it/s]\n",
      "100%|██████████| 85/85 [00:00<00:00, 175.21it/s]\n",
      "100%|██████████| 17/17 [00:00<00:00, 180.44it/s]\n"
     ]
    },
    {
     "name": "stdout",
     "output_type": "stream",
     "text": [
      "Epoch:353/500.. Train Loss: 0.049.. Val Loss: 0.118.. Test Loss: 0.058.. Time: 0.17m\n"
     ]
    },
    {
     "name": "stderr",
     "output_type": "stream",
     "text": [
      "100%|██████████| 238/238 [00:09<00:00, 24.38it/s]\n",
      "100%|██████████| 85/85 [00:00<00:00, 181.50it/s]\n",
      "100%|██████████| 17/17 [00:00<00:00, 182.95it/s]\n"
     ]
    },
    {
     "name": "stdout",
     "output_type": "stream",
     "text": [
      "Epoch:354/500.. Train Loss: 0.048.. Val Loss: 0.117.. Test Loss: 0.057.. Time: 0.17m\n"
     ]
    },
    {
     "name": "stderr",
     "output_type": "stream",
     "text": [
      "100%|██████████| 238/238 [00:09<00:00, 24.29it/s]\n",
      "100%|██████████| 85/85 [00:00<00:00, 178.69it/s]\n",
      "100%|██████████| 17/17 [00:00<00:00, 172.33it/s]\n"
     ]
    },
    {
     "name": "stdout",
     "output_type": "stream",
     "text": [
      "Epoch:355/500.. Train Loss: 0.048.. Val Loss: 0.115.. Test Loss: 0.057.. Time: 0.17m\n"
     ]
    },
    {
     "name": "stderr",
     "output_type": "stream",
     "text": [
      "100%|██████████| 238/238 [00:08<00:00, 29.42it/s]\n",
      "100%|██████████| 85/85 [00:00<00:00, 181.12it/s]\n",
      "100%|██████████| 17/17 [00:00<00:00, 184.07it/s]\n"
     ]
    },
    {
     "name": "stdout",
     "output_type": "stream",
     "text": [
      "Epoch:356/500.. Train Loss: 0.049.. Val Loss: 0.116.. Test Loss: 0.056.. Time: 0.14m\n"
     ]
    },
    {
     "name": "stderr",
     "output_type": "stream",
     "text": [
      "100%|██████████| 238/238 [00:09<00:00, 25.93it/s]\n",
      "100%|██████████| 85/85 [00:00<00:00, 183.85it/s]\n",
      "100%|██████████| 17/17 [00:00<00:00, 183.10it/s]\n"
     ]
    },
    {
     "name": "stdout",
     "output_type": "stream",
     "text": [
      "Epoch:357/500.. Train Loss: 0.047.. Val Loss: 0.119.. Test Loss: 0.058.. Time: 0.16m\n"
     ]
    },
    {
     "name": "stderr",
     "output_type": "stream",
     "text": [
      "100%|██████████| 238/238 [00:09<00:00, 24.34it/s]\n",
      "100%|██████████| 85/85 [00:00<00:00, 181.54it/s]\n",
      "100%|██████████| 17/17 [00:00<00:00, 181.38it/s]\n"
     ]
    },
    {
     "name": "stdout",
     "output_type": "stream",
     "text": [
      "Epoch:358/500.. Train Loss: 0.048.. Val Loss: 0.117.. Test Loss: 0.058.. Time: 0.17m\n"
     ]
    },
    {
     "name": "stderr",
     "output_type": "stream",
     "text": [
      "100%|██████████| 238/238 [00:09<00:00, 24.49it/s]\n",
      "100%|██████████| 85/85 [00:00<00:00, 182.86it/s]\n",
      "100%|██████████| 17/17 [00:00<00:00, 182.46it/s]\n"
     ]
    },
    {
     "name": "stdout",
     "output_type": "stream",
     "text": [
      "Epoch:359/500.. Train Loss: 0.049.. Val Loss: 0.115.. Test Loss: 0.055.. Time: 0.17m\n"
     ]
    },
    {
     "name": "stderr",
     "output_type": "stream",
     "text": [
      "100%|██████████| 238/238 [00:09<00:00, 24.36it/s]\n",
      "100%|██████████| 85/85 [00:00<00:00, 167.71it/s]\n",
      "100%|██████████| 17/17 [00:00<00:00, 170.00it/s]\n"
     ]
    },
    {
     "name": "stdout",
     "output_type": "stream",
     "text": [
      "Epoch:360/500.. Train Loss: 0.047.. Val Loss: 0.116.. Test Loss: 0.056.. Time: 0.17m\n"
     ]
    },
    {
     "name": "stderr",
     "output_type": "stream",
     "text": [
      "100%|██████████| 238/238 [00:09<00:00, 24.01it/s]\n",
      "100%|██████████| 85/85 [00:00<00:00, 178.35it/s]\n",
      "100%|██████████| 17/17 [00:00<00:00, 155.86it/s]\n"
     ]
    },
    {
     "name": "stdout",
     "output_type": "stream",
     "text": [
      "Epoch:361/500.. Train Loss: 0.048.. Val Loss: 0.117.. Test Loss: 0.057.. Time: 0.18m\n"
     ]
    },
    {
     "name": "stderr",
     "output_type": "stream",
     "text": [
      "100%|██████████| 238/238 [00:09<00:00, 24.37it/s]\n",
      "100%|██████████| 85/85 [00:00<00:00, 183.23it/s]\n",
      "100%|██████████| 17/17 [00:00<00:00, 178.52it/s]\n"
     ]
    },
    {
     "name": "stdout",
     "output_type": "stream",
     "text": [
      "Epoch:362/500.. Train Loss: 0.048.. Val Loss: 0.117.. Test Loss: 0.054.. Time: 0.17m\n"
     ]
    },
    {
     "name": "stderr",
     "output_type": "stream",
     "text": [
      "100%|██████████| 238/238 [00:09<00:00, 24.65it/s]\n",
      "100%|██████████| 85/85 [00:00<00:00, 183.56it/s]\n",
      "100%|██████████| 17/17 [00:00<00:00, 183.15it/s]\n"
     ]
    },
    {
     "name": "stdout",
     "output_type": "stream",
     "text": [
      "Epoch:363/500.. Train Loss: 0.049.. Val Loss: 0.116.. Test Loss: 0.055.. Time: 0.17m\n"
     ]
    },
    {
     "name": "stderr",
     "output_type": "stream",
     "text": [
      "100%|██████████| 238/238 [00:09<00:00, 24.50it/s]\n",
      "100%|██████████| 85/85 [00:00<00:00, 184.03it/s]\n",
      "100%|██████████| 17/17 [00:00<00:00, 184.10it/s]\n"
     ]
    },
    {
     "name": "stdout",
     "output_type": "stream",
     "text": [
      "Epoch:364/500.. Train Loss: 0.048.. Val Loss: 0.117.. Test Loss: 0.056.. Time: 0.17m\n"
     ]
    },
    {
     "name": "stderr",
     "output_type": "stream",
     "text": [
      "100%|██████████| 238/238 [00:09<00:00, 24.00it/s]\n",
      "100%|██████████| 85/85 [00:00<00:00, 184.61it/s]\n",
      "100%|██████████| 17/17 [00:00<00:00, 182.25it/s]\n"
     ]
    },
    {
     "name": "stdout",
     "output_type": "stream",
     "text": [
      "Epoch:365/500.. Train Loss: 0.047.. Val Loss: 0.116.. Test Loss: 0.055.. Time: 0.17m\n"
     ]
    },
    {
     "name": "stderr",
     "output_type": "stream",
     "text": [
      "100%|██████████| 238/238 [00:09<00:00, 24.44it/s]\n",
      "100%|██████████| 85/85 [00:00<00:00, 180.72it/s]\n",
      "100%|██████████| 17/17 [00:00<00:00, 180.17it/s]\n"
     ]
    },
    {
     "name": "stdout",
     "output_type": "stream",
     "text": [
      "Epoch:366/500.. Train Loss: 0.048.. Val Loss: 0.116.. Test Loss: 0.057.. Time: 0.17m\n"
     ]
    },
    {
     "name": "stderr",
     "output_type": "stream",
     "text": [
      "100%|██████████| 238/238 [00:09<00:00, 24.45it/s]\n",
      "100%|██████████| 85/85 [00:00<00:00, 181.12it/s]\n",
      "100%|██████████| 17/17 [00:00<00:00, 178.23it/s]\n"
     ]
    },
    {
     "name": "stdout",
     "output_type": "stream",
     "text": [
      "Epoch:367/500.. Train Loss: 0.048.. Val Loss: 0.117.. Test Loss: 0.060.. Time: 0.17m\n"
     ]
    },
    {
     "name": "stderr",
     "output_type": "stream",
     "text": [
      "100%|██████████| 238/238 [00:09<00:00, 24.42it/s]\n",
      "100%|██████████| 85/85 [00:00<00:00, 181.17it/s]\n",
      "100%|██████████| 17/17 [00:00<00:00, 183.27it/s]\n"
     ]
    },
    {
     "name": "stdout",
     "output_type": "stream",
     "text": [
      "Epoch:368/500.. Train Loss: 0.047.. Val Loss: 0.118.. Test Loss: 0.058.. Time: 0.17m\n"
     ]
    },
    {
     "name": "stderr",
     "output_type": "stream",
     "text": [
      "100%|██████████| 238/238 [00:09<00:00, 24.29it/s]\n",
      "100%|██████████| 85/85 [00:00<00:00, 181.98it/s]\n",
      "100%|██████████| 17/17 [00:00<00:00, 180.98it/s]\n"
     ]
    },
    {
     "name": "stdout",
     "output_type": "stream",
     "text": [
      "Epoch:369/500.. Train Loss: 0.048.. Val Loss: 0.117.. Test Loss: 0.058.. Time: 0.17m\n"
     ]
    },
    {
     "name": "stderr",
     "output_type": "stream",
     "text": [
      "100%|██████████| 238/238 [00:09<00:00, 24.54it/s]\n",
      "100%|██████████| 85/85 [00:00<00:00, 182.19it/s]\n",
      "100%|██████████| 17/17 [00:00<00:00, 180.06it/s]\n"
     ]
    },
    {
     "name": "stdout",
     "output_type": "stream",
     "text": [
      "Epoch:370/500.. Train Loss: 0.047.. Val Loss: 0.119.. Test Loss: 0.056.. Time: 0.17m\n"
     ]
    },
    {
     "name": "stderr",
     "output_type": "stream",
     "text": [
      "100%|██████████| 238/238 [00:09<00:00, 24.37it/s]\n",
      "100%|██████████| 85/85 [00:00<00:00, 178.44it/s]\n",
      "100%|██████████| 17/17 [00:00<00:00, 165.93it/s]\n"
     ]
    },
    {
     "name": "stdout",
     "output_type": "stream",
     "text": [
      "Epoch:371/500.. Train Loss: 0.048.. Val Loss: 0.118.. Test Loss: 0.058.. Time: 0.17m\n"
     ]
    },
    {
     "name": "stderr",
     "output_type": "stream",
     "text": [
      "100%|██████████| 238/238 [00:09<00:00, 24.38it/s]\n",
      "100%|██████████| 85/85 [00:00<00:00, 176.74it/s]\n",
      "100%|██████████| 17/17 [00:00<00:00, 175.70it/s]\n"
     ]
    },
    {
     "name": "stdout",
     "output_type": "stream",
     "text": [
      "Epoch:372/500.. Train Loss: 0.047.. Val Loss: 0.118.. Test Loss: 0.059.. Time: 0.17m\n"
     ]
    },
    {
     "name": "stderr",
     "output_type": "stream",
     "text": [
      "100%|██████████| 238/238 [00:09<00:00, 24.00it/s]\n",
      "100%|██████████| 85/85 [00:00<00:00, 179.72it/s]\n",
      "100%|██████████| 17/17 [00:00<00:00, 174.79it/s]\n"
     ]
    },
    {
     "name": "stdout",
     "output_type": "stream",
     "text": [
      "Epoch:373/500.. Train Loss: 0.047.. Val Loss: 0.119.. Test Loss: 0.058.. Time: 0.17m\n"
     ]
    },
    {
     "name": "stderr",
     "output_type": "stream",
     "text": [
      "100%|██████████| 238/238 [00:09<00:00, 24.54it/s]\n",
      "100%|██████████| 85/85 [00:00<00:00, 184.08it/s]\n",
      "100%|██████████| 17/17 [00:00<00:00, 182.15it/s]\n"
     ]
    },
    {
     "name": "stdout",
     "output_type": "stream",
     "text": [
      "Epoch:374/500.. Train Loss: 0.048.. Val Loss: 0.119.. Test Loss: 0.059.. Time: 0.17m\n"
     ]
    },
    {
     "name": "stderr",
     "output_type": "stream",
     "text": [
      "100%|██████████| 238/238 [00:09<00:00, 24.39it/s]\n",
      "100%|██████████| 85/85 [00:00<00:00, 182.90it/s]\n",
      "100%|██████████| 17/17 [00:00<00:00, 182.57it/s]\n"
     ]
    },
    {
     "name": "stdout",
     "output_type": "stream",
     "text": [
      "Epoch:375/500.. Train Loss: 0.046.. Val Loss: 0.120.. Test Loss: 0.059.. Time: 0.17m\n"
     ]
    },
    {
     "name": "stderr",
     "output_type": "stream",
     "text": [
      "100%|██████████| 238/238 [00:09<00:00, 24.46it/s]\n",
      "100%|██████████| 85/85 [00:00<00:00, 183.49it/s]\n",
      "100%|██████████| 17/17 [00:00<00:00, 181.39it/s]\n"
     ]
    },
    {
     "name": "stdout",
     "output_type": "stream",
     "text": [
      "Epoch:376/500.. Train Loss: 0.049.. Val Loss: 0.119.. Test Loss: 0.056.. Time: 0.17m\n"
     ]
    },
    {
     "name": "stderr",
     "output_type": "stream",
     "text": [
      "100%|██████████| 238/238 [00:09<00:00, 24.27it/s]\n",
      "100%|██████████| 85/85 [00:00<00:00, 182.13it/s]\n",
      "100%|██████████| 17/17 [00:00<00:00, 184.38it/s]\n"
     ]
    },
    {
     "name": "stdout",
     "output_type": "stream",
     "text": [
      "Epoch:377/500.. Train Loss: 0.048.. Val Loss: 0.117.. Test Loss: 0.056.. Time: 0.17m\n"
     ]
    },
    {
     "name": "stderr",
     "output_type": "stream",
     "text": [
      "100%|██████████| 238/238 [00:09<00:00, 24.15it/s]\n",
      "100%|██████████| 85/85 [00:00<00:00, 179.49it/s]\n",
      "100%|██████████| 17/17 [00:00<00:00, 177.64it/s]\n"
     ]
    },
    {
     "name": "stdout",
     "output_type": "stream",
     "text": [
      "Epoch:378/500.. Train Loss: 0.048.. Val Loss: 0.118.. Test Loss: 0.058.. Time: 0.17m\n"
     ]
    },
    {
     "name": "stderr",
     "output_type": "stream",
     "text": [
      "100%|██████████| 238/238 [00:09<00:00, 24.72it/s]\n",
      "100%|██████████| 85/85 [00:00<00:00, 182.59it/s]\n",
      "100%|██████████| 17/17 [00:00<00:00, 166.69it/s]\n"
     ]
    },
    {
     "name": "stdout",
     "output_type": "stream",
     "text": [
      "Epoch:379/500.. Train Loss: 0.048.. Val Loss: 0.118.. Test Loss: 0.058.. Time: 0.17m\n"
     ]
    },
    {
     "name": "stderr",
     "output_type": "stream",
     "text": [
      "100%|██████████| 238/238 [00:09<00:00, 24.31it/s]\n",
      "100%|██████████| 85/85 [00:00<00:00, 184.29it/s]\n",
      "100%|██████████| 17/17 [00:00<00:00, 184.34it/s]\n"
     ]
    },
    {
     "name": "stdout",
     "output_type": "stream",
     "text": [
      "Epoch:380/500.. Train Loss: 0.048.. Val Loss: 0.115.. Test Loss: 0.058.. Time: 0.17m\n"
     ]
    },
    {
     "name": "stderr",
     "output_type": "stream",
     "text": [
      "100%|██████████| 238/238 [00:09<00:00, 24.06it/s]\n",
      "100%|██████████| 85/85 [00:00<00:00, 184.04it/s]\n",
      "100%|██████████| 17/17 [00:00<00:00, 183.18it/s]\n"
     ]
    },
    {
     "name": "stdout",
     "output_type": "stream",
     "text": [
      "Epoch:381/500.. Train Loss: 0.047.. Val Loss: 0.119.. Test Loss: 0.059.. Time: 0.17m\n"
     ]
    },
    {
     "name": "stderr",
     "output_type": "stream",
     "text": [
      "100%|██████████| 238/238 [00:09<00:00, 24.32it/s]\n",
      "100%|██████████| 85/85 [00:00<00:00, 183.73it/s]\n",
      "100%|██████████| 17/17 [00:00<00:00, 184.29it/s]\n"
     ]
    },
    {
     "name": "stdout",
     "output_type": "stream",
     "text": [
      "Epoch:382/500.. Train Loss: 0.047.. Val Loss: 0.118.. Test Loss: 0.059.. Time: 0.17m\n"
     ]
    },
    {
     "name": "stderr",
     "output_type": "stream",
     "text": [
      "100%|██████████| 238/238 [00:09<00:00, 24.38it/s]\n",
      "100%|██████████| 85/85 [00:00<00:00, 182.95it/s]\n",
      "100%|██████████| 17/17 [00:00<00:00, 184.80it/s]\n"
     ]
    },
    {
     "name": "stdout",
     "output_type": "stream",
     "text": [
      "Epoch:383/500.. Train Loss: 0.047.. Val Loss: 0.119.. Test Loss: 0.058.. Time: 0.17m\n"
     ]
    },
    {
     "name": "stderr",
     "output_type": "stream",
     "text": [
      "100%|██████████| 238/238 [00:09<00:00, 24.29it/s]\n",
      "100%|██████████| 85/85 [00:00<00:00, 181.17it/s]\n",
      "100%|██████████| 17/17 [00:00<00:00, 181.90it/s]\n"
     ]
    },
    {
     "name": "stdout",
     "output_type": "stream",
     "text": [
      "Epoch:384/500.. Train Loss: 0.047.. Val Loss: 0.117.. Test Loss: 0.059.. Time: 0.17m\n"
     ]
    },
    {
     "name": "stderr",
     "output_type": "stream",
     "text": [
      "100%|██████████| 238/238 [00:09<00:00, 24.29it/s]\n",
      "100%|██████████| 85/85 [00:00<00:00, 179.41it/s]\n",
      "100%|██████████| 17/17 [00:00<00:00, 174.81it/s]\n"
     ]
    },
    {
     "name": "stdout",
     "output_type": "stream",
     "text": [
      "Epoch:385/500.. Train Loss: 0.048.. Val Loss: 0.117.. Test Loss: 0.058.. Time: 0.17m\n"
     ]
    },
    {
     "name": "stderr",
     "output_type": "stream",
     "text": [
      "100%|██████████| 238/238 [00:09<00:00, 24.36it/s]\n",
      "100%|██████████| 85/85 [00:00<00:00, 181.90it/s]\n",
      "100%|██████████| 17/17 [00:00<00:00, 180.67it/s]\n"
     ]
    },
    {
     "name": "stdout",
     "output_type": "stream",
     "text": [
      "Epoch:386/500.. Train Loss: 0.047.. Val Loss: 0.118.. Test Loss: 0.059.. Time: 0.17m\n"
     ]
    },
    {
     "name": "stderr",
     "output_type": "stream",
     "text": [
      "100%|██████████| 238/238 [00:09<00:00, 25.01it/s]\n",
      "100%|██████████| 85/85 [00:00<00:00, 180.15it/s]\n",
      "100%|██████████| 17/17 [00:00<00:00, 182.02it/s]\n"
     ]
    },
    {
     "name": "stdout",
     "output_type": "stream",
     "text": [
      "Epoch:387/500.. Train Loss: 0.047.. Val Loss: 0.117.. Test Loss: 0.058.. Time: 0.17m\n"
     ]
    },
    {
     "name": "stderr",
     "output_type": "stream",
     "text": [
      "100%|██████████| 238/238 [00:09<00:00, 24.66it/s]\n",
      "100%|██████████| 85/85 [00:00<00:00, 183.09it/s]\n",
      "100%|██████████| 17/17 [00:00<00:00, 183.27it/s]\n"
     ]
    },
    {
     "name": "stdout",
     "output_type": "stream",
     "text": [
      "Epoch:388/500.. Train Loss: 0.048.. Val Loss: 0.119.. Test Loss: 0.059.. Time: 0.17m\n"
     ]
    },
    {
     "name": "stderr",
     "output_type": "stream",
     "text": [
      "100%|██████████| 238/238 [00:09<00:00, 24.76it/s]\n",
      "100%|██████████| 85/85 [00:00<00:00, 183.87it/s]\n",
      "100%|██████████| 17/17 [00:00<00:00, 182.94it/s]\n"
     ]
    },
    {
     "name": "stdout",
     "output_type": "stream",
     "text": [
      "Epoch:389/500.. Train Loss: 0.047.. Val Loss: 0.120.. Test Loss: 0.060.. Time: 0.17m\n"
     ]
    },
    {
     "name": "stderr",
     "output_type": "stream",
     "text": [
      "100%|██████████| 238/238 [00:09<00:00, 24.34it/s]\n",
      "100%|██████████| 85/85 [00:00<00:00, 173.90it/s]\n",
      "100%|██████████| 17/17 [00:00<00:00, 181.35it/s]\n"
     ]
    },
    {
     "name": "stdout",
     "output_type": "stream",
     "text": [
      "Epoch:390/500.. Train Loss: 0.047.. Val Loss: 0.118.. Test Loss: 0.059.. Time: 0.17m\n"
     ]
    },
    {
     "name": "stderr",
     "output_type": "stream",
     "text": [
      "100%|██████████| 238/238 [00:09<00:00, 24.37it/s]\n",
      "100%|██████████| 85/85 [00:00<00:00, 179.04it/s]\n",
      "100%|██████████| 17/17 [00:00<00:00, 182.27it/s]\n"
     ]
    },
    {
     "name": "stdout",
     "output_type": "stream",
     "text": [
      "Epoch:391/500.. Train Loss: 0.047.. Val Loss: 0.119.. Test Loss: 0.060.. Time: 0.17m\n"
     ]
    },
    {
     "name": "stderr",
     "output_type": "stream",
     "text": [
      "100%|██████████| 238/238 [00:09<00:00, 24.55it/s]\n",
      "100%|██████████| 85/85 [00:00<00:00, 182.22it/s]\n",
      "100%|██████████| 17/17 [00:00<00:00, 182.09it/s]\n"
     ]
    },
    {
     "name": "stdout",
     "output_type": "stream",
     "text": [
      "Epoch:392/500.. Train Loss: 0.049.. Val Loss: 0.117.. Test Loss: 0.058.. Time: 0.17m\n"
     ]
    },
    {
     "name": "stderr",
     "output_type": "stream",
     "text": [
      "100%|██████████| 238/238 [00:09<00:00, 24.06it/s]\n",
      "100%|██████████| 85/85 [00:00<00:00, 177.66it/s]\n",
      "100%|██████████| 17/17 [00:00<00:00, 182.60it/s]\n"
     ]
    },
    {
     "name": "stdout",
     "output_type": "stream",
     "text": [
      "Epoch:393/500.. Train Loss: 0.047.. Val Loss: 0.117.. Test Loss: 0.059.. Time: 0.17m\n"
     ]
    },
    {
     "name": "stderr",
     "output_type": "stream",
     "text": [
      "100%|██████████| 238/238 [00:09<00:00, 24.41it/s]\n",
      "100%|██████████| 85/85 [00:00<00:00, 184.50it/s]\n",
      "100%|██████████| 17/17 [00:00<00:00, 183.46it/s]\n"
     ]
    },
    {
     "name": "stdout",
     "output_type": "stream",
     "text": [
      "Epoch:394/500.. Train Loss: 0.047.. Val Loss: 0.119.. Test Loss: 0.060.. Time: 0.17m\n"
     ]
    },
    {
     "name": "stderr",
     "output_type": "stream",
     "text": [
      "100%|██████████| 238/238 [00:09<00:00, 24.53it/s]\n",
      "100%|██████████| 85/85 [00:00<00:00, 182.21it/s]\n",
      "100%|██████████| 17/17 [00:00<00:00, 163.89it/s]\n"
     ]
    },
    {
     "name": "stdout",
     "output_type": "stream",
     "text": [
      "Epoch:395/500.. Train Loss: 0.047.. Val Loss: 0.117.. Test Loss: 0.059.. Time: 0.17m\n"
     ]
    },
    {
     "name": "stderr",
     "output_type": "stream",
     "text": [
      "100%|██████████| 238/238 [00:09<00:00, 24.43it/s]\n",
      "100%|██████████| 85/85 [00:00<00:00, 179.51it/s]\n",
      "100%|██████████| 17/17 [00:00<00:00, 172.94it/s]\n"
     ]
    },
    {
     "name": "stdout",
     "output_type": "stream",
     "text": [
      "Epoch:396/500.. Train Loss: 0.046.. Val Loss: 0.119.. Test Loss: 0.061.. Time: 0.17m\n"
     ]
    },
    {
     "name": "stderr",
     "output_type": "stream",
     "text": [
      "100%|██████████| 238/238 [00:09<00:00, 23.99it/s]\n",
      "100%|██████████| 85/85 [00:00<00:00, 183.11it/s]\n",
      "100%|██████████| 17/17 [00:00<00:00, 183.25it/s]\n"
     ]
    },
    {
     "name": "stdout",
     "output_type": "stream",
     "text": [
      "Epoch:397/500.. Train Loss: 0.046.. Val Loss: 0.119.. Test Loss: 0.061.. Time: 0.17m\n"
     ]
    },
    {
     "name": "stderr",
     "output_type": "stream",
     "text": [
      "100%|██████████| 238/238 [00:09<00:00, 24.53it/s]\n",
      "100%|██████████| 85/85 [00:00<00:00, 180.52it/s]\n",
      "100%|██████████| 17/17 [00:00<00:00, 181.48it/s]\n"
     ]
    },
    {
     "name": "stdout",
     "output_type": "stream",
     "text": [
      "Epoch:398/500.. Train Loss: 0.048.. Val Loss: 0.119.. Test Loss: 0.060.. Time: 0.17m\n"
     ]
    },
    {
     "name": "stderr",
     "output_type": "stream",
     "text": [
      "100%|██████████| 238/238 [00:09<00:00, 24.37it/s]\n",
      "100%|██████████| 85/85 [00:00<00:00, 184.16it/s]\n",
      "100%|██████████| 17/17 [00:00<00:00, 181.81it/s]\n"
     ]
    },
    {
     "name": "stdout",
     "output_type": "stream",
     "text": [
      "Epoch:399/500.. Train Loss: 0.047.. Val Loss: 0.119.. Test Loss: 0.059.. Time: 0.17m\n"
     ]
    },
    {
     "name": "stderr",
     "output_type": "stream",
     "text": [
      "100%|██████████| 238/238 [00:09<00:00, 24.42it/s]\n",
      "100%|██████████| 85/85 [00:00<00:00, 182.31it/s]\n",
      "100%|██████████| 17/17 [00:00<00:00, 183.72it/s]\n"
     ]
    },
    {
     "name": "stdout",
     "output_type": "stream",
     "text": [
      "Epoch:400/500.. Train Loss: 0.047.. Val Loss: 0.120.. Test Loss: 0.060.. Time: 0.17m\n"
     ]
    },
    {
     "name": "stderr",
     "output_type": "stream",
     "text": [
      "100%|██████████| 238/238 [00:09<00:00, 24.04it/s]\n",
      "100%|██████████| 85/85 [00:00<00:00, 183.82it/s]\n",
      "100%|██████████| 17/17 [00:00<00:00, 180.49it/s]\n"
     ]
    },
    {
     "name": "stdout",
     "output_type": "stream",
     "text": [
      "Epoch:401/500.. Train Loss: 0.048.. Val Loss: 0.119.. Test Loss: 0.059.. Time: 0.17m\n"
     ]
    },
    {
     "name": "stderr",
     "output_type": "stream",
     "text": [
      "100%|██████████| 238/238 [00:09<00:00, 24.35it/s]\n",
      "100%|██████████| 85/85 [00:00<00:00, 184.47it/s]\n",
      "100%|██████████| 17/17 [00:00<00:00, 184.69it/s]\n"
     ]
    },
    {
     "name": "stdout",
     "output_type": "stream",
     "text": [
      "Epoch:402/500.. Train Loss: 0.050.. Val Loss: 0.118.. Test Loss: 0.059.. Time: 0.17m\n"
     ]
    },
    {
     "name": "stderr",
     "output_type": "stream",
     "text": [
      "100%|██████████| 238/238 [00:09<00:00, 24.49it/s]\n",
      "100%|██████████| 85/85 [00:00<00:00, 184.08it/s]\n",
      "100%|██████████| 17/17 [00:00<00:00, 184.06it/s]\n"
     ]
    },
    {
     "name": "stdout",
     "output_type": "stream",
     "text": [
      "Epoch:403/500.. Train Loss: 0.047.. Val Loss: 0.116.. Test Loss: 0.057.. Time: 0.17m\n"
     ]
    },
    {
     "name": "stderr",
     "output_type": "stream",
     "text": [
      "100%|██████████| 238/238 [00:09<00:00, 24.36it/s]\n",
      "100%|██████████| 85/85 [00:00<00:00, 179.87it/s]\n",
      "100%|██████████| 17/17 [00:00<00:00, 182.34it/s]\n"
     ]
    },
    {
     "name": "stdout",
     "output_type": "stream",
     "text": [
      "Epoch:404/500.. Train Loss: 0.047.. Val Loss: 0.118.. Test Loss: 0.059.. Time: 0.17m\n"
     ]
    },
    {
     "name": "stderr",
     "output_type": "stream",
     "text": [
      "100%|██████████| 238/238 [00:09<00:00, 24.20it/s]\n",
      "100%|██████████| 85/85 [00:00<00:00, 182.74it/s]\n",
      "100%|██████████| 17/17 [00:00<00:00, 184.83it/s]\n"
     ]
    },
    {
     "name": "stdout",
     "output_type": "stream",
     "text": [
      "Epoch:405/500.. Train Loss: 0.047.. Val Loss: 0.118.. Test Loss: 0.060.. Time: 0.17m\n"
     ]
    },
    {
     "name": "stderr",
     "output_type": "stream",
     "text": [
      "100%|██████████| 238/238 [00:09<00:00, 24.39it/s]\n",
      "100%|██████████| 85/85 [00:00<00:00, 178.46it/s]\n",
      "100%|██████████| 17/17 [00:00<00:00, 174.16it/s]\n"
     ]
    },
    {
     "name": "stdout",
     "output_type": "stream",
     "text": [
      "Epoch:406/500.. Train Loss: 0.046.. Val Loss: 0.117.. Test Loss: 0.059.. Time: 0.17m\n"
     ]
    },
    {
     "name": "stderr",
     "output_type": "stream",
     "text": [
      "100%|██████████| 238/238 [00:09<00:00, 24.44it/s]\n",
      "100%|██████████| 85/85 [00:00<00:00, 181.79it/s]\n",
      "100%|██████████| 17/17 [00:00<00:00, 182.94it/s]\n"
     ]
    },
    {
     "name": "stdout",
     "output_type": "stream",
     "text": [
      "Epoch:407/500.. Train Loss: 0.047.. Val Loss: 0.119.. Test Loss: 0.059.. Time: 0.17m\n"
     ]
    },
    {
     "name": "stderr",
     "output_type": "stream",
     "text": [
      "100%|██████████| 238/238 [00:09<00:00, 24.20it/s]\n",
      "100%|██████████| 85/85 [00:00<00:00, 182.18it/s]\n",
      "100%|██████████| 17/17 [00:00<00:00, 180.96it/s]\n"
     ]
    },
    {
     "name": "stdout",
     "output_type": "stream",
     "text": [
      "Epoch:408/500.. Train Loss: 0.048.. Val Loss: 0.120.. Test Loss: 0.060.. Time: 0.17m\n"
     ]
    },
    {
     "name": "stderr",
     "output_type": "stream",
     "text": [
      "100%|██████████| 238/238 [00:09<00:00, 24.08it/s]\n",
      "100%|██████████| 85/85 [00:00<00:00, 181.05it/s]\n",
      "100%|██████████| 17/17 [00:00<00:00, 179.77it/s]\n"
     ]
    },
    {
     "name": "stdout",
     "output_type": "stream",
     "text": [
      "Epoch:409/500.. Train Loss: 0.048.. Val Loss: 0.122.. Test Loss: 0.061.. Time: 0.17m\n"
     ]
    },
    {
     "name": "stderr",
     "output_type": "stream",
     "text": [
      "100%|██████████| 238/238 [00:09<00:00, 24.36it/s]\n",
      "100%|██████████| 85/85 [00:00<00:00, 184.23it/s]\n",
      "100%|██████████| 17/17 [00:00<00:00, 179.05it/s]\n"
     ]
    },
    {
     "name": "stdout",
     "output_type": "stream",
     "text": [
      "Epoch:410/500.. Train Loss: 0.048.. Val Loss: 0.120.. Test Loss: 0.059.. Time: 0.17m\n"
     ]
    },
    {
     "name": "stderr",
     "output_type": "stream",
     "text": [
      "100%|██████████| 238/238 [00:09<00:00, 24.22it/s]\n",
      "100%|██████████| 85/85 [00:00<00:00, 184.57it/s]\n",
      "100%|██████████| 17/17 [00:00<00:00, 166.30it/s]\n"
     ]
    },
    {
     "name": "stdout",
     "output_type": "stream",
     "text": [
      "Epoch:411/500.. Train Loss: 0.046.. Val Loss: 0.120.. Test Loss: 0.060.. Time: 0.17m\n"
     ]
    },
    {
     "name": "stderr",
     "output_type": "stream",
     "text": [
      "100%|██████████| 238/238 [00:09<00:00, 24.29it/s]\n",
      "100%|██████████| 85/85 [00:00<00:00, 181.12it/s]\n",
      "100%|██████████| 17/17 [00:00<00:00, 182.25it/s]\n"
     ]
    },
    {
     "name": "stdout",
     "output_type": "stream",
     "text": [
      "Epoch:412/500.. Train Loss: 0.046.. Val Loss: 0.120.. Test Loss: 0.059.. Time: 0.17m\n"
     ]
    },
    {
     "name": "stderr",
     "output_type": "stream",
     "text": [
      "100%|██████████| 238/238 [00:09<00:00, 24.13it/s]\n",
      "100%|██████████| 85/85 [00:00<00:00, 178.67it/s]\n",
      "100%|██████████| 17/17 [00:00<00:00, 179.34it/s]\n"
     ]
    },
    {
     "name": "stdout",
     "output_type": "stream",
     "text": [
      "Epoch:413/500.. Train Loss: 0.046.. Val Loss: 0.119.. Test Loss: 0.060.. Time: 0.17m\n"
     ]
    },
    {
     "name": "stderr",
     "output_type": "stream",
     "text": [
      "100%|██████████| 238/238 [00:09<00:00, 24.41it/s]\n",
      "100%|██████████| 85/85 [00:00<00:00, 181.61it/s]\n",
      "100%|██████████| 17/17 [00:00<00:00, 182.39it/s]\n"
     ]
    },
    {
     "name": "stdout",
     "output_type": "stream",
     "text": [
      "Epoch:414/500.. Train Loss: 0.047.. Val Loss: 0.118.. Test Loss: 0.059.. Time: 0.17m\n"
     ]
    },
    {
     "name": "stderr",
     "output_type": "stream",
     "text": [
      "100%|██████████| 238/238 [00:09<00:00, 24.67it/s]\n",
      "100%|██████████| 85/85 [00:00<00:00, 175.89it/s]\n",
      "100%|██████████| 17/17 [00:00<00:00, 183.93it/s]\n"
     ]
    },
    {
     "name": "stdout",
     "output_type": "stream",
     "text": [
      "Epoch:415/500.. Train Loss: 0.046.. Val Loss: 0.120.. Test Loss: 0.060.. Time: 0.17m\n"
     ]
    },
    {
     "name": "stderr",
     "output_type": "stream",
     "text": [
      "100%|██████████| 238/238 [00:09<00:00, 24.42it/s]\n",
      "100%|██████████| 85/85 [00:00<00:00, 181.75it/s]\n",
      "100%|██████████| 17/17 [00:00<00:00, 180.53it/s]\n"
     ]
    },
    {
     "name": "stdout",
     "output_type": "stream",
     "text": [
      "Epoch:416/500.. Train Loss: 0.046.. Val Loss: 0.121.. Test Loss: 0.061.. Time: 0.17m\n"
     ]
    },
    {
     "name": "stderr",
     "output_type": "stream",
     "text": [
      "100%|██████████| 238/238 [00:09<00:00, 24.07it/s]\n",
      "100%|██████████| 85/85 [00:00<00:00, 182.97it/s]\n",
      "100%|██████████| 17/17 [00:00<00:00, 183.94it/s]\n"
     ]
    },
    {
     "name": "stdout",
     "output_type": "stream",
     "text": [
      "Epoch:417/500.. Train Loss: 0.047.. Val Loss: 0.119.. Test Loss: 0.060.. Time: 0.17m\n"
     ]
    },
    {
     "name": "stderr",
     "output_type": "stream",
     "text": [
      "100%|██████████| 238/238 [00:09<00:00, 24.53it/s]\n",
      "100%|██████████| 85/85 [00:00<00:00, 174.19it/s]\n",
      "100%|██████████| 17/17 [00:00<00:00, 182.61it/s]\n"
     ]
    },
    {
     "name": "stdout",
     "output_type": "stream",
     "text": [
      "Epoch:418/500.. Train Loss: 0.047.. Val Loss: 0.118.. Test Loss: 0.060.. Time: 0.17m\n"
     ]
    },
    {
     "name": "stderr",
     "output_type": "stream",
     "text": [
      "100%|██████████| 238/238 [00:09<00:00, 24.49it/s]\n",
      "100%|██████████| 85/85 [00:00<00:00, 177.45it/s]\n",
      "100%|██████████| 17/17 [00:00<00:00, 183.08it/s]\n"
     ]
    },
    {
     "name": "stdout",
     "output_type": "stream",
     "text": [
      "Epoch:419/500.. Train Loss: 0.046.. Val Loss: 0.118.. Test Loss: 0.058.. Time: 0.17m\n"
     ]
    },
    {
     "name": "stderr",
     "output_type": "stream",
     "text": [
      "100%|██████████| 238/238 [00:09<00:00, 24.39it/s]\n",
      "100%|██████████| 85/85 [00:00<00:00, 180.63it/s]\n",
      "100%|██████████| 17/17 [00:00<00:00, 164.44it/s]\n"
     ]
    },
    {
     "name": "stdout",
     "output_type": "stream",
     "text": [
      "Epoch:420/500.. Train Loss: 0.047.. Val Loss: 0.119.. Test Loss: 0.060.. Time: 0.17m\n"
     ]
    },
    {
     "name": "stderr",
     "output_type": "stream",
     "text": [
      "100%|██████████| 238/238 [00:09<00:00, 24.20it/s]\n",
      "100%|██████████| 85/85 [00:00<00:00, 185.32it/s]\n",
      "100%|██████████| 17/17 [00:00<00:00, 170.31it/s]\n"
     ]
    },
    {
     "name": "stdout",
     "output_type": "stream",
     "text": [
      "Epoch:421/500.. Train Loss: 0.047.. Val Loss: 0.118.. Test Loss: 0.059.. Time: 0.17m\n"
     ]
    },
    {
     "name": "stderr",
     "output_type": "stream",
     "text": [
      "100%|██████████| 238/238 [00:09<00:00, 24.26it/s]\n",
      "100%|██████████| 85/85 [00:00<00:00, 175.70it/s]\n",
      "100%|██████████| 17/17 [00:00<00:00, 184.49it/s]\n"
     ]
    },
    {
     "name": "stdout",
     "output_type": "stream",
     "text": [
      "Epoch:422/500.. Train Loss: 0.046.. Val Loss: 0.119.. Test Loss: 0.059.. Time: 0.17m\n"
     ]
    },
    {
     "name": "stderr",
     "output_type": "stream",
     "text": [
      "100%|██████████| 238/238 [00:09<00:00, 24.42it/s]\n",
      "100%|██████████| 85/85 [00:00<00:00, 181.46it/s]\n",
      "100%|██████████| 17/17 [00:00<00:00, 181.99it/s]\n"
     ]
    },
    {
     "name": "stdout",
     "output_type": "stream",
     "text": [
      "Epoch:423/500.. Train Loss: 0.046.. Val Loss: 0.118.. Test Loss: 0.059.. Time: 0.17m\n"
     ]
    },
    {
     "name": "stderr",
     "output_type": "stream",
     "text": [
      "100%|██████████| 238/238 [00:09<00:00, 24.49it/s]\n",
      "100%|██████████| 85/85 [00:00<00:00, 180.88it/s]\n",
      "100%|██████████| 17/17 [00:00<00:00, 183.10it/s]\n"
     ]
    },
    {
     "name": "stdout",
     "output_type": "stream",
     "text": [
      "Epoch:424/500.. Train Loss: 0.047.. Val Loss: 0.118.. Test Loss: 0.059.. Time: 0.17m\n"
     ]
    },
    {
     "name": "stderr",
     "output_type": "stream",
     "text": [
      "100%|██████████| 238/238 [00:09<00:00, 24.12it/s]\n",
      "100%|██████████| 85/85 [00:00<00:00, 183.77it/s]\n",
      "100%|██████████| 17/17 [00:00<00:00, 184.51it/s]\n"
     ]
    },
    {
     "name": "stdout",
     "output_type": "stream",
     "text": [
      "Epoch:425/500.. Train Loss: 0.046.. Val Loss: 0.119.. Test Loss: 0.060.. Time: 0.17m\n"
     ]
    },
    {
     "name": "stderr",
     "output_type": "stream",
     "text": [
      "100%|██████████| 238/238 [00:09<00:00, 24.50it/s]\n",
      "100%|██████████| 85/85 [00:00<00:00, 184.36it/s]\n",
      "100%|██████████| 17/17 [00:00<00:00, 182.52it/s]\n"
     ]
    },
    {
     "name": "stdout",
     "output_type": "stream",
     "text": [
      "Epoch:426/500.. Train Loss: 0.048.. Val Loss: 0.118.. Test Loss: 0.060.. Time: 0.17m\n"
     ]
    },
    {
     "name": "stderr",
     "output_type": "stream",
     "text": [
      "100%|██████████| 238/238 [00:09<00:00, 24.52it/s]\n",
      "100%|██████████| 85/85 [00:00<00:00, 178.75it/s]\n",
      "100%|██████████| 17/17 [00:00<00:00, 181.90it/s]\n"
     ]
    },
    {
     "name": "stdout",
     "output_type": "stream",
     "text": [
      "Epoch:427/500.. Train Loss: 0.046.. Val Loss: 0.118.. Test Loss: 0.060.. Time: 0.17m\n"
     ]
    },
    {
     "name": "stderr",
     "output_type": "stream",
     "text": [
      "100%|██████████| 238/238 [00:09<00:00, 24.57it/s]\n",
      "100%|██████████| 85/85 [00:00<00:00, 184.38it/s]\n",
      "100%|██████████| 17/17 [00:00<00:00, 184.63it/s]\n"
     ]
    },
    {
     "name": "stdout",
     "output_type": "stream",
     "text": [
      "Epoch:428/500.. Train Loss: 0.048.. Val Loss: 0.118.. Test Loss: 0.061.. Time: 0.17m\n"
     ]
    },
    {
     "name": "stderr",
     "output_type": "stream",
     "text": [
      "100%|██████████| 238/238 [00:09<00:00, 24.07it/s]\n",
      "100%|██████████| 85/85 [00:00<00:00, 177.95it/s]\n",
      "100%|██████████| 17/17 [00:00<00:00, 182.12it/s]\n"
     ]
    },
    {
     "name": "stdout",
     "output_type": "stream",
     "text": [
      "Epoch:429/500.. Train Loss: 0.047.. Val Loss: 0.118.. Test Loss: 0.059.. Time: 0.17m\n"
     ]
    },
    {
     "name": "stderr",
     "output_type": "stream",
     "text": [
      "100%|██████████| 238/238 [00:09<00:00, 24.46it/s]\n",
      "100%|██████████| 85/85 [00:00<00:00, 175.01it/s]\n",
      "100%|██████████| 17/17 [00:00<00:00, 179.37it/s]\n"
     ]
    },
    {
     "name": "stdout",
     "output_type": "stream",
     "text": [
      "Epoch:430/500.. Train Loss: 0.047.. Val Loss: 0.118.. Test Loss: 0.058.. Time: 0.17m\n"
     ]
    },
    {
     "name": "stderr",
     "output_type": "stream",
     "text": [
      "100%|██████████| 238/238 [00:09<00:00, 24.54it/s]\n",
      "100%|██████████| 85/85 [00:00<00:00, 178.66it/s]\n",
      "100%|██████████| 17/17 [00:00<00:00, 180.97it/s]\n"
     ]
    },
    {
     "name": "stdout",
     "output_type": "stream",
     "text": [
      "Epoch:431/500.. Train Loss: 0.047.. Val Loss: 0.117.. Test Loss: 0.058.. Time: 0.17m\n"
     ]
    },
    {
     "name": "stderr",
     "output_type": "stream",
     "text": [
      "100%|██████████| 238/238 [00:09<00:00, 24.29it/s]\n",
      "100%|██████████| 85/85 [00:00<00:00, 184.65it/s]\n",
      "100%|██████████| 17/17 [00:00<00:00, 184.15it/s]\n"
     ]
    },
    {
     "name": "stdout",
     "output_type": "stream",
     "text": [
      "Epoch:432/500.. Train Loss: 0.046.. Val Loss: 0.118.. Test Loss: 0.058.. Time: 0.17m\n"
     ]
    },
    {
     "name": "stderr",
     "output_type": "stream",
     "text": [
      "100%|██████████| 238/238 [00:09<00:00, 24.31it/s]\n",
      "100%|██████████| 85/85 [00:00<00:00, 183.72it/s]\n",
      "100%|██████████| 17/17 [00:00<00:00, 183.00it/s]\n"
     ]
    },
    {
     "name": "stdout",
     "output_type": "stream",
     "text": [
      "Epoch:433/500.. Train Loss: 0.047.. Val Loss: 0.118.. Test Loss: 0.059.. Time: 0.17m\n"
     ]
    },
    {
     "name": "stderr",
     "output_type": "stream",
     "text": [
      "100%|██████████| 238/238 [00:09<00:00, 24.50it/s]\n",
      "100%|██████████| 85/85 [00:00<00:00, 182.04it/s]\n",
      "100%|██████████| 17/17 [00:00<00:00, 184.44it/s]\n"
     ]
    },
    {
     "name": "stdout",
     "output_type": "stream",
     "text": [
      "Epoch:434/500.. Train Loss: 0.046.. Val Loss: 0.118.. Test Loss: 0.058.. Time: 0.17m\n"
     ]
    },
    {
     "name": "stderr",
     "output_type": "stream",
     "text": [
      "100%|██████████| 238/238 [00:09<00:00, 24.53it/s]\n",
      "100%|██████████| 85/85 [00:00<00:00, 177.45it/s]\n",
      "100%|██████████| 17/17 [00:00<00:00, 175.63it/s]\n"
     ]
    },
    {
     "name": "stdout",
     "output_type": "stream",
     "text": [
      "Epoch:435/500.. Train Loss: 0.046.. Val Loss: 0.118.. Test Loss: 0.058.. Time: 0.17m\n"
     ]
    },
    {
     "name": "stderr",
     "output_type": "stream",
     "text": [
      "100%|██████████| 238/238 [00:09<00:00, 24.55it/s]\n",
      "100%|██████████| 85/85 [00:00<00:00, 180.27it/s]\n",
      "100%|██████████| 17/17 [00:00<00:00, 176.84it/s]\n"
     ]
    },
    {
     "name": "stdout",
     "output_type": "stream",
     "text": [
      "Epoch:436/500.. Train Loss: 0.047.. Val Loss: 0.118.. Test Loss: 0.059.. Time: 0.17m\n"
     ]
    },
    {
     "name": "stderr",
     "output_type": "stream",
     "text": [
      "100%|██████████| 238/238 [00:09<00:00, 24.21it/s]\n",
      "100%|██████████| 85/85 [00:00<00:00, 182.82it/s]\n",
      "100%|██████████| 17/17 [00:00<00:00, 180.36it/s]\n"
     ]
    },
    {
     "name": "stdout",
     "output_type": "stream",
     "text": [
      "Epoch:437/500.. Train Loss: 0.046.. Val Loss: 0.119.. Test Loss: 0.059.. Time: 0.17m\n"
     ]
    },
    {
     "name": "stderr",
     "output_type": "stream",
     "text": [
      "100%|██████████| 238/238 [00:09<00:00, 24.48it/s]\n",
      "100%|██████████| 85/85 [00:00<00:00, 181.39it/s]\n",
      "100%|██████████| 17/17 [00:00<00:00, 180.45it/s]\n"
     ]
    },
    {
     "name": "stdout",
     "output_type": "stream",
     "text": [
      "Epoch:438/500.. Train Loss: 0.046.. Val Loss: 0.119.. Test Loss: 0.059.. Time: 0.17m\n"
     ]
    },
    {
     "name": "stderr",
     "output_type": "stream",
     "text": [
      "100%|██████████| 238/238 [00:09<00:00, 24.51it/s]\n",
      "100%|██████████| 85/85 [00:00<00:00, 183.92it/s]\n",
      "100%|██████████| 17/17 [00:00<00:00, 183.78it/s]\n"
     ]
    },
    {
     "name": "stdout",
     "output_type": "stream",
     "text": [
      "Epoch:439/500.. Train Loss: 0.047.. Val Loss: 0.118.. Test Loss: 0.058.. Time: 0.17m\n"
     ]
    },
    {
     "name": "stderr",
     "output_type": "stream",
     "text": [
      "100%|██████████| 238/238 [00:09<00:00, 24.41it/s]\n",
      "100%|██████████| 85/85 [00:00<00:00, 179.45it/s]\n",
      "100%|██████████| 17/17 [00:00<00:00, 179.49it/s]\n"
     ]
    },
    {
     "name": "stdout",
     "output_type": "stream",
     "text": [
      "Epoch:440/500.. Train Loss: 0.047.. Val Loss: 0.117.. Test Loss: 0.058.. Time: 0.17m\n"
     ]
    },
    {
     "name": "stderr",
     "output_type": "stream",
     "text": [
      "100%|██████████| 238/238 [00:09<00:00, 24.13it/s]\n",
      "100%|██████████| 85/85 [00:00<00:00, 182.01it/s]\n",
      "100%|██████████| 17/17 [00:00<00:00, 173.77it/s]\n"
     ]
    },
    {
     "name": "stdout",
     "output_type": "stream",
     "text": [
      "Epoch:441/500.. Train Loss: 0.046.. Val Loss: 0.118.. Test Loss: 0.058.. Time: 0.17m\n"
     ]
    },
    {
     "name": "stderr",
     "output_type": "stream",
     "text": [
      "100%|██████████| 238/238 [00:09<00:00, 24.48it/s]\n",
      "100%|██████████| 85/85 [00:00<00:00, 184.16it/s]\n",
      "100%|██████████| 17/17 [00:00<00:00, 184.73it/s]\n"
     ]
    },
    {
     "name": "stdout",
     "output_type": "stream",
     "text": [
      "Epoch:442/500.. Train Loss: 0.046.. Val Loss: 0.117.. Test Loss: 0.058.. Time: 0.17m\n"
     ]
    },
    {
     "name": "stderr",
     "output_type": "stream",
     "text": [
      "100%|██████████| 238/238 [00:09<00:00, 24.47it/s]\n",
      "100%|██████████| 85/85 [00:00<00:00, 184.25it/s]\n",
      "100%|██████████| 17/17 [00:00<00:00, 183.10it/s]\n"
     ]
    },
    {
     "name": "stdout",
     "output_type": "stream",
     "text": [
      "Epoch:443/500.. Train Loss: 0.046.. Val Loss: 0.118.. Test Loss: 0.059.. Time: 0.17m\n"
     ]
    },
    {
     "name": "stderr",
     "output_type": "stream",
     "text": [
      "100%|██████████| 238/238 [00:09<00:00, 24.19it/s]\n",
      "100%|██████████| 85/85 [00:00<00:00, 183.99it/s]\n",
      "100%|██████████| 17/17 [00:00<00:00, 183.24it/s]\n"
     ]
    },
    {
     "name": "stdout",
     "output_type": "stream",
     "text": [
      "Epoch:444/500.. Train Loss: 0.047.. Val Loss: 0.118.. Test Loss: 0.059.. Time: 0.17m\n"
     ]
    },
    {
     "name": "stderr",
     "output_type": "stream",
     "text": [
      "100%|██████████| 238/238 [00:09<00:00, 24.11it/s]\n",
      "100%|██████████| 85/85 [00:00<00:00, 171.08it/s]\n",
      "100%|██████████| 17/17 [00:00<00:00, 177.05it/s]\n"
     ]
    },
    {
     "name": "stdout",
     "output_type": "stream",
     "text": [
      "Epoch:445/500.. Train Loss: 0.046.. Val Loss: 0.118.. Test Loss: 0.059.. Time: 0.17m\n"
     ]
    },
    {
     "name": "stderr",
     "output_type": "stream",
     "text": [
      "100%|██████████| 238/238 [00:09<00:00, 24.50it/s]\n",
      "100%|██████████| 85/85 [00:00<00:00, 176.57it/s]\n",
      "100%|██████████| 17/17 [00:00<00:00, 170.91it/s]\n"
     ]
    },
    {
     "name": "stdout",
     "output_type": "stream",
     "text": [
      "Epoch:446/500.. Train Loss: 0.046.. Val Loss: 0.119.. Test Loss: 0.058.. Time: 0.17m\n"
     ]
    },
    {
     "name": "stderr",
     "output_type": "stream",
     "text": [
      "100%|██████████| 238/238 [00:09<00:00, 24.36it/s]\n",
      "100%|██████████| 85/85 [00:00<00:00, 184.07it/s]\n",
      "100%|██████████| 17/17 [00:00<00:00, 185.02it/s]\n"
     ]
    },
    {
     "name": "stdout",
     "output_type": "stream",
     "text": [
      "Epoch:447/500.. Train Loss: 0.047.. Val Loss: 0.118.. Test Loss: 0.058.. Time: 0.17m\n"
     ]
    },
    {
     "name": "stderr",
     "output_type": "stream",
     "text": [
      "100%|██████████| 238/238 [00:09<00:00, 24.18it/s]\n",
      "100%|██████████| 85/85 [00:00<00:00, 184.33it/s]\n",
      "100%|██████████| 17/17 [00:00<00:00, 162.79it/s]\n"
     ]
    },
    {
     "name": "stdout",
     "output_type": "stream",
     "text": [
      "Epoch:448/500.. Train Loss: 0.046.. Val Loss: 0.118.. Test Loss: 0.058.. Time: 0.17m\n"
     ]
    },
    {
     "name": "stderr",
     "output_type": "stream",
     "text": [
      "100%|██████████| 238/238 [00:09<00:00, 24.10it/s]\n",
      "100%|██████████| 85/85 [00:00<00:00, 183.48it/s]\n",
      "100%|██████████| 17/17 [00:00<00:00, 180.74it/s]\n"
     ]
    },
    {
     "name": "stdout",
     "output_type": "stream",
     "text": [
      "Epoch:449/500.. Train Loss: 0.046.. Val Loss: 0.118.. Test Loss: 0.059.. Time: 0.17m\n"
     ]
    },
    {
     "name": "stderr",
     "output_type": "stream",
     "text": [
      "100%|██████████| 238/238 [00:09<00:00, 24.47it/s]\n",
      "100%|██████████| 85/85 [00:00<00:00, 180.22it/s]\n",
      "100%|██████████| 17/17 [00:00<00:00, 179.61it/s]\n"
     ]
    },
    {
     "name": "stdout",
     "output_type": "stream",
     "text": [
      "Epoch:450/500.. Train Loss: 0.046.. Val Loss: 0.119.. Test Loss: 0.059.. Time: 0.17m\n"
     ]
    },
    {
     "name": "stderr",
     "output_type": "stream",
     "text": [
      "100%|██████████| 238/238 [00:09<00:00, 24.38it/s]\n",
      "100%|██████████| 85/85 [00:00<00:00, 181.39it/s]\n",
      "100%|██████████| 17/17 [00:00<00:00, 181.37it/s]\n"
     ]
    },
    {
     "name": "stdout",
     "output_type": "stream",
     "text": [
      "Epoch:451/500.. Train Loss: 0.047.. Val Loss: 0.119.. Test Loss: 0.059.. Time: 0.17m\n"
     ]
    },
    {
     "name": "stderr",
     "output_type": "stream",
     "text": [
      "100%|██████████| 238/238 [00:09<00:00, 24.42it/s]\n",
      "100%|██████████| 85/85 [00:00<00:00, 182.52it/s]\n",
      "100%|██████████| 17/17 [00:00<00:00, 181.64it/s]\n"
     ]
    },
    {
     "name": "stdout",
     "output_type": "stream",
     "text": [
      "Epoch:452/500.. Train Loss: 0.047.. Val Loss: 0.118.. Test Loss: 0.059.. Time: 0.17m\n"
     ]
    },
    {
     "name": "stderr",
     "output_type": "stream",
     "text": [
      "100%|██████████| 238/238 [00:09<00:00, 24.23it/s]\n",
      "100%|██████████| 85/85 [00:00<00:00, 184.00it/s]\n",
      "100%|██████████| 17/17 [00:00<00:00, 180.56it/s]\n"
     ]
    },
    {
     "name": "stdout",
     "output_type": "stream",
     "text": [
      "Epoch:453/500.. Train Loss: 0.046.. Val Loss: 0.118.. Test Loss: 0.059.. Time: 0.17m\n"
     ]
    },
    {
     "name": "stderr",
     "output_type": "stream",
     "text": [
      "100%|██████████| 238/238 [00:09<00:00, 24.57it/s]\n",
      "100%|██████████| 85/85 [00:00<00:00, 181.25it/s]\n",
      "100%|██████████| 17/17 [00:00<00:00, 183.07it/s]\n"
     ]
    },
    {
     "name": "stdout",
     "output_type": "stream",
     "text": [
      "Epoch:454/500.. Train Loss: 0.047.. Val Loss: 0.118.. Test Loss: 0.058.. Time: 0.17m\n"
     ]
    },
    {
     "name": "stderr",
     "output_type": "stream",
     "text": [
      "100%|██████████| 238/238 [00:09<00:00, 24.54it/s]\n",
      "100%|██████████| 85/85 [00:00<00:00, 179.26it/s]\n",
      "100%|██████████| 17/17 [00:00<00:00, 176.20it/s]\n"
     ]
    },
    {
     "name": "stdout",
     "output_type": "stream",
     "text": [
      "Epoch:455/500.. Train Loss: 0.046.. Val Loss: 0.118.. Test Loss: 0.059.. Time: 0.17m\n"
     ]
    },
    {
     "name": "stderr",
     "output_type": "stream",
     "text": [
      "100%|██████████| 238/238 [00:09<00:00, 24.54it/s]\n",
      "100%|██████████| 85/85 [00:00<00:00, 181.86it/s]\n",
      "100%|██████████| 17/17 [00:00<00:00, 183.05it/s]\n"
     ]
    },
    {
     "name": "stdout",
     "output_type": "stream",
     "text": [
      "Epoch:456/500.. Train Loss: 0.046.. Val Loss: 0.118.. Test Loss: 0.059.. Time: 0.17m\n"
     ]
    },
    {
     "name": "stderr",
     "output_type": "stream",
     "text": [
      "100%|██████████| 238/238 [00:09<00:00, 24.13it/s]\n",
      "100%|██████████| 85/85 [00:00<00:00, 184.79it/s]\n",
      "100%|██████████| 17/17 [00:00<00:00, 184.52it/s]\n"
     ]
    },
    {
     "name": "stdout",
     "output_type": "stream",
     "text": [
      "Epoch:457/500.. Train Loss: 0.046.. Val Loss: 0.119.. Test Loss: 0.059.. Time: 0.17m\n"
     ]
    },
    {
     "name": "stderr",
     "output_type": "stream",
     "text": [
      "100%|██████████| 238/238 [00:09<00:00, 24.46it/s]\n",
      "100%|██████████| 85/85 [00:00<00:00, 182.45it/s]\n",
      "100%|██████████| 17/17 [00:00<00:00, 182.40it/s]\n"
     ]
    },
    {
     "name": "stdout",
     "output_type": "stream",
     "text": [
      "Epoch:458/500.. Train Loss: 0.046.. Val Loss: 0.118.. Test Loss: 0.059.. Time: 0.17m\n"
     ]
    },
    {
     "name": "stderr",
     "output_type": "stream",
     "text": [
      "100%|██████████| 238/238 [00:09<00:00, 24.26it/s]\n",
      "100%|██████████| 85/85 [00:00<00:00, 183.72it/s]\n",
      "100%|██████████| 17/17 [00:00<00:00, 181.65it/s]\n"
     ]
    },
    {
     "name": "stdout",
     "output_type": "stream",
     "text": [
      "Epoch:459/500.. Train Loss: 0.047.. Val Loss: 0.118.. Test Loss: 0.058.. Time: 0.17m\n"
     ]
    },
    {
     "name": "stderr",
     "output_type": "stream",
     "text": [
      "100%|██████████| 238/238 [00:09<00:00, 24.50it/s]\n",
      "100%|██████████| 85/85 [00:00<00:00, 179.95it/s]\n",
      "100%|██████████| 17/17 [00:00<00:00, 180.81it/s]\n"
     ]
    },
    {
     "name": "stdout",
     "output_type": "stream",
     "text": [
      "Epoch:460/500.. Train Loss: 0.047.. Val Loss: 0.118.. Test Loss: 0.059.. Time: 0.17m\n"
     ]
    },
    {
     "name": "stderr",
     "output_type": "stream",
     "text": [
      "100%|██████████| 238/238 [00:09<00:00, 24.27it/s]\n",
      "100%|██████████| 85/85 [00:00<00:00, 179.80it/s]\n",
      "100%|██████████| 17/17 [00:00<00:00, 177.59it/s]\n"
     ]
    },
    {
     "name": "stdout",
     "output_type": "stream",
     "text": [
      "Epoch:461/500.. Train Loss: 0.047.. Val Loss: 0.118.. Test Loss: 0.059.. Time: 0.17m\n"
     ]
    },
    {
     "name": "stderr",
     "output_type": "stream",
     "text": [
      "100%|██████████| 238/238 [00:09<00:00, 24.61it/s]\n",
      "100%|██████████| 85/85 [00:00<00:00, 181.39it/s]\n",
      "100%|██████████| 17/17 [00:00<00:00, 182.40it/s]\n"
     ]
    },
    {
     "name": "stdout",
     "output_type": "stream",
     "text": [
      "Epoch:462/500.. Train Loss: 0.045.. Val Loss: 0.119.. Test Loss: 0.059.. Time: 0.17m\n"
     ]
    },
    {
     "name": "stderr",
     "output_type": "stream",
     "text": [
      "100%|██████████| 238/238 [00:09<00:00, 24.50it/s]\n",
      "100%|██████████| 85/85 [00:00<00:00, 184.10it/s]\n",
      "100%|██████████| 17/17 [00:00<00:00, 180.62it/s]\n"
     ]
    },
    {
     "name": "stdout",
     "output_type": "stream",
     "text": [
      "Epoch:463/500.. Train Loss: 0.047.. Val Loss: 0.119.. Test Loss: 0.059.. Time: 0.17m\n"
     ]
    },
    {
     "name": "stderr",
     "output_type": "stream",
     "text": [
      "100%|██████████| 238/238 [00:09<00:00, 24.29it/s]\n",
      "100%|██████████| 85/85 [00:00<00:00, 176.64it/s]\n",
      "100%|██████████| 17/17 [00:00<00:00, 182.30it/s]\n"
     ]
    },
    {
     "name": "stdout",
     "output_type": "stream",
     "text": [
      "Epoch:464/500.. Train Loss: 0.046.. Val Loss: 0.119.. Test Loss: 0.059.. Time: 0.17m\n"
     ]
    },
    {
     "name": "stderr",
     "output_type": "stream",
     "text": [
      "100%|██████████| 238/238 [00:09<00:00, 23.88it/s]\n",
      "100%|██████████| 85/85 [00:00<00:00, 183.59it/s]\n",
      "100%|██████████| 17/17 [00:00<00:00, 173.63it/s]\n"
     ]
    },
    {
     "name": "stdout",
     "output_type": "stream",
     "text": [
      "Epoch:465/500.. Train Loss: 0.048.. Val Loss: 0.119.. Test Loss: 0.059.. Time: 0.18m\n"
     ]
    },
    {
     "name": "stderr",
     "output_type": "stream",
     "text": [
      "100%|██████████| 238/238 [00:09<00:00, 24.39it/s]\n",
      "100%|██████████| 85/85 [00:00<00:00, 181.74it/s]\n",
      "100%|██████████| 17/17 [00:00<00:00, 183.17it/s]\n"
     ]
    },
    {
     "name": "stdout",
     "output_type": "stream",
     "text": [
      "Epoch:466/500.. Train Loss: 0.046.. Val Loss: 0.118.. Test Loss: 0.059.. Time: 0.17m\n"
     ]
    },
    {
     "name": "stderr",
     "output_type": "stream",
     "text": [
      "100%|██████████| 238/238 [00:09<00:00, 24.58it/s]\n",
      "100%|██████████| 85/85 [00:00<00:00, 178.10it/s]\n",
      "100%|██████████| 17/17 [00:00<00:00, 174.38it/s]\n"
     ]
    },
    {
     "name": "stdout",
     "output_type": "stream",
     "text": [
      "Epoch:467/500.. Train Loss: 0.046.. Val Loss: 0.118.. Test Loss: 0.059.. Time: 0.17m\n"
     ]
    },
    {
     "name": "stderr",
     "output_type": "stream",
     "text": [
      "100%|██████████| 238/238 [00:09<00:00, 24.55it/s]\n",
      "100%|██████████| 85/85 [00:00<00:00, 179.03it/s]\n",
      "100%|██████████| 17/17 [00:00<00:00, 182.21it/s]\n"
     ]
    },
    {
     "name": "stdout",
     "output_type": "stream",
     "text": [
      "Epoch:468/500.. Train Loss: 0.046.. Val Loss: 0.118.. Test Loss: 0.059.. Time: 0.17m\n"
     ]
    },
    {
     "name": "stderr",
     "output_type": "stream",
     "text": [
      "100%|██████████| 238/238 [00:09<00:00, 24.27it/s]\n",
      "100%|██████████| 85/85 [00:00<00:00, 184.79it/s]\n",
      "100%|██████████| 17/17 [00:00<00:00, 184.61it/s]\n"
     ]
    },
    {
     "name": "stdout",
     "output_type": "stream",
     "text": [
      "Epoch:469/500.. Train Loss: 0.045.. Val Loss: 0.119.. Test Loss: 0.059.. Time: 0.17m\n"
     ]
    },
    {
     "name": "stderr",
     "output_type": "stream",
     "text": [
      "100%|██████████| 238/238 [00:09<00:00, 24.45it/s]\n",
      "100%|██████████| 85/85 [00:00<00:00, 180.10it/s]\n",
      "100%|██████████| 17/17 [00:00<00:00, 180.58it/s]\n"
     ]
    },
    {
     "name": "stdout",
     "output_type": "stream",
     "text": [
      "Epoch:470/500.. Train Loss: 0.046.. Val Loss: 0.118.. Test Loss: 0.059.. Time: 0.17m\n"
     ]
    },
    {
     "name": "stderr",
     "output_type": "stream",
     "text": [
      "100%|██████████| 238/238 [00:09<00:00, 24.59it/s]\n",
      "100%|██████████| 85/85 [00:00<00:00, 180.58it/s]\n",
      "100%|██████████| 17/17 [00:00<00:00, 183.46it/s]\n"
     ]
    },
    {
     "name": "stdout",
     "output_type": "stream",
     "text": [
      "Epoch:471/500.. Train Loss: 0.047.. Val Loss: 0.118.. Test Loss: 0.059.. Time: 0.17m\n"
     ]
    },
    {
     "name": "stderr",
     "output_type": "stream",
     "text": [
      "100%|██████████| 238/238 [00:09<00:00, 24.63it/s]\n",
      "100%|██████████| 85/85 [00:00<00:00, 180.43it/s]\n",
      "100%|██████████| 17/17 [00:00<00:00, 175.88it/s]\n"
     ]
    },
    {
     "name": "stdout",
     "output_type": "stream",
     "text": [
      "Epoch:472/500.. Train Loss: 0.046.. Val Loss: 0.119.. Test Loss: 0.059.. Time: 0.17m\n"
     ]
    },
    {
     "name": "stderr",
     "output_type": "stream",
     "text": [
      "100%|██████████| 238/238 [00:09<00:00, 24.11it/s]\n",
      "100%|██████████| 85/85 [00:00<00:00, 181.47it/s]\n",
      "100%|██████████| 17/17 [00:00<00:00, 183.20it/s]\n"
     ]
    },
    {
     "name": "stdout",
     "output_type": "stream",
     "text": [
      "Epoch:473/500.. Train Loss: 0.046.. Val Loss: 0.118.. Test Loss: 0.060.. Time: 0.17m\n"
     ]
    },
    {
     "name": "stderr",
     "output_type": "stream",
     "text": [
      "100%|██████████| 238/238 [00:09<00:00, 24.34it/s]\n",
      "100%|██████████| 85/85 [00:00<00:00, 184.99it/s]\n",
      "100%|██████████| 17/17 [00:00<00:00, 185.43it/s]\n"
     ]
    },
    {
     "name": "stdout",
     "output_type": "stream",
     "text": [
      "Epoch:474/500.. Train Loss: 0.046.. Val Loss: 0.119.. Test Loss: 0.059.. Time: 0.17m\n"
     ]
    },
    {
     "name": "stderr",
     "output_type": "stream",
     "text": [
      "100%|██████████| 238/238 [00:09<00:00, 24.35it/s]\n",
      "100%|██████████| 85/85 [00:00<00:00, 183.59it/s]\n",
      "100%|██████████| 17/17 [00:00<00:00, 182.15it/s]\n"
     ]
    },
    {
     "name": "stdout",
     "output_type": "stream",
     "text": [
      "Epoch:475/500.. Train Loss: 0.047.. Val Loss: 0.118.. Test Loss: 0.059.. Time: 0.17m\n"
     ]
    },
    {
     "name": "stderr",
     "output_type": "stream",
     "text": [
      "100%|██████████| 238/238 [00:09<00:00, 24.60it/s]\n",
      "100%|██████████| 85/85 [00:00<00:00, 182.32it/s]\n",
      "100%|██████████| 17/17 [00:00<00:00, 179.59it/s]\n"
     ]
    },
    {
     "name": "stdout",
     "output_type": "stream",
     "text": [
      "Epoch:476/500.. Train Loss: 0.046.. Val Loss: 0.120.. Test Loss: 0.059.. Time: 0.17m\n"
     ]
    },
    {
     "name": "stderr",
     "output_type": "stream",
     "text": [
      "100%|██████████| 238/238 [00:09<00:00, 24.19it/s]\n",
      "100%|██████████| 85/85 [00:00<00:00, 184.22it/s]\n",
      "100%|██████████| 17/17 [00:00<00:00, 182.28it/s]\n"
     ]
    },
    {
     "name": "stdout",
     "output_type": "stream",
     "text": [
      "Epoch:477/500.. Train Loss: 0.046.. Val Loss: 0.119.. Test Loss: 0.059.. Time: 0.17m\n"
     ]
    },
    {
     "name": "stderr",
     "output_type": "stream",
     "text": [
      "100%|██████████| 238/238 [00:09<00:00, 24.52it/s]\n",
      "100%|██████████| 85/85 [00:00<00:00, 183.04it/s]\n",
      "100%|██████████| 17/17 [00:00<00:00, 180.27it/s]\n"
     ]
    },
    {
     "name": "stdout",
     "output_type": "stream",
     "text": [
      "Epoch:478/500.. Train Loss: 0.047.. Val Loss: 0.119.. Test Loss: 0.059.. Time: 0.17m\n"
     ]
    },
    {
     "name": "stderr",
     "output_type": "stream",
     "text": [
      "100%|██████████| 238/238 [00:09<00:00, 24.40it/s]\n",
      "100%|██████████| 85/85 [00:00<00:00, 179.86it/s]\n",
      "100%|██████████| 17/17 [00:00<00:00, 174.71it/s]\n"
     ]
    },
    {
     "name": "stdout",
     "output_type": "stream",
     "text": [
      "Epoch:479/500.. Train Loss: 0.046.. Val Loss: 0.119.. Test Loss: 0.059.. Time: 0.17m\n"
     ]
    },
    {
     "name": "stderr",
     "output_type": "stream",
     "text": [
      "100%|██████████| 238/238 [00:09<00:00, 24.59it/s]\n",
      "100%|██████████| 85/85 [00:00<00:00, 177.01it/s]\n",
      "100%|██████████| 17/17 [00:00<00:00, 182.07it/s]\n"
     ]
    },
    {
     "name": "stdout",
     "output_type": "stream",
     "text": [
      "Epoch:480/500.. Train Loss: 0.047.. Val Loss: 0.119.. Test Loss: 0.059.. Time: 0.17m\n"
     ]
    },
    {
     "name": "stderr",
     "output_type": "stream",
     "text": [
      "100%|██████████| 238/238 [00:09<00:00, 24.25it/s]\n",
      "100%|██████████| 85/85 [00:00<00:00, 184.67it/s]\n",
      "100%|██████████| 17/17 [00:00<00:00, 181.12it/s]\n"
     ]
    },
    {
     "name": "stdout",
     "output_type": "stream",
     "text": [
      "Epoch:481/500.. Train Loss: 0.046.. Val Loss: 0.118.. Test Loss: 0.059.. Time: 0.17m\n"
     ]
    },
    {
     "name": "stderr",
     "output_type": "stream",
     "text": [
      "100%|██████████| 238/238 [00:09<00:00, 24.42it/s]\n",
      "100%|██████████| 85/85 [00:00<00:00, 183.25it/s]\n",
      "100%|██████████| 17/17 [00:00<00:00, 184.76it/s]\n"
     ]
    },
    {
     "name": "stdout",
     "output_type": "stream",
     "text": [
      "Epoch:482/500.. Train Loss: 0.046.. Val Loss: 0.118.. Test Loss: 0.059.. Time: 0.17m\n"
     ]
    },
    {
     "name": "stderr",
     "output_type": "stream",
     "text": [
      "100%|██████████| 238/238 [00:09<00:00, 24.32it/s]\n",
      "100%|██████████| 85/85 [00:00<00:00, 175.98it/s]\n",
      "100%|██████████| 17/17 [00:00<00:00, 177.51it/s]\n"
     ]
    },
    {
     "name": "stdout",
     "output_type": "stream",
     "text": [
      "Epoch:483/500.. Train Loss: 0.046.. Val Loss: 0.118.. Test Loss: 0.059.. Time: 0.17m\n"
     ]
    },
    {
     "name": "stderr",
     "output_type": "stream",
     "text": [
      "100%|██████████| 238/238 [00:09<00:00, 24.58it/s]\n",
      "100%|██████████| 85/85 [00:00<00:00, 180.17it/s]\n",
      "100%|██████████| 17/17 [00:00<00:00, 180.90it/s]\n"
     ]
    },
    {
     "name": "stdout",
     "output_type": "stream",
     "text": [
      "Epoch:484/500.. Train Loss: 0.046.. Val Loss: 0.119.. Test Loss: 0.059.. Time: 0.17m\n"
     ]
    },
    {
     "name": "stderr",
     "output_type": "stream",
     "text": [
      "100%|██████████| 238/238 [00:09<00:00, 24.14it/s]\n",
      "100%|██████████| 85/85 [00:00<00:00, 184.12it/s]\n",
      "100%|██████████| 17/17 [00:00<00:00, 163.50it/s]\n"
     ]
    },
    {
     "name": "stdout",
     "output_type": "stream",
     "text": [
      "Epoch:485/500.. Train Loss: 0.047.. Val Loss: 0.118.. Test Loss: 0.059.. Time: 0.17m\n"
     ]
    },
    {
     "name": "stderr",
     "output_type": "stream",
     "text": [
      "100%|██████████| 238/238 [00:09<00:00, 24.48it/s]\n",
      "100%|██████████| 85/85 [00:00<00:00, 185.10it/s]\n",
      "100%|██████████| 17/17 [00:00<00:00, 182.53it/s]\n"
     ]
    },
    {
     "name": "stdout",
     "output_type": "stream",
     "text": [
      "Epoch:486/500.. Train Loss: 0.046.. Val Loss: 0.120.. Test Loss: 0.059.. Time: 0.17m\n"
     ]
    },
    {
     "name": "stderr",
     "output_type": "stream",
     "text": [
      "100%|██████████| 238/238 [00:09<00:00, 24.41it/s]\n",
      "100%|██████████| 85/85 [00:00<00:00, 180.88it/s]\n",
      "100%|██████████| 17/17 [00:00<00:00, 163.15it/s]\n"
     ]
    },
    {
     "name": "stdout",
     "output_type": "stream",
     "text": [
      "Epoch:487/500.. Train Loss: 0.046.. Val Loss: 0.119.. Test Loss: 0.059.. Time: 0.17m\n"
     ]
    },
    {
     "name": "stderr",
     "output_type": "stream",
     "text": [
      "100%|██████████| 238/238 [00:09<00:00, 24.49it/s]\n",
      "100%|██████████| 85/85 [00:00<00:00, 178.57it/s]\n",
      "100%|██████████| 17/17 [00:00<00:00, 181.08it/s]\n"
     ]
    },
    {
     "name": "stdout",
     "output_type": "stream",
     "text": [
      "Epoch:488/500.. Train Loss: 0.046.. Val Loss: 0.118.. Test Loss: 0.059.. Time: 0.17m\n"
     ]
    },
    {
     "name": "stderr",
     "output_type": "stream",
     "text": [
      "100%|██████████| 238/238 [00:09<00:00, 23.97it/s]\n",
      "100%|██████████| 85/85 [00:00<00:00, 176.76it/s]\n",
      "100%|██████████| 17/17 [00:00<00:00, 183.74it/s]\n"
     ]
    },
    {
     "name": "stdout",
     "output_type": "stream",
     "text": [
      "Epoch:489/500.. Train Loss: 0.046.. Val Loss: 0.119.. Test Loss: 0.059.. Time: 0.18m\n"
     ]
    },
    {
     "name": "stderr",
     "output_type": "stream",
     "text": [
      "100%|██████████| 238/238 [00:09<00:00, 24.54it/s]\n",
      "100%|██████████| 85/85 [00:00<00:00, 182.10it/s]\n",
      "100%|██████████| 17/17 [00:00<00:00, 180.00it/s]\n"
     ]
    },
    {
     "name": "stdout",
     "output_type": "stream",
     "text": [
      "Epoch:490/500.. Train Loss: 0.047.. Val Loss: 0.118.. Test Loss: 0.059.. Time: 0.17m\n"
     ]
    },
    {
     "name": "stderr",
     "output_type": "stream",
     "text": [
      "100%|██████████| 238/238 [00:09<00:00, 24.66it/s]\n",
      "100%|██████████| 85/85 [00:00<00:00, 180.75it/s]\n",
      "100%|██████████| 17/17 [00:00<00:00, 183.69it/s]\n"
     ]
    },
    {
     "name": "stdout",
     "output_type": "stream",
     "text": [
      "Epoch:491/500.. Train Loss: 0.046.. Val Loss: 0.118.. Test Loss: 0.059.. Time: 0.17m\n"
     ]
    },
    {
     "name": "stderr",
     "output_type": "stream",
     "text": [
      "100%|██████████| 238/238 [00:09<00:00, 24.44it/s]\n",
      "100%|██████████| 85/85 [00:00<00:00, 182.48it/s]\n",
      "100%|██████████| 17/17 [00:00<00:00, 183.17it/s]\n"
     ]
    },
    {
     "name": "stdout",
     "output_type": "stream",
     "text": [
      "Epoch:492/500.. Train Loss: 0.046.. Val Loss: 0.118.. Test Loss: 0.059.. Time: 0.17m\n"
     ]
    },
    {
     "name": "stderr",
     "output_type": "stream",
     "text": [
      "100%|██████████| 238/238 [00:09<00:00, 24.13it/s]\n",
      "100%|██████████| 85/85 [00:00<00:00, 184.54it/s]\n",
      "100%|██████████| 17/17 [00:00<00:00, 181.68it/s]\n"
     ]
    },
    {
     "name": "stdout",
     "output_type": "stream",
     "text": [
      "Epoch:493/500.. Train Loss: 0.046.. Val Loss: 0.119.. Test Loss: 0.059.. Time: 0.17m\n"
     ]
    },
    {
     "name": "stderr",
     "output_type": "stream",
     "text": [
      "100%|██████████| 238/238 [00:09<00:00, 24.30it/s]\n",
      "100%|██████████| 85/85 [00:00<00:00, 182.53it/s]\n",
      "100%|██████████| 17/17 [00:00<00:00, 183.44it/s]\n"
     ]
    },
    {
     "name": "stdout",
     "output_type": "stream",
     "text": [
      "Epoch:494/500.. Train Loss: 0.047.. Val Loss: 0.118.. Test Loss: 0.059.. Time: 0.17m\n"
     ]
    },
    {
     "name": "stderr",
     "output_type": "stream",
     "text": [
      "100%|██████████| 238/238 [00:09<00:00, 24.33it/s]\n",
      "100%|██████████| 85/85 [00:00<00:00, 179.85it/s]\n",
      "100%|██████████| 17/17 [00:00<00:00, 173.50it/s]\n"
     ]
    },
    {
     "name": "stdout",
     "output_type": "stream",
     "text": [
      "Epoch:495/500.. Train Loss: 0.045.. Val Loss: 0.119.. Test Loss: 0.059.. Time: 0.17m\n"
     ]
    },
    {
     "name": "stderr",
     "output_type": "stream",
     "text": [
      "100%|██████████| 238/238 [00:09<00:00, 24.64it/s]\n",
      "100%|██████████| 85/85 [00:00<00:00, 182.47it/s]\n",
      "100%|██████████| 17/17 [00:00<00:00, 178.75it/s]\n"
     ]
    },
    {
     "name": "stdout",
     "output_type": "stream",
     "text": [
      "Epoch:496/500.. Train Loss: 0.046.. Val Loss: 0.118.. Test Loss: 0.059.. Time: 0.17m\n"
     ]
    },
    {
     "name": "stderr",
     "output_type": "stream",
     "text": [
      "100%|██████████| 238/238 [00:09<00:00, 24.05it/s]\n",
      "100%|██████████| 85/85 [00:00<00:00, 182.27it/s]\n",
      "100%|██████████| 17/17 [00:00<00:00, 182.10it/s]\n"
     ]
    },
    {
     "name": "stdout",
     "output_type": "stream",
     "text": [
      "Epoch:497/500.. Train Loss: 0.046.. Val Loss: 0.119.. Test Loss: 0.059.. Time: 0.17m\n"
     ]
    },
    {
     "name": "stderr",
     "output_type": "stream",
     "text": [
      "100%|██████████| 238/238 [00:09<00:00, 24.45it/s]\n",
      "100%|██████████| 85/85 [00:00<00:00, 183.66it/s]\n",
      "100%|██████████| 17/17 [00:00<00:00, 183.08it/s]\n"
     ]
    },
    {
     "name": "stdout",
     "output_type": "stream",
     "text": [
      "Epoch:498/500.. Train Loss: 0.046.. Val Loss: 0.118.. Test Loss: 0.059.. Time: 0.17m\n"
     ]
    },
    {
     "name": "stderr",
     "output_type": "stream",
     "text": [
      "100%|██████████| 238/238 [00:09<00:00, 24.44it/s]\n",
      "100%|██████████| 85/85 [00:00<00:00, 179.79it/s]\n",
      "100%|██████████| 17/17 [00:00<00:00, 184.25it/s]\n"
     ]
    },
    {
     "name": "stdout",
     "output_type": "stream",
     "text": [
      "Epoch:499/500.. Train Loss: 0.045.. Val Loss: 0.118.. Test Loss: 0.059.. Time: 0.17m\n"
     ]
    },
    {
     "name": "stderr",
     "output_type": "stream",
     "text": [
      "100%|██████████| 238/238 [00:09<00:00, 24.50it/s]\n",
      "100%|██████████| 85/85 [00:00<00:00, 182.56it/s]\n",
      "100%|██████████| 17/17 [00:00<00:00, 182.33it/s]\n"
     ]
    },
    {
     "name": "stdout",
     "output_type": "stream",
     "text": [
      "Epoch:500/500.. Train Loss: 0.046.. Val Loss: 0.118.. Test Loss: 0.060.. Time: 0.17m\n",
      "Total time: 86.69 m\n"
     ]
    }
   ],
   "source": [
    "training.fit(model, train_loader, validation_loader, test_loader)\n",
    "best_model = training.get_best_model()"
   ]
  },
  {
   "cell_type": "code",
   "execution_count": 13,
   "metadata": {
    "tags": []
   },
   "outputs": [
    {
     "data": {
      "text/plain": [
       "<matplotlib.legend.Legend at 0x2aae7d8cf0a0>"
      ]
     },
     "execution_count": 13,
     "metadata": {},
     "output_type": "execute_result"
    },
    {
     "data": {
      "image/png": "[encoded data removed]",
      "text/plain": [
       "<Figure size 640x480 with 1 Axes>"
      ]
     },
     "metadata": {},
     "output_type": "display_data"
    }
   ],
   "source": [
    "fig, ax = plt.subplots()\n",
    "\n",
    "ax.plot(training.results['Train'], label='Train')\n",
    "ax.plot(training.results['Validation'], label='Validation')\n",
    "ax.plot(training.results['Test'], label='Test')\n",
    "ax.legend()"
   ]
  },
  {
   "cell_type": "markdown",
   "metadata": {},
   "source": [
    "## Evaluation and plotting classes"
   ]
  },
  {
   "cell_type": "code",
   "execution_count": 14,
   "metadata": {
    "tags": []
   },
   "outputs": [],
   "source": [
    "class OSAEvaluator:\n",
    "    \n",
    "    def evaluate_OSA(self, dataset, model):\n",
    "        \n",
    "        torch.cuda.empty_cache()\n",
    "        Y_real = []\n",
    "        Y_pred = []\n",
    "        for i, data in enumerate(tqdm(dataset)):\n",
    "            src, tgt, y_real = data\n",
    "            src, tgt, y_real = src.to(device), tgt.to(device), y_real.to(device)\n",
    "            y_pred = model(src, tgt)\n",
    "            Y_real.append(y_real.reshape(1,-1))\n",
    "            Y_pred.append(y_pred)\n",
    "        \n",
    "        Y_real = torch.vstack(Y_real).cpu()\n",
    "        Y_pred = torch.vstack(Y_pred).cpu().detach()\n",
    "        print('********** OSA Evaluation summary **********')\n",
    "        print(f'OSA MSE: {mean_squared_error(Y_real, Y_pred)}')\n",
    "        print(f'OSA RMSE: {np.sqrt(mean_squared_error(Y_real, Y_pred))}')\n",
    "        print(f'OSA R2 score: {r2_score(Y_real, Y_pred)}')\n",
    "        print('********************************************')\n",
    "        return Y_real, Y_pred\n",
    "            \n",
    "class FSEvaluator:\n",
    "    \n",
    "    def evaluate_FS(self, dataset, model):\n",
    "        \n",
    "        torch.cuda.empty_cache()\n",
    "        Y_real = []\n",
    "        Y_pred = []\n",
    "        tgt_sim = None\n",
    "        for i, data in enumerate(tqdm(dataset)):\n",
    "            src, tgt, y_real = data\n",
    "            src, tgt, y_real = src.to(device), tgt.to(device), y_real.to(device)\n",
    "            if tgt_sim is None:\n",
    "                tgt_sim = tgt\n",
    "            else:\n",
    "                tgt_sim[:-1,:] = tgt_sim[1:,:]\n",
    "                tgt_sim[-1,:] = y_pred\n",
    "            y_pred = model(src, tgt_sim)\n",
    "            Y_real.append(y_real.reshape(1,-1))\n",
    "            Y_pred.append(y_pred)\n",
    "        \n",
    "        Y_real = torch.vstack(Y_real).cpu()\n",
    "        Y_pred = torch.vstack(Y_pred).cpu().detach()\n",
    "        print('*********** FS Evaluation summary **********')\n",
    "        print(f'FS MSE: {mean_squared_error(Y_real, Y_pred)}')\n",
    "        print(f'FS RMSE: {np.sqrt(mean_squared_error(Y_real, Y_pred))}')\n",
    "        print(f'FS R2 score: {r2_score(Y_real, Y_pred)}')\n",
    "        print('********************************************')\n",
    "        return Y_real, Y_pred\n",
    "    \n",
    "class Evaluator(OSAEvaluator, FSEvaluator):\n",
    "    \n",
    "    pass\n",
    "        "
   ]
  },
  {
   "cell_type": "code",
   "execution_count": 15,
   "metadata": {
    "tags": []
   },
   "outputs": [
    {
     "name": "stderr",
     "output_type": "stream",
     "text": [
      "100%|██████████| 699/699 [00:06<00:00, 109.32it/s]\n"
     ]
    },
    {
     "name": "stdout",
     "output_type": "stream",
     "text": [
      "********** OSA Evaluation summary **********\n",
      "OSA MSE: 0.06419692188501358\n",
      "OSA RMSE: 0.25337111949920654\n",
      "OSA R2 score: 0.6315724077919647\n",
      "********************************************\n"
     ]
    },
    {
     "name": "stderr",
     "output_type": "stream",
     "text": [
      "100%|██████████| 699/699 [00:05<00:00, 117.37it/s]"
     ]
    },
    {
     "name": "stdout",
     "output_type": "stream",
     "text": [
      "*********** FS Evaluation summary **********\n",
      "FS MSE: 0.17377343773841858\n",
      "FS RMSE: 0.4168614149093628\n",
      "FS R2 score: 0.002710362337340344\n",
      "********************************************\n"
     ]
    },
    {
     "name": "stderr",
     "output_type": "stream",
     "text": [
      "\n"
     ]
    }
   ],
   "source": [
    "evaluator = Evaluator()\n",
    "Y_real, Y_pred_OSA = evaluator.evaluate_OSA(test_dataset, model)\n",
    "Y_real, Y_pred_FS = evaluator.evaluate_FS(test_dataset, model)"
   ]
  },
  {
   "cell_type": "code",
   "execution_count": 16,
   "metadata": {
    "tags": []
   },
   "outputs": [
    {
     "data": {
      "text/plain": [
       "<matplotlib.legend.Legend at 0x2aae7d696310>"
      ]
     },
     "execution_count": 16,
     "metadata": {},
     "output_type": "execute_result"
    },
    {
     "data": {
      "image/png": "[encoded data removed]",
      "text/plain": [
       "<Figure size 640x480 with 1 Axes>"
      ]
     },
     "metadata": {},
     "output_type": "display_data"
    }
   ],
   "source": [
    "fig, ax = plt.subplots()\n",
    "ax.plot(Y_real, label='Real')\n",
    "ax.plot(Y_pred_OSA, label='OSA')\n",
    "ax.plot(Y_pred_FS, label='FS')\n",
    "ax.legend()"
   ]
  },
  {
   "cell_type": "code",
   "execution_count": 17,
   "metadata": {
    "tags": []
   },
   "outputs": [
    {
     "name": "stderr",
     "output_type": "stream",
     "text": [
      "100%|██████████| 699/699 [00:06<00:00, 106.72it/s]\n"
     ]
    },
    {
     "name": "stdout",
     "output_type": "stream",
     "text": [
      "********** OSA Evaluation summary **********\n",
      "OSA MSE: 0.07424576580524445\n",
      "OSA RMSE: 0.2724807560443878\n",
      "OSA R2 score: 0.5739018715419393\n",
      "********************************************\n"
     ]
    },
    {
     "name": "stderr",
     "output_type": "stream",
     "text": [
      "100%|██████████| 699/699 [00:05<00:00, 116.89it/s]"
     ]
    },
    {
     "name": "stdout",
     "output_type": "stream",
     "text": [
      "*********** FS Evaluation summary **********\n",
      "FS MSE: 0.19079628586769104\n",
      "FS RMSE: 0.43680232763290405\n",
      "FS R2 score: -0.09498428126085523\n",
      "********************************************\n"
     ]
    },
    {
     "name": "stderr",
     "output_type": "stream",
     "text": [
      "\n"
     ]
    }
   ],
   "source": [
    "evaluator = Evaluator()\n",
    "Y_real, Y_pred_OSA = evaluator.evaluate_OSA(test_dataset, best_model)\n",
    "Y_real, Y_pred_FS = evaluator.evaluate_FS(test_dataset, best_model)"
   ]
  },
  {
   "cell_type": "code",
   "execution_count": 18,
   "metadata": {
    "tags": []
   },
   "outputs": [
    {
     "data": {
      "text/plain": [
       "<matplotlib.legend.Legend at 0x2aaf1219b2e0>"
      ]
     },
     "execution_count": 18,
     "metadata": {},
     "output_type": "execute_result"
    },
    {
     "data": {
      "image/png": "[encoded data removed]",
      "text/plain": [
       "<Figure size 640x480 with 1 Axes>"
      ]
     },
     "metadata": {},
     "output_type": "display_data"
    }
   ],
   "source": [
    "fig, ax = plt.subplots()\n",
    "ax.plot(Y_real, label='Real')\n",
    "ax.plot(Y_pred_OSA, label='OSA')\n",
    "ax.plot(Y_pred_FS, label='FS')\n",
    "ax.legend()"
   ]
  }
 ],
 "metadata": {
  "kernelspec": {
   "display_name": "raul_dl",
   "language": "python",
   "name": "raul_dl"
  },
  "language_info": {
   "codemirror_mode": {
    "name": "ipython",
    "version": 3
   },
   "file_extension": ".py",
   "mimetype": "text/x-python",
   "name": "python",
   "nbconvert_exporter": "python",
   "pygments_lexer": "ipython3",
   "version": "3.9.13"
  }
 },
 "nbformat": 4,
 "nbformat_minor": 4
}
