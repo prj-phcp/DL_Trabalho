{
 "cells": [
  {
   "cell_type": "code",
   "execution_count": 1,
   "metadata": {
    "tags": []
   },
   "outputs": [
    {
     "name": "stdout",
     "output_type": "stream",
     "text": [
      "Wed Jun 14 09:19:44 2023       \n",
      "+-----------------------------------------------------------------------------+\n",
      "| NVIDIA-SMI 515.43.04    Driver Version: 515.43.04    CUDA Version: 11.7     |\n",
      "|-------------------------------+----------------------+----------------------+\n",
      "| GPU  Name        Persistence-M| Bus-Id        Disp.A | Volatile Uncorr. ECC |\n",
      "| Fan  Temp  Perf  Pwr:Usage/Cap|         Memory-Usage | GPU-Util  Compute M. |\n",
      "|                               |                      |               MIG M. |\n",
      "|===============================+======================+======================|\n",
      "|   0  Tesla V100-SXM2...  Off  | 00000000:16:00.0 Off |                    0 |\n",
      "| N/A   34C    P0    52W / 300W |    921MiB / 32768MiB |     14%      Default |\n",
      "|                               |                      |                  N/A |\n",
      "+-------------------------------+----------------------+----------------------+\n",
      "                                                                               \n",
      "+-----------------------------------------------------------------------------+\n",
      "| Processes:                                                                  |\n",
      "|  GPU   GI   CI        PID   Type   Process name                  GPU Memory |\n",
      "|        ID   ID                                                   Usage      |\n",
      "|=============================================================================|\n",
      "|    0   N/A  N/A     35727      C   .../venvs/dl_raul/bin/python      919MiB |\n",
      "+-----------------------------------------------------------------------------+\n"
     ]
    }
   ],
   "source": [
    "import math\n",
    "import json\n",
    "import time\n",
    "import numpy as np\n",
    "import pandas as pd\n",
    "import matplotlib.pyplot as plt\n",
    "from tqdm import tqdm\n",
    "\n",
    "import torch\n",
    "import torch.nn as nn\n",
    "import torch.optim as optim\n",
    "from torch.utils.data import Dataset\n",
    "from torch.utils.data.sampler import SubsetRandomSampler\n",
    "\n",
    "from sklearn.preprocessing import MinMaxScaler, RobustScaler\n",
    "from sklearn.model_selection import train_test_split\n",
    "from sklearn.metrics import mean_squared_error, r2_score\n",
    "\n",
    "!nvidia-smi"
   ]
  },
  {
   "cell_type": "code",
   "execution_count": 2,
   "metadata": {
    "tags": []
   },
   "outputs": [
    {
     "name": "stdout",
     "output_type": "stream",
     "text": [
      "cuda:0\n"
     ]
    }
   ],
   "source": [
    "# Dispositivo onde tensores serão criados, armazenados e processados\n",
    "device = torch.device(\"cuda:0\" if torch.cuda.is_available() else \"cpu\")\n",
    "print(device)\n",
    "# Randon Seed fixa para resultados reprodutíveis\n",
    "seed = 42\n",
    "torch.manual_seed(seed)\n",
    "torch.cuda.manual_seed(seed)\n",
    "np.random.seed(seed)"
   ]
  },
  {
   "cell_type": "markdown",
   "metadata": {},
   "source": [
    "## Data Loader"
   ]
  },
  {
   "cell_type": "code",
   "execution_count": 3,
   "metadata": {
    "tags": []
   },
   "outputs": [],
   "source": [
    "class WellLoader(Dataset):\n",
    "    \n",
    "    def __init__(self, \n",
    "                 path, \n",
    "                 wells, \n",
    "                 var_in, \n",
    "                 var_out,\n",
    "                 normalizing_percentile=90.0,\n",
    "                 normalizing_split=0.2,\n",
    "                 normalizer=RobustScaler,\n",
    "                 max_sequence=16, \n",
    "                 step=1):\n",
    "        \n",
    "        self.path = path\n",
    "        with open(self.path + '/metadata.json', 'r') as metafile:\n",
    "            self.metadata = json.loads(metafile.read())\n",
    "        self.wells = wells\n",
    "        self.var_in = var_in\n",
    "        self.var_out = var_out\n",
    "        self.normalizing_percentile=normalizing_percentile\n",
    "        self.normalizing_split = normalizing_split\n",
    "        self.normalizer = normalizer\n",
    "        self.max_sequence = max_sequence\n",
    "        self.step = step\n",
    "        self.batches_X = None\n",
    "        self.batches_Y = None\n",
    "        self.outputs = None\n",
    "        self.normalizers = []\n",
    "        \n",
    "        indexes = self.get_wells_index(self.wells)\n",
    "        self.load_data_by_index(indexes)\n",
    "        \n",
    "    def get_wells_index(self, wells):\n",
    "        \n",
    "        indexes = []\n",
    "        for well, filt in wells:\n",
    "            indexes.extend([(meta['INDEX'], filt) for meta in self.metadata if meta['WELL'] == well])\n",
    "        return indexes\n",
    "    \n",
    "    def load_data_by_index(self, indexes):\n",
    "        \n",
    "        batches_X = []\n",
    "        batches_Y = []\n",
    "        outputs = []\n",
    "        for index, filt in indexes:\n",
    "            data = pd.read_json(f'{self.path}/{index}.json')#.reset_index()\n",
    "            # Armengue: Por liq vol para preencher o dataset\n",
    "            data['BORE_LIQ_VOL'] = data['BORE_OIL_VOL'] + data['BORE_WAT_VOL']\n",
    "            data = data[self.var_in + self.var_out].dropna().reset_index(drop=True)\n",
    "            X = data[self.var_in].values[filt,:]\n",
    "            Y = data[self.var_out].values[filt,:]\n",
    "            X_base, _, Y_base, _ = train_test_split(X, Y, test_size = self.normalizing_split)\n",
    "            #scaler_X = X_base.max(axis=0, keepdims=True)\n",
    "            #scaler_Y = Y_base.max(axis=0, keepdims=True)\n",
    "            #scaler_X = self.normalizer().fit(X_base)\n",
    "            #scaler_Y = self.normalizer().fit(Y_base)\n",
    "            scaler_X = np.percentile(X_base,self.normalizing_percentile,axis=0,keepdims=True)\n",
    "            scaler_Y = np.percentile(Y_base,self.normalizing_percentile,axis=0,keepdims=True)\n",
    "            self.normalizers.append((scaler_X, scaler_Y))\n",
    "            #X, Y = scaler_X.transform(X), scaler_Y.transform(Y)\n",
    "            X, Y = X / scaler_X, Y / scaler_Y\n",
    "            X, Y = torch.from_numpy(X.astype('float32')), torch.from_numpy(Y.astype('float32'))\n",
    "            output = Y[self.max_sequence::self.step]\n",
    "            #print(Y.shape)\n",
    "            #X = torch.split(X, self.max_sequence, dim= 0)\n",
    "            #Y = torch.split(Y, self.max_sequence, dim= 0)\n",
    "            X = X.unfold(0,self.max_sequence, self.step)\n",
    "            Y = Y.unfold(0,self.max_sequence, self.step)\n",
    "            batches_X.append(X)\n",
    "            batches_Y.append(Y)\n",
    "            outputs.append(output)\n",
    "            #print(X.shape)\n",
    "        self.batches_X = torch.concat(batches_X, axis=0)\n",
    "        self.batches_Y = torch.concat(batches_Y, axis=0)\n",
    "        self.outputs = torch.concat(outputs, axis=0)\n",
    "            \n",
    "    def __len__(self):\n",
    "        \n",
    "        return self.outputs.shape[0]\n",
    "    \n",
    "    def __getitem__(self, idx):\n",
    "                        \n",
    "        srcs = self.batches_X[idx,:,:]\n",
    "        trgts = self.batches_Y[idx,:,:]\n",
    "        output = self.outputs[idx,:]\n",
    "        \n",
    "        return srcs, trgts, output\n",
    "        \n",
    "        \n",
    "                 "
   ]
  },
  {
   "cell_type": "code",
   "execution_count": 4,
   "metadata": {
    "tags": []
   },
   "outputs": [],
   "source": [
    "path = './dataset/volve'\n",
    "wells = [\n",
    "    ('15/9-F-1 C', slice(28, None)),\n",
    "]\n",
    "\n",
    "var_in = [\n",
    "        'AVG_DOWNHOLE_PRESSURE',\n",
    "        'AVG_WHP_P',\n",
    "        'AVG_CHOKE_SIZE_P',\n",
    "        'AVG_WHT_P',\n",
    "        'AVG_DOWNHOLE_TEMPERATURE',\n",
    "]\n",
    "\n",
    "var_out = [\n",
    "        #'BORE_OIL_VOL',\n",
    "        'BORE_LIQ_VOL',\n",
    "        #'BORE_GAS_VOL',\n",
    "        #'BORE_WAT_VOL',\n",
    "]\n",
    "\n",
    "\n",
    "dataset = WellLoader(path, wells, var_in, var_out, max_sequence = 8)"
   ]
  },
  {
   "cell_type": "code",
   "execution_count": 5,
   "metadata": {
    "tags": []
   },
   "outputs": [],
   "source": [
    "class SubsetSplitter:\n",
    "    \n",
    "    def __init__(self, batch_size, validation_split, test_split, shuffle=False):\n",
    "        \n",
    "        self.batch_size = batch_size\n",
    "        self.validation_split = validation_split\n",
    "        self.test_split = test_split\n",
    "        self.shuffle = shuffle\n",
    "        \n",
    "    def __call__(self, dataset:Dataset):\n",
    "        \n",
    "        dataset_size = len(dataset)\n",
    "        indices = list(range(dataset_size))\n",
    "        validation_split = int(np.floor(self.validation_split * dataset_size))\n",
    "        test_split = int(np.floor(self.test_split * dataset_size))\n",
    "        train_split = dataset_size - validation_split - test_split\n",
    "        # Extracting test independently of others\n",
    "        test_indices = indices[train_split + validation_split:]\n",
    "        indices = indices[:train_split + validation_split]\n",
    "        if self.shuffle :\n",
    "            np.random.shuffle(indices)\n",
    "        train_indices = indices[:train_split]\n",
    "        validation_indices = indices[train_split:]\n",
    "\n",
    "        # Creating PT data samplers and loaders:\n",
    "        train_sampler = SubsetRandomSampler(train_indices)\n",
    "        valid_sampler = SubsetRandomSampler(validation_indices)\n",
    "        test_sampler = SubsetRandomSampler(test_indices)\n",
    "\n",
    "        train_loader = torch.utils.data.DataLoader(dataset, batch_size=self.batch_size, \n",
    "                                                   sampler=train_sampler)\n",
    "        validation_loader = torch.utils.data.DataLoader(dataset, batch_size=self.batch_size,\n",
    "                                                    sampler=valid_sampler)\n",
    "        test_loader = torch.utils.data.DataLoader(dataset, batch_size=self.batch_size,\n",
    "                                                    sampler=test_sampler)\n",
    "        \n",
    "        return train_loader, validation_loader, test_loader"
   ]
  },
  {
   "cell_type": "code",
   "execution_count": 6,
   "metadata": {
    "tags": []
   },
   "outputs": [],
   "source": [
    "splitter = SubsetSplitter(4, 0.1, 0.3, shuffle=False)\n",
    "train_loader, validation_loader, test_loader = splitter(dataset)"
   ]
  },
  {
   "cell_type": "markdown",
   "metadata": {},
   "source": [
    "## Model definition"
   ]
  },
  {
   "cell_type": "code",
   "execution_count": 7,
   "metadata": {},
   "outputs": [
    {
     "data": {
      "text/plain": [
       "tensor([[[0.0000, 0.0000, 0.0000, 1.4286, 0.0000, 1.4286, 0.0000, 1.4286,\n",
       "          0.0000, 0.0000],\n",
       "         [0.0000, 0.0000, 0.0000, 0.0000, 0.0000, 1.4286, 0.0000, 0.0000,\n",
       "          0.0000, 1.4286]]])"
      ]
     },
     "execution_count": 7,
     "metadata": {},
     "output_type": "execute_result"
    }
   ],
   "source": [
    "class PositionalEncoding(nn.Module):\n",
    "    def __init__(self, dim_model, dropout_p, max_len):\n",
    "        super().__init__()\n",
    "        # Modified version from: https://pytorch.org/tutorials/beginner/transformer_tutorial.html\n",
    "        # max_len determines how far the position can have an effect on a token (window)\n",
    "        \n",
    "        # Info\n",
    "        self.dropout = nn.Dropout(dropout_p)\n",
    "        \n",
    "        # Encoding - From formula\n",
    "        pos_encoding = torch.zeros(max_len, dim_model)\n",
    "        positions_list = torch.arange(0, max_len, dtype=torch.float).view(-1, 1) # 0, 1, 2, 3, 4, 5\n",
    "        division_term = torch.exp(torch.arange(0, dim_model, 2).float() * (-math.log(10000.0)) / dim_model) # 1000^(2i/dim_model)\n",
    "        \n",
    "        # PE(pos, 2i) = sin(pos/1000^(2i/dim_model))\n",
    "        pos_encoding[:, 0::2] = torch.sin(positions_list * division_term)\n",
    "        \n",
    "        # PE(pos, 2i + 1) = cos(pos/1000^(2i/dim_model))\n",
    "        pos_encoding[:, 1::2] = torch.cos(positions_list * division_term)\n",
    "        \n",
    "        # Saving buffer (same as parameter without gradients needed)\n",
    "        pos_encoding = pos_encoding.unsqueeze(0).transpose(0, 1)\n",
    "        self.register_buffer(\"pos_encoding\",pos_encoding)\n",
    "        \n",
    "    def forward(self, token_embedding: torch.tensor) -> torch.tensor:\n",
    "        # Residual connection + pos encoding\n",
    "        return self.dropout(token_embedding + self.pos_encoding[:token_embedding.size(0), :])\n",
    "    \n",
    "    \n",
    "positional_encoding = PositionalEncoding(dim_model = 10, dropout_p=0.3, max_len=1200)\n",
    "tensor = torch.zeros((1,2,10))\n",
    "tensor\n",
    "encoded = positional_encoding(tensor)\n",
    "encoded"
   ]
  },
  {
   "cell_type": "code",
   "execution_count": 8,
   "metadata": {},
   "outputs": [],
   "source": [
    "class Transformer(nn.Module):\n",
    "    \"\"\"\n",
    "    Model from \"A detailed guide to Pytorch's nn.Transformer() module.\", by\n",
    "    Daniel Melchor: https://medium.com/@danielmelchor/a-detailed-guide-to-pytorchs-nn-transformer-module-c80afbc9ffb1\n",
    "    \"\"\"\n",
    "    # Constructor\n",
    "    def __init__(\n",
    "        self,\n",
    "        num_outputs,\n",
    "        dim_model,\n",
    "        num_heads,\n",
    "        num_encoder_layers,\n",
    "        num_decoder_layers,\n",
    "        dropout_p,\n",
    "        dim_feedforward =2048,\n",
    "        num_linear_layers=0,\n",
    "        norm_first=False\n",
    "    ):\n",
    "        super().__init__()\n",
    "\n",
    "        # INFO\n",
    "        self.model_type = \"Transformer\"\n",
    "        self.dim_model = dim_model\n",
    "\n",
    "        # LAYERS\n",
    "        self.positional_encoder = PositionalEncoding(\n",
    "            dim_model=dim_model, dropout_p=dropout_p, max_len=5000\n",
    "        )\n",
    "        #self.embedding = nn.Embedding(num_outputs, dim_model)\n",
    "        self.transformer = nn.Transformer(\n",
    "            d_model=dim_model,\n",
    "            nhead=num_heads,\n",
    "            num_encoder_layers=num_encoder_layers,\n",
    "            num_decoder_layers=num_decoder_layers,\n",
    "            dropout=dropout_p, \n",
    "            batch_first=True,\n",
    "            norm_first = norm_first,\n",
    "            dim_feedforward =dim_feedforward \n",
    "        )\n",
    "        self.linear_layers = nn.ModuleList()\n",
    "        for i in range(num_linear_layers):\n",
    "            self.linear_layers.append(nn.Linear(dim_model, dim_model))\n",
    "            self.linear_layers.append(nn.ReLU6())\n",
    "        self.out = nn.Linear(dim_model, num_outputs)\n",
    "        #self.bias_layer = nn.Linear(dim_model, dim_model)\n",
    "        \n",
    "    def forward(self, src, tgt, tgt_mask=None, src_pad_mask=None, tgt_pad_mask=None):\n",
    "        # Src size must be (batch_size, src sequence length)\n",
    "        # Tgt size must be (batch_size, tgt sequence length)\n",
    "\n",
    "        # Embedding + positional encoding - Out size = (batch_size, sequence length, dim_model)\n",
    "        #src = self.embedding(src) * math.sqrt(self.dim_model)\n",
    "        #tgt = self.embedding(tgt) * math.sqrt(self.dim_model)\n",
    "        src_corr = src #* math.sqrt(self.dim_model)\n",
    "        tgt_corr = tgt #* math.sqrt(self.dim_model)\n",
    "        #src_corr = self.positional_encoder(src_corr)\n",
    "        #tgt_corr = self.positional_encoder(tgt_corr)\n",
    "        \n",
    "        # We could use the parameter batch_first=True, but our KDL version doesn't support it yet, so we permute\n",
    "        # to obtain size (sequence length, batch_size, dim_model),\n",
    "        #src = src.permute(1,0,2)\n",
    "        #tgt = tgt.permute(1,0,2)\n",
    "\n",
    "        # Transformer blocks - Out size = (sequence length, batch_size, num_tokens)\n",
    "        transformer_out = self.transformer(src_corr, tgt_corr, tgt_mask=tgt_mask, src_key_padding_mask=src_pad_mask, \n",
    "                                           tgt_key_padding_mask=tgt_pad_mask)\n",
    "        for linear in self.linear_layers:\n",
    "            transformer_out = linear(transformer_out)\n",
    "        out = transformer_out\n",
    "        out = torch.add(out, tgt)\n",
    "        \n",
    "        #recuperando informacao de escala\n",
    "        #out = torch.mul(out, tgt)\n",
    "        #bias = self.bias_layer(tgt)\n",
    "        #out = torch.add(out, bias)\n",
    "        \n",
    "        out = self.out(out)\n",
    "        \n",
    "        \n",
    "        return out\n",
    "      \n",
    "    def get_tgt_mask(self, size) -> torch.tensor:\n",
    "        # Generates a squeare matrix where the each row allows one word more to be seen\n",
    "        mask = torch.tril(torch.ones(size, size) == 1) # Lower triangular matrix\n",
    "        mask = mask.float()\n",
    "        mask = mask.masked_fill(mask == 0, float('-inf')) # Convert zeros to -inf\n",
    "        mask = mask.masked_fill(mask == 1, float(0.0)) # Convert ones to 0\n",
    "        \n",
    "        # EX for size=5:\n",
    "        # [[0., -inf, -inf, -inf, -inf],\n",
    "        #  [0.,   0., -inf, -inf, -inf],\n",
    "        #  [0.,   0.,   0., -inf, -inf],\n",
    "        #  [0.,   0.,   0.,   0., -inf],\n",
    "        #  [0.,   0.,   0.,   0.,   0.]]\n",
    "        \n",
    "        return mask\n",
    "    \n",
    "    def create_pad_mask(self, matrix: torch.tensor, pad_token: int) -> torch.tensor:\n",
    "        # If matrix = [1,2,3,0,0,0] where pad_token=0, the result mask is\n",
    "        # [False, False, False, True, True, True]\n",
    "        return (matrix == pad_token)"
   ]
  },
  {
   "cell_type": "code",
   "execution_count": 9,
   "metadata": {
    "tags": []
   },
   "outputs": [],
   "source": [
    "class Training:\n",
    "    \n",
    "    def __init__(self, epochs, loss, optimizer, scheduler, path, model_name='Transformer', early_stop=True, patience=5):\n",
    "        \n",
    "        self.loss = loss\n",
    "        self.optimizer = optimizer\n",
    "        self.scheduler = scheduler\n",
    "        self.epochs = epochs\n",
    "        self.path = path\n",
    "        self.model_name = model_name\n",
    "        self.early_stop_flag = early_stop\n",
    "        self.patience = patience\n",
    "        self.clear_results()\n",
    "        \n",
    "    def clear_results(self):\n",
    "        \n",
    "        self.results = {\n",
    "            'Train':[],\n",
    "            'Validation':[],\n",
    "            'Test':[],\n",
    "        }\n",
    "        \n",
    "    def fit(self, model, train_loader, validation_loader, test_loader):\n",
    "        \n",
    "        self.clear_results()\n",
    "        torch.cuda.empty_cache()\n",
    "        decrease = self.patience\n",
    "        not_improved = 0\n",
    "        \n",
    "        model.to(device)\n",
    "        fit_time = time.time()\n",
    "        \n",
    "        for e in range(self.epochs):\n",
    "            since = time.time()\n",
    "            running_loss = 0\n",
    "            #training loop\n",
    "            model.train()\n",
    "            self.train_loop(model, train_loader)\n",
    "            model.eval()\n",
    "            self.validation_loop(model, validation_loader)\n",
    "            self.test_loop(model, test_loader)\n",
    "            decrease, not_improved = self.early_stopping(validation_loader, decrease)\n",
    "            if not_improved == 1 and self.early_stop_flag:\n",
    "                print('[***] end training ...') \n",
    "                break\n",
    "            loss_per_training_batch = self.results['Train'][-1]\n",
    "            loss_per_validation_batch = self.results['Validation'][-1]\n",
    "            loss_per_test_batch = self.results['Test'][-1]\n",
    "            print(\"Epoch:{}/{}..\".format(e+1, self.epochs),\n",
    "                  \"Train Loss: {:.3f}..\".format(loss_per_training_batch),\n",
    "                  \"Val Loss: {:.3f}..\".format(loss_per_validation_batch),\n",
    "                  \"Test Loss: {:.3f}..\".format(loss_per_test_batch),\n",
    "                  \"Time: {:.2f}m\".format((time.time()-since)/60))\n",
    "        print('Total time: {:.2f} m' .format((time.time()- fit_time)/60))\n",
    "        \n",
    "    def train_loop(self, model, train_loader):\n",
    "        \n",
    "        running_loss = 0.0\n",
    "        for i, data in enumerate(tqdm(train_loader)):\n",
    "            #training phase\n",
    "            X, y_tgt, y_out = data\n",
    "            X, y_tgt, y_out = X.to(device), y_tgt.to(device), y_out.to(device)\n",
    "            #y_result, y_tgt = Y, torch.from_numpy(-1.0*np.ones(Y.shape).astype('float32')).to(device)\n",
    "            #y_tgt[:,:,1:] = Y[:,:,:-1]\n",
    "            #y_tgt[:,:,0] = 0.0\n",
    "            output = model(X, y_tgt)\n",
    "            loss = self.loss(output.ravel(), y_out.ravel())\n",
    "            #backward\n",
    "            loss.backward()\n",
    "            self.optimizer.step() #update weight          \n",
    "            self.optimizer.zero_grad() #reset gradient\n",
    "            \n",
    "            #step the learning rate\n",
    "            if not self.scheduler is None:\n",
    "                self.scheduler.step()\n",
    "            running_loss += loss.item()\n",
    "        \n",
    "        self.results['Train'].append(running_loss/len(train_loader))\n",
    "    \n",
    "    \n",
    "    def validation_loop(self, model, validation_loader):\n",
    "        \n",
    "        running_loss = 0.0\n",
    "        with torch.no_grad():\n",
    "            for i, data in enumerate(tqdm(validation_loader)):\n",
    "                #training phase\n",
    "                X, y_tgt, y_out = data\n",
    "                X, y_tgt, y_out = X.to(device), y_tgt.to(device), y_out.to(device)\n",
    "                #y_result, y_tgt = Y, torch.from_numpy(-1.0*np.ones(Y.shape).astype('float32')).to(device)\n",
    "                #y_tgt[:,:,1:] = Y[:,:,:-1]\n",
    "                #y_tgt[:,:,0] = 0.0\n",
    "                output = model(X, y_tgt)\n",
    "                loss = self.loss(output.ravel(), y_out.ravel())\n",
    "                \n",
    "                running_loss += loss.item()\n",
    "        \n",
    "        self.results['Validation'].append(running_loss/len(validation_loader))\n",
    "        \n",
    "    def test_loop(self, model, test_loader):\n",
    "        \n",
    "        running_loss = 0.0\n",
    "        with torch.no_grad():\n",
    "            for i, data in enumerate(tqdm(test_loader)):\n",
    "                #training phase\n",
    "                X, y_tgt, y_out = data\n",
    "                X, y_tgt, y_out = X.to(device), y_tgt.to(device), y_out.to(device)\n",
    "                #y_result, y_tgt = Y, torch.from_numpy(-1.0*np.ones(Y.shape).astype('float32')).to(device)\n",
    "                #y_tgt[:,:,1:] = Y[:,:,:-1]\n",
    "                #y_tgt[:,:,0] = 0.0\n",
    "                output = model(X, y_tgt)\n",
    "                loss = self.loss(output.ravel(), y_out.ravel())\n",
    "                \n",
    "                running_loss += loss.item()\n",
    "        \n",
    "        self.results['Test'].append(running_loss/len(test_loader))\n",
    "        \n",
    "    def early_stopping(self, validation_loader, decrease):\n",
    "        \n",
    "        loss_per_validation_batch = self.results['Validation'][-1]\n",
    "        min_loss = np.min(self.results['Validation'][:-1] + [np.inf])\n",
    "        if min_loss >= self.results['Validation'][-1]:\n",
    "            print('Loss Decreasing.. {:.3f} >> {:.3f} '.format(min_loss, loss_per_validation_batch))\n",
    "            decrease = self.patience\n",
    "            print('saving model...')\n",
    "            torch.save(model, self.path + f'/{self.model_name}.pt')\n",
    "        else:\n",
    "            decrease -= 1\n",
    "        if decrease < 0:     \n",
    "                not_improved = 1\n",
    "        else:\n",
    "            not_improved = 0\n",
    "        return decrease, not_improved\n",
    "    \n",
    "    def get_best_model(self):\n",
    "        \n",
    "        model = torch.load(self.path + f'/{self.model_name}.pt')\n",
    "        return model\n",
    "            \n",
    "            "
   ]
  },
  {
   "cell_type": "code",
   "execution_count": 10,
   "metadata": {
    "tags": []
   },
   "outputs": [
    {
     "name": "stdout",
     "output_type": "stream",
     "text": [
      "Transformer(\n",
      "  (positional_encoder): PositionalEncoding(\n",
      "    (dropout): Dropout(p=0.1, inplace=False)\n",
      "  )\n",
      "  (transformer): Transformer(\n",
      "    (encoder): TransformerEncoder(\n",
      "      (layers): ModuleList(\n",
      "        (0-2): 3 x TransformerEncoderLayer(\n",
      "          (self_attn): MultiheadAttention(\n",
      "            (out_proj): NonDynamicallyQuantizableLinear(in_features=8, out_features=8, bias=True)\n",
      "          )\n",
      "          (linear1): Linear(in_features=8, out_features=32, bias=True)\n",
      "          (dropout): Dropout(p=0.1, inplace=False)\n",
      "          (linear2): Linear(in_features=32, out_features=8, bias=True)\n",
      "          (norm1): LayerNorm((8,), eps=1e-05, elementwise_affine=True)\n",
      "          (norm2): LayerNorm((8,), eps=1e-05, elementwise_affine=True)\n",
      "          (dropout1): Dropout(p=0.1, inplace=False)\n",
      "          (dropout2): Dropout(p=0.1, inplace=False)\n",
      "        )\n",
      "      )\n",
      "      (norm): LayerNorm((8,), eps=1e-05, elementwise_affine=True)\n",
      "    )\n",
      "    (decoder): TransformerDecoder(\n",
      "      (layers): ModuleList(\n",
      "        (0-2): 3 x TransformerDecoderLayer(\n",
      "          (self_attn): MultiheadAttention(\n",
      "            (out_proj): NonDynamicallyQuantizableLinear(in_features=8, out_features=8, bias=True)\n",
      "          )\n",
      "          (multihead_attn): MultiheadAttention(\n",
      "            (out_proj): NonDynamicallyQuantizableLinear(in_features=8, out_features=8, bias=True)\n",
      "          )\n",
      "          (linear1): Linear(in_features=8, out_features=32, bias=True)\n",
      "          (dropout): Dropout(p=0.1, inplace=False)\n",
      "          (linear2): Linear(in_features=32, out_features=8, bias=True)\n",
      "          (norm1): LayerNorm((8,), eps=1e-05, elementwise_affine=True)\n",
      "          (norm2): LayerNorm((8,), eps=1e-05, elementwise_affine=True)\n",
      "          (norm3): LayerNorm((8,), eps=1e-05, elementwise_affine=True)\n",
      "          (dropout1): Dropout(p=0.1, inplace=False)\n",
      "          (dropout2): Dropout(p=0.1, inplace=False)\n",
      "          (dropout3): Dropout(p=0.1, inplace=False)\n",
      "        )\n",
      "      )\n",
      "      (norm): LayerNorm((8,), eps=1e-05, elementwise_affine=True)\n",
      "    )\n",
      "  )\n",
      "  (linear_layers): ModuleList()\n",
      "  (out): Linear(in_features=8, out_features=1, bias=True)\n",
      ")\n"
     ]
    }
   ],
   "source": [
    "model = Transformer(\n",
    "    num_outputs=1, dim_model=dataset.max_sequence, num_heads=2, \n",
    "    num_encoder_layers=3, num_decoder_layers=3, dropout_p=0.1, norm_first=False,\n",
    "    num_linear_layers=0, dim_feedforward =4*dataset.max_sequence\n",
    ").to(device)\n",
    "\n",
    "print(model)\n",
    "\n",
    "lr_ = 5e-4\n",
    "epoch = 1000\n",
    "weight_decay = 1e-4\n",
    "path = '.'\n",
    "model_name = 'ADIM-RATIO'\n",
    "\n",
    "loss = torch.nn.MSELoss()\n",
    "#optimizer = torch.optim.Adam(model.parameters(), lr=lr_)\n",
    "#optimizer = torch.optim.SGD(model.parameters(), lr=lr_)\n",
    "optimizer = torch.optim.AdamW(model.parameters(), lr=lr_, weight_decay=weight_decay)\n",
    "sched = None\n",
    "sched = torch.optim.lr_scheduler.OneCycleLR(optimizer, lr_, epochs=epoch,\n",
    "                                            steps_per_epoch=len(train_loader))\n",
    "training = Training(epoch, loss, optimizer, sched, model_name=model_name, path=path, early_stop=False, patience=20)"
   ]
  },
  {
   "cell_type": "code",
   "execution_count": 11,
   "metadata": {
    "tags": []
   },
   "outputs": [
    {
     "name": "stderr",
     "output_type": "stream",
     "text": [
      "100%|██████████| 107/107 [00:02<00:00, 51.03it/s]\n",
      "100%|██████████| 18/18 [00:00<00:00, 310.58it/s]\n",
      "100%|██████████| 53/53 [00:00<00:00, 327.25it/s]\n"
     ]
    },
    {
     "name": "stdout",
     "output_type": "stream",
     "text": [
      "Loss Decreasing.. inf >> 0.192 \n",
      "saving model...\n",
      "Epoch:1/1000.. Train Loss: 0.305.. Val Loss: 0.192.. Test Loss: 0.153.. Time: 0.04m\n"
     ]
    },
    {
     "name": "stderr",
     "output_type": "stream",
     "text": [
      "100%|██████████| 107/107 [00:01<00:00, 70.56it/s]\n",
      "100%|██████████| 18/18 [00:00<00:00, 325.81it/s]\n",
      "100%|██████████| 53/53 [00:00<00:00, 326.36it/s]\n"
     ]
    },
    {
     "name": "stdout",
     "output_type": "stream",
     "text": [
      "Loss Decreasing.. 0.192 >> 0.170 \n",
      "saving model...\n",
      "Epoch:2/1000.. Train Loss: 0.235.. Val Loss: 0.170.. Test Loss: 0.142.. Time: 0.03m\n"
     ]
    },
    {
     "name": "stderr",
     "output_type": "stream",
     "text": [
      "100%|██████████| 107/107 [00:01<00:00, 69.80it/s]\n",
      "100%|██████████| 18/18 [00:00<00:00, 316.94it/s]\n",
      "100%|██████████| 53/53 [00:00<00:00, 328.00it/s]\n"
     ]
    },
    {
     "name": "stdout",
     "output_type": "stream",
     "text": [
      "Loss Decreasing.. 0.170 >> 0.154 \n",
      "saving model...\n",
      "Epoch:3/1000.. Train Loss: 0.218.. Val Loss: 0.154.. Test Loss: 0.132.. Time: 0.03m\n"
     ]
    },
    {
     "name": "stderr",
     "output_type": "stream",
     "text": [
      "100%|██████████| 107/107 [00:01<00:00, 68.75it/s]\n",
      "100%|██████████| 18/18 [00:00<00:00, 315.10it/s]\n",
      "100%|██████████| 53/53 [00:00<00:00, 322.82it/s]\n"
     ]
    },
    {
     "name": "stdout",
     "output_type": "stream",
     "text": [
      "Loss Decreasing.. 0.154 >> 0.153 \n",
      "saving model...\n",
      "Epoch:4/1000.. Train Loss: 0.175.. Val Loss: 0.153.. Test Loss: 0.124.. Time: 0.03m\n"
     ]
    },
    {
     "name": "stderr",
     "output_type": "stream",
     "text": [
      "100%|██████████| 107/107 [00:01<00:00, 69.87it/s]\n",
      "100%|██████████| 18/18 [00:00<00:00, 330.57it/s]\n",
      "100%|██████████| 53/53 [00:00<00:00, 329.11it/s]\n"
     ]
    },
    {
     "name": "stdout",
     "output_type": "stream",
     "text": [
      "Loss Decreasing.. 0.153 >> 0.142 \n",
      "saving model...\n",
      "Epoch:5/1000.. Train Loss: 0.212.. Val Loss: 0.142.. Test Loss: 0.120.. Time: 0.03m\n"
     ]
    },
    {
     "name": "stderr",
     "output_type": "stream",
     "text": [
      "100%|██████████| 107/107 [00:01<00:00, 69.90it/s]\n",
      "100%|██████████| 18/18 [00:00<00:00, 324.73it/s]\n",
      "100%|██████████| 53/53 [00:00<00:00, 324.33it/s]\n"
     ]
    },
    {
     "name": "stdout",
     "output_type": "stream",
     "text": [
      "Loss Decreasing.. 0.142 >> 0.138 \n",
      "saving model...\n",
      "Epoch:6/1000.. Train Loss: 0.180.. Val Loss: 0.138.. Test Loss: 0.113.. Time: 0.03m\n"
     ]
    },
    {
     "name": "stderr",
     "output_type": "stream",
     "text": [
      "100%|██████████| 107/107 [00:01<00:00, 69.71it/s]\n",
      "100%|██████████| 18/18 [00:00<00:00, 320.83it/s]\n",
      "100%|██████████| 53/53 [00:00<00:00, 329.98it/s]\n"
     ]
    },
    {
     "name": "stdout",
     "output_type": "stream",
     "text": [
      "Loss Decreasing.. 0.138 >> 0.134 \n",
      "saving model...\n",
      "Epoch:7/1000.. Train Loss: 0.192.. Val Loss: 0.134.. Test Loss: 0.110.. Time: 0.03m\n"
     ]
    },
    {
     "name": "stderr",
     "output_type": "stream",
     "text": [
      "100%|██████████| 107/107 [00:01<00:00, 67.88it/s]\n",
      "100%|██████████| 18/18 [00:00<00:00, 329.35it/s]\n",
      "100%|██████████| 53/53 [00:00<00:00, 324.97it/s]\n"
     ]
    },
    {
     "name": "stdout",
     "output_type": "stream",
     "text": [
      "Loss Decreasing.. 0.134 >> 0.132 \n",
      "saving model...\n",
      "Epoch:8/1000.. Train Loss: 0.156.. Val Loss: 0.132.. Test Loss: 0.106.. Time: 0.03m\n"
     ]
    },
    {
     "name": "stderr",
     "output_type": "stream",
     "text": [
      "100%|██████████| 107/107 [00:01<00:00, 60.51it/s]\n",
      "100%|██████████| 18/18 [00:00<00:00, 248.18it/s]\n",
      "100%|██████████| 53/53 [00:00<00:00, 314.00it/s]\n"
     ]
    },
    {
     "name": "stdout",
     "output_type": "stream",
     "text": [
      "Loss Decreasing.. 0.132 >> 0.128 \n",
      "saving model...\n",
      "Epoch:9/1000.. Train Loss: 0.154.. Val Loss: 0.128.. Test Loss: 0.103.. Time: 0.03m\n"
     ]
    },
    {
     "name": "stderr",
     "output_type": "stream",
     "text": [
      "100%|██████████| 107/107 [00:01<00:00, 61.63it/s]\n",
      "100%|██████████| 18/18 [00:00<00:00, 262.63it/s]\n",
      "100%|██████████| 53/53 [00:00<00:00, 324.20it/s]\n"
     ]
    },
    {
     "name": "stdout",
     "output_type": "stream",
     "text": [
      "Loss Decreasing.. 0.128 >> 0.127 \n",
      "saving model...\n",
      "Epoch:10/1000.. Train Loss: 0.164.. Val Loss: 0.127.. Test Loss: 0.098.. Time: 0.03m\n"
     ]
    },
    {
     "name": "stderr",
     "output_type": "stream",
     "text": [
      "100%|██████████| 107/107 [00:01<00:00, 60.58it/s]\n",
      "100%|██████████| 18/18 [00:00<00:00, 326.40it/s]\n",
      "100%|██████████| 53/53 [00:00<00:00, 326.81it/s]\n"
     ]
    },
    {
     "name": "stdout",
     "output_type": "stream",
     "text": [
      "Epoch:11/1000.. Train Loss: 0.144.. Val Loss: 0.129.. Test Loss: 0.096.. Time: 0.03m\n"
     ]
    },
    {
     "name": "stderr",
     "output_type": "stream",
     "text": [
      "100%|██████████| 107/107 [00:01<00:00, 61.33it/s]\n",
      "100%|██████████| 18/18 [00:00<00:00, 326.83it/s]\n",
      "100%|██████████| 53/53 [00:00<00:00, 325.05it/s]\n"
     ]
    },
    {
     "name": "stdout",
     "output_type": "stream",
     "text": [
      "Loss Decreasing.. 0.127 >> 0.123 \n",
      "saving model...\n",
      "Epoch:12/1000.. Train Loss: 0.154.. Val Loss: 0.123.. Test Loss: 0.093.. Time: 0.03m\n"
     ]
    },
    {
     "name": "stderr",
     "output_type": "stream",
     "text": [
      "100%|██████████| 107/107 [00:01<00:00, 60.01it/s]\n",
      "100%|██████████| 18/18 [00:00<00:00, 260.58it/s]\n",
      "100%|██████████| 53/53 [00:00<00:00, 313.67it/s]\n"
     ]
    },
    {
     "name": "stdout",
     "output_type": "stream",
     "text": [
      "Loss Decreasing.. 0.123 >> 0.120 \n",
      "saving model...\n",
      "Epoch:13/1000.. Train Loss: 0.168.. Val Loss: 0.120.. Test Loss: 0.092.. Time: 0.03m\n"
     ]
    },
    {
     "name": "stderr",
     "output_type": "stream",
     "text": [
      "100%|██████████| 107/107 [00:01<00:00, 70.23it/s]\n",
      "100%|██████████| 18/18 [00:00<00:00, 315.75it/s]\n",
      "100%|██████████| 53/53 [00:00<00:00, 324.94it/s]\n"
     ]
    },
    {
     "name": "stdout",
     "output_type": "stream",
     "text": [
      "Epoch:14/1000.. Train Loss: 0.149.. Val Loss: 0.125.. Test Loss: 0.092.. Time: 0.03m\n"
     ]
    },
    {
     "name": "stderr",
     "output_type": "stream",
     "text": [
      "100%|██████████| 107/107 [00:01<00:00, 69.16it/s]\n",
      "100%|██████████| 18/18 [00:00<00:00, 314.02it/s]\n",
      "100%|██████████| 53/53 [00:00<00:00, 311.05it/s]\n"
     ]
    },
    {
     "name": "stdout",
     "output_type": "stream",
     "text": [
      "Epoch:15/1000.. Train Loss: 0.121.. Val Loss: 0.121.. Test Loss: 0.089.. Time: 0.03m\n"
     ]
    },
    {
     "name": "stderr",
     "output_type": "stream",
     "text": [
      "100%|██████████| 107/107 [00:01<00:00, 70.57it/s]\n",
      "100%|██████████| 18/18 [00:00<00:00, 303.69it/s]\n",
      "100%|██████████| 53/53 [00:00<00:00, 321.64it/s]\n"
     ]
    },
    {
     "name": "stdout",
     "output_type": "stream",
     "text": [
      "Epoch:16/1000.. Train Loss: 0.127.. Val Loss: 0.127.. Test Loss: 0.087.. Time: 0.03m\n"
     ]
    },
    {
     "name": "stderr",
     "output_type": "stream",
     "text": [
      "100%|██████████| 107/107 [00:01<00:00, 69.23it/s]\n",
      "100%|██████████| 18/18 [00:00<00:00, 262.08it/s]\n",
      "100%|██████████| 53/53 [00:00<00:00, 319.36it/s]\n"
     ]
    },
    {
     "name": "stdout",
     "output_type": "stream",
     "text": [
      "Loss Decreasing.. 0.120 >> 0.117 \n",
      "saving model...\n",
      "Epoch:17/1000.. Train Loss: 0.127.. Val Loss: 0.117.. Test Loss: 0.085.. Time: 0.03m\n"
     ]
    },
    {
     "name": "stderr",
     "output_type": "stream",
     "text": [
      "100%|██████████| 107/107 [00:01<00:00, 71.29it/s]\n",
      "100%|██████████| 18/18 [00:00<00:00, 326.80it/s]\n",
      "100%|██████████| 53/53 [00:00<00:00, 325.17it/s]\n"
     ]
    },
    {
     "name": "stdout",
     "output_type": "stream",
     "text": [
      "Epoch:18/1000.. Train Loss: 0.124.. Val Loss: 0.127.. Test Loss: 0.084.. Time: 0.03m\n"
     ]
    },
    {
     "name": "stderr",
     "output_type": "stream",
     "text": [
      "100%|██████████| 107/107 [00:01<00:00, 64.79it/s]\n",
      "100%|██████████| 18/18 [00:00<00:00, 255.08it/s]\n",
      "100%|██████████| 53/53 [00:00<00:00, 282.57it/s]\n"
     ]
    },
    {
     "name": "stdout",
     "output_type": "stream",
     "text": [
      "Epoch:19/1000.. Train Loss: 0.117.. Val Loss: 0.120.. Test Loss: 0.084.. Time: 0.03m\n"
     ]
    },
    {
     "name": "stderr",
     "output_type": "stream",
     "text": [
      "100%|██████████| 107/107 [00:01<00:00, 69.84it/s]\n",
      "100%|██████████| 18/18 [00:00<00:00, 320.62it/s]\n",
      "100%|██████████| 53/53 [00:00<00:00, 323.40it/s]\n"
     ]
    },
    {
     "name": "stdout",
     "output_type": "stream",
     "text": [
      "Loss Decreasing.. 0.117 >> 0.112 \n",
      "saving model...\n",
      "Epoch:20/1000.. Train Loss: 0.107.. Val Loss: 0.112.. Test Loss: 0.082.. Time: 0.03m\n"
     ]
    },
    {
     "name": "stderr",
     "output_type": "stream",
     "text": [
      "100%|██████████| 107/107 [00:01<00:00, 70.28it/s]\n",
      "100%|██████████| 18/18 [00:00<00:00, 322.48it/s]\n",
      "100%|██████████| 53/53 [00:00<00:00, 328.46it/s]\n"
     ]
    },
    {
     "name": "stdout",
     "output_type": "stream",
     "text": [
      "Loss Decreasing.. 0.112 >> 0.111 \n",
      "saving model...\n",
      "Epoch:21/1000.. Train Loss: 0.120.. Val Loss: 0.111.. Test Loss: 0.080.. Time: 0.03m\n"
     ]
    },
    {
     "name": "stderr",
     "output_type": "stream",
     "text": [
      "100%|██████████| 107/107 [00:01<00:00, 63.39it/s]\n",
      "100%|██████████| 18/18 [00:00<00:00, 275.01it/s]\n",
      "100%|██████████| 53/53 [00:00<00:00, 329.17it/s]\n"
     ]
    },
    {
     "name": "stdout",
     "output_type": "stream",
     "text": [
      "Epoch:22/1000.. Train Loss: 0.118.. Val Loss: 0.112.. Test Loss: 0.080.. Time: 0.03m\n"
     ]
    },
    {
     "name": "stderr",
     "output_type": "stream",
     "text": [
      "100%|██████████| 107/107 [00:01<00:00, 68.08it/s]\n",
      "100%|██████████| 18/18 [00:00<00:00, 332.72it/s]\n",
      "100%|██████████| 53/53 [00:00<00:00, 325.22it/s]\n"
     ]
    },
    {
     "name": "stdout",
     "output_type": "stream",
     "text": [
      "Loss Decreasing.. 0.111 >> 0.110 \n",
      "saving model...\n",
      "Epoch:23/1000.. Train Loss: 0.117.. Val Loss: 0.110.. Test Loss: 0.078.. Time: 0.03m\n"
     ]
    },
    {
     "name": "stderr",
     "output_type": "stream",
     "text": [
      "100%|██████████| 107/107 [00:01<00:00, 70.05it/s]\n",
      "100%|██████████| 18/18 [00:00<00:00, 330.20it/s]\n",
      "100%|██████████| 53/53 [00:00<00:00, 331.09it/s]\n"
     ]
    },
    {
     "name": "stdout",
     "output_type": "stream",
     "text": [
      "Loss Decreasing.. 0.110 >> 0.108 \n",
      "saving model...\n",
      "Epoch:24/1000.. Train Loss: 0.114.. Val Loss: 0.108.. Test Loss: 0.076.. Time: 0.03m\n"
     ]
    },
    {
     "name": "stderr",
     "output_type": "stream",
     "text": [
      "100%|██████████| 107/107 [00:01<00:00, 71.07it/s]\n",
      "100%|██████████| 18/18 [00:00<00:00, 328.88it/s]\n",
      "100%|██████████| 53/53 [00:00<00:00, 316.78it/s]\n"
     ]
    },
    {
     "name": "stdout",
     "output_type": "stream",
     "text": [
      "Epoch:25/1000.. Train Loss: 0.105.. Val Loss: 0.113.. Test Loss: 0.075.. Time: 0.03m\n"
     ]
    },
    {
     "name": "stderr",
     "output_type": "stream",
     "text": [
      "100%|██████████| 107/107 [00:01<00:00, 70.82it/s]\n",
      "100%|██████████| 18/18 [00:00<00:00, 329.72it/s]\n",
      "100%|██████████| 53/53 [00:00<00:00, 328.76it/s]\n"
     ]
    },
    {
     "name": "stdout",
     "output_type": "stream",
     "text": [
      "Loss Decreasing.. 0.108 >> 0.108 \n",
      "saving model...\n",
      "Epoch:26/1000.. Train Loss: 0.101.. Val Loss: 0.108.. Test Loss: 0.076.. Time: 0.03m\n"
     ]
    },
    {
     "name": "stderr",
     "output_type": "stream",
     "text": [
      "100%|██████████| 107/107 [00:01<00:00, 71.32it/s]\n",
      "100%|██████████| 18/18 [00:00<00:00, 323.20it/s]\n",
      "100%|██████████| 53/53 [00:00<00:00, 327.58it/s]\n"
     ]
    },
    {
     "name": "stdout",
     "output_type": "stream",
     "text": [
      "Epoch:27/1000.. Train Loss: 0.104.. Val Loss: 0.111.. Test Loss: 0.074.. Time: 0.03m\n"
     ]
    },
    {
     "name": "stderr",
     "output_type": "stream",
     "text": [
      "100%|██████████| 107/107 [00:01<00:00, 70.58it/s]\n",
      "100%|██████████| 18/18 [00:00<00:00, 320.82it/s]\n",
      "100%|██████████| 53/53 [00:00<00:00, 327.76it/s]\n"
     ]
    },
    {
     "name": "stdout",
     "output_type": "stream",
     "text": [
      "Epoch:28/1000.. Train Loss: 0.100.. Val Loss: 0.111.. Test Loss: 0.073.. Time: 0.03m\n"
     ]
    },
    {
     "name": "stderr",
     "output_type": "stream",
     "text": [
      "100%|██████████| 107/107 [00:01<00:00, 70.29it/s]\n",
      "100%|██████████| 18/18 [00:00<00:00, 321.24it/s]\n",
      "100%|██████████| 53/53 [00:00<00:00, 323.55it/s]\n"
     ]
    },
    {
     "name": "stdout",
     "output_type": "stream",
     "text": [
      "Loss Decreasing.. 0.108 >> 0.107 \n",
      "saving model...\n",
      "Epoch:29/1000.. Train Loss: 0.104.. Val Loss: 0.107.. Test Loss: 0.071.. Time: 0.03m\n"
     ]
    },
    {
     "name": "stderr",
     "output_type": "stream",
     "text": [
      "100%|██████████| 107/107 [00:01<00:00, 70.91it/s]\n",
      "100%|██████████| 18/18 [00:00<00:00, 321.84it/s]\n",
      "100%|██████████| 53/53 [00:00<00:00, 328.09it/s]\n"
     ]
    },
    {
     "name": "stdout",
     "output_type": "stream",
     "text": [
      "Loss Decreasing.. 0.107 >> 0.106 \n",
      "saving model...\n",
      "Epoch:30/1000.. Train Loss: 0.102.. Val Loss: 0.106.. Test Loss: 0.070.. Time: 0.03m\n"
     ]
    },
    {
     "name": "stderr",
     "output_type": "stream",
     "text": [
      "100%|██████████| 107/107 [00:01<00:00, 70.07it/s]\n",
      "100%|██████████| 18/18 [00:00<00:00, 315.91it/s]\n",
      "100%|██████████| 53/53 [00:00<00:00, 326.70it/s]\n"
     ]
    },
    {
     "name": "stdout",
     "output_type": "stream",
     "text": [
      "Epoch:31/1000.. Train Loss: 0.099.. Val Loss: 0.123.. Test Loss: 0.070.. Time: 0.03m\n"
     ]
    },
    {
     "name": "stderr",
     "output_type": "stream",
     "text": [
      "100%|██████████| 107/107 [00:01<00:00, 70.45it/s]\n",
      "100%|██████████| 18/18 [00:00<00:00, 322.61it/s]\n",
      "100%|██████████| 53/53 [00:00<00:00, 327.23it/s]\n"
     ]
    },
    {
     "name": "stdout",
     "output_type": "stream",
     "text": [
      "Epoch:32/1000.. Train Loss: 0.102.. Val Loss: 0.106.. Test Loss: 0.069.. Time: 0.03m\n"
     ]
    },
    {
     "name": "stderr",
     "output_type": "stream",
     "text": [
      "100%|██████████| 107/107 [00:01<00:00, 69.64it/s]\n",
      "100%|██████████| 18/18 [00:00<00:00, 323.04it/s]\n",
      "100%|██████████| 53/53 [00:00<00:00, 327.52it/s]\n"
     ]
    },
    {
     "name": "stdout",
     "output_type": "stream",
     "text": [
      "Loss Decreasing.. 0.106 >> 0.104 \n",
      "saving model...\n",
      "Epoch:33/1000.. Train Loss: 0.092.. Val Loss: 0.104.. Test Loss: 0.067.. Time: 0.03m\n"
     ]
    },
    {
     "name": "stderr",
     "output_type": "stream",
     "text": [
      "100%|██████████| 107/107 [00:01<00:00, 72.24it/s]\n",
      "100%|██████████| 18/18 [00:00<00:00, 328.07it/s]\n",
      "100%|██████████| 53/53 [00:00<00:00, 332.25it/s]\n"
     ]
    },
    {
     "name": "stdout",
     "output_type": "stream",
     "text": [
      "Epoch:34/1000.. Train Loss: 0.095.. Val Loss: 0.108.. Test Loss: 0.067.. Time: 0.03m\n"
     ]
    },
    {
     "name": "stderr",
     "output_type": "stream",
     "text": [
      "100%|██████████| 107/107 [00:01<00:00, 70.01it/s]\n",
      "100%|██████████| 18/18 [00:00<00:00, 328.60it/s]\n",
      "100%|██████████| 53/53 [00:00<00:00, 333.14it/s]\n"
     ]
    },
    {
     "name": "stdout",
     "output_type": "stream",
     "text": [
      "Epoch:35/1000.. Train Loss: 0.090.. Val Loss: 0.110.. Test Loss: 0.066.. Time: 0.03m\n"
     ]
    },
    {
     "name": "stderr",
     "output_type": "stream",
     "text": [
      "100%|██████████| 107/107 [00:01<00:00, 70.01it/s]\n",
      "100%|██████████| 18/18 [00:00<00:00, 316.71it/s]\n",
      "100%|██████████| 53/53 [00:00<00:00, 328.29it/s]\n"
     ]
    },
    {
     "name": "stdout",
     "output_type": "stream",
     "text": [
      "Loss Decreasing.. 0.104 >> 0.104 \n",
      "saving model...\n",
      "Epoch:36/1000.. Train Loss: 0.090.. Val Loss: 0.104.. Test Loss: 0.065.. Time: 0.03m\n"
     ]
    },
    {
     "name": "stderr",
     "output_type": "stream",
     "text": [
      "100%|██████████| 107/107 [00:01<00:00, 70.31it/s]\n",
      "100%|██████████| 18/18 [00:00<00:00, 322.44it/s]\n",
      "100%|██████████| 53/53 [00:00<00:00, 330.19it/s]\n"
     ]
    },
    {
     "name": "stdout",
     "output_type": "stream",
     "text": [
      "Epoch:37/1000.. Train Loss: 0.081.. Val Loss: 0.105.. Test Loss: 0.063.. Time: 0.03m\n"
     ]
    },
    {
     "name": "stderr",
     "output_type": "stream",
     "text": [
      "100%|██████████| 107/107 [00:01<00:00, 71.38it/s]\n",
      "100%|██████████| 18/18 [00:00<00:00, 334.64it/s]\n",
      "100%|██████████| 53/53 [00:00<00:00, 335.32it/s]\n"
     ]
    },
    {
     "name": "stdout",
     "output_type": "stream",
     "text": [
      "Loss Decreasing.. 0.104 >> 0.103 \n",
      "saving model...\n",
      "Epoch:38/1000.. Train Loss: 0.091.. Val Loss: 0.103.. Test Loss: 0.064.. Time: 0.03m\n"
     ]
    },
    {
     "name": "stderr",
     "output_type": "stream",
     "text": [
      "100%|██████████| 107/107 [00:01<00:00, 69.85it/s]\n",
      "100%|██████████| 18/18 [00:00<00:00, 321.35it/s]\n",
      "100%|██████████| 53/53 [00:00<00:00, 329.57it/s]\n"
     ]
    },
    {
     "name": "stdout",
     "output_type": "stream",
     "text": [
      "Epoch:39/1000.. Train Loss: 0.076.. Val Loss: 0.105.. Test Loss: 0.062.. Time: 0.03m\n"
     ]
    },
    {
     "name": "stderr",
     "output_type": "stream",
     "text": [
      "100%|██████████| 107/107 [00:01<00:00, 71.13it/s]\n",
      "100%|██████████| 18/18 [00:00<00:00, 324.83it/s]\n",
      "100%|██████████| 53/53 [00:00<00:00, 325.08it/s]\n"
     ]
    },
    {
     "name": "stdout",
     "output_type": "stream",
     "text": [
      "Epoch:40/1000.. Train Loss: 0.082.. Val Loss: 0.108.. Test Loss: 0.061.. Time: 0.03m\n"
     ]
    },
    {
     "name": "stderr",
     "output_type": "stream",
     "text": [
      "100%|██████████| 107/107 [00:01<00:00, 70.33it/s]\n",
      "100%|██████████| 18/18 [00:00<00:00, 326.53it/s]\n",
      "100%|██████████| 53/53 [00:00<00:00, 326.06it/s]\n"
     ]
    },
    {
     "name": "stdout",
     "output_type": "stream",
     "text": [
      "Loss Decreasing.. 0.103 >> 0.100 \n",
      "saving model...\n",
      "Epoch:41/1000.. Train Loss: 0.087.. Val Loss: 0.100.. Test Loss: 0.060.. Time: 0.03m\n"
     ]
    },
    {
     "name": "stderr",
     "output_type": "stream",
     "text": [
      "100%|██████████| 107/107 [00:01<00:00, 70.30it/s]\n",
      "100%|██████████| 18/18 [00:00<00:00, 321.63it/s]\n",
      "100%|██████████| 53/53 [00:00<00:00, 327.68it/s]\n"
     ]
    },
    {
     "name": "stdout",
     "output_type": "stream",
     "text": [
      "Epoch:42/1000.. Train Loss: 0.082.. Val Loss: 0.102.. Test Loss: 0.060.. Time: 0.03m\n"
     ]
    },
    {
     "name": "stderr",
     "output_type": "stream",
     "text": [
      "100%|██████████| 107/107 [00:01<00:00, 70.38it/s]\n",
      "100%|██████████| 18/18 [00:00<00:00, 325.19it/s]\n",
      "100%|██████████| 53/53 [00:00<00:00, 329.09it/s]\n"
     ]
    },
    {
     "name": "stdout",
     "output_type": "stream",
     "text": [
      "Loss Decreasing.. 0.100 >> 0.098 \n",
      "saving model...\n",
      "Epoch:43/1000.. Train Loss: 0.080.. Val Loss: 0.098.. Test Loss: 0.059.. Time: 0.03m\n"
     ]
    },
    {
     "name": "stderr",
     "output_type": "stream",
     "text": [
      "100%|██████████| 107/107 [00:01<00:00, 71.51it/s]\n",
      "100%|██████████| 18/18 [00:00<00:00, 329.38it/s]\n",
      "100%|██████████| 53/53 [00:00<00:00, 331.38it/s]\n"
     ]
    },
    {
     "name": "stdout",
     "output_type": "stream",
     "text": [
      "Epoch:44/1000.. Train Loss: 0.075.. Val Loss: 0.100.. Test Loss: 0.059.. Time: 0.03m\n"
     ]
    },
    {
     "name": "stderr",
     "output_type": "stream",
     "text": [
      "100%|██████████| 107/107 [00:01<00:00, 72.42it/s]\n",
      "100%|██████████| 18/18 [00:00<00:00, 327.45it/s]\n",
      "100%|██████████| 53/53 [00:00<00:00, 329.09it/s]\n"
     ]
    },
    {
     "name": "stdout",
     "output_type": "stream",
     "text": [
      "Epoch:45/1000.. Train Loss: 0.083.. Val Loss: 0.100.. Test Loss: 0.060.. Time: 0.03m\n"
     ]
    },
    {
     "name": "stderr",
     "output_type": "stream",
     "text": [
      "100%|██████████| 107/107 [00:01<00:00, 71.59it/s]\n",
      "100%|██████████| 18/18 [00:00<00:00, 332.12it/s]\n",
      "100%|██████████| 53/53 [00:00<00:00, 326.10it/s]\n"
     ]
    },
    {
     "name": "stdout",
     "output_type": "stream",
     "text": [
      "Loss Decreasing.. 0.098 >> 0.098 \n",
      "saving model...\n",
      "Epoch:46/1000.. Train Loss: 0.080.. Val Loss: 0.098.. Test Loss: 0.058.. Time: 0.03m\n"
     ]
    },
    {
     "name": "stderr",
     "output_type": "stream",
     "text": [
      "100%|██████████| 107/107 [00:01<00:00, 71.62it/s]\n",
      "100%|██████████| 18/18 [00:00<00:00, 325.24it/s]\n",
      "100%|██████████| 53/53 [00:00<00:00, 330.55it/s]\n"
     ]
    },
    {
     "name": "stdout",
     "output_type": "stream",
     "text": [
      "Loss Decreasing.. 0.098 >> 0.097 \n",
      "saving model...\n",
      "Epoch:47/1000.. Train Loss: 0.080.. Val Loss: 0.097.. Test Loss: 0.058.. Time: 0.03m\n"
     ]
    },
    {
     "name": "stderr",
     "output_type": "stream",
     "text": [
      "100%|██████████| 107/107 [00:01<00:00, 71.36it/s]\n",
      "100%|██████████| 18/18 [00:00<00:00, 325.76it/s]\n",
      "100%|██████████| 53/53 [00:00<00:00, 324.17it/s]\n"
     ]
    },
    {
     "name": "stdout",
     "output_type": "stream",
     "text": [
      "Epoch:48/1000.. Train Loss: 0.071.. Val Loss: 0.100.. Test Loss: 0.058.. Time: 0.03m\n"
     ]
    },
    {
     "name": "stderr",
     "output_type": "stream",
     "text": [
      "100%|██████████| 107/107 [00:01<00:00, 70.34it/s]\n",
      "100%|██████████| 18/18 [00:00<00:00, 327.01it/s]\n",
      "100%|██████████| 53/53 [00:00<00:00, 324.91it/s]\n"
     ]
    },
    {
     "name": "stdout",
     "output_type": "stream",
     "text": [
      "Epoch:49/1000.. Train Loss: 0.073.. Val Loss: 0.099.. Test Loss: 0.057.. Time: 0.03m\n"
     ]
    },
    {
     "name": "stderr",
     "output_type": "stream",
     "text": [
      "100%|██████████| 107/107 [00:01<00:00, 70.59it/s]\n",
      "100%|██████████| 18/18 [00:00<00:00, 325.11it/s]\n",
      "100%|██████████| 53/53 [00:00<00:00, 327.31it/s]\n"
     ]
    },
    {
     "name": "stdout",
     "output_type": "stream",
     "text": [
      "Loss Decreasing.. 0.097 >> 0.096 \n",
      "saving model...\n",
      "Epoch:50/1000.. Train Loss: 0.071.. Val Loss: 0.096.. Test Loss: 0.056.. Time: 0.03m\n"
     ]
    },
    {
     "name": "stderr",
     "output_type": "stream",
     "text": [
      "100%|██████████| 107/107 [00:01<00:00, 70.11it/s]\n",
      "100%|██████████| 18/18 [00:00<00:00, 321.64it/s]\n",
      "100%|██████████| 53/53 [00:00<00:00, 329.51it/s]\n"
     ]
    },
    {
     "name": "stdout",
     "output_type": "stream",
     "text": [
      "Epoch:51/1000.. Train Loss: 0.066.. Val Loss: 0.098.. Test Loss: 0.056.. Time: 0.03m\n"
     ]
    },
    {
     "name": "stderr",
     "output_type": "stream",
     "text": [
      "100%|██████████| 107/107 [00:01<00:00, 70.70it/s]\n",
      "100%|██████████| 18/18 [00:00<00:00, 327.98it/s]\n",
      "100%|██████████| 53/53 [00:00<00:00, 331.93it/s]\n"
     ]
    },
    {
     "name": "stdout",
     "output_type": "stream",
     "text": [
      "Epoch:52/1000.. Train Loss: 0.067.. Val Loss: 0.102.. Test Loss: 0.056.. Time: 0.03m\n"
     ]
    },
    {
     "name": "stderr",
     "output_type": "stream",
     "text": [
      "100%|██████████| 107/107 [00:01<00:00, 71.04it/s]\n",
      "100%|██████████| 18/18 [00:00<00:00, 330.81it/s]\n",
      "100%|██████████| 53/53 [00:00<00:00, 325.58it/s]\n"
     ]
    },
    {
     "name": "stdout",
     "output_type": "stream",
     "text": [
      "Epoch:53/1000.. Train Loss: 0.067.. Val Loss: 0.097.. Test Loss: 0.056.. Time: 0.03m\n"
     ]
    },
    {
     "name": "stderr",
     "output_type": "stream",
     "text": [
      "100%|██████████| 107/107 [00:01<00:00, 70.65it/s]\n",
      "100%|██████████| 18/18 [00:00<00:00, 327.36it/s]\n",
      "100%|██████████| 53/53 [00:00<00:00, 330.98it/s]\n"
     ]
    },
    {
     "name": "stdout",
     "output_type": "stream",
     "text": [
      "Loss Decreasing.. 0.096 >> 0.095 \n",
      "saving model...\n",
      "Epoch:54/1000.. Train Loss: 0.063.. Val Loss: 0.095.. Test Loss: 0.055.. Time: 0.03m\n"
     ]
    },
    {
     "name": "stderr",
     "output_type": "stream",
     "text": [
      "100%|██████████| 107/107 [00:01<00:00, 70.26it/s]\n",
      "100%|██████████| 18/18 [00:00<00:00, 324.26it/s]\n",
      "100%|██████████| 53/53 [00:00<00:00, 327.91it/s]\n"
     ]
    },
    {
     "name": "stdout",
     "output_type": "stream",
     "text": [
      "Epoch:55/1000.. Train Loss: 0.073.. Val Loss: 0.097.. Test Loss: 0.055.. Time: 0.03m\n"
     ]
    },
    {
     "name": "stderr",
     "output_type": "stream",
     "text": [
      "100%|██████████| 107/107 [00:01<00:00, 71.33it/s]\n",
      "100%|██████████| 18/18 [00:00<00:00, 319.30it/s]\n",
      "100%|██████████| 53/53 [00:00<00:00, 331.03it/s]\n"
     ]
    },
    {
     "name": "stdout",
     "output_type": "stream",
     "text": [
      "Loss Decreasing.. 0.095 >> 0.094 \n",
      "saving model...\n",
      "Epoch:56/1000.. Train Loss: 0.068.. Val Loss: 0.094.. Test Loss: 0.053.. Time: 0.03m\n"
     ]
    },
    {
     "name": "stderr",
     "output_type": "stream",
     "text": [
      "100%|██████████| 107/107 [00:01<00:00, 70.69it/s]\n",
      "100%|██████████| 18/18 [00:00<00:00, 336.95it/s]\n",
      "100%|██████████| 53/53 [00:00<00:00, 336.32it/s]\n"
     ]
    },
    {
     "name": "stdout",
     "output_type": "stream",
     "text": [
      "Epoch:57/1000.. Train Loss: 0.067.. Val Loss: 0.096.. Test Loss: 0.053.. Time: 0.03m\n"
     ]
    },
    {
     "name": "stderr",
     "output_type": "stream",
     "text": [
      "100%|██████████| 107/107 [00:01<00:00, 72.32it/s]\n",
      "100%|██████████| 18/18 [00:00<00:00, 328.86it/s]\n",
      "100%|██████████| 53/53 [00:00<00:00, 336.82it/s]\n"
     ]
    },
    {
     "name": "stdout",
     "output_type": "stream",
     "text": [
      "Epoch:58/1000.. Train Loss: 0.066.. Val Loss: 0.094.. Test Loss: 0.052.. Time: 0.03m\n"
     ]
    },
    {
     "name": "stderr",
     "output_type": "stream",
     "text": [
      "100%|██████████| 107/107 [00:01<00:00, 70.14it/s]\n",
      "100%|██████████| 18/18 [00:00<00:00, 323.67it/s]\n",
      "100%|██████████| 53/53 [00:00<00:00, 329.43it/s]\n"
     ]
    },
    {
     "name": "stdout",
     "output_type": "stream",
     "text": [
      "Epoch:59/1000.. Train Loss: 0.063.. Val Loss: 0.094.. Test Loss: 0.051.. Time: 0.03m\n"
     ]
    },
    {
     "name": "stderr",
     "output_type": "stream",
     "text": [
      "100%|██████████| 107/107 [00:01<00:00, 70.62it/s]\n",
      "100%|██████████| 18/18 [00:00<00:00, 322.58it/s]\n",
      "100%|██████████| 53/53 [00:00<00:00, 326.26it/s]\n"
     ]
    },
    {
     "name": "stdout",
     "output_type": "stream",
     "text": [
      "Loss Decreasing.. 0.094 >> 0.093 \n",
      "saving model...\n",
      "Epoch:60/1000.. Train Loss: 0.063.. Val Loss: 0.093.. Test Loss: 0.051.. Time: 0.03m\n"
     ]
    },
    {
     "name": "stderr",
     "output_type": "stream",
     "text": [
      "100%|██████████| 107/107 [00:01<00:00, 70.70it/s]\n",
      "100%|██████████| 18/18 [00:00<00:00, 320.06it/s]\n",
      "100%|██████████| 53/53 [00:00<00:00, 327.53it/s]\n"
     ]
    },
    {
     "name": "stdout",
     "output_type": "stream",
     "text": [
      "Epoch:61/1000.. Train Loss: 0.063.. Val Loss: 0.095.. Test Loss: 0.050.. Time: 0.03m\n"
     ]
    },
    {
     "name": "stderr",
     "output_type": "stream",
     "text": [
      "100%|██████████| 107/107 [00:01<00:00, 71.20it/s]\n",
      "100%|██████████| 18/18 [00:00<00:00, 322.39it/s]\n",
      "100%|██████████| 53/53 [00:00<00:00, 327.62it/s]\n"
     ]
    },
    {
     "name": "stdout",
     "output_type": "stream",
     "text": [
      "Loss Decreasing.. 0.093 >> 0.093 \n",
      "saving model...\n",
      "Epoch:62/1000.. Train Loss: 0.062.. Val Loss: 0.093.. Test Loss: 0.050.. Time: 0.03m\n"
     ]
    },
    {
     "name": "stderr",
     "output_type": "stream",
     "text": [
      "100%|██████████| 107/107 [00:01<00:00, 69.86it/s]\n",
      "100%|██████████| 18/18 [00:00<00:00, 318.39it/s]\n",
      "100%|██████████| 53/53 [00:00<00:00, 324.90it/s]\n"
     ]
    },
    {
     "name": "stdout",
     "output_type": "stream",
     "text": [
      "Epoch:63/1000.. Train Loss: 0.058.. Val Loss: 0.102.. Test Loss: 0.050.. Time: 0.03m\n"
     ]
    },
    {
     "name": "stderr",
     "output_type": "stream",
     "text": [
      "100%|██████████| 107/107 [00:01<00:00, 70.00it/s]\n",
      "100%|██████████| 18/18 [00:00<00:00, 317.81it/s]\n",
      "100%|██████████| 53/53 [00:00<00:00, 324.25it/s]\n"
     ]
    },
    {
     "name": "stdout",
     "output_type": "stream",
     "text": [
      "Loss Decreasing.. 0.093 >> 0.092 \n",
      "saving model...\n",
      "Epoch:64/1000.. Train Loss: 0.063.. Val Loss: 0.092.. Test Loss: 0.052.. Time: 0.03m\n"
     ]
    },
    {
     "name": "stderr",
     "output_type": "stream",
     "text": [
      "100%|██████████| 107/107 [00:01<00:00, 69.78it/s]\n",
      "100%|██████████| 18/18 [00:00<00:00, 320.23it/s]\n",
      "100%|██████████| 53/53 [00:00<00:00, 322.51it/s]\n"
     ]
    },
    {
     "name": "stdout",
     "output_type": "stream",
     "text": [
      "Loss Decreasing.. 0.092 >> 0.091 \n",
      "saving model...\n",
      "Epoch:65/1000.. Train Loss: 0.059.. Val Loss: 0.091.. Test Loss: 0.051.. Time: 0.03m\n"
     ]
    },
    {
     "name": "stderr",
     "output_type": "stream",
     "text": [
      "100%|██████████| 107/107 [00:01<00:00, 65.75it/s]\n",
      "100%|██████████| 18/18 [00:00<00:00, 328.09it/s]\n",
      "100%|██████████| 53/53 [00:00<00:00, 331.54it/s]\n"
     ]
    },
    {
     "name": "stdout",
     "output_type": "stream",
     "text": [
      "Epoch:66/1000.. Train Loss: 0.057.. Val Loss: 0.093.. Test Loss: 0.051.. Time: 0.03m\n"
     ]
    },
    {
     "name": "stderr",
     "output_type": "stream",
     "text": [
      "100%|██████████| 107/107 [00:01<00:00, 71.24it/s]\n",
      "100%|██████████| 18/18 [00:00<00:00, 328.64it/s]\n",
      "100%|██████████| 53/53 [00:00<00:00, 326.94it/s]\n"
     ]
    },
    {
     "name": "stdout",
     "output_type": "stream",
     "text": [
      "Loss Decreasing.. 0.091 >> 0.090 \n",
      "saving model...\n",
      "Epoch:67/1000.. Train Loss: 0.060.. Val Loss: 0.090.. Test Loss: 0.050.. Time: 0.03m\n"
     ]
    },
    {
     "name": "stderr",
     "output_type": "stream",
     "text": [
      "100%|██████████| 107/107 [00:01<00:00, 71.69it/s]\n",
      "100%|██████████| 18/18 [00:00<00:00, 325.16it/s]\n",
      "100%|██████████| 53/53 [00:00<00:00, 328.84it/s]\n"
     ]
    },
    {
     "name": "stdout",
     "output_type": "stream",
     "text": [
      "Epoch:68/1000.. Train Loss: 0.061.. Val Loss: 0.091.. Test Loss: 0.050.. Time: 0.03m\n"
     ]
    },
    {
     "name": "stderr",
     "output_type": "stream",
     "text": [
      "100%|██████████| 107/107 [00:01<00:00, 70.20it/s]\n",
      "100%|██████████| 18/18 [00:00<00:00, 330.50it/s]\n",
      "100%|██████████| 53/53 [00:00<00:00, 314.40it/s]\n"
     ]
    },
    {
     "name": "stdout",
     "output_type": "stream",
     "text": [
      "Loss Decreasing.. 0.090 >> 0.088 \n",
      "saving model...\n",
      "Epoch:69/1000.. Train Loss: 0.056.. Val Loss: 0.088.. Test Loss: 0.050.. Time: 0.03m\n"
     ]
    },
    {
     "name": "stderr",
     "output_type": "stream",
     "text": [
      "100%|██████████| 107/107 [00:01<00:00, 61.66it/s]\n",
      "100%|██████████| 18/18 [00:00<00:00, 331.96it/s]\n",
      "100%|██████████| 53/53 [00:00<00:00, 330.75it/s]\n"
     ]
    },
    {
     "name": "stdout",
     "output_type": "stream",
     "text": [
      "Epoch:70/1000.. Train Loss: 0.053.. Val Loss: 0.091.. Test Loss: 0.049.. Time: 0.03m\n"
     ]
    },
    {
     "name": "stderr",
     "output_type": "stream",
     "text": [
      "100%|██████████| 107/107 [00:01<00:00, 71.45it/s]\n",
      "100%|██████████| 18/18 [00:00<00:00, 323.92it/s]\n",
      "100%|██████████| 53/53 [00:00<00:00, 331.22it/s]\n"
     ]
    },
    {
     "name": "stdout",
     "output_type": "stream",
     "text": [
      "Loss Decreasing.. 0.088 >> 0.087 \n",
      "saving model...\n",
      "Epoch:71/1000.. Train Loss: 0.055.. Val Loss: 0.087.. Test Loss: 0.049.. Time: 0.03m\n"
     ]
    },
    {
     "name": "stderr",
     "output_type": "stream",
     "text": [
      "100%|██████████| 107/107 [00:01<00:00, 71.53it/s]\n",
      "100%|██████████| 18/18 [00:00<00:00, 328.13it/s]\n",
      "100%|██████████| 53/53 [00:00<00:00, 330.36it/s]\n"
     ]
    },
    {
     "name": "stdout",
     "output_type": "stream",
     "text": [
      "Loss Decreasing.. 0.087 >> 0.087 \n",
      "saving model...\n",
      "Epoch:72/1000.. Train Loss: 0.055.. Val Loss: 0.087.. Test Loss: 0.049.. Time: 0.03m\n"
     ]
    },
    {
     "name": "stderr",
     "output_type": "stream",
     "text": [
      "100%|██████████| 107/107 [00:01<00:00, 70.98it/s]\n",
      "100%|██████████| 18/18 [00:00<00:00, 333.53it/s]\n",
      "100%|██████████| 53/53 [00:00<00:00, 336.02it/s]\n"
     ]
    },
    {
     "name": "stdout",
     "output_type": "stream",
     "text": [
      "Epoch:73/1000.. Train Loss: 0.053.. Val Loss: 0.091.. Test Loss: 0.049.. Time: 0.03m\n"
     ]
    },
    {
     "name": "stderr",
     "output_type": "stream",
     "text": [
      "100%|██████████| 107/107 [00:01<00:00, 70.79it/s]\n",
      "100%|██████████| 18/18 [00:00<00:00, 314.88it/s]\n",
      "100%|██████████| 53/53 [00:00<00:00, 318.77it/s]\n"
     ]
    },
    {
     "name": "stdout",
     "output_type": "stream",
     "text": [
      "Loss Decreasing.. 0.087 >> 0.085 \n",
      "saving model...\n",
      "Epoch:74/1000.. Train Loss: 0.050.. Val Loss: 0.085.. Test Loss: 0.048.. Time: 0.03m\n"
     ]
    },
    {
     "name": "stderr",
     "output_type": "stream",
     "text": [
      "100%|██████████| 107/107 [00:01<00:00, 69.75it/s]\n",
      "100%|██████████| 18/18 [00:00<00:00, 324.07it/s]\n",
      "100%|██████████| 53/53 [00:00<00:00, 330.52it/s]\n"
     ]
    },
    {
     "name": "stdout",
     "output_type": "stream",
     "text": [
      "Epoch:75/1000.. Train Loss: 0.053.. Val Loss: 0.091.. Test Loss: 0.048.. Time: 0.03m\n"
     ]
    },
    {
     "name": "stderr",
     "output_type": "stream",
     "text": [
      "100%|██████████| 107/107 [00:01<00:00, 68.80it/s]\n",
      "100%|██████████| 18/18 [00:00<00:00, 326.21it/s]\n",
      "100%|██████████| 53/53 [00:00<00:00, 327.99it/s]\n"
     ]
    },
    {
     "name": "stdout",
     "output_type": "stream",
     "text": [
      "Epoch:76/1000.. Train Loss: 0.051.. Val Loss: 0.085.. Test Loss: 0.047.. Time: 0.03m\n"
     ]
    },
    {
     "name": "stderr",
     "output_type": "stream",
     "text": [
      "100%|██████████| 107/107 [00:01<00:00, 70.97it/s]\n",
      "100%|██████████| 18/18 [00:00<00:00, 325.96it/s]\n",
      "100%|██████████| 53/53 [00:00<00:00, 330.91it/s]\n"
     ]
    },
    {
     "name": "stdout",
     "output_type": "stream",
     "text": [
      "Epoch:77/1000.. Train Loss: 0.057.. Val Loss: 0.087.. Test Loss: 0.049.. Time: 0.03m\n"
     ]
    },
    {
     "name": "stderr",
     "output_type": "stream",
     "text": [
      "100%|██████████| 107/107 [00:01<00:00, 70.46it/s]\n",
      "100%|██████████| 18/18 [00:00<00:00, 327.15it/s]\n",
      "100%|██████████| 53/53 [00:00<00:00, 329.61it/s]\n"
     ]
    },
    {
     "name": "stdout",
     "output_type": "stream",
     "text": [
      "Loss Decreasing.. 0.085 >> 0.085 \n",
      "saving model...\n",
      "Epoch:78/1000.. Train Loss: 0.049.. Val Loss: 0.085.. Test Loss: 0.048.. Time: 0.03m\n"
     ]
    },
    {
     "name": "stderr",
     "output_type": "stream",
     "text": [
      "100%|██████████| 107/107 [00:01<00:00, 70.90it/s]\n",
      "100%|██████████| 18/18 [00:00<00:00, 320.77it/s]\n",
      "100%|██████████| 53/53 [00:00<00:00, 331.17it/s]\n"
     ]
    },
    {
     "name": "stdout",
     "output_type": "stream",
     "text": [
      "Epoch:79/1000.. Train Loss: 0.046.. Val Loss: 0.085.. Test Loss: 0.048.. Time: 0.03m\n"
     ]
    },
    {
     "name": "stderr",
     "output_type": "stream",
     "text": [
      "100%|██████████| 107/107 [00:01<00:00, 69.68it/s]\n",
      "100%|██████████| 18/18 [00:00<00:00, 317.52it/s]\n",
      "100%|██████████| 53/53 [00:00<00:00, 327.73it/s]\n"
     ]
    },
    {
     "name": "stdout",
     "output_type": "stream",
     "text": [
      "Loss Decreasing.. 0.085 >> 0.085 \n",
      "saving model...\n",
      "Epoch:80/1000.. Train Loss: 0.048.. Val Loss: 0.085.. Test Loss: 0.047.. Time: 0.03m\n"
     ]
    },
    {
     "name": "stderr",
     "output_type": "stream",
     "text": [
      "100%|██████████| 107/107 [00:01<00:00, 70.64it/s]\n",
      "100%|██████████| 18/18 [00:00<00:00, 326.83it/s]\n",
      "100%|██████████| 53/53 [00:00<00:00, 331.38it/s]\n"
     ]
    },
    {
     "name": "stdout",
     "output_type": "stream",
     "text": [
      "Epoch:81/1000.. Train Loss: 0.049.. Val Loss: 0.086.. Test Loss: 0.047.. Time: 0.03m\n"
     ]
    },
    {
     "name": "stderr",
     "output_type": "stream",
     "text": [
      "100%|██████████| 107/107 [00:01<00:00, 69.70it/s]\n",
      "100%|██████████| 18/18 [00:00<00:00, 319.08it/s]\n",
      "100%|██████████| 53/53 [00:00<00:00, 326.39it/s]\n"
     ]
    },
    {
     "name": "stdout",
     "output_type": "stream",
     "text": [
      "Loss Decreasing.. 0.085 >> 0.082 \n",
      "saving model...\n",
      "Epoch:82/1000.. Train Loss: 0.046.. Val Loss: 0.082.. Test Loss: 0.047.. Time: 0.03m\n"
     ]
    },
    {
     "name": "stderr",
     "output_type": "stream",
     "text": [
      "100%|██████████| 107/107 [00:01<00:00, 70.28it/s]\n",
      "100%|██████████| 18/18 [00:00<00:00, 324.07it/s]\n",
      "100%|██████████| 53/53 [00:00<00:00, 328.93it/s]\n"
     ]
    },
    {
     "name": "stdout",
     "output_type": "stream",
     "text": [
      "Epoch:83/1000.. Train Loss: 0.051.. Val Loss: 0.084.. Test Loss: 0.047.. Time: 0.03m\n"
     ]
    },
    {
     "name": "stderr",
     "output_type": "stream",
     "text": [
      "100%|██████████| 107/107 [00:01<00:00, 70.93it/s]\n",
      "100%|██████████| 18/18 [00:00<00:00, 326.15it/s]\n",
      "100%|██████████| 53/53 [00:00<00:00, 325.25it/s]\n"
     ]
    },
    {
     "name": "stdout",
     "output_type": "stream",
     "text": [
      "Epoch:84/1000.. Train Loss: 0.050.. Val Loss: 0.090.. Test Loss: 0.047.. Time: 0.03m\n"
     ]
    },
    {
     "name": "stderr",
     "output_type": "stream",
     "text": [
      "100%|██████████| 107/107 [00:01<00:00, 67.84it/s]\n",
      "100%|██████████| 18/18 [00:00<00:00, 326.54it/s]\n",
      "100%|██████████| 53/53 [00:00<00:00, 330.88it/s]\n"
     ]
    },
    {
     "name": "stdout",
     "output_type": "stream",
     "text": [
      "Loss Decreasing.. 0.082 >> 0.081 \n",
      "saving model...\n",
      "Epoch:85/1000.. Train Loss: 0.048.. Val Loss: 0.081.. Test Loss: 0.046.. Time: 0.03m\n"
     ]
    },
    {
     "name": "stderr",
     "output_type": "stream",
     "text": [
      "100%|██████████| 107/107 [00:01<00:00, 70.48it/s]\n",
      "100%|██████████| 18/18 [00:00<00:00, 321.54it/s]\n",
      "100%|██████████| 53/53 [00:00<00:00, 361.74it/s]\n"
     ]
    },
    {
     "name": "stdout",
     "output_type": "stream",
     "text": [
      "Epoch:86/1000.. Train Loss: 0.047.. Val Loss: 0.083.. Test Loss: 0.046.. Time: 0.03m\n"
     ]
    },
    {
     "name": "stderr",
     "output_type": "stream",
     "text": [
      "100%|██████████| 107/107 [00:01<00:00, 70.32it/s]\n",
      "100%|██████████| 18/18 [00:00<00:00, 330.08it/s]\n",
      "100%|██████████| 53/53 [00:00<00:00, 328.00it/s]\n"
     ]
    },
    {
     "name": "stdout",
     "output_type": "stream",
     "text": [
      "Loss Decreasing.. 0.081 >> 0.080 \n",
      "saving model...\n",
      "Epoch:87/1000.. Train Loss: 0.051.. Val Loss: 0.080.. Test Loss: 0.046.. Time: 0.03m\n"
     ]
    },
    {
     "name": "stderr",
     "output_type": "stream",
     "text": [
      "100%|██████████| 107/107 [00:01<00:00, 71.40it/s]\n",
      "100%|██████████| 18/18 [00:00<00:00, 334.81it/s]\n",
      "100%|██████████| 53/53 [00:00<00:00, 333.21it/s]\n"
     ]
    },
    {
     "name": "stdout",
     "output_type": "stream",
     "text": [
      "Epoch:88/1000.. Train Loss: 0.048.. Val Loss: 0.081.. Test Loss: 0.046.. Time: 0.03m\n"
     ]
    },
    {
     "name": "stderr",
     "output_type": "stream",
     "text": [
      "100%|██████████| 107/107 [00:01<00:00, 71.42it/s]\n",
      "100%|██████████| 18/18 [00:00<00:00, 326.18it/s]\n",
      "100%|██████████| 53/53 [00:00<00:00, 331.48it/s]\n"
     ]
    },
    {
     "name": "stdout",
     "output_type": "stream",
     "text": [
      "Epoch:89/1000.. Train Loss: 0.045.. Val Loss: 0.082.. Test Loss: 0.046.. Time: 0.03m\n"
     ]
    },
    {
     "name": "stderr",
     "output_type": "stream",
     "text": [
      "100%|██████████| 107/107 [00:01<00:00, 70.29it/s]\n",
      "100%|██████████| 18/18 [00:00<00:00, 323.10it/s]\n",
      "100%|██████████| 53/53 [00:00<00:00, 325.94it/s]\n"
     ]
    },
    {
     "name": "stdout",
     "output_type": "stream",
     "text": [
      "Epoch:90/1000.. Train Loss: 0.046.. Val Loss: 0.080.. Test Loss: 0.045.. Time: 0.03m\n"
     ]
    },
    {
     "name": "stderr",
     "output_type": "stream",
     "text": [
      "100%|██████████| 107/107 [00:01<00:00, 69.35it/s]\n",
      "100%|██████████| 18/18 [00:00<00:00, 319.38it/s]\n",
      "100%|██████████| 53/53 [00:00<00:00, 326.75it/s]\n"
     ]
    },
    {
     "name": "stdout",
     "output_type": "stream",
     "text": [
      "Epoch:91/1000.. Train Loss: 0.046.. Val Loss: 0.080.. Test Loss: 0.046.. Time: 0.03m\n"
     ]
    },
    {
     "name": "stderr",
     "output_type": "stream",
     "text": [
      "100%|██████████| 107/107 [00:01<00:00, 70.25it/s]\n",
      "100%|██████████| 18/18 [00:00<00:00, 323.71it/s]\n",
      "100%|██████████| 53/53 [00:00<00:00, 325.75it/s]\n"
     ]
    },
    {
     "name": "stdout",
     "output_type": "stream",
     "text": [
      "Epoch:92/1000.. Train Loss: 0.047.. Val Loss: 0.081.. Test Loss: 0.045.. Time: 0.03m\n"
     ]
    },
    {
     "name": "stderr",
     "output_type": "stream",
     "text": [
      "100%|██████████| 107/107 [00:01<00:00, 69.60it/s]\n",
      "100%|██████████| 18/18 [00:00<00:00, 326.95it/s]\n",
      "100%|██████████| 53/53 [00:00<00:00, 328.27it/s]\n"
     ]
    },
    {
     "name": "stdout",
     "output_type": "stream",
     "text": [
      "Loss Decreasing.. 0.080 >> 0.079 \n",
      "saving model...\n",
      "Epoch:93/1000.. Train Loss: 0.043.. Val Loss: 0.079.. Test Loss: 0.044.. Time: 0.03m\n"
     ]
    },
    {
     "name": "stderr",
     "output_type": "stream",
     "text": [
      "100%|██████████| 107/107 [00:01<00:00, 71.05it/s]\n",
      "100%|██████████| 18/18 [00:00<00:00, 325.46it/s]\n",
      "100%|██████████| 53/53 [00:00<00:00, 331.48it/s]\n"
     ]
    },
    {
     "name": "stdout",
     "output_type": "stream",
     "text": [
      "Loss Decreasing.. 0.079 >> 0.076 \n",
      "saving model...\n",
      "Epoch:94/1000.. Train Loss: 0.043.. Val Loss: 0.076.. Test Loss: 0.045.. Time: 0.03m\n"
     ]
    },
    {
     "name": "stderr",
     "output_type": "stream",
     "text": [
      "100%|██████████| 107/107 [00:01<00:00, 70.44it/s]\n",
      "100%|██████████| 18/18 [00:00<00:00, 279.07it/s]\n",
      "100%|██████████| 53/53 [00:00<00:00, 323.23it/s]\n"
     ]
    },
    {
     "name": "stdout",
     "output_type": "stream",
     "text": [
      "Loss Decreasing.. 0.076 >> 0.075 \n",
      "saving model...\n",
      "Epoch:95/1000.. Train Loss: 0.044.. Val Loss: 0.075.. Test Loss: 0.044.. Time: 0.03m\n"
     ]
    },
    {
     "name": "stderr",
     "output_type": "stream",
     "text": [
      "100%|██████████| 107/107 [00:01<00:00, 70.89it/s]\n",
      "100%|██████████| 18/18 [00:00<00:00, 320.60it/s]\n",
      "100%|██████████| 53/53 [00:00<00:00, 327.10it/s]\n"
     ]
    },
    {
     "name": "stdout",
     "output_type": "stream",
     "text": [
      "Loss Decreasing.. 0.075 >> 0.075 \n",
      "saving model...\n",
      "Epoch:96/1000.. Train Loss: 0.042.. Val Loss: 0.075.. Test Loss: 0.044.. Time: 0.03m\n"
     ]
    },
    {
     "name": "stderr",
     "output_type": "stream",
     "text": [
      "100%|██████████| 107/107 [00:01<00:00, 69.88it/s]\n",
      "100%|██████████| 18/18 [00:00<00:00, 330.08it/s]\n",
      "100%|██████████| 53/53 [00:00<00:00, 332.78it/s]\n"
     ]
    },
    {
     "name": "stdout",
     "output_type": "stream",
     "text": [
      "Loss Decreasing.. 0.075 >> 0.074 \n",
      "saving model...\n",
      "Epoch:97/1000.. Train Loss: 0.043.. Val Loss: 0.074.. Test Loss: 0.044.. Time: 0.03m\n"
     ]
    },
    {
     "name": "stderr",
     "output_type": "stream",
     "text": [
      "100%|██████████| 107/107 [00:01<00:00, 70.36it/s]\n",
      "100%|██████████| 18/18 [00:00<00:00, 319.72it/s]\n",
      "100%|██████████| 53/53 [00:00<00:00, 328.66it/s]\n"
     ]
    },
    {
     "name": "stdout",
     "output_type": "stream",
     "text": [
      "Epoch:98/1000.. Train Loss: 0.045.. Val Loss: 0.076.. Test Loss: 0.044.. Time: 0.03m\n"
     ]
    },
    {
     "name": "stderr",
     "output_type": "stream",
     "text": [
      "100%|██████████| 107/107 [00:01<00:00, 70.89it/s]\n",
      "100%|██████████| 18/18 [00:00<00:00, 318.83it/s]\n",
      "100%|██████████| 53/53 [00:00<00:00, 331.56it/s]\n"
     ]
    },
    {
     "name": "stdout",
     "output_type": "stream",
     "text": [
      "Epoch:99/1000.. Train Loss: 0.044.. Val Loss: 0.077.. Test Loss: 0.044.. Time: 0.03m\n"
     ]
    },
    {
     "name": "stderr",
     "output_type": "stream",
     "text": [
      "100%|██████████| 107/107 [00:01<00:00, 71.12it/s]\n",
      "100%|██████████| 18/18 [00:00<00:00, 323.22it/s]\n",
      "100%|██████████| 53/53 [00:00<00:00, 328.02it/s]\n"
     ]
    },
    {
     "name": "stdout",
     "output_type": "stream",
     "text": [
      "Epoch:100/1000.. Train Loss: 0.039.. Val Loss: 0.079.. Test Loss: 0.044.. Time: 0.03m\n"
     ]
    },
    {
     "name": "stderr",
     "output_type": "stream",
     "text": [
      "100%|██████████| 107/107 [00:01<00:00, 71.19it/s]\n",
      "100%|██████████| 18/18 [00:00<00:00, 327.87it/s]\n",
      "100%|██████████| 53/53 [00:00<00:00, 328.33it/s]\n"
     ]
    },
    {
     "name": "stdout",
     "output_type": "stream",
     "text": [
      "Epoch:101/1000.. Train Loss: 0.043.. Val Loss: 0.078.. Test Loss: 0.043.. Time: 0.03m\n"
     ]
    },
    {
     "name": "stderr",
     "output_type": "stream",
     "text": [
      "100%|██████████| 107/107 [00:01<00:00, 69.13it/s]\n",
      "100%|██████████| 18/18 [00:00<00:00, 335.37it/s]\n",
      "100%|██████████| 53/53 [00:00<00:00, 330.08it/s]\n"
     ]
    },
    {
     "name": "stdout",
     "output_type": "stream",
     "text": [
      "Loss Decreasing.. 0.074 >> 0.074 \n",
      "saving model...\n",
      "Epoch:102/1000.. Train Loss: 0.045.. Val Loss: 0.074.. Test Loss: 0.043.. Time: 0.03m\n"
     ]
    },
    {
     "name": "stderr",
     "output_type": "stream",
     "text": [
      "100%|██████████| 107/107 [00:01<00:00, 70.78it/s]\n",
      "100%|██████████| 18/18 [00:00<00:00, 331.68it/s]\n",
      "100%|██████████| 53/53 [00:00<00:00, 329.74it/s]\n"
     ]
    },
    {
     "name": "stdout",
     "output_type": "stream",
     "text": [
      "Loss Decreasing.. 0.074 >> 0.073 \n",
      "saving model...\n",
      "Epoch:103/1000.. Train Loss: 0.041.. Val Loss: 0.073.. Test Loss: 0.043.. Time: 0.03m\n"
     ]
    },
    {
     "name": "stderr",
     "output_type": "stream",
     "text": [
      "100%|██████████| 107/107 [00:01<00:00, 71.39it/s]\n",
      "100%|██████████| 18/18 [00:00<00:00, 333.61it/s]\n",
      "100%|██████████| 53/53 [00:00<00:00, 336.22it/s]\n"
     ]
    },
    {
     "name": "stdout",
     "output_type": "stream",
     "text": [
      "Epoch:104/1000.. Train Loss: 0.039.. Val Loss: 0.078.. Test Loss: 0.044.. Time: 0.03m\n"
     ]
    },
    {
     "name": "stderr",
     "output_type": "stream",
     "text": [
      "100%|██████████| 107/107 [00:01<00:00, 70.35it/s]\n",
      "100%|██████████| 18/18 [00:00<00:00, 326.83it/s]\n",
      "100%|██████████| 53/53 [00:00<00:00, 325.40it/s]\n"
     ]
    },
    {
     "name": "stdout",
     "output_type": "stream",
     "text": [
      "Epoch:105/1000.. Train Loss: 0.043.. Val Loss: 0.074.. Test Loss: 0.043.. Time: 0.03m\n"
     ]
    },
    {
     "name": "stderr",
     "output_type": "stream",
     "text": [
      "100%|██████████| 107/107 [00:01<00:00, 69.74it/s]\n",
      "100%|██████████| 18/18 [00:00<00:00, 337.15it/s]\n",
      "100%|██████████| 53/53 [00:00<00:00, 329.74it/s]\n"
     ]
    },
    {
     "name": "stdout",
     "output_type": "stream",
     "text": [
      "Epoch:106/1000.. Train Loss: 0.041.. Val Loss: 0.076.. Test Loss: 0.044.. Time: 0.03m\n"
     ]
    },
    {
     "name": "stderr",
     "output_type": "stream",
     "text": [
      "100%|██████████| 107/107 [00:01<00:00, 71.43it/s]\n",
      "100%|██████████| 18/18 [00:00<00:00, 325.17it/s]\n",
      "100%|██████████| 53/53 [00:00<00:00, 327.36it/s]\n"
     ]
    },
    {
     "name": "stdout",
     "output_type": "stream",
     "text": [
      "Epoch:107/1000.. Train Loss: 0.039.. Val Loss: 0.074.. Test Loss: 0.043.. Time: 0.03m\n"
     ]
    },
    {
     "name": "stderr",
     "output_type": "stream",
     "text": [
      "100%|██████████| 107/107 [00:01<00:00, 71.35it/s]\n",
      "100%|██████████| 18/18 [00:00<00:00, 330.40it/s]\n",
      "100%|██████████| 53/53 [00:00<00:00, 329.09it/s]\n"
     ]
    },
    {
     "name": "stdout",
     "output_type": "stream",
     "text": [
      "Loss Decreasing.. 0.073 >> 0.072 \n",
      "saving model...\n",
      "Epoch:108/1000.. Train Loss: 0.039.. Val Loss: 0.072.. Test Loss: 0.042.. Time: 0.03m\n"
     ]
    },
    {
     "name": "stderr",
     "output_type": "stream",
     "text": [
      "100%|██████████| 107/107 [00:01<00:00, 69.34it/s]\n",
      "100%|██████████| 18/18 [00:00<00:00, 326.57it/s]\n",
      "100%|██████████| 53/53 [00:00<00:00, 313.49it/s]\n"
     ]
    },
    {
     "name": "stdout",
     "output_type": "stream",
     "text": [
      "Epoch:109/1000.. Train Loss: 0.037.. Val Loss: 0.073.. Test Loss: 0.043.. Time: 0.03m\n"
     ]
    },
    {
     "name": "stderr",
     "output_type": "stream",
     "text": [
      "100%|██████████| 107/107 [00:01<00:00, 69.92it/s]\n",
      "100%|██████████| 18/18 [00:00<00:00, 328.62it/s]\n",
      "100%|██████████| 53/53 [00:00<00:00, 326.28it/s]\n"
     ]
    },
    {
     "name": "stdout",
     "output_type": "stream",
     "text": [
      "Epoch:110/1000.. Train Loss: 0.042.. Val Loss: 0.072.. Test Loss: 0.042.. Time: 0.03m\n"
     ]
    },
    {
     "name": "stderr",
     "output_type": "stream",
     "text": [
      "100%|██████████| 107/107 [00:01<00:00, 69.08it/s]\n",
      "100%|██████████| 18/18 [00:00<00:00, 322.23it/s]\n",
      "100%|██████████| 53/53 [00:00<00:00, 324.46it/s]\n"
     ]
    },
    {
     "name": "stdout",
     "output_type": "stream",
     "text": [
      "Epoch:111/1000.. Train Loss: 0.040.. Val Loss: 0.072.. Test Loss: 0.043.. Time: 0.03m\n"
     ]
    },
    {
     "name": "stderr",
     "output_type": "stream",
     "text": [
      "100%|██████████| 107/107 [00:01<00:00, 70.18it/s]\n",
      "100%|██████████| 18/18 [00:00<00:00, 324.25it/s]\n",
      "100%|██████████| 53/53 [00:00<00:00, 331.60it/s]\n"
     ]
    },
    {
     "name": "stdout",
     "output_type": "stream",
     "text": [
      "Loss Decreasing.. 0.072 >> 0.071 \n",
      "saving model...\n",
      "Epoch:112/1000.. Train Loss: 0.037.. Val Loss: 0.071.. Test Loss: 0.042.. Time: 0.03m\n"
     ]
    },
    {
     "name": "stderr",
     "output_type": "stream",
     "text": [
      "100%|██████████| 107/107 [00:01<00:00, 71.44it/s]\n",
      "100%|██████████| 18/18 [00:00<00:00, 327.54it/s]\n",
      "100%|██████████| 53/53 [00:00<00:00, 332.63it/s]\n"
     ]
    },
    {
     "name": "stdout",
     "output_type": "stream",
     "text": [
      "Loss Decreasing.. 0.071 >> 0.071 \n",
      "saving model...\n",
      "Epoch:113/1000.. Train Loss: 0.039.. Val Loss: 0.071.. Test Loss: 0.042.. Time: 0.03m\n"
     ]
    },
    {
     "name": "stderr",
     "output_type": "stream",
     "text": [
      "100%|██████████| 107/107 [00:01<00:00, 71.38it/s]\n",
      "100%|██████████| 18/18 [00:00<00:00, 325.70it/s]\n",
      "100%|██████████| 53/53 [00:00<00:00, 316.68it/s]\n"
     ]
    },
    {
     "name": "stdout",
     "output_type": "stream",
     "text": [
      "Epoch:114/1000.. Train Loss: 0.036.. Val Loss: 0.078.. Test Loss: 0.043.. Time: 0.03m\n"
     ]
    },
    {
     "name": "stderr",
     "output_type": "stream",
     "text": [
      "100%|██████████| 107/107 [00:01<00:00, 70.03it/s]\n",
      "100%|██████████| 18/18 [00:00<00:00, 327.47it/s]\n",
      "100%|██████████| 53/53 [00:00<00:00, 329.14it/s]\n"
     ]
    },
    {
     "name": "stdout",
     "output_type": "stream",
     "text": [
      "Epoch:115/1000.. Train Loss: 0.039.. Val Loss: 0.073.. Test Loss: 0.043.. Time: 0.03m\n"
     ]
    },
    {
     "name": "stderr",
     "output_type": "stream",
     "text": [
      "100%|██████████| 107/107 [00:01<00:00, 70.21it/s]\n",
      "100%|██████████| 18/18 [00:00<00:00, 319.65it/s]\n",
      "100%|██████████| 53/53 [00:00<00:00, 329.21it/s]\n"
     ]
    },
    {
     "name": "stdout",
     "output_type": "stream",
     "text": [
      "Epoch:116/1000.. Train Loss: 0.038.. Val Loss: 0.081.. Test Loss: 0.043.. Time: 0.03m\n"
     ]
    },
    {
     "name": "stderr",
     "output_type": "stream",
     "text": [
      "100%|██████████| 107/107 [00:01<00:00, 70.57it/s]\n",
      "100%|██████████| 18/18 [00:00<00:00, 324.16it/s]\n",
      "100%|██████████| 53/53 [00:00<00:00, 326.12it/s]\n"
     ]
    },
    {
     "name": "stdout",
     "output_type": "stream",
     "text": [
      "Epoch:117/1000.. Train Loss: 0.036.. Val Loss: 0.073.. Test Loss: 0.042.. Time: 0.03m\n"
     ]
    },
    {
     "name": "stderr",
     "output_type": "stream",
     "text": [
      "100%|██████████| 107/107 [00:01<00:00, 70.07it/s]\n",
      "100%|██████████| 18/18 [00:00<00:00, 321.17it/s]\n",
      "100%|██████████| 53/53 [00:00<00:00, 329.86it/s]\n"
     ]
    },
    {
     "name": "stdout",
     "output_type": "stream",
     "text": [
      "Epoch:118/1000.. Train Loss: 0.039.. Val Loss: 0.072.. Test Loss: 0.043.. Time: 0.03m\n"
     ]
    },
    {
     "name": "stderr",
     "output_type": "stream",
     "text": [
      "100%|██████████| 107/107 [00:01<00:00, 70.69it/s]\n",
      "100%|██████████| 18/18 [00:00<00:00, 332.85it/s]\n",
      "100%|██████████| 53/53 [00:00<00:00, 328.94it/s]\n"
     ]
    },
    {
     "name": "stdout",
     "output_type": "stream",
     "text": [
      "Loss Decreasing.. 0.071 >> 0.071 \n",
      "saving model...\n",
      "Epoch:119/1000.. Train Loss: 0.036.. Val Loss: 0.071.. Test Loss: 0.042.. Time: 0.03m\n"
     ]
    },
    {
     "name": "stderr",
     "output_type": "stream",
     "text": [
      "100%|██████████| 107/107 [00:01<00:00, 71.18it/s]\n",
      "100%|██████████| 18/18 [00:00<00:00, 329.08it/s]\n",
      "100%|██████████| 53/53 [00:00<00:00, 329.47it/s]\n"
     ]
    },
    {
     "name": "stdout",
     "output_type": "stream",
     "text": [
      "Epoch:120/1000.. Train Loss: 0.037.. Val Loss: 0.071.. Test Loss: 0.043.. Time: 0.03m\n"
     ]
    },
    {
     "name": "stderr",
     "output_type": "stream",
     "text": [
      "100%|██████████| 107/107 [00:01<00:00, 70.11it/s]\n",
      "100%|██████████| 18/18 [00:00<00:00, 334.66it/s]\n",
      "100%|██████████| 53/53 [00:00<00:00, 327.03it/s]\n"
     ]
    },
    {
     "name": "stdout",
     "output_type": "stream",
     "text": [
      "Epoch:121/1000.. Train Loss: 0.034.. Val Loss: 0.071.. Test Loss: 0.042.. Time: 0.03m\n"
     ]
    },
    {
     "name": "stderr",
     "output_type": "stream",
     "text": [
      "100%|██████████| 107/107 [00:01<00:00, 67.67it/s]\n",
      "100%|██████████| 18/18 [00:00<00:00, 325.15it/s]\n",
      "100%|██████████| 53/53 [00:00<00:00, 325.05it/s]\n"
     ]
    },
    {
     "name": "stdout",
     "output_type": "stream",
     "text": [
      "Epoch:122/1000.. Train Loss: 0.036.. Val Loss: 0.072.. Test Loss: 0.042.. Time: 0.03m\n"
     ]
    },
    {
     "name": "stderr",
     "output_type": "stream",
     "text": [
      "100%|██████████| 107/107 [00:01<00:00, 70.51it/s]\n",
      "100%|██████████| 18/18 [00:00<00:00, 331.33it/s]\n",
      "100%|██████████| 53/53 [00:00<00:00, 327.31it/s]\n"
     ]
    },
    {
     "name": "stdout",
     "output_type": "stream",
     "text": [
      "Epoch:123/1000.. Train Loss: 0.034.. Val Loss: 0.071.. Test Loss: 0.042.. Time: 0.03m\n"
     ]
    },
    {
     "name": "stderr",
     "output_type": "stream",
     "text": [
      "100%|██████████| 107/107 [00:01<00:00, 70.68it/s]\n",
      "100%|██████████| 18/18 [00:00<00:00, 322.73it/s]\n",
      "100%|██████████| 53/53 [00:00<00:00, 330.22it/s]\n"
     ]
    },
    {
     "name": "stdout",
     "output_type": "stream",
     "text": [
      "Epoch:124/1000.. Train Loss: 0.036.. Val Loss: 0.072.. Test Loss: 0.042.. Time: 0.03m\n"
     ]
    },
    {
     "name": "stderr",
     "output_type": "stream",
     "text": [
      "100%|██████████| 107/107 [00:01<00:00, 70.36it/s]\n",
      "100%|██████████| 18/18 [00:00<00:00, 328.70it/s]\n",
      "100%|██████████| 53/53 [00:00<00:00, 330.10it/s]\n"
     ]
    },
    {
     "name": "stdout",
     "output_type": "stream",
     "text": [
      "Loss Decreasing.. 0.071 >> 0.069 \n",
      "saving model...\n",
      "Epoch:125/1000.. Train Loss: 0.035.. Val Loss: 0.069.. Test Loss: 0.041.. Time: 0.03m\n"
     ]
    },
    {
     "name": "stderr",
     "output_type": "stream",
     "text": [
      "100%|██████████| 107/107 [00:01<00:00, 70.39it/s]\n",
      "100%|██████████| 18/18 [00:00<00:00, 323.22it/s]\n",
      "100%|██████████| 53/53 [00:00<00:00, 324.55it/s]\n"
     ]
    },
    {
     "name": "stdout",
     "output_type": "stream",
     "text": [
      "Epoch:126/1000.. Train Loss: 0.035.. Val Loss: 0.070.. Test Loss: 0.041.. Time: 0.03m\n"
     ]
    },
    {
     "name": "stderr",
     "output_type": "stream",
     "text": [
      "100%|██████████| 107/107 [00:01<00:00, 70.13it/s]\n",
      "100%|██████████| 18/18 [00:00<00:00, 319.64it/s]\n",
      "100%|██████████| 53/53 [00:00<00:00, 328.65it/s]\n"
     ]
    },
    {
     "name": "stdout",
     "output_type": "stream",
     "text": [
      "Epoch:127/1000.. Train Loss: 0.037.. Val Loss: 0.073.. Test Loss: 0.042.. Time: 0.03m\n"
     ]
    },
    {
     "name": "stderr",
     "output_type": "stream",
     "text": [
      "100%|██████████| 107/107 [00:01<00:00, 69.95it/s]\n",
      "100%|██████████| 18/18 [00:00<00:00, 328.45it/s]\n",
      "100%|██████████| 53/53 [00:00<00:00, 330.40it/s]\n"
     ]
    },
    {
     "name": "stdout",
     "output_type": "stream",
     "text": [
      "Epoch:128/1000.. Train Loss: 0.034.. Val Loss: 0.075.. Test Loss: 0.041.. Time: 0.03m\n"
     ]
    },
    {
     "name": "stderr",
     "output_type": "stream",
     "text": [
      "100%|██████████| 107/107 [00:01<00:00, 70.16it/s]\n",
      "100%|██████████| 18/18 [00:00<00:00, 330.38it/s]\n",
      "100%|██████████| 53/53 [00:00<00:00, 330.41it/s]\n"
     ]
    },
    {
     "name": "stdout",
     "output_type": "stream",
     "text": [
      "Epoch:129/1000.. Train Loss: 0.035.. Val Loss: 0.073.. Test Loss: 0.042.. Time: 0.03m\n"
     ]
    },
    {
     "name": "stderr",
     "output_type": "stream",
     "text": [
      "100%|██████████| 107/107 [00:01<00:00, 69.32it/s]\n",
      "100%|██████████| 18/18 [00:00<00:00, 326.71it/s]\n",
      "100%|██████████| 53/53 [00:00<00:00, 325.21it/s]\n"
     ]
    },
    {
     "name": "stdout",
     "output_type": "stream",
     "text": [
      "Epoch:130/1000.. Train Loss: 0.036.. Val Loss: 0.076.. Test Loss: 0.043.. Time: 0.03m\n"
     ]
    },
    {
     "name": "stderr",
     "output_type": "stream",
     "text": [
      "100%|██████████| 107/107 [00:01<00:00, 69.82it/s]\n",
      "100%|██████████| 18/18 [00:00<00:00, 324.71it/s]\n",
      "100%|██████████| 53/53 [00:00<00:00, 329.73it/s]\n"
     ]
    },
    {
     "name": "stdout",
     "output_type": "stream",
     "text": [
      "Epoch:131/1000.. Train Loss: 0.033.. Val Loss: 0.073.. Test Loss: 0.042.. Time: 0.03m\n"
     ]
    },
    {
     "name": "stderr",
     "output_type": "stream",
     "text": [
      "100%|██████████| 107/107 [00:01<00:00, 69.99it/s]\n",
      "100%|██████████| 18/18 [00:00<00:00, 327.01it/s]\n",
      "100%|██████████| 53/53 [00:00<00:00, 330.80it/s]\n"
     ]
    },
    {
     "name": "stdout",
     "output_type": "stream",
     "text": [
      "Loss Decreasing.. 0.069 >> 0.069 \n",
      "saving model...\n",
      "Epoch:132/1000.. Train Loss: 0.035.. Val Loss: 0.069.. Test Loss: 0.041.. Time: 0.03m\n"
     ]
    },
    {
     "name": "stderr",
     "output_type": "stream",
     "text": [
      "100%|██████████| 107/107 [00:01<00:00, 70.08it/s]\n",
      "100%|██████████| 18/18 [00:00<00:00, 330.04it/s]\n",
      "100%|██████████| 53/53 [00:00<00:00, 320.87it/s]\n"
     ]
    },
    {
     "name": "stdout",
     "output_type": "stream",
     "text": [
      "Epoch:133/1000.. Train Loss: 0.035.. Val Loss: 0.069.. Test Loss: 0.041.. Time: 0.03m\n"
     ]
    },
    {
     "name": "stderr",
     "output_type": "stream",
     "text": [
      "100%|██████████| 107/107 [00:01<00:00, 70.66it/s]\n",
      "100%|██████████| 18/18 [00:00<00:00, 332.00it/s]\n",
      "100%|██████████| 53/53 [00:00<00:00, 330.81it/s]\n"
     ]
    },
    {
     "name": "stdout",
     "output_type": "stream",
     "text": [
      "Loss Decreasing.. 0.069 >> 0.068 \n",
      "saving model...\n",
      "Epoch:134/1000.. Train Loss: 0.035.. Val Loss: 0.068.. Test Loss: 0.041.. Time: 0.03m\n"
     ]
    },
    {
     "name": "stderr",
     "output_type": "stream",
     "text": [
      "100%|██████████| 107/107 [00:01<00:00, 70.74it/s]\n",
      "100%|██████████| 18/18 [00:00<00:00, 332.13it/s]\n",
      "100%|██████████| 53/53 [00:00<00:00, 324.11it/s]\n"
     ]
    },
    {
     "name": "stdout",
     "output_type": "stream",
     "text": [
      "Epoch:135/1000.. Train Loss: 0.032.. Val Loss: 0.070.. Test Loss: 0.041.. Time: 0.03m\n"
     ]
    },
    {
     "name": "stderr",
     "output_type": "stream",
     "text": [
      "100%|██████████| 107/107 [00:01<00:00, 69.42it/s]\n",
      "100%|██████████| 18/18 [00:00<00:00, 329.60it/s]\n",
      "100%|██████████| 53/53 [00:00<00:00, 331.32it/s]\n"
     ]
    },
    {
     "name": "stdout",
     "output_type": "stream",
     "text": [
      "Epoch:136/1000.. Train Loss: 0.033.. Val Loss: 0.085.. Test Loss: 0.041.. Time: 0.03m\n"
     ]
    },
    {
     "name": "stderr",
     "output_type": "stream",
     "text": [
      "100%|██████████| 107/107 [00:01<00:00, 71.21it/s]\n",
      "100%|██████████| 18/18 [00:00<00:00, 330.13it/s]\n",
      "100%|██████████| 53/53 [00:00<00:00, 329.72it/s]\n"
     ]
    },
    {
     "name": "stdout",
     "output_type": "stream",
     "text": [
      "Epoch:137/1000.. Train Loss: 0.035.. Val Loss: 0.069.. Test Loss: 0.041.. Time: 0.03m\n"
     ]
    },
    {
     "name": "stderr",
     "output_type": "stream",
     "text": [
      "100%|██████████| 107/107 [00:01<00:00, 71.87it/s]\n",
      "100%|██████████| 18/18 [00:00<00:00, 321.35it/s]\n",
      "100%|██████████| 53/53 [00:00<00:00, 333.41it/s]\n"
     ]
    },
    {
     "name": "stdout",
     "output_type": "stream",
     "text": [
      "Epoch:138/1000.. Train Loss: 0.034.. Val Loss: 0.070.. Test Loss: 0.041.. Time: 0.03m\n"
     ]
    },
    {
     "name": "stderr",
     "output_type": "stream",
     "text": [
      "100%|██████████| 107/107 [00:01<00:00, 71.18it/s]\n",
      "100%|██████████| 18/18 [00:00<00:00, 334.03it/s]\n",
      "100%|██████████| 53/53 [00:00<00:00, 325.27it/s]\n"
     ]
    },
    {
     "name": "stdout",
     "output_type": "stream",
     "text": [
      "Epoch:139/1000.. Train Loss: 0.036.. Val Loss: 0.075.. Test Loss: 0.042.. Time: 0.03m\n"
     ]
    },
    {
     "name": "stderr",
     "output_type": "stream",
     "text": [
      "100%|██████████| 107/107 [00:01<00:00, 70.91it/s]\n",
      "100%|██████████| 18/18 [00:00<00:00, 323.29it/s]\n",
      "100%|██████████| 53/53 [00:00<00:00, 333.52it/s]\n"
     ]
    },
    {
     "name": "stdout",
     "output_type": "stream",
     "text": [
      "Epoch:140/1000.. Train Loss: 0.033.. Val Loss: 0.068.. Test Loss: 0.041.. Time: 0.03m\n"
     ]
    },
    {
     "name": "stderr",
     "output_type": "stream",
     "text": [
      "100%|██████████| 107/107 [00:01<00:00, 70.94it/s]\n",
      "100%|██████████| 18/18 [00:00<00:00, 327.11it/s]\n",
      "100%|██████████| 53/53 [00:00<00:00, 332.56it/s]\n"
     ]
    },
    {
     "name": "stdout",
     "output_type": "stream",
     "text": [
      "Epoch:141/1000.. Train Loss: 0.033.. Val Loss: 0.069.. Test Loss: 0.040.. Time: 0.03m\n"
     ]
    },
    {
     "name": "stderr",
     "output_type": "stream",
     "text": [
      "100%|██████████| 107/107 [00:01<00:00, 70.93it/s]\n",
      "100%|██████████| 18/18 [00:00<00:00, 315.83it/s]\n",
      "100%|██████████| 53/53 [00:00<00:00, 326.23it/s]\n"
     ]
    },
    {
     "name": "stdout",
     "output_type": "stream",
     "text": [
      "Epoch:142/1000.. Train Loss: 0.034.. Val Loss: 0.074.. Test Loss: 0.042.. Time: 0.03m\n"
     ]
    },
    {
     "name": "stderr",
     "output_type": "stream",
     "text": [
      "100%|██████████| 107/107 [00:01<00:00, 69.84it/s]\n",
      "100%|██████████| 18/18 [00:00<00:00, 317.74it/s]\n",
      "100%|██████████| 53/53 [00:00<00:00, 327.22it/s]\n"
     ]
    },
    {
     "name": "stdout",
     "output_type": "stream",
     "text": [
      "Epoch:143/1000.. Train Loss: 0.031.. Val Loss: 0.068.. Test Loss: 0.042.. Time: 0.03m\n"
     ]
    },
    {
     "name": "stderr",
     "output_type": "stream",
     "text": [
      "100%|██████████| 107/107 [00:01<00:00, 70.80it/s]\n",
      "100%|██████████| 18/18 [00:00<00:00, 316.32it/s]\n",
      "100%|██████████| 53/53 [00:00<00:00, 326.04it/s]\n"
     ]
    },
    {
     "name": "stdout",
     "output_type": "stream",
     "text": [
      "Epoch:144/1000.. Train Loss: 0.030.. Val Loss: 0.068.. Test Loss: 0.041.. Time: 0.03m\n"
     ]
    },
    {
     "name": "stderr",
     "output_type": "stream",
     "text": [
      "100%|██████████| 107/107 [00:01<00:00, 70.34it/s]\n",
      "100%|██████████| 18/18 [00:00<00:00, 282.48it/s]\n",
      "100%|██████████| 53/53 [00:00<00:00, 322.87it/s]\n"
     ]
    },
    {
     "name": "stdout",
     "output_type": "stream",
     "text": [
      "Epoch:145/1000.. Train Loss: 0.033.. Val Loss: 0.069.. Test Loss: 0.042.. Time: 0.03m\n"
     ]
    },
    {
     "name": "stderr",
     "output_type": "stream",
     "text": [
      "100%|██████████| 107/107 [00:01<00:00, 70.07it/s]\n",
      "100%|██████████| 18/18 [00:00<00:00, 316.59it/s]\n",
      "100%|██████████| 53/53 [00:00<00:00, 323.56it/s]\n"
     ]
    },
    {
     "name": "stdout",
     "output_type": "stream",
     "text": [
      "Loss Decreasing.. 0.068 >> 0.068 \n",
      "saving model...\n",
      "Epoch:146/1000.. Train Loss: 0.032.. Val Loss: 0.068.. Test Loss: 0.042.. Time: 0.03m\n"
     ]
    },
    {
     "name": "stderr",
     "output_type": "stream",
     "text": [
      "100%|██████████| 107/107 [00:01<00:00, 70.10it/s]\n",
      "100%|██████████| 18/18 [00:00<00:00, 326.46it/s]\n",
      "100%|██████████| 53/53 [00:00<00:00, 323.36it/s]\n"
     ]
    },
    {
     "name": "stdout",
     "output_type": "stream",
     "text": [
      "Loss Decreasing.. 0.068 >> 0.067 \n",
      "saving model...\n",
      "Epoch:147/1000.. Train Loss: 0.033.. Val Loss: 0.067.. Test Loss: 0.041.. Time: 0.03m\n"
     ]
    },
    {
     "name": "stderr",
     "output_type": "stream",
     "text": [
      "100%|██████████| 107/107 [00:01<00:00, 70.52it/s]\n",
      "100%|██████████| 18/18 [00:00<00:00, 323.10it/s]\n",
      "100%|██████████| 53/53 [00:00<00:00, 327.98it/s]\n"
     ]
    },
    {
     "name": "stdout",
     "output_type": "stream",
     "text": [
      "Epoch:148/1000.. Train Loss: 0.031.. Val Loss: 0.072.. Test Loss: 0.042.. Time: 0.03m\n"
     ]
    },
    {
     "name": "stderr",
     "output_type": "stream",
     "text": [
      "100%|██████████| 107/107 [00:01<00:00, 70.75it/s]\n",
      "100%|██████████| 18/18 [00:00<00:00, 328.56it/s]\n",
      "100%|██████████| 53/53 [00:00<00:00, 325.21it/s]\n"
     ]
    },
    {
     "name": "stdout",
     "output_type": "stream",
     "text": [
      "Loss Decreasing.. 0.067 >> 0.066 \n",
      "saving model...\n",
      "Epoch:149/1000.. Train Loss: 0.030.. Val Loss: 0.066.. Test Loss: 0.044.. Time: 0.03m\n"
     ]
    },
    {
     "name": "stderr",
     "output_type": "stream",
     "text": [
      "100%|██████████| 107/107 [00:01<00:00, 69.97it/s]\n",
      "100%|██████████| 18/18 [00:00<00:00, 319.65it/s]\n",
      "100%|██████████| 53/53 [00:00<00:00, 327.04it/s]\n"
     ]
    },
    {
     "name": "stdout",
     "output_type": "stream",
     "text": [
      "Epoch:150/1000.. Train Loss: 0.034.. Val Loss: 0.071.. Test Loss: 0.043.. Time: 0.03m\n"
     ]
    },
    {
     "name": "stderr",
     "output_type": "stream",
     "text": [
      "100%|██████████| 107/107 [00:01<00:00, 69.45it/s]\n",
      "100%|██████████| 18/18 [00:00<00:00, 321.92it/s]\n",
      "100%|██████████| 53/53 [00:00<00:00, 311.82it/s]\n"
     ]
    },
    {
     "name": "stdout",
     "output_type": "stream",
     "text": [
      "Epoch:151/1000.. Train Loss: 0.030.. Val Loss: 0.070.. Test Loss: 0.043.. Time: 0.03m\n"
     ]
    },
    {
     "name": "stderr",
     "output_type": "stream",
     "text": [
      "100%|██████████| 107/107 [00:01<00:00, 69.76it/s]\n",
      "100%|██████████| 18/18 [00:00<00:00, 311.16it/s]\n",
      "100%|██████████| 53/53 [00:00<00:00, 325.94it/s]\n"
     ]
    },
    {
     "name": "stdout",
     "output_type": "stream",
     "text": [
      "Epoch:152/1000.. Train Loss: 0.032.. Val Loss: 0.068.. Test Loss: 0.042.. Time: 0.03m\n"
     ]
    },
    {
     "name": "stderr",
     "output_type": "stream",
     "text": [
      "100%|██████████| 107/107 [00:01<00:00, 69.02it/s]\n",
      "100%|██████████| 18/18 [00:00<00:00, 323.92it/s]\n",
      "100%|██████████| 53/53 [00:00<00:00, 327.58it/s]\n"
     ]
    },
    {
     "name": "stdout",
     "output_type": "stream",
     "text": [
      "Epoch:153/1000.. Train Loss: 0.032.. Val Loss: 0.069.. Test Loss: 0.042.. Time: 0.03m\n"
     ]
    },
    {
     "name": "stderr",
     "output_type": "stream",
     "text": [
      "100%|██████████| 107/107 [00:01<00:00, 70.26it/s]\n",
      "100%|██████████| 18/18 [00:00<00:00, 325.49it/s]\n",
      "100%|██████████| 53/53 [00:00<00:00, 325.43it/s]\n"
     ]
    },
    {
     "name": "stdout",
     "output_type": "stream",
     "text": [
      "Epoch:154/1000.. Train Loss: 0.033.. Val Loss: 0.071.. Test Loss: 0.043.. Time: 0.03m\n"
     ]
    },
    {
     "name": "stderr",
     "output_type": "stream",
     "text": [
      "100%|██████████| 107/107 [00:01<00:00, 68.76it/s]\n",
      "100%|██████████| 18/18 [00:00<00:00, 335.75it/s]\n",
      "100%|██████████| 53/53 [00:00<00:00, 319.91it/s]\n"
     ]
    },
    {
     "name": "stdout",
     "output_type": "stream",
     "text": [
      "Epoch:155/1000.. Train Loss: 0.033.. Val Loss: 0.077.. Test Loss: 0.041.. Time: 0.03m\n"
     ]
    },
    {
     "name": "stderr",
     "output_type": "stream",
     "text": [
      "100%|██████████| 107/107 [00:01<00:00, 70.39it/s]\n",
      "100%|██████████| 18/18 [00:00<00:00, 328.94it/s]\n",
      "100%|██████████| 53/53 [00:00<00:00, 333.86it/s]\n"
     ]
    },
    {
     "name": "stdout",
     "output_type": "stream",
     "text": [
      "Epoch:156/1000.. Train Loss: 0.031.. Val Loss: 0.067.. Test Loss: 0.040.. Time: 0.03m\n"
     ]
    },
    {
     "name": "stderr",
     "output_type": "stream",
     "text": [
      "100%|██████████| 107/107 [00:01<00:00, 69.59it/s]\n",
      "100%|██████████| 18/18 [00:00<00:00, 321.56it/s]\n",
      "100%|██████████| 53/53 [00:00<00:00, 298.83it/s]\n"
     ]
    },
    {
     "name": "stdout",
     "output_type": "stream",
     "text": [
      "Epoch:157/1000.. Train Loss: 0.032.. Val Loss: 0.067.. Test Loss: 0.040.. Time: 0.03m\n"
     ]
    },
    {
     "name": "stderr",
     "output_type": "stream",
     "text": [
      "100%|██████████| 107/107 [00:01<00:00, 69.63it/s]\n",
      "100%|██████████| 18/18 [00:00<00:00, 313.75it/s]\n",
      "100%|██████████| 53/53 [00:00<00:00, 326.52it/s]\n"
     ]
    },
    {
     "name": "stdout",
     "output_type": "stream",
     "text": [
      "Epoch:158/1000.. Train Loss: 0.030.. Val Loss: 0.069.. Test Loss: 0.042.. Time: 0.03m\n"
     ]
    },
    {
     "name": "stderr",
     "output_type": "stream",
     "text": [
      "100%|██████████| 107/107 [00:01<00:00, 70.10it/s]\n",
      "100%|██████████| 18/18 [00:00<00:00, 327.79it/s]\n",
      "100%|██████████| 53/53 [00:00<00:00, 325.03it/s]\n"
     ]
    },
    {
     "name": "stdout",
     "output_type": "stream",
     "text": [
      "Epoch:159/1000.. Train Loss: 0.032.. Val Loss: 0.066.. Test Loss: 0.041.. Time: 0.03m\n"
     ]
    },
    {
     "name": "stderr",
     "output_type": "stream",
     "text": [
      "100%|██████████| 107/107 [00:01<00:00, 67.73it/s]\n",
      "100%|██████████| 18/18 [00:00<00:00, 325.39it/s]\n",
      "100%|██████████| 53/53 [00:00<00:00, 328.39it/s]\n"
     ]
    },
    {
     "name": "stdout",
     "output_type": "stream",
     "text": [
      "Epoch:160/1000.. Train Loss: 0.031.. Val Loss: 0.068.. Test Loss: 0.041.. Time: 0.03m\n"
     ]
    },
    {
     "name": "stderr",
     "output_type": "stream",
     "text": [
      "100%|██████████| 107/107 [00:01<00:00, 68.25it/s]\n",
      "100%|██████████| 18/18 [00:00<00:00, 314.18it/s]\n",
      "100%|██████████| 53/53 [00:00<00:00, 328.36it/s]\n"
     ]
    },
    {
     "name": "stdout",
     "output_type": "stream",
     "text": [
      "Epoch:161/1000.. Train Loss: 0.032.. Val Loss: 0.072.. Test Loss: 0.041.. Time: 0.03m\n"
     ]
    },
    {
     "name": "stderr",
     "output_type": "stream",
     "text": [
      "100%|██████████| 107/107 [00:01<00:00, 69.79it/s]\n",
      "100%|██████████| 18/18 [00:00<00:00, 326.12it/s]\n",
      "100%|██████████| 53/53 [00:00<00:00, 328.59it/s]\n"
     ]
    },
    {
     "name": "stdout",
     "output_type": "stream",
     "text": [
      "Epoch:162/1000.. Train Loss: 0.032.. Val Loss: 0.080.. Test Loss: 0.042.. Time: 0.03m\n"
     ]
    },
    {
     "name": "stderr",
     "output_type": "stream",
     "text": [
      "100%|██████████| 107/107 [00:01<00:00, 67.98it/s]\n",
      "100%|██████████| 18/18 [00:00<00:00, 321.41it/s]\n",
      "100%|██████████| 53/53 [00:00<00:00, 329.07it/s]\n"
     ]
    },
    {
     "name": "stdout",
     "output_type": "stream",
     "text": [
      "Epoch:163/1000.. Train Loss: 0.031.. Val Loss: 0.085.. Test Loss: 0.041.. Time: 0.03m\n"
     ]
    },
    {
     "name": "stderr",
     "output_type": "stream",
     "text": [
      "100%|██████████| 107/107 [00:01<00:00, 71.60it/s]\n",
      "100%|██████████| 18/18 [00:00<00:00, 330.32it/s]\n",
      "100%|██████████| 53/53 [00:00<00:00, 334.91it/s]\n"
     ]
    },
    {
     "name": "stdout",
     "output_type": "stream",
     "text": [
      "Epoch:164/1000.. Train Loss: 0.031.. Val Loss: 0.069.. Test Loss: 0.040.. Time: 0.03m\n"
     ]
    },
    {
     "name": "stderr",
     "output_type": "stream",
     "text": [
      "100%|██████████| 107/107 [00:01<00:00, 71.73it/s]\n",
      "100%|██████████| 18/18 [00:00<00:00, 324.52it/s]\n",
      "100%|██████████| 53/53 [00:00<00:00, 333.89it/s]\n"
     ]
    },
    {
     "name": "stdout",
     "output_type": "stream",
     "text": [
      "Epoch:165/1000.. Train Loss: 0.031.. Val Loss: 0.069.. Test Loss: 0.041.. Time: 0.03m\n"
     ]
    },
    {
     "name": "stderr",
     "output_type": "stream",
     "text": [
      "100%|██████████| 107/107 [00:01<00:00, 71.74it/s]\n",
      "100%|██████████| 18/18 [00:00<00:00, 325.01it/s]\n",
      "100%|██████████| 53/53 [00:00<00:00, 330.13it/s]\n"
     ]
    },
    {
     "name": "stdout",
     "output_type": "stream",
     "text": [
      "Epoch:166/1000.. Train Loss: 0.030.. Val Loss: 0.069.. Test Loss: 0.042.. Time: 0.03m\n"
     ]
    },
    {
     "name": "stderr",
     "output_type": "stream",
     "text": [
      "100%|██████████| 107/107 [00:01<00:00, 70.98it/s]\n",
      "100%|██████████| 18/18 [00:00<00:00, 332.66it/s]\n",
      "100%|██████████| 53/53 [00:00<00:00, 327.96it/s]\n"
     ]
    },
    {
     "name": "stdout",
     "output_type": "stream",
     "text": [
      "Epoch:167/1000.. Train Loss: 0.030.. Val Loss: 0.075.. Test Loss: 0.041.. Time: 0.03m\n"
     ]
    },
    {
     "name": "stderr",
     "output_type": "stream",
     "text": [
      "100%|██████████| 107/107 [00:01<00:00, 71.83it/s]\n",
      "100%|██████████| 18/18 [00:00<00:00, 331.27it/s]\n",
      "100%|██████████| 53/53 [00:00<00:00, 330.74it/s]\n"
     ]
    },
    {
     "name": "stdout",
     "output_type": "stream",
     "text": [
      "Epoch:168/1000.. Train Loss: 0.030.. Val Loss: 0.069.. Test Loss: 0.040.. Time: 0.03m\n"
     ]
    },
    {
     "name": "stderr",
     "output_type": "stream",
     "text": [
      "100%|██████████| 107/107 [00:01<00:00, 71.27it/s]\n",
      "100%|██████████| 18/18 [00:00<00:00, 332.62it/s]\n",
      "100%|██████████| 53/53 [00:00<00:00, 327.78it/s]\n"
     ]
    },
    {
     "name": "stdout",
     "output_type": "stream",
     "text": [
      "Epoch:169/1000.. Train Loss: 0.031.. Val Loss: 0.070.. Test Loss: 0.041.. Time: 0.03m\n"
     ]
    },
    {
     "name": "stderr",
     "output_type": "stream",
     "text": [
      "100%|██████████| 107/107 [00:01<00:00, 70.44it/s]\n",
      "100%|██████████| 18/18 [00:00<00:00, 335.46it/s]\n",
      "100%|██████████| 53/53 [00:00<00:00, 331.84it/s]\n"
     ]
    },
    {
     "name": "stdout",
     "output_type": "stream",
     "text": [
      "Epoch:170/1000.. Train Loss: 0.031.. Val Loss: 0.079.. Test Loss: 0.042.. Time: 0.03m\n"
     ]
    },
    {
     "name": "stderr",
     "output_type": "stream",
     "text": [
      "100%|██████████| 107/107 [00:01<00:00, 71.60it/s]\n",
      "100%|██████████| 18/18 [00:00<00:00, 334.87it/s]\n",
      "100%|██████████| 53/53 [00:00<00:00, 330.64it/s]\n"
     ]
    },
    {
     "name": "stdout",
     "output_type": "stream",
     "text": [
      "Epoch:171/1000.. Train Loss: 0.031.. Val Loss: 0.067.. Test Loss: 0.041.. Time: 0.03m\n"
     ]
    },
    {
     "name": "stderr",
     "output_type": "stream",
     "text": [
      "100%|██████████| 107/107 [00:01<00:00, 70.76it/s]\n",
      "100%|██████████| 18/18 [00:00<00:00, 327.37it/s]\n",
      "100%|██████████| 53/53 [00:00<00:00, 333.72it/s]\n"
     ]
    },
    {
     "name": "stdout",
     "output_type": "stream",
     "text": [
      "Epoch:172/1000.. Train Loss: 0.031.. Val Loss: 0.069.. Test Loss: 0.041.. Time: 0.03m\n"
     ]
    },
    {
     "name": "stderr",
     "output_type": "stream",
     "text": [
      "100%|██████████| 107/107 [00:01<00:00, 71.21it/s]\n",
      "100%|██████████| 18/18 [00:00<00:00, 328.03it/s]\n",
      "100%|██████████| 53/53 [00:00<00:00, 330.89it/s]\n"
     ]
    },
    {
     "name": "stdout",
     "output_type": "stream",
     "text": [
      "Epoch:173/1000.. Train Loss: 0.030.. Val Loss: 0.068.. Test Loss: 0.042.. Time: 0.03m\n"
     ]
    },
    {
     "name": "stderr",
     "output_type": "stream",
     "text": [
      "100%|██████████| 107/107 [00:01<00:00, 70.36it/s]\n",
      "100%|██████████| 18/18 [00:00<00:00, 324.13it/s]\n",
      "100%|██████████| 53/53 [00:00<00:00, 328.91it/s]\n"
     ]
    },
    {
     "name": "stdout",
     "output_type": "stream",
     "text": [
      "Epoch:174/1000.. Train Loss: 0.030.. Val Loss: 0.086.. Test Loss: 0.043.. Time: 0.03m\n"
     ]
    },
    {
     "name": "stderr",
     "output_type": "stream",
     "text": [
      "100%|██████████| 107/107 [00:01<00:00, 69.53it/s]\n",
      "100%|██████████| 18/18 [00:00<00:00, 298.14it/s]\n",
      "100%|██████████| 53/53 [00:00<00:00, 327.59it/s]\n"
     ]
    },
    {
     "name": "stdout",
     "output_type": "stream",
     "text": [
      "Epoch:175/1000.. Train Loss: 0.028.. Val Loss: 0.067.. Test Loss: 0.043.. Time: 0.03m\n"
     ]
    },
    {
     "name": "stderr",
     "output_type": "stream",
     "text": [
      "100%|██████████| 107/107 [00:01<00:00, 70.86it/s]\n",
      "100%|██████████| 18/18 [00:00<00:00, 330.58it/s]\n",
      "100%|██████████| 53/53 [00:00<00:00, 329.80it/s]\n"
     ]
    },
    {
     "name": "stdout",
     "output_type": "stream",
     "text": [
      "Epoch:176/1000.. Train Loss: 0.029.. Val Loss: 0.071.. Test Loss: 0.042.. Time: 0.03m\n"
     ]
    },
    {
     "name": "stderr",
     "output_type": "stream",
     "text": [
      "100%|██████████| 107/107 [00:01<00:00, 71.02it/s]\n",
      "100%|██████████| 18/18 [00:00<00:00, 325.22it/s]\n",
      "100%|██████████| 53/53 [00:00<00:00, 329.19it/s]\n"
     ]
    },
    {
     "name": "stdout",
     "output_type": "stream",
     "text": [
      "Epoch:177/1000.. Train Loss: 0.030.. Val Loss: 0.069.. Test Loss: 0.043.. Time: 0.03m\n"
     ]
    },
    {
     "name": "stderr",
     "output_type": "stream",
     "text": [
      "100%|██████████| 107/107 [00:01<00:00, 71.04it/s]\n",
      "100%|██████████| 18/18 [00:00<00:00, 312.85it/s]\n",
      "100%|██████████| 53/53 [00:00<00:00, 324.69it/s]\n"
     ]
    },
    {
     "name": "stdout",
     "output_type": "stream",
     "text": [
      "Epoch:178/1000.. Train Loss: 0.030.. Val Loss: 0.068.. Test Loss: 0.041.. Time: 0.03m\n"
     ]
    },
    {
     "name": "stderr",
     "output_type": "stream",
     "text": [
      "100%|██████████| 107/107 [00:01<00:00, 70.33it/s]\n",
      "100%|██████████| 18/18 [00:00<00:00, 327.61it/s]\n",
      "100%|██████████| 53/53 [00:00<00:00, 327.70it/s]\n"
     ]
    },
    {
     "name": "stdout",
     "output_type": "stream",
     "text": [
      "Epoch:179/1000.. Train Loss: 0.029.. Val Loss: 0.072.. Test Loss: 0.041.. Time: 0.03m\n"
     ]
    },
    {
     "name": "stderr",
     "output_type": "stream",
     "text": [
      "100%|██████████| 107/107 [00:01<00:00, 70.57it/s]\n",
      "100%|██████████| 18/18 [00:00<00:00, 330.20it/s]\n",
      "100%|██████████| 53/53 [00:00<00:00, 330.80it/s]\n"
     ]
    },
    {
     "name": "stdout",
     "output_type": "stream",
     "text": [
      "Epoch:180/1000.. Train Loss: 0.029.. Val Loss: 0.071.. Test Loss: 0.042.. Time: 0.03m\n"
     ]
    },
    {
     "name": "stderr",
     "output_type": "stream",
     "text": [
      "100%|██████████| 107/107 [00:01<00:00, 69.50it/s]\n",
      "100%|██████████| 18/18 [00:00<00:00, 321.30it/s]\n",
      "100%|██████████| 53/53 [00:00<00:00, 340.08it/s]\n"
     ]
    },
    {
     "name": "stdout",
     "output_type": "stream",
     "text": [
      "Epoch:181/1000.. Train Loss: 0.031.. Val Loss: 0.074.. Test Loss: 0.043.. Time: 0.03m\n"
     ]
    },
    {
     "name": "stderr",
     "output_type": "stream",
     "text": [
      "100%|██████████| 107/107 [00:01<00:00, 70.77it/s]\n",
      "100%|██████████| 18/18 [00:00<00:00, 321.92it/s]\n",
      "100%|██████████| 53/53 [00:00<00:00, 328.21it/s]\n"
     ]
    },
    {
     "name": "stdout",
     "output_type": "stream",
     "text": [
      "Epoch:182/1000.. Train Loss: 0.031.. Val Loss: 0.071.. Test Loss: 0.042.. Time: 0.03m\n"
     ]
    },
    {
     "name": "stderr",
     "output_type": "stream",
     "text": [
      "100%|██████████| 107/107 [00:01<00:00, 70.69it/s]\n",
      "100%|██████████| 18/18 [00:00<00:00, 326.60it/s]\n",
      "100%|██████████| 53/53 [00:00<00:00, 327.22it/s]\n"
     ]
    },
    {
     "name": "stdout",
     "output_type": "stream",
     "text": [
      "Epoch:183/1000.. Train Loss: 0.029.. Val Loss: 0.069.. Test Loss: 0.042.. Time: 0.03m\n"
     ]
    },
    {
     "name": "stderr",
     "output_type": "stream",
     "text": [
      "100%|██████████| 107/107 [00:01<00:00, 71.05it/s]\n",
      "100%|██████████| 18/18 [00:00<00:00, 329.18it/s]\n",
      "100%|██████████| 53/53 [00:00<00:00, 333.22it/s]\n"
     ]
    },
    {
     "name": "stdout",
     "output_type": "stream",
     "text": [
      "Epoch:184/1000.. Train Loss: 0.028.. Val Loss: 0.072.. Test Loss: 0.043.. Time: 0.03m\n"
     ]
    },
    {
     "name": "stderr",
     "output_type": "stream",
     "text": [
      "100%|██████████| 107/107 [00:01<00:00, 70.50it/s]\n",
      "100%|██████████| 18/18 [00:00<00:00, 324.57it/s]\n",
      "100%|██████████| 53/53 [00:00<00:00, 327.61it/s]\n"
     ]
    },
    {
     "name": "stdout",
     "output_type": "stream",
     "text": [
      "Epoch:185/1000.. Train Loss: 0.029.. Val Loss: 0.071.. Test Loss: 0.042.. Time: 0.03m\n"
     ]
    },
    {
     "name": "stderr",
     "output_type": "stream",
     "text": [
      "100%|██████████| 107/107 [00:01<00:00, 70.43it/s]\n",
      "100%|██████████| 18/18 [00:00<00:00, 316.83it/s]\n",
      "100%|██████████| 53/53 [00:00<00:00, 327.92it/s]\n"
     ]
    },
    {
     "name": "stdout",
     "output_type": "stream",
     "text": [
      "Epoch:186/1000.. Train Loss: 0.029.. Val Loss: 0.069.. Test Loss: 0.042.. Time: 0.03m\n"
     ]
    },
    {
     "name": "stderr",
     "output_type": "stream",
     "text": [
      "100%|██████████| 107/107 [00:01<00:00, 69.74it/s]\n",
      "100%|██████████| 18/18 [00:00<00:00, 325.07it/s]\n",
      "100%|██████████| 53/53 [00:00<00:00, 330.90it/s]\n"
     ]
    },
    {
     "name": "stdout",
     "output_type": "stream",
     "text": [
      "Epoch:187/1000.. Train Loss: 0.030.. Val Loss: 0.070.. Test Loss: 0.042.. Time: 0.03m\n"
     ]
    },
    {
     "name": "stderr",
     "output_type": "stream",
     "text": [
      "100%|██████████| 107/107 [00:01<00:00, 70.31it/s]\n",
      "100%|██████████| 18/18 [00:00<00:00, 321.41it/s]\n",
      "100%|██████████| 53/53 [00:00<00:00, 328.10it/s]\n"
     ]
    },
    {
     "name": "stdout",
     "output_type": "stream",
     "text": [
      "Epoch:188/1000.. Train Loss: 0.028.. Val Loss: 0.071.. Test Loss: 0.044.. Time: 0.03m\n"
     ]
    },
    {
     "name": "stderr",
     "output_type": "stream",
     "text": [
      "100%|██████████| 107/107 [00:01<00:00, 70.32it/s]\n",
      "100%|██████████| 18/18 [00:00<00:00, 334.85it/s]\n",
      "100%|██████████| 53/53 [00:00<00:00, 331.83it/s]\n"
     ]
    },
    {
     "name": "stdout",
     "output_type": "stream",
     "text": [
      "Epoch:189/1000.. Train Loss: 0.028.. Val Loss: 0.075.. Test Loss: 0.047.. Time: 0.03m\n"
     ]
    },
    {
     "name": "stderr",
     "output_type": "stream",
     "text": [
      "100%|██████████| 107/107 [00:01<00:00, 70.48it/s]\n",
      "100%|██████████| 18/18 [00:00<00:00, 329.05it/s]\n",
      "100%|██████████| 53/53 [00:00<00:00, 326.76it/s]\n"
     ]
    },
    {
     "name": "stdout",
     "output_type": "stream",
     "text": [
      "Epoch:190/1000.. Train Loss: 0.031.. Val Loss: 0.071.. Test Loss: 0.044.. Time: 0.03m\n"
     ]
    },
    {
     "name": "stderr",
     "output_type": "stream",
     "text": [
      "100%|██████████| 107/107 [00:01<00:00, 70.19it/s]\n",
      "100%|██████████| 18/18 [00:00<00:00, 327.61it/s]\n",
      "100%|██████████| 53/53 [00:00<00:00, 329.01it/s]\n"
     ]
    },
    {
     "name": "stdout",
     "output_type": "stream",
     "text": [
      "Epoch:191/1000.. Train Loss: 0.028.. Val Loss: 0.071.. Test Loss: 0.043.. Time: 0.03m\n"
     ]
    },
    {
     "name": "stderr",
     "output_type": "stream",
     "text": [
      "100%|██████████| 107/107 [00:01<00:00, 71.51it/s]\n",
      "100%|██████████| 18/18 [00:00<00:00, 331.22it/s]\n",
      "100%|██████████| 53/53 [00:00<00:00, 332.55it/s]\n"
     ]
    },
    {
     "name": "stdout",
     "output_type": "stream",
     "text": [
      "Epoch:192/1000.. Train Loss: 0.029.. Val Loss: 0.069.. Test Loss: 0.043.. Time: 0.03m\n"
     ]
    },
    {
     "name": "stderr",
     "output_type": "stream",
     "text": [
      "100%|██████████| 107/107 [00:01<00:00, 71.00it/s]\n",
      "100%|██████████| 18/18 [00:00<00:00, 325.84it/s]\n",
      "100%|██████████| 53/53 [00:00<00:00, 328.14it/s]\n"
     ]
    },
    {
     "name": "stdout",
     "output_type": "stream",
     "text": [
      "Epoch:193/1000.. Train Loss: 0.029.. Val Loss: 0.081.. Test Loss: 0.043.. Time: 0.03m\n"
     ]
    },
    {
     "name": "stderr",
     "output_type": "stream",
     "text": [
      "100%|██████████| 107/107 [00:01<00:00, 66.62it/s]\n",
      "100%|██████████| 18/18 [00:00<00:00, 326.89it/s]\n",
      "100%|██████████| 53/53 [00:00<00:00, 327.71it/s]\n"
     ]
    },
    {
     "name": "stdout",
     "output_type": "stream",
     "text": [
      "Epoch:194/1000.. Train Loss: 0.030.. Val Loss: 0.072.. Test Loss: 0.045.. Time: 0.03m\n"
     ]
    },
    {
     "name": "stderr",
     "output_type": "stream",
     "text": [
      "100%|██████████| 107/107 [00:01<00:00, 69.90it/s]\n",
      "100%|██████████| 18/18 [00:00<00:00, 325.41it/s]\n",
      "100%|██████████| 53/53 [00:00<00:00, 324.81it/s]\n"
     ]
    },
    {
     "name": "stdout",
     "output_type": "stream",
     "text": [
      "Epoch:195/1000.. Train Loss: 0.029.. Val Loss: 0.070.. Test Loss: 0.044.. Time: 0.03m\n"
     ]
    },
    {
     "name": "stderr",
     "output_type": "stream",
     "text": [
      "100%|██████████| 107/107 [00:01<00:00, 71.08it/s]\n",
      "100%|██████████| 18/18 [00:00<00:00, 324.05it/s]\n",
      "100%|██████████| 53/53 [00:00<00:00, 329.95it/s]\n"
     ]
    },
    {
     "name": "stdout",
     "output_type": "stream",
     "text": [
      "Epoch:196/1000.. Train Loss: 0.028.. Val Loss: 0.072.. Test Loss: 0.045.. Time: 0.03m\n"
     ]
    },
    {
     "name": "stderr",
     "output_type": "stream",
     "text": [
      "100%|██████████| 107/107 [00:01<00:00, 70.79it/s]\n",
      "100%|██████████| 18/18 [00:00<00:00, 321.52it/s]\n",
      "100%|██████████| 53/53 [00:00<00:00, 325.30it/s]\n"
     ]
    },
    {
     "name": "stdout",
     "output_type": "stream",
     "text": [
      "Epoch:197/1000.. Train Loss: 0.028.. Val Loss: 0.072.. Test Loss: 0.045.. Time: 0.03m\n"
     ]
    },
    {
     "name": "stderr",
     "output_type": "stream",
     "text": [
      "100%|██████████| 107/107 [00:01<00:00, 70.13it/s]\n",
      "100%|██████████| 18/18 [00:00<00:00, 314.59it/s]\n",
      "100%|██████████| 53/53 [00:00<00:00, 323.74it/s]\n"
     ]
    },
    {
     "name": "stdout",
     "output_type": "stream",
     "text": [
      "Epoch:198/1000.. Train Loss: 0.029.. Val Loss: 0.069.. Test Loss: 0.044.. Time: 0.03m\n"
     ]
    },
    {
     "name": "stderr",
     "output_type": "stream",
     "text": [
      "100%|██████████| 107/107 [00:01<00:00, 70.36it/s]\n",
      "100%|██████████| 18/18 [00:00<00:00, 323.55it/s]\n",
      "100%|██████████| 53/53 [00:00<00:00, 326.97it/s]\n"
     ]
    },
    {
     "name": "stdout",
     "output_type": "stream",
     "text": [
      "Epoch:199/1000.. Train Loss: 0.029.. Val Loss: 0.069.. Test Loss: 0.045.. Time: 0.03m\n"
     ]
    },
    {
     "name": "stderr",
     "output_type": "stream",
     "text": [
      "100%|██████████| 107/107 [00:01<00:00, 70.86it/s]\n",
      "100%|██████████| 18/18 [00:00<00:00, 319.26it/s]\n",
      "100%|██████████| 53/53 [00:00<00:00, 330.49it/s]\n"
     ]
    },
    {
     "name": "stdout",
     "output_type": "stream",
     "text": [
      "Epoch:200/1000.. Train Loss: 0.027.. Val Loss: 0.073.. Test Loss: 0.045.. Time: 0.03m\n"
     ]
    },
    {
     "name": "stderr",
     "output_type": "stream",
     "text": [
      "100%|██████████| 107/107 [00:01<00:00, 69.88it/s]\n",
      "100%|██████████| 18/18 [00:00<00:00, 319.61it/s]\n",
      "100%|██████████| 53/53 [00:00<00:00, 326.15it/s]\n"
     ]
    },
    {
     "name": "stdout",
     "output_type": "stream",
     "text": [
      "Epoch:201/1000.. Train Loss: 0.028.. Val Loss: 0.072.. Test Loss: 0.046.. Time: 0.03m\n"
     ]
    },
    {
     "name": "stderr",
     "output_type": "stream",
     "text": [
      "100%|██████████| 107/107 [00:01<00:00, 70.00it/s]\n",
      "100%|██████████| 18/18 [00:00<00:00, 322.82it/s]\n",
      "100%|██████████| 53/53 [00:00<00:00, 323.97it/s]\n"
     ]
    },
    {
     "name": "stdout",
     "output_type": "stream",
     "text": [
      "Epoch:202/1000.. Train Loss: 0.027.. Val Loss: 0.073.. Test Loss: 0.046.. Time: 0.03m\n"
     ]
    },
    {
     "name": "stderr",
     "output_type": "stream",
     "text": [
      "100%|██████████| 107/107 [00:01<00:00, 69.88it/s]\n",
      "100%|██████████| 18/18 [00:00<00:00, 315.48it/s]\n",
      "100%|██████████| 53/53 [00:00<00:00, 324.65it/s]\n"
     ]
    },
    {
     "name": "stdout",
     "output_type": "stream",
     "text": [
      "Epoch:203/1000.. Train Loss: 0.029.. Val Loss: 0.071.. Test Loss: 0.048.. Time: 0.03m\n"
     ]
    },
    {
     "name": "stderr",
     "output_type": "stream",
     "text": [
      "100%|██████████| 107/107 [00:01<00:00, 69.74it/s]\n",
      "100%|██████████| 18/18 [00:00<00:00, 315.81it/s]\n",
      "100%|██████████| 53/53 [00:00<00:00, 324.07it/s]\n"
     ]
    },
    {
     "name": "stdout",
     "output_type": "stream",
     "text": [
      "Epoch:204/1000.. Train Loss: 0.028.. Val Loss: 0.074.. Test Loss: 0.047.. Time: 0.03m\n"
     ]
    },
    {
     "name": "stderr",
     "output_type": "stream",
     "text": [
      "100%|██████████| 107/107 [00:01<00:00, 70.78it/s]\n",
      "100%|██████████| 18/18 [00:00<00:00, 330.19it/s]\n",
      "100%|██████████| 53/53 [00:00<00:00, 321.21it/s]\n"
     ]
    },
    {
     "name": "stdout",
     "output_type": "stream",
     "text": [
      "Epoch:205/1000.. Train Loss: 0.029.. Val Loss: 0.072.. Test Loss: 0.045.. Time: 0.03m\n"
     ]
    },
    {
     "name": "stderr",
     "output_type": "stream",
     "text": [
      "100%|██████████| 107/107 [00:01<00:00, 68.98it/s]\n",
      "100%|██████████| 18/18 [00:00<00:00, 331.27it/s]\n",
      "100%|██████████| 53/53 [00:00<00:00, 332.70it/s]\n"
     ]
    },
    {
     "name": "stdout",
     "output_type": "stream",
     "text": [
      "Epoch:206/1000.. Train Loss: 0.028.. Val Loss: 0.071.. Test Loss: 0.044.. Time: 0.03m\n"
     ]
    },
    {
     "name": "stderr",
     "output_type": "stream",
     "text": [
      "100%|██████████| 107/107 [00:01<00:00, 70.39it/s]\n",
      "100%|██████████| 18/18 [00:00<00:00, 333.85it/s]\n",
      "100%|██████████| 53/53 [00:00<00:00, 329.28it/s]\n"
     ]
    },
    {
     "name": "stdout",
     "output_type": "stream",
     "text": [
      "Epoch:207/1000.. Train Loss: 0.028.. Val Loss: 0.071.. Test Loss: 0.046.. Time: 0.03m\n"
     ]
    },
    {
     "name": "stderr",
     "output_type": "stream",
     "text": [
      "100%|██████████| 107/107 [00:01<00:00, 70.31it/s]\n",
      "100%|██████████| 18/18 [00:00<00:00, 323.75it/s]\n",
      "100%|██████████| 53/53 [00:00<00:00, 331.03it/s]\n"
     ]
    },
    {
     "name": "stdout",
     "output_type": "stream",
     "text": [
      "Epoch:208/1000.. Train Loss: 0.028.. Val Loss: 0.073.. Test Loss: 0.046.. Time: 0.03m\n"
     ]
    },
    {
     "name": "stderr",
     "output_type": "stream",
     "text": [
      "100%|██████████| 107/107 [00:01<00:00, 70.28it/s]\n",
      "100%|██████████| 18/18 [00:00<00:00, 327.51it/s]\n",
      "100%|██████████| 53/53 [00:00<00:00, 328.61it/s]\n"
     ]
    },
    {
     "name": "stdout",
     "output_type": "stream",
     "text": [
      "Epoch:209/1000.. Train Loss: 0.028.. Val Loss: 0.073.. Test Loss: 0.045.. Time: 0.03m\n"
     ]
    },
    {
     "name": "stderr",
     "output_type": "stream",
     "text": [
      "100%|██████████| 107/107 [00:01<00:00, 69.79it/s]\n",
      "100%|██████████| 18/18 [00:00<00:00, 316.38it/s]\n",
      "100%|██████████| 53/53 [00:00<00:00, 311.99it/s]\n"
     ]
    },
    {
     "name": "stdout",
     "output_type": "stream",
     "text": [
      "Epoch:210/1000.. Train Loss: 0.028.. Val Loss: 0.082.. Test Loss: 0.046.. Time: 0.03m\n"
     ]
    },
    {
     "name": "stderr",
     "output_type": "stream",
     "text": [
      "100%|██████████| 107/107 [00:01<00:00, 69.38it/s]\n",
      "100%|██████████| 18/18 [00:00<00:00, 323.58it/s]\n",
      "100%|██████████| 53/53 [00:00<00:00, 322.67it/s]\n"
     ]
    },
    {
     "name": "stdout",
     "output_type": "stream",
     "text": [
      "Epoch:211/1000.. Train Loss: 0.028.. Val Loss: 0.069.. Test Loss: 0.045.. Time: 0.03m\n"
     ]
    },
    {
     "name": "stderr",
     "output_type": "stream",
     "text": [
      "100%|██████████| 107/107 [00:01<00:00, 71.03it/s]\n",
      "100%|██████████| 18/18 [00:00<00:00, 335.47it/s]\n",
      "100%|██████████| 53/53 [00:00<00:00, 334.06it/s]\n"
     ]
    },
    {
     "name": "stdout",
     "output_type": "stream",
     "text": [
      "Epoch:212/1000.. Train Loss: 0.029.. Val Loss: 0.078.. Test Loss: 0.046.. Time: 0.03m\n"
     ]
    },
    {
     "name": "stderr",
     "output_type": "stream",
     "text": [
      "100%|██████████| 107/107 [00:01<00:00, 70.61it/s]\n",
      "100%|██████████| 18/18 [00:00<00:00, 323.37it/s]\n",
      "100%|██████████| 53/53 [00:00<00:00, 327.99it/s]\n"
     ]
    },
    {
     "name": "stdout",
     "output_type": "stream",
     "text": [
      "Epoch:213/1000.. Train Loss: 0.029.. Val Loss: 0.069.. Test Loss: 0.045.. Time: 0.03m\n"
     ]
    },
    {
     "name": "stderr",
     "output_type": "stream",
     "text": [
      "100%|██████████| 107/107 [00:01<00:00, 70.70it/s]\n",
      "100%|██████████| 18/18 [00:00<00:00, 329.18it/s]\n",
      "100%|██████████| 53/53 [00:00<00:00, 326.80it/s]\n"
     ]
    },
    {
     "name": "stdout",
     "output_type": "stream",
     "text": [
      "Epoch:214/1000.. Train Loss: 0.028.. Val Loss: 0.070.. Test Loss: 0.043.. Time: 0.03m\n"
     ]
    },
    {
     "name": "stderr",
     "output_type": "stream",
     "text": [
      "100%|██████████| 107/107 [00:01<00:00, 69.91it/s]\n",
      "100%|██████████| 18/18 [00:00<00:00, 330.78it/s]\n",
      "100%|██████████| 53/53 [00:00<00:00, 326.13it/s]\n"
     ]
    },
    {
     "name": "stdout",
     "output_type": "stream",
     "text": [
      "Epoch:215/1000.. Train Loss: 0.029.. Val Loss: 0.069.. Test Loss: 0.043.. Time: 0.03m\n"
     ]
    },
    {
     "name": "stderr",
     "output_type": "stream",
     "text": [
      "100%|██████████| 107/107 [00:01<00:00, 71.22it/s]\n",
      "100%|██████████| 18/18 [00:00<00:00, 317.52it/s]\n",
      "100%|██████████| 53/53 [00:00<00:00, 330.88it/s]\n"
     ]
    },
    {
     "name": "stdout",
     "output_type": "stream",
     "text": [
      "Epoch:216/1000.. Train Loss: 0.027.. Val Loss: 0.069.. Test Loss: 0.043.. Time: 0.03m\n"
     ]
    },
    {
     "name": "stderr",
     "output_type": "stream",
     "text": [
      "100%|██████████| 107/107 [00:01<00:00, 70.79it/s]\n",
      "100%|██████████| 18/18 [00:00<00:00, 325.59it/s]\n",
      "100%|██████████| 53/53 [00:00<00:00, 333.94it/s]\n"
     ]
    },
    {
     "name": "stdout",
     "output_type": "stream",
     "text": [
      "Epoch:217/1000.. Train Loss: 0.028.. Val Loss: 0.071.. Test Loss: 0.046.. Time: 0.03m\n"
     ]
    },
    {
     "name": "stderr",
     "output_type": "stream",
     "text": [
      "100%|██████████| 107/107 [00:01<00:00, 70.20it/s]\n",
      "100%|██████████| 18/18 [00:00<00:00, 331.67it/s]\n",
      "100%|██████████| 53/53 [00:00<00:00, 331.25it/s]\n"
     ]
    },
    {
     "name": "stdout",
     "output_type": "stream",
     "text": [
      "Epoch:218/1000.. Train Loss: 0.030.. Val Loss: 0.072.. Test Loss: 0.046.. Time: 0.03m\n"
     ]
    },
    {
     "name": "stderr",
     "output_type": "stream",
     "text": [
      "100%|██████████| 107/107 [00:01<00:00, 70.42it/s]\n",
      "100%|██████████| 18/18 [00:00<00:00, 326.35it/s]\n",
      "100%|██████████| 53/53 [00:00<00:00, 326.52it/s]\n"
     ]
    },
    {
     "name": "stdout",
     "output_type": "stream",
     "text": [
      "Epoch:219/1000.. Train Loss: 0.029.. Val Loss: 0.079.. Test Loss: 0.047.. Time: 0.03m\n"
     ]
    },
    {
     "name": "stderr",
     "output_type": "stream",
     "text": [
      "100%|██████████| 107/107 [00:01<00:00, 70.14it/s]\n",
      "100%|██████████| 18/18 [00:00<00:00, 327.90it/s]\n",
      "100%|██████████| 53/53 [00:00<00:00, 328.86it/s]\n"
     ]
    },
    {
     "name": "stdout",
     "output_type": "stream",
     "text": [
      "Epoch:220/1000.. Train Loss: 0.029.. Val Loss: 0.069.. Test Loss: 0.047.. Time: 0.03m\n"
     ]
    },
    {
     "name": "stderr",
     "output_type": "stream",
     "text": [
      "100%|██████████| 107/107 [00:01<00:00, 69.78it/s]\n",
      "100%|██████████| 18/18 [00:00<00:00, 282.52it/s]\n",
      "100%|██████████| 53/53 [00:00<00:00, 331.60it/s]\n"
     ]
    },
    {
     "name": "stdout",
     "output_type": "stream",
     "text": [
      "Epoch:221/1000.. Train Loss: 0.027.. Val Loss: 0.070.. Test Loss: 0.047.. Time: 0.03m\n"
     ]
    },
    {
     "name": "stderr",
     "output_type": "stream",
     "text": [
      "100%|██████████| 107/107 [00:01<00:00, 71.81it/s]\n",
      "100%|██████████| 18/18 [00:00<00:00, 326.52it/s]\n",
      "100%|██████████| 53/53 [00:00<00:00, 331.03it/s]\n"
     ]
    },
    {
     "name": "stdout",
     "output_type": "stream",
     "text": [
      "Epoch:222/1000.. Train Loss: 0.027.. Val Loss: 0.070.. Test Loss: 0.046.. Time: 0.03m\n"
     ]
    },
    {
     "name": "stderr",
     "output_type": "stream",
     "text": [
      "100%|██████████| 107/107 [00:01<00:00, 70.88it/s]\n",
      "100%|██████████| 18/18 [00:00<00:00, 326.76it/s]\n",
      "100%|██████████| 53/53 [00:00<00:00, 328.87it/s]\n"
     ]
    },
    {
     "name": "stdout",
     "output_type": "stream",
     "text": [
      "Epoch:223/1000.. Train Loss: 0.027.. Val Loss: 0.076.. Test Loss: 0.046.. Time: 0.03m\n"
     ]
    },
    {
     "name": "stderr",
     "output_type": "stream",
     "text": [
      "100%|██████████| 107/107 [00:01<00:00, 70.60it/s]\n",
      "100%|██████████| 18/18 [00:00<00:00, 326.92it/s]\n",
      "100%|██████████| 53/53 [00:00<00:00, 328.02it/s]\n"
     ]
    },
    {
     "name": "stdout",
     "output_type": "stream",
     "text": [
      "Epoch:224/1000.. Train Loss: 0.027.. Val Loss: 0.074.. Test Loss: 0.046.. Time: 0.03m\n"
     ]
    },
    {
     "name": "stderr",
     "output_type": "stream",
     "text": [
      "100%|██████████| 107/107 [00:01<00:00, 70.72it/s]\n",
      "100%|██████████| 18/18 [00:00<00:00, 334.23it/s]\n",
      "100%|██████████| 53/53 [00:00<00:00, 327.17it/s]\n"
     ]
    },
    {
     "name": "stdout",
     "output_type": "stream",
     "text": [
      "Epoch:225/1000.. Train Loss: 0.027.. Val Loss: 0.072.. Test Loss: 0.048.. Time: 0.03m\n"
     ]
    },
    {
     "name": "stderr",
     "output_type": "stream",
     "text": [
      "100%|██████████| 107/107 [00:01<00:00, 68.69it/s]\n",
      "100%|██████████| 18/18 [00:00<00:00, 333.62it/s]\n",
      "100%|██████████| 53/53 [00:00<00:00, 330.92it/s]\n"
     ]
    },
    {
     "name": "stdout",
     "output_type": "stream",
     "text": [
      "Epoch:226/1000.. Train Loss: 0.027.. Val Loss: 0.070.. Test Loss: 0.046.. Time: 0.03m\n"
     ]
    },
    {
     "name": "stderr",
     "output_type": "stream",
     "text": [
      "100%|██████████| 107/107 [00:01<00:00, 70.71it/s]\n",
      "100%|██████████| 18/18 [00:00<00:00, 328.36it/s]\n",
      "100%|██████████| 53/53 [00:00<00:00, 328.20it/s]\n"
     ]
    },
    {
     "name": "stdout",
     "output_type": "stream",
     "text": [
      "Epoch:227/1000.. Train Loss: 0.026.. Val Loss: 0.071.. Test Loss: 0.045.. Time: 0.03m\n"
     ]
    },
    {
     "name": "stderr",
     "output_type": "stream",
     "text": [
      "100%|██████████| 107/107 [00:01<00:00, 70.64it/s]\n",
      "100%|██████████| 18/18 [00:00<00:00, 325.94it/s]\n",
      "100%|██████████| 53/53 [00:00<00:00, 326.88it/s]\n"
     ]
    },
    {
     "name": "stdout",
     "output_type": "stream",
     "text": [
      "Epoch:228/1000.. Train Loss: 0.027.. Val Loss: 0.071.. Test Loss: 0.047.. Time: 0.03m\n"
     ]
    },
    {
     "name": "stderr",
     "output_type": "stream",
     "text": [
      "100%|██████████| 107/107 [00:01<00:00, 70.14it/s]\n",
      "100%|██████████| 18/18 [00:00<00:00, 320.37it/s]\n",
      "100%|██████████| 53/53 [00:00<00:00, 323.85it/s]\n"
     ]
    },
    {
     "name": "stdout",
     "output_type": "stream",
     "text": [
      "Epoch:229/1000.. Train Loss: 0.025.. Val Loss: 0.077.. Test Loss: 0.047.. Time: 0.03m\n"
     ]
    },
    {
     "name": "stderr",
     "output_type": "stream",
     "text": [
      "100%|██████████| 107/107 [00:01<00:00, 70.50it/s]\n",
      "100%|██████████| 18/18 [00:00<00:00, 325.56it/s]\n",
      "100%|██████████| 53/53 [00:00<00:00, 327.06it/s]\n"
     ]
    },
    {
     "name": "stdout",
     "output_type": "stream",
     "text": [
      "Epoch:230/1000.. Train Loss: 0.027.. Val Loss: 0.073.. Test Loss: 0.047.. Time: 0.03m\n"
     ]
    },
    {
     "name": "stderr",
     "output_type": "stream",
     "text": [
      "100%|██████████| 107/107 [00:01<00:00, 69.74it/s]\n",
      "100%|██████████| 18/18 [00:00<00:00, 322.78it/s]\n",
      "100%|██████████| 53/53 [00:00<00:00, 330.38it/s]\n"
     ]
    },
    {
     "name": "stdout",
     "output_type": "stream",
     "text": [
      "Epoch:231/1000.. Train Loss: 0.024.. Val Loss: 0.079.. Test Loss: 0.044.. Time: 0.03m\n"
     ]
    },
    {
     "name": "stderr",
     "output_type": "stream",
     "text": [
      "100%|██████████| 107/107 [00:01<00:00, 68.44it/s]\n",
      "100%|██████████| 18/18 [00:00<00:00, 329.22it/s]\n",
      "100%|██████████| 53/53 [00:00<00:00, 330.87it/s]\n"
     ]
    },
    {
     "name": "stdout",
     "output_type": "stream",
     "text": [
      "Epoch:232/1000.. Train Loss: 0.025.. Val Loss: 0.072.. Test Loss: 0.047.. Time: 0.03m\n"
     ]
    },
    {
     "name": "stderr",
     "output_type": "stream",
     "text": [
      "100%|██████████| 107/107 [00:01<00:00, 70.28it/s]\n",
      "100%|██████████| 18/18 [00:00<00:00, 324.40it/s]\n",
      "100%|██████████| 53/53 [00:00<00:00, 328.29it/s]\n"
     ]
    },
    {
     "name": "stdout",
     "output_type": "stream",
     "text": [
      "Epoch:233/1000.. Train Loss: 0.025.. Val Loss: 0.074.. Test Loss: 0.048.. Time: 0.03m\n"
     ]
    },
    {
     "name": "stderr",
     "output_type": "stream",
     "text": [
      "100%|██████████| 107/107 [00:01<00:00, 70.45it/s]\n",
      "100%|██████████| 18/18 [00:00<00:00, 333.86it/s]\n",
      "100%|██████████| 53/53 [00:00<00:00, 334.02it/s]\n"
     ]
    },
    {
     "name": "stdout",
     "output_type": "stream",
     "text": [
      "Epoch:234/1000.. Train Loss: 0.027.. Val Loss: 0.077.. Test Loss: 0.047.. Time: 0.03m\n"
     ]
    },
    {
     "name": "stderr",
     "output_type": "stream",
     "text": [
      "100%|██████████| 107/107 [00:01<00:00, 69.43it/s]\n",
      "100%|██████████| 18/18 [00:00<00:00, 320.84it/s]\n",
      "100%|██████████| 53/53 [00:00<00:00, 334.02it/s]\n"
     ]
    },
    {
     "name": "stdout",
     "output_type": "stream",
     "text": [
      "Epoch:235/1000.. Train Loss: 0.026.. Val Loss: 0.080.. Test Loss: 0.047.. Time: 0.03m\n"
     ]
    },
    {
     "name": "stderr",
     "output_type": "stream",
     "text": [
      "100%|██████████| 107/107 [00:01<00:00, 71.84it/s]\n",
      "100%|██████████| 18/18 [00:00<00:00, 325.58it/s]\n",
      "100%|██████████| 53/53 [00:00<00:00, 334.43it/s]\n"
     ]
    },
    {
     "name": "stdout",
     "output_type": "stream",
     "text": [
      "Epoch:236/1000.. Train Loss: 0.027.. Val Loss: 0.074.. Test Loss: 0.045.. Time: 0.03m\n"
     ]
    },
    {
     "name": "stderr",
     "output_type": "stream",
     "text": [
      "100%|██████████| 107/107 [00:01<00:00, 70.76it/s]\n",
      "100%|██████████| 18/18 [00:00<00:00, 325.20it/s]\n",
      "100%|██████████| 53/53 [00:00<00:00, 334.69it/s]\n"
     ]
    },
    {
     "name": "stdout",
     "output_type": "stream",
     "text": [
      "Epoch:237/1000.. Train Loss: 0.025.. Val Loss: 0.083.. Test Loss: 0.051.. Time: 0.03m\n"
     ]
    },
    {
     "name": "stderr",
     "output_type": "stream",
     "text": [
      "100%|██████████| 107/107 [00:01<00:00, 70.16it/s]\n",
      "100%|██████████| 18/18 [00:00<00:00, 326.12it/s]\n",
      "100%|██████████| 53/53 [00:00<00:00, 310.57it/s]\n"
     ]
    },
    {
     "name": "stdout",
     "output_type": "stream",
     "text": [
      "Epoch:238/1000.. Train Loss: 0.026.. Val Loss: 0.080.. Test Loss: 0.048.. Time: 0.03m\n"
     ]
    },
    {
     "name": "stderr",
     "output_type": "stream",
     "text": [
      "100%|██████████| 107/107 [00:01<00:00, 69.16it/s]\n",
      "100%|██████████| 18/18 [00:00<00:00, 327.17it/s]\n",
      "100%|██████████| 53/53 [00:00<00:00, 322.04it/s]\n"
     ]
    },
    {
     "name": "stdout",
     "output_type": "stream",
     "text": [
      "Epoch:239/1000.. Train Loss: 0.027.. Val Loss: 0.089.. Test Loss: 0.044.. Time: 0.03m\n"
     ]
    },
    {
     "name": "stderr",
     "output_type": "stream",
     "text": [
      "100%|██████████| 107/107 [00:01<00:00, 71.55it/s]\n",
      "100%|██████████| 18/18 [00:00<00:00, 331.29it/s]\n",
      "100%|██████████| 53/53 [00:00<00:00, 333.57it/s]\n"
     ]
    },
    {
     "name": "stdout",
     "output_type": "stream",
     "text": [
      "Epoch:240/1000.. Train Loss: 0.026.. Val Loss: 0.076.. Test Loss: 0.045.. Time: 0.03m\n"
     ]
    },
    {
     "name": "stderr",
     "output_type": "stream",
     "text": [
      "100%|██████████| 107/107 [00:01<00:00, 71.97it/s]\n",
      "100%|██████████| 18/18 [00:00<00:00, 334.35it/s]\n",
      "100%|██████████| 53/53 [00:00<00:00, 336.01it/s]\n"
     ]
    },
    {
     "name": "stdout",
     "output_type": "stream",
     "text": [
      "Epoch:241/1000.. Train Loss: 0.026.. Val Loss: 0.074.. Test Loss: 0.048.. Time: 0.03m\n"
     ]
    },
    {
     "name": "stderr",
     "output_type": "stream",
     "text": [
      "100%|██████████| 107/107 [00:01<00:00, 70.89it/s]\n",
      "100%|██████████| 18/18 [00:00<00:00, 322.68it/s]\n",
      "100%|██████████| 53/53 [00:00<00:00, 325.21it/s]\n"
     ]
    },
    {
     "name": "stdout",
     "output_type": "stream",
     "text": [
      "Epoch:242/1000.. Train Loss: 0.025.. Val Loss: 0.075.. Test Loss: 0.047.. Time: 0.03m\n"
     ]
    },
    {
     "name": "stderr",
     "output_type": "stream",
     "text": [
      "100%|██████████| 107/107 [00:01<00:00, 70.29it/s]\n",
      "100%|██████████| 18/18 [00:00<00:00, 323.08it/s]\n",
      "100%|██████████| 53/53 [00:00<00:00, 326.95it/s]\n"
     ]
    },
    {
     "name": "stdout",
     "output_type": "stream",
     "text": [
      "Epoch:243/1000.. Train Loss: 0.026.. Val Loss: 0.071.. Test Loss: 0.046.. Time: 0.03m\n"
     ]
    },
    {
     "name": "stderr",
     "output_type": "stream",
     "text": [
      "100%|██████████| 107/107 [00:01<00:00, 70.03it/s]\n",
      "100%|██████████| 18/18 [00:00<00:00, 339.70it/s]\n",
      "100%|██████████| 53/53 [00:00<00:00, 334.28it/s]\n"
     ]
    },
    {
     "name": "stdout",
     "output_type": "stream",
     "text": [
      "Epoch:244/1000.. Train Loss: 0.027.. Val Loss: 0.073.. Test Loss: 0.047.. Time: 0.03m\n"
     ]
    },
    {
     "name": "stderr",
     "output_type": "stream",
     "text": [
      "100%|██████████| 107/107 [00:01<00:00, 70.09it/s]\n",
      "100%|██████████| 18/18 [00:00<00:00, 337.71it/s]\n",
      "100%|██████████| 53/53 [00:00<00:00, 334.61it/s]\n"
     ]
    },
    {
     "name": "stdout",
     "output_type": "stream",
     "text": [
      "Epoch:245/1000.. Train Loss: 0.028.. Val Loss: 0.072.. Test Loss: 0.048.. Time: 0.03m\n"
     ]
    },
    {
     "name": "stderr",
     "output_type": "stream",
     "text": [
      "100%|██████████| 107/107 [00:01<00:00, 71.86it/s]\n",
      "100%|██████████| 18/18 [00:00<00:00, 336.42it/s]\n",
      "100%|██████████| 53/53 [00:00<00:00, 329.93it/s]\n"
     ]
    },
    {
     "name": "stdout",
     "output_type": "stream",
     "text": [
      "Epoch:246/1000.. Train Loss: 0.026.. Val Loss: 0.074.. Test Loss: 0.049.. Time: 0.03m\n"
     ]
    },
    {
     "name": "stderr",
     "output_type": "stream",
     "text": [
      "100%|██████████| 107/107 [00:01<00:00, 69.02it/s]\n",
      "100%|██████████| 18/18 [00:00<00:00, 320.85it/s]\n",
      "100%|██████████| 53/53 [00:00<00:00, 328.95it/s]\n"
     ]
    },
    {
     "name": "stdout",
     "output_type": "stream",
     "text": [
      "Epoch:247/1000.. Train Loss: 0.027.. Val Loss: 0.072.. Test Loss: 0.049.. Time: 0.03m\n"
     ]
    },
    {
     "name": "stderr",
     "output_type": "stream",
     "text": [
      "100%|██████████| 107/107 [00:01<00:00, 69.16it/s]\n",
      "100%|██████████| 18/18 [00:00<00:00, 329.94it/s]\n",
      "100%|██████████| 53/53 [00:00<00:00, 326.50it/s]\n"
     ]
    },
    {
     "name": "stdout",
     "output_type": "stream",
     "text": [
      "Epoch:248/1000.. Train Loss: 0.027.. Val Loss: 0.071.. Test Loss: 0.046.. Time: 0.03m\n"
     ]
    },
    {
     "name": "stderr",
     "output_type": "stream",
     "text": [
      "100%|██████████| 107/107 [00:01<00:00, 68.99it/s]\n",
      "100%|██████████| 18/18 [00:00<00:00, 319.94it/s]\n",
      "100%|██████████| 53/53 [00:00<00:00, 332.83it/s]\n"
     ]
    },
    {
     "name": "stdout",
     "output_type": "stream",
     "text": [
      "Epoch:249/1000.. Train Loss: 0.028.. Val Loss: 0.073.. Test Loss: 0.046.. Time: 0.03m\n"
     ]
    },
    {
     "name": "stderr",
     "output_type": "stream",
     "text": [
      "100%|██████████| 107/107 [00:01<00:00, 70.77it/s]\n",
      "100%|██████████| 18/18 [00:00<00:00, 329.04it/s]\n",
      "100%|██████████| 53/53 [00:00<00:00, 330.25it/s]\n"
     ]
    },
    {
     "name": "stdout",
     "output_type": "stream",
     "text": [
      "Epoch:250/1000.. Train Loss: 0.026.. Val Loss: 0.075.. Test Loss: 0.049.. Time: 0.03m\n"
     ]
    },
    {
     "name": "stderr",
     "output_type": "stream",
     "text": [
      "100%|██████████| 107/107 [00:01<00:00, 71.07it/s]\n",
      "100%|██████████| 18/18 [00:00<00:00, 330.69it/s]\n",
      "100%|██████████| 53/53 [00:00<00:00, 333.72it/s]\n"
     ]
    },
    {
     "name": "stdout",
     "output_type": "stream",
     "text": [
      "Epoch:251/1000.. Train Loss: 0.027.. Val Loss: 0.070.. Test Loss: 0.047.. Time: 0.03m\n"
     ]
    },
    {
     "name": "stderr",
     "output_type": "stream",
     "text": [
      "100%|██████████| 107/107 [00:01<00:00, 70.44it/s]\n",
      "100%|██████████| 18/18 [00:00<00:00, 329.66it/s]\n",
      "100%|██████████| 53/53 [00:00<00:00, 365.00it/s]\n"
     ]
    },
    {
     "name": "stdout",
     "output_type": "stream",
     "text": [
      "Epoch:252/1000.. Train Loss: 0.025.. Val Loss: 0.074.. Test Loss: 0.051.. Time: 0.03m\n"
     ]
    },
    {
     "name": "stderr",
     "output_type": "stream",
     "text": [
      "100%|██████████| 107/107 [00:01<00:00, 70.67it/s]\n",
      "100%|██████████| 18/18 [00:00<00:00, 330.90it/s]\n",
      "100%|██████████| 53/53 [00:00<00:00, 324.95it/s]\n"
     ]
    },
    {
     "name": "stdout",
     "output_type": "stream",
     "text": [
      "Epoch:253/1000.. Train Loss: 0.025.. Val Loss: 0.076.. Test Loss: 0.054.. Time: 0.03m\n"
     ]
    },
    {
     "name": "stderr",
     "output_type": "stream",
     "text": [
      "100%|██████████| 107/107 [00:01<00:00, 70.38it/s]\n",
      "100%|██████████| 18/18 [00:00<00:00, 329.26it/s]\n",
      "100%|██████████| 53/53 [00:00<00:00, 328.59it/s]\n"
     ]
    },
    {
     "name": "stdout",
     "output_type": "stream",
     "text": [
      "Epoch:254/1000.. Train Loss: 0.025.. Val Loss: 0.076.. Test Loss: 0.052.. Time: 0.03m\n"
     ]
    },
    {
     "name": "stderr",
     "output_type": "stream",
     "text": [
      "100%|██████████| 107/107 [00:01<00:00, 70.33it/s]\n",
      "100%|██████████| 18/18 [00:00<00:00, 321.58it/s]\n",
      "100%|██████████| 53/53 [00:00<00:00, 328.77it/s]\n"
     ]
    },
    {
     "name": "stdout",
     "output_type": "stream",
     "text": [
      "Epoch:255/1000.. Train Loss: 0.025.. Val Loss: 0.074.. Test Loss: 0.051.. Time: 0.03m\n"
     ]
    },
    {
     "name": "stderr",
     "output_type": "stream",
     "text": [
      "100%|██████████| 107/107 [00:01<00:00, 69.94it/s]\n",
      "100%|██████████| 18/18 [00:00<00:00, 326.34it/s]\n",
      "100%|██████████| 53/53 [00:00<00:00, 325.33it/s]\n"
     ]
    },
    {
     "name": "stdout",
     "output_type": "stream",
     "text": [
      "Epoch:256/1000.. Train Loss: 0.026.. Val Loss: 0.075.. Test Loss: 0.047.. Time: 0.03m\n"
     ]
    },
    {
     "name": "stderr",
     "output_type": "stream",
     "text": [
      "100%|██████████| 107/107 [00:01<00:00, 70.17it/s]\n",
      "100%|██████████| 18/18 [00:00<00:00, 332.53it/s]\n",
      "100%|██████████| 53/53 [00:00<00:00, 333.12it/s]\n"
     ]
    },
    {
     "name": "stdout",
     "output_type": "stream",
     "text": [
      "Epoch:257/1000.. Train Loss: 0.028.. Val Loss: 0.075.. Test Loss: 0.045.. Time: 0.03m\n"
     ]
    },
    {
     "name": "stderr",
     "output_type": "stream",
     "text": [
      "100%|██████████| 107/107 [00:01<00:00, 70.54it/s]\n",
      "100%|██████████| 18/18 [00:00<00:00, 337.34it/s]\n",
      "100%|██████████| 53/53 [00:00<00:00, 325.60it/s]\n"
     ]
    },
    {
     "name": "stdout",
     "output_type": "stream",
     "text": [
      "Epoch:258/1000.. Train Loss: 0.026.. Val Loss: 0.074.. Test Loss: 0.046.. Time: 0.03m\n"
     ]
    },
    {
     "name": "stderr",
     "output_type": "stream",
     "text": [
      "100%|██████████| 107/107 [00:01<00:00, 71.09it/s]\n",
      "100%|██████████| 18/18 [00:00<00:00, 330.32it/s]\n",
      "100%|██████████| 53/53 [00:00<00:00, 330.50it/s]\n"
     ]
    },
    {
     "name": "stdout",
     "output_type": "stream",
     "text": [
      "Epoch:259/1000.. Train Loss: 0.025.. Val Loss: 0.075.. Test Loss: 0.047.. Time: 0.03m\n"
     ]
    },
    {
     "name": "stderr",
     "output_type": "stream",
     "text": [
      "100%|██████████| 107/107 [00:01<00:00, 71.41it/s]\n",
      "100%|██████████| 18/18 [00:00<00:00, 319.16it/s]\n",
      "100%|██████████| 53/53 [00:00<00:00, 326.01it/s]\n"
     ]
    },
    {
     "name": "stdout",
     "output_type": "stream",
     "text": [
      "Epoch:260/1000.. Train Loss: 0.027.. Val Loss: 0.075.. Test Loss: 0.049.. Time: 0.03m\n"
     ]
    },
    {
     "name": "stderr",
     "output_type": "stream",
     "text": [
      "100%|██████████| 107/107 [00:01<00:00, 70.47it/s]\n",
      "100%|██████████| 18/18 [00:00<00:00, 322.37it/s]\n",
      "100%|██████████| 53/53 [00:00<00:00, 324.48it/s]\n"
     ]
    },
    {
     "name": "stdout",
     "output_type": "stream",
     "text": [
      "Epoch:261/1000.. Train Loss: 0.023.. Val Loss: 0.080.. Test Loss: 0.052.. Time: 0.03m\n"
     ]
    },
    {
     "name": "stderr",
     "output_type": "stream",
     "text": [
      "100%|██████████| 107/107 [00:01<00:00, 70.36it/s]\n",
      "100%|██████████| 18/18 [00:00<00:00, 329.11it/s]\n",
      "100%|██████████| 53/53 [00:00<00:00, 327.23it/s]\n"
     ]
    },
    {
     "name": "stdout",
     "output_type": "stream",
     "text": [
      "Epoch:262/1000.. Train Loss: 0.031.. Val Loss: 0.077.. Test Loss: 0.050.. Time: 0.03m\n"
     ]
    },
    {
     "name": "stderr",
     "output_type": "stream",
     "text": [
      "100%|██████████| 107/107 [00:01<00:00, 65.29it/s]\n",
      "100%|██████████| 18/18 [00:00<00:00, 252.03it/s]\n",
      "100%|██████████| 53/53 [00:00<00:00, 311.19it/s]\n"
     ]
    },
    {
     "name": "stdout",
     "output_type": "stream",
     "text": [
      "Epoch:263/1000.. Train Loss: 0.026.. Val Loss: 0.074.. Test Loss: 0.052.. Time: 0.03m\n"
     ]
    },
    {
     "name": "stderr",
     "output_type": "stream",
     "text": [
      "100%|██████████| 107/107 [00:01<00:00, 69.82it/s]\n",
      "100%|██████████| 18/18 [00:00<00:00, 311.70it/s]\n",
      "100%|██████████| 53/53 [00:00<00:00, 335.48it/s]\n"
     ]
    },
    {
     "name": "stdout",
     "output_type": "stream",
     "text": [
      "Epoch:264/1000.. Train Loss: 0.026.. Val Loss: 0.073.. Test Loss: 0.052.. Time: 0.03m\n"
     ]
    },
    {
     "name": "stderr",
     "output_type": "stream",
     "text": [
      "100%|██████████| 107/107 [00:01<00:00, 71.84it/s]\n",
      "100%|██████████| 18/18 [00:00<00:00, 330.07it/s]\n",
      "100%|██████████| 53/53 [00:00<00:00, 334.17it/s]\n"
     ]
    },
    {
     "name": "stdout",
     "output_type": "stream",
     "text": [
      "Epoch:265/1000.. Train Loss: 0.028.. Val Loss: 0.076.. Test Loss: 0.052.. Time: 0.03m\n"
     ]
    },
    {
     "name": "stderr",
     "output_type": "stream",
     "text": [
      "100%|██████████| 107/107 [00:01<00:00, 71.81it/s]\n",
      "100%|██████████| 18/18 [00:00<00:00, 324.63it/s]\n",
      "100%|██████████| 53/53 [00:00<00:00, 324.39it/s]\n"
     ]
    },
    {
     "name": "stdout",
     "output_type": "stream",
     "text": [
      "Epoch:266/1000.. Train Loss: 0.024.. Val Loss: 0.074.. Test Loss: 0.052.. Time: 0.03m\n"
     ]
    },
    {
     "name": "stderr",
     "output_type": "stream",
     "text": [
      "100%|██████████| 107/107 [00:01<00:00, 69.99it/s]\n",
      "100%|██████████| 18/18 [00:00<00:00, 329.51it/s]\n",
      "100%|██████████| 53/53 [00:00<00:00, 325.55it/s]\n"
     ]
    },
    {
     "name": "stdout",
     "output_type": "stream",
     "text": [
      "Epoch:267/1000.. Train Loss: 0.024.. Val Loss: 0.089.. Test Loss: 0.053.. Time: 0.03m\n"
     ]
    },
    {
     "name": "stderr",
     "output_type": "stream",
     "text": [
      "100%|██████████| 107/107 [00:01<00:00, 69.57it/s]\n",
      "100%|██████████| 18/18 [00:00<00:00, 310.57it/s]\n",
      "100%|██████████| 53/53 [00:00<00:00, 330.37it/s]\n"
     ]
    },
    {
     "name": "stdout",
     "output_type": "stream",
     "text": [
      "Epoch:268/1000.. Train Loss: 0.025.. Val Loss: 0.087.. Test Loss: 0.051.. Time: 0.03m\n"
     ]
    },
    {
     "name": "stderr",
     "output_type": "stream",
     "text": [
      "100%|██████████| 107/107 [00:01<00:00, 69.65it/s]\n",
      "100%|██████████| 18/18 [00:00<00:00, 327.92it/s]\n",
      "100%|██████████| 53/53 [00:00<00:00, 323.38it/s]\n"
     ]
    },
    {
     "name": "stdout",
     "output_type": "stream",
     "text": [
      "Epoch:269/1000.. Train Loss: 0.026.. Val Loss: 0.077.. Test Loss: 0.051.. Time: 0.03m\n"
     ]
    },
    {
     "name": "stderr",
     "output_type": "stream",
     "text": [
      "100%|██████████| 107/107 [00:01<00:00, 69.87it/s]\n",
      "100%|██████████| 18/18 [00:00<00:00, 329.32it/s]\n",
      "100%|██████████| 53/53 [00:00<00:00, 328.90it/s]\n"
     ]
    },
    {
     "name": "stdout",
     "output_type": "stream",
     "text": [
      "Epoch:270/1000.. Train Loss: 0.025.. Val Loss: 0.082.. Test Loss: 0.050.. Time: 0.03m\n"
     ]
    },
    {
     "name": "stderr",
     "output_type": "stream",
     "text": [
      "100%|██████████| 107/107 [00:01<00:00, 71.27it/s]\n",
      "100%|██████████| 18/18 [00:00<00:00, 329.78it/s]\n",
      "100%|██████████| 53/53 [00:00<00:00, 328.63it/s]\n"
     ]
    },
    {
     "name": "stdout",
     "output_type": "stream",
     "text": [
      "Epoch:271/1000.. Train Loss: 0.024.. Val Loss: 0.078.. Test Loss: 0.050.. Time: 0.03m\n"
     ]
    },
    {
     "name": "stderr",
     "output_type": "stream",
     "text": [
      "100%|██████████| 107/107 [00:01<00:00, 70.68it/s]\n",
      "100%|██████████| 18/18 [00:00<00:00, 321.55it/s]\n",
      "100%|██████████| 53/53 [00:00<00:00, 331.50it/s]\n"
     ]
    },
    {
     "name": "stdout",
     "output_type": "stream",
     "text": [
      "Epoch:272/1000.. Train Loss: 0.026.. Val Loss: 0.090.. Test Loss: 0.049.. Time: 0.03m\n"
     ]
    },
    {
     "name": "stderr",
     "output_type": "stream",
     "text": [
      "100%|██████████| 107/107 [00:01<00:00, 70.09it/s]\n",
      "100%|██████████| 18/18 [00:00<00:00, 323.48it/s]\n",
      "100%|██████████| 53/53 [00:00<00:00, 321.56it/s]\n"
     ]
    },
    {
     "name": "stdout",
     "output_type": "stream",
     "text": [
      "Epoch:273/1000.. Train Loss: 0.024.. Val Loss: 0.075.. Test Loss: 0.049.. Time: 0.03m\n"
     ]
    },
    {
     "name": "stderr",
     "output_type": "stream",
     "text": [
      "100%|██████████| 107/107 [00:01<00:00, 67.24it/s]\n",
      "100%|██████████| 18/18 [00:00<00:00, 319.10it/s]\n",
      "100%|██████████| 53/53 [00:00<00:00, 326.20it/s]\n"
     ]
    },
    {
     "name": "stdout",
     "output_type": "stream",
     "text": [
      "Epoch:274/1000.. Train Loss: 0.025.. Val Loss: 0.074.. Test Loss: 0.051.. Time: 0.03m\n"
     ]
    },
    {
     "name": "stderr",
     "output_type": "stream",
     "text": [
      "100%|██████████| 107/107 [00:01<00:00, 69.88it/s]\n",
      "100%|██████████| 18/18 [00:00<00:00, 299.74it/s]\n",
      "100%|██████████| 53/53 [00:00<00:00, 316.62it/s]\n"
     ]
    },
    {
     "name": "stdout",
     "output_type": "stream",
     "text": [
      "Epoch:275/1000.. Train Loss: 0.029.. Val Loss: 0.074.. Test Loss: 0.049.. Time: 0.03m\n"
     ]
    },
    {
     "name": "stderr",
     "output_type": "stream",
     "text": [
      "100%|██████████| 107/107 [00:01<00:00, 67.73it/s]\n",
      "100%|██████████| 18/18 [00:00<00:00, 331.02it/s]\n",
      "100%|██████████| 53/53 [00:00<00:00, 331.70it/s]\n"
     ]
    },
    {
     "name": "stdout",
     "output_type": "stream",
     "text": [
      "Epoch:276/1000.. Train Loss: 0.027.. Val Loss: 0.078.. Test Loss: 0.051.. Time: 0.03m\n"
     ]
    },
    {
     "name": "stderr",
     "output_type": "stream",
     "text": [
      "100%|██████████| 107/107 [00:01<00:00, 67.85it/s]\n",
      "100%|██████████| 18/18 [00:00<00:00, 338.52it/s]\n",
      "100%|██████████| 53/53 [00:00<00:00, 327.88it/s]\n"
     ]
    },
    {
     "name": "stdout",
     "output_type": "stream",
     "text": [
      "Epoch:277/1000.. Train Loss: 0.026.. Val Loss: 0.076.. Test Loss: 0.049.. Time: 0.03m\n"
     ]
    },
    {
     "name": "stderr",
     "output_type": "stream",
     "text": [
      "100%|██████████| 107/107 [00:01<00:00, 70.60it/s]\n",
      "100%|██████████| 18/18 [00:00<00:00, 322.12it/s]\n",
      "100%|██████████| 53/53 [00:00<00:00, 323.47it/s]\n"
     ]
    },
    {
     "name": "stdout",
     "output_type": "stream",
     "text": [
      "Epoch:278/1000.. Train Loss: 0.025.. Val Loss: 0.074.. Test Loss: 0.050.. Time: 0.03m\n"
     ]
    },
    {
     "name": "stderr",
     "output_type": "stream",
     "text": [
      "100%|██████████| 107/107 [00:01<00:00, 69.04it/s]\n",
      "100%|██████████| 18/18 [00:00<00:00, 330.87it/s]\n",
      "100%|██████████| 53/53 [00:00<00:00, 325.26it/s]\n"
     ]
    },
    {
     "name": "stdout",
     "output_type": "stream",
     "text": [
      "Epoch:279/1000.. Train Loss: 0.025.. Val Loss: 0.075.. Test Loss: 0.050.. Time: 0.03m\n"
     ]
    },
    {
     "name": "stderr",
     "output_type": "stream",
     "text": [
      "100%|██████████| 107/107 [00:01<00:00, 68.53it/s]\n",
      "100%|██████████| 18/18 [00:00<00:00, 320.85it/s]\n",
      "100%|██████████| 53/53 [00:00<00:00, 327.79it/s]\n"
     ]
    },
    {
     "name": "stdout",
     "output_type": "stream",
     "text": [
      "Epoch:280/1000.. Train Loss: 0.026.. Val Loss: 0.076.. Test Loss: 0.049.. Time: 0.03m\n"
     ]
    },
    {
     "name": "stderr",
     "output_type": "stream",
     "text": [
      "100%|██████████| 107/107 [00:01<00:00, 69.79it/s]\n",
      "100%|██████████| 18/18 [00:00<00:00, 306.49it/s]\n",
      "100%|██████████| 53/53 [00:00<00:00, 324.32it/s]\n"
     ]
    },
    {
     "name": "stdout",
     "output_type": "stream",
     "text": [
      "Epoch:281/1000.. Train Loss: 0.026.. Val Loss: 0.078.. Test Loss: 0.048.. Time: 0.03m\n"
     ]
    },
    {
     "name": "stderr",
     "output_type": "stream",
     "text": [
      "100%|██████████| 107/107 [00:01<00:00, 69.39it/s]\n",
      "100%|██████████| 18/18 [00:00<00:00, 331.18it/s]\n",
      "100%|██████████| 53/53 [00:00<00:00, 328.24it/s]\n"
     ]
    },
    {
     "name": "stdout",
     "output_type": "stream",
     "text": [
      "Epoch:282/1000.. Train Loss: 0.024.. Val Loss: 0.078.. Test Loss: 0.054.. Time: 0.03m\n"
     ]
    },
    {
     "name": "stderr",
     "output_type": "stream",
     "text": [
      "100%|██████████| 107/107 [00:01<00:00, 68.33it/s]\n",
      "100%|██████████| 18/18 [00:00<00:00, 329.35it/s]\n",
      "100%|██████████| 53/53 [00:00<00:00, 328.60it/s]\n"
     ]
    },
    {
     "name": "stdout",
     "output_type": "stream",
     "text": [
      "Epoch:283/1000.. Train Loss: 0.024.. Val Loss: 0.077.. Test Loss: 0.050.. Time: 0.03m\n"
     ]
    },
    {
     "name": "stderr",
     "output_type": "stream",
     "text": [
      "100%|██████████| 107/107 [00:01<00:00, 70.38it/s]\n",
      "100%|██████████| 18/18 [00:00<00:00, 330.45it/s]\n",
      "100%|██████████| 53/53 [00:00<00:00, 326.33it/s]\n"
     ]
    },
    {
     "name": "stdout",
     "output_type": "stream",
     "text": [
      "Epoch:284/1000.. Train Loss: 0.024.. Val Loss: 0.080.. Test Loss: 0.049.. Time: 0.03m\n"
     ]
    },
    {
     "name": "stderr",
     "output_type": "stream",
     "text": [
      "100%|██████████| 107/107 [00:01<00:00, 70.51it/s]\n",
      "100%|██████████| 18/18 [00:00<00:00, 325.20it/s]\n",
      "100%|██████████| 53/53 [00:00<00:00, 332.92it/s]\n"
     ]
    },
    {
     "name": "stdout",
     "output_type": "stream",
     "text": [
      "Epoch:285/1000.. Train Loss: 0.025.. Val Loss: 0.091.. Test Loss: 0.052.. Time: 0.03m\n"
     ]
    },
    {
     "name": "stderr",
     "output_type": "stream",
     "text": [
      "100%|██████████| 107/107 [00:01<00:00, 69.10it/s]\n",
      "100%|██████████| 18/18 [00:00<00:00, 321.66it/s]\n",
      "100%|██████████| 53/53 [00:00<00:00, 332.20it/s]\n"
     ]
    },
    {
     "name": "stdout",
     "output_type": "stream",
     "text": [
      "Epoch:286/1000.. Train Loss: 0.026.. Val Loss: 0.078.. Test Loss: 0.049.. Time: 0.03m\n"
     ]
    },
    {
     "name": "stderr",
     "output_type": "stream",
     "text": [
      "100%|██████████| 107/107 [00:01<00:00, 70.41it/s]\n",
      "100%|██████████| 18/18 [00:00<00:00, 328.47it/s]\n",
      "100%|██████████| 53/53 [00:00<00:00, 327.59it/s]\n"
     ]
    },
    {
     "name": "stdout",
     "output_type": "stream",
     "text": [
      "Epoch:287/1000.. Train Loss: 0.026.. Val Loss: 0.081.. Test Loss: 0.050.. Time: 0.03m\n"
     ]
    },
    {
     "name": "stderr",
     "output_type": "stream",
     "text": [
      "100%|██████████| 107/107 [00:01<00:00, 69.39it/s]\n",
      "100%|██████████| 18/18 [00:00<00:00, 330.15it/s]\n",
      "100%|██████████| 53/53 [00:00<00:00, 331.05it/s]\n"
     ]
    },
    {
     "name": "stdout",
     "output_type": "stream",
     "text": [
      "Epoch:288/1000.. Train Loss: 0.024.. Val Loss: 0.076.. Test Loss: 0.050.. Time: 0.03m\n"
     ]
    },
    {
     "name": "stderr",
     "output_type": "stream",
     "text": [
      "100%|██████████| 107/107 [00:01<00:00, 70.12it/s]\n",
      "100%|██████████| 18/18 [00:00<00:00, 330.09it/s]\n",
      "100%|██████████| 53/53 [00:00<00:00, 331.33it/s]\n"
     ]
    },
    {
     "name": "stdout",
     "output_type": "stream",
     "text": [
      "Epoch:289/1000.. Train Loss: 0.026.. Val Loss: 0.076.. Test Loss: 0.051.. Time: 0.03m\n"
     ]
    },
    {
     "name": "stderr",
     "output_type": "stream",
     "text": [
      "100%|██████████| 107/107 [00:01<00:00, 67.75it/s]\n",
      "100%|██████████| 18/18 [00:00<00:00, 324.90it/s]\n",
      "100%|██████████| 53/53 [00:00<00:00, 298.32it/s]\n"
     ]
    },
    {
     "name": "stdout",
     "output_type": "stream",
     "text": [
      "Epoch:290/1000.. Train Loss: 0.025.. Val Loss: 0.080.. Test Loss: 0.048.. Time: 0.03m\n"
     ]
    },
    {
     "name": "stderr",
     "output_type": "stream",
     "text": [
      "100%|██████████| 107/107 [00:01<00:00, 67.99it/s]\n",
      "100%|██████████| 18/18 [00:00<00:00, 320.72it/s]\n",
      "100%|██████████| 53/53 [00:00<00:00, 328.64it/s]\n"
     ]
    },
    {
     "name": "stdout",
     "output_type": "stream",
     "text": [
      "Epoch:291/1000.. Train Loss: 0.023.. Val Loss: 0.080.. Test Loss: 0.049.. Time: 0.03m\n"
     ]
    },
    {
     "name": "stderr",
     "output_type": "stream",
     "text": [
      "100%|██████████| 107/107 [00:01<00:00, 69.56it/s]\n",
      "100%|██████████| 18/18 [00:00<00:00, 327.07it/s]\n",
      "100%|██████████| 53/53 [00:00<00:00, 326.77it/s]\n"
     ]
    },
    {
     "name": "stdout",
     "output_type": "stream",
     "text": [
      "Epoch:292/1000.. Train Loss: 0.023.. Val Loss: 0.076.. Test Loss: 0.052.. Time: 0.03m\n"
     ]
    },
    {
     "name": "stderr",
     "output_type": "stream",
     "text": [
      "100%|██████████| 107/107 [00:01<00:00, 67.79it/s]\n",
      "100%|██████████| 18/18 [00:00<00:00, 330.52it/s]\n",
      "100%|██████████| 53/53 [00:00<00:00, 330.72it/s]\n"
     ]
    },
    {
     "name": "stdout",
     "output_type": "stream",
     "text": [
      "Epoch:293/1000.. Train Loss: 0.023.. Val Loss: 0.075.. Test Loss: 0.050.. Time: 0.03m\n"
     ]
    },
    {
     "name": "stderr",
     "output_type": "stream",
     "text": [
      "100%|██████████| 107/107 [00:01<00:00, 68.25it/s]\n",
      "100%|██████████| 18/18 [00:00<00:00, 325.48it/s]\n",
      "100%|██████████| 53/53 [00:00<00:00, 328.47it/s]\n"
     ]
    },
    {
     "name": "stdout",
     "output_type": "stream",
     "text": [
      "Epoch:294/1000.. Train Loss: 0.024.. Val Loss: 0.073.. Test Loss: 0.049.. Time: 0.03m\n"
     ]
    },
    {
     "name": "stderr",
     "output_type": "stream",
     "text": [
      "100%|██████████| 107/107 [00:01<00:00, 70.89it/s]\n",
      "100%|██████████| 18/18 [00:00<00:00, 322.89it/s]\n",
      "100%|██████████| 53/53 [00:00<00:00, 324.17it/s]\n"
     ]
    },
    {
     "name": "stdout",
     "output_type": "stream",
     "text": [
      "Epoch:295/1000.. Train Loss: 0.025.. Val Loss: 0.093.. Test Loss: 0.049.. Time: 0.03m\n"
     ]
    },
    {
     "name": "stderr",
     "output_type": "stream",
     "text": [
      "100%|██████████| 107/107 [00:01<00:00, 69.37it/s]\n",
      "100%|██████████| 18/18 [00:00<00:00, 322.72it/s]\n",
      "100%|██████████| 53/53 [00:00<00:00, 330.72it/s]\n"
     ]
    },
    {
     "name": "stdout",
     "output_type": "stream",
     "text": [
      "Epoch:296/1000.. Train Loss: 0.024.. Val Loss: 0.076.. Test Loss: 0.048.. Time: 0.03m\n"
     ]
    },
    {
     "name": "stderr",
     "output_type": "stream",
     "text": [
      "100%|██████████| 107/107 [00:01<00:00, 69.96it/s]\n",
      "100%|██████████| 18/18 [00:00<00:00, 325.78it/s]\n",
      "100%|██████████| 53/53 [00:00<00:00, 325.76it/s]\n"
     ]
    },
    {
     "name": "stdout",
     "output_type": "stream",
     "text": [
      "Epoch:297/1000.. Train Loss: 0.025.. Val Loss: 0.074.. Test Loss: 0.048.. Time: 0.03m\n"
     ]
    },
    {
     "name": "stderr",
     "output_type": "stream",
     "text": [
      "100%|██████████| 107/107 [00:01<00:00, 69.72it/s]\n",
      "100%|██████████| 18/18 [00:00<00:00, 330.93it/s]\n",
      "100%|██████████| 53/53 [00:00<00:00, 328.68it/s]\n"
     ]
    },
    {
     "name": "stdout",
     "output_type": "stream",
     "text": [
      "Epoch:298/1000.. Train Loss: 0.025.. Val Loss: 0.084.. Test Loss: 0.054.. Time: 0.03m\n"
     ]
    },
    {
     "name": "stderr",
     "output_type": "stream",
     "text": [
      "100%|██████████| 107/107 [00:01<00:00, 66.28it/s]\n",
      "100%|██████████| 18/18 [00:00<00:00, 329.85it/s]\n",
      "100%|██████████| 53/53 [00:00<00:00, 342.10it/s]\n"
     ]
    },
    {
     "name": "stdout",
     "output_type": "stream",
     "text": [
      "Epoch:299/1000.. Train Loss: 0.027.. Val Loss: 0.077.. Test Loss: 0.051.. Time: 0.03m\n"
     ]
    },
    {
     "name": "stderr",
     "output_type": "stream",
     "text": [
      "100%|██████████| 107/107 [00:01<00:00, 70.81it/s]\n",
      "100%|██████████| 18/18 [00:00<00:00, 320.94it/s]\n",
      "100%|██████████| 53/53 [00:00<00:00, 331.14it/s]\n"
     ]
    },
    {
     "name": "stdout",
     "output_type": "stream",
     "text": [
      "Epoch:300/1000.. Train Loss: 0.025.. Val Loss: 0.076.. Test Loss: 0.052.. Time: 0.03m\n"
     ]
    },
    {
     "name": "stderr",
     "output_type": "stream",
     "text": [
      "100%|██████████| 107/107 [00:01<00:00, 71.58it/s]\n",
      "100%|██████████| 18/18 [00:00<00:00, 328.28it/s]\n",
      "100%|██████████| 53/53 [00:00<00:00, 331.73it/s]\n"
     ]
    },
    {
     "name": "stdout",
     "output_type": "stream",
     "text": [
      "Epoch:301/1000.. Train Loss: 0.024.. Val Loss: 0.085.. Test Loss: 0.053.. Time: 0.03m\n"
     ]
    },
    {
     "name": "stderr",
     "output_type": "stream",
     "text": [
      "100%|██████████| 107/107 [00:01<00:00, 69.66it/s]\n",
      "100%|██████████| 18/18 [00:00<00:00, 330.80it/s]\n",
      "100%|██████████| 53/53 [00:00<00:00, 299.14it/s]\n"
     ]
    },
    {
     "name": "stdout",
     "output_type": "stream",
     "text": [
      "Epoch:302/1000.. Train Loss: 0.024.. Val Loss: 0.078.. Test Loss: 0.052.. Time: 0.03m\n"
     ]
    },
    {
     "name": "stderr",
     "output_type": "stream",
     "text": [
      "100%|██████████| 107/107 [00:01<00:00, 67.75it/s]\n",
      "100%|██████████| 18/18 [00:00<00:00, 319.93it/s]\n",
      "100%|██████████| 53/53 [00:00<00:00, 324.90it/s]\n"
     ]
    },
    {
     "name": "stdout",
     "output_type": "stream",
     "text": [
      "Epoch:303/1000.. Train Loss: 0.024.. Val Loss: 0.076.. Test Loss: 0.049.. Time: 0.03m\n"
     ]
    },
    {
     "name": "stderr",
     "output_type": "stream",
     "text": [
      "100%|██████████| 107/107 [00:01<00:00, 70.59it/s]\n",
      "100%|██████████| 18/18 [00:00<00:00, 302.03it/s]\n",
      "100%|██████████| 53/53 [00:00<00:00, 328.85it/s]\n"
     ]
    },
    {
     "name": "stdout",
     "output_type": "stream",
     "text": [
      "Epoch:304/1000.. Train Loss: 0.023.. Val Loss: 0.077.. Test Loss: 0.054.. Time: 0.03m\n"
     ]
    },
    {
     "name": "stderr",
     "output_type": "stream",
     "text": [
      "100%|██████████| 107/107 [00:01<00:00, 68.85it/s]\n",
      "100%|██████████| 18/18 [00:00<00:00, 322.77it/s]\n",
      "100%|██████████| 53/53 [00:00<00:00, 331.84it/s]\n"
     ]
    },
    {
     "name": "stdout",
     "output_type": "stream",
     "text": [
      "Epoch:305/1000.. Train Loss: 0.030.. Val Loss: 0.077.. Test Loss: 0.047.. Time: 0.03m\n"
     ]
    },
    {
     "name": "stderr",
     "output_type": "stream",
     "text": [
      "100%|██████████| 107/107 [00:01<00:00, 68.64it/s]\n",
      "100%|██████████| 18/18 [00:00<00:00, 325.14it/s]\n",
      "100%|██████████| 53/53 [00:00<00:00, 328.65it/s]\n"
     ]
    },
    {
     "name": "stdout",
     "output_type": "stream",
     "text": [
      "Epoch:306/1000.. Train Loss: 0.023.. Val Loss: 0.081.. Test Loss: 0.047.. Time: 0.03m\n"
     ]
    },
    {
     "name": "stderr",
     "output_type": "stream",
     "text": [
      "100%|██████████| 107/107 [00:01<00:00, 69.98it/s]\n",
      "100%|██████████| 18/18 [00:00<00:00, 328.62it/s]\n",
      "100%|██████████| 53/53 [00:00<00:00, 330.91it/s]\n"
     ]
    },
    {
     "name": "stdout",
     "output_type": "stream",
     "text": [
      "Epoch:307/1000.. Train Loss: 0.024.. Val Loss: 0.086.. Test Loss: 0.047.. Time: 0.03m\n"
     ]
    },
    {
     "name": "stderr",
     "output_type": "stream",
     "text": [
      "100%|██████████| 107/107 [00:01<00:00, 69.47it/s]\n",
      "100%|██████████| 18/18 [00:00<00:00, 333.11it/s]\n",
      "100%|██████████| 53/53 [00:00<00:00, 311.81it/s]\n"
     ]
    },
    {
     "name": "stdout",
     "output_type": "stream",
     "text": [
      "Epoch:308/1000.. Train Loss: 0.025.. Val Loss: 0.082.. Test Loss: 0.049.. Time: 0.03m\n"
     ]
    },
    {
     "name": "stderr",
     "output_type": "stream",
     "text": [
      "100%|██████████| 107/107 [00:01<00:00, 69.75it/s]\n",
      "100%|██████████| 18/18 [00:00<00:00, 317.33it/s]\n",
      "100%|██████████| 53/53 [00:00<00:00, 328.34it/s]\n"
     ]
    },
    {
     "name": "stdout",
     "output_type": "stream",
     "text": [
      "Epoch:309/1000.. Train Loss: 0.022.. Val Loss: 0.084.. Test Loss: 0.051.. Time: 0.03m\n"
     ]
    },
    {
     "name": "stderr",
     "output_type": "stream",
     "text": [
      "100%|██████████| 107/107 [00:01<00:00, 69.90it/s]\n",
      "100%|██████████| 18/18 [00:00<00:00, 315.17it/s]\n",
      "100%|██████████| 53/53 [00:00<00:00, 320.94it/s]\n"
     ]
    },
    {
     "name": "stdout",
     "output_type": "stream",
     "text": [
      "Epoch:310/1000.. Train Loss: 0.024.. Val Loss: 0.079.. Test Loss: 0.048.. Time: 0.03m\n"
     ]
    },
    {
     "name": "stderr",
     "output_type": "stream",
     "text": [
      "100%|██████████| 107/107 [00:01<00:00, 70.17it/s]\n",
      "100%|██████████| 18/18 [00:00<00:00, 331.33it/s]\n",
      "100%|██████████| 53/53 [00:00<00:00, 326.10it/s]\n"
     ]
    },
    {
     "name": "stdout",
     "output_type": "stream",
     "text": [
      "Epoch:311/1000.. Train Loss: 0.023.. Val Loss: 0.082.. Test Loss: 0.049.. Time: 0.03m\n"
     ]
    },
    {
     "name": "stderr",
     "output_type": "stream",
     "text": [
      "100%|██████████| 107/107 [00:01<00:00, 69.26it/s]\n",
      "100%|██████████| 18/18 [00:00<00:00, 312.89it/s]\n",
      "100%|██████████| 53/53 [00:00<00:00, 328.15it/s]\n"
     ]
    },
    {
     "name": "stdout",
     "output_type": "stream",
     "text": [
      "Epoch:312/1000.. Train Loss: 0.024.. Val Loss: 0.080.. Test Loss: 0.055.. Time: 0.03m\n"
     ]
    },
    {
     "name": "stderr",
     "output_type": "stream",
     "text": [
      "100%|██████████| 107/107 [00:01<00:00, 71.61it/s]\n",
      "100%|██████████| 18/18 [00:00<00:00, 335.74it/s]\n",
      "100%|██████████| 53/53 [00:00<00:00, 334.04it/s]\n"
     ]
    },
    {
     "name": "stdout",
     "output_type": "stream",
     "text": [
      "Epoch:313/1000.. Train Loss: 0.024.. Val Loss: 0.082.. Test Loss: 0.051.. Time: 0.03m\n"
     ]
    },
    {
     "name": "stderr",
     "output_type": "stream",
     "text": [
      "100%|██████████| 107/107 [00:01<00:00, 71.66it/s]\n",
      "100%|██████████| 18/18 [00:00<00:00, 329.31it/s]\n",
      "100%|██████████| 53/53 [00:00<00:00, 327.27it/s]\n"
     ]
    },
    {
     "name": "stdout",
     "output_type": "stream",
     "text": [
      "Epoch:314/1000.. Train Loss: 0.023.. Val Loss: 0.097.. Test Loss: 0.049.. Time: 0.03m\n"
     ]
    },
    {
     "name": "stderr",
     "output_type": "stream",
     "text": [
      "100%|██████████| 107/107 [00:01<00:00, 71.01it/s]\n",
      "100%|██████████| 18/18 [00:00<00:00, 336.91it/s]\n",
      "100%|██████████| 53/53 [00:00<00:00, 333.92it/s]\n"
     ]
    },
    {
     "name": "stdout",
     "output_type": "stream",
     "text": [
      "Epoch:315/1000.. Train Loss: 0.024.. Val Loss: 0.082.. Test Loss: 0.057.. Time: 0.03m\n"
     ]
    },
    {
     "name": "stderr",
     "output_type": "stream",
     "text": [
      "100%|██████████| 107/107 [00:01<00:00, 70.39it/s]\n",
      "100%|██████████| 18/18 [00:00<00:00, 320.36it/s]\n",
      "100%|██████████| 53/53 [00:00<00:00, 327.14it/s]\n"
     ]
    },
    {
     "name": "stdout",
     "output_type": "stream",
     "text": [
      "Epoch:316/1000.. Train Loss: 0.024.. Val Loss: 0.088.. Test Loss: 0.051.. Time: 0.03m\n"
     ]
    },
    {
     "name": "stderr",
     "output_type": "stream",
     "text": [
      "100%|██████████| 107/107 [00:01<00:00, 71.22it/s]\n",
      "100%|██████████| 18/18 [00:00<00:00, 320.58it/s]\n",
      "100%|██████████| 53/53 [00:00<00:00, 324.88it/s]\n"
     ]
    },
    {
     "name": "stdout",
     "output_type": "stream",
     "text": [
      "Epoch:317/1000.. Train Loss: 0.025.. Val Loss: 0.078.. Test Loss: 0.049.. Time: 0.03m\n"
     ]
    },
    {
     "name": "stderr",
     "output_type": "stream",
     "text": [
      "100%|██████████| 107/107 [00:01<00:00, 70.19it/s]\n",
      "100%|██████████| 18/18 [00:00<00:00, 325.60it/s]\n",
      "100%|██████████| 53/53 [00:00<00:00, 322.29it/s]\n"
     ]
    },
    {
     "name": "stdout",
     "output_type": "stream",
     "text": [
      "Epoch:318/1000.. Train Loss: 0.024.. Val Loss: 0.080.. Test Loss: 0.052.. Time: 0.03m\n"
     ]
    },
    {
     "name": "stderr",
     "output_type": "stream",
     "text": [
      "100%|██████████| 107/107 [00:01<00:00, 71.15it/s]\n",
      "100%|██████████| 18/18 [00:00<00:00, 320.51it/s]\n",
      "100%|██████████| 53/53 [00:00<00:00, 331.03it/s]\n"
     ]
    },
    {
     "name": "stdout",
     "output_type": "stream",
     "text": [
      "Epoch:319/1000.. Train Loss: 0.023.. Val Loss: 0.079.. Test Loss: 0.049.. Time: 0.03m\n"
     ]
    },
    {
     "name": "stderr",
     "output_type": "stream",
     "text": [
      "100%|██████████| 107/107 [00:01<00:00, 70.98it/s]\n",
      "100%|██████████| 18/18 [00:00<00:00, 324.95it/s]\n",
      "100%|██████████| 53/53 [00:00<00:00, 325.47it/s]\n"
     ]
    },
    {
     "name": "stdout",
     "output_type": "stream",
     "text": [
      "Epoch:320/1000.. Train Loss: 0.024.. Val Loss: 0.081.. Test Loss: 0.050.. Time: 0.03m\n"
     ]
    },
    {
     "name": "stderr",
     "output_type": "stream",
     "text": [
      "100%|██████████| 107/107 [00:01<00:00, 68.66it/s]\n",
      "100%|██████████| 18/18 [00:00<00:00, 328.38it/s]\n",
      "100%|██████████| 53/53 [00:00<00:00, 329.00it/s]\n"
     ]
    },
    {
     "name": "stdout",
     "output_type": "stream",
     "text": [
      "Epoch:321/1000.. Train Loss: 0.023.. Val Loss: 0.080.. Test Loss: 0.049.. Time: 0.03m\n"
     ]
    },
    {
     "name": "stderr",
     "output_type": "stream",
     "text": [
      "100%|██████████| 107/107 [00:01<00:00, 70.72it/s]\n",
      "100%|██████████| 18/18 [00:00<00:00, 332.69it/s]\n",
      "100%|██████████| 53/53 [00:00<00:00, 322.78it/s]\n"
     ]
    },
    {
     "name": "stdout",
     "output_type": "stream",
     "text": [
      "Epoch:322/1000.. Train Loss: 0.023.. Val Loss: 0.081.. Test Loss: 0.049.. Time: 0.03m\n"
     ]
    },
    {
     "name": "stderr",
     "output_type": "stream",
     "text": [
      "100%|██████████| 107/107 [00:01<00:00, 70.25it/s]\n",
      "100%|██████████| 18/18 [00:00<00:00, 241.88it/s]\n",
      "100%|██████████| 53/53 [00:00<00:00, 330.25it/s]\n"
     ]
    },
    {
     "name": "stdout",
     "output_type": "stream",
     "text": [
      "Epoch:323/1000.. Train Loss: 0.023.. Val Loss: 0.089.. Test Loss: 0.051.. Time: 0.03m\n"
     ]
    },
    {
     "name": "stderr",
     "output_type": "stream",
     "text": [
      "100%|██████████| 107/107 [00:01<00:00, 66.80it/s]\n",
      "100%|██████████| 18/18 [00:00<00:00, 333.75it/s]\n",
      "100%|██████████| 53/53 [00:00<00:00, 323.12it/s]\n"
     ]
    },
    {
     "name": "stdout",
     "output_type": "stream",
     "text": [
      "Epoch:324/1000.. Train Loss: 0.026.. Val Loss: 0.081.. Test Loss: 0.054.. Time: 0.03m\n"
     ]
    },
    {
     "name": "stderr",
     "output_type": "stream",
     "text": [
      "100%|██████████| 107/107 [00:01<00:00, 70.83it/s]\n",
      "100%|██████████| 18/18 [00:00<00:00, 323.50it/s]\n",
      "100%|██████████| 53/53 [00:00<00:00, 324.89it/s]\n"
     ]
    },
    {
     "name": "stdout",
     "output_type": "stream",
     "text": [
      "Epoch:325/1000.. Train Loss: 0.024.. Val Loss: 0.082.. Test Loss: 0.051.. Time: 0.03m\n"
     ]
    },
    {
     "name": "stderr",
     "output_type": "stream",
     "text": [
      "100%|██████████| 107/107 [00:01<00:00, 71.57it/s]\n",
      "100%|██████████| 18/18 [00:00<00:00, 323.09it/s]\n",
      "100%|██████████| 53/53 [00:00<00:00, 331.23it/s]\n"
     ]
    },
    {
     "name": "stdout",
     "output_type": "stream",
     "text": [
      "Epoch:326/1000.. Train Loss: 0.022.. Val Loss: 0.084.. Test Loss: 0.053.. Time: 0.03m\n"
     ]
    },
    {
     "name": "stderr",
     "output_type": "stream",
     "text": [
      "100%|██████████| 107/107 [00:01<00:00, 69.68it/s]\n",
      "100%|██████████| 18/18 [00:00<00:00, 327.70it/s]\n",
      "100%|██████████| 53/53 [00:00<00:00, 325.61it/s]\n"
     ]
    },
    {
     "name": "stdout",
     "output_type": "stream",
     "text": [
      "Epoch:327/1000.. Train Loss: 0.021.. Val Loss: 0.085.. Test Loss: 0.058.. Time: 0.03m\n"
     ]
    },
    {
     "name": "stderr",
     "output_type": "stream",
     "text": [
      "100%|██████████| 107/107 [00:01<00:00, 69.39it/s]\n",
      "100%|██████████| 18/18 [00:00<00:00, 321.69it/s]\n",
      "100%|██████████| 53/53 [00:00<00:00, 316.95it/s]\n"
     ]
    },
    {
     "name": "stdout",
     "output_type": "stream",
     "text": [
      "Epoch:328/1000.. Train Loss: 0.022.. Val Loss: 0.086.. Test Loss: 0.053.. Time: 0.03m\n"
     ]
    },
    {
     "name": "stderr",
     "output_type": "stream",
     "text": [
      "100%|██████████| 107/107 [00:01<00:00, 70.01it/s]\n",
      "100%|██████████| 18/18 [00:00<00:00, 326.53it/s]\n",
      "100%|██████████| 53/53 [00:00<00:00, 324.56it/s]\n"
     ]
    },
    {
     "name": "stdout",
     "output_type": "stream",
     "text": [
      "Epoch:329/1000.. Train Loss: 0.024.. Val Loss: 0.084.. Test Loss: 0.051.. Time: 0.03m\n"
     ]
    },
    {
     "name": "stderr",
     "output_type": "stream",
     "text": [
      "100%|██████████| 107/107 [00:01<00:00, 71.63it/s]\n",
      "100%|██████████| 18/18 [00:00<00:00, 322.80it/s]\n",
      "100%|██████████| 53/53 [00:00<00:00, 333.90it/s]\n"
     ]
    },
    {
     "name": "stdout",
     "output_type": "stream",
     "text": [
      "Epoch:330/1000.. Train Loss: 0.023.. Val Loss: 0.100.. Test Loss: 0.056.. Time: 0.03m\n"
     ]
    },
    {
     "name": "stderr",
     "output_type": "stream",
     "text": [
      "100%|██████████| 107/107 [00:01<00:00, 71.75it/s]\n",
      "100%|██████████| 18/18 [00:00<00:00, 329.76it/s]\n",
      "100%|██████████| 53/53 [00:00<00:00, 327.41it/s]\n"
     ]
    },
    {
     "name": "stdout",
     "output_type": "stream",
     "text": [
      "Epoch:331/1000.. Train Loss: 0.024.. Val Loss: 0.085.. Test Loss: 0.056.. Time: 0.03m\n"
     ]
    },
    {
     "name": "stderr",
     "output_type": "stream",
     "text": [
      "100%|██████████| 107/107 [00:01<00:00, 71.42it/s]\n",
      "100%|██████████| 18/18 [00:00<00:00, 330.04it/s]\n",
      "100%|██████████| 53/53 [00:00<00:00, 328.22it/s]\n"
     ]
    },
    {
     "name": "stdout",
     "output_type": "stream",
     "text": [
      "Epoch:332/1000.. Train Loss: 0.022.. Val Loss: 0.090.. Test Loss: 0.059.. Time: 0.03m\n"
     ]
    },
    {
     "name": "stderr",
     "output_type": "stream",
     "text": [
      "100%|██████████| 107/107 [00:01<00:00, 71.73it/s]\n",
      "100%|██████████| 18/18 [00:00<00:00, 316.17it/s]\n",
      "100%|██████████| 53/53 [00:00<00:00, 329.21it/s]\n"
     ]
    },
    {
     "name": "stdout",
     "output_type": "stream",
     "text": [
      "Epoch:333/1000.. Train Loss: 0.025.. Val Loss: 0.082.. Test Loss: 0.053.. Time: 0.03m\n"
     ]
    },
    {
     "name": "stderr",
     "output_type": "stream",
     "text": [
      "100%|██████████| 107/107 [00:01<00:00, 71.74it/s]\n",
      "100%|██████████| 18/18 [00:00<00:00, 325.25it/s]\n",
      "100%|██████████| 53/53 [00:00<00:00, 324.76it/s]\n"
     ]
    },
    {
     "name": "stdout",
     "output_type": "stream",
     "text": [
      "Epoch:334/1000.. Train Loss: 0.022.. Val Loss: 0.084.. Test Loss: 0.056.. Time: 0.03m\n"
     ]
    },
    {
     "name": "stderr",
     "output_type": "stream",
     "text": [
      "100%|██████████| 107/107 [00:01<00:00, 70.68it/s]\n",
      "100%|██████████| 18/18 [00:00<00:00, 330.12it/s]\n",
      "100%|██████████| 53/53 [00:00<00:00, 336.30it/s]\n"
     ]
    },
    {
     "name": "stdout",
     "output_type": "stream",
     "text": [
      "Epoch:335/1000.. Train Loss: 0.021.. Val Loss: 0.083.. Test Loss: 0.055.. Time: 0.03m\n"
     ]
    },
    {
     "name": "stderr",
     "output_type": "stream",
     "text": [
      "100%|██████████| 107/107 [00:01<00:00, 70.25it/s]\n",
      "100%|██████████| 18/18 [00:00<00:00, 330.42it/s]\n",
      "100%|██████████| 53/53 [00:00<00:00, 323.07it/s]\n"
     ]
    },
    {
     "name": "stdout",
     "output_type": "stream",
     "text": [
      "Epoch:336/1000.. Train Loss: 0.023.. Val Loss: 0.079.. Test Loss: 0.051.. Time: 0.03m\n"
     ]
    },
    {
     "name": "stderr",
     "output_type": "stream",
     "text": [
      "100%|██████████| 107/107 [00:01<00:00, 70.95it/s]\n",
      "100%|██████████| 18/18 [00:00<00:00, 322.98it/s]\n",
      "100%|██████████| 53/53 [00:00<00:00, 333.90it/s]\n"
     ]
    },
    {
     "name": "stdout",
     "output_type": "stream",
     "text": [
      "Epoch:337/1000.. Train Loss: 0.024.. Val Loss: 0.083.. Test Loss: 0.056.. Time: 0.03m\n"
     ]
    },
    {
     "name": "stderr",
     "output_type": "stream",
     "text": [
      "100%|██████████| 107/107 [00:01<00:00, 70.33it/s]\n",
      "100%|██████████| 18/18 [00:00<00:00, 323.57it/s]\n",
      "100%|██████████| 53/53 [00:00<00:00, 322.56it/s]\n"
     ]
    },
    {
     "name": "stdout",
     "output_type": "stream",
     "text": [
      "Epoch:338/1000.. Train Loss: 0.024.. Val Loss: 0.083.. Test Loss: 0.051.. Time: 0.03m\n"
     ]
    },
    {
     "name": "stderr",
     "output_type": "stream",
     "text": [
      "100%|██████████| 107/107 [00:01<00:00, 67.73it/s]\n",
      "100%|██████████| 18/18 [00:00<00:00, 249.11it/s]\n",
      "100%|██████████| 53/53 [00:00<00:00, 330.37it/s]\n"
     ]
    },
    {
     "name": "stdout",
     "output_type": "stream",
     "text": [
      "Epoch:339/1000.. Train Loss: 0.022.. Val Loss: 0.080.. Test Loss: 0.055.. Time: 0.03m\n"
     ]
    },
    {
     "name": "stderr",
     "output_type": "stream",
     "text": [
      "100%|██████████| 107/107 [00:01<00:00, 68.50it/s]\n",
      "100%|██████████| 18/18 [00:00<00:00, 318.71it/s]\n",
      "100%|██████████| 53/53 [00:00<00:00, 329.90it/s]\n"
     ]
    },
    {
     "name": "stdout",
     "output_type": "stream",
     "text": [
      "Epoch:340/1000.. Train Loss: 0.023.. Val Loss: 0.081.. Test Loss: 0.055.. Time: 0.03m\n"
     ]
    },
    {
     "name": "stderr",
     "output_type": "stream",
     "text": [
      "100%|██████████| 107/107 [00:01<00:00, 69.93it/s]\n",
      "100%|██████████| 18/18 [00:00<00:00, 318.53it/s]\n",
      "100%|██████████| 53/53 [00:00<00:00, 325.48it/s]\n"
     ]
    },
    {
     "name": "stdout",
     "output_type": "stream",
     "text": [
      "Epoch:341/1000.. Train Loss: 0.023.. Val Loss: 0.083.. Test Loss: 0.055.. Time: 0.03m\n"
     ]
    },
    {
     "name": "stderr",
     "output_type": "stream",
     "text": [
      "100%|██████████| 107/107 [00:01<00:00, 69.03it/s]\n",
      "100%|██████████| 18/18 [00:00<00:00, 325.61it/s]\n",
      "100%|██████████| 53/53 [00:00<00:00, 329.82it/s]\n"
     ]
    },
    {
     "name": "stdout",
     "output_type": "stream",
     "text": [
      "Epoch:342/1000.. Train Loss: 0.022.. Val Loss: 0.087.. Test Loss: 0.055.. Time: 0.03m\n"
     ]
    },
    {
     "name": "stderr",
     "output_type": "stream",
     "text": [
      "100%|██████████| 107/107 [00:01<00:00, 70.88it/s]\n",
      "100%|██████████| 18/18 [00:00<00:00, 329.21it/s]\n",
      "100%|██████████| 53/53 [00:00<00:00, 329.28it/s]\n"
     ]
    },
    {
     "name": "stdout",
     "output_type": "stream",
     "text": [
      "Epoch:343/1000.. Train Loss: 0.021.. Val Loss: 0.081.. Test Loss: 0.050.. Time: 0.03m\n"
     ]
    },
    {
     "name": "stderr",
     "output_type": "stream",
     "text": [
      "100%|██████████| 107/107 [00:01<00:00, 70.10it/s]\n",
      "100%|██████████| 18/18 [00:00<00:00, 330.28it/s]\n",
      "100%|██████████| 53/53 [00:00<00:00, 317.97it/s]\n"
     ]
    },
    {
     "name": "stdout",
     "output_type": "stream",
     "text": [
      "Epoch:344/1000.. Train Loss: 0.024.. Val Loss: 0.082.. Test Loss: 0.054.. Time: 0.03m\n"
     ]
    },
    {
     "name": "stderr",
     "output_type": "stream",
     "text": [
      "100%|██████████| 107/107 [00:01<00:00, 69.09it/s]\n",
      "100%|██████████| 18/18 [00:00<00:00, 290.60it/s]\n",
      "100%|██████████| 53/53 [00:00<00:00, 334.56it/s]\n"
     ]
    },
    {
     "name": "stdout",
     "output_type": "stream",
     "text": [
      "Epoch:345/1000.. Train Loss: 0.022.. Val Loss: 0.084.. Test Loss: 0.053.. Time: 0.03m\n"
     ]
    },
    {
     "name": "stderr",
     "output_type": "stream",
     "text": [
      "100%|██████████| 107/107 [00:01<00:00, 69.39it/s]\n",
      "100%|██████████| 18/18 [00:00<00:00, 338.82it/s]\n",
      "100%|██████████| 53/53 [00:00<00:00, 331.42it/s]\n"
     ]
    },
    {
     "name": "stdout",
     "output_type": "stream",
     "text": [
      "Epoch:346/1000.. Train Loss: 0.023.. Val Loss: 0.084.. Test Loss: 0.054.. Time: 0.03m\n"
     ]
    },
    {
     "name": "stderr",
     "output_type": "stream",
     "text": [
      "100%|██████████| 107/107 [00:01<00:00, 69.51it/s]\n",
      "100%|██████████| 18/18 [00:00<00:00, 319.52it/s]\n",
      "100%|██████████| 53/53 [00:00<00:00, 325.76it/s]\n"
     ]
    },
    {
     "name": "stdout",
     "output_type": "stream",
     "text": [
      "Epoch:347/1000.. Train Loss: 0.022.. Val Loss: 0.077.. Test Loss: 0.050.. Time: 0.03m\n"
     ]
    },
    {
     "name": "stderr",
     "output_type": "stream",
     "text": [
      "100%|██████████| 107/107 [00:01<00:00, 69.75it/s]\n",
      "100%|██████████| 18/18 [00:00<00:00, 328.52it/s]\n",
      "100%|██████████| 53/53 [00:00<00:00, 327.39it/s]\n"
     ]
    },
    {
     "name": "stdout",
     "output_type": "stream",
     "text": [
      "Epoch:348/1000.. Train Loss: 0.022.. Val Loss: 0.083.. Test Loss: 0.051.. Time: 0.03m\n"
     ]
    },
    {
     "name": "stderr",
     "output_type": "stream",
     "text": [
      "100%|██████████| 107/107 [00:01<00:00, 68.48it/s]\n",
      "100%|██████████| 18/18 [00:00<00:00, 332.34it/s]\n",
      "100%|██████████| 53/53 [00:00<00:00, 329.52it/s]\n"
     ]
    },
    {
     "name": "stdout",
     "output_type": "stream",
     "text": [
      "Epoch:349/1000.. Train Loss: 0.023.. Val Loss: 0.110.. Test Loss: 0.052.. Time: 0.03m\n"
     ]
    },
    {
     "name": "stderr",
     "output_type": "stream",
     "text": [
      "100%|██████████| 107/107 [00:01<00:00, 70.06it/s]\n",
      "100%|██████████| 18/18 [00:00<00:00, 327.17it/s]\n",
      "100%|██████████| 53/53 [00:00<00:00, 326.28it/s]\n"
     ]
    },
    {
     "name": "stdout",
     "output_type": "stream",
     "text": [
      "Epoch:350/1000.. Train Loss: 0.022.. Val Loss: 0.081.. Test Loss: 0.052.. Time: 0.03m\n"
     ]
    },
    {
     "name": "stderr",
     "output_type": "stream",
     "text": [
      "100%|██████████| 107/107 [00:01<00:00, 70.63it/s]\n",
      "100%|██████████| 18/18 [00:00<00:00, 325.27it/s]\n",
      "100%|██████████| 53/53 [00:00<00:00, 330.96it/s]\n"
     ]
    },
    {
     "name": "stdout",
     "output_type": "stream",
     "text": [
      "Epoch:351/1000.. Train Loss: 0.022.. Val Loss: 0.085.. Test Loss: 0.053.. Time: 0.03m\n"
     ]
    },
    {
     "name": "stderr",
     "output_type": "stream",
     "text": [
      "100%|██████████| 107/107 [00:01<00:00, 68.30it/s]\n",
      "100%|██████████| 18/18 [00:00<00:00, 321.95it/s]\n",
      "100%|██████████| 53/53 [00:00<00:00, 328.65it/s]\n"
     ]
    },
    {
     "name": "stdout",
     "output_type": "stream",
     "text": [
      "Epoch:352/1000.. Train Loss: 0.023.. Val Loss: 0.080.. Test Loss: 0.050.. Time: 0.03m\n"
     ]
    },
    {
     "name": "stderr",
     "output_type": "stream",
     "text": [
      "100%|██████████| 107/107 [00:01<00:00, 68.87it/s]\n",
      "100%|██████████| 18/18 [00:00<00:00, 296.85it/s]\n",
      "100%|██████████| 53/53 [00:00<00:00, 323.89it/s]\n"
     ]
    },
    {
     "name": "stdout",
     "output_type": "stream",
     "text": [
      "Epoch:353/1000.. Train Loss: 0.023.. Val Loss: 0.078.. Test Loss: 0.050.. Time: 0.03m\n"
     ]
    },
    {
     "name": "stderr",
     "output_type": "stream",
     "text": [
      "100%|██████████| 107/107 [00:01<00:00, 70.27it/s]\n",
      "100%|██████████| 18/18 [00:00<00:00, 322.40it/s]\n",
      "100%|██████████| 53/53 [00:00<00:00, 326.80it/s]\n"
     ]
    },
    {
     "name": "stdout",
     "output_type": "stream",
     "text": [
      "Epoch:354/1000.. Train Loss: 0.022.. Val Loss: 0.079.. Test Loss: 0.050.. Time: 0.03m\n"
     ]
    },
    {
     "name": "stderr",
     "output_type": "stream",
     "text": [
      "100%|██████████| 107/107 [00:01<00:00, 70.41it/s]\n",
      "100%|██████████| 18/18 [00:00<00:00, 326.09it/s]\n",
      "100%|██████████| 53/53 [00:00<00:00, 327.63it/s]\n"
     ]
    },
    {
     "name": "stdout",
     "output_type": "stream",
     "text": [
      "Epoch:355/1000.. Train Loss: 0.022.. Val Loss: 0.081.. Test Loss: 0.054.. Time: 0.03m\n"
     ]
    },
    {
     "name": "stderr",
     "output_type": "stream",
     "text": [
      "100%|██████████| 107/107 [00:01<00:00, 70.12it/s]\n",
      "100%|██████████| 18/18 [00:00<00:00, 327.53it/s]\n",
      "100%|██████████| 53/53 [00:00<00:00, 327.20it/s]\n"
     ]
    },
    {
     "name": "stdout",
     "output_type": "stream",
     "text": [
      "Epoch:356/1000.. Train Loss: 0.024.. Val Loss: 0.098.. Test Loss: 0.054.. Time: 0.03m\n"
     ]
    },
    {
     "name": "stderr",
     "output_type": "stream",
     "text": [
      "100%|██████████| 107/107 [00:01<00:00, 70.52it/s]\n",
      "100%|██████████| 18/18 [00:00<00:00, 317.30it/s]\n",
      "100%|██████████| 53/53 [00:00<00:00, 331.49it/s]\n"
     ]
    },
    {
     "name": "stdout",
     "output_type": "stream",
     "text": [
      "Epoch:357/1000.. Train Loss: 0.021.. Val Loss: 0.086.. Test Loss: 0.055.. Time: 0.03m\n"
     ]
    },
    {
     "name": "stderr",
     "output_type": "stream",
     "text": [
      "100%|██████████| 107/107 [00:01<00:00, 70.97it/s]\n",
      "100%|██████████| 18/18 [00:00<00:00, 281.58it/s]\n",
      "100%|██████████| 53/53 [00:00<00:00, 329.18it/s]\n"
     ]
    },
    {
     "name": "stdout",
     "output_type": "stream",
     "text": [
      "Epoch:358/1000.. Train Loss: 0.022.. Val Loss: 0.091.. Test Loss: 0.055.. Time: 0.03m\n"
     ]
    },
    {
     "name": "stderr",
     "output_type": "stream",
     "text": [
      "100%|██████████| 107/107 [00:01<00:00, 70.23it/s]\n",
      "100%|██████████| 18/18 [00:00<00:00, 324.26it/s]\n",
      "100%|██████████| 53/53 [00:00<00:00, 321.93it/s]\n"
     ]
    },
    {
     "name": "stdout",
     "output_type": "stream",
     "text": [
      "Epoch:359/1000.. Train Loss: 0.021.. Val Loss: 0.086.. Test Loss: 0.059.. Time: 0.03m\n"
     ]
    },
    {
     "name": "stderr",
     "output_type": "stream",
     "text": [
      "100%|██████████| 107/107 [00:01<00:00, 69.85it/s]\n",
      "100%|██████████| 18/18 [00:00<00:00, 323.23it/s]\n",
      "100%|██████████| 53/53 [00:00<00:00, 331.05it/s]\n"
     ]
    },
    {
     "name": "stdout",
     "output_type": "stream",
     "text": [
      "Epoch:360/1000.. Train Loss: 0.021.. Val Loss: 0.093.. Test Loss: 0.054.. Time: 0.03m\n"
     ]
    },
    {
     "name": "stderr",
     "output_type": "stream",
     "text": [
      "100%|██████████| 107/107 [00:01<00:00, 71.83it/s]\n",
      "100%|██████████| 18/18 [00:00<00:00, 332.73it/s]\n",
      "100%|██████████| 53/53 [00:00<00:00, 337.23it/s]\n"
     ]
    },
    {
     "name": "stdout",
     "output_type": "stream",
     "text": [
      "Epoch:361/1000.. Train Loss: 0.021.. Val Loss: 0.087.. Test Loss: 0.052.. Time: 0.03m\n"
     ]
    },
    {
     "name": "stderr",
     "output_type": "stream",
     "text": [
      "100%|██████████| 107/107 [00:01<00:00, 71.93it/s]\n",
      "100%|██████████| 18/18 [00:00<00:00, 335.66it/s]\n",
      "100%|██████████| 53/53 [00:00<00:00, 334.61it/s]\n"
     ]
    },
    {
     "name": "stdout",
     "output_type": "stream",
     "text": [
      "Epoch:362/1000.. Train Loss: 0.023.. Val Loss: 0.091.. Test Loss: 0.050.. Time: 0.03m\n"
     ]
    },
    {
     "name": "stderr",
     "output_type": "stream",
     "text": [
      "100%|██████████| 107/107 [00:01<00:00, 69.21it/s]\n",
      "100%|██████████| 18/18 [00:00<00:00, 330.31it/s]\n",
      "100%|██████████| 53/53 [00:00<00:00, 330.35it/s]\n"
     ]
    },
    {
     "name": "stdout",
     "output_type": "stream",
     "text": [
      "Epoch:363/1000.. Train Loss: 0.023.. Val Loss: 0.083.. Test Loss: 0.053.. Time: 0.03m\n"
     ]
    },
    {
     "name": "stderr",
     "output_type": "stream",
     "text": [
      "100%|██████████| 107/107 [00:01<00:00, 70.97it/s]\n",
      "100%|██████████| 18/18 [00:00<00:00, 328.29it/s]\n",
      "100%|██████████| 53/53 [00:00<00:00, 320.18it/s]\n"
     ]
    },
    {
     "name": "stdout",
     "output_type": "stream",
     "text": [
      "Epoch:364/1000.. Train Loss: 0.020.. Val Loss: 0.082.. Test Loss: 0.051.. Time: 0.03m\n"
     ]
    },
    {
     "name": "stderr",
     "output_type": "stream",
     "text": [
      "100%|██████████| 107/107 [00:01<00:00, 70.71it/s]\n",
      "100%|██████████| 18/18 [00:00<00:00, 332.48it/s]\n",
      "100%|██████████| 53/53 [00:00<00:00, 332.07it/s]\n"
     ]
    },
    {
     "name": "stdout",
     "output_type": "stream",
     "text": [
      "Epoch:365/1000.. Train Loss: 0.023.. Val Loss: 0.087.. Test Loss: 0.056.. Time: 0.03m\n"
     ]
    },
    {
     "name": "stderr",
     "output_type": "stream",
     "text": [
      "100%|██████████| 107/107 [00:01<00:00, 64.71it/s]\n",
      "100%|██████████| 18/18 [00:00<00:00, 321.82it/s]\n",
      "100%|██████████| 53/53 [00:00<00:00, 332.91it/s]\n"
     ]
    },
    {
     "name": "stdout",
     "output_type": "stream",
     "text": [
      "Epoch:366/1000.. Train Loss: 0.022.. Val Loss: 0.083.. Test Loss: 0.050.. Time: 0.03m\n"
     ]
    },
    {
     "name": "stderr",
     "output_type": "stream",
     "text": [
      "100%|██████████| 107/107 [00:01<00:00, 74.57it/s]\n",
      "100%|██████████| 18/18 [00:00<00:00, 331.92it/s]\n",
      "100%|██████████| 53/53 [00:00<00:00, 331.14it/s]\n"
     ]
    },
    {
     "name": "stdout",
     "output_type": "stream",
     "text": [
      "Epoch:367/1000.. Train Loss: 0.021.. Val Loss: 0.084.. Test Loss: 0.056.. Time: 0.03m\n"
     ]
    },
    {
     "name": "stderr",
     "output_type": "stream",
     "text": [
      "100%|██████████| 107/107 [00:01<00:00, 74.43it/s]\n",
      "100%|██████████| 18/18 [00:00<00:00, 332.43it/s]\n",
      "100%|██████████| 53/53 [00:00<00:00, 331.06it/s]\n"
     ]
    },
    {
     "name": "stdout",
     "output_type": "stream",
     "text": [
      "Epoch:368/1000.. Train Loss: 0.023.. Val Loss: 0.082.. Test Loss: 0.055.. Time: 0.03m\n"
     ]
    },
    {
     "name": "stderr",
     "output_type": "stream",
     "text": [
      "100%|██████████| 107/107 [00:01<00:00, 74.67it/s]\n",
      "100%|██████████| 18/18 [00:00<00:00, 313.19it/s]\n",
      "100%|██████████| 53/53 [00:00<00:00, 326.63it/s]\n"
     ]
    },
    {
     "name": "stdout",
     "output_type": "stream",
     "text": [
      "Epoch:369/1000.. Train Loss: 0.021.. Val Loss: 0.077.. Test Loss: 0.056.. Time: 0.03m\n"
     ]
    },
    {
     "name": "stderr",
     "output_type": "stream",
     "text": [
      "100%|██████████| 107/107 [00:01<00:00, 74.07it/s]\n",
      "100%|██████████| 18/18 [00:00<00:00, 325.76it/s]\n",
      "100%|██████████| 53/53 [00:00<00:00, 330.23it/s]\n"
     ]
    },
    {
     "name": "stdout",
     "output_type": "stream",
     "text": [
      "Epoch:370/1000.. Train Loss: 0.021.. Val Loss: 0.084.. Test Loss: 0.057.. Time: 0.03m\n"
     ]
    },
    {
     "name": "stderr",
     "output_type": "stream",
     "text": [
      "100%|██████████| 107/107 [00:01<00:00, 74.38it/s]\n",
      "100%|██████████| 18/18 [00:00<00:00, 330.09it/s]\n",
      "100%|██████████| 53/53 [00:00<00:00, 331.12it/s]\n"
     ]
    },
    {
     "name": "stdout",
     "output_type": "stream",
     "text": [
      "Epoch:371/1000.. Train Loss: 0.022.. Val Loss: 0.081.. Test Loss: 0.049.. Time: 0.03m\n"
     ]
    },
    {
     "name": "stderr",
     "output_type": "stream",
     "text": [
      "100%|██████████| 107/107 [00:01<00:00, 74.72it/s]\n",
      "100%|██████████| 18/18 [00:00<00:00, 321.75it/s]\n",
      "100%|██████████| 53/53 [00:00<00:00, 327.32it/s]\n"
     ]
    },
    {
     "name": "stdout",
     "output_type": "stream",
     "text": [
      "Epoch:372/1000.. Train Loss: 0.021.. Val Loss: 0.087.. Test Loss: 0.050.. Time: 0.03m\n"
     ]
    },
    {
     "name": "stderr",
     "output_type": "stream",
     "text": [
      "100%|██████████| 107/107 [00:01<00:00, 74.59it/s]\n",
      "100%|██████████| 18/18 [00:00<00:00, 326.68it/s]\n",
      "100%|██████████| 53/53 [00:00<00:00, 328.37it/s]\n"
     ]
    },
    {
     "name": "stdout",
     "output_type": "stream",
     "text": [
      "Epoch:373/1000.. Train Loss: 0.022.. Val Loss: 0.084.. Test Loss: 0.052.. Time: 0.03m\n"
     ]
    },
    {
     "name": "stderr",
     "output_type": "stream",
     "text": [
      "100%|██████████| 107/107 [00:01<00:00, 74.57it/s]\n",
      "100%|██████████| 18/18 [00:00<00:00, 327.26it/s]\n",
      "100%|██████████| 53/53 [00:00<00:00, 333.96it/s]\n"
     ]
    },
    {
     "name": "stdout",
     "output_type": "stream",
     "text": [
      "Epoch:374/1000.. Train Loss: 0.022.. Val Loss: 0.111.. Test Loss: 0.054.. Time: 0.03m\n"
     ]
    },
    {
     "name": "stderr",
     "output_type": "stream",
     "text": [
      "100%|██████████| 107/107 [00:01<00:00, 74.46it/s]\n",
      "100%|██████████| 18/18 [00:00<00:00, 318.50it/s]\n",
      "100%|██████████| 53/53 [00:00<00:00, 328.69it/s]\n"
     ]
    },
    {
     "name": "stdout",
     "output_type": "stream",
     "text": [
      "Epoch:375/1000.. Train Loss: 0.020.. Val Loss: 0.088.. Test Loss: 0.055.. Time: 0.03m\n"
     ]
    },
    {
     "name": "stderr",
     "output_type": "stream",
     "text": [
      "100%|██████████| 107/107 [00:01<00:00, 74.31it/s]\n",
      "100%|██████████| 18/18 [00:00<00:00, 326.23it/s]\n",
      "100%|██████████| 53/53 [00:00<00:00, 328.56it/s]\n"
     ]
    },
    {
     "name": "stdout",
     "output_type": "stream",
     "text": [
      "Epoch:376/1000.. Train Loss: 0.023.. Val Loss: 0.085.. Test Loss: 0.057.. Time: 0.03m\n"
     ]
    },
    {
     "name": "stderr",
     "output_type": "stream",
     "text": [
      "100%|██████████| 107/107 [00:01<00:00, 74.22it/s]\n",
      "100%|██████████| 18/18 [00:00<00:00, 328.83it/s]\n",
      "100%|██████████| 53/53 [00:00<00:00, 330.80it/s]\n"
     ]
    },
    {
     "name": "stdout",
     "output_type": "stream",
     "text": [
      "Epoch:377/1000.. Train Loss: 0.020.. Val Loss: 0.092.. Test Loss: 0.062.. Time: 0.03m\n"
     ]
    },
    {
     "name": "stderr",
     "output_type": "stream",
     "text": [
      "100%|██████████| 107/107 [00:01<00:00, 74.27it/s]\n",
      "100%|██████████| 18/18 [00:00<00:00, 323.22it/s]\n",
      "100%|██████████| 53/53 [00:00<00:00, 329.28it/s]\n"
     ]
    },
    {
     "name": "stdout",
     "output_type": "stream",
     "text": [
      "Epoch:378/1000.. Train Loss: 0.021.. Val Loss: 0.080.. Test Loss: 0.058.. Time: 0.03m\n"
     ]
    },
    {
     "name": "stderr",
     "output_type": "stream",
     "text": [
      "100%|██████████| 107/107 [00:01<00:00, 74.43it/s]\n",
      "100%|██████████| 18/18 [00:00<00:00, 332.75it/s]\n",
      "100%|██████████| 53/53 [00:00<00:00, 332.69it/s]\n"
     ]
    },
    {
     "name": "stdout",
     "output_type": "stream",
     "text": [
      "Epoch:379/1000.. Train Loss: 0.022.. Val Loss: 0.087.. Test Loss: 0.059.. Time: 0.03m\n"
     ]
    },
    {
     "name": "stderr",
     "output_type": "stream",
     "text": [
      "100%|██████████| 107/107 [00:01<00:00, 74.86it/s]\n",
      "100%|██████████| 18/18 [00:00<00:00, 327.52it/s]\n",
      "100%|██████████| 53/53 [00:00<00:00, 329.84it/s]\n"
     ]
    },
    {
     "name": "stdout",
     "output_type": "stream",
     "text": [
      "Epoch:380/1000.. Train Loss: 0.021.. Val Loss: 0.081.. Test Loss: 0.056.. Time: 0.03m\n"
     ]
    },
    {
     "name": "stderr",
     "output_type": "stream",
     "text": [
      "100%|██████████| 107/107 [00:01<00:00, 74.04it/s]\n",
      "100%|██████████| 18/18 [00:00<00:00, 326.43it/s]\n",
      "100%|██████████| 53/53 [00:00<00:00, 318.00it/s]\n"
     ]
    },
    {
     "name": "stdout",
     "output_type": "stream",
     "text": [
      "Epoch:381/1000.. Train Loss: 0.021.. Val Loss: 0.082.. Test Loss: 0.054.. Time: 0.03m\n"
     ]
    },
    {
     "name": "stderr",
     "output_type": "stream",
     "text": [
      "100%|██████████| 107/107 [00:01<00:00, 74.09it/s]\n",
      "100%|██████████| 18/18 [00:00<00:00, 332.16it/s]\n",
      "100%|██████████| 53/53 [00:00<00:00, 329.36it/s]\n"
     ]
    },
    {
     "name": "stdout",
     "output_type": "stream",
     "text": [
      "Epoch:382/1000.. Train Loss: 0.021.. Val Loss: 0.082.. Test Loss: 0.047.. Time: 0.03m\n"
     ]
    },
    {
     "name": "stderr",
     "output_type": "stream",
     "text": [
      "100%|██████████| 107/107 [00:01<00:00, 74.23it/s]\n",
      "100%|██████████| 18/18 [00:00<00:00, 325.94it/s]\n",
      "100%|██████████| 53/53 [00:00<00:00, 332.45it/s]\n"
     ]
    },
    {
     "name": "stdout",
     "output_type": "stream",
     "text": [
      "Epoch:383/1000.. Train Loss: 0.022.. Val Loss: 0.079.. Test Loss: 0.044.. Time: 0.03m\n"
     ]
    },
    {
     "name": "stderr",
     "output_type": "stream",
     "text": [
      "100%|██████████| 107/107 [00:01<00:00, 74.42it/s]\n",
      "100%|██████████| 18/18 [00:00<00:00, 325.29it/s]\n",
      "100%|██████████| 53/53 [00:00<00:00, 325.89it/s]\n"
     ]
    },
    {
     "name": "stdout",
     "output_type": "stream",
     "text": [
      "Epoch:384/1000.. Train Loss: 0.023.. Val Loss: 0.087.. Test Loss: 0.047.. Time: 0.03m\n"
     ]
    },
    {
     "name": "stderr",
     "output_type": "stream",
     "text": [
      "100%|██████████| 107/107 [00:01<00:00, 74.76it/s]\n",
      "100%|██████████| 18/18 [00:00<00:00, 326.33it/s]\n",
      "100%|██████████| 53/53 [00:00<00:00, 331.36it/s]\n"
     ]
    },
    {
     "name": "stdout",
     "output_type": "stream",
     "text": [
      "Epoch:385/1000.. Train Loss: 0.021.. Val Loss: 0.087.. Test Loss: 0.052.. Time: 0.03m\n"
     ]
    },
    {
     "name": "stderr",
     "output_type": "stream",
     "text": [
      "100%|██████████| 107/107 [00:01<00:00, 74.23it/s]\n",
      "100%|██████████| 18/18 [00:00<00:00, 333.23it/s]\n",
      "100%|██████████| 53/53 [00:00<00:00, 330.63it/s]\n"
     ]
    },
    {
     "name": "stdout",
     "output_type": "stream",
     "text": [
      "Epoch:386/1000.. Train Loss: 0.022.. Val Loss: 0.098.. Test Loss: 0.053.. Time: 0.03m\n"
     ]
    },
    {
     "name": "stderr",
     "output_type": "stream",
     "text": [
      "100%|██████████| 107/107 [00:01<00:00, 74.36it/s]\n",
      "100%|██████████| 18/18 [00:00<00:00, 322.90it/s]\n",
      "100%|██████████| 53/53 [00:00<00:00, 331.30it/s]\n"
     ]
    },
    {
     "name": "stdout",
     "output_type": "stream",
     "text": [
      "Epoch:387/1000.. Train Loss: 0.020.. Val Loss: 0.083.. Test Loss: 0.053.. Time: 0.03m\n"
     ]
    },
    {
     "name": "stderr",
     "output_type": "stream",
     "text": [
      "100%|██████████| 107/107 [00:01<00:00, 74.40it/s]\n",
      "100%|██████████| 18/18 [00:00<00:00, 330.35it/s]\n",
      "100%|██████████| 53/53 [00:00<00:00, 332.35it/s]\n"
     ]
    },
    {
     "name": "stdout",
     "output_type": "stream",
     "text": [
      "Epoch:388/1000.. Train Loss: 0.021.. Val Loss: 0.081.. Test Loss: 0.061.. Time: 0.03m\n"
     ]
    },
    {
     "name": "stderr",
     "output_type": "stream",
     "text": [
      "100%|██████████| 107/107 [00:01<00:00, 74.53it/s]\n",
      "100%|██████████| 18/18 [00:00<00:00, 329.47it/s]\n",
      "100%|██████████| 53/53 [00:00<00:00, 329.28it/s]\n"
     ]
    },
    {
     "name": "stdout",
     "output_type": "stream",
     "text": [
      "Epoch:389/1000.. Train Loss: 0.022.. Val Loss: 0.087.. Test Loss: 0.058.. Time: 0.03m\n"
     ]
    },
    {
     "name": "stderr",
     "output_type": "stream",
     "text": [
      "100%|██████████| 107/107 [00:01<00:00, 74.64it/s]\n",
      "100%|██████████| 18/18 [00:00<00:00, 324.93it/s]\n",
      "100%|██████████| 53/53 [00:00<00:00, 329.78it/s]\n"
     ]
    },
    {
     "name": "stdout",
     "output_type": "stream",
     "text": [
      "Epoch:390/1000.. Train Loss: 0.024.. Val Loss: 0.084.. Test Loss: 0.056.. Time: 0.03m\n"
     ]
    },
    {
     "name": "stderr",
     "output_type": "stream",
     "text": [
      "100%|██████████| 107/107 [00:01<00:00, 74.04it/s]\n",
      "100%|██████████| 18/18 [00:00<00:00, 331.98it/s]\n",
      "100%|██████████| 53/53 [00:00<00:00, 330.70it/s]\n"
     ]
    },
    {
     "name": "stdout",
     "output_type": "stream",
     "text": [
      "Epoch:391/1000.. Train Loss: 0.022.. Val Loss: 0.081.. Test Loss: 0.055.. Time: 0.03m\n"
     ]
    },
    {
     "name": "stderr",
     "output_type": "stream",
     "text": [
      "100%|██████████| 107/107 [00:01<00:00, 74.40it/s]\n",
      "100%|██████████| 18/18 [00:00<00:00, 334.99it/s]\n",
      "100%|██████████| 53/53 [00:00<00:00, 335.00it/s]\n"
     ]
    },
    {
     "name": "stdout",
     "output_type": "stream",
     "text": [
      "Epoch:392/1000.. Train Loss: 0.022.. Val Loss: 0.084.. Test Loss: 0.048.. Time: 0.03m\n"
     ]
    },
    {
     "name": "stderr",
     "output_type": "stream",
     "text": [
      "100%|██████████| 107/107 [00:01<00:00, 74.61it/s]\n",
      "100%|██████████| 18/18 [00:00<00:00, 334.38it/s]\n",
      "100%|██████████| 53/53 [00:00<00:00, 328.60it/s]\n"
     ]
    },
    {
     "name": "stdout",
     "output_type": "stream",
     "text": [
      "Epoch:393/1000.. Train Loss: 0.020.. Val Loss: 0.088.. Test Loss: 0.055.. Time: 0.03m\n"
     ]
    },
    {
     "name": "stderr",
     "output_type": "stream",
     "text": [
      "100%|██████████| 107/107 [00:01<00:00, 74.46it/s]\n",
      "100%|██████████| 18/18 [00:00<00:00, 330.87it/s]\n",
      "100%|██████████| 53/53 [00:00<00:00, 331.33it/s]\n"
     ]
    },
    {
     "name": "stdout",
     "output_type": "stream",
     "text": [
      "Epoch:394/1000.. Train Loss: 0.021.. Val Loss: 0.086.. Test Loss: 0.055.. Time: 0.03m\n"
     ]
    },
    {
     "name": "stderr",
     "output_type": "stream",
     "text": [
      "100%|██████████| 107/107 [00:01<00:00, 74.34it/s]\n",
      "100%|██████████| 18/18 [00:00<00:00, 333.83it/s]\n",
      "100%|██████████| 53/53 [00:00<00:00, 333.18it/s]\n"
     ]
    },
    {
     "name": "stdout",
     "output_type": "stream",
     "text": [
      "Epoch:395/1000.. Train Loss: 0.022.. Val Loss: 0.079.. Test Loss: 0.049.. Time: 0.03m\n"
     ]
    },
    {
     "name": "stderr",
     "output_type": "stream",
     "text": [
      "100%|██████████| 107/107 [00:01<00:00, 74.31it/s]\n",
      "100%|██████████| 18/18 [00:00<00:00, 328.22it/s]\n",
      "100%|██████████| 53/53 [00:00<00:00, 332.52it/s]\n"
     ]
    },
    {
     "name": "stdout",
     "output_type": "stream",
     "text": [
      "Epoch:396/1000.. Train Loss: 0.020.. Val Loss: 0.083.. Test Loss: 0.051.. Time: 0.03m\n"
     ]
    },
    {
     "name": "stderr",
     "output_type": "stream",
     "text": [
      "100%|██████████| 107/107 [00:01<00:00, 74.72it/s]\n",
      "100%|██████████| 18/18 [00:00<00:00, 327.51it/s]\n",
      "100%|██████████| 53/53 [00:00<00:00, 330.89it/s]\n"
     ]
    },
    {
     "name": "stdout",
     "output_type": "stream",
     "text": [
      "Epoch:397/1000.. Train Loss: 0.020.. Val Loss: 0.093.. Test Loss: 0.051.. Time: 0.03m\n"
     ]
    },
    {
     "name": "stderr",
     "output_type": "stream",
     "text": [
      "100%|██████████| 107/107 [00:01<00:00, 74.10it/s]\n",
      "100%|██████████| 18/18 [00:00<00:00, 325.49it/s]\n",
      "100%|██████████| 53/53 [00:00<00:00, 327.75it/s]\n"
     ]
    },
    {
     "name": "stdout",
     "output_type": "stream",
     "text": [
      "Epoch:398/1000.. Train Loss: 0.019.. Val Loss: 0.085.. Test Loss: 0.054.. Time: 0.03m\n"
     ]
    },
    {
     "name": "stderr",
     "output_type": "stream",
     "text": [
      "100%|██████████| 107/107 [00:01<00:00, 74.35it/s]\n",
      "100%|██████████| 18/18 [00:00<00:00, 321.95it/s]\n",
      "100%|██████████| 53/53 [00:00<00:00, 330.70it/s]\n"
     ]
    },
    {
     "name": "stdout",
     "output_type": "stream",
     "text": [
      "Epoch:399/1000.. Train Loss: 0.020.. Val Loss: 0.096.. Test Loss: 0.053.. Time: 0.03m\n"
     ]
    },
    {
     "name": "stderr",
     "output_type": "stream",
     "text": [
      "100%|██████████| 107/107 [00:01<00:00, 74.41it/s]\n",
      "100%|██████████| 18/18 [00:00<00:00, 326.93it/s]\n",
      "100%|██████████| 53/53 [00:00<00:00, 332.08it/s]\n"
     ]
    },
    {
     "name": "stdout",
     "output_type": "stream",
     "text": [
      "Epoch:400/1000.. Train Loss: 0.021.. Val Loss: 0.080.. Test Loss: 0.051.. Time: 0.03m\n"
     ]
    },
    {
     "name": "stderr",
     "output_type": "stream",
     "text": [
      "100%|██████████| 107/107 [00:01<00:00, 74.41it/s]\n",
      "100%|██████████| 18/18 [00:00<00:00, 331.36it/s]\n",
      "100%|██████████| 53/53 [00:00<00:00, 328.66it/s]\n"
     ]
    },
    {
     "name": "stdout",
     "output_type": "stream",
     "text": [
      "Epoch:401/1000.. Train Loss: 0.021.. Val Loss: 0.088.. Test Loss: 0.054.. Time: 0.03m\n"
     ]
    },
    {
     "name": "stderr",
     "output_type": "stream",
     "text": [
      "100%|██████████| 107/107 [00:01<00:00, 74.18it/s]\n",
      "100%|██████████| 18/18 [00:00<00:00, 326.12it/s]\n",
      "100%|██████████| 53/53 [00:00<00:00, 327.05it/s]\n"
     ]
    },
    {
     "name": "stdout",
     "output_type": "stream",
     "text": [
      "Epoch:402/1000.. Train Loss: 0.021.. Val Loss: 0.084.. Test Loss: 0.051.. Time: 0.03m\n"
     ]
    },
    {
     "name": "stderr",
     "output_type": "stream",
     "text": [
      "100%|██████████| 107/107 [00:01<00:00, 74.72it/s]\n",
      "100%|██████████| 18/18 [00:00<00:00, 326.61it/s]\n",
      "100%|██████████| 53/53 [00:00<00:00, 329.70it/s]\n"
     ]
    },
    {
     "name": "stdout",
     "output_type": "stream",
     "text": [
      "Epoch:403/1000.. Train Loss: 0.022.. Val Loss: 0.081.. Test Loss: 0.049.. Time: 0.03m\n"
     ]
    },
    {
     "name": "stderr",
     "output_type": "stream",
     "text": [
      "100%|██████████| 107/107 [00:01<00:00, 74.29it/s]\n",
      "100%|██████████| 18/18 [00:00<00:00, 325.16it/s]\n",
      "100%|██████████| 53/53 [00:00<00:00, 333.95it/s]\n"
     ]
    },
    {
     "name": "stdout",
     "output_type": "stream",
     "text": [
      "Epoch:404/1000.. Train Loss: 0.021.. Val Loss: 0.081.. Test Loss: 0.051.. Time: 0.03m\n"
     ]
    },
    {
     "name": "stderr",
     "output_type": "stream",
     "text": [
      "100%|██████████| 107/107 [00:01<00:00, 74.26it/s]\n",
      "100%|██████████| 18/18 [00:00<00:00, 327.43it/s]\n",
      "100%|██████████| 53/53 [00:00<00:00, 328.47it/s]\n"
     ]
    },
    {
     "name": "stdout",
     "output_type": "stream",
     "text": [
      "Epoch:405/1000.. Train Loss: 0.022.. Val Loss: 0.082.. Test Loss: 0.052.. Time: 0.03m\n"
     ]
    },
    {
     "name": "stderr",
     "output_type": "stream",
     "text": [
      "100%|██████████| 107/107 [00:01<00:00, 74.16it/s]\n",
      "100%|██████████| 18/18 [00:00<00:00, 317.51it/s]\n",
      "100%|██████████| 53/53 [00:00<00:00, 334.57it/s]\n"
     ]
    },
    {
     "name": "stdout",
     "output_type": "stream",
     "text": [
      "Epoch:406/1000.. Train Loss: 0.022.. Val Loss: 0.082.. Test Loss: 0.054.. Time: 0.03m\n"
     ]
    },
    {
     "name": "stderr",
     "output_type": "stream",
     "text": [
      "100%|██████████| 107/107 [00:01<00:00, 74.25it/s]\n",
      "100%|██████████| 18/18 [00:00<00:00, 332.70it/s]\n",
      "100%|██████████| 53/53 [00:00<00:00, 329.99it/s]\n"
     ]
    },
    {
     "name": "stdout",
     "output_type": "stream",
     "text": [
      "Epoch:407/1000.. Train Loss: 0.021.. Val Loss: 0.085.. Test Loss: 0.052.. Time: 0.03m\n"
     ]
    },
    {
     "name": "stderr",
     "output_type": "stream",
     "text": [
      "100%|██████████| 107/107 [00:01<00:00, 74.18it/s]\n",
      "100%|██████████| 18/18 [00:00<00:00, 329.87it/s]\n",
      "100%|██████████| 53/53 [00:00<00:00, 330.03it/s]\n"
     ]
    },
    {
     "name": "stdout",
     "output_type": "stream",
     "text": [
      "Epoch:408/1000.. Train Loss: 0.020.. Val Loss: 0.091.. Test Loss: 0.051.. Time: 0.03m\n"
     ]
    },
    {
     "name": "stderr",
     "output_type": "stream",
     "text": [
      "100%|██████████| 107/107 [00:01<00:00, 74.13it/s]\n",
      "100%|██████████| 18/18 [00:00<00:00, 326.36it/s]\n",
      "100%|██████████| 53/53 [00:00<00:00, 296.43it/s]\n"
     ]
    },
    {
     "name": "stdout",
     "output_type": "stream",
     "text": [
      "Epoch:409/1000.. Train Loss: 0.021.. Val Loss: 0.088.. Test Loss: 0.048.. Time: 0.03m\n"
     ]
    },
    {
     "name": "stderr",
     "output_type": "stream",
     "text": [
      "100%|██████████| 107/107 [00:01<00:00, 74.55it/s]\n",
      "100%|██████████| 18/18 [00:00<00:00, 335.37it/s]\n",
      "100%|██████████| 53/53 [00:00<00:00, 327.75it/s]\n"
     ]
    },
    {
     "name": "stdout",
     "output_type": "stream",
     "text": [
      "Epoch:410/1000.. Train Loss: 0.020.. Val Loss: 0.104.. Test Loss: 0.054.. Time: 0.03m\n"
     ]
    },
    {
     "name": "stderr",
     "output_type": "stream",
     "text": [
      "100%|██████████| 107/107 [00:01<00:00, 74.32it/s]\n",
      "100%|██████████| 18/18 [00:00<00:00, 333.43it/s]\n",
      "100%|██████████| 53/53 [00:00<00:00, 325.63it/s]\n"
     ]
    },
    {
     "name": "stdout",
     "output_type": "stream",
     "text": [
      "Epoch:411/1000.. Train Loss: 0.023.. Val Loss: 0.093.. Test Loss: 0.050.. Time: 0.03m\n"
     ]
    },
    {
     "name": "stderr",
     "output_type": "stream",
     "text": [
      "100%|██████████| 107/107 [00:01<00:00, 74.48it/s]\n",
      "100%|██████████| 18/18 [00:00<00:00, 317.58it/s]\n",
      "100%|██████████| 53/53 [00:00<00:00, 326.14it/s]\n"
     ]
    },
    {
     "name": "stdout",
     "output_type": "stream",
     "text": [
      "Epoch:412/1000.. Train Loss: 0.020.. Val Loss: 0.087.. Test Loss: 0.049.. Time: 0.03m\n"
     ]
    },
    {
     "name": "stderr",
     "output_type": "stream",
     "text": [
      "100%|██████████| 107/107 [00:01<00:00, 74.30it/s]\n",
      "100%|██████████| 18/18 [00:00<00:00, 332.07it/s]\n",
      "100%|██████████| 53/53 [00:00<00:00, 333.28it/s]\n"
     ]
    },
    {
     "name": "stdout",
     "output_type": "stream",
     "text": [
      "Epoch:413/1000.. Train Loss: 0.020.. Val Loss: 0.093.. Test Loss: 0.050.. Time: 0.03m\n"
     ]
    },
    {
     "name": "stderr",
     "output_type": "stream",
     "text": [
      "100%|██████████| 107/107 [00:01<00:00, 74.28it/s]\n",
      "100%|██████████| 18/18 [00:00<00:00, 333.65it/s]\n",
      "100%|██████████| 53/53 [00:00<00:00, 328.54it/s]\n"
     ]
    },
    {
     "name": "stdout",
     "output_type": "stream",
     "text": [
      "Epoch:414/1000.. Train Loss: 0.023.. Val Loss: 0.084.. Test Loss: 0.052.. Time: 0.03m\n"
     ]
    },
    {
     "name": "stderr",
     "output_type": "stream",
     "text": [
      "100%|██████████| 107/107 [00:01<00:00, 61.23it/s]\n",
      "100%|██████████| 18/18 [00:00<00:00, 263.32it/s]\n",
      "100%|██████████| 53/53 [00:00<00:00, 331.14it/s]\n"
     ]
    },
    {
     "name": "stdout",
     "output_type": "stream",
     "text": [
      "Epoch:415/1000.. Train Loss: 0.022.. Val Loss: 0.089.. Test Loss: 0.052.. Time: 0.03m\n"
     ]
    },
    {
     "name": "stderr",
     "output_type": "stream",
     "text": [
      "100%|██████████| 107/107 [00:01<00:00, 66.58it/s]\n",
      "100%|██████████| 18/18 [00:00<00:00, 321.89it/s]\n",
      "100%|██████████| 53/53 [00:00<00:00, 329.16it/s]\n"
     ]
    },
    {
     "name": "stdout",
     "output_type": "stream",
     "text": [
      "Epoch:416/1000.. Train Loss: 0.021.. Val Loss: 0.089.. Test Loss: 0.053.. Time: 0.03m\n"
     ]
    },
    {
     "name": "stderr",
     "output_type": "stream",
     "text": [
      "100%|██████████| 107/107 [00:01<00:00, 70.52it/s]\n",
      "100%|██████████| 18/18 [00:00<00:00, 318.46it/s]\n",
      "100%|██████████| 53/53 [00:00<00:00, 330.25it/s]\n"
     ]
    },
    {
     "name": "stdout",
     "output_type": "stream",
     "text": [
      "Epoch:417/1000.. Train Loss: 0.021.. Val Loss: 0.088.. Test Loss: 0.049.. Time: 0.03m\n"
     ]
    },
    {
     "name": "stderr",
     "output_type": "stream",
     "text": [
      "100%|██████████| 107/107 [00:01<00:00, 70.31it/s]\n",
      "100%|██████████| 18/18 [00:00<00:00, 276.95it/s]\n",
      "100%|██████████| 53/53 [00:00<00:00, 323.12it/s]\n"
     ]
    },
    {
     "name": "stdout",
     "output_type": "stream",
     "text": [
      "Epoch:418/1000.. Train Loss: 0.022.. Val Loss: 0.086.. Test Loss: 0.053.. Time: 0.03m\n"
     ]
    },
    {
     "name": "stderr",
     "output_type": "stream",
     "text": [
      "100%|██████████| 107/107 [00:01<00:00, 68.92it/s]\n",
      "100%|██████████| 18/18 [00:00<00:00, 329.13it/s]\n",
      "100%|██████████| 53/53 [00:00<00:00, 326.98it/s]\n"
     ]
    },
    {
     "name": "stdout",
     "output_type": "stream",
     "text": [
      "Epoch:419/1000.. Train Loss: 0.019.. Val Loss: 0.093.. Test Loss: 0.057.. Time: 0.03m\n"
     ]
    },
    {
     "name": "stderr",
     "output_type": "stream",
     "text": [
      "100%|██████████| 107/107 [00:01<00:00, 71.74it/s]\n",
      "100%|██████████| 18/18 [00:00<00:00, 330.23it/s]\n",
      "100%|██████████| 53/53 [00:00<00:00, 332.24it/s]\n"
     ]
    },
    {
     "name": "stdout",
     "output_type": "stream",
     "text": [
      "Epoch:420/1000.. Train Loss: 0.020.. Val Loss: 0.091.. Test Loss: 0.059.. Time: 0.03m\n"
     ]
    },
    {
     "name": "stderr",
     "output_type": "stream",
     "text": [
      "100%|██████████| 107/107 [00:01<00:00, 69.87it/s]\n",
      "100%|██████████| 18/18 [00:00<00:00, 324.69it/s]\n",
      "100%|██████████| 53/53 [00:00<00:00, 330.32it/s]\n"
     ]
    },
    {
     "name": "stdout",
     "output_type": "stream",
     "text": [
      "Epoch:421/1000.. Train Loss: 0.021.. Val Loss: 0.084.. Test Loss: 0.057.. Time: 0.03m\n"
     ]
    },
    {
     "name": "stderr",
     "output_type": "stream",
     "text": [
      "100%|██████████| 107/107 [00:01<00:00, 70.90it/s]\n",
      "100%|██████████| 18/18 [00:00<00:00, 322.95it/s]\n",
      "100%|██████████| 53/53 [00:00<00:00, 325.72it/s]\n"
     ]
    },
    {
     "name": "stdout",
     "output_type": "stream",
     "text": [
      "Epoch:422/1000.. Train Loss: 0.026.. Val Loss: 0.094.. Test Loss: 0.059.. Time: 0.03m\n"
     ]
    },
    {
     "name": "stderr",
     "output_type": "stream",
     "text": [
      "100%|██████████| 107/107 [00:01<00:00, 69.36it/s]\n",
      "100%|██████████| 18/18 [00:00<00:00, 324.53it/s]\n",
      "100%|██████████| 53/53 [00:00<00:00, 330.92it/s]\n"
     ]
    },
    {
     "name": "stdout",
     "output_type": "stream",
     "text": [
      "Epoch:423/1000.. Train Loss: 0.021.. Val Loss: 0.085.. Test Loss: 0.056.. Time: 0.03m\n"
     ]
    },
    {
     "name": "stderr",
     "output_type": "stream",
     "text": [
      "100%|██████████| 107/107 [00:01<00:00, 71.69it/s]\n",
      "100%|██████████| 18/18 [00:00<00:00, 327.44it/s]\n",
      "100%|██████████| 53/53 [00:00<00:00, 326.53it/s]\n"
     ]
    },
    {
     "name": "stdout",
     "output_type": "stream",
     "text": [
      "Epoch:424/1000.. Train Loss: 0.020.. Val Loss: 0.089.. Test Loss: 0.051.. Time: 0.03m\n"
     ]
    },
    {
     "name": "stderr",
     "output_type": "stream",
     "text": [
      "100%|██████████| 107/107 [00:01<00:00, 71.16it/s]\n",
      "100%|██████████| 18/18 [00:00<00:00, 330.28it/s]\n",
      "100%|██████████| 53/53 [00:00<00:00, 331.94it/s]\n"
     ]
    },
    {
     "name": "stdout",
     "output_type": "stream",
     "text": [
      "Epoch:425/1000.. Train Loss: 0.020.. Val Loss: 0.086.. Test Loss: 0.051.. Time: 0.03m\n"
     ]
    },
    {
     "name": "stderr",
     "output_type": "stream",
     "text": [
      "100%|██████████| 107/107 [00:01<00:00, 71.60it/s]\n",
      "100%|██████████| 18/18 [00:00<00:00, 321.99it/s]\n",
      "100%|██████████| 53/53 [00:00<00:00, 329.99it/s]\n"
     ]
    },
    {
     "name": "stdout",
     "output_type": "stream",
     "text": [
      "Epoch:426/1000.. Train Loss: 0.022.. Val Loss: 0.100.. Test Loss: 0.052.. Time: 0.03m\n"
     ]
    },
    {
     "name": "stderr",
     "output_type": "stream",
     "text": [
      "100%|██████████| 107/107 [00:01<00:00, 70.07it/s]\n",
      "100%|██████████| 18/18 [00:00<00:00, 326.91it/s]\n",
      "100%|██████████| 53/53 [00:00<00:00, 320.45it/s]\n"
     ]
    },
    {
     "name": "stdout",
     "output_type": "stream",
     "text": [
      "Epoch:427/1000.. Train Loss: 0.021.. Val Loss: 0.084.. Test Loss: 0.050.. Time: 0.03m\n"
     ]
    },
    {
     "name": "stderr",
     "output_type": "stream",
     "text": [
      "100%|██████████| 107/107 [00:01<00:00, 69.41it/s]\n",
      "100%|██████████| 18/18 [00:00<00:00, 333.48it/s]\n",
      "100%|██████████| 53/53 [00:00<00:00, 319.96it/s]\n"
     ]
    },
    {
     "name": "stdout",
     "output_type": "stream",
     "text": [
      "Epoch:428/1000.. Train Loss: 0.019.. Val Loss: 0.086.. Test Loss: 0.054.. Time: 0.03m\n"
     ]
    },
    {
     "name": "stderr",
     "output_type": "stream",
     "text": [
      "100%|██████████| 107/107 [00:01<00:00, 68.75it/s]\n",
      "100%|██████████| 18/18 [00:00<00:00, 258.59it/s]\n",
      "100%|██████████| 53/53 [00:00<00:00, 325.39it/s]\n"
     ]
    },
    {
     "name": "stdout",
     "output_type": "stream",
     "text": [
      "Epoch:429/1000.. Train Loss: 0.020.. Val Loss: 0.086.. Test Loss: 0.051.. Time: 0.03m\n"
     ]
    },
    {
     "name": "stderr",
     "output_type": "stream",
     "text": [
      "100%|██████████| 107/107 [00:01<00:00, 67.90it/s]\n",
      "100%|██████████| 18/18 [00:00<00:00, 288.78it/s]\n",
      "100%|██████████| 53/53 [00:00<00:00, 316.53it/s]\n"
     ]
    },
    {
     "name": "stdout",
     "output_type": "stream",
     "text": [
      "Epoch:430/1000.. Train Loss: 0.020.. Val Loss: 0.090.. Test Loss: 0.048.. Time: 0.03m\n"
     ]
    },
    {
     "name": "stderr",
     "output_type": "stream",
     "text": [
      "100%|██████████| 107/107 [00:01<00:00, 60.43it/s]\n",
      "100%|██████████| 18/18 [00:00<00:00, 322.84it/s]\n",
      "100%|██████████| 53/53 [00:00<00:00, 331.81it/s]\n"
     ]
    },
    {
     "name": "stdout",
     "output_type": "stream",
     "text": [
      "Epoch:431/1000.. Train Loss: 0.019.. Val Loss: 0.096.. Test Loss: 0.060.. Time: 0.03m\n"
     ]
    },
    {
     "name": "stderr",
     "output_type": "stream",
     "text": [
      "100%|██████████| 107/107 [00:01<00:00, 71.75it/s]\n",
      "100%|██████████| 18/18 [00:00<00:00, 326.48it/s]\n",
      "100%|██████████| 53/53 [00:00<00:00, 334.68it/s]\n"
     ]
    },
    {
     "name": "stdout",
     "output_type": "stream",
     "text": [
      "Epoch:432/1000.. Train Loss: 0.020.. Val Loss: 0.092.. Test Loss: 0.060.. Time: 0.03m\n"
     ]
    },
    {
     "name": "stderr",
     "output_type": "stream",
     "text": [
      "100%|██████████| 107/107 [00:01<00:00, 69.12it/s]\n",
      "100%|██████████| 18/18 [00:00<00:00, 331.91it/s]\n",
      "100%|██████████| 53/53 [00:00<00:00, 334.12it/s]\n"
     ]
    },
    {
     "name": "stdout",
     "output_type": "stream",
     "text": [
      "Epoch:433/1000.. Train Loss: 0.021.. Val Loss: 0.092.. Test Loss: 0.056.. Time: 0.03m\n"
     ]
    },
    {
     "name": "stderr",
     "output_type": "stream",
     "text": [
      "100%|██████████| 107/107 [00:01<00:00, 66.40it/s]\n",
      "100%|██████████| 18/18 [00:00<00:00, 327.95it/s]\n",
      "100%|██████████| 53/53 [00:00<00:00, 329.80it/s]\n"
     ]
    },
    {
     "name": "stdout",
     "output_type": "stream",
     "text": [
      "Epoch:434/1000.. Train Loss: 0.019.. Val Loss: 0.082.. Test Loss: 0.055.. Time: 0.03m\n"
     ]
    },
    {
     "name": "stderr",
     "output_type": "stream",
     "text": [
      "100%|██████████| 107/107 [00:01<00:00, 68.47it/s]\n",
      "100%|██████████| 18/18 [00:00<00:00, 321.96it/s]\n",
      "100%|██████████| 53/53 [00:00<00:00, 319.83it/s]\n"
     ]
    },
    {
     "name": "stdout",
     "output_type": "stream",
     "text": [
      "Epoch:435/1000.. Train Loss: 0.019.. Val Loss: 0.098.. Test Loss: 0.055.. Time: 0.03m\n"
     ]
    },
    {
     "name": "stderr",
     "output_type": "stream",
     "text": [
      "100%|██████████| 107/107 [00:01<00:00, 68.14it/s]\n",
      "100%|██████████| 18/18 [00:00<00:00, 322.28it/s]\n",
      "100%|██████████| 53/53 [00:00<00:00, 332.09it/s]\n"
     ]
    },
    {
     "name": "stdout",
     "output_type": "stream",
     "text": [
      "Epoch:436/1000.. Train Loss: 0.019.. Val Loss: 0.104.. Test Loss: 0.053.. Time: 0.03m\n"
     ]
    },
    {
     "name": "stderr",
     "output_type": "stream",
     "text": [
      "100%|██████████| 107/107 [00:01<00:00, 69.85it/s]\n",
      "100%|██████████| 18/18 [00:00<00:00, 327.44it/s]\n",
      "100%|██████████| 53/53 [00:00<00:00, 332.97it/s]\n"
     ]
    },
    {
     "name": "stdout",
     "output_type": "stream",
     "text": [
      "Epoch:437/1000.. Train Loss: 0.019.. Val Loss: 0.087.. Test Loss: 0.052.. Time: 0.03m\n"
     ]
    },
    {
     "name": "stderr",
     "output_type": "stream",
     "text": [
      "100%|██████████| 107/107 [00:01<00:00, 68.88it/s]\n",
      "100%|██████████| 18/18 [00:00<00:00, 326.94it/s]\n",
      "100%|██████████| 53/53 [00:00<00:00, 334.05it/s]\n"
     ]
    },
    {
     "name": "stdout",
     "output_type": "stream",
     "text": [
      "Epoch:438/1000.. Train Loss: 0.021.. Val Loss: 0.087.. Test Loss: 0.051.. Time: 0.03m\n"
     ]
    },
    {
     "name": "stderr",
     "output_type": "stream",
     "text": [
      "100%|██████████| 107/107 [00:01<00:00, 69.82it/s]\n",
      "100%|██████████| 18/18 [00:00<00:00, 331.59it/s]\n",
      "100%|██████████| 53/53 [00:00<00:00, 328.37it/s]\n"
     ]
    },
    {
     "name": "stdout",
     "output_type": "stream",
     "text": [
      "Epoch:439/1000.. Train Loss: 0.020.. Val Loss: 0.089.. Test Loss: 0.056.. Time: 0.03m\n"
     ]
    },
    {
     "name": "stderr",
     "output_type": "stream",
     "text": [
      "100%|██████████| 107/107 [00:01<00:00, 68.61it/s]\n",
      "100%|██████████| 18/18 [00:00<00:00, 325.99it/s]\n",
      "100%|██████████| 53/53 [00:00<00:00, 323.29it/s]\n"
     ]
    },
    {
     "name": "stdout",
     "output_type": "stream",
     "text": [
      "Epoch:440/1000.. Train Loss: 0.019.. Val Loss: 0.091.. Test Loss: 0.057.. Time: 0.03m\n"
     ]
    },
    {
     "name": "stderr",
     "output_type": "stream",
     "text": [
      "100%|██████████| 107/107 [00:01<00:00, 67.51it/s]\n",
      "100%|██████████| 18/18 [00:00<00:00, 326.37it/s]\n",
      "100%|██████████| 53/53 [00:00<00:00, 326.27it/s]\n"
     ]
    },
    {
     "name": "stdout",
     "output_type": "stream",
     "text": [
      "Epoch:441/1000.. Train Loss: 0.020.. Val Loss: 0.094.. Test Loss: 0.057.. Time: 0.03m\n"
     ]
    },
    {
     "name": "stderr",
     "output_type": "stream",
     "text": [
      "100%|██████████| 107/107 [00:01<00:00, 70.78it/s]\n",
      "100%|██████████| 18/18 [00:00<00:00, 325.20it/s]\n",
      "100%|██████████| 53/53 [00:00<00:00, 323.11it/s]\n"
     ]
    },
    {
     "name": "stdout",
     "output_type": "stream",
     "text": [
      "Epoch:442/1000.. Train Loss: 0.019.. Val Loss: 0.093.. Test Loss: 0.054.. Time: 0.03m\n"
     ]
    },
    {
     "name": "stderr",
     "output_type": "stream",
     "text": [
      "100%|██████████| 107/107 [00:01<00:00, 69.34it/s]\n",
      "100%|██████████| 18/18 [00:00<00:00, 328.53it/s]\n",
      "100%|██████████| 53/53 [00:00<00:00, 328.76it/s]\n"
     ]
    },
    {
     "name": "stdout",
     "output_type": "stream",
     "text": [
      "Epoch:443/1000.. Train Loss: 0.020.. Val Loss: 0.088.. Test Loss: 0.056.. Time: 0.03m\n"
     ]
    },
    {
     "name": "stderr",
     "output_type": "stream",
     "text": [
      "100%|██████████| 107/107 [00:01<00:00, 69.67it/s]\n",
      "100%|██████████| 18/18 [00:00<00:00, 329.48it/s]\n",
      "100%|██████████| 53/53 [00:00<00:00, 324.13it/s]\n"
     ]
    },
    {
     "name": "stdout",
     "output_type": "stream",
     "text": [
      "Epoch:444/1000.. Train Loss: 0.018.. Val Loss: 0.098.. Test Loss: 0.057.. Time: 0.03m\n"
     ]
    },
    {
     "name": "stderr",
     "output_type": "stream",
     "text": [
      "100%|██████████| 107/107 [00:01<00:00, 68.93it/s]\n",
      "100%|██████████| 18/18 [00:00<00:00, 326.96it/s]\n",
      "100%|██████████| 53/53 [00:00<00:00, 328.21it/s]\n"
     ]
    },
    {
     "name": "stdout",
     "output_type": "stream",
     "text": [
      "Epoch:445/1000.. Train Loss: 0.020.. Val Loss: 0.086.. Test Loss: 0.062.. Time: 0.03m\n"
     ]
    },
    {
     "name": "stderr",
     "output_type": "stream",
     "text": [
      "100%|██████████| 107/107 [00:01<00:00, 70.10it/s]\n",
      "100%|██████████| 18/18 [00:00<00:00, 320.22it/s]\n",
      "100%|██████████| 53/53 [00:00<00:00, 323.68it/s]\n"
     ]
    },
    {
     "name": "stdout",
     "output_type": "stream",
     "text": [
      "Epoch:446/1000.. Train Loss: 0.018.. Val Loss: 0.088.. Test Loss: 0.059.. Time: 0.03m\n"
     ]
    },
    {
     "name": "stderr",
     "output_type": "stream",
     "text": [
      "100%|██████████| 107/107 [00:01<00:00, 69.84it/s]\n",
      "100%|██████████| 18/18 [00:00<00:00, 318.16it/s]\n",
      "100%|██████████| 53/53 [00:00<00:00, 324.13it/s]\n"
     ]
    },
    {
     "name": "stdout",
     "output_type": "stream",
     "text": [
      "Epoch:447/1000.. Train Loss: 0.020.. Val Loss: 0.088.. Test Loss: 0.054.. Time: 0.03m\n"
     ]
    },
    {
     "name": "stderr",
     "output_type": "stream",
     "text": [
      "100%|██████████| 107/107 [00:01<00:00, 69.86it/s]\n",
      "100%|██████████| 18/18 [00:00<00:00, 327.21it/s]\n",
      "100%|██████████| 53/53 [00:00<00:00, 322.97it/s]\n"
     ]
    },
    {
     "name": "stdout",
     "output_type": "stream",
     "text": [
      "Epoch:448/1000.. Train Loss: 0.017.. Val Loss: 0.089.. Test Loss: 0.055.. Time: 0.03m\n"
     ]
    },
    {
     "name": "stderr",
     "output_type": "stream",
     "text": [
      "100%|██████████| 107/107 [00:01<00:00, 69.96it/s]\n",
      "100%|██████████| 18/18 [00:00<00:00, 318.28it/s]\n",
      "100%|██████████| 53/53 [00:00<00:00, 323.24it/s]\n"
     ]
    },
    {
     "name": "stdout",
     "output_type": "stream",
     "text": [
      "Epoch:449/1000.. Train Loss: 0.019.. Val Loss: 0.091.. Test Loss: 0.057.. Time: 0.03m\n"
     ]
    },
    {
     "name": "stderr",
     "output_type": "stream",
     "text": [
      "100%|██████████| 107/107 [00:01<00:00, 69.94it/s]\n",
      "100%|██████████| 18/18 [00:00<00:00, 319.10it/s]\n",
      "100%|██████████| 53/53 [00:00<00:00, 322.08it/s]\n"
     ]
    },
    {
     "name": "stdout",
     "output_type": "stream",
     "text": [
      "Epoch:450/1000.. Train Loss: 0.019.. Val Loss: 0.089.. Test Loss: 0.057.. Time: 0.03m\n"
     ]
    },
    {
     "name": "stderr",
     "output_type": "stream",
     "text": [
      "100%|██████████| 107/107 [00:01<00:00, 69.99it/s]\n",
      "100%|██████████| 18/18 [00:00<00:00, 321.99it/s]\n",
      "100%|██████████| 53/53 [00:00<00:00, 325.76it/s]\n"
     ]
    },
    {
     "name": "stdout",
     "output_type": "stream",
     "text": [
      "Epoch:451/1000.. Train Loss: 0.017.. Val Loss: 0.080.. Test Loss: 0.061.. Time: 0.03m\n"
     ]
    },
    {
     "name": "stderr",
     "output_type": "stream",
     "text": [
      "100%|██████████| 107/107 [00:01<00:00, 70.88it/s]\n",
      "100%|██████████| 18/18 [00:00<00:00, 325.89it/s]\n",
      "100%|██████████| 53/53 [00:00<00:00, 324.47it/s]\n"
     ]
    },
    {
     "name": "stdout",
     "output_type": "stream",
     "text": [
      "Epoch:452/1000.. Train Loss: 0.019.. Val Loss: 0.093.. Test Loss: 0.056.. Time: 0.03m\n"
     ]
    },
    {
     "name": "stderr",
     "output_type": "stream",
     "text": [
      "100%|██████████| 107/107 [00:01<00:00, 65.11it/s]\n",
      "100%|██████████| 18/18 [00:00<00:00, 332.43it/s]\n",
      "100%|██████████| 53/53 [00:00<00:00, 322.12it/s]\n"
     ]
    },
    {
     "name": "stdout",
     "output_type": "stream",
     "text": [
      "Epoch:453/1000.. Train Loss: 0.018.. Val Loss: 0.091.. Test Loss: 0.058.. Time: 0.03m\n"
     ]
    },
    {
     "name": "stderr",
     "output_type": "stream",
     "text": [
      "100%|██████████| 107/107 [00:01<00:00, 69.14it/s]\n",
      "100%|██████████| 18/18 [00:00<00:00, 323.72it/s]\n",
      "100%|██████████| 53/53 [00:00<00:00, 325.52it/s]\n"
     ]
    },
    {
     "name": "stdout",
     "output_type": "stream",
     "text": [
      "Epoch:454/1000.. Train Loss: 0.017.. Val Loss: 0.084.. Test Loss: 0.057.. Time: 0.03m\n"
     ]
    },
    {
     "name": "stderr",
     "output_type": "stream",
     "text": [
      "100%|██████████| 107/107 [00:01<00:00, 70.48it/s]\n",
      "100%|██████████| 18/18 [00:00<00:00, 325.71it/s]\n",
      "100%|██████████| 53/53 [00:00<00:00, 326.99it/s]\n"
     ]
    },
    {
     "name": "stdout",
     "output_type": "stream",
     "text": [
      "Epoch:455/1000.. Train Loss: 0.018.. Val Loss: 0.092.. Test Loss: 0.063.. Time: 0.03m\n"
     ]
    },
    {
     "name": "stderr",
     "output_type": "stream",
     "text": [
      "100%|██████████| 107/107 [00:01<00:00, 69.63it/s]\n",
      "100%|██████████| 18/18 [00:00<00:00, 326.17it/s]\n",
      "100%|██████████| 53/53 [00:00<00:00, 326.77it/s]\n"
     ]
    },
    {
     "name": "stdout",
     "output_type": "stream",
     "text": [
      "Epoch:456/1000.. Train Loss: 0.021.. Val Loss: 0.084.. Test Loss: 0.048.. Time: 0.03m\n"
     ]
    },
    {
     "name": "stderr",
     "output_type": "stream",
     "text": [
      "100%|██████████| 107/107 [00:01<00:00, 67.22it/s]\n",
      "100%|██████████| 18/18 [00:00<00:00, 325.71it/s]\n",
      "100%|██████████| 53/53 [00:00<00:00, 292.37it/s]\n"
     ]
    },
    {
     "name": "stdout",
     "output_type": "stream",
     "text": [
      "Epoch:457/1000.. Train Loss: 0.020.. Val Loss: 0.100.. Test Loss: 0.054.. Time: 0.03m\n"
     ]
    },
    {
     "name": "stderr",
     "output_type": "stream",
     "text": [
      "100%|██████████| 107/107 [00:01<00:00, 69.91it/s]\n",
      "100%|██████████| 18/18 [00:00<00:00, 325.65it/s]\n",
      "100%|██████████| 53/53 [00:00<00:00, 319.65it/s]\n"
     ]
    },
    {
     "name": "stdout",
     "output_type": "stream",
     "text": [
      "Epoch:458/1000.. Train Loss: 0.019.. Val Loss: 0.089.. Test Loss: 0.055.. Time: 0.03m\n"
     ]
    },
    {
     "name": "stderr",
     "output_type": "stream",
     "text": [
      "100%|██████████| 107/107 [00:01<00:00, 67.12it/s]\n",
      "100%|██████████| 18/18 [00:00<00:00, 324.24it/s]\n",
      "100%|██████████| 53/53 [00:00<00:00, 328.61it/s]\n"
     ]
    },
    {
     "name": "stdout",
     "output_type": "stream",
     "text": [
      "Epoch:459/1000.. Train Loss: 0.021.. Val Loss: 0.081.. Test Loss: 0.051.. Time: 0.03m\n"
     ]
    },
    {
     "name": "stderr",
     "output_type": "stream",
     "text": [
      "100%|██████████| 107/107 [00:01<00:00, 71.66it/s]\n",
      "100%|██████████| 18/18 [00:00<00:00, 328.68it/s]\n",
      "100%|██████████| 53/53 [00:00<00:00, 332.92it/s]\n"
     ]
    },
    {
     "name": "stdout",
     "output_type": "stream",
     "text": [
      "Epoch:460/1000.. Train Loss: 0.018.. Val Loss: 0.084.. Test Loss: 0.054.. Time: 0.03m\n"
     ]
    },
    {
     "name": "stderr",
     "output_type": "stream",
     "text": [
      "100%|██████████| 107/107 [00:01<00:00, 70.91it/s]\n",
      "100%|██████████| 18/18 [00:00<00:00, 327.36it/s]\n",
      "100%|██████████| 53/53 [00:00<00:00, 327.34it/s]\n"
     ]
    },
    {
     "name": "stdout",
     "output_type": "stream",
     "text": [
      "Epoch:461/1000.. Train Loss: 0.018.. Val Loss: 0.079.. Test Loss: 0.054.. Time: 0.03m\n"
     ]
    },
    {
     "name": "stderr",
     "output_type": "stream",
     "text": [
      "100%|██████████| 107/107 [00:01<00:00, 71.46it/s]\n",
      "100%|██████████| 18/18 [00:00<00:00, 331.48it/s]\n",
      "100%|██████████| 53/53 [00:00<00:00, 322.23it/s]\n"
     ]
    },
    {
     "name": "stdout",
     "output_type": "stream",
     "text": [
      "Epoch:462/1000.. Train Loss: 0.016.. Val Loss: 0.098.. Test Loss: 0.062.. Time: 0.03m\n"
     ]
    },
    {
     "name": "stderr",
     "output_type": "stream",
     "text": [
      "100%|██████████| 107/107 [00:01<00:00, 71.65it/s]\n",
      "100%|██████████| 18/18 [00:00<00:00, 322.01it/s]\n",
      "100%|██████████| 53/53 [00:00<00:00, 330.37it/s]\n"
     ]
    },
    {
     "name": "stdout",
     "output_type": "stream",
     "text": [
      "Epoch:463/1000.. Train Loss: 0.017.. Val Loss: 0.090.. Test Loss: 0.059.. Time: 0.03m\n"
     ]
    },
    {
     "name": "stderr",
     "output_type": "stream",
     "text": [
      "100%|██████████| 107/107 [00:01<00:00, 70.60it/s]\n",
      "100%|██████████| 18/18 [00:00<00:00, 330.29it/s]\n",
      "100%|██████████| 53/53 [00:00<00:00, 330.42it/s]\n"
     ]
    },
    {
     "name": "stdout",
     "output_type": "stream",
     "text": [
      "Epoch:464/1000.. Train Loss: 0.019.. Val Loss: 0.102.. Test Loss: 0.055.. Time: 0.03m\n"
     ]
    },
    {
     "name": "stderr",
     "output_type": "stream",
     "text": [
      "100%|██████████| 107/107 [00:01<00:00, 70.42it/s]\n",
      "100%|██████████| 18/18 [00:00<00:00, 326.67it/s]\n",
      "100%|██████████| 53/53 [00:00<00:00, 328.35it/s]\n"
     ]
    },
    {
     "name": "stdout",
     "output_type": "stream",
     "text": [
      "Epoch:465/1000.. Train Loss: 0.017.. Val Loss: 0.094.. Test Loss: 0.053.. Time: 0.03m\n"
     ]
    },
    {
     "name": "stderr",
     "output_type": "stream",
     "text": [
      "100%|██████████| 107/107 [00:01<00:00, 70.14it/s]\n",
      "100%|██████████| 18/18 [00:00<00:00, 324.14it/s]\n",
      "100%|██████████| 53/53 [00:00<00:00, 328.71it/s]\n"
     ]
    },
    {
     "name": "stdout",
     "output_type": "stream",
     "text": [
      "Epoch:466/1000.. Train Loss: 0.019.. Val Loss: 0.100.. Test Loss: 0.057.. Time: 0.03m\n"
     ]
    },
    {
     "name": "stderr",
     "output_type": "stream",
     "text": [
      "100%|██████████| 107/107 [00:01<00:00, 69.73it/s]\n",
      "100%|██████████| 18/18 [00:00<00:00, 322.00it/s]\n",
      "100%|██████████| 53/53 [00:00<00:00, 328.52it/s]\n"
     ]
    },
    {
     "name": "stdout",
     "output_type": "stream",
     "text": [
      "Epoch:467/1000.. Train Loss: 0.023.. Val Loss: 0.087.. Test Loss: 0.053.. Time: 0.03m\n"
     ]
    },
    {
     "name": "stderr",
     "output_type": "stream",
     "text": [
      "100%|██████████| 107/107 [00:01<00:00, 70.95it/s]\n",
      "100%|██████████| 18/18 [00:00<00:00, 329.56it/s]\n",
      "100%|██████████| 53/53 [00:00<00:00, 327.35it/s]\n"
     ]
    },
    {
     "name": "stdout",
     "output_type": "stream",
     "text": [
      "Epoch:468/1000.. Train Loss: 0.018.. Val Loss: 0.089.. Test Loss: 0.050.. Time: 0.03m\n"
     ]
    },
    {
     "name": "stderr",
     "output_type": "stream",
     "text": [
      "100%|██████████| 107/107 [00:01<00:00, 71.13it/s]\n",
      "100%|██████████| 18/18 [00:00<00:00, 323.91it/s]\n",
      "100%|██████████| 53/53 [00:00<00:00, 331.66it/s]\n"
     ]
    },
    {
     "name": "stdout",
     "output_type": "stream",
     "text": [
      "Epoch:469/1000.. Train Loss: 0.019.. Val Loss: 0.084.. Test Loss: 0.056.. Time: 0.03m\n"
     ]
    },
    {
     "name": "stderr",
     "output_type": "stream",
     "text": [
      "100%|██████████| 107/107 [00:01<00:00, 70.90it/s]\n",
      "100%|██████████| 18/18 [00:00<00:00, 332.44it/s]\n",
      "100%|██████████| 53/53 [00:00<00:00, 326.60it/s]\n"
     ]
    },
    {
     "name": "stdout",
     "output_type": "stream",
     "text": [
      "Epoch:470/1000.. Train Loss: 0.018.. Val Loss: 0.068.. Test Loss: 0.056.. Time: 0.03m\n"
     ]
    },
    {
     "name": "stderr",
     "output_type": "stream",
     "text": [
      "100%|██████████| 107/107 [00:01<00:00, 70.17it/s]\n",
      "100%|██████████| 18/18 [00:00<00:00, 328.14it/s]\n",
      "100%|██████████| 53/53 [00:00<00:00, 319.40it/s]\n"
     ]
    },
    {
     "name": "stdout",
     "output_type": "stream",
     "text": [
      "Epoch:471/1000.. Train Loss: 0.018.. Val Loss: 0.083.. Test Loss: 0.056.. Time: 0.03m\n"
     ]
    },
    {
     "name": "stderr",
     "output_type": "stream",
     "text": [
      "100%|██████████| 107/107 [00:01<00:00, 71.40it/s]\n",
      "100%|██████████| 18/18 [00:00<00:00, 329.27it/s]\n",
      "100%|██████████| 53/53 [00:00<00:00, 328.54it/s]\n"
     ]
    },
    {
     "name": "stdout",
     "output_type": "stream",
     "text": [
      "Epoch:472/1000.. Train Loss: 0.019.. Val Loss: 0.074.. Test Loss: 0.059.. Time: 0.03m\n"
     ]
    },
    {
     "name": "stderr",
     "output_type": "stream",
     "text": [
      "100%|██████████| 107/107 [00:01<00:00, 69.82it/s]\n",
      "100%|██████████| 18/18 [00:00<00:00, 331.13it/s]\n",
      "100%|██████████| 53/53 [00:00<00:00, 329.17it/s]\n"
     ]
    },
    {
     "name": "stdout",
     "output_type": "stream",
     "text": [
      "Epoch:473/1000.. Train Loss: 0.018.. Val Loss: 0.096.. Test Loss: 0.052.. Time: 0.03m\n"
     ]
    },
    {
     "name": "stderr",
     "output_type": "stream",
     "text": [
      "100%|██████████| 107/107 [00:01<00:00, 70.25it/s]\n",
      "100%|██████████| 18/18 [00:00<00:00, 320.52it/s]\n",
      "100%|██████████| 53/53 [00:00<00:00, 328.31it/s]\n"
     ]
    },
    {
     "name": "stdout",
     "output_type": "stream",
     "text": [
      "Epoch:474/1000.. Train Loss: 0.021.. Val Loss: 0.080.. Test Loss: 0.044.. Time: 0.03m\n"
     ]
    },
    {
     "name": "stderr",
     "output_type": "stream",
     "text": [
      "100%|██████████| 107/107 [00:01<00:00, 70.23it/s]\n",
      "100%|██████████| 18/18 [00:00<00:00, 331.15it/s]\n",
      "100%|██████████| 53/53 [00:00<00:00, 333.87it/s]\n"
     ]
    },
    {
     "name": "stdout",
     "output_type": "stream",
     "text": [
      "Epoch:475/1000.. Train Loss: 0.021.. Val Loss: 0.086.. Test Loss: 0.048.. Time: 0.03m\n"
     ]
    },
    {
     "name": "stderr",
     "output_type": "stream",
     "text": [
      "100%|██████████| 107/107 [00:01<00:00, 70.33it/s]\n",
      "100%|██████████| 18/18 [00:00<00:00, 334.89it/s]\n",
      "100%|██████████| 53/53 [00:00<00:00, 331.10it/s]\n"
     ]
    },
    {
     "name": "stdout",
     "output_type": "stream",
     "text": [
      "Epoch:476/1000.. Train Loss: 0.019.. Val Loss: 0.077.. Test Loss: 0.052.. Time: 0.03m\n"
     ]
    },
    {
     "name": "stderr",
     "output_type": "stream",
     "text": [
      "100%|██████████| 107/107 [00:01<00:00, 69.15it/s]\n",
      "100%|██████████| 18/18 [00:00<00:00, 324.87it/s]\n",
      "100%|██████████| 53/53 [00:00<00:00, 328.05it/s]\n"
     ]
    },
    {
     "name": "stdout",
     "output_type": "stream",
     "text": [
      "Epoch:477/1000.. Train Loss: 0.019.. Val Loss: 0.085.. Test Loss: 0.051.. Time: 0.03m\n"
     ]
    },
    {
     "name": "stderr",
     "output_type": "stream",
     "text": [
      "100%|██████████| 107/107 [00:01<00:00, 70.83it/s]\n",
      "100%|██████████| 18/18 [00:00<00:00, 328.44it/s]\n",
      "100%|██████████| 53/53 [00:00<00:00, 327.01it/s]\n"
     ]
    },
    {
     "name": "stdout",
     "output_type": "stream",
     "text": [
      "Epoch:478/1000.. Train Loss: 0.017.. Val Loss: 0.100.. Test Loss: 0.051.. Time: 0.03m\n"
     ]
    },
    {
     "name": "stderr",
     "output_type": "stream",
     "text": [
      "100%|██████████| 107/107 [00:01<00:00, 69.76it/s]\n",
      "100%|██████████| 18/18 [00:00<00:00, 337.47it/s]\n",
      "100%|██████████| 53/53 [00:00<00:00, 334.58it/s]\n"
     ]
    },
    {
     "name": "stdout",
     "output_type": "stream",
     "text": [
      "Epoch:479/1000.. Train Loss: 0.015.. Val Loss: 0.086.. Test Loss: 0.056.. Time: 0.03m\n"
     ]
    },
    {
     "name": "stderr",
     "output_type": "stream",
     "text": [
      "100%|██████████| 107/107 [00:01<00:00, 70.46it/s]\n",
      "100%|██████████| 18/18 [00:00<00:00, 324.20it/s]\n",
      "100%|██████████| 53/53 [00:00<00:00, 333.31it/s]\n"
     ]
    },
    {
     "name": "stdout",
     "output_type": "stream",
     "text": [
      "Epoch:480/1000.. Train Loss: 0.018.. Val Loss: 0.091.. Test Loss: 0.050.. Time: 0.03m\n"
     ]
    },
    {
     "name": "stderr",
     "output_type": "stream",
     "text": [
      "100%|██████████| 107/107 [00:01<00:00, 70.86it/s]\n",
      "100%|██████████| 18/18 [00:00<00:00, 330.05it/s]\n",
      "100%|██████████| 53/53 [00:00<00:00, 329.94it/s]\n"
     ]
    },
    {
     "name": "stdout",
     "output_type": "stream",
     "text": [
      "Epoch:481/1000.. Train Loss: 0.016.. Val Loss: 0.084.. Test Loss: 0.055.. Time: 0.03m\n"
     ]
    },
    {
     "name": "stderr",
     "output_type": "stream",
     "text": [
      "100%|██████████| 107/107 [00:01<00:00, 70.62it/s]\n",
      "100%|██████████| 18/18 [00:00<00:00, 331.25it/s]\n",
      "100%|██████████| 53/53 [00:00<00:00, 333.71it/s]\n"
     ]
    },
    {
     "name": "stdout",
     "output_type": "stream",
     "text": [
      "Epoch:482/1000.. Train Loss: 0.016.. Val Loss: 0.088.. Test Loss: 0.056.. Time: 0.03m\n"
     ]
    },
    {
     "name": "stderr",
     "output_type": "stream",
     "text": [
      "100%|██████████| 107/107 [00:01<00:00, 69.49it/s]\n",
      "100%|██████████| 18/18 [00:00<00:00, 330.41it/s]\n",
      "100%|██████████| 53/53 [00:00<00:00, 327.75it/s]\n"
     ]
    },
    {
     "name": "stdout",
     "output_type": "stream",
     "text": [
      "Epoch:483/1000.. Train Loss: 0.017.. Val Loss: 0.086.. Test Loss: 0.050.. Time: 0.03m\n"
     ]
    },
    {
     "name": "stderr",
     "output_type": "stream",
     "text": [
      "100%|██████████| 107/107 [00:01<00:00, 71.34it/s]\n",
      "100%|██████████| 18/18 [00:00<00:00, 324.25it/s]\n",
      "100%|██████████| 53/53 [00:00<00:00, 332.28it/s]\n"
     ]
    },
    {
     "name": "stdout",
     "output_type": "stream",
     "text": [
      "Epoch:484/1000.. Train Loss: 0.016.. Val Loss: 0.091.. Test Loss: 0.050.. Time: 0.03m\n"
     ]
    },
    {
     "name": "stderr",
     "output_type": "stream",
     "text": [
      "100%|██████████| 107/107 [00:01<00:00, 70.51it/s]\n",
      "100%|██████████| 18/18 [00:00<00:00, 328.65it/s]\n",
      "100%|██████████| 53/53 [00:00<00:00, 328.87it/s]\n"
     ]
    },
    {
     "name": "stdout",
     "output_type": "stream",
     "text": [
      "Epoch:485/1000.. Train Loss: 0.019.. Val Loss: 0.093.. Test Loss: 0.054.. Time: 0.03m\n"
     ]
    },
    {
     "name": "stderr",
     "output_type": "stream",
     "text": [
      "100%|██████████| 107/107 [00:01<00:00, 70.27it/s]\n",
      "100%|██████████| 18/18 [00:00<00:00, 323.21it/s]\n",
      "100%|██████████| 53/53 [00:00<00:00, 326.48it/s]\n"
     ]
    },
    {
     "name": "stdout",
     "output_type": "stream",
     "text": [
      "Epoch:486/1000.. Train Loss: 0.016.. Val Loss: 0.083.. Test Loss: 0.056.. Time: 0.03m\n"
     ]
    },
    {
     "name": "stderr",
     "output_type": "stream",
     "text": [
      "100%|██████████| 107/107 [00:01<00:00, 68.28it/s]\n",
      "100%|██████████| 18/18 [00:00<00:00, 318.55it/s]\n",
      "100%|██████████| 53/53 [00:00<00:00, 326.18it/s]\n"
     ]
    },
    {
     "name": "stdout",
     "output_type": "stream",
     "text": [
      "Epoch:487/1000.. Train Loss: 0.018.. Val Loss: 0.079.. Test Loss: 0.057.. Time: 0.03m\n"
     ]
    },
    {
     "name": "stderr",
     "output_type": "stream",
     "text": [
      "100%|██████████| 107/107 [00:01<00:00, 68.69it/s]\n",
      "100%|██████████| 18/18 [00:00<00:00, 324.88it/s]\n",
      "100%|██████████| 53/53 [00:00<00:00, 327.66it/s]\n"
     ]
    },
    {
     "name": "stdout",
     "output_type": "stream",
     "text": [
      "Epoch:488/1000.. Train Loss: 0.016.. Val Loss: 0.076.. Test Loss: 0.057.. Time: 0.03m\n"
     ]
    },
    {
     "name": "stderr",
     "output_type": "stream",
     "text": [
      "100%|██████████| 107/107 [00:01<00:00, 69.72it/s]\n",
      "100%|██████████| 18/18 [00:00<00:00, 375.43it/s]\n",
      "100%|██████████| 53/53 [00:00<00:00, 332.40it/s]\n"
     ]
    },
    {
     "name": "stdout",
     "output_type": "stream",
     "text": [
      "Epoch:489/1000.. Train Loss: 0.017.. Val Loss: 0.085.. Test Loss: 0.058.. Time: 0.03m\n"
     ]
    },
    {
     "name": "stderr",
     "output_type": "stream",
     "text": [
      "100%|██████████| 107/107 [00:01<00:00, 69.60it/s]\n",
      "100%|██████████| 18/18 [00:00<00:00, 334.98it/s]\n",
      "100%|██████████| 53/53 [00:00<00:00, 329.43it/s]\n"
     ]
    },
    {
     "name": "stdout",
     "output_type": "stream",
     "text": [
      "Epoch:490/1000.. Train Loss: 0.015.. Val Loss: 0.080.. Test Loss: 0.060.. Time: 0.03m\n"
     ]
    },
    {
     "name": "stderr",
     "output_type": "stream",
     "text": [
      "100%|██████████| 107/107 [00:01<00:00, 70.57it/s]\n",
      "100%|██████████| 18/18 [00:00<00:00, 331.62it/s]\n",
      "100%|██████████| 53/53 [00:00<00:00, 329.64it/s]\n"
     ]
    },
    {
     "name": "stdout",
     "output_type": "stream",
     "text": [
      "Epoch:491/1000.. Train Loss: 0.016.. Val Loss: 0.074.. Test Loss: 0.061.. Time: 0.03m\n"
     ]
    },
    {
     "name": "stderr",
     "output_type": "stream",
     "text": [
      "100%|██████████| 107/107 [00:01<00:00, 70.42it/s]\n",
      "100%|██████████| 18/18 [00:00<00:00, 337.47it/s]\n",
      "100%|██████████| 53/53 [00:00<00:00, 327.68it/s]\n"
     ]
    },
    {
     "name": "stdout",
     "output_type": "stream",
     "text": [
      "Epoch:492/1000.. Train Loss: 0.016.. Val Loss: 0.086.. Test Loss: 0.058.. Time: 0.03m\n"
     ]
    },
    {
     "name": "stderr",
     "output_type": "stream",
     "text": [
      "100%|██████████| 107/107 [00:01<00:00, 70.97it/s]\n",
      "100%|██████████| 18/18 [00:00<00:00, 323.10it/s]\n",
      "100%|██████████| 53/53 [00:00<00:00, 324.42it/s]\n"
     ]
    },
    {
     "name": "stdout",
     "output_type": "stream",
     "text": [
      "Epoch:493/1000.. Train Loss: 0.021.. Val Loss: 0.091.. Test Loss: 0.054.. Time: 0.03m\n"
     ]
    },
    {
     "name": "stderr",
     "output_type": "stream",
     "text": [
      "100%|██████████| 107/107 [00:01<00:00, 68.40it/s]\n",
      "100%|██████████| 18/18 [00:00<00:00, 322.95it/s]\n",
      "100%|██████████| 53/53 [00:00<00:00, 322.98it/s]\n"
     ]
    },
    {
     "name": "stdout",
     "output_type": "stream",
     "text": [
      "Epoch:494/1000.. Train Loss: 0.021.. Val Loss: 0.083.. Test Loss: 0.057.. Time: 0.03m\n"
     ]
    },
    {
     "name": "stderr",
     "output_type": "stream",
     "text": [
      "100%|██████████| 107/107 [00:01<00:00, 66.68it/s]\n",
      "100%|██████████| 18/18 [00:00<00:00, 317.52it/s]\n",
      "100%|██████████| 53/53 [00:00<00:00, 322.49it/s]\n"
     ]
    },
    {
     "name": "stdout",
     "output_type": "stream",
     "text": [
      "Epoch:495/1000.. Train Loss: 0.020.. Val Loss: 0.093.. Test Loss: 0.063.. Time: 0.03m\n"
     ]
    },
    {
     "name": "stderr",
     "output_type": "stream",
     "text": [
      "100%|██████████| 107/107 [00:01<00:00, 69.47it/s]\n",
      "100%|██████████| 18/18 [00:00<00:00, 323.37it/s]\n",
      "100%|██████████| 53/53 [00:00<00:00, 315.59it/s]\n"
     ]
    },
    {
     "name": "stdout",
     "output_type": "stream",
     "text": [
      "Epoch:496/1000.. Train Loss: 0.016.. Val Loss: 0.094.. Test Loss: 0.060.. Time: 0.03m\n"
     ]
    },
    {
     "name": "stderr",
     "output_type": "stream",
     "text": [
      "100%|██████████| 107/107 [00:01<00:00, 68.48it/s]\n",
      "100%|██████████| 18/18 [00:00<00:00, 331.56it/s]\n",
      "100%|██████████| 53/53 [00:00<00:00, 330.91it/s]\n"
     ]
    },
    {
     "name": "stdout",
     "output_type": "stream",
     "text": [
      "Epoch:497/1000.. Train Loss: 0.018.. Val Loss: 0.077.. Test Loss: 0.063.. Time: 0.03m\n"
     ]
    },
    {
     "name": "stderr",
     "output_type": "stream",
     "text": [
      "100%|██████████| 107/107 [00:01<00:00, 70.38it/s]\n",
      "100%|██████████| 18/18 [00:00<00:00, 315.07it/s]\n",
      "100%|██████████| 53/53 [00:00<00:00, 325.05it/s]\n"
     ]
    },
    {
     "name": "stdout",
     "output_type": "stream",
     "text": [
      "Epoch:498/1000.. Train Loss: 0.019.. Val Loss: 0.086.. Test Loss: 0.058.. Time: 0.03m\n"
     ]
    },
    {
     "name": "stderr",
     "output_type": "stream",
     "text": [
      "100%|██████████| 107/107 [00:01<00:00, 71.20it/s]\n",
      "100%|██████████| 18/18 [00:00<00:00, 319.41it/s]\n",
      "100%|██████████| 53/53 [00:00<00:00, 324.94it/s]\n"
     ]
    },
    {
     "name": "stdout",
     "output_type": "stream",
     "text": [
      "Epoch:499/1000.. Train Loss: 0.016.. Val Loss: 0.090.. Test Loss: 0.060.. Time: 0.03m\n"
     ]
    },
    {
     "name": "stderr",
     "output_type": "stream",
     "text": [
      "100%|██████████| 107/107 [00:01<00:00, 70.43it/s]\n",
      "100%|██████████| 18/18 [00:00<00:00, 326.79it/s]\n",
      "100%|██████████| 53/53 [00:00<00:00, 323.63it/s]\n"
     ]
    },
    {
     "name": "stdout",
     "output_type": "stream",
     "text": [
      "Epoch:500/1000.. Train Loss: 0.016.. Val Loss: 0.088.. Test Loss: 0.058.. Time: 0.03m\n"
     ]
    },
    {
     "name": "stderr",
     "output_type": "stream",
     "text": [
      "100%|██████████| 107/107 [00:01<00:00, 70.14it/s]\n",
      "100%|██████████| 18/18 [00:00<00:00, 328.81it/s]\n",
      "100%|██████████| 53/53 [00:00<00:00, 326.67it/s]\n"
     ]
    },
    {
     "name": "stdout",
     "output_type": "stream",
     "text": [
      "Epoch:501/1000.. Train Loss: 0.017.. Val Loss: 0.086.. Test Loss: 0.058.. Time: 0.03m\n"
     ]
    },
    {
     "name": "stderr",
     "output_type": "stream",
     "text": [
      "100%|██████████| 107/107 [00:01<00:00, 70.72it/s]\n",
      "100%|██████████| 18/18 [00:00<00:00, 325.38it/s]\n",
      "100%|██████████| 53/53 [00:00<00:00, 327.37it/s]\n"
     ]
    },
    {
     "name": "stdout",
     "output_type": "stream",
     "text": [
      "Epoch:502/1000.. Train Loss: 0.018.. Val Loss: 0.104.. Test Loss: 0.057.. Time: 0.03m\n"
     ]
    },
    {
     "name": "stderr",
     "output_type": "stream",
     "text": [
      "100%|██████████| 107/107 [00:01<00:00, 70.18it/s]\n",
      "100%|██████████| 18/18 [00:00<00:00, 326.08it/s]\n",
      "100%|██████████| 53/53 [00:00<00:00, 323.23it/s]\n"
     ]
    },
    {
     "name": "stdout",
     "output_type": "stream",
     "text": [
      "Epoch:503/1000.. Train Loss: 0.014.. Val Loss: 0.087.. Test Loss: 0.061.. Time: 0.03m\n"
     ]
    },
    {
     "name": "stderr",
     "output_type": "stream",
     "text": [
      "100%|██████████| 107/107 [00:01<00:00, 70.23it/s]\n",
      "100%|██████████| 18/18 [00:00<00:00, 322.83it/s]\n",
      "100%|██████████| 53/53 [00:00<00:00, 323.32it/s]\n"
     ]
    },
    {
     "name": "stdout",
     "output_type": "stream",
     "text": [
      "Epoch:504/1000.. Train Loss: 0.016.. Val Loss: 0.095.. Test Loss: 0.061.. Time: 0.03m\n"
     ]
    },
    {
     "name": "stderr",
     "output_type": "stream",
     "text": [
      "100%|██████████| 107/107 [00:01<00:00, 69.15it/s]\n",
      "100%|██████████| 18/18 [00:00<00:00, 324.38it/s]\n",
      "100%|██████████| 53/53 [00:00<00:00, 327.74it/s]\n"
     ]
    },
    {
     "name": "stdout",
     "output_type": "stream",
     "text": [
      "Epoch:505/1000.. Train Loss: 0.016.. Val Loss: 0.112.. Test Loss: 0.057.. Time: 0.03m\n"
     ]
    },
    {
     "name": "stderr",
     "output_type": "stream",
     "text": [
      "100%|██████████| 107/107 [00:01<00:00, 70.53it/s]\n",
      "100%|██████████| 18/18 [00:00<00:00, 323.49it/s]\n",
      "100%|██████████| 53/53 [00:00<00:00, 325.82it/s]\n"
     ]
    },
    {
     "name": "stdout",
     "output_type": "stream",
     "text": [
      "Epoch:506/1000.. Train Loss: 0.018.. Val Loss: 0.092.. Test Loss: 0.061.. Time: 0.03m\n"
     ]
    },
    {
     "name": "stderr",
     "output_type": "stream",
     "text": [
      "100%|██████████| 107/107 [00:01<00:00, 69.76it/s]\n",
      "100%|██████████| 18/18 [00:00<00:00, 335.51it/s]\n",
      "100%|██████████| 53/53 [00:00<00:00, 334.61it/s]\n"
     ]
    },
    {
     "name": "stdout",
     "output_type": "stream",
     "text": [
      "Epoch:507/1000.. Train Loss: 0.015.. Val Loss: 0.098.. Test Loss: 0.058.. Time: 0.03m\n"
     ]
    },
    {
     "name": "stderr",
     "output_type": "stream",
     "text": [
      "100%|██████████| 107/107 [00:01<00:00, 71.10it/s]\n",
      "100%|██████████| 18/18 [00:00<00:00, 329.81it/s]\n",
      "100%|██████████| 53/53 [00:00<00:00, 335.93it/s]\n"
     ]
    },
    {
     "name": "stdout",
     "output_type": "stream",
     "text": [
      "Epoch:508/1000.. Train Loss: 0.016.. Val Loss: 0.089.. Test Loss: 0.058.. Time: 0.03m\n"
     ]
    },
    {
     "name": "stderr",
     "output_type": "stream",
     "text": [
      "100%|██████████| 107/107 [00:01<00:00, 71.33it/s]\n",
      "100%|██████████| 18/18 [00:00<00:00, 327.55it/s]\n",
      "100%|██████████| 53/53 [00:00<00:00, 329.42it/s]\n"
     ]
    },
    {
     "name": "stdout",
     "output_type": "stream",
     "text": [
      "Epoch:509/1000.. Train Loss: 0.017.. Val Loss: 0.093.. Test Loss: 0.056.. Time: 0.03m\n"
     ]
    },
    {
     "name": "stderr",
     "output_type": "stream",
     "text": [
      "100%|██████████| 107/107 [00:01<00:00, 70.97it/s]\n",
      "100%|██████████| 18/18 [00:00<00:00, 334.74it/s]\n",
      "100%|██████████| 53/53 [00:00<00:00, 335.51it/s]\n"
     ]
    },
    {
     "name": "stdout",
     "output_type": "stream",
     "text": [
      "Epoch:510/1000.. Train Loss: 0.017.. Val Loss: 0.095.. Test Loss: 0.058.. Time: 0.03m\n"
     ]
    },
    {
     "name": "stderr",
     "output_type": "stream",
     "text": [
      "100%|██████████| 107/107 [00:01<00:00, 70.83it/s]\n",
      "100%|██████████| 18/18 [00:00<00:00, 329.95it/s]\n",
      "100%|██████████| 53/53 [00:00<00:00, 329.14it/s]\n"
     ]
    },
    {
     "name": "stdout",
     "output_type": "stream",
     "text": [
      "Epoch:511/1000.. Train Loss: 0.014.. Val Loss: 0.078.. Test Loss: 0.057.. Time: 0.03m\n"
     ]
    },
    {
     "name": "stderr",
     "output_type": "stream",
     "text": [
      "100%|██████████| 107/107 [00:01<00:00, 71.12it/s]\n",
      "100%|██████████| 18/18 [00:00<00:00, 334.59it/s]\n",
      "100%|██████████| 53/53 [00:00<00:00, 322.96it/s]\n"
     ]
    },
    {
     "name": "stdout",
     "output_type": "stream",
     "text": [
      "Epoch:512/1000.. Train Loss: 0.017.. Val Loss: 0.074.. Test Loss: 0.056.. Time: 0.03m\n"
     ]
    },
    {
     "name": "stderr",
     "output_type": "stream",
     "text": [
      "100%|██████████| 107/107 [00:01<00:00, 71.22it/s]\n",
      "100%|██████████| 18/18 [00:00<00:00, 325.55it/s]\n",
      "100%|██████████| 53/53 [00:00<00:00, 327.91it/s]\n"
     ]
    },
    {
     "name": "stdout",
     "output_type": "stream",
     "text": [
      "Epoch:513/1000.. Train Loss: 0.024.. Val Loss: 0.085.. Test Loss: 0.057.. Time: 0.03m\n"
     ]
    },
    {
     "name": "stderr",
     "output_type": "stream",
     "text": [
      "100%|██████████| 107/107 [00:01<00:00, 65.97it/s]\n",
      "100%|██████████| 18/18 [00:00<00:00, 327.41it/s]\n",
      "100%|██████████| 53/53 [00:00<00:00, 329.55it/s]\n"
     ]
    },
    {
     "name": "stdout",
     "output_type": "stream",
     "text": [
      "Epoch:514/1000.. Train Loss: 0.018.. Val Loss: 0.092.. Test Loss: 0.055.. Time: 0.03m\n"
     ]
    },
    {
     "name": "stderr",
     "output_type": "stream",
     "text": [
      "100%|██████████| 107/107 [00:01<00:00, 71.85it/s]\n",
      "100%|██████████| 18/18 [00:00<00:00, 339.16it/s]\n",
      "100%|██████████| 53/53 [00:00<00:00, 328.02it/s]\n"
     ]
    },
    {
     "name": "stdout",
     "output_type": "stream",
     "text": [
      "Epoch:515/1000.. Train Loss: 0.016.. Val Loss: 0.080.. Test Loss: 0.059.. Time: 0.03m\n"
     ]
    },
    {
     "name": "stderr",
     "output_type": "stream",
     "text": [
      "100%|██████████| 107/107 [00:01<00:00, 71.41it/s]\n",
      "100%|██████████| 18/18 [00:00<00:00, 331.04it/s]\n",
      "100%|██████████| 53/53 [00:00<00:00, 332.87it/s]\n"
     ]
    },
    {
     "name": "stdout",
     "output_type": "stream",
     "text": [
      "Epoch:516/1000.. Train Loss: 0.017.. Val Loss: 0.085.. Test Loss: 0.058.. Time: 0.03m\n"
     ]
    },
    {
     "name": "stderr",
     "output_type": "stream",
     "text": [
      "100%|██████████| 107/107 [00:01<00:00, 70.82it/s]\n",
      "100%|██████████| 18/18 [00:00<00:00, 319.61it/s]\n",
      "100%|██████████| 53/53 [00:00<00:00, 329.68it/s]\n"
     ]
    },
    {
     "name": "stdout",
     "output_type": "stream",
     "text": [
      "Epoch:517/1000.. Train Loss: 0.016.. Val Loss: 0.102.. Test Loss: 0.058.. Time: 0.03m\n"
     ]
    },
    {
     "name": "stderr",
     "output_type": "stream",
     "text": [
      "100%|██████████| 107/107 [00:01<00:00, 71.08it/s]\n",
      "100%|██████████| 18/18 [00:00<00:00, 327.01it/s]\n",
      "100%|██████████| 53/53 [00:00<00:00, 331.63it/s]\n"
     ]
    },
    {
     "name": "stdout",
     "output_type": "stream",
     "text": [
      "Epoch:518/1000.. Train Loss: 0.017.. Val Loss: 0.089.. Test Loss: 0.059.. Time: 0.03m\n"
     ]
    },
    {
     "name": "stderr",
     "output_type": "stream",
     "text": [
      "100%|██████████| 107/107 [00:01<00:00, 71.71it/s]\n",
      "100%|██████████| 18/18 [00:00<00:00, 326.29it/s]\n",
      "100%|██████████| 53/53 [00:00<00:00, 331.97it/s]\n"
     ]
    },
    {
     "name": "stdout",
     "output_type": "stream",
     "text": [
      "Epoch:519/1000.. Train Loss: 0.016.. Val Loss: 0.096.. Test Loss: 0.055.. Time: 0.03m\n"
     ]
    },
    {
     "name": "stderr",
     "output_type": "stream",
     "text": [
      "100%|██████████| 107/107 [00:01<00:00, 71.46it/s]\n",
      "100%|██████████| 18/18 [00:00<00:00, 330.90it/s]\n",
      "100%|██████████| 53/53 [00:00<00:00, 332.14it/s]\n"
     ]
    },
    {
     "name": "stdout",
     "output_type": "stream",
     "text": [
      "Epoch:520/1000.. Train Loss: 0.020.. Val Loss: 0.091.. Test Loss: 0.058.. Time: 0.03m\n"
     ]
    },
    {
     "name": "stderr",
     "output_type": "stream",
     "text": [
      "100%|██████████| 107/107 [00:01<00:00, 71.76it/s]\n",
      "100%|██████████| 18/18 [00:00<00:00, 325.45it/s]\n",
      "100%|██████████| 53/53 [00:00<00:00, 327.14it/s]\n"
     ]
    },
    {
     "name": "stdout",
     "output_type": "stream",
     "text": [
      "Epoch:521/1000.. Train Loss: 0.015.. Val Loss: 0.096.. Test Loss: 0.057.. Time: 0.03m\n"
     ]
    },
    {
     "name": "stderr",
     "output_type": "stream",
     "text": [
      "100%|██████████| 107/107 [00:01<00:00, 67.09it/s]\n",
      "100%|██████████| 18/18 [00:00<00:00, 322.81it/s]\n",
      "100%|██████████| 53/53 [00:00<00:00, 327.71it/s]\n"
     ]
    },
    {
     "name": "stdout",
     "output_type": "stream",
     "text": [
      "Epoch:522/1000.. Train Loss: 0.020.. Val Loss: 0.083.. Test Loss: 0.056.. Time: 0.03m\n"
     ]
    },
    {
     "name": "stderr",
     "output_type": "stream",
     "text": [
      "100%|██████████| 107/107 [00:01<00:00, 71.26it/s]\n",
      "100%|██████████| 18/18 [00:00<00:00, 335.03it/s]\n",
      "100%|██████████| 53/53 [00:00<00:00, 325.29it/s]\n"
     ]
    },
    {
     "name": "stdout",
     "output_type": "stream",
     "text": [
      "Epoch:523/1000.. Train Loss: 0.017.. Val Loss: 0.091.. Test Loss: 0.055.. Time: 0.03m\n"
     ]
    },
    {
     "name": "stderr",
     "output_type": "stream",
     "text": [
      "100%|██████████| 107/107 [00:01<00:00, 70.56it/s]\n",
      "100%|██████████| 18/18 [00:00<00:00, 317.99it/s]\n",
      "100%|██████████| 53/53 [00:00<00:00, 320.96it/s]\n"
     ]
    },
    {
     "name": "stdout",
     "output_type": "stream",
     "text": [
      "Epoch:524/1000.. Train Loss: 0.018.. Val Loss: 0.102.. Test Loss: 0.056.. Time: 0.03m\n"
     ]
    },
    {
     "name": "stderr",
     "output_type": "stream",
     "text": [
      "100%|██████████| 107/107 [00:01<00:00, 69.60it/s]\n",
      "100%|██████████| 18/18 [00:00<00:00, 330.42it/s]\n",
      "100%|██████████| 53/53 [00:00<00:00, 328.75it/s]\n"
     ]
    },
    {
     "name": "stdout",
     "output_type": "stream",
     "text": [
      "Epoch:525/1000.. Train Loss: 0.018.. Val Loss: 0.108.. Test Loss: 0.051.. Time: 0.03m\n"
     ]
    },
    {
     "name": "stderr",
     "output_type": "stream",
     "text": [
      "100%|██████████| 107/107 [00:01<00:00, 70.81it/s]\n",
      "100%|██████████| 18/18 [00:00<00:00, 334.07it/s]\n",
      "100%|██████████| 53/53 [00:00<00:00, 334.56it/s]\n"
     ]
    },
    {
     "name": "stdout",
     "output_type": "stream",
     "text": [
      "Epoch:526/1000.. Train Loss: 0.018.. Val Loss: 0.097.. Test Loss: 0.057.. Time: 0.03m\n"
     ]
    },
    {
     "name": "stderr",
     "output_type": "stream",
     "text": [
      "100%|██████████| 107/107 [00:01<00:00, 70.75it/s]\n",
      "100%|██████████| 18/18 [00:00<00:00, 333.77it/s]\n",
      "100%|██████████| 53/53 [00:00<00:00, 330.07it/s]\n"
     ]
    },
    {
     "name": "stdout",
     "output_type": "stream",
     "text": [
      "Epoch:527/1000.. Train Loss: 0.015.. Val Loss: 0.089.. Test Loss: 0.057.. Time: 0.03m\n"
     ]
    },
    {
     "name": "stderr",
     "output_type": "stream",
     "text": [
      "100%|██████████| 107/107 [00:01<00:00, 71.17it/s]\n",
      "100%|██████████| 18/18 [00:00<00:00, 334.90it/s]\n",
      "100%|██████████| 53/53 [00:00<00:00, 332.58it/s]\n"
     ]
    },
    {
     "name": "stdout",
     "output_type": "stream",
     "text": [
      "Epoch:528/1000.. Train Loss: 0.015.. Val Loss: 0.100.. Test Loss: 0.058.. Time: 0.03m\n"
     ]
    },
    {
     "name": "stderr",
     "output_type": "stream",
     "text": [
      "100%|██████████| 107/107 [00:01<00:00, 69.05it/s]\n",
      "100%|██████████| 18/18 [00:00<00:00, 333.52it/s]\n",
      "100%|██████████| 53/53 [00:00<00:00, 329.00it/s]\n"
     ]
    },
    {
     "name": "stdout",
     "output_type": "stream",
     "text": [
      "Epoch:529/1000.. Train Loss: 0.016.. Val Loss: 0.105.. Test Loss: 0.065.. Time: 0.03m\n"
     ]
    },
    {
     "name": "stderr",
     "output_type": "stream",
     "text": [
      "100%|██████████| 107/107 [00:01<00:00, 70.80it/s]\n",
      "100%|██████████| 18/18 [00:00<00:00, 324.27it/s]\n",
      "100%|██████████| 53/53 [00:00<00:00, 324.20it/s]\n"
     ]
    },
    {
     "name": "stdout",
     "output_type": "stream",
     "text": [
      "Epoch:530/1000.. Train Loss: 0.015.. Val Loss: 0.101.. Test Loss: 0.066.. Time: 0.03m\n"
     ]
    },
    {
     "name": "stderr",
     "output_type": "stream",
     "text": [
      "100%|██████████| 107/107 [00:01<00:00, 70.08it/s]\n",
      "100%|██████████| 18/18 [00:00<00:00, 328.45it/s]\n",
      "100%|██████████| 53/53 [00:00<00:00, 325.49it/s]\n"
     ]
    },
    {
     "name": "stdout",
     "output_type": "stream",
     "text": [
      "Epoch:531/1000.. Train Loss: 0.015.. Val Loss: 0.094.. Test Loss: 0.060.. Time: 0.03m\n"
     ]
    },
    {
     "name": "stderr",
     "output_type": "stream",
     "text": [
      "100%|██████████| 107/107 [00:01<00:00, 70.54it/s]\n",
      "100%|██████████| 18/18 [00:00<00:00, 326.99it/s]\n",
      "100%|██████████| 53/53 [00:00<00:00, 330.39it/s]\n"
     ]
    },
    {
     "name": "stdout",
     "output_type": "stream",
     "text": [
      "Epoch:532/1000.. Train Loss: 0.015.. Val Loss: 0.106.. Test Loss: 0.061.. Time: 0.03m\n"
     ]
    },
    {
     "name": "stderr",
     "output_type": "stream",
     "text": [
      "100%|██████████| 107/107 [00:01<00:00, 71.09it/s]\n",
      "100%|██████████| 18/18 [00:00<00:00, 334.54it/s]\n",
      "100%|██████████| 53/53 [00:00<00:00, 328.17it/s]\n"
     ]
    },
    {
     "name": "stdout",
     "output_type": "stream",
     "text": [
      "Epoch:533/1000.. Train Loss: 0.014.. Val Loss: 0.101.. Test Loss: 0.061.. Time: 0.03m\n"
     ]
    },
    {
     "name": "stderr",
     "output_type": "stream",
     "text": [
      "100%|██████████| 107/107 [00:01<00:00, 71.36it/s]\n",
      "100%|██████████| 18/18 [00:00<00:00, 328.97it/s]\n",
      "100%|██████████| 53/53 [00:00<00:00, 329.67it/s]\n"
     ]
    },
    {
     "name": "stdout",
     "output_type": "stream",
     "text": [
      "Epoch:534/1000.. Train Loss: 0.015.. Val Loss: 0.111.. Test Loss: 0.060.. Time: 0.03m\n"
     ]
    },
    {
     "name": "stderr",
     "output_type": "stream",
     "text": [
      "100%|██████████| 107/107 [00:01<00:00, 70.55it/s]\n",
      "100%|██████████| 18/18 [00:00<00:00, 317.71it/s]\n",
      "100%|██████████| 53/53 [00:00<00:00, 325.66it/s]\n"
     ]
    },
    {
     "name": "stdout",
     "output_type": "stream",
     "text": [
      "Epoch:535/1000.. Train Loss: 0.017.. Val Loss: 0.110.. Test Loss: 0.058.. Time: 0.03m\n"
     ]
    },
    {
     "name": "stderr",
     "output_type": "stream",
     "text": [
      "100%|██████████| 107/107 [00:01<00:00, 70.99it/s]\n",
      "100%|██████████| 18/18 [00:00<00:00, 317.96it/s]\n",
      "100%|██████████| 53/53 [00:00<00:00, 325.00it/s]\n"
     ]
    },
    {
     "name": "stdout",
     "output_type": "stream",
     "text": [
      "Epoch:536/1000.. Train Loss: 0.020.. Val Loss: 0.101.. Test Loss: 0.056.. Time: 0.03m\n"
     ]
    },
    {
     "name": "stderr",
     "output_type": "stream",
     "text": [
      "100%|██████████| 107/107 [00:01<00:00, 70.88it/s]\n",
      "100%|██████████| 18/18 [00:00<00:00, 326.99it/s]\n",
      "100%|██████████| 53/53 [00:00<00:00, 331.39it/s]\n"
     ]
    },
    {
     "name": "stdout",
     "output_type": "stream",
     "text": [
      "Epoch:537/1000.. Train Loss: 0.018.. Val Loss: 0.096.. Test Loss: 0.054.. Time: 0.03m\n"
     ]
    },
    {
     "name": "stderr",
     "output_type": "stream",
     "text": [
      "100%|██████████| 107/107 [00:01<00:00, 70.27it/s]\n",
      "100%|██████████| 18/18 [00:00<00:00, 321.18it/s]\n",
      "100%|██████████| 53/53 [00:00<00:00, 324.85it/s]\n"
     ]
    },
    {
     "name": "stdout",
     "output_type": "stream",
     "text": [
      "Epoch:538/1000.. Train Loss: 0.016.. Val Loss: 0.075.. Test Loss: 0.055.. Time: 0.03m\n"
     ]
    },
    {
     "name": "stderr",
     "output_type": "stream",
     "text": [
      "100%|██████████| 107/107 [00:01<00:00, 70.74it/s]\n",
      "100%|██████████| 18/18 [00:00<00:00, 333.97it/s]\n",
      "100%|██████████| 53/53 [00:00<00:00, 335.61it/s]\n"
     ]
    },
    {
     "name": "stdout",
     "output_type": "stream",
     "text": [
      "Epoch:539/1000.. Train Loss: 0.015.. Val Loss: 0.089.. Test Loss: 0.056.. Time: 0.03m\n"
     ]
    },
    {
     "name": "stderr",
     "output_type": "stream",
     "text": [
      "100%|██████████| 107/107 [00:01<00:00, 71.24it/s]\n",
      "100%|██████████| 18/18 [00:00<00:00, 323.51it/s]\n",
      "100%|██████████| 53/53 [00:00<00:00, 328.20it/s]\n"
     ]
    },
    {
     "name": "stdout",
     "output_type": "stream",
     "text": [
      "Epoch:540/1000.. Train Loss: 0.013.. Val Loss: 0.092.. Test Loss: 0.057.. Time: 0.03m\n"
     ]
    },
    {
     "name": "stderr",
     "output_type": "stream",
     "text": [
      "100%|██████████| 107/107 [00:01<00:00, 71.35it/s]\n",
      "100%|██████████| 18/18 [00:00<00:00, 327.75it/s]\n",
      "100%|██████████| 53/53 [00:00<00:00, 330.05it/s]\n"
     ]
    },
    {
     "name": "stdout",
     "output_type": "stream",
     "text": [
      "Epoch:541/1000.. Train Loss: 0.013.. Val Loss: 0.103.. Test Loss: 0.062.. Time: 0.03m\n"
     ]
    },
    {
     "name": "stderr",
     "output_type": "stream",
     "text": [
      "100%|██████████| 107/107 [00:01<00:00, 70.24it/s]\n",
      "100%|██████████| 18/18 [00:00<00:00, 314.39it/s]\n",
      "100%|██████████| 53/53 [00:00<00:00, 329.40it/s]\n"
     ]
    },
    {
     "name": "stdout",
     "output_type": "stream",
     "text": [
      "Epoch:542/1000.. Train Loss: 0.014.. Val Loss: 0.124.. Test Loss: 0.059.. Time: 0.03m\n"
     ]
    },
    {
     "name": "stderr",
     "output_type": "stream",
     "text": [
      "100%|██████████| 107/107 [00:01<00:00, 69.87it/s]\n",
      "100%|██████████| 18/18 [00:00<00:00, 325.92it/s]\n",
      "100%|██████████| 53/53 [00:00<00:00, 326.60it/s]\n"
     ]
    },
    {
     "name": "stdout",
     "output_type": "stream",
     "text": [
      "Epoch:543/1000.. Train Loss: 0.016.. Val Loss: 0.080.. Test Loss: 0.062.. Time: 0.03m\n"
     ]
    },
    {
     "name": "stderr",
     "output_type": "stream",
     "text": [
      "100%|██████████| 107/107 [00:01<00:00, 70.22it/s]\n",
      "100%|██████████| 18/18 [00:00<00:00, 323.04it/s]\n",
      "100%|██████████| 53/53 [00:00<00:00, 328.42it/s]\n"
     ]
    },
    {
     "name": "stdout",
     "output_type": "stream",
     "text": [
      "Epoch:544/1000.. Train Loss: 0.015.. Val Loss: 0.110.. Test Loss: 0.067.. Time: 0.03m\n"
     ]
    },
    {
     "name": "stderr",
     "output_type": "stream",
     "text": [
      "100%|██████████| 107/107 [00:01<00:00, 70.39it/s]\n",
      "100%|██████████| 18/18 [00:00<00:00, 317.29it/s]\n",
      "100%|██████████| 53/53 [00:00<00:00, 322.17it/s]\n"
     ]
    },
    {
     "name": "stdout",
     "output_type": "stream",
     "text": [
      "Epoch:545/1000.. Train Loss: 0.019.. Val Loss: 0.095.. Test Loss: 0.062.. Time: 0.03m\n"
     ]
    },
    {
     "name": "stderr",
     "output_type": "stream",
     "text": [
      "100%|██████████| 107/107 [00:01<00:00, 70.29it/s]\n",
      "100%|██████████| 18/18 [00:00<00:00, 328.25it/s]\n",
      "100%|██████████| 53/53 [00:00<00:00, 326.86it/s]\n"
     ]
    },
    {
     "name": "stdout",
     "output_type": "stream",
     "text": [
      "Epoch:546/1000.. Train Loss: 0.017.. Val Loss: 0.113.. Test Loss: 0.059.. Time: 0.03m\n"
     ]
    },
    {
     "name": "stderr",
     "output_type": "stream",
     "text": [
      "100%|██████████| 107/107 [00:01<00:00, 70.04it/s]\n",
      "100%|██████████| 18/18 [00:00<00:00, 326.51it/s]\n",
      "100%|██████████| 53/53 [00:00<00:00, 327.37it/s]\n"
     ]
    },
    {
     "name": "stdout",
     "output_type": "stream",
     "text": [
      "Epoch:547/1000.. Train Loss: 0.019.. Val Loss: 0.090.. Test Loss: 0.060.. Time: 0.03m\n"
     ]
    },
    {
     "name": "stderr",
     "output_type": "stream",
     "text": [
      "100%|██████████| 107/107 [00:01<00:00, 70.72it/s]\n",
      "100%|██████████| 18/18 [00:00<00:00, 326.06it/s]\n",
      "100%|██████████| 53/53 [00:00<00:00, 328.38it/s]\n"
     ]
    },
    {
     "name": "stdout",
     "output_type": "stream",
     "text": [
      "Epoch:548/1000.. Train Loss: 0.017.. Val Loss: 0.111.. Test Loss: 0.059.. Time: 0.03m\n"
     ]
    },
    {
     "name": "stderr",
     "output_type": "stream",
     "text": [
      "100%|██████████| 107/107 [00:01<00:00, 70.11it/s]\n",
      "100%|██████████| 18/18 [00:00<00:00, 336.14it/s]\n",
      "100%|██████████| 53/53 [00:00<00:00, 329.13it/s]\n"
     ]
    },
    {
     "name": "stdout",
     "output_type": "stream",
     "text": [
      "Epoch:549/1000.. Train Loss: 0.012.. Val Loss: 0.104.. Test Loss: 0.059.. Time: 0.03m\n"
     ]
    },
    {
     "name": "stderr",
     "output_type": "stream",
     "text": [
      "100%|██████████| 107/107 [00:01<00:00, 71.04it/s]\n",
      "100%|██████████| 18/18 [00:00<00:00, 332.09it/s]\n",
      "100%|██████████| 53/53 [00:00<00:00, 327.17it/s]\n"
     ]
    },
    {
     "name": "stdout",
     "output_type": "stream",
     "text": [
      "Epoch:550/1000.. Train Loss: 0.015.. Val Loss: 0.104.. Test Loss: 0.059.. Time: 0.03m\n"
     ]
    },
    {
     "name": "stderr",
     "output_type": "stream",
     "text": [
      "100%|██████████| 107/107 [00:01<00:00, 71.18it/s]\n",
      "100%|██████████| 18/18 [00:00<00:00, 330.42it/s]\n",
      "100%|██████████| 53/53 [00:00<00:00, 326.21it/s]\n"
     ]
    },
    {
     "name": "stdout",
     "output_type": "stream",
     "text": [
      "Epoch:551/1000.. Train Loss: 0.012.. Val Loss: 0.090.. Test Loss: 0.058.. Time: 0.03m\n"
     ]
    },
    {
     "name": "stderr",
     "output_type": "stream",
     "text": [
      "100%|██████████| 107/107 [00:01<00:00, 71.06it/s]\n",
      "100%|██████████| 18/18 [00:00<00:00, 325.10it/s]\n",
      "100%|██████████| 53/53 [00:00<00:00, 328.19it/s]\n"
     ]
    },
    {
     "name": "stdout",
     "output_type": "stream",
     "text": [
      "Epoch:552/1000.. Train Loss: 0.014.. Val Loss: 0.090.. Test Loss: 0.061.. Time: 0.03m\n"
     ]
    },
    {
     "name": "stderr",
     "output_type": "stream",
     "text": [
      "100%|██████████| 107/107 [00:01<00:00, 71.44it/s]\n",
      "100%|██████████| 18/18 [00:00<00:00, 334.62it/s]\n",
      "100%|██████████| 53/53 [00:00<00:00, 330.40it/s]\n"
     ]
    },
    {
     "name": "stdout",
     "output_type": "stream",
     "text": [
      "Epoch:553/1000.. Train Loss: 0.017.. Val Loss: 0.108.. Test Loss: 0.057.. Time: 0.03m\n"
     ]
    },
    {
     "name": "stderr",
     "output_type": "stream",
     "text": [
      "100%|██████████| 107/107 [00:01<00:00, 71.16it/s]\n",
      "100%|██████████| 18/18 [00:00<00:00, 323.97it/s]\n",
      "100%|██████████| 53/53 [00:00<00:00, 330.09it/s]\n"
     ]
    },
    {
     "name": "stdout",
     "output_type": "stream",
     "text": [
      "Epoch:554/1000.. Train Loss: 0.017.. Val Loss: 0.087.. Test Loss: 0.064.. Time: 0.03m\n"
     ]
    },
    {
     "name": "stderr",
     "output_type": "stream",
     "text": [
      "100%|██████████| 107/107 [00:01<00:00, 70.68it/s]\n",
      "100%|██████████| 18/18 [00:00<00:00, 319.98it/s]\n",
      "100%|██████████| 53/53 [00:00<00:00, 331.21it/s]\n"
     ]
    },
    {
     "name": "stdout",
     "output_type": "stream",
     "text": [
      "Epoch:555/1000.. Train Loss: 0.015.. Val Loss: 0.090.. Test Loss: 0.060.. Time: 0.03m\n"
     ]
    },
    {
     "name": "stderr",
     "output_type": "stream",
     "text": [
      "100%|██████████| 107/107 [00:01<00:00, 70.97it/s]\n",
      "100%|██████████| 18/18 [00:00<00:00, 328.23it/s]\n",
      "100%|██████████| 53/53 [00:00<00:00, 330.62it/s]\n"
     ]
    },
    {
     "name": "stdout",
     "output_type": "stream",
     "text": [
      "Epoch:556/1000.. Train Loss: 0.015.. Val Loss: 0.134.. Test Loss: 0.063.. Time: 0.03m\n"
     ]
    },
    {
     "name": "stderr",
     "output_type": "stream",
     "text": [
      "100%|██████████| 107/107 [00:01<00:00, 68.10it/s]\n",
      "100%|██████████| 18/18 [00:00<00:00, 330.16it/s]\n",
      "100%|██████████| 53/53 [00:00<00:00, 318.80it/s]\n"
     ]
    },
    {
     "name": "stdout",
     "output_type": "stream",
     "text": [
      "Epoch:557/1000.. Train Loss: 0.016.. Val Loss: 0.107.. Test Loss: 0.059.. Time: 0.03m\n"
     ]
    },
    {
     "name": "stderr",
     "output_type": "stream",
     "text": [
      "100%|██████████| 107/107 [00:01<00:00, 68.82it/s]\n",
      "100%|██████████| 18/18 [00:00<00:00, 320.39it/s]\n",
      "100%|██████████| 53/53 [00:00<00:00, 323.69it/s]\n"
     ]
    },
    {
     "name": "stdout",
     "output_type": "stream",
     "text": [
      "Epoch:558/1000.. Train Loss: 0.014.. Val Loss: 0.106.. Test Loss: 0.057.. Time: 0.03m\n"
     ]
    },
    {
     "name": "stderr",
     "output_type": "stream",
     "text": [
      "100%|██████████| 107/107 [00:01<00:00, 69.57it/s]\n",
      "100%|██████████| 18/18 [00:00<00:00, 325.75it/s]\n",
      "100%|██████████| 53/53 [00:00<00:00, 330.11it/s]\n"
     ]
    },
    {
     "name": "stdout",
     "output_type": "stream",
     "text": [
      "Epoch:559/1000.. Train Loss: 0.017.. Val Loss: 0.123.. Test Loss: 0.058.. Time: 0.03m\n"
     ]
    },
    {
     "name": "stderr",
     "output_type": "stream",
     "text": [
      "100%|██████████| 107/107 [00:01<00:00, 70.10it/s]\n",
      "100%|██████████| 18/18 [00:00<00:00, 325.93it/s]\n",
      "100%|██████████| 53/53 [00:00<00:00, 329.86it/s]\n"
     ]
    },
    {
     "name": "stdout",
     "output_type": "stream",
     "text": [
      "Epoch:560/1000.. Train Loss: 0.015.. Val Loss: 0.095.. Test Loss: 0.059.. Time: 0.03m\n"
     ]
    },
    {
     "name": "stderr",
     "output_type": "stream",
     "text": [
      "100%|██████████| 107/107 [00:01<00:00, 70.69it/s]\n",
      "100%|██████████| 18/18 [00:00<00:00, 330.26it/s]\n",
      "100%|██████████| 53/53 [00:00<00:00, 331.92it/s]\n"
     ]
    },
    {
     "name": "stdout",
     "output_type": "stream",
     "text": [
      "Epoch:561/1000.. Train Loss: 0.018.. Val Loss: 0.083.. Test Loss: 0.058.. Time: 0.03m\n"
     ]
    },
    {
     "name": "stderr",
     "output_type": "stream",
     "text": [
      "100%|██████████| 107/107 [00:01<00:00, 70.72it/s]\n",
      "100%|██████████| 18/18 [00:00<00:00, 322.38it/s]\n",
      "100%|██████████| 53/53 [00:00<00:00, 330.43it/s]\n"
     ]
    },
    {
     "name": "stdout",
     "output_type": "stream",
     "text": [
      "Epoch:562/1000.. Train Loss: 0.015.. Val Loss: 0.117.. Test Loss: 0.059.. Time: 0.03m\n"
     ]
    },
    {
     "name": "stderr",
     "output_type": "stream",
     "text": [
      "100%|██████████| 107/107 [00:01<00:00, 70.38it/s]\n",
      "100%|██████████| 18/18 [00:00<00:00, 335.80it/s]\n",
      "100%|██████████| 53/53 [00:00<00:00, 328.41it/s]\n"
     ]
    },
    {
     "name": "stdout",
     "output_type": "stream",
     "text": [
      "Epoch:563/1000.. Train Loss: 0.014.. Val Loss: 0.129.. Test Loss: 0.059.. Time: 0.03m\n"
     ]
    },
    {
     "name": "stderr",
     "output_type": "stream",
     "text": [
      "100%|██████████| 107/107 [00:01<00:00, 70.97it/s]\n",
      "100%|██████████| 18/18 [00:00<00:00, 326.60it/s]\n",
      "100%|██████████| 53/53 [00:00<00:00, 317.08it/s]\n"
     ]
    },
    {
     "name": "stdout",
     "output_type": "stream",
     "text": [
      "Epoch:564/1000.. Train Loss: 0.013.. Val Loss: 0.072.. Test Loss: 0.070.. Time: 0.03m\n"
     ]
    },
    {
     "name": "stderr",
     "output_type": "stream",
     "text": [
      "100%|██████████| 107/107 [00:01<00:00, 71.37it/s]\n",
      "100%|██████████| 18/18 [00:00<00:00, 326.41it/s]\n",
      "100%|██████████| 53/53 [00:00<00:00, 331.31it/s]\n"
     ]
    },
    {
     "name": "stdout",
     "output_type": "stream",
     "text": [
      "Epoch:565/1000.. Train Loss: 0.014.. Val Loss: 0.104.. Test Loss: 0.065.. Time: 0.03m\n"
     ]
    },
    {
     "name": "stderr",
     "output_type": "stream",
     "text": [
      "100%|██████████| 107/107 [00:01<00:00, 69.96it/s]\n",
      "100%|██████████| 18/18 [00:00<00:00, 332.55it/s]\n",
      "100%|██████████| 53/53 [00:00<00:00, 326.75it/s]\n"
     ]
    },
    {
     "name": "stdout",
     "output_type": "stream",
     "text": [
      "Epoch:566/1000.. Train Loss: 0.013.. Val Loss: 0.089.. Test Loss: 0.062.. Time: 0.03m\n"
     ]
    },
    {
     "name": "stderr",
     "output_type": "stream",
     "text": [
      "100%|██████████| 107/107 [00:01<00:00, 70.55it/s]\n",
      "100%|██████████| 18/18 [00:00<00:00, 324.99it/s]\n",
      "100%|██████████| 53/53 [00:00<00:00, 326.51it/s]\n"
     ]
    },
    {
     "name": "stdout",
     "output_type": "stream",
     "text": [
      "Epoch:567/1000.. Train Loss: 0.016.. Val Loss: 0.104.. Test Loss: 0.064.. Time: 0.03m\n"
     ]
    },
    {
     "name": "stderr",
     "output_type": "stream",
     "text": [
      "100%|██████████| 107/107 [00:01<00:00, 67.96it/s]\n",
      "100%|██████████| 18/18 [00:00<00:00, 325.31it/s]\n",
      "100%|██████████| 53/53 [00:00<00:00, 330.35it/s]\n"
     ]
    },
    {
     "name": "stdout",
     "output_type": "stream",
     "text": [
      "Epoch:568/1000.. Train Loss: 0.018.. Val Loss: 0.100.. Test Loss: 0.061.. Time: 0.03m\n"
     ]
    },
    {
     "name": "stderr",
     "output_type": "stream",
     "text": [
      "100%|██████████| 107/107 [00:01<00:00, 69.98it/s]\n",
      "100%|██████████| 18/18 [00:00<00:00, 334.16it/s]\n",
      "100%|██████████| 53/53 [00:00<00:00, 326.62it/s]\n"
     ]
    },
    {
     "name": "stdout",
     "output_type": "stream",
     "text": [
      "Epoch:569/1000.. Train Loss: 0.015.. Val Loss: 0.089.. Test Loss: 0.064.. Time: 0.03m\n"
     ]
    },
    {
     "name": "stderr",
     "output_type": "stream",
     "text": [
      "100%|██████████| 107/107 [00:01<00:00, 71.14it/s]\n",
      "100%|██████████| 18/18 [00:00<00:00, 329.67it/s]\n",
      "100%|██████████| 53/53 [00:00<00:00, 331.58it/s]\n"
     ]
    },
    {
     "name": "stdout",
     "output_type": "stream",
     "text": [
      "Epoch:570/1000.. Train Loss: 0.016.. Val Loss: 0.099.. Test Loss: 0.060.. Time: 0.03m\n"
     ]
    },
    {
     "name": "stderr",
     "output_type": "stream",
     "text": [
      "100%|██████████| 107/107 [00:01<00:00, 70.71it/s]\n",
      "100%|██████████| 18/18 [00:00<00:00, 329.18it/s]\n",
      "100%|██████████| 53/53 [00:00<00:00, 330.82it/s]\n"
     ]
    },
    {
     "name": "stdout",
     "output_type": "stream",
     "text": [
      "Epoch:571/1000.. Train Loss: 0.017.. Val Loss: 0.102.. Test Loss: 0.058.. Time: 0.03m\n"
     ]
    },
    {
     "name": "stderr",
     "output_type": "stream",
     "text": [
      "100%|██████████| 107/107 [00:01<00:00, 70.23it/s]\n",
      "100%|██████████| 18/18 [00:00<00:00, 328.40it/s]\n",
      "100%|██████████| 53/53 [00:00<00:00, 327.18it/s]\n"
     ]
    },
    {
     "name": "stdout",
     "output_type": "stream",
     "text": [
      "Epoch:572/1000.. Train Loss: 0.014.. Val Loss: 0.106.. Test Loss: 0.062.. Time: 0.03m\n"
     ]
    },
    {
     "name": "stderr",
     "output_type": "stream",
     "text": [
      "100%|██████████| 107/107 [00:01<00:00, 70.18it/s]\n",
      "100%|██████████| 18/18 [00:00<00:00, 327.43it/s]\n",
      "100%|██████████| 53/53 [00:00<00:00, 330.41it/s]\n"
     ]
    },
    {
     "name": "stdout",
     "output_type": "stream",
     "text": [
      "Epoch:573/1000.. Train Loss: 0.014.. Val Loss: 0.105.. Test Loss: 0.060.. Time: 0.03m\n"
     ]
    },
    {
     "name": "stderr",
     "output_type": "stream",
     "text": [
      "100%|██████████| 107/107 [00:01<00:00, 70.09it/s]\n",
      "100%|██████████| 18/18 [00:00<00:00, 330.78it/s]\n",
      "100%|██████████| 53/53 [00:00<00:00, 329.44it/s]\n"
     ]
    },
    {
     "name": "stdout",
     "output_type": "stream",
     "text": [
      "Epoch:574/1000.. Train Loss: 0.013.. Val Loss: 0.104.. Test Loss: 0.063.. Time: 0.03m\n"
     ]
    },
    {
     "name": "stderr",
     "output_type": "stream",
     "text": [
      "100%|██████████| 107/107 [00:01<00:00, 70.14it/s]\n",
      "100%|██████████| 18/18 [00:00<00:00, 321.28it/s]\n",
      "100%|██████████| 53/53 [00:00<00:00, 322.29it/s]\n"
     ]
    },
    {
     "name": "stdout",
     "output_type": "stream",
     "text": [
      "Epoch:575/1000.. Train Loss: 0.013.. Val Loss: 0.098.. Test Loss: 0.061.. Time: 0.03m\n"
     ]
    },
    {
     "name": "stderr",
     "output_type": "stream",
     "text": [
      "100%|██████████| 107/107 [00:01<00:00, 69.92it/s]\n",
      "100%|██████████| 18/18 [00:00<00:00, 326.81it/s]\n",
      "100%|██████████| 53/53 [00:00<00:00, 328.97it/s]\n"
     ]
    },
    {
     "name": "stdout",
     "output_type": "stream",
     "text": [
      "Epoch:576/1000.. Train Loss: 0.014.. Val Loss: 0.110.. Test Loss: 0.060.. Time: 0.03m\n"
     ]
    },
    {
     "name": "stderr",
     "output_type": "stream",
     "text": [
      "100%|██████████| 107/107 [00:01<00:00, 71.09it/s]\n",
      "100%|██████████| 18/18 [00:00<00:00, 320.30it/s]\n",
      "100%|██████████| 53/53 [00:00<00:00, 326.28it/s]\n"
     ]
    },
    {
     "name": "stdout",
     "output_type": "stream",
     "text": [
      "Epoch:577/1000.. Train Loss: 0.016.. Val Loss: 0.110.. Test Loss: 0.064.. Time: 0.03m\n"
     ]
    },
    {
     "name": "stderr",
     "output_type": "stream",
     "text": [
      "100%|██████████| 107/107 [00:01<00:00, 70.14it/s]\n",
      "100%|██████████| 18/18 [00:00<00:00, 332.59it/s]\n",
      "100%|██████████| 53/53 [00:00<00:00, 329.67it/s]\n"
     ]
    },
    {
     "name": "stdout",
     "output_type": "stream",
     "text": [
      "Epoch:578/1000.. Train Loss: 0.012.. Val Loss: 0.140.. Test Loss: 0.061.. Time: 0.03m\n"
     ]
    },
    {
     "name": "stderr",
     "output_type": "stream",
     "text": [
      "100%|██████████| 107/107 [00:01<00:00, 71.23it/s]\n",
      "100%|██████████| 18/18 [00:00<00:00, 329.93it/s]\n",
      "100%|██████████| 53/53 [00:00<00:00, 331.17it/s]\n"
     ]
    },
    {
     "name": "stdout",
     "output_type": "stream",
     "text": [
      "Epoch:579/1000.. Train Loss: 0.019.. Val Loss: 0.096.. Test Loss: 0.065.. Time: 0.03m\n"
     ]
    },
    {
     "name": "stderr",
     "output_type": "stream",
     "text": [
      "100%|██████████| 107/107 [00:01<00:00, 70.76it/s]\n",
      "100%|██████████| 18/18 [00:00<00:00, 329.35it/s]\n",
      "100%|██████████| 53/53 [00:00<00:00, 327.99it/s]\n"
     ]
    },
    {
     "name": "stdout",
     "output_type": "stream",
     "text": [
      "Epoch:580/1000.. Train Loss: 0.014.. Val Loss: 0.109.. Test Loss: 0.065.. Time: 0.03m\n"
     ]
    },
    {
     "name": "stderr",
     "output_type": "stream",
     "text": [
      "100%|██████████| 107/107 [00:01<00:00, 72.18it/s]\n",
      "100%|██████████| 18/18 [00:00<00:00, 332.55it/s]\n",
      "100%|██████████| 53/53 [00:00<00:00, 331.59it/s]\n"
     ]
    },
    {
     "name": "stdout",
     "output_type": "stream",
     "text": [
      "Epoch:581/1000.. Train Loss: 0.017.. Val Loss: 0.106.. Test Loss: 0.065.. Time: 0.03m\n"
     ]
    },
    {
     "name": "stderr",
     "output_type": "stream",
     "text": [
      "100%|██████████| 107/107 [00:01<00:00, 71.93it/s]\n",
      "100%|██████████| 18/18 [00:00<00:00, 327.55it/s]\n",
      "100%|██████████| 53/53 [00:00<00:00, 335.81it/s]\n"
     ]
    },
    {
     "name": "stdout",
     "output_type": "stream",
     "text": [
      "Epoch:582/1000.. Train Loss: 0.013.. Val Loss: 0.108.. Test Loss: 0.062.. Time: 0.03m\n"
     ]
    },
    {
     "name": "stderr",
     "output_type": "stream",
     "text": [
      "100%|██████████| 107/107 [00:01<00:00, 71.38it/s]\n",
      "100%|██████████| 18/18 [00:00<00:00, 326.33it/s]\n",
      "100%|██████████| 53/53 [00:00<00:00, 326.02it/s]\n"
     ]
    },
    {
     "name": "stdout",
     "output_type": "stream",
     "text": [
      "Epoch:583/1000.. Train Loss: 0.015.. Val Loss: 0.113.. Test Loss: 0.062.. Time: 0.03m\n"
     ]
    },
    {
     "name": "stderr",
     "output_type": "stream",
     "text": [
      "100%|██████████| 107/107 [00:01<00:00, 68.68it/s]\n",
      "100%|██████████| 18/18 [00:00<00:00, 322.29it/s]\n",
      "100%|██████████| 53/53 [00:00<00:00, 330.50it/s]\n"
     ]
    },
    {
     "name": "stdout",
     "output_type": "stream",
     "text": [
      "Epoch:584/1000.. Train Loss: 0.015.. Val Loss: 0.095.. Test Loss: 0.061.. Time: 0.03m\n"
     ]
    },
    {
     "name": "stderr",
     "output_type": "stream",
     "text": [
      "100%|██████████| 107/107 [00:01<00:00, 72.00it/s]\n",
      "100%|██████████| 18/18 [00:00<00:00, 327.20it/s]\n",
      "100%|██████████| 53/53 [00:00<00:00, 329.60it/s]\n"
     ]
    },
    {
     "name": "stdout",
     "output_type": "stream",
     "text": [
      "Epoch:585/1000.. Train Loss: 0.014.. Val Loss: 0.109.. Test Loss: 0.061.. Time: 0.03m\n"
     ]
    },
    {
     "name": "stderr",
     "output_type": "stream",
     "text": [
      "100%|██████████| 107/107 [00:01<00:00, 62.88it/s]\n",
      "100%|██████████| 18/18 [00:00<00:00, 327.44it/s]\n",
      "100%|██████████| 53/53 [00:00<00:00, 331.03it/s]\n"
     ]
    },
    {
     "name": "stdout",
     "output_type": "stream",
     "text": [
      "Epoch:586/1000.. Train Loss: 0.014.. Val Loss: 0.102.. Test Loss: 0.062.. Time: 0.03m\n"
     ]
    },
    {
     "name": "stderr",
     "output_type": "stream",
     "text": [
      "100%|██████████| 107/107 [00:01<00:00, 70.95it/s]\n",
      "100%|██████████| 18/18 [00:00<00:00, 322.54it/s]\n",
      "100%|██████████| 53/53 [00:00<00:00, 327.87it/s]\n"
     ]
    },
    {
     "name": "stdout",
     "output_type": "stream",
     "text": [
      "Epoch:587/1000.. Train Loss: 0.014.. Val Loss: 0.108.. Test Loss: 0.066.. Time: 0.03m\n"
     ]
    },
    {
     "name": "stderr",
     "output_type": "stream",
     "text": [
      "100%|██████████| 107/107 [00:01<00:00, 70.16it/s]\n",
      "100%|██████████| 18/18 [00:00<00:00, 334.22it/s]\n",
      "100%|██████████| 53/53 [00:00<00:00, 330.41it/s]\n"
     ]
    },
    {
     "name": "stdout",
     "output_type": "stream",
     "text": [
      "Epoch:588/1000.. Train Loss: 0.015.. Val Loss: 0.098.. Test Loss: 0.063.. Time: 0.03m\n"
     ]
    },
    {
     "name": "stderr",
     "output_type": "stream",
     "text": [
      "100%|██████████| 107/107 [00:01<00:00, 71.51it/s]\n",
      "100%|██████████| 18/18 [00:00<00:00, 329.87it/s]\n",
      "100%|██████████| 53/53 [00:00<00:00, 322.76it/s]\n"
     ]
    },
    {
     "name": "stdout",
     "output_type": "stream",
     "text": [
      "Epoch:589/1000.. Train Loss: 0.013.. Val Loss: 0.111.. Test Loss: 0.063.. Time: 0.03m\n"
     ]
    },
    {
     "name": "stderr",
     "output_type": "stream",
     "text": [
      "100%|██████████| 107/107 [00:01<00:00, 69.21it/s]\n",
      "100%|██████████| 18/18 [00:00<00:00, 332.56it/s]\n",
      "100%|██████████| 53/53 [00:00<00:00, 332.59it/s]\n"
     ]
    },
    {
     "name": "stdout",
     "output_type": "stream",
     "text": [
      "Epoch:590/1000.. Train Loss: 0.014.. Val Loss: 0.112.. Test Loss: 0.061.. Time: 0.03m\n"
     ]
    },
    {
     "name": "stderr",
     "output_type": "stream",
     "text": [
      "100%|██████████| 107/107 [00:01<00:00, 69.64it/s]\n",
      "100%|██████████| 18/18 [00:00<00:00, 325.69it/s]\n",
      "100%|██████████| 53/53 [00:00<00:00, 326.42it/s]\n"
     ]
    },
    {
     "name": "stdout",
     "output_type": "stream",
     "text": [
      "Epoch:591/1000.. Train Loss: 0.014.. Val Loss: 0.113.. Test Loss: 0.060.. Time: 0.03m\n"
     ]
    },
    {
     "name": "stderr",
     "output_type": "stream",
     "text": [
      "100%|██████████| 107/107 [00:01<00:00, 69.94it/s]\n",
      "100%|██████████| 18/18 [00:00<00:00, 326.70it/s]\n",
      "100%|██████████| 53/53 [00:00<00:00, 331.49it/s]\n"
     ]
    },
    {
     "name": "stdout",
     "output_type": "stream",
     "text": [
      "Epoch:592/1000.. Train Loss: 0.014.. Val Loss: 0.117.. Test Loss: 0.056.. Time: 0.03m\n"
     ]
    },
    {
     "name": "stderr",
     "output_type": "stream",
     "text": [
      "100%|██████████| 107/107 [00:01<00:00, 70.07it/s]\n",
      "100%|██████████| 18/18 [00:00<00:00, 332.03it/s]\n",
      "100%|██████████| 53/53 [00:00<00:00, 323.21it/s]\n"
     ]
    },
    {
     "name": "stdout",
     "output_type": "stream",
     "text": [
      "Epoch:593/1000.. Train Loss: 0.017.. Val Loss: 0.116.. Test Loss: 0.052.. Time: 0.03m\n"
     ]
    },
    {
     "name": "stderr",
     "output_type": "stream",
     "text": [
      "100%|██████████| 107/107 [00:01<00:00, 69.41it/s]\n",
      "100%|██████████| 18/18 [00:00<00:00, 319.54it/s]\n",
      "100%|██████████| 53/53 [00:00<00:00, 325.92it/s]\n"
     ]
    },
    {
     "name": "stdout",
     "output_type": "stream",
     "text": [
      "Epoch:594/1000.. Train Loss: 0.015.. Val Loss: 0.111.. Test Loss: 0.056.. Time: 0.03m\n"
     ]
    },
    {
     "name": "stderr",
     "output_type": "stream",
     "text": [
      "100%|██████████| 107/107 [00:01<00:00, 70.63it/s]\n",
      "100%|██████████| 18/18 [00:00<00:00, 323.95it/s]\n",
      "100%|██████████| 53/53 [00:00<00:00, 325.02it/s]\n"
     ]
    },
    {
     "name": "stdout",
     "output_type": "stream",
     "text": [
      "Epoch:595/1000.. Train Loss: 0.013.. Val Loss: 0.101.. Test Loss: 0.061.. Time: 0.03m\n"
     ]
    },
    {
     "name": "stderr",
     "output_type": "stream",
     "text": [
      "100%|██████████| 107/107 [00:01<00:00, 70.36it/s]\n",
      "100%|██████████| 18/18 [00:00<00:00, 324.48it/s]\n",
      "100%|██████████| 53/53 [00:00<00:00, 327.61it/s]\n"
     ]
    },
    {
     "name": "stdout",
     "output_type": "stream",
     "text": [
      "Epoch:596/1000.. Train Loss: 0.013.. Val Loss: 0.120.. Test Loss: 0.060.. Time: 0.03m\n"
     ]
    },
    {
     "name": "stderr",
     "output_type": "stream",
     "text": [
      "100%|██████████| 107/107 [00:01<00:00, 68.47it/s]\n",
      "100%|██████████| 18/18 [00:00<00:00, 323.32it/s]\n",
      "100%|██████████| 53/53 [00:00<00:00, 325.94it/s]\n"
     ]
    },
    {
     "name": "stdout",
     "output_type": "stream",
     "text": [
      "Epoch:597/1000.. Train Loss: 0.015.. Val Loss: 0.116.. Test Loss: 0.058.. Time: 0.03m\n"
     ]
    },
    {
     "name": "stderr",
     "output_type": "stream",
     "text": [
      "100%|██████████| 107/107 [00:01<00:00, 70.98it/s]\n",
      "100%|██████████| 18/18 [00:00<00:00, 333.28it/s]\n",
      "100%|██████████| 53/53 [00:00<00:00, 327.12it/s]\n"
     ]
    },
    {
     "name": "stdout",
     "output_type": "stream",
     "text": [
      "Epoch:598/1000.. Train Loss: 0.013.. Val Loss: 0.119.. Test Loss: 0.060.. Time: 0.03m\n"
     ]
    },
    {
     "name": "stderr",
     "output_type": "stream",
     "text": [
      "100%|██████████| 107/107 [00:01<00:00, 71.18it/s]\n",
      "100%|██████████| 18/18 [00:00<00:00, 331.87it/s]\n",
      "100%|██████████| 53/53 [00:00<00:00, 325.63it/s]\n"
     ]
    },
    {
     "name": "stdout",
     "output_type": "stream",
     "text": [
      "Epoch:599/1000.. Train Loss: 0.013.. Val Loss: 0.151.. Test Loss: 0.063.. Time: 0.03m\n"
     ]
    },
    {
     "name": "stderr",
     "output_type": "stream",
     "text": [
      "100%|██████████| 107/107 [00:01<00:00, 69.83it/s]\n",
      "100%|██████████| 18/18 [00:00<00:00, 316.69it/s]\n",
      "100%|██████████| 53/53 [00:00<00:00, 326.05it/s]\n"
     ]
    },
    {
     "name": "stdout",
     "output_type": "stream",
     "text": [
      "Epoch:600/1000.. Train Loss: 0.014.. Val Loss: 0.107.. Test Loss: 0.058.. Time: 0.03m\n"
     ]
    },
    {
     "name": "stderr",
     "output_type": "stream",
     "text": [
      "100%|██████████| 107/107 [00:01<00:00, 64.20it/s]\n",
      "100%|██████████| 18/18 [00:00<00:00, 328.46it/s]\n",
      "100%|██████████| 53/53 [00:00<00:00, 330.51it/s]\n"
     ]
    },
    {
     "name": "stdout",
     "output_type": "stream",
     "text": [
      "Epoch:601/1000.. Train Loss: 0.014.. Val Loss: 0.115.. Test Loss: 0.058.. Time: 0.03m\n"
     ]
    },
    {
     "name": "stderr",
     "output_type": "stream",
     "text": [
      "100%|██████████| 107/107 [00:01<00:00, 69.40it/s]\n",
      "100%|██████████| 18/18 [00:00<00:00, 332.43it/s]\n",
      "100%|██████████| 53/53 [00:00<00:00, 330.97it/s]\n"
     ]
    },
    {
     "name": "stdout",
     "output_type": "stream",
     "text": [
      "Epoch:602/1000.. Train Loss: 0.016.. Val Loss: 0.110.. Test Loss: 0.056.. Time: 0.03m\n"
     ]
    },
    {
     "name": "stderr",
     "output_type": "stream",
     "text": [
      "100%|██████████| 107/107 [00:01<00:00, 66.97it/s]\n",
      "100%|██████████| 18/18 [00:00<00:00, 247.86it/s]\n",
      "100%|██████████| 53/53 [00:00<00:00, 312.82it/s]\n"
     ]
    },
    {
     "name": "stdout",
     "output_type": "stream",
     "text": [
      "Epoch:603/1000.. Train Loss: 0.014.. Val Loss: 0.086.. Test Loss: 0.061.. Time: 0.03m\n"
     ]
    },
    {
     "name": "stderr",
     "output_type": "stream",
     "text": [
      "100%|██████████| 107/107 [00:01<00:00, 70.22it/s]\n",
      "100%|██████████| 18/18 [00:00<00:00, 327.76it/s]\n",
      "100%|██████████| 53/53 [00:00<00:00, 326.47it/s]\n"
     ]
    },
    {
     "name": "stdout",
     "output_type": "stream",
     "text": [
      "Epoch:604/1000.. Train Loss: 0.013.. Val Loss: 0.091.. Test Loss: 0.065.. Time: 0.03m\n"
     ]
    },
    {
     "name": "stderr",
     "output_type": "stream",
     "text": [
      "100%|██████████| 107/107 [00:01<00:00, 69.80it/s]\n",
      "100%|██████████| 18/18 [00:00<00:00, 322.53it/s]\n",
      "100%|██████████| 53/53 [00:00<00:00, 331.92it/s]\n"
     ]
    },
    {
     "name": "stdout",
     "output_type": "stream",
     "text": [
      "Epoch:605/1000.. Train Loss: 0.014.. Val Loss: 0.113.. Test Loss: 0.062.. Time: 0.03m\n"
     ]
    },
    {
     "name": "stderr",
     "output_type": "stream",
     "text": [
      "100%|██████████| 107/107 [00:01<00:00, 74.38it/s]\n",
      "100%|██████████| 18/18 [00:00<00:00, 318.50it/s]\n",
      "100%|██████████| 53/53 [00:00<00:00, 329.54it/s]\n"
     ]
    },
    {
     "name": "stdout",
     "output_type": "stream",
     "text": [
      "Epoch:606/1000.. Train Loss: 0.015.. Val Loss: 0.104.. Test Loss: 0.058.. Time: 0.03m\n"
     ]
    },
    {
     "name": "stderr",
     "output_type": "stream",
     "text": [
      "100%|██████████| 107/107 [00:01<00:00, 73.94it/s]\n",
      "100%|██████████| 18/18 [00:00<00:00, 324.32it/s]\n",
      "100%|██████████| 53/53 [00:00<00:00, 329.25it/s]\n"
     ]
    },
    {
     "name": "stdout",
     "output_type": "stream",
     "text": [
      "Epoch:607/1000.. Train Loss: 0.014.. Val Loss: 0.104.. Test Loss: 0.058.. Time: 0.03m\n"
     ]
    },
    {
     "name": "stderr",
     "output_type": "stream",
     "text": [
      "100%|██████████| 107/107 [00:01<00:00, 69.06it/s]\n",
      "100%|██████████| 18/18 [00:00<00:00, 328.98it/s]\n",
      "100%|██████████| 53/53 [00:00<00:00, 326.81it/s]\n"
     ]
    },
    {
     "name": "stdout",
     "output_type": "stream",
     "text": [
      "Epoch:608/1000.. Train Loss: 0.015.. Val Loss: 0.115.. Test Loss: 0.064.. Time: 0.03m\n"
     ]
    },
    {
     "name": "stderr",
     "output_type": "stream",
     "text": [
      "100%|██████████| 107/107 [00:01<00:00, 69.54it/s]\n",
      "100%|██████████| 18/18 [00:00<00:00, 303.47it/s]\n",
      "100%|██████████| 53/53 [00:00<00:00, 295.57it/s]\n"
     ]
    },
    {
     "name": "stdout",
     "output_type": "stream",
     "text": [
      "Epoch:609/1000.. Train Loss: 0.012.. Val Loss: 0.115.. Test Loss: 0.063.. Time: 0.03m\n"
     ]
    },
    {
     "name": "stderr",
     "output_type": "stream",
     "text": [
      "100%|██████████| 107/107 [00:01<00:00, 67.78it/s]\n",
      "100%|██████████| 18/18 [00:00<00:00, 320.49it/s]\n",
      "100%|██████████| 53/53 [00:00<00:00, 325.05it/s]\n"
     ]
    },
    {
     "name": "stdout",
     "output_type": "stream",
     "text": [
      "Epoch:610/1000.. Train Loss: 0.013.. Val Loss: 0.093.. Test Loss: 0.068.. Time: 0.03m\n"
     ]
    },
    {
     "name": "stderr",
     "output_type": "stream",
     "text": [
      "100%|██████████| 107/107 [00:01<00:00, 70.15it/s]\n",
      "100%|██████████| 18/18 [00:00<00:00, 328.29it/s]\n",
      "100%|██████████| 53/53 [00:00<00:00, 329.25it/s]\n"
     ]
    },
    {
     "name": "stdout",
     "output_type": "stream",
     "text": [
      "Epoch:611/1000.. Train Loss: 0.014.. Val Loss: 0.099.. Test Loss: 0.067.. Time: 0.03m\n"
     ]
    },
    {
     "name": "stderr",
     "output_type": "stream",
     "text": [
      "100%|██████████| 107/107 [00:01<00:00, 71.79it/s]\n",
      "100%|██████████| 18/18 [00:00<00:00, 332.22it/s]\n",
      "100%|██████████| 53/53 [00:00<00:00, 328.99it/s]\n"
     ]
    },
    {
     "name": "stdout",
     "output_type": "stream",
     "text": [
      "Epoch:612/1000.. Train Loss: 0.016.. Val Loss: 0.119.. Test Loss: 0.065.. Time: 0.03m\n"
     ]
    },
    {
     "name": "stderr",
     "output_type": "stream",
     "text": [
      "100%|██████████| 107/107 [00:01<00:00, 69.61it/s]\n",
      "100%|██████████| 18/18 [00:00<00:00, 328.50it/s]\n",
      "100%|██████████| 53/53 [00:00<00:00, 328.52it/s]\n"
     ]
    },
    {
     "name": "stdout",
     "output_type": "stream",
     "text": [
      "Epoch:613/1000.. Train Loss: 0.014.. Val Loss: 0.110.. Test Loss: 0.067.. Time: 0.03m\n"
     ]
    },
    {
     "name": "stderr",
     "output_type": "stream",
     "text": [
      "100%|██████████| 107/107 [00:01<00:00, 69.58it/s]\n",
      "100%|██████████| 18/18 [00:00<00:00, 320.91it/s]\n",
      "100%|██████████| 53/53 [00:00<00:00, 329.25it/s]\n"
     ]
    },
    {
     "name": "stdout",
     "output_type": "stream",
     "text": [
      "Epoch:614/1000.. Train Loss: 0.011.. Val Loss: 0.120.. Test Loss: 0.067.. Time: 0.03m\n"
     ]
    },
    {
     "name": "stderr",
     "output_type": "stream",
     "text": [
      "100%|██████████| 107/107 [00:01<00:00, 70.90it/s]\n",
      "100%|██████████| 18/18 [00:00<00:00, 329.12it/s]\n",
      "100%|██████████| 53/53 [00:00<00:00, 327.18it/s]\n"
     ]
    },
    {
     "name": "stdout",
     "output_type": "stream",
     "text": [
      "Epoch:615/1000.. Train Loss: 0.015.. Val Loss: 0.121.. Test Loss: 0.069.. Time: 0.03m\n"
     ]
    },
    {
     "name": "stderr",
     "output_type": "stream",
     "text": [
      "100%|██████████| 107/107 [00:01<00:00, 71.52it/s]\n",
      "100%|██████████| 18/18 [00:00<00:00, 330.23it/s]\n",
      "100%|██████████| 53/53 [00:00<00:00, 330.92it/s]\n"
     ]
    },
    {
     "name": "stdout",
     "output_type": "stream",
     "text": [
      "Epoch:616/1000.. Train Loss: 0.015.. Val Loss: 0.101.. Test Loss: 0.070.. Time: 0.03m\n"
     ]
    },
    {
     "name": "stderr",
     "output_type": "stream",
     "text": [
      "100%|██████████| 107/107 [00:01<00:00, 69.32it/s]\n",
      "100%|██████████| 18/18 [00:00<00:00, 329.57it/s]\n",
      "100%|██████████| 53/53 [00:00<00:00, 324.79it/s]\n"
     ]
    },
    {
     "name": "stdout",
     "output_type": "stream",
     "text": [
      "Epoch:617/1000.. Train Loss: 0.012.. Val Loss: 0.114.. Test Loss: 0.066.. Time: 0.03m\n"
     ]
    },
    {
     "name": "stderr",
     "output_type": "stream",
     "text": [
      "100%|██████████| 107/107 [00:01<00:00, 69.93it/s]\n",
      "100%|██████████| 18/18 [00:00<00:00, 328.88it/s]\n",
      "100%|██████████| 53/53 [00:00<00:00, 319.78it/s]\n"
     ]
    },
    {
     "name": "stdout",
     "output_type": "stream",
     "text": [
      "Epoch:618/1000.. Train Loss: 0.016.. Val Loss: 0.111.. Test Loss: 0.063.. Time: 0.03m\n"
     ]
    },
    {
     "name": "stderr",
     "output_type": "stream",
     "text": [
      "100%|██████████| 107/107 [00:01<00:00, 70.10it/s]\n",
      "100%|██████████| 18/18 [00:00<00:00, 330.00it/s]\n",
      "100%|██████████| 53/53 [00:00<00:00, 331.65it/s]\n"
     ]
    },
    {
     "name": "stdout",
     "output_type": "stream",
     "text": [
      "Epoch:619/1000.. Train Loss: 0.015.. Val Loss: 0.109.. Test Loss: 0.062.. Time: 0.03m\n"
     ]
    },
    {
     "name": "stderr",
     "output_type": "stream",
     "text": [
      "100%|██████████| 107/107 [00:01<00:00, 69.94it/s]\n",
      "100%|██████████| 18/18 [00:00<00:00, 331.65it/s]\n",
      "100%|██████████| 53/53 [00:00<00:00, 328.52it/s]\n"
     ]
    },
    {
     "name": "stdout",
     "output_type": "stream",
     "text": [
      "Epoch:620/1000.. Train Loss: 0.013.. Val Loss: 0.113.. Test Loss: 0.061.. Time: 0.03m\n"
     ]
    },
    {
     "name": "stderr",
     "output_type": "stream",
     "text": [
      "100%|██████████| 107/107 [00:01<00:00, 69.64it/s]\n",
      "100%|██████████| 18/18 [00:00<00:00, 322.60it/s]\n",
      "100%|██████████| 53/53 [00:00<00:00, 329.75it/s]\n"
     ]
    },
    {
     "name": "stdout",
     "output_type": "stream",
     "text": [
      "Epoch:621/1000.. Train Loss: 0.014.. Val Loss: 0.092.. Test Loss: 0.060.. Time: 0.03m\n"
     ]
    },
    {
     "name": "stderr",
     "output_type": "stream",
     "text": [
      "100%|██████████| 107/107 [00:01<00:00, 70.74it/s]\n",
      "100%|██████████| 18/18 [00:00<00:00, 326.25it/s]\n",
      "100%|██████████| 53/53 [00:00<00:00, 331.03it/s]\n"
     ]
    },
    {
     "name": "stdout",
     "output_type": "stream",
     "text": [
      "Epoch:622/1000.. Train Loss: 0.014.. Val Loss: 0.126.. Test Loss: 0.060.. Time: 0.03m\n"
     ]
    },
    {
     "name": "stderr",
     "output_type": "stream",
     "text": [
      "100%|██████████| 107/107 [00:01<00:00, 70.42it/s]\n",
      "100%|██████████| 18/18 [00:00<00:00, 326.57it/s]\n",
      "100%|██████████| 53/53 [00:00<00:00, 311.36it/s]\n"
     ]
    },
    {
     "name": "stdout",
     "output_type": "stream",
     "text": [
      "Epoch:623/1000.. Train Loss: 0.013.. Val Loss: 0.114.. Test Loss: 0.060.. Time: 0.03m\n"
     ]
    },
    {
     "name": "stderr",
     "output_type": "stream",
     "text": [
      "100%|██████████| 107/107 [00:01<00:00, 70.79it/s]\n",
      "100%|██████████| 18/18 [00:00<00:00, 321.29it/s]\n",
      "100%|██████████| 53/53 [00:00<00:00, 324.58it/s]\n"
     ]
    },
    {
     "name": "stdout",
     "output_type": "stream",
     "text": [
      "Epoch:624/1000.. Train Loss: 0.014.. Val Loss: 0.102.. Test Loss: 0.058.. Time: 0.03m\n"
     ]
    },
    {
     "name": "stderr",
     "output_type": "stream",
     "text": [
      "100%|██████████| 107/107 [00:01<00:00, 69.10it/s]\n",
      "100%|██████████| 18/18 [00:00<00:00, 314.37it/s]\n",
      "100%|██████████| 53/53 [00:00<00:00, 324.65it/s]\n"
     ]
    },
    {
     "name": "stdout",
     "output_type": "stream",
     "text": [
      "Epoch:625/1000.. Train Loss: 0.015.. Val Loss: 0.100.. Test Loss: 0.059.. Time: 0.03m\n"
     ]
    },
    {
     "name": "stderr",
     "output_type": "stream",
     "text": [
      "100%|██████████| 107/107 [00:01<00:00, 69.56it/s]\n",
      "100%|██████████| 18/18 [00:00<00:00, 327.34it/s]\n",
      "100%|██████████| 53/53 [00:00<00:00, 323.07it/s]\n"
     ]
    },
    {
     "name": "stdout",
     "output_type": "stream",
     "text": [
      "Epoch:626/1000.. Train Loss: 0.013.. Val Loss: 0.090.. Test Loss: 0.060.. Time: 0.03m\n"
     ]
    },
    {
     "name": "stderr",
     "output_type": "stream",
     "text": [
      "100%|██████████| 107/107 [00:01<00:00, 69.25it/s]\n",
      "100%|██████████| 18/18 [00:00<00:00, 321.57it/s]\n",
      "100%|██████████| 53/53 [00:00<00:00, 308.99it/s]\n"
     ]
    },
    {
     "name": "stdout",
     "output_type": "stream",
     "text": [
      "Epoch:627/1000.. Train Loss: 0.016.. Val Loss: 0.110.. Test Loss: 0.055.. Time: 0.03m\n"
     ]
    },
    {
     "name": "stderr",
     "output_type": "stream",
     "text": [
      "100%|██████████| 107/107 [00:01<00:00, 70.40it/s]\n",
      "100%|██████████| 18/18 [00:00<00:00, 326.22it/s]\n",
      "100%|██████████| 53/53 [00:00<00:00, 328.81it/s]\n"
     ]
    },
    {
     "name": "stdout",
     "output_type": "stream",
     "text": [
      "Epoch:628/1000.. Train Loss: 0.014.. Val Loss: 0.116.. Test Loss: 0.059.. Time: 0.03m\n"
     ]
    },
    {
     "name": "stderr",
     "output_type": "stream",
     "text": [
      "100%|██████████| 107/107 [00:01<00:00, 70.90it/s]\n",
      "100%|██████████| 18/18 [00:00<00:00, 324.54it/s]\n",
      "100%|██████████| 53/53 [00:00<00:00, 327.00it/s]\n"
     ]
    },
    {
     "name": "stdout",
     "output_type": "stream",
     "text": [
      "Epoch:629/1000.. Train Loss: 0.013.. Val Loss: 0.112.. Test Loss: 0.062.. Time: 0.03m\n"
     ]
    },
    {
     "name": "stderr",
     "output_type": "stream",
     "text": [
      "100%|██████████| 107/107 [00:01<00:00, 69.91it/s]\n",
      "100%|██████████| 18/18 [00:00<00:00, 325.58it/s]\n",
      "100%|██████████| 53/53 [00:00<00:00, 329.33it/s]\n"
     ]
    },
    {
     "name": "stdout",
     "output_type": "stream",
     "text": [
      "Epoch:630/1000.. Train Loss: 0.013.. Val Loss: 0.113.. Test Loss: 0.064.. Time: 0.03m\n"
     ]
    },
    {
     "name": "stderr",
     "output_type": "stream",
     "text": [
      "100%|██████████| 107/107 [00:01<00:00, 70.10it/s]\n",
      "100%|██████████| 18/18 [00:00<00:00, 370.54it/s]\n",
      "100%|██████████| 53/53 [00:00<00:00, 328.63it/s]\n"
     ]
    },
    {
     "name": "stdout",
     "output_type": "stream",
     "text": [
      "Epoch:631/1000.. Train Loss: 0.015.. Val Loss: 0.116.. Test Loss: 0.060.. Time: 0.03m\n"
     ]
    },
    {
     "name": "stderr",
     "output_type": "stream",
     "text": [
      "100%|██████████| 107/107 [00:01<00:00, 69.08it/s]\n",
      "100%|██████████| 18/18 [00:00<00:00, 329.34it/s]\n",
      "100%|██████████| 53/53 [00:00<00:00, 328.68it/s]\n"
     ]
    },
    {
     "name": "stdout",
     "output_type": "stream",
     "text": [
      "Epoch:632/1000.. Train Loss: 0.013.. Val Loss: 0.122.. Test Loss: 0.061.. Time: 0.03m\n"
     ]
    },
    {
     "name": "stderr",
     "output_type": "stream",
     "text": [
      "100%|██████████| 107/107 [00:01<00:00, 70.60it/s]\n",
      "100%|██████████| 18/18 [00:00<00:00, 336.30it/s]\n",
      "100%|██████████| 53/53 [00:00<00:00, 332.93it/s]\n"
     ]
    },
    {
     "name": "stdout",
     "output_type": "stream",
     "text": [
      "Epoch:633/1000.. Train Loss: 0.011.. Val Loss: 0.137.. Test Loss: 0.060.. Time: 0.03m\n"
     ]
    },
    {
     "name": "stderr",
     "output_type": "stream",
     "text": [
      "100%|██████████| 107/107 [00:01<00:00, 71.08it/s]\n",
      "100%|██████████| 18/18 [00:00<00:00, 329.87it/s]\n",
      "100%|██████████| 53/53 [00:00<00:00, 325.58it/s]\n"
     ]
    },
    {
     "name": "stdout",
     "output_type": "stream",
     "text": [
      "Epoch:634/1000.. Train Loss: 0.012.. Val Loss: 0.117.. Test Loss: 0.060.. Time: 0.03m\n"
     ]
    },
    {
     "name": "stderr",
     "output_type": "stream",
     "text": [
      "100%|██████████| 107/107 [00:01<00:00, 71.16it/s]\n",
      "100%|██████████| 18/18 [00:00<00:00, 324.52it/s]\n",
      "100%|██████████| 53/53 [00:00<00:00, 332.77it/s]\n"
     ]
    },
    {
     "name": "stdout",
     "output_type": "stream",
     "text": [
      "Epoch:635/1000.. Train Loss: 0.014.. Val Loss: 0.101.. Test Loss: 0.063.. Time: 0.03m\n"
     ]
    },
    {
     "name": "stderr",
     "output_type": "stream",
     "text": [
      "100%|██████████| 107/107 [00:01<00:00, 71.34it/s]\n",
      "100%|██████████| 18/18 [00:00<00:00, 328.58it/s]\n",
      "100%|██████████| 53/53 [00:00<00:00, 327.35it/s]\n"
     ]
    },
    {
     "name": "stdout",
     "output_type": "stream",
     "text": [
      "Epoch:636/1000.. Train Loss: 0.013.. Val Loss: 0.119.. Test Loss: 0.059.. Time: 0.03m\n"
     ]
    },
    {
     "name": "stderr",
     "output_type": "stream",
     "text": [
      "100%|██████████| 107/107 [00:01<00:00, 70.92it/s]\n",
      "100%|██████████| 18/18 [00:00<00:00, 335.93it/s]\n",
      "100%|██████████| 53/53 [00:00<00:00, 330.96it/s]\n"
     ]
    },
    {
     "name": "stdout",
     "output_type": "stream",
     "text": [
      "Epoch:637/1000.. Train Loss: 0.014.. Val Loss: 0.118.. Test Loss: 0.051.. Time: 0.03m\n"
     ]
    },
    {
     "name": "stderr",
     "output_type": "stream",
     "text": [
      "100%|██████████| 107/107 [00:01<00:00, 71.39it/s]\n",
      "100%|██████████| 18/18 [00:00<00:00, 330.88it/s]\n",
      "100%|██████████| 53/53 [00:00<00:00, 335.21it/s]\n"
     ]
    },
    {
     "name": "stdout",
     "output_type": "stream",
     "text": [
      "Epoch:638/1000.. Train Loss: 0.016.. Val Loss: 0.110.. Test Loss: 0.057.. Time: 0.03m\n"
     ]
    },
    {
     "name": "stderr",
     "output_type": "stream",
     "text": [
      "100%|██████████| 107/107 [00:01<00:00, 71.62it/s]\n",
      "100%|██████████| 18/18 [00:00<00:00, 332.11it/s]\n",
      "100%|██████████| 53/53 [00:00<00:00, 325.88it/s]\n"
     ]
    },
    {
     "name": "stdout",
     "output_type": "stream",
     "text": [
      "Epoch:639/1000.. Train Loss: 0.013.. Val Loss: 0.105.. Test Loss: 0.058.. Time: 0.03m\n"
     ]
    },
    {
     "name": "stderr",
     "output_type": "stream",
     "text": [
      "100%|██████████| 107/107 [00:01<00:00, 70.73it/s]\n",
      "100%|██████████| 18/18 [00:00<00:00, 322.18it/s]\n",
      "100%|██████████| 53/53 [00:00<00:00, 330.86it/s]\n"
     ]
    },
    {
     "name": "stdout",
     "output_type": "stream",
     "text": [
      "Epoch:640/1000.. Train Loss: 0.013.. Val Loss: 0.117.. Test Loss: 0.057.. Time: 0.03m\n"
     ]
    },
    {
     "name": "stderr",
     "output_type": "stream",
     "text": [
      "100%|██████████| 107/107 [00:01<00:00, 71.03it/s]\n",
      "100%|██████████| 18/18 [00:00<00:00, 334.27it/s]\n",
      "100%|██████████| 53/53 [00:00<00:00, 323.35it/s]\n"
     ]
    },
    {
     "name": "stdout",
     "output_type": "stream",
     "text": [
      "Epoch:641/1000.. Train Loss: 0.014.. Val Loss: 0.106.. Test Loss: 0.061.. Time: 0.03m\n"
     ]
    },
    {
     "name": "stderr",
     "output_type": "stream",
     "text": [
      "100%|██████████| 107/107 [00:01<00:00, 70.76it/s]\n",
      "100%|██████████| 18/18 [00:00<00:00, 333.12it/s]\n",
      "100%|██████████| 53/53 [00:00<00:00, 327.83it/s]\n"
     ]
    },
    {
     "name": "stdout",
     "output_type": "stream",
     "text": [
      "Epoch:642/1000.. Train Loss: 0.013.. Val Loss: 0.113.. Test Loss: 0.061.. Time: 0.03m\n"
     ]
    },
    {
     "name": "stderr",
     "output_type": "stream",
     "text": [
      "100%|██████████| 107/107 [00:01<00:00, 69.36it/s]\n",
      "100%|██████████| 18/18 [00:00<00:00, 336.54it/s]\n",
      "100%|██████████| 53/53 [00:00<00:00, 329.98it/s]\n"
     ]
    },
    {
     "name": "stdout",
     "output_type": "stream",
     "text": [
      "Epoch:643/1000.. Train Loss: 0.012.. Val Loss: 0.112.. Test Loss: 0.063.. Time: 0.03m\n"
     ]
    },
    {
     "name": "stderr",
     "output_type": "stream",
     "text": [
      "100%|██████████| 107/107 [00:01<00:00, 71.91it/s]\n",
      "100%|██████████| 18/18 [00:00<00:00, 327.01it/s]\n",
      "100%|██████████| 53/53 [00:00<00:00, 329.16it/s]\n"
     ]
    },
    {
     "name": "stdout",
     "output_type": "stream",
     "text": [
      "Epoch:644/1000.. Train Loss: 0.013.. Val Loss: 0.107.. Test Loss: 0.063.. Time: 0.03m\n"
     ]
    },
    {
     "name": "stderr",
     "output_type": "stream",
     "text": [
      "100%|██████████| 107/107 [00:01<00:00, 73.98it/s]\n",
      "100%|██████████| 18/18 [00:00<00:00, 330.03it/s]\n",
      "100%|██████████| 53/53 [00:00<00:00, 329.01it/s]\n"
     ]
    },
    {
     "name": "stdout",
     "output_type": "stream",
     "text": [
      "Epoch:645/1000.. Train Loss: 0.013.. Val Loss: 0.104.. Test Loss: 0.069.. Time: 0.03m\n"
     ]
    },
    {
     "name": "stderr",
     "output_type": "stream",
     "text": [
      "100%|██████████| 107/107 [00:01<00:00, 74.04it/s]\n",
      "100%|██████████| 18/18 [00:00<00:00, 329.19it/s]\n",
      "100%|██████████| 53/53 [00:00<00:00, 326.44it/s]\n"
     ]
    },
    {
     "name": "stdout",
     "output_type": "stream",
     "text": [
      "Epoch:646/1000.. Train Loss: 0.013.. Val Loss: 0.092.. Test Loss: 0.066.. Time: 0.03m\n"
     ]
    },
    {
     "name": "stderr",
     "output_type": "stream",
     "text": [
      "100%|██████████| 107/107 [00:01<00:00, 74.29it/s]\n",
      "100%|██████████| 18/18 [00:00<00:00, 324.07it/s]\n",
      "100%|██████████| 53/53 [00:00<00:00, 327.10it/s]\n"
     ]
    },
    {
     "name": "stdout",
     "output_type": "stream",
     "text": [
      "Epoch:647/1000.. Train Loss: 0.012.. Val Loss: 0.101.. Test Loss: 0.065.. Time: 0.03m\n"
     ]
    },
    {
     "name": "stderr",
     "output_type": "stream",
     "text": [
      "100%|██████████| 107/107 [00:01<00:00, 74.49it/s]\n",
      "100%|██████████| 18/18 [00:00<00:00, 324.33it/s]\n",
      "100%|██████████| 53/53 [00:00<00:00, 329.66it/s]\n"
     ]
    },
    {
     "name": "stdout",
     "output_type": "stream",
     "text": [
      "Epoch:648/1000.. Train Loss: 0.015.. Val Loss: 0.109.. Test Loss: 0.068.. Time: 0.03m\n"
     ]
    },
    {
     "name": "stderr",
     "output_type": "stream",
     "text": [
      "100%|██████████| 107/107 [00:01<00:00, 74.46it/s]\n",
      "100%|██████████| 18/18 [00:00<00:00, 329.28it/s]\n",
      "100%|██████████| 53/53 [00:00<00:00, 328.63it/s]\n"
     ]
    },
    {
     "name": "stdout",
     "output_type": "stream",
     "text": [
      "Epoch:649/1000.. Train Loss: 0.012.. Val Loss: 0.109.. Test Loss: 0.066.. Time: 0.03m\n"
     ]
    },
    {
     "name": "stderr",
     "output_type": "stream",
     "text": [
      "100%|██████████| 107/107 [00:01<00:00, 74.42it/s]\n",
      "100%|██████████| 18/18 [00:00<00:00, 330.75it/s]\n",
      "100%|██████████| 53/53 [00:00<00:00, 333.15it/s]\n"
     ]
    },
    {
     "name": "stdout",
     "output_type": "stream",
     "text": [
      "Epoch:650/1000.. Train Loss: 0.012.. Val Loss: 0.112.. Test Loss: 0.064.. Time: 0.03m\n"
     ]
    },
    {
     "name": "stderr",
     "output_type": "stream",
     "text": [
      "100%|██████████| 107/107 [00:01<00:00, 74.49it/s]\n",
      "100%|██████████| 18/18 [00:00<00:00, 326.67it/s]\n",
      "100%|██████████| 53/53 [00:00<00:00, 332.38it/s]\n"
     ]
    },
    {
     "name": "stdout",
     "output_type": "stream",
     "text": [
      "Epoch:651/1000.. Train Loss: 0.013.. Val Loss: 0.113.. Test Loss: 0.068.. Time: 0.03m\n"
     ]
    },
    {
     "name": "stderr",
     "output_type": "stream",
     "text": [
      "100%|██████████| 107/107 [00:01<00:00, 74.20it/s]\n",
      "100%|██████████| 18/18 [00:00<00:00, 333.60it/s]\n",
      "100%|██████████| 53/53 [00:00<00:00, 327.64it/s]\n"
     ]
    },
    {
     "name": "stdout",
     "output_type": "stream",
     "text": [
      "Epoch:652/1000.. Train Loss: 0.013.. Val Loss: 0.116.. Test Loss: 0.064.. Time: 0.03m\n"
     ]
    },
    {
     "name": "stderr",
     "output_type": "stream",
     "text": [
      "100%|██████████| 107/107 [00:01<00:00, 74.13it/s]\n",
      "100%|██████████| 18/18 [00:00<00:00, 334.46it/s]\n",
      "100%|██████████| 53/53 [00:00<00:00, 332.65it/s]\n"
     ]
    },
    {
     "name": "stdout",
     "output_type": "stream",
     "text": [
      "Epoch:653/1000.. Train Loss: 0.012.. Val Loss: 0.113.. Test Loss: 0.062.. Time: 0.03m\n"
     ]
    },
    {
     "name": "stderr",
     "output_type": "stream",
     "text": [
      "100%|██████████| 107/107 [00:01<00:00, 73.83it/s]\n",
      "100%|██████████| 18/18 [00:00<00:00, 322.02it/s]\n",
      "100%|██████████| 53/53 [00:00<00:00, 329.24it/s]\n"
     ]
    },
    {
     "name": "stdout",
     "output_type": "stream",
     "text": [
      "Epoch:654/1000.. Train Loss: 0.012.. Val Loss: 0.116.. Test Loss: 0.063.. Time: 0.03m\n"
     ]
    },
    {
     "name": "stderr",
     "output_type": "stream",
     "text": [
      "100%|██████████| 107/107 [00:01<00:00, 74.14it/s]\n",
      "100%|██████████| 18/18 [00:00<00:00, 323.83it/s]\n",
      "100%|██████████| 53/53 [00:00<00:00, 324.40it/s]\n"
     ]
    },
    {
     "name": "stdout",
     "output_type": "stream",
     "text": [
      "Epoch:655/1000.. Train Loss: 0.015.. Val Loss: 0.104.. Test Loss: 0.062.. Time: 0.03m\n"
     ]
    },
    {
     "name": "stderr",
     "output_type": "stream",
     "text": [
      "100%|██████████| 107/107 [00:01<00:00, 67.75it/s]\n",
      "100%|██████████| 18/18 [00:00<00:00, 330.25it/s]\n",
      "100%|██████████| 53/53 [00:00<00:00, 330.74it/s]\n"
     ]
    },
    {
     "name": "stdout",
     "output_type": "stream",
     "text": [
      "Epoch:656/1000.. Train Loss: 0.011.. Val Loss: 0.101.. Test Loss: 0.063.. Time: 0.03m\n"
     ]
    },
    {
     "name": "stderr",
     "output_type": "stream",
     "text": [
      "100%|██████████| 107/107 [00:01<00:00, 69.90it/s]\n",
      "100%|██████████| 18/18 [00:00<00:00, 331.45it/s]\n",
      "100%|██████████| 53/53 [00:00<00:00, 328.13it/s]\n"
     ]
    },
    {
     "name": "stdout",
     "output_type": "stream",
     "text": [
      "Epoch:657/1000.. Train Loss: 0.012.. Val Loss: 0.115.. Test Loss: 0.062.. Time: 0.03m\n"
     ]
    },
    {
     "name": "stderr",
     "output_type": "stream",
     "text": [
      "100%|██████████| 107/107 [00:01<00:00, 68.48it/s]\n",
      "100%|██████████| 18/18 [00:00<00:00, 335.15it/s]\n",
      "100%|██████████| 53/53 [00:00<00:00, 330.56it/s]\n"
     ]
    },
    {
     "name": "stdout",
     "output_type": "stream",
     "text": [
      "Epoch:658/1000.. Train Loss: 0.015.. Val Loss: 0.098.. Test Loss: 0.064.. Time: 0.03m\n"
     ]
    },
    {
     "name": "stderr",
     "output_type": "stream",
     "text": [
      "100%|██████████| 107/107 [00:01<00:00, 71.28it/s]\n",
      "100%|██████████| 18/18 [00:00<00:00, 323.86it/s]\n",
      "100%|██████████| 53/53 [00:00<00:00, 330.44it/s]\n"
     ]
    },
    {
     "name": "stdout",
     "output_type": "stream",
     "text": [
      "Epoch:659/1000.. Train Loss: 0.017.. Val Loss: 0.092.. Test Loss: 0.060.. Time: 0.03m\n"
     ]
    },
    {
     "name": "stderr",
     "output_type": "stream",
     "text": [
      "100%|██████████| 107/107 [00:01<00:00, 68.95it/s]\n",
      "100%|██████████| 18/18 [00:00<00:00, 326.03it/s]\n",
      "100%|██████████| 53/53 [00:00<00:00, 329.40it/s]\n"
     ]
    },
    {
     "name": "stdout",
     "output_type": "stream",
     "text": [
      "Epoch:660/1000.. Train Loss: 0.015.. Val Loss: 0.099.. Test Loss: 0.059.. Time: 0.03m\n"
     ]
    },
    {
     "name": "stderr",
     "output_type": "stream",
     "text": [
      "100%|██████████| 107/107 [00:01<00:00, 66.13it/s]\n",
      "100%|██████████| 18/18 [00:00<00:00, 330.91it/s]\n",
      "100%|██████████| 53/53 [00:00<00:00, 334.89it/s]\n"
     ]
    },
    {
     "name": "stdout",
     "output_type": "stream",
     "text": [
      "Epoch:661/1000.. Train Loss: 0.012.. Val Loss: 0.106.. Test Loss: 0.062.. Time: 0.03m\n"
     ]
    },
    {
     "name": "stderr",
     "output_type": "stream",
     "text": [
      "100%|██████████| 107/107 [00:01<00:00, 71.65it/s]\n",
      "100%|██████████| 18/18 [00:00<00:00, 328.29it/s]\n",
      "100%|██████████| 53/53 [00:00<00:00, 334.92it/s]\n"
     ]
    },
    {
     "name": "stdout",
     "output_type": "stream",
     "text": [
      "Epoch:662/1000.. Train Loss: 0.012.. Val Loss: 0.117.. Test Loss: 0.062.. Time: 0.03m\n"
     ]
    },
    {
     "name": "stderr",
     "output_type": "stream",
     "text": [
      "100%|██████████| 107/107 [00:01<00:00, 71.88it/s]\n",
      "100%|██████████| 18/18 [00:00<00:00, 330.52it/s]\n",
      "100%|██████████| 53/53 [00:00<00:00, 326.53it/s]\n"
     ]
    },
    {
     "name": "stdout",
     "output_type": "stream",
     "text": [
      "Epoch:663/1000.. Train Loss: 0.013.. Val Loss: 0.114.. Test Loss: 0.062.. Time: 0.03m\n"
     ]
    },
    {
     "name": "stderr",
     "output_type": "stream",
     "text": [
      "100%|██████████| 107/107 [00:01<00:00, 71.78it/s]\n",
      "100%|██████████| 18/18 [00:00<00:00, 332.38it/s]\n",
      "100%|██████████| 53/53 [00:00<00:00, 323.64it/s]\n"
     ]
    },
    {
     "name": "stdout",
     "output_type": "stream",
     "text": [
      "Epoch:664/1000.. Train Loss: 0.012.. Val Loss: 0.103.. Test Loss: 0.064.. Time: 0.03m\n"
     ]
    },
    {
     "name": "stderr",
     "output_type": "stream",
     "text": [
      "100%|██████████| 107/107 [00:01<00:00, 71.15it/s]\n",
      "100%|██████████| 18/18 [00:00<00:00, 326.78it/s]\n",
      "100%|██████████| 53/53 [00:00<00:00, 332.86it/s]\n"
     ]
    },
    {
     "name": "stdout",
     "output_type": "stream",
     "text": [
      "Epoch:665/1000.. Train Loss: 0.011.. Val Loss: 0.132.. Test Loss: 0.065.. Time: 0.03m\n"
     ]
    },
    {
     "name": "stderr",
     "output_type": "stream",
     "text": [
      "100%|██████████| 107/107 [00:01<00:00, 70.64it/s]\n",
      "100%|██████████| 18/18 [00:00<00:00, 326.94it/s]\n",
      "100%|██████████| 53/53 [00:00<00:00, 329.04it/s]\n"
     ]
    },
    {
     "name": "stdout",
     "output_type": "stream",
     "text": [
      "Epoch:666/1000.. Train Loss: 0.012.. Val Loss: 0.110.. Test Loss: 0.063.. Time: 0.03m\n"
     ]
    },
    {
     "name": "stderr",
     "output_type": "stream",
     "text": [
      "100%|██████████| 107/107 [00:01<00:00, 71.25it/s]\n",
      "100%|██████████| 18/18 [00:00<00:00, 333.32it/s]\n",
      "100%|██████████| 53/53 [00:00<00:00, 330.00it/s]\n"
     ]
    },
    {
     "name": "stdout",
     "output_type": "stream",
     "text": [
      "Epoch:667/1000.. Train Loss: 0.012.. Val Loss: 0.118.. Test Loss: 0.064.. Time: 0.03m\n"
     ]
    },
    {
     "name": "stderr",
     "output_type": "stream",
     "text": [
      "100%|██████████| 107/107 [00:01<00:00, 70.07it/s]\n",
      "100%|██████████| 18/18 [00:00<00:00, 324.61it/s]\n",
      "100%|██████████| 53/53 [00:00<00:00, 329.68it/s]\n"
     ]
    },
    {
     "name": "stdout",
     "output_type": "stream",
     "text": [
      "Epoch:668/1000.. Train Loss: 0.012.. Val Loss: 0.113.. Test Loss: 0.063.. Time: 0.03m\n"
     ]
    },
    {
     "name": "stderr",
     "output_type": "stream",
     "text": [
      "100%|██████████| 107/107 [00:01<00:00, 70.17it/s]\n",
      "100%|██████████| 18/18 [00:00<00:00, 328.44it/s]\n",
      "100%|██████████| 53/53 [00:00<00:00, 328.72it/s]\n"
     ]
    },
    {
     "name": "stdout",
     "output_type": "stream",
     "text": [
      "Epoch:669/1000.. Train Loss: 0.017.. Val Loss: 0.113.. Test Loss: 0.061.. Time: 0.03m\n"
     ]
    },
    {
     "name": "stderr",
     "output_type": "stream",
     "text": [
      "100%|██████████| 107/107 [00:01<00:00, 70.80it/s]\n",
      "100%|██████████| 18/18 [00:00<00:00, 328.13it/s]\n",
      "100%|██████████| 53/53 [00:00<00:00, 280.33it/s]\n"
     ]
    },
    {
     "name": "stdout",
     "output_type": "stream",
     "text": [
      "Epoch:670/1000.. Train Loss: 0.015.. Val Loss: 0.128.. Test Loss: 0.065.. Time: 0.03m\n"
     ]
    },
    {
     "name": "stderr",
     "output_type": "stream",
     "text": [
      "100%|██████████| 107/107 [00:01<00:00, 70.08it/s]\n",
      "100%|██████████| 18/18 [00:00<00:00, 326.90it/s]\n",
      "100%|██████████| 53/53 [00:00<00:00, 328.22it/s]\n"
     ]
    },
    {
     "name": "stdout",
     "output_type": "stream",
     "text": [
      "Epoch:671/1000.. Train Loss: 0.013.. Val Loss: 0.120.. Test Loss: 0.059.. Time: 0.03m\n"
     ]
    },
    {
     "name": "stderr",
     "output_type": "stream",
     "text": [
      "100%|██████████| 107/107 [00:01<00:00, 70.34it/s]\n",
      "100%|██████████| 18/18 [00:00<00:00, 331.21it/s]\n",
      "100%|██████████| 53/53 [00:00<00:00, 327.18it/s]\n"
     ]
    },
    {
     "name": "stdout",
     "output_type": "stream",
     "text": [
      "Epoch:672/1000.. Train Loss: 0.012.. Val Loss: 0.120.. Test Loss: 0.064.. Time: 0.03m\n"
     ]
    },
    {
     "name": "stderr",
     "output_type": "stream",
     "text": [
      "100%|██████████| 107/107 [00:01<00:00, 71.15it/s]\n",
      "100%|██████████| 18/18 [00:00<00:00, 328.66it/s]\n",
      "100%|██████████| 53/53 [00:00<00:00, 332.99it/s]\n"
     ]
    },
    {
     "name": "stdout",
     "output_type": "stream",
     "text": [
      "Epoch:673/1000.. Train Loss: 0.016.. Val Loss: 0.109.. Test Loss: 0.061.. Time: 0.03m\n"
     ]
    },
    {
     "name": "stderr",
     "output_type": "stream",
     "text": [
      "100%|██████████| 107/107 [00:01<00:00, 71.61it/s]\n",
      "100%|██████████| 18/18 [00:00<00:00, 325.03it/s]\n",
      "100%|██████████| 53/53 [00:00<00:00, 333.27it/s]\n"
     ]
    },
    {
     "name": "stdout",
     "output_type": "stream",
     "text": [
      "Epoch:674/1000.. Train Loss: 0.012.. Val Loss: 0.145.. Test Loss: 0.062.. Time: 0.03m\n"
     ]
    },
    {
     "name": "stderr",
     "output_type": "stream",
     "text": [
      "100%|██████████| 107/107 [00:01<00:00, 71.44it/s]\n",
      "100%|██████████| 18/18 [00:00<00:00, 328.06it/s]\n",
      "100%|██████████| 53/53 [00:00<00:00, 332.42it/s]\n"
     ]
    },
    {
     "name": "stdout",
     "output_type": "stream",
     "text": [
      "Epoch:675/1000.. Train Loss: 0.013.. Val Loss: 0.110.. Test Loss: 0.062.. Time: 0.03m\n"
     ]
    },
    {
     "name": "stderr",
     "output_type": "stream",
     "text": [
      "100%|██████████| 107/107 [00:01<00:00, 71.53it/s]\n",
      "100%|██████████| 18/18 [00:00<00:00, 329.03it/s]\n",
      "100%|██████████| 53/53 [00:00<00:00, 327.13it/s]\n"
     ]
    },
    {
     "name": "stdout",
     "output_type": "stream",
     "text": [
      "Epoch:676/1000.. Train Loss: 0.012.. Val Loss: 0.099.. Test Loss: 0.061.. Time: 0.03m\n"
     ]
    },
    {
     "name": "stderr",
     "output_type": "stream",
     "text": [
      "100%|██████████| 107/107 [00:01<00:00, 70.70it/s]\n",
      "100%|██████████| 18/18 [00:00<00:00, 325.29it/s]\n",
      "100%|██████████| 53/53 [00:00<00:00, 324.46it/s]\n"
     ]
    },
    {
     "name": "stdout",
     "output_type": "stream",
     "text": [
      "Epoch:677/1000.. Train Loss: 0.013.. Val Loss: 0.099.. Test Loss: 0.060.. Time: 0.03m\n"
     ]
    },
    {
     "name": "stderr",
     "output_type": "stream",
     "text": [
      "100%|██████████| 107/107 [00:01<00:00, 71.42it/s]\n",
      "100%|██████████| 18/18 [00:00<00:00, 327.90it/s]\n",
      "100%|██████████| 53/53 [00:00<00:00, 323.13it/s]\n"
     ]
    },
    {
     "name": "stdout",
     "output_type": "stream",
     "text": [
      "Epoch:678/1000.. Train Loss: 0.011.. Val Loss: 0.110.. Test Loss: 0.063.. Time: 0.03m\n"
     ]
    },
    {
     "name": "stderr",
     "output_type": "stream",
     "text": [
      "100%|██████████| 107/107 [00:01<00:00, 70.36it/s]\n",
      "100%|██████████| 18/18 [00:00<00:00, 323.49it/s]\n",
      "100%|██████████| 53/53 [00:00<00:00, 327.37it/s]\n"
     ]
    },
    {
     "name": "stdout",
     "output_type": "stream",
     "text": [
      "Epoch:679/1000.. Train Loss: 0.012.. Val Loss: 0.098.. Test Loss: 0.064.. Time: 0.03m\n"
     ]
    },
    {
     "name": "stderr",
     "output_type": "stream",
     "text": [
      "100%|██████████| 107/107 [00:01<00:00, 70.40it/s]\n",
      "100%|██████████| 18/18 [00:00<00:00, 325.12it/s]\n",
      "100%|██████████| 53/53 [00:00<00:00, 328.69it/s]\n"
     ]
    },
    {
     "name": "stdout",
     "output_type": "stream",
     "text": [
      "Epoch:680/1000.. Train Loss: 0.013.. Val Loss: 0.114.. Test Loss: 0.064.. Time: 0.03m\n"
     ]
    },
    {
     "name": "stderr",
     "output_type": "stream",
     "text": [
      "100%|██████████| 107/107 [00:01<00:00, 71.24it/s]\n",
      "100%|██████████| 18/18 [00:00<00:00, 332.11it/s]\n",
      "100%|██████████| 53/53 [00:00<00:00, 327.50it/s]\n"
     ]
    },
    {
     "name": "stdout",
     "output_type": "stream",
     "text": [
      "Epoch:681/1000.. Train Loss: 0.014.. Val Loss: 0.104.. Test Loss: 0.069.. Time: 0.03m\n"
     ]
    },
    {
     "name": "stderr",
     "output_type": "stream",
     "text": [
      "100%|██████████| 107/107 [00:01<00:00, 71.37it/s]\n",
      "100%|██████████| 18/18 [00:00<00:00, 330.31it/s]\n",
      "100%|██████████| 53/53 [00:00<00:00, 325.14it/s]\n"
     ]
    },
    {
     "name": "stdout",
     "output_type": "stream",
     "text": [
      "Epoch:682/1000.. Train Loss: 0.012.. Val Loss: 0.111.. Test Loss: 0.061.. Time: 0.03m\n"
     ]
    },
    {
     "name": "stderr",
     "output_type": "stream",
     "text": [
      "100%|██████████| 107/107 [00:01<00:00, 71.67it/s]\n",
      "100%|██████████| 18/18 [00:00<00:00, 328.69it/s]\n",
      "100%|██████████| 53/53 [00:00<00:00, 326.58it/s]\n"
     ]
    },
    {
     "name": "stdout",
     "output_type": "stream",
     "text": [
      "Epoch:683/1000.. Train Loss: 0.012.. Val Loss: 0.112.. Test Loss: 0.062.. Time: 0.03m\n"
     ]
    },
    {
     "name": "stderr",
     "output_type": "stream",
     "text": [
      "100%|██████████| 107/107 [00:01<00:00, 71.47it/s]\n",
      "100%|██████████| 18/18 [00:00<00:00, 328.67it/s]\n",
      "100%|██████████| 53/53 [00:00<00:00, 324.40it/s]\n"
     ]
    },
    {
     "name": "stdout",
     "output_type": "stream",
     "text": [
      "Epoch:684/1000.. Train Loss: 0.011.. Val Loss: 0.136.. Test Loss: 0.062.. Time: 0.03m\n"
     ]
    },
    {
     "name": "stderr",
     "output_type": "stream",
     "text": [
      "100%|██████████| 107/107 [00:01<00:00, 70.73it/s]\n",
      "100%|██████████| 18/18 [00:00<00:00, 320.15it/s]\n",
      "100%|██████████| 53/53 [00:00<00:00, 327.16it/s]\n"
     ]
    },
    {
     "name": "stdout",
     "output_type": "stream",
     "text": [
      "Epoch:685/1000.. Train Loss: 0.012.. Val Loss: 0.114.. Test Loss: 0.066.. Time: 0.03m\n"
     ]
    },
    {
     "name": "stderr",
     "output_type": "stream",
     "text": [
      "100%|██████████| 107/107 [00:01<00:00, 70.56it/s]\n",
      "100%|██████████| 18/18 [00:00<00:00, 327.88it/s]\n",
      "100%|██████████| 53/53 [00:00<00:00, 327.57it/s]\n"
     ]
    },
    {
     "name": "stdout",
     "output_type": "stream",
     "text": [
      "Epoch:686/1000.. Train Loss: 0.012.. Val Loss: 0.108.. Test Loss: 0.062.. Time: 0.03m\n"
     ]
    },
    {
     "name": "stderr",
     "output_type": "stream",
     "text": [
      "100%|██████████| 107/107 [00:01<00:00, 71.00it/s]\n",
      "100%|██████████| 18/18 [00:00<00:00, 335.28it/s]\n",
      "100%|██████████| 53/53 [00:00<00:00, 333.65it/s]\n"
     ]
    },
    {
     "name": "stdout",
     "output_type": "stream",
     "text": [
      "Epoch:687/1000.. Train Loss: 0.011.. Val Loss: 0.107.. Test Loss: 0.065.. Time: 0.03m\n"
     ]
    },
    {
     "name": "stderr",
     "output_type": "stream",
     "text": [
      "100%|██████████| 107/107 [00:01<00:00, 71.67it/s]\n",
      "100%|██████████| 18/18 [00:00<00:00, 330.91it/s]\n",
      "100%|██████████| 53/53 [00:00<00:00, 330.83it/s]\n"
     ]
    },
    {
     "name": "stdout",
     "output_type": "stream",
     "text": [
      "Epoch:688/1000.. Train Loss: 0.011.. Val Loss: 0.114.. Test Loss: 0.063.. Time: 0.03m\n"
     ]
    },
    {
     "name": "stderr",
     "output_type": "stream",
     "text": [
      "100%|██████████| 107/107 [00:01<00:00, 71.42it/s]\n",
      "100%|██████████| 18/18 [00:00<00:00, 322.47it/s]\n",
      "100%|██████████| 53/53 [00:00<00:00, 333.44it/s]\n"
     ]
    },
    {
     "name": "stdout",
     "output_type": "stream",
     "text": [
      "Epoch:689/1000.. Train Loss: 0.013.. Val Loss: 0.099.. Test Loss: 0.063.. Time: 0.03m\n"
     ]
    },
    {
     "name": "stderr",
     "output_type": "stream",
     "text": [
      "100%|██████████| 107/107 [00:01<00:00, 65.59it/s]\n",
      "100%|██████████| 18/18 [00:00<00:00, 246.31it/s]\n",
      "100%|██████████| 53/53 [00:00<00:00, 299.25it/s]\n"
     ]
    },
    {
     "name": "stdout",
     "output_type": "stream",
     "text": [
      "Epoch:690/1000.. Train Loss: 0.013.. Val Loss: 0.070.. Test Loss: 0.059.. Time: 0.03m\n"
     ]
    },
    {
     "name": "stderr",
     "output_type": "stream",
     "text": [
      "100%|██████████| 107/107 [00:01<00:00, 71.43it/s]\n",
      "100%|██████████| 18/18 [00:00<00:00, 330.07it/s]\n",
      "100%|██████████| 53/53 [00:00<00:00, 331.80it/s]\n"
     ]
    },
    {
     "name": "stdout",
     "output_type": "stream",
     "text": [
      "Epoch:691/1000.. Train Loss: 0.017.. Val Loss: 0.095.. Test Loss: 0.059.. Time: 0.03m\n"
     ]
    },
    {
     "name": "stderr",
     "output_type": "stream",
     "text": [
      "100%|██████████| 107/107 [00:01<00:00, 71.72it/s]\n",
      "100%|██████████| 18/18 [00:00<00:00, 339.23it/s]\n",
      "100%|██████████| 53/53 [00:00<00:00, 329.40it/s]\n"
     ]
    },
    {
     "name": "stdout",
     "output_type": "stream",
     "text": [
      "Epoch:692/1000.. Train Loss: 0.013.. Val Loss: 0.098.. Test Loss: 0.059.. Time: 0.03m\n"
     ]
    },
    {
     "name": "stderr",
     "output_type": "stream",
     "text": [
      "100%|██████████| 107/107 [00:01<00:00, 62.39it/s]\n",
      "100%|██████████| 18/18 [00:00<00:00, 251.30it/s]\n",
      "100%|██████████| 53/53 [00:00<00:00, 316.89it/s]\n"
     ]
    },
    {
     "name": "stdout",
     "output_type": "stream",
     "text": [
      "Epoch:693/1000.. Train Loss: 0.013.. Val Loss: 0.090.. Test Loss: 0.062.. Time: 0.03m\n"
     ]
    },
    {
     "name": "stderr",
     "output_type": "stream",
     "text": [
      "100%|██████████| 107/107 [00:01<00:00, 71.69it/s]\n",
      "100%|██████████| 18/18 [00:00<00:00, 329.80it/s]\n",
      "100%|██████████| 53/53 [00:00<00:00, 329.40it/s]\n"
     ]
    },
    {
     "name": "stdout",
     "output_type": "stream",
     "text": [
      "Epoch:694/1000.. Train Loss: 0.013.. Val Loss: 0.100.. Test Loss: 0.058.. Time: 0.03m\n"
     ]
    },
    {
     "name": "stderr",
     "output_type": "stream",
     "text": [
      "100%|██████████| 107/107 [00:01<00:00, 70.53it/s]\n",
      "100%|██████████| 18/18 [00:00<00:00, 319.31it/s]\n",
      "100%|██████████| 53/53 [00:00<00:00, 325.31it/s]\n"
     ]
    },
    {
     "name": "stdout",
     "output_type": "stream",
     "text": [
      "Epoch:695/1000.. Train Loss: 0.012.. Val Loss: 0.094.. Test Loss: 0.060.. Time: 0.03m\n"
     ]
    },
    {
     "name": "stderr",
     "output_type": "stream",
     "text": [
      "100%|██████████| 107/107 [00:01<00:00, 69.07it/s]\n",
      "100%|██████████| 18/18 [00:00<00:00, 321.35it/s]\n",
      "100%|██████████| 53/53 [00:00<00:00, 326.35it/s]\n"
     ]
    },
    {
     "name": "stdout",
     "output_type": "stream",
     "text": [
      "Epoch:696/1000.. Train Loss: 0.015.. Val Loss: 0.115.. Test Loss: 0.060.. Time: 0.03m\n"
     ]
    },
    {
     "name": "stderr",
     "output_type": "stream",
     "text": [
      "100%|██████████| 107/107 [00:01<00:00, 67.23it/s]\n",
      "100%|██████████| 18/18 [00:00<00:00, 325.42it/s]\n",
      "100%|██████████| 53/53 [00:00<00:00, 326.11it/s]\n"
     ]
    },
    {
     "name": "stdout",
     "output_type": "stream",
     "text": [
      "Epoch:697/1000.. Train Loss: 0.012.. Val Loss: 0.100.. Test Loss: 0.059.. Time: 0.03m\n"
     ]
    },
    {
     "name": "stderr",
     "output_type": "stream",
     "text": [
      "100%|██████████| 107/107 [00:01<00:00, 71.59it/s]\n",
      "100%|██████████| 18/18 [00:00<00:00, 327.30it/s]\n",
      "100%|██████████| 53/53 [00:00<00:00, 331.61it/s]\n"
     ]
    },
    {
     "name": "stdout",
     "output_type": "stream",
     "text": [
      "Epoch:698/1000.. Train Loss: 0.013.. Val Loss: 0.106.. Test Loss: 0.058.. Time: 0.03m\n"
     ]
    },
    {
     "name": "stderr",
     "output_type": "stream",
     "text": [
      "100%|██████████| 107/107 [00:01<00:00, 71.45it/s]\n",
      "100%|██████████| 18/18 [00:00<00:00, 329.66it/s]\n",
      "100%|██████████| 53/53 [00:00<00:00, 327.39it/s]\n"
     ]
    },
    {
     "name": "stdout",
     "output_type": "stream",
     "text": [
      "Epoch:699/1000.. Train Loss: 0.011.. Val Loss: 0.136.. Test Loss: 0.061.. Time: 0.03m\n"
     ]
    },
    {
     "name": "stderr",
     "output_type": "stream",
     "text": [
      "100%|██████████| 107/107 [00:01<00:00, 68.90it/s]\n",
      "100%|██████████| 18/18 [00:00<00:00, 282.18it/s]\n",
      "100%|██████████| 53/53 [00:00<00:00, 315.06it/s]\n"
     ]
    },
    {
     "name": "stdout",
     "output_type": "stream",
     "text": [
      "Epoch:700/1000.. Train Loss: 0.011.. Val Loss: 0.102.. Test Loss: 0.060.. Time: 0.03m\n"
     ]
    },
    {
     "name": "stderr",
     "output_type": "stream",
     "text": [
      "100%|██████████| 107/107 [00:01<00:00, 71.20it/s]\n",
      "100%|██████████| 18/18 [00:00<00:00, 332.64it/s]\n",
      "100%|██████████| 53/53 [00:00<00:00, 329.69it/s]\n"
     ]
    },
    {
     "name": "stdout",
     "output_type": "stream",
     "text": [
      "Epoch:701/1000.. Train Loss: 0.011.. Val Loss: 0.097.. Test Loss: 0.058.. Time: 0.03m\n"
     ]
    },
    {
     "name": "stderr",
     "output_type": "stream",
     "text": [
      "100%|██████████| 107/107 [00:01<00:00, 70.99it/s]\n",
      "100%|██████████| 18/18 [00:00<00:00, 327.59it/s]\n",
      "100%|██████████| 53/53 [00:00<00:00, 333.85it/s]\n"
     ]
    },
    {
     "name": "stdout",
     "output_type": "stream",
     "text": [
      "Epoch:702/1000.. Train Loss: 0.012.. Val Loss: 0.093.. Test Loss: 0.061.. Time: 0.03m\n"
     ]
    },
    {
     "name": "stderr",
     "output_type": "stream",
     "text": [
      "100%|██████████| 107/107 [00:01<00:00, 70.64it/s]\n",
      "100%|██████████| 18/18 [00:00<00:00, 319.81it/s]\n",
      "100%|██████████| 53/53 [00:00<00:00, 364.68it/s]\n"
     ]
    },
    {
     "name": "stdout",
     "output_type": "stream",
     "text": [
      "Epoch:703/1000.. Train Loss: 0.012.. Val Loss: 0.104.. Test Loss: 0.060.. Time: 0.03m\n"
     ]
    },
    {
     "name": "stderr",
     "output_type": "stream",
     "text": [
      "100%|██████████| 107/107 [00:01<00:00, 71.14it/s]\n",
      "100%|██████████| 18/18 [00:00<00:00, 321.27it/s]\n",
      "100%|██████████| 53/53 [00:00<00:00, 329.06it/s]\n"
     ]
    },
    {
     "name": "stdout",
     "output_type": "stream",
     "text": [
      "Epoch:704/1000.. Train Loss: 0.010.. Val Loss: 0.108.. Test Loss: 0.059.. Time: 0.03m\n"
     ]
    },
    {
     "name": "stderr",
     "output_type": "stream",
     "text": [
      "100%|██████████| 107/107 [00:01<00:00, 70.83it/s]\n",
      "100%|██████████| 18/18 [00:00<00:00, 327.63it/s]\n",
      "100%|██████████| 53/53 [00:00<00:00, 334.86it/s]\n"
     ]
    },
    {
     "name": "stdout",
     "output_type": "stream",
     "text": [
      "Epoch:705/1000.. Train Loss: 0.013.. Val Loss: 0.117.. Test Loss: 0.062.. Time: 0.03m\n"
     ]
    },
    {
     "name": "stderr",
     "output_type": "stream",
     "text": [
      "100%|██████████| 107/107 [00:01<00:00, 71.49it/s]\n",
      "100%|██████████| 18/18 [00:00<00:00, 336.07it/s]\n",
      "100%|██████████| 53/53 [00:00<00:00, 333.42it/s]\n"
     ]
    },
    {
     "name": "stdout",
     "output_type": "stream",
     "text": [
      "Epoch:706/1000.. Train Loss: 0.013.. Val Loss: 0.109.. Test Loss: 0.058.. Time: 0.03m\n"
     ]
    },
    {
     "name": "stderr",
     "output_type": "stream",
     "text": [
      "100%|██████████| 107/107 [00:01<00:00, 71.00it/s]\n",
      "100%|██████████| 18/18 [00:00<00:00, 337.66it/s]\n",
      "100%|██████████| 53/53 [00:00<00:00, 329.81it/s]\n"
     ]
    },
    {
     "name": "stdout",
     "output_type": "stream",
     "text": [
      "Epoch:707/1000.. Train Loss: 0.010.. Val Loss: 0.106.. Test Loss: 0.060.. Time: 0.03m\n"
     ]
    },
    {
     "name": "stderr",
     "output_type": "stream",
     "text": [
      "100%|██████████| 107/107 [00:01<00:00, 71.17it/s]\n",
      "100%|██████████| 18/18 [00:00<00:00, 324.05it/s]\n",
      "100%|██████████| 53/53 [00:00<00:00, 325.17it/s]\n"
     ]
    },
    {
     "name": "stdout",
     "output_type": "stream",
     "text": [
      "Epoch:708/1000.. Train Loss: 0.012.. Val Loss: 0.112.. Test Loss: 0.060.. Time: 0.03m\n"
     ]
    },
    {
     "name": "stderr",
     "output_type": "stream",
     "text": [
      "100%|██████████| 107/107 [00:01<00:00, 70.63it/s]\n",
      "100%|██████████| 18/18 [00:00<00:00, 331.29it/s]\n",
      "100%|██████████| 53/53 [00:00<00:00, 332.97it/s]\n"
     ]
    },
    {
     "name": "stdout",
     "output_type": "stream",
     "text": [
      "Epoch:709/1000.. Train Loss: 0.012.. Val Loss: 0.138.. Test Loss: 0.061.. Time: 0.03m\n"
     ]
    },
    {
     "name": "stderr",
     "output_type": "stream",
     "text": [
      "100%|██████████| 107/107 [00:01<00:00, 70.80it/s]\n",
      "100%|██████████| 18/18 [00:00<00:00, 328.40it/s]\n",
      "100%|██████████| 53/53 [00:00<00:00, 330.90it/s]\n"
     ]
    },
    {
     "name": "stdout",
     "output_type": "stream",
     "text": [
      "Epoch:710/1000.. Train Loss: 0.011.. Val Loss: 0.110.. Test Loss: 0.060.. Time: 0.03m\n"
     ]
    },
    {
     "name": "stderr",
     "output_type": "stream",
     "text": [
      "100%|██████████| 107/107 [00:01<00:00, 65.20it/s]\n",
      "100%|██████████| 18/18 [00:00<00:00, 274.49it/s]\n",
      "100%|██████████| 53/53 [00:00<00:00, 315.97it/s]\n"
     ]
    },
    {
     "name": "stdout",
     "output_type": "stream",
     "text": [
      "Epoch:711/1000.. Train Loss: 0.011.. Val Loss: 0.116.. Test Loss: 0.060.. Time: 0.03m\n"
     ]
    },
    {
     "name": "stderr",
     "output_type": "stream",
     "text": [
      "100%|██████████| 107/107 [00:01<00:00, 70.18it/s]\n",
      "100%|██████████| 18/18 [00:00<00:00, 330.73it/s]\n",
      "100%|██████████| 53/53 [00:00<00:00, 333.98it/s]\n"
     ]
    },
    {
     "name": "stdout",
     "output_type": "stream",
     "text": [
      "Epoch:712/1000.. Train Loss: 0.013.. Val Loss: 0.107.. Test Loss: 0.062.. Time: 0.03m\n"
     ]
    },
    {
     "name": "stderr",
     "output_type": "stream",
     "text": [
      "100%|██████████| 107/107 [00:01<00:00, 71.35it/s]\n",
      "100%|██████████| 18/18 [00:00<00:00, 319.90it/s]\n",
      "100%|██████████| 53/53 [00:00<00:00, 331.88it/s]\n"
     ]
    },
    {
     "name": "stdout",
     "output_type": "stream",
     "text": [
      "Epoch:713/1000.. Train Loss: 0.011.. Val Loss: 0.129.. Test Loss: 0.063.. Time: 0.03m\n"
     ]
    },
    {
     "name": "stderr",
     "output_type": "stream",
     "text": [
      "100%|██████████| 107/107 [00:01<00:00, 71.64it/s]\n",
      "100%|██████████| 18/18 [00:00<00:00, 325.71it/s]\n",
      "100%|██████████| 53/53 [00:00<00:00, 318.19it/s]\n"
     ]
    },
    {
     "name": "stdout",
     "output_type": "stream",
     "text": [
      "Epoch:714/1000.. Train Loss: 0.011.. Val Loss: 0.116.. Test Loss: 0.062.. Time: 0.03m\n"
     ]
    },
    {
     "name": "stderr",
     "output_type": "stream",
     "text": [
      "100%|██████████| 107/107 [00:01<00:00, 70.55it/s]\n",
      "100%|██████████| 18/18 [00:00<00:00, 330.94it/s]\n",
      "100%|██████████| 53/53 [00:00<00:00, 321.15it/s]\n"
     ]
    },
    {
     "name": "stdout",
     "output_type": "stream",
     "text": [
      "Epoch:715/1000.. Train Loss: 0.013.. Val Loss: 0.127.. Test Loss: 0.065.. Time: 0.03m\n"
     ]
    },
    {
     "name": "stderr",
     "output_type": "stream",
     "text": [
      "100%|██████████| 107/107 [00:01<00:00, 72.03it/s]\n",
      "100%|██████████| 18/18 [00:00<00:00, 330.72it/s]\n",
      "100%|██████████| 53/53 [00:00<00:00, 331.22it/s]\n"
     ]
    },
    {
     "name": "stdout",
     "output_type": "stream",
     "text": [
      "Epoch:716/1000.. Train Loss: 0.012.. Val Loss: 0.102.. Test Loss: 0.064.. Time: 0.03m\n"
     ]
    },
    {
     "name": "stderr",
     "output_type": "stream",
     "text": [
      "100%|██████████| 107/107 [00:01<00:00, 71.56it/s]\n",
      "100%|██████████| 18/18 [00:00<00:00, 332.81it/s]\n",
      "100%|██████████| 53/53 [00:00<00:00, 328.09it/s]\n"
     ]
    },
    {
     "name": "stdout",
     "output_type": "stream",
     "text": [
      "Epoch:717/1000.. Train Loss: 0.011.. Val Loss: 0.124.. Test Loss: 0.062.. Time: 0.03m\n"
     ]
    },
    {
     "name": "stderr",
     "output_type": "stream",
     "text": [
      "100%|██████████| 107/107 [00:01<00:00, 63.75it/s]\n",
      "100%|██████████| 18/18 [00:00<00:00, 335.27it/s]\n",
      "100%|██████████| 53/53 [00:00<00:00, 329.26it/s]\n"
     ]
    },
    {
     "name": "stdout",
     "output_type": "stream",
     "text": [
      "Epoch:718/1000.. Train Loss: 0.013.. Val Loss: 0.113.. Test Loss: 0.061.. Time: 0.03m\n"
     ]
    },
    {
     "name": "stderr",
     "output_type": "stream",
     "text": [
      "100%|██████████| 107/107 [00:01<00:00, 70.09it/s]\n",
      "100%|██████████| 18/18 [00:00<00:00, 326.07it/s]\n",
      "100%|██████████| 53/53 [00:00<00:00, 325.11it/s]\n"
     ]
    },
    {
     "name": "stdout",
     "output_type": "stream",
     "text": [
      "Epoch:719/1000.. Train Loss: 0.011.. Val Loss: 0.125.. Test Loss: 0.062.. Time: 0.03m\n"
     ]
    },
    {
     "name": "stderr",
     "output_type": "stream",
     "text": [
      "100%|██████████| 107/107 [00:01<00:00, 65.10it/s]\n",
      "100%|██████████| 18/18 [00:00<00:00, 252.62it/s]\n",
      "100%|██████████| 53/53 [00:00<00:00, 326.17it/s]\n"
     ]
    },
    {
     "name": "stdout",
     "output_type": "stream",
     "text": [
      "Epoch:720/1000.. Train Loss: 0.012.. Val Loss: 0.111.. Test Loss: 0.065.. Time: 0.03m\n"
     ]
    },
    {
     "name": "stderr",
     "output_type": "stream",
     "text": [
      "100%|██████████| 107/107 [00:01<00:00, 70.80it/s]\n",
      "100%|██████████| 18/18 [00:00<00:00, 324.35it/s]\n",
      "100%|██████████| 53/53 [00:00<00:00, 328.28it/s]\n"
     ]
    },
    {
     "name": "stdout",
     "output_type": "stream",
     "text": [
      "Epoch:721/1000.. Train Loss: 0.012.. Val Loss: 0.107.. Test Loss: 0.062.. Time: 0.03m\n"
     ]
    },
    {
     "name": "stderr",
     "output_type": "stream",
     "text": [
      "100%|██████████| 107/107 [00:01<00:00, 70.96it/s]\n",
      "100%|██████████| 18/18 [00:00<00:00, 324.22it/s]\n",
      "100%|██████████| 53/53 [00:00<00:00, 332.35it/s]\n"
     ]
    },
    {
     "name": "stdout",
     "output_type": "stream",
     "text": [
      "Epoch:722/1000.. Train Loss: 0.015.. Val Loss: 0.112.. Test Loss: 0.061.. Time: 0.03m\n"
     ]
    },
    {
     "name": "stderr",
     "output_type": "stream",
     "text": [
      "100%|██████████| 107/107 [00:01<00:00, 70.59it/s]\n",
      "100%|██████████| 18/18 [00:00<00:00, 324.40it/s]\n",
      "100%|██████████| 53/53 [00:00<00:00, 329.91it/s]\n"
     ]
    },
    {
     "name": "stdout",
     "output_type": "stream",
     "text": [
      "Epoch:723/1000.. Train Loss: 0.012.. Val Loss: 0.102.. Test Loss: 0.060.. Time: 0.03m\n"
     ]
    },
    {
     "name": "stderr",
     "output_type": "stream",
     "text": [
      "100%|██████████| 107/107 [00:01<00:00, 71.36it/s]\n",
      "100%|██████████| 18/18 [00:00<00:00, 325.07it/s]\n",
      "100%|██████████| 53/53 [00:00<00:00, 327.92it/s]\n"
     ]
    },
    {
     "name": "stdout",
     "output_type": "stream",
     "text": [
      "Epoch:724/1000.. Train Loss: 0.012.. Val Loss: 0.117.. Test Loss: 0.064.. Time: 0.03m\n"
     ]
    },
    {
     "name": "stderr",
     "output_type": "stream",
     "text": [
      "100%|██████████| 107/107 [00:01<00:00, 71.08it/s]\n",
      "100%|██████████| 18/18 [00:00<00:00, 327.26it/s]\n",
      "100%|██████████| 53/53 [00:00<00:00, 327.12it/s]\n"
     ]
    },
    {
     "name": "stdout",
     "output_type": "stream",
     "text": [
      "Epoch:725/1000.. Train Loss: 0.012.. Val Loss: 0.116.. Test Loss: 0.064.. Time: 0.03m\n"
     ]
    },
    {
     "name": "stderr",
     "output_type": "stream",
     "text": [
      "100%|██████████| 107/107 [00:01<00:00, 69.21it/s]\n",
      "100%|██████████| 18/18 [00:00<00:00, 332.60it/s]\n",
      "100%|██████████| 53/53 [00:00<00:00, 330.60it/s]\n"
     ]
    },
    {
     "name": "stdout",
     "output_type": "stream",
     "text": [
      "Epoch:726/1000.. Train Loss: 0.012.. Val Loss: 0.116.. Test Loss: 0.064.. Time: 0.03m\n"
     ]
    },
    {
     "name": "stderr",
     "output_type": "stream",
     "text": [
      "100%|██████████| 107/107 [00:01<00:00, 73.39it/s]\n",
      "100%|██████████| 18/18 [00:00<00:00, 329.54it/s]\n",
      "100%|██████████| 53/53 [00:00<00:00, 330.33it/s]\n"
     ]
    },
    {
     "name": "stdout",
     "output_type": "stream",
     "text": [
      "Epoch:727/1000.. Train Loss: 0.011.. Val Loss: 0.110.. Test Loss: 0.063.. Time: 0.03m\n"
     ]
    },
    {
     "name": "stderr",
     "output_type": "stream",
     "text": [
      "100%|██████████| 107/107 [00:01<00:00, 74.85it/s]\n",
      "100%|██████████| 18/18 [00:00<00:00, 331.59it/s]\n",
      "100%|██████████| 53/53 [00:00<00:00, 335.24it/s]\n"
     ]
    },
    {
     "name": "stdout",
     "output_type": "stream",
     "text": [
      "Epoch:728/1000.. Train Loss: 0.013.. Val Loss: 0.108.. Test Loss: 0.061.. Time: 0.03m\n"
     ]
    },
    {
     "name": "stderr",
     "output_type": "stream",
     "text": [
      "100%|██████████| 107/107 [00:01<00:00, 74.46it/s]\n",
      "100%|██████████| 18/18 [00:00<00:00, 331.44it/s]\n",
      "100%|██████████| 53/53 [00:00<00:00, 335.00it/s]\n"
     ]
    },
    {
     "name": "stdout",
     "output_type": "stream",
     "text": [
      "Epoch:729/1000.. Train Loss: 0.011.. Val Loss: 0.114.. Test Loss: 0.062.. Time: 0.03m\n"
     ]
    },
    {
     "name": "stderr",
     "output_type": "stream",
     "text": [
      "100%|██████████| 107/107 [00:01<00:00, 74.71it/s]\n",
      "100%|██████████| 18/18 [00:00<00:00, 329.55it/s]\n",
      "100%|██████████| 53/53 [00:00<00:00, 332.69it/s]\n"
     ]
    },
    {
     "name": "stdout",
     "output_type": "stream",
     "text": [
      "Epoch:730/1000.. Train Loss: 0.012.. Val Loss: 0.119.. Test Loss: 0.060.. Time: 0.03m\n"
     ]
    },
    {
     "name": "stderr",
     "output_type": "stream",
     "text": [
      "100%|██████████| 107/107 [00:01<00:00, 74.57it/s]\n",
      "100%|██████████| 18/18 [00:00<00:00, 319.11it/s]\n",
      "100%|██████████| 53/53 [00:00<00:00, 327.51it/s]\n"
     ]
    },
    {
     "name": "stdout",
     "output_type": "stream",
     "text": [
      "Epoch:731/1000.. Train Loss: 0.011.. Val Loss: 0.109.. Test Loss: 0.062.. Time: 0.03m\n"
     ]
    },
    {
     "name": "stderr",
     "output_type": "stream",
     "text": [
      "100%|██████████| 107/107 [00:01<00:00, 74.47it/s]\n",
      "100%|██████████| 18/18 [00:00<00:00, 310.82it/s]\n",
      "100%|██████████| 53/53 [00:00<00:00, 320.38it/s]\n"
     ]
    },
    {
     "name": "stdout",
     "output_type": "stream",
     "text": [
      "Epoch:732/1000.. Train Loss: 0.012.. Val Loss: 0.121.. Test Loss: 0.062.. Time: 0.03m\n"
     ]
    },
    {
     "name": "stderr",
     "output_type": "stream",
     "text": [
      "100%|██████████| 107/107 [00:01<00:00, 74.51it/s]\n",
      "100%|██████████| 18/18 [00:00<00:00, 333.68it/s]\n",
      "100%|██████████| 53/53 [00:00<00:00, 333.16it/s]\n"
     ]
    },
    {
     "name": "stdout",
     "output_type": "stream",
     "text": [
      "Epoch:733/1000.. Train Loss: 0.011.. Val Loss: 0.112.. Test Loss: 0.061.. Time: 0.03m\n"
     ]
    },
    {
     "name": "stderr",
     "output_type": "stream",
     "text": [
      "100%|██████████| 107/107 [00:01<00:00, 74.87it/s]\n",
      "100%|██████████| 18/18 [00:00<00:00, 326.76it/s]\n",
      "100%|██████████| 53/53 [00:00<00:00, 333.53it/s]\n"
     ]
    },
    {
     "name": "stdout",
     "output_type": "stream",
     "text": [
      "Epoch:734/1000.. Train Loss: 0.012.. Val Loss: 0.114.. Test Loss: 0.062.. Time: 0.03m\n"
     ]
    },
    {
     "name": "stderr",
     "output_type": "stream",
     "text": [
      "100%|██████████| 107/107 [00:01<00:00, 74.66it/s]\n",
      "100%|██████████| 18/18 [00:00<00:00, 329.35it/s]\n",
      "100%|██████████| 53/53 [00:00<00:00, 333.83it/s]\n"
     ]
    },
    {
     "name": "stdout",
     "output_type": "stream",
     "text": [
      "Epoch:735/1000.. Train Loss: 0.013.. Val Loss: 0.112.. Test Loss: 0.061.. Time: 0.03m\n"
     ]
    },
    {
     "name": "stderr",
     "output_type": "stream",
     "text": [
      "100%|██████████| 107/107 [00:01<00:00, 74.74it/s]\n",
      "100%|██████████| 18/18 [00:00<00:00, 329.35it/s]\n",
      "100%|██████████| 53/53 [00:00<00:00, 332.75it/s]\n"
     ]
    },
    {
     "name": "stdout",
     "output_type": "stream",
     "text": [
      "Epoch:736/1000.. Train Loss: 0.011.. Val Loss: 0.112.. Test Loss: 0.060.. Time: 0.03m\n"
     ]
    },
    {
     "name": "stderr",
     "output_type": "stream",
     "text": [
      "100%|██████████| 107/107 [00:01<00:00, 74.42it/s]\n",
      "100%|██████████| 18/18 [00:00<00:00, 325.52it/s]\n",
      "100%|██████████| 53/53 [00:00<00:00, 333.45it/s]\n"
     ]
    },
    {
     "name": "stdout",
     "output_type": "stream",
     "text": [
      "Epoch:737/1000.. Train Loss: 0.014.. Val Loss: 0.115.. Test Loss: 0.059.. Time: 0.03m\n"
     ]
    },
    {
     "name": "stderr",
     "output_type": "stream",
     "text": [
      "100%|██████████| 107/107 [00:01<00:00, 73.71it/s]\n",
      "100%|██████████| 18/18 [00:00<00:00, 321.09it/s]\n",
      "100%|██████████| 53/53 [00:00<00:00, 327.07it/s]\n"
     ]
    },
    {
     "name": "stdout",
     "output_type": "stream",
     "text": [
      "Epoch:738/1000.. Train Loss: 0.012.. Val Loss: 0.116.. Test Loss: 0.060.. Time: 0.03m\n"
     ]
    },
    {
     "name": "stderr",
     "output_type": "stream",
     "text": [
      "100%|██████████| 107/107 [00:01<00:00, 70.00it/s]\n",
      "100%|██████████| 18/18 [00:00<00:00, 327.43it/s]\n",
      "100%|██████████| 53/53 [00:00<00:00, 329.43it/s]\n"
     ]
    },
    {
     "name": "stdout",
     "output_type": "stream",
     "text": [
      "Epoch:739/1000.. Train Loss: 0.012.. Val Loss: 0.112.. Test Loss: 0.062.. Time: 0.03m\n"
     ]
    },
    {
     "name": "stderr",
     "output_type": "stream",
     "text": [
      "100%|██████████| 107/107 [00:01<00:00, 67.44it/s]\n",
      "100%|██████████| 18/18 [00:00<00:00, 334.59it/s]\n",
      "100%|██████████| 53/53 [00:00<00:00, 332.70it/s]\n"
     ]
    },
    {
     "name": "stdout",
     "output_type": "stream",
     "text": [
      "Epoch:740/1000.. Train Loss: 0.014.. Val Loss: 0.105.. Test Loss: 0.060.. Time: 0.03m\n"
     ]
    },
    {
     "name": "stderr",
     "output_type": "stream",
     "text": [
      "100%|██████████| 107/107 [00:01<00:00, 70.52it/s]\n",
      "100%|██████████| 18/18 [00:00<00:00, 335.69it/s]\n",
      "100%|██████████| 53/53 [00:00<00:00, 328.77it/s]\n"
     ]
    },
    {
     "name": "stdout",
     "output_type": "stream",
     "text": [
      "Epoch:741/1000.. Train Loss: 0.013.. Val Loss: 0.107.. Test Loss: 0.059.. Time: 0.03m\n"
     ]
    },
    {
     "name": "stderr",
     "output_type": "stream",
     "text": [
      "100%|██████████| 107/107 [00:01<00:00, 70.82it/s]\n",
      "100%|██████████| 18/18 [00:00<00:00, 329.55it/s]\n",
      "100%|██████████| 53/53 [00:00<00:00, 332.60it/s]\n"
     ]
    },
    {
     "name": "stdout",
     "output_type": "stream",
     "text": [
      "Epoch:742/1000.. Train Loss: 0.012.. Val Loss: 0.102.. Test Loss: 0.061.. Time: 0.03m\n"
     ]
    },
    {
     "name": "stderr",
     "output_type": "stream",
     "text": [
      "100%|██████████| 107/107 [00:01<00:00, 69.10it/s]\n",
      "100%|██████████| 18/18 [00:00<00:00, 340.09it/s]\n",
      "100%|██████████| 53/53 [00:00<00:00, 330.98it/s]\n"
     ]
    },
    {
     "name": "stdout",
     "output_type": "stream",
     "text": [
      "Epoch:743/1000.. Train Loss: 0.012.. Val Loss: 0.108.. Test Loss: 0.061.. Time: 0.03m\n"
     ]
    },
    {
     "name": "stderr",
     "output_type": "stream",
     "text": [
      "100%|██████████| 107/107 [00:01<00:00, 71.08it/s]\n",
      "100%|██████████| 18/18 [00:00<00:00, 321.81it/s]\n",
      "100%|██████████| 53/53 [00:00<00:00, 326.18it/s]\n"
     ]
    },
    {
     "name": "stdout",
     "output_type": "stream",
     "text": [
      "Epoch:744/1000.. Train Loss: 0.013.. Val Loss: 0.114.. Test Loss: 0.060.. Time: 0.03m\n"
     ]
    },
    {
     "name": "stderr",
     "output_type": "stream",
     "text": [
      "100%|██████████| 107/107 [00:01<00:00, 71.00it/s]\n",
      "100%|██████████| 18/18 [00:00<00:00, 322.36it/s]\n",
      "100%|██████████| 53/53 [00:00<00:00, 328.72it/s]\n"
     ]
    },
    {
     "name": "stdout",
     "output_type": "stream",
     "text": [
      "Epoch:745/1000.. Train Loss: 0.010.. Val Loss: 0.111.. Test Loss: 0.060.. Time: 0.03m\n"
     ]
    },
    {
     "name": "stderr",
     "output_type": "stream",
     "text": [
      "100%|██████████| 107/107 [00:01<00:00, 71.21it/s]\n",
      "100%|██████████| 18/18 [00:00<00:00, 317.59it/s]\n",
      "100%|██████████| 53/53 [00:00<00:00, 327.71it/s]\n"
     ]
    },
    {
     "name": "stdout",
     "output_type": "stream",
     "text": [
      "Epoch:746/1000.. Train Loss: 0.010.. Val Loss: 0.109.. Test Loss: 0.060.. Time: 0.03m\n"
     ]
    },
    {
     "name": "stderr",
     "output_type": "stream",
     "text": [
      "100%|██████████| 107/107 [00:01<00:00, 70.67it/s]\n",
      "100%|██████████| 18/18 [00:00<00:00, 331.52it/s]\n",
      "100%|██████████| 53/53 [00:00<00:00, 332.51it/s]\n"
     ]
    },
    {
     "name": "stdout",
     "output_type": "stream",
     "text": [
      "Epoch:747/1000.. Train Loss: 0.012.. Val Loss: 0.113.. Test Loss: 0.062.. Time: 0.03m\n"
     ]
    },
    {
     "name": "stderr",
     "output_type": "stream",
     "text": [
      "100%|██████████| 107/107 [00:01<00:00, 71.09it/s]\n",
      "100%|██████████| 18/18 [00:00<00:00, 324.23it/s]\n",
      "100%|██████████| 53/53 [00:00<00:00, 332.27it/s]\n"
     ]
    },
    {
     "name": "stdout",
     "output_type": "stream",
     "text": [
      "Epoch:748/1000.. Train Loss: 0.011.. Val Loss: 0.118.. Test Loss: 0.060.. Time: 0.03m\n"
     ]
    },
    {
     "name": "stderr",
     "output_type": "stream",
     "text": [
      "100%|██████████| 107/107 [00:01<00:00, 70.75it/s]\n",
      "100%|██████████| 18/18 [00:00<00:00, 327.25it/s]\n",
      "100%|██████████| 53/53 [00:00<00:00, 328.28it/s]\n"
     ]
    },
    {
     "name": "stdout",
     "output_type": "stream",
     "text": [
      "Epoch:749/1000.. Train Loss: 0.011.. Val Loss: 0.120.. Test Loss: 0.062.. Time: 0.03m\n"
     ]
    },
    {
     "name": "stderr",
     "output_type": "stream",
     "text": [
      "100%|██████████| 107/107 [00:01<00:00, 69.90it/s]\n",
      "100%|██████████| 18/18 [00:00<00:00, 332.42it/s]\n",
      "100%|██████████| 53/53 [00:00<00:00, 325.00it/s]\n"
     ]
    },
    {
     "name": "stdout",
     "output_type": "stream",
     "text": [
      "Epoch:750/1000.. Train Loss: 0.012.. Val Loss: 0.119.. Test Loss: 0.064.. Time: 0.03m\n"
     ]
    },
    {
     "name": "stderr",
     "output_type": "stream",
     "text": [
      "100%|██████████| 107/107 [00:01<00:00, 71.32it/s]\n",
      "100%|██████████| 18/18 [00:00<00:00, 323.02it/s]\n",
      "100%|██████████| 53/53 [00:00<00:00, 332.05it/s]\n"
     ]
    },
    {
     "name": "stdout",
     "output_type": "stream",
     "text": [
      "Epoch:751/1000.. Train Loss: 0.012.. Val Loss: 0.118.. Test Loss: 0.065.. Time: 0.03m\n"
     ]
    },
    {
     "name": "stderr",
     "output_type": "stream",
     "text": [
      "100%|██████████| 107/107 [00:01<00:00, 71.18it/s]\n",
      "100%|██████████| 18/18 [00:00<00:00, 334.59it/s]\n",
      "100%|██████████| 53/53 [00:00<00:00, 332.83it/s]\n"
     ]
    },
    {
     "name": "stdout",
     "output_type": "stream",
     "text": [
      "Epoch:752/1000.. Train Loss: 0.011.. Val Loss: 0.113.. Test Loss: 0.064.. Time: 0.03m\n"
     ]
    },
    {
     "name": "stderr",
     "output_type": "stream",
     "text": [
      "100%|██████████| 107/107 [00:01<00:00, 70.83it/s]\n",
      "100%|██████████| 18/18 [00:00<00:00, 332.17it/s]\n",
      "100%|██████████| 53/53 [00:00<00:00, 331.17it/s]\n"
     ]
    },
    {
     "name": "stdout",
     "output_type": "stream",
     "text": [
      "Epoch:753/1000.. Train Loss: 0.012.. Val Loss: 0.094.. Test Loss: 0.064.. Time: 0.03m\n"
     ]
    },
    {
     "name": "stderr",
     "output_type": "stream",
     "text": [
      "100%|██████████| 107/107 [00:01<00:00, 71.37it/s]\n",
      "100%|██████████| 18/18 [00:00<00:00, 334.79it/s]\n",
      "100%|██████████| 53/53 [00:00<00:00, 333.78it/s]\n"
     ]
    },
    {
     "name": "stdout",
     "output_type": "stream",
     "text": [
      "Epoch:754/1000.. Train Loss: 0.012.. Val Loss: 0.098.. Test Loss: 0.061.. Time: 0.03m\n"
     ]
    },
    {
     "name": "stderr",
     "output_type": "stream",
     "text": [
      "100%|██████████| 107/107 [00:01<00:00, 69.68it/s]\n",
      "100%|██████████| 18/18 [00:00<00:00, 333.38it/s]\n",
      "100%|██████████| 53/53 [00:00<00:00, 315.31it/s]\n"
     ]
    },
    {
     "name": "stdout",
     "output_type": "stream",
     "text": [
      "Epoch:755/1000.. Train Loss: 0.012.. Val Loss: 0.098.. Test Loss: 0.063.. Time: 0.03m\n"
     ]
    },
    {
     "name": "stderr",
     "output_type": "stream",
     "text": [
      "100%|██████████| 107/107 [00:01<00:00, 69.34it/s]\n",
      "100%|██████████| 18/18 [00:00<00:00, 321.04it/s]\n",
      "100%|██████████| 53/53 [00:00<00:00, 333.73it/s]\n"
     ]
    },
    {
     "name": "stdout",
     "output_type": "stream",
     "text": [
      "Epoch:756/1000.. Train Loss: 0.011.. Val Loss: 0.107.. Test Loss: 0.062.. Time: 0.03m\n"
     ]
    },
    {
     "name": "stderr",
     "output_type": "stream",
     "text": [
      "100%|██████████| 107/107 [00:01<00:00, 64.52it/s]\n",
      "100%|██████████| 18/18 [00:00<00:00, 335.45it/s]\n",
      "100%|██████████| 53/53 [00:00<00:00, 328.20it/s]\n"
     ]
    },
    {
     "name": "stdout",
     "output_type": "stream",
     "text": [
      "Epoch:757/1000.. Train Loss: 0.013.. Val Loss: 0.118.. Test Loss: 0.062.. Time: 0.03m\n"
     ]
    },
    {
     "name": "stderr",
     "output_type": "stream",
     "text": [
      "100%|██████████| 107/107 [00:01<00:00, 61.15it/s]\n",
      "100%|██████████| 18/18 [00:00<00:00, 318.14it/s]\n",
      "100%|██████████| 53/53 [00:00<00:00, 331.07it/s]\n"
     ]
    },
    {
     "name": "stdout",
     "output_type": "stream",
     "text": [
      "Epoch:758/1000.. Train Loss: 0.011.. Val Loss: 0.109.. Test Loss: 0.061.. Time: 0.03m\n"
     ]
    },
    {
     "name": "stderr",
     "output_type": "stream",
     "text": [
      "100%|██████████| 107/107 [00:01<00:00, 63.05it/s]\n",
      "100%|██████████| 18/18 [00:00<00:00, 293.10it/s]\n",
      "100%|██████████| 53/53 [00:00<00:00, 332.47it/s]\n"
     ]
    },
    {
     "name": "stdout",
     "output_type": "stream",
     "text": [
      "Epoch:759/1000.. Train Loss: 0.011.. Val Loss: 0.103.. Test Loss: 0.060.. Time: 0.03m\n"
     ]
    },
    {
     "name": "stderr",
     "output_type": "stream",
     "text": [
      "100%|██████████| 107/107 [00:01<00:00, 71.51it/s]\n",
      "100%|██████████| 18/18 [00:00<00:00, 334.77it/s]\n",
      "100%|██████████| 53/53 [00:00<00:00, 324.90it/s]\n"
     ]
    },
    {
     "name": "stdout",
     "output_type": "stream",
     "text": [
      "Epoch:760/1000.. Train Loss: 0.011.. Val Loss: 0.100.. Test Loss: 0.061.. Time: 0.03m\n"
     ]
    },
    {
     "name": "stderr",
     "output_type": "stream",
     "text": [
      "100%|██████████| 107/107 [00:01<00:00, 71.68it/s]\n",
      "100%|██████████| 18/18 [00:00<00:00, 331.98it/s]\n",
      "100%|██████████| 53/53 [00:00<00:00, 326.05it/s]\n"
     ]
    },
    {
     "name": "stdout",
     "output_type": "stream",
     "text": [
      "Epoch:761/1000.. Train Loss: 0.011.. Val Loss: 0.105.. Test Loss: 0.060.. Time: 0.03m\n"
     ]
    },
    {
     "name": "stderr",
     "output_type": "stream",
     "text": [
      "100%|██████████| 107/107 [00:01<00:00, 71.19it/s]\n",
      "100%|██████████| 18/18 [00:00<00:00, 328.17it/s]\n",
      "100%|██████████| 53/53 [00:00<00:00, 328.31it/s]\n"
     ]
    },
    {
     "name": "stdout",
     "output_type": "stream",
     "text": [
      "Epoch:762/1000.. Train Loss: 0.013.. Val Loss: 0.113.. Test Loss: 0.062.. Time: 0.03m\n"
     ]
    },
    {
     "name": "stderr",
     "output_type": "stream",
     "text": [
      "100%|██████████| 107/107 [00:01<00:00, 70.03it/s]\n",
      "100%|██████████| 18/18 [00:00<00:00, 324.92it/s]\n",
      "100%|██████████| 53/53 [00:00<00:00, 329.77it/s]\n"
     ]
    },
    {
     "name": "stdout",
     "output_type": "stream",
     "text": [
      "Epoch:763/1000.. Train Loss: 0.010.. Val Loss: 0.133.. Test Loss: 0.062.. Time: 0.03m\n"
     ]
    },
    {
     "name": "stderr",
     "output_type": "stream",
     "text": [
      "100%|██████████| 107/107 [00:01<00:00, 62.45it/s]\n",
      "100%|██████████| 18/18 [00:00<00:00, 333.34it/s]\n",
      "100%|██████████| 53/53 [00:00<00:00, 326.98it/s]\n"
     ]
    },
    {
     "name": "stdout",
     "output_type": "stream",
     "text": [
      "Epoch:764/1000.. Train Loss: 0.012.. Val Loss: 0.115.. Test Loss: 0.063.. Time: 0.03m\n"
     ]
    },
    {
     "name": "stderr",
     "output_type": "stream",
     "text": [
      "100%|██████████| 107/107 [00:01<00:00, 70.77it/s]\n",
      "100%|██████████| 18/18 [00:00<00:00, 321.79it/s]\n",
      "100%|██████████| 53/53 [00:00<00:00, 327.44it/s]\n"
     ]
    },
    {
     "name": "stdout",
     "output_type": "stream",
     "text": [
      "Epoch:765/1000.. Train Loss: 0.011.. Val Loss: 0.117.. Test Loss: 0.062.. Time: 0.03m\n"
     ]
    },
    {
     "name": "stderr",
     "output_type": "stream",
     "text": [
      "100%|██████████| 107/107 [00:01<00:00, 69.97it/s]\n",
      "100%|██████████| 18/18 [00:00<00:00, 333.98it/s]\n",
      "100%|██████████| 53/53 [00:00<00:00, 331.96it/s]\n"
     ]
    },
    {
     "name": "stdout",
     "output_type": "stream",
     "text": [
      "Epoch:766/1000.. Train Loss: 0.013.. Val Loss: 0.115.. Test Loss: 0.061.. Time: 0.03m\n"
     ]
    },
    {
     "name": "stderr",
     "output_type": "stream",
     "text": [
      "100%|██████████| 107/107 [00:01<00:00, 67.43it/s]\n",
      "100%|██████████| 18/18 [00:00<00:00, 328.58it/s]\n",
      "100%|██████████| 53/53 [00:00<00:00, 332.18it/s]\n"
     ]
    },
    {
     "name": "stdout",
     "output_type": "stream",
     "text": [
      "Epoch:767/1000.. Train Loss: 0.011.. Val Loss: 0.113.. Test Loss: 0.060.. Time: 0.03m\n"
     ]
    },
    {
     "name": "stderr",
     "output_type": "stream",
     "text": [
      "100%|██████████| 107/107 [00:01<00:00, 66.78it/s]\n",
      "100%|██████████| 18/18 [00:00<00:00, 329.31it/s]\n",
      "100%|██████████| 53/53 [00:00<00:00, 329.70it/s]\n"
     ]
    },
    {
     "name": "stdout",
     "output_type": "stream",
     "text": [
      "Epoch:768/1000.. Train Loss: 0.015.. Val Loss: 0.114.. Test Loss: 0.058.. Time: 0.03m\n"
     ]
    },
    {
     "name": "stderr",
     "output_type": "stream",
     "text": [
      "100%|██████████| 107/107 [00:01<00:00, 71.47it/s]\n",
      "100%|██████████| 18/18 [00:00<00:00, 326.92it/s]\n",
      "100%|██████████| 53/53 [00:00<00:00, 330.73it/s]\n"
     ]
    },
    {
     "name": "stdout",
     "output_type": "stream",
     "text": [
      "Epoch:769/1000.. Train Loss: 0.013.. Val Loss: 0.110.. Test Loss: 0.058.. Time: 0.03m\n"
     ]
    },
    {
     "name": "stderr",
     "output_type": "stream",
     "text": [
      "100%|██████████| 107/107 [00:01<00:00, 70.69it/s]\n",
      "100%|██████████| 18/18 [00:00<00:00, 323.60it/s]\n",
      "100%|██████████| 53/53 [00:00<00:00, 328.83it/s]\n"
     ]
    },
    {
     "name": "stdout",
     "output_type": "stream",
     "text": [
      "Epoch:770/1000.. Train Loss: 0.012.. Val Loss: 0.110.. Test Loss: 0.060.. Time: 0.03m\n"
     ]
    },
    {
     "name": "stderr",
     "output_type": "stream",
     "text": [
      "100%|██████████| 107/107 [00:01<00:00, 71.93it/s]\n",
      "100%|██████████| 18/18 [00:00<00:00, 320.56it/s]\n",
      "100%|██████████| 53/53 [00:00<00:00, 330.35it/s]\n"
     ]
    },
    {
     "name": "stdout",
     "output_type": "stream",
     "text": [
      "Epoch:771/1000.. Train Loss: 0.011.. Val Loss: 0.122.. Test Loss: 0.062.. Time: 0.03m\n"
     ]
    },
    {
     "name": "stderr",
     "output_type": "stream",
     "text": [
      "100%|██████████| 107/107 [00:01<00:00, 68.90it/s]\n",
      "100%|██████████| 18/18 [00:00<00:00, 267.42it/s]\n",
      "100%|██████████| 53/53 [00:00<00:00, 320.01it/s]\n"
     ]
    },
    {
     "name": "stdout",
     "output_type": "stream",
     "text": [
      "Epoch:772/1000.. Train Loss: 0.011.. Val Loss: 0.132.. Test Loss: 0.060.. Time: 0.03m\n"
     ]
    },
    {
     "name": "stderr",
     "output_type": "stream",
     "text": [
      "100%|██████████| 107/107 [00:01<00:00, 69.51it/s]\n",
      "100%|██████████| 18/18 [00:00<00:00, 287.67it/s]\n",
      "100%|██████████| 53/53 [00:00<00:00, 331.53it/s]\n"
     ]
    },
    {
     "name": "stdout",
     "output_type": "stream",
     "text": [
      "Epoch:773/1000.. Train Loss: 0.010.. Val Loss: 0.117.. Test Loss: 0.060.. Time: 0.03m\n"
     ]
    },
    {
     "name": "stderr",
     "output_type": "stream",
     "text": [
      "100%|██████████| 107/107 [00:01<00:00, 71.40it/s]\n",
      "100%|██████████| 18/18 [00:00<00:00, 324.16it/s]\n",
      "100%|██████████| 53/53 [00:00<00:00, 330.09it/s]\n"
     ]
    },
    {
     "name": "stdout",
     "output_type": "stream",
     "text": [
      "Epoch:774/1000.. Train Loss: 0.011.. Val Loss: 0.108.. Test Loss: 0.061.. Time: 0.03m\n"
     ]
    },
    {
     "name": "stderr",
     "output_type": "stream",
     "text": [
      "100%|██████████| 107/107 [00:01<00:00, 69.89it/s]\n",
      "100%|██████████| 18/18 [00:00<00:00, 332.95it/s]\n",
      "100%|██████████| 53/53 [00:00<00:00, 330.03it/s]\n"
     ]
    },
    {
     "name": "stdout",
     "output_type": "stream",
     "text": [
      "Epoch:775/1000.. Train Loss: 0.012.. Val Loss: 0.117.. Test Loss: 0.060.. Time: 0.03m\n"
     ]
    },
    {
     "name": "stderr",
     "output_type": "stream",
     "text": [
      "100%|██████████| 107/107 [00:01<00:00, 71.81it/s]\n",
      "100%|██████████| 18/18 [00:00<00:00, 336.86it/s]\n",
      "100%|██████████| 53/53 [00:00<00:00, 332.51it/s]\n"
     ]
    },
    {
     "name": "stdout",
     "output_type": "stream",
     "text": [
      "Epoch:776/1000.. Train Loss: 0.012.. Val Loss: 0.119.. Test Loss: 0.062.. Time: 0.03m\n"
     ]
    },
    {
     "name": "stderr",
     "output_type": "stream",
     "text": [
      "100%|██████████| 107/107 [00:01<00:00, 70.49it/s]\n",
      "100%|██████████| 18/18 [00:00<00:00, 320.27it/s]\n",
      "100%|██████████| 53/53 [00:00<00:00, 327.37it/s]\n"
     ]
    },
    {
     "name": "stdout",
     "output_type": "stream",
     "text": [
      "Epoch:777/1000.. Train Loss: 0.011.. Val Loss: 0.119.. Test Loss: 0.062.. Time: 0.03m\n"
     ]
    },
    {
     "name": "stderr",
     "output_type": "stream",
     "text": [
      "100%|██████████| 107/107 [00:01<00:00, 70.60it/s]\n",
      "100%|██████████| 18/18 [00:00<00:00, 325.92it/s]\n",
      "100%|██████████| 53/53 [00:00<00:00, 327.99it/s]\n"
     ]
    },
    {
     "name": "stdout",
     "output_type": "stream",
     "text": [
      "Epoch:778/1000.. Train Loss: 0.011.. Val Loss: 0.116.. Test Loss: 0.060.. Time: 0.03m\n"
     ]
    },
    {
     "name": "stderr",
     "output_type": "stream",
     "text": [
      "100%|██████████| 107/107 [00:01<00:00, 70.13it/s]\n",
      "100%|██████████| 18/18 [00:00<00:00, 321.41it/s]\n",
      "100%|██████████| 53/53 [00:00<00:00, 324.68it/s]\n"
     ]
    },
    {
     "name": "stdout",
     "output_type": "stream",
     "text": [
      "Epoch:779/1000.. Train Loss: 0.013.. Val Loss: 0.116.. Test Loss: 0.059.. Time: 0.03m\n"
     ]
    },
    {
     "name": "stderr",
     "output_type": "stream",
     "text": [
      "100%|██████████| 107/107 [00:01<00:00, 70.86it/s]\n",
      "100%|██████████| 18/18 [00:00<00:00, 333.17it/s]\n",
      "100%|██████████| 53/53 [00:00<00:00, 330.82it/s]\n"
     ]
    },
    {
     "name": "stdout",
     "output_type": "stream",
     "text": [
      "Epoch:780/1000.. Train Loss: 0.012.. Val Loss: 0.109.. Test Loss: 0.059.. Time: 0.03m\n"
     ]
    },
    {
     "name": "stderr",
     "output_type": "stream",
     "text": [
      "100%|██████████| 107/107 [00:01<00:00, 68.29it/s]\n",
      "100%|██████████| 18/18 [00:00<00:00, 251.73it/s]\n",
      "100%|██████████| 53/53 [00:00<00:00, 324.86it/s]\n"
     ]
    },
    {
     "name": "stdout",
     "output_type": "stream",
     "text": [
      "Epoch:781/1000.. Train Loss: 0.011.. Val Loss: 0.102.. Test Loss: 0.060.. Time: 0.03m\n"
     ]
    },
    {
     "name": "stderr",
     "output_type": "stream",
     "text": [
      "100%|██████████| 107/107 [00:01<00:00, 63.49it/s]\n",
      "100%|██████████| 18/18 [00:00<00:00, 325.37it/s]\n",
      "100%|██████████| 53/53 [00:00<00:00, 327.21it/s]\n"
     ]
    },
    {
     "name": "stdout",
     "output_type": "stream",
     "text": [
      "Epoch:782/1000.. Train Loss: 0.011.. Val Loss: 0.111.. Test Loss: 0.061.. Time: 0.03m\n"
     ]
    },
    {
     "name": "stderr",
     "output_type": "stream",
     "text": [
      "100%|██████████| 107/107 [00:01<00:00, 70.44it/s]\n",
      "100%|██████████| 18/18 [00:00<00:00, 335.46it/s]\n",
      "100%|██████████| 53/53 [00:00<00:00, 336.33it/s]\n"
     ]
    },
    {
     "name": "stdout",
     "output_type": "stream",
     "text": [
      "Epoch:783/1000.. Train Loss: 0.011.. Val Loss: 0.114.. Test Loss: 0.061.. Time: 0.03m\n"
     ]
    },
    {
     "name": "stderr",
     "output_type": "stream",
     "text": [
      "100%|██████████| 107/107 [00:01<00:00, 71.79it/s]\n",
      "100%|██████████| 18/18 [00:00<00:00, 322.96it/s]\n",
      "100%|██████████| 53/53 [00:00<00:00, 320.33it/s]\n"
     ]
    },
    {
     "name": "stdout",
     "output_type": "stream",
     "text": [
      "Epoch:784/1000.. Train Loss: 0.013.. Val Loss: 0.111.. Test Loss: 0.061.. Time: 0.03m\n"
     ]
    },
    {
     "name": "stderr",
     "output_type": "stream",
     "text": [
      "100%|██████████| 107/107 [00:01<00:00, 71.60it/s]\n",
      "100%|██████████| 18/18 [00:00<00:00, 322.71it/s]\n",
      "100%|██████████| 53/53 [00:00<00:00, 325.81it/s]\n"
     ]
    },
    {
     "name": "stdout",
     "output_type": "stream",
     "text": [
      "Epoch:785/1000.. Train Loss: 0.012.. Val Loss: 0.106.. Test Loss: 0.064.. Time: 0.03m\n"
     ]
    },
    {
     "name": "stderr",
     "output_type": "stream",
     "text": [
      "100%|██████████| 107/107 [00:01<00:00, 70.99it/s]\n",
      "100%|██████████| 18/18 [00:00<00:00, 327.35it/s]\n",
      "100%|██████████| 53/53 [00:00<00:00, 328.96it/s]\n"
     ]
    },
    {
     "name": "stdout",
     "output_type": "stream",
     "text": [
      "Epoch:786/1000.. Train Loss: 0.011.. Val Loss: 0.115.. Test Loss: 0.062.. Time: 0.03m\n"
     ]
    },
    {
     "name": "stderr",
     "output_type": "stream",
     "text": [
      "100%|██████████| 107/107 [00:01<00:00, 71.49it/s]\n",
      "100%|██████████| 18/18 [00:00<00:00, 328.84it/s]\n",
      "100%|██████████| 53/53 [00:00<00:00, 334.83it/s]\n"
     ]
    },
    {
     "name": "stdout",
     "output_type": "stream",
     "text": [
      "Epoch:787/1000.. Train Loss: 0.013.. Val Loss: 0.116.. Test Loss: 0.063.. Time: 0.03m\n"
     ]
    },
    {
     "name": "stderr",
     "output_type": "stream",
     "text": [
      "100%|██████████| 107/107 [00:01<00:00, 71.60it/s]\n",
      "100%|██████████| 18/18 [00:00<00:00, 333.61it/s]\n",
      "100%|██████████| 53/53 [00:00<00:00, 335.23it/s]\n"
     ]
    },
    {
     "name": "stdout",
     "output_type": "stream",
     "text": [
      "Epoch:788/1000.. Train Loss: 0.012.. Val Loss: 0.117.. Test Loss: 0.063.. Time: 0.03m\n"
     ]
    },
    {
     "name": "stderr",
     "output_type": "stream",
     "text": [
      "100%|██████████| 107/107 [00:01<00:00, 73.04it/s]\n",
      "100%|██████████| 18/18 [00:00<00:00, 330.42it/s]\n",
      "100%|██████████| 53/53 [00:00<00:00, 329.73it/s]\n"
     ]
    },
    {
     "name": "stdout",
     "output_type": "stream",
     "text": [
      "Epoch:789/1000.. Train Loss: 0.012.. Val Loss: 0.109.. Test Loss: 0.061.. Time: 0.03m\n"
     ]
    },
    {
     "name": "stderr",
     "output_type": "stream",
     "text": [
      "100%|██████████| 107/107 [00:01<00:00, 71.11it/s]\n",
      "100%|██████████| 18/18 [00:00<00:00, 333.22it/s]\n",
      "100%|██████████| 53/53 [00:00<00:00, 331.68it/s]\n"
     ]
    },
    {
     "name": "stdout",
     "output_type": "stream",
     "text": [
      "Epoch:790/1000.. Train Loss: 0.011.. Val Loss: 0.116.. Test Loss: 0.062.. Time: 0.03m\n"
     ]
    },
    {
     "name": "stderr",
     "output_type": "stream",
     "text": [
      "100%|██████████| 107/107 [00:01<00:00, 69.84it/s]\n",
      "100%|██████████| 18/18 [00:00<00:00, 309.73it/s]\n",
      "100%|██████████| 53/53 [00:00<00:00, 324.10it/s]\n"
     ]
    },
    {
     "name": "stdout",
     "output_type": "stream",
     "text": [
      "Epoch:791/1000.. Train Loss: 0.011.. Val Loss: 0.118.. Test Loss: 0.062.. Time: 0.03m\n"
     ]
    },
    {
     "name": "stderr",
     "output_type": "stream",
     "text": [
      "100%|██████████| 107/107 [00:01<00:00, 71.91it/s]\n",
      "100%|██████████| 18/18 [00:00<00:00, 319.88it/s]\n",
      "100%|██████████| 53/53 [00:00<00:00, 332.04it/s]\n"
     ]
    },
    {
     "name": "stdout",
     "output_type": "stream",
     "text": [
      "Epoch:792/1000.. Train Loss: 0.010.. Val Loss: 0.112.. Test Loss: 0.062.. Time: 0.03m\n"
     ]
    },
    {
     "name": "stderr",
     "output_type": "stream",
     "text": [
      "100%|██████████| 107/107 [00:01<00:00, 71.32it/s]\n",
      "100%|██████████| 18/18 [00:00<00:00, 326.55it/s]\n",
      "100%|██████████| 53/53 [00:00<00:00, 332.26it/s]\n"
     ]
    },
    {
     "name": "stdout",
     "output_type": "stream",
     "text": [
      "Epoch:793/1000.. Train Loss: 0.010.. Val Loss: 0.113.. Test Loss: 0.063.. Time: 0.03m\n"
     ]
    },
    {
     "name": "stderr",
     "output_type": "stream",
     "text": [
      "100%|██████████| 107/107 [00:01<00:00, 71.41it/s]\n",
      "100%|██████████| 18/18 [00:00<00:00, 328.08it/s]\n",
      "100%|██████████| 53/53 [00:00<00:00, 331.76it/s]\n"
     ]
    },
    {
     "name": "stdout",
     "output_type": "stream",
     "text": [
      "Epoch:794/1000.. Train Loss: 0.012.. Val Loss: 0.111.. Test Loss: 0.062.. Time: 0.03m\n"
     ]
    },
    {
     "name": "stderr",
     "output_type": "stream",
     "text": [
      "100%|██████████| 107/107 [00:01<00:00, 71.86it/s]\n",
      "100%|██████████| 18/18 [00:00<00:00, 326.59it/s]\n",
      "100%|██████████| 53/53 [00:00<00:00, 332.49it/s]\n"
     ]
    },
    {
     "name": "stdout",
     "output_type": "stream",
     "text": [
      "Epoch:795/1000.. Train Loss: 0.012.. Val Loss: 0.147.. Test Loss: 0.061.. Time: 0.03m\n"
     ]
    },
    {
     "name": "stderr",
     "output_type": "stream",
     "text": [
      "100%|██████████| 107/107 [00:01<00:00, 70.61it/s]\n",
      "100%|██████████| 18/18 [00:00<00:00, 327.68it/s]\n",
      "100%|██████████| 53/53 [00:00<00:00, 332.35it/s]\n"
     ]
    },
    {
     "name": "stdout",
     "output_type": "stream",
     "text": [
      "Epoch:796/1000.. Train Loss: 0.011.. Val Loss: 0.122.. Test Loss: 0.062.. Time: 0.03m\n"
     ]
    },
    {
     "name": "stderr",
     "output_type": "stream",
     "text": [
      "100%|██████████| 107/107 [00:01<00:00, 68.20it/s]\n",
      "100%|██████████| 18/18 [00:00<00:00, 312.43it/s]\n",
      "100%|██████████| 53/53 [00:00<00:00, 321.72it/s]\n"
     ]
    },
    {
     "name": "stdout",
     "output_type": "stream",
     "text": [
      "Epoch:797/1000.. Train Loss: 0.012.. Val Loss: 0.115.. Test Loss: 0.062.. Time: 0.03m\n"
     ]
    },
    {
     "name": "stderr",
     "output_type": "stream",
     "text": [
      "100%|██████████| 107/107 [00:01<00:00, 67.75it/s]\n",
      "100%|██████████| 18/18 [00:00<00:00, 332.15it/s]\n",
      "100%|██████████| 53/53 [00:00<00:00, 332.09it/s]\n"
     ]
    },
    {
     "name": "stdout",
     "output_type": "stream",
     "text": [
      "Epoch:798/1000.. Train Loss: 0.012.. Val Loss: 0.117.. Test Loss: 0.063.. Time: 0.03m\n"
     ]
    },
    {
     "name": "stderr",
     "output_type": "stream",
     "text": [
      "100%|██████████| 107/107 [00:01<00:00, 71.29it/s]\n",
      "100%|██████████| 18/18 [00:00<00:00, 326.67it/s]\n",
      "100%|██████████| 53/53 [00:00<00:00, 328.99it/s]\n"
     ]
    },
    {
     "name": "stdout",
     "output_type": "stream",
     "text": [
      "Epoch:799/1000.. Train Loss: 0.010.. Val Loss: 0.117.. Test Loss: 0.062.. Time: 0.03m\n"
     ]
    },
    {
     "name": "stderr",
     "output_type": "stream",
     "text": [
      "100%|██████████| 107/107 [00:01<00:00, 69.55it/s]\n",
      "100%|██████████| 18/18 [00:00<00:00, 326.29it/s]\n",
      "100%|██████████| 53/53 [00:00<00:00, 328.27it/s]\n"
     ]
    },
    {
     "name": "stdout",
     "output_type": "stream",
     "text": [
      "Epoch:800/1000.. Train Loss: 0.010.. Val Loss: 0.131.. Test Loss: 0.062.. Time: 0.03m\n"
     ]
    },
    {
     "name": "stderr",
     "output_type": "stream",
     "text": [
      "100%|██████████| 107/107 [00:01<00:00, 71.09it/s]\n",
      "100%|██████████| 18/18 [00:00<00:00, 333.84it/s]\n",
      "100%|██████████| 53/53 [00:00<00:00, 309.01it/s]\n"
     ]
    },
    {
     "name": "stdout",
     "output_type": "stream",
     "text": [
      "Epoch:801/1000.. Train Loss: 0.010.. Val Loss: 0.120.. Test Loss: 0.062.. Time: 0.03m\n"
     ]
    },
    {
     "name": "stderr",
     "output_type": "stream",
     "text": [
      "100%|██████████| 107/107 [00:01<00:00, 66.95it/s]\n",
      "100%|██████████| 18/18 [00:00<00:00, 333.17it/s]\n",
      "100%|██████████| 53/53 [00:00<00:00, 332.53it/s]\n"
     ]
    },
    {
     "name": "stdout",
     "output_type": "stream",
     "text": [
      "Epoch:802/1000.. Train Loss: 0.010.. Val Loss: 0.113.. Test Loss: 0.063.. Time: 0.03m\n"
     ]
    },
    {
     "name": "stderr",
     "output_type": "stream",
     "text": [
      "100%|██████████| 107/107 [00:01<00:00, 70.88it/s]\n",
      "100%|██████████| 18/18 [00:00<00:00, 329.76it/s]\n",
      "100%|██████████| 53/53 [00:00<00:00, 330.10it/s]\n"
     ]
    },
    {
     "name": "stdout",
     "output_type": "stream",
     "text": [
      "Epoch:803/1000.. Train Loss: 0.012.. Val Loss: 0.112.. Test Loss: 0.062.. Time: 0.03m\n"
     ]
    },
    {
     "name": "stderr",
     "output_type": "stream",
     "text": [
      "100%|██████████| 107/107 [00:01<00:00, 69.55it/s]\n",
      "100%|██████████| 18/18 [00:00<00:00, 334.04it/s]\n",
      "100%|██████████| 53/53 [00:00<00:00, 332.37it/s]\n"
     ]
    },
    {
     "name": "stdout",
     "output_type": "stream",
     "text": [
      "Epoch:804/1000.. Train Loss: 0.012.. Val Loss: 0.118.. Test Loss: 0.061.. Time: 0.03m\n"
     ]
    },
    {
     "name": "stderr",
     "output_type": "stream",
     "text": [
      "100%|██████████| 107/107 [00:01<00:00, 70.05it/s]\n",
      "100%|██████████| 18/18 [00:00<00:00, 322.12it/s]\n",
      "100%|██████████| 53/53 [00:00<00:00, 329.78it/s]\n"
     ]
    },
    {
     "name": "stdout",
     "output_type": "stream",
     "text": [
      "Epoch:805/1000.. Train Loss: 0.013.. Val Loss: 0.139.. Test Loss: 0.062.. Time: 0.03m\n"
     ]
    },
    {
     "name": "stderr",
     "output_type": "stream",
     "text": [
      "100%|██████████| 107/107 [00:01<00:00, 70.65it/s]\n",
      "100%|██████████| 18/18 [00:00<00:00, 332.35it/s]\n",
      "100%|██████████| 53/53 [00:00<00:00, 327.44it/s]\n"
     ]
    },
    {
     "name": "stdout",
     "output_type": "stream",
     "text": [
      "Epoch:806/1000.. Train Loss: 0.011.. Val Loss: 0.111.. Test Loss: 0.061.. Time: 0.03m\n"
     ]
    },
    {
     "name": "stderr",
     "output_type": "stream",
     "text": [
      "100%|██████████| 107/107 [00:01<00:00, 66.12it/s]\n",
      "100%|██████████| 18/18 [00:00<00:00, 338.33it/s]\n",
      "100%|██████████| 53/53 [00:00<00:00, 333.17it/s]\n"
     ]
    },
    {
     "name": "stdout",
     "output_type": "stream",
     "text": [
      "Epoch:807/1000.. Train Loss: 0.010.. Val Loss: 0.114.. Test Loss: 0.061.. Time: 0.03m\n"
     ]
    },
    {
     "name": "stderr",
     "output_type": "stream",
     "text": [
      "100%|██████████| 107/107 [00:01<00:00, 71.22it/s]\n",
      "100%|██████████| 18/18 [00:00<00:00, 332.09it/s]\n",
      "100%|██████████| 53/53 [00:00<00:00, 330.86it/s]\n"
     ]
    },
    {
     "name": "stdout",
     "output_type": "stream",
     "text": [
      "Epoch:808/1000.. Train Loss: 0.011.. Val Loss: 0.111.. Test Loss: 0.061.. Time: 0.03m\n"
     ]
    },
    {
     "name": "stderr",
     "output_type": "stream",
     "text": [
      "100%|██████████| 107/107 [00:01<00:00, 64.29it/s]\n",
      "100%|██████████| 18/18 [00:00<00:00, 312.52it/s]\n",
      "100%|██████████| 53/53 [00:00<00:00, 316.48it/s]\n"
     ]
    },
    {
     "name": "stdout",
     "output_type": "stream",
     "text": [
      "Epoch:809/1000.. Train Loss: 0.011.. Val Loss: 0.111.. Test Loss: 0.061.. Time: 0.03m\n"
     ]
    },
    {
     "name": "stderr",
     "output_type": "stream",
     "text": [
      "100%|██████████| 107/107 [00:01<00:00, 70.74it/s]\n",
      "100%|██████████| 18/18 [00:00<00:00, 325.42it/s]\n",
      "100%|██████████| 53/53 [00:00<00:00, 328.45it/s]\n"
     ]
    },
    {
     "name": "stdout",
     "output_type": "stream",
     "text": [
      "Epoch:810/1000.. Train Loss: 0.011.. Val Loss: 0.110.. Test Loss: 0.060.. Time: 0.03m\n"
     ]
    },
    {
     "name": "stderr",
     "output_type": "stream",
     "text": [
      "100%|██████████| 107/107 [00:01<00:00, 70.32it/s]\n",
      "100%|██████████| 18/18 [00:00<00:00, 326.85it/s]\n",
      "100%|██████████| 53/53 [00:00<00:00, 327.65it/s]\n"
     ]
    },
    {
     "name": "stdout",
     "output_type": "stream",
     "text": [
      "Epoch:811/1000.. Train Loss: 0.012.. Val Loss: 0.104.. Test Loss: 0.058.. Time: 0.03m\n"
     ]
    },
    {
     "name": "stderr",
     "output_type": "stream",
     "text": [
      "100%|██████████| 107/107 [00:01<00:00, 70.55it/s]\n",
      "100%|██████████| 18/18 [00:00<00:00, 317.04it/s]\n",
      "100%|██████████| 53/53 [00:00<00:00, 326.79it/s]\n"
     ]
    },
    {
     "name": "stdout",
     "output_type": "stream",
     "text": [
      "Epoch:812/1000.. Train Loss: 0.010.. Val Loss: 0.103.. Test Loss: 0.058.. Time: 0.03m\n"
     ]
    },
    {
     "name": "stderr",
     "output_type": "stream",
     "text": [
      "100%|██████████| 107/107 [00:01<00:00, 68.73it/s]\n",
      "100%|██████████| 18/18 [00:00<00:00, 311.84it/s]\n",
      "100%|██████████| 53/53 [00:00<00:00, 323.58it/s]\n"
     ]
    },
    {
     "name": "stdout",
     "output_type": "stream",
     "text": [
      "Epoch:813/1000.. Train Loss: 0.012.. Val Loss: 0.109.. Test Loss: 0.059.. Time: 0.03m\n"
     ]
    },
    {
     "name": "stderr",
     "output_type": "stream",
     "text": [
      "100%|██████████| 107/107 [00:01<00:00, 68.97it/s]\n",
      "100%|██████████| 18/18 [00:00<00:00, 327.65it/s]\n",
      "100%|██████████| 53/53 [00:00<00:00, 330.08it/s]\n"
     ]
    },
    {
     "name": "stdout",
     "output_type": "stream",
     "text": [
      "Epoch:814/1000.. Train Loss: 0.011.. Val Loss: 0.111.. Test Loss: 0.059.. Time: 0.03m\n"
     ]
    },
    {
     "name": "stderr",
     "output_type": "stream",
     "text": [
      "100%|██████████| 107/107 [00:01<00:00, 67.65it/s]\n",
      "100%|██████████| 18/18 [00:00<00:00, 300.99it/s]\n",
      "100%|██████████| 53/53 [00:00<00:00, 325.73it/s]\n"
     ]
    },
    {
     "name": "stdout",
     "output_type": "stream",
     "text": [
      "Epoch:815/1000.. Train Loss: 0.010.. Val Loss: 0.109.. Test Loss: 0.060.. Time: 0.03m\n"
     ]
    },
    {
     "name": "stderr",
     "output_type": "stream",
     "text": [
      "100%|██████████| 107/107 [00:01<00:00, 68.37it/s]\n",
      "100%|██████████| 18/18 [00:00<00:00, 327.12it/s]\n",
      "100%|██████████| 53/53 [00:00<00:00, 327.52it/s]\n"
     ]
    },
    {
     "name": "stdout",
     "output_type": "stream",
     "text": [
      "Epoch:816/1000.. Train Loss: 0.013.. Val Loss: 0.108.. Test Loss: 0.061.. Time: 0.03m\n"
     ]
    },
    {
     "name": "stderr",
     "output_type": "stream",
     "text": [
      "100%|██████████| 107/107 [00:01<00:00, 67.64it/s]\n",
      "100%|██████████| 18/18 [00:00<00:00, 329.69it/s]\n",
      "100%|██████████| 53/53 [00:00<00:00, 329.72it/s]\n"
     ]
    },
    {
     "name": "stdout",
     "output_type": "stream",
     "text": [
      "Epoch:817/1000.. Train Loss: 0.011.. Val Loss: 0.114.. Test Loss: 0.062.. Time: 0.03m\n"
     ]
    },
    {
     "name": "stderr",
     "output_type": "stream",
     "text": [
      "100%|██████████| 107/107 [00:01<00:00, 71.29it/s]\n",
      "100%|██████████| 18/18 [00:00<00:00, 331.58it/s]\n",
      "100%|██████████| 53/53 [00:00<00:00, 328.80it/s]\n"
     ]
    },
    {
     "name": "stdout",
     "output_type": "stream",
     "text": [
      "Epoch:818/1000.. Train Loss: 0.010.. Val Loss: 0.117.. Test Loss: 0.062.. Time: 0.03m\n"
     ]
    },
    {
     "name": "stderr",
     "output_type": "stream",
     "text": [
      "100%|██████████| 107/107 [00:01<00:00, 69.95it/s]\n",
      "100%|██████████| 18/18 [00:00<00:00, 332.25it/s]\n",
      "100%|██████████| 53/53 [00:00<00:00, 328.83it/s]\n"
     ]
    },
    {
     "name": "stdout",
     "output_type": "stream",
     "text": [
      "Epoch:819/1000.. Train Loss: 0.011.. Val Loss: 0.118.. Test Loss: 0.062.. Time: 0.03m\n"
     ]
    },
    {
     "name": "stderr",
     "output_type": "stream",
     "text": [
      "100%|██████████| 107/107 [00:01<00:00, 70.66it/s]\n",
      "100%|██████████| 18/18 [00:00<00:00, 330.67it/s]\n",
      "100%|██████████| 53/53 [00:00<00:00, 311.75it/s]\n"
     ]
    },
    {
     "name": "stdout",
     "output_type": "stream",
     "text": [
      "Epoch:820/1000.. Train Loss: 0.012.. Val Loss: 0.115.. Test Loss: 0.062.. Time: 0.03m\n"
     ]
    },
    {
     "name": "stderr",
     "output_type": "stream",
     "text": [
      "100%|██████████| 107/107 [00:01<00:00, 70.53it/s]\n",
      "100%|██████████| 18/18 [00:00<00:00, 307.45it/s]\n",
      "100%|██████████| 53/53 [00:00<00:00, 326.61it/s]\n"
     ]
    },
    {
     "name": "stdout",
     "output_type": "stream",
     "text": [
      "Epoch:821/1000.. Train Loss: 0.013.. Val Loss: 0.120.. Test Loss: 0.061.. Time: 0.03m\n"
     ]
    },
    {
     "name": "stderr",
     "output_type": "stream",
     "text": [
      "100%|██████████| 107/107 [00:01<00:00, 70.47it/s]\n",
      "100%|██████████| 18/18 [00:00<00:00, 327.56it/s]\n",
      "100%|██████████| 53/53 [00:00<00:00, 322.73it/s]\n"
     ]
    },
    {
     "name": "stdout",
     "output_type": "stream",
     "text": [
      "Epoch:822/1000.. Train Loss: 0.011.. Val Loss: 0.122.. Test Loss: 0.061.. Time: 0.03m\n"
     ]
    },
    {
     "name": "stderr",
     "output_type": "stream",
     "text": [
      "100%|██████████| 107/107 [00:01<00:00, 69.86it/s]\n",
      "100%|██████████| 18/18 [00:00<00:00, 322.30it/s]\n",
      "100%|██████████| 53/53 [00:00<00:00, 324.37it/s]\n"
     ]
    },
    {
     "name": "stdout",
     "output_type": "stream",
     "text": [
      "Epoch:823/1000.. Train Loss: 0.011.. Val Loss: 0.120.. Test Loss: 0.061.. Time: 0.03m\n"
     ]
    },
    {
     "name": "stderr",
     "output_type": "stream",
     "text": [
      "100%|██████████| 107/107 [00:01<00:00, 69.91it/s]\n",
      "100%|██████████| 18/18 [00:00<00:00, 318.80it/s]\n",
      "100%|██████████| 53/53 [00:00<00:00, 324.07it/s]\n"
     ]
    },
    {
     "name": "stdout",
     "output_type": "stream",
     "text": [
      "Epoch:824/1000.. Train Loss: 0.011.. Val Loss: 0.118.. Test Loss: 0.060.. Time: 0.03m\n"
     ]
    },
    {
     "name": "stderr",
     "output_type": "stream",
     "text": [
      "100%|██████████| 107/107 [00:01<00:00, 70.21it/s]\n",
      "100%|██████████| 18/18 [00:00<00:00, 321.98it/s]\n",
      "100%|██████████| 53/53 [00:00<00:00, 318.50it/s]\n"
     ]
    },
    {
     "name": "stdout",
     "output_type": "stream",
     "text": [
      "Epoch:825/1000.. Train Loss: 0.013.. Val Loss: 0.121.. Test Loss: 0.061.. Time: 0.03m\n"
     ]
    },
    {
     "name": "stderr",
     "output_type": "stream",
     "text": [
      "100%|██████████| 107/107 [00:01<00:00, 69.72it/s]\n",
      "100%|██████████| 18/18 [00:00<00:00, 325.12it/s]\n",
      "100%|██████████| 53/53 [00:00<00:00, 326.99it/s]\n"
     ]
    },
    {
     "name": "stdout",
     "output_type": "stream",
     "text": [
      "Epoch:826/1000.. Train Loss: 0.011.. Val Loss: 0.121.. Test Loss: 0.063.. Time: 0.03m\n"
     ]
    },
    {
     "name": "stderr",
     "output_type": "stream",
     "text": [
      "100%|██████████| 107/107 [00:01<00:00, 69.83it/s]\n",
      "100%|██████████| 18/18 [00:00<00:00, 332.88it/s]\n",
      "100%|██████████| 53/53 [00:00<00:00, 330.12it/s]\n"
     ]
    },
    {
     "name": "stdout",
     "output_type": "stream",
     "text": [
      "Epoch:827/1000.. Train Loss: 0.013.. Val Loss: 0.118.. Test Loss: 0.064.. Time: 0.03m\n"
     ]
    },
    {
     "name": "stderr",
     "output_type": "stream",
     "text": [
      "100%|██████████| 107/107 [00:01<00:00, 69.95it/s]\n",
      "100%|██████████| 18/18 [00:00<00:00, 324.30it/s]\n",
      "100%|██████████| 53/53 [00:00<00:00, 326.83it/s]\n"
     ]
    },
    {
     "name": "stdout",
     "output_type": "stream",
     "text": [
      "Epoch:828/1000.. Train Loss: 0.015.. Val Loss: 0.120.. Test Loss: 0.061.. Time: 0.03m\n"
     ]
    },
    {
     "name": "stderr",
     "output_type": "stream",
     "text": [
      "100%|██████████| 107/107 [00:01<00:00, 69.93it/s]\n",
      "100%|██████████| 18/18 [00:00<00:00, 332.13it/s]\n",
      "100%|██████████| 53/53 [00:00<00:00, 332.14it/s]\n"
     ]
    },
    {
     "name": "stdout",
     "output_type": "stream",
     "text": [
      "Epoch:829/1000.. Train Loss: 0.013.. Val Loss: 0.130.. Test Loss: 0.062.. Time: 0.03m\n"
     ]
    },
    {
     "name": "stderr",
     "output_type": "stream",
     "text": [
      "100%|██████████| 107/107 [00:01<00:00, 70.48it/s]\n",
      "100%|██████████| 18/18 [00:00<00:00, 329.94it/s]\n",
      "100%|██████████| 53/53 [00:00<00:00, 335.37it/s]\n"
     ]
    },
    {
     "name": "stdout",
     "output_type": "stream",
     "text": [
      "Epoch:830/1000.. Train Loss: 0.012.. Val Loss: 0.121.. Test Loss: 0.060.. Time: 0.03m\n"
     ]
    },
    {
     "name": "stderr",
     "output_type": "stream",
     "text": [
      "100%|██████████| 107/107 [00:01<00:00, 71.95it/s]\n",
      "100%|██████████| 18/18 [00:00<00:00, 338.72it/s]\n",
      "100%|██████████| 53/53 [00:00<00:00, 323.50it/s]\n"
     ]
    },
    {
     "name": "stdout",
     "output_type": "stream",
     "text": [
      "Epoch:831/1000.. Train Loss: 0.011.. Val Loss: 0.120.. Test Loss: 0.060.. Time: 0.03m\n"
     ]
    },
    {
     "name": "stderr",
     "output_type": "stream",
     "text": [
      "100%|██████████| 107/107 [00:01<00:00, 69.84it/s]\n",
      "100%|██████████| 18/18 [00:00<00:00, 331.10it/s]\n",
      "100%|██████████| 53/53 [00:00<00:00, 322.84it/s]\n"
     ]
    },
    {
     "name": "stdout",
     "output_type": "stream",
     "text": [
      "Epoch:832/1000.. Train Loss: 0.011.. Val Loss: 0.120.. Test Loss: 0.061.. Time: 0.03m\n"
     ]
    },
    {
     "name": "stderr",
     "output_type": "stream",
     "text": [
      "100%|██████████| 107/107 [00:01<00:00, 69.92it/s]\n",
      "100%|██████████| 18/18 [00:00<00:00, 320.90it/s]\n",
      "100%|██████████| 53/53 [00:00<00:00, 321.05it/s]\n"
     ]
    },
    {
     "name": "stdout",
     "output_type": "stream",
     "text": [
      "Epoch:833/1000.. Train Loss: 0.010.. Val Loss: 0.125.. Test Loss: 0.061.. Time: 0.03m\n"
     ]
    },
    {
     "name": "stderr",
     "output_type": "stream",
     "text": [
      "100%|██████████| 107/107 [00:01<00:00, 68.86it/s]\n",
      "100%|██████████| 18/18 [00:00<00:00, 327.59it/s]\n",
      "100%|██████████| 53/53 [00:00<00:00, 326.22it/s]\n"
     ]
    },
    {
     "name": "stdout",
     "output_type": "stream",
     "text": [
      "Epoch:834/1000.. Train Loss: 0.011.. Val Loss: 0.118.. Test Loss: 0.060.. Time: 0.03m\n"
     ]
    },
    {
     "name": "stderr",
     "output_type": "stream",
     "text": [
      "100%|██████████| 107/107 [00:01<00:00, 70.49it/s]\n",
      "100%|██████████| 18/18 [00:00<00:00, 329.43it/s]\n",
      "100%|██████████| 53/53 [00:00<00:00, 326.39it/s]\n"
     ]
    },
    {
     "name": "stdout",
     "output_type": "stream",
     "text": [
      "Epoch:835/1000.. Train Loss: 0.010.. Val Loss: 0.118.. Test Loss: 0.061.. Time: 0.03m\n"
     ]
    },
    {
     "name": "stderr",
     "output_type": "stream",
     "text": [
      "100%|██████████| 107/107 [00:01<00:00, 69.80it/s]\n",
      "100%|██████████| 18/18 [00:00<00:00, 326.13it/s]\n",
      "100%|██████████| 53/53 [00:00<00:00, 327.22it/s]\n"
     ]
    },
    {
     "name": "stdout",
     "output_type": "stream",
     "text": [
      "Epoch:836/1000.. Train Loss: 0.013.. Val Loss: 0.113.. Test Loss: 0.061.. Time: 0.03m\n"
     ]
    },
    {
     "name": "stderr",
     "output_type": "stream",
     "text": [
      "100%|██████████| 107/107 [00:01<00:00, 69.80it/s]\n",
      "100%|██████████| 18/18 [00:00<00:00, 321.84it/s]\n",
      "100%|██████████| 53/53 [00:00<00:00, 328.93it/s]\n"
     ]
    },
    {
     "name": "stdout",
     "output_type": "stream",
     "text": [
      "Epoch:837/1000.. Train Loss: 0.011.. Val Loss: 0.114.. Test Loss: 0.060.. Time: 0.03m\n"
     ]
    },
    {
     "name": "stderr",
     "output_type": "stream",
     "text": [
      "100%|██████████| 107/107 [00:01<00:00, 70.44it/s]\n",
      "100%|██████████| 18/18 [00:00<00:00, 337.96it/s]\n",
      "100%|██████████| 53/53 [00:00<00:00, 322.56it/s]\n"
     ]
    },
    {
     "name": "stdout",
     "output_type": "stream",
     "text": [
      "Epoch:838/1000.. Train Loss: 0.011.. Val Loss: 0.112.. Test Loss: 0.060.. Time: 0.03m\n"
     ]
    },
    {
     "name": "stderr",
     "output_type": "stream",
     "text": [
      "100%|██████████| 107/107 [00:01<00:00, 71.53it/s]\n",
      "100%|██████████| 18/18 [00:00<00:00, 304.63it/s]\n",
      "100%|██████████| 53/53 [00:00<00:00, 310.01it/s]\n"
     ]
    },
    {
     "name": "stdout",
     "output_type": "stream",
     "text": [
      "Epoch:839/1000.. Train Loss: 0.010.. Val Loss: 0.115.. Test Loss: 0.062.. Time: 0.03m\n"
     ]
    },
    {
     "name": "stderr",
     "output_type": "stream",
     "text": [
      "100%|██████████| 107/107 [00:01<00:00, 71.64it/s]\n",
      "100%|██████████| 18/18 [00:00<00:00, 326.93it/s]\n",
      "100%|██████████| 53/53 [00:00<00:00, 333.76it/s]\n"
     ]
    },
    {
     "name": "stdout",
     "output_type": "stream",
     "text": [
      "Epoch:840/1000.. Train Loss: 0.012.. Val Loss: 0.115.. Test Loss: 0.061.. Time: 0.03m\n"
     ]
    },
    {
     "name": "stderr",
     "output_type": "stream",
     "text": [
      "100%|██████████| 107/107 [00:01<00:00, 70.02it/s]\n",
      "100%|██████████| 18/18 [00:00<00:00, 331.28it/s]\n",
      "100%|██████████| 53/53 [00:00<00:00, 328.68it/s]\n"
     ]
    },
    {
     "name": "stdout",
     "output_type": "stream",
     "text": [
      "Epoch:841/1000.. Train Loss: 0.011.. Val Loss: 0.112.. Test Loss: 0.061.. Time: 0.03m\n"
     ]
    },
    {
     "name": "stderr",
     "output_type": "stream",
     "text": [
      "100%|██████████| 107/107 [00:01<00:00, 71.12it/s]\n",
      "100%|██████████| 18/18 [00:00<00:00, 334.50it/s]\n",
      "100%|██████████| 53/53 [00:00<00:00, 319.25it/s]\n"
     ]
    },
    {
     "name": "stdout",
     "output_type": "stream",
     "text": [
      "Epoch:842/1000.. Train Loss: 0.012.. Val Loss: 0.113.. Test Loss: 0.061.. Time: 0.03m\n"
     ]
    },
    {
     "name": "stderr",
     "output_type": "stream",
     "text": [
      "100%|██████████| 107/107 [00:01<00:00, 71.63it/s]\n",
      "100%|██████████| 18/18 [00:00<00:00, 326.70it/s]\n",
      "100%|██████████| 53/53 [00:00<00:00, 329.08it/s]\n"
     ]
    },
    {
     "name": "stdout",
     "output_type": "stream",
     "text": [
      "Epoch:843/1000.. Train Loss: 0.011.. Val Loss: 0.116.. Test Loss: 0.060.. Time: 0.03m\n"
     ]
    },
    {
     "name": "stderr",
     "output_type": "stream",
     "text": [
      "100%|██████████| 107/107 [00:01<00:00, 71.21it/s]\n",
      "100%|██████████| 18/18 [00:00<00:00, 324.10it/s]\n",
      "100%|██████████| 53/53 [00:00<00:00, 322.70it/s]\n"
     ]
    },
    {
     "name": "stdout",
     "output_type": "stream",
     "text": [
      "Epoch:844/1000.. Train Loss: 0.012.. Val Loss: 0.113.. Test Loss: 0.061.. Time: 0.03m\n"
     ]
    },
    {
     "name": "stderr",
     "output_type": "stream",
     "text": [
      "100%|██████████| 107/107 [00:01<00:00, 70.40it/s]\n",
      "100%|██████████| 18/18 [00:00<00:00, 332.98it/s]\n",
      "100%|██████████| 53/53 [00:00<00:00, 317.59it/s]\n"
     ]
    },
    {
     "name": "stdout",
     "output_type": "stream",
     "text": [
      "Epoch:845/1000.. Train Loss: 0.011.. Val Loss: 0.103.. Test Loss: 0.062.. Time: 0.03m\n"
     ]
    },
    {
     "name": "stderr",
     "output_type": "stream",
     "text": [
      "100%|██████████| 107/107 [00:01<00:00, 71.18it/s]\n",
      "100%|██████████| 18/18 [00:00<00:00, 330.26it/s]\n",
      "100%|██████████| 53/53 [00:00<00:00, 329.43it/s]\n"
     ]
    },
    {
     "name": "stdout",
     "output_type": "stream",
     "text": [
      "Epoch:846/1000.. Train Loss: 0.012.. Val Loss: 0.114.. Test Loss: 0.061.. Time: 0.03m\n"
     ]
    },
    {
     "name": "stderr",
     "output_type": "stream",
     "text": [
      "100%|██████████| 107/107 [00:01<00:00, 71.42it/s]\n",
      "100%|██████████| 18/18 [00:00<00:00, 326.67it/s]\n",
      "100%|██████████| 53/53 [00:00<00:00, 331.89it/s]\n"
     ]
    },
    {
     "name": "stdout",
     "output_type": "stream",
     "text": [
      "Epoch:847/1000.. Train Loss: 0.011.. Val Loss: 0.114.. Test Loss: 0.061.. Time: 0.03m\n"
     ]
    },
    {
     "name": "stderr",
     "output_type": "stream",
     "text": [
      "100%|██████████| 107/107 [00:01<00:00, 69.56it/s]\n",
      "100%|██████████| 18/18 [00:00<00:00, 318.27it/s]\n",
      "100%|██████████| 53/53 [00:00<00:00, 328.83it/s]\n"
     ]
    },
    {
     "name": "stdout",
     "output_type": "stream",
     "text": [
      "Epoch:848/1000.. Train Loss: 0.011.. Val Loss: 0.113.. Test Loss: 0.060.. Time: 0.03m\n"
     ]
    },
    {
     "name": "stderr",
     "output_type": "stream",
     "text": [
      "100%|██████████| 107/107 [00:01<00:00, 70.55it/s]\n",
      "100%|██████████| 18/18 [00:00<00:00, 323.87it/s]\n",
      "100%|██████████| 53/53 [00:00<00:00, 323.39it/s]\n"
     ]
    },
    {
     "name": "stdout",
     "output_type": "stream",
     "text": [
      "Epoch:849/1000.. Train Loss: 0.012.. Val Loss: 0.130.. Test Loss: 0.060.. Time: 0.03m\n"
     ]
    },
    {
     "name": "stderr",
     "output_type": "stream",
     "text": [
      "100%|██████████| 107/107 [00:01<00:00, 70.95it/s]\n",
      "100%|██████████| 18/18 [00:00<00:00, 327.83it/s]\n",
      "100%|██████████| 53/53 [00:00<00:00, 319.24it/s]\n"
     ]
    },
    {
     "name": "stdout",
     "output_type": "stream",
     "text": [
      "Epoch:850/1000.. Train Loss: 0.010.. Val Loss: 0.140.. Test Loss: 0.060.. Time: 0.03m\n"
     ]
    },
    {
     "name": "stderr",
     "output_type": "stream",
     "text": [
      "100%|██████████| 107/107 [00:01<00:00, 69.71it/s]\n",
      "100%|██████████| 18/18 [00:00<00:00, 326.18it/s]\n",
      "100%|██████████| 53/53 [00:00<00:00, 325.88it/s]\n"
     ]
    },
    {
     "name": "stdout",
     "output_type": "stream",
     "text": [
      "Epoch:851/1000.. Train Loss: 0.011.. Val Loss: 0.114.. Test Loss: 0.060.. Time: 0.03m\n"
     ]
    },
    {
     "name": "stderr",
     "output_type": "stream",
     "text": [
      "100%|██████████| 107/107 [00:01<00:00, 69.33it/s]\n",
      "100%|██████████| 18/18 [00:00<00:00, 328.75it/s]\n",
      "100%|██████████| 53/53 [00:00<00:00, 335.59it/s]\n"
     ]
    },
    {
     "name": "stdout",
     "output_type": "stream",
     "text": [
      "Epoch:852/1000.. Train Loss: 0.011.. Val Loss: 0.116.. Test Loss: 0.060.. Time: 0.03m\n"
     ]
    },
    {
     "name": "stderr",
     "output_type": "stream",
     "text": [
      "100%|██████████| 107/107 [00:01<00:00, 70.18it/s]\n",
      "100%|██████████| 18/18 [00:00<00:00, 323.70it/s]\n",
      "100%|██████████| 53/53 [00:00<00:00, 327.69it/s]\n"
     ]
    },
    {
     "name": "stdout",
     "output_type": "stream",
     "text": [
      "Epoch:853/1000.. Train Loss: 0.011.. Val Loss: 0.115.. Test Loss: 0.062.. Time: 0.03m\n"
     ]
    },
    {
     "name": "stderr",
     "output_type": "stream",
     "text": [
      "100%|██████████| 107/107 [00:01<00:00, 70.19it/s]\n",
      "100%|██████████| 18/18 [00:00<00:00, 320.51it/s]\n",
      "100%|██████████| 53/53 [00:00<00:00, 326.16it/s]\n"
     ]
    },
    {
     "name": "stdout",
     "output_type": "stream",
     "text": [
      "Epoch:854/1000.. Train Loss: 0.012.. Val Loss: 0.110.. Test Loss: 0.062.. Time: 0.03m\n"
     ]
    },
    {
     "name": "stderr",
     "output_type": "stream",
     "text": [
      "100%|██████████| 107/107 [00:01<00:00, 69.71it/s]\n",
      "100%|██████████| 18/18 [00:00<00:00, 323.60it/s]\n",
      "100%|██████████| 53/53 [00:00<00:00, 314.30it/s]\n"
     ]
    },
    {
     "name": "stdout",
     "output_type": "stream",
     "text": [
      "Epoch:855/1000.. Train Loss: 0.011.. Val Loss: 0.114.. Test Loss: 0.061.. Time: 0.03m\n"
     ]
    },
    {
     "name": "stderr",
     "output_type": "stream",
     "text": [
      "100%|██████████| 107/107 [00:01<00:00, 71.60it/s]\n",
      "100%|██████████| 18/18 [00:00<00:00, 318.32it/s]\n",
      "100%|██████████| 53/53 [00:00<00:00, 326.66it/s]\n"
     ]
    },
    {
     "name": "stdout",
     "output_type": "stream",
     "text": [
      "Epoch:856/1000.. Train Loss: 0.011.. Val Loss: 0.109.. Test Loss: 0.062.. Time: 0.03m\n"
     ]
    },
    {
     "name": "stderr",
     "output_type": "stream",
     "text": [
      "100%|██████████| 107/107 [00:01<00:00, 69.69it/s]\n",
      "100%|██████████| 18/18 [00:00<00:00, 325.30it/s]\n",
      "100%|██████████| 53/53 [00:00<00:00, 328.33it/s]\n"
     ]
    },
    {
     "name": "stdout",
     "output_type": "stream",
     "text": [
      "Epoch:857/1000.. Train Loss: 0.011.. Val Loss: 0.109.. Test Loss: 0.061.. Time: 0.03m\n"
     ]
    },
    {
     "name": "stderr",
     "output_type": "stream",
     "text": [
      "100%|██████████| 107/107 [00:01<00:00, 70.75it/s]\n",
      "100%|██████████| 18/18 [00:00<00:00, 331.95it/s]\n",
      "100%|██████████| 53/53 [00:00<00:00, 307.71it/s]\n"
     ]
    },
    {
     "name": "stdout",
     "output_type": "stream",
     "text": [
      "Epoch:858/1000.. Train Loss: 0.011.. Val Loss: 0.110.. Test Loss: 0.061.. Time: 0.03m\n"
     ]
    },
    {
     "name": "stderr",
     "output_type": "stream",
     "text": [
      "100%|██████████| 107/107 [00:01<00:00, 69.78it/s]\n",
      "100%|██████████| 18/18 [00:00<00:00, 328.50it/s]\n",
      "100%|██████████| 53/53 [00:00<00:00, 330.98it/s]\n"
     ]
    },
    {
     "name": "stdout",
     "output_type": "stream",
     "text": [
      "Epoch:859/1000.. Train Loss: 0.013.. Val Loss: 0.103.. Test Loss: 0.061.. Time: 0.03m\n"
     ]
    },
    {
     "name": "stderr",
     "output_type": "stream",
     "text": [
      "100%|██████████| 107/107 [00:01<00:00, 70.93it/s]\n",
      "100%|██████████| 18/18 [00:00<00:00, 325.34it/s]\n",
      "100%|██████████| 53/53 [00:00<00:00, 329.87it/s]\n"
     ]
    },
    {
     "name": "stdout",
     "output_type": "stream",
     "text": [
      "Epoch:860/1000.. Train Loss: 0.011.. Val Loss: 0.105.. Test Loss: 0.062.. Time: 0.03m\n"
     ]
    },
    {
     "name": "stderr",
     "output_type": "stream",
     "text": [
      "100%|██████████| 107/107 [00:01<00:00, 70.41it/s]\n",
      "100%|██████████| 18/18 [00:00<00:00, 328.86it/s]\n",
      "100%|██████████| 53/53 [00:00<00:00, 327.07it/s]\n"
     ]
    },
    {
     "name": "stdout",
     "output_type": "stream",
     "text": [
      "Epoch:861/1000.. Train Loss: 0.010.. Val Loss: 0.105.. Test Loss: 0.061.. Time: 0.03m\n"
     ]
    },
    {
     "name": "stderr",
     "output_type": "stream",
     "text": [
      "100%|██████████| 107/107 [00:01<00:00, 70.12it/s]\n",
      "100%|██████████| 18/18 [00:00<00:00, 327.74it/s]\n",
      "100%|██████████| 53/53 [00:00<00:00, 326.72it/s]\n"
     ]
    },
    {
     "name": "stdout",
     "output_type": "stream",
     "text": [
      "Epoch:862/1000.. Train Loss: 0.012.. Val Loss: 0.105.. Test Loss: 0.062.. Time: 0.03m\n"
     ]
    },
    {
     "name": "stderr",
     "output_type": "stream",
     "text": [
      "100%|██████████| 107/107 [00:01<00:00, 70.78it/s]\n",
      "100%|██████████| 18/18 [00:00<00:00, 322.58it/s]\n",
      "100%|██████████| 53/53 [00:00<00:00, 311.06it/s]\n"
     ]
    },
    {
     "name": "stdout",
     "output_type": "stream",
     "text": [
      "Epoch:863/1000.. Train Loss: 0.012.. Val Loss: 0.106.. Test Loss: 0.062.. Time: 0.03m\n"
     ]
    },
    {
     "name": "stderr",
     "output_type": "stream",
     "text": [
      "100%|██████████| 107/107 [00:01<00:00, 70.35it/s]\n",
      "100%|██████████| 18/18 [00:00<00:00, 327.39it/s]\n",
      "100%|██████████| 53/53 [00:00<00:00, 325.22it/s]\n"
     ]
    },
    {
     "name": "stdout",
     "output_type": "stream",
     "text": [
      "Epoch:864/1000.. Train Loss: 0.010.. Val Loss: 0.113.. Test Loss: 0.063.. Time: 0.03m\n"
     ]
    },
    {
     "name": "stderr",
     "output_type": "stream",
     "text": [
      "100%|██████████| 107/107 [00:01<00:00, 69.33it/s]\n",
      "100%|██████████| 18/18 [00:00<00:00, 330.36it/s]\n",
      "100%|██████████| 53/53 [00:00<00:00, 328.28it/s]\n"
     ]
    },
    {
     "name": "stdout",
     "output_type": "stream",
     "text": [
      "Epoch:865/1000.. Train Loss: 0.011.. Val Loss: 0.112.. Test Loss: 0.063.. Time: 0.03m\n"
     ]
    },
    {
     "name": "stderr",
     "output_type": "stream",
     "text": [
      "100%|██████████| 107/107 [00:01<00:00, 70.07it/s]\n",
      "100%|██████████| 18/18 [00:00<00:00, 328.93it/s]\n",
      "100%|██████████| 53/53 [00:00<00:00, 332.57it/s]\n"
     ]
    },
    {
     "name": "stdout",
     "output_type": "stream",
     "text": [
      "Epoch:866/1000.. Train Loss: 0.010.. Val Loss: 0.115.. Test Loss: 0.063.. Time: 0.03m\n"
     ]
    },
    {
     "name": "stderr",
     "output_type": "stream",
     "text": [
      "100%|██████████| 107/107 [00:01<00:00, 71.59it/s]\n",
      "100%|██████████| 18/18 [00:00<00:00, 326.64it/s]\n",
      "100%|██████████| 53/53 [00:00<00:00, 331.84it/s]\n"
     ]
    },
    {
     "name": "stdout",
     "output_type": "stream",
     "text": [
      "Epoch:867/1000.. Train Loss: 0.010.. Val Loss: 0.112.. Test Loss: 0.063.. Time: 0.03m\n"
     ]
    },
    {
     "name": "stderr",
     "output_type": "stream",
     "text": [
      "100%|██████████| 107/107 [00:01<00:00, 67.70it/s]\n",
      "100%|██████████| 18/18 [00:00<00:00, 325.09it/s]\n",
      "100%|██████████| 53/53 [00:00<00:00, 329.63it/s]\n"
     ]
    },
    {
     "name": "stdout",
     "output_type": "stream",
     "text": [
      "Epoch:868/1000.. Train Loss: 0.011.. Val Loss: 0.112.. Test Loss: 0.063.. Time: 0.03m\n"
     ]
    },
    {
     "name": "stderr",
     "output_type": "stream",
     "text": [
      "100%|██████████| 107/107 [00:01<00:00, 70.45it/s]\n",
      "100%|██████████| 18/18 [00:00<00:00, 332.52it/s]\n",
      "100%|██████████| 53/53 [00:00<00:00, 331.24it/s]\n"
     ]
    },
    {
     "name": "stdout",
     "output_type": "stream",
     "text": [
      "Epoch:869/1000.. Train Loss: 0.011.. Val Loss: 0.115.. Test Loss: 0.062.. Time: 0.03m\n"
     ]
    },
    {
     "name": "stderr",
     "output_type": "stream",
     "text": [
      "100%|██████████| 107/107 [00:01<00:00, 71.21it/s]\n",
      "100%|██████████| 18/18 [00:00<00:00, 334.42it/s]\n",
      "100%|██████████| 53/53 [00:00<00:00, 333.32it/s]\n"
     ]
    },
    {
     "name": "stdout",
     "output_type": "stream",
     "text": [
      "Epoch:870/1000.. Train Loss: 0.011.. Val Loss: 0.113.. Test Loss: 0.062.. Time: 0.03m\n"
     ]
    },
    {
     "name": "stderr",
     "output_type": "stream",
     "text": [
      "100%|██████████| 107/107 [00:01<00:00, 71.39it/s]\n",
      "100%|██████████| 18/18 [00:00<00:00, 324.04it/s]\n",
      "100%|██████████| 53/53 [00:00<00:00, 329.59it/s]\n"
     ]
    },
    {
     "name": "stdout",
     "output_type": "stream",
     "text": [
      "Epoch:871/1000.. Train Loss: 0.011.. Val Loss: 0.118.. Test Loss: 0.062.. Time: 0.03m\n"
     ]
    },
    {
     "name": "stderr",
     "output_type": "stream",
     "text": [
      "100%|██████████| 107/107 [00:01<00:00, 70.17it/s]\n",
      "100%|██████████| 18/18 [00:00<00:00, 331.17it/s]\n",
      "100%|██████████| 53/53 [00:00<00:00, 324.80it/s]\n"
     ]
    },
    {
     "name": "stdout",
     "output_type": "stream",
     "text": [
      "Epoch:872/1000.. Train Loss: 0.011.. Val Loss: 0.113.. Test Loss: 0.063.. Time: 0.03m\n"
     ]
    },
    {
     "name": "stderr",
     "output_type": "stream",
     "text": [
      "100%|██████████| 107/107 [00:01<00:00, 70.90it/s]\n",
      "100%|██████████| 18/18 [00:00<00:00, 327.84it/s]\n",
      "100%|██████████| 53/53 [00:00<00:00, 333.25it/s]\n"
     ]
    },
    {
     "name": "stdout",
     "output_type": "stream",
     "text": [
      "Epoch:873/1000.. Train Loss: 0.010.. Val Loss: 0.113.. Test Loss: 0.063.. Time: 0.03m\n"
     ]
    },
    {
     "name": "stderr",
     "output_type": "stream",
     "text": [
      "100%|██████████| 107/107 [00:01<00:00, 71.06it/s]\n",
      "100%|██████████| 18/18 [00:00<00:00, 322.24it/s]\n",
      "100%|██████████| 53/53 [00:00<00:00, 329.79it/s]\n"
     ]
    },
    {
     "name": "stdout",
     "output_type": "stream",
     "text": [
      "Epoch:874/1000.. Train Loss: 0.010.. Val Loss: 0.114.. Test Loss: 0.062.. Time: 0.03m\n"
     ]
    },
    {
     "name": "stderr",
     "output_type": "stream",
     "text": [
      "100%|██████████| 107/107 [00:01<00:00, 71.65it/s]\n",
      "100%|██████████| 18/18 [00:00<00:00, 329.86it/s]\n",
      "100%|██████████| 53/53 [00:00<00:00, 337.77it/s]\n"
     ]
    },
    {
     "name": "stdout",
     "output_type": "stream",
     "text": [
      "Epoch:875/1000.. Train Loss: 0.012.. Val Loss: 0.128.. Test Loss: 0.062.. Time: 0.03m\n"
     ]
    },
    {
     "name": "stderr",
     "output_type": "stream",
     "text": [
      "100%|██████████| 107/107 [00:01<00:00, 71.04it/s]\n",
      "100%|██████████| 18/18 [00:00<00:00, 328.58it/s]\n",
      "100%|██████████| 53/53 [00:00<00:00, 327.88it/s]\n"
     ]
    },
    {
     "name": "stdout",
     "output_type": "stream",
     "text": [
      "Epoch:876/1000.. Train Loss: 0.010.. Val Loss: 0.114.. Test Loss: 0.062.. Time: 0.03m\n"
     ]
    },
    {
     "name": "stderr",
     "output_type": "stream",
     "text": [
      "100%|██████████| 107/107 [00:01<00:00, 71.16it/s]\n",
      "100%|██████████| 18/18 [00:00<00:00, 332.82it/s]\n",
      "100%|██████████| 53/53 [00:00<00:00, 332.61it/s]\n"
     ]
    },
    {
     "name": "stdout",
     "output_type": "stream",
     "text": [
      "Epoch:877/1000.. Train Loss: 0.010.. Val Loss: 0.116.. Test Loss: 0.063.. Time: 0.03m\n"
     ]
    },
    {
     "name": "stderr",
     "output_type": "stream",
     "text": [
      "100%|██████████| 107/107 [00:01<00:00, 71.24it/s]\n",
      "100%|██████████| 18/18 [00:00<00:00, 332.80it/s]\n",
      "100%|██████████| 53/53 [00:00<00:00, 330.54it/s]\n"
     ]
    },
    {
     "name": "stdout",
     "output_type": "stream",
     "text": [
      "Epoch:878/1000.. Train Loss: 0.010.. Val Loss: 0.111.. Test Loss: 0.063.. Time: 0.03m\n"
     ]
    },
    {
     "name": "stderr",
     "output_type": "stream",
     "text": [
      "100%|██████████| 107/107 [00:01<00:00, 70.75it/s]\n",
      "100%|██████████| 18/18 [00:00<00:00, 326.88it/s]\n",
      "100%|██████████| 53/53 [00:00<00:00, 329.92it/s]\n"
     ]
    },
    {
     "name": "stdout",
     "output_type": "stream",
     "text": [
      "Epoch:879/1000.. Train Loss: 0.011.. Val Loss: 0.110.. Test Loss: 0.064.. Time: 0.03m\n"
     ]
    },
    {
     "name": "stderr",
     "output_type": "stream",
     "text": [
      "100%|██████████| 107/107 [00:01<00:00, 70.71it/s]\n",
      "100%|██████████| 18/18 [00:00<00:00, 321.69it/s]\n",
      "100%|██████████| 53/53 [00:00<00:00, 327.01it/s]\n"
     ]
    },
    {
     "name": "stdout",
     "output_type": "stream",
     "text": [
      "Epoch:880/1000.. Train Loss: 0.011.. Val Loss: 0.119.. Test Loss: 0.064.. Time: 0.03m\n"
     ]
    },
    {
     "name": "stderr",
     "output_type": "stream",
     "text": [
      "100%|██████████| 107/107 [00:01<00:00, 71.18it/s]\n",
      "100%|██████████| 18/18 [00:00<00:00, 321.34it/s]\n",
      "100%|██████████| 53/53 [00:00<00:00, 325.67it/s]\n"
     ]
    },
    {
     "name": "stdout",
     "output_type": "stream",
     "text": [
      "Epoch:881/1000.. Train Loss: 0.011.. Val Loss: 0.140.. Test Loss: 0.064.. Time: 0.03m\n"
     ]
    },
    {
     "name": "stderr",
     "output_type": "stream",
     "text": [
      "100%|██████████| 107/107 [00:01<00:00, 70.36it/s]\n",
      "100%|██████████| 18/18 [00:00<00:00, 325.17it/s]\n",
      "100%|██████████| 53/53 [00:00<00:00, 324.25it/s]\n"
     ]
    },
    {
     "name": "stdout",
     "output_type": "stream",
     "text": [
      "Epoch:882/1000.. Train Loss: 0.011.. Val Loss: 0.116.. Test Loss: 0.064.. Time: 0.03m\n"
     ]
    },
    {
     "name": "stderr",
     "output_type": "stream",
     "text": [
      "100%|██████████| 107/107 [00:01<00:00, 68.37it/s]\n",
      "100%|██████████| 18/18 [00:00<00:00, 332.64it/s]\n",
      "100%|██████████| 53/53 [00:00<00:00, 328.35it/s]\n"
     ]
    },
    {
     "name": "stdout",
     "output_type": "stream",
     "text": [
      "Epoch:883/1000.. Train Loss: 0.012.. Val Loss: 0.115.. Test Loss: 0.064.. Time: 0.03m\n"
     ]
    },
    {
     "name": "stderr",
     "output_type": "stream",
     "text": [
      "100%|██████████| 107/107 [00:01<00:00, 70.33it/s]\n",
      "100%|██████████| 18/18 [00:00<00:00, 330.45it/s]\n",
      "100%|██████████| 53/53 [00:00<00:00, 330.86it/s]\n"
     ]
    },
    {
     "name": "stdout",
     "output_type": "stream",
     "text": [
      "Epoch:884/1000.. Train Loss: 0.011.. Val Loss: 0.116.. Test Loss: 0.064.. Time: 0.03m\n"
     ]
    },
    {
     "name": "stderr",
     "output_type": "stream",
     "text": [
      "100%|██████████| 107/107 [00:01<00:00, 70.15it/s]\n",
      "100%|██████████| 18/18 [00:00<00:00, 327.44it/s]\n",
      "100%|██████████| 53/53 [00:00<00:00, 335.40it/s]\n"
     ]
    },
    {
     "name": "stdout",
     "output_type": "stream",
     "text": [
      "Epoch:885/1000.. Train Loss: 0.011.. Val Loss: 0.118.. Test Loss: 0.063.. Time: 0.03m\n"
     ]
    },
    {
     "name": "stderr",
     "output_type": "stream",
     "text": [
      "100%|██████████| 107/107 [00:01<00:00, 71.48it/s]\n",
      "100%|██████████| 18/18 [00:00<00:00, 329.54it/s]\n",
      "100%|██████████| 53/53 [00:00<00:00, 332.10it/s]\n"
     ]
    },
    {
     "name": "stdout",
     "output_type": "stream",
     "text": [
      "Epoch:886/1000.. Train Loss: 0.011.. Val Loss: 0.116.. Test Loss: 0.063.. Time: 0.03m\n"
     ]
    },
    {
     "name": "stderr",
     "output_type": "stream",
     "text": [
      "100%|██████████| 107/107 [00:01<00:00, 71.64it/s]\n",
      "100%|██████████| 18/18 [00:00<00:00, 327.98it/s]\n",
      "100%|██████████| 53/53 [00:00<00:00, 334.02it/s]\n"
     ]
    },
    {
     "name": "stdout",
     "output_type": "stream",
     "text": [
      "Epoch:887/1000.. Train Loss: 0.011.. Val Loss: 0.115.. Test Loss: 0.063.. Time: 0.03m\n"
     ]
    },
    {
     "name": "stderr",
     "output_type": "stream",
     "text": [
      "100%|██████████| 107/107 [00:01<00:00, 71.56it/s]\n",
      "100%|██████████| 18/18 [00:00<00:00, 333.18it/s]\n",
      "100%|██████████| 53/53 [00:00<00:00, 333.42it/s]\n"
     ]
    },
    {
     "name": "stdout",
     "output_type": "stream",
     "text": [
      "Epoch:888/1000.. Train Loss: 0.010.. Val Loss: 0.115.. Test Loss: 0.063.. Time: 0.03m\n"
     ]
    },
    {
     "name": "stderr",
     "output_type": "stream",
     "text": [
      "100%|██████████| 107/107 [00:01<00:00, 71.06it/s]\n",
      "100%|██████████| 18/18 [00:00<00:00, 326.26it/s]\n",
      "100%|██████████| 53/53 [00:00<00:00, 328.31it/s]\n"
     ]
    },
    {
     "name": "stdout",
     "output_type": "stream",
     "text": [
      "Epoch:889/1000.. Train Loss: 0.012.. Val Loss: 0.123.. Test Loss: 0.064.. Time: 0.03m\n"
     ]
    },
    {
     "name": "stderr",
     "output_type": "stream",
     "text": [
      "100%|██████████| 107/107 [00:01<00:00, 70.90it/s]\n",
      "100%|██████████| 18/18 [00:00<00:00, 334.65it/s]\n",
      "100%|██████████| 53/53 [00:00<00:00, 329.66it/s]\n"
     ]
    },
    {
     "name": "stdout",
     "output_type": "stream",
     "text": [
      "Epoch:890/1000.. Train Loss: 0.010.. Val Loss: 0.115.. Test Loss: 0.063.. Time: 0.03m\n"
     ]
    },
    {
     "name": "stderr",
     "output_type": "stream",
     "text": [
      "100%|██████████| 107/107 [00:01<00:00, 71.38it/s]\n",
      "100%|██████████| 18/18 [00:00<00:00, 330.21it/s]\n",
      "100%|██████████| 53/53 [00:00<00:00, 332.04it/s]\n"
     ]
    },
    {
     "name": "stdout",
     "output_type": "stream",
     "text": [
      "Epoch:891/1000.. Train Loss: 0.011.. Val Loss: 0.114.. Test Loss: 0.063.. Time: 0.03m\n"
     ]
    },
    {
     "name": "stderr",
     "output_type": "stream",
     "text": [
      "100%|██████████| 107/107 [00:01<00:00, 71.23it/s]\n",
      "100%|██████████| 18/18 [00:00<00:00, 323.85it/s]\n",
      "100%|██████████| 53/53 [00:00<00:00, 331.79it/s]\n"
     ]
    },
    {
     "name": "stdout",
     "output_type": "stream",
     "text": [
      "Epoch:892/1000.. Train Loss: 0.010.. Val Loss: 0.137.. Test Loss: 0.063.. Time: 0.03m\n"
     ]
    },
    {
     "name": "stderr",
     "output_type": "stream",
     "text": [
      "100%|██████████| 107/107 [00:01<00:00, 70.66it/s]\n",
      "100%|██████████| 18/18 [00:00<00:00, 320.81it/s]\n",
      "100%|██████████| 53/53 [00:00<00:00, 328.10it/s]\n"
     ]
    },
    {
     "name": "stdout",
     "output_type": "stream",
     "text": [
      "Epoch:893/1000.. Train Loss: 0.011.. Val Loss: 0.114.. Test Loss: 0.064.. Time: 0.03m\n"
     ]
    },
    {
     "name": "stderr",
     "output_type": "stream",
     "text": [
      "100%|██████████| 107/107 [00:01<00:00, 71.18it/s]\n",
      "100%|██████████| 18/18 [00:00<00:00, 329.69it/s]\n",
      "100%|██████████| 53/53 [00:00<00:00, 326.31it/s]\n"
     ]
    },
    {
     "name": "stdout",
     "output_type": "stream",
     "text": [
      "Epoch:894/1000.. Train Loss: 0.010.. Val Loss: 0.115.. Test Loss: 0.063.. Time: 0.03m\n"
     ]
    },
    {
     "name": "stderr",
     "output_type": "stream",
     "text": [
      "100%|██████████| 107/107 [00:01<00:00, 68.56it/s]\n",
      "100%|██████████| 18/18 [00:00<00:00, 321.84it/s]\n",
      "100%|██████████| 53/53 [00:00<00:00, 326.70it/s]\n"
     ]
    },
    {
     "name": "stdout",
     "output_type": "stream",
     "text": [
      "Epoch:895/1000.. Train Loss: 0.013.. Val Loss: 0.116.. Test Loss: 0.064.. Time: 0.03m\n"
     ]
    },
    {
     "name": "stderr",
     "output_type": "stream",
     "text": [
      "100%|██████████| 107/107 [00:01<00:00, 69.57it/s]\n",
      "100%|██████████| 18/18 [00:00<00:00, 326.61it/s]\n",
      "100%|██████████| 53/53 [00:00<00:00, 327.23it/s]\n"
     ]
    },
    {
     "name": "stdout",
     "output_type": "stream",
     "text": [
      "Epoch:896/1000.. Train Loss: 0.011.. Val Loss: 0.117.. Test Loss: 0.063.. Time: 0.03m\n"
     ]
    },
    {
     "name": "stderr",
     "output_type": "stream",
     "text": [
      "100%|██████████| 107/107 [00:01<00:00, 71.16it/s]\n",
      "100%|██████████| 18/18 [00:00<00:00, 326.20it/s]\n",
      "100%|██████████| 53/53 [00:00<00:00, 331.43it/s]\n"
     ]
    },
    {
     "name": "stdout",
     "output_type": "stream",
     "text": [
      "Epoch:897/1000.. Train Loss: 0.011.. Val Loss: 0.118.. Test Loss: 0.062.. Time: 0.03m\n"
     ]
    },
    {
     "name": "stderr",
     "output_type": "stream",
     "text": [
      "100%|██████████| 107/107 [00:01<00:00, 70.69it/s]\n",
      "100%|██████████| 18/18 [00:00<00:00, 330.55it/s]\n",
      "100%|██████████| 53/53 [00:00<00:00, 332.49it/s]\n"
     ]
    },
    {
     "name": "stdout",
     "output_type": "stream",
     "text": [
      "Epoch:898/1000.. Train Loss: 0.012.. Val Loss: 0.120.. Test Loss: 0.062.. Time: 0.03m\n"
     ]
    },
    {
     "name": "stderr",
     "output_type": "stream",
     "text": [
      "100%|██████████| 107/107 [00:01<00:00, 70.15it/s]\n",
      "100%|██████████| 18/18 [00:00<00:00, 326.94it/s]\n",
      "100%|██████████| 53/53 [00:00<00:00, 329.26it/s]\n"
     ]
    },
    {
     "name": "stdout",
     "output_type": "stream",
     "text": [
      "Epoch:899/1000.. Train Loss: 0.011.. Val Loss: 0.142.. Test Loss: 0.062.. Time: 0.03m\n"
     ]
    },
    {
     "name": "stderr",
     "output_type": "stream",
     "text": [
      "100%|██████████| 107/107 [00:01<00:00, 70.32it/s]\n",
      "100%|██████████| 18/18 [00:00<00:00, 318.83it/s]\n",
      "100%|██████████| 53/53 [00:00<00:00, 330.03it/s]\n"
     ]
    },
    {
     "name": "stdout",
     "output_type": "stream",
     "text": [
      "Epoch:900/1000.. Train Loss: 0.010.. Val Loss: 0.117.. Test Loss: 0.063.. Time: 0.03m\n"
     ]
    },
    {
     "name": "stderr",
     "output_type": "stream",
     "text": [
      "100%|██████████| 107/107 [00:01<00:00, 70.34it/s]\n",
      "100%|██████████| 18/18 [00:00<00:00, 326.27it/s]\n",
      "100%|██████████| 53/53 [00:00<00:00, 330.13it/s]\n"
     ]
    },
    {
     "name": "stdout",
     "output_type": "stream",
     "text": [
      "Epoch:901/1000.. Train Loss: 0.010.. Val Loss: 0.117.. Test Loss: 0.063.. Time: 0.03m\n"
     ]
    },
    {
     "name": "stderr",
     "output_type": "stream",
     "text": [
      "100%|██████████| 107/107 [00:01<00:00, 70.07it/s]\n",
      "100%|██████████| 18/18 [00:00<00:00, 333.05it/s]\n",
      "100%|██████████| 53/53 [00:00<00:00, 327.34it/s]\n"
     ]
    },
    {
     "name": "stdout",
     "output_type": "stream",
     "text": [
      "Epoch:902/1000.. Train Loss: 0.011.. Val Loss: 0.117.. Test Loss: 0.062.. Time: 0.03m\n"
     ]
    },
    {
     "name": "stderr",
     "output_type": "stream",
     "text": [
      "100%|██████████| 107/107 [00:01<00:00, 71.16it/s]\n",
      "100%|██████████| 18/18 [00:00<00:00, 314.81it/s]\n",
      "100%|██████████| 53/53 [00:00<00:00, 332.12it/s]\n"
     ]
    },
    {
     "name": "stdout",
     "output_type": "stream",
     "text": [
      "Epoch:903/1000.. Train Loss: 0.010.. Val Loss: 0.118.. Test Loss: 0.062.. Time: 0.03m\n"
     ]
    },
    {
     "name": "stderr",
     "output_type": "stream",
     "text": [
      "100%|██████████| 107/107 [00:01<00:00, 71.51it/s]\n",
      "100%|██████████| 18/18 [00:00<00:00, 328.94it/s]\n",
      "100%|██████████| 53/53 [00:00<00:00, 329.45it/s]\n"
     ]
    },
    {
     "name": "stdout",
     "output_type": "stream",
     "text": [
      "Epoch:904/1000.. Train Loss: 0.011.. Val Loss: 0.117.. Test Loss: 0.062.. Time: 0.03m\n"
     ]
    },
    {
     "name": "stderr",
     "output_type": "stream",
     "text": [
      "100%|██████████| 107/107 [00:01<00:00, 71.27it/s]\n",
      "100%|██████████| 18/18 [00:00<00:00, 324.61it/s]\n",
      "100%|██████████| 53/53 [00:00<00:00, 326.38it/s]\n"
     ]
    },
    {
     "name": "stdout",
     "output_type": "stream",
     "text": [
      "Epoch:905/1000.. Train Loss: 0.010.. Val Loss: 0.116.. Test Loss: 0.062.. Time: 0.03m\n"
     ]
    },
    {
     "name": "stderr",
     "output_type": "stream",
     "text": [
      "100%|██████████| 107/107 [00:01<00:00, 69.33it/s]\n",
      "100%|██████████| 18/18 [00:00<00:00, 328.44it/s]\n",
      "100%|██████████| 53/53 [00:00<00:00, 328.35it/s]\n"
     ]
    },
    {
     "name": "stdout",
     "output_type": "stream",
     "text": [
      "Epoch:906/1000.. Train Loss: 0.010.. Val Loss: 0.116.. Test Loss: 0.062.. Time: 0.03m\n"
     ]
    },
    {
     "name": "stderr",
     "output_type": "stream",
     "text": [
      "100%|██████████| 107/107 [00:01<00:00, 70.30it/s]\n",
      "100%|██████████| 18/18 [00:00<00:00, 319.17it/s]\n",
      "100%|██████████| 53/53 [00:00<00:00, 328.54it/s]\n"
     ]
    },
    {
     "name": "stdout",
     "output_type": "stream",
     "text": [
      "Epoch:907/1000.. Train Loss: 0.012.. Val Loss: 0.116.. Test Loss: 0.062.. Time: 0.03m\n"
     ]
    },
    {
     "name": "stderr",
     "output_type": "stream",
     "text": [
      "100%|██████████| 107/107 [00:01<00:00, 71.35it/s]\n",
      "100%|██████████| 18/18 [00:00<00:00, 328.26it/s]\n",
      "100%|██████████| 53/53 [00:00<00:00, 330.88it/s]\n"
     ]
    },
    {
     "name": "stdout",
     "output_type": "stream",
     "text": [
      "Epoch:908/1000.. Train Loss: 0.013.. Val Loss: 0.116.. Test Loss: 0.062.. Time: 0.03m\n"
     ]
    },
    {
     "name": "stderr",
     "output_type": "stream",
     "text": [
      "100%|██████████| 107/107 [00:01<00:00, 70.94it/s]\n",
      "100%|██████████| 18/18 [00:00<00:00, 332.53it/s]\n",
      "100%|██████████| 53/53 [00:00<00:00, 327.94it/s]\n"
     ]
    },
    {
     "name": "stdout",
     "output_type": "stream",
     "text": [
      "Epoch:909/1000.. Train Loss: 0.012.. Val Loss: 0.118.. Test Loss: 0.062.. Time: 0.03m\n"
     ]
    },
    {
     "name": "stderr",
     "output_type": "stream",
     "text": [
      "100%|██████████| 107/107 [00:01<00:00, 68.31it/s]\n",
      "100%|██████████| 18/18 [00:00<00:00, 324.75it/s]\n",
      "100%|██████████| 53/53 [00:00<00:00, 329.42it/s]\n"
     ]
    },
    {
     "name": "stdout",
     "output_type": "stream",
     "text": [
      "Epoch:910/1000.. Train Loss: 0.010.. Val Loss: 0.118.. Test Loss: 0.062.. Time: 0.03m\n"
     ]
    },
    {
     "name": "stderr",
     "output_type": "stream",
     "text": [
      "100%|██████████| 107/107 [00:01<00:00, 71.25it/s]\n",
      "100%|██████████| 18/18 [00:00<00:00, 335.86it/s]\n",
      "100%|██████████| 53/53 [00:00<00:00, 328.74it/s]\n"
     ]
    },
    {
     "name": "stdout",
     "output_type": "stream",
     "text": [
      "Epoch:911/1000.. Train Loss: 0.010.. Val Loss: 0.116.. Test Loss: 0.062.. Time: 0.03m\n"
     ]
    },
    {
     "name": "stderr",
     "output_type": "stream",
     "text": [
      "100%|██████████| 107/107 [00:01<00:00, 69.35it/s]\n",
      "100%|██████████| 18/18 [00:00<00:00, 329.71it/s]\n",
      "100%|██████████| 53/53 [00:00<00:00, 329.35it/s]\n"
     ]
    },
    {
     "name": "stdout",
     "output_type": "stream",
     "text": [
      "Epoch:912/1000.. Train Loss: 0.012.. Val Loss: 0.116.. Test Loss: 0.062.. Time: 0.03m\n"
     ]
    },
    {
     "name": "stderr",
     "output_type": "stream",
     "text": [
      "100%|██████████| 107/107 [00:01<00:00, 71.88it/s]\n",
      "100%|██████████| 18/18 [00:00<00:00, 330.40it/s]\n",
      "100%|██████████| 53/53 [00:00<00:00, 329.70it/s]\n"
     ]
    },
    {
     "name": "stdout",
     "output_type": "stream",
     "text": [
      "Epoch:913/1000.. Train Loss: 0.010.. Val Loss: 0.115.. Test Loss: 0.063.. Time: 0.03m\n"
     ]
    },
    {
     "name": "stderr",
     "output_type": "stream",
     "text": [
      "100%|██████████| 107/107 [00:01<00:00, 70.17it/s]\n",
      "100%|██████████| 18/18 [00:00<00:00, 326.89it/s]\n",
      "100%|██████████| 53/53 [00:00<00:00, 328.38it/s]\n"
     ]
    },
    {
     "name": "stdout",
     "output_type": "stream",
     "text": [
      "Epoch:914/1000.. Train Loss: 0.010.. Val Loss: 0.115.. Test Loss: 0.063.. Time: 0.03m\n"
     ]
    },
    {
     "name": "stderr",
     "output_type": "stream",
     "text": [
      "100%|██████████| 107/107 [00:01<00:00, 70.38it/s]\n",
      "100%|██████████| 18/18 [00:00<00:00, 326.59it/s]\n",
      "100%|██████████| 53/53 [00:00<00:00, 307.24it/s]\n"
     ]
    },
    {
     "name": "stdout",
     "output_type": "stream",
     "text": [
      "Epoch:915/1000.. Train Loss: 0.010.. Val Loss: 0.117.. Test Loss: 0.062.. Time: 0.03m\n"
     ]
    },
    {
     "name": "stderr",
     "output_type": "stream",
     "text": [
      "100%|██████████| 107/107 [00:01<00:00, 70.69it/s]\n",
      "100%|██████████| 18/18 [00:00<00:00, 334.78it/s]\n",
      "100%|██████████| 53/53 [00:00<00:00, 356.40it/s]\n"
     ]
    },
    {
     "name": "stdout",
     "output_type": "stream",
     "text": [
      "Epoch:916/1000.. Train Loss: 0.009.. Val Loss: 0.115.. Test Loss: 0.062.. Time: 0.03m\n"
     ]
    },
    {
     "name": "stderr",
     "output_type": "stream",
     "text": [
      "100%|██████████| 107/107 [00:01<00:00, 70.06it/s]\n",
      "100%|██████████| 18/18 [00:00<00:00, 316.70it/s]\n",
      "100%|██████████| 53/53 [00:00<00:00, 325.59it/s]\n"
     ]
    },
    {
     "name": "stdout",
     "output_type": "stream",
     "text": [
      "Epoch:917/1000.. Train Loss: 0.011.. Val Loss: 0.114.. Test Loss: 0.063.. Time: 0.03m\n"
     ]
    },
    {
     "name": "stderr",
     "output_type": "stream",
     "text": [
      "100%|██████████| 107/107 [00:01<00:00, 69.83it/s]\n",
      "100%|██████████| 18/18 [00:00<00:00, 332.55it/s]\n",
      "100%|██████████| 53/53 [00:00<00:00, 326.46it/s]\n"
     ]
    },
    {
     "name": "stdout",
     "output_type": "stream",
     "text": [
      "Epoch:918/1000.. Train Loss: 0.012.. Val Loss: 0.114.. Test Loss: 0.062.. Time: 0.03m\n"
     ]
    },
    {
     "name": "stderr",
     "output_type": "stream",
     "text": [
      "100%|██████████| 107/107 [00:01<00:00, 70.86it/s]\n",
      "100%|██████████| 18/18 [00:00<00:00, 337.25it/s]\n",
      "100%|██████████| 53/53 [00:00<00:00, 329.32it/s]\n"
     ]
    },
    {
     "name": "stdout",
     "output_type": "stream",
     "text": [
      "Epoch:919/1000.. Train Loss: 0.014.. Val Loss: 0.118.. Test Loss: 0.063.. Time: 0.03m\n"
     ]
    },
    {
     "name": "stderr",
     "output_type": "stream",
     "text": [
      "100%|██████████| 107/107 [00:01<00:00, 71.98it/s]\n",
      "100%|██████████| 18/18 [00:00<00:00, 327.88it/s]\n",
      "100%|██████████| 53/53 [00:00<00:00, 330.67it/s]\n"
     ]
    },
    {
     "name": "stdout",
     "output_type": "stream",
     "text": [
      "Epoch:920/1000.. Train Loss: 0.011.. Val Loss: 0.111.. Test Loss: 0.063.. Time: 0.03m\n"
     ]
    },
    {
     "name": "stderr",
     "output_type": "stream",
     "text": [
      "100%|██████████| 107/107 [00:01<00:00, 69.99it/s]\n",
      "100%|██████████| 18/18 [00:00<00:00, 316.85it/s]\n",
      "100%|██████████| 53/53 [00:00<00:00, 324.00it/s]\n"
     ]
    },
    {
     "name": "stdout",
     "output_type": "stream",
     "text": [
      "Epoch:921/1000.. Train Loss: 0.010.. Val Loss: 0.112.. Test Loss: 0.063.. Time: 0.03m\n"
     ]
    },
    {
     "name": "stderr",
     "output_type": "stream",
     "text": [
      "100%|██████████| 107/107 [00:01<00:00, 70.14it/s]\n",
      "100%|██████████| 18/18 [00:00<00:00, 332.51it/s]\n",
      "100%|██████████| 53/53 [00:00<00:00, 333.39it/s]\n"
     ]
    },
    {
     "name": "stdout",
     "output_type": "stream",
     "text": [
      "Epoch:922/1000.. Train Loss: 0.011.. Val Loss: 0.113.. Test Loss: 0.063.. Time: 0.03m\n"
     ]
    },
    {
     "name": "stderr",
     "output_type": "stream",
     "text": [
      "100%|██████████| 107/107 [00:01<00:00, 71.26it/s]\n",
      "100%|██████████| 18/18 [00:00<00:00, 326.19it/s]\n",
      "100%|██████████| 53/53 [00:00<00:00, 331.37it/s]\n"
     ]
    },
    {
     "name": "stdout",
     "output_type": "stream",
     "text": [
      "Epoch:923/1000.. Train Loss: 0.011.. Val Loss: 0.114.. Test Loss: 0.062.. Time: 0.03m\n"
     ]
    },
    {
     "name": "stderr",
     "output_type": "stream",
     "text": [
      "100%|██████████| 107/107 [00:01<00:00, 68.36it/s]\n",
      "100%|██████████| 18/18 [00:00<00:00, 336.51it/s]\n",
      "100%|██████████| 53/53 [00:00<00:00, 330.78it/s]\n"
     ]
    },
    {
     "name": "stdout",
     "output_type": "stream",
     "text": [
      "Epoch:924/1000.. Train Loss: 0.011.. Val Loss: 0.115.. Test Loss: 0.063.. Time: 0.03m\n"
     ]
    },
    {
     "name": "stderr",
     "output_type": "stream",
     "text": [
      "100%|██████████| 107/107 [00:01<00:00, 71.61it/s]\n",
      "100%|██████████| 18/18 [00:00<00:00, 323.60it/s]\n",
      "100%|██████████| 53/53 [00:00<00:00, 330.76it/s]\n"
     ]
    },
    {
     "name": "stdout",
     "output_type": "stream",
     "text": [
      "Epoch:925/1000.. Train Loss: 0.010.. Val Loss: 0.114.. Test Loss: 0.063.. Time: 0.03m\n"
     ]
    },
    {
     "name": "stderr",
     "output_type": "stream",
     "text": [
      "100%|██████████| 107/107 [00:01<00:00, 70.33it/s]\n",
      "100%|██████████| 18/18 [00:00<00:00, 327.56it/s]\n",
      "100%|██████████| 53/53 [00:00<00:00, 329.90it/s]\n"
     ]
    },
    {
     "name": "stdout",
     "output_type": "stream",
     "text": [
      "Epoch:926/1000.. Train Loss: 0.013.. Val Loss: 0.115.. Test Loss: 0.062.. Time: 0.03m\n"
     ]
    },
    {
     "name": "stderr",
     "output_type": "stream",
     "text": [
      "100%|██████████| 107/107 [00:01<00:00, 70.37it/s]\n",
      "100%|██████████| 18/18 [00:00<00:00, 317.79it/s]\n",
      "100%|██████████| 53/53 [00:00<00:00, 316.91it/s]\n"
     ]
    },
    {
     "name": "stdout",
     "output_type": "stream",
     "text": [
      "Epoch:927/1000.. Train Loss: 0.011.. Val Loss: 0.117.. Test Loss: 0.062.. Time: 0.03m\n"
     ]
    },
    {
     "name": "stderr",
     "output_type": "stream",
     "text": [
      "100%|██████████| 107/107 [00:01<00:00, 71.28it/s]\n",
      "100%|██████████| 18/18 [00:00<00:00, 325.73it/s]\n",
      "100%|██████████| 53/53 [00:00<00:00, 327.01it/s]\n"
     ]
    },
    {
     "name": "stdout",
     "output_type": "stream",
     "text": [
      "Epoch:928/1000.. Train Loss: 0.010.. Val Loss: 0.115.. Test Loss: 0.062.. Time: 0.03m\n"
     ]
    },
    {
     "name": "stderr",
     "output_type": "stream",
     "text": [
      "100%|██████████| 107/107 [00:01<00:00, 70.60it/s]\n",
      "100%|██████████| 18/18 [00:00<00:00, 330.21it/s]\n",
      "100%|██████████| 53/53 [00:00<00:00, 328.89it/s]\n"
     ]
    },
    {
     "name": "stdout",
     "output_type": "stream",
     "text": [
      "Epoch:929/1000.. Train Loss: 0.010.. Val Loss: 0.114.. Test Loss: 0.062.. Time: 0.03m\n"
     ]
    },
    {
     "name": "stderr",
     "output_type": "stream",
     "text": [
      "100%|██████████| 107/107 [00:01<00:00, 70.33it/s]\n",
      "100%|██████████| 18/18 [00:00<00:00, 331.23it/s]\n",
      "100%|██████████| 53/53 [00:00<00:00, 328.77it/s]\n"
     ]
    },
    {
     "name": "stdout",
     "output_type": "stream",
     "text": [
      "Epoch:930/1000.. Train Loss: 0.011.. Val Loss: 0.118.. Test Loss: 0.062.. Time: 0.03m\n"
     ]
    },
    {
     "name": "stderr",
     "output_type": "stream",
     "text": [
      "100%|██████████| 107/107 [00:01<00:00, 69.08it/s]\n",
      "100%|██████████| 18/18 [00:00<00:00, 337.46it/s]\n",
      "100%|██████████| 53/53 [00:00<00:00, 330.55it/s]\n"
     ]
    },
    {
     "name": "stdout",
     "output_type": "stream",
     "text": [
      "Epoch:931/1000.. Train Loss: 0.011.. Val Loss: 0.115.. Test Loss: 0.062.. Time: 0.03m\n"
     ]
    },
    {
     "name": "stderr",
     "output_type": "stream",
     "text": [
      "100%|██████████| 107/107 [00:01<00:00, 69.98it/s]\n",
      "100%|██████████| 18/18 [00:00<00:00, 334.40it/s]\n",
      "100%|██████████| 53/53 [00:00<00:00, 329.11it/s]\n"
     ]
    },
    {
     "name": "stdout",
     "output_type": "stream",
     "text": [
      "Epoch:932/1000.. Train Loss: 0.012.. Val Loss: 0.114.. Test Loss: 0.062.. Time: 0.03m\n"
     ]
    },
    {
     "name": "stderr",
     "output_type": "stream",
     "text": [
      "100%|██████████| 107/107 [00:01<00:00, 70.46it/s]\n",
      "100%|██████████| 18/18 [00:00<00:00, 319.98it/s]\n",
      "100%|██████████| 53/53 [00:00<00:00, 327.84it/s]\n"
     ]
    },
    {
     "name": "stdout",
     "output_type": "stream",
     "text": [
      "Epoch:933/1000.. Train Loss: 0.011.. Val Loss: 0.118.. Test Loss: 0.062.. Time: 0.03m\n"
     ]
    },
    {
     "name": "stderr",
     "output_type": "stream",
     "text": [
      "100%|██████████| 107/107 [00:01<00:00, 71.16it/s]\n",
      "100%|██████████| 18/18 [00:00<00:00, 329.52it/s]\n",
      "100%|██████████| 53/53 [00:00<00:00, 328.31it/s]\n"
     ]
    },
    {
     "name": "stdout",
     "output_type": "stream",
     "text": [
      "Epoch:934/1000.. Train Loss: 0.010.. Val Loss: 0.115.. Test Loss: 0.062.. Time: 0.03m\n"
     ]
    },
    {
     "name": "stderr",
     "output_type": "stream",
     "text": [
      "100%|██████████| 107/107 [00:01<00:00, 70.51it/s]\n",
      "100%|██████████| 18/18 [00:00<00:00, 331.15it/s]\n",
      "100%|██████████| 53/53 [00:00<00:00, 328.99it/s]\n"
     ]
    },
    {
     "name": "stdout",
     "output_type": "stream",
     "text": [
      "Epoch:935/1000.. Train Loss: 0.011.. Val Loss: 0.114.. Test Loss: 0.062.. Time: 0.03m\n"
     ]
    },
    {
     "name": "stderr",
     "output_type": "stream",
     "text": [
      "100%|██████████| 107/107 [00:01<00:00, 70.33it/s]\n",
      "100%|██████████| 18/18 [00:00<00:00, 326.88it/s]\n",
      "100%|██████████| 53/53 [00:00<00:00, 314.15it/s]\n"
     ]
    },
    {
     "name": "stdout",
     "output_type": "stream",
     "text": [
      "Epoch:936/1000.. Train Loss: 0.011.. Val Loss: 0.114.. Test Loss: 0.062.. Time: 0.03m\n"
     ]
    },
    {
     "name": "stderr",
     "output_type": "stream",
     "text": [
      "100%|██████████| 107/107 [00:01<00:00, 72.14it/s]\n",
      "100%|██████████| 18/18 [00:00<00:00, 328.91it/s]\n",
      "100%|██████████| 53/53 [00:00<00:00, 332.58it/s]\n"
     ]
    },
    {
     "name": "stdout",
     "output_type": "stream",
     "text": [
      "Epoch:937/1000.. Train Loss: 0.011.. Val Loss: 0.112.. Test Loss: 0.062.. Time: 0.03m\n"
     ]
    },
    {
     "name": "stderr",
     "output_type": "stream",
     "text": [
      "100%|██████████| 107/107 [00:01<00:00, 71.12it/s]\n",
      "100%|██████████| 18/18 [00:00<00:00, 320.23it/s]\n",
      "100%|██████████| 53/53 [00:00<00:00, 331.80it/s]\n"
     ]
    },
    {
     "name": "stdout",
     "output_type": "stream",
     "text": [
      "Epoch:938/1000.. Train Loss: 0.010.. Val Loss: 0.116.. Test Loss: 0.062.. Time: 0.03m\n"
     ]
    },
    {
     "name": "stderr",
     "output_type": "stream",
     "text": [
      "100%|██████████| 107/107 [00:01<00:00, 70.32it/s]\n",
      "100%|██████████| 18/18 [00:00<00:00, 318.90it/s]\n",
      "100%|██████████| 53/53 [00:00<00:00, 330.62it/s]\n"
     ]
    },
    {
     "name": "stdout",
     "output_type": "stream",
     "text": [
      "Epoch:939/1000.. Train Loss: 0.013.. Val Loss: 0.113.. Test Loss: 0.062.. Time: 0.03m\n"
     ]
    },
    {
     "name": "stderr",
     "output_type": "stream",
     "text": [
      "100%|██████████| 107/107 [00:01<00:00, 71.48it/s]\n",
      "100%|██████████| 18/18 [00:00<00:00, 325.78it/s]\n",
      "100%|██████████| 53/53 [00:00<00:00, 329.81it/s]\n"
     ]
    },
    {
     "name": "stdout",
     "output_type": "stream",
     "text": [
      "Epoch:940/1000.. Train Loss: 0.011.. Val Loss: 0.115.. Test Loss: 0.062.. Time: 0.03m\n"
     ]
    },
    {
     "name": "stderr",
     "output_type": "stream",
     "text": [
      "100%|██████████| 107/107 [00:01<00:00, 70.02it/s]\n",
      "100%|██████████| 18/18 [00:00<00:00, 330.92it/s]\n",
      "100%|██████████| 53/53 [00:00<00:00, 331.27it/s]\n"
     ]
    },
    {
     "name": "stdout",
     "output_type": "stream",
     "text": [
      "Epoch:941/1000.. Train Loss: 0.009.. Val Loss: 0.113.. Test Loss: 0.062.. Time: 0.03m\n"
     ]
    },
    {
     "name": "stderr",
     "output_type": "stream",
     "text": [
      "100%|██████████| 107/107 [00:01<00:00, 70.02it/s]\n",
      "100%|██████████| 18/18 [00:00<00:00, 331.36it/s]\n",
      "100%|██████████| 53/53 [00:00<00:00, 330.72it/s]\n"
     ]
    },
    {
     "name": "stdout",
     "output_type": "stream",
     "text": [
      "Epoch:942/1000.. Train Loss: 0.010.. Val Loss: 0.113.. Test Loss: 0.062.. Time: 0.03m\n"
     ]
    },
    {
     "name": "stderr",
     "output_type": "stream",
     "text": [
      "100%|██████████| 107/107 [00:01<00:00, 68.98it/s]\n",
      "100%|██████████| 18/18 [00:00<00:00, 326.19it/s]\n",
      "100%|██████████| 53/53 [00:00<00:00, 332.53it/s]\n"
     ]
    },
    {
     "name": "stdout",
     "output_type": "stream",
     "text": [
      "Epoch:943/1000.. Train Loss: 0.011.. Val Loss: 0.117.. Test Loss: 0.062.. Time: 0.03m\n"
     ]
    },
    {
     "name": "stderr",
     "output_type": "stream",
     "text": [
      "100%|██████████| 107/107 [00:01<00:00, 71.11it/s]\n",
      "100%|██████████| 18/18 [00:00<00:00, 323.81it/s]\n",
      "100%|██████████| 53/53 [00:00<00:00, 331.55it/s]\n"
     ]
    },
    {
     "name": "stdout",
     "output_type": "stream",
     "text": [
      "Epoch:944/1000.. Train Loss: 0.012.. Val Loss: 0.113.. Test Loss: 0.062.. Time: 0.03m\n"
     ]
    },
    {
     "name": "stderr",
     "output_type": "stream",
     "text": [
      "100%|██████████| 107/107 [00:01<00:00, 70.81it/s]\n",
      "100%|██████████| 18/18 [00:00<00:00, 327.41it/s]\n",
      "100%|██████████| 53/53 [00:00<00:00, 331.80it/s]\n"
     ]
    },
    {
     "name": "stdout",
     "output_type": "stream",
     "text": [
      "Epoch:945/1000.. Train Loss: 0.011.. Val Loss: 0.113.. Test Loss: 0.062.. Time: 0.03m\n"
     ]
    },
    {
     "name": "stderr",
     "output_type": "stream",
     "text": [
      "100%|██████████| 107/107 [00:01<00:00, 71.32it/s]\n",
      "100%|██████████| 18/18 [00:00<00:00, 330.15it/s]\n",
      "100%|██████████| 53/53 [00:00<00:00, 331.31it/s]\n"
     ]
    },
    {
     "name": "stdout",
     "output_type": "stream",
     "text": [
      "Epoch:946/1000.. Train Loss: 0.009.. Val Loss: 0.114.. Test Loss: 0.062.. Time: 0.03m\n"
     ]
    },
    {
     "name": "stderr",
     "output_type": "stream",
     "text": [
      "100%|██████████| 107/107 [00:01<00:00, 70.90it/s]\n",
      "100%|██████████| 18/18 [00:00<00:00, 333.17it/s]\n",
      "100%|██████████| 53/53 [00:00<00:00, 331.89it/s]\n"
     ]
    },
    {
     "name": "stdout",
     "output_type": "stream",
     "text": [
      "Epoch:947/1000.. Train Loss: 0.010.. Val Loss: 0.116.. Test Loss: 0.062.. Time: 0.03m\n"
     ]
    },
    {
     "name": "stderr",
     "output_type": "stream",
     "text": [
      "100%|██████████| 107/107 [00:01<00:00, 68.88it/s]\n",
      "100%|██████████| 18/18 [00:00<00:00, 323.52it/s]\n",
      "100%|██████████| 53/53 [00:00<00:00, 332.22it/s]\n"
     ]
    },
    {
     "name": "stdout",
     "output_type": "stream",
     "text": [
      "Epoch:948/1000.. Train Loss: 0.011.. Val Loss: 0.113.. Test Loss: 0.062.. Time: 0.03m\n"
     ]
    },
    {
     "name": "stderr",
     "output_type": "stream",
     "text": [
      "100%|██████████| 107/107 [00:01<00:00, 71.76it/s]\n",
      "100%|██████████| 18/18 [00:00<00:00, 328.34it/s]\n",
      "100%|██████████| 53/53 [00:00<00:00, 330.99it/s]\n"
     ]
    },
    {
     "name": "stdout",
     "output_type": "stream",
     "text": [
      "Epoch:949/1000.. Train Loss: 0.011.. Val Loss: 0.113.. Test Loss: 0.062.. Time: 0.03m\n"
     ]
    },
    {
     "name": "stderr",
     "output_type": "stream",
     "text": [
      "100%|██████████| 107/107 [00:01<00:00, 71.20it/s]\n",
      "100%|██████████| 18/18 [00:00<00:00, 341.46it/s]\n",
      "100%|██████████| 53/53 [00:00<00:00, 331.40it/s]\n"
     ]
    },
    {
     "name": "stdout",
     "output_type": "stream",
     "text": [
      "Epoch:950/1000.. Train Loss: 0.011.. Val Loss: 0.113.. Test Loss: 0.062.. Time: 0.03m\n"
     ]
    },
    {
     "name": "stderr",
     "output_type": "stream",
     "text": [
      "100%|██████████| 107/107 [00:01<00:00, 70.93it/s]\n",
      "100%|██████████| 18/18 [00:00<00:00, 319.48it/s]\n",
      "100%|██████████| 53/53 [00:00<00:00, 324.77it/s]\n"
     ]
    },
    {
     "name": "stdout",
     "output_type": "stream",
     "text": [
      "Epoch:951/1000.. Train Loss: 0.012.. Val Loss: 0.112.. Test Loss: 0.062.. Time: 0.03m\n"
     ]
    },
    {
     "name": "stderr",
     "output_type": "stream",
     "text": [
      "100%|██████████| 107/107 [00:01<00:00, 70.93it/s]\n",
      "100%|██████████| 18/18 [00:00<00:00, 318.79it/s]\n",
      "100%|██████████| 53/53 [00:00<00:00, 325.75it/s]\n"
     ]
    },
    {
     "name": "stdout",
     "output_type": "stream",
     "text": [
      "Epoch:952/1000.. Train Loss: 0.011.. Val Loss: 0.112.. Test Loss: 0.062.. Time: 0.03m\n"
     ]
    },
    {
     "name": "stderr",
     "output_type": "stream",
     "text": [
      "100%|██████████| 107/107 [00:01<00:00, 71.16it/s]\n",
      "100%|██████████| 18/18 [00:00<00:00, 328.93it/s]\n",
      "100%|██████████| 53/53 [00:00<00:00, 330.33it/s]\n"
     ]
    },
    {
     "name": "stdout",
     "output_type": "stream",
     "text": [
      "Epoch:953/1000.. Train Loss: 0.010.. Val Loss: 0.116.. Test Loss: 0.062.. Time: 0.03m\n"
     ]
    },
    {
     "name": "stderr",
     "output_type": "stream",
     "text": [
      "100%|██████████| 107/107 [00:01<00:00, 70.61it/s]\n",
      "100%|██████████| 18/18 [00:00<00:00, 326.63it/s]\n",
      "100%|██████████| 53/53 [00:00<00:00, 330.36it/s]\n"
     ]
    },
    {
     "name": "stdout",
     "output_type": "stream",
     "text": [
      "Epoch:954/1000.. Train Loss: 0.013.. Val Loss: 0.112.. Test Loss: 0.062.. Time: 0.03m\n"
     ]
    },
    {
     "name": "stderr",
     "output_type": "stream",
     "text": [
      "100%|██████████| 107/107 [00:01<00:00, 70.17it/s]\n",
      "100%|██████████| 18/18 [00:00<00:00, 336.20it/s]\n",
      "100%|██████████| 53/53 [00:00<00:00, 328.26it/s]\n"
     ]
    },
    {
     "name": "stdout",
     "output_type": "stream",
     "text": [
      "Epoch:955/1000.. Train Loss: 0.012.. Val Loss: 0.114.. Test Loss: 0.062.. Time: 0.03m\n"
     ]
    },
    {
     "name": "stderr",
     "output_type": "stream",
     "text": [
      "100%|██████████| 107/107 [00:01<00:00, 70.59it/s]\n",
      "100%|██████████| 18/18 [00:00<00:00, 332.60it/s]\n",
      "100%|██████████| 53/53 [00:00<00:00, 324.73it/s]\n"
     ]
    },
    {
     "name": "stdout",
     "output_type": "stream",
     "text": [
      "Epoch:956/1000.. Train Loss: 0.009.. Val Loss: 0.113.. Test Loss: 0.062.. Time: 0.03m\n"
     ]
    },
    {
     "name": "stderr",
     "output_type": "stream",
     "text": [
      "100%|██████████| 107/107 [00:01<00:00, 70.58it/s]\n",
      "100%|██████████| 18/18 [00:00<00:00, 330.60it/s]\n",
      "100%|██████████| 53/53 [00:00<00:00, 328.42it/s]\n"
     ]
    },
    {
     "name": "stdout",
     "output_type": "stream",
     "text": [
      "Epoch:957/1000.. Train Loss: 0.011.. Val Loss: 0.113.. Test Loss: 0.062.. Time: 0.03m\n"
     ]
    },
    {
     "name": "stderr",
     "output_type": "stream",
     "text": [
      "100%|██████████| 107/107 [00:01<00:00, 70.69it/s]\n",
      "100%|██████████| 18/18 [00:00<00:00, 328.47it/s]\n",
      "100%|██████████| 53/53 [00:00<00:00, 323.68it/s]\n"
     ]
    },
    {
     "name": "stdout",
     "output_type": "stream",
     "text": [
      "Epoch:958/1000.. Train Loss: 0.009.. Val Loss: 0.113.. Test Loss: 0.062.. Time: 0.03m\n"
     ]
    },
    {
     "name": "stderr",
     "output_type": "stream",
     "text": [
      "100%|██████████| 107/107 [00:01<00:00, 69.88it/s]\n",
      "100%|██████████| 18/18 [00:00<00:00, 315.38it/s]\n",
      "100%|██████████| 53/53 [00:00<00:00, 330.22it/s]\n"
     ]
    },
    {
     "name": "stdout",
     "output_type": "stream",
     "text": [
      "Epoch:959/1000.. Train Loss: 0.010.. Val Loss: 0.113.. Test Loss: 0.062.. Time: 0.03m\n"
     ]
    },
    {
     "name": "stderr",
     "output_type": "stream",
     "text": [
      "100%|██████████| 107/107 [00:01<00:00, 69.78it/s]\n",
      "100%|██████████| 18/18 [00:00<00:00, 326.06it/s]\n",
      "100%|██████████| 53/53 [00:00<00:00, 327.35it/s]\n"
     ]
    },
    {
     "name": "stdout",
     "output_type": "stream",
     "text": [
      "Epoch:960/1000.. Train Loss: 0.011.. Val Loss: 0.113.. Test Loss: 0.062.. Time: 0.03m\n"
     ]
    },
    {
     "name": "stderr",
     "output_type": "stream",
     "text": [
      "100%|██████████| 107/107 [00:01<00:00, 70.40it/s]\n",
      "100%|██████████| 18/18 [00:00<00:00, 325.13it/s]\n",
      "100%|██████████| 53/53 [00:00<00:00, 327.26it/s]\n"
     ]
    },
    {
     "name": "stdout",
     "output_type": "stream",
     "text": [
      "Epoch:961/1000.. Train Loss: 0.010.. Val Loss: 0.113.. Test Loss: 0.062.. Time: 0.03m\n"
     ]
    },
    {
     "name": "stderr",
     "output_type": "stream",
     "text": [
      "100%|██████████| 107/107 [00:01<00:00, 69.87it/s]\n",
      "100%|██████████| 18/18 [00:00<00:00, 335.58it/s]\n",
      "100%|██████████| 53/53 [00:00<00:00, 329.40it/s]\n"
     ]
    },
    {
     "name": "stdout",
     "output_type": "stream",
     "text": [
      "Epoch:962/1000.. Train Loss: 0.010.. Val Loss: 0.147.. Test Loss: 0.062.. Time: 0.03m\n"
     ]
    },
    {
     "name": "stderr",
     "output_type": "stream",
     "text": [
      "100%|██████████| 107/107 [00:01<00:00, 70.40it/s]\n",
      "100%|██████████| 18/18 [00:00<00:00, 323.47it/s]\n",
      "100%|██████████| 53/53 [00:00<00:00, 328.12it/s]\n"
     ]
    },
    {
     "name": "stdout",
     "output_type": "stream",
     "text": [
      "Epoch:963/1000.. Train Loss: 0.010.. Val Loss: 0.113.. Test Loss: 0.062.. Time: 0.03m\n"
     ]
    },
    {
     "name": "stderr",
     "output_type": "stream",
     "text": [
      "100%|██████████| 107/107 [00:01<00:00, 71.55it/s]\n",
      "100%|██████████| 18/18 [00:00<00:00, 329.08it/s]\n",
      "100%|██████████| 53/53 [00:00<00:00, 328.45it/s]\n"
     ]
    },
    {
     "name": "stdout",
     "output_type": "stream",
     "text": [
      "Epoch:964/1000.. Train Loss: 0.010.. Val Loss: 0.114.. Test Loss: 0.062.. Time: 0.03m\n"
     ]
    },
    {
     "name": "stderr",
     "output_type": "stream",
     "text": [
      "100%|██████████| 107/107 [00:01<00:00, 71.04it/s]\n",
      "100%|██████████| 18/18 [00:00<00:00, 325.01it/s]\n",
      "100%|██████████| 53/53 [00:00<00:00, 331.76it/s]\n"
     ]
    },
    {
     "name": "stdout",
     "output_type": "stream",
     "text": [
      "Epoch:965/1000.. Train Loss: 0.011.. Val Loss: 0.114.. Test Loss: 0.062.. Time: 0.03m\n"
     ]
    },
    {
     "name": "stderr",
     "output_type": "stream",
     "text": [
      "100%|██████████| 107/107 [00:01<00:00, 70.07it/s]\n",
      "100%|██████████| 18/18 [00:00<00:00, 325.13it/s]\n",
      "100%|██████████| 53/53 [00:00<00:00, 328.02it/s]\n"
     ]
    },
    {
     "name": "stdout",
     "output_type": "stream",
     "text": [
      "Epoch:966/1000.. Train Loss: 0.011.. Val Loss: 0.113.. Test Loss: 0.062.. Time: 0.03m\n"
     ]
    },
    {
     "name": "stderr",
     "output_type": "stream",
     "text": [
      "100%|██████████| 107/107 [00:01<00:00, 71.32it/s]\n",
      "100%|██████████| 18/18 [00:00<00:00, 326.13it/s]\n",
      "100%|██████████| 53/53 [00:00<00:00, 326.23it/s]\n"
     ]
    },
    {
     "name": "stdout",
     "output_type": "stream",
     "text": [
      "Epoch:967/1000.. Train Loss: 0.010.. Val Loss: 0.136.. Test Loss: 0.062.. Time: 0.03m\n"
     ]
    },
    {
     "name": "stderr",
     "output_type": "stream",
     "text": [
      "100%|██████████| 107/107 [00:01<00:00, 71.61it/s]\n",
      "100%|██████████| 18/18 [00:00<00:00, 328.29it/s]\n",
      "100%|██████████| 53/53 [00:00<00:00, 329.69it/s]\n"
     ]
    },
    {
     "name": "stdout",
     "output_type": "stream",
     "text": [
      "Epoch:968/1000.. Train Loss: 0.012.. Val Loss: 0.115.. Test Loss: 0.062.. Time: 0.03m\n"
     ]
    },
    {
     "name": "stderr",
     "output_type": "stream",
     "text": [
      "100%|██████████| 107/107 [00:01<00:00, 70.17it/s]\n",
      "100%|██████████| 18/18 [00:00<00:00, 326.42it/s]\n",
      "100%|██████████| 53/53 [00:00<00:00, 326.93it/s]\n"
     ]
    },
    {
     "name": "stdout",
     "output_type": "stream",
     "text": [
      "Epoch:969/1000.. Train Loss: 0.010.. Val Loss: 0.120.. Test Loss: 0.062.. Time: 0.03m\n"
     ]
    },
    {
     "name": "stderr",
     "output_type": "stream",
     "text": [
      "100%|██████████| 107/107 [00:01<00:00, 69.91it/s]\n",
      "100%|██████████| 18/18 [00:00<00:00, 330.19it/s]\n",
      "100%|██████████| 53/53 [00:00<00:00, 331.50it/s]\n"
     ]
    },
    {
     "name": "stdout",
     "output_type": "stream",
     "text": [
      "Epoch:970/1000.. Train Loss: 0.010.. Val Loss: 0.114.. Test Loss: 0.062.. Time: 0.03m\n"
     ]
    },
    {
     "name": "stderr",
     "output_type": "stream",
     "text": [
      "100%|██████████| 107/107 [00:01<00:00, 71.72it/s]\n",
      "100%|██████████| 18/18 [00:00<00:00, 331.75it/s]\n",
      "100%|██████████| 53/53 [00:00<00:00, 332.71it/s]\n"
     ]
    },
    {
     "name": "stdout",
     "output_type": "stream",
     "text": [
      "Epoch:971/1000.. Train Loss: 0.011.. Val Loss: 0.113.. Test Loss: 0.062.. Time: 0.03m\n"
     ]
    },
    {
     "name": "stderr",
     "output_type": "stream",
     "text": [
      "100%|██████████| 107/107 [00:01<00:00, 71.13it/s]\n",
      "100%|██████████| 18/18 [00:00<00:00, 328.65it/s]\n",
      "100%|██████████| 53/53 [00:00<00:00, 326.19it/s]\n"
     ]
    },
    {
     "name": "stdout",
     "output_type": "stream",
     "text": [
      "Epoch:972/1000.. Train Loss: 0.011.. Val Loss: 0.117.. Test Loss: 0.062.. Time: 0.03m\n"
     ]
    },
    {
     "name": "stderr",
     "output_type": "stream",
     "text": [
      "100%|██████████| 107/107 [00:01<00:00, 71.62it/s]\n",
      "100%|██████████| 18/18 [00:00<00:00, 331.67it/s]\n",
      "100%|██████████| 53/53 [00:00<00:00, 322.95it/s]\n"
     ]
    },
    {
     "name": "stdout",
     "output_type": "stream",
     "text": [
      "Epoch:973/1000.. Train Loss: 0.011.. Val Loss: 0.113.. Test Loss: 0.062.. Time: 0.03m\n"
     ]
    },
    {
     "name": "stderr",
     "output_type": "stream",
     "text": [
      "100%|██████████| 107/107 [00:01<00:00, 70.10it/s]\n",
      "100%|██████████| 18/18 [00:00<00:00, 328.59it/s]\n",
      "100%|██████████| 53/53 [00:00<00:00, 325.77it/s]\n"
     ]
    },
    {
     "name": "stdout",
     "output_type": "stream",
     "text": [
      "Epoch:974/1000.. Train Loss: 0.010.. Val Loss: 0.113.. Test Loss: 0.062.. Time: 0.03m\n"
     ]
    },
    {
     "name": "stderr",
     "output_type": "stream",
     "text": [
      "100%|██████████| 107/107 [00:01<00:00, 68.35it/s]\n",
      "100%|██████████| 18/18 [00:00<00:00, 323.94it/s]\n",
      "100%|██████████| 53/53 [00:00<00:00, 330.61it/s]\n"
     ]
    },
    {
     "name": "stdout",
     "output_type": "stream",
     "text": [
      "Epoch:975/1000.. Train Loss: 0.011.. Val Loss: 0.113.. Test Loss: 0.062.. Time: 0.03m\n"
     ]
    },
    {
     "name": "stderr",
     "output_type": "stream",
     "text": [
      "100%|██████████| 107/107 [00:01<00:00, 66.63it/s]\n",
      "100%|██████████| 18/18 [00:00<00:00, 245.41it/s]\n",
      "100%|██████████| 53/53 [00:00<00:00, 283.45it/s]\n"
     ]
    },
    {
     "name": "stdout",
     "output_type": "stream",
     "text": [
      "Epoch:976/1000.. Train Loss: 0.011.. Val Loss: 0.136.. Test Loss: 0.062.. Time: 0.03m\n"
     ]
    },
    {
     "name": "stderr",
     "output_type": "stream",
     "text": [
      "100%|██████████| 107/107 [00:01<00:00, 69.70it/s]\n",
      "100%|██████████| 18/18 [00:00<00:00, 324.10it/s]\n",
      "100%|██████████| 53/53 [00:00<00:00, 333.07it/s]\n"
     ]
    },
    {
     "name": "stdout",
     "output_type": "stream",
     "text": [
      "Epoch:977/1000.. Train Loss: 0.011.. Val Loss: 0.114.. Test Loss: 0.062.. Time: 0.03m\n"
     ]
    },
    {
     "name": "stderr",
     "output_type": "stream",
     "text": [
      "100%|██████████| 107/107 [00:01<00:00, 71.21it/s]\n",
      "100%|██████████| 18/18 [00:00<00:00, 331.39it/s]\n",
      "100%|██████████| 53/53 [00:00<00:00, 330.95it/s]\n"
     ]
    },
    {
     "name": "stdout",
     "output_type": "stream",
     "text": [
      "Epoch:978/1000.. Train Loss: 0.011.. Val Loss: 0.113.. Test Loss: 0.062.. Time: 0.03m\n"
     ]
    },
    {
     "name": "stderr",
     "output_type": "stream",
     "text": [
      "100%|██████████| 107/107 [00:01<00:00, 71.46it/s]\n",
      "100%|██████████| 18/18 [00:00<00:00, 331.71it/s]\n",
      "100%|██████████| 53/53 [00:00<00:00, 332.91it/s]\n"
     ]
    },
    {
     "name": "stdout",
     "output_type": "stream",
     "text": [
      "Epoch:979/1000.. Train Loss: 0.011.. Val Loss: 0.113.. Test Loss: 0.062.. Time: 0.03m\n"
     ]
    },
    {
     "name": "stderr",
     "output_type": "stream",
     "text": [
      "100%|██████████| 107/107 [00:01<00:00, 71.57it/s]\n",
      "100%|██████████| 18/18 [00:00<00:00, 331.64it/s]\n",
      "100%|██████████| 53/53 [00:00<00:00, 331.07it/s]\n"
     ]
    },
    {
     "name": "stdout",
     "output_type": "stream",
     "text": [
      "Epoch:980/1000.. Train Loss: 0.012.. Val Loss: 0.113.. Test Loss: 0.062.. Time: 0.03m\n"
     ]
    },
    {
     "name": "stderr",
     "output_type": "stream",
     "text": [
      "100%|██████████| 107/107 [00:01<00:00, 71.93it/s]\n",
      "100%|██████████| 18/18 [00:00<00:00, 251.24it/s]\n",
      "100%|██████████| 53/53 [00:00<00:00, 276.16it/s]\n"
     ]
    },
    {
     "name": "stdout",
     "output_type": "stream",
     "text": [
      "Epoch:981/1000.. Train Loss: 0.010.. Val Loss: 0.113.. Test Loss: 0.062.. Time: 0.03m\n"
     ]
    },
    {
     "name": "stderr",
     "output_type": "stream",
     "text": [
      "100%|██████████| 107/107 [00:01<00:00, 61.43it/s]\n",
      "100%|██████████| 18/18 [00:00<00:00, 319.80it/s]\n",
      "100%|██████████| 53/53 [00:00<00:00, 332.70it/s]\n"
     ]
    },
    {
     "name": "stdout",
     "output_type": "stream",
     "text": [
      "Epoch:982/1000.. Train Loss: 0.012.. Val Loss: 0.114.. Test Loss: 0.062.. Time: 0.03m\n"
     ]
    },
    {
     "name": "stderr",
     "output_type": "stream",
     "text": [
      "100%|██████████| 107/107 [00:01<00:00, 61.18it/s]\n",
      "100%|██████████| 18/18 [00:00<00:00, 327.52it/s]\n",
      "100%|██████████| 53/53 [00:00<00:00, 329.92it/s]\n"
     ]
    },
    {
     "name": "stdout",
     "output_type": "stream",
     "text": [
      "Epoch:983/1000.. Train Loss: 0.010.. Val Loss: 0.113.. Test Loss: 0.062.. Time: 0.03m\n"
     ]
    },
    {
     "name": "stderr",
     "output_type": "stream",
     "text": [
      "100%|██████████| 107/107 [00:01<00:00, 62.12it/s]\n",
      "100%|██████████| 18/18 [00:00<00:00, 331.86it/s]\n",
      "100%|██████████| 53/53 [00:00<00:00, 323.14it/s]\n"
     ]
    },
    {
     "name": "stdout",
     "output_type": "stream",
     "text": [
      "Epoch:984/1000.. Train Loss: 0.010.. Val Loss: 0.114.. Test Loss: 0.062.. Time: 0.03m\n"
     ]
    },
    {
     "name": "stderr",
     "output_type": "stream",
     "text": [
      "100%|██████████| 107/107 [00:01<00:00, 71.11it/s]\n",
      "100%|██████████| 18/18 [00:00<00:00, 339.04it/s]\n",
      "100%|██████████| 53/53 [00:00<00:00, 326.91it/s]\n"
     ]
    },
    {
     "name": "stdout",
     "output_type": "stream",
     "text": [
      "Epoch:985/1000.. Train Loss: 0.010.. Val Loss: 0.113.. Test Loss: 0.062.. Time: 0.03m\n"
     ]
    },
    {
     "name": "stderr",
     "output_type": "stream",
     "text": [
      "100%|██████████| 107/107 [00:01<00:00, 71.17it/s]\n",
      "100%|██████████| 18/18 [00:00<00:00, 325.94it/s]\n",
      "100%|██████████| 53/53 [00:00<00:00, 321.41it/s]\n"
     ]
    },
    {
     "name": "stdout",
     "output_type": "stream",
     "text": [
      "Epoch:986/1000.. Train Loss: 0.012.. Val Loss: 0.113.. Test Loss: 0.062.. Time: 0.03m\n"
     ]
    },
    {
     "name": "stderr",
     "output_type": "stream",
     "text": [
      "100%|██████████| 107/107 [00:01<00:00, 63.40it/s]\n",
      "100%|██████████| 18/18 [00:00<00:00, 260.89it/s]\n",
      "100%|██████████| 53/53 [00:00<00:00, 275.87it/s]\n"
     ]
    },
    {
     "name": "stdout",
     "output_type": "stream",
     "text": [
      "Epoch:987/1000.. Train Loss: 0.012.. Val Loss: 0.116.. Test Loss: 0.062.. Time: 0.03m\n"
     ]
    },
    {
     "name": "stderr",
     "output_type": "stream",
     "text": [
      "100%|██████████| 107/107 [00:01<00:00, 62.71it/s]\n",
      "100%|██████████| 18/18 [00:00<00:00, 259.45it/s]\n",
      "100%|██████████| 53/53 [00:00<00:00, 275.62it/s]\n"
     ]
    },
    {
     "name": "stdout",
     "output_type": "stream",
     "text": [
      "Epoch:988/1000.. Train Loss: 0.010.. Val Loss: 0.114.. Test Loss: 0.062.. Time: 0.03m\n"
     ]
    },
    {
     "name": "stderr",
     "output_type": "stream",
     "text": [
      "100%|██████████| 107/107 [00:01<00:00, 61.06it/s]\n",
      "100%|██████████| 18/18 [00:00<00:00, 270.11it/s]\n",
      "100%|██████████| 53/53 [00:00<00:00, 270.20it/s]\n"
     ]
    },
    {
     "name": "stdout",
     "output_type": "stream",
     "text": [
      "Epoch:989/1000.. Train Loss: 0.013.. Val Loss: 0.113.. Test Loss: 0.062.. Time: 0.03m\n"
     ]
    },
    {
     "name": "stderr",
     "output_type": "stream",
     "text": [
      "100%|██████████| 107/107 [00:01<00:00, 62.47it/s]\n",
      "100%|██████████| 18/18 [00:00<00:00, 269.78it/s]\n",
      "100%|██████████| 53/53 [00:00<00:00, 274.45it/s]\n"
     ]
    },
    {
     "name": "stdout",
     "output_type": "stream",
     "text": [
      "Epoch:990/1000.. Train Loss: 0.010.. Val Loss: 0.113.. Test Loss: 0.062.. Time: 0.03m\n"
     ]
    },
    {
     "name": "stderr",
     "output_type": "stream",
     "text": [
      "100%|██████████| 107/107 [00:01<00:00, 61.35it/s]\n",
      "100%|██████████| 18/18 [00:00<00:00, 286.21it/s]\n",
      "100%|██████████| 53/53 [00:00<00:00, 270.71it/s]\n"
     ]
    },
    {
     "name": "stdout",
     "output_type": "stream",
     "text": [
      "Epoch:991/1000.. Train Loss: 0.012.. Val Loss: 0.113.. Test Loss: 0.062.. Time: 0.03m\n"
     ]
    },
    {
     "name": "stderr",
     "output_type": "stream",
     "text": [
      "100%|██████████| 107/107 [00:01<00:00, 65.44it/s]\n",
      "100%|██████████| 18/18 [00:00<00:00, 274.74it/s]\n",
      "100%|██████████| 53/53 [00:00<00:00, 273.32it/s]\n"
     ]
    },
    {
     "name": "stdout",
     "output_type": "stream",
     "text": [
      "Epoch:992/1000.. Train Loss: 0.011.. Val Loss: 0.113.. Test Loss: 0.062.. Time: 0.03m\n"
     ]
    },
    {
     "name": "stderr",
     "output_type": "stream",
     "text": [
      "100%|██████████| 107/107 [00:01<00:00, 61.90it/s]\n",
      "100%|██████████| 18/18 [00:00<00:00, 278.74it/s]\n",
      "100%|██████████| 53/53 [00:00<00:00, 301.91it/s]\n"
     ]
    },
    {
     "name": "stdout",
     "output_type": "stream",
     "text": [
      "Epoch:993/1000.. Train Loss: 0.012.. Val Loss: 0.114.. Test Loss: 0.062.. Time: 0.03m\n"
     ]
    },
    {
     "name": "stderr",
     "output_type": "stream",
     "text": [
      "100%|██████████| 107/107 [00:01<00:00, 60.90it/s]\n",
      "100%|██████████| 18/18 [00:00<00:00, 328.89it/s]\n",
      "100%|██████████| 53/53 [00:00<00:00, 316.57it/s]\n"
     ]
    },
    {
     "name": "stdout",
     "output_type": "stream",
     "text": [
      "Epoch:994/1000.. Train Loss: 0.010.. Val Loss: 0.113.. Test Loss: 0.062.. Time: 0.03m\n"
     ]
    },
    {
     "name": "stderr",
     "output_type": "stream",
     "text": [
      "100%|██████████| 107/107 [00:01<00:00, 70.38it/s]\n",
      "100%|██████████| 18/18 [00:00<00:00, 250.91it/s]\n",
      "100%|██████████| 53/53 [00:00<00:00, 329.59it/s]\n"
     ]
    },
    {
     "name": "stdout",
     "output_type": "stream",
     "text": [
      "Epoch:995/1000.. Train Loss: 0.010.. Val Loss: 0.126.. Test Loss: 0.062.. Time: 0.03m\n"
     ]
    },
    {
     "name": "stderr",
     "output_type": "stream",
     "text": [
      "100%|██████████| 107/107 [00:01<00:00, 61.03it/s]\n",
      "100%|██████████| 18/18 [00:00<00:00, 274.19it/s]\n",
      "100%|██████████| 53/53 [00:00<00:00, 316.60it/s]\n"
     ]
    },
    {
     "name": "stdout",
     "output_type": "stream",
     "text": [
      "Epoch:996/1000.. Train Loss: 0.010.. Val Loss: 0.113.. Test Loss: 0.062.. Time: 0.03m\n"
     ]
    },
    {
     "name": "stderr",
     "output_type": "stream",
     "text": [
      "100%|██████████| 107/107 [00:01<00:00, 71.28it/s]\n",
      "100%|██████████| 18/18 [00:00<00:00, 339.40it/s]\n",
      "100%|██████████| 53/53 [00:00<00:00, 328.71it/s]\n"
     ]
    },
    {
     "name": "stdout",
     "output_type": "stream",
     "text": [
      "Epoch:997/1000.. Train Loss: 0.011.. Val Loss: 0.113.. Test Loss: 0.062.. Time: 0.03m\n"
     ]
    },
    {
     "name": "stderr",
     "output_type": "stream",
     "text": [
      "100%|██████████| 107/107 [00:01<00:00, 66.00it/s]\n",
      "100%|██████████| 18/18 [00:00<00:00, 250.63it/s]\n",
      "100%|██████████| 53/53 [00:00<00:00, 316.65it/s]\n"
     ]
    },
    {
     "name": "stdout",
     "output_type": "stream",
     "text": [
      "Epoch:998/1000.. Train Loss: 0.012.. Val Loss: 0.113.. Test Loss: 0.062.. Time: 0.03m\n"
     ]
    },
    {
     "name": "stderr",
     "output_type": "stream",
     "text": [
      "100%|██████████| 107/107 [00:01<00:00, 61.13it/s]\n",
      "100%|██████████| 18/18 [00:00<00:00, 249.26it/s]\n",
      "100%|██████████| 53/53 [00:00<00:00, 297.63it/s]\n"
     ]
    },
    {
     "name": "stdout",
     "output_type": "stream",
     "text": [
      "Epoch:999/1000.. Train Loss: 0.010.. Val Loss: 0.126.. Test Loss: 0.062.. Time: 0.03m\n"
     ]
    },
    {
     "name": "stderr",
     "output_type": "stream",
     "text": [
      "100%|██████████| 107/107 [00:01<00:00, 71.25it/s]\n",
      "100%|██████████| 18/18 [00:00<00:00, 341.82it/s]\n",
      "100%|██████████| 53/53 [00:00<00:00, 329.95it/s]"
     ]
    },
    {
     "name": "stdout",
     "output_type": "stream",
     "text": [
      "Epoch:1000/1000.. Train Loss: 0.010.. Val Loss: 0.113.. Test Loss: 0.062.. Time: 0.03m\n",
      "Total time: 29.20 m\n"
     ]
    },
    {
     "name": "stderr",
     "output_type": "stream",
     "text": [
      "\n"
     ]
    }
   ],
   "source": [
    "training.fit(model, train_loader, validation_loader, test_loader)\n",
    "best_model = training.get_best_model()"
   ]
  },
  {
   "cell_type": "code",
   "execution_count": 12,
   "metadata": {
    "tags": []
   },
   "outputs": [
    {
     "data": {
      "text/plain": [
       "<matplotlib.legend.Legend at 0x2aaec4efcd00>"
      ]
     },
     "execution_count": 12,
     "metadata": {},
     "output_type": "execute_result"
    },
    {
     "data": {
      "image/png": "[encoded data removed]",
      "text/plain": [
       "<Figure size 640x480 with 1 Axes>"
      ]
     },
     "metadata": {},
     "output_type": "display_data"
    }
   ],
   "source": [
    "fig, ax = plt.subplots()\n",
    "\n",
    "ax.plot(training.results['Train'], label='Train')\n",
    "ax.plot(training.results['Validation'], label='Validation')\n",
    "ax.plot(training.results['Test'], label='Test')\n",
    "ax.legend()"
   ]
  },
  {
   "cell_type": "markdown",
   "metadata": {},
   "source": [
    "## Evaluation and plotting classes"
   ]
  },
  {
   "cell_type": "code",
   "execution_count": 13,
   "metadata": {
    "tags": []
   },
   "outputs": [],
   "source": [
    "class OSAEvaluator:\n",
    "    \n",
    "    def evaluate_OSA(self, dataset, model):\n",
    "        \n",
    "        torch.cuda.empty_cache()\n",
    "        Y_real = []\n",
    "        Y_pred = []\n",
    "        for i, data in enumerate(tqdm(dataset)):\n",
    "            src, tgt, y_real = data\n",
    "            src, tgt, y_real = src.to(device), tgt.to(device), y_real.to(device)\n",
    "            y_pred = model(src, tgt)\n",
    "            Y_real.append(y_real.reshape(1,-1))\n",
    "            Y_pred.append(y_pred)\n",
    "        \n",
    "        Y_real = torch.vstack(Y_real).cpu()\n",
    "        Y_pred = torch.vstack(Y_pred).cpu().detach()\n",
    "        print('********** OSA Evaluation summary **********')\n",
    "        print(f'OSA MSE: {mean_squared_error(Y_real, Y_pred)}')\n",
    "        print(f'OSA RMSE: {np.sqrt(mean_squared_error(Y_real, Y_pred))}')\n",
    "        print(f'OSA R2 score: {r2_score(Y_real, Y_pred)}')\n",
    "        print('********************************************')\n",
    "        return Y_real, Y_pred\n",
    "            \n",
    "class FSEvaluator:\n",
    "    \n",
    "    def evaluate_FS(self, dataset, model):\n",
    "        \n",
    "        torch.cuda.empty_cache()\n",
    "        Y_real = []\n",
    "        Y_pred = []\n",
    "        tgt_sim = None\n",
    "        for i, data in enumerate(tqdm(dataset)):\n",
    "            src, tgt, y_real = data\n",
    "            src, tgt, y_real = src.to(device), tgt.to(device), y_real.to(device)\n",
    "            if tgt_sim is None:\n",
    "                tgt_sim = tgt\n",
    "            else:\n",
    "                tgt_sim[:-1,:] = tgt_sim[1:,:]\n",
    "                tgt_sim[-1,:] = y_pred\n",
    "            y_pred = model(src, tgt_sim)\n",
    "            Y_real.append(y_real.reshape(1,-1))\n",
    "            Y_pred.append(y_pred)\n",
    "        \n",
    "        Y_real = torch.vstack(Y_real).cpu()\n",
    "        Y_pred = torch.vstack(Y_pred).cpu().detach()\n",
    "        print('*********** FS Evaluation summary **********')\n",
    "        print(f'FS MSE: {mean_squared_error(Y_real, Y_pred)}')\n",
    "        print(f'FS RMSE: {np.sqrt(mean_squared_error(Y_real, Y_pred))}')\n",
    "        print(f'FS R2 score: {r2_score(Y_real, Y_pred)}')\n",
    "        print('********************************************')\n",
    "        return Y_real, Y_pred\n",
    "    \n",
    "class Evaluator(OSAEvaluator, FSEvaluator):\n",
    "    \n",
    "    pass\n",
    "        "
   ]
  },
  {
   "cell_type": "code",
   "execution_count": 14,
   "metadata": {
    "tags": []
   },
   "outputs": [
    {
     "name": "stderr",
     "output_type": "stream",
     "text": [
      "100%|██████████| 707/707 [00:02<00:00, 240.77it/s]\n"
     ]
    },
    {
     "name": "stdout",
     "output_type": "stream",
     "text": [
      "********** OSA Evaluation summary **********\n",
      "OSA MSE: 0.03516137972474098\n",
      "OSA RMSE: 0.18751367926597595\n",
      "OSA R2 score: 0.796975846317226\n",
      "********************************************\n"
     ]
    },
    {
     "name": "stderr",
     "output_type": "stream",
     "text": [
      "100%|██████████| 707/707 [00:02<00:00, 264.24it/s]"
     ]
    },
    {
     "name": "stdout",
     "output_type": "stream",
     "text": [
      "*********** FS Evaluation summary **********\n",
      "FS MSE: 0.169447124004364\n",
      "FS RMSE: 0.411639541387558\n",
      "FS R2 score: 0.021601032114935914\n",
      "********************************************\n"
     ]
    },
    {
     "name": "stderr",
     "output_type": "stream",
     "text": [
      "\n"
     ]
    }
   ],
   "source": [
    "evaluator = Evaluator()\n",
    "Y_real, Y_pred_OSA = evaluator.evaluate_OSA(dataset, model)\n",
    "Y_real, Y_pred_FS = evaluator.evaluate_FS(dataset, model)"
   ]
  },
  {
   "cell_type": "code",
   "execution_count": 15,
   "metadata": {
    "tags": []
   },
   "outputs": [
    {
     "data": {
      "text/plain": [
       "<matplotlib.legend.Legend at 0x2aaec4f14790>"
      ]
     },
     "execution_count": 15,
     "metadata": {},
     "output_type": "execute_result"
    },
    {
     "data": {
      "image/png": "[encoded data removed]",
      "text/plain": [
       "<Figure size 640x480 with 1 Axes>"
      ]
     },
     "metadata": {},
     "output_type": "display_data"
    }
   ],
   "source": [
    "fig, ax = plt.subplots()\n",
    "ax.plot(Y_real, label='Real')\n",
    "ax.plot(Y_pred_OSA, label='OSA')\n",
    "ax.plot(Y_pred_FS, label='FS')\n",
    "ax.legend()"
   ]
  },
  {
   "cell_type": "code",
   "execution_count": 16,
   "metadata": {},
   "outputs": [
    {
     "name": "stderr",
     "output_type": "stream",
     "text": [
      "100%|██████████| 707/707 [00:02<00:00, 246.25it/s]\n"
     ]
    },
    {
     "name": "stdout",
     "output_type": "stream",
     "text": [
      "********** OSA Evaluation summary **********\n",
      "OSA MSE: 0.036734409630298615\n",
      "OSA RMSE: 0.19166222214698792\n",
      "OSA R2 score: 0.7878930813693972\n",
      "********************************************\n"
     ]
    },
    {
     "name": "stderr",
     "output_type": "stream",
     "text": [
      "100%|██████████| 707/707 [00:02<00:00, 275.98it/s]"
     ]
    },
    {
     "name": "stdout",
     "output_type": "stream",
     "text": [
      "*********** FS Evaluation summary **********\n",
      "FS MSE: 0.19263237714767456\n",
      "FS RMSE: 0.43889904022216797\n",
      "FS R2 score: -0.11227206857279826\n",
      "********************************************\n"
     ]
    },
    {
     "name": "stderr",
     "output_type": "stream",
     "text": [
      "\n"
     ]
    }
   ],
   "source": [
    "evaluator = Evaluator()\n",
    "Y_real, Y_pred_OSA = evaluator.evaluate_OSA(dataset, best_model)\n",
    "Y_real, Y_pred_FS = evaluator.evaluate_FS(dataset, best_model)"
   ]
  },
  {
   "cell_type": "code",
   "execution_count": 17,
   "metadata": {
    "tags": []
   },
   "outputs": [
    {
     "data": {
      "text/plain": [
       "<matplotlib.legend.Legend at 0x2aaee6fc1040>"
      ]
     },
     "execution_count": 17,
     "metadata": {},
     "output_type": "execute_result"
    },
    {
     "data": {
      "image/png": "[encoded data removed]",
      "text/plain": [
       "<Figure size 640x480 with 1 Axes>"
      ]
     },
     "metadata": {},
     "output_type": "display_data"
    }
   ],
   "source": [
    "fig, ax = plt.subplots()\n",
    "ax.plot(Y_real, label='Real')\n",
    "ax.plot(Y_pred_OSA, label='OSA')\n",
    "ax.plot(Y_pred_FS, label='FS')\n",
    "ax.legend()"
   ]
  }
 ],
 "metadata": {
  "kernelspec": {
   "display_name": "raul_dl",
   "language": "python",
   "name": "raul_dl"
  },
  "language_info": {
   "codemirror_mode": {
    "name": "ipython",
    "version": 3
   },
   "file_extension": ".py",
   "mimetype": "text/x-python",
   "name": "python",
   "nbconvert_exporter": "python",
   "pygments_lexer": "ipython3",
   "version": "3.9.13"
  }
 },
 "nbformat": 4,
 "nbformat_minor": 4
}
