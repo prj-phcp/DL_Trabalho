{
 "cells": [
  {
   "cell_type": "code",
   "execution_count": 603,
   "metadata": {
    "tags": []
   },
   "outputs": [
    {
     "name": "stdout",
     "output_type": "stream",
     "text": [
      "Thu Jun  8 18:40:34 2023       \n",
      "+-----------------------------------------------------------------------------+\n",
      "| NVIDIA-SMI 515.43.04    Driver Version: 515.43.04    CUDA Version: 11.7     |\n",
      "|-------------------------------+----------------------+----------------------+\n",
      "| GPU  Name        Persistence-M| Bus-Id        Disp.A | Volatile Uncorr. ECC |\n",
      "| Fan  Temp  Perf  Pwr:Usage/Cap|         Memory-Usage | GPU-Util  Compute M. |\n",
      "|                               |                      |               MIG M. |\n",
      "|===============================+======================+======================|\n",
      "|   0  Tesla V100-SXM2...  Off  | 00000000:15:00.0 Off |                    0 |\n",
      "| N/A   29C    P0    53W / 300W |    970MiB / 32768MiB |      0%      Default |\n",
      "|                               |                      |                  N/A |\n",
      "+-------------------------------+----------------------+----------------------+\n",
      "                                                                               \n",
      "+-----------------------------------------------------------------------------+\n",
      "| Processes:                                                                  |\n",
      "|  GPU   GI   CI        PID   Type   Process name                  GPU Memory |\n",
      "|        ID   ID                                                   Usage      |\n",
      "|=============================================================================|\n",
      "|    0   N/A  N/A     17288      C   .../venvs/dl_raul/bin/python      967MiB |\n",
      "+-----------------------------------------------------------------------------+\n"
     ]
    }
   ],
   "source": [
    "import math\n",
    "import json\n",
    "import time\n",
    "import numpy as np\n",
    "import pandas as pd\n",
    "import matplotlib.pyplot as plt\n",
    "from tqdm import tqdm\n",
    "\n",
    "import torch\n",
    "import torch.nn as nn\n",
    "import torch.optim as optim\n",
    "from torch.utils.data import Dataset\n",
    "from torch.utils.data.sampler import SubsetRandomSampler\n",
    "\n",
    "!nvidia-smi"
   ]
  },
  {
   "cell_type": "code",
   "execution_count": 604,
   "metadata": {
    "tags": []
   },
   "outputs": [
    {
     "name": "stdout",
     "output_type": "stream",
     "text": [
      "cuda:0\n"
     ]
    }
   ],
   "source": [
    "# Dispositivo onde tensores serão criados, armazenados e processados\n",
    "device = torch.device(\"cuda:0\" if torch.cuda.is_available() else \"cpu\")\n",
    "print(device)\n",
    "# Randon Seed fixa para resultados reprodutíveis\n",
    "seed = 42\n",
    "torch.manual_seed(seed)\n",
    "torch.cuda.manual_seed(seed)"
   ]
  },
  {
   "cell_type": "markdown",
   "metadata": {},
   "source": [
    "## Data Loader"
   ]
  },
  {
   "cell_type": "code",
   "execution_count": 605,
   "metadata": {
    "tags": []
   },
   "outputs": [],
   "source": [
    "class WellLoader(Dataset):\n",
    "    \n",
    "    def __init__(self, path, wells, var_in, var_out, max_sequence=16, step=1):\n",
    "        \n",
    "        self.path = path\n",
    "        with open(self.path + '/metadata.json', 'r') as metafile:\n",
    "            self.metadata = json.loads(metafile.read())\n",
    "        self.wells = wells\n",
    "        self.var_in = var_in\n",
    "        self.var_out = var_out\n",
    "        self.max_sequence = max_sequence\n",
    "        self.step = step\n",
    "        self.batches_X = []\n",
    "        self.batches_Y = []\n",
    "        \n",
    "        indexes = self.get_wells_index(self.wells)\n",
    "        self.load_data_by_index(indexes)\n",
    "        \n",
    "    def get_wells_index(self, wells):\n",
    "        \n",
    "        indexes = []\n",
    "        for well in wells:\n",
    "            indexes.extend([meta['INDEX'] for meta in self.metadata if meta['WELL'] == well])\n",
    "        return indexes\n",
    "    \n",
    "    def load_data_by_index(self, indexes):\n",
    "        \n",
    "        batches_X = []\n",
    "        batches_Y = []\n",
    "        for index in indexes:\n",
    "            data = pd.read_json(f'{self.path}/{index}.json')#.reset_index()\n",
    "            # Armengue: Por liq vol para preencher o dataset\n",
    "            data['BORE_LIQ_VOL'] = data['BORE_OIL_VOL'] + data['BORE_WAT_VOL']\n",
    "            data = data[self.var_in + self.var_out].dropna().reset_index(drop=True)\n",
    "            X = torch.from_numpy(data[self.var_in].values.astype('float32'))\n",
    "            Y = torch.from_numpy(data[self.var_out].values.astype('float32'))\n",
    "            print(X.shape)\n",
    "            #X = torch.split(X, self.max_sequence, dim= 0)\n",
    "            #Y = torch.split(Y, self.max_sequence, dim= 0)\n",
    "            X = X.unfold(0,self.max_sequence, self.step)\n",
    "            Y = Y.unfold(0,self.max_sequence, self.step)\n",
    "            batches_X.append(X)\n",
    "            batches_Y.append(Y)\n",
    "            print(X.shape)\n",
    "        self.batches_X = torch.concat(batches_X, axis=0)\n",
    "        self.batches_Y = torch.concat(batches_Y, axis=0)\n",
    "            \n",
    "    def __len__(self):\n",
    "        \n",
    "        return self.batches_X.shape[0]\n",
    "    \n",
    "    def __getitem__(self, idx):\n",
    "                        \n",
    "        inputs = self.batches_X[idx,:,:]\n",
    "        outputs = self.batches_Y[idx,:,:]\n",
    "        \n",
    "        return inputs, outputs\n",
    "        \n",
    "        \n",
    "                 "
   ]
  },
  {
   "cell_type": "code",
   "execution_count": 606,
   "metadata": {
    "tags": []
   },
   "outputs": [
    {
     "name": "stdout",
     "output_type": "stream",
     "text": [
      "torch.Size([743, 5])\n",
      "torch.Size([736, 5, 8])\n"
     ]
    }
   ],
   "source": [
    "path = './dataset/volve'\n",
    "wells = ['15/9-F-1 C']\n",
    "var_in = [\n",
    "        'AVG_DOWNHOLE_PRESSURE',\n",
    "        'AVG_WHP_P',\n",
    "        'AVG_CHOKE_SIZE_P',\n",
    "        'AVG_WHT_P',\n",
    "        'AVG_DOWNHOLE_TEMPERATURE',\n",
    "]\n",
    "\n",
    "var_out = [\n",
    "        #'BORE_OIL_VOL',\n",
    "        'BORE_LIQ_VOL',\n",
    "        #'BORE_GAS_VOL',\n",
    "        #'BORE_WAT_VOL',\n",
    "]\n",
    "\n",
    "\n",
    "dataset = WellLoader(path, wells, var_in, var_out, max_sequence = 8)"
   ]
  },
  {
   "cell_type": "code",
   "execution_count": 607,
   "metadata": {
    "tags": []
   },
   "outputs": [],
   "source": [
    "class SubsetSplitter:\n",
    "    \n",
    "    def __init__(self, batch_size, validation_split, test_split, shuffle=False):\n",
    "        \n",
    "        self.batch_size = batch_size\n",
    "        self.validation_split = validation_split\n",
    "        self.test_split = test_split\n",
    "        self.shuffle = shuffle\n",
    "        \n",
    "    def __call__(self, dataset:Dataset):\n",
    "        \n",
    "        dataset_size = len(dataset)\n",
    "        indices = list(range(dataset_size))\n",
    "        validation_split = int(np.floor(self.validation_split * dataset_size))\n",
    "        test_split = int(np.floor(self.test_split * dataset_size))\n",
    "        train_split = dataset_size - validation_split - test_split\n",
    "        if self.shuffle :\n",
    "            np.random.shuffle(indices)\n",
    "        train_indices = indices[:train_split]\n",
    "        validation_indices = indices[train_split:train_split + validation_split]\n",
    "        test_indices = indices[train_split + validation_split:]\n",
    "\n",
    "        # Creating PT data samplers and loaders:\n",
    "        train_sampler = SubsetRandomSampler(train_indices)\n",
    "        valid_sampler = SubsetRandomSampler(validation_indices)\n",
    "        test_sampler = SubsetRandomSampler(test_indices)\n",
    "\n",
    "        train_loader = torch.utils.data.DataLoader(dataset, batch_size=self.batch_size, \n",
    "                                                   sampler=train_sampler)\n",
    "        validation_loader = torch.utils.data.DataLoader(dataset, batch_size=self.batch_size,\n",
    "                                                    sampler=valid_sampler)\n",
    "        test_loader = torch.utils.data.DataLoader(dataset, batch_size=self.batch_size,\n",
    "                                                    sampler=test_sampler)\n",
    "        \n",
    "        return train_loader, validation_loader, test_loader"
   ]
  },
  {
   "cell_type": "code",
   "execution_count": 608,
   "metadata": {
    "tags": []
   },
   "outputs": [],
   "source": [
    "splitter = SubsetSplitter(4, 0.1, 0.1)\n",
    "train_loader, validation_loader, test_loader = splitter(dataset)"
   ]
  },
  {
   "cell_type": "code",
   "execution_count": 609,
   "metadata": {
    "tags": []
   },
   "outputs": [
    {
     "name": "stdout",
     "output_type": "stream",
     "text": [
      "torch.Size([4, 5, 8])\n"
     ]
    }
   ],
   "source": [
    "for x, y in train_loader:\n",
    "    print(x.shape)\n",
    "    break"
   ]
  },
  {
   "cell_type": "markdown",
   "metadata": {},
   "source": [
    "## Model definition"
   ]
  },
  {
   "cell_type": "code",
   "execution_count": 610,
   "metadata": {},
   "outputs": [
    {
     "data": {
      "text/plain": [
       "tensor([[[0.0000, 1.4286, 0.0000, 1.4286, 0.0000, 0.0000, 0.0000, 1.4286,\n",
       "          0.0000, 1.4286],\n",
       "         [0.0000, 0.0000, 0.0000, 1.4286, 0.0000, 1.4286, 0.0000, 0.0000,\n",
       "          0.0000, 0.0000]]])"
      ]
     },
     "execution_count": 610,
     "metadata": {},
     "output_type": "execute_result"
    }
   ],
   "source": [
    "class PositionalEncoding(nn.Module):\n",
    "    def __init__(self, dim_model, dropout_p, max_len):\n",
    "        super().__init__()\n",
    "        # Modified version from: https://pytorch.org/tutorials/beginner/transformer_tutorial.html\n",
    "        # max_len determines how far the position can have an effect on a token (window)\n",
    "        \n",
    "        # Info\n",
    "        self.dropout = nn.Dropout(dropout_p)\n",
    "        \n",
    "        # Encoding - From formula\n",
    "        pos_encoding = torch.zeros(max_len, dim_model)\n",
    "        positions_list = torch.arange(0, max_len, dtype=torch.float).view(-1, 1) # 0, 1, 2, 3, 4, 5\n",
    "        division_term = torch.exp(torch.arange(0, dim_model, 2).float() * (-math.log(10000.0)) / dim_model) # 1000^(2i/dim_model)\n",
    "        \n",
    "        # PE(pos, 2i) = sin(pos/1000^(2i/dim_model))\n",
    "        pos_encoding[:, 0::2] = torch.sin(positions_list * division_term)\n",
    "        \n",
    "        # PE(pos, 2i + 1) = cos(pos/1000^(2i/dim_model))\n",
    "        pos_encoding[:, 1::2] = torch.cos(positions_list * division_term)\n",
    "        \n",
    "        # Saving buffer (same as parameter without gradients needed)\n",
    "        pos_encoding = pos_encoding.unsqueeze(0).transpose(0, 1)\n",
    "        self.register_buffer(\"pos_encoding\",pos_encoding)\n",
    "        \n",
    "    def forward(self, token_embedding: torch.tensor) -> torch.tensor:\n",
    "        # Residual connection + pos encoding\n",
    "        return self.dropout(token_embedding + self.pos_encoding[:token_embedding.size(0), :])\n",
    "    \n",
    "    \n",
    "positional_encoding = PositionalEncoding(dim_model = 10, dropout_p=0.3, max_len=1200)\n",
    "tensor = torch.zeros((1,2,10))\n",
    "tensor\n",
    "encoded = positional_encoding(tensor)\n",
    "encoded"
   ]
  },
  {
   "cell_type": "code",
   "execution_count": 611,
   "metadata": {},
   "outputs": [],
   "source": [
    "class Transformer(nn.Module):\n",
    "    \"\"\"\n",
    "    Model from \"A detailed guide to Pytorch's nn.Transformer() module.\", by\n",
    "    Daniel Melchor: https://medium.com/@danielmelchor/a-detailed-guide-to-pytorchs-nn-transformer-module-c80afbc9ffb1\n",
    "    \"\"\"\n",
    "    # Constructor\n",
    "    def __init__(\n",
    "        self,\n",
    "        num_outputs,\n",
    "        dim_model,\n",
    "        num_heads,\n",
    "        num_encoder_layers,\n",
    "        num_decoder_layers,\n",
    "        dropout_p,\n",
    "    ):\n",
    "        super().__init__()\n",
    "\n",
    "        # INFO\n",
    "        self.model_type = \"Transformer\"\n",
    "        self.dim_model = dim_model\n",
    "\n",
    "        # LAYERS\n",
    "        self.positional_encoder = PositionalEncoding(\n",
    "            dim_model=dim_model, dropout_p=dropout_p, max_len=5000\n",
    "        )\n",
    "        #self.embedding = nn.Embedding(num_outputs, dim_model)\n",
    "        self.transformer = nn.Transformer(\n",
    "            d_model=dim_model,\n",
    "            nhead=num_heads,\n",
    "            num_encoder_layers=num_encoder_layers,\n",
    "            num_decoder_layers=num_decoder_layers,\n",
    "            dropout=dropout_p, \n",
    "            batch_first=True\n",
    "        )\n",
    "        self.out = nn.Linear(dim_model, num_outputs)\n",
    "        self.end_activation = nn.ReLU()\n",
    "        \n",
    "    def forward(self, src, tgt, tgt_mask=None, src_pad_mask=None, tgt_pad_mask=None):\n",
    "        # Src size must be (batch_size, src sequence length)\n",
    "        # Tgt size must be (batch_size, tgt sequence length)\n",
    "\n",
    "        # Embedding + positional encoding - Out size = (batch_size, sequence length, dim_model)\n",
    "        #src = self.embedding(src) * math.sqrt(self.dim_model)\n",
    "        #tgt = self.embedding(tgt) * math.sqrt(self.dim_model)\n",
    "        src_corr = src * math.sqrt(self.dim_model)\n",
    "        tgt_corr = tgt * math.sqrt(self.dim_model)\n",
    "        #src_corr = self.positional_encoder(src_corr)\n",
    "        #tgt_corr = self.positional_encoder(tgt_corr)\n",
    "        \n",
    "        # We could use the parameter batch_first=True, but our KDL version doesn't support it yet, so we permute\n",
    "        # to obtain size (sequence length, batch_size, dim_model),\n",
    "        #src = src.permute(1,0,2)\n",
    "        #tgt = tgt.permute(1,0,2)\n",
    "\n",
    "        # Transformer blocks - Out size = (sequence length, batch_size, num_tokens)\n",
    "        transformer_out = self.transformer(src_corr, tgt_corr, tgt_mask=tgt_mask, src_key_padding_mask=src_pad_mask, tgt_key_padding_mask=tgt_pad_mask)\n",
    "        out = self.out(transformer_out)\n",
    "        #out = self.end_activation(out)\n",
    "        #out = torch.add(tgt, out)\n",
    "        \n",
    "        return out\n",
    "      \n",
    "    def get_tgt_mask(self, size) -> torch.tensor:\n",
    "        # Generates a squeare matrix where the each row allows one word more to be seen\n",
    "        mask = torch.tril(torch.ones(size, size) == 1) # Lower triangular matrix\n",
    "        mask = mask.float()\n",
    "        mask = mask.masked_fill(mask == 0, float('-inf')) # Convert zeros to -inf\n",
    "        mask = mask.masked_fill(mask == 1, float(0.0)) # Convert ones to 0\n",
    "        \n",
    "        # EX for size=5:\n",
    "        # [[0., -inf, -inf, -inf, -inf],\n",
    "        #  [0.,   0., -inf, -inf, -inf],\n",
    "        #  [0.,   0.,   0., -inf, -inf],\n",
    "        #  [0.,   0.,   0.,   0., -inf],\n",
    "        #  [0.,   0.,   0.,   0.,   0.]]\n",
    "        \n",
    "        return mask\n",
    "    \n",
    "    def create_pad_mask(self, matrix: torch.tensor, pad_token: int) -> torch.tensor:\n",
    "        # If matrix = [1,2,3,0,0,0] where pad_token=0, the result mask is\n",
    "        # [False, False, False, True, True, True]\n",
    "        return (matrix == pad_token)"
   ]
  },
  {
   "cell_type": "code",
   "execution_count": 612,
   "metadata": {
    "tags": []
   },
   "outputs": [],
   "source": [
    "class Training:\n",
    "    \n",
    "    def __init__(self, epochs, loss, optimizer, scheduler, path, patience=5):\n",
    "        \n",
    "        self.loss = loss\n",
    "        self.optimizer = optimizer\n",
    "        self.scheduler = scheduler\n",
    "        self.epochs = epochs\n",
    "        self.path = path\n",
    "        self.patience = patience\n",
    "        self.clear_results()\n",
    "        \n",
    "    def clear_results(self):\n",
    "        \n",
    "        self.results = {\n",
    "            'Train':[],\n",
    "            'Validation':[],\n",
    "        }\n",
    "        \n",
    "    def fit(self, model, train_loader, validation_loader):\n",
    "        \n",
    "        self.clear_results()\n",
    "        torch.cuda.empty_cache()\n",
    "        decrease = self.patience\n",
    "        not_improved = 0\n",
    "        \n",
    "        model.to(device)\n",
    "        fit_time = time.time()\n",
    "        \n",
    "        for e in range(self.epochs):\n",
    "            since = time.time()\n",
    "            running_loss = 0\n",
    "            #training loop\n",
    "            model.train()\n",
    "            self.train_loop(model, train_loader)\n",
    "            model.eval()\n",
    "            self.validation_loop(model, validation_loader)\n",
    "            decrease, not_improved = self.early_stopping(validation_loader, decrease)\n",
    "            if not_improved == 1:\n",
    "                break\n",
    "            loss_per_training_batch = self.results['Train'][-1]\n",
    "            loss_per_validation_batch = self.results['Validation'][-1]\n",
    "            print(\"Epoch:{}/{}..\".format(e+1, self.epochs),\n",
    "                  \"Train Loss: {:.3f}..\".format(loss_per_training_batch),\n",
    "                  \"Val Loss: {:.3f}..\".format(loss_per_validation_batch),\n",
    "                  \"Time: {:.2f}m\".format((time.time()-since)/60))\n",
    "        print('Total time: {:.2f} m' .format((time.time()- fit_time)/60))\n",
    "        \n",
    "    def train_loop(self, model, train_loader):\n",
    "        \n",
    "        running_loss = 0.0\n",
    "        for i, data in enumerate(tqdm(train_loader)):\n",
    "            #training phase\n",
    "            X, Y = data\n",
    "            X, Y = X.to(device), Y.to(device)\n",
    "            y_result, y_tgt = Y, torch.from_numpy(-1.0*np.ones(Y.shape).astype('float32')).to(device)\n",
    "            y_tgt[:,:,1:] = Y[:,:,:-1]\n",
    "            y_tgt[:,:,0] = 0.0\n",
    "            output = model(X, y_tgt)\n",
    "            loss = self.loss(output, y_result[:,:,-1:])\n",
    "            #backward\n",
    "            loss.backward()\n",
    "            self.optimizer.step() #update weight          \n",
    "            self.optimizer.zero_grad() #reset gradient\n",
    "            \n",
    "            #step the learning rate\n",
    "            self.scheduler.step()\n",
    "            running_loss += loss.item()\n",
    "        \n",
    "        self.results['Train'].append(running_loss/len(train_loader))\n",
    "    \n",
    "    \n",
    "    def validation_loop(self, model, validation_loader):\n",
    "        \n",
    "        running_loss = 0.0\n",
    "        with torch.no_grad():\n",
    "            for i, data in enumerate(tqdm(validation_loader)):\n",
    "                #training phase\n",
    "                X, Y = data\n",
    "                X, Y = X.to(device), Y.to(device)\n",
    "                y_result, y_tgt = Y, torch.from_numpy(-1.0*np.ones(Y.shape).astype('float32')).to(device)\n",
    "                y_tgt[:,:,1:] = Y[:,:,:-1]\n",
    "                y_tgt[:,:,0] = 0.0\n",
    "                output = model(X, y_tgt)\n",
    "                loss = self.loss(output, y_result[:,:,-1:])\n",
    "                \n",
    "                running_loss += loss.item()\n",
    "        \n",
    "        self.results['Validation'].append(running_loss/len(validation_loader))\n",
    "        \n",
    "    def early_stopping(self, validation_loader, decrease):\n",
    "        \n",
    "        loss_per_validation_batch = self.results['Validation'][-1]\n",
    "        min_loss = np.min(self.results['Validation'][:-1] + [np.inf])\n",
    "        if min_loss >= self.results['Validation'][-1]:\n",
    "            print('Loss Decreasing.. {:.3f} >> {:.3f} '.format(min_loss, loss_per_validation_batch))\n",
    "            decrease = self.patience\n",
    "            print('saving model...')\n",
    "            torch.save(model, self.path + '/Transformer.pt')\n",
    "        else:\n",
    "            decrease -= 1\n",
    "        if decrease < 0:\n",
    "                print('[***] end training ...')      \n",
    "                not_improved = 1\n",
    "        else:\n",
    "            not_improved = 0\n",
    "        return decrease, not_improved\n",
    "    \n",
    "    def get_best_model(self):\n",
    "        \n",
    "        model = torch.load(self.path + '/Transformer.pt')\n",
    "        return model\n",
    "            \n",
    "            \n",
    "        \n",
    "        \n",
    "            "
   ]
  },
  {
   "cell_type": "code",
   "execution_count": 613,
   "metadata": {
    "tags": []
   },
   "outputs": [],
   "source": [
    "model = Transformer(\n",
    "    num_outputs=1, dim_model=8, num_heads=8, num_encoder_layers=6, num_decoder_layers=3, dropout_p=0.1\n",
    ").to(device)\n",
    "\n",
    "lr_ = 1e-3\n",
    "epoch = 200\n",
    "weight_decay = 1e-4\n",
    "path = '.'\n",
    "\n",
    "loss = torch.nn.MSELoss()\n",
    "optimizer = torch.optim.AdamW(model.parameters(), lr=lr_, weight_decay=weight_decay)\n",
    "sched = torch.optim.lr_scheduler.OneCycleLR(optimizer, lr_, epochs=epoch,\n",
    "                                            steps_per_epoch=len(train_loader))\n",
    "\n",
    "training = Training(epoch, loss, optimizer, sched, path, patience=10)"
   ]
  },
  {
   "cell_type": "code",
   "execution_count": 614,
   "metadata": {
    "tags": []
   },
   "outputs": [
    {
     "name": "stderr",
     "output_type": "stream",
     "text": [
      "100%|██████████| 148/148 [00:02<00:00, 49.50it/s]\n",
      "100%|██████████| 19/19 [00:00<00:00, 289.99it/s]\n"
     ]
    },
    {
     "name": "stdout",
     "output_type": "stream",
     "text": [
      "Loss Decreasing.. inf >> 389193.524 \n",
      "saving model...\n",
      "Epoch:1/200.. Train Loss: 421037.470.. Val Loss: 389193.524.. Time: 0.05m\n"
     ]
    },
    {
     "name": "stderr",
     "output_type": "stream",
     "text": [
      "100%|██████████| 148/148 [00:03<00:00, 48.86it/s]\n",
      "100%|██████████| 19/19 [00:00<00:00, 288.48it/s]\n"
     ]
    },
    {
     "name": "stdout",
     "output_type": "stream",
     "text": [
      "Loss Decreasing.. 389193.524 >> 383733.598 \n",
      "saving model...\n",
      "Epoch:2/200.. Train Loss: 420689.995.. Val Loss: 383733.598.. Time: 0.05m\n"
     ]
    },
    {
     "name": "stderr",
     "output_type": "stream",
     "text": [
      "100%|██████████| 148/148 [00:02<00:00, 49.48it/s]\n",
      "100%|██████████| 19/19 [00:00<00:00, 286.95it/s]\n"
     ]
    },
    {
     "name": "stdout",
     "output_type": "stream",
     "text": [
      "Loss Decreasing.. 383733.598 >> 349910.706 \n",
      "saving model...\n",
      "Epoch:3/200.. Train Loss: 421974.414.. Val Loss: 349910.706.. Time: 0.05m\n"
     ]
    },
    {
     "name": "stderr",
     "output_type": "stream",
     "text": [
      "100%|██████████| 148/148 [00:03<00:00, 49.17it/s]\n",
      "100%|██████████| 19/19 [00:00<00:00, 287.78it/s]\n"
     ]
    },
    {
     "name": "stdout",
     "output_type": "stream",
     "text": [
      "Epoch:4/200.. Train Loss: 420607.613.. Val Loss: 397856.137.. Time: 0.05m\n"
     ]
    },
    {
     "name": "stderr",
     "output_type": "stream",
     "text": [
      "100%|██████████| 148/148 [00:03<00:00, 49.12it/s]\n",
      "100%|██████████| 19/19 [00:00<00:00, 279.24it/s]\n"
     ]
    },
    {
     "name": "stdout",
     "output_type": "stream",
     "text": [
      "Loss Decreasing.. 349910.706 >> 349786.644 \n",
      "saving model...\n",
      "Epoch:5/200.. Train Loss: 419497.629.. Val Loss: 349786.644.. Time: 0.05m\n"
     ]
    },
    {
     "name": "stderr",
     "output_type": "stream",
     "text": [
      "100%|██████████| 148/148 [00:03<00:00, 48.71it/s]\n",
      "100%|██████████| 19/19 [00:00<00:00, 292.86it/s]\n"
     ]
    },
    {
     "name": "stdout",
     "output_type": "stream",
     "text": [
      "Loss Decreasing.. 349786.644 >> 349711.869 \n",
      "saving model...\n",
      "Epoch:6/200.. Train Loss: 420229.365.. Val Loss: 349711.869.. Time: 0.05m\n"
     ]
    },
    {
     "name": "stderr",
     "output_type": "stream",
     "text": [
      "100%|██████████| 148/148 [00:03<00:00, 48.65it/s]\n",
      "100%|██████████| 19/19 [00:00<00:00, 287.88it/s]\n"
     ]
    },
    {
     "name": "stdout",
     "output_type": "stream",
     "text": [
      "Epoch:7/200.. Train Loss: 420172.102.. Val Loss: 399623.127.. Time: 0.05m\n"
     ]
    },
    {
     "name": "stderr",
     "output_type": "stream",
     "text": [
      "100%|██████████| 148/148 [00:03<00:00, 48.79it/s]\n",
      "100%|██████████| 19/19 [00:00<00:00, 284.98it/s]\n"
     ]
    },
    {
     "name": "stdout",
     "output_type": "stream",
     "text": [
      "Loss Decreasing.. 349711.869 >> 349520.828 \n",
      "saving model...\n",
      "Epoch:8/200.. Train Loss: 424421.525.. Val Loss: 349520.828.. Time: 0.05m\n"
     ]
    },
    {
     "name": "stderr",
     "output_type": "stream",
     "text": [
      "100%|██████████| 148/148 [00:02<00:00, 49.38it/s]\n",
      "100%|██████████| 19/19 [00:00<00:00, 286.80it/s]\n"
     ]
    },
    {
     "name": "stdout",
     "output_type": "stream",
     "text": [
      "Loss Decreasing.. 349520.828 >> 349396.041 \n",
      "saving model...\n",
      "Epoch:9/200.. Train Loss: 418970.263.. Val Loss: 349396.041.. Time: 0.05m\n"
     ]
    },
    {
     "name": "stderr",
     "output_type": "stream",
     "text": [
      "100%|██████████| 148/148 [00:02<00:00, 49.45it/s]\n",
      "100%|██████████| 19/19 [00:00<00:00, 285.40it/s]\n"
     ]
    },
    {
     "name": "stdout",
     "output_type": "stream",
     "text": [
      "Loss Decreasing.. 349396.041 >> 349250.031 \n",
      "saving model...\n",
      "Epoch:10/200.. Train Loss: 418787.934.. Val Loss: 349250.031.. Time: 0.05m\n"
     ]
    },
    {
     "name": "stderr",
     "output_type": "stream",
     "text": [
      "100%|██████████| 148/148 [00:03<00:00, 49.19it/s]\n",
      "100%|██████████| 19/19 [00:00<00:00, 295.93it/s]\n"
     ]
    },
    {
     "name": "stdout",
     "output_type": "stream",
     "text": [
      "Epoch:11/200.. Train Loss: 419285.784.. Val Loss: 395519.914.. Time: 0.05m\n"
     ]
    },
    {
     "name": "stderr",
     "output_type": "stream",
     "text": [
      "100%|██████████| 148/148 [00:02<00:00, 49.43it/s]\n",
      "100%|██████████| 19/19 [00:00<00:00, 286.48it/s]\n"
     ]
    },
    {
     "name": "stdout",
     "output_type": "stream",
     "text": [
      "Loss Decreasing.. 349250.031 >> 348869.703 \n",
      "saving model...\n",
      "Epoch:12/200.. Train Loss: 418951.289.. Val Loss: 348869.703.. Time: 0.05m\n"
     ]
    },
    {
     "name": "stderr",
     "output_type": "stream",
     "text": [
      "100%|██████████| 148/148 [00:03<00:00, 48.64it/s]\n",
      "100%|██████████| 19/19 [00:00<00:00, 285.76it/s]\n"
     ]
    },
    {
     "name": "stdout",
     "output_type": "stream",
     "text": [
      "Loss Decreasing.. 348869.703 >> 348621.789 \n",
      "saving model...\n",
      "Epoch:13/200.. Train Loss: 418660.578.. Val Loss: 348621.789.. Time: 0.05m\n"
     ]
    },
    {
     "name": "stderr",
     "output_type": "stream",
     "text": [
      "100%|██████████| 148/148 [00:03<00:00, 49.33it/s]\n",
      "100%|██████████| 19/19 [00:00<00:00, 282.24it/s]\n"
     ]
    },
    {
     "name": "stdout",
     "output_type": "stream",
     "text": [
      "Epoch:14/200.. Train Loss: 419222.515.. Val Loss: 393909.446.. Time: 0.05m\n"
     ]
    },
    {
     "name": "stderr",
     "output_type": "stream",
     "text": [
      "100%|██████████| 148/148 [00:03<00:00, 48.67it/s]\n",
      "100%|██████████| 19/19 [00:00<00:00, 271.46it/s]\n"
     ]
    },
    {
     "name": "stdout",
     "output_type": "stream",
     "text": [
      "Loss Decreasing.. 348621.789 >> 347981.119 \n",
      "saving model...\n",
      "Epoch:15/200.. Train Loss: 420978.870.. Val Loss: 347981.119.. Time: 0.05m\n"
     ]
    },
    {
     "name": "stderr",
     "output_type": "stream",
     "text": [
      "100%|██████████| 148/148 [00:02<00:00, 49.47it/s]\n",
      "100%|██████████| 19/19 [00:00<00:00, 281.03it/s]\n"
     ]
    },
    {
     "name": "stdout",
     "output_type": "stream",
     "text": [
      "Epoch:16/200.. Train Loss: 418534.970.. Val Loss: 350304.917.. Time: 0.05m\n"
     ]
    },
    {
     "name": "stderr",
     "output_type": "stream",
     "text": [
      "100%|██████████| 148/148 [00:03<00:00, 49.33it/s]\n",
      "100%|██████████| 19/19 [00:00<00:00, 279.63it/s]\n"
     ]
    },
    {
     "name": "stdout",
     "output_type": "stream",
     "text": [
      "Epoch:17/200.. Train Loss: 416169.902.. Val Loss: 391336.001.. Time: 0.05m\n"
     ]
    },
    {
     "name": "stderr",
     "output_type": "stream",
     "text": [
      "100%|██████████| 148/148 [00:03<00:00, 49.16it/s]\n",
      "100%|██████████| 19/19 [00:00<00:00, 283.07it/s]\n"
     ]
    },
    {
     "name": "stdout",
     "output_type": "stream",
     "text": [
      "Loss Decreasing.. 347981.119 >> 346512.153 \n",
      "saving model...\n",
      "Epoch:18/200.. Train Loss: 419794.743.. Val Loss: 346512.153.. Time: 0.05m\n"
     ]
    },
    {
     "name": "stderr",
     "output_type": "stream",
     "text": [
      "100%|██████████| 148/148 [00:02<00:00, 49.37it/s]\n",
      "100%|██████████| 19/19 [00:00<00:00, 289.55it/s]\n"
     ]
    },
    {
     "name": "stdout",
     "output_type": "stream",
     "text": [
      "Loss Decreasing.. 346512.153 >> 345852.526 \n",
      "saving model...\n",
      "Epoch:19/200.. Train Loss: 421196.250.. Val Loss: 345852.526.. Time: 0.05m\n"
     ]
    },
    {
     "name": "stderr",
     "output_type": "stream",
     "text": [
      "100%|██████████| 148/148 [00:03<00:00, 49.16it/s]\n",
      "100%|██████████| 19/19 [00:00<00:00, 279.40it/s]\n"
     ]
    },
    {
     "name": "stdout",
     "output_type": "stream",
     "text": [
      "Epoch:20/200.. Train Loss: 414775.407.. Val Loss: 346049.059.. Time: 0.05m\n"
     ]
    },
    {
     "name": "stderr",
     "output_type": "stream",
     "text": [
      "100%|██████████| 148/148 [00:03<00:00, 49.02it/s]\n",
      "100%|██████████| 19/19 [00:00<00:00, 282.72it/s]\n"
     ]
    },
    {
     "name": "stdout",
     "output_type": "stream",
     "text": [
      "Loss Decreasing.. 345852.526 >> 344212.320 \n",
      "saving model...\n",
      "Epoch:21/200.. Train Loss: 413349.820.. Val Loss: 344212.320.. Time: 0.05m\n"
     ]
    },
    {
     "name": "stderr",
     "output_type": "stream",
     "text": [
      "100%|██████████| 148/148 [00:03<00:00, 48.56it/s]\n",
      "100%|██████████| 19/19 [00:00<00:00, 285.60it/s]\n"
     ]
    },
    {
     "name": "stdout",
     "output_type": "stream",
     "text": [
      "Epoch:22/200.. Train Loss: 412189.723.. Val Loss: 385156.274.. Time: 0.05m\n"
     ]
    },
    {
     "name": "stderr",
     "output_type": "stream",
     "text": [
      "100%|██████████| 148/148 [00:03<00:00, 48.93it/s]\n",
      "100%|██████████| 19/19 [00:00<00:00, 292.01it/s]\n"
     ]
    },
    {
     "name": "stdout",
     "output_type": "stream",
     "text": [
      "Loss Decreasing.. 344212.320 >> 342049.843 \n",
      "saving model...\n",
      "Epoch:23/200.. Train Loss: 413339.290.. Val Loss: 342049.843.. Time: 0.05m\n"
     ]
    },
    {
     "name": "stderr",
     "output_type": "stream",
     "text": [
      "100%|██████████| 148/148 [00:03<00:00, 49.00it/s]\n",
      "100%|██████████| 19/19 [00:00<00:00, 282.37it/s]\n"
     ]
    },
    {
     "name": "stdout",
     "output_type": "stream",
     "text": [
      "Epoch:24/200.. Train Loss: 409077.242.. Val Loss: 384168.201.. Time: 0.05m\n"
     ]
    },
    {
     "name": "stderr",
     "output_type": "stream",
     "text": [
      "100%|██████████| 148/148 [00:03<00:00, 49.11it/s]\n",
      "100%|██████████| 19/19 [00:00<00:00, 274.72it/s]\n"
     ]
    },
    {
     "name": "stdout",
     "output_type": "stream",
     "text": [
      "Epoch:25/200.. Train Loss: 406513.085.. Val Loss: 370207.475.. Time: 0.05m\n"
     ]
    },
    {
     "name": "stderr",
     "output_type": "stream",
     "text": [
      "100%|██████████| 148/148 [00:03<00:00, 49.26it/s]\n",
      "100%|██████████| 19/19 [00:00<00:00, 273.51it/s]\n"
     ]
    },
    {
     "name": "stdout",
     "output_type": "stream",
     "text": [
      "Loss Decreasing.. 342049.843 >> 337534.327 \n",
      "saving model...\n",
      "Epoch:26/200.. Train Loss: 407981.431.. Val Loss: 337534.327.. Time: 0.05m\n"
     ]
    },
    {
     "name": "stderr",
     "output_type": "stream",
     "text": [
      "100%|██████████| 148/148 [00:03<00:00, 49.10it/s]\n",
      "100%|██████████| 19/19 [00:00<00:00, 281.28it/s]\n"
     ]
    },
    {
     "name": "stdout",
     "output_type": "stream",
     "text": [
      "Epoch:27/200.. Train Loss: 402032.673.. Val Loss: 376647.002.. Time: 0.05m\n"
     ]
    },
    {
     "name": "stderr",
     "output_type": "stream",
     "text": [
      "100%|██████████| 148/148 [00:03<00:00, 49.30it/s]\n",
      "100%|██████████| 19/19 [00:00<00:00, 284.53it/s]\n"
     ]
    },
    {
     "name": "stdout",
     "output_type": "stream",
     "text": [
      "Epoch:28/200.. Train Loss: 401610.921.. Val Loss: 363194.414.. Time: 0.05m\n"
     ]
    },
    {
     "name": "stderr",
     "output_type": "stream",
     "text": [
      "100%|██████████| 148/148 [00:02<00:00, 49.37it/s]\n",
      "100%|██████████| 19/19 [00:00<00:00, 280.39it/s]\n"
     ]
    },
    {
     "name": "stdout",
     "output_type": "stream",
     "text": [
      "Loss Decreasing.. 337534.327 >> 332196.515 \n",
      "saving model...\n",
      "Epoch:29/200.. Train Loss: 399685.284.. Val Loss: 332196.515.. Time: 0.05m\n"
     ]
    },
    {
     "name": "stderr",
     "output_type": "stream",
     "text": [
      "100%|██████████| 148/148 [00:02<00:00, 49.43it/s]\n",
      "100%|██████████| 19/19 [00:00<00:00, 286.74it/s]\n"
     ]
    },
    {
     "name": "stdout",
     "output_type": "stream",
     "text": [
      "Loss Decreasing.. 332196.515 >> 328561.556 \n",
      "saving model...\n",
      "Epoch:30/200.. Train Loss: 394824.858.. Val Loss: 328561.556.. Time: 0.05m\n"
     ]
    },
    {
     "name": "stderr",
     "output_type": "stream",
     "text": [
      "100%|██████████| 148/148 [00:02<00:00, 49.38it/s]\n",
      "100%|██████████| 19/19 [00:00<00:00, 280.44it/s]\n"
     ]
    },
    {
     "name": "stdout",
     "output_type": "stream",
     "text": [
      "Loss Decreasing.. 328561.556 >> 325720.963 \n",
      "saving model...\n",
      "Epoch:31/200.. Train Loss: 390766.327.. Val Loss: 325720.963.. Time: 0.05m\n"
     ]
    },
    {
     "name": "stderr",
     "output_type": "stream",
     "text": [
      "100%|██████████| 148/148 [00:02<00:00, 49.34it/s]\n",
      "100%|██████████| 19/19 [00:00<00:00, 284.40it/s]\n"
     ]
    },
    {
     "name": "stdout",
     "output_type": "stream",
     "text": [
      "Loss Decreasing.. 325720.963 >> 322593.091 \n",
      "saving model...\n",
      "Epoch:32/200.. Train Loss: 386498.186.. Val Loss: 322593.091.. Time: 0.05m\n"
     ]
    },
    {
     "name": "stderr",
     "output_type": "stream",
     "text": [
      "100%|██████████| 148/148 [00:03<00:00, 49.03it/s]\n",
      "100%|██████████| 19/19 [00:00<00:00, 279.64it/s]\n"
     ]
    },
    {
     "name": "stdout",
     "output_type": "stream",
     "text": [
      "Epoch:33/200.. Train Loss: 384249.609.. Val Loss: 358184.894.. Time: 0.05m\n"
     ]
    },
    {
     "name": "stderr",
     "output_type": "stream",
     "text": [
      "100%|██████████| 148/148 [00:03<00:00, 48.81it/s]\n",
      "100%|██████████| 19/19 [00:00<00:00, 286.79it/s]\n"
     ]
    },
    {
     "name": "stdout",
     "output_type": "stream",
     "text": [
      "Loss Decreasing.. 322593.091 >> 315600.082 \n",
      "saving model...\n",
      "Epoch:34/200.. Train Loss: 376428.186.. Val Loss: 315600.082.. Time: 0.05m\n"
     ]
    },
    {
     "name": "stderr",
     "output_type": "stream",
     "text": [
      "100%|██████████| 148/148 [00:03<00:00, 49.03it/s]\n",
      "100%|██████████| 19/19 [00:00<00:00, 282.24it/s]\n"
     ]
    },
    {
     "name": "stdout",
     "output_type": "stream",
     "text": [
      "Loss Decreasing.. 315600.082 >> 311810.642 \n",
      "saving model...\n",
      "Epoch:35/200.. Train Loss: 374298.121.. Val Loss: 311810.642.. Time: 0.05m\n"
     ]
    },
    {
     "name": "stderr",
     "output_type": "stream",
     "text": [
      "100%|██████████| 148/148 [00:03<00:00, 49.31it/s]\n",
      "100%|██████████| 19/19 [00:00<00:00, 284.15it/s]\n"
     ]
    },
    {
     "name": "stdout",
     "output_type": "stream",
     "text": [
      "Loss Decreasing.. 311810.642 >> 307672.121 \n",
      "saving model...\n",
      "Epoch:36/200.. Train Loss: 367633.574.. Val Loss: 307672.121.. Time: 0.05m\n"
     ]
    },
    {
     "name": "stderr",
     "output_type": "stream",
     "text": [
      "100%|██████████| 148/148 [00:03<00:00, 48.98it/s]\n",
      "100%|██████████| 19/19 [00:00<00:00, 286.69it/s]\n"
     ]
    },
    {
     "name": "stdout",
     "output_type": "stream",
     "text": [
      "Loss Decreasing.. 307672.121 >> 303418.658 \n",
      "saving model...\n",
      "Epoch:37/200.. Train Loss: 363391.824.. Val Loss: 303418.658.. Time: 0.05m\n"
     ]
    },
    {
     "name": "stderr",
     "output_type": "stream",
     "text": [
      "100%|██████████| 148/148 [00:03<00:00, 47.94it/s]\n",
      "100%|██████████| 19/19 [00:00<00:00, 282.91it/s]\n"
     ]
    },
    {
     "name": "stdout",
     "output_type": "stream",
     "text": [
      "Loss Decreasing.. 303418.658 >> 298968.564 \n",
      "saving model...\n",
      "Epoch:38/200.. Train Loss: 357336.365.. Val Loss: 298968.564.. Time: 0.05m\n"
     ]
    },
    {
     "name": "stderr",
     "output_type": "stream",
     "text": [
      "100%|██████████| 148/148 [00:03<00:00, 49.22it/s]\n",
      "100%|██████████| 19/19 [00:00<00:00, 285.53it/s]\n"
     ]
    },
    {
     "name": "stdout",
     "output_type": "stream",
     "text": [
      "Loss Decreasing.. 298968.564 >> 294320.182 \n",
      "saving model...\n",
      "Epoch:39/200.. Train Loss: 349869.901.. Val Loss: 294320.182.. Time: 0.05m\n"
     ]
    },
    {
     "name": "stderr",
     "output_type": "stream",
     "text": [
      "100%|██████████| 148/148 [00:02<00:00, 49.36it/s]\n",
      "100%|██████████| 19/19 [00:00<00:00, 290.56it/s]\n"
     ]
    },
    {
     "name": "stdout",
     "output_type": "stream",
     "text": [
      "Loss Decreasing.. 294320.182 >> 289628.793 \n",
      "saving model...\n",
      "Epoch:40/200.. Train Loss: 342191.131.. Val Loss: 289628.793.. Time: 0.05m\n"
     ]
    },
    {
     "name": "stderr",
     "output_type": "stream",
     "text": [
      "100%|██████████| 148/148 [00:03<00:00, 49.24it/s]\n",
      "100%|██████████| 19/19 [00:00<00:00, 281.96it/s]\n"
     ]
    },
    {
     "name": "stdout",
     "output_type": "stream",
     "text": [
      "Loss Decreasing.. 289628.793 >> 284837.873 \n",
      "saving model...\n",
      "Epoch:41/200.. Train Loss: 334417.772.. Val Loss: 284837.873.. Time: 0.05m\n"
     ]
    },
    {
     "name": "stderr",
     "output_type": "stream",
     "text": [
      "100%|██████████| 148/148 [00:03<00:00, 49.12it/s]\n",
      "100%|██████████| 19/19 [00:00<00:00, 289.62it/s]\n"
     ]
    },
    {
     "name": "stdout",
     "output_type": "stream",
     "text": [
      "Loss Decreasing.. 284837.873 >> 280000.001 \n",
      "saving model...\n",
      "Epoch:42/200.. Train Loss: 329630.344.. Val Loss: 280000.001.. Time: 0.05m\n"
     ]
    },
    {
     "name": "stderr",
     "output_type": "stream",
     "text": [
      "100%|██████████| 148/148 [00:03<00:00, 49.30it/s]\n",
      "100%|██████████| 19/19 [00:00<00:00, 291.67it/s]\n"
     ]
    },
    {
     "name": "stdout",
     "output_type": "stream",
     "text": [
      "Epoch:43/200.. Train Loss: 320377.142.. Val Loss: 306733.776.. Time: 0.05m\n"
     ]
    },
    {
     "name": "stderr",
     "output_type": "stream",
     "text": [
      "100%|██████████| 148/148 [00:03<00:00, 49.12it/s]\n",
      "100%|██████████| 19/19 [00:00<00:00, 283.86it/s]\n"
     ]
    },
    {
     "name": "stdout",
     "output_type": "stream",
     "text": [
      "Loss Decreasing.. 280000.001 >> 270217.320 \n",
      "saving model...\n",
      "Epoch:44/200.. Train Loss: 313686.551.. Val Loss: 270217.320.. Time: 0.05m\n"
     ]
    },
    {
     "name": "stderr",
     "output_type": "stream",
     "text": [
      "100%|██████████| 148/148 [00:02<00:00, 49.48it/s]\n",
      "100%|██████████| 19/19 [00:00<00:00, 290.07it/s]\n"
     ]
    },
    {
     "name": "stdout",
     "output_type": "stream",
     "text": [
      "Loss Decreasing.. 270217.320 >> 265559.770 \n",
      "saving model...\n",
      "Epoch:45/200.. Train Loss: 306218.303.. Val Loss: 265559.770.. Time: 0.05m\n"
     ]
    },
    {
     "name": "stderr",
     "output_type": "stream",
     "text": [
      "100%|██████████| 148/148 [00:02<00:00, 49.45it/s]\n",
      "100%|██████████| 19/19 [00:00<00:00, 290.59it/s]\n"
     ]
    },
    {
     "name": "stdout",
     "output_type": "stream",
     "text": [
      "Loss Decreasing.. 265559.770 >> 248886.430 \n",
      "saving model...\n",
      "Epoch:46/200.. Train Loss: 297058.556.. Val Loss: 248886.430.. Time: 0.05m\n"
     ]
    },
    {
     "name": "stderr",
     "output_type": "stream",
     "text": [
      "100%|██████████| 148/148 [00:03<00:00, 49.23it/s]\n",
      "100%|██████████| 19/19 [00:00<00:00, 290.54it/s]\n"
     ]
    },
    {
     "name": "stdout",
     "output_type": "stream",
     "text": [
      "Epoch:47/200.. Train Loss: 284645.446.. Val Loss: 280069.701.. Time: 0.05m\n"
     ]
    },
    {
     "name": "stderr",
     "output_type": "stream",
     "text": [
      "100%|██████████| 148/148 [00:03<00:00, 48.96it/s]\n",
      "100%|██████████| 19/19 [00:00<00:00, 286.87it/s]\n"
     ]
    },
    {
     "name": "stdout",
     "output_type": "stream",
     "text": [
      "Epoch:48/200.. Train Loss: 273483.946.. Val Loss: 268782.438.. Time: 0.05m\n"
     ]
    },
    {
     "name": "stderr",
     "output_type": "stream",
     "text": [
      "100%|██████████| 148/148 [00:03<00:00, 48.77it/s]\n",
      "100%|██████████| 19/19 [00:00<00:00, 280.66it/s]\n"
     ]
    },
    {
     "name": "stdout",
     "output_type": "stream",
     "text": [
      "Epoch:49/200.. Train Loss: 263901.337.. Val Loss: 253021.197.. Time: 0.05m\n"
     ]
    },
    {
     "name": "stderr",
     "output_type": "stream",
     "text": [
      "100%|██████████| 148/148 [00:03<00:00, 49.24it/s]\n",
      "100%|██████████| 19/19 [00:00<00:00, 285.60it/s]\n"
     ]
    },
    {
     "name": "stdout",
     "output_type": "stream",
     "text": [
      "Loss Decreasing.. 248886.430 >> 218514.601 \n",
      "saving model...\n",
      "Epoch:50/200.. Train Loss: 257873.300.. Val Loss: 218514.601.. Time: 0.05m\n"
     ]
    },
    {
     "name": "stderr",
     "output_type": "stream",
     "text": [
      "100%|██████████| 148/148 [00:03<00:00, 48.89it/s]\n",
      "100%|██████████| 19/19 [00:00<00:00, 290.71it/s]\n"
     ]
    },
    {
     "name": "stdout",
     "output_type": "stream",
     "text": [
      "Loss Decreasing.. 218514.601 >> 210154.916 \n",
      "saving model...\n",
      "Epoch:51/200.. Train Loss: 244944.431.. Val Loss: 210154.916.. Time: 0.05m\n"
     ]
    },
    {
     "name": "stderr",
     "output_type": "stream",
     "text": [
      "100%|██████████| 148/148 [00:03<00:00, 48.85it/s]\n",
      "100%|██████████| 19/19 [00:00<00:00, 290.10it/s]\n"
     ]
    },
    {
     "name": "stdout",
     "output_type": "stream",
     "text": [
      "Loss Decreasing.. 210154.916 >> 202822.682 \n",
      "saving model...\n",
      "Epoch:52/200.. Train Loss: 235285.279.. Val Loss: 202822.682.. Time: 0.05m\n"
     ]
    },
    {
     "name": "stderr",
     "output_type": "stream",
     "text": [
      "100%|██████████| 148/148 [00:03<00:00, 48.99it/s]\n",
      "100%|██████████| 19/19 [00:00<00:00, 282.58it/s]\n"
     ]
    },
    {
     "name": "stdout",
     "output_type": "stream",
     "text": [
      "Epoch:53/200.. Train Loss: 225659.823.. Val Loss: 218982.281.. Time: 0.05m\n"
     ]
    },
    {
     "name": "stderr",
     "output_type": "stream",
     "text": [
      "100%|██████████| 148/148 [00:03<00:00, 48.38it/s]\n",
      "100%|██████████| 19/19 [00:00<00:00, 281.54it/s]\n"
     ]
    },
    {
     "name": "stdout",
     "output_type": "stream",
     "text": [
      "Loss Decreasing.. 202822.682 >> 202313.528 \n",
      "saving model...\n",
      "Epoch:54/200.. Train Loss: 216314.183.. Val Loss: 202313.528.. Time: 0.05m\n"
     ]
    },
    {
     "name": "stderr",
     "output_type": "stream",
     "text": [
      "100%|██████████| 148/148 [00:03<00:00, 49.04it/s]\n",
      "100%|██████████| 19/19 [00:00<00:00, 285.15it/s]\n"
     ]
    },
    {
     "name": "stdout",
     "output_type": "stream",
     "text": [
      "Loss Decreasing.. 202313.528 >> 180595.178 \n",
      "saving model...\n",
      "Epoch:55/200.. Train Loss: 207806.155.. Val Loss: 180595.178.. Time: 0.05m\n"
     ]
    },
    {
     "name": "stderr",
     "output_type": "stream",
     "text": [
      "100%|██████████| 148/148 [00:02<00:00, 49.35it/s]\n",
      "100%|██████████| 19/19 [00:00<00:00, 286.33it/s]\n"
     ]
    },
    {
     "name": "stdout",
     "output_type": "stream",
     "text": [
      "Loss Decreasing.. 180595.178 >> 178087.882 \n",
      "saving model...\n",
      "Epoch:56/200.. Train Loss: 197926.213.. Val Loss: 178087.882.. Time: 0.05m\n"
     ]
    },
    {
     "name": "stderr",
     "output_type": "stream",
     "text": [
      "100%|██████████| 148/148 [00:03<00:00, 49.08it/s]\n",
      "100%|██████████| 19/19 [00:00<00:00, 289.91it/s]\n"
     ]
    },
    {
     "name": "stdout",
     "output_type": "stream",
     "text": [
      "Loss Decreasing.. 178087.882 >> 171968.840 \n",
      "saving model...\n",
      "Epoch:57/200.. Train Loss: 189150.401.. Val Loss: 171968.840.. Time: 0.05m\n"
     ]
    },
    {
     "name": "stderr",
     "output_type": "stream",
     "text": [
      "100%|██████████| 148/148 [00:03<00:00, 48.34it/s]\n",
      "100%|██████████| 19/19 [00:00<00:00, 286.46it/s]\n"
     ]
    },
    {
     "name": "stdout",
     "output_type": "stream",
     "text": [
      "Epoch:58/200.. Train Loss: 181542.640.. Val Loss: 172213.142.. Time: 0.05m\n"
     ]
    },
    {
     "name": "stderr",
     "output_type": "stream",
     "text": [
      "100%|██████████| 148/148 [00:03<00:00, 48.65it/s]\n",
      "100%|██████████| 19/19 [00:00<00:00, 281.97it/s]\n"
     ]
    },
    {
     "name": "stdout",
     "output_type": "stream",
     "text": [
      "Loss Decreasing.. 171968.840 >> 154638.997 \n",
      "saving model...\n",
      "Epoch:59/200.. Train Loss: 172540.098.. Val Loss: 154638.997.. Time: 0.05m\n"
     ]
    },
    {
     "name": "stderr",
     "output_type": "stream",
     "text": [
      "100%|██████████| 148/148 [00:03<00:00, 49.19it/s]\n",
      "100%|██████████| 19/19 [00:00<00:00, 280.33it/s]\n"
     ]
    },
    {
     "name": "stdout",
     "output_type": "stream",
     "text": [
      "Loss Decreasing.. 154638.997 >> 149013.215 \n",
      "saving model...\n",
      "Epoch:60/200.. Train Loss: 165680.965.. Val Loss: 149013.215.. Time: 0.05m\n"
     ]
    },
    {
     "name": "stderr",
     "output_type": "stream",
     "text": [
      "100%|██████████| 148/148 [00:02<00:00, 49.46it/s]\n",
      "100%|██████████| 19/19 [00:00<00:00, 283.36it/s]\n"
     ]
    },
    {
     "name": "stdout",
     "output_type": "stream",
     "text": [
      "Loss Decreasing.. 149013.215 >> 143818.563 \n",
      "saving model...\n",
      "Epoch:61/200.. Train Loss: 159840.670.. Val Loss: 143818.563.. Time: 0.05m\n"
     ]
    },
    {
     "name": "stderr",
     "output_type": "stream",
     "text": [
      "100%|██████████| 148/148 [00:02<00:00, 49.43it/s]\n",
      "100%|██████████| 19/19 [00:00<00:00, 289.74it/s]\n"
     ]
    },
    {
     "name": "stdout",
     "output_type": "stream",
     "text": [
      "Epoch:62/200.. Train Loss: 152328.132.. Val Loss: 146468.668.. Time: 0.05m\n"
     ]
    },
    {
     "name": "stderr",
     "output_type": "stream",
     "text": [
      "100%|██████████| 148/148 [00:02<00:00, 49.46it/s]\n",
      "100%|██████████| 19/19 [00:00<00:00, 290.84it/s]\n"
     ]
    },
    {
     "name": "stdout",
     "output_type": "stream",
     "text": [
      "Loss Decreasing.. 143818.563 >> 134168.625 \n",
      "saving model...\n",
      "Epoch:63/200.. Train Loss: 145542.511.. Val Loss: 134168.625.. Time: 0.05m\n"
     ]
    },
    {
     "name": "stderr",
     "output_type": "stream",
     "text": [
      "100%|██████████| 148/148 [00:03<00:00, 49.07it/s]\n",
      "100%|██████████| 19/19 [00:00<00:00, 288.27it/s]\n"
     ]
    },
    {
     "name": "stdout",
     "output_type": "stream",
     "text": [
      "Epoch:64/200.. Train Loss: 142278.209.. Val Loss: 144623.953.. Time: 0.05m\n"
     ]
    },
    {
     "name": "stderr",
     "output_type": "stream",
     "text": [
      "100%|██████████| 148/148 [00:03<00:00, 49.32it/s]\n",
      "100%|██████████| 19/19 [00:00<00:00, 288.09it/s]\n"
     ]
    },
    {
     "name": "stdout",
     "output_type": "stream",
     "text": [
      "Loss Decreasing.. 134168.625 >> 126261.703 \n",
      "saving model...\n",
      "Epoch:65/200.. Train Loss: 135434.756.. Val Loss: 126261.703.. Time: 0.05m\n"
     ]
    },
    {
     "name": "stderr",
     "output_type": "stream",
     "text": [
      "100%|██████████| 148/148 [00:02<00:00, 49.42it/s]\n",
      "100%|██████████| 19/19 [00:00<00:00, 286.69it/s]\n"
     ]
    },
    {
     "name": "stdout",
     "output_type": "stream",
     "text": [
      "Loss Decreasing.. 126261.703 >> 122757.195 \n",
      "saving model...\n",
      "Epoch:66/200.. Train Loss: 132278.355.. Val Loss: 122757.195.. Time: 0.05m\n"
     ]
    },
    {
     "name": "stderr",
     "output_type": "stream",
     "text": [
      "100%|██████████| 148/148 [00:03<00:00, 48.78it/s]\n",
      "100%|██████████| 19/19 [00:00<00:00, 279.26it/s]\n"
     ]
    },
    {
     "name": "stdout",
     "output_type": "stream",
     "text": [
      "Epoch:67/200.. Train Loss: 130763.296.. Val Loss: 131498.263.. Time: 0.05m\n"
     ]
    },
    {
     "name": "stderr",
     "output_type": "stream",
     "text": [
      "100%|██████████| 148/148 [00:03<00:00, 48.83it/s]\n",
      "100%|██████████| 19/19 [00:00<00:00, 287.71it/s]\n"
     ]
    },
    {
     "name": "stdout",
     "output_type": "stream",
     "text": [
      "Loss Decreasing.. 122757.195 >> 116910.234 \n",
      "saving model...\n",
      "Epoch:68/200.. Train Loss: 123589.048.. Val Loss: 116910.234.. Time: 0.05m\n"
     ]
    },
    {
     "name": "stderr",
     "output_type": "stream",
     "text": [
      "100%|██████████| 148/148 [00:03<00:00, 49.05it/s]\n",
      "100%|██████████| 19/19 [00:00<00:00, 287.70it/s]\n"
     ]
    },
    {
     "name": "stdout",
     "output_type": "stream",
     "text": [
      "Epoch:69/200.. Train Loss: 120737.809.. Val Loss: 126313.277.. Time: 0.05m\n"
     ]
    },
    {
     "name": "stderr",
     "output_type": "stream",
     "text": [
      "100%|██████████| 148/148 [00:03<00:00, 49.28it/s]\n",
      "100%|██████████| 19/19 [00:00<00:00, 290.50it/s]\n"
     ]
    },
    {
     "name": "stdout",
     "output_type": "stream",
     "text": [
      "Epoch:70/200.. Train Loss: 120221.871.. Val Loss: 125767.933.. Time: 0.05m\n"
     ]
    },
    {
     "name": "stderr",
     "output_type": "stream",
     "text": [
      "100%|██████████| 148/148 [00:03<00:00, 48.80it/s]\n",
      "100%|██████████| 19/19 [00:00<00:00, 292.92it/s]\n"
     ]
    },
    {
     "name": "stdout",
     "output_type": "stream",
     "text": [
      "Loss Decreasing.. 116910.234 >> 110363.156 \n",
      "saving model...\n",
      "Epoch:71/200.. Train Loss: 116184.027.. Val Loss: 110363.156.. Time: 0.05m\n"
     ]
    },
    {
     "name": "stderr",
     "output_type": "stream",
     "text": [
      "100%|██████████| 148/148 [00:03<00:00, 48.84it/s]\n",
      "100%|██████████| 19/19 [00:00<00:00, 284.39it/s]\n"
     ]
    },
    {
     "name": "stdout",
     "output_type": "stream",
     "text": [
      "Epoch:72/200.. Train Loss: 112893.806.. Val Loss: 117607.433.. Time: 0.05m\n"
     ]
    },
    {
     "name": "stderr",
     "output_type": "stream",
     "text": [
      "100%|██████████| 148/148 [00:03<00:00, 49.13it/s]\n",
      "100%|██████████| 19/19 [00:00<00:00, 288.41it/s]\n"
     ]
    },
    {
     "name": "stdout",
     "output_type": "stream",
     "text": [
      "Loss Decreasing.. 110363.156 >> 107187.796 \n",
      "saving model...\n",
      "Epoch:73/200.. Train Loss: 112168.824.. Val Loss: 107187.796.. Time: 0.05m\n"
     ]
    },
    {
     "name": "stderr",
     "output_type": "stream",
     "text": [
      "100%|██████████| 148/148 [00:03<00:00, 48.99it/s]\n",
      "100%|██████████| 19/19 [00:00<00:00, 282.70it/s]\n"
     ]
    },
    {
     "name": "stdout",
     "output_type": "stream",
     "text": [
      "Epoch:74/200.. Train Loss: 109402.157.. Val Loss: 115602.192.. Time: 0.05m\n"
     ]
    },
    {
     "name": "stderr",
     "output_type": "stream",
     "text": [
      "100%|██████████| 148/148 [00:02<00:00, 49.34it/s]\n",
      "100%|██████████| 19/19 [00:00<00:00, 286.34it/s]\n"
     ]
    },
    {
     "name": "stdout",
     "output_type": "stream",
     "text": [
      "Loss Decreasing.. 107187.796 >> 99732.509 \n",
      "saving model...\n",
      "Epoch:75/200.. Train Loss: 108115.455.. Val Loss: 99732.509.. Time: 0.05m\n"
     ]
    },
    {
     "name": "stderr",
     "output_type": "stream",
     "text": [
      "100%|██████████| 148/148 [00:03<00:00, 48.89it/s]\n",
      "100%|██████████| 19/19 [00:00<00:00, 292.07it/s]\n"
     ]
    },
    {
     "name": "stdout",
     "output_type": "stream",
     "text": [
      "Epoch:76/200.. Train Loss: 103507.604.. Val Loss: 105284.284.. Time: 0.05m\n"
     ]
    },
    {
     "name": "stderr",
     "output_type": "stream",
     "text": [
      "100%|██████████| 148/148 [00:03<00:00, 47.99it/s]\n",
      "100%|██████████| 19/19 [00:00<00:00, 279.84it/s]\n"
     ]
    },
    {
     "name": "stdout",
     "output_type": "stream",
     "text": [
      "Loss Decreasing.. 99732.509 >> 97507.403 \n",
      "saving model...\n",
      "Epoch:77/200.. Train Loss: 103978.629.. Val Loss: 97507.403.. Time: 0.05m\n"
     ]
    },
    {
     "name": "stderr",
     "output_type": "stream",
     "text": [
      "100%|██████████| 148/148 [00:03<00:00, 48.67it/s]\n",
      "100%|██████████| 19/19 [00:00<00:00, 273.23it/s]\n"
     ]
    },
    {
     "name": "stdout",
     "output_type": "stream",
     "text": [
      "Epoch:78/200.. Train Loss: 99982.213.. Val Loss: 99380.257.. Time: 0.05m\n"
     ]
    },
    {
     "name": "stderr",
     "output_type": "stream",
     "text": [
      "100%|██████████| 148/148 [00:02<00:00, 49.38it/s]\n",
      "100%|██████████| 19/19 [00:00<00:00, 283.10it/s]\n"
     ]
    },
    {
     "name": "stdout",
     "output_type": "stream",
     "text": [
      "Loss Decreasing.. 97507.403 >> 96043.667 \n",
      "saving model...\n",
      "Epoch:79/200.. Train Loss: 102355.287.. Val Loss: 96043.667.. Time: 0.05m\n"
     ]
    },
    {
     "name": "stderr",
     "output_type": "stream",
     "text": [
      "100%|██████████| 148/148 [00:03<00:00, 49.17it/s]\n",
      "100%|██████████| 19/19 [00:00<00:00, 281.87it/s]\n"
     ]
    },
    {
     "name": "stdout",
     "output_type": "stream",
     "text": [
      "Epoch:80/200.. Train Loss: 97914.983.. Val Loss: 102830.608.. Time: 0.05m\n"
     ]
    },
    {
     "name": "stderr",
     "output_type": "stream",
     "text": [
      "100%|██████████| 148/148 [00:03<00:00, 49.17it/s]\n",
      "100%|██████████| 19/19 [00:00<00:00, 284.17it/s]\n"
     ]
    },
    {
     "name": "stdout",
     "output_type": "stream",
     "text": [
      "Epoch:81/200.. Train Loss: 99612.780.. Val Loss: 96392.240.. Time: 0.05m\n"
     ]
    },
    {
     "name": "stderr",
     "output_type": "stream",
     "text": [
      "100%|██████████| 148/148 [00:03<00:00, 49.29it/s]\n",
      "100%|██████████| 19/19 [00:00<00:00, 290.05it/s]\n"
     ]
    },
    {
     "name": "stdout",
     "output_type": "stream",
     "text": [
      "Epoch:82/200.. Train Loss: 99642.722.. Val Loss: 111971.572.. Time: 0.05m\n"
     ]
    },
    {
     "name": "stderr",
     "output_type": "stream",
     "text": [
      "100%|██████████| 148/148 [00:03<00:00, 49.30it/s]\n",
      "100%|██████████| 19/19 [00:00<00:00, 257.32it/s]\n"
     ]
    },
    {
     "name": "stdout",
     "output_type": "stream",
     "text": [
      "Epoch:83/200.. Train Loss: 99102.906.. Val Loss: 96313.152.. Time: 0.05m\n"
     ]
    },
    {
     "name": "stderr",
     "output_type": "stream",
     "text": [
      "100%|██████████| 148/148 [00:03<00:00, 48.59it/s]\n",
      "100%|██████████| 19/19 [00:00<00:00, 285.51it/s]\n"
     ]
    },
    {
     "name": "stdout",
     "output_type": "stream",
     "text": [
      "Loss Decreasing.. 96043.667 >> 93488.218 \n",
      "saving model...\n",
      "Epoch:84/200.. Train Loss: 98709.675.. Val Loss: 93488.218.. Time: 0.05m\n"
     ]
    },
    {
     "name": "stderr",
     "output_type": "stream",
     "text": [
      "100%|██████████| 148/148 [00:03<00:00, 48.39it/s]\n",
      "100%|██████████| 19/19 [00:00<00:00, 292.03it/s]\n"
     ]
    },
    {
     "name": "stdout",
     "output_type": "stream",
     "text": [
      "Epoch:85/200.. Train Loss: 101512.336.. Val Loss: 107952.144.. Time: 0.05m\n"
     ]
    },
    {
     "name": "stderr",
     "output_type": "stream",
     "text": [
      "100%|██████████| 148/148 [00:03<00:00, 48.62it/s]\n",
      "100%|██████████| 19/19 [00:00<00:00, 257.08it/s]\n"
     ]
    },
    {
     "name": "stdout",
     "output_type": "stream",
     "text": [
      "Epoch:86/200.. Train Loss: 123914.589.. Val Loss: 96843.023.. Time: 0.05m\n"
     ]
    },
    {
     "name": "stderr",
     "output_type": "stream",
     "text": [
      "100%|██████████| 148/148 [00:03<00:00, 49.09it/s]\n",
      "100%|██████████| 19/19 [00:00<00:00, 289.00it/s]\n"
     ]
    },
    {
     "name": "stdout",
     "output_type": "stream",
     "text": [
      "Loss Decreasing.. 93488.218 >> 86864.087 \n",
      "saving model...\n",
      "Epoch:87/200.. Train Loss: 99726.316.. Val Loss: 86864.087.. Time: 0.05m\n"
     ]
    },
    {
     "name": "stderr",
     "output_type": "stream",
     "text": [
      "100%|██████████| 148/148 [00:03<00:00, 48.38it/s]\n",
      "100%|██████████| 19/19 [00:00<00:00, 282.45it/s]\n"
     ]
    },
    {
     "name": "stdout",
     "output_type": "stream",
     "text": [
      "Loss Decreasing.. 86864.087 >> 86201.253 \n",
      "saving model...\n",
      "Epoch:88/200.. Train Loss: 96762.789.. Val Loss: 86201.253.. Time: 0.05m\n"
     ]
    },
    {
     "name": "stderr",
     "output_type": "stream",
     "text": [
      "100%|██████████| 148/148 [00:03<00:00, 49.16it/s]\n",
      "100%|██████████| 19/19 [00:00<00:00, 286.66it/s]\n"
     ]
    },
    {
     "name": "stdout",
     "output_type": "stream",
     "text": [
      "Epoch:89/200.. Train Loss: 93753.469.. Val Loss: 93575.717.. Time: 0.05m\n"
     ]
    },
    {
     "name": "stderr",
     "output_type": "stream",
     "text": [
      "100%|██████████| 148/148 [00:03<00:00, 49.01it/s]\n",
      "100%|██████████| 19/19 [00:00<00:00, 286.85it/s]\n"
     ]
    },
    {
     "name": "stdout",
     "output_type": "stream",
     "text": [
      "Epoch:90/200.. Train Loss: 98274.335.. Val Loss: 96227.353.. Time: 0.05m\n"
     ]
    },
    {
     "name": "stderr",
     "output_type": "stream",
     "text": [
      "100%|██████████| 148/148 [00:03<00:00, 49.13it/s]\n",
      "100%|██████████| 19/19 [00:00<00:00, 281.39it/s]\n"
     ]
    },
    {
     "name": "stdout",
     "output_type": "stream",
     "text": [
      "Epoch:91/200.. Train Loss: 97808.512.. Val Loss: 92266.810.. Time: 0.05m\n"
     ]
    },
    {
     "name": "stderr",
     "output_type": "stream",
     "text": [
      "100%|██████████| 148/148 [00:03<00:00, 48.63it/s]\n",
      "100%|██████████| 19/19 [00:00<00:00, 287.74it/s]\n"
     ]
    },
    {
     "name": "stdout",
     "output_type": "stream",
     "text": [
      "Epoch:92/200.. Train Loss: 98938.696.. Val Loss: 106851.523.. Time: 0.05m\n"
     ]
    },
    {
     "name": "stderr",
     "output_type": "stream",
     "text": [
      "100%|██████████| 148/148 [00:03<00:00, 48.82it/s]\n",
      "100%|██████████| 19/19 [00:00<00:00, 284.35it/s]\n"
     ]
    },
    {
     "name": "stdout",
     "output_type": "stream",
     "text": [
      "Epoch:93/200.. Train Loss: 99282.989.. Val Loss: 91996.280.. Time: 0.05m\n"
     ]
    },
    {
     "name": "stderr",
     "output_type": "stream",
     "text": [
      "100%|██████████| 148/148 [00:03<00:00, 48.18it/s]\n",
      "100%|██████████| 19/19 [00:00<00:00, 285.15it/s]\n"
     ]
    },
    {
     "name": "stdout",
     "output_type": "stream",
     "text": [
      "Epoch:94/200.. Train Loss: 100200.465.. Val Loss: 91972.484.. Time: 0.05m\n"
     ]
    },
    {
     "name": "stderr",
     "output_type": "stream",
     "text": [
      "100%|██████████| 148/148 [00:03<00:00, 48.36it/s]\n",
      "100%|██████████| 19/19 [00:00<00:00, 292.56it/s]\n"
     ]
    },
    {
     "name": "stdout",
     "output_type": "stream",
     "text": [
      "Epoch:95/200.. Train Loss: 99601.920.. Val Loss: 91968.847.. Time: 0.05m\n"
     ]
    },
    {
     "name": "stderr",
     "output_type": "stream",
     "text": [
      "100%|██████████| 148/148 [00:03<00:00, 48.63it/s]\n",
      "100%|██████████| 19/19 [00:00<00:00, 282.75it/s]\n"
     ]
    },
    {
     "name": "stdout",
     "output_type": "stream",
     "text": [
      "Epoch:96/200.. Train Loss: 99311.693.. Val Loss: 92588.974.. Time: 0.05m\n"
     ]
    },
    {
     "name": "stderr",
     "output_type": "stream",
     "text": [
      "100%|██████████| 148/148 [00:03<00:00, 48.83it/s]\n",
      "100%|██████████| 19/19 [00:00<00:00, 283.83it/s]\n"
     ]
    },
    {
     "name": "stdout",
     "output_type": "stream",
     "text": [
      "Epoch:97/200.. Train Loss: 99919.911.. Val Loss: 91817.674.. Time: 0.05m\n"
     ]
    },
    {
     "name": "stderr",
     "output_type": "stream",
     "text": [
      "100%|██████████| 148/148 [00:03<00:00, 48.94it/s]\n",
      "100%|██████████| 19/19 [00:00<00:00, 287.02it/s]\n"
     ]
    },
    {
     "name": "stdout",
     "output_type": "stream",
     "text": [
      "Epoch:98/200.. Train Loss: 98255.266.. Val Loss: 91813.945.. Time: 0.05m\n"
     ]
    },
    {
     "name": "stderr",
     "output_type": "stream",
     "text": [
      "100%|██████████| 148/148 [00:03<00:00, 48.66it/s]\n",
      "100%|██████████| 19/19 [00:00<00:00, 285.91it/s]"
     ]
    },
    {
     "name": "stdout",
     "output_type": "stream",
     "text": [
      "[***] end training ...\n",
      "Total time: 5.12 m\n"
     ]
    },
    {
     "name": "stderr",
     "output_type": "stream",
     "text": [
      "\n"
     ]
    }
   ],
   "source": [
    "training.fit(model, train_loader, validation_loader)\n",
    "model = training.get_best_model()"
   ]
  },
  {
   "cell_type": "code",
   "execution_count": 621,
   "metadata": {
    "tags": []
   },
   "outputs": [],
   "source": [
    "X, Y = dataset[10]"
   ]
  },
  {
   "cell_type": "code",
   "execution_count": 622,
   "metadata": {
    "tags": []
   },
   "outputs": [
    {
     "data": {
      "text/plain": [
       "torch.Size([1, 8])"
      ]
     },
     "execution_count": 622,
     "metadata": {},
     "output_type": "execute_result"
    }
   ],
   "source": [
    "Y.shape"
   ]
  },
  {
   "cell_type": "code",
   "execution_count": 626,
   "metadata": {
    "tags": []
   },
   "outputs": [],
   "source": [
    "X, Y = dataset[80]\n",
    "X, Y = X.to(device)[None,:,:], Y.to(device)[None,:,:]\n",
    "y_result, y_tgt = Y, torch.from_numpy(-1.0*np.ones(Y.shape).astype('float32')).to(device)\n",
    "y_tgt[:,:,1:] = Y[:,:,:-1]\n",
    "y_tgt[:,:,0] = 0.0\n",
    "Ypred = model(X, y_tgt)"
   ]
  },
  {
   "cell_type": "code",
   "execution_count": 627,
   "metadata": {
    "tags": []
   },
   "outputs": [
    {
     "data": {
      "text/plain": [
       "tensor([[[654., 584., 642., 643., 644., 644., 643., 643.]]], device='cuda:0')"
      ]
     },
     "execution_count": 627,
     "metadata": {},
     "output_type": "execute_result"
    }
   ],
   "source": [
    "Y"
   ]
  },
  {
   "cell_type": "code",
   "execution_count": 628,
   "metadata": {
    "tags": []
   },
   "outputs": [
    {
     "data": {
      "text/plain": [
       "tensor([[[697.5552]]], device='cuda:0', grad_fn=<ViewBackward0>)"
      ]
     },
     "execution_count": 628,
     "metadata": {},
     "output_type": "execute_result"
    }
   ],
   "source": [
    "Ypred"
   ]
  },
  {
   "cell_type": "code",
   "execution_count": 620,
   "metadata": {
    "tags": []
   },
   "outputs": [
    {
     "data": {
      "text/plain": [
       "<matplotlib.legend.Legend at 0x2ba1ce96b190>"
      ]
     },
     "execution_count": 620,
     "metadata": {},
     "output_type": "execute_result"
    },
    {
     "data": {
      "image/png": "[encoded data removed]",
      "text/plain": [
       "<Figure size 640x480 with 1 Axes>"
      ]
     },
     "metadata": {},
     "output_type": "display_data"
    }
   ],
   "source": [
    "fig, ax = plt.subplots()\n",
    "\n",
    "ax.plot(training.results['Train'], label='Train')\n",
    "ax.plot(training.results['Validation'], label='Validation')\n",
    "ax.legend()"
   ]
  }
 ],
 "metadata": {
  "kernelspec": {
   "display_name": "raul_dl",
   "language": "python",
   "name": "raul_dl"
  },
  "language_info": {
   "codemirror_mode": {
    "name": "ipython",
    "version": 3
   },
   "file_extension": ".py",
   "mimetype": "text/x-python",
   "name": "python",
   "nbconvert_exporter": "python",
   "pygments_lexer": "ipython3",
   "version": "3.9.13"
  }
 },
 "nbformat": 4,
 "nbformat_minor": 4
}
