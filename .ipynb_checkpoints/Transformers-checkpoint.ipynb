{
 "cells": [
  {
   "cell_type": "code",
   "execution_count": 181,
   "metadata": {
    "tags": []
   },
   "outputs": [
    {
     "name": "stdout",
     "output_type": "stream",
     "text": [
      "Fri Jun  9 17:40:10 2023       \n",
      "+-----------------------------------------------------------------------------+\n",
      "| NVIDIA-SMI 515.43.04    Driver Version: 515.43.04    CUDA Version: 11.7     |\n",
      "|-------------------------------+----------------------+----------------------+\n",
      "| GPU  Name        Persistence-M| Bus-Id        Disp.A | Volatile Uncorr. ECC |\n",
      "| Fan  Temp  Perf  Pwr:Usage/Cap|         Memory-Usage | GPU-Util  Compute M. |\n",
      "|                               |                      |               MIG M. |\n",
      "|===============================+======================+======================|\n",
      "|   0  Tesla V100-SXM2...  Off  | 00000000:15:00.0 Off |                    0 |\n",
      "| N/A   30C    P0    53W / 300W |   5977MiB / 32768MiB |      0%      Default |\n",
      "|                               |                      |                  N/A |\n",
      "+-------------------------------+----------------------+----------------------+\n",
      "                                                                               \n",
      "+-----------------------------------------------------------------------------+\n",
      "| Processes:                                                                  |\n",
      "|  GPU   GI   CI        PID   Type   Process name                  GPU Memory |\n",
      "|        ID   ID                                                   Usage      |\n",
      "|=============================================================================|\n",
      "|    0   N/A  N/A      5568      C   .../venvs/dl_raul/bin/python     2177MiB |\n",
      "|    0   N/A  N/A     25706      C   .../venvs/dl_raul/bin/python     3797MiB |\n",
      "+-----------------------------------------------------------------------------+\n"
     ]
    }
   ],
   "source": [
    "import math\n",
    "import json\n",
    "import time\n",
    "import numpy as np\n",
    "import pandas as pd\n",
    "import matplotlib.pyplot as plt\n",
    "from tqdm import tqdm\n",
    "\n",
    "import torch\n",
    "import torch.nn as nn\n",
    "import torch.optim as optim\n",
    "from torch.utils.data import Dataset\n",
    "from torch.utils.data.sampler import SubsetRandomSampler\n",
    "\n",
    "from sklearn.preprocessing import MinMaxScaler, RobustScaler\n",
    "from sklearn.model_selection import train_test_split\n",
    "from sklearn.metrics import mean_squared_error, r2_score\n",
    "\n",
    "!nvidia-smi"
   ]
  },
  {
   "cell_type": "code",
   "execution_count": 182,
   "metadata": {
    "tags": []
   },
   "outputs": [
    {
     "name": "stdout",
     "output_type": "stream",
     "text": [
      "cuda:0\n"
     ]
    }
   ],
   "source": [
    "# Dispositivo onde tensores serão criados, armazenados e processados\n",
    "device = torch.device(\"cuda:0\" if torch.cuda.is_available() else \"cpu\")\n",
    "print(device)\n",
    "# Randon Seed fixa para resultados reprodutíveis\n",
    "seed = 42\n",
    "torch.manual_seed(seed)\n",
    "torch.cuda.manual_seed(seed)"
   ]
  },
  {
   "cell_type": "markdown",
   "metadata": {},
   "source": [
    "## Data Loader"
   ]
  },
  {
   "cell_type": "code",
   "execution_count": 183,
   "metadata": {
    "tags": []
   },
   "outputs": [],
   "source": [
    "class WellLoader(Dataset):\n",
    "    \n",
    "    def __init__(self, \n",
    "                 path, \n",
    "                 wells, \n",
    "                 var_in, \n",
    "                 var_out, \n",
    "                 normalizing_split=0.2, \n",
    "                 normalizer=RobustScaler, \n",
    "                 max_sequence=16, \n",
    "                 step=1):\n",
    "        \n",
    "        self.path = path\n",
    "        with open(self.path + '/metadata.json', 'r') as metafile:\n",
    "            self.metadata = json.loads(metafile.read())\n",
    "        self.wells = wells\n",
    "        self.var_in = var_in\n",
    "        self.var_out = var_out\n",
    "        self.normalizing_split = normalizing_split\n",
    "        self.normalizer = normalizer\n",
    "        self.max_sequence = max_sequence\n",
    "        self.step = step\n",
    "        self.batches_X = None\n",
    "        self.batches_Y = None\n",
    "        self.outputs = None\n",
    "        self.normalizers = []\n",
    "        \n",
    "        indexes = self.get_wells_index(self.wells)\n",
    "        self.load_data_by_index(indexes)\n",
    "        \n",
    "    def get_wells_index(self, wells):\n",
    "        \n",
    "        indexes = []\n",
    "        for well, filt in wells:\n",
    "            indexes.extend([(meta['INDEX'], filt) for meta in self.metadata if meta['WELL'] == well])\n",
    "        return indexes\n",
    "    \n",
    "    def load_data_by_index(self, indexes):\n",
    "        \n",
    "        batches_X = []\n",
    "        batches_Y = []\n",
    "        outputs = []\n",
    "        for index, filt in indexes:\n",
    "            data = pd.read_json(f'{self.path}/{index}.json')#.reset_index()\n",
    "            # Armengue: Por liq vol para preencher o dataset\n",
    "            data['BORE_LIQ_VOL'] = data['BORE_OIL_VOL'] + data['BORE_WAT_VOL']\n",
    "            data = data[self.var_in + self.var_out].dropna().reset_index(drop=True)\n",
    "            X = data[self.var_in].values[filt,:]\n",
    "            Y = data[self.var_out].values[filt,:]\n",
    "            #X_base, _, Y_base, _ = train_test_split(X, Y, test_size = self.normalizing_split)\n",
    "            #scaler_X = self.normalizer().fit(X_base)\n",
    "            #scaler_Y = self.normalizer().fit(Y_base)\n",
    "            #self.normalizers.append((scaler_X, scaler_Y))\n",
    "            #X, Y = scaler_X.transform(X), scaler_Y.transform(Y)\n",
    "            X, Y = torch.from_numpy(X.astype('float32')), torch.from_numpy(Y.astype('float32'))\n",
    "            output = Y[self.max_sequence::self.step]\n",
    "            #print(Y.shape)\n",
    "            #X = torch.split(X, self.max_sequence, dim= 0)\n",
    "            #Y = torch.split(Y, self.max_sequence, dim= 0)\n",
    "            X = X.unfold(0,self.max_sequence, self.step)\n",
    "            Y = Y.unfold(0,self.max_sequence, self.step)\n",
    "            batches_X.append(X)\n",
    "            batches_Y.append(Y)\n",
    "            outputs.append(output)\n",
    "            #print(X.shape)\n",
    "        self.batches_X = torch.concat(batches_X, axis=0)\n",
    "        self.batches_Y = torch.concat(batches_Y, axis=0)\n",
    "        self.outputs = torch.concat(outputs, axis=0)\n",
    "            \n",
    "    def __len__(self):\n",
    "        \n",
    "        return self.outputs.shape[0]\n",
    "    \n",
    "    def __getitem__(self, idx):\n",
    "                        \n",
    "        srcs = self.batches_X[idx,:,:]\n",
    "        trgts = self.batches_Y[idx,:,:]\n",
    "        output = self.outputs[idx,:]\n",
    "        \n",
    "        return srcs, trgts, output\n",
    "        \n",
    "        \n",
    "                 "
   ]
  },
  {
   "cell_type": "code",
   "execution_count": 184,
   "metadata": {
    "tags": []
   },
   "outputs": [],
   "source": [
    "path = './dataset/volve'\n",
    "wells = [\n",
    "    ('15/9-F-1 C', slice(28, None)),\n",
    "]\n",
    "\n",
    "var_in = [\n",
    "        'AVG_DOWNHOLE_PRESSURE',\n",
    "        'AVG_WHP_P',\n",
    "        'AVG_CHOKE_SIZE_P',\n",
    "        'AVG_WHT_P',\n",
    "        'AVG_DOWNHOLE_TEMPERATURE',\n",
    "]\n",
    "\n",
    "var_out = [\n",
    "        #'BORE_OIL_VOL',\n",
    "        'BORE_LIQ_VOL',\n",
    "        #'BORE_GAS_VOL',\n",
    "        #'BORE_WAT_VOL',\n",
    "]\n",
    "\n",
    "\n",
    "dataset = WellLoader(path, wells, var_in, var_out, max_sequence = 16)"
   ]
  },
  {
   "cell_type": "code",
   "execution_count": 185,
   "metadata": {
    "tags": []
   },
   "outputs": [],
   "source": [
    "class SubsetSplitter:\n",
    "    \n",
    "    def __init__(self, batch_size, validation_split, test_split, shuffle=False):\n",
    "        \n",
    "        self.batch_size = batch_size\n",
    "        self.validation_split = validation_split\n",
    "        self.test_split = test_split\n",
    "        self.shuffle = shuffle\n",
    "        \n",
    "    def __call__(self, dataset:Dataset):\n",
    "        \n",
    "        dataset_size = len(dataset)\n",
    "        indices = list(range(dataset_size))\n",
    "        validation_split = int(np.floor(self.validation_split * dataset_size))\n",
    "        test_split = int(np.floor(self.test_split * dataset_size))\n",
    "        train_split = dataset_size - validation_split - test_split\n",
    "        if self.shuffle :\n",
    "            np.random.shuffle(indices)\n",
    "        train_indices = indices[:train_split]\n",
    "        validation_indices = indices[train_split:train_split + validation_split]\n",
    "        test_indices = indices[train_split + validation_split:]\n",
    "\n",
    "        # Creating PT data samplers and loaders:\n",
    "        train_sampler = SubsetRandomSampler(train_indices)\n",
    "        valid_sampler = SubsetRandomSampler(validation_indices)\n",
    "        test_sampler = SubsetRandomSampler(test_indices)\n",
    "\n",
    "        train_loader = torch.utils.data.DataLoader(dataset, batch_size=self.batch_size, \n",
    "                                                   sampler=train_sampler)\n",
    "        validation_loader = torch.utils.data.DataLoader(dataset, batch_size=self.batch_size,\n",
    "                                                    sampler=valid_sampler)\n",
    "        test_loader = torch.utils.data.DataLoader(dataset, batch_size=self.batch_size,\n",
    "                                                    sampler=test_sampler)\n",
    "        \n",
    "        return train_loader, validation_loader, test_loader"
   ]
  },
  {
   "cell_type": "code",
   "execution_count": 186,
   "metadata": {
    "tags": []
   },
   "outputs": [],
   "source": [
    "splitter = SubsetSplitter(8, 0.2, 0.2)\n",
    "train_loader, validation_loader, test_loader = splitter(dataset)"
   ]
  },
  {
   "cell_type": "markdown",
   "metadata": {},
   "source": [
    "## Model definition"
   ]
  },
  {
   "cell_type": "code",
   "execution_count": 187,
   "metadata": {},
   "outputs": [
    {
     "data": {
      "text/plain": [
       "tensor([[[0.0000, 0.0000, 0.0000, 1.4286, 0.0000, 1.4286, 0.0000, 1.4286,\n",
       "          0.0000, 0.0000],\n",
       "         [0.0000, 0.0000, 0.0000, 0.0000, 0.0000, 1.4286, 0.0000, 0.0000,\n",
       "          0.0000, 1.4286]]])"
      ]
     },
     "execution_count": 187,
     "metadata": {},
     "output_type": "execute_result"
    }
   ],
   "source": [
    "class PositionalEncoding(nn.Module):\n",
    "    def __init__(self, dim_model, dropout_p, max_len):\n",
    "        super().__init__()\n",
    "        # Modified version from: https://pytorch.org/tutorials/beginner/transformer_tutorial.html\n",
    "        # max_len determines how far the position can have an effect on a token (window)\n",
    "        \n",
    "        # Info\n",
    "        self.dropout = nn.Dropout(dropout_p)\n",
    "        \n",
    "        # Encoding - From formula\n",
    "        pos_encoding = torch.zeros(max_len, dim_model)\n",
    "        positions_list = torch.arange(0, max_len, dtype=torch.float).view(-1, 1) # 0, 1, 2, 3, 4, 5\n",
    "        division_term = torch.exp(torch.arange(0, dim_model, 2).float() * (-math.log(10000.0)) / dim_model) # 1000^(2i/dim_model)\n",
    "        \n",
    "        # PE(pos, 2i) = sin(pos/1000^(2i/dim_model))\n",
    "        pos_encoding[:, 0::2] = torch.sin(positions_list * division_term)\n",
    "        \n",
    "        # PE(pos, 2i + 1) = cos(pos/1000^(2i/dim_model))\n",
    "        pos_encoding[:, 1::2] = torch.cos(positions_list * division_term)\n",
    "        \n",
    "        # Saving buffer (same as parameter without gradients needed)\n",
    "        pos_encoding = pos_encoding.unsqueeze(0).transpose(0, 1)\n",
    "        self.register_buffer(\"pos_encoding\",pos_encoding)\n",
    "        \n",
    "    def forward(self, token_embedding: torch.tensor) -> torch.tensor:\n",
    "        # Residual connection + pos encoding\n",
    "        return self.dropout(token_embedding + self.pos_encoding[:token_embedding.size(0), :])\n",
    "    \n",
    "    \n",
    "positional_encoding = PositionalEncoding(dim_model = 10, dropout_p=0.3, max_len=1200)\n",
    "tensor = torch.zeros((1,2,10))\n",
    "tensor\n",
    "encoded = positional_encoding(tensor)\n",
    "encoded"
   ]
  },
  {
   "cell_type": "code",
   "execution_count": 188,
   "metadata": {},
   "outputs": [],
   "source": [
    "class Transformer(nn.Module):\n",
    "    \"\"\"\n",
    "    Model from \"A detailed guide to Pytorch's nn.Transformer() module.\", by\n",
    "    Daniel Melchor: https://medium.com/@danielmelchor/a-detailed-guide-to-pytorchs-nn-transformer-module-c80afbc9ffb1\n",
    "    \"\"\"\n",
    "    # Constructor\n",
    "    def __init__(\n",
    "        self,\n",
    "        num_outputs,\n",
    "        dim_model,\n",
    "        num_heads,\n",
    "        num_encoder_layers,\n",
    "        num_decoder_layers,\n",
    "        dropout_p,\n",
    "        num_linear_layers=0,\n",
    "        norm_first=False\n",
    "    ):\n",
    "        super().__init__()\n",
    "\n",
    "        # INFO\n",
    "        self.model_type = \"Transformer\"\n",
    "        self.dim_model = dim_model\n",
    "\n",
    "        # LAYERS\n",
    "        self.positional_encoder = PositionalEncoding(\n",
    "            dim_model=dim_model, dropout_p=dropout_p, max_len=5000\n",
    "        )\n",
    "        #self.embedding = nn.Embedding(num_outputs, dim_model)\n",
    "        self.transformer = nn.Transformer(\n",
    "            d_model=dim_model,\n",
    "            nhead=num_heads,\n",
    "            num_encoder_layers=num_encoder_layers,\n",
    "            num_decoder_layers=num_decoder_layers,\n",
    "            dropout=dropout_p, \n",
    "            batch_first=True,\n",
    "            norm_first = norm_first\n",
    "        )\n",
    "        self.linear_layers = nn.ModuleList()\n",
    "        for i in range(num_linear_layers):\n",
    "            self.linear_layers.append(nn.Linear(dim_model, dim_model))\n",
    "            self.linear_layers.append(nn.ReLU6())\n",
    "        self.out = nn.Linear(dim_model, num_outputs)\n",
    "        self.bias_layer = nn.Linear(dim_model, dim_model)\n",
    "        \n",
    "    def forward(self, src, tgt, tgt_mask=None, src_pad_mask=None, tgt_pad_mask=None):\n",
    "        # Src size must be (batch_size, src sequence length)\n",
    "        # Tgt size must be (batch_size, tgt sequence length)\n",
    "\n",
    "        # Embedding + positional encoding - Out size = (batch_size, sequence length, dim_model)\n",
    "        #src = self.embedding(src) * math.sqrt(self.dim_model)\n",
    "        #tgt = self.embedding(tgt) * math.sqrt(self.dim_model)\n",
    "        src_corr = src #* math.sqrt(self.dim_model)\n",
    "        tgt_corr = tgt #* math.sqrt(self.dim_model)\n",
    "        #src_corr = self.positional_encoder(src_corr)\n",
    "        #tgt_corr = self.positional_encoder(tgt_corr)\n",
    "        \n",
    "        # We could use the parameter batch_first=True, but our KDL version doesn't support it yet, so we permute\n",
    "        # to obtain size (sequence length, batch_size, dim_model),\n",
    "        #src = src.permute(1,0,2)\n",
    "        #tgt = tgt.permute(1,0,2)\n",
    "\n",
    "        # Transformer blocks - Out size = (sequence length, batch_size, num_tokens)\n",
    "        transformer_out = self.transformer(src_corr, tgt_corr, tgt_mask=tgt_mask, src_key_padding_mask=src_pad_mask, tgt_key_padding_mask=tgt_pad_mask)\n",
    "        for linear in self.linear_layers:\n",
    "            transformer_out = linear(transformer_out)\n",
    "        out = transformer_out\n",
    "        \n",
    "        #recuperando informacao de escala\n",
    "        out = torch.mul(out, tgt)\n",
    "        bias = self.bias_layer(tgt)\n",
    "        out = torch.add(out, bias)\n",
    "        \n",
    "        out = self.out(out)\n",
    "        \n",
    "        \n",
    "        return out\n",
    "      \n",
    "    def get_tgt_mask(self, size) -> torch.tensor:\n",
    "        # Generates a squeare matrix where the each row allows one word more to be seen\n",
    "        mask = torch.tril(torch.ones(size, size) == 1) # Lower triangular matrix\n",
    "        mask = mask.float()\n",
    "        mask = mask.masked_fill(mask == 0, float('-inf')) # Convert zeros to -inf\n",
    "        mask = mask.masked_fill(mask == 1, float(0.0)) # Convert ones to 0\n",
    "        \n",
    "        # EX for size=5:\n",
    "        # [[0., -inf, -inf, -inf, -inf],\n",
    "        #  [0.,   0., -inf, -inf, -inf],\n",
    "        #  [0.,   0.,   0., -inf, -inf],\n",
    "        #  [0.,   0.,   0.,   0., -inf],\n",
    "        #  [0.,   0.,   0.,   0.,   0.]]\n",
    "        \n",
    "        return mask\n",
    "    \n",
    "    def create_pad_mask(self, matrix: torch.tensor, pad_token: int) -> torch.tensor:\n",
    "        # If matrix = [1,2,3,0,0,0] where pad_token=0, the result mask is\n",
    "        # [False, False, False, True, True, True]\n",
    "        return (matrix == pad_token)"
   ]
  },
  {
   "cell_type": "code",
   "execution_count": 189,
   "metadata": {
    "tags": []
   },
   "outputs": [],
   "source": [
    "class Training:\n",
    "    \n",
    "    def __init__(self, epochs, loss, optimizer, scheduler, path, patience=5):\n",
    "        \n",
    "        self.loss = loss\n",
    "        self.optimizer = optimizer\n",
    "        self.scheduler = scheduler\n",
    "        self.epochs = epochs\n",
    "        self.path = path\n",
    "        self.patience = patience\n",
    "        self.clear_results()\n",
    "        \n",
    "    def clear_results(self):\n",
    "        \n",
    "        self.results = {\n",
    "            'Train':[],\n",
    "            'Validation':[],\n",
    "            'Test':[],\n",
    "        }\n",
    "        \n",
    "    def fit(self, model, train_loader, validation_loader, test_loader):\n",
    "        \n",
    "        self.clear_results()\n",
    "        torch.cuda.empty_cache()\n",
    "        decrease = self.patience\n",
    "        not_improved = 0\n",
    "        \n",
    "        model.to(device)\n",
    "        fit_time = time.time()\n",
    "        \n",
    "        for e in range(self.epochs):\n",
    "            since = time.time()\n",
    "            running_loss = 0\n",
    "            #training loop\n",
    "            model.train()\n",
    "            self.train_loop(model, train_loader)\n",
    "            model.eval()\n",
    "            self.validation_loop(model, validation_loader)\n",
    "            self.test_loop(model, test_loader)\n",
    "            decrease, not_improved = self.early_stopping(validation_loader, decrease)\n",
    "            if not_improved == 1:\n",
    "                break\n",
    "            loss_per_training_batch = self.results['Train'][-1]\n",
    "            loss_per_validation_batch = self.results['Validation'][-1]\n",
    "            loss_per_test_batch = self.results['Test'][-1]\n",
    "            print(\"Epoch:{}/{}..\".format(e+1, self.epochs),\n",
    "                  \"Train Loss: {:.3f}..\".format(loss_per_training_batch),\n",
    "                  \"Val Loss: {:.3f}..\".format(loss_per_validation_batch),\n",
    "                  \"Test Loss: {:.3f}..\".format(loss_per_test_batch),\n",
    "                  \"Time: {:.2f}m\".format((time.time()-since)/60))\n",
    "        print('Total time: {:.2f} m' .format((time.time()- fit_time)/60))\n",
    "        \n",
    "    def train_loop(self, model, train_loader):\n",
    "        \n",
    "        running_loss = 0.0\n",
    "        for i, data in enumerate(tqdm(train_loader)):\n",
    "            #training phase\n",
    "            X, y_tgt, y_out = data\n",
    "            X, y_tgt, y_out = X.to(device), y_tgt.to(device), y_out.to(device)\n",
    "            #y_result, y_tgt = Y, torch.from_numpy(-1.0*np.ones(Y.shape).astype('float32')).to(device)\n",
    "            #y_tgt[:,:,1:] = Y[:,:,:-1]\n",
    "            #y_tgt[:,:,0] = 0.0\n",
    "            output = model(X, y_tgt)\n",
    "            loss = self.loss(output.ravel(), y_out.ravel())\n",
    "            #backward\n",
    "            loss.backward()\n",
    "            self.optimizer.step() #update weight          \n",
    "            self.optimizer.zero_grad() #reset gradient\n",
    "            \n",
    "            #step the learning rate\n",
    "            if not self.scheduler is None:\n",
    "                self.scheduler.step()\n",
    "            running_loss += loss.item()\n",
    "        \n",
    "        self.results['Train'].append(running_loss/len(train_loader))\n",
    "    \n",
    "    \n",
    "    def validation_loop(self, model, validation_loader):\n",
    "        \n",
    "        running_loss = 0.0\n",
    "        with torch.no_grad():\n",
    "            for i, data in enumerate(tqdm(validation_loader)):\n",
    "                #training phase\n",
    "                X, y_tgt, y_out = data\n",
    "                X, y_tgt, y_out = X.to(device), y_tgt.to(device), y_out.to(device)\n",
    "                #y_result, y_tgt = Y, torch.from_numpy(-1.0*np.ones(Y.shape).astype('float32')).to(device)\n",
    "                #y_tgt[:,:,1:] = Y[:,:,:-1]\n",
    "                #y_tgt[:,:,0] = 0.0\n",
    "                output = model(X, y_tgt)\n",
    "                loss = self.loss(output.ravel(), y_out.ravel())\n",
    "                \n",
    "                running_loss += loss.item()\n",
    "        \n",
    "        self.results['Validation'].append(running_loss/len(validation_loader))\n",
    "        \n",
    "    def test_loop(self, model, test_loader):\n",
    "        \n",
    "        running_loss = 0.0\n",
    "        with torch.no_grad():\n",
    "            for i, data in enumerate(tqdm(test_loader)):\n",
    "                #training phase\n",
    "                X, y_tgt, y_out = data\n",
    "                X, y_tgt, y_out = X.to(device), y_tgt.to(device), y_out.to(device)\n",
    "                #y_result, y_tgt = Y, torch.from_numpy(-1.0*np.ones(Y.shape).astype('float32')).to(device)\n",
    "                #y_tgt[:,:,1:] = Y[:,:,:-1]\n",
    "                #y_tgt[:,:,0] = 0.0\n",
    "                output = model(X, y_tgt)\n",
    "                loss = self.loss(output.ravel(), y_out.ravel())\n",
    "                \n",
    "                running_loss += loss.item()\n",
    "        \n",
    "        self.results['Test'].append(running_loss/len(test_loader))\n",
    "        \n",
    "    def early_stopping(self, validation_loader, decrease):\n",
    "        \n",
    "        loss_per_validation_batch = self.results['Validation'][-1]\n",
    "        min_loss = np.min(self.results['Validation'][:-1] + [np.inf])\n",
    "        if min_loss >= self.results['Validation'][-1]:\n",
    "            print('Loss Decreasing.. {:.3f} >> {:.3f} '.format(min_loss, loss_per_validation_batch))\n",
    "            decrease = self.patience\n",
    "            print('saving model...')\n",
    "            torch.save(model, self.path + '/Transformer.pt')\n",
    "        else:\n",
    "            decrease -= 1\n",
    "        if decrease < 0:\n",
    "                print('[***] end training ...')      \n",
    "                not_improved = 1\n",
    "        else:\n",
    "            not_improved = 0\n",
    "        return decrease, not_improved\n",
    "    \n",
    "    def get_best_model(self):\n",
    "        \n",
    "        model = torch.load(self.path + '/Transformer.pt')\n",
    "        return model\n",
    "            \n",
    "            \n",
    "        \n",
    "        \n",
    "            "
   ]
  },
  {
   "cell_type": "code",
   "execution_count": 196,
   "metadata": {
    "tags": []
   },
   "outputs": [],
   "source": [
    "model = Transformer(\n",
    "    num_outputs=1, dim_model=dataset.max_sequence, num_heads=8, \n",
    "    num_encoder_layers=6, num_decoder_layers=3, dropout_p=0.1, norm_first=True,num_linear_layers=0).to(device)\n",
    "\n",
    "lr_ = 1e-3\n",
    "epoch = 2000\n",
    "weight_decay = 1e-4\n",
    "path = '.'\n",
    "\n",
    "loss = torch.nn.MSELoss()\n",
    "#optimizer = torch.optim.Adam(model.parameters(), lr=lr_)\n",
    "#optimizer = torch.optim.SGD(model.parameters(), lr=lr_)\n",
    "optimizer = torch.optim.AdamW(model.parameters(), lr=lr_, weight_decay=weight_decay)\n",
    "sched = None\n",
    "sched = torch.optim.lr_scheduler.OneCycleLR(optimizer, lr_, epochs=epoch,\n",
    "                                            steps_per_epoch=len(train_loader))\n",
    "training = Training(epoch, loss, optimizer, sched, path, patience=20)"
   ]
  },
  {
   "cell_type": "code",
   "execution_count": 197,
   "metadata": {
    "tags": []
   },
   "outputs": [
    {
     "name": "stderr",
     "output_type": "stream",
     "text": [
      "100%|██████████| 53/53 [00:01<00:00, 47.06it/s]\n",
      "100%|██████████| 18/18 [00:00<00:00, 287.44it/s]\n",
      "100%|██████████| 18/18 [00:00<00:00, 298.12it/s]\n"
     ]
    },
    {
     "name": "stdout",
     "output_type": "stream",
     "text": [
      "Loss Decreasing.. inf >> 770678.519 \n",
      "saving model...\n",
      "Epoch:1/2000.. Train Loss: 982658.923.. Val Loss: 770678.519.. Test Loss: 654414.093.. Time: 0.02m\n"
     ]
    },
    {
     "name": "stderr",
     "output_type": "stream",
     "text": [
      "100%|██████████| 53/53 [00:01<00:00, 47.01it/s]\n",
      "100%|██████████| 18/18 [00:00<00:00, 295.38it/s]\n",
      "100%|██████████| 18/18 [00:00<00:00, 297.61it/s]\n"
     ]
    },
    {
     "name": "stdout",
     "output_type": "stream",
     "text": [
      "Loss Decreasing.. 770678.519 >> 757664.071 \n",
      "saving model...\n",
      "Epoch:2/2000.. Train Loss: 908132.210.. Val Loss: 757664.071.. Test Loss: 586759.530.. Time: 0.02m\n"
     ]
    },
    {
     "name": "stderr",
     "output_type": "stream",
     "text": [
      "100%|██████████| 53/53 [00:01<00:00, 46.66it/s]\n",
      "100%|██████████| 18/18 [00:00<00:00, 285.86it/s]\n",
      "100%|██████████| 18/18 [00:00<00:00, 290.97it/s]\n"
     ]
    },
    {
     "name": "stdout",
     "output_type": "stream",
     "text": [
      "Loss Decreasing.. 757664.071 >> 671494.794 \n",
      "saving model...\n",
      "Epoch:3/2000.. Train Loss: 836413.257.. Val Loss: 671494.794.. Test Loss: 552409.809.. Time: 0.02m\n"
     ]
    },
    {
     "name": "stderr",
     "output_type": "stream",
     "text": [
      "100%|██████████| 53/53 [00:01<00:00, 47.07it/s]\n",
      "100%|██████████| 18/18 [00:00<00:00, 288.70it/s]\n",
      "100%|██████████| 18/18 [00:00<00:00, 288.68it/s]\n"
     ]
    },
    {
     "name": "stdout",
     "output_type": "stream",
     "text": [
      "Loss Decreasing.. 671494.794 >> 633090.332 \n",
      "saving model...\n",
      "Epoch:4/2000.. Train Loss: 771636.828.. Val Loss: 633090.332.. Test Loss: 512303.350.. Time: 0.02m\n"
     ]
    },
    {
     "name": "stderr",
     "output_type": "stream",
     "text": [
      "100%|██████████| 53/53 [00:01<00:00, 45.88it/s]\n",
      "100%|██████████| 18/18 [00:00<00:00, 293.04it/s]\n",
      "100%|██████████| 18/18 [00:00<00:00, 298.67it/s]\n"
     ]
    },
    {
     "name": "stdout",
     "output_type": "stream",
     "text": [
      "Loss Decreasing.. 633090.332 >> 615241.496 \n",
      "saving model...\n",
      "Epoch:5/2000.. Train Loss: 727770.272.. Val Loss: 615241.496.. Test Loss: 502621.441.. Time: 0.02m\n"
     ]
    },
    {
     "name": "stderr",
     "output_type": "stream",
     "text": [
      "100%|██████████| 53/53 [00:01<00:00, 46.15it/s]\n",
      "100%|██████████| 18/18 [00:00<00:00, 294.84it/s]\n",
      "100%|██████████| 18/18 [00:00<00:00, 295.58it/s]\n"
     ]
    },
    {
     "name": "stdout",
     "output_type": "stream",
     "text": [
      "Loss Decreasing.. 615241.496 >> 578893.082 \n",
      "saving model...\n",
      "Epoch:6/2000.. Train Loss: 678963.290.. Val Loss: 578893.082.. Test Loss: 495572.844.. Time: 0.02m\n"
     ]
    },
    {
     "name": "stderr",
     "output_type": "stream",
     "text": [
      "100%|██████████| 53/53 [00:01<00:00, 48.11it/s]\n",
      "100%|██████████| 18/18 [00:00<00:00, 279.14it/s]\n",
      "100%|██████████| 18/18 [00:00<00:00, 276.47it/s]\n"
     ]
    },
    {
     "name": "stdout",
     "output_type": "stream",
     "text": [
      "Loss Decreasing.. 578893.082 >> 555111.188 \n",
      "saving model...\n",
      "Epoch:7/2000.. Train Loss: 640297.971.. Val Loss: 555111.188.. Test Loss: 446255.614.. Time: 0.02m\n"
     ]
    },
    {
     "name": "stderr",
     "output_type": "stream",
     "text": [
      "100%|██████████| 53/53 [00:01<00:00, 44.93it/s]\n",
      "100%|██████████| 18/18 [00:00<00:00, 293.98it/s]\n",
      "100%|██████████| 18/18 [00:00<00:00, 296.17it/s]\n"
     ]
    },
    {
     "name": "stdout",
     "output_type": "stream",
     "text": [
      "Loss Decreasing.. 555111.188 >> 546200.337 \n",
      "saving model...\n",
      "Epoch:8/2000.. Train Loss: 607544.676.. Val Loss: 546200.337.. Test Loss: 416557.483.. Time: 0.02m\n"
     ]
    },
    {
     "name": "stderr",
     "output_type": "stream",
     "text": [
      "100%|██████████| 53/53 [00:01<00:00, 45.29it/s]\n",
      "100%|██████████| 18/18 [00:00<00:00, 292.55it/s]\n",
      "100%|██████████| 18/18 [00:00<00:00, 298.89it/s]\n"
     ]
    },
    {
     "name": "stdout",
     "output_type": "stream",
     "text": [
      "Loss Decreasing.. 546200.337 >> 512332.227 \n",
      "saving model...\n",
      "Epoch:9/2000.. Train Loss: 574284.420.. Val Loss: 512332.227.. Test Loss: 397429.206.. Time: 0.02m\n"
     ]
    },
    {
     "name": "stderr",
     "output_type": "stream",
     "text": [
      "100%|██████████| 53/53 [00:01<00:00, 45.36it/s]\n",
      "100%|██████████| 18/18 [00:00<00:00, 298.88it/s]\n",
      "100%|██████████| 18/18 [00:00<00:00, 300.21it/s]\n"
     ]
    },
    {
     "name": "stdout",
     "output_type": "stream",
     "text": [
      "Loss Decreasing.. 512332.227 >> 499401.173 \n",
      "saving model...\n",
      "Epoch:10/2000.. Train Loss: 543562.986.. Val Loss: 499401.173.. Test Loss: 390852.905.. Time: 0.02m\n"
     ]
    },
    {
     "name": "stderr",
     "output_type": "stream",
     "text": [
      "100%|██████████| 53/53 [00:01<00:00, 47.23it/s]\n",
      "100%|██████████| 18/18 [00:00<00:00, 288.97it/s]\n",
      "100%|██████████| 18/18 [00:00<00:00, 296.70it/s]\n"
     ]
    },
    {
     "name": "stdout",
     "output_type": "stream",
     "text": [
      "Loss Decreasing.. 499401.173 >> 489467.389 \n",
      "saving model...\n",
      "Epoch:11/2000.. Train Loss: 519379.135.. Val Loss: 489467.389.. Test Loss: 364566.458.. Time: 0.02m\n"
     ]
    },
    {
     "name": "stderr",
     "output_type": "stream",
     "text": [
      "100%|██████████| 53/53 [00:01<00:00, 45.78it/s]\n",
      "100%|██████████| 18/18 [00:00<00:00, 291.91it/s]\n",
      "100%|██████████| 18/18 [00:00<00:00, 298.36it/s]\n"
     ]
    },
    {
     "name": "stdout",
     "output_type": "stream",
     "text": [
      "Loss Decreasing.. 489467.389 >> 458919.589 \n",
      "saving model...\n",
      "Epoch:12/2000.. Train Loss: 495591.292.. Val Loss: 458919.589.. Test Loss: 350425.165.. Time: 0.02m\n"
     ]
    },
    {
     "name": "stderr",
     "output_type": "stream",
     "text": [
      "100%|██████████| 53/53 [00:01<00:00, 45.37it/s]\n",
      "100%|██████████| 18/18 [00:00<00:00, 289.49it/s]\n",
      "100%|██████████| 18/18 [00:00<00:00, 298.46it/s]\n"
     ]
    },
    {
     "name": "stdout",
     "output_type": "stream",
     "text": [
      "Loss Decreasing.. 458919.589 >> 446308.628 \n",
      "saving model...\n",
      "Epoch:13/2000.. Train Loss: 477661.792.. Val Loss: 446308.628.. Test Loss: 336471.820.. Time: 0.02m\n"
     ]
    },
    {
     "name": "stderr",
     "output_type": "stream",
     "text": [
      "100%|██████████| 53/53 [00:01<00:00, 46.13it/s]\n",
      "100%|██████████| 18/18 [00:00<00:00, 288.45it/s]\n",
      "100%|██████████| 18/18 [00:00<00:00, 296.79it/s]\n"
     ]
    },
    {
     "name": "stdout",
     "output_type": "stream",
     "text": [
      "Loss Decreasing.. 446308.628 >> 422324.857 \n",
      "saving model...\n",
      "Epoch:14/2000.. Train Loss: 454068.371.. Val Loss: 422324.857.. Test Loss: 336075.716.. Time: 0.02m\n"
     ]
    },
    {
     "name": "stderr",
     "output_type": "stream",
     "text": [
      "100%|██████████| 53/53 [00:01<00:00, 45.83it/s]\n",
      "100%|██████████| 18/18 [00:00<00:00, 265.46it/s]\n",
      "100%|██████████| 18/18 [00:00<00:00, 296.89it/s]\n"
     ]
    },
    {
     "name": "stdout",
     "output_type": "stream",
     "text": [
      "Epoch:15/2000.. Train Loss: 438038.071.. Val Loss: 432780.676.. Test Loss: 317696.610.. Time: 0.02m\n"
     ]
    },
    {
     "name": "stderr",
     "output_type": "stream",
     "text": [
      "100%|██████████| 53/53 [00:01<00:00, 45.73it/s]\n",
      "100%|██████████| 18/18 [00:00<00:00, 288.80it/s]\n",
      "100%|██████████| 18/18 [00:00<00:00, 299.91it/s]\n"
     ]
    },
    {
     "name": "stdout",
     "output_type": "stream",
     "text": [
      "Loss Decreasing.. 422324.857 >> 412800.036 \n",
      "saving model...\n",
      "Epoch:16/2000.. Train Loss: 424284.367.. Val Loss: 412800.036.. Test Loss: 310276.201.. Time: 0.02m\n"
     ]
    },
    {
     "name": "stderr",
     "output_type": "stream",
     "text": [
      "100%|██████████| 53/53 [00:01<00:00, 47.17it/s]\n",
      "100%|██████████| 18/18 [00:00<00:00, 276.28it/s]\n",
      "100%|██████████| 18/18 [00:00<00:00, 276.05it/s]\n"
     ]
    },
    {
     "name": "stdout",
     "output_type": "stream",
     "text": [
      "Epoch:17/2000.. Train Loss: 404990.853.. Val Loss: 419941.680.. Test Loss: 307833.213.. Time: 0.02m\n"
     ]
    },
    {
     "name": "stderr",
     "output_type": "stream",
     "text": [
      "100%|██████████| 53/53 [00:01<00:00, 45.45it/s]\n",
      "100%|██████████| 18/18 [00:00<00:00, 294.27it/s]\n",
      "100%|██████████| 18/18 [00:00<00:00, 296.13it/s]\n"
     ]
    },
    {
     "name": "stdout",
     "output_type": "stream",
     "text": [
      "Loss Decreasing.. 412800.036 >> 382938.560 \n",
      "saving model...\n",
      "Epoch:18/2000.. Train Loss: 393573.052.. Val Loss: 382938.560.. Test Loss: 289629.077.. Time: 0.02m\n"
     ]
    },
    {
     "name": "stderr",
     "output_type": "stream",
     "text": [
      "100%|██████████| 53/53 [00:01<00:00, 47.26it/s]\n",
      "100%|██████████| 18/18 [00:00<00:00, 291.72it/s]\n",
      "100%|██████████| 18/18 [00:00<00:00, 299.04it/s]\n"
     ]
    },
    {
     "name": "stdout",
     "output_type": "stream",
     "text": [
      "Loss Decreasing.. 382938.560 >> 370056.568 \n",
      "saving model...\n",
      "Epoch:19/2000.. Train Loss: 379841.514.. Val Loss: 370056.568.. Test Loss: 283563.595.. Time: 0.02m\n"
     ]
    },
    {
     "name": "stderr",
     "output_type": "stream",
     "text": [
      "100%|██████████| 53/53 [00:01<00:00, 45.44it/s]\n",
      "100%|██████████| 18/18 [00:00<00:00, 292.90it/s]\n",
      "100%|██████████| 18/18 [00:00<00:00, 295.67it/s]\n"
     ]
    },
    {
     "name": "stdout",
     "output_type": "stream",
     "text": [
      "Loss Decreasing.. 370056.568 >> 362614.201 \n",
      "saving model...\n",
      "Epoch:20/2000.. Train Loss: 367037.404.. Val Loss: 362614.201.. Test Loss: 273887.331.. Time: 0.02m\n"
     ]
    },
    {
     "name": "stderr",
     "output_type": "stream",
     "text": [
      "100%|██████████| 53/53 [00:01<00:00, 47.42it/s]\n",
      "100%|██████████| 18/18 [00:00<00:00, 289.88it/s]\n",
      "100%|██████████| 18/18 [00:00<00:00, 297.35it/s]\n"
     ]
    },
    {
     "name": "stdout",
     "output_type": "stream",
     "text": [
      "Loss Decreasing.. 362614.201 >> 357991.596 \n",
      "saving model...\n",
      "Epoch:21/2000.. Train Loss: 354845.685.. Val Loss: 357991.596.. Test Loss: 271727.492.. Time: 0.02m\n"
     ]
    },
    {
     "name": "stderr",
     "output_type": "stream",
     "text": [
      "100%|██████████| 53/53 [00:01<00:00, 47.07it/s]\n",
      "100%|██████████| 18/18 [00:00<00:00, 301.99it/s]\n",
      "100%|██████████| 18/18 [00:00<00:00, 297.32it/s]\n"
     ]
    },
    {
     "name": "stdout",
     "output_type": "stream",
     "text": [
      "Loss Decreasing.. 357991.596 >> 345111.753 \n",
      "saving model...\n",
      "Epoch:22/2000.. Train Loss: 342381.091.. Val Loss: 345111.753.. Test Loss: 270548.554.. Time: 0.02m\n"
     ]
    },
    {
     "name": "stderr",
     "output_type": "stream",
     "text": [
      "100%|██████████| 53/53 [00:01<00:00, 47.67it/s]\n",
      "100%|██████████| 18/18 [00:00<00:00, 297.95it/s]\n",
      "100%|██████████| 18/18 [00:00<00:00, 304.49it/s]\n"
     ]
    },
    {
     "name": "stdout",
     "output_type": "stream",
     "text": [
      "Loss Decreasing.. 345111.753 >> 324817.864 \n",
      "saving model...\n",
      "Epoch:23/2000.. Train Loss: 332916.912.. Val Loss: 324817.864.. Test Loss: 265957.817.. Time: 0.02m\n"
     ]
    },
    {
     "name": "stderr",
     "output_type": "stream",
     "text": [
      "100%|██████████| 53/53 [00:01<00:00, 46.02it/s]\n",
      "100%|██████████| 18/18 [00:00<00:00, 278.19it/s]\n",
      "100%|██████████| 18/18 [00:00<00:00, 288.20it/s]\n"
     ]
    },
    {
     "name": "stdout",
     "output_type": "stream",
     "text": [
      "Loss Decreasing.. 324817.864 >> 321638.099 \n",
      "saving model...\n",
      "Epoch:24/2000.. Train Loss: 321498.478.. Val Loss: 321638.099.. Test Loss: 245371.084.. Time: 0.02m\n"
     ]
    },
    {
     "name": "stderr",
     "output_type": "stream",
     "text": [
      "100%|██████████| 53/53 [00:01<00:00, 45.88it/s]\n",
      "100%|██████████| 18/18 [00:00<00:00, 289.96it/s]\n",
      "100%|██████████| 18/18 [00:00<00:00, 291.63it/s]\n"
     ]
    },
    {
     "name": "stdout",
     "output_type": "stream",
     "text": [
      "Loss Decreasing.. 321638.099 >> 300224.139 \n",
      "saving model...\n",
      "Epoch:25/2000.. Train Loss: 311315.629.. Val Loss: 300224.139.. Test Loss: 233425.067.. Time: 0.02m\n"
     ]
    },
    {
     "name": "stderr",
     "output_type": "stream",
     "text": [
      "100%|██████████| 53/53 [00:01<00:00, 45.42it/s]\n",
      "100%|██████████| 18/18 [00:00<00:00, 291.85it/s]\n",
      "100%|██████████| 18/18 [00:00<00:00, 289.28it/s]\n"
     ]
    },
    {
     "name": "stdout",
     "output_type": "stream",
     "text": [
      "Epoch:26/2000.. Train Loss: 303826.075.. Val Loss: 303953.962.. Test Loss: 229777.098.. Time: 0.02m\n"
     ]
    },
    {
     "name": "stderr",
     "output_type": "stream",
     "text": [
      "100%|██████████| 53/53 [00:01<00:00, 43.90it/s]\n",
      "100%|██████████| 18/18 [00:00<00:00, 292.09it/s]\n",
      "100%|██████████| 18/18 [00:00<00:00, 294.37it/s]\n"
     ]
    },
    {
     "name": "stdout",
     "output_type": "stream",
     "text": [
      "Loss Decreasing.. 300224.139 >> 282059.038 \n",
      "saving model...\n",
      "Epoch:27/2000.. Train Loss: 293078.637.. Val Loss: 282059.038.. Test Loss: 217765.284.. Time: 0.02m\n"
     ]
    },
    {
     "name": "stderr",
     "output_type": "stream",
     "text": [
      "100%|██████████| 53/53 [00:01<00:00, 45.88it/s]\n",
      "100%|██████████| 18/18 [00:00<00:00, 289.37it/s]\n",
      "100%|██████████| 18/18 [00:00<00:00, 288.09it/s]\n"
     ]
    },
    {
     "name": "stdout",
     "output_type": "stream",
     "text": [
      "Loss Decreasing.. 282059.038 >> 281574.628 \n",
      "saving model...\n",
      "Epoch:28/2000.. Train Loss: 286702.387.. Val Loss: 281574.628.. Test Loss: 214405.742.. Time: 0.02m\n"
     ]
    },
    {
     "name": "stderr",
     "output_type": "stream",
     "text": [
      "100%|██████████| 53/53 [00:01<00:00, 44.55it/s]\n",
      "100%|██████████| 18/18 [00:00<00:00, 294.01it/s]\n",
      "100%|██████████| 18/18 [00:00<00:00, 294.93it/s]\n"
     ]
    },
    {
     "name": "stdout",
     "output_type": "stream",
     "text": [
      "Loss Decreasing.. 281574.628 >> 268646.172 \n",
      "saving model...\n",
      "Epoch:29/2000.. Train Loss: 276592.595.. Val Loss: 268646.172.. Test Loss: 207122.568.. Time: 0.02m\n"
     ]
    },
    {
     "name": "stderr",
     "output_type": "stream",
     "text": [
      "100%|██████████| 53/53 [00:01<00:00, 47.29it/s]\n",
      "100%|██████████| 18/18 [00:00<00:00, 264.05it/s]\n",
      "100%|██████████| 18/18 [00:00<00:00, 270.96it/s]\n"
     ]
    },
    {
     "name": "stdout",
     "output_type": "stream",
     "text": [
      "Epoch:30/2000.. Train Loss: 271653.284.. Val Loss: 281912.004.. Test Loss: 213039.517.. Time: 0.02m\n"
     ]
    },
    {
     "name": "stderr",
     "output_type": "stream",
     "text": [
      "100%|██████████| 53/53 [00:01<00:00, 46.14it/s]\n",
      "100%|██████████| 18/18 [00:00<00:00, 293.64it/s]\n",
      "100%|██████████| 18/18 [00:00<00:00, 292.90it/s]\n"
     ]
    },
    {
     "name": "stdout",
     "output_type": "stream",
     "text": [
      "Loss Decreasing.. 268646.172 >> 259333.985 \n",
      "saving model...\n",
      "Epoch:31/2000.. Train Loss: 264677.918.. Val Loss: 259333.985.. Test Loss: 197183.110.. Time: 0.02m\n"
     ]
    },
    {
     "name": "stderr",
     "output_type": "stream",
     "text": [
      "100%|██████████| 53/53 [00:01<00:00, 46.99it/s]\n",
      "100%|██████████| 18/18 [00:00<00:00, 290.31it/s]\n",
      "100%|██████████| 18/18 [00:00<00:00, 297.79it/s]\n"
     ]
    },
    {
     "name": "stdout",
     "output_type": "stream",
     "text": [
      "Loss Decreasing.. 259333.985 >> 250372.085 \n",
      "saving model...\n",
      "Epoch:32/2000.. Train Loss: 254031.844.. Val Loss: 250372.085.. Test Loss: 195519.864.. Time: 0.02m\n"
     ]
    },
    {
     "name": "stderr",
     "output_type": "stream",
     "text": [
      "100%|██████████| 53/53 [00:01<00:00, 43.92it/s]\n",
      "100%|██████████| 18/18 [00:00<00:00, 291.96it/s]\n",
      "100%|██████████| 18/18 [00:00<00:00, 290.83it/s]\n"
     ]
    },
    {
     "name": "stdout",
     "output_type": "stream",
     "text": [
      "Epoch:33/2000.. Train Loss: 249406.985.. Val Loss: 255103.701.. Test Loss: 187778.128.. Time: 0.02m\n"
     ]
    },
    {
     "name": "stderr",
     "output_type": "stream",
     "text": [
      "100%|██████████| 53/53 [00:01<00:00, 47.69it/s]\n",
      "100%|██████████| 18/18 [00:00<00:00, 292.81it/s]\n",
      "100%|██████████| 18/18 [00:00<00:00, 299.18it/s]\n"
     ]
    },
    {
     "name": "stdout",
     "output_type": "stream",
     "text": [
      "Loss Decreasing.. 250372.085 >> 234283.998 \n",
      "saving model...\n",
      "Epoch:34/2000.. Train Loss: 241133.351.. Val Loss: 234283.998.. Test Loss: 179546.115.. Time: 0.02m\n"
     ]
    },
    {
     "name": "stderr",
     "output_type": "stream",
     "text": [
      "100%|██████████| 53/53 [00:01<00:00, 45.42it/s]\n",
      "100%|██████████| 18/18 [00:00<00:00, 288.32it/s]\n",
      "100%|██████████| 18/18 [00:00<00:00, 298.85it/s]\n"
     ]
    },
    {
     "name": "stdout",
     "output_type": "stream",
     "text": [
      "Loss Decreasing.. 234283.998 >> 231062.620 \n",
      "saving model...\n",
      "Epoch:35/2000.. Train Loss: 233396.763.. Val Loss: 231062.620.. Test Loss: 184414.067.. Time: 0.02m\n"
     ]
    },
    {
     "name": "stderr",
     "output_type": "stream",
     "text": [
      "100%|██████████| 53/53 [00:01<00:00, 46.45it/s]\n",
      "100%|██████████| 18/18 [00:00<00:00, 294.65it/s]\n",
      "100%|██████████| 18/18 [00:00<00:00, 296.62it/s]\n"
     ]
    },
    {
     "name": "stdout",
     "output_type": "stream",
     "text": [
      "Loss Decreasing.. 231062.620 >> 219056.828 \n",
      "saving model...\n",
      "Epoch:36/2000.. Train Loss: 226312.869.. Val Loss: 219056.828.. Test Loss: 169935.542.. Time: 0.02m\n"
     ]
    },
    {
     "name": "stderr",
     "output_type": "stream",
     "text": [
      "100%|██████████| 53/53 [00:01<00:00, 44.23it/s]\n",
      "100%|██████████| 18/18 [00:00<00:00, 288.64it/s]\n",
      "100%|██████████| 18/18 [00:00<00:00, 290.41it/s]\n"
     ]
    },
    {
     "name": "stdout",
     "output_type": "stream",
     "text": [
      "Epoch:37/2000.. Train Loss: 220892.403.. Val Loss: 235469.552.. Test Loss: 165956.971.. Time: 0.02m\n"
     ]
    },
    {
     "name": "stderr",
     "output_type": "stream",
     "text": [
      "100%|██████████| 53/53 [00:01<00:00, 45.84it/s]\n",
      "100%|██████████| 18/18 [00:00<00:00, 293.35it/s]\n",
      "100%|██████████| 18/18 [00:00<00:00, 294.54it/s]\n"
     ]
    },
    {
     "name": "stdout",
     "output_type": "stream",
     "text": [
      "Loss Decreasing.. 219056.828 >> 209002.640 \n",
      "saving model...\n",
      "Epoch:38/2000.. Train Loss: 216906.149.. Val Loss: 209002.640.. Test Loss: 165053.982.. Time: 0.02m\n"
     ]
    },
    {
     "name": "stderr",
     "output_type": "stream",
     "text": [
      "100%|██████████| 53/53 [00:01<00:00, 44.30it/s]\n",
      "100%|██████████| 18/18 [00:00<00:00, 265.13it/s]\n",
      "100%|██████████| 18/18 [00:00<00:00, 290.24it/s]\n"
     ]
    },
    {
     "name": "stdout",
     "output_type": "stream",
     "text": [
      "Loss Decreasing.. 209002.640 >> 205749.363 \n",
      "saving model...\n",
      "Epoch:39/2000.. Train Loss: 209351.730.. Val Loss: 205749.363.. Test Loss: 163746.643.. Time: 0.02m\n"
     ]
    },
    {
     "name": "stderr",
     "output_type": "stream",
     "text": [
      "100%|██████████| 53/53 [00:01<00:00, 46.44it/s]\n",
      "100%|██████████| 18/18 [00:00<00:00, 294.69it/s]\n",
      "100%|██████████| 18/18 [00:00<00:00, 297.98it/s]\n"
     ]
    },
    {
     "name": "stdout",
     "output_type": "stream",
     "text": [
      "Loss Decreasing.. 205749.363 >> 201807.841 \n",
      "saving model...\n",
      "Epoch:40/2000.. Train Loss: 205308.868.. Val Loss: 201807.841.. Test Loss: 154245.888.. Time: 0.02m\n"
     ]
    },
    {
     "name": "stderr",
     "output_type": "stream",
     "text": [
      "100%|██████████| 53/53 [00:01<00:00, 46.53it/s]\n",
      "100%|██████████| 18/18 [00:00<00:00, 295.75it/s]\n",
      "100%|██████████| 18/18 [00:00<00:00, 292.79it/s]\n"
     ]
    },
    {
     "name": "stdout",
     "output_type": "stream",
     "text": [
      "Loss Decreasing.. 201807.841 >> 196939.359 \n",
      "saving model...\n",
      "Epoch:41/2000.. Train Loss: 198923.254.. Val Loss: 196939.359.. Test Loss: 153904.108.. Time: 0.02m\n"
     ]
    },
    {
     "name": "stderr",
     "output_type": "stream",
     "text": [
      "100%|██████████| 53/53 [00:01<00:00, 42.97it/s]\n",
      "100%|██████████| 18/18 [00:00<00:00, 291.61it/s]\n",
      "100%|██████████| 18/18 [00:00<00:00, 292.76it/s]\n"
     ]
    },
    {
     "name": "stdout",
     "output_type": "stream",
     "text": [
      "Loss Decreasing.. 196939.359 >> 194314.737 \n",
      "saving model...\n",
      "Epoch:42/2000.. Train Loss: 194483.025.. Val Loss: 194314.737.. Test Loss: 154538.568.. Time: 0.02m\n"
     ]
    },
    {
     "name": "stderr",
     "output_type": "stream",
     "text": [
      "100%|██████████| 53/53 [00:01<00:00, 44.69it/s]\n",
      "100%|██████████| 18/18 [00:00<00:00, 288.13it/s]\n",
      "100%|██████████| 18/18 [00:00<00:00, 293.77it/s]\n"
     ]
    },
    {
     "name": "stdout",
     "output_type": "stream",
     "text": [
      "Loss Decreasing.. 194314.737 >> 191598.791 \n",
      "saving model...\n",
      "Epoch:43/2000.. Train Loss: 190334.038.. Val Loss: 191598.791.. Test Loss: 143485.980.. Time: 0.02m\n"
     ]
    },
    {
     "name": "stderr",
     "output_type": "stream",
     "text": [
      "100%|██████████| 53/53 [00:01<00:00, 47.11it/s]\n",
      "100%|██████████| 18/18 [00:00<00:00, 290.95it/s]\n",
      "100%|██████████| 18/18 [00:00<00:00, 295.59it/s]\n"
     ]
    },
    {
     "name": "stdout",
     "output_type": "stream",
     "text": [
      "Loss Decreasing.. 191598.791 >> 181543.163 \n",
      "saving model...\n",
      "Epoch:44/2000.. Train Loss: 184666.660.. Val Loss: 181543.163.. Test Loss: 148223.651.. Time: 0.02m\n"
     ]
    },
    {
     "name": "stderr",
     "output_type": "stream",
     "text": [
      "100%|██████████| 53/53 [00:01<00:00, 45.43it/s]\n",
      "100%|██████████| 18/18 [00:00<00:00, 292.44it/s]\n",
      "100%|██████████| 18/18 [00:00<00:00, 296.94it/s]\n"
     ]
    },
    {
     "name": "stdout",
     "output_type": "stream",
     "text": [
      "Loss Decreasing.. 181543.163 >> 178400.286 \n",
      "saving model...\n",
      "Epoch:45/2000.. Train Loss: 182068.660.. Val Loss: 178400.286.. Test Loss: 137822.017.. Time: 0.02m\n"
     ]
    },
    {
     "name": "stderr",
     "output_type": "stream",
     "text": [
      "100%|██████████| 53/53 [00:01<00:00, 43.88it/s]\n",
      "100%|██████████| 18/18 [00:00<00:00, 290.06it/s]\n",
      "100%|██████████| 18/18 [00:00<00:00, 296.02it/s]\n"
     ]
    },
    {
     "name": "stdout",
     "output_type": "stream",
     "text": [
      "Loss Decreasing.. 178400.286 >> 178289.668 \n",
      "saving model...\n",
      "Epoch:46/2000.. Train Loss: 176741.035.. Val Loss: 178289.668.. Test Loss: 140170.202.. Time: 0.02m\n"
     ]
    },
    {
     "name": "stderr",
     "output_type": "stream",
     "text": [
      "100%|██████████| 53/53 [00:01<00:00, 46.77it/s]\n",
      "100%|██████████| 18/18 [00:00<00:00, 293.76it/s]\n",
      "100%|██████████| 18/18 [00:00<00:00, 286.56it/s]\n"
     ]
    },
    {
     "name": "stdout",
     "output_type": "stream",
     "text": [
      "Loss Decreasing.. 178289.668 >> 169055.194 \n",
      "saving model...\n",
      "Epoch:47/2000.. Train Loss: 174401.495.. Val Loss: 169055.194.. Test Loss: 133905.697.. Time: 0.02m\n"
     ]
    },
    {
     "name": "stderr",
     "output_type": "stream",
     "text": [
      "100%|██████████| 53/53 [00:01<00:00, 44.61it/s]\n",
      "100%|██████████| 18/18 [00:00<00:00, 284.93it/s]\n",
      "100%|██████████| 18/18 [00:00<00:00, 263.58it/s]\n"
     ]
    },
    {
     "name": "stdout",
     "output_type": "stream",
     "text": [
      "Loss Decreasing.. 169055.194 >> 166103.904 \n",
      "saving model...\n",
      "Epoch:48/2000.. Train Loss: 170179.771.. Val Loss: 166103.904.. Test Loss: 131124.495.. Time: 0.02m\n"
     ]
    },
    {
     "name": "stderr",
     "output_type": "stream",
     "text": [
      "100%|██████████| 53/53 [00:01<00:00, 46.66it/s]\n",
      "100%|██████████| 18/18 [00:00<00:00, 294.81it/s]\n",
      "100%|██████████| 18/18 [00:00<00:00, 299.91it/s]\n"
     ]
    },
    {
     "name": "stdout",
     "output_type": "stream",
     "text": [
      "Epoch:49/2000.. Train Loss: 166560.108.. Val Loss: 182592.158.. Test Loss: 129533.065.. Time: 0.02m\n"
     ]
    },
    {
     "name": "stderr",
     "output_type": "stream",
     "text": [
      "100%|██████████| 53/53 [00:01<00:00, 45.71it/s]\n",
      "100%|██████████| 18/18 [00:00<00:00, 294.79it/s]\n",
      "100%|██████████| 18/18 [00:00<00:00, 295.23it/s]\n"
     ]
    },
    {
     "name": "stdout",
     "output_type": "stream",
     "text": [
      "Loss Decreasing.. 166103.904 >> 163889.585 \n",
      "saving model...\n",
      "Epoch:50/2000.. Train Loss: 164302.981.. Val Loss: 163889.585.. Test Loss: 125121.371.. Time: 0.02m\n"
     ]
    },
    {
     "name": "stderr",
     "output_type": "stream",
     "text": [
      "100%|██████████| 53/53 [00:01<00:00, 44.92it/s]\n",
      "100%|██████████| 18/18 [00:00<00:00, 297.66it/s]\n",
      "100%|██████████| 18/18 [00:00<00:00, 298.27it/s]\n"
     ]
    },
    {
     "name": "stdout",
     "output_type": "stream",
     "text": [
      "Loss Decreasing.. 163889.585 >> 163632.431 \n",
      "saving model...\n",
      "Epoch:51/2000.. Train Loss: 158961.175.. Val Loss: 163632.431.. Test Loss: 123874.264.. Time: 0.02m\n"
     ]
    },
    {
     "name": "stderr",
     "output_type": "stream",
     "text": [
      "100%|██████████| 53/53 [00:01<00:00, 45.77it/s]\n",
      "100%|██████████| 18/18 [00:00<00:00, 294.09it/s]\n",
      "100%|██████████| 18/18 [00:00<00:00, 296.71it/s]\n"
     ]
    },
    {
     "name": "stdout",
     "output_type": "stream",
     "text": [
      "Loss Decreasing.. 163632.431 >> 152440.853 \n",
      "saving model...\n",
      "Epoch:52/2000.. Train Loss: 154403.153.. Val Loss: 152440.853.. Test Loss: 123787.231.. Time: 0.02m\n"
     ]
    },
    {
     "name": "stderr",
     "output_type": "stream",
     "text": [
      "100%|██████████| 53/53 [00:01<00:00, 45.77it/s]\n",
      "100%|██████████| 18/18 [00:00<00:00, 259.87it/s]\n",
      "100%|██████████| 18/18 [00:00<00:00, 293.96it/s]\n"
     ]
    },
    {
     "name": "stdout",
     "output_type": "stream",
     "text": [
      "Epoch:53/2000.. Train Loss: 153017.263.. Val Loss: 153013.072.. Test Loss: 121422.289.. Time: 0.02m\n"
     ]
    },
    {
     "name": "stderr",
     "output_type": "stream",
     "text": [
      "100%|██████████| 53/53 [00:01<00:00, 45.71it/s]\n",
      "100%|██████████| 18/18 [00:00<00:00, 290.65it/s]\n",
      "100%|██████████| 18/18 [00:00<00:00, 290.92it/s]\n"
     ]
    },
    {
     "name": "stdout",
     "output_type": "stream",
     "text": [
      "Loss Decreasing.. 152440.853 >> 149486.113 \n",
      "saving model...\n",
      "Epoch:54/2000.. Train Loss: 150399.587.. Val Loss: 149486.113.. Test Loss: 119956.980.. Time: 0.02m\n"
     ]
    },
    {
     "name": "stderr",
     "output_type": "stream",
     "text": [
      "100%|██████████| 53/53 [00:01<00:00, 46.67it/s]\n",
      "100%|██████████| 18/18 [00:00<00:00, 293.51it/s]\n",
      "100%|██████████| 18/18 [00:00<00:00, 302.47it/s]\n"
     ]
    },
    {
     "name": "stdout",
     "output_type": "stream",
     "text": [
      "Loss Decreasing.. 149486.113 >> 146139.986 \n",
      "saving model...\n",
      "Epoch:55/2000.. Train Loss: 147839.626.. Val Loss: 146139.986.. Test Loss: 119101.528.. Time: 0.02m\n"
     ]
    },
    {
     "name": "stderr",
     "output_type": "stream",
     "text": [
      "100%|██████████| 53/53 [00:01<00:00, 45.22it/s]\n",
      "100%|██████████| 18/18 [00:00<00:00, 292.47it/s]\n",
      "100%|██████████| 18/18 [00:00<00:00, 296.82it/s]\n"
     ]
    },
    {
     "name": "stdout",
     "output_type": "stream",
     "text": [
      "Loss Decreasing.. 146139.986 >> 144244.738 \n",
      "saving model...\n",
      "Epoch:56/2000.. Train Loss: 143166.602.. Val Loss: 144244.738.. Test Loss: 117930.408.. Time: 0.02m\n"
     ]
    },
    {
     "name": "stderr",
     "output_type": "stream",
     "text": [
      "100%|██████████| 53/53 [00:01<00:00, 46.50it/s]\n",
      "100%|██████████| 18/18 [00:00<00:00, 295.31it/s]\n",
      "100%|██████████| 18/18 [00:00<00:00, 301.56it/s]\n"
     ]
    },
    {
     "name": "stdout",
     "output_type": "stream",
     "text": [
      "Loss Decreasing.. 144244.738 >> 139468.766 \n",
      "saving model...\n",
      "Epoch:57/2000.. Train Loss: 140937.236.. Val Loss: 139468.766.. Test Loss: 111769.810.. Time: 0.02m\n"
     ]
    },
    {
     "name": "stderr",
     "output_type": "stream",
     "text": [
      "100%|██████████| 53/53 [00:01<00:00, 47.31it/s]\n",
      "100%|██████████| 18/18 [00:00<00:00, 277.72it/s]\n",
      "100%|██████████| 18/18 [00:00<00:00, 279.71it/s]\n"
     ]
    },
    {
     "name": "stdout",
     "output_type": "stream",
     "text": [
      "Epoch:58/2000.. Train Loss: 139754.393.. Val Loss: 141843.486.. Test Loss: 110067.905.. Time: 0.02m\n"
     ]
    },
    {
     "name": "stderr",
     "output_type": "stream",
     "text": [
      "100%|██████████| 53/53 [00:01<00:00, 47.34it/s]\n",
      "100%|██████████| 18/18 [00:00<00:00, 296.87it/s]\n",
      "100%|██████████| 18/18 [00:00<00:00, 296.78it/s]\n"
     ]
    },
    {
     "name": "stdout",
     "output_type": "stream",
     "text": [
      "Loss Decreasing.. 139468.766 >> 137995.082 \n",
      "saving model...\n",
      "Epoch:59/2000.. Train Loss: 135734.696.. Val Loss: 137995.082.. Test Loss: 110949.427.. Time: 0.02m\n"
     ]
    },
    {
     "name": "stderr",
     "output_type": "stream",
     "text": [
      "100%|██████████| 53/53 [00:01<00:00, 45.41it/s]\n",
      "100%|██████████| 18/18 [00:00<00:00, 294.19it/s]\n",
      "100%|██████████| 18/18 [00:00<00:00, 294.25it/s]\n"
     ]
    },
    {
     "name": "stdout",
     "output_type": "stream",
     "text": [
      "Loss Decreasing.. 137995.082 >> 135526.174 \n",
      "saving model...\n",
      "Epoch:60/2000.. Train Loss: 133110.644.. Val Loss: 135526.174.. Test Loss: 108020.410.. Time: 0.02m\n"
     ]
    },
    {
     "name": "stderr",
     "output_type": "stream",
     "text": [
      "100%|██████████| 53/53 [00:01<00:00, 45.97it/s]\n",
      "100%|██████████| 18/18 [00:00<00:00, 294.60it/s]\n",
      "100%|██████████| 18/18 [00:00<00:00, 293.94it/s]\n"
     ]
    },
    {
     "name": "stdout",
     "output_type": "stream",
     "text": [
      "Epoch:61/2000.. Train Loss: 130008.628.. Val Loss: 135794.545.. Test Loss: 115877.821.. Time: 0.02m\n"
     ]
    },
    {
     "name": "stderr",
     "output_type": "stream",
     "text": [
      "100%|██████████| 53/53 [00:01<00:00, 48.00it/s]\n",
      "100%|██████████| 18/18 [00:00<00:00, 297.69it/s]\n",
      "100%|██████████| 18/18 [00:00<00:00, 292.26it/s]\n"
     ]
    },
    {
     "name": "stdout",
     "output_type": "stream",
     "text": [
      "Epoch:62/2000.. Train Loss: 127403.247.. Val Loss: 136646.720.. Test Loss: 111536.049.. Time: 0.02m\n"
     ]
    },
    {
     "name": "stderr",
     "output_type": "stream",
     "text": [
      "100%|██████████| 53/53 [00:01<00:00, 44.77it/s]\n",
      "100%|██████████| 18/18 [00:00<00:00, 293.44it/s]\n",
      "100%|██████████| 18/18 [00:00<00:00, 298.60it/s]\n"
     ]
    },
    {
     "name": "stdout",
     "output_type": "stream",
     "text": [
      "Loss Decreasing.. 135526.174 >> 127744.332 \n",
      "saving model...\n",
      "Epoch:63/2000.. Train Loss: 127175.246.. Val Loss: 127744.332.. Test Loss: 103930.129.. Time: 0.02m\n"
     ]
    },
    {
     "name": "stderr",
     "output_type": "stream",
     "text": [
      "100%|██████████| 53/53 [00:01<00:00, 47.61it/s]\n",
      "100%|██████████| 18/18 [00:00<00:00, 295.90it/s]\n",
      "100%|██████████| 18/18 [00:00<00:00, 298.38it/s]\n"
     ]
    },
    {
     "name": "stdout",
     "output_type": "stream",
     "text": [
      "Epoch:64/2000.. Train Loss: 123112.347.. Val Loss: 128781.977.. Test Loss: 102952.750.. Time: 0.02m\n"
     ]
    },
    {
     "name": "stderr",
     "output_type": "stream",
     "text": [
      "100%|██████████| 53/53 [00:01<00:00, 46.04it/s]\n",
      "100%|██████████| 18/18 [00:00<00:00, 291.56it/s]\n",
      "100%|██████████| 18/18 [00:00<00:00, 292.99it/s]\n"
     ]
    },
    {
     "name": "stdout",
     "output_type": "stream",
     "text": [
      "Loss Decreasing.. 127744.332 >> 125975.897 \n",
      "saving model...\n",
      "Epoch:65/2000.. Train Loss: 120986.160.. Val Loss: 125975.897.. Test Loss: 103351.996.. Time: 0.02m\n"
     ]
    },
    {
     "name": "stderr",
     "output_type": "stream",
     "text": [
      "100%|██████████| 53/53 [00:01<00:00, 47.41it/s]\n",
      "100%|██████████| 18/18 [00:00<00:00, 288.01it/s]\n",
      "100%|██████████| 18/18 [00:00<00:00, 300.84it/s]\n"
     ]
    },
    {
     "name": "stdout",
     "output_type": "stream",
     "text": [
      "Loss Decreasing.. 125975.897 >> 122622.423 \n",
      "saving model...\n",
      "Epoch:66/2000.. Train Loss: 118274.229.. Val Loss: 122622.423.. Test Loss: 100770.589.. Time: 0.02m\n"
     ]
    },
    {
     "name": "stderr",
     "output_type": "stream",
     "text": [
      "100%|██████████| 53/53 [00:01<00:00, 46.60it/s]\n",
      "100%|██████████| 18/18 [00:00<00:00, 293.17it/s]\n",
      "100%|██████████| 18/18 [00:00<00:00, 295.35it/s]\n"
     ]
    },
    {
     "name": "stdout",
     "output_type": "stream",
     "text": [
      "Loss Decreasing.. 122622.423 >> 121291.389 \n",
      "saving model...\n",
      "Epoch:67/2000.. Train Loss: 116759.835.. Val Loss: 121291.389.. Test Loss: 99626.149.. Time: 0.02m\n"
     ]
    },
    {
     "name": "stderr",
     "output_type": "stream",
     "text": [
      "100%|██████████| 53/53 [00:01<00:00, 46.33it/s]\n",
      "100%|██████████| 18/18 [00:00<00:00, 296.69it/s]\n",
      "100%|██████████| 18/18 [00:00<00:00, 260.39it/s]\n"
     ]
    },
    {
     "name": "stdout",
     "output_type": "stream",
     "text": [
      "Epoch:68/2000.. Train Loss: 117226.796.. Val Loss: 124203.890.. Test Loss: 99209.364.. Time: 0.02m\n"
     ]
    },
    {
     "name": "stderr",
     "output_type": "stream",
     "text": [
      "100%|██████████| 53/53 [00:01<00:00, 43.79it/s]\n",
      "100%|██████████| 18/18 [00:00<00:00, 296.22it/s]\n",
      "100%|██████████| 18/18 [00:00<00:00, 293.62it/s]\n"
     ]
    },
    {
     "name": "stdout",
     "output_type": "stream",
     "text": [
      "Loss Decreasing.. 121291.389 >> 120831.242 \n",
      "saving model...\n",
      "Epoch:69/2000.. Train Loss: 113207.795.. Val Loss: 120831.242.. Test Loss: 99690.182.. Time: 0.02m\n"
     ]
    },
    {
     "name": "stderr",
     "output_type": "stream",
     "text": [
      "100%|██████████| 53/53 [00:01<00:00, 47.38it/s]\n",
      "100%|██████████| 18/18 [00:00<00:00, 295.98it/s]\n",
      "100%|██████████| 18/18 [00:00<00:00, 297.19it/s]\n"
     ]
    },
    {
     "name": "stdout",
     "output_type": "stream",
     "text": [
      "Loss Decreasing.. 120831.242 >> 118047.114 \n",
      "saving model...\n",
      "Epoch:70/2000.. Train Loss: 112957.142.. Val Loss: 118047.114.. Test Loss: 97690.465.. Time: 0.02m\n"
     ]
    },
    {
     "name": "stderr",
     "output_type": "stream",
     "text": [
      "100%|██████████| 53/53 [00:01<00:00, 45.56it/s]\n",
      "100%|██████████| 18/18 [00:00<00:00, 303.62it/s]\n",
      "100%|██████████| 18/18 [00:00<00:00, 250.71it/s]\n"
     ]
    },
    {
     "name": "stdout",
     "output_type": "stream",
     "text": [
      "Epoch:71/2000.. Train Loss: 109132.976.. Val Loss: 130841.943.. Test Loss: 98696.330.. Time: 0.02m\n"
     ]
    },
    {
     "name": "stderr",
     "output_type": "stream",
     "text": [
      "100%|██████████| 53/53 [00:01<00:00, 45.30it/s]\n",
      "100%|██████████| 18/18 [00:00<00:00, 292.93it/s]\n",
      "100%|██████████| 18/18 [00:00<00:00, 261.32it/s]\n"
     ]
    },
    {
     "name": "stdout",
     "output_type": "stream",
     "text": [
      "Loss Decreasing.. 118047.114 >> 115697.660 \n",
      "saving model...\n",
      "Epoch:72/2000.. Train Loss: 110549.856.. Val Loss: 115697.660.. Test Loss: 96131.700.. Time: 0.02m\n"
     ]
    },
    {
     "name": "stderr",
     "output_type": "stream",
     "text": [
      "100%|██████████| 53/53 [00:01<00:00, 45.00it/s]\n",
      "100%|██████████| 18/18 [00:00<00:00, 293.74it/s]\n",
      "100%|██████████| 18/18 [00:00<00:00, 292.00it/s]\n"
     ]
    },
    {
     "name": "stdout",
     "output_type": "stream",
     "text": [
      "Epoch:73/2000.. Train Loss: 105094.430.. Val Loss: 123011.186.. Test Loss: 106317.687.. Time: 0.02m\n"
     ]
    },
    {
     "name": "stderr",
     "output_type": "stream",
     "text": [
      "100%|██████████| 53/53 [00:01<00:00, 47.41it/s]\n",
      "100%|██████████| 18/18 [00:00<00:00, 294.65it/s]\n",
      "100%|██████████| 18/18 [00:00<00:00, 301.48it/s]\n"
     ]
    },
    {
     "name": "stdout",
     "output_type": "stream",
     "text": [
      "Loss Decreasing.. 115697.660 >> 114781.683 \n",
      "saving model...\n",
      "Epoch:74/2000.. Train Loss: 105575.085.. Val Loss: 114781.683.. Test Loss: 94349.223.. Time: 0.02m\n"
     ]
    },
    {
     "name": "stderr",
     "output_type": "stream",
     "text": [
      "100%|██████████| 53/53 [00:01<00:00, 46.90it/s]\n",
      "100%|██████████| 18/18 [00:00<00:00, 292.20it/s]\n",
      "100%|██████████| 18/18 [00:00<00:00, 290.72it/s]\n"
     ]
    },
    {
     "name": "stdout",
     "output_type": "stream",
     "text": [
      "Loss Decreasing.. 114781.683 >> 112642.531 \n",
      "saving model...\n",
      "Epoch:75/2000.. Train Loss: 101592.989.. Val Loss: 112642.531.. Test Loss: 94232.735.. Time: 0.02m\n"
     ]
    },
    {
     "name": "stderr",
     "output_type": "stream",
     "text": [
      "100%|██████████| 53/53 [00:01<00:00, 45.19it/s]\n",
      "100%|██████████| 18/18 [00:00<00:00, 291.96it/s]\n",
      "100%|██████████| 18/18 [00:00<00:00, 287.35it/s]\n"
     ]
    },
    {
     "name": "stdout",
     "output_type": "stream",
     "text": [
      "Loss Decreasing.. 112642.531 >> 112047.043 \n",
      "saving model...\n",
      "Epoch:76/2000.. Train Loss: 100102.542.. Val Loss: 112047.043.. Test Loss: 104252.749.. Time: 0.02m\n"
     ]
    },
    {
     "name": "stderr",
     "output_type": "stream",
     "text": [
      "100%|██████████| 53/53 [00:01<00:00, 45.95it/s]\n",
      "100%|██████████| 18/18 [00:00<00:00, 293.59it/s]\n",
      "100%|██████████| 18/18 [00:00<00:00, 294.20it/s]\n"
     ]
    },
    {
     "name": "stdout",
     "output_type": "stream",
     "text": [
      "Loss Decreasing.. 112047.043 >> 110287.827 \n",
      "saving model...\n",
      "Epoch:77/2000.. Train Loss: 102444.001.. Val Loss: 110287.827.. Test Loss: 93614.232.. Time: 0.02m\n"
     ]
    },
    {
     "name": "stderr",
     "output_type": "stream",
     "text": [
      "100%|██████████| 53/53 [00:01<00:00, 44.76it/s]\n",
      "100%|██████████| 18/18 [00:00<00:00, 283.59it/s]\n",
      "100%|██████████| 18/18 [00:00<00:00, 296.12it/s]\n"
     ]
    },
    {
     "name": "stdout",
     "output_type": "stream",
     "text": [
      "Epoch:78/2000.. Train Loss: 97503.559.. Val Loss: 110373.840.. Test Loss: 97925.906.. Time: 0.02m\n"
     ]
    },
    {
     "name": "stderr",
     "output_type": "stream",
     "text": [
      "100%|██████████| 53/53 [00:01<00:00, 46.25it/s]\n",
      "100%|██████████| 18/18 [00:00<00:00, 288.92it/s]\n",
      "100%|██████████| 18/18 [00:00<00:00, 299.47it/s]\n"
     ]
    },
    {
     "name": "stdout",
     "output_type": "stream",
     "text": [
      "Loss Decreasing.. 110287.827 >> 110233.306 \n",
      "saving model...\n",
      "Epoch:79/2000.. Train Loss: 96049.703.. Val Loss: 110233.306.. Test Loss: 92211.826.. Time: 0.02m\n"
     ]
    },
    {
     "name": "stderr",
     "output_type": "stream",
     "text": [
      "100%|██████████| 53/53 [00:01<00:00, 45.30it/s]\n",
      "100%|██████████| 18/18 [00:00<00:00, 291.62it/s]\n",
      "100%|██████████| 18/18 [00:00<00:00, 300.16it/s]\n"
     ]
    },
    {
     "name": "stdout",
     "output_type": "stream",
     "text": [
      "Epoch:80/2000.. Train Loss: 94954.968.. Val Loss: 111126.207.. Test Loss: 98983.954.. Time: 0.02m\n"
     ]
    },
    {
     "name": "stderr",
     "output_type": "stream",
     "text": [
      "100%|██████████| 53/53 [00:01<00:00, 46.13it/s]\n",
      "100%|██████████| 18/18 [00:00<00:00, 295.60it/s]\n",
      "100%|██████████| 18/18 [00:00<00:00, 282.68it/s]\n"
     ]
    },
    {
     "name": "stdout",
     "output_type": "stream",
     "text": [
      "Loss Decreasing.. 110233.306 >> 107800.385 \n",
      "saving model...\n",
      "Epoch:81/2000.. Train Loss: 95833.923.. Val Loss: 107800.385.. Test Loss: 92346.650.. Time: 0.02m\n"
     ]
    },
    {
     "name": "stderr",
     "output_type": "stream",
     "text": [
      "100%|██████████| 53/53 [00:01<00:00, 45.26it/s]\n",
      "100%|██████████| 18/18 [00:00<00:00, 291.64it/s]\n",
      "100%|██████████| 18/18 [00:00<00:00, 292.56it/s]\n"
     ]
    },
    {
     "name": "stdout",
     "output_type": "stream",
     "text": [
      "Loss Decreasing.. 107800.385 >> 106709.539 \n",
      "saving model...\n",
      "Epoch:82/2000.. Train Loss: 92136.411.. Val Loss: 106709.539.. Test Loss: 91212.175.. Time: 0.02m\n"
     ]
    },
    {
     "name": "stderr",
     "output_type": "stream",
     "text": [
      "100%|██████████| 53/53 [00:01<00:00, 48.10it/s]\n",
      "100%|██████████| 18/18 [00:00<00:00, 296.02it/s]\n",
      "100%|██████████| 18/18 [00:00<00:00, 296.41it/s]\n"
     ]
    },
    {
     "name": "stdout",
     "output_type": "stream",
     "text": [
      "Epoch:83/2000.. Train Loss: 91938.138.. Val Loss: 107780.229.. Test Loss: 93309.256.. Time: 0.02m\n"
     ]
    },
    {
     "name": "stderr",
     "output_type": "stream",
     "text": [
      "100%|██████████| 53/53 [00:01<00:00, 46.93it/s]\n",
      "100%|██████████| 18/18 [00:00<00:00, 291.85it/s]\n",
      "100%|██████████| 18/18 [00:00<00:00, 297.27it/s]\n"
     ]
    },
    {
     "name": "stdout",
     "output_type": "stream",
     "text": [
      "Epoch:84/2000.. Train Loss: 90347.529.. Val Loss: 109745.331.. Test Loss: 92290.413.. Time: 0.02m\n"
     ]
    },
    {
     "name": "stderr",
     "output_type": "stream",
     "text": [
      "100%|██████████| 53/53 [00:01<00:00, 44.95it/s]\n",
      "100%|██████████| 18/18 [00:00<00:00, 283.90it/s]\n",
      "100%|██████████| 18/18 [00:00<00:00, 293.88it/s]\n"
     ]
    },
    {
     "name": "stdout",
     "output_type": "stream",
     "text": [
      "Loss Decreasing.. 106709.539 >> 105167.751 \n",
      "saving model...\n",
      "Epoch:85/2000.. Train Loss: 89999.908.. Val Loss: 105167.751.. Test Loss: 92089.628.. Time: 0.02m\n"
     ]
    },
    {
     "name": "stderr",
     "output_type": "stream",
     "text": [
      "100%|██████████| 53/53 [00:01<00:00, 45.53it/s]\n",
      "100%|██████████| 18/18 [00:00<00:00, 296.47it/s]\n",
      "100%|██████████| 18/18 [00:00<00:00, 295.53it/s]\n"
     ]
    },
    {
     "name": "stdout",
     "output_type": "stream",
     "text": [
      "Epoch:86/2000.. Train Loss: 89713.729.. Val Loss: 106887.661.. Test Loss: 89186.365.. Time: 0.02m\n"
     ]
    },
    {
     "name": "stderr",
     "output_type": "stream",
     "text": [
      "100%|██████████| 53/53 [00:01<00:00, 47.81it/s]\n",
      "100%|██████████| 18/18 [00:00<00:00, 288.94it/s]\n",
      "100%|██████████| 18/18 [00:00<00:00, 301.07it/s]\n"
     ]
    },
    {
     "name": "stdout",
     "output_type": "stream",
     "text": [
      "Loss Decreasing.. 105167.751 >> 104158.174 \n",
      "saving model...\n",
      "Epoch:87/2000.. Train Loss: 87393.990.. Val Loss: 104158.174.. Test Loss: 88424.683.. Time: 0.02m\n"
     ]
    },
    {
     "name": "stderr",
     "output_type": "stream",
     "text": [
      "100%|██████████| 53/53 [00:01<00:00, 47.28it/s]\n",
      "100%|██████████| 18/18 [00:00<00:00, 296.91it/s]\n",
      "100%|██████████| 18/18 [00:00<00:00, 288.11it/s]\n"
     ]
    },
    {
     "name": "stdout",
     "output_type": "stream",
     "text": [
      "Epoch:88/2000.. Train Loss: 85883.036.. Val Loss: 109876.170.. Test Loss: 95651.919.. Time: 0.02m\n"
     ]
    },
    {
     "name": "stderr",
     "output_type": "stream",
     "text": [
      "100%|██████████| 53/53 [00:01<00:00, 45.73it/s]\n",
      "100%|██████████| 18/18 [00:00<00:00, 291.40it/s]\n",
      "100%|██████████| 18/18 [00:00<00:00, 296.94it/s]\n"
     ]
    },
    {
     "name": "stdout",
     "output_type": "stream",
     "text": [
      "Epoch:89/2000.. Train Loss: 84614.282.. Val Loss: 107673.515.. Test Loss: 88905.898.. Time: 0.02m\n"
     ]
    },
    {
     "name": "stderr",
     "output_type": "stream",
     "text": [
      "100%|██████████| 53/53 [00:01<00:00, 48.20it/s]\n",
      "100%|██████████| 18/18 [00:00<00:00, 291.33it/s]\n",
      "100%|██████████| 18/18 [00:00<00:00, 293.56it/s]\n"
     ]
    },
    {
     "name": "stdout",
     "output_type": "stream",
     "text": [
      "Epoch:90/2000.. Train Loss: 83157.683.. Val Loss: 112809.264.. Test Loss: 88608.612.. Time: 0.02m\n"
     ]
    },
    {
     "name": "stderr",
     "output_type": "stream",
     "text": [
      "100%|██████████| 53/53 [00:01<00:00, 48.02it/s]\n",
      "100%|██████████| 18/18 [00:00<00:00, 296.00it/s]\n",
      "100%|██████████| 18/18 [00:00<00:00, 294.00it/s]\n"
     ]
    },
    {
     "name": "stdout",
     "output_type": "stream",
     "text": [
      "Loss Decreasing.. 104158.174 >> 104023.546 \n",
      "saving model...\n",
      "Epoch:91/2000.. Train Loss: 84347.520.. Val Loss: 104023.546.. Test Loss: 88891.723.. Time: 0.02m\n"
     ]
    },
    {
     "name": "stderr",
     "output_type": "stream",
     "text": [
      "100%|██████████| 53/53 [00:01<00:00, 46.88it/s]\n",
      "100%|██████████| 18/18 [00:00<00:00, 285.75it/s]\n",
      "100%|██████████| 18/18 [00:00<00:00, 291.10it/s]\n"
     ]
    },
    {
     "name": "stdout",
     "output_type": "stream",
     "text": [
      "Loss Decreasing.. 104023.546 >> 103141.432 \n",
      "saving model...\n",
      "Epoch:92/2000.. Train Loss: 80944.363.. Val Loss: 103141.432.. Test Loss: 97547.606.. Time: 0.02m\n"
     ]
    },
    {
     "name": "stderr",
     "output_type": "stream",
     "text": [
      "100%|██████████| 53/53 [00:01<00:00, 45.40it/s]\n",
      "100%|██████████| 18/18 [00:00<00:00, 290.38it/s]\n",
      "100%|██████████| 18/18 [00:00<00:00, 298.93it/s]\n"
     ]
    },
    {
     "name": "stdout",
     "output_type": "stream",
     "text": [
      "Loss Decreasing.. 103141.432 >> 101595.787 \n",
      "saving model...\n",
      "Epoch:93/2000.. Train Loss: 81840.187.. Val Loss: 101595.787.. Test Loss: 86458.169.. Time: 0.02m\n"
     ]
    },
    {
     "name": "stderr",
     "output_type": "stream",
     "text": [
      "100%|██████████| 53/53 [00:01<00:00, 46.65it/s]\n",
      "100%|██████████| 18/18 [00:00<00:00, 294.40it/s]\n",
      "100%|██████████| 18/18 [00:00<00:00, 299.27it/s]\n"
     ]
    },
    {
     "name": "stdout",
     "output_type": "stream",
     "text": [
      "Epoch:94/2000.. Train Loss: 81145.577.. Val Loss: 104104.403.. Test Loss: 89635.065.. Time: 0.02m\n"
     ]
    },
    {
     "name": "stderr",
     "output_type": "stream",
     "text": [
      "100%|██████████| 53/53 [00:01<00:00, 46.93it/s]\n",
      "100%|██████████| 18/18 [00:00<00:00, 295.25it/s]\n",
      "100%|██████████| 18/18 [00:00<00:00, 296.64it/s]\n"
     ]
    },
    {
     "name": "stdout",
     "output_type": "stream",
     "text": [
      "Epoch:95/2000.. Train Loss: 78959.570.. Val Loss: 101792.957.. Test Loss: 91832.599.. Time: 0.02m\n"
     ]
    },
    {
     "name": "stderr",
     "output_type": "stream",
     "text": [
      "100%|██████████| 53/53 [00:01<00:00, 46.26it/s]\n",
      "100%|██████████| 18/18 [00:00<00:00, 292.46it/s]\n",
      "100%|██████████| 18/18 [00:00<00:00, 290.13it/s]\n"
     ]
    },
    {
     "name": "stdout",
     "output_type": "stream",
     "text": [
      "Loss Decreasing.. 101595.787 >> 100383.872 \n",
      "saving model...\n",
      "Epoch:96/2000.. Train Loss: 77854.364.. Val Loss: 100383.872.. Test Loss: 87147.766.. Time: 0.02m\n"
     ]
    },
    {
     "name": "stderr",
     "output_type": "stream",
     "text": [
      "100%|██████████| 53/53 [00:01<00:00, 46.00it/s]\n",
      "100%|██████████| 18/18 [00:00<00:00, 289.61it/s]\n",
      "100%|██████████| 18/18 [00:00<00:00, 281.65it/s]\n"
     ]
    },
    {
     "name": "stdout",
     "output_type": "stream",
     "text": [
      "Epoch:97/2000.. Train Loss: 76926.988.. Val Loss: 107700.486.. Test Loss: 96638.168.. Time: 0.02m\n"
     ]
    },
    {
     "name": "stderr",
     "output_type": "stream",
     "text": [
      "100%|██████████| 53/53 [00:01<00:00, 45.10it/s]\n",
      "100%|██████████| 18/18 [00:00<00:00, 289.16it/s]\n",
      "100%|██████████| 18/18 [00:00<00:00, 295.03it/s]\n"
     ]
    },
    {
     "name": "stdout",
     "output_type": "stream",
     "text": [
      "Epoch:98/2000.. Train Loss: 75968.039.. Val Loss: 102915.571.. Test Loss: 89767.003.. Time: 0.02m\n"
     ]
    },
    {
     "name": "stderr",
     "output_type": "stream",
     "text": [
      "100%|██████████| 53/53 [00:01<00:00, 45.10it/s]\n",
      "100%|██████████| 18/18 [00:00<00:00, 295.77it/s]\n",
      "100%|██████████| 18/18 [00:00<00:00, 294.35it/s]\n"
     ]
    },
    {
     "name": "stdout",
     "output_type": "stream",
     "text": [
      "Loss Decreasing.. 100383.872 >> 100153.677 \n",
      "saving model...\n",
      "Epoch:99/2000.. Train Loss: 76720.824.. Val Loss: 100153.677.. Test Loss: 89325.193.. Time: 0.02m\n"
     ]
    },
    {
     "name": "stderr",
     "output_type": "stream",
     "text": [
      "100%|██████████| 53/53 [00:01<00:00, 46.15it/s]\n",
      "100%|██████████| 18/18 [00:00<00:00, 294.15it/s]\n",
      "100%|██████████| 18/18 [00:00<00:00, 296.74it/s]\n"
     ]
    },
    {
     "name": "stdout",
     "output_type": "stream",
     "text": [
      "Epoch:100/2000.. Train Loss: 74093.450.. Val Loss: 100830.507.. Test Loss: 85065.025.. Time: 0.02m\n"
     ]
    },
    {
     "name": "stderr",
     "output_type": "stream",
     "text": [
      "100%|██████████| 53/53 [00:01<00:00, 46.62it/s]\n",
      "100%|██████████| 18/18 [00:00<00:00, 291.92it/s]\n",
      "100%|██████████| 18/18 [00:00<00:00, 290.95it/s]\n"
     ]
    },
    {
     "name": "stdout",
     "output_type": "stream",
     "text": [
      "Loss Decreasing.. 100153.677 >> 98358.778 \n",
      "saving model...\n",
      "Epoch:101/2000.. Train Loss: 74842.842.. Val Loss: 98358.778.. Test Loss: 87047.738.. Time: 0.02m\n"
     ]
    },
    {
     "name": "stderr",
     "output_type": "stream",
     "text": [
      "100%|██████████| 53/53 [00:01<00:00, 44.88it/s]\n",
      "100%|██████████| 18/18 [00:00<00:00, 288.42it/s]\n",
      "100%|██████████| 18/18 [00:00<00:00, 293.53it/s]\n"
     ]
    },
    {
     "name": "stdout",
     "output_type": "stream",
     "text": [
      "Epoch:102/2000.. Train Loss: 72446.084.. Val Loss: 112458.142.. Test Loss: 88671.005.. Time: 0.02m\n"
     ]
    },
    {
     "name": "stderr",
     "output_type": "stream",
     "text": [
      "100%|██████████| 53/53 [00:01<00:00, 45.68it/s]\n",
      "100%|██████████| 18/18 [00:00<00:00, 288.06it/s]\n",
      "100%|██████████| 18/18 [00:00<00:00, 296.78it/s]\n"
     ]
    },
    {
     "name": "stdout",
     "output_type": "stream",
     "text": [
      "Epoch:103/2000.. Train Loss: 71674.022.. Val Loss: 100589.169.. Test Loss: 90872.717.. Time: 0.02m\n"
     ]
    },
    {
     "name": "stderr",
     "output_type": "stream",
     "text": [
      "100%|██████████| 53/53 [00:01<00:00, 47.21it/s]\n",
      "100%|██████████| 18/18 [00:00<00:00, 292.93it/s]\n",
      "100%|██████████| 18/18 [00:00<00:00, 299.74it/s]\n"
     ]
    },
    {
     "name": "stdout",
     "output_type": "stream",
     "text": [
      "Loss Decreasing.. 98358.778 >> 97817.145 \n",
      "saving model...\n",
      "Epoch:104/2000.. Train Loss: 72361.946.. Val Loss: 97817.145.. Test Loss: 85341.635.. Time: 0.02m\n"
     ]
    },
    {
     "name": "stderr",
     "output_type": "stream",
     "text": [
      "100%|██████████| 53/53 [00:01<00:00, 45.97it/s]\n",
      "100%|██████████| 18/18 [00:00<00:00, 245.19it/s]\n",
      "100%|██████████| 18/18 [00:00<00:00, 277.05it/s]\n"
     ]
    },
    {
     "name": "stdout",
     "output_type": "stream",
     "text": [
      "Epoch:105/2000.. Train Loss: 70115.010.. Val Loss: 101086.030.. Test Loss: 84164.830.. Time: 0.02m\n"
     ]
    },
    {
     "name": "stderr",
     "output_type": "stream",
     "text": [
      "100%|██████████| 53/53 [00:01<00:00, 45.01it/s]\n",
      "100%|██████████| 18/18 [00:00<00:00, 291.33it/s]\n",
      "100%|██████████| 18/18 [00:00<00:00, 258.53it/s]\n"
     ]
    },
    {
     "name": "stdout",
     "output_type": "stream",
     "text": [
      "Epoch:106/2000.. Train Loss: 69499.798.. Val Loss: 98793.655.. Test Loss: 85044.398.. Time: 0.02m\n"
     ]
    },
    {
     "name": "stderr",
     "output_type": "stream",
     "text": [
      "100%|██████████| 53/53 [00:01<00:00, 47.45it/s]\n",
      "100%|██████████| 18/18 [00:00<00:00, 256.06it/s]\n",
      "100%|██████████| 18/18 [00:00<00:00, 299.74it/s]\n"
     ]
    },
    {
     "name": "stdout",
     "output_type": "stream",
     "text": [
      "Epoch:107/2000.. Train Loss: 70345.874.. Val Loss: 98735.208.. Test Loss: 84949.191.. Time: 0.02m\n"
     ]
    },
    {
     "name": "stderr",
     "output_type": "stream",
     "text": [
      "100%|██████████| 53/53 [00:01<00:00, 45.83it/s]\n",
      "100%|██████████| 18/18 [00:00<00:00, 292.48it/s]\n",
      "100%|██████████| 18/18 [00:00<00:00, 299.64it/s]\n"
     ]
    },
    {
     "name": "stdout",
     "output_type": "stream",
     "text": [
      "Epoch:108/2000.. Train Loss: 67663.383.. Val Loss: 98090.536.. Test Loss: 83264.735.. Time: 0.02m\n"
     ]
    },
    {
     "name": "stderr",
     "output_type": "stream",
     "text": [
      "100%|██████████| 53/53 [00:01<00:00, 47.61it/s]\n",
      "100%|██████████| 18/18 [00:00<00:00, 290.17it/s]\n",
      "100%|██████████| 18/18 [00:00<00:00, 291.90it/s]\n"
     ]
    },
    {
     "name": "stdout",
     "output_type": "stream",
     "text": [
      "Loss Decreasing.. 97817.145 >> 95783.305 \n",
      "saving model...\n",
      "Epoch:109/2000.. Train Loss: 68295.717.. Val Loss: 95783.305.. Test Loss: 83084.201.. Time: 0.02m\n"
     ]
    },
    {
     "name": "stderr",
     "output_type": "stream",
     "text": [
      "100%|██████████| 53/53 [00:01<00:00, 46.21it/s]\n",
      "100%|██████████| 18/18 [00:00<00:00, 291.51it/s]\n",
      "100%|██████████| 18/18 [00:00<00:00, 299.93it/s]\n"
     ]
    },
    {
     "name": "stdout",
     "output_type": "stream",
     "text": [
      "Epoch:110/2000.. Train Loss: 66224.188.. Val Loss: 99774.597.. Test Loss: 82992.107.. Time: 0.02m\n"
     ]
    },
    {
     "name": "stderr",
     "output_type": "stream",
     "text": [
      "100%|██████████| 53/53 [00:01<00:00, 45.39it/s]\n",
      "100%|██████████| 18/18 [00:00<00:00, 294.05it/s]\n",
      "100%|██████████| 18/18 [00:00<00:00, 300.45it/s]\n"
     ]
    },
    {
     "name": "stdout",
     "output_type": "stream",
     "text": [
      "Epoch:111/2000.. Train Loss: 66243.496.. Val Loss: 113650.398.. Test Loss: 82865.148.. Time: 0.02m\n"
     ]
    },
    {
     "name": "stderr",
     "output_type": "stream",
     "text": [
      "100%|██████████| 53/53 [00:01<00:00, 45.69it/s]\n",
      "100%|██████████| 18/18 [00:00<00:00, 292.64it/s]\n",
      "100%|██████████| 18/18 [00:00<00:00, 287.59it/s]\n"
     ]
    },
    {
     "name": "stdout",
     "output_type": "stream",
     "text": [
      "Epoch:112/2000.. Train Loss: 65471.948.. Val Loss: 102452.641.. Test Loss: 83173.217.. Time: 0.02m\n"
     ]
    },
    {
     "name": "stderr",
     "output_type": "stream",
     "text": [
      "100%|██████████| 53/53 [00:01<00:00, 46.64it/s]\n",
      "100%|██████████| 18/18 [00:00<00:00, 295.32it/s]\n",
      "100%|██████████| 18/18 [00:00<00:00, 292.73it/s]\n"
     ]
    },
    {
     "name": "stdout",
     "output_type": "stream",
     "text": [
      "Epoch:113/2000.. Train Loss: 65080.796.. Val Loss: 97861.430.. Test Loss: 81888.919.. Time: 0.02m\n"
     ]
    },
    {
     "name": "stderr",
     "output_type": "stream",
     "text": [
      "100%|██████████| 53/53 [00:01<00:00, 46.59it/s]\n",
      "100%|██████████| 18/18 [00:00<00:00, 297.85it/s]\n",
      "100%|██████████| 18/18 [00:00<00:00, 256.96it/s]\n"
     ]
    },
    {
     "name": "stdout",
     "output_type": "stream",
     "text": [
      "Epoch:114/2000.. Train Loss: 64354.943.. Val Loss: 98413.732.. Test Loss: 82242.937.. Time: 0.02m\n"
     ]
    },
    {
     "name": "stderr",
     "output_type": "stream",
     "text": [
      "100%|██████████| 53/53 [00:01<00:00, 46.09it/s]\n",
      "100%|██████████| 18/18 [00:00<00:00, 290.96it/s]\n",
      "100%|██████████| 18/18 [00:00<00:00, 299.60it/s]\n"
     ]
    },
    {
     "name": "stdout",
     "output_type": "stream",
     "text": [
      "Loss Decreasing.. 95783.305 >> 93981.806 \n",
      "saving model...\n",
      "Epoch:115/2000.. Train Loss: 63643.882.. Val Loss: 93981.806.. Test Loss: 81545.641.. Time: 0.02m\n"
     ]
    },
    {
     "name": "stderr",
     "output_type": "stream",
     "text": [
      "100%|██████████| 53/53 [00:01<00:00, 47.10it/s]\n",
      "100%|██████████| 18/18 [00:00<00:00, 296.15it/s]\n",
      "100%|██████████| 18/18 [00:00<00:00, 292.83it/s]\n"
     ]
    },
    {
     "name": "stdout",
     "output_type": "stream",
     "text": [
      "Epoch:116/2000.. Train Loss: 62760.337.. Val Loss: 97891.603.. Test Loss: 88750.795.. Time: 0.02m\n"
     ]
    },
    {
     "name": "stderr",
     "output_type": "stream",
     "text": [
      "100%|██████████| 53/53 [00:01<00:00, 47.07it/s]\n",
      "100%|██████████| 18/18 [00:00<00:00, 289.25it/s]\n",
      "100%|██████████| 18/18 [00:00<00:00, 257.99it/s]\n"
     ]
    },
    {
     "name": "stdout",
     "output_type": "stream",
     "text": [
      "Epoch:117/2000.. Train Loss: 62334.551.. Val Loss: 109077.277.. Test Loss: 81581.441.. Time: 0.02m\n"
     ]
    },
    {
     "name": "stderr",
     "output_type": "stream",
     "text": [
      "100%|██████████| 53/53 [00:01<00:00, 44.48it/s]\n",
      "100%|██████████| 18/18 [00:00<00:00, 293.51it/s]\n",
      "100%|██████████| 18/18 [00:00<00:00, 293.73it/s]\n"
     ]
    },
    {
     "name": "stdout",
     "output_type": "stream",
     "text": [
      "Epoch:118/2000.. Train Loss: 61335.063.. Val Loss: 94186.300.. Test Loss: 81137.638.. Time: 0.02m\n"
     ]
    },
    {
     "name": "stderr",
     "output_type": "stream",
     "text": [
      "100%|██████████| 53/53 [00:01<00:00, 43.10it/s]\n",
      "100%|██████████| 18/18 [00:00<00:00, 270.48it/s]\n",
      "100%|██████████| 18/18 [00:00<00:00, 274.08it/s]\n"
     ]
    },
    {
     "name": "stdout",
     "output_type": "stream",
     "text": [
      "Epoch:119/2000.. Train Loss: 60945.599.. Val Loss: 107529.175.. Test Loss: 82077.299.. Time: 0.02m\n"
     ]
    },
    {
     "name": "stderr",
     "output_type": "stream",
     "text": [
      "100%|██████████| 53/53 [00:01<00:00, 44.68it/s]\n",
      "100%|██████████| 18/18 [00:00<00:00, 290.07it/s]\n",
      "100%|██████████| 18/18 [00:00<00:00, 296.09it/s]\n"
     ]
    },
    {
     "name": "stdout",
     "output_type": "stream",
     "text": [
      "Epoch:120/2000.. Train Loss: 60476.665.. Val Loss: 107095.281.. Test Loss: 80534.450.. Time: 0.02m\n"
     ]
    },
    {
     "name": "stderr",
     "output_type": "stream",
     "text": [
      "100%|██████████| 53/53 [00:01<00:00, 43.57it/s]\n",
      "100%|██████████| 18/18 [00:00<00:00, 290.88it/s]\n",
      "100%|██████████| 18/18 [00:00<00:00, 293.27it/s]\n"
     ]
    },
    {
     "name": "stdout",
     "output_type": "stream",
     "text": [
      "Loss Decreasing.. 93981.806 >> 93189.071 \n",
      "saving model...\n",
      "Epoch:121/2000.. Train Loss: 59675.665.. Val Loss: 93189.071.. Test Loss: 80675.876.. Time: 0.02m\n"
     ]
    },
    {
     "name": "stderr",
     "output_type": "stream",
     "text": [
      "100%|██████████| 53/53 [00:01<00:00, 44.58it/s]\n",
      "100%|██████████| 18/18 [00:00<00:00, 295.64it/s]\n",
      "100%|██████████| 18/18 [00:00<00:00, 297.00it/s]\n"
     ]
    },
    {
     "name": "stdout",
     "output_type": "stream",
     "text": [
      "Epoch:122/2000.. Train Loss: 59447.304.. Val Loss: 113467.031.. Test Loss: 80641.156.. Time: 0.02m\n"
     ]
    },
    {
     "name": "stderr",
     "output_type": "stream",
     "text": [
      "100%|██████████| 53/53 [00:01<00:00, 45.74it/s]\n",
      "100%|██████████| 18/18 [00:00<00:00, 251.70it/s]\n",
      "100%|██████████| 18/18 [00:00<00:00, 293.07it/s]\n"
     ]
    },
    {
     "name": "stdout",
     "output_type": "stream",
     "text": [
      "Loss Decreasing.. 93189.071 >> 92443.213 \n",
      "saving model...\n",
      "Epoch:123/2000.. Train Loss: 59017.777.. Val Loss: 92443.213.. Test Loss: 86313.296.. Time: 0.02m\n"
     ]
    },
    {
     "name": "stderr",
     "output_type": "stream",
     "text": [
      "100%|██████████| 53/53 [00:01<00:00, 45.36it/s]\n",
      "100%|██████████| 18/18 [00:00<00:00, 290.11it/s]\n",
      "100%|██████████| 18/18 [00:00<00:00, 302.89it/s]\n"
     ]
    },
    {
     "name": "stdout",
     "output_type": "stream",
     "text": [
      "Loss Decreasing.. 92443.213 >> 92336.788 \n",
      "saving model...\n",
      "Epoch:124/2000.. Train Loss: 58330.123.. Val Loss: 92336.788.. Test Loss: 82092.570.. Time: 0.02m\n"
     ]
    },
    {
     "name": "stderr",
     "output_type": "stream",
     "text": [
      "100%|██████████| 53/53 [00:01<00:00, 45.25it/s]\n",
      "100%|██████████| 18/18 [00:00<00:00, 286.66it/s]\n",
      "100%|██████████| 18/18 [00:00<00:00, 297.15it/s]\n"
     ]
    },
    {
     "name": "stdout",
     "output_type": "stream",
     "text": [
      "Loss Decreasing.. 92336.788 >> 91667.083 \n",
      "saving model...\n",
      "Epoch:125/2000.. Train Loss: 56516.087.. Val Loss: 91667.083.. Test Loss: 81651.500.. Time: 0.02m\n"
     ]
    },
    {
     "name": "stderr",
     "output_type": "stream",
     "text": [
      "100%|██████████| 53/53 [00:01<00:00, 45.67it/s]\n",
      "100%|██████████| 18/18 [00:00<00:00, 289.58it/s]\n",
      "100%|██████████| 18/18 [00:00<00:00, 297.51it/s]\n"
     ]
    },
    {
     "name": "stdout",
     "output_type": "stream",
     "text": [
      "Epoch:126/2000.. Train Loss: 56814.369.. Val Loss: 92248.695.. Test Loss: 80354.014.. Time: 0.02m\n"
     ]
    },
    {
     "name": "stderr",
     "output_type": "stream",
     "text": [
      "100%|██████████| 53/53 [00:01<00:00, 45.12it/s]\n",
      "100%|██████████| 18/18 [00:00<00:00, 295.26it/s]\n",
      "100%|██████████| 18/18 [00:00<00:00, 295.16it/s]\n"
     ]
    },
    {
     "name": "stdout",
     "output_type": "stream",
     "text": [
      "Epoch:127/2000.. Train Loss: 55793.180.. Val Loss: 92314.652.. Test Loss: 80111.706.. Time: 0.02m\n"
     ]
    },
    {
     "name": "stderr",
     "output_type": "stream",
     "text": [
      "100%|██████████| 53/53 [00:01<00:00, 44.89it/s]\n",
      "100%|██████████| 18/18 [00:00<00:00, 280.76it/s]\n",
      "100%|██████████| 18/18 [00:00<00:00, 284.86it/s]\n"
     ]
    },
    {
     "name": "stdout",
     "output_type": "stream",
     "text": [
      "Loss Decreasing.. 91667.083 >> 91438.098 \n",
      "saving model...\n",
      "Epoch:128/2000.. Train Loss: 56327.130.. Val Loss: 91438.098.. Test Loss: 87593.491.. Time: 0.02m\n"
     ]
    },
    {
     "name": "stderr",
     "output_type": "stream",
     "text": [
      "100%|██████████| 53/53 [00:01<00:00, 44.16it/s]\n",
      "100%|██████████| 18/18 [00:00<00:00, 286.58it/s]\n",
      "100%|██████████| 18/18 [00:00<00:00, 292.73it/s]\n"
     ]
    },
    {
     "name": "stdout",
     "output_type": "stream",
     "text": [
      "Epoch:129/2000.. Train Loss: 55596.785.. Val Loss: 93386.795.. Test Loss: 78258.204.. Time: 0.02m\n"
     ]
    },
    {
     "name": "stderr",
     "output_type": "stream",
     "text": [
      "100%|██████████| 53/53 [00:01<00:00, 45.04it/s]\n",
      "100%|██████████| 18/18 [00:00<00:00, 288.43it/s]\n",
      "100%|██████████| 18/18 [00:00<00:00, 290.20it/s]\n"
     ]
    },
    {
     "name": "stdout",
     "output_type": "stream",
     "text": [
      "Epoch:130/2000.. Train Loss: 56149.297.. Val Loss: 91440.958.. Test Loss: 94656.888.. Time: 0.02m\n"
     ]
    },
    {
     "name": "stderr",
     "output_type": "stream",
     "text": [
      "100%|██████████| 53/53 [00:01<00:00, 44.71it/s]\n",
      "100%|██████████| 18/18 [00:00<00:00, 287.51it/s]\n",
      "100%|██████████| 18/18 [00:00<00:00, 288.69it/s]\n"
     ]
    },
    {
     "name": "stdout",
     "output_type": "stream",
     "text": [
      "Epoch:131/2000.. Train Loss: 55718.231.. Val Loss: 93205.298.. Test Loss: 77763.450.. Time: 0.02m\n"
     ]
    },
    {
     "name": "stderr",
     "output_type": "stream",
     "text": [
      "100%|██████████| 53/53 [00:01<00:00, 44.32it/s]\n",
      "100%|██████████| 18/18 [00:00<00:00, 290.17it/s]\n",
      "100%|██████████| 18/18 [00:00<00:00, 295.52it/s]\n"
     ]
    },
    {
     "name": "stdout",
     "output_type": "stream",
     "text": [
      "Epoch:132/2000.. Train Loss: 55076.631.. Val Loss: 93038.380.. Test Loss: 77872.550.. Time: 0.02m\n"
     ]
    },
    {
     "name": "stderr",
     "output_type": "stream",
     "text": [
      "100%|██████████| 53/53 [00:01<00:00, 44.01it/s]\n",
      "100%|██████████| 18/18 [00:00<00:00, 297.58it/s]\n",
      "100%|██████████| 18/18 [00:00<00:00, 290.81it/s]\n"
     ]
    },
    {
     "name": "stdout",
     "output_type": "stream",
     "text": [
      "Epoch:133/2000.. Train Loss: 53915.898.. Val Loss: 92757.669.. Test Loss: 77134.159.. Time: 0.02m\n"
     ]
    },
    {
     "name": "stderr",
     "output_type": "stream",
     "text": [
      "100%|██████████| 53/53 [00:01<00:00, 44.88it/s]\n",
      "100%|██████████| 18/18 [00:00<00:00, 291.02it/s]\n",
      "100%|██████████| 18/18 [00:00<00:00, 288.39it/s]\n"
     ]
    },
    {
     "name": "stdout",
     "output_type": "stream",
     "text": [
      "Epoch:134/2000.. Train Loss: 54351.673.. Val Loss: 92364.895.. Test Loss: 84067.554.. Time: 0.02m\n"
     ]
    },
    {
     "name": "stderr",
     "output_type": "stream",
     "text": [
      "100%|██████████| 53/53 [00:01<00:00, 45.89it/s]\n",
      "100%|██████████| 18/18 [00:00<00:00, 283.96it/s]\n",
      "100%|██████████| 18/18 [00:00<00:00, 288.49it/s]\n"
     ]
    },
    {
     "name": "stdout",
     "output_type": "stream",
     "text": [
      "Loss Decreasing.. 91438.098 >> 90949.359 \n",
      "saving model...\n",
      "Epoch:135/2000.. Train Loss: 52545.797.. Val Loss: 90949.359.. Test Loss: 78305.797.. Time: 0.02m\n"
     ]
    },
    {
     "name": "stderr",
     "output_type": "stream",
     "text": [
      "100%|██████████| 53/53 [00:01<00:00, 44.98it/s]\n",
      "100%|██████████| 18/18 [00:00<00:00, 289.58it/s]\n",
      "100%|██████████| 18/18 [00:00<00:00, 289.06it/s]\n"
     ]
    },
    {
     "name": "stdout",
     "output_type": "stream",
     "text": [
      "Epoch:136/2000.. Train Loss: 53573.704.. Val Loss: 96608.563.. Test Loss: 79566.067.. Time: 0.02m\n"
     ]
    },
    {
     "name": "stderr",
     "output_type": "stream",
     "text": [
      "100%|██████████| 53/53 [00:01<00:00, 45.97it/s]\n",
      "100%|██████████| 18/18 [00:00<00:00, 256.68it/s]\n",
      "100%|██████████| 18/18 [00:00<00:00, 290.50it/s]\n"
     ]
    },
    {
     "name": "stdout",
     "output_type": "stream",
     "text": [
      "Epoch:137/2000.. Train Loss: 52438.794.. Val Loss: 90990.538.. Test Loss: 77740.660.. Time: 0.02m\n"
     ]
    },
    {
     "name": "stderr",
     "output_type": "stream",
     "text": [
      "100%|██████████| 53/53 [00:01<00:00, 46.59it/s]\n",
      "100%|██████████| 18/18 [00:00<00:00, 294.17it/s]\n",
      "100%|██████████| 18/18 [00:00<00:00, 294.20it/s]\n"
     ]
    },
    {
     "name": "stdout",
     "output_type": "stream",
     "text": [
      "Loss Decreasing.. 90949.359 >> 90664.516 \n",
      "saving model...\n",
      "Epoch:138/2000.. Train Loss: 51229.786.. Val Loss: 90664.516.. Test Loss: 87697.665.. Time: 0.02m\n"
     ]
    },
    {
     "name": "stderr",
     "output_type": "stream",
     "text": [
      "100%|██████████| 53/53 [00:01<00:00, 45.79it/s]\n",
      "100%|██████████| 18/18 [00:00<00:00, 291.04it/s]\n",
      "100%|██████████| 18/18 [00:00<00:00, 294.38it/s]\n"
     ]
    },
    {
     "name": "stdout",
     "output_type": "stream",
     "text": [
      "Epoch:139/2000.. Train Loss: 51251.908.. Val Loss: 92726.274.. Test Loss: 76998.221.. Time: 0.02m\n"
     ]
    },
    {
     "name": "stderr",
     "output_type": "stream",
     "text": [
      "100%|██████████| 53/53 [00:01<00:00, 46.23it/s]\n",
      "100%|██████████| 18/18 [00:00<00:00, 287.59it/s]\n",
      "100%|██████████| 18/18 [00:00<00:00, 289.05it/s]\n"
     ]
    },
    {
     "name": "stdout",
     "output_type": "stream",
     "text": [
      "Epoch:140/2000.. Train Loss: 50879.381.. Val Loss: 94131.652.. Test Loss: 77540.485.. Time: 0.02m\n"
     ]
    },
    {
     "name": "stderr",
     "output_type": "stream",
     "text": [
      "100%|██████████| 53/53 [00:01<00:00, 44.20it/s]\n",
      "100%|██████████| 18/18 [00:00<00:00, 288.96it/s]\n",
      "100%|██████████| 18/18 [00:00<00:00, 295.45it/s]\n"
     ]
    },
    {
     "name": "stdout",
     "output_type": "stream",
     "text": [
      "Epoch:141/2000.. Train Loss: 49956.206.. Val Loss: 94761.767.. Test Loss: 76588.767.. Time: 0.02m\n"
     ]
    },
    {
     "name": "stderr",
     "output_type": "stream",
     "text": [
      "100%|██████████| 53/53 [00:01<00:00, 44.80it/s]\n",
      "100%|██████████| 18/18 [00:00<00:00, 293.28it/s]\n",
      "100%|██████████| 18/18 [00:00<00:00, 295.46it/s]\n"
     ]
    },
    {
     "name": "stdout",
     "output_type": "stream",
     "text": [
      "Epoch:142/2000.. Train Loss: 50267.430.. Val Loss: 94070.053.. Test Loss: 77935.499.. Time: 0.02m\n"
     ]
    },
    {
     "name": "stderr",
     "output_type": "stream",
     "text": [
      "100%|██████████| 53/53 [00:01<00:00, 46.99it/s]\n",
      "100%|██████████| 18/18 [00:00<00:00, 293.55it/s]\n",
      "100%|██████████| 18/18 [00:00<00:00, 299.62it/s]\n"
     ]
    },
    {
     "name": "stdout",
     "output_type": "stream",
     "text": [
      "Loss Decreasing.. 90664.516 >> 90205.636 \n",
      "saving model...\n",
      "Epoch:143/2000.. Train Loss: 49743.764.. Val Loss: 90205.636.. Test Loss: 75576.341.. Time: 0.02m\n"
     ]
    },
    {
     "name": "stderr",
     "output_type": "stream",
     "text": [
      "100%|██████████| 53/53 [00:01<00:00, 44.98it/s]\n",
      "100%|██████████| 18/18 [00:00<00:00, 285.74it/s]\n",
      "100%|██████████| 18/18 [00:00<00:00, 292.31it/s]\n"
     ]
    },
    {
     "name": "stdout",
     "output_type": "stream",
     "text": [
      "Epoch:144/2000.. Train Loss: 49686.054.. Val Loss: 90728.030.. Test Loss: 76008.087.. Time: 0.02m\n"
     ]
    },
    {
     "name": "stderr",
     "output_type": "stream",
     "text": [
      "100%|██████████| 53/53 [00:01<00:00, 44.33it/s]\n",
      "100%|██████████| 18/18 [00:00<00:00, 295.76it/s]\n",
      "100%|██████████| 18/18 [00:00<00:00, 294.93it/s]\n"
     ]
    },
    {
     "name": "stdout",
     "output_type": "stream",
     "text": [
      "Epoch:145/2000.. Train Loss: 50680.611.. Val Loss: 104273.874.. Test Loss: 75800.719.. Time: 0.02m\n"
     ]
    },
    {
     "name": "stderr",
     "output_type": "stream",
     "text": [
      "100%|██████████| 53/53 [00:01<00:00, 46.13it/s]\n",
      "100%|██████████| 18/18 [00:00<00:00, 293.25it/s]\n",
      "100%|██████████| 18/18 [00:00<00:00, 295.50it/s]\n"
     ]
    },
    {
     "name": "stdout",
     "output_type": "stream",
     "text": [
      "Epoch:146/2000.. Train Loss: 48444.694.. Val Loss: 92699.777.. Test Loss: 75556.023.. Time: 0.02m\n"
     ]
    },
    {
     "name": "stderr",
     "output_type": "stream",
     "text": [
      "100%|██████████| 53/53 [00:01<00:00, 47.38it/s]\n",
      "100%|██████████| 18/18 [00:00<00:00, 294.99it/s]\n",
      "100%|██████████| 18/18 [00:00<00:00, 297.02it/s]\n"
     ]
    },
    {
     "name": "stdout",
     "output_type": "stream",
     "text": [
      "Epoch:147/2000.. Train Loss: 48123.405.. Val Loss: 97429.576.. Test Loss: 75909.034.. Time: 0.02m\n"
     ]
    },
    {
     "name": "stderr",
     "output_type": "stream",
     "text": [
      "100%|██████████| 53/53 [00:01<00:00, 44.67it/s]\n",
      "100%|██████████| 18/18 [00:00<00:00, 295.33it/s]\n",
      "100%|██████████| 18/18 [00:00<00:00, 297.85it/s]\n"
     ]
    },
    {
     "name": "stdout",
     "output_type": "stream",
     "text": [
      "Epoch:148/2000.. Train Loss: 47819.798.. Val Loss: 92640.528.. Test Loss: 75293.875.. Time: 0.02m\n"
     ]
    },
    {
     "name": "stderr",
     "output_type": "stream",
     "text": [
      "100%|██████████| 53/53 [00:01<00:00, 47.54it/s]\n",
      "100%|██████████| 18/18 [00:00<00:00, 288.96it/s]\n",
      "100%|██████████| 18/18 [00:00<00:00, 251.00it/s]\n"
     ]
    },
    {
     "name": "stdout",
     "output_type": "stream",
     "text": [
      "Loss Decreasing.. 90205.636 >> 90105.286 \n",
      "saving model...\n",
      "Epoch:149/2000.. Train Loss: 47284.802.. Val Loss: 90105.286.. Test Loss: 75891.918.. Time: 0.02m\n"
     ]
    },
    {
     "name": "stderr",
     "output_type": "stream",
     "text": [
      "100%|██████████| 53/53 [00:01<00:00, 45.62it/s]\n",
      "100%|██████████| 18/18 [00:00<00:00, 296.80it/s]\n",
      "100%|██████████| 18/18 [00:00<00:00, 298.75it/s]\n"
     ]
    },
    {
     "name": "stdout",
     "output_type": "stream",
     "text": [
      "Loss Decreasing.. 90105.286 >> 90014.522 \n",
      "saving model...\n",
      "Epoch:150/2000.. Train Loss: 47370.061.. Val Loss: 90014.522.. Test Loss: 75095.373.. Time: 0.02m\n"
     ]
    },
    {
     "name": "stderr",
     "output_type": "stream",
     "text": [
      "100%|██████████| 53/53 [00:01<00:00, 44.90it/s]\n",
      "100%|██████████| 18/18 [00:00<00:00, 290.64it/s]\n",
      "100%|██████████| 18/18 [00:00<00:00, 292.05it/s]\n"
     ]
    },
    {
     "name": "stdout",
     "output_type": "stream",
     "text": [
      "Loss Decreasing.. 90014.522 >> 89661.383 \n",
      "saving model...\n",
      "Epoch:151/2000.. Train Loss: 47976.332.. Val Loss: 89661.383.. Test Loss: 82062.182.. Time: 0.02m\n"
     ]
    },
    {
     "name": "stderr",
     "output_type": "stream",
     "text": [
      "100%|██████████| 53/53 [00:01<00:00, 47.05it/s]\n",
      "100%|██████████| 18/18 [00:00<00:00, 287.74it/s]\n",
      "100%|██████████| 18/18 [00:00<00:00, 291.36it/s]\n"
     ]
    },
    {
     "name": "stdout",
     "output_type": "stream",
     "text": [
      "Epoch:152/2000.. Train Loss: 47124.974.. Val Loss: 94050.894.. Test Loss: 90786.295.. Time: 0.02m\n"
     ]
    },
    {
     "name": "stderr",
     "output_type": "stream",
     "text": [
      "100%|██████████| 53/53 [00:01<00:00, 45.84it/s]\n",
      "100%|██████████| 18/18 [00:00<00:00, 286.95it/s]\n",
      "100%|██████████| 18/18 [00:00<00:00, 258.41it/s]\n"
     ]
    },
    {
     "name": "stdout",
     "output_type": "stream",
     "text": [
      "Epoch:153/2000.. Train Loss: 47017.228.. Val Loss: 115147.730.. Test Loss: 74566.601.. Time: 0.02m\n"
     ]
    },
    {
     "name": "stderr",
     "output_type": "stream",
     "text": [
      "100%|██████████| 53/53 [00:01<00:00, 45.42it/s]\n",
      "100%|██████████| 18/18 [00:00<00:00, 283.28it/s]\n",
      "100%|██████████| 18/18 [00:00<00:00, 299.34it/s]\n"
     ]
    },
    {
     "name": "stdout",
     "output_type": "stream",
     "text": [
      "Epoch:154/2000.. Train Loss: 46651.653.. Val Loss: 92694.753.. Test Loss: 74479.083.. Time: 0.02m\n"
     ]
    },
    {
     "name": "stderr",
     "output_type": "stream",
     "text": [
      "100%|██████████| 53/53 [00:01<00:00, 45.53it/s]\n",
      "100%|██████████| 18/18 [00:00<00:00, 288.15it/s]\n",
      "100%|██████████| 18/18 [00:00<00:00, 296.95it/s]\n"
     ]
    },
    {
     "name": "stdout",
     "output_type": "stream",
     "text": [
      "Loss Decreasing.. 89661.383 >> 88121.893 \n",
      "saving model...\n",
      "Epoch:155/2000.. Train Loss: 47472.684.. Val Loss: 88121.893.. Test Loss: 78666.724.. Time: 0.02m\n"
     ]
    },
    {
     "name": "stderr",
     "output_type": "stream",
     "text": [
      "100%|██████████| 53/53 [00:01<00:00, 47.35it/s]\n",
      "100%|██████████| 18/18 [00:00<00:00, 295.17it/s]\n",
      "100%|██████████| 18/18 [00:00<00:00, 290.90it/s]\n"
     ]
    },
    {
     "name": "stdout",
     "output_type": "stream",
     "text": [
      "Epoch:156/2000.. Train Loss: 47293.218.. Val Loss: 116230.620.. Test Loss: 72683.247.. Time: 0.02m\n"
     ]
    },
    {
     "name": "stderr",
     "output_type": "stream",
     "text": [
      "100%|██████████| 53/53 [00:01<00:00, 47.02it/s]\n",
      "100%|██████████| 18/18 [00:00<00:00, 293.44it/s]\n",
      "100%|██████████| 18/18 [00:00<00:00, 298.82it/s]\n"
     ]
    },
    {
     "name": "stdout",
     "output_type": "stream",
     "text": [
      "Epoch:157/2000.. Train Loss: 46396.204.. Val Loss: 89245.456.. Test Loss: 74032.286.. Time: 0.02m\n"
     ]
    },
    {
     "name": "stderr",
     "output_type": "stream",
     "text": [
      "100%|██████████| 53/53 [00:01<00:00, 44.20it/s]\n",
      "100%|██████████| 18/18 [00:00<00:00, 289.56it/s]\n",
      "100%|██████████| 18/18 [00:00<00:00, 291.19it/s]\n"
     ]
    },
    {
     "name": "stdout",
     "output_type": "stream",
     "text": [
      "Epoch:158/2000.. Train Loss: 45174.437.. Val Loss: 88154.237.. Test Loss: 73835.063.. Time: 0.02m\n"
     ]
    },
    {
     "name": "stderr",
     "output_type": "stream",
     "text": [
      "100%|██████████| 53/53 [00:01<00:00, 45.10it/s]\n",
      "100%|██████████| 18/18 [00:00<00:00, 294.64it/s]\n",
      "100%|██████████| 18/18 [00:00<00:00, 293.66it/s]\n"
     ]
    },
    {
     "name": "stdout",
     "output_type": "stream",
     "text": [
      "Epoch:159/2000.. Train Loss: 44420.301.. Val Loss: 90493.203.. Test Loss: 75975.617.. Time: 0.02m\n"
     ]
    },
    {
     "name": "stderr",
     "output_type": "stream",
     "text": [
      "100%|██████████| 53/53 [00:01<00:00, 46.07it/s]\n",
      "100%|██████████| 18/18 [00:00<00:00, 293.71it/s]\n",
      "100%|██████████| 18/18 [00:00<00:00, 298.85it/s]\n"
     ]
    },
    {
     "name": "stdout",
     "output_type": "stream",
     "text": [
      "Epoch:160/2000.. Train Loss: 43953.143.. Val Loss: 89684.927.. Test Loss: 75584.002.. Time: 0.02m\n"
     ]
    },
    {
     "name": "stderr",
     "output_type": "stream",
     "text": [
      "100%|██████████| 53/53 [00:01<00:00, 46.55it/s]\n",
      "100%|██████████| 18/18 [00:00<00:00, 287.33it/s]\n",
      "100%|██████████| 18/18 [00:00<00:00, 290.49it/s]\n"
     ]
    },
    {
     "name": "stdout",
     "output_type": "stream",
     "text": [
      "Epoch:161/2000.. Train Loss: 43441.462.. Val Loss: 89098.827.. Test Loss: 74668.041.. Time: 0.02m\n"
     ]
    },
    {
     "name": "stderr",
     "output_type": "stream",
     "text": [
      "100%|██████████| 53/53 [00:01<00:00, 46.44it/s]\n",
      "100%|██████████| 18/18 [00:00<00:00, 265.13it/s]\n",
      "100%|██████████| 18/18 [00:00<00:00, 292.73it/s]\n"
     ]
    },
    {
     "name": "stdout",
     "output_type": "stream",
     "text": [
      "Epoch:162/2000.. Train Loss: 42925.607.. Val Loss: 93282.211.. Test Loss: 74037.278.. Time: 0.02m\n"
     ]
    },
    {
     "name": "stderr",
     "output_type": "stream",
     "text": [
      "100%|██████████| 53/53 [00:01<00:00, 45.79it/s]\n",
      "100%|██████████| 18/18 [00:00<00:00, 292.82it/s]\n",
      "100%|██████████| 18/18 [00:00<00:00, 294.70it/s]\n"
     ]
    },
    {
     "name": "stdout",
     "output_type": "stream",
     "text": [
      "Epoch:163/2000.. Train Loss: 43595.719.. Val Loss: 89695.974.. Test Loss: 73168.741.. Time: 0.02m\n"
     ]
    },
    {
     "name": "stderr",
     "output_type": "stream",
     "text": [
      "100%|██████████| 53/53 [00:01<00:00, 45.41it/s]\n",
      "100%|██████████| 18/18 [00:00<00:00, 253.99it/s]\n",
      "100%|██████████| 18/18 [00:00<00:00, 288.95it/s]\n"
     ]
    },
    {
     "name": "stdout",
     "output_type": "stream",
     "text": [
      "Epoch:164/2000.. Train Loss: 43187.796.. Val Loss: 89065.906.. Test Loss: 74216.391.. Time: 0.02m\n"
     ]
    },
    {
     "name": "stderr",
     "output_type": "stream",
     "text": [
      "100%|██████████| 53/53 [00:01<00:00, 46.50it/s]\n",
      "100%|██████████| 18/18 [00:00<00:00, 299.35it/s]\n",
      "100%|██████████| 18/18 [00:00<00:00, 291.06it/s]\n"
     ]
    },
    {
     "name": "stdout",
     "output_type": "stream",
     "text": [
      "Epoch:165/2000.. Train Loss: 41583.655.. Val Loss: 88134.111.. Test Loss: 75294.857.. Time: 0.02m\n"
     ]
    },
    {
     "name": "stderr",
     "output_type": "stream",
     "text": [
      "100%|██████████| 53/53 [00:01<00:00, 46.22it/s]\n",
      "100%|██████████| 18/18 [00:00<00:00, 293.33it/s]\n",
      "100%|██████████| 18/18 [00:00<00:00, 292.95it/s]\n"
     ]
    },
    {
     "name": "stdout",
     "output_type": "stream",
     "text": [
      "Epoch:166/2000.. Train Loss: 41433.421.. Val Loss: 91125.203.. Test Loss: 81866.206.. Time: 0.02m\n"
     ]
    },
    {
     "name": "stderr",
     "output_type": "stream",
     "text": [
      "100%|██████████| 53/53 [00:01<00:00, 45.82it/s]\n",
      "100%|██████████| 18/18 [00:00<00:00, 287.50it/s]\n",
      "100%|██████████| 18/18 [00:00<00:00, 298.54it/s]\n"
     ]
    },
    {
     "name": "stdout",
     "output_type": "stream",
     "text": [
      "Epoch:167/2000.. Train Loss: 41165.294.. Val Loss: 93655.862.. Test Loss: 88104.326.. Time: 0.02m\n"
     ]
    },
    {
     "name": "stderr",
     "output_type": "stream",
     "text": [
      "100%|██████████| 53/53 [00:01<00:00, 45.49it/s]\n",
      "100%|██████████| 18/18 [00:00<00:00, 290.01it/s]\n",
      "100%|██████████| 18/18 [00:00<00:00, 297.57it/s]\n"
     ]
    },
    {
     "name": "stdout",
     "output_type": "stream",
     "text": [
      "Epoch:168/2000.. Train Loss: 40766.682.. Val Loss: 105959.889.. Test Loss: 73221.403.. Time: 0.02m\n"
     ]
    },
    {
     "name": "stderr",
     "output_type": "stream",
     "text": [
      "100%|██████████| 53/53 [00:01<00:00, 47.40it/s]\n",
      "100%|██████████| 18/18 [00:00<00:00, 291.53it/s]\n",
      "100%|██████████| 18/18 [00:00<00:00, 297.04it/s]\n"
     ]
    },
    {
     "name": "stdout",
     "output_type": "stream",
     "text": [
      "Loss Decreasing.. 88121.893 >> 87573.477 \n",
      "saving model...\n",
      "Epoch:169/2000.. Train Loss: 41485.544.. Val Loss: 87573.477.. Test Loss: 89298.132.. Time: 0.02m\n"
     ]
    },
    {
     "name": "stderr",
     "output_type": "stream",
     "text": [
      "100%|██████████| 53/53 [00:01<00:00, 47.40it/s]\n",
      "100%|██████████| 18/18 [00:00<00:00, 294.25it/s]\n",
      "100%|██████████| 18/18 [00:00<00:00, 292.56it/s]\n"
     ]
    },
    {
     "name": "stdout",
     "output_type": "stream",
     "text": [
      "Epoch:170/2000.. Train Loss: 40695.971.. Val Loss: 89398.041.. Test Loss: 73671.055.. Time: 0.02m\n"
     ]
    },
    {
     "name": "stderr",
     "output_type": "stream",
     "text": [
      "100%|██████████| 53/53 [00:01<00:00, 46.16it/s]\n",
      "100%|██████████| 18/18 [00:00<00:00, 296.07it/s]\n",
      "100%|██████████| 18/18 [00:00<00:00, 247.96it/s]\n"
     ]
    },
    {
     "name": "stdout",
     "output_type": "stream",
     "text": [
      "Epoch:171/2000.. Train Loss: 41693.467.. Val Loss: 88561.398.. Test Loss: 77672.608.. Time: 0.02m\n"
     ]
    },
    {
     "name": "stderr",
     "output_type": "stream",
     "text": [
      "100%|██████████| 53/53 [00:01<00:00, 43.54it/s]\n",
      "100%|██████████| 18/18 [00:00<00:00, 294.73it/s]\n",
      "100%|██████████| 18/18 [00:00<00:00, 298.51it/s]\n"
     ]
    },
    {
     "name": "stdout",
     "output_type": "stream",
     "text": [
      "Epoch:172/2000.. Train Loss: 40921.464.. Val Loss: 91435.846.. Test Loss: 72023.162.. Time: 0.02m\n"
     ]
    },
    {
     "name": "stderr",
     "output_type": "stream",
     "text": [
      "100%|██████████| 53/53 [00:01<00:00, 46.55it/s]\n",
      "100%|██████████| 18/18 [00:00<00:00, 293.83it/s]\n",
      "100%|██████████| 18/18 [00:00<00:00, 301.58it/s]\n"
     ]
    },
    {
     "name": "stdout",
     "output_type": "stream",
     "text": [
      "Epoch:173/2000.. Train Loss: 41988.788.. Val Loss: 92763.638.. Test Loss: 72501.194.. Time: 0.02m\n"
     ]
    },
    {
     "name": "stderr",
     "output_type": "stream",
     "text": [
      "100%|██████████| 53/53 [00:01<00:00, 46.06it/s]\n",
      "100%|██████████| 18/18 [00:00<00:00, 293.40it/s]\n",
      "100%|██████████| 18/18 [00:00<00:00, 294.96it/s]\n"
     ]
    },
    {
     "name": "stdout",
     "output_type": "stream",
     "text": [
      "Epoch:174/2000.. Train Loss: 39480.256.. Val Loss: 89268.141.. Test Loss: 73761.696.. Time: 0.02m\n"
     ]
    },
    {
     "name": "stderr",
     "output_type": "stream",
     "text": [
      "100%|██████████| 53/53 [00:01<00:00, 47.06it/s]\n",
      "100%|██████████| 18/18 [00:00<00:00, 288.74it/s]\n",
      "100%|██████████| 18/18 [00:00<00:00, 297.69it/s]\n"
     ]
    },
    {
     "name": "stdout",
     "output_type": "stream",
     "text": [
      "Epoch:175/2000.. Train Loss: 40128.165.. Val Loss: 89065.704.. Test Loss: 74403.406.. Time: 0.02m\n"
     ]
    },
    {
     "name": "stderr",
     "output_type": "stream",
     "text": [
      "100%|██████████| 53/53 [00:01<00:00, 45.78it/s]\n",
      "100%|██████████| 18/18 [00:00<00:00, 262.27it/s]\n",
      "100%|██████████| 18/18 [00:00<00:00, 291.83it/s]\n"
     ]
    },
    {
     "name": "stdout",
     "output_type": "stream",
     "text": [
      "Epoch:176/2000.. Train Loss: 39253.259.. Val Loss: 87892.224.. Test Loss: 73088.042.. Time: 0.02m\n"
     ]
    },
    {
     "name": "stderr",
     "output_type": "stream",
     "text": [
      "100%|██████████| 53/53 [00:01<00:00, 44.99it/s]\n",
      "100%|██████████| 18/18 [00:00<00:00, 288.44it/s]\n",
      "100%|██████████| 18/18 [00:00<00:00, 295.87it/s]\n"
     ]
    },
    {
     "name": "stdout",
     "output_type": "stream",
     "text": [
      "Epoch:177/2000.. Train Loss: 38037.912.. Val Loss: 93226.802.. Test Loss: 72324.455.. Time: 0.02m\n"
     ]
    },
    {
     "name": "stderr",
     "output_type": "stream",
     "text": [
      "100%|██████████| 53/53 [00:01<00:00, 44.63it/s]\n",
      "100%|██████████| 18/18 [00:00<00:00, 289.23it/s]\n",
      "100%|██████████| 18/18 [00:00<00:00, 293.91it/s]\n"
     ]
    },
    {
     "name": "stdout",
     "output_type": "stream",
     "text": [
      "Epoch:178/2000.. Train Loss: 38119.374.. Val Loss: 90847.263.. Test Loss: 73434.576.. Time: 0.02m\n"
     ]
    },
    {
     "name": "stderr",
     "output_type": "stream",
     "text": [
      "100%|██████████| 53/53 [00:01<00:00, 46.27it/s]\n",
      "100%|██████████| 18/18 [00:00<00:00, 293.02it/s]\n",
      "100%|██████████| 18/18 [00:00<00:00, 299.95it/s]\n"
     ]
    },
    {
     "name": "stdout",
     "output_type": "stream",
     "text": [
      "Epoch:179/2000.. Train Loss: 39015.719.. Val Loss: 110495.100.. Test Loss: 72017.867.. Time: 0.02m\n"
     ]
    },
    {
     "name": "stderr",
     "output_type": "stream",
     "text": [
      "100%|██████████| 53/53 [00:01<00:00, 42.34it/s]\n",
      "100%|██████████| 18/18 [00:00<00:00, 295.07it/s]\n",
      "100%|██████████| 18/18 [00:00<00:00, 292.17it/s]\n"
     ]
    },
    {
     "name": "stdout",
     "output_type": "stream",
     "text": [
      "Epoch:180/2000.. Train Loss: 37600.057.. Val Loss: 95240.488.. Test Loss: 73226.626.. Time: 0.02m\n"
     ]
    },
    {
     "name": "stderr",
     "output_type": "stream",
     "text": [
      "100%|██████████| 53/53 [00:01<00:00, 46.28it/s]\n",
      "100%|██████████| 18/18 [00:00<00:00, 294.94it/s]\n",
      "100%|██████████| 18/18 [00:00<00:00, 292.34it/s]\n"
     ]
    },
    {
     "name": "stdout",
     "output_type": "stream",
     "text": [
      "Epoch:181/2000.. Train Loss: 38277.809.. Val Loss: 88489.515.. Test Loss: 71943.094.. Time: 0.02m\n"
     ]
    },
    {
     "name": "stderr",
     "output_type": "stream",
     "text": [
      "100%|██████████| 53/53 [00:01<00:00, 45.77it/s]\n",
      "100%|██████████| 18/18 [00:00<00:00, 294.95it/s]\n",
      "100%|██████████| 18/18 [00:00<00:00, 296.23it/s]\n"
     ]
    },
    {
     "name": "stdout",
     "output_type": "stream",
     "text": [
      "Epoch:182/2000.. Train Loss: 36519.414.. Val Loss: 94823.079.. Test Loss: 72748.697.. Time: 0.02m\n"
     ]
    },
    {
     "name": "stderr",
     "output_type": "stream",
     "text": [
      "100%|██████████| 53/53 [00:01<00:00, 46.50it/s]\n",
      "100%|██████████| 18/18 [00:00<00:00, 282.21it/s]\n",
      "100%|██████████| 18/18 [00:00<00:00, 296.50it/s]\n"
     ]
    },
    {
     "name": "stdout",
     "output_type": "stream",
     "text": [
      "Epoch:183/2000.. Train Loss: 36694.488.. Val Loss: 89636.554.. Test Loss: 72757.452.. Time: 0.02m\n"
     ]
    },
    {
     "name": "stderr",
     "output_type": "stream",
     "text": [
      "100%|██████████| 53/53 [00:01<00:00, 47.65it/s]\n",
      "100%|██████████| 18/18 [00:00<00:00, 296.78it/s]\n",
      "100%|██████████| 18/18 [00:00<00:00, 300.17it/s]\n"
     ]
    },
    {
     "name": "stdout",
     "output_type": "stream",
     "text": [
      "Epoch:184/2000.. Train Loss: 35847.547.. Val Loss: 103487.757.. Test Loss: 71239.210.. Time: 0.02m\n"
     ]
    },
    {
     "name": "stderr",
     "output_type": "stream",
     "text": [
      "100%|██████████| 53/53 [00:01<00:00, 43.08it/s]\n",
      "100%|██████████| 18/18 [00:00<00:00, 284.62it/s]\n",
      "100%|██████████| 18/18 [00:00<00:00, 293.28it/s]\n"
     ]
    },
    {
     "name": "stdout",
     "output_type": "stream",
     "text": [
      "Epoch:185/2000.. Train Loss: 35428.865.. Val Loss: 90439.342.. Test Loss: 73837.606.. Time: 0.02m\n"
     ]
    },
    {
     "name": "stderr",
     "output_type": "stream",
     "text": [
      "100%|██████████| 53/53 [00:01<00:00, 46.80it/s]\n",
      "100%|██████████| 18/18 [00:00<00:00, 294.66it/s]\n",
      "100%|██████████| 18/18 [00:00<00:00, 291.69it/s]\n"
     ]
    },
    {
     "name": "stdout",
     "output_type": "stream",
     "text": [
      "Epoch:186/2000.. Train Loss: 35944.133.. Val Loss: 91733.290.. Test Loss: 71908.619.. Time: 0.02m\n"
     ]
    },
    {
     "name": "stderr",
     "output_type": "stream",
     "text": [
      "100%|██████████| 53/53 [00:01<00:00, 47.89it/s]\n",
      "100%|██████████| 18/18 [00:00<00:00, 291.38it/s]\n",
      "100%|██████████| 18/18 [00:00<00:00, 299.73it/s]\n"
     ]
    },
    {
     "name": "stdout",
     "output_type": "stream",
     "text": [
      "Epoch:187/2000.. Train Loss: 35317.965.. Val Loss: 90849.958.. Test Loss: 79046.743.. Time: 0.02m\n"
     ]
    },
    {
     "name": "stderr",
     "output_type": "stream",
     "text": [
      "100%|██████████| 53/53 [00:01<00:00, 46.84it/s]\n",
      "100%|██████████| 18/18 [00:00<00:00, 292.67it/s]\n",
      "100%|██████████| 18/18 [00:00<00:00, 297.80it/s]\n"
     ]
    },
    {
     "name": "stdout",
     "output_type": "stream",
     "text": [
      "Epoch:188/2000.. Train Loss: 35902.488.. Val Loss: 95387.950.. Test Loss: 77482.828.. Time: 0.02m\n"
     ]
    },
    {
     "name": "stderr",
     "output_type": "stream",
     "text": [
      "100%|██████████| 53/53 [00:01<00:00, 44.67it/s]\n",
      "100%|██████████| 18/18 [00:00<00:00, 296.42it/s]\n",
      "100%|██████████| 18/18 [00:00<00:00, 288.71it/s]\n"
     ]
    },
    {
     "name": "stdout",
     "output_type": "stream",
     "text": [
      "Epoch:189/2000.. Train Loss: 36389.006.. Val Loss: 88006.733.. Test Loss: 73722.022.. Time: 0.02m\n"
     ]
    },
    {
     "name": "stderr",
     "output_type": "stream",
     "text": [
      "100%|██████████| 53/53 [00:01<00:00, 44.60it/s]\n",
      "100%|██████████| 18/18 [00:00<00:00, 291.93it/s]\n",
      "100%|██████████| 18/18 [00:00<00:00, 296.29it/s]\n"
     ]
    },
    {
     "name": "stdout",
     "output_type": "stream",
     "text": [
      "[***] end training ...\n",
      "Total time: 4.13 m\n"
     ]
    }
   ],
   "source": [
    "training.fit(model, train_loader, validation_loader, test_loader)\n",
    "model = training.get_best_model()"
   ]
  },
  {
   "cell_type": "code",
   "execution_count": 198,
   "metadata": {
    "tags": []
   },
   "outputs": [
    {
     "data": {
      "text/plain": [
       "<matplotlib.legend.Legend at 0x2b37cde047f0>"
      ]
     },
     "execution_count": 198,
     "metadata": {},
     "output_type": "execute_result"
    },
    {
     "data": {
      "image/png": "[encoded data removed]",
      "text/plain": [
       "<Figure size 640x480 with 1 Axes>"
      ]
     },
     "metadata": {},
     "output_type": "display_data"
    }
   ],
   "source": [
    "fig, ax = plt.subplots()\n",
    "\n",
    "ax.plot(training.results['Train'], label='Train')\n",
    "ax.plot(training.results['Validation'], label='Validation')\n",
    "ax.plot(training.results['Test'], label='Test')\n",
    "ax.legend()"
   ]
  },
  {
   "cell_type": "markdown",
   "metadata": {},
   "source": [
    "## Evaluation and plotting classes"
   ]
  },
  {
   "cell_type": "code",
   "execution_count": 199,
   "metadata": {
    "tags": []
   },
   "outputs": [],
   "source": [
    "class OSAEvaluator:\n",
    "    \n",
    "    def evaluate_OSA(self, dataset, model):\n",
    "        \n",
    "        torch.cuda.empty_cache()\n",
    "        Y_real = []\n",
    "        Y_pred = []\n",
    "        for i, data in enumerate(tqdm(dataset)):\n",
    "            src, tgt, y_real = data\n",
    "            src, tgt, y_real = src.to(device), tgt.to(device), y_real.to(device)\n",
    "            y_pred = model(src, tgt)\n",
    "            Y_real.append(y_real.reshape(1,-1))\n",
    "            Y_pred.append(y_pred)\n",
    "        \n",
    "        Y_real = torch.vstack(Y_real).cpu()\n",
    "        Y_pred = torch.vstack(Y_pred).cpu().detach()\n",
    "        return Y_real, Y_pred\n",
    "            \n",
    "class FSEvaluator:\n",
    "    \n",
    "    def evaluate_FS(self, dataset, model):\n",
    "        \n",
    "        torch.cuda.empty_cache()\n",
    "        Y_real = []\n",
    "        Y_pred = []\n",
    "        tgt_sim = None\n",
    "        for i, data in enumerate(tqdm(dataset)):\n",
    "            src, tgt, y_real = data\n",
    "            src, tgt, y_real = src.to(device), tgt.to(device), y_real.to(device)\n",
    "            if tgt_sim is None:\n",
    "                tgt_sim = tgt\n",
    "            else:\n",
    "                tgt_sim[:-1,:] = tgt_sim[1:,:]\n",
    "                tgt_sim[-1,:] = y_pred\n",
    "            y_pred = model(src, tgt_sim)\n",
    "            Y_real.append(y_real.reshape(1,-1))\n",
    "            Y_pred.append(y_pred)\n",
    "        \n",
    "        Y_real = torch.vstack(Y_real).cpu()\n",
    "        Y_pred = torch.vstack(Y_pred).cpu().detach()\n",
    "        return Y_real, Y_pred\n",
    "    \n",
    "class Evaluator(OSAEvaluator, FSEvaluator):\n",
    "    \n",
    "    pass\n",
    "        "
   ]
  },
  {
   "cell_type": "code",
   "execution_count": 200,
   "metadata": {
    "tags": []
   },
   "outputs": [
    {
     "name": "stderr",
     "output_type": "stream",
     "text": [
      "100%|██████████| 699/699 [00:04<00:00, 167.72it/s]\n",
      "100%|██████████| 699/699 [00:03<00:00, 209.03it/s]\n"
     ]
    }
   ],
   "source": [
    "evaluator = Evaluator()\n",
    "Y_real, Y_pred_OSA = evaluator.evaluate_OSA(dataset, model)\n",
    "Y_real, Y_pred_FS = evaluator.evaluate_FS(dataset, model)"
   ]
  },
  {
   "cell_type": "code",
   "execution_count": 201,
   "metadata": {
    "tags": []
   },
   "outputs": [
    {
     "data": {
      "text/plain": [
       "<matplotlib.legend.Legend at 0x2b37cd5e79a0>"
      ]
     },
     "execution_count": 201,
     "metadata": {},
     "output_type": "execute_result"
    },
    {
     "data": {
      "image/png": "[encoded data removed]",
      "text/plain": [
       "<Figure size 640x480 with 1 Axes>"
      ]
     },
     "metadata": {},
     "output_type": "display_data"
    }
   ],
   "source": [
    "fig, ax = plt.subplots()\n",
    "ax.plot(Y_real, label='Real')\n",
    "ax.plot(Y_pred_OSA, label='OSA')\n",
    "ax.plot(Y_pred_FS, label='FS')\n",
    "ax.legend()"
   ]
  }
 ],
 "metadata": {
  "kernelspec": {
   "display_name": "raul_dl",
   "language": "python",
   "name": "raul_dl"
  },
  "language_info": {
   "codemirror_mode": {
    "name": "ipython",
    "version": 3
   },
   "file_extension": ".py",
   "mimetype": "text/x-python",
   "name": "python",
   "nbconvert_exporter": "python",
   "pygments_lexer": "ipython3",
   "version": "3.9.13"
  }
 },
 "nbformat": 4,
 "nbformat_minor": 4
}
