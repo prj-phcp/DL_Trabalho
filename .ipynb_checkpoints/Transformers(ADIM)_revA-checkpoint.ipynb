{
 "cells": [
  {
   "cell_type": "code",
   "execution_count": 1,
   "metadata": {
    "tags": []
   },
   "outputs": [
    {
     "name": "stdout",
     "output_type": "stream",
     "text": [
      "Sat Jun 10 21:29:51 2023       \n",
      "+-----------------------------------------------------------------------------+\n",
      "| NVIDIA-SMI 515.43.04    Driver Version: 515.43.04    CUDA Version: 11.7     |\n",
      "|-------------------------------+----------------------+----------------------+\n",
      "| GPU  Name        Persistence-M| Bus-Id        Disp.A | Volatile Uncorr. ECC |\n",
      "| Fan  Temp  Perf  Pwr:Usage/Cap|         Memory-Usage | GPU-Util  Compute M. |\n",
      "|                               |                      |               MIG M. |\n",
      "|===============================+======================+======================|\n",
      "|   0  Tesla V100-SXM2...  Off  | 00000000:15:00.0 Off |                    0 |\n",
      "| N/A   29C    P0    53W / 300W |   2013MiB / 32768MiB |     16%      Default |\n",
      "|                               |                      |                  N/A |\n",
      "+-------------------------------+----------------------+----------------------+\n",
      "                                                                               \n",
      "+-----------------------------------------------------------------------------+\n",
      "| Processes:                                                                  |\n",
      "|  GPU   GI   CI        PID   Type   Process name                  GPU Memory |\n",
      "|        ID   ID                                                   Usage      |\n",
      "|=============================================================================|\n",
      "|    0   N/A  N/A      9930      C   .../venvs/dl_raul/bin/python      951MiB |\n",
      "|    0   N/A  N/A     11128      C   .../venvs/dl_raul/bin/python     1059MiB |\n",
      "+-----------------------------------------------------------------------------+\n"
     ]
    }
   ],
   "source": [
    "import math\n",
    "import json\n",
    "import time\n",
    "import numpy as np\n",
    "import pandas as pd\n",
    "import matplotlib.pyplot as plt\n",
    "from tqdm import tqdm\n",
    "\n",
    "import torch\n",
    "import torch.nn as nn\n",
    "import torch.optim as optim\n",
    "from torch.utils.data import Dataset\n",
    "from torch.utils.data.sampler import SubsetRandomSampler\n",
    "\n",
    "from sklearn.preprocessing import MinMaxScaler, RobustScaler\n",
    "from sklearn.model_selection import train_test_split\n",
    "from sklearn.metrics import mean_squared_error, r2_score\n",
    "\n",
    "!nvidia-smi"
   ]
  },
  {
   "cell_type": "code",
   "execution_count": 2,
   "metadata": {
    "tags": []
   },
   "outputs": [
    {
     "name": "stdout",
     "output_type": "stream",
     "text": [
      "cuda:0\n"
     ]
    }
   ],
   "source": [
    "# Dispositivo onde tensores serão criados, armazenados e processados\n",
    "device = torch.device(\"cuda:0\" if torch.cuda.is_available() else \"cpu\")\n",
    "print(device)\n",
    "# Randon Seed fixa para resultados reprodutíveis\n",
    "seed = 42\n",
    "torch.manual_seed(seed)\n",
    "torch.cuda.manual_seed(seed)\n",
    "np.random.seed(seed)"
   ]
  },
  {
   "cell_type": "markdown",
   "metadata": {},
   "source": [
    "## Data Loader"
   ]
  },
  {
   "cell_type": "code",
   "execution_count": 3,
   "metadata": {
    "tags": []
   },
   "outputs": [],
   "source": [
    "class WellLoader(Dataset):\n",
    "    \n",
    "    def __init__(self, \n",
    "                 path, \n",
    "                 wells, \n",
    "                 var_in, \n",
    "                 var_out,\n",
    "                 normalizing_percentile=90.0,\n",
    "                 normalizing_split=0.2,\n",
    "                 normalizer=RobustScaler,\n",
    "                 max_sequence=16, \n",
    "                 step=1):\n",
    "        \n",
    "        self.path = path\n",
    "        with open(self.path + '/metadata.json', 'r') as metafile:\n",
    "            self.metadata = json.loads(metafile.read())\n",
    "        self.wells = wells\n",
    "        self.var_in = var_in\n",
    "        self.var_out = var_out\n",
    "        self.normalizing_percentile=normalizing_percentile\n",
    "        self.normalizing_split = normalizing_split\n",
    "        self.normalizer = normalizer\n",
    "        self.max_sequence = max_sequence\n",
    "        self.step = step\n",
    "        self.batches_X = None\n",
    "        self.batches_Y = None\n",
    "        self.outputs = None\n",
    "        self.normalizers = []\n",
    "        \n",
    "        indexes = self.get_wells_index(self.wells)\n",
    "        self.load_data_by_index(indexes)\n",
    "        \n",
    "    def get_wells_index(self, wells):\n",
    "        \n",
    "        indexes = []\n",
    "        for well, filt in wells:\n",
    "            indexes.extend([(meta['INDEX'], filt) for meta in self.metadata if meta['WELL'] == well])\n",
    "        return indexes\n",
    "    \n",
    "    def load_data_by_index(self, indexes):\n",
    "        \n",
    "        batches_X = []\n",
    "        batches_Y = []\n",
    "        outputs = []\n",
    "        for index, filt in indexes:\n",
    "            data = pd.read_json(f'{self.path}/{index}.json')#.reset_index()\n",
    "            # Armengue: Por liq vol para preencher o dataset\n",
    "            data['BORE_LIQ_VOL'] = data['BORE_OIL_VOL'] + data['BORE_WAT_VOL']\n",
    "            data = data[self.var_in + self.var_out].dropna().reset_index(drop=True)\n",
    "            X = data[self.var_in].values[filt,:]\n",
    "            Y = data[self.var_out].values[filt,:]\n",
    "            X_base, _, Y_base, _ = train_test_split(X, Y, test_size = self.normalizing_split)\n",
    "            #scaler_X = X_base.max(axis=0, keepdims=True)\n",
    "            #scaler_Y = Y_base.max(axis=0, keepdims=True)\n",
    "            scaler_X = self.normalizer().fit(X_base)\n",
    "            scaler_Y = self.normalizer().fit(Y_base)\n",
    "            #scaler_X = np.percentile(X_base,self.normalizing_percentile,axis=0,keepdims=True)\n",
    "            #scaler_Y = np.percentile(Y_base,self.normalizing_percentile,axis=0,keepdims=True)\n",
    "            self.normalizers.append((scaler_X, scaler_Y))\n",
    "            X, Y = scaler_X.transform(X), scaler_Y.transform(Y)\n",
    "            #X, Y = X / scaler_X, Y / scaler_Y\n",
    "            X, Y = torch.from_numpy(X.astype('float32')), torch.from_numpy(Y.astype('float32'))\n",
    "            output = Y[self.max_sequence::self.step]\n",
    "            #print(Y.shape)\n",
    "            #X = torch.split(X, self.max_sequence, dim= 0)\n",
    "            #Y = torch.split(Y, self.max_sequence, dim= 0)\n",
    "            X = X.unfold(0,self.max_sequence, self.step)\n",
    "            Y = Y.unfold(0,self.max_sequence, self.step)\n",
    "            batches_X.append(X)\n",
    "            batches_Y.append(Y)\n",
    "            outputs.append(output)\n",
    "            #print(X.shape)\n",
    "        self.batches_X = torch.concat(batches_X, axis=0)\n",
    "        self.batches_Y = torch.concat(batches_Y, axis=0)\n",
    "        self.outputs = torch.concat(outputs, axis=0)\n",
    "            \n",
    "    def __len__(self):\n",
    "        \n",
    "        return self.outputs.shape[0]\n",
    "    \n",
    "    def __getitem__(self, idx):\n",
    "                        \n",
    "        srcs = self.batches_X[idx,:,:]\n",
    "        trgts = self.batches_Y[idx,:,:]\n",
    "        output = self.outputs[idx,:]\n",
    "        \n",
    "        return srcs, trgts, output\n",
    "        \n",
    "        \n",
    "                 "
   ]
  },
  {
   "cell_type": "code",
   "execution_count": 4,
   "metadata": {
    "tags": []
   },
   "outputs": [],
   "source": [
    "path = './dataset/volve'\n",
    "wells = [\n",
    "    ('15/9-F-1 C', slice(28, None)),\n",
    "]\n",
    "\n",
    "var_in = [\n",
    "        'AVG_DOWNHOLE_PRESSURE',\n",
    "        'AVG_WHP_P',\n",
    "        'AVG_CHOKE_SIZE_P',\n",
    "        'AVG_WHT_P',\n",
    "        'AVG_DOWNHOLE_TEMPERATURE',\n",
    "]\n",
    "\n",
    "var_out = [\n",
    "        #'BORE_OIL_VOL',\n",
    "        'BORE_LIQ_VOL',\n",
    "        #'BORE_GAS_VOL',\n",
    "        #'BORE_WAT_VOL',\n",
    "]\n",
    "\n",
    "\n",
    "dataset = WellLoader(path, wells, var_in, var_out, max_sequence = 8)"
   ]
  },
  {
   "cell_type": "code",
   "execution_count": 5,
   "metadata": {
    "tags": []
   },
   "outputs": [],
   "source": [
    "class SubsetSplitter:\n",
    "    \n",
    "    def __init__(self, batch_size, validation_split, test_split, shuffle=False):\n",
    "        \n",
    "        self.batch_size = batch_size\n",
    "        self.validation_split = validation_split\n",
    "        self.test_split = test_split\n",
    "        self.shuffle = shuffle\n",
    "        \n",
    "    def __call__(self, dataset:Dataset):\n",
    "        \n",
    "        dataset_size = len(dataset)\n",
    "        indices = list(range(dataset_size))\n",
    "        validation_split = int(np.floor(self.validation_split * dataset_size))\n",
    "        test_split = int(np.floor(self.test_split * dataset_size))\n",
    "        train_split = dataset_size - validation_split - test_split\n",
    "        # Extracting test independently of others\n",
    "        test_indices = indices[train_split + validation_split:]\n",
    "        indices = indices[:train_split + validation_split]\n",
    "        if self.shuffle :\n",
    "            np.random.shuffle(indices)\n",
    "        train_indices = indices[:train_split]\n",
    "        validation_indices = indices[train_split:]\n",
    "\n",
    "        # Creating PT data samplers and loaders:\n",
    "        train_sampler = SubsetRandomSampler(train_indices)\n",
    "        valid_sampler = SubsetRandomSampler(validation_indices)\n",
    "        test_sampler = SubsetRandomSampler(test_indices)\n",
    "\n",
    "        train_loader = torch.utils.data.DataLoader(dataset, batch_size=self.batch_size, \n",
    "                                                   sampler=train_sampler)\n",
    "        validation_loader = torch.utils.data.DataLoader(dataset, batch_size=self.batch_size,\n",
    "                                                    sampler=valid_sampler)\n",
    "        test_loader = torch.utils.data.DataLoader(dataset, batch_size=self.batch_size,\n",
    "                                                    sampler=test_sampler)\n",
    "        \n",
    "        return train_loader, validation_loader, test_loader"
   ]
  },
  {
   "cell_type": "code",
   "execution_count": 6,
   "metadata": {
    "tags": []
   },
   "outputs": [],
   "source": [
    "splitter = SubsetSplitter(4, 0.2, 0.2, shuffle=False)\n",
    "train_loader, validation_loader, test_loader = splitter(dataset)"
   ]
  },
  {
   "cell_type": "markdown",
   "metadata": {},
   "source": [
    "## Model definition"
   ]
  },
  {
   "cell_type": "code",
   "execution_count": 7,
   "metadata": {},
   "outputs": [
    {
     "data": {
      "text/plain": [
       "tensor([[[0.0000, 0.0000, 0.0000, 1.4286, 0.0000, 1.4286, 0.0000, 1.4286,\n",
       "          0.0000, 0.0000],\n",
       "         [0.0000, 0.0000, 0.0000, 0.0000, 0.0000, 1.4286, 0.0000, 0.0000,\n",
       "          0.0000, 1.4286]]])"
      ]
     },
     "execution_count": 7,
     "metadata": {},
     "output_type": "execute_result"
    }
   ],
   "source": [
    "class PositionalEncoding(nn.Module):\n",
    "    def __init__(self, dim_model, dropout_p, max_len):\n",
    "        super().__init__()\n",
    "        # Modified version from: https://pytorch.org/tutorials/beginner/transformer_tutorial.html\n",
    "        # max_len determines how far the position can have an effect on a token (window)\n",
    "        \n",
    "        # Info\n",
    "        self.dropout = nn.Dropout(dropout_p)\n",
    "        \n",
    "        # Encoding - From formula\n",
    "        pos_encoding = torch.zeros(max_len, dim_model)\n",
    "        positions_list = torch.arange(0, max_len, dtype=torch.float).view(-1, 1) # 0, 1, 2, 3, 4, 5\n",
    "        division_term = torch.exp(torch.arange(0, dim_model, 2).float() * (-math.log(10000.0)) / dim_model) # 1000^(2i/dim_model)\n",
    "        \n",
    "        # PE(pos, 2i) = sin(pos/1000^(2i/dim_model))\n",
    "        pos_encoding[:, 0::2] = torch.sin(positions_list * division_term)\n",
    "        \n",
    "        # PE(pos, 2i + 1) = cos(pos/1000^(2i/dim_model))\n",
    "        pos_encoding[:, 1::2] = torch.cos(positions_list * division_term)\n",
    "        \n",
    "        # Saving buffer (same as parameter without gradients needed)\n",
    "        pos_encoding = pos_encoding.unsqueeze(0).transpose(0, 1)\n",
    "        self.register_buffer(\"pos_encoding\",pos_encoding)\n",
    "        \n",
    "    def forward(self, token_embedding: torch.tensor) -> torch.tensor:\n",
    "        # Residual connection + pos encoding\n",
    "        return self.dropout(token_embedding + self.pos_encoding[:token_embedding.size(0), :])\n",
    "    \n",
    "    \n",
    "positional_encoding = PositionalEncoding(dim_model = 10, dropout_p=0.3, max_len=1200)\n",
    "tensor = torch.zeros((1,2,10))\n",
    "tensor\n",
    "encoded = positional_encoding(tensor)\n",
    "encoded"
   ]
  },
  {
   "cell_type": "code",
   "execution_count": 8,
   "metadata": {},
   "outputs": [],
   "source": [
    "class Transformer(nn.Module):\n",
    "    \"\"\"\n",
    "    Model from \"A detailed guide to Pytorch's nn.Transformer() module.\", by\n",
    "    Daniel Melchor: https://medium.com/@danielmelchor/a-detailed-guide-to-pytorchs-nn-transformer-module-c80afbc9ffb1\n",
    "    \"\"\"\n",
    "    # Constructor\n",
    "    def __init__(\n",
    "        self,\n",
    "        num_outputs,\n",
    "        dim_model,\n",
    "        num_heads,\n",
    "        num_encoder_layers,\n",
    "        num_decoder_layers,\n",
    "        dropout_p,\n",
    "        num_linear_layers=0,\n",
    "        norm_first=False\n",
    "    ):\n",
    "        super().__init__()\n",
    "\n",
    "        # INFO\n",
    "        self.model_type = \"Transformer\"\n",
    "        self.dim_model = dim_model\n",
    "\n",
    "        # LAYERS\n",
    "        self.positional_encoder = PositionalEncoding(\n",
    "            dim_model=dim_model, dropout_p=dropout_p, max_len=5000\n",
    "        )\n",
    "        #self.embedding = nn.Embedding(num_outputs, dim_model)\n",
    "        self.transformer = nn.Transformer(\n",
    "            d_model=dim_model,\n",
    "            nhead=num_heads,\n",
    "            num_encoder_layers=num_encoder_layers,\n",
    "            num_decoder_layers=num_decoder_layers,\n",
    "            dropout=dropout_p, \n",
    "            batch_first=True,\n",
    "            norm_first = norm_first\n",
    "        )\n",
    "        self.linear_layers = nn.ModuleList()\n",
    "        for i in range(num_linear_layers):\n",
    "            self.linear_layers.append(nn.Linear(dim_model, dim_model))\n",
    "            self.linear_layers.append(nn.ReLU6())\n",
    "        self.out = nn.Linear(dim_model, num_outputs)\n",
    "        #self.bias_layer = nn.Linear(dim_model, dim_model)\n",
    "        \n",
    "    def forward(self, src, tgt, tgt_mask=None, src_pad_mask=None, tgt_pad_mask=None):\n",
    "        # Src size must be (batch_size, src sequence length)\n",
    "        # Tgt size must be (batch_size, tgt sequence length)\n",
    "\n",
    "        # Embedding + positional encoding - Out size = (batch_size, sequence length, dim_model)\n",
    "        #src = self.embedding(src) * math.sqrt(self.dim_model)\n",
    "        #tgt = self.embedding(tgt) * math.sqrt(self.dim_model)\n",
    "        src_corr = src #* math.sqrt(self.dim_model)\n",
    "        tgt_corr = tgt #* math.sqrt(self.dim_model)\n",
    "        #src_corr = self.positional_encoder(src_corr)\n",
    "        #tgt_corr = self.positional_encoder(tgt_corr)\n",
    "        \n",
    "        # We could use the parameter batch_first=True, but our KDL version doesn't support it yet, so we permute\n",
    "        # to obtain size (sequence length, batch_size, dim_model),\n",
    "        #src = src.permute(1,0,2)\n",
    "        #tgt = tgt.permute(1,0,2)\n",
    "\n",
    "        # Transformer blocks - Out size = (sequence length, batch_size, num_tokens)\n",
    "        transformer_out = self.transformer(src_corr, tgt_corr, tgt_mask=tgt_mask, src_key_padding_mask=src_pad_mask, tgt_key_padding_mask=tgt_pad_mask)\n",
    "        for linear in self.linear_layers:\n",
    "            transformer_out = linear(transformer_out)\n",
    "        out = transformer_out\n",
    "        \n",
    "        #recuperando informacao de escala\n",
    "        #out = torch.mul(out, tgt)\n",
    "        #bias = self.bias_layer(tgt)\n",
    "        #out = torch.add(out, bias)\n",
    "        \n",
    "        out = self.out(out)\n",
    "        \n",
    "        \n",
    "        return out\n",
    "      \n",
    "    def get_tgt_mask(self, size) -> torch.tensor:\n",
    "        # Generates a squeare matrix where the each row allows one word more to be seen\n",
    "        mask = torch.tril(torch.ones(size, size) == 1) # Lower triangular matrix\n",
    "        mask = mask.float()\n",
    "        mask = mask.masked_fill(mask == 0, float('-inf')) # Convert zeros to -inf\n",
    "        mask = mask.masked_fill(mask == 1, float(0.0)) # Convert ones to 0\n",
    "        \n",
    "        # EX for size=5:\n",
    "        # [[0., -inf, -inf, -inf, -inf],\n",
    "        #  [0.,   0., -inf, -inf, -inf],\n",
    "        #  [0.,   0.,   0., -inf, -inf],\n",
    "        #  [0.,   0.,   0.,   0., -inf],\n",
    "        #  [0.,   0.,   0.,   0.,   0.]]\n",
    "        \n",
    "        return mask\n",
    "    \n",
    "    def create_pad_mask(self, matrix: torch.tensor, pad_token: int) -> torch.tensor:\n",
    "        # If matrix = [1,2,3,0,0,0] where pad_token=0, the result mask is\n",
    "        # [False, False, False, True, True, True]\n",
    "        return (matrix == pad_token)"
   ]
  },
  {
   "cell_type": "code",
   "execution_count": 9,
   "metadata": {
    "tags": []
   },
   "outputs": [],
   "source": [
    "class Training:\n",
    "    \n",
    "    def __init__(self, epochs, loss, optimizer, scheduler, path, model_name='Transformer', early_stop=True, patience=5):\n",
    "        \n",
    "        self.loss = loss\n",
    "        self.optimizer = optimizer\n",
    "        self.scheduler = scheduler\n",
    "        self.epochs = epochs\n",
    "        self.path = path\n",
    "        self.model_name = model_name\n",
    "        self.early_stop_flag = early_stop\n",
    "        self.patience = patience\n",
    "        self.clear_results()\n",
    "        \n",
    "    def clear_results(self):\n",
    "        \n",
    "        self.results = {\n",
    "            'Train':[],\n",
    "            'Validation':[],\n",
    "            'Test':[],\n",
    "        }\n",
    "        \n",
    "    def fit(self, model, train_loader, validation_loader, test_loader):\n",
    "        \n",
    "        self.clear_results()\n",
    "        torch.cuda.empty_cache()\n",
    "        decrease = self.patience\n",
    "        not_improved = 0\n",
    "        \n",
    "        model.to(device)\n",
    "        fit_time = time.time()\n",
    "        \n",
    "        for e in range(self.epochs):\n",
    "            since = time.time()\n",
    "            running_loss = 0\n",
    "            #training loop\n",
    "            model.train()\n",
    "            self.train_loop(model, train_loader)\n",
    "            model.eval()\n",
    "            self.validation_loop(model, validation_loader)\n",
    "            self.test_loop(model, test_loader)\n",
    "            decrease, not_improved = self.early_stopping(validation_loader, decrease)\n",
    "            if not_improved == 1 and self.early_stop_flag:\n",
    "                print('[***] end training ...') \n",
    "                break\n",
    "            loss_per_training_batch = self.results['Train'][-1]\n",
    "            loss_per_validation_batch = self.results['Validation'][-1]\n",
    "            loss_per_test_batch = self.results['Test'][-1]\n",
    "            print(\"Epoch:{}/{}..\".format(e+1, self.epochs),\n",
    "                  \"Train Loss: {:.3f}..\".format(loss_per_training_batch),\n",
    "                  \"Val Loss: {:.3f}..\".format(loss_per_validation_batch),\n",
    "                  \"Test Loss: {:.3f}..\".format(loss_per_test_batch),\n",
    "                  \"Time: {:.2f}m\".format((time.time()-since)/60))\n",
    "        print('Total time: {:.2f} m' .format((time.time()- fit_time)/60))\n",
    "        \n",
    "    def train_loop(self, model, train_loader):\n",
    "        \n",
    "        running_loss = 0.0\n",
    "        for i, data in enumerate(tqdm(train_loader)):\n",
    "            #training phase\n",
    "            X, y_tgt, y_out = data\n",
    "            X, y_tgt, y_out = X.to(device), y_tgt.to(device), y_out.to(device)\n",
    "            #y_result, y_tgt = Y, torch.from_numpy(-1.0*np.ones(Y.shape).astype('float32')).to(device)\n",
    "            #y_tgt[:,:,1:] = Y[:,:,:-1]\n",
    "            #y_tgt[:,:,0] = 0.0\n",
    "            output = model(X, y_tgt)\n",
    "            loss = self.loss(output.ravel(), y_out.ravel())\n",
    "            #backward\n",
    "            loss.backward()\n",
    "            self.optimizer.step() #update weight          \n",
    "            self.optimizer.zero_grad() #reset gradient\n",
    "            \n",
    "            #step the learning rate\n",
    "            if not self.scheduler is None:\n",
    "                self.scheduler.step()\n",
    "            running_loss += loss.item()\n",
    "        \n",
    "        self.results['Train'].append(running_loss/len(train_loader))\n",
    "    \n",
    "    \n",
    "    def validation_loop(self, model, validation_loader):\n",
    "        \n",
    "        running_loss = 0.0\n",
    "        with torch.no_grad():\n",
    "            for i, data in enumerate(tqdm(validation_loader)):\n",
    "                #training phase\n",
    "                X, y_tgt, y_out = data\n",
    "                X, y_tgt, y_out = X.to(device), y_tgt.to(device), y_out.to(device)\n",
    "                #y_result, y_tgt = Y, torch.from_numpy(-1.0*np.ones(Y.shape).astype('float32')).to(device)\n",
    "                #y_tgt[:,:,1:] = Y[:,:,:-1]\n",
    "                #y_tgt[:,:,0] = 0.0\n",
    "                output = model(X, y_tgt)\n",
    "                loss = self.loss(output.ravel(), y_out.ravel())\n",
    "                \n",
    "                running_loss += loss.item()\n",
    "        \n",
    "        self.results['Validation'].append(running_loss/len(validation_loader))\n",
    "        \n",
    "    def test_loop(self, model, test_loader):\n",
    "        \n",
    "        running_loss = 0.0\n",
    "        with torch.no_grad():\n",
    "            for i, data in enumerate(tqdm(test_loader)):\n",
    "                #training phase\n",
    "                X, y_tgt, y_out = data\n",
    "                X, y_tgt, y_out = X.to(device), y_tgt.to(device), y_out.to(device)\n",
    "                #y_result, y_tgt = Y, torch.from_numpy(-1.0*np.ones(Y.shape).astype('float32')).to(device)\n",
    "                #y_tgt[:,:,1:] = Y[:,:,:-1]\n",
    "                #y_tgt[:,:,0] = 0.0\n",
    "                output = model(X, y_tgt)\n",
    "                loss = self.loss(output.ravel(), y_out.ravel())\n",
    "                \n",
    "                running_loss += loss.item()\n",
    "        \n",
    "        self.results['Test'].append(running_loss/len(test_loader))\n",
    "        \n",
    "    def early_stopping(self, validation_loader, decrease):\n",
    "        \n",
    "        loss_per_validation_batch = self.results['Validation'][-1]\n",
    "        min_loss = np.min(self.results['Validation'][:-1] + [np.inf])\n",
    "        if min_loss >= self.results['Validation'][-1]:\n",
    "            print('Loss Decreasing.. {:.3f} >> {:.3f} '.format(min_loss, loss_per_validation_batch))\n",
    "            decrease = self.patience\n",
    "            print('saving model...')\n",
    "            torch.save(model, self.path + f'/{self.model_name}.pt')\n",
    "        else:\n",
    "            decrease -= 1\n",
    "        if decrease < 0:     \n",
    "                not_improved = 1\n",
    "        else:\n",
    "            not_improved = 0\n",
    "        return decrease, not_improved\n",
    "    \n",
    "    def get_best_model(self):\n",
    "        \n",
    "        model = torch.load(self.path + f'/{self.model_name}.pt')\n",
    "        return model\n",
    "            \n",
    "            "
   ]
  },
  {
   "cell_type": "code",
   "execution_count": 10,
   "metadata": {
    "tags": []
   },
   "outputs": [],
   "source": [
    "model = Transformer(\n",
    "    num_outputs=1, dim_model=dataset.max_sequence, num_heads=2, \n",
    "    num_encoder_layers=3, num_decoder_layers=3, dropout_p=0.1, norm_first=False,num_linear_layers=0).to(device)\n",
    "\n",
    "lr_ = 5e-4\n",
    "epoch = 200\n",
    "weight_decay = 1e-4\n",
    "path = '.'\n",
    "model_name = 'ADIM'\n",
    "\n",
    "loss = torch.nn.MSELoss()\n",
    "#optimizer = torch.optim.Adam(model.parameters(), lr=lr_)\n",
    "#optimizer = torch.optim.SGD(model.parameters(), lr=lr_)\n",
    "optimizer = torch.optim.AdamW(model.parameters(), lr=lr_, weight_decay=weight_decay)\n",
    "sched = None\n",
    "sched = torch.optim.lr_scheduler.OneCycleLR(optimizer, lr_, epochs=epoch,\n",
    "                                            steps_per_epoch=len(train_loader))\n",
    "training = Training(epoch, loss, optimizer, sched, model_name=model_name, path=path, early_stop=False, patience=20)"
   ]
  },
  {
   "cell_type": "code",
   "execution_count": 11,
   "metadata": {
    "tags": []
   },
   "outputs": [
    {
     "name": "stderr",
     "output_type": "stream",
     "text": [
      "100%|██████████| 107/107 [00:02<00:00, 49.20it/s]\n",
      "100%|██████████| 36/36 [00:00<00:00, 320.35it/s]\n",
      "100%|██████████| 36/36 [00:00<00:00, 317.80it/s]\n"
     ]
    },
    {
     "name": "stdout",
     "output_type": "stream",
     "text": [
      "Loss Decreasing.. inf >> 0.301 \n",
      "saving model...\n",
      "Epoch:1/200.. Train Loss: 0.459.. Val Loss: 0.301.. Test Loss: 0.299.. Time: 0.04m\n"
     ]
    },
    {
     "name": "stderr",
     "output_type": "stream",
     "text": [
      "100%|██████████| 107/107 [00:01<00:00, 72.20it/s]\n",
      "100%|██████████| 36/36 [00:00<00:00, 308.66it/s]\n",
      "100%|██████████| 36/36 [00:00<00:00, 307.24it/s]\n"
     ]
    },
    {
     "name": "stdout",
     "output_type": "stream",
     "text": [
      "Loss Decreasing.. 0.301 >> 0.221 \n",
      "saving model...\n",
      "Epoch:2/200.. Train Loss: 0.270.. Val Loss: 0.221.. Test Loss: 0.239.. Time: 0.03m\n"
     ]
    },
    {
     "name": "stderr",
     "output_type": "stream",
     "text": [
      "100%|██████████| 107/107 [00:01<00:00, 72.76it/s]\n",
      "100%|██████████| 36/36 [00:00<00:00, 321.03it/s]\n",
      "100%|██████████| 36/36 [00:00<00:00, 321.61it/s]\n"
     ]
    },
    {
     "name": "stdout",
     "output_type": "stream",
     "text": [
      "Loss Decreasing.. 0.221 >> 0.195 \n",
      "saving model...\n",
      "Epoch:3/200.. Train Loss: 0.219.. Val Loss: 0.195.. Test Loss: 0.219.. Time: 0.03m\n"
     ]
    },
    {
     "name": "stderr",
     "output_type": "stream",
     "text": [
      "100%|██████████| 107/107 [00:01<00:00, 72.40it/s]\n",
      "100%|██████████| 36/36 [00:00<00:00, 324.01it/s]\n",
      "100%|██████████| 36/36 [00:00<00:00, 319.98it/s]\n"
     ]
    },
    {
     "name": "stdout",
     "output_type": "stream",
     "text": [
      "Loss Decreasing.. 0.195 >> 0.192 \n",
      "saving model...\n",
      "Epoch:4/200.. Train Loss: 0.204.. Val Loss: 0.192.. Test Loss: 0.223.. Time: 0.03m\n"
     ]
    },
    {
     "name": "stderr",
     "output_type": "stream",
     "text": [
      "100%|██████████| 107/107 [00:01<00:00, 72.00it/s]\n",
      "100%|██████████| 36/36 [00:00<00:00, 323.60it/s]\n",
      "100%|██████████| 36/36 [00:00<00:00, 302.51it/s]\n"
     ]
    },
    {
     "name": "stdout",
     "output_type": "stream",
     "text": [
      "Loss Decreasing.. 0.192 >> 0.169 \n",
      "saving model...\n",
      "Epoch:5/200.. Train Loss: 0.202.. Val Loss: 0.169.. Test Loss: 0.190.. Time: 0.03m\n"
     ]
    },
    {
     "name": "stderr",
     "output_type": "stream",
     "text": [
      "100%|██████████| 107/107 [00:01<00:00, 67.60it/s]\n",
      "100%|██████████| 36/36 [00:00<00:00, 325.78it/s]\n",
      "100%|██████████| 36/36 [00:00<00:00, 321.08it/s]\n"
     ]
    },
    {
     "name": "stdout",
     "output_type": "stream",
     "text": [
      "Loss Decreasing.. 0.169 >> 0.159 \n",
      "saving model...\n",
      "Epoch:6/200.. Train Loss: 0.169.. Val Loss: 0.159.. Test Loss: 0.184.. Time: 0.03m\n"
     ]
    },
    {
     "name": "stderr",
     "output_type": "stream",
     "text": [
      "100%|██████████| 107/107 [00:01<00:00, 66.90it/s]\n",
      "100%|██████████| 36/36 [00:00<00:00, 319.94it/s]\n",
      "100%|██████████| 36/36 [00:00<00:00, 301.26it/s]\n"
     ]
    },
    {
     "name": "stdout",
     "output_type": "stream",
     "text": [
      "Loss Decreasing.. 0.159 >> 0.147 \n",
      "saving model...\n",
      "Epoch:7/200.. Train Loss: 0.165.. Val Loss: 0.147.. Test Loss: 0.165.. Time: 0.03m\n"
     ]
    },
    {
     "name": "stderr",
     "output_type": "stream",
     "text": [
      "100%|██████████| 107/107 [00:01<00:00, 66.23it/s]\n",
      "100%|██████████| 36/36 [00:00<00:00, 287.69it/s]\n",
      "100%|██████████| 36/36 [00:00<00:00, 313.89it/s]\n"
     ]
    },
    {
     "name": "stdout",
     "output_type": "stream",
     "text": [
      "Epoch:8/200.. Train Loss: 0.149.. Val Loss: 0.149.. Test Loss: 0.150.. Time: 0.03m\n"
     ]
    },
    {
     "name": "stderr",
     "output_type": "stream",
     "text": [
      "100%|██████████| 107/107 [00:01<00:00, 66.29it/s]\n",
      "100%|██████████| 36/36 [00:00<00:00, 319.10it/s]\n",
      "100%|██████████| 36/36 [00:00<00:00, 320.76it/s]\n"
     ]
    },
    {
     "name": "stdout",
     "output_type": "stream",
     "text": [
      "Loss Decreasing.. 0.147 >> 0.128 \n",
      "saving model...\n",
      "Epoch:9/200.. Train Loss: 0.137.. Val Loss: 0.128.. Test Loss: 0.150.. Time: 0.03m\n"
     ]
    },
    {
     "name": "stderr",
     "output_type": "stream",
     "text": [
      "100%|██████████| 107/107 [00:01<00:00, 66.80it/s]\n",
      "100%|██████████| 36/36 [00:00<00:00, 319.75it/s]\n",
      "100%|██████████| 36/36 [00:00<00:00, 319.85it/s]\n"
     ]
    },
    {
     "name": "stdout",
     "output_type": "stream",
     "text": [
      "Loss Decreasing.. 0.128 >> 0.118 \n",
      "saving model...\n",
      "Epoch:10/200.. Train Loss: 0.133.. Val Loss: 0.118.. Test Loss: 0.134.. Time: 0.03m\n"
     ]
    },
    {
     "name": "stderr",
     "output_type": "stream",
     "text": [
      "100%|██████████| 107/107 [00:01<00:00, 67.78it/s]\n",
      "100%|██████████| 36/36 [00:00<00:00, 323.49it/s]\n",
      "100%|██████████| 36/36 [00:00<00:00, 321.43it/s]\n"
     ]
    },
    {
     "name": "stdout",
     "output_type": "stream",
     "text": [
      "Epoch:11/200.. Train Loss: 0.118.. Val Loss: 0.128.. Test Loss: 0.131.. Time: 0.03m\n"
     ]
    },
    {
     "name": "stderr",
     "output_type": "stream",
     "text": [
      "100%|██████████| 107/107 [00:01<00:00, 65.74it/s]\n",
      "100%|██████████| 36/36 [00:00<00:00, 303.81it/s]\n",
      "100%|██████████| 36/36 [00:00<00:00, 319.38it/s]\n"
     ]
    },
    {
     "name": "stdout",
     "output_type": "stream",
     "text": [
      "Epoch:12/200.. Train Loss: 0.123.. Val Loss: 0.125.. Test Loss: 0.127.. Time: 0.03m\n"
     ]
    },
    {
     "name": "stderr",
     "output_type": "stream",
     "text": [
      "100%|██████████| 107/107 [00:01<00:00, 68.31it/s]\n",
      "100%|██████████| 36/36 [00:00<00:00, 295.75it/s]\n",
      "100%|██████████| 36/36 [00:00<00:00, 296.84it/s]\n"
     ]
    },
    {
     "name": "stdout",
     "output_type": "stream",
     "text": [
      "Loss Decreasing.. 0.118 >> 0.115 \n",
      "saving model...\n",
      "Epoch:13/200.. Train Loss: 0.100.. Val Loss: 0.115.. Test Loss: 0.116.. Time: 0.03m\n"
     ]
    },
    {
     "name": "stderr",
     "output_type": "stream",
     "text": [
      "100%|██████████| 107/107 [00:01<00:00, 65.47it/s]\n",
      "100%|██████████| 36/36 [00:00<00:00, 312.46it/s]\n",
      "100%|██████████| 36/36 [00:00<00:00, 313.64it/s]\n"
     ]
    },
    {
     "name": "stdout",
     "output_type": "stream",
     "text": [
      "Loss Decreasing.. 0.115 >> 0.113 \n",
      "saving model...\n",
      "Epoch:14/200.. Train Loss: 0.100.. Val Loss: 0.113.. Test Loss: 0.113.. Time: 0.03m\n"
     ]
    },
    {
     "name": "stderr",
     "output_type": "stream",
     "text": [
      "100%|██████████| 107/107 [00:01<00:00, 67.29it/s]\n",
      "100%|██████████| 36/36 [00:00<00:00, 311.20it/s]\n",
      "100%|██████████| 36/36 [00:00<00:00, 316.96it/s]\n"
     ]
    },
    {
     "name": "stdout",
     "output_type": "stream",
     "text": [
      "Epoch:15/200.. Train Loss: 0.094.. Val Loss: 0.118.. Test Loss: 0.115.. Time: 0.03m\n"
     ]
    },
    {
     "name": "stderr",
     "output_type": "stream",
     "text": [
      "100%|██████████| 107/107 [00:01<00:00, 64.73it/s]\n",
      "100%|██████████| 36/36 [00:00<00:00, 315.62it/s]\n",
      "100%|██████████| 36/36 [00:00<00:00, 320.44it/s]\n"
     ]
    },
    {
     "name": "stdout",
     "output_type": "stream",
     "text": [
      "Epoch:16/200.. Train Loss: 0.098.. Val Loss: 0.114.. Test Loss: 0.114.. Time: 0.03m\n"
     ]
    },
    {
     "name": "stderr",
     "output_type": "stream",
     "text": [
      "100%|██████████| 107/107 [00:01<00:00, 66.57it/s]\n",
      "100%|██████████| 36/36 [00:00<00:00, 320.18it/s]\n",
      "100%|██████████| 36/36 [00:00<00:00, 316.83it/s]\n"
     ]
    },
    {
     "name": "stdout",
     "output_type": "stream",
     "text": [
      "Epoch:17/200.. Train Loss: 0.102.. Val Loss: 0.119.. Test Loss: 0.121.. Time: 0.03m\n"
     ]
    },
    {
     "name": "stderr",
     "output_type": "stream",
     "text": [
      "100%|██████████| 107/107 [00:01<00:00, 67.75it/s]\n",
      "100%|██████████| 36/36 [00:00<00:00, 320.07it/s]\n",
      "100%|██████████| 36/36 [00:00<00:00, 322.79it/s]\n"
     ]
    },
    {
     "name": "stdout",
     "output_type": "stream",
     "text": [
      "Loss Decreasing.. 0.113 >> 0.109 \n",
      "saving model...\n",
      "Epoch:18/200.. Train Loss: 0.101.. Val Loss: 0.109.. Test Loss: 0.108.. Time: 0.03m\n"
     ]
    },
    {
     "name": "stderr",
     "output_type": "stream",
     "text": [
      "100%|██████████| 107/107 [00:01<00:00, 66.86it/s]\n",
      "100%|██████████| 36/36 [00:00<00:00, 297.78it/s]\n",
      "100%|██████████| 36/36 [00:00<00:00, 319.85it/s]\n"
     ]
    },
    {
     "name": "stdout",
     "output_type": "stream",
     "text": [
      "Epoch:19/200.. Train Loss: 0.097.. Val Loss: 0.129.. Test Loss: 0.119.. Time: 0.03m\n"
     ]
    },
    {
     "name": "stderr",
     "output_type": "stream",
     "text": [
      "100%|██████████| 107/107 [00:01<00:00, 65.54it/s]\n",
      "100%|██████████| 36/36 [00:00<00:00, 325.73it/s]\n",
      "100%|██████████| 36/36 [00:00<00:00, 320.50it/s]\n"
     ]
    },
    {
     "name": "stdout",
     "output_type": "stream",
     "text": [
      "Epoch:20/200.. Train Loss: 0.096.. Val Loss: 0.116.. Test Loss: 0.118.. Time: 0.03m\n"
     ]
    },
    {
     "name": "stderr",
     "output_type": "stream",
     "text": [
      "100%|██████████| 107/107 [00:01<00:00, 66.87it/s]\n",
      "100%|██████████| 36/36 [00:00<00:00, 320.48it/s]\n",
      "100%|██████████| 36/36 [00:00<00:00, 322.07it/s]\n"
     ]
    },
    {
     "name": "stdout",
     "output_type": "stream",
     "text": [
      "Epoch:21/200.. Train Loss: 0.090.. Val Loss: 0.111.. Test Loss: 0.122.. Time: 0.03m\n"
     ]
    },
    {
     "name": "stderr",
     "output_type": "stream",
     "text": [
      "100%|██████████| 107/107 [00:01<00:00, 64.13it/s]\n",
      "100%|██████████| 36/36 [00:00<00:00, 319.35it/s]\n",
      "100%|██████████| 36/36 [00:00<00:00, 322.19it/s]\n"
     ]
    },
    {
     "name": "stdout",
     "output_type": "stream",
     "text": [
      "Epoch:22/200.. Train Loss: 0.089.. Val Loss: 0.112.. Test Loss: 0.107.. Time: 0.03m\n"
     ]
    },
    {
     "name": "stderr",
     "output_type": "stream",
     "text": [
      "100%|██████████| 107/107 [00:01<00:00, 69.62it/s]\n",
      "100%|██████████| 36/36 [00:00<00:00, 318.79it/s]\n",
      "100%|██████████| 36/36 [00:00<00:00, 315.99it/s]\n"
     ]
    },
    {
     "name": "stdout",
     "output_type": "stream",
     "text": [
      "Epoch:23/200.. Train Loss: 0.076.. Val Loss: 0.118.. Test Loss: 0.124.. Time: 0.03m\n"
     ]
    },
    {
     "name": "stderr",
     "output_type": "stream",
     "text": [
      "100%|██████████| 107/107 [00:01<00:00, 66.62it/s]\n",
      "100%|██████████| 36/36 [00:00<00:00, 321.61it/s]\n",
      "100%|██████████| 36/36 [00:00<00:00, 324.17it/s]\n"
     ]
    },
    {
     "name": "stdout",
     "output_type": "stream",
     "text": [
      "Epoch:24/200.. Train Loss: 0.079.. Val Loss: 0.125.. Test Loss: 0.120.. Time: 0.03m\n"
     ]
    },
    {
     "name": "stderr",
     "output_type": "stream",
     "text": [
      "100%|██████████| 107/107 [00:01<00:00, 65.42it/s]\n",
      "100%|██████████| 36/36 [00:00<00:00, 321.72it/s]\n",
      "100%|██████████| 36/36 [00:00<00:00, 321.85it/s]\n"
     ]
    },
    {
     "name": "stdout",
     "output_type": "stream",
     "text": [
      "Epoch:25/200.. Train Loss: 0.076.. Val Loss: 0.112.. Test Loss: 0.115.. Time: 0.03m\n"
     ]
    },
    {
     "name": "stderr",
     "output_type": "stream",
     "text": [
      "100%|██████████| 107/107 [00:01<00:00, 60.98it/s]\n",
      "100%|██████████| 36/36 [00:00<00:00, 311.05it/s]\n",
      "100%|██████████| 36/36 [00:00<00:00, 318.85it/s]\n"
     ]
    },
    {
     "name": "stdout",
     "output_type": "stream",
     "text": [
      "Epoch:26/200.. Train Loss: 0.079.. Val Loss: 0.112.. Test Loss: 0.135.. Time: 0.03m\n"
     ]
    },
    {
     "name": "stderr",
     "output_type": "stream",
     "text": [
      "100%|██████████| 107/107 [00:01<00:00, 63.45it/s]\n",
      "100%|██████████| 36/36 [00:00<00:00, 301.60it/s]\n",
      "100%|██████████| 36/36 [00:00<00:00, 300.33it/s]\n"
     ]
    },
    {
     "name": "stdout",
     "output_type": "stream",
     "text": [
      "Epoch:27/200.. Train Loss: 0.075.. Val Loss: 0.113.. Test Loss: 0.135.. Time: 0.03m\n"
     ]
    },
    {
     "name": "stderr",
     "output_type": "stream",
     "text": [
      "100%|██████████| 107/107 [00:01<00:00, 64.14it/s]\n",
      "100%|██████████| 36/36 [00:00<00:00, 321.81it/s]\n",
      "100%|██████████| 36/36 [00:00<00:00, 320.16it/s]\n"
     ]
    },
    {
     "name": "stdout",
     "output_type": "stream",
     "text": [
      "Loss Decreasing.. 0.109 >> 0.107 \n",
      "saving model...\n",
      "Epoch:28/200.. Train Loss: 0.082.. Val Loss: 0.107.. Test Loss: 0.102.. Time: 0.03m\n"
     ]
    },
    {
     "name": "stderr",
     "output_type": "stream",
     "text": [
      "100%|██████████| 107/107 [00:01<00:00, 66.78it/s]\n",
      "100%|██████████| 36/36 [00:00<00:00, 317.79it/s]\n",
      "100%|██████████| 36/36 [00:00<00:00, 314.01it/s]\n"
     ]
    },
    {
     "name": "stdout",
     "output_type": "stream",
     "text": [
      "Epoch:29/200.. Train Loss: 0.069.. Val Loss: 0.134.. Test Loss: 0.107.. Time: 0.03m\n"
     ]
    },
    {
     "name": "stderr",
     "output_type": "stream",
     "text": [
      "100%|██████████| 107/107 [00:01<00:00, 62.73it/s]\n",
      "100%|██████████| 36/36 [00:00<00:00, 292.49it/s]\n",
      "100%|██████████| 36/36 [00:00<00:00, 301.33it/s]\n"
     ]
    },
    {
     "name": "stdout",
     "output_type": "stream",
     "text": [
      "Epoch:30/200.. Train Loss: 0.096.. Val Loss: 0.108.. Test Loss: 0.111.. Time: 0.03m\n"
     ]
    },
    {
     "name": "stderr",
     "output_type": "stream",
     "text": [
      "100%|██████████| 107/107 [00:01<00:00, 66.15it/s]\n",
      "100%|██████████| 36/36 [00:00<00:00, 317.78it/s]\n",
      "100%|██████████| 36/36 [00:00<00:00, 321.27it/s]\n"
     ]
    },
    {
     "name": "stdout",
     "output_type": "stream",
     "text": [
      "Loss Decreasing.. 0.107 >> 0.106 \n",
      "saving model...\n",
      "Epoch:31/200.. Train Loss: 0.083.. Val Loss: 0.106.. Test Loss: 0.108.. Time: 0.03m\n"
     ]
    },
    {
     "name": "stderr",
     "output_type": "stream",
     "text": [
      "100%|██████████| 107/107 [00:01<00:00, 67.34it/s]\n",
      "100%|██████████| 36/36 [00:00<00:00, 315.45it/s]\n",
      "100%|██████████| 36/36 [00:00<00:00, 317.44it/s]\n"
     ]
    },
    {
     "name": "stdout",
     "output_type": "stream",
     "text": [
      "Loss Decreasing.. 0.106 >> 0.100 \n",
      "saving model...\n",
      "Epoch:32/200.. Train Loss: 0.075.. Val Loss: 0.100.. Test Loss: 0.101.. Time: 0.03m\n"
     ]
    },
    {
     "name": "stderr",
     "output_type": "stream",
     "text": [
      "100%|██████████| 107/107 [00:01<00:00, 67.65it/s]\n",
      "100%|██████████| 36/36 [00:00<00:00, 322.71it/s]\n",
      "100%|██████████| 36/36 [00:00<00:00, 319.00it/s]\n"
     ]
    },
    {
     "name": "stdout",
     "output_type": "stream",
     "text": [
      "Epoch:33/200.. Train Loss: 0.073.. Val Loss: 0.118.. Test Loss: 0.109.. Time: 0.03m\n"
     ]
    },
    {
     "name": "stderr",
     "output_type": "stream",
     "text": [
      "100%|██████████| 107/107 [00:01<00:00, 68.02it/s]\n",
      "100%|██████████| 36/36 [00:00<00:00, 318.16it/s]\n",
      "100%|██████████| 36/36 [00:00<00:00, 321.73it/s]\n"
     ]
    },
    {
     "name": "stdout",
     "output_type": "stream",
     "text": [
      "Epoch:34/200.. Train Loss: 0.076.. Val Loss: 0.139.. Test Loss: 0.124.. Time: 0.03m\n"
     ]
    },
    {
     "name": "stderr",
     "output_type": "stream",
     "text": [
      "100%|██████████| 107/107 [00:01<00:00, 67.34it/s]\n",
      "100%|██████████| 36/36 [00:00<00:00, 323.62it/s]\n",
      "100%|██████████| 36/36 [00:00<00:00, 321.01it/s]\n"
     ]
    },
    {
     "name": "stdout",
     "output_type": "stream",
     "text": [
      "Epoch:35/200.. Train Loss: 0.089.. Val Loss: 0.106.. Test Loss: 0.085.. Time: 0.03m\n"
     ]
    },
    {
     "name": "stderr",
     "output_type": "stream",
     "text": [
      "100%|██████████| 107/107 [00:01<00:00, 66.42it/s]\n",
      "100%|██████████| 36/36 [00:00<00:00, 326.99it/s]\n",
      "100%|██████████| 36/36 [00:00<00:00, 319.31it/s]\n"
     ]
    },
    {
     "name": "stdout",
     "output_type": "stream",
     "text": [
      "Epoch:36/200.. Train Loss: 0.076.. Val Loss: 0.145.. Test Loss: 0.117.. Time: 0.03m\n"
     ]
    },
    {
     "name": "stderr",
     "output_type": "stream",
     "text": [
      "100%|██████████| 107/107 [00:01<00:00, 68.12it/s]\n",
      "100%|██████████| 36/36 [00:00<00:00, 314.37it/s]\n",
      "100%|██████████| 36/36 [00:00<00:00, 318.89it/s]\n"
     ]
    },
    {
     "name": "stdout",
     "output_type": "stream",
     "text": [
      "Epoch:37/200.. Train Loss: 0.078.. Val Loss: 0.122.. Test Loss: 0.111.. Time: 0.03m\n"
     ]
    },
    {
     "name": "stderr",
     "output_type": "stream",
     "text": [
      "100%|██████████| 107/107 [00:01<00:00, 65.57it/s]\n",
      "100%|██████████| 36/36 [00:00<00:00, 313.25it/s]\n",
      "100%|██████████| 36/36 [00:00<00:00, 311.60it/s]\n"
     ]
    },
    {
     "name": "stdout",
     "output_type": "stream",
     "text": [
      "Epoch:38/200.. Train Loss: 0.070.. Val Loss: 0.109.. Test Loss: 0.086.. Time: 0.03m\n"
     ]
    },
    {
     "name": "stderr",
     "output_type": "stream",
     "text": [
      "100%|██████████| 107/107 [00:01<00:00, 65.26it/s]\n",
      "100%|██████████| 36/36 [00:00<00:00, 327.00it/s]\n",
      "100%|██████████| 36/36 [00:00<00:00, 320.10it/s]\n"
     ]
    },
    {
     "name": "stdout",
     "output_type": "stream",
     "text": [
      "Epoch:39/200.. Train Loss: 0.076.. Val Loss: 0.105.. Test Loss: 0.101.. Time: 0.03m\n"
     ]
    },
    {
     "name": "stderr",
     "output_type": "stream",
     "text": [
      "100%|██████████| 107/107 [00:01<00:00, 65.37it/s]\n",
      "100%|██████████| 36/36 [00:00<00:00, 303.15it/s]\n",
      "100%|██████████| 36/36 [00:00<00:00, 321.43it/s]\n"
     ]
    },
    {
     "name": "stdout",
     "output_type": "stream",
     "text": [
      "Epoch:40/200.. Train Loss: 0.069.. Val Loss: 0.111.. Test Loss: 0.112.. Time: 0.03m\n"
     ]
    },
    {
     "name": "stderr",
     "output_type": "stream",
     "text": [
      "100%|██████████| 107/107 [00:01<00:00, 62.41it/s]\n",
      "100%|██████████| 36/36 [00:00<00:00, 318.86it/s]\n",
      "100%|██████████| 36/36 [00:00<00:00, 323.88it/s]\n"
     ]
    },
    {
     "name": "stdout",
     "output_type": "stream",
     "text": [
      "Epoch:41/200.. Train Loss: 0.070.. Val Loss: 0.109.. Test Loss: 0.114.. Time: 0.03m\n"
     ]
    },
    {
     "name": "stderr",
     "output_type": "stream",
     "text": [
      "100%|██████████| 107/107 [00:01<00:00, 64.14it/s]\n",
      "100%|██████████| 36/36 [00:00<00:00, 319.74it/s]\n",
      "100%|██████████| 36/36 [00:00<00:00, 318.48it/s]\n"
     ]
    },
    {
     "name": "stdout",
     "output_type": "stream",
     "text": [
      "Epoch:42/200.. Train Loss: 0.070.. Val Loss: 0.112.. Test Loss: 0.091.. Time: 0.03m\n"
     ]
    },
    {
     "name": "stderr",
     "output_type": "stream",
     "text": [
      "100%|██████████| 107/107 [00:01<00:00, 69.59it/s]\n",
      "100%|██████████| 36/36 [00:00<00:00, 319.82it/s]\n",
      "100%|██████████| 36/36 [00:00<00:00, 293.63it/s]\n"
     ]
    },
    {
     "name": "stdout",
     "output_type": "stream",
     "text": [
      "Loss Decreasing.. 0.100 >> 0.098 \n",
      "saving model...\n",
      "Epoch:43/200.. Train Loss: 0.082.. Val Loss: 0.098.. Test Loss: 0.095.. Time: 0.03m\n"
     ]
    },
    {
     "name": "stderr",
     "output_type": "stream",
     "text": [
      "100%|██████████| 107/107 [00:01<00:00, 64.36it/s]\n",
      "100%|██████████| 36/36 [00:00<00:00, 311.20it/s]\n",
      "100%|██████████| 36/36 [00:00<00:00, 308.22it/s]\n"
     ]
    },
    {
     "name": "stdout",
     "output_type": "stream",
     "text": [
      "Epoch:44/200.. Train Loss: 0.066.. Val Loss: 0.114.. Test Loss: 0.105.. Time: 0.03m\n"
     ]
    },
    {
     "name": "stderr",
     "output_type": "stream",
     "text": [
      "100%|██████████| 107/107 [00:01<00:00, 67.82it/s]\n",
      "100%|██████████| 36/36 [00:00<00:00, 366.02it/s]\n",
      "100%|██████████| 36/36 [00:00<00:00, 319.97it/s]\n"
     ]
    },
    {
     "name": "stdout",
     "output_type": "stream",
     "text": [
      "Epoch:45/200.. Train Loss: 0.077.. Val Loss: 0.114.. Test Loss: 0.121.. Time: 0.03m\n"
     ]
    },
    {
     "name": "stderr",
     "output_type": "stream",
     "text": [
      "100%|██████████| 107/107 [00:01<00:00, 66.30it/s]\n",
      "100%|██████████| 36/36 [00:00<00:00, 321.27it/s]\n",
      "100%|██████████| 36/36 [00:00<00:00, 322.42it/s]\n"
     ]
    },
    {
     "name": "stdout",
     "output_type": "stream",
     "text": [
      "Epoch:46/200.. Train Loss: 0.062.. Val Loss: 0.107.. Test Loss: 0.124.. Time: 0.03m\n"
     ]
    },
    {
     "name": "stderr",
     "output_type": "stream",
     "text": [
      "100%|██████████| 107/107 [00:01<00:00, 61.93it/s]\n",
      "100%|██████████| 36/36 [00:00<00:00, 320.65it/s]\n",
      "100%|██████████| 36/36 [00:00<00:00, 301.78it/s]\n"
     ]
    },
    {
     "name": "stdout",
     "output_type": "stream",
     "text": [
      "Epoch:47/200.. Train Loss: 0.076.. Val Loss: 0.135.. Test Loss: 0.123.. Time: 0.03m\n"
     ]
    },
    {
     "name": "stderr",
     "output_type": "stream",
     "text": [
      "100%|██████████| 107/107 [00:01<00:00, 66.77it/s]\n",
      "100%|██████████| 36/36 [00:00<00:00, 319.68it/s]\n",
      "100%|██████████| 36/36 [00:00<00:00, 319.43it/s]\n"
     ]
    },
    {
     "name": "stdout",
     "output_type": "stream",
     "text": [
      "Epoch:48/200.. Train Loss: 0.067.. Val Loss: 0.104.. Test Loss: 0.105.. Time: 0.03m\n"
     ]
    },
    {
     "name": "stderr",
     "output_type": "stream",
     "text": [
      "100%|██████████| 107/107 [00:01<00:00, 66.09it/s]\n",
      "100%|██████████| 36/36 [00:00<00:00, 259.16it/s]\n",
      "100%|██████████| 36/36 [00:00<00:00, 325.56it/s]\n"
     ]
    },
    {
     "name": "stdout",
     "output_type": "stream",
     "text": [
      "Epoch:49/200.. Train Loss: 0.072.. Val Loss: 0.137.. Test Loss: 0.127.. Time: 0.03m\n"
     ]
    },
    {
     "name": "stderr",
     "output_type": "stream",
     "text": [
      "100%|██████████| 107/107 [00:01<00:00, 59.14it/s]\n",
      "100%|██████████| 36/36 [00:00<00:00, 307.54it/s]\n",
      "100%|██████████| 36/36 [00:00<00:00, 311.62it/s]\n"
     ]
    },
    {
     "name": "stdout",
     "output_type": "stream",
     "text": [
      "Epoch:50/200.. Train Loss: 0.079.. Val Loss: 0.118.. Test Loss: 0.131.. Time: 0.03m\n"
     ]
    },
    {
     "name": "stderr",
     "output_type": "stream",
     "text": [
      "100%|██████████| 107/107 [00:01<00:00, 64.20it/s]\n",
      "100%|██████████| 36/36 [00:00<00:00, 308.26it/s]\n",
      "100%|██████████| 36/36 [00:00<00:00, 319.38it/s]\n"
     ]
    },
    {
     "name": "stdout",
     "output_type": "stream",
     "text": [
      "Epoch:51/200.. Train Loss: 0.072.. Val Loss: 0.104.. Test Loss: 0.088.. Time: 0.03m\n"
     ]
    },
    {
     "name": "stderr",
     "output_type": "stream",
     "text": [
      "100%|██████████| 107/107 [00:01<00:00, 60.92it/s]\n",
      "100%|██████████| 36/36 [00:00<00:00, 322.09it/s]\n",
      "100%|██████████| 36/36 [00:00<00:00, 317.52it/s]\n"
     ]
    },
    {
     "name": "stdout",
     "output_type": "stream",
     "text": [
      "Epoch:52/200.. Train Loss: 0.066.. Val Loss: 0.098.. Test Loss: 0.094.. Time: 0.03m\n"
     ]
    },
    {
     "name": "stderr",
     "output_type": "stream",
     "text": [
      "100%|██████████| 107/107 [00:01<00:00, 65.58it/s]\n",
      "100%|██████████| 36/36 [00:00<00:00, 323.50it/s]\n",
      "100%|██████████| 36/36 [00:00<00:00, 314.34it/s]\n"
     ]
    },
    {
     "name": "stdout",
     "output_type": "stream",
     "text": [
      "Epoch:53/200.. Train Loss: 0.064.. Val Loss: 0.104.. Test Loss: 0.083.. Time: 0.03m\n"
     ]
    },
    {
     "name": "stderr",
     "output_type": "stream",
     "text": [
      "100%|██████████| 107/107 [00:01<00:00, 69.52it/s]\n",
      "100%|██████████| 36/36 [00:00<00:00, 316.52it/s]\n",
      "100%|██████████| 36/36 [00:00<00:00, 321.71it/s]\n"
     ]
    },
    {
     "name": "stdout",
     "output_type": "stream",
     "text": [
      "Epoch:54/200.. Train Loss: 0.058.. Val Loss: 0.129.. Test Loss: 0.079.. Time: 0.03m\n"
     ]
    },
    {
     "name": "stderr",
     "output_type": "stream",
     "text": [
      "100%|██████████| 107/107 [00:01<00:00, 64.82it/s]\n",
      "100%|██████████| 36/36 [00:00<00:00, 320.83it/s]\n",
      "100%|██████████| 36/36 [00:00<00:00, 320.16it/s]\n"
     ]
    },
    {
     "name": "stdout",
     "output_type": "stream",
     "text": [
      "Epoch:55/200.. Train Loss: 0.068.. Val Loss: 0.113.. Test Loss: 0.085.. Time: 0.03m\n"
     ]
    },
    {
     "name": "stderr",
     "output_type": "stream",
     "text": [
      "100%|██████████| 107/107 [00:01<00:00, 64.50it/s]\n",
      "100%|██████████| 36/36 [00:00<00:00, 290.65it/s]\n",
      "100%|██████████| 36/36 [00:00<00:00, 307.78it/s]\n"
     ]
    },
    {
     "name": "stdout",
     "output_type": "stream",
     "text": [
      "Epoch:56/200.. Train Loss: 0.073.. Val Loss: 0.110.. Test Loss: 0.105.. Time: 0.03m\n"
     ]
    },
    {
     "name": "stderr",
     "output_type": "stream",
     "text": [
      "100%|██████████| 107/107 [00:01<00:00, 67.02it/s]\n",
      "100%|██████████| 36/36 [00:00<00:00, 314.78it/s]\n",
      "100%|██████████| 36/36 [00:00<00:00, 316.09it/s]\n"
     ]
    },
    {
     "name": "stdout",
     "output_type": "stream",
     "text": [
      "Loss Decreasing.. 0.098 >> 0.091 \n",
      "saving model...\n",
      "Epoch:57/200.. Train Loss: 0.070.. Val Loss: 0.091.. Test Loss: 0.085.. Time: 0.03m\n"
     ]
    },
    {
     "name": "stderr",
     "output_type": "stream",
     "text": [
      "100%|██████████| 107/107 [00:01<00:00, 66.37it/s]\n",
      "100%|██████████| 36/36 [00:00<00:00, 312.72it/s]\n",
      "100%|██████████| 36/36 [00:00<00:00, 314.72it/s]\n"
     ]
    },
    {
     "name": "stdout",
     "output_type": "stream",
     "text": [
      "Epoch:58/200.. Train Loss: 0.063.. Val Loss: 0.092.. Test Loss: 0.125.. Time: 0.03m\n"
     ]
    },
    {
     "name": "stderr",
     "output_type": "stream",
     "text": [
      "100%|██████████| 107/107 [00:01<00:00, 63.00it/s]\n",
      "100%|██████████| 36/36 [00:00<00:00, 320.83it/s]\n",
      "100%|██████████| 36/36 [00:00<00:00, 273.67it/s]\n"
     ]
    },
    {
     "name": "stdout",
     "output_type": "stream",
     "text": [
      "Epoch:59/200.. Train Loss: 0.064.. Val Loss: 0.104.. Test Loss: 0.088.. Time: 0.03m\n"
     ]
    },
    {
     "name": "stderr",
     "output_type": "stream",
     "text": [
      "100%|██████████| 107/107 [00:01<00:00, 70.02it/s]\n",
      "100%|██████████| 36/36 [00:00<00:00, 315.83it/s]\n",
      "100%|██████████| 36/36 [00:00<00:00, 323.39it/s]\n"
     ]
    },
    {
     "name": "stdout",
     "output_type": "stream",
     "text": [
      "Epoch:60/200.. Train Loss: 0.065.. Val Loss: 0.095.. Test Loss: 0.100.. Time: 0.03m\n"
     ]
    },
    {
     "name": "stderr",
     "output_type": "stream",
     "text": [
      "100%|██████████| 107/107 [00:01<00:00, 66.62it/s]\n",
      "100%|██████████| 36/36 [00:00<00:00, 317.81it/s]\n",
      "100%|██████████| 36/36 [00:00<00:00, 319.04it/s]\n"
     ]
    },
    {
     "name": "stdout",
     "output_type": "stream",
     "text": [
      "Epoch:61/200.. Train Loss: 0.062.. Val Loss: 0.103.. Test Loss: 0.107.. Time: 0.03m\n"
     ]
    },
    {
     "name": "stderr",
     "output_type": "stream",
     "text": [
      "100%|██████████| 107/107 [00:01<00:00, 69.38it/s]\n",
      "100%|██████████| 36/36 [00:00<00:00, 318.58it/s]\n",
      "100%|██████████| 36/36 [00:00<00:00, 312.59it/s]\n"
     ]
    },
    {
     "name": "stdout",
     "output_type": "stream",
     "text": [
      "Epoch:62/200.. Train Loss: 0.078.. Val Loss: 0.100.. Test Loss: 0.098.. Time: 0.03m\n"
     ]
    },
    {
     "name": "stderr",
     "output_type": "stream",
     "text": [
      "100%|██████████| 107/107 [00:01<00:00, 64.60it/s]\n",
      "100%|██████████| 36/36 [00:00<00:00, 318.48it/s]\n",
      "100%|██████████| 36/36 [00:00<00:00, 302.22it/s]\n"
     ]
    },
    {
     "name": "stdout",
     "output_type": "stream",
     "text": [
      "Epoch:63/200.. Train Loss: 0.070.. Val Loss: 0.099.. Test Loss: 0.097.. Time: 0.03m\n"
     ]
    },
    {
     "name": "stderr",
     "output_type": "stream",
     "text": [
      "100%|██████████| 107/107 [00:01<00:00, 66.80it/s]\n",
      "100%|██████████| 36/36 [00:00<00:00, 318.97it/s]\n",
      "100%|██████████| 36/36 [00:00<00:00, 319.05it/s]\n"
     ]
    },
    {
     "name": "stdout",
     "output_type": "stream",
     "text": [
      "Epoch:64/200.. Train Loss: 0.061.. Val Loss: 0.104.. Test Loss: 0.126.. Time: 0.03m\n"
     ]
    },
    {
     "name": "stderr",
     "output_type": "stream",
     "text": [
      "100%|██████████| 107/107 [00:01<00:00, 67.00it/s]\n",
      "100%|██████████| 36/36 [00:00<00:00, 316.75it/s]\n",
      "100%|██████████| 36/36 [00:00<00:00, 319.57it/s]\n"
     ]
    },
    {
     "name": "stdout",
     "output_type": "stream",
     "text": [
      "Epoch:65/200.. Train Loss: 0.060.. Val Loss: 0.099.. Test Loss: 0.097.. Time: 0.03m\n"
     ]
    },
    {
     "name": "stderr",
     "output_type": "stream",
     "text": [
      "100%|██████████| 107/107 [00:01<00:00, 69.05it/s]\n",
      "100%|██████████| 36/36 [00:00<00:00, 320.56it/s]\n",
      "100%|██████████| 36/36 [00:00<00:00, 299.17it/s]\n"
     ]
    },
    {
     "name": "stdout",
     "output_type": "stream",
     "text": [
      "Epoch:66/200.. Train Loss: 0.055.. Val Loss: 0.110.. Test Loss: 0.096.. Time: 0.03m\n"
     ]
    },
    {
     "name": "stderr",
     "output_type": "stream",
     "text": [
      "100%|██████████| 107/107 [00:01<00:00, 65.76it/s]\n",
      "100%|██████████| 36/36 [00:00<00:00, 318.01it/s]\n",
      "100%|██████████| 36/36 [00:00<00:00, 312.66it/s]\n"
     ]
    },
    {
     "name": "stdout",
     "output_type": "stream",
     "text": [
      "Epoch:67/200.. Train Loss: 0.066.. Val Loss: 0.093.. Test Loss: 0.088.. Time: 0.03m\n"
     ]
    },
    {
     "name": "stderr",
     "output_type": "stream",
     "text": [
      "100%|██████████| 107/107 [00:01<00:00, 68.03it/s]\n",
      "100%|██████████| 36/36 [00:00<00:00, 323.43it/s]\n",
      "100%|██████████| 36/36 [00:00<00:00, 316.26it/s]\n"
     ]
    },
    {
     "name": "stdout",
     "output_type": "stream",
     "text": [
      "Epoch:68/200.. Train Loss: 0.059.. Val Loss: 0.104.. Test Loss: 0.095.. Time: 0.03m\n"
     ]
    },
    {
     "name": "stderr",
     "output_type": "stream",
     "text": [
      "100%|██████████| 107/107 [00:01<00:00, 64.81it/s]\n",
      "100%|██████████| 36/36 [00:00<00:00, 299.51it/s]\n",
      "100%|██████████| 36/36 [00:00<00:00, 322.98it/s]\n"
     ]
    },
    {
     "name": "stdout",
     "output_type": "stream",
     "text": [
      "Epoch:69/200.. Train Loss: 0.061.. Val Loss: 0.104.. Test Loss: 0.077.. Time: 0.03m\n"
     ]
    },
    {
     "name": "stderr",
     "output_type": "stream",
     "text": [
      "100%|██████████| 107/107 [00:01<00:00, 68.48it/s]\n",
      "100%|██████████| 36/36 [00:00<00:00, 316.30it/s]\n",
      "100%|██████████| 36/36 [00:00<00:00, 322.32it/s]\n"
     ]
    },
    {
     "name": "stdout",
     "output_type": "stream",
     "text": [
      "Epoch:70/200.. Train Loss: 0.051.. Val Loss: 0.116.. Test Loss: 0.116.. Time: 0.03m\n"
     ]
    },
    {
     "name": "stderr",
     "output_type": "stream",
     "text": [
      "100%|██████████| 107/107 [00:01<00:00, 64.78it/s]\n",
      "100%|██████████| 36/36 [00:00<00:00, 318.35it/s]\n",
      "100%|██████████| 36/36 [00:00<00:00, 317.88it/s]\n"
     ]
    },
    {
     "name": "stdout",
     "output_type": "stream",
     "text": [
      "Epoch:71/200.. Train Loss: 0.061.. Val Loss: 0.105.. Test Loss: 0.089.. Time: 0.03m\n"
     ]
    },
    {
     "name": "stderr",
     "output_type": "stream",
     "text": [
      "100%|██████████| 107/107 [00:01<00:00, 69.09it/s]\n",
      "100%|██████████| 36/36 [00:00<00:00, 321.33it/s]\n",
      "100%|██████████| 36/36 [00:00<00:00, 318.28it/s]\n"
     ]
    },
    {
     "name": "stdout",
     "output_type": "stream",
     "text": [
      "Epoch:72/200.. Train Loss: 0.059.. Val Loss: 0.116.. Test Loss: 0.103.. Time: 0.03m\n"
     ]
    },
    {
     "name": "stderr",
     "output_type": "stream",
     "text": [
      "100%|██████████| 107/107 [00:01<00:00, 65.18it/s]\n",
      "100%|██████████| 36/36 [00:00<00:00, 319.36it/s]\n",
      "100%|██████████| 36/36 [00:00<00:00, 317.98it/s]\n"
     ]
    },
    {
     "name": "stdout",
     "output_type": "stream",
     "text": [
      "Epoch:73/200.. Train Loss: 0.058.. Val Loss: 0.111.. Test Loss: 0.096.. Time: 0.03m\n"
     ]
    },
    {
     "name": "stderr",
     "output_type": "stream",
     "text": [
      "100%|██████████| 107/107 [00:01<00:00, 67.41it/s]\n",
      "100%|██████████| 36/36 [00:00<00:00, 315.66it/s]\n",
      "100%|██████████| 36/36 [00:00<00:00, 317.32it/s]\n"
     ]
    },
    {
     "name": "stdout",
     "output_type": "stream",
     "text": [
      "Epoch:74/200.. Train Loss: 0.063.. Val Loss: 0.110.. Test Loss: 0.082.. Time: 0.03m\n"
     ]
    },
    {
     "name": "stderr",
     "output_type": "stream",
     "text": [
      "100%|██████████| 107/107 [00:01<00:00, 64.95it/s]\n",
      "100%|██████████| 36/36 [00:00<00:00, 317.86it/s]\n",
      "100%|██████████| 36/36 [00:00<00:00, 319.13it/s]\n"
     ]
    },
    {
     "name": "stdout",
     "output_type": "stream",
     "text": [
      "Epoch:75/200.. Train Loss: 0.058.. Val Loss: 0.104.. Test Loss: 0.106.. Time: 0.03m\n"
     ]
    },
    {
     "name": "stderr",
     "output_type": "stream",
     "text": [
      "100%|██████████| 107/107 [00:01<00:00, 66.19it/s]\n",
      "100%|██████████| 36/36 [00:00<00:00, 323.58it/s]\n",
      "100%|██████████| 36/36 [00:00<00:00, 322.66it/s]\n"
     ]
    },
    {
     "name": "stdout",
     "output_type": "stream",
     "text": [
      "Epoch:76/200.. Train Loss: 0.061.. Val Loss: 0.105.. Test Loss: 0.086.. Time: 0.03m\n"
     ]
    },
    {
     "name": "stderr",
     "output_type": "stream",
     "text": [
      "100%|██████████| 107/107 [00:01<00:00, 66.26it/s]\n",
      "100%|██████████| 36/36 [00:00<00:00, 313.13it/s]\n",
      "100%|██████████| 36/36 [00:00<00:00, 319.65it/s]\n"
     ]
    },
    {
     "name": "stdout",
     "output_type": "stream",
     "text": [
      "Epoch:77/200.. Train Loss: 0.058.. Val Loss: 0.105.. Test Loss: 0.098.. Time: 0.03m\n"
     ]
    },
    {
     "name": "stderr",
     "output_type": "stream",
     "text": [
      "100%|██████████| 107/107 [00:01<00:00, 68.32it/s]\n",
      "100%|██████████| 36/36 [00:00<00:00, 317.09it/s]\n",
      "100%|██████████| 36/36 [00:00<00:00, 301.73it/s]\n"
     ]
    },
    {
     "name": "stdout",
     "output_type": "stream",
     "text": [
      "[***] end training ...\n",
      "Epoch:78/200.. Train Loss: 0.051.. Val Loss: 0.122.. Test Loss: 0.113.. Time: 0.03m\n"
     ]
    },
    {
     "name": "stderr",
     "output_type": "stream",
     "text": [
      "100%|██████████| 107/107 [00:01<00:00, 66.63it/s]\n",
      "100%|██████████| 36/36 [00:00<00:00, 315.91it/s]\n",
      "100%|██████████| 36/36 [00:00<00:00, 315.06it/s]\n"
     ]
    },
    {
     "name": "stdout",
     "output_type": "stream",
     "text": [
      "[***] end training ...\n",
      "Epoch:79/200.. Train Loss: 0.068.. Val Loss: 0.117.. Test Loss: 0.122.. Time: 0.03m\n"
     ]
    },
    {
     "name": "stderr",
     "output_type": "stream",
     "text": [
      "100%|██████████| 107/107 [00:01<00:00, 67.75it/s]\n",
      "100%|██████████| 36/36 [00:00<00:00, 315.75it/s]\n",
      "100%|██████████| 36/36 [00:00<00:00, 317.85it/s]\n"
     ]
    },
    {
     "name": "stdout",
     "output_type": "stream",
     "text": [
      "[***] end training ...\n",
      "Epoch:80/200.. Train Loss: 0.068.. Val Loss: 0.113.. Test Loss: 0.121.. Time: 0.03m\n"
     ]
    },
    {
     "name": "stderr",
     "output_type": "stream",
     "text": [
      "100%|██████████| 107/107 [00:01<00:00, 67.83it/s]\n",
      "100%|██████████| 36/36 [00:00<00:00, 322.15it/s]\n",
      "100%|██████████| 36/36 [00:00<00:00, 322.23it/s]\n"
     ]
    },
    {
     "name": "stdout",
     "output_type": "stream",
     "text": [
      "[***] end training ...\n",
      "Epoch:81/200.. Train Loss: 0.054.. Val Loss: 0.124.. Test Loss: 0.109.. Time: 0.03m\n"
     ]
    },
    {
     "name": "stderr",
     "output_type": "stream",
     "text": [
      "100%|██████████| 107/107 [00:01<00:00, 68.59it/s]\n",
      "100%|██████████| 36/36 [00:00<00:00, 322.16it/s]\n",
      "100%|██████████| 36/36 [00:00<00:00, 319.91it/s]\n"
     ]
    },
    {
     "name": "stdout",
     "output_type": "stream",
     "text": [
      "[***] end training ...\n",
      "Epoch:82/200.. Train Loss: 0.056.. Val Loss: 0.100.. Test Loss: 0.129.. Time: 0.03m\n"
     ]
    },
    {
     "name": "stderr",
     "output_type": "stream",
     "text": [
      "100%|██████████| 107/107 [00:01<00:00, 65.27it/s]\n",
      "100%|██████████| 36/36 [00:00<00:00, 324.12it/s]\n",
      "100%|██████████| 36/36 [00:00<00:00, 322.80it/s]\n"
     ]
    },
    {
     "name": "stdout",
     "output_type": "stream",
     "text": [
      "[***] end training ...\n",
      "Epoch:83/200.. Train Loss: 0.053.. Val Loss: 0.101.. Test Loss: 0.109.. Time: 0.03m\n"
     ]
    },
    {
     "name": "stderr",
     "output_type": "stream",
     "text": [
      "100%|██████████| 107/107 [00:01<00:00, 67.54it/s]\n",
      "100%|██████████| 36/36 [00:00<00:00, 316.79it/s]\n",
      "100%|██████████| 36/36 [00:00<00:00, 326.40it/s]\n"
     ]
    },
    {
     "name": "stdout",
     "output_type": "stream",
     "text": [
      "[***] end training ...\n",
      "Epoch:84/200.. Train Loss: 0.050.. Val Loss: 0.102.. Test Loss: 0.130.. Time: 0.03m\n"
     ]
    },
    {
     "name": "stderr",
     "output_type": "stream",
     "text": [
      "100%|██████████| 107/107 [00:01<00:00, 67.23it/s]\n",
      "100%|██████████| 36/36 [00:00<00:00, 315.93it/s]\n",
      "100%|██████████| 36/36 [00:00<00:00, 314.15it/s]\n"
     ]
    },
    {
     "name": "stdout",
     "output_type": "stream",
     "text": [
      "[***] end training ...\n",
      "Epoch:85/200.. Train Loss: 0.055.. Val Loss: 0.100.. Test Loss: 0.109.. Time: 0.03m\n"
     ]
    },
    {
     "name": "stderr",
     "output_type": "stream",
     "text": [
      "100%|██████████| 107/107 [00:01<00:00, 68.42it/s]\n",
      "100%|██████████| 36/36 [00:00<00:00, 316.28it/s]\n",
      "100%|██████████| 36/36 [00:00<00:00, 322.15it/s]\n"
     ]
    },
    {
     "name": "stdout",
     "output_type": "stream",
     "text": [
      "[***] end training ...\n",
      "Epoch:86/200.. Train Loss: 0.051.. Val Loss: 0.099.. Test Loss: 0.087.. Time: 0.03m\n"
     ]
    },
    {
     "name": "stderr",
     "output_type": "stream",
     "text": [
      "100%|██████████| 107/107 [00:01<00:00, 66.68it/s]\n",
      "100%|██████████| 36/36 [00:00<00:00, 301.17it/s]\n",
      "100%|██████████| 36/36 [00:00<00:00, 305.31it/s]\n"
     ]
    },
    {
     "name": "stdout",
     "output_type": "stream",
     "text": [
      "[***] end training ...\n",
      "Epoch:87/200.. Train Loss: 0.052.. Val Loss: 0.108.. Test Loss: 0.090.. Time: 0.03m\n"
     ]
    },
    {
     "name": "stderr",
     "output_type": "stream",
     "text": [
      "100%|██████████| 107/107 [00:01<00:00, 69.05it/s]\n",
      "100%|██████████| 36/36 [00:00<00:00, 323.62it/s]\n",
      "100%|██████████| 36/36 [00:00<00:00, 324.79it/s]\n"
     ]
    },
    {
     "name": "stdout",
     "output_type": "stream",
     "text": [
      "[***] end training ...\n",
      "Epoch:88/200.. Train Loss: 0.054.. Val Loss: 0.130.. Test Loss: 0.118.. Time: 0.03m\n"
     ]
    },
    {
     "name": "stderr",
     "output_type": "stream",
     "text": [
      "100%|██████████| 107/107 [00:01<00:00, 65.76it/s]\n",
      "100%|██████████| 36/36 [00:00<00:00, 298.38it/s]\n",
      "100%|██████████| 36/36 [00:00<00:00, 294.67it/s]\n"
     ]
    },
    {
     "name": "stdout",
     "output_type": "stream",
     "text": [
      "[***] end training ...\n",
      "Epoch:89/200.. Train Loss: 0.064.. Val Loss: 0.131.. Test Loss: 0.099.. Time: 0.03m\n"
     ]
    },
    {
     "name": "stderr",
     "output_type": "stream",
     "text": [
      "100%|██████████| 107/107 [00:01<00:00, 72.33it/s]\n",
      "100%|██████████| 36/36 [00:00<00:00, 314.92it/s]\n",
      "100%|██████████| 36/36 [00:00<00:00, 320.25it/s]\n"
     ]
    },
    {
     "name": "stdout",
     "output_type": "stream",
     "text": [
      "[***] end training ...\n",
      "Epoch:90/200.. Train Loss: 0.055.. Val Loss: 0.124.. Test Loss: 0.103.. Time: 0.03m\n"
     ]
    },
    {
     "name": "stderr",
     "output_type": "stream",
     "text": [
      "100%|██████████| 107/107 [00:01<00:00, 67.23it/s]\n",
      "100%|██████████| 36/36 [00:00<00:00, 319.41it/s]\n",
      "100%|██████████| 36/36 [00:00<00:00, 322.32it/s]\n"
     ]
    },
    {
     "name": "stdout",
     "output_type": "stream",
     "text": [
      "[***] end training ...\n",
      "Epoch:91/200.. Train Loss: 0.064.. Val Loss: 0.114.. Test Loss: 0.104.. Time: 0.03m\n"
     ]
    },
    {
     "name": "stderr",
     "output_type": "stream",
     "text": [
      "100%|██████████| 107/107 [00:01<00:00, 64.50it/s]\n",
      "100%|██████████| 36/36 [00:00<00:00, 266.08it/s]\n",
      "100%|██████████| 36/36 [00:00<00:00, 319.48it/s]\n"
     ]
    },
    {
     "name": "stdout",
     "output_type": "stream",
     "text": [
      "[***] end training ...\n",
      "Epoch:92/200.. Train Loss: 0.059.. Val Loss: 0.108.. Test Loss: 0.103.. Time: 0.03m\n"
     ]
    },
    {
     "name": "stderr",
     "output_type": "stream",
     "text": [
      "100%|██████████| 107/107 [00:01<00:00, 64.46it/s]\n",
      "100%|██████████| 36/36 [00:00<00:00, 318.61it/s]\n",
      "100%|██████████| 36/36 [00:00<00:00, 322.59it/s]\n"
     ]
    },
    {
     "name": "stdout",
     "output_type": "stream",
     "text": [
      "[***] end training ...\n",
      "Epoch:93/200.. Train Loss: 0.059.. Val Loss: 0.104.. Test Loss: 0.105.. Time: 0.03m\n"
     ]
    },
    {
     "name": "stderr",
     "output_type": "stream",
     "text": [
      "100%|██████████| 107/107 [00:01<00:00, 68.50it/s]\n",
      "100%|██████████| 36/36 [00:00<00:00, 324.40it/s]\n",
      "100%|██████████| 36/36 [00:00<00:00, 355.05it/s]\n"
     ]
    },
    {
     "name": "stdout",
     "output_type": "stream",
     "text": [
      "[***] end training ...\n",
      "Epoch:94/200.. Train Loss: 0.059.. Val Loss: 0.109.. Test Loss: 0.098.. Time: 0.03m\n"
     ]
    },
    {
     "name": "stderr",
     "output_type": "stream",
     "text": [
      "100%|██████████| 107/107 [00:01<00:00, 60.55it/s]\n",
      "100%|██████████| 36/36 [00:00<00:00, 316.70it/s]\n",
      "100%|██████████| 36/36 [00:00<00:00, 322.40it/s]\n"
     ]
    },
    {
     "name": "stdout",
     "output_type": "stream",
     "text": [
      "[***] end training ...\n",
      "Epoch:95/200.. Train Loss: 0.054.. Val Loss: 0.112.. Test Loss: 0.105.. Time: 0.03m\n"
     ]
    },
    {
     "name": "stderr",
     "output_type": "stream",
     "text": [
      "100%|██████████| 107/107 [00:01<00:00, 65.79it/s]\n",
      "100%|██████████| 36/36 [00:00<00:00, 317.98it/s]\n",
      "100%|██████████| 36/36 [00:00<00:00, 320.72it/s]\n"
     ]
    },
    {
     "name": "stdout",
     "output_type": "stream",
     "text": [
      "[***] end training ...\n",
      "Epoch:96/200.. Train Loss: 0.054.. Val Loss: 0.113.. Test Loss: 0.107.. Time: 0.03m\n"
     ]
    },
    {
     "name": "stderr",
     "output_type": "stream",
     "text": [
      "100%|██████████| 107/107 [00:01<00:00, 67.14it/s]\n",
      "100%|██████████| 36/36 [00:00<00:00, 321.68it/s]\n",
      "100%|██████████| 36/36 [00:00<00:00, 298.92it/s]\n"
     ]
    },
    {
     "name": "stdout",
     "output_type": "stream",
     "text": [
      "[***] end training ...\n",
      "Epoch:97/200.. Train Loss: 0.051.. Val Loss: 0.113.. Test Loss: 0.113.. Time: 0.03m\n"
     ]
    },
    {
     "name": "stderr",
     "output_type": "stream",
     "text": [
      "100%|██████████| 107/107 [00:01<00:00, 60.29it/s]\n",
      "100%|██████████| 36/36 [00:00<00:00, 317.54it/s]\n",
      "100%|██████████| 36/36 [00:00<00:00, 321.49it/s]\n"
     ]
    },
    {
     "name": "stdout",
     "output_type": "stream",
     "text": [
      "[***] end training ...\n",
      "Epoch:98/200.. Train Loss: 0.059.. Val Loss: 0.110.. Test Loss: 0.113.. Time: 0.03m\n"
     ]
    },
    {
     "name": "stderr",
     "output_type": "stream",
     "text": [
      "100%|██████████| 107/107 [00:01<00:00, 66.03it/s]\n",
      "100%|██████████| 36/36 [00:00<00:00, 304.59it/s]\n",
      "100%|██████████| 36/36 [00:00<00:00, 300.82it/s]\n"
     ]
    },
    {
     "name": "stdout",
     "output_type": "stream",
     "text": [
      "[***] end training ...\n",
      "Epoch:99/200.. Train Loss: 0.057.. Val Loss: 0.108.. Test Loss: 0.092.. Time: 0.03m\n"
     ]
    },
    {
     "name": "stderr",
     "output_type": "stream",
     "text": [
      "100%|██████████| 107/107 [00:01<00:00, 68.59it/s]\n",
      "100%|██████████| 36/36 [00:00<00:00, 311.39it/s]\n",
      "100%|██████████| 36/36 [00:00<00:00, 316.43it/s]\n"
     ]
    },
    {
     "name": "stdout",
     "output_type": "stream",
     "text": [
      "[***] end training ...\n",
      "Epoch:100/200.. Train Loss: 0.057.. Val Loss: 0.133.. Test Loss: 0.109.. Time: 0.03m\n"
     ]
    },
    {
     "name": "stderr",
     "output_type": "stream",
     "text": [
      "100%|██████████| 107/107 [00:01<00:00, 65.83it/s]\n",
      "100%|██████████| 36/36 [00:00<00:00, 315.22it/s]\n",
      "100%|██████████| 36/36 [00:00<00:00, 307.86it/s]\n"
     ]
    },
    {
     "name": "stdout",
     "output_type": "stream",
     "text": [
      "[***] end training ...\n",
      "Epoch:101/200.. Train Loss: 0.055.. Val Loss: 0.112.. Test Loss: 0.094.. Time: 0.03m\n"
     ]
    },
    {
     "name": "stderr",
     "output_type": "stream",
     "text": [
      "100%|██████████| 107/107 [00:01<00:00, 62.19it/s]\n",
      "100%|██████████| 36/36 [00:00<00:00, 317.15it/s]\n",
      "100%|██████████| 36/36 [00:00<00:00, 298.74it/s]\n"
     ]
    },
    {
     "name": "stdout",
     "output_type": "stream",
     "text": [
      "[***] end training ...\n",
      "Epoch:102/200.. Train Loss: 0.052.. Val Loss: 0.132.. Test Loss: 0.102.. Time: 0.03m\n"
     ]
    },
    {
     "name": "stderr",
     "output_type": "stream",
     "text": [
      "100%|██████████| 107/107 [00:01<00:00, 59.39it/s]\n",
      "100%|██████████| 36/36 [00:00<00:00, 306.06it/s]\n",
      "100%|██████████| 36/36 [00:00<00:00, 309.80it/s]\n"
     ]
    },
    {
     "name": "stdout",
     "output_type": "stream",
     "text": [
      "[***] end training ...\n",
      "Epoch:103/200.. Train Loss: 0.052.. Val Loss: 0.114.. Test Loss: 0.091.. Time: 0.03m\n"
     ]
    },
    {
     "name": "stderr",
     "output_type": "stream",
     "text": [
      "100%|██████████| 107/107 [00:01<00:00, 68.20it/s]\n",
      "100%|██████████| 36/36 [00:00<00:00, 322.80it/s]\n",
      "100%|██████████| 36/36 [00:00<00:00, 321.37it/s]\n"
     ]
    },
    {
     "name": "stdout",
     "output_type": "stream",
     "text": [
      "[***] end training ...\n",
      "Epoch:104/200.. Train Loss: 0.057.. Val Loss: 0.101.. Test Loss: 0.082.. Time: 0.03m\n"
     ]
    },
    {
     "name": "stderr",
     "output_type": "stream",
     "text": [
      "100%|██████████| 107/107 [00:01<00:00, 61.58it/s]\n",
      "100%|██████████| 36/36 [00:00<00:00, 309.43it/s]\n",
      "100%|██████████| 36/36 [00:00<00:00, 310.51it/s]\n"
     ]
    },
    {
     "name": "stdout",
     "output_type": "stream",
     "text": [
      "[***] end training ...\n",
      "Epoch:105/200.. Train Loss: 0.053.. Val Loss: 0.101.. Test Loss: 0.086.. Time: 0.03m\n"
     ]
    },
    {
     "name": "stderr",
     "output_type": "stream",
     "text": [
      "100%|██████████| 107/107 [00:01<00:00, 68.63it/s]\n",
      "100%|██████████| 36/36 [00:00<00:00, 323.59it/s]\n",
      "100%|██████████| 36/36 [00:00<00:00, 257.47it/s]\n"
     ]
    },
    {
     "name": "stdout",
     "output_type": "stream",
     "text": [
      "[***] end training ...\n",
      "Epoch:106/200.. Train Loss: 0.053.. Val Loss: 0.115.. Test Loss: 0.104.. Time: 0.03m\n"
     ]
    },
    {
     "name": "stderr",
     "output_type": "stream",
     "text": [
      "100%|██████████| 107/107 [00:01<00:00, 66.99it/s]\n",
      "100%|██████████| 36/36 [00:00<00:00, 320.17it/s]\n",
      "100%|██████████| 36/36 [00:00<00:00, 320.53it/s]\n"
     ]
    },
    {
     "name": "stdout",
     "output_type": "stream",
     "text": [
      "[***] end training ...\n",
      "Epoch:107/200.. Train Loss: 0.048.. Val Loss: 0.109.. Test Loss: 0.095.. Time: 0.03m\n"
     ]
    },
    {
     "name": "stderr",
     "output_type": "stream",
     "text": [
      "100%|██████████| 107/107 [00:01<00:00, 69.94it/s]\n",
      "100%|██████████| 36/36 [00:00<00:00, 322.93it/s]\n",
      "100%|██████████| 36/36 [00:00<00:00, 322.90it/s]\n"
     ]
    },
    {
     "name": "stdout",
     "output_type": "stream",
     "text": [
      "[***] end training ...\n",
      "Epoch:108/200.. Train Loss: 0.055.. Val Loss: 0.109.. Test Loss: 0.092.. Time: 0.03m\n"
     ]
    },
    {
     "name": "stderr",
     "output_type": "stream",
     "text": [
      "100%|██████████| 107/107 [00:01<00:00, 64.67it/s]\n",
      "100%|██████████| 36/36 [00:00<00:00, 321.38it/s]\n",
      "100%|██████████| 36/36 [00:00<00:00, 320.77it/s]\n"
     ]
    },
    {
     "name": "stdout",
     "output_type": "stream",
     "text": [
      "[***] end training ...\n",
      "Epoch:109/200.. Train Loss: 0.047.. Val Loss: 0.113.. Test Loss: 0.096.. Time: 0.03m\n"
     ]
    },
    {
     "name": "stderr",
     "output_type": "stream",
     "text": [
      "100%|██████████| 107/107 [00:01<00:00, 68.26it/s]\n",
      "100%|██████████| 36/36 [00:00<00:00, 315.90it/s]\n",
      "100%|██████████| 36/36 [00:00<00:00, 318.67it/s]\n"
     ]
    },
    {
     "name": "stdout",
     "output_type": "stream",
     "text": [
      "[***] end training ...\n",
      "Epoch:110/200.. Train Loss: 0.045.. Val Loss: 0.117.. Test Loss: 0.106.. Time: 0.03m\n"
     ]
    },
    {
     "name": "stderr",
     "output_type": "stream",
     "text": [
      "100%|██████████| 107/107 [00:01<00:00, 65.57it/s]\n",
      "100%|██████████| 36/36 [00:00<00:00, 318.76it/s]\n",
      "100%|██████████| 36/36 [00:00<00:00, 326.41it/s]\n"
     ]
    },
    {
     "name": "stdout",
     "output_type": "stream",
     "text": [
      "[***] end training ...\n",
      "Epoch:111/200.. Train Loss: 0.052.. Val Loss: 0.108.. Test Loss: 0.108.. Time: 0.03m\n"
     ]
    },
    {
     "name": "stderr",
     "output_type": "stream",
     "text": [
      "100%|██████████| 107/107 [00:01<00:00, 66.58it/s]\n",
      "100%|██████████| 36/36 [00:00<00:00, 320.02it/s]\n",
      "100%|██████████| 36/36 [00:00<00:00, 303.97it/s]\n"
     ]
    },
    {
     "name": "stdout",
     "output_type": "stream",
     "text": [
      "[***] end training ...\n",
      "Epoch:112/200.. Train Loss: 0.046.. Val Loss: 0.105.. Test Loss: 0.099.. Time: 0.03m\n"
     ]
    },
    {
     "name": "stderr",
     "output_type": "stream",
     "text": [
      "100%|██████████| 107/107 [00:01<00:00, 64.64it/s]\n",
      "100%|██████████| 36/36 [00:00<00:00, 307.85it/s]\n",
      "100%|██████████| 36/36 [00:00<00:00, 311.24it/s]\n"
     ]
    },
    {
     "name": "stdout",
     "output_type": "stream",
     "text": [
      "[***] end training ...\n",
      "Epoch:113/200.. Train Loss: 0.056.. Val Loss: 0.116.. Test Loss: 0.094.. Time: 0.03m\n"
     ]
    },
    {
     "name": "stderr",
     "output_type": "stream",
     "text": [
      "100%|██████████| 107/107 [00:01<00:00, 67.27it/s]\n",
      "100%|██████████| 36/36 [00:00<00:00, 315.95it/s]\n",
      "100%|██████████| 36/36 [00:00<00:00, 318.25it/s]\n"
     ]
    },
    {
     "name": "stdout",
     "output_type": "stream",
     "text": [
      "[***] end training ...\n",
      "Epoch:114/200.. Train Loss: 0.063.. Val Loss: 0.110.. Test Loss: 0.082.. Time: 0.03m\n"
     ]
    },
    {
     "name": "stderr",
     "output_type": "stream",
     "text": [
      "100%|██████████| 107/107 [00:01<00:00, 67.00it/s]\n",
      "100%|██████████| 36/36 [00:00<00:00, 312.19it/s]\n",
      "100%|██████████| 36/36 [00:00<00:00, 313.69it/s]\n"
     ]
    },
    {
     "name": "stdout",
     "output_type": "stream",
     "text": [
      "[***] end training ...\n",
      "Epoch:115/200.. Train Loss: 0.057.. Val Loss: 0.105.. Test Loss: 0.094.. Time: 0.03m\n"
     ]
    },
    {
     "name": "stderr",
     "output_type": "stream",
     "text": [
      "100%|██████████| 107/107 [00:01<00:00, 67.77it/s]\n",
      "100%|██████████| 36/36 [00:00<00:00, 381.65it/s]\n",
      "100%|██████████| 36/36 [00:00<00:00, 380.12it/s]\n"
     ]
    },
    {
     "name": "stdout",
     "output_type": "stream",
     "text": [
      "[***] end training ...\n",
      "Epoch:116/200.. Train Loss: 0.051.. Val Loss: 0.110.. Test Loss: 0.087.. Time: 0.03m\n"
     ]
    },
    {
     "name": "stderr",
     "output_type": "stream",
     "text": [
      "100%|██████████| 107/107 [00:01<00:00, 69.13it/s]\n",
      "100%|██████████| 36/36 [00:00<00:00, 307.39it/s]\n",
      "100%|██████████| 36/36 [00:00<00:00, 323.38it/s]\n"
     ]
    },
    {
     "name": "stdout",
     "output_type": "stream",
     "text": [
      "[***] end training ...\n",
      "Epoch:117/200.. Train Loss: 0.051.. Val Loss: 0.113.. Test Loss: 0.116.. Time: 0.03m\n"
     ]
    },
    {
     "name": "stderr",
     "output_type": "stream",
     "text": [
      "100%|██████████| 107/107 [00:01<00:00, 65.21it/s]\n",
      "100%|██████████| 36/36 [00:00<00:00, 308.75it/s]\n",
      "100%|██████████| 36/36 [00:00<00:00, 313.92it/s]\n"
     ]
    },
    {
     "name": "stdout",
     "output_type": "stream",
     "text": [
      "[***] end training ...\n",
      "Epoch:118/200.. Train Loss: 0.049.. Val Loss: 0.114.. Test Loss: 0.126.. Time: 0.03m\n"
     ]
    },
    {
     "name": "stderr",
     "output_type": "stream",
     "text": [
      "100%|██████████| 107/107 [00:01<00:00, 67.55it/s]\n",
      "100%|██████████| 36/36 [00:00<00:00, 309.65it/s]\n",
      "100%|██████████| 36/36 [00:00<00:00, 312.08it/s]\n"
     ]
    },
    {
     "name": "stdout",
     "output_type": "stream",
     "text": [
      "[***] end training ...\n",
      "Epoch:119/200.. Train Loss: 0.045.. Val Loss: 0.118.. Test Loss: 0.103.. Time: 0.03m\n"
     ]
    },
    {
     "name": "stderr",
     "output_type": "stream",
     "text": [
      "100%|██████████| 107/107 [00:01<00:00, 67.50it/s]\n",
      "100%|██████████| 36/36 [00:00<00:00, 309.16it/s]\n",
      "100%|██████████| 36/36 [00:00<00:00, 312.79it/s]\n"
     ]
    },
    {
     "name": "stdout",
     "output_type": "stream",
     "text": [
      "[***] end training ...\n",
      "Epoch:120/200.. Train Loss: 0.044.. Val Loss: 0.112.. Test Loss: 0.093.. Time: 0.03m\n"
     ]
    },
    {
     "name": "stderr",
     "output_type": "stream",
     "text": [
      "100%|██████████| 107/107 [00:01<00:00, 67.51it/s]\n",
      "100%|██████████| 36/36 [00:00<00:00, 321.44it/s]\n",
      "100%|██████████| 36/36 [00:00<00:00, 307.56it/s]\n"
     ]
    },
    {
     "name": "stdout",
     "output_type": "stream",
     "text": [
      "[***] end training ...\n",
      "Epoch:121/200.. Train Loss: 0.053.. Val Loss: 0.107.. Test Loss: 0.091.. Time: 0.03m\n"
     ]
    },
    {
     "name": "stderr",
     "output_type": "stream",
     "text": [
      "100%|██████████| 107/107 [00:01<00:00, 62.96it/s]\n",
      "100%|██████████| 36/36 [00:00<00:00, 313.49it/s]\n",
      "100%|██████████| 36/36 [00:00<00:00, 317.66it/s]\n"
     ]
    },
    {
     "name": "stdout",
     "output_type": "stream",
     "text": [
      "[***] end training ...\n",
      "Epoch:122/200.. Train Loss: 0.047.. Val Loss: 0.110.. Test Loss: 0.099.. Time: 0.03m\n"
     ]
    },
    {
     "name": "stderr",
     "output_type": "stream",
     "text": [
      "100%|██████████| 107/107 [00:01<00:00, 67.41it/s]\n",
      "100%|██████████| 36/36 [00:00<00:00, 312.86it/s]\n",
      "100%|██████████| 36/36 [00:00<00:00, 314.91it/s]\n"
     ]
    },
    {
     "name": "stdout",
     "output_type": "stream",
     "text": [
      "[***] end training ...\n",
      "Epoch:123/200.. Train Loss: 0.047.. Val Loss: 0.121.. Test Loss: 0.097.. Time: 0.03m\n"
     ]
    },
    {
     "name": "stderr",
     "output_type": "stream",
     "text": [
      "100%|██████████| 107/107 [00:01<00:00, 65.46it/s]\n",
      "100%|██████████| 36/36 [00:00<00:00, 314.43it/s]\n",
      "100%|██████████| 36/36 [00:00<00:00, 319.87it/s]\n"
     ]
    },
    {
     "name": "stdout",
     "output_type": "stream",
     "text": [
      "[***] end training ...\n",
      "Epoch:124/200.. Train Loss: 0.047.. Val Loss: 0.140.. Test Loss: 0.100.. Time: 0.03m\n"
     ]
    },
    {
     "name": "stderr",
     "output_type": "stream",
     "text": [
      "100%|██████████| 107/107 [00:01<00:00, 68.06it/s]\n",
      "100%|██████████| 36/36 [00:00<00:00, 316.65it/s]\n",
      "100%|██████████| 36/36 [00:00<00:00, 304.38it/s]\n"
     ]
    },
    {
     "name": "stdout",
     "output_type": "stream",
     "text": [
      "[***] end training ...\n",
      "Epoch:125/200.. Train Loss: 0.048.. Val Loss: 0.148.. Test Loss: 0.103.. Time: 0.03m\n"
     ]
    },
    {
     "name": "stderr",
     "output_type": "stream",
     "text": [
      "100%|██████████| 107/107 [00:01<00:00, 65.00it/s]\n",
      "100%|██████████| 36/36 [00:00<00:00, 314.42it/s]\n",
      "100%|██████████| 36/36 [00:00<00:00, 316.23it/s]\n"
     ]
    },
    {
     "name": "stdout",
     "output_type": "stream",
     "text": [
      "[***] end training ...\n",
      "Epoch:126/200.. Train Loss: 0.046.. Val Loss: 0.116.. Test Loss: 0.100.. Time: 0.03m\n"
     ]
    },
    {
     "name": "stderr",
     "output_type": "stream",
     "text": [
      "100%|██████████| 107/107 [00:01<00:00, 65.80it/s]\n",
      "100%|██████████| 36/36 [00:00<00:00, 309.65it/s]\n",
      "100%|██████████| 36/36 [00:00<00:00, 295.42it/s]\n"
     ]
    },
    {
     "name": "stdout",
     "output_type": "stream",
     "text": [
      "[***] end training ...\n",
      "Epoch:127/200.. Train Loss: 0.042.. Val Loss: 0.118.. Test Loss: 0.105.. Time: 0.03m\n"
     ]
    },
    {
     "name": "stderr",
     "output_type": "stream",
     "text": [
      "100%|██████████| 107/107 [00:01<00:00, 66.86it/s]\n",
      "100%|██████████| 36/36 [00:00<00:00, 311.16it/s]\n",
      "100%|██████████| 36/36 [00:00<00:00, 309.98it/s]\n"
     ]
    },
    {
     "name": "stdout",
     "output_type": "stream",
     "text": [
      "[***] end training ...\n",
      "Epoch:128/200.. Train Loss: 0.043.. Val Loss: 0.120.. Test Loss: 0.099.. Time: 0.03m\n"
     ]
    },
    {
     "name": "stderr",
     "output_type": "stream",
     "text": [
      "100%|██████████| 107/107 [00:01<00:00, 69.09it/s]\n",
      "100%|██████████| 36/36 [00:00<00:00, 379.18it/s]\n",
      "100%|██████████| 36/36 [00:00<00:00, 375.76it/s]\n"
     ]
    },
    {
     "name": "stdout",
     "output_type": "stream",
     "text": [
      "[***] end training ...\n",
      "Epoch:129/200.. Train Loss: 0.047.. Val Loss: 0.112.. Test Loss: 0.101.. Time: 0.03m\n"
     ]
    },
    {
     "name": "stderr",
     "output_type": "stream",
     "text": [
      "100%|██████████| 107/107 [00:01<00:00, 69.73it/s]\n",
      "100%|██████████| 36/36 [00:00<00:00, 379.62it/s]\n",
      "100%|██████████| 36/36 [00:00<00:00, 392.28it/s]\n"
     ]
    },
    {
     "name": "stdout",
     "output_type": "stream",
     "text": [
      "[***] end training ...\n",
      "Epoch:130/200.. Train Loss: 0.045.. Val Loss: 0.108.. Test Loss: 0.083.. Time: 0.03m\n"
     ]
    },
    {
     "name": "stderr",
     "output_type": "stream",
     "text": [
      "100%|██████████| 107/107 [00:01<00:00, 73.10it/s]\n",
      "100%|██████████| 36/36 [00:00<00:00, 381.85it/s]\n",
      "100%|██████████| 36/36 [00:00<00:00, 371.18it/s]\n"
     ]
    },
    {
     "name": "stdout",
     "output_type": "stream",
     "text": [
      "[***] end training ...\n",
      "Epoch:131/200.. Train Loss: 0.048.. Val Loss: 0.109.. Test Loss: 0.092.. Time: 0.03m\n"
     ]
    },
    {
     "name": "stderr",
     "output_type": "stream",
     "text": [
      "100%|██████████| 107/107 [00:01<00:00, 68.60it/s]\n",
      "100%|██████████| 36/36 [00:00<00:00, 390.48it/s]\n",
      "100%|██████████| 36/36 [00:00<00:00, 393.42it/s]\n"
     ]
    },
    {
     "name": "stdout",
     "output_type": "stream",
     "text": [
      "[***] end training ...\n",
      "Epoch:132/200.. Train Loss: 0.055.. Val Loss: 0.097.. Test Loss: 0.084.. Time: 0.03m\n"
     ]
    },
    {
     "name": "stderr",
     "output_type": "stream",
     "text": [
      "100%|██████████| 107/107 [00:01<00:00, 72.88it/s]\n",
      "100%|██████████| 36/36 [00:00<00:00, 373.84it/s]\n",
      "100%|██████████| 36/36 [00:00<00:00, 389.39it/s]\n"
     ]
    },
    {
     "name": "stdout",
     "output_type": "stream",
     "text": [
      "[***] end training ...\n",
      "Epoch:133/200.. Train Loss: 0.044.. Val Loss: 0.105.. Test Loss: 0.091.. Time: 0.03m\n"
     ]
    },
    {
     "name": "stderr",
     "output_type": "stream",
     "text": [
      "100%|██████████| 107/107 [00:01<00:00, 70.15it/s]\n",
      "100%|██████████| 36/36 [00:00<00:00, 387.13it/s]\n",
      "100%|██████████| 36/36 [00:00<00:00, 387.57it/s]\n"
     ]
    },
    {
     "name": "stdout",
     "output_type": "stream",
     "text": [
      "[***] end training ...\n",
      "Epoch:134/200.. Train Loss: 0.044.. Val Loss: 0.120.. Test Loss: 0.096.. Time: 0.03m\n"
     ]
    },
    {
     "name": "stderr",
     "output_type": "stream",
     "text": [
      "100%|██████████| 107/107 [00:01<00:00, 68.84it/s]\n",
      "100%|██████████| 36/36 [00:00<00:00, 381.06it/s]\n",
      "100%|██████████| 36/36 [00:00<00:00, 386.09it/s]\n"
     ]
    },
    {
     "name": "stdout",
     "output_type": "stream",
     "text": [
      "[***] end training ...\n",
      "Epoch:135/200.. Train Loss: 0.051.. Val Loss: 0.111.. Test Loss: 0.096.. Time: 0.03m\n"
     ]
    },
    {
     "name": "stderr",
     "output_type": "stream",
     "text": [
      "100%|██████████| 107/107 [00:01<00:00, 71.81it/s]\n",
      "100%|██████████| 36/36 [00:00<00:00, 386.77it/s]\n",
      "100%|██████████| 36/36 [00:00<00:00, 385.61it/s]\n"
     ]
    },
    {
     "name": "stdout",
     "output_type": "stream",
     "text": [
      "[***] end training ...\n",
      "Epoch:136/200.. Train Loss: 0.048.. Val Loss: 0.113.. Test Loss: 0.092.. Time: 0.03m\n"
     ]
    },
    {
     "name": "stderr",
     "output_type": "stream",
     "text": [
      "100%|██████████| 107/107 [00:01<00:00, 72.67it/s]\n",
      "100%|██████████| 36/36 [00:00<00:00, 372.37it/s]\n",
      "100%|██████████| 36/36 [00:00<00:00, 379.85it/s]\n"
     ]
    },
    {
     "name": "stdout",
     "output_type": "stream",
     "text": [
      "[***] end training ...\n",
      "Epoch:137/200.. Train Loss: 0.045.. Val Loss: 0.111.. Test Loss: 0.094.. Time: 0.03m\n"
     ]
    },
    {
     "name": "stderr",
     "output_type": "stream",
     "text": [
      "100%|██████████| 107/107 [00:01<00:00, 69.91it/s]\n",
      "100%|██████████| 36/36 [00:00<00:00, 364.21it/s]\n",
      "100%|██████████| 36/36 [00:00<00:00, 387.95it/s]\n"
     ]
    },
    {
     "name": "stdout",
     "output_type": "stream",
     "text": [
      "[***] end training ...\n",
      "Epoch:138/200.. Train Loss: 0.045.. Val Loss: 0.110.. Test Loss: 0.095.. Time: 0.03m\n"
     ]
    },
    {
     "name": "stderr",
     "output_type": "stream",
     "text": [
      "100%|██████████| 107/107 [00:01<00:00, 73.14it/s]\n",
      "100%|██████████| 36/36 [00:00<00:00, 391.00it/s]\n",
      "100%|██████████| 36/36 [00:00<00:00, 395.81it/s]\n"
     ]
    },
    {
     "name": "stdout",
     "output_type": "stream",
     "text": [
      "[***] end training ...\n",
      "Epoch:139/200.. Train Loss: 0.046.. Val Loss: 0.116.. Test Loss: 0.100.. Time: 0.03m\n"
     ]
    },
    {
     "name": "stderr",
     "output_type": "stream",
     "text": [
      "100%|██████████| 107/107 [00:01<00:00, 72.06it/s]\n",
      "100%|██████████| 36/36 [00:00<00:00, 380.99it/s]\n",
      "100%|██████████| 36/36 [00:00<00:00, 349.59it/s]\n"
     ]
    },
    {
     "name": "stdout",
     "output_type": "stream",
     "text": [
      "[***] end training ...\n",
      "Epoch:140/200.. Train Loss: 0.044.. Val Loss: 0.106.. Test Loss: 0.086.. Time: 0.03m\n"
     ]
    },
    {
     "name": "stderr",
     "output_type": "stream",
     "text": [
      "100%|██████████| 107/107 [00:01<00:00, 71.26it/s]\n",
      "100%|██████████| 36/36 [00:00<00:00, 354.98it/s]\n",
      "100%|██████████| 36/36 [00:00<00:00, 389.34it/s]\n"
     ]
    },
    {
     "name": "stdout",
     "output_type": "stream",
     "text": [
      "[***] end training ...\n",
      "Epoch:141/200.. Train Loss: 0.041.. Val Loss: 0.124.. Test Loss: 0.095.. Time: 0.03m\n"
     ]
    },
    {
     "name": "stderr",
     "output_type": "stream",
     "text": [
      "100%|██████████| 107/107 [00:01<00:00, 74.35it/s]\n",
      "100%|██████████| 36/36 [00:00<00:00, 367.27it/s]\n",
      "100%|██████████| 36/36 [00:00<00:00, 368.49it/s]\n"
     ]
    },
    {
     "name": "stdout",
     "output_type": "stream",
     "text": [
      "[***] end training ...\n",
      "Epoch:142/200.. Train Loss: 0.043.. Val Loss: 0.119.. Test Loss: 0.090.. Time: 0.03m\n"
     ]
    },
    {
     "name": "stderr",
     "output_type": "stream",
     "text": [
      "100%|██████████| 107/107 [00:01<00:00, 70.81it/s]\n",
      "100%|██████████| 36/36 [00:00<00:00, 385.72it/s]\n",
      "100%|██████████| 36/36 [00:00<00:00, 392.42it/s]\n"
     ]
    },
    {
     "name": "stdout",
     "output_type": "stream",
     "text": [
      "[***] end training ...\n",
      "Epoch:143/200.. Train Loss: 0.045.. Val Loss: 0.115.. Test Loss: 0.109.. Time: 0.03m\n"
     ]
    },
    {
     "name": "stderr",
     "output_type": "stream",
     "text": [
      "100%|██████████| 107/107 [00:01<00:00, 72.92it/s]\n",
      "100%|██████████| 36/36 [00:00<00:00, 389.86it/s]\n",
      "100%|██████████| 36/36 [00:00<00:00, 393.45it/s]\n"
     ]
    },
    {
     "name": "stdout",
     "output_type": "stream",
     "text": [
      "[***] end training ...\n",
      "Epoch:144/200.. Train Loss: 0.042.. Val Loss: 0.126.. Test Loss: 0.098.. Time: 0.03m\n"
     ]
    },
    {
     "name": "stderr",
     "output_type": "stream",
     "text": [
      "100%|██████████| 107/107 [00:01<00:00, 71.11it/s]\n",
      "100%|██████████| 36/36 [00:00<00:00, 395.15it/s]\n",
      "100%|██████████| 36/36 [00:00<00:00, 393.18it/s]\n"
     ]
    },
    {
     "name": "stdout",
     "output_type": "stream",
     "text": [
      "[***] end training ...\n",
      "Epoch:145/200.. Train Loss: 0.042.. Val Loss: 0.120.. Test Loss: 0.101.. Time: 0.03m\n"
     ]
    },
    {
     "name": "stderr",
     "output_type": "stream",
     "text": [
      "100%|██████████| 107/107 [00:01<00:00, 73.16it/s]\n",
      "100%|██████████| 36/36 [00:00<00:00, 376.78it/s]\n",
      "100%|██████████| 36/36 [00:00<00:00, 391.26it/s]\n"
     ]
    },
    {
     "name": "stdout",
     "output_type": "stream",
     "text": [
      "[***] end training ...\n",
      "Epoch:146/200.. Train Loss: 0.036.. Val Loss: 0.121.. Test Loss: 0.101.. Time: 0.03m\n"
     ]
    },
    {
     "name": "stderr",
     "output_type": "stream",
     "text": [
      "100%|██████████| 107/107 [00:01<00:00, 72.66it/s]\n",
      "100%|██████████| 36/36 [00:00<00:00, 390.75it/s]\n",
      "100%|██████████| 36/36 [00:00<00:00, 392.91it/s]\n"
     ]
    },
    {
     "name": "stdout",
     "output_type": "stream",
     "text": [
      "[***] end training ...\n",
      "Epoch:147/200.. Train Loss: 0.048.. Val Loss: 0.120.. Test Loss: 0.104.. Time: 0.03m\n"
     ]
    },
    {
     "name": "stderr",
     "output_type": "stream",
     "text": [
      "100%|██████████| 107/107 [00:01<00:00, 74.10it/s]\n",
      "100%|██████████| 36/36 [00:00<00:00, 393.53it/s]\n",
      "100%|██████████| 36/36 [00:00<00:00, 354.88it/s]\n"
     ]
    },
    {
     "name": "stdout",
     "output_type": "stream",
     "text": [
      "[***] end training ...\n",
      "Epoch:148/200.. Train Loss: 0.038.. Val Loss: 0.128.. Test Loss: 0.113.. Time: 0.03m\n"
     ]
    },
    {
     "name": "stderr",
     "output_type": "stream",
     "text": [
      "100%|██████████| 107/107 [00:01<00:00, 70.68it/s]\n",
      "100%|██████████| 36/36 [00:00<00:00, 392.88it/s]\n",
      "100%|██████████| 36/36 [00:00<00:00, 393.14it/s]\n"
     ]
    },
    {
     "name": "stdout",
     "output_type": "stream",
     "text": [
      "[***] end training ...\n",
      "Epoch:149/200.. Train Loss: 0.044.. Val Loss: 0.133.. Test Loss: 0.140.. Time: 0.03m\n"
     ]
    },
    {
     "name": "stderr",
     "output_type": "stream",
     "text": [
      "100%|██████████| 107/107 [00:01<00:00, 74.06it/s]\n",
      "100%|██████████| 36/36 [00:00<00:00, 395.30it/s]\n",
      "100%|██████████| 36/36 [00:00<00:00, 387.20it/s]\n"
     ]
    },
    {
     "name": "stdout",
     "output_type": "stream",
     "text": [
      "[***] end training ...\n",
      "Epoch:150/200.. Train Loss: 0.045.. Val Loss: 0.131.. Test Loss: 0.121.. Time: 0.03m\n"
     ]
    },
    {
     "name": "stderr",
     "output_type": "stream",
     "text": [
      "100%|██████████| 107/107 [00:01<00:00, 70.94it/s]\n",
      "100%|██████████| 36/36 [00:00<00:00, 342.08it/s]\n",
      "100%|██████████| 36/36 [00:00<00:00, 354.82it/s]\n"
     ]
    },
    {
     "name": "stdout",
     "output_type": "stream",
     "text": [
      "[***] end training ...\n",
      "Epoch:151/200.. Train Loss: 0.042.. Val Loss: 0.126.. Test Loss: 0.105.. Time: 0.03m\n"
     ]
    },
    {
     "name": "stderr",
     "output_type": "stream",
     "text": [
      "100%|██████████| 107/107 [00:01<00:00, 75.01it/s]\n",
      "100%|██████████| 36/36 [00:00<00:00, 392.89it/s]\n",
      "100%|██████████| 36/36 [00:00<00:00, 395.72it/s]\n"
     ]
    },
    {
     "name": "stdout",
     "output_type": "stream",
     "text": [
      "[***] end training ...\n",
      "Epoch:152/200.. Train Loss: 0.040.. Val Loss: 0.127.. Test Loss: 0.098.. Time: 0.03m\n"
     ]
    },
    {
     "name": "stderr",
     "output_type": "stream",
     "text": [
      "100%|██████████| 107/107 [00:01<00:00, 69.54it/s]\n",
      "100%|██████████| 36/36 [00:00<00:00, 389.60it/s]\n",
      "100%|██████████| 36/36 [00:00<00:00, 393.60it/s]\n"
     ]
    },
    {
     "name": "stdout",
     "output_type": "stream",
     "text": [
      "[***] end training ...\n",
      "Epoch:153/200.. Train Loss: 0.045.. Val Loss: 0.122.. Test Loss: 0.103.. Time: 0.03m\n"
     ]
    },
    {
     "name": "stderr",
     "output_type": "stream",
     "text": [
      "100%|██████████| 107/107 [00:01<00:00, 74.00it/s]\n",
      "100%|██████████| 36/36 [00:00<00:00, 389.23it/s]\n",
      "100%|██████████| 36/36 [00:00<00:00, 391.55it/s]\n"
     ]
    },
    {
     "name": "stdout",
     "output_type": "stream",
     "text": [
      "[***] end training ...\n",
      "Epoch:154/200.. Train Loss: 0.039.. Val Loss: 0.116.. Test Loss: 0.099.. Time: 0.03m\n"
     ]
    },
    {
     "name": "stderr",
     "output_type": "stream",
     "text": [
      "100%|██████████| 107/107 [00:01<00:00, 71.72it/s]\n",
      "100%|██████████| 36/36 [00:00<00:00, 396.16it/s]\n",
      "100%|██████████| 36/36 [00:00<00:00, 393.48it/s]\n"
     ]
    },
    {
     "name": "stdout",
     "output_type": "stream",
     "text": [
      "[***] end training ...\n",
      "Epoch:155/200.. Train Loss: 0.042.. Val Loss: 0.120.. Test Loss: 0.136.. Time: 0.03m\n"
     ]
    },
    {
     "name": "stderr",
     "output_type": "stream",
     "text": [
      "100%|██████████| 107/107 [00:01<00:00, 72.75it/s]\n",
      "100%|██████████| 36/36 [00:00<00:00, 386.55it/s]\n",
      "100%|██████████| 36/36 [00:00<00:00, 384.31it/s]\n"
     ]
    },
    {
     "name": "stdout",
     "output_type": "stream",
     "text": [
      "[***] end training ...\n",
      "Epoch:156/200.. Train Loss: 0.041.. Val Loss: 0.124.. Test Loss: 0.101.. Time: 0.03m\n"
     ]
    },
    {
     "name": "stderr",
     "output_type": "stream",
     "text": [
      "100%|██████████| 107/107 [00:01<00:00, 72.02it/s]\n",
      "100%|██████████| 36/36 [00:00<00:00, 371.55it/s]\n",
      "100%|██████████| 36/36 [00:00<00:00, 374.10it/s]\n"
     ]
    },
    {
     "name": "stdout",
     "output_type": "stream",
     "text": [
      "[***] end training ...\n",
      "Epoch:157/200.. Train Loss: 0.040.. Val Loss: 0.129.. Test Loss: 0.098.. Time: 0.03m\n"
     ]
    },
    {
     "name": "stderr",
     "output_type": "stream",
     "text": [
      "100%|██████████| 107/107 [00:01<00:00, 70.94it/s]\n",
      "100%|██████████| 36/36 [00:00<00:00, 382.39it/s]\n",
      "100%|██████████| 36/36 [00:00<00:00, 384.73it/s]\n"
     ]
    },
    {
     "name": "stdout",
     "output_type": "stream",
     "text": [
      "[***] end training ...\n",
      "Epoch:158/200.. Train Loss: 0.044.. Val Loss: 0.127.. Test Loss: 0.101.. Time: 0.03m\n"
     ]
    },
    {
     "name": "stderr",
     "output_type": "stream",
     "text": [
      "100%|██████████| 107/107 [00:01<00:00, 72.70it/s]\n",
      "100%|██████████| 36/36 [00:00<00:00, 386.13it/s]\n",
      "100%|██████████| 36/36 [00:00<00:00, 371.66it/s]\n"
     ]
    },
    {
     "name": "stdout",
     "output_type": "stream",
     "text": [
      "[***] end training ...\n",
      "Epoch:159/200.. Train Loss: 0.038.. Val Loss: 0.121.. Test Loss: 0.090.. Time: 0.03m\n"
     ]
    },
    {
     "name": "stderr",
     "output_type": "stream",
     "text": [
      "100%|██████████| 107/107 [00:01<00:00, 72.97it/s]\n",
      "100%|██████████| 36/36 [00:00<00:00, 380.13it/s]\n",
      "100%|██████████| 36/36 [00:00<00:00, 379.57it/s]\n"
     ]
    },
    {
     "name": "stdout",
     "output_type": "stream",
     "text": [
      "[***] end training ...\n",
      "Epoch:160/200.. Train Loss: 0.041.. Val Loss: 0.128.. Test Loss: 0.091.. Time: 0.03m\n"
     ]
    },
    {
     "name": "stderr",
     "output_type": "stream",
     "text": [
      "100%|██████████| 107/107 [00:01<00:00, 73.94it/s]\n",
      "100%|██████████| 36/36 [00:00<00:00, 387.23it/s]\n",
      "100%|██████████| 36/36 [00:00<00:00, 391.20it/s]\n"
     ]
    },
    {
     "name": "stdout",
     "output_type": "stream",
     "text": [
      "[***] end training ...\n",
      "Epoch:161/200.. Train Loss: 0.040.. Val Loss: 0.132.. Test Loss: 0.106.. Time: 0.03m\n"
     ]
    },
    {
     "name": "stderr",
     "output_type": "stream",
     "text": [
      "100%|██████████| 107/107 [00:01<00:00, 71.56it/s]\n",
      "100%|██████████| 36/36 [00:00<00:00, 388.13it/s]\n",
      "100%|██████████| 36/36 [00:00<00:00, 387.56it/s]\n"
     ]
    },
    {
     "name": "stdout",
     "output_type": "stream",
     "text": [
      "[***] end training ...\n",
      "Epoch:162/200.. Train Loss: 0.041.. Val Loss: 0.127.. Test Loss: 0.098.. Time: 0.03m\n"
     ]
    },
    {
     "name": "stderr",
     "output_type": "stream",
     "text": [
      "100%|██████████| 107/107 [00:01<00:00, 72.98it/s]\n",
      "100%|██████████| 36/36 [00:00<00:00, 386.43it/s]\n",
      "100%|██████████| 36/36 [00:00<00:00, 388.85it/s]\n"
     ]
    },
    {
     "name": "stdout",
     "output_type": "stream",
     "text": [
      "[***] end training ...\n",
      "Epoch:163/200.. Train Loss: 0.038.. Val Loss: 0.132.. Test Loss: 0.104.. Time: 0.03m\n"
     ]
    },
    {
     "name": "stderr",
     "output_type": "stream",
     "text": [
      "100%|██████████| 107/107 [00:01<00:00, 71.83it/s]\n",
      "100%|██████████| 36/36 [00:00<00:00, 393.91it/s]\n",
      "100%|██████████| 36/36 [00:00<00:00, 391.90it/s]\n"
     ]
    },
    {
     "name": "stdout",
     "output_type": "stream",
     "text": [
      "[***] end training ...\n",
      "Epoch:164/200.. Train Loss: 0.037.. Val Loss: 0.132.. Test Loss: 0.106.. Time: 0.03m\n"
     ]
    },
    {
     "name": "stderr",
     "output_type": "stream",
     "text": [
      "100%|██████████| 107/107 [00:01<00:00, 72.65it/s]\n",
      "100%|██████████| 36/36 [00:00<00:00, 392.68it/s]\n",
      "100%|██████████| 36/36 [00:00<00:00, 362.60it/s]\n"
     ]
    },
    {
     "name": "stdout",
     "output_type": "stream",
     "text": [
      "[***] end training ...\n",
      "Epoch:165/200.. Train Loss: 0.036.. Val Loss: 0.131.. Test Loss: 0.119.. Time: 0.03m\n"
     ]
    },
    {
     "name": "stderr",
     "output_type": "stream",
     "text": [
      "100%|██████████| 107/107 [00:01<00:00, 70.18it/s]\n",
      "100%|██████████| 36/36 [00:00<00:00, 384.92it/s]\n",
      "100%|██████████| 36/36 [00:00<00:00, 393.98it/s]\n"
     ]
    },
    {
     "name": "stdout",
     "output_type": "stream",
     "text": [
      "[***] end training ...\n",
      "Epoch:166/200.. Train Loss: 0.040.. Val Loss: 0.133.. Test Loss: 0.107.. Time: 0.03m\n"
     ]
    },
    {
     "name": "stderr",
     "output_type": "stream",
     "text": [
      "100%|██████████| 107/107 [00:01<00:00, 73.37it/s]\n",
      "100%|██████████| 36/36 [00:00<00:00, 394.38it/s]\n",
      "100%|██████████| 36/36 [00:00<00:00, 388.82it/s]\n"
     ]
    },
    {
     "name": "stdout",
     "output_type": "stream",
     "text": [
      "[***] end training ...\n",
      "Epoch:167/200.. Train Loss: 0.042.. Val Loss: 0.123.. Test Loss: 0.103.. Time: 0.03m\n"
     ]
    },
    {
     "name": "stderr",
     "output_type": "stream",
     "text": [
      "100%|██████████| 107/107 [00:01<00:00, 71.40it/s]\n",
      "100%|██████████| 36/36 [00:00<00:00, 372.67it/s]\n",
      "100%|██████████| 36/36 [00:00<00:00, 382.53it/s]\n"
     ]
    },
    {
     "name": "stdout",
     "output_type": "stream",
     "text": [
      "[***] end training ...\n",
      "Epoch:168/200.. Train Loss: 0.036.. Val Loss: 0.125.. Test Loss: 0.104.. Time: 0.03m\n"
     ]
    },
    {
     "name": "stderr",
     "output_type": "stream",
     "text": [
      "100%|██████████| 107/107 [00:01<00:00, 72.93it/s]\n",
      "100%|██████████| 36/36 [00:00<00:00, 392.97it/s]\n",
      "100%|██████████| 36/36 [00:00<00:00, 282.65it/s]\n"
     ]
    },
    {
     "name": "stdout",
     "output_type": "stream",
     "text": [
      "[***] end training ...\n",
      "Epoch:169/200.. Train Loss: 0.038.. Val Loss: 0.127.. Test Loss: 0.104.. Time: 0.03m\n"
     ]
    },
    {
     "name": "stderr",
     "output_type": "stream",
     "text": [
      "100%|██████████| 107/107 [00:01<00:00, 70.01it/s]\n",
      "100%|██████████| 36/36 [00:00<00:00, 365.81it/s]\n",
      "100%|██████████| 36/36 [00:00<00:00, 388.30it/s]\n"
     ]
    },
    {
     "name": "stdout",
     "output_type": "stream",
     "text": [
      "[***] end training ...\n",
      "Epoch:170/200.. Train Loss: 0.036.. Val Loss: 0.128.. Test Loss: 0.107.. Time: 0.03m\n"
     ]
    },
    {
     "name": "stderr",
     "output_type": "stream",
     "text": [
      "100%|██████████| 107/107 [00:01<00:00, 72.04it/s]\n",
      "100%|██████████| 36/36 [00:00<00:00, 382.88it/s]\n",
      "100%|██████████| 36/36 [00:00<00:00, 390.42it/s]\n"
     ]
    },
    {
     "name": "stdout",
     "output_type": "stream",
     "text": [
      "[***] end training ...\n",
      "Epoch:171/200.. Train Loss: 0.039.. Val Loss: 0.128.. Test Loss: 0.105.. Time: 0.03m\n"
     ]
    },
    {
     "name": "stderr",
     "output_type": "stream",
     "text": [
      "100%|██████████| 107/107 [00:01<00:00, 73.31it/s]\n",
      "100%|██████████| 36/36 [00:00<00:00, 351.00it/s]\n",
      "100%|██████████| 36/36 [00:00<00:00, 387.73it/s]\n"
     ]
    },
    {
     "name": "stdout",
     "output_type": "stream",
     "text": [
      "[***] end training ...\n",
      "Epoch:172/200.. Train Loss: 0.039.. Val Loss: 0.131.. Test Loss: 0.110.. Time: 0.03m\n"
     ]
    },
    {
     "name": "stderr",
     "output_type": "stream",
     "text": [
      "100%|██████████| 107/107 [00:01<00:00, 69.04it/s]\n",
      "100%|██████████| 36/36 [00:00<00:00, 378.58it/s]\n",
      "100%|██████████| 36/36 [00:00<00:00, 382.04it/s]\n"
     ]
    },
    {
     "name": "stdout",
     "output_type": "stream",
     "text": [
      "[***] end training ...\n",
      "Epoch:173/200.. Train Loss: 0.041.. Val Loss: 0.129.. Test Loss: 0.107.. Time: 0.03m\n"
     ]
    },
    {
     "name": "stderr",
     "output_type": "stream",
     "text": [
      "100%|██████████| 107/107 [00:01<00:00, 74.80it/s]\n",
      "100%|██████████| 36/36 [00:00<00:00, 392.80it/s]\n",
      "100%|██████████| 36/36 [00:00<00:00, 394.55it/s]\n"
     ]
    },
    {
     "name": "stdout",
     "output_type": "stream",
     "text": [
      "[***] end training ...\n",
      "Epoch:174/200.. Train Loss: 0.036.. Val Loss: 0.133.. Test Loss: 0.105.. Time: 0.03m\n"
     ]
    },
    {
     "name": "stderr",
     "output_type": "stream",
     "text": [
      "100%|██████████| 107/107 [00:01<00:00, 72.19it/s]\n",
      "100%|██████████| 36/36 [00:00<00:00, 394.01it/s]\n",
      "100%|██████████| 36/36 [00:00<00:00, 392.44it/s]\n"
     ]
    },
    {
     "name": "stdout",
     "output_type": "stream",
     "text": [
      "[***] end training ...\n",
      "Epoch:175/200.. Train Loss: 0.035.. Val Loss: 0.132.. Test Loss: 0.107.. Time: 0.03m\n"
     ]
    },
    {
     "name": "stderr",
     "output_type": "stream",
     "text": [
      "100%|██████████| 107/107 [00:01<00:00, 72.85it/s]\n",
      "100%|██████████| 36/36 [00:00<00:00, 385.88it/s]\n",
      "100%|██████████| 36/36 [00:00<00:00, 388.44it/s]\n"
     ]
    },
    {
     "name": "stdout",
     "output_type": "stream",
     "text": [
      "[***] end training ...\n",
      "Epoch:176/200.. Train Loss: 0.036.. Val Loss: 0.126.. Test Loss: 0.105.. Time: 0.03m\n"
     ]
    },
    {
     "name": "stderr",
     "output_type": "stream",
     "text": [
      "100%|██████████| 107/107 [00:01<00:00, 71.76it/s]\n",
      "100%|██████████| 36/36 [00:00<00:00, 382.18it/s]\n",
      "100%|██████████| 36/36 [00:00<00:00, 394.54it/s]\n"
     ]
    },
    {
     "name": "stdout",
     "output_type": "stream",
     "text": [
      "[***] end training ...\n",
      "Epoch:177/200.. Train Loss: 0.041.. Val Loss: 0.127.. Test Loss: 0.106.. Time: 0.03m\n"
     ]
    },
    {
     "name": "stderr",
     "output_type": "stream",
     "text": [
      "100%|██████████| 107/107 [00:01<00:00, 72.51it/s]\n",
      "100%|██████████| 36/36 [00:00<00:00, 392.17it/s]\n",
      "100%|██████████| 36/36 [00:00<00:00, 393.73it/s]\n"
     ]
    },
    {
     "name": "stdout",
     "output_type": "stream",
     "text": [
      "[***] end training ...\n",
      "Epoch:178/200.. Train Loss: 0.040.. Val Loss: 0.127.. Test Loss: 0.116.. Time: 0.03m\n"
     ]
    },
    {
     "name": "stderr",
     "output_type": "stream",
     "text": [
      "100%|██████████| 107/107 [00:01<00:00, 70.97it/s]\n",
      "100%|██████████| 36/36 [00:00<00:00, 372.95it/s]\n",
      "100%|██████████| 36/36 [00:00<00:00, 385.04it/s]\n"
     ]
    },
    {
     "name": "stdout",
     "output_type": "stream",
     "text": [
      "[***] end training ...\n",
      "Epoch:179/200.. Train Loss: 0.041.. Val Loss: 0.125.. Test Loss: 0.114.. Time: 0.03m\n"
     ]
    },
    {
     "name": "stderr",
     "output_type": "stream",
     "text": [
      "100%|██████████| 107/107 [00:01<00:00, 72.69it/s]\n",
      "100%|██████████| 36/36 [00:00<00:00, 389.84it/s]\n",
      "100%|██████████| 36/36 [00:00<00:00, 388.53it/s]\n"
     ]
    },
    {
     "name": "stdout",
     "output_type": "stream",
     "text": [
      "[***] end training ...\n",
      "Epoch:180/200.. Train Loss: 0.038.. Val Loss: 0.126.. Test Loss: 0.107.. Time: 0.03m\n"
     ]
    },
    {
     "name": "stderr",
     "output_type": "stream",
     "text": [
      "100%|██████████| 107/107 [00:01<00:00, 73.46it/s]\n",
      "100%|██████████| 36/36 [00:00<00:00, 392.52it/s]\n",
      "100%|██████████| 36/36 [00:00<00:00, 387.04it/s]\n"
     ]
    },
    {
     "name": "stdout",
     "output_type": "stream",
     "text": [
      "[***] end training ...\n",
      "Epoch:181/200.. Train Loss: 0.037.. Val Loss: 0.125.. Test Loss: 0.104.. Time: 0.03m\n"
     ]
    },
    {
     "name": "stderr",
     "output_type": "stream",
     "text": [
      "100%|██████████| 107/107 [00:01<00:00, 71.04it/s]\n",
      "100%|██████████| 36/36 [00:00<00:00, 384.73it/s]\n",
      "100%|██████████| 36/36 [00:00<00:00, 375.08it/s]\n"
     ]
    },
    {
     "name": "stdout",
     "output_type": "stream",
     "text": [
      "[***] end training ...\n",
      "Epoch:182/200.. Train Loss: 0.037.. Val Loss: 0.125.. Test Loss: 0.102.. Time: 0.03m\n"
     ]
    },
    {
     "name": "stderr",
     "output_type": "stream",
     "text": [
      "100%|██████████| 107/107 [00:01<00:00, 71.46it/s]\n",
      "100%|██████████| 36/36 [00:00<00:00, 392.74it/s]\n",
      "100%|██████████| 36/36 [00:00<00:00, 392.14it/s]\n"
     ]
    },
    {
     "name": "stdout",
     "output_type": "stream",
     "text": [
      "[***] end training ...\n",
      "Epoch:183/200.. Train Loss: 0.038.. Val Loss: 0.123.. Test Loss: 0.104.. Time: 0.03m\n"
     ]
    },
    {
     "name": "stderr",
     "output_type": "stream",
     "text": [
      "100%|██████████| 107/107 [00:01<00:00, 68.97it/s]\n",
      "100%|██████████| 36/36 [00:00<00:00, 389.58it/s]\n",
      "100%|██████████| 36/36 [00:00<00:00, 386.04it/s]\n"
     ]
    },
    {
     "name": "stdout",
     "output_type": "stream",
     "text": [
      "[***] end training ...\n",
      "Epoch:184/200.. Train Loss: 0.034.. Val Loss: 0.125.. Test Loss: 0.103.. Time: 0.03m\n"
     ]
    },
    {
     "name": "stderr",
     "output_type": "stream",
     "text": [
      "100%|██████████| 107/107 [00:01<00:00, 74.82it/s]\n",
      "100%|██████████| 36/36 [00:00<00:00, 356.08it/s]\n",
      "100%|██████████| 36/36 [00:00<00:00, 388.84it/s]\n"
     ]
    },
    {
     "name": "stdout",
     "output_type": "stream",
     "text": [
      "[***] end training ...\n",
      "Epoch:185/200.. Train Loss: 0.046.. Val Loss: 0.125.. Test Loss: 0.102.. Time: 0.03m\n"
     ]
    },
    {
     "name": "stderr",
     "output_type": "stream",
     "text": [
      "100%|██████████| 107/107 [00:01<00:00, 70.36it/s]\n",
      "100%|██████████| 36/36 [00:00<00:00, 387.51it/s]\n",
      "100%|██████████| 36/36 [00:00<00:00, 374.36it/s]\n"
     ]
    },
    {
     "name": "stdout",
     "output_type": "stream",
     "text": [
      "[***] end training ...\n",
      "Epoch:186/200.. Train Loss: 0.040.. Val Loss: 0.129.. Test Loss: 0.109.. Time: 0.03m\n"
     ]
    },
    {
     "name": "stderr",
     "output_type": "stream",
     "text": [
      "100%|██████████| 107/107 [00:01<00:00, 74.01it/s]\n",
      "100%|██████████| 36/36 [00:00<00:00, 390.61it/s]\n",
      "100%|██████████| 36/36 [00:00<00:00, 363.69it/s]\n"
     ]
    },
    {
     "name": "stdout",
     "output_type": "stream",
     "text": [
      "[***] end training ...\n",
      "Epoch:187/200.. Train Loss: 0.036.. Val Loss: 0.125.. Test Loss: 0.112.. Time: 0.03m\n"
     ]
    },
    {
     "name": "stderr",
     "output_type": "stream",
     "text": [
      "100%|██████████| 107/107 [00:01<00:00, 72.50it/s]\n",
      "100%|██████████| 36/36 [00:00<00:00, 387.53it/s]\n",
      "100%|██████████| 36/36 [00:00<00:00, 369.44it/s]\n"
     ]
    },
    {
     "name": "stdout",
     "output_type": "stream",
     "text": [
      "[***] end training ...\n",
      "Epoch:188/200.. Train Loss: 0.038.. Val Loss: 0.125.. Test Loss: 0.102.. Time: 0.03m\n"
     ]
    },
    {
     "name": "stderr",
     "output_type": "stream",
     "text": [
      "100%|██████████| 107/107 [00:01<00:00, 71.99it/s]\n",
      "100%|██████████| 36/36 [00:00<00:00, 383.88it/s]\n",
      "100%|██████████| 36/36 [00:00<00:00, 384.12it/s]\n"
     ]
    },
    {
     "name": "stdout",
     "output_type": "stream",
     "text": [
      "[***] end training ...\n",
      "Epoch:189/200.. Train Loss: 0.037.. Val Loss: 0.126.. Test Loss: 0.101.. Time: 0.03m\n"
     ]
    },
    {
     "name": "stderr",
     "output_type": "stream",
     "text": [
      "100%|██████████| 107/107 [00:01<00:00, 70.04it/s]\n",
      "100%|██████████| 36/36 [00:00<00:00, 383.66it/s]\n",
      "100%|██████████| 36/36 [00:00<00:00, 376.04it/s]\n"
     ]
    },
    {
     "name": "stdout",
     "output_type": "stream",
     "text": [
      "[***] end training ...\n",
      "Epoch:190/200.. Train Loss: 0.033.. Val Loss: 0.126.. Test Loss: 0.101.. Time: 0.03m\n"
     ]
    },
    {
     "name": "stderr",
     "output_type": "stream",
     "text": [
      "100%|██████████| 107/107 [00:01<00:00, 71.18it/s]\n",
      "100%|██████████| 36/36 [00:00<00:00, 389.32it/s]\n",
      "100%|██████████| 36/36 [00:00<00:00, 394.14it/s]\n"
     ]
    },
    {
     "name": "stdout",
     "output_type": "stream",
     "text": [
      "[***] end training ...\n",
      "Epoch:191/200.. Train Loss: 0.038.. Val Loss: 0.126.. Test Loss: 0.109.. Time: 0.03m\n"
     ]
    },
    {
     "name": "stderr",
     "output_type": "stream",
     "text": [
      "100%|██████████| 107/107 [00:01<00:00, 71.86it/s]\n",
      "100%|██████████| 36/36 [00:00<00:00, 381.22it/s]\n",
      "100%|██████████| 36/36 [00:00<00:00, 376.09it/s]\n"
     ]
    },
    {
     "name": "stdout",
     "output_type": "stream",
     "text": [
      "[***] end training ...\n",
      "Epoch:192/200.. Train Loss: 0.040.. Val Loss: 0.126.. Test Loss: 0.110.. Time: 0.03m\n"
     ]
    },
    {
     "name": "stderr",
     "output_type": "stream",
     "text": [
      "100%|██████████| 107/107 [00:01<00:00, 69.29it/s]\n",
      "100%|██████████| 36/36 [00:00<00:00, 395.93it/s]\n",
      "100%|██████████| 36/36 [00:00<00:00, 396.81it/s]\n"
     ]
    },
    {
     "name": "stdout",
     "output_type": "stream",
     "text": [
      "[***] end training ...\n",
      "Epoch:193/200.. Train Loss: 0.040.. Val Loss: 0.128.. Test Loss: 0.102.. Time: 0.03m\n"
     ]
    },
    {
     "name": "stderr",
     "output_type": "stream",
     "text": [
      "100%|██████████| 107/107 [00:01<00:00, 74.98it/s]\n",
      "100%|██████████| 36/36 [00:00<00:00, 394.33it/s]\n",
      "100%|██████████| 36/36 [00:00<00:00, 393.87it/s]\n"
     ]
    },
    {
     "name": "stdout",
     "output_type": "stream",
     "text": [
      "[***] end training ...\n",
      "Epoch:194/200.. Train Loss: 0.041.. Val Loss: 0.131.. Test Loss: 0.102.. Time: 0.03m\n"
     ]
    },
    {
     "name": "stderr",
     "output_type": "stream",
     "text": [
      "100%|██████████| 107/107 [00:01<00:00, 69.60it/s]\n",
      "100%|██████████| 36/36 [00:00<00:00, 368.25it/s]\n",
      "100%|██████████| 36/36 [00:00<00:00, 380.48it/s]\n"
     ]
    },
    {
     "name": "stdout",
     "output_type": "stream",
     "text": [
      "[***] end training ...\n",
      "Epoch:195/200.. Train Loss: 0.037.. Val Loss: 0.126.. Test Loss: 0.102.. Time: 0.03m\n"
     ]
    },
    {
     "name": "stderr",
     "output_type": "stream",
     "text": [
      "100%|██████████| 107/107 [00:01<00:00, 73.65it/s]\n",
      "100%|██████████| 36/36 [00:00<00:00, 390.69it/s]\n",
      "100%|██████████| 36/36 [00:00<00:00, 393.40it/s]\n"
     ]
    },
    {
     "name": "stdout",
     "output_type": "stream",
     "text": [
      "[***] end training ...\n",
      "Epoch:196/200.. Train Loss: 0.037.. Val Loss: 0.126.. Test Loss: 0.102.. Time: 0.03m\n"
     ]
    },
    {
     "name": "stderr",
     "output_type": "stream",
     "text": [
      "100%|██████████| 107/107 [00:01<00:00, 69.92it/s]\n",
      "100%|██████████| 36/36 [00:00<00:00, 385.66it/s]\n",
      "100%|██████████| 36/36 [00:00<00:00, 384.86it/s]\n"
     ]
    },
    {
     "name": "stdout",
     "output_type": "stream",
     "text": [
      "[***] end training ...\n",
      "Epoch:197/200.. Train Loss: 0.036.. Val Loss: 0.126.. Test Loss: 0.102.. Time: 0.03m\n"
     ]
    },
    {
     "name": "stderr",
     "output_type": "stream",
     "text": [
      "100%|██████████| 107/107 [00:01<00:00, 72.67it/s]\n",
      "100%|██████████| 36/36 [00:00<00:00, 353.03it/s]\n",
      "100%|██████████| 36/36 [00:00<00:00, 387.94it/s]\n"
     ]
    },
    {
     "name": "stdout",
     "output_type": "stream",
     "text": [
      "[***] end training ...\n",
      "Epoch:198/200.. Train Loss: 0.036.. Val Loss: 0.126.. Test Loss: 0.102.. Time: 0.03m\n"
     ]
    },
    {
     "name": "stderr",
     "output_type": "stream",
     "text": [
      "100%|██████████| 107/107 [00:01<00:00, 70.39it/s]\n",
      "100%|██████████| 36/36 [00:00<00:00, 381.84it/s]\n",
      "100%|██████████| 36/36 [00:00<00:00, 374.30it/s]\n"
     ]
    },
    {
     "name": "stdout",
     "output_type": "stream",
     "text": [
      "[***] end training ...\n",
      "Epoch:199/200.. Train Loss: 0.034.. Val Loss: 0.132.. Test Loss: 0.102.. Time: 0.03m\n"
     ]
    },
    {
     "name": "stderr",
     "output_type": "stream",
     "text": [
      "100%|██████████| 107/107 [00:01<00:00, 73.10it/s]\n",
      "100%|██████████| 36/36 [00:00<00:00, 395.64it/s]\n",
      "100%|██████████| 36/36 [00:00<00:00, 388.63it/s]\n"
     ]
    },
    {
     "name": "stdout",
     "output_type": "stream",
     "text": [
      "[***] end training ...\n",
      "Epoch:200/200.. Train Loss: 0.038.. Val Loss: 0.126.. Test Loss: 0.107.. Time: 0.03m\n",
      "Total time: 5.99 m\n"
     ]
    }
   ],
   "source": [
    "training.fit(model, train_loader, validation_loader, test_loader)\n",
    "best_model = training.get_best_model()"
   ]
  },
  {
   "cell_type": "code",
   "execution_count": 12,
   "metadata": {
    "tags": []
   },
   "outputs": [
    {
     "data": {
      "text/plain": [
       "<matplotlib.legend.Legend at 0x2b53bc599c10>"
      ]
     },
     "execution_count": 12,
     "metadata": {},
     "output_type": "execute_result"
    },
    {
     "data": {
      "image/png": "[encoded data removed]",
      "text/plain": [
       "<Figure size 640x480 with 1 Axes>"
      ]
     },
     "metadata": {},
     "output_type": "display_data"
    }
   ],
   "source": [
    "fig, ax = plt.subplots()\n",
    "\n",
    "ax.plot(training.results['Train'], label='Train')\n",
    "ax.plot(training.results['Validation'], label='Validation')\n",
    "ax.plot(training.results['Test'], label='Test')\n",
    "ax.legend()"
   ]
  },
  {
   "cell_type": "markdown",
   "metadata": {},
   "source": [
    "## Evaluation and plotting classes"
   ]
  },
  {
   "cell_type": "code",
   "execution_count": 13,
   "metadata": {
    "tags": []
   },
   "outputs": [],
   "source": [
    "class OSAEvaluator:\n",
    "    \n",
    "    def evaluate_OSA(self, dataset, model):\n",
    "        \n",
    "        torch.cuda.empty_cache()\n",
    "        Y_real = []\n",
    "        Y_pred = []\n",
    "        for i, data in enumerate(tqdm(dataset)):\n",
    "            src, tgt, y_real = data\n",
    "            src, tgt, y_real = src.to(device), tgt.to(device), y_real.to(device)\n",
    "            y_pred = model(src, tgt)\n",
    "            Y_real.append(y_real.reshape(1,-1))\n",
    "            Y_pred.append(y_pred)\n",
    "        \n",
    "        Y_real = torch.vstack(Y_real).cpu()\n",
    "        Y_pred = torch.vstack(Y_pred).cpu().detach()\n",
    "        print('********** OSA Evaluation summary **********')\n",
    "        print(f'OSA MSE: {mean_squared_error(Y_real, Y_pred)}')\n",
    "        print(f'OSA RMSE: {np.sqrt(mean_squared_error(Y_real, Y_pred))}')\n",
    "        print(f'OSA R2 score: {r2_score(Y_real, Y_pred)}')\n",
    "        print('********************************************')\n",
    "        return Y_real, Y_pred\n",
    "            \n",
    "class FSEvaluator:\n",
    "    \n",
    "    def evaluate_FS(self, dataset, model):\n",
    "        \n",
    "        torch.cuda.empty_cache()\n",
    "        Y_real = []\n",
    "        Y_pred = []\n",
    "        tgt_sim = None\n",
    "        for i, data in enumerate(tqdm(dataset)):\n",
    "            src, tgt, y_real = data\n",
    "            src, tgt, y_real = src.to(device), tgt.to(device), y_real.to(device)\n",
    "            if tgt_sim is None:\n",
    "                tgt_sim = tgt\n",
    "            else:\n",
    "                tgt_sim[:-1,:] = tgt_sim[1:,:]\n",
    "                tgt_sim[-1,:] = y_pred\n",
    "            y_pred = model(src, tgt_sim)\n",
    "            Y_real.append(y_real.reshape(1,-1))\n",
    "            Y_pred.append(y_pred)\n",
    "        \n",
    "        Y_real = torch.vstack(Y_real).cpu()\n",
    "        Y_pred = torch.vstack(Y_pred).cpu().detach()\n",
    "        print('*********** FS Evaluation summary **********')\n",
    "        print(f'FS MSE: {mean_squared_error(Y_real, Y_pred)}')\n",
    "        print(f'FS RMSE: {np.sqrt(mean_squared_error(Y_real, Y_pred))}')\n",
    "        print(f'FS R2 score: {r2_score(Y_real, Y_pred)}')\n",
    "        print('********************************************')\n",
    "        return Y_real, Y_pred\n",
    "    \n",
    "class Evaluator(OSAEvaluator, FSEvaluator):\n",
    "    \n",
    "    pass\n",
    "        "
   ]
  },
  {
   "cell_type": "code",
   "execution_count": 14,
   "metadata": {
    "tags": []
   },
   "outputs": [
    {
     "name": "stderr",
     "output_type": "stream",
     "text": [
      "100%|██████████| 707/707 [00:02<00:00, 259.09it/s]\n"
     ]
    },
    {
     "name": "stdout",
     "output_type": "stream",
     "text": [
      "********** OSA Evaluation summary **********\n",
      "OSA MSE: 0.06526333093643188\n",
      "OSA RMSE: 0.25546687841415405\n",
      "OSA R2 score: 0.8050172255695056\n",
      "********************************************\n"
     ]
    },
    {
     "name": "stderr",
     "output_type": "stream",
     "text": [
      "100%|██████████| 707/707 [00:02<00:00, 297.29it/s]"
     ]
    },
    {
     "name": "stdout",
     "output_type": "stream",
     "text": [
      "*********** FS Evaluation summary **********\n",
      "FS MSE: 0.23932082951068878\n",
      "FS RMSE: 0.4892042875289917\n",
      "FS R2 score: 0.2849976510164903\n",
      "********************************************\n"
     ]
    },
    {
     "name": "stderr",
     "output_type": "stream",
     "text": [
      "\n"
     ]
    }
   ],
   "source": [
    "evaluator = Evaluator()\n",
    "Y_real, Y_pred_OSA = evaluator.evaluate_OSA(dataset, model)\n",
    "Y_real, Y_pred_FS = evaluator.evaluate_FS(dataset, model)"
   ]
  },
  {
   "cell_type": "code",
   "execution_count": 15,
   "metadata": {
    "tags": []
   },
   "outputs": [
    {
     "data": {
      "text/plain": [
       "<matplotlib.legend.Legend at 0x2b53bc5e5640>"
      ]
     },
     "execution_count": 15,
     "metadata": {},
     "output_type": "execute_result"
    },
    {
     "data": {
      "image/png": "[encoded data removed]",
      "text/plain": [
       "<Figure size 640x480 with 1 Axes>"
      ]
     },
     "metadata": {},
     "output_type": "display_data"
    }
   ],
   "source": [
    "fig, ax = plt.subplots()\n",
    "ax.plot(Y_real, label='Real')\n",
    "ax.plot(Y_pred_OSA, label='OSA')\n",
    "ax.plot(Y_pred_FS, label='FS')\n",
    "ax.legend()"
   ]
  },
  {
   "cell_type": "code",
   "execution_count": 16,
   "metadata": {},
   "outputs": [
    {
     "name": "stderr",
     "output_type": "stream",
     "text": [
      "100%|██████████| 707/707 [00:02<00:00, 265.65it/s]\n"
     ]
    },
    {
     "name": "stdout",
     "output_type": "stream",
     "text": [
      "********** OSA Evaluation summary **********\n",
      "OSA MSE: 0.0671984851360321\n",
      "OSA RMSE: 0.2592267096042633\n",
      "OSA R2 score: 0.7992357162013579\n",
      "********************************************\n"
     ]
    },
    {
     "name": "stderr",
     "output_type": "stream",
     "text": [
      "100%|██████████| 707/707 [00:02<00:00, 297.24it/s]"
     ]
    },
    {
     "name": "stdout",
     "output_type": "stream",
     "text": [
      "*********** FS Evaluation summary **********\n",
      "FS MSE: 0.38415148854255676\n",
      "FS RMSE: 0.6197995543479919\n",
      "FS R2 score: -0.14770303987965883\n",
      "********************************************\n"
     ]
    },
    {
     "name": "stderr",
     "output_type": "stream",
     "text": [
      "\n"
     ]
    }
   ],
   "source": [
    "evaluator = Evaluator()\n",
    "Y_real, Y_pred_OSA = evaluator.evaluate_OSA(dataset, best_model)\n",
    "Y_real, Y_pred_FS = evaluator.evaluate_FS(dataset, best_model)"
   ]
  },
  {
   "cell_type": "code",
   "execution_count": 17,
   "metadata": {
    "tags": []
   },
   "outputs": [
    {
     "data": {
      "text/plain": [
       "<matplotlib.legend.Legend at 0x2b53bc81d430>"
      ]
     },
     "execution_count": 17,
     "metadata": {},
     "output_type": "execute_result"
    },
    {
     "data": {
      "image/png": "[encoded data removed]",
      "text/plain": [
       "<Figure size 640x480 with 1 Axes>"
      ]
     },
     "metadata": {},
     "output_type": "display_data"
    }
   ],
   "source": [
    "fig, ax = plt.subplots()\n",
    "ax.plot(Y_real, label='Real')\n",
    "ax.plot(Y_pred_OSA, label='OSA')\n",
    "ax.plot(Y_pred_FS, label='FS')\n",
    "ax.legend()"
   ]
  }
 ],
 "metadata": {
  "kernelspec": {
   "display_name": "raul_dl",
   "language": "python",
   "name": "raul_dl"
  },
  "language_info": {
   "codemirror_mode": {
    "name": "ipython",
    "version": 3
   },
   "file_extension": ".py",
   "mimetype": "text/x-python",
   "name": "python",
   "nbconvert_exporter": "python",
   "pygments_lexer": "ipython3",
   "version": "3.9.13"
  }
 },
 "nbformat": 4,
 "nbformat_minor": 4
}
