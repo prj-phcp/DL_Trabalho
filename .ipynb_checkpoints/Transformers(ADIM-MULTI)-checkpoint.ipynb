{
 "cells": [
  {
   "cell_type": "code",
   "execution_count": 10,
   "metadata": {
    "tags": []
   },
   "outputs": [
    {
     "name": "stdout",
     "output_type": "stream",
     "text": [
      "Sun Jun 11 10:11:39 2023       \n",
      "+-----------------------------------------------------------------------------+\n",
      "| NVIDIA-SMI 515.43.04    Driver Version: 515.43.04    CUDA Version: 11.7     |\n",
      "|-------------------------------+----------------------+----------------------+\n",
      "| GPU  Name        Persistence-M| Bus-Id        Disp.A | Volatile Uncorr. ECC |\n",
      "| Fan  Temp  Perf  Pwr:Usage/Cap|         Memory-Usage | GPU-Util  Compute M. |\n",
      "|                               |                      |               MIG M. |\n",
      "|===============================+======================+======================|\n",
      "|   0  Tesla V100-SXM2...  Off  | 00000000:15:00.0 Off |                    0 |\n",
      "| N/A   28C    P0    53W / 300W |    924MiB / 32768MiB |     15%      Default |\n",
      "|                               |                      |                  N/A |\n",
      "+-------------------------------+----------------------+----------------------+\n",
      "                                                                               \n",
      "+-----------------------------------------------------------------------------+\n",
      "| Processes:                                                                  |\n",
      "|  GPU   GI   CI        PID   Type   Process name                  GPU Memory |\n",
      "|        ID   ID                                                   Usage      |\n",
      "|=============================================================================|\n",
      "|    0   N/A  N/A     27247      C   .../venvs/dl_raul/bin/python      921MiB |\n",
      "+-----------------------------------------------------------------------------+\n"
     ]
    }
   ],
   "source": [
    "import math\n",
    "import json\n",
    "import time\n",
    "import numpy as np\n",
    "import pandas as pd\n",
    "import matplotlib.pyplot as plt\n",
    "from tqdm import tqdm\n",
    "\n",
    "import torch\n",
    "import torch.nn as nn\n",
    "import torch.optim as optim\n",
    "from torch.utils.data import Dataset\n",
    "from torch.utils.data.sampler import SubsetRandomSampler\n",
    "\n",
    "from sklearn.preprocessing import MinMaxScaler, RobustScaler\n",
    "from sklearn.model_selection import train_test_split\n",
    "from sklearn.metrics import mean_squared_error, r2_score\n",
    "\n",
    "!nvidia-smi"
   ]
  },
  {
   "cell_type": "code",
   "execution_count": 11,
   "metadata": {
    "tags": []
   },
   "outputs": [
    {
     "name": "stdout",
     "output_type": "stream",
     "text": [
      "cuda:0\n"
     ]
    }
   ],
   "source": [
    "# Dispositivo onde tensores serão criados, armazenados e processados\n",
    "device = torch.device(\"cuda:0\" if torch.cuda.is_available() else \"cpu\")\n",
    "print(device)\n",
    "# Randon Seed fixa para resultados reprodutíveis\n",
    "seed = 42\n",
    "torch.manual_seed(seed)\n",
    "torch.cuda.manual_seed(seed)\n",
    "np.random.seed(seed)"
   ]
  },
  {
   "cell_type": "markdown",
   "metadata": {},
   "source": [
    "## Data Loader"
   ]
  },
  {
   "cell_type": "code",
   "execution_count": 12,
   "metadata": {
    "tags": []
   },
   "outputs": [],
   "source": [
    "class WellLoader(Dataset):\n",
    "    \n",
    "    def __init__(self, \n",
    "                 path, \n",
    "                 wells, \n",
    "                 var_in, \n",
    "                 var_out,\n",
    "                 normalizing_percentile=90.0,\n",
    "                 normalizing_split=0.2,\n",
    "                 normalizer=RobustScaler,\n",
    "                 max_sequence=16, \n",
    "                 step=1):\n",
    "        \n",
    "        self.path = path\n",
    "        with open(self.path + '/metadata.json', 'r') as metafile:\n",
    "            self.metadata = json.loads(metafile.read())\n",
    "        self.wells = wells\n",
    "        self.var_in = var_in\n",
    "        self.var_out = var_out\n",
    "        self.normalizing_percentile=normalizing_percentile\n",
    "        self.normalizing_split = normalizing_split\n",
    "        self.normalizer = normalizer\n",
    "        self.max_sequence = max_sequence\n",
    "        self.step = step\n",
    "        self.batches_X = None\n",
    "        self.batches_Y = None\n",
    "        self.outputs = None\n",
    "        self.normalizers = []\n",
    "        \n",
    "        indexes = self.get_wells_index(self.wells)\n",
    "        self.load_data_by_index(indexes)\n",
    "        \n",
    "    def get_wells_index(self, wells):\n",
    "        \n",
    "        indexes = []\n",
    "        for well, filt in wells:\n",
    "            indexes.extend([(meta['INDEX'], filt) for meta in self.metadata if meta['WELL'] == well])\n",
    "        return indexes\n",
    "    \n",
    "    def load_data_by_index(self, indexes):\n",
    "        \n",
    "        batches_X = []\n",
    "        batches_Y = []\n",
    "        outputs = []\n",
    "        for index, filt in indexes:\n",
    "            data = pd.read_json(f'{self.path}/{index}.json')#.reset_index()\n",
    "            # Armengue: Por liq vol para preencher o dataset\n",
    "            data['BORE_LIQ_VOL'] = data['BORE_OIL_VOL'] + data['BORE_WAT_VOL']\n",
    "            data = data[self.var_in + self.var_out].dropna().reset_index(drop=True)\n",
    "            X = data[self.var_in].values[filt,:]\n",
    "            Y = data[self.var_out].values[filt,:]\n",
    "            X_base, _, Y_base, _ = train_test_split(X, Y, test_size = self.normalizing_split)\n",
    "            #scaler_X = X_base.max(axis=0, keepdims=True)\n",
    "            #scaler_Y = Y_base.max(axis=0, keepdims=True)\n",
    "            #scaler_X = self.normalizer().fit(X_base)\n",
    "            #scaler_Y = self.normalizer().fit(Y_base)\n",
    "            scaler_X = np.percentile(X_base,self.normalizing_percentile,axis=0,keepdims=True)\n",
    "            scaler_Y = np.percentile(Y_base,self.normalizing_percentile,axis=0,keepdims=True)\n",
    "            self.normalizers.append((scaler_X, scaler_Y))\n",
    "            #X, Y = scaler_X.transform(X), scaler_Y.transform(Y)\n",
    "            X, Y = X / scaler_X, Y / scaler_Y\n",
    "            X, Y = torch.from_numpy(X.astype('float32')), torch.from_numpy(Y.astype('float32'))\n",
    "            output = Y[self.max_sequence::self.step]\n",
    "            #print(Y.shape)\n",
    "            #X = torch.split(X, self.max_sequence, dim= 0)\n",
    "            #Y = torch.split(Y, self.max_sequence, dim= 0)\n",
    "            X = X.unfold(0,self.max_sequence, self.step)\n",
    "            Y = Y.unfold(0,self.max_sequence, self.step)\n",
    "            batches_X.append(X)\n",
    "            batches_Y.append(Y)\n",
    "            outputs.append(output)\n",
    "            #print(X.shape)\n",
    "        self.batches_X = torch.concat(batches_X, axis=0)\n",
    "        self.batches_Y = torch.concat(batches_Y, axis=0)\n",
    "        self.outputs = torch.concat(outputs, axis=0)\n",
    "            \n",
    "    def __len__(self):\n",
    "        \n",
    "        return self.outputs.shape[0]\n",
    "    \n",
    "    def __getitem__(self, idx):\n",
    "                        \n",
    "        srcs = self.batches_X[idx,:,:]\n",
    "        trgts = self.batches_Y[idx,:,:]\n",
    "        output = self.outputs[idx,:]\n",
    "        \n",
    "        return srcs, trgts, output\n",
    "        \n",
    "        "
   ]
  },
  {
   "cell_type": "code",
   "execution_count": 13,
   "metadata": {},
   "outputs": [
    {
     "name": "stdout",
     "output_type": "stream",
     "text": [
      "Total data for training :5424\n"
     ]
    }
   ],
   "source": [
    "path = './dataset/volve'\n",
    "wells = [\n",
    "    ('15/9-F-11', slice(15, None)),\n",
    "    ('15/9-F-12', slice(None, 800)),\n",
    "    ('15/9-F-14', slice(200, None)),\n",
    "    ('15/9-F-15 D', slice(10, 900)),\n",
    "    #('15/9-F-5', slice(None, None)),\n",
    "][::-1]\n",
    "\n",
    "#wells = [\n",
    "#    ('15/9-F-11', slice(15, 600)),\n",
    "#    ('15/9-F-12', slice(None, 800)),\n",
    "#    ('15/9-F-14', slice(1900, None)),\n",
    "#    ('15/9-F-15 D', slice(10, 900)),\n",
    "#    #('15/9-F-5', slice(None, None)),\n",
    "#][::-1]\n",
    "\n",
    "var_in = [\n",
    "        'AVG_DOWNHOLE_PRESSURE',\n",
    "        'AVG_WHP_P',\n",
    "        'AVG_CHOKE_SIZE_P',\n",
    "        'AVG_WHT_P',\n",
    "        'AVG_DOWNHOLE_TEMPERATURE',\n",
    "]\n",
    "\n",
    "var_out = [\n",
    "        #'BORE_OIL_VOL',\n",
    "        'BORE_LIQ_VOL',\n",
    "        #'BORE_GAS_VOL',\n",
    "        #'BORE_WAT_VOL',\n",
    "]\n",
    "\n",
    "\n",
    "dataset = WellLoader(path, wells, var_in, var_out, max_sequence = 16)\n",
    "print(f'Total data for training :{len(dataset)}')"
   ]
  },
  {
   "cell_type": "code",
   "execution_count": 14,
   "metadata": {
    "tags": []
   },
   "outputs": [
    {
     "name": "stdout",
     "output_type": "stream",
     "text": [
      "Total data for testing :699\n"
     ]
    }
   ],
   "source": [
    "path = './dataset/volve'\n",
    "wells = [\n",
    "    ('15/9-F-1 C', slice(28, None)),\n",
    "]\n",
    "\n",
    "var_in = [\n",
    "        'AVG_DOWNHOLE_PRESSURE',\n",
    "        'AVG_WHP_P',\n",
    "        'AVG_CHOKE_SIZE_P',\n",
    "        'AVG_WHT_P',\n",
    "        'AVG_DOWNHOLE_TEMPERATURE',\n",
    "]\n",
    "\n",
    "var_out = [\n",
    "        #'BORE_OIL_VOL',\n",
    "        'BORE_LIQ_VOL',\n",
    "        #'BORE_GAS_VOL',\n",
    "        #'BORE_WAT_VOL',\n",
    "]\n",
    "\n",
    "\n",
    "test_dataset = WellLoader(path, wells, var_in, var_out, max_sequence = 16)\n",
    "print(f'Total data for testing :{len(test_dataset)}')"
   ]
  },
  {
   "cell_type": "code",
   "execution_count": 15,
   "metadata": {
    "tags": []
   },
   "outputs": [],
   "source": [
    "class SubsetSplitter:\n",
    "    \n",
    "    def __init__(self, batch_size, validation_split, test_split, shuffle=False):\n",
    "        \n",
    "        self.batch_size = batch_size\n",
    "        self.validation_split = validation_split\n",
    "        self.test_split = test_split\n",
    "        self.shuffle = shuffle\n",
    "        \n",
    "    def __call__(self, dataset:Dataset):\n",
    "        \n",
    "        dataset_size = len(dataset)\n",
    "        indices = list(range(dataset_size))\n",
    "        validation_split = int(np.floor(self.validation_split * dataset_size))\n",
    "        test_split = int(np.floor(self.test_split * dataset_size))\n",
    "        train_split = dataset_size - validation_split - test_split\n",
    "        # Extracting test independently of others\n",
    "        test_indices = indices[train_split + validation_split:]\n",
    "        indices = indices[:train_split + validation_split]\n",
    "        if self.shuffle :\n",
    "            np.random.shuffle(indices)\n",
    "        train_indices = indices[:train_split]\n",
    "        validation_indices = indices[train_split:]\n",
    "\n",
    "        # Creating PT data samplers and loaders:\n",
    "        train_sampler = SubsetRandomSampler(train_indices)\n",
    "        valid_sampler = SubsetRandomSampler(validation_indices)\n",
    "        test_sampler = SubsetRandomSampler(test_indices)\n",
    "\n",
    "        train_loader = torch.utils.data.DataLoader(dataset, batch_size=self.batch_size, \n",
    "                                                   sampler=train_sampler)\n",
    "        validation_loader = torch.utils.data.DataLoader(dataset, batch_size=self.batch_size,\n",
    "                                                    sampler=valid_sampler)\n",
    "        test_loader = torch.utils.data.DataLoader(dataset, batch_size=self.batch_size,\n",
    "                                                    sampler=test_sampler)\n",
    "        \n",
    "        return train_loader, validation_loader, test_loader"
   ]
  },
  {
   "cell_type": "code",
   "execution_count": 16,
   "metadata": {
    "tags": []
   },
   "outputs": [],
   "source": [
    "splitter = SubsetSplitter(16, 0.25, 0.05)\n",
    "train_loader, validation_loader, test_loader = splitter(dataset)"
   ]
  },
  {
   "cell_type": "markdown",
   "metadata": {},
   "source": [
    "## Model definition"
   ]
  },
  {
   "cell_type": "code",
   "execution_count": 17,
   "metadata": {},
   "outputs": [
    {
     "data": {
      "text/plain": [
       "tensor([[[0.0000, 0.0000, 0.0000, 1.4286, 0.0000, 1.4286, 0.0000, 1.4286,\n",
       "          0.0000, 0.0000],\n",
       "         [0.0000, 0.0000, 0.0000, 0.0000, 0.0000, 1.4286, 0.0000, 0.0000,\n",
       "          0.0000, 1.4286]]])"
      ]
     },
     "execution_count": 17,
     "metadata": {},
     "output_type": "execute_result"
    }
   ],
   "source": [
    "class PositionalEncoding(nn.Module):\n",
    "    def __init__(self, dim_model, dropout_p, max_len):\n",
    "        super().__init__()\n",
    "        # Modified version from: https://pytorch.org/tutorials/beginner/transformer_tutorial.html\n",
    "        # max_len determines how far the position can have an effect on a token (window)\n",
    "        \n",
    "        # Info\n",
    "        self.dropout = nn.Dropout(dropout_p)\n",
    "        \n",
    "        # Encoding - From formula\n",
    "        pos_encoding = torch.zeros(max_len, dim_model)\n",
    "        positions_list = torch.arange(0, max_len, dtype=torch.float).view(-1, 1) # 0, 1, 2, 3, 4, 5\n",
    "        division_term = torch.exp(torch.arange(0, dim_model, 2).float() * (-math.log(10000.0)) / dim_model) # 1000^(2i/dim_model)\n",
    "        \n",
    "        # PE(pos, 2i) = sin(pos/1000^(2i/dim_model))\n",
    "        pos_encoding[:, 0::2] = torch.sin(positions_list * division_term)\n",
    "        \n",
    "        # PE(pos, 2i + 1) = cos(pos/1000^(2i/dim_model))\n",
    "        pos_encoding[:, 1::2] = torch.cos(positions_list * division_term)\n",
    "        \n",
    "        # Saving buffer (same as parameter without gradients needed)\n",
    "        pos_encoding = pos_encoding.unsqueeze(0).transpose(0, 1)\n",
    "        self.register_buffer(\"pos_encoding\",pos_encoding)\n",
    "        \n",
    "    def forward(self, token_embedding: torch.tensor) -> torch.tensor:\n",
    "        # Residual connection + pos encoding\n",
    "        return self.dropout(token_embedding + self.pos_encoding[:token_embedding.size(0), :])\n",
    "    \n",
    "    \n",
    "positional_encoding = PositionalEncoding(dim_model = 10, dropout_p=0.3, max_len=1200)\n",
    "tensor = torch.zeros((1,2,10))\n",
    "tensor\n",
    "encoded = positional_encoding(tensor)\n",
    "encoded"
   ]
  },
  {
   "cell_type": "code",
   "execution_count": 18,
   "metadata": {},
   "outputs": [],
   "source": [
    "class Transformer(nn.Module):\n",
    "    \"\"\"\n",
    "    Model from \"A detailed guide to Pytorch's nn.Transformer() module.\", by\n",
    "    Daniel Melchor: https://medium.com/@danielmelchor/a-detailed-guide-to-pytorchs-nn-transformer-module-c80afbc9ffb1\n",
    "    \"\"\"\n",
    "    # Constructor\n",
    "    def __init__(\n",
    "        self,\n",
    "        num_outputs,\n",
    "        dim_model,\n",
    "        num_heads,\n",
    "        num_encoder_layers,\n",
    "        num_decoder_layers,\n",
    "        dropout_p,\n",
    "        dim_feedforward =2048,\n",
    "        num_linear_layers=0,\n",
    "        norm_first=False\n",
    "    ):\n",
    "        super().__init__()\n",
    "\n",
    "        # INFO\n",
    "        self.model_type = \"Transformer\"\n",
    "        self.dim_model = dim_model\n",
    "\n",
    "        # LAYERS\n",
    "        self.positional_encoder = PositionalEncoding(\n",
    "            dim_model=dim_model, dropout_p=dropout_p, max_len=5000\n",
    "        )\n",
    "        #self.embedding = nn.Embedding(num_outputs, dim_model)\n",
    "        self.transformer = nn.Transformer(\n",
    "            d_model=dim_model,\n",
    "            nhead=num_heads,\n",
    "            num_encoder_layers=num_encoder_layers,\n",
    "            num_decoder_layers=num_decoder_layers,\n",
    "            dropout=dropout_p, \n",
    "            batch_first=True,\n",
    "            norm_first = norm_first,\n",
    "            dim_feedforward =dim_feedforward \n",
    "        )\n",
    "        self.linear_layers = nn.ModuleList()\n",
    "        for i in range(num_linear_layers):\n",
    "            self.linear_layers.append(nn.Linear(dim_model, dim_model))\n",
    "            self.linear_layers.append(nn.ReLU6())\n",
    "        self.out = nn.Linear(dim_model, num_outputs)\n",
    "        #self.bias_layer = nn.Linear(dim_model, dim_model)\n",
    "        \n",
    "    def forward(self, src, tgt, tgt_mask=None, src_pad_mask=None, tgt_pad_mask=None):\n",
    "        # Src size must be (batch_size, src sequence length)\n",
    "        # Tgt size must be (batch_size, tgt sequence length)\n",
    "\n",
    "        # Embedding + positional encoding - Out size = (batch_size, sequence length, dim_model)\n",
    "        #src = self.embedding(src) * math.sqrt(self.dim_model)\n",
    "        #tgt = self.embedding(tgt) * math.sqrt(self.dim_model)\n",
    "        src_corr = src #* math.sqrt(self.dim_model)\n",
    "        tgt_corr = tgt #* math.sqrt(self.dim_model)\n",
    "        #src_corr = self.positional_encoder(src_corr)\n",
    "        #tgt_corr = self.positional_encoder(tgt_corr)\n",
    "        \n",
    "        # We could use the parameter batch_first=True, but our KDL version doesn't support it yet, so we permute\n",
    "        # to obtain size (sequence length, batch_size, dim_model),\n",
    "        #src = src.permute(1,0,2)\n",
    "        #tgt = tgt.permute(1,0,2)\n",
    "\n",
    "        # Transformer blocks - Out size = (sequence length, batch_size, num_tokens)\n",
    "        transformer_out = self.transformer(src_corr, tgt_corr, tgt_mask=tgt_mask, src_key_padding_mask=src_pad_mask, \n",
    "                                           tgt_key_padding_mask=tgt_pad_mask)\n",
    "        for linear in self.linear_layers:\n",
    "            transformer_out = linear(transformer_out)\n",
    "        out = transformer_out\n",
    "        out = torch.add(out, tgt)\n",
    "        \n",
    "        #recuperando informacao de escala\n",
    "        #out = torch.mul(out, tgt)\n",
    "        #bias = self.bias_layer(tgt)\n",
    "        #out = torch.add(out, bias)\n",
    "        \n",
    "        out = self.out(out)\n",
    "        \n",
    "        \n",
    "        return out\n",
    "      \n",
    "    def get_tgt_mask(self, size) -> torch.tensor:\n",
    "        # Generates a squeare matrix where the each row allows one word more to be seen\n",
    "        mask = torch.tril(torch.ones(size, size) == 1) # Lower triangular matrix\n",
    "        mask = mask.float()\n",
    "        mask = mask.masked_fill(mask == 0, float('-inf')) # Convert zeros to -inf\n",
    "        mask = mask.masked_fill(mask == 1, float(0.0)) # Convert ones to 0\n",
    "        \n",
    "        # EX for size=5:\n",
    "        # [[0., -inf, -inf, -inf, -inf],\n",
    "        #  [0.,   0., -inf, -inf, -inf],\n",
    "        #  [0.,   0.,   0., -inf, -inf],\n",
    "        #  [0.,   0.,   0.,   0., -inf],\n",
    "        #  [0.,   0.,   0.,   0.,   0.]]\n",
    "        \n",
    "        return mask\n",
    "    \n",
    "    def create_pad_mask(self, matrix: torch.tensor, pad_token: int) -> torch.tensor:\n",
    "        # If matrix = [1,2,3,0,0,0] where pad_token=0, the result mask is\n",
    "        # [False, False, False, True, True, True]\n",
    "        return (matrix == pad_token)"
   ]
  },
  {
   "cell_type": "code",
   "execution_count": 19,
   "metadata": {
    "tags": []
   },
   "outputs": [],
   "source": [
    "class Training:\n",
    "    \n",
    "    def __init__(self, epochs, loss, optimizer, scheduler, path, model_name='Transformer', early_stop=True, patience=5):\n",
    "        \n",
    "        self.loss = loss\n",
    "        self.optimizer = optimizer\n",
    "        self.scheduler = scheduler\n",
    "        self.epochs = epochs\n",
    "        self.path = path\n",
    "        self.model_name = model_name\n",
    "        self.early_stop_flag = early_stop\n",
    "        self.patience = patience\n",
    "        self.clear_results()\n",
    "        \n",
    "    def clear_results(self):\n",
    "        \n",
    "        self.results = {\n",
    "            'Train':[],\n",
    "            'Validation':[],\n",
    "            'Test':[],\n",
    "        }\n",
    "        \n",
    "    def fit(self, model, train_loader, validation_loader, test_loader):\n",
    "        \n",
    "        self.clear_results()\n",
    "        torch.cuda.empty_cache()\n",
    "        decrease = self.patience\n",
    "        not_improved = 0\n",
    "        \n",
    "        model.to(device)\n",
    "        fit_time = time.time()\n",
    "        \n",
    "        for e in range(self.epochs):\n",
    "            since = time.time()\n",
    "            running_loss = 0\n",
    "            #training loop\n",
    "            model.train()\n",
    "            self.train_loop(model, train_loader)\n",
    "            model.eval()\n",
    "            self.validation_loop(model, validation_loader)\n",
    "            self.test_loop(model, test_loader)\n",
    "            decrease, not_improved = self.early_stopping(validation_loader, decrease)\n",
    "            if not_improved == 1 and self.early_stop_flag:\n",
    "                print('[***] end training ...') \n",
    "                break\n",
    "            loss_per_training_batch = self.results['Train'][-1]\n",
    "            loss_per_validation_batch = self.results['Validation'][-1]\n",
    "            loss_per_test_batch = self.results['Test'][-1]\n",
    "            print(\"Epoch:{}/{}..\".format(e+1, self.epochs),\n",
    "                  \"Train Loss: {:.3f}..\".format(loss_per_training_batch),\n",
    "                  \"Val Loss: {:.3f}..\".format(loss_per_validation_batch),\n",
    "                  \"Test Loss: {:.3f}..\".format(loss_per_test_batch),\n",
    "                  \"Time: {:.2f}m\".format((time.time()-since)/60))\n",
    "        print('Total time: {:.2f} m' .format((time.time()- fit_time)/60))\n",
    "        \n",
    "    def train_loop(self, model, train_loader):\n",
    "        \n",
    "        running_loss = 0.0\n",
    "        for i, data in enumerate(tqdm(train_loader)):\n",
    "            #training phase\n",
    "            X, y_tgt, y_out = data\n",
    "            X, y_tgt, y_out = X.to(device), y_tgt.to(device), y_out.to(device)\n",
    "            #y_result, y_tgt = Y, torch.from_numpy(-1.0*np.ones(Y.shape).astype('float32')).to(device)\n",
    "            #y_tgt[:,:,1:] = Y[:,:,:-1]\n",
    "            #y_tgt[:,:,0] = 0.0\n",
    "            output = model(X, y_tgt)\n",
    "            loss = self.loss(output.ravel(), y_out.ravel())\n",
    "            #backward\n",
    "            loss.backward()\n",
    "            self.optimizer.step() #update weight          \n",
    "            self.optimizer.zero_grad() #reset gradient\n",
    "            \n",
    "            #step the learning rate\n",
    "            if not self.scheduler is None:\n",
    "                self.scheduler.step()\n",
    "            running_loss += loss.item()\n",
    "        \n",
    "        self.results['Train'].append(running_loss/len(train_loader))\n",
    "    \n",
    "    \n",
    "    def validation_loop(self, model, validation_loader):\n",
    "        \n",
    "        running_loss = 0.0\n",
    "        with torch.no_grad():\n",
    "            for i, data in enumerate(tqdm(validation_loader)):\n",
    "                #training phase\n",
    "                X, y_tgt, y_out = data\n",
    "                X, y_tgt, y_out = X.to(device), y_tgt.to(device), y_out.to(device)\n",
    "                #y_result, y_tgt = Y, torch.from_numpy(-1.0*np.ones(Y.shape).astype('float32')).to(device)\n",
    "                #y_tgt[:,:,1:] = Y[:,:,:-1]\n",
    "                #y_tgt[:,:,0] = 0.0\n",
    "                output = model(X, y_tgt)\n",
    "                loss = self.loss(output.ravel(), y_out.ravel())\n",
    "                \n",
    "                running_loss += loss.item()\n",
    "        \n",
    "        self.results['Validation'].append(running_loss/len(validation_loader))\n",
    "        \n",
    "    def test_loop(self, model, test_loader):\n",
    "        \n",
    "        running_loss = 0.0\n",
    "        with torch.no_grad():\n",
    "            for i, data in enumerate(tqdm(test_loader)):\n",
    "                #training phase\n",
    "                X, y_tgt, y_out = data\n",
    "                X, y_tgt, y_out = X.to(device), y_tgt.to(device), y_out.to(device)\n",
    "                #y_result, y_tgt = Y, torch.from_numpy(-1.0*np.ones(Y.shape).astype('float32')).to(device)\n",
    "                #y_tgt[:,:,1:] = Y[:,:,:-1]\n",
    "                #y_tgt[:,:,0] = 0.0\n",
    "                output = model(X, y_tgt)\n",
    "                loss = self.loss(output.ravel(), y_out.ravel())\n",
    "                \n",
    "                running_loss += loss.item()\n",
    "        \n",
    "        self.results['Test'].append(running_loss/len(test_loader))\n",
    "        \n",
    "    def early_stopping(self, validation_loader, decrease):\n",
    "        \n",
    "        loss_per_validation_batch = self.results['Validation'][-1]\n",
    "        min_loss = np.min(self.results['Validation'][:-1] + [np.inf])\n",
    "        if min_loss >= self.results['Validation'][-1]:\n",
    "            print('Loss Decreasing.. {:.3f} >> {:.3f} '.format(min_loss, loss_per_validation_batch))\n",
    "            decrease = self.patience\n",
    "            print('saving model...')\n",
    "            torch.save(model, self.path + f'/{self.model_name}.pt')\n",
    "        else:\n",
    "            decrease -= 1\n",
    "        if decrease < 0:     \n",
    "                not_improved = 1\n",
    "        else:\n",
    "            not_improved = 0\n",
    "        return decrease, not_improved\n",
    "    \n",
    "    def get_best_model(self):\n",
    "        \n",
    "        model = torch.load(self.path + f'/{self.model_name}.pt')\n",
    "        return model\n",
    "            \n",
    "            "
   ]
  },
  {
   "cell_type": "code",
   "execution_count": 20,
   "metadata": {
    "tags": []
   },
   "outputs": [],
   "source": [
    "model = Transformer(\n",
    "    num_outputs=1, dim_model=dataset.max_sequence, num_heads=2, \n",
    "    num_encoder_layers=12, num_decoder_layers=6, dropout_p=0.1, \n",
    "    norm_first=False, num_linear_layers=0, dim_feedforward=2048\n",
    ").to(device)\n",
    "\n",
    "lr_ = 5e-4\n",
    "epoch = 500\n",
    "weight_decay = 1e-4\n",
    "path = '.'\n",
    "model_name = 'ADIM-MULTI'\n",
    "\n",
    "loss = torch.nn.MSELoss()\n",
    "optimizer = torch.optim.Adam(model.parameters(), lr=lr_)\n",
    "#optimizer = torch.optim.SGD(model.parameters(), lr=lr_)\n",
    "#optimizer = torch.optim.AdamW(model.parameters(), lr=lr_, weight_decay=weight_decay)\n",
    "sched = None\n",
    "sched = torch.optim.lr_scheduler.OneCycleLR(optimizer, lr_, epochs=epoch,\n",
    "                                            steps_per_epoch=len(train_loader))\n",
    "training = Training(epoch, loss, optimizer, sched, model_name=model_name, path=path, early_stop=False, patience=20)"
   ]
  },
  {
   "cell_type": "code",
   "execution_count": null,
   "metadata": {
    "tags": []
   },
   "outputs": [
    {
     "name": "stderr",
     "output_type": "stream",
     "text": [
      "100%|██████████| 238/238 [00:10<00:00, 22.00it/s]\n",
      "100%|██████████| 85/85 [00:00<00:00, 153.23it/s]\n",
      "100%|██████████| 17/17 [00:00<00:00, 149.17it/s]\n"
     ]
    },
    {
     "name": "stdout",
     "output_type": "stream",
     "text": [
      "Loss Decreasing.. inf >> 0.325 \n",
      "saving model...\n",
      "Epoch:1/500.. Train Loss: 0.339.. Val Loss: 0.325.. Test Loss: 0.194.. Time: 0.19m\n"
     ]
    },
    {
     "name": "stderr",
     "output_type": "stream",
     "text": [
      "100%|██████████| 238/238 [00:10<00:00, 23.69it/s]\n",
      "100%|██████████| 85/85 [00:00<00:00, 151.69it/s]\n",
      "100%|██████████| 17/17 [00:00<00:00, 149.23it/s]\n"
     ]
    },
    {
     "name": "stdout",
     "output_type": "stream",
     "text": [
      "Loss Decreasing.. 0.325 >> 0.279 \n",
      "saving model...\n",
      "Epoch:2/500.. Train Loss: 0.249.. Val Loss: 0.279.. Test Loss: 0.153.. Time: 0.18m\n"
     ]
    },
    {
     "name": "stderr",
     "output_type": "stream",
     "text": [
      "100%|██████████| 238/238 [00:11<00:00, 21.63it/s]\n",
      "100%|██████████| 85/85 [00:00<00:00, 148.01it/s]\n",
      "100%|██████████| 17/17 [00:00<00:00, 137.25it/s]\n"
     ]
    },
    {
     "name": "stdout",
     "output_type": "stream",
     "text": [
      "Loss Decreasing.. 0.279 >> 0.263 \n",
      "saving model...\n",
      "Epoch:3/500.. Train Loss: 0.216.. Val Loss: 0.263.. Test Loss: 0.141.. Time: 0.20m\n"
     ]
    },
    {
     "name": "stderr",
     "output_type": "stream",
     "text": [
      "100%|██████████| 238/238 [00:10<00:00, 22.29it/s]\n",
      "100%|██████████| 85/85 [00:00<00:00, 151.56it/s]\n",
      "100%|██████████| 17/17 [00:00<00:00, 146.84it/s]\n"
     ]
    },
    {
     "name": "stdout",
     "output_type": "stream",
     "text": [
      "Loss Decreasing.. 0.263 >> 0.254 \n",
      "saving model...\n",
      "Epoch:4/500.. Train Loss: 0.196.. Val Loss: 0.254.. Test Loss: 0.127.. Time: 0.19m\n"
     ]
    },
    {
     "name": "stderr",
     "output_type": "stream",
     "text": [
      "100%|██████████| 238/238 [00:10<00:00, 22.44it/s]\n",
      "100%|██████████| 85/85 [00:00<00:00, 131.15it/s]\n",
      "100%|██████████| 17/17 [00:00<00:00, 116.99it/s]\n"
     ]
    },
    {
     "name": "stdout",
     "output_type": "stream",
     "text": [
      "Loss Decreasing.. 0.254 >> 0.238 \n",
      "saving model...\n",
      "Epoch:5/500.. Train Loss: 0.190.. Val Loss: 0.238.. Test Loss: 0.122.. Time: 0.19m\n"
     ]
    },
    {
     "name": "stderr",
     "output_type": "stream",
     "text": [
      "100%|██████████| 238/238 [00:10<00:00, 22.00it/s]\n",
      "100%|██████████| 85/85 [00:00<00:00, 150.18it/s]\n",
      "100%|██████████| 17/17 [00:00<00:00, 151.87it/s]\n"
     ]
    },
    {
     "name": "stdout",
     "output_type": "stream",
     "text": [
      "Loss Decreasing.. 0.238 >> 0.232 \n",
      "saving model...\n",
      "Epoch:6/500.. Train Loss: 0.178.. Val Loss: 0.232.. Test Loss: 0.110.. Time: 0.19m\n"
     ]
    },
    {
     "name": "stderr",
     "output_type": "stream",
     "text": [
      "100%|██████████| 238/238 [00:10<00:00, 22.22it/s]\n",
      "100%|██████████| 85/85 [00:00<00:00, 152.91it/s]\n",
      "100%|██████████| 17/17 [00:00<00:00, 154.26it/s]\n"
     ]
    },
    {
     "name": "stdout",
     "output_type": "stream",
     "text": [
      "Loss Decreasing.. 0.232 >> 0.215 \n",
      "saving model...\n",
      "Epoch:7/500.. Train Loss: 0.164.. Val Loss: 0.215.. Test Loss: 0.107.. Time: 0.19m\n"
     ]
    },
    {
     "name": "stderr",
     "output_type": "stream",
     "text": [
      "100%|██████████| 238/238 [00:10<00:00, 22.57it/s]\n",
      "100%|██████████| 85/85 [00:00<00:00, 149.99it/s]\n",
      "100%|██████████| 17/17 [00:00<00:00, 147.01it/s]\n"
     ]
    },
    {
     "name": "stdout",
     "output_type": "stream",
     "text": [
      "Loss Decreasing.. 0.215 >> 0.212 \n",
      "saving model...\n",
      "Epoch:8/500.. Train Loss: 0.155.. Val Loss: 0.212.. Test Loss: 0.103.. Time: 0.19m\n"
     ]
    },
    {
     "name": "stderr",
     "output_type": "stream",
     "text": [
      "100%|██████████| 238/238 [00:10<00:00, 22.45it/s]\n",
      "100%|██████████| 85/85 [00:00<00:00, 151.13it/s]\n",
      "100%|██████████| 17/17 [00:00<00:00, 148.97it/s]\n"
     ]
    },
    {
     "name": "stdout",
     "output_type": "stream",
     "text": [
      "Loss Decreasing.. 0.212 >> 0.199 \n",
      "saving model...\n",
      "Epoch:9/500.. Train Loss: 0.147.. Val Loss: 0.199.. Test Loss: 0.100.. Time: 0.19m\n"
     ]
    },
    {
     "name": "stderr",
     "output_type": "stream",
     "text": [
      "100%|██████████| 238/238 [00:10<00:00, 21.83it/s]\n",
      "100%|██████████| 85/85 [00:00<00:00, 145.12it/s]\n",
      "100%|██████████| 17/17 [00:00<00:00, 144.04it/s]\n"
     ]
    },
    {
     "name": "stdout",
     "output_type": "stream",
     "text": [
      "Loss Decreasing.. 0.199 >> 0.194 \n",
      "saving model...\n",
      "Epoch:10/500.. Train Loss: 0.138.. Val Loss: 0.194.. Test Loss: 0.085.. Time: 0.19m\n"
     ]
    },
    {
     "name": "stderr",
     "output_type": "stream",
     "text": [
      "100%|██████████| 238/238 [00:10<00:00, 21.65it/s]\n",
      "100%|██████████| 85/85 [00:00<00:00, 147.73it/s]\n",
      "100%|██████████| 17/17 [00:00<00:00, 148.99it/s]\n"
     ]
    },
    {
     "name": "stdout",
     "output_type": "stream",
     "text": [
      "Loss Decreasing.. 0.194 >> 0.184 \n",
      "saving model...\n",
      "Epoch:11/500.. Train Loss: 0.129.. Val Loss: 0.184.. Test Loss: 0.090.. Time: 0.20m\n"
     ]
    },
    {
     "name": "stderr",
     "output_type": "stream",
     "text": [
      "100%|██████████| 238/238 [00:10<00:00, 22.01it/s]\n",
      "100%|██████████| 85/85 [00:00<00:00, 156.36it/s]\n",
      "100%|██████████| 17/17 [00:00<00:00, 151.74it/s]\n"
     ]
    },
    {
     "name": "stdout",
     "output_type": "stream",
     "text": [
      "Loss Decreasing.. 0.184 >> 0.174 \n",
      "saving model...\n",
      "Epoch:12/500.. Train Loss: 0.120.. Val Loss: 0.174.. Test Loss: 0.082.. Time: 0.19m\n"
     ]
    },
    {
     "name": "stderr",
     "output_type": "stream",
     "text": [
      "100%|██████████| 238/238 [00:10<00:00, 21.71it/s]\n",
      "100%|██████████| 85/85 [00:00<00:00, 152.33it/s]\n",
      "100%|██████████| 17/17 [00:00<00:00, 150.58it/s]\n"
     ]
    },
    {
     "name": "stdout",
     "output_type": "stream",
     "text": [
      "Loss Decreasing.. 0.174 >> 0.171 \n",
      "saving model...\n",
      "Epoch:13/500.. Train Loss: 0.113.. Val Loss: 0.171.. Test Loss: 0.072.. Time: 0.19m\n"
     ]
    },
    {
     "name": "stderr",
     "output_type": "stream",
     "text": [
      "100%|██████████| 238/238 [00:10<00:00, 21.76it/s]\n",
      "100%|██████████| 85/85 [00:00<00:00, 149.86it/s]\n",
      "100%|██████████| 17/17 [00:00<00:00, 139.53it/s]\n"
     ]
    },
    {
     "name": "stdout",
     "output_type": "stream",
     "text": [
      "Loss Decreasing.. 0.171 >> 0.161 \n",
      "saving model...\n",
      "Epoch:14/500.. Train Loss: 0.110.. Val Loss: 0.161.. Test Loss: 0.068.. Time: 0.19m\n"
     ]
    },
    {
     "name": "stderr",
     "output_type": "stream",
     "text": [
      "100%|██████████| 238/238 [00:10<00:00, 21.67it/s]\n",
      "100%|██████████| 85/85 [00:00<00:00, 153.81it/s]\n",
      "100%|██████████| 17/17 [00:00<00:00, 149.96it/s]\n"
     ]
    },
    {
     "name": "stdout",
     "output_type": "stream",
     "text": [
      "Loss Decreasing.. 0.161 >> 0.156 \n",
      "saving model...\n",
      "Epoch:15/500.. Train Loss: 0.103.. Val Loss: 0.156.. Test Loss: 0.068.. Time: 0.20m\n"
     ]
    },
    {
     "name": "stderr",
     "output_type": "stream",
     "text": [
      "100%|██████████| 238/238 [00:10<00:00, 21.68it/s]\n",
      "100%|██████████| 85/85 [00:00<00:00, 149.25it/s]\n",
      "100%|██████████| 17/17 [00:00<00:00, 145.90it/s]\n"
     ]
    },
    {
     "name": "stdout",
     "output_type": "stream",
     "text": [
      "Loss Decreasing.. 0.156 >> 0.149 \n",
      "saving model...\n",
      "Epoch:16/500.. Train Loss: 0.097.. Val Loss: 0.149.. Test Loss: 0.066.. Time: 0.20m\n"
     ]
    },
    {
     "name": "stderr",
     "output_type": "stream",
     "text": [
      "100%|██████████| 238/238 [00:10<00:00, 22.19it/s]\n",
      "100%|██████████| 85/85 [00:00<00:00, 151.81it/s]\n",
      "100%|██████████| 17/17 [00:00<00:00, 148.13it/s]\n"
     ]
    },
    {
     "name": "stdout",
     "output_type": "stream",
     "text": [
      "Loss Decreasing.. 0.149 >> 0.144 \n",
      "saving model...\n",
      "Epoch:17/500.. Train Loss: 0.094.. Val Loss: 0.144.. Test Loss: 0.062.. Time: 0.19m\n"
     ]
    },
    {
     "name": "stderr",
     "output_type": "stream",
     "text": [
      "100%|██████████| 238/238 [00:10<00:00, 21.94it/s]\n",
      "100%|██████████| 85/85 [00:00<00:00, 149.30it/s]\n",
      "100%|██████████| 17/17 [00:00<00:00, 147.27it/s]\n"
     ]
    },
    {
     "name": "stdout",
     "output_type": "stream",
     "text": [
      "Loss Decreasing.. 0.144 >> 0.139 \n",
      "saving model...\n",
      "Epoch:18/500.. Train Loss: 0.091.. Val Loss: 0.139.. Test Loss: 0.062.. Time: 0.19m\n"
     ]
    },
    {
     "name": "stderr",
     "output_type": "stream",
     "text": [
      "100%|██████████| 238/238 [00:10<00:00, 22.15it/s]\n",
      "100%|██████████| 85/85 [00:00<00:00, 150.18it/s]\n",
      "100%|██████████| 17/17 [00:00<00:00, 147.93it/s]\n"
     ]
    },
    {
     "name": "stdout",
     "output_type": "stream",
     "text": [
      "Epoch:19/500.. Train Loss: 0.089.. Val Loss: 0.139.. Test Loss: 0.058.. Time: 0.19m\n"
     ]
    },
    {
     "name": "stderr",
     "output_type": "stream",
     "text": [
      "100%|██████████| 238/238 [00:10<00:00, 21.85it/s]\n",
      "100%|██████████| 85/85 [00:00<00:00, 153.49it/s]\n",
      "100%|██████████| 17/17 [00:00<00:00, 149.67it/s]\n"
     ]
    },
    {
     "name": "stdout",
     "output_type": "stream",
     "text": [
      "Loss Decreasing.. 0.139 >> 0.133 \n",
      "saving model...\n",
      "Epoch:20/500.. Train Loss: 0.086.. Val Loss: 0.133.. Test Loss: 0.056.. Time: 0.19m\n"
     ]
    },
    {
     "name": "stderr",
     "output_type": "stream",
     "text": [
      "100%|██████████| 238/238 [00:10<00:00, 21.68it/s]\n",
      "100%|██████████| 85/85 [00:00<00:00, 148.90it/s]\n",
      "100%|██████████| 17/17 [00:00<00:00, 126.67it/s]\n"
     ]
    },
    {
     "name": "stdout",
     "output_type": "stream",
     "text": [
      "Loss Decreasing.. 0.133 >> 0.131 \n",
      "saving model...\n",
      "Epoch:21/500.. Train Loss: 0.082.. Val Loss: 0.131.. Test Loss: 0.059.. Time: 0.20m\n"
     ]
    },
    {
     "name": "stderr",
     "output_type": "stream",
     "text": [
      "100%|██████████| 238/238 [00:10<00:00, 21.78it/s]\n",
      "100%|██████████| 85/85 [00:00<00:00, 152.32it/s]\n",
      "100%|██████████| 17/17 [00:00<00:00, 150.07it/s]\n"
     ]
    },
    {
     "name": "stdout",
     "output_type": "stream",
     "text": [
      "Loss Decreasing.. 0.131 >> 0.126 \n",
      "saving model...\n",
      "Epoch:22/500.. Train Loss: 0.081.. Val Loss: 0.126.. Test Loss: 0.058.. Time: 0.19m\n"
     ]
    },
    {
     "name": "stderr",
     "output_type": "stream",
     "text": [
      "100%|██████████| 238/238 [00:10<00:00, 21.87it/s]\n",
      "100%|██████████| 85/85 [00:00<00:00, 150.91it/s]\n",
      "100%|██████████| 17/17 [00:00<00:00, 121.43it/s]\n"
     ]
    },
    {
     "name": "stdout",
     "output_type": "stream",
     "text": [
      "Epoch:23/500.. Train Loss: 0.077.. Val Loss: 0.127.. Test Loss: 0.056.. Time: 0.19m\n"
     ]
    },
    {
     "name": "stderr",
     "output_type": "stream",
     "text": [
      "100%|██████████| 238/238 [00:10<00:00, 22.05it/s]\n",
      "100%|██████████| 85/85 [00:00<00:00, 147.04it/s]\n",
      "100%|██████████| 17/17 [00:00<00:00, 149.29it/s]\n"
     ]
    },
    {
     "name": "stdout",
     "output_type": "stream",
     "text": [
      "Epoch:24/500.. Train Loss: 0.078.. Val Loss: 0.127.. Test Loss: 0.059.. Time: 0.19m\n"
     ]
    },
    {
     "name": "stderr",
     "output_type": "stream",
     "text": [
      "100%|██████████| 238/238 [00:11<00:00, 21.57it/s]\n",
      "100%|██████████| 85/85 [00:00<00:00, 150.00it/s]\n",
      "100%|██████████| 17/17 [00:00<00:00, 145.27it/s]\n"
     ]
    },
    {
     "name": "stdout",
     "output_type": "stream",
     "text": [
      "Loss Decreasing.. 0.126 >> 0.123 \n",
      "saving model...\n",
      "Epoch:25/500.. Train Loss: 0.076.. Val Loss: 0.123.. Test Loss: 0.055.. Time: 0.20m\n"
     ]
    },
    {
     "name": "stderr",
     "output_type": "stream",
     "text": [
      "100%|██████████| 238/238 [00:10<00:00, 21.67it/s]\n",
      "100%|██████████| 85/85 [00:00<00:00, 145.44it/s]\n",
      "100%|██████████| 17/17 [00:00<00:00, 144.87it/s]\n"
     ]
    },
    {
     "name": "stdout",
     "output_type": "stream",
     "text": [
      "Loss Decreasing.. 0.123 >> 0.121 \n",
      "saving model...\n",
      "Epoch:26/500.. Train Loss: 0.074.. Val Loss: 0.121.. Test Loss: 0.057.. Time: 0.20m\n"
     ]
    },
    {
     "name": "stderr",
     "output_type": "stream",
     "text": [
      "100%|██████████| 238/238 [00:10<00:00, 21.80it/s]\n",
      "100%|██████████| 85/85 [00:00<00:00, 150.88it/s]\n",
      "100%|██████████| 17/17 [00:00<00:00, 151.94it/s]\n"
     ]
    },
    {
     "name": "stdout",
     "output_type": "stream",
     "text": [
      "Epoch:27/500.. Train Loss: 0.074.. Val Loss: 0.123.. Test Loss: 0.052.. Time: 0.19m\n"
     ]
    },
    {
     "name": "stderr",
     "output_type": "stream",
     "text": [
      "100%|██████████| 238/238 [00:10<00:00, 21.96it/s]\n",
      "100%|██████████| 85/85 [00:00<00:00, 150.80it/s]\n",
      "100%|██████████| 17/17 [00:00<00:00, 147.16it/s]\n"
     ]
    },
    {
     "name": "stdout",
     "output_type": "stream",
     "text": [
      "Epoch:28/500.. Train Loss: 0.072.. Val Loss: 0.121.. Test Loss: 0.051.. Time: 0.19m\n"
     ]
    },
    {
     "name": "stderr",
     "output_type": "stream",
     "text": [
      "100%|██████████| 238/238 [00:10<00:00, 21.80it/s]\n",
      "100%|██████████| 85/85 [00:00<00:00, 149.40it/s]\n",
      "100%|██████████| 17/17 [00:00<00:00, 150.03it/s]\n"
     ]
    },
    {
     "name": "stdout",
     "output_type": "stream",
     "text": [
      "Epoch:29/500.. Train Loss: 0.069.. Val Loss: 0.124.. Test Loss: 0.059.. Time: 0.19m\n"
     ]
    },
    {
     "name": "stderr",
     "output_type": "stream",
     "text": [
      "100%|██████████| 238/238 [00:10<00:00, 22.05it/s]\n",
      "100%|██████████| 85/85 [00:00<00:00, 141.45it/s]\n",
      "100%|██████████| 17/17 [00:00<00:00, 135.13it/s]\n"
     ]
    },
    {
     "name": "stdout",
     "output_type": "stream",
     "text": [
      "Epoch:30/500.. Train Loss: 0.070.. Val Loss: 0.122.. Test Loss: 0.055.. Time: 0.19m\n"
     ]
    },
    {
     "name": "stderr",
     "output_type": "stream",
     "text": [
      "100%|██████████| 238/238 [00:10<00:00, 21.73it/s]\n",
      "100%|██████████| 85/85 [00:00<00:00, 152.28it/s]\n",
      "100%|██████████| 17/17 [00:00<00:00, 151.68it/s]\n"
     ]
    },
    {
     "name": "stdout",
     "output_type": "stream",
     "text": [
      "Loss Decreasing.. 0.121 >> 0.120 \n",
      "saving model...\n",
      "Epoch:31/500.. Train Loss: 0.070.. Val Loss: 0.120.. Test Loss: 0.054.. Time: 0.19m\n"
     ]
    },
    {
     "name": "stderr",
     "output_type": "stream",
     "text": [
      "100%|██████████| 238/238 [00:10<00:00, 22.20it/s]\n",
      "100%|██████████| 85/85 [00:00<00:00, 152.82it/s]\n",
      "100%|██████████| 17/17 [00:00<00:00, 144.43it/s]\n"
     ]
    },
    {
     "name": "stdout",
     "output_type": "stream",
     "text": [
      "Loss Decreasing.. 0.120 >> 0.117 \n",
      "saving model...\n",
      "Epoch:32/500.. Train Loss: 0.069.. Val Loss: 0.117.. Test Loss: 0.053.. Time: 0.19m\n"
     ]
    },
    {
     "name": "stderr",
     "output_type": "stream",
     "text": [
      "100%|██████████| 238/238 [00:10<00:00, 21.64it/s]\n",
      "100%|██████████| 85/85 [00:00<00:00, 148.36it/s]\n",
      "100%|██████████| 17/17 [00:00<00:00, 142.67it/s]\n"
     ]
    },
    {
     "name": "stdout",
     "output_type": "stream",
     "text": [
      "Epoch:33/500.. Train Loss: 0.068.. Val Loss: 0.119.. Test Loss: 0.056.. Time: 0.20m\n"
     ]
    },
    {
     "name": "stderr",
     "output_type": "stream",
     "text": [
      "100%|██████████| 238/238 [00:10<00:00, 21.77it/s]\n",
      "100%|██████████| 85/85 [00:00<00:00, 151.15it/s]\n",
      "100%|██████████| 17/17 [00:00<00:00, 147.46it/s]\n"
     ]
    },
    {
     "name": "stdout",
     "output_type": "stream",
     "text": [
      "Loss Decreasing.. 0.117 >> 0.116 \n",
      "saving model...\n",
      "Epoch:34/500.. Train Loss: 0.067.. Val Loss: 0.116.. Test Loss: 0.053.. Time: 0.19m\n"
     ]
    },
    {
     "name": "stderr",
     "output_type": "stream",
     "text": [
      "100%|██████████| 238/238 [00:10<00:00, 21.72it/s]\n",
      "100%|██████████| 85/85 [00:00<00:00, 152.10it/s]\n",
      "100%|██████████| 17/17 [00:00<00:00, 148.62it/s]\n"
     ]
    },
    {
     "name": "stdout",
     "output_type": "stream",
     "text": [
      "Loss Decreasing.. 0.116 >> 0.116 \n",
      "saving model...\n",
      "Epoch:35/500.. Train Loss: 0.068.. Val Loss: 0.116.. Test Loss: 0.054.. Time: 0.19m\n"
     ]
    },
    {
     "name": "stderr",
     "output_type": "stream",
     "text": [
      "100%|██████████| 238/238 [00:10<00:00, 22.07it/s]\n",
      "100%|██████████| 85/85 [00:00<00:00, 148.09it/s]\n",
      "100%|██████████| 17/17 [00:00<00:00, 146.79it/s]\n"
     ]
    },
    {
     "name": "stdout",
     "output_type": "stream",
     "text": [
      "Epoch:36/500.. Train Loss: 0.066.. Val Loss: 0.119.. Test Loss: 0.054.. Time: 0.19m\n"
     ]
    },
    {
     "name": "stderr",
     "output_type": "stream",
     "text": [
      "100%|██████████| 238/238 [00:10<00:00, 22.09it/s]\n",
      "100%|██████████| 85/85 [00:00<00:00, 145.71it/s]\n",
      "100%|██████████| 17/17 [00:00<00:00, 151.96it/s]\n"
     ]
    },
    {
     "name": "stdout",
     "output_type": "stream",
     "text": [
      "Epoch:37/500.. Train Loss: 0.066.. Val Loss: 0.122.. Test Loss: 0.060.. Time: 0.19m\n"
     ]
    },
    {
     "name": "stderr",
     "output_type": "stream",
     "text": [
      "100%|██████████| 238/238 [00:10<00:00, 21.70it/s]\n",
      "100%|██████████| 85/85 [00:00<00:00, 151.37it/s]\n",
      "100%|██████████| 17/17 [00:00<00:00, 139.18it/s]\n"
     ]
    },
    {
     "name": "stdout",
     "output_type": "stream",
     "text": [
      "Epoch:38/500.. Train Loss: 0.065.. Val Loss: 0.118.. Test Loss: 0.053.. Time: 0.19m\n"
     ]
    },
    {
     "name": "stderr",
     "output_type": "stream",
     "text": [
      "100%|██████████| 238/238 [00:10<00:00, 22.29it/s]\n",
      "100%|██████████| 85/85 [00:00<00:00, 151.03it/s]\n",
      "100%|██████████| 17/17 [00:00<00:00, 152.34it/s]\n"
     ]
    },
    {
     "name": "stdout",
     "output_type": "stream",
     "text": [
      "Epoch:39/500.. Train Loss: 0.066.. Val Loss: 0.120.. Test Loss: 0.050.. Time: 0.19m\n"
     ]
    },
    {
     "name": "stderr",
     "output_type": "stream",
     "text": [
      "100%|██████████| 238/238 [00:10<00:00, 21.79it/s]\n",
      "100%|██████████| 85/85 [00:00<00:00, 151.10it/s]\n",
      "100%|██████████| 17/17 [00:00<00:00, 141.20it/s]\n"
     ]
    },
    {
     "name": "stdout",
     "output_type": "stream",
     "text": [
      "Epoch:40/500.. Train Loss: 0.063.. Val Loss: 0.118.. Test Loss: 0.051.. Time: 0.19m\n"
     ]
    },
    {
     "name": "stderr",
     "output_type": "stream",
     "text": [
      "100%|██████████| 238/238 [00:10<00:00, 22.30it/s]\n",
      "100%|██████████| 85/85 [00:00<00:00, 148.82it/s]\n",
      "100%|██████████| 17/17 [00:00<00:00, 150.61it/s]\n"
     ]
    },
    {
     "name": "stdout",
     "output_type": "stream",
     "text": [
      "Epoch:41/500.. Train Loss: 0.062.. Val Loss: 0.122.. Test Loss: 0.052.. Time: 0.19m\n"
     ]
    },
    {
     "name": "stderr",
     "output_type": "stream",
     "text": [
      "100%|██████████| 238/238 [00:10<00:00, 21.93it/s]\n",
      "100%|██████████| 85/85 [00:00<00:00, 151.18it/s]\n",
      "100%|██████████| 17/17 [00:00<00:00, 148.07it/s]\n"
     ]
    },
    {
     "name": "stdout",
     "output_type": "stream",
     "text": [
      "Epoch:42/500.. Train Loss: 0.063.. Val Loss: 0.120.. Test Loss: 0.054.. Time: 0.19m\n"
     ]
    },
    {
     "name": "stderr",
     "output_type": "stream",
     "text": [
      "100%|██████████| 238/238 [00:10<00:00, 22.15it/s]\n",
      "100%|██████████| 85/85 [00:00<00:00, 150.21it/s]\n",
      "100%|██████████| 17/17 [00:00<00:00, 145.24it/s]\n"
     ]
    },
    {
     "name": "stdout",
     "output_type": "stream",
     "text": [
      "Epoch:43/500.. Train Loss: 0.064.. Val Loss: 0.118.. Test Loss: 0.052.. Time: 0.19m\n"
     ]
    },
    {
     "name": "stderr",
     "output_type": "stream",
     "text": [
      "100%|██████████| 238/238 [00:10<00:00, 21.76it/s]\n",
      "100%|██████████| 85/85 [00:00<00:00, 147.33it/s]\n",
      "100%|██████████| 17/17 [00:00<00:00, 142.55it/s]\n"
     ]
    },
    {
     "name": "stdout",
     "output_type": "stream",
     "text": [
      "Loss Decreasing.. 0.116 >> 0.116 \n",
      "saving model...\n",
      "Epoch:44/500.. Train Loss: 0.063.. Val Loss: 0.116.. Test Loss: 0.050.. Time: 0.19m\n"
     ]
    },
    {
     "name": "stderr",
     "output_type": "stream",
     "text": [
      "100%|██████████| 238/238 [00:10<00:00, 22.19it/s]\n",
      "100%|██████████| 85/85 [00:00<00:00, 148.78it/s]\n",
      "100%|██████████| 17/17 [00:00<00:00, 147.36it/s]\n"
     ]
    },
    {
     "name": "stdout",
     "output_type": "stream",
     "text": [
      "Epoch:45/500.. Train Loss: 0.063.. Val Loss: 0.117.. Test Loss: 0.051.. Time: 0.19m\n"
     ]
    },
    {
     "name": "stderr",
     "output_type": "stream",
     "text": [
      "100%|██████████| 238/238 [00:10<00:00, 22.16it/s]\n",
      "100%|██████████| 85/85 [00:00<00:00, 152.32it/s]\n",
      "100%|██████████| 17/17 [00:00<00:00, 150.14it/s]\n"
     ]
    },
    {
     "name": "stdout",
     "output_type": "stream",
     "text": [
      "Epoch:46/500.. Train Loss: 0.060.. Val Loss: 0.122.. Test Loss: 0.057.. Time: 0.19m\n"
     ]
    },
    {
     "name": "stderr",
     "output_type": "stream",
     "text": [
      "100%|██████████| 238/238 [00:10<00:00, 21.76it/s]\n",
      "100%|██████████| 85/85 [00:00<00:00, 152.19it/s]\n",
      "100%|██████████| 17/17 [00:00<00:00, 145.84it/s]\n"
     ]
    },
    {
     "name": "stdout",
     "output_type": "stream",
     "text": [
      "Epoch:47/500.. Train Loss: 0.063.. Val Loss: 0.116.. Test Loss: 0.049.. Time: 0.19m\n"
     ]
    },
    {
     "name": "stderr",
     "output_type": "stream",
     "text": [
      "100%|██████████| 238/238 [00:10<00:00, 22.18it/s]\n",
      "100%|██████████| 85/85 [00:00<00:00, 145.71it/s]\n",
      "100%|██████████| 17/17 [00:00<00:00, 113.95it/s]\n"
     ]
    },
    {
     "name": "stdout",
     "output_type": "stream",
     "text": [
      "Epoch:48/500.. Train Loss: 0.060.. Val Loss: 0.121.. Test Loss: 0.057.. Time: 0.19m\n"
     ]
    },
    {
     "name": "stderr",
     "output_type": "stream",
     "text": [
      "100%|██████████| 238/238 [00:10<00:00, 21.96it/s]\n",
      "100%|██████████| 85/85 [00:00<00:00, 151.82it/s]\n",
      "100%|██████████| 17/17 [00:00<00:00, 151.05it/s]\n"
     ]
    },
    {
     "name": "stdout",
     "output_type": "stream",
     "text": [
      "Loss Decreasing.. 0.116 >> 0.114 \n",
      "saving model...\n",
      "Epoch:49/500.. Train Loss: 0.060.. Val Loss: 0.114.. Test Loss: 0.052.. Time: 0.19m\n"
     ]
    },
    {
     "name": "stderr",
     "output_type": "stream",
     "text": [
      "100%|██████████| 238/238 [00:10<00:00, 21.99it/s]\n",
      "100%|██████████| 85/85 [00:00<00:00, 154.58it/s]\n",
      "100%|██████████| 17/17 [00:00<00:00, 152.38it/s]\n"
     ]
    },
    {
     "name": "stdout",
     "output_type": "stream",
     "text": [
      "Epoch:50/500.. Train Loss: 0.061.. Val Loss: 0.115.. Test Loss: 0.052.. Time: 0.19m\n"
     ]
    },
    {
     "name": "stderr",
     "output_type": "stream",
     "text": [
      "100%|██████████| 238/238 [00:10<00:00, 21.68it/s]\n",
      "100%|██████████| 85/85 [00:00<00:00, 148.11it/s]\n",
      "100%|██████████| 17/17 [00:00<00:00, 142.51it/s]\n"
     ]
    },
    {
     "name": "stdout",
     "output_type": "stream",
     "text": [
      "Epoch:51/500.. Train Loss: 0.062.. Val Loss: 0.117.. Test Loss: 0.056.. Time: 0.19m\n"
     ]
    },
    {
     "name": "stderr",
     "output_type": "stream",
     "text": [
      "100%|██████████| 238/238 [00:11<00:00, 21.57it/s]\n",
      "100%|██████████| 85/85 [00:00<00:00, 147.76it/s]\n",
      "100%|██████████| 17/17 [00:00<00:00, 148.89it/s]\n"
     ]
    },
    {
     "name": "stdout",
     "output_type": "stream",
     "text": [
      "Loss Decreasing.. 0.114 >> 0.114 \n",
      "saving model...\n",
      "Epoch:52/500.. Train Loss: 0.061.. Val Loss: 0.114.. Test Loss: 0.051.. Time: 0.20m\n"
     ]
    },
    {
     "name": "stderr",
     "output_type": "stream",
     "text": [
      "100%|██████████| 238/238 [00:10<00:00, 21.91it/s]\n",
      "100%|██████████| 85/85 [00:00<00:00, 150.32it/s]\n",
      "100%|██████████| 17/17 [00:00<00:00, 150.77it/s]\n"
     ]
    },
    {
     "name": "stdout",
     "output_type": "stream",
     "text": [
      "Epoch:53/500.. Train Loss: 0.061.. Val Loss: 0.116.. Test Loss: 0.052.. Time: 0.19m\n"
     ]
    },
    {
     "name": "stderr",
     "output_type": "stream",
     "text": [
      "100%|██████████| 238/238 [00:10<00:00, 22.24it/s]\n",
      "100%|██████████| 85/85 [00:00<00:00, 147.83it/s]\n",
      "100%|██████████| 17/17 [00:00<00:00, 151.99it/s]\n"
     ]
    },
    {
     "name": "stdout",
     "output_type": "stream",
     "text": [
      "Epoch:54/500.. Train Loss: 0.060.. Val Loss: 0.114.. Test Loss: 0.055.. Time: 0.19m\n"
     ]
    },
    {
     "name": "stderr",
     "output_type": "stream",
     "text": [
      "100%|██████████| 238/238 [00:10<00:00, 21.77it/s]\n",
      "100%|██████████| 85/85 [00:00<00:00, 147.43it/s]\n",
      "100%|██████████| 17/17 [00:00<00:00, 147.93it/s]\n"
     ]
    },
    {
     "name": "stdout",
     "output_type": "stream",
     "text": [
      "Epoch:55/500.. Train Loss: 0.060.. Val Loss: 0.114.. Test Loss: 0.053.. Time: 0.19m\n"
     ]
    },
    {
     "name": "stderr",
     "output_type": "stream",
     "text": [
      "100%|██████████| 238/238 [00:11<00:00, 21.50it/s]\n",
      "100%|██████████| 85/85 [00:00<00:00, 152.68it/s]\n",
      "100%|██████████| 17/17 [00:00<00:00, 149.75it/s]\n"
     ]
    },
    {
     "name": "stdout",
     "output_type": "stream",
     "text": [
      "Epoch:56/500.. Train Loss: 0.061.. Val Loss: 0.115.. Test Loss: 0.057.. Time: 0.20m\n"
     ]
    },
    {
     "name": "stderr",
     "output_type": "stream",
     "text": [
      "100%|██████████| 238/238 [00:10<00:00, 22.00it/s]\n",
      "100%|██████████| 85/85 [00:00<00:00, 147.28it/s]\n",
      "100%|██████████| 17/17 [00:00<00:00, 141.06it/s]\n"
     ]
    },
    {
     "name": "stdout",
     "output_type": "stream",
     "text": [
      "Epoch:57/500.. Train Loss: 0.060.. Val Loss: 0.114.. Test Loss: 0.050.. Time: 0.19m\n"
     ]
    },
    {
     "name": "stderr",
     "output_type": "stream",
     "text": [
      "100%|██████████| 238/238 [00:10<00:00, 22.19it/s]\n",
      "100%|██████████| 85/85 [00:00<00:00, 152.23it/s]\n",
      "100%|██████████| 17/17 [00:00<00:00, 147.56it/s]\n"
     ]
    },
    {
     "name": "stdout",
     "output_type": "stream",
     "text": [
      "Epoch:58/500.. Train Loss: 0.060.. Val Loss: 0.116.. Test Loss: 0.057.. Time: 0.19m\n"
     ]
    },
    {
     "name": "stderr",
     "output_type": "stream",
     "text": [
      "100%|██████████| 238/238 [00:10<00:00, 22.22it/s]\n",
      "100%|██████████| 85/85 [00:00<00:00, 149.88it/s]\n",
      "100%|██████████| 17/17 [00:00<00:00, 147.53it/s]\n"
     ]
    },
    {
     "name": "stdout",
     "output_type": "stream",
     "text": [
      "Loss Decreasing.. 0.114 >> 0.114 \n",
      "saving model...\n",
      "Epoch:59/500.. Train Loss: 0.060.. Val Loss: 0.114.. Test Loss: 0.049.. Time: 0.19m\n"
     ]
    },
    {
     "name": "stderr",
     "output_type": "stream",
     "text": [
      "100%|██████████| 238/238 [00:10<00:00, 21.77it/s]\n",
      "100%|██████████| 85/85 [00:00<00:00, 151.96it/s]\n",
      "100%|██████████| 17/17 [00:00<00:00, 151.90it/s]\n"
     ]
    },
    {
     "name": "stdout",
     "output_type": "stream",
     "text": [
      "Epoch:60/500.. Train Loss: 0.059.. Val Loss: 0.114.. Test Loss: 0.053.. Time: 0.19m\n"
     ]
    },
    {
     "name": "stderr",
     "output_type": "stream",
     "text": [
      "100%|██████████| 238/238 [00:10<00:00, 21.74it/s]\n",
      "100%|██████████| 85/85 [00:00<00:00, 145.12it/s]\n",
      "100%|██████████| 17/17 [00:00<00:00, 136.80it/s]\n"
     ]
    },
    {
     "name": "stdout",
     "output_type": "stream",
     "text": [
      "Epoch:61/500.. Train Loss: 0.059.. Val Loss: 0.116.. Test Loss: 0.047.. Time: 0.19m\n"
     ]
    },
    {
     "name": "stderr",
     "output_type": "stream",
     "text": [
      "100%|██████████| 238/238 [00:10<00:00, 21.88it/s]\n",
      "100%|██████████| 85/85 [00:00<00:00, 151.97it/s]\n",
      "100%|██████████| 17/17 [00:00<00:00, 152.17it/s]\n"
     ]
    },
    {
     "name": "stdout",
     "output_type": "stream",
     "text": [
      "Epoch:62/500.. Train Loss: 0.059.. Val Loss: 0.114.. Test Loss: 0.051.. Time: 0.19m\n"
     ]
    },
    {
     "name": "stderr",
     "output_type": "stream",
     "text": [
      "100%|██████████| 238/238 [00:10<00:00, 22.03it/s]\n",
      "100%|██████████| 85/85 [00:00<00:00, 143.88it/s]\n",
      "100%|██████████| 17/17 [00:00<00:00, 139.10it/s]\n"
     ]
    },
    {
     "name": "stdout",
     "output_type": "stream",
     "text": [
      "Epoch:63/500.. Train Loss: 0.058.. Val Loss: 0.116.. Test Loss: 0.051.. Time: 0.19m\n"
     ]
    },
    {
     "name": "stderr",
     "output_type": "stream",
     "text": [
      "100%|██████████| 238/238 [00:10<00:00, 22.13it/s]\n",
      "100%|██████████| 85/85 [00:00<00:00, 141.40it/s]\n",
      "100%|██████████| 17/17 [00:00<00:00, 138.16it/s]\n"
     ]
    },
    {
     "name": "stdout",
     "output_type": "stream",
     "text": [
      "Loss Decreasing.. 0.114 >> 0.112 \n",
      "saving model...\n",
      "Epoch:64/500.. Train Loss: 0.058.. Val Loss: 0.112.. Test Loss: 0.049.. Time: 0.19m\n"
     ]
    },
    {
     "name": "stderr",
     "output_type": "stream",
     "text": [
      "100%|██████████| 238/238 [00:10<00:00, 21.72it/s]\n",
      "100%|██████████| 85/85 [00:00<00:00, 152.50it/s]\n",
      "100%|██████████| 17/17 [00:00<00:00, 152.06it/s]\n"
     ]
    },
    {
     "name": "stdout",
     "output_type": "stream",
     "text": [
      "Epoch:65/500.. Train Loss: 0.059.. Val Loss: 0.113.. Test Loss: 0.053.. Time: 0.19m\n"
     ]
    },
    {
     "name": "stderr",
     "output_type": "stream",
     "text": [
      "100%|██████████| 238/238 [00:10<00:00, 21.99it/s]\n",
      "100%|██████████| 85/85 [00:00<00:00, 146.95it/s]\n",
      "100%|██████████| 17/17 [00:00<00:00, 147.92it/s]\n"
     ]
    },
    {
     "name": "stdout",
     "output_type": "stream",
     "text": [
      "Loss Decreasing.. 0.112 >> 0.112 \n",
      "saving model...\n",
      "Epoch:66/500.. Train Loss: 0.058.. Val Loss: 0.112.. Test Loss: 0.050.. Time: 0.19m\n"
     ]
    },
    {
     "name": "stderr",
     "output_type": "stream",
     "text": [
      "100%|██████████| 238/238 [00:10<00:00, 22.16it/s]\n",
      "100%|██████████| 85/85 [00:00<00:00, 147.16it/s]\n",
      "100%|██████████| 17/17 [00:00<00:00, 137.70it/s]\n"
     ]
    },
    {
     "name": "stdout",
     "output_type": "stream",
     "text": [
      "Epoch:67/500.. Train Loss: 0.058.. Val Loss: 0.125.. Test Loss: 0.071.. Time: 0.19m\n"
     ]
    },
    {
     "name": "stderr",
     "output_type": "stream",
     "text": [
      "100%|██████████| 238/238 [00:10<00:00, 22.30it/s]\n",
      "100%|██████████| 85/85 [00:00<00:00, 144.57it/s]\n",
      "100%|██████████| 17/17 [00:00<00:00, 145.25it/s]\n"
     ]
    },
    {
     "name": "stdout",
     "output_type": "stream",
     "text": [
      "Epoch:68/500.. Train Loss: 0.058.. Val Loss: 0.113.. Test Loss: 0.052.. Time: 0.19m\n"
     ]
    },
    {
     "name": "stderr",
     "output_type": "stream",
     "text": [
      "100%|██████████| 238/238 [00:10<00:00, 21.94it/s]\n",
      "100%|██████████| 85/85 [00:00<00:00, 152.77it/s]\n",
      "100%|██████████| 17/17 [00:00<00:00, 149.19it/s]\n"
     ]
    },
    {
     "name": "stdout",
     "output_type": "stream",
     "text": [
      "Epoch:69/500.. Train Loss: 0.060.. Val Loss: 0.112.. Test Loss: 0.053.. Time: 0.19m\n"
     ]
    },
    {
     "name": "stderr",
     "output_type": "stream",
     "text": [
      "100%|██████████| 238/238 [00:10<00:00, 22.06it/s]\n",
      "100%|██████████| 85/85 [00:00<00:00, 151.31it/s]\n",
      "100%|██████████| 17/17 [00:00<00:00, 147.41it/s]\n"
     ]
    },
    {
     "name": "stdout",
     "output_type": "stream",
     "text": [
      "Epoch:70/500.. Train Loss: 0.057.. Val Loss: 0.115.. Test Loss: 0.059.. Time: 0.19m\n"
     ]
    },
    {
     "name": "stderr",
     "output_type": "stream",
     "text": [
      "100%|██████████| 238/238 [00:10<00:00, 21.80it/s]\n",
      "100%|██████████| 85/85 [00:00<00:00, 140.31it/s]\n",
      "100%|██████████| 17/17 [00:00<00:00, 140.31it/s]\n"
     ]
    },
    {
     "name": "stdout",
     "output_type": "stream",
     "text": [
      "Epoch:71/500.. Train Loss: 0.057.. Val Loss: 0.113.. Test Loss: 0.053.. Time: 0.19m\n"
     ]
    },
    {
     "name": "stderr",
     "output_type": "stream",
     "text": [
      "100%|██████████| 238/238 [00:10<00:00, 22.20it/s]\n",
      "100%|██████████| 85/85 [00:00<00:00, 146.39it/s]\n",
      "100%|██████████| 17/17 [00:00<00:00, 147.22it/s]\n"
     ]
    },
    {
     "name": "stdout",
     "output_type": "stream",
     "text": [
      "Loss Decreasing.. 0.112 >> 0.112 \n",
      "saving model...\n",
      "Epoch:72/500.. Train Loss: 0.059.. Val Loss: 0.112.. Test Loss: 0.055.. Time: 0.19m\n"
     ]
    },
    {
     "name": "stderr",
     "output_type": "stream",
     "text": [
      "100%|██████████| 238/238 [00:10<00:00, 22.02it/s]\n",
      "100%|██████████| 85/85 [00:00<00:00, 150.83it/s]\n",
      "100%|██████████| 17/17 [00:00<00:00, 139.44it/s]\n"
     ]
    },
    {
     "name": "stdout",
     "output_type": "stream",
     "text": [
      "Epoch:73/500.. Train Loss: 0.057.. Val Loss: 0.115.. Test Loss: 0.054.. Time: 0.19m\n"
     ]
    },
    {
     "name": "stderr",
     "output_type": "stream",
     "text": [
      "100%|██████████| 238/238 [00:11<00:00, 21.61it/s]\n",
      "100%|██████████| 85/85 [00:00<00:00, 147.98it/s]\n",
      "100%|██████████| 17/17 [00:00<00:00, 144.42it/s]\n"
     ]
    },
    {
     "name": "stdout",
     "output_type": "stream",
     "text": [
      "Loss Decreasing.. 0.112 >> 0.110 \n",
      "saving model...\n",
      "Epoch:74/500.. Train Loss: 0.057.. Val Loss: 0.110.. Test Loss: 0.051.. Time: 0.20m\n"
     ]
    },
    {
     "name": "stderr",
     "output_type": "stream",
     "text": [
      "100%|██████████| 238/238 [00:10<00:00, 21.68it/s]\n",
      "100%|██████████| 85/85 [00:00<00:00, 146.55it/s]\n",
      "100%|██████████| 17/17 [00:00<00:00, 144.02it/s]\n"
     ]
    },
    {
     "name": "stdout",
     "output_type": "stream",
     "text": [
      "Epoch:75/500.. Train Loss: 0.057.. Val Loss: 0.116.. Test Loss: 0.051.. Time: 0.19m\n"
     ]
    },
    {
     "name": "stderr",
     "output_type": "stream",
     "text": [
      "100%|██████████| 238/238 [00:10<00:00, 22.14it/s]\n",
      "100%|██████████| 85/85 [00:00<00:00, 150.70it/s]\n",
      "100%|██████████| 17/17 [00:00<00:00, 153.92it/s]\n"
     ]
    },
    {
     "name": "stdout",
     "output_type": "stream",
     "text": [
      "Loss Decreasing.. 0.110 >> 0.109 \n",
      "saving model...\n",
      "Epoch:76/500.. Train Loss: 0.058.. Val Loss: 0.109.. Test Loss: 0.049.. Time: 0.19m\n"
     ]
    },
    {
     "name": "stderr",
     "output_type": "stream",
     "text": [
      "100%|██████████| 238/238 [00:10<00:00, 21.67it/s]\n",
      "100%|██████████| 85/85 [00:00<00:00, 144.29it/s]\n",
      "100%|██████████| 17/17 [00:00<00:00, 146.81it/s]\n"
     ]
    },
    {
     "name": "stdout",
     "output_type": "stream",
     "text": [
      "Epoch:77/500.. Train Loss: 0.057.. Val Loss: 0.112.. Test Loss: 0.057.. Time: 0.19m\n"
     ]
    },
    {
     "name": "stderr",
     "output_type": "stream",
     "text": [
      "100%|██████████| 238/238 [00:11<00:00, 21.44it/s]\n",
      "100%|██████████| 85/85 [00:00<00:00, 145.00it/s]\n",
      "100%|██████████| 17/17 [00:00<00:00, 150.98it/s]\n"
     ]
    },
    {
     "name": "stdout",
     "output_type": "stream",
     "text": [
      "Epoch:78/500.. Train Loss: 0.056.. Val Loss: 0.113.. Test Loss: 0.055.. Time: 0.20m\n"
     ]
    },
    {
     "name": "stderr",
     "output_type": "stream",
     "text": [
      "100%|██████████| 238/238 [00:10<00:00, 22.06it/s]\n",
      "100%|██████████| 85/85 [00:00<00:00, 142.48it/s]\n",
      "100%|██████████| 17/17 [00:00<00:00, 145.20it/s]\n"
     ]
    },
    {
     "name": "stdout",
     "output_type": "stream",
     "text": [
      "Epoch:79/500.. Train Loss: 0.057.. Val Loss: 0.111.. Test Loss: 0.055.. Time: 0.19m\n"
     ]
    },
    {
     "name": "stderr",
     "output_type": "stream",
     "text": [
      "100%|██████████| 238/238 [00:11<00:00, 21.08it/s]\n",
      "100%|██████████| 85/85 [00:00<00:00, 143.87it/s]\n",
      "100%|██████████| 17/17 [00:00<00:00, 141.76it/s]\n"
     ]
    },
    {
     "name": "stdout",
     "output_type": "stream",
     "text": [
      "Epoch:80/500.. Train Loss: 0.057.. Val Loss: 0.110.. Test Loss: 0.052.. Time: 0.20m\n"
     ]
    },
    {
     "name": "stderr",
     "output_type": "stream",
     "text": [
      "100%|██████████| 238/238 [00:10<00:00, 21.91it/s]\n",
      "100%|██████████| 85/85 [00:00<00:00, 148.66it/s]\n",
      "100%|██████████| 17/17 [00:00<00:00, 153.05it/s]\n"
     ]
    },
    {
     "name": "stdout",
     "output_type": "stream",
     "text": [
      "Epoch:81/500.. Train Loss: 0.057.. Val Loss: 0.111.. Test Loss: 0.051.. Time: 0.19m\n"
     ]
    },
    {
     "name": "stderr",
     "output_type": "stream",
     "text": [
      "100%|██████████| 238/238 [00:10<00:00, 21.74it/s]\n",
      "100%|██████████| 85/85 [00:00<00:00, 151.61it/s]\n",
      "100%|██████████| 17/17 [00:00<00:00, 146.76it/s]\n"
     ]
    },
    {
     "name": "stdout",
     "output_type": "stream",
     "text": [
      "Epoch:82/500.. Train Loss: 0.057.. Val Loss: 0.116.. Test Loss: 0.053.. Time: 0.19m\n"
     ]
    },
    {
     "name": "stderr",
     "output_type": "stream",
     "text": [
      "100%|██████████| 238/238 [00:10<00:00, 22.04it/s]\n",
      "100%|██████████| 85/85 [00:00<00:00, 148.44it/s]\n",
      "100%|██████████| 17/17 [00:00<00:00, 144.14it/s]\n"
     ]
    },
    {
     "name": "stdout",
     "output_type": "stream",
     "text": [
      "Epoch:83/500.. Train Loss: 0.057.. Val Loss: 0.112.. Test Loss: 0.050.. Time: 0.19m\n"
     ]
    },
    {
     "name": "stderr",
     "output_type": "stream",
     "text": [
      "100%|██████████| 238/238 [00:10<00:00, 21.75it/s]\n",
      "100%|██████████| 85/85 [00:00<00:00, 153.89it/s]\n",
      "100%|██████████| 17/17 [00:00<00:00, 116.18it/s]\n"
     ]
    },
    {
     "name": "stdout",
     "output_type": "stream",
     "text": [
      "Epoch:84/500.. Train Loss: 0.056.. Val Loss: 0.111.. Test Loss: 0.052.. Time: 0.19m\n"
     ]
    },
    {
     "name": "stderr",
     "output_type": "stream",
     "text": [
      "100%|██████████| 238/238 [00:11<00:00, 21.49it/s]\n",
      "100%|██████████| 85/85 [00:00<00:00, 152.87it/s]\n",
      "100%|██████████| 17/17 [00:00<00:00, 148.18it/s]\n"
     ]
    },
    {
     "name": "stdout",
     "output_type": "stream",
     "text": [
      "Epoch:85/500.. Train Loss: 0.056.. Val Loss: 0.111.. Test Loss: 0.051.. Time: 0.20m\n"
     ]
    },
    {
     "name": "stderr",
     "output_type": "stream",
     "text": [
      "100%|██████████| 238/238 [00:10<00:00, 22.21it/s]\n",
      "100%|██████████| 85/85 [00:00<00:00, 150.51it/s]\n",
      "100%|██████████| 17/17 [00:00<00:00, 151.39it/s]\n"
     ]
    },
    {
     "name": "stdout",
     "output_type": "stream",
     "text": [
      "Epoch:86/500.. Train Loss: 0.057.. Val Loss: 0.114.. Test Loss: 0.052.. Time: 0.19m\n"
     ]
    },
    {
     "name": "stderr",
     "output_type": "stream",
     "text": [
      "100%|██████████| 238/238 [00:10<00:00, 21.97it/s]\n",
      "100%|██████████| 85/85 [00:00<00:00, 145.78it/s]\n",
      "100%|██████████| 17/17 [00:00<00:00, 149.76it/s]\n"
     ]
    },
    {
     "name": "stdout",
     "output_type": "stream",
     "text": [
      "Epoch:87/500.. Train Loss: 0.064.. Val Loss: 0.113.. Test Loss: 0.056.. Time: 0.19m\n"
     ]
    },
    {
     "name": "stderr",
     "output_type": "stream",
     "text": [
      "100%|██████████| 238/238 [00:10<00:00, 22.18it/s]\n",
      "100%|██████████| 85/85 [00:00<00:00, 146.56it/s]\n",
      "100%|██████████| 17/17 [00:00<00:00, 143.22it/s]\n"
     ]
    },
    {
     "name": "stdout",
     "output_type": "stream",
     "text": [
      "Epoch:88/500.. Train Loss: 0.061.. Val Loss: 0.110.. Test Loss: 0.052.. Time: 0.19m\n"
     ]
    },
    {
     "name": "stderr",
     "output_type": "stream",
     "text": [
      "100%|██████████| 238/238 [00:10<00:00, 22.02it/s]\n",
      "100%|██████████| 85/85 [00:00<00:00, 149.76it/s]\n",
      "100%|██████████| 17/17 [00:00<00:00, 151.66it/s]\n"
     ]
    },
    {
     "name": "stdout",
     "output_type": "stream",
     "text": [
      "Epoch:89/500.. Train Loss: 0.061.. Val Loss: 0.111.. Test Loss: 0.050.. Time: 0.19m\n"
     ]
    },
    {
     "name": "stderr",
     "output_type": "stream",
     "text": [
      "100%|██████████| 238/238 [00:10<00:00, 22.25it/s]\n",
      "100%|██████████| 85/85 [00:00<00:00, 153.26it/s]\n",
      "100%|██████████| 17/17 [00:00<00:00, 151.82it/s]\n"
     ]
    },
    {
     "name": "stdout",
     "output_type": "stream",
     "text": [
      "Epoch:90/500.. Train Loss: 0.058.. Val Loss: 0.116.. Test Loss: 0.052.. Time: 0.19m\n"
     ]
    },
    {
     "name": "stderr",
     "output_type": "stream",
     "text": [
      "100%|██████████| 238/238 [00:10<00:00, 21.72it/s]\n",
      "100%|██████████| 85/85 [00:00<00:00, 151.01it/s]\n",
      "100%|██████████| 17/17 [00:00<00:00, 139.22it/s]\n"
     ]
    },
    {
     "name": "stdout",
     "output_type": "stream",
     "text": [
      "Epoch:91/500.. Train Loss: 0.060.. Val Loss: 0.109.. Test Loss: 0.046.. Time: 0.19m\n"
     ]
    },
    {
     "name": "stderr",
     "output_type": "stream",
     "text": [
      "100%|██████████| 238/238 [00:10<00:00, 22.45it/s]\n",
      "100%|██████████| 85/85 [00:00<00:00, 150.61it/s]\n",
      "100%|██████████| 17/17 [00:00<00:00, 137.56it/s]\n"
     ]
    },
    {
     "name": "stdout",
     "output_type": "stream",
     "text": [
      "Epoch:92/500.. Train Loss: 0.058.. Val Loss: 0.113.. Test Loss: 0.045.. Time: 0.19m\n"
     ]
    },
    {
     "name": "stderr",
     "output_type": "stream",
     "text": [
      "100%|██████████| 238/238 [00:10<00:00, 22.15it/s]\n",
      "100%|██████████| 85/85 [00:00<00:00, 141.88it/s]\n",
      "100%|██████████| 17/17 [00:00<00:00, 137.82it/s]\n"
     ]
    },
    {
     "name": "stdout",
     "output_type": "stream",
     "text": [
      "Epoch:93/500.. Train Loss: 0.059.. Val Loss: 0.112.. Test Loss: 0.050.. Time: 0.19m\n"
     ]
    },
    {
     "name": "stderr",
     "output_type": "stream",
     "text": [
      "100%|██████████| 238/238 [00:10<00:00, 22.02it/s]\n",
      "100%|██████████| 85/85 [00:00<00:00, 149.36it/s]\n",
      "100%|██████████| 17/17 [00:00<00:00, 149.69it/s]\n"
     ]
    },
    {
     "name": "stdout",
     "output_type": "stream",
     "text": [
      "Epoch:94/500.. Train Loss: 0.057.. Val Loss: 0.114.. Test Loss: 0.055.. Time: 0.19m\n"
     ]
    },
    {
     "name": "stderr",
     "output_type": "stream",
     "text": [
      "100%|██████████| 238/238 [00:10<00:00, 22.26it/s]\n",
      "100%|██████████| 85/85 [00:00<00:00, 153.49it/s]\n",
      "100%|██████████| 17/17 [00:00<00:00, 148.27it/s]\n"
     ]
    },
    {
     "name": "stdout",
     "output_type": "stream",
     "text": [
      "Epoch:95/500.. Train Loss: 0.056.. Val Loss: 0.111.. Test Loss: 0.049.. Time: 0.19m\n"
     ]
    },
    {
     "name": "stderr",
     "output_type": "stream",
     "text": [
      "100%|██████████| 238/238 [00:11<00:00, 21.15it/s]\n",
      "100%|██████████| 85/85 [00:00<00:00, 144.10it/s]\n",
      "100%|██████████| 17/17 [00:00<00:00, 146.58it/s]\n"
     ]
    },
    {
     "name": "stdout",
     "output_type": "stream",
     "text": [
      "Epoch:96/500.. Train Loss: 0.056.. Val Loss: 0.110.. Test Loss: 0.050.. Time: 0.20m\n"
     ]
    },
    {
     "name": "stderr",
     "output_type": "stream",
     "text": [
      "100%|██████████| 238/238 [00:10<00:00, 22.25it/s]\n",
      "100%|██████████| 85/85 [00:00<00:00, 145.09it/s]\n",
      "100%|██████████| 17/17 [00:00<00:00, 149.03it/s]\n"
     ]
    },
    {
     "name": "stdout",
     "output_type": "stream",
     "text": [
      "Epoch:97/500.. Train Loss: 0.057.. Val Loss: 0.112.. Test Loss: 0.046.. Time: 0.19m\n"
     ]
    },
    {
     "name": "stderr",
     "output_type": "stream",
     "text": [
      "100%|██████████| 238/238 [00:10<00:00, 21.89it/s]\n",
      "100%|██████████| 85/85 [00:00<00:00, 150.86it/s]\n",
      "100%|██████████| 17/17 [00:00<00:00, 148.33it/s]\n"
     ]
    },
    {
     "name": "stdout",
     "output_type": "stream",
     "text": [
      "Epoch:98/500.. Train Loss: 0.057.. Val Loss: 0.113.. Test Loss: 0.049.. Time: 0.19m\n"
     ]
    },
    {
     "name": "stderr",
     "output_type": "stream",
     "text": [
      "100%|██████████| 238/238 [00:10<00:00, 22.04it/s]\n",
      "100%|██████████| 85/85 [00:00<00:00, 153.43it/s]\n",
      "100%|██████████| 17/17 [00:00<00:00, 150.63it/s]\n"
     ]
    },
    {
     "name": "stdout",
     "output_type": "stream",
     "text": [
      "Loss Decreasing.. 0.109 >> 0.108 \n",
      "saving model...\n",
      "Epoch:99/500.. Train Loss: 0.056.. Val Loss: 0.108.. Test Loss: 0.049.. Time: 0.19m\n"
     ]
    },
    {
     "name": "stderr",
     "output_type": "stream",
     "text": [
      "100%|██████████| 238/238 [00:10<00:00, 21.92it/s]\n",
      "100%|██████████| 85/85 [00:00<00:00, 150.87it/s]\n",
      "100%|██████████| 17/17 [00:00<00:00, 148.97it/s]\n"
     ]
    },
    {
     "name": "stdout",
     "output_type": "stream",
     "text": [
      "Epoch:100/500.. Train Loss: 0.056.. Val Loss: 0.111.. Test Loss: 0.051.. Time: 0.19m\n"
     ]
    },
    {
     "name": "stderr",
     "output_type": "stream",
     "text": [
      "100%|██████████| 238/238 [00:10<00:00, 21.93it/s]\n",
      "100%|██████████| 85/85 [00:00<00:00, 145.74it/s]\n",
      "100%|██████████| 17/17 [00:00<00:00, 145.38it/s]\n"
     ]
    },
    {
     "name": "stdout",
     "output_type": "stream",
     "text": [
      "Epoch:101/500.. Train Loss: 0.056.. Val Loss: 0.109.. Test Loss: 0.052.. Time: 0.19m\n"
     ]
    },
    {
     "name": "stderr",
     "output_type": "stream",
     "text": [
      "100%|██████████| 238/238 [00:10<00:00, 22.16it/s]\n",
      "100%|██████████| 85/85 [00:00<00:00, 152.29it/s]\n",
      "100%|██████████| 17/17 [00:00<00:00, 150.76it/s]\n"
     ]
    },
    {
     "name": "stdout",
     "output_type": "stream",
     "text": [
      "Loss Decreasing.. 0.108 >> 0.108 \n",
      "saving model...\n",
      "Epoch:102/500.. Train Loss: 0.056.. Val Loss: 0.108.. Test Loss: 0.051.. Time: 0.19m\n"
     ]
    },
    {
     "name": "stderr",
     "output_type": "stream",
     "text": [
      "100%|██████████| 238/238 [00:10<00:00, 22.35it/s]\n",
      "100%|██████████| 85/85 [00:00<00:00, 152.31it/s]\n",
      "100%|██████████| 17/17 [00:00<00:00, 150.09it/s]\n"
     ]
    },
    {
     "name": "stdout",
     "output_type": "stream",
     "text": [
      "Epoch:103/500.. Train Loss: 0.057.. Val Loss: 0.110.. Test Loss: 0.051.. Time: 0.19m\n"
     ]
    },
    {
     "name": "stderr",
     "output_type": "stream",
     "text": [
      "100%|██████████| 238/238 [00:10<00:00, 21.66it/s]\n",
      "100%|██████████| 85/85 [00:00<00:00, 146.81it/s]\n",
      "100%|██████████| 17/17 [00:00<00:00, 136.60it/s]\n"
     ]
    },
    {
     "name": "stdout",
     "output_type": "stream",
     "text": [
      "Epoch:104/500.. Train Loss: 0.056.. Val Loss: 0.112.. Test Loss: 0.052.. Time: 0.20m\n"
     ]
    },
    {
     "name": "stderr",
     "output_type": "stream",
     "text": [
      "100%|██████████| 238/238 [00:11<00:00, 21.53it/s]\n",
      "100%|██████████| 85/85 [00:00<00:00, 143.44it/s]\n",
      "100%|██████████| 17/17 [00:00<00:00, 150.31it/s]\n"
     ]
    },
    {
     "name": "stdout",
     "output_type": "stream",
     "text": [
      "Epoch:105/500.. Train Loss: 0.056.. Val Loss: 0.113.. Test Loss: 0.050.. Time: 0.20m\n"
     ]
    },
    {
     "name": "stderr",
     "output_type": "stream",
     "text": [
      "100%|██████████| 238/238 [00:10<00:00, 22.10it/s]\n",
      "100%|██████████| 85/85 [00:00<00:00, 151.45it/s]\n",
      "100%|██████████| 17/17 [00:00<00:00, 153.03it/s]\n"
     ]
    },
    {
     "name": "stdout",
     "output_type": "stream",
     "text": [
      "Epoch:106/500.. Train Loss: 0.057.. Val Loss: 0.109.. Test Loss: 0.048.. Time: 0.19m\n"
     ]
    },
    {
     "name": "stderr",
     "output_type": "stream",
     "text": [
      "100%|██████████| 238/238 [00:10<00:00, 21.96it/s]\n",
      "100%|██████████| 85/85 [00:00<00:00, 152.32it/s]\n",
      "100%|██████████| 17/17 [00:00<00:00, 149.40it/s]\n"
     ]
    },
    {
     "name": "stdout",
     "output_type": "stream",
     "text": [
      "Epoch:107/500.. Train Loss: 0.055.. Val Loss: 0.110.. Test Loss: 0.050.. Time: 0.19m\n"
     ]
    },
    {
     "name": "stderr",
     "output_type": "stream",
     "text": [
      "100%|██████████| 238/238 [00:10<00:00, 21.90it/s]\n",
      "100%|██████████| 85/85 [00:00<00:00, 143.98it/s]\n",
      "100%|██████████| 17/17 [00:00<00:00, 142.33it/s]\n"
     ]
    },
    {
     "name": "stdout",
     "output_type": "stream",
     "text": [
      "Epoch:108/500.. Train Loss: 0.056.. Val Loss: 0.118.. Test Loss: 0.055.. Time: 0.19m\n"
     ]
    },
    {
     "name": "stderr",
     "output_type": "stream",
     "text": [
      "100%|██████████| 238/238 [00:10<00:00, 21.95it/s]\n",
      "100%|██████████| 85/85 [00:00<00:00, 140.99it/s]\n",
      "100%|██████████| 17/17 [00:00<00:00, 148.40it/s]\n"
     ]
    },
    {
     "name": "stdout",
     "output_type": "stream",
     "text": [
      "Epoch:109/500.. Train Loss: 0.056.. Val Loss: 0.115.. Test Loss: 0.052.. Time: 0.19m\n"
     ]
    },
    {
     "name": "stderr",
     "output_type": "stream",
     "text": [
      "100%|██████████| 238/238 [00:10<00:00, 22.33it/s]\n",
      "100%|██████████| 85/85 [00:00<00:00, 144.73it/s]\n",
      "100%|██████████| 17/17 [00:00<00:00, 146.05it/s]\n"
     ]
    },
    {
     "name": "stdout",
     "output_type": "stream",
     "text": [
      "Epoch:110/500.. Train Loss: 0.056.. Val Loss: 0.112.. Test Loss: 0.049.. Time: 0.19m\n"
     ]
    },
    {
     "name": "stderr",
     "output_type": "stream",
     "text": [
      "100%|██████████| 238/238 [00:10<00:00, 22.18it/s]\n",
      "100%|██████████| 85/85 [00:00<00:00, 153.50it/s]\n",
      "100%|██████████| 17/17 [00:00<00:00, 149.39it/s]\n"
     ]
    },
    {
     "name": "stdout",
     "output_type": "stream",
     "text": [
      "Epoch:111/500.. Train Loss: 0.059.. Val Loss: 0.110.. Test Loss: 0.050.. Time: 0.19m\n"
     ]
    },
    {
     "name": "stderr",
     "output_type": "stream",
     "text": [
      "100%|██████████| 238/238 [00:10<00:00, 22.23it/s]\n",
      "100%|██████████| 85/85 [00:00<00:00, 150.87it/s]\n",
      "100%|██████████| 17/17 [00:00<00:00, 144.87it/s]\n"
     ]
    },
    {
     "name": "stdout",
     "output_type": "stream",
     "text": [
      "Epoch:112/500.. Train Loss: 0.058.. Val Loss: 0.109.. Test Loss: 0.047.. Time: 0.19m\n"
     ]
    },
    {
     "name": "stderr",
     "output_type": "stream",
     "text": [
      "100%|██████████| 238/238 [00:10<00:00, 21.71it/s]\n",
      "100%|██████████| 85/85 [00:00<00:00, 140.39it/s]\n",
      "100%|██████████| 17/17 [00:00<00:00, 150.71it/s]\n"
     ]
    },
    {
     "name": "stdout",
     "output_type": "stream",
     "text": [
      "Epoch:113/500.. Train Loss: 0.058.. Val Loss: 0.111.. Test Loss: 0.047.. Time: 0.19m\n"
     ]
    },
    {
     "name": "stderr",
     "output_type": "stream",
     "text": [
      "100%|██████████| 238/238 [00:11<00:00, 21.39it/s]\n",
      "100%|██████████| 85/85 [00:00<00:00, 150.09it/s]\n",
      "100%|██████████| 17/17 [00:00<00:00, 150.87it/s]\n"
     ]
    },
    {
     "name": "stdout",
     "output_type": "stream",
     "text": [
      "Epoch:114/500.. Train Loss: 0.057.. Val Loss: 0.110.. Test Loss: 0.049.. Time: 0.20m\n"
     ]
    },
    {
     "name": "stderr",
     "output_type": "stream",
     "text": [
      "100%|██████████| 238/238 [00:10<00:00, 22.18it/s]\n",
      "100%|██████████| 85/85 [00:00<00:00, 151.40it/s]\n",
      "100%|██████████| 17/17 [00:00<00:00, 147.10it/s]\n"
     ]
    },
    {
     "name": "stdout",
     "output_type": "stream",
     "text": [
      "Epoch:115/500.. Train Loss: 0.057.. Val Loss: 0.109.. Test Loss: 0.049.. Time: 0.19m\n"
     ]
    },
    {
     "name": "stderr",
     "output_type": "stream",
     "text": [
      "100%|██████████| 238/238 [00:10<00:00, 22.45it/s]\n",
      "100%|██████████| 85/85 [00:00<00:00, 148.67it/s]\n",
      "100%|██████████| 17/17 [00:00<00:00, 131.13it/s]\n"
     ]
    },
    {
     "name": "stdout",
     "output_type": "stream",
     "text": [
      "Epoch:116/500.. Train Loss: 0.056.. Val Loss: 0.112.. Test Loss: 0.047.. Time: 0.19m\n"
     ]
    },
    {
     "name": "stderr",
     "output_type": "stream",
     "text": [
      "100%|██████████| 238/238 [00:11<00:00, 21.63it/s]\n",
      "100%|██████████| 85/85 [00:00<00:00, 150.06it/s]\n",
      "100%|██████████| 17/17 [00:00<00:00, 146.64it/s]\n"
     ]
    },
    {
     "name": "stdout",
     "output_type": "stream",
     "text": [
      "Epoch:117/500.. Train Loss: 0.056.. Val Loss: 0.110.. Test Loss: 0.048.. Time: 0.19m\n"
     ]
    },
    {
     "name": "stderr",
     "output_type": "stream",
     "text": [
      "100%|██████████| 238/238 [00:11<00:00, 21.50it/s]\n",
      "100%|██████████| 85/85 [00:00<00:00, 150.44it/s]\n",
      "100%|██████████| 17/17 [00:00<00:00, 151.43it/s]\n"
     ]
    },
    {
     "name": "stdout",
     "output_type": "stream",
     "text": [
      "Epoch:118/500.. Train Loss: 0.057.. Val Loss: 0.111.. Test Loss: 0.049.. Time: 0.20m\n"
     ]
    },
    {
     "name": "stderr",
     "output_type": "stream",
     "text": [
      "100%|██████████| 238/238 [00:10<00:00, 22.16it/s]\n",
      "100%|██████████| 85/85 [00:00<00:00, 148.36it/s]\n",
      "100%|██████████| 17/17 [00:00<00:00, 145.18it/s]\n"
     ]
    },
    {
     "name": "stdout",
     "output_type": "stream",
     "text": [
      "Epoch:119/500.. Train Loss: 0.056.. Val Loss: 0.110.. Test Loss: 0.052.. Time: 0.19m\n"
     ]
    },
    {
     "name": "stderr",
     "output_type": "stream",
     "text": [
      "100%|██████████| 238/238 [00:10<00:00, 22.20it/s]\n",
      "100%|██████████| 85/85 [00:00<00:00, 151.11it/s]\n",
      "100%|██████████| 17/17 [00:00<00:00, 147.20it/s]\n"
     ]
    },
    {
     "name": "stdout",
     "output_type": "stream",
     "text": [
      "Epoch:120/500.. Train Loss: 0.056.. Val Loss: 0.109.. Test Loss: 0.048.. Time: 0.19m\n"
     ]
    },
    {
     "name": "stderr",
     "output_type": "stream",
     "text": [
      "100%|██████████| 238/238 [00:10<00:00, 22.14it/s]\n",
      "100%|██████████| 85/85 [00:00<00:00, 152.74it/s]\n",
      "100%|██████████| 17/17 [00:00<00:00, 140.82it/s]\n"
     ]
    },
    {
     "name": "stdout",
     "output_type": "stream",
     "text": [
      "Epoch:121/500.. Train Loss: 0.057.. Val Loss: 0.109.. Test Loss: 0.048.. Time: 0.19m\n"
     ]
    },
    {
     "name": "stderr",
     "output_type": "stream",
     "text": [
      "100%|██████████| 238/238 [00:10<00:00, 22.23it/s]\n",
      "100%|██████████| 85/85 [00:00<00:00, 152.01it/s]\n",
      "100%|██████████| 17/17 [00:00<00:00, 143.03it/s]\n"
     ]
    },
    {
     "name": "stdout",
     "output_type": "stream",
     "text": [
      "Epoch:122/500.. Train Loss: 0.058.. Val Loss: 0.112.. Test Loss: 0.048.. Time: 0.19m\n"
     ]
    },
    {
     "name": "stderr",
     "output_type": "stream",
     "text": [
      "100%|██████████| 238/238 [00:11<00:00, 21.30it/s]\n",
      "100%|██████████| 85/85 [00:00<00:00, 147.66it/s]\n",
      "100%|██████████| 17/17 [00:00<00:00, 144.36it/s]\n"
     ]
    },
    {
     "name": "stdout",
     "output_type": "stream",
     "text": [
      "Epoch:123/500.. Train Loss: 0.060.. Val Loss: 0.109.. Test Loss: 0.046.. Time: 0.20m\n"
     ]
    },
    {
     "name": "stderr",
     "output_type": "stream",
     "text": [
      "100%|██████████| 238/238 [00:10<00:00, 22.41it/s]\n",
      "100%|██████████| 85/85 [00:00<00:00, 150.18it/s]\n",
      "100%|██████████| 17/17 [00:00<00:00, 125.86it/s]\n"
     ]
    },
    {
     "name": "stdout",
     "output_type": "stream",
     "text": [
      "Epoch:124/500.. Train Loss: 0.058.. Val Loss: 0.109.. Test Loss: 0.048.. Time: 0.19m\n"
     ]
    },
    {
     "name": "stderr",
     "output_type": "stream",
     "text": [
      "100%|██████████| 238/238 [00:10<00:00, 22.32it/s]\n",
      "100%|██████████| 85/85 [00:00<00:00, 147.44it/s]\n",
      "100%|██████████| 17/17 [00:00<00:00, 135.76it/s]\n"
     ]
    },
    {
     "name": "stdout",
     "output_type": "stream",
     "text": [
      "Epoch:125/500.. Train Loss: 0.059.. Val Loss: 0.111.. Test Loss: 0.050.. Time: 0.19m\n"
     ]
    },
    {
     "name": "stderr",
     "output_type": "stream",
     "text": [
      "100%|██████████| 238/238 [00:10<00:00, 22.07it/s]\n",
      "100%|██████████| 85/85 [00:00<00:00, 153.09it/s]\n",
      "100%|██████████| 17/17 [00:00<00:00, 142.09it/s]\n"
     ]
    },
    {
     "name": "stdout",
     "output_type": "stream",
     "text": [
      "Epoch:126/500.. Train Loss: 0.057.. Val Loss: 0.110.. Test Loss: 0.048.. Time: 0.19m\n"
     ]
    },
    {
     "name": "stderr",
     "output_type": "stream",
     "text": [
      "100%|██████████| 238/238 [00:10<00:00, 21.83it/s]\n",
      "100%|██████████| 85/85 [00:00<00:00, 150.77it/s]\n",
      "100%|██████████| 17/17 [00:00<00:00, 149.38it/s]\n"
     ]
    },
    {
     "name": "stdout",
     "output_type": "stream",
     "text": [
      "Epoch:127/500.. Train Loss: 0.059.. Val Loss: 0.111.. Test Loss: 0.050.. Time: 0.19m\n"
     ]
    },
    {
     "name": "stderr",
     "output_type": "stream",
     "text": [
      "100%|██████████| 238/238 [00:10<00:00, 22.18it/s]\n",
      "100%|██████████| 85/85 [00:00<00:00, 144.28it/s]\n",
      "100%|██████████| 17/17 [00:00<00:00, 151.45it/s]\n"
     ]
    },
    {
     "name": "stdout",
     "output_type": "stream",
     "text": [
      "Epoch:128/500.. Train Loss: 0.058.. Val Loss: 0.109.. Test Loss: 0.048.. Time: 0.19m\n"
     ]
    },
    {
     "name": "stderr",
     "output_type": "stream",
     "text": [
      "100%|██████████| 238/238 [00:10<00:00, 21.89it/s]\n",
      "100%|██████████| 85/85 [00:00<00:00, 150.97it/s]\n",
      "100%|██████████| 17/17 [00:00<00:00, 150.94it/s]\n"
     ]
    },
    {
     "name": "stdout",
     "output_type": "stream",
     "text": [
      "Epoch:129/500.. Train Loss: 0.057.. Val Loss: 0.111.. Test Loss: 0.049.. Time: 0.19m\n"
     ]
    },
    {
     "name": "stderr",
     "output_type": "stream",
     "text": [
      "100%|██████████| 238/238 [00:10<00:00, 22.23it/s]\n",
      "100%|██████████| 85/85 [00:00<00:00, 149.19it/s]\n",
      "100%|██████████| 17/17 [00:00<00:00, 141.18it/s]\n"
     ]
    },
    {
     "name": "stdout",
     "output_type": "stream",
     "text": [
      "Epoch:130/500.. Train Loss: 0.057.. Val Loss: 0.109.. Test Loss: 0.047.. Time: 0.19m\n"
     ]
    },
    {
     "name": "stderr",
     "output_type": "stream",
     "text": [
      "100%|██████████| 238/238 [00:10<00:00, 21.95it/s]\n",
      "100%|██████████| 85/85 [00:00<00:00, 151.48it/s]\n",
      "100%|██████████| 17/17 [00:00<00:00, 140.98it/s]\n"
     ]
    },
    {
     "name": "stdout",
     "output_type": "stream",
     "text": [
      "Epoch:131/500.. Train Loss: 0.057.. Val Loss: 0.111.. Test Loss: 0.048.. Time: 0.19m\n"
     ]
    },
    {
     "name": "stderr",
     "output_type": "stream",
     "text": [
      "100%|██████████| 238/238 [00:10<00:00, 21.69it/s]\n",
      "100%|██████████| 85/85 [00:00<00:00, 147.13it/s]\n",
      "100%|██████████| 17/17 [00:00<00:00, 142.53it/s]\n"
     ]
    },
    {
     "name": "stdout",
     "output_type": "stream",
     "text": [
      "Loss Decreasing.. 0.108 >> 0.108 \n",
      "saving model...\n",
      "Epoch:132/500.. Train Loss: 0.057.. Val Loss: 0.108.. Test Loss: 0.049.. Time: 0.20m\n"
     ]
    },
    {
     "name": "stderr",
     "output_type": "stream",
     "text": [
      "100%|██████████| 238/238 [00:11<00:00, 21.59it/s]\n",
      "100%|██████████| 85/85 [00:00<00:00, 151.19it/s]\n",
      "100%|██████████| 17/17 [00:00<00:00, 139.86it/s]\n"
     ]
    },
    {
     "name": "stdout",
     "output_type": "stream",
     "text": [
      "Epoch:133/500.. Train Loss: 0.057.. Val Loss: 0.109.. Test Loss: 0.050.. Time: 0.20m\n"
     ]
    },
    {
     "name": "stderr",
     "output_type": "stream",
     "text": [
      "100%|██████████| 238/238 [00:10<00:00, 22.00it/s]\n",
      "100%|██████████| 85/85 [00:00<00:00, 151.59it/s]\n",
      "100%|██████████| 17/17 [00:00<00:00, 151.76it/s]\n"
     ]
    },
    {
     "name": "stdout",
     "output_type": "stream",
     "text": [
      "Epoch:134/500.. Train Loss: 0.057.. Val Loss: 0.110.. Test Loss: 0.050.. Time: 0.19m\n"
     ]
    },
    {
     "name": "stderr",
     "output_type": "stream",
     "text": [
      "100%|██████████| 238/238 [00:10<00:00, 21.86it/s]\n",
      "100%|██████████| 85/85 [00:00<00:00, 147.46it/s]\n",
      "100%|██████████| 17/17 [00:00<00:00, 143.09it/s]\n"
     ]
    },
    {
     "name": "stdout",
     "output_type": "stream",
     "text": [
      "Epoch:135/500.. Train Loss: 0.057.. Val Loss: 0.110.. Test Loss: 0.049.. Time: 0.19m\n"
     ]
    },
    {
     "name": "stderr",
     "output_type": "stream",
     "text": [
      "100%|██████████| 238/238 [00:10<00:00, 21.84it/s]\n",
      "100%|██████████| 85/85 [00:00<00:00, 148.97it/s]\n",
      "100%|██████████| 17/17 [00:00<00:00, 130.43it/s]\n"
     ]
    },
    {
     "name": "stdout",
     "output_type": "stream",
     "text": [
      "Epoch:136/500.. Train Loss: 0.056.. Val Loss: 0.110.. Test Loss: 0.048.. Time: 0.19m\n"
     ]
    },
    {
     "name": "stderr",
     "output_type": "stream",
     "text": [
      "100%|██████████| 238/238 [00:10<00:00, 22.33it/s]\n",
      "100%|██████████| 85/85 [00:00<00:00, 147.40it/s]\n",
      "100%|██████████| 17/17 [00:00<00:00, 149.82it/s]\n"
     ]
    },
    {
     "name": "stdout",
     "output_type": "stream",
     "text": [
      "Epoch:137/500.. Train Loss: 0.056.. Val Loss: 0.110.. Test Loss: 0.052.. Time: 0.19m\n"
     ]
    },
    {
     "name": "stderr",
     "output_type": "stream",
     "text": [
      "100%|██████████| 238/238 [00:10<00:00, 22.13it/s]\n",
      "100%|██████████| 85/85 [00:00<00:00, 152.95it/s]\n",
      "100%|██████████| 17/17 [00:00<00:00, 146.04it/s]\n"
     ]
    },
    {
     "name": "stdout",
     "output_type": "stream",
     "text": [
      "Epoch:138/500.. Train Loss: 0.058.. Val Loss: 0.109.. Test Loss: 0.049.. Time: 0.19m\n"
     ]
    },
    {
     "name": "stderr",
     "output_type": "stream",
     "text": [
      "100%|██████████| 238/238 [00:10<00:00, 22.25it/s]\n",
      "100%|██████████| 85/85 [00:00<00:00, 151.79it/s]\n",
      "100%|██████████| 17/17 [00:00<00:00, 150.63it/s]\n"
     ]
    },
    {
     "name": "stdout",
     "output_type": "stream",
     "text": [
      "Epoch:139/500.. Train Loss: 0.056.. Val Loss: 0.110.. Test Loss: 0.050.. Time: 0.19m\n"
     ]
    },
    {
     "name": "stderr",
     "output_type": "stream",
     "text": [
      "100%|██████████| 238/238 [00:10<00:00, 21.95it/s]\n",
      "100%|██████████| 85/85 [00:00<00:00, 146.21it/s]\n",
      "100%|██████████| 17/17 [00:00<00:00, 127.23it/s]\n"
     ]
    },
    {
     "name": "stdout",
     "output_type": "stream",
     "text": [
      "Epoch:140/500.. Train Loss: 0.057.. Val Loss: 0.109.. Test Loss: 0.048.. Time: 0.19m\n"
     ]
    },
    {
     "name": "stderr",
     "output_type": "stream",
     "text": [
      "100%|██████████| 238/238 [00:10<00:00, 21.92it/s]\n",
      "100%|██████████| 85/85 [00:00<00:00, 150.11it/s]\n",
      "100%|██████████| 17/17 [00:00<00:00, 150.00it/s]\n"
     ]
    },
    {
     "name": "stdout",
     "output_type": "stream",
     "text": [
      "Epoch:141/500.. Train Loss: 0.056.. Val Loss: 0.110.. Test Loss: 0.051.. Time: 0.19m\n"
     ]
    },
    {
     "name": "stderr",
     "output_type": "stream",
     "text": [
      "100%|██████████| 238/238 [00:11<00:00, 21.62it/s]\n",
      "100%|██████████| 85/85 [00:00<00:00, 149.42it/s]\n",
      "100%|██████████| 17/17 [00:00<00:00, 149.93it/s]\n"
     ]
    },
    {
     "name": "stdout",
     "output_type": "stream",
     "text": [
      "Loss Decreasing.. 0.108 >> 0.108 \n",
      "saving model...\n",
      "Epoch:142/500.. Train Loss: 0.058.. Val Loss: 0.108.. Test Loss: 0.049.. Time: 0.20m\n"
     ]
    },
    {
     "name": "stderr",
     "output_type": "stream",
     "text": [
      "100%|██████████| 238/238 [00:10<00:00, 22.10it/s]\n",
      "100%|██████████| 85/85 [00:00<00:00, 151.24it/s]\n",
      "100%|██████████| 17/17 [00:00<00:00, 145.46it/s]\n"
     ]
    },
    {
     "name": "stdout",
     "output_type": "stream",
     "text": [
      "Epoch:143/500.. Train Loss: 0.060.. Val Loss: 0.112.. Test Loss: 0.048.. Time: 0.19m\n"
     ]
    },
    {
     "name": "stderr",
     "output_type": "stream",
     "text": [
      "100%|██████████| 238/238 [00:10<00:00, 22.00it/s]\n",
      "100%|██████████| 85/85 [00:00<00:00, 149.76it/s]\n",
      "100%|██████████| 17/17 [00:00<00:00, 147.17it/s]\n"
     ]
    },
    {
     "name": "stdout",
     "output_type": "stream",
     "text": [
      "Epoch:144/500.. Train Loss: 0.059.. Val Loss: 0.112.. Test Loss: 0.049.. Time: 0.19m\n"
     ]
    },
    {
     "name": "stderr",
     "output_type": "stream",
     "text": [
      "100%|██████████| 238/238 [00:11<00:00, 21.52it/s]\n",
      "100%|██████████| 85/85 [00:00<00:00, 143.50it/s]\n",
      "100%|██████████| 17/17 [00:00<00:00, 141.90it/s]\n"
     ]
    },
    {
     "name": "stdout",
     "output_type": "stream",
     "text": [
      "Epoch:145/500.. Train Loss: 0.058.. Val Loss: 0.112.. Test Loss: 0.047.. Time: 0.20m\n"
     ]
    },
    {
     "name": "stderr",
     "output_type": "stream",
     "text": [
      "100%|██████████| 238/238 [00:10<00:00, 22.16it/s]\n",
      "100%|██████████| 85/85 [00:00<00:00, 150.09it/s]\n",
      "100%|██████████| 17/17 [00:00<00:00, 151.07it/s]\n"
     ]
    },
    {
     "name": "stdout",
     "output_type": "stream",
     "text": [
      "Epoch:146/500.. Train Loss: 0.058.. Val Loss: 0.112.. Test Loss: 0.049.. Time: 0.19m\n"
     ]
    },
    {
     "name": "stderr",
     "output_type": "stream",
     "text": [
      "100%|██████████| 238/238 [00:10<00:00, 22.36it/s]\n",
      "100%|██████████| 85/85 [00:00<00:00, 150.66it/s]\n",
      "100%|██████████| 17/17 [00:00<00:00, 146.33it/s]\n"
     ]
    },
    {
     "name": "stdout",
     "output_type": "stream",
     "text": [
      "Epoch:147/500.. Train Loss: 0.058.. Val Loss: 0.111.. Test Loss: 0.047.. Time: 0.19m\n"
     ]
    },
    {
     "name": "stderr",
     "output_type": "stream",
     "text": [
      "100%|██████████| 238/238 [00:10<00:00, 22.22it/s]\n",
      "100%|██████████| 85/85 [00:00<00:00, 149.41it/s]\n",
      "100%|██████████| 17/17 [00:00<00:00, 148.69it/s]\n"
     ]
    },
    {
     "name": "stdout",
     "output_type": "stream",
     "text": [
      "Epoch:148/500.. Train Loss: 0.058.. Val Loss: 0.112.. Test Loss: 0.050.. Time: 0.19m\n"
     ]
    },
    {
     "name": "stderr",
     "output_type": "stream",
     "text": [
      "100%|██████████| 238/238 [00:10<00:00, 22.33it/s]\n",
      "100%|██████████| 85/85 [00:00<00:00, 150.75it/s]\n",
      "100%|██████████| 17/17 [00:00<00:00, 148.86it/s]\n"
     ]
    },
    {
     "name": "stdout",
     "output_type": "stream",
     "text": [
      "Epoch:149/500.. Train Loss: 0.058.. Val Loss: 0.112.. Test Loss: 0.047.. Time: 0.19m\n"
     ]
    },
    {
     "name": "stderr",
     "output_type": "stream",
     "text": [
      "100%|██████████| 238/238 [00:10<00:00, 21.73it/s]\n",
      "100%|██████████| 85/85 [00:00<00:00, 152.35it/s]\n",
      "100%|██████████| 17/17 [00:00<00:00, 151.53it/s]\n"
     ]
    },
    {
     "name": "stdout",
     "output_type": "stream",
     "text": [
      "Epoch:150/500.. Train Loss: 0.062.. Val Loss: 0.112.. Test Loss: 0.046.. Time: 0.19m\n"
     ]
    },
    {
     "name": "stderr",
     "output_type": "stream",
     "text": [
      "100%|██████████| 238/238 [00:10<00:00, 22.21it/s]\n",
      "100%|██████████| 85/85 [00:00<00:00, 148.86it/s]\n",
      "100%|██████████| 17/17 [00:00<00:00, 138.66it/s]\n"
     ]
    },
    {
     "name": "stdout",
     "output_type": "stream",
     "text": [
      "Epoch:151/500.. Train Loss: 0.059.. Val Loss: 0.112.. Test Loss: 0.047.. Time: 0.19m\n"
     ]
    },
    {
     "name": "stderr",
     "output_type": "stream",
     "text": [
      "100%|██████████| 238/238 [00:10<00:00, 21.87it/s]\n",
      "100%|██████████| 85/85 [00:00<00:00, 150.96it/s]\n",
      "100%|██████████| 17/17 [00:00<00:00, 146.42it/s]\n"
     ]
    },
    {
     "name": "stdout",
     "output_type": "stream",
     "text": [
      "Epoch:152/500.. Train Loss: 0.059.. Val Loss: 0.112.. Test Loss: 0.047.. Time: 0.19m\n"
     ]
    },
    {
     "name": "stderr",
     "output_type": "stream",
     "text": [
      "100%|██████████| 238/238 [00:10<00:00, 22.52it/s]\n",
      "100%|██████████| 85/85 [00:00<00:00, 150.48it/s]\n",
      "100%|██████████| 17/17 [00:00<00:00, 148.79it/s]\n"
     ]
    },
    {
     "name": "stdout",
     "output_type": "stream",
     "text": [
      "Epoch:153/500.. Train Loss: 0.059.. Val Loss: 0.112.. Test Loss: 0.048.. Time: 0.19m\n"
     ]
    },
    {
     "name": "stderr",
     "output_type": "stream",
     "text": [
      "100%|██████████| 238/238 [00:10<00:00, 21.95it/s]\n",
      "100%|██████████| 85/85 [00:00<00:00, 149.31it/s]\n",
      "100%|██████████| 17/17 [00:00<00:00, 149.25it/s]\n"
     ]
    },
    {
     "name": "stdout",
     "output_type": "stream",
     "text": [
      "Epoch:154/500.. Train Loss: 0.058.. Val Loss: 0.115.. Test Loss: 0.048.. Time: 0.19m\n"
     ]
    },
    {
     "name": "stderr",
     "output_type": "stream",
     "text": [
      "100%|██████████| 238/238 [00:10<00:00, 21.94it/s]\n",
      "100%|██████████| 85/85 [00:00<00:00, 148.86it/s]\n",
      "100%|██████████| 17/17 [00:00<00:00, 149.47it/s]\n"
     ]
    },
    {
     "name": "stdout",
     "output_type": "stream",
     "text": [
      "Epoch:155/500.. Train Loss: 0.059.. Val Loss: 0.112.. Test Loss: 0.046.. Time: 0.19m\n"
     ]
    },
    {
     "name": "stderr",
     "output_type": "stream",
     "text": [
      "100%|██████████| 238/238 [00:10<00:00, 22.11it/s]\n",
      "100%|██████████| 85/85 [00:00<00:00, 154.08it/s]\n",
      "100%|██████████| 17/17 [00:00<00:00, 148.61it/s]\n"
     ]
    },
    {
     "name": "stdout",
     "output_type": "stream",
     "text": [
      "Epoch:156/500.. Train Loss: 0.059.. Val Loss: 0.112.. Test Loss: 0.047.. Time: 0.19m\n"
     ]
    },
    {
     "name": "stderr",
     "output_type": "stream",
     "text": [
      "100%|██████████| 238/238 [00:10<00:00, 22.87it/s]\n",
      "100%|██████████| 85/85 [00:00<00:00, 152.57it/s]\n",
      "100%|██████████| 17/17 [00:00<00:00, 144.44it/s]\n"
     ]
    },
    {
     "name": "stdout",
     "output_type": "stream",
     "text": [
      "Epoch:157/500.. Train Loss: 0.059.. Val Loss: 0.112.. Test Loss: 0.047.. Time: 0.18m\n"
     ]
    },
    {
     "name": "stderr",
     "output_type": "stream",
     "text": [
      "100%|██████████| 238/238 [00:09<00:00, 23.96it/s]\n",
      "100%|██████████| 85/85 [00:00<00:00, 174.74it/s]\n",
      "100%|██████████| 17/17 [00:00<00:00, 174.18it/s]\n"
     ]
    },
    {
     "name": "stdout",
     "output_type": "stream",
     "text": [
      "Epoch:158/500.. Train Loss: 0.059.. Val Loss: 0.112.. Test Loss: 0.048.. Time: 0.18m\n"
     ]
    },
    {
     "name": "stderr",
     "output_type": "stream",
     "text": [
      "100%|██████████| 238/238 [00:10<00:00, 23.62it/s]\n",
      "100%|██████████| 85/85 [00:00<00:00, 172.96it/s]\n",
      "100%|██████████| 17/17 [00:00<00:00, 172.14it/s]\n"
     ]
    },
    {
     "name": "stdout",
     "output_type": "stream",
     "text": [
      "Epoch:159/500.. Train Loss: 0.059.. Val Loss: 0.112.. Test Loss: 0.048.. Time: 0.18m\n"
     ]
    },
    {
     "name": "stderr",
     "output_type": "stream",
     "text": [
      "100%|██████████| 238/238 [00:09<00:00, 24.09it/s]\n",
      "100%|██████████| 85/85 [00:00<00:00, 174.33it/s]\n",
      "100%|██████████| 17/17 [00:00<00:00, 174.81it/s]\n"
     ]
    },
    {
     "name": "stdout",
     "output_type": "stream",
     "text": [
      "Epoch:160/500.. Train Loss: 0.059.. Val Loss: 0.112.. Test Loss: 0.046.. Time: 0.17m\n"
     ]
    },
    {
     "name": "stderr",
     "output_type": "stream",
     "text": [
      "100%|██████████| 238/238 [00:09<00:00, 23.99it/s]\n",
      "100%|██████████| 85/85 [00:00<00:00, 172.32it/s]\n",
      "100%|██████████| 17/17 [00:00<00:00, 174.11it/s]\n"
     ]
    },
    {
     "name": "stdout",
     "output_type": "stream",
     "text": [
      "Epoch:161/500.. Train Loss: 0.059.. Val Loss: 0.112.. Test Loss: 0.047.. Time: 0.18m\n"
     ]
    },
    {
     "name": "stderr",
     "output_type": "stream",
     "text": [
      "100%|██████████| 238/238 [00:09<00:00, 23.90it/s]\n",
      "100%|██████████| 85/85 [00:00<00:00, 168.46it/s]\n",
      "100%|██████████| 17/17 [00:00<00:00, 167.11it/s]\n"
     ]
    },
    {
     "name": "stdout",
     "output_type": "stream",
     "text": [
      "Epoch:162/500.. Train Loss: 0.059.. Val Loss: 0.112.. Test Loss: 0.046.. Time: 0.18m\n"
     ]
    },
    {
     "name": "stderr",
     "output_type": "stream",
     "text": [
      "100%|██████████| 238/238 [00:10<00:00, 23.62it/s]\n",
      "100%|██████████| 85/85 [00:00<00:00, 169.52it/s]\n",
      "100%|██████████| 17/17 [00:00<00:00, 170.97it/s]\n"
     ]
    },
    {
     "name": "stdout",
     "output_type": "stream",
     "text": [
      "Epoch:163/500.. Train Loss: 0.059.. Val Loss: 0.112.. Test Loss: 0.046.. Time: 0.18m\n"
     ]
    },
    {
     "name": "stderr",
     "output_type": "stream",
     "text": [
      "100%|██████████| 238/238 [00:09<00:00, 23.94it/s]\n",
      "100%|██████████| 85/85 [00:00<00:00, 173.11it/s]\n",
      "100%|██████████| 17/17 [00:00<00:00, 173.57it/s]\n"
     ]
    },
    {
     "name": "stdout",
     "output_type": "stream",
     "text": [
      "Epoch:164/500.. Train Loss: 0.059.. Val Loss: 0.112.. Test Loss: 0.047.. Time: 0.18m\n"
     ]
    },
    {
     "name": "stderr",
     "output_type": "stream",
     "text": [
      "100%|██████████| 238/238 [00:09<00:00, 24.04it/s]\n",
      "100%|██████████| 85/85 [00:00<00:00, 168.37it/s]\n",
      "100%|██████████| 17/17 [00:00<00:00, 170.25it/s]\n"
     ]
    },
    {
     "name": "stdout",
     "output_type": "stream",
     "text": [
      "Epoch:165/500.. Train Loss: 0.059.. Val Loss: 0.112.. Test Loss: 0.048.. Time: 0.18m\n"
     ]
    },
    {
     "name": "stderr",
     "output_type": "stream",
     "text": [
      "100%|██████████| 238/238 [00:09<00:00, 24.13it/s]\n",
      "100%|██████████| 85/85 [00:00<00:00, 167.16it/s]\n",
      "100%|██████████| 17/17 [00:00<00:00, 171.04it/s]\n"
     ]
    },
    {
     "name": "stdout",
     "output_type": "stream",
     "text": [
      "Epoch:166/500.. Train Loss: 0.059.. Val Loss: 0.112.. Test Loss: 0.046.. Time: 0.17m\n"
     ]
    },
    {
     "name": "stderr",
     "output_type": "stream",
     "text": [
      "100%|██████████| 238/238 [00:09<00:00, 24.03it/s]\n",
      "100%|██████████| 85/85 [00:00<00:00, 168.71it/s]\n",
      "100%|██████████| 17/17 [00:00<00:00, 164.25it/s]\n"
     ]
    },
    {
     "name": "stdout",
     "output_type": "stream",
     "text": [
      "Epoch:167/500.. Train Loss: 0.059.. Val Loss: 0.112.. Test Loss: 0.047.. Time: 0.18m\n"
     ]
    },
    {
     "name": "stderr",
     "output_type": "stream",
     "text": [
      "100%|██████████| 238/238 [00:10<00:00, 23.68it/s]\n",
      "100%|██████████| 85/85 [00:00<00:00, 168.32it/s]\n",
      "100%|██████████| 17/17 [00:00<00:00, 173.01it/s]\n"
     ]
    },
    {
     "name": "stdout",
     "output_type": "stream",
     "text": [
      "Epoch:168/500.. Train Loss: 0.059.. Val Loss: 0.112.. Test Loss: 0.049.. Time: 0.18m\n"
     ]
    },
    {
     "name": "stderr",
     "output_type": "stream",
     "text": [
      "100%|██████████| 238/238 [00:09<00:00, 24.14it/s]\n",
      "100%|██████████| 85/85 [00:00<00:00, 160.74it/s]\n",
      "100%|██████████| 17/17 [00:00<00:00, 170.08it/s]\n"
     ]
    },
    {
     "name": "stdout",
     "output_type": "stream",
     "text": [
      "Epoch:169/500.. Train Loss: 0.059.. Val Loss: 0.112.. Test Loss: 0.047.. Time: 0.17m\n"
     ]
    },
    {
     "name": "stderr",
     "output_type": "stream",
     "text": [
      "100%|██████████| 238/238 [00:09<00:00, 24.08it/s]\n",
      "100%|██████████| 85/85 [00:00<00:00, 173.57it/s]\n",
      "100%|██████████| 17/17 [00:00<00:00, 173.98it/s]\n"
     ]
    },
    {
     "name": "stdout",
     "output_type": "stream",
     "text": [
      "Epoch:170/500.. Train Loss: 0.059.. Val Loss: 0.112.. Test Loss: 0.047.. Time: 0.17m\n"
     ]
    },
    {
     "name": "stderr",
     "output_type": "stream",
     "text": [
      "100%|██████████| 238/238 [00:09<00:00, 24.02it/s]\n",
      "100%|██████████| 85/85 [00:00<00:00, 170.52it/s]\n",
      "100%|██████████| 17/17 [00:00<00:00, 172.47it/s]\n"
     ]
    },
    {
     "name": "stdout",
     "output_type": "stream",
     "text": [
      "Epoch:171/500.. Train Loss: 0.059.. Val Loss: 0.112.. Test Loss: 0.047.. Time: 0.18m\n"
     ]
    },
    {
     "name": "stderr",
     "output_type": "stream",
     "text": [
      "100%|██████████| 238/238 [00:10<00:00, 23.78it/s]\n",
      "100%|██████████| 85/85 [00:00<00:00, 173.63it/s]\n",
      "100%|██████████| 17/17 [00:00<00:00, 173.61it/s]\n"
     ]
    },
    {
     "name": "stdout",
     "output_type": "stream",
     "text": [
      "Epoch:172/500.. Train Loss: 0.059.. Val Loss: 0.112.. Test Loss: 0.046.. Time: 0.18m\n"
     ]
    },
    {
     "name": "stderr",
     "output_type": "stream",
     "text": [
      "100%|██████████| 238/238 [00:09<00:00, 24.02it/s]\n",
      "100%|██████████| 85/85 [00:00<00:00, 173.32it/s]\n",
      "100%|██████████| 17/17 [00:00<00:00, 167.79it/s]\n"
     ]
    },
    {
     "name": "stdout",
     "output_type": "stream",
     "text": [
      "Epoch:173/500.. Train Loss: 0.059.. Val Loss: 0.113.. Test Loss: 0.049.. Time: 0.18m\n"
     ]
    },
    {
     "name": "stderr",
     "output_type": "stream",
     "text": [
      "100%|██████████| 238/238 [00:09<00:00, 24.15it/s]\n",
      "100%|██████████| 85/85 [00:00<00:00, 172.00it/s]\n",
      "100%|██████████| 17/17 [00:00<00:00, 170.21it/s]\n"
     ]
    },
    {
     "name": "stdout",
     "output_type": "stream",
     "text": [
      "Epoch:174/500.. Train Loss: 0.059.. Val Loss: 0.113.. Test Loss: 0.047.. Time: 0.17m\n"
     ]
    },
    {
     "name": "stderr",
     "output_type": "stream",
     "text": [
      "100%|██████████| 238/238 [00:09<00:00, 24.00it/s]\n",
      "100%|██████████| 85/85 [00:00<00:00, 170.30it/s]\n",
      "100%|██████████| 17/17 [00:00<00:00, 173.23it/s]\n"
     ]
    },
    {
     "name": "stdout",
     "output_type": "stream",
     "text": [
      "Epoch:175/500.. Train Loss: 0.059.. Val Loss: 0.112.. Test Loss: 0.049.. Time: 0.18m\n"
     ]
    },
    {
     "name": "stderr",
     "output_type": "stream",
     "text": [
      "100%|██████████| 238/238 [00:10<00:00, 23.19it/s]\n",
      "100%|██████████| 85/85 [00:00<00:00, 173.98it/s]\n",
      "100%|██████████| 17/17 [00:00<00:00, 173.41it/s]\n"
     ]
    },
    {
     "name": "stdout",
     "output_type": "stream",
     "text": [
      "Epoch:176/500.. Train Loss: 0.059.. Val Loss: 0.112.. Test Loss: 0.047.. Time: 0.18m\n"
     ]
    },
    {
     "name": "stderr",
     "output_type": "stream",
     "text": [
      "100%|██████████| 238/238 [00:10<00:00, 23.64it/s]\n",
      "100%|██████████| 85/85 [00:00<00:00, 170.34it/s]\n",
      "100%|██████████| 17/17 [00:00<00:00, 174.81it/s]\n"
     ]
    },
    {
     "name": "stdout",
     "output_type": "stream",
     "text": [
      "Epoch:177/500.. Train Loss: 0.059.. Val Loss: 0.113.. Test Loss: 0.049.. Time: 0.18m\n"
     ]
    },
    {
     "name": "stderr",
     "output_type": "stream",
     "text": [
      "100%|██████████| 238/238 [00:09<00:00, 23.93it/s]\n",
      "100%|██████████| 85/85 [00:00<00:00, 170.48it/s]\n",
      "100%|██████████| 17/17 [00:00<00:00, 171.65it/s]\n"
     ]
    },
    {
     "name": "stdout",
     "output_type": "stream",
     "text": [
      "Epoch:178/500.. Train Loss: 0.059.. Val Loss: 0.113.. Test Loss: 0.048.. Time: 0.18m\n"
     ]
    },
    {
     "name": "stderr",
     "output_type": "stream",
     "text": [
      "100%|██████████| 238/238 [00:09<00:00, 23.91it/s]\n",
      "100%|██████████| 85/85 [00:00<00:00, 172.02it/s]\n",
      "100%|██████████| 17/17 [00:00<00:00, 173.76it/s]\n"
     ]
    },
    {
     "name": "stdout",
     "output_type": "stream",
     "text": [
      "Epoch:179/500.. Train Loss: 0.059.. Val Loss: 0.112.. Test Loss: 0.047.. Time: 0.18m\n"
     ]
    },
    {
     "name": "stderr",
     "output_type": "stream",
     "text": [
      "100%|██████████| 238/238 [00:09<00:00, 24.09it/s]\n",
      "100%|██████████| 85/85 [00:00<00:00, 172.39it/s]\n",
      "100%|██████████| 17/17 [00:00<00:00, 161.48it/s]\n"
     ]
    },
    {
     "name": "stdout",
     "output_type": "stream",
     "text": [
      "Epoch:180/500.. Train Loss: 0.059.. Val Loss: 0.112.. Test Loss: 0.048.. Time: 0.17m\n"
     ]
    },
    {
     "name": "stderr",
     "output_type": "stream",
     "text": [
      "100%|██████████| 238/238 [00:10<00:00, 23.78it/s]\n",
      "100%|██████████| 85/85 [00:00<00:00, 173.92it/s]\n",
      "100%|██████████| 17/17 [00:00<00:00, 171.27it/s]\n"
     ]
    },
    {
     "name": "stdout",
     "output_type": "stream",
     "text": [
      "Epoch:181/500.. Train Loss: 0.059.. Val Loss: 0.112.. Test Loss: 0.049.. Time: 0.18m\n"
     ]
    },
    {
     "name": "stderr",
     "output_type": "stream",
     "text": [
      "100%|██████████| 238/238 [00:09<00:00, 24.07it/s]\n",
      "100%|██████████| 85/85 [00:00<00:00, 173.64it/s]\n",
      "100%|██████████| 17/17 [00:00<00:00, 171.38it/s]\n"
     ]
    },
    {
     "name": "stdout",
     "output_type": "stream",
     "text": [
      "Epoch:182/500.. Train Loss: 0.059.. Val Loss: 0.112.. Test Loss: 0.047.. Time: 0.17m\n"
     ]
    },
    {
     "name": "stderr",
     "output_type": "stream",
     "text": [
      "100%|██████████| 238/238 [00:09<00:00, 24.01it/s]\n",
      "100%|██████████| 85/85 [00:00<00:00, 173.12it/s]\n",
      "100%|██████████| 17/17 [00:00<00:00, 153.52it/s]\n"
     ]
    },
    {
     "name": "stdout",
     "output_type": "stream",
     "text": [
      "Epoch:183/500.. Train Loss: 0.059.. Val Loss: 0.113.. Test Loss: 0.049.. Time: 0.18m\n"
     ]
    },
    {
     "name": "stderr",
     "output_type": "stream",
     "text": [
      "100%|██████████| 238/238 [00:09<00:00, 23.88it/s]\n",
      "100%|██████████| 85/85 [00:00<00:00, 169.84it/s]\n",
      "100%|██████████| 17/17 [00:00<00:00, 171.81it/s]\n"
     ]
    },
    {
     "name": "stdout",
     "output_type": "stream",
     "text": [
      "Epoch:184/500.. Train Loss: 0.059.. Val Loss: 0.112.. Test Loss: 0.047.. Time: 0.18m\n"
     ]
    },
    {
     "name": "stderr",
     "output_type": "stream",
     "text": [
      "100%|██████████| 238/238 [00:09<00:00, 23.88it/s]\n",
      "100%|██████████| 85/85 [00:00<00:00, 173.62it/s]\n",
      "100%|██████████| 17/17 [00:00<00:00, 174.92it/s]\n"
     ]
    },
    {
     "name": "stdout",
     "output_type": "stream",
     "text": [
      "Epoch:185/500.. Train Loss: 0.059.. Val Loss: 0.112.. Test Loss: 0.048.. Time: 0.18m\n"
     ]
    },
    {
     "name": "stderr",
     "output_type": "stream",
     "text": [
      "100%|██████████| 238/238 [00:10<00:00, 23.54it/s]\n",
      "100%|██████████| 85/85 [00:00<00:00, 171.56it/s]\n",
      "100%|██████████| 17/17 [00:00<00:00, 159.75it/s]\n"
     ]
    },
    {
     "name": "stdout",
     "output_type": "stream",
     "text": [
      "Epoch:186/500.. Train Loss: 0.059.. Val Loss: 0.112.. Test Loss: 0.047.. Time: 0.18m\n"
     ]
    },
    {
     "name": "stderr",
     "output_type": "stream",
     "text": [
      "100%|██████████| 238/238 [00:09<00:00, 23.92it/s]\n",
      "100%|██████████| 85/85 [00:00<00:00, 174.20it/s]\n",
      "100%|██████████| 17/17 [00:00<00:00, 167.82it/s]\n"
     ]
    },
    {
     "name": "stdout",
     "output_type": "stream",
     "text": [
      "Epoch:187/500.. Train Loss: 0.059.. Val Loss: 0.112.. Test Loss: 0.046.. Time: 0.18m\n"
     ]
    },
    {
     "name": "stderr",
     "output_type": "stream",
     "text": [
      "100%|██████████| 238/238 [00:09<00:00, 23.88it/s]\n",
      "100%|██████████| 85/85 [00:00<00:00, 171.99it/s]\n",
      "100%|██████████| 17/17 [00:00<00:00, 173.09it/s]\n"
     ]
    },
    {
     "name": "stdout",
     "output_type": "stream",
     "text": [
      "Epoch:188/500.. Train Loss: 0.059.. Val Loss: 0.112.. Test Loss: 0.047.. Time: 0.18m\n"
     ]
    },
    {
     "name": "stderr",
     "output_type": "stream",
     "text": [
      "100%|██████████| 238/238 [00:10<00:00, 23.56it/s]\n",
      "100%|██████████| 85/85 [00:00<00:00, 173.00it/s]\n",
      "100%|██████████| 17/17 [00:00<00:00, 151.25it/s]\n"
     ]
    },
    {
     "name": "stdout",
     "output_type": "stream",
     "text": [
      "Epoch:189/500.. Train Loss: 0.059.. Val Loss: 0.112.. Test Loss: 0.049.. Time: 0.18m\n"
     ]
    },
    {
     "name": "stderr",
     "output_type": "stream",
     "text": [
      "100%|██████████| 238/238 [00:09<00:00, 23.82it/s]\n",
      "100%|██████████| 85/85 [00:00<00:00, 171.32it/s]\n",
      "100%|██████████| 17/17 [00:00<00:00, 171.22it/s]\n"
     ]
    },
    {
     "name": "stdout",
     "output_type": "stream",
     "text": [
      "Epoch:190/500.. Train Loss: 0.059.. Val Loss: 0.112.. Test Loss: 0.049.. Time: 0.18m\n"
     ]
    },
    {
     "name": "stderr",
     "output_type": "stream",
     "text": [
      "100%|██████████| 238/238 [00:09<00:00, 24.21it/s]\n",
      "100%|██████████| 85/85 [00:00<00:00, 173.85it/s]\n",
      "100%|██████████| 17/17 [00:00<00:00, 173.41it/s]\n"
     ]
    },
    {
     "name": "stdout",
     "output_type": "stream",
     "text": [
      "Epoch:191/500.. Train Loss: 0.059.. Val Loss: 0.113.. Test Loss: 0.047.. Time: 0.17m\n"
     ]
    },
    {
     "name": "stderr",
     "output_type": "stream",
     "text": [
      "100%|██████████| 238/238 [00:10<00:00, 23.77it/s]\n",
      "100%|██████████| 85/85 [00:00<00:00, 171.46it/s]\n",
      "100%|██████████| 17/17 [00:00<00:00, 172.48it/s]\n"
     ]
    },
    {
     "name": "stdout",
     "output_type": "stream",
     "text": [
      "Epoch:192/500.. Train Loss: 0.060.. Val Loss: 0.112.. Test Loss: 0.047.. Time: 0.18m\n"
     ]
    },
    {
     "name": "stderr",
     "output_type": "stream",
     "text": [
      "100%|██████████| 238/238 [00:09<00:00, 24.03it/s]\n",
      "100%|██████████| 85/85 [00:00<00:00, 173.63it/s]\n",
      "100%|██████████| 17/17 [00:00<00:00, 174.22it/s]\n"
     ]
    },
    {
     "name": "stdout",
     "output_type": "stream",
     "text": [
      "Epoch:193/500.. Train Loss: 0.059.. Val Loss: 0.112.. Test Loss: 0.047.. Time: 0.18m\n"
     ]
    },
    {
     "name": "stderr",
     "output_type": "stream",
     "text": [
      "100%|██████████| 238/238 [00:09<00:00, 23.96it/s]\n",
      "100%|██████████| 85/85 [00:00<00:00, 172.19it/s]\n",
      "100%|██████████| 17/17 [00:00<00:00, 167.69it/s]\n"
     ]
    },
    {
     "name": "stdout",
     "output_type": "stream",
     "text": [
      "Epoch:194/500.. Train Loss: 0.059.. Val Loss: 0.113.. Test Loss: 0.047.. Time: 0.18m\n"
     ]
    },
    {
     "name": "stderr",
     "output_type": "stream",
     "text": [
      "100%|██████████| 238/238 [00:10<00:00, 23.64it/s]\n",
      "100%|██████████| 85/85 [00:00<00:00, 170.67it/s]\n",
      "100%|██████████| 17/17 [00:00<00:00, 170.39it/s]\n"
     ]
    },
    {
     "name": "stdout",
     "output_type": "stream",
     "text": [
      "Epoch:195/500.. Train Loss: 0.058.. Val Loss: 0.114.. Test Loss: 0.047.. Time: 0.18m\n"
     ]
    },
    {
     "name": "stderr",
     "output_type": "stream",
     "text": [
      "100%|██████████| 238/238 [00:09<00:00, 24.00it/s]\n",
      "100%|██████████| 85/85 [00:00<00:00, 173.59it/s]\n",
      "100%|██████████| 17/17 [00:00<00:00, 172.02it/s]\n"
     ]
    },
    {
     "name": "stdout",
     "output_type": "stream",
     "text": [
      "Epoch:196/500.. Train Loss: 0.059.. Val Loss: 0.112.. Test Loss: 0.047.. Time: 0.18m\n"
     ]
    },
    {
     "name": "stderr",
     "output_type": "stream",
     "text": [
      "100%|██████████| 238/238 [00:09<00:00, 23.90it/s]\n",
      "100%|██████████| 85/85 [00:00<00:00, 171.79it/s]\n",
      "100%|██████████| 17/17 [00:00<00:00, 172.97it/s]\n"
     ]
    },
    {
     "name": "stdout",
     "output_type": "stream",
     "text": [
      "Epoch:197/500.. Train Loss: 0.058.. Val Loss: 0.112.. Test Loss: 0.047.. Time: 0.18m\n"
     ]
    },
    {
     "name": "stderr",
     "output_type": "stream",
     "text": [
      "100%|██████████| 238/238 [00:09<00:00, 24.14it/s]\n",
      "100%|██████████| 85/85 [00:00<00:00, 167.74it/s]\n",
      "100%|██████████| 17/17 [00:00<00:00, 170.81it/s]\n"
     ]
    },
    {
     "name": "stdout",
     "output_type": "stream",
     "text": [
      "Epoch:198/500.. Train Loss: 0.059.. Val Loss: 0.112.. Test Loss: 0.046.. Time: 0.17m\n"
     ]
    },
    {
     "name": "stderr",
     "output_type": "stream",
     "text": [
      "100%|██████████| 238/238 [00:10<00:00, 23.75it/s]\n",
      "100%|██████████| 85/85 [00:00<00:00, 166.34it/s]\n",
      "100%|██████████| 17/17 [00:00<00:00, 170.88it/s]\n"
     ]
    },
    {
     "name": "stdout",
     "output_type": "stream",
     "text": [
      "Epoch:199/500.. Train Loss: 0.059.. Val Loss: 0.112.. Test Loss: 0.047.. Time: 0.18m\n"
     ]
    },
    {
     "name": "stderr",
     "output_type": "stream",
     "text": [
      "100%|██████████| 238/238 [00:10<00:00, 23.64it/s]\n",
      "100%|██████████| 85/85 [00:00<00:00, 163.13it/s]\n",
      "100%|██████████| 17/17 [00:00<00:00, 170.59it/s]\n"
     ]
    },
    {
     "name": "stdout",
     "output_type": "stream",
     "text": [
      "Epoch:200/500.. Train Loss: 0.059.. Val Loss: 0.112.. Test Loss: 0.046.. Time: 0.18m\n"
     ]
    },
    {
     "name": "stderr",
     "output_type": "stream",
     "text": [
      "100%|██████████| 238/238 [00:09<00:00, 23.94it/s]\n",
      "100%|██████████| 85/85 [00:00<00:00, 165.10it/s]\n",
      "100%|██████████| 17/17 [00:00<00:00, 147.21it/s]\n"
     ]
    },
    {
     "name": "stdout",
     "output_type": "stream",
     "text": [
      "Epoch:201/500.. Train Loss: 0.059.. Val Loss: 0.112.. Test Loss: 0.046.. Time: 0.18m\n"
     ]
    },
    {
     "name": "stderr",
     "output_type": "stream",
     "text": [
      "100%|██████████| 238/238 [00:10<00:00, 21.76it/s]\n",
      "100%|██████████| 85/85 [00:00<00:00, 152.53it/s]\n",
      "100%|██████████| 17/17 [00:00<00:00, 151.64it/s]\n"
     ]
    },
    {
     "name": "stdout",
     "output_type": "stream",
     "text": [
      "Epoch:202/500.. Train Loss: 0.059.. Val Loss: 0.112.. Test Loss: 0.046.. Time: 0.19m\n"
     ]
    },
    {
     "name": "stderr",
     "output_type": "stream",
     "text": [
      "100%|██████████| 238/238 [00:11<00:00, 21.49it/s]\n",
      "100%|██████████| 85/85 [00:00<00:00, 151.46it/s]\n",
      "100%|██████████| 17/17 [00:00<00:00, 127.94it/s]\n"
     ]
    },
    {
     "name": "stdout",
     "output_type": "stream",
     "text": [
      "Epoch:203/500.. Train Loss: 0.059.. Val Loss: 0.112.. Test Loss: 0.047.. Time: 0.20m\n"
     ]
    },
    {
     "name": "stderr",
     "output_type": "stream",
     "text": [
      "100%|██████████| 238/238 [00:10<00:00, 21.82it/s]\n",
      "100%|██████████| 85/85 [00:00<00:00, 148.00it/s]\n",
      "100%|██████████| 17/17 [00:00<00:00, 136.16it/s]\n"
     ]
    },
    {
     "name": "stdout",
     "output_type": "stream",
     "text": [
      "Epoch:204/500.. Train Loss: 0.058.. Val Loss: 0.112.. Test Loss: 0.048.. Time: 0.19m\n"
     ]
    },
    {
     "name": "stderr",
     "output_type": "stream",
     "text": [
      "100%|██████████| 238/238 [00:10<00:00, 22.06it/s]\n",
      "100%|██████████| 85/85 [00:00<00:00, 150.18it/s]\n",
      "100%|██████████| 17/17 [00:00<00:00, 141.43it/s]\n"
     ]
    },
    {
     "name": "stdout",
     "output_type": "stream",
     "text": [
      "Epoch:205/500.. Train Loss: 0.059.. Val Loss: 0.112.. Test Loss: 0.046.. Time: 0.19m\n"
     ]
    },
    {
     "name": "stderr",
     "output_type": "stream",
     "text": [
      "100%|██████████| 238/238 [00:10<00:00, 22.19it/s]\n",
      "100%|██████████| 85/85 [00:00<00:00, 149.91it/s]\n",
      "100%|██████████| 17/17 [00:00<00:00, 139.72it/s]\n"
     ]
    },
    {
     "name": "stdout",
     "output_type": "stream",
     "text": [
      "Epoch:206/500.. Train Loss: 0.058.. Val Loss: 0.112.. Test Loss: 0.047.. Time: 0.19m\n"
     ]
    },
    {
     "name": "stderr",
     "output_type": "stream",
     "text": [
      "100%|██████████| 238/238 [00:10<00:00, 21.90it/s]\n",
      "100%|██████████| 85/85 [00:00<00:00, 146.89it/s]\n",
      "100%|██████████| 17/17 [00:00<00:00, 119.90it/s]\n"
     ]
    },
    {
     "name": "stdout",
     "output_type": "stream",
     "text": [
      "Epoch:207/500.. Train Loss: 0.059.. Val Loss: 0.112.. Test Loss: 0.046.. Time: 0.19m\n"
     ]
    },
    {
     "name": "stderr",
     "output_type": "stream",
     "text": [
      "100%|██████████| 238/238 [00:11<00:00, 21.60it/s]\n",
      "100%|██████████| 85/85 [00:00<00:00, 150.23it/s]\n",
      "100%|██████████| 17/17 [00:00<00:00, 136.89it/s]\n"
     ]
    },
    {
     "name": "stdout",
     "output_type": "stream",
     "text": [
      "Epoch:208/500.. Train Loss: 0.059.. Val Loss: 0.112.. Test Loss: 0.046.. Time: 0.20m\n"
     ]
    },
    {
     "name": "stderr",
     "output_type": "stream",
     "text": [
      "100%|██████████| 238/238 [00:10<00:00, 22.48it/s]\n",
      "100%|██████████| 85/85 [00:00<00:00, 151.47it/s]\n",
      "100%|██████████| 17/17 [00:00<00:00, 149.02it/s]\n"
     ]
    },
    {
     "name": "stdout",
     "output_type": "stream",
     "text": [
      "Epoch:209/500.. Train Loss: 0.059.. Val Loss: 0.112.. Test Loss: 0.048.. Time: 0.19m\n"
     ]
    },
    {
     "name": "stderr",
     "output_type": "stream",
     "text": [
      "100%|██████████| 238/238 [00:10<00:00, 22.20it/s]\n",
      "100%|██████████| 85/85 [00:00<00:00, 152.83it/s]\n",
      "100%|██████████| 17/17 [00:00<00:00, 144.91it/s]\n"
     ]
    },
    {
     "name": "stdout",
     "output_type": "stream",
     "text": [
      "Epoch:210/500.. Train Loss: 0.059.. Val Loss: 0.112.. Test Loss: 0.047.. Time: 0.19m\n"
     ]
    },
    {
     "name": "stderr",
     "output_type": "stream",
     "text": [
      "100%|██████████| 238/238 [00:10<00:00, 22.35it/s]\n",
      "100%|██████████| 85/85 [00:00<00:00, 149.86it/s]\n",
      "100%|██████████| 17/17 [00:00<00:00, 139.39it/s]\n"
     ]
    },
    {
     "name": "stdout",
     "output_type": "stream",
     "text": [
      "Epoch:211/500.. Train Loss: 0.059.. Val Loss: 0.112.. Test Loss: 0.048.. Time: 0.19m\n"
     ]
    },
    {
     "name": "stderr",
     "output_type": "stream",
     "text": [
      "100%|██████████| 238/238 [00:10<00:00, 21.71it/s]\n",
      "100%|██████████| 85/85 [00:00<00:00, 150.75it/s]\n",
      "100%|██████████| 17/17 [00:00<00:00, 141.08it/s]\n"
     ]
    },
    {
     "name": "stdout",
     "output_type": "stream",
     "text": [
      "Epoch:212/500.. Train Loss: 0.059.. Val Loss: 0.113.. Test Loss: 0.046.. Time: 0.19m\n"
     ]
    },
    {
     "name": "stderr",
     "output_type": "stream",
     "text": [
      "100%|██████████| 238/238 [00:10<00:00, 22.21it/s]\n",
      "100%|██████████| 85/85 [00:00<00:00, 151.97it/s]\n",
      "100%|██████████| 17/17 [00:00<00:00, 151.44it/s]\n"
     ]
    },
    {
     "name": "stdout",
     "output_type": "stream",
     "text": [
      "Epoch:213/500.. Train Loss: 0.062.. Val Loss: 0.113.. Test Loss: 0.046.. Time: 0.19m\n"
     ]
    },
    {
     "name": "stderr",
     "output_type": "stream",
     "text": [
      "100%|██████████| 238/238 [00:10<00:00, 22.11it/s]\n",
      "100%|██████████| 85/85 [00:00<00:00, 148.96it/s]\n",
      "100%|██████████| 17/17 [00:00<00:00, 142.58it/s]\n"
     ]
    },
    {
     "name": "stdout",
     "output_type": "stream",
     "text": [
      "Epoch:214/500.. Train Loss: 0.059.. Val Loss: 0.112.. Test Loss: 0.046.. Time: 0.19m\n"
     ]
    },
    {
     "name": "stderr",
     "output_type": "stream",
     "text": [
      "100%|██████████| 238/238 [00:10<00:00, 22.20it/s]\n",
      "100%|██████████| 85/85 [00:00<00:00, 153.37it/s]\n",
      "100%|██████████| 17/17 [00:00<00:00, 149.44it/s]\n"
     ]
    },
    {
     "name": "stdout",
     "output_type": "stream",
     "text": [
      "Epoch:215/500.. Train Loss: 0.059.. Val Loss: 0.112.. Test Loss: 0.046.. Time: 0.19m\n"
     ]
    },
    {
     "name": "stderr",
     "output_type": "stream",
     "text": [
      "100%|██████████| 238/238 [00:10<00:00, 22.22it/s]\n",
      "100%|██████████| 85/85 [00:00<00:00, 147.95it/s]\n",
      "100%|██████████| 17/17 [00:00<00:00, 153.85it/s]\n"
     ]
    },
    {
     "name": "stdout",
     "output_type": "stream",
     "text": [
      "Epoch:216/500.. Train Loss: 0.058.. Val Loss: 0.114.. Test Loss: 0.046.. Time: 0.19m\n"
     ]
    },
    {
     "name": "stderr",
     "output_type": "stream",
     "text": [
      "100%|██████████| 238/238 [00:10<00:00, 21.70it/s]\n",
      "100%|██████████| 85/85 [00:00<00:00, 152.71it/s]\n",
      "100%|██████████| 17/17 [00:00<00:00, 151.10it/s]\n"
     ]
    },
    {
     "name": "stdout",
     "output_type": "stream",
     "text": [
      "Epoch:217/500.. Train Loss: 0.058.. Val Loss: 0.112.. Test Loss: 0.046.. Time: 0.19m\n"
     ]
    },
    {
     "name": "stderr",
     "output_type": "stream",
     "text": [
      "100%|██████████| 238/238 [00:10<00:00, 22.31it/s]\n",
      "100%|██████████| 85/85 [00:00<00:00, 146.02it/s]\n",
      "100%|██████████| 17/17 [00:00<00:00, 150.82it/s]\n"
     ]
    },
    {
     "name": "stdout",
     "output_type": "stream",
     "text": [
      "Epoch:218/500.. Train Loss: 0.059.. Val Loss: 0.112.. Test Loss: 0.047.. Time: 0.19m\n"
     ]
    },
    {
     "name": "stderr",
     "output_type": "stream",
     "text": [
      "100%|██████████| 238/238 [00:10<00:00, 22.30it/s]\n",
      "100%|██████████| 85/85 [00:00<00:00, 151.88it/s]\n",
      "100%|██████████| 17/17 [00:00<00:00, 149.14it/s]\n"
     ]
    },
    {
     "name": "stdout",
     "output_type": "stream",
     "text": [
      "Epoch:219/500.. Train Loss: 0.059.. Val Loss: 0.112.. Test Loss: 0.046.. Time: 0.19m\n"
     ]
    },
    {
     "name": "stderr",
     "output_type": "stream",
     "text": [
      "100%|██████████| 238/238 [00:09<00:00, 23.89it/s]\n",
      "100%|██████████| 85/85 [00:00<00:00, 150.59it/s]\n",
      "100%|██████████| 17/17 [00:00<00:00, 144.85it/s]\n"
     ]
    },
    {
     "name": "stdout",
     "output_type": "stream",
     "text": [
      "Epoch:220/500.. Train Loss: 0.059.. Val Loss: 0.112.. Test Loss: 0.047.. Time: 0.18m\n"
     ]
    },
    {
     "name": "stderr",
     "output_type": "stream",
     "text": [
      "100%|██████████| 238/238 [00:10<00:00, 21.95it/s]\n",
      "100%|██████████| 85/85 [00:00<00:00, 150.45it/s]\n",
      "100%|██████████| 17/17 [00:00<00:00, 155.11it/s]\n"
     ]
    },
    {
     "name": "stdout",
     "output_type": "stream",
     "text": [
      "Epoch:221/500.. Train Loss: 0.058.. Val Loss: 0.115.. Test Loss: 0.046.. Time: 0.19m\n"
     ]
    },
    {
     "name": "stderr",
     "output_type": "stream",
     "text": [
      "100%|██████████| 238/238 [00:11<00:00, 21.24it/s]\n",
      "100%|██████████| 85/85 [00:00<00:00, 149.94it/s]\n",
      "100%|██████████| 17/17 [00:00<00:00, 149.62it/s]\n"
     ]
    },
    {
     "name": "stdout",
     "output_type": "stream",
     "text": [
      "Epoch:222/500.. Train Loss: 0.059.. Val Loss: 0.112.. Test Loss: 0.046.. Time: 0.20m\n"
     ]
    },
    {
     "name": "stderr",
     "output_type": "stream",
     "text": [
      "100%|██████████| 238/238 [00:10<00:00, 21.99it/s]\n",
      "100%|██████████| 85/85 [00:00<00:00, 148.16it/s]\n",
      "100%|██████████| 17/17 [00:00<00:00, 149.99it/s]\n"
     ]
    },
    {
     "name": "stdout",
     "output_type": "stream",
     "text": [
      "Epoch:223/500.. Train Loss: 0.059.. Val Loss: 0.116.. Test Loss: 0.046.. Time: 0.19m\n"
     ]
    },
    {
     "name": "stderr",
     "output_type": "stream",
     "text": [
      "100%|██████████| 238/238 [00:10<00:00, 22.27it/s]\n",
      "100%|██████████| 85/85 [00:00<00:00, 142.47it/s]\n",
      "100%|██████████| 17/17 [00:00<00:00, 148.32it/s]\n"
     ]
    },
    {
     "name": "stdout",
     "output_type": "stream",
     "text": [
      "Epoch:224/500.. Train Loss: 0.059.. Val Loss: 0.113.. Test Loss: 0.047.. Time: 0.19m\n"
     ]
    },
    {
     "name": "stderr",
     "output_type": "stream",
     "text": [
      "100%|██████████| 238/238 [00:10<00:00, 22.05it/s]\n",
      "100%|██████████| 85/85 [00:00<00:00, 147.47it/s]\n",
      "100%|██████████| 17/17 [00:00<00:00, 148.88it/s]\n"
     ]
    },
    {
     "name": "stdout",
     "output_type": "stream",
     "text": [
      "Epoch:225/500.. Train Loss: 0.059.. Val Loss: 0.112.. Test Loss: 0.048.. Time: 0.19m\n"
     ]
    },
    {
     "name": "stderr",
     "output_type": "stream",
     "text": [
      "100%|██████████| 238/238 [00:10<00:00, 21.97it/s]\n",
      "100%|██████████| 85/85 [00:00<00:00, 148.92it/s]\n",
      "100%|██████████| 17/17 [00:00<00:00, 140.85it/s]\n"
     ]
    },
    {
     "name": "stdout",
     "output_type": "stream",
     "text": [
      "Epoch:226/500.. Train Loss: 0.059.. Val Loss: 0.112.. Test Loss: 0.046.. Time: 0.19m\n"
     ]
    },
    {
     "name": "stderr",
     "output_type": "stream",
     "text": [
      "100%|██████████| 238/238 [00:10<00:00, 22.32it/s]\n",
      "100%|██████████| 85/85 [00:00<00:00, 148.34it/s]\n",
      "100%|██████████| 17/17 [00:00<00:00, 149.23it/s]\n"
     ]
    },
    {
     "name": "stdout",
     "output_type": "stream",
     "text": [
      "Epoch:227/500.. Train Loss: 0.058.. Val Loss: 0.113.. Test Loss: 0.048.. Time: 0.19m\n"
     ]
    },
    {
     "name": "stderr",
     "output_type": "stream",
     "text": [
      "100%|██████████| 238/238 [00:10<00:00, 22.35it/s]\n",
      "100%|██████████| 85/85 [00:00<00:00, 152.04it/s]\n",
      "100%|██████████| 17/17 [00:00<00:00, 147.69it/s]\n"
     ]
    },
    {
     "name": "stdout",
     "output_type": "stream",
     "text": [
      "Epoch:228/500.. Train Loss: 0.059.. Val Loss: 0.113.. Test Loss: 0.047.. Time: 0.19m\n"
     ]
    },
    {
     "name": "stderr",
     "output_type": "stream",
     "text": [
      "100%|██████████| 238/238 [00:10<00:00, 22.22it/s]\n",
      "100%|██████████| 85/85 [00:00<00:00, 151.15it/s]\n",
      "100%|██████████| 17/17 [00:00<00:00, 150.79it/s]\n"
     ]
    },
    {
     "name": "stdout",
     "output_type": "stream",
     "text": [
      "Epoch:229/500.. Train Loss: 0.059.. Val Loss: 0.112.. Test Loss: 0.048.. Time: 0.19m\n"
     ]
    },
    {
     "name": "stderr",
     "output_type": "stream",
     "text": [
      "100%|██████████| 238/238 [00:10<00:00, 21.83it/s]\n",
      "100%|██████████| 85/85 [00:00<00:00, 152.06it/s]\n",
      "100%|██████████| 17/17 [00:00<00:00, 148.95it/s]\n"
     ]
    },
    {
     "name": "stdout",
     "output_type": "stream",
     "text": [
      "Epoch:230/500.. Train Loss: 0.059.. Val Loss: 0.112.. Test Loss: 0.047.. Time: 0.19m\n"
     ]
    },
    {
     "name": "stderr",
     "output_type": "stream",
     "text": [
      "100%|██████████| 238/238 [00:10<00:00, 21.87it/s]\n",
      "100%|██████████| 85/85 [00:00<00:00, 152.69it/s]\n",
      "100%|██████████| 17/17 [00:00<00:00, 151.29it/s]\n"
     ]
    },
    {
     "name": "stdout",
     "output_type": "stream",
     "text": [
      "Epoch:231/500.. Train Loss: 0.059.. Val Loss: 0.112.. Test Loss: 0.047.. Time: 0.19m\n"
     ]
    },
    {
     "name": "stderr",
     "output_type": "stream",
     "text": [
      "100%|██████████| 238/238 [00:11<00:00, 21.63it/s]\n",
      "100%|██████████| 85/85 [00:00<00:00, 149.43it/s]\n",
      "100%|██████████| 17/17 [00:00<00:00, 141.13it/s]\n"
     ]
    },
    {
     "name": "stdout",
     "output_type": "stream",
     "text": [
      "Epoch:232/500.. Train Loss: 0.059.. Val Loss: 0.112.. Test Loss: 0.048.. Time: 0.20m\n"
     ]
    },
    {
     "name": "stderr",
     "output_type": "stream",
     "text": [
      "100%|██████████| 238/238 [00:11<00:00, 21.36it/s]\n",
      "100%|██████████| 85/85 [00:00<00:00, 149.58it/s]\n",
      "100%|██████████| 17/17 [00:00<00:00, 140.38it/s]\n"
     ]
    },
    {
     "name": "stdout",
     "output_type": "stream",
     "text": [
      "Epoch:233/500.. Train Loss: 0.059.. Val Loss: 0.112.. Test Loss: 0.047.. Time: 0.20m\n"
     ]
    },
    {
     "name": "stderr",
     "output_type": "stream",
     "text": [
      "100%|██████████| 238/238 [00:10<00:00, 21.90it/s]\n",
      "100%|██████████| 85/85 [00:00<00:00, 147.29it/s]\n",
      "100%|██████████| 17/17 [00:00<00:00, 141.26it/s]\n"
     ]
    },
    {
     "name": "stdout",
     "output_type": "stream",
     "text": [
      "Epoch:234/500.. Train Loss: 0.058.. Val Loss: 0.112.. Test Loss: 0.048.. Time: 0.19m\n"
     ]
    },
    {
     "name": "stderr",
     "output_type": "stream",
     "text": [
      "100%|██████████| 238/238 [00:10<00:00, 21.80it/s]\n",
      "100%|██████████| 85/85 [00:00<00:00, 151.83it/s]\n",
      "100%|██████████| 17/17 [00:00<00:00, 144.94it/s]\n"
     ]
    },
    {
     "name": "stdout",
     "output_type": "stream",
     "text": [
      "Epoch:235/500.. Train Loss: 0.058.. Val Loss: 0.112.. Test Loss: 0.046.. Time: 0.19m\n"
     ]
    },
    {
     "name": "stderr",
     "output_type": "stream",
     "text": [
      "100%|██████████| 238/238 [00:10<00:00, 22.08it/s]\n",
      "100%|██████████| 85/85 [00:00<00:00, 150.90it/s]\n",
      "100%|██████████| 17/17 [00:00<00:00, 140.45it/s]\n"
     ]
    },
    {
     "name": "stdout",
     "output_type": "stream",
     "text": [
      "Epoch:236/500.. Train Loss: 0.059.. Val Loss: 0.112.. Test Loss: 0.047.. Time: 0.19m\n"
     ]
    },
    {
     "name": "stderr",
     "output_type": "stream",
     "text": [
      "100%|██████████| 238/238 [00:10<00:00, 22.04it/s]\n",
      "100%|██████████| 85/85 [00:00<00:00, 145.26it/s]\n",
      "100%|██████████| 17/17 [00:00<00:00, 151.27it/s]\n"
     ]
    },
    {
     "name": "stdout",
     "output_type": "stream",
     "text": [
      "Epoch:237/500.. Train Loss: 0.059.. Val Loss: 0.112.. Test Loss: 0.047.. Time: 0.19m\n"
     ]
    },
    {
     "name": "stderr",
     "output_type": "stream",
     "text": [
      "100%|██████████| 238/238 [00:10<00:00, 22.47it/s]\n",
      "100%|██████████| 85/85 [00:00<00:00, 148.94it/s]\n",
      "100%|██████████| 17/17 [00:00<00:00, 147.48it/s]\n"
     ]
    },
    {
     "name": "stdout",
     "output_type": "stream",
     "text": [
      "Epoch:238/500.. Train Loss: 0.059.. Val Loss: 0.112.. Test Loss: 0.048.. Time: 0.19m\n"
     ]
    },
    {
     "name": "stderr",
     "output_type": "stream",
     "text": [
      "100%|██████████| 238/238 [00:10<00:00, 22.08it/s]\n",
      "100%|██████████| 85/85 [00:00<00:00, 152.25it/s]\n",
      "100%|██████████| 17/17 [00:00<00:00, 149.92it/s]\n"
     ]
    },
    {
     "name": "stdout",
     "output_type": "stream",
     "text": [
      "Epoch:239/500.. Train Loss: 0.059.. Val Loss: 0.112.. Test Loss: 0.046.. Time: 0.19m\n"
     ]
    },
    {
     "name": "stderr",
     "output_type": "stream",
     "text": [
      "100%|██████████| 238/238 [00:10<00:00, 22.11it/s]\n",
      "100%|██████████| 85/85 [00:00<00:00, 148.36it/s]\n",
      "100%|██████████| 17/17 [00:00<00:00, 140.46it/s]\n"
     ]
    },
    {
     "name": "stdout",
     "output_type": "stream",
     "text": [
      "Epoch:240/500.. Train Loss: 0.058.. Val Loss: 0.112.. Test Loss: 0.047.. Time: 0.19m\n"
     ]
    },
    {
     "name": "stderr",
     "output_type": "stream",
     "text": [
      "100%|██████████| 238/238 [00:10<00:00, 22.35it/s]\n",
      "100%|██████████| 85/85 [00:00<00:00, 151.35it/s]\n",
      "100%|██████████| 17/17 [00:00<00:00, 146.46it/s]\n"
     ]
    },
    {
     "name": "stdout",
     "output_type": "stream",
     "text": [
      "Epoch:241/500.. Train Loss: 0.058.. Val Loss: 0.113.. Test Loss: 0.046.. Time: 0.19m\n"
     ]
    },
    {
     "name": "stderr",
     "output_type": "stream",
     "text": [
      "100%|██████████| 238/238 [00:10<00:00, 21.99it/s]\n",
      "100%|██████████| 85/85 [00:00<00:00, 151.45it/s]\n",
      "100%|██████████| 17/17 [00:00<00:00, 152.05it/s]\n"
     ]
    },
    {
     "name": "stdout",
     "output_type": "stream",
     "text": [
      "Epoch:242/500.. Train Loss: 0.059.. Val Loss: 0.113.. Test Loss: 0.047.. Time: 0.19m\n"
     ]
    },
    {
     "name": "stderr",
     "output_type": "stream",
     "text": [
      "100%|██████████| 238/238 [00:11<00:00, 21.46it/s]\n",
      "100%|██████████| 85/85 [00:00<00:00, 149.75it/s]\n",
      "100%|██████████| 17/17 [00:00<00:00, 145.01it/s]\n"
     ]
    },
    {
     "name": "stdout",
     "output_type": "stream",
     "text": [
      "Epoch:243/500.. Train Loss: 0.059.. Val Loss: 0.112.. Test Loss: 0.047.. Time: 0.20m\n"
     ]
    },
    {
     "name": "stderr",
     "output_type": "stream",
     "text": [
      "100%|██████████| 238/238 [00:11<00:00, 21.30it/s]\n",
      "100%|██████████| 85/85 [00:00<00:00, 151.90it/s]\n",
      "100%|██████████| 17/17 [00:00<00:00, 152.68it/s]\n"
     ]
    },
    {
     "name": "stdout",
     "output_type": "stream",
     "text": [
      "Epoch:244/500.. Train Loss: 0.059.. Val Loss: 0.113.. Test Loss: 0.047.. Time: 0.20m\n"
     ]
    },
    {
     "name": "stderr",
     "output_type": "stream",
     "text": [
      "100%|██████████| 238/238 [00:11<00:00, 21.61it/s]\n",
      "100%|██████████| 85/85 [00:00<00:00, 146.44it/s]\n",
      "100%|██████████| 17/17 [00:00<00:00, 141.10it/s]\n"
     ]
    },
    {
     "name": "stdout",
     "output_type": "stream",
     "text": [
      "Epoch:245/500.. Train Loss: 0.058.. Val Loss: 0.112.. Test Loss: 0.045.. Time: 0.20m\n"
     ]
    },
    {
     "name": "stderr",
     "output_type": "stream",
     "text": [
      "100%|██████████| 238/238 [00:10<00:00, 22.06it/s]\n",
      "100%|██████████| 85/85 [00:00<00:00, 150.14it/s]\n",
      "100%|██████████| 17/17 [00:00<00:00, 145.98it/s]\n"
     ]
    },
    {
     "name": "stdout",
     "output_type": "stream",
     "text": [
      "Epoch:246/500.. Train Loss: 0.059.. Val Loss: 0.112.. Test Loss: 0.047.. Time: 0.19m\n"
     ]
    },
    {
     "name": "stderr",
     "output_type": "stream",
     "text": [
      "100%|██████████| 238/238 [00:10<00:00, 21.94it/s]\n",
      "100%|██████████| 85/85 [00:00<00:00, 150.39it/s]\n",
      "100%|██████████| 17/17 [00:00<00:00, 148.87it/s]\n"
     ]
    },
    {
     "name": "stdout",
     "output_type": "stream",
     "text": [
      "Epoch:247/500.. Train Loss: 0.059.. Val Loss: 0.112.. Test Loss: 0.047.. Time: 0.19m\n"
     ]
    },
    {
     "name": "stderr",
     "output_type": "stream",
     "text": [
      "100%|██████████| 238/238 [00:11<00:00, 21.19it/s]\n",
      "100%|██████████| 85/85 [00:00<00:00, 149.19it/s]\n",
      "100%|██████████| 17/17 [00:00<00:00, 141.50it/s]\n"
     ]
    },
    {
     "name": "stdout",
     "output_type": "stream",
     "text": [
      "Epoch:248/500.. Train Loss: 0.059.. Val Loss: 0.113.. Test Loss: 0.047.. Time: 0.20m\n"
     ]
    },
    {
     "name": "stderr",
     "output_type": "stream",
     "text": [
      "100%|██████████| 238/238 [00:10<00:00, 23.72it/s]\n",
      "100%|██████████| 85/85 [00:00<00:00, 153.63it/s]\n",
      "100%|██████████| 17/17 [00:00<00:00, 147.64it/s]\n"
     ]
    },
    {
     "name": "stdout",
     "output_type": "stream",
     "text": [
      "Epoch:249/500.. Train Loss: 0.058.. Val Loss: 0.113.. Test Loss: 0.050.. Time: 0.18m\n"
     ]
    },
    {
     "name": "stderr",
     "output_type": "stream",
     "text": [
      "100%|██████████| 238/238 [00:10<00:00, 22.43it/s]\n",
      "100%|██████████| 85/85 [00:00<00:00, 151.08it/s]\n",
      "100%|██████████| 17/17 [00:00<00:00, 146.38it/s]\n"
     ]
    },
    {
     "name": "stdout",
     "output_type": "stream",
     "text": [
      "Epoch:250/500.. Train Loss: 0.059.. Val Loss: 0.112.. Test Loss: 0.047.. Time: 0.19m\n"
     ]
    },
    {
     "name": "stderr",
     "output_type": "stream",
     "text": [
      "100%|██████████| 238/238 [00:10<00:00, 22.21it/s]\n",
      "100%|██████████| 85/85 [00:00<00:00, 151.27it/s]\n",
      "100%|██████████| 17/17 [00:00<00:00, 149.16it/s]\n"
     ]
    },
    {
     "name": "stdout",
     "output_type": "stream",
     "text": [
      "Epoch:251/500.. Train Loss: 0.058.. Val Loss: 0.112.. Test Loss: 0.046.. Time: 0.19m\n"
     ]
    },
    {
     "name": "stderr",
     "output_type": "stream",
     "text": [
      "100%|██████████| 238/238 [00:10<00:00, 22.23it/s]\n",
      "100%|██████████| 85/85 [00:00<00:00, 150.14it/s]\n",
      "100%|██████████| 17/17 [00:00<00:00, 147.74it/s]\n"
     ]
    },
    {
     "name": "stdout",
     "output_type": "stream",
     "text": [
      "Epoch:252/500.. Train Loss: 0.059.. Val Loss: 0.112.. Test Loss: 0.047.. Time: 0.19m\n"
     ]
    },
    {
     "name": "stderr",
     "output_type": "stream",
     "text": [
      "100%|██████████| 238/238 [00:10<00:00, 21.74it/s]\n",
      "100%|██████████| 85/85 [00:00<00:00, 151.86it/s]\n",
      "100%|██████████| 17/17 [00:00<00:00, 150.58it/s]\n"
     ]
    },
    {
     "name": "stdout",
     "output_type": "stream",
     "text": [
      "Epoch:253/500.. Train Loss: 0.059.. Val Loss: 0.112.. Test Loss: 0.048.. Time: 0.19m\n"
     ]
    },
    {
     "name": "stderr",
     "output_type": "stream",
     "text": [
      "100%|██████████| 238/238 [00:10<00:00, 22.34it/s]\n",
      "100%|██████████| 85/85 [00:00<00:00, 150.59it/s]\n",
      "100%|██████████| 17/17 [00:00<00:00, 147.66it/s]\n"
     ]
    },
    {
     "name": "stdout",
     "output_type": "stream",
     "text": [
      "Epoch:254/500.. Train Loss: 0.059.. Val Loss: 0.112.. Test Loss: 0.047.. Time: 0.19m\n"
     ]
    },
    {
     "name": "stderr",
     "output_type": "stream",
     "text": [
      "100%|██████████| 238/238 [00:10<00:00, 21.82it/s]\n",
      "100%|██████████| 85/85 [00:00<00:00, 152.62it/s]\n",
      "100%|██████████| 17/17 [00:00<00:00, 146.96it/s]\n"
     ]
    },
    {
     "name": "stdout",
     "output_type": "stream",
     "text": [
      "Epoch:255/500.. Train Loss: 0.059.. Val Loss: 0.112.. Test Loss: 0.048.. Time: 0.19m\n"
     ]
    },
    {
     "name": "stderr",
     "output_type": "stream",
     "text": [
      "100%|██████████| 238/238 [00:10<00:00, 21.80it/s]\n",
      "100%|██████████| 85/85 [00:00<00:00, 147.50it/s]\n",
      "100%|██████████| 17/17 [00:00<00:00, 140.88it/s]\n"
     ]
    },
    {
     "name": "stdout",
     "output_type": "stream",
     "text": [
      "Epoch:256/500.. Train Loss: 0.058.. Val Loss: 0.113.. Test Loss: 0.047.. Time: 0.19m\n"
     ]
    },
    {
     "name": "stderr",
     "output_type": "stream",
     "text": [
      "100%|██████████| 238/238 [00:10<00:00, 21.85it/s]\n",
      "100%|██████████| 85/85 [00:00<00:00, 147.76it/s]\n",
      "100%|██████████| 17/17 [00:00<00:00, 148.54it/s]\n"
     ]
    },
    {
     "name": "stdout",
     "output_type": "stream",
     "text": [
      "Epoch:257/500.. Train Loss: 0.059.. Val Loss: 0.112.. Test Loss: 0.046.. Time: 0.19m\n"
     ]
    },
    {
     "name": "stderr",
     "output_type": "stream",
     "text": [
      "100%|██████████| 238/238 [00:10<00:00, 22.37it/s]\n",
      "100%|██████████| 85/85 [00:00<00:00, 152.00it/s]\n",
      "100%|██████████| 17/17 [00:00<00:00, 150.57it/s]\n"
     ]
    },
    {
     "name": "stdout",
     "output_type": "stream",
     "text": [
      "Epoch:258/500.. Train Loss: 0.059.. Val Loss: 0.113.. Test Loss: 0.046.. Time: 0.19m\n"
     ]
    },
    {
     "name": "stderr",
     "output_type": "stream",
     "text": [
      "100%|██████████| 238/238 [00:10<00:00, 22.24it/s]\n",
      "100%|██████████| 85/85 [00:00<00:00, 152.62it/s]\n",
      "100%|██████████| 17/17 [00:00<00:00, 151.50it/s]\n"
     ]
    },
    {
     "name": "stdout",
     "output_type": "stream",
     "text": [
      "Epoch:259/500.. Train Loss: 0.058.. Val Loss: 0.113.. Test Loss: 0.046.. Time: 0.19m\n"
     ]
    },
    {
     "name": "stderr",
     "output_type": "stream",
     "text": [
      "100%|██████████| 238/238 [00:10<00:00, 22.14it/s]\n",
      "100%|██████████| 85/85 [00:00<00:00, 143.59it/s]\n",
      "100%|██████████| 17/17 [00:00<00:00, 150.05it/s]\n"
     ]
    },
    {
     "name": "stdout",
     "output_type": "stream",
     "text": [
      "Epoch:260/500.. Train Loss: 0.059.. Val Loss: 0.112.. Test Loss: 0.047.. Time: 0.19m\n"
     ]
    },
    {
     "name": "stderr",
     "output_type": "stream",
     "text": [
      "100%|██████████| 238/238 [00:10<00:00, 21.90it/s]\n",
      "100%|██████████| 85/85 [00:00<00:00, 151.56it/s]\n",
      "100%|██████████| 17/17 [00:00<00:00, 143.41it/s]\n"
     ]
    },
    {
     "name": "stdout",
     "output_type": "stream",
     "text": [
      "Epoch:261/500.. Train Loss: 0.059.. Val Loss: 0.112.. Test Loss: 0.046.. Time: 0.19m\n"
     ]
    },
    {
     "name": "stderr",
     "output_type": "stream",
     "text": [
      "100%|██████████| 238/238 [00:10<00:00, 21.73it/s]\n",
      "100%|██████████| 85/85 [00:00<00:00, 148.35it/s]\n",
      "100%|██████████| 17/17 [00:00<00:00, 151.18it/s]\n"
     ]
    },
    {
     "name": "stdout",
     "output_type": "stream",
     "text": [
      "Epoch:262/500.. Train Loss: 0.058.. Val Loss: 0.112.. Test Loss: 0.046.. Time: 0.19m\n"
     ]
    },
    {
     "name": "stderr",
     "output_type": "stream",
     "text": [
      "100%|██████████| 238/238 [00:10<00:00, 22.28it/s]\n",
      "100%|██████████| 85/85 [00:00<00:00, 153.58it/s]\n",
      "100%|██████████| 17/17 [00:00<00:00, 150.31it/s]\n"
     ]
    },
    {
     "name": "stdout",
     "output_type": "stream",
     "text": [
      "Epoch:263/500.. Train Loss: 0.058.. Val Loss: 0.112.. Test Loss: 0.047.. Time: 0.19m\n"
     ]
    },
    {
     "name": "stderr",
     "output_type": "stream",
     "text": [
      "100%|██████████| 238/238 [00:10<00:00, 21.91it/s]\n",
      "100%|██████████| 85/85 [00:00<00:00, 151.39it/s]\n",
      "100%|██████████| 17/17 [00:00<00:00, 150.91it/s]\n"
     ]
    },
    {
     "name": "stdout",
     "output_type": "stream",
     "text": [
      "Epoch:264/500.. Train Loss: 0.059.. Val Loss: 0.112.. Test Loss: 0.046.. Time: 0.19m\n"
     ]
    },
    {
     "name": "stderr",
     "output_type": "stream",
     "text": [
      "100%|██████████| 238/238 [00:10<00:00, 22.18it/s]\n",
      "100%|██████████| 85/85 [00:00<00:00, 151.18it/s]\n",
      "100%|██████████| 17/17 [00:00<00:00, 152.56it/s]\n"
     ]
    },
    {
     "name": "stdout",
     "output_type": "stream",
     "text": [
      "Epoch:265/500.. Train Loss: 0.059.. Val Loss: 0.113.. Test Loss: 0.047.. Time: 0.19m\n"
     ]
    },
    {
     "name": "stderr",
     "output_type": "stream",
     "text": [
      "100%|██████████| 238/238 [00:11<00:00, 21.52it/s]\n",
      "100%|██████████| 85/85 [00:00<00:00, 151.15it/s]\n",
      "100%|██████████| 17/17 [00:00<00:00, 146.72it/s]\n"
     ]
    },
    {
     "name": "stdout",
     "output_type": "stream",
     "text": [
      "Epoch:266/500.. Train Loss: 0.059.. Val Loss: 0.113.. Test Loss: 0.049.. Time: 0.20m\n"
     ]
    },
    {
     "name": "stderr",
     "output_type": "stream",
     "text": [
      "100%|██████████| 238/238 [00:10<00:00, 22.00it/s]\n",
      "100%|██████████| 85/85 [00:00<00:00, 149.39it/s]\n",
      "100%|██████████| 17/17 [00:00<00:00, 141.27it/s]\n"
     ]
    },
    {
     "name": "stdout",
     "output_type": "stream",
     "text": [
      "Epoch:267/500.. Train Loss: 0.058.. Val Loss: 0.112.. Test Loss: 0.047.. Time: 0.19m\n"
     ]
    },
    {
     "name": "stderr",
     "output_type": "stream",
     "text": [
      "100%|██████████| 238/238 [00:10<00:00, 22.08it/s]\n",
      "100%|██████████| 85/85 [00:00<00:00, 149.30it/s]\n",
      "100%|██████████| 17/17 [00:00<00:00, 150.21it/s]\n"
     ]
    },
    {
     "name": "stdout",
     "output_type": "stream",
     "text": [
      "Epoch:268/500.. Train Loss: 0.058.. Val Loss: 0.112.. Test Loss: 0.048.. Time: 0.19m\n"
     ]
    },
    {
     "name": "stderr",
     "output_type": "stream",
     "text": [
      "100%|██████████| 238/238 [00:11<00:00, 21.62it/s]\n",
      "100%|██████████| 85/85 [00:00<00:00, 152.20it/s]\n",
      "100%|██████████| 17/17 [00:00<00:00, 147.85it/s]\n"
     ]
    },
    {
     "name": "stdout",
     "output_type": "stream",
     "text": [
      "Epoch:269/500.. Train Loss: 0.060.. Val Loss: 0.112.. Test Loss: 0.046.. Time: 0.19m\n"
     ]
    },
    {
     "name": "stderr",
     "output_type": "stream",
     "text": [
      "100%|██████████| 238/238 [00:10<00:00, 22.19it/s]\n",
      "100%|██████████| 85/85 [00:00<00:00, 151.14it/s]\n",
      "100%|██████████| 17/17 [00:00<00:00, 141.95it/s]\n"
     ]
    },
    {
     "name": "stdout",
     "output_type": "stream",
     "text": [
      "Epoch:270/500.. Train Loss: 0.059.. Val Loss: 0.112.. Test Loss: 0.046.. Time: 0.19m\n"
     ]
    },
    {
     "name": "stderr",
     "output_type": "stream",
     "text": [
      "100%|██████████| 238/238 [00:10<00:00, 22.44it/s]\n",
      "100%|██████████| 85/85 [00:00<00:00, 150.13it/s]\n",
      "100%|██████████| 17/17 [00:00<00:00, 151.01it/s]\n"
     ]
    },
    {
     "name": "stdout",
     "output_type": "stream",
     "text": [
      "Epoch:271/500.. Train Loss: 0.059.. Val Loss: 0.112.. Test Loss: 0.047.. Time: 0.19m\n"
     ]
    },
    {
     "name": "stderr",
     "output_type": "stream",
     "text": [
      "100%|██████████| 238/238 [00:09<00:00, 26.01it/s]\n",
      "100%|██████████| 85/85 [00:00<00:00, 151.92it/s]\n",
      "100%|██████████| 17/17 [00:00<00:00, 151.90it/s]\n"
     ]
    },
    {
     "name": "stdout",
     "output_type": "stream",
     "text": [
      "Epoch:272/500.. Train Loss: 0.059.. Val Loss: 0.112.. Test Loss: 0.046.. Time: 0.16m\n"
     ]
    },
    {
     "name": "stderr",
     "output_type": "stream",
     "text": [
      "100%|██████████| 238/238 [00:10<00:00, 23.41it/s]\n",
      "100%|██████████| 85/85 [00:00<00:00, 153.40it/s]\n",
      "100%|██████████| 17/17 [00:00<00:00, 149.05it/s]\n"
     ]
    },
    {
     "name": "stdout",
     "output_type": "stream",
     "text": [
      "Epoch:273/500.. Train Loss: 0.059.. Val Loss: 0.112.. Test Loss: 0.047.. Time: 0.18m\n"
     ]
    },
    {
     "name": "stderr",
     "output_type": "stream",
     "text": [
      "100%|██████████| 238/238 [00:10<00:00, 22.06it/s]\n",
      "100%|██████████| 85/85 [00:00<00:00, 151.33it/s]\n",
      "100%|██████████| 17/17 [00:00<00:00, 142.69it/s]\n"
     ]
    },
    {
     "name": "stdout",
     "output_type": "stream",
     "text": [
      "Epoch:274/500.. Train Loss: 0.059.. Val Loss: 0.113.. Test Loss: 0.047.. Time: 0.19m\n"
     ]
    },
    {
     "name": "stderr",
     "output_type": "stream",
     "text": [
      "100%|██████████| 238/238 [00:11<00:00, 21.52it/s]\n",
      "100%|██████████| 85/85 [00:00<00:00, 153.65it/s]\n",
      "100%|██████████| 17/17 [00:00<00:00, 152.93it/s]\n"
     ]
    },
    {
     "name": "stdout",
     "output_type": "stream",
     "text": [
      "Epoch:275/500.. Train Loss: 0.058.. Val Loss: 0.113.. Test Loss: 0.049.. Time: 0.20m\n"
     ]
    },
    {
     "name": "stderr",
     "output_type": "stream",
     "text": [
      "100%|██████████| 238/238 [00:10<00:00, 22.04it/s]\n",
      "100%|██████████| 85/85 [00:00<00:00, 150.55it/s]\n",
      "100%|██████████| 17/17 [00:00<00:00, 144.12it/s]\n"
     ]
    },
    {
     "name": "stdout",
     "output_type": "stream",
     "text": [
      "Epoch:276/500.. Train Loss: 0.058.. Val Loss: 0.112.. Test Loss: 0.048.. Time: 0.19m\n"
     ]
    },
    {
     "name": "stderr",
     "output_type": "stream",
     "text": [
      "100%|██████████| 238/238 [00:10<00:00, 22.03it/s]\n",
      "100%|██████████| 85/85 [00:00<00:00, 147.03it/s]\n",
      "100%|██████████| 17/17 [00:00<00:00, 136.03it/s]\n"
     ]
    },
    {
     "name": "stdout",
     "output_type": "stream",
     "text": [
      "Epoch:277/500.. Train Loss: 0.059.. Val Loss: 0.112.. Test Loss: 0.047.. Time: 0.19m\n"
     ]
    },
    {
     "name": "stderr",
     "output_type": "stream",
     "text": [
      "100%|██████████| 238/238 [00:10<00:00, 22.39it/s]\n",
      "100%|██████████| 85/85 [00:00<00:00, 150.28it/s]\n",
      "100%|██████████| 17/17 [00:00<00:00, 153.70it/s]\n"
     ]
    },
    {
     "name": "stdout",
     "output_type": "stream",
     "text": [
      "Epoch:278/500.. Train Loss: 0.059.. Val Loss: 0.112.. Test Loss: 0.047.. Time: 0.19m\n"
     ]
    },
    {
     "name": "stderr",
     "output_type": "stream",
     "text": [
      "100%|██████████| 238/238 [00:10<00:00, 21.83it/s]\n",
      "100%|██████████| 85/85 [00:00<00:00, 145.75it/s]\n",
      "100%|██████████| 17/17 [00:00<00:00, 146.81it/s]\n"
     ]
    },
    {
     "name": "stdout",
     "output_type": "stream",
     "text": [
      "Epoch:279/500.. Train Loss: 0.058.. Val Loss: 0.113.. Test Loss: 0.046.. Time: 0.19m\n"
     ]
    },
    {
     "name": "stderr",
     "output_type": "stream",
     "text": [
      "100%|██████████| 238/238 [00:10<00:00, 22.00it/s]\n",
      "100%|██████████| 85/85 [00:00<00:00, 152.57it/s]\n",
      "100%|██████████| 17/17 [00:00<00:00, 151.99it/s]\n"
     ]
    },
    {
     "name": "stdout",
     "output_type": "stream",
     "text": [
      "Epoch:280/500.. Train Loss: 0.059.. Val Loss: 0.112.. Test Loss: 0.046.. Time: 0.19m\n"
     ]
    },
    {
     "name": "stderr",
     "output_type": "stream",
     "text": [
      "100%|██████████| 238/238 [00:10<00:00, 22.43it/s]\n",
      "100%|██████████| 85/85 [00:00<00:00, 146.41it/s]\n",
      "100%|██████████| 17/17 [00:00<00:00, 140.59it/s]\n"
     ]
    },
    {
     "name": "stdout",
     "output_type": "stream",
     "text": [
      "Epoch:281/500.. Train Loss: 0.059.. Val Loss: 0.112.. Test Loss: 0.047.. Time: 0.19m\n"
     ]
    },
    {
     "name": "stderr",
     "output_type": "stream",
     "text": [
      "100%|██████████| 238/238 [00:10<00:00, 22.44it/s]\n",
      "100%|██████████| 85/85 [00:00<00:00, 151.62it/s]\n",
      "100%|██████████| 17/17 [00:00<00:00, 151.17it/s]\n"
     ]
    },
    {
     "name": "stdout",
     "output_type": "stream",
     "text": [
      "Epoch:282/500.. Train Loss: 0.059.. Val Loss: 0.112.. Test Loss: 0.046.. Time: 0.19m\n"
     ]
    },
    {
     "name": "stderr",
     "output_type": "stream",
     "text": [
      "100%|██████████| 238/238 [00:10<00:00, 22.01it/s]\n",
      "100%|██████████| 85/85 [00:00<00:00, 153.41it/s]\n",
      "100%|██████████| 17/17 [00:00<00:00, 149.40it/s]\n"
     ]
    },
    {
     "name": "stdout",
     "output_type": "stream",
     "text": [
      "Epoch:283/500.. Train Loss: 0.059.. Val Loss: 0.112.. Test Loss: 0.048.. Time: 0.19m\n"
     ]
    },
    {
     "name": "stderr",
     "output_type": "stream",
     "text": [
      "100%|██████████| 238/238 [00:10<00:00, 21.78it/s]\n",
      "100%|██████████| 85/85 [00:00<00:00, 151.33it/s]\n",
      "100%|██████████| 17/17 [00:00<00:00, 143.46it/s]\n"
     ]
    },
    {
     "name": "stdout",
     "output_type": "stream",
     "text": [
      "Epoch:284/500.. Train Loss: 0.058.. Val Loss: 0.113.. Test Loss: 0.047.. Time: 0.19m\n"
     ]
    },
    {
     "name": "stderr",
     "output_type": "stream",
     "text": [
      "100%|██████████| 238/238 [00:10<00:00, 22.20it/s]\n",
      "100%|██████████| 85/85 [00:00<00:00, 148.65it/s]\n",
      "100%|██████████| 17/17 [00:00<00:00, 146.76it/s]\n"
     ]
    },
    {
     "name": "stdout",
     "output_type": "stream",
     "text": [
      "Epoch:285/500.. Train Loss: 0.059.. Val Loss: 0.113.. Test Loss: 0.046.. Time: 0.19m\n"
     ]
    },
    {
     "name": "stderr",
     "output_type": "stream",
     "text": [
      "100%|██████████| 238/238 [00:10<00:00, 22.12it/s]\n",
      "100%|██████████| 85/85 [00:00<00:00, 152.25it/s]\n",
      "100%|██████████| 17/17 [00:00<00:00, 152.32it/s]\n"
     ]
    },
    {
     "name": "stdout",
     "output_type": "stream",
     "text": [
      "Epoch:286/500.. Train Loss: 0.059.. Val Loss: 0.112.. Test Loss: 0.046.. Time: 0.19m\n"
     ]
    },
    {
     "name": "stderr",
     "output_type": "stream",
     "text": [
      "100%|██████████| 238/238 [00:10<00:00, 22.18it/s]\n",
      "100%|██████████| 85/85 [00:00<00:00, 151.53it/s]\n",
      "100%|██████████| 17/17 [00:00<00:00, 141.99it/s]\n"
     ]
    },
    {
     "name": "stdout",
     "output_type": "stream",
     "text": [
      "Epoch:287/500.. Train Loss: 0.059.. Val Loss: 0.112.. Test Loss: 0.047.. Time: 0.19m\n"
     ]
    },
    {
     "name": "stderr",
     "output_type": "stream",
     "text": [
      "100%|██████████| 238/238 [00:10<00:00, 21.77it/s]\n",
      "100%|██████████| 85/85 [00:00<00:00, 149.71it/s]\n",
      "100%|██████████| 17/17 [00:00<00:00, 145.89it/s]\n"
     ]
    },
    {
     "name": "stdout",
     "output_type": "stream",
     "text": [
      "Epoch:288/500.. Train Loss: 0.058.. Val Loss: 0.112.. Test Loss: 0.047.. Time: 0.19m\n"
     ]
    },
    {
     "name": "stderr",
     "output_type": "stream",
     "text": [
      "100%|██████████| 238/238 [00:11<00:00, 21.47it/s]\n",
      "100%|██████████| 85/85 [00:00<00:00, 148.14it/s]\n",
      "100%|██████████| 17/17 [00:00<00:00, 149.61it/s]\n"
     ]
    },
    {
     "name": "stdout",
     "output_type": "stream",
     "text": [
      "Epoch:289/500.. Train Loss: 0.059.. Val Loss: 0.112.. Test Loss: 0.048.. Time: 0.20m\n"
     ]
    },
    {
     "name": "stderr",
     "output_type": "stream",
     "text": [
      "100%|██████████| 238/238 [00:10<00:00, 22.09it/s]\n",
      "100%|██████████| 85/85 [00:00<00:00, 151.65it/s]\n",
      "100%|██████████| 17/17 [00:00<00:00, 148.27it/s]\n"
     ]
    },
    {
     "name": "stdout",
     "output_type": "stream",
     "text": [
      "Epoch:290/500.. Train Loss: 0.059.. Val Loss: 0.112.. Test Loss: 0.047.. Time: 0.19m\n"
     ]
    },
    {
     "name": "stderr",
     "output_type": "stream",
     "text": [
      "100%|██████████| 238/238 [00:10<00:00, 21.88it/s]\n",
      "100%|██████████| 85/85 [00:00<00:00, 152.53it/s]\n",
      "100%|██████████| 17/17 [00:00<00:00, 152.56it/s]\n"
     ]
    },
    {
     "name": "stdout",
     "output_type": "stream",
     "text": [
      "Epoch:291/500.. Train Loss: 0.058.. Val Loss: 0.112.. Test Loss: 0.046.. Time: 0.19m\n"
     ]
    },
    {
     "name": "stderr",
     "output_type": "stream",
     "text": [
      "100%|██████████| 238/238 [00:10<00:00, 22.08it/s]\n",
      "100%|██████████| 85/85 [00:00<00:00, 150.19it/s]\n",
      "100%|██████████| 17/17 [00:00<00:00, 147.32it/s]\n"
     ]
    },
    {
     "name": "stdout",
     "output_type": "stream",
     "text": [
      "Epoch:292/500.. Train Loss: 0.059.. Val Loss: 0.112.. Test Loss: 0.047.. Time: 0.19m\n"
     ]
    },
    {
     "name": "stderr",
     "output_type": "stream",
     "text": [
      "100%|██████████| 238/238 [00:10<00:00, 21.92it/s]\n",
      "100%|██████████| 85/85 [00:00<00:00, 146.76it/s]\n",
      "100%|██████████| 17/17 [00:00<00:00, 147.72it/s]\n"
     ]
    },
    {
     "name": "stdout",
     "output_type": "stream",
     "text": [
      "Epoch:293/500.. Train Loss: 0.058.. Val Loss: 0.113.. Test Loss: 0.046.. Time: 0.19m\n"
     ]
    },
    {
     "name": "stderr",
     "output_type": "stream",
     "text": [
      "100%|██████████| 238/238 [00:10<00:00, 22.20it/s]\n",
      "100%|██████████| 85/85 [00:00<00:00, 148.61it/s]\n",
      "100%|██████████| 17/17 [00:00<00:00, 144.85it/s]\n"
     ]
    },
    {
     "name": "stdout",
     "output_type": "stream",
     "text": [
      "Epoch:294/500.. Train Loss: 0.058.. Val Loss: 0.113.. Test Loss: 0.048.. Time: 0.19m\n"
     ]
    },
    {
     "name": "stderr",
     "output_type": "stream",
     "text": [
      "100%|██████████| 238/238 [00:10<00:00, 21.86it/s]\n",
      "100%|██████████| 85/85 [00:00<00:00, 146.16it/s]\n",
      "100%|██████████| 17/17 [00:00<00:00, 146.05it/s]\n"
     ]
    },
    {
     "name": "stdout",
     "output_type": "stream",
     "text": [
      "Epoch:295/500.. Train Loss: 0.059.. Val Loss: 0.112.. Test Loss: 0.048.. Time: 0.19m\n"
     ]
    },
    {
     "name": "stderr",
     "output_type": "stream",
     "text": [
      "100%|██████████| 238/238 [00:10<00:00, 21.91it/s]\n",
      "100%|██████████| 85/85 [00:00<00:00, 152.18it/s]\n",
      "100%|██████████| 17/17 [00:00<00:00, 141.51it/s]\n"
     ]
    },
    {
     "name": "stdout",
     "output_type": "stream",
     "text": [
      "Epoch:296/500.. Train Loss: 0.059.. Val Loss: 0.112.. Test Loss: 0.047.. Time: 0.19m\n"
     ]
    },
    {
     "name": "stderr",
     "output_type": "stream",
     "text": [
      "100%|██████████| 238/238 [00:10<00:00, 22.20it/s]\n",
      "100%|██████████| 85/85 [00:00<00:00, 151.95it/s]\n",
      "100%|██████████| 17/17 [00:00<00:00, 147.69it/s]\n"
     ]
    },
    {
     "name": "stdout",
     "output_type": "stream",
     "text": [
      "Epoch:297/500.. Train Loss: 0.059.. Val Loss: 0.112.. Test Loss: 0.048.. Time: 0.19m\n"
     ]
    },
    {
     "name": "stderr",
     "output_type": "stream",
     "text": [
      "100%|██████████| 238/238 [00:11<00:00, 21.39it/s]\n",
      "100%|██████████| 85/85 [00:00<00:00, 150.61it/s]\n",
      "100%|██████████| 17/17 [00:00<00:00, 141.12it/s]\n"
     ]
    },
    {
     "name": "stdout",
     "output_type": "stream",
     "text": [
      "Epoch:298/500.. Train Loss: 0.058.. Val Loss: 0.112.. Test Loss: 0.048.. Time: 0.20m\n"
     ]
    },
    {
     "name": "stderr",
     "output_type": "stream",
     "text": [
      "100%|██████████| 238/238 [00:10<00:00, 22.18it/s]\n",
      "100%|██████████| 85/85 [00:00<00:00, 148.29it/s]\n",
      "100%|██████████| 17/17 [00:00<00:00, 140.13it/s]\n"
     ]
    },
    {
     "name": "stdout",
     "output_type": "stream",
     "text": [
      "Epoch:299/500.. Train Loss: 0.058.. Val Loss: 0.112.. Test Loss: 0.048.. Time: 0.19m\n"
     ]
    },
    {
     "name": "stderr",
     "output_type": "stream",
     "text": [
      "100%|██████████| 238/238 [00:10<00:00, 22.29it/s]\n",
      "100%|██████████| 85/85 [00:00<00:00, 142.69it/s]\n",
      "100%|██████████| 17/17 [00:00<00:00, 148.71it/s]\n"
     ]
    },
    {
     "name": "stdout",
     "output_type": "stream",
     "text": [
      "Epoch:300/500.. Train Loss: 0.058.. Val Loss: 0.112.. Test Loss: 0.047.. Time: 0.19m\n"
     ]
    },
    {
     "name": "stderr",
     "output_type": "stream",
     "text": [
      "100%|██████████| 238/238 [00:10<00:00, 21.98it/s]\n",
      "100%|██████████| 85/85 [00:00<00:00, 147.41it/s]\n",
      "100%|██████████| 17/17 [00:00<00:00, 148.75it/s]\n"
     ]
    },
    {
     "name": "stdout",
     "output_type": "stream",
     "text": [
      "Epoch:301/500.. Train Loss: 0.058.. Val Loss: 0.112.. Test Loss: 0.046.. Time: 0.19m\n"
     ]
    },
    {
     "name": "stderr",
     "output_type": "stream",
     "text": [
      "100%|██████████| 238/238 [00:10<00:00, 21.79it/s]\n",
      "100%|██████████| 85/85 [00:00<00:00, 152.66it/s]\n",
      "100%|██████████| 17/17 [00:00<00:00, 149.18it/s]\n"
     ]
    },
    {
     "name": "stdout",
     "output_type": "stream",
     "text": [
      "Epoch:302/500.. Train Loss: 0.058.. Val Loss: 0.113.. Test Loss: 0.047.. Time: 0.19m\n"
     ]
    },
    {
     "name": "stderr",
     "output_type": "stream",
     "text": [
      "100%|██████████| 238/238 [00:10<00:00, 22.38it/s]\n",
      "100%|██████████| 85/85 [00:00<00:00, 153.65it/s]\n",
      "100%|██████████| 17/17 [00:00<00:00, 149.19it/s]\n"
     ]
    },
    {
     "name": "stdout",
     "output_type": "stream",
     "text": [
      "Epoch:303/500.. Train Loss: 0.058.. Val Loss: 0.113.. Test Loss: 0.046.. Time: 0.19m\n"
     ]
    },
    {
     "name": "stderr",
     "output_type": "stream",
     "text": [
      "100%|██████████| 238/238 [00:10<00:00, 22.19it/s]\n",
      "100%|██████████| 85/85 [00:00<00:00, 152.32it/s]\n",
      "100%|██████████| 17/17 [00:00<00:00, 151.30it/s]\n"
     ]
    },
    {
     "name": "stdout",
     "output_type": "stream",
     "text": [
      "Epoch:304/500.. Train Loss: 0.059.. Val Loss: 0.113.. Test Loss: 0.048.. Time: 0.19m\n"
     ]
    },
    {
     "name": "stderr",
     "output_type": "stream",
     "text": [
      "100%|██████████| 238/238 [00:10<00:00, 21.95it/s]\n",
      "100%|██████████| 85/85 [00:00<00:00, 131.20it/s]\n",
      "100%|██████████| 17/17 [00:00<00:00, 135.66it/s]\n"
     ]
    },
    {
     "name": "stdout",
     "output_type": "stream",
     "text": [
      "Epoch:305/500.. Train Loss: 0.059.. Val Loss: 0.112.. Test Loss: 0.047.. Time: 0.19m\n"
     ]
    },
    {
     "name": "stderr",
     "output_type": "stream",
     "text": [
      "100%|██████████| 238/238 [00:10<00:00, 21.87it/s]\n",
      "100%|██████████| 85/85 [00:00<00:00, 152.47it/s]\n",
      "100%|██████████| 17/17 [00:00<00:00, 151.10it/s]\n"
     ]
    },
    {
     "name": "stdout",
     "output_type": "stream",
     "text": [
      "Epoch:306/500.. Train Loss: 0.058.. Val Loss: 0.113.. Test Loss: 0.049.. Time: 0.19m\n"
     ]
    },
    {
     "name": "stderr",
     "output_type": "stream",
     "text": [
      "100%|██████████| 238/238 [00:11<00:00, 21.45it/s]\n",
      "100%|██████████| 85/85 [00:00<00:00, 147.97it/s]\n",
      "100%|██████████| 17/17 [00:00<00:00, 143.77it/s]\n"
     ]
    },
    {
     "name": "stdout",
     "output_type": "stream",
     "text": [
      "Epoch:307/500.. Train Loss: 0.059.. Val Loss: 0.112.. Test Loss: 0.047.. Time: 0.20m\n"
     ]
    },
    {
     "name": "stderr",
     "output_type": "stream",
     "text": [
      "100%|██████████| 238/238 [00:10<00:00, 22.14it/s]\n",
      "100%|██████████| 85/85 [00:00<00:00, 146.73it/s]\n",
      "100%|██████████| 17/17 [00:00<00:00, 149.07it/s]\n"
     ]
    },
    {
     "name": "stdout",
     "output_type": "stream",
     "text": [
      "Epoch:308/500.. Train Loss: 0.058.. Val Loss: 0.112.. Test Loss: 0.047.. Time: 0.19m\n"
     ]
    },
    {
     "name": "stderr",
     "output_type": "stream",
     "text": [
      "100%|██████████| 238/238 [00:10<00:00, 22.39it/s]\n",
      "100%|██████████| 85/85 [00:00<00:00, 145.26it/s]\n",
      "100%|██████████| 17/17 [00:00<00:00, 150.75it/s]\n"
     ]
    },
    {
     "name": "stdout",
     "output_type": "stream",
     "text": [
      "Epoch:309/500.. Train Loss: 0.059.. Val Loss: 0.112.. Test Loss: 0.047.. Time: 0.19m\n"
     ]
    },
    {
     "name": "stderr",
     "output_type": "stream",
     "text": [
      "100%|██████████| 238/238 [00:10<00:00, 22.33it/s]\n",
      "100%|██████████| 85/85 [00:00<00:00, 152.81it/s]\n",
      "100%|██████████| 17/17 [00:00<00:00, 150.58it/s]\n"
     ]
    },
    {
     "name": "stdout",
     "output_type": "stream",
     "text": [
      "Epoch:310/500.. Train Loss: 0.058.. Val Loss: 0.112.. Test Loss: 0.047.. Time: 0.19m\n"
     ]
    },
    {
     "name": "stderr",
     "output_type": "stream",
     "text": [
      "100%|██████████| 238/238 [00:10<00:00, 22.32it/s]\n",
      "100%|██████████| 85/85 [00:00<00:00, 150.72it/s]\n",
      "100%|██████████| 17/17 [00:00<00:00, 148.64it/s]\n"
     ]
    },
    {
     "name": "stdout",
     "output_type": "stream",
     "text": [
      "Epoch:311/500.. Train Loss: 0.058.. Val Loss: 0.112.. Test Loss: 0.047.. Time: 0.19m\n"
     ]
    },
    {
     "name": "stderr",
     "output_type": "stream",
     "text": [
      "100%|██████████| 238/238 [00:10<00:00, 22.14it/s]\n",
      "100%|██████████| 85/85 [00:00<00:00, 150.20it/s]\n",
      "100%|██████████| 17/17 [00:00<00:00, 150.12it/s]\n"
     ]
    },
    {
     "name": "stdout",
     "output_type": "stream",
     "text": [
      "Epoch:312/500.. Train Loss: 0.059.. Val Loss: 0.113.. Test Loss: 0.047.. Time: 0.19m\n"
     ]
    },
    {
     "name": "stderr",
     "output_type": "stream",
     "text": [
      "100%|██████████| 238/238 [00:10<00:00, 22.27it/s]\n",
      "100%|██████████| 85/85 [00:00<00:00, 148.57it/s]\n",
      "100%|██████████| 17/17 [00:00<00:00, 141.45it/s]\n"
     ]
    },
    {
     "name": "stdout",
     "output_type": "stream",
     "text": [
      "Epoch:313/500.. Train Loss: 0.058.. Val Loss: 0.112.. Test Loss: 0.049.. Time: 0.19m\n"
     ]
    },
    {
     "name": "stderr",
     "output_type": "stream",
     "text": [
      "100%|██████████| 238/238 [00:10<00:00, 21.73it/s]\n",
      "100%|██████████| 85/85 [00:00<00:00, 147.42it/s]\n",
      "100%|██████████| 17/17 [00:00<00:00, 144.29it/s]\n"
     ]
    },
    {
     "name": "stdout",
     "output_type": "stream",
     "text": [
      "Epoch:314/500.. Train Loss: 0.059.. Val Loss: 0.113.. Test Loss: 0.046.. Time: 0.19m\n"
     ]
    },
    {
     "name": "stderr",
     "output_type": "stream",
     "text": [
      "100%|██████████| 238/238 [00:10<00:00, 22.01it/s]\n",
      "100%|██████████| 85/85 [00:00<00:00, 143.39it/s]\n",
      "100%|██████████| 17/17 [00:00<00:00, 151.09it/s]\n"
     ]
    },
    {
     "name": "stdout",
     "output_type": "stream",
     "text": [
      "Epoch:315/500.. Train Loss: 0.058.. Val Loss: 0.112.. Test Loss: 0.047.. Time: 0.19m\n"
     ]
    },
    {
     "name": "stderr",
     "output_type": "stream",
     "text": [
      "100%|██████████| 238/238 [00:10<00:00, 22.12it/s]\n",
      "100%|██████████| 85/85 [00:00<00:00, 150.84it/s]\n",
      "100%|██████████| 17/17 [00:00<00:00, 151.31it/s]\n"
     ]
    },
    {
     "name": "stdout",
     "output_type": "stream",
     "text": [
      "Epoch:316/500.. Train Loss: 0.058.. Val Loss: 0.112.. Test Loss: 0.047.. Time: 0.19m\n"
     ]
    },
    {
     "name": "stderr",
     "output_type": "stream",
     "text": [
      "100%|██████████| 238/238 [00:10<00:00, 22.06it/s]\n",
      "100%|██████████| 85/85 [00:00<00:00, 145.69it/s]\n",
      "100%|██████████| 17/17 [00:00<00:00, 150.02it/s]\n"
     ]
    },
    {
     "name": "stdout",
     "output_type": "stream",
     "text": [
      "Epoch:317/500.. Train Loss: 0.059.. Val Loss: 0.112.. Test Loss: 0.047.. Time: 0.19m\n"
     ]
    },
    {
     "name": "stderr",
     "output_type": "stream",
     "text": [
      "100%|██████████| 238/238 [00:10<00:00, 22.15it/s]\n",
      "100%|██████████| 85/85 [00:00<00:00, 148.38it/s]\n",
      "100%|██████████| 17/17 [00:00<00:00, 141.17it/s]\n"
     ]
    },
    {
     "name": "stdout",
     "output_type": "stream",
     "text": [
      "Epoch:318/500.. Train Loss: 0.059.. Val Loss: 0.113.. Test Loss: 0.047.. Time: 0.19m\n"
     ]
    },
    {
     "name": "stderr",
     "output_type": "stream",
     "text": [
      "100%|██████████| 238/238 [00:10<00:00, 22.11it/s]\n",
      "100%|██████████| 85/85 [00:00<00:00, 153.36it/s]\n",
      "100%|██████████| 17/17 [00:00<00:00, 148.17it/s]\n"
     ]
    },
    {
     "name": "stdout",
     "output_type": "stream",
     "text": [
      "Epoch:319/500.. Train Loss: 0.058.. Val Loss: 0.112.. Test Loss: 0.047.. Time: 0.19m\n"
     ]
    },
    {
     "name": "stderr",
     "output_type": "stream",
     "text": [
      "100%|██████████| 238/238 [00:10<00:00, 22.02it/s]\n",
      "100%|██████████| 85/85 [00:00<00:00, 148.23it/s]\n",
      "100%|██████████| 17/17 [00:00<00:00, 148.86it/s]\n"
     ]
    },
    {
     "name": "stdout",
     "output_type": "stream",
     "text": [
      "Epoch:320/500.. Train Loss: 0.059.. Val Loss: 0.112.. Test Loss: 0.047.. Time: 0.19m\n"
     ]
    },
    {
     "name": "stderr",
     "output_type": "stream",
     "text": [
      "100%|██████████| 238/238 [00:10<00:00, 22.40it/s]\n",
      "100%|██████████| 85/85 [00:00<00:00, 149.21it/s]\n",
      "100%|██████████| 17/17 [00:00<00:00, 146.78it/s]\n"
     ]
    },
    {
     "name": "stdout",
     "output_type": "stream",
     "text": [
      "Epoch:321/500.. Train Loss: 0.058.. Val Loss: 0.112.. Test Loss: 0.047.. Time: 0.19m\n"
     ]
    },
    {
     "name": "stderr",
     "output_type": "stream",
     "text": [
      "100%|██████████| 238/238 [00:10<00:00, 21.96it/s]\n",
      "100%|██████████| 85/85 [00:00<00:00, 151.47it/s]\n",
      "100%|██████████| 17/17 [00:00<00:00, 151.53it/s]\n"
     ]
    },
    {
     "name": "stdout",
     "output_type": "stream",
     "text": [
      "Epoch:322/500.. Train Loss: 0.058.. Val Loss: 0.112.. Test Loss: 0.048.. Time: 0.19m\n"
     ]
    },
    {
     "name": "stderr",
     "output_type": "stream",
     "text": [
      "100%|██████████| 238/238 [00:10<00:00, 21.68it/s]\n",
      "100%|██████████| 85/85 [00:00<00:00, 152.30it/s]\n",
      "100%|██████████| 17/17 [00:00<00:00, 150.06it/s]\n"
     ]
    },
    {
     "name": "stdout",
     "output_type": "stream",
     "text": [
      "Epoch:323/500.. Train Loss: 0.058.. Val Loss: 0.112.. Test Loss: 0.047.. Time: 0.19m\n"
     ]
    },
    {
     "name": "stderr",
     "output_type": "stream",
     "text": [
      "100%|██████████| 238/238 [00:11<00:00, 21.21it/s]\n",
      "100%|██████████| 85/85 [00:00<00:00, 144.67it/s]\n",
      "100%|██████████| 17/17 [00:00<00:00, 144.28it/s]\n"
     ]
    },
    {
     "name": "stdout",
     "output_type": "stream",
     "text": [
      "Epoch:324/500.. Train Loss: 0.058.. Val Loss: 0.112.. Test Loss: 0.047.. Time: 0.20m\n"
     ]
    },
    {
     "name": "stderr",
     "output_type": "stream",
     "text": [
      "100%|██████████| 238/238 [00:10<00:00, 22.09it/s]\n",
      "100%|██████████| 85/85 [00:00<00:00, 147.31it/s]\n",
      "100%|██████████| 17/17 [00:00<00:00, 146.33it/s]\n"
     ]
    },
    {
     "name": "stdout",
     "output_type": "stream",
     "text": [
      "Epoch:325/500.. Train Loss: 0.059.. Val Loss: 0.112.. Test Loss: 0.047.. Time: 0.19m\n"
     ]
    },
    {
     "name": "stderr",
     "output_type": "stream",
     "text": [
      "100%|██████████| 238/238 [00:10<00:00, 22.37it/s]\n",
      "100%|██████████| 85/85 [00:00<00:00, 149.88it/s]\n",
      "100%|██████████| 17/17 [00:00<00:00, 143.20it/s]\n"
     ]
    },
    {
     "name": "stdout",
     "output_type": "stream",
     "text": [
      "Epoch:326/500.. Train Loss: 0.058.. Val Loss: 0.112.. Test Loss: 0.046.. Time: 0.19m\n"
     ]
    },
    {
     "name": "stderr",
     "output_type": "stream",
     "text": [
      "100%|██████████| 238/238 [00:10<00:00, 21.91it/s]\n",
      "100%|██████████| 85/85 [00:00<00:00, 147.53it/s]\n",
      "100%|██████████| 17/17 [00:00<00:00, 145.99it/s]\n"
     ]
    },
    {
     "name": "stdout",
     "output_type": "stream",
     "text": [
      "Epoch:327/500.. Train Loss: 0.058.. Val Loss: 0.112.. Test Loss: 0.047.. Time: 0.19m\n"
     ]
    },
    {
     "name": "stderr",
     "output_type": "stream",
     "text": [
      "100%|██████████| 238/238 [00:10<00:00, 22.39it/s]\n",
      "100%|██████████| 85/85 [00:00<00:00, 144.48it/s]\n",
      "100%|██████████| 17/17 [00:00<00:00, 149.47it/s]\n"
     ]
    },
    {
     "name": "stdout",
     "output_type": "stream",
     "text": [
      "Epoch:328/500.. Train Loss: 0.059.. Val Loss: 0.112.. Test Loss: 0.047.. Time: 0.19m\n"
     ]
    },
    {
     "name": "stderr",
     "output_type": "stream",
     "text": [
      "100%|██████████| 238/238 [00:10<00:00, 21.76it/s]\n",
      "100%|██████████| 85/85 [00:00<00:00, 151.72it/s]\n",
      "100%|██████████| 17/17 [00:00<00:00, 149.75it/s]\n"
     ]
    },
    {
     "name": "stdout",
     "output_type": "stream",
     "text": [
      "Epoch:329/500.. Train Loss: 0.059.. Val Loss: 0.112.. Test Loss: 0.046.. Time: 0.19m\n"
     ]
    },
    {
     "name": "stderr",
     "output_type": "stream",
     "text": [
      "100%|██████████| 238/238 [00:10<00:00, 21.99it/s]\n",
      "100%|██████████| 85/85 [00:00<00:00, 151.04it/s]\n",
      "100%|██████████| 17/17 [00:00<00:00, 151.36it/s]\n"
     ]
    },
    {
     "name": "stdout",
     "output_type": "stream",
     "text": [
      "Epoch:330/500.. Train Loss: 0.058.. Val Loss: 0.112.. Test Loss: 0.047.. Time: 0.19m\n"
     ]
    },
    {
     "name": "stderr",
     "output_type": "stream",
     "text": [
      "100%|██████████| 238/238 [00:09<00:00, 24.96it/s]\n",
      "100%|██████████| 85/85 [00:00<00:00, 150.58it/s]\n",
      "100%|██████████| 17/17 [00:00<00:00, 148.37it/s]\n"
     ]
    },
    {
     "name": "stdout",
     "output_type": "stream",
     "text": [
      "Epoch:331/500.. Train Loss: 0.058.. Val Loss: 0.112.. Test Loss: 0.046.. Time: 0.17m\n"
     ]
    },
    {
     "name": "stderr",
     "output_type": "stream",
     "text": [
      "100%|██████████| 238/238 [00:09<00:00, 25.49it/s]\n",
      "100%|██████████| 85/85 [00:00<00:00, 150.18it/s]\n",
      "100%|██████████| 17/17 [00:00<00:00, 143.41it/s]\n"
     ]
    },
    {
     "name": "stdout",
     "output_type": "stream",
     "text": [
      "Epoch:332/500.. Train Loss: 0.059.. Val Loss: 0.112.. Test Loss: 0.047.. Time: 0.17m\n"
     ]
    },
    {
     "name": "stderr",
     "output_type": "stream",
     "text": [
      "100%|██████████| 238/238 [00:11<00:00, 21.45it/s]\n",
      "100%|██████████| 85/85 [00:00<00:00, 149.40it/s]\n",
      "100%|██████████| 17/17 [00:00<00:00, 146.46it/s]\n"
     ]
    },
    {
     "name": "stdout",
     "output_type": "stream",
     "text": [
      "Epoch:333/500.. Train Loss: 0.058.. Val Loss: 0.112.. Test Loss: 0.047.. Time: 0.20m\n"
     ]
    },
    {
     "name": "stderr",
     "output_type": "stream",
     "text": [
      "100%|██████████| 238/238 [00:10<00:00, 22.23it/s]\n",
      "100%|██████████| 85/85 [00:00<00:00, 147.41it/s]\n",
      "100%|██████████| 17/17 [00:00<00:00, 148.45it/s]\n"
     ]
    },
    {
     "name": "stdout",
     "output_type": "stream",
     "text": [
      "Epoch:334/500.. Train Loss: 0.059.. Val Loss: 0.112.. Test Loss: 0.047.. Time: 0.19m\n"
     ]
    },
    {
     "name": "stderr",
     "output_type": "stream",
     "text": [
      "100%|██████████| 238/238 [00:10<00:00, 22.12it/s]\n",
      "100%|██████████| 85/85 [00:00<00:00, 153.03it/s]\n",
      "100%|██████████| 17/17 [00:00<00:00, 139.39it/s]\n"
     ]
    },
    {
     "name": "stdout",
     "output_type": "stream",
     "text": [
      "Epoch:335/500.. Train Loss: 0.059.. Val Loss: 0.112.. Test Loss: 0.047.. Time: 0.19m\n"
     ]
    },
    {
     "name": "stderr",
     "output_type": "stream",
     "text": [
      "100%|██████████| 238/238 [00:10<00:00, 21.93it/s]\n",
      "100%|██████████| 85/85 [00:00<00:00, 153.50it/s]\n",
      "100%|██████████| 17/17 [00:00<00:00, 152.11it/s]\n"
     ]
    },
    {
     "name": "stdout",
     "output_type": "stream",
     "text": [
      "Epoch:336/500.. Train Loss: 0.059.. Val Loss: 0.115.. Test Loss: 0.046.. Time: 0.19m\n"
     ]
    },
    {
     "name": "stderr",
     "output_type": "stream",
     "text": [
      "100%|██████████| 238/238 [00:10<00:00, 21.88it/s]\n",
      "100%|██████████| 85/85 [00:00<00:00, 151.60it/s]\n",
      "100%|██████████| 17/17 [00:00<00:00, 140.21it/s]\n"
     ]
    },
    {
     "name": "stdout",
     "output_type": "stream",
     "text": [
      "Epoch:337/500.. Train Loss: 0.058.. Val Loss: 0.112.. Test Loss: 0.047.. Time: 0.19m\n"
     ]
    },
    {
     "name": "stderr",
     "output_type": "stream",
     "text": [
      "100%|██████████| 238/238 [00:10<00:00, 22.19it/s]\n",
      "100%|██████████| 85/85 [00:00<00:00, 151.11it/s]\n",
      "100%|██████████| 17/17 [00:00<00:00, 142.44it/s]\n"
     ]
    },
    {
     "name": "stdout",
     "output_type": "stream",
     "text": [
      "Epoch:338/500.. Train Loss: 0.058.. Val Loss: 0.112.. Test Loss: 0.046.. Time: 0.19m\n"
     ]
    },
    {
     "name": "stderr",
     "output_type": "stream",
     "text": [
      "100%|██████████| 238/238 [00:10<00:00, 21.65it/s]\n",
      "100%|██████████| 85/85 [00:00<00:00, 153.43it/s]\n",
      "100%|██████████| 17/17 [00:00<00:00, 145.67it/s]\n"
     ]
    },
    {
     "name": "stdout",
     "output_type": "stream",
     "text": [
      "Epoch:339/500.. Train Loss: 0.062.. Val Loss: 0.113.. Test Loss: 0.047.. Time: 0.19m\n"
     ]
    },
    {
     "name": "stderr",
     "output_type": "stream",
     "text": [
      "100%|██████████| 238/238 [00:10<00:00, 21.76it/s]\n",
      "100%|██████████| 85/85 [00:00<00:00, 151.55it/s]\n",
      "100%|██████████| 17/17 [00:00<00:00, 146.23it/s]\n"
     ]
    },
    {
     "name": "stdout",
     "output_type": "stream",
     "text": [
      "Epoch:340/500.. Train Loss: 0.059.. Val Loss: 0.112.. Test Loss: 0.047.. Time: 0.19m\n"
     ]
    },
    {
     "name": "stderr",
     "output_type": "stream",
     "text": [
      "100%|██████████| 238/238 [00:10<00:00, 22.16it/s]\n",
      "100%|██████████| 85/85 [00:00<00:00, 149.09it/s]\n",
      "100%|██████████| 17/17 [00:00<00:00, 149.72it/s]\n"
     ]
    },
    {
     "name": "stdout",
     "output_type": "stream",
     "text": [
      "Epoch:341/500.. Train Loss: 0.058.. Val Loss: 0.112.. Test Loss: 0.046.. Time: 0.19m\n"
     ]
    },
    {
     "name": "stderr",
     "output_type": "stream",
     "text": [
      "100%|██████████| 238/238 [00:10<00:00, 22.08it/s]\n",
      "100%|██████████| 85/85 [00:00<00:00, 148.81it/s]\n",
      "100%|██████████| 17/17 [00:00<00:00, 140.53it/s]\n"
     ]
    },
    {
     "name": "stdout",
     "output_type": "stream",
     "text": [
      "Epoch:342/500.. Train Loss: 0.058.. Val Loss: 0.112.. Test Loss: 0.047.. Time: 0.19m\n"
     ]
    },
    {
     "name": "stderr",
     "output_type": "stream",
     "text": [
      "100%|██████████| 238/238 [00:10<00:00, 22.00it/s]\n",
      "100%|██████████| 85/85 [00:00<00:00, 147.34it/s]\n",
      "100%|██████████| 17/17 [00:00<00:00, 143.10it/s]\n"
     ]
    },
    {
     "name": "stdout",
     "output_type": "stream",
     "text": [
      "Epoch:343/500.. Train Loss: 0.059.. Val Loss: 0.112.. Test Loss: 0.047.. Time: 0.19m\n"
     ]
    },
    {
     "name": "stderr",
     "output_type": "stream",
     "text": [
      "100%|██████████| 238/238 [00:10<00:00, 22.52it/s]\n",
      "100%|██████████| 85/85 [00:00<00:00, 142.69it/s]\n",
      "100%|██████████| 17/17 [00:00<00:00, 145.87it/s]\n"
     ]
    },
    {
     "name": "stdout",
     "output_type": "stream",
     "text": [
      "Epoch:344/500.. Train Loss: 0.059.. Val Loss: 0.113.. Test Loss: 0.047.. Time: 0.19m\n"
     ]
    },
    {
     "name": "stderr",
     "output_type": "stream",
     "text": [
      "100%|██████████| 238/238 [00:10<00:00, 22.06it/s]\n",
      "100%|██████████| 85/85 [00:00<00:00, 147.58it/s]\n",
      "100%|██████████| 17/17 [00:00<00:00, 146.40it/s]\n"
     ]
    },
    {
     "name": "stdout",
     "output_type": "stream",
     "text": [
      "Epoch:345/500.. Train Loss: 0.058.. Val Loss: 0.112.. Test Loss: 0.048.. Time: 0.19m\n"
     ]
    },
    {
     "name": "stderr",
     "output_type": "stream",
     "text": [
      "100%|██████████| 238/238 [00:10<00:00, 21.86it/s]\n",
      "100%|██████████| 85/85 [00:00<00:00, 154.44it/s]\n",
      "100%|██████████| 17/17 [00:00<00:00, 153.23it/s]\n"
     ]
    },
    {
     "name": "stdout",
     "output_type": "stream",
     "text": [
      "Epoch:346/500.. Train Loss: 0.058.. Val Loss: 0.113.. Test Loss: 0.047.. Time: 0.19m\n"
     ]
    },
    {
     "name": "stderr",
     "output_type": "stream",
     "text": [
      "100%|██████████| 238/238 [00:10<00:00, 21.65it/s]\n",
      "100%|██████████| 85/85 [00:00<00:00, 153.42it/s]\n",
      "100%|██████████| 17/17 [00:00<00:00, 148.06it/s]\n"
     ]
    },
    {
     "name": "stdout",
     "output_type": "stream",
     "text": [
      "Epoch:347/500.. Train Loss: 0.058.. Val Loss: 0.112.. Test Loss: 0.047.. Time: 0.19m\n"
     ]
    },
    {
     "name": "stderr",
     "output_type": "stream",
     "text": [
      "100%|██████████| 238/238 [00:10<00:00, 21.79it/s]\n",
      "100%|██████████| 85/85 [00:00<00:00, 152.68it/s]\n",
      "100%|██████████| 17/17 [00:00<00:00, 150.67it/s]\n"
     ]
    },
    {
     "name": "stdout",
     "output_type": "stream",
     "text": [
      "Epoch:348/500.. Train Loss: 0.058.. Val Loss: 0.112.. Test Loss: 0.047.. Time: 0.19m\n"
     ]
    },
    {
     "name": "stderr",
     "output_type": "stream",
     "text": [
      "100%|██████████| 238/238 [00:10<00:00, 21.85it/s]\n",
      "100%|██████████| 85/85 [00:00<00:00, 153.40it/s]\n",
      "100%|██████████| 17/17 [00:00<00:00, 153.48it/s]\n"
     ]
    },
    {
     "name": "stdout",
     "output_type": "stream",
     "text": [
      "Epoch:349/500.. Train Loss: 0.058.. Val Loss: 0.112.. Test Loss: 0.049.. Time: 0.19m\n"
     ]
    },
    {
     "name": "stderr",
     "output_type": "stream",
     "text": [
      "100%|██████████| 238/238 [00:10<00:00, 21.88it/s]\n",
      "100%|██████████| 85/85 [00:00<00:00, 149.46it/s]\n",
      "100%|██████████| 17/17 [00:00<00:00, 147.57it/s]\n"
     ]
    },
    {
     "name": "stdout",
     "output_type": "stream",
     "text": [
      "Epoch:350/500.. Train Loss: 0.058.. Val Loss: 0.112.. Test Loss: 0.048.. Time: 0.19m\n"
     ]
    },
    {
     "name": "stderr",
     "output_type": "stream",
     "text": [
      "100%|██████████| 238/238 [00:10<00:00, 21.97it/s]\n",
      "100%|██████████| 85/85 [00:00<00:00, 139.34it/s]\n",
      "100%|██████████| 17/17 [00:00<00:00, 152.57it/s]\n"
     ]
    },
    {
     "name": "stdout",
     "output_type": "stream",
     "text": [
      "Epoch:351/500.. Train Loss: 0.059.. Val Loss: 0.112.. Test Loss: 0.047.. Time: 0.19m\n"
     ]
    },
    {
     "name": "stderr",
     "output_type": "stream",
     "text": [
      "100%|██████████| 238/238 [00:10<00:00, 22.02it/s]\n",
      "100%|██████████| 85/85 [00:00<00:00, 154.39it/s]\n",
      "100%|██████████| 17/17 [00:00<00:00, 141.44it/s]\n"
     ]
    },
    {
     "name": "stdout",
     "output_type": "stream",
     "text": [
      "Epoch:352/500.. Train Loss: 0.058.. Val Loss: 0.112.. Test Loss: 0.046.. Time: 0.19m\n"
     ]
    },
    {
     "name": "stderr",
     "output_type": "stream",
     "text": [
      "100%|██████████| 238/238 [00:10<00:00, 22.17it/s]\n",
      "100%|██████████| 85/85 [00:00<00:00, 152.97it/s]\n",
      "100%|██████████| 17/17 [00:00<00:00, 150.72it/s]\n"
     ]
    },
    {
     "name": "stdout",
     "output_type": "stream",
     "text": [
      "Epoch:353/500.. Train Loss: 0.058.. Val Loss: 0.112.. Test Loss: 0.046.. Time: 0.19m\n"
     ]
    },
    {
     "name": "stderr",
     "output_type": "stream",
     "text": [
      "100%|██████████| 238/238 [00:10<00:00, 22.28it/s]\n",
      "100%|██████████| 85/85 [00:00<00:00, 151.58it/s]\n",
      "100%|██████████| 17/17 [00:00<00:00, 150.88it/s]\n"
     ]
    },
    {
     "name": "stdout",
     "output_type": "stream",
     "text": [
      "Epoch:354/500.. Train Loss: 0.058.. Val Loss: 0.113.. Test Loss: 0.046.. Time: 0.19m\n"
     ]
    },
    {
     "name": "stderr",
     "output_type": "stream",
     "text": [
      "100%|██████████| 238/238 [00:10<00:00, 22.45it/s]\n",
      "100%|██████████| 85/85 [00:00<00:00, 151.19it/s]\n",
      "100%|██████████| 17/17 [00:00<00:00, 145.22it/s]\n"
     ]
    },
    {
     "name": "stdout",
     "output_type": "stream",
     "text": [
      "Epoch:355/500.. Train Loss: 0.058.. Val Loss: 0.113.. Test Loss: 0.047.. Time: 0.19m\n"
     ]
    },
    {
     "name": "stderr",
     "output_type": "stream",
     "text": [
      "100%|██████████| 238/238 [00:10<00:00, 21.96it/s]\n",
      "100%|██████████| 85/85 [00:00<00:00, 151.77it/s]\n",
      "100%|██████████| 17/17 [00:00<00:00, 144.45it/s]\n"
     ]
    },
    {
     "name": "stdout",
     "output_type": "stream",
     "text": [
      "Epoch:356/500.. Train Loss: 0.058.. Val Loss: 0.112.. Test Loss: 0.047.. Time: 0.19m\n"
     ]
    },
    {
     "name": "stderr",
     "output_type": "stream",
     "text": [
      "100%|██████████| 238/238 [00:10<00:00, 22.00it/s]\n",
      "100%|██████████| 85/85 [00:00<00:00, 145.23it/s]\n",
      "100%|██████████| 17/17 [00:00<00:00, 149.51it/s]\n"
     ]
    },
    {
     "name": "stdout",
     "output_type": "stream",
     "text": [
      "Epoch:357/500.. Train Loss: 0.058.. Val Loss: 0.113.. Test Loss: 0.047.. Time: 0.19m\n"
     ]
    },
    {
     "name": "stderr",
     "output_type": "stream",
     "text": [
      "100%|██████████| 238/238 [00:10<00:00, 21.89it/s]\n",
      "100%|██████████| 85/85 [00:00<00:00, 147.72it/s]\n",
      "100%|██████████| 17/17 [00:00<00:00, 142.79it/s]\n"
     ]
    },
    {
     "name": "stdout",
     "output_type": "stream",
     "text": [
      "Epoch:358/500.. Train Loss: 0.059.. Val Loss: 0.112.. Test Loss: 0.047.. Time: 0.19m\n"
     ]
    },
    {
     "name": "stderr",
     "output_type": "stream",
     "text": [
      "100%|██████████| 238/238 [00:10<00:00, 22.05it/s]\n",
      "100%|██████████| 85/85 [00:00<00:00, 146.66it/s]\n",
      "100%|██████████| 17/17 [00:00<00:00, 146.09it/s]\n"
     ]
    },
    {
     "name": "stdout",
     "output_type": "stream",
     "text": [
      "Epoch:359/500.. Train Loss: 0.058.. Val Loss: 0.112.. Test Loss: 0.047.. Time: 0.19m\n"
     ]
    },
    {
     "name": "stderr",
     "output_type": "stream",
     "text": [
      "100%|██████████| 238/238 [00:10<00:00, 21.77it/s]\n",
      "100%|██████████| 85/85 [00:00<00:00, 151.10it/s]\n",
      "100%|██████████| 17/17 [00:00<00:00, 150.48it/s]\n"
     ]
    },
    {
     "name": "stdout",
     "output_type": "stream",
     "text": [
      "Epoch:360/500.. Train Loss: 0.058.. Val Loss: 0.112.. Test Loss: 0.047.. Time: 0.19m\n"
     ]
    },
    {
     "name": "stderr",
     "output_type": "stream",
     "text": [
      "100%|██████████| 238/238 [00:10<00:00, 22.20it/s]\n",
      "100%|██████████| 85/85 [00:00<00:00, 154.15it/s]\n",
      "100%|██████████| 17/17 [00:00<00:00, 149.06it/s]\n"
     ]
    },
    {
     "name": "stdout",
     "output_type": "stream",
     "text": [
      "Epoch:361/500.. Train Loss: 0.058.. Val Loss: 0.112.. Test Loss: 0.047.. Time: 0.19m\n"
     ]
    },
    {
     "name": "stderr",
     "output_type": "stream",
     "text": [
      "100%|██████████| 238/238 [00:10<00:00, 22.30it/s]\n",
      "100%|██████████| 85/85 [00:00<00:00, 147.18it/s]\n",
      "100%|██████████| 17/17 [00:00<00:00, 146.83it/s]\n"
     ]
    },
    {
     "name": "stdout",
     "output_type": "stream",
     "text": [
      "Epoch:362/500.. Train Loss: 0.058.. Val Loss: 0.112.. Test Loss: 0.047.. Time: 0.19m\n"
     ]
    },
    {
     "name": "stderr",
     "output_type": "stream",
     "text": [
      "100%|██████████| 238/238 [00:10<00:00, 21.82it/s]\n",
      "100%|██████████| 85/85 [00:00<00:00, 147.58it/s]\n",
      "100%|██████████| 17/17 [00:00<00:00, 139.47it/s]\n"
     ]
    },
    {
     "name": "stdout",
     "output_type": "stream",
     "text": [
      "Epoch:363/500.. Train Loss: 0.058.. Val Loss: 0.112.. Test Loss: 0.047.. Time: 0.19m\n"
     ]
    },
    {
     "name": "stderr",
     "output_type": "stream",
     "text": [
      "100%|██████████| 238/238 [00:10<00:00, 21.95it/s]\n",
      "100%|██████████| 85/85 [00:00<00:00, 152.83it/s]\n",
      "100%|██████████| 17/17 [00:00<00:00, 149.03it/s]\n"
     ]
    },
    {
     "name": "stdout",
     "output_type": "stream",
     "text": [
      "Epoch:364/500.. Train Loss: 0.058.. Val Loss: 0.112.. Test Loss: 0.047.. Time: 0.19m\n"
     ]
    },
    {
     "name": "stderr",
     "output_type": "stream",
     "text": [
      "100%|██████████| 238/238 [00:10<00:00, 21.80it/s]\n",
      "100%|██████████| 85/85 [00:00<00:00, 148.71it/s]\n",
      "100%|██████████| 17/17 [00:00<00:00, 148.22it/s]\n"
     ]
    },
    {
     "name": "stdout",
     "output_type": "stream",
     "text": [
      "Epoch:365/500.. Train Loss: 0.058.. Val Loss: 0.113.. Test Loss: 0.046.. Time: 0.19m\n"
     ]
    },
    {
     "name": "stderr",
     "output_type": "stream",
     "text": [
      "100%|██████████| 238/238 [00:10<00:00, 22.31it/s]\n",
      "100%|██████████| 85/85 [00:00<00:00, 149.89it/s]\n",
      "100%|██████████| 17/17 [00:00<00:00, 151.52it/s]\n"
     ]
    },
    {
     "name": "stdout",
     "output_type": "stream",
     "text": [
      "Epoch:366/500.. Train Loss: 0.058.. Val Loss: 0.112.. Test Loss: 0.047.. Time: 0.19m\n"
     ]
    },
    {
     "name": "stderr",
     "output_type": "stream",
     "text": [
      "100%|██████████| 238/238 [00:10<00:00, 22.23it/s]\n",
      "100%|██████████| 85/85 [00:00<00:00, 148.60it/s]\n",
      "100%|██████████| 17/17 [00:00<00:00, 151.85it/s]\n"
     ]
    },
    {
     "name": "stdout",
     "output_type": "stream",
     "text": [
      "Epoch:367/500.. Train Loss: 0.058.. Val Loss: 0.112.. Test Loss: 0.047.. Time: 0.19m\n"
     ]
    },
    {
     "name": "stderr",
     "output_type": "stream",
     "text": [
      "100%|██████████| 238/238 [00:10<00:00, 22.22it/s]\n",
      "100%|██████████| 85/85 [00:00<00:00, 160.22it/s]\n",
      "100%|██████████| 17/17 [00:00<00:00, 171.63it/s]\n"
     ]
    },
    {
     "name": "stdout",
     "output_type": "stream",
     "text": [
      "Epoch:368/500.. Train Loss: 0.058.. Val Loss: 0.112.. Test Loss: 0.047.. Time: 0.19m\n"
     ]
    },
    {
     "name": "stderr",
     "output_type": "stream",
     "text": [
      "100%|██████████| 238/238 [00:10<00:00, 23.67it/s]\n",
      "100%|██████████| 85/85 [00:00<00:00, 170.62it/s]\n",
      "100%|██████████| 17/17 [00:00<00:00, 173.74it/s]\n"
     ]
    },
    {
     "name": "stdout",
     "output_type": "stream",
     "text": [
      "Epoch:369/500.. Train Loss: 0.059.. Val Loss: 0.113.. Test Loss: 0.047.. Time: 0.18m\n"
     ]
    },
    {
     "name": "stderr",
     "output_type": "stream",
     "text": [
      "100%|██████████| 238/238 [00:09<00:00, 24.09it/s]\n",
      "100%|██████████| 85/85 [00:00<00:00, 169.69it/s]\n",
      "100%|██████████| 17/17 [00:00<00:00, 158.81it/s]\n"
     ]
    },
    {
     "name": "stdout",
     "output_type": "stream",
     "text": [
      "Epoch:370/500.. Train Loss: 0.059.. Val Loss: 0.112.. Test Loss: 0.047.. Time: 0.17m\n"
     ]
    },
    {
     "name": "stderr",
     "output_type": "stream",
     "text": [
      "100%|██████████| 238/238 [00:09<00:00, 23.91it/s]\n",
      "100%|██████████| 85/85 [00:00<00:00, 171.74it/s]\n",
      "100%|██████████| 17/17 [00:00<00:00, 169.89it/s]\n"
     ]
    },
    {
     "name": "stdout",
     "output_type": "stream",
     "text": [
      "Epoch:371/500.. Train Loss: 0.059.. Val Loss: 0.112.. Test Loss: 0.047.. Time: 0.18m\n"
     ]
    },
    {
     "name": "stderr",
     "output_type": "stream",
     "text": [
      "100%|██████████| 238/238 [00:09<00:00, 24.03it/s]\n",
      "100%|██████████| 85/85 [00:00<00:00, 161.93it/s]\n",
      "100%|██████████| 17/17 [00:00<00:00, 160.98it/s]\n"
     ]
    },
    {
     "name": "stdout",
     "output_type": "stream",
     "text": [
      "Epoch:372/500.. Train Loss: 0.058.. Val Loss: 0.112.. Test Loss: 0.048.. Time: 0.18m\n"
     ]
    },
    {
     "name": "stderr",
     "output_type": "stream",
     "text": [
      "100%|██████████| 238/238 [00:11<00:00, 21.63it/s]\n",
      "100%|██████████| 85/85 [00:00<00:00, 149.40it/s]\n",
      "100%|██████████| 17/17 [00:00<00:00, 154.03it/s]\n"
     ]
    },
    {
     "name": "stdout",
     "output_type": "stream",
     "text": [
      "Epoch:373/500.. Train Loss: 0.058.. Val Loss: 0.112.. Test Loss: 0.047.. Time: 0.19m\n"
     ]
    },
    {
     "name": "stderr",
     "output_type": "stream",
     "text": [
      " 10%|█         | 24/238 [00:01<00:10, 19.87it/s]"
     ]
    }
   ],
   "source": [
    "training.fit(model, train_loader, validation_loader, test_loader)\n",
    "best_model = training.get_best_model()"
   ]
  },
  {
   "cell_type": "code",
   "execution_count": null,
   "metadata": {
    "tags": []
   },
   "outputs": [],
   "source": [
    "fig, ax = plt.subplots()\n",
    "\n",
    "ax.plot(training.results['Train'], label='Train')\n",
    "ax.plot(training.results['Validation'], label='Validation')\n",
    "ax.plot(training.results['Test'], label='Test')\n",
    "ax.legend()"
   ]
  },
  {
   "cell_type": "markdown",
   "metadata": {},
   "source": [
    "## Evaluation and plotting classes"
   ]
  },
  {
   "cell_type": "code",
   "execution_count": null,
   "metadata": {
    "tags": []
   },
   "outputs": [],
   "source": [
    "class OSAEvaluator:\n",
    "    \n",
    "    def evaluate_OSA(self, dataset, model):\n",
    "        \n",
    "        torch.cuda.empty_cache()\n",
    "        Y_real = []\n",
    "        Y_pred = []\n",
    "        for i, data in enumerate(tqdm(dataset)):\n",
    "            src, tgt, y_real = data\n",
    "            src, tgt, y_real = src.to(device), tgt.to(device), y_real.to(device)\n",
    "            y_pred = model(src, tgt)\n",
    "            Y_real.append(y_real.reshape(1,-1))\n",
    "            Y_pred.append(y_pred)\n",
    "        \n",
    "        Y_real = torch.vstack(Y_real).cpu()\n",
    "        Y_pred = torch.vstack(Y_pred).cpu().detach()\n",
    "        print('********** OSA Evaluation summary **********')\n",
    "        print(f'OSA MSE: {mean_squared_error(Y_real, Y_pred)}')\n",
    "        print(f'OSA RMSE: {np.sqrt(mean_squared_error(Y_real, Y_pred))}')\n",
    "        print(f'OSA R2 score: {r2_score(Y_real, Y_pred)}')\n",
    "        print('********************************************')\n",
    "        return Y_real, Y_pred\n",
    "            \n",
    "class FSEvaluator:\n",
    "    \n",
    "    def evaluate_FS(self, dataset, model):\n",
    "        \n",
    "        torch.cuda.empty_cache()\n",
    "        Y_real = []\n",
    "        Y_pred = []\n",
    "        tgt_sim = None\n",
    "        for i, data in enumerate(tqdm(dataset)):\n",
    "            src, tgt, y_real = data\n",
    "            src, tgt, y_real = src.to(device), tgt.to(device), y_real.to(device)\n",
    "            if tgt_sim is None:\n",
    "                tgt_sim = tgt\n",
    "            else:\n",
    "                tgt_sim[:-1,:] = tgt_sim[1:,:]\n",
    "                tgt_sim[-1,:] = y_pred\n",
    "            y_pred = model(src, tgt_sim)\n",
    "            Y_real.append(y_real.reshape(1,-1))\n",
    "            Y_pred.append(y_pred)\n",
    "        \n",
    "        Y_real = torch.vstack(Y_real).cpu()\n",
    "        Y_pred = torch.vstack(Y_pred).cpu().detach()\n",
    "        print('*********** FS Evaluation summary **********')\n",
    "        print(f'FS MSE: {mean_squared_error(Y_real, Y_pred)}')\n",
    "        print(f'FS RMSE: {np.sqrt(mean_squared_error(Y_real, Y_pred))}')\n",
    "        print(f'FS R2 score: {r2_score(Y_real, Y_pred)}')\n",
    "        print('********************************************')\n",
    "        return Y_real, Y_pred\n",
    "    \n",
    "class Evaluator(OSAEvaluator, FSEvaluator):\n",
    "    \n",
    "    pass\n",
    "        "
   ]
  },
  {
   "cell_type": "code",
   "execution_count": null,
   "metadata": {
    "tags": []
   },
   "outputs": [],
   "source": [
    "evaluator = Evaluator()\n",
    "Y_real, Y_pred_OSA = evaluator.evaluate_OSA(test_dataset, model)\n",
    "Y_real, Y_pred_FS = evaluator.evaluate_FS(test_dataset, model)"
   ]
  },
  {
   "cell_type": "code",
   "execution_count": null,
   "metadata": {
    "tags": []
   },
   "outputs": [],
   "source": [
    "fig, ax = plt.subplots()\n",
    "ax.plot(Y_real, label='Real')\n",
    "ax.plot(Y_pred_OSA, label='OSA')\n",
    "ax.plot(Y_pred_FS, label='FS')\n",
    "ax.legend()"
   ]
  },
  {
   "cell_type": "code",
   "execution_count": null,
   "metadata": {
    "tags": []
   },
   "outputs": [],
   "source": [
    "evaluator = Evaluator()\n",
    "Y_real, Y_pred_OSA = evaluator.evaluate_OSA(test_dataset, best_model)\n",
    "Y_real, Y_pred_FS = evaluator.evaluate_FS(test_dataset, best_model)"
   ]
  },
  {
   "cell_type": "code",
   "execution_count": null,
   "metadata": {
    "tags": []
   },
   "outputs": [],
   "source": [
    "fig, ax = plt.subplots()\n",
    "ax.plot(Y_real, label='Real')\n",
    "ax.plot(Y_pred_OSA, label='OSA')\n",
    "ax.plot(Y_pred_FS, label='FS')\n",
    "ax.legend()"
   ]
  }
 ],
 "metadata": {
  "kernelspec": {
   "display_name": "raul_dl",
   "language": "python",
   "name": "raul_dl"
  },
  "language_info": {
   "codemirror_mode": {
    "name": "ipython",
    "version": 3
   },
   "file_extension": ".py",
   "mimetype": "text/x-python",
   "name": "python",
   "nbconvert_exporter": "python",
   "pygments_lexer": "ipython3",
   "version": "3.9.13"
  }
 },
 "nbformat": 4,
 "nbformat_minor": 4
}
