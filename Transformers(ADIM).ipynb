{
 "cells": [
  {
   "cell_type": "code",
   "execution_count": 1,
   "metadata": {
    "tags": []
   },
   "outputs": [
    {
     "name": "stdout",
     "output_type": "stream",
     "text": [
      "Fri Jun  9 22:23:29 2023       \n",
      "+-----------------------------------------------------------------------------+\n",
      "| NVIDIA-SMI 515.43.04    Driver Version: 515.43.04    CUDA Version: 11.7     |\n",
      "|-------------------------------+----------------------+----------------------+\n",
      "| GPU  Name        Persistence-M| Bus-Id        Disp.A | Volatile Uncorr. ECC |\n",
      "| Fan  Temp  Perf  Pwr:Usage/Cap|         Memory-Usage | GPU-Util  Compute M. |\n",
      "|                               |                      |               MIG M. |\n",
      "|===============================+======================+======================|\n",
      "|   0  Tesla V100-SXM2...  Off  | 00000000:15:00.0 Off |                    0 |\n",
      "| N/A   29C    P0    52W / 300W |   2844MiB / 32768MiB |      0%      Default |\n",
      "|                               |                      |                  N/A |\n",
      "+-------------------------------+----------------------+----------------------+\n",
      "                                                                               \n",
      "+-----------------------------------------------------------------------------+\n",
      "| Processes:                                                                  |\n",
      "|  GPU   GI   CI        PID   Type   Process name                  GPU Memory |\n",
      "|        ID   ID                                                   Usage      |\n",
      "|=============================================================================|\n",
      "|    0   N/A  N/A     48354      C   .../venvs/dl_raul/bin/python     2841MiB |\n",
      "+-----------------------------------------------------------------------------+\n"
     ]
    }
   ],
   "source": [
    "import math\n",
    "import json\n",
    "import time\n",
    "import numpy as np\n",
    "import pandas as pd\n",
    "import matplotlib.pyplot as plt\n",
    "from tqdm import tqdm\n",
    "\n",
    "import torch\n",
    "import torch.nn as nn\n",
    "import torch.optim as optim\n",
    "from torch.utils.data import Dataset\n",
    "from torch.utils.data.sampler import SubsetRandomSampler\n",
    "\n",
    "from sklearn.preprocessing import MinMaxScaler, RobustScaler\n",
    "from sklearn.model_selection import train_test_split\n",
    "from sklearn.metrics import mean_squared_error, r2_score\n",
    "\n",
    "!nvidia-smi"
   ]
  },
  {
   "cell_type": "code",
   "execution_count": 2,
   "metadata": {
    "tags": []
   },
   "outputs": [
    {
     "name": "stdout",
     "output_type": "stream",
     "text": [
      "cuda:0\n"
     ]
    }
   ],
   "source": [
    "# Dispositivo onde tensores serão criados, armazenados e processados\n",
    "device = torch.device(\"cuda:0\" if torch.cuda.is_available() else \"cpu\")\n",
    "print(device)\n",
    "# Randon Seed fixa para resultados reprodutíveis\n",
    "seed = 42\n",
    "torch.manual_seed(seed)\n",
    "torch.cuda.manual_seed(seed)"
   ]
  },
  {
   "cell_type": "markdown",
   "metadata": {},
   "source": [
    "## Data Loader"
   ]
  },
  {
   "cell_type": "code",
   "execution_count": 3,
   "metadata": {
    "tags": []
   },
   "outputs": [],
   "source": [
    "class WellLoader(Dataset):\n",
    "    \n",
    "    def __init__(self, \n",
    "                 path, \n",
    "                 wells, \n",
    "                 var_in, \n",
    "                 var_out, \n",
    "                 normalizing_split=0.2, \n",
    "                 normalizer=RobustScaler, \n",
    "                 max_sequence=16, \n",
    "                 step=1):\n",
    "        \n",
    "        self.path = path\n",
    "        with open(self.path + '/metadata.json', 'r') as metafile:\n",
    "            self.metadata = json.loads(metafile.read())\n",
    "        self.wells = wells\n",
    "        self.var_in = var_in\n",
    "        self.var_out = var_out\n",
    "        self.normalizing_split = normalizing_split\n",
    "        self.normalizer = normalizer\n",
    "        self.max_sequence = max_sequence\n",
    "        self.step = step\n",
    "        self.batches_X = None\n",
    "        self.batches_Y = None\n",
    "        self.outputs = None\n",
    "        self.normalizers = []\n",
    "        \n",
    "        indexes = self.get_wells_index(self.wells)\n",
    "        self.load_data_by_index(indexes)\n",
    "        \n",
    "    def get_wells_index(self, wells):\n",
    "        \n",
    "        indexes = []\n",
    "        for well, filt in wells:\n",
    "            indexes.extend([(meta['INDEX'], filt) for meta in self.metadata if meta['WELL'] == well])\n",
    "        return indexes\n",
    "    \n",
    "    def load_data_by_index(self, indexes):\n",
    "        \n",
    "        batches_X = []\n",
    "        batches_Y = []\n",
    "        outputs = []\n",
    "        for index, filt in indexes:\n",
    "            data = pd.read_json(f'{self.path}/{index}.json')#.reset_index()\n",
    "            # Armengue: Por liq vol para preencher o dataset\n",
    "            data['BORE_LIQ_VOL'] = data['BORE_OIL_VOL'] + data['BORE_WAT_VOL']\n",
    "            data = data[self.var_in + self.var_out].dropna().reset_index(drop=True)\n",
    "            X = data[self.var_in].values[filt,:]\n",
    "            Y = data[self.var_out].values[filt,:]\n",
    "            X_base, _, Y_base, _ = train_test_split(X, Y, test_size = self.normalizing_split)\n",
    "            scaler_X = self.normalizer().fit(X_base)\n",
    "            scaler_Y = self.normalizer().fit(Y_base)\n",
    "            self.normalizers.append((scaler_X, scaler_Y))\n",
    "            X, Y = scaler_X.transform(X), scaler_Y.transform(Y)\n",
    "            X, Y = torch.from_numpy(X.astype('float32')), torch.from_numpy(Y.astype('float32'))\n",
    "            output = Y[self.max_sequence::self.step]\n",
    "            #print(Y.shape)\n",
    "            #X = torch.split(X, self.max_sequence, dim= 0)\n",
    "            #Y = torch.split(Y, self.max_sequence, dim= 0)\n",
    "            X = X.unfold(0,self.max_sequence, self.step)\n",
    "            Y = Y.unfold(0,self.max_sequence, self.step)\n",
    "            batches_X.append(X)\n",
    "            batches_Y.append(Y)\n",
    "            outputs.append(output)\n",
    "            #print(X.shape)\n",
    "        self.batches_X = torch.concat(batches_X, axis=0)\n",
    "        self.batches_Y = torch.concat(batches_Y, axis=0)\n",
    "        self.outputs = torch.concat(outputs, axis=0)\n",
    "            \n",
    "    def __len__(self):\n",
    "        \n",
    "        return self.outputs.shape[0]\n",
    "    \n",
    "    def __getitem__(self, idx):\n",
    "                        \n",
    "        srcs = self.batches_X[idx,:,:]\n",
    "        trgts = self.batches_Y[idx,:,:]\n",
    "        output = self.outputs[idx,:]\n",
    "        \n",
    "        return srcs, trgts, output\n",
    "        \n",
    "        \n",
    "                 "
   ]
  },
  {
   "cell_type": "code",
   "execution_count": 4,
   "metadata": {
    "tags": []
   },
   "outputs": [],
   "source": [
    "path = './dataset/volve'\n",
    "wells = [\n",
    "    ('15/9-F-1 C', slice(28, None)),\n",
    "]\n",
    "\n",
    "var_in = [\n",
    "        'AVG_DOWNHOLE_PRESSURE',\n",
    "        'AVG_WHP_P',\n",
    "        'AVG_CHOKE_SIZE_P',\n",
    "        'AVG_WHT_P',\n",
    "        'AVG_DOWNHOLE_TEMPERATURE',\n",
    "]\n",
    "\n",
    "var_out = [\n",
    "        #'BORE_OIL_VOL',\n",
    "        'BORE_LIQ_VOL',\n",
    "        #'BORE_GAS_VOL',\n",
    "        #'BORE_WAT_VOL',\n",
    "]\n",
    "\n",
    "\n",
    "dataset = WellLoader(path, wells, var_in, var_out, max_sequence = 8)"
   ]
  },
  {
   "cell_type": "code",
   "execution_count": 5,
   "metadata": {
    "tags": []
   },
   "outputs": [],
   "source": [
    "class SubsetSplitter:\n",
    "    \n",
    "    def __init__(self, batch_size, validation_split, test_split, shuffle=False):\n",
    "        \n",
    "        self.batch_size = batch_size\n",
    "        self.validation_split = validation_split\n",
    "        self.test_split = test_split\n",
    "        self.shuffle = shuffle\n",
    "        \n",
    "    def __call__(self, dataset:Dataset):\n",
    "        \n",
    "        dataset_size = len(dataset)\n",
    "        indices = list(range(dataset_size))\n",
    "        validation_split = int(np.floor(self.validation_split * dataset_size))\n",
    "        test_split = int(np.floor(self.test_split * dataset_size))\n",
    "        train_split = dataset_size - validation_split - test_split\n",
    "        if self.shuffle :\n",
    "            np.random.shuffle(indices)\n",
    "        train_indices = indices[:train_split]\n",
    "        validation_indices = indices[train_split:train_split + validation_split]\n",
    "        test_indices = indices[train_split + validation_split:]\n",
    "\n",
    "        # Creating PT data samplers and loaders:\n",
    "        train_sampler = SubsetRandomSampler(train_indices)\n",
    "        valid_sampler = SubsetRandomSampler(validation_indices)\n",
    "        test_sampler = SubsetRandomSampler(test_indices)\n",
    "\n",
    "        train_loader = torch.utils.data.DataLoader(dataset, batch_size=self.batch_size, \n",
    "                                                   sampler=train_sampler)\n",
    "        validation_loader = torch.utils.data.DataLoader(dataset, batch_size=self.batch_size,\n",
    "                                                    sampler=valid_sampler)\n",
    "        test_loader = torch.utils.data.DataLoader(dataset, batch_size=self.batch_size,\n",
    "                                                    sampler=test_sampler)\n",
    "        \n",
    "        return train_loader, validation_loader, test_loader"
   ]
  },
  {
   "cell_type": "code",
   "execution_count": 6,
   "metadata": {
    "tags": []
   },
   "outputs": [],
   "source": [
    "splitter = SubsetSplitter(4, 0.2, 0.2)\n",
    "train_loader, validation_loader, test_loader = splitter(dataset)"
   ]
  },
  {
   "cell_type": "markdown",
   "metadata": {},
   "source": [
    "## Model definition"
   ]
  },
  {
   "cell_type": "code",
   "execution_count": 7,
   "metadata": {},
   "outputs": [
    {
     "data": {
      "text/plain": [
       "tensor([[[0.0000, 0.0000, 0.0000, 1.4286, 0.0000, 1.4286, 0.0000, 1.4286,\n",
       "          0.0000, 0.0000],\n",
       "         [0.0000, 0.0000, 0.0000, 0.0000, 0.0000, 1.4286, 0.0000, 0.0000,\n",
       "          0.0000, 1.4286]]])"
      ]
     },
     "execution_count": 7,
     "metadata": {},
     "output_type": "execute_result"
    }
   ],
   "source": [
    "class PositionalEncoding(nn.Module):\n",
    "    def __init__(self, dim_model, dropout_p, max_len):\n",
    "        super().__init__()\n",
    "        # Modified version from: https://pytorch.org/tutorials/beginner/transformer_tutorial.html\n",
    "        # max_len determines how far the position can have an effect on a token (window)\n",
    "        \n",
    "        # Info\n",
    "        self.dropout = nn.Dropout(dropout_p)\n",
    "        \n",
    "        # Encoding - From formula\n",
    "        pos_encoding = torch.zeros(max_len, dim_model)\n",
    "        positions_list = torch.arange(0, max_len, dtype=torch.float).view(-1, 1) # 0, 1, 2, 3, 4, 5\n",
    "        division_term = torch.exp(torch.arange(0, dim_model, 2).float() * (-math.log(10000.0)) / dim_model) # 1000^(2i/dim_model)\n",
    "        \n",
    "        # PE(pos, 2i) = sin(pos/1000^(2i/dim_model))\n",
    "        pos_encoding[:, 0::2] = torch.sin(positions_list * division_term)\n",
    "        \n",
    "        # PE(pos, 2i + 1) = cos(pos/1000^(2i/dim_model))\n",
    "        pos_encoding[:, 1::2] = torch.cos(positions_list * division_term)\n",
    "        \n",
    "        # Saving buffer (same as parameter without gradients needed)\n",
    "        pos_encoding = pos_encoding.unsqueeze(0).transpose(0, 1)\n",
    "        self.register_buffer(\"pos_encoding\",pos_encoding)\n",
    "        \n",
    "    def forward(self, token_embedding: torch.tensor) -> torch.tensor:\n",
    "        # Residual connection + pos encoding\n",
    "        return self.dropout(token_embedding + self.pos_encoding[:token_embedding.size(0), :])\n",
    "    \n",
    "    \n",
    "positional_encoding = PositionalEncoding(dim_model = 10, dropout_p=0.3, max_len=1200)\n",
    "tensor = torch.zeros((1,2,10))\n",
    "tensor\n",
    "encoded = positional_encoding(tensor)\n",
    "encoded"
   ]
  },
  {
   "cell_type": "code",
   "execution_count": 8,
   "metadata": {},
   "outputs": [],
   "source": [
    "class Transformer(nn.Module):\n",
    "    \"\"\"\n",
    "    Model from \"A detailed guide to Pytorch's nn.Transformer() module.\", by\n",
    "    Daniel Melchor: https://medium.com/@danielmelchor/a-detailed-guide-to-pytorchs-nn-transformer-module-c80afbc9ffb1\n",
    "    \"\"\"\n",
    "    # Constructor\n",
    "    def __init__(\n",
    "        self,\n",
    "        num_outputs,\n",
    "        dim_model,\n",
    "        num_heads,\n",
    "        num_encoder_layers,\n",
    "        num_decoder_layers,\n",
    "        dropout_p,\n",
    "        num_linear_layers=0,\n",
    "        norm_first=False\n",
    "    ):\n",
    "        super().__init__()\n",
    "\n",
    "        # INFO\n",
    "        self.model_type = \"Transformer\"\n",
    "        self.dim_model = dim_model\n",
    "\n",
    "        # LAYERS\n",
    "        self.positional_encoder = PositionalEncoding(\n",
    "            dim_model=dim_model, dropout_p=dropout_p, max_len=5000\n",
    "        )\n",
    "        #self.embedding = nn.Embedding(num_outputs, dim_model)\n",
    "        self.transformer = nn.Transformer(\n",
    "            d_model=dim_model,\n",
    "            nhead=num_heads,\n",
    "            num_encoder_layers=num_encoder_layers,\n",
    "            num_decoder_layers=num_decoder_layers,\n",
    "            dropout=dropout_p, \n",
    "            batch_first=True,\n",
    "            norm_first = norm_first\n",
    "        )\n",
    "        self.linear_layers = nn.ModuleList()\n",
    "        for i in range(num_linear_layers):\n",
    "            self.linear_layers.append(nn.Linear(dim_model, dim_model))\n",
    "            self.linear_layers.append(nn.ReLU6())\n",
    "        self.out = nn.Linear(dim_model, num_outputs)\n",
    "        #self.bias_layer = nn.Linear(dim_model, dim_model)\n",
    "        \n",
    "    def forward(self, src, tgt, tgt_mask=None, src_pad_mask=None, tgt_pad_mask=None):\n",
    "        # Src size must be (batch_size, src sequence length)\n",
    "        # Tgt size must be (batch_size, tgt sequence length)\n",
    "\n",
    "        # Embedding + positional encoding - Out size = (batch_size, sequence length, dim_model)\n",
    "        #src = self.embedding(src) * math.sqrt(self.dim_model)\n",
    "        #tgt = self.embedding(tgt) * math.sqrt(self.dim_model)\n",
    "        src_corr = src #* math.sqrt(self.dim_model)\n",
    "        tgt_corr = tgt #* math.sqrt(self.dim_model)\n",
    "        #src_corr = self.positional_encoder(src_corr)\n",
    "        #tgt_corr = self.positional_encoder(tgt_corr)\n",
    "        \n",
    "        # We could use the parameter batch_first=True, but our KDL version doesn't support it yet, so we permute\n",
    "        # to obtain size (sequence length, batch_size, dim_model),\n",
    "        #src = src.permute(1,0,2)\n",
    "        #tgt = tgt.permute(1,0,2)\n",
    "\n",
    "        # Transformer blocks - Out size = (sequence length, batch_size, num_tokens)\n",
    "        transformer_out = self.transformer(src_corr, tgt_corr, tgt_mask=tgt_mask, src_key_padding_mask=src_pad_mask, tgt_key_padding_mask=tgt_pad_mask)\n",
    "        for linear in self.linear_layers:\n",
    "            transformer_out = linear(transformer_out)\n",
    "        out = transformer_out\n",
    "        \n",
    "        #recuperando informacao de escala\n",
    "        #out = torch.mul(out, tgt)\n",
    "        #bias = self.bias_layer(tgt)\n",
    "        #out = torch.add(out, bias)\n",
    "        \n",
    "        out = self.out(out)\n",
    "        \n",
    "        \n",
    "        return out\n",
    "      \n",
    "    def get_tgt_mask(self, size) -> torch.tensor:\n",
    "        # Generates a squeare matrix where the each row allows one word more to be seen\n",
    "        mask = torch.tril(torch.ones(size, size) == 1) # Lower triangular matrix\n",
    "        mask = mask.float()\n",
    "        mask = mask.masked_fill(mask == 0, float('-inf')) # Convert zeros to -inf\n",
    "        mask = mask.masked_fill(mask == 1, float(0.0)) # Convert ones to 0\n",
    "        \n",
    "        # EX for size=5:\n",
    "        # [[0., -inf, -inf, -inf, -inf],\n",
    "        #  [0.,   0., -inf, -inf, -inf],\n",
    "        #  [0.,   0.,   0., -inf, -inf],\n",
    "        #  [0.,   0.,   0.,   0., -inf],\n",
    "        #  [0.,   0.,   0.,   0.,   0.]]\n",
    "        \n",
    "        return mask\n",
    "    \n",
    "    def create_pad_mask(self, matrix: torch.tensor, pad_token: int) -> torch.tensor:\n",
    "        # If matrix = [1,2,3,0,0,0] where pad_token=0, the result mask is\n",
    "        # [False, False, False, True, True, True]\n",
    "        return (matrix == pad_token)"
   ]
  },
  {
   "cell_type": "code",
   "execution_count": 9,
   "metadata": {
    "tags": []
   },
   "outputs": [],
   "source": [
    "class Training:\n",
    "    \n",
    "    def __init__(self, epochs, loss, optimizer, scheduler, path, patience=5):\n",
    "        \n",
    "        self.loss = loss\n",
    "        self.optimizer = optimizer\n",
    "        self.scheduler = scheduler\n",
    "        self.epochs = epochs\n",
    "        self.path = path\n",
    "        self.patience = patience\n",
    "        self.clear_results()\n",
    "        \n",
    "    def clear_results(self):\n",
    "        \n",
    "        self.results = {\n",
    "            'Train':[],\n",
    "            'Validation':[],\n",
    "            'Test':[],\n",
    "        }\n",
    "        \n",
    "    def fit(self, model, train_loader, validation_loader, test_loader):\n",
    "        \n",
    "        self.clear_results()\n",
    "        torch.cuda.empty_cache()\n",
    "        decrease = self.patience\n",
    "        not_improved = 0\n",
    "        \n",
    "        model.to(device)\n",
    "        fit_time = time.time()\n",
    "        \n",
    "        for e in range(self.epochs):\n",
    "            since = time.time()\n",
    "            running_loss = 0\n",
    "            #training loop\n",
    "            model.train()\n",
    "            self.train_loop(model, train_loader)\n",
    "            model.eval()\n",
    "            self.validation_loop(model, validation_loader)\n",
    "            self.test_loop(model, test_loader)\n",
    "            decrease, not_improved = self.early_stopping(validation_loader, decrease)\n",
    "            if not_improved == 1:\n",
    "                break\n",
    "            loss_per_training_batch = self.results['Train'][-1]\n",
    "            loss_per_validation_batch = self.results['Validation'][-1]\n",
    "            loss_per_test_batch = self.results['Test'][-1]\n",
    "            print(\"Epoch:{}/{}..\".format(e+1, self.epochs),\n",
    "                  \"Train Loss: {:.3f}..\".format(loss_per_training_batch),\n",
    "                  \"Val Loss: {:.3f}..\".format(loss_per_validation_batch),\n",
    "                  \"Test Loss: {:.3f}..\".format(loss_per_test_batch),\n",
    "                  \"Time: {:.2f}m\".format((time.time()-since)/60))\n",
    "        print('Total time: {:.2f} m' .format((time.time()- fit_time)/60))\n",
    "        \n",
    "    def train_loop(self, model, train_loader):\n",
    "        \n",
    "        running_loss = 0.0\n",
    "        for i, data in enumerate(tqdm(train_loader)):\n",
    "            #training phase\n",
    "            X, y_tgt, y_out = data\n",
    "            X, y_tgt, y_out = X.to(device), y_tgt.to(device), y_out.to(device)\n",
    "            #y_result, y_tgt = Y, torch.from_numpy(-1.0*np.ones(Y.shape).astype('float32')).to(device)\n",
    "            #y_tgt[:,:,1:] = Y[:,:,:-1]\n",
    "            #y_tgt[:,:,0] = 0.0\n",
    "            output = model(X, y_tgt)\n",
    "            loss = self.loss(output.ravel(), y_out.ravel())\n",
    "            #backward\n",
    "            loss.backward()\n",
    "            self.optimizer.step() #update weight          \n",
    "            self.optimizer.zero_grad() #reset gradient\n",
    "            \n",
    "            #step the learning rate\n",
    "            if not self.scheduler is None:\n",
    "                self.scheduler.step()\n",
    "            running_loss += loss.item()\n",
    "        \n",
    "        self.results['Train'].append(running_loss/len(train_loader))\n",
    "    \n",
    "    \n",
    "    def validation_loop(self, model, validation_loader):\n",
    "        \n",
    "        running_loss = 0.0\n",
    "        with torch.no_grad():\n",
    "            for i, data in enumerate(tqdm(validation_loader)):\n",
    "                #training phase\n",
    "                X, y_tgt, y_out = data\n",
    "                X, y_tgt, y_out = X.to(device), y_tgt.to(device), y_out.to(device)\n",
    "                #y_result, y_tgt = Y, torch.from_numpy(-1.0*np.ones(Y.shape).astype('float32')).to(device)\n",
    "                #y_tgt[:,:,1:] = Y[:,:,:-1]\n",
    "                #y_tgt[:,:,0] = 0.0\n",
    "                output = model(X, y_tgt)\n",
    "                loss = self.loss(output.ravel(), y_out.ravel())\n",
    "                \n",
    "                running_loss += loss.item()\n",
    "        \n",
    "        self.results['Validation'].append(running_loss/len(validation_loader))\n",
    "        \n",
    "    def test_loop(self, model, test_loader):\n",
    "        \n",
    "        running_loss = 0.0\n",
    "        with torch.no_grad():\n",
    "            for i, data in enumerate(tqdm(test_loader)):\n",
    "                #training phase\n",
    "                X, y_tgt, y_out = data\n",
    "                X, y_tgt, y_out = X.to(device), y_tgt.to(device), y_out.to(device)\n",
    "                #y_result, y_tgt = Y, torch.from_numpy(-1.0*np.ones(Y.shape).astype('float32')).to(device)\n",
    "                #y_tgt[:,:,1:] = Y[:,:,:-1]\n",
    "                #y_tgt[:,:,0] = 0.0\n",
    "                output = model(X, y_tgt)\n",
    "                loss = self.loss(output.ravel(), y_out.ravel())\n",
    "                \n",
    "                running_loss += loss.item()\n",
    "        \n",
    "        self.results['Test'].append(running_loss/len(test_loader))\n",
    "        \n",
    "    def early_stopping(self, validation_loader, decrease):\n",
    "        \n",
    "        loss_per_validation_batch = self.results['Validation'][-1]\n",
    "        min_loss = np.min(self.results['Validation'][:-1] + [np.inf])\n",
    "        if min_loss >= self.results['Validation'][-1]:\n",
    "            print('Loss Decreasing.. {:.3f} >> {:.3f} '.format(min_loss, loss_per_validation_batch))\n",
    "            decrease = self.patience\n",
    "            print('saving model...')\n",
    "            torch.save(model, self.path + '/Transformer.pt')\n",
    "        else:\n",
    "            decrease -= 1\n",
    "        if decrease < 0:\n",
    "                print('[***] end training ...')      \n",
    "                not_improved = 1\n",
    "        else:\n",
    "            not_improved = 0\n",
    "        return decrease, not_improved\n",
    "    \n",
    "    def get_best_model(self):\n",
    "        \n",
    "        model = torch.load(self.path + '/Transformer.pt')\n",
    "        return model\n",
    "            \n",
    "            \n",
    "        \n",
    "        \n",
    "            "
   ]
  },
  {
   "cell_type": "code",
   "execution_count": 10,
   "metadata": {
    "tags": []
   },
   "outputs": [],
   "source": [
    "model = Transformer(\n",
    "    num_outputs=1, dim_model=dataset.max_sequence, num_heads=2, \n",
    "    num_encoder_layers=3, num_decoder_layers=3, dropout_p=0.1, norm_first=False,num_linear_layers=0).to(device)\n",
    "\n",
    "lr_ = 1e-3\n",
    "epoch = 200\n",
    "weight_decay = 1e-4\n",
    "path = '.'\n",
    "\n",
    "loss = torch.nn.MSELoss()\n",
    "#optimizer = torch.optim.Adam(model.parameters(), lr=lr_)\n",
    "#optimizer = torch.optim.SGD(model.parameters(), lr=lr_)\n",
    "optimizer = torch.optim.AdamW(model.parameters(), lr=lr_, weight_decay=weight_decay)\n",
    "sched = None\n",
    "sched = torch.optim.lr_scheduler.OneCycleLR(optimizer, lr_, epochs=epoch,\n",
    "                                            steps_per_epoch=len(train_loader))\n",
    "training = Training(epoch, loss, optimizer, sched, path, patience=20)"
   ]
  },
  {
   "cell_type": "code",
   "execution_count": 11,
   "metadata": {
    "tags": []
   },
   "outputs": [
    {
     "name": "stderr",
     "output_type": "stream",
     "text": [
      "100%|██████████| 107/107 [00:02<00:00, 49.05it/s]\n",
      "100%|██████████| 36/36 [00:00<00:00, 391.88it/s]\n",
      "100%|██████████| 36/36 [00:00<00:00, 392.71it/s]\n"
     ]
    },
    {
     "name": "stdout",
     "output_type": "stream",
     "text": [
      "Loss Decreasing.. inf >> 0.241 \n",
      "saving model...\n",
      "Epoch:1/200.. Train Loss: 0.384.. Val Loss: 0.241.. Test Loss: 0.247.. Time: 0.04m\n"
     ]
    },
    {
     "name": "stderr",
     "output_type": "stream",
     "text": [
      "100%|██████████| 107/107 [00:01<00:00, 72.34it/s]\n",
      "100%|██████████| 36/36 [00:00<00:00, 388.43it/s]\n",
      "100%|██████████| 36/36 [00:00<00:00, 353.70it/s]\n"
     ]
    },
    {
     "name": "stdout",
     "output_type": "stream",
     "text": [
      "Loss Decreasing.. 0.241 >> 0.221 \n",
      "saving model...\n",
      "Epoch:2/200.. Train Loss: 0.234.. Val Loss: 0.221.. Test Loss: 0.220.. Time: 0.03m\n"
     ]
    },
    {
     "name": "stderr",
     "output_type": "stream",
     "text": [
      "100%|██████████| 107/107 [00:01<00:00, 73.57it/s]\n",
      "100%|██████████| 36/36 [00:00<00:00, 389.03it/s]\n",
      "100%|██████████| 36/36 [00:00<00:00, 382.87it/s]\n"
     ]
    },
    {
     "name": "stdout",
     "output_type": "stream",
     "text": [
      "Loss Decreasing.. 0.221 >> 0.170 \n",
      "saving model...\n",
      "Epoch:3/200.. Train Loss: 0.199.. Val Loss: 0.170.. Test Loss: 0.187.. Time: 0.03m\n"
     ]
    },
    {
     "name": "stderr",
     "output_type": "stream",
     "text": [
      "100%|██████████| 107/107 [00:01<00:00, 72.75it/s]\n",
      "100%|██████████| 36/36 [00:00<00:00, 387.67it/s]\n",
      "100%|██████████| 36/36 [00:00<00:00, 390.49it/s]\n"
     ]
    },
    {
     "name": "stdout",
     "output_type": "stream",
     "text": [
      "Loss Decreasing.. 0.170 >> 0.160 \n",
      "saving model...\n",
      "Epoch:4/200.. Train Loss: 0.177.. Val Loss: 0.160.. Test Loss: 0.180.. Time: 0.03m\n"
     ]
    },
    {
     "name": "stderr",
     "output_type": "stream",
     "text": [
      "100%|██████████| 107/107 [00:01<00:00, 72.02it/s]\n",
      "100%|██████████| 36/36 [00:00<00:00, 386.47it/s]\n",
      "100%|██████████| 36/36 [00:00<00:00, 388.04it/s]\n"
     ]
    },
    {
     "name": "stdout",
     "output_type": "stream",
     "text": [
      "Loss Decreasing.. 0.160 >> 0.151 \n",
      "saving model...\n",
      "Epoch:5/200.. Train Loss: 0.165.. Val Loss: 0.151.. Test Loss: 0.148.. Time: 0.03m\n"
     ]
    },
    {
     "name": "stderr",
     "output_type": "stream",
     "text": [
      "100%|██████████| 107/107 [00:01<00:00, 73.29it/s]\n",
      "100%|██████████| 36/36 [00:00<00:00, 382.26it/s]\n",
      "100%|██████████| 36/36 [00:00<00:00, 389.13it/s]\n"
     ]
    },
    {
     "name": "stdout",
     "output_type": "stream",
     "text": [
      "Loss Decreasing.. 0.151 >> 0.147 \n",
      "saving model...\n",
      "Epoch:6/200.. Train Loss: 0.138.. Val Loss: 0.147.. Test Loss: 0.145.. Time: 0.03m\n"
     ]
    },
    {
     "name": "stderr",
     "output_type": "stream",
     "text": [
      "100%|██████████| 107/107 [00:01<00:00, 74.14it/s]\n",
      "100%|██████████| 36/36 [00:00<00:00, 387.53it/s]\n",
      "100%|██████████| 36/36 [00:00<00:00, 386.77it/s]\n"
     ]
    },
    {
     "name": "stdout",
     "output_type": "stream",
     "text": [
      "Loss Decreasing.. 0.147 >> 0.137 \n",
      "saving model...\n",
      "Epoch:7/200.. Train Loss: 0.141.. Val Loss: 0.137.. Test Loss: 0.132.. Time: 0.03m\n"
     ]
    },
    {
     "name": "stderr",
     "output_type": "stream",
     "text": [
      "100%|██████████| 107/107 [00:01<00:00, 72.63it/s]\n",
      "100%|██████████| 36/36 [00:00<00:00, 389.33it/s]\n",
      "100%|██████████| 36/36 [00:00<00:00, 382.49it/s]\n"
     ]
    },
    {
     "name": "stdout",
     "output_type": "stream",
     "text": [
      "Loss Decreasing.. 0.137 >> 0.127 \n",
      "saving model...\n",
      "Epoch:8/200.. Train Loss: 0.122.. Val Loss: 0.127.. Test Loss: 0.121.. Time: 0.03m\n"
     ]
    },
    {
     "name": "stderr",
     "output_type": "stream",
     "text": [
      "100%|██████████| 107/107 [00:01<00:00, 72.47it/s]\n",
      "100%|██████████| 36/36 [00:00<00:00, 387.51it/s]\n",
      "100%|██████████| 36/36 [00:00<00:00, 390.12it/s]\n"
     ]
    },
    {
     "name": "stdout",
     "output_type": "stream",
     "text": [
      "Loss Decreasing.. 0.127 >> 0.122 \n",
      "saving model...\n",
      "Epoch:9/200.. Train Loss: 0.116.. Val Loss: 0.122.. Test Loss: 0.127.. Time: 0.03m\n"
     ]
    },
    {
     "name": "stderr",
     "output_type": "stream",
     "text": [
      "100%|██████████| 107/107 [00:01<00:00, 73.43it/s]\n",
      "100%|██████████| 36/36 [00:00<00:00, 389.81it/s]\n",
      "100%|██████████| 36/36 [00:00<00:00, 384.27it/s]\n"
     ]
    },
    {
     "name": "stdout",
     "output_type": "stream",
     "text": [
      "Loss Decreasing.. 0.122 >> 0.116 \n",
      "saving model...\n",
      "Epoch:10/200.. Train Loss: 0.115.. Val Loss: 0.116.. Test Loss: 0.124.. Time: 0.03m\n"
     ]
    },
    {
     "name": "stderr",
     "output_type": "stream",
     "text": [
      "100%|██████████| 107/107 [00:01<00:00, 72.66it/s]\n",
      "100%|██████████| 36/36 [00:00<00:00, 388.29it/s]\n",
      "100%|██████████| 36/36 [00:00<00:00, 389.23it/s]\n"
     ]
    },
    {
     "name": "stdout",
     "output_type": "stream",
     "text": [
      "Epoch:11/200.. Train Loss: 0.100.. Val Loss: 0.126.. Test Loss: 0.119.. Time: 0.03m\n"
     ]
    },
    {
     "name": "stderr",
     "output_type": "stream",
     "text": [
      "100%|██████████| 107/107 [00:01<00:00, 72.60it/s]\n",
      "100%|██████████| 36/36 [00:00<00:00, 379.10it/s]\n",
      "100%|██████████| 36/36 [00:00<00:00, 388.71it/s]\n"
     ]
    },
    {
     "name": "stdout",
     "output_type": "stream",
     "text": [
      "Epoch:12/200.. Train Loss: 0.112.. Val Loss: 0.128.. Test Loss: 0.123.. Time: 0.03m\n"
     ]
    },
    {
     "name": "stderr",
     "output_type": "stream",
     "text": [
      "100%|██████████| 107/107 [00:01<00:00, 72.15it/s]\n",
      "100%|██████████| 36/36 [00:00<00:00, 389.82it/s]\n",
      "100%|██████████| 36/36 [00:00<00:00, 384.52it/s]\n"
     ]
    },
    {
     "name": "stdout",
     "output_type": "stream",
     "text": [
      "Epoch:13/200.. Train Loss: 0.089.. Val Loss: 0.123.. Test Loss: 0.123.. Time: 0.03m\n"
     ]
    },
    {
     "name": "stderr",
     "output_type": "stream",
     "text": [
      "100%|██████████| 107/107 [00:01<00:00, 73.18it/s]\n",
      "100%|██████████| 36/36 [00:00<00:00, 390.43it/s]\n",
      "100%|██████████| 36/36 [00:00<00:00, 389.74it/s]\n"
     ]
    },
    {
     "name": "stdout",
     "output_type": "stream",
     "text": [
      "Loss Decreasing.. 0.116 >> 0.115 \n",
      "saving model...\n",
      "Epoch:14/200.. Train Loss: 0.092.. Val Loss: 0.115.. Test Loss: 0.114.. Time: 0.03m\n"
     ]
    },
    {
     "name": "stderr",
     "output_type": "stream",
     "text": [
      "100%|██████████| 107/107 [00:01<00:00, 70.59it/s]\n",
      "100%|██████████| 36/36 [00:00<00:00, 376.47it/s]\n",
      "100%|██████████| 36/36 [00:00<00:00, 351.67it/s]\n"
     ]
    },
    {
     "name": "stdout",
     "output_type": "stream",
     "text": [
      "Loss Decreasing.. 0.115 >> 0.111 \n",
      "saving model...\n",
      "Epoch:15/200.. Train Loss: 0.093.. Val Loss: 0.111.. Test Loss: 0.113.. Time: 0.03m\n"
     ]
    },
    {
     "name": "stderr",
     "output_type": "stream",
     "text": [
      "100%|██████████| 107/107 [00:01<00:00, 73.49it/s]\n",
      "100%|██████████| 36/36 [00:00<00:00, 384.69it/s]\n",
      "100%|██████████| 36/36 [00:00<00:00, 388.64it/s]\n"
     ]
    },
    {
     "name": "stdout",
     "output_type": "stream",
     "text": [
      "Epoch:16/200.. Train Loss: 0.094.. Val Loss: 0.122.. Test Loss: 0.121.. Time: 0.03m\n"
     ]
    },
    {
     "name": "stderr",
     "output_type": "stream",
     "text": [
      "100%|██████████| 107/107 [00:01<00:00, 74.31it/s]\n",
      "100%|██████████| 36/36 [00:00<00:00, 386.80it/s]\n",
      "100%|██████████| 36/36 [00:00<00:00, 387.99it/s]\n"
     ]
    },
    {
     "name": "stdout",
     "output_type": "stream",
     "text": [
      "Epoch:17/200.. Train Loss: 0.098.. Val Loss: 0.145.. Test Loss: 0.149.. Time: 0.03m\n"
     ]
    },
    {
     "name": "stderr",
     "output_type": "stream",
     "text": [
      "100%|██████████| 107/107 [00:01<00:00, 73.45it/s]\n",
      "100%|██████████| 36/36 [00:00<00:00, 382.34it/s]\n",
      "100%|██████████| 36/36 [00:00<00:00, 349.75it/s]\n"
     ]
    },
    {
     "name": "stdout",
     "output_type": "stream",
     "text": [
      "Epoch:18/200.. Train Loss: 0.112.. Val Loss: 0.111.. Test Loss: 0.107.. Time: 0.03m\n"
     ]
    },
    {
     "name": "stderr",
     "output_type": "stream",
     "text": [
      "100%|██████████| 107/107 [00:01<00:00, 72.50it/s]\n",
      "100%|██████████| 36/36 [00:00<00:00, 377.38it/s]\n",
      "100%|██████████| 36/36 [00:00<00:00, 386.58it/s]\n"
     ]
    },
    {
     "name": "stdout",
     "output_type": "stream",
     "text": [
      "Epoch:19/200.. Train Loss: 0.085.. Val Loss: 0.135.. Test Loss: 0.125.. Time: 0.03m\n"
     ]
    },
    {
     "name": "stderr",
     "output_type": "stream",
     "text": [
      "100%|██████████| 107/107 [00:01<00:00, 72.80it/s]\n",
      "100%|██████████| 36/36 [00:00<00:00, 384.58it/s]\n",
      "100%|██████████| 36/36 [00:00<00:00, 386.63it/s]\n"
     ]
    },
    {
     "name": "stdout",
     "output_type": "stream",
     "text": [
      "Loss Decreasing.. 0.111 >> 0.104 \n",
      "saving model...\n",
      "Epoch:20/200.. Train Loss: 0.097.. Val Loss: 0.104.. Test Loss: 0.111.. Time: 0.03m\n"
     ]
    },
    {
     "name": "stderr",
     "output_type": "stream",
     "text": [
      "100%|██████████| 107/107 [00:01<00:00, 73.88it/s]\n",
      "100%|██████████| 36/36 [00:00<00:00, 378.16it/s]\n",
      "100%|██████████| 36/36 [00:00<00:00, 380.02it/s]\n"
     ]
    },
    {
     "name": "stdout",
     "output_type": "stream",
     "text": [
      "Epoch:21/200.. Train Loss: 0.089.. Val Loss: 0.118.. Test Loss: 0.118.. Time: 0.03m\n"
     ]
    },
    {
     "name": "stderr",
     "output_type": "stream",
     "text": [
      "100%|██████████| 107/107 [00:01<00:00, 74.77it/s]\n",
      "100%|██████████| 36/36 [00:00<00:00, 388.30it/s]\n",
      "100%|██████████| 36/36 [00:00<00:00, 385.71it/s]\n"
     ]
    },
    {
     "name": "stdout",
     "output_type": "stream",
     "text": [
      "Epoch:22/200.. Train Loss: 0.088.. Val Loss: 0.110.. Test Loss: 0.099.. Time: 0.03m\n"
     ]
    },
    {
     "name": "stderr",
     "output_type": "stream",
     "text": [
      "100%|██████████| 107/107 [00:01<00:00, 74.74it/s]\n",
      "100%|██████████| 36/36 [00:00<00:00, 388.33it/s]\n",
      "100%|██████████| 36/36 [00:00<00:00, 388.80it/s]\n"
     ]
    },
    {
     "name": "stdout",
     "output_type": "stream",
     "text": [
      "Epoch:23/200.. Train Loss: 0.087.. Val Loss: 0.135.. Test Loss: 0.131.. Time: 0.03m\n"
     ]
    },
    {
     "name": "stderr",
     "output_type": "stream",
     "text": [
      "100%|██████████| 107/107 [00:01<00:00, 74.21it/s]\n",
      "100%|██████████| 36/36 [00:00<00:00, 387.56it/s]\n",
      "100%|██████████| 36/36 [00:00<00:00, 388.89it/s]\n"
     ]
    },
    {
     "name": "stdout",
     "output_type": "stream",
     "text": [
      "Epoch:24/200.. Train Loss: 0.079.. Val Loss: 0.140.. Test Loss: 0.131.. Time: 0.03m\n"
     ]
    },
    {
     "name": "stderr",
     "output_type": "stream",
     "text": [
      "100%|██████████| 107/107 [00:01<00:00, 72.30it/s]\n",
      "100%|██████████| 36/36 [00:00<00:00, 389.53it/s]\n",
      "100%|██████████| 36/36 [00:00<00:00, 385.44it/s]\n"
     ]
    },
    {
     "name": "stdout",
     "output_type": "stream",
     "text": [
      "Epoch:25/200.. Train Loss: 0.081.. Val Loss: 0.118.. Test Loss: 0.098.. Time: 0.03m\n"
     ]
    },
    {
     "name": "stderr",
     "output_type": "stream",
     "text": [
      "100%|██████████| 107/107 [00:01<00:00, 74.46it/s]\n",
      "100%|██████████| 36/36 [00:00<00:00, 389.20it/s]\n",
      "100%|██████████| 36/36 [00:00<00:00, 383.76it/s]\n"
     ]
    },
    {
     "name": "stdout",
     "output_type": "stream",
     "text": [
      "Epoch:26/200.. Train Loss: 0.086.. Val Loss: 0.112.. Test Loss: 0.110.. Time: 0.03m\n"
     ]
    },
    {
     "name": "stderr",
     "output_type": "stream",
     "text": [
      "100%|██████████| 107/107 [00:01<00:00, 71.89it/s]\n",
      "100%|██████████| 36/36 [00:00<00:00, 385.70it/s]\n",
      "100%|██████████| 36/36 [00:00<00:00, 390.54it/s]\n"
     ]
    },
    {
     "name": "stdout",
     "output_type": "stream",
     "text": [
      "Epoch:27/200.. Train Loss: 0.076.. Val Loss: 0.111.. Test Loss: 0.116.. Time: 0.03m\n"
     ]
    },
    {
     "name": "stderr",
     "output_type": "stream",
     "text": [
      "100%|██████████| 107/107 [00:01<00:00, 74.20it/s]\n",
      "100%|██████████| 36/36 [00:00<00:00, 381.39it/s]\n",
      "100%|██████████| 36/36 [00:00<00:00, 389.86it/s]\n"
     ]
    },
    {
     "name": "stdout",
     "output_type": "stream",
     "text": [
      "Epoch:28/200.. Train Loss: 0.074.. Val Loss: 0.118.. Test Loss: 0.108.. Time: 0.03m\n"
     ]
    },
    {
     "name": "stderr",
     "output_type": "stream",
     "text": [
      "100%|██████████| 107/107 [00:01<00:00, 73.02it/s]\n",
      "100%|██████████| 36/36 [00:00<00:00, 389.22it/s]\n",
      "100%|██████████| 36/36 [00:00<00:00, 390.67it/s]\n"
     ]
    },
    {
     "name": "stdout",
     "output_type": "stream",
     "text": [
      "Epoch:29/200.. Train Loss: 0.071.. Val Loss: 0.134.. Test Loss: 0.109.. Time: 0.03m\n"
     ]
    },
    {
     "name": "stderr",
     "output_type": "stream",
     "text": [
      "100%|██████████| 107/107 [00:01<00:00, 74.40it/s]\n",
      "100%|██████████| 36/36 [00:00<00:00, 386.71it/s]\n",
      "100%|██████████| 36/36 [00:00<00:00, 388.10it/s]\n"
     ]
    },
    {
     "name": "stdout",
     "output_type": "stream",
     "text": [
      "Epoch:30/200.. Train Loss: 0.077.. Val Loss: 0.119.. Test Loss: 0.123.. Time: 0.03m\n"
     ]
    },
    {
     "name": "stderr",
     "output_type": "stream",
     "text": [
      "100%|██████████| 107/107 [00:01<00:00, 73.85it/s]\n",
      "100%|██████████| 36/36 [00:00<00:00, 387.96it/s]\n",
      "100%|██████████| 36/36 [00:00<00:00, 384.83it/s]\n"
     ]
    },
    {
     "name": "stdout",
     "output_type": "stream",
     "text": [
      "Loss Decreasing.. 0.104 >> 0.102 \n",
      "saving model...\n",
      "Epoch:31/200.. Train Loss: 0.079.. Val Loss: 0.102.. Test Loss: 0.102.. Time: 0.03m\n"
     ]
    },
    {
     "name": "stderr",
     "output_type": "stream",
     "text": [
      "100%|██████████| 107/107 [00:01<00:00, 70.83it/s]\n",
      "100%|██████████| 36/36 [00:00<00:00, 388.14it/s]\n",
      "100%|██████████| 36/36 [00:00<00:00, 391.22it/s]\n"
     ]
    },
    {
     "name": "stdout",
     "output_type": "stream",
     "text": [
      "Epoch:32/200.. Train Loss: 0.078.. Val Loss: 0.125.. Test Loss: 0.128.. Time: 0.03m\n"
     ]
    },
    {
     "name": "stderr",
     "output_type": "stream",
     "text": [
      "100%|██████████| 107/107 [00:01<00:00, 74.30it/s]\n",
      "100%|██████████| 36/36 [00:00<00:00, 386.60it/s]\n",
      "100%|██████████| 36/36 [00:00<00:00, 385.09it/s]\n"
     ]
    },
    {
     "name": "stdout",
     "output_type": "stream",
     "text": [
      "Epoch:33/200.. Train Loss: 0.083.. Val Loss: 0.123.. Test Loss: 0.123.. Time: 0.03m\n"
     ]
    },
    {
     "name": "stderr",
     "output_type": "stream",
     "text": [
      "100%|██████████| 107/107 [00:01<00:00, 74.11it/s]\n",
      "100%|██████████| 36/36 [00:00<00:00, 338.91it/s]\n",
      "100%|██████████| 36/36 [00:00<00:00, 380.73it/s]\n"
     ]
    },
    {
     "name": "stdout",
     "output_type": "stream",
     "text": [
      "Epoch:34/200.. Train Loss: 0.081.. Val Loss: 0.104.. Test Loss: 0.093.. Time: 0.03m\n"
     ]
    },
    {
     "name": "stderr",
     "output_type": "stream",
     "text": [
      "100%|██████████| 107/107 [00:01<00:00, 72.02it/s]\n",
      "100%|██████████| 36/36 [00:00<00:00, 384.16it/s]\n",
      "100%|██████████| 36/36 [00:00<00:00, 386.54it/s]\n"
     ]
    },
    {
     "name": "stdout",
     "output_type": "stream",
     "text": [
      "Loss Decreasing.. 0.102 >> 0.097 \n",
      "saving model...\n",
      "Epoch:35/200.. Train Loss: 0.085.. Val Loss: 0.097.. Test Loss: 0.093.. Time: 0.03m\n"
     ]
    },
    {
     "name": "stderr",
     "output_type": "stream",
     "text": [
      "100%|██████████| 107/107 [00:01<00:00, 72.76it/s]\n",
      "100%|██████████| 36/36 [00:00<00:00, 386.16it/s]\n",
      "100%|██████████| 36/36 [00:00<00:00, 383.07it/s]\n"
     ]
    },
    {
     "name": "stdout",
     "output_type": "stream",
     "text": [
      "Epoch:36/200.. Train Loss: 0.071.. Val Loss: 0.151.. Test Loss: 0.120.. Time: 0.03m\n"
     ]
    },
    {
     "name": "stderr",
     "output_type": "stream",
     "text": [
      "100%|██████████| 107/107 [00:01<00:00, 73.79it/s]\n",
      "100%|██████████| 36/36 [00:00<00:00, 382.49it/s]\n",
      "100%|██████████| 36/36 [00:00<00:00, 380.44it/s]\n"
     ]
    },
    {
     "name": "stdout",
     "output_type": "stream",
     "text": [
      "Epoch:37/200.. Train Loss: 0.095.. Val Loss: 0.130.. Test Loss: 0.117.. Time: 0.03m\n"
     ]
    },
    {
     "name": "stderr",
     "output_type": "stream",
     "text": [
      "100%|██████████| 107/107 [00:01<00:00, 73.05it/s]\n",
      "100%|██████████| 36/36 [00:00<00:00, 390.57it/s]\n",
      "100%|██████████| 36/36 [00:00<00:00, 392.36it/s]\n"
     ]
    },
    {
     "name": "stdout",
     "output_type": "stream",
     "text": [
      "Epoch:38/200.. Train Loss: 0.076.. Val Loss: 0.113.. Test Loss: 0.099.. Time: 0.03m\n"
     ]
    },
    {
     "name": "stderr",
     "output_type": "stream",
     "text": [
      "100%|██████████| 107/107 [00:01<00:00, 73.60it/s]\n",
      "100%|██████████| 36/36 [00:00<00:00, 389.63it/s]\n",
      "100%|██████████| 36/36 [00:00<00:00, 387.23it/s]\n"
     ]
    },
    {
     "name": "stdout",
     "output_type": "stream",
     "text": [
      "Epoch:39/200.. Train Loss: 0.078.. Val Loss: 0.099.. Test Loss: 0.098.. Time: 0.03m\n"
     ]
    },
    {
     "name": "stderr",
     "output_type": "stream",
     "text": [
      "100%|██████████| 107/107 [00:01<00:00, 74.44it/s]\n",
      "100%|██████████| 36/36 [00:00<00:00, 390.43it/s]\n",
      "100%|██████████| 36/36 [00:00<00:00, 390.01it/s]\n"
     ]
    },
    {
     "name": "stdout",
     "output_type": "stream",
     "text": [
      "Epoch:40/200.. Train Loss: 0.067.. Val Loss: 0.109.. Test Loss: 0.108.. Time: 0.03m\n"
     ]
    },
    {
     "name": "stderr",
     "output_type": "stream",
     "text": [
      "100%|██████████| 107/107 [00:01<00:00, 72.68it/s]\n",
      "100%|██████████| 36/36 [00:00<00:00, 386.37it/s]\n",
      "100%|██████████| 36/36 [00:00<00:00, 381.14it/s]\n"
     ]
    },
    {
     "name": "stdout",
     "output_type": "stream",
     "text": [
      "Epoch:41/200.. Train Loss: 0.075.. Val Loss: 0.104.. Test Loss: 0.087.. Time: 0.03m\n"
     ]
    },
    {
     "name": "stderr",
     "output_type": "stream",
     "text": [
      "100%|██████████| 107/107 [00:01<00:00, 73.25it/s]\n",
      "100%|██████████| 36/36 [00:00<00:00, 389.48it/s]\n",
      "100%|██████████| 36/36 [00:00<00:00, 391.46it/s]\n"
     ]
    },
    {
     "name": "stdout",
     "output_type": "stream",
     "text": [
      "Epoch:42/200.. Train Loss: 0.073.. Val Loss: 0.201.. Test Loss: 0.146.. Time: 0.03m\n"
     ]
    },
    {
     "name": "stderr",
     "output_type": "stream",
     "text": [
      "100%|██████████| 107/107 [00:01<00:00, 74.68it/s]\n",
      "100%|██████████| 36/36 [00:00<00:00, 390.37it/s]\n",
      "100%|██████████| 36/36 [00:00<00:00, 390.40it/s]\n"
     ]
    },
    {
     "name": "stdout",
     "output_type": "stream",
     "text": [
      "Loss Decreasing.. 0.097 >> 0.094 \n",
      "saving model...\n",
      "Epoch:43/200.. Train Loss: 0.081.. Val Loss: 0.094.. Test Loss: 0.078.. Time: 0.03m\n"
     ]
    },
    {
     "name": "stderr",
     "output_type": "stream",
     "text": [
      "100%|██████████| 107/107 [00:01<00:00, 74.29it/s]\n",
      "100%|██████████| 36/36 [00:00<00:00, 374.83it/s]\n",
      "100%|██████████| 36/36 [00:00<00:00, 389.57it/s]\n"
     ]
    },
    {
     "name": "stdout",
     "output_type": "stream",
     "text": [
      "Epoch:44/200.. Train Loss: 0.068.. Val Loss: 0.100.. Test Loss: 0.093.. Time: 0.03m\n"
     ]
    },
    {
     "name": "stderr",
     "output_type": "stream",
     "text": [
      "100%|██████████| 107/107 [00:01<00:00, 73.23it/s]\n",
      "100%|██████████| 36/36 [00:00<00:00, 385.69it/s]\n",
      "100%|██████████| 36/36 [00:00<00:00, 392.10it/s]\n"
     ]
    },
    {
     "name": "stdout",
     "output_type": "stream",
     "text": [
      "Epoch:45/200.. Train Loss: 0.077.. Val Loss: 0.116.. Test Loss: 0.085.. Time: 0.03m\n"
     ]
    },
    {
     "name": "stderr",
     "output_type": "stream",
     "text": [
      "100%|██████████| 107/107 [00:01<00:00, 73.75it/s]\n",
      "100%|██████████| 36/36 [00:00<00:00, 390.91it/s]\n",
      "100%|██████████| 36/36 [00:00<00:00, 390.64it/s]\n"
     ]
    },
    {
     "name": "stdout",
     "output_type": "stream",
     "text": [
      "Epoch:46/200.. Train Loss: 0.072.. Val Loss: 0.115.. Test Loss: 0.119.. Time: 0.03m\n"
     ]
    },
    {
     "name": "stderr",
     "output_type": "stream",
     "text": [
      "100%|██████████| 107/107 [00:01<00:00, 73.57it/s]\n",
      "100%|██████████| 36/36 [00:00<00:00, 379.54it/s]\n",
      "100%|██████████| 36/36 [00:00<00:00, 391.84it/s]\n"
     ]
    },
    {
     "name": "stdout",
     "output_type": "stream",
     "text": [
      "Epoch:47/200.. Train Loss: 0.068.. Val Loss: 0.124.. Test Loss: 0.111.. Time: 0.03m\n"
     ]
    },
    {
     "name": "stderr",
     "output_type": "stream",
     "text": [
      "100%|██████████| 107/107 [00:01<00:00, 69.17it/s]\n",
      "100%|██████████| 36/36 [00:00<00:00, 383.15it/s]\n",
      "100%|██████████| 36/36 [00:00<00:00, 391.89it/s]\n"
     ]
    },
    {
     "name": "stdout",
     "output_type": "stream",
     "text": [
      "Epoch:48/200.. Train Loss: 0.070.. Val Loss: 0.103.. Test Loss: 0.106.. Time: 0.03m\n"
     ]
    },
    {
     "name": "stderr",
     "output_type": "stream",
     "text": [
      "100%|██████████| 107/107 [00:01<00:00, 74.02it/s]\n",
      "100%|██████████| 36/36 [00:00<00:00, 390.21it/s]\n",
      "100%|██████████| 36/36 [00:00<00:00, 390.45it/s]\n"
     ]
    },
    {
     "name": "stdout",
     "output_type": "stream",
     "text": [
      "Epoch:49/200.. Train Loss: 0.074.. Val Loss: 0.113.. Test Loss: 0.089.. Time: 0.03m\n"
     ]
    },
    {
     "name": "stderr",
     "output_type": "stream",
     "text": [
      "100%|██████████| 107/107 [00:01<00:00, 74.15it/s]\n",
      "100%|██████████| 36/36 [00:00<00:00, 390.67it/s]\n",
      "100%|██████████| 36/36 [00:00<00:00, 390.68it/s]\n"
     ]
    },
    {
     "name": "stdout",
     "output_type": "stream",
     "text": [
      "Epoch:50/200.. Train Loss: 0.070.. Val Loss: 0.136.. Test Loss: 0.128.. Time: 0.03m\n"
     ]
    },
    {
     "name": "stderr",
     "output_type": "stream",
     "text": [
      "100%|██████████| 107/107 [00:01<00:00, 73.25it/s]\n",
      "100%|██████████| 36/36 [00:00<00:00, 383.42it/s]\n",
      "100%|██████████| 36/36 [00:00<00:00, 391.65it/s]\n"
     ]
    },
    {
     "name": "stdout",
     "output_type": "stream",
     "text": [
      "Epoch:51/200.. Train Loss: 0.078.. Val Loss: 0.154.. Test Loss: 0.137.. Time: 0.03m\n"
     ]
    },
    {
     "name": "stderr",
     "output_type": "stream",
     "text": [
      "100%|██████████| 107/107 [00:01<00:00, 73.80it/s]\n",
      "100%|██████████| 36/36 [00:00<00:00, 377.12it/s]\n",
      "100%|██████████| 36/36 [00:00<00:00, 390.12it/s]\n"
     ]
    },
    {
     "name": "stdout",
     "output_type": "stream",
     "text": [
      "Epoch:52/200.. Train Loss: 0.072.. Val Loss: 0.102.. Test Loss: 0.104.. Time: 0.03m\n"
     ]
    },
    {
     "name": "stderr",
     "output_type": "stream",
     "text": [
      "100%|██████████| 107/107 [00:01<00:00, 72.74it/s]\n",
      "100%|██████████| 36/36 [00:00<00:00, 341.37it/s]\n",
      "100%|██████████| 36/36 [00:00<00:00, 384.89it/s]\n"
     ]
    },
    {
     "name": "stdout",
     "output_type": "stream",
     "text": [
      "Epoch:53/200.. Train Loss: 0.086.. Val Loss: 0.170.. Test Loss: 0.106.. Time: 0.03m\n"
     ]
    },
    {
     "name": "stderr",
     "output_type": "stream",
     "text": [
      "100%|██████████| 107/107 [00:01<00:00, 72.55it/s]\n",
      "100%|██████████| 36/36 [00:00<00:00, 378.24it/s]\n",
      "100%|██████████| 36/36 [00:00<00:00, 383.73it/s]\n"
     ]
    },
    {
     "name": "stdout",
     "output_type": "stream",
     "text": [
      "Epoch:54/200.. Train Loss: 0.070.. Val Loss: 0.115.. Test Loss: 0.137.. Time: 0.03m\n"
     ]
    },
    {
     "name": "stderr",
     "output_type": "stream",
     "text": [
      "100%|██████████| 107/107 [00:01<00:00, 73.69it/s]\n",
      "100%|██████████| 36/36 [00:00<00:00, 385.90it/s]\n",
      "100%|██████████| 36/36 [00:00<00:00, 386.94it/s]\n"
     ]
    },
    {
     "name": "stdout",
     "output_type": "stream",
     "text": [
      "Epoch:55/200.. Train Loss: 0.068.. Val Loss: 0.119.. Test Loss: 0.104.. Time: 0.03m\n"
     ]
    },
    {
     "name": "stderr",
     "output_type": "stream",
     "text": [
      "100%|██████████| 107/107 [00:01<00:00, 74.38it/s]\n",
      "100%|██████████| 36/36 [00:00<00:00, 382.36it/s]\n",
      "100%|██████████| 36/36 [00:00<00:00, 386.74it/s]\n"
     ]
    },
    {
     "name": "stdout",
     "output_type": "stream",
     "text": [
      "Epoch:56/200.. Train Loss: 0.063.. Val Loss: 0.145.. Test Loss: 0.129.. Time: 0.03m\n"
     ]
    },
    {
     "name": "stderr",
     "output_type": "stream",
     "text": [
      "100%|██████████| 107/107 [00:01<00:00, 73.61it/s]\n",
      "100%|██████████| 36/36 [00:00<00:00, 383.92it/s]\n",
      "100%|██████████| 36/36 [00:00<00:00, 375.21it/s]\n"
     ]
    },
    {
     "name": "stdout",
     "output_type": "stream",
     "text": [
      "Epoch:57/200.. Train Loss: 0.096.. Val Loss: 0.159.. Test Loss: 0.143.. Time: 0.03m\n"
     ]
    },
    {
     "name": "stderr",
     "output_type": "stream",
     "text": [
      "100%|██████████| 107/107 [00:01<00:00, 73.35it/s]\n",
      "100%|██████████| 36/36 [00:00<00:00, 351.81it/s]\n",
      "100%|██████████| 36/36 [00:00<00:00, 388.83it/s]\n"
     ]
    },
    {
     "name": "stdout",
     "output_type": "stream",
     "text": [
      "Epoch:58/200.. Train Loss: 0.093.. Val Loss: 0.110.. Test Loss: 0.144.. Time: 0.03m\n"
     ]
    },
    {
     "name": "stderr",
     "output_type": "stream",
     "text": [
      "100%|██████████| 107/107 [00:01<00:00, 73.48it/s]\n",
      "100%|██████████| 36/36 [00:00<00:00, 386.03it/s]\n",
      "100%|██████████| 36/36 [00:00<00:00, 390.96it/s]\n"
     ]
    },
    {
     "name": "stdout",
     "output_type": "stream",
     "text": [
      "Epoch:59/200.. Train Loss: 0.075.. Val Loss: 0.106.. Test Loss: 0.111.. Time: 0.03m\n"
     ]
    },
    {
     "name": "stderr",
     "output_type": "stream",
     "text": [
      "100%|██████████| 107/107 [00:01<00:00, 74.91it/s]\n",
      "100%|██████████| 36/36 [00:00<00:00, 390.94it/s]\n",
      "100%|██████████| 36/36 [00:00<00:00, 387.41it/s]\n"
     ]
    },
    {
     "name": "stdout",
     "output_type": "stream",
     "text": [
      "Epoch:60/200.. Train Loss: 0.071.. Val Loss: 0.115.. Test Loss: 0.124.. Time: 0.03m\n"
     ]
    },
    {
     "name": "stderr",
     "output_type": "stream",
     "text": [
      "100%|██████████| 107/107 [00:01<00:00, 74.04it/s]\n",
      "100%|██████████| 36/36 [00:00<00:00, 386.53it/s]\n",
      "100%|██████████| 36/36 [00:00<00:00, 392.11it/s]\n"
     ]
    },
    {
     "name": "stdout",
     "output_type": "stream",
     "text": [
      "Epoch:61/200.. Train Loss: 0.074.. Val Loss: 0.107.. Test Loss: 0.117.. Time: 0.03m\n"
     ]
    },
    {
     "name": "stderr",
     "output_type": "stream",
     "text": [
      "100%|██████████| 107/107 [00:01<00:00, 74.31it/s]\n",
      "100%|██████████| 36/36 [00:00<00:00, 389.55it/s]\n",
      "100%|██████████| 36/36 [00:00<00:00, 388.51it/s]\n"
     ]
    },
    {
     "name": "stdout",
     "output_type": "stream",
     "text": [
      "Epoch:62/200.. Train Loss: 0.067.. Val Loss: 0.116.. Test Loss: 0.116.. Time: 0.03m\n"
     ]
    },
    {
     "name": "stderr",
     "output_type": "stream",
     "text": [
      "100%|██████████| 107/107 [00:01<00:00, 74.98it/s]\n",
      "100%|██████████| 36/36 [00:00<00:00, 390.02it/s]\n",
      "100%|██████████| 36/36 [00:00<00:00, 391.52it/s]\n"
     ]
    },
    {
     "name": "stdout",
     "output_type": "stream",
     "text": [
      "Epoch:63/200.. Train Loss: 0.067.. Val Loss: 0.123.. Test Loss: 0.112.. Time: 0.03m\n"
     ]
    },
    {
     "name": "stderr",
     "output_type": "stream",
     "text": [
      "100%|██████████| 107/107 [00:01<00:00, 74.35it/s]\n",
      "100%|██████████| 36/36 [00:00<00:00, 391.35it/s]\n",
      "100%|██████████| 36/36 [00:00<00:00, 391.55it/s]\n"
     ]
    },
    {
     "name": "stdout",
     "output_type": "stream",
     "text": [
      "[***] end training ...\n",
      "Total time: 1.78 m\n"
     ]
    }
   ],
   "source": [
    "training.fit(model, train_loader, validation_loader, test_loader)\n",
    "model = training.get_best_model()"
   ]
  },
  {
   "cell_type": "code",
   "execution_count": 12,
   "metadata": {
    "tags": []
   },
   "outputs": [
    {
     "data": {
      "text/plain": [
       "<matplotlib.legend.Legend at 0x2b942c572d60>"
      ]
     },
     "execution_count": 12,
     "metadata": {},
     "output_type": "execute_result"
    },
    {
     "data": {
      "image/png": "[encoded data removed]",
      "text/plain": [
       "<Figure size 640x480 with 1 Axes>"
      ]
     },
     "metadata": {},
     "output_type": "display_data"
    }
   ],
   "source": [
    "fig, ax = plt.subplots()\n",
    "\n",
    "ax.plot(training.results['Train'], label='Train')\n",
    "ax.plot(training.results['Validation'], label='Validation')\n",
    "ax.plot(training.results['Test'], label='Test')\n",
    "ax.legend()"
   ]
  },
  {
   "cell_type": "markdown",
   "metadata": {},
   "source": [
    "## Evaluation and plotting classes"
   ]
  },
  {
   "cell_type": "code",
   "execution_count": 13,
   "metadata": {
    "tags": []
   },
   "outputs": [],
   "source": [
    "class OSAEvaluator:\n",
    "    \n",
    "    def evaluate_OSA(self, dataset, model):\n",
    "        \n",
    "        torch.cuda.empty_cache()\n",
    "        Y_real = []\n",
    "        Y_pred = []\n",
    "        for i, data in enumerate(tqdm(dataset)):\n",
    "            src, tgt, y_real = data\n",
    "            src, tgt, y_real = src.to(device), tgt.to(device), y_real.to(device)\n",
    "            y_pred = model(src, tgt)\n",
    "            Y_real.append(y_real.reshape(1,-1))\n",
    "            Y_pred.append(y_pred)\n",
    "        \n",
    "        Y_real = torch.vstack(Y_real).cpu()\n",
    "        Y_pred = torch.vstack(Y_pred).cpu().detach()\n",
    "        return Y_real, Y_pred\n",
    "            \n",
    "class FSEvaluator:\n",
    "    \n",
    "    def evaluate_FS(self, dataset, model):\n",
    "        \n",
    "        torch.cuda.empty_cache()\n",
    "        Y_real = []\n",
    "        Y_pred = []\n",
    "        tgt_sim = None\n",
    "        for i, data in enumerate(tqdm(dataset)):\n",
    "            src, tgt, y_real = data\n",
    "            src, tgt, y_real = src.to(device), tgt.to(device), y_real.to(device)\n",
    "            if tgt_sim is None:\n",
    "                tgt_sim = tgt\n",
    "            else:\n",
    "                tgt_sim[:-1,:] = tgt_sim[1:,:]\n",
    "                tgt_sim[-1,:] = y_pred\n",
    "            y_pred = model(src, tgt_sim)\n",
    "            Y_real.append(y_real.reshape(1,-1))\n",
    "            Y_pred.append(y_pred)\n",
    "        \n",
    "        Y_real = torch.vstack(Y_real).cpu()\n",
    "        Y_pred = torch.vstack(Y_pred).cpu().detach()\n",
    "        return Y_real, Y_pred\n",
    "    \n",
    "class Evaluator(OSAEvaluator, FSEvaluator):\n",
    "    \n",
    "    pass\n",
    "        "
   ]
  },
  {
   "cell_type": "code",
   "execution_count": 14,
   "metadata": {
    "tags": []
   },
   "outputs": [
    {
     "name": "stderr",
     "output_type": "stream",
     "text": [
      "100%|██████████| 707/707 [00:02<00:00, 247.92it/s]\n",
      "100%|██████████| 707/707 [00:02<00:00, 267.82it/s]\n"
     ]
    }
   ],
   "source": [
    "evaluator = Evaluator()\n",
    "Y_real, Y_pred_OSA = evaluator.evaluate_OSA(dataset, model)\n",
    "Y_real, Y_pred_FS = evaluator.evaluate_FS(dataset, model)"
   ]
  },
  {
   "cell_type": "code",
   "execution_count": 15,
   "metadata": {
    "tags": []
   },
   "outputs": [
    {
     "data": {
      "text/plain": [
       "<matplotlib.legend.Legend at 0x2b942c5c5820>"
      ]
     },
     "execution_count": 15,
     "metadata": {},
     "output_type": "execute_result"
    },
    {
     "data": {
      "image/png": "[encoded data removed]",
      "text/plain": [
       "<Figure size 640x480 with 1 Axes>"
      ]
     },
     "metadata": {},
     "output_type": "display_data"
    }
   ],
   "source": [
    "fig, ax = plt.subplots()\n",
    "ax.plot(Y_real, label='Real')\n",
    "ax.plot(Y_pred_OSA, label='OSA')\n",
    "ax.plot(Y_pred_FS, label='FS')\n",
    "ax.legend()"
   ]
  }
 ],
 "metadata": {
  "kernelspec": {
   "display_name": "raul_dl",
   "language": "python",
   "name": "raul_dl"
  },
  "language_info": {
   "codemirror_mode": {
    "name": "ipython",
    "version": 3
   },
   "file_extension": ".py",
   "mimetype": "text/x-python",
   "name": "python",
   "nbconvert_exporter": "python",
   "pygments_lexer": "ipython3",
   "version": "3.9.13"
  }
 },
 "nbformat": 4,
 "nbformat_minor": 4
}
