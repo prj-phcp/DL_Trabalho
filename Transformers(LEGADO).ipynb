{
 "cells": [
  {
   "cell_type": "code",
   "execution_count": 370,
   "metadata": {
    "tags": []
   },
   "outputs": [
    {
     "name": "stdout",
     "output_type": "stream",
     "text": [
      "Fri Jun  9 16:21:37 2023       \n",
      "+-----------------------------------------------------------------------------+\n",
      "| NVIDIA-SMI 515.43.04    Driver Version: 515.43.04    CUDA Version: 11.7     |\n",
      "|-------------------------------+----------------------+----------------------+\n",
      "| GPU  Name        Persistence-M| Bus-Id        Disp.A | Volatile Uncorr. ECC |\n",
      "| Fan  Temp  Perf  Pwr:Usage/Cap|         Memory-Usage | GPU-Util  Compute M. |\n",
      "|                               |                      |               MIG M. |\n",
      "|===============================+======================+======================|\n",
      "|   0  Tesla V100-SXM2...  Off  | 00000000:15:00.0 Off |                    0 |\n",
      "| N/A   30C    P0    53W / 300W |   2180MiB / 32768MiB |      0%      Default |\n",
      "|                               |                      |                  N/A |\n",
      "+-------------------------------+----------------------+----------------------+\n",
      "                                                                               \n",
      "+-----------------------------------------------------------------------------+\n",
      "| Processes:                                                                  |\n",
      "|  GPU   GI   CI        PID   Type   Process name                  GPU Memory |\n",
      "|        ID   ID                                                   Usage      |\n",
      "|=============================================================================|\n",
      "|    0   N/A  N/A      5568      C   .../venvs/dl_raul/bin/python     2177MiB |\n",
      "+-----------------------------------------------------------------------------+\n"
     ]
    }
   ],
   "source": [
    "import math\n",
    "import json\n",
    "import time\n",
    "import numpy as np\n",
    "import pandas as pd\n",
    "import matplotlib.pyplot as plt\n",
    "from tqdm import tqdm\n",
    "\n",
    "import torch\n",
    "import torch.nn as nn\n",
    "import torch.optim as optim\n",
    "from torch.utils.data import Dataset\n",
    "from torch.utils.data.sampler import SubsetRandomSampler\n",
    "\n",
    "!nvidia-smi"
   ]
  },
  {
   "cell_type": "code",
   "execution_count": 371,
   "metadata": {
    "tags": []
   },
   "outputs": [
    {
     "name": "stdout",
     "output_type": "stream",
     "text": [
      "cuda:0\n"
     ]
    }
   ],
   "source": [
    "# Dispositivo onde tensores serão criados, armazenados e processados\n",
    "device = torch.device(\"cuda:0\" if torch.cuda.is_available() else \"cpu\")\n",
    "print(device)\n",
    "# Randon Seed fixa para resultados reprodutíveis\n",
    "seed = 42\n",
    "torch.manual_seed(seed)\n",
    "torch.cuda.manual_seed(seed)"
   ]
  },
  {
   "cell_type": "markdown",
   "metadata": {},
   "source": [
    "## Data Loader"
   ]
  },
  {
   "cell_type": "code",
   "execution_count": 372,
   "metadata": {
    "tags": []
   },
   "outputs": [],
   "source": [
    "class WellLoader(Dataset):\n",
    "    \n",
    "    def __init__(self, path, wells, var_in, var_out, max_sequence=16, step=1):\n",
    "        \n",
    "        self.path = path\n",
    "        with open(self.path + '/metadata.json', 'r') as metafile:\n",
    "            self.metadata = json.loads(metafile.read())\n",
    "        self.wells = wells\n",
    "        self.var_in = var_in\n",
    "        self.var_out = var_out\n",
    "        self.max_sequence = max_sequence\n",
    "        self.step = step\n",
    "        self.batches_X = None\n",
    "        self.batches_Y = None\n",
    "        self.outputs = None\n",
    "        \n",
    "        indexes = self.get_wells_index(self.wells)\n",
    "        self.load_data_by_index(indexes)\n",
    "        \n",
    "    def get_wells_index(self, wells):\n",
    "        \n",
    "        indexes = []\n",
    "        for well, filt in wells:\n",
    "            indexes.extend([(meta['INDEX'], filt) for meta in self.metadata if meta['WELL'] == well])\n",
    "        return indexes\n",
    "    \n",
    "    def load_data_by_index(self, indexes):\n",
    "        \n",
    "        batches_X = []\n",
    "        batches_Y = []\n",
    "        outputs = []\n",
    "        for index, filt in indexes:\n",
    "            data = pd.read_json(f'{self.path}/{index}.json')#.reset_index()\n",
    "            # Armengue: Por liq vol para preencher o dataset\n",
    "            data['BORE_LIQ_VOL'] = data['BORE_OIL_VOL'] + data['BORE_WAT_VOL']\n",
    "            data = data[self.var_in + self.var_out].dropna().reset_index(drop=True)\n",
    "            X = torch.from_numpy(data[self.var_in].values.astype('float32'))[filt,:]\n",
    "            Y = torch.from_numpy(data[self.var_out].values.astype('float32'))[filt,:]\n",
    "            output = Y[self.step:]\n",
    "            #print(Y.shape)\n",
    "            #X = torch.split(X, self.max_sequence, dim= 0)\n",
    "            #Y = torch.split(Y, self.max_sequence, dim= 0)\n",
    "            X = X.unfold(0,self.max_sequence, self.step)\n",
    "            Y = Y.unfold(0,self.max_sequence, self.step)\n",
    "            output = output.unfold(0,self.max_sequence, self.step)\n",
    "            batches_X.append(X)\n",
    "            batches_Y.append(Y)\n",
    "            outputs.append(output)\n",
    "            #print(X.shape)\n",
    "        self.batches_X = torch.concat(batches_X, axis=0)\n",
    "        self.batches_Y = torch.concat(batches_Y, axis=0)\n",
    "        self.outputs = torch.concat(outputs, axis=0)\n",
    "            \n",
    "    def __len__(self):\n",
    "        \n",
    "        return self.outputs.shape[0]\n",
    "    \n",
    "    def __getitem__(self, idx):\n",
    "                        \n",
    "        srcs = self.batches_X[idx,:,:]\n",
    "        trgts = self.batches_Y[idx,:,:]\n",
    "        output = self.outputs[idx,:,:]\n",
    "        \n",
    "        return srcs, trgts, output\n",
    "        \n",
    "        \n",
    "                 "
   ]
  },
  {
   "cell_type": "code",
   "execution_count": 373,
   "metadata": {
    "tags": []
   },
   "outputs": [],
   "source": [
    "path = './dataset/volve'\n",
    "wells = [\n",
    "    ('15/9-F-1 C', slice(28, None)),\n",
    "]\n",
    "\n",
    "var_in = [\n",
    "        'AVG_DOWNHOLE_PRESSURE',\n",
    "        'AVG_WHP_P',\n",
    "        'AVG_CHOKE_SIZE_P',\n",
    "        'AVG_WHT_P',\n",
    "        'AVG_DOWNHOLE_TEMPERATURE',\n",
    "]\n",
    "\n",
    "var_out = [\n",
    "        #'BORE_OIL_VOL',\n",
    "        'BORE_LIQ_VOL',\n",
    "        #'BORE_GAS_VOL',\n",
    "        #'BORE_WAT_VOL',\n",
    "]\n",
    "\n",
    "\n",
    "dataset = WellLoader(path, wells, var_in, var_out, max_sequence = 16, step = 1)"
   ]
  },
  {
   "cell_type": "code",
   "execution_count": 374,
   "metadata": {
    "tags": []
   },
   "outputs": [
    {
     "data": {
      "text/plain": [
       "tensor([[789., 783., 744., 735., 836., 847., 852., 814., 807., 772., 776., 782.,\n",
       "         795., 804., 506., 796.]])"
      ]
     },
     "execution_count": 374,
     "metadata": {},
     "output_type": "execute_result"
    }
   ],
   "source": [
    "srcs, trgts, output = dataset[10]\n",
    "output"
   ]
  },
  {
   "cell_type": "code",
   "execution_count": 375,
   "metadata": {
    "tags": []
   },
   "outputs": [
    {
     "data": {
      "text/plain": [
       "tensor([[789., 783., 744., 735., 836., 847., 852., 814., 807., 772., 776., 782.,\n",
       "         795., 804., 506., 796.]])"
      ]
     },
     "execution_count": 375,
     "metadata": {},
     "output_type": "execute_result"
    }
   ],
   "source": [
    "srcs, trgts, output = dataset[11]\n",
    "trgts"
   ]
  },
  {
   "cell_type": "code",
   "execution_count": 376,
   "metadata": {
    "tags": []
   },
   "outputs": [],
   "source": [
    "class SubsetSplitter:\n",
    "    \n",
    "    def __init__(self, batch_size, validation_split, test_split, shuffle=False):\n",
    "        \n",
    "        self.batch_size = batch_size\n",
    "        self.validation_split = validation_split\n",
    "        self.test_split = test_split\n",
    "        self.shuffle = shuffle\n",
    "        \n",
    "    def __call__(self, dataset:Dataset):\n",
    "        \n",
    "        dataset_size = len(dataset)\n",
    "        indices = list(range(dataset_size))\n",
    "        validation_split = int(np.floor(self.validation_split * dataset_size))\n",
    "        test_split = int(np.floor(self.test_split * dataset_size))\n",
    "        train_split = dataset_size - validation_split - test_split\n",
    "        if self.shuffle :\n",
    "            np.random.shuffle(indices)\n",
    "        train_indices = indices[:train_split]\n",
    "        validation_indices = indices[train_split:train_split + validation_split]\n",
    "        test_indices = indices[train_split + validation_split:]\n",
    "\n",
    "        # Creating PT data samplers and loaders:\n",
    "        train_sampler = SubsetRandomSampler(train_indices)\n",
    "        valid_sampler = SubsetRandomSampler(validation_indices)\n",
    "        test_sampler = SubsetRandomSampler(test_indices)\n",
    "\n",
    "        train_loader = torch.utils.data.DataLoader(dataset, batch_size=self.batch_size, \n",
    "                                                   sampler=train_sampler)\n",
    "        validation_loader = torch.utils.data.DataLoader(dataset, batch_size=self.batch_size,\n",
    "                                                    sampler=valid_sampler)\n",
    "        test_loader = torch.utils.data.DataLoader(dataset, batch_size=self.batch_size,\n",
    "                                                    sampler=test_sampler)\n",
    "        \n",
    "        return train_loader, validation_loader, test_loader"
   ]
  },
  {
   "cell_type": "code",
   "execution_count": 377,
   "metadata": {
    "tags": []
   },
   "outputs": [],
   "source": [
    "splitter = SubsetSplitter(4, 0.2, 0.2)\n",
    "train_loader, validation_loader, test_loader = splitter(dataset)"
   ]
  },
  {
   "cell_type": "markdown",
   "metadata": {},
   "source": [
    "## Model definition"
   ]
  },
  {
   "cell_type": "code",
   "execution_count": 378,
   "metadata": {},
   "outputs": [
    {
     "data": {
      "text/plain": [
       "tensor([[[0.0000, 0.0000, 0.0000, 1.4286, 0.0000, 1.4286, 0.0000, 1.4286,\n",
       "          0.0000, 0.0000],\n",
       "         [0.0000, 0.0000, 0.0000, 0.0000, 0.0000, 1.4286, 0.0000, 0.0000,\n",
       "          0.0000, 1.4286]]])"
      ]
     },
     "execution_count": 378,
     "metadata": {},
     "output_type": "execute_result"
    }
   ],
   "source": [
    "class PositionalEncoding(nn.Module):\n",
    "    def __init__(self, dim_model, dropout_p, max_len):\n",
    "        super().__init__()\n",
    "        # Modified version from: https://pytorch.org/tutorials/beginner/transformer_tutorial.html\n",
    "        # max_len determines how far the position can have an effect on a token (window)\n",
    "        \n",
    "        # Info\n",
    "        self.dropout = nn.Dropout(dropout_p)\n",
    "        \n",
    "        # Encoding - From formula\n",
    "        pos_encoding = torch.zeros(max_len, dim_model)\n",
    "        positions_list = torch.arange(0, max_len, dtype=torch.float).view(-1, 1) # 0, 1, 2, 3, 4, 5\n",
    "        division_term = torch.exp(torch.arange(0, dim_model, 2).float() * (-math.log(10000.0)) / dim_model) # 1000^(2i/dim_model)\n",
    "        \n",
    "        # PE(pos, 2i) = sin(pos/1000^(2i/dim_model))\n",
    "        pos_encoding[:, 0::2] = torch.sin(positions_list * division_term)\n",
    "        \n",
    "        # PE(pos, 2i + 1) = cos(pos/1000^(2i/dim_model))\n",
    "        pos_encoding[:, 1::2] = torch.cos(positions_list * division_term)\n",
    "        \n",
    "        # Saving buffer (same as parameter without gradients needed)\n",
    "        pos_encoding = pos_encoding.unsqueeze(0).transpose(0, 1)\n",
    "        self.register_buffer(\"pos_encoding\",pos_encoding)\n",
    "        \n",
    "    def forward(self, token_embedding: torch.tensor) -> torch.tensor:\n",
    "        # Residual connection + pos encoding\n",
    "        return self.dropout(token_embedding + self.pos_encoding[:token_embedding.size(0), :])\n",
    "    \n",
    "    \n",
    "positional_encoding = PositionalEncoding(dim_model = 10, dropout_p=0.3, max_len=1200)\n",
    "tensor = torch.zeros((1,2,10))\n",
    "tensor\n",
    "encoded = positional_encoding(tensor)\n",
    "encoded"
   ]
  },
  {
   "cell_type": "code",
   "execution_count": 379,
   "metadata": {},
   "outputs": [],
   "source": [
    "class Transformer(nn.Module):\n",
    "    \"\"\"\n",
    "    Model from \"A detailed guide to Pytorch's nn.Transformer() module.\", by\n",
    "    Daniel Melchor: https://medium.com/@danielmelchor/a-detailed-guide-to-pytorchs-nn-transformer-module-c80afbc9ffb1\n",
    "    \"\"\"\n",
    "    # Constructor\n",
    "    def __init__(\n",
    "        self,\n",
    "        num_outputs,\n",
    "        dim_model,\n",
    "        num_heads,\n",
    "        num_encoder_layers,\n",
    "        num_decoder_layers,\n",
    "        dropout_p,\n",
    "        num_linear_layers=0,\n",
    "        norm_first=False\n",
    "    ):\n",
    "        super().__init__()\n",
    "\n",
    "        # INFO\n",
    "        self.model_type = \"Transformer\"\n",
    "        self.dim_model = dim_model\n",
    "\n",
    "        # LAYERS\n",
    "        self.positional_encoder = PositionalEncoding(\n",
    "            dim_model=dim_model, dropout_p=dropout_p, max_len=5000\n",
    "        )\n",
    "        #self.embedding = nn.Embedding(num_outputs, dim_model)\n",
    "        self.transformer = nn.Transformer(\n",
    "            d_model=dim_model,\n",
    "            nhead=num_heads,\n",
    "            num_encoder_layers=num_encoder_layers,\n",
    "            num_decoder_layers=num_decoder_layers,\n",
    "            dropout=dropout_p, \n",
    "            batch_first=True,\n",
    "            norm_first = norm_first\n",
    "        )\n",
    "        self.linear_layers = nn.ModuleList()\n",
    "        for i in range(num_linear_layers):\n",
    "            self.linear_layers.append(nn.Linear(dim_model, dim_model))\n",
    "            self.linear_layers.append(nn.ReLU6())\n",
    "        if not num_outputs is None:\n",
    "            self.out = nn.Linear(dim_model, num_outputs)\n",
    "        else:\n",
    "            self.out = None\n",
    "        self.end_activation = nn.ReLU()\n",
    "        \n",
    "    def forward(self, src, tgt, tgt_mask=None, src_pad_mask=None, tgt_pad_mask=None):\n",
    "        # Src size must be (batch_size, src sequence length)\n",
    "        # Tgt size must be (batch_size, tgt sequence length)\n",
    "\n",
    "        # Embedding + positional encoding - Out size = (batch_size, sequence length, dim_model)\n",
    "        #src = self.embedding(src) * math.sqrt(self.dim_model)\n",
    "        #tgt = self.embedding(tgt) * math.sqrt(self.dim_model)\n",
    "        src_corr = src * math.sqrt(self.dim_model)\n",
    "        tgt_corr = tgt * math.sqrt(self.dim_model)\n",
    "        #src_corr = self.positional_encoder(src_corr)\n",
    "        #tgt_corr = self.positional_encoder(tgt_corr)\n",
    "        \n",
    "        # We could use the parameter batch_first=True, but our KDL version doesn't support it yet, so we permute\n",
    "        # to obtain size (sequence length, batch_size, dim_model),\n",
    "        #src = src.permute(1,0,2)\n",
    "        #tgt = tgt.permute(1,0,2)\n",
    "\n",
    "        # Transformer blocks - Out size = (sequence length, batch_size, num_tokens)\n",
    "        transformer_out = self.transformer(src_corr, tgt_corr, tgt_mask=tgt_mask, src_key_padding_mask=src_pad_mask, tgt_key_padding_mask=tgt_pad_mask)\n",
    "        for linear in self.linear_layers:\n",
    "            transformer_out = linear(transformer_out)\n",
    "        \n",
    "        #transformer_out = torch.add(transformer_out, tgt)\n",
    "        out = transformer_out\n",
    "        if not self.out is None:\n",
    "            out = self.out(transformer_out)\n",
    "        #out = torch.add(tgt.mean(axis=len(out.shape)-1, keepdim=True), out)\n",
    "        #out = self.end_activation(out)\n",
    "        \n",
    "        \n",
    "        return out\n",
    "      \n",
    "    def get_tgt_mask(self, size) -> torch.tensor:\n",
    "        # Generates a squeare matrix where the each row allows one word more to be seen\n",
    "        mask = torch.tril(torch.ones(size, size) == 1) # Lower triangular matrix\n",
    "        mask = mask.float()\n",
    "        mask = mask.masked_fill(mask == 0, float('-inf')) # Convert zeros to -inf\n",
    "        mask = mask.masked_fill(mask == 1, float(0.0)) # Convert ones to 0\n",
    "        \n",
    "        # EX for size=5:\n",
    "        # [[0., -inf, -inf, -inf, -inf],\n",
    "        #  [0.,   0., -inf, -inf, -inf],\n",
    "        #  [0.,   0.,   0., -inf, -inf],\n",
    "        #  [0.,   0.,   0.,   0., -inf],\n",
    "        #  [0.,   0.,   0.,   0.,   0.]]\n",
    "        \n",
    "        return mask\n",
    "    \n",
    "    def create_pad_mask(self, matrix: torch.tensor, pad_token: int) -> torch.tensor:\n",
    "        # If matrix = [1,2,3,0,0,0] where pad_token=0, the result mask is\n",
    "        # [False, False, False, True, True, True]\n",
    "        return (matrix == pad_token)"
   ]
  },
  {
   "cell_type": "code",
   "execution_count": 380,
   "metadata": {
    "tags": []
   },
   "outputs": [],
   "source": [
    "class Training:\n",
    "    \n",
    "    def __init__(self, epochs, loss, optimizer, scheduler, path, patience=5):\n",
    "        \n",
    "        self.loss = loss\n",
    "        self.optimizer = optimizer\n",
    "        self.scheduler = scheduler\n",
    "        self.epochs = epochs\n",
    "        self.path = path\n",
    "        self.patience = patience\n",
    "        self.clear_results()\n",
    "        \n",
    "    def clear_results(self):\n",
    "        \n",
    "        self.results = {\n",
    "            'Train':[],\n",
    "            'Validation':[],\n",
    "            'Test':[],\n",
    "        }\n",
    "        \n",
    "    def fit(self, model, train_loader, validation_loader, test_loader):\n",
    "        \n",
    "        self.clear_results()\n",
    "        torch.cuda.empty_cache()\n",
    "        decrease = self.patience\n",
    "        not_improved = 0\n",
    "        \n",
    "        model.to(device)\n",
    "        fit_time = time.time()\n",
    "        \n",
    "        for e in range(self.epochs):\n",
    "            since = time.time()\n",
    "            running_loss = 0\n",
    "            #training loop\n",
    "            model.train()\n",
    "            self.train_loop(model, train_loader)\n",
    "            model.eval()\n",
    "            self.validation_loop(model, validation_loader)\n",
    "            self.test_loop(model, test_loader)\n",
    "            decrease, not_improved = self.early_stopping(validation_loader, decrease)\n",
    "            if not_improved == 1:\n",
    "                break\n",
    "            loss_per_training_batch = self.results['Train'][-1]\n",
    "            loss_per_validation_batch = self.results['Validation'][-1]\n",
    "            loss_per_test_batch = self.results['Test'][-1]\n",
    "            print(\"Epoch:{}/{}..\".format(e+1, self.epochs),\n",
    "                  \"Train Loss: {:.3f}..\".format(loss_per_training_batch),\n",
    "                  \"Val Loss: {:.3f}..\".format(loss_per_validation_batch),\n",
    "                  \"Test Loss: {:.3f}..\".format(loss_per_test_batch),\n",
    "                  \"Time: {:.2f}m\".format((time.time()-since)/60))\n",
    "        print('Total time: {:.2f} m' .format((time.time()- fit_time)/60))\n",
    "        \n",
    "    def train_loop(self, model, train_loader):\n",
    "        \n",
    "        running_loss = 0.0\n",
    "        for i, data in enumerate(tqdm(train_loader)):\n",
    "            #training phase\n",
    "            X, y_tgt, y_out = data\n",
    "            X, y_tgt, y_out = X.to(device), y_tgt.to(device), y_out.to(device)\n",
    "            #y_result, y_tgt = Y, torch.from_numpy(-1.0*np.ones(Y.shape).astype('float32')).to(device)\n",
    "            #y_tgt[:,:,1:] = Y[:,:,:-1]\n",
    "            #y_tgt[:,:,0] = 0.0\n",
    "            output = model(X, y_tgt)\n",
    "            loss = self.loss(output[:,:,-1], y_out[:,:,-1])\n",
    "            #print(output.shape, y_out.shape)\n",
    "            #backward\n",
    "            loss.backward()\n",
    "            self.optimizer.step() #update weight          \n",
    "            self.optimizer.zero_grad() #reset gradient\n",
    "            \n",
    "            #step the learning rate\n",
    "            if not self.scheduler is None:\n",
    "                self.scheduler.step()\n",
    "            running_loss += loss.item()\n",
    "        \n",
    "        self.results['Train'].append(running_loss/len(train_loader))\n",
    "    \n",
    "    \n",
    "    def validation_loop(self, model, validation_loader):\n",
    "        \n",
    "        running_loss = 0.0\n",
    "        with torch.no_grad():\n",
    "            for i, data in enumerate(tqdm(validation_loader)):\n",
    "                #training phase\n",
    "                X, y_tgt, y_out = data\n",
    "                X, y_tgt, y_out = X.to(device), y_tgt.to(device), y_out.to(device)\n",
    "                #y_result, y_tgt = Y, torch.from_numpy(-1.0*np.ones(Y.shape).astype('float32')).to(device)\n",
    "                #y_tgt[:,:,1:] = Y[:,:,:-1]\n",
    "                #y_tgt[:,:,0] = 0.0\n",
    "                output = model(X, y_tgt)\n",
    "                loss = self.loss(output[:,:,-1], y_out[:,:,-1])\n",
    "                \n",
    "                running_loss += loss.item()\n",
    "        \n",
    "        self.results['Validation'].append(running_loss/len(validation_loader))\n",
    "        \n",
    "    def test_loop(self, model, test_loader):\n",
    "        \n",
    "        running_loss = 0.0\n",
    "        with torch.no_grad():\n",
    "            for i, data in enumerate(tqdm(test_loader)):\n",
    "                #training phase\n",
    "                X, y_tgt, y_out = data\n",
    "                X, y_tgt, y_out = X.to(device), y_tgt.to(device), y_out.to(device)\n",
    "                #y_result, y_tgt = Y, torch.from_numpy(-1.0*np.ones(Y.shape).astype('float32')).to(device)\n",
    "                #y_tgt[:,:,1:] = Y[:,:,:-1]\n",
    "                #y_tgt[:,:,0] = 0.0\n",
    "                output = model(X, y_tgt)\n",
    "                loss = self.loss(output[:,:,-1], y_out[:,:,-1])\n",
    "                \n",
    "                running_loss += loss.item()\n",
    "        \n",
    "        self.results['Test'].append(running_loss/len(test_loader))\n",
    "        \n",
    "    def early_stopping(self, validation_loader, decrease):\n",
    "        \n",
    "        loss_per_validation_batch = self.results['Validation'][-1]\n",
    "        min_loss = np.min(self.results['Validation'][:-1] + [np.inf])\n",
    "        if min_loss >= self.results['Validation'][-1]:\n",
    "            print('Loss Decreasing.. {:.3f} >> {:.3f} '.format(min_loss, loss_per_validation_batch))\n",
    "            decrease = self.patience\n",
    "            print('saving model...')\n",
    "            torch.save(model, self.path + '/Transformer.pt')\n",
    "        else:\n",
    "            decrease -= 1\n",
    "        if decrease < 0:\n",
    "                print('[***] end training ...')      \n",
    "                not_improved = 1\n",
    "        else:\n",
    "            not_improved = 0\n",
    "        return decrease, not_improved\n",
    "    \n",
    "    def get_best_model(self):\n",
    "        \n",
    "        model = torch.load(self.path + '/Transformer.pt')\n",
    "        return model\n",
    "            \n",
    "            \n",
    "        \n",
    "        \n",
    "            "
   ]
  },
  {
   "cell_type": "code",
   "execution_count": 381,
   "metadata": {
    "tags": []
   },
   "outputs": [],
   "source": [
    "model = Transformer(\n",
    "    num_outputs=None, dim_model=dataset.max_sequence, num_heads=2, \n",
    "    num_encoder_layers=6, num_decoder_layers=6, dropout_p=0.1, norm_first=False,num_linear_layers=3).to(device)\n",
    "\n",
    "lr_ = 1e-2\n",
    "epoch = 200\n",
    "weight_decay = 1e-4\n",
    "path = '.'\n",
    "\n",
    "loss = torch.nn.MSELoss()\n",
    "#optimizer = torch.optim.Adam(model.parameters(), lr=lr_)\n",
    "#optimizer = torch.optim.SGD(model.parameters(), lr=lr_)\n",
    "optimizer = torch.optim.AdamW(model.parameters(), lr=lr_, weight_decay=weight_decay)\n",
    "sched = None\n",
    "sched = torch.optim.lr_scheduler.OneCycleLR(optimizer, lr_, epochs=epoch,\n",
    "                                            steps_per_epoch=len(train_loader))\n",
    "training = Training(epoch, loss, optimizer, sched, path, patience=20)"
   ]
  },
  {
   "cell_type": "code",
   "execution_count": 382,
   "metadata": {
    "tags": []
   },
   "outputs": [
    {
     "name": "stderr",
     "output_type": "stream",
     "text": [
      "100%|██████████| 106/106 [00:03<00:00, 31.69it/s]\n",
      "100%|██████████| 35/35 [00:00<00:00, 211.43it/s]\n",
      "100%|██████████| 35/35 [00:00<00:00, 214.46it/s]\n"
     ]
    },
    {
     "name": "stdout",
     "output_type": "stream",
     "text": [
      "Loss Decreasing.. inf >> 460928.724 \n",
      "saving model...\n",
      "Epoch:1/200.. Train Loss: 430923.307.. Val Loss: 460928.724.. Test Loss: 413248.297.. Time: 0.06m\n"
     ]
    },
    {
     "name": "stderr",
     "output_type": "stream",
     "text": [
      "100%|██████████| 106/106 [00:03<00:00, 32.08it/s]\n",
      "100%|██████████| 35/35 [00:00<00:00, 211.98it/s]\n",
      "100%|██████████| 35/35 [00:00<00:00, 202.93it/s]\n"
     ]
    },
    {
     "name": "stdout",
     "output_type": "stream",
     "text": [
      "Loss Decreasing.. 460928.724 >> 458991.773 \n",
      "saving model...\n",
      "Epoch:2/200.. Train Loss: 430594.687.. Val Loss: 458991.773.. Test Loss: 410966.295.. Time: 0.06m\n"
     ]
    },
    {
     "name": "stderr",
     "output_type": "stream",
     "text": [
      "100%|██████████| 106/106 [00:03<00:00, 32.09it/s]\n",
      "100%|██████████| 35/35 [00:00<00:00, 214.28it/s]\n",
      "100%|██████████| 35/35 [00:00<00:00, 213.69it/s]\n"
     ]
    },
    {
     "name": "stdout",
     "output_type": "stream",
     "text": [
      "Epoch:3/200.. Train Loss: 431228.847.. Val Loss: 460645.490.. Test Loss: 411953.762.. Time: 0.06m\n"
     ]
    },
    {
     "name": "stderr",
     "output_type": "stream",
     "text": [
      "100%|██████████| 106/106 [00:03<00:00, 32.30it/s]\n",
      "100%|██████████| 35/35 [00:00<00:00, 202.86it/s]\n",
      "100%|██████████| 35/35 [00:00<00:00, 211.95it/s]\n"
     ]
    },
    {
     "name": "stdout",
     "output_type": "stream",
     "text": [
      "Epoch:4/200.. Train Loss: 429540.498.. Val Loss: 459791.160.. Test Loss: 413234.332.. Time: 0.06m\n"
     ]
    },
    {
     "name": "stderr",
     "output_type": "stream",
     "text": [
      "100%|██████████| 106/106 [00:03<00:00, 31.25it/s]\n",
      "100%|██████████| 35/35 [00:00<00:00, 215.14it/s]\n",
      "100%|██████████| 35/35 [00:00<00:00, 212.74it/s]\n"
     ]
    },
    {
     "name": "stdout",
     "output_type": "stream",
     "text": [
      "Epoch:5/200.. Train Loss: 427641.980.. Val Loss: 459698.675.. Test Loss: 413018.137.. Time: 0.06m\n"
     ]
    },
    {
     "name": "stderr",
     "output_type": "stream",
     "text": [
      "100%|██████████| 106/106 [00:03<00:00, 32.10it/s]\n",
      "100%|██████████| 35/35 [00:00<00:00, 215.25it/s]\n",
      "100%|██████████| 35/35 [00:00<00:00, 214.06it/s]\n"
     ]
    },
    {
     "name": "stdout",
     "output_type": "stream",
     "text": [
      "Epoch:6/200.. Train Loss: 427641.979.. Val Loss: 459791.157.. Test Loss: 416447.107.. Time: 0.06m\n"
     ]
    },
    {
     "name": "stderr",
     "output_type": "stream",
     "text": [
      "100%|██████████| 106/106 [00:03<00:00, 32.36it/s]\n",
      "100%|██████████| 35/35 [00:00<00:00, 212.09it/s]\n",
      "100%|██████████| 35/35 [00:00<00:00, 199.57it/s]\n"
     ]
    },
    {
     "name": "stdout",
     "output_type": "stream",
     "text": [
      "Epoch:7/200.. Train Loss: 430388.175.. Val Loss: 462259.077.. Test Loss: 416904.669.. Time: 0.06m\n"
     ]
    },
    {
     "name": "stderr",
     "output_type": "stream",
     "text": [
      "100%|██████████| 106/106 [00:03<00:00, 31.85it/s]\n",
      "100%|██████████| 35/35 [00:00<00:00, 214.06it/s]\n",
      "100%|██████████| 35/35 [00:00<00:00, 214.15it/s]\n"
     ]
    },
    {
     "name": "stdout",
     "output_type": "stream",
     "text": [
      "Loss Decreasing.. 458991.773 >> 457125.633 \n",
      "saving model...\n",
      "Epoch:8/200.. Train Loss: 427641.980.. Val Loss: 457125.633.. Test Loss: 413238.983.. Time: 0.06m\n"
     ]
    },
    {
     "name": "stderr",
     "output_type": "stream",
     "text": [
      "100%|██████████| 106/106 [00:03<00:00, 32.28it/s]\n",
      "100%|██████████| 35/35 [00:00<00:00, 213.89it/s]\n",
      "100%|██████████| 35/35 [00:00<00:00, 215.58it/s]\n"
     ]
    },
    {
     "name": "stdout",
     "output_type": "stream",
     "text": [
      "Epoch:9/200.. Train Loss: 431902.658.. Val Loss: 457409.141.. Test Loss: 413137.783.. Time: 0.06m\n"
     ]
    },
    {
     "name": "stderr",
     "output_type": "stream",
     "text": [
      "100%|██████████| 106/106 [00:03<00:00, 32.12it/s]\n",
      "100%|██████████| 35/35 [00:00<00:00, 207.94it/s]\n",
      "100%|██████████| 35/35 [00:00<00:00, 203.44it/s]\n"
     ]
    },
    {
     "name": "stdout",
     "output_type": "stream",
     "text": [
      "Epoch:10/200.. Train Loss: 427641.979.. Val Loss: 460429.922.. Test Loss: 413012.314.. Time: 0.06m\n"
     ]
    },
    {
     "name": "stderr",
     "output_type": "stream",
     "text": [
      "100%|██████████| 106/106 [00:03<00:00, 32.22it/s]\n",
      "100%|██████████| 35/35 [00:00<00:00, 212.37it/s]\n",
      "100%|██████████| 35/35 [00:00<00:00, 212.83it/s]\n"
     ]
    },
    {
     "name": "stdout",
     "output_type": "stream",
     "text": [
      "Loss Decreasing.. 457125.633 >> 457033.087 \n",
      "saving model...\n",
      "Epoch:11/200.. Train Loss: 430450.234.. Val Loss: 457033.087.. Test Loss: 412818.494.. Time: 0.06m\n"
     ]
    },
    {
     "name": "stderr",
     "output_type": "stream",
     "text": [
      "100%|██████████| 106/106 [00:03<00:00, 31.65it/s]\n",
      "100%|██████████| 35/35 [00:00<00:00, 212.17it/s]\n",
      "100%|██████████| 35/35 [00:00<00:00, 213.71it/s]\n"
     ]
    },
    {
     "name": "stdout",
     "output_type": "stream",
     "text": [
      "Epoch:12/200.. Train Loss: 427641.979.. Val Loss: 457185.579.. Test Loss: 414587.583.. Time: 0.06m\n"
     ]
    },
    {
     "name": "stderr",
     "output_type": "stream",
     "text": [
      "100%|██████████| 106/106 [00:03<00:00, 31.89it/s]\n",
      "100%|██████████| 35/35 [00:00<00:00, 210.23it/s]\n",
      "100%|██████████| 35/35 [00:00<00:00, 209.63it/s]\n"
     ]
    },
    {
     "name": "stdout",
     "output_type": "stream",
     "text": [
      "Epoch:13/200.. Train Loss: 427641.980.. Val Loss: 467323.147.. Test Loss: 413351.413.. Time: 0.06m\n"
     ]
    },
    {
     "name": "stderr",
     "output_type": "stream",
     "text": [
      "100%|██████████| 106/106 [00:03<00:00, 32.46it/s]\n",
      "100%|██████████| 35/35 [00:00<00:00, 213.25it/s]\n",
      "100%|██████████| 35/35 [00:00<00:00, 215.00it/s]\n"
     ]
    },
    {
     "name": "stdout",
     "output_type": "stream",
     "text": [
      "Epoch:14/200.. Train Loss: 431858.847.. Val Loss: 464205.980.. Test Loss: 411032.231.. Time: 0.06m\n"
     ]
    },
    {
     "name": "stderr",
     "output_type": "stream",
     "text": [
      "100%|██████████| 106/106 [00:03<00:00, 32.20it/s]\n",
      "100%|██████████| 35/35 [00:00<00:00, 212.34it/s]\n",
      "100%|██████████| 35/35 [00:00<00:00, 215.09it/s]\n"
     ]
    },
    {
     "name": "stdout",
     "output_type": "stream",
     "text": [
      "Epoch:15/200.. Train Loss: 430549.156.. Val Loss: 457125.635.. Test Loss: 413889.303.. Time: 0.06m\n"
     ]
    },
    {
     "name": "stderr",
     "output_type": "stream",
     "text": [
      "100%|██████████| 106/106 [00:03<00:00, 31.45it/s]\n",
      "100%|██████████| 35/35 [00:00<00:00, 212.16it/s]\n",
      "100%|██████████| 35/35 [00:00<00:00, 212.81it/s]\n"
     ]
    },
    {
     "name": "stdout",
     "output_type": "stream",
     "text": [
      "Loss Decreasing.. 457033.087 >> 456972.720 \n",
      "saving model...\n",
      "Epoch:16/200.. Train Loss: 427641.979.. Val Loss: 456972.720.. Test Loss: 411056.942.. Time: 0.06m\n"
     ]
    },
    {
     "name": "stderr",
     "output_type": "stream",
     "text": [
      "100%|██████████| 106/106 [00:03<00:00, 31.30it/s]\n",
      "100%|██████████| 35/35 [00:00<00:00, 215.50it/s]\n",
      "100%|██████████| 35/35 [00:00<00:00, 214.56it/s]\n"
     ]
    },
    {
     "name": "stdout",
     "output_type": "stream",
     "text": [
      "Epoch:17/200.. Train Loss: 435236.055.. Val Loss: 460723.019.. Test Loss: 419372.916.. Time: 0.06m\n"
     ]
    },
    {
     "name": "stderr",
     "output_type": "stream",
     "text": [
      "100%|██████████| 106/106 [00:03<00:00, 31.61it/s]\n",
      "100%|██████████| 35/35 [00:00<00:00, 211.99it/s]\n",
      "100%|██████████| 35/35 [00:00<00:00, 213.14it/s]\n"
     ]
    },
    {
     "name": "stdout",
     "output_type": "stream",
     "text": [
      "Epoch:18/200.. Train Loss: 435236.055.. Val Loss: 459780.806.. Test Loss: 410966.303.. Time: 0.06m\n"
     ]
    },
    {
     "name": "stderr",
     "output_type": "stream",
     "text": [
      "100%|██████████| 106/106 [00:03<00:00, 32.11it/s]\n",
      "100%|██████████| 35/35 [00:00<00:00, 212.49it/s]\n",
      "100%|██████████| 35/35 [00:00<00:00, 213.60it/s]\n"
     ]
    },
    {
     "name": "stdout",
     "output_type": "stream",
     "text": [
      "Epoch:19/200.. Train Loss: 428808.272.. Val Loss: 459843.205.. Test Loss: 410966.293.. Time: 0.06m\n"
     ]
    },
    {
     "name": "stderr",
     "output_type": "stream",
     "text": [
      "100%|██████████| 106/106 [00:03<00:00, 32.11it/s]\n",
      "100%|██████████| 35/35 [00:00<00:00, 201.08it/s]\n",
      "100%|██████████| 35/35 [00:00<00:00, 201.96it/s]\n"
     ]
    },
    {
     "name": "stdout",
     "output_type": "stream",
     "text": [
      "Epoch:20/200.. Train Loss: 430603.836.. Val Loss: 461952.196.. Test Loss: 411138.581.. Time: 0.06m\n"
     ]
    },
    {
     "name": "stderr",
     "output_type": "stream",
     "text": [
      "100%|██████████| 106/106 [00:03<00:00, 32.02it/s]\n",
      "100%|██████████| 35/35 [00:00<00:00, 212.09it/s]\n",
      "100%|██████████| 35/35 [00:00<00:00, 215.58it/s]\n"
     ]
    },
    {
     "name": "stdout",
     "output_type": "stream",
     "text": [
      "Epoch:21/200.. Train Loss: 430875.301.. Val Loss: 463936.360.. Test Loss: 411000.613.. Time: 0.06m\n"
     ]
    },
    {
     "name": "stderr",
     "output_type": "stream",
     "text": [
      "100%|██████████| 106/106 [00:03<00:00, 31.89it/s]\n",
      "100%|██████████| 35/35 [00:00<00:00, 211.27it/s]\n",
      "100%|██████████| 35/35 [00:00<00:00, 211.74it/s]\n"
     ]
    },
    {
     "name": "stdout",
     "output_type": "stream",
     "text": [
      "Epoch:22/200.. Train Loss: 432717.986.. Val Loss: 460992.395.. Test Loss: 410966.295.. Time: 0.06m\n"
     ]
    },
    {
     "name": "stderr",
     "output_type": "stream",
     "text": [
      "100%|██████████| 106/106 [00:03<00:00, 31.95it/s]\n",
      "100%|██████████| 35/35 [00:00<00:00, 212.20it/s]\n",
      "100%|██████████| 35/35 [00:00<00:00, 202.50it/s]\n"
     ]
    },
    {
     "name": "stdout",
     "output_type": "stream",
     "text": [
      "Epoch:23/200.. Train Loss: 427641.980.. Val Loss: 458256.225.. Test Loss: 413810.697.. Time: 0.06m\n"
     ]
    },
    {
     "name": "stderr",
     "output_type": "stream",
     "text": [
      "100%|██████████| 106/106 [00:03<00:00, 31.83it/s]\n",
      "100%|██████████| 35/35 [00:00<00:00, 212.71it/s]\n",
      "100%|██████████| 35/35 [00:00<00:00, 203.43it/s]\n"
     ]
    },
    {
     "name": "stdout",
     "output_type": "stream",
     "text": [
      "Loss Decreasing.. 456972.720 >> 456972.720 \n",
      "saving model...\n",
      "Epoch:24/200.. Train Loss: 430894.461.. Val Loss: 456972.720.. Test Loss: 414259.092.. Time: 0.06m\n"
     ]
    },
    {
     "name": "stderr",
     "output_type": "stream",
     "text": [
      "100%|██████████| 106/106 [00:03<00:00, 31.50it/s]\n",
      "100%|██████████| 35/35 [00:00<00:00, 211.85it/s]\n",
      "100%|██████████| 35/35 [00:00<00:00, 211.93it/s]\n"
     ]
    },
    {
     "name": "stdout",
     "output_type": "stream",
     "text": [
      "Epoch:25/200.. Train Loss: 431138.741.. Val Loss: 457141.379.. Test Loss: 412815.079.. Time: 0.06m\n"
     ]
    },
    {
     "name": "stderr",
     "output_type": "stream",
     "text": [
      "100%|██████████| 106/106 [00:03<00:00, 31.56it/s]\n",
      "100%|██████████| 35/35 [00:00<00:00, 198.92it/s]\n",
      "100%|██████████| 35/35 [00:00<00:00, 205.37it/s]\n"
     ]
    },
    {
     "name": "stdout",
     "output_type": "stream",
     "text": [
      "Epoch:26/200.. Train Loss: 427641.980.. Val Loss: 460276.707.. Test Loss: 410966.294.. Time: 0.06m\n"
     ]
    },
    {
     "name": "stderr",
     "output_type": "stream",
     "text": [
      "100%|██████████| 106/106 [00:03<00:00, 30.52it/s]\n",
      "100%|██████████| 35/35 [00:00<00:00, 198.16it/s]\n",
      "100%|██████████| 35/35 [00:00<00:00, 205.71it/s]\n"
     ]
    },
    {
     "name": "stdout",
     "output_type": "stream",
     "text": [
      "Epoch:27/200.. Train Loss: 427641.980.. Val Loss: 459906.290.. Test Loss: 416822.986.. Time: 0.06m\n"
     ]
    },
    {
     "name": "stderr",
     "output_type": "stream",
     "text": [
      "100%|██████████| 106/106 [00:03<00:00, 31.07it/s]\n",
      "100%|██████████| 35/35 [00:00<00:00, 214.45it/s]\n",
      "100%|██████████| 35/35 [00:00<00:00, 212.98it/s]\n"
     ]
    },
    {
     "name": "stdout",
     "output_type": "stream",
     "text": [
      "Epoch:28/200.. Train Loss: 429956.961.. Val Loss: 465092.810.. Test Loss: 414362.211.. Time: 0.06m\n"
     ]
    },
    {
     "name": "stderr",
     "output_type": "stream",
     "text": [
      "100%|██████████| 106/106 [00:03<00:00, 31.51it/s]\n",
      "100%|██████████| 35/35 [00:00<00:00, 208.10it/s]\n",
      "100%|██████████| 35/35 [00:00<00:00, 205.52it/s]\n"
     ]
    },
    {
     "name": "stdout",
     "output_type": "stream",
     "text": [
      "Loss Decreasing.. 456972.720 >> 456972.719 \n",
      "saving model...\n",
      "Epoch:29/200.. Train Loss: 439071.986.. Val Loss: 456972.719.. Test Loss: 411032.230.. Time: 0.06m\n"
     ]
    },
    {
     "name": "stderr",
     "output_type": "stream",
     "text": [
      "100%|██████████| 106/106 [00:03<00:00, 31.53it/s]\n",
      "100%|██████████| 35/35 [00:00<00:00, 214.57it/s]\n",
      "100%|██████████| 35/35 [00:00<00:00, 212.86it/s]\n"
     ]
    },
    {
     "name": "stdout",
     "output_type": "stream",
     "text": [
      "Epoch:30/200.. Train Loss: 427642.007.. Val Loss: 457046.580.. Test Loss: 413404.732.. Time: 0.06m\n"
     ]
    },
    {
     "name": "stderr",
     "output_type": "stream",
     "text": [
      "100%|██████████| 106/106 [00:03<00:00, 31.90it/s]\n",
      "100%|██████████| 35/35 [00:00<00:00, 213.24it/s]\n",
      "100%|██████████| 35/35 [00:00<00:00, 215.67it/s]\n"
     ]
    },
    {
     "name": "stdout",
     "output_type": "stream",
     "text": [
      "Epoch:31/200.. Train Loss: 437228.507.. Val Loss: 460722.780.. Test Loss: 413482.447.. Time: 0.06m\n"
     ]
    },
    {
     "name": "stderr",
     "output_type": "stream",
     "text": [
      "100%|██████████| 106/106 [00:03<00:00, 32.40it/s]\n",
      "100%|██████████| 35/35 [00:00<00:00, 213.44it/s]\n",
      "100%|██████████| 35/35 [00:00<00:00, 210.24it/s]\n"
     ]
    },
    {
     "name": "stdout",
     "output_type": "stream",
     "text": [
      "Epoch:32/200.. Train Loss: 427641.980.. Val Loss: 457141.379.. Test Loss: 415616.247.. Time: 0.06m\n"
     ]
    },
    {
     "name": "stderr",
     "output_type": "stream",
     "text": [
      "100%|██████████| 106/106 [00:03<00:00, 32.76it/s]\n",
      "100%|██████████| 35/35 [00:00<00:00, 215.59it/s]\n",
      "100%|██████████| 35/35 [00:00<00:00, 210.89it/s]\n"
     ]
    },
    {
     "name": "stdout",
     "output_type": "stream",
     "text": [
      "Epoch:33/200.. Train Loss: 435221.402.. Val Loss: 459796.342.. Test Loss: 415169.572.. Time: 0.06m\n"
     ]
    },
    {
     "name": "stderr",
     "output_type": "stream",
     "text": [
      "100%|██████████| 106/106 [00:03<00:00, 31.92it/s]\n",
      "100%|██████████| 35/35 [00:00<00:00, 210.12it/s]\n",
      "100%|██████████| 35/35 [00:00<00:00, 212.92it/s]\n"
     ]
    },
    {
     "name": "stdout",
     "output_type": "stream",
     "text": [
      "Epoch:34/200.. Train Loss: 427641.979.. Val Loss: 462041.009.. Test Loss: 417190.393.. Time: 0.06m\n"
     ]
    },
    {
     "name": "stderr",
     "output_type": "stream",
     "text": [
      "100%|██████████| 106/106 [00:03<00:00, 31.92it/s]\n",
      "100%|██████████| 35/35 [00:00<00:00, 213.29it/s]\n",
      "100%|██████████| 35/35 [00:00<00:00, 214.62it/s]\n"
     ]
    },
    {
     "name": "stdout",
     "output_type": "stream",
     "text": [
      "Epoch:35/200.. Train Loss: 427641.980.. Val Loss: 458043.414.. Test Loss: 416925.641.. Time: 0.06m\n"
     ]
    },
    {
     "name": "stderr",
     "output_type": "stream",
     "text": [
      "100%|██████████| 106/106 [00:03<00:00, 32.52it/s]\n",
      "100%|██████████| 35/35 [00:00<00:00, 215.85it/s]\n",
      "100%|██████████| 35/35 [00:00<00:00, 215.83it/s]\n"
     ]
    },
    {
     "name": "stdout",
     "output_type": "stream",
     "text": [
      "Epoch:36/200.. Train Loss: 433221.300.. Val Loss: 466868.098.. Test Loss: 418263.950.. Time: 0.06m\n"
     ]
    },
    {
     "name": "stderr",
     "output_type": "stream",
     "text": [
      "100%|██████████| 106/106 [00:03<00:00, 32.39it/s]\n",
      "100%|██████████| 35/35 [00:00<00:00, 217.12it/s]\n",
      "100%|██████████| 35/35 [00:00<00:00, 216.04it/s]\n"
     ]
    },
    {
     "name": "stdout",
     "output_type": "stream",
     "text": [
      "Epoch:37/200.. Train Loss: 427641.979.. Val Loss: 462432.849.. Test Loss: 416918.619.. Time: 0.06m\n"
     ]
    },
    {
     "name": "stderr",
     "output_type": "stream",
     "text": [
      "100%|██████████| 106/106 [00:03<00:00, 32.14it/s]\n",
      "100%|██████████| 35/35 [00:00<00:00, 217.46it/s]\n",
      "100%|██████████| 35/35 [00:00<00:00, 216.16it/s]\n"
     ]
    },
    {
     "name": "stdout",
     "output_type": "stream",
     "text": [
      "Epoch:38/200.. Train Loss: 427641.979.. Val Loss: 456972.720.. Test Loss: 415226.438.. Time: 0.06m\n"
     ]
    },
    {
     "name": "stderr",
     "output_type": "stream",
     "text": [
      "100%|██████████| 106/106 [00:03<00:00, 32.20it/s]\n",
      "100%|██████████| 35/35 [00:00<00:00, 213.35it/s]\n",
      "100%|██████████| 35/35 [00:00<00:00, 215.30it/s]\n"
     ]
    },
    {
     "name": "stdout",
     "output_type": "stream",
     "text": [
      "Epoch:39/200.. Train Loss: 427641.979.. Val Loss: 466415.265.. Test Loss: 413682.685.. Time: 0.06m\n"
     ]
    },
    {
     "name": "stderr",
     "output_type": "stream",
     "text": [
      "100%|██████████| 106/106 [00:03<00:00, 32.03it/s]\n",
      "100%|██████████| 35/35 [00:00<00:00, 216.19it/s]\n",
      "100%|██████████| 35/35 [00:00<00:00, 215.87it/s]\n"
     ]
    },
    {
     "name": "stdout",
     "output_type": "stream",
     "text": [
      "Epoch:40/200.. Train Loss: 427641.979.. Val Loss: 459458.060.. Test Loss: 416763.119.. Time: 0.06m\n"
     ]
    },
    {
     "name": "stderr",
     "output_type": "stream",
     "text": [
      "100%|██████████| 106/106 [00:03<00:00, 32.40it/s]\n",
      "100%|██████████| 35/35 [00:00<00:00, 217.67it/s]\n",
      "100%|██████████| 35/35 [00:00<00:00, 214.60it/s]\n"
     ]
    },
    {
     "name": "stdout",
     "output_type": "stream",
     "text": [
      "Epoch:41/200.. Train Loss: 427641.980.. Val Loss: 459240.758.. Test Loss: 413482.446.. Time: 0.06m\n"
     ]
    },
    {
     "name": "stderr",
     "output_type": "stream",
     "text": [
      "100%|██████████| 106/106 [00:03<00:00, 32.32it/s]\n",
      "100%|██████████| 35/35 [00:00<00:00, 182.15it/s]\n",
      "100%|██████████| 35/35 [00:00<00:00, 185.41it/s]\n"
     ]
    },
    {
     "name": "stdout",
     "output_type": "stream",
     "text": [
      "Epoch:42/200.. Train Loss: 434945.677.. Val Loss: 463638.497.. Test Loss: 415939.821.. Time: 0.06m\n"
     ]
    },
    {
     "name": "stderr",
     "output_type": "stream",
     "text": [
      "100%|██████████| 106/106 [00:03<00:00, 31.45it/s]\n",
      "100%|██████████| 35/35 [00:00<00:00, 211.62it/s]\n",
      "100%|██████████| 35/35 [00:00<00:00, 212.86it/s]\n"
     ]
    },
    {
     "name": "stdout",
     "output_type": "stream",
     "text": [
      "Epoch:43/200.. Train Loss: 430622.175.. Val Loss: 457579.269.. Test Loss: 410966.295.. Time: 0.06m\n"
     ]
    },
    {
     "name": "stderr",
     "output_type": "stream",
     "text": [
      "100%|██████████| 106/106 [00:03<00:00, 32.12it/s]\n",
      "100%|██████████| 35/35 [00:00<00:00, 215.44it/s]\n",
      "100%|██████████| 35/35 [00:00<00:00, 214.48it/s]\n"
     ]
    },
    {
     "name": "stdout",
     "output_type": "stream",
     "text": [
      "Epoch:44/200.. Train Loss: 431320.099.. Val Loss: 461029.447.. Test Loss: 413536.582.. Time: 0.06m\n"
     ]
    },
    {
     "name": "stderr",
     "output_type": "stream",
     "text": [
      "100%|██████████| 106/106 [00:03<00:00, 31.98it/s]\n",
      "100%|██████████| 35/35 [00:00<00:00, 214.08it/s]\n",
      "100%|██████████| 35/35 [00:00<00:00, 214.33it/s]\n"
     ]
    },
    {
     "name": "stdout",
     "output_type": "stream",
     "text": [
      "Epoch:45/200.. Train Loss: 427641.979.. Val Loss: 462557.674.. Test Loss: 410966.295.. Time: 0.06m\n"
     ]
    },
    {
     "name": "stderr",
     "output_type": "stream",
     "text": [
      "100%|██████████| 106/106 [00:03<00:00, 32.11it/s]\n",
      "100%|██████████| 35/35 [00:00<00:00, 209.91it/s]\n",
      "100%|██████████| 35/35 [00:00<00:00, 211.87it/s]\n"
     ]
    },
    {
     "name": "stdout",
     "output_type": "stream",
     "text": [
      "Epoch:46/200.. Train Loss: 427641.980.. Val Loss: 457252.261.. Test Loss: 410966.294.. Time: 0.06m\n"
     ]
    },
    {
     "name": "stderr",
     "output_type": "stream",
     "text": [
      "100%|██████████| 106/106 [00:03<00:00, 32.02it/s]\n",
      "100%|██████████| 35/35 [00:00<00:00, 211.92it/s]\n",
      "100%|██████████| 35/35 [00:00<00:00, 212.34it/s]\n"
     ]
    },
    {
     "name": "stdout",
     "output_type": "stream",
     "text": [
      "Epoch:47/200.. Train Loss: 430603.836.. Val Loss: 462472.247.. Test Loss: 410987.993.. Time: 0.06m\n"
     ]
    },
    {
     "name": "stderr",
     "output_type": "stream",
     "text": [
      "100%|██████████| 106/106 [00:03<00:00, 31.19it/s]\n",
      "100%|██████████| 35/35 [00:00<00:00, 211.68it/s]\n",
      "100%|██████████| 35/35 [00:00<00:00, 213.57it/s]\n"
     ]
    },
    {
     "name": "stdout",
     "output_type": "stream",
     "text": [
      "Loss Decreasing.. 456972.719 >> 456972.718 \n",
      "saving model...\n",
      "Epoch:48/200.. Train Loss: 427641.980.. Val Loss: 456972.718.. Test Loss: 410966.293.. Time: 0.06m\n"
     ]
    },
    {
     "name": "stderr",
     "output_type": "stream",
     "text": [
      "100%|██████████| 106/106 [00:02<00:00, 37.23it/s]\n",
      "100%|██████████| 35/35 [00:00<00:00, 214.22it/s]\n",
      "100%|██████████| 35/35 [00:00<00:00, 214.91it/s]\n"
     ]
    },
    {
     "name": "stdout",
     "output_type": "stream",
     "text": [
      "Epoch:49/200.. Train Loss: 431847.930.. Val Loss: 462102.926.. Test Loss: 410966.294.. Time: 0.05m\n"
     ]
    },
    {
     "name": "stderr",
     "output_type": "stream",
     "text": [
      "100%|██████████| 106/106 [00:02<00:00, 37.66it/s]\n",
      "100%|██████████| 35/35 [00:00<00:00, 211.82it/s]\n",
      "100%|██████████| 35/35 [00:00<00:00, 210.12it/s]\n"
     ]
    },
    {
     "name": "stdout",
     "output_type": "stream",
     "text": [
      "Epoch:50/200.. Train Loss: 437661.555.. Val Loss: 460765.239.. Test Loss: 410966.294.. Time: 0.05m\n"
     ]
    },
    {
     "name": "stderr",
     "output_type": "stream",
     "text": [
      "100%|██████████| 106/106 [00:02<00:00, 37.75it/s]\n",
      "100%|██████████| 35/35 [00:00<00:00, 212.85it/s]\n",
      "100%|██████████| 35/35 [00:00<00:00, 212.12it/s]\n"
     ]
    },
    {
     "name": "stdout",
     "output_type": "stream",
     "text": [
      "Epoch:51/200.. Train Loss: 439526.055.. Val Loss: 463137.075.. Test Loss: 410966.294.. Time: 0.05m\n"
     ]
    },
    {
     "name": "stderr",
     "output_type": "stream",
     "text": [
      "100%|██████████| 106/106 [00:02<00:00, 37.58it/s]\n",
      "100%|██████████| 35/35 [00:00<00:00, 214.40it/s]\n",
      "100%|██████████| 35/35 [00:00<00:00, 215.49it/s]\n"
     ]
    },
    {
     "name": "stdout",
     "output_type": "stream",
     "text": [
      "Epoch:52/200.. Train Loss: 430875.300.. Val Loss: 457166.112.. Test Loss: 417238.973.. Time: 0.05m\n"
     ]
    },
    {
     "name": "stderr",
     "output_type": "stream",
     "text": [
      "100%|██████████| 106/106 [00:02<00:00, 37.74it/s]\n",
      "100%|██████████| 35/35 [00:00<00:00, 213.17it/s]\n",
      "100%|██████████| 35/35 [00:00<00:00, 213.76it/s]\n"
     ]
    },
    {
     "name": "stdout",
     "output_type": "stream",
     "text": [
      "Epoch:53/200.. Train Loss: 428142.612.. Val Loss: 459796.341.. Test Loss: 413234.333.. Time: 0.05m\n"
     ]
    },
    {
     "name": "stderr",
     "output_type": "stream",
     "text": [
      "100%|██████████| 106/106 [00:03<00:00, 34.25it/s]\n",
      "100%|██████████| 35/35 [00:00<00:00, 211.87it/s]\n",
      "100%|██████████| 35/35 [00:00<00:00, 212.46it/s]\n"
     ]
    },
    {
     "name": "stdout",
     "output_type": "stream",
     "text": [
      "Epoch:54/200.. Train Loss: 427641.980.. Val Loss: 462630.818.. Test Loss: 414591.457.. Time: 0.06m\n"
     ]
    },
    {
     "name": "stderr",
     "output_type": "stream",
     "text": [
      "100%|██████████| 106/106 [00:03<00:00, 31.72it/s]\n",
      "100%|██████████| 35/35 [00:00<00:00, 215.37it/s]\n",
      "100%|██████████| 35/35 [00:00<00:00, 214.21it/s]\n"
     ]
    },
    {
     "name": "stdout",
     "output_type": "stream",
     "text": [
      "Epoch:55/200.. Train Loss: 427641.979.. Val Loss: 458476.070.. Test Loss: 410966.295.. Time: 0.06m\n"
     ]
    },
    {
     "name": "stderr",
     "output_type": "stream",
     "text": [
      "100%|██████████| 106/106 [00:03<00:00, 32.39it/s]\n",
      "100%|██████████| 35/35 [00:00<00:00, 211.86it/s]\n",
      "100%|██████████| 35/35 [00:00<00:00, 213.64it/s]\n"
     ]
    },
    {
     "name": "stdout",
     "output_type": "stream",
     "text": [
      "Epoch:56/200.. Train Loss: 427641.979.. Val Loss: 456972.719.. Test Loss: 414001.155.. Time: 0.06m\n"
     ]
    },
    {
     "name": "stderr",
     "output_type": "stream",
     "text": [
      "100%|██████████| 106/106 [00:03<00:00, 32.50it/s]\n",
      "100%|██████████| 35/35 [00:00<00:00, 212.76it/s]\n",
      "100%|██████████| 35/35 [00:00<00:00, 214.28it/s]\n"
     ]
    },
    {
     "name": "stdout",
     "output_type": "stream",
     "text": [
      "Epoch:57/200.. Train Loss: 432330.158.. Val Loss: 459185.331.. Test Loss: 412912.045.. Time: 0.06m\n"
     ]
    },
    {
     "name": "stderr",
     "output_type": "stream",
     "text": [
      "100%|██████████| 106/106 [00:03<00:00, 32.32it/s]\n",
      "100%|██████████| 35/35 [00:00<00:00, 209.90it/s]\n",
      "100%|██████████| 35/35 [00:00<00:00, 212.40it/s]\n"
     ]
    },
    {
     "name": "stdout",
     "output_type": "stream",
     "text": [
      "Epoch:58/200.. Train Loss: 437064.499.. Val Loss: 460722.781.. Test Loss: 411953.761.. Time: 0.06m\n"
     ]
    },
    {
     "name": "stderr",
     "output_type": "stream",
     "text": [
      "100%|██████████| 106/106 [00:03<00:00, 31.65it/s]\n",
      "100%|██████████| 35/35 [00:00<00:00, 212.06it/s]\n",
      "100%|██████████| 35/35 [00:00<00:00, 212.10it/s]\n"
     ]
    },
    {
     "name": "stdout",
     "output_type": "stream",
     "text": [
      "Epoch:59/200.. Train Loss: 427641.980.. Val Loss: 459557.873.. Test Loss: 416120.757.. Time: 0.06m\n"
     ]
    },
    {
     "name": "stderr",
     "output_type": "stream",
     "text": [
      "100%|██████████| 106/106 [00:03<00:00, 31.87it/s]\n",
      "100%|██████████| 35/35 [00:00<00:00, 212.89it/s]\n",
      "100%|██████████| 35/35 [00:00<00:00, 211.50it/s]\n"
     ]
    },
    {
     "name": "stdout",
     "output_type": "stream",
     "text": [
      "Epoch:60/200.. Train Loss: 439089.980.. Val Loss: 456972.720.. Test Loss: 413751.355.. Time: 0.06m\n"
     ]
    },
    {
     "name": "stderr",
     "output_type": "stream",
     "text": [
      "100%|██████████| 106/106 [00:03<00:00, 31.17it/s]\n",
      "100%|██████████| 35/35 [00:00<00:00, 212.16it/s]\n",
      "100%|██████████| 35/35 [00:00<00:00, 211.00it/s]\n"
     ]
    },
    {
     "name": "stdout",
     "output_type": "stream",
     "text": [
      "Epoch:61/200.. Train Loss: 427641.979.. Val Loss: 460716.805.. Test Loss: 413482.446.. Time: 0.06m\n"
     ]
    },
    {
     "name": "stderr",
     "output_type": "stream",
     "text": [
      "100%|██████████| 106/106 [00:03<00:00, 32.07it/s]\n",
      "100%|██████████| 35/35 [00:00<00:00, 210.58it/s]\n",
      "100%|██████████| 35/35 [00:00<00:00, 212.18it/s]\n"
     ]
    },
    {
     "name": "stdout",
     "output_type": "stream",
     "text": [
      "Epoch:62/200.. Train Loss: 427641.980.. Val Loss: 463550.923.. Test Loss: 413234.333.. Time: 0.06m\n"
     ]
    },
    {
     "name": "stderr",
     "output_type": "stream",
     "text": [
      "100%|██████████| 106/106 [00:03<00:00, 31.66it/s]\n",
      "100%|██████████| 35/35 [00:00<00:00, 202.08it/s]\n",
      "100%|██████████| 35/35 [00:00<00:00, 212.04it/s]\n"
     ]
    },
    {
     "name": "stdout",
     "output_type": "stream",
     "text": [
      "Epoch:63/200.. Train Loss: 431138.740.. Val Loss: 456972.718.. Test Loss: 413899.864.. Time: 0.06m\n"
     ]
    },
    {
     "name": "stderr",
     "output_type": "stream",
     "text": [
      "100%|██████████| 106/106 [00:03<00:00, 31.84it/s]\n",
      "100%|██████████| 35/35 [00:00<00:00, 213.28it/s]\n",
      "100%|██████████| 35/35 [00:00<00:00, 212.58it/s]\n"
     ]
    },
    {
     "name": "stdout",
     "output_type": "stream",
     "text": [
      "Epoch:64/200.. Train Loss: 427641.979.. Val Loss: 460407.010.. Test Loss: 413596.296.. Time: 0.06m\n"
     ]
    },
    {
     "name": "stderr",
     "output_type": "stream",
     "text": [
      "100%|██████████| 106/106 [00:03<00:00, 31.82it/s]\n",
      "100%|██████████| 35/35 [00:00<00:00, 209.92it/s]\n",
      "100%|██████████| 35/35 [00:00<00:00, 214.04it/s]\n"
     ]
    },
    {
     "name": "stdout",
     "output_type": "stream",
     "text": [
      "Epoch:65/200.. Train Loss: 427641.980.. Val Loss: 457000.308.. Test Loss: 411138.580.. Time: 0.06m\n"
     ]
    },
    {
     "name": "stderr",
     "output_type": "stream",
     "text": [
      "100%|██████████| 106/106 [00:03<00:00, 31.27it/s]\n",
      "100%|██████████| 35/35 [00:00<00:00, 213.90it/s]\n",
      "100%|██████████| 35/35 [00:00<00:00, 213.87it/s]\n"
     ]
    },
    {
     "name": "stdout",
     "output_type": "stream",
     "text": [
      "Epoch:66/200.. Train Loss: 430567.326.. Val Loss: 460464.438.. Test Loss: 413561.378.. Time: 0.06m\n"
     ]
    },
    {
     "name": "stderr",
     "output_type": "stream",
     "text": [
      "100%|██████████| 106/106 [00:03<00:00, 31.17it/s]\n",
      "100%|██████████| 35/35 [00:00<00:00, 210.27it/s]\n",
      "100%|██████████| 35/35 [00:00<00:00, 212.40it/s]\n"
     ]
    },
    {
     "name": "stdout",
     "output_type": "stream",
     "text": [
      "Epoch:67/200.. Train Loss: 430063.382.. Val Loss: 462398.674.. Test Loss: 411166.533.. Time: 0.06m\n"
     ]
    },
    {
     "name": "stderr",
     "output_type": "stream",
     "text": [
      "100%|██████████| 106/106 [00:03<00:00, 31.85it/s]\n",
      "100%|██████████| 35/35 [00:00<00:00, 209.46it/s]\n",
      "100%|██████████| 35/35 [00:00<00:00, 212.95it/s]\n"
     ]
    },
    {
     "name": "stdout",
     "output_type": "stream",
     "text": [
      "Epoch:68/200.. Train Loss: 427641.980.. Val Loss: 456972.718.. Test Loss: 414251.332.. Time: 0.06m\n"
     ]
    },
    {
     "name": "stderr",
     "output_type": "stream",
     "text": [
      "100%|██████████| 106/106 [00:03<00:00, 32.13it/s]\n",
      "100%|██████████| 35/35 [00:00<00:00, 208.44it/s]\n",
      "100%|██████████| 35/35 [00:00<00:00, 210.47it/s]\n"
     ]
    },
    {
     "name": "stdout",
     "output_type": "stream",
     "text": [
      "[***] end training ...\n",
      "Total time: 4.17 m\n"
     ]
    }
   ],
   "source": [
    "training.fit(model, train_loader, validation_loader, test_loader)\n",
    "model = training.get_best_model()"
   ]
  },
  {
   "cell_type": "code",
   "execution_count": 383,
   "metadata": {
    "tags": []
   },
   "outputs": [
    {
     "data": {
      "text/plain": [
       "<matplotlib.legend.Legend at 0x2b77c734bd90>"
      ]
     },
     "execution_count": 383,
     "metadata": {},
     "output_type": "execute_result"
    },
    {
     "data": {
      "image/png": "[encoded data removed]",
      "text/plain": [
       "<Figure size 640x480 with 1 Axes>"
      ]
     },
     "metadata": {},
     "output_type": "display_data"
    }
   ],
   "source": [
    "fig, ax = plt.subplots()\n",
    "\n",
    "ax.plot(training.results['Train'], label='Train')\n",
    "ax.plot(training.results['Validation'], label='Validation')\n",
    "ax.plot(training.results['Test'], label='Test')\n",
    "ax.legend()"
   ]
  },
  {
   "cell_type": "markdown",
   "metadata": {},
   "source": [
    "## Evaluation and plotting classes"
   ]
  },
  {
   "cell_type": "code",
   "execution_count": 384,
   "metadata": {
    "tags": []
   },
   "outputs": [],
   "source": [
    "class OSAEvaluator:\n",
    "    \n",
    "    def evaluate_OSA(self, dataset, model):\n",
    "        \n",
    "        torch.cuda.empty_cache()\n",
    "        Y_real = []\n",
    "        Y_pred = []\n",
    "        for i, data in enumerate(tqdm(dataset)):\n",
    "            src, tgt, y_real = data\n",
    "            src, tgt, y_real = src.to(device), tgt.to(device), y_real.to(device)\n",
    "            y_pred = model(src, tgt)\n",
    "            Y_real.append(y_real[:,-1].reshape(1,-1))\n",
    "            Y_pred.append(y_pred[:,-1].reshape(1,-1))\n",
    "        \n",
    "        Y_real = torch.vstack(Y_real)\n",
    "        Y_pred = torch.vstack(Y_pred)\n",
    "        return Y_real.cpu(), Y_pred.cpu().detach()\n",
    "            \n",
    "class FSEvaluator:\n",
    "    \n",
    "    def evaluate_FS(self, dataset, model):\n",
    "        \n",
    "        torch.cuda.empty_cache()\n",
    "        Y_real = []\n",
    "        Y_pred = []\n",
    "        tgt_sim = None\n",
    "        for i, data in enumerate(tqdm(dataset)):\n",
    "            src, tgt, y_real = data\n",
    "            src, tgt, y_real = src.to(device), tgt.to(device), y_real.to(device)\n",
    "            if tgt_sim is None:\n",
    "                tgt_sim = tgt\n",
    "            #else:\n",
    "            #    tgt_sim[:-1,:] = tgt_sim[1:,:]\n",
    "            #    tgt_sim[-1,:] = y_pred[:,-1]\n",
    "            y_pred = model(src, tgt_sim)\n",
    "            tgt_sim = y_pred.clone()\n",
    "            Y_real.append(y_real[:,-1].reshape(1,-1))\n",
    "            Y_pred.append(y_pred[:,-1].reshape(1,-1))\n",
    "        Y_real = torch.vstack(Y_real)\n",
    "        Y_pred = torch.vstack(Y_pred)\n",
    "        return Y_real.cpu(), Y_pred.cpu().detach()\n",
    "    \n",
    "class Evaluator(OSAEvaluator, FSEvaluator):\n",
    "    \n",
    "    pass\n",
    "        "
   ]
  },
  {
   "cell_type": "code",
   "execution_count": 385,
   "metadata": {
    "tags": []
   },
   "outputs": [
    {
     "name": "stderr",
     "output_type": "stream",
     "text": [
      "100%|██████████| 699/699 [00:04<00:00, 150.68it/s]\n",
      "100%|██████████| 699/699 [00:04<00:00, 141.67it/s]\n"
     ]
    }
   ],
   "source": [
    "evaluator = Evaluator()\n",
    "Y_real, Y_pred_OSA = evaluator.evaluate_OSA(dataset, model)\n",
    "Y_real, Y_pred_FS = evaluator.evaluate_FS(dataset, model)"
   ]
  },
  {
   "cell_type": "code",
   "execution_count": 386,
   "metadata": {
    "tags": []
   },
   "outputs": [
    {
     "data": {
      "text/plain": [
       "[<matplotlib.lines.Line2D at 0x2b77c6d582e0>]"
      ]
     },
     "execution_count": 386,
     "metadata": {},
     "output_type": "execute_result"
    },
    {
     "data": {
      "image/png": "[encoded data removed]",
      "text/plain": [
       "<Figure size 640x480 with 1 Axes>"
      ]
     },
     "metadata": {},
     "output_type": "display_data"
    }
   ],
   "source": [
    "fig, ax = plt.subplots()\n",
    "ax.plot(Y_real)\n",
    "ax.plot(Y_pred_OSA)\n",
    "ax.plot(Y_pred_FS)"
   ]
  }
 ],
 "metadata": {
  "kernelspec": {
   "display_name": "raul_dl",
   "language": "python",
   "name": "raul_dl"
  },
  "language_info": {
   "codemirror_mode": {
    "name": "ipython",
    "version": 3
   },
   "file_extension": ".py",
   "mimetype": "text/x-python",
   "name": "python",
   "nbconvert_exporter": "python",
   "pygments_lexer": "ipython3",
   "version": "3.9.13"
  }
 },
 "nbformat": 4,
 "nbformat_minor": 4
}
