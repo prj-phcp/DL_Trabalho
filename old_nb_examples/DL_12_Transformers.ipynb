{
 "cells": [
  {
   "cell_type": "markdown",
   "id": "7f7f7793-d37e-4cb2-96c3-e28fd48d0435",
   "metadata": {},
   "source": [
    "# Transformers"
   ]
  },
  {
   "cell_type": "markdown",
   "id": "e80e9bdf-6071-48a4-9b7e-229a4f496788",
   "metadata": {},
   "source": [
    "O objetivo deste documento é discutir superficialmente "
   ]
  },
  {
   "cell_type": "code",
   "execution_count": 1,
   "id": "743263af-3afd-4e55-a2e8-968aebfa246e",
   "metadata": {},
   "outputs": [],
   "source": [
    "import time\n",
    "import math\n",
    "from math import pi as π\n",
    "import random\n",
    "\n",
    "import numpy as np\n",
    "import sympy as sp\n",
    "import pandas as pd\n",
    "\n",
    "import matplotlib.pyplot as plt\n",
    "from matplotlib.collections import LineCollection\n",
    "from matplotlib.animation import FuncAnimation, PillowWriter\n",
    "\n",
    "from scipy.io import arff\n",
    "from sklearn.model_selection import train_test_split\n",
    "from sklearn.metrics import classification_report\n",
    "\n",
    "import torch\n",
    "import torch.nn as nn\n",
    "import torch.nn.functional as F\n",
    "import torch.optim as optim"
   ]
  },
  {
   "cell_type": "code",
   "execution_count": 2,
   "id": "505ff9b4-4542-4e3c-b31e-896f1ab1c6eb",
   "metadata": {},
   "outputs": [],
   "source": [
    "# Defaults\n",
    "\n",
    "# Gráficos \"inline\" (no notebook, sem popup)\n",
    "%matplotlib inline\n",
    "\n",
    "# Tamanho e resolução dos gráficos\n",
    "plt.rcParams['figure.figsize'] = [12,8] # default [12, 8]\n",
    "plt.rcParams['figure.dpi'] = 100        # default 100\n",
    "plt.style.use('dark_background')\n",
    "\n",
    "# Printa equações com latex\n",
    "sp.init_printing(use_latex= True) "
   ]
  },
  {
   "cell_type": "code",
   "execution_count": 3,
   "id": "a72e1be7-82d9-4301-9e61-94f6e2b9a115",
   "metadata": {},
   "outputs": [],
   "source": [
    "# Funções mágicas do IPython para plotar, interatividade, etc\n",
    "from IPython.display import HTML, display"
   ]
  },
  {
   "cell_type": "code",
   "execution_count": 4,
   "id": "79442759-acf6-4ab6-a03f-ceb26253fbf3",
   "metadata": {},
   "outputs": [],
   "source": [
    "# Dispositivo onde tensores serão criados, armazenados e processados\n",
    "device = torch.device(\"cuda:0\" if torch.cuda.is_available() else \"cpu\")"
   ]
  },
  {
   "cell_type": "code",
   "execution_count": 5,
   "id": "da5f3ede-17b3-4b98-b268-9d4af1f8a068",
   "metadata": {},
   "outputs": [],
   "source": [
    "# Randon Seed fixa para resultados reprodutíveis\n",
    "seed = 42\n",
    "torch.manual_seed(seed)\n",
    "torch.cuda.manual_seed(seed)"
   ]
  },
  {
   "cell_type": "markdown",
   "id": "434e0d7b-3fd7-4e6a-aded-9caebdd849a5",
   "metadata": {},
   "source": [
    "## Leitura da Base de Dados ECG5000 "
   ]
  },
  {
   "cell_type": "markdown",
   "id": "54bb0b01-6d89-4d1e-931c-63f5a22596be",
   "metadata": {},
   "source": [
    "[ECG5000](http://timeseriesclassification.com/description.php?Dataset=ECG5000) é uma base de dados com 5000 séries temporais de eletrocardiogramas contendo 5 classes:"
   ]
  },
  {
   "cell_type": "markdown",
   "id": "2c95f594-453f-4107-a998-cc286da0f6c5",
   "metadata": {},
   "source": [
    "- 1: Normal (N)\n",
    "- 2: R-on-T Premature Ventricular Contraction (R-on-T PVC)\n",
    "- 3: Premature Ventricular Contraction (PVC)\n",
    "- 4: Supra-ventricular Premature or Ectopic Beat (SP or EB)\n",
    "- 5: Unclassified Beat (UB)."
   ]
  },
  {
   "cell_type": "markdown",
   "id": "5f49b6d1-d42e-4a55-8767-a5acd2c8b546",
   "metadata": {},
   "source": [
    "<center>\n",
    "    <img src=\".\\img\\Heart_Signals.gif\" width=\"800\">\n",
    "</center>"
   ]
  },
  {
   "cell_type": "code",
   "execution_count": 6,
   "id": "dd9ade77-c368-4b65-a961-418011a7e81e",
   "metadata": {},
   "outputs": [],
   "source": [
    "class_names = ['Normal', 'R on T', 'PVC', 'SP', 'UB']"
   ]
  },
  {
   "cell_type": "code",
   "execution_count": 7,
   "id": "f74ef073-d91f-4f6c-a3ae-981c55fb52d7",
   "metadata": {},
   "outputs": [],
   "source": [
    "class_normal = 1"
   ]
  },
  {
   "cell_type": "markdown",
   "id": "217026e8-ef64-45ed-bba3-46f94340f22a",
   "metadata": {},
   "source": [
    "Cada amostra contém um batimento cardíaco com 140 passos no tempo "
   ]
  },
  {
   "cell_type": "code",
   "execution_count": 8,
   "id": "b700e680-c30c-4431-a888-34f77eb490f5",
   "metadata": {},
   "outputs": [],
   "source": [
    "path = '.\\\\dados\\ECG5000\\\\'\n",
    "file_train = 'ECG5000_TRAIN.arff'\n",
    "file_test = 'ECG5000_TEST.arff'\n",
    "\n",
    "data = pd.concat([pd.DataFrame(arff.loadarff(path + file_train)[0]), pd.DataFrame(arff.loadarff(path + file_test)[0])], axis= 0) # treino e teste em um único dataframe (autoencoder)\n",
    "\n",
    "data = data.sample(frac=1, random_state= seed, axis= 0).reset_index(drop= True)                                                  # embaralha os dados\n",
    "data['target'] = data['target'].values.astype(int)                                                                               # target de bytes para int"
   ]
  },
  {
   "cell_type": "code",
   "execution_count": 9,
   "id": "1a86e158-9833-450c-a0dc-f0d41fda40c8",
   "metadata": {},
   "outputs": [
    {
     "data": {
      "text/plain": [
       "array([1, 3, 2, 4, 5])"
      ]
     },
     "execution_count": 9,
     "metadata": {},
     "output_type": "execute_result"
    }
   ],
   "source": [
    "data['target'].unique()"
   ]
  },
  {
   "cell_type": "code",
   "execution_count": 10,
   "id": "95b62d71-b8c8-4390-bf66-0aa45324e799",
   "metadata": {},
   "outputs": [],
   "source": [
    "data['label'] = data['target'].map({(i+1) : classe for i,classe in enumerate(class_names)})"
   ]
  },
  {
   "cell_type": "code",
   "execution_count": 11,
   "id": "556bec4d-0cd6-477b-9e15-9a8e94181a56",
   "metadata": {},
   "outputs": [],
   "source": [
    "colunas = data.columns"
   ]
  },
  {
   "cell_type": "code",
   "execution_count": 12,
   "id": "2223c802-6a22-4b5e-a406-eff95c9a0a65",
   "metadata": {},
   "outputs": [
    {
     "data": {
      "image/png": "[encoded data removed]",
      "text/latex": [
       "$\\displaystyle \\left( 5000, \\  142\\right)$"
      ],
      "text/plain": [
       "(5000, 142)"
      ]
     },
     "execution_count": 12,
     "metadata": {},
     "output_type": "execute_result"
    }
   ],
   "source": [
    "data.shape"
   ]
  },
  {
   "cell_type": "code",
   "execution_count": 13,
   "id": "bb9acc35-18bb-4041-98bd-c11091456013",
   "metadata": {},
   "outputs": [
    {
     "data": {
      "text/html": [
       "<div>\n",
       "<style scoped>\n",
       "    .dataframe tbody tr th:only-of-type {\n",
       "        vertical-align: middle;\n",
       "    }\n",
       "\n",
       "    .dataframe tbody tr th {\n",
       "        vertical-align: top;\n",
       "    }\n",
       "\n",
       "    .dataframe thead th {\n",
       "        text-align: right;\n",
       "    }\n",
       "</style>\n",
       "<table border=\"1\" class=\"dataframe\">\n",
       "  <thead>\n",
       "    <tr style=\"text-align: right;\">\n",
       "      <th></th>\n",
       "      <th>att1</th>\n",
       "      <th>att2</th>\n",
       "      <th>att3</th>\n",
       "      <th>att4</th>\n",
       "      <th>att5</th>\n",
       "      <th>att6</th>\n",
       "      <th>att7</th>\n",
       "      <th>att8</th>\n",
       "      <th>att9</th>\n",
       "      <th>att10</th>\n",
       "      <th>...</th>\n",
       "      <th>att133</th>\n",
       "      <th>att134</th>\n",
       "      <th>att135</th>\n",
       "      <th>att136</th>\n",
       "      <th>att137</th>\n",
       "      <th>att138</th>\n",
       "      <th>att139</th>\n",
       "      <th>att140</th>\n",
       "      <th>target</th>\n",
       "      <th>label</th>\n",
       "    </tr>\n",
       "  </thead>\n",
       "  <tbody>\n",
       "    <tr>\n",
       "      <th>0</th>\n",
       "      <td>1.469756</td>\n",
       "      <td>-1.048520</td>\n",
       "      <td>-3.394356</td>\n",
       "      <td>-4.254399</td>\n",
       "      <td>-4.162834</td>\n",
       "      <td>-3.822570</td>\n",
       "      <td>-3.003609</td>\n",
       "      <td>-1.799773</td>\n",
       "      <td>-1.500033</td>\n",
       "      <td>-1.025095</td>\n",
       "      <td>...</td>\n",
       "      <td>1.275588</td>\n",
       "      <td>1.617218</td>\n",
       "      <td>1.580279</td>\n",
       "      <td>1.306195</td>\n",
       "      <td>1.351674</td>\n",
       "      <td>1.915517</td>\n",
       "      <td>1.672103</td>\n",
       "      <td>-1.039932</td>\n",
       "      <td>1</td>\n",
       "      <td>Normal</td>\n",
       "    </tr>\n",
       "    <tr>\n",
       "      <th>1</th>\n",
       "      <td>-1.998602</td>\n",
       "      <td>-3.770552</td>\n",
       "      <td>-4.267091</td>\n",
       "      <td>-4.256133</td>\n",
       "      <td>-3.515288</td>\n",
       "      <td>-2.554540</td>\n",
       "      <td>-1.699639</td>\n",
       "      <td>-1.566366</td>\n",
       "      <td>-1.038815</td>\n",
       "      <td>-0.425483</td>\n",
       "      <td>...</td>\n",
       "      <td>1.024698</td>\n",
       "      <td>1.051141</td>\n",
       "      <td>1.015352</td>\n",
       "      <td>0.988475</td>\n",
       "      <td>1.050191</td>\n",
       "      <td>1.089509</td>\n",
       "      <td>1.465382</td>\n",
       "      <td>0.799517</td>\n",
       "      <td>1</td>\n",
       "      <td>Normal</td>\n",
       "    </tr>\n",
       "    <tr>\n",
       "      <th>2</th>\n",
       "      <td>-1.187772</td>\n",
       "      <td>-3.365038</td>\n",
       "      <td>-3.695653</td>\n",
       "      <td>-4.094781</td>\n",
       "      <td>-3.992549</td>\n",
       "      <td>-3.425381</td>\n",
       "      <td>-2.057643</td>\n",
       "      <td>-1.277729</td>\n",
       "      <td>-1.307397</td>\n",
       "      <td>-0.623098</td>\n",
       "      <td>...</td>\n",
       "      <td>1.467196</td>\n",
       "      <td>1.413850</td>\n",
       "      <td>1.283822</td>\n",
       "      <td>0.923126</td>\n",
       "      <td>0.759235</td>\n",
       "      <td>0.932364</td>\n",
       "      <td>1.216265</td>\n",
       "      <td>-0.824489</td>\n",
       "      <td>1</td>\n",
       "      <td>Normal</td>\n",
       "    </tr>\n",
       "    <tr>\n",
       "      <th>3</th>\n",
       "      <td>0.604969</td>\n",
       "      <td>-1.671363</td>\n",
       "      <td>-3.236131</td>\n",
       "      <td>-3.966465</td>\n",
       "      <td>-4.067820</td>\n",
       "      <td>-3.551897</td>\n",
       "      <td>-2.582864</td>\n",
       "      <td>-1.804755</td>\n",
       "      <td>-1.688151</td>\n",
       "      <td>-1.025897</td>\n",
       "      <td>...</td>\n",
       "      <td>0.649363</td>\n",
       "      <td>0.986846</td>\n",
       "      <td>1.234495</td>\n",
       "      <td>1.280039</td>\n",
       "      <td>1.215985</td>\n",
       "      <td>1.617971</td>\n",
       "      <td>2.196543</td>\n",
       "      <td>0.023843</td>\n",
       "      <td>1</td>\n",
       "      <td>Normal</td>\n",
       "    </tr>\n",
       "    <tr>\n",
       "      <th>4</th>\n",
       "      <td>-1.197203</td>\n",
       "      <td>-3.270123</td>\n",
       "      <td>-3.778723</td>\n",
       "      <td>-3.977574</td>\n",
       "      <td>-3.405060</td>\n",
       "      <td>-2.392634</td>\n",
       "      <td>-1.726322</td>\n",
       "      <td>-1.572748</td>\n",
       "      <td>-0.920075</td>\n",
       "      <td>-0.388731</td>\n",
       "      <td>...</td>\n",
       "      <td>0.914338</td>\n",
       "      <td>1.063077</td>\n",
       "      <td>1.393479</td>\n",
       "      <td>1.469756</td>\n",
       "      <td>1.392281</td>\n",
       "      <td>1.144732</td>\n",
       "      <td>1.668263</td>\n",
       "      <td>1.734676</td>\n",
       "      <td>1</td>\n",
       "      <td>Normal</td>\n",
       "    </tr>\n",
       "  </tbody>\n",
       "</table>\n",
       "<p>5 rows × 142 columns</p>\n",
       "</div>"
      ],
      "text/plain": [
       "       att1      att2      att3      att4      att5      att6      att7  \\\n",
       "0  1.469756 -1.048520 -3.394356 -4.254399 -4.162834 -3.822570 -3.003609   \n",
       "1 -1.998602 -3.770552 -4.267091 -4.256133 -3.515288 -2.554540 -1.699639   \n",
       "2 -1.187772 -3.365038 -3.695653 -4.094781 -3.992549 -3.425381 -2.057643   \n",
       "3  0.604969 -1.671363 -3.236131 -3.966465 -4.067820 -3.551897 -2.582864   \n",
       "4 -1.197203 -3.270123 -3.778723 -3.977574 -3.405060 -2.392634 -1.726322   \n",
       "\n",
       "       att8      att9     att10  ...    att133    att134    att135    att136  \\\n",
       "0 -1.799773 -1.500033 -1.025095  ...  1.275588  1.617218  1.580279  1.306195   \n",
       "1 -1.566366 -1.038815 -0.425483  ...  1.024698  1.051141  1.015352  0.988475   \n",
       "2 -1.277729 -1.307397 -0.623098  ...  1.467196  1.413850  1.283822  0.923126   \n",
       "3 -1.804755 -1.688151 -1.025897  ...  0.649363  0.986846  1.234495  1.280039   \n",
       "4 -1.572748 -0.920075 -0.388731  ...  0.914338  1.063077  1.393479  1.469756   \n",
       "\n",
       "     att137    att138    att139    att140  target   label  \n",
       "0  1.351674  1.915517  1.672103 -1.039932       1  Normal  \n",
       "1  1.050191  1.089509  1.465382  0.799517       1  Normal  \n",
       "2  0.759235  0.932364  1.216265 -0.824489       1  Normal  \n",
       "3  1.215985  1.617971  2.196543  0.023843       1  Normal  \n",
       "4  1.392281  1.144732  1.668263  1.734676       1  Normal  \n",
       "\n",
       "[5 rows x 142 columns]"
      ]
     },
     "execution_count": 13,
     "metadata": {},
     "output_type": "execute_result"
    }
   ],
   "source": [
    "data.head()"
   ]
  },
  {
   "cell_type": "code",
   "execution_count": 14,
   "id": "e6f62d71-3b0b-4960-90f1-ee666e28492f",
   "metadata": {},
   "outputs": [
    {
     "data": {
      "text/plain": [
       "att1      float64\n",
       "att2      float64\n",
       "att3      float64\n",
       "att4      float64\n",
       "att5      float64\n",
       "           ...   \n",
       "att138    float64\n",
       "att139    float64\n",
       "att140    float64\n",
       "target      int32\n",
       "label      object\n",
       "Length: 142, dtype: object"
      ]
     },
     "execution_count": 14,
     "metadata": {},
     "output_type": "execute_result"
    }
   ],
   "source": [
    "data.dtypes"
   ]
  },
  {
   "cell_type": "markdown",
   "id": "ed5e46c7-786a-4fd0-a65a-75367d9d6927",
   "metadata": {},
   "source": [
    "## EDA"
   ]
  },
  {
   "cell_type": "markdown",
   "id": "6934030d-31dd-4d91-a7c1-273763fbf083",
   "metadata": {},
   "source": [
    "A base é bastante desbalanceada, porém para o *framework* de detecção de anomalias isso é bom, pois a classe dominante é a normal"
   ]
  },
  {
   "cell_type": "code",
   "execution_count": 15,
   "id": "65bde2a3-ba7b-41be-af37-1d668b5c0ab8",
   "metadata": {},
   "outputs": [
    {
     "data": {
      "text/plain": [
       "Normal    2919\n",
       "R on T    1767\n",
       "SP         194\n",
       "PVC         96\n",
       "UB          24\n",
       "Name: label, dtype: int64"
      ]
     },
     "execution_count": 15,
     "metadata": {},
     "output_type": "execute_result"
    }
   ],
   "source": [
    "data.label.value_counts()"
   ]
  },
  {
   "cell_type": "code",
   "execution_count": 16,
   "id": "54c22324-b286-4764-bb6c-1a214a2954c9",
   "metadata": {},
   "outputs": [
    {
     "data": {
      "text/plain": [
       "<AxesSubplot:title={'center':'Class Count'}>"
      ]
     },
     "execution_count": 16,
     "metadata": {},
     "output_type": "execute_result"
    },
    {
     "data": {
      "image/png": "[encoded data removed]",
      "text/plain": [
       "<Figure size 1200x800 with 1 Axes>"
      ]
     },
     "metadata": {},
     "output_type": "display_data"
    }
   ],
   "source": [
    "data.label.value_counts().plot.barh(title= 'Class Count')"
   ]
  },
  {
   "cell_type": "markdown",
   "id": "9e85a242-435a-4169-97f8-7141563a41ee",
   "metadata": {},
   "source": [
    "Vizualiar as séries aglomeradas por classe"
   ]
  },
  {
   "cell_type": "code",
   "execution_count": 17,
   "id": "ce057f99-3c3d-4f45-b021-a998dbac1720",
   "metadata": {},
   "outputs": [
    {
     "data": {
      "image/png": "[encoded data removed]",
      "text/plain": [
       "<Figure size 3400x500 with 5 Axes>"
      ]
     },
     "metadata": {},
     "output_type": "display_data"
    }
   ],
   "source": [
    "fig, axs = plt.subplots(1, 5, sharex= True, sharey= True, figsize=(34, 5))\n",
    "fig.suptitle('Batimentos')\n",
    "for i,classe in enumerate(class_names):\n",
    "    \n",
    "    data_filtered = data.loc[data['target'] == (i+1)]                                                          # filtra por classe\n",
    "    \n",
    "    sample = data_filtered.sample(n= 1, random_state= seed, axis= 0)[colunas[:-2]].transpose()                 # recolhe uma amostra\n",
    "    \n",
    "    data_filtered = data_filtered.describe()[colunas[:-2]].transpose().reset_index(drop= True)[['mean','std']] # calcula média e desvio para todas as amostras de uma determinada classe\n",
    "    \n",
    "    # Vizualiza\n",
    "    axs.flatten()[i].plot(data_filtered.index, data_filtered['mean'], 'y--', label = 'mean')\n",
    "    axs.flatten()[i].fill_between(data_filtered.index, data_filtered['mean'] - 3 * data_filtered['std'], data_filtered['mean'] + 3 * data_filtered['std'], alpha= 0.5, label = '+/-std')\n",
    "    axs.flatten()[i].plot(data_filtered.index, sample.values, 'r-', label = 'sample')\n",
    "    \n",
    "    axs.flatten()[i].set_title(classe)\n",
    "    axs.flatten()[i].legend()"
   ]
  },
  {
   "cell_type": "markdown",
   "id": "5701a165-796e-4a49-8931-e06ea8fd94b0",
   "metadata": {},
   "source": [
    "## Pré-processamento"
   ]
  },
  {
   "cell_type": "markdown",
   "id": "6aa8632d-9cdb-461a-9128-9664b8e5a0e7",
   "metadata": {},
   "source": [
    "Separa *features* de *targets* e dados para treino e testes"
   ]
  },
  {
   "cell_type": "code",
   "execution_count": 18,
   "id": "2c6a7eae-07ed-45f6-8596-aeef87d40854",
   "metadata": {},
   "outputs": [],
   "source": [
    "data_train, data_test, target_train, target_test = train_test_split(data.drop(labels= ['target','label'], axis= 1), data[['target']], stratify= data[['target']], test_size= 0.2, random_state= seed)"
   ]
  },
  {
   "cell_type": "code",
   "execution_count": 19,
   "id": "1a4ea86b-bb34-4277-8de1-b8fa2826c5eb",
   "metadata": {},
   "outputs": [
    {
     "data": {
      "text/html": [
       "<div>\n",
       "<style scoped>\n",
       "    .dataframe tbody tr th:only-of-type {\n",
       "        vertical-align: middle;\n",
       "    }\n",
       "\n",
       "    .dataframe tbody tr th {\n",
       "        vertical-align: top;\n",
       "    }\n",
       "\n",
       "    .dataframe thead th {\n",
       "        text-align: right;\n",
       "    }\n",
       "</style>\n",
       "<table border=\"1\" class=\"dataframe\">\n",
       "  <thead>\n",
       "    <tr style=\"text-align: right;\">\n",
       "      <th></th>\n",
       "      <th>att1</th>\n",
       "      <th>att2</th>\n",
       "      <th>att3</th>\n",
       "      <th>att4</th>\n",
       "      <th>att5</th>\n",
       "      <th>att6</th>\n",
       "      <th>att7</th>\n",
       "      <th>att8</th>\n",
       "      <th>att9</th>\n",
       "      <th>att10</th>\n",
       "      <th>...</th>\n",
       "      <th>att131</th>\n",
       "      <th>att132</th>\n",
       "      <th>att133</th>\n",
       "      <th>att134</th>\n",
       "      <th>att135</th>\n",
       "      <th>att136</th>\n",
       "      <th>att137</th>\n",
       "      <th>att138</th>\n",
       "      <th>att139</th>\n",
       "      <th>att140</th>\n",
       "    </tr>\n",
       "  </thead>\n",
       "  <tbody>\n",
       "    <tr>\n",
       "      <th>3966</th>\n",
       "      <td>1.063460</td>\n",
       "      <td>1.216966</td>\n",
       "      <td>0.786507</td>\n",
       "      <td>0.003885</td>\n",
       "      <td>-0.417885</td>\n",
       "      <td>-0.837808</td>\n",
       "      <td>-1.234069</td>\n",
       "      <td>-1.663849</td>\n",
       "      <td>-1.815020</td>\n",
       "      <td>-1.704646</td>\n",
       "      <td>...</td>\n",
       "      <td>-1.268922</td>\n",
       "      <td>-1.367334</td>\n",
       "      <td>-1.709320</td>\n",
       "      <td>-2.019543</td>\n",
       "      <td>-2.696408</td>\n",
       "      <td>-3.036951</td>\n",
       "      <td>-3.796946</td>\n",
       "      <td>-3.943112</td>\n",
       "      <td>-4.855511</td>\n",
       "      <td>-3.851993</td>\n",
       "    </tr>\n",
       "    <tr>\n",
       "      <th>2905</th>\n",
       "      <td>1.578867</td>\n",
       "      <td>0.450397</td>\n",
       "      <td>-1.778001</td>\n",
       "      <td>-3.218517</td>\n",
       "      <td>-4.357176</td>\n",
       "      <td>-4.968181</td>\n",
       "      <td>-3.863776</td>\n",
       "      <td>-2.157943</td>\n",
       "      <td>-1.732303</td>\n",
       "      <td>-1.162289</td>\n",
       "      <td>...</td>\n",
       "      <td>0.089296</td>\n",
       "      <td>0.795047</td>\n",
       "      <td>1.694559</td>\n",
       "      <td>1.568509</td>\n",
       "      <td>1.726298</td>\n",
       "      <td>1.702605</td>\n",
       "      <td>1.558150</td>\n",
       "      <td>0.843165</td>\n",
       "      <td>0.376877</td>\n",
       "      <td>1.122975</td>\n",
       "    </tr>\n",
       "    <tr>\n",
       "      <th>3130</th>\n",
       "      <td>-1.056706</td>\n",
       "      <td>-2.119346</td>\n",
       "      <td>-2.920578</td>\n",
       "      <td>-3.358865</td>\n",
       "      <td>-3.154947</td>\n",
       "      <td>-2.937275</td>\n",
       "      <td>-2.601062</td>\n",
       "      <td>-1.965459</td>\n",
       "      <td>-1.414312</td>\n",
       "      <td>-1.077579</td>\n",
       "      <td>...</td>\n",
       "      <td>-0.567887</td>\n",
       "      <td>-1.153348</td>\n",
       "      <td>-1.687476</td>\n",
       "      <td>-2.120135</td>\n",
       "      <td>-2.749106</td>\n",
       "      <td>-3.104271</td>\n",
       "      <td>-2.887420</td>\n",
       "      <td>-2.092394</td>\n",
       "      <td>-0.948180</td>\n",
       "      <td>-0.093282</td>\n",
       "    </tr>\n",
       "    <tr>\n",
       "      <th>3999</th>\n",
       "      <td>0.934977</td>\n",
       "      <td>-1.043517</td>\n",
       "      <td>-3.101998</td>\n",
       "      <td>-4.451131</td>\n",
       "      <td>-4.345560</td>\n",
       "      <td>-3.479994</td>\n",
       "      <td>-2.389902</td>\n",
       "      <td>-1.741611</td>\n",
       "      <td>-1.625488</td>\n",
       "      <td>-0.752707</td>\n",
       "      <td>...</td>\n",
       "      <td>1.224921</td>\n",
       "      <td>1.458393</td>\n",
       "      <td>1.925984</td>\n",
       "      <td>2.311960</td>\n",
       "      <td>2.350247</td>\n",
       "      <td>1.764637</td>\n",
       "      <td>0.976086</td>\n",
       "      <td>0.720245</td>\n",
       "      <td>0.972617</td>\n",
       "      <td>-0.370182</td>\n",
       "    </tr>\n",
       "    <tr>\n",
       "      <th>4309</th>\n",
       "      <td>-0.285507</td>\n",
       "      <td>-2.634141</td>\n",
       "      <td>-3.285052</td>\n",
       "      <td>-3.521007</td>\n",
       "      <td>-3.597628</td>\n",
       "      <td>-3.198364</td>\n",
       "      <td>-1.931754</td>\n",
       "      <td>-0.748992</td>\n",
       "      <td>-0.528890</td>\n",
       "      <td>-0.097141</td>\n",
       "      <td>...</td>\n",
       "      <td>0.555154</td>\n",
       "      <td>1.071516</td>\n",
       "      <td>0.820820</td>\n",
       "      <td>0.168209</td>\n",
       "      <td>-0.379457</td>\n",
       "      <td>-0.596144</td>\n",
       "      <td>-1.357643</td>\n",
       "      <td>-1.717988</td>\n",
       "      <td>0.121363</td>\n",
       "      <td>-1.250981</td>\n",
       "    </tr>\n",
       "  </tbody>\n",
       "</table>\n",
       "<p>5 rows × 140 columns</p>\n",
       "</div>"
      ],
      "text/plain": [
       "          att1      att2      att3      att4      att5      att6      att7  \\\n",
       "3966  1.063460  1.216966  0.786507  0.003885 -0.417885 -0.837808 -1.234069   \n",
       "2905  1.578867  0.450397 -1.778001 -3.218517 -4.357176 -4.968181 -3.863776   \n",
       "3130 -1.056706 -2.119346 -2.920578 -3.358865 -3.154947 -2.937275 -2.601062   \n",
       "3999  0.934977 -1.043517 -3.101998 -4.451131 -4.345560 -3.479994 -2.389902   \n",
       "4309 -0.285507 -2.634141 -3.285052 -3.521007 -3.597628 -3.198364 -1.931754   \n",
       "\n",
       "          att8      att9     att10  ...    att131    att132    att133  \\\n",
       "3966 -1.663849 -1.815020 -1.704646  ... -1.268922 -1.367334 -1.709320   \n",
       "2905 -2.157943 -1.732303 -1.162289  ...  0.089296  0.795047  1.694559   \n",
       "3130 -1.965459 -1.414312 -1.077579  ... -0.567887 -1.153348 -1.687476   \n",
       "3999 -1.741611 -1.625488 -0.752707  ...  1.224921  1.458393  1.925984   \n",
       "4309 -0.748992 -0.528890 -0.097141  ...  0.555154  1.071516  0.820820   \n",
       "\n",
       "        att134    att135    att136    att137    att138    att139    att140  \n",
       "3966 -2.019543 -2.696408 -3.036951 -3.796946 -3.943112 -4.855511 -3.851993  \n",
       "2905  1.568509  1.726298  1.702605  1.558150  0.843165  0.376877  1.122975  \n",
       "3130 -2.120135 -2.749106 -3.104271 -2.887420 -2.092394 -0.948180 -0.093282  \n",
       "3999  2.311960  2.350247  1.764637  0.976086  0.720245  0.972617 -0.370182  \n",
       "4309  0.168209 -0.379457 -0.596144 -1.357643 -1.717988  0.121363 -1.250981  \n",
       "\n",
       "[5 rows x 140 columns]"
      ]
     },
     "execution_count": 19,
     "metadata": {},
     "output_type": "execute_result"
    }
   ],
   "source": [
    "data_test.head()"
   ]
  },
  {
   "cell_type": "code",
   "execution_count": 20,
   "id": "a636f1d9-6007-4060-a862-a6193abd15ee",
   "metadata": {},
   "outputs": [
    {
     "data": {
      "image/png": "[encoded data removed]",
      "text/latex": [
       "$\\displaystyle \\left( 4000, \\  140\\right)$"
      ],
      "text/plain": [
       "(4000, 140)"
      ]
     },
     "execution_count": 20,
     "metadata": {},
     "output_type": "execute_result"
    }
   ],
   "source": [
    "data_train.shape"
   ]
  },
  {
   "cell_type": "code",
   "execution_count": 21,
   "id": "6d7baad4-f5bc-42e4-ade6-a43b6d720381",
   "metadata": {},
   "outputs": [
    {
     "data": {
      "text/html": [
       "<div>\n",
       "<style scoped>\n",
       "    .dataframe tbody tr th:only-of-type {\n",
       "        vertical-align: middle;\n",
       "    }\n",
       "\n",
       "    .dataframe tbody tr th {\n",
       "        vertical-align: top;\n",
       "    }\n",
       "\n",
       "    .dataframe thead th {\n",
       "        text-align: right;\n",
       "    }\n",
       "</style>\n",
       "<table border=\"1\" class=\"dataframe\">\n",
       "  <thead>\n",
       "    <tr style=\"text-align: right;\">\n",
       "      <th></th>\n",
       "      <th>target</th>\n",
       "    </tr>\n",
       "  </thead>\n",
       "  <tbody>\n",
       "    <tr>\n",
       "      <th>2568</th>\n",
       "      <td>2</td>\n",
       "    </tr>\n",
       "    <tr>\n",
       "      <th>1827</th>\n",
       "      <td>2</td>\n",
       "    </tr>\n",
       "    <tr>\n",
       "      <th>285</th>\n",
       "      <td>2</td>\n",
       "    </tr>\n",
       "    <tr>\n",
       "      <th>4730</th>\n",
       "      <td>1</td>\n",
       "    </tr>\n",
       "    <tr>\n",
       "      <th>4809</th>\n",
       "      <td>1</td>\n",
       "    </tr>\n",
       "  </tbody>\n",
       "</table>\n",
       "</div>"
      ],
      "text/plain": [
       "      target\n",
       "2568       2\n",
       "1827       2\n",
       "285        2\n",
       "4730       1\n",
       "4809       1"
      ]
     },
     "execution_count": 21,
     "metadata": {},
     "output_type": "execute_result"
    }
   ],
   "source": [
    "target_train.head()"
   ]
  },
  {
   "cell_type": "code",
   "execution_count": 22,
   "id": "d8f2a18a-0801-4c44-b5ef-ed5b093b054a",
   "metadata": {},
   "outputs": [
    {
     "data": {
      "image/png": "[encoded data removed]",
      "text/latex": [
       "$\\displaystyle \\left( 4000, \\  1\\right)$"
      ],
      "text/plain": [
       "(4000, 1)"
      ]
     },
     "execution_count": 22,
     "metadata": {},
     "output_type": "execute_result"
    }
   ],
   "source": [
    "target_train.shape"
   ]
  },
  {
   "cell_type": "markdown",
   "id": "dc1fa591-bcf7-49cf-b051-67fb15f106c0",
   "metadata": {},
   "source": [
    "Os dados já são normalizados"
   ]
  },
  {
   "cell_type": "code",
   "execution_count": 23,
   "id": "717dc107-c59d-42f6-acdb-36cf37788ea5",
   "metadata": {},
   "outputs": [
    {
     "name": "stdout",
     "output_type": "stream",
     "text": [
      " média: 5.5822442398703994e-12\n",
      " desvio: 0.9964230606249466\n"
     ]
    }
   ],
   "source": [
    "print(f' média: {data_train.stack().mean()}')\n",
    "print(f' desvio: {data_train.stack().std()}')"
   ]
  },
  {
   "cell_type": "markdown",
   "id": "ad87cefd-bec6-4b83-9e21-2c68e5ff4864",
   "metadata": {},
   "source": [
    "Desbalanceamento e pesos"
   ]
  },
  {
   "cell_type": "code",
   "execution_count": 24,
   "id": "a86902e4-c707-471e-9e76-17892b0c7026",
   "metadata": {},
   "outputs": [
    {
     "data": {
      "text/plain": [
       "<AxesSubplot:title={'center':'Class Count'}>"
      ]
     },
     "execution_count": 24,
     "metadata": {},
     "output_type": "execute_result"
    },
    {
     "data": {
      "image/png": "[encoded data removed]",
      "text/plain": [
       "<Figure size 1200x800 with 1 Axes>"
      ]
     },
     "metadata": {},
     "output_type": "display_data"
    }
   ],
   "source": [
    "target_train.target.value_counts().plot.barh(title= 'Class Count')"
   ]
  },
  {
   "cell_type": "code",
   "execution_count": 25,
   "id": "a1d78d41-82ad-44a4-b97f-c653da696f64",
   "metadata": {},
   "outputs": [
    {
     "name": "stdout",
     "output_type": "stream",
     "text": [
      "1    0.58375\n",
      "2    0.35350\n",
      "4    0.03875\n",
      "3    0.01925\n",
      "5    0.00475\n",
      "Name: target, dtype: float64\n"
     ]
    }
   ],
   "source": [
    "freq_rel_cls = target_train.target.value_counts(normalize= True,ascending= False)\n",
    "print(freq_rel_cls)"
   ]
  },
  {
   "cell_type": "code",
   "execution_count": 26,
   "id": "b4a5883b-989f-4627-9396-6d936401a580",
   "metadata": {},
   "outputs": [
    {
     "name": "stdout",
     "output_type": "stream",
     "text": [
      "1      1.713062\n",
      "2      2.828854\n",
      "4     25.806452\n",
      "3     51.948052\n",
      "5    210.526316\n",
      "Name: target, dtype: float64\n"
     ]
    }
   ],
   "source": [
    "pesos = 1 / freq_rel_cls\n",
    "print(pesos)"
   ]
  },
  {
   "cell_type": "code",
   "execution_count": 27,
   "id": "5297e48a-5d9d-4093-9553-d5de677b7124",
   "metadata": {},
   "outputs": [
    {
     "name": "stdout",
     "output_type": "stream",
     "text": [
      "1      1.000000\n",
      "2      1.651344\n",
      "4     15.064516\n",
      "3     30.324675\n",
      "5    122.894737\n",
      "Name: target, dtype: float64\n"
     ]
    }
   ],
   "source": [
    "pesos = pesos / pesos.min()\n",
    "print(pesos)"
   ]
  },
  {
   "cell_type": "code",
   "execution_count": 28,
   "id": "47fd8f1d-f35c-4df4-92e7-b5c36098a185",
   "metadata": {},
   "outputs": [
    {
     "data": {
      "text/plain": [
       "array([  1.        ,   1.65134371,  15.06451613,  30.32467532,\n",
       "       122.89473684])"
      ]
     },
     "execution_count": 28,
     "metadata": {},
     "output_type": "execute_result"
    }
   ],
   "source": [
    "pesos.values"
   ]
  },
  {
   "cell_type": "markdown",
   "id": "f05f2102-11d8-4ae2-8a3e-1eba7a3f60cd",
   "metadata": {},
   "source": [
    "Criando os *data loaders*"
   ]
  },
  {
   "cell_type": "code",
   "execution_count": 29,
   "id": "e07a9801-6d22-492e-b22f-db506da7af55",
   "metadata": {},
   "outputs": [],
   "source": [
    "class ECG_Data():\n",
    "    # Método mágico de inicialização: construtor - obrigatório\n",
    "    def __init__(self, X, Y, batch_size):\n",
    "        \n",
    "        # Parâmetros das séries: gerais\n",
    "        # Dados de entrada: X\n",
    "        self.X_samples = torch.from_numpy(X.astype(np.float32).to_numpy())                        # carrega torch tensor com as séries        \n",
    "        self.X_samples = self.X_samples.view(self.X_samples.shape[0], self.X_samples.shape[1],-1) # reshape para conter (batch, seqlen, n_feat ou channels) = (batch, seqlen, 1)\n",
    "\n",
    "        # Target: Y\n",
    "        self.Y_samples = torch.from_numpy(Y.astype(int).to_numpy()).squeeze().long() - 1          # carrega torch tensor com os targets = (batch, ) e dtype = dtype=torch.long [necessário para crossentropyloss - int64] [0,..,n_class-1]\n",
    "\n",
    "        # Batches\n",
    "        self.X_batches = torch.split(self.X_samples, batch_size, dim= 0)                          # divide para formar os n_batches ao longo das linhas [dim= 0]\n",
    "        self.Y_batches = torch.split(self.Y_samples, batch_size, dim= 0)                          # divide para formar os n_batches ao longo das linhas [dim= 0]\n",
    "\n",
    "        # Parâmetros\n",
    "        self.batch_size = batch_size                                                              # tamanho do batch\n",
    "        self.n_batches = len(self.X_batches)                                                      # número de batches\n",
    "        self.n_series = self.X_samples.shape[0]                                                   # o número de séries  é o número de linhas\n",
    "        self.seq_len = self.X_samples.shape[1]                                                    # o número de amostras por série é o número de colunas\n",
    "        self.n_features = self.X_samples.shape[2]                                                 # o número de features por série é o dimensão de profundidade [=1]\n",
    "        self.n_class = self.Y_samples.max() + 1                                                   # o número de classes como target\n",
    "        \n",
    "    # método mágico para comprimento -> gerador\n",
    "    def __len__(self):\n",
    "        return self.n_batches\n",
    "    \n",
    "    # método mágico para acessar um item -> gerador\n",
    "    def __getitem__(self, idx):\n",
    "        #return (self.X_samples[idx,:].view(1, -1, 1), self.Y_samples[idx,:].view(-1, 1)) # reshape para conter (batch, seqlen, n_feat ou channels) = (1, seqlen, 1)\n",
    "        return (self.X_batches[idx], self.Y_batches[idx])"
   ]
  },
  {
   "cell_type": "markdown",
   "id": "26cbfdd9-884e-4366-8cb6-62eb9fd16ae1",
   "metadata": {},
   "source": [
    "## Transformers"
   ]
  },
  {
   "cell_type": "markdown",
   "id": "f1e033d4-f2d6-4337-a2f2-373e4a86a071",
   "metadata": {},
   "source": [
    "[Transformers](https://arxiv.org/pdf/1706.03762.pdf) tem dominado o processamento de linguagem natural com aplicações migrando para o processamento de imagens e processamento de séries temporais."
   ]
  },
  {
   "cell_type": "markdown",
   "id": "9d097f41-fd1e-4365-8c72-ecf743a10503",
   "metadata": {},
   "source": [
    "<center>\n",
    "    <img src=\".\\img\\Transformers.jpeg\" width=\"400\">\n",
    "</center>"
   ]
  },
  {
   "cell_type": "markdown",
   "id": "41c80849-bd02-4162-b88e-7579dcdf99d3",
   "metadata": {},
   "source": [
    "São baseados em mecanismos de atenção *(self/cross, soft/hard)* que atuam sobre conjuntos cujos elementos são vetores não estruturados em um *grid*, ao contrário das CNN's que atuam sobre um *lattice*, *grid* ou um grafo <mark>**ordenado**</mark>."
   ]
  },
  {
   "cell_type": "markdown",
   "id": "b22027e3-b727-46c5-908d-3460541c2771",
   "metadata": {},
   "source": [
    "O mecanismo de atenção é uma memória associativa diferenciável"
   ]
  },
  {
   "cell_type": "markdown",
   "id": "a7519711-ead5-4aaf-a8fc-df18e55acb86",
   "metadata": {},
   "source": [
    "## Memória Associativa Diferenciável"
   ]
  },
  {
   "cell_type": "markdown",
   "id": "888c848c-3658-4128-a4f3-00c2d7bb708b",
   "metadata": {},
   "source": [
    "A memória associativa diferenciável (*Soft RAM - associative array hash table*) é uma tabela diferenciável com endereços e uma informação associada a este endereço (como um dicionário com *keys* e os valores) permitindo *back propagation*"
   ]
  },
  {
   "cell_type": "markdown",
   "id": "d4a9c517-c8fd-4dcd-b1e2-cbed82c11b42",
   "metadata": {},
   "source": [
    "<center>\n",
    "    <img src=\".\\img\\Soft_RAM.png\" width=\"600\">\n",
    "</center>"
   ]
  },
  {
   "cell_type": "markdown",
   "id": "d74cd21b-090d-45a4-a41b-dca463283f0f",
   "metadata": {},
   "source": [
    "Assim como em um dicionário, entra-se com um valor (*query*), que é comparado aos endereços cadastrados (*keys*) e se houve um *match* (que no caso do dicionário é exato), retorna-se o valor armazenado. Matematicamente, a medida de similaridade entre vetores normalizados é o produto interno que indica o quanto estão alinhados (*cossine distance*), portanto, onde o produto interno for máximo (*argmax - hard attention*) é o endereço onde deu-se o *match*, sendo o valor recuperado a combinação linear de todos cadastrados pela medida de similaridade entre a *query* e as *keys* (*argmax - hard attention* - somente um termo é unitário e o restante é nulo). Porém, de forma similar, pode-se pensar na versão relaxada do máximo (*softargmax - soft attention*), logo a memória associativa diferenciável pode ser representada matematicamente e pode propagar gradientes."
   ]
  },
  {
   "cell_type": "markdown",
   "id": "5ebda2be-7820-4871-94b9-2ba0e8fb35cf",
   "metadata": {},
   "source": [
    "Sejam os conjuntos dos valores, das *keys* e das *queries*, onde os conjuntos dos valores e das *keys* são conectados a partir de uma relação $SR$ (*Soft RAM*) que é a tabela que representa o mecanismo de memória:"
   ]
  },
  {
   "cell_type": "markdown",
   "id": "48c1b221-2891-49f7-a394-2314fc267f2c",
   "metadata": {},
   "source": [
    "$$V = \\left \\{ v_i \\right \\}_{i=1}^{t} = \\left \\{ v_1, v_2, \\cdots , v_t \\right \\} \\ v_i \\in \\mathbb{R}^m $$"
   ]
  },
  {
   "cell_type": "markdown",
   "id": "10052ecf-0e92-46ec-a376-05c116064c4e",
   "metadata": {},
   "source": [
    "$$K = \\left \\{ K_i \\right \\}_{i=1}^{t} = \\left \\{ k_1, k_2, \\cdots , k_t \\right \\} \\ k_i \\in \\mathbb{R}^n$$"
   ]
  },
  {
   "cell_type": "markdown",
   "id": "f982e786-259f-498f-bb63-0af19b66a737",
   "metadata": {},
   "source": [
    "$$X = \\left \\{ x_i \\right \\}_{i=1}^{t} = \\left \\{ x_1, x_2, \\cdots , x_t \\right \\} \\ x_i \\in \\mathbb{R}^n$$"
   ]
  },
  {
   "cell_type": "markdown",
   "id": "93cd6d76-ba66-410a-ac91-7b2125c7aa25",
   "metadata": {},
   "source": [
    "$$SR = \\left \\{ f :  K \\rightarrow V \\right \\}$$"
   ]
  },
  {
   "cell_type": "markdown",
   "id": "650aaa45-6e9b-40ae-b364-9888f55e8eec",
   "metadata": {},
   "source": [
    "Um conjunto é uma coleção de objetos que podem ser mensuráveis ou contáveis (interpretados como um atributo do objeto), portanto, uma sequência pode ser vista como um cunjunto onde cada objeto possua um atributo e um mecanismo de ordenação baseado neste atributo (*positional encoding/embedding*) como um contador indicando a ordem destes objetos."
   ]
  },
  {
   "cell_type": "markdown",
   "id": "0463f6ed-87e9-48cc-8322-4a0778dc1cbd",
   "metadata": {},
   "source": [
    "Apesar de não serem ordenados, podemos representar tais operações via notação indicial (i-ésimo elemento de um conjunto, porém não implica em ordem), porém ressalta-se que são invariantes à permutações"
   ]
  },
  {
   "cell_type": "markdown",
   "id": "794e9dfc-ac75-44f4-83c1-36154eaf1e65",
   "metadata": {},
   "source": [
    "$$h_j = \\sum_{i} v_i a_{ij}$$"
   ]
  },
  {
   "cell_type": "markdown",
   "id": "9045ed0c-6ad2-4d20-915c-7938fb3ce0fe",
   "metadata": {},
   "source": [
    "onde $a_{ij} \\gt 0$, $\\left \\| a_{i} \\right \\|_{0} = 1$ (*hard attention* - argmax - um único termo unitário e restantes nulos) ou $\\left \\| a_{i} \\right \\|_{1} = 1$ (*soft attention* - softargmax - soma unitária)"
   ]
  },
  {
   "cell_type": "markdown",
   "id": "a49c390c-4121-44a1-a52b-365d385051e8",
   "metadata": {},
   "source": [
    "$$a_{ij} = argmax \\left ( k_n^T x_j \\right )$$"
   ]
  },
  {
   "cell_type": "markdown",
   "id": "9e287ccc-cc9f-4a27-b2f4-f8dad0d27137",
   "metadata": {},
   "source": [
    "$$a_{ij} = \\frac{e^{k_i^T x_j}}{\\sum_n e^{k_n^T x_j}}$$"
   ]
  },
  {
   "cell_type": "markdown",
   "id": "81b1edf4-f661-4502-951c-f8d3eae46261",
   "metadata": {},
   "source": [
    "Em notação matricial"
   ]
  },
  {
   "cell_type": "markdown",
   "id": "462a427c-dcf0-4e73-844f-4c052a904895",
   "metadata": {},
   "source": [
    "$$ V =\n",
    "\\begin{bmatrix}\n",
    "    \\vert & \\vert & \\cdots & \\vert\\\\\n",
    "    v_1   & v_2   & \\cdots & v_t  \\\\\n",
    "    \\vert & \\vert & \\cdots & \\vert\n",
    "\\end{bmatrix}\n",
    "\\ \\in \\mathbb{R}^{m \\times t}\n",
    "$$"
   ]
  },
  {
   "cell_type": "markdown",
   "id": "6ef87c9e-a055-419d-9211-6091cf05185a",
   "metadata": {},
   "source": [
    "$$ A =\n",
    "\\begin{bmatrix}\n",
    "    \\vert & \\vert & \\cdots & \\vert\\\\\n",
    "    a_1   & a_2   & \\cdots & a_t  \\\\\n",
    "    \\vert & \\vert & \\cdots & \\vert\n",
    "\\end{bmatrix}\n",
    "\\ \\in \\mathbb{R}^{t \\times t}\n",
    "$$"
   ]
  },
  {
   "cell_type": "markdown",
   "id": "3f5275a2-c807-49b5-9c8c-466b9002fbf7",
   "metadata": {},
   "source": [
    "$$ K =\n",
    "\\begin{bmatrix}\n",
    "    \\vert & \\vert & \\cdots & \\vert\\\\\n",
    "    k_1   & k_2   & \\cdots & k_t  \\\\\n",
    "    \\vert & \\vert & \\cdots & \\vert\n",
    "\\end{bmatrix}\n",
    "\\ \\in \\mathbb{R}^{n \\times t}\n",
    "$$"
   ]
  },
  {
   "cell_type": "markdown",
   "id": "5353aae1-fe14-497a-a3a0-080a216bf91c",
   "metadata": {},
   "source": [
    "$$ X =\n",
    "\\begin{bmatrix}\n",
    "    \\vert & \\vert & \\cdots & \\vert\\\\\n",
    "    x_1   & x_2   & \\cdots & x_t  \\\\\n",
    "    \\vert & \\vert & \\cdots & \\vert\n",
    "\\end{bmatrix}\n",
    "\\ \\in \\mathbb{R}^{n \\times t}\n",
    "$$"
   ]
  },
  {
   "cell_type": "markdown",
   "id": "0d753704-0456-4166-90ae-90f90ad1bbdd",
   "metadata": {},
   "source": [
    "$$H = V A$$"
   ]
  },
  {
   "cell_type": "markdown",
   "id": "5c704a36-b041-4352-899e-99cb8bae74b8",
   "metadata": {},
   "source": [
    "$$A = \\sigma \\left ( K^T X \\right )$$"
   ]
  },
  {
   "cell_type": "markdown",
   "id": "de376ff4-9d36-48e0-a416-33925b1ca774",
   "metadata": {},
   "source": [
    "$$H = V \\sigma \\left ( K^T X \\right )$$"
   ]
  },
  {
   "cell_type": "markdown",
   "id": "fd63e457-e5db-4078-af9e-3fe37444b3ab",
   "metadata": {},
   "source": [
    "onde $\\sigma$ é a função *softargmax*"
   ]
  },
  {
   "cell_type": "markdown",
   "id": "7a398075-99b2-4f42-a2ba-e1dbbd4be579",
   "metadata": {},
   "source": [
    "$$\\sigma \\left (z\\right ) = \\frac{e^{z}}{\\sum_j e^{z_{j}}}$$"
   ]
  },
  {
   "cell_type": "markdown",
   "id": "02aae2c4-2701-4717-a449-bcd7e7e71dcd",
   "metadata": {},
   "source": [
    "A vantagem é que pode-se propagar gradientes pela função tabular $SR$, atualizando as *keys* e valores."
   ]
  },
  {
   "cell_type": "markdown",
   "id": "c5e5242a-c2a0-4e9e-a9ff-827c5a1e9bb4",
   "metadata": {},
   "source": [
    "Processo similar pode ser usado para selecionar e/ou combinar previsões de múltiplos agentes que escrevem os valores, p exp."
   ]
  },
  {
   "cell_type": "markdown",
   "id": "13aa72a6-fbdb-40d1-89c2-33943f6ff692",
   "metadata": {},
   "source": [
    "A matriz $ A  \\in \\mathbb{R}^{t \\times t}$ escala quadraticamente com o tamanho das séries, o que pode ser problemático para modelos muito grandes."
   ]
  },
  {
   "cell_type": "markdown",
   "id": "80f9ea8c-5ed0-4abf-97ed-4dcc1f397c24",
   "metadata": {},
   "source": [
    "**Atenção** na memória diferenciável"
   ]
  },
  {
   "cell_type": "markdown",
   "id": "6eda745f-085e-448d-ab00-60aca8835bbd",
   "metadata": {},
   "source": [
    "<mark>*Self Attention*</mark> : auto correlação - medida de alinhamento entre amostras diferentes do mesmo conjunto"
   ]
  },
  {
   "cell_type": "markdown",
   "id": "ebb81ac8-3c46-43e4-9144-09ecf52c581a",
   "metadata": {},
   "source": [
    "$$A = \\sigma \\left ( X^T X \\right ) \\ \\in \\mathbb{R}^{t \\times t}$$"
   ]
  },
  {
   "cell_type": "markdown",
   "id": "c3b99176-d68d-47ee-93c3-b4e1d6a3069c",
   "metadata": {},
   "source": [
    "<mark>*Cross Attention*</mark> : correlação cruzada - medida de alinhamento entre amostras diferentes de conjuntos diferentes"
   ]
  },
  {
   "cell_type": "markdown",
   "id": "7be9a00f-d5b3-4545-a903-78e8f40c92e0",
   "metadata": {},
   "source": [
    "$$A = \\sigma \\left ( X^T \\Xi \\right ) \\ \\in \\mathbb{R}^{t \\times t}$$"
   ]
  },
  {
   "cell_type": "markdown",
   "id": "eadb0fab-a781-4833-8097-4a6580a43b1f",
   "metadata": {},
   "source": [
    "### *Queries, Keys* e Valores no Transformer"
   ]
  },
  {
   "cell_type": "markdown",
   "id": "ff5811f1-7b4b-4c91-bc27-5e2ab35e0d3b",
   "metadata": {},
   "source": [
    "<mark>*Self Attention*</mark> "
   ]
  },
  {
   "cell_type": "markdown",
   "id": "fd5de11b-bef7-4122-a0fd-780b328cdd39",
   "metadata": {},
   "source": [
    "Na arquitetura do transformer, as *queries, keys* e valores são transformações lineares dos dados de entrada para *self attention* já que tudo é função de $x$:"
   ]
  },
  {
   "cell_type": "markdown",
   "id": "1d8ceb6c-7f18-43ab-a5af-3a1acf8aeb81",
   "metadata": {},
   "source": [
    "$$q = W_q x$$"
   ]
  },
  {
   "cell_type": "markdown",
   "id": "31d959b9-06af-4802-a439-1f13fe192576",
   "metadata": {},
   "source": [
    "$$k = W_k x$$"
   ]
  },
  {
   "cell_type": "markdown",
   "id": "4bf2835c-99d2-4040-a2e7-526e06e229fa",
   "metadata": {},
   "source": [
    "$$v = W_v x$$"
   ]
  },
  {
   "cell_type": "markdown",
   "id": "b4d3271f-3171-42e4-8102-2eaec23f09f5",
   "metadata": {},
   "source": [
    "*Queries e keys* possuem as mesmas dimensões, pois são comparadas pelo produto interno:"
   ]
  },
  {
   "cell_type": "markdown",
   "id": "676392ff-e7ac-4679-a25e-012acdad3bfb",
   "metadata": {},
   "source": [
    "$$k \\in \\mathbb{R}^{{d}'}$$"
   ]
  },
  {
   "cell_type": "markdown",
   "id": "36488d7b-59c3-4793-95ac-43c4ad31bf48",
   "metadata": {},
   "source": [
    "$$q \\in \\mathbb{R}^{{d}'}$$"
   ]
  },
  {
   "cell_type": "markdown",
   "id": "b3d09172-9b94-4e5a-95b3-355d92906f2d",
   "metadata": {},
   "source": [
    "Já o valor tem uma dimensão arbitrária que pode ser diferente - será usado $d$ em tudo por simplificidade, mas tenha em mente q podem ser diferentes"
   ]
  },
  {
   "cell_type": "markdown",
   "id": "45a8533f-0ff7-46a2-ac08-fe58af57a338",
   "metadata": {},
   "source": [
    "$$v \\in \\mathbb{R}^{{d}''}$$"
   ]
  },
  {
   "cell_type": "markdown",
   "id": "2babf0bf-95b0-4e9c-855e-37f6824ecc36",
   "metadata": {},
   "source": [
    "Matricial"
   ]
  },
  {
   "cell_type": "markdown",
   "id": "40e00a42-78b9-4716-a199-c73e7ed8390f",
   "metadata": {},
   "source": [
    "$$Q = W_q X$$"
   ]
  },
  {
   "cell_type": "markdown",
   "id": "09322f33-2a08-49f9-a4be-5fc17decf70c",
   "metadata": {},
   "source": [
    "$$K = W_k X$$"
   ]
  },
  {
   "cell_type": "markdown",
   "id": "17031c10-03b8-4234-8390-542e5f319344",
   "metadata": {},
   "source": [
    "$$V = W_v X$$"
   ]
  },
  {
   "cell_type": "markdown",
   "id": "dd1e92de-3827-43a9-be45-17c42b8729b1",
   "metadata": {},
   "source": [
    "$$ V \\in \\mathbb{R}^{d \\times t}$$"
   ]
  },
  {
   "cell_type": "markdown",
   "id": "2a7b22e7-c103-476d-a48e-6aef8ab5956d",
   "metadata": {},
   "source": [
    "$$ K \\in \\mathbb{R}^{d \\times t}$$"
   ]
  },
  {
   "cell_type": "markdown",
   "id": "4ce3c2b2-58d3-4923-8825-b7f0a341f610",
   "metadata": {},
   "source": [
    "$$ Q \\in \\mathbb{R}^{d \\times t}$$"
   ]
  },
  {
   "cell_type": "markdown",
   "id": "4e86bf04-0f6b-4fff-8b58-96ee441add71",
   "metadata": {},
   "source": [
    "A matriz com os vetores de atenção"
   ]
  },
  {
   "cell_type": "markdown",
   "id": "34709df9-955e-43c8-88e0-47e727d8b82f",
   "metadata": {},
   "source": [
    "$$A = \\sigma_{\\beta} \\left ( K^T Q \\right ) = \\sigma_{\\beta} \\left ( X^T  W_k^T W_q X \\right ) \\ \\in \\mathbb{R}^{t \\times t}$$"
   ]
  },
  {
   "cell_type": "markdown",
   "id": "c5c7b485-20ce-474b-8900-100e74ce5902",
   "metadata": {},
   "source": [
    "A temperatura inversa $\\beta^{-1} = \\sqrt{d}$ mantém a temperatura invariante com a quantidade de dimensões ($\\sqrt{d}$ é o comprimento de um vetor unitário d-dimensional - normaliza-se a norma de todos os vetores em relação a este)"
   ]
  },
  {
   "cell_type": "markdown",
   "id": "5c95a18f-2326-4825-9908-4cafc35cac13",
   "metadata": {},
   "source": [
    "$$H = V A \\in \\mathbb{R}^{d \\times t}$$"
   ]
  },
  {
   "cell_type": "markdown",
   "id": "0931cca2-1dfd-4d33-8d28-185201d08f1c",
   "metadata": {},
   "source": [
    "<mark>*Cross Attention*</mark> "
   ]
  },
  {
   "cell_type": "markdown",
   "id": "8718d242-ff0c-4e63-93bf-3e8a1b4b8f82",
   "metadata": {},
   "source": [
    "Na arquitetura do transformer, as *queries, keys* e valores são transformações lineares dos dados de entrada, mas para *cross attention* as *queries* e valores dependem de uma segunda variável:"
   ]
  },
  {
   "cell_type": "markdown",
   "id": "9423ce4e-9f15-499c-924c-634affaf9739",
   "metadata": {},
   "source": [
    "$$\\Xi = \\left \\{ \\xi_i \\right \\}_{i=1}^{\\tau} = \\left \\{ \\xi_1, \\xi_2, \\cdots , \\xi_{\\tau} \\right \\} \\ \\xi_i \\in \\mathbb{R}^{{n}'}$$"
   ]
  },
  {
   "cell_type": "markdown",
   "id": "724b7f09-5c9d-4e75-87cf-c6c0820daf86",
   "metadata": {},
   "source": [
    "$$ \\Xi =\n",
    "\\begin{bmatrix}\n",
    "    \\vert & \\vert & \\cdots & \\vert      \\\\\n",
    "    \\xi_1 & \\xi_2 & \\cdots & \\xi_{\\tau} \\\\\n",
    "    \\vert & \\vert & \\cdots & \\vert\n",
    "\\end{bmatrix}\n",
    "\\ \\in \\mathbb{R}^{{n}' \\times \\tau}\n",
    "$$"
   ]
  },
  {
   "cell_type": "markdown",
   "id": "d1a07e61-4cc3-4002-9597-3c498f12586e",
   "metadata": {},
   "source": [
    "$$q = W_q x$$"
   ]
  },
  {
   "cell_type": "markdown",
   "id": "df56572a-fe34-4acb-8091-9656bea09240",
   "metadata": {},
   "source": [
    "$$k = W_k \\xi$$"
   ]
  },
  {
   "cell_type": "markdown",
   "id": "bf07c3b9-c55c-4ffb-9d89-1d9367b21a21",
   "metadata": {},
   "source": [
    "$$v = W_v \\xi$$"
   ]
  },
  {
   "cell_type": "markdown",
   "id": "d23f86cc-a29b-4dcb-8001-1d843df9efa5",
   "metadata": {},
   "source": [
    "*Queries e keys* possuem as mesmas dimensões, pois são comparadas pelo produto interno:"
   ]
  },
  {
   "cell_type": "markdown",
   "id": "b085ab59-0327-415f-a98d-326766226369",
   "metadata": {},
   "source": [
    "$$k \\in \\mathbb{R}^{{d}'}$$"
   ]
  },
  {
   "cell_type": "markdown",
   "id": "37c90e5e-2b3f-4413-b1e8-8104927cdf49",
   "metadata": {},
   "source": [
    "$$q \\in \\mathbb{R}^{{d}'}$$"
   ]
  },
  {
   "cell_type": "markdown",
   "id": "bd4e9a16-f4dc-4a63-bc38-c44591d377b4",
   "metadata": {},
   "source": [
    "Já o valor tem uma dimensão arbitrária que pode ser diferente - será usado $d$ em tudo por simplificidade, mas tenha em mente q podem ser diferentes"
   ]
  },
  {
   "cell_type": "markdown",
   "id": "f1782a89-fe75-48bf-95b8-f718de23a683",
   "metadata": {},
   "source": [
    "$$v \\in \\mathbb{R}^{{d}''}$$"
   ]
  },
  {
   "cell_type": "markdown",
   "id": "2f71ed33-b292-4579-be86-66ae79a8bf21",
   "metadata": {},
   "source": [
    "Matricial"
   ]
  },
  {
   "cell_type": "markdown",
   "id": "4e198101-79e3-4700-bcab-b2bbf681049f",
   "metadata": {},
   "source": [
    "$$Q = W_q X$$"
   ]
  },
  {
   "cell_type": "markdown",
   "id": "ffd2741d-9568-40b5-852f-58dd5fafa010",
   "metadata": {},
   "source": [
    "$$K = W_k \\Xi$$"
   ]
  },
  {
   "cell_type": "markdown",
   "id": "ddc64f1f-e185-423a-b001-79c1bbe34642",
   "metadata": {},
   "source": [
    "$$V = W_v \\Xi$$"
   ]
  },
  {
   "cell_type": "markdown",
   "id": "8b3b8b1e-b975-4e8d-a785-f57885c57f03",
   "metadata": {},
   "source": [
    "$$ V \\in \\mathbb{R}^{d \\times \\tau}$$"
   ]
  },
  {
   "cell_type": "markdown",
   "id": "803a3559-25ad-430d-b5f7-db779b709aa4",
   "metadata": {},
   "source": [
    "$$ K \\in \\mathbb{R}^{d \\times \\tau}$$"
   ]
  },
  {
   "cell_type": "markdown",
   "id": "8dc95a69-22aa-4a90-ac02-e0d98d05a69a",
   "metadata": {},
   "source": [
    "$$ Q \\in \\mathbb{R}^{d \\times t}$$"
   ]
  },
  {
   "cell_type": "markdown",
   "id": "4f8b74f5-c8e2-41c8-abb1-3f83a23d69c4",
   "metadata": {},
   "source": [
    "A matriz com os vetores de atenção (agora pode ser assimétrica)"
   ]
  },
  {
   "cell_type": "markdown",
   "id": "83bca546-2f2a-4ca3-b6f3-792a62a00c69",
   "metadata": {},
   "source": [
    "$$A = \\sigma_{\\beta} \\left ( K^T Q \\right ) = \\sigma_{\\beta} \\left ( \\Xi^T  W_k^T W_q X \\right ) \\ \\in \\mathbb{R}^{\\tau \\times t}$$"
   ]
  },
  {
   "cell_type": "markdown",
   "id": "7ae4ce8b-e668-4df0-82bc-d98f2daa226e",
   "metadata": {},
   "source": [
    "A temperatura inversa $\\beta^{-1} = \\sqrt{d}$ mantém a temperatura invariante com a quantidade de dimensões ($\\sqrt{d}$ é o comprimento de um vetor unitário d-dimensional - normaliza-se a norma de todos os vetores em relação a este)"
   ]
  },
  {
   "cell_type": "markdown",
   "id": "39cf8523-95e8-4c7d-bc57-41e47e776597",
   "metadata": {},
   "source": [
    "$$H = V A \\in \\mathbb{R}^{d \\times t}$$"
   ]
  },
  {
   "cell_type": "markdown",
   "id": "2b5accf0-f6e3-4aa3-86f3-9039c2515666",
   "metadata": {},
   "source": [
    "<mark>Implementação *Self Attention*</mark> "
   ]
  },
  {
   "cell_type": "markdown",
   "id": "949d1ed3-eaeb-4232-a98c-877437fcb26f",
   "metadata": {},
   "source": [
    "Empilham-se as matrizes reproduzindo o caso anterior"
   ]
  },
  {
   "cell_type": "markdown",
   "id": "71bb1d7e-bcd7-4239-bf8a-c6a753e74dbc",
   "metadata": {},
   "source": [
    "$$ \n",
    "\\begin{bmatrix}\n",
    "    q \\\\\n",
    "    k \\\\\n",
    "    v \n",
    "\\end{bmatrix}\n",
    "=\n",
    "\\begin{bmatrix}\n",
    "    W_q \\\\\n",
    "    W_q \\\\\n",
    "    W_v\n",
    "\\end{bmatrix}\n",
    "x \\ \\in \\mathbb{R}^{3 d}\n",
    "$$"
   ]
  },
  {
   "cell_type": "markdown",
   "id": "4847cf89-a9dd-4816-a667-b59fb025b082",
   "metadata": {},
   "source": [
    "Porém, pode-se replicar múltiplas $h$ memórias associativas para a mesma série, formando múltiplas cabeças $h$ (*multihead attention*). O mesmo item no conjutno realiza multiplas questões (*queries*) à tabela com a memória associativa"
   ]
  },
  {
   "cell_type": "markdown",
   "id": "3df25fda-a878-4a30-a680-7d43194b728e",
   "metadata": {},
   "source": [
    "$$ \n",
    "\\begin{bmatrix}\n",
    "    q^1 \\\\\n",
    "    q^2 \\\\\n",
    "    \\vdots \\\\\n",
    "    q^h \\\\\n",
    "    \\vdots\n",
    "\\end{bmatrix}\n",
    "=\n",
    "\\begin{bmatrix}\n",
    "    W_q^1 \\\\\n",
    "    W_q^2 \\\\\n",
    "    \\vdots \\\\\n",
    "    W_q^h \\\\\n",
    "    \\vdots\n",
    "\\end{bmatrix}\n",
    "x \\ \\in \\mathbb{R}^{h d}\n",
    "$$"
   ]
  },
  {
   "cell_type": "markdown",
   "id": "559269b9-6eb8-444b-9ad6-8cd6c04421e2",
   "metadata": {},
   "source": [
    "$$ \n",
    "\\begin{bmatrix}\n",
    "    k^1 \\\\\n",
    "    k^2 \\\\\n",
    "    \\vdots \\\\\n",
    "    k^h \\\\\n",
    "    \\vdots\n",
    "\\end{bmatrix}\n",
    "=\n",
    "\\begin{bmatrix}\n",
    "    W_k^1 \\\\\n",
    "    W_k^2 \\\\\n",
    "    \\vdots \\\\\n",
    "    W_k^h \\\\\n",
    "    \\vdots\n",
    "\\end{bmatrix}\n",
    "x \\ \\in \\mathbb{R}^{h d}\n",
    "$$"
   ]
  },
  {
   "cell_type": "markdown",
   "id": "8e30166d-a045-477f-aae7-ff5a143c6d77",
   "metadata": {},
   "source": [
    "$$ \n",
    "\\begin{bmatrix}\n",
    "    v^1 \\\\\n",
    "    v^2 \\\\\n",
    "    \\vdots \\\\\n",
    "    v^h \\\\\n",
    "    \\vdots\n",
    "\\end{bmatrix}\n",
    "=\n",
    "\\begin{bmatrix}\n",
    "    W_v^1 \\\\\n",
    "    W_v^2 \\\\\n",
    "    \\vdots \\\\\n",
    "    W_v^h \\\\\n",
    "    \\vdots\n",
    "\\end{bmatrix}\n",
    "x \\ \\in \\mathbb{R}^{h d}\n",
    "$$"
   ]
  },
  {
   "cell_type": "markdown",
   "id": "1e93110f-1f9f-4594-9d96-ca01ba697a65",
   "metadata": {},
   "source": [
    "Deve-se comprimir o resultado final para $d$ dimensões com mais uma transformação linear"
   ]
  },
  {
   "cell_type": "markdown",
   "id": "5bf601ef-b1ac-4305-b918-4e70f904e78c",
   "metadata": {},
   "source": [
    "$$H = W_h V A \\in \\mathbb{R}^{d \\times t}$$"
   ]
  },
  {
   "cell_type": "markdown",
   "id": "bc78daa7-b2b5-4073-a4d1-004afeeead2d",
   "metadata": {},
   "source": [
    "$$W_h \\in \\mathbb{R}^{d \\times h d}$$"
   ]
  },
  {
   "cell_type": "markdown",
   "id": "5483aded-4d8c-4cf8-af8a-a10e7c71ddb7",
   "metadata": {},
   "source": [
    "<center>\n",
    "    <img src=\".\\img\\Transformer_Arquitetura_Multiheadselfattention.PNG\" width=\"800\">\n",
    "</center>"
   ]
  },
  {
   "cell_type": "markdown",
   "id": "a13fccbb-6fc9-451d-bbfd-fbb749428c66",
   "metadata": {},
   "source": [
    "### *Positional Encoding*"
   ]
  },
  {
   "cell_type": "markdown",
   "id": "3556d18c-1aa3-401d-92e1-30199ce38b32",
   "metadata": {},
   "source": [
    "As operações descritas até aqui lidam com conjuntos de objetos não ordenados, portanto, para lidar com sequências, deve-se acrescentar a informação da posição de cada elemento, codificando ordem em uma sequência (texto ou séries temporais, por exemplo) ou a posição e vizinhança em um grafo (malha em uma imagem, por exemplo)."
   ]
  },
  {
   "cell_type": "markdown",
   "id": "24cde56d-68b9-4bad-96fb-12a08cebe3de",
   "metadata": {},
   "source": [
    "*Positional Encoding* codifica a posição de um objeto em uma representação única. A posição em si (índices, tempo ou espaço) não é usada como *feature* por crescer sequencialmente, onde, em séries longas com posições normalizadas o primeiro e o último termo terão magnitude muito diferentes, sendo igualmente importantes, portanto a magnitude de uma posição em si não é o melhor *feature* para descrever uma posição. Além disso, sequências com comprimentos diferentes, levariam as mesmas posições normalizadas com valores diferentes, logo, é desejado que a codificação da posição leve sempre à mesma representação para a mesma posição, mesmo em sequências com comprimentos diferentes e que esta posição codificada tenha normas similares para as várias posições (diferenças entre diferentes posições sejam preservadas)."
   ]
  },
  {
   "cell_type": "markdown",
   "id": "f853142f-87e0-40dd-8590-4f7253df1d16",
   "metadata": {},
   "source": [
    "Os *Transformers* mapeiam as posições ou índices em vetores com a mesma dimensionalidade que os dados de entrada, logo, a série inteira é uma matrix com a mesma dimensionalidade e número de elementos que é somada aos dados de entrada."
   ]
  },
  {
   "cell_type": "markdown",
   "id": "106e8190-54f6-473a-9d73-dc54ff7f41c8",
   "metadata": {},
   "source": [
    "<center>\n",
    "    <img src=\".\\img\\Positional_Encoding.png\" width=\"800\">\n",
    "</center>"
   ]
  },
  {
   "cell_type": "markdown",
   "id": "49cc6694-ae70-43ba-b0e7-c09efc7da5c8",
   "metadata": {},
   "source": [
    "Numa sequência de $L$ termos, a $k$-ésima posição é codificada na $j$-ésima dimensão em um vetor de $d$ dimensões, através do mapeamento $P \\left ( k, j \\right )$:"
   ]
  },
  {
   "cell_type": "markdown",
   "id": "86452575-a65d-4cae-8d06-c12a1d5403fa",
   "metadata": {},
   "source": [
    "$$\n",
    "\\begin{align}\n",
    "  P \\left ( k, j \\right ) & := \n",
    "  \\begin{cases}\n",
    "      \\sin({\\omega_i} . k),  & \\text{if}\\  j = 2i \\\\\n",
    "      \\cos({\\omega_i} . k),  & \\text{if}\\  j = 2i + 1\n",
    "  \\end{cases}\n",
    "\\end{align} %]]>\n",
    "$$"
   ]
  },
  {
   "cell_type": "markdown",
   "id": "f450b212-ca34-463c-8a01-3246f0c48c64",
   "metadata": {},
   "source": [
    "onde"
   ]
  },
  {
   "cell_type": "markdown",
   "id": "e0d4551a-de41-49ed-b194-a9431875efeb",
   "metadata": {},
   "source": [
    "$$\\omega_i = \\frac{1}{n^{2i / d}}$$"
   ]
  },
  {
   "cell_type": "markdown",
   "id": "19ab4517-b7a9-489f-b94b-1877109868ee",
   "metadata": {},
   "source": [
    "$n$ é uma constante arbitrária ( = [10000](https://arxiv.org/pdf/1706.03762.pdf)) e $i$ ($0 \\leqslant i \\leqslant d/2$) é usado para mapear os índices das $d$ dimensões divididas em pares e ímpares."
   ]
  },
  {
   "cell_type": "markdown",
   "id": "e87ea59a-391e-4efb-8d92-56949592f01d",
   "metadata": {},
   "source": [
    "$$\\vec{p_k} = \\begin{bmatrix} \n",
    "\\sin({\\omega_1}.k)\\\\ \n",
    "\\cos({\\omega_1}.k)\\\\ \n",
    "\\\\\n",
    "\\sin({\\omega_2}.k)\\\\ \n",
    "\\cos({\\omega_2}.k)\\\\ \n",
    "\\\\\n",
    "\\vdots\\\\ \n",
    "\\\\\n",
    "\\sin({\\omega_{d/2}}.k)\\\\ \n",
    "\\cos({\\omega_{d/2}}.k) \n",
    "\\end{bmatrix}_{d \\times 1}$$"
   ]
  },
  {
   "cell_type": "markdown",
   "id": "b7660d4d-9b7e-4e16-9a64-2a567c7793a3",
   "metadata": {},
   "source": [
    "este vetor possui uma norma $L^2$ constante igual a $d/2$"
   ]
  },
  {
   "cell_type": "markdown",
   "id": "7a569544-0585-4f9c-9b69-02097f4c5e13",
   "metadata": {},
   "source": [
    "<center>\n",
    "    <img src=\".\\img\\Positional_Encoding_2.png\" width=\"800\">\n",
    "</center>"
   ]
  },
  {
   "cell_type": "markdown",
   "id": "1de10533-8620-47f5-932b-c4a1dc3f8f78",
   "metadata": {},
   "source": [
    "Este positional encoder em particular foi escolhido porque a diferença entre dois índices é representada sempre por uma transformação linear equivalente a uma [rotação](https://timodenk.com/blog/linear-relationships-in-the-transformers-positional-encoding/)"
   ]
  },
  {
   "cell_type": "markdown",
   "id": "147e152e-9288-4a1f-b124-fa9e3c8b93da",
   "metadata": {},
   "source": [
    "$$M.\\begin{bmatrix}\n",
    "\t    \\sin(\\omega_k . t) \\\\\n",
    "\t    \\cos(\\omega_k . t)\n",
    "\t\\end{bmatrix} = \\begin{bmatrix}\n",
    "\t    \\sin(\\omega_k . (t + \\phi)) \\\\\n",
    "\t    \\cos(\\omega_k . (t + \\phi))\n",
    "\t\\end{bmatrix}$$"
   ]
  },
  {
   "cell_type": "markdown",
   "id": "daf763fa-c774-44c5-8069-a4da1ee31b44",
   "metadata": {},
   "source": [
    "$$\\begin{bmatrix}\n",
    "\t    u_1 & v_1 \\\\\n",
    "\t    u_2 & v_2\n",
    "\t\\end{bmatrix} .\\begin{bmatrix}\n",
    "\t    \\sin(\\omega_k . t) \\\\\n",
    "\t    \\cos(\\omega_k . t)\n",
    "\t\\end{bmatrix} = \\begin{bmatrix}\n",
    "\t    \\sin(\\omega_k . (t + \\phi)) \\\\\n",
    "\t    \\cos(\\omega_k . (t + \\phi))\n",
    "\t\\end{bmatrix} %]]$$"
   ]
  },
  {
   "cell_type": "markdown",
   "id": "a2300037-c18b-42d0-be71-a8c65017033e",
   "metadata": {},
   "source": [
    "$$\\begin{bmatrix}\n",
    "\t    u_1 & v_1 \\\\\n",
    "\t    u_2 & v_2\n",
    "\t\\end{bmatrix} .\\begin{bmatrix}\n",
    "\t    \\sin(\\omega_k . t) \\\\\n",
    "\t    \\cos(\\omega_k . t)\n",
    "\t\\end{bmatrix} = \\begin{bmatrix}\n",
    "\t    \\sin(\\omega_k . t)\\cos(\\omega_k .\\phi) + \\cos(\\omega_k . t)\\sin(\\omega_k .\\phi) \\\\\n",
    "\t    \\cos(\\omega_k . t)\\cos(\\omega_k .\\phi) - \\sin(\\omega_k . t)\\sin(\\omega_k . \\phi)\n",
    "\t\\end{bmatrix} %]]$$"
   ]
  },
  {
   "cell_type": "markdown",
   "id": "9757fbd5-0cf5-4ba9-b67b-affd8f950527",
   "metadata": {},
   "source": [
    "$$\\small\n",
    "    \\begin{align}\n",
    "        u_1 \\sin(\\omega_k . t) + v_1 \\cos(\\omega_k . t) = & \\ \\ \\ \\ \\cos(\\omega_k .\\phi)\\sin(\\omega_k . t) + \\sin(\\omega_k .\\phi)\\cos(\\omega_k . t) \\tag{1}\\\\\n",
    "        u_2 \\sin(\\omega_k . t) + v_2 \\cos(\\omega_k . t) = & - \\sin(\\omega_k . \\phi)\\sin(\\omega_k . t) + \\cos(\\omega_k .\\phi)\\cos(\\omega_k . t) \\tag{2}\n",
    "    \\end{align} %]]$$"
   ]
  },
  {
   "cell_type": "markdown",
   "id": "75e041c9-9996-4bd4-8ed8-151d6b1f3f70",
   "metadata": {},
   "source": [
    "$$\\begin{align} \n",
    "        u_1 = \\ \\ \\ \\cos(\\omega_k .\\phi) & \\ \\ \\ v_1 = \\sin(\\omega_k .\\phi) \\\\\n",
    "        u_2 = - \\sin(\\omega_k . \\phi) &  \\ \\ \\ v_2 = \\cos(\\omega_k .\\phi)\n",
    "    \\end{align} %]]$$"
   ]
  },
  {
   "cell_type": "markdown",
   "id": "6e8aa9b1-49b7-4ada-8890-9ddf2856f2d7",
   "metadata": {},
   "source": [
    "$$M_{\\phi,k} = \\begin{bmatrix}\n",
    "        \\cos(\\omega_k .\\phi) & \\sin(\\omega_k .\\phi) \\\\\n",
    "        - \\sin(\\omega_k . \\phi) & \\cos(\\omega_k .\\phi)\n",
    "    \\end{bmatrix} %]]$$"
   ]
  },
  {
   "cell_type": "markdown",
   "id": "da7ad6ce-7175-451e-99e3-c92cf5040b28",
   "metadata": {},
   "source": [
    "*Positional Encoding* $P \\in \\mathbb{R}^{L \\times d}$ tem as mesmas dimensões dos dados de entrada, portanto podem ser somados diretamente."
   ]
  },
  {
   "cell_type": "markdown",
   "id": "c1781e22-0c1a-47fc-a4ae-c7081768056c",
   "metadata": {},
   "source": [
    "Exemplo:"
   ]
  },
  {
   "cell_type": "code",
   "execution_count": 30,
   "id": "79300991-6151-460a-9c66-49122cd2eeb1",
   "metadata": {},
   "outputs": [],
   "source": [
    "def getPositionEncoding(seq_len, d, n= 10000):\n",
    "    \n",
    "    kk, ii = np.meshgrid(np.arange(0,seq_len), np.arange(0,d), indexing= 'ij') # meshgrid com os índices\n",
    "    \n",
    "    ii_p = ii // 2                                                             # índices pares próximos\n",
    "    mask_ii_p = ((ii % 2) == 0).astype(float)                                  # máscara que indica índice pares\n",
    "    \n",
    "    denominator = np.power(n, 2*ii_p/d)                                        # denominador comum a todos os índices\n",
    "    P_p = np.sin(kk / denominator)                                             # sin nos índices pares\n",
    "    P_i = np.cos(kk / denominator)                                             # cos nos índices pares\n",
    "    \n",
    "    P = mask_ii_p * P_p + (1 - mask_ii_p) * P_i                                # combinando pares e ínpares de acordo com a máscara que indica a posição dos pares com TRUE = 1\n",
    "    \n",
    "    return P"
   ]
  },
  {
   "cell_type": "markdown",
   "id": "60016f76-4f1b-41e0-828d-19a601aa286a",
   "metadata": {},
   "source": [
    "Teste"
   ]
  },
  {
   "cell_type": "code",
   "execution_count": 31,
   "id": "cc8b8b6b-3287-4564-bec9-7597034681b0",
   "metadata": {},
   "outputs": [
    {
     "data": {
      "text/plain": [
       "array([[ 0.        ,  1.        ,  0.        ,  1.        ],\n",
       "       [ 0.84147098,  0.54030231,  0.09983342,  0.99500417],\n",
       "       [ 0.90929743, -0.41614684,  0.19866933,  0.98006658],\n",
       "       [ 0.14112001, -0.9899925 ,  0.29552021,  0.95533649],\n",
       "       [-0.7568025 , -0.65364362,  0.38941834,  0.92106099]])"
      ]
     },
     "execution_count": 31,
     "metadata": {},
     "output_type": "execute_result"
    }
   ],
   "source": [
    "P = getPositionEncoding(seq_len= 5, d= 4, n= 100)\n",
    "P"
   ]
  },
  {
   "cell_type": "markdown",
   "id": "13efc3f8-2b8b-43e1-a958-fe4309befa7d",
   "metadata": {},
   "source": [
    "Vizualiza"
   ]
  },
  {
   "cell_type": "code",
   "execution_count": 32,
   "id": "d29d64f0-a766-4990-81e1-8dca4b11bfaa",
   "metadata": {},
   "outputs": [
    {
     "data": {
      "text/plain": [
       "<matplotlib.colorbar.Colorbar at 0x2412f027e50>"
      ]
     },
     "execution_count": 32,
     "metadata": {},
     "output_type": "execute_result"
    },
    {
     "data": {
      "image/png": "[encoded data removed]",
      "text/plain": [
       "<Figure size 1600x312.5 with 2 Axes>"
      ]
     },
     "metadata": {},
     "output_type": "display_data"
    }
   ],
   "source": [
    "P = getPositionEncoding(seq_len=100, d=512, n=10000)\n",
    "cax = plt.matshow(P)\n",
    "plt.gcf().colorbar(cax)"
   ]
  },
  {
   "cell_type": "markdown",
   "id": "21a42316-271a-4602-973d-f5c16d028467",
   "metadata": {},
   "source": [
    "Uma outra abordagem é aprender uma representação treinável para o *Positional Encoding* $P \\in \\mathbb{R}^{L \\times d}$ "
   ]
  },
  {
   "cell_type": "markdown",
   "id": "db9b3afd-86d0-44ea-9c22-6d19622b3538",
   "metadata": {},
   "source": [
    "### Arquitetura do Transformer"
   ]
  },
  {
   "cell_type": "markdown",
   "id": "43cc5330-dd0b-46cf-be79-121235c9669c",
   "metadata": {},
   "source": [
    "Arquitetura total do transformer"
   ]
  },
  {
   "cell_type": "markdown",
   "id": "5027c220-2f20-41e4-b75e-ecd49fbaf443",
   "metadata": {},
   "source": [
    "<center>\n",
    "    <img src=\".\\img\\Transformer_Arquitetura.PNG\" width=\"800\">\n",
    "</center>"
   ]
  },
  {
   "cell_type": "markdown",
   "id": "9c1efc15-c7a9-4f16-8dbd-1a766b7f06e3",
   "metadata": {},
   "source": [
    "Arquitetura do *encoder*"
   ]
  },
  {
   "cell_type": "markdown",
   "id": "119daab5-b6bc-49b1-af30-dbaef7172edd",
   "metadata": {},
   "source": [
    "<center>\n",
    "    <img src=\".\\img\\Transformer_Arquitetura_Encoder.PNG\" width=\"800\">\n",
    "</center>"
   ]
  },
  {
   "cell_type": "markdown",
   "id": "f8dffd68-206d-4a83-bd59-6c2a474e1280",
   "metadata": {},
   "source": [
    "A camada fundamental do encoder é formada por conexões residuais normalizadas (RESNET) com um módulo de *self attention* seguida por um módulo com uma convolução 1D com *kernel* unitário (MLP com *broadcasting* é uma CNN 1d com *kernel* unitário) "
   ]
  },
  {
   "cell_type": "markdown",
   "id": "e552722b-0b13-467c-a22b-e153f40ca01d",
   "metadata": {},
   "source": [
    "Arquitetura do *decoder*"
   ]
  },
  {
   "cell_type": "markdown",
   "id": "2087492f-cdd3-49c1-80c7-274e933c30dc",
   "metadata": {},
   "source": [
    "<center>\n",
    "    <img src=\".\\img\\Transformer_Arquitetura_Decoder.PNG\" width=\"800\">\n",
    "</center>"
   ]
  },
  {
   "cell_type": "markdown",
   "id": "a0b54e14-79c4-45b3-af0c-c354c07eedfc",
   "metadata": {},
   "source": [
    "O *decoder* é similar ao *encoder* exceto pela *cross attention*."
   ]
  },
  {
   "cell_type": "markdown",
   "id": "abc51935-efe6-433b-ac1a-c38293d772c2",
   "metadata": {},
   "source": [
    "## Modelos"
   ]
  },
  {
   "cell_type": "markdown",
   "id": "19a453e4-a629-40b1-84d6-131557c1946c",
   "metadata": {},
   "source": [
    "Classe *Multi Head Attention*"
   ]
  },
  {
   "cell_type": "code",
   "execution_count": 33,
   "id": "ff8f8dd3-4466-46bd-9eb3-b84a7b9a628b",
   "metadata": {},
   "outputs": [],
   "source": [
    "class MultiHeadAttention(nn.Module):\n",
    "    # Método mágico de inicialização: construtor - obrigatório\n",
    "    def __init__(self, d_data_x, d_data_y, n_heads, d_qk, d_v, d_h):        \n",
    "        # Método mágico de inicialização: constructor da classe base (herança) - obrigatório\n",
    "        super().__init__()\n",
    "\n",
    "        # Parâmetros:\n",
    "        self.d_data_x = d_data_x   # dimensão dos vetores dos dados de entrada x\n",
    "        self.d_data_y = d_data_y   # dimensão dos vetores dos dados de entrada y       [x = y e d_data_y = d_data_x - self attention]\n",
    "        self.d_qk     = d_qk       # dimensão dos vetores das keys e queries da tabela [d_k = d_q - produto interno]\n",
    "        self.d_v      = d_v        # dimensão dos vetores das valores da tabela\n",
    "        self.n_heads  = n_heads    # número de cabeças\n",
    "        self.d_h      = d_h        # dimensão dos vetores de saída\n",
    "        \n",
    "        # Transformações lineares concatenadas para todas as cabeças\n",
    "        self.W_q = nn.Linear(self.d_data_x,           self.d_qk * self.n_heads, bias= False)     # dado de entrada x -> queries \n",
    "        self.W_k = nn.Linear(self.d_data_y,           self.d_qk * self.n_heads, bias= False)     # dado de entrada y -> keys\n",
    "        self.W_v = nn.Linear(self.d_data_y,           self.d_v * self.n_heads,  bias= False)     # dado de entrada y -> valores\n",
    "        self.W_h = nn.Linear(self.n_heads * self.d_v, self.d_h,                 bias= False)     # valores -> saída\n",
    "        \n",
    "    def scaled_dot_product_attention(self, Q, K, V, mask= None):\n",
    "        \"\"\"\n",
    "        Formato dos dados de entrada: Q: (bs, n_heads, q_len = x_len, d_qk), K: (bs, n_heads, k_len = y_len, d_qk), V: (bs, n_heads, k_len = y_len, d_v), mask: (q_len = x_len, k_len = y_len)\n",
    "        \"\"\"\n",
    "        \n",
    "        Q = Q / (self.d_qk**0.5)                             # (bs, n_heads, q_len = x_len, d_qk) - normaliza pela dimensão do vetor de dados para não saturar a softargmax\n",
    "        scores = torch.matmul(Q, K.transpose(2,3))           # (bs, n_heads, q_length, k_length) = (bs, n_heads, q_len = x_len, d_qk) x (bs, n_heads, k_len = y_len, d_qk)^T(2,3) \n",
    "        \n",
    "        # máscara - opcional\n",
    "        if mask is not None: scores.masked_fill_(mask, -1e9) # eps = -1e9\n",
    "        \n",
    "        A = nn.Softmax(dim= -1)(scores)                      # (bs, n_heads, q_length, k_length) - softargmax em k_length, para a combinação linear dos k_length valores na tabela que gerarão q_length resultados (1 por consulta - query)\n",
    "        H = torch.matmul(A, V)                               # (bs, n_heads, q_length, d_v) = (bs, n_heads, q_length, k_length) x (bs, n_heads, k_len = y_len, d_v) - combinação linear dos valores em V\n",
    "\n",
    "        return H, A \n",
    "\n",
    "    def split_heads(self, x):\n",
    "        \"\"\"\n",
    "        Separa as cabeças acumuladas na última dimensão em uma dimensão específica: (bs, seq_length, d_qk * n_heads) -> (bs, n_heads, seq_length, d_qk)\n",
    "        \"\"\"\n",
    "        return x.view(x.size(0), -1, self.n_heads, self.d_qk).transpose(1, 2)\n",
    "\n",
    "    def group_heads(self, x):\n",
    "        \"\"\"\n",
    "        Reagrupa novamente todas as cabeças na última dimensão: (bs, n_heads, seq_length, d) -> (bs, seq_length, d * n_heads)\n",
    "        \"\"\"\n",
    "        return x.transpose(1, 2).contiguous().view(x.size(0), -1, self.n_heads * self.d_qk) # Tensor.contiguous -> Returns a contiguous in memory tensor containing the same data as self tensor. If self tensor is already in the specified memory format, this function returns the self tensor.\n",
    "    \n",
    "    def forward(self, X_q, X_k, X_v, mask= None):\n",
    "               \n",
    "        # Transformações lineares com cabeças concatenadas\n",
    "        Q = self.W_q(X_q)                                       # (bs, q_length, d_data_x) -> (bs, q_length, d_qk * n_heads)\n",
    "        K = self.W_k(X_k)                                       # (bs, k_length, d_data_y) -> (bs, k_length, d_qk * n_heads)\n",
    "        V = self.W_v(X_v)                                       # (bs, k_length, d_data_y) -> (bs, k_length, d_v * n_heads)\n",
    "            \n",
    "        # Separa as cabeças em uma dimensão específica\n",
    "        Q = self.split_heads(Q)                                 # (bs, q_length, d_qk * n_heads) -> (bs, n_heads, q_length, d_qk)\n",
    "        K = self.split_heads(K)                                 # (bs, k_length, d_qk * n_heads) -> (bs, n_heads, k_length, d_qk)\n",
    "        V = self.split_heads(V)                                 # (bs, k_length, d_v * n_heads) ->  (bs, n_heads, v_length, d_v)\n",
    "        \n",
    "        # Calcula atenção e as combinações lineares dos valores para cada cabeça\n",
    "        H, A = self.scaled_dot_product_attention(Q, K, V, mask) # (bs, n_heads, q_length, d_qk), (bs, n_heads, k_length, d_qk), (bs, n_heads, v_length, d_v) -> (bs, n_heads, q_length, d_v), (bs, n_heads, q_length, k_length)\n",
    "        \n",
    "        # Reagrupa novamente todas as cabeças na última dimensão - precede a transformação linear\n",
    "        H = self.group_heads(H)                                 # (bs, n_heads, q_length, d_v) -> (bs, q_length, n_heads * d_v)\n",
    "        \n",
    "        # Transformação linear com as cabeças concatenadas\n",
    "        H = self.W_h(H)                                         # (bs, q_length, n_heads * d_v) -> (bs, q_length, d_h)\n",
    "        \n",
    "        return H, A"
   ]
  },
  {
   "cell_type": "markdown",
   "id": "879b9db5-006d-4a06-ab3c-7b27a0e22787",
   "metadata": {},
   "source": [
    "Classe com a convolução 1D linear com *kernel size* unitário - MLP + ReLu"
   ]
  },
  {
   "cell_type": "code",
   "execution_count": 34,
   "id": "df1d91e5-5b7b-4870-87d4-e80aee4fd797",
   "metadata": {},
   "outputs": [],
   "source": [
    "class CNN(nn.Module):\n",
    "    # Método mágico de inicialização: construtor - obrigatório\n",
    "    def __init__(self, d_h, hidden_dim):\n",
    "        # Método mágico de inicialização: constructor da classe base (herança) - obrigatório\n",
    "        super().__init__()\n",
    "        \n",
    "        # Parâmetros da rede:\n",
    "        self.d_h = d_h\n",
    "        self.hidden_dim = hidden_dim\n",
    "        \n",
    "        # Camadas da rede neural atribuídos como parâmetros a partir de uma subclasse do Module\n",
    "        self.k1convL1 = nn.Linear(self.d_h, self.hidden_dim)\n",
    "        self.activation = nn.ReLU()\n",
    "        self.k1convL2 = nn.Linear(self.hidden_dim, self.d_h) # tem q ser d_h (== d_x em self att) pois a conexão residual força que as dimensões sejam iguais\n",
    "\n",
    "    def forward(self, x):\n",
    "        \n",
    "        x = self.k1convL1(x)   # (bs, q_length, d_h) -> (bs, q_length, hidden_dim) [broadcasting]\n",
    "        x = self.activation(x) # (bs, q_length, hidden_dim) -> (bs, q_length, hidden_dim) [broadcasting]\n",
    "        x = self.k1convL2(x)   # (bs, q_length, hidden_dim) -> (bs, q_length, d_h) [broadcasting]\n",
    "        \n",
    "        return x"
   ]
  },
  {
   "cell_type": "markdown",
   "id": "ca8ae331-382d-4735-914b-a980458e2cb6",
   "metadata": {},
   "source": [
    "Classe com a camada do *Encoder*"
   ]
  },
  {
   "cell_type": "code",
   "execution_count": 35,
   "id": "17709860-49ac-4102-a5d7-cf6375df082b",
   "metadata": {},
   "outputs": [],
   "source": [
    "class EncoderLayer(nn.Module):\n",
    "    # Método mágico de inicialização: construtor - obrigatório\n",
    "    def __init__(self, d_data_x, num_heads, conv_hidden_dim, dropout= 0):\n",
    "        # Método mágico de inicialização: constructor da classe base (herança) - obrigatório\n",
    "        super().__init__()\n",
    "\n",
    "        # Parâmetros da rede:\n",
    "        self.d_data_x = d_data_x\n",
    "        self.num_heads = num_heads\n",
    "        self.conv_hidden_dim = conv_hidden_dim\n",
    "        self.dropout_p = dropout\n",
    "        \n",
    "        # Camadas da rede neural atribuídos como parâmetros a partir de uma subclasse do Module\n",
    "        self.mha = MultiHeadAttention(self.d_data_x, self.d_data_x, self.num_heads, self.d_data_x, self.d_data_x, self.d_data_x) # MultiHeadAttention(d_data_x, d_data_y, n_heads, d_qk, d_v, d_h) - d_data_x = d_data_y (self attention) e d_qk = d_v = d_h = d_data_x (dimensão do modelo igual a de entrada)\n",
    "        self.dropout_att = nn.Dropout(self.dropout_p)                                                                             # dropout atenção\n",
    "        self.layernorm1 = nn.LayerNorm(normalized_shape= self.d_data_x, eps= 1e-6)                                                # nn.LayerNorm(normalized_shape= d_h, eps= 1e-6) d_h = d_data_x (dimensão do modelo)\n",
    "        self.cnn = CNN(self.d_data_x, self.conv_hidden_dim)                                                                       # CNN(d_h, hidden_dim)\n",
    "        self.layernorm2 = nn.LayerNorm(normalized_shape= self.d_data_x, eps= 1e-6)                                                # nn.LayerNorm(normalized_shape= d_h, eps= 1e-6) d_h = d_data_x (dimensão do modelo)\n",
    "        self.dropout_cnn = nn.Dropout(self.dropout_p)                                                                             # dropout cnn\n",
    "        \n",
    "    def forward(self, x, mask= None):\n",
    "        \n",
    "        # Multi-head attention - self attention -> tudo x's\n",
    "        h, _ = self.mha(x, x, x, mask)                        # (bs, q_length, d_data_x) -> (bs, q_length, d_data_x)\n",
    "        \n",
    "        # Dropout antes das conexões residuais - atenção\n",
    "        h = self.dropout_att(h)                               # (bs, q_length, d_data_x) -> (bs, q_length, d_data_x)\n",
    "        \n",
    "        # Layer norm após adicionar a conexão residual\n",
    "        out1 = self.layernorm1(x + h)                         # (bs, q_length, d_data_x) -> (bs, q_length, d_data_x) [a conexão residual força que as dimensões de h e x sejam iguais]\n",
    "        \n",
    "        # Feed forward \n",
    "        cnn_output = self.cnn(out1)                           # (bs, q_length, d_data_x) -> (bs, q_length, d_data_x)\n",
    "\n",
    "        # Dropout antes das conexões residuais - cnn\n",
    "        cnn_output = self.dropout_cnn(cnn_output)             # (bs, q_length, d_data_x) -> (bs, q_length, d_data_x)\n",
    "        \n",
    "        # Second Layer norm após adicionar a conexão residual\n",
    "        out2 = self.layernorm2(out1 + cnn_output)             # (bs, q_length, d_data_x) -> (bs, q_length, d_data_x)\n",
    "\n",
    "        return out2"
   ]
  },
  {
   "cell_type": "markdown",
   "id": "895775c6-2a30-42eb-b1a5-70afdf760fd3",
   "metadata": {},
   "source": [
    "Classe do Encoder"
   ]
  },
  {
   "cell_type": "code",
   "execution_count": 36,
   "id": "88bdc0c7-f742-45df-b43f-39d34e113a35",
   "metadata": {},
   "outputs": [],
   "source": [
    "class Encoder(nn.Module):\n",
    "    # Método mágico de inicialização: construtor - obrigatório    \n",
    "    def __init__(self, num_layers, d_data_x, num_heads, conv_hidden_dim, dropout= 0):\n",
    "        # Método mágico de inicialização: constructor da classe base (herança) - obrigatório\n",
    "        super().__init__()\n",
    "        \n",
    "        # Parâmetros da rede:\n",
    "        self.d_data_x = d_data_x\n",
    "        self.num_heads = num_heads\n",
    "        self.conv_hidden_dim = conv_hidden_dim\n",
    "        self.dropout_p = dropout\n",
    "        self.num_layers = num_layers\n",
    "        \n",
    "        # Camadas da rede neural atribuídos como parâmetros a partir de uma subclasse do Module\n",
    "        self.layers = nn.ModuleList() # lista de camadas concatenadas\n",
    "        for _ in range(self.num_layers):\n",
    "            self.layers.append(EncoderLayer(self.d_data_x, self.num_heads, self.conv_hidden_dim, self.dropout_p))\n",
    "        \n",
    "    def forward(self, x, mask= None):\n",
    "\n",
    "        for i in range(self.num_layers):\n",
    "            x = self.layers[i](x, mask)   # (bs, q_length, d_data_x) -> (bs, q_length, d_data_x)\n",
    "\n",
    "        return x                          # (bs, q_length, d_data_x)"
   ]
  },
  {
   "cell_type": "markdown",
   "id": "e2136a46-4982-4465-bb76-b7796d79b022",
   "metadata": {},
   "source": [
    "Versão no *Pytorch* do *Positional Encoder*"
   ]
  },
  {
   "cell_type": "code",
   "execution_count": 37,
   "id": "e4ae0be9-6483-4243-a09d-4cbf64d0448c",
   "metadata": {},
   "outputs": [],
   "source": [
    "def positionEncoding(seq_len, d, n= 10000):\n",
    "\n",
    "    # Um context manager é usado para disabilitar o cálculo do gradiente, já que os gradientes não são necessários aqui.\n",
    "    with torch.no_grad():\n",
    "        \n",
    "        kk, ii = torch.meshgrid(torch.arange(0, seq_len, device= device), torch.arange(0, d, device= device), indexing= 'ij') # meshgrid com os índices\n",
    "\n",
    "        ii_p = torch.div(ii, 2, rounding_mode= 'floor')                                     # índices pares próximos: ii_p = ii // 2\n",
    "        mask_ii_p = ((ii % 2) == 0).float()                                                 # máscara que indica índice pares\n",
    "\n",
    "        denominator = torch.pow(n, 2*ii_p/d)                                                # denominador comum a todos os índices\n",
    "        P_p = torch.sin(kk / denominator)                                                   # sin nos índices pares\n",
    "        P_i = torch.cos(kk / denominator)                                                   # cos nos índices pares\n",
    "\n",
    "        P = mask_ii_p * P_p + (1 - mask_ii_p) * P_i                                         # combinando pares e ínpares de acordo com a máscara que indica a posição dos pares com TRUE = 1\n",
    "    \n",
    "    return P                                                                                # (q_length, d_data_x)"
   ]
  },
  {
   "cell_type": "markdown",
   "id": "d75de852-775a-4a40-8887-3dc5efb2db7f",
   "metadata": {},
   "source": [
    "Teste"
   ]
  },
  {
   "cell_type": "code",
   "execution_count": 38,
   "id": "841001f9-0b72-4168-b4a2-8da686e65e4d",
   "metadata": {},
   "outputs": [
    {
     "data": {
      "text/plain": [
       "tensor([[ 0.0000,  1.0000,  0.0000,  1.0000],\n",
       "        [ 0.8415,  0.5403,  0.0998,  0.9950],\n",
       "        [ 0.9093, -0.4161,  0.1987,  0.9801],\n",
       "        [ 0.1411, -0.9900,  0.2955,  0.9553],\n",
       "        [-0.7568, -0.6536,  0.3894,  0.9211]], device='cuda:0')"
      ]
     },
     "execution_count": 38,
     "metadata": {},
     "output_type": "execute_result"
    }
   ],
   "source": [
    "P = positionEncoding(seq_len= 5, d= 4, n= 100)\n",
    "P"
   ]
  },
  {
   "cell_type": "markdown",
   "id": "2bcfc2c8-8d48-41bb-9d5f-8895a60554c0",
   "metadata": {},
   "source": [
    "Vizualiza"
   ]
  },
  {
   "cell_type": "code",
   "execution_count": 39,
   "id": "cfa74a7e-7578-4df9-a008-1c29458d29d0",
   "metadata": {},
   "outputs": [
    {
     "data": {
      "text/plain": [
       "<matplotlib.colorbar.Colorbar at 0x2412f0cbbe0>"
      ]
     },
     "execution_count": 39,
     "metadata": {},
     "output_type": "execute_result"
    },
    {
     "data": {
      "image/png": "[encoded data removed]",
      "text/plain": [
       "<Figure size 1600x312.5 with 2 Axes>"
      ]
     },
     "metadata": {},
     "output_type": "display_data"
    }
   ],
   "source": [
    "P = positionEncoding(seq_len= 100, d= 512, n= 10000)\n",
    "cax = plt.matshow(P.detach().cpu().numpy())\n",
    "plt.gcf().colorbar(cax)"
   ]
  },
  {
   "cell_type": "markdown",
   "id": "1c94b4f8-bc0a-448c-bc48-d3adb8ff35f8",
   "metadata": {},
   "source": [
    "Classe com o classificador"
   ]
  },
  {
   "cell_type": "code",
   "execution_count": 40,
   "id": "47c245db-8a4a-4f10-84a2-a17bf6c0bcfc",
   "metadata": {},
   "outputs": [],
   "source": [
    "class TimeSeriesTransformerClassifier(nn.Module):\n",
    "    # Método mágico de inicialização: construtor - obrigatório \n",
    "    def __init__(self, q_len, d_data_f, num_layers, d_data_x, num_heads, conv_hidden_dim, n_class, enc_pos_train= False, dropout= 0):\n",
    "        # Método mágico de inicialização: constructor da classe base (herança) - obrigatório        \n",
    "        super().__init__()\n",
    "\n",
    "        # Parâmetros da rede:\n",
    "        self.q_len = q_len\n",
    "        self.d_data_f = d_data_f\n",
    "        self.num_layers = num_layers\n",
    "        self.d_data_x = d_data_x\n",
    "        self.num_heads = num_heads\n",
    "        self.conv_hidden_dim = conv_hidden_dim\n",
    "        self.dropout_p = dropout\n",
    "        self.n_class = n_class\n",
    "        \n",
    "        # Camadas da rede neural atribuídos como parâmetros a partir de uma subclasse do Module\n",
    "        self.W_P = nn.Linear(self.d_data_f, self.d_data_x)                                                           # projeção dos features das séries de entrada nas dimensões do modelo\n",
    "        self.dropout = nn.Dropout(self.dropout_p)                                                                    # dropout\n",
    "        self.encoder = Encoder(self.num_layers, self.d_data_x, self.num_heads, self.conv_hidden_dim, self.dropout_p) # encoder\n",
    "        self.output_layer = nn.Linear(self.q_len * self.d_data_x, self.n_class)                                      # projeção dos features do modelo nos logits das classes\n",
    "\n",
    "        # Positional encoding\n",
    "        if enc_pos_train: # treinável\n",
    "            \n",
    "            # Inicializa random\n",
    "            W_pos = torch.empty((self.q_len, self.d_data_x), device= device)  # inicializa tensor vazio\n",
    "            nn.init.uniform_(W_pos, -0.02, 0.02)                              # amostra distribuição uniforme gravando amostras em tensor\n",
    "\n",
    "            ## Inicializa default\n",
    "            #W_pos = positionEncoding(self.q_len, self.d_data_x, n= 10000)    # n= 10000 - default [Attention is all you need]\n",
    "            \n",
    "            self.W_pos = nn.Parameter(W_pos, requires_grad= True)             # tensor treinável que é um parâmetro de nn.Module\n",
    "        \n",
    "        else:             # não treinável - clássico [Attention is all you need]\n",
    "            \n",
    "            W_pos = positionEncoding(self.q_len, self.d_data_x, n= 10000)     # n= 10000 - default [Attention is all you need]\n",
    "\n",
    "            self.W_pos = nn.Parameter(W_pos, requires_grad= False)            # tensor não treinável que é um parâmetro de nn.Module\n",
    "    \n",
    "    def forward(self, x, mask= None):\n",
    "\n",
    "        # projeção dos features das séries de entrada nas dimensões do modelo\n",
    "        x =  self.W_P(x)                                              # (bs, q_length, d_data_f) -> (bs, q_length, d_data_x)\n",
    "\n",
    "        # Positional encoding\n",
    "        x = self.dropout(x + self.W_pos)                              # (bs, q_length, d_data_x) -> (bs, q_length, d_data_x)\n",
    "        \n",
    "        # Encoder\n",
    "        x = self.encoder(x, mask)                                     # (bs, q_length, d_data_x) -> (bs, q_length, d_data_x)\n",
    "\n",
    "        # logits\n",
    "        x = self.output_layer(x.view(-1, self.q_len * self.d_data_x)) # (bs, q_length, d_data_x) -> (bs, n_class)\n",
    "        \n",
    "        return x                                                      # (bs, n_class)"
   ]
  },
  {
   "cell_type": "markdown",
   "id": "7b6cd883-a9c2-42eb-8c12-c12e84f265a9",
   "metadata": {},
   "source": [
    "Teste"
   ]
  },
  {
   "cell_type": "code",
   "execution_count": 41,
   "id": "4bfdb7dc-7ced-4a2a-9b63-888d21dfb85f",
   "metadata": {},
   "outputs": [],
   "source": [
    "# Parâmetros:\n",
    "batch_size = 32\n",
    "\n",
    "# Dados\n",
    "data_train_loader = ECG_Data(data_train, target_train, batch_size)\n",
    "data_test_loader = ECG_Data(data_test, target_test, batch_size)\n",
    "\n",
    "n_batches = data_train_loader.n_batches\n",
    "seq_len = data_train_loader.seq_len\n",
    "n_features = data_train_loader.n_features\n",
    "n_class = data_train_loader.n_class"
   ]
  },
  {
   "cell_type": "code",
   "execution_count": 42,
   "id": "53d9c0cb-b729-4391-bf16-8e02c923a248",
   "metadata": {},
   "outputs": [
    {
     "data": {
      "text/plain": [
       "torch.Size([32, 140, 1])"
      ]
     },
     "execution_count": 42,
     "metadata": {},
     "output_type": "execute_result"
    }
   ],
   "source": [
    "data_test_loader[0][0].shape"
   ]
  },
  {
   "cell_type": "code",
   "execution_count": 43,
   "id": "43547606-7754-4893-b00d-567911d506d3",
   "metadata": {},
   "outputs": [
    {
     "data": {
      "text/plain": [
       "torch.Size([32])"
      ]
     },
     "execution_count": 43,
     "metadata": {},
     "output_type": "execute_result"
    }
   ],
   "source": [
    "data_test_loader[0][1].shape"
   ]
  },
  {
   "cell_type": "markdown",
   "id": "a0a99b29-671c-46bc-b49a-60a053f8e7df",
   "metadata": {},
   "source": [
    "*Positional Encoder* clássico"
   ]
  },
  {
   "cell_type": "code",
   "execution_count": 44,
   "id": "cc934728-7a42-4f0f-9ff6-92783bb6b0f9",
   "metadata": {},
   "outputs": [],
   "source": [
    "model = TimeSeriesTransformerClassifier(seq_len, n_features, 1, 16, 2, 128, n_class, False, 0.1).to(device)"
   ]
  },
  {
   "cell_type": "code",
   "execution_count": 45,
   "id": "a5cee1f5-48c7-4237-a13d-37ceb3679e9d",
   "metadata": {},
   "outputs": [
    {
     "data": {
      "text/plain": [
       "TimeSeriesTransformerClassifier(\n",
       "  (W_P): Linear(in_features=1, out_features=16, bias=True)\n",
       "  (dropout): Dropout(p=0.1, inplace=False)\n",
       "  (encoder): Encoder(\n",
       "    (layers): ModuleList(\n",
       "      (0): EncoderLayer(\n",
       "        (mha): MultiHeadAttention(\n",
       "          (W_q): Linear(in_features=16, out_features=32, bias=False)\n",
       "          (W_k): Linear(in_features=16, out_features=32, bias=False)\n",
       "          (W_v): Linear(in_features=16, out_features=32, bias=False)\n",
       "          (W_h): Linear(in_features=32, out_features=16, bias=False)\n",
       "        )\n",
       "        (dropout_att): Dropout(p=0.1, inplace=False)\n",
       "        (layernorm1): LayerNorm((16,), eps=1e-06, elementwise_affine=True)\n",
       "        (cnn): CNN(\n",
       "          (k1convL1): Linear(in_features=16, out_features=128, bias=True)\n",
       "          (activation): ReLU()\n",
       "          (k1convL2): Linear(in_features=128, out_features=16, bias=True)\n",
       "        )\n",
       "        (layernorm2): LayerNorm((16,), eps=1e-06, elementwise_affine=True)\n",
       "        (dropout_cnn): Dropout(p=0.1, inplace=False)\n",
       "      )\n",
       "    )\n",
       "  )\n",
       "  (output_layer): Linear(in_features=2240, out_features=5, bias=True)\n",
       ")"
      ]
     },
     "execution_count": 45,
     "metadata": {},
     "output_type": "execute_result"
    }
   ],
   "source": [
    "model"
   ]
  },
  {
   "cell_type": "code",
   "execution_count": 46,
   "id": "e2948c50-dc2e-4d54-a2a4-5781c46a3ad9",
   "metadata": {},
   "outputs": [
    {
     "data": {
      "text/plain": [
       "torch.Size([32, 5])"
      ]
     },
     "execution_count": 46,
     "metadata": {},
     "output_type": "execute_result"
    }
   ],
   "source": [
    "model(data_test_loader[0][0].to(device)).shape"
   ]
  },
  {
   "cell_type": "markdown",
   "id": "0091d9ea-89d6-4b07-8b74-e00a123114df",
   "metadata": {},
   "source": [
    "Pesos do *Positional Encoder* não devem ser listados"
   ]
  },
  {
   "cell_type": "code",
   "execution_count": 47,
   "id": "cbc9da7c-f2e5-4c99-8ce7-5a157d443471",
   "metadata": {},
   "outputs": [
    {
     "name": "stdout",
     "output_type": "stream",
     "text": [
      "W_P.weight tensor([[ 0.7645],\n",
      "        [ 0.8300],\n",
      "        [-0.2343],\n",
      "        [ 0.9186],\n",
      "        [-0.2191],\n",
      "        [ 0.2018],\n",
      "        [-0.4869],\n",
      "        [ 0.5873],\n",
      "        [ 0.8815],\n",
      "        [-0.7336],\n",
      "        [ 0.8692],\n",
      "        [ 0.1872],\n",
      "        [ 0.7388],\n",
      "        [ 0.1354],\n",
      "        [ 0.4822],\n",
      "        [-0.1412]], device='cuda:0')\n",
      "W_P.bias tensor([ 0.7709,  0.1478, -0.4668,  0.2549, -0.4607, -0.1173, -0.4062,  0.6634,\n",
      "        -0.7894, -0.4610, -0.2824, -0.6013,  0.0944, -0.9877,  0.9031, -0.8495],\n",
      "       device='cuda:0')\n",
      "encoder.layers.0.mha.W_q.weight tensor([[ 0.1930,  0.0416, -0.0812,  0.1545,  0.0390,  0.2020,  0.0273, -0.0788,\n",
      "          0.0672, -0.0678,  0.1052,  0.2232,  0.1445, -0.1093,  0.1443,  0.0447],\n",
      "        [ 0.1270, -0.1524, -0.2475, -0.0966, -0.1918,  0.2051,  0.0720,  0.1036,\n",
      "          0.0791, -0.0043,  0.1957, -0.1776,  0.0157, -0.1706,  0.0771, -0.0861],\n",
      "        [ 0.0766, -0.0521,  0.2073, -0.1482, -0.1491, -0.1491,  0.2249,  0.0833,\n",
      "          0.2406, -0.2063, -0.2480, -0.1956, -0.1682,  0.1013,  0.0895,  0.2077],\n",
      "        [-0.1291, -0.1704,  0.1326, -0.1011,  0.1517, -0.0593,  0.1430, -0.1942,\n",
      "         -0.1262,  0.0762,  0.0529, -0.0637,  0.1490,  0.1700, -0.1813, -0.1335],\n",
      "        [ 0.2289, -0.0844, -0.0886, -0.2419, -0.1432,  0.0625, -0.0330, -0.1815,\n",
      "          0.0059, -0.1708, -0.2121, -0.1377, -0.2188, -0.1592,  0.2499,  0.0472],\n",
      "        [ 0.0770, -0.2332, -0.1642, -0.0832,  0.0391, -0.2200, -0.1077, -0.1497,\n",
      "          0.0007, -0.0930, -0.0173, -0.1694, -0.1716, -0.1459, -0.0856, -0.1973],\n",
      "        [ 0.2096, -0.0496,  0.2151,  0.0779, -0.2117,  0.1730, -0.0688, -0.0958,\n",
      "         -0.2075, -0.2485,  0.0715, -0.0546,  0.0973, -0.2052,  0.1856, -0.1835],\n",
      "        [-0.0432,  0.0522,  0.1291,  0.2018,  0.2277, -0.1982,  0.0629, -0.1075,\n",
      "         -0.0274, -0.1871,  0.2277, -0.1835,  0.1336,  0.0879,  0.0812, -0.1352],\n",
      "        [ 0.2272,  0.0549,  0.0322, -0.2203,  0.1049, -0.0375, -0.1145,  0.2147,\n",
      "          0.0557, -0.1383, -0.1265, -0.0119,  0.1396, -0.0639, -0.1426, -0.0856],\n",
      "        [-0.1868,  0.0892,  0.1935, -0.2354,  0.0581,  0.1291,  0.0453, -0.0890,\n",
      "          0.1305,  0.1314,  0.0935, -0.0439, -0.0662,  0.0267, -0.0442, -0.0745],\n",
      "        [ 0.1598,  0.2148, -0.0247, -0.0560,  0.0036, -0.0149,  0.0601,  0.0701,\n",
      "         -0.2271, -0.0923,  0.2105,  0.0974, -0.0124, -0.1507, -0.1530, -0.2239],\n",
      "        [-0.0815,  0.0844,  0.1594,  0.1154, -0.2210, -0.1503, -0.0395,  0.2418,\n",
      "          0.0362, -0.0647,  0.1034, -0.0952, -0.1618,  0.1825, -0.1137, -0.0501],\n",
      "        [-0.2487,  0.1673,  0.1894,  0.0911, -0.1743, -0.2467, -0.2030,  0.1864,\n",
      "          0.1200,  0.2104,  0.1310,  0.0633, -0.0024, -0.1901, -0.2142, -0.2338],\n",
      "        [ 0.1023, -0.1227, -0.0503, -0.1439, -0.0456, -0.1760, -0.1634,  0.0829,\n",
      "         -0.0743,  0.1543, -0.0802, -0.1834, -0.0441, -0.1212, -0.0765, -0.2380],\n",
      "        [ 0.1399, -0.1741,  0.1257,  0.1134,  0.1786, -0.1918,  0.1798, -0.1182,\n",
      "          0.0928,  0.2348, -0.0353, -0.0019, -0.0576, -0.2087,  0.1200, -0.2482],\n",
      "        [ 0.1552,  0.1871,  0.2364, -0.0590, -0.2054,  0.0562,  0.1381, -0.2488,\n",
      "         -0.0567, -0.1499, -0.0219, -0.1231, -0.1022, -0.0794, -0.2376,  0.2051],\n",
      "        [ 0.2096, -0.0392, -0.0285, -0.1020, -0.2258, -0.2433,  0.0929, -0.1373,\n",
      "         -0.1607, -0.0195, -0.0833, -0.0809,  0.0080, -0.0530, -0.0861, -0.1197],\n",
      "        [-0.2035,  0.2096, -0.1000,  0.0662, -0.0867,  0.0203,  0.2331,  0.1152,\n",
      "         -0.2166,  0.0992,  0.2373,  0.0658,  0.1676,  0.2465, -0.0383,  0.0519],\n",
      "        [-0.1738, -0.0515,  0.1851,  0.1282, -0.1582, -0.2005, -0.1708, -0.2467,\n",
      "         -0.1929, -0.0618,  0.1687,  0.0418, -0.1902, -0.2006,  0.1244, -0.1860],\n",
      "        [-0.0308,  0.1199, -0.1157, -0.0273, -0.0218, -0.0591, -0.1268, -0.2229,\n",
      "         -0.2021, -0.1339,  0.2415, -0.1208, -0.1679,  0.0606,  0.0689,  0.1370],\n",
      "        [ 0.1900,  0.1392, -0.2479,  0.0222,  0.1514, -0.0231, -0.1473,  0.2383,\n",
      "         -0.0935, -0.1423, -0.2254,  0.0112,  0.1108,  0.0553,  0.0494, -0.1896],\n",
      "        [-0.2335,  0.0044,  0.2280,  0.1442, -0.1456, -0.0325, -0.1843, -0.1206,\n",
      "          0.0453,  0.1361,  0.2071, -0.2295,  0.1672, -0.1763,  0.0936,  0.2116],\n",
      "        [ 0.0035,  0.2275, -0.2130, -0.0955,  0.1458, -0.0545, -0.0512, -0.1042,\n",
      "          0.1723,  0.1226,  0.0801, -0.1405, -0.2029,  0.0270,  0.0741, -0.1154],\n",
      "        [-0.0699,  0.1688,  0.0199,  0.0113, -0.0615, -0.2264, -0.2351, -0.1195,\n",
      "         -0.1271,  0.0779, -0.0728, -0.0978,  0.2384,  0.0871,  0.1782, -0.1210],\n",
      "        [-0.1021,  0.0919, -0.1666, -0.1634, -0.0121, -0.0914, -0.1874,  0.1483,\n",
      "          0.2010,  0.0406, -0.0435, -0.2316, -0.0911,  0.0636,  0.1179, -0.0316],\n",
      "        [-0.0988,  0.1393, -0.1991,  0.1580, -0.0970,  0.0038, -0.0494,  0.0303,\n",
      "         -0.0755,  0.1818, -0.0065,  0.1951,  0.2404, -0.1218, -0.1824,  0.2006],\n",
      "        [ 0.1959, -0.1909, -0.0193, -0.2465, -0.2046,  0.0483,  0.0665,  0.0530,\n",
      "         -0.0680,  0.2306,  0.0357, -0.1475, -0.0142,  0.0600,  0.0875, -0.1768],\n",
      "        [ 0.0937, -0.1277, -0.2077, -0.1366,  0.2411,  0.2137,  0.2239,  0.1468,\n",
      "          0.1889, -0.0335, -0.1376,  0.1249, -0.1295, -0.1687, -0.0798,  0.0525],\n",
      "        [ 0.1287, -0.0971, -0.1471,  0.0337, -0.1474, -0.1628,  0.1303, -0.0420,\n",
      "          0.2284,  0.2432,  0.0748,  0.0860,  0.0576,  0.0039, -0.0182,  0.0034],\n",
      "        [ 0.0934,  0.2324, -0.0648, -0.1057, -0.0605, -0.1208,  0.0425,  0.1866,\n",
      "          0.1955,  0.1148, -0.1840, -0.1342, -0.0549, -0.0461,  0.0206, -0.2295],\n",
      "        [ 0.0778, -0.1907, -0.1582, -0.2078,  0.2178, -0.2367,  0.1886, -0.0084,\n",
      "         -0.0291,  0.1564, -0.0231,  0.1568,  0.1808, -0.2171,  0.0962,  0.0472],\n",
      "        [ 0.0538,  0.0365,  0.0684, -0.1203, -0.0320,  0.2375,  0.1680, -0.0094,\n",
      "         -0.2351,  0.0110, -0.1702,  0.2033, -0.1518, -0.0181, -0.0555,  0.0445]],\n",
      "       device='cuda:0')\n",
      "encoder.layers.0.mha.W_k.weight tensor([[ 2.3526e-01,  2.3755e-02,  1.4479e-01,  1.9406e-01,  2.0183e-01,\n",
      "         -8.6338e-02, -5.5914e-02,  1.2048e-01, -6.8217e-02,  1.1707e-01,\n",
      "         -5.4617e-02, -1.6956e-01,  1.0176e-01,  3.8330e-02,  1.1146e-01,\n",
      "          2.4837e-01],\n",
      "        [ 1.7068e-01,  2.3700e-01,  1.3381e-02, -2.1505e-01, -1.7538e-01,\n",
      "         -1.5529e-01, -2.2031e-01, -1.2531e-01, -2.3014e-01, -2.3065e-01,\n",
      "         -1.4939e-01, -2.4646e-01, -1.5345e-01,  9.5327e-02,  2.0851e-01,\n",
      "         -7.4366e-02],\n",
      "        [-7.2720e-02,  1.3349e-01, -1.2334e-01, -1.1821e-01,  1.5403e-01,\n",
      "         -2.1783e-01,  3.0569e-02,  2.2085e-01,  4.2872e-02,  6.7986e-02,\n",
      "         -1.4560e-01, -3.4491e-03,  1.3746e-02,  6.1359e-02,  9.7136e-02,\n",
      "          2.1723e-01],\n",
      "        [-1.9082e-01,  7.4938e-03, -1.2491e-01, -1.9777e-01, -2.0019e-02,\n",
      "         -2.2006e-01,  1.7447e-01,  2.8954e-02, -1.3474e-01,  1.3064e-01,\n",
      "         -2.3661e-01, -9.6700e-02, -4.8705e-02, -2.1244e-01, -1.5897e-01,\n",
      "         -4.0805e-02],\n",
      "        [ 1.8969e-01,  2.4141e-01,  1.5907e-01, -1.4928e-01, -1.6356e-01,\n",
      "          2.1817e-01,  8.8429e-02,  6.6419e-03,  3.3833e-02, -2.0092e-01,\n",
      "         -8.3471e-02,  2.4065e-01, -6.1658e-02, -1.2541e-02, -2.0758e-01,\n",
      "         -1.3985e-01],\n",
      "        [-5.1049e-03, -1.5529e-01, -3.1002e-02,  1.0174e-01, -2.4454e-01,\n",
      "          7.4253e-02, -1.6530e-01, -1.2201e-01,  9.5977e-02,  1.9878e-01,\n",
      "         -6.8327e-02, -1.0264e-01, -2.2606e-01, -1.2891e-01, -2.1891e-01,\n",
      "         -5.7218e-02],\n",
      "        [ 5.1014e-02, -2.3422e-01,  2.1828e-01,  1.5685e-01, -2.4474e-01,\n",
      "         -1.1941e-01,  8.1539e-02, -5.1365e-02, -2.7244e-02, -1.1288e-01,\n",
      "          2.0080e-01, -1.3975e-01,  2.0732e-01,  1.6131e-02,  5.0255e-02,\n",
      "          1.9503e-01],\n",
      "        [-4.1191e-02, -1.4234e-01, -4.0434e-02,  2.0276e-01, -1.8550e-01,\n",
      "          5.6745e-02, -2.4570e-01,  1.3108e-01,  9.2367e-02,  1.0598e-02,\n",
      "          1.0730e-01,  2.8118e-04,  1.3834e-01, -1.9791e-01, -3.6713e-02,\n",
      "          1.1090e-01],\n",
      "        [ 2.4895e-01,  1.2735e-01, -1.8179e-01,  1.9227e-01, -5.5750e-02,\n",
      "         -5.3379e-02, -2.2723e-01, -3.9354e-02,  1.7683e-01,  3.4861e-02,\n",
      "         -1.4561e-01,  7.6953e-02, -8.0161e-02,  2.2825e-01, -2.1699e-01,\n",
      "         -7.8969e-02],\n",
      "        [-2.4139e-01, -9.8458e-02,  7.8812e-02,  2.4065e-01,  4.1987e-02,\n",
      "          2.4509e-01,  4.8913e-02,  1.4438e-01,  2.0042e-01,  2.0898e-01,\n",
      "         -1.3993e-01,  2.2985e-01,  1.5144e-01, -1.1689e-01, -1.1930e-01,\n",
      "         -2.0969e-01],\n",
      "        [ 6.2784e-02, -2.0264e-01,  1.0561e-01,  7.8949e-02, -2.1720e-01,\n",
      "          6.8125e-02, -2.0333e-02,  1.1420e-01,  1.4345e-01, -2.4854e-01,\n",
      "          2.2927e-01,  2.0966e-01,  9.9471e-02, -2.2849e-01, -8.9305e-02,\n",
      "         -7.2452e-02],\n",
      "        [-6.4249e-02,  1.4098e-01,  9.0893e-02,  1.9804e-01, -9.3631e-02,\n",
      "          8.4135e-02,  8.8949e-02, -2.0815e-01, -2.4250e-01, -1.2972e-01,\n",
      "          1.7114e-01, -2.3536e-01, -2.1761e-01,  1.4005e-01,  1.3488e-01,\n",
      "          2.0560e-01],\n",
      "        [-1.8873e-01, -1.8297e-01,  1.2825e-01,  2.1741e-01,  1.4958e-01,\n",
      "          3.9163e-02,  8.2394e-02,  2.3728e-01, -1.6130e-01, -1.1350e-01,\n",
      "          1.7487e-01, -1.7106e-01, -1.3785e-01,  1.8250e-01,  7.8881e-02,\n",
      "          8.0768e-02],\n",
      "        [-1.0596e-01, -3.4501e-03,  2.2881e-01, -1.5006e-01,  1.9656e-03,\n",
      "          1.1890e-01, -1.7259e-01,  2.4279e-01, -1.2490e-01, -6.0034e-02,\n",
      "         -6.7643e-02, -1.6291e-01, -2.4532e-01,  1.4096e-01,  6.6419e-02,\n",
      "         -2.3415e-01],\n",
      "        [-1.6091e-01,  2.4709e-01,  9.5559e-02,  1.0031e-01, -1.4957e-01,\n",
      "         -1.0960e-01, -3.7739e-02, -4.5720e-02, -1.7131e-01,  2.0596e-02,\n",
      "          2.4847e-02, -3.1655e-02,  3.4658e-02, -9.9088e-02,  6.5063e-02,\n",
      "          9.4285e-02],\n",
      "        [-1.3168e-01, -2.4789e-01,  1.3086e-01,  5.9634e-02, -1.2715e-01,\n",
      "          2.4093e-01, -1.1306e-01,  1.6894e-01,  1.2683e-01, -2.0960e-01,\n",
      "          1.6124e-01, -2.2987e-01, -1.3850e-01, -4.1679e-02, -1.6851e-01,\n",
      "          2.4423e-01],\n",
      "        [-5.0145e-02,  9.9297e-02, -2.2323e-01,  1.4392e-01, -7.7696e-02,\n",
      "         -1.9017e-01,  3.6556e-02,  1.2112e-01,  2.1635e-01, -1.5270e-01,\n",
      "         -1.2303e-01,  4.8066e-02,  6.7815e-02,  9.6118e-02,  1.3722e-01,\n",
      "         -5.6688e-02],\n",
      "        [ 1.3889e-01,  1.8432e-01, -6.5305e-02,  1.7786e-01,  1.2214e-01,\n",
      "          2.2051e-01, -1.4207e-01, -1.2345e-01, -7.2285e-02,  1.2682e-02,\n",
      "          1.5005e-01, -1.4272e-01,  1.2516e-01, -8.9595e-02,  1.5103e-01,\n",
      "         -1.1869e-02],\n",
      "        [-2.1902e-01, -1.3756e-01, -1.8094e-01,  1.2399e-01, -1.6764e-01,\n",
      "         -2.0830e-02,  5.3939e-02, -1.3710e-01,  7.2118e-02, -2.4411e-01,\n",
      "         -1.7888e-01, -2.2653e-01, -7.5619e-02, -9.1074e-02,  3.5798e-02,\n",
      "         -4.6229e-02],\n",
      "        [ 1.1752e-01,  2.2920e-01,  8.9698e-02, -9.8492e-02, -2.3410e-01,\n",
      "          9.0550e-02, -1.2386e-01,  1.2722e-01,  1.6712e-01,  9.6430e-02,\n",
      "          2.3458e-01,  2.3745e-01,  5.2935e-02, -1.8216e-01,  2.2336e-01,\n",
      "         -1.1862e-01],\n",
      "        [-1.1809e-01,  2.0919e-01,  1.9370e-01,  7.5538e-02,  1.5671e-02,\n",
      "         -2.1029e-01, -2.5951e-02,  2.3978e-01,  6.3665e-02,  2.1405e-02,\n",
      "         -5.1913e-02, -8.7196e-02,  1.4901e-01,  1.5417e-02,  1.6264e-01,\n",
      "         -4.4250e-02],\n",
      "        [ 1.0923e-01,  1.0319e-01,  3.9866e-02,  1.5709e-01,  1.5666e-01,\n",
      "          2.3173e-01,  1.9219e-01, -6.3924e-02, -2.1166e-01,  4.5704e-02,\n",
      "         -2.1821e-03, -6.5206e-02, -4.1864e-02,  1.1758e-02,  1.8241e-01,\n",
      "          7.7935e-02],\n",
      "        [-8.8774e-02, -1.0281e-01, -6.1908e-02, -9.6626e-02,  2.2481e-01,\n",
      "          1.3241e-01,  2.2574e-01,  7.9840e-04,  5.0418e-02,  8.6691e-02,\n",
      "         -2.3664e-01,  2.2324e-02, -1.6723e-02, -1.4016e-01, -1.9399e-01,\n",
      "          2.2132e-01],\n",
      "        [ 2.0327e-01,  1.1587e-01,  2.3856e-01, -1.0145e-01, -4.3181e-02,\n",
      "          9.4655e-02, -4.1307e-02, -4.9059e-02, -2.0664e-01,  6.7165e-02,\n",
      "         -1.5108e-01,  9.0916e-03,  2.4374e-01, -7.6954e-02, -7.8798e-02,\n",
      "          1.5083e-01],\n",
      "        [-9.1913e-02, -2.1469e-02,  2.3343e-01, -1.0249e-01, -1.7885e-01,\n",
      "         -1.3991e-01, -6.9311e-02, -1.1862e-01, -1.2973e-01,  1.0099e-01,\n",
      "          4.2484e-02, -8.0015e-02, -1.9423e-01, -7.8715e-02, -1.0551e-01,\n",
      "         -8.1355e-02],\n",
      "        [-2.2553e-01,  5.3857e-02, -1.8368e-01, -1.9470e-01, -2.0426e-01,\n",
      "          1.0435e-01, -1.5051e-01, -1.0319e-01,  1.9596e-01,  1.3274e-01,\n",
      "          1.4335e-01, -2.3738e-01, -1.7927e-01, -9.4378e-02,  2.0652e-01,\n",
      "          2.5575e-02],\n",
      "        [-1.8697e-01,  1.5655e-03, -1.9417e-01, -5.4775e-02, -6.8744e-02,\n",
      "          2.1642e-01,  7.7434e-02, -4.3593e-02,  4.2232e-02, -7.2166e-02,\n",
      "          9.8225e-02,  9.8891e-02,  6.7137e-02, -9.7444e-02,  2.1329e-01,\n",
      "         -3.6092e-02],\n",
      "        [-9.7329e-02,  1.5658e-01,  2.0376e-01,  2.4879e-01,  7.4065e-02,\n",
      "         -8.5223e-02,  1.2697e-01,  2.1449e-01, -2.4521e-01, -3.0972e-02,\n",
      "         -1.7049e-01,  4.6590e-02,  1.0340e-01, -5.1647e-02, -2.0914e-02,\n",
      "          1.1253e-01],\n",
      "        [-4.2017e-02, -2.0994e-01,  2.0003e-01, -1.2583e-01, -2.7465e-02,\n",
      "          2.3582e-02, -1.5024e-02, -2.3517e-01,  1.1470e-01, -1.1356e-01,\n",
      "         -1.2966e-01,  5.9729e-02, -1.3047e-01, -1.1554e-01, -8.4237e-02,\n",
      "         -9.3919e-02],\n",
      "        [-1.0441e-01, -6.7421e-02,  6.4969e-02, -2.0230e-01, -1.5132e-01,\n",
      "          3.6479e-03,  3.4767e-02,  1.3807e-01, -1.7561e-01,  7.9799e-02,\n",
      "          1.4210e-01,  1.3882e-01, -2.3286e-01, -9.5401e-02, -2.1489e-01,\n",
      "         -1.5820e-01],\n",
      "        [ 1.3925e-01, -3.7330e-02,  1.0618e-01, -1.4675e-01,  3.7990e-02,\n",
      "         -1.5121e-01,  1.2497e-01, -1.0934e-01, -6.2690e-02, -2.1691e-01,\n",
      "          8.2588e-04,  2.3737e-01,  1.2134e-01, -1.3339e-01,  3.3622e-03,\n",
      "         -2.7412e-02],\n",
      "        [-2.0127e-01,  1.9602e-01,  4.0302e-03,  5.2649e-02, -1.0096e-01,\n",
      "         -1.1698e-01,  4.1222e-02,  9.2428e-02,  5.6075e-02, -1.2049e-01,\n",
      "          2.4272e-01, -3.6801e-02, -1.5310e-01, -1.1693e-01,  2.4611e-01,\n",
      "          1.2040e-05]], device='cuda:0')\n",
      "encoder.layers.0.mha.W_v.weight tensor([[-3.3936e-02, -1.0404e-01, -6.5536e-02, -2.1056e-01, -1.9867e-01,\n",
      "          1.4632e-01,  2.1386e-01,  2.3858e-01, -1.8049e-01,  1.3522e-01,\n",
      "         -1.5474e-01,  1.4914e-01,  1.8039e-01,  1.9347e-01,  1.8001e-01,\n",
      "          1.5639e-01],\n",
      "        [ 4.8659e-03,  1.1487e-01, -8.9443e-02,  1.0886e-01, -8.0350e-02,\n",
      "         -4.1978e-03, -2.1759e-01, -6.5369e-02, -1.3147e-01, -8.4330e-02,\n",
      "         -1.5965e-01, -2.2486e-01,  1.6279e-02,  1.6224e-01,  2.2769e-01,\n",
      "          1.4589e-01],\n",
      "        [-1.2958e-01, -2.4725e-01,  9.4828e-02,  1.4008e-01, -2.1463e-01,\n",
      "          8.9647e-02,  2.1137e-01,  1.5144e-02, -1.5061e-01,  2.0497e-01,\n",
      "          1.0675e-01,  1.6555e-01, -1.6907e-01,  1.4549e-01, -1.7077e-01,\n",
      "          2.4737e-01],\n",
      "        [-1.0592e-01,  1.5064e-01,  5.0060e-02,  6.6253e-02, -3.8339e-02,\n",
      "          1.0268e-01, -1.0419e-01, -2.3564e-01, -9.6051e-02,  1.9588e-01,\n",
      "         -6.5817e-02,  7.8580e-02, -9.2432e-02,  1.8754e-01,  1.4962e-01,\n",
      "          8.8253e-02],\n",
      "        [-1.2779e-01, -2.0428e-01,  9.4123e-03, -1.4666e-01,  2.0555e-01,\n",
      "         -2.4024e-01,  1.1172e-01,  2.4923e-01,  1.2521e-01,  8.5245e-02,\n",
      "         -2.4054e-01,  2.4047e-01, -4.2762e-02, -2.3360e-01,  2.4679e-01,\n",
      "         -1.0173e-01],\n",
      "        [-1.7687e-02,  2.2882e-01, -1.7330e-01, -1.7687e-01,  4.0654e-02,\n",
      "         -3.3463e-02,  5.7585e-02, -2.0968e-01,  7.4767e-03, -1.1119e-01,\n",
      "         -1.2290e-01, -2.2891e-01,  1.3255e-01,  4.8159e-02, -2.1136e-01,\n",
      "          1.9839e-01],\n",
      "        [ 7.5405e-02,  4.6391e-02, -1.4678e-01,  3.7701e-02,  2.4089e-01,\n",
      "          1.7147e-01, -1.9472e-01,  2.2821e-01,  1.9377e-02,  1.2024e-01,\n",
      "          1.9417e-01,  2.1313e-01, -1.9488e-01,  2.1892e-01, -1.6979e-01,\n",
      "          1.8742e-02],\n",
      "        [-1.7469e-01, -5.4808e-02, -1.1361e-02, -2.9909e-02, -3.9494e-02,\n",
      "          1.9718e-02,  2.4660e-01,  1.4525e-01,  1.3987e-01,  1.0006e-01,\n",
      "          1.9355e-01, -1.1537e-02,  1.9878e-02,  5.1449e-02, -2.1803e-01,\n",
      "         -2.0139e-01],\n",
      "        [ 3.0650e-02, -9.7813e-02, -4.5874e-03, -5.7365e-02,  3.8916e-02,\n",
      "          1.6265e-01, -8.2910e-02,  2.0022e-01,  1.9739e-01, -1.9187e-01,\n",
      "         -1.9306e-01, -2.0227e-01, -1.3701e-01, -9.7319e-02, -1.8817e-02,\n",
      "         -6.0798e-02],\n",
      "        [-1.2631e-01, -7.9423e-02, -9.0436e-02,  2.4526e-01, -9.2657e-02,\n",
      "         -1.7900e-01,  1.0392e-01, -1.4440e-02,  1.9139e-01,  1.5621e-01,\n",
      "          2.2968e-01, -1.8309e-01,  1.6072e-01,  2.0981e-01, -1.2346e-01,\n",
      "          2.2979e-01],\n",
      "        [ 1.8741e-01,  2.7378e-03,  1.2054e-01, -8.7405e-02, -2.1805e-01,\n",
      "          6.3195e-02,  7.4531e-02, -1.6339e-01,  1.2125e-01, -2.1356e-01,\n",
      "          2.1516e-01,  2.4210e-01,  6.8065e-02, -1.5686e-01,  1.2167e-01,\n",
      "          4.2604e-02],\n",
      "        [ 6.7980e-02,  8.2163e-02,  1.9034e-01, -1.0746e-01, -5.6236e-02,\n",
      "          6.8176e-02,  2.7240e-02,  2.0159e-01, -1.3131e-01, -9.1042e-03,\n",
      "          4.6713e-02, -6.6397e-02,  1.7043e-01,  2.7345e-02, -2.3106e-01,\n",
      "         -2.7084e-02],\n",
      "        [-1.1339e-01,  2.4293e-02, -2.9054e-02, -2.4798e-01, -4.5556e-02,\n",
      "         -2.3945e-02, -7.3720e-02,  2.2970e-01, -5.4550e-02,  1.6060e-01,\n",
      "          6.1929e-02, -2.1103e-01,  5.8747e-02,  2.0718e-01, -1.6353e-01,\n",
      "         -1.6159e-01],\n",
      "        [ 2.4471e-01,  2.0088e-01, -1.3947e-01,  1.5044e-01, -3.1983e-02,\n",
      "         -2.4648e-01,  1.8783e-02,  8.0774e-02, -7.4990e-02,  8.6971e-02,\n",
      "         -2.1378e-01,  1.7325e-01,  2.1313e-01,  1.3787e-01,  4.2373e-02,\n",
      "          8.2337e-02],\n",
      "        [-1.8089e-01, -6.2468e-02, -2.3867e-02, -1.3912e-01, -1.8466e-01,\n",
      "          1.6815e-01,  1.6966e-01, -2.2705e-01,  7.9553e-02,  1.0170e-01,\n",
      "          2.3749e-01,  1.4464e-01,  2.2983e-01, -8.1847e-02,  1.7510e-01,\n",
      "          2.0335e-01],\n",
      "        [-2.3608e-01, -2.0068e-01,  5.0601e-02,  1.3651e-01, -1.2420e-01,\n",
      "          2.7534e-02, -3.6293e-04,  6.3277e-02, -1.3434e-01,  1.4101e-01,\n",
      "          1.6625e-01, -1.7346e-01,  2.4219e-03,  6.9365e-04,  8.0279e-02,\n",
      "          2.3290e-01],\n",
      "        [ 7.3316e-02, -5.6805e-02,  2.2453e-01, -9.5133e-02, -7.2593e-02,\n",
      "          1.7069e-02, -1.9038e-01,  2.7204e-02, -1.6962e-01,  2.5705e-02,\n",
      "          2.3952e-02,  3.4605e-02, -2.1082e-01, -2.3745e-01,  1.1503e-01,\n",
      "          2.1440e-01],\n",
      "        [-2.2184e-01,  9.2599e-02, -1.8403e-01,  1.5673e-02,  2.3259e-01,\n",
      "          1.8965e-01, -1.8278e-01,  1.5464e-01,  1.3058e-01, -3.8347e-04,\n",
      "          2.4218e-01, -9.9294e-02, -5.8179e-02, -1.2635e-01,  3.5974e-02,\n",
      "          6.6197e-02],\n",
      "        [ 1.9920e-02, -1.4066e-01, -1.1254e-01,  8.5038e-02, -2.1921e-01,\n",
      "         -3.8934e-02, -5.5379e-03, -1.0129e-01,  9.0980e-02,  1.6113e-02,\n",
      "          1.7552e-01, -2.2203e-02, -1.5778e-01,  1.7664e-01,  3.4912e-02,\n",
      "         -7.1600e-02],\n",
      "        [-1.6478e-01,  5.8597e-02, -2.3844e-01,  6.5844e-02,  1.2361e-01,\n",
      "         -2.1930e-01, -1.6367e-01, -1.7973e-01,  2.1013e-01,  2.1253e-01,\n",
      "          1.5650e-02,  2.3470e-01, -8.3576e-02, -2.4271e-01,  8.7324e-02,\n",
      "          8.8567e-02],\n",
      "        [ 2.4510e-01, -7.2360e-05,  1.9160e-01,  1.5324e-01,  1.8094e-01,\n",
      "         -2.4808e-01,  2.0586e-01, -2.1311e-01,  2.2413e-01, -1.0360e-02,\n",
      "         -2.2155e-01,  6.9523e-02, -5.0887e-02, -2.2455e-01, -9.0635e-02,\n",
      "          2.5776e-02],\n",
      "        [ 1.9471e-01, -7.6857e-02,  1.4849e-01,  3.1307e-02,  8.4270e-03,\n",
      "          4.7836e-02, -1.6407e-01, -2.0780e-01, -7.8553e-02, -2.3296e-01,\n",
      "         -1.1659e-01,  1.1501e-02, -1.6465e-01, -1.0370e-01, -4.4922e-02,\n",
      "         -2.8801e-02],\n",
      "        [-1.3800e-01,  1.2013e-02, -3.5090e-02,  7.1499e-02,  1.1292e-02,\n",
      "         -1.2484e-01, -8.6071e-02, -2.8814e-03, -1.5600e-01,  1.9571e-02,\n",
      "         -1.7651e-02,  9.6995e-02,  5.9166e-02,  1.8710e-01, -8.2414e-03,\n",
      "         -1.8473e-01],\n",
      "        [ 1.1175e-01, -1.6896e-01, -3.4363e-02, -8.0951e-02, -9.4861e-02,\n",
      "         -9.2496e-02,  2.2973e-01,  1.4311e-01,  6.9284e-02,  2.3474e-01,\n",
      "         -2.2656e-01,  4.0342e-02,  1.6004e-01,  1.6607e-01, -1.9896e-01,\n",
      "          8.8972e-02],\n",
      "        [-1.4242e-01, -9.7685e-03, -5.2168e-02, -2.0874e-01, -2.3848e-01,\n",
      "         -1.6447e-01,  1.1344e-01,  1.1436e-01, -2.1744e-01, -9.3886e-02,\n",
      "          4.0836e-03, -2.1615e-01,  1.4086e-01,  2.2643e-01,  4.4215e-02,\n",
      "         -1.8575e-01],\n",
      "        [ 5.8297e-02,  9.0753e-02,  1.9796e-01, -1.3302e-01, -2.2398e-01,\n",
      "          1.0984e-01,  1.5564e-02, -8.1457e-02, -1.0476e-01, -1.2890e-01,\n",
      "          2.0237e-01, -4.3135e-02,  1.8030e-01,  2.2316e-01,  3.1669e-02,\n",
      "          5.3254e-02],\n",
      "        [-1.7026e-02,  1.7170e-01, -2.2527e-01,  9.9421e-02, -4.0732e-02,\n",
      "          1.1415e-01, -1.1135e-03, -9.2567e-02, -2.6987e-02,  1.3500e-01,\n",
      "         -1.7363e-01, -1.5802e-01, -5.5999e-02, -9.0681e-02,  9.8210e-02,\n",
      "          1.6824e-01],\n",
      "        [-2.6775e-02,  2.3639e-01, -1.0445e-01, -1.4029e-01, -1.1192e-01,\n",
      "         -1.7224e-01, -1.7523e-01, -2.2275e-01, -2.2157e-01,  6.5250e-02,\n",
      "          1.5246e-01,  2.3471e-01,  2.1295e-01, -1.4398e-02,  4.8512e-02,\n",
      "         -1.4958e-01],\n",
      "        [ 9.6630e-02, -2.3971e-01,  1.1792e-01,  4.5854e-02,  7.6826e-02,\n",
      "          9.1537e-02, -1.1478e-01,  2.1453e-01,  1.1931e-01,  1.6422e-01,\n",
      "          3.3020e-02,  1.5700e-01,  1.6825e-01,  1.1331e-01,  1.9044e-01,\n",
      "         -4.5344e-02],\n",
      "        [ 1.6438e-01,  5.7600e-02,  1.5042e-01,  2.4350e-01,  5.6609e-02,\n",
      "         -9.2792e-02, -2.4874e-02,  7.0382e-02,  4.2152e-02, -6.8293e-02,\n",
      "          1.9588e-01,  1.5020e-01, -1.5529e-01, -2.0370e-02, -2.3998e-02,\n",
      "         -1.5668e-01],\n",
      "        [ 3.6464e-02, -7.6748e-02, -1.2907e-01, -8.0387e-02, -8.9137e-02,\n",
      "          2.3916e-01,  9.5893e-02,  2.4603e-01,  6.8549e-02,  5.6608e-02,\n",
      "          1.0277e-01,  4.2908e-02, -1.9619e-01, -1.4784e-01, -6.0570e-02,\n",
      "          3.7583e-03],\n",
      "        [ 9.4179e-02,  9.6262e-02,  1.9833e-01,  5.0893e-02, -8.5323e-02,\n",
      "         -1.8801e-01, -1.8310e-01, -1.4933e-01,  7.5401e-02,  1.3507e-01,\n",
      "          2.1873e-01, -7.9078e-02, -1.9721e-02, -7.4241e-02, -9.1350e-04,\n",
      "          8.0250e-02]], device='cuda:0')\n",
      "encoder.layers.0.mha.W_h.weight tensor([[-0.0039,  0.0082,  0.0224,  0.0658, -0.0536, -0.1054,  0.0417, -0.0209,\n",
      "         -0.0801,  0.0742,  0.0016, -0.0257, -0.0856, -0.0233, -0.1503,  0.0402,\n",
      "          0.0027,  0.1073,  0.0114,  0.0141,  0.0482,  0.1345, -0.0835,  0.1055,\n",
      "          0.0432, -0.1179,  0.0616, -0.1060, -0.0556, -0.0843, -0.1203,  0.1392],\n",
      "        [-0.1580,  0.0884, -0.1591, -0.0215,  0.0105,  0.1257, -0.0640,  0.0509,\n",
      "          0.0274,  0.1040,  0.0105,  0.0662, -0.1068, -0.1228,  0.1575, -0.1288,\n",
      "         -0.0301, -0.0214,  0.1729, -0.0382, -0.1346, -0.0448,  0.0912,  0.0701,\n",
      "          0.1462, -0.0362,  0.0833, -0.1664,  0.0684,  0.0812,  0.1140, -0.1014],\n",
      "        [-0.0472,  0.0428, -0.1256, -0.1406, -0.1701,  0.0099,  0.1098,  0.0454,\n",
      "          0.0108,  0.0616, -0.1111,  0.0186, -0.0439, -0.0875,  0.1524, -0.1368,\n",
      "          0.0259, -0.1553, -0.0060, -0.0786,  0.0582, -0.0993,  0.1131, -0.1434,\n",
      "          0.1062, -0.1328,  0.0947, -0.0744, -0.0004, -0.0323,  0.1147,  0.0579],\n",
      "        [-0.1558,  0.0163, -0.1220,  0.1322,  0.0290, -0.0455, -0.0902,  0.0612,\n",
      "         -0.1059,  0.0838,  0.0965,  0.1085,  0.0462, -0.1547,  0.1272, -0.0548,\n",
      "         -0.0523, -0.0190,  0.1292,  0.1359,  0.0273,  0.0843, -0.1648,  0.0004,\n",
      "         -0.1564,  0.0602, -0.1259, -0.0630,  0.1236,  0.1689, -0.1061, -0.0981],\n",
      "        [ 0.0219,  0.0695, -0.0288, -0.0552, -0.1161,  0.0755,  0.1732, -0.0856,\n",
      "          0.0834,  0.0863,  0.1421, -0.0201,  0.0056,  0.1299,  0.1117,  0.1746,\n",
      "         -0.0507,  0.0699,  0.1234, -0.1200,  0.0351, -0.0396,  0.1136, -0.0794,\n",
      "          0.0124,  0.1058, -0.1619, -0.1493, -0.0905,  0.1134,  0.1185, -0.1207],\n",
      "        [ 0.0337, -0.0937, -0.0821,  0.1525,  0.0854, -0.0483,  0.0260,  0.0343,\n",
      "          0.0414, -0.0605, -0.1041,  0.1170,  0.0238,  0.0740, -0.0670,  0.0856,\n",
      "          0.1287,  0.1075,  0.0481,  0.1739, -0.0004,  0.0376,  0.1680,  0.1718,\n",
      "         -0.0746,  0.1592,  0.0652, -0.0198,  0.1544, -0.0916,  0.1149,  0.1752],\n",
      "        [-0.1219, -0.1043, -0.1752, -0.0318, -0.1605, -0.0592,  0.0537,  0.1250,\n",
      "          0.0985,  0.0981,  0.0733, -0.1096, -0.1404,  0.0073,  0.1679,  0.0100,\n",
      "         -0.0152, -0.1200, -0.0877, -0.1363,  0.1415, -0.0288, -0.1562,  0.0190,\n",
      "          0.0128, -0.0218,  0.0633,  0.0951, -0.1662, -0.1354, -0.0085, -0.1639],\n",
      "        [-0.1606,  0.1561, -0.0134, -0.0874, -0.0606, -0.1380,  0.1380, -0.0383,\n",
      "         -0.0994, -0.1341,  0.1033, -0.0244, -0.0186, -0.0461, -0.0853,  0.0314,\n",
      "          0.1360, -0.1025,  0.0085, -0.1344, -0.0829,  0.1552,  0.0019,  0.1703,\n",
      "         -0.0310, -0.0964, -0.1056,  0.1567, -0.1359,  0.0928,  0.0439,  0.0522],\n",
      "        [ 0.0997, -0.0462,  0.1094, -0.1408, -0.0622,  0.1294,  0.0525, -0.0235,\n",
      "         -0.0413, -0.1079,  0.1075, -0.0056, -0.0060,  0.0418,  0.1305, -0.0902,\n",
      "         -0.0609,  0.1198,  0.0998, -0.0870, -0.1749,  0.0328,  0.0930,  0.0422,\n",
      "          0.1254, -0.1403,  0.0891, -0.1099,  0.0995,  0.1315,  0.0560,  0.1430],\n",
      "        [-0.1165, -0.1581, -0.1700,  0.1110,  0.0619, -0.1294,  0.0856,  0.1613,\n",
      "         -0.1743,  0.1282,  0.0271,  0.0164,  0.1591,  0.1601,  0.0745,  0.1397,\n",
      "          0.0735,  0.0288, -0.1554,  0.0330, -0.1258,  0.0544,  0.0312,  0.0040,\n",
      "         -0.1209, -0.1072,  0.1307,  0.0861,  0.0932, -0.0527, -0.0304, -0.0453],\n",
      "        [ 0.1216, -0.0763,  0.1113,  0.1219, -0.1617,  0.0011, -0.0337, -0.0977,\n",
      "          0.0763, -0.0215,  0.1548, -0.1106,  0.0821, -0.1509, -0.0886,  0.0121,\n",
      "          0.1397,  0.0931, -0.1451,  0.0196, -0.1042,  0.0077, -0.1473, -0.0519,\n",
      "          0.1212, -0.1622, -0.1685,  0.0322,  0.0242, -0.0323,  0.1544, -0.1064],\n",
      "        [-0.1073, -0.1321, -0.0329, -0.0451,  0.1094, -0.0099,  0.0565, -0.0735,\n",
      "          0.1434,  0.1490, -0.1583, -0.0454, -0.1500,  0.0751, -0.1544, -0.0836,\n",
      "          0.1766, -0.1688,  0.1304,  0.0149,  0.1414, -0.0897,  0.1161,  0.0213,\n",
      "          0.0136,  0.1207, -0.1680, -0.1424,  0.1707, -0.1062, -0.1274, -0.0086],\n",
      "        [-0.0566, -0.0242, -0.1184,  0.0638, -0.1521,  0.0143,  0.1032,  0.0340,\n",
      "          0.0235,  0.0259, -0.0518, -0.0337, -0.0745, -0.1194, -0.0936,  0.1748,\n",
      "         -0.0296,  0.0619,  0.1223, -0.0138, -0.0951, -0.1198, -0.0651,  0.0631,\n",
      "         -0.1489, -0.0216,  0.0672,  0.1442,  0.0532,  0.0350,  0.1210,  0.0817],\n",
      "        [ 0.0598, -0.0548, -0.1418, -0.0382, -0.0321,  0.0130, -0.0194,  0.0715,\n",
      "          0.1175, -0.0717, -0.1677, -0.0907, -0.0846,  0.1002, -0.1140, -0.0166,\n",
      "         -0.0375, -0.1073,  0.0801, -0.0736, -0.0091, -0.1243, -0.0178,  0.0251,\n",
      "         -0.0072, -0.0661,  0.0525, -0.0458, -0.0980, -0.1304, -0.0374, -0.1670],\n",
      "        [ 0.1467, -0.0845, -0.0733,  0.0163,  0.0458, -0.0167,  0.1213, -0.1031,\n",
      "          0.0634, -0.0004, -0.1438, -0.0685,  0.0450,  0.0338,  0.1285,  0.1183,\n",
      "         -0.0964, -0.0755, -0.0375, -0.1266, -0.0477, -0.1447,  0.0672,  0.1251,\n",
      "          0.0140, -0.1266, -0.1339, -0.0688,  0.0514,  0.0043,  0.0321,  0.1666],\n",
      "        [ 0.0821,  0.0380, -0.0358,  0.0836,  0.0647, -0.1591, -0.1044,  0.0059,\n",
      "          0.0671,  0.0860, -0.1052, -0.1754, -0.0092, -0.0202,  0.0513, -0.0486,\n",
      "          0.1351,  0.0118,  0.1291, -0.1231,  0.0707,  0.0211, -0.0884,  0.0876,\n",
      "         -0.1740,  0.1429,  0.0142,  0.0171,  0.0817,  0.0147,  0.0758,  0.1125]],\n",
      "       device='cuda:0')\n",
      "encoder.layers.0.layernorm1.weight tensor([1., 1., 1., 1., 1., 1., 1., 1., 1., 1., 1., 1., 1., 1., 1., 1.],\n",
      "       device='cuda:0')\n",
      "encoder.layers.0.layernorm1.bias tensor([0., 0., 0., 0., 0., 0., 0., 0., 0., 0., 0., 0., 0., 0., 0., 0.],\n",
      "       device='cuda:0')\n",
      "encoder.layers.0.cnn.k1convL1.weight tensor([[-0.1951,  0.1654, -0.0374,  ...,  0.1908, -0.1267, -0.1213],\n",
      "        [ 0.1227,  0.0137, -0.0275,  ..., -0.0359,  0.1411, -0.0065],\n",
      "        [-0.0499,  0.0836,  0.1972,  ..., -0.0125,  0.2241, -0.1946],\n",
      "        ...,\n",
      "        [ 0.1289, -0.2295,  0.0865,  ...,  0.0876, -0.1471,  0.0013],\n",
      "        [-0.1771,  0.2012,  0.2108,  ..., -0.0904, -0.1151,  0.2380],\n",
      "        [-0.0762,  0.0843, -0.0440,  ..., -0.1854,  0.0327, -0.0581]],\n",
      "       device='cuda:0')\n",
      "encoder.layers.0.cnn.k1convL1.bias tensor([-0.0996, -0.1193, -0.1064, -0.1012,  0.0246,  0.2415, -0.1465, -0.1166,\n",
      "        -0.1676, -0.0095,  0.0175, -0.1716,  0.1142, -0.2242,  0.2314,  0.0470,\n",
      "        -0.0252, -0.0895,  0.1122,  0.1826, -0.1635, -0.0627,  0.1840, -0.0469,\n",
      "        -0.1841, -0.0803,  0.0086, -0.0467, -0.1713, -0.1566,  0.0676,  0.1715,\n",
      "         0.2274, -0.0283,  0.0962, -0.1986,  0.1332,  0.2389,  0.1302, -0.0988,\n",
      "         0.2038, -0.2368, -0.0300, -0.0619, -0.2494, -0.1426, -0.1821,  0.0672,\n",
      "        -0.0208,  0.1148, -0.0562,  0.2062,  0.0283,  0.2072,  0.2030, -0.2120,\n",
      "        -0.1679,  0.1506,  0.2362, -0.2134,  0.0037, -0.0961,  0.2354,  0.2077,\n",
      "         0.1820,  0.1345, -0.0235,  0.2307, -0.1170,  0.0124, -0.0658, -0.1824,\n",
      "        -0.1185,  0.0606, -0.0223, -0.1656, -0.0318,  0.0432, -0.1749,  0.1510,\n",
      "        -0.2125,  0.0024, -0.2045, -0.2254, -0.0311,  0.2269,  0.2363,  0.0899,\n",
      "         0.1938, -0.1367,  0.1407,  0.1525, -0.2389, -0.1916,  0.1080,  0.0231,\n",
      "        -0.1692, -0.1973,  0.1807,  0.0273, -0.0006, -0.2417,  0.2193, -0.1653,\n",
      "         0.1114, -0.0301,  0.0081,  0.1228, -0.0666, -0.0701,  0.1993, -0.1916,\n",
      "         0.1113, -0.0645, -0.0835,  0.1674,  0.0422, -0.2328,  0.2234, -0.1241,\n",
      "         0.2161, -0.0785,  0.2438,  0.0738, -0.0121,  0.0954, -0.0078, -0.1240],\n",
      "       device='cuda:0')\n",
      "encoder.layers.0.cnn.k1convL2.weight tensor([[ 0.0483,  0.0573, -0.0111,  ...,  0.0171, -0.0456,  0.0534],\n",
      "        [ 0.0367, -0.0799, -0.0048,  ...,  0.0338, -0.0223, -0.0113],\n",
      "        [-0.0060,  0.0494, -0.0549,  ...,  0.0609, -0.0493,  0.0633],\n",
      "        ...,\n",
      "        [ 0.0851, -0.0184, -0.0163,  ..., -0.0088, -0.0692, -0.0070],\n",
      "        [-0.0025,  0.0146,  0.0396,  ...,  0.0241,  0.0780,  0.0384],\n",
      "        [-0.0479,  0.0326,  0.0520,  ...,  0.0306,  0.0152, -0.0325]],\n",
      "       device='cuda:0')\n",
      "encoder.layers.0.cnn.k1convL2.bias tensor([ 0.0173, -0.0154, -0.0060,  0.0627, -0.0368,  0.0825, -0.0483,  0.0819,\n",
      "         0.0332,  0.0355, -0.0202, -0.0241, -0.0647, -0.0848,  0.0619,  0.0857],\n",
      "       device='cuda:0')\n",
      "encoder.layers.0.layernorm2.weight tensor([1., 1., 1., 1., 1., 1., 1., 1., 1., 1., 1., 1., 1., 1., 1., 1.],\n",
      "       device='cuda:0')\n",
      "encoder.layers.0.layernorm2.bias tensor([0., 0., 0., 0., 0., 0., 0., 0., 0., 0., 0., 0., 0., 0., 0., 0.],\n",
      "       device='cuda:0')\n",
      "output_layer.weight tensor([[ 0.0061, -0.0083,  0.0046,  ...,  0.0046, -0.0090,  0.0194],\n",
      "        [ 0.0060,  0.0106,  0.0210,  ...,  0.0123,  0.0198,  0.0148],\n",
      "        [-0.0016,  0.0149, -0.0007,  ..., -0.0003,  0.0151,  0.0096],\n",
      "        [ 0.0114,  0.0039, -0.0118,  ...,  0.0040, -0.0163,  0.0151],\n",
      "        [-0.0124, -0.0028, -0.0140,  ...,  0.0176,  0.0178,  0.0035]],\n",
      "       device='cuda:0')\n",
      "output_layer.bias tensor([-0.0203, -0.0181,  0.0156, -0.0068,  0.0181], device='cuda:0')\n"
     ]
    }
   ],
   "source": [
    "for name, param in model.named_parameters():\n",
    "    if param.requires_grad:\n",
    "        print (name, param.data)"
   ]
  },
  {
   "cell_type": "markdown",
   "id": "32e0bfa0-0294-4a23-95fa-839455281fbd",
   "metadata": {},
   "source": [
    "*Positional Encoder* treinável"
   ]
  },
  {
   "cell_type": "code",
   "execution_count": 48,
   "id": "66fbc641-2528-49bb-b848-6f3836d1d591",
   "metadata": {},
   "outputs": [],
   "source": [
    "model = TimeSeriesTransformerClassifier(seq_len, n_features, 1, 16, 2, 128, n_class, True, 0.1).to(device)"
   ]
  },
  {
   "cell_type": "code",
   "execution_count": 49,
   "id": "f93d43f6-5497-4963-8bc4-6bb75a732c14",
   "metadata": {},
   "outputs": [
    {
     "data": {
      "text/plain": [
       "TimeSeriesTransformerClassifier(\n",
       "  (W_P): Linear(in_features=1, out_features=16, bias=True)\n",
       "  (dropout): Dropout(p=0.1, inplace=False)\n",
       "  (encoder): Encoder(\n",
       "    (layers): ModuleList(\n",
       "      (0): EncoderLayer(\n",
       "        (mha): MultiHeadAttention(\n",
       "          (W_q): Linear(in_features=16, out_features=32, bias=False)\n",
       "          (W_k): Linear(in_features=16, out_features=32, bias=False)\n",
       "          (W_v): Linear(in_features=16, out_features=32, bias=False)\n",
       "          (W_h): Linear(in_features=32, out_features=16, bias=False)\n",
       "        )\n",
       "        (dropout_att): Dropout(p=0.1, inplace=False)\n",
       "        (layernorm1): LayerNorm((16,), eps=1e-06, elementwise_affine=True)\n",
       "        (cnn): CNN(\n",
       "          (k1convL1): Linear(in_features=16, out_features=128, bias=True)\n",
       "          (activation): ReLU()\n",
       "          (k1convL2): Linear(in_features=128, out_features=16, bias=True)\n",
       "        )\n",
       "        (layernorm2): LayerNorm((16,), eps=1e-06, elementwise_affine=True)\n",
       "        (dropout_cnn): Dropout(p=0.1, inplace=False)\n",
       "      )\n",
       "    )\n",
       "  )\n",
       "  (output_layer): Linear(in_features=2240, out_features=5, bias=True)\n",
       ")"
      ]
     },
     "execution_count": 49,
     "metadata": {},
     "output_type": "execute_result"
    }
   ],
   "source": [
    "model"
   ]
  },
  {
   "cell_type": "code",
   "execution_count": 50,
   "id": "161bd9aa-8b69-472b-a908-9c6c80ab5018",
   "metadata": {},
   "outputs": [
    {
     "data": {
      "text/plain": [
       "torch.Size([32, 5])"
      ]
     },
     "execution_count": 50,
     "metadata": {},
     "output_type": "execute_result"
    }
   ],
   "source": [
    "model(data_test_loader[0][0].to(device)).shape"
   ]
  },
  {
   "cell_type": "markdown",
   "id": "956bd651-fd7b-4ed2-8b75-bbe8bbd71856",
   "metadata": {},
   "source": [
    "Pesos do Positional Encoder devem ser listados"
   ]
  },
  {
   "cell_type": "code",
   "execution_count": 51,
   "id": "769762c5-cd9f-406e-8009-9c83ba1fea7d",
   "metadata": {},
   "outputs": [
    {
     "name": "stdout",
     "output_type": "stream",
     "text": [
      "W_pos tensor([[-0.0093, -0.0170, -0.0083,  ...,  0.0109, -0.0032,  0.0093],\n",
      "        [ 0.0016,  0.0127, -0.0160,  ..., -0.0109, -0.0054, -0.0031],\n",
      "        [ 0.0082,  0.0164,  0.0084,  ...,  0.0164,  0.0107,  0.0127],\n",
      "        ...,\n",
      "        [-0.0009, -0.0031,  0.0085,  ...,  0.0074,  0.0144, -0.0067],\n",
      "        [ 0.0023,  0.0058, -0.0148,  ...,  0.0078, -0.0168,  0.0071],\n",
      "        [-0.0042,  0.0119,  0.0171,  ..., -0.0131, -0.0044, -0.0115]],\n",
      "       device='cuda:0')\n",
      "W_P.weight tensor([[ 0.6422],\n",
      "        [-0.8969],\n",
      "        [ 0.4516],\n",
      "        [-0.8309],\n",
      "        [-0.7249],\n",
      "        [ 0.7039],\n",
      "        [ 0.9004],\n",
      "        [ 0.4840],\n",
      "        [ 0.4644],\n",
      "        [ 0.1168],\n",
      "        [ 0.6467],\n",
      "        [-0.9377],\n",
      "        [ 0.4906],\n",
      "        [ 0.1182],\n",
      "        [-0.3004],\n",
      "        [-0.5831]], device='cuda:0')\n",
      "W_P.bias tensor([ 0.3748, -0.2180,  0.1086, -0.2070, -0.0294, -0.3576, -0.9506,  0.2392,\n",
      "        -0.1447, -0.2985,  0.6522, -0.4696, -0.1356, -0.9130, -0.3732,  0.7115],\n",
      "       device='cuda:0')\n",
      "encoder.layers.0.mha.W_q.weight tensor([[ 0.0134,  0.1382,  0.2092,  0.0644,  0.1836,  0.0598,  0.1487, -0.2158,\n",
      "          0.1850,  0.0835,  0.0386, -0.2452,  0.1411,  0.1348, -0.1881,  0.2149],\n",
      "        [ 0.2318, -0.0235, -0.0795, -0.0151, -0.2108, -0.2229, -0.0347, -0.0861,\n",
      "          0.2217,  0.1469, -0.0695, -0.2464,  0.0772, -0.0211, -0.1325,  0.2221],\n",
      "        [ 0.1564, -0.0958,  0.2128, -0.2183, -0.2073,  0.1166,  0.1520, -0.0522,\n",
      "         -0.0477, -0.2426,  0.0835, -0.0072, -0.1877, -0.1922,  0.1412, -0.2094],\n",
      "        [ 0.0543,  0.2280, -0.0734,  0.1413,  0.1106, -0.0563, -0.1541, -0.1495,\n",
      "         -0.2443,  0.0362,  0.0577, -0.0648,  0.1339, -0.0174,  0.0765,  0.2430],\n",
      "        [ 0.2340,  0.1998, -0.1035,  0.0053, -0.0754,  0.0721,  0.1469,  0.0415,\n",
      "         -0.0804,  0.0422, -0.1849, -0.2187, -0.0431, -0.0230, -0.0524,  0.1128],\n",
      "        [ 0.0787,  0.0600,  0.0621, -0.0142,  0.0466, -0.1711, -0.1595,  0.0294,\n",
      "          0.1567,  0.0106,  0.2273,  0.2019, -0.2495, -0.1152,  0.0869, -0.0120],\n",
      "        [ 0.0839, -0.1373,  0.1336, -0.1439,  0.0171, -0.1995, -0.0720,  0.1596,\n",
      "          0.1293, -0.1803,  0.1432, -0.0367, -0.1920,  0.2266,  0.0849,  0.0263],\n",
      "        [ 0.0794,  0.1107, -0.2254,  0.1427,  0.1826,  0.0308, -0.0711,  0.0352,\n",
      "          0.0171,  0.0423, -0.1553,  0.1579,  0.0153,  0.0146, -0.0924,  0.2168],\n",
      "        [-0.1792, -0.0846, -0.1686,  0.1876, -0.1003,  0.0042, -0.0173,  0.1885,\n",
      "         -0.2117, -0.1287, -0.2430, -0.0543, -0.2155, -0.0052,  0.0962,  0.0246],\n",
      "        [ 0.0242, -0.0521, -0.1794, -0.0384,  0.2035,  0.0471,  0.0449, -0.0748,\n",
      "          0.1680,  0.1662,  0.0536,  0.1768,  0.0193,  0.0048,  0.0686, -0.2404],\n",
      "        [ 0.1596, -0.1302, -0.1088, -0.0150, -0.1880, -0.1609,  0.2023, -0.0409,\n",
      "          0.0917,  0.0499,  0.2450, -0.1172, -0.1280,  0.2394, -0.1665, -0.2461],\n",
      "        [-0.0439,  0.1414,  0.1116, -0.1677, -0.1936,  0.0803, -0.1638,  0.1386,\n",
      "         -0.0566, -0.1012, -0.0449,  0.2035, -0.1504, -0.1920,  0.1012,  0.1053],\n",
      "        [-0.0480,  0.1505, -0.0603, -0.1048, -0.1901, -0.1250, -0.1390,  0.0665,\n",
      "         -0.0459,  0.1804, -0.1212,  0.1456,  0.2028, -0.0570, -0.1397,  0.1245],\n",
      "        [-0.2380,  0.1655,  0.1919, -0.0146, -0.1550,  0.0318,  0.1809,  0.0335,\n",
      "          0.0468,  0.1090,  0.1414,  0.0545, -0.1363,  0.0070, -0.1066,  0.1258],\n",
      "        [-0.1286,  0.2185,  0.1052, -0.2497, -0.1047, -0.0376, -0.0811, -0.0084,\n",
      "         -0.1338,  0.1757,  0.1139, -0.0237, -0.1091, -0.1911, -0.1441, -0.1380],\n",
      "        [ 0.2349, -0.0003, -0.1426, -0.0193, -0.0098,  0.0608,  0.0814,  0.1568,\n",
      "         -0.1245, -0.0540, -0.2146, -0.0899, -0.2198, -0.0217, -0.1511, -0.0856],\n",
      "        [ 0.2339,  0.2263,  0.0325,  0.1272,  0.1615,  0.0110,  0.0498, -0.0168,\n",
      "         -0.1994,  0.1991, -0.1852, -0.0748, -0.2081, -0.1481,  0.2489, -0.0231],\n",
      "        [ 0.0783,  0.0605,  0.1953,  0.0523,  0.0088, -0.1147,  0.0459,  0.0543,\n",
      "         -0.1722, -0.1808, -0.1081,  0.2151,  0.0993,  0.1400,  0.1666, -0.0025],\n",
      "        [-0.1669,  0.2395,  0.0412, -0.0899,  0.1006, -0.1755,  0.0088,  0.2321,\n",
      "          0.0824, -0.2343,  0.2180,  0.0533, -0.0668,  0.1966,  0.1110,  0.1461],\n",
      "        [ 0.1223, -0.1400, -0.1806,  0.1795, -0.0154,  0.2030,  0.1242, -0.2410,\n",
      "          0.1366,  0.1247, -0.2407,  0.0148, -0.1997,  0.1224,  0.1331,  0.0761],\n",
      "        [ 0.1565, -0.1387, -0.0087, -0.0677,  0.1911,  0.1785, -0.0882, -0.2121,\n",
      "         -0.0087,  0.1954, -0.0539,  0.0920, -0.1817, -0.1662, -0.2146, -0.2150],\n",
      "        [-0.1016, -0.1066,  0.0965,  0.2060,  0.0307,  0.1008, -0.1598, -0.1083,\n",
      "         -0.2336,  0.2341,  0.0267, -0.0685, -0.2284,  0.0469, -0.2453,  0.1680],\n",
      "        [-0.2345,  0.0535,  0.1551, -0.2020,  0.1836,  0.2400,  0.1747,  0.2270,\n",
      "         -0.1170, -0.0439,  0.2243,  0.1184, -0.1697,  0.2462, -0.0423, -0.0813],\n",
      "        [ 0.0345,  0.2405, -0.1260,  0.0220, -0.0294, -0.0749,  0.1153,  0.0150,\n",
      "         -0.2051, -0.0062,  0.1579, -0.1185,  0.2221, -0.2060,  0.0847,  0.1550],\n",
      "        [ 0.0877,  0.0987,  0.0368, -0.0527,  0.1792, -0.0554,  0.2101,  0.2392,\n",
      "         -0.2165,  0.2033,  0.0622, -0.1705, -0.1390, -0.0345,  0.2337,  0.1526],\n",
      "        [-0.0665, -0.1492, -0.1618, -0.1263, -0.0057, -0.2170, -0.2231, -0.1570,\n",
      "          0.0689,  0.0887,  0.0737,  0.2079,  0.0605, -0.0971,  0.0992, -0.1167],\n",
      "        [ 0.2224, -0.0960, -0.1561, -0.0479, -0.1394, -0.0251, -0.0418,  0.0293,\n",
      "         -0.0331, -0.1742, -0.2342, -0.1807, -0.2326, -0.2493,  0.2426,  0.1464],\n",
      "        [ 0.1134,  0.1610,  0.0760, -0.0826, -0.0310, -0.1028,  0.1128,  0.0643,\n",
      "         -0.2100,  0.0389, -0.1925,  0.1880,  0.0272, -0.0039, -0.1478,  0.0385],\n",
      "        [ 0.0318,  0.0642, -0.1751, -0.1056, -0.1742, -0.1563, -0.1370, -0.2016,\n",
      "          0.2456, -0.2366, -0.0655,  0.0106, -0.1007, -0.0693,  0.1170, -0.0574],\n",
      "        [-0.0295,  0.2206, -0.0897, -0.0111,  0.1590, -0.0586, -0.1994,  0.1925,\n",
      "         -0.2155, -0.2464, -0.1284,  0.0332,  0.2026, -0.1952, -0.1244,  0.2258],\n",
      "        [ 0.1952,  0.0947, -0.2117,  0.1374, -0.0159, -0.1922,  0.1958, -0.1710,\n",
      "          0.0407, -0.1362,  0.2119,  0.0078, -0.0605,  0.1406,  0.2275, -0.0195],\n",
      "        [ 0.1696, -0.0898, -0.1350, -0.1352, -0.2400,  0.2212,  0.0619, -0.1765,\n",
      "         -0.2168,  0.1569,  0.0119, -0.1709, -0.0249, -0.0909,  0.0326, -0.1033]],\n",
      "       device='cuda:0')\n",
      "encoder.layers.0.mha.W_k.weight tensor([[-1.1697e-01, -1.4652e-01, -1.0322e-01,  4.0116e-03,  1.2165e-01,\n",
      "          5.3256e-02,  1.5944e-01, -7.8098e-02, -8.6231e-02, -1.5025e-01,\n",
      "         -2.1552e-01, -1.5339e-01, -5.2035e-02,  2.3542e-01, -2.4366e-01,\n",
      "          1.8704e-01],\n",
      "        [ 1.2833e-01,  1.2444e-01,  1.3281e-01,  1.3428e-01,  2.1619e-01,\n",
      "          9.2588e-02, -5.2008e-02,  9.5124e-02, -1.8632e-02, -1.2104e-01,\n",
      "          9.1567e-02,  2.4995e-01,  1.8753e-01, -1.0779e-01, -2.2148e-02,\n",
      "          9.5738e-02],\n",
      "        [ 1.3870e-01, -2.1766e-01,  3.4023e-02, -2.9519e-02,  2.3989e-01,\n",
      "          7.1059e-02, -1.1221e-01, -7.9663e-02,  2.0394e-01, -7.3972e-02,\n",
      "          4.6470e-02,  2.1869e-01, -2.2095e-01, -2.0482e-02, -2.2542e-01,\n",
      "         -7.5941e-02],\n",
      "        [ 9.1707e-02,  1.3989e-04,  1.2395e-01, -1.7014e-01,  1.1139e-01,\n",
      "         -1.0873e-01,  1.6208e-01, -6.4920e-02,  2.0459e-01,  2.0095e-02,\n",
      "          8.5528e-02, -1.8927e-01,  3.6601e-02,  1.8446e-01, -1.9080e-01,\n",
      "          1.8496e-01],\n",
      "        [ 9.3185e-02, -1.0641e-01, -1.6307e-01,  1.5356e-01, -7.6081e-02,\n",
      "          1.2173e-01,  3.0531e-02,  2.3347e-01, -1.7211e-01, -3.4990e-02,\n",
      "          1.0945e-01, -1.2284e-01, -6.8682e-02, -5.4754e-02,  2.4522e-01,\n",
      "          1.0986e-01],\n",
      "        [-2.3185e-01,  6.9822e-02,  2.1125e-01,  1.2596e-01,  2.2709e-01,\n",
      "         -4.9495e-02,  2.4832e-02,  2.4430e-01,  2.3045e-01, -7.3445e-02,\n",
      "          5.2662e-02,  1.0157e-02,  2.2062e-01, -1.0978e-01, -3.0886e-02,\n",
      "          9.1503e-02],\n",
      "        [-3.8842e-02, -1.1765e-01,  2.1287e-01, -9.2749e-02,  1.5359e-01,\n",
      "         -5.6293e-02, -2.4657e-01, -1.7282e-01,  6.4090e-02,  1.7905e-01,\n",
      "         -3.5143e-02,  1.6282e-01,  4.5921e-02,  1.0631e-01,  2.4755e-01,\n",
      "          1.7055e-01],\n",
      "        [ 1.9367e-01, -1.5885e-01, -1.8441e-01,  1.9821e-01,  2.3057e-01,\n",
      "          1.2703e-01,  9.9193e-02, -5.7843e-02,  8.7569e-02, -1.2042e-01,\n",
      "         -1.0571e-02,  2.3394e-01, -1.5750e-01, -2.1011e-01, -1.9474e-02,\n",
      "          1.3040e-01],\n",
      "        [-2.3251e-01,  1.5913e-01,  1.1144e-02,  2.9911e-02,  1.5480e-01,\n",
      "          1.2640e-01, -1.4180e-02, -2.3785e-01,  2.1622e-01, -8.0939e-02,\n",
      "         -1.3887e-01,  8.3613e-02,  1.6803e-01,  3.5599e-02, -1.4225e-01,\n",
      "         -2.2704e-01],\n",
      "        [ 1.0884e-01,  8.7511e-02,  1.4860e-01,  2.4910e-01, -1.3618e-01,\n",
      "          7.7655e-02,  2.4801e-01, -7.8052e-03, -9.2822e-02, -1.9516e-01,\n",
      "          4.0058e-03, -1.2626e-01, -1.7020e-01, -2.3770e-01,  1.0317e-01,\n",
      "         -3.6062e-02],\n",
      "        [ 1.0779e-01,  1.3384e-01, -2.4845e-01, -9.0635e-02,  2.2279e-01,\n",
      "         -4.3079e-02,  1.6842e-01, -2.1614e-01,  2.2850e-01,  1.0558e-01,\n",
      "         -1.7556e-01,  5.8708e-02,  1.5931e-01,  1.3470e-01,  4.8537e-02,\n",
      "         -9.7126e-02],\n",
      "        [-7.8257e-02, -1.8146e-01,  2.4573e-01,  4.7697e-02,  5.4174e-02,\n",
      "         -1.4440e-01, -1.9521e-01, -2.9384e-02,  1.2907e-01,  1.8858e-01,\n",
      "         -2.4511e-02,  1.0500e-01, -4.4020e-02, -7.4222e-02,  2.4984e-01,\n",
      "          6.0883e-02],\n",
      "        [ 2.4542e-01, -2.4524e-01,  1.9827e-02, -8.5605e-02,  1.9362e-01,\n",
      "          1.2531e-01,  4.1706e-02,  1.5568e-01, -1.4836e-01, -6.5549e-02,\n",
      "          1.2688e-01, -1.4535e-01,  6.0110e-02,  8.1337e-02, -2.0785e-01,\n",
      "         -1.4693e-01],\n",
      "        [-1.8503e-01, -2.2866e-01, -8.8704e-02,  7.8585e-02,  9.2840e-02,\n",
      "          1.4169e-01,  3.1337e-02, -1.6002e-01, -2.3572e-01,  2.1785e-01,\n",
      "          4.4449e-02,  1.9181e-01, -2.3446e-01, -1.3596e-01, -6.5925e-03,\n",
      "          2.0687e-01],\n",
      "        [-2.0503e-01, -1.3297e-01, -1.8966e-01,  1.2717e-01,  1.9310e-02,\n",
      "         -9.4946e-02,  1.6672e-01, -1.8586e-01, -2.4691e-02, -1.1431e-01,\n",
      "         -5.5842e-02,  2.5800e-03, -5.6528e-03,  2.4766e-01, -2.2067e-01,\n",
      "         -1.0470e-01],\n",
      "        [-1.9044e-02, -1.0462e-01,  2.3223e-01,  1.2865e-01,  1.8910e-01,\n",
      "          1.8360e-01, -1.3360e-02,  1.6473e-01, -2.1084e-02,  1.7959e-01,\n",
      "          3.6412e-02,  9.9554e-02,  1.0301e-01, -9.4898e-02,  2.1373e-01,\n",
      "          2.0374e-01],\n",
      "        [-6.0419e-02, -7.4004e-02, -2.2182e-01,  1.3152e-01, -1.9162e-01,\n",
      "         -2.3095e-01,  2.0572e-01,  5.5403e-02,  2.1772e-01, -2.0913e-01,\n",
      "         -1.4083e-01, -6.6710e-02,  1.5455e-01, -1.8979e-01, -2.1541e-01,\n",
      "         -7.3620e-02],\n",
      "        [-1.2970e-01,  2.4224e-01,  1.2753e-01, -1.6875e-01, -1.0776e-01,\n",
      "         -9.2017e-03, -1.5646e-01, -1.8890e-01,  2.2403e-01, -1.6626e-01,\n",
      "          1.4439e-01, -7.1969e-02, -1.8991e-01, -1.1327e-01, -1.1455e-01,\n",
      "         -1.6980e-01],\n",
      "        [-1.5314e-01, -1.1355e-02, -1.3164e-01,  2.0331e-01, -2.3884e-01,\n",
      "         -4.0729e-02,  1.6458e-01, -1.6501e-01, -5.7109e-02, -2.0385e-01,\n",
      "         -2.4118e-01,  1.1844e-01,  6.3862e-02,  2.4332e-02,  1.9770e-01,\n",
      "         -5.7186e-03],\n",
      "        [-2.0860e-01, -2.4324e-01,  3.6252e-02, -1.4814e-01,  2.3281e-01,\n",
      "         -3.1278e-02,  2.1504e-01, -4.0343e-02, -1.1570e-01, -2.4766e-01,\n",
      "          2.3840e-01, -2.1607e-01,  1.7677e-01, -9.7068e-02, -1.8453e-01,\n",
      "         -8.5949e-02],\n",
      "        [ 1.2104e-01,  1.9079e-01, -2.0910e-01, -1.8641e-01,  8.4879e-02,\n",
      "          1.1934e-01, -1.6055e-01,  1.0406e-01, -3.5014e-02, -2.1814e-01,\n",
      "          1.4003e-01, -2.0940e-01, -1.4156e-02, -5.4048e-02, -1.1491e-01,\n",
      "         -4.0424e-02],\n",
      "        [-2.2314e-01,  2.2130e-01, -1.8699e-01,  1.5432e-01,  8.6474e-03,\n",
      "         -1.1155e-02, -1.8200e-02, -1.0668e-01, -4.5301e-02,  1.7991e-01,\n",
      "         -1.1874e-01,  1.1404e-01, -2.0170e-01, -1.2361e-01,  1.7288e-01,\n",
      "          9.1471e-02],\n",
      "        [-2.2704e-01, -1.7510e-01,  1.6180e-01, -1.7139e-02,  2.3227e-01,\n",
      "         -2.4657e-01,  6.6312e-02, -2.4724e-01,  1.0405e-01, -8.4668e-02,\n",
      "         -2.6521e-02, -3.0868e-02,  3.2144e-02, -1.6825e-01, -1.3871e-01,\n",
      "          1.0895e-01],\n",
      "        [-1.4463e-01,  6.9965e-02, -2.9528e-02,  1.5789e-01, -6.2913e-02,\n",
      "          1.7622e-01, -6.6470e-03, -1.3890e-01,  4.7202e-02, -1.5366e-01,\n",
      "          6.0269e-02, -1.2000e-01,  3.0181e-02, -4.7100e-02, -6.4730e-02,\n",
      "         -2.1574e-01],\n",
      "        [-8.3923e-02,  2.0873e-01,  1.4097e-01, -1.0454e-01,  2.9319e-02,\n",
      "          6.2555e-02,  1.5358e-01,  1.7060e-01, -1.3723e-01, -5.9357e-02,\n",
      "          2.0520e-01,  2.5578e-02, -1.3844e-01, -1.2564e-01, -1.2388e-01,\n",
      "         -2.3566e-01],\n",
      "        [-1.6777e-01,  2.4825e-01, -3.0108e-02,  1.6675e-01, -2.3130e-01,\n",
      "          1.1789e-01,  9.6339e-02, -2.3391e-01, -6.0527e-02,  6.5438e-02,\n",
      "         -1.9643e-01,  9.6122e-02,  1.4553e-01, -2.2748e-01, -9.6242e-02,\n",
      "          1.7536e-01],\n",
      "        [-2.2261e-02, -1.4620e-01,  6.2482e-02, -2.0720e-01,  8.3480e-02,\n",
      "         -1.4457e-01,  9.0825e-02, -1.3285e-01, -7.4719e-02, -1.1606e-01,\n",
      "          1.3069e-01, -2.2926e-01,  1.5135e-01,  1.2985e-01, -1.7605e-01,\n",
      "          1.6881e-01],\n",
      "        [ 1.8548e-01, -1.5748e-01,  2.2835e-02,  6.2575e-02, -3.4421e-02,\n",
      "          1.8187e-01, -6.3480e-02, -8.5742e-02,  7.0573e-02,  1.3431e-01,\n",
      "          1.9748e-01, -2.4893e-01, -6.2026e-02, -1.1061e-01, -9.1445e-02,\n",
      "         -6.8124e-02],\n",
      "        [-1.4074e-01, -1.4760e-01, -1.3518e-01, -1.6952e-01,  9.9173e-02,\n",
      "          1.3705e-01, -1.1386e-01,  2.3591e-01,  9.1759e-02, -1.8971e-01,\n",
      "          1.1884e-01,  2.2246e-02,  2.1255e-01, -2.1816e-02, -1.0081e-01,\n",
      "          1.9441e-01],\n",
      "        [-2.2981e-01,  1.0717e-01, -2.1386e-01, -5.9835e-02, -2.5101e-02,\n",
      "         -2.3518e-01, -1.3876e-01, -1.0004e-01, -3.4254e-02,  5.1211e-02,\n",
      "         -1.7369e-01,  2.0417e-01,  3.7964e-02,  3.0866e-02,  5.6178e-02,\n",
      "         -1.5781e-01],\n",
      "        [-3.8894e-03, -2.2084e-01,  2.4225e-01, -9.3690e-02, -2.3195e-01,\n",
      "          2.2072e-02, -1.8304e-01, -2.1431e-01, -1.7591e-01, -3.6993e-02,\n",
      "          8.8129e-02, -2.4990e-01, -3.7278e-02, -5.7174e-02, -1.0888e-01,\n",
      "          1.0351e-01],\n",
      "        [ 1.7503e-01,  3.0201e-02, -9.5732e-02,  7.8705e-02, -1.1175e-01,\n",
      "         -1.5502e-02,  1.4094e-01, -4.8845e-02,  2.4088e-01,  2.4750e-01,\n",
      "          7.1733e-02, -2.3940e-02, -5.9837e-02,  1.0213e-01,  3.7723e-02,\n",
      "         -2.1101e-01]], device='cuda:0')\n",
      "encoder.layers.0.mha.W_v.weight tensor([[-0.2132,  0.0017,  0.0628,  0.1558,  0.1776,  0.0794,  0.1851,  0.1842,\n",
      "         -0.1835,  0.2374, -0.1202, -0.1582,  0.0327, -0.1686,  0.0187,  0.0088],\n",
      "        [ 0.0763, -0.1427,  0.1271,  0.1858,  0.0232,  0.1172, -0.1428,  0.1064,\n",
      "         -0.1461, -0.0888, -0.0472, -0.0016,  0.2260,  0.0369,  0.2474,  0.0590],\n",
      "        [-0.0781, -0.0827, -0.0244, -0.1640,  0.0970,  0.2236,  0.1437,  0.1529,\n",
      "          0.2428,  0.0323, -0.0152, -0.0845, -0.2093, -0.1656, -0.0135, -0.1763],\n",
      "        [-0.1724,  0.0413, -0.1437, -0.2077, -0.1737,  0.0957,  0.0343, -0.2376,\n",
      "         -0.2017,  0.0999,  0.2342,  0.0866,  0.1258, -0.0116,  0.1057,  0.1267],\n",
      "        [-0.1342,  0.1268, -0.0677,  0.0889, -0.2356, -0.1355, -0.1468, -0.1013,\n",
      "          0.2291, -0.1229,  0.0660, -0.0230,  0.0395, -0.1117, -0.1446, -0.2033],\n",
      "        [ 0.0203, -0.2296, -0.2319,  0.2237,  0.1048, -0.0410, -0.1163,  0.2212,\n",
      "         -0.0108, -0.2083,  0.1785,  0.2327,  0.0456,  0.1798, -0.2004,  0.0069],\n",
      "        [ 0.2451, -0.2459, -0.2367,  0.0222,  0.0667,  0.0628, -0.0715,  0.2088,\n",
      "          0.1809, -0.2469, -0.2376,  0.2120, -0.1017,  0.0479,  0.0883,  0.0575],\n",
      "        [-0.1289, -0.1704, -0.1934,  0.1033, -0.0319, -0.1455, -0.2019,  0.1350,\n",
      "          0.0340, -0.2396, -0.0137, -0.0681, -0.0070,  0.0619,  0.0871, -0.2350],\n",
      "        [ 0.0364,  0.1292, -0.0584,  0.1922,  0.2449,  0.0695,  0.2399,  0.1063,\n",
      "         -0.1670,  0.1563, -0.1066, -0.1794, -0.2254,  0.0220,  0.2250, -0.0861],\n",
      "        [ 0.0400,  0.0812,  0.1546,  0.2111,  0.1326, -0.0890, -0.0071, -0.2397,\n",
      "         -0.1938, -0.1357,  0.1490,  0.0431, -0.0008,  0.1649, -0.0230,  0.1905],\n",
      "        [ 0.2351, -0.2030,  0.1985,  0.1583, -0.0284,  0.0751, -0.1680, -0.0790,\n",
      "         -0.1423, -0.1739, -0.0418, -0.2492, -0.0468,  0.1593, -0.1542, -0.0818],\n",
      "        [ 0.0102, -0.1086,  0.0230, -0.2305,  0.0675,  0.2339,  0.0153,  0.2436,\n",
      "         -0.2202, -0.1299, -0.0759,  0.2137, -0.2290, -0.0454, -0.2239,  0.0481],\n",
      "        [-0.2171, -0.2053, -0.1556, -0.0960,  0.1587,  0.0404, -0.2254,  0.2364,\n",
      "         -0.0051,  0.0730, -0.1291, -0.1179, -0.1872, -0.1966, -0.1277,  0.1380],\n",
      "        [-0.0951, -0.2122,  0.0733, -0.0657, -0.1792,  0.2024, -0.2333, -0.2431,\n",
      "          0.1445,  0.1389, -0.0957,  0.1767, -0.1644, -0.1176, -0.0360, -0.0837],\n",
      "        [ 0.1616, -0.2324,  0.2024,  0.1432, -0.1378, -0.1318,  0.0389, -0.0190,\n",
      "         -0.2217,  0.2045,  0.1967,  0.2001,  0.1187, -0.1740, -0.1315, -0.1056],\n",
      "        [ 0.0693,  0.1348, -0.0118, -0.2460, -0.1585, -0.1195, -0.1683,  0.1287,\n",
      "          0.0112, -0.1784, -0.1517, -0.1826, -0.1732,  0.0938, -0.1313, -0.2141],\n",
      "        [ 0.0181, -0.0150, -0.2073,  0.0674,  0.0213,  0.0327,  0.1098, -0.1262,\n",
      "         -0.2185,  0.1616,  0.2268,  0.2322,  0.1334,  0.2298,  0.0706, -0.2181],\n",
      "        [ 0.0744, -0.1912, -0.2355,  0.0967, -0.1324, -0.1806,  0.2361,  0.0797,\n",
      "          0.1068, -0.0746,  0.0935, -0.0039, -0.0584, -0.0477,  0.1855, -0.1709],\n",
      "        [-0.0771,  0.1826, -0.0116,  0.1227, -0.1060,  0.1677, -0.1777, -0.1341,\n",
      "         -0.2199, -0.1997,  0.1574,  0.1616,  0.1340,  0.1237,  0.1696,  0.1521],\n",
      "        [ 0.1471, -0.1227,  0.1873,  0.1660,  0.0775, -0.0450,  0.2186, -0.0166,\n",
      "         -0.2330, -0.0939, -0.0064,  0.1188,  0.0672,  0.0432,  0.2127,  0.1634],\n",
      "        [-0.1420, -0.0907, -0.0238, -0.0142, -0.1906, -0.0670,  0.1894, -0.2424,\n",
      "          0.0360,  0.0506, -0.0799, -0.0850, -0.1253, -0.2272, -0.2254,  0.1329],\n",
      "        [-0.0075, -0.0109, -0.0410, -0.2365, -0.0408, -0.2305,  0.1232, -0.0877,\n",
      "         -0.0850,  0.0881, -0.1714, -0.1627, -0.1387, -0.0564, -0.1580, -0.2491],\n",
      "        [ 0.1118,  0.1359, -0.1032, -0.1922,  0.1692, -0.1518, -0.1938, -0.2255,\n",
      "          0.0619,  0.0567,  0.2380, -0.0983, -0.1562,  0.2442,  0.1718, -0.2213],\n",
      "        [-0.2342,  0.0931, -0.1245,  0.0436, -0.0164, -0.0778,  0.2134,  0.0820,\n",
      "          0.0752, -0.1876, -0.0878,  0.1169,  0.1374,  0.0266, -0.2449, -0.1345],\n",
      "        [ 0.2463,  0.2030,  0.1316, -0.1460, -0.1349,  0.0904, -0.2093, -0.0292,\n",
      "          0.0958,  0.0985,  0.1230,  0.0150,  0.1678, -0.2445, -0.1290, -0.0771],\n",
      "        [ 0.1462, -0.1952,  0.1844, -0.1448, -0.0755,  0.1850,  0.2447,  0.0750,\n",
      "         -0.0534,  0.1769, -0.0121,  0.1507,  0.1013, -0.0055,  0.2359,  0.1205],\n",
      "        [ 0.2348,  0.2361,  0.0483, -0.1170, -0.0841, -0.0398, -0.0816,  0.0261,\n",
      "          0.2430,  0.1647,  0.0685,  0.1299, -0.1411,  0.1005,  0.2190,  0.0809],\n",
      "        [ 0.0038,  0.2019, -0.2056,  0.1411, -0.0484, -0.2304,  0.1402, -0.0500,\n",
      "         -0.0562, -0.1143, -0.0825, -0.0384, -0.2455,  0.1216,  0.0323,  0.0928],\n",
      "        [ 0.2488, -0.0558, -0.1500, -0.1623, -0.0345, -0.0487,  0.0890,  0.0178,\n",
      "          0.0833, -0.1274, -0.2153,  0.0093,  0.0529, -0.1196, -0.0892, -0.0441],\n",
      "        [-0.2235,  0.2333,  0.1801, -0.1825, -0.2382,  0.2177,  0.2076, -0.2245,\n",
      "          0.0530, -0.1588, -0.1840, -0.1739,  0.0078,  0.2309,  0.1165, -0.2309],\n",
      "        [ 0.1348,  0.2269,  0.1764,  0.2310, -0.1454, -0.1272,  0.1389, -0.1969,\n",
      "         -0.0707,  0.1795,  0.0768, -0.0669,  0.1000, -0.1169, -0.1267,  0.0750],\n",
      "        [-0.1207,  0.1740,  0.1115,  0.1518,  0.1795,  0.0315, -0.0923, -0.2100,\n",
      "         -0.0724, -0.2103,  0.1520,  0.0195, -0.1062, -0.0078,  0.1804, -0.1095]],\n",
      "       device='cuda:0')\n",
      "encoder.layers.0.mha.W_h.weight tensor([[ 0.0341,  0.0213, -0.0239, -0.0411,  0.0662, -0.0571, -0.1452,  0.0399,\n",
      "         -0.1028, -0.0906,  0.0050,  0.0850, -0.0513, -0.1062,  0.0817, -0.1092,\n",
      "          0.0382,  0.0503, -0.0042, -0.0454, -0.0238, -0.1000,  0.1163, -0.0158,\n",
      "         -0.0739, -0.0969,  0.0781, -0.1091,  0.0730,  0.0006, -0.1632,  0.1129],\n",
      "        [ 0.0696,  0.0746, -0.0793, -0.1537,  0.0833, -0.1377,  0.0838,  0.1531,\n",
      "         -0.0220, -0.1433,  0.1326, -0.1693, -0.0585, -0.1311,  0.0750,  0.1598,\n",
      "         -0.1131, -0.1015,  0.1434,  0.0868,  0.1237, -0.1267,  0.1652, -0.0642,\n",
      "         -0.0977, -0.0591,  0.0114,  0.1032, -0.0452, -0.1194,  0.0286, -0.1702],\n",
      "        [-0.1408,  0.0380,  0.1573, -0.1022,  0.1002, -0.1101, -0.0607,  0.1753,\n",
      "          0.0480, -0.0746, -0.0796,  0.0389,  0.1099,  0.1329,  0.0130, -0.0892,\n",
      "          0.0881, -0.1480, -0.0057, -0.1629, -0.0371, -0.0010,  0.1448,  0.0405,\n",
      "         -0.1193,  0.0812,  0.0046, -0.1124, -0.1495,  0.0365, -0.1016, -0.0677],\n",
      "        [-0.0906, -0.1316, -0.1144, -0.0263, -0.0043,  0.1194, -0.1451,  0.1513,\n",
      "          0.1632, -0.1709,  0.1138,  0.1443, -0.1345,  0.0917,  0.0753,  0.0926,\n",
      "         -0.0609, -0.0921, -0.0011, -0.0541,  0.0785, -0.1316,  0.1500, -0.0565,\n",
      "          0.1014, -0.0572, -0.0270,  0.0263, -0.1559,  0.0814,  0.1599, -0.1320],\n",
      "        [ 0.0676, -0.1608, -0.0070, -0.0805, -0.1529,  0.0775,  0.1106,  0.0241,\n",
      "          0.0596, -0.0978,  0.1168, -0.1407, -0.0486, -0.0636, -0.0763,  0.1455,\n",
      "          0.1368,  0.0909, -0.0681, -0.1089, -0.0490, -0.0690,  0.0197,  0.0892,\n",
      "          0.1658,  0.1239, -0.1452,  0.1519, -0.1640,  0.0196,  0.0210, -0.0314],\n",
      "        [-0.0545, -0.0762,  0.1014, -0.1127,  0.0349,  0.0638,  0.1351,  0.0034,\n",
      "          0.1523, -0.1730, -0.0977, -0.1536, -0.0051, -0.1093,  0.1180, -0.0840,\n",
      "          0.0150,  0.1494, -0.1742,  0.0729, -0.1506,  0.0857, -0.0463, -0.1517,\n",
      "          0.0291,  0.0129,  0.0615,  0.1060, -0.0182, -0.0820,  0.1728, -0.0546],\n",
      "        [ 0.1512,  0.1179, -0.1734, -0.0512,  0.0114, -0.1417,  0.0302, -0.0731,\n",
      "         -0.0907,  0.1316,  0.0760,  0.1759, -0.0362, -0.0503, -0.1129,  0.0200,\n",
      "          0.1387, -0.0193, -0.0612,  0.1130,  0.0062,  0.0251,  0.1666,  0.1693,\n",
      "          0.1690, -0.1597,  0.0300,  0.1437,  0.1567, -0.1534,  0.1304, -0.0817],\n",
      "        [-0.0885, -0.0996, -0.0940, -0.0276, -0.0032, -0.0775,  0.1136, -0.1015,\n",
      "          0.1575, -0.1595,  0.0583, -0.1083, -0.0983,  0.0419, -0.0331, -0.1186,\n",
      "         -0.0104, -0.1274, -0.1051,  0.1045,  0.0110, -0.0499,  0.1415,  0.0217,\n",
      "          0.1278,  0.0732,  0.0145, -0.0651, -0.0777,  0.1548,  0.0378,  0.1507],\n",
      "        [ 0.1056, -0.0100, -0.1629,  0.0713, -0.0392,  0.0354, -0.0644,  0.1389,\n",
      "          0.1702, -0.1048, -0.0420, -0.1316,  0.0856, -0.1281, -0.1367, -0.1292,\n",
      "         -0.1426,  0.1366, -0.0761,  0.1093, -0.0489, -0.0533, -0.0484, -0.1434,\n",
      "          0.0507, -0.0711,  0.0529, -0.1506,  0.0277,  0.1436, -0.0543,  0.0377],\n",
      "        [-0.1745, -0.0722,  0.1464,  0.0701,  0.0648,  0.0767, -0.0361, -0.0750,\n",
      "          0.1664, -0.0648, -0.0141, -0.1340,  0.1355, -0.0578, -0.0659, -0.1100,\n",
      "          0.0411, -0.1369,  0.1523,  0.1300, -0.1345, -0.1622,  0.0462, -0.1051,\n",
      "         -0.1752,  0.1110, -0.0445,  0.0366,  0.0189, -0.1103, -0.0867,  0.0615],\n",
      "        [-0.1561, -0.0243, -0.0156, -0.0980,  0.1747, -0.1567, -0.1515, -0.1278,\n",
      "          0.1002, -0.1505,  0.1073,  0.1716,  0.1659,  0.1647,  0.0287, -0.1546,\n",
      "          0.0433,  0.0728, -0.0134, -0.1549,  0.1334,  0.0341,  0.1191, -0.0196,\n",
      "         -0.1580,  0.1505, -0.1730, -0.1263,  0.1615, -0.0509,  0.0960,  0.1083],\n",
      "        [-0.0208, -0.0355,  0.0785, -0.0359,  0.0731, -0.0560, -0.0970, -0.1117,\n",
      "         -0.1757, -0.0538, -0.0808,  0.0559,  0.0015, -0.1169, -0.1281, -0.0265,\n",
      "          0.0637,  0.0104,  0.0206, -0.0949, -0.0795, -0.0243,  0.0737, -0.1622,\n",
      "          0.0751,  0.0993, -0.1747,  0.0742,  0.0267,  0.0704, -0.0981,  0.1114],\n",
      "        [-0.1021, -0.0769,  0.0569, -0.0381,  0.1232, -0.0205, -0.1378, -0.1473,\n",
      "          0.0091, -0.1378,  0.1580,  0.1537,  0.1064, -0.1349, -0.0406,  0.1304,\n",
      "          0.0360,  0.0139, -0.0137, -0.0970, -0.0562,  0.1030, -0.0344, -0.0474,\n",
      "          0.0871, -0.0851, -0.0262,  0.1469,  0.0253,  0.0805, -0.0872,  0.0855],\n",
      "        [-0.0958,  0.1730, -0.0489, -0.1290, -0.0382,  0.1302,  0.1387,  0.0125,\n",
      "          0.1230, -0.0590, -0.0175,  0.1300, -0.0019,  0.0373,  0.1051,  0.0137,\n",
      "         -0.1030,  0.0192, -0.0107, -0.0175,  0.1710,  0.1508, -0.1601, -0.0643,\n",
      "         -0.0195,  0.1019, -0.0388, -0.0272, -0.0458, -0.1101, -0.1519, -0.1405],\n",
      "        [ 0.0335,  0.0824, -0.0113,  0.1628, -0.0307,  0.1317, -0.0296, -0.0983,\n",
      "          0.0174, -0.1762,  0.0663,  0.0374,  0.0824,  0.0922,  0.1518, -0.1160,\n",
      "         -0.1666,  0.0151, -0.0781,  0.0009,  0.1532,  0.0188,  0.0212, -0.1471,\n",
      "          0.0009, -0.1418, -0.0442,  0.1216, -0.0144,  0.0744,  0.0601,  0.1191],\n",
      "        [ 0.0567, -0.1568, -0.0137,  0.0162, -0.0744, -0.1333, -0.1140,  0.0816,\n",
      "         -0.0609, -0.0160,  0.0536,  0.1167,  0.0913,  0.0791,  0.1601,  0.0325,\n",
      "         -0.0780,  0.0800, -0.0171,  0.1741, -0.1367, -0.1031,  0.1148, -0.1158,\n",
      "          0.0966, -0.1167,  0.0541,  0.1520,  0.0707, -0.1053,  0.0707, -0.0015]],\n",
      "       device='cuda:0')\n",
      "encoder.layers.0.layernorm1.weight tensor([1., 1., 1., 1., 1., 1., 1., 1., 1., 1., 1., 1., 1., 1., 1., 1.],\n",
      "       device='cuda:0')\n",
      "encoder.layers.0.layernorm1.bias tensor([0., 0., 0., 0., 0., 0., 0., 0., 0., 0., 0., 0., 0., 0., 0., 0.],\n",
      "       device='cuda:0')\n",
      "encoder.layers.0.cnn.k1convL1.weight tensor([[-0.0516, -0.2461, -0.1648,  ...,  0.0495, -0.0273,  0.2275],\n",
      "        [-0.0931, -0.2310, -0.1460,  ...,  0.1794, -0.0308, -0.1055],\n",
      "        [-0.0900, -0.0654, -0.2234,  ...,  0.0799,  0.1673,  0.1401],\n",
      "        ...,\n",
      "        [-0.0123, -0.1300, -0.0644,  ...,  0.0286,  0.1536,  0.2288],\n",
      "        [-0.1312,  0.2113, -0.1330,  ..., -0.1108,  0.1978,  0.0676],\n",
      "        [ 0.1687, -0.2426,  0.0582,  ...,  0.0476,  0.1721,  0.0309]],\n",
      "       device='cuda:0')\n",
      "encoder.layers.0.cnn.k1convL1.bias tensor([ 1.5598e-01,  1.1768e-01, -1.6607e-01, -2.1489e-01, -1.2471e-01,\n",
      "        -1.4499e-01, -1.8720e-01,  5.4619e-02, -1.9497e-01, -1.8227e-01,\n",
      "        -8.6048e-02, -2.3576e-01, -1.5665e-01, -5.5180e-02,  1.5823e-02,\n",
      "         1.0647e-01,  2.2206e-01, -4.9610e-02, -1.4797e-01, -1.5595e-01,\n",
      "        -1.8093e-01,  1.6118e-01,  2.2087e-01,  6.2491e-02,  6.1448e-02,\n",
      "         8.1556e-02,  1.6848e-01,  1.3977e-01,  1.6639e-01,  8.5117e-02,\n",
      "         3.1398e-02, -6.5594e-02,  1.5525e-01,  7.1827e-02,  1.5496e-01,\n",
      "         2.3807e-01,  1.8708e-01,  2.3025e-01,  1.8831e-01, -6.0860e-02,\n",
      "        -9.4051e-02,  5.3827e-02,  1.5597e-01, -2.0812e-01,  7.5235e-02,\n",
      "         1.1443e-01, -1.2002e-01, -1.2593e-01, -1.1483e-01,  2.4546e-01,\n",
      "        -1.2039e-02, -1.4013e-01,  1.2254e-01, -1.7033e-01, -2.4014e-01,\n",
      "         1.6555e-01, -3.3498e-05,  2.0193e-02,  1.4364e-01, -3.2742e-02,\n",
      "        -2.1733e-02, -4.2821e-02,  1.3138e-01, -4.9436e-02,  1.6396e-02,\n",
      "        -1.6797e-01, -1.0934e-01, -2.0921e-01,  1.7317e-01,  2.0970e-01,\n",
      "         1.0023e-01,  9.2681e-02, -1.1652e-01,  8.2154e-02,  1.0326e-01,\n",
      "         2.3378e-01, -2.0375e-01, -1.5060e-01, -1.2524e-01,  2.0167e-01,\n",
      "        -2.9483e-03,  1.9850e-01, -9.2774e-02, -3.6893e-02,  3.8439e-02,\n",
      "        -6.6556e-02,  1.9132e-01,  1.7780e-01, -1.9990e-01, -1.1263e-01,\n",
      "         1.6423e-01,  1.5820e-01,  4.0018e-03,  2.0306e-01,  2.5115e-02,\n",
      "        -2.4162e-01, -8.2929e-02,  1.7608e-01, -5.4783e-02, -1.8515e-01,\n",
      "        -5.6927e-02, -1.4841e-01,  1.0307e-01,  7.9680e-02, -1.1478e-01,\n",
      "         6.6700e-02,  1.7274e-01,  1.9063e-01,  3.7568e-02,  8.9740e-02,\n",
      "        -1.0242e-01, -1.7673e-01,  1.0999e-01,  7.5926e-02,  2.0414e-01,\n",
      "        -2.4579e-03,  1.5253e-01,  1.5137e-01,  7.4936e-03, -1.4806e-01,\n",
      "        -2.1066e-01,  1.7120e-01, -2.4055e-01,  1.1151e-01, -1.0418e-01,\n",
      "        -2.3607e-02,  1.3292e-01, -2.4780e-01], device='cuda:0')\n",
      "encoder.layers.0.cnn.k1convL2.weight tensor([[ 0.0622,  0.0045,  0.0550,  ...,  0.0348, -0.0262,  0.0854],\n",
      "        [-0.0649,  0.0602,  0.0866,  ..., -0.0169, -0.0248,  0.0631],\n",
      "        [ 0.0799,  0.0835, -0.0492,  ..., -0.0243, -0.0684,  0.0345],\n",
      "        ...,\n",
      "        [-0.0281, -0.0054,  0.0546,  ...,  0.0756, -0.0146,  0.0437],\n",
      "        [-0.0403, -0.0517,  0.0698,  ..., -0.0490, -0.0125,  0.0375],\n",
      "        [-0.0104,  0.0286, -0.0594,  ..., -0.0144,  0.0245, -0.0490]],\n",
      "       device='cuda:0')\n",
      "encoder.layers.0.cnn.k1convL2.bias tensor([-0.0240, -0.0475, -0.0198,  0.0457, -0.0374, -0.0119, -0.0579,  0.0247,\n",
      "        -0.0568,  0.0205, -0.0880,  0.0345,  0.0318, -0.0670, -0.0113, -0.0530],\n",
      "       device='cuda:0')\n",
      "encoder.layers.0.layernorm2.weight tensor([1., 1., 1., 1., 1., 1., 1., 1., 1., 1., 1., 1., 1., 1., 1., 1.],\n",
      "       device='cuda:0')\n",
      "encoder.layers.0.layernorm2.bias tensor([0., 0., 0., 0., 0., 0., 0., 0., 0., 0., 0., 0., 0., 0., 0., 0.],\n",
      "       device='cuda:0')\n",
      "output_layer.weight tensor([[-0.0101,  0.0098, -0.0121,  ..., -0.0158,  0.0134, -0.0163],\n",
      "        [ 0.0198,  0.0188, -0.0141,  ...,  0.0084, -0.0191, -0.0031],\n",
      "        [ 0.0128,  0.0132,  0.0100,  ..., -0.0171, -0.0183,  0.0041],\n",
      "        [ 0.0160,  0.0203, -0.0148,  ...,  0.0087,  0.0013, -0.0135],\n",
      "        [ 0.0022, -0.0134, -0.0010,  ...,  0.0043, -0.0087,  0.0192]],\n",
      "       device='cuda:0')\n",
      "output_layer.bias tensor([ 0.0062,  0.0064,  0.0185, -0.0040,  0.0112], device='cuda:0')\n"
     ]
    }
   ],
   "source": [
    "for name, param in model.named_parameters():\n",
    "    if param.requires_grad:\n",
    "        print (name, param.data)"
   ]
  },
  {
   "cell_type": "markdown",
   "id": "0d45df04-5808-4881-bd01-a063217afd77",
   "metadata": {},
   "source": [
    "## Treino"
   ]
  },
  {
   "cell_type": "markdown",
   "id": "21308614-e40b-4e81-8096-e9a8697993ae",
   "metadata": {},
   "source": [
    "Função para treino do modelo"
   ]
  },
  {
   "cell_type": "code",
   "execution_count": 52,
   "id": "41181ba3-a0c6-4080-a2a5-e41bcda53fc1",
   "metadata": {},
   "outputs": [],
   "source": [
    "def train(model, train_data_gen, criterion, optimizer):\n",
    "    \n",
    "    # Colocar o modelo no modo de treinamento, isso liga camadas que se comportam de forma diferente na inferência (p exp: desliga dropout)\n",
    "    model.train()\n",
    "\n",
    "    # Guardar o número de sequências que foram classificadas corretamente\n",
    "    num_correct = 0\n",
    "    \n",
    "    # Itera sobre cada batch com as sequências para treino (__len__(gerador))\n",
    "    for batch_idx, (data, target) in enumerate(train_data_gen): # targets não são usados por ser um autoencoder - non supervised\n",
    "\n",
    "        # Dispositivo para treino: CPU ou GPU\n",
    "        data = data.to(device)\n",
    "        target = target.to(device)\n",
    "        \n",
    "        # Loop de treinamento - passo a passo\n",
    "        output = model(data)             # forward pass\n",
    "        loss = criterion(output, target) # loss\n",
    "        optimizer.zero_grad()            # zera gradientes - lembre-se que são acumulados\n",
    "        loss.backward()                  # back propagate\n",
    "        optimizer.step()                 # atualiza parâmetros via SGD\n",
    "\n",
    "        # Avalia, valida e monitora\n",
    "        y_pred = output.argmax(dim= 1)                 # índice com o máximo logits - classe\n",
    "        num_correct += (y_pred == target).sum().item() # acumula previsões corretas\n",
    "\n",
    "    return num_correct, loss.item()"
   ]
  },
  {
   "cell_type": "markdown",
   "id": "08eaa920-6b0f-4116-84b5-86b34efa4b16",
   "metadata": {},
   "source": [
    "Função para teste do modelo"
   ]
  },
  {
   "cell_type": "code",
   "execution_count": 53,
   "id": "8703aec3-97c9-4e0c-9924-fda64f488267",
   "metadata": {},
   "outputs": [],
   "source": [
    "def test(model, test_data_gen, criterion, verbose):\n",
    "\n",
    "    # Colocar o modelo no modo de inferência, isso desliga camadas que se comportam de forma diferente no treinamento (p exp: desliga dropout)\n",
    "    model.eval()\n",
    "\n",
    "    # Guardar o número de sequências que foram classificadas corretamente\n",
    "    num_correct = 0\n",
    "\n",
    "    Y_pred = []\n",
    "    # Um context manager é usado para disabilitar o cálculo do gradiente durante a inferência para reduzir consumo de memória, já que os gradientes não são necessários aqui.\n",
    "    with torch.no_grad():\n",
    "        # Itera sobre cada batch com as sequências para treino (__len__(gerador))\n",
    "        for batch_idx, (data, target) in enumerate(test_data_gen): # targets não são usados por ser um autoencoder - non supervised\n",
    "\n",
    "            # Dispositivo para treino: CPU ou GPU\n",
    "            data = data.to(device)\n",
    "            target = target.to(device)\n",
    "            \n",
    "            # Loop de teste - passo a passo\n",
    "            output = model(data)                           # forward pass\n",
    "            loss = criterion(output, target)               # loss\n",
    "\n",
    "            # Avalia, valida e monitora\n",
    "            y_pred = output.argmax(dim= 1)                 # índice com o máximo logits - classe\n",
    "            num_correct += (y_pred == target).sum().item() # acumula previsões corretas\n",
    "\n",
    "            Y_pred.append(y_pred)\n",
    "        \n",
    "        Y_pred = torch.cat(Y_pred)\n",
    "\n",
    "        if verbose:\n",
    "            print(classification_report(test_data_gen.Y_samples.numpy(), Y_pred.cpu().numpy(), target_names= class_names, zero_division= 0))\n",
    "        \n",
    "    return num_correct, loss.item()"
   ]
  },
  {
   "cell_type": "markdown",
   "id": "622e874e-2600-469f-81d8-c7776f2d5f54",
   "metadata": {},
   "source": [
    "*Loop* de treino e teste integrados"
   ]
  },
  {
   "cell_type": "code",
   "execution_count": 54,
   "id": "19b9cf22-ead1-40f5-b7a4-9f1ce6d07a3a",
   "metadata": {},
   "outputs": [],
   "source": [
    "def train_and_test(model, train_data_gen, test_data_gen, criterion, optimizer, max_epochs, verbose= True):\n",
    "\n",
    "    # Move modelo para o device correto disponível (GPU ou CPU) que será usado para treino e teste\n",
    "    model.to(device)\n",
    "\n",
    "    # Loop de treinamento e testes integrados\n",
    "    history_train = {'loss': [], 'acc': []} # dict para avaliar, validar e monitorar\n",
    "    history_test = {'loss': [], 'acc': []}  # dict para avaliar, validar e monitorar\n",
    "    for epoch in range(max_epochs):\n",
    "        \n",
    "        # Treina\n",
    "        num_correct, loss = train(model, train_data_gen, criterion, optimizer)\n",
    "        \n",
    "        # Avalia, valida e monitora\n",
    "        accuracy = float(num_correct) / (train_data_gen.n_series) * 100\n",
    "        history_train['loss'].append(loss)\n",
    "        history_train['acc'].append(accuracy)\n",
    "\n",
    "        # Testa\n",
    "        num_correct, loss = test(model, test_data_gen, criterion, (epoch%5==0))\n",
    "        \n",
    "        # Avalia, valida e monitora\n",
    "        accuracy = float(num_correct) / (test_data_gen.n_series) * 100\n",
    "        history_test['loss'].append(loss)\n",
    "        history_test['acc'].append(accuracy)\n",
    "\n",
    "        if verbose or epoch + 1 == max_epochs:\n",
    "            print(f'[Epoch {epoch + 1}/{max_epochs}]'\n",
    "                  f\" loss: {history_train['loss'][-1]:.4f}, acc: {history_train['acc'][-1]:2.2f}%\"\n",
    "                  f\" - test_loss: {history_test['loss'][-1]:.4f}, test_acc: {history_test['acc'][-1]:2.2f}%\")\n",
    "\n",
    "    # Avalia, valida e monitora - plota\n",
    "    fig, axs = plt.subplots(ncols= 2, figsize= (9, 4.5))\n",
    "    for ax, metric in zip(axs, ['loss', 'acc']):\n",
    "        ax.plot(history_train[metric])\n",
    "        ax.plot(history_test[metric])\n",
    "        ax.set_xlabel('epoch', fontsize=12)\n",
    "        ax.set_ylabel(metric, fontsize=12)\n",
    "        ax.legend(['Train', 'Test'], loc='best')\n",
    "    plt.show()\n",
    "\n",
    "    return model"
   ]
  },
  {
   "cell_type": "markdown",
   "id": "55a74e1e-0bf9-4a2a-a0a3-5f22649aaf44",
   "metadata": {},
   "source": [
    "## *Time Series Transformer Classifier*"
   ]
  },
  {
   "cell_type": "code",
   "execution_count": 55,
   "id": "cca9e580-0966-4f65-b5f2-da50cd86ba64",
   "metadata": {},
   "outputs": [],
   "source": [
    "# Parâmetros:\n",
    "batch_size = 32\n",
    "max_epochs = 100\n",
    "\n",
    "# Dados\n",
    "data_train_loader = ECG_Data(data_train, target_train, batch_size)\n",
    "data_test_loader = ECG_Data(data_test, target_test, batch_size)\n",
    "\n",
    "n_batches = data_train_loader.n_batches\n",
    "seq_len = data_train_loader.seq_len\n",
    "n_features = data_train_loader.n_features\n",
    "n_class = data_train_loader.n_class"
   ]
  },
  {
   "cell_type": "code",
   "execution_count": 56,
   "id": "0e927ce2-c9dc-4911-8ef3-a9e76e07e7f2",
   "metadata": {},
   "outputs": [],
   "source": [
    "# Parâmetros do modelo\n",
    "num_layers = 1\n",
    "d_data_x = 4\n",
    "num_heads= 2\n",
    "conv_hidden_dim = 16\n",
    "enc_pos_train_flag = False\n",
    "dropout_p = 0.1"
   ]
  },
  {
   "cell_type": "markdown",
   "id": "a7cc76b1-f242-4b22-956e-e670d0322353",
   "metadata": {},
   "source": [
    "*Positional Encoder* clássico"
   ]
  },
  {
   "cell_type": "code",
   "execution_count": 57,
   "id": "dabe994c-caac-4144-b45f-37e6955080fa",
   "metadata": {},
   "outputs": [
    {
     "name": "stdout",
     "output_type": "stream",
     "text": [
      "              precision    recall  f1-score   support\n",
      "\n",
      "      Normal       0.98      0.97      0.97       584\n",
      "      R on T       0.97      0.38      0.55       353\n",
      "         PVC       0.00      0.00      0.00        19\n",
      "          SP       0.12      0.85      0.21        39\n",
      "          UB       0.00      0.00      0.00         5\n",
      "\n",
      "    accuracy                           0.73      1000\n",
      "   macro avg       0.41      0.44      0.35      1000\n",
      "weighted avg       0.92      0.73      0.77      1000\n",
      "\n",
      "[Epoch 1/100] loss: 0.8144, acc: 73.15% - test_loss: 0.9250, test_acc: 73.30%\n",
      "[Epoch 2/100] loss: 0.6058, acc: 81.45% - test_loss: 0.7995, test_acc: 77.50%\n",
      "[Epoch 3/100] loss: 0.6082, acc: 82.05% - test_loss: 0.7941, test_acc: 81.10%\n",
      "[Epoch 4/100] loss: 0.5119, acc: 82.25% - test_loss: 0.7651, test_acc: 83.60%\n",
      "[Epoch 5/100] loss: 0.6140, acc: 83.33% - test_loss: 0.7610, test_acc: 85.50%\n",
      "              precision    recall  f1-score   support\n",
      "\n",
      "      Normal       0.99      0.98      0.98       584\n",
      "      R on T       0.97      0.67      0.79       353\n",
      "         PVC       0.78      0.37      0.50        19\n",
      "          SP       0.20      0.79      0.31        39\n",
      "          UB       0.30      0.60      0.40         5\n",
      "\n",
      "    accuracy                           0.85      1000\n",
      "   macro avg       0.65      0.68      0.60      1000\n",
      "weighted avg       0.94      0.85      0.88      1000\n",
      "\n",
      "[Epoch 6/100] loss: 0.6648, acc: 83.28% - test_loss: 0.7003, test_acc: 84.80%\n",
      "[Epoch 7/100] loss: 0.6497, acc: 83.40% - test_loss: 0.7014, test_acc: 83.90%\n",
      "[Epoch 8/100] loss: 0.6234, acc: 83.88% - test_loss: 0.6719, test_acc: 82.70%\n",
      "[Epoch 9/100] loss: 0.5294, acc: 83.00% - test_loss: 0.6701, test_acc: 86.30%\n",
      "[Epoch 10/100] loss: 0.4823, acc: 83.75% - test_loss: 0.7072, test_acc: 87.00%\n",
      "              precision    recall  f1-score   support\n",
      "\n",
      "      Normal       0.99      0.98      0.99       584\n",
      "      R on T       0.95      0.73      0.83       353\n",
      "         PVC       0.70      0.37      0.48        19\n",
      "          SP       0.22      0.72      0.34        39\n",
      "          UB       0.33      0.60      0.43         5\n",
      "\n",
      "    accuracy                           0.87      1000\n",
      "   macro avg       0.64      0.68      0.61      1000\n",
      "weighted avg       0.94      0.87      0.89      1000\n",
      "\n",
      "[Epoch 11/100] loss: 0.5866, acc: 84.28% - test_loss: 0.7350, test_acc: 87.10%\n",
      "[Epoch 12/100] loss: 0.5441, acc: 84.28% - test_loss: 0.6884, test_acc: 87.10%\n",
      "[Epoch 13/100] loss: 0.4337, acc: 84.00% - test_loss: 0.6447, test_acc: 87.60%\n",
      "[Epoch 14/100] loss: 0.3514, acc: 84.60% - test_loss: 0.6864, test_acc: 87.40%\n",
      "[Epoch 15/100] loss: 0.5172, acc: 84.78% - test_loss: 0.8059, test_acc: 87.70%\n",
      "              precision    recall  f1-score   support\n",
      "\n",
      "      Normal       0.99      0.97      0.98       584\n",
      "      R on T       0.95      0.79      0.86       353\n",
      "         PVC       0.64      0.37      0.47        19\n",
      "          SP       0.23      0.67      0.35        39\n",
      "          UB       0.25      0.60      0.35         5\n",
      "\n",
      "    accuracy                           0.88      1000\n",
      "   macro avg       0.61      0.68      0.60      1000\n",
      "weighted avg       0.94      0.88      0.90      1000\n",
      "\n",
      "[Epoch 16/100] loss: 0.6171, acc: 84.55% - test_loss: 0.7302, test_acc: 88.30%\n",
      "[Epoch 17/100] loss: 0.6104, acc: 85.42% - test_loss: 0.7442, test_acc: 85.10%\n",
      "[Epoch 18/100] loss: 0.4357, acc: 85.12% - test_loss: 0.7418, test_acc: 83.80%\n",
      "[Epoch 19/100] loss: 0.4819, acc: 84.72% - test_loss: 0.7209, test_acc: 88.70%\n",
      "[Epoch 20/100] loss: 0.7327, acc: 85.52% - test_loss: 0.7217, test_acc: 84.20%\n",
      "              precision    recall  f1-score   support\n",
      "\n",
      "      Normal       0.99      0.97      0.98       584\n",
      "      R on T       0.95      0.78      0.86       353\n",
      "         PVC       0.58      0.37      0.45        19\n",
      "          SP       0.23      0.67      0.34        39\n",
      "          UB       0.30      0.60      0.40         5\n",
      "\n",
      "    accuracy                           0.88      1000\n",
      "   macro avg       0.61      0.68      0.61      1000\n",
      "weighted avg       0.93      0.88      0.90      1000\n",
      "\n",
      "[Epoch 21/100] loss: 0.4330, acc: 85.95% - test_loss: 0.7642, test_acc: 88.00%\n",
      "[Epoch 22/100] loss: 0.4220, acc: 85.08% - test_loss: 0.6867, test_acc: 84.80%\n",
      "[Epoch 23/100] loss: 0.4122, acc: 85.50% - test_loss: 0.7729, test_acc: 88.20%\n",
      "[Epoch 24/100] loss: 0.4821, acc: 84.80% - test_loss: 0.6814, test_acc: 83.60%\n",
      "[Epoch 25/100] loss: 0.4029, acc: 85.28% - test_loss: 0.7635, test_acc: 87.10%\n",
      "              precision    recall  f1-score   support\n",
      "\n",
      "      Normal       0.99      0.97      0.98       584\n",
      "      R on T       0.95      0.75      0.83       353\n",
      "         PVC       0.54      0.37      0.44        19\n",
      "          SP       0.21      0.69      0.33        39\n",
      "          UB       0.20      0.40      0.27         5\n",
      "\n",
      "    accuracy                           0.87      1000\n",
      "   macro avg       0.58      0.64      0.57      1000\n",
      "weighted avg       0.93      0.87      0.89      1000\n",
      "\n",
      "[Epoch 26/100] loss: 0.4109, acc: 86.10% - test_loss: 0.7064, test_acc: 86.70%\n",
      "[Epoch 27/100] loss: 0.5013, acc: 85.78% - test_loss: 0.7162, test_acc: 85.00%\n",
      "[Epoch 28/100] loss: 0.4610, acc: 86.30% - test_loss: 0.7577, test_acc: 88.00%\n",
      "[Epoch 29/100] loss: 0.3802, acc: 86.78% - test_loss: 0.8041, test_acc: 88.00%\n",
      "[Epoch 30/100] loss: 0.4654, acc: 85.60% - test_loss: 0.6728, test_acc: 84.60%\n",
      "              precision    recall  f1-score   support\n",
      "\n",
      "      Normal       0.99      0.97      0.98       584\n",
      "      R on T       0.95      0.85      0.90       353\n",
      "         PVC       0.60      0.47      0.53        19\n",
      "          SP       0.29      0.64      0.40        39\n",
      "          UB       0.18      0.40      0.25         5\n",
      "\n",
      "    accuracy                           0.90      1000\n",
      "   macro avg       0.60      0.67      0.61      1000\n",
      "weighted avg       0.94      0.90      0.92      1000\n",
      "\n",
      "[Epoch 31/100] loss: 0.4713, acc: 84.82% - test_loss: 0.7614, test_acc: 90.40%\n",
      "[Epoch 32/100] loss: 0.4320, acc: 87.00% - test_loss: 0.8179, test_acc: 87.30%\n",
      "[Epoch 33/100] loss: 0.5213, acc: 86.40% - test_loss: 0.7516, test_acc: 87.30%\n",
      "[Epoch 34/100] loss: 0.6222, acc: 86.00% - test_loss: 0.8359, test_acc: 85.00%\n",
      "[Epoch 35/100] loss: 0.3615, acc: 86.70% - test_loss: 0.8166, test_acc: 88.30%\n",
      "              precision    recall  f1-score   support\n",
      "\n",
      "      Normal       0.99      0.98      0.99       584\n",
      "      R on T       0.95      0.75      0.83       353\n",
      "         PVC       0.64      0.37      0.47        19\n",
      "          SP       0.22      0.69      0.33        39\n",
      "          UB       0.25      0.60      0.35         5\n",
      "\n",
      "    accuracy                           0.87      1000\n",
      "   macro avg       0.61      0.68      0.59      1000\n",
      "weighted avg       0.94      0.87      0.89      1000\n",
      "\n",
      "[Epoch 36/100] loss: 0.5241, acc: 86.58% - test_loss: 0.8393, test_acc: 87.20%\n",
      "[Epoch 37/100] loss: 0.5122, acc: 85.17% - test_loss: 0.7861, test_acc: 90.30%\n",
      "[Epoch 38/100] loss: 0.4876, acc: 86.22% - test_loss: 0.7951, test_acc: 87.60%\n",
      "[Epoch 39/100] loss: 0.5187, acc: 85.42% - test_loss: 0.7795, test_acc: 88.60%\n",
      "[Epoch 40/100] loss: 0.4216, acc: 85.42% - test_loss: 0.9281, test_acc: 85.90%\n",
      "              precision    recall  f1-score   support\n",
      "\n",
      "      Normal       0.99      0.98      0.99       584\n",
      "      R on T       0.95      0.84      0.89       353\n",
      "         PVC       0.58      0.37      0.45        19\n",
      "          SP       0.28      0.62      0.38        39\n",
      "          UB       0.27      0.60      0.37         5\n",
      "\n",
      "    accuracy                           0.90      1000\n",
      "   macro avg       0.61      0.68      0.62      1000\n",
      "weighted avg       0.94      0.90      0.92      1000\n",
      "\n",
      "[Epoch 41/100] loss: 0.4007, acc: 86.65% - test_loss: 0.8658, test_acc: 90.30%\n",
      "[Epoch 42/100] loss: 0.3288, acc: 86.25% - test_loss: 0.8795, test_acc: 88.50%\n",
      "[Epoch 43/100] loss: 0.4537, acc: 86.10% - test_loss: 0.8001, test_acc: 90.00%\n",
      "[Epoch 44/100] loss: 0.7441, acc: 86.58% - test_loss: 0.9272, test_acc: 88.70%\n",
      "[Epoch 45/100] loss: 0.4430, acc: 86.55% - test_loss: 0.8516, test_acc: 90.00%\n",
      "              precision    recall  f1-score   support\n",
      "\n",
      "      Normal       0.99      0.98      0.99       584\n",
      "      R on T       0.95      0.85      0.90       353\n",
      "         PVC       0.56      0.53      0.54        19\n",
      "          SP       0.30      0.62      0.41        39\n",
      "          UB       0.18      0.40      0.25         5\n",
      "\n",
      "    accuracy                           0.91      1000\n",
      "   macro avg       0.60      0.67      0.62      1000\n",
      "weighted avg       0.94      0.91      0.92      1000\n",
      "\n",
      "[Epoch 46/100] loss: 0.4092, acc: 86.45% - test_loss: 0.8005, test_acc: 90.80%\n",
      "[Epoch 47/100] loss: 0.3304, acc: 86.92% - test_loss: 0.9502, test_acc: 89.20%\n",
      "[Epoch 48/100] loss: 0.4580, acc: 86.85% - test_loss: 0.9832, test_acc: 86.40%\n",
      "[Epoch 49/100] loss: 0.5604, acc: 86.55% - test_loss: 0.9196, test_acc: 88.90%\n",
      "[Epoch 50/100] loss: 0.3845, acc: 87.58% - test_loss: 1.0139, test_acc: 89.20%\n",
      "              precision    recall  f1-score   support\n",
      "\n",
      "      Normal       0.99      0.98      0.99       584\n",
      "      R on T       0.95      0.80      0.87       353\n",
      "         PVC       0.64      0.47      0.55        19\n",
      "          SP       0.26      0.67      0.37        39\n",
      "          UB       0.19      0.60      0.29         5\n",
      "\n",
      "    accuracy                           0.89      1000\n",
      "   macro avg       0.61      0.70      0.61      1000\n",
      "weighted avg       0.94      0.89      0.91      1000\n",
      "\n",
      "[Epoch 51/100] loss: 0.3638, acc: 87.15% - test_loss: 0.9466, test_acc: 89.00%\n",
      "[Epoch 52/100] loss: 0.3862, acc: 86.90% - test_loss: 0.9759, test_acc: 89.70%\n",
      "[Epoch 53/100] loss: 0.4406, acc: 87.40% - test_loss: 0.8517, test_acc: 88.60%\n",
      "[Epoch 54/100] loss: 0.5081, acc: 87.17% - test_loss: 0.8688, test_acc: 89.60%\n",
      "[Epoch 55/100] loss: 0.4855, acc: 85.92% - test_loss: 0.9059, test_acc: 88.10%\n",
      "              precision    recall  f1-score   support\n",
      "\n",
      "      Normal       0.99      0.98      0.99       584\n",
      "      R on T       0.95      0.75      0.84       353\n",
      "         PVC       0.56      0.53      0.54        19\n",
      "          SP       0.23      0.67      0.34        39\n",
      "          UB       0.25      0.60      0.35         5\n",
      "\n",
      "    accuracy                           0.88      1000\n",
      "   macro avg       0.59      0.70      0.61      1000\n",
      "weighted avg       0.93      0.88      0.90      1000\n",
      "\n",
      "[Epoch 56/100] loss: 0.7546, acc: 86.92% - test_loss: 0.8101, test_acc: 87.50%\n",
      "[Epoch 57/100] loss: 0.4159, acc: 87.10% - test_loss: 0.9809, test_acc: 88.40%\n",
      "[Epoch 58/100] loss: 0.4254, acc: 88.02% - test_loss: 0.9468, test_acc: 88.90%\n",
      "[Epoch 59/100] loss: 0.3688, acc: 88.10% - test_loss: 0.8440, test_acc: 90.10%\n",
      "[Epoch 60/100] loss: 0.4006, acc: 88.25% - test_loss: 0.9402, test_acc: 90.50%\n",
      "              precision    recall  f1-score   support\n",
      "\n",
      "      Normal       0.99      0.98      0.99       584\n",
      "      R on T       0.94      0.80      0.87       353\n",
      "         PVC       0.62      0.53      0.57        19\n",
      "          SP       0.26      0.62      0.36        39\n",
      "          UB       0.25      0.60      0.35         5\n",
      "\n",
      "    accuracy                           0.89      1000\n",
      "   macro avg       0.61      0.71      0.63      1000\n",
      "weighted avg       0.94      0.89      0.91      1000\n",
      "\n",
      "[Epoch 61/100] loss: 0.3225, acc: 87.55% - test_loss: 0.8301, test_acc: 89.30%\n",
      "[Epoch 62/100] loss: 0.5265, acc: 87.83% - test_loss: 0.8351, test_acc: 87.40%\n",
      "[Epoch 63/100] loss: 0.3641, acc: 87.48% - test_loss: 0.9809, test_acc: 86.50%\n",
      "[Epoch 64/100] loss: 0.4656, acc: 87.02% - test_loss: 0.9750, test_acc: 88.60%\n",
      "[Epoch 65/100] loss: 0.4131, acc: 87.50% - test_loss: 0.8923, test_acc: 89.00%\n",
      "              precision    recall  f1-score   support\n",
      "\n",
      "      Normal       0.99      0.98      0.99       584\n",
      "      R on T       0.94      0.82      0.87       353\n",
      "         PVC       0.67      0.42      0.52        19\n",
      "          SP       0.27      0.64      0.38        39\n",
      "          UB       0.25      0.80      0.38         5\n",
      "\n",
      "    accuracy                           0.90      1000\n",
      "   macro avg       0.63      0.73      0.63      1000\n",
      "weighted avg       0.94      0.90      0.91      1000\n",
      "\n",
      "[Epoch 66/100] loss: 0.3472, acc: 87.45% - test_loss: 1.1357, test_acc: 89.60%\n",
      "[Epoch 67/100] loss: 0.4828, acc: 87.17% - test_loss: 0.9397, test_acc: 88.90%\n",
      "[Epoch 68/100] loss: 0.3472, acc: 86.85% - test_loss: 1.0377, test_acc: 89.20%\n",
      "[Epoch 69/100] loss: 0.3471, acc: 87.33% - test_loss: 0.9760, test_acc: 89.30%\n",
      "[Epoch 70/100] loss: 0.2942, acc: 88.35% - test_loss: 0.9861, test_acc: 89.30%\n",
      "              precision    recall  f1-score   support\n",
      "\n",
      "      Normal       0.99      0.98      0.99       584\n",
      "      R on T       0.96      0.74      0.83       353\n",
      "         PVC       0.67      0.42      0.52        19\n",
      "          SP       0.25      0.82      0.38        39\n",
      "          UB       0.30      0.60      0.40         5\n",
      "\n",
      "    accuracy                           0.88      1000\n",
      "   macro avg       0.63      0.71      0.62      1000\n",
      "weighted avg       0.94      0.88      0.90      1000\n",
      "\n",
      "[Epoch 71/100] loss: 0.4162, acc: 87.10% - test_loss: 1.0283, test_acc: 87.80%\n",
      "[Epoch 72/100] loss: 0.3970, acc: 86.50% - test_loss: 0.9776, test_acc: 86.50%\n",
      "[Epoch 73/100] loss: 0.4364, acc: 86.65% - test_loss: 0.9532, test_acc: 88.30%\n",
      "[Epoch 74/100] loss: 0.3128, acc: 88.90% - test_loss: 0.9940, test_acc: 88.10%\n",
      "[Epoch 75/100] loss: 0.2916, acc: 87.55% - test_loss: 0.9580, test_acc: 87.20%\n",
      "              precision    recall  f1-score   support\n",
      "\n",
      "      Normal       0.99      0.98      0.99       584\n",
      "      R on T       0.95      0.76      0.84       353\n",
      "         PVC       0.56      0.47      0.51        19\n",
      "          SP       0.24      0.69      0.36        39\n",
      "          UB       0.31      0.80      0.44         5\n",
      "\n",
      "    accuracy                           0.88      1000\n",
      "   macro avg       0.61      0.74      0.63      1000\n",
      "weighted avg       0.94      0.88      0.90      1000\n",
      "\n",
      "[Epoch 76/100] loss: 0.3719, acc: 88.10% - test_loss: 1.0562, test_acc: 88.00%\n",
      "[Epoch 77/100] loss: 0.3668, acc: 88.25% - test_loss: 1.0457, test_acc: 90.10%\n",
      "[Epoch 78/100] loss: 0.3900, acc: 87.17% - test_loss: 0.9987, test_acc: 87.70%\n",
      "[Epoch 79/100] loss: 0.3400, acc: 87.95% - test_loss: 1.1026, test_acc: 88.10%\n",
      "[Epoch 80/100] loss: 0.3810, acc: 88.28% - test_loss: 0.9624, test_acc: 87.50%\n",
      "              precision    recall  f1-score   support\n",
      "\n",
      "      Normal       0.99      0.97      0.98       584\n",
      "      R on T       0.94      0.81      0.87       353\n",
      "         PVC       0.60      0.47      0.53        19\n",
      "          SP       0.26      0.64      0.37        39\n",
      "          UB       0.31      0.80      0.44         5\n",
      "\n",
      "    accuracy                           0.89      1000\n",
      "   macro avg       0.62      0.74      0.64      1000\n",
      "weighted avg       0.94      0.89      0.91      1000\n",
      "\n",
      "[Epoch 81/100] loss: 0.3973, acc: 87.65% - test_loss: 1.1123, test_acc: 89.30%\n",
      "[Epoch 82/100] loss: 0.5405, acc: 88.52% - test_loss: 1.0343, test_acc: 89.60%\n",
      "[Epoch 83/100] loss: 0.3563, acc: 87.20% - test_loss: 1.0957, test_acc: 90.40%\n",
      "[Epoch 84/100] loss: 0.4531, acc: 87.72% - test_loss: 1.0920, test_acc: 87.70%\n",
      "[Epoch 85/100] loss: 0.3020, acc: 88.22% - test_loss: 1.0397, test_acc: 88.60%\n",
      "              precision    recall  f1-score   support\n",
      "\n",
      "      Normal       0.99      0.98      0.98       584\n",
      "      R on T       0.94      0.78      0.86       353\n",
      "         PVC       0.54      0.37      0.44        19\n",
      "          SP       0.24      0.64      0.35        39\n",
      "          UB       0.25      0.80      0.38         5\n",
      "\n",
      "    accuracy                           0.88      1000\n",
      "   macro avg       0.59      0.71      0.60      1000\n",
      "weighted avg       0.93      0.88      0.90      1000\n",
      "\n",
      "[Epoch 86/100] loss: 0.3241, acc: 87.95% - test_loss: 1.2798, test_acc: 88.30%\n",
      "[Epoch 87/100] loss: 0.3572, acc: 87.78% - test_loss: 1.1401, test_acc: 86.20%\n",
      "[Epoch 88/100] loss: 0.5166, acc: 87.15% - test_loss: 1.1465, test_acc: 85.70%\n",
      "[Epoch 89/100] loss: 0.4158, acc: 87.48% - test_loss: 1.2663, test_acc: 89.70%\n",
      "[Epoch 90/100] loss: 0.3718, acc: 87.35% - test_loss: 1.0291, test_acc: 88.40%\n",
      "              precision    recall  f1-score   support\n",
      "\n",
      "      Normal       0.99      0.97      0.98       584\n",
      "      R on T       0.96      0.71      0.82       353\n",
      "         PVC       0.53      0.47      0.50        19\n",
      "          SP       0.23      0.82      0.36        39\n",
      "          UB       0.20      0.60      0.30         5\n",
      "\n",
      "    accuracy                           0.86      1000\n",
      "   macro avg       0.58      0.71      0.59      1000\n",
      "weighted avg       0.94      0.86      0.89      1000\n",
      "\n",
      "[Epoch 91/100] loss: 0.2812, acc: 88.52% - test_loss: 1.1832, test_acc: 86.00%\n",
      "[Epoch 92/100] loss: 0.4410, acc: 87.88% - test_loss: 1.1619, test_acc: 89.90%\n",
      "[Epoch 93/100] loss: 0.3419, acc: 88.17% - test_loss: 1.0982, test_acc: 90.30%\n",
      "[Epoch 94/100] loss: 0.4075, acc: 86.33% - test_loss: 1.1364, test_acc: 89.40%\n",
      "[Epoch 95/100] loss: 0.3643, acc: 88.40% - test_loss: 0.9812, test_acc: 87.90%\n",
      "              precision    recall  f1-score   support\n",
      "\n",
      "      Normal       0.99      0.97      0.98       584\n",
      "      R on T       0.95      0.83      0.89       353\n",
      "         PVC       0.57      0.42      0.48        19\n",
      "          SP       0.29      0.64      0.40        39\n",
      "          UB       0.27      0.80      0.40         5\n",
      "\n",
      "    accuracy                           0.90      1000\n",
      "   macro avg       0.61      0.73      0.63      1000\n",
      "weighted avg       0.94      0.90      0.91      1000\n",
      "\n",
      "[Epoch 96/100] loss: 0.3216, acc: 86.40% - test_loss: 1.1658, test_acc: 90.00%\n",
      "[Epoch 97/100] loss: 0.3784, acc: 87.62% - test_loss: 1.0549, test_acc: 88.30%\n",
      "[Epoch 98/100] loss: 0.5477, acc: 87.20% - test_loss: 1.1298, test_acc: 89.60%\n",
      "[Epoch 99/100] loss: 0.3063, acc: 88.25% - test_loss: 1.0489, test_acc: 91.20%\n",
      "[Epoch 100/100] loss: 0.4126, acc: 88.45% - test_loss: 1.0699, test_acc: 90.60%\n"
     ]
    },
    {
     "data": {
      "image/png": "[encoded data removed]",
      "text/plain": [
       "<Figure size 900x450 with 2 Axes>"
      ]
     },
     "metadata": {},
     "output_type": "display_data"
    },
    {
     "name": "stdout",
     "output_type": "stream",
     "text": [
      "Tempo de Treinamento --- 186.94586396217346 segundos ---\n"
     ]
    }
   ],
   "source": [
    "# Modelo\n",
    "model = TimeSeriesTransformerClassifier(seq_len, n_features, num_layers, d_data_x, num_heads, conv_hidden_dim, n_class, enc_pos_train_flag, dropout_p)\n",
    "\n",
    "# Loss\n",
    "criterion   = torch.nn.CrossEntropyLoss(weight= torch.from_numpy(pesos.values).float().to(device))\n",
    "\n",
    "# Otimizador\n",
    "#optimizer = torch.optim.RMSprop(model.parameters(), lr= 1e-3)\n",
    "optimizer = torch.optim.Adam(model.parameters(), lr= 1e-3)\n",
    "\n",
    "# Treino\n",
    "start_time = time.time()\n",
    "\n",
    "train_and_test(model, data_train_loader, data_test_loader, criterion, optimizer, max_epochs = max_epochs, verbose= True)\n",
    "\n",
    "print(\"Tempo de Treinamento --- %s segundos ---\" % (time.time() - start_time))"
   ]
  },
  {
   "cell_type": "markdown",
   "id": "17d1d5e1-5b91-4f68-96ed-d4bda272b07f",
   "metadata": {},
   "source": [
    "*Positional Encoder* treinável"
   ]
  },
  {
   "cell_type": "code",
   "execution_count": 58,
   "id": "f89ba8bf-ccce-4efc-8abd-155621f45583",
   "metadata": {},
   "outputs": [],
   "source": [
    "# Parâmetros do modelo\n",
    "enc_pos_train_flag = True\n",
    "dropout_p = 0.1"
   ]
  },
  {
   "cell_type": "code",
   "execution_count": 59,
   "id": "9f7ddc73-d748-452c-923e-c06cae3da01c",
   "metadata": {},
   "outputs": [
    {
     "name": "stdout",
     "output_type": "stream",
     "text": [
      "              precision    recall  f1-score   support\n",
      "\n",
      "      Normal       0.98      0.97      0.98       584\n",
      "      R on T       0.95      0.63      0.76       353\n",
      "         PVC       0.20      0.05      0.08        19\n",
      "          SP       0.15      0.67      0.24        39\n",
      "          UB       0.20      0.20      0.20         5\n",
      "\n",
      "    accuracy                           0.82      1000\n",
      "   macro avg       0.50      0.50      0.45      1000\n",
      "weighted avg       0.92      0.82      0.85      1000\n",
      "\n",
      "[Epoch 1/100] loss: 0.7410, acc: 75.60% - test_loss: 0.8297, test_acc: 81.90%\n",
      "[Epoch 2/100] loss: 0.5724, acc: 80.83% - test_loss: 0.7438, test_acc: 86.60%\n",
      "[Epoch 3/100] loss: 0.5903, acc: 82.47% - test_loss: 0.7150, test_acc: 86.10%\n",
      "[Epoch 4/100] loss: 0.6312, acc: 82.67% - test_loss: 0.7431, test_acc: 87.00%\n",
      "[Epoch 5/100] loss: 0.5621, acc: 83.25% - test_loss: 0.7622, test_acc: 86.70%\n",
      "              precision    recall  f1-score   support\n",
      "\n",
      "      Normal       0.99      0.97      0.98       584\n",
      "      R on T       0.92      0.78      0.85       353\n",
      "         PVC       0.70      0.37      0.48        19\n",
      "          SP       0.23      0.62      0.33        39\n",
      "          UB       0.22      0.40      0.29         5\n",
      "\n",
      "    accuracy                           0.88      1000\n",
      "   macro avg       0.61      0.63      0.59      1000\n",
      "weighted avg       0.93      0.88      0.89      1000\n",
      "\n",
      "[Epoch 6/100] loss: 0.4814, acc: 83.78% - test_loss: 0.8242, test_acc: 87.70%\n",
      "[Epoch 7/100] loss: 0.4350, acc: 84.30% - test_loss: 0.8211, test_acc: 87.00%\n",
      "[Epoch 8/100] loss: 0.4241, acc: 84.17% - test_loss: 0.7986, test_acc: 85.70%\n",
      "[Epoch 9/100] loss: 0.6681, acc: 84.80% - test_loss: 0.7748, test_acc: 87.00%\n",
      "[Epoch 10/100] loss: 0.4901, acc: 84.88% - test_loss: 0.8201, test_acc: 86.90%\n",
      "              precision    recall  f1-score   support\n",
      "\n",
      "      Normal       0.99      0.97      0.98       584\n",
      "      R on T       0.94      0.76      0.84       353\n",
      "         PVC       0.50      0.53      0.51        19\n",
      "          SP       0.23      0.67      0.34        39\n",
      "          UB       0.17      0.40      0.24         5\n",
      "\n",
      "    accuracy                           0.87      1000\n",
      "   macro avg       0.57      0.66      0.58      1000\n",
      "weighted avg       0.93      0.87      0.89      1000\n",
      "\n",
      "[Epoch 11/100] loss: 0.5519, acc: 84.33% - test_loss: 0.7474, test_acc: 87.10%\n",
      "[Epoch 12/100] loss: 0.3559, acc: 84.17% - test_loss: 0.7347, test_acc: 87.20%\n",
      "[Epoch 13/100] loss: 0.4929, acc: 84.50% - test_loss: 0.7047, test_acc: 88.40%\n",
      "[Epoch 14/100] loss: 0.3663, acc: 85.08% - test_loss: 0.6932, test_acc: 87.60%\n",
      "[Epoch 15/100] loss: 0.3504, acc: 85.50% - test_loss: 0.6560, test_acc: 88.00%\n",
      "              precision    recall  f1-score   support\n",
      "\n",
      "      Normal       0.99      0.98      0.98       584\n",
      "      R on T       0.95      0.79      0.86       353\n",
      "         PVC       0.56      0.47      0.51        19\n",
      "          SP       0.25      0.67      0.37        39\n",
      "          UB       0.18      0.40      0.25         5\n",
      "\n",
      "    accuracy                           0.89      1000\n",
      "   macro avg       0.59      0.66      0.60      1000\n",
      "weighted avg       0.94      0.89      0.91      1000\n",
      "\n",
      "[Epoch 16/100] loss: 0.3539, acc: 84.70% - test_loss: 0.8290, test_acc: 88.80%\n",
      "[Epoch 17/100] loss: 0.3604, acc: 85.50% - test_loss: 0.7038, test_acc: 89.60%\n",
      "[Epoch 18/100] loss: 0.4318, acc: 85.72% - test_loss: 0.7919, test_acc: 88.50%\n",
      "[Epoch 19/100] loss: 0.3562, acc: 85.35% - test_loss: 0.7777, test_acc: 89.70%\n",
      "[Epoch 20/100] loss: 0.3600, acc: 85.95% - test_loss: 0.7244, test_acc: 88.20%\n",
      "              precision    recall  f1-score   support\n",
      "\n",
      "      Normal       0.99      0.98      0.99       584\n",
      "      R on T       0.95      0.82      0.88       353\n",
      "         PVC       0.56      0.53      0.54        19\n",
      "          SP       0.30      0.67      0.41        39\n",
      "          UB       0.20      0.40      0.27         5\n",
      "\n",
      "    accuracy                           0.90      1000\n",
      "   macro avg       0.60      0.68      0.62      1000\n",
      "weighted avg       0.94      0.90      0.92      1000\n",
      "\n",
      "[Epoch 21/100] loss: 0.3127, acc: 86.00% - test_loss: 0.8165, test_acc: 90.20%\n",
      "[Epoch 22/100] loss: 0.3391, acc: 86.12% - test_loss: 0.7167, test_acc: 88.50%\n",
      "[Epoch 23/100] loss: 0.3386, acc: 85.55% - test_loss: 0.8674, test_acc: 90.20%\n",
      "[Epoch 24/100] loss: 0.3965, acc: 85.88% - test_loss: 0.7881, test_acc: 89.70%\n",
      "[Epoch 25/100] loss: 0.2865, acc: 86.40% - test_loss: 0.8063, test_acc: 89.10%\n",
      "              precision    recall  f1-score   support\n",
      "\n",
      "      Normal       0.99      0.98      0.99       584\n",
      "      R on T       0.94      0.82      0.88       353\n",
      "         PVC       0.48      0.53      0.50        19\n",
      "          SP       0.27      0.62      0.37        39\n",
      "          UB       0.22      0.40      0.29         5\n",
      "\n",
      "    accuracy                           0.90      1000\n",
      "   macro avg       0.58      0.67      0.60      1000\n",
      "weighted avg       0.93      0.90      0.91      1000\n",
      "\n",
      "[Epoch 26/100] loss: 0.2624, acc: 86.08% - test_loss: 0.7424, test_acc: 89.60%\n",
      "[Epoch 27/100] loss: 0.3152, acc: 86.67% - test_loss: 0.6878, test_acc: 88.90%\n",
      "[Epoch 28/100] loss: 0.3111, acc: 86.35% - test_loss: 0.8409, test_acc: 86.80%\n",
      "[Epoch 29/100] loss: 0.2665, acc: 86.95% - test_loss: 0.7695, test_acc: 89.50%\n",
      "[Epoch 30/100] loss: 0.2964, acc: 87.20% - test_loss: 0.6836, test_acc: 89.00%\n",
      "              precision    recall  f1-score   support\n",
      "\n",
      "      Normal       0.99      0.98      0.99       584\n",
      "      R on T       0.95      0.77      0.85       353\n",
      "         PVC       0.52      0.58      0.55        19\n",
      "          SP       0.25      0.67      0.36        39\n",
      "          UB       0.23      0.60      0.33         5\n",
      "\n",
      "    accuracy                           0.88      1000\n",
      "   macro avg       0.59      0.72      0.62      1000\n",
      "weighted avg       0.94      0.88      0.90      1000\n",
      "\n",
      "[Epoch 31/100] loss: 0.3391, acc: 86.85% - test_loss: 0.6145, test_acc: 88.30%\n",
      "[Epoch 32/100] loss: 0.2598, acc: 86.70% - test_loss: 0.6782, test_acc: 88.90%\n",
      "[Epoch 33/100] loss: 0.4685, acc: 86.78% - test_loss: 0.5455, test_acc: 88.90%\n",
      "[Epoch 34/100] loss: 0.2661, acc: 87.65% - test_loss: 0.5639, test_acc: 89.40%\n",
      "[Epoch 35/100] loss: 0.2244, acc: 87.33% - test_loss: 0.6125, test_acc: 89.70%\n",
      "              precision    recall  f1-score   support\n",
      "\n",
      "      Normal       0.99      0.98      0.99       584\n",
      "      R on T       0.95      0.78      0.86       353\n",
      "         PVC       0.52      0.63      0.57        19\n",
      "          SP       0.25      0.64      0.36        39\n",
      "          UB       0.25      0.60      0.35         5\n",
      "\n",
      "    accuracy                           0.89      1000\n",
      "   macro avg       0.59      0.73      0.63      1000\n",
      "weighted avg       0.94      0.89      0.91      1000\n",
      "\n",
      "[Epoch 36/100] loss: 0.3161, acc: 87.02% - test_loss: 0.5165, test_acc: 88.70%\n",
      "[Epoch 37/100] loss: 0.3017, acc: 87.28% - test_loss: 0.5749, test_acc: 88.00%\n",
      "[Epoch 38/100] loss: 0.2642, acc: 87.40% - test_loss: 0.5326, test_acc: 89.00%\n",
      "[Epoch 39/100] loss: 0.2925, acc: 86.92% - test_loss: 0.5414, test_acc: 88.50%\n",
      "[Epoch 40/100] loss: 0.2453, acc: 87.75% - test_loss: 0.5965, test_acc: 89.30%\n",
      "              precision    recall  f1-score   support\n",
      "\n",
      "      Normal       0.99      0.99      0.99       584\n",
      "      R on T       0.95      0.79      0.86       353\n",
      "         PVC       0.61      0.58      0.59        19\n",
      "          SP       0.26      0.67      0.37        39\n",
      "          UB       0.30      0.60      0.40         5\n",
      "\n",
      "    accuracy                           0.89      1000\n",
      "   macro avg       0.62      0.72      0.64      1000\n",
      "weighted avg       0.94      0.89      0.91      1000\n",
      "\n",
      "[Epoch 41/100] loss: 0.2725, acc: 88.30% - test_loss: 0.6275, test_acc: 89.40%\n",
      "[Epoch 42/100] loss: 0.2280, acc: 87.42% - test_loss: 0.4798, test_acc: 89.30%\n",
      "[Epoch 43/100] loss: 0.2793, acc: 88.33% - test_loss: 0.4710, test_acc: 90.00%\n",
      "[Epoch 44/100] loss: 0.1950, acc: 87.42% - test_loss: 0.4987, test_acc: 89.00%\n",
      "[Epoch 45/100] loss: 0.2468, acc: 87.42% - test_loss: 0.4684, test_acc: 89.30%\n",
      "              precision    recall  f1-score   support\n",
      "\n",
      "      Normal       0.99      0.98      0.99       584\n",
      "      R on T       0.95      0.82      0.88       353\n",
      "         PVC       0.63      0.63      0.63        19\n",
      "          SP       0.27      0.62      0.37        39\n",
      "          UB       0.30      0.60      0.40         5\n",
      "\n",
      "    accuracy                           0.90      1000\n",
      "   macro avg       0.63      0.73      0.65      1000\n",
      "weighted avg       0.94      0.90      0.92      1000\n",
      "\n",
      "[Epoch 46/100] loss: 0.2689, acc: 88.12% - test_loss: 0.4992, test_acc: 90.20%\n",
      "[Epoch 47/100] loss: 0.2289, acc: 87.80% - test_loss: 0.4097, test_acc: 87.50%\n",
      "[Epoch 48/100] loss: 0.2697, acc: 88.12% - test_loss: 0.4497, test_acc: 87.90%\n",
      "[Epoch 49/100] loss: 0.2367, acc: 88.20% - test_loss: 0.4800, test_acc: 90.70%\n",
      "[Epoch 50/100] loss: 0.3234, acc: 88.35% - test_loss: 0.5394, test_acc: 89.50%\n",
      "              precision    recall  f1-score   support\n",
      "\n",
      "      Normal       1.00      0.98      0.99       584\n",
      "      R on T       0.95      0.83      0.89       353\n",
      "         PVC       0.59      0.68      0.63        19\n",
      "          SP       0.30      0.64      0.41        39\n",
      "          UB       0.27      0.60      0.37         5\n",
      "\n",
      "    accuracy                           0.91      1000\n",
      "   macro avg       0.62      0.75      0.66      1000\n",
      "weighted avg       0.94      0.91      0.92      1000\n",
      "\n",
      "[Epoch 51/100] loss: 0.2408, acc: 87.98% - test_loss: 0.5417, test_acc: 90.70%\n",
      "[Epoch 52/100] loss: 0.2841, acc: 88.58% - test_loss: 0.4307, test_acc: 89.50%\n",
      "[Epoch 53/100] loss: 0.2189, acc: 87.65% - test_loss: 0.3888, test_acc: 87.80%\n",
      "[Epoch 54/100] loss: 0.2406, acc: 88.72% - test_loss: 0.3975, test_acc: 88.90%\n",
      "[Epoch 55/100] loss: 0.2030, acc: 89.25% - test_loss: 0.5598, test_acc: 88.80%\n",
      "              precision    recall  f1-score   support\n",
      "\n",
      "      Normal       1.00      0.98      0.99       584\n",
      "      R on T       0.95      0.78      0.86       353\n",
      "         PVC       0.68      0.68      0.68        19\n",
      "          SP       0.26      0.69      0.38        39\n",
      "          UB       0.25      0.60      0.35         5\n",
      "\n",
      "    accuracy                           0.89      1000\n",
      "   macro avg       0.63      0.75      0.65      1000\n",
      "weighted avg       0.94      0.89      0.91      1000\n",
      "\n",
      "[Epoch 56/100] loss: 0.2464, acc: 88.95% - test_loss: 0.5238, test_acc: 89.30%\n",
      "[Epoch 57/100] loss: 0.2255, acc: 89.30% - test_loss: 0.5343, test_acc: 91.40%\n",
      "[Epoch 58/100] loss: 0.2256, acc: 88.78% - test_loss: 0.4112, test_acc: 90.00%\n",
      "[Epoch 59/100] loss: 0.2130, acc: 89.10% - test_loss: 0.4454, test_acc: 88.30%\n",
      "[Epoch 60/100] loss: 0.1457, acc: 88.88% - test_loss: 0.4483, test_acc: 90.80%\n",
      "              precision    recall  f1-score   support\n",
      "\n",
      "      Normal       0.99      0.99      0.99       584\n",
      "      R on T       0.95      0.82      0.88       353\n",
      "         PVC       0.43      0.63      0.51        19\n",
      "          SP       0.30      0.62      0.41        39\n",
      "          UB       0.30      0.60      0.40         5\n",
      "\n",
      "    accuracy                           0.90      1000\n",
      "   macro avg       0.60      0.73      0.64      1000\n",
      "weighted avg       0.94      0.90      0.92      1000\n",
      "\n",
      "[Epoch 61/100] loss: 0.2207, acc: 89.62% - test_loss: 0.5247, test_acc: 90.30%\n",
      "[Epoch 62/100] loss: 0.2104, acc: 89.42% - test_loss: 0.4585, test_acc: 88.30%\n",
      "[Epoch 63/100] loss: 0.2276, acc: 89.18% - test_loss: 0.5452, test_acc: 89.70%\n",
      "[Epoch 64/100] loss: 0.1909, acc: 88.90% - test_loss: 0.5226, test_acc: 88.90%\n",
      "[Epoch 65/100] loss: 0.1766, acc: 89.05% - test_loss: 0.4782, test_acc: 90.50%\n",
      "              precision    recall  f1-score   support\n",
      "\n",
      "      Normal       1.00      0.97      0.98       584\n",
      "      R on T       0.94      0.78      0.86       353\n",
      "         PVC       0.43      0.68      0.53        19\n",
      "          SP       0.27      0.62      0.37        39\n",
      "          UB       0.15      0.60      0.24         5\n",
      "\n",
      "    accuracy                           0.88      1000\n",
      "   macro avg       0.56      0.73      0.60      1000\n",
      "weighted avg       0.93      0.88      0.90      1000\n",
      "\n",
      "[Epoch 66/100] loss: 0.2288, acc: 89.48% - test_loss: 0.5170, test_acc: 88.20%\n",
      "[Epoch 67/100] loss: 0.1881, acc: 89.12% - test_loss: 0.5253, test_acc: 90.70%\n",
      "[Epoch 68/100] loss: 0.2149, acc: 90.05% - test_loss: 0.6062, test_acc: 88.60%\n",
      "[Epoch 69/100] loss: 0.1538, acc: 89.18% - test_loss: 0.5463, test_acc: 89.40%\n",
      "[Epoch 70/100] loss: 0.2240, acc: 88.75% - test_loss: 0.5225, test_acc: 89.60%\n",
      "              precision    recall  f1-score   support\n",
      "\n",
      "      Normal       0.99      0.98      0.99       584\n",
      "      R on T       0.94      0.80      0.86       353\n",
      "         PVC       0.44      0.63      0.52        19\n",
      "          SP       0.27      0.59      0.37        39\n",
      "          UB       0.38      0.60      0.46         5\n",
      "\n",
      "    accuracy                           0.90      1000\n",
      "   macro avg       0.60      0.72      0.64      1000\n",
      "weighted avg       0.93      0.90      0.91      1000\n",
      "\n",
      "[Epoch 71/100] loss: 0.2365, acc: 89.85% - test_loss: 0.4359, test_acc: 89.50%\n",
      "[Epoch 72/100] loss: 0.1841, acc: 89.88% - test_loss: 0.5526, test_acc: 89.90%\n",
      "[Epoch 73/100] loss: 0.1296, acc: 89.45% - test_loss: 0.4745, test_acc: 90.50%\n",
      "[Epoch 74/100] loss: 0.2429, acc: 89.58% - test_loss: 0.3182, test_acc: 88.70%\n",
      "[Epoch 75/100] loss: 0.2232, acc: 89.80% - test_loss: 0.3990, test_acc: 88.50%\n",
      "              precision    recall  f1-score   support\n",
      "\n",
      "      Normal       0.99      0.99      0.99       584\n",
      "      R on T       0.94      0.82      0.87       353\n",
      "         PVC       0.57      0.68      0.62        19\n",
      "          SP       0.28      0.62      0.39        39\n",
      "          UB       0.43      0.60      0.50         5\n",
      "\n",
      "    accuracy                           0.90      1000\n",
      "   macro avg       0.64      0.74      0.67      1000\n",
      "weighted avg       0.94      0.90      0.92      1000\n",
      "\n",
      "[Epoch 76/100] loss: 0.1592, acc: 90.60% - test_loss: 0.3913, test_acc: 90.40%\n",
      "[Epoch 77/100] loss: 0.1870, acc: 90.92% - test_loss: 0.4405, test_acc: 90.20%\n",
      "[Epoch 78/100] loss: 0.2024, acc: 91.50% - test_loss: 0.5076, test_acc: 89.70%\n",
      "[Epoch 79/100] loss: 0.1661, acc: 90.92% - test_loss: 0.4346, test_acc: 90.60%\n",
      "[Epoch 80/100] loss: 0.3058, acc: 90.70% - test_loss: 0.4582, test_acc: 89.40%\n",
      "              precision    recall  f1-score   support\n",
      "\n",
      "      Normal       0.99      0.98      0.99       584\n",
      "      R on T       0.95      0.79      0.86       353\n",
      "         PVC       0.45      0.74      0.56        19\n",
      "          SP       0.27      0.62      0.37        39\n",
      "          UB       0.33      0.40      0.36         5\n",
      "\n",
      "    accuracy                           0.89      1000\n",
      "   macro avg       0.60      0.71      0.63      1000\n",
      "weighted avg       0.94      0.89      0.91      1000\n",
      "\n",
      "[Epoch 81/100] loss: 0.1935, acc: 90.20% - test_loss: 0.4683, test_acc: 89.40%\n",
      "[Epoch 82/100] loss: 0.3057, acc: 90.30% - test_loss: 0.5025, test_acc: 90.00%\n",
      "[Epoch 83/100] loss: 0.2317, acc: 90.25% - test_loss: 0.4492, test_acc: 89.20%\n",
      "[Epoch 84/100] loss: 0.1376, acc: 91.38% - test_loss: 0.5945, test_acc: 90.60%\n",
      "[Epoch 85/100] loss: 0.1585, acc: 91.12% - test_loss: 0.6213, test_acc: 90.50%\n",
      "              precision    recall  f1-score   support\n",
      "\n",
      "      Normal       0.99      0.99      0.99       584\n",
      "      R on T       0.94      0.79      0.86       353\n",
      "         PVC       0.57      0.63      0.60        19\n",
      "          SP       0.26      0.62      0.36        39\n",
      "          UB       0.43      0.60      0.50         5\n",
      "\n",
      "    accuracy                           0.90      1000\n",
      "   macro avg       0.64      0.73      0.66      1000\n",
      "weighted avg       0.93      0.90      0.91      1000\n",
      "\n",
      "[Epoch 86/100] loss: 0.1737, acc: 91.45% - test_loss: 0.5445, test_acc: 89.60%\n",
      "[Epoch 87/100] loss: 0.1312, acc: 91.30% - test_loss: 0.6437, test_acc: 91.10%\n",
      "[Epoch 88/100] loss: 0.2441, acc: 91.45% - test_loss: 0.7747, test_acc: 89.40%\n",
      "[Epoch 89/100] loss: 0.2455, acc: 91.25% - test_loss: 0.8372, test_acc: 91.70%\n",
      "[Epoch 90/100] loss: 0.2569, acc: 91.47% - test_loss: 0.5694, test_acc: 90.00%\n",
      "              precision    recall  f1-score   support\n",
      "\n",
      "      Normal       0.99      0.99      0.99       584\n",
      "      R on T       0.95      0.79      0.86       353\n",
      "         PVC       0.48      0.68      0.57        19\n",
      "          SP       0.27      0.62      0.38        39\n",
      "          UB       0.50      0.60      0.55         5\n",
      "\n",
      "    accuracy                           0.90      1000\n",
      "   macro avg       0.64      0.74      0.67      1000\n",
      "weighted avg       0.93      0.90      0.91      1000\n",
      "\n",
      "[Epoch 91/100] loss: 0.2069, acc: 91.27% - test_loss: 0.4821, test_acc: 89.70%\n",
      "[Epoch 92/100] loss: 0.2132, acc: 91.80% - test_loss: 0.4924, test_acc: 89.80%\n",
      "[Epoch 93/100] loss: 0.1068, acc: 91.53% - test_loss: 0.4729, test_acc: 89.10%\n",
      "[Epoch 94/100] loss: 0.2088, acc: 91.57% - test_loss: 0.5408, test_acc: 89.80%\n",
      "[Epoch 95/100] loss: 0.2106, acc: 91.57% - test_loss: 0.8444, test_acc: 90.50%\n",
      "              precision    recall  f1-score   support\n",
      "\n",
      "      Normal       0.99      0.98      0.99       584\n",
      "      R on T       0.94      0.78      0.85       353\n",
      "         PVC       0.50      0.53      0.51        19\n",
      "          SP       0.25      0.64      0.36        39\n",
      "          UB       0.33      0.60      0.43         5\n",
      "\n",
      "    accuracy                           0.89      1000\n",
      "   macro avg       0.60      0.71      0.63      1000\n",
      "weighted avg       0.93      0.89      0.90      1000\n",
      "\n",
      "[Epoch 96/100] loss: 0.2591, acc: 91.33% - test_loss: 0.7808, test_acc: 88.60%\n",
      "[Epoch 97/100] loss: 0.1336, acc: 91.00% - test_loss: 0.6692, test_acc: 90.00%\n",
      "[Epoch 98/100] loss: 0.1373, acc: 92.58% - test_loss: 0.8567, test_acc: 89.40%\n",
      "[Epoch 99/100] loss: 0.2118, acc: 92.05% - test_loss: 0.7795, test_acc: 88.80%\n",
      "[Epoch 100/100] loss: 0.2511, acc: 91.88% - test_loss: 0.7959, test_acc: 88.80%\n"
     ]
    },
    {
     "data": {
      "image/png": "[encoded data removed]",
      "text/plain": [
       "<Figure size 900x450 with 2 Axes>"
      ]
     },
     "metadata": {},
     "output_type": "display_data"
    },
    {
     "name": "stdout",
     "output_type": "stream",
     "text": [
      "Tempo de Treinamento --- 192.63324856758118 segundos ---\n"
     ]
    }
   ],
   "source": [
    "# Modelo\n",
    "model = TimeSeriesTransformerClassifier(seq_len, n_features, num_layers, d_data_x, num_heads, conv_hidden_dim, n_class, enc_pos_train_flag, dropout_p)\n",
    "\n",
    "# Loss\n",
    "criterion   = torch.nn.CrossEntropyLoss(weight= torch.from_numpy(pesos.values).float().to(device))\n",
    "\n",
    "# Otimizador\n",
    "#optimizer = torch.optim.RMSprop(model.parameters(), lr= 1e-3)\n",
    "optimizer = torch.optim.Adam(model.parameters(), lr= 1e-3)\n",
    "\n",
    "# Treino\n",
    "start_time = time.time()\n",
    "\n",
    "train_and_test(model, data_train_loader, data_test_loader, criterion, optimizer, max_epochs = max_epochs, verbose= True)\n",
    "\n",
    "print(\"Tempo de Treinamento --- %s segundos ---\" % (time.time() - start_time))"
   ]
  }
 ],
 "metadata": {
  "kernelspec": {
   "display_name": "Python 3 (ipykernel)",
   "language": "python",
   "name": "python3"
  },
  "language_info": {
   "codemirror_mode": {
    "name": "ipython",
    "version": 3
   },
   "file_extension": ".py",
   "mimetype": "text/x-python",
   "name": "python",
   "nbconvert_exporter": "python",
   "pygments_lexer": "ipython3",
   "version": "3.9.7"
  }
 },
 "nbformat": 4,
 "nbformat_minor": 5
}
