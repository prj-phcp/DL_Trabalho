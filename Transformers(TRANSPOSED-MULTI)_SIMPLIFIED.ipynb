{
 "cells": [
  {
   "cell_type": "code",
   "execution_count": 13,
   "metadata": {
    "tags": []
   },
   "outputs": [
    {
     "name": "stdout",
     "output_type": "stream",
     "text": [
      "Sat Jul  1 18:46:17 2023       \n",
      "+-----------------------------------------------------------------------------+\n",
      "| NVIDIA-SMI 515.43.04    Driver Version: 515.43.04    CUDA Version: 11.7     |\n",
      "|-------------------------------+----------------------+----------------------+\n",
      "| GPU  Name        Persistence-M| Bus-Id        Disp.A | Volatile Uncorr. ECC |\n",
      "| Fan  Temp  Perf  Pwr:Usage/Cap|         Memory-Usage | GPU-Util  Compute M. |\n",
      "|                               |                      |               MIG M. |\n",
      "|===============================+======================+======================|\n",
      "|   0  Tesla V100-SXM2...  Off  | 00000000:15:00.0 Off |                    0 |\n",
      "| N/A   30C    P0    53W / 300W |   2586MiB / 32768MiB |      0%      Default |\n",
      "|                               |                      |                  N/A |\n",
      "+-------------------------------+----------------------+----------------------+\n",
      "                                                                               \n",
      "+-----------------------------------------------------------------------------+\n",
      "| Processes:                                                                  |\n",
      "|  GPU   GI   CI        PID   Type   Process name                  GPU Memory |\n",
      "|        ID   ID                                                   Usage      |\n",
      "|=============================================================================|\n",
      "|    0   N/A  N/A     23149      C   .../venvs/dl_raul/bin/python      733MiB |\n",
      "|    0   N/A  N/A     25429      C   .../venvs/dl_raul/bin/python      933MiB |\n",
      "|    0   N/A  N/A     36347      C   .../venvs/dl_raul/bin/python      917MiB |\n",
      "+-----------------------------------------------------------------------------+\n"
     ]
    }
   ],
   "source": [
    "import math\n",
    "import json\n",
    "import time\n",
    "import numpy as np\n",
    "import pandas as pd\n",
    "import matplotlib.pyplot as plt\n",
    "from tqdm import tqdm\n",
    "\n",
    "import torch\n",
    "import torch.nn as nn\n",
    "import torch.optim as optim\n",
    "from torch.utils.data import Dataset\n",
    "from torch.utils.data.sampler import SubsetRandomSampler\n",
    "\n",
    "from sklearn.preprocessing import MinMaxScaler, RobustScaler\n",
    "from sklearn.model_selection import train_test_split\n",
    "from sklearn.metrics import mean_squared_error, r2_score\n",
    "\n",
    "!nvidia-smi"
   ]
  },
  {
   "cell_type": "code",
   "execution_count": 14,
   "metadata": {
    "tags": []
   },
   "outputs": [
    {
     "name": "stdout",
     "output_type": "stream",
     "text": [
      "cuda:0\n"
     ]
    }
   ],
   "source": [
    "# Dispositivo onde tensores serão criados, armazenados e processados\n",
    "device = torch.device(\"cuda:0\" if torch.cuda.is_available() else \"cpu\")\n",
    "print(device)\n",
    "# Randon Seed fixa para resultados reprodutíveis\n",
    "seed = 42\n",
    "torch.manual_seed(seed)\n",
    "torch.cuda.manual_seed(seed)\n",
    "np.random.seed(seed)"
   ]
  },
  {
   "cell_type": "markdown",
   "metadata": {},
   "source": [
    "## Data Loader"
   ]
  },
  {
   "cell_type": "code",
   "execution_count": 15,
   "metadata": {
    "tags": []
   },
   "outputs": [],
   "source": [
    "class WellLoader(Dataset):\n",
    "    \n",
    "    def __init__(self, \n",
    "                 path, \n",
    "                 wells, \n",
    "                 var_in, \n",
    "                 var_out,\n",
    "                 normalizing_percentile=90.0,\n",
    "                 normalizing_split=0.2,\n",
    "                 normalizer=RobustScaler,\n",
    "                 max_sequence=16, \n",
    "                 step=1):\n",
    "        \n",
    "        self.path = path\n",
    "        with open(self.path + '/metadata.json', 'r') as metafile:\n",
    "            self.metadata = json.loads(metafile.read())\n",
    "        self.wells = wells\n",
    "        self.var_in = var_in\n",
    "        self.var_out = var_out\n",
    "        self.normalizing_percentile=normalizing_percentile\n",
    "        self.normalizing_split = normalizing_split\n",
    "        self.normalizer = normalizer\n",
    "        self.max_sequence = max_sequence\n",
    "        self.step = step\n",
    "        self.batches_X = None\n",
    "        self.batches_Y = None\n",
    "        self.outputs = None\n",
    "        self.normalizers = []\n",
    "        \n",
    "        indexes = self.get_wells_index(self.wells)\n",
    "        self.load_data_by_index(indexes)\n",
    "        \n",
    "    def get_wells_index(self, wells):\n",
    "        \n",
    "        indexes = []\n",
    "        for well, filt in wells:\n",
    "            indexes.extend([(meta['INDEX'], filt) for meta in self.metadata if meta['WELL'] == well])\n",
    "        return indexes\n",
    "    \n",
    "    def load_data_by_index(self, indexes):\n",
    "        \n",
    "        batches_X = []\n",
    "        batches_Y = []\n",
    "        outputs = []\n",
    "        for index, filt in indexes:\n",
    "            data = pd.read_json(f'{self.path}/{index}.json')#.reset_index()\n",
    "            # Armengue: Por liq vol para preencher o dataset\n",
    "            data['BORE_LIQ_VOL'] = data['BORE_OIL_VOL'] + data['BORE_WAT_VOL']\n",
    "            data = data[self.var_in + self.var_out].dropna().reset_index(drop=True)\n",
    "            X = data.values[filt,:]\n",
    "            Y = data[self.var_out].values[filt,:]\n",
    "            X_base, _, Y_base, _ = train_test_split(X, Y, test_size = self.normalizing_split)\n",
    "            #scaler_X = X_base.max(axis=0, keepdims=True)\n",
    "            #scaler_Y = Y_base.max(axis=0, keepdims=True)\n",
    "            #scaler_X = self.normalizer().fit(X_base)\n",
    "            #scaler_Y = self.normalizer().fit(Y_base)\n",
    "            scaler_X = np.percentile(X_base,self.normalizing_percentile,axis=0,keepdims=True)\n",
    "            scaler_Y = np.percentile(Y_base,self.normalizing_percentile,axis=0,keepdims=True)\n",
    "            self.normalizers.append((scaler_X, scaler_Y))\n",
    "            #X, Y = scaler_X.transform(X), scaler_Y.transform(Y)\n",
    "            X, Y = X / scaler_X, Y / scaler_Y\n",
    "            X, Y = torch.from_numpy(X.astype('float32')), torch.from_numpy(Y.astype('float32'))\n",
    "            output = Y[self.max_sequence::self.step]\n",
    "            #print(Y.shape)\n",
    "            #X = torch.split(X, self.max_sequence, dim= 0)\n",
    "            #Y = torch.split(Y, self.max_sequence, dim= 0)\n",
    "            X = X.unfold(0,self.max_sequence, self.step)\n",
    "            Y = Y.unfold(0,self.max_sequence, self.step)\n",
    "            batches_X.append(X[:-1,:,:])\n",
    "            batches_Y.append(Y[:-1,:,:])\n",
    "            outputs.append(Y[1:,:,:])\n",
    "            #print(X.shape)\n",
    "        self.batches_X = torch.concat(batches_X, axis=0)\n",
    "        self.batches_Y = torch.concat(batches_Y, axis=0)\n",
    "        self.outputs = torch.concat(outputs, axis=0)\n",
    "            \n",
    "    def __len__(self):\n",
    "        \n",
    "        return self.outputs.shape[0]\n",
    "    \n",
    "    def __getitem__(self, idx):\n",
    "                        \n",
    "        srcs = self.batches_X[idx,:,:]\n",
    "        trgts = self.batches_Y[idx,:,:]\n",
    "        output = self.outputs[idx,:,:]\n",
    "        \n",
    "        return srcs.permute(1,0), trgts.permute(1,0), output.permute(1,0)\n",
    "        \n",
    "        \n",
    "                 "
   ]
  },
  {
   "cell_type": "code",
   "execution_count": 16,
   "metadata": {
    "tags": []
   },
   "outputs": [
    {
     "name": "stdout",
     "output_type": "stream",
     "text": [
      "Total data for training :5424\n"
     ]
    }
   ],
   "source": [
    "path = './dataset/volve'\n",
    "wells = [\n",
    "    ('15/9-F-11', slice(15, None)),\n",
    "    ('15/9-F-12', slice(None, 800)),\n",
    "    ('15/9-F-14', slice(200, None)),\n",
    "    ('15/9-F-15 D', slice(10, 900)),\n",
    "    #('15/9-F-5', slice(None, None)),\n",
    "][::-1]\n",
    "\n",
    "#wells = [\n",
    "#    ('15/9-F-11', slice(15, 600)),\n",
    "#    ('15/9-F-12', slice(None, 800)),\n",
    "#    ('15/9-F-14', slice(1900, None)),\n",
    "#    ('15/9-F-15 D', slice(10, 900)),\n",
    "#    #('15/9-F-5', slice(None, None)),\n",
    "#][::-1]\n",
    "\n",
    "var_in = [\n",
    "        'AVG_DOWNHOLE_PRESSURE',\n",
    "        'AVG_WHP_P',\n",
    "        'AVG_CHOKE_SIZE_P',\n",
    "        'AVG_WHT_P',\n",
    "        'AVG_DOWNHOLE_TEMPERATURE',\n",
    "]\n",
    "\n",
    "var_out = [\n",
    "        #'BORE_OIL_VOL',\n",
    "        'BORE_LIQ_VOL',\n",
    "        #'BORE_GAS_VOL',\n",
    "        #'BORE_WAT_VOL',\n",
    "]\n",
    "\n",
    "\n",
    "dataset = WellLoader(path, wells, var_in, var_out, max_sequence = 16)\n",
    "print(f'Total data for training :{len(dataset)}')"
   ]
  },
  {
   "cell_type": "code",
   "execution_count": 17,
   "metadata": {
    "tags": []
   },
   "outputs": [
    {
     "name": "stdout",
     "output_type": "stream",
     "text": [
      "Total data for testing :699\n"
     ]
    }
   ],
   "source": [
    "path = './dataset/volve'\n",
    "wells = [\n",
    "    ('15/9-F-1 C', slice(28, None)),\n",
    "]\n",
    "\n",
    "var_in = [\n",
    "        'AVG_DOWNHOLE_PRESSURE',\n",
    "        'AVG_WHP_P',\n",
    "        'AVG_CHOKE_SIZE_P',\n",
    "        'AVG_WHT_P',\n",
    "        'AVG_DOWNHOLE_TEMPERATURE',\n",
    "]\n",
    "\n",
    "var_out = [\n",
    "        #'BORE_OIL_VOL',\n",
    "        'BORE_LIQ_VOL',\n",
    "        #'BORE_GAS_VOL',\n",
    "        #'BORE_WAT_VOL',\n",
    "]\n",
    "\n",
    "\n",
    "test_dataset = WellLoader(path, wells, var_in, var_out, max_sequence = 16)\n",
    "print(f'Total data for testing :{len(test_dataset)}')"
   ]
  },
  {
   "cell_type": "code",
   "execution_count": 18,
   "metadata": {
    "tags": []
   },
   "outputs": [],
   "source": [
    "class SubsetSplitter:\n",
    "    \n",
    "    def __init__(self, batch_size, validation_split, test_split, shuffle=False):\n",
    "        \n",
    "        self.batch_size = batch_size\n",
    "        self.validation_split = validation_split\n",
    "        self.test_split = test_split\n",
    "        self.shuffle = shuffle\n",
    "        \n",
    "    def __call__(self, dataset:Dataset):\n",
    "        \n",
    "        dataset_size = len(dataset)\n",
    "        indices = list(range(dataset_size))\n",
    "        validation_split = int(np.floor(self.validation_split * dataset_size))\n",
    "        test_split = int(np.floor(self.test_split * dataset_size))\n",
    "        train_split = dataset_size - validation_split - test_split\n",
    "        # Extracting test independently of others\n",
    "        test_indices = indices[train_split + validation_split:]\n",
    "        indices = indices[:train_split + validation_split]\n",
    "        if self.shuffle :\n",
    "            np.random.shuffle(indices)\n",
    "        train_indices = indices[:train_split]\n",
    "        validation_indices = indices[train_split:]\n",
    "\n",
    "        # Creating PT data samplers and loaders:\n",
    "        train_sampler = SubsetRandomSampler(train_indices)\n",
    "        valid_sampler = SubsetRandomSampler(validation_indices)\n",
    "        test_sampler = SubsetRandomSampler(test_indices)\n",
    "\n",
    "        train_loader = torch.utils.data.DataLoader(dataset, batch_size=self.batch_size, \n",
    "                                                   sampler=train_sampler)\n",
    "        validation_loader = torch.utils.data.DataLoader(dataset, batch_size=self.batch_size,\n",
    "                                                    sampler=valid_sampler)\n",
    "        test_loader = torch.utils.data.DataLoader(dataset, batch_size=self.batch_size,\n",
    "                                                    sampler=test_sampler)\n",
    "        \n",
    "        return train_loader, validation_loader, test_loader"
   ]
  },
  {
   "cell_type": "code",
   "execution_count": 19,
   "metadata": {
    "tags": []
   },
   "outputs": [],
   "source": [
    "splitter = SubsetSplitter(16, 0.25, 0.05, shuffle=True)\n",
    "train_loader, validation_loader, test_loader = splitter(dataset)"
   ]
  },
  {
   "cell_type": "markdown",
   "metadata": {},
   "source": [
    "## Model definition"
   ]
  },
  {
   "cell_type": "code",
   "execution_count": 20,
   "metadata": {},
   "outputs": [
    {
     "data": {
      "text/plain": [
       "tensor([[[0.0000, 0.0000, 0.0000, 1.4286, 0.0000, 1.4286, 0.0000, 1.4286,\n",
       "          0.0000, 0.0000],\n",
       "         [0.0000, 0.0000, 0.0000, 0.0000, 0.0000, 1.4286, 0.0000, 0.0000,\n",
       "          0.0000, 1.4286]]])"
      ]
     },
     "execution_count": 20,
     "metadata": {},
     "output_type": "execute_result"
    }
   ],
   "source": [
    "class PositionalEncoding(nn.Module):\n",
    "    def __init__(self, dim_model, dropout_p, max_len):\n",
    "        super().__init__()\n",
    "        # Modified version from: https://pytorch.org/tutorials/beginner/transformer_tutorial.html\n",
    "        # max_len determines how far the position can have an effect on a token (window)\n",
    "        \n",
    "        # Info\n",
    "        self.dropout = nn.Dropout(dropout_p)\n",
    "        \n",
    "        # Encoding - From formula\n",
    "        pos_encoding = torch.zeros(max_len, dim_model)\n",
    "        positions_list = torch.arange(0, max_len, dtype=torch.float).view(-1, 1) # 0, 1, 2, 3, 4, 5\n",
    "        division_term = torch.exp(torch.arange(0, dim_model, 2).float() * (-math.log(10000.0)) / dim_model) # 1000^(2i/dim_model)\n",
    "        \n",
    "        # PE(pos, 2i) = sin(pos/1000^(2i/dim_model))\n",
    "        pos_encoding[:, 0::2] = torch.sin(positions_list * division_term)\n",
    "        \n",
    "        # PE(pos, 2i + 1) = cos(pos/1000^(2i/dim_model))\n",
    "        pos_encoding[:, 1::2] = torch.cos(positions_list * division_term)\n",
    "        \n",
    "        # Saving buffer (same as parameter without gradients needed)\n",
    "        pos_encoding = pos_encoding.unsqueeze(0).transpose(0, 1)\n",
    "        self.register_buffer(\"pos_encoding\",pos_encoding)\n",
    "        \n",
    "    def forward(self, token_embedding: torch.tensor) -> torch.tensor:\n",
    "        # Residual connection + pos encoding\n",
    "        return self.dropout(token_embedding + self.pos_encoding[:token_embedding.size(0), :])\n",
    "    \n",
    "    \n",
    "positional_encoding = PositionalEncoding(dim_model = 10, dropout_p=0.3, max_len=1200)\n",
    "tensor = torch.zeros((1,2,10))\n",
    "tensor\n",
    "encoded = positional_encoding(tensor)\n",
    "encoded"
   ]
  },
  {
   "cell_type": "code",
   "execution_count": 21,
   "metadata": {},
   "outputs": [],
   "source": [
    "class TSTransformer(nn.Module):\n",
    "    \"\"\"\n",
    "    Model from \"A detailed guide to Pytorch's nn.Transformer() module.\", by\n",
    "    Daniel Melchor: https://medium.com/@danielmelchor/a-detailed-guide-to-pytorchs-nn-transformer-module-c80afbc9ffb1\n",
    "    \"\"\"\n",
    "    # Constructor\n",
    "    def __init__(\n",
    "        self,\n",
    "        src_dim,\n",
    "        tgt_dim,\n",
    "        src_heads,\n",
    "        num_encoder_layers,\n",
    "        dropout_p,\n",
    "        dim_feedforward =2048,\n",
    "        num_linear_layers=0,\n",
    "        norm_first=False\n",
    "    ):\n",
    "        super().__init__()\n",
    "\n",
    "        # INFO\n",
    "        self.model_type = \"Transformer\"\n",
    "        self.src_dim = src_dim\n",
    "\n",
    "        # LAYERS\n",
    "        \n",
    "        # MONTANDO O TRANSFORMER\n",
    "        # Encoder\n",
    "        encoder_layer = nn.TransformerEncoderLayer(\n",
    "            d_model=src_dim,\n",
    "            nhead=src_heads,\n",
    "            dim_feedforward=dim_feedforward,\n",
    "            dropout=dropout_p,\n",
    "            batch_first=True,\n",
    "            norm_first=norm_first\n",
    "        )\n",
    "        self.encoder = nn.TransformerEncoder(\n",
    "            encoder_layer = encoder_layer,\n",
    "            num_layers = num_encoder_layers,\n",
    "            norm=None,\n",
    "        )\n",
    "        \n",
    "        # Decoder\n",
    "        \n",
    "            \n",
    "        # Como encoder e decoder podem ter dimenoes\n",
    "        self.memory_match = nn.Linear(src_dim, tgt_dim)\n",
    "        \n",
    "        self.linear_layers = nn.ModuleList()\n",
    "        for i in range(num_linear_layers):\n",
    "            self.linear_layers.append(nn.Linear(src_dim, src_dim))\n",
    "            self.linear_layers.append(nn.ReLU6())\n",
    "        \n",
    "        \n",
    "    def forward(self, src, tgt, src_mask=None, tgt_mask=None, src_pad_mask=None, tgt_pad_mask=None, is_causal=False):\n",
    "        # Src size must be (batch_size, src sequence length)\n",
    "        # Tgt size must be (batch_size, tgt sequence length)\n",
    "        \n",
    "        \n",
    "        \n",
    "\n",
    "        # Step1 - Passing source through encoder\n",
    "        memory = self.encoder(src, \n",
    "                              mask=src_mask,\n",
    "                              src_key_padding_mask=src_pad_mask,\n",
    "                              is_causal=is_causal)\n",
    "        \n",
    "        for linear in self.linear_layers:\n",
    "            memory = linear(memory)\n",
    "            \n",
    "        transformer_out = self.memory_match(memory)\n",
    "              \n",
    "        out = transformer_out\n",
    "        \n",
    "        \n",
    "        return out\n",
    "      \n",
    "    def get_tgt_mask(self, size) -> torch.tensor:\n",
    "        # Generates a squeare matrix where the each row allows one word more to be seen\n",
    "        mask = torch.tril(torch.ones(size, size) == 1) # Lower triangular matrix\n",
    "        mask = mask.float()\n",
    "        mask = mask.masked_fill(mask == 0,float('-inf')) # Convert zeros to -inf\n",
    "        mask = mask.masked_fill(mask == 1,float(0)) # Convert ones to 0\n",
    "        \n",
    "        # EX for size=5:\n",
    "        # [[0., -inf, -inf, -inf, -inf],\n",
    "        #  [0.,   0., -inf, -inf, -inf],\n",
    "        #  [0.,   0.,   0., -inf, -inf],\n",
    "        #  [0.,   0.,   0.,   0., -inf],\n",
    "        #  [0.,   0.,   0.,   0.,   0.]]\n",
    "        \n",
    "        return mask\n",
    "    \n",
    "    def create_pad_mask(self, matrix: torch.tensor, pad_token: int) -> torch.tensor:\n",
    "        # If matrix = [1,2,3,0,0,0] where pad_token=0, the result mask is\n",
    "        # [False, False, False, True, True, True]\n",
    "        return (matrix == pad_token)"
   ]
  },
  {
   "cell_type": "code",
   "execution_count": 22,
   "metadata": {
    "tags": []
   },
   "outputs": [],
   "source": [
    "class Training:\n",
    "    \n",
    "    def __init__(self, epochs, loss, optimizer, scheduler, path, model_name='Transformer', model_size=8, early_stop=True, patience=5):\n",
    "        \n",
    "        self.loss = loss\n",
    "        self.optimizer = optimizer\n",
    "        self.scheduler = scheduler\n",
    "        self.epochs = epochs\n",
    "        self.path = path\n",
    "        self.model_name = model_name\n",
    "        self.model_size = model_size\n",
    "        self.early_stop_flag = early_stop\n",
    "        self.patience = patience\n",
    "        self.clear_results()\n",
    "        \n",
    "    def clear_results(self):\n",
    "        \n",
    "        self.results = {\n",
    "            'Train':[],\n",
    "            'Validation':[],\n",
    "            'Test':[],\n",
    "        }\n",
    "        \n",
    "    def fit(self, model, train_loader, validation_loader, test_loader):\n",
    "        \n",
    "        self.clear_results()\n",
    "        torch.cuda.empty_cache()\n",
    "        decrease = self.patience\n",
    "        not_improved = 0\n",
    "        \n",
    "        model.to(device)\n",
    "        fit_time = time.time()\n",
    "        \n",
    "        for e in range(self.epochs):\n",
    "            since = time.time()\n",
    "            running_loss = 0\n",
    "            #training loop\n",
    "            model.train()\n",
    "            self.train_loop(model, train_loader)\n",
    "            model.eval()\n",
    "            self.validation_loop(model, validation_loader)\n",
    "            self.test_loop(model, test_loader)\n",
    "            decrease, not_improved = self.early_stopping(validation_loader, decrease)\n",
    "            if not_improved == 1 and self.early_stop_flag:\n",
    "                print('[***] end training ...') \n",
    "                break\n",
    "            loss_per_training_batch = self.results['Train'][-1]\n",
    "            loss_per_validation_batch = self.results['Validation'][-1]\n",
    "            loss_per_test_batch = self.results['Test'][-1]\n",
    "            print(\"Epoch:{}/{}..\".format(e+1, self.epochs),\n",
    "                  \"Train Loss: {:.3f}..\".format(loss_per_training_batch),\n",
    "                  \"Val Loss: {:.3f}..\".format(loss_per_validation_batch),\n",
    "                  \"Test Loss: {:.3f}..\".format(loss_per_test_batch),\n",
    "                  \"Time: {:.2f}m\".format((time.time()-since)/60))\n",
    "        print('Total time: {:.2f} m' .format((time.time()- fit_time)/60))\n",
    "        \n",
    "    def train_loop(self, model, train_loader):\n",
    "        \n",
    "        mask = model.get_tgt_mask(self.model_size).to(device)\n",
    "        running_loss = 0.0\n",
    "        for i, data in enumerate(tqdm(train_loader)):\n",
    "            #training phase\n",
    "            X, y_tgt, y_out = data\n",
    "            X, y_tgt, y_out = X.to(device), y_tgt.to(device), y_out.to(device)\n",
    "            \n",
    "            output = model(X, y_tgt, src_mask=mask, tgt_mask=mask)\n",
    "            #print(X.shape, y_tgt.shape, y_out.shape, output.shape)\n",
    "            loss = self.loss(output, y_out)\n",
    "            #backward\n",
    "            loss.backward()\n",
    "            self.optimizer.step() #update weight          \n",
    "            self.optimizer.zero_grad() #reset gradient\n",
    "            \n",
    "            #step the learning rate\n",
    "            if not self.scheduler is None:\n",
    "                self.scheduler.step()\n",
    "            running_loss += loss.item()\n",
    "        \n",
    "        self.results['Train'].append(running_loss/len(train_loader))\n",
    "    \n",
    "    \n",
    "    def validation_loop(self, model, validation_loader):\n",
    "        \n",
    "        mask = model.get_tgt_mask(self.model_size).to(device)\n",
    "        running_loss = 0.0\n",
    "        with torch.no_grad():\n",
    "            for i, data in enumerate(tqdm(validation_loader)):\n",
    "                #training phase\n",
    "                X, y_tgt, y_out = data\n",
    "                X, y_tgt, y_out = X.to(device), y_tgt.to(device), y_out.to(device)\n",
    "                \n",
    "                output = model(X, y_tgt, src_mask=mask, tgt_mask=mask)\n",
    "                loss = self.loss(output, y_out)\n",
    "                \n",
    "                running_loss += loss.item()\n",
    "        \n",
    "        self.results['Validation'].append(running_loss/len(validation_loader))\n",
    "        \n",
    "    def test_loop(self, model, test_loader):\n",
    "        \n",
    "        mask = model.get_tgt_mask(self.model_size).to(device)\n",
    "        running_loss = 0.0\n",
    "        with torch.no_grad():\n",
    "            for i, data in enumerate(tqdm(test_loader)):\n",
    "                #training phase\n",
    "                X, y_tgt, y_out = data\n",
    "                X, y_tgt, y_out = X.to(device), y_tgt.to(device), y_out.to(device)\n",
    "                \n",
    "                output = model(X, y_tgt, src_mask=mask, tgt_mask=mask)\n",
    "                loss = self.loss(output, y_out)\n",
    "                \n",
    "                running_loss += loss.item()\n",
    "        \n",
    "        self.results['Test'].append(running_loss/len(test_loader))\n",
    "        \n",
    "    def early_stopping(self, validation_loader, decrease):\n",
    "        \n",
    "        loss_per_validation_batch = self.results['Validation'][-1]\n",
    "        min_loss = np.min(self.results['Validation'][:-1] + [np.inf])\n",
    "        if min_loss >= self.results['Validation'][-1]:\n",
    "            print('Loss Decreasing.. {:.3f} >> {:.3f} '.format(min_loss, loss_per_validation_batch))\n",
    "            decrease = self.patience\n",
    "            print('saving model...')\n",
    "            torch.save(model, self.path + f'/{self.model_name}.pt')\n",
    "        else:\n",
    "            decrease -= 1\n",
    "        if decrease < 0:     \n",
    "                not_improved = 1\n",
    "        else:\n",
    "            not_improved = 0\n",
    "        return decrease, not_improved\n",
    "    \n",
    "    def get_best_model(self):\n",
    "        \n",
    "        model = torch.load(self.path + f'/{self.model_name}.pt')\n",
    "        return model\n",
    "            \n",
    "            "
   ]
  },
  {
   "cell_type": "code",
   "execution_count": 23,
   "metadata": {
    "tags": []
   },
   "outputs": [
    {
     "name": "stdout",
     "output_type": "stream",
     "text": [
      "Number of parameters: 1423\n",
      "TSTransformer(\n",
      "  (encoder): TransformerEncoder(\n",
      "    (layers): ModuleList(\n",
      "      (0-3): 4 x TransformerEncoderLayer(\n",
      "        (self_attn): MultiheadAttention(\n",
      "          (out_proj): NonDynamicallyQuantizableLinear(in_features=6, out_features=6, bias=True)\n",
      "        )\n",
      "        (linear1): Linear(in_features=6, out_features=12, bias=True)\n",
      "        (dropout): Dropout(p=0.1, inplace=False)\n",
      "        (linear2): Linear(in_features=12, out_features=6, bias=True)\n",
      "        (norm1): LayerNorm((6,), eps=1e-05, elementwise_affine=True)\n",
      "        (norm2): LayerNorm((6,), eps=1e-05, elementwise_affine=True)\n",
      "        (dropout1): Dropout(p=0.1, inplace=False)\n",
      "        (dropout2): Dropout(p=0.1, inplace=False)\n",
      "      )\n",
      "    )\n",
      "  )\n",
      "  (memory_match): Linear(in_features=6, out_features=1, bias=True)\n",
      "  (linear_layers): ModuleList()\n",
      ")\n"
     ]
    }
   ],
   "source": [
    "model = TSTransformer(\n",
    "    src_dim=6,\n",
    "    tgt_dim=1,\n",
    "    src_heads=1,\n",
    "    num_encoder_layers=4,\n",
    "    dropout_p=0.1,\n",
    "    dim_feedforward =12,\n",
    "    num_linear_layers=0,\n",
    "    norm_first=False,\n",
    ").to(device)\n",
    "\n",
    "print(f'Number of parameters: {sum(p.numel() for p in model.parameters() if p.requires_grad)}')\n",
    "print(model)\n",
    "\n",
    "lr_ = 5e-4\n",
    "epoch = 1000\n",
    "weight_decay = 1e-4\n",
    "path = '.'\n",
    "model_name = 'TRANSPOSED-MULTI-SIMP'\n",
    "\n",
    "loss = torch.nn.MSELoss()\n",
    "#optimizer = torch.optim.Adam(model.parameters(), lr=lr_)\n",
    "#optimizer = torch.optim.SGD(model.parameters(), lr=lr_)\n",
    "optimizer = torch.optim.AdamW(model.parameters(), lr=lr_, \n",
    "                              weight_decay=weight_decay)\n",
    "\n",
    "sched = None\n",
    "sched = torch.optim.lr_scheduler.OneCycleLR(optimizer, lr_, epochs=epoch,\n",
    "                                            steps_per_epoch=len(train_loader))\n",
    "\n",
    "training = Training(epoch, loss, optimizer, sched, model_name=model_name, \n",
    "                    model_size = dataset.max_sequence, path=path, \n",
    "                    early_stop=True, patience=20)"
   ]
  },
  {
   "cell_type": "code",
   "execution_count": 24,
   "metadata": {
    "tags": []
   },
   "outputs": [
    {
     "name": "stderr",
     "output_type": "stream",
     "text": [
      "100%|██████████| 238/238 [00:01<00:00, 133.28it/s]\n",
      "  0%|          | 0/85 [00:00<?, ?it/s]/projetos/c5ef/venvs/dl_raul/lib64/python3.9/site-packages/torch/nn/modules/activation.py:1160: UserWarning: Converting mask without torch.bool dtype to bool; this will negatively affect performance. Prefer to use a boolean mask directly. (Triggered internally at ../aten/src/ATen/native/transformers/attention.cpp:150.)\n",
      "  return torch._native_multi_head_attention(\n",
      "100%|██████████| 85/85 [00:00<00:00, 536.44it/s]\n",
      "100%|██████████| 17/17 [00:00<00:00, 482.70it/s]\n"
     ]
    },
    {
     "name": "stdout",
     "output_type": "stream",
     "text": [
      "Loss Decreasing.. inf >> 0.355 \n",
      "saving model...\n",
      "Epoch:1/1000.. Train Loss: 0.420.. Val Loss: 0.355.. Test Loss: 0.486.. Time: 0.03m\n"
     ]
    },
    {
     "name": "stderr",
     "output_type": "stream",
     "text": [
      "100%|██████████| 238/238 [00:01<00:00, 134.43it/s]\n",
      "100%|██████████| 85/85 [00:00<00:00, 543.30it/s]\n",
      "100%|██████████| 17/17 [00:00<00:00, 485.57it/s]\n"
     ]
    },
    {
     "name": "stdout",
     "output_type": "stream",
     "text": [
      "Loss Decreasing.. 0.355 >> 0.276 \n",
      "saving model...\n",
      "Epoch:2/1000.. Train Loss: 0.327.. Val Loss: 0.276.. Test Loss: 0.362.. Time: 0.03m\n"
     ]
    },
    {
     "name": "stderr",
     "output_type": "stream",
     "text": [
      "100%|██████████| 238/238 [00:01<00:00, 133.67it/s]\n",
      "100%|██████████| 85/85 [00:00<00:00, 538.80it/s]\n",
      "100%|██████████| 17/17 [00:00<00:00, 500.69it/s]\n"
     ]
    },
    {
     "name": "stdout",
     "output_type": "stream",
     "text": [
      "Loss Decreasing.. 0.276 >> 0.227 \n",
      "saving model...\n",
      "Epoch:3/1000.. Train Loss: 0.266.. Val Loss: 0.227.. Test Loss: 0.276.. Time: 0.03m\n"
     ]
    },
    {
     "name": "stderr",
     "output_type": "stream",
     "text": [
      "100%|██████████| 238/238 [00:01<00:00, 143.54it/s]\n",
      "100%|██████████| 85/85 [00:00<00:00, 536.95it/s]\n",
      "100%|██████████| 17/17 [00:00<00:00, 496.89it/s]\n"
     ]
    },
    {
     "name": "stdout",
     "output_type": "stream",
     "text": [
      "Loss Decreasing.. 0.227 >> 0.200 \n",
      "saving model...\n",
      "Epoch:4/1000.. Train Loss: 0.231.. Val Loss: 0.200.. Test Loss: 0.219.. Time: 0.03m\n"
     ]
    },
    {
     "name": "stderr",
     "output_type": "stream",
     "text": [
      "100%|██████████| 238/238 [00:01<00:00, 142.44it/s]\n",
      "100%|██████████| 85/85 [00:00<00:00, 545.98it/s]\n",
      "100%|██████████| 17/17 [00:00<00:00, 490.52it/s]\n"
     ]
    },
    {
     "name": "stdout",
     "output_type": "stream",
     "text": [
      "Loss Decreasing.. 0.200 >> 0.187 \n",
      "saving model...\n",
      "Epoch:5/1000.. Train Loss: 0.212.. Val Loss: 0.187.. Test Loss: 0.185.. Time: 0.03m\n"
     ]
    },
    {
     "name": "stderr",
     "output_type": "stream",
     "text": [
      "100%|██████████| 238/238 [00:01<00:00, 131.80it/s]\n",
      "100%|██████████| 85/85 [00:00<00:00, 519.03it/s]\n",
      "100%|██████████| 17/17 [00:00<00:00, 491.33it/s]\n"
     ]
    },
    {
     "name": "stdout",
     "output_type": "stream",
     "text": [
      "Loss Decreasing.. 0.187 >> 0.180 \n",
      "saving model...\n",
      "Epoch:6/1000.. Train Loss: 0.204.. Val Loss: 0.180.. Test Loss: 0.165.. Time: 0.03m\n"
     ]
    },
    {
     "name": "stderr",
     "output_type": "stream",
     "text": [
      "100%|██████████| 238/238 [00:01<00:00, 127.51it/s]\n",
      "100%|██████████| 85/85 [00:00<00:00, 523.99it/s]\n",
      "100%|██████████| 17/17 [00:00<00:00, 488.28it/s]\n"
     ]
    },
    {
     "name": "stdout",
     "output_type": "stream",
     "text": [
      "Loss Decreasing.. 0.180 >> 0.177 \n",
      "saving model...\n",
      "Epoch:7/1000.. Train Loss: 0.199.. Val Loss: 0.177.. Test Loss: 0.154.. Time: 0.04m\n"
     ]
    },
    {
     "name": "stderr",
     "output_type": "stream",
     "text": [
      "100%|██████████| 238/238 [00:01<00:00, 131.09it/s]\n",
      "100%|██████████| 85/85 [00:00<00:00, 535.42it/s]\n",
      "100%|██████████| 17/17 [00:00<00:00, 496.24it/s]\n"
     ]
    },
    {
     "name": "stdout",
     "output_type": "stream",
     "text": [
      "Loss Decreasing.. 0.177 >> 0.174 \n",
      "saving model...\n",
      "Epoch:8/1000.. Train Loss: 0.195.. Val Loss: 0.174.. Test Loss: 0.149.. Time: 0.03m\n"
     ]
    },
    {
     "name": "stderr",
     "output_type": "stream",
     "text": [
      "100%|██████████| 238/238 [00:01<00:00, 137.95it/s]\n",
      "100%|██████████| 85/85 [00:00<00:00, 532.33it/s]\n",
      "100%|██████████| 17/17 [00:00<00:00, 491.96it/s]\n"
     ]
    },
    {
     "name": "stdout",
     "output_type": "stream",
     "text": [
      "Loss Decreasing.. 0.174 >> 0.172 \n",
      "saving model...\n",
      "Epoch:9/1000.. Train Loss: 0.193.. Val Loss: 0.172.. Test Loss: 0.145.. Time: 0.03m\n"
     ]
    },
    {
     "name": "stderr",
     "output_type": "stream",
     "text": [
      "100%|██████████| 238/238 [00:01<00:00, 129.48it/s]\n",
      "100%|██████████| 85/85 [00:00<00:00, 504.24it/s]\n",
      "100%|██████████| 17/17 [00:00<00:00, 469.12it/s]\n"
     ]
    },
    {
     "name": "stdout",
     "output_type": "stream",
     "text": [
      "Loss Decreasing.. 0.172 >> 0.170 \n",
      "saving model...\n",
      "Epoch:10/1000.. Train Loss: 0.190.. Val Loss: 0.170.. Test Loss: 0.143.. Time: 0.04m\n"
     ]
    },
    {
     "name": "stderr",
     "output_type": "stream",
     "text": [
      "100%|██████████| 238/238 [00:01<00:00, 132.77it/s]\n",
      "100%|██████████| 85/85 [00:00<00:00, 497.51it/s]\n",
      "100%|██████████| 17/17 [00:00<00:00, 490.99it/s]\n"
     ]
    },
    {
     "name": "stdout",
     "output_type": "stream",
     "text": [
      "Loss Decreasing.. 0.170 >> 0.166 \n",
      "saving model...\n",
      "Epoch:11/1000.. Train Loss: 0.187.. Val Loss: 0.166.. Test Loss: 0.140.. Time: 0.03m\n"
     ]
    },
    {
     "name": "stderr",
     "output_type": "stream",
     "text": [
      "100%|██████████| 238/238 [00:01<00:00, 134.26it/s]\n",
      "100%|██████████| 85/85 [00:00<00:00, 529.34it/s]\n",
      "100%|██████████| 17/17 [00:00<00:00, 493.75it/s]\n"
     ]
    },
    {
     "name": "stdout",
     "output_type": "stream",
     "text": [
      "Loss Decreasing.. 0.166 >> 0.161 \n",
      "saving model...\n",
      "Epoch:12/1000.. Train Loss: 0.182.. Val Loss: 0.161.. Test Loss: 0.136.. Time: 0.03m\n"
     ]
    },
    {
     "name": "stderr",
     "output_type": "stream",
     "text": [
      "100%|██████████| 238/238 [00:01<00:00, 137.83it/s]\n",
      "100%|██████████| 85/85 [00:00<00:00, 522.80it/s]\n",
      "100%|██████████| 17/17 [00:00<00:00, 485.36it/s]\n"
     ]
    },
    {
     "name": "stdout",
     "output_type": "stream",
     "text": [
      "Loss Decreasing.. 0.161 >> 0.152 \n",
      "saving model...\n",
      "Epoch:13/1000.. Train Loss: 0.176.. Val Loss: 0.152.. Test Loss: 0.130.. Time: 0.03m\n"
     ]
    },
    {
     "name": "stderr",
     "output_type": "stream",
     "text": [
      "100%|██████████| 238/238 [00:01<00:00, 136.73it/s]\n",
      "100%|██████████| 85/85 [00:00<00:00, 525.26it/s]\n",
      "100%|██████████| 17/17 [00:00<00:00, 488.72it/s]\n"
     ]
    },
    {
     "name": "stdout",
     "output_type": "stream",
     "text": [
      "Loss Decreasing.. 0.152 >> 0.138 \n",
      "saving model...\n",
      "Epoch:14/1000.. Train Loss: 0.167.. Val Loss: 0.138.. Test Loss: 0.118.. Time: 0.03m\n"
     ]
    },
    {
     "name": "stderr",
     "output_type": "stream",
     "text": [
      "100%|██████████| 238/238 [00:01<00:00, 131.32it/s]\n",
      "100%|██████████| 85/85 [00:00<00:00, 525.65it/s]\n",
      "100%|██████████| 17/17 [00:00<00:00, 487.50it/s]\n"
     ]
    },
    {
     "name": "stdout",
     "output_type": "stream",
     "text": [
      "Loss Decreasing.. 0.138 >> 0.119 \n",
      "saving model...\n",
      "Epoch:15/1000.. Train Loss: 0.153.. Val Loss: 0.119.. Test Loss: 0.100.. Time: 0.03m\n"
     ]
    },
    {
     "name": "stderr",
     "output_type": "stream",
     "text": [
      "100%|██████████| 238/238 [00:01<00:00, 139.25it/s]\n",
      "100%|██████████| 85/85 [00:00<00:00, 508.75it/s]\n",
      "100%|██████████| 17/17 [00:00<00:00, 493.18it/s]\n"
     ]
    },
    {
     "name": "stdout",
     "output_type": "stream",
     "text": [
      "Loss Decreasing.. 0.119 >> 0.102 \n",
      "saving model...\n",
      "Epoch:16/1000.. Train Loss: 0.136.. Val Loss: 0.102.. Test Loss: 0.082.. Time: 0.03m\n"
     ]
    },
    {
     "name": "stderr",
     "output_type": "stream",
     "text": [
      "100%|██████████| 238/238 [00:01<00:00, 133.69it/s]\n",
      "100%|██████████| 85/85 [00:00<00:00, 504.77it/s]\n",
      "100%|██████████| 17/17 [00:00<00:00, 490.67it/s]\n"
     ]
    },
    {
     "name": "stdout",
     "output_type": "stream",
     "text": [
      "Loss Decreasing.. 0.102 >> 0.092 \n",
      "saving model...\n",
      "Epoch:17/1000.. Train Loss: 0.123.. Val Loss: 0.092.. Test Loss: 0.069.. Time: 0.03m\n"
     ]
    },
    {
     "name": "stderr",
     "output_type": "stream",
     "text": [
      "100%|██████████| 238/238 [00:01<00:00, 133.69it/s]\n",
      "100%|██████████| 85/85 [00:00<00:00, 536.59it/s]\n",
      "100%|██████████| 17/17 [00:00<00:00, 487.93it/s]\n"
     ]
    },
    {
     "name": "stdout",
     "output_type": "stream",
     "text": [
      "Loss Decreasing.. 0.092 >> 0.087 \n",
      "saving model...\n",
      "Epoch:18/1000.. Train Loss: 0.114.. Val Loss: 0.087.. Test Loss: 0.061.. Time: 0.03m\n"
     ]
    },
    {
     "name": "stderr",
     "output_type": "stream",
     "text": [
      "100%|██████████| 238/238 [00:01<00:00, 134.53it/s]\n",
      "100%|██████████| 85/85 [00:00<00:00, 524.77it/s]\n",
      "100%|██████████| 17/17 [00:00<00:00, 473.52it/s]\n"
     ]
    },
    {
     "name": "stdout",
     "output_type": "stream",
     "text": [
      "Loss Decreasing.. 0.087 >> 0.084 \n",
      "saving model...\n",
      "Epoch:19/1000.. Train Loss: 0.108.. Val Loss: 0.084.. Test Loss: 0.058.. Time: 0.03m\n"
     ]
    },
    {
     "name": "stderr",
     "output_type": "stream",
     "text": [
      "100%|██████████| 238/238 [00:01<00:00, 134.90it/s]\n",
      "100%|██████████| 85/85 [00:00<00:00, 519.26it/s]\n",
      "100%|██████████| 17/17 [00:00<00:00, 526.05it/s]\n"
     ]
    },
    {
     "name": "stdout",
     "output_type": "stream",
     "text": [
      "Loss Decreasing.. 0.084 >> 0.082 \n",
      "saving model...\n",
      "Epoch:20/1000.. Train Loss: 0.104.. Val Loss: 0.082.. Test Loss: 0.056.. Time: 0.03m\n"
     ]
    },
    {
     "name": "stderr",
     "output_type": "stream",
     "text": [
      "100%|██████████| 238/238 [00:01<00:00, 133.78it/s]\n",
      "100%|██████████| 85/85 [00:00<00:00, 533.65it/s]\n",
      "100%|██████████| 17/17 [00:00<00:00, 483.78it/s]\n"
     ]
    },
    {
     "name": "stdout",
     "output_type": "stream",
     "text": [
      "Loss Decreasing.. 0.082 >> 0.081 \n",
      "saving model...\n",
      "Epoch:21/1000.. Train Loss: 0.100.. Val Loss: 0.081.. Test Loss: 0.055.. Time: 0.03m\n"
     ]
    },
    {
     "name": "stderr",
     "output_type": "stream",
     "text": [
      "100%|██████████| 238/238 [00:01<00:00, 134.06it/s]\n",
      "100%|██████████| 85/85 [00:00<00:00, 530.23it/s]\n",
      "100%|██████████| 17/17 [00:00<00:00, 492.97it/s]\n"
     ]
    },
    {
     "name": "stdout",
     "output_type": "stream",
     "text": [
      "Loss Decreasing.. 0.081 >> 0.080 \n",
      "saving model...\n",
      "Epoch:22/1000.. Train Loss: 0.098.. Val Loss: 0.080.. Test Loss: 0.055.. Time: 0.03m\n"
     ]
    },
    {
     "name": "stderr",
     "output_type": "stream",
     "text": [
      "100%|██████████| 238/238 [00:01<00:00, 133.30it/s]\n",
      "100%|██████████| 85/85 [00:00<00:00, 534.12it/s]\n",
      "100%|██████████| 17/17 [00:00<00:00, 499.98it/s]\n"
     ]
    },
    {
     "name": "stdout",
     "output_type": "stream",
     "text": [
      "Loss Decreasing.. 0.080 >> 0.079 \n",
      "saving model...\n",
      "Epoch:23/1000.. Train Loss: 0.096.. Val Loss: 0.079.. Test Loss: 0.054.. Time: 0.03m\n"
     ]
    },
    {
     "name": "stderr",
     "output_type": "stream",
     "text": [
      "100%|██████████| 238/238 [00:01<00:00, 130.17it/s]\n",
      "100%|██████████| 85/85 [00:00<00:00, 537.86it/s]\n",
      "100%|██████████| 17/17 [00:00<00:00, 486.51it/s]\n"
     ]
    },
    {
     "name": "stdout",
     "output_type": "stream",
     "text": [
      "Loss Decreasing.. 0.079 >> 0.078 \n",
      "saving model...\n",
      "Epoch:24/1000.. Train Loss: 0.094.. Val Loss: 0.078.. Test Loss: 0.053.. Time: 0.03m\n"
     ]
    },
    {
     "name": "stderr",
     "output_type": "stream",
     "text": [
      "100%|██████████| 238/238 [00:01<00:00, 132.28it/s]\n",
      "100%|██████████| 85/85 [00:00<00:00, 538.87it/s]\n",
      "100%|██████████| 17/17 [00:00<00:00, 503.33it/s]\n"
     ]
    },
    {
     "name": "stdout",
     "output_type": "stream",
     "text": [
      "Loss Decreasing.. 0.078 >> 0.078 \n",
      "saving model...\n",
      "Epoch:25/1000.. Train Loss: 0.092.. Val Loss: 0.078.. Test Loss: 0.054.. Time: 0.03m\n"
     ]
    },
    {
     "name": "stderr",
     "output_type": "stream",
     "text": [
      "100%|██████████| 238/238 [00:01<00:00, 134.85it/s]\n",
      "100%|██████████| 85/85 [00:00<00:00, 535.44it/s]\n",
      "100%|██████████| 17/17 [00:00<00:00, 547.33it/s]\n"
     ]
    },
    {
     "name": "stdout",
     "output_type": "stream",
     "text": [
      "Loss Decreasing.. 0.078 >> 0.077 \n",
      "saving model...\n",
      "Epoch:26/1000.. Train Loss: 0.090.. Val Loss: 0.077.. Test Loss: 0.053.. Time: 0.03m\n"
     ]
    },
    {
     "name": "stderr",
     "output_type": "stream",
     "text": [
      "100%|██████████| 238/238 [00:01<00:00, 134.10it/s]\n",
      "100%|██████████| 85/85 [00:00<00:00, 528.17it/s]\n",
      "100%|██████████| 17/17 [00:00<00:00, 500.83it/s]\n"
     ]
    },
    {
     "name": "stdout",
     "output_type": "stream",
     "text": [
      "Loss Decreasing.. 0.077 >> 0.076 \n",
      "saving model...\n",
      "Epoch:27/1000.. Train Loss: 0.089.. Val Loss: 0.076.. Test Loss: 0.052.. Time: 0.03m\n"
     ]
    },
    {
     "name": "stderr",
     "output_type": "stream",
     "text": [
      "100%|██████████| 238/238 [00:01<00:00, 139.83it/s]\n",
      "100%|██████████| 85/85 [00:00<00:00, 542.10it/s]\n",
      "100%|██████████| 17/17 [00:00<00:00, 483.48it/s]\n"
     ]
    },
    {
     "name": "stdout",
     "output_type": "stream",
     "text": [
      "Loss Decreasing.. 0.076 >> 0.075 \n",
      "saving model...\n",
      "Epoch:28/1000.. Train Loss: 0.088.. Val Loss: 0.075.. Test Loss: 0.053.. Time: 0.03m\n"
     ]
    },
    {
     "name": "stderr",
     "output_type": "stream",
     "text": [
      "100%|██████████| 238/238 [00:01<00:00, 137.59it/s]\n",
      "100%|██████████| 85/85 [00:00<00:00, 535.31it/s]\n",
      "100%|██████████| 17/17 [00:00<00:00, 516.71it/s]\n"
     ]
    },
    {
     "name": "stdout",
     "output_type": "stream",
     "text": [
      "Loss Decreasing.. 0.075 >> 0.074 \n",
      "saving model...\n",
      "Epoch:29/1000.. Train Loss: 0.086.. Val Loss: 0.074.. Test Loss: 0.052.. Time: 0.03m\n"
     ]
    },
    {
     "name": "stderr",
     "output_type": "stream",
     "text": [
      "100%|██████████| 238/238 [00:01<00:00, 133.47it/s]\n",
      "100%|██████████| 85/85 [00:00<00:00, 542.30it/s]\n",
      "100%|██████████| 17/17 [00:00<00:00, 487.59it/s]\n"
     ]
    },
    {
     "name": "stdout",
     "output_type": "stream",
     "text": [
      "Loss Decreasing.. 0.074 >> 0.073 \n",
      "saving model...\n",
      "Epoch:30/1000.. Train Loss: 0.085.. Val Loss: 0.073.. Test Loss: 0.052.. Time: 0.03m\n"
     ]
    },
    {
     "name": "stderr",
     "output_type": "stream",
     "text": [
      "100%|██████████| 238/238 [00:01<00:00, 131.93it/s]\n",
      "100%|██████████| 85/85 [00:00<00:00, 522.73it/s]\n",
      "100%|██████████| 17/17 [00:00<00:00, 503.07it/s]\n"
     ]
    },
    {
     "name": "stdout",
     "output_type": "stream",
     "text": [
      "Loss Decreasing.. 0.073 >> 0.073 \n",
      "saving model...\n",
      "Epoch:31/1000.. Train Loss: 0.084.. Val Loss: 0.073.. Test Loss: 0.052.. Time: 0.03m\n"
     ]
    },
    {
     "name": "stderr",
     "output_type": "stream",
     "text": [
      "100%|██████████| 238/238 [00:01<00:00, 132.60it/s]\n",
      "100%|██████████| 85/85 [00:00<00:00, 518.80it/s]\n",
      "100%|██████████| 17/17 [00:00<00:00, 498.56it/s]\n"
     ]
    },
    {
     "name": "stdout",
     "output_type": "stream",
     "text": [
      "Loss Decreasing.. 0.073 >> 0.072 \n",
      "saving model...\n",
      "Epoch:32/1000.. Train Loss: 0.083.. Val Loss: 0.072.. Test Loss: 0.052.. Time: 0.03m\n"
     ]
    },
    {
     "name": "stderr",
     "output_type": "stream",
     "text": [
      "100%|██████████| 238/238 [00:01<00:00, 134.29it/s]\n",
      "100%|██████████| 85/85 [00:00<00:00, 511.97it/s]\n",
      "100%|██████████| 17/17 [00:00<00:00, 469.34it/s]\n"
     ]
    },
    {
     "name": "stdout",
     "output_type": "stream",
     "text": [
      "Loss Decreasing.. 0.072 >> 0.071 \n",
      "saving model...\n",
      "Epoch:33/1000.. Train Loss: 0.082.. Val Loss: 0.071.. Test Loss: 0.051.. Time: 0.03m\n"
     ]
    },
    {
     "name": "stderr",
     "output_type": "stream",
     "text": [
      "100%|██████████| 238/238 [00:01<00:00, 132.71it/s]\n",
      "100%|██████████| 85/85 [00:00<00:00, 257.49it/s]\n",
      "100%|██████████| 17/17 [00:00<00:00, 490.71it/s]\n"
     ]
    },
    {
     "name": "stdout",
     "output_type": "stream",
     "text": [
      "Loss Decreasing.. 0.071 >> 0.070 \n",
      "saving model...\n",
      "Epoch:34/1000.. Train Loss: 0.082.. Val Loss: 0.070.. Test Loss: 0.051.. Time: 0.04m\n"
     ]
    },
    {
     "name": "stderr",
     "output_type": "stream",
     "text": [
      "100%|██████████| 238/238 [00:01<00:00, 132.62it/s]\n",
      "100%|██████████| 85/85 [00:00<00:00, 531.71it/s]\n",
      "100%|██████████| 17/17 [00:00<00:00, 482.62it/s]\n"
     ]
    },
    {
     "name": "stdout",
     "output_type": "stream",
     "text": [
      "Loss Decreasing.. 0.070 >> 0.070 \n",
      "saving model...\n",
      "Epoch:35/1000.. Train Loss: 0.080.. Val Loss: 0.070.. Test Loss: 0.050.. Time: 0.03m\n"
     ]
    },
    {
     "name": "stderr",
     "output_type": "stream",
     "text": [
      "100%|██████████| 238/238 [00:01<00:00, 128.22it/s]\n",
      "100%|██████████| 85/85 [00:00<00:00, 498.72it/s]\n",
      "100%|██████████| 17/17 [00:00<00:00, 465.81it/s]\n"
     ]
    },
    {
     "name": "stdout",
     "output_type": "stream",
     "text": [
      "Loss Decreasing.. 0.070 >> 0.069 \n",
      "saving model...\n",
      "Epoch:36/1000.. Train Loss: 0.079.. Val Loss: 0.069.. Test Loss: 0.050.. Time: 0.04m\n"
     ]
    },
    {
     "name": "stderr",
     "output_type": "stream",
     "text": [
      "100%|██████████| 238/238 [00:01<00:00, 128.70it/s]\n",
      "100%|██████████| 85/85 [00:00<00:00, 497.12it/s]\n",
      "100%|██████████| 17/17 [00:00<00:00, 481.77it/s]\n"
     ]
    },
    {
     "name": "stdout",
     "output_type": "stream",
     "text": [
      "Loss Decreasing.. 0.069 >> 0.069 \n",
      "saving model...\n",
      "Epoch:37/1000.. Train Loss: 0.079.. Val Loss: 0.069.. Test Loss: 0.050.. Time: 0.04m\n"
     ]
    },
    {
     "name": "stderr",
     "output_type": "stream",
     "text": [
      "100%|██████████| 238/238 [00:01<00:00, 131.94it/s]\n",
      "100%|██████████| 85/85 [00:00<00:00, 517.50it/s]\n",
      "100%|██████████| 17/17 [00:00<00:00, 491.33it/s]\n"
     ]
    },
    {
     "name": "stdout",
     "output_type": "stream",
     "text": [
      "Loss Decreasing.. 0.069 >> 0.068 \n",
      "saving model...\n",
      "Epoch:38/1000.. Train Loss: 0.078.. Val Loss: 0.068.. Test Loss: 0.049.. Time: 0.03m\n"
     ]
    },
    {
     "name": "stderr",
     "output_type": "stream",
     "text": [
      "100%|██████████| 238/238 [00:01<00:00, 140.91it/s]\n",
      "100%|██████████| 85/85 [00:00<00:00, 521.78it/s]\n",
      "100%|██████████| 17/17 [00:00<00:00, 500.91it/s]\n"
     ]
    },
    {
     "name": "stdout",
     "output_type": "stream",
     "text": [
      "Loss Decreasing.. 0.068 >> 0.068 \n",
      "saving model...\n",
      "Epoch:39/1000.. Train Loss: 0.077.. Val Loss: 0.068.. Test Loss: 0.049.. Time: 0.03m\n"
     ]
    },
    {
     "name": "stderr",
     "output_type": "stream",
     "text": [
      "100%|██████████| 238/238 [00:01<00:00, 132.33it/s]\n",
      "100%|██████████| 85/85 [00:00<00:00, 530.37it/s]\n",
      "100%|██████████| 17/17 [00:00<00:00, 473.65it/s]\n"
     ]
    },
    {
     "name": "stdout",
     "output_type": "stream",
     "text": [
      "Loss Decreasing.. 0.068 >> 0.067 \n",
      "saving model...\n",
      "Epoch:40/1000.. Train Loss: 0.076.. Val Loss: 0.067.. Test Loss: 0.049.. Time: 0.03m\n"
     ]
    },
    {
     "name": "stderr",
     "output_type": "stream",
     "text": [
      "100%|██████████| 238/238 [00:01<00:00, 132.22it/s]\n",
      "100%|██████████| 85/85 [00:00<00:00, 527.17it/s]\n",
      "100%|██████████| 17/17 [00:00<00:00, 497.42it/s]\n"
     ]
    },
    {
     "name": "stdout",
     "output_type": "stream",
     "text": [
      "Loss Decreasing.. 0.067 >> 0.067 \n",
      "saving model...\n",
      "Epoch:41/1000.. Train Loss: 0.076.. Val Loss: 0.067.. Test Loss: 0.049.. Time: 0.03m\n"
     ]
    },
    {
     "name": "stderr",
     "output_type": "stream",
     "text": [
      "100%|██████████| 238/238 [00:01<00:00, 133.60it/s]\n",
      "100%|██████████| 85/85 [00:00<00:00, 534.98it/s]\n",
      "100%|██████████| 17/17 [00:00<00:00, 496.96it/s]\n"
     ]
    },
    {
     "name": "stdout",
     "output_type": "stream",
     "text": [
      "Loss Decreasing.. 0.067 >> 0.066 \n",
      "saving model...\n",
      "Epoch:42/1000.. Train Loss: 0.075.. Val Loss: 0.066.. Test Loss: 0.048.. Time: 0.03m\n"
     ]
    },
    {
     "name": "stderr",
     "output_type": "stream",
     "text": [
      "100%|██████████| 238/238 [00:01<00:00, 135.12it/s]\n",
      "100%|██████████| 85/85 [00:00<00:00, 515.99it/s]\n",
      "100%|██████████| 17/17 [00:00<00:00, 490.67it/s]\n"
     ]
    },
    {
     "name": "stdout",
     "output_type": "stream",
     "text": [
      "Loss Decreasing.. 0.066 >> 0.066 \n",
      "saving model...\n",
      "Epoch:43/1000.. Train Loss: 0.074.. Val Loss: 0.066.. Test Loss: 0.048.. Time: 0.03m\n"
     ]
    },
    {
     "name": "stderr",
     "output_type": "stream",
     "text": [
      "100%|██████████| 238/238 [00:01<00:00, 130.41it/s]\n",
      "100%|██████████| 85/85 [00:00<00:00, 522.66it/s]\n",
      "100%|██████████| 17/17 [00:00<00:00, 490.77it/s]\n"
     ]
    },
    {
     "name": "stdout",
     "output_type": "stream",
     "text": [
      "Loss Decreasing.. 0.066 >> 0.066 \n",
      "saving model...\n",
      "Epoch:44/1000.. Train Loss: 0.074.. Val Loss: 0.066.. Test Loss: 0.048.. Time: 0.03m\n"
     ]
    },
    {
     "name": "stderr",
     "output_type": "stream",
     "text": [
      "100%|██████████| 238/238 [00:01<00:00, 134.82it/s]\n",
      "100%|██████████| 85/85 [00:00<00:00, 515.85it/s]\n",
      "100%|██████████| 17/17 [00:00<00:00, 488.49it/s]\n"
     ]
    },
    {
     "name": "stdout",
     "output_type": "stream",
     "text": [
      "Loss Decreasing.. 0.066 >> 0.066 \n",
      "saving model...\n",
      "Epoch:45/1000.. Train Loss: 0.073.. Val Loss: 0.066.. Test Loss: 0.047.. Time: 0.03m\n"
     ]
    },
    {
     "name": "stderr",
     "output_type": "stream",
     "text": [
      "100%|██████████| 238/238 [00:01<00:00, 132.92it/s]\n",
      "100%|██████████| 85/85 [00:00<00:00, 529.08it/s]\n",
      "100%|██████████| 17/17 [00:00<00:00, 484.31it/s]\n"
     ]
    },
    {
     "name": "stdout",
     "output_type": "stream",
     "text": [
      "Loss Decreasing.. 0.066 >> 0.065 \n",
      "saving model...\n",
      "Epoch:46/1000.. Train Loss: 0.073.. Val Loss: 0.065.. Test Loss: 0.047.. Time: 0.03m\n"
     ]
    },
    {
     "name": "stderr",
     "output_type": "stream",
     "text": [
      "100%|██████████| 238/238 [00:01<00:00, 132.94it/s]\n",
      "100%|██████████| 85/85 [00:00<00:00, 533.42it/s]\n",
      "100%|██████████| 17/17 [00:00<00:00, 511.12it/s]\n"
     ]
    },
    {
     "name": "stdout",
     "output_type": "stream",
     "text": [
      "Loss Decreasing.. 0.065 >> 0.065 \n",
      "saving model...\n",
      "Epoch:47/1000.. Train Loss: 0.072.. Val Loss: 0.065.. Test Loss: 0.047.. Time: 0.03m\n"
     ]
    },
    {
     "name": "stderr",
     "output_type": "stream",
     "text": [
      "100%|██████████| 238/238 [00:01<00:00, 135.45it/s]\n",
      "100%|██████████| 85/85 [00:00<00:00, 536.76it/s]\n",
      "100%|██████████| 17/17 [00:00<00:00, 489.86it/s]\n"
     ]
    },
    {
     "name": "stdout",
     "output_type": "stream",
     "text": [
      "Loss Decreasing.. 0.065 >> 0.065 \n",
      "saving model...\n",
      "Epoch:48/1000.. Train Loss: 0.072.. Val Loss: 0.065.. Test Loss: 0.047.. Time: 0.03m\n"
     ]
    },
    {
     "name": "stderr",
     "output_type": "stream",
     "text": [
      "100%|██████████| 238/238 [00:01<00:00, 135.90it/s]\n",
      "100%|██████████| 85/85 [00:00<00:00, 528.56it/s]\n",
      "100%|██████████| 17/17 [00:00<00:00, 493.10it/s]\n"
     ]
    },
    {
     "name": "stdout",
     "output_type": "stream",
     "text": [
      "Loss Decreasing.. 0.065 >> 0.064 \n",
      "saving model...\n",
      "Epoch:49/1000.. Train Loss: 0.072.. Val Loss: 0.064.. Test Loss: 0.047.. Time: 0.03m\n"
     ]
    },
    {
     "name": "stderr",
     "output_type": "stream",
     "text": [
      "100%|██████████| 238/238 [00:01<00:00, 136.70it/s]\n",
      "100%|██████████| 85/85 [00:00<00:00, 541.08it/s]\n",
      "100%|██████████| 17/17 [00:00<00:00, 489.42it/s]\n"
     ]
    },
    {
     "name": "stdout",
     "output_type": "stream",
     "text": [
      "Loss Decreasing.. 0.064 >> 0.064 \n",
      "saving model...\n",
      "Epoch:50/1000.. Train Loss: 0.071.. Val Loss: 0.064.. Test Loss: 0.046.. Time: 0.03m\n"
     ]
    },
    {
     "name": "stderr",
     "output_type": "stream",
     "text": [
      "100%|██████████| 238/238 [00:01<00:00, 133.74it/s]\n",
      "100%|██████████| 85/85 [00:00<00:00, 526.51it/s]\n",
      "100%|██████████| 17/17 [00:00<00:00, 494.84it/s]\n"
     ]
    },
    {
     "name": "stdout",
     "output_type": "stream",
     "text": [
      "Loss Decreasing.. 0.064 >> 0.064 \n",
      "saving model...\n",
      "Epoch:51/1000.. Train Loss: 0.071.. Val Loss: 0.064.. Test Loss: 0.047.. Time: 0.03m\n"
     ]
    },
    {
     "name": "stderr",
     "output_type": "stream",
     "text": [
      "100%|██████████| 238/238 [00:01<00:00, 130.93it/s]\n",
      "100%|██████████| 85/85 [00:00<00:00, 542.54it/s]\n",
      "100%|██████████| 17/17 [00:00<00:00, 490.25it/s]\n"
     ]
    },
    {
     "name": "stdout",
     "output_type": "stream",
     "text": [
      "Loss Decreasing.. 0.064 >> 0.064 \n",
      "saving model...\n",
      "Epoch:52/1000.. Train Loss: 0.071.. Val Loss: 0.064.. Test Loss: 0.046.. Time: 0.03m\n"
     ]
    },
    {
     "name": "stderr",
     "output_type": "stream",
     "text": [
      "100%|██████████| 238/238 [00:01<00:00, 135.66it/s]\n",
      "100%|██████████| 85/85 [00:00<00:00, 529.25it/s]\n",
      "100%|██████████| 17/17 [00:00<00:00, 501.75it/s]\n"
     ]
    },
    {
     "name": "stdout",
     "output_type": "stream",
     "text": [
      "Loss Decreasing.. 0.064 >> 0.064 \n",
      "saving model...\n",
      "Epoch:53/1000.. Train Loss: 0.070.. Val Loss: 0.064.. Test Loss: 0.047.. Time: 0.03m\n"
     ]
    },
    {
     "name": "stderr",
     "output_type": "stream",
     "text": [
      "100%|██████████| 238/238 [00:01<00:00, 132.31it/s]\n",
      "100%|██████████| 85/85 [00:00<00:00, 518.65it/s]\n",
      "100%|██████████| 17/17 [00:00<00:00, 490.96it/s]\n"
     ]
    },
    {
     "name": "stdout",
     "output_type": "stream",
     "text": [
      "Loss Decreasing.. 0.064 >> 0.064 \n",
      "saving model...\n",
      "Epoch:54/1000.. Train Loss: 0.070.. Val Loss: 0.064.. Test Loss: 0.046.. Time: 0.03m\n"
     ]
    },
    {
     "name": "stderr",
     "output_type": "stream",
     "text": [
      "100%|██████████| 238/238 [00:01<00:00, 131.71it/s]\n",
      "100%|██████████| 85/85 [00:00<00:00, 538.45it/s]\n",
      "100%|██████████| 17/17 [00:00<00:00, 503.24it/s]\n"
     ]
    },
    {
     "name": "stdout",
     "output_type": "stream",
     "text": [
      "Loss Decreasing.. 0.064 >> 0.064 \n",
      "saving model...\n",
      "Epoch:55/1000.. Train Loss: 0.070.. Val Loss: 0.064.. Test Loss: 0.046.. Time: 0.03m\n"
     ]
    },
    {
     "name": "stderr",
     "output_type": "stream",
     "text": [
      "100%|██████████| 238/238 [00:01<00:00, 133.92it/s]\n",
      "100%|██████████| 85/85 [00:00<00:00, 526.59it/s]\n",
      "100%|██████████| 17/17 [00:00<00:00, 490.13it/s]\n"
     ]
    },
    {
     "name": "stdout",
     "output_type": "stream",
     "text": [
      "Loss Decreasing.. 0.064 >> 0.063 \n",
      "saving model...\n",
      "Epoch:56/1000.. Train Loss: 0.070.. Val Loss: 0.063.. Test Loss: 0.046.. Time: 0.03m\n"
     ]
    },
    {
     "name": "stderr",
     "output_type": "stream",
     "text": [
      "100%|██████████| 238/238 [00:01<00:00, 134.12it/s]\n",
      "100%|██████████| 85/85 [00:00<00:00, 507.92it/s]\n",
      "100%|██████████| 17/17 [00:00<00:00, 474.67it/s]\n"
     ]
    },
    {
     "name": "stdout",
     "output_type": "stream",
     "text": [
      "Loss Decreasing.. 0.063 >> 0.063 \n",
      "saving model...\n",
      "Epoch:57/1000.. Train Loss: 0.070.. Val Loss: 0.063.. Test Loss: 0.046.. Time: 0.03m\n"
     ]
    },
    {
     "name": "stderr",
     "output_type": "stream",
     "text": [
      "100%|██████████| 238/238 [00:01<00:00, 137.72it/s]\n",
      "100%|██████████| 85/85 [00:00<00:00, 526.57it/s]\n",
      "100%|██████████| 17/17 [00:00<00:00, 472.39it/s]\n"
     ]
    },
    {
     "name": "stdout",
     "output_type": "stream",
     "text": [
      "Loss Decreasing.. 0.063 >> 0.063 \n",
      "saving model...\n",
      "Epoch:58/1000.. Train Loss: 0.069.. Val Loss: 0.063.. Test Loss: 0.046.. Time: 0.03m\n"
     ]
    },
    {
     "name": "stderr",
     "output_type": "stream",
     "text": [
      "100%|██████████| 238/238 [00:01<00:00, 131.62it/s]\n",
      "100%|██████████| 85/85 [00:00<00:00, 540.37it/s]\n",
      "100%|██████████| 17/17 [00:00<00:00, 487.37it/s]\n"
     ]
    },
    {
     "name": "stdout",
     "output_type": "stream",
     "text": [
      "Epoch:59/1000.. Train Loss: 0.069.. Val Loss: 0.063.. Test Loss: 0.046.. Time: 0.03m\n"
     ]
    },
    {
     "name": "stderr",
     "output_type": "stream",
     "text": [
      "100%|██████████| 238/238 [00:01<00:00, 134.45it/s]\n",
      "100%|██████████| 85/85 [00:00<00:00, 524.54it/s]\n",
      "100%|██████████| 17/17 [00:00<00:00, 498.98it/s]\n"
     ]
    },
    {
     "name": "stdout",
     "output_type": "stream",
     "text": [
      "Loss Decreasing.. 0.063 >> 0.063 \n",
      "saving model...\n",
      "Epoch:60/1000.. Train Loss: 0.069.. Val Loss: 0.063.. Test Loss: 0.046.. Time: 0.03m\n"
     ]
    },
    {
     "name": "stderr",
     "output_type": "stream",
     "text": [
      "100%|██████████| 238/238 [00:01<00:00, 134.38it/s]\n",
      "100%|██████████| 85/85 [00:00<00:00, 546.19it/s]\n",
      "100%|██████████| 17/17 [00:00<00:00, 496.89it/s]\n"
     ]
    },
    {
     "name": "stdout",
     "output_type": "stream",
     "text": [
      "Loss Decreasing.. 0.063 >> 0.063 \n",
      "saving model...\n",
      "Epoch:61/1000.. Train Loss: 0.068.. Val Loss: 0.063.. Test Loss: 0.046.. Time: 0.03m\n"
     ]
    },
    {
     "name": "stderr",
     "output_type": "stream",
     "text": [
      "100%|██████████| 238/238 [00:01<00:00, 139.25it/s]\n",
      "100%|██████████| 85/85 [00:00<00:00, 514.56it/s]\n",
      "100%|██████████| 17/17 [00:00<00:00, 495.09it/s]\n"
     ]
    },
    {
     "name": "stdout",
     "output_type": "stream",
     "text": [
      "Loss Decreasing.. 0.063 >> 0.063 \n",
      "saving model...\n",
      "Epoch:62/1000.. Train Loss: 0.068.. Val Loss: 0.063.. Test Loss: 0.046.. Time: 0.03m\n"
     ]
    },
    {
     "name": "stderr",
     "output_type": "stream",
     "text": [
      "100%|██████████| 238/238 [00:01<00:00, 135.26it/s]\n",
      "100%|██████████| 85/85 [00:00<00:00, 532.81it/s]\n",
      "100%|██████████| 17/17 [00:00<00:00, 498.92it/s]\n"
     ]
    },
    {
     "name": "stdout",
     "output_type": "stream",
     "text": [
      "Loss Decreasing.. 0.063 >> 0.062 \n",
      "saving model...\n",
      "Epoch:63/1000.. Train Loss: 0.068.. Val Loss: 0.062.. Test Loss: 0.046.. Time: 0.03m\n"
     ]
    },
    {
     "name": "stderr",
     "output_type": "stream",
     "text": [
      "100%|██████████| 238/238 [00:01<00:00, 139.17it/s]\n",
      "100%|██████████| 85/85 [00:00<00:00, 536.96it/s]\n",
      "100%|██████████| 17/17 [00:00<00:00, 492.60it/s]\n"
     ]
    },
    {
     "name": "stdout",
     "output_type": "stream",
     "text": [
      "Loss Decreasing.. 0.062 >> 0.062 \n",
      "saving model...\n",
      "Epoch:64/1000.. Train Loss: 0.068.. Val Loss: 0.062.. Test Loss: 0.046.. Time: 0.03m\n"
     ]
    },
    {
     "name": "stderr",
     "output_type": "stream",
     "text": [
      "100%|██████████| 238/238 [00:01<00:00, 135.06it/s]\n",
      "100%|██████████| 85/85 [00:00<00:00, 532.45it/s]\n",
      "100%|██████████| 17/17 [00:00<00:00, 491.84it/s]\n"
     ]
    },
    {
     "name": "stdout",
     "output_type": "stream",
     "text": [
      "Loss Decreasing.. 0.062 >> 0.062 \n",
      "saving model...\n",
      "Epoch:65/1000.. Train Loss: 0.067.. Val Loss: 0.062.. Test Loss: 0.046.. Time: 0.03m\n"
     ]
    },
    {
     "name": "stderr",
     "output_type": "stream",
     "text": [
      "100%|██████████| 238/238 [00:01<00:00, 134.58it/s]\n",
      "100%|██████████| 85/85 [00:00<00:00, 527.04it/s]\n",
      "100%|██████████| 17/17 [00:00<00:00, 497.20it/s]\n"
     ]
    },
    {
     "name": "stdout",
     "output_type": "stream",
     "text": [
      "Loss Decreasing.. 0.062 >> 0.062 \n",
      "saving model...\n",
      "Epoch:66/1000.. Train Loss: 0.067.. Val Loss: 0.062.. Test Loss: 0.046.. Time: 0.03m\n"
     ]
    },
    {
     "name": "stderr",
     "output_type": "stream",
     "text": [
      "100%|██████████| 238/238 [00:01<00:00, 131.34it/s]\n",
      "100%|██████████| 85/85 [00:00<00:00, 532.45it/s]\n",
      "100%|██████████| 17/17 [00:00<00:00, 497.23it/s]\n"
     ]
    },
    {
     "name": "stdout",
     "output_type": "stream",
     "text": [
      "Epoch:67/1000.. Train Loss: 0.068.. Val Loss: 0.062.. Test Loss: 0.046.. Time: 0.03m\n"
     ]
    },
    {
     "name": "stderr",
     "output_type": "stream",
     "text": [
      "100%|██████████| 238/238 [00:01<00:00, 133.74it/s]\n",
      "100%|██████████| 85/85 [00:00<00:00, 510.53it/s]\n",
      "100%|██████████| 17/17 [00:00<00:00, 500.99it/s]\n"
     ]
    },
    {
     "name": "stdout",
     "output_type": "stream",
     "text": [
      "Loss Decreasing.. 0.062 >> 0.062 \n",
      "saving model...\n",
      "Epoch:68/1000.. Train Loss: 0.067.. Val Loss: 0.062.. Test Loss: 0.046.. Time: 0.03m\n"
     ]
    },
    {
     "name": "stderr",
     "output_type": "stream",
     "text": [
      "100%|██████████| 238/238 [00:01<00:00, 136.52it/s]\n",
      "100%|██████████| 85/85 [00:00<00:00, 534.80it/s]\n",
      "100%|██████████| 17/17 [00:00<00:00, 513.10it/s]\n"
     ]
    },
    {
     "name": "stdout",
     "output_type": "stream",
     "text": [
      "Loss Decreasing.. 0.062 >> 0.062 \n",
      "saving model...\n",
      "Epoch:69/1000.. Train Loss: 0.067.. Val Loss: 0.062.. Test Loss: 0.046.. Time: 0.03m\n"
     ]
    },
    {
     "name": "stderr",
     "output_type": "stream",
     "text": [
      "100%|██████████| 238/238 [00:01<00:00, 129.83it/s]\n",
      "100%|██████████| 85/85 [00:00<00:00, 533.40it/s]\n",
      "100%|██████████| 17/17 [00:00<00:00, 483.70it/s]\n"
     ]
    },
    {
     "name": "stdout",
     "output_type": "stream",
     "text": [
      "Loss Decreasing.. 0.062 >> 0.062 \n",
      "saving model...\n",
      "Epoch:70/1000.. Train Loss: 0.067.. Val Loss: 0.062.. Test Loss: 0.046.. Time: 0.03m\n"
     ]
    },
    {
     "name": "stderr",
     "output_type": "stream",
     "text": [
      "100%|██████████| 238/238 [00:01<00:00, 135.64it/s]\n",
      "100%|██████████| 85/85 [00:00<00:00, 529.48it/s]\n",
      "100%|██████████| 17/17 [00:00<00:00, 492.82it/s]\n"
     ]
    },
    {
     "name": "stdout",
     "output_type": "stream",
     "text": [
      "Loss Decreasing.. 0.062 >> 0.062 \n",
      "saving model...\n",
      "Epoch:71/1000.. Train Loss: 0.067.. Val Loss: 0.062.. Test Loss: 0.046.. Time: 0.03m\n"
     ]
    },
    {
     "name": "stderr",
     "output_type": "stream",
     "text": [
      "100%|██████████| 238/238 [00:01<00:00, 136.44it/s]\n",
      "100%|██████████| 85/85 [00:00<00:00, 529.90it/s]\n",
      "100%|██████████| 17/17 [00:00<00:00, 487.85it/s]\n"
     ]
    },
    {
     "name": "stdout",
     "output_type": "stream",
     "text": [
      "Loss Decreasing.. 0.062 >> 0.061 \n",
      "saving model...\n",
      "Epoch:72/1000.. Train Loss: 0.067.. Val Loss: 0.061.. Test Loss: 0.046.. Time: 0.03m\n"
     ]
    },
    {
     "name": "stderr",
     "output_type": "stream",
     "text": [
      "100%|██████████| 238/238 [00:01<00:00, 132.88it/s]\n",
      "100%|██████████| 85/85 [00:00<00:00, 506.25it/s]\n",
      "100%|██████████| 17/17 [00:00<00:00, 481.18it/s]\n"
     ]
    },
    {
     "name": "stdout",
     "output_type": "stream",
     "text": [
      "Loss Decreasing.. 0.061 >> 0.061 \n",
      "saving model...\n",
      "Epoch:73/1000.. Train Loss: 0.066.. Val Loss: 0.061.. Test Loss: 0.046.. Time: 0.03m\n"
     ]
    },
    {
     "name": "stderr",
     "output_type": "stream",
     "text": [
      "100%|██████████| 238/238 [00:01<00:00, 132.80it/s]\n",
      "100%|██████████| 85/85 [00:00<00:00, 516.66it/s]\n",
      "100%|██████████| 17/17 [00:00<00:00, 483.09it/s]\n"
     ]
    },
    {
     "name": "stdout",
     "output_type": "stream",
     "text": [
      "Loss Decreasing.. 0.061 >> 0.061 \n",
      "saving model...\n",
      "Epoch:74/1000.. Train Loss: 0.067.. Val Loss: 0.061.. Test Loss: 0.046.. Time: 0.03m\n"
     ]
    },
    {
     "name": "stderr",
     "output_type": "stream",
     "text": [
      "100%|██████████| 238/238 [00:01<00:00, 133.95it/s]\n",
      "100%|██████████| 85/85 [00:00<00:00, 545.68it/s]\n",
      "100%|██████████| 17/17 [00:00<00:00, 498.31it/s]\n"
     ]
    },
    {
     "name": "stdout",
     "output_type": "stream",
     "text": [
      "Epoch:75/1000.. Train Loss: 0.066.. Val Loss: 0.061.. Test Loss: 0.046.. Time: 0.03m\n"
     ]
    },
    {
     "name": "stderr",
     "output_type": "stream",
     "text": [
      "100%|██████████| 238/238 [00:01<00:00, 134.88it/s]\n",
      "100%|██████████| 85/85 [00:00<00:00, 530.59it/s]\n",
      "100%|██████████| 17/17 [00:00<00:00, 457.13it/s]\n"
     ]
    },
    {
     "name": "stdout",
     "output_type": "stream",
     "text": [
      "Loss Decreasing.. 0.061 >> 0.061 \n",
      "saving model...\n",
      "Epoch:76/1000.. Train Loss: 0.066.. Val Loss: 0.061.. Test Loss: 0.046.. Time: 0.03m\n"
     ]
    },
    {
     "name": "stderr",
     "output_type": "stream",
     "text": [
      "100%|██████████| 238/238 [00:01<00:00, 133.17it/s]\n",
      "100%|██████████| 85/85 [00:00<00:00, 531.92it/s]\n",
      "100%|██████████| 17/17 [00:00<00:00, 464.29it/s]\n"
     ]
    },
    {
     "name": "stdout",
     "output_type": "stream",
     "text": [
      "Epoch:77/1000.. Train Loss: 0.066.. Val Loss: 0.061.. Test Loss: 0.046.. Time: 0.03m\n"
     ]
    },
    {
     "name": "stderr",
     "output_type": "stream",
     "text": [
      "100%|██████████| 238/238 [00:01<00:00, 134.94it/s]\n",
      "100%|██████████| 85/85 [00:00<00:00, 535.58it/s]\n",
      "100%|██████████| 17/17 [00:00<00:00, 492.41it/s]\n"
     ]
    },
    {
     "name": "stdout",
     "output_type": "stream",
     "text": [
      "Loss Decreasing.. 0.061 >> 0.061 \n",
      "saving model...\n",
      "Epoch:78/1000.. Train Loss: 0.065.. Val Loss: 0.061.. Test Loss: 0.047.. Time: 0.03m\n"
     ]
    },
    {
     "name": "stderr",
     "output_type": "stream",
     "text": [
      "100%|██████████| 238/238 [00:01<00:00, 140.15it/s]\n",
      "100%|██████████| 85/85 [00:00<00:00, 535.83it/s]\n",
      "100%|██████████| 17/17 [00:00<00:00, 480.86it/s]\n"
     ]
    },
    {
     "name": "stdout",
     "output_type": "stream",
     "text": [
      "Loss Decreasing.. 0.061 >> 0.061 \n",
      "saving model...\n",
      "Epoch:79/1000.. Train Loss: 0.066.. Val Loss: 0.061.. Test Loss: 0.047.. Time: 0.03m\n"
     ]
    },
    {
     "name": "stderr",
     "output_type": "stream",
     "text": [
      "100%|██████████| 238/238 [00:01<00:00, 141.33it/s]\n",
      "100%|██████████| 85/85 [00:00<00:00, 528.94it/s]\n",
      "100%|██████████| 17/17 [00:00<00:00, 494.64it/s]\n"
     ]
    },
    {
     "name": "stdout",
     "output_type": "stream",
     "text": [
      "Loss Decreasing.. 0.061 >> 0.061 \n",
      "saving model...\n",
      "Epoch:80/1000.. Train Loss: 0.065.. Val Loss: 0.061.. Test Loss: 0.047.. Time: 0.03m\n"
     ]
    },
    {
     "name": "stderr",
     "output_type": "stream",
     "text": [
      "100%|██████████| 238/238 [00:01<00:00, 134.13it/s]\n",
      "100%|██████████| 85/85 [00:00<00:00, 498.20it/s]\n",
      "100%|██████████| 17/17 [00:00<00:00, 536.16it/s]\n"
     ]
    },
    {
     "name": "stdout",
     "output_type": "stream",
     "text": [
      "Loss Decreasing.. 0.061 >> 0.061 \n",
      "saving model...\n",
      "Epoch:81/1000.. Train Loss: 0.065.. Val Loss: 0.061.. Test Loss: 0.046.. Time: 0.03m\n"
     ]
    },
    {
     "name": "stderr",
     "output_type": "stream",
     "text": [
      "100%|██████████| 238/238 [00:01<00:00, 134.01it/s]\n",
      "100%|██████████| 85/85 [00:00<00:00, 537.08it/s]\n",
      "100%|██████████| 17/17 [00:00<00:00, 504.57it/s]\n"
     ]
    },
    {
     "name": "stdout",
     "output_type": "stream",
     "text": [
      "Loss Decreasing.. 0.061 >> 0.061 \n",
      "saving model...\n",
      "Epoch:82/1000.. Train Loss: 0.065.. Val Loss: 0.061.. Test Loss: 0.047.. Time: 0.03m\n"
     ]
    },
    {
     "name": "stderr",
     "output_type": "stream",
     "text": [
      "100%|██████████| 238/238 [00:01<00:00, 135.43it/s]\n",
      "100%|██████████| 85/85 [00:00<00:00, 533.56it/s]\n",
      "100%|██████████| 17/17 [00:00<00:00, 498.89it/s]\n"
     ]
    },
    {
     "name": "stdout",
     "output_type": "stream",
     "text": [
      "Epoch:83/1000.. Train Loss: 0.066.. Val Loss: 0.061.. Test Loss: 0.047.. Time: 0.03m\n"
     ]
    },
    {
     "name": "stderr",
     "output_type": "stream",
     "text": [
      "100%|██████████| 238/238 [00:01<00:00, 131.54it/s]\n",
      "100%|██████████| 85/85 [00:00<00:00, 535.50it/s]\n",
      "100%|██████████| 17/17 [00:00<00:00, 495.11it/s]\n"
     ]
    },
    {
     "name": "stdout",
     "output_type": "stream",
     "text": [
      "Epoch:84/1000.. Train Loss: 0.065.. Val Loss: 0.061.. Test Loss: 0.047.. Time: 0.03m\n"
     ]
    },
    {
     "name": "stderr",
     "output_type": "stream",
     "text": [
      "100%|██████████| 238/238 [00:01<00:00, 134.07it/s]\n",
      "100%|██████████| 85/85 [00:00<00:00, 539.49it/s]\n",
      "100%|██████████| 17/17 [00:00<00:00, 494.74it/s]\n"
     ]
    },
    {
     "name": "stdout",
     "output_type": "stream",
     "text": [
      "Loss Decreasing.. 0.061 >> 0.061 \n",
      "saving model...\n",
      "Epoch:85/1000.. Train Loss: 0.065.. Val Loss: 0.061.. Test Loss: 0.047.. Time: 0.03m\n"
     ]
    },
    {
     "name": "stderr",
     "output_type": "stream",
     "text": [
      "100%|██████████| 238/238 [00:01<00:00, 137.82it/s]\n",
      "100%|██████████| 85/85 [00:00<00:00, 534.07it/s]\n",
      "100%|██████████| 17/17 [00:00<00:00, 496.76it/s]\n"
     ]
    },
    {
     "name": "stdout",
     "output_type": "stream",
     "text": [
      "Loss Decreasing.. 0.061 >> 0.060 \n",
      "saving model...\n",
      "Epoch:86/1000.. Train Loss: 0.065.. Val Loss: 0.060.. Test Loss: 0.047.. Time: 0.03m\n"
     ]
    },
    {
     "name": "stderr",
     "output_type": "stream",
     "text": [
      "100%|██████████| 238/238 [00:01<00:00, 133.06it/s]\n",
      "100%|██████████| 85/85 [00:00<00:00, 530.58it/s]\n",
      "100%|██████████| 17/17 [00:00<00:00, 507.77it/s]\n"
     ]
    },
    {
     "name": "stdout",
     "output_type": "stream",
     "text": [
      "Loss Decreasing.. 0.060 >> 0.060 \n",
      "saving model...\n",
      "Epoch:87/1000.. Train Loss: 0.065.. Val Loss: 0.060.. Test Loss: 0.047.. Time: 0.03m\n"
     ]
    },
    {
     "name": "stderr",
     "output_type": "stream",
     "text": [
      "100%|██████████| 238/238 [00:01<00:00, 141.04it/s]\n",
      "100%|██████████| 85/85 [00:00<00:00, 528.89it/s]\n",
      "100%|██████████| 17/17 [00:00<00:00, 483.83it/s]\n"
     ]
    },
    {
     "name": "stdout",
     "output_type": "stream",
     "text": [
      "Loss Decreasing.. 0.060 >> 0.060 \n",
      "saving model...\n",
      "Epoch:88/1000.. Train Loss: 0.065.. Val Loss: 0.060.. Test Loss: 0.047.. Time: 0.03m\n"
     ]
    },
    {
     "name": "stderr",
     "output_type": "stream",
     "text": [
      "100%|██████████| 238/238 [00:01<00:00, 142.28it/s]\n",
      "100%|██████████| 85/85 [00:00<00:00, 535.95it/s]\n",
      "100%|██████████| 17/17 [00:00<00:00, 494.86it/s]\n"
     ]
    },
    {
     "name": "stdout",
     "output_type": "stream",
     "text": [
      "Epoch:89/1000.. Train Loss: 0.064.. Val Loss: 0.060.. Test Loss: 0.047.. Time: 0.03m\n"
     ]
    },
    {
     "name": "stderr",
     "output_type": "stream",
     "text": [
      "100%|██████████| 238/238 [00:01<00:00, 132.55it/s]\n",
      "100%|██████████| 85/85 [00:00<00:00, 511.71it/s]\n",
      "100%|██████████| 17/17 [00:00<00:00, 490.05it/s]\n"
     ]
    },
    {
     "name": "stdout",
     "output_type": "stream",
     "text": [
      "Epoch:90/1000.. Train Loss: 0.064.. Val Loss: 0.060.. Test Loss: 0.048.. Time: 0.03m\n"
     ]
    },
    {
     "name": "stderr",
     "output_type": "stream",
     "text": [
      "100%|██████████| 238/238 [00:01<00:00, 132.97it/s]\n",
      "100%|██████████| 85/85 [00:00<00:00, 539.44it/s]\n",
      "100%|██████████| 17/17 [00:00<00:00, 486.15it/s]\n"
     ]
    },
    {
     "name": "stdout",
     "output_type": "stream",
     "text": [
      "Epoch:91/1000.. Train Loss: 0.064.. Val Loss: 0.060.. Test Loss: 0.047.. Time: 0.03m\n"
     ]
    },
    {
     "name": "stderr",
     "output_type": "stream",
     "text": [
      "100%|██████████| 238/238 [00:01<00:00, 134.40it/s]\n",
      "100%|██████████| 85/85 [00:00<00:00, 536.11it/s]\n",
      "100%|██████████| 17/17 [00:00<00:00, 495.63it/s]\n"
     ]
    },
    {
     "name": "stdout",
     "output_type": "stream",
     "text": [
      "Epoch:92/1000.. Train Loss: 0.064.. Val Loss: 0.060.. Test Loss: 0.047.. Time: 0.03m\n"
     ]
    },
    {
     "name": "stderr",
     "output_type": "stream",
     "text": [
      "100%|██████████| 238/238 [00:01<00:00, 135.15it/s]\n",
      "100%|██████████| 85/85 [00:00<00:00, 526.96it/s]\n",
      "100%|██████████| 17/17 [00:00<00:00, 489.67it/s]\n"
     ]
    },
    {
     "name": "stdout",
     "output_type": "stream",
     "text": [
      "Loss Decreasing.. 0.060 >> 0.060 \n",
      "saving model...\n",
      "Epoch:93/1000.. Train Loss: 0.064.. Val Loss: 0.060.. Test Loss: 0.048.. Time: 0.03m\n"
     ]
    },
    {
     "name": "stderr",
     "output_type": "stream",
     "text": [
      "100%|██████████| 238/238 [00:01<00:00, 133.26it/s]\n",
      "100%|██████████| 85/85 [00:00<00:00, 535.38it/s]\n",
      "100%|██████████| 17/17 [00:00<00:00, 487.00it/s]\n"
     ]
    },
    {
     "name": "stdout",
     "output_type": "stream",
     "text": [
      "Loss Decreasing.. 0.060 >> 0.060 \n",
      "saving model...\n",
      "Epoch:94/1000.. Train Loss: 0.064.. Val Loss: 0.060.. Test Loss: 0.048.. Time: 0.03m\n"
     ]
    },
    {
     "name": "stderr",
     "output_type": "stream",
     "text": [
      "100%|██████████| 238/238 [00:01<00:00, 132.90it/s]\n",
      "100%|██████████| 85/85 [00:00<00:00, 529.15it/s]\n",
      "100%|██████████| 17/17 [00:00<00:00, 483.43it/s]\n"
     ]
    },
    {
     "name": "stdout",
     "output_type": "stream",
     "text": [
      "Loss Decreasing.. 0.060 >> 0.060 \n",
      "saving model...\n",
      "Epoch:95/1000.. Train Loss: 0.064.. Val Loss: 0.060.. Test Loss: 0.048.. Time: 0.03m\n"
     ]
    },
    {
     "name": "stderr",
     "output_type": "stream",
     "text": [
      "100%|██████████| 238/238 [00:01<00:00, 131.53it/s]\n",
      "100%|██████████| 85/85 [00:00<00:00, 538.30it/s]\n",
      "100%|██████████| 17/17 [00:00<00:00, 491.52it/s]\n"
     ]
    },
    {
     "name": "stdout",
     "output_type": "stream",
     "text": [
      "Epoch:96/1000.. Train Loss: 0.064.. Val Loss: 0.060.. Test Loss: 0.048.. Time: 0.03m\n"
     ]
    },
    {
     "name": "stderr",
     "output_type": "stream",
     "text": [
      "100%|██████████| 238/238 [00:01<00:00, 139.46it/s]\n",
      "100%|██████████| 85/85 [00:00<00:00, 526.78it/s]\n",
      "100%|██████████| 17/17 [00:00<00:00, 484.00it/s]\n"
     ]
    },
    {
     "name": "stdout",
     "output_type": "stream",
     "text": [
      "Loss Decreasing.. 0.060 >> 0.060 \n",
      "saving model...\n",
      "Epoch:97/1000.. Train Loss: 0.064.. Val Loss: 0.060.. Test Loss: 0.047.. Time: 0.03m\n"
     ]
    },
    {
     "name": "stderr",
     "output_type": "stream",
     "text": [
      "100%|██████████| 238/238 [00:01<00:00, 131.52it/s]\n",
      "100%|██████████| 85/85 [00:00<00:00, 534.15it/s]\n",
      "100%|██████████| 17/17 [00:00<00:00, 495.95it/s]\n"
     ]
    },
    {
     "name": "stdout",
     "output_type": "stream",
     "text": [
      "Epoch:98/1000.. Train Loss: 0.064.. Val Loss: 0.060.. Test Loss: 0.048.. Time: 0.03m\n"
     ]
    },
    {
     "name": "stderr",
     "output_type": "stream",
     "text": [
      "100%|██████████| 238/238 [00:01<00:00, 138.58it/s]\n",
      "100%|██████████| 85/85 [00:00<00:00, 530.05it/s]\n",
      "100%|██████████| 17/17 [00:00<00:00, 483.39it/s]\n"
     ]
    },
    {
     "name": "stdout",
     "output_type": "stream",
     "text": [
      "Epoch:99/1000.. Train Loss: 0.064.. Val Loss: 0.060.. Test Loss: 0.048.. Time: 0.03m\n"
     ]
    },
    {
     "name": "stderr",
     "output_type": "stream",
     "text": [
      "100%|██████████| 238/238 [00:01<00:00, 134.00it/s]\n",
      "100%|██████████| 85/85 [00:00<00:00, 535.48it/s]\n",
      "100%|██████████| 17/17 [00:00<00:00, 494.30it/s]\n"
     ]
    },
    {
     "name": "stdout",
     "output_type": "stream",
     "text": [
      "Epoch:100/1000.. Train Loss: 0.064.. Val Loss: 0.060.. Test Loss: 0.048.. Time: 0.03m\n"
     ]
    },
    {
     "name": "stderr",
     "output_type": "stream",
     "text": [
      "100%|██████████| 238/238 [00:01<00:00, 136.18it/s]\n",
      "100%|██████████| 85/85 [00:00<00:00, 523.76it/s]\n",
      "100%|██████████| 17/17 [00:00<00:00, 479.06it/s]\n"
     ]
    },
    {
     "name": "stdout",
     "output_type": "stream",
     "text": [
      "Loss Decreasing.. 0.060 >> 0.059 \n",
      "saving model...\n",
      "Epoch:101/1000.. Train Loss: 0.063.. Val Loss: 0.059.. Test Loss: 0.048.. Time: 0.03m\n"
     ]
    },
    {
     "name": "stderr",
     "output_type": "stream",
     "text": [
      "100%|██████████| 238/238 [00:01<00:00, 133.21it/s]\n",
      "100%|██████████| 85/85 [00:00<00:00, 534.48it/s]\n",
      "100%|██████████| 17/17 [00:00<00:00, 483.78it/s]\n"
     ]
    },
    {
     "name": "stdout",
     "output_type": "stream",
     "text": [
      "Loss Decreasing.. 0.059 >> 0.059 \n",
      "saving model...\n",
      "Epoch:102/1000.. Train Loss: 0.063.. Val Loss: 0.059.. Test Loss: 0.048.. Time: 0.03m\n"
     ]
    },
    {
     "name": "stderr",
     "output_type": "stream",
     "text": [
      "100%|██████████| 238/238 [00:01<00:00, 134.13it/s]\n",
      "100%|██████████| 85/85 [00:00<00:00, 529.42it/s]\n",
      "100%|██████████| 17/17 [00:00<00:00, 505.61it/s]\n"
     ]
    },
    {
     "name": "stdout",
     "output_type": "stream",
     "text": [
      "Epoch:103/1000.. Train Loss: 0.064.. Val Loss: 0.059.. Test Loss: 0.048.. Time: 0.03m\n"
     ]
    },
    {
     "name": "stderr",
     "output_type": "stream",
     "text": [
      "100%|██████████| 238/238 [00:01<00:00, 134.67it/s]\n",
      "100%|██████████| 85/85 [00:00<00:00, 528.73it/s]\n",
      "100%|██████████| 17/17 [00:00<00:00, 542.79it/s]\n"
     ]
    },
    {
     "name": "stdout",
     "output_type": "stream",
     "text": [
      "Loss Decreasing.. 0.059 >> 0.059 \n",
      "saving model...\n",
      "Epoch:104/1000.. Train Loss: 0.063.. Val Loss: 0.059.. Test Loss: 0.048.. Time: 0.03m\n"
     ]
    },
    {
     "name": "stderr",
     "output_type": "stream",
     "text": [
      "100%|██████████| 238/238 [00:01<00:00, 135.13it/s]\n",
      "100%|██████████| 85/85 [00:00<00:00, 521.86it/s]\n",
      "100%|██████████| 17/17 [00:00<00:00, 498.04it/s]\n"
     ]
    },
    {
     "name": "stdout",
     "output_type": "stream",
     "text": [
      "Epoch:105/1000.. Train Loss: 0.063.. Val Loss: 0.059.. Test Loss: 0.048.. Time: 0.03m\n"
     ]
    },
    {
     "name": "stderr",
     "output_type": "stream",
     "text": [
      "100%|██████████| 238/238 [00:01<00:00, 134.13it/s]\n",
      "100%|██████████| 85/85 [00:00<00:00, 535.51it/s]\n",
      "100%|██████████| 17/17 [00:00<00:00, 501.43it/s]\n"
     ]
    },
    {
     "name": "stdout",
     "output_type": "stream",
     "text": [
      "Epoch:106/1000.. Train Loss: 0.063.. Val Loss: 0.059.. Test Loss: 0.048.. Time: 0.03m\n"
     ]
    },
    {
     "name": "stderr",
     "output_type": "stream",
     "text": [
      "100%|██████████| 238/238 [00:01<00:00, 129.09it/s]\n",
      "100%|██████████| 85/85 [00:00<00:00, 530.31it/s]\n",
      "100%|██████████| 17/17 [00:00<00:00, 488.74it/s]\n"
     ]
    },
    {
     "name": "stdout",
     "output_type": "stream",
     "text": [
      "Loss Decreasing.. 0.059 >> 0.059 \n",
      "saving model...\n",
      "Epoch:107/1000.. Train Loss: 0.063.. Val Loss: 0.059.. Test Loss: 0.048.. Time: 0.03m\n"
     ]
    },
    {
     "name": "stderr",
     "output_type": "stream",
     "text": [
      "100%|██████████| 238/238 [00:01<00:00, 133.32it/s]\n",
      "100%|██████████| 85/85 [00:00<00:00, 531.93it/s]\n",
      "100%|██████████| 17/17 [00:00<00:00, 488.29it/s]\n"
     ]
    },
    {
     "name": "stdout",
     "output_type": "stream",
     "text": [
      "Epoch:108/1000.. Train Loss: 0.063.. Val Loss: 0.059.. Test Loss: 0.048.. Time: 0.03m\n"
     ]
    },
    {
     "name": "stderr",
     "output_type": "stream",
     "text": [
      "100%|██████████| 238/238 [00:01<00:00, 134.69it/s]\n",
      "100%|██████████| 85/85 [00:00<00:00, 523.15it/s]\n",
      "100%|██████████| 17/17 [00:00<00:00, 489.10it/s]\n"
     ]
    },
    {
     "name": "stdout",
     "output_type": "stream",
     "text": [
      "Loss Decreasing.. 0.059 >> 0.059 \n",
      "saving model...\n",
      "Epoch:109/1000.. Train Loss: 0.063.. Val Loss: 0.059.. Test Loss: 0.048.. Time: 0.03m\n"
     ]
    },
    {
     "name": "stderr",
     "output_type": "stream",
     "text": [
      "100%|██████████| 238/238 [00:01<00:00, 134.39it/s]\n",
      "100%|██████████| 85/85 [00:00<00:00, 539.82it/s]\n",
      "100%|██████████| 17/17 [00:00<00:00, 495.22it/s]\n"
     ]
    },
    {
     "name": "stdout",
     "output_type": "stream",
     "text": [
      "Epoch:110/1000.. Train Loss: 0.063.. Val Loss: 0.059.. Test Loss: 0.048.. Time: 0.03m\n"
     ]
    },
    {
     "name": "stderr",
     "output_type": "stream",
     "text": [
      "100%|██████████| 238/238 [00:01<00:00, 135.73it/s]\n",
      "100%|██████████| 85/85 [00:00<00:00, 507.57it/s]\n",
      "100%|██████████| 17/17 [00:00<00:00, 504.09it/s]\n"
     ]
    },
    {
     "name": "stdout",
     "output_type": "stream",
     "text": [
      "Loss Decreasing.. 0.059 >> 0.059 \n",
      "saving model...\n",
      "Epoch:111/1000.. Train Loss: 0.063.. Val Loss: 0.059.. Test Loss: 0.048.. Time: 0.03m\n"
     ]
    },
    {
     "name": "stderr",
     "output_type": "stream",
     "text": [
      "100%|██████████| 238/238 [00:01<00:00, 133.65it/s]\n",
      "100%|██████████| 85/85 [00:00<00:00, 529.17it/s]\n",
      "100%|██████████| 17/17 [00:00<00:00, 494.25it/s]\n"
     ]
    },
    {
     "name": "stdout",
     "output_type": "stream",
     "text": [
      "Epoch:112/1000.. Train Loss: 0.063.. Val Loss: 0.059.. Test Loss: 0.048.. Time: 0.03m\n"
     ]
    },
    {
     "name": "stderr",
     "output_type": "stream",
     "text": [
      "100%|██████████| 238/238 [00:01<00:00, 123.04it/s]\n",
      "100%|██████████| 85/85 [00:00<00:00, 535.44it/s]\n",
      "100%|██████████| 17/17 [00:00<00:00, 516.90it/s]\n"
     ]
    },
    {
     "name": "stdout",
     "output_type": "stream",
     "text": [
      "Epoch:113/1000.. Train Loss: 0.063.. Val Loss: 0.059.. Test Loss: 0.048.. Time: 0.04m\n"
     ]
    },
    {
     "name": "stderr",
     "output_type": "stream",
     "text": [
      "100%|██████████| 238/238 [00:01<00:00, 133.63it/s]\n",
      "100%|██████████| 85/85 [00:00<00:00, 534.40it/s]\n",
      "100%|██████████| 17/17 [00:00<00:00, 495.10it/s]\n"
     ]
    },
    {
     "name": "stdout",
     "output_type": "stream",
     "text": [
      "Epoch:114/1000.. Train Loss: 0.063.. Val Loss: 0.059.. Test Loss: 0.049.. Time: 0.03m\n"
     ]
    },
    {
     "name": "stderr",
     "output_type": "stream",
     "text": [
      "100%|██████████| 238/238 [00:01<00:00, 135.46it/s]\n",
      "100%|██████████| 85/85 [00:00<00:00, 533.50it/s]\n",
      "100%|██████████| 17/17 [00:00<00:00, 501.08it/s]\n"
     ]
    },
    {
     "name": "stdout",
     "output_type": "stream",
     "text": [
      "Epoch:115/1000.. Train Loss: 0.063.. Val Loss: 0.059.. Test Loss: 0.048.. Time: 0.03m\n"
     ]
    },
    {
     "name": "stderr",
     "output_type": "stream",
     "text": [
      "100%|██████████| 238/238 [00:01<00:00, 135.97it/s]\n",
      "100%|██████████| 85/85 [00:00<00:00, 532.78it/s]\n",
      "100%|██████████| 17/17 [00:00<00:00, 473.80it/s]\n"
     ]
    },
    {
     "name": "stdout",
     "output_type": "stream",
     "text": [
      "Epoch:116/1000.. Train Loss: 0.063.. Val Loss: 0.059.. Test Loss: 0.048.. Time: 0.03m\n"
     ]
    },
    {
     "name": "stderr",
     "output_type": "stream",
     "text": [
      "100%|██████████| 238/238 [00:01<00:00, 138.76it/s]\n",
      "100%|██████████| 85/85 [00:00<00:00, 538.03it/s]\n",
      "100%|██████████| 17/17 [00:00<00:00, 494.95it/s]\n"
     ]
    },
    {
     "name": "stdout",
     "output_type": "stream",
     "text": [
      "Loss Decreasing.. 0.059 >> 0.059 \n",
      "saving model...\n",
      "Epoch:117/1000.. Train Loss: 0.063.. Val Loss: 0.059.. Test Loss: 0.048.. Time: 0.03m\n"
     ]
    },
    {
     "name": "stderr",
     "output_type": "stream",
     "text": [
      "100%|██████████| 238/238 [00:01<00:00, 135.53it/s]\n",
      "100%|██████████| 85/85 [00:00<00:00, 537.22it/s]\n",
      "100%|██████████| 17/17 [00:00<00:00, 491.62it/s]\n"
     ]
    },
    {
     "name": "stdout",
     "output_type": "stream",
     "text": [
      "Epoch:118/1000.. Train Loss: 0.063.. Val Loss: 0.059.. Test Loss: 0.048.. Time: 0.03m\n"
     ]
    },
    {
     "name": "stderr",
     "output_type": "stream",
     "text": [
      "100%|██████████| 238/238 [00:01<00:00, 138.27it/s]\n",
      "100%|██████████| 85/85 [00:00<00:00, 538.70it/s]\n",
      "100%|██████████| 17/17 [00:00<00:00, 496.71it/s]\n"
     ]
    },
    {
     "name": "stdout",
     "output_type": "stream",
     "text": [
      "Loss Decreasing.. 0.059 >> 0.059 \n",
      "saving model...\n",
      "Epoch:119/1000.. Train Loss: 0.063.. Val Loss: 0.059.. Test Loss: 0.048.. Time: 0.03m\n"
     ]
    },
    {
     "name": "stderr",
     "output_type": "stream",
     "text": [
      "100%|██████████| 238/238 [00:01<00:00, 133.13it/s]\n",
      "100%|██████████| 85/85 [00:00<00:00, 518.02it/s]\n",
      "100%|██████████| 17/17 [00:00<00:00, 484.76it/s]\n"
     ]
    },
    {
     "name": "stdout",
     "output_type": "stream",
     "text": [
      "Epoch:120/1000.. Train Loss: 0.063.. Val Loss: 0.059.. Test Loss: 0.048.. Time: 0.03m\n"
     ]
    },
    {
     "name": "stderr",
     "output_type": "stream",
     "text": [
      "100%|██████████| 238/238 [00:01<00:00, 135.73it/s]\n",
      "100%|██████████| 85/85 [00:00<00:00, 546.70it/s]\n",
      "100%|██████████| 17/17 [00:00<00:00, 508.00it/s]\n"
     ]
    },
    {
     "name": "stdout",
     "output_type": "stream",
     "text": [
      "Loss Decreasing.. 0.059 >> 0.059 \n",
      "saving model...\n",
      "Epoch:121/1000.. Train Loss: 0.062.. Val Loss: 0.059.. Test Loss: 0.048.. Time: 0.03m\n"
     ]
    },
    {
     "name": "stderr",
     "output_type": "stream",
     "text": [
      "100%|██████████| 238/238 [00:01<00:00, 135.59it/s]\n",
      "100%|██████████| 85/85 [00:00<00:00, 542.63it/s]\n",
      "100%|██████████| 17/17 [00:00<00:00, 499.09it/s]\n"
     ]
    },
    {
     "name": "stdout",
     "output_type": "stream",
     "text": [
      "Epoch:122/1000.. Train Loss: 0.062.. Val Loss: 0.059.. Test Loss: 0.048.. Time: 0.03m\n"
     ]
    },
    {
     "name": "stderr",
     "output_type": "stream",
     "text": [
      "100%|██████████| 238/238 [00:01<00:00, 134.90it/s]\n",
      "100%|██████████| 85/85 [00:00<00:00, 535.38it/s]\n",
      "100%|██████████| 17/17 [00:00<00:00, 484.25it/s]\n"
     ]
    },
    {
     "name": "stdout",
     "output_type": "stream",
     "text": [
      "Loss Decreasing.. 0.059 >> 0.059 \n",
      "saving model...\n",
      "Epoch:123/1000.. Train Loss: 0.062.. Val Loss: 0.059.. Test Loss: 0.048.. Time: 0.03m\n"
     ]
    },
    {
     "name": "stderr",
     "output_type": "stream",
     "text": [
      "100%|██████████| 238/238 [00:01<00:00, 135.38it/s]\n",
      "100%|██████████| 85/85 [00:00<00:00, 544.34it/s]\n",
      "100%|██████████| 17/17 [00:00<00:00, 507.87it/s]\n"
     ]
    },
    {
     "name": "stdout",
     "output_type": "stream",
     "text": [
      "Epoch:124/1000.. Train Loss: 0.062.. Val Loss: 0.059.. Test Loss: 0.048.. Time: 0.03m\n"
     ]
    },
    {
     "name": "stderr",
     "output_type": "stream",
     "text": [
      "100%|██████████| 238/238 [00:01<00:00, 135.18it/s]\n",
      "100%|██████████| 85/85 [00:00<00:00, 518.38it/s]\n",
      "100%|██████████| 17/17 [00:00<00:00, 490.16it/s]\n"
     ]
    },
    {
     "name": "stdout",
     "output_type": "stream",
     "text": [
      "Loss Decreasing.. 0.059 >> 0.058 \n",
      "saving model...\n",
      "Epoch:125/1000.. Train Loss: 0.062.. Val Loss: 0.058.. Test Loss: 0.048.. Time: 0.03m\n"
     ]
    },
    {
     "name": "stderr",
     "output_type": "stream",
     "text": [
      "100%|██████████| 238/238 [00:01<00:00, 133.92it/s]\n",
      "100%|██████████| 85/85 [00:00<00:00, 535.95it/s]\n",
      "100%|██████████| 17/17 [00:00<00:00, 510.63it/s]\n"
     ]
    },
    {
     "name": "stdout",
     "output_type": "stream",
     "text": [
      "Epoch:126/1000.. Train Loss: 0.062.. Val Loss: 0.058.. Test Loss: 0.048.. Time: 0.03m\n"
     ]
    },
    {
     "name": "stderr",
     "output_type": "stream",
     "text": [
      "100%|██████████| 238/238 [00:01<00:00, 132.72it/s]\n",
      "100%|██████████| 85/85 [00:00<00:00, 534.29it/s]\n",
      "100%|██████████| 17/17 [00:00<00:00, 533.42it/s]\n"
     ]
    },
    {
     "name": "stdout",
     "output_type": "stream",
     "text": [
      "Loss Decreasing.. 0.058 >> 0.058 \n",
      "saving model...\n",
      "Epoch:127/1000.. Train Loss: 0.062.. Val Loss: 0.058.. Test Loss: 0.048.. Time: 0.03m\n"
     ]
    },
    {
     "name": "stderr",
     "output_type": "stream",
     "text": [
      "100%|██████████| 238/238 [00:01<00:00, 132.34it/s]\n",
      "100%|██████████| 85/85 [00:00<00:00, 526.28it/s]\n",
      "100%|██████████| 17/17 [00:00<00:00, 474.30it/s]\n"
     ]
    },
    {
     "name": "stdout",
     "output_type": "stream",
     "text": [
      "Epoch:128/1000.. Train Loss: 0.062.. Val Loss: 0.059.. Test Loss: 0.048.. Time: 0.03m\n"
     ]
    },
    {
     "name": "stderr",
     "output_type": "stream",
     "text": [
      "100%|██████████| 238/238 [00:01<00:00, 133.18it/s]\n",
      "100%|██████████| 85/85 [00:00<00:00, 504.78it/s]\n",
      "100%|██████████| 17/17 [00:00<00:00, 487.52it/s]\n"
     ]
    },
    {
     "name": "stdout",
     "output_type": "stream",
     "text": [
      "Epoch:129/1000.. Train Loss: 0.062.. Val Loss: 0.059.. Test Loss: 0.048.. Time: 0.03m\n"
     ]
    },
    {
     "name": "stderr",
     "output_type": "stream",
     "text": [
      "100%|██████████| 238/238 [00:01<00:00, 137.07it/s]\n",
      "100%|██████████| 85/85 [00:00<00:00, 529.75it/s]\n",
      "100%|██████████| 17/17 [00:00<00:00, 481.42it/s]\n"
     ]
    },
    {
     "name": "stdout",
     "output_type": "stream",
     "text": [
      "Epoch:130/1000.. Train Loss: 0.061.. Val Loss: 0.058.. Test Loss: 0.048.. Time: 0.03m\n"
     ]
    },
    {
     "name": "stderr",
     "output_type": "stream",
     "text": [
      "100%|██████████| 238/238 [00:01<00:00, 138.14it/s]\n",
      "100%|██████████| 85/85 [00:00<00:00, 516.58it/s]\n",
      "100%|██████████| 17/17 [00:00<00:00, 487.66it/s]\n"
     ]
    },
    {
     "name": "stdout",
     "output_type": "stream",
     "text": [
      "Loss Decreasing.. 0.058 >> 0.058 \n",
      "saving model...\n",
      "Epoch:131/1000.. Train Loss: 0.062.. Val Loss: 0.058.. Test Loss: 0.048.. Time: 0.03m\n"
     ]
    },
    {
     "name": "stderr",
     "output_type": "stream",
     "text": [
      "100%|██████████| 238/238 [00:01<00:00, 138.64it/s]\n",
      "100%|██████████| 85/85 [00:00<00:00, 530.19it/s]\n",
      "100%|██████████| 17/17 [00:00<00:00, 489.84it/s]\n"
     ]
    },
    {
     "name": "stdout",
     "output_type": "stream",
     "text": [
      "Epoch:132/1000.. Train Loss: 0.062.. Val Loss: 0.059.. Test Loss: 0.049.. Time: 0.03m\n"
     ]
    },
    {
     "name": "stderr",
     "output_type": "stream",
     "text": [
      "100%|██████████| 238/238 [00:01<00:00, 139.40it/s]\n",
      "100%|██████████| 85/85 [00:00<00:00, 527.54it/s]\n",
      "100%|██████████| 17/17 [00:00<00:00, 487.32it/s]\n"
     ]
    },
    {
     "name": "stdout",
     "output_type": "stream",
     "text": [
      "Loss Decreasing.. 0.058 >> 0.058 \n",
      "saving model...\n",
      "Epoch:133/1000.. Train Loss: 0.061.. Val Loss: 0.058.. Test Loss: 0.048.. Time: 0.03m\n"
     ]
    },
    {
     "name": "stderr",
     "output_type": "stream",
     "text": [
      "100%|██████████| 238/238 [00:01<00:00, 134.20it/s]\n",
      "100%|██████████| 85/85 [00:00<00:00, 530.51it/s]\n",
      "100%|██████████| 17/17 [00:00<00:00, 487.78it/s]\n"
     ]
    },
    {
     "name": "stdout",
     "output_type": "stream",
     "text": [
      "Epoch:134/1000.. Train Loss: 0.062.. Val Loss: 0.058.. Test Loss: 0.048.. Time: 0.03m\n"
     ]
    },
    {
     "name": "stderr",
     "output_type": "stream",
     "text": [
      "100%|██████████| 238/238 [00:01<00:00, 134.16it/s]\n",
      "100%|██████████| 85/85 [00:00<00:00, 537.69it/s]\n",
      "100%|██████████| 17/17 [00:00<00:00, 542.12it/s]\n"
     ]
    },
    {
     "name": "stdout",
     "output_type": "stream",
     "text": [
      "Epoch:135/1000.. Train Loss: 0.062.. Val Loss: 0.058.. Test Loss: 0.049.. Time: 0.03m\n"
     ]
    },
    {
     "name": "stderr",
     "output_type": "stream",
     "text": [
      "100%|██████████| 238/238 [00:01<00:00, 135.15it/s]\n",
      "100%|██████████| 85/85 [00:00<00:00, 526.34it/s]\n",
      "100%|██████████| 17/17 [00:00<00:00, 490.80it/s]\n"
     ]
    },
    {
     "name": "stdout",
     "output_type": "stream",
     "text": [
      "Epoch:136/1000.. Train Loss: 0.062.. Val Loss: 0.058.. Test Loss: 0.048.. Time: 0.03m\n"
     ]
    },
    {
     "name": "stderr",
     "output_type": "stream",
     "text": [
      "100%|██████████| 238/238 [00:01<00:00, 139.38it/s]\n",
      "100%|██████████| 85/85 [00:00<00:00, 539.43it/s]\n",
      "100%|██████████| 17/17 [00:00<00:00, 494.46it/s]\n"
     ]
    },
    {
     "name": "stdout",
     "output_type": "stream",
     "text": [
      "Epoch:137/1000.. Train Loss: 0.062.. Val Loss: 0.058.. Test Loss: 0.048.. Time: 0.03m\n"
     ]
    },
    {
     "name": "stderr",
     "output_type": "stream",
     "text": [
      "100%|██████████| 238/238 [00:01<00:00, 136.60it/s]\n",
      "100%|██████████| 85/85 [00:00<00:00, 532.93it/s]\n",
      "100%|██████████| 17/17 [00:00<00:00, 496.00it/s]\n"
     ]
    },
    {
     "name": "stdout",
     "output_type": "stream",
     "text": [
      "Epoch:138/1000.. Train Loss: 0.061.. Val Loss: 0.058.. Test Loss: 0.048.. Time: 0.03m\n"
     ]
    },
    {
     "name": "stderr",
     "output_type": "stream",
     "text": [
      "100%|██████████| 238/238 [00:01<00:00, 134.97it/s]\n",
      "100%|██████████| 85/85 [00:00<00:00, 531.09it/s]\n",
      "100%|██████████| 17/17 [00:00<00:00, 503.49it/s]\n"
     ]
    },
    {
     "name": "stdout",
     "output_type": "stream",
     "text": [
      "Loss Decreasing.. 0.058 >> 0.058 \n",
      "saving model...\n",
      "Epoch:139/1000.. Train Loss: 0.062.. Val Loss: 0.058.. Test Loss: 0.048.. Time: 0.03m\n"
     ]
    },
    {
     "name": "stderr",
     "output_type": "stream",
     "text": [
      "100%|██████████| 238/238 [00:01<00:00, 134.61it/s]\n",
      "100%|██████████| 85/85 [00:00<00:00, 535.60it/s]\n",
      "100%|██████████| 17/17 [00:00<00:00, 489.10it/s]\n"
     ]
    },
    {
     "name": "stdout",
     "output_type": "stream",
     "text": [
      "Epoch:140/1000.. Train Loss: 0.062.. Val Loss: 0.058.. Test Loss: 0.048.. Time: 0.03m\n"
     ]
    },
    {
     "name": "stderr",
     "output_type": "stream",
     "text": [
      "100%|██████████| 238/238 [00:01<00:00, 134.92it/s]\n",
      "100%|██████████| 85/85 [00:00<00:00, 543.04it/s]\n",
      "100%|██████████| 17/17 [00:00<00:00, 506.10it/s]\n"
     ]
    },
    {
     "name": "stdout",
     "output_type": "stream",
     "text": [
      "Epoch:141/1000.. Train Loss: 0.061.. Val Loss: 0.058.. Test Loss: 0.048.. Time: 0.03m\n"
     ]
    },
    {
     "name": "stderr",
     "output_type": "stream",
     "text": [
      "100%|██████████| 238/238 [00:01<00:00, 134.33it/s]\n",
      "100%|██████████| 85/85 [00:00<00:00, 530.88it/s]\n",
      "100%|██████████| 17/17 [00:00<00:00, 486.38it/s]\n"
     ]
    },
    {
     "name": "stdout",
     "output_type": "stream",
     "text": [
      "Epoch:142/1000.. Train Loss: 0.062.. Val Loss: 0.058.. Test Loss: 0.048.. Time: 0.03m\n"
     ]
    },
    {
     "name": "stderr",
     "output_type": "stream",
     "text": [
      "100%|██████████| 238/238 [00:01<00:00, 132.38it/s]\n",
      "100%|██████████| 85/85 [00:00<00:00, 534.42it/s]\n",
      "100%|██████████| 17/17 [00:00<00:00, 483.85it/s]\n"
     ]
    },
    {
     "name": "stdout",
     "output_type": "stream",
     "text": [
      "Epoch:143/1000.. Train Loss: 0.061.. Val Loss: 0.058.. Test Loss: 0.048.. Time: 0.03m\n"
     ]
    },
    {
     "name": "stderr",
     "output_type": "stream",
     "text": [
      "100%|██████████| 238/238 [00:01<00:00, 134.44it/s]\n",
      "100%|██████████| 85/85 [00:00<00:00, 536.08it/s]\n",
      "100%|██████████| 17/17 [00:00<00:00, 497.34it/s]\n"
     ]
    },
    {
     "name": "stdout",
     "output_type": "stream",
     "text": [
      "Epoch:144/1000.. Train Loss: 0.061.. Val Loss: 0.058.. Test Loss: 0.048.. Time: 0.03m\n"
     ]
    },
    {
     "name": "stderr",
     "output_type": "stream",
     "text": [
      "100%|██████████| 238/238 [00:01<00:00, 134.53it/s]\n",
      "100%|██████████| 85/85 [00:00<00:00, 531.02it/s]\n",
      "100%|██████████| 17/17 [00:00<00:00, 498.41it/s]\n"
     ]
    },
    {
     "name": "stdout",
     "output_type": "stream",
     "text": [
      "Loss Decreasing.. 0.058 >> 0.058 \n",
      "saving model...\n",
      "Epoch:145/1000.. Train Loss: 0.061.. Val Loss: 0.058.. Test Loss: 0.048.. Time: 0.03m\n"
     ]
    },
    {
     "name": "stderr",
     "output_type": "stream",
     "text": [
      "100%|██████████| 238/238 [00:01<00:00, 139.61it/s]\n",
      "100%|██████████| 85/85 [00:00<00:00, 534.81it/s]\n",
      "100%|██████████| 17/17 [00:00<00:00, 484.80it/s]\n"
     ]
    },
    {
     "name": "stdout",
     "output_type": "stream",
     "text": [
      "Loss Decreasing.. 0.058 >> 0.058 \n",
      "saving model...\n",
      "Epoch:146/1000.. Train Loss: 0.061.. Val Loss: 0.058.. Test Loss: 0.048.. Time: 0.03m\n"
     ]
    },
    {
     "name": "stderr",
     "output_type": "stream",
     "text": [
      "100%|██████████| 238/238 [00:01<00:00, 133.63it/s]\n",
      "100%|██████████| 85/85 [00:00<00:00, 534.11it/s]\n",
      "100%|██████████| 17/17 [00:00<00:00, 454.73it/s]\n"
     ]
    },
    {
     "name": "stdout",
     "output_type": "stream",
     "text": [
      "Epoch:147/1000.. Train Loss: 0.061.. Val Loss: 0.058.. Test Loss: 0.048.. Time: 0.03m\n"
     ]
    },
    {
     "name": "stderr",
     "output_type": "stream",
     "text": [
      "100%|██████████| 238/238 [00:01<00:00, 137.37it/s]\n",
      "100%|██████████| 85/85 [00:00<00:00, 528.35it/s]\n",
      "100%|██████████| 17/17 [00:00<00:00, 495.61it/s]\n"
     ]
    },
    {
     "name": "stdout",
     "output_type": "stream",
     "text": [
      "Epoch:148/1000.. Train Loss: 0.061.. Val Loss: 0.058.. Test Loss: 0.048.. Time: 0.03m\n"
     ]
    },
    {
     "name": "stderr",
     "output_type": "stream",
     "text": [
      "100%|██████████| 238/238 [00:01<00:00, 136.41it/s]\n",
      "100%|██████████| 85/85 [00:00<00:00, 534.02it/s]\n",
      "100%|██████████| 17/17 [00:00<00:00, 498.48it/s]\n"
     ]
    },
    {
     "name": "stdout",
     "output_type": "stream",
     "text": [
      "Epoch:149/1000.. Train Loss: 0.061.. Val Loss: 0.058.. Test Loss: 0.049.. Time: 0.03m\n"
     ]
    },
    {
     "name": "stderr",
     "output_type": "stream",
     "text": [
      "100%|██████████| 238/238 [00:01<00:00, 133.54it/s]\n",
      "100%|██████████| 85/85 [00:00<00:00, 539.18it/s]\n",
      "100%|██████████| 17/17 [00:00<00:00, 489.26it/s]\n"
     ]
    },
    {
     "name": "stdout",
     "output_type": "stream",
     "text": [
      "Epoch:150/1000.. Train Loss: 0.061.. Val Loss: 0.058.. Test Loss: 0.049.. Time: 0.03m\n"
     ]
    },
    {
     "name": "stderr",
     "output_type": "stream",
     "text": [
      "100%|██████████| 238/238 [00:01<00:00, 133.32it/s]\n",
      "100%|██████████| 85/85 [00:00<00:00, 519.32it/s]\n",
      "100%|██████████| 17/17 [00:00<00:00, 486.38it/s]\n"
     ]
    },
    {
     "name": "stdout",
     "output_type": "stream",
     "text": [
      "Epoch:151/1000.. Train Loss: 0.061.. Val Loss: 0.058.. Test Loss: 0.049.. Time: 0.03m\n"
     ]
    },
    {
     "name": "stderr",
     "output_type": "stream",
     "text": [
      "100%|██████████| 238/238 [00:01<00:00, 132.97it/s]\n",
      "100%|██████████| 85/85 [00:00<00:00, 544.65it/s]\n",
      "100%|██████████| 17/17 [00:00<00:00, 430.29it/s]\n"
     ]
    },
    {
     "name": "stdout",
     "output_type": "stream",
     "text": [
      "Epoch:152/1000.. Train Loss: 0.061.. Val Loss: 0.058.. Test Loss: 0.049.. Time: 0.03m\n"
     ]
    },
    {
     "name": "stderr",
     "output_type": "stream",
     "text": [
      "100%|██████████| 238/238 [00:01<00:00, 140.87it/s]\n",
      "100%|██████████| 85/85 [00:00<00:00, 536.68it/s]\n",
      "100%|██████████| 17/17 [00:00<00:00, 480.54it/s]\n"
     ]
    },
    {
     "name": "stdout",
     "output_type": "stream",
     "text": [
      "Loss Decreasing.. 0.058 >> 0.058 \n",
      "saving model...\n",
      "Epoch:153/1000.. Train Loss: 0.061.. Val Loss: 0.058.. Test Loss: 0.049.. Time: 0.03m\n"
     ]
    },
    {
     "name": "stderr",
     "output_type": "stream",
     "text": [
      "100%|██████████| 238/238 [00:01<00:00, 140.11it/s]\n",
      "100%|██████████| 85/85 [00:00<00:00, 527.60it/s]\n",
      "100%|██████████| 17/17 [00:00<00:00, 484.37it/s]\n"
     ]
    },
    {
     "name": "stdout",
     "output_type": "stream",
     "text": [
      "Epoch:154/1000.. Train Loss: 0.061.. Val Loss: 0.058.. Test Loss: 0.049.. Time: 0.03m\n"
     ]
    },
    {
     "name": "stderr",
     "output_type": "stream",
     "text": [
      "100%|██████████| 238/238 [00:01<00:00, 135.99it/s]\n",
      "100%|██████████| 85/85 [00:00<00:00, 536.12it/s]\n",
      "100%|██████████| 17/17 [00:00<00:00, 492.18it/s]\n"
     ]
    },
    {
     "name": "stdout",
     "output_type": "stream",
     "text": [
      "Loss Decreasing.. 0.058 >> 0.057 \n",
      "saving model...\n",
      "Epoch:155/1000.. Train Loss: 0.061.. Val Loss: 0.057.. Test Loss: 0.049.. Time: 0.03m\n"
     ]
    },
    {
     "name": "stderr",
     "output_type": "stream",
     "text": [
      "100%|██████████| 238/238 [00:01<00:00, 135.11it/s]\n",
      "100%|██████████| 85/85 [00:00<00:00, 515.25it/s]\n",
      "100%|██████████| 17/17 [00:00<00:00, 479.37it/s]\n"
     ]
    },
    {
     "name": "stdout",
     "output_type": "stream",
     "text": [
      "Epoch:156/1000.. Train Loss: 0.061.. Val Loss: 0.058.. Test Loss: 0.049.. Time: 0.03m\n"
     ]
    },
    {
     "name": "stderr",
     "output_type": "stream",
     "text": [
      "100%|██████████| 238/238 [00:01<00:00, 135.80it/s]\n",
      "100%|██████████| 85/85 [00:00<00:00, 529.34it/s]\n",
      "100%|██████████| 17/17 [00:00<00:00, 497.27it/s]\n"
     ]
    },
    {
     "name": "stdout",
     "output_type": "stream",
     "text": [
      "Epoch:157/1000.. Train Loss: 0.061.. Val Loss: 0.058.. Test Loss: 0.048.. Time: 0.03m\n"
     ]
    },
    {
     "name": "stderr",
     "output_type": "stream",
     "text": [
      "100%|██████████| 238/238 [00:01<00:00, 135.27it/s]\n",
      "100%|██████████| 85/85 [00:00<00:00, 538.52it/s]\n",
      "100%|██████████| 17/17 [00:00<00:00, 509.21it/s]\n"
     ]
    },
    {
     "name": "stdout",
     "output_type": "stream",
     "text": [
      "Epoch:158/1000.. Train Loss: 0.061.. Val Loss: 0.057.. Test Loss: 0.048.. Time: 0.03m\n"
     ]
    },
    {
     "name": "stderr",
     "output_type": "stream",
     "text": [
      "100%|██████████| 238/238 [00:01<00:00, 132.74it/s]\n",
      "100%|██████████| 85/85 [00:00<00:00, 536.26it/s]\n",
      "100%|██████████| 17/17 [00:00<00:00, 507.53it/s]\n"
     ]
    },
    {
     "name": "stdout",
     "output_type": "stream",
     "text": [
      "Epoch:159/1000.. Train Loss: 0.061.. Val Loss: 0.058.. Test Loss: 0.049.. Time: 0.03m\n"
     ]
    },
    {
     "name": "stderr",
     "output_type": "stream",
     "text": [
      "100%|██████████| 238/238 [00:01<00:00, 132.14it/s]\n",
      "100%|██████████| 85/85 [00:00<00:00, 534.70it/s]\n",
      "100%|██████████| 17/17 [00:00<00:00, 510.14it/s]\n"
     ]
    },
    {
     "name": "stdout",
     "output_type": "stream",
     "text": [
      "Epoch:160/1000.. Train Loss: 0.061.. Val Loss: 0.058.. Test Loss: 0.049.. Time: 0.03m\n"
     ]
    },
    {
     "name": "stderr",
     "output_type": "stream",
     "text": [
      "100%|██████████| 238/238 [00:01<00:00, 133.26it/s]\n",
      "100%|██████████| 85/85 [00:00<00:00, 520.15it/s]\n",
      "100%|██████████| 17/17 [00:00<00:00, 526.89it/s]\n"
     ]
    },
    {
     "name": "stdout",
     "output_type": "stream",
     "text": [
      "Epoch:161/1000.. Train Loss: 0.060.. Val Loss: 0.057.. Test Loss: 0.048.. Time: 0.03m\n"
     ]
    },
    {
     "name": "stderr",
     "output_type": "stream",
     "text": [
      "100%|██████████| 238/238 [00:01<00:00, 131.86it/s]\n",
      "100%|██████████| 85/85 [00:00<00:00, 530.27it/s]\n",
      "100%|██████████| 17/17 [00:00<00:00, 510.47it/s]\n"
     ]
    },
    {
     "name": "stdout",
     "output_type": "stream",
     "text": [
      "Epoch:162/1000.. Train Loss: 0.061.. Val Loss: 0.058.. Test Loss: 0.048.. Time: 0.03m\n"
     ]
    },
    {
     "name": "stderr",
     "output_type": "stream",
     "text": [
      "100%|██████████| 238/238 [00:01<00:00, 134.77it/s]\n",
      "100%|██████████| 85/85 [00:00<00:00, 527.23it/s]\n",
      "100%|██████████| 17/17 [00:00<00:00, 486.58it/s]\n"
     ]
    },
    {
     "name": "stdout",
     "output_type": "stream",
     "text": [
      "Epoch:163/1000.. Train Loss: 0.061.. Val Loss: 0.058.. Test Loss: 0.049.. Time: 0.03m\n"
     ]
    },
    {
     "name": "stderr",
     "output_type": "stream",
     "text": [
      "100%|██████████| 238/238 [00:01<00:00, 133.15it/s]\n",
      "100%|██████████| 85/85 [00:00<00:00, 526.82it/s]\n",
      "100%|██████████| 17/17 [00:00<00:00, 483.86it/s]\n"
     ]
    },
    {
     "name": "stdout",
     "output_type": "stream",
     "text": [
      "Epoch:164/1000.. Train Loss: 0.060.. Val Loss: 0.057.. Test Loss: 0.049.. Time: 0.03m\n"
     ]
    },
    {
     "name": "stderr",
     "output_type": "stream",
     "text": [
      "100%|██████████| 238/238 [00:01<00:00, 133.53it/s]\n",
      "100%|██████████| 85/85 [00:00<00:00, 527.20it/s]\n",
      "100%|██████████| 17/17 [00:00<00:00, 494.47it/s]\n"
     ]
    },
    {
     "name": "stdout",
     "output_type": "stream",
     "text": [
      "Loss Decreasing.. 0.057 >> 0.057 \n",
      "saving model...\n",
      "Epoch:165/1000.. Train Loss: 0.061.. Val Loss: 0.057.. Test Loss: 0.049.. Time: 0.03m\n"
     ]
    },
    {
     "name": "stderr",
     "output_type": "stream",
     "text": [
      "100%|██████████| 238/238 [00:01<00:00, 133.56it/s]\n",
      "100%|██████████| 85/85 [00:00<00:00, 526.97it/s]\n",
      "100%|██████████| 17/17 [00:00<00:00, 494.05it/s]\n"
     ]
    },
    {
     "name": "stdout",
     "output_type": "stream",
     "text": [
      "Epoch:166/1000.. Train Loss: 0.061.. Val Loss: 0.057.. Test Loss: 0.050.. Time: 0.03m\n"
     ]
    },
    {
     "name": "stderr",
     "output_type": "stream",
     "text": [
      "100%|██████████| 238/238 [00:01<00:00, 135.62it/s]\n",
      "100%|██████████| 85/85 [00:00<00:00, 523.36it/s]\n",
      "100%|██████████| 17/17 [00:00<00:00, 492.01it/s]\n"
     ]
    },
    {
     "name": "stdout",
     "output_type": "stream",
     "text": [
      "Epoch:167/1000.. Train Loss: 0.061.. Val Loss: 0.057.. Test Loss: 0.049.. Time: 0.03m\n"
     ]
    },
    {
     "name": "stderr",
     "output_type": "stream",
     "text": [
      "100%|██████████| 238/238 [00:01<00:00, 136.18it/s]\n",
      "100%|██████████| 85/85 [00:00<00:00, 537.31it/s]\n",
      "100%|██████████| 17/17 [00:00<00:00, 488.41it/s]\n"
     ]
    },
    {
     "name": "stdout",
     "output_type": "stream",
     "text": [
      "Loss Decreasing.. 0.057 >> 0.057 \n",
      "saving model...\n",
      "Epoch:168/1000.. Train Loss: 0.061.. Val Loss: 0.057.. Test Loss: 0.048.. Time: 0.03m\n"
     ]
    },
    {
     "name": "stderr",
     "output_type": "stream",
     "text": [
      "100%|██████████| 238/238 [00:01<00:00, 135.20it/s]\n",
      "100%|██████████| 85/85 [00:00<00:00, 542.73it/s]\n",
      "100%|██████████| 17/17 [00:00<00:00, 517.56it/s]\n"
     ]
    },
    {
     "name": "stdout",
     "output_type": "stream",
     "text": [
      "Epoch:169/1000.. Train Loss: 0.061.. Val Loss: 0.057.. Test Loss: 0.049.. Time: 0.03m\n"
     ]
    },
    {
     "name": "stderr",
     "output_type": "stream",
     "text": [
      "100%|██████████| 238/238 [00:01<00:00, 131.96it/s]\n",
      "100%|██████████| 85/85 [00:00<00:00, 530.80it/s]\n",
      "100%|██████████| 17/17 [00:00<00:00, 529.67it/s]\n"
     ]
    },
    {
     "name": "stdout",
     "output_type": "stream",
     "text": [
      "Loss Decreasing.. 0.057 >> 0.057 \n",
      "saving model...\n",
      "Epoch:170/1000.. Train Loss: 0.061.. Val Loss: 0.057.. Test Loss: 0.048.. Time: 0.03m\n"
     ]
    },
    {
     "name": "stderr",
     "output_type": "stream",
     "text": [
      "100%|██████████| 238/238 [00:01<00:00, 142.57it/s]\n",
      "100%|██████████| 85/85 [00:00<00:00, 526.45it/s]\n",
      "100%|██████████| 17/17 [00:00<00:00, 466.88it/s]\n"
     ]
    },
    {
     "name": "stdout",
     "output_type": "stream",
     "text": [
      "Epoch:171/1000.. Train Loss: 0.060.. Val Loss: 0.057.. Test Loss: 0.048.. Time: 0.03m\n"
     ]
    },
    {
     "name": "stderr",
     "output_type": "stream",
     "text": [
      "100%|██████████| 238/238 [00:01<00:00, 128.65it/s]\n",
      "100%|██████████| 85/85 [00:00<00:00, 532.59it/s]\n",
      "100%|██████████| 17/17 [00:00<00:00, 530.25it/s]\n"
     ]
    },
    {
     "name": "stdout",
     "output_type": "stream",
     "text": [
      "Epoch:172/1000.. Train Loss: 0.060.. Val Loss: 0.058.. Test Loss: 0.050.. Time: 0.03m\n"
     ]
    },
    {
     "name": "stderr",
     "output_type": "stream",
     "text": [
      "100%|██████████| 238/238 [00:01<00:00, 134.48it/s]\n",
      "100%|██████████| 85/85 [00:00<00:00, 529.58it/s]\n",
      "100%|██████████| 17/17 [00:00<00:00, 533.52it/s]\n"
     ]
    },
    {
     "name": "stdout",
     "output_type": "stream",
     "text": [
      "Epoch:173/1000.. Train Loss: 0.060.. Val Loss: 0.057.. Test Loss: 0.049.. Time: 0.03m\n"
     ]
    },
    {
     "name": "stderr",
     "output_type": "stream",
     "text": [
      "100%|██████████| 238/238 [00:01<00:00, 133.90it/s]\n",
      "100%|██████████| 85/85 [00:00<00:00, 531.86it/s]\n",
      "100%|██████████| 17/17 [00:00<00:00, 534.59it/s]\n"
     ]
    },
    {
     "name": "stdout",
     "output_type": "stream",
     "text": [
      "Epoch:174/1000.. Train Loss: 0.061.. Val Loss: 0.057.. Test Loss: 0.049.. Time: 0.03m\n"
     ]
    },
    {
     "name": "stderr",
     "output_type": "stream",
     "text": [
      "100%|██████████| 238/238 [00:01<00:00, 135.09it/s]\n",
      "100%|██████████| 85/85 [00:00<00:00, 532.35it/s]\n",
      "100%|██████████| 17/17 [00:00<00:00, 510.43it/s]\n"
     ]
    },
    {
     "name": "stdout",
     "output_type": "stream",
     "text": [
      "Epoch:175/1000.. Train Loss: 0.060.. Val Loss: 0.057.. Test Loss: 0.049.. Time: 0.03m\n"
     ]
    },
    {
     "name": "stderr",
     "output_type": "stream",
     "text": [
      "100%|██████████| 238/238 [00:01<00:00, 131.52it/s]\n",
      "100%|██████████| 85/85 [00:00<00:00, 532.86it/s]\n",
      "100%|██████████| 17/17 [00:00<00:00, 490.94it/s]\n"
     ]
    },
    {
     "name": "stdout",
     "output_type": "stream",
     "text": [
      "Loss Decreasing.. 0.057 >> 0.057 \n",
      "saving model...\n",
      "Epoch:176/1000.. Train Loss: 0.060.. Val Loss: 0.057.. Test Loss: 0.049.. Time: 0.03m\n"
     ]
    },
    {
     "name": "stderr",
     "output_type": "stream",
     "text": [
      "100%|██████████| 238/238 [00:01<00:00, 133.15it/s]\n",
      "100%|██████████| 85/85 [00:00<00:00, 516.85it/s]\n",
      "100%|██████████| 17/17 [00:00<00:00, 484.86it/s]\n"
     ]
    },
    {
     "name": "stdout",
     "output_type": "stream",
     "text": [
      "Epoch:177/1000.. Train Loss: 0.060.. Val Loss: 0.057.. Test Loss: 0.050.. Time: 0.03m\n"
     ]
    },
    {
     "name": "stderr",
     "output_type": "stream",
     "text": [
      "100%|██████████| 238/238 [00:01<00:00, 135.36it/s]\n",
      "100%|██████████| 85/85 [00:00<00:00, 534.88it/s]\n",
      "100%|██████████| 17/17 [00:00<00:00, 514.16it/s]\n"
     ]
    },
    {
     "name": "stdout",
     "output_type": "stream",
     "text": [
      "Loss Decreasing.. 0.057 >> 0.057 \n",
      "saving model...\n",
      "Epoch:178/1000.. Train Loss: 0.060.. Val Loss: 0.057.. Test Loss: 0.049.. Time: 0.03m\n"
     ]
    },
    {
     "name": "stderr",
     "output_type": "stream",
     "text": [
      "100%|██████████| 238/238 [00:01<00:00, 133.38it/s]\n",
      "100%|██████████| 85/85 [00:00<00:00, 525.29it/s]\n",
      "100%|██████████| 17/17 [00:00<00:00, 485.95it/s]\n"
     ]
    },
    {
     "name": "stdout",
     "output_type": "stream",
     "text": [
      "Loss Decreasing.. 0.057 >> 0.057 \n",
      "saving model...\n",
      "Epoch:179/1000.. Train Loss: 0.060.. Val Loss: 0.057.. Test Loss: 0.050.. Time: 0.03m\n"
     ]
    },
    {
     "name": "stderr",
     "output_type": "stream",
     "text": [
      "100%|██████████| 238/238 [00:01<00:00, 135.23it/s]\n",
      "100%|██████████| 85/85 [00:00<00:00, 398.95it/s]\n",
      "100%|██████████| 17/17 [00:00<00:00, 487.67it/s]\n"
     ]
    },
    {
     "name": "stdout",
     "output_type": "stream",
     "text": [
      "Loss Decreasing.. 0.057 >> 0.057 \n",
      "saving model...\n",
      "Epoch:180/1000.. Train Loss: 0.060.. Val Loss: 0.057.. Test Loss: 0.050.. Time: 0.03m\n"
     ]
    },
    {
     "name": "stderr",
     "output_type": "stream",
     "text": [
      "100%|██████████| 238/238 [00:01<00:00, 132.05it/s]\n",
      "100%|██████████| 85/85 [00:00<00:00, 497.40it/s]\n",
      "100%|██████████| 17/17 [00:00<00:00, 496.90it/s]\n"
     ]
    },
    {
     "name": "stdout",
     "output_type": "stream",
     "text": [
      "Epoch:181/1000.. Train Loss: 0.060.. Val Loss: 0.057.. Test Loss: 0.050.. Time: 0.03m\n"
     ]
    },
    {
     "name": "stderr",
     "output_type": "stream",
     "text": [
      "100%|██████████| 238/238 [00:01<00:00, 133.48it/s]\n",
      "100%|██████████| 85/85 [00:00<00:00, 538.97it/s]\n",
      "100%|██████████| 17/17 [00:00<00:00, 498.18it/s]\n"
     ]
    },
    {
     "name": "stdout",
     "output_type": "stream",
     "text": [
      "Epoch:182/1000.. Train Loss: 0.060.. Val Loss: 0.057.. Test Loss: 0.049.. Time: 0.03m\n"
     ]
    },
    {
     "name": "stderr",
     "output_type": "stream",
     "text": [
      "100%|██████████| 238/238 [00:01<00:00, 134.92it/s]\n",
      "100%|██████████| 85/85 [00:00<00:00, 526.58it/s]\n",
      "100%|██████████| 17/17 [00:00<00:00, 499.23it/s]\n"
     ]
    },
    {
     "name": "stdout",
     "output_type": "stream",
     "text": [
      "Epoch:183/1000.. Train Loss: 0.060.. Val Loss: 0.057.. Test Loss: 0.049.. Time: 0.03m\n"
     ]
    },
    {
     "name": "stderr",
     "output_type": "stream",
     "text": [
      "100%|██████████| 238/238 [00:01<00:00, 134.96it/s]\n",
      "100%|██████████| 85/85 [00:00<00:00, 534.43it/s]\n",
      "100%|██████████| 17/17 [00:00<00:00, 488.49it/s]\n"
     ]
    },
    {
     "name": "stdout",
     "output_type": "stream",
     "text": [
      "Epoch:184/1000.. Train Loss: 0.060.. Val Loss: 0.057.. Test Loss: 0.048.. Time: 0.03m\n"
     ]
    },
    {
     "name": "stderr",
     "output_type": "stream",
     "text": [
      "100%|██████████| 238/238 [00:01<00:00, 134.04it/s]\n",
      "100%|██████████| 85/85 [00:00<00:00, 531.73it/s]\n",
      "100%|██████████| 17/17 [00:00<00:00, 470.13it/s]\n"
     ]
    },
    {
     "name": "stdout",
     "output_type": "stream",
     "text": [
      "Epoch:185/1000.. Train Loss: 0.060.. Val Loss: 0.057.. Test Loss: 0.049.. Time: 0.03m\n"
     ]
    },
    {
     "name": "stderr",
     "output_type": "stream",
     "text": [
      "100%|██████████| 238/238 [00:01<00:00, 130.39it/s]\n",
      "100%|██████████| 85/85 [00:00<00:00, 533.93it/s]\n",
      "100%|██████████| 17/17 [00:00<00:00, 488.70it/s]\n"
     ]
    },
    {
     "name": "stdout",
     "output_type": "stream",
     "text": [
      "Epoch:186/1000.. Train Loss: 0.060.. Val Loss: 0.057.. Test Loss: 0.049.. Time: 0.03m\n"
     ]
    },
    {
     "name": "stderr",
     "output_type": "stream",
     "text": [
      "100%|██████████| 238/238 [00:01<00:00, 135.95it/s]\n",
      "100%|██████████| 85/85 [00:00<00:00, 536.66it/s]\n",
      "100%|██████████| 17/17 [00:00<00:00, 489.40it/s]\n"
     ]
    },
    {
     "name": "stdout",
     "output_type": "stream",
     "text": [
      "Loss Decreasing.. 0.057 >> 0.057 \n",
      "saving model...\n",
      "Epoch:187/1000.. Train Loss: 0.060.. Val Loss: 0.057.. Test Loss: 0.049.. Time: 0.03m\n"
     ]
    },
    {
     "name": "stderr",
     "output_type": "stream",
     "text": [
      "100%|██████████| 238/238 [00:01<00:00, 137.24it/s]\n",
      "100%|██████████| 85/85 [00:00<00:00, 536.17it/s]\n",
      "100%|██████████| 17/17 [00:00<00:00, 499.71it/s]\n"
     ]
    },
    {
     "name": "stdout",
     "output_type": "stream",
     "text": [
      "Epoch:188/1000.. Train Loss: 0.060.. Val Loss: 0.057.. Test Loss: 0.049.. Time: 0.03m\n"
     ]
    },
    {
     "name": "stderr",
     "output_type": "stream",
     "text": [
      "100%|██████████| 238/238 [00:01<00:00, 132.99it/s]\n",
      "100%|██████████| 85/85 [00:00<00:00, 525.01it/s]\n",
      "100%|██████████| 17/17 [00:00<00:00, 486.95it/s]\n"
     ]
    },
    {
     "name": "stdout",
     "output_type": "stream",
     "text": [
      "Epoch:189/1000.. Train Loss: 0.060.. Val Loss: 0.057.. Test Loss: 0.050.. Time: 0.03m\n"
     ]
    },
    {
     "name": "stderr",
     "output_type": "stream",
     "text": [
      "100%|██████████| 238/238 [00:01<00:00, 133.90it/s]\n",
      "100%|██████████| 85/85 [00:00<00:00, 269.10it/s]\n",
      "100%|██████████| 17/17 [00:00<00:00, 494.59it/s]\n"
     ]
    },
    {
     "name": "stdout",
     "output_type": "stream",
     "text": [
      "Epoch:190/1000.. Train Loss: 0.060.. Val Loss: 0.057.. Test Loss: 0.049.. Time: 0.04m\n"
     ]
    },
    {
     "name": "stderr",
     "output_type": "stream",
     "text": [
      "100%|██████████| 238/238 [00:01<00:00, 137.67it/s]\n",
      "100%|██████████| 85/85 [00:00<00:00, 526.48it/s]\n",
      "100%|██████████| 17/17 [00:00<00:00, 481.25it/s]\n"
     ]
    },
    {
     "name": "stdout",
     "output_type": "stream",
     "text": [
      "Epoch:191/1000.. Train Loss: 0.060.. Val Loss: 0.057.. Test Loss: 0.049.. Time: 0.03m\n"
     ]
    },
    {
     "name": "stderr",
     "output_type": "stream",
     "text": [
      "100%|██████████| 238/238 [00:01<00:00, 138.33it/s]\n",
      "100%|██████████| 85/85 [00:00<00:00, 530.67it/s]\n",
      "100%|██████████| 17/17 [00:00<00:00, 483.71it/s]\n"
     ]
    },
    {
     "name": "stdout",
     "output_type": "stream",
     "text": [
      "Epoch:192/1000.. Train Loss: 0.060.. Val Loss: 0.057.. Test Loss: 0.049.. Time: 0.03m\n"
     ]
    },
    {
     "name": "stderr",
     "output_type": "stream",
     "text": [
      "100%|██████████| 238/238 [00:01<00:00, 135.73it/s]\n",
      "100%|██████████| 85/85 [00:00<00:00, 522.30it/s]\n",
      "100%|██████████| 17/17 [00:00<00:00, 487.56it/s]\n"
     ]
    },
    {
     "name": "stdout",
     "output_type": "stream",
     "text": [
      "Loss Decreasing.. 0.057 >> 0.057 \n",
      "saving model...\n",
      "Epoch:193/1000.. Train Loss: 0.060.. Val Loss: 0.057.. Test Loss: 0.050.. Time: 0.03m\n"
     ]
    },
    {
     "name": "stderr",
     "output_type": "stream",
     "text": [
      "100%|██████████| 238/238 [00:01<00:00, 132.92it/s]\n",
      "100%|██████████| 85/85 [00:00<00:00, 529.12it/s]\n",
      "100%|██████████| 17/17 [00:00<00:00, 415.10it/s]\n"
     ]
    },
    {
     "name": "stdout",
     "output_type": "stream",
     "text": [
      "Loss Decreasing.. 0.057 >> 0.056 \n",
      "saving model...\n",
      "Epoch:194/1000.. Train Loss: 0.060.. Val Loss: 0.056.. Test Loss: 0.050.. Time: 0.03m\n"
     ]
    },
    {
     "name": "stderr",
     "output_type": "stream",
     "text": [
      "100%|██████████| 238/238 [00:01<00:00, 135.46it/s]\n",
      "100%|██████████| 85/85 [00:00<00:00, 535.29it/s]\n",
      "100%|██████████| 17/17 [00:00<00:00, 492.72it/s]\n"
     ]
    },
    {
     "name": "stdout",
     "output_type": "stream",
     "text": [
      "Epoch:195/1000.. Train Loss: 0.060.. Val Loss: 0.057.. Test Loss: 0.049.. Time: 0.03m\n"
     ]
    },
    {
     "name": "stderr",
     "output_type": "stream",
     "text": [
      "100%|██████████| 238/238 [00:01<00:00, 134.41it/s]\n",
      "100%|██████████| 85/85 [00:00<00:00, 532.18it/s]\n",
      "100%|██████████| 17/17 [00:00<00:00, 496.48it/s]\n"
     ]
    },
    {
     "name": "stdout",
     "output_type": "stream",
     "text": [
      "Epoch:196/1000.. Train Loss: 0.060.. Val Loss: 0.057.. Test Loss: 0.051.. Time: 0.03m\n"
     ]
    },
    {
     "name": "stderr",
     "output_type": "stream",
     "text": [
      "100%|██████████| 238/238 [00:01<00:00, 132.51it/s]\n",
      "100%|██████████| 85/85 [00:00<00:00, 539.56it/s]\n",
      "100%|██████████| 17/17 [00:00<00:00, 494.45it/s]\n"
     ]
    },
    {
     "name": "stdout",
     "output_type": "stream",
     "text": [
      "Epoch:197/1000.. Train Loss: 0.060.. Val Loss: 0.057.. Test Loss: 0.051.. Time: 0.03m\n"
     ]
    },
    {
     "name": "stderr",
     "output_type": "stream",
     "text": [
      "100%|██████████| 238/238 [00:01<00:00, 136.13it/s]\n",
      "100%|██████████| 85/85 [00:00<00:00, 527.90it/s]\n",
      "100%|██████████| 17/17 [00:00<00:00, 495.16it/s]\n"
     ]
    },
    {
     "name": "stdout",
     "output_type": "stream",
     "text": [
      "Epoch:198/1000.. Train Loss: 0.060.. Val Loss: 0.057.. Test Loss: 0.049.. Time: 0.03m\n"
     ]
    },
    {
     "name": "stderr",
     "output_type": "stream",
     "text": [
      "100%|██████████| 238/238 [00:01<00:00, 133.97it/s]\n",
      "100%|██████████| 85/85 [00:00<00:00, 520.15it/s]\n",
      "100%|██████████| 17/17 [00:00<00:00, 485.05it/s]\n"
     ]
    },
    {
     "name": "stdout",
     "output_type": "stream",
     "text": [
      "Loss Decreasing.. 0.056 >> 0.056 \n",
      "saving model...\n",
      "Epoch:199/1000.. Train Loss: 0.060.. Val Loss: 0.056.. Test Loss: 0.049.. Time: 0.03m\n"
     ]
    },
    {
     "name": "stderr",
     "output_type": "stream",
     "text": [
      "100%|██████████| 238/238 [00:01<00:00, 133.57it/s]\n",
      "100%|██████████| 85/85 [00:00<00:00, 534.55it/s]\n",
      "100%|██████████| 17/17 [00:00<00:00, 495.80it/s]\n"
     ]
    },
    {
     "name": "stdout",
     "output_type": "stream",
     "text": [
      "Epoch:200/1000.. Train Loss: 0.060.. Val Loss: 0.057.. Test Loss: 0.051.. Time: 0.03m\n"
     ]
    },
    {
     "name": "stderr",
     "output_type": "stream",
     "text": [
      "100%|██████████| 238/238 [00:01<00:00, 132.62it/s]\n",
      "100%|██████████| 85/85 [00:00<00:00, 542.02it/s]\n",
      "100%|██████████| 17/17 [00:00<00:00, 498.16it/s]\n"
     ]
    },
    {
     "name": "stdout",
     "output_type": "stream",
     "text": [
      "Loss Decreasing.. 0.056 >> 0.056 \n",
      "saving model...\n",
      "Epoch:201/1000.. Train Loss: 0.060.. Val Loss: 0.056.. Test Loss: 0.051.. Time: 0.03m\n"
     ]
    },
    {
     "name": "stderr",
     "output_type": "stream",
     "text": [
      "100%|██████████| 238/238 [00:01<00:00, 135.57it/s]\n",
      "100%|██████████| 85/85 [00:00<00:00, 529.85it/s]\n",
      "100%|██████████| 17/17 [00:00<00:00, 480.29it/s]\n"
     ]
    },
    {
     "name": "stdout",
     "output_type": "stream",
     "text": [
      "Epoch:202/1000.. Train Loss: 0.060.. Val Loss: 0.056.. Test Loss: 0.049.. Time: 0.03m\n"
     ]
    },
    {
     "name": "stderr",
     "output_type": "stream",
     "text": [
      "100%|██████████| 238/238 [00:01<00:00, 132.12it/s]\n",
      "100%|██████████| 85/85 [00:00<00:00, 533.79it/s]\n",
      "100%|██████████| 17/17 [00:00<00:00, 498.70it/s]\n"
     ]
    },
    {
     "name": "stdout",
     "output_type": "stream",
     "text": [
      "Epoch:203/1000.. Train Loss: 0.060.. Val Loss: 0.056.. Test Loss: 0.049.. Time: 0.03m\n"
     ]
    },
    {
     "name": "stderr",
     "output_type": "stream",
     "text": [
      "100%|██████████| 238/238 [00:01<00:00, 135.76it/s]\n",
      "100%|██████████| 85/85 [00:00<00:00, 525.79it/s]\n",
      "100%|██████████| 17/17 [00:00<00:00, 484.35it/s]\n"
     ]
    },
    {
     "name": "stdout",
     "output_type": "stream",
     "text": [
      "Epoch:204/1000.. Train Loss: 0.060.. Val Loss: 0.056.. Test Loss: 0.049.. Time: 0.03m\n"
     ]
    },
    {
     "name": "stderr",
     "output_type": "stream",
     "text": [
      "100%|██████████| 238/238 [00:01<00:00, 134.72it/s]\n",
      "100%|██████████| 85/85 [00:00<00:00, 520.53it/s]\n",
      "100%|██████████| 17/17 [00:00<00:00, 487.74it/s]\n"
     ]
    },
    {
     "name": "stdout",
     "output_type": "stream",
     "text": [
      "Epoch:205/1000.. Train Loss: 0.059.. Val Loss: 0.057.. Test Loss: 0.049.. Time: 0.03m\n"
     ]
    },
    {
     "name": "stderr",
     "output_type": "stream",
     "text": [
      "100%|██████████| 238/238 [00:01<00:00, 134.45it/s]\n",
      "100%|██████████| 85/85 [00:00<00:00, 528.46it/s]\n",
      "100%|██████████| 17/17 [00:00<00:00, 486.70it/s]\n"
     ]
    },
    {
     "name": "stdout",
     "output_type": "stream",
     "text": [
      "Epoch:206/1000.. Train Loss: 0.060.. Val Loss: 0.057.. Test Loss: 0.050.. Time: 0.03m\n"
     ]
    },
    {
     "name": "stderr",
     "output_type": "stream",
     "text": [
      "100%|██████████| 238/238 [00:01<00:00, 140.54it/s]\n",
      "100%|██████████| 85/85 [00:00<00:00, 534.19it/s]\n",
      "100%|██████████| 17/17 [00:00<00:00, 481.80it/s]\n"
     ]
    },
    {
     "name": "stdout",
     "output_type": "stream",
     "text": [
      "Loss Decreasing.. 0.056 >> 0.056 \n",
      "saving model...\n",
      "Epoch:207/1000.. Train Loss: 0.059.. Val Loss: 0.056.. Test Loss: 0.052.. Time: 0.03m\n"
     ]
    },
    {
     "name": "stderr",
     "output_type": "stream",
     "text": [
      "100%|██████████| 238/238 [00:01<00:00, 135.04it/s]\n",
      "100%|██████████| 85/85 [00:00<00:00, 519.68it/s]\n",
      "100%|██████████| 17/17 [00:00<00:00, 494.01it/s]\n"
     ]
    },
    {
     "name": "stdout",
     "output_type": "stream",
     "text": [
      "Epoch:208/1000.. Train Loss: 0.059.. Val Loss: 0.056.. Test Loss: 0.050.. Time: 0.03m\n"
     ]
    },
    {
     "name": "stderr",
     "output_type": "stream",
     "text": [
      "100%|██████████| 238/238 [00:01<00:00, 136.09it/s]\n",
      "100%|██████████| 85/85 [00:00<00:00, 527.15it/s]\n",
      "100%|██████████| 17/17 [00:00<00:00, 494.76it/s]\n"
     ]
    },
    {
     "name": "stdout",
     "output_type": "stream",
     "text": [
      "Loss Decreasing.. 0.056 >> 0.056 \n",
      "saving model...\n",
      "Epoch:209/1000.. Train Loss: 0.059.. Val Loss: 0.056.. Test Loss: 0.050.. Time: 0.03m\n"
     ]
    },
    {
     "name": "stderr",
     "output_type": "stream",
     "text": [
      "100%|██████████| 238/238 [00:01<00:00, 136.19it/s]\n",
      "100%|██████████| 85/85 [00:00<00:00, 521.92it/s]\n",
      "100%|██████████| 17/17 [00:00<00:00, 481.28it/s]\n"
     ]
    },
    {
     "name": "stdout",
     "output_type": "stream",
     "text": [
      "Epoch:210/1000.. Train Loss: 0.059.. Val Loss: 0.057.. Test Loss: 0.052.. Time: 0.03m\n"
     ]
    },
    {
     "name": "stderr",
     "output_type": "stream",
     "text": [
      "100%|██████████| 238/238 [00:01<00:00, 138.87it/s]\n",
      "100%|██████████| 85/85 [00:00<00:00, 523.90it/s]\n",
      "100%|██████████| 17/17 [00:00<00:00, 447.98it/s]\n"
     ]
    },
    {
     "name": "stdout",
     "output_type": "stream",
     "text": [
      "Loss Decreasing.. 0.056 >> 0.056 \n",
      "saving model...\n",
      "Epoch:211/1000.. Train Loss: 0.060.. Val Loss: 0.056.. Test Loss: 0.050.. Time: 0.03m\n"
     ]
    },
    {
     "name": "stderr",
     "output_type": "stream",
     "text": [
      "100%|██████████| 238/238 [00:01<00:00, 133.19it/s]\n",
      "100%|██████████| 85/85 [00:00<00:00, 519.51it/s]\n",
      "100%|██████████| 17/17 [00:00<00:00, 505.31it/s]\n"
     ]
    },
    {
     "name": "stdout",
     "output_type": "stream",
     "text": [
      "Epoch:212/1000.. Train Loss: 0.059.. Val Loss: 0.057.. Test Loss: 0.051.. Time: 0.03m\n"
     ]
    },
    {
     "name": "stderr",
     "output_type": "stream",
     "text": [
      "100%|██████████| 238/238 [00:01<00:00, 130.52it/s]\n",
      "100%|██████████| 85/85 [00:00<00:00, 527.92it/s]\n",
      "100%|██████████| 17/17 [00:00<00:00, 499.31it/s]\n"
     ]
    },
    {
     "name": "stdout",
     "output_type": "stream",
     "text": [
      "Epoch:213/1000.. Train Loss: 0.059.. Val Loss: 0.056.. Test Loss: 0.050.. Time: 0.03m\n"
     ]
    },
    {
     "name": "stderr",
     "output_type": "stream",
     "text": [
      "100%|██████████| 238/238 [00:01<00:00, 132.90it/s]\n",
      "100%|██████████| 85/85 [00:00<00:00, 537.54it/s]\n",
      "100%|██████████| 17/17 [00:00<00:00, 487.19it/s]\n"
     ]
    },
    {
     "name": "stdout",
     "output_type": "stream",
     "text": [
      "Epoch:214/1000.. Train Loss: 0.059.. Val Loss: 0.056.. Test Loss: 0.050.. Time: 0.03m\n"
     ]
    },
    {
     "name": "stderr",
     "output_type": "stream",
     "text": [
      "100%|██████████| 238/238 [00:01<00:00, 134.10it/s]\n",
      "100%|██████████| 85/85 [00:00<00:00, 543.67it/s]\n",
      "100%|██████████| 17/17 [00:00<00:00, 473.36it/s]\n"
     ]
    },
    {
     "name": "stdout",
     "output_type": "stream",
     "text": [
      "Epoch:215/1000.. Train Loss: 0.059.. Val Loss: 0.056.. Test Loss: 0.049.. Time: 0.03m\n"
     ]
    },
    {
     "name": "stderr",
     "output_type": "stream",
     "text": [
      "100%|██████████| 238/238 [00:01<00:00, 132.86it/s]\n",
      "100%|██████████| 85/85 [00:00<00:00, 508.22it/s]\n",
      "100%|██████████| 17/17 [00:00<00:00, 496.97it/s]\n"
     ]
    },
    {
     "name": "stdout",
     "output_type": "stream",
     "text": [
      "Epoch:216/1000.. Train Loss: 0.059.. Val Loss: 0.056.. Test Loss: 0.049.. Time: 0.03m\n"
     ]
    },
    {
     "name": "stderr",
     "output_type": "stream",
     "text": [
      "100%|██████████| 238/238 [00:01<00:00, 131.87it/s]\n",
      "100%|██████████| 85/85 [00:00<00:00, 543.07it/s]\n",
      "100%|██████████| 17/17 [00:00<00:00, 536.49it/s]\n"
     ]
    },
    {
     "name": "stdout",
     "output_type": "stream",
     "text": [
      "Epoch:217/1000.. Train Loss: 0.060.. Val Loss: 0.056.. Test Loss: 0.050.. Time: 0.03m\n"
     ]
    },
    {
     "name": "stderr",
     "output_type": "stream",
     "text": [
      "100%|██████████| 238/238 [00:01<00:00, 139.98it/s]\n",
      "100%|██████████| 85/85 [00:00<00:00, 537.62it/s]\n",
      "100%|██████████| 17/17 [00:00<00:00, 488.91it/s]\n"
     ]
    },
    {
     "name": "stdout",
     "output_type": "stream",
     "text": [
      "Epoch:218/1000.. Train Loss: 0.059.. Val Loss: 0.056.. Test Loss: 0.051.. Time: 0.03m\n"
     ]
    },
    {
     "name": "stderr",
     "output_type": "stream",
     "text": [
      "100%|██████████| 238/238 [00:01<00:00, 132.93it/s]\n",
      "100%|██████████| 85/85 [00:00<00:00, 517.35it/s]\n",
      "100%|██████████| 17/17 [00:00<00:00, 498.32it/s]\n"
     ]
    },
    {
     "name": "stdout",
     "output_type": "stream",
     "text": [
      "Epoch:219/1000.. Train Loss: 0.059.. Val Loss: 0.056.. Test Loss: 0.049.. Time: 0.03m\n"
     ]
    },
    {
     "name": "stderr",
     "output_type": "stream",
     "text": [
      "100%|██████████| 238/238 [00:01<00:00, 133.09it/s]\n",
      "100%|██████████| 85/85 [00:00<00:00, 536.04it/s]\n",
      "100%|██████████| 17/17 [00:00<00:00, 493.43it/s]\n"
     ]
    },
    {
     "name": "stdout",
     "output_type": "stream",
     "text": [
      "Loss Decreasing.. 0.056 >> 0.056 \n",
      "saving model...\n",
      "Epoch:220/1000.. Train Loss: 0.059.. Val Loss: 0.056.. Test Loss: 0.050.. Time: 0.03m\n"
     ]
    },
    {
     "name": "stderr",
     "output_type": "stream",
     "text": [
      "100%|██████████| 238/238 [00:01<00:00, 135.55it/s]\n",
      "100%|██████████| 85/85 [00:00<00:00, 509.01it/s]\n",
      "100%|██████████| 17/17 [00:00<00:00, 483.46it/s]\n"
     ]
    },
    {
     "name": "stdout",
     "output_type": "stream",
     "text": [
      "Epoch:221/1000.. Train Loss: 0.059.. Val Loss: 0.056.. Test Loss: 0.050.. Time: 0.03m\n"
     ]
    },
    {
     "name": "stderr",
     "output_type": "stream",
     "text": [
      "100%|██████████| 238/238 [00:01<00:00, 135.31it/s]\n",
      "100%|██████████| 85/85 [00:00<00:00, 529.07it/s]\n",
      "100%|██████████| 17/17 [00:00<00:00, 498.35it/s]\n"
     ]
    },
    {
     "name": "stdout",
     "output_type": "stream",
     "text": [
      "Epoch:222/1000.. Train Loss: 0.059.. Val Loss: 0.056.. Test Loss: 0.048.. Time: 0.03m\n"
     ]
    },
    {
     "name": "stderr",
     "output_type": "stream",
     "text": [
      "100%|██████████| 238/238 [00:01<00:00, 140.07it/s]\n",
      "100%|██████████| 85/85 [00:00<00:00, 533.98it/s]\n",
      "100%|██████████| 17/17 [00:00<00:00, 484.52it/s]\n"
     ]
    },
    {
     "name": "stdout",
     "output_type": "stream",
     "text": [
      "Epoch:223/1000.. Train Loss: 0.059.. Val Loss: 0.056.. Test Loss: 0.050.. Time: 0.03m\n"
     ]
    },
    {
     "name": "stderr",
     "output_type": "stream",
     "text": [
      "100%|██████████| 238/238 [00:01<00:00, 132.81it/s]\n",
      "100%|██████████| 85/85 [00:00<00:00, 537.79it/s]\n",
      "100%|██████████| 17/17 [00:00<00:00, 423.30it/s]\n"
     ]
    },
    {
     "name": "stdout",
     "output_type": "stream",
     "text": [
      "Epoch:224/1000.. Train Loss: 0.058.. Val Loss: 0.056.. Test Loss: 0.050.. Time: 0.03m\n"
     ]
    },
    {
     "name": "stderr",
     "output_type": "stream",
     "text": [
      "100%|██████████| 238/238 [00:01<00:00, 134.39it/s]\n",
      "100%|██████████| 85/85 [00:00<00:00, 545.14it/s]\n",
      "100%|██████████| 17/17 [00:00<00:00, 506.35it/s]\n"
     ]
    },
    {
     "name": "stdout",
     "output_type": "stream",
     "text": [
      "Epoch:225/1000.. Train Loss: 0.059.. Val Loss: 0.056.. Test Loss: 0.050.. Time: 0.03m\n"
     ]
    },
    {
     "name": "stderr",
     "output_type": "stream",
     "text": [
      "100%|██████████| 238/238 [00:01<00:00, 134.63it/s]\n",
      "100%|██████████| 85/85 [00:00<00:00, 536.90it/s]\n",
      "100%|██████████| 17/17 [00:00<00:00, 465.06it/s]\n"
     ]
    },
    {
     "name": "stdout",
     "output_type": "stream",
     "text": [
      "Epoch:226/1000.. Train Loss: 0.059.. Val Loss: 0.056.. Test Loss: 0.050.. Time: 0.03m\n"
     ]
    },
    {
     "name": "stderr",
     "output_type": "stream",
     "text": [
      "100%|██████████| 238/238 [00:01<00:00, 132.23it/s]\n",
      "100%|██████████| 85/85 [00:00<00:00, 515.92it/s]\n",
      "100%|██████████| 17/17 [00:00<00:00, 466.52it/s]\n"
     ]
    },
    {
     "name": "stdout",
     "output_type": "stream",
     "text": [
      "Loss Decreasing.. 0.056 >> 0.056 \n",
      "saving model...\n",
      "Epoch:227/1000.. Train Loss: 0.059.. Val Loss: 0.056.. Test Loss: 0.049.. Time: 0.03m\n"
     ]
    },
    {
     "name": "stderr",
     "output_type": "stream",
     "text": [
      "100%|██████████| 238/238 [00:01<00:00, 134.49it/s]\n",
      "100%|██████████| 85/85 [00:00<00:00, 539.14it/s]\n",
      "100%|██████████| 17/17 [00:00<00:00, 495.57it/s]\n"
     ]
    },
    {
     "name": "stdout",
     "output_type": "stream",
     "text": [
      "Epoch:228/1000.. Train Loss: 0.059.. Val Loss: 0.056.. Test Loss: 0.051.. Time: 0.03m\n"
     ]
    },
    {
     "name": "stderr",
     "output_type": "stream",
     "text": [
      "100%|██████████| 238/238 [00:01<00:00, 135.00it/s]\n",
      "100%|██████████| 85/85 [00:00<00:00, 530.51it/s]\n",
      "100%|██████████| 17/17 [00:00<00:00, 498.69it/s]\n"
     ]
    },
    {
     "name": "stdout",
     "output_type": "stream",
     "text": [
      "Epoch:229/1000.. Train Loss: 0.058.. Val Loss: 0.056.. Test Loss: 0.048.. Time: 0.03m\n"
     ]
    },
    {
     "name": "stderr",
     "output_type": "stream",
     "text": [
      "100%|██████████| 238/238 [00:01<00:00, 133.22it/s]\n",
      "100%|██████████| 85/85 [00:00<00:00, 534.63it/s]\n",
      "100%|██████████| 17/17 [00:00<00:00, 489.68it/s]\n"
     ]
    },
    {
     "name": "stdout",
     "output_type": "stream",
     "text": [
      "Loss Decreasing.. 0.056 >> 0.055 \n",
      "saving model...\n",
      "Epoch:230/1000.. Train Loss: 0.059.. Val Loss: 0.055.. Test Loss: 0.050.. Time: 0.03m\n"
     ]
    },
    {
     "name": "stderr",
     "output_type": "stream",
     "text": [
      "100%|██████████| 238/238 [00:01<00:00, 134.51it/s]\n",
      "100%|██████████| 85/85 [00:00<00:00, 534.17it/s]\n",
      "100%|██████████| 17/17 [00:00<00:00, 494.41it/s]\n"
     ]
    },
    {
     "name": "stdout",
     "output_type": "stream",
     "text": [
      "Epoch:231/1000.. Train Loss: 0.058.. Val Loss: 0.056.. Test Loss: 0.048.. Time: 0.03m\n"
     ]
    },
    {
     "name": "stderr",
     "output_type": "stream",
     "text": [
      "100%|██████████| 238/238 [00:01<00:00, 134.00it/s]\n",
      "100%|██████████| 85/85 [00:00<00:00, 510.15it/s]\n",
      "100%|██████████| 17/17 [00:00<00:00, 499.24it/s]\n"
     ]
    },
    {
     "name": "stdout",
     "output_type": "stream",
     "text": [
      "Epoch:232/1000.. Train Loss: 0.059.. Val Loss: 0.056.. Test Loss: 0.049.. Time: 0.03m\n"
     ]
    },
    {
     "name": "stderr",
     "output_type": "stream",
     "text": [
      "100%|██████████| 238/238 [00:01<00:00, 132.88it/s]\n",
      "100%|██████████| 85/85 [00:00<00:00, 535.31it/s]\n",
      "100%|██████████| 17/17 [00:00<00:00, 501.31it/s]\n"
     ]
    },
    {
     "name": "stdout",
     "output_type": "stream",
     "text": [
      "Epoch:233/1000.. Train Loss: 0.058.. Val Loss: 0.056.. Test Loss: 0.051.. Time: 0.03m\n"
     ]
    },
    {
     "name": "stderr",
     "output_type": "stream",
     "text": [
      "100%|██████████| 238/238 [00:01<00:00, 134.31it/s]\n",
      "100%|██████████| 85/85 [00:00<00:00, 526.73it/s]\n",
      "100%|██████████| 17/17 [00:00<00:00, 491.04it/s]\n"
     ]
    },
    {
     "name": "stdout",
     "output_type": "stream",
     "text": [
      "Epoch:234/1000.. Train Loss: 0.059.. Val Loss: 0.056.. Test Loss: 0.051.. Time: 0.03m\n"
     ]
    },
    {
     "name": "stderr",
     "output_type": "stream",
     "text": [
      "100%|██████████| 238/238 [00:01<00:00, 135.29it/s]\n",
      "100%|██████████| 85/85 [00:00<00:00, 540.88it/s]\n",
      "100%|██████████| 17/17 [00:00<00:00, 492.53it/s]\n"
     ]
    },
    {
     "name": "stdout",
     "output_type": "stream",
     "text": [
      "Epoch:235/1000.. Train Loss: 0.058.. Val Loss: 0.055.. Test Loss: 0.050.. Time: 0.03m\n"
     ]
    },
    {
     "name": "stderr",
     "output_type": "stream",
     "text": [
      "100%|██████████| 238/238 [00:01<00:00, 133.99it/s]\n",
      "100%|██████████| 85/85 [00:00<00:00, 542.31it/s]\n",
      "100%|██████████| 17/17 [00:00<00:00, 496.22it/s]\n"
     ]
    },
    {
     "name": "stdout",
     "output_type": "stream",
     "text": [
      "Epoch:236/1000.. Train Loss: 0.059.. Val Loss: 0.056.. Test Loss: 0.050.. Time: 0.03m\n"
     ]
    },
    {
     "name": "stderr",
     "output_type": "stream",
     "text": [
      "100%|██████████| 238/238 [00:01<00:00, 134.65it/s]\n",
      "100%|██████████| 85/85 [00:00<00:00, 531.00it/s]\n",
      "100%|██████████| 17/17 [00:00<00:00, 498.56it/s]\n"
     ]
    },
    {
     "name": "stdout",
     "output_type": "stream",
     "text": [
      "Epoch:237/1000.. Train Loss: 0.058.. Val Loss: 0.056.. Test Loss: 0.050.. Time: 0.03m\n"
     ]
    },
    {
     "name": "stderr",
     "output_type": "stream",
     "text": [
      "100%|██████████| 238/238 [00:01<00:00, 131.76it/s]\n",
      "100%|██████████| 85/85 [00:00<00:00, 534.70it/s]\n",
      "100%|██████████| 17/17 [00:00<00:00, 499.58it/s]\n"
     ]
    },
    {
     "name": "stdout",
     "output_type": "stream",
     "text": [
      "Epoch:238/1000.. Train Loss: 0.058.. Val Loss: 0.055.. Test Loss: 0.050.. Time: 0.03m\n"
     ]
    },
    {
     "name": "stderr",
     "output_type": "stream",
     "text": [
      "100%|██████████| 238/238 [00:01<00:00, 134.71it/s]\n",
      "100%|██████████| 85/85 [00:00<00:00, 546.22it/s]\n",
      "100%|██████████| 17/17 [00:00<00:00, 496.10it/s]\n"
     ]
    },
    {
     "name": "stdout",
     "output_type": "stream",
     "text": [
      "Epoch:239/1000.. Train Loss: 0.058.. Val Loss: 0.055.. Test Loss: 0.050.. Time: 0.03m\n"
     ]
    },
    {
     "name": "stderr",
     "output_type": "stream",
     "text": [
      "100%|██████████| 238/238 [00:01<00:00, 138.62it/s]\n",
      "100%|██████████| 85/85 [00:00<00:00, 536.60it/s]\n",
      "100%|██████████| 17/17 [00:00<00:00, 495.07it/s]\n"
     ]
    },
    {
     "name": "stdout",
     "output_type": "stream",
     "text": [
      "Epoch:240/1000.. Train Loss: 0.058.. Val Loss: 0.055.. Test Loss: 0.052.. Time: 0.03m\n"
     ]
    },
    {
     "name": "stderr",
     "output_type": "stream",
     "text": [
      "100%|██████████| 238/238 [00:01<00:00, 135.36it/s]\n",
      "100%|██████████| 85/85 [00:00<00:00, 534.76it/s]\n",
      "100%|██████████| 17/17 [00:00<00:00, 493.99it/s]\n"
     ]
    },
    {
     "name": "stdout",
     "output_type": "stream",
     "text": [
      "Epoch:241/1000.. Train Loss: 0.058.. Val Loss: 0.056.. Test Loss: 0.050.. Time: 0.03m\n"
     ]
    },
    {
     "name": "stderr",
     "output_type": "stream",
     "text": [
      "100%|██████████| 238/238 [00:01<00:00, 136.80it/s]\n",
      "100%|██████████| 85/85 [00:00<00:00, 534.55it/s]\n",
      "100%|██████████| 17/17 [00:00<00:00, 502.97it/s]\n"
     ]
    },
    {
     "name": "stdout",
     "output_type": "stream",
     "text": [
      "Epoch:242/1000.. Train Loss: 0.058.. Val Loss: 0.055.. Test Loss: 0.051.. Time: 0.03m\n"
     ]
    },
    {
     "name": "stderr",
     "output_type": "stream",
     "text": [
      "100%|██████████| 238/238 [00:01<00:00, 134.39it/s]\n",
      "100%|██████████| 85/85 [00:00<00:00, 527.40it/s]\n",
      "100%|██████████| 17/17 [00:00<00:00, 501.23it/s]\n"
     ]
    },
    {
     "name": "stdout",
     "output_type": "stream",
     "text": [
      "Loss Decreasing.. 0.055 >> 0.055 \n",
      "saving model...\n",
      "Epoch:243/1000.. Train Loss: 0.058.. Val Loss: 0.055.. Test Loss: 0.049.. Time: 0.03m\n"
     ]
    },
    {
     "name": "stderr",
     "output_type": "stream",
     "text": [
      "100%|██████████| 238/238 [00:01<00:00, 133.26it/s]\n",
      "100%|██████████| 85/85 [00:00<00:00, 523.97it/s]\n",
      "100%|██████████| 17/17 [00:00<00:00, 487.58it/s]\n"
     ]
    },
    {
     "name": "stdout",
     "output_type": "stream",
     "text": [
      "Epoch:244/1000.. Train Loss: 0.058.. Val Loss: 0.055.. Test Loss: 0.050.. Time: 0.03m\n"
     ]
    },
    {
     "name": "stderr",
     "output_type": "stream",
     "text": [
      "100%|██████████| 238/238 [00:01<00:00, 134.65it/s]\n",
      "100%|██████████| 85/85 [00:00<00:00, 542.44it/s]\n",
      "100%|██████████| 17/17 [00:00<00:00, 502.03it/s]\n"
     ]
    },
    {
     "name": "stdout",
     "output_type": "stream",
     "text": [
      "Epoch:245/1000.. Train Loss: 0.058.. Val Loss: 0.055.. Test Loss: 0.049.. Time: 0.03m\n"
     ]
    },
    {
     "name": "stderr",
     "output_type": "stream",
     "text": [
      "100%|██████████| 238/238 [00:01<00:00, 140.29it/s]\n",
      "100%|██████████| 85/85 [00:00<00:00, 532.37it/s]\n",
      "100%|██████████| 17/17 [00:00<00:00, 504.19it/s]\n"
     ]
    },
    {
     "name": "stdout",
     "output_type": "stream",
     "text": [
      "Epoch:246/1000.. Train Loss: 0.058.. Val Loss: 0.055.. Test Loss: 0.048.. Time: 0.03m\n"
     ]
    },
    {
     "name": "stderr",
     "output_type": "stream",
     "text": [
      "100%|██████████| 238/238 [00:01<00:00, 133.29it/s]\n",
      "100%|██████████| 85/85 [00:00<00:00, 517.00it/s]\n",
      "100%|██████████| 17/17 [00:00<00:00, 499.62it/s]\n"
     ]
    },
    {
     "name": "stdout",
     "output_type": "stream",
     "text": [
      "Epoch:247/1000.. Train Loss: 0.058.. Val Loss: 0.055.. Test Loss: 0.050.. Time: 0.03m\n"
     ]
    },
    {
     "name": "stderr",
     "output_type": "stream",
     "text": [
      "100%|██████████| 238/238 [00:01<00:00, 135.63it/s]\n",
      "100%|██████████| 85/85 [00:00<00:00, 542.71it/s]\n",
      "100%|██████████| 17/17 [00:00<00:00, 486.06it/s]\n"
     ]
    },
    {
     "name": "stdout",
     "output_type": "stream",
     "text": [
      "Epoch:248/1000.. Train Loss: 0.058.. Val Loss: 0.055.. Test Loss: 0.051.. Time: 0.03m\n"
     ]
    },
    {
     "name": "stderr",
     "output_type": "stream",
     "text": [
      "100%|██████████| 238/238 [00:01<00:00, 135.07it/s]\n",
      "100%|██████████| 85/85 [00:00<00:00, 500.97it/s]\n",
      "100%|██████████| 17/17 [00:00<00:00, 488.65it/s]\n"
     ]
    },
    {
     "name": "stdout",
     "output_type": "stream",
     "text": [
      "Epoch:249/1000.. Train Loss: 0.058.. Val Loss: 0.055.. Test Loss: 0.051.. Time: 0.03m\n"
     ]
    },
    {
     "name": "stderr",
     "output_type": "stream",
     "text": [
      "100%|██████████| 238/238 [00:01<00:00, 132.96it/s]\n",
      "100%|██████████| 85/85 [00:00<00:00, 539.06it/s]\n",
      "100%|██████████| 17/17 [00:00<00:00, 493.72it/s]\n"
     ]
    },
    {
     "name": "stdout",
     "output_type": "stream",
     "text": [
      "Epoch:250/1000.. Train Loss: 0.058.. Val Loss: 0.055.. Test Loss: 0.050.. Time: 0.03m\n"
     ]
    },
    {
     "name": "stderr",
     "output_type": "stream",
     "text": [
      "100%|██████████| 238/238 [00:01<00:00, 134.40it/s]\n",
      "100%|██████████| 85/85 [00:00<00:00, 542.67it/s]\n",
      "100%|██████████| 17/17 [00:00<00:00, 488.25it/s]\n"
     ]
    },
    {
     "name": "stdout",
     "output_type": "stream",
     "text": [
      "Epoch:251/1000.. Train Loss: 0.058.. Val Loss: 0.055.. Test Loss: 0.049.. Time: 0.03m\n"
     ]
    },
    {
     "name": "stderr",
     "output_type": "stream",
     "text": [
      "100%|██████████| 238/238 [00:01<00:00, 135.59it/s]\n",
      "100%|██████████| 85/85 [00:00<00:00, 535.54it/s]\n",
      "100%|██████████| 17/17 [00:00<00:00, 508.66it/s]\n"
     ]
    },
    {
     "name": "stdout",
     "output_type": "stream",
     "text": [
      "Epoch:252/1000.. Train Loss: 0.058.. Val Loss: 0.055.. Test Loss: 0.050.. Time: 0.03m\n"
     ]
    },
    {
     "name": "stderr",
     "output_type": "stream",
     "text": [
      "100%|██████████| 238/238 [00:01<00:00, 134.25it/s]\n",
      "100%|██████████| 85/85 [00:00<00:00, 527.06it/s]\n",
      "100%|██████████| 17/17 [00:00<00:00, 472.23it/s]\n"
     ]
    },
    {
     "name": "stdout",
     "output_type": "stream",
     "text": [
      "Epoch:253/1000.. Train Loss: 0.058.. Val Loss: 0.055.. Test Loss: 0.052.. Time: 0.03m\n"
     ]
    },
    {
     "name": "stderr",
     "output_type": "stream",
     "text": [
      "100%|██████████| 238/238 [00:01<00:00, 134.52it/s]\n",
      "100%|██████████| 85/85 [00:00<00:00, 530.58it/s]\n",
      "100%|██████████| 17/17 [00:00<00:00, 496.64it/s]\n"
     ]
    },
    {
     "name": "stdout",
     "output_type": "stream",
     "text": [
      "Loss Decreasing.. 0.055 >> 0.055 \n",
      "saving model...\n",
      "Epoch:254/1000.. Train Loss: 0.058.. Val Loss: 0.055.. Test Loss: 0.050.. Time: 0.03m\n"
     ]
    },
    {
     "name": "stderr",
     "output_type": "stream",
     "text": [
      "100%|██████████| 238/238 [00:01<00:00, 134.05it/s]\n",
      "100%|██████████| 85/85 [00:00<00:00, 533.54it/s]\n",
      "100%|██████████| 17/17 [00:00<00:00, 499.16it/s]\n"
     ]
    },
    {
     "name": "stdout",
     "output_type": "stream",
     "text": [
      "Loss Decreasing.. 0.055 >> 0.055 \n",
      "saving model...\n",
      "Epoch:255/1000.. Train Loss: 0.058.. Val Loss: 0.055.. Test Loss: 0.049.. Time: 0.03m\n"
     ]
    },
    {
     "name": "stderr",
     "output_type": "stream",
     "text": [
      "100%|██████████| 238/238 [00:01<00:00, 135.23it/s]\n",
      "100%|██████████| 85/85 [00:00<00:00, 541.07it/s]\n",
      "100%|██████████| 17/17 [00:00<00:00, 491.35it/s]\n"
     ]
    },
    {
     "name": "stdout",
     "output_type": "stream",
     "text": [
      "Epoch:256/1000.. Train Loss: 0.058.. Val Loss: 0.055.. Test Loss: 0.051.. Time: 0.03m\n"
     ]
    },
    {
     "name": "stderr",
     "output_type": "stream",
     "text": [
      "100%|██████████| 238/238 [00:01<00:00, 133.24it/s]\n",
      "100%|██████████| 85/85 [00:00<00:00, 531.64it/s]\n",
      "100%|██████████| 17/17 [00:00<00:00, 488.35it/s]\n"
     ]
    },
    {
     "name": "stdout",
     "output_type": "stream",
     "text": [
      "Epoch:257/1000.. Train Loss: 0.058.. Val Loss: 0.055.. Test Loss: 0.050.. Time: 0.03m\n"
     ]
    },
    {
     "name": "stderr",
     "output_type": "stream",
     "text": [
      "100%|██████████| 238/238 [00:01<00:00, 135.05it/s]\n",
      "100%|██████████| 85/85 [00:00<00:00, 532.94it/s]\n",
      "100%|██████████| 17/17 [00:00<00:00, 481.79it/s]\n"
     ]
    },
    {
     "name": "stdout",
     "output_type": "stream",
     "text": [
      "Loss Decreasing.. 0.055 >> 0.055 \n",
      "saving model...\n",
      "Epoch:258/1000.. Train Loss: 0.058.. Val Loss: 0.055.. Test Loss: 0.050.. Time: 0.03m\n"
     ]
    },
    {
     "name": "stderr",
     "output_type": "stream",
     "text": [
      "100%|██████████| 238/238 [00:01<00:00, 134.61it/s]\n",
      "100%|██████████| 85/85 [00:00<00:00, 528.08it/s]\n",
      "100%|██████████| 17/17 [00:00<00:00, 496.25it/s]\n"
     ]
    },
    {
     "name": "stdout",
     "output_type": "stream",
     "text": [
      "Loss Decreasing.. 0.055 >> 0.054 \n",
      "saving model...\n",
      "Epoch:259/1000.. Train Loss: 0.058.. Val Loss: 0.054.. Test Loss: 0.050.. Time: 0.03m\n"
     ]
    },
    {
     "name": "stderr",
     "output_type": "stream",
     "text": [
      "100%|██████████| 238/238 [00:01<00:00, 133.26it/s]\n",
      "100%|██████████| 85/85 [00:00<00:00, 517.40it/s]\n",
      "100%|██████████| 17/17 [00:00<00:00, 424.35it/s]\n"
     ]
    },
    {
     "name": "stdout",
     "output_type": "stream",
     "text": [
      "Epoch:260/1000.. Train Loss: 0.058.. Val Loss: 0.055.. Test Loss: 0.050.. Time: 0.03m\n"
     ]
    },
    {
     "name": "stderr",
     "output_type": "stream",
     "text": [
      "100%|██████████| 238/238 [00:01<00:00, 132.61it/s]\n",
      "100%|██████████| 85/85 [00:00<00:00, 533.37it/s]\n",
      "100%|██████████| 17/17 [00:00<00:00, 514.45it/s]\n"
     ]
    },
    {
     "name": "stdout",
     "output_type": "stream",
     "text": [
      "Epoch:261/1000.. Train Loss: 0.058.. Val Loss: 0.055.. Test Loss: 0.050.. Time: 0.03m\n"
     ]
    },
    {
     "name": "stderr",
     "output_type": "stream",
     "text": [
      "100%|██████████| 238/238 [00:01<00:00, 133.27it/s]\n",
      "100%|██████████| 85/85 [00:00<00:00, 538.55it/s]\n",
      "100%|██████████| 17/17 [00:00<00:00, 482.33it/s]\n"
     ]
    },
    {
     "name": "stdout",
     "output_type": "stream",
     "text": [
      "Epoch:262/1000.. Train Loss: 0.057.. Val Loss: 0.055.. Test Loss: 0.050.. Time: 0.03m\n"
     ]
    },
    {
     "name": "stderr",
     "output_type": "stream",
     "text": [
      "100%|██████████| 238/238 [00:01<00:00, 132.87it/s]\n",
      "100%|██████████| 85/85 [00:00<00:00, 529.75it/s]\n",
      "100%|██████████| 17/17 [00:00<00:00, 493.87it/s]\n"
     ]
    },
    {
     "name": "stdout",
     "output_type": "stream",
     "text": [
      "Loss Decreasing.. 0.054 >> 0.054 \n",
      "saving model...\n",
      "Epoch:263/1000.. Train Loss: 0.058.. Val Loss: 0.054.. Test Loss: 0.050.. Time: 0.03m\n"
     ]
    },
    {
     "name": "stderr",
     "output_type": "stream",
     "text": [
      "100%|██████████| 238/238 [00:01<00:00, 135.47it/s]\n",
      "100%|██████████| 85/85 [00:00<00:00, 537.37it/s]\n",
      "100%|██████████| 17/17 [00:00<00:00, 495.11it/s]\n"
     ]
    },
    {
     "name": "stdout",
     "output_type": "stream",
     "text": [
      "Epoch:264/1000.. Train Loss: 0.058.. Val Loss: 0.055.. Test Loss: 0.050.. Time: 0.03m\n"
     ]
    },
    {
     "name": "stderr",
     "output_type": "stream",
     "text": [
      "100%|██████████| 238/238 [00:01<00:00, 133.97it/s]\n",
      "100%|██████████| 85/85 [00:00<00:00, 528.23it/s]\n",
      "100%|██████████| 17/17 [00:00<00:00, 497.68it/s]\n"
     ]
    },
    {
     "name": "stdout",
     "output_type": "stream",
     "text": [
      "Loss Decreasing.. 0.054 >> 0.054 \n",
      "saving model...\n",
      "Epoch:265/1000.. Train Loss: 0.057.. Val Loss: 0.054.. Test Loss: 0.048.. Time: 0.03m\n"
     ]
    },
    {
     "name": "stderr",
     "output_type": "stream",
     "text": [
      "100%|██████████| 238/238 [00:01<00:00, 132.59it/s]\n",
      "100%|██████████| 85/85 [00:00<00:00, 541.43it/s]\n",
      "100%|██████████| 17/17 [00:00<00:00, 486.36it/s]\n"
     ]
    },
    {
     "name": "stdout",
     "output_type": "stream",
     "text": [
      "Epoch:266/1000.. Train Loss: 0.058.. Val Loss: 0.055.. Test Loss: 0.049.. Time: 0.03m\n"
     ]
    },
    {
     "name": "stderr",
     "output_type": "stream",
     "text": [
      "100%|██████████| 238/238 [00:01<00:00, 135.21it/s]\n",
      "100%|██████████| 85/85 [00:00<00:00, 528.96it/s]\n",
      "100%|██████████| 17/17 [00:00<00:00, 441.97it/s]\n"
     ]
    },
    {
     "name": "stdout",
     "output_type": "stream",
     "text": [
      "Loss Decreasing.. 0.054 >> 0.054 \n",
      "saving model...\n",
      "Epoch:267/1000.. Train Loss: 0.058.. Val Loss: 0.054.. Test Loss: 0.049.. Time: 0.03m\n"
     ]
    },
    {
     "name": "stderr",
     "output_type": "stream",
     "text": [
      "100%|██████████| 238/238 [00:01<00:00, 140.52it/s]\n",
      "100%|██████████| 85/85 [00:00<00:00, 525.40it/s]\n",
      "100%|██████████| 17/17 [00:00<00:00, 481.99it/s]\n"
     ]
    },
    {
     "name": "stdout",
     "output_type": "stream",
     "text": [
      "Epoch:268/1000.. Train Loss: 0.058.. Val Loss: 0.055.. Test Loss: 0.051.. Time: 0.03m\n"
     ]
    },
    {
     "name": "stderr",
     "output_type": "stream",
     "text": [
      "100%|██████████| 238/238 [00:01<00:00, 121.33it/s]\n",
      "100%|██████████| 85/85 [00:00<00:00, 505.62it/s]\n",
      "100%|██████████| 17/17 [00:00<00:00, 475.87it/s]\n"
     ]
    },
    {
     "name": "stdout",
     "output_type": "stream",
     "text": [
      "Epoch:269/1000.. Train Loss: 0.057.. Val Loss: 0.055.. Test Loss: 0.050.. Time: 0.04m\n"
     ]
    },
    {
     "name": "stderr",
     "output_type": "stream",
     "text": [
      "100%|██████████| 238/238 [00:01<00:00, 133.78it/s]\n",
      "100%|██████████| 85/85 [00:00<00:00, 524.82it/s]\n",
      "100%|██████████| 17/17 [00:00<00:00, 496.32it/s]\n"
     ]
    },
    {
     "name": "stdout",
     "output_type": "stream",
     "text": [
      "Epoch:270/1000.. Train Loss: 0.058.. Val Loss: 0.055.. Test Loss: 0.049.. Time: 0.03m\n"
     ]
    },
    {
     "name": "stderr",
     "output_type": "stream",
     "text": [
      "100%|██████████| 238/238 [00:01<00:00, 135.63it/s]\n",
      "100%|██████████| 85/85 [00:00<00:00, 531.57it/s]\n",
      "100%|██████████| 17/17 [00:00<00:00, 499.14it/s]\n"
     ]
    },
    {
     "name": "stdout",
     "output_type": "stream",
     "text": [
      "Loss Decreasing.. 0.054 >> 0.054 \n",
      "saving model...\n",
      "Epoch:271/1000.. Train Loss: 0.057.. Val Loss: 0.054.. Test Loss: 0.048.. Time: 0.03m\n"
     ]
    },
    {
     "name": "stderr",
     "output_type": "stream",
     "text": [
      "100%|██████████| 238/238 [00:01<00:00, 134.55it/s]\n",
      "100%|██████████| 85/85 [00:00<00:00, 533.40it/s]\n",
      "100%|██████████| 17/17 [00:00<00:00, 539.58it/s]\n"
     ]
    },
    {
     "name": "stdout",
     "output_type": "stream",
     "text": [
      "Epoch:272/1000.. Train Loss: 0.057.. Val Loss: 0.056.. Test Loss: 0.051.. Time: 0.03m\n"
     ]
    },
    {
     "name": "stderr",
     "output_type": "stream",
     "text": [
      "100%|██████████| 238/238 [00:01<00:00, 136.65it/s]\n",
      "100%|██████████| 85/85 [00:00<00:00, 523.19it/s]\n",
      "100%|██████████| 17/17 [00:00<00:00, 497.65it/s]\n"
     ]
    },
    {
     "name": "stdout",
     "output_type": "stream",
     "text": [
      "Loss Decreasing.. 0.054 >> 0.054 \n",
      "saving model...\n",
      "Epoch:273/1000.. Train Loss: 0.057.. Val Loss: 0.054.. Test Loss: 0.050.. Time: 0.03m\n"
     ]
    },
    {
     "name": "stderr",
     "output_type": "stream",
     "text": [
      "100%|██████████| 238/238 [00:01<00:00, 137.47it/s]\n",
      "100%|██████████| 85/85 [00:00<00:00, 537.19it/s]\n",
      "100%|██████████| 17/17 [00:00<00:00, 492.79it/s]\n"
     ]
    },
    {
     "name": "stdout",
     "output_type": "stream",
     "text": [
      "Epoch:274/1000.. Train Loss: 0.057.. Val Loss: 0.054.. Test Loss: 0.049.. Time: 0.03m\n"
     ]
    },
    {
     "name": "stderr",
     "output_type": "stream",
     "text": [
      "100%|██████████| 238/238 [00:01<00:00, 135.66it/s]\n",
      "100%|██████████| 85/85 [00:00<00:00, 538.74it/s]\n",
      "100%|██████████| 17/17 [00:00<00:00, 492.42it/s]\n"
     ]
    },
    {
     "name": "stdout",
     "output_type": "stream",
     "text": [
      "Epoch:275/1000.. Train Loss: 0.057.. Val Loss: 0.054.. Test Loss: 0.050.. Time: 0.03m\n"
     ]
    },
    {
     "name": "stderr",
     "output_type": "stream",
     "text": [
      "100%|██████████| 238/238 [00:01<00:00, 134.47it/s]\n",
      "100%|██████████| 85/85 [00:00<00:00, 502.30it/s]\n",
      "100%|██████████| 17/17 [00:00<00:00, 495.93it/s]\n"
     ]
    },
    {
     "name": "stdout",
     "output_type": "stream",
     "text": [
      "Epoch:276/1000.. Train Loss: 0.057.. Val Loss: 0.054.. Test Loss: 0.048.. Time: 0.03m\n"
     ]
    },
    {
     "name": "stderr",
     "output_type": "stream",
     "text": [
      "100%|██████████| 238/238 [00:01<00:00, 132.00it/s]\n",
      "100%|██████████| 85/85 [00:00<00:00, 531.00it/s]\n",
      "100%|██████████| 17/17 [00:00<00:00, 494.39it/s]\n"
     ]
    },
    {
     "name": "stdout",
     "output_type": "stream",
     "text": [
      "Epoch:277/1000.. Train Loss: 0.058.. Val Loss: 0.055.. Test Loss: 0.049.. Time: 0.03m\n"
     ]
    },
    {
     "name": "stderr",
     "output_type": "stream",
     "text": [
      "100%|██████████| 238/238 [00:01<00:00, 132.28it/s]\n",
      "100%|██████████| 85/85 [00:00<00:00, 527.10it/s]\n",
      "100%|██████████| 17/17 [00:00<00:00, 535.24it/s]\n"
     ]
    },
    {
     "name": "stdout",
     "output_type": "stream",
     "text": [
      "Loss Decreasing.. 0.054 >> 0.054 \n",
      "saving model...\n",
      "Epoch:278/1000.. Train Loss: 0.057.. Val Loss: 0.054.. Test Loss: 0.049.. Time: 0.03m\n"
     ]
    },
    {
     "name": "stderr",
     "output_type": "stream",
     "text": [
      "100%|██████████| 238/238 [00:01<00:00, 134.57it/s]\n",
      "100%|██████████| 85/85 [00:00<00:00, 526.83it/s]\n",
      "100%|██████████| 17/17 [00:00<00:00, 485.47it/s]\n"
     ]
    },
    {
     "name": "stdout",
     "output_type": "stream",
     "text": [
      "Epoch:279/1000.. Train Loss: 0.057.. Val Loss: 0.054.. Test Loss: 0.050.. Time: 0.03m\n"
     ]
    },
    {
     "name": "stderr",
     "output_type": "stream",
     "text": [
      "100%|██████████| 238/238 [00:01<00:00, 134.92it/s]\n",
      "100%|██████████| 85/85 [00:00<00:00, 536.70it/s]\n",
      "100%|██████████| 17/17 [00:00<00:00, 490.40it/s]\n"
     ]
    },
    {
     "name": "stdout",
     "output_type": "stream",
     "text": [
      "Epoch:280/1000.. Train Loss: 0.057.. Val Loss: 0.054.. Test Loss: 0.050.. Time: 0.03m\n"
     ]
    },
    {
     "name": "stderr",
     "output_type": "stream",
     "text": [
      "100%|██████████| 238/238 [00:01<00:00, 133.91it/s]\n",
      "100%|██████████| 85/85 [00:00<00:00, 525.35it/s]\n",
      "100%|██████████| 17/17 [00:00<00:00, 463.94it/s]\n"
     ]
    },
    {
     "name": "stdout",
     "output_type": "stream",
     "text": [
      "Epoch:281/1000.. Train Loss: 0.058.. Val Loss: 0.054.. Test Loss: 0.049.. Time: 0.03m\n"
     ]
    },
    {
     "name": "stderr",
     "output_type": "stream",
     "text": [
      "100%|██████████| 238/238 [00:01<00:00, 135.84it/s]\n",
      "100%|██████████| 85/85 [00:00<00:00, 533.35it/s]\n",
      "100%|██████████| 17/17 [00:00<00:00, 495.84it/s]\n"
     ]
    },
    {
     "name": "stdout",
     "output_type": "stream",
     "text": [
      "Epoch:282/1000.. Train Loss: 0.057.. Val Loss: 0.054.. Test Loss: 0.052.. Time: 0.03m\n"
     ]
    },
    {
     "name": "stderr",
     "output_type": "stream",
     "text": [
      "100%|██████████| 238/238 [00:01<00:00, 139.44it/s]\n",
      "100%|██████████| 85/85 [00:00<00:00, 537.22it/s]\n",
      "100%|██████████| 17/17 [00:00<00:00, 493.70it/s]\n"
     ]
    },
    {
     "name": "stdout",
     "output_type": "stream",
     "text": [
      "Epoch:283/1000.. Train Loss: 0.057.. Val Loss: 0.054.. Test Loss: 0.049.. Time: 0.03m\n"
     ]
    },
    {
     "name": "stderr",
     "output_type": "stream",
     "text": [
      "100%|██████████| 238/238 [00:01<00:00, 137.67it/s]\n",
      "100%|██████████| 85/85 [00:00<00:00, 524.23it/s]\n",
      "100%|██████████| 17/17 [00:00<00:00, 522.99it/s]\n"
     ]
    },
    {
     "name": "stdout",
     "output_type": "stream",
     "text": [
      "Loss Decreasing.. 0.054 >> 0.054 \n",
      "saving model...\n",
      "Epoch:284/1000.. Train Loss: 0.057.. Val Loss: 0.054.. Test Loss: 0.049.. Time: 0.03m\n"
     ]
    },
    {
     "name": "stderr",
     "output_type": "stream",
     "text": [
      "100%|██████████| 238/238 [00:01<00:00, 134.64it/s]\n",
      "100%|██████████| 85/85 [00:00<00:00, 533.76it/s]\n",
      "100%|██████████| 17/17 [00:00<00:00, 524.94it/s]\n"
     ]
    },
    {
     "name": "stdout",
     "output_type": "stream",
     "text": [
      "Epoch:285/1000.. Train Loss: 0.057.. Val Loss: 0.054.. Test Loss: 0.050.. Time: 0.03m\n"
     ]
    },
    {
     "name": "stderr",
     "output_type": "stream",
     "text": [
      "100%|██████████| 238/238 [00:01<00:00, 135.70it/s]\n",
      "100%|██████████| 85/85 [00:00<00:00, 538.06it/s]\n",
      "100%|██████████| 17/17 [00:00<00:00, 487.43it/s]\n"
     ]
    },
    {
     "name": "stdout",
     "output_type": "stream",
     "text": [
      "Loss Decreasing.. 0.054 >> 0.054 \n",
      "saving model...\n",
      "Epoch:286/1000.. Train Loss: 0.057.. Val Loss: 0.054.. Test Loss: 0.049.. Time: 0.03m\n"
     ]
    },
    {
     "name": "stderr",
     "output_type": "stream",
     "text": [
      "100%|██████████| 238/238 [00:01<00:00, 134.99it/s]\n",
      "100%|██████████| 85/85 [00:00<00:00, 532.38it/s]\n",
      "100%|██████████| 17/17 [00:00<00:00, 495.79it/s]\n"
     ]
    },
    {
     "name": "stdout",
     "output_type": "stream",
     "text": [
      "Loss Decreasing.. 0.054 >> 0.053 \n",
      "saving model...\n",
      "Epoch:287/1000.. Train Loss: 0.057.. Val Loss: 0.053.. Test Loss: 0.050.. Time: 0.03m\n"
     ]
    },
    {
     "name": "stderr",
     "output_type": "stream",
     "text": [
      "100%|██████████| 238/238 [00:01<00:00, 135.87it/s]\n",
      "100%|██████████| 85/85 [00:00<00:00, 541.26it/s]\n",
      "100%|██████████| 17/17 [00:00<00:00, 493.58it/s]\n"
     ]
    },
    {
     "name": "stdout",
     "output_type": "stream",
     "text": [
      "Epoch:288/1000.. Train Loss: 0.057.. Val Loss: 0.054.. Test Loss: 0.049.. Time: 0.03m\n"
     ]
    },
    {
     "name": "stderr",
     "output_type": "stream",
     "text": [
      "100%|██████████| 238/238 [00:01<00:00, 138.94it/s]\n",
      "100%|██████████| 85/85 [00:00<00:00, 529.90it/s]\n",
      "100%|██████████| 17/17 [00:00<00:00, 491.19it/s]\n"
     ]
    },
    {
     "name": "stdout",
     "output_type": "stream",
     "text": [
      "Epoch:289/1000.. Train Loss: 0.057.. Val Loss: 0.054.. Test Loss: 0.050.. Time: 0.03m\n"
     ]
    },
    {
     "name": "stderr",
     "output_type": "stream",
     "text": [
      "100%|██████████| 238/238 [00:01<00:00, 139.53it/s]\n",
      "100%|██████████| 85/85 [00:00<00:00, 538.35it/s]\n",
      "100%|██████████| 17/17 [00:00<00:00, 489.77it/s]\n"
     ]
    },
    {
     "name": "stdout",
     "output_type": "stream",
     "text": [
      "Epoch:290/1000.. Train Loss: 0.057.. Val Loss: 0.054.. Test Loss: 0.051.. Time: 0.03m\n"
     ]
    },
    {
     "name": "stderr",
     "output_type": "stream",
     "text": [
      "100%|██████████| 238/238 [00:01<00:00, 134.95it/s]\n",
      "100%|██████████| 85/85 [00:00<00:00, 537.33it/s]\n",
      "100%|██████████| 17/17 [00:00<00:00, 491.18it/s]\n"
     ]
    },
    {
     "name": "stdout",
     "output_type": "stream",
     "text": [
      "Epoch:291/1000.. Train Loss: 0.057.. Val Loss: 0.054.. Test Loss: 0.050.. Time: 0.03m\n"
     ]
    },
    {
     "name": "stderr",
     "output_type": "stream",
     "text": [
      "100%|██████████| 238/238 [00:01<00:00, 133.67it/s]\n",
      "100%|██████████| 85/85 [00:00<00:00, 518.57it/s]\n",
      "100%|██████████| 17/17 [00:00<00:00, 488.92it/s]\n"
     ]
    },
    {
     "name": "stdout",
     "output_type": "stream",
     "text": [
      "Epoch:292/1000.. Train Loss: 0.057.. Val Loss: 0.054.. Test Loss: 0.049.. Time: 0.03m\n"
     ]
    },
    {
     "name": "stderr",
     "output_type": "stream",
     "text": [
      "100%|██████████| 238/238 [00:01<00:00, 133.87it/s]\n",
      "100%|██████████| 85/85 [00:00<00:00, 531.18it/s]\n",
      "100%|██████████| 17/17 [00:00<00:00, 492.25it/s]\n"
     ]
    },
    {
     "name": "stdout",
     "output_type": "stream",
     "text": [
      "Loss Decreasing.. 0.053 >> 0.053 \n",
      "saving model...\n",
      "Epoch:293/1000.. Train Loss: 0.057.. Val Loss: 0.053.. Test Loss: 0.052.. Time: 0.03m\n"
     ]
    },
    {
     "name": "stderr",
     "output_type": "stream",
     "text": [
      "100%|██████████| 238/238 [00:01<00:00, 135.12it/s]\n",
      "100%|██████████| 85/85 [00:00<00:00, 541.69it/s]\n",
      "100%|██████████| 17/17 [00:00<00:00, 490.25it/s]\n"
     ]
    },
    {
     "name": "stdout",
     "output_type": "stream",
     "text": [
      "Loss Decreasing.. 0.053 >> 0.053 \n",
      "saving model...\n",
      "Epoch:294/1000.. Train Loss: 0.057.. Val Loss: 0.053.. Test Loss: 0.049.. Time: 0.03m\n"
     ]
    },
    {
     "name": "stderr",
     "output_type": "stream",
     "text": [
      "100%|██████████| 238/238 [00:01<00:00, 134.88it/s]\n",
      "100%|██████████| 85/85 [00:00<00:00, 509.81it/s]\n",
      "100%|██████████| 17/17 [00:00<00:00, 486.57it/s]\n"
     ]
    },
    {
     "name": "stdout",
     "output_type": "stream",
     "text": [
      "Loss Decreasing.. 0.053 >> 0.053 \n",
      "saving model...\n",
      "Epoch:295/1000.. Train Loss: 0.056.. Val Loss: 0.053.. Test Loss: 0.050.. Time: 0.03m\n"
     ]
    },
    {
     "name": "stderr",
     "output_type": "stream",
     "text": [
      "100%|██████████| 238/238 [00:01<00:00, 132.14it/s]\n",
      "100%|██████████| 85/85 [00:00<00:00, 531.48it/s]\n",
      "100%|██████████| 17/17 [00:00<00:00, 497.51it/s]\n"
     ]
    },
    {
     "name": "stdout",
     "output_type": "stream",
     "text": [
      "Epoch:296/1000.. Train Loss: 0.057.. Val Loss: 0.053.. Test Loss: 0.049.. Time: 0.03m\n"
     ]
    },
    {
     "name": "stderr",
     "output_type": "stream",
     "text": [
      "100%|██████████| 238/238 [00:01<00:00, 134.47it/s]\n",
      "100%|██████████| 85/85 [00:00<00:00, 522.19it/s]\n",
      "100%|██████████| 17/17 [00:00<00:00, 532.59it/s]\n"
     ]
    },
    {
     "name": "stdout",
     "output_type": "stream",
     "text": [
      "Epoch:297/1000.. Train Loss: 0.057.. Val Loss: 0.054.. Test Loss: 0.049.. Time: 0.03m\n"
     ]
    },
    {
     "name": "stderr",
     "output_type": "stream",
     "text": [
      "100%|██████████| 238/238 [00:01<00:00, 133.86it/s]\n",
      "100%|██████████| 85/85 [00:00<00:00, 523.62it/s]\n",
      "100%|██████████| 17/17 [00:00<00:00, 509.28it/s]\n"
     ]
    },
    {
     "name": "stdout",
     "output_type": "stream",
     "text": [
      "Loss Decreasing.. 0.053 >> 0.053 \n",
      "saving model...\n",
      "Epoch:298/1000.. Train Loss: 0.056.. Val Loss: 0.053.. Test Loss: 0.050.. Time: 0.03m\n"
     ]
    },
    {
     "name": "stderr",
     "output_type": "stream",
     "text": [
      "100%|██████████| 238/238 [00:01<00:00, 132.45it/s]\n",
      "100%|██████████| 85/85 [00:00<00:00, 524.64it/s]\n",
      "100%|██████████| 17/17 [00:00<00:00, 485.92it/s]\n"
     ]
    },
    {
     "name": "stdout",
     "output_type": "stream",
     "text": [
      "Epoch:299/1000.. Train Loss: 0.056.. Val Loss: 0.054.. Test Loss: 0.051.. Time: 0.03m\n"
     ]
    },
    {
     "name": "stderr",
     "output_type": "stream",
     "text": [
      "100%|██████████| 238/238 [00:01<00:00, 134.92it/s]\n",
      "100%|██████████| 85/85 [00:00<00:00, 530.96it/s]\n",
      "100%|██████████| 17/17 [00:00<00:00, 485.43it/s]\n"
     ]
    },
    {
     "name": "stdout",
     "output_type": "stream",
     "text": [
      "Epoch:300/1000.. Train Loss: 0.057.. Val Loss: 0.053.. Test Loss: 0.050.. Time: 0.03m\n"
     ]
    },
    {
     "name": "stderr",
     "output_type": "stream",
     "text": [
      "100%|██████████| 238/238 [00:01<00:00, 136.36it/s]\n",
      "100%|██████████| 85/85 [00:00<00:00, 539.24it/s]\n",
      "100%|██████████| 17/17 [00:00<00:00, 498.06it/s]\n"
     ]
    },
    {
     "name": "stdout",
     "output_type": "stream",
     "text": [
      "Epoch:301/1000.. Train Loss: 0.057.. Val Loss: 0.053.. Test Loss: 0.050.. Time: 0.03m\n"
     ]
    },
    {
     "name": "stderr",
     "output_type": "stream",
     "text": [
      "100%|██████████| 238/238 [00:01<00:00, 135.02it/s]\n",
      "100%|██████████| 85/85 [00:00<00:00, 528.33it/s]\n",
      "100%|██████████| 17/17 [00:00<00:00, 509.46it/s]\n"
     ]
    },
    {
     "name": "stdout",
     "output_type": "stream",
     "text": [
      "Epoch:302/1000.. Train Loss: 0.056.. Val Loss: 0.053.. Test Loss: 0.050.. Time: 0.03m\n"
     ]
    },
    {
     "name": "stderr",
     "output_type": "stream",
     "text": [
      "100%|██████████| 238/238 [00:01<00:00, 136.05it/s]\n",
      "100%|██████████| 85/85 [00:00<00:00, 531.69it/s]\n",
      "100%|██████████| 17/17 [00:00<00:00, 501.08it/s]\n"
     ]
    },
    {
     "name": "stdout",
     "output_type": "stream",
     "text": [
      "Epoch:303/1000.. Train Loss: 0.057.. Val Loss: 0.053.. Test Loss: 0.050.. Time: 0.03m\n"
     ]
    },
    {
     "name": "stderr",
     "output_type": "stream",
     "text": [
      "100%|██████████| 238/238 [00:01<00:00, 135.12it/s]\n",
      "100%|██████████| 85/85 [00:00<00:00, 522.96it/s]\n",
      "100%|██████████| 17/17 [00:00<00:00, 495.66it/s]\n"
     ]
    },
    {
     "name": "stdout",
     "output_type": "stream",
     "text": [
      "Epoch:304/1000.. Train Loss: 0.056.. Val Loss: 0.053.. Test Loss: 0.050.. Time: 0.03m\n"
     ]
    },
    {
     "name": "stderr",
     "output_type": "stream",
     "text": [
      "100%|██████████| 238/238 [00:01<00:00, 133.81it/s]\n",
      "100%|██████████| 85/85 [00:00<00:00, 538.35it/s]\n",
      "100%|██████████| 17/17 [00:00<00:00, 496.90it/s]\n"
     ]
    },
    {
     "name": "stdout",
     "output_type": "stream",
     "text": [
      "Loss Decreasing.. 0.053 >> 0.053 \n",
      "saving model...\n",
      "Epoch:305/1000.. Train Loss: 0.056.. Val Loss: 0.053.. Test Loss: 0.052.. Time: 0.03m\n"
     ]
    },
    {
     "name": "stderr",
     "output_type": "stream",
     "text": [
      "100%|██████████| 238/238 [00:01<00:00, 135.37it/s]\n",
      "100%|██████████| 85/85 [00:00<00:00, 521.96it/s]\n",
      "100%|██████████| 17/17 [00:00<00:00, 483.37it/s]\n"
     ]
    },
    {
     "name": "stdout",
     "output_type": "stream",
     "text": [
      "Loss Decreasing.. 0.053 >> 0.053 \n",
      "saving model...\n",
      "Epoch:306/1000.. Train Loss: 0.056.. Val Loss: 0.053.. Test Loss: 0.051.. Time: 0.03m\n"
     ]
    },
    {
     "name": "stderr",
     "output_type": "stream",
     "text": [
      "100%|██████████| 238/238 [00:01<00:00, 130.92it/s]\n",
      "100%|██████████| 85/85 [00:00<00:00, 521.09it/s]\n",
      "100%|██████████| 17/17 [00:00<00:00, 474.30it/s]\n"
     ]
    },
    {
     "name": "stdout",
     "output_type": "stream",
     "text": [
      "Epoch:307/1000.. Train Loss: 0.056.. Val Loss: 0.053.. Test Loss: 0.050.. Time: 0.03m\n"
     ]
    },
    {
     "name": "stderr",
     "output_type": "stream",
     "text": [
      "100%|██████████| 238/238 [00:01<00:00, 133.99it/s]\n",
      "100%|██████████| 85/85 [00:00<00:00, 531.90it/s]\n",
      "100%|██████████| 17/17 [00:00<00:00, 482.31it/s]\n"
     ]
    },
    {
     "name": "stdout",
     "output_type": "stream",
     "text": [
      "Epoch:308/1000.. Train Loss: 0.056.. Val Loss: 0.053.. Test Loss: 0.049.. Time: 0.03m\n"
     ]
    },
    {
     "name": "stderr",
     "output_type": "stream",
     "text": [
      "100%|██████████| 238/238 [00:01<00:00, 131.79it/s]\n",
      "100%|██████████| 85/85 [00:00<00:00, 500.03it/s]\n",
      "100%|██████████| 17/17 [00:00<00:00, 493.97it/s]\n"
     ]
    },
    {
     "name": "stdout",
     "output_type": "stream",
     "text": [
      "Epoch:309/1000.. Train Loss: 0.056.. Val Loss: 0.053.. Test Loss: 0.051.. Time: 0.03m\n"
     ]
    },
    {
     "name": "stderr",
     "output_type": "stream",
     "text": [
      "100%|██████████| 238/238 [00:01<00:00, 131.09it/s]\n",
      "100%|██████████| 85/85 [00:00<00:00, 535.68it/s]\n",
      "100%|██████████| 17/17 [00:00<00:00, 518.62it/s]\n"
     ]
    },
    {
     "name": "stdout",
     "output_type": "stream",
     "text": [
      "Epoch:310/1000.. Train Loss: 0.056.. Val Loss: 0.053.. Test Loss: 0.051.. Time: 0.03m\n"
     ]
    },
    {
     "name": "stderr",
     "output_type": "stream",
     "text": [
      "100%|██████████| 238/238 [00:01<00:00, 133.79it/s]\n",
      "100%|██████████| 85/85 [00:00<00:00, 537.44it/s]\n",
      "100%|██████████| 17/17 [00:00<00:00, 494.67it/s]\n"
     ]
    },
    {
     "name": "stdout",
     "output_type": "stream",
     "text": [
      "Epoch:311/1000.. Train Loss: 0.056.. Val Loss: 0.053.. Test Loss: 0.050.. Time: 0.03m\n"
     ]
    },
    {
     "name": "stderr",
     "output_type": "stream",
     "text": [
      "100%|██████████| 238/238 [00:01<00:00, 137.75it/s]\n",
      "100%|██████████| 85/85 [00:00<00:00, 528.80it/s]\n",
      "100%|██████████| 17/17 [00:00<00:00, 489.95it/s]\n"
     ]
    },
    {
     "name": "stdout",
     "output_type": "stream",
     "text": [
      "Loss Decreasing.. 0.053 >> 0.053 \n",
      "saving model...\n",
      "Epoch:312/1000.. Train Loss: 0.056.. Val Loss: 0.053.. Test Loss: 0.051.. Time: 0.03m\n"
     ]
    },
    {
     "name": "stderr",
     "output_type": "stream",
     "text": [
      "100%|██████████| 238/238 [00:01<00:00, 134.99it/s]\n",
      "100%|██████████| 85/85 [00:00<00:00, 526.64it/s]\n",
      "100%|██████████| 17/17 [00:00<00:00, 481.25it/s]\n"
     ]
    },
    {
     "name": "stdout",
     "output_type": "stream",
     "text": [
      "Epoch:313/1000.. Train Loss: 0.056.. Val Loss: 0.053.. Test Loss: 0.052.. Time: 0.03m\n"
     ]
    },
    {
     "name": "stderr",
     "output_type": "stream",
     "text": [
      "100%|██████████| 238/238 [00:01<00:00, 134.49it/s]\n",
      "100%|██████████| 85/85 [00:00<00:00, 523.88it/s]\n",
      "100%|██████████| 17/17 [00:00<00:00, 494.93it/s]\n"
     ]
    },
    {
     "name": "stdout",
     "output_type": "stream",
     "text": [
      "Loss Decreasing.. 0.053 >> 0.053 \n",
      "saving model...\n",
      "Epoch:314/1000.. Train Loss: 0.056.. Val Loss: 0.053.. Test Loss: 0.051.. Time: 0.03m\n"
     ]
    },
    {
     "name": "stderr",
     "output_type": "stream",
     "text": [
      "100%|██████████| 238/238 [00:01<00:00, 130.82it/s]\n",
      "100%|██████████| 85/85 [00:00<00:00, 542.85it/s]\n",
      "100%|██████████| 17/17 [00:00<00:00, 503.34it/s]\n"
     ]
    },
    {
     "name": "stdout",
     "output_type": "stream",
     "text": [
      "Epoch:315/1000.. Train Loss: 0.056.. Val Loss: 0.053.. Test Loss: 0.051.. Time: 0.03m\n"
     ]
    },
    {
     "name": "stderr",
     "output_type": "stream",
     "text": [
      "100%|██████████| 238/238 [00:01<00:00, 133.61it/s]\n",
      "100%|██████████| 85/85 [00:00<00:00, 526.86it/s]\n",
      "100%|██████████| 17/17 [00:00<00:00, 484.96it/s]\n"
     ]
    },
    {
     "name": "stdout",
     "output_type": "stream",
     "text": [
      "Epoch:316/1000.. Train Loss: 0.056.. Val Loss: 0.053.. Test Loss: 0.051.. Time: 0.03m\n"
     ]
    },
    {
     "name": "stderr",
     "output_type": "stream",
     "text": [
      "100%|██████████| 238/238 [00:01<00:00, 133.67it/s]\n",
      "100%|██████████| 85/85 [00:00<00:00, 536.36it/s]\n",
      "100%|██████████| 17/17 [00:00<00:00, 488.90it/s]\n"
     ]
    },
    {
     "name": "stdout",
     "output_type": "stream",
     "text": [
      "Epoch:317/1000.. Train Loss: 0.056.. Val Loss: 0.053.. Test Loss: 0.051.. Time: 0.03m\n"
     ]
    },
    {
     "name": "stderr",
     "output_type": "stream",
     "text": [
      "100%|██████████| 238/238 [00:01<00:00, 135.90it/s]\n",
      "100%|██████████| 85/85 [00:00<00:00, 531.48it/s]\n",
      "100%|██████████| 17/17 [00:00<00:00, 529.66it/s]\n"
     ]
    },
    {
     "name": "stdout",
     "output_type": "stream",
     "text": [
      "Epoch:318/1000.. Train Loss: 0.056.. Val Loss: 0.053.. Test Loss: 0.051.. Time: 0.03m\n"
     ]
    },
    {
     "name": "stderr",
     "output_type": "stream",
     "text": [
      "100%|██████████| 238/238 [00:01<00:00, 133.96it/s]\n",
      "100%|██████████| 85/85 [00:00<00:00, 540.81it/s]\n",
      "100%|██████████| 17/17 [00:00<00:00, 501.34it/s]\n"
     ]
    },
    {
     "name": "stdout",
     "output_type": "stream",
     "text": [
      "Epoch:319/1000.. Train Loss: 0.056.. Val Loss: 0.053.. Test Loss: 0.049.. Time: 0.03m\n"
     ]
    },
    {
     "name": "stderr",
     "output_type": "stream",
     "text": [
      "100%|██████████| 238/238 [00:01<00:00, 129.64it/s]\n",
      "100%|██████████| 85/85 [00:00<00:00, 524.84it/s]\n",
      "100%|██████████| 17/17 [00:00<00:00, 372.72it/s]\n"
     ]
    },
    {
     "name": "stdout",
     "output_type": "stream",
     "text": [
      "Epoch:320/1000.. Train Loss: 0.056.. Val Loss: 0.053.. Test Loss: 0.050.. Time: 0.03m\n"
     ]
    },
    {
     "name": "stderr",
     "output_type": "stream",
     "text": [
      "100%|██████████| 238/238 [00:01<00:00, 132.03it/s]\n",
      "100%|██████████| 85/85 [00:00<00:00, 499.45it/s]\n",
      "100%|██████████| 17/17 [00:00<00:00, 495.78it/s]\n"
     ]
    },
    {
     "name": "stdout",
     "output_type": "stream",
     "text": [
      "Epoch:321/1000.. Train Loss: 0.056.. Val Loss: 0.053.. Test Loss: 0.050.. Time: 0.03m\n"
     ]
    },
    {
     "name": "stderr",
     "output_type": "stream",
     "text": [
      "100%|██████████| 238/238 [00:01<00:00, 133.71it/s]\n",
      "100%|██████████| 85/85 [00:00<00:00, 529.21it/s]\n",
      "100%|██████████| 17/17 [00:00<00:00, 486.97it/s]\n"
     ]
    },
    {
     "name": "stdout",
     "output_type": "stream",
     "text": [
      "Epoch:322/1000.. Train Loss: 0.056.. Val Loss: 0.053.. Test Loss: 0.050.. Time: 0.03m\n"
     ]
    },
    {
     "name": "stderr",
     "output_type": "stream",
     "text": [
      "100%|██████████| 238/238 [00:01<00:00, 133.29it/s]\n",
      "100%|██████████| 85/85 [00:00<00:00, 515.92it/s]\n",
      "100%|██████████| 17/17 [00:00<00:00, 519.22it/s]\n"
     ]
    },
    {
     "name": "stdout",
     "output_type": "stream",
     "text": [
      "Epoch:323/1000.. Train Loss: 0.056.. Val Loss: 0.053.. Test Loss: 0.051.. Time: 0.03m\n"
     ]
    },
    {
     "name": "stderr",
     "output_type": "stream",
     "text": [
      "100%|██████████| 238/238 [00:01<00:00, 134.24it/s]\n",
      "100%|██████████| 85/85 [00:00<00:00, 542.94it/s]\n",
      "100%|██████████| 17/17 [00:00<00:00, 473.97it/s]\n"
     ]
    },
    {
     "name": "stdout",
     "output_type": "stream",
     "text": [
      "Loss Decreasing.. 0.053 >> 0.053 \n",
      "saving model...\n",
      "Epoch:324/1000.. Train Loss: 0.056.. Val Loss: 0.053.. Test Loss: 0.051.. Time: 0.03m\n"
     ]
    },
    {
     "name": "stderr",
     "output_type": "stream",
     "text": [
      "100%|██████████| 238/238 [00:01<00:00, 133.67it/s]\n",
      "100%|██████████| 85/85 [00:00<00:00, 503.68it/s]\n",
      "100%|██████████| 17/17 [00:00<00:00, 481.84it/s]\n"
     ]
    },
    {
     "name": "stdout",
     "output_type": "stream",
     "text": [
      "Epoch:325/1000.. Train Loss: 0.056.. Val Loss: 0.053.. Test Loss: 0.051.. Time: 0.03m\n"
     ]
    },
    {
     "name": "stderr",
     "output_type": "stream",
     "text": [
      "100%|██████████| 238/238 [00:01<00:00, 133.89it/s]\n",
      "100%|██████████| 85/85 [00:00<00:00, 518.46it/s]\n",
      "100%|██████████| 17/17 [00:00<00:00, 537.49it/s]\n"
     ]
    },
    {
     "name": "stdout",
     "output_type": "stream",
     "text": [
      "Epoch:326/1000.. Train Loss: 0.056.. Val Loss: 0.053.. Test Loss: 0.052.. Time: 0.03m\n"
     ]
    },
    {
     "name": "stderr",
     "output_type": "stream",
     "text": [
      "100%|██████████| 238/238 [00:01<00:00, 135.70it/s]\n",
      "100%|██████████| 85/85 [00:00<00:00, 541.17it/s]\n",
      "100%|██████████| 17/17 [00:00<00:00, 491.91it/s]\n"
     ]
    },
    {
     "name": "stdout",
     "output_type": "stream",
     "text": [
      "Loss Decreasing.. 0.053 >> 0.052 \n",
      "saving model...\n",
      "Epoch:327/1000.. Train Loss: 0.056.. Val Loss: 0.052.. Test Loss: 0.051.. Time: 0.03m\n"
     ]
    },
    {
     "name": "stderr",
     "output_type": "stream",
     "text": [
      "100%|██████████| 238/238 [00:01<00:00, 133.61it/s]\n",
      "100%|██████████| 85/85 [00:00<00:00, 543.66it/s]\n",
      "100%|██████████| 17/17 [00:00<00:00, 501.10it/s]\n"
     ]
    },
    {
     "name": "stdout",
     "output_type": "stream",
     "text": [
      "Epoch:328/1000.. Train Loss: 0.056.. Val Loss: 0.052.. Test Loss: 0.052.. Time: 0.03m\n"
     ]
    },
    {
     "name": "stderr",
     "output_type": "stream",
     "text": [
      "100%|██████████| 238/238 [00:01<00:00, 133.28it/s]\n",
      "100%|██████████| 85/85 [00:00<00:00, 532.01it/s]\n",
      "100%|██████████| 17/17 [00:00<00:00, 489.51it/s]\n"
     ]
    },
    {
     "name": "stdout",
     "output_type": "stream",
     "text": [
      "Epoch:329/1000.. Train Loss: 0.056.. Val Loss: 0.053.. Test Loss: 0.051.. Time: 0.03m\n"
     ]
    },
    {
     "name": "stderr",
     "output_type": "stream",
     "text": [
      "100%|██████████| 238/238 [00:01<00:00, 136.86it/s]\n",
      "100%|██████████| 85/85 [00:00<00:00, 533.14it/s]\n",
      "100%|██████████| 17/17 [00:00<00:00, 487.57it/s]\n"
     ]
    },
    {
     "name": "stdout",
     "output_type": "stream",
     "text": [
      "Loss Decreasing.. 0.052 >> 0.052 \n",
      "saving model...\n",
      "Epoch:330/1000.. Train Loss: 0.056.. Val Loss: 0.052.. Test Loss: 0.053.. Time: 0.03m\n"
     ]
    },
    {
     "name": "stderr",
     "output_type": "stream",
     "text": [
      "100%|██████████| 238/238 [00:01<00:00, 133.48it/s]\n",
      "100%|██████████| 85/85 [00:00<00:00, 432.25it/s]\n",
      "100%|██████████| 17/17 [00:00<00:00, 485.34it/s]\n"
     ]
    },
    {
     "name": "stdout",
     "output_type": "stream",
     "text": [
      "Loss Decreasing.. 0.052 >> 0.052 \n",
      "saving model...\n",
      "Epoch:331/1000.. Train Loss: 0.056.. Val Loss: 0.052.. Test Loss: 0.053.. Time: 0.03m\n"
     ]
    },
    {
     "name": "stderr",
     "output_type": "stream",
     "text": [
      "100%|██████████| 238/238 [00:01<00:00, 135.24it/s]\n",
      "100%|██████████| 85/85 [00:00<00:00, 531.32it/s]\n",
      "100%|██████████| 17/17 [00:00<00:00, 495.68it/s]\n"
     ]
    },
    {
     "name": "stdout",
     "output_type": "stream",
     "text": [
      "Epoch:332/1000.. Train Loss: 0.056.. Val Loss: 0.052.. Test Loss: 0.052.. Time: 0.03m\n"
     ]
    },
    {
     "name": "stderr",
     "output_type": "stream",
     "text": [
      "100%|██████████| 238/238 [00:01<00:00, 134.97it/s]\n",
      "100%|██████████| 85/85 [00:00<00:00, 534.68it/s]\n",
      "100%|██████████| 17/17 [00:00<00:00, 485.65it/s]\n"
     ]
    },
    {
     "name": "stdout",
     "output_type": "stream",
     "text": [
      "Epoch:333/1000.. Train Loss: 0.056.. Val Loss: 0.052.. Test Loss: 0.052.. Time: 0.03m\n"
     ]
    },
    {
     "name": "stderr",
     "output_type": "stream",
     "text": [
      "100%|██████████| 238/238 [00:01<00:00, 133.78it/s]\n",
      "100%|██████████| 85/85 [00:00<00:00, 532.53it/s]\n",
      "100%|██████████| 17/17 [00:00<00:00, 495.52it/s]\n"
     ]
    },
    {
     "name": "stdout",
     "output_type": "stream",
     "text": [
      "Epoch:334/1000.. Train Loss: 0.056.. Val Loss: 0.052.. Test Loss: 0.053.. Time: 0.03m\n"
     ]
    },
    {
     "name": "stderr",
     "output_type": "stream",
     "text": [
      "100%|██████████| 238/238 [00:01<00:00, 134.38it/s]\n",
      "100%|██████████| 85/85 [00:00<00:00, 516.30it/s]\n",
      "100%|██████████| 17/17 [00:00<00:00, 483.14it/s]\n"
     ]
    },
    {
     "name": "stdout",
     "output_type": "stream",
     "text": [
      "Epoch:335/1000.. Train Loss: 0.055.. Val Loss: 0.052.. Test Loss: 0.051.. Time: 0.03m\n"
     ]
    },
    {
     "name": "stderr",
     "output_type": "stream",
     "text": [
      "100%|██████████| 238/238 [00:01<00:00, 136.20it/s]\n",
      "100%|██████████| 85/85 [00:00<00:00, 513.01it/s]\n",
      "100%|██████████| 17/17 [00:00<00:00, 530.62it/s]\n"
     ]
    },
    {
     "name": "stdout",
     "output_type": "stream",
     "text": [
      "Epoch:336/1000.. Train Loss: 0.056.. Val Loss: 0.053.. Test Loss: 0.053.. Time: 0.03m\n"
     ]
    },
    {
     "name": "stderr",
     "output_type": "stream",
     "text": [
      "100%|██████████| 238/238 [00:01<00:00, 137.89it/s]\n",
      "100%|██████████| 85/85 [00:00<00:00, 537.12it/s]\n",
      "100%|██████████| 17/17 [00:00<00:00, 495.49it/s]\n"
     ]
    },
    {
     "name": "stdout",
     "output_type": "stream",
     "text": [
      "Epoch:337/1000.. Train Loss: 0.056.. Val Loss: 0.052.. Test Loss: 0.052.. Time: 0.03m\n"
     ]
    },
    {
     "name": "stderr",
     "output_type": "stream",
     "text": [
      "100%|██████████| 238/238 [00:01<00:00, 135.04it/s]\n",
      "100%|██████████| 85/85 [00:00<00:00, 548.16it/s]\n",
      "100%|██████████| 17/17 [00:00<00:00, 464.49it/s]\n"
     ]
    },
    {
     "name": "stdout",
     "output_type": "stream",
     "text": [
      "Epoch:338/1000.. Train Loss: 0.055.. Val Loss: 0.052.. Test Loss: 0.052.. Time: 0.03m\n"
     ]
    },
    {
     "name": "stderr",
     "output_type": "stream",
     "text": [
      "100%|██████████| 238/238 [00:01<00:00, 135.46it/s]\n",
      "100%|██████████| 85/85 [00:00<00:00, 504.64it/s]\n",
      "100%|██████████| 17/17 [00:00<00:00, 490.30it/s]\n"
     ]
    },
    {
     "name": "stdout",
     "output_type": "stream",
     "text": [
      "Loss Decreasing.. 0.052 >> 0.052 \n",
      "saving model...\n",
      "Epoch:339/1000.. Train Loss: 0.055.. Val Loss: 0.052.. Test Loss: 0.052.. Time: 0.03m\n"
     ]
    },
    {
     "name": "stderr",
     "output_type": "stream",
     "text": [
      "100%|██████████| 238/238 [00:01<00:00, 133.34it/s]\n",
      "100%|██████████| 85/85 [00:00<00:00, 539.43it/s]\n",
      "100%|██████████| 17/17 [00:00<00:00, 487.93it/s]\n"
     ]
    },
    {
     "name": "stdout",
     "output_type": "stream",
     "text": [
      "Epoch:340/1000.. Train Loss: 0.055.. Val Loss: 0.052.. Test Loss: 0.051.. Time: 0.03m\n"
     ]
    },
    {
     "name": "stderr",
     "output_type": "stream",
     "text": [
      "100%|██████████| 238/238 [00:01<00:00, 134.49it/s]\n",
      "100%|██████████| 85/85 [00:00<00:00, 532.63it/s]\n",
      "100%|██████████| 17/17 [00:00<00:00, 505.99it/s]\n"
     ]
    },
    {
     "name": "stdout",
     "output_type": "stream",
     "text": [
      "Epoch:341/1000.. Train Loss: 0.056.. Val Loss: 0.052.. Test Loss: 0.052.. Time: 0.03m\n"
     ]
    },
    {
     "name": "stderr",
     "output_type": "stream",
     "text": [
      "100%|██████████| 238/238 [00:01<00:00, 134.13it/s]\n",
      "100%|██████████| 85/85 [00:00<00:00, 504.07it/s]\n",
      "100%|██████████| 17/17 [00:00<00:00, 498.83it/s]\n"
     ]
    },
    {
     "name": "stdout",
     "output_type": "stream",
     "text": [
      "Epoch:342/1000.. Train Loss: 0.055.. Val Loss: 0.052.. Test Loss: 0.051.. Time: 0.03m\n"
     ]
    },
    {
     "name": "stderr",
     "output_type": "stream",
     "text": [
      "100%|██████████| 238/238 [00:01<00:00, 135.26it/s]\n",
      "100%|██████████| 85/85 [00:00<00:00, 536.20it/s]\n",
      "100%|██████████| 17/17 [00:00<00:00, 525.87it/s]\n"
     ]
    },
    {
     "name": "stdout",
     "output_type": "stream",
     "text": [
      "Loss Decreasing.. 0.052 >> 0.052 \n",
      "saving model...\n",
      "Epoch:343/1000.. Train Loss: 0.056.. Val Loss: 0.052.. Test Loss: 0.051.. Time: 0.03m\n"
     ]
    },
    {
     "name": "stderr",
     "output_type": "stream",
     "text": [
      "100%|██████████| 238/238 [00:01<00:00, 133.23it/s]\n",
      "100%|██████████| 85/85 [00:00<00:00, 535.47it/s]\n",
      "100%|██████████| 17/17 [00:00<00:00, 481.24it/s]\n"
     ]
    },
    {
     "name": "stdout",
     "output_type": "stream",
     "text": [
      "Epoch:344/1000.. Train Loss: 0.056.. Val Loss: 0.052.. Test Loss: 0.053.. Time: 0.03m\n"
     ]
    },
    {
     "name": "stderr",
     "output_type": "stream",
     "text": [
      "100%|██████████| 238/238 [00:01<00:00, 131.78it/s]\n",
      "100%|██████████| 85/85 [00:00<00:00, 524.49it/s]\n",
      "100%|██████████| 17/17 [00:00<00:00, 481.78it/s]\n"
     ]
    },
    {
     "name": "stdout",
     "output_type": "stream",
     "text": [
      "Epoch:345/1000.. Train Loss: 0.056.. Val Loss: 0.052.. Test Loss: 0.053.. Time: 0.03m\n"
     ]
    },
    {
     "name": "stderr",
     "output_type": "stream",
     "text": [
      "100%|██████████| 238/238 [00:01<00:00, 134.80it/s]\n",
      "100%|██████████| 85/85 [00:00<00:00, 274.34it/s]\n",
      "100%|██████████| 17/17 [00:00<00:00, 496.08it/s]\n"
     ]
    },
    {
     "name": "stdout",
     "output_type": "stream",
     "text": [
      "Loss Decreasing.. 0.052 >> 0.052 \n",
      "saving model...\n",
      "Epoch:346/1000.. Train Loss: 0.056.. Val Loss: 0.052.. Test Loss: 0.051.. Time: 0.04m\n"
     ]
    },
    {
     "name": "stderr",
     "output_type": "stream",
     "text": [
      "100%|██████████| 238/238 [00:01<00:00, 130.08it/s]\n",
      "100%|██████████| 85/85 [00:00<00:00, 487.64it/s]\n",
      "100%|██████████| 17/17 [00:00<00:00, 544.29it/s]\n"
     ]
    },
    {
     "name": "stdout",
     "output_type": "stream",
     "text": [
      "Epoch:347/1000.. Train Loss: 0.055.. Val Loss: 0.052.. Test Loss: 0.053.. Time: 0.03m\n"
     ]
    },
    {
     "name": "stderr",
     "output_type": "stream",
     "text": [
      "100%|██████████| 238/238 [00:01<00:00, 134.31it/s]\n",
      "100%|██████████| 85/85 [00:00<00:00, 535.76it/s]\n",
      "100%|██████████| 17/17 [00:00<00:00, 489.88it/s]\n"
     ]
    },
    {
     "name": "stdout",
     "output_type": "stream",
     "text": [
      "Epoch:348/1000.. Train Loss: 0.055.. Val Loss: 0.052.. Test Loss: 0.051.. Time: 0.03m\n"
     ]
    },
    {
     "name": "stderr",
     "output_type": "stream",
     "text": [
      "100%|██████████| 238/238 [00:01<00:00, 132.86it/s]\n",
      "100%|██████████| 85/85 [00:00<00:00, 544.11it/s]\n",
      "100%|██████████| 17/17 [00:00<00:00, 499.09it/s]\n"
     ]
    },
    {
     "name": "stdout",
     "output_type": "stream",
     "text": [
      "Epoch:349/1000.. Train Loss: 0.056.. Val Loss: 0.052.. Test Loss: 0.052.. Time: 0.03m\n"
     ]
    },
    {
     "name": "stderr",
     "output_type": "stream",
     "text": [
      "100%|██████████| 238/238 [00:01<00:00, 133.23it/s]\n",
      "100%|██████████| 85/85 [00:00<00:00, 515.63it/s]\n",
      "100%|██████████| 17/17 [00:00<00:00, 486.89it/s]\n"
     ]
    },
    {
     "name": "stdout",
     "output_type": "stream",
     "text": [
      "Loss Decreasing.. 0.052 >> 0.052 \n",
      "saving model...\n",
      "Epoch:350/1000.. Train Loss: 0.055.. Val Loss: 0.052.. Test Loss: 0.051.. Time: 0.03m\n"
     ]
    },
    {
     "name": "stderr",
     "output_type": "stream",
     "text": [
      "100%|██████████| 238/238 [00:01<00:00, 134.86it/s]\n",
      "100%|██████████| 85/85 [00:00<00:00, 530.75it/s]\n",
      "100%|██████████| 17/17 [00:00<00:00, 501.91it/s]\n"
     ]
    },
    {
     "name": "stdout",
     "output_type": "stream",
     "text": [
      "Epoch:351/1000.. Train Loss: 0.056.. Val Loss: 0.052.. Test Loss: 0.052.. Time: 0.03m\n"
     ]
    },
    {
     "name": "stderr",
     "output_type": "stream",
     "text": [
      "100%|██████████| 238/238 [00:01<00:00, 133.30it/s]\n",
      "100%|██████████| 85/85 [00:00<00:00, 543.71it/s]\n",
      "100%|██████████| 17/17 [00:00<00:00, 496.15it/s]\n"
     ]
    },
    {
     "name": "stdout",
     "output_type": "stream",
     "text": [
      "Epoch:352/1000.. Train Loss: 0.055.. Val Loss: 0.052.. Test Loss: 0.052.. Time: 0.03m\n"
     ]
    },
    {
     "name": "stderr",
     "output_type": "stream",
     "text": [
      "100%|██████████| 238/238 [00:01<00:00, 136.17it/s]\n",
      "100%|██████████| 85/85 [00:00<00:00, 533.29it/s]\n",
      "100%|██████████| 17/17 [00:00<00:00, 495.54it/s]\n"
     ]
    },
    {
     "name": "stdout",
     "output_type": "stream",
     "text": [
      "Epoch:353/1000.. Train Loss: 0.055.. Val Loss: 0.052.. Test Loss: 0.054.. Time: 0.03m\n"
     ]
    },
    {
     "name": "stderr",
     "output_type": "stream",
     "text": [
      "100%|██████████| 238/238 [00:01<00:00, 137.75it/s]\n",
      "100%|██████████| 85/85 [00:00<00:00, 534.60it/s]\n",
      "100%|██████████| 17/17 [00:00<00:00, 492.84it/s]\n"
     ]
    },
    {
     "name": "stdout",
     "output_type": "stream",
     "text": [
      "Epoch:354/1000.. Train Loss: 0.055.. Val Loss: 0.052.. Test Loss: 0.052.. Time: 0.03m\n"
     ]
    },
    {
     "name": "stderr",
     "output_type": "stream",
     "text": [
      "100%|██████████| 238/238 [00:01<00:00, 135.59it/s]\n",
      "100%|██████████| 85/85 [00:00<00:00, 531.76it/s]\n",
      "100%|██████████| 17/17 [00:00<00:00, 485.46it/s]\n"
     ]
    },
    {
     "name": "stdout",
     "output_type": "stream",
     "text": [
      "Loss Decreasing.. 0.052 >> 0.052 \n",
      "saving model...\n",
      "Epoch:355/1000.. Train Loss: 0.055.. Val Loss: 0.052.. Test Loss: 0.052.. Time: 0.03m\n"
     ]
    },
    {
     "name": "stderr",
     "output_type": "stream",
     "text": [
      "100%|██████████| 238/238 [00:01<00:00, 138.10it/s]\n",
      "100%|██████████| 85/85 [00:00<00:00, 535.32it/s]\n",
      "100%|██████████| 17/17 [00:00<00:00, 494.31it/s]\n"
     ]
    },
    {
     "name": "stdout",
     "output_type": "stream",
     "text": [
      "Epoch:356/1000.. Train Loss: 0.055.. Val Loss: 0.052.. Test Loss: 0.053.. Time: 0.03m\n"
     ]
    },
    {
     "name": "stderr",
     "output_type": "stream",
     "text": [
      "100%|██████████| 238/238 [00:01<00:00, 135.90it/s]\n",
      "100%|██████████| 85/85 [00:00<00:00, 536.10it/s]\n",
      "100%|██████████| 17/17 [00:00<00:00, 495.54it/s]\n"
     ]
    },
    {
     "name": "stdout",
     "output_type": "stream",
     "text": [
      "Epoch:357/1000.. Train Loss: 0.055.. Val Loss: 0.052.. Test Loss: 0.053.. Time: 0.03m\n"
     ]
    },
    {
     "name": "stderr",
     "output_type": "stream",
     "text": [
      "100%|██████████| 238/238 [00:01<00:00, 135.72it/s]\n",
      "100%|██████████| 85/85 [00:00<00:00, 536.11it/s]\n",
      "100%|██████████| 17/17 [00:00<00:00, 505.27it/s]\n"
     ]
    },
    {
     "name": "stdout",
     "output_type": "stream",
     "text": [
      "Epoch:358/1000.. Train Loss: 0.055.. Val Loss: 0.052.. Test Loss: 0.056.. Time: 0.03m\n"
     ]
    },
    {
     "name": "stderr",
     "output_type": "stream",
     "text": [
      "100%|██████████| 238/238 [00:01<00:00, 134.65it/s]\n",
      "100%|██████████| 85/85 [00:00<00:00, 523.28it/s]\n",
      "100%|██████████| 17/17 [00:00<00:00, 503.31it/s]\n"
     ]
    },
    {
     "name": "stdout",
     "output_type": "stream",
     "text": [
      "Epoch:359/1000.. Train Loss: 0.055.. Val Loss: 0.052.. Test Loss: 0.054.. Time: 0.03m\n"
     ]
    },
    {
     "name": "stderr",
     "output_type": "stream",
     "text": [
      "100%|██████████| 238/238 [00:01<00:00, 135.65it/s]\n",
      "100%|██████████| 85/85 [00:00<00:00, 520.54it/s]\n",
      "100%|██████████| 17/17 [00:00<00:00, 496.69it/s]\n"
     ]
    },
    {
     "name": "stdout",
     "output_type": "stream",
     "text": [
      "Loss Decreasing.. 0.052 >> 0.051 \n",
      "saving model...\n",
      "Epoch:360/1000.. Train Loss: 0.055.. Val Loss: 0.051.. Test Loss: 0.054.. Time: 0.03m\n"
     ]
    },
    {
     "name": "stderr",
     "output_type": "stream",
     "text": [
      "100%|██████████| 238/238 [00:01<00:00, 135.18it/s]\n",
      "100%|██████████| 85/85 [00:00<00:00, 525.65it/s]\n",
      "100%|██████████| 17/17 [00:00<00:00, 481.05it/s]\n"
     ]
    },
    {
     "name": "stdout",
     "output_type": "stream",
     "text": [
      "Epoch:361/1000.. Train Loss: 0.055.. Val Loss: 0.052.. Test Loss: 0.052.. Time: 0.03m\n"
     ]
    },
    {
     "name": "stderr",
     "output_type": "stream",
     "text": [
      "100%|██████████| 238/238 [00:01<00:00, 131.24it/s]\n",
      "100%|██████████| 85/85 [00:00<00:00, 523.53it/s]\n",
      "100%|██████████| 17/17 [00:00<00:00, 491.23it/s]\n"
     ]
    },
    {
     "name": "stdout",
     "output_type": "stream",
     "text": [
      "Epoch:362/1000.. Train Loss: 0.055.. Val Loss: 0.051.. Test Loss: 0.054.. Time: 0.03m\n"
     ]
    },
    {
     "name": "stderr",
     "output_type": "stream",
     "text": [
      "100%|██████████| 238/238 [00:01<00:00, 132.83it/s]\n",
      "100%|██████████| 85/85 [00:00<00:00, 531.55it/s]\n",
      "100%|██████████| 17/17 [00:00<00:00, 485.16it/s]\n"
     ]
    },
    {
     "name": "stdout",
     "output_type": "stream",
     "text": [
      "Epoch:363/1000.. Train Loss: 0.055.. Val Loss: 0.052.. Test Loss: 0.053.. Time: 0.03m\n"
     ]
    },
    {
     "name": "stderr",
     "output_type": "stream",
     "text": [
      "100%|██████████| 238/238 [00:01<00:00, 137.50it/s]\n",
      "100%|██████████| 85/85 [00:00<00:00, 528.37it/s]\n",
      "100%|██████████| 17/17 [00:00<00:00, 508.60it/s]\n"
     ]
    },
    {
     "name": "stdout",
     "output_type": "stream",
     "text": [
      "Epoch:364/1000.. Train Loss: 0.056.. Val Loss: 0.052.. Test Loss: 0.052.. Time: 0.03m\n"
     ]
    },
    {
     "name": "stderr",
     "output_type": "stream",
     "text": [
      "100%|██████████| 238/238 [00:01<00:00, 134.28it/s]\n",
      "100%|██████████| 85/85 [00:00<00:00, 530.96it/s]\n",
      "100%|██████████| 17/17 [00:00<00:00, 491.23it/s]\n"
     ]
    },
    {
     "name": "stdout",
     "output_type": "stream",
     "text": [
      "Loss Decreasing.. 0.051 >> 0.051 \n",
      "saving model...\n",
      "Epoch:365/1000.. Train Loss: 0.055.. Val Loss: 0.051.. Test Loss: 0.054.. Time: 0.03m\n"
     ]
    },
    {
     "name": "stderr",
     "output_type": "stream",
     "text": [
      "100%|██████████| 238/238 [00:01<00:00, 134.27it/s]\n",
      "100%|██████████| 85/85 [00:00<00:00, 498.56it/s]\n",
      "100%|██████████| 17/17 [00:00<00:00, 436.75it/s]\n"
     ]
    },
    {
     "name": "stdout",
     "output_type": "stream",
     "text": [
      "Epoch:366/1000.. Train Loss: 0.055.. Val Loss: 0.052.. Test Loss: 0.054.. Time: 0.03m\n"
     ]
    },
    {
     "name": "stderr",
     "output_type": "stream",
     "text": [
      "100%|██████████| 238/238 [00:01<00:00, 133.50it/s]\n",
      "100%|██████████| 85/85 [00:00<00:00, 542.50it/s]\n",
      "100%|██████████| 17/17 [00:00<00:00, 494.24it/s]\n"
     ]
    },
    {
     "name": "stdout",
     "output_type": "stream",
     "text": [
      "Loss Decreasing.. 0.051 >> 0.051 \n",
      "saving model...\n",
      "Epoch:367/1000.. Train Loss: 0.054.. Val Loss: 0.051.. Test Loss: 0.054.. Time: 0.03m\n"
     ]
    },
    {
     "name": "stderr",
     "output_type": "stream",
     "text": [
      "100%|██████████| 238/238 [00:01<00:00, 137.37it/s]\n",
      "100%|██████████| 85/85 [00:00<00:00, 538.88it/s]\n",
      "100%|██████████| 17/17 [00:00<00:00, 517.98it/s]\n"
     ]
    },
    {
     "name": "stdout",
     "output_type": "stream",
     "text": [
      "Epoch:368/1000.. Train Loss: 0.055.. Val Loss: 0.052.. Test Loss: 0.057.. Time: 0.03m\n"
     ]
    },
    {
     "name": "stderr",
     "output_type": "stream",
     "text": [
      "100%|██████████| 238/238 [00:01<00:00, 128.23it/s]\n",
      "100%|██████████| 85/85 [00:00<00:00, 525.63it/s]\n",
      "100%|██████████| 17/17 [00:00<00:00, 491.50it/s]\n"
     ]
    },
    {
     "name": "stdout",
     "output_type": "stream",
     "text": [
      "Loss Decreasing.. 0.051 >> 0.051 \n",
      "saving model...\n",
      "Epoch:369/1000.. Train Loss: 0.055.. Val Loss: 0.051.. Test Loss: 0.056.. Time: 0.04m\n"
     ]
    },
    {
     "name": "stderr",
     "output_type": "stream",
     "text": [
      "100%|██████████| 238/238 [00:01<00:00, 133.39it/s]\n",
      "100%|██████████| 85/85 [00:00<00:00, 533.28it/s]\n",
      "100%|██████████| 17/17 [00:00<00:00, 515.98it/s]\n"
     ]
    },
    {
     "name": "stdout",
     "output_type": "stream",
     "text": [
      "Epoch:370/1000.. Train Loss: 0.055.. Val Loss: 0.051.. Test Loss: 0.054.. Time: 0.03m\n"
     ]
    },
    {
     "name": "stderr",
     "output_type": "stream",
     "text": [
      "100%|██████████| 238/238 [00:01<00:00, 133.79it/s]\n",
      "100%|██████████| 85/85 [00:00<00:00, 542.43it/s]\n",
      "100%|██████████| 17/17 [00:00<00:00, 489.27it/s]\n"
     ]
    },
    {
     "name": "stdout",
     "output_type": "stream",
     "text": [
      "Epoch:371/1000.. Train Loss: 0.055.. Val Loss: 0.051.. Test Loss: 0.054.. Time: 0.03m\n"
     ]
    },
    {
     "name": "stderr",
     "output_type": "stream",
     "text": [
      "100%|██████████| 238/238 [00:01<00:00, 132.97it/s]\n",
      "100%|██████████| 85/85 [00:00<00:00, 524.17it/s]\n",
      "100%|██████████| 17/17 [00:00<00:00, 490.66it/s]\n"
     ]
    },
    {
     "name": "stdout",
     "output_type": "stream",
     "text": [
      "Loss Decreasing.. 0.051 >> 0.051 \n",
      "saving model...\n",
      "Epoch:372/1000.. Train Loss: 0.055.. Val Loss: 0.051.. Test Loss: 0.053.. Time: 0.03m\n"
     ]
    },
    {
     "name": "stderr",
     "output_type": "stream",
     "text": [
      "100%|██████████| 238/238 [00:01<00:00, 135.36it/s]\n",
      "100%|██████████| 85/85 [00:00<00:00, 535.11it/s]\n",
      "100%|██████████| 17/17 [00:00<00:00, 478.52it/s]\n"
     ]
    },
    {
     "name": "stdout",
     "output_type": "stream",
     "text": [
      "Loss Decreasing.. 0.051 >> 0.051 \n",
      "saving model...\n",
      "Epoch:373/1000.. Train Loss: 0.055.. Val Loss: 0.051.. Test Loss: 0.053.. Time: 0.03m\n"
     ]
    },
    {
     "name": "stderr",
     "output_type": "stream",
     "text": [
      "100%|██████████| 238/238 [00:01<00:00, 132.11it/s]\n",
      "100%|██████████| 85/85 [00:00<00:00, 542.48it/s]\n",
      "100%|██████████| 17/17 [00:00<00:00, 492.28it/s]\n"
     ]
    },
    {
     "name": "stdout",
     "output_type": "stream",
     "text": [
      "Epoch:374/1000.. Train Loss: 0.055.. Val Loss: 0.051.. Test Loss: 0.054.. Time: 0.03m\n"
     ]
    },
    {
     "name": "stderr",
     "output_type": "stream",
     "text": [
      "100%|██████████| 238/238 [00:01<00:00, 137.07it/s]\n",
      "100%|██████████| 85/85 [00:00<00:00, 529.60it/s]\n",
      "100%|██████████| 17/17 [00:00<00:00, 498.27it/s]\n"
     ]
    },
    {
     "name": "stdout",
     "output_type": "stream",
     "text": [
      "Loss Decreasing.. 0.051 >> 0.051 \n",
      "saving model...\n",
      "Epoch:375/1000.. Train Loss: 0.055.. Val Loss: 0.051.. Test Loss: 0.052.. Time: 0.03m\n"
     ]
    },
    {
     "name": "stderr",
     "output_type": "stream",
     "text": [
      "100%|██████████| 238/238 [00:01<00:00, 139.30it/s]\n",
      "100%|██████████| 85/85 [00:00<00:00, 536.35it/s]\n",
      "100%|██████████| 17/17 [00:00<00:00, 494.88it/s]\n"
     ]
    },
    {
     "name": "stdout",
     "output_type": "stream",
     "text": [
      "Epoch:376/1000.. Train Loss: 0.055.. Val Loss: 0.052.. Test Loss: 0.053.. Time: 0.03m\n"
     ]
    },
    {
     "name": "stderr",
     "output_type": "stream",
     "text": [
      "100%|██████████| 238/238 [00:01<00:00, 132.76it/s]\n",
      "100%|██████████| 85/85 [00:00<00:00, 520.72it/s]\n",
      "100%|██████████| 17/17 [00:00<00:00, 487.18it/s]\n"
     ]
    },
    {
     "name": "stdout",
     "output_type": "stream",
     "text": [
      "Epoch:377/1000.. Train Loss: 0.055.. Val Loss: 0.051.. Test Loss: 0.055.. Time: 0.03m\n"
     ]
    },
    {
     "name": "stderr",
     "output_type": "stream",
     "text": [
      "100%|██████████| 238/238 [00:01<00:00, 134.96it/s]\n",
      "100%|██████████| 85/85 [00:00<00:00, 537.13it/s]\n",
      "100%|██████████| 17/17 [00:00<00:00, 426.22it/s]\n"
     ]
    },
    {
     "name": "stdout",
     "output_type": "stream",
     "text": [
      "Epoch:378/1000.. Train Loss: 0.055.. Val Loss: 0.051.. Test Loss: 0.057.. Time: 0.03m\n"
     ]
    },
    {
     "name": "stderr",
     "output_type": "stream",
     "text": [
      "100%|██████████| 238/238 [00:01<00:00, 135.15it/s]\n",
      "100%|██████████| 85/85 [00:00<00:00, 539.55it/s]\n",
      "100%|██████████| 17/17 [00:00<00:00, 476.21it/s]\n"
     ]
    },
    {
     "name": "stdout",
     "output_type": "stream",
     "text": [
      "Epoch:379/1000.. Train Loss: 0.055.. Val Loss: 0.051.. Test Loss: 0.054.. Time: 0.03m\n"
     ]
    },
    {
     "name": "stderr",
     "output_type": "stream",
     "text": [
      "100%|██████████| 238/238 [00:01<00:00, 135.35it/s]\n",
      "100%|██████████| 85/85 [00:00<00:00, 534.03it/s]\n",
      "100%|██████████| 17/17 [00:00<00:00, 481.87it/s]\n"
     ]
    },
    {
     "name": "stdout",
     "output_type": "stream",
     "text": [
      "Epoch:380/1000.. Train Loss: 0.055.. Val Loss: 0.051.. Test Loss: 0.054.. Time: 0.03m\n"
     ]
    },
    {
     "name": "stderr",
     "output_type": "stream",
     "text": [
      "100%|██████████| 238/238 [00:01<00:00, 135.38it/s]\n",
      "100%|██████████| 85/85 [00:00<00:00, 532.47it/s]\n",
      "100%|██████████| 17/17 [00:00<00:00, 498.32it/s]\n"
     ]
    },
    {
     "name": "stdout",
     "output_type": "stream",
     "text": [
      "Epoch:381/1000.. Train Loss: 0.055.. Val Loss: 0.051.. Test Loss: 0.056.. Time: 0.03m\n"
     ]
    },
    {
     "name": "stderr",
     "output_type": "stream",
     "text": [
      "100%|██████████| 238/238 [00:01<00:00, 137.69it/s]\n",
      "100%|██████████| 85/85 [00:00<00:00, 504.56it/s]\n",
      "100%|██████████| 17/17 [00:00<00:00, 474.18it/s]\n"
     ]
    },
    {
     "name": "stdout",
     "output_type": "stream",
     "text": [
      "Epoch:382/1000.. Train Loss: 0.055.. Val Loss: 0.051.. Test Loss: 0.054.. Time: 0.03m\n"
     ]
    },
    {
     "name": "stderr",
     "output_type": "stream",
     "text": [
      "100%|██████████| 238/238 [00:01<00:00, 137.14it/s]\n",
      "100%|██████████| 85/85 [00:00<00:00, 511.76it/s]\n",
      "100%|██████████| 17/17 [00:00<00:00, 476.24it/s]\n"
     ]
    },
    {
     "name": "stdout",
     "output_type": "stream",
     "text": [
      "Loss Decreasing.. 0.051 >> 0.051 \n",
      "saving model...\n",
      "Epoch:383/1000.. Train Loss: 0.055.. Val Loss: 0.051.. Test Loss: 0.054.. Time: 0.03m\n"
     ]
    },
    {
     "name": "stderr",
     "output_type": "stream",
     "text": [
      "100%|██████████| 238/238 [00:01<00:00, 137.71it/s]\n",
      "100%|██████████| 85/85 [00:00<00:00, 534.26it/s]\n",
      "100%|██████████| 17/17 [00:00<00:00, 495.85it/s]\n"
     ]
    },
    {
     "name": "stdout",
     "output_type": "stream",
     "text": [
      "Epoch:384/1000.. Train Loss: 0.055.. Val Loss: 0.051.. Test Loss: 0.056.. Time: 0.03m\n"
     ]
    },
    {
     "name": "stderr",
     "output_type": "stream",
     "text": [
      "100%|██████████| 238/238 [00:01<00:00, 140.46it/s]\n",
      "100%|██████████| 85/85 [00:00<00:00, 528.89it/s]\n",
      "100%|██████████| 17/17 [00:00<00:00, 529.99it/s]\n"
     ]
    },
    {
     "name": "stdout",
     "output_type": "stream",
     "text": [
      "Epoch:385/1000.. Train Loss: 0.055.. Val Loss: 0.051.. Test Loss: 0.055.. Time: 0.03m\n"
     ]
    },
    {
     "name": "stderr",
     "output_type": "stream",
     "text": [
      "100%|██████████| 238/238 [00:01<00:00, 138.35it/s]\n",
      "100%|██████████| 85/85 [00:00<00:00, 532.38it/s]\n",
      "100%|██████████| 17/17 [00:00<00:00, 511.17it/s]\n"
     ]
    },
    {
     "name": "stdout",
     "output_type": "stream",
     "text": [
      "Loss Decreasing.. 0.051 >> 0.051 \n",
      "saving model...\n",
      "Epoch:386/1000.. Train Loss: 0.055.. Val Loss: 0.051.. Test Loss: 0.054.. Time: 0.03m\n"
     ]
    },
    {
     "name": "stderr",
     "output_type": "stream",
     "text": [
      "100%|██████████| 238/238 [00:01<00:00, 142.43it/s]\n",
      "100%|██████████| 85/85 [00:00<00:00, 543.97it/s]\n",
      "100%|██████████| 17/17 [00:00<00:00, 500.88it/s]\n"
     ]
    },
    {
     "name": "stdout",
     "output_type": "stream",
     "text": [
      "Epoch:387/1000.. Train Loss: 0.055.. Val Loss: 0.051.. Test Loss: 0.054.. Time: 0.03m\n"
     ]
    },
    {
     "name": "stderr",
     "output_type": "stream",
     "text": [
      "100%|██████████| 238/238 [00:01<00:00, 140.12it/s]\n",
      "100%|██████████| 85/85 [00:00<00:00, 533.02it/s]\n",
      "100%|██████████| 17/17 [00:00<00:00, 488.46it/s]\n"
     ]
    },
    {
     "name": "stdout",
     "output_type": "stream",
     "text": [
      "Epoch:388/1000.. Train Loss: 0.055.. Val Loss: 0.051.. Test Loss: 0.054.. Time: 0.03m\n"
     ]
    },
    {
     "name": "stderr",
     "output_type": "stream",
     "text": [
      "100%|██████████| 238/238 [00:01<00:00, 134.12it/s]\n",
      "100%|██████████| 85/85 [00:00<00:00, 540.21it/s]\n",
      "100%|██████████| 17/17 [00:00<00:00, 503.06it/s]\n"
     ]
    },
    {
     "name": "stdout",
     "output_type": "stream",
     "text": [
      "Epoch:389/1000.. Train Loss: 0.054.. Val Loss: 0.051.. Test Loss: 0.055.. Time: 0.03m\n"
     ]
    },
    {
     "name": "stderr",
     "output_type": "stream",
     "text": [
      "100%|██████████| 238/238 [00:01<00:00, 136.06it/s]\n",
      "100%|██████████| 85/85 [00:00<00:00, 539.42it/s]\n",
      "100%|██████████| 17/17 [00:00<00:00, 497.95it/s]\n"
     ]
    },
    {
     "name": "stdout",
     "output_type": "stream",
     "text": [
      "Loss Decreasing.. 0.051 >> 0.051 \n",
      "saving model...\n",
      "Epoch:390/1000.. Train Loss: 0.054.. Val Loss: 0.051.. Test Loss: 0.051.. Time: 0.03m\n"
     ]
    },
    {
     "name": "stderr",
     "output_type": "stream",
     "text": [
      "100%|██████████| 238/238 [00:01<00:00, 134.60it/s]\n",
      "100%|██████████| 85/85 [00:00<00:00, 531.22it/s]\n",
      "100%|██████████| 17/17 [00:00<00:00, 481.45it/s]\n"
     ]
    },
    {
     "name": "stdout",
     "output_type": "stream",
     "text": [
      "Loss Decreasing.. 0.051 >> 0.050 \n",
      "saving model...\n",
      "Epoch:391/1000.. Train Loss: 0.055.. Val Loss: 0.050.. Test Loss: 0.054.. Time: 0.03m\n"
     ]
    },
    {
     "name": "stderr",
     "output_type": "stream",
     "text": [
      "100%|██████████| 238/238 [00:01<00:00, 132.56it/s]\n",
      "100%|██████████| 85/85 [00:00<00:00, 538.95it/s]\n",
      "100%|██████████| 17/17 [00:00<00:00, 531.88it/s]\n"
     ]
    },
    {
     "name": "stdout",
     "output_type": "stream",
     "text": [
      "Epoch:392/1000.. Train Loss: 0.055.. Val Loss: 0.051.. Test Loss: 0.052.. Time: 0.03m\n"
     ]
    },
    {
     "name": "stderr",
     "output_type": "stream",
     "text": [
      "100%|██████████| 238/238 [00:01<00:00, 135.61it/s]\n",
      "100%|██████████| 85/85 [00:00<00:00, 516.01it/s]\n",
      "100%|██████████| 17/17 [00:00<00:00, 475.86it/s]\n"
     ]
    },
    {
     "name": "stdout",
     "output_type": "stream",
     "text": [
      "Epoch:393/1000.. Train Loss: 0.055.. Val Loss: 0.051.. Test Loss: 0.055.. Time: 0.03m\n"
     ]
    },
    {
     "name": "stderr",
     "output_type": "stream",
     "text": [
      "100%|██████████| 238/238 [00:01<00:00, 133.21it/s]\n",
      "100%|██████████| 85/85 [00:00<00:00, 534.21it/s]\n",
      "100%|██████████| 17/17 [00:00<00:00, 484.86it/s]\n"
     ]
    },
    {
     "name": "stdout",
     "output_type": "stream",
     "text": [
      "Epoch:394/1000.. Train Loss: 0.055.. Val Loss: 0.051.. Test Loss: 0.052.. Time: 0.03m\n"
     ]
    },
    {
     "name": "stderr",
     "output_type": "stream",
     "text": [
      "100%|██████████| 238/238 [00:01<00:00, 133.35it/s]\n",
      "100%|██████████| 85/85 [00:00<00:00, 543.02it/s]\n",
      "100%|██████████| 17/17 [00:00<00:00, 497.33it/s]\n"
     ]
    },
    {
     "name": "stdout",
     "output_type": "stream",
     "text": [
      "Epoch:395/1000.. Train Loss: 0.054.. Val Loss: 0.051.. Test Loss: 0.055.. Time: 0.03m\n"
     ]
    },
    {
     "name": "stderr",
     "output_type": "stream",
     "text": [
      "100%|██████████| 238/238 [00:01<00:00, 136.31it/s]\n",
      "100%|██████████| 85/85 [00:00<00:00, 533.30it/s]\n",
      "100%|██████████| 17/17 [00:00<00:00, 496.03it/s]\n"
     ]
    },
    {
     "name": "stdout",
     "output_type": "stream",
     "text": [
      "Loss Decreasing.. 0.050 >> 0.050 \n",
      "saving model...\n",
      "Epoch:396/1000.. Train Loss: 0.054.. Val Loss: 0.050.. Test Loss: 0.056.. Time: 0.03m\n"
     ]
    },
    {
     "name": "stderr",
     "output_type": "stream",
     "text": [
      "100%|██████████| 238/238 [00:01<00:00, 132.40it/s]\n",
      "100%|██████████| 85/85 [00:00<00:00, 525.28it/s]\n",
      "100%|██████████| 17/17 [00:00<00:00, 495.98it/s]\n"
     ]
    },
    {
     "name": "stdout",
     "output_type": "stream",
     "text": [
      "Epoch:397/1000.. Train Loss: 0.055.. Val Loss: 0.051.. Test Loss: 0.055.. Time: 0.03m\n"
     ]
    },
    {
     "name": "stderr",
     "output_type": "stream",
     "text": [
      "100%|██████████| 238/238 [00:01<00:00, 133.84it/s]\n",
      "100%|██████████| 85/85 [00:00<00:00, 536.93it/s]\n",
      "100%|██████████| 17/17 [00:00<00:00, 487.70it/s]\n"
     ]
    },
    {
     "name": "stdout",
     "output_type": "stream",
     "text": [
      "Epoch:398/1000.. Train Loss: 0.054.. Val Loss: 0.050.. Test Loss: 0.055.. Time: 0.03m\n"
     ]
    },
    {
     "name": "stderr",
     "output_type": "stream",
     "text": [
      "100%|██████████| 238/238 [00:01<00:00, 135.26it/s]\n",
      "100%|██████████| 85/85 [00:00<00:00, 529.06it/s]\n",
      "100%|██████████| 17/17 [00:00<00:00, 484.41it/s]\n"
     ]
    },
    {
     "name": "stdout",
     "output_type": "stream",
     "text": [
      "Epoch:399/1000.. Train Loss: 0.054.. Val Loss: 0.051.. Test Loss: 0.054.. Time: 0.03m\n"
     ]
    },
    {
     "name": "stderr",
     "output_type": "stream",
     "text": [
      "100%|██████████| 238/238 [00:01<00:00, 137.43it/s]\n",
      "100%|██████████| 85/85 [00:00<00:00, 512.89it/s]\n",
      "100%|██████████| 17/17 [00:00<00:00, 487.02it/s]\n"
     ]
    },
    {
     "name": "stdout",
     "output_type": "stream",
     "text": [
      "Epoch:400/1000.. Train Loss: 0.054.. Val Loss: 0.051.. Test Loss: 0.054.. Time: 0.03m\n"
     ]
    },
    {
     "name": "stderr",
     "output_type": "stream",
     "text": [
      "100%|██████████| 238/238 [00:01<00:00, 135.90it/s]\n",
      "100%|██████████| 85/85 [00:00<00:00, 538.90it/s]\n",
      "100%|██████████| 17/17 [00:00<00:00, 487.98it/s]\n"
     ]
    },
    {
     "name": "stdout",
     "output_type": "stream",
     "text": [
      "Epoch:401/1000.. Train Loss: 0.054.. Val Loss: 0.051.. Test Loss: 0.055.. Time: 0.03m\n"
     ]
    },
    {
     "name": "stderr",
     "output_type": "stream",
     "text": [
      "100%|██████████| 238/238 [00:01<00:00, 136.14it/s]\n",
      "100%|██████████| 85/85 [00:00<00:00, 524.93it/s]\n",
      "100%|██████████| 17/17 [00:00<00:00, 499.55it/s]\n"
     ]
    },
    {
     "name": "stdout",
     "output_type": "stream",
     "text": [
      "Epoch:402/1000.. Train Loss: 0.054.. Val Loss: 0.051.. Test Loss: 0.057.. Time: 0.03m\n"
     ]
    },
    {
     "name": "stderr",
     "output_type": "stream",
     "text": [
      "100%|██████████| 238/238 [00:01<00:00, 132.73it/s]\n",
      "100%|██████████| 85/85 [00:00<00:00, 530.20it/s]\n",
      "100%|██████████| 17/17 [00:00<00:00, 497.24it/s]\n"
     ]
    },
    {
     "name": "stdout",
     "output_type": "stream",
     "text": [
      "Loss Decreasing.. 0.050 >> 0.050 \n",
      "saving model...\n",
      "Epoch:403/1000.. Train Loss: 0.054.. Val Loss: 0.050.. Test Loss: 0.055.. Time: 0.03m\n"
     ]
    },
    {
     "name": "stderr",
     "output_type": "stream",
     "text": [
      "100%|██████████| 238/238 [00:01<00:00, 133.32it/s]\n",
      "100%|██████████| 85/85 [00:00<00:00, 534.67it/s]\n",
      "100%|██████████| 17/17 [00:00<00:00, 491.09it/s]\n"
     ]
    },
    {
     "name": "stdout",
     "output_type": "stream",
     "text": [
      "Epoch:404/1000.. Train Loss: 0.054.. Val Loss: 0.051.. Test Loss: 0.055.. Time: 0.03m\n"
     ]
    },
    {
     "name": "stderr",
     "output_type": "stream",
     "text": [
      "100%|██████████| 238/238 [00:01<00:00, 132.40it/s]\n",
      "100%|██████████| 85/85 [00:00<00:00, 515.90it/s]\n",
      "100%|██████████| 17/17 [00:00<00:00, 511.49it/s]\n"
     ]
    },
    {
     "name": "stdout",
     "output_type": "stream",
     "text": [
      "Epoch:405/1000.. Train Loss: 0.054.. Val Loss: 0.051.. Test Loss: 0.058.. Time: 0.03m\n"
     ]
    },
    {
     "name": "stderr",
     "output_type": "stream",
     "text": [
      "100%|██████████| 238/238 [00:01<00:00, 133.54it/s]\n",
      "100%|██████████| 85/85 [00:00<00:00, 519.84it/s]\n",
      "100%|██████████| 17/17 [00:00<00:00, 493.30it/s]\n"
     ]
    },
    {
     "name": "stdout",
     "output_type": "stream",
     "text": [
      "Epoch:406/1000.. Train Loss: 0.054.. Val Loss: 0.051.. Test Loss: 0.054.. Time: 0.03m\n"
     ]
    },
    {
     "name": "stderr",
     "output_type": "stream",
     "text": [
      "100%|██████████| 238/238 [00:01<00:00, 134.42it/s]\n",
      "100%|██████████| 85/85 [00:00<00:00, 533.93it/s]\n",
      "100%|██████████| 17/17 [00:00<00:00, 524.21it/s]\n"
     ]
    },
    {
     "name": "stdout",
     "output_type": "stream",
     "text": [
      "Epoch:407/1000.. Train Loss: 0.054.. Val Loss: 0.050.. Test Loss: 0.056.. Time: 0.03m\n"
     ]
    },
    {
     "name": "stderr",
     "output_type": "stream",
     "text": [
      "100%|██████████| 238/238 [00:01<00:00, 135.14it/s]\n",
      "100%|██████████| 85/85 [00:00<00:00, 500.98it/s]\n",
      "100%|██████████| 17/17 [00:00<00:00, 423.25it/s]\n"
     ]
    },
    {
     "name": "stdout",
     "output_type": "stream",
     "text": [
      "Epoch:408/1000.. Train Loss: 0.055.. Val Loss: 0.050.. Test Loss: 0.054.. Time: 0.03m\n"
     ]
    },
    {
     "name": "stderr",
     "output_type": "stream",
     "text": [
      "100%|██████████| 238/238 [00:01<00:00, 133.84it/s]\n",
      "100%|██████████| 85/85 [00:00<00:00, 539.82it/s]\n",
      "100%|██████████| 17/17 [00:00<00:00, 486.14it/s]\n"
     ]
    },
    {
     "name": "stdout",
     "output_type": "stream",
     "text": [
      "Loss Decreasing.. 0.050 >> 0.050 \n",
      "saving model...\n",
      "Epoch:409/1000.. Train Loss: 0.054.. Val Loss: 0.050.. Test Loss: 0.054.. Time: 0.03m\n"
     ]
    },
    {
     "name": "stderr",
     "output_type": "stream",
     "text": [
      "100%|██████████| 238/238 [00:01<00:00, 131.93it/s]\n",
      "100%|██████████| 85/85 [00:00<00:00, 512.16it/s]\n",
      "100%|██████████| 17/17 [00:00<00:00, 490.31it/s]\n"
     ]
    },
    {
     "name": "stdout",
     "output_type": "stream",
     "text": [
      "Epoch:410/1000.. Train Loss: 0.055.. Val Loss: 0.050.. Test Loss: 0.054.. Time: 0.03m\n"
     ]
    },
    {
     "name": "stderr",
     "output_type": "stream",
     "text": [
      "100%|██████████| 238/238 [00:01<00:00, 133.38it/s]\n",
      "100%|██████████| 85/85 [00:00<00:00, 524.52it/s]\n",
      "100%|██████████| 17/17 [00:00<00:00, 483.57it/s]\n"
     ]
    },
    {
     "name": "stdout",
     "output_type": "stream",
     "text": [
      "Epoch:411/1000.. Train Loss: 0.054.. Val Loss: 0.051.. Test Loss: 0.055.. Time: 0.03m\n"
     ]
    },
    {
     "name": "stderr",
     "output_type": "stream",
     "text": [
      "100%|██████████| 238/238 [00:01<00:00, 137.86it/s]\n",
      "100%|██████████| 85/85 [00:00<00:00, 526.61it/s]\n",
      "100%|██████████| 17/17 [00:00<00:00, 540.30it/s]\n"
     ]
    },
    {
     "name": "stdout",
     "output_type": "stream",
     "text": [
      "Epoch:412/1000.. Train Loss: 0.054.. Val Loss: 0.051.. Test Loss: 0.054.. Time: 0.03m\n"
     ]
    },
    {
     "name": "stderr",
     "output_type": "stream",
     "text": [
      "100%|██████████| 238/238 [00:01<00:00, 132.31it/s]\n",
      "100%|██████████| 85/85 [00:00<00:00, 534.38it/s]\n",
      "100%|██████████| 17/17 [00:00<00:00, 486.68it/s]\n"
     ]
    },
    {
     "name": "stdout",
     "output_type": "stream",
     "text": [
      "Epoch:413/1000.. Train Loss: 0.054.. Val Loss: 0.050.. Test Loss: 0.055.. Time: 0.03m\n"
     ]
    },
    {
     "name": "stderr",
     "output_type": "stream",
     "text": [
      "100%|██████████| 238/238 [00:01<00:00, 135.18it/s]\n",
      "100%|██████████| 85/85 [00:00<00:00, 522.78it/s]\n",
      "100%|██████████| 17/17 [00:00<00:00, 495.41it/s]\n"
     ]
    },
    {
     "name": "stdout",
     "output_type": "stream",
     "text": [
      "Epoch:414/1000.. Train Loss: 0.054.. Val Loss: 0.050.. Test Loss: 0.055.. Time: 0.03m\n"
     ]
    },
    {
     "name": "stderr",
     "output_type": "stream",
     "text": [
      "100%|██████████| 238/238 [00:01<00:00, 134.17it/s]\n",
      "100%|██████████| 85/85 [00:00<00:00, 536.84it/s]\n",
      "100%|██████████| 17/17 [00:00<00:00, 494.95it/s]\n"
     ]
    },
    {
     "name": "stdout",
     "output_type": "stream",
     "text": [
      "Epoch:415/1000.. Train Loss: 0.054.. Val Loss: 0.051.. Test Loss: 0.054.. Time: 0.03m\n"
     ]
    },
    {
     "name": "stderr",
     "output_type": "stream",
     "text": [
      "100%|██████████| 238/238 [00:01<00:00, 133.89it/s]\n",
      "100%|██████████| 85/85 [00:00<00:00, 528.71it/s]\n",
      "100%|██████████| 17/17 [00:00<00:00, 496.42it/s]\n"
     ]
    },
    {
     "name": "stdout",
     "output_type": "stream",
     "text": [
      "Loss Decreasing.. 0.050 >> 0.050 \n",
      "saving model...\n",
      "Epoch:416/1000.. Train Loss: 0.054.. Val Loss: 0.050.. Test Loss: 0.053.. Time: 0.03m\n"
     ]
    },
    {
     "name": "stderr",
     "output_type": "stream",
     "text": [
      "100%|██████████| 238/238 [00:01<00:00, 135.09it/s]\n",
      "100%|██████████| 85/85 [00:00<00:00, 537.57it/s]\n",
      "100%|██████████| 17/17 [00:00<00:00, 489.79it/s]\n"
     ]
    },
    {
     "name": "stdout",
     "output_type": "stream",
     "text": [
      "Epoch:417/1000.. Train Loss: 0.054.. Val Loss: 0.050.. Test Loss: 0.053.. Time: 0.03m\n"
     ]
    },
    {
     "name": "stderr",
     "output_type": "stream",
     "text": [
      "100%|██████████| 238/238 [00:01<00:00, 134.22it/s]\n",
      "100%|██████████| 85/85 [00:00<00:00, 533.24it/s]\n",
      "100%|██████████| 17/17 [00:00<00:00, 485.81it/s]\n"
     ]
    },
    {
     "name": "stdout",
     "output_type": "stream",
     "text": [
      "Epoch:418/1000.. Train Loss: 0.054.. Val Loss: 0.051.. Test Loss: 0.054.. Time: 0.03m\n"
     ]
    },
    {
     "name": "stderr",
     "output_type": "stream",
     "text": [
      "100%|██████████| 238/238 [00:01<00:00, 135.10it/s]\n",
      "100%|██████████| 85/85 [00:00<00:00, 528.44it/s]\n",
      "100%|██████████| 17/17 [00:00<00:00, 527.30it/s]\n"
     ]
    },
    {
     "name": "stdout",
     "output_type": "stream",
     "text": [
      "Epoch:419/1000.. Train Loss: 0.054.. Val Loss: 0.051.. Test Loss: 0.054.. Time: 0.03m\n"
     ]
    },
    {
     "name": "stderr",
     "output_type": "stream",
     "text": [
      "100%|██████████| 238/238 [00:01<00:00, 134.24it/s]\n",
      "100%|██████████| 85/85 [00:00<00:00, 511.54it/s]\n",
      "100%|██████████| 17/17 [00:00<00:00, 527.10it/s]\n"
     ]
    },
    {
     "name": "stdout",
     "output_type": "stream",
     "text": [
      "Loss Decreasing.. 0.050 >> 0.050 \n",
      "saving model...\n",
      "Epoch:420/1000.. Train Loss: 0.054.. Val Loss: 0.050.. Test Loss: 0.053.. Time: 0.03m\n"
     ]
    },
    {
     "name": "stderr",
     "output_type": "stream",
     "text": [
      "100%|██████████| 238/238 [00:01<00:00, 133.12it/s]\n",
      "100%|██████████| 85/85 [00:00<00:00, 534.62it/s]\n",
      "100%|██████████| 17/17 [00:00<00:00, 499.72it/s]\n"
     ]
    },
    {
     "name": "stdout",
     "output_type": "stream",
     "text": [
      "Epoch:421/1000.. Train Loss: 0.054.. Val Loss: 0.051.. Test Loss: 0.058.. Time: 0.03m\n"
     ]
    },
    {
     "name": "stderr",
     "output_type": "stream",
     "text": [
      "100%|██████████| 238/238 [00:01<00:00, 131.83it/s]\n",
      "100%|██████████| 85/85 [00:00<00:00, 545.11it/s]\n",
      "100%|██████████| 17/17 [00:00<00:00, 497.61it/s]\n"
     ]
    },
    {
     "name": "stdout",
     "output_type": "stream",
     "text": [
      "Epoch:422/1000.. Train Loss: 0.054.. Val Loss: 0.051.. Test Loss: 0.055.. Time: 0.03m\n"
     ]
    },
    {
     "name": "stderr",
     "output_type": "stream",
     "text": [
      "100%|██████████| 238/238 [00:01<00:00, 134.23it/s]\n",
      "100%|██████████| 85/85 [00:00<00:00, 529.13it/s]\n",
      "100%|██████████| 17/17 [00:00<00:00, 527.45it/s]\n"
     ]
    },
    {
     "name": "stdout",
     "output_type": "stream",
     "text": [
      "Epoch:423/1000.. Train Loss: 0.054.. Val Loss: 0.050.. Test Loss: 0.053.. Time: 0.03m\n"
     ]
    },
    {
     "name": "stderr",
     "output_type": "stream",
     "text": [
      "100%|██████████| 238/238 [00:01<00:00, 132.92it/s]\n",
      "100%|██████████| 85/85 [00:00<00:00, 533.25it/s]\n",
      "100%|██████████| 17/17 [00:00<00:00, 495.08it/s]\n"
     ]
    },
    {
     "name": "stdout",
     "output_type": "stream",
     "text": [
      "Loss Decreasing.. 0.050 >> 0.050 \n",
      "saving model...\n",
      "Epoch:424/1000.. Train Loss: 0.054.. Val Loss: 0.050.. Test Loss: 0.056.. Time: 0.03m\n"
     ]
    },
    {
     "name": "stderr",
     "output_type": "stream",
     "text": [
      "100%|██████████| 238/238 [00:01<00:00, 122.77it/s]\n",
      "100%|██████████| 85/85 [00:00<00:00, 524.52it/s]\n",
      "100%|██████████| 17/17 [00:00<00:00, 497.52it/s]\n"
     ]
    },
    {
     "name": "stdout",
     "output_type": "stream",
     "text": [
      "Epoch:425/1000.. Train Loss: 0.054.. Val Loss: 0.050.. Test Loss: 0.055.. Time: 0.04m\n"
     ]
    },
    {
     "name": "stderr",
     "output_type": "stream",
     "text": [
      "100%|██████████| 238/238 [00:01<00:00, 133.39it/s]\n",
      "100%|██████████| 85/85 [00:00<00:00, 542.07it/s]\n",
      "100%|██████████| 17/17 [00:00<00:00, 494.62it/s]\n"
     ]
    },
    {
     "name": "stdout",
     "output_type": "stream",
     "text": [
      "Epoch:426/1000.. Train Loss: 0.054.. Val Loss: 0.050.. Test Loss: 0.055.. Time: 0.03m\n"
     ]
    },
    {
     "name": "stderr",
     "output_type": "stream",
     "text": [
      "100%|██████████| 238/238 [00:01<00:00, 134.90it/s]\n",
      "100%|██████████| 85/85 [00:00<00:00, 535.14it/s]\n",
      "100%|██████████| 17/17 [00:00<00:00, 496.34it/s]\n"
     ]
    },
    {
     "name": "stdout",
     "output_type": "stream",
     "text": [
      "Epoch:427/1000.. Train Loss: 0.054.. Val Loss: 0.051.. Test Loss: 0.055.. Time: 0.03m\n"
     ]
    },
    {
     "name": "stderr",
     "output_type": "stream",
     "text": [
      "100%|██████████| 238/238 [00:01<00:00, 134.37it/s]\n",
      "100%|██████████| 85/85 [00:00<00:00, 541.20it/s]\n",
      "100%|██████████| 17/17 [00:00<00:00, 534.75it/s]\n"
     ]
    },
    {
     "name": "stdout",
     "output_type": "stream",
     "text": [
      "Epoch:428/1000.. Train Loss: 0.054.. Val Loss: 0.050.. Test Loss: 0.056.. Time: 0.03m\n"
     ]
    },
    {
     "name": "stderr",
     "output_type": "stream",
     "text": [
      "100%|██████████| 238/238 [00:01<00:00, 132.79it/s]\n",
      "100%|██████████| 85/85 [00:00<00:00, 419.30it/s]\n",
      "100%|██████████| 17/17 [00:00<00:00, 486.53it/s]\n"
     ]
    },
    {
     "name": "stdout",
     "output_type": "stream",
     "text": [
      "Epoch:429/1000.. Train Loss: 0.054.. Val Loss: 0.050.. Test Loss: 0.057.. Time: 0.03m\n"
     ]
    },
    {
     "name": "stderr",
     "output_type": "stream",
     "text": [
      "100%|██████████| 238/238 [00:01<00:00, 131.73it/s]\n",
      "100%|██████████| 85/85 [00:00<00:00, 505.49it/s]\n",
      "100%|██████████| 17/17 [00:00<00:00, 491.34it/s]\n"
     ]
    },
    {
     "name": "stdout",
     "output_type": "stream",
     "text": [
      "Epoch:430/1000.. Train Loss: 0.054.. Val Loss: 0.050.. Test Loss: 0.057.. Time: 0.03m\n"
     ]
    },
    {
     "name": "stderr",
     "output_type": "stream",
     "text": [
      "100%|██████████| 238/238 [00:01<00:00, 133.05it/s]\n",
      "100%|██████████| 85/85 [00:00<00:00, 541.35it/s]\n",
      "100%|██████████| 17/17 [00:00<00:00, 497.69it/s]\n"
     ]
    },
    {
     "name": "stdout",
     "output_type": "stream",
     "text": [
      "Epoch:431/1000.. Train Loss: 0.054.. Val Loss: 0.050.. Test Loss: 0.055.. Time: 0.03m\n"
     ]
    },
    {
     "name": "stderr",
     "output_type": "stream",
     "text": [
      "100%|██████████| 238/238 [00:01<00:00, 138.10it/s]\n",
      "100%|██████████| 85/85 [00:00<00:00, 537.60it/s]\n",
      "100%|██████████| 17/17 [00:00<00:00, 496.62it/s]\n"
     ]
    },
    {
     "name": "stdout",
     "output_type": "stream",
     "text": [
      "Epoch:432/1000.. Train Loss: 0.054.. Val Loss: 0.050.. Test Loss: 0.056.. Time: 0.03m\n"
     ]
    },
    {
     "name": "stderr",
     "output_type": "stream",
     "text": [
      "100%|██████████| 238/238 [00:01<00:00, 135.12it/s]\n",
      "100%|██████████| 85/85 [00:00<00:00, 537.22it/s]\n",
      "100%|██████████| 17/17 [00:00<00:00, 485.34it/s]\n"
     ]
    },
    {
     "name": "stdout",
     "output_type": "stream",
     "text": [
      "Epoch:433/1000.. Train Loss: 0.054.. Val Loss: 0.050.. Test Loss: 0.057.. Time: 0.03m\n"
     ]
    },
    {
     "name": "stderr",
     "output_type": "stream",
     "text": [
      "100%|██████████| 238/238 [00:01<00:00, 131.77it/s]\n",
      "100%|██████████| 85/85 [00:00<00:00, 523.14it/s]\n",
      "100%|██████████| 17/17 [00:00<00:00, 498.13it/s]\n"
     ]
    },
    {
     "name": "stdout",
     "output_type": "stream",
     "text": [
      "Epoch:434/1000.. Train Loss: 0.054.. Val Loss: 0.050.. Test Loss: 0.057.. Time: 0.03m\n"
     ]
    },
    {
     "name": "stderr",
     "output_type": "stream",
     "text": [
      "100%|██████████| 238/238 [00:01<00:00, 132.62it/s]\n",
      "100%|██████████| 85/85 [00:00<00:00, 539.62it/s]\n",
      "100%|██████████| 17/17 [00:00<00:00, 493.63it/s]\n"
     ]
    },
    {
     "name": "stdout",
     "output_type": "stream",
     "text": [
      "Epoch:435/1000.. Train Loss: 0.054.. Val Loss: 0.050.. Test Loss: 0.055.. Time: 0.03m\n"
     ]
    },
    {
     "name": "stderr",
     "output_type": "stream",
     "text": [
      "100%|██████████| 238/238 [00:01<00:00, 133.03it/s]\n",
      "100%|██████████| 85/85 [00:00<00:00, 531.03it/s]\n",
      "100%|██████████| 17/17 [00:00<00:00, 532.91it/s]\n"
     ]
    },
    {
     "name": "stdout",
     "output_type": "stream",
     "text": [
      "Epoch:436/1000.. Train Loss: 0.054.. Val Loss: 0.050.. Test Loss: 0.057.. Time: 0.03m\n"
     ]
    },
    {
     "name": "stderr",
     "output_type": "stream",
     "text": [
      "100%|██████████| 238/238 [00:01<00:00, 135.10it/s]\n",
      "100%|██████████| 85/85 [00:00<00:00, 536.49it/s]\n",
      "100%|██████████| 17/17 [00:00<00:00, 480.43it/s]\n"
     ]
    },
    {
     "name": "stdout",
     "output_type": "stream",
     "text": [
      "Epoch:437/1000.. Train Loss: 0.054.. Val Loss: 0.050.. Test Loss: 0.054.. Time: 0.03m\n"
     ]
    },
    {
     "name": "stderr",
     "output_type": "stream",
     "text": [
      "100%|██████████| 238/238 [00:01<00:00, 133.00it/s]\n",
      "100%|██████████| 85/85 [00:00<00:00, 525.45it/s]\n",
      "100%|██████████| 17/17 [00:00<00:00, 482.08it/s]\n"
     ]
    },
    {
     "name": "stdout",
     "output_type": "stream",
     "text": [
      "Epoch:438/1000.. Train Loss: 0.054.. Val Loss: 0.050.. Test Loss: 0.055.. Time: 0.03m\n"
     ]
    },
    {
     "name": "stderr",
     "output_type": "stream",
     "text": [
      "100%|██████████| 238/238 [00:01<00:00, 134.06it/s]\n",
      "100%|██████████| 85/85 [00:00<00:00, 525.56it/s]\n",
      "100%|██████████| 17/17 [00:00<00:00, 513.41it/s]\n"
     ]
    },
    {
     "name": "stdout",
     "output_type": "stream",
     "text": [
      "Epoch:439/1000.. Train Loss: 0.054.. Val Loss: 0.050.. Test Loss: 0.055.. Time: 0.03m\n"
     ]
    },
    {
     "name": "stderr",
     "output_type": "stream",
     "text": [
      "100%|██████████| 238/238 [00:01<00:00, 133.51it/s]\n",
      "100%|██████████| 85/85 [00:00<00:00, 516.30it/s]\n",
      "100%|██████████| 17/17 [00:00<00:00, 481.33it/s]\n"
     ]
    },
    {
     "name": "stdout",
     "output_type": "stream",
     "text": [
      "Epoch:440/1000.. Train Loss: 0.054.. Val Loss: 0.050.. Test Loss: 0.054.. Time: 0.03m\n"
     ]
    },
    {
     "name": "stderr",
     "output_type": "stream",
     "text": [
      "100%|██████████| 238/238 [00:01<00:00, 138.62it/s]\n",
      "100%|██████████| 85/85 [00:00<00:00, 532.57it/s]\n",
      "100%|██████████| 17/17 [00:00<00:00, 489.46it/s]\n"
     ]
    },
    {
     "name": "stdout",
     "output_type": "stream",
     "text": [
      "Epoch:441/1000.. Train Loss: 0.054.. Val Loss: 0.050.. Test Loss: 0.058.. Time: 0.03m\n"
     ]
    },
    {
     "name": "stderr",
     "output_type": "stream",
     "text": [
      "100%|██████████| 238/238 [00:01<00:00, 135.49it/s]\n",
      "100%|██████████| 85/85 [00:00<00:00, 536.24it/s]\n",
      "100%|██████████| 17/17 [00:00<00:00, 494.56it/s]\n"
     ]
    },
    {
     "name": "stdout",
     "output_type": "stream",
     "text": [
      "Epoch:442/1000.. Train Loss: 0.054.. Val Loss: 0.050.. Test Loss: 0.055.. Time: 0.03m\n"
     ]
    },
    {
     "name": "stderr",
     "output_type": "stream",
     "text": [
      "100%|██████████| 238/238 [00:01<00:00, 136.43it/s]\n",
      "100%|██████████| 85/85 [00:00<00:00, 536.63it/s]\n",
      "100%|██████████| 17/17 [00:00<00:00, 540.97it/s]\n"
     ]
    },
    {
     "name": "stdout",
     "output_type": "stream",
     "text": [
      "Epoch:443/1000.. Train Loss: 0.055.. Val Loss: 0.050.. Test Loss: 0.058.. Time: 0.03m\n"
     ]
    },
    {
     "name": "stderr",
     "output_type": "stream",
     "text": [
      "100%|██████████| 238/238 [00:01<00:00, 139.96it/s]\n",
      "100%|██████████| 85/85 [00:00<00:00, 533.69it/s]\n",
      "100%|██████████| 17/17 [00:00<00:00, 487.98it/s]\n"
     ]
    },
    {
     "name": "stdout",
     "output_type": "stream",
     "text": [
      "Epoch:444/1000.. Train Loss: 0.054.. Val Loss: 0.050.. Test Loss: 0.059.. Time: 0.03m\n"
     ]
    },
    {
     "name": "stderr",
     "output_type": "stream",
     "text": [
      "100%|██████████| 238/238 [00:01<00:00, 134.41it/s]\n",
      "100%|██████████| 85/85 [00:00<00:00, 540.69it/s]\n",
      "100%|██████████| 17/17 [00:00<00:00, 506.09it/s]"
     ]
    },
    {
     "name": "stdout",
     "output_type": "stream",
     "text": [
      "[***] end training ...\n",
      "Total time: 14.91 m\n"
     ]
    },
    {
     "name": "stderr",
     "output_type": "stream",
     "text": [
      "\n"
     ]
    }
   ],
   "source": [
    "training.fit(model, train_loader, validation_loader, test_loader)\n",
    "best_model = training.get_best_model()"
   ]
  },
  {
   "cell_type": "code",
   "execution_count": 25,
   "metadata": {
    "tags": []
   },
   "outputs": [
    {
     "data": {
      "text/plain": [
       "<matplotlib.legend.Legend at 0x2b4ec6027670>"
      ]
     },
     "execution_count": 25,
     "metadata": {},
     "output_type": "execute_result"
    },
    {
     "data": {
      "image/png": "[encoded data removed]",
      "text/plain": [
       "<Figure size 640x480 with 1 Axes>"
      ]
     },
     "metadata": {},
     "output_type": "display_data"
    }
   ],
   "source": [
    "fig, ax = plt.subplots()\n",
    "\n",
    "ax.plot(training.results['Train'], label='Train')\n",
    "ax.plot(training.results['Validation'], label='Validation')\n",
    "ax.plot(training.results['Test'], label='Test')\n",
    "ax.legend()"
   ]
  },
  {
   "cell_type": "markdown",
   "metadata": {},
   "source": [
    "## Evaluation and plotting classes"
   ]
  },
  {
   "cell_type": "code",
   "execution_count": 26,
   "metadata": {
    "tags": []
   },
   "outputs": [],
   "source": [
    "class OSAEvaluator:\n",
    "    \n",
    "    def evaluate_OSA(self, dataset, model):\n",
    "        \n",
    "        torch.cuda.empty_cache()\n",
    "        Y_real = []\n",
    "        Y_pred = []\n",
    "        for i, data in enumerate(tqdm(dataset)):\n",
    "            src, tgt, y_real = data\n",
    "            src, tgt, y_real = src.to(device), tgt.to(device), y_real.to(device)\n",
    "            y_pred = model(src, tgt)\n",
    "            Y_real.append(y_real[-1,:])\n",
    "            Y_pred.append(y_pred[-1,:])\n",
    "        \n",
    "        Y_real = torch.vstack(Y_real).cpu()\n",
    "        Y_pred = torch.vstack(Y_pred).cpu().detach()\n",
    "        print('********** OSA Evaluation summary **********')\n",
    "        print(f'OSA MSE: {mean_squared_error(Y_real, Y_pred)}')\n",
    "        print(f'OSA RMSE: {np.sqrt(mean_squared_error(Y_real, Y_pred))}')\n",
    "        print(f'OSA R2 score: {r2_score(Y_real, Y_pred)}')\n",
    "        print('********************************************')\n",
    "        return Y_real, Y_pred\n",
    "            \n",
    "class FSEvaluator:\n",
    "    \n",
    "    def evaluate_FS(self, dataset, model):\n",
    "        \n",
    "        torch.cuda.empty_cache()\n",
    "        Y_real = []\n",
    "        Y_pred = []\n",
    "        tgt_sim = None\n",
    "        for i, data in enumerate(tqdm(dataset)):\n",
    "            src, tgt, y_real = data\n",
    "            src, tgt, y_real = src.to(device), tgt.to(device), y_real.to(device)\n",
    "            if tgt_sim is None:\n",
    "                tgt_sim = tgt\n",
    "            src = src.clone()\n",
    "            src[:,-1:] = tgt_sim.clone()\n",
    "            y_pred = model(src, tgt_sim)\n",
    "            tgt_sim[:-1,:] = tgt_sim[1:,:].clone()\n",
    "            tgt_sim[-1,:] = y_pred[-1,:].clone()\n",
    "            Y_real.append(y_real[-1,:])\n",
    "            Y_pred.append(y_pred[-1,:])\n",
    "        \n",
    "        Y_real = torch.vstack(Y_real).cpu()\n",
    "        Y_pred = torch.vstack(Y_pred).cpu().detach()\n",
    "        print('*********** FS Evaluation summary **********')\n",
    "        print(f'FS MSE: {mean_squared_error(Y_real, Y_pred)}')\n",
    "        print(f'FS RMSE: {np.sqrt(mean_squared_error(Y_real, Y_pred))}')\n",
    "        print(f'FS R2 score: {r2_score(Y_real, Y_pred)}')\n",
    "        print('********************************************')\n",
    "        return Y_real, Y_pred\n",
    "    \n",
    "class Evaluator(OSAEvaluator, FSEvaluator):\n",
    "    \n",
    "    pass\n",
    "        "
   ]
  },
  {
   "cell_type": "code",
   "execution_count": 27,
   "metadata": {
    "tags": []
   },
   "outputs": [
    {
     "name": "stderr",
     "output_type": "stream",
     "text": [
      "100%|██████████| 699/699 [00:01<00:00, 569.38it/s]\n"
     ]
    },
    {
     "name": "stdout",
     "output_type": "stream",
     "text": [
      "********** OSA Evaluation summary **********\n",
      "OSA MSE: 0.053500447422266006\n",
      "OSA RMSE: 0.23130163550376892\n",
      "OSA R2 score: 0.6929597163574162\n",
      "********************************************\n"
     ]
    },
    {
     "name": "stderr",
     "output_type": "stream",
     "text": [
      "100%|██████████| 699/699 [00:01<00:00, 525.86it/s]"
     ]
    },
    {
     "name": "stdout",
     "output_type": "stream",
     "text": [
      "*********** FS Evaluation summary **********\n",
      "FS MSE: 0.37065064907073975\n",
      "FS RMSE: 0.6088108420372009\n",
      "FS R2 score: -1.1271725158867736\n",
      "********************************************\n"
     ]
    },
    {
     "name": "stderr",
     "output_type": "stream",
     "text": [
      "\n"
     ]
    }
   ],
   "source": [
    "evaluator = Evaluator()\n",
    "Y_real, Y_pred_OSA = evaluator.evaluate_OSA(test_dataset, model)\n",
    "Y_real, Y_pred_FS = evaluator.evaluate_FS(test_dataset, model)"
   ]
  },
  {
   "cell_type": "code",
   "execution_count": 28,
   "metadata": {
    "tags": []
   },
   "outputs": [
    {
     "data": {
      "image/png": "[encoded data removed]",
      "text/plain": [
       "<Figure size 1200x500 with 1 Axes>"
      ]
     },
     "metadata": {},
     "output_type": "display_data"
    }
   ],
   "source": [
    "fig, ax = plt.subplots(1,1, figsize=(12,5))\n",
    "memory = 16\n",
    "index_real = [memory + i for i in range(Y_real.shape[0])]\n",
    "ax.plot(Y_pred_OSA, label='OSA')\n",
    "ax.plot(Y_pred_FS, label='FS')\n",
    "ax.plot(Y_real, 'k--')\n",
    "ax.set_xlabel('Time (days)')\n",
    "ax.set_ylabel('Normalized Output (Liquid Rate)')\n",
    "ax.set_title('Model comparison with real data')\n",
    "#ax.fill_between(np.array(index_real), 0, torch.max(Y_real), where = np.array(index_real)<=502,\n",
    "#                facecolor ='grey', alpha = 0.25)\n",
    "\n",
    "ax.set_xlim(np.min(index_real),None)\n",
    "ax.set_ylim(0,torch.max(Y_real))\n",
    "#ax.text(25, 1.4, 'Train set', color='grey')\n",
    "ax.legend()\n",
    "\n",
    "fig.savefig(f'latex/images/multi_prediction_last_model.pdf')"
   ]
  },
  {
   "cell_type": "code",
   "execution_count": 29,
   "metadata": {},
   "outputs": [
    {
     "name": "stderr",
     "output_type": "stream",
     "text": [
      "100%|██████████| 699/699 [00:01<00:00, 610.84it/s]\n"
     ]
    },
    {
     "name": "stdout",
     "output_type": "stream",
     "text": [
      "********** OSA Evaluation summary **********\n",
      "OSA MSE: 0.05459566414356232\n",
      "OSA RMSE: 0.23365715146064758\n",
      "OSA R2 score: 0.6866742533631738\n",
      "********************************************\n"
     ]
    },
    {
     "name": "stderr",
     "output_type": "stream",
     "text": [
      "100%|██████████| 699/699 [00:01<00:00, 577.42it/s]\n"
     ]
    },
    {
     "name": "stdout",
     "output_type": "stream",
     "text": [
      "*********** FS Evaluation summary **********\n",
      "FS MSE: 0.40085843205451965\n",
      "FS RMSE: 0.6331338286399841\n",
      "FS R2 score: -1.3005354999973617\n",
      "********************************************\n"
     ]
    }
   ],
   "source": [
    "evaluator = Evaluator()\n",
    "Y_real, Y_pred_OSA = evaluator.evaluate_OSA(test_dataset, best_model)\n",
    "Y_real, Y_pred_FS = evaluator.evaluate_FS(test_dataset, best_model)"
   ]
  },
  {
   "cell_type": "code",
   "execution_count": 30,
   "metadata": {
    "tags": []
   },
   "outputs": [
    {
     "data": {
      "image/png": "[encoded data removed]",
      "text/plain": [
       "<Figure size 1200x500 with 1 Axes>"
      ]
     },
     "metadata": {},
     "output_type": "display_data"
    }
   ],
   "source": [
    "fig, ax = plt.subplots(1,1, figsize=(12,5))\n",
    "memory = 16\n",
    "index_real = [memory + i for i in range(Y_real.shape[0])]\n",
    "ax.plot(Y_pred_OSA, label='OSA')\n",
    "ax.plot(Y_pred_FS, label='FS')\n",
    "ax.plot(Y_real, 'k--')\n",
    "ax.set_xlabel('Time (days)')\n",
    "ax.set_ylabel('Normalized Output (Liquid Rate)')\n",
    "ax.set_title('Model comparison with real data')\n",
    "#ax.fill_between(np.array(index_real), 0, torch.max(Y_real), where = np.array(index_real)<=502,\n",
    "#                facecolor ='grey', alpha = 0.25)\n",
    "\n",
    "ax.set_xlim(np.min(index_real),None)\n",
    "ax.set_ylim(0,torch.max(Y_real))\n",
    "#ax.text(25, 1.4, 'Train set', color='grey')\n",
    "ax.legend()\n",
    "\n",
    "fig.savefig(f'latex/images/multi_best_model.pdf')"
   ]
  }
 ],
 "metadata": {
  "kernelspec": {
   "display_name": "raul_dl",
   "language": "python",
   "name": "raul_dl"
  },
  "language_info": {
   "codemirror_mode": {
    "name": "ipython",
    "version": 3
   },
   "file_extension": ".py",
   "mimetype": "text/x-python",
   "name": "python",
   "nbconvert_exporter": "python",
   "pygments_lexer": "ipython3",
   "version": "3.9.13"
  }
 },
 "nbformat": 4,
 "nbformat_minor": 4
}
