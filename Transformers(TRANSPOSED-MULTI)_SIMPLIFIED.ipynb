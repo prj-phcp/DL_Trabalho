{
 "cells": [
  {
   "cell_type": "code",
   "execution_count": 205,
   "metadata": {
    "tags": []
   },
   "outputs": [
    {
     "name": "stdout",
     "output_type": "stream",
     "text": [
      "Tue Jun 20 07:00:07 2023       \n",
      "+-----------------------------------------------------------------------------+\n",
      "| NVIDIA-SMI 515.43.04    Driver Version: 515.43.04    CUDA Version: 11.7     |\n",
      "|-------------------------------+----------------------+----------------------+\n",
      "| GPU  Name        Persistence-M| Bus-Id        Disp.A | Volatile Uncorr. ECC |\n",
      "| Fan  Temp  Perf  Pwr:Usage/Cap|         Memory-Usage | GPU-Util  Compute M. |\n",
      "|                               |                      |               MIG M. |\n",
      "|===============================+======================+======================|\n",
      "|   0  Tesla V100-SXM2...  Off  | 00000000:15:00.0 Off |                    0 |\n",
      "| N/A   27C    P0    51W / 300W |   3469MiB / 32768MiB |      0%      Default |\n",
      "|                               |                      |                  N/A |\n",
      "+-------------------------------+----------------------+----------------------+\n",
      "                                                                               \n",
      "+-----------------------------------------------------------------------------+\n",
      "| Processes:                                                                  |\n",
      "|  GPU   GI   CI        PID   Type   Process name                  GPU Memory |\n",
      "|        ID   ID                                                   Usage      |\n",
      "|=============================================================================|\n",
      "|    0   N/A  N/A      9790      C   .../venvs/dl_raul/bin/python     1591MiB |\n",
      "|    0   N/A  N/A      9927      C   .../venvs/dl_raul/bin/python      933MiB |\n",
      "|    0   N/A  N/A     13628      C   .../venvs/dl_raul/bin/python      943MiB |\n",
      "+-----------------------------------------------------------------------------+\n"
     ]
    }
   ],
   "source": [
    "import math\n",
    "import json\n",
    "import time\n",
    "import numpy as np\n",
    "import pandas as pd\n",
    "import matplotlib.pyplot as plt\n",
    "from tqdm import tqdm\n",
    "\n",
    "import torch\n",
    "import torch.nn as nn\n",
    "import torch.optim as optim\n",
    "from torch.utils.data import Dataset\n",
    "from torch.utils.data.sampler import SubsetRandomSampler\n",
    "\n",
    "from sklearn.preprocessing import MinMaxScaler, RobustScaler\n",
    "from sklearn.model_selection import train_test_split\n",
    "from sklearn.metrics import mean_squared_error, r2_score\n",
    "\n",
    "!nvidia-smi"
   ]
  },
  {
   "cell_type": "code",
   "execution_count": 206,
   "metadata": {
    "tags": []
   },
   "outputs": [
    {
     "name": "stdout",
     "output_type": "stream",
     "text": [
      "cuda:0\n"
     ]
    }
   ],
   "source": [
    "# Dispositivo onde tensores serão criados, armazenados e processados\n",
    "device = torch.device(\"cuda:0\" if torch.cuda.is_available() else \"cpu\")\n",
    "print(device)\n",
    "# Randon Seed fixa para resultados reprodutíveis\n",
    "seed = 42\n",
    "torch.manual_seed(seed)\n",
    "torch.cuda.manual_seed(seed)\n",
    "np.random.seed(seed)"
   ]
  },
  {
   "cell_type": "markdown",
   "metadata": {},
   "source": [
    "## Data Loader"
   ]
  },
  {
   "cell_type": "code",
   "execution_count": 207,
   "metadata": {
    "tags": []
   },
   "outputs": [],
   "source": [
    "class WellLoader(Dataset):\n",
    "    \n",
    "    def __init__(self, \n",
    "                 path, \n",
    "                 wells, \n",
    "                 var_in, \n",
    "                 var_out,\n",
    "                 normalizing_percentile=90.0,\n",
    "                 normalizing_split=0.2,\n",
    "                 normalizer=RobustScaler,\n",
    "                 max_sequence=16, \n",
    "                 step=1):\n",
    "        \n",
    "        self.path = path\n",
    "        with open(self.path + '/metadata.json', 'r') as metafile:\n",
    "            self.metadata = json.loads(metafile.read())\n",
    "        self.wells = wells\n",
    "        self.var_in = var_in\n",
    "        self.var_out = var_out\n",
    "        self.normalizing_percentile=normalizing_percentile\n",
    "        self.normalizing_split = normalizing_split\n",
    "        self.normalizer = normalizer\n",
    "        self.max_sequence = max_sequence\n",
    "        self.step = step\n",
    "        self.batches_X = None\n",
    "        self.batches_Y = None\n",
    "        self.outputs = None\n",
    "        self.normalizers = []\n",
    "        \n",
    "        indexes = self.get_wells_index(self.wells)\n",
    "        self.load_data_by_index(indexes)\n",
    "        \n",
    "    def get_wells_index(self, wells):\n",
    "        \n",
    "        indexes = []\n",
    "        for well, filt in wells:\n",
    "            indexes.extend([(meta['INDEX'], filt) for meta in self.metadata if meta['WELL'] == well])\n",
    "        return indexes\n",
    "    \n",
    "    def load_data_by_index(self, indexes):\n",
    "        \n",
    "        batches_X = []\n",
    "        batches_Y = []\n",
    "        outputs = []\n",
    "        for index, filt in indexes:\n",
    "            data = pd.read_json(f'{self.path}/{index}.json')#.reset_index()\n",
    "            # Armengue: Por liq vol para preencher o dataset\n",
    "            data['BORE_LIQ_VOL'] = data['BORE_OIL_VOL'] + data['BORE_WAT_VOL']\n",
    "            data = data[self.var_in + self.var_out].dropna().reset_index(drop=True)\n",
    "            X = data.values[filt,:]\n",
    "            Y = data[self.var_out].values[filt,:]\n",
    "            X_base, _, Y_base, _ = train_test_split(X, Y, test_size = self.normalizing_split)\n",
    "            #scaler_X = X_base.max(axis=0, keepdims=True)\n",
    "            #scaler_Y = Y_base.max(axis=0, keepdims=True)\n",
    "            #scaler_X = self.normalizer().fit(X_base)\n",
    "            #scaler_Y = self.normalizer().fit(Y_base)\n",
    "            scaler_X = np.percentile(X_base,self.normalizing_percentile,axis=0,keepdims=True)\n",
    "            scaler_Y = np.percentile(Y_base,self.normalizing_percentile,axis=0,keepdims=True)\n",
    "            self.normalizers.append((scaler_X, scaler_Y))\n",
    "            #X, Y = scaler_X.transform(X), scaler_Y.transform(Y)\n",
    "            X, Y = X / scaler_X, Y / scaler_Y\n",
    "            X, Y = torch.from_numpy(X.astype('float32')), torch.from_numpy(Y.astype('float32'))\n",
    "            output = Y[self.max_sequence::self.step]\n",
    "            #print(Y.shape)\n",
    "            #X = torch.split(X, self.max_sequence, dim= 0)\n",
    "            #Y = torch.split(Y, self.max_sequence, dim= 0)\n",
    "            X = X.unfold(0,self.max_sequence, self.step)\n",
    "            Y = Y.unfold(0,self.max_sequence, self.step)\n",
    "            batches_X.append(X[:-1,:,:])\n",
    "            batches_Y.append(Y[:-1,:,:])\n",
    "            outputs.append(Y[1:,:,:])\n",
    "            #print(X.shape)\n",
    "        self.batches_X = torch.concat(batches_X, axis=0)\n",
    "        self.batches_Y = torch.concat(batches_Y, axis=0)\n",
    "        self.outputs = torch.concat(outputs, axis=0)\n",
    "            \n",
    "    def __len__(self):\n",
    "        \n",
    "        return self.outputs.shape[0]\n",
    "    \n",
    "    def __getitem__(self, idx):\n",
    "                        \n",
    "        srcs = self.batches_X[idx,:,:]\n",
    "        trgts = self.batches_Y[idx,:,:]\n",
    "        output = self.outputs[idx,:,:]\n",
    "        \n",
    "        return srcs.permute(1,0), trgts.permute(1,0), output.permute(1,0)\n",
    "        \n",
    "        \n",
    "                 "
   ]
  },
  {
   "cell_type": "code",
   "execution_count": 208,
   "metadata": {
    "tags": []
   },
   "outputs": [
    {
     "name": "stdout",
     "output_type": "stream",
     "text": [
      "Total data for training :5424\n"
     ]
    }
   ],
   "source": [
    "path = './dataset/volve'\n",
    "wells = [\n",
    "    ('15/9-F-11', slice(15, None)),\n",
    "    ('15/9-F-12', slice(None, 800)),\n",
    "    ('15/9-F-14', slice(200, None)),\n",
    "    ('15/9-F-15 D', slice(10, 900)),\n",
    "    #('15/9-F-5', slice(None, None)),\n",
    "][::-1]\n",
    "\n",
    "#wells = [\n",
    "#    ('15/9-F-11', slice(15, 600)),\n",
    "#    ('15/9-F-12', slice(None, 800)),\n",
    "#    ('15/9-F-14', slice(1900, None)),\n",
    "#    ('15/9-F-15 D', slice(10, 900)),\n",
    "#    #('15/9-F-5', slice(None, None)),\n",
    "#][::-1]\n",
    "\n",
    "var_in = [\n",
    "        'AVG_DOWNHOLE_PRESSURE',\n",
    "        'AVG_WHP_P',\n",
    "        'AVG_CHOKE_SIZE_P',\n",
    "        'AVG_WHT_P',\n",
    "        'AVG_DOWNHOLE_TEMPERATURE',\n",
    "]\n",
    "\n",
    "var_out = [\n",
    "        #'BORE_OIL_VOL',\n",
    "        'BORE_LIQ_VOL',\n",
    "        #'BORE_GAS_VOL',\n",
    "        #'BORE_WAT_VOL',\n",
    "]\n",
    "\n",
    "\n",
    "dataset = WellLoader(path, wells, var_in, var_out, max_sequence = 16)\n",
    "print(f'Total data for training :{len(dataset)}')"
   ]
  },
  {
   "cell_type": "code",
   "execution_count": 209,
   "metadata": {
    "tags": []
   },
   "outputs": [
    {
     "name": "stdout",
     "output_type": "stream",
     "text": [
      "Total data for testing :699\n"
     ]
    }
   ],
   "source": [
    "path = './dataset/volve'\n",
    "wells = [\n",
    "    ('15/9-F-1 C', slice(28, None)),\n",
    "]\n",
    "\n",
    "var_in = [\n",
    "        'AVG_DOWNHOLE_PRESSURE',\n",
    "        'AVG_WHP_P',\n",
    "        'AVG_CHOKE_SIZE_P',\n",
    "        'AVG_WHT_P',\n",
    "        'AVG_DOWNHOLE_TEMPERATURE',\n",
    "]\n",
    "\n",
    "var_out = [\n",
    "        #'BORE_OIL_VOL',\n",
    "        'BORE_LIQ_VOL',\n",
    "        #'BORE_GAS_VOL',\n",
    "        #'BORE_WAT_VOL',\n",
    "]\n",
    "\n",
    "\n",
    "test_dataset = WellLoader(path, wells, var_in, var_out, max_sequence = 16)\n",
    "print(f'Total data for testing :{len(test_dataset)}')"
   ]
  },
  {
   "cell_type": "code",
   "execution_count": 210,
   "metadata": {
    "tags": []
   },
   "outputs": [],
   "source": [
    "class SubsetSplitter:\n",
    "    \n",
    "    def __init__(self, batch_size, validation_split, test_split, shuffle=False):\n",
    "        \n",
    "        self.batch_size = batch_size\n",
    "        self.validation_split = validation_split\n",
    "        self.test_split = test_split\n",
    "        self.shuffle = shuffle\n",
    "        \n",
    "    def __call__(self, dataset:Dataset):\n",
    "        \n",
    "        dataset_size = len(dataset)\n",
    "        indices = list(range(dataset_size))\n",
    "        validation_split = int(np.floor(self.validation_split * dataset_size))\n",
    "        test_split = int(np.floor(self.test_split * dataset_size))\n",
    "        train_split = dataset_size - validation_split - test_split\n",
    "        # Extracting test independently of others\n",
    "        test_indices = indices[train_split + validation_split:]\n",
    "        indices = indices[:train_split + validation_split]\n",
    "        if self.shuffle :\n",
    "            np.random.shuffle(indices)\n",
    "        train_indices = indices[:train_split]\n",
    "        validation_indices = indices[train_split:]\n",
    "\n",
    "        # Creating PT data samplers and loaders:\n",
    "        train_sampler = SubsetRandomSampler(train_indices)\n",
    "        valid_sampler = SubsetRandomSampler(validation_indices)\n",
    "        test_sampler = SubsetRandomSampler(test_indices)\n",
    "\n",
    "        train_loader = torch.utils.data.DataLoader(dataset, batch_size=self.batch_size, \n",
    "                                                   sampler=train_sampler)\n",
    "        validation_loader = torch.utils.data.DataLoader(dataset, batch_size=self.batch_size,\n",
    "                                                    sampler=valid_sampler)\n",
    "        test_loader = torch.utils.data.DataLoader(dataset, batch_size=self.batch_size,\n",
    "                                                    sampler=test_sampler)\n",
    "        \n",
    "        return train_loader, validation_loader, test_loader"
   ]
  },
  {
   "cell_type": "code",
   "execution_count": 211,
   "metadata": {
    "tags": []
   },
   "outputs": [],
   "source": [
    "splitter = SubsetSplitter(16, 0.25, 0.05, shuffle=True)\n",
    "train_loader, validation_loader, test_loader = splitter(dataset)"
   ]
  },
  {
   "cell_type": "markdown",
   "metadata": {},
   "source": [
    "## Model definition"
   ]
  },
  {
   "cell_type": "code",
   "execution_count": 212,
   "metadata": {},
   "outputs": [
    {
     "data": {
      "text/plain": [
       "tensor([[[0.0000, 0.0000, 0.0000, 1.4286, 0.0000, 1.4286, 0.0000, 1.4286,\n",
       "          0.0000, 0.0000],\n",
       "         [0.0000, 0.0000, 0.0000, 0.0000, 0.0000, 1.4286, 0.0000, 0.0000,\n",
       "          0.0000, 1.4286]]])"
      ]
     },
     "execution_count": 212,
     "metadata": {},
     "output_type": "execute_result"
    }
   ],
   "source": [
    "class PositionalEncoding(nn.Module):\n",
    "    def __init__(self, dim_model, dropout_p, max_len):\n",
    "        super().__init__()\n",
    "        # Modified version from: https://pytorch.org/tutorials/beginner/transformer_tutorial.html\n",
    "        # max_len determines how far the position can have an effect on a token (window)\n",
    "        \n",
    "        # Info\n",
    "        self.dropout = nn.Dropout(dropout_p)\n",
    "        \n",
    "        # Encoding - From formula\n",
    "        pos_encoding = torch.zeros(max_len, dim_model)\n",
    "        positions_list = torch.arange(0, max_len, dtype=torch.float).view(-1, 1) # 0, 1, 2, 3, 4, 5\n",
    "        division_term = torch.exp(torch.arange(0, dim_model, 2).float() * (-math.log(10000.0)) / dim_model) # 1000^(2i/dim_model)\n",
    "        \n",
    "        # PE(pos, 2i) = sin(pos/1000^(2i/dim_model))\n",
    "        pos_encoding[:, 0::2] = torch.sin(positions_list * division_term)\n",
    "        \n",
    "        # PE(pos, 2i + 1) = cos(pos/1000^(2i/dim_model))\n",
    "        pos_encoding[:, 1::2] = torch.cos(positions_list * division_term)\n",
    "        \n",
    "        # Saving buffer (same as parameter without gradients needed)\n",
    "        pos_encoding = pos_encoding.unsqueeze(0).transpose(0, 1)\n",
    "        self.register_buffer(\"pos_encoding\",pos_encoding)\n",
    "        \n",
    "    def forward(self, token_embedding: torch.tensor) -> torch.tensor:\n",
    "        # Residual connection + pos encoding\n",
    "        return self.dropout(token_embedding + self.pos_encoding[:token_embedding.size(0), :])\n",
    "    \n",
    "    \n",
    "positional_encoding = PositionalEncoding(dim_model = 10, dropout_p=0.3, max_len=1200)\n",
    "tensor = torch.zeros((1,2,10))\n",
    "tensor\n",
    "encoded = positional_encoding(tensor)\n",
    "encoded"
   ]
  },
  {
   "cell_type": "code",
   "execution_count": 213,
   "metadata": {},
   "outputs": [],
   "source": [
    "class TSTransformer(nn.Module):\n",
    "    \"\"\"\n",
    "    Model from \"A detailed guide to Pytorch's nn.Transformer() module.\", by\n",
    "    Daniel Melchor: https://medium.com/@danielmelchor/a-detailed-guide-to-pytorchs-nn-transformer-module-c80afbc9ffb1\n",
    "    \"\"\"\n",
    "    # Constructor\n",
    "    def __init__(\n",
    "        self,\n",
    "        src_dim,\n",
    "        tgt_dim,\n",
    "        src_heads,\n",
    "        num_encoder_layers,\n",
    "        dropout_p,\n",
    "        dim_feedforward =2048,\n",
    "        num_linear_layers=0,\n",
    "        norm_first=False\n",
    "    ):\n",
    "        super().__init__()\n",
    "\n",
    "        # INFO\n",
    "        self.model_type = \"Transformer\"\n",
    "        self.src_dim = src_dim\n",
    "\n",
    "        # LAYERS\n",
    "        \n",
    "        # MONTANDO O TRANSFORMER\n",
    "        # Encoder\n",
    "        encoder_layer = nn.TransformerEncoderLayer(\n",
    "            d_model=src_dim,\n",
    "            nhead=src_heads,\n",
    "            dim_feedforward=dim_feedforward,\n",
    "            dropout=dropout_p,\n",
    "            batch_first=True,\n",
    "            norm_first=norm_first\n",
    "        )\n",
    "        self.encoder = nn.TransformerEncoder(\n",
    "            encoder_layer = encoder_layer,\n",
    "            num_layers = num_encoder_layers,\n",
    "            norm=None,\n",
    "        )\n",
    "        \n",
    "        # Decoder\n",
    "        \n",
    "            \n",
    "        # Como encoder e decoder podem ter dimenoes\n",
    "        self.memory_match = nn.Linear(src_dim, tgt_dim)\n",
    "        \n",
    "        self.linear_layers = nn.ModuleList()\n",
    "        for i in range(num_linear_layers):\n",
    "            self.linear_layers.append(nn.Linear(src_dim, src_dim))\n",
    "            self.linear_layers.append(nn.ReLU6())\n",
    "        \n",
    "        \n",
    "    def forward(self, src, tgt, src_mask=None, tgt_mask=None, src_pad_mask=None, tgt_pad_mask=None, is_causal=False):\n",
    "        # Src size must be (batch_size, src sequence length)\n",
    "        # Tgt size must be (batch_size, tgt sequence length)\n",
    "        \n",
    "        \n",
    "        \n",
    "\n",
    "        # Step1 - Passing source through encoder\n",
    "        memory = self.encoder(src, \n",
    "                              mask=src_mask,\n",
    "                              src_key_padding_mask=src_pad_mask,\n",
    "                              is_causal=is_causal)\n",
    "        \n",
    "        for linear in self.linear_layers:\n",
    "            memory = linear(memory)\n",
    "            \n",
    "        transformer_out = self.memory_match(memory)\n",
    "              \n",
    "        out = transformer_out\n",
    "        \n",
    "        \n",
    "        return out\n",
    "      \n",
    "    def get_tgt_mask(self, size) -> torch.tensor:\n",
    "        # Generates a squeare matrix where the each row allows one word more to be seen\n",
    "        mask = torch.tril(torch.ones(size, size) == 1) # Lower triangular matrix\n",
    "        mask = mask.float()\n",
    "        mask = mask.masked_fill(mask == 0,float('-inf')) # Convert zeros to -inf\n",
    "        mask = mask.masked_fill(mask == 1,float(0)) # Convert ones to 0\n",
    "        \n",
    "        # EX for size=5:\n",
    "        # [[0., -inf, -inf, -inf, -inf],\n",
    "        #  [0.,   0., -inf, -inf, -inf],\n",
    "        #  [0.,   0.,   0., -inf, -inf],\n",
    "        #  [0.,   0.,   0.,   0., -inf],\n",
    "        #  [0.,   0.,   0.,   0.,   0.]]\n",
    "        \n",
    "        return mask\n",
    "    \n",
    "    def create_pad_mask(self, matrix: torch.tensor, pad_token: int) -> torch.tensor:\n",
    "        # If matrix = [1,2,3,0,0,0] where pad_token=0, the result mask is\n",
    "        # [False, False, False, True, True, True]\n",
    "        return (matrix == pad_token)"
   ]
  },
  {
   "cell_type": "code",
   "execution_count": 214,
   "metadata": {
    "tags": []
   },
   "outputs": [],
   "source": [
    "class Training:\n",
    "    \n",
    "    def __init__(self, epochs, loss, optimizer, scheduler, path, model_name='Transformer', model_size=8, early_stop=True, patience=5):\n",
    "        \n",
    "        self.loss = loss\n",
    "        self.optimizer = optimizer\n",
    "        self.scheduler = scheduler\n",
    "        self.epochs = epochs\n",
    "        self.path = path\n",
    "        self.model_name = model_name\n",
    "        self.model_size = model_size\n",
    "        self.early_stop_flag = early_stop\n",
    "        self.patience = patience\n",
    "        self.clear_results()\n",
    "        \n",
    "    def clear_results(self):\n",
    "        \n",
    "        self.results = {\n",
    "            'Train':[],\n",
    "            'Validation':[],\n",
    "            'Test':[],\n",
    "        }\n",
    "        \n",
    "    def fit(self, model, train_loader, validation_loader, test_loader):\n",
    "        \n",
    "        self.clear_results()\n",
    "        torch.cuda.empty_cache()\n",
    "        decrease = self.patience\n",
    "        not_improved = 0\n",
    "        \n",
    "        model.to(device)\n",
    "        fit_time = time.time()\n",
    "        \n",
    "        for e in range(self.epochs):\n",
    "            since = time.time()\n",
    "            running_loss = 0\n",
    "            #training loop\n",
    "            model.train()\n",
    "            self.train_loop(model, train_loader)\n",
    "            model.eval()\n",
    "            self.validation_loop(model, validation_loader)\n",
    "            self.test_loop(model, test_loader)\n",
    "            decrease, not_improved = self.early_stopping(validation_loader, decrease)\n",
    "            if not_improved == 1 and self.early_stop_flag:\n",
    "                print('[***] end training ...') \n",
    "                break\n",
    "            loss_per_training_batch = self.results['Train'][-1]\n",
    "            loss_per_validation_batch = self.results['Validation'][-1]\n",
    "            loss_per_test_batch = self.results['Test'][-1]\n",
    "            print(\"Epoch:{}/{}..\".format(e+1, self.epochs),\n",
    "                  \"Train Loss: {:.3f}..\".format(loss_per_training_batch),\n",
    "                  \"Val Loss: {:.3f}..\".format(loss_per_validation_batch),\n",
    "                  \"Test Loss: {:.3f}..\".format(loss_per_test_batch),\n",
    "                  \"Time: {:.2f}m\".format((time.time()-since)/60))\n",
    "        print('Total time: {:.2f} m' .format((time.time()- fit_time)/60))\n",
    "        \n",
    "    def train_loop(self, model, train_loader):\n",
    "        \n",
    "        mask = model.get_tgt_mask(self.model_size).to(device)\n",
    "        running_loss = 0.0\n",
    "        for i, data in enumerate(tqdm(train_loader)):\n",
    "            #training phase\n",
    "            X, y_tgt, y_out = data\n",
    "            X, y_tgt, y_out = X.to(device), y_tgt.to(device), y_out.to(device)\n",
    "            \n",
    "            output = model(X, y_tgt, src_mask=mask, tgt_mask=mask)\n",
    "            #print(X.shape, y_tgt.shape, y_out.shape, output.shape)\n",
    "            loss = self.loss(output, y_out)\n",
    "            #backward\n",
    "            loss.backward()\n",
    "            self.optimizer.step() #update weight          \n",
    "            self.optimizer.zero_grad() #reset gradient\n",
    "            \n",
    "            #step the learning rate\n",
    "            if not self.scheduler is None:\n",
    "                self.scheduler.step()\n",
    "            running_loss += loss.item()\n",
    "        \n",
    "        self.results['Train'].append(running_loss/len(train_loader))\n",
    "    \n",
    "    \n",
    "    def validation_loop(self, model, validation_loader):\n",
    "        \n",
    "        mask = model.get_tgt_mask(self.model_size).to(device)\n",
    "        running_loss = 0.0\n",
    "        with torch.no_grad():\n",
    "            for i, data in enumerate(tqdm(validation_loader)):\n",
    "                #training phase\n",
    "                X, y_tgt, y_out = data\n",
    "                X, y_tgt, y_out = X.to(device), y_tgt.to(device), y_out.to(device)\n",
    "                \n",
    "                output = model(X, y_tgt, src_mask=mask, tgt_mask=mask)\n",
    "                loss = self.loss(output, y_out)\n",
    "                \n",
    "                running_loss += loss.item()\n",
    "        \n",
    "        self.results['Validation'].append(running_loss/len(validation_loader))\n",
    "        \n",
    "    def test_loop(self, model, test_loader):\n",
    "        \n",
    "        mask = model.get_tgt_mask(self.model_size).to(device)\n",
    "        running_loss = 0.0\n",
    "        with torch.no_grad():\n",
    "            for i, data in enumerate(tqdm(test_loader)):\n",
    "                #training phase\n",
    "                X, y_tgt, y_out = data\n",
    "                X, y_tgt, y_out = X.to(device), y_tgt.to(device), y_out.to(device)\n",
    "                \n",
    "                output = model(X, y_tgt, src_mask=mask, tgt_mask=mask)\n",
    "                loss = self.loss(output, y_out)\n",
    "                \n",
    "                running_loss += loss.item()\n",
    "        \n",
    "        self.results['Test'].append(running_loss/len(test_loader))\n",
    "        \n",
    "    def early_stopping(self, validation_loader, decrease):\n",
    "        \n",
    "        loss_per_validation_batch = self.results['Validation'][-1]\n",
    "        min_loss = np.min(self.results['Validation'][:-1] + [np.inf])\n",
    "        if min_loss >= self.results['Validation'][-1]:\n",
    "            print('Loss Decreasing.. {:.3f} >> {:.3f} '.format(min_loss, loss_per_validation_batch))\n",
    "            decrease = self.patience\n",
    "            print('saving model...')\n",
    "            torch.save(model, self.path + f'/{self.model_name}.pt')\n",
    "        else:\n",
    "            decrease -= 1\n",
    "        if decrease < 0:     \n",
    "                not_improved = 1\n",
    "        else:\n",
    "            not_improved = 0\n",
    "        return decrease, not_improved\n",
    "    \n",
    "    def get_best_model(self):\n",
    "        \n",
    "        model = torch.load(self.path + f'/{self.model_name}.pt')\n",
    "        return model\n",
    "            \n",
    "            "
   ]
  },
  {
   "cell_type": "code",
   "execution_count": 215,
   "metadata": {
    "tags": []
   },
   "outputs": [
    {
     "name": "stdout",
     "output_type": "stream",
     "text": [
      "Number of parameters: 1423\n",
      "TSTransformer(\n",
      "  (encoder): TransformerEncoder(\n",
      "    (layers): ModuleList(\n",
      "      (0-3): 4 x TransformerEncoderLayer(\n",
      "        (self_attn): MultiheadAttention(\n",
      "          (out_proj): NonDynamicallyQuantizableLinear(in_features=6, out_features=6, bias=True)\n",
      "        )\n",
      "        (linear1): Linear(in_features=6, out_features=12, bias=True)\n",
      "        (dropout): Dropout(p=0.1, inplace=False)\n",
      "        (linear2): Linear(in_features=12, out_features=6, bias=True)\n",
      "        (norm1): LayerNorm((6,), eps=1e-05, elementwise_affine=True)\n",
      "        (norm2): LayerNorm((6,), eps=1e-05, elementwise_affine=True)\n",
      "        (dropout1): Dropout(p=0.1, inplace=False)\n",
      "        (dropout2): Dropout(p=0.1, inplace=False)\n",
      "      )\n",
      "    )\n",
      "  )\n",
      "  (memory_match): Linear(in_features=6, out_features=1, bias=True)\n",
      "  (linear_layers): ModuleList()\n",
      ")\n"
     ]
    }
   ],
   "source": [
    "model = TSTransformer(\n",
    "    src_dim=6,\n",
    "    tgt_dim=1,\n",
    "    src_heads=1,\n",
    "    num_encoder_layers=4,\n",
    "    dropout_p=0.1,\n",
    "    dim_feedforward =12,\n",
    "    num_linear_layers=0,\n",
    "    norm_first=False,\n",
    ").to(device)\n",
    "\n",
    "print(f'Number of parameters: {sum(p.numel() for p in model.parameters() if p.requires_grad)}')\n",
    "print(model)\n",
    "\n",
    "lr_ = 5e-4\n",
    "epoch = 1000\n",
    "weight_decay = 1e-4\n",
    "path = '.'\n",
    "model_name = 'TRANSPOSED-MULTI-SIMP'\n",
    "\n",
    "loss = torch.nn.MSELoss()\n",
    "#optimizer = torch.optim.Adam(model.parameters(), lr=lr_)\n",
    "#optimizer = torch.optim.SGD(model.parameters(), lr=lr_)\n",
    "optimizer = torch.optim.AdamW(model.parameters(), lr=lr_, \n",
    "                              weight_decay=weight_decay)\n",
    "\n",
    "sched = None\n",
    "sched = torch.optim.lr_scheduler.OneCycleLR(optimizer, lr_, epochs=epoch,\n",
    "                                            steps_per_epoch=len(train_loader))\n",
    "\n",
    "training = Training(epoch, loss, optimizer, sched, model_name=model_name, \n",
    "                    model_size = dataset.max_sequence, path=path, \n",
    "                    early_stop=True, patience=20)"
   ]
  },
  {
   "cell_type": "code",
   "execution_count": 216,
   "metadata": {
    "tags": []
   },
   "outputs": [
    {
     "name": "stderr",
     "output_type": "stream",
     "text": [
      "100%|██████████| 238/238 [00:01<00:00, 129.21it/s]\n",
      "  0%|          | 0/85 [00:00<?, ?it/s]/projetos/c5ef/venvs/dl_raul/lib64/python3.9/site-packages/torch/nn/modules/activation.py:1160: UserWarning: Converting mask without torch.bool dtype to bool; this will negatively affect performance. Prefer to use a boolean mask directly. (Triggered internally at ../aten/src/ATen/native/transformers/attention.cpp:150.)\n",
      "  return torch._native_multi_head_attention(\n",
      "100%|██████████| 85/85 [00:00<00:00, 525.73it/s]\n",
      "100%|██████████| 17/17 [00:00<00:00, 494.54it/s]\n"
     ]
    },
    {
     "name": "stdout",
     "output_type": "stream",
     "text": [
      "Loss Decreasing.. inf >> 0.355 \n",
      "saving model...\n",
      "Epoch:1/1000.. Train Loss: 0.420.. Val Loss: 0.355.. Test Loss: 0.486.. Time: 0.03m\n"
     ]
    },
    {
     "name": "stderr",
     "output_type": "stream",
     "text": [
      "100%|██████████| 238/238 [00:01<00:00, 132.94it/s]\n",
      "100%|██████████| 85/85 [00:00<00:00, 525.13it/s]\n",
      "100%|██████████| 17/17 [00:00<00:00, 481.73it/s]\n"
     ]
    },
    {
     "name": "stdout",
     "output_type": "stream",
     "text": [
      "Loss Decreasing.. 0.355 >> 0.276 \n",
      "saving model...\n",
      "Epoch:2/1000.. Train Loss: 0.327.. Val Loss: 0.276.. Test Loss: 0.362.. Time: 0.03m\n"
     ]
    },
    {
     "name": "stderr",
     "output_type": "stream",
     "text": [
      "100%|██████████| 238/238 [00:01<00:00, 133.30it/s]\n",
      "100%|██████████| 85/85 [00:00<00:00, 514.53it/s]\n",
      "100%|██████████| 17/17 [00:00<00:00, 478.95it/s]\n"
     ]
    },
    {
     "name": "stdout",
     "output_type": "stream",
     "text": [
      "Loss Decreasing.. 0.276 >> 0.227 \n",
      "saving model...\n",
      "Epoch:3/1000.. Train Loss: 0.266.. Val Loss: 0.227.. Test Loss: 0.276.. Time: 0.03m\n"
     ]
    },
    {
     "name": "stderr",
     "output_type": "stream",
     "text": [
      "100%|██████████| 238/238 [00:01<00:00, 133.12it/s]\n",
      "100%|██████████| 85/85 [00:00<00:00, 530.88it/s]\n",
      "100%|██████████| 17/17 [00:00<00:00, 487.87it/s]\n"
     ]
    },
    {
     "name": "stdout",
     "output_type": "stream",
     "text": [
      "Loss Decreasing.. 0.227 >> 0.200 \n",
      "saving model...\n",
      "Epoch:4/1000.. Train Loss: 0.231.. Val Loss: 0.200.. Test Loss: 0.219.. Time: 0.03m\n"
     ]
    },
    {
     "name": "stderr",
     "output_type": "stream",
     "text": [
      "100%|██████████| 238/238 [00:01<00:00, 132.41it/s]\n",
      "100%|██████████| 85/85 [00:00<00:00, 527.61it/s]\n",
      "100%|██████████| 17/17 [00:00<00:00, 508.15it/s]\n"
     ]
    },
    {
     "name": "stdout",
     "output_type": "stream",
     "text": [
      "Loss Decreasing.. 0.200 >> 0.187 \n",
      "saving model...\n",
      "Epoch:5/1000.. Train Loss: 0.212.. Val Loss: 0.187.. Test Loss: 0.185.. Time: 0.03m\n"
     ]
    },
    {
     "name": "stderr",
     "output_type": "stream",
     "text": [
      "100%|██████████| 238/238 [00:01<00:00, 132.34it/s]\n",
      "100%|██████████| 85/85 [00:00<00:00, 523.58it/s]\n",
      "100%|██████████| 17/17 [00:00<00:00, 485.57it/s]\n"
     ]
    },
    {
     "name": "stdout",
     "output_type": "stream",
     "text": [
      "Loss Decreasing.. 0.187 >> 0.180 \n",
      "saving model...\n",
      "Epoch:6/1000.. Train Loss: 0.204.. Val Loss: 0.180.. Test Loss: 0.165.. Time: 0.03m\n"
     ]
    },
    {
     "name": "stderr",
     "output_type": "stream",
     "text": [
      "100%|██████████| 238/238 [00:01<00:00, 139.89it/s]\n",
      "100%|██████████| 85/85 [00:00<00:00, 522.86it/s]\n",
      "100%|██████████| 17/17 [00:00<00:00, 486.98it/s]\n"
     ]
    },
    {
     "name": "stdout",
     "output_type": "stream",
     "text": [
      "Loss Decreasing.. 0.180 >> 0.177 \n",
      "saving model...\n",
      "Epoch:7/1000.. Train Loss: 0.199.. Val Loss: 0.177.. Test Loss: 0.154.. Time: 0.03m\n"
     ]
    },
    {
     "name": "stderr",
     "output_type": "stream",
     "text": [
      "100%|██████████| 238/238 [00:01<00:00, 139.42it/s]\n",
      "100%|██████████| 85/85 [00:00<00:00, 521.66it/s]\n",
      "100%|██████████| 17/17 [00:00<00:00, 484.11it/s]\n"
     ]
    },
    {
     "name": "stdout",
     "output_type": "stream",
     "text": [
      "Loss Decreasing.. 0.177 >> 0.174 \n",
      "saving model...\n",
      "Epoch:8/1000.. Train Loss: 0.195.. Val Loss: 0.174.. Test Loss: 0.149.. Time: 0.03m\n"
     ]
    },
    {
     "name": "stderr",
     "output_type": "stream",
     "text": [
      "100%|██████████| 238/238 [00:01<00:00, 140.44it/s]\n",
      "100%|██████████| 85/85 [00:00<00:00, 533.49it/s]\n",
      "100%|██████████| 17/17 [00:00<00:00, 476.04it/s]\n"
     ]
    },
    {
     "name": "stdout",
     "output_type": "stream",
     "text": [
      "Loss Decreasing.. 0.174 >> 0.172 \n",
      "saving model...\n",
      "Epoch:9/1000.. Train Loss: 0.193.. Val Loss: 0.172.. Test Loss: 0.145.. Time: 0.03m\n"
     ]
    },
    {
     "name": "stderr",
     "output_type": "stream",
     "text": [
      "100%|██████████| 238/238 [00:01<00:00, 129.97it/s]\n",
      "100%|██████████| 85/85 [00:00<00:00, 524.58it/s]\n",
      "100%|██████████| 17/17 [00:00<00:00, 475.43it/s]\n"
     ]
    },
    {
     "name": "stdout",
     "output_type": "stream",
     "text": [
      "Loss Decreasing.. 0.172 >> 0.170 \n",
      "saving model...\n",
      "Epoch:10/1000.. Train Loss: 0.190.. Val Loss: 0.170.. Test Loss: 0.143.. Time: 0.03m\n"
     ]
    },
    {
     "name": "stderr",
     "output_type": "stream",
     "text": [
      "100%|██████████| 238/238 [00:01<00:00, 139.94it/s]\n",
      "100%|██████████| 85/85 [00:00<00:00, 543.92it/s]\n",
      "100%|██████████| 17/17 [00:00<00:00, 489.72it/s]\n"
     ]
    },
    {
     "name": "stdout",
     "output_type": "stream",
     "text": [
      "Loss Decreasing.. 0.170 >> 0.166 \n",
      "saving model...\n",
      "Epoch:11/1000.. Train Loss: 0.187.. Val Loss: 0.166.. Test Loss: 0.140.. Time: 0.03m\n"
     ]
    },
    {
     "name": "stderr",
     "output_type": "stream",
     "text": [
      "100%|██████████| 238/238 [00:01<00:00, 133.79it/s]\n",
      "100%|██████████| 85/85 [00:00<00:00, 520.90it/s]\n",
      "100%|██████████| 17/17 [00:00<00:00, 494.80it/s]\n"
     ]
    },
    {
     "name": "stdout",
     "output_type": "stream",
     "text": [
      "Loss Decreasing.. 0.166 >> 0.161 \n",
      "saving model...\n",
      "Epoch:12/1000.. Train Loss: 0.182.. Val Loss: 0.161.. Test Loss: 0.136.. Time: 0.03m\n"
     ]
    },
    {
     "name": "stderr",
     "output_type": "stream",
     "text": [
      "100%|██████████| 238/238 [00:01<00:00, 131.25it/s]\n",
      "100%|██████████| 85/85 [00:00<00:00, 532.64it/s]\n",
      "100%|██████████| 17/17 [00:00<00:00, 520.73it/s]\n"
     ]
    },
    {
     "name": "stdout",
     "output_type": "stream",
     "text": [
      "Loss Decreasing.. 0.161 >> 0.152 \n",
      "saving model...\n",
      "Epoch:13/1000.. Train Loss: 0.176.. Val Loss: 0.152.. Test Loss: 0.130.. Time: 0.03m\n"
     ]
    },
    {
     "name": "stderr",
     "output_type": "stream",
     "text": [
      "100%|██████████| 238/238 [00:01<00:00, 132.92it/s]\n",
      "100%|██████████| 85/85 [00:00<00:00, 536.07it/s]\n",
      "100%|██████████| 17/17 [00:00<00:00, 493.24it/s]\n"
     ]
    },
    {
     "name": "stdout",
     "output_type": "stream",
     "text": [
      "Loss Decreasing.. 0.152 >> 0.138 \n",
      "saving model...\n",
      "Epoch:14/1000.. Train Loss: 0.167.. Val Loss: 0.138.. Test Loss: 0.118.. Time: 0.03m\n"
     ]
    },
    {
     "name": "stderr",
     "output_type": "stream",
     "text": [
      "100%|██████████| 238/238 [00:01<00:00, 133.83it/s]\n",
      "100%|██████████| 85/85 [00:00<00:00, 533.69it/s]\n",
      "100%|██████████| 17/17 [00:00<00:00, 490.61it/s]\n"
     ]
    },
    {
     "name": "stdout",
     "output_type": "stream",
     "text": [
      "Loss Decreasing.. 0.138 >> 0.119 \n",
      "saving model...\n",
      "Epoch:15/1000.. Train Loss: 0.153.. Val Loss: 0.119.. Test Loss: 0.100.. Time: 0.03m\n"
     ]
    },
    {
     "name": "stderr",
     "output_type": "stream",
     "text": [
      "100%|██████████| 238/238 [00:01<00:00, 131.65it/s]\n",
      "100%|██████████| 85/85 [00:00<00:00, 536.21it/s]\n",
      "100%|██████████| 17/17 [00:00<00:00, 485.09it/s]\n"
     ]
    },
    {
     "name": "stdout",
     "output_type": "stream",
     "text": [
      "Loss Decreasing.. 0.119 >> 0.102 \n",
      "saving model...\n",
      "Epoch:16/1000.. Train Loss: 0.136.. Val Loss: 0.102.. Test Loss: 0.082.. Time: 0.03m\n"
     ]
    },
    {
     "name": "stderr",
     "output_type": "stream",
     "text": [
      "100%|██████████| 238/238 [00:01<00:00, 133.43it/s]\n",
      "100%|██████████| 85/85 [00:00<00:00, 525.02it/s]\n",
      "100%|██████████| 17/17 [00:00<00:00, 491.58it/s]\n"
     ]
    },
    {
     "name": "stdout",
     "output_type": "stream",
     "text": [
      "Loss Decreasing.. 0.102 >> 0.092 \n",
      "saving model...\n",
      "Epoch:17/1000.. Train Loss: 0.123.. Val Loss: 0.092.. Test Loss: 0.069.. Time: 0.03m\n"
     ]
    },
    {
     "name": "stderr",
     "output_type": "stream",
     "text": [
      "100%|██████████| 238/238 [00:01<00:00, 132.56it/s]\n",
      "100%|██████████| 85/85 [00:00<00:00, 522.83it/s]\n",
      "100%|██████████| 17/17 [00:00<00:00, 479.55it/s]\n"
     ]
    },
    {
     "name": "stdout",
     "output_type": "stream",
     "text": [
      "Loss Decreasing.. 0.092 >> 0.087 \n",
      "saving model...\n",
      "Epoch:18/1000.. Train Loss: 0.114.. Val Loss: 0.087.. Test Loss: 0.061.. Time: 0.03m\n"
     ]
    },
    {
     "name": "stderr",
     "output_type": "stream",
     "text": [
      "100%|██████████| 238/238 [00:01<00:00, 132.19it/s]\n",
      "100%|██████████| 85/85 [00:00<00:00, 528.44it/s]\n",
      "100%|██████████| 17/17 [00:00<00:00, 513.40it/s]\n"
     ]
    },
    {
     "name": "stdout",
     "output_type": "stream",
     "text": [
      "Loss Decreasing.. 0.087 >> 0.084 \n",
      "saving model...\n",
      "Epoch:19/1000.. Train Loss: 0.108.. Val Loss: 0.084.. Test Loss: 0.058.. Time: 0.03m\n"
     ]
    },
    {
     "name": "stderr",
     "output_type": "stream",
     "text": [
      "100%|██████████| 238/238 [00:01<00:00, 133.66it/s]\n",
      "100%|██████████| 85/85 [00:00<00:00, 523.52it/s]\n",
      "100%|██████████| 17/17 [00:00<00:00, 493.46it/s]\n"
     ]
    },
    {
     "name": "stdout",
     "output_type": "stream",
     "text": [
      "Loss Decreasing.. 0.084 >> 0.082 \n",
      "saving model...\n",
      "Epoch:20/1000.. Train Loss: 0.104.. Val Loss: 0.082.. Test Loss: 0.056.. Time: 0.03m\n"
     ]
    },
    {
     "name": "stderr",
     "output_type": "stream",
     "text": [
      "100%|██████████| 238/238 [00:01<00:00, 131.56it/s]\n",
      "100%|██████████| 85/85 [00:00<00:00, 533.20it/s]\n",
      "100%|██████████| 17/17 [00:00<00:00, 530.28it/s]\n"
     ]
    },
    {
     "name": "stdout",
     "output_type": "stream",
     "text": [
      "Loss Decreasing.. 0.082 >> 0.081 \n",
      "saving model...\n",
      "Epoch:21/1000.. Train Loss: 0.100.. Val Loss: 0.081.. Test Loss: 0.055.. Time: 0.03m\n"
     ]
    },
    {
     "name": "stderr",
     "output_type": "stream",
     "text": [
      "100%|██████████| 238/238 [00:01<00:00, 133.31it/s]\n",
      "100%|██████████| 85/85 [00:00<00:00, 534.99it/s]\n",
      "100%|██████████| 17/17 [00:00<00:00, 494.13it/s]\n"
     ]
    },
    {
     "name": "stdout",
     "output_type": "stream",
     "text": [
      "Loss Decreasing.. 0.081 >> 0.080 \n",
      "saving model...\n",
      "Epoch:22/1000.. Train Loss: 0.098.. Val Loss: 0.080.. Test Loss: 0.055.. Time: 0.03m\n"
     ]
    },
    {
     "name": "stderr",
     "output_type": "stream",
     "text": [
      "100%|██████████| 238/238 [00:01<00:00, 135.98it/s]\n",
      "100%|██████████| 85/85 [00:00<00:00, 535.41it/s]\n",
      "100%|██████████| 17/17 [00:00<00:00, 484.56it/s]\n"
     ]
    },
    {
     "name": "stdout",
     "output_type": "stream",
     "text": [
      "Loss Decreasing.. 0.080 >> 0.079 \n",
      "saving model...\n",
      "Epoch:23/1000.. Train Loss: 0.096.. Val Loss: 0.079.. Test Loss: 0.054.. Time: 0.03m\n"
     ]
    },
    {
     "name": "stderr",
     "output_type": "stream",
     "text": [
      "100%|██████████| 238/238 [00:01<00:00, 131.97it/s]\n",
      "100%|██████████| 85/85 [00:00<00:00, 535.05it/s]\n",
      "100%|██████████| 17/17 [00:00<00:00, 490.90it/s]\n"
     ]
    },
    {
     "name": "stdout",
     "output_type": "stream",
     "text": [
      "Loss Decreasing.. 0.079 >> 0.078 \n",
      "saving model...\n",
      "Epoch:24/1000.. Train Loss: 0.094.. Val Loss: 0.078.. Test Loss: 0.053.. Time: 0.03m\n"
     ]
    },
    {
     "name": "stderr",
     "output_type": "stream",
     "text": [
      "100%|██████████| 238/238 [00:01<00:00, 136.46it/s]\n",
      "100%|██████████| 85/85 [00:00<00:00, 536.94it/s]\n",
      "100%|██████████| 17/17 [00:00<00:00, 487.25it/s]\n"
     ]
    },
    {
     "name": "stdout",
     "output_type": "stream",
     "text": [
      "Loss Decreasing.. 0.078 >> 0.078 \n",
      "saving model...\n",
      "Epoch:25/1000.. Train Loss: 0.092.. Val Loss: 0.078.. Test Loss: 0.054.. Time: 0.03m\n"
     ]
    },
    {
     "name": "stderr",
     "output_type": "stream",
     "text": [
      "100%|██████████| 238/238 [00:01<00:00, 132.38it/s]\n",
      "100%|██████████| 85/85 [00:00<00:00, 508.42it/s]\n",
      "100%|██████████| 17/17 [00:00<00:00, 475.79it/s]\n"
     ]
    },
    {
     "name": "stdout",
     "output_type": "stream",
     "text": [
      "Loss Decreasing.. 0.078 >> 0.077 \n",
      "saving model...\n",
      "Epoch:26/1000.. Train Loss: 0.090.. Val Loss: 0.077.. Test Loss: 0.053.. Time: 0.03m\n"
     ]
    },
    {
     "name": "stderr",
     "output_type": "stream",
     "text": [
      "100%|██████████| 238/238 [00:01<00:00, 129.87it/s]\n",
      "100%|██████████| 85/85 [00:00<00:00, 487.25it/s]\n",
      "100%|██████████| 17/17 [00:00<00:00, 495.38it/s]\n"
     ]
    },
    {
     "name": "stdout",
     "output_type": "stream",
     "text": [
      "Loss Decreasing.. 0.077 >> 0.076 \n",
      "saving model...\n",
      "Epoch:27/1000.. Train Loss: 0.089.. Val Loss: 0.076.. Test Loss: 0.052.. Time: 0.03m\n"
     ]
    },
    {
     "name": "stderr",
     "output_type": "stream",
     "text": [
      "100%|██████████| 238/238 [00:01<00:00, 137.95it/s]\n",
      "100%|██████████| 85/85 [00:00<00:00, 534.58it/s]\n",
      "100%|██████████| 17/17 [00:00<00:00, 479.05it/s]\n"
     ]
    },
    {
     "name": "stdout",
     "output_type": "stream",
     "text": [
      "Loss Decreasing.. 0.076 >> 0.075 \n",
      "saving model...\n",
      "Epoch:28/1000.. Train Loss: 0.088.. Val Loss: 0.075.. Test Loss: 0.053.. Time: 0.03m\n"
     ]
    },
    {
     "name": "stderr",
     "output_type": "stream",
     "text": [
      "100%|██████████| 238/238 [00:01<00:00, 134.24it/s]\n",
      "100%|██████████| 85/85 [00:00<00:00, 504.16it/s]\n",
      "100%|██████████| 17/17 [00:00<00:00, 492.87it/s]\n"
     ]
    },
    {
     "name": "stdout",
     "output_type": "stream",
     "text": [
      "Loss Decreasing.. 0.075 >> 0.074 \n",
      "saving model...\n",
      "Epoch:29/1000.. Train Loss: 0.086.. Val Loss: 0.074.. Test Loss: 0.052.. Time: 0.03m\n"
     ]
    },
    {
     "name": "stderr",
     "output_type": "stream",
     "text": [
      "100%|██████████| 238/238 [00:01<00:00, 138.22it/s]\n",
      "100%|██████████| 85/85 [00:00<00:00, 529.05it/s]\n",
      "100%|██████████| 17/17 [00:00<00:00, 487.45it/s]\n"
     ]
    },
    {
     "name": "stdout",
     "output_type": "stream",
     "text": [
      "Loss Decreasing.. 0.074 >> 0.073 \n",
      "saving model...\n",
      "Epoch:30/1000.. Train Loss: 0.085.. Val Loss: 0.073.. Test Loss: 0.052.. Time: 0.03m\n"
     ]
    },
    {
     "name": "stderr",
     "output_type": "stream",
     "text": [
      "100%|██████████| 238/238 [00:01<00:00, 134.72it/s]\n",
      "100%|██████████| 85/85 [00:00<00:00, 536.17it/s]\n",
      "100%|██████████| 17/17 [00:00<00:00, 484.08it/s]\n"
     ]
    },
    {
     "name": "stdout",
     "output_type": "stream",
     "text": [
      "Loss Decreasing.. 0.073 >> 0.073 \n",
      "saving model...\n",
      "Epoch:31/1000.. Train Loss: 0.084.. Val Loss: 0.073.. Test Loss: 0.052.. Time: 0.03m\n"
     ]
    },
    {
     "name": "stderr",
     "output_type": "stream",
     "text": [
      "100%|██████████| 238/238 [00:01<00:00, 133.65it/s]\n",
      "100%|██████████| 85/85 [00:00<00:00, 530.88it/s]\n",
      "100%|██████████| 17/17 [00:00<00:00, 510.51it/s]\n"
     ]
    },
    {
     "name": "stdout",
     "output_type": "stream",
     "text": [
      "Loss Decreasing.. 0.073 >> 0.072 \n",
      "saving model...\n",
      "Epoch:32/1000.. Train Loss: 0.083.. Val Loss: 0.072.. Test Loss: 0.052.. Time: 0.03m\n"
     ]
    },
    {
     "name": "stderr",
     "output_type": "stream",
     "text": [
      "100%|██████████| 238/238 [00:01<00:00, 125.16it/s]\n",
      "100%|██████████| 85/85 [00:00<00:00, 537.24it/s]\n",
      "100%|██████████| 17/17 [00:00<00:00, 499.23it/s]\n"
     ]
    },
    {
     "name": "stdout",
     "output_type": "stream",
     "text": [
      "Loss Decreasing.. 0.072 >> 0.071 \n",
      "saving model...\n",
      "Epoch:33/1000.. Train Loss: 0.082.. Val Loss: 0.071.. Test Loss: 0.051.. Time: 0.04m\n"
     ]
    },
    {
     "name": "stderr",
     "output_type": "stream",
     "text": [
      "100%|██████████| 238/238 [00:01<00:00, 133.98it/s]\n",
      "100%|██████████| 85/85 [00:00<00:00, 540.46it/s]\n",
      "100%|██████████| 17/17 [00:00<00:00, 496.52it/s]\n"
     ]
    },
    {
     "name": "stdout",
     "output_type": "stream",
     "text": [
      "Loss Decreasing.. 0.071 >> 0.070 \n",
      "saving model...\n",
      "Epoch:34/1000.. Train Loss: 0.082.. Val Loss: 0.070.. Test Loss: 0.051.. Time: 0.03m\n"
     ]
    },
    {
     "name": "stderr",
     "output_type": "stream",
     "text": [
      "100%|██████████| 238/238 [00:01<00:00, 135.66it/s]\n",
      "100%|██████████| 85/85 [00:00<00:00, 525.02it/s]\n",
      "100%|██████████| 17/17 [00:00<00:00, 476.63it/s]\n"
     ]
    },
    {
     "name": "stdout",
     "output_type": "stream",
     "text": [
      "Loss Decreasing.. 0.070 >> 0.070 \n",
      "saving model...\n",
      "Epoch:35/1000.. Train Loss: 0.080.. Val Loss: 0.070.. Test Loss: 0.050.. Time: 0.03m\n"
     ]
    },
    {
     "name": "stderr",
     "output_type": "stream",
     "text": [
      "100%|██████████| 238/238 [00:01<00:00, 133.72it/s]\n",
      "100%|██████████| 85/85 [00:00<00:00, 525.00it/s]\n",
      "100%|██████████| 17/17 [00:00<00:00, 495.69it/s]\n"
     ]
    },
    {
     "name": "stdout",
     "output_type": "stream",
     "text": [
      "Loss Decreasing.. 0.070 >> 0.069 \n",
      "saving model...\n",
      "Epoch:36/1000.. Train Loss: 0.079.. Val Loss: 0.069.. Test Loss: 0.050.. Time: 0.03m\n"
     ]
    },
    {
     "name": "stderr",
     "output_type": "stream",
     "text": [
      "100%|██████████| 238/238 [00:01<00:00, 129.81it/s]\n",
      "100%|██████████| 85/85 [00:00<00:00, 533.98it/s]\n",
      "100%|██████████| 17/17 [00:00<00:00, 489.49it/s]\n"
     ]
    },
    {
     "name": "stdout",
     "output_type": "stream",
     "text": [
      "Loss Decreasing.. 0.069 >> 0.069 \n",
      "saving model...\n",
      "Epoch:37/1000.. Train Loss: 0.079.. Val Loss: 0.069.. Test Loss: 0.050.. Time: 0.03m\n"
     ]
    },
    {
     "name": "stderr",
     "output_type": "stream",
     "text": [
      "100%|██████████| 238/238 [00:01<00:00, 132.29it/s]\n",
      "100%|██████████| 85/85 [00:00<00:00, 531.29it/s]\n",
      "100%|██████████| 17/17 [00:00<00:00, 492.26it/s]\n"
     ]
    },
    {
     "name": "stdout",
     "output_type": "stream",
     "text": [
      "Loss Decreasing.. 0.069 >> 0.068 \n",
      "saving model...\n",
      "Epoch:38/1000.. Train Loss: 0.078.. Val Loss: 0.068.. Test Loss: 0.049.. Time: 0.03m\n"
     ]
    },
    {
     "name": "stderr",
     "output_type": "stream",
     "text": [
      "100%|██████████| 238/238 [00:01<00:00, 132.68it/s]\n",
      "100%|██████████| 85/85 [00:00<00:00, 532.02it/s]\n",
      "100%|██████████| 17/17 [00:00<00:00, 479.17it/s]\n"
     ]
    },
    {
     "name": "stdout",
     "output_type": "stream",
     "text": [
      "Loss Decreasing.. 0.068 >> 0.068 \n",
      "saving model...\n",
      "Epoch:39/1000.. Train Loss: 0.077.. Val Loss: 0.068.. Test Loss: 0.049.. Time: 0.03m\n"
     ]
    },
    {
     "name": "stderr",
     "output_type": "stream",
     "text": [
      "100%|██████████| 238/238 [00:01<00:00, 136.48it/s]\n",
      "100%|██████████| 85/85 [00:00<00:00, 529.68it/s]\n",
      "100%|██████████| 17/17 [00:00<00:00, 492.09it/s]\n"
     ]
    },
    {
     "name": "stdout",
     "output_type": "stream",
     "text": [
      "Loss Decreasing.. 0.068 >> 0.067 \n",
      "saving model...\n",
      "Epoch:40/1000.. Train Loss: 0.076.. Val Loss: 0.067.. Test Loss: 0.049.. Time: 0.03m\n"
     ]
    },
    {
     "name": "stderr",
     "output_type": "stream",
     "text": [
      "100%|██████████| 238/238 [00:01<00:00, 136.14it/s]\n",
      "100%|██████████| 85/85 [00:00<00:00, 532.67it/s]\n",
      "100%|██████████| 17/17 [00:00<00:00, 528.76it/s]\n"
     ]
    },
    {
     "name": "stdout",
     "output_type": "stream",
     "text": [
      "Loss Decreasing.. 0.067 >> 0.067 \n",
      "saving model...\n",
      "Epoch:41/1000.. Train Loss: 0.076.. Val Loss: 0.067.. Test Loss: 0.049.. Time: 0.03m\n"
     ]
    },
    {
     "name": "stderr",
     "output_type": "stream",
     "text": [
      "100%|██████████| 238/238 [00:01<00:00, 138.05it/s]\n",
      "100%|██████████| 85/85 [00:00<00:00, 536.72it/s]\n",
      "100%|██████████| 17/17 [00:00<00:00, 474.82it/s]\n"
     ]
    },
    {
     "name": "stdout",
     "output_type": "stream",
     "text": [
      "Loss Decreasing.. 0.067 >> 0.066 \n",
      "saving model...\n",
      "Epoch:42/1000.. Train Loss: 0.075.. Val Loss: 0.066.. Test Loss: 0.048.. Time: 0.03m\n"
     ]
    },
    {
     "name": "stderr",
     "output_type": "stream",
     "text": [
      "100%|██████████| 238/238 [00:01<00:00, 138.52it/s]\n",
      "100%|██████████| 85/85 [00:00<00:00, 529.22it/s]\n",
      "100%|██████████| 17/17 [00:00<00:00, 482.18it/s]\n"
     ]
    },
    {
     "name": "stdout",
     "output_type": "stream",
     "text": [
      "Loss Decreasing.. 0.066 >> 0.066 \n",
      "saving model...\n",
      "Epoch:43/1000.. Train Loss: 0.074.. Val Loss: 0.066.. Test Loss: 0.048.. Time: 0.03m\n"
     ]
    },
    {
     "name": "stderr",
     "output_type": "stream",
     "text": [
      "100%|██████████| 238/238 [00:01<00:00, 138.46it/s]\n",
      "100%|██████████| 85/85 [00:00<00:00, 502.49it/s]\n",
      "100%|██████████| 17/17 [00:00<00:00, 521.81it/s]\n"
     ]
    },
    {
     "name": "stdout",
     "output_type": "stream",
     "text": [
      "Loss Decreasing.. 0.066 >> 0.066 \n",
      "saving model...\n",
      "Epoch:44/1000.. Train Loss: 0.074.. Val Loss: 0.066.. Test Loss: 0.048.. Time: 0.03m\n"
     ]
    },
    {
     "name": "stderr",
     "output_type": "stream",
     "text": [
      "100%|██████████| 238/238 [00:01<00:00, 135.31it/s]\n",
      "100%|██████████| 85/85 [00:00<00:00, 520.31it/s]\n",
      "100%|██████████| 17/17 [00:00<00:00, 532.88it/s]\n"
     ]
    },
    {
     "name": "stdout",
     "output_type": "stream",
     "text": [
      "Loss Decreasing.. 0.066 >> 0.066 \n",
      "saving model...\n",
      "Epoch:45/1000.. Train Loss: 0.073.. Val Loss: 0.066.. Test Loss: 0.047.. Time: 0.03m\n"
     ]
    },
    {
     "name": "stderr",
     "output_type": "stream",
     "text": [
      "100%|██████████| 238/238 [00:01<00:00, 134.07it/s]\n",
      "100%|██████████| 85/85 [00:00<00:00, 530.91it/s]\n",
      "100%|██████████| 17/17 [00:00<00:00, 492.15it/s]\n"
     ]
    },
    {
     "name": "stdout",
     "output_type": "stream",
     "text": [
      "Loss Decreasing.. 0.066 >> 0.065 \n",
      "saving model...\n",
      "Epoch:46/1000.. Train Loss: 0.073.. Val Loss: 0.065.. Test Loss: 0.047.. Time: 0.03m\n"
     ]
    },
    {
     "name": "stderr",
     "output_type": "stream",
     "text": [
      "100%|██████████| 238/238 [00:01<00:00, 133.27it/s]\n",
      "100%|██████████| 85/85 [00:00<00:00, 529.69it/s]\n",
      "100%|██████████| 17/17 [00:00<00:00, 481.81it/s]\n"
     ]
    },
    {
     "name": "stdout",
     "output_type": "stream",
     "text": [
      "Loss Decreasing.. 0.065 >> 0.065 \n",
      "saving model...\n",
      "Epoch:47/1000.. Train Loss: 0.072.. Val Loss: 0.065.. Test Loss: 0.047.. Time: 0.03m\n"
     ]
    },
    {
     "name": "stderr",
     "output_type": "stream",
     "text": [
      "100%|██████████| 238/238 [00:01<00:00, 134.16it/s]\n",
      "100%|██████████| 85/85 [00:00<00:00, 526.35it/s]\n",
      "100%|██████████| 17/17 [00:00<00:00, 483.96it/s]\n"
     ]
    },
    {
     "name": "stdout",
     "output_type": "stream",
     "text": [
      "Loss Decreasing.. 0.065 >> 0.065 \n",
      "saving model...\n",
      "Epoch:48/1000.. Train Loss: 0.072.. Val Loss: 0.065.. Test Loss: 0.047.. Time: 0.03m\n"
     ]
    },
    {
     "name": "stderr",
     "output_type": "stream",
     "text": [
      "100%|██████████| 238/238 [00:01<00:00, 130.82it/s]\n",
      "100%|██████████| 85/85 [00:00<00:00, 501.22it/s]\n",
      "100%|██████████| 17/17 [00:00<00:00, 432.55it/s]\n"
     ]
    },
    {
     "name": "stdout",
     "output_type": "stream",
     "text": [
      "Loss Decreasing.. 0.065 >> 0.064 \n",
      "saving model...\n",
      "Epoch:49/1000.. Train Loss: 0.072.. Val Loss: 0.064.. Test Loss: 0.047.. Time: 0.03m\n"
     ]
    },
    {
     "name": "stderr",
     "output_type": "stream",
     "text": [
      "100%|██████████| 238/238 [00:01<00:00, 133.77it/s]\n",
      "100%|██████████| 85/85 [00:00<00:00, 526.40it/s]\n",
      "100%|██████████| 17/17 [00:00<00:00, 485.29it/s]\n"
     ]
    },
    {
     "name": "stdout",
     "output_type": "stream",
     "text": [
      "Loss Decreasing.. 0.064 >> 0.064 \n",
      "saving model...\n",
      "Epoch:50/1000.. Train Loss: 0.071.. Val Loss: 0.064.. Test Loss: 0.046.. Time: 0.03m\n"
     ]
    },
    {
     "name": "stderr",
     "output_type": "stream",
     "text": [
      "100%|██████████| 238/238 [00:01<00:00, 131.87it/s]\n",
      "100%|██████████| 85/85 [00:00<00:00, 531.62it/s]\n",
      "100%|██████████| 17/17 [00:00<00:00, 485.29it/s]\n"
     ]
    },
    {
     "name": "stdout",
     "output_type": "stream",
     "text": [
      "Loss Decreasing.. 0.064 >> 0.064 \n",
      "saving model...\n",
      "Epoch:51/1000.. Train Loss: 0.071.. Val Loss: 0.064.. Test Loss: 0.047.. Time: 0.03m\n"
     ]
    },
    {
     "name": "stderr",
     "output_type": "stream",
     "text": [
      "100%|██████████| 238/238 [00:01<00:00, 134.23it/s]\n",
      "100%|██████████| 85/85 [00:00<00:00, 523.79it/s]\n",
      "100%|██████████| 17/17 [00:00<00:00, 498.09it/s]\n"
     ]
    },
    {
     "name": "stdout",
     "output_type": "stream",
     "text": [
      "Loss Decreasing.. 0.064 >> 0.064 \n",
      "saving model...\n",
      "Epoch:52/1000.. Train Loss: 0.071.. Val Loss: 0.064.. Test Loss: 0.046.. Time: 0.03m\n"
     ]
    },
    {
     "name": "stderr",
     "output_type": "stream",
     "text": [
      "100%|██████████| 238/238 [00:01<00:00, 139.63it/s]\n",
      "100%|██████████| 85/85 [00:00<00:00, 512.15it/s]\n",
      "100%|██████████| 17/17 [00:00<00:00, 469.09it/s]\n"
     ]
    },
    {
     "name": "stdout",
     "output_type": "stream",
     "text": [
      "Loss Decreasing.. 0.064 >> 0.064 \n",
      "saving model...\n",
      "Epoch:53/1000.. Train Loss: 0.070.. Val Loss: 0.064.. Test Loss: 0.047.. Time: 0.03m\n"
     ]
    },
    {
     "name": "stderr",
     "output_type": "stream",
     "text": [
      "100%|██████████| 238/238 [00:01<00:00, 132.16it/s]\n",
      "100%|██████████| 85/85 [00:00<00:00, 538.09it/s]\n",
      "100%|██████████| 17/17 [00:00<00:00, 488.41it/s]\n"
     ]
    },
    {
     "name": "stdout",
     "output_type": "stream",
     "text": [
      "Loss Decreasing.. 0.064 >> 0.064 \n",
      "saving model...\n",
      "Epoch:54/1000.. Train Loss: 0.070.. Val Loss: 0.064.. Test Loss: 0.046.. Time: 0.03m\n"
     ]
    },
    {
     "name": "stderr",
     "output_type": "stream",
     "text": [
      "100%|██████████| 238/238 [00:01<00:00, 132.43it/s]\n",
      "100%|██████████| 85/85 [00:00<00:00, 534.54it/s]\n",
      "100%|██████████| 17/17 [00:00<00:00, 491.37it/s]\n"
     ]
    },
    {
     "name": "stdout",
     "output_type": "stream",
     "text": [
      "Loss Decreasing.. 0.064 >> 0.064 \n",
      "saving model...\n",
      "Epoch:55/1000.. Train Loss: 0.070.. Val Loss: 0.064.. Test Loss: 0.046.. Time: 0.03m\n"
     ]
    },
    {
     "name": "stderr",
     "output_type": "stream",
     "text": [
      "100%|██████████| 238/238 [00:01<00:00, 132.85it/s]\n",
      "100%|██████████| 85/85 [00:00<00:00, 532.72it/s]\n",
      "100%|██████████| 17/17 [00:00<00:00, 494.06it/s]\n"
     ]
    },
    {
     "name": "stdout",
     "output_type": "stream",
     "text": [
      "Loss Decreasing.. 0.064 >> 0.063 \n",
      "saving model...\n",
      "Epoch:56/1000.. Train Loss: 0.070.. Val Loss: 0.063.. Test Loss: 0.046.. Time: 0.03m\n"
     ]
    },
    {
     "name": "stderr",
     "output_type": "stream",
     "text": [
      "100%|██████████| 238/238 [00:01<00:00, 129.55it/s]\n",
      "100%|██████████| 85/85 [00:00<00:00, 498.46it/s]\n",
      "100%|██████████| 17/17 [00:00<00:00, 477.41it/s]\n"
     ]
    },
    {
     "name": "stdout",
     "output_type": "stream",
     "text": [
      "Loss Decreasing.. 0.063 >> 0.063 \n",
      "saving model...\n",
      "Epoch:57/1000.. Train Loss: 0.070.. Val Loss: 0.063.. Test Loss: 0.046.. Time: 0.03m\n"
     ]
    },
    {
     "name": "stderr",
     "output_type": "stream",
     "text": [
      "100%|██████████| 238/238 [00:01<00:00, 133.33it/s]\n",
      "100%|██████████| 85/85 [00:00<00:00, 543.06it/s]\n",
      "100%|██████████| 17/17 [00:00<00:00, 496.09it/s]\n"
     ]
    },
    {
     "name": "stdout",
     "output_type": "stream",
     "text": [
      "Loss Decreasing.. 0.063 >> 0.063 \n",
      "saving model...\n",
      "Epoch:58/1000.. Train Loss: 0.069.. Val Loss: 0.063.. Test Loss: 0.046.. Time: 0.03m\n"
     ]
    },
    {
     "name": "stderr",
     "output_type": "stream",
     "text": [
      "100%|██████████| 238/238 [00:01<00:00, 138.17it/s]\n",
      "100%|██████████| 85/85 [00:00<00:00, 520.05it/s]\n",
      "100%|██████████| 17/17 [00:00<00:00, 491.51it/s]\n"
     ]
    },
    {
     "name": "stdout",
     "output_type": "stream",
     "text": [
      "Epoch:59/1000.. Train Loss: 0.069.. Val Loss: 0.063.. Test Loss: 0.046.. Time: 0.03m\n"
     ]
    },
    {
     "name": "stderr",
     "output_type": "stream",
     "text": [
      "100%|██████████| 238/238 [00:01<00:00, 134.99it/s]\n",
      "100%|██████████| 85/85 [00:00<00:00, 531.36it/s]\n",
      "100%|██████████| 17/17 [00:00<00:00, 498.61it/s]\n"
     ]
    },
    {
     "name": "stdout",
     "output_type": "stream",
     "text": [
      "Loss Decreasing.. 0.063 >> 0.063 \n",
      "saving model...\n",
      "Epoch:60/1000.. Train Loss: 0.069.. Val Loss: 0.063.. Test Loss: 0.046.. Time: 0.03m\n"
     ]
    },
    {
     "name": "stderr",
     "output_type": "stream",
     "text": [
      "100%|██████████| 238/238 [00:01<00:00, 134.63it/s]\n",
      "100%|██████████| 85/85 [00:00<00:00, 527.36it/s]\n",
      "100%|██████████| 17/17 [00:00<00:00, 506.88it/s]\n"
     ]
    },
    {
     "name": "stdout",
     "output_type": "stream",
     "text": [
      "Loss Decreasing.. 0.063 >> 0.063 \n",
      "saving model...\n",
      "Epoch:61/1000.. Train Loss: 0.068.. Val Loss: 0.063.. Test Loss: 0.046.. Time: 0.03m\n"
     ]
    },
    {
     "name": "stderr",
     "output_type": "stream",
     "text": [
      "100%|██████████| 238/238 [00:01<00:00, 132.59it/s]\n",
      "100%|██████████| 85/85 [00:00<00:00, 523.27it/s]\n",
      "100%|██████████| 17/17 [00:00<00:00, 483.05it/s]\n"
     ]
    },
    {
     "name": "stdout",
     "output_type": "stream",
     "text": [
      "Loss Decreasing.. 0.063 >> 0.063 \n",
      "saving model...\n",
      "Epoch:62/1000.. Train Loss: 0.068.. Val Loss: 0.063.. Test Loss: 0.046.. Time: 0.03m\n"
     ]
    },
    {
     "name": "stderr",
     "output_type": "stream",
     "text": [
      "100%|██████████| 238/238 [00:01<00:00, 132.55it/s]\n",
      "100%|██████████| 85/85 [00:00<00:00, 529.82it/s]\n",
      "100%|██████████| 17/17 [00:00<00:00, 485.73it/s]\n"
     ]
    },
    {
     "name": "stdout",
     "output_type": "stream",
     "text": [
      "Loss Decreasing.. 0.063 >> 0.062 \n",
      "saving model...\n",
      "Epoch:63/1000.. Train Loss: 0.068.. Val Loss: 0.062.. Test Loss: 0.046.. Time: 0.03m\n"
     ]
    },
    {
     "name": "stderr",
     "output_type": "stream",
     "text": [
      "100%|██████████| 238/238 [00:01<00:00, 133.85it/s]\n",
      "100%|██████████| 85/85 [00:00<00:00, 528.28it/s]\n",
      "100%|██████████| 17/17 [00:00<00:00, 514.13it/s]\n"
     ]
    },
    {
     "name": "stdout",
     "output_type": "stream",
     "text": [
      "Loss Decreasing.. 0.062 >> 0.062 \n",
      "saving model...\n",
      "Epoch:64/1000.. Train Loss: 0.068.. Val Loss: 0.062.. Test Loss: 0.046.. Time: 0.03m\n"
     ]
    },
    {
     "name": "stderr",
     "output_type": "stream",
     "text": [
      "100%|██████████| 238/238 [00:01<00:00, 132.85it/s]\n",
      "100%|██████████| 85/85 [00:00<00:00, 534.38it/s]\n",
      "100%|██████████| 17/17 [00:00<00:00, 485.55it/s]\n"
     ]
    },
    {
     "name": "stdout",
     "output_type": "stream",
     "text": [
      "Loss Decreasing.. 0.062 >> 0.062 \n",
      "saving model...\n",
      "Epoch:65/1000.. Train Loss: 0.067.. Val Loss: 0.062.. Test Loss: 0.046.. Time: 0.03m\n"
     ]
    },
    {
     "name": "stderr",
     "output_type": "stream",
     "text": [
      "100%|██████████| 238/238 [00:01<00:00, 134.66it/s]\n",
      "100%|██████████| 85/85 [00:00<00:00, 508.08it/s]\n",
      "100%|██████████| 17/17 [00:00<00:00, 521.39it/s]\n"
     ]
    },
    {
     "name": "stdout",
     "output_type": "stream",
     "text": [
      "Loss Decreasing.. 0.062 >> 0.062 \n",
      "saving model...\n",
      "Epoch:66/1000.. Train Loss: 0.067.. Val Loss: 0.062.. Test Loss: 0.046.. Time: 0.03m\n"
     ]
    },
    {
     "name": "stderr",
     "output_type": "stream",
     "text": [
      "100%|██████████| 238/238 [00:01<00:00, 133.19it/s]\n",
      "100%|██████████| 85/85 [00:00<00:00, 514.08it/s]\n",
      "100%|██████████| 17/17 [00:00<00:00, 489.89it/s]\n"
     ]
    },
    {
     "name": "stdout",
     "output_type": "stream",
     "text": [
      "Epoch:67/1000.. Train Loss: 0.068.. Val Loss: 0.062.. Test Loss: 0.046.. Time: 0.03m\n"
     ]
    },
    {
     "name": "stderr",
     "output_type": "stream",
     "text": [
      "100%|██████████| 238/238 [00:01<00:00, 131.79it/s]\n",
      "100%|██████████| 85/85 [00:00<00:00, 515.65it/s]\n",
      "100%|██████████| 17/17 [00:00<00:00, 502.28it/s]\n"
     ]
    },
    {
     "name": "stdout",
     "output_type": "stream",
     "text": [
      "Loss Decreasing.. 0.062 >> 0.062 \n",
      "saving model...\n",
      "Epoch:68/1000.. Train Loss: 0.067.. Val Loss: 0.062.. Test Loss: 0.046.. Time: 0.03m\n"
     ]
    },
    {
     "name": "stderr",
     "output_type": "stream",
     "text": [
      "100%|██████████| 238/238 [00:01<00:00, 133.92it/s]\n",
      "100%|██████████| 85/85 [00:00<00:00, 522.60it/s]\n",
      "100%|██████████| 17/17 [00:00<00:00, 493.71it/s]\n"
     ]
    },
    {
     "name": "stdout",
     "output_type": "stream",
     "text": [
      "Loss Decreasing.. 0.062 >> 0.062 \n",
      "saving model...\n",
      "Epoch:69/1000.. Train Loss: 0.067.. Val Loss: 0.062.. Test Loss: 0.046.. Time: 0.03m\n"
     ]
    },
    {
     "name": "stderr",
     "output_type": "stream",
     "text": [
      "100%|██████████| 238/238 [00:01<00:00, 131.87it/s]\n",
      "100%|██████████| 85/85 [00:00<00:00, 530.78it/s]\n",
      "100%|██████████| 17/17 [00:00<00:00, 489.46it/s]\n"
     ]
    },
    {
     "name": "stdout",
     "output_type": "stream",
     "text": [
      "Loss Decreasing.. 0.062 >> 0.062 \n",
      "saving model...\n",
      "Epoch:70/1000.. Train Loss: 0.067.. Val Loss: 0.062.. Test Loss: 0.046.. Time: 0.03m\n"
     ]
    },
    {
     "name": "stderr",
     "output_type": "stream",
     "text": [
      "100%|██████████| 238/238 [00:01<00:00, 131.31it/s]\n",
      "100%|██████████| 85/85 [00:00<00:00, 528.79it/s]\n",
      "100%|██████████| 17/17 [00:00<00:00, 486.04it/s]\n"
     ]
    },
    {
     "name": "stdout",
     "output_type": "stream",
     "text": [
      "Loss Decreasing.. 0.062 >> 0.062 \n",
      "saving model...\n",
      "Epoch:71/1000.. Train Loss: 0.067.. Val Loss: 0.062.. Test Loss: 0.046.. Time: 0.03m\n"
     ]
    },
    {
     "name": "stderr",
     "output_type": "stream",
     "text": [
      "100%|██████████| 238/238 [00:01<00:00, 135.57it/s]\n",
      "100%|██████████| 85/85 [00:00<00:00, 532.58it/s]\n",
      "100%|██████████| 17/17 [00:00<00:00, 490.11it/s]\n"
     ]
    },
    {
     "name": "stdout",
     "output_type": "stream",
     "text": [
      "Loss Decreasing.. 0.062 >> 0.061 \n",
      "saving model...\n",
      "Epoch:72/1000.. Train Loss: 0.067.. Val Loss: 0.061.. Test Loss: 0.046.. Time: 0.03m\n"
     ]
    },
    {
     "name": "stderr",
     "output_type": "stream",
     "text": [
      "100%|██████████| 238/238 [00:01<00:00, 138.84it/s]\n",
      "100%|██████████| 85/85 [00:00<00:00, 533.82it/s]\n",
      "100%|██████████| 17/17 [00:00<00:00, 492.63it/s]\n"
     ]
    },
    {
     "name": "stdout",
     "output_type": "stream",
     "text": [
      "Loss Decreasing.. 0.061 >> 0.061 \n",
      "saving model...\n",
      "Epoch:73/1000.. Train Loss: 0.066.. Val Loss: 0.061.. Test Loss: 0.046.. Time: 0.03m\n"
     ]
    },
    {
     "name": "stderr",
     "output_type": "stream",
     "text": [
      "100%|██████████| 238/238 [00:01<00:00, 137.35it/s]\n",
      "100%|██████████| 85/85 [00:00<00:00, 529.31it/s]\n",
      "100%|██████████| 17/17 [00:00<00:00, 485.19it/s]\n"
     ]
    },
    {
     "name": "stdout",
     "output_type": "stream",
     "text": [
      "Loss Decreasing.. 0.061 >> 0.061 \n",
      "saving model...\n",
      "Epoch:74/1000.. Train Loss: 0.067.. Val Loss: 0.061.. Test Loss: 0.046.. Time: 0.03m\n"
     ]
    },
    {
     "name": "stderr",
     "output_type": "stream",
     "text": [
      "100%|██████████| 238/238 [00:01<00:00, 132.70it/s]\n",
      "100%|██████████| 85/85 [00:00<00:00, 534.98it/s]\n",
      "100%|██████████| 17/17 [00:00<00:00, 493.09it/s]\n"
     ]
    },
    {
     "name": "stdout",
     "output_type": "stream",
     "text": [
      "Epoch:75/1000.. Train Loss: 0.066.. Val Loss: 0.061.. Test Loss: 0.046.. Time: 0.03m\n"
     ]
    },
    {
     "name": "stderr",
     "output_type": "stream",
     "text": [
      "100%|██████████| 238/238 [00:01<00:00, 132.40it/s]\n",
      "100%|██████████| 85/85 [00:00<00:00, 527.62it/s]\n",
      "100%|██████████| 17/17 [00:00<00:00, 498.28it/s]\n"
     ]
    },
    {
     "name": "stdout",
     "output_type": "stream",
     "text": [
      "Loss Decreasing.. 0.061 >> 0.061 \n",
      "saving model...\n",
      "Epoch:76/1000.. Train Loss: 0.066.. Val Loss: 0.061.. Test Loss: 0.046.. Time: 0.03m\n"
     ]
    },
    {
     "name": "stderr",
     "output_type": "stream",
     "text": [
      "100%|██████████| 238/238 [00:01<00:00, 131.21it/s]\n",
      "100%|██████████| 85/85 [00:00<00:00, 514.64it/s]\n",
      "100%|██████████| 17/17 [00:00<00:00, 476.52it/s]\n"
     ]
    },
    {
     "name": "stdout",
     "output_type": "stream",
     "text": [
      "Epoch:77/1000.. Train Loss: 0.066.. Val Loss: 0.061.. Test Loss: 0.046.. Time: 0.03m\n"
     ]
    },
    {
     "name": "stderr",
     "output_type": "stream",
     "text": [
      "100%|██████████| 238/238 [00:01<00:00, 132.56it/s]\n",
      "100%|██████████| 85/85 [00:00<00:00, 542.21it/s]\n",
      "100%|██████████| 17/17 [00:00<00:00, 492.72it/s]\n"
     ]
    },
    {
     "name": "stdout",
     "output_type": "stream",
     "text": [
      "Loss Decreasing.. 0.061 >> 0.061 \n",
      "saving model...\n",
      "Epoch:78/1000.. Train Loss: 0.065.. Val Loss: 0.061.. Test Loss: 0.047.. Time: 0.03m\n"
     ]
    },
    {
     "name": "stderr",
     "output_type": "stream",
     "text": [
      "100%|██████████| 238/238 [00:01<00:00, 132.96it/s]\n",
      "100%|██████████| 85/85 [00:00<00:00, 530.43it/s]\n",
      "100%|██████████| 17/17 [00:00<00:00, 519.38it/s]\n"
     ]
    },
    {
     "name": "stdout",
     "output_type": "stream",
     "text": [
      "Loss Decreasing.. 0.061 >> 0.061 \n",
      "saving model...\n",
      "Epoch:79/1000.. Train Loss: 0.066.. Val Loss: 0.061.. Test Loss: 0.047.. Time: 0.03m\n"
     ]
    },
    {
     "name": "stderr",
     "output_type": "stream",
     "text": [
      "100%|██████████| 238/238 [00:01<00:00, 132.05it/s]\n",
      "100%|██████████| 85/85 [00:00<00:00, 518.40it/s]\n",
      "100%|██████████| 17/17 [00:00<00:00, 481.32it/s]\n"
     ]
    },
    {
     "name": "stdout",
     "output_type": "stream",
     "text": [
      "Loss Decreasing.. 0.061 >> 0.061 \n",
      "saving model...\n",
      "Epoch:80/1000.. Train Loss: 0.065.. Val Loss: 0.061.. Test Loss: 0.047.. Time: 0.03m\n"
     ]
    },
    {
     "name": "stderr",
     "output_type": "stream",
     "text": [
      "100%|██████████| 238/238 [00:01<00:00, 134.19it/s]\n",
      "100%|██████████| 85/85 [00:00<00:00, 534.91it/s]\n",
      "100%|██████████| 17/17 [00:00<00:00, 483.74it/s]\n"
     ]
    },
    {
     "name": "stdout",
     "output_type": "stream",
     "text": [
      "Loss Decreasing.. 0.061 >> 0.061 \n",
      "saving model...\n",
      "Epoch:81/1000.. Train Loss: 0.065.. Val Loss: 0.061.. Test Loss: 0.046.. Time: 0.03m\n"
     ]
    },
    {
     "name": "stderr",
     "output_type": "stream",
     "text": [
      "100%|██████████| 238/238 [00:01<00:00, 135.78it/s]\n",
      "100%|██████████| 85/85 [00:00<00:00, 529.35it/s]\n",
      "100%|██████████| 17/17 [00:00<00:00, 499.68it/s]\n"
     ]
    },
    {
     "name": "stdout",
     "output_type": "stream",
     "text": [
      "Loss Decreasing.. 0.061 >> 0.061 \n",
      "saving model...\n",
      "Epoch:82/1000.. Train Loss: 0.065.. Val Loss: 0.061.. Test Loss: 0.047.. Time: 0.03m\n"
     ]
    },
    {
     "name": "stderr",
     "output_type": "stream",
     "text": [
      "100%|██████████| 238/238 [00:01<00:00, 131.53it/s]\n",
      "100%|██████████| 85/85 [00:00<00:00, 534.03it/s]\n",
      "100%|██████████| 17/17 [00:00<00:00, 521.32it/s]\n"
     ]
    },
    {
     "name": "stdout",
     "output_type": "stream",
     "text": [
      "Epoch:83/1000.. Train Loss: 0.066.. Val Loss: 0.061.. Test Loss: 0.047.. Time: 0.03m\n"
     ]
    },
    {
     "name": "stderr",
     "output_type": "stream",
     "text": [
      "100%|██████████| 238/238 [00:01<00:00, 134.81it/s]\n",
      "100%|██████████| 85/85 [00:00<00:00, 541.28it/s]\n",
      "100%|██████████| 17/17 [00:00<00:00, 491.56it/s]\n"
     ]
    },
    {
     "name": "stdout",
     "output_type": "stream",
     "text": [
      "Epoch:84/1000.. Train Loss: 0.065.. Val Loss: 0.061.. Test Loss: 0.047.. Time: 0.03m\n"
     ]
    },
    {
     "name": "stderr",
     "output_type": "stream",
     "text": [
      "100%|██████████| 238/238 [00:01<00:00, 138.72it/s]\n",
      "100%|██████████| 85/85 [00:00<00:00, 525.79it/s]\n",
      "100%|██████████| 17/17 [00:00<00:00, 495.14it/s]\n"
     ]
    },
    {
     "name": "stdout",
     "output_type": "stream",
     "text": [
      "Loss Decreasing.. 0.061 >> 0.061 \n",
      "saving model...\n",
      "Epoch:85/1000.. Train Loss: 0.065.. Val Loss: 0.061.. Test Loss: 0.047.. Time: 0.03m\n"
     ]
    },
    {
     "name": "stderr",
     "output_type": "stream",
     "text": [
      "100%|██████████| 238/238 [00:01<00:00, 136.28it/s]\n",
      "100%|██████████| 85/85 [00:00<00:00, 534.93it/s]\n",
      "100%|██████████| 17/17 [00:00<00:00, 495.22it/s]\n"
     ]
    },
    {
     "name": "stdout",
     "output_type": "stream",
     "text": [
      "Loss Decreasing.. 0.061 >> 0.060 \n",
      "saving model...\n",
      "Epoch:86/1000.. Train Loss: 0.065.. Val Loss: 0.060.. Test Loss: 0.047.. Time: 0.03m\n"
     ]
    },
    {
     "name": "stderr",
     "output_type": "stream",
     "text": [
      "100%|██████████| 238/238 [00:01<00:00, 137.86it/s]\n",
      "100%|██████████| 85/85 [00:00<00:00, 534.15it/s]\n",
      "100%|██████████| 17/17 [00:00<00:00, 494.69it/s]\n"
     ]
    },
    {
     "name": "stdout",
     "output_type": "stream",
     "text": [
      "Loss Decreasing.. 0.060 >> 0.060 \n",
      "saving model...\n",
      "Epoch:87/1000.. Train Loss: 0.065.. Val Loss: 0.060.. Test Loss: 0.047.. Time: 0.03m\n"
     ]
    },
    {
     "name": "stderr",
     "output_type": "stream",
     "text": [
      "100%|██████████| 238/238 [00:01<00:00, 137.08it/s]\n",
      "100%|██████████| 85/85 [00:00<00:00, 533.17it/s]\n",
      "100%|██████████| 17/17 [00:00<00:00, 500.10it/s]\n"
     ]
    },
    {
     "name": "stdout",
     "output_type": "stream",
     "text": [
      "Loss Decreasing.. 0.060 >> 0.060 \n",
      "saving model...\n",
      "Epoch:88/1000.. Train Loss: 0.065.. Val Loss: 0.060.. Test Loss: 0.047.. Time: 0.03m\n"
     ]
    },
    {
     "name": "stderr",
     "output_type": "stream",
     "text": [
      "100%|██████████| 238/238 [00:01<00:00, 132.16it/s]\n",
      "100%|██████████| 85/85 [00:00<00:00, 541.10it/s]\n",
      "100%|██████████| 17/17 [00:00<00:00, 495.14it/s]\n"
     ]
    },
    {
     "name": "stdout",
     "output_type": "stream",
     "text": [
      "Epoch:89/1000.. Train Loss: 0.064.. Val Loss: 0.060.. Test Loss: 0.047.. Time: 0.03m\n"
     ]
    },
    {
     "name": "stderr",
     "output_type": "stream",
     "text": [
      "100%|██████████| 238/238 [00:01<00:00, 132.86it/s]\n",
      "100%|██████████| 85/85 [00:00<00:00, 527.96it/s]\n",
      "100%|██████████| 17/17 [00:00<00:00, 494.71it/s]\n"
     ]
    },
    {
     "name": "stdout",
     "output_type": "stream",
     "text": [
      "Epoch:90/1000.. Train Loss: 0.064.. Val Loss: 0.060.. Test Loss: 0.048.. Time: 0.03m\n"
     ]
    },
    {
     "name": "stderr",
     "output_type": "stream",
     "text": [
      "100%|██████████| 238/238 [00:01<00:00, 133.64it/s]\n",
      "100%|██████████| 85/85 [00:00<00:00, 535.92it/s]\n",
      "100%|██████████| 17/17 [00:00<00:00, 488.45it/s]\n"
     ]
    },
    {
     "name": "stdout",
     "output_type": "stream",
     "text": [
      "Epoch:91/1000.. Train Loss: 0.064.. Val Loss: 0.060.. Test Loss: 0.047.. Time: 0.03m\n"
     ]
    },
    {
     "name": "stderr",
     "output_type": "stream",
     "text": [
      "100%|██████████| 238/238 [00:01<00:00, 134.68it/s]\n",
      "100%|██████████| 85/85 [00:00<00:00, 505.57it/s]\n",
      "100%|██████████| 17/17 [00:00<00:00, 475.85it/s]\n"
     ]
    },
    {
     "name": "stdout",
     "output_type": "stream",
     "text": [
      "Epoch:92/1000.. Train Loss: 0.064.. Val Loss: 0.060.. Test Loss: 0.047.. Time: 0.03m\n"
     ]
    },
    {
     "name": "stderr",
     "output_type": "stream",
     "text": [
      "100%|██████████| 238/238 [00:01<00:00, 135.91it/s]\n",
      "100%|██████████| 85/85 [00:00<00:00, 533.65it/s]\n",
      "100%|██████████| 17/17 [00:00<00:00, 501.89it/s]\n"
     ]
    },
    {
     "name": "stdout",
     "output_type": "stream",
     "text": [
      "Loss Decreasing.. 0.060 >> 0.060 \n",
      "saving model...\n",
      "Epoch:93/1000.. Train Loss: 0.064.. Val Loss: 0.060.. Test Loss: 0.048.. Time: 0.03m\n"
     ]
    },
    {
     "name": "stderr",
     "output_type": "stream",
     "text": [
      "100%|██████████| 238/238 [00:01<00:00, 132.39it/s]\n",
      "100%|██████████| 85/85 [00:00<00:00, 532.57it/s]\n",
      "100%|██████████| 17/17 [00:00<00:00, 402.99it/s]\n"
     ]
    },
    {
     "name": "stdout",
     "output_type": "stream",
     "text": [
      "Loss Decreasing.. 0.060 >> 0.060 \n",
      "saving model...\n",
      "Epoch:94/1000.. Train Loss: 0.064.. Val Loss: 0.060.. Test Loss: 0.048.. Time: 0.03m\n"
     ]
    },
    {
     "name": "stderr",
     "output_type": "stream",
     "text": [
      "100%|██████████| 238/238 [00:01<00:00, 134.16it/s]\n",
      "100%|██████████| 85/85 [00:00<00:00, 523.45it/s]\n",
      "100%|██████████| 17/17 [00:00<00:00, 494.10it/s]\n"
     ]
    },
    {
     "name": "stdout",
     "output_type": "stream",
     "text": [
      "Loss Decreasing.. 0.060 >> 0.060 \n",
      "saving model...\n",
      "Epoch:95/1000.. Train Loss: 0.064.. Val Loss: 0.060.. Test Loss: 0.048.. Time: 0.03m\n"
     ]
    },
    {
     "name": "stderr",
     "output_type": "stream",
     "text": [
      "100%|██████████| 238/238 [00:01<00:00, 139.82it/s]\n",
      "100%|██████████| 85/85 [00:00<00:00, 529.57it/s]\n",
      "100%|██████████| 17/17 [00:00<00:00, 476.18it/s]\n"
     ]
    },
    {
     "name": "stdout",
     "output_type": "stream",
     "text": [
      "Epoch:96/1000.. Train Loss: 0.064.. Val Loss: 0.060.. Test Loss: 0.048.. Time: 0.03m\n"
     ]
    },
    {
     "name": "stderr",
     "output_type": "stream",
     "text": [
      "100%|██████████| 238/238 [00:01<00:00, 138.63it/s]\n",
      "100%|██████████| 85/85 [00:00<00:00, 524.16it/s]\n",
      "100%|██████████| 17/17 [00:00<00:00, 503.12it/s]\n"
     ]
    },
    {
     "name": "stdout",
     "output_type": "stream",
     "text": [
      "Loss Decreasing.. 0.060 >> 0.060 \n",
      "saving model...\n",
      "Epoch:97/1000.. Train Loss: 0.064.. Val Loss: 0.060.. Test Loss: 0.047.. Time: 0.03m\n"
     ]
    },
    {
     "name": "stderr",
     "output_type": "stream",
     "text": [
      "100%|██████████| 238/238 [00:01<00:00, 131.72it/s]\n",
      "100%|██████████| 85/85 [00:00<00:00, 528.83it/s]\n",
      "100%|██████████| 17/17 [00:00<00:00, 493.31it/s]\n"
     ]
    },
    {
     "name": "stdout",
     "output_type": "stream",
     "text": [
      "Epoch:98/1000.. Train Loss: 0.064.. Val Loss: 0.060.. Test Loss: 0.048.. Time: 0.03m\n"
     ]
    },
    {
     "name": "stderr",
     "output_type": "stream",
     "text": [
      "100%|██████████| 238/238 [00:01<00:00, 134.34it/s]\n",
      "100%|██████████| 85/85 [00:00<00:00, 532.30it/s]\n",
      "100%|██████████| 17/17 [00:00<00:00, 482.93it/s]\n"
     ]
    },
    {
     "name": "stdout",
     "output_type": "stream",
     "text": [
      "Epoch:99/1000.. Train Loss: 0.064.. Val Loss: 0.060.. Test Loss: 0.048.. Time: 0.03m\n"
     ]
    },
    {
     "name": "stderr",
     "output_type": "stream",
     "text": [
      "100%|██████████| 238/238 [00:01<00:00, 130.50it/s]\n",
      "100%|██████████| 85/85 [00:00<00:00, 528.29it/s]\n",
      "100%|██████████| 17/17 [00:00<00:00, 479.99it/s]\n"
     ]
    },
    {
     "name": "stdout",
     "output_type": "stream",
     "text": [
      "Epoch:100/1000.. Train Loss: 0.064.. Val Loss: 0.060.. Test Loss: 0.048.. Time: 0.03m\n"
     ]
    },
    {
     "name": "stderr",
     "output_type": "stream",
     "text": [
      "100%|██████████| 238/238 [00:01<00:00, 132.78it/s]\n",
      "100%|██████████| 85/85 [00:00<00:00, 523.38it/s]\n",
      "100%|██████████| 17/17 [00:00<00:00, 490.97it/s]\n"
     ]
    },
    {
     "name": "stdout",
     "output_type": "stream",
     "text": [
      "Loss Decreasing.. 0.060 >> 0.059 \n",
      "saving model...\n",
      "Epoch:101/1000.. Train Loss: 0.063.. Val Loss: 0.059.. Test Loss: 0.048.. Time: 0.03m\n"
     ]
    },
    {
     "name": "stderr",
     "output_type": "stream",
     "text": [
      "100%|██████████| 238/238 [00:01<00:00, 134.92it/s]\n",
      "100%|██████████| 85/85 [00:00<00:00, 526.97it/s]\n",
      "100%|██████████| 17/17 [00:00<00:00, 481.75it/s]\n"
     ]
    },
    {
     "name": "stdout",
     "output_type": "stream",
     "text": [
      "Loss Decreasing.. 0.059 >> 0.059 \n",
      "saving model...\n",
      "Epoch:102/1000.. Train Loss: 0.063.. Val Loss: 0.059.. Test Loss: 0.048.. Time: 0.03m\n"
     ]
    },
    {
     "name": "stderr",
     "output_type": "stream",
     "text": [
      "100%|██████████| 238/238 [00:01<00:00, 133.91it/s]\n",
      "100%|██████████| 85/85 [00:00<00:00, 535.39it/s]\n",
      "100%|██████████| 17/17 [00:00<00:00, 510.77it/s]\n"
     ]
    },
    {
     "name": "stdout",
     "output_type": "stream",
     "text": [
      "Epoch:103/1000.. Train Loss: 0.064.. Val Loss: 0.059.. Test Loss: 0.048.. Time: 0.03m\n"
     ]
    },
    {
     "name": "stderr",
     "output_type": "stream",
     "text": [
      "100%|██████████| 238/238 [00:01<00:00, 132.37it/s]\n",
      "100%|██████████| 85/85 [00:00<00:00, 543.52it/s]\n",
      "100%|██████████| 17/17 [00:00<00:00, 495.05it/s]\n"
     ]
    },
    {
     "name": "stdout",
     "output_type": "stream",
     "text": [
      "Loss Decreasing.. 0.059 >> 0.059 \n",
      "saving model...\n",
      "Epoch:104/1000.. Train Loss: 0.063.. Val Loss: 0.059.. Test Loss: 0.048.. Time: 0.03m\n"
     ]
    },
    {
     "name": "stderr",
     "output_type": "stream",
     "text": [
      "100%|██████████| 238/238 [00:01<00:00, 134.07it/s]\n",
      "100%|██████████| 85/85 [00:00<00:00, 542.59it/s]\n",
      "100%|██████████| 17/17 [00:00<00:00, 502.32it/s]\n"
     ]
    },
    {
     "name": "stdout",
     "output_type": "stream",
     "text": [
      "Epoch:105/1000.. Train Loss: 0.063.. Val Loss: 0.059.. Test Loss: 0.048.. Time: 0.03m\n"
     ]
    },
    {
     "name": "stderr",
     "output_type": "stream",
     "text": [
      "100%|██████████| 238/238 [00:01<00:00, 131.26it/s]\n",
      "100%|██████████| 85/85 [00:00<00:00, 524.27it/s]\n",
      "100%|██████████| 17/17 [00:00<00:00, 492.73it/s]\n"
     ]
    },
    {
     "name": "stdout",
     "output_type": "stream",
     "text": [
      "Epoch:106/1000.. Train Loss: 0.063.. Val Loss: 0.059.. Test Loss: 0.048.. Time: 0.03m\n"
     ]
    },
    {
     "name": "stderr",
     "output_type": "stream",
     "text": [
      "100%|██████████| 238/238 [00:01<00:00, 134.71it/s]\n",
      "100%|██████████| 85/85 [00:00<00:00, 421.84it/s]\n",
      "100%|██████████| 17/17 [00:00<00:00, 481.24it/s]\n"
     ]
    },
    {
     "name": "stdout",
     "output_type": "stream",
     "text": [
      "Loss Decreasing.. 0.059 >> 0.059 \n",
      "saving model...\n",
      "Epoch:107/1000.. Train Loss: 0.063.. Val Loss: 0.059.. Test Loss: 0.048.. Time: 0.03m\n"
     ]
    },
    {
     "name": "stderr",
     "output_type": "stream",
     "text": [
      "100%|██████████| 238/238 [00:01<00:00, 132.91it/s]\n",
      "100%|██████████| 85/85 [00:00<00:00, 206.16it/s]\n",
      "100%|██████████| 17/17 [00:00<00:00, 485.20it/s]\n"
     ]
    },
    {
     "name": "stdout",
     "output_type": "stream",
     "text": [
      "Epoch:108/1000.. Train Loss: 0.063.. Val Loss: 0.059.. Test Loss: 0.048.. Time: 0.04m\n"
     ]
    },
    {
     "name": "stderr",
     "output_type": "stream",
     "text": [
      "100%|██████████| 238/238 [00:01<00:00, 133.77it/s]\n",
      "100%|██████████| 85/85 [00:00<00:00, 531.92it/s]\n",
      "100%|██████████| 17/17 [00:00<00:00, 489.94it/s]\n"
     ]
    },
    {
     "name": "stdout",
     "output_type": "stream",
     "text": [
      "Loss Decreasing.. 0.059 >> 0.059 \n",
      "saving model...\n",
      "Epoch:109/1000.. Train Loss: 0.063.. Val Loss: 0.059.. Test Loss: 0.048.. Time: 0.03m\n"
     ]
    },
    {
     "name": "stderr",
     "output_type": "stream",
     "text": [
      "100%|██████████| 238/238 [00:01<00:00, 134.13it/s]\n",
      "100%|██████████| 85/85 [00:00<00:00, 534.70it/s]\n",
      "100%|██████████| 17/17 [00:00<00:00, 485.05it/s]\n"
     ]
    },
    {
     "name": "stdout",
     "output_type": "stream",
     "text": [
      "Epoch:110/1000.. Train Loss: 0.063.. Val Loss: 0.059.. Test Loss: 0.048.. Time: 0.03m\n"
     ]
    },
    {
     "name": "stderr",
     "output_type": "stream",
     "text": [
      "100%|██████████| 238/238 [00:01<00:00, 131.96it/s]\n",
      "100%|██████████| 85/85 [00:00<00:00, 529.53it/s]\n",
      "100%|██████████| 17/17 [00:00<00:00, 485.07it/s]\n"
     ]
    },
    {
     "name": "stdout",
     "output_type": "stream",
     "text": [
      "Loss Decreasing.. 0.059 >> 0.059 \n",
      "saving model...\n",
      "Epoch:111/1000.. Train Loss: 0.063.. Val Loss: 0.059.. Test Loss: 0.048.. Time: 0.03m\n"
     ]
    },
    {
     "name": "stderr",
     "output_type": "stream",
     "text": [
      "100%|██████████| 238/238 [00:01<00:00, 132.51it/s]\n",
      "100%|██████████| 85/85 [00:00<00:00, 534.40it/s]\n",
      "100%|██████████| 17/17 [00:00<00:00, 493.70it/s]\n"
     ]
    },
    {
     "name": "stdout",
     "output_type": "stream",
     "text": [
      "Epoch:112/1000.. Train Loss: 0.063.. Val Loss: 0.059.. Test Loss: 0.048.. Time: 0.03m\n"
     ]
    },
    {
     "name": "stderr",
     "output_type": "stream",
     "text": [
      "100%|██████████| 238/238 [00:01<00:00, 128.76it/s]\n",
      "100%|██████████| 85/85 [00:00<00:00, 527.90it/s]\n",
      "100%|██████████| 17/17 [00:00<00:00, 486.80it/s]\n"
     ]
    },
    {
     "name": "stdout",
     "output_type": "stream",
     "text": [
      "Epoch:113/1000.. Train Loss: 0.063.. Val Loss: 0.059.. Test Loss: 0.048.. Time: 0.03m\n"
     ]
    },
    {
     "name": "stderr",
     "output_type": "stream",
     "text": [
      "100%|██████████| 238/238 [00:01<00:00, 133.05it/s]\n",
      "100%|██████████| 85/85 [00:00<00:00, 515.27it/s]\n",
      "100%|██████████| 17/17 [00:00<00:00, 483.82it/s]\n"
     ]
    },
    {
     "name": "stdout",
     "output_type": "stream",
     "text": [
      "Epoch:114/1000.. Train Loss: 0.063.. Val Loss: 0.059.. Test Loss: 0.049.. Time: 0.03m\n"
     ]
    },
    {
     "name": "stderr",
     "output_type": "stream",
     "text": [
      "100%|██████████| 238/238 [00:01<00:00, 134.08it/s]\n",
      "100%|██████████| 85/85 [00:00<00:00, 534.20it/s]\n",
      "100%|██████████| 17/17 [00:00<00:00, 498.22it/s]\n"
     ]
    },
    {
     "name": "stdout",
     "output_type": "stream",
     "text": [
      "Epoch:115/1000.. Train Loss: 0.063.. Val Loss: 0.059.. Test Loss: 0.048.. Time: 0.03m\n"
     ]
    },
    {
     "name": "stderr",
     "output_type": "stream",
     "text": [
      "100%|██████████| 238/238 [00:01<00:00, 135.12it/s]\n",
      "100%|██████████| 85/85 [00:00<00:00, 498.50it/s]\n",
      "100%|██████████| 17/17 [00:00<00:00, 484.38it/s]\n"
     ]
    },
    {
     "name": "stdout",
     "output_type": "stream",
     "text": [
      "Epoch:116/1000.. Train Loss: 0.063.. Val Loss: 0.059.. Test Loss: 0.048.. Time: 0.03m\n"
     ]
    },
    {
     "name": "stderr",
     "output_type": "stream",
     "text": [
      "100%|██████████| 238/238 [00:01<00:00, 131.50it/s]\n",
      "100%|██████████| 85/85 [00:00<00:00, 515.68it/s]\n",
      "100%|██████████| 17/17 [00:00<00:00, 491.07it/s]\n"
     ]
    },
    {
     "name": "stdout",
     "output_type": "stream",
     "text": [
      "Loss Decreasing.. 0.059 >> 0.059 \n",
      "saving model...\n",
      "Epoch:117/1000.. Train Loss: 0.063.. Val Loss: 0.059.. Test Loss: 0.048.. Time: 0.03m\n"
     ]
    },
    {
     "name": "stderr",
     "output_type": "stream",
     "text": [
      "100%|██████████| 238/238 [00:01<00:00, 134.89it/s]\n",
      "100%|██████████| 85/85 [00:00<00:00, 418.10it/s]\n",
      "100%|██████████| 17/17 [00:00<00:00, 479.67it/s]\n"
     ]
    },
    {
     "name": "stdout",
     "output_type": "stream",
     "text": [
      "Epoch:118/1000.. Train Loss: 0.063.. Val Loss: 0.059.. Test Loss: 0.048.. Time: 0.03m\n"
     ]
    },
    {
     "name": "stderr",
     "output_type": "stream",
     "text": [
      "100%|██████████| 238/238 [00:01<00:00, 134.28it/s]\n",
      "100%|██████████| 85/85 [00:00<00:00, 531.99it/s]\n",
      "100%|██████████| 17/17 [00:00<00:00, 502.99it/s]\n"
     ]
    },
    {
     "name": "stdout",
     "output_type": "stream",
     "text": [
      "Loss Decreasing.. 0.059 >> 0.059 \n",
      "saving model...\n",
      "Epoch:119/1000.. Train Loss: 0.063.. Val Loss: 0.059.. Test Loss: 0.048.. Time: 0.03m\n"
     ]
    },
    {
     "name": "stderr",
     "output_type": "stream",
     "text": [
      "100%|██████████| 238/238 [00:01<00:00, 133.59it/s]\n",
      "100%|██████████| 85/85 [00:00<00:00, 525.14it/s]\n",
      "100%|██████████| 17/17 [00:00<00:00, 520.07it/s]\n"
     ]
    },
    {
     "name": "stdout",
     "output_type": "stream",
     "text": [
      "Epoch:120/1000.. Train Loss: 0.063.. Val Loss: 0.059.. Test Loss: 0.048.. Time: 0.03m\n"
     ]
    },
    {
     "name": "stderr",
     "output_type": "stream",
     "text": [
      "100%|██████████| 238/238 [00:01<00:00, 133.34it/s]\n",
      "100%|██████████| 85/85 [00:00<00:00, 520.18it/s]\n",
      "100%|██████████| 17/17 [00:00<00:00, 493.03it/s]\n"
     ]
    },
    {
     "name": "stdout",
     "output_type": "stream",
     "text": [
      "Loss Decreasing.. 0.059 >> 0.059 \n",
      "saving model...\n",
      "Epoch:121/1000.. Train Loss: 0.062.. Val Loss: 0.059.. Test Loss: 0.048.. Time: 0.03m\n"
     ]
    },
    {
     "name": "stderr",
     "output_type": "stream",
     "text": [
      "100%|██████████| 238/238 [00:01<00:00, 132.08it/s]\n",
      "100%|██████████| 85/85 [00:00<00:00, 514.74it/s]\n",
      "100%|██████████| 17/17 [00:00<00:00, 485.93it/s]\n"
     ]
    },
    {
     "name": "stdout",
     "output_type": "stream",
     "text": [
      "Epoch:122/1000.. Train Loss: 0.062.. Val Loss: 0.059.. Test Loss: 0.048.. Time: 0.03m\n"
     ]
    },
    {
     "name": "stderr",
     "output_type": "stream",
     "text": [
      "100%|██████████| 238/238 [00:01<00:00, 131.92it/s]\n",
      "100%|██████████| 85/85 [00:00<00:00, 527.88it/s]\n",
      "100%|██████████| 17/17 [00:00<00:00, 489.41it/s]\n"
     ]
    },
    {
     "name": "stdout",
     "output_type": "stream",
     "text": [
      "Loss Decreasing.. 0.059 >> 0.059 \n",
      "saving model...\n",
      "Epoch:123/1000.. Train Loss: 0.062.. Val Loss: 0.059.. Test Loss: 0.048.. Time: 0.03m\n"
     ]
    },
    {
     "name": "stderr",
     "output_type": "stream",
     "text": [
      "100%|██████████| 238/238 [00:01<00:00, 132.95it/s]\n",
      "100%|██████████| 85/85 [00:00<00:00, 521.08it/s]\n",
      "100%|██████████| 17/17 [00:00<00:00, 460.28it/s]\n"
     ]
    },
    {
     "name": "stdout",
     "output_type": "stream",
     "text": [
      "Epoch:124/1000.. Train Loss: 0.062.. Val Loss: 0.059.. Test Loss: 0.048.. Time: 0.03m\n"
     ]
    },
    {
     "name": "stderr",
     "output_type": "stream",
     "text": [
      "100%|██████████| 238/238 [00:01<00:00, 133.04it/s]\n",
      "100%|██████████| 85/85 [00:00<00:00, 532.57it/s]\n",
      "100%|██████████| 17/17 [00:00<00:00, 490.57it/s]\n"
     ]
    },
    {
     "name": "stdout",
     "output_type": "stream",
     "text": [
      "Loss Decreasing.. 0.059 >> 0.058 \n",
      "saving model...\n",
      "Epoch:125/1000.. Train Loss: 0.062.. Val Loss: 0.058.. Test Loss: 0.048.. Time: 0.03m\n"
     ]
    },
    {
     "name": "stderr",
     "output_type": "stream",
     "text": [
      "100%|██████████| 238/238 [00:01<00:00, 134.28it/s]\n",
      "100%|██████████| 85/85 [00:00<00:00, 514.34it/s]\n",
      "100%|██████████| 17/17 [00:00<00:00, 489.24it/s]\n"
     ]
    },
    {
     "name": "stdout",
     "output_type": "stream",
     "text": [
      "Epoch:126/1000.. Train Loss: 0.062.. Val Loss: 0.058.. Test Loss: 0.048.. Time: 0.03m\n"
     ]
    },
    {
     "name": "stderr",
     "output_type": "stream",
     "text": [
      "100%|██████████| 238/238 [00:01<00:00, 133.44it/s]\n",
      "100%|██████████| 85/85 [00:00<00:00, 522.92it/s]\n",
      "100%|██████████| 17/17 [00:00<00:00, 478.47it/s]\n"
     ]
    },
    {
     "name": "stdout",
     "output_type": "stream",
     "text": [
      "Loss Decreasing.. 0.058 >> 0.058 \n",
      "saving model...\n",
      "Epoch:127/1000.. Train Loss: 0.062.. Val Loss: 0.058.. Test Loss: 0.048.. Time: 0.03m\n"
     ]
    },
    {
     "name": "stderr",
     "output_type": "stream",
     "text": [
      "100%|██████████| 238/238 [00:01<00:00, 137.64it/s]\n",
      "100%|██████████| 85/85 [00:00<00:00, 532.54it/s]\n",
      "100%|██████████| 17/17 [00:00<00:00, 486.46it/s]\n"
     ]
    },
    {
     "name": "stdout",
     "output_type": "stream",
     "text": [
      "Epoch:128/1000.. Train Loss: 0.062.. Val Loss: 0.059.. Test Loss: 0.048.. Time: 0.03m\n"
     ]
    },
    {
     "name": "stderr",
     "output_type": "stream",
     "text": [
      "100%|██████████| 238/238 [00:01<00:00, 135.37it/s]\n",
      "100%|██████████| 85/85 [00:00<00:00, 523.77it/s]\n",
      "100%|██████████| 17/17 [00:00<00:00, 494.33it/s]\n"
     ]
    },
    {
     "name": "stdout",
     "output_type": "stream",
     "text": [
      "Epoch:129/1000.. Train Loss: 0.062.. Val Loss: 0.059.. Test Loss: 0.048.. Time: 0.03m\n"
     ]
    },
    {
     "name": "stderr",
     "output_type": "stream",
     "text": [
      "100%|██████████| 238/238 [00:01<00:00, 140.70it/s]\n",
      "100%|██████████| 85/85 [00:00<00:00, 506.72it/s]\n",
      "100%|██████████| 17/17 [00:00<00:00, 471.44it/s]\n"
     ]
    },
    {
     "name": "stdout",
     "output_type": "stream",
     "text": [
      "Epoch:130/1000.. Train Loss: 0.061.. Val Loss: 0.058.. Test Loss: 0.048.. Time: 0.03m\n"
     ]
    },
    {
     "name": "stderr",
     "output_type": "stream",
     "text": [
      "100%|██████████| 238/238 [00:01<00:00, 134.32it/s]\n",
      "100%|██████████| 85/85 [00:00<00:00, 483.35it/s]\n",
      "100%|██████████| 17/17 [00:00<00:00, 494.13it/s]\n"
     ]
    },
    {
     "name": "stdout",
     "output_type": "stream",
     "text": [
      "Loss Decreasing.. 0.058 >> 0.058 \n",
      "saving model...\n",
      "Epoch:131/1000.. Train Loss: 0.062.. Val Loss: 0.058.. Test Loss: 0.048.. Time: 0.03m\n"
     ]
    },
    {
     "name": "stderr",
     "output_type": "stream",
     "text": [
      "100%|██████████| 238/238 [00:01<00:00, 139.29it/s]\n",
      "100%|██████████| 85/85 [00:00<00:00, 535.80it/s]\n",
      "100%|██████████| 17/17 [00:00<00:00, 490.74it/s]\n"
     ]
    },
    {
     "name": "stdout",
     "output_type": "stream",
     "text": [
      "Epoch:132/1000.. Train Loss: 0.062.. Val Loss: 0.059.. Test Loss: 0.049.. Time: 0.03m\n"
     ]
    },
    {
     "name": "stderr",
     "output_type": "stream",
     "text": [
      "100%|██████████| 238/238 [00:01<00:00, 135.26it/s]\n",
      "100%|██████████| 85/85 [00:00<00:00, 522.61it/s]\n",
      "100%|██████████| 17/17 [00:00<00:00, 481.75it/s]\n"
     ]
    },
    {
     "name": "stdout",
     "output_type": "stream",
     "text": [
      "Loss Decreasing.. 0.058 >> 0.058 \n",
      "saving model...\n",
      "Epoch:133/1000.. Train Loss: 0.061.. Val Loss: 0.058.. Test Loss: 0.048.. Time: 0.03m\n"
     ]
    },
    {
     "name": "stderr",
     "output_type": "stream",
     "text": [
      "100%|██████████| 238/238 [00:01<00:00, 135.93it/s]\n",
      "100%|██████████| 85/85 [00:00<00:00, 536.37it/s]\n",
      "100%|██████████| 17/17 [00:00<00:00, 487.48it/s]\n"
     ]
    },
    {
     "name": "stdout",
     "output_type": "stream",
     "text": [
      "Epoch:134/1000.. Train Loss: 0.062.. Val Loss: 0.058.. Test Loss: 0.048.. Time: 0.03m\n"
     ]
    },
    {
     "name": "stderr",
     "output_type": "stream",
     "text": [
      "100%|██████████| 238/238 [00:01<00:00, 138.46it/s]\n",
      "100%|██████████| 85/85 [00:00<00:00, 539.91it/s]\n",
      "100%|██████████| 17/17 [00:00<00:00, 518.20it/s]\n"
     ]
    },
    {
     "name": "stdout",
     "output_type": "stream",
     "text": [
      "Epoch:135/1000.. Train Loss: 0.062.. Val Loss: 0.058.. Test Loss: 0.049.. Time: 0.03m\n"
     ]
    },
    {
     "name": "stderr",
     "output_type": "stream",
     "text": [
      "100%|██████████| 238/238 [00:01<00:00, 135.82it/s]\n",
      "100%|██████████| 85/85 [00:00<00:00, 539.30it/s]\n",
      "100%|██████████| 17/17 [00:00<00:00, 498.11it/s]\n"
     ]
    },
    {
     "name": "stdout",
     "output_type": "stream",
     "text": [
      "Epoch:136/1000.. Train Loss: 0.062.. Val Loss: 0.058.. Test Loss: 0.048.. Time: 0.03m\n"
     ]
    },
    {
     "name": "stderr",
     "output_type": "stream",
     "text": [
      "100%|██████████| 238/238 [00:01<00:00, 134.56it/s]\n",
      "100%|██████████| 85/85 [00:00<00:00, 509.23it/s]\n",
      "100%|██████████| 17/17 [00:00<00:00, 499.58it/s]\n"
     ]
    },
    {
     "name": "stdout",
     "output_type": "stream",
     "text": [
      "Epoch:137/1000.. Train Loss: 0.062.. Val Loss: 0.058.. Test Loss: 0.048.. Time: 0.03m\n"
     ]
    },
    {
     "name": "stderr",
     "output_type": "stream",
     "text": [
      "100%|██████████| 238/238 [00:01<00:00, 132.41it/s]\n",
      "100%|██████████| 85/85 [00:00<00:00, 511.14it/s]\n",
      "100%|██████████| 17/17 [00:00<00:00, 332.37it/s]\n"
     ]
    },
    {
     "name": "stdout",
     "output_type": "stream",
     "text": [
      "Epoch:138/1000.. Train Loss: 0.061.. Val Loss: 0.058.. Test Loss: 0.048.. Time: 0.03m\n"
     ]
    },
    {
     "name": "stderr",
     "output_type": "stream",
     "text": [
      "100%|██████████| 238/238 [00:01<00:00, 137.14it/s]\n",
      "100%|██████████| 85/85 [00:00<00:00, 523.34it/s]\n",
      "100%|██████████| 17/17 [00:00<00:00, 484.75it/s]\n"
     ]
    },
    {
     "name": "stdout",
     "output_type": "stream",
     "text": [
      "Loss Decreasing.. 0.058 >> 0.058 \n",
      "saving model...\n",
      "Epoch:139/1000.. Train Loss: 0.062.. Val Loss: 0.058.. Test Loss: 0.048.. Time: 0.03m\n"
     ]
    },
    {
     "name": "stderr",
     "output_type": "stream",
     "text": [
      "100%|██████████| 238/238 [00:01<00:00, 136.37it/s]\n",
      "100%|██████████| 85/85 [00:00<00:00, 531.54it/s]\n",
      "100%|██████████| 17/17 [00:00<00:00, 486.27it/s]\n"
     ]
    },
    {
     "name": "stdout",
     "output_type": "stream",
     "text": [
      "Epoch:140/1000.. Train Loss: 0.062.. Val Loss: 0.058.. Test Loss: 0.048.. Time: 0.03m\n"
     ]
    },
    {
     "name": "stderr",
     "output_type": "stream",
     "text": [
      "100%|██████████| 238/238 [00:01<00:00, 138.51it/s]\n",
      "100%|██████████| 85/85 [00:00<00:00, 533.65it/s]\n",
      "100%|██████████| 17/17 [00:00<00:00, 490.42it/s]\n"
     ]
    },
    {
     "name": "stdout",
     "output_type": "stream",
     "text": [
      "Epoch:141/1000.. Train Loss: 0.061.. Val Loss: 0.058.. Test Loss: 0.048.. Time: 0.03m\n"
     ]
    },
    {
     "name": "stderr",
     "output_type": "stream",
     "text": [
      "100%|██████████| 238/238 [00:01<00:00, 136.17it/s]\n",
      "100%|██████████| 85/85 [00:00<00:00, 528.76it/s]\n",
      "100%|██████████| 17/17 [00:00<00:00, 479.08it/s]\n"
     ]
    },
    {
     "name": "stdout",
     "output_type": "stream",
     "text": [
      "Epoch:142/1000.. Train Loss: 0.062.. Val Loss: 0.058.. Test Loss: 0.048.. Time: 0.03m\n"
     ]
    },
    {
     "name": "stderr",
     "output_type": "stream",
     "text": [
      "100%|██████████| 238/238 [00:01<00:00, 130.69it/s]\n",
      "100%|██████████| 85/85 [00:00<00:00, 519.41it/s]\n",
      "100%|██████████| 17/17 [00:00<00:00, 487.33it/s]\n"
     ]
    },
    {
     "name": "stdout",
     "output_type": "stream",
     "text": [
      "Epoch:143/1000.. Train Loss: 0.061.. Val Loss: 0.058.. Test Loss: 0.048.. Time: 0.03m\n"
     ]
    },
    {
     "name": "stderr",
     "output_type": "stream",
     "text": [
      "100%|██████████| 238/238 [00:01<00:00, 132.49it/s]\n",
      "100%|██████████| 85/85 [00:00<00:00, 508.69it/s]\n",
      "100%|██████████| 17/17 [00:00<00:00, 481.12it/s]\n"
     ]
    },
    {
     "name": "stdout",
     "output_type": "stream",
     "text": [
      "Epoch:144/1000.. Train Loss: 0.061.. Val Loss: 0.058.. Test Loss: 0.048.. Time: 0.03m\n"
     ]
    },
    {
     "name": "stderr",
     "output_type": "stream",
     "text": [
      "100%|██████████| 238/238 [00:01<00:00, 131.23it/s]\n",
      "100%|██████████| 85/85 [00:00<00:00, 506.02it/s]\n",
      "100%|██████████| 17/17 [00:00<00:00, 474.37it/s]\n"
     ]
    },
    {
     "name": "stdout",
     "output_type": "stream",
     "text": [
      "Loss Decreasing.. 0.058 >> 0.058 \n",
      "saving model...\n",
      "Epoch:145/1000.. Train Loss: 0.061.. Val Loss: 0.058.. Test Loss: 0.048.. Time: 0.03m\n"
     ]
    },
    {
     "name": "stderr",
     "output_type": "stream",
     "text": [
      "100%|██████████| 238/238 [00:01<00:00, 134.11it/s]\n",
      "100%|██████████| 85/85 [00:00<00:00, 529.89it/s]\n",
      "100%|██████████| 17/17 [00:00<00:00, 482.58it/s]\n"
     ]
    },
    {
     "name": "stdout",
     "output_type": "stream",
     "text": [
      "Loss Decreasing.. 0.058 >> 0.058 \n",
      "saving model...\n",
      "Epoch:146/1000.. Train Loss: 0.061.. Val Loss: 0.058.. Test Loss: 0.048.. Time: 0.03m\n"
     ]
    },
    {
     "name": "stderr",
     "output_type": "stream",
     "text": [
      "100%|██████████| 238/238 [00:01<00:00, 134.19it/s]\n",
      "100%|██████████| 85/85 [00:00<00:00, 483.04it/s]\n",
      "100%|██████████| 17/17 [00:00<00:00, 490.80it/s]\n"
     ]
    },
    {
     "name": "stdout",
     "output_type": "stream",
     "text": [
      "Epoch:147/1000.. Train Loss: 0.061.. Val Loss: 0.058.. Test Loss: 0.048.. Time: 0.03m\n"
     ]
    },
    {
     "name": "stderr",
     "output_type": "stream",
     "text": [
      "100%|██████████| 238/238 [00:01<00:00, 131.94it/s]\n",
      "100%|██████████| 85/85 [00:00<00:00, 526.74it/s]\n",
      "100%|██████████| 17/17 [00:00<00:00, 485.92it/s]\n"
     ]
    },
    {
     "name": "stdout",
     "output_type": "stream",
     "text": [
      "Epoch:148/1000.. Train Loss: 0.061.. Val Loss: 0.058.. Test Loss: 0.048.. Time: 0.03m\n"
     ]
    },
    {
     "name": "stderr",
     "output_type": "stream",
     "text": [
      "100%|██████████| 238/238 [00:01<00:00, 133.92it/s]\n",
      "100%|██████████| 85/85 [00:00<00:00, 527.30it/s]\n",
      "100%|██████████| 17/17 [00:00<00:00, 463.29it/s]\n"
     ]
    },
    {
     "name": "stdout",
     "output_type": "stream",
     "text": [
      "Epoch:149/1000.. Train Loss: 0.061.. Val Loss: 0.058.. Test Loss: 0.049.. Time: 0.03m\n"
     ]
    },
    {
     "name": "stderr",
     "output_type": "stream",
     "text": [
      "100%|██████████| 238/238 [00:01<00:00, 134.21it/s]\n",
      "100%|██████████| 85/85 [00:00<00:00, 523.54it/s]\n",
      "100%|██████████| 17/17 [00:00<00:00, 477.55it/s]\n"
     ]
    },
    {
     "name": "stdout",
     "output_type": "stream",
     "text": [
      "Epoch:150/1000.. Train Loss: 0.061.. Val Loss: 0.058.. Test Loss: 0.049.. Time: 0.03m\n"
     ]
    },
    {
     "name": "stderr",
     "output_type": "stream",
     "text": [
      "100%|██████████| 238/238 [00:01<00:00, 134.23it/s]\n",
      "100%|██████████| 85/85 [00:00<00:00, 529.60it/s]\n",
      "100%|██████████| 17/17 [00:00<00:00, 489.33it/s]\n"
     ]
    },
    {
     "name": "stdout",
     "output_type": "stream",
     "text": [
      "Epoch:151/1000.. Train Loss: 0.061.. Val Loss: 0.058.. Test Loss: 0.049.. Time: 0.03m\n"
     ]
    },
    {
     "name": "stderr",
     "output_type": "stream",
     "text": [
      "100%|██████████| 238/238 [00:01<00:00, 142.43it/s]\n",
      "100%|██████████| 85/85 [00:00<00:00, 524.45it/s]\n",
      "100%|██████████| 17/17 [00:00<00:00, 501.87it/s]\n"
     ]
    },
    {
     "name": "stdout",
     "output_type": "stream",
     "text": [
      "Epoch:152/1000.. Train Loss: 0.061.. Val Loss: 0.058.. Test Loss: 0.049.. Time: 0.03m\n"
     ]
    },
    {
     "name": "stderr",
     "output_type": "stream",
     "text": [
      "100%|██████████| 238/238 [00:01<00:00, 133.16it/s]\n",
      "100%|██████████| 85/85 [00:00<00:00, 525.63it/s]\n",
      "100%|██████████| 17/17 [00:00<00:00, 476.36it/s]\n"
     ]
    },
    {
     "name": "stdout",
     "output_type": "stream",
     "text": [
      "Loss Decreasing.. 0.058 >> 0.058 \n",
      "saving model...\n",
      "Epoch:153/1000.. Train Loss: 0.061.. Val Loss: 0.058.. Test Loss: 0.049.. Time: 0.03m\n"
     ]
    },
    {
     "name": "stderr",
     "output_type": "stream",
     "text": [
      "100%|██████████| 238/238 [00:01<00:00, 131.17it/s]\n",
      "100%|██████████| 85/85 [00:00<00:00, 541.85it/s]\n",
      "100%|██████████| 17/17 [00:00<00:00, 487.32it/s]\n"
     ]
    },
    {
     "name": "stdout",
     "output_type": "stream",
     "text": [
      "Epoch:154/1000.. Train Loss: 0.061.. Val Loss: 0.058.. Test Loss: 0.049.. Time: 0.03m\n"
     ]
    },
    {
     "name": "stderr",
     "output_type": "stream",
     "text": [
      "100%|██████████| 238/238 [00:01<00:00, 134.14it/s]\n",
      "100%|██████████| 85/85 [00:00<00:00, 531.06it/s]\n",
      "100%|██████████| 17/17 [00:00<00:00, 510.63it/s]\n"
     ]
    },
    {
     "name": "stdout",
     "output_type": "stream",
     "text": [
      "Loss Decreasing.. 0.058 >> 0.057 \n",
      "saving model...\n",
      "Epoch:155/1000.. Train Loss: 0.061.. Val Loss: 0.057.. Test Loss: 0.049.. Time: 0.03m\n"
     ]
    },
    {
     "name": "stderr",
     "output_type": "stream",
     "text": [
      "100%|██████████| 238/238 [00:01<00:00, 134.87it/s]\n",
      "100%|██████████| 85/85 [00:00<00:00, 526.19it/s]\n",
      "100%|██████████| 17/17 [00:00<00:00, 500.00it/s]\n"
     ]
    },
    {
     "name": "stdout",
     "output_type": "stream",
     "text": [
      "Epoch:156/1000.. Train Loss: 0.061.. Val Loss: 0.058.. Test Loss: 0.049.. Time: 0.03m\n"
     ]
    },
    {
     "name": "stderr",
     "output_type": "stream",
     "text": [
      "100%|██████████| 238/238 [00:01<00:00, 133.25it/s]\n",
      "100%|██████████| 85/85 [00:00<00:00, 513.46it/s]\n",
      "100%|██████████| 17/17 [00:00<00:00, 479.27it/s]\n"
     ]
    },
    {
     "name": "stdout",
     "output_type": "stream",
     "text": [
      "Epoch:157/1000.. Train Loss: 0.061.. Val Loss: 0.058.. Test Loss: 0.048.. Time: 0.03m\n"
     ]
    },
    {
     "name": "stderr",
     "output_type": "stream",
     "text": [
      "100%|██████████| 238/238 [00:01<00:00, 131.70it/s]\n",
      "100%|██████████| 85/85 [00:00<00:00, 513.53it/s]\n",
      "100%|██████████| 17/17 [00:00<00:00, 499.69it/s]\n"
     ]
    },
    {
     "name": "stdout",
     "output_type": "stream",
     "text": [
      "Epoch:158/1000.. Train Loss: 0.061.. Val Loss: 0.057.. Test Loss: 0.048.. Time: 0.03m\n"
     ]
    },
    {
     "name": "stderr",
     "output_type": "stream",
     "text": [
      "100%|██████████| 238/238 [00:01<00:00, 134.61it/s]\n",
      "100%|██████████| 85/85 [00:00<00:00, 528.60it/s]\n",
      "100%|██████████| 17/17 [00:00<00:00, 495.20it/s]\n"
     ]
    },
    {
     "name": "stdout",
     "output_type": "stream",
     "text": [
      "Epoch:159/1000.. Train Loss: 0.061.. Val Loss: 0.058.. Test Loss: 0.049.. Time: 0.03m\n"
     ]
    },
    {
     "name": "stderr",
     "output_type": "stream",
     "text": [
      "100%|██████████| 238/238 [00:01<00:00, 134.08it/s]\n",
      "100%|██████████| 85/85 [00:00<00:00, 502.52it/s]\n",
      "100%|██████████| 17/17 [00:00<00:00, 478.11it/s]\n"
     ]
    },
    {
     "name": "stdout",
     "output_type": "stream",
     "text": [
      "Epoch:160/1000.. Train Loss: 0.061.. Val Loss: 0.058.. Test Loss: 0.049.. Time: 0.03m\n"
     ]
    },
    {
     "name": "stderr",
     "output_type": "stream",
     "text": [
      "100%|██████████| 238/238 [00:01<00:00, 132.42it/s]\n",
      "100%|██████████| 85/85 [00:00<00:00, 520.86it/s]\n",
      "100%|██████████| 17/17 [00:00<00:00, 513.56it/s]\n"
     ]
    },
    {
     "name": "stdout",
     "output_type": "stream",
     "text": [
      "Epoch:161/1000.. Train Loss: 0.060.. Val Loss: 0.057.. Test Loss: 0.048.. Time: 0.03m\n"
     ]
    },
    {
     "name": "stderr",
     "output_type": "stream",
     "text": [
      "100%|██████████| 238/238 [00:01<00:00, 130.87it/s]\n",
      "100%|██████████| 85/85 [00:00<00:00, 532.40it/s]\n",
      "100%|██████████| 17/17 [00:00<00:00, 519.59it/s]\n"
     ]
    },
    {
     "name": "stdout",
     "output_type": "stream",
     "text": [
      "Epoch:162/1000.. Train Loss: 0.061.. Val Loss: 0.058.. Test Loss: 0.048.. Time: 0.03m\n"
     ]
    },
    {
     "name": "stderr",
     "output_type": "stream",
     "text": [
      "100%|██████████| 238/238 [00:01<00:00, 130.07it/s]\n",
      "100%|██████████| 85/85 [00:00<00:00, 532.00it/s]\n",
      "100%|██████████| 17/17 [00:00<00:00, 484.56it/s]\n"
     ]
    },
    {
     "name": "stdout",
     "output_type": "stream",
     "text": [
      "Epoch:163/1000.. Train Loss: 0.061.. Val Loss: 0.058.. Test Loss: 0.049.. Time: 0.03m\n"
     ]
    },
    {
     "name": "stderr",
     "output_type": "stream",
     "text": [
      "100%|██████████| 238/238 [00:01<00:00, 135.23it/s]\n",
      "100%|██████████| 85/85 [00:00<00:00, 541.21it/s]\n",
      "100%|██████████| 17/17 [00:00<00:00, 500.84it/s]\n"
     ]
    },
    {
     "name": "stdout",
     "output_type": "stream",
     "text": [
      "Epoch:164/1000.. Train Loss: 0.060.. Val Loss: 0.057.. Test Loss: 0.049.. Time: 0.03m\n"
     ]
    },
    {
     "name": "stderr",
     "output_type": "stream",
     "text": [
      "100%|██████████| 238/238 [00:01<00:00, 136.88it/s]\n",
      "100%|██████████| 85/85 [00:00<00:00, 534.48it/s]\n",
      "100%|██████████| 17/17 [00:00<00:00, 498.20it/s]\n"
     ]
    },
    {
     "name": "stdout",
     "output_type": "stream",
     "text": [
      "Loss Decreasing.. 0.057 >> 0.057 \n",
      "saving model...\n",
      "Epoch:165/1000.. Train Loss: 0.061.. Val Loss: 0.057.. Test Loss: 0.049.. Time: 0.03m\n"
     ]
    },
    {
     "name": "stderr",
     "output_type": "stream",
     "text": [
      "100%|██████████| 238/238 [00:01<00:00, 132.48it/s]\n",
      "100%|██████████| 85/85 [00:00<00:00, 525.56it/s]\n",
      "100%|██████████| 17/17 [00:00<00:00, 499.29it/s]\n"
     ]
    },
    {
     "name": "stdout",
     "output_type": "stream",
     "text": [
      "Epoch:166/1000.. Train Loss: 0.061.. Val Loss: 0.057.. Test Loss: 0.050.. Time: 0.03m\n"
     ]
    },
    {
     "name": "stderr",
     "output_type": "stream",
     "text": [
      "100%|██████████| 238/238 [00:01<00:00, 132.90it/s]\n",
      "100%|██████████| 85/85 [00:00<00:00, 533.38it/s]\n",
      "100%|██████████| 17/17 [00:00<00:00, 494.25it/s]\n"
     ]
    },
    {
     "name": "stdout",
     "output_type": "stream",
     "text": [
      "Epoch:167/1000.. Train Loss: 0.061.. Val Loss: 0.057.. Test Loss: 0.049.. Time: 0.03m\n"
     ]
    },
    {
     "name": "stderr",
     "output_type": "stream",
     "text": [
      "100%|██████████| 238/238 [00:01<00:00, 132.65it/s]\n",
      "100%|██████████| 85/85 [00:00<00:00, 533.06it/s]\n",
      "100%|██████████| 17/17 [00:00<00:00, 477.13it/s]\n"
     ]
    },
    {
     "name": "stdout",
     "output_type": "stream",
     "text": [
      "Loss Decreasing.. 0.057 >> 0.057 \n",
      "saving model...\n",
      "Epoch:168/1000.. Train Loss: 0.061.. Val Loss: 0.057.. Test Loss: 0.048.. Time: 0.03m\n"
     ]
    },
    {
     "name": "stderr",
     "output_type": "stream",
     "text": [
      "100%|██████████| 238/238 [00:01<00:00, 134.23it/s]\n",
      "100%|██████████| 85/85 [00:00<00:00, 542.66it/s]\n",
      "100%|██████████| 17/17 [00:00<00:00, 544.26it/s]\n"
     ]
    },
    {
     "name": "stdout",
     "output_type": "stream",
     "text": [
      "Epoch:169/1000.. Train Loss: 0.061.. Val Loss: 0.057.. Test Loss: 0.049.. Time: 0.03m\n"
     ]
    },
    {
     "name": "stderr",
     "output_type": "stream",
     "text": [
      "100%|██████████| 238/238 [00:01<00:00, 135.21it/s]\n",
      "100%|██████████| 85/85 [00:00<00:00, 533.94it/s]\n",
      "100%|██████████| 17/17 [00:00<00:00, 495.52it/s]\n"
     ]
    },
    {
     "name": "stdout",
     "output_type": "stream",
     "text": [
      "Loss Decreasing.. 0.057 >> 0.057 \n",
      "saving model...\n",
      "Epoch:170/1000.. Train Loss: 0.061.. Val Loss: 0.057.. Test Loss: 0.048.. Time: 0.03m\n"
     ]
    },
    {
     "name": "stderr",
     "output_type": "stream",
     "text": [
      "100%|██████████| 238/238 [00:01<00:00, 134.17it/s]\n",
      "100%|██████████| 85/85 [00:00<00:00, 540.84it/s]\n",
      "100%|██████████| 17/17 [00:00<00:00, 501.61it/s]\n"
     ]
    },
    {
     "name": "stdout",
     "output_type": "stream",
     "text": [
      "Epoch:171/1000.. Train Loss: 0.060.. Val Loss: 0.057.. Test Loss: 0.048.. Time: 0.03m\n"
     ]
    },
    {
     "name": "stderr",
     "output_type": "stream",
     "text": [
      "100%|██████████| 238/238 [00:01<00:00, 134.85it/s]\n",
      "100%|██████████| 85/85 [00:00<00:00, 503.19it/s]\n",
      "100%|██████████| 17/17 [00:00<00:00, 472.13it/s]\n"
     ]
    },
    {
     "name": "stdout",
     "output_type": "stream",
     "text": [
      "Epoch:172/1000.. Train Loss: 0.060.. Val Loss: 0.058.. Test Loss: 0.050.. Time: 0.03m\n"
     ]
    },
    {
     "name": "stderr",
     "output_type": "stream",
     "text": [
      "100%|██████████| 238/238 [00:01<00:00, 134.16it/s]\n",
      "100%|██████████| 85/85 [00:00<00:00, 517.89it/s]\n",
      "100%|██████████| 17/17 [00:00<00:00, 498.33it/s]\n"
     ]
    },
    {
     "name": "stdout",
     "output_type": "stream",
     "text": [
      "Epoch:173/1000.. Train Loss: 0.060.. Val Loss: 0.057.. Test Loss: 0.049.. Time: 0.03m\n"
     ]
    },
    {
     "name": "stderr",
     "output_type": "stream",
     "text": [
      "100%|██████████| 238/238 [00:01<00:00, 130.51it/s]\n",
      "100%|██████████| 85/85 [00:00<00:00, 522.22it/s]\n",
      "100%|██████████| 17/17 [00:00<00:00, 472.19it/s]\n"
     ]
    },
    {
     "name": "stdout",
     "output_type": "stream",
     "text": [
      "Epoch:174/1000.. Train Loss: 0.061.. Val Loss: 0.057.. Test Loss: 0.049.. Time: 0.03m\n"
     ]
    },
    {
     "name": "stderr",
     "output_type": "stream",
     "text": [
      "100%|██████████| 238/238 [00:01<00:00, 128.18it/s]\n",
      "100%|██████████| 85/85 [00:00<00:00, 496.65it/s]\n",
      "100%|██████████| 17/17 [00:00<00:00, 505.52it/s]\n"
     ]
    },
    {
     "name": "stdout",
     "output_type": "stream",
     "text": [
      "Epoch:175/1000.. Train Loss: 0.060.. Val Loss: 0.057.. Test Loss: 0.049.. Time: 0.04m\n"
     ]
    },
    {
     "name": "stderr",
     "output_type": "stream",
     "text": [
      "100%|██████████| 238/238 [00:01<00:00, 130.00it/s]\n",
      "100%|██████████| 85/85 [00:00<00:00, 532.47it/s]\n",
      "100%|██████████| 17/17 [00:00<00:00, 498.88it/s]\n"
     ]
    },
    {
     "name": "stdout",
     "output_type": "stream",
     "text": [
      "Loss Decreasing.. 0.057 >> 0.057 \n",
      "saving model...\n",
      "Epoch:176/1000.. Train Loss: 0.060.. Val Loss: 0.057.. Test Loss: 0.049.. Time: 0.03m\n"
     ]
    },
    {
     "name": "stderr",
     "output_type": "stream",
     "text": [
      "100%|██████████| 238/238 [00:01<00:00, 140.19it/s]\n",
      "100%|██████████| 85/85 [00:00<00:00, 529.84it/s]\n",
      "100%|██████████| 17/17 [00:00<00:00, 485.91it/s]\n"
     ]
    },
    {
     "name": "stdout",
     "output_type": "stream",
     "text": [
      "Epoch:177/1000.. Train Loss: 0.060.. Val Loss: 0.057.. Test Loss: 0.050.. Time: 0.03m\n"
     ]
    },
    {
     "name": "stderr",
     "output_type": "stream",
     "text": [
      "100%|██████████| 238/238 [00:01<00:00, 129.07it/s]\n",
      "100%|██████████| 85/85 [00:00<00:00, 538.42it/s]\n",
      "100%|██████████| 17/17 [00:00<00:00, 488.93it/s]\n"
     ]
    },
    {
     "name": "stdout",
     "output_type": "stream",
     "text": [
      "Loss Decreasing.. 0.057 >> 0.057 \n",
      "saving model...\n",
      "Epoch:178/1000.. Train Loss: 0.060.. Val Loss: 0.057.. Test Loss: 0.049.. Time: 0.03m\n"
     ]
    },
    {
     "name": "stderr",
     "output_type": "stream",
     "text": [
      "100%|██████████| 238/238 [00:01<00:00, 134.17it/s]\n",
      "100%|██████████| 85/85 [00:00<00:00, 490.57it/s]\n",
      "100%|██████████| 17/17 [00:00<00:00, 493.01it/s]\n"
     ]
    },
    {
     "name": "stdout",
     "output_type": "stream",
     "text": [
      "Loss Decreasing.. 0.057 >> 0.057 \n",
      "saving model...\n",
      "Epoch:179/1000.. Train Loss: 0.060.. Val Loss: 0.057.. Test Loss: 0.050.. Time: 0.03m\n"
     ]
    },
    {
     "name": "stderr",
     "output_type": "stream",
     "text": [
      "100%|██████████| 238/238 [00:01<00:00, 131.45it/s]\n",
      "100%|██████████| 85/85 [00:00<00:00, 532.03it/s]\n",
      "100%|██████████| 17/17 [00:00<00:00, 482.17it/s]\n"
     ]
    },
    {
     "name": "stdout",
     "output_type": "stream",
     "text": [
      "Loss Decreasing.. 0.057 >> 0.057 \n",
      "saving model...\n",
      "Epoch:180/1000.. Train Loss: 0.060.. Val Loss: 0.057.. Test Loss: 0.050.. Time: 0.03m\n"
     ]
    },
    {
     "name": "stderr",
     "output_type": "stream",
     "text": [
      "100%|██████████| 238/238 [00:01<00:00, 140.30it/s]\n",
      "100%|██████████| 85/85 [00:00<00:00, 534.12it/s]\n",
      "100%|██████████| 17/17 [00:00<00:00, 496.31it/s]\n"
     ]
    },
    {
     "name": "stdout",
     "output_type": "stream",
     "text": [
      "Epoch:181/1000.. Train Loss: 0.060.. Val Loss: 0.057.. Test Loss: 0.050.. Time: 0.03m\n"
     ]
    },
    {
     "name": "stderr",
     "output_type": "stream",
     "text": [
      "100%|██████████| 238/238 [00:01<00:00, 133.32it/s]\n",
      "100%|██████████| 85/85 [00:00<00:00, 502.56it/s]\n",
      "100%|██████████| 17/17 [00:00<00:00, 472.33it/s]\n"
     ]
    },
    {
     "name": "stdout",
     "output_type": "stream",
     "text": [
      "Epoch:182/1000.. Train Loss: 0.060.. Val Loss: 0.057.. Test Loss: 0.049.. Time: 0.03m\n"
     ]
    },
    {
     "name": "stderr",
     "output_type": "stream",
     "text": [
      "100%|██████████| 238/238 [00:01<00:00, 135.62it/s]\n",
      "100%|██████████| 85/85 [00:00<00:00, 527.86it/s]\n",
      "100%|██████████| 17/17 [00:00<00:00, 489.78it/s]\n"
     ]
    },
    {
     "name": "stdout",
     "output_type": "stream",
     "text": [
      "Epoch:183/1000.. Train Loss: 0.060.. Val Loss: 0.057.. Test Loss: 0.049.. Time: 0.03m\n"
     ]
    },
    {
     "name": "stderr",
     "output_type": "stream",
     "text": [
      "100%|██████████| 238/238 [00:01<00:00, 134.84it/s]\n",
      "100%|██████████| 85/85 [00:00<00:00, 526.92it/s]\n",
      "100%|██████████| 17/17 [00:00<00:00, 484.76it/s]\n"
     ]
    },
    {
     "name": "stdout",
     "output_type": "stream",
     "text": [
      "Epoch:184/1000.. Train Loss: 0.060.. Val Loss: 0.057.. Test Loss: 0.048.. Time: 0.03m\n"
     ]
    },
    {
     "name": "stderr",
     "output_type": "stream",
     "text": [
      "100%|██████████| 238/238 [00:01<00:00, 135.05it/s]\n",
      "100%|██████████| 85/85 [00:00<00:00, 527.42it/s]\n",
      "100%|██████████| 17/17 [00:00<00:00, 489.12it/s]\n"
     ]
    },
    {
     "name": "stdout",
     "output_type": "stream",
     "text": [
      "Epoch:185/1000.. Train Loss: 0.060.. Val Loss: 0.057.. Test Loss: 0.049.. Time: 0.03m\n"
     ]
    },
    {
     "name": "stderr",
     "output_type": "stream",
     "text": [
      "100%|██████████| 238/238 [00:01<00:00, 134.34it/s]\n",
      "100%|██████████| 85/85 [00:00<00:00, 529.36it/s]\n",
      "100%|██████████| 17/17 [00:00<00:00, 521.36it/s]\n"
     ]
    },
    {
     "name": "stdout",
     "output_type": "stream",
     "text": [
      "Epoch:186/1000.. Train Loss: 0.060.. Val Loss: 0.057.. Test Loss: 0.049.. Time: 0.03m\n"
     ]
    },
    {
     "name": "stderr",
     "output_type": "stream",
     "text": [
      "100%|██████████| 238/238 [00:01<00:00, 133.71it/s]\n",
      "100%|██████████| 85/85 [00:00<00:00, 533.23it/s]\n",
      "100%|██████████| 17/17 [00:00<00:00, 495.02it/s]\n"
     ]
    },
    {
     "name": "stdout",
     "output_type": "stream",
     "text": [
      "Loss Decreasing.. 0.057 >> 0.057 \n",
      "saving model...\n",
      "Epoch:187/1000.. Train Loss: 0.060.. Val Loss: 0.057.. Test Loss: 0.049.. Time: 0.03m\n"
     ]
    },
    {
     "name": "stderr",
     "output_type": "stream",
     "text": [
      "100%|██████████| 238/238 [00:01<00:00, 133.23it/s]\n",
      "100%|██████████| 85/85 [00:00<00:00, 541.01it/s]\n",
      "100%|██████████| 17/17 [00:00<00:00, 496.69it/s]\n"
     ]
    },
    {
     "name": "stdout",
     "output_type": "stream",
     "text": [
      "Epoch:188/1000.. Train Loss: 0.060.. Val Loss: 0.057.. Test Loss: 0.049.. Time: 0.03m\n"
     ]
    },
    {
     "name": "stderr",
     "output_type": "stream",
     "text": [
      "100%|██████████| 238/238 [00:01<00:00, 138.28it/s]\n",
      "100%|██████████| 85/85 [00:00<00:00, 534.48it/s]\n",
      "100%|██████████| 17/17 [00:00<00:00, 494.95it/s]\n"
     ]
    },
    {
     "name": "stdout",
     "output_type": "stream",
     "text": [
      "Epoch:189/1000.. Train Loss: 0.060.. Val Loss: 0.057.. Test Loss: 0.050.. Time: 0.03m\n"
     ]
    },
    {
     "name": "stderr",
     "output_type": "stream",
     "text": [
      "100%|██████████| 238/238 [00:01<00:00, 139.07it/s]\n",
      "100%|██████████| 85/85 [00:00<00:00, 527.17it/s]\n",
      "100%|██████████| 17/17 [00:00<00:00, 499.73it/s]\n"
     ]
    },
    {
     "name": "stdout",
     "output_type": "stream",
     "text": [
      "Epoch:190/1000.. Train Loss: 0.060.. Val Loss: 0.057.. Test Loss: 0.049.. Time: 0.03m\n"
     ]
    },
    {
     "name": "stderr",
     "output_type": "stream",
     "text": [
      "100%|██████████| 238/238 [00:01<00:00, 133.38it/s]\n",
      "100%|██████████| 85/85 [00:00<00:00, 535.21it/s]\n",
      "100%|██████████| 17/17 [00:00<00:00, 486.86it/s]\n"
     ]
    },
    {
     "name": "stdout",
     "output_type": "stream",
     "text": [
      "Epoch:191/1000.. Train Loss: 0.060.. Val Loss: 0.057.. Test Loss: 0.049.. Time: 0.03m\n"
     ]
    },
    {
     "name": "stderr",
     "output_type": "stream",
     "text": [
      "100%|██████████| 238/238 [00:01<00:00, 134.10it/s]\n",
      "100%|██████████| 85/85 [00:00<00:00, 531.87it/s]\n",
      "100%|██████████| 17/17 [00:00<00:00, 515.23it/s]\n"
     ]
    },
    {
     "name": "stdout",
     "output_type": "stream",
     "text": [
      "Epoch:192/1000.. Train Loss: 0.060.. Val Loss: 0.057.. Test Loss: 0.049.. Time: 0.03m\n"
     ]
    },
    {
     "name": "stderr",
     "output_type": "stream",
     "text": [
      "100%|██████████| 238/238 [00:01<00:00, 133.55it/s]\n",
      "100%|██████████| 85/85 [00:00<00:00, 538.12it/s]\n",
      "100%|██████████| 17/17 [00:00<00:00, 483.68it/s]\n"
     ]
    },
    {
     "name": "stdout",
     "output_type": "stream",
     "text": [
      "Loss Decreasing.. 0.057 >> 0.057 \n",
      "saving model...\n",
      "Epoch:193/1000.. Train Loss: 0.060.. Val Loss: 0.057.. Test Loss: 0.050.. Time: 0.03m\n"
     ]
    },
    {
     "name": "stderr",
     "output_type": "stream",
     "text": [
      "100%|██████████| 238/238 [00:01<00:00, 135.70it/s]\n",
      "100%|██████████| 85/85 [00:00<00:00, 537.55it/s]\n",
      "100%|██████████| 17/17 [00:00<00:00, 492.48it/s]\n"
     ]
    },
    {
     "name": "stdout",
     "output_type": "stream",
     "text": [
      "Loss Decreasing.. 0.057 >> 0.056 \n",
      "saving model...\n",
      "Epoch:194/1000.. Train Loss: 0.060.. Val Loss: 0.056.. Test Loss: 0.050.. Time: 0.03m\n"
     ]
    },
    {
     "name": "stderr",
     "output_type": "stream",
     "text": [
      "100%|██████████| 238/238 [00:01<00:00, 133.94it/s]\n",
      "100%|██████████| 85/85 [00:00<00:00, 515.72it/s]\n",
      "100%|██████████| 17/17 [00:00<00:00, 451.92it/s]\n"
     ]
    },
    {
     "name": "stdout",
     "output_type": "stream",
     "text": [
      "Epoch:195/1000.. Train Loss: 0.060.. Val Loss: 0.057.. Test Loss: 0.049.. Time: 0.03m\n"
     ]
    },
    {
     "name": "stderr",
     "output_type": "stream",
     "text": [
      "100%|██████████| 238/238 [00:01<00:00, 134.35it/s]\n",
      "100%|██████████| 85/85 [00:00<00:00, 532.31it/s]\n",
      "100%|██████████| 17/17 [00:00<00:00, 480.13it/s]\n"
     ]
    },
    {
     "name": "stdout",
     "output_type": "stream",
     "text": [
      "Epoch:196/1000.. Train Loss: 0.060.. Val Loss: 0.057.. Test Loss: 0.051.. Time: 0.03m\n"
     ]
    },
    {
     "name": "stderr",
     "output_type": "stream",
     "text": [
      "100%|██████████| 238/238 [00:01<00:00, 133.10it/s]\n",
      "100%|██████████| 85/85 [00:00<00:00, 513.45it/s]\n",
      "100%|██████████| 17/17 [00:00<00:00, 431.09it/s]\n"
     ]
    },
    {
     "name": "stdout",
     "output_type": "stream",
     "text": [
      "Epoch:197/1000.. Train Loss: 0.060.. Val Loss: 0.057.. Test Loss: 0.051.. Time: 0.03m\n"
     ]
    },
    {
     "name": "stderr",
     "output_type": "stream",
     "text": [
      "100%|██████████| 238/238 [00:01<00:00, 134.03it/s]\n",
      "100%|██████████| 85/85 [00:00<00:00, 535.73it/s]\n",
      "100%|██████████| 17/17 [00:00<00:00, 485.62it/s]\n"
     ]
    },
    {
     "name": "stdout",
     "output_type": "stream",
     "text": [
      "Epoch:198/1000.. Train Loss: 0.060.. Val Loss: 0.057.. Test Loss: 0.049.. Time: 0.03m\n"
     ]
    },
    {
     "name": "stderr",
     "output_type": "stream",
     "text": [
      "100%|██████████| 238/238 [00:01<00:00, 133.12it/s]\n",
      "100%|██████████| 85/85 [00:00<00:00, 539.13it/s]\n",
      "100%|██████████| 17/17 [00:00<00:00, 492.19it/s]\n"
     ]
    },
    {
     "name": "stdout",
     "output_type": "stream",
     "text": [
      "Loss Decreasing.. 0.056 >> 0.056 \n",
      "saving model...\n",
      "Epoch:199/1000.. Train Loss: 0.060.. Val Loss: 0.056.. Test Loss: 0.049.. Time: 0.03m\n"
     ]
    },
    {
     "name": "stderr",
     "output_type": "stream",
     "text": [
      "100%|██████████| 238/238 [00:01<00:00, 133.57it/s]\n",
      "100%|██████████| 85/85 [00:00<00:00, 516.61it/s]\n",
      "100%|██████████| 17/17 [00:00<00:00, 472.22it/s]\n"
     ]
    },
    {
     "name": "stdout",
     "output_type": "stream",
     "text": [
      "Epoch:200/1000.. Train Loss: 0.060.. Val Loss: 0.057.. Test Loss: 0.051.. Time: 0.03m\n"
     ]
    },
    {
     "name": "stderr",
     "output_type": "stream",
     "text": [
      "100%|██████████| 238/238 [00:01<00:00, 131.12it/s]\n",
      "100%|██████████| 85/85 [00:00<00:00, 500.35it/s]\n",
      "100%|██████████| 17/17 [00:00<00:00, 483.31it/s]\n"
     ]
    },
    {
     "name": "stdout",
     "output_type": "stream",
     "text": [
      "Loss Decreasing.. 0.056 >> 0.056 \n",
      "saving model...\n",
      "Epoch:201/1000.. Train Loss: 0.060.. Val Loss: 0.056.. Test Loss: 0.051.. Time: 0.03m\n"
     ]
    },
    {
     "name": "stderr",
     "output_type": "stream",
     "text": [
      "100%|██████████| 238/238 [00:01<00:00, 133.57it/s]\n",
      "100%|██████████| 85/85 [00:00<00:00, 518.23it/s]\n",
      "100%|██████████| 17/17 [00:00<00:00, 477.93it/s]\n"
     ]
    },
    {
     "name": "stdout",
     "output_type": "stream",
     "text": [
      "Epoch:202/1000.. Train Loss: 0.060.. Val Loss: 0.056.. Test Loss: 0.049.. Time: 0.03m\n"
     ]
    },
    {
     "name": "stderr",
     "output_type": "stream",
     "text": [
      "100%|██████████| 238/238 [00:01<00:00, 130.85it/s]\n",
      "100%|██████████| 85/85 [00:00<00:00, 511.49it/s]\n",
      "100%|██████████| 17/17 [00:00<00:00, 477.73it/s]\n"
     ]
    },
    {
     "name": "stdout",
     "output_type": "stream",
     "text": [
      "Epoch:203/1000.. Train Loss: 0.060.. Val Loss: 0.056.. Test Loss: 0.049.. Time: 0.03m\n"
     ]
    },
    {
     "name": "stderr",
     "output_type": "stream",
     "text": [
      "100%|██████████| 238/238 [00:01<00:00, 131.51it/s]\n",
      "100%|██████████| 85/85 [00:00<00:00, 527.21it/s]\n",
      "100%|██████████| 17/17 [00:00<00:00, 479.68it/s]\n"
     ]
    },
    {
     "name": "stdout",
     "output_type": "stream",
     "text": [
      "Epoch:204/1000.. Train Loss: 0.060.. Val Loss: 0.056.. Test Loss: 0.049.. Time: 0.03m\n"
     ]
    },
    {
     "name": "stderr",
     "output_type": "stream",
     "text": [
      "100%|██████████| 238/238 [00:01<00:00, 133.31it/s]\n",
      "100%|██████████| 85/85 [00:00<00:00, 511.67it/s]\n",
      "100%|██████████| 17/17 [00:00<00:00, 475.23it/s]\n"
     ]
    },
    {
     "name": "stdout",
     "output_type": "stream",
     "text": [
      "Epoch:205/1000.. Train Loss: 0.059.. Val Loss: 0.057.. Test Loss: 0.049.. Time: 0.03m\n"
     ]
    },
    {
     "name": "stderr",
     "output_type": "stream",
     "text": [
      "100%|██████████| 238/238 [00:01<00:00, 132.28it/s]\n",
      "100%|██████████| 85/85 [00:00<00:00, 504.23it/s]\n",
      "100%|██████████| 17/17 [00:00<00:00, 477.10it/s]\n"
     ]
    },
    {
     "name": "stdout",
     "output_type": "stream",
     "text": [
      "Epoch:206/1000.. Train Loss: 0.060.. Val Loss: 0.057.. Test Loss: 0.050.. Time: 0.03m\n"
     ]
    },
    {
     "name": "stderr",
     "output_type": "stream",
     "text": [
      "100%|██████████| 238/238 [00:01<00:00, 133.35it/s]\n",
      "100%|██████████| 85/85 [00:00<00:00, 540.13it/s]\n",
      "100%|██████████| 17/17 [00:00<00:00, 413.23it/s]\n"
     ]
    },
    {
     "name": "stdout",
     "output_type": "stream",
     "text": [
      "Loss Decreasing.. 0.056 >> 0.056 \n",
      "saving model...\n",
      "Epoch:207/1000.. Train Loss: 0.059.. Val Loss: 0.056.. Test Loss: 0.052.. Time: 0.03m\n"
     ]
    },
    {
     "name": "stderr",
     "output_type": "stream",
     "text": [
      "100%|██████████| 238/238 [00:01<00:00, 131.45it/s]\n",
      "100%|██████████| 85/85 [00:00<00:00, 525.45it/s]\n",
      "100%|██████████| 17/17 [00:00<00:00, 491.11it/s]\n"
     ]
    },
    {
     "name": "stdout",
     "output_type": "stream",
     "text": [
      "Epoch:208/1000.. Train Loss: 0.059.. Val Loss: 0.056.. Test Loss: 0.050.. Time: 0.03m\n"
     ]
    },
    {
     "name": "stderr",
     "output_type": "stream",
     "text": [
      "100%|██████████| 238/238 [00:01<00:00, 129.95it/s]\n",
      "100%|██████████| 85/85 [00:00<00:00, 514.35it/s]\n",
      "100%|██████████| 17/17 [00:00<00:00, 510.45it/s]\n"
     ]
    },
    {
     "name": "stdout",
     "output_type": "stream",
     "text": [
      "Loss Decreasing.. 0.056 >> 0.056 \n",
      "saving model...\n",
      "Epoch:209/1000.. Train Loss: 0.059.. Val Loss: 0.056.. Test Loss: 0.050.. Time: 0.03m\n"
     ]
    },
    {
     "name": "stderr",
     "output_type": "stream",
     "text": [
      "100%|██████████| 238/238 [00:01<00:00, 133.82it/s]\n",
      "100%|██████████| 85/85 [00:00<00:00, 540.82it/s]\n",
      "100%|██████████| 17/17 [00:00<00:00, 492.79it/s]\n"
     ]
    },
    {
     "name": "stdout",
     "output_type": "stream",
     "text": [
      "Epoch:210/1000.. Train Loss: 0.059.. Val Loss: 0.057.. Test Loss: 0.052.. Time: 0.03m\n"
     ]
    },
    {
     "name": "stderr",
     "output_type": "stream",
     "text": [
      "100%|██████████| 238/238 [00:01<00:00, 135.45it/s]\n",
      "100%|██████████| 85/85 [00:00<00:00, 538.00it/s]\n",
      "100%|██████████| 17/17 [00:00<00:00, 498.64it/s]\n"
     ]
    },
    {
     "name": "stdout",
     "output_type": "stream",
     "text": [
      "Loss Decreasing.. 0.056 >> 0.056 \n",
      "saving model...\n",
      "Epoch:211/1000.. Train Loss: 0.060.. Val Loss: 0.056.. Test Loss: 0.050.. Time: 0.03m\n"
     ]
    },
    {
     "name": "stderr",
     "output_type": "stream",
     "text": [
      "100%|██████████| 238/238 [00:01<00:00, 140.02it/s]\n",
      "100%|██████████| 85/85 [00:00<00:00, 513.74it/s]\n",
      "100%|██████████| 17/17 [00:00<00:00, 464.18it/s]\n"
     ]
    },
    {
     "name": "stdout",
     "output_type": "stream",
     "text": [
      "Epoch:212/1000.. Train Loss: 0.059.. Val Loss: 0.057.. Test Loss: 0.051.. Time: 0.03m\n"
     ]
    },
    {
     "name": "stderr",
     "output_type": "stream",
     "text": [
      "100%|██████████| 238/238 [00:01<00:00, 132.99it/s]\n",
      "100%|██████████| 85/85 [00:00<00:00, 538.13it/s]\n",
      "100%|██████████| 17/17 [00:00<00:00, 489.08it/s]\n"
     ]
    },
    {
     "name": "stdout",
     "output_type": "stream",
     "text": [
      "Epoch:213/1000.. Train Loss: 0.059.. Val Loss: 0.056.. Test Loss: 0.050.. Time: 0.03m\n"
     ]
    },
    {
     "name": "stderr",
     "output_type": "stream",
     "text": [
      "100%|██████████| 238/238 [00:01<00:00, 137.93it/s]\n",
      "100%|██████████| 85/85 [00:00<00:00, 532.10it/s]\n",
      "100%|██████████| 17/17 [00:00<00:00, 497.84it/s]\n"
     ]
    },
    {
     "name": "stdout",
     "output_type": "stream",
     "text": [
      "Epoch:214/1000.. Train Loss: 0.059.. Val Loss: 0.056.. Test Loss: 0.050.. Time: 0.03m\n"
     ]
    },
    {
     "name": "stderr",
     "output_type": "stream",
     "text": [
      "100%|██████████| 238/238 [00:01<00:00, 139.39it/s]\n",
      "100%|██████████| 85/85 [00:00<00:00, 535.99it/s]\n",
      "100%|██████████| 17/17 [00:00<00:00, 495.35it/s]\n"
     ]
    },
    {
     "name": "stdout",
     "output_type": "stream",
     "text": [
      "Epoch:215/1000.. Train Loss: 0.059.. Val Loss: 0.056.. Test Loss: 0.049.. Time: 0.03m\n"
     ]
    },
    {
     "name": "stderr",
     "output_type": "stream",
     "text": [
      "100%|██████████| 238/238 [00:01<00:00, 139.92it/s]\n",
      "100%|██████████| 85/85 [00:00<00:00, 535.17it/s]\n",
      "100%|██████████| 17/17 [00:00<00:00, 492.35it/s]\n"
     ]
    },
    {
     "name": "stdout",
     "output_type": "stream",
     "text": [
      "Epoch:216/1000.. Train Loss: 0.059.. Val Loss: 0.056.. Test Loss: 0.049.. Time: 0.03m\n"
     ]
    },
    {
     "name": "stderr",
     "output_type": "stream",
     "text": [
      "100%|██████████| 238/238 [00:01<00:00, 137.53it/s]\n",
      "100%|██████████| 85/85 [00:00<00:00, 512.26it/s]\n",
      "100%|██████████| 17/17 [00:00<00:00, 484.43it/s]\n"
     ]
    },
    {
     "name": "stdout",
     "output_type": "stream",
     "text": [
      "Epoch:217/1000.. Train Loss: 0.060.. Val Loss: 0.056.. Test Loss: 0.050.. Time: 0.03m\n"
     ]
    },
    {
     "name": "stderr",
     "output_type": "stream",
     "text": [
      "100%|██████████| 238/238 [00:01<00:00, 135.12it/s]\n",
      "100%|██████████| 85/85 [00:00<00:00, 524.78it/s]\n",
      "100%|██████████| 17/17 [00:00<00:00, 488.73it/s]\n"
     ]
    },
    {
     "name": "stdout",
     "output_type": "stream",
     "text": [
      "Epoch:218/1000.. Train Loss: 0.059.. Val Loss: 0.056.. Test Loss: 0.051.. Time: 0.03m\n"
     ]
    },
    {
     "name": "stderr",
     "output_type": "stream",
     "text": [
      "100%|██████████| 238/238 [00:01<00:00, 137.38it/s]\n",
      "100%|██████████| 85/85 [00:00<00:00, 528.38it/s]\n",
      "100%|██████████| 17/17 [00:00<00:00, 488.39it/s]\n"
     ]
    },
    {
     "name": "stdout",
     "output_type": "stream",
     "text": [
      "Epoch:219/1000.. Train Loss: 0.059.. Val Loss: 0.056.. Test Loss: 0.049.. Time: 0.03m\n"
     ]
    },
    {
     "name": "stderr",
     "output_type": "stream",
     "text": [
      "100%|██████████| 238/238 [00:01<00:00, 139.69it/s]\n",
      "100%|██████████| 85/85 [00:00<00:00, 533.59it/s]\n",
      "100%|██████████| 17/17 [00:00<00:00, 493.60it/s]\n"
     ]
    },
    {
     "name": "stdout",
     "output_type": "stream",
     "text": [
      "Loss Decreasing.. 0.056 >> 0.056 \n",
      "saving model...\n",
      "Epoch:220/1000.. Train Loss: 0.059.. Val Loss: 0.056.. Test Loss: 0.050.. Time: 0.03m\n"
     ]
    },
    {
     "name": "stderr",
     "output_type": "stream",
     "text": [
      "100%|██████████| 238/238 [00:01<00:00, 137.46it/s]\n",
      "100%|██████████| 85/85 [00:00<00:00, 532.59it/s]\n",
      "100%|██████████| 17/17 [00:00<00:00, 479.41it/s]\n"
     ]
    },
    {
     "name": "stdout",
     "output_type": "stream",
     "text": [
      "Epoch:221/1000.. Train Loss: 0.059.. Val Loss: 0.056.. Test Loss: 0.050.. Time: 0.03m\n"
     ]
    },
    {
     "name": "stderr",
     "output_type": "stream",
     "text": [
      "100%|██████████| 238/238 [00:01<00:00, 132.46it/s]\n",
      "100%|██████████| 85/85 [00:00<00:00, 536.24it/s]\n",
      "100%|██████████| 17/17 [00:00<00:00, 490.08it/s]\n"
     ]
    },
    {
     "name": "stdout",
     "output_type": "stream",
     "text": [
      "Epoch:222/1000.. Train Loss: 0.059.. Val Loss: 0.056.. Test Loss: 0.048.. Time: 0.03m\n"
     ]
    },
    {
     "name": "stderr",
     "output_type": "stream",
     "text": [
      "100%|██████████| 238/238 [00:01<00:00, 134.50it/s]\n",
      "100%|██████████| 85/85 [00:00<00:00, 543.30it/s]\n",
      "100%|██████████| 17/17 [00:00<00:00, 495.70it/s]\n"
     ]
    },
    {
     "name": "stdout",
     "output_type": "stream",
     "text": [
      "Epoch:223/1000.. Train Loss: 0.059.. Val Loss: 0.056.. Test Loss: 0.050.. Time: 0.03m\n"
     ]
    },
    {
     "name": "stderr",
     "output_type": "stream",
     "text": [
      "100%|██████████| 238/238 [00:01<00:00, 139.11it/s]\n",
      "100%|██████████| 85/85 [00:00<00:00, 538.07it/s]\n",
      "100%|██████████| 17/17 [00:00<00:00, 500.43it/s]\n"
     ]
    },
    {
     "name": "stdout",
     "output_type": "stream",
     "text": [
      "Epoch:224/1000.. Train Loss: 0.058.. Val Loss: 0.056.. Test Loss: 0.050.. Time: 0.03m\n"
     ]
    },
    {
     "name": "stderr",
     "output_type": "stream",
     "text": [
      "100%|██████████| 238/238 [00:01<00:00, 134.09it/s]\n",
      "100%|██████████| 85/85 [00:00<00:00, 529.52it/s]\n",
      "100%|██████████| 17/17 [00:00<00:00, 493.67it/s]\n"
     ]
    },
    {
     "name": "stdout",
     "output_type": "stream",
     "text": [
      "Epoch:225/1000.. Train Loss: 0.059.. Val Loss: 0.056.. Test Loss: 0.050.. Time: 0.03m\n"
     ]
    },
    {
     "name": "stderr",
     "output_type": "stream",
     "text": [
      "100%|██████████| 238/238 [00:01<00:00, 132.69it/s]\n",
      "100%|██████████| 85/85 [00:00<00:00, 537.77it/s]\n",
      "100%|██████████| 17/17 [00:00<00:00, 486.24it/s]\n"
     ]
    },
    {
     "name": "stdout",
     "output_type": "stream",
     "text": [
      "Epoch:226/1000.. Train Loss: 0.059.. Val Loss: 0.056.. Test Loss: 0.050.. Time: 0.03m\n"
     ]
    },
    {
     "name": "stderr",
     "output_type": "stream",
     "text": [
      "100%|██████████| 238/238 [00:01<00:00, 135.49it/s]\n",
      "100%|██████████| 85/85 [00:00<00:00, 518.96it/s]\n",
      "100%|██████████| 17/17 [00:00<00:00, 486.18it/s]\n"
     ]
    },
    {
     "name": "stdout",
     "output_type": "stream",
     "text": [
      "Loss Decreasing.. 0.056 >> 0.056 \n",
      "saving model...\n",
      "Epoch:227/1000.. Train Loss: 0.059.. Val Loss: 0.056.. Test Loss: 0.049.. Time: 0.03m\n"
     ]
    },
    {
     "name": "stderr",
     "output_type": "stream",
     "text": [
      "100%|██████████| 238/238 [00:01<00:00, 134.93it/s]\n",
      "100%|██████████| 85/85 [00:00<00:00, 506.37it/s]\n",
      "100%|██████████| 17/17 [00:00<00:00, 478.06it/s]\n"
     ]
    },
    {
     "name": "stdout",
     "output_type": "stream",
     "text": [
      "Epoch:228/1000.. Train Loss: 0.059.. Val Loss: 0.056.. Test Loss: 0.051.. Time: 0.03m\n"
     ]
    },
    {
     "name": "stderr",
     "output_type": "stream",
     "text": [
      "100%|██████████| 238/238 [00:01<00:00, 134.38it/s]\n",
      "100%|██████████| 85/85 [00:00<00:00, 535.58it/s]\n",
      "100%|██████████| 17/17 [00:00<00:00, 485.19it/s]\n"
     ]
    },
    {
     "name": "stdout",
     "output_type": "stream",
     "text": [
      "Epoch:229/1000.. Train Loss: 0.058.. Val Loss: 0.056.. Test Loss: 0.048.. Time: 0.03m\n"
     ]
    },
    {
     "name": "stderr",
     "output_type": "stream",
     "text": [
      "100%|██████████| 238/238 [00:01<00:00, 134.29it/s]\n",
      "100%|██████████| 85/85 [00:00<00:00, 535.30it/s]\n",
      "100%|██████████| 17/17 [00:00<00:00, 494.32it/s]\n"
     ]
    },
    {
     "name": "stdout",
     "output_type": "stream",
     "text": [
      "Loss Decreasing.. 0.056 >> 0.055 \n",
      "saving model...\n",
      "Epoch:230/1000.. Train Loss: 0.059.. Val Loss: 0.055.. Test Loss: 0.050.. Time: 0.03m\n"
     ]
    },
    {
     "name": "stderr",
     "output_type": "stream",
     "text": [
      "100%|██████████| 238/238 [00:01<00:00, 133.73it/s]\n",
      "100%|██████████| 85/85 [00:00<00:00, 538.27it/s]\n",
      "100%|██████████| 17/17 [00:00<00:00, 506.62it/s]\n"
     ]
    },
    {
     "name": "stdout",
     "output_type": "stream",
     "text": [
      "Epoch:231/1000.. Train Loss: 0.058.. Val Loss: 0.056.. Test Loss: 0.048.. Time: 0.03m\n"
     ]
    },
    {
     "name": "stderr",
     "output_type": "stream",
     "text": [
      "100%|██████████| 238/238 [00:02<00:00, 117.70it/s]\n",
      "100%|██████████| 85/85 [00:00<00:00, 530.56it/s]\n",
      "100%|██████████| 17/17 [00:00<00:00, 521.77it/s]\n"
     ]
    },
    {
     "name": "stdout",
     "output_type": "stream",
     "text": [
      "Epoch:232/1000.. Train Loss: 0.059.. Val Loss: 0.056.. Test Loss: 0.049.. Time: 0.04m\n"
     ]
    },
    {
     "name": "stderr",
     "output_type": "stream",
     "text": [
      "100%|██████████| 238/238 [00:01<00:00, 130.92it/s]\n",
      "100%|██████████| 85/85 [00:00<00:00, 536.10it/s]\n",
      "100%|██████████| 17/17 [00:00<00:00, 499.64it/s]\n"
     ]
    },
    {
     "name": "stdout",
     "output_type": "stream",
     "text": [
      "Epoch:233/1000.. Train Loss: 0.058.. Val Loss: 0.056.. Test Loss: 0.051.. Time: 0.03m\n"
     ]
    },
    {
     "name": "stderr",
     "output_type": "stream",
     "text": [
      "100%|██████████| 238/238 [00:01<00:00, 135.19it/s]\n",
      "100%|██████████| 85/85 [00:00<00:00, 521.09it/s]\n",
      "100%|██████████| 17/17 [00:00<00:00, 503.20it/s]\n"
     ]
    },
    {
     "name": "stdout",
     "output_type": "stream",
     "text": [
      "Epoch:234/1000.. Train Loss: 0.059.. Val Loss: 0.056.. Test Loss: 0.051.. Time: 0.03m\n"
     ]
    },
    {
     "name": "stderr",
     "output_type": "stream",
     "text": [
      "100%|██████████| 238/238 [00:01<00:00, 133.04it/s]\n",
      "100%|██████████| 85/85 [00:00<00:00, 508.47it/s]\n",
      "100%|██████████| 17/17 [00:00<00:00, 482.95it/s]\n"
     ]
    },
    {
     "name": "stdout",
     "output_type": "stream",
     "text": [
      "Epoch:235/1000.. Train Loss: 0.058.. Val Loss: 0.055.. Test Loss: 0.050.. Time: 0.03m\n"
     ]
    },
    {
     "name": "stderr",
     "output_type": "stream",
     "text": [
      "100%|██████████| 238/238 [00:01<00:00, 132.37it/s]\n",
      "100%|██████████| 85/85 [00:00<00:00, 517.88it/s]\n",
      "100%|██████████| 17/17 [00:00<00:00, 479.25it/s]\n"
     ]
    },
    {
     "name": "stdout",
     "output_type": "stream",
     "text": [
      "Epoch:236/1000.. Train Loss: 0.059.. Val Loss: 0.056.. Test Loss: 0.050.. Time: 0.03m\n"
     ]
    },
    {
     "name": "stderr",
     "output_type": "stream",
     "text": [
      "100%|██████████| 238/238 [00:01<00:00, 133.54it/s]\n",
      "100%|██████████| 85/85 [00:00<00:00, 516.77it/s]\n",
      "100%|██████████| 17/17 [00:00<00:00, 498.40it/s]\n"
     ]
    },
    {
     "name": "stdout",
     "output_type": "stream",
     "text": [
      "Epoch:237/1000.. Train Loss: 0.058.. Val Loss: 0.056.. Test Loss: 0.050.. Time: 0.03m\n"
     ]
    },
    {
     "name": "stderr",
     "output_type": "stream",
     "text": [
      "100%|██████████| 238/238 [00:01<00:00, 132.98it/s]\n",
      "100%|██████████| 85/85 [00:00<00:00, 522.70it/s]\n",
      "100%|██████████| 17/17 [00:00<00:00, 481.35it/s]\n"
     ]
    },
    {
     "name": "stdout",
     "output_type": "stream",
     "text": [
      "Epoch:238/1000.. Train Loss: 0.058.. Val Loss: 0.055.. Test Loss: 0.050.. Time: 0.03m\n"
     ]
    },
    {
     "name": "stderr",
     "output_type": "stream",
     "text": [
      "100%|██████████| 238/238 [00:01<00:00, 132.39it/s]\n",
      "100%|██████████| 85/85 [00:00<00:00, 537.40it/s]\n",
      "100%|██████████| 17/17 [00:00<00:00, 488.21it/s]\n"
     ]
    },
    {
     "name": "stdout",
     "output_type": "stream",
     "text": [
      "Epoch:239/1000.. Train Loss: 0.058.. Val Loss: 0.055.. Test Loss: 0.050.. Time: 0.03m\n"
     ]
    },
    {
     "name": "stderr",
     "output_type": "stream",
     "text": [
      "100%|██████████| 238/238 [00:01<00:00, 136.00it/s]\n",
      "100%|██████████| 85/85 [00:00<00:00, 527.06it/s]\n",
      "100%|██████████| 17/17 [00:00<00:00, 483.79it/s]\n"
     ]
    },
    {
     "name": "stdout",
     "output_type": "stream",
     "text": [
      "Epoch:240/1000.. Train Loss: 0.058.. Val Loss: 0.055.. Test Loss: 0.052.. Time: 0.03m\n"
     ]
    },
    {
     "name": "stderr",
     "output_type": "stream",
     "text": [
      "100%|██████████| 238/238 [00:01<00:00, 133.52it/s]\n",
      "100%|██████████| 85/85 [00:00<00:00, 531.50it/s]\n",
      "100%|██████████| 17/17 [00:00<00:00, 485.83it/s]\n"
     ]
    },
    {
     "name": "stdout",
     "output_type": "stream",
     "text": [
      "Epoch:241/1000.. Train Loss: 0.058.. Val Loss: 0.056.. Test Loss: 0.050.. Time: 0.03m\n"
     ]
    },
    {
     "name": "stderr",
     "output_type": "stream",
     "text": [
      "100%|██████████| 238/238 [00:01<00:00, 136.85it/s]\n",
      "100%|██████████| 85/85 [00:00<00:00, 526.06it/s]\n",
      "100%|██████████| 17/17 [00:00<00:00, 498.13it/s]\n"
     ]
    },
    {
     "name": "stdout",
     "output_type": "stream",
     "text": [
      "Epoch:242/1000.. Train Loss: 0.058.. Val Loss: 0.055.. Test Loss: 0.051.. Time: 0.03m\n"
     ]
    },
    {
     "name": "stderr",
     "output_type": "stream",
     "text": [
      "100%|██████████| 238/238 [00:01<00:00, 135.65it/s]\n",
      "100%|██████████| 85/85 [00:00<00:00, 529.62it/s]\n",
      "100%|██████████| 17/17 [00:00<00:00, 505.13it/s]\n"
     ]
    },
    {
     "name": "stdout",
     "output_type": "stream",
     "text": [
      "Loss Decreasing.. 0.055 >> 0.055 \n",
      "saving model...\n",
      "Epoch:243/1000.. Train Loss: 0.058.. Val Loss: 0.055.. Test Loss: 0.049.. Time: 0.03m\n"
     ]
    },
    {
     "name": "stderr",
     "output_type": "stream",
     "text": [
      "100%|██████████| 238/238 [00:01<00:00, 133.78it/s]\n",
      "100%|██████████| 85/85 [00:00<00:00, 528.69it/s]\n",
      "100%|██████████| 17/17 [00:00<00:00, 494.21it/s]\n"
     ]
    },
    {
     "name": "stdout",
     "output_type": "stream",
     "text": [
      "Epoch:244/1000.. Train Loss: 0.058.. Val Loss: 0.055.. Test Loss: 0.050.. Time: 0.03m\n"
     ]
    },
    {
     "name": "stderr",
     "output_type": "stream",
     "text": [
      "100%|██████████| 238/238 [00:01<00:00, 133.76it/s]\n",
      "100%|██████████| 85/85 [00:00<00:00, 531.44it/s]\n",
      "100%|██████████| 17/17 [00:00<00:00, 496.92it/s]\n"
     ]
    },
    {
     "name": "stdout",
     "output_type": "stream",
     "text": [
      "Epoch:245/1000.. Train Loss: 0.058.. Val Loss: 0.055.. Test Loss: 0.049.. Time: 0.03m\n"
     ]
    },
    {
     "name": "stderr",
     "output_type": "stream",
     "text": [
      "100%|██████████| 238/238 [00:01<00:00, 141.70it/s]\n",
      "100%|██████████| 85/85 [00:00<00:00, 535.06it/s]\n",
      "100%|██████████| 17/17 [00:00<00:00, 482.35it/s]\n"
     ]
    },
    {
     "name": "stdout",
     "output_type": "stream",
     "text": [
      "Epoch:246/1000.. Train Loss: 0.058.. Val Loss: 0.055.. Test Loss: 0.048.. Time: 0.03m\n"
     ]
    },
    {
     "name": "stderr",
     "output_type": "stream",
     "text": [
      "100%|██████████| 238/238 [00:01<00:00, 133.55it/s]\n",
      "100%|██████████| 85/85 [00:00<00:00, 536.16it/s]\n",
      "100%|██████████| 17/17 [00:00<00:00, 494.31it/s]\n"
     ]
    },
    {
     "name": "stdout",
     "output_type": "stream",
     "text": [
      "Epoch:247/1000.. Train Loss: 0.058.. Val Loss: 0.055.. Test Loss: 0.050.. Time: 0.03m\n"
     ]
    },
    {
     "name": "stderr",
     "output_type": "stream",
     "text": [
      "100%|██████████| 238/238 [00:01<00:00, 135.99it/s]\n",
      "100%|██████████| 85/85 [00:00<00:00, 523.19it/s]\n",
      "100%|██████████| 17/17 [00:00<00:00, 484.29it/s]\n"
     ]
    },
    {
     "name": "stdout",
     "output_type": "stream",
     "text": [
      "Epoch:248/1000.. Train Loss: 0.058.. Val Loss: 0.055.. Test Loss: 0.051.. Time: 0.03m\n"
     ]
    },
    {
     "name": "stderr",
     "output_type": "stream",
     "text": [
      "100%|██████████| 238/238 [00:01<00:00, 135.04it/s]\n",
      "100%|██████████| 85/85 [00:00<00:00, 516.38it/s]\n",
      "100%|██████████| 17/17 [00:00<00:00, 492.53it/s]\n"
     ]
    },
    {
     "name": "stdout",
     "output_type": "stream",
     "text": [
      "Epoch:249/1000.. Train Loss: 0.058.. Val Loss: 0.055.. Test Loss: 0.051.. Time: 0.03m\n"
     ]
    },
    {
     "name": "stderr",
     "output_type": "stream",
     "text": [
      "100%|██████████| 238/238 [00:01<00:00, 137.62it/s]\n",
      "100%|██████████| 85/85 [00:00<00:00, 515.43it/s]\n",
      "100%|██████████| 17/17 [00:00<00:00, 512.45it/s]\n"
     ]
    },
    {
     "name": "stdout",
     "output_type": "stream",
     "text": [
      "Epoch:250/1000.. Train Loss: 0.058.. Val Loss: 0.055.. Test Loss: 0.050.. Time: 0.03m\n"
     ]
    },
    {
     "name": "stderr",
     "output_type": "stream",
     "text": [
      "100%|██████████| 238/238 [00:01<00:00, 130.90it/s]\n",
      "100%|██████████| 85/85 [00:00<00:00, 525.55it/s]\n",
      "100%|██████████| 17/17 [00:00<00:00, 476.49it/s]\n"
     ]
    },
    {
     "name": "stdout",
     "output_type": "stream",
     "text": [
      "Epoch:251/1000.. Train Loss: 0.058.. Val Loss: 0.055.. Test Loss: 0.049.. Time: 0.03m\n"
     ]
    },
    {
     "name": "stderr",
     "output_type": "stream",
     "text": [
      "100%|██████████| 238/238 [00:01<00:00, 130.32it/s]\n",
      "100%|██████████| 85/85 [00:00<00:00, 536.15it/s]\n",
      "100%|██████████| 17/17 [00:00<00:00, 486.30it/s]\n"
     ]
    },
    {
     "name": "stdout",
     "output_type": "stream",
     "text": [
      "Epoch:252/1000.. Train Loss: 0.058.. Val Loss: 0.055.. Test Loss: 0.050.. Time: 0.03m\n"
     ]
    },
    {
     "name": "stderr",
     "output_type": "stream",
     "text": [
      "100%|██████████| 238/238 [00:01<00:00, 132.92it/s]\n",
      "100%|██████████| 85/85 [00:00<00:00, 537.92it/s]\n",
      "100%|██████████| 17/17 [00:00<00:00, 495.28it/s]\n"
     ]
    },
    {
     "name": "stdout",
     "output_type": "stream",
     "text": [
      "Epoch:253/1000.. Train Loss: 0.058.. Val Loss: 0.055.. Test Loss: 0.052.. Time: 0.03m\n"
     ]
    },
    {
     "name": "stderr",
     "output_type": "stream",
     "text": [
      "100%|██████████| 238/238 [00:01<00:00, 133.83it/s]\n",
      "100%|██████████| 85/85 [00:00<00:00, 533.51it/s]\n",
      "100%|██████████| 17/17 [00:00<00:00, 498.72it/s]\n"
     ]
    },
    {
     "name": "stdout",
     "output_type": "stream",
     "text": [
      "Loss Decreasing.. 0.055 >> 0.055 \n",
      "saving model...\n",
      "Epoch:254/1000.. Train Loss: 0.058.. Val Loss: 0.055.. Test Loss: 0.050.. Time: 0.03m\n"
     ]
    },
    {
     "name": "stderr",
     "output_type": "stream",
     "text": [
      "100%|██████████| 238/238 [00:01<00:00, 133.61it/s]\n",
      "100%|██████████| 85/85 [00:00<00:00, 526.15it/s]\n",
      "100%|██████████| 17/17 [00:00<00:00, 481.59it/s]\n"
     ]
    },
    {
     "name": "stdout",
     "output_type": "stream",
     "text": [
      "Loss Decreasing.. 0.055 >> 0.055 \n",
      "saving model...\n",
      "Epoch:255/1000.. Train Loss: 0.058.. Val Loss: 0.055.. Test Loss: 0.049.. Time: 0.03m\n"
     ]
    },
    {
     "name": "stderr",
     "output_type": "stream",
     "text": [
      "100%|██████████| 238/238 [00:01<00:00, 136.03it/s]\n",
      "100%|██████████| 85/85 [00:00<00:00, 523.77it/s]\n",
      "100%|██████████| 17/17 [00:00<00:00, 484.18it/s]\n"
     ]
    },
    {
     "name": "stdout",
     "output_type": "stream",
     "text": [
      "Epoch:256/1000.. Train Loss: 0.058.. Val Loss: 0.055.. Test Loss: 0.051.. Time: 0.03m\n"
     ]
    },
    {
     "name": "stderr",
     "output_type": "stream",
     "text": [
      "100%|██████████| 238/238 [00:01<00:00, 132.12it/s]\n",
      "100%|██████████| 85/85 [00:00<00:00, 518.27it/s]\n",
      "100%|██████████| 17/17 [00:00<00:00, 492.26it/s]\n"
     ]
    },
    {
     "name": "stdout",
     "output_type": "stream",
     "text": [
      "Epoch:257/1000.. Train Loss: 0.058.. Val Loss: 0.055.. Test Loss: 0.050.. Time: 0.03m\n"
     ]
    },
    {
     "name": "stderr",
     "output_type": "stream",
     "text": [
      "100%|██████████| 238/238 [00:01<00:00, 132.10it/s]\n",
      "100%|██████████| 85/85 [00:00<00:00, 530.09it/s]\n",
      "100%|██████████| 17/17 [00:00<00:00, 485.31it/s]\n"
     ]
    },
    {
     "name": "stdout",
     "output_type": "stream",
     "text": [
      "Loss Decreasing.. 0.055 >> 0.055 \n",
      "saving model...\n",
      "Epoch:258/1000.. Train Loss: 0.058.. Val Loss: 0.055.. Test Loss: 0.050.. Time: 0.03m\n"
     ]
    },
    {
     "name": "stderr",
     "output_type": "stream",
     "text": [
      "100%|██████████| 238/238 [00:01<00:00, 130.98it/s]\n",
      "100%|██████████| 85/85 [00:00<00:00, 537.56it/s]\n",
      "100%|██████████| 17/17 [00:00<00:00, 495.76it/s]\n"
     ]
    },
    {
     "name": "stdout",
     "output_type": "stream",
     "text": [
      "Loss Decreasing.. 0.055 >> 0.054 \n",
      "saving model...\n",
      "Epoch:259/1000.. Train Loss: 0.058.. Val Loss: 0.054.. Test Loss: 0.050.. Time: 0.03m\n"
     ]
    },
    {
     "name": "stderr",
     "output_type": "stream",
     "text": [
      "100%|██████████| 238/238 [00:01<00:00, 134.04it/s]\n",
      "100%|██████████| 85/85 [00:00<00:00, 534.64it/s]\n",
      "100%|██████████| 17/17 [00:00<00:00, 488.15it/s]\n"
     ]
    },
    {
     "name": "stdout",
     "output_type": "stream",
     "text": [
      "Epoch:260/1000.. Train Loss: 0.058.. Val Loss: 0.055.. Test Loss: 0.050.. Time: 0.03m\n"
     ]
    },
    {
     "name": "stderr",
     "output_type": "stream",
     "text": [
      "100%|██████████| 238/238 [00:01<00:00, 134.45it/s]\n",
      "100%|██████████| 85/85 [00:00<00:00, 533.09it/s]\n",
      "100%|██████████| 17/17 [00:00<00:00, 494.49it/s]\n"
     ]
    },
    {
     "name": "stdout",
     "output_type": "stream",
     "text": [
      "Epoch:261/1000.. Train Loss: 0.058.. Val Loss: 0.055.. Test Loss: 0.050.. Time: 0.03m\n"
     ]
    },
    {
     "name": "stderr",
     "output_type": "stream",
     "text": [
      "100%|██████████| 238/238 [00:01<00:00, 133.80it/s]\n",
      "100%|██████████| 85/85 [00:00<00:00, 528.32it/s]\n",
      "100%|██████████| 17/17 [00:00<00:00, 487.40it/s]\n"
     ]
    },
    {
     "name": "stdout",
     "output_type": "stream",
     "text": [
      "Epoch:262/1000.. Train Loss: 0.057.. Val Loss: 0.055.. Test Loss: 0.050.. Time: 0.03m\n"
     ]
    },
    {
     "name": "stderr",
     "output_type": "stream",
     "text": [
      "100%|██████████| 238/238 [00:01<00:00, 134.89it/s]\n",
      "100%|██████████| 85/85 [00:00<00:00, 528.86it/s]\n",
      "100%|██████████| 17/17 [00:00<00:00, 531.54it/s]\n"
     ]
    },
    {
     "name": "stdout",
     "output_type": "stream",
     "text": [
      "Loss Decreasing.. 0.054 >> 0.054 \n",
      "saving model...\n",
      "Epoch:263/1000.. Train Loss: 0.058.. Val Loss: 0.054.. Test Loss: 0.050.. Time: 0.03m\n"
     ]
    },
    {
     "name": "stderr",
     "output_type": "stream",
     "text": [
      "100%|██████████| 238/238 [00:01<00:00, 135.65it/s]\n",
      "100%|██████████| 85/85 [00:00<00:00, 523.17it/s]\n",
      "100%|██████████| 17/17 [00:00<00:00, 499.26it/s]\n"
     ]
    },
    {
     "name": "stdout",
     "output_type": "stream",
     "text": [
      "Epoch:264/1000.. Train Loss: 0.058.. Val Loss: 0.055.. Test Loss: 0.050.. Time: 0.03m\n"
     ]
    },
    {
     "name": "stderr",
     "output_type": "stream",
     "text": [
      "100%|██████████| 238/238 [00:01<00:00, 134.92it/s]\n",
      "100%|██████████| 85/85 [00:00<00:00, 502.91it/s]\n",
      "100%|██████████| 17/17 [00:00<00:00, 490.52it/s]\n"
     ]
    },
    {
     "name": "stdout",
     "output_type": "stream",
     "text": [
      "Loss Decreasing.. 0.054 >> 0.054 \n",
      "saving model...\n",
      "Epoch:265/1000.. Train Loss: 0.057.. Val Loss: 0.054.. Test Loss: 0.048.. Time: 0.03m\n"
     ]
    },
    {
     "name": "stderr",
     "output_type": "stream",
     "text": [
      "100%|██████████| 238/238 [00:01<00:00, 134.72it/s]\n",
      "100%|██████████| 85/85 [00:00<00:00, 511.72it/s]\n",
      "100%|██████████| 17/17 [00:00<00:00, 507.53it/s]\n"
     ]
    },
    {
     "name": "stdout",
     "output_type": "stream",
     "text": [
      "Epoch:266/1000.. Train Loss: 0.058.. Val Loss: 0.055.. Test Loss: 0.049.. Time: 0.03m\n"
     ]
    },
    {
     "name": "stderr",
     "output_type": "stream",
     "text": [
      "100%|██████████| 238/238 [00:01<00:00, 141.61it/s]\n",
      "100%|██████████| 85/85 [00:00<00:00, 505.77it/s]\n",
      "100%|██████████| 17/17 [00:00<00:00, 485.11it/s]\n"
     ]
    },
    {
     "name": "stdout",
     "output_type": "stream",
     "text": [
      "Loss Decreasing.. 0.054 >> 0.054 \n",
      "saving model...\n",
      "Epoch:267/1000.. Train Loss: 0.058.. Val Loss: 0.054.. Test Loss: 0.049.. Time: 0.03m\n"
     ]
    },
    {
     "name": "stderr",
     "output_type": "stream",
     "text": [
      "100%|██████████| 238/238 [00:01<00:00, 135.70it/s]\n",
      "100%|██████████| 85/85 [00:00<00:00, 534.68it/s]\n",
      "100%|██████████| 17/17 [00:00<00:00, 498.16it/s]\n"
     ]
    },
    {
     "name": "stdout",
     "output_type": "stream",
     "text": [
      "Epoch:268/1000.. Train Loss: 0.058.. Val Loss: 0.055.. Test Loss: 0.051.. Time: 0.03m\n"
     ]
    },
    {
     "name": "stderr",
     "output_type": "stream",
     "text": [
      "100%|██████████| 238/238 [00:01<00:00, 136.33it/s]\n",
      "100%|██████████| 85/85 [00:00<00:00, 537.48it/s]\n",
      "100%|██████████| 17/17 [00:00<00:00, 492.66it/s]\n"
     ]
    },
    {
     "name": "stdout",
     "output_type": "stream",
     "text": [
      "Epoch:269/1000.. Train Loss: 0.057.. Val Loss: 0.055.. Test Loss: 0.050.. Time: 0.03m\n"
     ]
    },
    {
     "name": "stderr",
     "output_type": "stream",
     "text": [
      "100%|██████████| 238/238 [00:01<00:00, 132.23it/s]\n",
      "100%|██████████| 85/85 [00:00<00:00, 532.70it/s]\n",
      "100%|██████████| 17/17 [00:00<00:00, 468.97it/s]\n"
     ]
    },
    {
     "name": "stdout",
     "output_type": "stream",
     "text": [
      "Epoch:270/1000.. Train Loss: 0.058.. Val Loss: 0.055.. Test Loss: 0.049.. Time: 0.03m\n"
     ]
    },
    {
     "name": "stderr",
     "output_type": "stream",
     "text": [
      "100%|██████████| 238/238 [00:01<00:00, 133.34it/s]\n",
      "100%|██████████| 85/85 [00:00<00:00, 509.57it/s]\n",
      "100%|██████████| 17/17 [00:00<00:00, 479.88it/s]\n"
     ]
    },
    {
     "name": "stdout",
     "output_type": "stream",
     "text": [
      "Loss Decreasing.. 0.054 >> 0.054 \n",
      "saving model...\n",
      "Epoch:271/1000.. Train Loss: 0.057.. Val Loss: 0.054.. Test Loss: 0.048.. Time: 0.03m\n"
     ]
    },
    {
     "name": "stderr",
     "output_type": "stream",
     "text": [
      "100%|██████████| 238/238 [00:01<00:00, 133.62it/s]\n",
      "100%|██████████| 85/85 [00:00<00:00, 528.86it/s]\n",
      "100%|██████████| 17/17 [00:00<00:00, 489.77it/s]\n"
     ]
    },
    {
     "name": "stdout",
     "output_type": "stream",
     "text": [
      "Epoch:272/1000.. Train Loss: 0.057.. Val Loss: 0.056.. Test Loss: 0.051.. Time: 0.03m\n"
     ]
    },
    {
     "name": "stderr",
     "output_type": "stream",
     "text": [
      "100%|██████████| 238/238 [00:01<00:00, 133.69it/s]\n",
      "100%|██████████| 85/85 [00:00<00:00, 538.81it/s]\n",
      "100%|██████████| 17/17 [00:00<00:00, 501.71it/s]\n"
     ]
    },
    {
     "name": "stdout",
     "output_type": "stream",
     "text": [
      "Loss Decreasing.. 0.054 >> 0.054 \n",
      "saving model...\n",
      "Epoch:273/1000.. Train Loss: 0.057.. Val Loss: 0.054.. Test Loss: 0.050.. Time: 0.03m\n"
     ]
    },
    {
     "name": "stderr",
     "output_type": "stream",
     "text": [
      "100%|██████████| 238/238 [00:01<00:00, 136.75it/s]\n",
      "100%|██████████| 85/85 [00:00<00:00, 533.54it/s]\n",
      "100%|██████████| 17/17 [00:00<00:00, 478.22it/s]\n"
     ]
    },
    {
     "name": "stdout",
     "output_type": "stream",
     "text": [
      "Epoch:274/1000.. Train Loss: 0.057.. Val Loss: 0.054.. Test Loss: 0.049.. Time: 0.03m\n"
     ]
    },
    {
     "name": "stderr",
     "output_type": "stream",
     "text": [
      "100%|██████████| 238/238 [00:01<00:00, 134.82it/s]\n",
      "100%|██████████| 85/85 [00:00<00:00, 537.67it/s]\n",
      "100%|██████████| 17/17 [00:00<00:00, 491.83it/s]\n"
     ]
    },
    {
     "name": "stdout",
     "output_type": "stream",
     "text": [
      "Epoch:275/1000.. Train Loss: 0.057.. Val Loss: 0.054.. Test Loss: 0.050.. Time: 0.03m\n"
     ]
    },
    {
     "name": "stderr",
     "output_type": "stream",
     "text": [
      "100%|██████████| 238/238 [00:01<00:00, 134.00it/s]\n",
      "100%|██████████| 85/85 [00:00<00:00, 514.93it/s]\n",
      "100%|██████████| 17/17 [00:00<00:00, 502.72it/s]\n"
     ]
    },
    {
     "name": "stdout",
     "output_type": "stream",
     "text": [
      "Epoch:276/1000.. Train Loss: 0.057.. Val Loss: 0.054.. Test Loss: 0.048.. Time: 0.03m\n"
     ]
    },
    {
     "name": "stderr",
     "output_type": "stream",
     "text": [
      "100%|██████████| 238/238 [00:01<00:00, 138.43it/s]\n",
      "100%|██████████| 85/85 [00:00<00:00, 527.89it/s]\n",
      "100%|██████████| 17/17 [00:00<00:00, 495.36it/s]\n"
     ]
    },
    {
     "name": "stdout",
     "output_type": "stream",
     "text": [
      "Epoch:277/1000.. Train Loss: 0.058.. Val Loss: 0.055.. Test Loss: 0.049.. Time: 0.03m\n"
     ]
    },
    {
     "name": "stderr",
     "output_type": "stream",
     "text": [
      "100%|██████████| 238/238 [00:01<00:00, 138.72it/s]\n",
      "100%|██████████| 85/85 [00:00<00:00, 529.33it/s]\n",
      "100%|██████████| 17/17 [00:00<00:00, 484.41it/s]\n"
     ]
    },
    {
     "name": "stdout",
     "output_type": "stream",
     "text": [
      "Loss Decreasing.. 0.054 >> 0.054 \n",
      "saving model...\n",
      "Epoch:278/1000.. Train Loss: 0.057.. Val Loss: 0.054.. Test Loss: 0.049.. Time: 0.03m\n"
     ]
    },
    {
     "name": "stderr",
     "output_type": "stream",
     "text": [
      "100%|██████████| 238/238 [00:01<00:00, 134.76it/s]\n",
      "100%|██████████| 85/85 [00:00<00:00, 506.23it/s]\n",
      "100%|██████████| 17/17 [00:00<00:00, 444.38it/s]\n"
     ]
    },
    {
     "name": "stdout",
     "output_type": "stream",
     "text": [
      "Epoch:279/1000.. Train Loss: 0.057.. Val Loss: 0.054.. Test Loss: 0.050.. Time: 0.03m\n"
     ]
    },
    {
     "name": "stderr",
     "output_type": "stream",
     "text": [
      "100%|██████████| 238/238 [00:01<00:00, 134.14it/s]\n",
      "100%|██████████| 85/85 [00:00<00:00, 529.63it/s]\n",
      "100%|██████████| 17/17 [00:00<00:00, 481.77it/s]\n"
     ]
    },
    {
     "name": "stdout",
     "output_type": "stream",
     "text": [
      "Epoch:280/1000.. Train Loss: 0.057.. Val Loss: 0.054.. Test Loss: 0.050.. Time: 0.03m\n"
     ]
    },
    {
     "name": "stderr",
     "output_type": "stream",
     "text": [
      "100%|██████████| 238/238 [00:01<00:00, 137.71it/s]\n",
      "100%|██████████| 85/85 [00:00<00:00, 533.20it/s]\n",
      "100%|██████████| 17/17 [00:00<00:00, 494.04it/s]\n"
     ]
    },
    {
     "name": "stdout",
     "output_type": "stream",
     "text": [
      "Epoch:281/1000.. Train Loss: 0.058.. Val Loss: 0.054.. Test Loss: 0.049.. Time: 0.03m\n"
     ]
    },
    {
     "name": "stderr",
     "output_type": "stream",
     "text": [
      "100%|██████████| 238/238 [00:01<00:00, 137.55it/s]\n",
      "100%|██████████| 85/85 [00:00<00:00, 533.16it/s]\n",
      "100%|██████████| 17/17 [00:00<00:00, 492.40it/s]\n"
     ]
    },
    {
     "name": "stdout",
     "output_type": "stream",
     "text": [
      "Epoch:282/1000.. Train Loss: 0.057.. Val Loss: 0.054.. Test Loss: 0.052.. Time: 0.03m\n"
     ]
    },
    {
     "name": "stderr",
     "output_type": "stream",
     "text": [
      "100%|██████████| 238/238 [00:01<00:00, 134.01it/s]\n",
      "100%|██████████| 85/85 [00:00<00:00, 534.90it/s]\n",
      "100%|██████████| 17/17 [00:00<00:00, 498.24it/s]\n"
     ]
    },
    {
     "name": "stdout",
     "output_type": "stream",
     "text": [
      "Epoch:283/1000.. Train Loss: 0.057.. Val Loss: 0.054.. Test Loss: 0.049.. Time: 0.03m\n"
     ]
    },
    {
     "name": "stderr",
     "output_type": "stream",
     "text": [
      "100%|██████████| 238/238 [00:01<00:00, 134.85it/s]\n",
      "100%|██████████| 85/85 [00:00<00:00, 534.76it/s]\n",
      "100%|██████████| 17/17 [00:00<00:00, 494.49it/s]\n"
     ]
    },
    {
     "name": "stdout",
     "output_type": "stream",
     "text": [
      "Loss Decreasing.. 0.054 >> 0.054 \n",
      "saving model...\n",
      "Epoch:284/1000.. Train Loss: 0.057.. Val Loss: 0.054.. Test Loss: 0.049.. Time: 0.03m\n"
     ]
    },
    {
     "name": "stderr",
     "output_type": "stream",
     "text": [
      "100%|██████████| 238/238 [00:01<00:00, 135.14it/s]\n",
      "100%|██████████| 85/85 [00:00<00:00, 541.90it/s]\n",
      "100%|██████████| 17/17 [00:00<00:00, 497.71it/s]\n"
     ]
    },
    {
     "name": "stdout",
     "output_type": "stream",
     "text": [
      "Epoch:285/1000.. Train Loss: 0.057.. Val Loss: 0.054.. Test Loss: 0.050.. Time: 0.03m\n"
     ]
    },
    {
     "name": "stderr",
     "output_type": "stream",
     "text": [
      "100%|██████████| 238/238 [00:01<00:00, 132.64it/s]\n",
      "100%|██████████| 85/85 [00:00<00:00, 541.50it/s]\n",
      "100%|██████████| 17/17 [00:00<00:00, 494.90it/s]\n"
     ]
    },
    {
     "name": "stdout",
     "output_type": "stream",
     "text": [
      "Loss Decreasing.. 0.054 >> 0.054 \n",
      "saving model...\n",
      "Epoch:286/1000.. Train Loss: 0.057.. Val Loss: 0.054.. Test Loss: 0.049.. Time: 0.03m\n"
     ]
    },
    {
     "name": "stderr",
     "output_type": "stream",
     "text": [
      "100%|██████████| 238/238 [00:01<00:00, 135.06it/s]\n",
      "100%|██████████| 85/85 [00:00<00:00, 522.47it/s]\n",
      "100%|██████████| 17/17 [00:00<00:00, 490.63it/s]\n"
     ]
    },
    {
     "name": "stdout",
     "output_type": "stream",
     "text": [
      "Loss Decreasing.. 0.054 >> 0.053 \n",
      "saving model...\n",
      "Epoch:287/1000.. Train Loss: 0.057.. Val Loss: 0.053.. Test Loss: 0.050.. Time: 0.03m\n"
     ]
    },
    {
     "name": "stderr",
     "output_type": "stream",
     "text": [
      "100%|██████████| 238/238 [00:01<00:00, 131.56it/s]\n",
      "100%|██████████| 85/85 [00:00<00:00, 528.19it/s]\n",
      "100%|██████████| 17/17 [00:00<00:00, 479.61it/s]\n"
     ]
    },
    {
     "name": "stdout",
     "output_type": "stream",
     "text": [
      "Epoch:288/1000.. Train Loss: 0.057.. Val Loss: 0.054.. Test Loss: 0.049.. Time: 0.03m\n"
     ]
    },
    {
     "name": "stderr",
     "output_type": "stream",
     "text": [
      "100%|██████████| 238/238 [00:01<00:00, 128.76it/s]\n",
      "100%|██████████| 85/85 [00:00<00:00, 531.53it/s]\n",
      "100%|██████████| 17/17 [00:00<00:00, 537.46it/s]\n"
     ]
    },
    {
     "name": "stdout",
     "output_type": "stream",
     "text": [
      "Epoch:289/1000.. Train Loss: 0.057.. Val Loss: 0.054.. Test Loss: 0.050.. Time: 0.04m\n"
     ]
    },
    {
     "name": "stderr",
     "output_type": "stream",
     "text": [
      "100%|██████████| 238/238 [00:01<00:00, 134.08it/s]\n",
      "100%|██████████| 85/85 [00:00<00:00, 537.63it/s]\n",
      "100%|██████████| 17/17 [00:00<00:00, 499.82it/s]\n"
     ]
    },
    {
     "name": "stdout",
     "output_type": "stream",
     "text": [
      "Epoch:290/1000.. Train Loss: 0.057.. Val Loss: 0.054.. Test Loss: 0.051.. Time: 0.03m\n"
     ]
    },
    {
     "name": "stderr",
     "output_type": "stream",
     "text": [
      "100%|██████████| 238/238 [00:01<00:00, 139.60it/s]\n",
      "100%|██████████| 85/85 [00:00<00:00, 535.12it/s]\n",
      "100%|██████████| 17/17 [00:00<00:00, 499.13it/s]\n"
     ]
    },
    {
     "name": "stdout",
     "output_type": "stream",
     "text": [
      "Epoch:291/1000.. Train Loss: 0.057.. Val Loss: 0.054.. Test Loss: 0.050.. Time: 0.03m\n"
     ]
    },
    {
     "name": "stderr",
     "output_type": "stream",
     "text": [
      "100%|██████████| 238/238 [00:01<00:00, 134.89it/s]\n",
      "100%|██████████| 85/85 [00:00<00:00, 535.37it/s]\n",
      "100%|██████████| 17/17 [00:00<00:00, 497.71it/s]\n"
     ]
    },
    {
     "name": "stdout",
     "output_type": "stream",
     "text": [
      "Epoch:292/1000.. Train Loss: 0.057.. Val Loss: 0.054.. Test Loss: 0.049.. Time: 0.03m\n"
     ]
    },
    {
     "name": "stderr",
     "output_type": "stream",
     "text": [
      "100%|██████████| 238/238 [00:01<00:00, 134.81it/s]\n",
      "100%|██████████| 85/85 [00:00<00:00, 532.55it/s]\n",
      "100%|██████████| 17/17 [00:00<00:00, 491.21it/s]\n"
     ]
    },
    {
     "name": "stdout",
     "output_type": "stream",
     "text": [
      "Loss Decreasing.. 0.053 >> 0.053 \n",
      "saving model...\n",
      "Epoch:293/1000.. Train Loss: 0.057.. Val Loss: 0.053.. Test Loss: 0.052.. Time: 0.03m\n"
     ]
    },
    {
     "name": "stderr",
     "output_type": "stream",
     "text": [
      "100%|██████████| 238/238 [00:01<00:00, 138.62it/s]\n",
      "100%|██████████| 85/85 [00:00<00:00, 531.41it/s]\n",
      "100%|██████████| 17/17 [00:00<00:00, 486.06it/s]\n"
     ]
    },
    {
     "name": "stdout",
     "output_type": "stream",
     "text": [
      "Loss Decreasing.. 0.053 >> 0.053 \n",
      "saving model...\n",
      "Epoch:294/1000.. Train Loss: 0.057.. Val Loss: 0.053.. Test Loss: 0.049.. Time: 0.03m\n"
     ]
    },
    {
     "name": "stderr",
     "output_type": "stream",
     "text": [
      "100%|██████████| 238/238 [00:01<00:00, 129.67it/s]\n",
      "100%|██████████| 85/85 [00:00<00:00, 518.36it/s]\n",
      "100%|██████████| 17/17 [00:00<00:00, 522.47it/s]\n"
     ]
    },
    {
     "name": "stdout",
     "output_type": "stream",
     "text": [
      "Loss Decreasing.. 0.053 >> 0.053 \n",
      "saving model...\n",
      "Epoch:295/1000.. Train Loss: 0.056.. Val Loss: 0.053.. Test Loss: 0.050.. Time: 0.03m\n"
     ]
    },
    {
     "name": "stderr",
     "output_type": "stream",
     "text": [
      "100%|██████████| 238/238 [00:01<00:00, 131.82it/s]\n",
      "100%|██████████| 85/85 [00:00<00:00, 510.25it/s]\n",
      "100%|██████████| 17/17 [00:00<00:00, 497.73it/s]\n"
     ]
    },
    {
     "name": "stdout",
     "output_type": "stream",
     "text": [
      "Epoch:296/1000.. Train Loss: 0.057.. Val Loss: 0.053.. Test Loss: 0.049.. Time: 0.03m\n"
     ]
    },
    {
     "name": "stderr",
     "output_type": "stream",
     "text": [
      "100%|██████████| 238/238 [00:01<00:00, 131.21it/s]\n",
      "100%|██████████| 85/85 [00:00<00:00, 520.85it/s]\n",
      "100%|██████████| 17/17 [00:00<00:00, 489.34it/s]\n"
     ]
    },
    {
     "name": "stdout",
     "output_type": "stream",
     "text": [
      "Epoch:297/1000.. Train Loss: 0.057.. Val Loss: 0.054.. Test Loss: 0.049.. Time: 0.03m\n"
     ]
    },
    {
     "name": "stderr",
     "output_type": "stream",
     "text": [
      "100%|██████████| 238/238 [00:01<00:00, 131.90it/s]\n",
      "100%|██████████| 85/85 [00:00<00:00, 528.19it/s]\n",
      "100%|██████████| 17/17 [00:00<00:00, 524.73it/s]\n"
     ]
    },
    {
     "name": "stdout",
     "output_type": "stream",
     "text": [
      "Loss Decreasing.. 0.053 >> 0.053 \n",
      "saving model...\n",
      "Epoch:298/1000.. Train Loss: 0.056.. Val Loss: 0.053.. Test Loss: 0.050.. Time: 0.03m\n"
     ]
    },
    {
     "name": "stderr",
     "output_type": "stream",
     "text": [
      "100%|██████████| 238/238 [00:01<00:00, 133.42it/s]\n",
      "100%|██████████| 85/85 [00:00<00:00, 539.35it/s]\n",
      "100%|██████████| 17/17 [00:00<00:00, 492.09it/s]\n"
     ]
    },
    {
     "name": "stdout",
     "output_type": "stream",
     "text": [
      "Epoch:299/1000.. Train Loss: 0.056.. Val Loss: 0.054.. Test Loss: 0.051.. Time: 0.03m\n"
     ]
    },
    {
     "name": "stderr",
     "output_type": "stream",
     "text": [
      "100%|██████████| 238/238 [00:01<00:00, 133.91it/s]\n",
      "100%|██████████| 85/85 [00:00<00:00, 526.81it/s]\n",
      "100%|██████████| 17/17 [00:00<00:00, 538.25it/s]\n"
     ]
    },
    {
     "name": "stdout",
     "output_type": "stream",
     "text": [
      "Epoch:300/1000.. Train Loss: 0.057.. Val Loss: 0.053.. Test Loss: 0.050.. Time: 0.03m\n"
     ]
    },
    {
     "name": "stderr",
     "output_type": "stream",
     "text": [
      "100%|██████████| 238/238 [00:01<00:00, 133.24it/s]\n",
      "100%|██████████| 85/85 [00:00<00:00, 536.73it/s]\n",
      "100%|██████████| 17/17 [00:00<00:00, 482.71it/s]\n"
     ]
    },
    {
     "name": "stdout",
     "output_type": "stream",
     "text": [
      "Epoch:301/1000.. Train Loss: 0.057.. Val Loss: 0.053.. Test Loss: 0.050.. Time: 0.03m\n"
     ]
    },
    {
     "name": "stderr",
     "output_type": "stream",
     "text": [
      "100%|██████████| 238/238 [00:01<00:00, 133.38it/s]\n",
      "100%|██████████| 85/85 [00:00<00:00, 531.42it/s]\n",
      "100%|██████████| 17/17 [00:00<00:00, 432.29it/s]\n"
     ]
    },
    {
     "name": "stdout",
     "output_type": "stream",
     "text": [
      "Epoch:302/1000.. Train Loss: 0.056.. Val Loss: 0.053.. Test Loss: 0.050.. Time: 0.03m\n"
     ]
    },
    {
     "name": "stderr",
     "output_type": "stream",
     "text": [
      "100%|██████████| 238/238 [00:01<00:00, 132.95it/s]\n",
      "100%|██████████| 85/85 [00:00<00:00, 544.67it/s]\n",
      "100%|██████████| 17/17 [00:00<00:00, 486.06it/s]\n"
     ]
    },
    {
     "name": "stdout",
     "output_type": "stream",
     "text": [
      "Epoch:303/1000.. Train Loss: 0.057.. Val Loss: 0.053.. Test Loss: 0.050.. Time: 0.03m\n"
     ]
    },
    {
     "name": "stderr",
     "output_type": "stream",
     "text": [
      "100%|██████████| 238/238 [00:01<00:00, 135.48it/s]\n",
      "100%|██████████| 85/85 [00:00<00:00, 524.71it/s]\n",
      "100%|██████████| 17/17 [00:00<00:00, 478.06it/s]\n"
     ]
    },
    {
     "name": "stdout",
     "output_type": "stream",
     "text": [
      "Epoch:304/1000.. Train Loss: 0.056.. Val Loss: 0.053.. Test Loss: 0.050.. Time: 0.03m\n"
     ]
    },
    {
     "name": "stderr",
     "output_type": "stream",
     "text": [
      "100%|██████████| 238/238 [00:01<00:00, 135.31it/s]\n",
      "100%|██████████| 85/85 [00:00<00:00, 529.89it/s]\n",
      "100%|██████████| 17/17 [00:00<00:00, 491.56it/s]\n"
     ]
    },
    {
     "name": "stdout",
     "output_type": "stream",
     "text": [
      "Loss Decreasing.. 0.053 >> 0.053 \n",
      "saving model...\n",
      "Epoch:305/1000.. Train Loss: 0.056.. Val Loss: 0.053.. Test Loss: 0.052.. Time: 0.03m\n"
     ]
    },
    {
     "name": "stderr",
     "output_type": "stream",
     "text": [
      "100%|██████████| 238/238 [00:01<00:00, 134.40it/s]\n",
      "100%|██████████| 85/85 [00:00<00:00, 543.29it/s]\n",
      "100%|██████████| 17/17 [00:00<00:00, 489.27it/s]\n"
     ]
    },
    {
     "name": "stdout",
     "output_type": "stream",
     "text": [
      "Loss Decreasing.. 0.053 >> 0.053 \n",
      "saving model...\n",
      "Epoch:306/1000.. Train Loss: 0.056.. Val Loss: 0.053.. Test Loss: 0.051.. Time: 0.03m\n"
     ]
    },
    {
     "name": "stderr",
     "output_type": "stream",
     "text": [
      "100%|██████████| 238/238 [00:01<00:00, 134.93it/s]\n",
      "100%|██████████| 85/85 [00:00<00:00, 528.98it/s]\n",
      "100%|██████████| 17/17 [00:00<00:00, 337.18it/s]\n"
     ]
    },
    {
     "name": "stdout",
     "output_type": "stream",
     "text": [
      "Epoch:307/1000.. Train Loss: 0.056.. Val Loss: 0.053.. Test Loss: 0.050.. Time: 0.03m\n"
     ]
    },
    {
     "name": "stderr",
     "output_type": "stream",
     "text": [
      "100%|██████████| 238/238 [00:01<00:00, 133.20it/s]\n",
      "100%|██████████| 85/85 [00:00<00:00, 507.71it/s]\n",
      "100%|██████████| 17/17 [00:00<00:00, 532.64it/s]\n"
     ]
    },
    {
     "name": "stdout",
     "output_type": "stream",
     "text": [
      "Epoch:308/1000.. Train Loss: 0.056.. Val Loss: 0.053.. Test Loss: 0.049.. Time: 0.03m\n"
     ]
    },
    {
     "name": "stderr",
     "output_type": "stream",
     "text": [
      "100%|██████████| 238/238 [00:01<00:00, 131.49it/s]\n",
      "100%|██████████| 85/85 [00:00<00:00, 484.40it/s]\n",
      "100%|██████████| 17/17 [00:00<00:00, 518.45it/s]\n"
     ]
    },
    {
     "name": "stdout",
     "output_type": "stream",
     "text": [
      "Epoch:309/1000.. Train Loss: 0.056.. Val Loss: 0.053.. Test Loss: 0.051.. Time: 0.03m\n"
     ]
    },
    {
     "name": "stderr",
     "output_type": "stream",
     "text": [
      "100%|██████████| 238/238 [00:01<00:00, 134.72it/s]\n",
      "100%|██████████| 85/85 [00:00<00:00, 522.88it/s]\n",
      "100%|██████████| 17/17 [00:00<00:00, 493.78it/s]\n"
     ]
    },
    {
     "name": "stdout",
     "output_type": "stream",
     "text": [
      "Epoch:310/1000.. Train Loss: 0.056.. Val Loss: 0.053.. Test Loss: 0.051.. Time: 0.03m\n"
     ]
    },
    {
     "name": "stderr",
     "output_type": "stream",
     "text": [
      "100%|██████████| 238/238 [00:01<00:00, 135.82it/s]\n",
      "100%|██████████| 85/85 [00:00<00:00, 531.40it/s]\n",
      "100%|██████████| 17/17 [00:00<00:00, 483.41it/s]\n"
     ]
    },
    {
     "name": "stdout",
     "output_type": "stream",
     "text": [
      "Epoch:311/1000.. Train Loss: 0.056.. Val Loss: 0.053.. Test Loss: 0.050.. Time: 0.03m\n"
     ]
    },
    {
     "name": "stderr",
     "output_type": "stream",
     "text": [
      "100%|██████████| 238/238 [00:01<00:00, 133.44it/s]\n",
      "100%|██████████| 85/85 [00:00<00:00, 534.46it/s]\n",
      "100%|██████████| 17/17 [00:00<00:00, 488.30it/s]\n"
     ]
    },
    {
     "name": "stdout",
     "output_type": "stream",
     "text": [
      "Loss Decreasing.. 0.053 >> 0.053 \n",
      "saving model...\n",
      "Epoch:312/1000.. Train Loss: 0.056.. Val Loss: 0.053.. Test Loss: 0.051.. Time: 0.03m\n"
     ]
    },
    {
     "name": "stderr",
     "output_type": "stream",
     "text": [
      "100%|██████████| 238/238 [00:01<00:00, 142.54it/s]\n",
      "100%|██████████| 85/85 [00:00<00:00, 544.38it/s]\n",
      "100%|██████████| 17/17 [00:00<00:00, 494.49it/s]\n"
     ]
    },
    {
     "name": "stdout",
     "output_type": "stream",
     "text": [
      "Epoch:313/1000.. Train Loss: 0.056.. Val Loss: 0.053.. Test Loss: 0.052.. Time: 0.03m\n"
     ]
    },
    {
     "name": "stderr",
     "output_type": "stream",
     "text": [
      "100%|██████████| 238/238 [00:01<00:00, 134.96it/s]\n",
      "100%|██████████| 85/85 [00:00<00:00, 540.39it/s]\n",
      "100%|██████████| 17/17 [00:00<00:00, 488.34it/s]\n"
     ]
    },
    {
     "name": "stdout",
     "output_type": "stream",
     "text": [
      "Loss Decreasing.. 0.053 >> 0.053 \n",
      "saving model...\n",
      "Epoch:314/1000.. Train Loss: 0.056.. Val Loss: 0.053.. Test Loss: 0.051.. Time: 0.03m\n"
     ]
    },
    {
     "name": "stderr",
     "output_type": "stream",
     "text": [
      "100%|██████████| 238/238 [00:01<00:00, 135.49it/s]\n",
      "100%|██████████| 85/85 [00:00<00:00, 542.98it/s]\n",
      "100%|██████████| 17/17 [00:00<00:00, 489.12it/s]\n"
     ]
    },
    {
     "name": "stdout",
     "output_type": "stream",
     "text": [
      "Epoch:315/1000.. Train Loss: 0.056.. Val Loss: 0.053.. Test Loss: 0.051.. Time: 0.03m\n"
     ]
    },
    {
     "name": "stderr",
     "output_type": "stream",
     "text": [
      "100%|██████████| 238/238 [00:01<00:00, 139.00it/s]\n",
      "100%|██████████| 85/85 [00:00<00:00, 536.10it/s]\n",
      "100%|██████████| 17/17 [00:00<00:00, 490.23it/s]\n"
     ]
    },
    {
     "name": "stdout",
     "output_type": "stream",
     "text": [
      "Epoch:316/1000.. Train Loss: 0.056.. Val Loss: 0.053.. Test Loss: 0.051.. Time: 0.03m\n"
     ]
    },
    {
     "name": "stderr",
     "output_type": "stream",
     "text": [
      "100%|██████████| 238/238 [00:01<00:00, 138.20it/s]\n",
      "100%|██████████| 85/85 [00:00<00:00, 534.63it/s]\n",
      "100%|██████████| 17/17 [00:00<00:00, 496.78it/s]\n"
     ]
    },
    {
     "name": "stdout",
     "output_type": "stream",
     "text": [
      "Epoch:317/1000.. Train Loss: 0.056.. Val Loss: 0.053.. Test Loss: 0.051.. Time: 0.03m\n"
     ]
    },
    {
     "name": "stderr",
     "output_type": "stream",
     "text": [
      "100%|██████████| 238/238 [00:01<00:00, 138.09it/s]\n",
      "100%|██████████| 85/85 [00:00<00:00, 534.06it/s]\n",
      "100%|██████████| 17/17 [00:00<00:00, 481.13it/s]\n"
     ]
    },
    {
     "name": "stdout",
     "output_type": "stream",
     "text": [
      "Epoch:318/1000.. Train Loss: 0.056.. Val Loss: 0.053.. Test Loss: 0.051.. Time: 0.03m\n"
     ]
    },
    {
     "name": "stderr",
     "output_type": "stream",
     "text": [
      "100%|██████████| 238/238 [00:01<00:00, 134.50it/s]\n",
      "100%|██████████| 85/85 [00:00<00:00, 545.75it/s]\n",
      "100%|██████████| 17/17 [00:00<00:00, 493.67it/s]\n"
     ]
    },
    {
     "name": "stdout",
     "output_type": "stream",
     "text": [
      "Epoch:319/1000.. Train Loss: 0.056.. Val Loss: 0.053.. Test Loss: 0.049.. Time: 0.03m\n"
     ]
    },
    {
     "name": "stderr",
     "output_type": "stream",
     "text": [
      "100%|██████████| 238/238 [00:01<00:00, 137.96it/s]\n",
      "100%|██████████| 85/85 [00:00<00:00, 529.60it/s]\n",
      "100%|██████████| 17/17 [00:00<00:00, 481.18it/s]\n"
     ]
    },
    {
     "name": "stdout",
     "output_type": "stream",
     "text": [
      "Epoch:320/1000.. Train Loss: 0.056.. Val Loss: 0.053.. Test Loss: 0.050.. Time: 0.03m\n"
     ]
    },
    {
     "name": "stderr",
     "output_type": "stream",
     "text": [
      "100%|██████████| 238/238 [00:01<00:00, 135.09it/s]\n",
      "100%|██████████| 85/85 [00:00<00:00, 519.04it/s]\n",
      "100%|██████████| 17/17 [00:00<00:00, 500.47it/s]\n"
     ]
    },
    {
     "name": "stdout",
     "output_type": "stream",
     "text": [
      "Epoch:321/1000.. Train Loss: 0.056.. Val Loss: 0.053.. Test Loss: 0.050.. Time: 0.03m\n"
     ]
    },
    {
     "name": "stderr",
     "output_type": "stream",
     "text": [
      "100%|██████████| 238/238 [00:01<00:00, 131.80it/s]\n",
      "100%|██████████| 85/85 [00:00<00:00, 517.87it/s]\n",
      "100%|██████████| 17/17 [00:00<00:00, 485.19it/s]\n"
     ]
    },
    {
     "name": "stdout",
     "output_type": "stream",
     "text": [
      "Epoch:322/1000.. Train Loss: 0.056.. Val Loss: 0.053.. Test Loss: 0.050.. Time: 0.03m\n"
     ]
    },
    {
     "name": "stderr",
     "output_type": "stream",
     "text": [
      "100%|██████████| 238/238 [00:01<00:00, 131.57it/s]\n",
      "100%|██████████| 85/85 [00:00<00:00, 505.27it/s]\n",
      "100%|██████████| 17/17 [00:00<00:00, 483.33it/s]\n"
     ]
    },
    {
     "name": "stdout",
     "output_type": "stream",
     "text": [
      "Epoch:323/1000.. Train Loss: 0.056.. Val Loss: 0.053.. Test Loss: 0.051.. Time: 0.03m\n"
     ]
    },
    {
     "name": "stderr",
     "output_type": "stream",
     "text": [
      "100%|██████████| 238/238 [00:01<00:00, 133.81it/s]\n",
      "100%|██████████| 85/85 [00:00<00:00, 533.80it/s]\n",
      "100%|██████████| 17/17 [00:00<00:00, 485.55it/s]\n"
     ]
    },
    {
     "name": "stdout",
     "output_type": "stream",
     "text": [
      "Loss Decreasing.. 0.053 >> 0.053 \n",
      "saving model...\n",
      "Epoch:324/1000.. Train Loss: 0.056.. Val Loss: 0.053.. Test Loss: 0.051.. Time: 0.03m\n"
     ]
    },
    {
     "name": "stderr",
     "output_type": "stream",
     "text": [
      "100%|██████████| 238/238 [00:01<00:00, 139.12it/s]\n",
      "100%|██████████| 85/85 [00:00<00:00, 525.09it/s]\n",
      "100%|██████████| 17/17 [00:00<00:00, 498.94it/s]\n"
     ]
    },
    {
     "name": "stdout",
     "output_type": "stream",
     "text": [
      "Epoch:325/1000.. Train Loss: 0.056.. Val Loss: 0.053.. Test Loss: 0.051.. Time: 0.03m\n"
     ]
    },
    {
     "name": "stderr",
     "output_type": "stream",
     "text": [
      "100%|██████████| 238/238 [00:01<00:00, 138.53it/s]\n",
      "100%|██████████| 85/85 [00:00<00:00, 532.90it/s]\n",
      "100%|██████████| 17/17 [00:00<00:00, 479.24it/s]\n"
     ]
    },
    {
     "name": "stdout",
     "output_type": "stream",
     "text": [
      "Epoch:326/1000.. Train Loss: 0.056.. Val Loss: 0.053.. Test Loss: 0.052.. Time: 0.03m\n"
     ]
    },
    {
     "name": "stderr",
     "output_type": "stream",
     "text": [
      "100%|██████████| 238/238 [00:01<00:00, 140.00it/s]\n",
      "100%|██████████| 85/85 [00:00<00:00, 530.11it/s]\n",
      "100%|██████████| 17/17 [00:00<00:00, 449.46it/s]\n"
     ]
    },
    {
     "name": "stdout",
     "output_type": "stream",
     "text": [
      "Loss Decreasing.. 0.053 >> 0.052 \n",
      "saving model...\n",
      "Epoch:327/1000.. Train Loss: 0.056.. Val Loss: 0.052.. Test Loss: 0.051.. Time: 0.03m\n"
     ]
    },
    {
     "name": "stderr",
     "output_type": "stream",
     "text": [
      "100%|██████████| 238/238 [00:01<00:00, 134.11it/s]\n",
      "100%|██████████| 85/85 [00:00<00:00, 538.54it/s]\n",
      "100%|██████████| 17/17 [00:00<00:00, 493.22it/s]\n"
     ]
    },
    {
     "name": "stdout",
     "output_type": "stream",
     "text": [
      "Epoch:328/1000.. Train Loss: 0.056.. Val Loss: 0.052.. Test Loss: 0.052.. Time: 0.03m\n"
     ]
    },
    {
     "name": "stderr",
     "output_type": "stream",
     "text": [
      "100%|██████████| 238/238 [00:01<00:00, 138.37it/s]\n",
      "100%|██████████| 85/85 [00:00<00:00, 526.54it/s]\n",
      "100%|██████████| 17/17 [00:00<00:00, 490.71it/s]\n"
     ]
    },
    {
     "name": "stdout",
     "output_type": "stream",
     "text": [
      "Epoch:329/1000.. Train Loss: 0.056.. Val Loss: 0.053.. Test Loss: 0.051.. Time: 0.03m\n"
     ]
    },
    {
     "name": "stderr",
     "output_type": "stream",
     "text": [
      "100%|██████████| 238/238 [00:01<00:00, 132.63it/s]\n",
      "100%|██████████| 85/85 [00:00<00:00, 541.18it/s]\n",
      "100%|██████████| 17/17 [00:00<00:00, 494.06it/s]\n"
     ]
    },
    {
     "name": "stdout",
     "output_type": "stream",
     "text": [
      "Loss Decreasing.. 0.052 >> 0.052 \n",
      "saving model...\n",
      "Epoch:330/1000.. Train Loss: 0.056.. Val Loss: 0.052.. Test Loss: 0.053.. Time: 0.03m\n"
     ]
    },
    {
     "name": "stderr",
     "output_type": "stream",
     "text": [
      "100%|██████████| 238/238 [00:01<00:00, 138.83it/s]\n",
      "100%|██████████| 85/85 [00:00<00:00, 533.15it/s]\n",
      "100%|██████████| 17/17 [00:00<00:00, 493.54it/s]\n"
     ]
    },
    {
     "name": "stdout",
     "output_type": "stream",
     "text": [
      "Loss Decreasing.. 0.052 >> 0.052 \n",
      "saving model...\n",
      "Epoch:331/1000.. Train Loss: 0.056.. Val Loss: 0.052.. Test Loss: 0.053.. Time: 0.03m\n"
     ]
    },
    {
     "name": "stderr",
     "output_type": "stream",
     "text": [
      "100%|██████████| 238/238 [00:01<00:00, 138.95it/s]\n",
      "100%|██████████| 85/85 [00:00<00:00, 531.97it/s]\n",
      "100%|██████████| 17/17 [00:00<00:00, 493.91it/s]\n"
     ]
    },
    {
     "name": "stdout",
     "output_type": "stream",
     "text": [
      "Epoch:332/1000.. Train Loss: 0.056.. Val Loss: 0.052.. Test Loss: 0.052.. Time: 0.03m\n"
     ]
    },
    {
     "name": "stderr",
     "output_type": "stream",
     "text": [
      "100%|██████████| 238/238 [00:01<00:00, 132.74it/s]\n",
      "100%|██████████| 85/85 [00:00<00:00, 527.66it/s]\n",
      "100%|██████████| 17/17 [00:00<00:00, 505.92it/s]\n"
     ]
    },
    {
     "name": "stdout",
     "output_type": "stream",
     "text": [
      "Epoch:333/1000.. Train Loss: 0.056.. Val Loss: 0.052.. Test Loss: 0.052.. Time: 0.03m\n"
     ]
    },
    {
     "name": "stderr",
     "output_type": "stream",
     "text": [
      "100%|██████████| 238/238 [00:01<00:00, 131.77it/s]\n",
      "100%|██████████| 85/85 [00:00<00:00, 526.70it/s]\n",
      "100%|██████████| 17/17 [00:00<00:00, 489.37it/s]\n"
     ]
    },
    {
     "name": "stdout",
     "output_type": "stream",
     "text": [
      "Epoch:334/1000.. Train Loss: 0.056.. Val Loss: 0.052.. Test Loss: 0.053.. Time: 0.03m\n"
     ]
    },
    {
     "name": "stderr",
     "output_type": "stream",
     "text": [
      "100%|██████████| 238/238 [00:01<00:00, 133.30it/s]\n",
      "100%|██████████| 85/85 [00:00<00:00, 530.61it/s]\n",
      "100%|██████████| 17/17 [00:00<00:00, 488.08it/s]\n"
     ]
    },
    {
     "name": "stdout",
     "output_type": "stream",
     "text": [
      "Epoch:335/1000.. Train Loss: 0.055.. Val Loss: 0.052.. Test Loss: 0.051.. Time: 0.03m\n"
     ]
    },
    {
     "name": "stderr",
     "output_type": "stream",
     "text": [
      "100%|██████████| 238/238 [00:01<00:00, 133.49it/s]\n",
      "100%|██████████| 85/85 [00:00<00:00, 515.43it/s]\n",
      "100%|██████████| 17/17 [00:00<00:00, 489.00it/s]\n"
     ]
    },
    {
     "name": "stdout",
     "output_type": "stream",
     "text": [
      "Epoch:336/1000.. Train Loss: 0.056.. Val Loss: 0.053.. Test Loss: 0.053.. Time: 0.03m\n"
     ]
    },
    {
     "name": "stderr",
     "output_type": "stream",
     "text": [
      "100%|██████████| 238/238 [00:01<00:00, 141.38it/s]\n",
      "100%|██████████| 85/85 [00:00<00:00, 504.93it/s]\n",
      "100%|██████████| 17/17 [00:00<00:00, 492.82it/s]\n"
     ]
    },
    {
     "name": "stdout",
     "output_type": "stream",
     "text": [
      "Epoch:337/1000.. Train Loss: 0.056.. Val Loss: 0.052.. Test Loss: 0.052.. Time: 0.03m\n"
     ]
    },
    {
     "name": "stderr",
     "output_type": "stream",
     "text": [
      "100%|██████████| 238/238 [00:01<00:00, 133.86it/s]\n",
      "100%|██████████| 85/85 [00:00<00:00, 543.42it/s]\n",
      "100%|██████████| 17/17 [00:00<00:00, 488.05it/s]\n"
     ]
    },
    {
     "name": "stdout",
     "output_type": "stream",
     "text": [
      "Epoch:338/1000.. Train Loss: 0.055.. Val Loss: 0.052.. Test Loss: 0.052.. Time: 0.03m\n"
     ]
    },
    {
     "name": "stderr",
     "output_type": "stream",
     "text": [
      "100%|██████████| 238/238 [00:01<00:00, 135.99it/s]\n",
      "100%|██████████| 85/85 [00:00<00:00, 537.21it/s]\n",
      "100%|██████████| 17/17 [00:00<00:00, 512.30it/s]\n"
     ]
    },
    {
     "name": "stdout",
     "output_type": "stream",
     "text": [
      "Loss Decreasing.. 0.052 >> 0.052 \n",
      "saving model...\n",
      "Epoch:339/1000.. Train Loss: 0.055.. Val Loss: 0.052.. Test Loss: 0.052.. Time: 0.03m\n"
     ]
    },
    {
     "name": "stderr",
     "output_type": "stream",
     "text": [
      "100%|██████████| 238/238 [00:01<00:00, 135.50it/s]\n",
      "100%|██████████| 85/85 [00:00<00:00, 521.13it/s]\n",
      "100%|██████████| 17/17 [00:00<00:00, 487.45it/s]\n"
     ]
    },
    {
     "name": "stdout",
     "output_type": "stream",
     "text": [
      "Epoch:340/1000.. Train Loss: 0.055.. Val Loss: 0.052.. Test Loss: 0.051.. Time: 0.03m\n"
     ]
    },
    {
     "name": "stderr",
     "output_type": "stream",
     "text": [
      "100%|██████████| 238/238 [00:01<00:00, 134.69it/s]\n",
      "100%|██████████| 85/85 [00:00<00:00, 536.29it/s]\n",
      "100%|██████████| 17/17 [00:00<00:00, 467.68it/s]\n"
     ]
    },
    {
     "name": "stdout",
     "output_type": "stream",
     "text": [
      "Epoch:341/1000.. Train Loss: 0.056.. Val Loss: 0.052.. Test Loss: 0.052.. Time: 0.03m\n"
     ]
    },
    {
     "name": "stderr",
     "output_type": "stream",
     "text": [
      "100%|██████████| 238/238 [00:01<00:00, 133.16it/s]\n",
      "100%|██████████| 85/85 [00:00<00:00, 524.77it/s]\n",
      "100%|██████████| 17/17 [00:00<00:00, 537.25it/s]\n"
     ]
    },
    {
     "name": "stdout",
     "output_type": "stream",
     "text": [
      "Epoch:342/1000.. Train Loss: 0.055.. Val Loss: 0.052.. Test Loss: 0.051.. Time: 0.03m\n"
     ]
    },
    {
     "name": "stderr",
     "output_type": "stream",
     "text": [
      "100%|██████████| 238/238 [00:01<00:00, 134.99it/s]\n",
      "100%|██████████| 85/85 [00:00<00:00, 542.42it/s]\n",
      "100%|██████████| 17/17 [00:00<00:00, 488.40it/s]\n"
     ]
    },
    {
     "name": "stdout",
     "output_type": "stream",
     "text": [
      "Loss Decreasing.. 0.052 >> 0.052 \n",
      "saving model...\n",
      "Epoch:343/1000.. Train Loss: 0.056.. Val Loss: 0.052.. Test Loss: 0.051.. Time: 0.03m\n"
     ]
    },
    {
     "name": "stderr",
     "output_type": "stream",
     "text": [
      "100%|██████████| 238/238 [00:01<00:00, 138.49it/s]\n",
      "100%|██████████| 85/85 [00:00<00:00, 535.11it/s]\n",
      "100%|██████████| 17/17 [00:00<00:00, 497.06it/s]\n"
     ]
    },
    {
     "name": "stdout",
     "output_type": "stream",
     "text": [
      "Epoch:344/1000.. Train Loss: 0.056.. Val Loss: 0.052.. Test Loss: 0.053.. Time: 0.03m\n"
     ]
    },
    {
     "name": "stderr",
     "output_type": "stream",
     "text": [
      "100%|██████████| 238/238 [00:01<00:00, 133.98it/s]\n",
      "100%|██████████| 85/85 [00:00<00:00, 540.01it/s]\n",
      "100%|██████████| 17/17 [00:00<00:00, 493.07it/s]\n"
     ]
    },
    {
     "name": "stdout",
     "output_type": "stream",
     "text": [
      "Epoch:345/1000.. Train Loss: 0.056.. Val Loss: 0.052.. Test Loss: 0.053.. Time: 0.03m\n"
     ]
    },
    {
     "name": "stderr",
     "output_type": "stream",
     "text": [
      "100%|██████████| 238/238 [00:01<00:00, 137.10it/s]\n",
      "100%|██████████| 85/85 [00:00<00:00, 534.54it/s]\n",
      "100%|██████████| 17/17 [00:00<00:00, 495.13it/s]\n"
     ]
    },
    {
     "name": "stdout",
     "output_type": "stream",
     "text": [
      "Loss Decreasing.. 0.052 >> 0.052 \n",
      "saving model...\n",
      "Epoch:346/1000.. Train Loss: 0.056.. Val Loss: 0.052.. Test Loss: 0.051.. Time: 0.03m\n"
     ]
    },
    {
     "name": "stderr",
     "output_type": "stream",
     "text": [
      "100%|██████████| 238/238 [00:01<00:00, 133.11it/s]\n",
      "100%|██████████| 85/85 [00:00<00:00, 526.68it/s]\n",
      "100%|██████████| 17/17 [00:00<00:00, 485.81it/s]\n"
     ]
    },
    {
     "name": "stdout",
     "output_type": "stream",
     "text": [
      "Epoch:347/1000.. Train Loss: 0.055.. Val Loss: 0.052.. Test Loss: 0.053.. Time: 0.03m\n"
     ]
    },
    {
     "name": "stderr",
     "output_type": "stream",
     "text": [
      "100%|██████████| 238/238 [00:01<00:00, 130.76it/s]\n",
      "100%|██████████| 85/85 [00:00<00:00, 535.84it/s]\n",
      "100%|██████████| 17/17 [00:00<00:00, 498.25it/s]\n"
     ]
    },
    {
     "name": "stdout",
     "output_type": "stream",
     "text": [
      "Epoch:348/1000.. Train Loss: 0.055.. Val Loss: 0.052.. Test Loss: 0.051.. Time: 0.03m\n"
     ]
    },
    {
     "name": "stderr",
     "output_type": "stream",
     "text": [
      "100%|██████████| 238/238 [00:01<00:00, 138.63it/s]\n",
      "100%|██████████| 85/85 [00:00<00:00, 518.99it/s]\n",
      "100%|██████████| 17/17 [00:00<00:00, 498.10it/s]\n"
     ]
    },
    {
     "name": "stdout",
     "output_type": "stream",
     "text": [
      "Epoch:349/1000.. Train Loss: 0.056.. Val Loss: 0.052.. Test Loss: 0.052.. Time: 0.03m\n"
     ]
    },
    {
     "name": "stderr",
     "output_type": "stream",
     "text": [
      "100%|██████████| 238/238 [00:01<00:00, 136.93it/s]\n",
      "100%|██████████| 85/85 [00:00<00:00, 533.81it/s]\n",
      "100%|██████████| 17/17 [00:00<00:00, 496.46it/s]\n"
     ]
    },
    {
     "name": "stdout",
     "output_type": "stream",
     "text": [
      "Loss Decreasing.. 0.052 >> 0.052 \n",
      "saving model...\n",
      "Epoch:350/1000.. Train Loss: 0.055.. Val Loss: 0.052.. Test Loss: 0.051.. Time: 0.03m\n"
     ]
    },
    {
     "name": "stderr",
     "output_type": "stream",
     "text": [
      "100%|██████████| 238/238 [00:01<00:00, 141.80it/s]\n",
      "100%|██████████| 85/85 [00:00<00:00, 523.51it/s]\n",
      "100%|██████████| 17/17 [00:00<00:00, 498.84it/s]\n"
     ]
    },
    {
     "name": "stdout",
     "output_type": "stream",
     "text": [
      "Epoch:351/1000.. Train Loss: 0.056.. Val Loss: 0.052.. Test Loss: 0.052.. Time: 0.03m\n"
     ]
    },
    {
     "name": "stderr",
     "output_type": "stream",
     "text": [
      "100%|██████████| 238/238 [00:01<00:00, 132.03it/s]\n",
      "100%|██████████| 85/85 [00:00<00:00, 522.74it/s]\n",
      "100%|██████████| 17/17 [00:00<00:00, 490.30it/s]\n"
     ]
    },
    {
     "name": "stdout",
     "output_type": "stream",
     "text": [
      "Epoch:352/1000.. Train Loss: 0.055.. Val Loss: 0.052.. Test Loss: 0.052.. Time: 0.03m\n"
     ]
    },
    {
     "name": "stderr",
     "output_type": "stream",
     "text": [
      "100%|██████████| 238/238 [00:01<00:00, 134.17it/s]\n",
      "100%|██████████| 85/85 [00:00<00:00, 541.15it/s]\n",
      "100%|██████████| 17/17 [00:00<00:00, 495.33it/s]\n"
     ]
    },
    {
     "name": "stdout",
     "output_type": "stream",
     "text": [
      "Epoch:353/1000.. Train Loss: 0.055.. Val Loss: 0.052.. Test Loss: 0.054.. Time: 0.03m\n"
     ]
    },
    {
     "name": "stderr",
     "output_type": "stream",
     "text": [
      "100%|██████████| 238/238 [00:01<00:00, 139.06it/s]\n",
      "100%|██████████| 85/85 [00:00<00:00, 533.93it/s]\n",
      "100%|██████████| 17/17 [00:00<00:00, 494.27it/s]\n"
     ]
    },
    {
     "name": "stdout",
     "output_type": "stream",
     "text": [
      "Epoch:354/1000.. Train Loss: 0.055.. Val Loss: 0.052.. Test Loss: 0.052.. Time: 0.03m\n"
     ]
    },
    {
     "name": "stderr",
     "output_type": "stream",
     "text": [
      "100%|██████████| 238/238 [00:01<00:00, 130.88it/s]\n",
      "100%|██████████| 85/85 [00:00<00:00, 213.65it/s]\n",
      "100%|██████████| 17/17 [00:00<00:00, 479.68it/s]\n"
     ]
    },
    {
     "name": "stdout",
     "output_type": "stream",
     "text": [
      "Loss Decreasing.. 0.052 >> 0.052 \n",
      "saving model...\n",
      "Epoch:355/1000.. Train Loss: 0.055.. Val Loss: 0.052.. Test Loss: 0.052.. Time: 0.04m\n"
     ]
    },
    {
     "name": "stderr",
     "output_type": "stream",
     "text": [
      "100%|██████████| 238/238 [00:01<00:00, 133.46it/s]\n",
      "100%|██████████| 85/85 [00:00<00:00, 532.80it/s]\n",
      "100%|██████████| 17/17 [00:00<00:00, 461.45it/s]\n"
     ]
    },
    {
     "name": "stdout",
     "output_type": "stream",
     "text": [
      "Epoch:356/1000.. Train Loss: 0.055.. Val Loss: 0.052.. Test Loss: 0.053.. Time: 0.03m\n"
     ]
    },
    {
     "name": "stderr",
     "output_type": "stream",
     "text": [
      "100%|██████████| 238/238 [00:01<00:00, 133.42it/s]\n",
      "100%|██████████| 85/85 [00:00<00:00, 545.91it/s]\n",
      "100%|██████████| 17/17 [00:00<00:00, 499.10it/s]\n"
     ]
    },
    {
     "name": "stdout",
     "output_type": "stream",
     "text": [
      "Epoch:357/1000.. Train Loss: 0.055.. Val Loss: 0.052.. Test Loss: 0.053.. Time: 0.03m\n"
     ]
    },
    {
     "name": "stderr",
     "output_type": "stream",
     "text": [
      "100%|██████████| 238/238 [00:01<00:00, 136.47it/s]\n",
      "100%|██████████| 85/85 [00:00<00:00, 530.85it/s]\n",
      "100%|██████████| 17/17 [00:00<00:00, 485.00it/s]\n"
     ]
    },
    {
     "name": "stdout",
     "output_type": "stream",
     "text": [
      "Epoch:358/1000.. Train Loss: 0.055.. Val Loss: 0.052.. Test Loss: 0.056.. Time: 0.03m\n"
     ]
    },
    {
     "name": "stderr",
     "output_type": "stream",
     "text": [
      "100%|██████████| 238/238 [00:01<00:00, 131.50it/s]\n",
      "100%|██████████| 85/85 [00:00<00:00, 515.88it/s]\n",
      "100%|██████████| 17/17 [00:00<00:00, 493.45it/s]\n"
     ]
    },
    {
     "name": "stdout",
     "output_type": "stream",
     "text": [
      "Epoch:359/1000.. Train Loss: 0.055.. Val Loss: 0.052.. Test Loss: 0.054.. Time: 0.03m\n"
     ]
    },
    {
     "name": "stderr",
     "output_type": "stream",
     "text": [
      "100%|██████████| 238/238 [00:01<00:00, 130.86it/s]\n",
      "100%|██████████| 85/85 [00:00<00:00, 521.43it/s]\n",
      "100%|██████████| 17/17 [00:00<00:00, 432.60it/s]\n"
     ]
    },
    {
     "name": "stdout",
     "output_type": "stream",
     "text": [
      "Loss Decreasing.. 0.052 >> 0.051 \n",
      "saving model...\n",
      "Epoch:360/1000.. Train Loss: 0.055.. Val Loss: 0.051.. Test Loss: 0.054.. Time: 0.03m\n"
     ]
    },
    {
     "name": "stderr",
     "output_type": "stream",
     "text": [
      "100%|██████████| 238/238 [00:01<00:00, 132.05it/s]\n",
      "100%|██████████| 85/85 [00:00<00:00, 482.21it/s]\n",
      "100%|██████████| 17/17 [00:00<00:00, 508.57it/s]\n"
     ]
    },
    {
     "name": "stdout",
     "output_type": "stream",
     "text": [
      "Epoch:361/1000.. Train Loss: 0.055.. Val Loss: 0.052.. Test Loss: 0.052.. Time: 0.03m\n"
     ]
    },
    {
     "name": "stderr",
     "output_type": "stream",
     "text": [
      "100%|██████████| 238/238 [00:01<00:00, 132.19it/s]\n",
      "100%|██████████| 85/85 [00:00<00:00, 528.19it/s]\n",
      "100%|██████████| 17/17 [00:00<00:00, 491.22it/s]\n"
     ]
    },
    {
     "name": "stdout",
     "output_type": "stream",
     "text": [
      "Epoch:362/1000.. Train Loss: 0.055.. Val Loss: 0.051.. Test Loss: 0.054.. Time: 0.03m\n"
     ]
    },
    {
     "name": "stderr",
     "output_type": "stream",
     "text": [
      "100%|██████████| 238/238 [00:01<00:00, 132.96it/s]\n",
      "100%|██████████| 85/85 [00:00<00:00, 537.98it/s]\n",
      "100%|██████████| 17/17 [00:00<00:00, 503.63it/s]\n"
     ]
    },
    {
     "name": "stdout",
     "output_type": "stream",
     "text": [
      "Epoch:363/1000.. Train Loss: 0.055.. Val Loss: 0.052.. Test Loss: 0.053.. Time: 0.03m\n"
     ]
    },
    {
     "name": "stderr",
     "output_type": "stream",
     "text": [
      "100%|██████████| 238/238 [00:01<00:00, 139.41it/s]\n",
      "100%|██████████| 85/85 [00:00<00:00, 526.93it/s]\n",
      "100%|██████████| 17/17 [00:00<00:00, 542.58it/s]\n"
     ]
    },
    {
     "name": "stdout",
     "output_type": "stream",
     "text": [
      "Epoch:364/1000.. Train Loss: 0.056.. Val Loss: 0.052.. Test Loss: 0.052.. Time: 0.03m\n"
     ]
    },
    {
     "name": "stderr",
     "output_type": "stream",
     "text": [
      "100%|██████████| 238/238 [00:01<00:00, 133.48it/s]\n",
      "100%|██████████| 85/85 [00:00<00:00, 531.60it/s]\n",
      "100%|██████████| 17/17 [00:00<00:00, 515.93it/s]\n"
     ]
    },
    {
     "name": "stdout",
     "output_type": "stream",
     "text": [
      "Loss Decreasing.. 0.051 >> 0.051 \n",
      "saving model...\n",
      "Epoch:365/1000.. Train Loss: 0.055.. Val Loss: 0.051.. Test Loss: 0.054.. Time: 0.03m\n"
     ]
    },
    {
     "name": "stderr",
     "output_type": "stream",
     "text": [
      "100%|██████████| 238/238 [00:01<00:00, 138.57it/s]\n",
      "100%|██████████| 85/85 [00:00<00:00, 532.92it/s]\n",
      "100%|██████████| 17/17 [00:00<00:00, 518.09it/s]\n"
     ]
    },
    {
     "name": "stdout",
     "output_type": "stream",
     "text": [
      "Epoch:366/1000.. Train Loss: 0.055.. Val Loss: 0.052.. Test Loss: 0.054.. Time: 0.03m\n"
     ]
    },
    {
     "name": "stderr",
     "output_type": "stream",
     "text": [
      "100%|██████████| 238/238 [00:01<00:00, 134.88it/s]\n",
      "100%|██████████| 85/85 [00:00<00:00, 527.56it/s]\n",
      "100%|██████████| 17/17 [00:00<00:00, 495.56it/s]\n"
     ]
    },
    {
     "name": "stdout",
     "output_type": "stream",
     "text": [
      "Loss Decreasing.. 0.051 >> 0.051 \n",
      "saving model...\n",
      "Epoch:367/1000.. Train Loss: 0.054.. Val Loss: 0.051.. Test Loss: 0.054.. Time: 0.03m\n"
     ]
    },
    {
     "name": "stderr",
     "output_type": "stream",
     "text": [
      "100%|██████████| 238/238 [00:01<00:00, 132.00it/s]\n",
      "100%|██████████| 85/85 [00:00<00:00, 530.90it/s]\n",
      "100%|██████████| 17/17 [00:00<00:00, 485.61it/s]\n"
     ]
    },
    {
     "name": "stdout",
     "output_type": "stream",
     "text": [
      "Epoch:368/1000.. Train Loss: 0.055.. Val Loss: 0.052.. Test Loss: 0.057.. Time: 0.03m\n"
     ]
    },
    {
     "name": "stderr",
     "output_type": "stream",
     "text": [
      "100%|██████████| 238/238 [00:01<00:00, 134.85it/s]\n",
      "100%|██████████| 85/85 [00:00<00:00, 531.52it/s]\n",
      "100%|██████████| 17/17 [00:00<00:00, 536.70it/s]\n"
     ]
    },
    {
     "name": "stdout",
     "output_type": "stream",
     "text": [
      "Loss Decreasing.. 0.051 >> 0.051 \n",
      "saving model...\n",
      "Epoch:369/1000.. Train Loss: 0.055.. Val Loss: 0.051.. Test Loss: 0.056.. Time: 0.03m\n"
     ]
    },
    {
     "name": "stderr",
     "output_type": "stream",
     "text": [
      "100%|██████████| 238/238 [00:01<00:00, 133.37it/s]\n",
      "100%|██████████| 85/85 [00:00<00:00, 523.37it/s]\n",
      "100%|██████████| 17/17 [00:00<00:00, 494.15it/s]\n"
     ]
    },
    {
     "name": "stdout",
     "output_type": "stream",
     "text": [
      "Epoch:370/1000.. Train Loss: 0.055.. Val Loss: 0.051.. Test Loss: 0.054.. Time: 0.03m\n"
     ]
    },
    {
     "name": "stderr",
     "output_type": "stream",
     "text": [
      "100%|██████████| 238/238 [00:01<00:00, 133.60it/s]\n",
      "100%|██████████| 85/85 [00:00<00:00, 511.62it/s]\n",
      "100%|██████████| 17/17 [00:00<00:00, 476.01it/s]\n"
     ]
    },
    {
     "name": "stdout",
     "output_type": "stream",
     "text": [
      "Epoch:371/1000.. Train Loss: 0.055.. Val Loss: 0.051.. Test Loss: 0.054.. Time: 0.03m\n"
     ]
    },
    {
     "name": "stderr",
     "output_type": "stream",
     "text": [
      "100%|██████████| 238/238 [00:01<00:00, 131.28it/s]\n",
      "100%|██████████| 85/85 [00:00<00:00, 503.32it/s]\n",
      "100%|██████████| 17/17 [00:00<00:00, 482.49it/s]\n"
     ]
    },
    {
     "name": "stdout",
     "output_type": "stream",
     "text": [
      "Loss Decreasing.. 0.051 >> 0.051 \n",
      "saving model...\n",
      "Epoch:372/1000.. Train Loss: 0.055.. Val Loss: 0.051.. Test Loss: 0.053.. Time: 0.03m\n"
     ]
    },
    {
     "name": "stderr",
     "output_type": "stream",
     "text": [
      "100%|██████████| 238/238 [00:01<00:00, 136.77it/s]\n",
      "100%|██████████| 85/85 [00:00<00:00, 515.44it/s]\n",
      "100%|██████████| 17/17 [00:00<00:00, 515.61it/s]\n"
     ]
    },
    {
     "name": "stdout",
     "output_type": "stream",
     "text": [
      "Loss Decreasing.. 0.051 >> 0.051 \n",
      "saving model...\n",
      "Epoch:373/1000.. Train Loss: 0.055.. Val Loss: 0.051.. Test Loss: 0.053.. Time: 0.03m\n"
     ]
    },
    {
     "name": "stderr",
     "output_type": "stream",
     "text": [
      "100%|██████████| 238/238 [00:01<00:00, 138.25it/s]\n",
      "100%|██████████| 85/85 [00:00<00:00, 528.33it/s]\n",
      "100%|██████████| 17/17 [00:00<00:00, 487.35it/s]\n"
     ]
    },
    {
     "name": "stdout",
     "output_type": "stream",
     "text": [
      "Epoch:374/1000.. Train Loss: 0.055.. Val Loss: 0.051.. Test Loss: 0.054.. Time: 0.03m\n"
     ]
    },
    {
     "name": "stderr",
     "output_type": "stream",
     "text": [
      "100%|██████████| 238/238 [00:01<00:00, 133.87it/s]\n",
      "100%|██████████| 85/85 [00:00<00:00, 530.14it/s]\n",
      "100%|██████████| 17/17 [00:00<00:00, 492.62it/s]\n"
     ]
    },
    {
     "name": "stdout",
     "output_type": "stream",
     "text": [
      "Loss Decreasing.. 0.051 >> 0.051 \n",
      "saving model...\n",
      "Epoch:375/1000.. Train Loss: 0.055.. Val Loss: 0.051.. Test Loss: 0.052.. Time: 0.03m\n"
     ]
    },
    {
     "name": "stderr",
     "output_type": "stream",
     "text": [
      "100%|██████████| 238/238 [00:01<00:00, 130.66it/s]\n",
      "100%|██████████| 85/85 [00:00<00:00, 535.09it/s]\n",
      "100%|██████████| 17/17 [00:00<00:00, 498.50it/s]\n"
     ]
    },
    {
     "name": "stdout",
     "output_type": "stream",
     "text": [
      "Epoch:376/1000.. Train Loss: 0.055.. Val Loss: 0.052.. Test Loss: 0.053.. Time: 0.03m\n"
     ]
    },
    {
     "name": "stderr",
     "output_type": "stream",
     "text": [
      "100%|██████████| 238/238 [00:01<00:00, 133.02it/s]\n",
      "100%|██████████| 85/85 [00:00<00:00, 532.75it/s]\n",
      "100%|██████████| 17/17 [00:00<00:00, 486.86it/s]\n"
     ]
    },
    {
     "name": "stdout",
     "output_type": "stream",
     "text": [
      "Epoch:377/1000.. Train Loss: 0.055.. Val Loss: 0.051.. Test Loss: 0.055.. Time: 0.03m\n"
     ]
    },
    {
     "name": "stderr",
     "output_type": "stream",
     "text": [
      "100%|██████████| 238/238 [00:01<00:00, 133.27it/s]\n",
      "100%|██████████| 85/85 [00:00<00:00, 509.99it/s]\n",
      "100%|██████████| 17/17 [00:00<00:00, 515.04it/s]\n"
     ]
    },
    {
     "name": "stdout",
     "output_type": "stream",
     "text": [
      "Epoch:378/1000.. Train Loss: 0.055.. Val Loss: 0.051.. Test Loss: 0.057.. Time: 0.03m\n"
     ]
    },
    {
     "name": "stderr",
     "output_type": "stream",
     "text": [
      "100%|██████████| 238/238 [00:01<00:00, 130.53it/s]\n",
      "100%|██████████| 85/85 [00:00<00:00, 506.99it/s]\n",
      "100%|██████████| 17/17 [00:00<00:00, 498.98it/s]\n"
     ]
    },
    {
     "name": "stdout",
     "output_type": "stream",
     "text": [
      "Epoch:379/1000.. Train Loss: 0.055.. Val Loss: 0.051.. Test Loss: 0.054.. Time: 0.03m\n"
     ]
    },
    {
     "name": "stderr",
     "output_type": "stream",
     "text": [
      "100%|██████████| 238/238 [00:01<00:00, 130.86it/s]\n",
      "100%|██████████| 85/85 [00:00<00:00, 510.82it/s]\n",
      "100%|██████████| 17/17 [00:00<00:00, 479.51it/s]\n"
     ]
    },
    {
     "name": "stdout",
     "output_type": "stream",
     "text": [
      "Epoch:380/1000.. Train Loss: 0.055.. Val Loss: 0.051.. Test Loss: 0.054.. Time: 0.03m\n"
     ]
    },
    {
     "name": "stderr",
     "output_type": "stream",
     "text": [
      "100%|██████████| 238/238 [00:01<00:00, 133.41it/s]\n",
      "100%|██████████| 85/85 [00:00<00:00, 540.92it/s]\n",
      "100%|██████████| 17/17 [00:00<00:00, 492.01it/s]\n"
     ]
    },
    {
     "name": "stdout",
     "output_type": "stream",
     "text": [
      "Epoch:381/1000.. Train Loss: 0.055.. Val Loss: 0.051.. Test Loss: 0.056.. Time: 0.03m\n"
     ]
    },
    {
     "name": "stderr",
     "output_type": "stream",
     "text": [
      "100%|██████████| 238/238 [00:01<00:00, 135.29it/s]\n",
      "100%|██████████| 85/85 [00:00<00:00, 530.12it/s]\n",
      "100%|██████████| 17/17 [00:00<00:00, 487.43it/s]\n"
     ]
    },
    {
     "name": "stdout",
     "output_type": "stream",
     "text": [
      "Epoch:382/1000.. Train Loss: 0.055.. Val Loss: 0.051.. Test Loss: 0.054.. Time: 0.03m\n"
     ]
    },
    {
     "name": "stderr",
     "output_type": "stream",
     "text": [
      "100%|██████████| 238/238 [00:01<00:00, 135.78it/s]\n",
      "100%|██████████| 85/85 [00:00<00:00, 535.33it/s]\n",
      "100%|██████████| 17/17 [00:00<00:00, 477.37it/s]\n"
     ]
    },
    {
     "name": "stdout",
     "output_type": "stream",
     "text": [
      "Loss Decreasing.. 0.051 >> 0.051 \n",
      "saving model...\n",
      "Epoch:383/1000.. Train Loss: 0.055.. Val Loss: 0.051.. Test Loss: 0.054.. Time: 0.03m\n"
     ]
    },
    {
     "name": "stderr",
     "output_type": "stream",
     "text": [
      "100%|██████████| 238/238 [00:01<00:00, 134.16it/s]\n",
      "100%|██████████| 85/85 [00:00<00:00, 517.78it/s]\n",
      "100%|██████████| 17/17 [00:00<00:00, 519.66it/s]\n"
     ]
    },
    {
     "name": "stdout",
     "output_type": "stream",
     "text": [
      "Epoch:384/1000.. Train Loss: 0.055.. Val Loss: 0.051.. Test Loss: 0.056.. Time: 0.03m\n"
     ]
    },
    {
     "name": "stderr",
     "output_type": "stream",
     "text": [
      "100%|██████████| 238/238 [00:01<00:00, 135.09it/s]\n",
      "100%|██████████| 85/85 [00:00<00:00, 535.94it/s]\n",
      "100%|██████████| 17/17 [00:00<00:00, 516.19it/s]\n"
     ]
    },
    {
     "name": "stdout",
     "output_type": "stream",
     "text": [
      "Epoch:385/1000.. Train Loss: 0.055.. Val Loss: 0.051.. Test Loss: 0.055.. Time: 0.03m\n"
     ]
    },
    {
     "name": "stderr",
     "output_type": "stream",
     "text": [
      "100%|██████████| 238/238 [00:01<00:00, 134.86it/s]\n",
      "100%|██████████| 85/85 [00:00<00:00, 526.59it/s]\n",
      "100%|██████████| 17/17 [00:00<00:00, 501.03it/s]\n"
     ]
    },
    {
     "name": "stdout",
     "output_type": "stream",
     "text": [
      "Loss Decreasing.. 0.051 >> 0.051 \n",
      "saving model...\n",
      "Epoch:386/1000.. Train Loss: 0.055.. Val Loss: 0.051.. Test Loss: 0.054.. Time: 0.03m\n"
     ]
    },
    {
     "name": "stderr",
     "output_type": "stream",
     "text": [
      "100%|██████████| 238/238 [00:01<00:00, 134.19it/s]\n",
      "100%|██████████| 85/85 [00:00<00:00, 529.13it/s]\n",
      "100%|██████████| 17/17 [00:00<00:00, 485.22it/s]\n"
     ]
    },
    {
     "name": "stdout",
     "output_type": "stream",
     "text": [
      "Epoch:387/1000.. Train Loss: 0.055.. Val Loss: 0.051.. Test Loss: 0.054.. Time: 0.03m\n"
     ]
    },
    {
     "name": "stderr",
     "output_type": "stream",
     "text": [
      "100%|██████████| 238/238 [00:01<00:00, 135.10it/s]\n",
      "100%|██████████| 85/85 [00:00<00:00, 535.67it/s]\n",
      "100%|██████████| 17/17 [00:00<00:00, 474.68it/s]\n"
     ]
    },
    {
     "name": "stdout",
     "output_type": "stream",
     "text": [
      "Epoch:388/1000.. Train Loss: 0.055.. Val Loss: 0.051.. Test Loss: 0.054.. Time: 0.03m\n"
     ]
    },
    {
     "name": "stderr",
     "output_type": "stream",
     "text": [
      "100%|██████████| 238/238 [00:01<00:00, 129.49it/s]\n",
      "100%|██████████| 85/85 [00:00<00:00, 509.43it/s]\n",
      "100%|██████████| 17/17 [00:00<00:00, 479.18it/s]\n"
     ]
    },
    {
     "name": "stdout",
     "output_type": "stream",
     "text": [
      "Epoch:389/1000.. Train Loss: 0.054.. Val Loss: 0.051.. Test Loss: 0.055.. Time: 0.03m\n"
     ]
    },
    {
     "name": "stderr",
     "output_type": "stream",
     "text": [
      "100%|██████████| 238/238 [00:01<00:00, 131.28it/s]\n",
      "100%|██████████| 85/85 [00:00<00:00, 507.65it/s]\n",
      "100%|██████████| 17/17 [00:00<00:00, 485.02it/s]\n"
     ]
    },
    {
     "name": "stdout",
     "output_type": "stream",
     "text": [
      "Loss Decreasing.. 0.051 >> 0.051 \n",
      "saving model...\n",
      "Epoch:390/1000.. Train Loss: 0.054.. Val Loss: 0.051.. Test Loss: 0.051.. Time: 0.03m\n"
     ]
    },
    {
     "name": "stderr",
     "output_type": "stream",
     "text": [
      "100%|██████████| 238/238 [00:01<00:00, 132.06it/s]\n",
      "100%|██████████| 85/85 [00:00<00:00, 523.23it/s]\n",
      "100%|██████████| 17/17 [00:00<00:00, 501.77it/s]\n"
     ]
    },
    {
     "name": "stdout",
     "output_type": "stream",
     "text": [
      "Loss Decreasing.. 0.051 >> 0.050 \n",
      "saving model...\n",
      "Epoch:391/1000.. Train Loss: 0.055.. Val Loss: 0.050.. Test Loss: 0.054.. Time: 0.03m\n"
     ]
    },
    {
     "name": "stderr",
     "output_type": "stream",
     "text": [
      "100%|██████████| 238/238 [00:01<00:00, 131.18it/s]\n",
      "100%|██████████| 85/85 [00:00<00:00, 525.71it/s]\n",
      "100%|██████████| 17/17 [00:00<00:00, 508.92it/s]\n"
     ]
    },
    {
     "name": "stdout",
     "output_type": "stream",
     "text": [
      "Epoch:392/1000.. Train Loss: 0.055.. Val Loss: 0.051.. Test Loss: 0.052.. Time: 0.03m\n"
     ]
    },
    {
     "name": "stderr",
     "output_type": "stream",
     "text": [
      "100%|██████████| 238/238 [00:01<00:00, 132.93it/s]\n",
      "100%|██████████| 85/85 [00:00<00:00, 535.66it/s]\n",
      "100%|██████████| 17/17 [00:00<00:00, 493.39it/s]\n"
     ]
    },
    {
     "name": "stdout",
     "output_type": "stream",
     "text": [
      "Epoch:393/1000.. Train Loss: 0.055.. Val Loss: 0.051.. Test Loss: 0.055.. Time: 0.03m\n"
     ]
    },
    {
     "name": "stderr",
     "output_type": "stream",
     "text": [
      "100%|██████████| 238/238 [00:01<00:00, 134.73it/s]\n",
      "100%|██████████| 85/85 [00:00<00:00, 538.71it/s]\n",
      "100%|██████████| 17/17 [00:00<00:00, 501.17it/s]\n"
     ]
    },
    {
     "name": "stdout",
     "output_type": "stream",
     "text": [
      "Epoch:394/1000.. Train Loss: 0.055.. Val Loss: 0.051.. Test Loss: 0.052.. Time: 0.03m\n"
     ]
    },
    {
     "name": "stderr",
     "output_type": "stream",
     "text": [
      "100%|██████████| 238/238 [00:01<00:00, 133.72it/s]\n",
      "100%|██████████| 85/85 [00:00<00:00, 532.32it/s]\n",
      "100%|██████████| 17/17 [00:00<00:00, 493.92it/s]\n"
     ]
    },
    {
     "name": "stdout",
     "output_type": "stream",
     "text": [
      "Epoch:395/1000.. Train Loss: 0.054.. Val Loss: 0.051.. Test Loss: 0.055.. Time: 0.03m\n"
     ]
    },
    {
     "name": "stderr",
     "output_type": "stream",
     "text": [
      "100%|██████████| 238/238 [00:01<00:00, 133.79it/s]\n",
      "100%|██████████| 85/85 [00:00<00:00, 527.85it/s]\n",
      "100%|██████████| 17/17 [00:00<00:00, 488.13it/s]\n"
     ]
    },
    {
     "name": "stdout",
     "output_type": "stream",
     "text": [
      "Loss Decreasing.. 0.050 >> 0.050 \n",
      "saving model...\n",
      "Epoch:396/1000.. Train Loss: 0.054.. Val Loss: 0.050.. Test Loss: 0.056.. Time: 0.03m\n"
     ]
    },
    {
     "name": "stderr",
     "output_type": "stream",
     "text": [
      "100%|██████████| 238/238 [00:01<00:00, 131.77it/s]\n",
      "100%|██████████| 85/85 [00:00<00:00, 533.29it/s]\n",
      "100%|██████████| 17/17 [00:00<00:00, 488.25it/s]\n"
     ]
    },
    {
     "name": "stdout",
     "output_type": "stream",
     "text": [
      "Epoch:397/1000.. Train Loss: 0.055.. Val Loss: 0.051.. Test Loss: 0.055.. Time: 0.03m\n"
     ]
    },
    {
     "name": "stderr",
     "output_type": "stream",
     "text": [
      "100%|██████████| 238/238 [00:01<00:00, 132.18it/s]\n",
      "100%|██████████| 85/85 [00:00<00:00, 529.15it/s]\n",
      "100%|██████████| 17/17 [00:00<00:00, 476.92it/s]\n"
     ]
    },
    {
     "name": "stdout",
     "output_type": "stream",
     "text": [
      "Epoch:398/1000.. Train Loss: 0.054.. Val Loss: 0.050.. Test Loss: 0.055.. Time: 0.03m\n"
     ]
    },
    {
     "name": "stderr",
     "output_type": "stream",
     "text": [
      "100%|██████████| 238/238 [00:01<00:00, 134.53it/s]\n",
      "100%|██████████| 85/85 [00:00<00:00, 536.59it/s]\n",
      "100%|██████████| 17/17 [00:00<00:00, 488.48it/s]\n"
     ]
    },
    {
     "name": "stdout",
     "output_type": "stream",
     "text": [
      "Epoch:399/1000.. Train Loss: 0.054.. Val Loss: 0.051.. Test Loss: 0.054.. Time: 0.03m\n"
     ]
    },
    {
     "name": "stderr",
     "output_type": "stream",
     "text": [
      "100%|██████████| 238/238 [00:01<00:00, 133.97it/s]\n",
      "100%|██████████| 85/85 [00:00<00:00, 540.64it/s]\n",
      "100%|██████████| 17/17 [00:00<00:00, 477.98it/s]\n"
     ]
    },
    {
     "name": "stdout",
     "output_type": "stream",
     "text": [
      "Epoch:400/1000.. Train Loss: 0.054.. Val Loss: 0.051.. Test Loss: 0.054.. Time: 0.03m\n"
     ]
    },
    {
     "name": "stderr",
     "output_type": "stream",
     "text": [
      "100%|██████████| 238/238 [00:01<00:00, 134.67it/s]\n",
      "100%|██████████| 85/85 [00:00<00:00, 532.14it/s]\n",
      "100%|██████████| 17/17 [00:00<00:00, 489.22it/s]\n"
     ]
    },
    {
     "name": "stdout",
     "output_type": "stream",
     "text": [
      "Epoch:401/1000.. Train Loss: 0.054.. Val Loss: 0.051.. Test Loss: 0.055.. Time: 0.03m\n"
     ]
    },
    {
     "name": "stderr",
     "output_type": "stream",
     "text": [
      "100%|██████████| 238/238 [00:01<00:00, 135.52it/s]\n",
      "100%|██████████| 85/85 [00:00<00:00, 533.04it/s]\n",
      "100%|██████████| 17/17 [00:00<00:00, 486.34it/s]\n"
     ]
    },
    {
     "name": "stdout",
     "output_type": "stream",
     "text": [
      "Epoch:402/1000.. Train Loss: 0.054.. Val Loss: 0.051.. Test Loss: 0.057.. Time: 0.03m\n"
     ]
    },
    {
     "name": "stderr",
     "output_type": "stream",
     "text": [
      "100%|██████████| 238/238 [00:01<00:00, 134.69it/s]\n",
      "100%|██████████| 85/85 [00:00<00:00, 524.34it/s]\n",
      "100%|██████████| 17/17 [00:00<00:00, 478.68it/s]\n"
     ]
    },
    {
     "name": "stdout",
     "output_type": "stream",
     "text": [
      "Loss Decreasing.. 0.050 >> 0.050 \n",
      "saving model...\n",
      "Epoch:403/1000.. Train Loss: 0.054.. Val Loss: 0.050.. Test Loss: 0.055.. Time: 0.03m\n"
     ]
    },
    {
     "name": "stderr",
     "output_type": "stream",
     "text": [
      "100%|██████████| 238/238 [00:01<00:00, 132.17it/s]\n",
      "100%|██████████| 85/85 [00:00<00:00, 468.83it/s]\n",
      "100%|██████████| 17/17 [00:00<00:00, 511.03it/s]\n"
     ]
    },
    {
     "name": "stdout",
     "output_type": "stream",
     "text": [
      "Epoch:404/1000.. Train Loss: 0.054.. Val Loss: 0.051.. Test Loss: 0.055.. Time: 0.03m\n"
     ]
    },
    {
     "name": "stderr",
     "output_type": "stream",
     "text": [
      "100%|██████████| 238/238 [00:01<00:00, 130.87it/s]\n",
      "100%|██████████| 85/85 [00:00<00:00, 531.94it/s]\n",
      "100%|██████████| 17/17 [00:00<00:00, 487.91it/s]\n"
     ]
    },
    {
     "name": "stdout",
     "output_type": "stream",
     "text": [
      "Epoch:405/1000.. Train Loss: 0.054.. Val Loss: 0.051.. Test Loss: 0.058.. Time: 0.03m\n"
     ]
    },
    {
     "name": "stderr",
     "output_type": "stream",
     "text": [
      "100%|██████████| 238/238 [00:01<00:00, 136.38it/s]\n",
      "100%|██████████| 85/85 [00:00<00:00, 525.95it/s]\n",
      "100%|██████████| 17/17 [00:00<00:00, 492.17it/s]\n"
     ]
    },
    {
     "name": "stdout",
     "output_type": "stream",
     "text": [
      "Epoch:406/1000.. Train Loss: 0.054.. Val Loss: 0.051.. Test Loss: 0.054.. Time: 0.03m\n"
     ]
    },
    {
     "name": "stderr",
     "output_type": "stream",
     "text": [
      "100%|██████████| 238/238 [00:01<00:00, 133.42it/s]\n",
      "100%|██████████| 85/85 [00:00<00:00, 535.71it/s]\n",
      "100%|██████████| 17/17 [00:00<00:00, 502.74it/s]\n"
     ]
    },
    {
     "name": "stdout",
     "output_type": "stream",
     "text": [
      "Epoch:407/1000.. Train Loss: 0.054.. Val Loss: 0.050.. Test Loss: 0.056.. Time: 0.03m\n"
     ]
    },
    {
     "name": "stderr",
     "output_type": "stream",
     "text": [
      "100%|██████████| 238/238 [00:01<00:00, 133.13it/s]\n",
      "100%|██████████| 85/85 [00:00<00:00, 532.47it/s]\n",
      "100%|██████████| 17/17 [00:00<00:00, 496.59it/s]\n"
     ]
    },
    {
     "name": "stdout",
     "output_type": "stream",
     "text": [
      "Epoch:408/1000.. Train Loss: 0.055.. Val Loss: 0.050.. Test Loss: 0.054.. Time: 0.03m\n"
     ]
    },
    {
     "name": "stderr",
     "output_type": "stream",
     "text": [
      "100%|██████████| 238/238 [00:01<00:00, 133.20it/s]\n",
      "100%|██████████| 85/85 [00:00<00:00, 531.92it/s]\n",
      "100%|██████████| 17/17 [00:00<00:00, 515.21it/s]\n"
     ]
    },
    {
     "name": "stdout",
     "output_type": "stream",
     "text": [
      "Loss Decreasing.. 0.050 >> 0.050 \n",
      "saving model...\n",
      "Epoch:409/1000.. Train Loss: 0.054.. Val Loss: 0.050.. Test Loss: 0.054.. Time: 0.03m\n"
     ]
    },
    {
     "name": "stderr",
     "output_type": "stream",
     "text": [
      "100%|██████████| 238/238 [00:01<00:00, 136.02it/s]\n",
      "100%|██████████| 85/85 [00:00<00:00, 531.74it/s]\n",
      "100%|██████████| 17/17 [00:00<00:00, 495.11it/s]\n"
     ]
    },
    {
     "name": "stdout",
     "output_type": "stream",
     "text": [
      "Epoch:410/1000.. Train Loss: 0.055.. Val Loss: 0.050.. Test Loss: 0.054.. Time: 0.03m\n"
     ]
    },
    {
     "name": "stderr",
     "output_type": "stream",
     "text": [
      "100%|██████████| 238/238 [00:01<00:00, 135.12it/s]\n",
      "100%|██████████| 85/85 [00:00<00:00, 531.56it/s]\n",
      "100%|██████████| 17/17 [00:00<00:00, 513.95it/s]\n"
     ]
    },
    {
     "name": "stdout",
     "output_type": "stream",
     "text": [
      "Epoch:411/1000.. Train Loss: 0.054.. Val Loss: 0.051.. Test Loss: 0.055.. Time: 0.03m\n"
     ]
    },
    {
     "name": "stderr",
     "output_type": "stream",
     "text": [
      "100%|██████████| 238/238 [00:01<00:00, 136.62it/s]\n",
      "100%|██████████| 85/85 [00:00<00:00, 531.25it/s]\n",
      "100%|██████████| 17/17 [00:00<00:00, 511.45it/s]\n"
     ]
    },
    {
     "name": "stdout",
     "output_type": "stream",
     "text": [
      "Epoch:412/1000.. Train Loss: 0.054.. Val Loss: 0.051.. Test Loss: 0.054.. Time: 0.03m\n"
     ]
    },
    {
     "name": "stderr",
     "output_type": "stream",
     "text": [
      "100%|██████████| 238/238 [00:01<00:00, 136.43it/s]\n",
      "100%|██████████| 85/85 [00:00<00:00, 536.26it/s]\n",
      "100%|██████████| 17/17 [00:00<00:00, 521.52it/s]\n"
     ]
    },
    {
     "name": "stdout",
     "output_type": "stream",
     "text": [
      "Epoch:413/1000.. Train Loss: 0.054.. Val Loss: 0.050.. Test Loss: 0.055.. Time: 0.03m\n"
     ]
    },
    {
     "name": "stderr",
     "output_type": "stream",
     "text": [
      "100%|██████████| 238/238 [00:01<00:00, 133.05it/s]\n",
      "100%|██████████| 85/85 [00:00<00:00, 478.65it/s]\n",
      "100%|██████████| 17/17 [00:00<00:00, 495.63it/s]\n"
     ]
    },
    {
     "name": "stdout",
     "output_type": "stream",
     "text": [
      "Epoch:414/1000.. Train Loss: 0.054.. Val Loss: 0.050.. Test Loss: 0.055.. Time: 0.03m\n"
     ]
    },
    {
     "name": "stderr",
     "output_type": "stream",
     "text": [
      "100%|██████████| 238/238 [00:01<00:00, 131.51it/s]\n",
      "100%|██████████| 85/85 [00:00<00:00, 474.23it/s]\n",
      "100%|██████████| 17/17 [00:00<00:00, 516.49it/s]\n"
     ]
    },
    {
     "name": "stdout",
     "output_type": "stream",
     "text": [
      "Epoch:415/1000.. Train Loss: 0.054.. Val Loss: 0.051.. Test Loss: 0.054.. Time: 0.03m\n"
     ]
    },
    {
     "name": "stderr",
     "output_type": "stream",
     "text": [
      "100%|██████████| 238/238 [00:01<00:00, 130.77it/s]\n",
      "100%|██████████| 85/85 [00:00<00:00, 516.83it/s]\n",
      "100%|██████████| 17/17 [00:00<00:00, 457.74it/s]\n"
     ]
    },
    {
     "name": "stdout",
     "output_type": "stream",
     "text": [
      "Loss Decreasing.. 0.050 >> 0.050 \n",
      "saving model...\n",
      "Epoch:416/1000.. Train Loss: 0.054.. Val Loss: 0.050.. Test Loss: 0.053.. Time: 0.03m\n"
     ]
    },
    {
     "name": "stderr",
     "output_type": "stream",
     "text": [
      "100%|██████████| 238/238 [00:01<00:00, 132.50it/s]\n",
      "100%|██████████| 85/85 [00:00<00:00, 532.99it/s]\n",
      "100%|██████████| 17/17 [00:00<00:00, 470.56it/s]\n"
     ]
    },
    {
     "name": "stdout",
     "output_type": "stream",
     "text": [
      "Epoch:417/1000.. Train Loss: 0.054.. Val Loss: 0.050.. Test Loss: 0.053.. Time: 0.03m\n"
     ]
    },
    {
     "name": "stderr",
     "output_type": "stream",
     "text": [
      "100%|██████████| 238/238 [00:01<00:00, 132.61it/s]\n",
      "100%|██████████| 85/85 [00:00<00:00, 524.38it/s]\n",
      "100%|██████████| 17/17 [00:00<00:00, 480.87it/s]\n"
     ]
    },
    {
     "name": "stdout",
     "output_type": "stream",
     "text": [
      "Epoch:418/1000.. Train Loss: 0.054.. Val Loss: 0.051.. Test Loss: 0.054.. Time: 0.03m\n"
     ]
    },
    {
     "name": "stderr",
     "output_type": "stream",
     "text": [
      "100%|██████████| 238/238 [00:01<00:00, 132.69it/s]\n",
      "100%|██████████| 85/85 [00:00<00:00, 526.08it/s]\n",
      "100%|██████████| 17/17 [00:00<00:00, 448.99it/s]\n"
     ]
    },
    {
     "name": "stdout",
     "output_type": "stream",
     "text": [
      "Epoch:419/1000.. Train Loss: 0.054.. Val Loss: 0.051.. Test Loss: 0.054.. Time: 0.03m\n"
     ]
    },
    {
     "name": "stderr",
     "output_type": "stream",
     "text": [
      "100%|██████████| 238/238 [00:01<00:00, 134.19it/s]\n",
      "100%|██████████| 85/85 [00:00<00:00, 522.44it/s]\n",
      "100%|██████████| 17/17 [00:00<00:00, 493.62it/s]\n"
     ]
    },
    {
     "name": "stdout",
     "output_type": "stream",
     "text": [
      "Loss Decreasing.. 0.050 >> 0.050 \n",
      "saving model...\n",
      "Epoch:420/1000.. Train Loss: 0.054.. Val Loss: 0.050.. Test Loss: 0.053.. Time: 0.03m\n"
     ]
    },
    {
     "name": "stderr",
     "output_type": "stream",
     "text": [
      "100%|██████████| 238/238 [00:01<00:00, 134.51it/s]\n",
      "100%|██████████| 85/85 [00:00<00:00, 525.05it/s]\n",
      "100%|██████████| 17/17 [00:00<00:00, 473.64it/s]\n"
     ]
    },
    {
     "name": "stdout",
     "output_type": "stream",
     "text": [
      "Epoch:421/1000.. Train Loss: 0.054.. Val Loss: 0.051.. Test Loss: 0.058.. Time: 0.03m\n"
     ]
    },
    {
     "name": "stderr",
     "output_type": "stream",
     "text": [
      "100%|██████████| 238/238 [00:01<00:00, 131.79it/s]\n",
      "100%|██████████| 85/85 [00:00<00:00, 527.23it/s]\n",
      "100%|██████████| 17/17 [00:00<00:00, 481.41it/s]\n"
     ]
    },
    {
     "name": "stdout",
     "output_type": "stream",
     "text": [
      "Epoch:422/1000.. Train Loss: 0.054.. Val Loss: 0.051.. Test Loss: 0.055.. Time: 0.03m\n"
     ]
    },
    {
     "name": "stderr",
     "output_type": "stream",
     "text": [
      "100%|██████████| 238/238 [00:01<00:00, 132.96it/s]\n",
      "100%|██████████| 85/85 [00:00<00:00, 531.67it/s]\n",
      "100%|██████████| 17/17 [00:00<00:00, 485.07it/s]\n"
     ]
    },
    {
     "name": "stdout",
     "output_type": "stream",
     "text": [
      "Epoch:423/1000.. Train Loss: 0.054.. Val Loss: 0.050.. Test Loss: 0.053.. Time: 0.03m\n"
     ]
    },
    {
     "name": "stderr",
     "output_type": "stream",
     "text": [
      "100%|██████████| 238/238 [00:01<00:00, 128.81it/s]\n",
      "100%|██████████| 85/85 [00:00<00:00, 520.44it/s]\n",
      "100%|██████████| 17/17 [00:00<00:00, 499.83it/s]\n"
     ]
    },
    {
     "name": "stdout",
     "output_type": "stream",
     "text": [
      "Loss Decreasing.. 0.050 >> 0.050 \n",
      "saving model...\n",
      "Epoch:424/1000.. Train Loss: 0.054.. Val Loss: 0.050.. Test Loss: 0.056.. Time: 0.03m\n"
     ]
    },
    {
     "name": "stderr",
     "output_type": "stream",
     "text": [
      "100%|██████████| 238/238 [00:01<00:00, 132.39it/s]\n",
      "100%|██████████| 85/85 [00:00<00:00, 517.63it/s]\n",
      "100%|██████████| 17/17 [00:00<00:00, 504.16it/s]\n"
     ]
    },
    {
     "name": "stdout",
     "output_type": "stream",
     "text": [
      "Epoch:425/1000.. Train Loss: 0.054.. Val Loss: 0.050.. Test Loss: 0.055.. Time: 0.03m\n"
     ]
    },
    {
     "name": "stderr",
     "output_type": "stream",
     "text": [
      "100%|██████████| 238/238 [00:01<00:00, 130.44it/s]\n",
      "100%|██████████| 85/85 [00:00<00:00, 526.52it/s]\n",
      "100%|██████████| 17/17 [00:00<00:00, 484.94it/s]\n"
     ]
    },
    {
     "name": "stdout",
     "output_type": "stream",
     "text": [
      "Epoch:426/1000.. Train Loss: 0.054.. Val Loss: 0.050.. Test Loss: 0.055.. Time: 0.03m\n"
     ]
    },
    {
     "name": "stderr",
     "output_type": "stream",
     "text": [
      "100%|██████████| 238/238 [00:01<00:00, 130.77it/s]\n",
      "100%|██████████| 85/85 [00:00<00:00, 526.52it/s]\n",
      "100%|██████████| 17/17 [00:00<00:00, 496.34it/s]\n"
     ]
    },
    {
     "name": "stdout",
     "output_type": "stream",
     "text": [
      "Epoch:427/1000.. Train Loss: 0.054.. Val Loss: 0.051.. Test Loss: 0.055.. Time: 0.03m\n"
     ]
    },
    {
     "name": "stderr",
     "output_type": "stream",
     "text": [
      "100%|██████████| 238/238 [00:01<00:00, 134.30it/s]\n",
      "100%|██████████| 85/85 [00:00<00:00, 539.49it/s]\n",
      "100%|██████████| 17/17 [00:00<00:00, 500.66it/s]\n"
     ]
    },
    {
     "name": "stdout",
     "output_type": "stream",
     "text": [
      "Epoch:428/1000.. Train Loss: 0.054.. Val Loss: 0.050.. Test Loss: 0.056.. Time: 0.03m\n"
     ]
    },
    {
     "name": "stderr",
     "output_type": "stream",
     "text": [
      "100%|██████████| 238/238 [00:01<00:00, 132.22it/s]\n",
      "100%|██████████| 85/85 [00:00<00:00, 518.53it/s]\n",
      "100%|██████████| 17/17 [00:00<00:00, 485.12it/s]\n"
     ]
    },
    {
     "name": "stdout",
     "output_type": "stream",
     "text": [
      "Epoch:429/1000.. Train Loss: 0.054.. Val Loss: 0.050.. Test Loss: 0.057.. Time: 0.03m\n"
     ]
    },
    {
     "name": "stderr",
     "output_type": "stream",
     "text": [
      "100%|██████████| 238/238 [00:01<00:00, 132.26it/s]\n",
      "100%|██████████| 85/85 [00:00<00:00, 529.43it/s]\n",
      "100%|██████████| 17/17 [00:00<00:00, 512.49it/s]\n"
     ]
    },
    {
     "name": "stdout",
     "output_type": "stream",
     "text": [
      "Epoch:430/1000.. Train Loss: 0.054.. Val Loss: 0.050.. Test Loss: 0.057.. Time: 0.03m\n"
     ]
    },
    {
     "name": "stderr",
     "output_type": "stream",
     "text": [
      "100%|██████████| 238/238 [00:01<00:00, 135.28it/s]\n",
      "100%|██████████| 85/85 [00:00<00:00, 527.83it/s]\n",
      "100%|██████████| 17/17 [00:00<00:00, 495.30it/s]\n"
     ]
    },
    {
     "name": "stdout",
     "output_type": "stream",
     "text": [
      "Epoch:431/1000.. Train Loss: 0.054.. Val Loss: 0.050.. Test Loss: 0.055.. Time: 0.03m\n"
     ]
    },
    {
     "name": "stderr",
     "output_type": "stream",
     "text": [
      "100%|██████████| 238/238 [00:01<00:00, 139.62it/s]\n",
      "100%|██████████| 85/85 [00:00<00:00, 530.82it/s]\n",
      "100%|██████████| 17/17 [00:00<00:00, 493.11it/s]\n"
     ]
    },
    {
     "name": "stdout",
     "output_type": "stream",
     "text": [
      "Epoch:432/1000.. Train Loss: 0.054.. Val Loss: 0.050.. Test Loss: 0.056.. Time: 0.03m\n"
     ]
    },
    {
     "name": "stderr",
     "output_type": "stream",
     "text": [
      "100%|██████████| 238/238 [00:01<00:00, 135.08it/s]\n",
      "100%|██████████| 85/85 [00:00<00:00, 536.52it/s]\n",
      "100%|██████████| 17/17 [00:00<00:00, 482.82it/s]\n"
     ]
    },
    {
     "name": "stdout",
     "output_type": "stream",
     "text": [
      "Epoch:433/1000.. Train Loss: 0.054.. Val Loss: 0.050.. Test Loss: 0.057.. Time: 0.03m\n"
     ]
    },
    {
     "name": "stderr",
     "output_type": "stream",
     "text": [
      "100%|██████████| 238/238 [00:01<00:00, 134.30it/s]\n",
      "100%|██████████| 85/85 [00:00<00:00, 541.25it/s]\n",
      "100%|██████████| 17/17 [00:00<00:00, 494.04it/s]\n"
     ]
    },
    {
     "name": "stdout",
     "output_type": "stream",
     "text": [
      "Epoch:434/1000.. Train Loss: 0.054.. Val Loss: 0.050.. Test Loss: 0.057.. Time: 0.03m\n"
     ]
    },
    {
     "name": "stderr",
     "output_type": "stream",
     "text": [
      "100%|██████████| 238/238 [00:01<00:00, 134.60it/s]\n",
      "100%|██████████| 85/85 [00:00<00:00, 529.83it/s]\n",
      "100%|██████████| 17/17 [00:00<00:00, 492.09it/s]\n"
     ]
    },
    {
     "name": "stdout",
     "output_type": "stream",
     "text": [
      "Epoch:435/1000.. Train Loss: 0.054.. Val Loss: 0.050.. Test Loss: 0.055.. Time: 0.03m\n"
     ]
    },
    {
     "name": "stderr",
     "output_type": "stream",
     "text": [
      "100%|██████████| 238/238 [00:01<00:00, 136.81it/s]\n",
      "100%|██████████| 85/85 [00:00<00:00, 532.27it/s]\n",
      "100%|██████████| 17/17 [00:00<00:00, 481.66it/s]\n"
     ]
    },
    {
     "name": "stdout",
     "output_type": "stream",
     "text": [
      "Epoch:436/1000.. Train Loss: 0.054.. Val Loss: 0.050.. Test Loss: 0.057.. Time: 0.03m\n"
     ]
    },
    {
     "name": "stderr",
     "output_type": "stream",
     "text": [
      "100%|██████████| 238/238 [00:01<00:00, 134.21it/s]\n",
      "100%|██████████| 85/85 [00:00<00:00, 528.36it/s]\n",
      "100%|██████████| 17/17 [00:00<00:00, 521.74it/s]\n"
     ]
    },
    {
     "name": "stdout",
     "output_type": "stream",
     "text": [
      "Epoch:437/1000.. Train Loss: 0.054.. Val Loss: 0.050.. Test Loss: 0.054.. Time: 0.03m\n"
     ]
    },
    {
     "name": "stderr",
     "output_type": "stream",
     "text": [
      "100%|██████████| 238/238 [00:01<00:00, 134.31it/s]\n",
      "100%|██████████| 85/85 [00:00<00:00, 514.11it/s]\n",
      "100%|██████████| 17/17 [00:00<00:00, 507.45it/s]\n"
     ]
    },
    {
     "name": "stdout",
     "output_type": "stream",
     "text": [
      "Epoch:438/1000.. Train Loss: 0.054.. Val Loss: 0.050.. Test Loss: 0.055.. Time: 0.03m\n"
     ]
    },
    {
     "name": "stderr",
     "output_type": "stream",
     "text": [
      "100%|██████████| 238/238 [00:01<00:00, 133.64it/s]\n",
      "100%|██████████| 85/85 [00:00<00:00, 540.65it/s]\n",
      "100%|██████████| 17/17 [00:00<00:00, 484.02it/s]\n"
     ]
    },
    {
     "name": "stdout",
     "output_type": "stream",
     "text": [
      "Epoch:439/1000.. Train Loss: 0.054.. Val Loss: 0.050.. Test Loss: 0.055.. Time: 0.03m\n"
     ]
    },
    {
     "name": "stderr",
     "output_type": "stream",
     "text": [
      "100%|██████████| 238/238 [00:01<00:00, 131.26it/s]\n",
      "100%|██████████| 85/85 [00:00<00:00, 530.62it/s]\n",
      "100%|██████████| 17/17 [00:00<00:00, 505.14it/s]\n"
     ]
    },
    {
     "name": "stdout",
     "output_type": "stream",
     "text": [
      "Epoch:440/1000.. Train Loss: 0.054.. Val Loss: 0.050.. Test Loss: 0.054.. Time: 0.03m\n"
     ]
    },
    {
     "name": "stderr",
     "output_type": "stream",
     "text": [
      "100%|██████████| 238/238 [00:01<00:00, 132.81it/s]\n",
      "100%|██████████| 85/85 [00:00<00:00, 539.48it/s]\n",
      "100%|██████████| 17/17 [00:00<00:00, 531.95it/s]\n"
     ]
    },
    {
     "name": "stdout",
     "output_type": "stream",
     "text": [
      "Epoch:441/1000.. Train Loss: 0.054.. Val Loss: 0.050.. Test Loss: 0.058.. Time: 0.03m\n"
     ]
    },
    {
     "name": "stderr",
     "output_type": "stream",
     "text": [
      "100%|██████████| 238/238 [00:01<00:00, 133.36it/s]\n",
      "100%|██████████| 85/85 [00:00<00:00, 538.13it/s]\n",
      "100%|██████████| 17/17 [00:00<00:00, 506.16it/s]\n"
     ]
    },
    {
     "name": "stdout",
     "output_type": "stream",
     "text": [
      "Epoch:442/1000.. Train Loss: 0.054.. Val Loss: 0.050.. Test Loss: 0.055.. Time: 0.03m\n"
     ]
    },
    {
     "name": "stderr",
     "output_type": "stream",
     "text": [
      "100%|██████████| 238/238 [00:01<00:00, 134.94it/s]\n",
      "100%|██████████| 85/85 [00:00<00:00, 535.49it/s]\n",
      "100%|██████████| 17/17 [00:00<00:00, 515.76it/s]\n"
     ]
    },
    {
     "name": "stdout",
     "output_type": "stream",
     "text": [
      "Epoch:443/1000.. Train Loss: 0.055.. Val Loss: 0.050.. Test Loss: 0.058.. Time: 0.03m\n"
     ]
    },
    {
     "name": "stderr",
     "output_type": "stream",
     "text": [
      "100%|██████████| 238/238 [00:01<00:00, 133.90it/s]\n",
      "100%|██████████| 85/85 [00:00<00:00, 536.75it/s]\n",
      "100%|██████████| 17/17 [00:00<00:00, 515.38it/s]\n"
     ]
    },
    {
     "name": "stdout",
     "output_type": "stream",
     "text": [
      "Epoch:444/1000.. Train Loss: 0.054.. Val Loss: 0.050.. Test Loss: 0.059.. Time: 0.03m\n"
     ]
    },
    {
     "name": "stderr",
     "output_type": "stream",
     "text": [
      "100%|██████████| 238/238 [00:01<00:00, 136.89it/s]\n",
      "100%|██████████| 85/85 [00:00<00:00, 537.60it/s]\n",
      "100%|██████████| 17/17 [00:00<00:00, 513.66it/s]"
     ]
    },
    {
     "name": "stdout",
     "output_type": "stream",
     "text": [
      "[***] end training ...\n",
      "Total time: 14.95 m\n"
     ]
    },
    {
     "name": "stderr",
     "output_type": "stream",
     "text": [
      "\n"
     ]
    }
   ],
   "source": [
    "training.fit(model, train_loader, validation_loader, test_loader)\n",
    "best_model = training.get_best_model()"
   ]
  },
  {
   "cell_type": "code",
   "execution_count": 217,
   "metadata": {
    "tags": []
   },
   "outputs": [
    {
     "data": {
      "text/plain": [
       "<matplotlib.legend.Legend at 0x2b6ecbb07370>"
      ]
     },
     "execution_count": 217,
     "metadata": {},
     "output_type": "execute_result"
    },
    {
     "data": {
      "image/png": "[encoded data removed]",
      "text/plain": [
       "<Figure size 640x480 with 1 Axes>"
      ]
     },
     "metadata": {},
     "output_type": "display_data"
    }
   ],
   "source": [
    "fig, ax = plt.subplots()\n",
    "\n",
    "ax.plot(training.results['Train'], label='Train')\n",
    "ax.plot(training.results['Validation'], label='Validation')\n",
    "ax.plot(training.results['Test'], label='Test')\n",
    "ax.legend()"
   ]
  },
  {
   "cell_type": "markdown",
   "metadata": {},
   "source": [
    "## Evaluation and plotting classes"
   ]
  },
  {
   "cell_type": "code",
   "execution_count": 218,
   "metadata": {
    "tags": []
   },
   "outputs": [],
   "source": [
    "class OSAEvaluator:\n",
    "    \n",
    "    def evaluate_OSA(self, dataset, model):\n",
    "        \n",
    "        torch.cuda.empty_cache()\n",
    "        Y_real = []\n",
    "        Y_pred = []\n",
    "        for i, data in enumerate(tqdm(dataset)):\n",
    "            src, tgt, y_real = data\n",
    "            src, tgt, y_real = src.to(device), tgt.to(device), y_real.to(device)\n",
    "            y_pred = model(src, tgt)\n",
    "            Y_real.append(y_real[-1,:])\n",
    "            Y_pred.append(y_pred[-1,:])\n",
    "        \n",
    "        Y_real = torch.vstack(Y_real).cpu()\n",
    "        Y_pred = torch.vstack(Y_pred).cpu().detach()\n",
    "        print('********** OSA Evaluation summary **********')\n",
    "        print(f'OSA MSE: {mean_squared_error(Y_real, Y_pred)}')\n",
    "        print(f'OSA RMSE: {np.sqrt(mean_squared_error(Y_real, Y_pred))}')\n",
    "        print(f'OSA R2 score: {r2_score(Y_real, Y_pred)}')\n",
    "        print('********************************************')\n",
    "        return Y_real, Y_pred\n",
    "            \n",
    "class FSEvaluator:\n",
    "    \n",
    "    def evaluate_FS(self, dataset, model):\n",
    "        \n",
    "        torch.cuda.empty_cache()\n",
    "        Y_real = []\n",
    "        Y_pred = []\n",
    "        tgt_sim = None\n",
    "        for i, data in enumerate(tqdm(dataset)):\n",
    "            src, tgt, y_real = data\n",
    "            src, tgt, y_real = src.to(device), tgt.to(device), y_real.to(device)\n",
    "            if tgt_sim is None:\n",
    "                tgt_sim = tgt\n",
    "            src = src.clone()\n",
    "            src[:,-1:] = tgt_sim.clone()\n",
    "            y_pred = model(src, tgt_sim)\n",
    "            tgt_sim[:-1,:] = tgt_sim[1:,:].clone()\n",
    "            tgt_sim[-1,:] = y_pred[-1,:].clone()\n",
    "            Y_real.append(y_real[-1,:])\n",
    "            Y_pred.append(y_pred[-1,:])\n",
    "        \n",
    "        Y_real = torch.vstack(Y_real).cpu()\n",
    "        Y_pred = torch.vstack(Y_pred).cpu().detach()\n",
    "        print('*********** FS Evaluation summary **********')\n",
    "        print(f'FS MSE: {mean_squared_error(Y_real, Y_pred)}')\n",
    "        print(f'FS RMSE: {np.sqrt(mean_squared_error(Y_real, Y_pred))}')\n",
    "        print(f'FS R2 score: {r2_score(Y_real, Y_pred)}')\n",
    "        print('********************************************')\n",
    "        return Y_real, Y_pred\n",
    "    \n",
    "class Evaluator(OSAEvaluator, FSEvaluator):\n",
    "    \n",
    "    pass\n",
    "        "
   ]
  },
  {
   "cell_type": "code",
   "execution_count": 219,
   "metadata": {
    "tags": []
   },
   "outputs": [
    {
     "name": "stderr",
     "output_type": "stream",
     "text": [
      "100%|██████████| 699/699 [00:01<00:00, 593.98it/s]\n"
     ]
    },
    {
     "name": "stdout",
     "output_type": "stream",
     "text": [
      "********** OSA Evaluation summary **********\n",
      "OSA MSE: 0.053500447422266006\n",
      "OSA RMSE: 0.23130163550376892\n",
      "OSA R2 score: 0.6929597163574162\n",
      "********************************************\n"
     ]
    },
    {
     "name": "stderr",
     "output_type": "stream",
     "text": [
      "100%|██████████| 699/699 [00:01<00:00, 484.45it/s]"
     ]
    },
    {
     "name": "stdout",
     "output_type": "stream",
     "text": [
      "*********** FS Evaluation summary **********\n",
      "FS MSE: 0.37065064907073975\n",
      "FS RMSE: 0.6088108420372009\n",
      "FS R2 score: -1.1271725158867736\n",
      "********************************************\n"
     ]
    },
    {
     "name": "stderr",
     "output_type": "stream",
     "text": [
      "\n"
     ]
    }
   ],
   "source": [
    "evaluator = Evaluator()\n",
    "Y_real, Y_pred_OSA = evaluator.evaluate_OSA(test_dataset, model)\n",
    "Y_real, Y_pred_FS = evaluator.evaluate_FS(test_dataset, model)"
   ]
  },
  {
   "cell_type": "code",
   "execution_count": 220,
   "metadata": {
    "tags": []
   },
   "outputs": [
    {
     "data": {
      "text/plain": [
       "<matplotlib.legend.Legend at 0x2b6ecb746f10>"
      ]
     },
     "execution_count": 220,
     "metadata": {},
     "output_type": "execute_result"
    },
    {
     "data": {
      "image/png": "[encoded data removed]",
      "text/plain": [
       "<Figure size 640x480 with 1 Axes>"
      ]
     },
     "metadata": {},
     "output_type": "display_data"
    }
   ],
   "source": [
    "fig, ax = plt.subplots()\n",
    "ax.plot(Y_real, label='Real')\n",
    "ax.plot(Y_pred_OSA, label='OSA')\n",
    "ax.plot(Y_pred_FS, label='FS')\n",
    "ax.legend()"
   ]
  },
  {
   "cell_type": "code",
   "execution_count": 221,
   "metadata": {},
   "outputs": [
    {
     "name": "stderr",
     "output_type": "stream",
     "text": [
      "100%|██████████| 699/699 [00:01<00:00, 611.50it/s]\n"
     ]
    },
    {
     "name": "stdout",
     "output_type": "stream",
     "text": [
      "********** OSA Evaluation summary **********\n",
      "OSA MSE: 0.05459566414356232\n",
      "OSA RMSE: 0.23365715146064758\n",
      "OSA R2 score: 0.6866742533631738\n",
      "********************************************\n"
     ]
    },
    {
     "name": "stderr",
     "output_type": "stream",
     "text": [
      "100%|██████████| 699/699 [00:01<00:00, 573.70it/s]"
     ]
    },
    {
     "name": "stdout",
     "output_type": "stream",
     "text": [
      "*********** FS Evaluation summary **********\n",
      "FS MSE: 0.40085843205451965\n",
      "FS RMSE: 0.6331338286399841\n",
      "FS R2 score: -1.3005354999973617\n",
      "********************************************\n"
     ]
    },
    {
     "name": "stderr",
     "output_type": "stream",
     "text": [
      "\n"
     ]
    }
   ],
   "source": [
    "evaluator = Evaluator()\n",
    "Y_real, Y_pred_OSA = evaluator.evaluate_OSA(test_dataset, best_model)\n",
    "Y_real, Y_pred_FS = evaluator.evaluate_FS(test_dataset, best_model)"
   ]
  },
  {
   "cell_type": "code",
   "execution_count": 222,
   "metadata": {
    "tags": []
   },
   "outputs": [
    {
     "data": {
      "text/plain": [
       "<matplotlib.legend.Legend at 0x2b6ecb8d4e50>"
      ]
     },
     "execution_count": 222,
     "metadata": {},
     "output_type": "execute_result"
    },
    {
     "data": {
      "image/png": "[encoded data removed]",
      "text/plain": [
       "<Figure size 640x480 with 1 Axes>"
      ]
     },
     "metadata": {},
     "output_type": "display_data"
    }
   ],
   "source": [
    "fig, ax = plt.subplots()\n",
    "ax.plot(Y_real, label='Real')\n",
    "ax.plot(Y_pred_OSA, label='OSA')\n",
    "ax.plot(Y_pred_FS, label='FS')\n",
    "ax.legend()"
   ]
  }
 ],
 "metadata": {
  "kernelspec": {
   "display_name": "raul_dl",
   "language": "python",
   "name": "raul_dl"
  },
  "language_info": {
   "codemirror_mode": {
    "name": "ipython",
    "version": 3
   },
   "file_extension": ".py",
   "mimetype": "text/x-python",
   "name": "python",
   "nbconvert_exporter": "python",
   "pygments_lexer": "ipython3",
   "version": "3.9.13"
  }
 },
 "nbformat": 4,
 "nbformat_minor": 4
}
