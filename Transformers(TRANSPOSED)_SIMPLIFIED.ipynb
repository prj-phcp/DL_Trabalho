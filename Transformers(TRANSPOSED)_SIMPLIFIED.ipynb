{
 "cells": [
  {
   "cell_type": "code",
   "execution_count": 429,
   "metadata": {
    "tags": []
   },
   "outputs": [
    {
     "name": "stdout",
     "output_type": "stream",
     "text": [
      "Tue Jun 20 06:32:52 2023       \n",
      "+-----------------------------------------------------------------------------+\n",
      "| NVIDIA-SMI 515.43.04    Driver Version: 515.43.04    CUDA Version: 11.7     |\n",
      "|-------------------------------+----------------------+----------------------+\n",
      "| GPU  Name        Persistence-M| Bus-Id        Disp.A | Volatile Uncorr. ECC |\n",
      "| Fan  Temp  Perf  Pwr:Usage/Cap|         Memory-Usage | GPU-Util  Compute M. |\n",
      "|                               |                      |               MIG M. |\n",
      "|===============================+======================+======================|\n",
      "|   0  Tesla V100-SXM2...  Off  | 00000000:15:00.0 Off |                    0 |\n",
      "| N/A   26C    P0    51W / 300W |   3517MiB / 32768MiB |      0%      Default |\n",
      "|                               |                      |                  N/A |\n",
      "+-------------------------------+----------------------+----------------------+\n",
      "                                                                               \n",
      "+-----------------------------------------------------------------------------+\n",
      "| Processes:                                                                  |\n",
      "|  GPU   GI   CI        PID   Type   Process name                  GPU Memory |\n",
      "|        ID   ID                                                   Usage      |\n",
      "|=============================================================================|\n",
      "|    0   N/A  N/A      9790      C   .../venvs/dl_raul/bin/python     1591MiB |\n",
      "|    0   N/A  N/A      9927      C   .../venvs/dl_raul/bin/python      935MiB |\n",
      "|    0   N/A  N/A     13628      C   .../venvs/dl_raul/bin/python      989MiB |\n",
      "+-----------------------------------------------------------------------------+\n"
     ]
    }
   ],
   "source": [
    "import math\n",
    "import json\n",
    "import time\n",
    "import numpy as np\n",
    "import pandas as pd\n",
    "import matplotlib.pyplot as plt\n",
    "from tqdm import tqdm\n",
    "\n",
    "import torch\n",
    "import torch.nn as nn\n",
    "import torch.optim as optim\n",
    "from torch.utils.data import Dataset\n",
    "from torch.utils.data.sampler import SubsetRandomSampler\n",
    "\n",
    "from sklearn.preprocessing import MinMaxScaler, RobustScaler\n",
    "from sklearn.model_selection import train_test_split\n",
    "from sklearn.metrics import mean_squared_error, r2_score\n",
    "\n",
    "!nvidia-smi"
   ]
  },
  {
   "cell_type": "code",
   "execution_count": 430,
   "metadata": {
    "tags": []
   },
   "outputs": [
    {
     "name": "stdout",
     "output_type": "stream",
     "text": [
      "cuda:0\n"
     ]
    }
   ],
   "source": [
    "# Dispositivo onde tensores serão criados, armazenados e processados\n",
    "device = torch.device(\"cuda:0\" if torch.cuda.is_available() else \"cpu\")\n",
    "print(device)\n",
    "# Randon Seed fixa para resultados reprodutíveis\n",
    "seed = 42\n",
    "torch.manual_seed(seed)\n",
    "torch.cuda.manual_seed(seed)\n",
    "np.random.seed(seed)"
   ]
  },
  {
   "cell_type": "markdown",
   "metadata": {},
   "source": [
    "## Data Loader"
   ]
  },
  {
   "cell_type": "code",
   "execution_count": 431,
   "metadata": {
    "tags": []
   },
   "outputs": [],
   "source": [
    "class WellLoader(Dataset):\n",
    "    \n",
    "    def __init__(self, \n",
    "                 path, \n",
    "                 wells, \n",
    "                 var_in, \n",
    "                 var_out,\n",
    "                 normalizing_percentile=90.0,\n",
    "                 normalizing_split=0.2,\n",
    "                 normalizer=RobustScaler,\n",
    "                 max_sequence=16, \n",
    "                 step=1):\n",
    "        \n",
    "        self.path = path\n",
    "        with open(self.path + '/metadata.json', 'r') as metafile:\n",
    "            self.metadata = json.loads(metafile.read())\n",
    "        self.wells = wells\n",
    "        self.var_in = var_in\n",
    "        self.var_out = var_out\n",
    "        self.normalizing_percentile=normalizing_percentile\n",
    "        self.normalizing_split = normalizing_split\n",
    "        self.normalizer = normalizer\n",
    "        self.max_sequence = max_sequence\n",
    "        self.step = step\n",
    "        self.batches_X = None\n",
    "        self.batches_Y = None\n",
    "        self.outputs = None\n",
    "        self.normalizers = []\n",
    "        \n",
    "        indexes = self.get_wells_index(self.wells)\n",
    "        self.load_data_by_index(indexes)\n",
    "        \n",
    "    def get_wells_index(self, wells):\n",
    "        \n",
    "        indexes = []\n",
    "        for well, filt in wells:\n",
    "            indexes.extend([(meta['INDEX'], filt) for meta in self.metadata if meta['WELL'] == well])\n",
    "        return indexes\n",
    "    \n",
    "    def load_data_by_index(self, indexes):\n",
    "        \n",
    "        batches_X = []\n",
    "        batches_Y = []\n",
    "        outputs = []\n",
    "        for index, filt in indexes:\n",
    "            data = pd.read_json(f'{self.path}/{index}.json')#.reset_index()\n",
    "            # Armengue: Por liq vol para preencher o dataset\n",
    "            data['BORE_LIQ_VOL'] = data['BORE_OIL_VOL'] + data['BORE_WAT_VOL']\n",
    "            data = data[self.var_in + self.var_out].dropna().reset_index(drop=True)\n",
    "            X = data.values[filt,:]\n",
    "            Y = data[self.var_out].values[filt,:]\n",
    "            X_base, _, Y_base, _ = train_test_split(X, Y, test_size = self.normalizing_split)\n",
    "            #scaler_X = X_base.max(axis=0, keepdims=True)\n",
    "            #scaler_Y = Y_base.max(axis=0, keepdims=True)\n",
    "            #scaler_X = self.normalizer().fit(X_base)\n",
    "            #scaler_Y = self.normalizer().fit(Y_base)\n",
    "            scaler_X = np.percentile(X_base,self.normalizing_percentile,axis=0,keepdims=True)\n",
    "            scaler_Y = np.percentile(Y_base,self.normalizing_percentile,axis=0,keepdims=True)\n",
    "            self.normalizers.append((scaler_X, scaler_Y))\n",
    "            #X, Y = scaler_X.transform(X), scaler_Y.transform(Y)\n",
    "            X, Y = X / scaler_X, Y / scaler_Y\n",
    "            X, Y = torch.from_numpy(X.astype('float32')), torch.from_numpy(Y.astype('float32'))\n",
    "            output = Y[self.max_sequence::self.step]\n",
    "            #print(Y.shape)\n",
    "            #X = torch.split(X, self.max_sequence, dim= 0)\n",
    "            #Y = torch.split(Y, self.max_sequence, dim= 0)\n",
    "            X = X.unfold(0,self.max_sequence, self.step)\n",
    "            Y = Y.unfold(0,self.max_sequence, self.step)\n",
    "            batches_X.append(X[:-1,:,:])\n",
    "            batches_Y.append(Y[:-1,:,:])\n",
    "            outputs.append(Y[1:,:,:])\n",
    "            #print(X.shape)\n",
    "        self.batches_X = torch.concat(batches_X, axis=0)\n",
    "        self.batches_Y = torch.concat(batches_Y, axis=0)\n",
    "        self.outputs = torch.concat(outputs, axis=0)\n",
    "            \n",
    "    def __len__(self):\n",
    "        \n",
    "        return self.outputs.shape[0]\n",
    "    \n",
    "    def __getitem__(self, idx):\n",
    "                        \n",
    "        srcs = self.batches_X[idx,:,:]\n",
    "        trgts = self.batches_Y[idx,:,:]\n",
    "        output = self.outputs[idx,:,:]\n",
    "        \n",
    "        return srcs.permute(1,0), trgts.permute(1,0), output.permute(1,0)\n",
    "        \n",
    "        \n",
    "                 "
   ]
  },
  {
   "cell_type": "code",
   "execution_count": 432,
   "metadata": {
    "tags": []
   },
   "outputs": [],
   "source": [
    "path = './dataset/volve'\n",
    "wells = [\n",
    "    ('15/9-F-1 C', slice(28, None)),\n",
    "]\n",
    "\n",
    "var_in = [\n",
    "        'AVG_DOWNHOLE_PRESSURE',\n",
    "        'AVG_WHP_P',\n",
    "        'AVG_CHOKE_SIZE_P',\n",
    "        'AVG_WHT_P',\n",
    "        'AVG_DOWNHOLE_TEMPERATURE',\n",
    "]\n",
    "\n",
    "var_out = [\n",
    "        #'BORE_OIL_VOL',\n",
    "        'BORE_LIQ_VOL',\n",
    "        #'BORE_GAS_VOL',\n",
    "        #'BORE_WAT_VOL',\n",
    "]\n",
    "\n",
    "dataset = WellLoader(path, wells, var_in, var_out, max_sequence = 16)"
   ]
  },
  {
   "cell_type": "code",
   "execution_count": 433,
   "metadata": {
    "tags": []
   },
   "outputs": [
    {
     "name": "stdout",
     "output_type": "stream",
     "text": [
      "(tensor([[0.7839, 0.6474, 0.8411, 0.7933, 0.9954, 0.8104],\n",
      "        [0.7913, 0.6511, 0.5181, 0.7699, 0.9934, 0.1569],\n",
      "        [0.7852, 0.6506, 0.8560, 0.7895, 0.9942, 0.8370],\n",
      "        [0.7819, 0.6418, 0.8446, 0.7984, 0.9956, 0.7297],\n",
      "        [0.7851, 0.6445, 0.8347, 0.7827, 0.9950, 0.6819],\n",
      "        [0.7882, 0.6454, 0.8240, 0.7465, 0.9945, 0.6570],\n",
      "        [0.7836, 0.6366, 0.8032, 0.7567, 0.9947, 0.6322],\n",
      "        [0.7847, 0.6338, 0.8237, 0.6687, 0.9944, 0.6597],\n",
      "        [0.7840, 0.6295, 0.8242, 0.6657, 0.9944, 0.6526],\n",
      "        [0.7767, 0.6172, 0.8374, 0.7419, 0.9950, 0.6943],\n",
      "        [0.7645, 0.6002, 0.8495, 0.7407, 0.9961, 0.7404],\n",
      "        [0.7659, 0.5994, 0.8383, 0.7672, 0.9958, 0.6996],\n",
      "        [0.7647, 0.5957, 0.8384, 0.7654, 0.9958, 0.6943],\n",
      "        [0.7644, 0.5937, 0.8274, 0.7188, 0.9957, 0.6597],\n",
      "        [0.7641, 0.5913, 0.8232, 0.7384, 0.9957, 0.6517],\n",
      "        [0.7637, 0.5900, 0.8231, 0.6750, 0.9959, 0.7413]]), tensor([[0.8104],\n",
      "        [0.1569],\n",
      "        [0.8370],\n",
      "        [0.7297],\n",
      "        [0.6819],\n",
      "        [0.6570],\n",
      "        [0.6322],\n",
      "        [0.6597],\n",
      "        [0.6526],\n",
      "        [0.6943],\n",
      "        [0.7404],\n",
      "        [0.6996],\n",
      "        [0.6943],\n",
      "        [0.6597],\n",
      "        [0.6517],\n",
      "        [0.7413]]), tensor([[0.1569],\n",
      "        [0.8370],\n",
      "        [0.7297],\n",
      "        [0.6819],\n",
      "        [0.6570],\n",
      "        [0.6322],\n",
      "        [0.6597],\n",
      "        [0.6526],\n",
      "        [0.6943],\n",
      "        [0.7404],\n",
      "        [0.6996],\n",
      "        [0.6943],\n",
      "        [0.6597],\n",
      "        [0.6517],\n",
      "        [0.7413],\n",
      "        [0.7510]]))\n"
     ]
    }
   ],
   "source": [
    "print(dataset[0])"
   ]
  },
  {
   "cell_type": "code",
   "execution_count": 434,
   "metadata": {
    "tags": []
   },
   "outputs": [],
   "source": [
    "class SubsetSplitter:\n",
    "    \n",
    "    def __init__(self, batch_size, validation_split, test_split, shuffle=False):\n",
    "        \n",
    "        self.batch_size = batch_size\n",
    "        self.validation_split = validation_split\n",
    "        self.test_split = test_split\n",
    "        self.shuffle = shuffle\n",
    "        \n",
    "    def __call__(self, dataset:Dataset):\n",
    "        \n",
    "        dataset_size = len(dataset)\n",
    "        indices = list(range(dataset_size))\n",
    "        validation_split = int(np.floor(self.validation_split * dataset_size))\n",
    "        test_split = int(np.floor(self.test_split * dataset_size))\n",
    "        train_split = dataset_size - validation_split - test_split\n",
    "        # Extracting test independently of others\n",
    "        test_indices = indices[train_split + validation_split:]\n",
    "        indices = indices[:train_split + validation_split]\n",
    "        if self.shuffle :\n",
    "            np.random.shuffle(indices)\n",
    "        train_indices = indices[:train_split]\n",
    "        validation_indices = indices[train_split:]\n",
    "\n",
    "        # Creating PT data samplers and loaders:\n",
    "        train_sampler = SubsetRandomSampler(train_indices)\n",
    "        valid_sampler = SubsetRandomSampler(validation_indices)\n",
    "        test_sampler = SubsetRandomSampler(test_indices)\n",
    "\n",
    "        train_loader = torch.utils.data.DataLoader(dataset, batch_size=self.batch_size, \n",
    "                                                   sampler=train_sampler)\n",
    "        validation_loader = torch.utils.data.DataLoader(dataset, batch_size=self.batch_size,\n",
    "                                                    sampler=valid_sampler)\n",
    "        test_loader = torch.utils.data.DataLoader(dataset, batch_size=self.batch_size,\n",
    "                                                    sampler=test_sampler)\n",
    "        \n",
    "        return train_loader, validation_loader, test_loader"
   ]
  },
  {
   "cell_type": "code",
   "execution_count": 435,
   "metadata": {
    "tags": []
   },
   "outputs": [],
   "source": [
    "splitter = SubsetSplitter(4, 0.1, 0.3, shuffle=False)\n",
    "train_loader, validation_loader, test_loader = splitter(dataset)"
   ]
  },
  {
   "cell_type": "markdown",
   "metadata": {},
   "source": [
    "## Model definition"
   ]
  },
  {
   "cell_type": "code",
   "execution_count": 436,
   "metadata": {},
   "outputs": [
    {
     "data": {
      "text/plain": [
       "tensor([[[0.0000, 0.0000, 0.0000, 1.4286, 0.0000, 1.4286, 0.0000, 1.4286,\n",
       "          0.0000, 0.0000],\n",
       "         [0.0000, 0.0000, 0.0000, 0.0000, 0.0000, 1.4286, 0.0000, 0.0000,\n",
       "          0.0000, 1.4286]]])"
      ]
     },
     "execution_count": 436,
     "metadata": {},
     "output_type": "execute_result"
    }
   ],
   "source": [
    "class PositionalEncoding(nn.Module):\n",
    "    def __init__(self, dim_model, dropout_p, max_len):\n",
    "        super().__init__()\n",
    "        # Modified version from: https://pytorch.org/tutorials/beginner/transformer_tutorial.html\n",
    "        # max_len determines how far the position can have an effect on a token (window)\n",
    "        \n",
    "        # Info\n",
    "        self.dropout = nn.Dropout(dropout_p)\n",
    "        \n",
    "        # Encoding - From formula\n",
    "        pos_encoding = torch.zeros(max_len, dim_model)\n",
    "        positions_list = torch.arange(0, max_len, dtype=torch.float).view(-1, 1) # 0, 1, 2, 3, 4, 5\n",
    "        division_term = torch.exp(torch.arange(0, dim_model, 2).float() * (-math.log(10000.0)) / dim_model) # 1000^(2i/dim_model)\n",
    "        \n",
    "        # PE(pos, 2i) = sin(pos/1000^(2i/dim_model))\n",
    "        pos_encoding[:, 0::2] = torch.sin(positions_list * division_term)\n",
    "        \n",
    "        # PE(pos, 2i + 1) = cos(pos/1000^(2i/dim_model))\n",
    "        pos_encoding[:, 1::2] = torch.cos(positions_list * division_term)\n",
    "        \n",
    "        # Saving buffer (same as parameter without gradients needed)\n",
    "        pos_encoding = pos_encoding.unsqueeze(0).transpose(0, 1)\n",
    "        self.register_buffer(\"pos_encoding\",pos_encoding)\n",
    "        \n",
    "    def forward(self, token_embedding: torch.tensor) -> torch.tensor:\n",
    "        # Residual connection + pos encoding\n",
    "        return self.dropout(token_embedding + self.pos_encoding[:token_embedding.size(0), :])\n",
    "    \n",
    "    \n",
    "positional_encoding = PositionalEncoding(dim_model = 10, dropout_p=0.3, max_len=1200)\n",
    "tensor = torch.zeros((1,2,10))\n",
    "tensor\n",
    "encoded = positional_encoding(tensor)\n",
    "encoded"
   ]
  },
  {
   "cell_type": "code",
   "execution_count": 437,
   "metadata": {},
   "outputs": [],
   "source": [
    "class TSTransformer(nn.Module):\n",
    "    \"\"\"\n",
    "    Model from \"A detailed guide to Pytorch's nn.Transformer() module.\", by\n",
    "    Daniel Melchor: https://medium.com/@danielmelchor/a-detailed-guide-to-pytorchs-nn-transformer-module-c80afbc9ffb1\n",
    "    \"\"\"\n",
    "    # Constructor\n",
    "    def __init__(\n",
    "        self,\n",
    "        src_dim,\n",
    "        tgt_dim,\n",
    "        src_heads,\n",
    "        num_encoder_layers,\n",
    "        dropout_p,\n",
    "        dim_feedforward =2048,\n",
    "        num_linear_layers=0,\n",
    "        norm_first=False\n",
    "    ):\n",
    "        super().__init__()\n",
    "\n",
    "        # INFO\n",
    "        self.model_type = \"Transformer\"\n",
    "        self.src_dim = src_dim\n",
    "\n",
    "        # LAYERS\n",
    "        \n",
    "        # MONTANDO O TRANSFORMER\n",
    "        # Encoder\n",
    "        encoder_layer = nn.TransformerEncoderLayer(\n",
    "            d_model=src_dim,\n",
    "            nhead=src_heads,\n",
    "            dim_feedforward=dim_feedforward,\n",
    "            dropout=dropout_p,\n",
    "            batch_first=True,\n",
    "            norm_first=norm_first\n",
    "        )\n",
    "        self.encoder = nn.TransformerEncoder(\n",
    "            encoder_layer = encoder_layer,\n",
    "            num_layers = num_encoder_layers,\n",
    "            norm=None,\n",
    "        )\n",
    "        \n",
    "        # Decoder\n",
    "        \n",
    "            \n",
    "        # Como encoder e decoder podem ter dimenoes\n",
    "        self.memory_match = nn.Linear(src_dim, tgt_dim)\n",
    "        \n",
    "        self.linear_layers = nn.ModuleList()\n",
    "        for i in range(num_linear_layers):\n",
    "            self.linear_layers.append(nn.Linear(src_dim, src_dim))\n",
    "            self.linear_layers.append(nn.ReLU6())\n",
    "        \n",
    "        \n",
    "    def forward(self, src, tgt, src_mask=None, tgt_mask=None, src_pad_mask=None, tgt_pad_mask=None, is_causal=False):\n",
    "        # Src size must be (batch_size, src sequence length)\n",
    "        # Tgt size must be (batch_size, tgt sequence length)\n",
    "        \n",
    "        \n",
    "        \n",
    "\n",
    "        # Step1 - Passing source through encoder\n",
    "        memory = self.encoder(src, \n",
    "                              mask=src_mask,\n",
    "                              src_key_padding_mask=src_pad_mask,\n",
    "                              is_causal=is_causal)\n",
    "        \n",
    "        for linear in self.linear_layers:\n",
    "            memory = linear(memory)\n",
    "            \n",
    "        transformer_out = self.memory_match(memory)\n",
    "              \n",
    "        out = transformer_out\n",
    "        \n",
    "        \n",
    "        return out\n",
    "      \n",
    "    def get_tgt_mask(self, size) -> torch.tensor:\n",
    "        # Generates a squeare matrix where the each row allows one word more to be seen\n",
    "        mask = torch.tril(torch.ones(size, size) == 1) # Lower triangular matrix\n",
    "        mask = mask.float()\n",
    "        mask = mask.masked_fill(mask == 0,float('-inf')) # Convert zeros to -inf\n",
    "        mask = mask.masked_fill(mask == 1,float(0)) # Convert ones to 0\n",
    "        \n",
    "        # EX for size=5:\n",
    "        # [[0., -inf, -inf, -inf, -inf],\n",
    "        #  [0.,   0., -inf, -inf, -inf],\n",
    "        #  [0.,   0.,   0., -inf, -inf],\n",
    "        #  [0.,   0.,   0.,   0., -inf],\n",
    "        #  [0.,   0.,   0.,   0.,   0.]]\n",
    "        \n",
    "        return mask\n",
    "    \n",
    "    def create_pad_mask(self, matrix: torch.tensor, pad_token: int) -> torch.tensor:\n",
    "        # If matrix = [1,2,3,0,0,0] where pad_token=0, the result mask is\n",
    "        # [False, False, False, True, True, True]\n",
    "        return (matrix == pad_token)"
   ]
  },
  {
   "cell_type": "code",
   "execution_count": 438,
   "metadata": {
    "tags": []
   },
   "outputs": [],
   "source": [
    "class Training:\n",
    "    \n",
    "    def __init__(self, epochs, loss, optimizer, scheduler, path, model_name='Transformer', model_size=8, early_stop=True, patience=5):\n",
    "        \n",
    "        self.loss = loss\n",
    "        self.optimizer = optimizer\n",
    "        self.scheduler = scheduler\n",
    "        self.epochs = epochs\n",
    "        self.path = path\n",
    "        self.model_name = model_name\n",
    "        self.model_size = model_size\n",
    "        self.early_stop_flag = early_stop\n",
    "        self.patience = patience\n",
    "        self.clear_results()\n",
    "        \n",
    "    def clear_results(self):\n",
    "        \n",
    "        self.results = {\n",
    "            'Train':[],\n",
    "            'Validation':[],\n",
    "            'Test':[],\n",
    "        }\n",
    "        \n",
    "    def fit(self, model, train_loader, validation_loader, test_loader):\n",
    "        \n",
    "        self.clear_results()\n",
    "        torch.cuda.empty_cache()\n",
    "        decrease = self.patience\n",
    "        not_improved = 0\n",
    "        \n",
    "        model.to(device)\n",
    "        fit_time = time.time()\n",
    "        \n",
    "        for e in range(self.epochs):\n",
    "            since = time.time()\n",
    "            running_loss = 0\n",
    "            #training loop\n",
    "            model.train()\n",
    "            self.train_loop(model, train_loader)\n",
    "            model.eval()\n",
    "            self.validation_loop(model, validation_loader)\n",
    "            self.test_loop(model, test_loader)\n",
    "            decrease, not_improved = self.early_stopping(validation_loader, decrease)\n",
    "            if not_improved == 1 and self.early_stop_flag:\n",
    "                print('[***] end training ...') \n",
    "                break\n",
    "            loss_per_training_batch = self.results['Train'][-1]\n",
    "            loss_per_validation_batch = self.results['Validation'][-1]\n",
    "            loss_per_test_batch = self.results['Test'][-1]\n",
    "            print(\"Epoch:{}/{}..\".format(e+1, self.epochs),\n",
    "                  \"Train Loss: {:.3f}..\".format(loss_per_training_batch),\n",
    "                  \"Val Loss: {:.3f}..\".format(loss_per_validation_batch),\n",
    "                  \"Test Loss: {:.3f}..\".format(loss_per_test_batch),\n",
    "                  \"Time: {:.2f}m\".format((time.time()-since)/60))\n",
    "        print('Total time: {:.2f} m' .format((time.time()- fit_time)/60))\n",
    "        \n",
    "    def train_loop(self, model, train_loader):\n",
    "        \n",
    "        mask = model.get_tgt_mask(self.model_size).to(device)\n",
    "        running_loss = 0.0\n",
    "        for i, data in enumerate(tqdm(train_loader)):\n",
    "            #training phase\n",
    "            X, y_tgt, y_out = data\n",
    "            X, y_tgt, y_out = X.to(device), y_tgt.to(device), y_out.to(device)\n",
    "            \n",
    "            output = model(X, y_tgt, src_mask=mask, tgt_mask=mask)\n",
    "            #print(X.shape, y_tgt.shape, y_out.shape, output.shape)\n",
    "            loss = self.loss(output, y_out)\n",
    "            #backward\n",
    "            loss.backward()\n",
    "            self.optimizer.step() #update weight          \n",
    "            self.optimizer.zero_grad() #reset gradient\n",
    "            \n",
    "            #step the learning rate\n",
    "            if not self.scheduler is None:\n",
    "                self.scheduler.step()\n",
    "            running_loss += loss.item()\n",
    "        \n",
    "        self.results['Train'].append(running_loss/len(train_loader))\n",
    "    \n",
    "    \n",
    "    def validation_loop(self, model, validation_loader):\n",
    "        \n",
    "        mask = model.get_tgt_mask(self.model_size).to(device)\n",
    "        running_loss = 0.0\n",
    "        with torch.no_grad():\n",
    "            for i, data in enumerate(tqdm(validation_loader)):\n",
    "                #training phase\n",
    "                X, y_tgt, y_out = data\n",
    "                X, y_tgt, y_out = X.to(device), y_tgt.to(device), y_out.to(device)\n",
    "                \n",
    "                output = model(X, y_tgt, src_mask=mask, tgt_mask=mask)\n",
    "                loss = self.loss(output, y_out)\n",
    "                \n",
    "                running_loss += loss.item()\n",
    "        \n",
    "        self.results['Validation'].append(running_loss/len(validation_loader))\n",
    "        \n",
    "    def test_loop(self, model, test_loader):\n",
    "        \n",
    "        mask = model.get_tgt_mask(self.model_size).to(device)\n",
    "        running_loss = 0.0\n",
    "        with torch.no_grad():\n",
    "            for i, data in enumerate(tqdm(test_loader)):\n",
    "                #training phase\n",
    "                X, y_tgt, y_out = data\n",
    "                X, y_tgt, y_out = X.to(device), y_tgt.to(device), y_out.to(device)\n",
    "                \n",
    "                output = model(X, y_tgt, src_mask=mask, tgt_mask=mask)\n",
    "                loss = self.loss(output, y_out)\n",
    "                \n",
    "                running_loss += loss.item()\n",
    "        \n",
    "        self.results['Test'].append(running_loss/len(test_loader))\n",
    "        \n",
    "    def early_stopping(self, validation_loader, decrease):\n",
    "        \n",
    "        loss_per_validation_batch = self.results['Validation'][-1]\n",
    "        min_loss = np.min(self.results['Validation'][:-1] + [np.inf])\n",
    "        if min_loss >= self.results['Validation'][-1]:\n",
    "            print('Loss Decreasing.. {:.3f} >> {:.3f} '.format(min_loss, loss_per_validation_batch))\n",
    "            decrease = self.patience\n",
    "            print('saving model...')\n",
    "            torch.save(model, self.path + f'/{self.model_name}.pt')\n",
    "        else:\n",
    "            decrease -= 1\n",
    "        if decrease < 0:     \n",
    "                not_improved = 1\n",
    "        else:\n",
    "            not_improved = 0\n",
    "        return decrease, not_improved\n",
    "    \n",
    "    def get_best_model(self):\n",
    "        \n",
    "        model = torch.load(self.path + f'/{self.model_name}.pt')\n",
    "        return model\n",
    "            \n",
    "            "
   ]
  },
  {
   "cell_type": "code",
   "execution_count": 439,
   "metadata": {
    "tags": []
   },
   "outputs": [
    {
     "name": "stdout",
     "output_type": "stream",
     "text": [
      "Number of parameters: 1069\n",
      "TSTransformer(\n",
      "  (encoder): TransformerEncoder(\n",
      "    (layers): ModuleList(\n",
      "      (0-2): 3 x TransformerEncoderLayer(\n",
      "        (self_attn): MultiheadAttention(\n",
      "          (out_proj): NonDynamicallyQuantizableLinear(in_features=6, out_features=6, bias=True)\n",
      "        )\n",
      "        (linear1): Linear(in_features=6, out_features=12, bias=True)\n",
      "        (dropout): Dropout(p=0.1, inplace=False)\n",
      "        (linear2): Linear(in_features=12, out_features=6, bias=True)\n",
      "        (norm1): LayerNorm((6,), eps=1e-05, elementwise_affine=True)\n",
      "        (norm2): LayerNorm((6,), eps=1e-05, elementwise_affine=True)\n",
      "        (dropout1): Dropout(p=0.1, inplace=False)\n",
      "        (dropout2): Dropout(p=0.1, inplace=False)\n",
      "      )\n",
      "    )\n",
      "  )\n",
      "  (memory_match): Linear(in_features=6, out_features=1, bias=True)\n",
      "  (linear_layers): ModuleList()\n",
      ")\n"
     ]
    }
   ],
   "source": [
    "model = TSTransformer(\n",
    "    src_dim=6,\n",
    "    tgt_dim=1,\n",
    "    src_heads=1,\n",
    "    num_encoder_layers=3,\n",
    "    dropout_p=0.1,\n",
    "    dim_feedforward =12,\n",
    "    num_linear_layers=0,\n",
    "    norm_first=False,\n",
    ").to(device)\n",
    "\n",
    "print(f'Number of parameters: {sum(p.numel() for p in model.parameters() if p.requires_grad)}')\n",
    "print(model)\n",
    "\n",
    "lr_ = 5e-4\n",
    "epoch = 1000\n",
    "weight_decay = 1e-4\n",
    "path = '.'\n",
    "model_name = 'TRANSPOSED-SIMP'\n",
    "\n",
    "loss = torch.nn.MSELoss()\n",
    "#optimizer = torch.optim.Adam(model.parameters(), lr=lr_)\n",
    "#optimizer = torch.optim.SGD(model.parameters(), lr=lr_)\n",
    "optimizer = torch.optim.AdamW(model.parameters(), lr=lr_, \n",
    "                              weight_decay=weight_decay)\n",
    "\n",
    "sched = None\n",
    "sched = torch.optim.lr_scheduler.OneCycleLR(optimizer, lr_, epochs=epoch,\n",
    "                                            steps_per_epoch=len(train_loader))\n",
    "\n",
    "training = Training(epoch, loss, optimizer, sched, model_name=model_name, \n",
    "                    model_size = dataset.max_sequence, path=path, \n",
    "                    early_stop=True, patience=20)"
   ]
  },
  {
   "cell_type": "code",
   "execution_count": 440,
   "metadata": {
    "tags": []
   },
   "outputs": [
    {
     "name": "stderr",
     "output_type": "stream",
     "text": [
      "100%|██████████| 106/106 [00:00<00:00, 174.94it/s]\n",
      "  0%|          | 0/18 [00:00<?, ?it/s]/projetos/c5ef/venvs/dl_raul/lib64/python3.9/site-packages/torch/nn/modules/activation.py:1160: UserWarning: Converting mask without torch.bool dtype to bool; this will negatively affect performance. Prefer to use a boolean mask directly. (Triggered internally at ../aten/src/ATen/native/transformers/attention.cpp:150.)\n",
      "  return torch._native_multi_head_attention(\n",
      "100%|██████████| 18/18 [00:00<00:00, 670.52it/s]\n",
      "100%|██████████| 53/53 [00:00<00:00, 730.51it/s]\n"
     ]
    },
    {
     "name": "stdout",
     "output_type": "stream",
     "text": [
      "Loss Decreasing.. inf >> 0.454 \n",
      "saving model...\n",
      "Epoch:1/1000.. Train Loss: 0.502.. Val Loss: 0.454.. Test Loss: 0.463.. Time: 0.01m\n"
     ]
    },
    {
     "name": "stderr",
     "output_type": "stream",
     "text": [
      "100%|██████████| 106/106 [00:00<00:00, 175.01it/s]\n",
      "100%|██████████| 18/18 [00:00<00:00, 656.62it/s]\n",
      "100%|██████████| 53/53 [00:00<00:00, 727.62it/s]\n"
     ]
    },
    {
     "name": "stdout",
     "output_type": "stream",
     "text": [
      "Loss Decreasing.. 0.454 >> 0.425 \n",
      "saving model...\n",
      "Epoch:2/1000.. Train Loss: 0.443.. Val Loss: 0.425.. Test Loss: 0.416.. Time: 0.01m\n"
     ]
    },
    {
     "name": "stderr",
     "output_type": "stream",
     "text": [
      "100%|██████████| 106/106 [00:00<00:00, 173.44it/s]\n",
      "100%|██████████| 18/18 [00:00<00:00, 667.33it/s]\n",
      "100%|██████████| 53/53 [00:00<00:00, 722.72it/s]\n"
     ]
    },
    {
     "name": "stdout",
     "output_type": "stream",
     "text": [
      "Loss Decreasing.. 0.425 >> 0.352 \n",
      "saving model...\n",
      "Epoch:3/1000.. Train Loss: 0.404.. Val Loss: 0.352.. Test Loss: 0.381.. Time: 0.01m\n"
     ]
    },
    {
     "name": "stderr",
     "output_type": "stream",
     "text": [
      "100%|██████████| 106/106 [00:00<00:00, 164.07it/s]\n",
      "100%|██████████| 18/18 [00:00<00:00, 671.98it/s]\n",
      "100%|██████████| 53/53 [00:00<00:00, 704.41it/s]\n"
     ]
    },
    {
     "name": "stdout",
     "output_type": "stream",
     "text": [
      "Loss Decreasing.. 0.352 >> 0.336 \n",
      "saving model...\n",
      "Epoch:4/1000.. Train Loss: 0.364.. Val Loss: 0.336.. Test Loss: 0.361.. Time: 0.01m\n"
     ]
    },
    {
     "name": "stderr",
     "output_type": "stream",
     "text": [
      "100%|██████████| 106/106 [00:00<00:00, 175.58it/s]\n",
      "100%|██████████| 18/18 [00:00<00:00, 674.24it/s]\n",
      "100%|██████████| 53/53 [00:00<00:00, 738.87it/s]\n"
     ]
    },
    {
     "name": "stdout",
     "output_type": "stream",
     "text": [
      "Loss Decreasing.. 0.336 >> 0.316 \n",
      "saving model...\n",
      "Epoch:5/1000.. Train Loss: 0.329.. Val Loss: 0.316.. Test Loss: 0.333.. Time: 0.01m\n"
     ]
    },
    {
     "name": "stderr",
     "output_type": "stream",
     "text": [
      "100%|██████████| 106/106 [00:00<00:00, 172.07it/s]\n",
      "100%|██████████| 18/18 [00:00<00:00, 686.45it/s]\n",
      "100%|██████████| 53/53 [00:00<00:00, 732.31it/s]\n"
     ]
    },
    {
     "name": "stdout",
     "output_type": "stream",
     "text": [
      "Loss Decreasing.. 0.316 >> 0.310 \n",
      "saving model...\n",
      "Epoch:6/1000.. Train Loss: 0.298.. Val Loss: 0.310.. Test Loss: 0.306.. Time: 0.01m\n"
     ]
    },
    {
     "name": "stderr",
     "output_type": "stream",
     "text": [
      "100%|██████████| 106/106 [00:00<00:00, 184.39it/s]\n",
      "100%|██████████| 18/18 [00:00<00:00, 682.51it/s]\n",
      "100%|██████████| 53/53 [00:00<00:00, 737.46it/s]\n"
     ]
    },
    {
     "name": "stdout",
     "output_type": "stream",
     "text": [
      "Loss Decreasing.. 0.310 >> 0.279 \n",
      "saving model...\n",
      "Epoch:7/1000.. Train Loss: 0.275.. Val Loss: 0.279.. Test Loss: 0.289.. Time: 0.01m\n"
     ]
    },
    {
     "name": "stderr",
     "output_type": "stream",
     "text": [
      "100%|██████████| 106/106 [00:00<00:00, 183.96it/s]\n",
      "100%|██████████| 18/18 [00:00<00:00, 731.47it/s]\n",
      "100%|██████████| 53/53 [00:00<00:00, 746.22it/s]\n"
     ]
    },
    {
     "name": "stdout",
     "output_type": "stream",
     "text": [
      "Loss Decreasing.. 0.279 >> 0.262 \n",
      "saving model...\n",
      "Epoch:8/1000.. Train Loss: 0.254.. Val Loss: 0.262.. Test Loss: 0.274.. Time: 0.01m\n"
     ]
    },
    {
     "name": "stderr",
     "output_type": "stream",
     "text": [
      "100%|██████████| 106/106 [00:00<00:00, 181.29it/s]\n",
      "100%|██████████| 18/18 [00:00<00:00, 681.85it/s]\n",
      "100%|██████████| 53/53 [00:00<00:00, 743.29it/s]\n"
     ]
    },
    {
     "name": "stdout",
     "output_type": "stream",
     "text": [
      "Loss Decreasing.. 0.262 >> 0.255 \n",
      "saving model...\n",
      "Epoch:9/1000.. Train Loss: 0.240.. Val Loss: 0.255.. Test Loss: 0.261.. Time: 0.01m\n"
     ]
    },
    {
     "name": "stderr",
     "output_type": "stream",
     "text": [
      "100%|██████████| 106/106 [00:00<00:00, 183.63it/s]\n",
      "100%|██████████| 18/18 [00:00<00:00, 698.53it/s]\n",
      "100%|██████████| 53/53 [00:00<00:00, 745.94it/s]\n"
     ]
    },
    {
     "name": "stdout",
     "output_type": "stream",
     "text": [
      "Loss Decreasing.. 0.255 >> 0.245 \n",
      "saving model...\n",
      "Epoch:10/1000.. Train Loss: 0.228.. Val Loss: 0.245.. Test Loss: 0.254.. Time: 0.01m\n"
     ]
    },
    {
     "name": "stderr",
     "output_type": "stream",
     "text": [
      "100%|██████████| 106/106 [00:00<00:00, 177.06it/s]\n",
      "100%|██████████| 18/18 [00:00<00:00, 648.67it/s]\n",
      "100%|██████████| 53/53 [00:00<00:00, 725.75it/s]\n"
     ]
    },
    {
     "name": "stdout",
     "output_type": "stream",
     "text": [
      "Loss Decreasing.. 0.245 >> 0.237 \n",
      "saving model...\n",
      "Epoch:11/1000.. Train Loss: 0.214.. Val Loss: 0.237.. Test Loss: 0.242.. Time: 0.01m\n"
     ]
    },
    {
     "name": "stderr",
     "output_type": "stream",
     "text": [
      "100%|██████████| 106/106 [00:00<00:00, 175.16it/s]\n",
      "100%|██████████| 18/18 [00:00<00:00, 671.55it/s]\n",
      "100%|██████████| 53/53 [00:00<00:00, 714.41it/s]\n"
     ]
    },
    {
     "name": "stdout",
     "output_type": "stream",
     "text": [
      "Epoch:12/1000.. Train Loss: 0.204.. Val Loss: 0.238.. Test Loss: 0.235.. Time: 0.01m\n"
     ]
    },
    {
     "name": "stderr",
     "output_type": "stream",
     "text": [
      "100%|██████████| 106/106 [00:00<00:00, 173.92it/s]\n",
      "100%|██████████| 18/18 [00:00<00:00, 692.33it/s]\n",
      "100%|██████████| 53/53 [00:00<00:00, 739.85it/s]\n"
     ]
    },
    {
     "name": "stdout",
     "output_type": "stream",
     "text": [
      "Loss Decreasing.. 0.237 >> 0.224 \n",
      "saving model...\n",
      "Epoch:13/1000.. Train Loss: 0.198.. Val Loss: 0.224.. Test Loss: 0.225.. Time: 0.01m\n"
     ]
    },
    {
     "name": "stderr",
     "output_type": "stream",
     "text": [
      "100%|██████████| 106/106 [00:00<00:00, 178.31it/s]\n",
      "100%|██████████| 18/18 [00:00<00:00, 674.95it/s]\n",
      "100%|██████████| 53/53 [00:00<00:00, 739.33it/s]\n"
     ]
    },
    {
     "name": "stdout",
     "output_type": "stream",
     "text": [
      "Epoch:14/1000.. Train Loss: 0.195.. Val Loss: 0.225.. Test Loss: 0.219.. Time: 0.01m\n"
     ]
    },
    {
     "name": "stderr",
     "output_type": "stream",
     "text": [
      "100%|██████████| 106/106 [00:00<00:00, 171.65it/s]\n",
      "100%|██████████| 18/18 [00:00<00:00, 683.87it/s]\n",
      "100%|██████████| 53/53 [00:00<00:00, 748.23it/s]\n"
     ]
    },
    {
     "name": "stdout",
     "output_type": "stream",
     "text": [
      "Loss Decreasing.. 0.224 >> 0.208 \n",
      "saving model...\n",
      "Epoch:15/1000.. Train Loss: 0.180.. Val Loss: 0.208.. Test Loss: 0.214.. Time: 0.01m\n"
     ]
    },
    {
     "name": "stderr",
     "output_type": "stream",
     "text": [
      "100%|██████████| 106/106 [00:00<00:00, 176.08it/s]\n",
      "100%|██████████| 18/18 [00:00<00:00, 682.25it/s]\n",
      "100%|██████████| 53/53 [00:00<00:00, 740.71it/s]\n"
     ]
    },
    {
     "name": "stdout",
     "output_type": "stream",
     "text": [
      "Loss Decreasing.. 0.208 >> 0.205 \n",
      "saving model...\n",
      "Epoch:16/1000.. Train Loss: 0.178.. Val Loss: 0.205.. Test Loss: 0.207.. Time: 0.01m\n"
     ]
    },
    {
     "name": "stderr",
     "output_type": "stream",
     "text": [
      "100%|██████████| 106/106 [00:00<00:00, 174.08it/s]\n",
      "100%|██████████| 18/18 [00:00<00:00, 687.72it/s]\n",
      "100%|██████████| 53/53 [00:00<00:00, 740.20it/s]\n"
     ]
    },
    {
     "name": "stdout",
     "output_type": "stream",
     "text": [
      "Loss Decreasing.. 0.205 >> 0.200 \n",
      "saving model...\n",
      "Epoch:17/1000.. Train Loss: 0.173.. Val Loss: 0.200.. Test Loss: 0.201.. Time: 0.01m\n"
     ]
    },
    {
     "name": "stderr",
     "output_type": "stream",
     "text": [
      "100%|██████████| 106/106 [00:00<00:00, 176.65it/s]\n",
      "100%|██████████| 18/18 [00:00<00:00, 675.12it/s]\n",
      "100%|██████████| 53/53 [00:00<00:00, 726.18it/s]\n"
     ]
    },
    {
     "name": "stdout",
     "output_type": "stream",
     "text": [
      "Loss Decreasing.. 0.200 >> 0.199 \n",
      "saving model...\n",
      "Epoch:18/1000.. Train Loss: 0.172.. Val Loss: 0.199.. Test Loss: 0.196.. Time: 0.01m\n"
     ]
    },
    {
     "name": "stderr",
     "output_type": "stream",
     "text": [
      "100%|██████████| 106/106 [00:00<00:00, 176.70it/s]\n",
      "100%|██████████| 18/18 [00:00<00:00, 728.84it/s]\n",
      "100%|██████████| 53/53 [00:00<00:00, 739.12it/s]\n"
     ]
    },
    {
     "name": "stdout",
     "output_type": "stream",
     "text": [
      "Loss Decreasing.. 0.199 >> 0.193 \n",
      "saving model...\n",
      "Epoch:19/1000.. Train Loss: 0.164.. Val Loss: 0.193.. Test Loss: 0.192.. Time: 0.01m\n"
     ]
    },
    {
     "name": "stderr",
     "output_type": "stream",
     "text": [
      "100%|██████████| 106/106 [00:00<00:00, 171.83it/s]\n",
      "100%|██████████| 18/18 [00:00<00:00, 675.16it/s]\n",
      "100%|██████████| 53/53 [00:00<00:00, 720.49it/s]\n"
     ]
    },
    {
     "name": "stdout",
     "output_type": "stream",
     "text": [
      "Loss Decreasing.. 0.193 >> 0.187 \n",
      "saving model...\n",
      "Epoch:20/1000.. Train Loss: 0.159.. Val Loss: 0.187.. Test Loss: 0.187.. Time: 0.01m\n"
     ]
    },
    {
     "name": "stderr",
     "output_type": "stream",
     "text": [
      "100%|██████████| 106/106 [00:00<00:00, 170.63it/s]\n",
      "100%|██████████| 18/18 [00:00<00:00, 735.25it/s]\n",
      "100%|██████████| 53/53 [00:00<00:00, 742.47it/s]\n"
     ]
    },
    {
     "name": "stdout",
     "output_type": "stream",
     "text": [
      "Epoch:21/1000.. Train Loss: 0.158.. Val Loss: 0.189.. Test Loss: 0.180.. Time: 0.01m\n"
     ]
    },
    {
     "name": "stderr",
     "output_type": "stream",
     "text": [
      "100%|██████████| 106/106 [00:00<00:00, 183.84it/s]\n",
      "100%|██████████| 18/18 [00:00<00:00, 683.69it/s]\n",
      "100%|██████████| 53/53 [00:00<00:00, 737.75it/s]\n"
     ]
    },
    {
     "name": "stdout",
     "output_type": "stream",
     "text": [
      "Loss Decreasing.. 0.187 >> 0.178 \n",
      "saving model...\n",
      "Epoch:22/1000.. Train Loss: 0.153.. Val Loss: 0.178.. Test Loss: 0.175.. Time: 0.01m\n"
     ]
    },
    {
     "name": "stderr",
     "output_type": "stream",
     "text": [
      "100%|██████████| 106/106 [00:00<00:00, 175.97it/s]\n",
      "100%|██████████| 18/18 [00:00<00:00, 689.65it/s]\n",
      "100%|██████████| 53/53 [00:00<00:00, 727.37it/s]\n"
     ]
    },
    {
     "name": "stdout",
     "output_type": "stream",
     "text": [
      "Epoch:23/1000.. Train Loss: 0.149.. Val Loss: 0.180.. Test Loss: 0.168.. Time: 0.01m\n"
     ]
    },
    {
     "name": "stderr",
     "output_type": "stream",
     "text": [
      "100%|██████████| 106/106 [00:00<00:00, 170.41it/s]\n",
      "100%|██████████| 18/18 [00:00<00:00, 686.07it/s]\n",
      "100%|██████████| 53/53 [00:00<00:00, 738.77it/s]\n"
     ]
    },
    {
     "name": "stdout",
     "output_type": "stream",
     "text": [
      "Loss Decreasing.. 0.178 >> 0.171 \n",
      "saving model...\n",
      "Epoch:24/1000.. Train Loss: 0.146.. Val Loss: 0.171.. Test Loss: 0.160.. Time: 0.01m\n"
     ]
    },
    {
     "name": "stderr",
     "output_type": "stream",
     "text": [
      "100%|██████████| 106/106 [00:00<00:00, 166.14it/s]\n",
      "100%|██████████| 18/18 [00:00<00:00, 661.78it/s]\n",
      "100%|██████████| 53/53 [00:00<00:00, 741.47it/s]\n"
     ]
    },
    {
     "name": "stdout",
     "output_type": "stream",
     "text": [
      "Loss Decreasing.. 0.171 >> 0.164 \n",
      "saving model...\n",
      "Epoch:25/1000.. Train Loss: 0.142.. Val Loss: 0.164.. Test Loss: 0.155.. Time: 0.01m\n"
     ]
    },
    {
     "name": "stderr",
     "output_type": "stream",
     "text": [
      "100%|██████████| 106/106 [00:00<00:00, 171.02it/s]\n",
      "100%|██████████| 18/18 [00:00<00:00, 686.63it/s]\n",
      "100%|██████████| 53/53 [00:00<00:00, 719.01it/s]\n"
     ]
    },
    {
     "name": "stdout",
     "output_type": "stream",
     "text": [
      "Loss Decreasing.. 0.164 >> 0.155 \n",
      "saving model...\n",
      "Epoch:26/1000.. Train Loss: 0.134.. Val Loss: 0.155.. Test Loss: 0.145.. Time: 0.01m\n"
     ]
    },
    {
     "name": "stderr",
     "output_type": "stream",
     "text": [
      "100%|██████████| 106/106 [00:00<00:00, 174.35it/s]\n",
      "100%|██████████| 18/18 [00:00<00:00, 685.46it/s]\n",
      "100%|██████████| 53/53 [00:00<00:00, 750.72it/s]\n"
     ]
    },
    {
     "name": "stdout",
     "output_type": "stream",
     "text": [
      "Loss Decreasing.. 0.155 >> 0.149 \n",
      "saving model...\n",
      "Epoch:27/1000.. Train Loss: 0.129.. Val Loss: 0.149.. Test Loss: 0.138.. Time: 0.01m\n"
     ]
    },
    {
     "name": "stderr",
     "output_type": "stream",
     "text": [
      "100%|██████████| 106/106 [00:00<00:00, 170.87it/s]\n",
      "100%|██████████| 18/18 [00:00<00:00, 667.91it/s]\n",
      "100%|██████████| 53/53 [00:00<00:00, 720.07it/s]\n"
     ]
    },
    {
     "name": "stdout",
     "output_type": "stream",
     "text": [
      "Loss Decreasing.. 0.149 >> 0.134 \n",
      "saving model...\n",
      "Epoch:28/1000.. Train Loss: 0.121.. Val Loss: 0.134.. Test Loss: 0.130.. Time: 0.01m\n"
     ]
    },
    {
     "name": "stderr",
     "output_type": "stream",
     "text": [
      "100%|██████████| 106/106 [00:00<00:00, 171.83it/s]\n",
      "100%|██████████| 18/18 [00:00<00:00, 674.93it/s]\n",
      "100%|██████████| 53/53 [00:00<00:00, 738.24it/s]\n"
     ]
    },
    {
     "name": "stdout",
     "output_type": "stream",
     "text": [
      "Loss Decreasing.. 0.134 >> 0.124 \n",
      "saving model...\n",
      "Epoch:29/1000.. Train Loss: 0.118.. Val Loss: 0.124.. Test Loss: 0.120.. Time: 0.01m\n"
     ]
    },
    {
     "name": "stderr",
     "output_type": "stream",
     "text": [
      "100%|██████████| 106/106 [00:00<00:00, 172.96it/s]\n",
      "100%|██████████| 18/18 [00:00<00:00, 737.68it/s]\n",
      "100%|██████████| 53/53 [00:00<00:00, 729.85it/s]\n"
     ]
    },
    {
     "name": "stdout",
     "output_type": "stream",
     "text": [
      "Loss Decreasing.. 0.124 >> 0.123 \n",
      "saving model...\n",
      "Epoch:30/1000.. Train Loss: 0.113.. Val Loss: 0.123.. Test Loss: 0.113.. Time: 0.01m\n"
     ]
    },
    {
     "name": "stderr",
     "output_type": "stream",
     "text": [
      "100%|██████████| 106/106 [00:00<00:00, 161.62it/s]\n",
      "100%|██████████| 18/18 [00:00<00:00, 717.17it/s]\n",
      "100%|██████████| 53/53 [00:00<00:00, 727.07it/s]\n"
     ]
    },
    {
     "name": "stdout",
     "output_type": "stream",
     "text": [
      "Loss Decreasing.. 0.123 >> 0.111 \n",
      "saving model...\n",
      "Epoch:31/1000.. Train Loss: 0.105.. Val Loss: 0.111.. Test Loss: 0.103.. Time: 0.01m\n"
     ]
    },
    {
     "name": "stderr",
     "output_type": "stream",
     "text": [
      "100%|██████████| 106/106 [00:00<00:00, 172.43it/s]\n",
      "100%|██████████| 18/18 [00:00<00:00, 693.99it/s]\n",
      "100%|██████████| 53/53 [00:00<00:00, 738.58it/s]\n"
     ]
    },
    {
     "name": "stdout",
     "output_type": "stream",
     "text": [
      "Loss Decreasing.. 0.111 >> 0.099 \n",
      "saving model...\n",
      "Epoch:32/1000.. Train Loss: 0.100.. Val Loss: 0.099.. Test Loss: 0.098.. Time: 0.01m\n"
     ]
    },
    {
     "name": "stderr",
     "output_type": "stream",
     "text": [
      "100%|██████████| 106/106 [00:00<00:00, 176.43it/s]\n",
      "100%|██████████| 18/18 [00:00<00:00, 679.79it/s]\n",
      "100%|██████████| 53/53 [00:00<00:00, 714.87it/s]\n"
     ]
    },
    {
     "name": "stdout",
     "output_type": "stream",
     "text": [
      "Loss Decreasing.. 0.099 >> 0.091 \n",
      "saving model...\n",
      "Epoch:33/1000.. Train Loss: 0.093.. Val Loss: 0.091.. Test Loss: 0.092.. Time: 0.01m\n"
     ]
    },
    {
     "name": "stderr",
     "output_type": "stream",
     "text": [
      "100%|██████████| 106/106 [00:00<00:00, 170.69it/s]\n",
      "100%|██████████| 18/18 [00:00<00:00, 754.97it/s]\n",
      "100%|██████████| 53/53 [00:00<00:00, 736.32it/s]\n"
     ]
    },
    {
     "name": "stdout",
     "output_type": "stream",
     "text": [
      "Loss Decreasing.. 0.091 >> 0.087 \n",
      "saving model...\n",
      "Epoch:34/1000.. Train Loss: 0.090.. Val Loss: 0.087.. Test Loss: 0.088.. Time: 0.01m\n"
     ]
    },
    {
     "name": "stderr",
     "output_type": "stream",
     "text": [
      "100%|██████████| 106/106 [00:00<00:00, 178.05it/s]\n",
      "100%|██████████| 18/18 [00:00<00:00, 688.81it/s]\n",
      "100%|██████████| 53/53 [00:00<00:00, 741.64it/s]\n"
     ]
    },
    {
     "name": "stdout",
     "output_type": "stream",
     "text": [
      "Loss Decreasing.. 0.087 >> 0.080 \n",
      "saving model...\n",
      "Epoch:35/1000.. Train Loss: 0.085.. Val Loss: 0.080.. Test Loss: 0.085.. Time: 0.01m\n"
     ]
    },
    {
     "name": "stderr",
     "output_type": "stream",
     "text": [
      "100%|██████████| 106/106 [00:00<00:00, 177.30it/s]\n",
      "100%|██████████| 18/18 [00:00<00:00, 688.42it/s]\n",
      "100%|██████████| 53/53 [00:00<00:00, 761.13it/s]\n"
     ]
    },
    {
     "name": "stdout",
     "output_type": "stream",
     "text": [
      "Loss Decreasing.. 0.080 >> 0.079 \n",
      "saving model...\n",
      "Epoch:36/1000.. Train Loss: 0.081.. Val Loss: 0.079.. Test Loss: 0.081.. Time: 0.01m\n"
     ]
    },
    {
     "name": "stderr",
     "output_type": "stream",
     "text": [
      "100%|██████████| 106/106 [00:00<00:00, 175.62it/s]\n",
      "100%|██████████| 18/18 [00:00<00:00, 701.45it/s]\n",
      "100%|██████████| 53/53 [00:00<00:00, 723.13it/s]\n"
     ]
    },
    {
     "name": "stdout",
     "output_type": "stream",
     "text": [
      "Epoch:37/1000.. Train Loss: 0.079.. Val Loss: 0.082.. Test Loss: 0.080.. Time: 0.01m\n"
     ]
    },
    {
     "name": "stderr",
     "output_type": "stream",
     "text": [
      "100%|██████████| 106/106 [00:00<00:00, 173.69it/s]\n",
      "100%|██████████| 18/18 [00:00<00:00, 744.20it/s]\n",
      "100%|██████████| 53/53 [00:00<00:00, 718.93it/s]\n"
     ]
    },
    {
     "name": "stdout",
     "output_type": "stream",
     "text": [
      "Loss Decreasing.. 0.079 >> 0.075 \n",
      "saving model...\n",
      "Epoch:38/1000.. Train Loss: 0.077.. Val Loss: 0.075.. Test Loss: 0.079.. Time: 0.01m\n"
     ]
    },
    {
     "name": "stderr",
     "output_type": "stream",
     "text": [
      "100%|██████████| 106/106 [00:00<00:00, 186.84it/s]\n",
      "100%|██████████| 18/18 [00:00<00:00, 714.69it/s]\n",
      "100%|██████████| 53/53 [00:00<00:00, 738.81it/s]\n"
     ]
    },
    {
     "name": "stdout",
     "output_type": "stream",
     "text": [
      "Loss Decreasing.. 0.075 >> 0.073 \n",
      "saving model...\n",
      "Epoch:39/1000.. Train Loss: 0.073.. Val Loss: 0.073.. Test Loss: 0.077.. Time: 0.01m\n"
     ]
    },
    {
     "name": "stderr",
     "output_type": "stream",
     "text": [
      "100%|██████████| 106/106 [00:00<00:00, 177.32it/s]\n",
      "100%|██████████| 18/18 [00:00<00:00, 681.75it/s]\n",
      "100%|██████████| 53/53 [00:00<00:00, 736.01it/s]\n"
     ]
    },
    {
     "name": "stdout",
     "output_type": "stream",
     "text": [
      "Loss Decreasing.. 0.073 >> 0.070 \n",
      "saving model...\n",
      "Epoch:40/1000.. Train Loss: 0.071.. Val Loss: 0.070.. Test Loss: 0.075.. Time: 0.01m\n"
     ]
    },
    {
     "name": "stderr",
     "output_type": "stream",
     "text": [
      "100%|██████████| 106/106 [00:00<00:00, 172.96it/s]\n",
      "100%|██████████| 18/18 [00:00<00:00, 695.62it/s]\n",
      "100%|██████████| 53/53 [00:00<00:00, 733.90it/s]\n"
     ]
    },
    {
     "name": "stdout",
     "output_type": "stream",
     "text": [
      "Epoch:41/1000.. Train Loss: 0.072.. Val Loss: 0.072.. Test Loss: 0.075.. Time: 0.01m\n"
     ]
    },
    {
     "name": "stderr",
     "output_type": "stream",
     "text": [
      "100%|██████████| 106/106 [00:00<00:00, 172.77it/s]\n",
      "100%|██████████| 18/18 [00:00<00:00, 747.31it/s]\n",
      "100%|██████████| 53/53 [00:00<00:00, 737.90it/s]\n"
     ]
    },
    {
     "name": "stdout",
     "output_type": "stream",
     "text": [
      "Loss Decreasing.. 0.070 >> 0.069 \n",
      "saving model...\n",
      "Epoch:42/1000.. Train Loss: 0.068.. Val Loss: 0.069.. Test Loss: 0.074.. Time: 0.01m\n"
     ]
    },
    {
     "name": "stderr",
     "output_type": "stream",
     "text": [
      "100%|██████████| 106/106 [00:00<00:00, 168.71it/s]\n",
      "100%|██████████| 18/18 [00:00<00:00, 577.44it/s]\n",
      "100%|██████████| 53/53 [00:00<00:00, 734.05it/s]\n"
     ]
    },
    {
     "name": "stdout",
     "output_type": "stream",
     "text": [
      "Epoch:43/1000.. Train Loss: 0.068.. Val Loss: 0.073.. Test Loss: 0.072.. Time: 0.01m\n"
     ]
    },
    {
     "name": "stderr",
     "output_type": "stream",
     "text": [
      "100%|██████████| 106/106 [00:00<00:00, 174.89it/s]\n",
      "100%|██████████| 18/18 [00:00<00:00, 677.24it/s]\n",
      "100%|██████████| 53/53 [00:00<00:00, 745.90it/s]\n"
     ]
    },
    {
     "name": "stdout",
     "output_type": "stream",
     "text": [
      "Loss Decreasing.. 0.069 >> 0.066 \n",
      "saving model...\n",
      "Epoch:44/1000.. Train Loss: 0.067.. Val Loss: 0.066.. Test Loss: 0.071.. Time: 0.01m\n"
     ]
    },
    {
     "name": "stderr",
     "output_type": "stream",
     "text": [
      "100%|██████████| 106/106 [00:00<00:00, 174.92it/s]\n",
      "100%|██████████| 18/18 [00:00<00:00, 689.13it/s]\n",
      "100%|██████████| 53/53 [00:00<00:00, 744.02it/s]\n"
     ]
    },
    {
     "name": "stdout",
     "output_type": "stream",
     "text": [
      "Epoch:45/1000.. Train Loss: 0.065.. Val Loss: 0.066.. Test Loss: 0.071.. Time: 0.01m\n"
     ]
    },
    {
     "name": "stderr",
     "output_type": "stream",
     "text": [
      "100%|██████████| 106/106 [00:00<00:00, 166.61it/s]\n",
      "100%|██████████| 18/18 [00:00<00:00, 735.31it/s]\n",
      "100%|██████████| 53/53 [00:00<00:00, 734.13it/s]\n"
     ]
    },
    {
     "name": "stdout",
     "output_type": "stream",
     "text": [
      "Loss Decreasing.. 0.066 >> 0.066 \n",
      "saving model...\n",
      "Epoch:46/1000.. Train Loss: 0.065.. Val Loss: 0.066.. Test Loss: 0.070.. Time: 0.01m\n"
     ]
    },
    {
     "name": "stderr",
     "output_type": "stream",
     "text": [
      "100%|██████████| 106/106 [00:00<00:00, 176.32it/s]\n",
      "100%|██████████| 18/18 [00:00<00:00, 693.81it/s]\n",
      "100%|██████████| 53/53 [00:00<00:00, 731.61it/s]\n"
     ]
    },
    {
     "name": "stdout",
     "output_type": "stream",
     "text": [
      "Epoch:47/1000.. Train Loss: 0.063.. Val Loss: 0.069.. Test Loss: 0.068.. Time: 0.01m\n"
     ]
    },
    {
     "name": "stderr",
     "output_type": "stream",
     "text": [
      "100%|██████████| 106/106 [00:00<00:00, 177.49it/s]\n",
      "100%|██████████| 18/18 [00:00<00:00, 690.35it/s]\n",
      "100%|██████████| 53/53 [00:00<00:00, 746.10it/s]\n"
     ]
    },
    {
     "name": "stdout",
     "output_type": "stream",
     "text": [
      "Loss Decreasing.. 0.066 >> 0.064 \n",
      "saving model...\n",
      "Epoch:48/1000.. Train Loss: 0.062.. Val Loss: 0.064.. Test Loss: 0.068.. Time: 0.01m\n"
     ]
    },
    {
     "name": "stderr",
     "output_type": "stream",
     "text": [
      "100%|██████████| 106/106 [00:00<00:00, 173.32it/s]\n",
      "100%|██████████| 18/18 [00:00<00:00, 667.20it/s]\n",
      "100%|██████████| 53/53 [00:00<00:00, 745.20it/s]\n"
     ]
    },
    {
     "name": "stdout",
     "output_type": "stream",
     "text": [
      "Epoch:49/1000.. Train Loss: 0.060.. Val Loss: 0.066.. Test Loss: 0.069.. Time: 0.01m\n"
     ]
    },
    {
     "name": "stderr",
     "output_type": "stream",
     "text": [
      "100%|██████████| 106/106 [00:00<00:00, 174.42it/s]\n",
      "100%|██████████| 18/18 [00:00<00:00, 739.67it/s]\n",
      "100%|██████████| 53/53 [00:00<00:00, 735.73it/s]\n"
     ]
    },
    {
     "name": "stdout",
     "output_type": "stream",
     "text": [
      "Epoch:50/1000.. Train Loss: 0.061.. Val Loss: 0.066.. Test Loss: 0.068.. Time: 0.01m\n"
     ]
    },
    {
     "name": "stderr",
     "output_type": "stream",
     "text": [
      "100%|██████████| 106/106 [00:00<00:00, 172.02it/s]\n",
      "100%|██████████| 18/18 [00:00<00:00, 683.33it/s]\n",
      "100%|██████████| 53/53 [00:00<00:00, 730.65it/s]\n"
     ]
    },
    {
     "name": "stdout",
     "output_type": "stream",
     "text": [
      "Epoch:51/1000.. Train Loss: 0.059.. Val Loss: 0.064.. Test Loss: 0.066.. Time: 0.01m\n"
     ]
    },
    {
     "name": "stderr",
     "output_type": "stream",
     "text": [
      "100%|██████████| 106/106 [00:00<00:00, 176.75it/s]\n",
      "100%|██████████| 18/18 [00:00<00:00, 694.21it/s]\n",
      "100%|██████████| 53/53 [00:00<00:00, 753.61it/s]\n"
     ]
    },
    {
     "name": "stdout",
     "output_type": "stream",
     "text": [
      "Epoch:52/1000.. Train Loss: 0.057.. Val Loss: 0.064.. Test Loss: 0.066.. Time: 0.01m\n"
     ]
    },
    {
     "name": "stderr",
     "output_type": "stream",
     "text": [
      "100%|██████████| 106/106 [00:00<00:00, 173.77it/s]\n",
      "100%|██████████| 18/18 [00:00<00:00, 655.78it/s]\n",
      "100%|██████████| 53/53 [00:00<00:00, 732.69it/s]\n"
     ]
    },
    {
     "name": "stdout",
     "output_type": "stream",
     "text": [
      "Epoch:53/1000.. Train Loss: 0.057.. Val Loss: 0.068.. Test Loss: 0.066.. Time: 0.01m\n"
     ]
    },
    {
     "name": "stderr",
     "output_type": "stream",
     "text": [
      "100%|██████████| 106/106 [00:00<00:00, 171.58it/s]\n",
      "100%|██████████| 18/18 [00:00<00:00, 726.99it/s]\n",
      "100%|██████████| 53/53 [00:00<00:00, 737.18it/s]\n"
     ]
    },
    {
     "name": "stdout",
     "output_type": "stream",
     "text": [
      "Loss Decreasing.. 0.064 >> 0.062 \n",
      "saving model...\n",
      "Epoch:54/1000.. Train Loss: 0.056.. Val Loss: 0.062.. Test Loss: 0.065.. Time: 0.01m\n"
     ]
    },
    {
     "name": "stderr",
     "output_type": "stream",
     "text": [
      "100%|██████████| 106/106 [00:00<00:00, 176.14it/s]\n",
      "100%|██████████| 18/18 [00:00<00:00, 726.57it/s]\n",
      "100%|██████████| 53/53 [00:00<00:00, 734.36it/s]\n"
     ]
    },
    {
     "name": "stdout",
     "output_type": "stream",
     "text": [
      "Loss Decreasing.. 0.062 >> 0.061 \n",
      "saving model...\n",
      "Epoch:55/1000.. Train Loss: 0.055.. Val Loss: 0.061.. Test Loss: 0.065.. Time: 0.01m\n"
     ]
    },
    {
     "name": "stderr",
     "output_type": "stream",
     "text": [
      "100%|██████████| 106/106 [00:00<00:00, 175.83it/s]\n",
      "100%|██████████| 18/18 [00:00<00:00, 634.55it/s]\n",
      "100%|██████████| 53/53 [00:00<00:00, 720.79it/s]\n"
     ]
    },
    {
     "name": "stdout",
     "output_type": "stream",
     "text": [
      "Loss Decreasing.. 0.061 >> 0.061 \n",
      "saving model...\n",
      "Epoch:56/1000.. Train Loss: 0.054.. Val Loss: 0.061.. Test Loss: 0.064.. Time: 0.01m\n"
     ]
    },
    {
     "name": "stderr",
     "output_type": "stream",
     "text": [
      "100%|██████████| 106/106 [00:00<00:00, 186.56it/s]\n",
      "100%|██████████| 18/18 [00:00<00:00, 717.78it/s]\n",
      "100%|██████████| 53/53 [00:00<00:00, 741.26it/s]\n"
     ]
    },
    {
     "name": "stdout",
     "output_type": "stream",
     "text": [
      "Epoch:57/1000.. Train Loss: 0.054.. Val Loss: 0.062.. Test Loss: 0.065.. Time: 0.01m\n"
     ]
    },
    {
     "name": "stderr",
     "output_type": "stream",
     "text": [
      "100%|██████████| 106/106 [00:00<00:00, 176.65it/s]\n",
      "100%|██████████| 18/18 [00:00<00:00, 738.01it/s]\n",
      "100%|██████████| 53/53 [00:00<00:00, 737.18it/s]\n"
     ]
    },
    {
     "name": "stdout",
     "output_type": "stream",
     "text": [
      "Epoch:58/1000.. Train Loss: 0.054.. Val Loss: 0.065.. Test Loss: 0.063.. Time: 0.01m\n"
     ]
    },
    {
     "name": "stderr",
     "output_type": "stream",
     "text": [
      "100%|██████████| 106/106 [00:00<00:00, 172.33it/s]\n",
      "100%|██████████| 18/18 [00:00<00:00, 686.28it/s]\n",
      "100%|██████████| 53/53 [00:00<00:00, 736.65it/s]\n"
     ]
    },
    {
     "name": "stdout",
     "output_type": "stream",
     "text": [
      "Loss Decreasing.. 0.061 >> 0.060 \n",
      "saving model...\n",
      "Epoch:59/1000.. Train Loss: 0.052.. Val Loss: 0.060.. Test Loss: 0.064.. Time: 0.01m\n"
     ]
    },
    {
     "name": "stderr",
     "output_type": "stream",
     "text": [
      "100%|██████████| 106/106 [00:00<00:00, 176.28it/s]\n",
      "100%|██████████| 18/18 [00:00<00:00, 661.52it/s]\n",
      "100%|██████████| 53/53 [00:00<00:00, 737.69it/s]\n"
     ]
    },
    {
     "name": "stdout",
     "output_type": "stream",
     "text": [
      "Epoch:60/1000.. Train Loss: 0.051.. Val Loss: 0.064.. Test Loss: 0.063.. Time: 0.01m\n"
     ]
    },
    {
     "name": "stderr",
     "output_type": "stream",
     "text": [
      "100%|██████████| 106/106 [00:00<00:00, 174.20it/s]\n",
      "100%|██████████| 18/18 [00:00<00:00, 722.15it/s]\n",
      "100%|██████████| 53/53 [00:00<00:00, 730.28it/s]\n"
     ]
    },
    {
     "name": "stdout",
     "output_type": "stream",
     "text": [
      "Epoch:61/1000.. Train Loss: 0.051.. Val Loss: 0.061.. Test Loss: 0.062.. Time: 0.01m\n"
     ]
    },
    {
     "name": "stderr",
     "output_type": "stream",
     "text": [
      "100%|██████████| 106/106 [00:00<00:00, 171.85it/s]\n",
      "100%|██████████| 18/18 [00:00<00:00, 728.40it/s]\n",
      "100%|██████████| 53/53 [00:00<00:00, 732.00it/s]\n"
     ]
    },
    {
     "name": "stdout",
     "output_type": "stream",
     "text": [
      "Epoch:62/1000.. Train Loss: 0.050.. Val Loss: 0.060.. Test Loss: 0.062.. Time: 0.01m\n"
     ]
    },
    {
     "name": "stderr",
     "output_type": "stream",
     "text": [
      "100%|██████████| 106/106 [00:00<00:00, 177.09it/s]\n",
      "100%|██████████| 18/18 [00:00<00:00, 737.23it/s]\n",
      "100%|██████████| 53/53 [00:00<00:00, 732.35it/s]\n"
     ]
    },
    {
     "name": "stdout",
     "output_type": "stream",
     "text": [
      "Epoch:63/1000.. Train Loss: 0.051.. Val Loss: 0.063.. Test Loss: 0.061.. Time: 0.01m\n"
     ]
    },
    {
     "name": "stderr",
     "output_type": "stream",
     "text": [
      "100%|██████████| 106/106 [00:00<00:00, 169.85it/s]\n",
      "100%|██████████| 18/18 [00:00<00:00, 622.05it/s]\n",
      "100%|██████████| 53/53 [00:00<00:00, 722.85it/s]\n"
     ]
    },
    {
     "name": "stdout",
     "output_type": "stream",
     "text": [
      "Epoch:64/1000.. Train Loss: 0.049.. Val Loss: 0.063.. Test Loss: 0.060.. Time: 0.01m\n"
     ]
    },
    {
     "name": "stderr",
     "output_type": "stream",
     "text": [
      "100%|██████████| 106/106 [00:00<00:00, 180.14it/s]\n",
      "100%|██████████| 18/18 [00:00<00:00, 660.99it/s]\n",
      "100%|██████████| 53/53 [00:00<00:00, 727.93it/s]\n"
     ]
    },
    {
     "name": "stdout",
     "output_type": "stream",
     "text": [
      "Epoch:65/1000.. Train Loss: 0.050.. Val Loss: 0.063.. Test Loss: 0.060.. Time: 0.01m\n"
     ]
    },
    {
     "name": "stderr",
     "output_type": "stream",
     "text": [
      "100%|██████████| 106/106 [00:00<00:00, 166.81it/s]\n",
      "100%|██████████| 18/18 [00:00<00:00, 714.26it/s]\n",
      "100%|██████████| 53/53 [00:00<00:00, 728.05it/s]\n"
     ]
    },
    {
     "name": "stdout",
     "output_type": "stream",
     "text": [
      "Epoch:66/1000.. Train Loss: 0.047.. Val Loss: 0.061.. Test Loss: 0.060.. Time: 0.01m\n"
     ]
    },
    {
     "name": "stderr",
     "output_type": "stream",
     "text": [
      "100%|██████████| 106/106 [00:00<00:00, 171.92it/s]\n",
      "100%|██████████| 18/18 [00:00<00:00, 742.18it/s]\n",
      "100%|██████████| 53/53 [00:00<00:00, 718.55it/s]\n"
     ]
    },
    {
     "name": "stdout",
     "output_type": "stream",
     "text": [
      "Loss Decreasing.. 0.060 >> 0.059 \n",
      "saving model...\n",
      "Epoch:67/1000.. Train Loss: 0.047.. Val Loss: 0.059.. Test Loss: 0.059.. Time: 0.01m\n"
     ]
    },
    {
     "name": "stderr",
     "output_type": "stream",
     "text": [
      "100%|██████████| 106/106 [00:00<00:00, 178.57it/s]\n",
      "100%|██████████| 18/18 [00:00<00:00, 733.95it/s]\n",
      "100%|██████████| 53/53 [00:00<00:00, 752.14it/s]\n"
     ]
    },
    {
     "name": "stdout",
     "output_type": "stream",
     "text": [
      "Loss Decreasing.. 0.059 >> 0.058 \n",
      "saving model...\n",
      "Epoch:68/1000.. Train Loss: 0.046.. Val Loss: 0.058.. Test Loss: 0.058.. Time: 0.01m\n"
     ]
    },
    {
     "name": "stderr",
     "output_type": "stream",
     "text": [
      "100%|██████████| 106/106 [00:00<00:00, 165.54it/s]\n",
      "100%|██████████| 18/18 [00:00<00:00, 674.44it/s]\n",
      "100%|██████████| 53/53 [00:00<00:00, 710.32it/s]\n"
     ]
    },
    {
     "name": "stdout",
     "output_type": "stream",
     "text": [
      "Loss Decreasing.. 0.058 >> 0.057 \n",
      "saving model...\n",
      "Epoch:69/1000.. Train Loss: 0.045.. Val Loss: 0.057.. Test Loss: 0.058.. Time: 0.01m\n"
     ]
    },
    {
     "name": "stderr",
     "output_type": "stream",
     "text": [
      "100%|██████████| 106/106 [00:00<00:00, 174.40it/s]\n",
      "100%|██████████| 18/18 [00:00<00:00, 652.13it/s]\n",
      "100%|██████████| 53/53 [00:00<00:00, 728.82it/s]\n"
     ]
    },
    {
     "name": "stdout",
     "output_type": "stream",
     "text": [
      "Epoch:70/1000.. Train Loss: 0.045.. Val Loss: 0.060.. Test Loss: 0.057.. Time: 0.01m\n"
     ]
    },
    {
     "name": "stderr",
     "output_type": "stream",
     "text": [
      "100%|██████████| 106/106 [00:00<00:00, 176.83it/s]\n",
      "100%|██████████| 18/18 [00:00<00:00, 670.09it/s]\n",
      "100%|██████████| 53/53 [00:00<00:00, 737.71it/s]\n"
     ]
    },
    {
     "name": "stdout",
     "output_type": "stream",
     "text": [
      "Loss Decreasing.. 0.057 >> 0.056 \n",
      "saving model...\n",
      "Epoch:71/1000.. Train Loss: 0.044.. Val Loss: 0.056.. Test Loss: 0.057.. Time: 0.01m\n"
     ]
    },
    {
     "name": "stderr",
     "output_type": "stream",
     "text": [
      "100%|██████████| 106/106 [00:00<00:00, 167.59it/s]\n",
      "100%|██████████| 18/18 [00:00<00:00, 628.70it/s]\n",
      "100%|██████████| 53/53 [00:00<00:00, 733.32it/s]\n"
     ]
    },
    {
     "name": "stdout",
     "output_type": "stream",
     "text": [
      "Epoch:72/1000.. Train Loss: 0.044.. Val Loss: 0.059.. Test Loss: 0.057.. Time: 0.01m\n"
     ]
    },
    {
     "name": "stderr",
     "output_type": "stream",
     "text": [
      "100%|██████████| 106/106 [00:00<00:00, 176.38it/s]\n",
      "100%|██████████| 18/18 [00:00<00:00, 716.82it/s]\n",
      "100%|██████████| 53/53 [00:00<00:00, 736.34it/s]\n"
     ]
    },
    {
     "name": "stdout",
     "output_type": "stream",
     "text": [
      "Epoch:73/1000.. Train Loss: 0.042.. Val Loss: 0.060.. Test Loss: 0.057.. Time: 0.01m\n"
     ]
    },
    {
     "name": "stderr",
     "output_type": "stream",
     "text": [
      "100%|██████████| 106/106 [00:00<00:00, 174.92it/s]\n",
      "100%|██████████| 18/18 [00:00<00:00, 714.66it/s]\n",
      "100%|██████████| 53/53 [00:00<00:00, 732.61it/s]\n"
     ]
    },
    {
     "name": "stdout",
     "output_type": "stream",
     "text": [
      "Epoch:74/1000.. Train Loss: 0.041.. Val Loss: 0.060.. Test Loss: 0.057.. Time: 0.01m\n"
     ]
    },
    {
     "name": "stderr",
     "output_type": "stream",
     "text": [
      "100%|██████████| 106/106 [00:00<00:00, 174.31it/s]\n",
      "100%|██████████| 18/18 [00:00<00:00, 726.28it/s]\n",
      "100%|██████████| 53/53 [00:00<00:00, 731.57it/s]\n"
     ]
    },
    {
     "name": "stdout",
     "output_type": "stream",
     "text": [
      "Epoch:75/1000.. Train Loss: 0.042.. Val Loss: 0.057.. Test Loss: 0.056.. Time: 0.01m\n"
     ]
    },
    {
     "name": "stderr",
     "output_type": "stream",
     "text": [
      "100%|██████████| 106/106 [00:00<00:00, 175.76it/s]\n",
      "100%|██████████| 18/18 [00:00<00:00, 691.33it/s]\n",
      "100%|██████████| 53/53 [00:00<00:00, 739.44it/s]\n"
     ]
    },
    {
     "name": "stdout",
     "output_type": "stream",
     "text": [
      "Epoch:76/1000.. Train Loss: 0.041.. Val Loss: 0.058.. Test Loss: 0.055.. Time: 0.01m\n"
     ]
    },
    {
     "name": "stderr",
     "output_type": "stream",
     "text": [
      "100%|██████████| 106/106 [00:00<00:00, 177.69it/s]\n",
      "100%|██████████| 18/18 [00:00<00:00, 689.65it/s]\n",
      "100%|██████████| 53/53 [00:00<00:00, 721.07it/s]\n"
     ]
    },
    {
     "name": "stdout",
     "output_type": "stream",
     "text": [
      "Epoch:77/1000.. Train Loss: 0.039.. Val Loss: 0.058.. Test Loss: 0.055.. Time: 0.01m\n"
     ]
    },
    {
     "name": "stderr",
     "output_type": "stream",
     "text": [
      "100%|██████████| 106/106 [00:00<00:00, 174.11it/s]\n",
      "100%|██████████| 18/18 [00:00<00:00, 676.09it/s]\n",
      "100%|██████████| 53/53 [00:00<00:00, 727.80it/s]\n"
     ]
    },
    {
     "name": "stdout",
     "output_type": "stream",
     "text": [
      "Epoch:78/1000.. Train Loss: 0.040.. Val Loss: 0.060.. Test Loss: 0.055.. Time: 0.01m\n"
     ]
    },
    {
     "name": "stderr",
     "output_type": "stream",
     "text": [
      "100%|██████████| 106/106 [00:00<00:00, 174.69it/s]\n",
      "100%|██████████| 18/18 [00:00<00:00, 683.81it/s]\n",
      "100%|██████████| 53/53 [00:00<00:00, 740.55it/s]\n"
     ]
    },
    {
     "name": "stdout",
     "output_type": "stream",
     "text": [
      "Loss Decreasing.. 0.056 >> 0.056 \n",
      "saving model...\n",
      "Epoch:79/1000.. Train Loss: 0.038.. Val Loss: 0.056.. Test Loss: 0.053.. Time: 0.01m\n"
     ]
    },
    {
     "name": "stderr",
     "output_type": "stream",
     "text": [
      "100%|██████████| 106/106 [00:00<00:00, 176.34it/s]\n",
      "100%|██████████| 18/18 [00:00<00:00, 650.45it/s]\n",
      "100%|██████████| 53/53 [00:00<00:00, 724.00it/s]\n"
     ]
    },
    {
     "name": "stdout",
     "output_type": "stream",
     "text": [
      "Epoch:80/1000.. Train Loss: 0.039.. Val Loss: 0.058.. Test Loss: 0.053.. Time: 0.01m\n"
     ]
    },
    {
     "name": "stderr",
     "output_type": "stream",
     "text": [
      "100%|██████████| 106/106 [00:00<00:00, 172.38it/s]\n",
      "100%|██████████| 18/18 [00:00<00:00, 688.37it/s]\n",
      "100%|██████████| 53/53 [00:00<00:00, 731.03it/s]\n"
     ]
    },
    {
     "name": "stdout",
     "output_type": "stream",
     "text": [
      "Epoch:81/1000.. Train Loss: 0.038.. Val Loss: 0.060.. Test Loss: 0.053.. Time: 0.01m\n"
     ]
    },
    {
     "name": "stderr",
     "output_type": "stream",
     "text": [
      "100%|██████████| 106/106 [00:00<00:00, 176.46it/s]\n",
      "100%|██████████| 18/18 [00:00<00:00, 694.05it/s]\n",
      "100%|██████████| 53/53 [00:00<00:00, 731.28it/s]\n"
     ]
    },
    {
     "name": "stdout",
     "output_type": "stream",
     "text": [
      "Epoch:82/1000.. Train Loss: 0.036.. Val Loss: 0.061.. Test Loss: 0.053.. Time: 0.01m\n"
     ]
    },
    {
     "name": "stderr",
     "output_type": "stream",
     "text": [
      "100%|██████████| 106/106 [00:00<00:00, 173.25it/s]\n",
      "100%|██████████| 18/18 [00:00<00:00, 694.92it/s]\n",
      "100%|██████████| 53/53 [00:00<00:00, 745.29it/s]\n"
     ]
    },
    {
     "name": "stdout",
     "output_type": "stream",
     "text": [
      "Epoch:83/1000.. Train Loss: 0.037.. Val Loss: 0.057.. Test Loss: 0.053.. Time: 0.01m\n"
     ]
    },
    {
     "name": "stderr",
     "output_type": "stream",
     "text": [
      "100%|██████████| 106/106 [00:00<00:00, 175.07it/s]\n",
      "100%|██████████| 18/18 [00:00<00:00, 690.26it/s]\n",
      "100%|██████████| 53/53 [00:00<00:00, 765.76it/s]\n"
     ]
    },
    {
     "name": "stdout",
     "output_type": "stream",
     "text": [
      "Epoch:84/1000.. Train Loss: 0.037.. Val Loss: 0.058.. Test Loss: 0.052.. Time: 0.01m\n"
     ]
    },
    {
     "name": "stderr",
     "output_type": "stream",
     "text": [
      "100%|██████████| 106/106 [00:00<00:00, 171.03it/s]\n",
      "100%|██████████| 18/18 [00:00<00:00, 694.80it/s]\n",
      "100%|██████████| 53/53 [00:00<00:00, 746.71it/s]\n"
     ]
    },
    {
     "name": "stdout",
     "output_type": "stream",
     "text": [
      "Epoch:85/1000.. Train Loss: 0.036.. Val Loss: 0.057.. Test Loss: 0.052.. Time: 0.01m\n"
     ]
    },
    {
     "name": "stderr",
     "output_type": "stream",
     "text": [
      "100%|██████████| 106/106 [00:00<00:00, 165.72it/s]\n",
      "100%|██████████| 18/18 [00:00<00:00, 706.12it/s]\n",
      "100%|██████████| 53/53 [00:00<00:00, 705.26it/s]\n"
     ]
    },
    {
     "name": "stdout",
     "output_type": "stream",
     "text": [
      "Epoch:86/1000.. Train Loss: 0.037.. Val Loss: 0.062.. Test Loss: 0.053.. Time: 0.01m\n"
     ]
    },
    {
     "name": "stderr",
     "output_type": "stream",
     "text": [
      "100%|██████████| 106/106 [00:00<00:00, 175.94it/s]\n",
      "100%|██████████| 18/18 [00:00<00:00, 681.82it/s]\n",
      "100%|██████████| 53/53 [00:00<00:00, 740.13it/s]\n"
     ]
    },
    {
     "name": "stdout",
     "output_type": "stream",
     "text": [
      "Epoch:87/1000.. Train Loss: 0.035.. Val Loss: 0.061.. Test Loss: 0.052.. Time: 0.01m\n"
     ]
    },
    {
     "name": "stderr",
     "output_type": "stream",
     "text": [
      "100%|██████████| 106/106 [00:00<00:00, 176.36it/s]\n",
      "100%|██████████| 18/18 [00:00<00:00, 736.70it/s]\n",
      "100%|██████████| 53/53 [00:00<00:00, 736.98it/s]\n"
     ]
    },
    {
     "name": "stdout",
     "output_type": "stream",
     "text": [
      "Epoch:88/1000.. Train Loss: 0.034.. Val Loss: 0.062.. Test Loss: 0.053.. Time: 0.01m\n"
     ]
    },
    {
     "name": "stderr",
     "output_type": "stream",
     "text": [
      "100%|██████████| 106/106 [00:00<00:00, 174.73it/s]\n",
      "100%|██████████| 18/18 [00:00<00:00, 687.73it/s]\n",
      "100%|██████████| 53/53 [00:00<00:00, 737.36it/s]\n"
     ]
    },
    {
     "name": "stdout",
     "output_type": "stream",
     "text": [
      "Epoch:89/1000.. Train Loss: 0.034.. Val Loss: 0.059.. Test Loss: 0.052.. Time: 0.01m\n"
     ]
    },
    {
     "name": "stderr",
     "output_type": "stream",
     "text": [
      "100%|██████████| 106/106 [00:00<00:00, 178.48it/s]\n",
      "100%|██████████| 18/18 [00:00<00:00, 729.51it/s]\n",
      "100%|██████████| 53/53 [00:00<00:00, 738.81it/s]\n"
     ]
    },
    {
     "name": "stdout",
     "output_type": "stream",
     "text": [
      "Epoch:90/1000.. Train Loss: 0.034.. Val Loss: 0.059.. Test Loss: 0.051.. Time: 0.01m\n"
     ]
    },
    {
     "name": "stderr",
     "output_type": "stream",
     "text": [
      "100%|██████████| 106/106 [00:00<00:00, 167.08it/s]\n",
      "100%|██████████| 18/18 [00:00<00:00, 663.23it/s]\n",
      "100%|██████████| 53/53 [00:00<00:00, 739.23it/s]\n"
     ]
    },
    {
     "name": "stdout",
     "output_type": "stream",
     "text": [
      "Epoch:91/1000.. Train Loss: 0.034.. Val Loss: 0.059.. Test Loss: 0.052.. Time: 0.01m\n"
     ]
    },
    {
     "name": "stderr",
     "output_type": "stream",
     "text": [
      "100%|██████████| 106/106 [00:00<00:00, 176.58it/s]\n",
      "100%|██████████| 18/18 [00:00<00:00, 719.37it/s]\n",
      "100%|██████████| 53/53 [00:00<00:00, 742.31it/s]\n"
     ]
    },
    {
     "name": "stdout",
     "output_type": "stream",
     "text": [
      "Epoch:92/1000.. Train Loss: 0.033.. Val Loss: 0.062.. Test Loss: 0.052.. Time: 0.01m\n"
     ]
    },
    {
     "name": "stderr",
     "output_type": "stream",
     "text": [
      "100%|██████████| 106/106 [00:00<00:00, 171.26it/s]\n",
      "100%|██████████| 18/18 [00:00<00:00, 670.72it/s]\n",
      "100%|██████████| 53/53 [00:00<00:00, 716.85it/s]\n"
     ]
    },
    {
     "name": "stdout",
     "output_type": "stream",
     "text": [
      "Epoch:93/1000.. Train Loss: 0.034.. Val Loss: 0.063.. Test Loss: 0.051.. Time: 0.01m\n"
     ]
    },
    {
     "name": "stderr",
     "output_type": "stream",
     "text": [
      "100%|██████████| 106/106 [00:00<00:00, 158.34it/s]\n",
      "100%|██████████| 18/18 [00:00<00:00, 684.87it/s]\n",
      "100%|██████████| 53/53 [00:00<00:00, 681.96it/s]\n"
     ]
    },
    {
     "name": "stdout",
     "output_type": "stream",
     "text": [
      "Epoch:94/1000.. Train Loss: 0.033.. Val Loss: 0.064.. Test Loss: 0.052.. Time: 0.01m\n"
     ]
    },
    {
     "name": "stderr",
     "output_type": "stream",
     "text": [
      "100%|██████████| 106/106 [00:00<00:00, 173.37it/s]\n",
      "100%|██████████| 18/18 [00:00<00:00, 682.96it/s]\n",
      "100%|██████████| 53/53 [00:00<00:00, 734.07it/s]\n"
     ]
    },
    {
     "name": "stdout",
     "output_type": "stream",
     "text": [
      "Epoch:95/1000.. Train Loss: 0.032.. Val Loss: 0.063.. Test Loss: 0.051.. Time: 0.01m\n"
     ]
    },
    {
     "name": "stderr",
     "output_type": "stream",
     "text": [
      "100%|██████████| 106/106 [00:00<00:00, 173.90it/s]\n",
      "100%|██████████| 18/18 [00:00<00:00, 726.52it/s]\n",
      "100%|██████████| 53/53 [00:00<00:00, 756.24it/s]\n"
     ]
    },
    {
     "name": "stdout",
     "output_type": "stream",
     "text": [
      "Epoch:96/1000.. Train Loss: 0.033.. Val Loss: 0.062.. Test Loss: 0.051.. Time: 0.01m\n"
     ]
    },
    {
     "name": "stderr",
     "output_type": "stream",
     "text": [
      "100%|██████████| 106/106 [00:00<00:00, 182.73it/s]\n",
      "100%|██████████| 18/18 [00:00<00:00, 676.45it/s]\n",
      "100%|██████████| 53/53 [00:00<00:00, 742.44it/s]\n"
     ]
    },
    {
     "name": "stdout",
     "output_type": "stream",
     "text": [
      "Epoch:97/1000.. Train Loss: 0.033.. Val Loss: 0.063.. Test Loss: 0.051.. Time: 0.01m\n"
     ]
    },
    {
     "name": "stderr",
     "output_type": "stream",
     "text": [
      "100%|██████████| 106/106 [00:00<00:00, 184.41it/s]\n",
      "100%|██████████| 18/18 [00:00<00:00, 666.82it/s]\n",
      "100%|██████████| 53/53 [00:00<00:00, 741.69it/s]\n"
     ]
    },
    {
     "name": "stdout",
     "output_type": "stream",
     "text": [
      "Epoch:98/1000.. Train Loss: 0.032.. Val Loss: 0.061.. Test Loss: 0.051.. Time: 0.01m\n"
     ]
    },
    {
     "name": "stderr",
     "output_type": "stream",
     "text": [
      "100%|██████████| 106/106 [00:00<00:00, 173.31it/s]\n",
      "100%|██████████| 18/18 [00:00<00:00, 676.96it/s]\n",
      "100%|██████████| 53/53 [00:00<00:00, 723.99it/s]\n"
     ]
    },
    {
     "name": "stdout",
     "output_type": "stream",
     "text": [
      "Epoch:99/1000.. Train Loss: 0.032.. Val Loss: 0.065.. Test Loss: 0.050.. Time: 0.01m\n"
     ]
    },
    {
     "name": "stderr",
     "output_type": "stream",
     "text": [
      "100%|██████████| 106/106 [00:00<00:00, 172.70it/s]\n",
      "100%|██████████| 18/18 [00:00<00:00, 734.94it/s]\n",
      "100%|██████████| 53/53 [00:00<00:00, 750.12it/s]"
     ]
    },
    {
     "name": "stdout",
     "output_type": "stream",
     "text": [
      "[***] end training ...\n",
      "Total time: 1.24 m\n"
     ]
    },
    {
     "name": "stderr",
     "output_type": "stream",
     "text": [
      "\n"
     ]
    }
   ],
   "source": [
    "training.fit(model, train_loader, validation_loader, test_loader)\n",
    "best_model = training.get_best_model()"
   ]
  },
  {
   "cell_type": "code",
   "execution_count": 441,
   "metadata": {
    "tags": []
   },
   "outputs": [
    {
     "data": {
      "text/plain": [
       "<matplotlib.legend.Legend at 0x2b6e53b77fa0>"
      ]
     },
     "execution_count": 441,
     "metadata": {},
     "output_type": "execute_result"
    },
    {
     "data": {
      "image/png": "[encoded data removed]",
      "text/plain": [
       "<Figure size 640x480 with 1 Axes>"
      ]
     },
     "metadata": {},
     "output_type": "display_data"
    }
   ],
   "source": [
    "fig, ax = plt.subplots()\n",
    "\n",
    "ax.plot(training.results['Train'], label='Train')\n",
    "ax.plot(training.results['Validation'], label='Validation')\n",
    "ax.plot(training.results['Test'], label='Test')\n",
    "ax.legend()"
   ]
  },
  {
   "cell_type": "markdown",
   "metadata": {},
   "source": [
    "## Evaluation and plotting classes"
   ]
  },
  {
   "cell_type": "code",
   "execution_count": 442,
   "metadata": {
    "tags": []
   },
   "outputs": [],
   "source": [
    "class OSAEvaluator:\n",
    "    \n",
    "    def evaluate_OSA(self, dataset, model):\n",
    "        \n",
    "        torch.cuda.empty_cache()\n",
    "        Y_real = []\n",
    "        Y_pred = []\n",
    "        for i, data in enumerate(tqdm(dataset)):\n",
    "            src, tgt, y_real = data\n",
    "            src, tgt, y_real = src.to(device), tgt.to(device), y_real.to(device)\n",
    "            y_pred = model(src, tgt)\n",
    "            Y_real.append(y_real[-1,:])\n",
    "            Y_pred.append(y_pred[-1,:])\n",
    "        \n",
    "        Y_real = torch.vstack(Y_real).cpu()\n",
    "        Y_pred = torch.vstack(Y_pred).cpu().detach()\n",
    "        print('********** OSA Evaluation summary **********')\n",
    "        print(f'OSA MSE: {mean_squared_error(Y_real, Y_pred)}')\n",
    "        print(f'OSA RMSE: {np.sqrt(mean_squared_error(Y_real, Y_pred))}')\n",
    "        print(f'OSA R2 score: {r2_score(Y_real, Y_pred)}')\n",
    "        print('********************************************')\n",
    "        return Y_real, Y_pred\n",
    "            \n",
    "class FSEvaluator:\n",
    "    \n",
    "    def evaluate_FS(self, dataset, model):\n",
    "        \n",
    "        torch.cuda.empty_cache()\n",
    "        Y_real = []\n",
    "        Y_pred = []\n",
    "        tgt_sim = None\n",
    "        for i, data in enumerate(tqdm(dataset)):\n",
    "            src, tgt, y_real = data\n",
    "            src, tgt, y_real = src.to(device), tgt.to(device), y_real.to(device)\n",
    "            if tgt_sim is None:\n",
    "                tgt_sim = tgt\n",
    "            src = src.clone()\n",
    "            src[:,-1:] = tgt_sim.clone()\n",
    "            y_pred = model(src, tgt_sim)\n",
    "            tgt_sim[:-1,:] = tgt_sim[1:,:].clone()\n",
    "            tgt_sim[-1,:] = y_pred[-1,:].clone()\n",
    "            Y_real.append(y_real[-1,:])\n",
    "            Y_pred.append(y_pred[-1,:])\n",
    "        \n",
    "        Y_real = torch.vstack(Y_real).cpu()\n",
    "        Y_pred = torch.vstack(Y_pred).cpu().detach()\n",
    "        print('*********** FS Evaluation summary **********')\n",
    "        print(f'FS MSE: {mean_squared_error(Y_real, Y_pred)}')\n",
    "        print(f'FS RMSE: {np.sqrt(mean_squared_error(Y_real, Y_pred))}')\n",
    "        print(f'FS R2 score: {r2_score(Y_real, Y_pred)}')\n",
    "        print('********************************************')\n",
    "        return Y_real, Y_pred\n",
    "    \n",
    "class Evaluator(OSAEvaluator, FSEvaluator):\n",
    "    \n",
    "    pass\n",
    "        "
   ]
  },
  {
   "cell_type": "code",
   "execution_count": 443,
   "metadata": {
    "tags": []
   },
   "outputs": [
    {
     "name": "stderr",
     "output_type": "stream",
     "text": [
      "100%|██████████| 699/699 [00:00<00:00, 710.03it/s]\n"
     ]
    },
    {
     "name": "stdout",
     "output_type": "stream",
     "text": [
      "********** OSA Evaluation summary **********\n",
      "OSA MSE: 0.0370878130197525\n",
      "OSA RMSE: 0.19258196651935577\n",
      "OSA R2 score: 0.7871522291866044\n",
      "********************************************\n"
     ]
    },
    {
     "name": "stderr",
     "output_type": "stream",
     "text": [
      "100%|██████████| 699/699 [00:01<00:00, 665.65it/s]\n"
     ]
    },
    {
     "name": "stdout",
     "output_type": "stream",
     "text": [
      "*********** FS Evaluation summary **********\n",
      "FS MSE: 0.05937894433736801\n",
      "FS RMSE: 0.24367795884609222\n",
      "FS R2 score: 0.6592229021636351\n",
      "********************************************\n"
     ]
    }
   ],
   "source": [
    "evaluator = Evaluator()\n",
    "Y_real, Y_pred_OSA = evaluator.evaluate_OSA(dataset, model)\n",
    "Y_real, Y_pred_FS = evaluator.evaluate_FS(dataset, model)"
   ]
  },
  {
   "cell_type": "code",
   "execution_count": 444,
   "metadata": {
    "tags": []
   },
   "outputs": [
    {
     "data": {
      "text/plain": [
       "<matplotlib.legend.Legend at 0x2b6e53db2520>"
      ]
     },
     "execution_count": 444,
     "metadata": {},
     "output_type": "execute_result"
    },
    {
     "data": {
      "image/png": "[encoded data removed]",
      "text/plain": [
       "<Figure size 640x480 with 1 Axes>"
      ]
     },
     "metadata": {},
     "output_type": "display_data"
    }
   ],
   "source": [
    "fig, ax = plt.subplots()\n",
    "ax.plot(Y_real, label='Real')\n",
    "ax.plot(Y_pred_OSA, label='OSA')\n",
    "ax.plot(Y_pred_FS, label='FS')\n",
    "ax.legend()"
   ]
  },
  {
   "cell_type": "code",
   "execution_count": 445,
   "metadata": {},
   "outputs": [
    {
     "name": "stderr",
     "output_type": "stream",
     "text": [
      "100%|██████████| 699/699 [00:00<00:00, 746.75it/s]\n"
     ]
    },
    {
     "name": "stdout",
     "output_type": "stream",
     "text": [
      "********** OSA Evaluation summary **********\n",
      "OSA MSE: 0.03974461182951927\n",
      "OSA RMSE: 0.19936050474643707\n",
      "OSA R2 score: 0.7719048083756661\n",
      "********************************************\n"
     ]
    },
    {
     "name": "stderr",
     "output_type": "stream",
     "text": [
      "100%|██████████| 699/699 [00:01<00:00, 691.96it/s]\n"
     ]
    },
    {
     "name": "stdout",
     "output_type": "stream",
     "text": [
      "*********** FS Evaluation summary **********\n",
      "FS MSE: 0.052397482097148895\n",
      "FS RMSE: 0.22890496253967285\n",
      "FS R2 score: 0.6992896944282208\n",
      "********************************************\n"
     ]
    }
   ],
   "source": [
    "evaluator = Evaluator()\n",
    "Y_real, Y_pred_OSA = evaluator.evaluate_OSA(dataset, best_model)\n",
    "Y_real, Y_pred_FS = evaluator.evaluate_FS(dataset, best_model)"
   ]
  },
  {
   "cell_type": "code",
   "execution_count": 446,
   "metadata": {
    "tags": []
   },
   "outputs": [
    {
     "data": {
      "text/plain": [
       "<matplotlib.legend.Legend at 0x2b6e53d3e460>"
      ]
     },
     "execution_count": 446,
     "metadata": {},
     "output_type": "execute_result"
    },
    {
     "data": {
      "image/png": "[encoded data removed]",
      "text/plain": [
       "<Figure size 640x480 with 1 Axes>"
      ]
     },
     "metadata": {},
     "output_type": "display_data"
    }
   ],
   "source": [
    "fig, ax = plt.subplots()\n",
    "ax.plot(Y_real, label='Real')\n",
    "ax.plot(Y_pred_OSA, label='OSA')\n",
    "ax.plot(Y_pred_FS, label='FS')\n",
    "ax.legend()"
   ]
  },
  {
   "cell_type": "code",
   "execution_count": null,
   "metadata": {
    "tags": []
   },
   "outputs": [],
   "source": []
  }
 ],
 "metadata": {
  "kernelspec": {
   "display_name": "raul_dl",
   "language": "python",
   "name": "raul_dl"
  },
  "language_info": {
   "codemirror_mode": {
    "name": "ipython",
    "version": 3
   },
   "file_extension": ".py",
   "mimetype": "text/x-python",
   "name": "python",
   "nbconvert_exporter": "python",
   "pygments_lexer": "ipython3",
   "version": "3.9.13"
  }
 },
 "nbformat": 4,
 "nbformat_minor": 4
}
