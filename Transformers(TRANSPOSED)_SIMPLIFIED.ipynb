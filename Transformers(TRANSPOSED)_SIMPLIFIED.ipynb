{
 "cells": [
  {
   "cell_type": "code",
   "execution_count": 62,
   "metadata": {
    "tags": []
   },
   "outputs": [
    {
     "name": "stdout",
     "output_type": "stream",
     "text": [
      "Mon Jun 19 15:19:46 2023       \n",
      "+-----------------------------------------------------------------------------+\n",
      "| NVIDIA-SMI 515.43.04    Driver Version: 515.43.04    CUDA Version: 11.7     |\n",
      "|-------------------------------+----------------------+----------------------+\n",
      "| GPU  Name        Persistence-M| Bus-Id        Disp.A | Volatile Uncorr. ECC |\n",
      "| Fan  Temp  Perf  Pwr:Usage/Cap|         Memory-Usage | GPU-Util  Compute M. |\n",
      "|                               |                      |               MIG M. |\n",
      "|===============================+======================+======================|\n",
      "|   0  Tesla V100-SXM2...  Off  | 00000000:15:00.0 Off |                    0 |\n",
      "| N/A   26C    P0    52W / 300W |   1976MiB / 32768MiB |     11%      Default |\n",
      "|                               |                      |                  N/A |\n",
      "+-------------------------------+----------------------+----------------------+\n",
      "                                                                               \n",
      "+-----------------------------------------------------------------------------+\n",
      "| Processes:                                                                  |\n",
      "|  GPU   GI   CI        PID   Type   Process name                  GPU Memory |\n",
      "|        ID   ID                                                   Usage      |\n",
      "|=============================================================================|\n",
      "|    0   N/A  N/A      9790      C   .../venvs/dl_raul/bin/python      923MiB |\n",
      "|    0   N/A  N/A      9927      C   .../venvs/dl_raul/bin/python     1051MiB |\n",
      "+-----------------------------------------------------------------------------+\n"
     ]
    }
   ],
   "source": [
    "import math\n",
    "import json\n",
    "import time\n",
    "import numpy as np\n",
    "import pandas as pd\n",
    "import matplotlib.pyplot as plt\n",
    "from tqdm import tqdm\n",
    "\n",
    "import torch\n",
    "import torch.nn as nn\n",
    "import torch.optim as optim\n",
    "from torch.utils.data import Dataset\n",
    "from torch.utils.data.sampler import SubsetRandomSampler\n",
    "\n",
    "from sklearn.preprocessing import MinMaxScaler, RobustScaler\n",
    "from sklearn.model_selection import train_test_split\n",
    "from sklearn.metrics import mean_squared_error, r2_score\n",
    "\n",
    "!nvidia-smi"
   ]
  },
  {
   "cell_type": "code",
   "execution_count": 63,
   "metadata": {
    "tags": []
   },
   "outputs": [
    {
     "name": "stdout",
     "output_type": "stream",
     "text": [
      "cuda:0\n"
     ]
    }
   ],
   "source": [
    "# Dispositivo onde tensores serão criados, armazenados e processados\n",
    "device = torch.device(\"cuda:0\" if torch.cuda.is_available() else \"cpu\")\n",
    "print(device)\n",
    "# Randon Seed fixa para resultados reprodutíveis\n",
    "seed = 42\n",
    "torch.manual_seed(seed)\n",
    "torch.cuda.manual_seed(seed)\n",
    "np.random.seed(seed)"
   ]
  },
  {
   "cell_type": "markdown",
   "metadata": {},
   "source": [
    "## Data Loader"
   ]
  },
  {
   "cell_type": "code",
   "execution_count": 64,
   "metadata": {
    "tags": []
   },
   "outputs": [],
   "source": [
    "class WellLoader(Dataset):\n",
    "    \n",
    "    def __init__(self, \n",
    "                 path, \n",
    "                 wells, \n",
    "                 var_in, \n",
    "                 var_out,\n",
    "                 normalizing_percentile=90.0,\n",
    "                 normalizing_split=0.2,\n",
    "                 normalizer=RobustScaler,\n",
    "                 max_sequence=16, \n",
    "                 step=1):\n",
    "        \n",
    "        self.path = path\n",
    "        with open(self.path + '/metadata.json', 'r') as metafile:\n",
    "            self.metadata = json.loads(metafile.read())\n",
    "        self.wells = wells\n",
    "        self.var_in = var_in\n",
    "        self.var_out = var_out\n",
    "        self.normalizing_percentile=normalizing_percentile\n",
    "        self.normalizing_split = normalizing_split\n",
    "        self.normalizer = normalizer\n",
    "        self.max_sequence = max_sequence\n",
    "        self.step = step\n",
    "        self.batches_X = None\n",
    "        self.batches_Y = None\n",
    "        self.outputs = None\n",
    "        self.normalizers = []\n",
    "        \n",
    "        indexes = self.get_wells_index(self.wells)\n",
    "        self.load_data_by_index(indexes)\n",
    "        \n",
    "    def get_wells_index(self, wells):\n",
    "        \n",
    "        indexes = []\n",
    "        for well, filt in wells:\n",
    "            indexes.extend([(meta['INDEX'], filt) for meta in self.metadata if meta['WELL'] == well])\n",
    "        return indexes\n",
    "    \n",
    "    def load_data_by_index(self, indexes):\n",
    "        \n",
    "        batches_X = []\n",
    "        batches_Y = []\n",
    "        outputs = []\n",
    "        for index, filt in indexes:\n",
    "            data = pd.read_json(f'{self.path}/{index}.json')#.reset_index()\n",
    "            # Armengue: Por liq vol para preencher o dataset\n",
    "            data['BORE_LIQ_VOL'] = data['BORE_OIL_VOL'] + data['BORE_WAT_VOL']\n",
    "            data = data[self.var_in + self.var_out].dropna().reset_index(drop=True)\n",
    "            X = data.values[filt,:]\n",
    "            Y = data[self.var_out].values[filt,:]\n",
    "            X_base, _, Y_base, _ = train_test_split(X, Y, test_size = self.normalizing_split)\n",
    "            #scaler_X = X_base.max(axis=0, keepdims=True)\n",
    "            #scaler_Y = Y_base.max(axis=0, keepdims=True)\n",
    "            #scaler_X = self.normalizer().fit(X_base)\n",
    "            #scaler_Y = self.normalizer().fit(Y_base)\n",
    "            scaler_X = np.percentile(X_base,self.normalizing_percentile,axis=0,keepdims=True)\n",
    "            scaler_Y = np.percentile(Y_base,self.normalizing_percentile,axis=0,keepdims=True)\n",
    "            self.normalizers.append((scaler_X, scaler_Y))\n",
    "            #X, Y = scaler_X.transform(X), scaler_Y.transform(Y)\n",
    "            X, Y = X / scaler_X, Y / scaler_Y\n",
    "            X, Y = torch.from_numpy(X.astype('float32')), torch.from_numpy(Y.astype('float32'))\n",
    "            output = Y[self.max_sequence::self.step]\n",
    "            #print(Y.shape)\n",
    "            #X = torch.split(X, self.max_sequence, dim= 0)\n",
    "            #Y = torch.split(Y, self.max_sequence, dim= 0)\n",
    "            X = X.unfold(0,self.max_sequence, self.step)\n",
    "            Y = Y.unfold(0,self.max_sequence, self.step)\n",
    "            batches_X.append(X[:-1,:,:])\n",
    "            batches_Y.append(Y[:-1,:,:])\n",
    "            outputs.append(Y[1:,:,:])\n",
    "            #print(X.shape)\n",
    "        self.batches_X = torch.concat(batches_X, axis=0)\n",
    "        self.batches_Y = torch.concat(batches_Y, axis=0)\n",
    "        self.outputs = torch.concat(outputs, axis=0)\n",
    "            \n",
    "    def __len__(self):\n",
    "        \n",
    "        return self.outputs.shape[0]\n",
    "    \n",
    "    def __getitem__(self, idx):\n",
    "                        \n",
    "        srcs = self.batches_X[idx,:,:]\n",
    "        trgts = self.batches_Y[idx,:,:]\n",
    "        output = self.outputs[idx,:,:]\n",
    "        \n",
    "        return srcs.permute(1,0), trgts.permute(1,0), output.permute(1,0)\n",
    "        \n",
    "        \n",
    "                 "
   ]
  },
  {
   "cell_type": "code",
   "execution_count": 65,
   "metadata": {
    "tags": []
   },
   "outputs": [],
   "source": [
    "path = './dataset/volve'\n",
    "wells = [\n",
    "    ('15/9-F-1 C', slice(28, None)),\n",
    "]\n",
    "\n",
    "var_in = [\n",
    "        'AVG_DOWNHOLE_PRESSURE',\n",
    "        'AVG_WHP_P',\n",
    "        'AVG_CHOKE_SIZE_P',\n",
    "        'AVG_WHT_P',\n",
    "        'AVG_DOWNHOLE_TEMPERATURE',\n",
    "]\n",
    "\n",
    "var_out = [\n",
    "        #'BORE_OIL_VOL',\n",
    "        'BORE_LIQ_VOL',\n",
    "        #'BORE_GAS_VOL',\n",
    "        #'BORE_WAT_VOL',\n",
    "]\n",
    "\n",
    "dataset = WellLoader(path, wells, var_in, var_out, max_sequence = 16)"
   ]
  },
  {
   "cell_type": "code",
   "execution_count": 66,
   "metadata": {
    "tags": []
   },
   "outputs": [
    {
     "name": "stdout",
     "output_type": "stream",
     "text": [
      "(tensor([[0.7839, 0.6474, 0.8411, 0.7933, 0.9954, 0.8104],\n",
      "        [0.7913, 0.6511, 0.5181, 0.7699, 0.9934, 0.1569],\n",
      "        [0.7852, 0.6506, 0.8560, 0.7895, 0.9942, 0.8370],\n",
      "        [0.7819, 0.6418, 0.8446, 0.7984, 0.9956, 0.7297],\n",
      "        [0.7851, 0.6445, 0.8347, 0.7827, 0.9950, 0.6819],\n",
      "        [0.7882, 0.6454, 0.8240, 0.7465, 0.9945, 0.6570],\n",
      "        [0.7836, 0.6366, 0.8032, 0.7567, 0.9947, 0.6322],\n",
      "        [0.7847, 0.6338, 0.8237, 0.6687, 0.9944, 0.6597],\n",
      "        [0.7840, 0.6295, 0.8242, 0.6657, 0.9944, 0.6526],\n",
      "        [0.7767, 0.6172, 0.8374, 0.7419, 0.9950, 0.6943],\n",
      "        [0.7645, 0.6002, 0.8495, 0.7407, 0.9961, 0.7404],\n",
      "        [0.7659, 0.5994, 0.8383, 0.7672, 0.9958, 0.6996],\n",
      "        [0.7647, 0.5957, 0.8384, 0.7654, 0.9958, 0.6943],\n",
      "        [0.7644, 0.5937, 0.8274, 0.7188, 0.9957, 0.6597],\n",
      "        [0.7641, 0.5913, 0.8232, 0.7384, 0.9957, 0.6517],\n",
      "        [0.7637, 0.5900, 0.8231, 0.6750, 0.9959, 0.7413]]), tensor([[0.8104],\n",
      "        [0.1569],\n",
      "        [0.8370],\n",
      "        [0.7297],\n",
      "        [0.6819],\n",
      "        [0.6570],\n",
      "        [0.6322],\n",
      "        [0.6597],\n",
      "        [0.6526],\n",
      "        [0.6943],\n",
      "        [0.7404],\n",
      "        [0.6996],\n",
      "        [0.6943],\n",
      "        [0.6597],\n",
      "        [0.6517],\n",
      "        [0.7413]]), tensor([[0.1569],\n",
      "        [0.8370],\n",
      "        [0.7297],\n",
      "        [0.6819],\n",
      "        [0.6570],\n",
      "        [0.6322],\n",
      "        [0.6597],\n",
      "        [0.6526],\n",
      "        [0.6943],\n",
      "        [0.7404],\n",
      "        [0.6996],\n",
      "        [0.6943],\n",
      "        [0.6597],\n",
      "        [0.6517],\n",
      "        [0.7413],\n",
      "        [0.7510]]))\n"
     ]
    }
   ],
   "source": [
    "print(dataset[0])"
   ]
  },
  {
   "cell_type": "code",
   "execution_count": 67,
   "metadata": {
    "tags": []
   },
   "outputs": [],
   "source": [
    "class SubsetSplitter:\n",
    "    \n",
    "    def __init__(self, batch_size, validation_split, test_split, shuffle=False):\n",
    "        \n",
    "        self.batch_size = batch_size\n",
    "        self.validation_split = validation_split\n",
    "        self.test_split = test_split\n",
    "        self.shuffle = shuffle\n",
    "        \n",
    "    def __call__(self, dataset:Dataset):\n",
    "        \n",
    "        dataset_size = len(dataset)\n",
    "        indices = list(range(dataset_size))\n",
    "        validation_split = int(np.floor(self.validation_split * dataset_size))\n",
    "        test_split = int(np.floor(self.test_split * dataset_size))\n",
    "        train_split = dataset_size - validation_split - test_split\n",
    "        # Extracting test independently of others\n",
    "        test_indices = indices[train_split + validation_split:]\n",
    "        indices = indices[:train_split + validation_split]\n",
    "        if self.shuffle :\n",
    "            np.random.shuffle(indices)\n",
    "        train_indices = indices[:train_split]\n",
    "        validation_indices = indices[train_split:]\n",
    "\n",
    "        # Creating PT data samplers and loaders:\n",
    "        train_sampler = SubsetRandomSampler(train_indices)\n",
    "        valid_sampler = SubsetRandomSampler(validation_indices)\n",
    "        test_sampler = SubsetRandomSampler(test_indices)\n",
    "\n",
    "        train_loader = torch.utils.data.DataLoader(dataset, batch_size=self.batch_size, \n",
    "                                                   sampler=train_sampler)\n",
    "        validation_loader = torch.utils.data.DataLoader(dataset, batch_size=self.batch_size,\n",
    "                                                    sampler=valid_sampler)\n",
    "        test_loader = torch.utils.data.DataLoader(dataset, batch_size=self.batch_size,\n",
    "                                                    sampler=test_sampler)\n",
    "        \n",
    "        return train_loader, validation_loader, test_loader"
   ]
  },
  {
   "cell_type": "code",
   "execution_count": 68,
   "metadata": {
    "tags": []
   },
   "outputs": [],
   "source": [
    "splitter = SubsetSplitter(4, 0.1, 0.3, shuffle=False)\n",
    "train_loader, validation_loader, test_loader = splitter(dataset)"
   ]
  },
  {
   "cell_type": "markdown",
   "metadata": {},
   "source": [
    "## Model definition"
   ]
  },
  {
   "cell_type": "code",
   "execution_count": 69,
   "metadata": {},
   "outputs": [
    {
     "data": {
      "text/plain": [
       "tensor([[[0.0000, 0.0000, 0.0000, 1.4286, 0.0000, 1.4286, 0.0000, 1.4286,\n",
       "          0.0000, 0.0000],\n",
       "         [0.0000, 0.0000, 0.0000, 0.0000, 0.0000, 1.4286, 0.0000, 0.0000,\n",
       "          0.0000, 1.4286]]])"
      ]
     },
     "execution_count": 69,
     "metadata": {},
     "output_type": "execute_result"
    }
   ],
   "source": [
    "class PositionalEncoding(nn.Module):\n",
    "    def __init__(self, dim_model, dropout_p, max_len):\n",
    "        super().__init__()\n",
    "        # Modified version from: https://pytorch.org/tutorials/beginner/transformer_tutorial.html\n",
    "        # max_len determines how far the position can have an effect on a token (window)\n",
    "        \n",
    "        # Info\n",
    "        self.dropout = nn.Dropout(dropout_p)\n",
    "        \n",
    "        # Encoding - From formula\n",
    "        pos_encoding = torch.zeros(max_len, dim_model)\n",
    "        positions_list = torch.arange(0, max_len, dtype=torch.float).view(-1, 1) # 0, 1, 2, 3, 4, 5\n",
    "        division_term = torch.exp(torch.arange(0, dim_model, 2).float() * (-math.log(10000.0)) / dim_model) # 1000^(2i/dim_model)\n",
    "        \n",
    "        # PE(pos, 2i) = sin(pos/1000^(2i/dim_model))\n",
    "        pos_encoding[:, 0::2] = torch.sin(positions_list * division_term)\n",
    "        \n",
    "        # PE(pos, 2i + 1) = cos(pos/1000^(2i/dim_model))\n",
    "        pos_encoding[:, 1::2] = torch.cos(positions_list * division_term)\n",
    "        \n",
    "        # Saving buffer (same as parameter without gradients needed)\n",
    "        pos_encoding = pos_encoding.unsqueeze(0).transpose(0, 1)\n",
    "        self.register_buffer(\"pos_encoding\",pos_encoding)\n",
    "        \n",
    "    def forward(self, token_embedding: torch.tensor) -> torch.tensor:\n",
    "        # Residual connection + pos encoding\n",
    "        return self.dropout(token_embedding + self.pos_encoding[:token_embedding.size(0), :])\n",
    "    \n",
    "    \n",
    "positional_encoding = PositionalEncoding(dim_model = 10, dropout_p=0.3, max_len=1200)\n",
    "tensor = torch.zeros((1,2,10))\n",
    "tensor\n",
    "encoded = positional_encoding(tensor)\n",
    "encoded"
   ]
  },
  {
   "cell_type": "code",
   "execution_count": 70,
   "metadata": {},
   "outputs": [],
   "source": [
    "class TSTransformer(nn.Module):\n",
    "    \"\"\"\n",
    "    Model from \"A detailed guide to Pytorch's nn.Transformer() module.\", by\n",
    "    Daniel Melchor: https://medium.com/@danielmelchor/a-detailed-guide-to-pytorchs-nn-transformer-module-c80afbc9ffb1\n",
    "    \"\"\"\n",
    "    # Constructor\n",
    "    def __init__(\n",
    "        self,\n",
    "        num_outputs,\n",
    "        src_dim,\n",
    "        tgt_dim,\n",
    "        src_heads,\n",
    "        tgt_heads,\n",
    "        num_encoder_layers,\n",
    "        num_decoder_layers,\n",
    "        dropout_p,\n",
    "        dim_feedforward =2048,\n",
    "        num_linear_layers=0,\n",
    "        norm_first=False\n",
    "    ):\n",
    "        super().__init__()\n",
    "\n",
    "        # INFO\n",
    "        self.model_type = \"Transformer\"\n",
    "        self.src_dim = src_dim\n",
    "        self.tgt_dim = tgt_dim\n",
    "\n",
    "        # LAYERS\n",
    "        \n",
    "        # MONTANDO O TRANSFORMER\n",
    "        # Encoder\n",
    "        encoder_layer = nn.TransformerEncoderLayer(\n",
    "            d_model=src_dim,\n",
    "            nhead=src_heads,\n",
    "            dim_feedforward=dim_feedforward,\n",
    "            dropout=dropout_p,\n",
    "            batch_first=True,\n",
    "            norm_first=norm_first\n",
    "        )\n",
    "        self.encoder = nn.TransformerEncoder(\n",
    "            encoder_layer = encoder_layer,\n",
    "            num_layers = num_encoder_layers,\n",
    "            norm=None,\n",
    "        )\n",
    "        \n",
    "        # Decoder\n",
    "        decoder_layer = nn.TransformerDecoderLayer(\n",
    "            d_model=tgt_dim,\n",
    "            nhead=tgt_heads,\n",
    "            dim_feedforward=dim_feedforward,\n",
    "            dropout=dropout_p,\n",
    "            batch_first=True,\n",
    "            norm_first=norm_first\n",
    "        )\n",
    "        self.decoder = nn.TransformerDecoder(\n",
    "            decoder_layer = decoder_layer,\n",
    "            num_layers = num_decoder_layers,\n",
    "            norm=None,\n",
    "        )\n",
    "            \n",
    "        # Como encoder e decoder podem ter dimenoes\n",
    "        self.memory_match = nn.Linear(src_dim, tgt_dim)\n",
    "        \n",
    "        self.linear_layers = nn.ModuleList()\n",
    "        for i in range(num_linear_layers):\n",
    "            self.linear_layers.append(nn.Linear(dim_model, dim_model))\n",
    "            self.linear_layers.append(nn.ReLU6())\n",
    "        self.out = nn.Linear(tgt_dim, num_outputs)\n",
    "        \n",
    "        \n",
    "    def forward(self, src, tgt, src_mask=None, tgt_mask=None, src_pad_mask=None, tgt_pad_mask=None, is_causal=False):\n",
    "        # Src size must be (batch_size, src sequence length)\n",
    "        # Tgt size must be (batch_size, tgt sequence length)\n",
    "        \n",
    "        \n",
    "        \n",
    "\n",
    "        # Step1 - Passing source through encoder\n",
    "        memory = self.encoder(src, \n",
    "                              mask=src_mask,\n",
    "                              src_key_padding_mask=src_pad_mask,\n",
    "                              is_causal=is_causal)\n",
    "        \n",
    "        # Step2 - Matching memory sahpe to tgt shape\n",
    "        memory = self.memory_match(memory)\n",
    "        \n",
    "        \n",
    "        # Step3 - Passing tgt and memory through decoder\n",
    "        transformer_out = memory\n",
    "        #transformer_out = self.decoder(tgt, \n",
    "        #                               memory,\n",
    "        #                               tgt_mask=tgt_mask,\n",
    "        #                               memory_mask=src_mask,\n",
    "        #                               tgt_key_padding_mask=tgt_pad_mask,\n",
    "        #                               memory_key_padding_mask=src_pad_mask,\n",
    "        #                              )\n",
    "        \n",
    "        \n",
    "        for linear in self.linear_layers:\n",
    "            transformer_out = linear(transformer_out)\n",
    "        out = transformer_out\n",
    "        #out = torch.add(out, tgt)\n",
    "        #out = torch.concat([out, tgt], axis=-1)\n",
    "        \n",
    "        #recuperando informacao de escala\n",
    "        #out = torch.mul(out, tgt)\n",
    "        #bias = self.bias_layer(tgt)\n",
    "        #out = torch.add(out, bias)\n",
    "        #out = self.out(out)\n",
    "        \n",
    "        \n",
    "        return out\n",
    "      \n",
    "    def get_tgt_mask(self, size) -> torch.tensor:\n",
    "        # Generates a squeare matrix where the each row allows one word more to be seen\n",
    "        mask = torch.tril(torch.ones(size, size) == 1) # Lower triangular matrix\n",
    "        mask = mask.float()\n",
    "        mask = mask.masked_fill(mask == 0,float('-inf')) # Convert zeros to -inf\n",
    "        mask = mask.masked_fill(mask == 1,float(0)) # Convert ones to 0\n",
    "        \n",
    "        # EX for size=5:\n",
    "        # [[0., -inf, -inf, -inf, -inf],\n",
    "        #  [0.,   0., -inf, -inf, -inf],\n",
    "        #  [0.,   0.,   0., -inf, -inf],\n",
    "        #  [0.,   0.,   0.,   0., -inf],\n",
    "        #  [0.,   0.,   0.,   0.,   0.]]\n",
    "        \n",
    "        return mask\n",
    "    \n",
    "    def create_pad_mask(self, matrix: torch.tensor, pad_token: int) -> torch.tensor:\n",
    "        # If matrix = [1,2,3,0,0,0] where pad_token=0, the result mask is\n",
    "        # [False, False, False, True, True, True]\n",
    "        return (matrix == pad_token)"
   ]
  },
  {
   "cell_type": "code",
   "execution_count": 71,
   "metadata": {
    "tags": []
   },
   "outputs": [],
   "source": [
    "class Training:\n",
    "    \n",
    "    def __init__(self, epochs, loss, optimizer, scheduler, path, model_name='Transformer', model_size=8, early_stop=True, patience=5):\n",
    "        \n",
    "        self.loss = loss\n",
    "        self.optimizer = optimizer\n",
    "        self.scheduler = scheduler\n",
    "        self.epochs = epochs\n",
    "        self.path = path\n",
    "        self.model_name = model_name\n",
    "        self.model_size = model_size\n",
    "        self.early_stop_flag = early_stop\n",
    "        self.patience = patience\n",
    "        self.clear_results()\n",
    "        \n",
    "    def clear_results(self):\n",
    "        \n",
    "        self.results = {\n",
    "            'Train':[],\n",
    "            'Validation':[],\n",
    "            'Test':[],\n",
    "        }\n",
    "        \n",
    "    def fit(self, model, train_loader, validation_loader, test_loader):\n",
    "        \n",
    "        self.clear_results()\n",
    "        torch.cuda.empty_cache()\n",
    "        decrease = self.patience\n",
    "        not_improved = 0\n",
    "        \n",
    "        model.to(device)\n",
    "        fit_time = time.time()\n",
    "        \n",
    "        for e in range(self.epochs):\n",
    "            since = time.time()\n",
    "            running_loss = 0\n",
    "            #training loop\n",
    "            model.train()\n",
    "            self.train_loop(model, train_loader)\n",
    "            model.eval()\n",
    "            self.validation_loop(model, validation_loader)\n",
    "            self.test_loop(model, test_loader)\n",
    "            decrease, not_improved = self.early_stopping(validation_loader, decrease)\n",
    "            if not_improved == 1 and self.early_stop_flag:\n",
    "                print('[***] end training ...') \n",
    "                break\n",
    "            loss_per_training_batch = self.results['Train'][-1]\n",
    "            loss_per_validation_batch = self.results['Validation'][-1]\n",
    "            loss_per_test_batch = self.results['Test'][-1]\n",
    "            print(\"Epoch:{}/{}..\".format(e+1, self.epochs),\n",
    "                  \"Train Loss: {:.3f}..\".format(loss_per_training_batch),\n",
    "                  \"Val Loss: {:.3f}..\".format(loss_per_validation_batch),\n",
    "                  \"Test Loss: {:.3f}..\".format(loss_per_test_batch),\n",
    "                  \"Time: {:.2f}m\".format((time.time()-since)/60))\n",
    "        print('Total time: {:.2f} m' .format((time.time()- fit_time)/60))\n",
    "        \n",
    "    def train_loop(self, model, train_loader):\n",
    "        \n",
    "        mask = model.get_tgt_mask(self.model_size).to(device)\n",
    "        running_loss = 0.0\n",
    "        for i, data in enumerate(tqdm(train_loader)):\n",
    "            #training phase\n",
    "            X, y_tgt, y_out = data\n",
    "            X, y_tgt, y_out = X.to(device), y_tgt.to(device), y_out.to(device)\n",
    "            \n",
    "            output = model(X, y_tgt, src_mask=mask, tgt_mask=mask)\n",
    "            #print(X.shape, y_tgt.shape, y_out.shape, output.shape)\n",
    "            loss = self.loss(output, y_out)\n",
    "            #backward\n",
    "            loss.backward()\n",
    "            self.optimizer.step() #update weight          \n",
    "            self.optimizer.zero_grad() #reset gradient\n",
    "            \n",
    "            #step the learning rate\n",
    "            if not self.scheduler is None:\n",
    "                self.scheduler.step()\n",
    "            running_loss += loss.item()\n",
    "        \n",
    "        self.results['Train'].append(running_loss/len(train_loader))\n",
    "    \n",
    "    \n",
    "    def validation_loop(self, model, validation_loader):\n",
    "        \n",
    "        mask = model.get_tgt_mask(self.model_size).to(device)\n",
    "        running_loss = 0.0\n",
    "        with torch.no_grad():\n",
    "            for i, data in enumerate(tqdm(validation_loader)):\n",
    "                #training phase\n",
    "                X, y_tgt, y_out = data\n",
    "                X, y_tgt, y_out = X.to(device), y_tgt.to(device), y_out.to(device)\n",
    "                \n",
    "                output = model(X, y_tgt, src_mask=mask, tgt_mask=mask)\n",
    "                loss = self.loss(output, y_out)\n",
    "                \n",
    "                running_loss += loss.item()\n",
    "        \n",
    "        self.results['Validation'].append(running_loss/len(validation_loader))\n",
    "        \n",
    "    def test_loop(self, model, test_loader):\n",
    "        \n",
    "        mask = model.get_tgt_mask(self.model_size).to(device)\n",
    "        running_loss = 0.0\n",
    "        with torch.no_grad():\n",
    "            for i, data in enumerate(tqdm(test_loader)):\n",
    "                #training phase\n",
    "                X, y_tgt, y_out = data\n",
    "                X, y_tgt, y_out = X.to(device), y_tgt.to(device), y_out.to(device)\n",
    "                \n",
    "                output = model(X, y_tgt, src_mask=mask, tgt_mask=mask)\n",
    "                loss = self.loss(output, y_out)\n",
    "                \n",
    "                running_loss += loss.item()\n",
    "        \n",
    "        self.results['Test'].append(running_loss/len(test_loader))\n",
    "        \n",
    "    def early_stopping(self, validation_loader, decrease):\n",
    "        \n",
    "        loss_per_validation_batch = self.results['Validation'][-1]\n",
    "        min_loss = np.min(self.results['Validation'][:-1] + [np.inf])\n",
    "        if min_loss >= self.results['Validation'][-1]:\n",
    "            print('Loss Decreasing.. {:.3f} >> {:.3f} '.format(min_loss, loss_per_validation_batch))\n",
    "            decrease = self.patience\n",
    "            print('saving model...')\n",
    "            torch.save(model, self.path + f'/{self.model_name}.pt')\n",
    "        else:\n",
    "            decrease -= 1\n",
    "        if decrease < 0:     \n",
    "                not_improved = 1\n",
    "        else:\n",
    "            not_improved = 0\n",
    "        return decrease, not_improved\n",
    "    \n",
    "    def get_best_model(self):\n",
    "        \n",
    "        model = torch.load(self.path + f'/{self.model_name}.pt')\n",
    "        return model\n",
    "            \n",
    "            "
   ]
  },
  {
   "cell_type": "code",
   "execution_count": 72,
   "metadata": {
    "tags": []
   },
   "outputs": [
    {
     "name": "stdout",
     "output_type": "stream",
     "text": [
      "TSTransformer(\n",
      "  (encoder): TransformerEncoder(\n",
      "    (layers): ModuleList(\n",
      "      (0-2): 3 x TransformerEncoderLayer(\n",
      "        (self_attn): MultiheadAttention(\n",
      "          (out_proj): NonDynamicallyQuantizableLinear(in_features=6, out_features=6, bias=True)\n",
      "        )\n",
      "        (linear1): Linear(in_features=6, out_features=24, bias=True)\n",
      "        (dropout): Dropout(p=0.1, inplace=False)\n",
      "        (linear2): Linear(in_features=24, out_features=6, bias=True)\n",
      "        (norm1): LayerNorm((6,), eps=1e-05, elementwise_affine=True)\n",
      "        (norm2): LayerNorm((6,), eps=1e-05, elementwise_affine=True)\n",
      "        (dropout1): Dropout(p=0.1, inplace=False)\n",
      "        (dropout2): Dropout(p=0.1, inplace=False)\n",
      "      )\n",
      "    )\n",
      "  )\n",
      "  (decoder): TransformerDecoder(\n",
      "    (layers): ModuleList(\n",
      "      (0-2): 3 x TransformerDecoderLayer(\n",
      "        (self_attn): MultiheadAttention(\n",
      "          (out_proj): NonDynamicallyQuantizableLinear(in_features=1, out_features=1, bias=True)\n",
      "        )\n",
      "        (multihead_attn): MultiheadAttention(\n",
      "          (out_proj): NonDynamicallyQuantizableLinear(in_features=1, out_features=1, bias=True)\n",
      "        )\n",
      "        (linear1): Linear(in_features=1, out_features=24, bias=True)\n",
      "        (dropout): Dropout(p=0.1, inplace=False)\n",
      "        (linear2): Linear(in_features=24, out_features=1, bias=True)\n",
      "        (norm1): LayerNorm((1,), eps=1e-05, elementwise_affine=True)\n",
      "        (norm2): LayerNorm((1,), eps=1e-05, elementwise_affine=True)\n",
      "        (norm3): LayerNorm((1,), eps=1e-05, elementwise_affine=True)\n",
      "        (dropout1): Dropout(p=0.1, inplace=False)\n",
      "        (dropout2): Dropout(p=0.1, inplace=False)\n",
      "        (dropout3): Dropout(p=0.1, inplace=False)\n",
      "      )\n",
      "    )\n",
      "  )\n",
      "  (memory_match): Linear(in_features=6, out_features=1, bias=True)\n",
      "  (linear_layers): ModuleList()\n",
      "  (out): Linear(in_features=1, out_features=1, bias=True)\n",
      ")\n"
     ]
    }
   ],
   "source": [
    "model = TSTransformer(\n",
    "    num_outputs=1,\n",
    "    src_dim=6,\n",
    "    tgt_dim=1,\n",
    "    src_heads=1,\n",
    "    tgt_heads=1,\n",
    "    num_encoder_layers=3,\n",
    "    num_decoder_layers=3,\n",
    "    dropout_p=0.1,\n",
    "    dim_feedforward =24,\n",
    "    num_linear_layers=0,\n",
    "    norm_first=False,\n",
    ").to(device)\n",
    "\n",
    "print(model)\n",
    "\n",
    "lr_ = 5e-4\n",
    "epoch = 1000\n",
    "weight_decay = 1e-4\n",
    "path = '.'\n",
    "model_name = 'TRANSPOSED-SIMP'\n",
    "\n",
    "loss = torch.nn.MSELoss()\n",
    "#optimizer = torch.optim.Adam(model.parameters(), lr=lr_)\n",
    "#optimizer = torch.optim.SGD(model.parameters(), lr=lr_)\n",
    "optimizer = torch.optim.AdamW(model.parameters(), lr=lr_, weight_decay=weight_decay)\n",
    "sched = None\n",
    "sched = torch.optim.lr_scheduler.OneCycleLR(optimizer, lr_, epochs=epoch,\n",
    "                                            steps_per_epoch=len(train_loader))\n",
    "training = Training(epoch, loss, optimizer, sched, model_name=model_name, model_size = dataset.max_sequence, path=path, early_stop=True, patience=20)"
   ]
  },
  {
   "cell_type": "code",
   "execution_count": 73,
   "metadata": {
    "tags": []
   },
   "outputs": [
    {
     "name": "stderr",
     "output_type": "stream",
     "text": [
      "100%|██████████| 106/106 [00:00<00:00, 153.69it/s]\n",
      "  0%|          | 0/18 [00:00<?, ?it/s]/projetos/c5ef/venvs/dl_raul/lib64/python3.9/site-packages/torch/nn/modules/activation.py:1160: UserWarning: Converting mask without torch.bool dtype to bool; this will negatively affect performance. Prefer to use a boolean mask directly. (Triggered internally at ../aten/src/ATen/native/transformers/attention.cpp:150.)\n",
      "  return torch._native_multi_head_attention(\n",
      "100%|██████████| 18/18 [00:00<00:00, 520.92it/s]\n",
      "100%|██████████| 53/53 [00:00<00:00, 570.42it/s]\n"
     ]
    },
    {
     "name": "stdout",
     "output_type": "stream",
     "text": [
      "Loss Decreasing.. inf >> 0.287 \n",
      "saving model...\n",
      "Epoch:1/1000.. Train Loss: 0.295.. Val Loss: 0.287.. Test Loss: 0.256.. Time: 0.01m\n"
     ]
    },
    {
     "name": "stderr",
     "output_type": "stream",
     "text": [
      "100%|██████████| 106/106 [00:00<00:00, 149.83it/s]\n",
      "100%|██████████| 18/18 [00:00<00:00, 523.07it/s]\n",
      "100%|██████████| 53/53 [00:00<00:00, 538.28it/s]\n"
     ]
    },
    {
     "name": "stdout",
     "output_type": "stream",
     "text": [
      "Loss Decreasing.. 0.287 >> 0.236 \n",
      "saving model...\n",
      "Epoch:2/1000.. Train Loss: 0.226.. Val Loss: 0.236.. Test Loss: 0.210.. Time: 0.01m\n"
     ]
    },
    {
     "name": "stderr",
     "output_type": "stream",
     "text": [
      "100%|██████████| 106/106 [00:00<00:00, 154.49it/s]\n",
      "100%|██████████| 18/18 [00:00<00:00, 526.14it/s]\n",
      "100%|██████████| 53/53 [00:00<00:00, 565.06it/s]\n"
     ]
    },
    {
     "name": "stdout",
     "output_type": "stream",
     "text": [
      "Loss Decreasing.. 0.236 >> 0.218 \n",
      "saving model...\n",
      "Epoch:3/1000.. Train Loss: 0.181.. Val Loss: 0.218.. Test Loss: 0.181.. Time: 0.01m\n"
     ]
    },
    {
     "name": "stderr",
     "output_type": "stream",
     "text": [
      "100%|██████████| 106/106 [00:00<00:00, 150.04it/s]\n",
      "100%|██████████| 18/18 [00:00<00:00, 548.62it/s]\n",
      "100%|██████████| 53/53 [00:00<00:00, 567.64it/s]\n"
     ]
    },
    {
     "name": "stdout",
     "output_type": "stream",
     "text": [
      "Loss Decreasing.. 0.218 >> 0.190 \n",
      "saving model...\n",
      "Epoch:4/1000.. Train Loss: 0.161.. Val Loss: 0.190.. Test Loss: 0.167.. Time: 0.01m\n"
     ]
    },
    {
     "name": "stderr",
     "output_type": "stream",
     "text": [
      "100%|██████████| 106/106 [00:00<00:00, 154.38it/s]\n",
      "100%|██████████| 18/18 [00:00<00:00, 581.03it/s]\n",
      "100%|██████████| 53/53 [00:00<00:00, 558.73it/s]\n"
     ]
    },
    {
     "name": "stdout",
     "output_type": "stream",
     "text": [
      "Loss Decreasing.. 0.190 >> 0.170 \n",
      "saving model...\n",
      "Epoch:5/1000.. Train Loss: 0.148.. Val Loss: 0.170.. Test Loss: 0.152.. Time: 0.01m\n"
     ]
    },
    {
     "name": "stderr",
     "output_type": "stream",
     "text": [
      "100%|██████████| 106/106 [00:00<00:00, 160.31it/s]\n",
      "100%|██████████| 18/18 [00:00<00:00, 484.98it/s]\n",
      "100%|██████████| 53/53 [00:00<00:00, 529.55it/s]\n"
     ]
    },
    {
     "name": "stdout",
     "output_type": "stream",
     "text": [
      "Loss Decreasing.. 0.170 >> 0.152 \n",
      "saving model...\n",
      "Epoch:6/1000.. Train Loss: 0.135.. Val Loss: 0.152.. Test Loss: 0.140.. Time: 0.01m\n"
     ]
    },
    {
     "name": "stderr",
     "output_type": "stream",
     "text": [
      "100%|██████████| 106/106 [00:00<00:00, 159.06it/s]\n",
      "100%|██████████| 18/18 [00:00<00:00, 617.85it/s]\n",
      "100%|██████████| 53/53 [00:00<00:00, 548.06it/s]\n"
     ]
    },
    {
     "name": "stdout",
     "output_type": "stream",
     "text": [
      "Loss Decreasing.. 0.152 >> 0.142 \n",
      "saving model...\n",
      "Epoch:7/1000.. Train Loss: 0.125.. Val Loss: 0.142.. Test Loss: 0.131.. Time: 0.01m\n"
     ]
    },
    {
     "name": "stderr",
     "output_type": "stream",
     "text": [
      "100%|██████████| 106/106 [00:00<00:00, 160.09it/s]\n",
      "100%|██████████| 18/18 [00:00<00:00, 497.06it/s]\n",
      "100%|██████████| 53/53 [00:00<00:00, 583.78it/s]\n"
     ]
    },
    {
     "name": "stdout",
     "output_type": "stream",
     "text": [
      "Epoch:8/1000.. Train Loss: 0.117.. Val Loss: 0.145.. Test Loss: 0.121.. Time: 0.01m\n"
     ]
    },
    {
     "name": "stderr",
     "output_type": "stream",
     "text": [
      "100%|██████████| 106/106 [00:00<00:00, 158.11it/s]\n",
      "100%|██████████| 18/18 [00:00<00:00, 524.89it/s]\n",
      "100%|██████████| 53/53 [00:00<00:00, 558.68it/s]\n"
     ]
    },
    {
     "name": "stdout",
     "output_type": "stream",
     "text": [
      "Loss Decreasing.. 0.142 >> 0.139 \n",
      "saving model...\n",
      "Epoch:9/1000.. Train Loss: 0.109.. Val Loss: 0.139.. Test Loss: 0.114.. Time: 0.01m\n"
     ]
    },
    {
     "name": "stderr",
     "output_type": "stream",
     "text": [
      "100%|██████████| 106/106 [00:00<00:00, 155.62it/s]\n",
      "100%|██████████| 18/18 [00:00<00:00, 517.14it/s]\n",
      "100%|██████████| 53/53 [00:00<00:00, 520.37it/s]\n"
     ]
    },
    {
     "name": "stdout",
     "output_type": "stream",
     "text": [
      "Loss Decreasing.. 0.139 >> 0.120 \n",
      "saving model...\n",
      "Epoch:10/1000.. Train Loss: 0.105.. Val Loss: 0.120.. Test Loss: 0.108.. Time: 0.02m\n"
     ]
    },
    {
     "name": "stderr",
     "output_type": "stream",
     "text": [
      "100%|██████████| 106/106 [00:00<00:00, 157.39it/s]\n",
      "100%|██████████| 18/18 [00:00<00:00, 480.54it/s]\n",
      "100%|██████████| 53/53 [00:00<00:00, 511.01it/s]\n"
     ]
    },
    {
     "name": "stdout",
     "output_type": "stream",
     "text": [
      "Epoch:11/1000.. Train Loss: 0.097.. Val Loss: 0.120.. Test Loss: 0.103.. Time: 0.01m\n"
     ]
    },
    {
     "name": "stderr",
     "output_type": "stream",
     "text": [
      "100%|██████████| 106/106 [00:00<00:00, 150.53it/s]\n",
      "100%|██████████| 18/18 [00:00<00:00, 498.55it/s]\n",
      "100%|██████████| 53/53 [00:00<00:00, 517.82it/s]\n"
     ]
    },
    {
     "name": "stdout",
     "output_type": "stream",
     "text": [
      "Loss Decreasing.. 0.120 >> 0.116 \n",
      "saving model...\n",
      "Epoch:12/1000.. Train Loss: 0.093.. Val Loss: 0.116.. Test Loss: 0.097.. Time: 0.02m\n"
     ]
    },
    {
     "name": "stderr",
     "output_type": "stream",
     "text": [
      "100%|██████████| 106/106 [00:00<00:00, 141.94it/s]\n",
      "100%|██████████| 18/18 [00:00<00:00, 475.89it/s]\n",
      "100%|██████████| 53/53 [00:00<00:00, 567.14it/s]\n"
     ]
    },
    {
     "name": "stdout",
     "output_type": "stream",
     "text": [
      "Loss Decreasing.. 0.116 >> 0.108 \n",
      "saving model...\n",
      "Epoch:13/1000.. Train Loss: 0.089.. Val Loss: 0.108.. Test Loss: 0.091.. Time: 0.02m\n"
     ]
    },
    {
     "name": "stderr",
     "output_type": "stream",
     "text": [
      "100%|██████████| 106/106 [00:00<00:00, 150.42it/s]\n",
      "100%|██████████| 18/18 [00:00<00:00, 598.89it/s]\n",
      "100%|██████████| 53/53 [00:00<00:00, 531.09it/s]\n"
     ]
    },
    {
     "name": "stdout",
     "output_type": "stream",
     "text": [
      "Epoch:14/1000.. Train Loss: 0.083.. Val Loss: 0.111.. Test Loss: 0.087.. Time: 0.01m\n"
     ]
    },
    {
     "name": "stderr",
     "output_type": "stream",
     "text": [
      "100%|██████████| 106/106 [00:00<00:00, 152.81it/s]\n",
      "100%|██████████| 18/18 [00:00<00:00, 559.53it/s]\n",
      "100%|██████████| 53/53 [00:00<00:00, 547.27it/s]\n"
     ]
    },
    {
     "name": "stdout",
     "output_type": "stream",
     "text": [
      "Loss Decreasing.. 0.108 >> 0.100 \n",
      "saving model...\n",
      "Epoch:15/1000.. Train Loss: 0.083.. Val Loss: 0.100.. Test Loss: 0.083.. Time: 0.01m\n"
     ]
    },
    {
     "name": "stderr",
     "output_type": "stream",
     "text": [
      "100%|██████████| 106/106 [00:00<00:00, 153.67it/s]\n",
      "100%|██████████| 18/18 [00:00<00:00, 552.64it/s]\n",
      "100%|██████████| 53/53 [00:00<00:00, 522.59it/s]\n"
     ]
    },
    {
     "name": "stdout",
     "output_type": "stream",
     "text": [
      "Epoch:16/1000.. Train Loss: 0.077.. Val Loss: 0.103.. Test Loss: 0.081.. Time: 0.01m\n"
     ]
    },
    {
     "name": "stderr",
     "output_type": "stream",
     "text": [
      "100%|██████████| 106/106 [00:00<00:00, 164.96it/s]\n",
      "100%|██████████| 18/18 [00:00<00:00, 519.34it/s]\n",
      "100%|██████████| 53/53 [00:00<00:00, 555.46it/s]\n"
     ]
    },
    {
     "name": "stdout",
     "output_type": "stream",
     "text": [
      "Loss Decreasing.. 0.100 >> 0.100 \n",
      "saving model...\n",
      "Epoch:17/1000.. Train Loss: 0.075.. Val Loss: 0.100.. Test Loss: 0.077.. Time: 0.01m\n"
     ]
    },
    {
     "name": "stderr",
     "output_type": "stream",
     "text": [
      "100%|██████████| 106/106 [00:00<00:00, 165.01it/s]\n",
      "100%|██████████| 18/18 [00:00<00:00, 595.13it/s]\n",
      "100%|██████████| 53/53 [00:00<00:00, 552.05it/s]\n"
     ]
    },
    {
     "name": "stdout",
     "output_type": "stream",
     "text": [
      "Loss Decreasing.. 0.100 >> 0.090 \n",
      "saving model...\n",
      "Epoch:18/1000.. Train Loss: 0.071.. Val Loss: 0.090.. Test Loss: 0.074.. Time: 0.01m\n"
     ]
    },
    {
     "name": "stderr",
     "output_type": "stream",
     "text": [
      "100%|██████████| 106/106 [00:00<00:00, 145.09it/s]\n",
      "100%|██████████| 18/18 [00:00<00:00, 574.82it/s]\n",
      "100%|██████████| 53/53 [00:00<00:00, 441.10it/s]\n"
     ]
    },
    {
     "name": "stdout",
     "output_type": "stream",
     "text": [
      "Loss Decreasing.. 0.090 >> 0.086 \n",
      "saving model...\n",
      "Epoch:19/1000.. Train Loss: 0.070.. Val Loss: 0.086.. Test Loss: 0.071.. Time: 0.02m\n"
     ]
    },
    {
     "name": "stderr",
     "output_type": "stream",
     "text": [
      "100%|██████████| 106/106 [00:00<00:00, 159.93it/s]\n",
      "100%|██████████| 18/18 [00:00<00:00, 494.17it/s]\n",
      "100%|██████████| 53/53 [00:00<00:00, 546.43it/s]\n"
     ]
    },
    {
     "name": "stdout",
     "output_type": "stream",
     "text": [
      "Epoch:20/1000.. Train Loss: 0.066.. Val Loss: 0.089.. Test Loss: 0.068.. Time: 0.01m\n"
     ]
    },
    {
     "name": "stderr",
     "output_type": "stream",
     "text": [
      "100%|██████████| 106/106 [00:00<00:00, 162.79it/s]\n",
      "100%|██████████| 18/18 [00:00<00:00, 556.23it/s]\n",
      "100%|██████████| 53/53 [00:00<00:00, 561.52it/s]\n"
     ]
    },
    {
     "name": "stdout",
     "output_type": "stream",
     "text": [
      "Loss Decreasing.. 0.086 >> 0.085 \n",
      "saving model...\n",
      "Epoch:21/1000.. Train Loss: 0.065.. Val Loss: 0.085.. Test Loss: 0.066.. Time: 0.01m\n"
     ]
    },
    {
     "name": "stderr",
     "output_type": "stream",
     "text": [
      "100%|██████████| 106/106 [00:00<00:00, 159.00it/s]\n",
      "100%|██████████| 18/18 [00:00<00:00, 610.61it/s]\n",
      "100%|██████████| 53/53 [00:00<00:00, 542.15it/s]\n"
     ]
    },
    {
     "name": "stdout",
     "output_type": "stream",
     "text": [
      "Loss Decreasing.. 0.085 >> 0.080 \n",
      "saving model...\n",
      "Epoch:22/1000.. Train Loss: 0.061.. Val Loss: 0.080.. Test Loss: 0.065.. Time: 0.01m\n"
     ]
    },
    {
     "name": "stderr",
     "output_type": "stream",
     "text": [
      "100%|██████████| 106/106 [00:00<00:00, 156.48it/s]\n",
      "100%|██████████| 18/18 [00:00<00:00, 562.75it/s]\n",
      "100%|██████████| 53/53 [00:00<00:00, 530.77it/s]\n"
     ]
    },
    {
     "name": "stdout",
     "output_type": "stream",
     "text": [
      "Epoch:23/1000.. Train Loss: 0.060.. Val Loss: 0.081.. Test Loss: 0.062.. Time: 0.01m\n"
     ]
    },
    {
     "name": "stderr",
     "output_type": "stream",
     "text": [
      "100%|██████████| 106/106 [00:00<00:00, 158.54it/s]\n",
      "100%|██████████| 18/18 [00:00<00:00, 506.60it/s]\n",
      "100%|██████████| 53/53 [00:00<00:00, 533.15it/s]\n"
     ]
    },
    {
     "name": "stdout",
     "output_type": "stream",
     "text": [
      "Loss Decreasing.. 0.080 >> 0.078 \n",
      "saving model...\n",
      "Epoch:24/1000.. Train Loss: 0.061.. Val Loss: 0.078.. Test Loss: 0.061.. Time: 0.01m\n"
     ]
    },
    {
     "name": "stderr",
     "output_type": "stream",
     "text": [
      "100%|██████████| 106/106 [00:00<00:00, 159.49it/s]\n",
      "100%|██████████| 18/18 [00:00<00:00, 483.19it/s]\n",
      "100%|██████████| 53/53 [00:00<00:00, 535.75it/s]\n"
     ]
    },
    {
     "name": "stdout",
     "output_type": "stream",
     "text": [
      "Loss Decreasing.. 0.078 >> 0.076 \n",
      "saving model...\n",
      "Epoch:25/1000.. Train Loss: 0.058.. Val Loss: 0.076.. Test Loss: 0.060.. Time: 0.01m\n"
     ]
    },
    {
     "name": "stderr",
     "output_type": "stream",
     "text": [
      "100%|██████████| 106/106 [00:00<00:00, 162.56it/s]\n",
      "100%|██████████| 18/18 [00:00<00:00, 483.06it/s]\n",
      "100%|██████████| 53/53 [00:00<00:00, 554.95it/s]\n"
     ]
    },
    {
     "name": "stdout",
     "output_type": "stream",
     "text": [
      "Epoch:26/1000.. Train Loss: 0.055.. Val Loss: 0.078.. Test Loss: 0.059.. Time: 0.01m\n"
     ]
    },
    {
     "name": "stderr",
     "output_type": "stream",
     "text": [
      "100%|██████████| 106/106 [00:00<00:00, 154.78it/s]\n",
      "100%|██████████| 18/18 [00:00<00:00, 717.92it/s]\n",
      "100%|██████████| 53/53 [00:00<00:00, 539.69it/s]\n"
     ]
    },
    {
     "name": "stdout",
     "output_type": "stream",
     "text": [
      "Epoch:27/1000.. Train Loss: 0.056.. Val Loss: 0.081.. Test Loss: 0.058.. Time: 0.01m\n"
     ]
    },
    {
     "name": "stderr",
     "output_type": "stream",
     "text": [
      "100%|██████████| 106/106 [00:00<00:00, 149.30it/s]\n",
      "100%|██████████| 18/18 [00:00<00:00, 516.30it/s]\n",
      "100%|██████████| 53/53 [00:00<00:00, 553.24it/s]\n"
     ]
    },
    {
     "name": "stdout",
     "output_type": "stream",
     "text": [
      "Epoch:28/1000.. Train Loss: 0.054.. Val Loss: 0.076.. Test Loss: 0.056.. Time: 0.02m\n"
     ]
    },
    {
     "name": "stderr",
     "output_type": "stream",
     "text": [
      "100%|██████████| 106/106 [00:00<00:00, 149.90it/s]\n",
      "100%|██████████| 18/18 [00:00<00:00, 508.87it/s]\n",
      "100%|██████████| 53/53 [00:00<00:00, 553.97it/s]\n"
     ]
    },
    {
     "name": "stdout",
     "output_type": "stream",
     "text": [
      "Loss Decreasing.. 0.076 >> 0.074 \n",
      "saving model...\n",
      "Epoch:29/1000.. Train Loss: 0.055.. Val Loss: 0.074.. Test Loss: 0.056.. Time: 0.01m\n"
     ]
    },
    {
     "name": "stderr",
     "output_type": "stream",
     "text": [
      "100%|██████████| 106/106 [00:00<00:00, 159.37it/s]\n",
      "100%|██████████| 18/18 [00:00<00:00, 562.88it/s]\n",
      "100%|██████████| 53/53 [00:00<00:00, 548.38it/s]\n"
     ]
    },
    {
     "name": "stdout",
     "output_type": "stream",
     "text": [
      "Loss Decreasing.. 0.074 >> 0.073 \n",
      "saving model...\n",
      "Epoch:30/1000.. Train Loss: 0.052.. Val Loss: 0.073.. Test Loss: 0.055.. Time: 0.01m\n"
     ]
    },
    {
     "name": "stderr",
     "output_type": "stream",
     "text": [
      "100%|██████████| 106/106 [00:00<00:00, 160.24it/s]\n",
      "100%|██████████| 18/18 [00:00<00:00, 507.67it/s]\n",
      "100%|██████████| 53/53 [00:00<00:00, 581.15it/s]\n"
     ]
    },
    {
     "name": "stdout",
     "output_type": "stream",
     "text": [
      "Epoch:31/1000.. Train Loss: 0.051.. Val Loss: 0.076.. Test Loss: 0.054.. Time: 0.01m\n"
     ]
    },
    {
     "name": "stderr",
     "output_type": "stream",
     "text": [
      "100%|██████████| 106/106 [00:00<00:00, 154.26it/s]\n",
      "100%|██████████| 18/18 [00:00<00:00, 587.94it/s]\n",
      "100%|██████████| 53/53 [00:00<00:00, 548.98it/s]\n"
     ]
    },
    {
     "name": "stdout",
     "output_type": "stream",
     "text": [
      "Epoch:32/1000.. Train Loss: 0.050.. Val Loss: 0.073.. Test Loss: 0.053.. Time: 0.01m\n"
     ]
    },
    {
     "name": "stderr",
     "output_type": "stream",
     "text": [
      "100%|██████████| 106/106 [00:00<00:00, 157.53it/s]\n",
      "100%|██████████| 18/18 [00:00<00:00, 522.15it/s]\n",
      "100%|██████████| 53/53 [00:00<00:00, 546.15it/s]\n"
     ]
    },
    {
     "name": "stdout",
     "output_type": "stream",
     "text": [
      "Loss Decreasing.. 0.073 >> 0.069 \n",
      "saving model...\n",
      "Epoch:33/1000.. Train Loss: 0.050.. Val Loss: 0.069.. Test Loss: 0.052.. Time: 0.01m\n"
     ]
    },
    {
     "name": "stderr",
     "output_type": "stream",
     "text": [
      "100%|██████████| 106/106 [00:00<00:00, 155.93it/s]\n",
      "100%|██████████| 18/18 [00:00<00:00, 510.06it/s]\n",
      "100%|██████████| 53/53 [00:00<00:00, 546.04it/s]\n"
     ]
    },
    {
     "name": "stdout",
     "output_type": "stream",
     "text": [
      "Loss Decreasing.. 0.069 >> 0.068 \n",
      "saving model...\n",
      "Epoch:34/1000.. Train Loss: 0.049.. Val Loss: 0.068.. Test Loss: 0.052.. Time: 0.01m\n"
     ]
    },
    {
     "name": "stderr",
     "output_type": "stream",
     "text": [
      "100%|██████████| 106/106 [00:00<00:00, 159.43it/s]\n",
      "100%|██████████| 18/18 [00:00<00:00, 517.61it/s]\n",
      "100%|██████████| 53/53 [00:00<00:00, 550.56it/s]\n"
     ]
    },
    {
     "name": "stdout",
     "output_type": "stream",
     "text": [
      "Loss Decreasing.. 0.068 >> 0.068 \n",
      "saving model...\n",
      "Epoch:35/1000.. Train Loss: 0.048.. Val Loss: 0.068.. Test Loss: 0.051.. Time: 0.01m\n"
     ]
    },
    {
     "name": "stderr",
     "output_type": "stream",
     "text": [
      "100%|██████████| 106/106 [00:00<00:00, 151.42it/s]\n",
      "100%|██████████| 18/18 [00:00<00:00, 531.16it/s]\n",
      "100%|██████████| 53/53 [00:00<00:00, 544.58it/s]\n"
     ]
    },
    {
     "name": "stdout",
     "output_type": "stream",
     "text": [
      "Epoch:36/1000.. Train Loss: 0.048.. Val Loss: 0.073.. Test Loss: 0.051.. Time: 0.01m\n"
     ]
    },
    {
     "name": "stderr",
     "output_type": "stream",
     "text": [
      "100%|██████████| 106/106 [00:00<00:00, 153.63it/s]\n",
      "100%|██████████| 18/18 [00:00<00:00, 535.48it/s]\n",
      "100%|██████████| 53/53 [00:00<00:00, 557.25it/s]\n"
     ]
    },
    {
     "name": "stdout",
     "output_type": "stream",
     "text": [
      "Loss Decreasing.. 0.068 >> 0.067 \n",
      "saving model...\n",
      "Epoch:37/1000.. Train Loss: 0.046.. Val Loss: 0.067.. Test Loss: 0.051.. Time: 0.01m\n"
     ]
    },
    {
     "name": "stderr",
     "output_type": "stream",
     "text": [
      "100%|██████████| 106/106 [00:00<00:00, 159.83it/s]\n",
      "100%|██████████| 18/18 [00:00<00:00, 523.64it/s]\n",
      "100%|██████████| 53/53 [00:00<00:00, 558.96it/s]\n"
     ]
    },
    {
     "name": "stdout",
     "output_type": "stream",
     "text": [
      "Epoch:38/1000.. Train Loss: 0.045.. Val Loss: 0.067.. Test Loss: 0.049.. Time: 0.01m\n"
     ]
    },
    {
     "name": "stderr",
     "output_type": "stream",
     "text": [
      "100%|██████████| 106/106 [00:00<00:00, 158.93it/s]\n",
      "100%|██████████| 18/18 [00:00<00:00, 584.64it/s]\n",
      "100%|██████████| 53/53 [00:00<00:00, 563.12it/s]\n"
     ]
    },
    {
     "name": "stdout",
     "output_type": "stream",
     "text": [
      "Epoch:39/1000.. Train Loss: 0.046.. Val Loss: 0.074.. Test Loss: 0.050.. Time: 0.01m\n"
     ]
    },
    {
     "name": "stderr",
     "output_type": "stream",
     "text": [
      "100%|██████████| 106/106 [00:00<00:00, 156.75it/s]\n",
      "100%|██████████| 18/18 [00:00<00:00, 587.29it/s]\n",
      "100%|██████████| 53/53 [00:00<00:00, 548.40it/s]\n"
     ]
    },
    {
     "name": "stdout",
     "output_type": "stream",
     "text": [
      "Epoch:40/1000.. Train Loss: 0.045.. Val Loss: 0.069.. Test Loss: 0.050.. Time: 0.01m\n"
     ]
    },
    {
     "name": "stderr",
     "output_type": "stream",
     "text": [
      "100%|██████████| 106/106 [00:00<00:00, 140.14it/s]\n",
      "100%|██████████| 18/18 [00:00<00:00, 594.18it/s]\n",
      "100%|██████████| 53/53 [00:00<00:00, 537.29it/s]\n"
     ]
    },
    {
     "name": "stdout",
     "output_type": "stream",
     "text": [
      "Loss Decreasing.. 0.067 >> 0.066 \n",
      "saving model...\n",
      "Epoch:41/1000.. Train Loss: 0.044.. Val Loss: 0.066.. Test Loss: 0.049.. Time: 0.02m\n"
     ]
    },
    {
     "name": "stderr",
     "output_type": "stream",
     "text": [
      "100%|██████████| 106/106 [00:00<00:00, 158.48it/s]\n",
      "100%|██████████| 18/18 [00:00<00:00, 598.21it/s]\n",
      "100%|██████████| 53/53 [00:00<00:00, 536.65it/s]\n"
     ]
    },
    {
     "name": "stdout",
     "output_type": "stream",
     "text": [
      "Epoch:42/1000.. Train Loss: 0.043.. Val Loss: 0.071.. Test Loss: 0.050.. Time: 0.01m\n"
     ]
    },
    {
     "name": "stderr",
     "output_type": "stream",
     "text": [
      "100%|██████████| 106/106 [00:00<00:00, 158.49it/s]\n",
      "100%|██████████| 18/18 [00:00<00:00, 601.86it/s]\n",
      "100%|██████████| 53/53 [00:00<00:00, 553.84it/s]\n"
     ]
    },
    {
     "name": "stdout",
     "output_type": "stream",
     "text": [
      "Epoch:43/1000.. Train Loss: 0.043.. Val Loss: 0.069.. Test Loss: 0.048.. Time: 0.01m\n"
     ]
    },
    {
     "name": "stderr",
     "output_type": "stream",
     "text": [
      "100%|██████████| 106/106 [00:00<00:00, 154.05it/s]\n",
      "100%|██████████| 18/18 [00:00<00:00, 488.11it/s]\n",
      "100%|██████████| 53/53 [00:00<00:00, 561.24it/s]\n"
     ]
    },
    {
     "name": "stdout",
     "output_type": "stream",
     "text": [
      "Epoch:44/1000.. Train Loss: 0.043.. Val Loss: 0.071.. Test Loss: 0.048.. Time: 0.01m\n"
     ]
    },
    {
     "name": "stderr",
     "output_type": "stream",
     "text": [
      "100%|██████████| 106/106 [00:00<00:00, 153.17it/s]\n",
      "100%|██████████| 18/18 [00:00<00:00, 512.45it/s]\n",
      "100%|██████████| 53/53 [00:00<00:00, 553.56it/s]\n"
     ]
    },
    {
     "name": "stdout",
     "output_type": "stream",
     "text": [
      "Loss Decreasing.. 0.066 >> 0.065 \n",
      "saving model...\n",
      "Epoch:45/1000.. Train Loss: 0.042.. Val Loss: 0.065.. Test Loss: 0.049.. Time: 0.01m\n"
     ]
    },
    {
     "name": "stderr",
     "output_type": "stream",
     "text": [
      "100%|██████████| 106/106 [00:00<00:00, 157.44it/s]\n",
      "100%|██████████| 18/18 [00:00<00:00, 565.97it/s]\n",
      "100%|██████████| 53/53 [00:00<00:00, 549.76it/s]\n"
     ]
    },
    {
     "name": "stdout",
     "output_type": "stream",
     "text": [
      "Epoch:46/1000.. Train Loss: 0.043.. Val Loss: 0.070.. Test Loss: 0.048.. Time: 0.01m\n"
     ]
    },
    {
     "name": "stderr",
     "output_type": "stream",
     "text": [
      "100%|██████████| 106/106 [00:00<00:00, 153.21it/s]\n",
      "100%|██████████| 18/18 [00:00<00:00, 516.37it/s]\n",
      "100%|██████████| 53/53 [00:00<00:00, 523.99it/s]\n"
     ]
    },
    {
     "name": "stdout",
     "output_type": "stream",
     "text": [
      "Loss Decreasing.. 0.065 >> 0.064 \n",
      "saving model...\n",
      "Epoch:47/1000.. Train Loss: 0.042.. Val Loss: 0.064.. Test Loss: 0.048.. Time: 0.01m\n"
     ]
    },
    {
     "name": "stderr",
     "output_type": "stream",
     "text": [
      "100%|██████████| 106/106 [00:00<00:00, 156.26it/s]\n",
      "100%|██████████| 18/18 [00:00<00:00, 500.98it/s]\n",
      "100%|██████████| 53/53 [00:00<00:00, 518.21it/s]\n"
     ]
    },
    {
     "name": "stdout",
     "output_type": "stream",
     "text": [
      "Epoch:48/1000.. Train Loss: 0.042.. Val Loss: 0.068.. Test Loss: 0.047.. Time: 0.01m\n"
     ]
    },
    {
     "name": "stderr",
     "output_type": "stream",
     "text": [
      "100%|██████████| 106/106 [00:00<00:00, 159.94it/s]\n",
      "100%|██████████| 18/18 [00:00<00:00, 531.71it/s]\n",
      "100%|██████████| 53/53 [00:00<00:00, 534.22it/s]\n"
     ]
    },
    {
     "name": "stdout",
     "output_type": "stream",
     "text": [
      "Epoch:49/1000.. Train Loss: 0.041.. Val Loss: 0.065.. Test Loss: 0.048.. Time: 0.01m\n"
     ]
    },
    {
     "name": "stderr",
     "output_type": "stream",
     "text": [
      "100%|██████████| 106/106 [00:00<00:00, 149.88it/s]\n",
      "100%|██████████| 18/18 [00:00<00:00, 521.49it/s]\n",
      "100%|██████████| 53/53 [00:00<00:00, 459.38it/s]\n"
     ]
    },
    {
     "name": "stdout",
     "output_type": "stream",
     "text": [
      "Epoch:50/1000.. Train Loss: 0.042.. Val Loss: 0.069.. Test Loss: 0.047.. Time: 0.02m\n"
     ]
    },
    {
     "name": "stderr",
     "output_type": "stream",
     "text": [
      "100%|██████████| 106/106 [00:00<00:00, 160.28it/s]\n",
      "100%|██████████| 18/18 [00:00<00:00, 509.54it/s]\n",
      "100%|██████████| 53/53 [00:00<00:00, 552.34it/s]\n"
     ]
    },
    {
     "name": "stdout",
     "output_type": "stream",
     "text": [
      "Epoch:51/1000.. Train Loss: 0.040.. Val Loss: 0.069.. Test Loss: 0.047.. Time: 0.01m\n"
     ]
    },
    {
     "name": "stderr",
     "output_type": "stream",
     "text": [
      "100%|██████████| 106/106 [00:00<00:00, 159.73it/s]\n",
      "100%|██████████| 18/18 [00:00<00:00, 533.62it/s]\n",
      "100%|██████████| 53/53 [00:00<00:00, 561.36it/s]\n"
     ]
    },
    {
     "name": "stdout",
     "output_type": "stream",
     "text": [
      "Epoch:52/1000.. Train Loss: 0.040.. Val Loss: 0.068.. Test Loss: 0.047.. Time: 0.01m\n"
     ]
    },
    {
     "name": "stderr",
     "output_type": "stream",
     "text": [
      "100%|██████████| 106/106 [00:00<00:00, 155.56it/s]\n",
      "100%|██████████| 18/18 [00:00<00:00, 568.98it/s]\n",
      "100%|██████████| 53/53 [00:00<00:00, 554.40it/s]\n"
     ]
    },
    {
     "name": "stdout",
     "output_type": "stream",
     "text": [
      "Epoch:53/1000.. Train Loss: 0.039.. Val Loss: 0.071.. Test Loss: 0.047.. Time: 0.01m\n"
     ]
    },
    {
     "name": "stderr",
     "output_type": "stream",
     "text": [
      "100%|██████████| 106/106 [00:00<00:00, 156.44it/s]\n",
      "100%|██████████| 18/18 [00:00<00:00, 529.49it/s]\n",
      "100%|██████████| 53/53 [00:00<00:00, 565.39it/s]\n"
     ]
    },
    {
     "name": "stdout",
     "output_type": "stream",
     "text": [
      "Loss Decreasing.. 0.064 >> 0.064 \n",
      "saving model...\n",
      "Epoch:54/1000.. Train Loss: 0.039.. Val Loss: 0.064.. Test Loss: 0.047.. Time: 0.01m\n"
     ]
    },
    {
     "name": "stderr",
     "output_type": "stream",
     "text": [
      "100%|██████████| 106/106 [00:00<00:00, 148.09it/s]\n",
      "100%|██████████| 18/18 [00:00<00:00, 497.03it/s]\n",
      "100%|██████████| 53/53 [00:00<00:00, 546.94it/s]\n"
     ]
    },
    {
     "name": "stdout",
     "output_type": "stream",
     "text": [
      "Epoch:55/1000.. Train Loss: 0.039.. Val Loss: 0.068.. Test Loss: 0.047.. Time: 0.01m\n"
     ]
    },
    {
     "name": "stderr",
     "output_type": "stream",
     "text": [
      "100%|██████████| 106/106 [00:00<00:00, 146.65it/s]\n",
      "100%|██████████| 18/18 [00:00<00:00, 567.57it/s]\n",
      "100%|██████████| 53/53 [00:00<00:00, 558.10it/s]\n"
     ]
    },
    {
     "name": "stdout",
     "output_type": "stream",
     "text": [
      "Epoch:56/1000.. Train Loss: 0.039.. Val Loss: 0.064.. Test Loss: 0.047.. Time: 0.01m\n"
     ]
    },
    {
     "name": "stderr",
     "output_type": "stream",
     "text": [
      "100%|██████████| 106/106 [00:00<00:00, 158.70it/s]\n",
      "100%|██████████| 18/18 [00:00<00:00, 591.34it/s]\n",
      "100%|██████████| 53/53 [00:00<00:00, 542.10it/s]\n"
     ]
    },
    {
     "name": "stdout",
     "output_type": "stream",
     "text": [
      "Loss Decreasing.. 0.064 >> 0.063 \n",
      "saving model...\n",
      "Epoch:57/1000.. Train Loss: 0.038.. Val Loss: 0.063.. Test Loss: 0.046.. Time: 0.01m\n"
     ]
    },
    {
     "name": "stderr",
     "output_type": "stream",
     "text": [
      "100%|██████████| 106/106 [00:00<00:00, 158.47it/s]\n",
      "100%|██████████| 18/18 [00:00<00:00, 593.22it/s]\n",
      "100%|██████████| 53/53 [00:00<00:00, 551.14it/s]\n"
     ]
    },
    {
     "name": "stdout",
     "output_type": "stream",
     "text": [
      "Epoch:58/1000.. Train Loss: 0.038.. Val Loss: 0.067.. Test Loss: 0.047.. Time: 0.01m\n"
     ]
    },
    {
     "name": "stderr",
     "output_type": "stream",
     "text": [
      "100%|██████████| 106/106 [00:00<00:00, 156.98it/s]\n",
      "100%|██████████| 18/18 [00:00<00:00, 491.76it/s]\n",
      "100%|██████████| 53/53 [00:00<00:00, 558.10it/s]\n"
     ]
    },
    {
     "name": "stdout",
     "output_type": "stream",
     "text": [
      "Epoch:59/1000.. Train Loss: 0.037.. Val Loss: 0.064.. Test Loss: 0.046.. Time: 0.01m\n"
     ]
    },
    {
     "name": "stderr",
     "output_type": "stream",
     "text": [
      "100%|██████████| 106/106 [00:00<00:00, 146.39it/s]\n",
      "100%|██████████| 18/18 [00:00<00:00, 510.14it/s]\n",
      "100%|██████████| 53/53 [00:00<00:00, 541.25it/s]\n"
     ]
    },
    {
     "name": "stdout",
     "output_type": "stream",
     "text": [
      "Epoch:60/1000.. Train Loss: 0.037.. Val Loss: 0.065.. Test Loss: 0.047.. Time: 0.02m\n"
     ]
    },
    {
     "name": "stderr",
     "output_type": "stream",
     "text": [
      "100%|██████████| 106/106 [00:00<00:00, 156.40it/s]\n",
      "100%|██████████| 18/18 [00:00<00:00, 506.80it/s]\n",
      "100%|██████████| 53/53 [00:00<00:00, 546.29it/s]\n"
     ]
    },
    {
     "name": "stdout",
     "output_type": "stream",
     "text": [
      "Epoch:61/1000.. Train Loss: 0.037.. Val Loss: 0.064.. Test Loss: 0.047.. Time: 0.01m\n"
     ]
    },
    {
     "name": "stderr",
     "output_type": "stream",
     "text": [
      "100%|██████████| 106/106 [00:00<00:00, 155.75it/s]\n",
      "100%|██████████| 18/18 [00:00<00:00, 503.66it/s]\n",
      "100%|██████████| 53/53 [00:00<00:00, 557.39it/s]\n"
     ]
    },
    {
     "name": "stdout",
     "output_type": "stream",
     "text": [
      "Epoch:62/1000.. Train Loss: 0.037.. Val Loss: 0.063.. Test Loss: 0.047.. Time: 0.01m\n"
     ]
    },
    {
     "name": "stderr",
     "output_type": "stream",
     "text": [
      "100%|██████████| 106/106 [00:00<00:00, 155.18it/s]\n",
      "100%|██████████| 18/18 [00:00<00:00, 542.93it/s]\n",
      "100%|██████████| 53/53 [00:00<00:00, 562.67it/s]\n"
     ]
    },
    {
     "name": "stdout",
     "output_type": "stream",
     "text": [
      "Epoch:63/1000.. Train Loss: 0.037.. Val Loss: 0.065.. Test Loss: 0.047.. Time: 0.01m\n"
     ]
    },
    {
     "name": "stderr",
     "output_type": "stream",
     "text": [
      "100%|██████████| 106/106 [00:00<00:00, 155.93it/s]\n",
      "100%|██████████| 18/18 [00:00<00:00, 508.93it/s]\n",
      "100%|██████████| 53/53 [00:00<00:00, 549.35it/s]\n"
     ]
    },
    {
     "name": "stdout",
     "output_type": "stream",
     "text": [
      "Epoch:64/1000.. Train Loss: 0.036.. Val Loss: 0.067.. Test Loss: 0.047.. Time: 0.01m\n"
     ]
    },
    {
     "name": "stderr",
     "output_type": "stream",
     "text": [
      "100%|██████████| 106/106 [00:00<00:00, 157.97it/s]\n",
      "100%|██████████| 18/18 [00:00<00:00, 517.16it/s]\n",
      "100%|██████████| 53/53 [00:00<00:00, 551.33it/s]\n"
     ]
    },
    {
     "name": "stdout",
     "output_type": "stream",
     "text": [
      "Epoch:65/1000.. Train Loss: 0.036.. Val Loss: 0.068.. Test Loss: 0.048.. Time: 0.01m\n"
     ]
    },
    {
     "name": "stderr",
     "output_type": "stream",
     "text": [
      "100%|██████████| 106/106 [00:00<00:00, 156.45it/s]\n",
      "100%|██████████| 18/18 [00:00<00:00, 489.13it/s]\n",
      "100%|██████████| 53/53 [00:00<00:00, 543.02it/s]\n"
     ]
    },
    {
     "name": "stdout",
     "output_type": "stream",
     "text": [
      "Epoch:66/1000.. Train Loss: 0.036.. Val Loss: 0.065.. Test Loss: 0.047.. Time: 0.01m\n"
     ]
    },
    {
     "name": "stderr",
     "output_type": "stream",
     "text": [
      "100%|██████████| 106/106 [00:00<00:00, 158.57it/s]\n",
      "100%|██████████| 18/18 [00:00<00:00, 520.52it/s]\n",
      "100%|██████████| 53/53 [00:00<00:00, 561.47it/s]\n"
     ]
    },
    {
     "name": "stdout",
     "output_type": "stream",
     "text": [
      "Epoch:67/1000.. Train Loss: 0.036.. Val Loss: 0.068.. Test Loss: 0.047.. Time: 0.01m\n"
     ]
    },
    {
     "name": "stderr",
     "output_type": "stream",
     "text": [
      "100%|██████████| 106/106 [00:00<00:00, 144.14it/s]\n",
      "100%|██████████| 18/18 [00:00<00:00, 580.75it/s]\n",
      "100%|██████████| 53/53 [00:00<00:00, 573.09it/s]\n"
     ]
    },
    {
     "name": "stdout",
     "output_type": "stream",
     "text": [
      "Epoch:68/1000.. Train Loss: 0.035.. Val Loss: 0.070.. Test Loss: 0.046.. Time: 0.02m\n"
     ]
    },
    {
     "name": "stderr",
     "output_type": "stream",
     "text": [
      "100%|██████████| 106/106 [00:00<00:00, 159.27it/s]\n",
      "100%|██████████| 18/18 [00:00<00:00, 603.63it/s]\n",
      "100%|██████████| 53/53 [00:00<00:00, 555.76it/s]\n"
     ]
    },
    {
     "name": "stdout",
     "output_type": "stream",
     "text": [
      "Epoch:69/1000.. Train Loss: 0.035.. Val Loss: 0.064.. Test Loss: 0.047.. Time: 0.01m\n"
     ]
    },
    {
     "name": "stderr",
     "output_type": "stream",
     "text": [
      "100%|██████████| 106/106 [00:00<00:00, 156.26it/s]\n",
      "100%|██████████| 18/18 [00:00<00:00, 555.89it/s]\n",
      "100%|██████████| 53/53 [00:00<00:00, 522.57it/s]\n"
     ]
    },
    {
     "name": "stdout",
     "output_type": "stream",
     "text": [
      "Epoch:70/1000.. Train Loss: 0.034.. Val Loss: 0.064.. Test Loss: 0.047.. Time: 0.01m\n"
     ]
    },
    {
     "name": "stderr",
     "output_type": "stream",
     "text": [
      "100%|██████████| 106/106 [00:00<00:00, 140.13it/s]\n",
      "100%|██████████| 18/18 [00:00<00:00, 515.99it/s]\n",
      "100%|██████████| 53/53 [00:00<00:00, 549.53it/s]\n"
     ]
    },
    {
     "name": "stdout",
     "output_type": "stream",
     "text": [
      "Epoch:71/1000.. Train Loss: 0.034.. Val Loss: 0.064.. Test Loss: 0.046.. Time: 0.02m\n"
     ]
    },
    {
     "name": "stderr",
     "output_type": "stream",
     "text": [
      "100%|██████████| 106/106 [00:00<00:00, 145.24it/s]\n",
      "100%|██████████| 18/18 [00:00<00:00, 518.90it/s]\n",
      "100%|██████████| 53/53 [00:00<00:00, 554.22it/s]\n"
     ]
    },
    {
     "name": "stdout",
     "output_type": "stream",
     "text": [
      "Epoch:72/1000.. Train Loss: 0.034.. Val Loss: 0.068.. Test Loss: 0.046.. Time: 0.02m\n"
     ]
    },
    {
     "name": "stderr",
     "output_type": "stream",
     "text": [
      "100%|██████████| 106/106 [00:00<00:00, 157.48it/s]\n",
      "100%|██████████| 18/18 [00:00<00:00, 536.95it/s]\n",
      "100%|██████████| 53/53 [00:00<00:00, 558.86it/s]\n"
     ]
    },
    {
     "name": "stdout",
     "output_type": "stream",
     "text": [
      "Epoch:73/1000.. Train Loss: 0.034.. Val Loss: 0.066.. Test Loss: 0.046.. Time: 0.01m\n"
     ]
    },
    {
     "name": "stderr",
     "output_type": "stream",
     "text": [
      "100%|██████████| 106/106 [00:00<00:00, 153.40it/s]\n",
      "100%|██████████| 18/18 [00:00<00:00, 500.95it/s]\n",
      "100%|██████████| 53/53 [00:00<00:00, 553.44it/s]\n"
     ]
    },
    {
     "name": "stdout",
     "output_type": "stream",
     "text": [
      "Epoch:74/1000.. Train Loss: 0.034.. Val Loss: 0.064.. Test Loss: 0.047.. Time: 0.01m\n"
     ]
    },
    {
     "name": "stderr",
     "output_type": "stream",
     "text": [
      "100%|██████████| 106/106 [00:00<00:00, 157.83it/s]\n",
      "100%|██████████| 18/18 [00:00<00:00, 523.31it/s]\n",
      "100%|██████████| 53/53 [00:00<00:00, 553.61it/s]\n"
     ]
    },
    {
     "name": "stdout",
     "output_type": "stream",
     "text": [
      "Epoch:75/1000.. Train Loss: 0.033.. Val Loss: 0.069.. Test Loss: 0.047.. Time: 0.01m\n"
     ]
    },
    {
     "name": "stderr",
     "output_type": "stream",
     "text": [
      "100%|██████████| 106/106 [00:00<00:00, 155.04it/s]\n",
      "100%|██████████| 18/18 [00:00<00:00, 548.14it/s]\n",
      "100%|██████████| 53/53 [00:00<00:00, 543.45it/s]\n"
     ]
    },
    {
     "name": "stdout",
     "output_type": "stream",
     "text": [
      "Epoch:76/1000.. Train Loss: 0.034.. Val Loss: 0.068.. Test Loss: 0.047.. Time: 0.01m\n"
     ]
    },
    {
     "name": "stderr",
     "output_type": "stream",
     "text": [
      "100%|██████████| 106/106 [00:00<00:00, 157.86it/s]\n",
      "100%|██████████| 18/18 [00:00<00:00, 581.16it/s]\n",
      "100%|██████████| 53/53 [00:00<00:00, 548.56it/s]\n"
     ]
    },
    {
     "name": "stdout",
     "output_type": "stream",
     "text": [
      "Epoch:77/1000.. Train Loss: 0.034.. Val Loss: 0.068.. Test Loss: 0.047.. Time: 0.01m\n"
     ]
    },
    {
     "name": "stderr",
     "output_type": "stream",
     "text": [
      "100%|██████████| 106/106 [00:00<00:00, 133.63it/s]\n",
      "100%|██████████| 18/18 [00:00<00:00, 522.96it/s]\n",
      "100%|██████████| 53/53 [00:00<00:00, 557.41it/s]\n"
     ]
    },
    {
     "name": "stdout",
     "output_type": "stream",
     "text": [
      "[***] end training ...\n",
      "Total time: 1.13 m\n"
     ]
    }
   ],
   "source": [
    "training.fit(model, train_loader, validation_loader, test_loader)\n",
    "best_model = training.get_best_model()"
   ]
  },
  {
   "cell_type": "code",
   "execution_count": 74,
   "metadata": {
    "tags": []
   },
   "outputs": [
    {
     "data": {
      "text/plain": [
       "<matplotlib.legend.Legend at 0x2b6e52174df0>"
      ]
     },
     "execution_count": 74,
     "metadata": {},
     "output_type": "execute_result"
    },
    {
     "data": {
      "image/png": "[encoded data removed]",
      "text/plain": [
       "<Figure size 640x480 with 1 Axes>"
      ]
     },
     "metadata": {},
     "output_type": "display_data"
    }
   ],
   "source": [
    "fig, ax = plt.subplots()\n",
    "\n",
    "ax.plot(training.results['Train'], label='Train')\n",
    "ax.plot(training.results['Validation'], label='Validation')\n",
    "ax.plot(training.results['Test'], label='Test')\n",
    "ax.legend()"
   ]
  },
  {
   "cell_type": "markdown",
   "metadata": {},
   "source": [
    "## Evaluation and plotting classes"
   ]
  },
  {
   "cell_type": "code",
   "execution_count": 75,
   "metadata": {
    "tags": []
   },
   "outputs": [],
   "source": [
    "class OSAEvaluator:\n",
    "    \n",
    "    def evaluate_OSA(self, dataset, model):\n",
    "        \n",
    "        torch.cuda.empty_cache()\n",
    "        Y_real = []\n",
    "        Y_pred = []\n",
    "        for i, data in enumerate(tqdm(dataset)):\n",
    "            src, tgt, y_real = data\n",
    "            src, tgt, y_real = src.to(device), tgt.to(device), y_real.to(device)\n",
    "            y_pred = model(src, tgt)\n",
    "            Y_real.append(y_real[-1,:])\n",
    "            Y_pred.append(y_pred[-1,:])\n",
    "        \n",
    "        Y_real = torch.vstack(Y_real).cpu()\n",
    "        Y_pred = torch.vstack(Y_pred).cpu().detach()\n",
    "        print('********** OSA Evaluation summary **********')\n",
    "        print(f'OSA MSE: {mean_squared_error(Y_real, Y_pred)}')\n",
    "        print(f'OSA RMSE: {np.sqrt(mean_squared_error(Y_real, Y_pred))}')\n",
    "        print(f'OSA R2 score: {r2_score(Y_real, Y_pred)}')\n",
    "        print('********************************************')\n",
    "        return Y_real, Y_pred\n",
    "            \n",
    "class FSEvaluator:\n",
    "    \n",
    "    def evaluate_FS(self, dataset, model):\n",
    "        \n",
    "        torch.cuda.empty_cache()\n",
    "        Y_real = []\n",
    "        Y_pred = []\n",
    "        tgt_sim = None\n",
    "        for i, data in enumerate(tqdm(dataset)):\n",
    "            src, tgt, y_real = data\n",
    "            src, tgt, y_real = src.to(device), tgt.to(device), y_real.to(device)\n",
    "            if tgt_sim is None:\n",
    "                tgt_sim = tgt\n",
    "            y_pred = model(src, tgt_sim)\n",
    "            tgt_sim[:-1,:] = tgt_sim[1:,:].clone()\n",
    "            tgt_sim[-1,:] = y_pred[-1,:].clone()\n",
    "            Y_real.append(y_real[-1,:])\n",
    "            Y_pred.append(y_pred[-1,:])\n",
    "        \n",
    "        Y_real = torch.vstack(Y_real).cpu()\n",
    "        Y_pred = torch.vstack(Y_pred).cpu().detach()\n",
    "        print('*********** FS Evaluation summary **********')\n",
    "        print(f'FS MSE: {mean_squared_error(Y_real, Y_pred)}')\n",
    "        print(f'FS RMSE: {np.sqrt(mean_squared_error(Y_real, Y_pred))}')\n",
    "        print(f'FS R2 score: {r2_score(Y_real, Y_pred)}')\n",
    "        print('********************************************')\n",
    "        return Y_real, Y_pred\n",
    "    \n",
    "class Evaluator(OSAEvaluator, FSEvaluator):\n",
    "    \n",
    "    pass\n",
    "        "
   ]
  },
  {
   "cell_type": "code",
   "execution_count": 76,
   "metadata": {
    "tags": []
   },
   "outputs": [
    {
     "name": "stderr",
     "output_type": "stream",
     "text": [
      "100%|██████████| 699/699 [00:01<00:00, 460.84it/s]\n"
     ]
    },
    {
     "name": "stdout",
     "output_type": "stream",
     "text": [
      "********** OSA Evaluation summary **********\n",
      "OSA MSE: 0.03793071210384369\n",
      "OSA RMSE: 0.1947580873966217\n",
      "OSA R2 score: 0.7823148008763344\n",
      "********************************************\n"
     ]
    },
    {
     "name": "stderr",
     "output_type": "stream",
     "text": [
      "100%|██████████| 699/699 [00:01<00:00, 543.16it/s]\n"
     ]
    },
    {
     "name": "stdout",
     "output_type": "stream",
     "text": [
      "*********** FS Evaluation summary **********\n",
      "FS MSE: 0.03793071210384369\n",
      "FS RMSE: 0.1947580873966217\n",
      "FS R2 score: 0.7823148008763344\n",
      "********************************************\n"
     ]
    }
   ],
   "source": [
    "evaluator = Evaluator()\n",
    "Y_real, Y_pred_OSA = evaluator.evaluate_OSA(dataset, model)\n",
    "Y_real, Y_pred_FS = evaluator.evaluate_FS(dataset, model)"
   ]
  },
  {
   "cell_type": "code",
   "execution_count": 77,
   "metadata": {
    "tags": []
   },
   "outputs": [
    {
     "data": {
      "text/plain": [
       "<matplotlib.legend.Legend at 0x2b6dd81b7f40>"
      ]
     },
     "execution_count": 77,
     "metadata": {},
     "output_type": "execute_result"
    },
    {
     "data": {
      "image/png": "[encoded data removed]",
      "text/plain": [
       "<Figure size 640x480 with 1 Axes>"
      ]
     },
     "metadata": {},
     "output_type": "display_data"
    }
   ],
   "source": [
    "fig, ax = plt.subplots()\n",
    "ax.plot(Y_real, label='Real')\n",
    "ax.plot(Y_pred_OSA, label='OSA')\n",
    "ax.plot(Y_pred_FS, label='FS')\n",
    "ax.legend()"
   ]
  },
  {
   "cell_type": "code",
   "execution_count": 78,
   "metadata": {},
   "outputs": [
    {
     "name": "stderr",
     "output_type": "stream",
     "text": [
      "100%|██████████| 699/699 [00:01<00:00, 564.31it/s]\n"
     ]
    },
    {
     "name": "stdout",
     "output_type": "stream",
     "text": [
      "********** OSA Evaluation summary **********\n",
      "OSA MSE: 0.03923852741718292\n",
      "OSA RMSE: 0.1980871707201004\n",
      "OSA R2 score: 0.7748092173650944\n",
      "********************************************\n"
     ]
    },
    {
     "name": "stderr",
     "output_type": "stream",
     "text": [
      "100%|██████████| 699/699 [00:01<00:00, 524.75it/s]"
     ]
    },
    {
     "name": "stdout",
     "output_type": "stream",
     "text": [
      "*********** FS Evaluation summary **********\n",
      "FS MSE: 0.03923852741718292\n",
      "FS RMSE: 0.1980871707201004\n",
      "FS R2 score: 0.7748092173650944\n",
      "********************************************\n"
     ]
    },
    {
     "name": "stderr",
     "output_type": "stream",
     "text": [
      "\n"
     ]
    }
   ],
   "source": [
    "evaluator = Evaluator()\n",
    "Y_real, Y_pred_OSA = evaluator.evaluate_OSA(dataset, best_model)\n",
    "Y_real, Y_pred_FS = evaluator.evaluate_FS(dataset, best_model)"
   ]
  },
  {
   "cell_type": "code",
   "execution_count": 79,
   "metadata": {
    "tags": []
   },
   "outputs": [
    {
     "data": {
      "text/plain": [
       "<matplotlib.legend.Legend at 0x2b6dd8254970>"
      ]
     },
     "execution_count": 79,
     "metadata": {},
     "output_type": "execute_result"
    },
    {
     "data": {
      "image/png": "[encoded data removed]",
      "text/plain": [
       "<Figure size 640x480 with 1 Axes>"
      ]
     },
     "metadata": {},
     "output_type": "display_data"
    }
   ],
   "source": [
    "fig, ax = plt.subplots()\n",
    "ax.plot(Y_real, label='Real')\n",
    "ax.plot(Y_pred_OSA, label='OSA')\n",
    "ax.plot(Y_pred_FS, label='FS')\n",
    "ax.legend()"
   ]
  },
  {
   "cell_type": "code",
   "execution_count": null,
   "metadata": {
    "tags": []
   },
   "outputs": [],
   "source": []
  }
 ],
 "metadata": {
  "kernelspec": {
   "display_name": "raul_dl",
   "language": "python",
   "name": "raul_dl"
  },
  "language_info": {
   "codemirror_mode": {
    "name": "ipython",
    "version": 3
   },
   "file_extension": ".py",
   "mimetype": "text/x-python",
   "name": "python",
   "nbconvert_exporter": "python",
   "pygments_lexer": "ipython3",
   "version": "3.9.13"
  }
 },
 "nbformat": 4,
 "nbformat_minor": 4
}
