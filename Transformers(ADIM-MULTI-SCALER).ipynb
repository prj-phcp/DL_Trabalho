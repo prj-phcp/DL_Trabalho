{
 "cells": [
  {
   "cell_type": "code",
   "execution_count": 1,
   "metadata": {
    "tags": []
   },
   "outputs": [
    {
     "name": "stdout",
     "output_type": "stream",
     "text": [
      "Fri Jun 16 09:30:14 2023       \n",
      "+-----------------------------------------------------------------------------+\n",
      "| NVIDIA-SMI 515.43.04    Driver Version: 515.43.04    CUDA Version: 11.7     |\n",
      "|-------------------------------+----------------------+----------------------+\n",
      "| GPU  Name        Persistence-M| Bus-Id        Disp.A | Volatile Uncorr. ECC |\n",
      "| Fan  Temp  Perf  Pwr:Usage/Cap|         Memory-Usage | GPU-Util  Compute M. |\n",
      "|                               |                      |               MIG M. |\n",
      "|===============================+======================+======================|\n",
      "|   0  Tesla V100-SXM2...  Off  | 00000000:15:00.0 Off |                    0 |\n",
      "| N/A   26C    P0    39W / 300W |      0MiB / 32768MiB |      0%      Default |\n",
      "|                               |                      |                  N/A |\n",
      "+-------------------------------+----------------------+----------------------+\n",
      "                                                                               \n",
      "+-----------------------------------------------------------------------------+\n",
      "| Processes:                                                                  |\n",
      "|  GPU   GI   CI        PID   Type   Process name                  GPU Memory |\n",
      "|        ID   ID                                                   Usage      |\n",
      "|=============================================================================|\n",
      "|  No running processes found                                                 |\n",
      "+-----------------------------------------------------------------------------+\n"
     ]
    }
   ],
   "source": [
    "import math\n",
    "import json\n",
    "import time\n",
    "import numpy as np\n",
    "import pandas as pd\n",
    "import matplotlib.pyplot as plt\n",
    "from tqdm import tqdm\n",
    "\n",
    "import torch\n",
    "import torch.nn as nn\n",
    "import torch.optim as optim\n",
    "from torch.utils.data import Dataset\n",
    "from torch.utils.data.sampler import SubsetRandomSampler\n",
    "\n",
    "from sklearn.preprocessing import MinMaxScaler, RobustScaler\n",
    "from sklearn.model_selection import train_test_split\n",
    "from sklearn.metrics import mean_squared_error, r2_score\n",
    "\n",
    "!nvidia-smi"
   ]
  },
  {
   "cell_type": "code",
   "execution_count": 2,
   "metadata": {
    "tags": []
   },
   "outputs": [
    {
     "name": "stdout",
     "output_type": "stream",
     "text": [
      "cuda:0\n"
     ]
    }
   ],
   "source": [
    "# Dispositivo onde tensores serão criados, armazenados e processados\n",
    "device = torch.device(\"cuda:0\" if torch.cuda.is_available() else \"cpu\")\n",
    "print(device)\n",
    "# Randon Seed fixa para resultados reprodutíveis\n",
    "seed = 42\n",
    "torch.manual_seed(seed)\n",
    "torch.cuda.manual_seed(seed)\n",
    "np.random.seed(seed)"
   ]
  },
  {
   "cell_type": "markdown",
   "metadata": {},
   "source": [
    "## Data Loader"
   ]
  },
  {
   "cell_type": "code",
   "execution_count": 3,
   "metadata": {
    "tags": []
   },
   "outputs": [],
   "source": [
    "class WellLoader(Dataset):\n",
    "    \n",
    "    def __init__(self, \n",
    "                 path, \n",
    "                 wells, \n",
    "                 var_in, \n",
    "                 var_out,\n",
    "                 normalizing_percentile=90.0,\n",
    "                 normalizing_split=0.2,\n",
    "                 normalizer=RobustScaler,\n",
    "                 max_sequence=16, \n",
    "                 step=1):\n",
    "        \n",
    "        self.path = path\n",
    "        with open(self.path + '/metadata.json', 'r') as metafile:\n",
    "            self.metadata = json.loads(metafile.read())\n",
    "        self.wells = wells\n",
    "        self.var_in = var_in\n",
    "        self.var_out = var_out\n",
    "        self.normalizing_percentile=normalizing_percentile\n",
    "        self.normalizing_split = normalizing_split\n",
    "        self.normalizer = normalizer\n",
    "        self.max_sequence = max_sequence\n",
    "        self.step = step\n",
    "        self.batches_X = None\n",
    "        self.batches_Y = None\n",
    "        self.outputs = None\n",
    "        self.normalizers = []\n",
    "        \n",
    "        indexes = self.get_wells_index(self.wells)\n",
    "        self.load_data_by_index(indexes)\n",
    "        \n",
    "    def get_wells_index(self, wells):\n",
    "        \n",
    "        indexes = []\n",
    "        for well, filt in wells:\n",
    "            indexes.extend([(meta['INDEX'], filt) for meta in self.metadata if meta['WELL'] == well])\n",
    "        return indexes\n",
    "    \n",
    "    def load_data_by_index(self, indexes):\n",
    "        \n",
    "        batches_X = []\n",
    "        batches_Y = []\n",
    "        outputs = []\n",
    "        for index, filt in indexes:\n",
    "            data = pd.read_json(f'{self.path}/{index}.json')#.reset_index()\n",
    "            # Armengue: Por liq vol para preencher o dataset\n",
    "            data['BORE_LIQ_VOL'] = data['BORE_OIL_VOL'] + data['BORE_WAT_VOL']\n",
    "            data = data[self.var_in + self.var_out].dropna().reset_index(drop=True)\n",
    "            X = data[self.var_in].values[filt,:]\n",
    "            Y = data[self.var_out].values[filt,:]\n",
    "            X_base, _, Y_base, _ = train_test_split(X, Y, test_size = self.normalizing_split)\n",
    "            #scaler_X = X_base.max(axis=0, keepdims=True)\n",
    "            #scaler_Y = Y_base.max(axis=0, keepdims=True)\n",
    "            scaler_X = self.normalizer().fit(X_base)\n",
    "            scaler_Y = self.normalizer().fit(Y_base)\n",
    "            #scaler_X = np.percentile(X_base,self.normalizing_percentile,axis=0,keepdims=True)\n",
    "            #scaler_Y = np.percentile(Y_base,self.normalizing_percentile,axis=0,keepdims=True)\n",
    "            self.normalizers.append((scaler_X, scaler_Y))\n",
    "            X, Y = scaler_X.transform(X), scaler_Y.transform(Y)\n",
    "            #X, Y = X / scaler_X, Y / scaler_Y\n",
    "            X, Y = torch.from_numpy(X.astype('float32')), torch.from_numpy(Y.astype('float32'))\n",
    "            output = Y[self.max_sequence::self.step]\n",
    "            #print(Y.shape)\n",
    "            #X = torch.split(X, self.max_sequence, dim= 0)\n",
    "            #Y = torch.split(Y, self.max_sequence, dim= 0)\n",
    "            X = X.unfold(0,self.max_sequence, self.step)\n",
    "            Y = Y.unfold(0,self.max_sequence, self.step)\n",
    "            batches_X.append(X)\n",
    "            batches_Y.append(Y)\n",
    "            outputs.append(output)\n",
    "            #print(X.shape)\n",
    "        self.batches_X = torch.concat(batches_X, axis=0)\n",
    "        self.batches_Y = torch.concat(batches_Y, axis=0)\n",
    "        self.outputs = torch.concat(outputs, axis=0)\n",
    "            \n",
    "    def __len__(self):\n",
    "        \n",
    "        return self.outputs.shape[0]\n",
    "    \n",
    "    def __getitem__(self, idx):\n",
    "                        \n",
    "        srcs = self.batches_X[idx,:,:]\n",
    "        trgts = self.batches_Y[idx,:,:]\n",
    "        output = self.outputs[idx,:]\n",
    "        \n",
    "        return srcs, trgts, output\n",
    "        \n",
    "        "
   ]
  },
  {
   "cell_type": "code",
   "execution_count": 4,
   "metadata": {},
   "outputs": [
    {
     "name": "stdout",
     "output_type": "stream",
     "text": [
      "Total data for training :5424\n"
     ]
    }
   ],
   "source": [
    "path = './dataset/volve'\n",
    "wells = [\n",
    "    ('15/9-F-11', slice(15, None)),\n",
    "    ('15/9-F-12', slice(None, 800)),\n",
    "    ('15/9-F-14', slice(200, None)),\n",
    "    ('15/9-F-15 D', slice(10, 900)),\n",
    "    #('15/9-F-5', slice(None, None)),\n",
    "][::-1]\n",
    "\n",
    "#wells = [\n",
    "#    ('15/9-F-11', slice(15, 600)),\n",
    "#    ('15/9-F-12', slice(None, 800)),\n",
    "#    ('15/9-F-14', slice(1900, None)),\n",
    "#    ('15/9-F-15 D', slice(10, 900)),\n",
    "#    #('15/9-F-5', slice(None, None)),\n",
    "#][::-1]\n",
    "\n",
    "var_in = [\n",
    "        'AVG_DOWNHOLE_PRESSURE',\n",
    "        'AVG_WHP_P',\n",
    "        'AVG_CHOKE_SIZE_P',\n",
    "        'AVG_WHT_P',\n",
    "        'AVG_DOWNHOLE_TEMPERATURE',\n",
    "]\n",
    "\n",
    "var_out = [\n",
    "        #'BORE_OIL_VOL',\n",
    "        'BORE_LIQ_VOL',\n",
    "        #'BORE_GAS_VOL',\n",
    "        #'BORE_WAT_VOL',\n",
    "]\n",
    "\n",
    "\n",
    "dataset = WellLoader(path, wells, var_in, var_out, max_sequence = 16)\n",
    "print(f'Total data for training :{len(dataset)}')"
   ]
  },
  {
   "cell_type": "code",
   "execution_count": 5,
   "metadata": {
    "tags": []
   },
   "outputs": [
    {
     "name": "stdout",
     "output_type": "stream",
     "text": [
      "Total data for testing :699\n"
     ]
    }
   ],
   "source": [
    "path = './dataset/volve'\n",
    "wells = [\n",
    "    ('15/9-F-1 C', slice(28, None)),\n",
    "]\n",
    "\n",
    "var_in = [\n",
    "        'AVG_DOWNHOLE_PRESSURE',\n",
    "        'AVG_WHP_P',\n",
    "        'AVG_CHOKE_SIZE_P',\n",
    "        'AVG_WHT_P',\n",
    "        'AVG_DOWNHOLE_TEMPERATURE',\n",
    "]\n",
    "\n",
    "var_out = [\n",
    "        #'BORE_OIL_VOL',\n",
    "        'BORE_LIQ_VOL',\n",
    "        #'BORE_GAS_VOL',\n",
    "        #'BORE_WAT_VOL',\n",
    "]\n",
    "\n",
    "\n",
    "test_dataset = WellLoader(path, wells, var_in, var_out, max_sequence = 16)\n",
    "print(f'Total data for testing :{len(test_dataset)}')"
   ]
  },
  {
   "cell_type": "code",
   "execution_count": 6,
   "metadata": {
    "tags": []
   },
   "outputs": [],
   "source": [
    "class SubsetSplitter:\n",
    "    \n",
    "    def __init__(self, batch_size, validation_split, test_split, shuffle=False):\n",
    "        \n",
    "        self.batch_size = batch_size\n",
    "        self.validation_split = validation_split\n",
    "        self.test_split = test_split\n",
    "        self.shuffle = shuffle\n",
    "        \n",
    "    def __call__(self, dataset:Dataset):\n",
    "        \n",
    "        dataset_size = len(dataset)\n",
    "        indices = list(range(dataset_size))\n",
    "        validation_split = int(np.floor(self.validation_split * dataset_size))\n",
    "        test_split = int(np.floor(self.test_split * dataset_size))\n",
    "        train_split = dataset_size - validation_split - test_split\n",
    "        # Extracting test independently of others\n",
    "        test_indices = indices[train_split + validation_split:]\n",
    "        indices = indices[:train_split + validation_split]\n",
    "        if self.shuffle :\n",
    "            np.random.shuffle(indices)\n",
    "        train_indices = indices[:train_split]\n",
    "        validation_indices = indices[train_split:]\n",
    "\n",
    "        # Creating PT data samplers and loaders:\n",
    "        train_sampler = SubsetRandomSampler(train_indices)\n",
    "        valid_sampler = SubsetRandomSampler(validation_indices)\n",
    "        test_sampler = SubsetRandomSampler(test_indices)\n",
    "\n",
    "        train_loader = torch.utils.data.DataLoader(dataset, batch_size=self.batch_size, \n",
    "                                                   sampler=train_sampler)\n",
    "        validation_loader = torch.utils.data.DataLoader(dataset, batch_size=self.batch_size,\n",
    "                                                    sampler=valid_sampler)\n",
    "        test_loader = torch.utils.data.DataLoader(dataset, batch_size=self.batch_size,\n",
    "                                                    sampler=test_sampler)\n",
    "        \n",
    "        return train_loader, validation_loader, test_loader"
   ]
  },
  {
   "cell_type": "code",
   "execution_count": 7,
   "metadata": {
    "tags": []
   },
   "outputs": [],
   "source": [
    "splitter = SubsetSplitter(16, 0.25, 0.05)\n",
    "train_loader, validation_loader, test_loader = splitter(dataset)"
   ]
  },
  {
   "cell_type": "markdown",
   "metadata": {},
   "source": [
    "## Model definition"
   ]
  },
  {
   "cell_type": "code",
   "execution_count": 8,
   "metadata": {},
   "outputs": [
    {
     "data": {
      "text/plain": [
       "tensor([[[0.0000, 0.0000, 0.0000, 1.4286, 0.0000, 1.4286, 0.0000, 1.4286,\n",
       "          0.0000, 0.0000],\n",
       "         [0.0000, 0.0000, 0.0000, 0.0000, 0.0000, 1.4286, 0.0000, 0.0000,\n",
       "          0.0000, 1.4286]]])"
      ]
     },
     "execution_count": 8,
     "metadata": {},
     "output_type": "execute_result"
    }
   ],
   "source": [
    "class PositionalEncoding(nn.Module):\n",
    "    def __init__(self, dim_model, dropout_p, max_len):\n",
    "        super().__init__()\n",
    "        # Modified version from: https://pytorch.org/tutorials/beginner/transformer_tutorial.html\n",
    "        # max_len determines how far the position can have an effect on a token (window)\n",
    "        \n",
    "        # Info\n",
    "        self.dropout = nn.Dropout(dropout_p)\n",
    "        \n",
    "        # Encoding - From formula\n",
    "        pos_encoding = torch.zeros(max_len, dim_model)\n",
    "        positions_list = torch.arange(0, max_len, dtype=torch.float).view(-1, 1) # 0, 1, 2, 3, 4, 5\n",
    "        division_term = torch.exp(torch.arange(0, dim_model, 2).float() * (-math.log(10000.0)) / dim_model) # 1000^(2i/dim_model)\n",
    "        \n",
    "        # PE(pos, 2i) = sin(pos/1000^(2i/dim_model))\n",
    "        pos_encoding[:, 0::2] = torch.sin(positions_list * division_term)\n",
    "        \n",
    "        # PE(pos, 2i + 1) = cos(pos/1000^(2i/dim_model))\n",
    "        pos_encoding[:, 1::2] = torch.cos(positions_list * division_term)\n",
    "        \n",
    "        # Saving buffer (same as parameter without gradients needed)\n",
    "        pos_encoding = pos_encoding.unsqueeze(0).transpose(0, 1)\n",
    "        self.register_buffer(\"pos_encoding\",pos_encoding)\n",
    "        \n",
    "    def forward(self, token_embedding: torch.tensor) -> torch.tensor:\n",
    "        # Residual connection + pos encoding\n",
    "        return self.dropout(token_embedding + self.pos_encoding[:token_embedding.size(0), :])\n",
    "    \n",
    "    \n",
    "positional_encoding = PositionalEncoding(dim_model = 10, dropout_p=0.3, max_len=1200)\n",
    "tensor = torch.zeros((1,2,10))\n",
    "tensor\n",
    "encoded = positional_encoding(tensor)\n",
    "encoded"
   ]
  },
  {
   "cell_type": "code",
   "execution_count": 9,
   "metadata": {},
   "outputs": [],
   "source": [
    "class Transformer(nn.Module):\n",
    "    \"\"\"\n",
    "    Model from \"A detailed guide to Pytorch's nn.Transformer() module.\", by\n",
    "    Daniel Melchor: https://medium.com/@danielmelchor/a-detailed-guide-to-pytorchs-nn-transformer-module-c80afbc9ffb1\n",
    "    \"\"\"\n",
    "    # Constructor\n",
    "    def __init__(\n",
    "        self,\n",
    "        num_outputs,\n",
    "        dim_model,\n",
    "        num_heads,\n",
    "        num_encoder_layers,\n",
    "        num_decoder_layers,\n",
    "        dropout_p,\n",
    "        dim_feedforward =2048,\n",
    "        num_linear_layers=0,\n",
    "        norm_first=False\n",
    "    ):\n",
    "        super().__init__()\n",
    "\n",
    "        # INFO\n",
    "        self.model_type = \"Transformer\"\n",
    "        self.dim_model = dim_model\n",
    "\n",
    "        # LAYERS\n",
    "        self.positional_encoder = PositionalEncoding(\n",
    "            dim_model=dim_model, dropout_p=dropout_p, max_len=5000\n",
    "        )\n",
    "        #self.embedding = nn.Embedding(num_outputs, dim_model)\n",
    "        self.transformer = nn.Transformer(\n",
    "            d_model=dim_model,\n",
    "            nhead=num_heads,\n",
    "            num_encoder_layers=num_encoder_layers,\n",
    "            num_decoder_layers=num_decoder_layers,\n",
    "            dropout=dropout_p, \n",
    "            batch_first=True,\n",
    "            norm_first = norm_first,\n",
    "            dim_feedforward =dim_feedforward \n",
    "        )\n",
    "        self.linear_layers = nn.ModuleList()\n",
    "        for i in range(num_linear_layers):\n",
    "            self.linear_layers.append(nn.Linear(dim_model, dim_model))\n",
    "            self.linear_layers.append(nn.ReLU6())\n",
    "        self.out = nn.Linear(dim_model, num_outputs)\n",
    "        #self.bias_layer = nn.Linear(dim_model, dim_model)\n",
    "        \n",
    "    def forward(self, src, tgt, tgt_mask=None, src_pad_mask=None, tgt_pad_mask=None):\n",
    "        # Src size must be (batch_size, src sequence length)\n",
    "        # Tgt size must be (batch_size, tgt sequence length)\n",
    "\n",
    "        # Embedding + positional encoding - Out size = (batch_size, sequence length, dim_model)\n",
    "        #src = self.embedding(src) * math.sqrt(self.dim_model)\n",
    "        #tgt = self.embedding(tgt) * math.sqrt(self.dim_model)\n",
    "        src_corr = src #* math.sqrt(self.dim_model)\n",
    "        tgt_corr = tgt #* math.sqrt(self.dim_model)\n",
    "        #src_corr = self.positional_encoder(src_corr)\n",
    "        #tgt_corr = self.positional_encoder(tgt_corr)\n",
    "        \n",
    "        # We could use the parameter batch_first=True, but our KDL version doesn't support it yet, so we permute\n",
    "        # to obtain size (sequence length, batch_size, dim_model),\n",
    "        #src = src.permute(1,0,2)\n",
    "        #tgt = tgt.permute(1,0,2)\n",
    "\n",
    "        # Transformer blocks - Out size = (sequence length, batch_size, num_tokens)\n",
    "        transformer_out = self.transformer(src_corr, tgt_corr, tgt_mask=tgt_mask, src_key_padding_mask=src_pad_mask, \n",
    "                                           tgt_key_padding_mask=tgt_pad_mask)\n",
    "        for linear in self.linear_layers:\n",
    "            transformer_out = linear(transformer_out)\n",
    "        out = transformer_out\n",
    "        #out = torch.add(out, tgt)\n",
    "        \n",
    "        #recuperando informacao de escala\n",
    "        #out = torch.mul(out, tgt)\n",
    "        #bias = self.bias_layer(tgt)\n",
    "        #out = torch.add(out, bias)\n",
    "        \n",
    "        out = self.out(out)\n",
    "        \n",
    "        \n",
    "        return out\n",
    "      \n",
    "    def get_tgt_mask(self, size) -> torch.tensor:\n",
    "        # Generates a squeare matrix where the each row allows one word more to be seen\n",
    "        mask = torch.tril(torch.ones(size, size) == 1) # Lower triangular matrix\n",
    "        mask = mask.float()\n",
    "        mask = mask.masked_fill(mask == 0, float('-inf')) # Convert zeros to -inf\n",
    "        mask = mask.masked_fill(mask == 1, float(0.0)) # Convert ones to 0\n",
    "        \n",
    "        # EX for size=5:\n",
    "        # [[0., -inf, -inf, -inf, -inf],\n",
    "        #  [0.,   0., -inf, -inf, -inf],\n",
    "        #  [0.,   0.,   0., -inf, -inf],\n",
    "        #  [0.,   0.,   0.,   0., -inf],\n",
    "        #  [0.,   0.,   0.,   0.,   0.]]\n",
    "        \n",
    "        return mask\n",
    "    \n",
    "    def create_pad_mask(self, matrix: torch.tensor, pad_token: int) -> torch.tensor:\n",
    "        # If matrix = [1,2,3,0,0,0] where pad_token=0, the result mask is\n",
    "        # [False, False, False, True, True, True]\n",
    "        return (matrix == pad_token)"
   ]
  },
  {
   "cell_type": "code",
   "execution_count": 10,
   "metadata": {
    "tags": []
   },
   "outputs": [],
   "source": [
    "class Training:\n",
    "    \n",
    "    def __init__(self, epochs, loss, optimizer, scheduler, path, model_name='Transformer', early_stop=True, patience=5):\n",
    "        \n",
    "        self.loss = loss\n",
    "        self.optimizer = optimizer\n",
    "        self.scheduler = scheduler\n",
    "        self.epochs = epochs\n",
    "        self.path = path\n",
    "        self.model_name = model_name\n",
    "        self.early_stop_flag = early_stop\n",
    "        self.patience = patience\n",
    "        self.clear_results()\n",
    "        \n",
    "    def clear_results(self):\n",
    "        \n",
    "        self.results = {\n",
    "            'Train':[],\n",
    "            'Validation':[],\n",
    "            'Test':[],\n",
    "        }\n",
    "        \n",
    "    def fit(self, model, train_loader, validation_loader, test_loader):\n",
    "        \n",
    "        self.clear_results()\n",
    "        torch.cuda.empty_cache()\n",
    "        decrease = self.patience\n",
    "        not_improved = 0\n",
    "        \n",
    "        model.to(device)\n",
    "        fit_time = time.time()\n",
    "        \n",
    "        for e in range(self.epochs):\n",
    "            since = time.time()\n",
    "            running_loss = 0\n",
    "            #training loop\n",
    "            model.train()\n",
    "            self.train_loop(model, train_loader)\n",
    "            model.eval()\n",
    "            self.validation_loop(model, validation_loader)\n",
    "            self.test_loop(model, test_loader)\n",
    "            decrease, not_improved = self.early_stopping(validation_loader, decrease)\n",
    "            if not_improved == 1 and self.early_stop_flag:\n",
    "                print('[***] end training ...') \n",
    "                break\n",
    "            loss_per_training_batch = self.results['Train'][-1]\n",
    "            loss_per_validation_batch = self.results['Validation'][-1]\n",
    "            loss_per_test_batch = self.results['Test'][-1]\n",
    "            print(\"Epoch:{}/{}..\".format(e+1, self.epochs),\n",
    "                  \"Train Loss: {:.3f}..\".format(loss_per_training_batch),\n",
    "                  \"Val Loss: {:.3f}..\".format(loss_per_validation_batch),\n",
    "                  \"Test Loss: {:.3f}..\".format(loss_per_test_batch),\n",
    "                  \"Time: {:.2f}m\".format((time.time()-since)/60))\n",
    "        print('Total time: {:.2f} m' .format((time.time()- fit_time)/60))\n",
    "        \n",
    "    def train_loop(self, model, train_loader):\n",
    "        \n",
    "        running_loss = 0.0\n",
    "        for i, data in enumerate(tqdm(train_loader)):\n",
    "            #training phase\n",
    "            X, y_tgt, y_out = data\n",
    "            X, y_tgt, y_out = X.to(device), y_tgt.to(device), y_out.to(device)\n",
    "            #y_result, y_tgt = Y, torch.from_numpy(-1.0*np.ones(Y.shape).astype('float32')).to(device)\n",
    "            #y_tgt[:,:,1:] = Y[:,:,:-1]\n",
    "            #y_tgt[:,:,0] = 0.0\n",
    "            output = model(X, y_tgt)\n",
    "            loss = self.loss(output.ravel(), y_out.ravel())\n",
    "            #backward\n",
    "            loss.backward()\n",
    "            self.optimizer.step() #update weight          \n",
    "            self.optimizer.zero_grad() #reset gradient\n",
    "            \n",
    "            #step the learning rate\n",
    "            if not self.scheduler is None:\n",
    "                self.scheduler.step()\n",
    "            running_loss += loss.item()\n",
    "        \n",
    "        self.results['Train'].append(running_loss/len(train_loader))\n",
    "    \n",
    "    \n",
    "    def validation_loop(self, model, validation_loader):\n",
    "        \n",
    "        running_loss = 0.0\n",
    "        with torch.no_grad():\n",
    "            for i, data in enumerate(tqdm(validation_loader)):\n",
    "                #training phase\n",
    "                X, y_tgt, y_out = data\n",
    "                X, y_tgt, y_out = X.to(device), y_tgt.to(device), y_out.to(device)\n",
    "                #y_result, y_tgt = Y, torch.from_numpy(-1.0*np.ones(Y.shape).astype('float32')).to(device)\n",
    "                #y_tgt[:,:,1:] = Y[:,:,:-1]\n",
    "                #y_tgt[:,:,0] = 0.0\n",
    "                output = model(X, y_tgt)\n",
    "                loss = self.loss(output.ravel(), y_out.ravel())\n",
    "                \n",
    "                running_loss += loss.item()\n",
    "        \n",
    "        self.results['Validation'].append(running_loss/len(validation_loader))\n",
    "        \n",
    "    def test_loop(self, model, test_loader):\n",
    "        \n",
    "        running_loss = 0.0\n",
    "        with torch.no_grad():\n",
    "            for i, data in enumerate(tqdm(test_loader)):\n",
    "                #training phase\n",
    "                X, y_tgt, y_out = data\n",
    "                X, y_tgt, y_out = X.to(device), y_tgt.to(device), y_out.to(device)\n",
    "                #y_result, y_tgt = Y, torch.from_numpy(-1.0*np.ones(Y.shape).astype('float32')).to(device)\n",
    "                #y_tgt[:,:,1:] = Y[:,:,:-1]\n",
    "                #y_tgt[:,:,0] = 0.0\n",
    "                output = model(X, y_tgt)\n",
    "                loss = self.loss(output.ravel(), y_out.ravel())\n",
    "                \n",
    "                running_loss += loss.item()\n",
    "        \n",
    "        self.results['Test'].append(running_loss/len(test_loader))\n",
    "        \n",
    "    def early_stopping(self, validation_loader, decrease):\n",
    "        \n",
    "        loss_per_validation_batch = self.results['Validation'][-1]\n",
    "        min_loss = np.min(self.results['Validation'][:-1] + [np.inf])\n",
    "        if min_loss >= self.results['Validation'][-1]:\n",
    "            print('Loss Decreasing.. {:.3f} >> {:.3f} '.format(min_loss, loss_per_validation_batch))\n",
    "            decrease = self.patience\n",
    "            print('saving model...')\n",
    "            torch.save(model, self.path + f'/{self.model_name}.pt')\n",
    "        else:\n",
    "            decrease -= 1\n",
    "        if decrease < 0:     \n",
    "                not_improved = 1\n",
    "        else:\n",
    "            not_improved = 0\n",
    "        return decrease, not_improved\n",
    "    \n",
    "    def get_best_model(self):\n",
    "        \n",
    "        model = torch.load(self.path + f'/{self.model_name}.pt')\n",
    "        return model\n",
    "            \n",
    "            "
   ]
  },
  {
   "cell_type": "code",
   "execution_count": 11,
   "metadata": {
    "tags": []
   },
   "outputs": [
    {
     "name": "stdout",
     "output_type": "stream",
     "text": [
      "Transformer(\n",
      "  (positional_encoder): PositionalEncoding(\n",
      "    (dropout): Dropout(p=0.1, inplace=False)\n",
      "  )\n",
      "  (transformer): Transformer(\n",
      "    (encoder): TransformerEncoder(\n",
      "      (layers): ModuleList(\n",
      "        (0-23): 24 x TransformerEncoderLayer(\n",
      "          (self_attn): MultiheadAttention(\n",
      "            (out_proj): NonDynamicallyQuantizableLinear(in_features=16, out_features=16, bias=True)\n",
      "          )\n",
      "          (linear1): Linear(in_features=16, out_features=64, bias=True)\n",
      "          (dropout): Dropout(p=0.1, inplace=False)\n",
      "          (linear2): Linear(in_features=64, out_features=16, bias=True)\n",
      "          (norm1): LayerNorm((16,), eps=1e-05, elementwise_affine=True)\n",
      "          (norm2): LayerNorm((16,), eps=1e-05, elementwise_affine=True)\n",
      "          (dropout1): Dropout(p=0.1, inplace=False)\n",
      "          (dropout2): Dropout(p=0.1, inplace=False)\n",
      "        )\n",
      "      )\n",
      "      (norm): LayerNorm((16,), eps=1e-05, elementwise_affine=True)\n",
      "    )\n",
      "    (decoder): TransformerDecoder(\n",
      "      (layers): ModuleList(\n",
      "        (0-13): 14 x TransformerDecoderLayer(\n",
      "          (self_attn): MultiheadAttention(\n",
      "            (out_proj): NonDynamicallyQuantizableLinear(in_features=16, out_features=16, bias=True)\n",
      "          )\n",
      "          (multihead_attn): MultiheadAttention(\n",
      "            (out_proj): NonDynamicallyQuantizableLinear(in_features=16, out_features=16, bias=True)\n",
      "          )\n",
      "          (linear1): Linear(in_features=16, out_features=64, bias=True)\n",
      "          (dropout): Dropout(p=0.1, inplace=False)\n",
      "          (linear2): Linear(in_features=64, out_features=16, bias=True)\n",
      "          (norm1): LayerNorm((16,), eps=1e-05, elementwise_affine=True)\n",
      "          (norm2): LayerNorm((16,), eps=1e-05, elementwise_affine=True)\n",
      "          (norm3): LayerNorm((16,), eps=1e-05, elementwise_affine=True)\n",
      "          (dropout1): Dropout(p=0.1, inplace=False)\n",
      "          (dropout2): Dropout(p=0.1, inplace=False)\n",
      "          (dropout3): Dropout(p=0.1, inplace=False)\n",
      "        )\n",
      "      )\n",
      "      (norm): LayerNorm((16,), eps=1e-05, elementwise_affine=True)\n",
      "    )\n",
      "  )\n",
      "  (linear_layers): ModuleList()\n",
      "  (out): Linear(in_features=16, out_features=1, bias=True)\n",
      ")\n"
     ]
    }
   ],
   "source": [
    "model = Transformer(\n",
    "    num_outputs=1, dim_model=dataset.max_sequence, num_heads=4, \n",
    "    num_encoder_layers=24, num_decoder_layers=14, dropout_p=0.1, \n",
    "    norm_first=False, num_linear_layers=0, dim_feedforward=4*dataset.max_sequence\n",
    ").to(device)\n",
    "\n",
    "print(model)\n",
    "\n",
    "lr_ = 5e-4\n",
    "epoch = 500\n",
    "weight_decay = 1e-4\n",
    "path = '.'\n",
    "model_name = 'ADIM-MULTI-SCALER'\n",
    "\n",
    "loss = torch.nn.MSELoss()\n",
    "optimizer = torch.optim.Adam(model.parameters(), lr=lr_)\n",
    "#optimizer = torch.optim.SGD(model.parameters(), lr=lr_)\n",
    "#optimizer = torch.optim.AdamW(model.parameters(), lr=lr_, weight_decay=weight_decay)\n",
    "sched = None\n",
    "sched = torch.optim.lr_scheduler.OneCycleLR(optimizer, lr_, epochs=epoch,\n",
    "                                            steps_per_epoch=len(train_loader))\n",
    "training = Training(epoch, loss, optimizer, sched, model_name=model_name, path=path, early_stop=False, patience=20)"
   ]
  },
  {
   "cell_type": "code",
   "execution_count": 12,
   "metadata": {
    "tags": []
   },
   "outputs": [
    {
     "name": "stderr",
     "output_type": "stream",
     "text": [
      "100%|██████████| 238/238 [00:21<00:00, 11.22it/s]\n",
      "100%|██████████| 85/85 [00:01<00:00, 82.84it/s]\n",
      "100%|██████████| 17/17 [00:00<00:00, 80.38it/s]\n"
     ]
    },
    {
     "name": "stdout",
     "output_type": "stream",
     "text": [
      "Loss Decreasing.. inf >> 1.956 \n",
      "saving model...\n",
      "Epoch:1/500.. Train Loss: 0.961.. Val Loss: 1.956.. Test Loss: 0.277.. Time: 0.38m\n"
     ]
    },
    {
     "name": "stderr",
     "output_type": "stream",
     "text": [
      "100%|██████████| 238/238 [00:20<00:00, 11.87it/s]\n",
      "100%|██████████| 85/85 [00:01<00:00, 75.72it/s]\n",
      "100%|██████████| 17/17 [00:00<00:00, 73.46it/s]\n"
     ]
    },
    {
     "name": "stdout",
     "output_type": "stream",
     "text": [
      "Loss Decreasing.. 1.956 >> 1.946 \n",
      "saving model...\n",
      "Epoch:2/500.. Train Loss: 0.826.. Val Loss: 1.946.. Test Loss: 0.271.. Time: 0.36m\n"
     ]
    },
    {
     "name": "stderr",
     "output_type": "stream",
     "text": [
      "100%|██████████| 238/238 [00:22<00:00, 10.48it/s]\n",
      "100%|██████████| 85/85 [00:01<00:00, 75.95it/s]\n",
      "100%|██████████| 17/17 [00:00<00:00, 75.65it/s]\n"
     ]
    },
    {
     "name": "stdout",
     "output_type": "stream",
     "text": [
      "Epoch:3/500.. Train Loss: 0.827.. Val Loss: 1.967.. Test Loss: 0.277.. Time: 0.40m\n"
     ]
    },
    {
     "name": "stderr",
     "output_type": "stream",
     "text": [
      "100%|██████████| 238/238 [00:22<00:00, 10.56it/s]\n",
      "100%|██████████| 85/85 [00:01<00:00, 74.46it/s]\n",
      "100%|██████████| 17/17 [00:00<00:00, 74.38it/s]\n"
     ]
    },
    {
     "name": "stdout",
     "output_type": "stream",
     "text": [
      "Epoch:4/500.. Train Loss: 0.833.. Val Loss: 1.972.. Test Loss: 0.272.. Time: 0.40m\n"
     ]
    },
    {
     "name": "stderr",
     "output_type": "stream",
     "text": [
      "100%|██████████| 238/238 [00:21<00:00, 11.20it/s]\n",
      "100%|██████████| 85/85 [00:01<00:00, 75.56it/s]\n",
      "100%|██████████| 17/17 [00:00<00:00, 74.38it/s]\n"
     ]
    },
    {
     "name": "stdout",
     "output_type": "stream",
     "text": [
      "Epoch:5/500.. Train Loss: 0.813.. Val Loss: 1.952.. Test Loss: 0.271.. Time: 0.38m\n"
     ]
    },
    {
     "name": "stderr",
     "output_type": "stream",
     "text": [
      "100%|██████████| 238/238 [00:21<00:00, 10.90it/s]\n",
      "100%|██████████| 85/85 [00:01<00:00, 75.98it/s]\n",
      "100%|██████████| 17/17 [00:00<00:00, 71.92it/s]\n"
     ]
    },
    {
     "name": "stdout",
     "output_type": "stream",
     "text": [
      "Epoch:6/500.. Train Loss: 0.827.. Val Loss: 1.968.. Test Loss: 0.281.. Time: 0.39m\n"
     ]
    },
    {
     "name": "stderr",
     "output_type": "stream",
     "text": [
      "100%|██████████| 238/238 [00:22<00:00, 10.67it/s]\n",
      "100%|██████████| 85/85 [00:01<00:00, 75.53it/s]\n",
      "100%|██████████| 17/17 [00:00<00:00, 74.87it/s]\n"
     ]
    },
    {
     "name": "stdout",
     "output_type": "stream",
     "text": [
      "Epoch:7/500.. Train Loss: 0.822.. Val Loss: 1.957.. Test Loss: 0.277.. Time: 0.39m\n"
     ]
    },
    {
     "name": "stderr",
     "output_type": "stream",
     "text": [
      "100%|██████████| 238/238 [00:22<00:00, 10.79it/s]\n",
      "100%|██████████| 85/85 [00:01<00:00, 75.60it/s]\n",
      "100%|██████████| 17/17 [00:00<00:00, 68.17it/s]\n"
     ]
    },
    {
     "name": "stdout",
     "output_type": "stream",
     "text": [
      "Epoch:8/500.. Train Loss: 0.817.. Val Loss: 1.968.. Test Loss: 0.279.. Time: 0.39m\n"
     ]
    },
    {
     "name": "stderr",
     "output_type": "stream",
     "text": [
      "100%|██████████| 238/238 [00:22<00:00, 10.69it/s]\n",
      "100%|██████████| 85/85 [00:01<00:00, 76.08it/s]\n",
      "100%|██████████| 17/17 [00:00<00:00, 72.65it/s]\n"
     ]
    },
    {
     "name": "stdout",
     "output_type": "stream",
     "text": [
      "Epoch:9/500.. Train Loss: 0.810.. Val Loss: 1.956.. Test Loss: 0.275.. Time: 0.39m\n"
     ]
    },
    {
     "name": "stderr",
     "output_type": "stream",
     "text": [
      "100%|██████████| 238/238 [00:22<00:00, 10.70it/s]\n",
      "100%|██████████| 85/85 [00:01<00:00, 76.52it/s]\n",
      "100%|██████████| 17/17 [00:00<00:00, 75.36it/s]\n"
     ]
    },
    {
     "name": "stdout",
     "output_type": "stream",
     "text": [
      "Epoch:10/500.. Train Loss: 0.815.. Val Loss: 1.974.. Test Loss: 0.280.. Time: 0.39m\n"
     ]
    },
    {
     "name": "stderr",
     "output_type": "stream",
     "text": [
      "100%|██████████| 238/238 [00:22<00:00, 10.54it/s]\n",
      "100%|██████████| 85/85 [00:01<00:00, 74.15it/s]\n",
      "100%|██████████| 17/17 [00:00<00:00, 74.66it/s]\n"
     ]
    },
    {
     "name": "stdout",
     "output_type": "stream",
     "text": [
      "Epoch:11/500.. Train Loss: 0.804.. Val Loss: 1.960.. Test Loss: 0.282.. Time: 0.40m\n"
     ]
    },
    {
     "name": "stderr",
     "output_type": "stream",
     "text": [
      "100%|██████████| 238/238 [00:22<00:00, 10.72it/s]\n",
      "100%|██████████| 85/85 [00:01<00:00, 75.90it/s]\n",
      "100%|██████████| 17/17 [00:00<00:00, 75.14it/s]\n"
     ]
    },
    {
     "name": "stdout",
     "output_type": "stream",
     "text": [
      "Loss Decreasing.. 1.946 >> 1.908 \n",
      "saving model...\n",
      "Epoch:12/500.. Train Loss: 0.794.. Val Loss: 1.908.. Test Loss: 0.264.. Time: 0.39m\n"
     ]
    },
    {
     "name": "stderr",
     "output_type": "stream",
     "text": [
      "100%|██████████| 238/238 [00:22<00:00, 10.61it/s]\n",
      "100%|██████████| 85/85 [00:01<00:00, 75.96it/s]\n",
      "100%|██████████| 17/17 [00:00<00:00, 74.62it/s]\n"
     ]
    },
    {
     "name": "stdout",
     "output_type": "stream",
     "text": [
      "Loss Decreasing.. 1.908 >> 1.800 \n",
      "saving model...\n",
      "Epoch:13/500.. Train Loss: 0.773.. Val Loss: 1.800.. Test Loss: 0.239.. Time: 0.40m\n"
     ]
    },
    {
     "name": "stderr",
     "output_type": "stream",
     "text": [
      "100%|██████████| 238/238 [00:22<00:00, 10.66it/s]\n",
      "100%|██████████| 85/85 [00:01<00:00, 74.64it/s]\n",
      "100%|██████████| 17/17 [00:00<00:00, 74.04it/s]\n"
     ]
    },
    {
     "name": "stdout",
     "output_type": "stream",
     "text": [
      "Loss Decreasing.. 1.800 >> 1.609 \n",
      "saving model...\n",
      "Epoch:14/500.. Train Loss: 0.718.. Val Loss: 1.609.. Test Loss: 0.263.. Time: 0.40m\n"
     ]
    },
    {
     "name": "stderr",
     "output_type": "stream",
     "text": [
      "100%|██████████| 238/238 [00:22<00:00, 10.71it/s]\n",
      "100%|██████████| 85/85 [00:01<00:00, 76.04it/s]\n",
      "100%|██████████| 17/17 [00:00<00:00, 75.66it/s]\n"
     ]
    },
    {
     "name": "stdout",
     "output_type": "stream",
     "text": [
      "Loss Decreasing.. 1.609 >> 1.557 \n",
      "saving model...\n",
      "Epoch:15/500.. Train Loss: 0.653.. Val Loss: 1.557.. Test Loss: 0.291.. Time: 0.39m\n"
     ]
    },
    {
     "name": "stderr",
     "output_type": "stream",
     "text": [
      "100%|██████████| 238/238 [00:20<00:00, 11.71it/s]\n",
      "100%|██████████| 85/85 [00:01<00:00, 75.18it/s]\n",
      "100%|██████████| 17/17 [00:00<00:00, 74.95it/s]\n"
     ]
    },
    {
     "name": "stdout",
     "output_type": "stream",
     "text": [
      "Loss Decreasing.. 1.557 >> 1.530 \n",
      "saving model...\n",
      "Epoch:16/500.. Train Loss: 0.645.. Val Loss: 1.530.. Test Loss: 0.328.. Time: 0.36m\n"
     ]
    },
    {
     "name": "stderr",
     "output_type": "stream",
     "text": [
      "100%|██████████| 238/238 [00:21<00:00, 11.06it/s]\n",
      "100%|██████████| 85/85 [00:01<00:00, 74.12it/s]\n",
      "100%|██████████| 17/17 [00:00<00:00, 73.44it/s]\n"
     ]
    },
    {
     "name": "stdout",
     "output_type": "stream",
     "text": [
      "Epoch:17/500.. Train Loss: 0.627.. Val Loss: 1.541.. Test Loss: 0.319.. Time: 0.38m\n"
     ]
    },
    {
     "name": "stderr",
     "output_type": "stream",
     "text": [
      "100%|██████████| 238/238 [00:22<00:00, 10.55it/s]\n",
      "100%|██████████| 85/85 [00:01<00:00, 75.15it/s]\n",
      "100%|██████████| 17/17 [00:00<00:00, 75.57it/s]\n"
     ]
    },
    {
     "name": "stdout",
     "output_type": "stream",
     "text": [
      "Loss Decreasing.. 1.530 >> 1.522 \n",
      "saving model...\n",
      "Epoch:18/500.. Train Loss: 0.624.. Val Loss: 1.522.. Test Loss: 0.348.. Time: 0.40m\n"
     ]
    },
    {
     "name": "stderr",
     "output_type": "stream",
     "text": [
      "100%|██████████| 238/238 [00:22<00:00, 10.79it/s]\n",
      "100%|██████████| 85/85 [00:01<00:00, 75.77it/s]\n",
      "100%|██████████| 17/17 [00:00<00:00, 74.82it/s]\n"
     ]
    },
    {
     "name": "stdout",
     "output_type": "stream",
     "text": [
      "Epoch:19/500.. Train Loss: 0.620.. Val Loss: 1.565.. Test Loss: 0.311.. Time: 0.39m\n"
     ]
    },
    {
     "name": "stderr",
     "output_type": "stream",
     "text": [
      "100%|██████████| 238/238 [00:21<00:00, 11.11it/s]\n",
      "100%|██████████| 85/85 [00:01<00:00, 75.61it/s]\n",
      "100%|██████████| 17/17 [00:00<00:00, 73.68it/s]\n"
     ]
    },
    {
     "name": "stdout",
     "output_type": "stream",
     "text": [
      "Epoch:20/500.. Train Loss: 0.603.. Val Loss: 1.606.. Test Loss: 0.259.. Time: 0.38m\n"
     ]
    },
    {
     "name": "stderr",
     "output_type": "stream",
     "text": [
      "100%|██████████| 238/238 [00:22<00:00, 10.42it/s]\n",
      "100%|██████████| 85/85 [00:01<00:00, 75.50it/s]\n",
      "100%|██████████| 17/17 [00:00<00:00, 75.04it/s]\n"
     ]
    },
    {
     "name": "stdout",
     "output_type": "stream",
     "text": [
      "Epoch:21/500.. Train Loss: 0.594.. Val Loss: 1.593.. Test Loss: 0.266.. Time: 0.40m\n"
     ]
    },
    {
     "name": "stderr",
     "output_type": "stream",
     "text": [
      "100%|██████████| 238/238 [00:22<00:00, 10.78it/s]\n",
      "100%|██████████| 85/85 [00:01<00:00, 76.16it/s]\n",
      "100%|██████████| 17/17 [00:00<00:00, 76.14it/s]\n"
     ]
    },
    {
     "name": "stdout",
     "output_type": "stream",
     "text": [
      "Epoch:22/500.. Train Loss: 0.595.. Val Loss: 1.542.. Test Loss: 0.290.. Time: 0.39m\n"
     ]
    },
    {
     "name": "stderr",
     "output_type": "stream",
     "text": [
      "100%|██████████| 238/238 [00:22<00:00, 10.62it/s]\n",
      "100%|██████████| 85/85 [00:01<00:00, 75.56it/s]\n",
      "100%|██████████| 17/17 [00:00<00:00, 74.99it/s]\n"
     ]
    },
    {
     "name": "stdout",
     "output_type": "stream",
     "text": [
      "Epoch:23/500.. Train Loss: 0.612.. Val Loss: 1.584.. Test Loss: 0.286.. Time: 0.40m\n"
     ]
    },
    {
     "name": "stderr",
     "output_type": "stream",
     "text": [
      "100%|██████████| 238/238 [00:22<00:00, 10.73it/s]\n",
      "100%|██████████| 85/85 [00:01<00:00, 76.15it/s]\n",
      "100%|██████████| 17/17 [00:00<00:00, 72.11it/s]\n"
     ]
    },
    {
     "name": "stdout",
     "output_type": "stream",
     "text": [
      "Epoch:24/500.. Train Loss: 0.589.. Val Loss: 1.584.. Test Loss: 0.281.. Time: 0.39m\n"
     ]
    },
    {
     "name": "stderr",
     "output_type": "stream",
     "text": [
      "100%|██████████| 238/238 [00:22<00:00, 10.81it/s]\n",
      "100%|██████████| 85/85 [00:01<00:00, 75.10it/s]\n",
      "100%|██████████| 17/17 [00:00<00:00, 75.25it/s]\n"
     ]
    },
    {
     "name": "stdout",
     "output_type": "stream",
     "text": [
      "Epoch:25/500.. Train Loss: 0.580.. Val Loss: 1.587.. Test Loss: 0.275.. Time: 0.39m\n"
     ]
    },
    {
     "name": "stderr",
     "output_type": "stream",
     "text": [
      "100%|██████████| 238/238 [00:20<00:00, 11.85it/s]\n",
      "100%|██████████| 85/85 [00:01<00:00, 75.30it/s]\n",
      "100%|██████████| 17/17 [00:00<00:00, 75.21it/s]\n"
     ]
    },
    {
     "name": "stdout",
     "output_type": "stream",
     "text": [
      "Epoch:26/500.. Train Loss: 0.582.. Val Loss: 1.591.. Test Loss: 0.272.. Time: 0.36m\n"
     ]
    },
    {
     "name": "stderr",
     "output_type": "stream",
     "text": [
      "100%|██████████| 238/238 [00:20<00:00, 11.53it/s]\n",
      "100%|██████████| 85/85 [00:01<00:00, 75.50it/s]\n",
      "100%|██████████| 17/17 [00:00<00:00, 74.97it/s]\n"
     ]
    },
    {
     "name": "stdout",
     "output_type": "stream",
     "text": [
      "Epoch:27/500.. Train Loss: 0.583.. Val Loss: 1.637.. Test Loss: 0.249.. Time: 0.37m\n"
     ]
    },
    {
     "name": "stderr",
     "output_type": "stream",
     "text": [
      "100%|██████████| 238/238 [00:19<00:00, 11.91it/s]\n",
      "100%|██████████| 85/85 [00:01<00:00, 75.56it/s]\n",
      "100%|██████████| 17/17 [00:00<00:00, 74.64it/s]\n"
     ]
    },
    {
     "name": "stdout",
     "output_type": "stream",
     "text": [
      "Epoch:28/500.. Train Loss: 0.592.. Val Loss: 1.565.. Test Loss: 0.317.. Time: 0.36m\n"
     ]
    },
    {
     "name": "stderr",
     "output_type": "stream",
     "text": [
      "100%|██████████| 238/238 [00:22<00:00, 10.74it/s]\n",
      "100%|██████████| 85/85 [00:01<00:00, 74.65it/s]\n",
      "100%|██████████| 17/17 [00:00<00:00, 73.57it/s]\n"
     ]
    },
    {
     "name": "stdout",
     "output_type": "stream",
     "text": [
      "Epoch:29/500.. Train Loss: 0.572.. Val Loss: 1.603.. Test Loss: 0.307.. Time: 0.39m\n"
     ]
    },
    {
     "name": "stderr",
     "output_type": "stream",
     "text": [
      "100%|██████████| 238/238 [00:21<00:00, 10.94it/s]\n",
      "100%|██████████| 85/85 [00:01<00:00, 76.13it/s]\n",
      "100%|██████████| 17/17 [00:00<00:00, 74.11it/s]\n"
     ]
    },
    {
     "name": "stdout",
     "output_type": "stream",
     "text": [
      "Epoch:30/500.. Train Loss: 0.582.. Val Loss: 1.610.. Test Loss: 0.290.. Time: 0.39m\n"
     ]
    },
    {
     "name": "stderr",
     "output_type": "stream",
     "text": [
      "100%|██████████| 238/238 [00:21<00:00, 10.93it/s]\n",
      "100%|██████████| 85/85 [00:01<00:00, 75.36it/s]\n",
      "100%|██████████| 17/17 [00:00<00:00, 74.65it/s]\n"
     ]
    },
    {
     "name": "stdout",
     "output_type": "stream",
     "text": [
      "Epoch:31/500.. Train Loss: 0.562.. Val Loss: 1.610.. Test Loss: 0.248.. Time: 0.39m\n"
     ]
    },
    {
     "name": "stderr",
     "output_type": "stream",
     "text": [
      "100%|██████████| 238/238 [00:22<00:00, 10.69it/s]\n",
      "100%|██████████| 85/85 [00:01<00:00, 76.03it/s]\n",
      "100%|██████████| 17/17 [00:00<00:00, 75.78it/s]\n"
     ]
    },
    {
     "name": "stdout",
     "output_type": "stream",
     "text": [
      "Epoch:32/500.. Train Loss: 0.555.. Val Loss: 1.614.. Test Loss: 0.258.. Time: 0.39m\n"
     ]
    },
    {
     "name": "stderr",
     "output_type": "stream",
     "text": [
      "100%|██████████| 238/238 [00:22<00:00, 10.69it/s]\n",
      "100%|██████████| 85/85 [00:01<00:00, 75.46it/s]\n",
      "100%|██████████| 17/17 [00:00<00:00, 74.99it/s]\n"
     ]
    },
    {
     "name": "stdout",
     "output_type": "stream",
     "text": [
      "Epoch:33/500.. Train Loss: 0.554.. Val Loss: 1.599.. Test Loss: 0.284.. Time: 0.39m\n"
     ]
    },
    {
     "name": "stderr",
     "output_type": "stream",
     "text": [
      "100%|██████████| 238/238 [00:22<00:00, 10.76it/s]\n",
      "100%|██████████| 85/85 [00:01<00:00, 76.72it/s]\n",
      "100%|██████████| 17/17 [00:00<00:00, 74.68it/s]\n"
     ]
    },
    {
     "name": "stdout",
     "output_type": "stream",
     "text": [
      "Epoch:34/500.. Train Loss: 0.556.. Val Loss: 1.564.. Test Loss: 0.260.. Time: 0.39m\n"
     ]
    },
    {
     "name": "stderr",
     "output_type": "stream",
     "text": [
      "100%|██████████| 238/238 [00:22<00:00, 10.63it/s]\n",
      "100%|██████████| 85/85 [00:01<00:00, 74.94it/s]\n",
      "100%|██████████| 17/17 [00:00<00:00, 74.81it/s]\n"
     ]
    },
    {
     "name": "stdout",
     "output_type": "stream",
     "text": [
      "Epoch:35/500.. Train Loss: 0.561.. Val Loss: 1.587.. Test Loss: 0.254.. Time: 0.40m\n"
     ]
    },
    {
     "name": "stderr",
     "output_type": "stream",
     "text": [
      "100%|██████████| 238/238 [00:22<00:00, 10.64it/s]\n",
      "100%|██████████| 85/85 [00:01<00:00, 75.07it/s]\n",
      "100%|██████████| 17/17 [00:00<00:00, 73.69it/s]\n"
     ]
    },
    {
     "name": "stdout",
     "output_type": "stream",
     "text": [
      "Epoch:36/500.. Train Loss: 0.543.. Val Loss: 1.670.. Test Loss: 0.243.. Time: 0.40m\n"
     ]
    },
    {
     "name": "stderr",
     "output_type": "stream",
     "text": [
      "100%|██████████| 238/238 [00:22<00:00, 10.75it/s]\n",
      "100%|██████████| 85/85 [00:01<00:00, 74.18it/s]\n",
      "100%|██████████| 17/17 [00:00<00:00, 71.98it/s]\n"
     ]
    },
    {
     "name": "stdout",
     "output_type": "stream",
     "text": [
      "Epoch:37/500.. Train Loss: 0.554.. Val Loss: 1.620.. Test Loss: 0.246.. Time: 0.39m\n"
     ]
    },
    {
     "name": "stderr",
     "output_type": "stream",
     "text": [
      "100%|██████████| 238/238 [00:21<00:00, 11.32it/s]\n",
      "100%|██████████| 85/85 [00:01<00:00, 74.95it/s]\n",
      "100%|██████████| 17/17 [00:00<00:00, 75.29it/s]\n"
     ]
    },
    {
     "name": "stdout",
     "output_type": "stream",
     "text": [
      "Epoch:38/500.. Train Loss: 0.552.. Val Loss: 1.556.. Test Loss: 0.279.. Time: 0.37m\n"
     ]
    },
    {
     "name": "stderr",
     "output_type": "stream",
     "text": [
      "100%|██████████| 238/238 [00:22<00:00, 10.74it/s]\n",
      "100%|██████████| 85/85 [00:01<00:00, 74.80it/s]\n",
      "100%|██████████| 17/17 [00:00<00:00, 74.45it/s]\n"
     ]
    },
    {
     "name": "stdout",
     "output_type": "stream",
     "text": [
      "Epoch:39/500.. Train Loss: 0.539.. Val Loss: 1.566.. Test Loss: 0.265.. Time: 0.39m\n"
     ]
    },
    {
     "name": "stderr",
     "output_type": "stream",
     "text": [
      "100%|██████████| 238/238 [00:22<00:00, 10.76it/s]\n",
      "100%|██████████| 85/85 [00:01<00:00, 72.66it/s]\n",
      "100%|██████████| 17/17 [00:00<00:00, 73.30it/s]\n"
     ]
    },
    {
     "name": "stdout",
     "output_type": "stream",
     "text": [
      "Epoch:40/500.. Train Loss: 0.526.. Val Loss: 1.637.. Test Loss: 0.235.. Time: 0.39m\n"
     ]
    },
    {
     "name": "stderr",
     "output_type": "stream",
     "text": [
      "100%|██████████| 238/238 [00:21<00:00, 10.84it/s]\n",
      "100%|██████████| 85/85 [00:01<00:00, 74.60it/s]\n",
      "100%|██████████| 17/17 [00:00<00:00, 74.31it/s]\n"
     ]
    },
    {
     "name": "stdout",
     "output_type": "stream",
     "text": [
      "Epoch:41/500.. Train Loss: 0.519.. Val Loss: 1.628.. Test Loss: 0.240.. Time: 0.39m\n"
     ]
    },
    {
     "name": "stderr",
     "output_type": "stream",
     "text": [
      "100%|██████████| 238/238 [00:22<00:00, 10.69it/s]\n",
      "100%|██████████| 85/85 [00:01<00:00, 74.97it/s]\n",
      "100%|██████████| 17/17 [00:00<00:00, 74.85it/s]\n"
     ]
    },
    {
     "name": "stdout",
     "output_type": "stream",
     "text": [
      "Epoch:42/500.. Train Loss: 0.526.. Val Loss: 1.599.. Test Loss: 0.249.. Time: 0.39m\n"
     ]
    },
    {
     "name": "stderr",
     "output_type": "stream",
     "text": [
      "100%|██████████| 238/238 [00:19<00:00, 11.96it/s]\n",
      "100%|██████████| 85/85 [00:01<00:00, 75.18it/s]\n",
      "100%|██████████| 17/17 [00:00<00:00, 73.94it/s]\n"
     ]
    },
    {
     "name": "stdout",
     "output_type": "stream",
     "text": [
      "Epoch:43/500.. Train Loss: 0.509.. Val Loss: 1.604.. Test Loss: 0.262.. Time: 0.35m\n"
     ]
    },
    {
     "name": "stderr",
     "output_type": "stream",
     "text": [
      "100%|██████████| 238/238 [00:19<00:00, 12.23it/s]\n",
      "100%|██████████| 85/85 [00:01<00:00, 75.32it/s]\n",
      "100%|██████████| 17/17 [00:00<00:00, 75.16it/s]\n"
     ]
    },
    {
     "name": "stdout",
     "output_type": "stream",
     "text": [
      "Epoch:44/500.. Train Loss: 0.511.. Val Loss: 1.561.. Test Loss: 0.278.. Time: 0.35m\n"
     ]
    },
    {
     "name": "stderr",
     "output_type": "stream",
     "text": [
      "100%|██████████| 238/238 [00:22<00:00, 10.75it/s]\n",
      "100%|██████████| 85/85 [00:01<00:00, 75.57it/s]\n",
      "100%|██████████| 17/17 [00:00<00:00, 71.98it/s]\n"
     ]
    },
    {
     "name": "stdout",
     "output_type": "stream",
     "text": [
      "Epoch:45/500.. Train Loss: 0.518.. Val Loss: 1.564.. Test Loss: 0.265.. Time: 0.39m\n"
     ]
    },
    {
     "name": "stderr",
     "output_type": "stream",
     "text": [
      "100%|██████████| 238/238 [00:22<00:00, 10.81it/s]\n",
      "100%|██████████| 85/85 [00:01<00:00, 75.00it/s]\n",
      "100%|██████████| 17/17 [00:00<00:00, 74.94it/s]\n"
     ]
    },
    {
     "name": "stdout",
     "output_type": "stream",
     "text": [
      "Epoch:46/500.. Train Loss: 0.504.. Val Loss: 1.599.. Test Loss: 0.249.. Time: 0.39m\n"
     ]
    },
    {
     "name": "stderr",
     "output_type": "stream",
     "text": [
      "100%|██████████| 238/238 [00:22<00:00, 10.68it/s]\n",
      "100%|██████████| 85/85 [00:01<00:00, 75.88it/s]\n",
      "100%|██████████| 17/17 [00:00<00:00, 75.17it/s]\n"
     ]
    },
    {
     "name": "stdout",
     "output_type": "stream",
     "text": [
      "Epoch:47/500.. Train Loss: 0.497.. Val Loss: 1.574.. Test Loss: 0.274.. Time: 0.39m\n"
     ]
    },
    {
     "name": "stderr",
     "output_type": "stream",
     "text": [
      "100%|██████████| 238/238 [00:22<00:00, 10.48it/s]\n",
      "100%|██████████| 85/85 [00:01<00:00, 76.12it/s]\n",
      "100%|██████████| 17/17 [00:00<00:00, 74.93it/s]\n"
     ]
    },
    {
     "name": "stdout",
     "output_type": "stream",
     "text": [
      "Epoch:48/500.. Train Loss: 0.489.. Val Loss: 1.605.. Test Loss: 0.246.. Time: 0.40m\n"
     ]
    },
    {
     "name": "stderr",
     "output_type": "stream",
     "text": [
      "100%|██████████| 238/238 [00:22<00:00, 10.74it/s]\n",
      "100%|██████████| 85/85 [00:01<00:00, 74.94it/s]\n",
      "100%|██████████| 17/17 [00:00<00:00, 74.51it/s]\n"
     ]
    },
    {
     "name": "stdout",
     "output_type": "stream",
     "text": [
      "Epoch:49/500.. Train Loss: 0.485.. Val Loss: 1.616.. Test Loss: 0.243.. Time: 0.39m\n"
     ]
    },
    {
     "name": "stderr",
     "output_type": "stream",
     "text": [
      "100%|██████████| 238/238 [00:22<00:00, 10.77it/s]\n",
      "100%|██████████| 85/85 [00:01<00:00, 75.70it/s]\n",
      "100%|██████████| 17/17 [00:00<00:00, 76.73it/s]\n"
     ]
    },
    {
     "name": "stdout",
     "output_type": "stream",
     "text": [
      "Epoch:50/500.. Train Loss: 0.472.. Val Loss: 1.610.. Test Loss: 0.229.. Time: 0.39m\n"
     ]
    },
    {
     "name": "stderr",
     "output_type": "stream",
     "text": [
      "100%|██████████| 238/238 [00:22<00:00, 10.71it/s]\n",
      "100%|██████████| 85/85 [00:01<00:00, 75.03it/s]\n",
      "100%|██████████| 17/17 [00:00<00:00, 71.97it/s]\n"
     ]
    },
    {
     "name": "stdout",
     "output_type": "stream",
     "text": [
      "Epoch:51/500.. Train Loss: 0.477.. Val Loss: 1.598.. Test Loss: 0.243.. Time: 0.39m\n"
     ]
    },
    {
     "name": "stderr",
     "output_type": "stream",
     "text": [
      "100%|██████████| 238/238 [00:22<00:00, 10.58it/s]\n",
      "100%|██████████| 85/85 [00:01<00:00, 74.51it/s]\n",
      "100%|██████████| 17/17 [00:00<00:00, 74.19it/s]\n"
     ]
    },
    {
     "name": "stdout",
     "output_type": "stream",
     "text": [
      "Epoch:52/500.. Train Loss: 0.474.. Val Loss: 1.603.. Test Loss: 0.231.. Time: 0.40m\n"
     ]
    },
    {
     "name": "stderr",
     "output_type": "stream",
     "text": [
      "100%|██████████| 238/238 [00:21<00:00, 10.93it/s]\n",
      "100%|██████████| 85/85 [00:01<00:00, 75.29it/s]\n",
      "100%|██████████| 17/17 [00:00<00:00, 74.15it/s]\n"
     ]
    },
    {
     "name": "stdout",
     "output_type": "stream",
     "text": [
      "Epoch:53/500.. Train Loss: 0.470.. Val Loss: 1.580.. Test Loss: 0.232.. Time: 0.39m\n"
     ]
    },
    {
     "name": "stderr",
     "output_type": "stream",
     "text": [
      "100%|██████████| 238/238 [00:21<00:00, 10.89it/s]\n",
      "100%|██████████| 85/85 [00:01<00:00, 74.77it/s]\n",
      "100%|██████████| 17/17 [00:00<00:00, 73.73it/s]\n"
     ]
    },
    {
     "name": "stdout",
     "output_type": "stream",
     "text": [
      "Epoch:54/500.. Train Loss: 0.458.. Val Loss: 1.634.. Test Loss: 0.206.. Time: 0.39m\n"
     ]
    },
    {
     "name": "stderr",
     "output_type": "stream",
     "text": [
      "100%|██████████| 238/238 [00:21<00:00, 10.87it/s]\n",
      "100%|██████████| 85/85 [00:01<00:00, 76.30it/s]\n",
      "100%|██████████| 17/17 [00:00<00:00, 75.74it/s]\n"
     ]
    },
    {
     "name": "stdout",
     "output_type": "stream",
     "text": [
      "Epoch:55/500.. Train Loss: 0.458.. Val Loss: 1.587.. Test Loss: 0.198.. Time: 0.39m\n"
     ]
    },
    {
     "name": "stderr",
     "output_type": "stream",
     "text": [
      "100%|██████████| 238/238 [00:22<00:00, 10.66it/s]\n",
      "100%|██████████| 85/85 [00:01<00:00, 75.57it/s]\n",
      "100%|██████████| 17/17 [00:00<00:00, 75.47it/s]\n"
     ]
    },
    {
     "name": "stdout",
     "output_type": "stream",
     "text": [
      "Epoch:56/500.. Train Loss: 0.447.. Val Loss: 1.550.. Test Loss: 0.236.. Time: 0.39m\n"
     ]
    },
    {
     "name": "stderr",
     "output_type": "stream",
     "text": [
      "100%|██████████| 238/238 [00:22<00:00, 10.60it/s]\n",
      "100%|██████████| 85/85 [00:01<00:00, 75.74it/s]\n",
      "100%|██████████| 17/17 [00:00<00:00, 73.27it/s]\n"
     ]
    },
    {
     "name": "stdout",
     "output_type": "stream",
     "text": [
      "Epoch:57/500.. Train Loss: 0.465.. Val Loss: 1.616.. Test Loss: 0.218.. Time: 0.40m\n"
     ]
    },
    {
     "name": "stderr",
     "output_type": "stream",
     "text": [
      "100%|██████████| 238/238 [00:22<00:00, 10.59it/s]\n",
      "100%|██████████| 85/85 [00:01<00:00, 72.22it/s]\n",
      "100%|██████████| 17/17 [00:00<00:00, 72.61it/s]\n"
     ]
    },
    {
     "name": "stdout",
     "output_type": "stream",
     "text": [
      "Epoch:58/500.. Train Loss: 0.458.. Val Loss: 1.602.. Test Loss: 0.183.. Time: 0.40m\n"
     ]
    },
    {
     "name": "stderr",
     "output_type": "stream",
     "text": [
      "100%|██████████| 238/238 [00:22<00:00, 10.56it/s]\n",
      "100%|██████████| 85/85 [00:01<00:00, 74.13it/s]\n",
      "100%|██████████| 17/17 [00:00<00:00, 73.76it/s]\n"
     ]
    },
    {
     "name": "stdout",
     "output_type": "stream",
     "text": [
      "Epoch:59/500.. Train Loss: 0.435.. Val Loss: 1.594.. Test Loss: 0.177.. Time: 0.40m\n"
     ]
    },
    {
     "name": "stderr",
     "output_type": "stream",
     "text": [
      "100%|██████████| 238/238 [00:22<00:00, 10.77it/s]\n",
      "100%|██████████| 85/85 [00:01<00:00, 75.00it/s]\n",
      "100%|██████████| 17/17 [00:00<00:00, 74.39it/s]\n"
     ]
    },
    {
     "name": "stdout",
     "output_type": "stream",
     "text": [
      "Epoch:60/500.. Train Loss: 0.436.. Val Loss: 1.579.. Test Loss: 0.204.. Time: 0.39m\n"
     ]
    },
    {
     "name": "stderr",
     "output_type": "stream",
     "text": [
      "100%|██████████| 238/238 [00:22<00:00, 10.70it/s]\n",
      "100%|██████████| 85/85 [00:01<00:00, 75.99it/s]\n",
      "100%|██████████| 17/17 [00:00<00:00, 75.29it/s]\n"
     ]
    },
    {
     "name": "stdout",
     "output_type": "stream",
     "text": [
      "Epoch:61/500.. Train Loss: 0.426.. Val Loss: 1.600.. Test Loss: 0.232.. Time: 0.39m\n"
     ]
    },
    {
     "name": "stderr",
     "output_type": "stream",
     "text": [
      "100%|██████████| 238/238 [00:19<00:00, 12.34it/s]\n",
      "100%|██████████| 85/85 [00:01<00:00, 76.16it/s]\n",
      "100%|██████████| 17/17 [00:00<00:00, 74.54it/s]\n"
     ]
    },
    {
     "name": "stdout",
     "output_type": "stream",
     "text": [
      "Epoch:62/500.. Train Loss: 0.441.. Val Loss: 1.608.. Test Loss: 0.202.. Time: 0.34m\n"
     ]
    },
    {
     "name": "stderr",
     "output_type": "stream",
     "text": [
      "100%|██████████| 238/238 [00:21<00:00, 11.04it/s]\n",
      "100%|██████████| 85/85 [00:01<00:00, 76.96it/s]\n",
      "100%|██████████| 17/17 [00:00<00:00, 76.25it/s]\n"
     ]
    },
    {
     "name": "stdout",
     "output_type": "stream",
     "text": [
      "Epoch:63/500.. Train Loss: 0.439.. Val Loss: 1.561.. Test Loss: 0.201.. Time: 0.38m\n"
     ]
    },
    {
     "name": "stderr",
     "output_type": "stream",
     "text": [
      "100%|██████████| 238/238 [00:22<00:00, 10.72it/s]\n",
      "100%|██████████| 85/85 [00:01<00:00, 75.51it/s]\n",
      "100%|██████████| 17/17 [00:00<00:00, 75.15it/s]\n"
     ]
    },
    {
     "name": "stdout",
     "output_type": "stream",
     "text": [
      "Loss Decreasing.. 1.522 >> 1.513 \n",
      "saving model...\n",
      "Epoch:64/500.. Train Loss: 0.418.. Val Loss: 1.513.. Test Loss: 0.155.. Time: 0.39m\n"
     ]
    },
    {
     "name": "stderr",
     "output_type": "stream",
     "text": [
      "100%|██████████| 238/238 [00:22<00:00, 10.72it/s]\n",
      "100%|██████████| 85/85 [00:01<00:00, 75.40it/s]\n",
      "100%|██████████| 17/17 [00:00<00:00, 75.24it/s]\n"
     ]
    },
    {
     "name": "stdout",
     "output_type": "stream",
     "text": [
      "Epoch:65/500.. Train Loss: 0.421.. Val Loss: 1.556.. Test Loss: 0.165.. Time: 0.39m\n"
     ]
    },
    {
     "name": "stderr",
     "output_type": "stream",
     "text": [
      "100%|██████████| 238/238 [00:21<00:00, 11.05it/s]\n",
      "100%|██████████| 85/85 [00:01<00:00, 76.01it/s]\n",
      "100%|██████████| 17/17 [00:00<00:00, 75.15it/s]\n"
     ]
    },
    {
     "name": "stdout",
     "output_type": "stream",
     "text": [
      "Epoch:66/500.. Train Loss: 0.423.. Val Loss: 1.568.. Test Loss: 0.165.. Time: 0.38m\n"
     ]
    },
    {
     "name": "stderr",
     "output_type": "stream",
     "text": [
      "100%|██████████| 238/238 [00:22<00:00, 10.68it/s]\n",
      "100%|██████████| 85/85 [00:01<00:00, 74.03it/s]\n",
      "100%|██████████| 17/17 [00:00<00:00, 74.16it/s]\n"
     ]
    },
    {
     "name": "stdout",
     "output_type": "stream",
     "text": [
      "Epoch:67/500.. Train Loss: 0.412.. Val Loss: 1.584.. Test Loss: 0.190.. Time: 0.39m\n"
     ]
    },
    {
     "name": "stderr",
     "output_type": "stream",
     "text": [
      "100%|██████████| 238/238 [00:22<00:00, 10.51it/s]\n",
      "100%|██████████| 85/85 [00:01<00:00, 75.64it/s]\n",
      "100%|██████████| 17/17 [00:00<00:00, 75.22it/s]\n"
     ]
    },
    {
     "name": "stdout",
     "output_type": "stream",
     "text": [
      "Epoch:68/500.. Train Loss: 0.417.. Val Loss: 1.565.. Test Loss: 0.160.. Time: 0.40m\n"
     ]
    },
    {
     "name": "stderr",
     "output_type": "stream",
     "text": [
      "100%|██████████| 238/238 [00:22<00:00, 10.74it/s]\n",
      "100%|██████████| 85/85 [00:01<00:00, 75.05it/s]\n",
      "100%|██████████| 17/17 [00:00<00:00, 74.16it/s]\n"
     ]
    },
    {
     "name": "stdout",
     "output_type": "stream",
     "text": [
      "Epoch:69/500.. Train Loss: 0.416.. Val Loss: 1.606.. Test Loss: 0.168.. Time: 0.39m\n"
     ]
    },
    {
     "name": "stderr",
     "output_type": "stream",
     "text": [
      "100%|██████████| 238/238 [00:22<00:00, 10.62it/s]\n",
      "100%|██████████| 85/85 [00:01<00:00, 72.98it/s]\n",
      "100%|██████████| 17/17 [00:00<00:00, 74.77it/s]\n"
     ]
    },
    {
     "name": "stdout",
     "output_type": "stream",
     "text": [
      "Epoch:70/500.. Train Loss: 0.410.. Val Loss: 1.584.. Test Loss: 0.205.. Time: 0.40m\n"
     ]
    },
    {
     "name": "stderr",
     "output_type": "stream",
     "text": [
      "100%|██████████| 238/238 [00:21<00:00, 10.86it/s]\n",
      "100%|██████████| 85/85 [00:01<00:00, 75.64it/s]\n",
      "100%|██████████| 17/17 [00:00<00:00, 74.55it/s]\n"
     ]
    },
    {
     "name": "stdout",
     "output_type": "stream",
     "text": [
      "Loss Decreasing.. 1.513 >> 1.494 \n",
      "saving model...\n",
      "Epoch:71/500.. Train Loss: 0.417.. Val Loss: 1.494.. Test Loss: 0.153.. Time: 0.39m\n"
     ]
    },
    {
     "name": "stderr",
     "output_type": "stream",
     "text": [
      "100%|██████████| 238/238 [00:22<00:00, 10.72it/s]\n",
      "100%|██████████| 85/85 [00:01<00:00, 75.58it/s]\n",
      "100%|██████████| 17/17 [00:00<00:00, 74.25it/s]\n"
     ]
    },
    {
     "name": "stdout",
     "output_type": "stream",
     "text": [
      "Epoch:72/500.. Train Loss: 0.403.. Val Loss: 1.611.. Test Loss: 0.172.. Time: 0.39m\n"
     ]
    },
    {
     "name": "stderr",
     "output_type": "stream",
     "text": [
      "100%|██████████| 238/238 [00:22<00:00, 10.68it/s]\n",
      "100%|██████████| 85/85 [00:01<00:00, 73.56it/s]\n",
      "100%|██████████| 17/17 [00:00<00:00, 72.93it/s]\n"
     ]
    },
    {
     "name": "stdout",
     "output_type": "stream",
     "text": [
      "Epoch:73/500.. Train Loss: 0.407.. Val Loss: 1.558.. Test Loss: 0.168.. Time: 0.39m\n"
     ]
    },
    {
     "name": "stderr",
     "output_type": "stream",
     "text": [
      "100%|██████████| 238/238 [00:22<00:00, 10.52it/s]\n",
      "100%|██████████| 85/85 [00:01<00:00, 75.75it/s]\n",
      "100%|██████████| 17/17 [00:00<00:00, 73.79it/s]\n"
     ]
    },
    {
     "name": "stdout",
     "output_type": "stream",
     "text": [
      "Epoch:74/500.. Train Loss: 0.396.. Val Loss: 1.521.. Test Loss: 0.155.. Time: 0.40m\n"
     ]
    },
    {
     "name": "stderr",
     "output_type": "stream",
     "text": [
      "100%|██████████| 238/238 [00:21<00:00, 11.32it/s]\n",
      "100%|██████████| 85/85 [00:01<00:00, 73.43it/s]\n",
      "100%|██████████| 17/17 [00:00<00:00, 74.37it/s]\n"
     ]
    },
    {
     "name": "stdout",
     "output_type": "stream",
     "text": [
      "Epoch:75/500.. Train Loss: 0.400.. Val Loss: 1.610.. Test Loss: 0.203.. Time: 0.37m\n"
     ]
    },
    {
     "name": "stderr",
     "output_type": "stream",
     "text": [
      "100%|██████████| 238/238 [00:21<00:00, 11.32it/s]\n",
      "100%|██████████| 85/85 [00:01<00:00, 70.06it/s]\n",
      "100%|██████████| 17/17 [00:00<00:00, 75.01it/s]\n"
     ]
    },
    {
     "name": "stdout",
     "output_type": "stream",
     "text": [
      "Epoch:76/500.. Train Loss: 0.403.. Val Loss: 1.595.. Test Loss: 0.164.. Time: 0.37m\n"
     ]
    },
    {
     "name": "stderr",
     "output_type": "stream",
     "text": [
      "100%|██████████| 238/238 [00:22<00:00, 10.80it/s]\n",
      "100%|██████████| 85/85 [00:01<00:00, 76.22it/s]\n",
      "100%|██████████| 17/17 [00:00<00:00, 75.49it/s]\n"
     ]
    },
    {
     "name": "stdout",
     "output_type": "stream",
     "text": [
      "Epoch:77/500.. Train Loss: 0.419.. Val Loss: 1.516.. Test Loss: 0.162.. Time: 0.39m\n"
     ]
    },
    {
     "name": "stderr",
     "output_type": "stream",
     "text": [
      "100%|██████████| 238/238 [00:22<00:00, 10.72it/s]\n",
      "100%|██████████| 85/85 [00:01<00:00, 75.76it/s]\n",
      "100%|██████████| 17/17 [00:00<00:00, 75.56it/s]\n"
     ]
    },
    {
     "name": "stdout",
     "output_type": "stream",
     "text": [
      "Loss Decreasing.. 1.494 >> 1.494 \n",
      "saving model...\n",
      "Epoch:78/500.. Train Loss: 0.389.. Val Loss: 1.494.. Test Loss: 0.163.. Time: 0.39m\n"
     ]
    },
    {
     "name": "stderr",
     "output_type": "stream",
     "text": [
      "100%|██████████| 238/238 [00:22<00:00, 10.71it/s]\n",
      "100%|██████████| 85/85 [00:01<00:00, 75.69it/s]\n",
      "100%|██████████| 17/17 [00:00<00:00, 75.76it/s]\n"
     ]
    },
    {
     "name": "stdout",
     "output_type": "stream",
     "text": [
      "Epoch:79/500.. Train Loss: 0.395.. Val Loss: 1.505.. Test Loss: 0.142.. Time: 0.39m\n"
     ]
    },
    {
     "name": "stderr",
     "output_type": "stream",
     "text": [
      "100%|██████████| 238/238 [00:21<00:00, 11.09it/s]\n",
      "100%|██████████| 85/85 [00:01<00:00, 75.68it/s]\n",
      "100%|██████████| 17/17 [00:00<00:00, 73.44it/s]\n"
     ]
    },
    {
     "name": "stdout",
     "output_type": "stream",
     "text": [
      "Epoch:80/500.. Train Loss: 0.393.. Val Loss: 1.583.. Test Loss: 0.148.. Time: 0.38m\n"
     ]
    },
    {
     "name": "stderr",
     "output_type": "stream",
     "text": [
      "100%|██████████| 238/238 [00:22<00:00, 10.52it/s]\n",
      "100%|██████████| 85/85 [00:01<00:00, 73.44it/s]\n",
      "100%|██████████| 17/17 [00:00<00:00, 72.46it/s]\n"
     ]
    },
    {
     "name": "stdout",
     "output_type": "stream",
     "text": [
      "Epoch:81/500.. Train Loss: 0.398.. Val Loss: 1.586.. Test Loss: 0.156.. Time: 0.40m\n"
     ]
    },
    {
     "name": "stderr",
     "output_type": "stream",
     "text": [
      "100%|██████████| 238/238 [00:19<00:00, 11.97it/s]\n",
      "100%|██████████| 85/85 [00:01<00:00, 75.68it/s]\n",
      "100%|██████████| 17/17 [00:00<00:00, 75.34it/s]\n"
     ]
    },
    {
     "name": "stdout",
     "output_type": "stream",
     "text": [
      "Loss Decreasing.. 1.494 >> 1.437 \n",
      "saving model...\n",
      "Epoch:82/500.. Train Loss: 0.397.. Val Loss: 1.437.. Test Loss: 0.145.. Time: 0.35m\n"
     ]
    },
    {
     "name": "stderr",
     "output_type": "stream",
     "text": [
      "100%|██████████| 238/238 [00:22<00:00, 10.56it/s]\n",
      "100%|██████████| 85/85 [00:01<00:00, 75.43it/s]\n",
      "100%|██████████| 17/17 [00:00<00:00, 74.94it/s]\n"
     ]
    },
    {
     "name": "stdout",
     "output_type": "stream",
     "text": [
      "Epoch:83/500.. Train Loss: 0.394.. Val Loss: 1.460.. Test Loss: 0.147.. Time: 0.40m\n"
     ]
    },
    {
     "name": "stderr",
     "output_type": "stream",
     "text": [
      "100%|██████████| 238/238 [00:22<00:00, 10.44it/s]\n",
      "100%|██████████| 85/85 [00:01<00:00, 76.05it/s]\n",
      "100%|██████████| 17/17 [00:00<00:00, 75.34it/s]\n"
     ]
    },
    {
     "name": "stdout",
     "output_type": "stream",
     "text": [
      "Epoch:84/500.. Train Loss: 0.395.. Val Loss: 1.563.. Test Loss: 0.155.. Time: 0.40m\n"
     ]
    },
    {
     "name": "stderr",
     "output_type": "stream",
     "text": [
      "100%|██████████| 238/238 [00:22<00:00, 10.61it/s]\n",
      "100%|██████████| 85/85 [00:01<00:00, 73.84it/s]\n",
      "100%|██████████| 17/17 [00:00<00:00, 76.13it/s]\n"
     ]
    },
    {
     "name": "stdout",
     "output_type": "stream",
     "text": [
      "Epoch:85/500.. Train Loss: 0.392.. Val Loss: 1.534.. Test Loss: 0.149.. Time: 0.40m\n"
     ]
    },
    {
     "name": "stderr",
     "output_type": "stream",
     "text": [
      "100%|██████████| 238/238 [00:21<00:00, 10.99it/s]\n",
      "100%|██████████| 85/85 [00:01<00:00, 74.99it/s]\n",
      "100%|██████████| 17/17 [00:00<00:00, 74.88it/s]\n"
     ]
    },
    {
     "name": "stdout",
     "output_type": "stream",
     "text": [
      "Epoch:86/500.. Train Loss: 0.387.. Val Loss: 1.459.. Test Loss: 0.188.. Time: 0.38m\n"
     ]
    },
    {
     "name": "stderr",
     "output_type": "stream",
     "text": [
      "100%|██████████| 238/238 [00:22<00:00, 10.77it/s]\n",
      "100%|██████████| 85/85 [00:01<00:00, 75.97it/s]\n",
      "100%|██████████| 17/17 [00:00<00:00, 73.33it/s]\n"
     ]
    },
    {
     "name": "stdout",
     "output_type": "stream",
     "text": [
      "Epoch:87/500.. Train Loss: 0.385.. Val Loss: 1.507.. Test Loss: 0.145.. Time: 0.39m\n"
     ]
    },
    {
     "name": "stderr",
     "output_type": "stream",
     "text": [
      "100%|██████████| 238/238 [00:22<00:00, 10.82it/s]\n",
      "100%|██████████| 85/85 [00:01<00:00, 75.78it/s]\n",
      "100%|██████████| 17/17 [00:00<00:00, 74.84it/s]\n"
     ]
    },
    {
     "name": "stdout",
     "output_type": "stream",
     "text": [
      "Epoch:88/500.. Train Loss: 0.385.. Val Loss: 1.526.. Test Loss: 0.163.. Time: 0.39m\n"
     ]
    },
    {
     "name": "stderr",
     "output_type": "stream",
     "text": [
      "100%|██████████| 238/238 [00:22<00:00, 10.65it/s]\n",
      "100%|██████████| 85/85 [00:01<00:00, 76.08it/s]\n",
      "100%|██████████| 17/17 [00:00<00:00, 74.95it/s]\n"
     ]
    },
    {
     "name": "stdout",
     "output_type": "stream",
     "text": [
      "Epoch:89/500.. Train Loss: 0.391.. Val Loss: 1.605.. Test Loss: 0.178.. Time: 0.39m\n"
     ]
    },
    {
     "name": "stderr",
     "output_type": "stream",
     "text": [
      "100%|██████████| 238/238 [00:21<00:00, 10.82it/s]\n",
      "100%|██████████| 85/85 [00:01<00:00, 76.24it/s]\n",
      "100%|██████████| 17/17 [00:00<00:00, 75.90it/s]\n"
     ]
    },
    {
     "name": "stdout",
     "output_type": "stream",
     "text": [
      "Epoch:90/500.. Train Loss: 0.395.. Val Loss: 1.451.. Test Loss: 0.167.. Time: 0.39m\n"
     ]
    },
    {
     "name": "stderr",
     "output_type": "stream",
     "text": [
      "100%|██████████| 238/238 [00:22<00:00, 10.60it/s]\n",
      "100%|██████████| 85/85 [00:01<00:00, 75.68it/s]\n",
      "100%|██████████| 17/17 [00:00<00:00, 73.88it/s]\n"
     ]
    },
    {
     "name": "stdout",
     "output_type": "stream",
     "text": [
      "Loss Decreasing.. 1.437 >> 1.269 \n",
      "saving model...\n",
      "Epoch:91/500.. Train Loss: 0.429.. Val Loss: 1.269.. Test Loss: 0.163.. Time: 0.40m\n"
     ]
    },
    {
     "name": "stderr",
     "output_type": "stream",
     "text": [
      "100%|██████████| 238/238 [00:21<00:00, 10.97it/s]\n",
      "100%|██████████| 85/85 [00:01<00:00, 75.80it/s]\n",
      "100%|██████████| 17/17 [00:00<00:00, 74.60it/s]\n"
     ]
    },
    {
     "name": "stdout",
     "output_type": "stream",
     "text": [
      "Epoch:92/500.. Train Loss: 0.422.. Val Loss: 1.280.. Test Loss: 0.192.. Time: 0.38m\n"
     ]
    },
    {
     "name": "stderr",
     "output_type": "stream",
     "text": [
      "100%|██████████| 238/238 [00:22<00:00, 10.54it/s]\n",
      "100%|██████████| 85/85 [00:01<00:00, 74.80it/s]\n",
      "100%|██████████| 17/17 [00:00<00:00, 74.53it/s]\n"
     ]
    },
    {
     "name": "stdout",
     "output_type": "stream",
     "text": [
      "Loss Decreasing.. 1.269 >> 1.244 \n",
      "saving model...\n",
      "Epoch:93/500.. Train Loss: 0.413.. Val Loss: 1.244.. Test Loss: 0.213.. Time: 0.40m\n"
     ]
    },
    {
     "name": "stderr",
     "output_type": "stream",
     "text": [
      "100%|██████████| 238/238 [00:22<00:00, 10.81it/s]\n",
      "100%|██████████| 85/85 [00:01<00:00, 75.41it/s]\n",
      "100%|██████████| 17/17 [00:00<00:00, 74.55it/s]\n"
     ]
    },
    {
     "name": "stdout",
     "output_type": "stream",
     "text": [
      "Loss Decreasing.. 1.244 >> 1.221 \n",
      "saving model...\n",
      "Epoch:94/500.. Train Loss: 0.420.. Val Loss: 1.221.. Test Loss: 0.171.. Time: 0.39m\n"
     ]
    },
    {
     "name": "stderr",
     "output_type": "stream",
     "text": [
      "100%|██████████| 238/238 [00:22<00:00, 10.70it/s]\n",
      "100%|██████████| 85/85 [00:01<00:00, 76.03it/s]\n",
      "100%|██████████| 17/17 [00:00<00:00, 74.86it/s]\n"
     ]
    },
    {
     "name": "stdout",
     "output_type": "stream",
     "text": [
      "Epoch:95/500.. Train Loss: 0.412.. Val Loss: 1.315.. Test Loss: 0.143.. Time: 0.39m\n"
     ]
    },
    {
     "name": "stderr",
     "output_type": "stream",
     "text": [
      "100%|██████████| 238/238 [00:21<00:00, 10.96it/s]\n",
      "100%|██████████| 85/85 [00:01<00:00, 75.97it/s]\n",
      "100%|██████████| 17/17 [00:00<00:00, 75.20it/s]\n"
     ]
    },
    {
     "name": "stdout",
     "output_type": "stream",
     "text": [
      "Epoch:96/500.. Train Loss: 0.394.. Val Loss: 1.385.. Test Loss: 0.147.. Time: 0.38m\n"
     ]
    },
    {
     "name": "stderr",
     "output_type": "stream",
     "text": [
      "100%|██████████| 238/238 [00:22<00:00, 10.71it/s]\n",
      "100%|██████████| 85/85 [00:01<00:00, 75.51it/s]\n",
      "100%|██████████| 17/17 [00:00<00:00, 74.77it/s]\n"
     ]
    },
    {
     "name": "stdout",
     "output_type": "stream",
     "text": [
      "Epoch:97/500.. Train Loss: 0.399.. Val Loss: 1.333.. Test Loss: 0.152.. Time: 0.39m\n"
     ]
    },
    {
     "name": "stderr",
     "output_type": "stream",
     "text": [
      "100%|██████████| 238/238 [00:22<00:00, 10.74it/s]\n",
      "100%|██████████| 85/85 [00:01<00:00, 74.41it/s]\n",
      "100%|██████████| 17/17 [00:00<00:00, 72.94it/s]\n"
     ]
    },
    {
     "name": "stdout",
     "output_type": "stream",
     "text": [
      "Epoch:98/500.. Train Loss: 0.406.. Val Loss: 1.260.. Test Loss: 0.188.. Time: 0.39m\n"
     ]
    },
    {
     "name": "stderr",
     "output_type": "stream",
     "text": [
      "100%|██████████| 238/238 [00:22<00:00, 10.80it/s]\n",
      "100%|██████████| 85/85 [00:01<00:00, 75.57it/s]\n",
      "100%|██████████| 17/17 [00:00<00:00, 75.67it/s]\n"
     ]
    },
    {
     "name": "stdout",
     "output_type": "stream",
     "text": [
      "Epoch:99/500.. Train Loss: 0.405.. Val Loss: 1.237.. Test Loss: 0.190.. Time: 0.39m\n"
     ]
    },
    {
     "name": "stderr",
     "output_type": "stream",
     "text": [
      "100%|██████████| 238/238 [00:22<00:00, 10.78it/s]\n",
      "100%|██████████| 85/85 [00:01<00:00, 75.33it/s]\n",
      "100%|██████████| 17/17 [00:00<00:00, 74.50it/s]\n"
     ]
    },
    {
     "name": "stdout",
     "output_type": "stream",
     "text": [
      "Loss Decreasing.. 1.221 >> 1.210 \n",
      "saving model...\n",
      "Epoch:100/500.. Train Loss: 0.399.. Val Loss: 1.210.. Test Loss: 0.187.. Time: 0.39m\n"
     ]
    },
    {
     "name": "stderr",
     "output_type": "stream",
     "text": [
      "100%|██████████| 238/238 [00:22<00:00, 10.72it/s]\n",
      "100%|██████████| 85/85 [00:01<00:00, 75.77it/s]\n",
      "100%|██████████| 17/17 [00:00<00:00, 75.73it/s]\n"
     ]
    },
    {
     "name": "stdout",
     "output_type": "stream",
     "text": [
      "Epoch:101/500.. Train Loss: 0.409.. Val Loss: 1.246.. Test Loss: 0.152.. Time: 0.39m\n"
     ]
    },
    {
     "name": "stderr",
     "output_type": "stream",
     "text": [
      "100%|██████████| 238/238 [00:22<00:00, 10.69it/s]\n",
      "100%|██████████| 85/85 [00:01<00:00, 76.17it/s]\n",
      "100%|██████████| 17/17 [00:00<00:00, 75.59it/s]\n"
     ]
    },
    {
     "name": "stdout",
     "output_type": "stream",
     "text": [
      "Loss Decreasing.. 1.210 >> 1.198 \n",
      "saving model...\n",
      "Epoch:102/500.. Train Loss: 0.402.. Val Loss: 1.198.. Test Loss: 0.145.. Time: 0.39m\n"
     ]
    },
    {
     "name": "stderr",
     "output_type": "stream",
     "text": [
      "100%|██████████| 238/238 [00:19<00:00, 12.09it/s]\n",
      "100%|██████████| 85/85 [00:01<00:00, 74.25it/s]\n",
      "100%|██████████| 17/17 [00:00<00:00, 75.63it/s]\n"
     ]
    },
    {
     "name": "stdout",
     "output_type": "stream",
     "text": [
      "Epoch:103/500.. Train Loss: 0.391.. Val Loss: 1.232.. Test Loss: 0.151.. Time: 0.35m\n"
     ]
    },
    {
     "name": "stderr",
     "output_type": "stream",
     "text": [
      "100%|██████████| 238/238 [00:22<00:00, 10.81it/s]\n",
      "100%|██████████| 85/85 [00:01<00:00, 73.83it/s]\n",
      "100%|██████████| 17/17 [00:00<00:00, 69.11it/s]\n"
     ]
    },
    {
     "name": "stdout",
     "output_type": "stream",
     "text": [
      "Loss Decreasing.. 1.198 >> 1.187 \n",
      "saving model...\n",
      "Epoch:104/500.. Train Loss: 0.391.. Val Loss: 1.187.. Test Loss: 0.146.. Time: 0.39m\n"
     ]
    },
    {
     "name": "stderr",
     "output_type": "stream",
     "text": [
      "100%|██████████| 238/238 [00:21<00:00, 11.06it/s]\n",
      "100%|██████████| 85/85 [00:01<00:00, 75.14it/s]\n",
      "100%|██████████| 17/17 [00:00<00:00, 75.10it/s]\n"
     ]
    },
    {
     "name": "stdout",
     "output_type": "stream",
     "text": [
      "Epoch:105/500.. Train Loss: 0.405.. Val Loss: 1.284.. Test Loss: 0.162.. Time: 0.38m\n"
     ]
    },
    {
     "name": "stderr",
     "output_type": "stream",
     "text": [
      "100%|██████████| 238/238 [00:22<00:00, 10.81it/s]\n",
      "100%|██████████| 85/85 [00:01<00:00, 75.79it/s]\n",
      "100%|██████████| 17/17 [00:00<00:00, 75.26it/s]\n"
     ]
    },
    {
     "name": "stdout",
     "output_type": "stream",
     "text": [
      "Epoch:106/500.. Train Loss: 0.400.. Val Loss: 1.238.. Test Loss: 0.158.. Time: 0.39m\n"
     ]
    },
    {
     "name": "stderr",
     "output_type": "stream",
     "text": [
      "100%|██████████| 238/238 [00:21<00:00, 10.82it/s]\n",
      "100%|██████████| 85/85 [00:01<00:00, 76.46it/s]\n",
      "100%|██████████| 17/17 [00:00<00:00, 73.61it/s]\n"
     ]
    },
    {
     "name": "stdout",
     "output_type": "stream",
     "text": [
      "Loss Decreasing.. 1.187 >> 1.177 \n",
      "saving model...\n",
      "Epoch:107/500.. Train Loss: 0.402.. Val Loss: 1.177.. Test Loss: 0.165.. Time: 0.39m\n"
     ]
    },
    {
     "name": "stderr",
     "output_type": "stream",
     "text": [
      "100%|██████████| 238/238 [00:21<00:00, 10.83it/s]\n",
      "100%|██████████| 85/85 [00:01<00:00, 76.15it/s]\n",
      "100%|██████████| 17/17 [00:00<00:00, 74.47it/s]\n"
     ]
    },
    {
     "name": "stdout",
     "output_type": "stream",
     "text": [
      "Epoch:108/500.. Train Loss: 0.402.. Val Loss: 1.183.. Test Loss: 0.145.. Time: 0.39m\n"
     ]
    },
    {
     "name": "stderr",
     "output_type": "stream",
     "text": [
      "100%|██████████| 238/238 [00:21<00:00, 10.93it/s]\n",
      "100%|██████████| 85/85 [00:01<00:00, 75.87it/s]\n",
      "100%|██████████| 17/17 [00:00<00:00, 75.53it/s]\n"
     ]
    },
    {
     "name": "stdout",
     "output_type": "stream",
     "text": [
      "Epoch:109/500.. Train Loss: 0.386.. Val Loss: 1.188.. Test Loss: 0.149.. Time: 0.39m\n"
     ]
    },
    {
     "name": "stderr",
     "output_type": "stream",
     "text": [
      "100%|██████████| 238/238 [00:22<00:00, 10.63it/s]\n",
      "100%|██████████| 85/85 [00:01<00:00, 75.45it/s]\n",
      "100%|██████████| 17/17 [00:00<00:00, 72.67it/s]\n"
     ]
    },
    {
     "name": "stdout",
     "output_type": "stream",
     "text": [
      "Loss Decreasing.. 1.177 >> 1.168 \n",
      "saving model...\n",
      "Epoch:110/500.. Train Loss: 0.399.. Val Loss: 1.168.. Test Loss: 0.140.. Time: 0.40m\n"
     ]
    },
    {
     "name": "stderr",
     "output_type": "stream",
     "text": [
      "100%|██████████| 238/238 [00:22<00:00, 10.76it/s]\n",
      "100%|██████████| 85/85 [00:01<00:00, 76.03it/s]\n",
      "100%|██████████| 17/17 [00:00<00:00, 75.12it/s]\n"
     ]
    },
    {
     "name": "stdout",
     "output_type": "stream",
     "text": [
      "Loss Decreasing.. 1.168 >> 1.153 \n",
      "saving model...\n",
      "Epoch:111/500.. Train Loss: 0.395.. Val Loss: 1.153.. Test Loss: 0.137.. Time: 0.39m\n"
     ]
    },
    {
     "name": "stderr",
     "output_type": "stream",
     "text": [
      "100%|██████████| 238/238 [00:21<00:00, 11.24it/s]\n",
      "100%|██████████| 85/85 [00:01<00:00, 76.67it/s]\n",
      "100%|██████████| 17/17 [00:00<00:00, 75.71it/s]\n"
     ]
    },
    {
     "name": "stdout",
     "output_type": "stream",
     "text": [
      "Epoch:112/500.. Train Loss: 0.385.. Val Loss: 1.181.. Test Loss: 0.141.. Time: 0.38m\n"
     ]
    },
    {
     "name": "stderr",
     "output_type": "stream",
     "text": [
      "100%|██████████| 238/238 [00:21<00:00, 11.03it/s]\n",
      "100%|██████████| 85/85 [00:01<00:00, 76.91it/s]\n",
      "100%|██████████| 17/17 [00:00<00:00, 76.16it/s]\n"
     ]
    },
    {
     "name": "stdout",
     "output_type": "stream",
     "text": [
      "Epoch:113/500.. Train Loss: 0.381.. Val Loss: 1.175.. Test Loss: 0.173.. Time: 0.38m\n"
     ]
    },
    {
     "name": "stderr",
     "output_type": "stream",
     "text": [
      "100%|██████████| 238/238 [00:21<00:00, 11.04it/s]\n",
      "100%|██████████| 85/85 [00:01<00:00, 76.26it/s]\n",
      "100%|██████████| 17/17 [00:00<00:00, 73.47it/s]\n"
     ]
    },
    {
     "name": "stdout",
     "output_type": "stream",
     "text": [
      "Epoch:114/500.. Train Loss: 0.387.. Val Loss: 1.168.. Test Loss: 0.144.. Time: 0.38m\n"
     ]
    },
    {
     "name": "stderr",
     "output_type": "stream",
     "text": [
      "100%|██████████| 238/238 [00:21<00:00, 10.96it/s]\n",
      "100%|██████████| 85/85 [00:01<00:00, 75.96it/s]\n",
      "100%|██████████| 17/17 [00:00<00:00, 75.22it/s]\n"
     ]
    },
    {
     "name": "stdout",
     "output_type": "stream",
     "text": [
      "Epoch:115/500.. Train Loss: 0.409.. Val Loss: 1.233.. Test Loss: 0.180.. Time: 0.38m\n"
     ]
    },
    {
     "name": "stderr",
     "output_type": "stream",
     "text": [
      "100%|██████████| 238/238 [00:20<00:00, 11.34it/s]\n",
      "100%|██████████| 85/85 [00:01<00:00, 77.33it/s]\n",
      "100%|██████████| 17/17 [00:00<00:00, 76.67it/s]\n"
     ]
    },
    {
     "name": "stdout",
     "output_type": "stream",
     "text": [
      "Epoch:116/500.. Train Loss: 0.392.. Val Loss: 1.175.. Test Loss: 0.165.. Time: 0.37m\n"
     ]
    },
    {
     "name": "stderr",
     "output_type": "stream",
     "text": [
      "100%|██████████| 238/238 [00:20<00:00, 11.34it/s]\n",
      "100%|██████████| 85/85 [00:01<00:00, 76.55it/s]\n",
      "100%|██████████| 17/17 [00:00<00:00, 75.80it/s]\n"
     ]
    },
    {
     "name": "stdout",
     "output_type": "stream",
     "text": [
      "Epoch:117/500.. Train Loss: 0.383.. Val Loss: 1.170.. Test Loss: 0.146.. Time: 0.37m\n"
     ]
    },
    {
     "name": "stderr",
     "output_type": "stream",
     "text": [
      "100%|██████████| 238/238 [00:22<00:00, 10.81it/s]\n",
      "100%|██████████| 85/85 [00:01<00:00, 76.24it/s]\n",
      "100%|██████████| 17/17 [00:00<00:00, 75.36it/s]\n"
     ]
    },
    {
     "name": "stdout",
     "output_type": "stream",
     "text": [
      "Epoch:118/500.. Train Loss: 0.381.. Val Loss: 1.157.. Test Loss: 0.139.. Time: 0.39m\n"
     ]
    },
    {
     "name": "stderr",
     "output_type": "stream",
     "text": [
      "100%|██████████| 238/238 [00:21<00:00, 11.24it/s]\n",
      "100%|██████████| 85/85 [00:01<00:00, 76.86it/s]\n",
      "100%|██████████| 17/17 [00:00<00:00, 76.47it/s]\n"
     ]
    },
    {
     "name": "stdout",
     "output_type": "stream",
     "text": [
      "Loss Decreasing.. 1.153 >> 1.141 \n",
      "saving model...\n",
      "Epoch:119/500.. Train Loss: 0.386.. Val Loss: 1.141.. Test Loss: 0.144.. Time: 0.38m\n"
     ]
    },
    {
     "name": "stderr",
     "output_type": "stream",
     "text": [
      "100%|██████████| 238/238 [00:19<00:00, 12.37it/s]\n",
      "100%|██████████| 85/85 [00:01<00:00, 77.52it/s]\n",
      "100%|██████████| 17/17 [00:00<00:00, 76.89it/s]\n"
     ]
    },
    {
     "name": "stdout",
     "output_type": "stream",
     "text": [
      "Epoch:120/500.. Train Loss: 0.384.. Val Loss: 1.167.. Test Loss: 0.143.. Time: 0.34m\n"
     ]
    },
    {
     "name": "stderr",
     "output_type": "stream",
     "text": [
      "100%|██████████| 238/238 [00:21<00:00, 10.85it/s]\n",
      "100%|██████████| 85/85 [00:01<00:00, 76.28it/s]\n",
      "100%|██████████| 17/17 [00:00<00:00, 74.35it/s]\n"
     ]
    },
    {
     "name": "stdout",
     "output_type": "stream",
     "text": [
      "Epoch:121/500.. Train Loss: 0.384.. Val Loss: 1.163.. Test Loss: 0.193.. Time: 0.39m\n"
     ]
    },
    {
     "name": "stderr",
     "output_type": "stream",
     "text": [
      "100%|██████████| 238/238 [00:21<00:00, 11.31it/s]\n",
      "100%|██████████| 85/85 [00:01<00:00, 74.89it/s]\n",
      "100%|██████████| 17/17 [00:00<00:00, 70.34it/s]\n"
     ]
    },
    {
     "name": "stdout",
     "output_type": "stream",
     "text": [
      "Epoch:122/500.. Train Loss: 0.377.. Val Loss: 1.174.. Test Loss: 0.146.. Time: 0.37m\n"
     ]
    },
    {
     "name": "stderr",
     "output_type": "stream",
     "text": [
      "100%|██████████| 238/238 [00:19<00:00, 12.15it/s]\n",
      "100%|██████████| 85/85 [00:01<00:00, 77.37it/s]\n",
      "100%|██████████| 17/17 [00:00<00:00, 77.06it/s]\n"
     ]
    },
    {
     "name": "stdout",
     "output_type": "stream",
     "text": [
      "Epoch:123/500.. Train Loss: 0.375.. Val Loss: 1.279.. Test Loss: 0.280.. Time: 0.35m\n"
     ]
    },
    {
     "name": "stderr",
     "output_type": "stream",
     "text": [
      "100%|██████████| 238/238 [00:20<00:00, 11.66it/s]\n",
      "100%|██████████| 85/85 [00:01<00:00, 78.66it/s]\n",
      "100%|██████████| 17/17 [00:00<00:00, 77.75it/s]\n"
     ]
    },
    {
     "name": "stdout",
     "output_type": "stream",
     "text": [
      "Epoch:124/500.. Train Loss: 0.392.. Val Loss: 1.154.. Test Loss: 0.126.. Time: 0.36m\n"
     ]
    },
    {
     "name": "stderr",
     "output_type": "stream",
     "text": [
      "100%|██████████| 238/238 [00:17<00:00, 13.32it/s]\n",
      "100%|██████████| 85/85 [00:01<00:00, 77.20it/s]\n",
      "100%|██████████| 17/17 [00:00<00:00, 76.76it/s]\n"
     ]
    },
    {
     "name": "stdout",
     "output_type": "stream",
     "text": [
      "Epoch:125/500.. Train Loss: 0.375.. Val Loss: 1.187.. Test Loss: 0.207.. Time: 0.32m\n"
     ]
    },
    {
     "name": "stderr",
     "output_type": "stream",
     "text": [
      "100%|██████████| 238/238 [00:19<00:00, 12.40it/s]\n",
      "100%|██████████| 85/85 [00:01<00:00, 76.76it/s]\n",
      "100%|██████████| 17/17 [00:00<00:00, 76.28it/s]\n"
     ]
    },
    {
     "name": "stdout",
     "output_type": "stream",
     "text": [
      "Epoch:126/500.. Train Loss: 0.381.. Val Loss: 1.165.. Test Loss: 0.134.. Time: 0.34m\n"
     ]
    },
    {
     "name": "stderr",
     "output_type": "stream",
     "text": [
      "100%|██████████| 238/238 [00:21<00:00, 11.11it/s]\n",
      "100%|██████████| 85/85 [00:01<00:00, 75.72it/s]\n",
      "100%|██████████| 17/17 [00:00<00:00, 75.52it/s]\n"
     ]
    },
    {
     "name": "stdout",
     "output_type": "stream",
     "text": [
      "Epoch:127/500.. Train Loss: 0.375.. Val Loss: 1.172.. Test Loss: 0.160.. Time: 0.38m\n"
     ]
    },
    {
     "name": "stderr",
     "output_type": "stream",
     "text": [
      "100%|██████████| 238/238 [00:21<00:00, 11.16it/s]\n",
      "100%|██████████| 85/85 [00:01<00:00, 76.79it/s]\n",
      "100%|██████████| 17/17 [00:00<00:00, 76.23it/s]\n"
     ]
    },
    {
     "name": "stdout",
     "output_type": "stream",
     "text": [
      "Epoch:128/500.. Train Loss: 0.387.. Val Loss: 1.170.. Test Loss: 0.151.. Time: 0.38m\n"
     ]
    },
    {
     "name": "stderr",
     "output_type": "stream",
     "text": [
      "100%|██████████| 238/238 [00:21<00:00, 11.28it/s]\n",
      "100%|██████████| 85/85 [00:01<00:00, 77.06it/s]\n",
      "100%|██████████| 17/17 [00:00<00:00, 77.13it/s]\n"
     ]
    },
    {
     "name": "stdout",
     "output_type": "stream",
     "text": [
      "Epoch:129/500.. Train Loss: 0.377.. Val Loss: 1.184.. Test Loss: 0.168.. Time: 0.37m\n"
     ]
    },
    {
     "name": "stderr",
     "output_type": "stream",
     "text": [
      "100%|██████████| 238/238 [00:21<00:00, 10.99it/s]\n",
      "100%|██████████| 85/85 [00:01<00:00, 76.61it/s]\n",
      "100%|██████████| 17/17 [00:00<00:00, 76.51it/s]\n"
     ]
    },
    {
     "name": "stdout",
     "output_type": "stream",
     "text": [
      "Epoch:130/500.. Train Loss: 0.393.. Val Loss: 1.168.. Test Loss: 0.139.. Time: 0.38m\n"
     ]
    },
    {
     "name": "stderr",
     "output_type": "stream",
     "text": [
      "100%|██████████| 238/238 [00:21<00:00, 11.04it/s]\n",
      "100%|██████████| 85/85 [00:01<00:00, 77.49it/s]\n",
      "100%|██████████| 17/17 [00:00<00:00, 76.64it/s]\n"
     ]
    },
    {
     "name": "stdout",
     "output_type": "stream",
     "text": [
      "Epoch:131/500.. Train Loss: 0.377.. Val Loss: 1.194.. Test Loss: 0.151.. Time: 0.38m\n"
     ]
    },
    {
     "name": "stderr",
     "output_type": "stream",
     "text": [
      "100%|██████████| 238/238 [00:21<00:00, 11.13it/s]\n",
      "100%|██████████| 85/85 [00:01<00:00, 76.20it/s]\n",
      "100%|██████████| 17/17 [00:00<00:00, 75.54it/s]\n"
     ]
    },
    {
     "name": "stdout",
     "output_type": "stream",
     "text": [
      "Epoch:132/500.. Train Loss: 0.366.. Val Loss: 1.150.. Test Loss: 0.143.. Time: 0.38m\n"
     ]
    },
    {
     "name": "stderr",
     "output_type": "stream",
     "text": [
      "100%|██████████| 238/238 [00:21<00:00, 10.96it/s]\n",
      "100%|██████████| 85/85 [00:01<00:00, 77.13it/s]\n",
      "100%|██████████| 17/17 [00:00<00:00, 76.74it/s]\n"
     ]
    },
    {
     "name": "stdout",
     "output_type": "stream",
     "text": [
      "Epoch:133/500.. Train Loss: 0.378.. Val Loss: 1.159.. Test Loss: 0.142.. Time: 0.38m\n"
     ]
    },
    {
     "name": "stderr",
     "output_type": "stream",
     "text": [
      "100%|██████████| 238/238 [00:22<00:00, 10.62it/s]\n",
      "100%|██████████| 85/85 [00:01<00:00, 77.36it/s]\n",
      "100%|██████████| 17/17 [00:00<00:00, 76.81it/s]\n"
     ]
    },
    {
     "name": "stdout",
     "output_type": "stream",
     "text": [
      "Epoch:134/500.. Train Loss: 0.370.. Val Loss: 1.167.. Test Loss: 0.155.. Time: 0.40m\n"
     ]
    },
    {
     "name": "stderr",
     "output_type": "stream",
     "text": [
      "100%|██████████| 238/238 [00:21<00:00, 11.12it/s]\n",
      "100%|██████████| 85/85 [00:01<00:00, 77.30it/s]\n",
      "100%|██████████| 17/17 [00:00<00:00, 76.76it/s]\n"
     ]
    },
    {
     "name": "stdout",
     "output_type": "stream",
     "text": [
      "Epoch:135/500.. Train Loss: 0.378.. Val Loss: 1.175.. Test Loss: 0.142.. Time: 0.38m\n"
     ]
    },
    {
     "name": "stderr",
     "output_type": "stream",
     "text": [
      "100%|██████████| 238/238 [00:21<00:00, 10.88it/s]\n",
      "100%|██████████| 85/85 [00:01<00:00, 77.30it/s]\n",
      "100%|██████████| 17/17 [00:00<00:00, 77.04it/s]\n"
     ]
    },
    {
     "name": "stdout",
     "output_type": "stream",
     "text": [
      "Epoch:136/500.. Train Loss: 0.368.. Val Loss: 1.149.. Test Loss: 0.157.. Time: 0.39m\n"
     ]
    },
    {
     "name": "stderr",
     "output_type": "stream",
     "text": [
      "100%|██████████| 238/238 [00:21<00:00, 11.05it/s]\n",
      "100%|██████████| 85/85 [00:01<00:00, 77.32it/s]\n",
      "100%|██████████| 17/17 [00:00<00:00, 76.64it/s]\n"
     ]
    },
    {
     "name": "stdout",
     "output_type": "stream",
     "text": [
      "Loss Decreasing.. 1.141 >> 1.133 \n",
      "saving model...\n",
      "Epoch:137/500.. Train Loss: 0.383.. Val Loss: 1.133.. Test Loss: 0.143.. Time: 0.38m\n"
     ]
    },
    {
     "name": "stderr",
     "output_type": "stream",
     "text": [
      "100%|██████████| 238/238 [00:21<00:00, 11.19it/s]\n",
      "100%|██████████| 85/85 [00:01<00:00, 76.11it/s]\n",
      "100%|██████████| 17/17 [00:00<00:00, 76.55it/s]\n"
     ]
    },
    {
     "name": "stdout",
     "output_type": "stream",
     "text": [
      "Epoch:138/500.. Train Loss: 0.372.. Val Loss: 1.167.. Test Loss: 0.140.. Time: 0.38m\n"
     ]
    },
    {
     "name": "stderr",
     "output_type": "stream",
     "text": [
      "100%|██████████| 238/238 [00:21<00:00, 11.11it/s]\n",
      "100%|██████████| 85/85 [00:01<00:00, 76.93it/s]\n",
      "100%|██████████| 17/17 [00:00<00:00, 72.51it/s]\n"
     ]
    },
    {
     "name": "stdout",
     "output_type": "stream",
     "text": [
      "Epoch:139/500.. Train Loss: 0.371.. Val Loss: 1.167.. Test Loss: 0.143.. Time: 0.38m\n"
     ]
    },
    {
     "name": "stderr",
     "output_type": "stream",
     "text": [
      "100%|██████████| 238/238 [00:21<00:00, 11.00it/s]\n",
      "100%|██████████| 85/85 [00:01<00:00, 75.26it/s]\n",
      "100%|██████████| 17/17 [00:00<00:00, 71.13it/s]\n"
     ]
    },
    {
     "name": "stdout",
     "output_type": "stream",
     "text": [
      "Epoch:140/500.. Train Loss: 0.382.. Val Loss: 1.143.. Test Loss: 0.145.. Time: 0.38m\n"
     ]
    },
    {
     "name": "stderr",
     "output_type": "stream",
     "text": [
      "100%|██████████| 238/238 [00:21<00:00, 10.90it/s]\n",
      "100%|██████████| 85/85 [00:01<00:00, 75.32it/s]\n",
      "100%|██████████| 17/17 [00:00<00:00, 76.80it/s]\n"
     ]
    },
    {
     "name": "stdout",
     "output_type": "stream",
     "text": [
      "Epoch:141/500.. Train Loss: 0.376.. Val Loss: 1.197.. Test Loss: 0.145.. Time: 0.39m\n"
     ]
    },
    {
     "name": "stderr",
     "output_type": "stream",
     "text": [
      "100%|██████████| 238/238 [00:21<00:00, 11.08it/s]\n",
      "100%|██████████| 85/85 [00:01<00:00, 77.39it/s]\n",
      "100%|██████████| 17/17 [00:00<00:00, 77.08it/s]\n"
     ]
    },
    {
     "name": "stdout",
     "output_type": "stream",
     "text": [
      "Epoch:142/500.. Train Loss: 0.378.. Val Loss: 1.172.. Test Loss: 0.173.. Time: 0.38m\n"
     ]
    },
    {
     "name": "stderr",
     "output_type": "stream",
     "text": [
      "100%|██████████| 238/238 [00:21<00:00, 11.02it/s]\n",
      "100%|██████████| 85/85 [00:01<00:00, 77.34it/s]\n",
      "100%|██████████| 17/17 [00:00<00:00, 76.37it/s]\n"
     ]
    },
    {
     "name": "stdout",
     "output_type": "stream",
     "text": [
      "Epoch:143/500.. Train Loss: 0.372.. Val Loss: 1.153.. Test Loss: 0.126.. Time: 0.38m\n"
     ]
    },
    {
     "name": "stderr",
     "output_type": "stream",
     "text": [
      "100%|██████████| 238/238 [00:22<00:00, 10.78it/s]\n",
      "100%|██████████| 85/85 [00:01<00:00, 76.58it/s]\n",
      "100%|██████████| 17/17 [00:00<00:00, 75.75it/s]\n"
     ]
    },
    {
     "name": "stdout",
     "output_type": "stream",
     "text": [
      "Epoch:144/500.. Train Loss: 0.370.. Val Loss: 1.167.. Test Loss: 0.152.. Time: 0.39m\n"
     ]
    },
    {
     "name": "stderr",
     "output_type": "stream",
     "text": [
      "100%|██████████| 238/238 [00:21<00:00, 11.06it/s]\n",
      "100%|██████████| 85/85 [00:01<00:00, 76.05it/s]\n",
      "100%|██████████| 17/17 [00:00<00:00, 75.84it/s]\n"
     ]
    },
    {
     "name": "stdout",
     "output_type": "stream",
     "text": [
      "Epoch:145/500.. Train Loss: 0.378.. Val Loss: 1.170.. Test Loss: 0.139.. Time: 0.38m\n"
     ]
    },
    {
     "name": "stderr",
     "output_type": "stream",
     "text": [
      "100%|██████████| 238/238 [00:21<00:00, 11.09it/s]\n",
      "100%|██████████| 85/85 [00:01<00:00, 75.71it/s]\n",
      "100%|██████████| 17/17 [00:00<00:00, 76.28it/s]\n"
     ]
    },
    {
     "name": "stdout",
     "output_type": "stream",
     "text": [
      "Epoch:146/500.. Train Loss: 0.402.. Val Loss: 1.186.. Test Loss: 0.130.. Time: 0.38m\n"
     ]
    },
    {
     "name": "stderr",
     "output_type": "stream",
     "text": [
      "100%|██████████| 238/238 [00:20<00:00, 11.59it/s]\n",
      "100%|██████████| 85/85 [00:01<00:00, 76.86it/s]\n",
      "100%|██████████| 17/17 [00:00<00:00, 76.05it/s]\n"
     ]
    },
    {
     "name": "stdout",
     "output_type": "stream",
     "text": [
      "Epoch:147/500.. Train Loss: 0.385.. Val Loss: 1.191.. Test Loss: 0.141.. Time: 0.36m\n"
     ]
    },
    {
     "name": "stderr",
     "output_type": "stream",
     "text": [
      "100%|██████████| 238/238 [00:21<00:00, 11.24it/s]\n",
      "100%|██████████| 85/85 [00:01<00:00, 77.73it/s]\n",
      "100%|██████████| 17/17 [00:00<00:00, 77.99it/s]\n"
     ]
    },
    {
     "name": "stdout",
     "output_type": "stream",
     "text": [
      "Epoch:148/500.. Train Loss: 0.375.. Val Loss: 1.179.. Test Loss: 0.150.. Time: 0.37m\n"
     ]
    },
    {
     "name": "stderr",
     "output_type": "stream",
     "text": [
      "100%|██████████| 238/238 [00:22<00:00, 10.66it/s]\n",
      "100%|██████████| 85/85 [00:01<00:00, 76.53it/s]\n",
      "100%|██████████| 17/17 [00:00<00:00, 76.52it/s]\n"
     ]
    },
    {
     "name": "stdout",
     "output_type": "stream",
     "text": [
      "Epoch:149/500.. Train Loss: 0.370.. Val Loss: 1.173.. Test Loss: 0.141.. Time: 0.39m\n"
     ]
    },
    {
     "name": "stderr",
     "output_type": "stream",
     "text": [
      "100%|██████████| 238/238 [00:21<00:00, 11.07it/s]\n",
      "100%|██████████| 85/85 [00:01<00:00, 75.56it/s]\n",
      "100%|██████████| 17/17 [00:00<00:00, 74.56it/s]\n"
     ]
    },
    {
     "name": "stdout",
     "output_type": "stream",
     "text": [
      "Epoch:150/500.. Train Loss: 0.377.. Val Loss: 1.249.. Test Loss: 0.178.. Time: 0.38m\n"
     ]
    },
    {
     "name": "stderr",
     "output_type": "stream",
     "text": [
      "100%|██████████| 238/238 [00:20<00:00, 11.89it/s]\n",
      "100%|██████████| 85/85 [00:01<00:00, 77.45it/s]\n",
      "100%|██████████| 17/17 [00:00<00:00, 72.42it/s]\n"
     ]
    },
    {
     "name": "stdout",
     "output_type": "stream",
     "text": [
      "Loss Decreasing.. 1.133 >> 1.096 \n",
      "saving model...\n",
      "Epoch:151/500.. Train Loss: 0.371.. Val Loss: 1.096.. Test Loss: 0.135.. Time: 0.36m\n"
     ]
    },
    {
     "name": "stderr",
     "output_type": "stream",
     "text": [
      "100%|██████████| 238/238 [00:20<00:00, 11.77it/s]\n",
      "100%|██████████| 85/85 [00:01<00:00, 76.40it/s]\n",
      "100%|██████████| 17/17 [00:00<00:00, 76.74it/s]\n"
     ]
    },
    {
     "name": "stdout",
     "output_type": "stream",
     "text": [
      "Epoch:152/500.. Train Loss: 0.364.. Val Loss: 1.121.. Test Loss: 0.147.. Time: 0.36m\n"
     ]
    },
    {
     "name": "stderr",
     "output_type": "stream",
     "text": [
      "100%|██████████| 238/238 [00:21<00:00, 10.99it/s]\n",
      "100%|██████████| 85/85 [00:01<00:00, 77.70it/s]\n",
      "100%|██████████| 17/17 [00:00<00:00, 76.41it/s]\n"
     ]
    },
    {
     "name": "stdout",
     "output_type": "stream",
     "text": [
      "Epoch:153/500.. Train Loss: 0.361.. Val Loss: 1.120.. Test Loss: 0.141.. Time: 0.38m\n"
     ]
    },
    {
     "name": "stderr",
     "output_type": "stream",
     "text": [
      "100%|██████████| 238/238 [00:21<00:00, 11.03it/s]\n",
      "100%|██████████| 85/85 [00:01<00:00, 77.20it/s]\n",
      "100%|██████████| 17/17 [00:00<00:00, 75.97it/s]\n"
     ]
    },
    {
     "name": "stdout",
     "output_type": "stream",
     "text": [
      "Epoch:154/500.. Train Loss: 0.360.. Val Loss: 1.123.. Test Loss: 0.154.. Time: 0.38m\n"
     ]
    },
    {
     "name": "stderr",
     "output_type": "stream",
     "text": [
      "100%|██████████| 238/238 [00:21<00:00, 11.20it/s]\n",
      "100%|██████████| 85/85 [00:01<00:00, 76.76it/s]\n",
      "100%|██████████| 17/17 [00:00<00:00, 74.97it/s]\n"
     ]
    },
    {
     "name": "stdout",
     "output_type": "stream",
     "text": [
      "Epoch:155/500.. Train Loss: 0.361.. Val Loss: 1.135.. Test Loss: 0.136.. Time: 0.38m\n"
     ]
    },
    {
     "name": "stderr",
     "output_type": "stream",
     "text": [
      "100%|██████████| 238/238 [00:20<00:00, 11.40it/s]\n",
      "100%|██████████| 85/85 [00:01<00:00, 76.82it/s]\n",
      "100%|██████████| 17/17 [00:00<00:00, 75.95it/s]\n"
     ]
    },
    {
     "name": "stdout",
     "output_type": "stream",
     "text": [
      "Epoch:156/500.. Train Loss: 0.362.. Val Loss: 1.130.. Test Loss: 0.129.. Time: 0.37m\n"
     ]
    },
    {
     "name": "stderr",
     "output_type": "stream",
     "text": [
      "100%|██████████| 238/238 [00:21<00:00, 11.23it/s]\n",
      "100%|██████████| 85/85 [00:01<00:00, 77.24it/s]\n",
      "100%|██████████| 17/17 [00:00<00:00, 76.73it/s]\n"
     ]
    },
    {
     "name": "stdout",
     "output_type": "stream",
     "text": [
      "Epoch:157/500.. Train Loss: 0.367.. Val Loss: 1.161.. Test Loss: 0.130.. Time: 0.38m\n"
     ]
    },
    {
     "name": "stderr",
     "output_type": "stream",
     "text": [
      "100%|██████████| 238/238 [00:21<00:00, 11.27it/s]\n",
      "100%|██████████| 85/85 [00:01<00:00, 77.54it/s]\n",
      "100%|██████████| 17/17 [00:00<00:00, 77.09it/s]\n"
     ]
    },
    {
     "name": "stdout",
     "output_type": "stream",
     "text": [
      "Epoch:158/500.. Train Loss: 0.363.. Val Loss: 1.152.. Test Loss: 0.145.. Time: 0.37m\n"
     ]
    },
    {
     "name": "stderr",
     "output_type": "stream",
     "text": [
      "100%|██████████| 238/238 [00:21<00:00, 10.83it/s]\n",
      "100%|██████████| 85/85 [00:01<00:00, 77.50it/s]\n",
      "100%|██████████| 17/17 [00:00<00:00, 74.31it/s]\n"
     ]
    },
    {
     "name": "stdout",
     "output_type": "stream",
     "text": [
      "Epoch:159/500.. Train Loss: 0.361.. Val Loss: 1.128.. Test Loss: 0.133.. Time: 0.39m\n"
     ]
    },
    {
     "name": "stderr",
     "output_type": "stream",
     "text": [
      "100%|██████████| 238/238 [00:20<00:00, 11.67it/s]\n",
      "100%|██████████| 85/85 [00:01<00:00, 77.48it/s]\n",
      "100%|██████████| 17/17 [00:00<00:00, 75.84it/s]\n"
     ]
    },
    {
     "name": "stdout",
     "output_type": "stream",
     "text": [
      "Epoch:160/500.. Train Loss: 0.358.. Val Loss: 1.148.. Test Loss: 0.135.. Time: 0.36m\n"
     ]
    },
    {
     "name": "stderr",
     "output_type": "stream",
     "text": [
      "100%|██████████| 238/238 [00:21<00:00, 10.92it/s]\n",
      "100%|██████████| 85/85 [00:01<00:00, 77.59it/s]\n",
      "100%|██████████| 17/17 [00:00<00:00, 76.42it/s]\n"
     ]
    },
    {
     "name": "stdout",
     "output_type": "stream",
     "text": [
      "Epoch:161/500.. Train Loss: 0.388.. Val Loss: 1.124.. Test Loss: 0.162.. Time: 0.39m\n"
     ]
    },
    {
     "name": "stderr",
     "output_type": "stream",
     "text": [
      "100%|██████████| 238/238 [00:21<00:00, 10.99it/s]\n",
      "100%|██████████| 85/85 [00:01<00:00, 77.21it/s]\n",
      "100%|██████████| 17/17 [00:00<00:00, 76.35it/s]\n"
     ]
    },
    {
     "name": "stdout",
     "output_type": "stream",
     "text": [
      "Epoch:162/500.. Train Loss: 0.364.. Val Loss: 1.103.. Test Loss: 0.142.. Time: 0.38m\n"
     ]
    },
    {
     "name": "stderr",
     "output_type": "stream",
     "text": [
      "100%|██████████| 238/238 [00:18<00:00, 12.89it/s]\n",
      "100%|██████████| 85/85 [00:01<00:00, 78.02it/s]\n",
      "100%|██████████| 17/17 [00:00<00:00, 75.96it/s]\n"
     ]
    },
    {
     "name": "stdout",
     "output_type": "stream",
     "text": [
      "Epoch:163/500.. Train Loss: 0.362.. Val Loss: 1.127.. Test Loss: 0.162.. Time: 0.33m\n"
     ]
    },
    {
     "name": "stderr",
     "output_type": "stream",
     "text": [
      "100%|██████████| 238/238 [00:20<00:00, 11.58it/s]\n",
      "100%|██████████| 85/85 [00:01<00:00, 76.99it/s]\n",
      "100%|██████████| 17/17 [00:00<00:00, 77.15it/s]\n"
     ]
    },
    {
     "name": "stdout",
     "output_type": "stream",
     "text": [
      "Epoch:164/500.. Train Loss: 0.364.. Val Loss: 1.101.. Test Loss: 0.141.. Time: 0.36m\n"
     ]
    },
    {
     "name": "stderr",
     "output_type": "stream",
     "text": [
      "100%|██████████| 238/238 [00:21<00:00, 11.04it/s]\n",
      "100%|██████████| 85/85 [00:01<00:00, 77.18it/s]\n",
      "100%|██████████| 17/17 [00:00<00:00, 77.16it/s]\n"
     ]
    },
    {
     "name": "stdout",
     "output_type": "stream",
     "text": [
      "Epoch:165/500.. Train Loss: 0.364.. Val Loss: 1.140.. Test Loss: 0.152.. Time: 0.38m\n"
     ]
    },
    {
     "name": "stderr",
     "output_type": "stream",
     "text": [
      "100%|██████████| 238/238 [00:18<00:00, 13.03it/s]\n",
      "100%|██████████| 85/85 [00:01<00:00, 77.68it/s]\n",
      "100%|██████████| 17/17 [00:00<00:00, 76.86it/s]\n"
     ]
    },
    {
     "name": "stdout",
     "output_type": "stream",
     "text": [
      "Epoch:166/500.. Train Loss: 0.354.. Val Loss: 1.131.. Test Loss: 0.147.. Time: 0.33m\n"
     ]
    },
    {
     "name": "stderr",
     "output_type": "stream",
     "text": [
      "100%|██████████| 238/238 [00:17<00:00, 13.34it/s]\n",
      "100%|██████████| 85/85 [00:01<00:00, 77.49it/s]\n",
      "100%|██████████| 17/17 [00:00<00:00, 76.97it/s]\n"
     ]
    },
    {
     "name": "stdout",
     "output_type": "stream",
     "text": [
      "Epoch:167/500.. Train Loss: 0.362.. Val Loss: 1.101.. Test Loss: 0.141.. Time: 0.32m\n"
     ]
    },
    {
     "name": "stderr",
     "output_type": "stream",
     "text": [
      "100%|██████████| 238/238 [00:20<00:00, 11.64it/s]\n",
      "100%|██████████| 85/85 [00:01<00:00, 76.03it/s]\n",
      "100%|██████████| 17/17 [00:00<00:00, 74.26it/s]\n"
     ]
    },
    {
     "name": "stdout",
     "output_type": "stream",
     "text": [
      "Epoch:168/500.. Train Loss: 0.359.. Val Loss: 1.145.. Test Loss: 0.141.. Time: 0.36m\n"
     ]
    },
    {
     "name": "stderr",
     "output_type": "stream",
     "text": [
      "100%|██████████| 238/238 [00:21<00:00, 11.03it/s]\n",
      "100%|██████████| 85/85 [00:01<00:00, 75.07it/s]\n",
      "100%|██████████| 17/17 [00:00<00:00, 66.93it/s]\n"
     ]
    },
    {
     "name": "stdout",
     "output_type": "stream",
     "text": [
      "Epoch:169/500.. Train Loss: 0.357.. Val Loss: 1.127.. Test Loss: 0.149.. Time: 0.38m\n"
     ]
    },
    {
     "name": "stderr",
     "output_type": "stream",
     "text": [
      "100%|██████████| 238/238 [00:21<00:00, 11.06it/s]\n",
      "100%|██████████| 85/85 [00:01<00:00, 75.89it/s]\n",
      "100%|██████████| 17/17 [00:00<00:00, 75.78it/s]\n"
     ]
    },
    {
     "name": "stdout",
     "output_type": "stream",
     "text": [
      "Epoch:170/500.. Train Loss: 0.358.. Val Loss: 1.124.. Test Loss: 0.184.. Time: 0.38m\n"
     ]
    },
    {
     "name": "stderr",
     "output_type": "stream",
     "text": [
      "100%|██████████| 238/238 [00:21<00:00, 10.86it/s]\n",
      "100%|██████████| 85/85 [00:01<00:00, 77.20it/s]\n",
      "100%|██████████| 17/17 [00:00<00:00, 76.31it/s]\n"
     ]
    },
    {
     "name": "stdout",
     "output_type": "stream",
     "text": [
      "Epoch:171/500.. Train Loss: 0.359.. Val Loss: 1.126.. Test Loss: 0.153.. Time: 0.39m\n"
     ]
    },
    {
     "name": "stderr",
     "output_type": "stream",
     "text": [
      "100%|██████████| 238/238 [00:22<00:00, 10.77it/s]\n",
      "100%|██████████| 85/85 [00:01<00:00, 75.88it/s]\n",
      "100%|██████████| 17/17 [00:00<00:00, 76.31it/s]\n"
     ]
    },
    {
     "name": "stdout",
     "output_type": "stream",
     "text": [
      "Epoch:172/500.. Train Loss: 0.354.. Val Loss: 1.114.. Test Loss: 0.141.. Time: 0.39m\n"
     ]
    },
    {
     "name": "stderr",
     "output_type": "stream",
     "text": [
      "100%|██████████| 238/238 [00:21<00:00, 11.28it/s]\n",
      "100%|██████████| 85/85 [00:01<00:00, 77.45it/s]\n",
      "100%|██████████| 17/17 [00:00<00:00, 76.65it/s]\n"
     ]
    },
    {
     "name": "stdout",
     "output_type": "stream",
     "text": [
      "Epoch:173/500.. Train Loss: 0.361.. Val Loss: 1.103.. Test Loss: 0.152.. Time: 0.37m\n"
     ]
    },
    {
     "name": "stderr",
     "output_type": "stream",
     "text": [
      "100%|██████████| 238/238 [00:20<00:00, 11.39it/s]\n",
      "100%|██████████| 85/85 [00:01<00:00, 76.38it/s]\n",
      "100%|██████████| 17/17 [00:00<00:00, 76.07it/s]\n"
     ]
    },
    {
     "name": "stdout",
     "output_type": "stream",
     "text": [
      "Epoch:174/500.. Train Loss: 0.354.. Val Loss: 1.111.. Test Loss: 0.140.. Time: 0.37m\n"
     ]
    },
    {
     "name": "stderr",
     "output_type": "stream",
     "text": [
      "100%|██████████| 238/238 [00:21<00:00, 11.24it/s]\n",
      "100%|██████████| 85/85 [00:01<00:00, 76.83it/s]\n",
      "100%|██████████| 17/17 [00:00<00:00, 71.42it/s]\n"
     ]
    },
    {
     "name": "stdout",
     "output_type": "stream",
     "text": [
      "Epoch:175/500.. Train Loss: 0.361.. Val Loss: 1.144.. Test Loss: 0.139.. Time: 0.38m\n"
     ]
    },
    {
     "name": "stderr",
     "output_type": "stream",
     "text": [
      "100%|██████████| 238/238 [00:21<00:00, 11.33it/s]\n",
      "100%|██████████| 85/85 [00:01<00:00, 76.86it/s]\n",
      "100%|██████████| 17/17 [00:00<00:00, 76.52it/s]\n"
     ]
    },
    {
     "name": "stdout",
     "output_type": "stream",
     "text": [
      "Epoch:176/500.. Train Loss: 0.346.. Val Loss: 1.128.. Test Loss: 0.155.. Time: 0.37m\n"
     ]
    },
    {
     "name": "stderr",
     "output_type": "stream",
     "text": [
      "100%|██████████| 238/238 [00:20<00:00, 11.46it/s]\n",
      "100%|██████████| 85/85 [00:01<00:00, 76.23it/s]\n",
      "100%|██████████| 17/17 [00:00<00:00, 75.71it/s]\n"
     ]
    },
    {
     "name": "stdout",
     "output_type": "stream",
     "text": [
      "Epoch:177/500.. Train Loss: 0.358.. Val Loss: 1.127.. Test Loss: 0.147.. Time: 0.37m\n"
     ]
    },
    {
     "name": "stderr",
     "output_type": "stream",
     "text": [
      "100%|██████████| 238/238 [00:21<00:00, 11.26it/s]\n",
      "100%|██████████| 85/85 [00:01<00:00, 76.50it/s]\n",
      "100%|██████████| 17/17 [00:00<00:00, 76.05it/s]\n"
     ]
    },
    {
     "name": "stdout",
     "output_type": "stream",
     "text": [
      "Epoch:178/500.. Train Loss: 0.352.. Val Loss: 1.124.. Test Loss: 0.181.. Time: 0.37m\n"
     ]
    },
    {
     "name": "stderr",
     "output_type": "stream",
     "text": [
      "100%|██████████| 238/238 [00:21<00:00, 11.00it/s]\n",
      "100%|██████████| 85/85 [00:01<00:00, 77.02it/s]\n",
      "100%|██████████| 17/17 [00:00<00:00, 75.96it/s]\n"
     ]
    },
    {
     "name": "stdout",
     "output_type": "stream",
     "text": [
      "Epoch:179/500.. Train Loss: 0.354.. Val Loss: 1.143.. Test Loss: 0.166.. Time: 0.38m\n"
     ]
    },
    {
     "name": "stderr",
     "output_type": "stream",
     "text": [
      "100%|██████████| 238/238 [00:21<00:00, 10.89it/s]\n",
      "100%|██████████| 85/85 [00:01<00:00, 77.57it/s]\n",
      "100%|██████████| 17/17 [00:00<00:00, 77.58it/s]\n"
     ]
    },
    {
     "name": "stdout",
     "output_type": "stream",
     "text": [
      "Epoch:180/500.. Train Loss: 0.349.. Val Loss: 1.124.. Test Loss: 0.138.. Time: 0.39m\n"
     ]
    },
    {
     "name": "stderr",
     "output_type": "stream",
     "text": [
      "100%|██████████| 238/238 [00:21<00:00, 11.05it/s]\n",
      "100%|██████████| 85/85 [00:01<00:00, 77.37it/s]\n",
      "100%|██████████| 17/17 [00:00<00:00, 69.91it/s]\n"
     ]
    },
    {
     "name": "stdout",
     "output_type": "stream",
     "text": [
      "Epoch:181/500.. Train Loss: 0.354.. Val Loss: 1.159.. Test Loss: 0.183.. Time: 0.38m\n"
     ]
    },
    {
     "name": "stderr",
     "output_type": "stream",
     "text": [
      "100%|██████████| 238/238 [00:21<00:00, 11.13it/s]\n",
      "100%|██████████| 85/85 [00:01<00:00, 76.27it/s]\n",
      "100%|██████████| 17/17 [00:00<00:00, 76.19it/s]\n"
     ]
    },
    {
     "name": "stdout",
     "output_type": "stream",
     "text": [
      "Epoch:182/500.. Train Loss: 0.354.. Val Loss: 1.155.. Test Loss: 0.137.. Time: 0.38m\n"
     ]
    },
    {
     "name": "stderr",
     "output_type": "stream",
     "text": [
      "100%|██████████| 238/238 [00:21<00:00, 11.08it/s]\n",
      "100%|██████████| 85/85 [00:01<00:00, 76.97it/s]\n",
      "100%|██████████| 17/17 [00:00<00:00, 77.06it/s]\n"
     ]
    },
    {
     "name": "stdout",
     "output_type": "stream",
     "text": [
      "Epoch:183/500.. Train Loss: 0.355.. Val Loss: 1.148.. Test Loss: 0.159.. Time: 0.38m\n"
     ]
    },
    {
     "name": "stderr",
     "output_type": "stream",
     "text": [
      "100%|██████████| 238/238 [00:21<00:00, 10.96it/s]\n",
      "100%|██████████| 85/85 [00:01<00:00, 75.95it/s]\n",
      "100%|██████████| 17/17 [00:00<00:00, 76.39it/s]\n"
     ]
    },
    {
     "name": "stdout",
     "output_type": "stream",
     "text": [
      "Epoch:184/500.. Train Loss: 0.353.. Val Loss: 1.131.. Test Loss: 0.149.. Time: 0.38m\n"
     ]
    },
    {
     "name": "stderr",
     "output_type": "stream",
     "text": [
      "100%|██████████| 238/238 [00:21<00:00, 11.11it/s]\n",
      "100%|██████████| 85/85 [00:01<00:00, 76.75it/s]\n",
      "100%|██████████| 17/17 [00:00<00:00, 76.45it/s]\n"
     ]
    },
    {
     "name": "stdout",
     "output_type": "stream",
     "text": [
      "Epoch:185/500.. Train Loss: 0.348.. Val Loss: 1.118.. Test Loss: 0.146.. Time: 0.38m\n"
     ]
    },
    {
     "name": "stderr",
     "output_type": "stream",
     "text": [
      "100%|██████████| 238/238 [00:21<00:00, 11.26it/s]\n",
      "100%|██████████| 85/85 [00:01<00:00, 75.97it/s]\n",
      "100%|██████████| 17/17 [00:00<00:00, 75.79it/s]\n"
     ]
    },
    {
     "name": "stdout",
     "output_type": "stream",
     "text": [
      "Epoch:186/500.. Train Loss: 0.349.. Val Loss: 1.112.. Test Loss: 0.158.. Time: 0.37m\n"
     ]
    },
    {
     "name": "stderr",
     "output_type": "stream",
     "text": [
      "100%|██████████| 238/238 [00:21<00:00, 10.82it/s]\n",
      "100%|██████████| 85/85 [00:01<00:00, 74.45it/s]\n",
      "100%|██████████| 17/17 [00:00<00:00, 69.81it/s]\n"
     ]
    },
    {
     "name": "stdout",
     "output_type": "stream",
     "text": [
      "Epoch:187/500.. Train Loss: 0.360.. Val Loss: 1.182.. Test Loss: 0.149.. Time: 0.39m\n"
     ]
    },
    {
     "name": "stderr",
     "output_type": "stream",
     "text": [
      "100%|██████████| 238/238 [00:21<00:00, 11.04it/s]\n",
      "100%|██████████| 85/85 [00:01<00:00, 76.31it/s]\n",
      "100%|██████████| 17/17 [00:00<00:00, 76.07it/s]\n"
     ]
    },
    {
     "name": "stdout",
     "output_type": "stream",
     "text": [
      "Epoch:188/500.. Train Loss: 0.361.. Val Loss: 1.140.. Test Loss: 0.138.. Time: 0.38m\n"
     ]
    },
    {
     "name": "stderr",
     "output_type": "stream",
     "text": [
      "100%|██████████| 238/238 [00:19<00:00, 12.52it/s]\n",
      "100%|██████████| 85/85 [00:01<00:00, 76.86it/s]\n",
      "100%|██████████| 17/17 [00:00<00:00, 76.63it/s]\n"
     ]
    },
    {
     "name": "stdout",
     "output_type": "stream",
     "text": [
      "Epoch:189/500.. Train Loss: 0.349.. Val Loss: 1.116.. Test Loss: 0.145.. Time: 0.34m\n"
     ]
    },
    {
     "name": "stderr",
     "output_type": "stream",
     "text": [
      "100%|██████████| 238/238 [00:21<00:00, 11.09it/s]\n",
      "100%|██████████| 85/85 [00:01<00:00, 74.33it/s]\n",
      "100%|██████████| 17/17 [00:00<00:00, 76.50it/s]\n"
     ]
    },
    {
     "name": "stdout",
     "output_type": "stream",
     "text": [
      "Epoch:190/500.. Train Loss: 0.354.. Val Loss: 1.136.. Test Loss: 0.154.. Time: 0.38m\n"
     ]
    },
    {
     "name": "stderr",
     "output_type": "stream",
     "text": [
      "100%|██████████| 238/238 [00:22<00:00, 10.60it/s]\n",
      "100%|██████████| 85/85 [00:01<00:00, 77.42it/s]\n",
      "100%|██████████| 17/17 [00:00<00:00, 76.81it/s]\n"
     ]
    },
    {
     "name": "stdout",
     "output_type": "stream",
     "text": [
      "Epoch:191/500.. Train Loss: 0.355.. Val Loss: 1.136.. Test Loss: 0.128.. Time: 0.40m\n"
     ]
    },
    {
     "name": "stderr",
     "output_type": "stream",
     "text": [
      "100%|██████████| 238/238 [00:21<00:00, 11.17it/s]\n",
      "100%|██████████| 85/85 [00:01<00:00, 75.88it/s]\n",
      "100%|██████████| 17/17 [00:00<00:00, 75.68it/s]\n"
     ]
    },
    {
     "name": "stdout",
     "output_type": "stream",
     "text": [
      "Epoch:192/500.. Train Loss: 0.352.. Val Loss: 1.156.. Test Loss: 0.154.. Time: 0.38m\n"
     ]
    },
    {
     "name": "stderr",
     "output_type": "stream",
     "text": [
      "100%|██████████| 238/238 [00:20<00:00, 11.34it/s]\n",
      "100%|██████████| 85/85 [00:01<00:00, 74.96it/s]\n",
      "100%|██████████| 17/17 [00:00<00:00, 76.37it/s]\n"
     ]
    },
    {
     "name": "stdout",
     "output_type": "stream",
     "text": [
      "Epoch:193/500.. Train Loss: 0.355.. Val Loss: 1.129.. Test Loss: 0.138.. Time: 0.37m\n"
     ]
    },
    {
     "name": "stderr",
     "output_type": "stream",
     "text": [
      "100%|██████████| 238/238 [00:22<00:00, 10.65it/s]\n",
      "100%|██████████| 85/85 [00:01<00:00, 76.79it/s]\n",
      "100%|██████████| 17/17 [00:00<00:00, 76.08it/s]\n"
     ]
    },
    {
     "name": "stdout",
     "output_type": "stream",
     "text": [
      "Epoch:194/500.. Train Loss: 0.356.. Val Loss: 1.143.. Test Loss: 0.128.. Time: 0.39m\n"
     ]
    },
    {
     "name": "stderr",
     "output_type": "stream",
     "text": [
      "100%|██████████| 238/238 [00:20<00:00, 11.49it/s]\n",
      "100%|██████████| 85/85 [00:01<00:00, 77.19it/s]\n",
      "100%|██████████| 17/17 [00:00<00:00, 73.53it/s]\n"
     ]
    },
    {
     "name": "stdout",
     "output_type": "stream",
     "text": [
      "Epoch:195/500.. Train Loss: 0.347.. Val Loss: 1.106.. Test Loss: 0.146.. Time: 0.37m\n"
     ]
    },
    {
     "name": "stderr",
     "output_type": "stream",
     "text": [
      "100%|██████████| 238/238 [00:21<00:00, 11.21it/s]\n",
      "100%|██████████| 85/85 [00:01<00:00, 74.62it/s]\n",
      "100%|██████████| 17/17 [00:00<00:00, 76.07it/s]\n"
     ]
    },
    {
     "name": "stdout",
     "output_type": "stream",
     "text": [
      "Epoch:196/500.. Train Loss: 0.347.. Val Loss: 1.162.. Test Loss: 0.144.. Time: 0.38m\n"
     ]
    },
    {
     "name": "stderr",
     "output_type": "stream",
     "text": [
      "100%|██████████| 238/238 [00:19<00:00, 12.52it/s]\n",
      "100%|██████████| 85/85 [00:01<00:00, 76.43it/s]\n",
      "100%|██████████| 17/17 [00:00<00:00, 75.02it/s]\n"
     ]
    },
    {
     "name": "stdout",
     "output_type": "stream",
     "text": [
      "Epoch:197/500.. Train Loss: 0.346.. Val Loss: 1.128.. Test Loss: 0.142.. Time: 0.34m\n"
     ]
    },
    {
     "name": "stderr",
     "output_type": "stream",
     "text": [
      "100%|██████████| 238/238 [00:22<00:00, 10.66it/s]\n",
      "100%|██████████| 85/85 [00:01<00:00, 77.53it/s]\n",
      "100%|██████████| 17/17 [00:00<00:00, 76.89it/s]\n"
     ]
    },
    {
     "name": "stdout",
     "output_type": "stream",
     "text": [
      "Epoch:198/500.. Train Loss: 0.356.. Val Loss: 1.112.. Test Loss: 0.149.. Time: 0.39m\n"
     ]
    },
    {
     "name": "stderr",
     "output_type": "stream",
     "text": [
      "100%|██████████| 238/238 [00:21<00:00, 10.87it/s]\n",
      "100%|██████████| 85/85 [00:01<00:00, 77.41it/s]\n",
      "100%|██████████| 17/17 [00:00<00:00, 76.20it/s]\n"
     ]
    },
    {
     "name": "stdout",
     "output_type": "stream",
     "text": [
      "Epoch:199/500.. Train Loss: 0.341.. Val Loss: 1.148.. Test Loss: 0.145.. Time: 0.39m\n"
     ]
    },
    {
     "name": "stderr",
     "output_type": "stream",
     "text": [
      "100%|██████████| 238/238 [00:20<00:00, 11.50it/s]\n",
      "100%|██████████| 85/85 [00:01<00:00, 75.65it/s]\n",
      "100%|██████████| 17/17 [00:00<00:00, 76.17it/s]\n"
     ]
    },
    {
     "name": "stdout",
     "output_type": "stream",
     "text": [
      "Epoch:200/500.. Train Loss: 0.352.. Val Loss: 1.119.. Test Loss: 0.137.. Time: 0.37m\n"
     ]
    },
    {
     "name": "stderr",
     "output_type": "stream",
     "text": [
      "100%|██████████| 238/238 [00:21<00:00, 11.04it/s]\n",
      "100%|██████████| 85/85 [00:01<00:00, 76.94it/s]\n",
      "100%|██████████| 17/17 [00:00<00:00, 73.63it/s]\n"
     ]
    },
    {
     "name": "stdout",
     "output_type": "stream",
     "text": [
      "Epoch:201/500.. Train Loss: 0.356.. Val Loss: 1.115.. Test Loss: 0.154.. Time: 0.38m\n"
     ]
    },
    {
     "name": "stderr",
     "output_type": "stream",
     "text": [
      "100%|██████████| 238/238 [00:21<00:00, 11.11it/s]\n",
      "100%|██████████| 85/85 [00:01<00:00, 76.68it/s]\n",
      "100%|██████████| 17/17 [00:00<00:00, 76.91it/s]\n"
     ]
    },
    {
     "name": "stdout",
     "output_type": "stream",
     "text": [
      "Epoch:202/500.. Train Loss: 0.352.. Val Loss: 1.103.. Test Loss: 0.139.. Time: 0.38m\n"
     ]
    },
    {
     "name": "stderr",
     "output_type": "stream",
     "text": [
      "100%|██████████| 238/238 [00:21<00:00, 11.30it/s]\n",
      "100%|██████████| 85/85 [00:01<00:00, 76.68it/s]\n",
      "100%|██████████| 17/17 [00:00<00:00, 77.00it/s]\n"
     ]
    },
    {
     "name": "stdout",
     "output_type": "stream",
     "text": [
      "Epoch:203/500.. Train Loss: 0.346.. Val Loss: 1.109.. Test Loss: 0.178.. Time: 0.37m\n"
     ]
    },
    {
     "name": "stderr",
     "output_type": "stream",
     "text": [
      "100%|██████████| 238/238 [00:21<00:00, 10.91it/s]\n",
      "100%|██████████| 85/85 [00:01<00:00, 74.63it/s]\n",
      "100%|██████████| 17/17 [00:00<00:00, 74.39it/s]\n"
     ]
    },
    {
     "name": "stdout",
     "output_type": "stream",
     "text": [
      "Epoch:204/500.. Train Loss: 0.355.. Val Loss: 1.114.. Test Loss: 0.146.. Time: 0.39m\n"
     ]
    },
    {
     "name": "stderr",
     "output_type": "stream",
     "text": [
      "100%|██████████| 238/238 [00:21<00:00, 10.98it/s]\n",
      "100%|██████████| 85/85 [00:01<00:00, 77.35it/s]\n",
      "100%|██████████| 17/17 [00:00<00:00, 77.14it/s]\n"
     ]
    },
    {
     "name": "stdout",
     "output_type": "stream",
     "text": [
      "Epoch:205/500.. Train Loss: 0.344.. Val Loss: 1.126.. Test Loss: 0.148.. Time: 0.38m\n"
     ]
    },
    {
     "name": "stderr",
     "output_type": "stream",
     "text": [
      "100%|██████████| 238/238 [00:21<00:00, 10.82it/s]\n",
      "100%|██████████| 85/85 [00:01<00:00, 75.96it/s]\n",
      "100%|██████████| 17/17 [00:00<00:00, 76.47it/s]\n"
     ]
    },
    {
     "name": "stdout",
     "output_type": "stream",
     "text": [
      "Epoch:206/500.. Train Loss: 0.347.. Val Loss: 1.097.. Test Loss: 0.133.. Time: 0.39m\n"
     ]
    },
    {
     "name": "stderr",
     "output_type": "stream",
     "text": [
      "100%|██████████| 238/238 [00:21<00:00, 11.10it/s]\n",
      "100%|██████████| 85/85 [00:01<00:00, 76.90it/s]\n",
      "100%|██████████| 17/17 [00:00<00:00, 73.51it/s]\n"
     ]
    },
    {
     "name": "stdout",
     "output_type": "stream",
     "text": [
      "Epoch:207/500.. Train Loss: 0.342.. Val Loss: 1.105.. Test Loss: 0.161.. Time: 0.38m\n"
     ]
    },
    {
     "name": "stderr",
     "output_type": "stream",
     "text": [
      "100%|██████████| 238/238 [00:21<00:00, 11.04it/s]\n",
      "100%|██████████| 85/85 [00:01<00:00, 76.76it/s]\n",
      "100%|██████████| 17/17 [00:00<00:00, 76.49it/s]\n"
     ]
    },
    {
     "name": "stdout",
     "output_type": "stream",
     "text": [
      "Loss Decreasing.. 1.096 >> 1.086 \n",
      "saving model...\n",
      "Epoch:208/500.. Train Loss: 0.348.. Val Loss: 1.086.. Test Loss: 0.133.. Time: 0.38m\n"
     ]
    },
    {
     "name": "stderr",
     "output_type": "stream",
     "text": [
      "100%|██████████| 238/238 [00:20<00:00, 11.72it/s]\n",
      "100%|██████████| 85/85 [00:01<00:00, 76.14it/s]\n",
      "100%|██████████| 17/17 [00:00<00:00, 71.62it/s]\n"
     ]
    },
    {
     "name": "stdout",
     "output_type": "stream",
     "text": [
      "Epoch:209/500.. Train Loss: 0.350.. Val Loss: 1.140.. Test Loss: 0.141.. Time: 0.36m\n"
     ]
    },
    {
     "name": "stderr",
     "output_type": "stream",
     "text": [
      "100%|██████████| 238/238 [00:21<00:00, 11.04it/s]\n",
      "100%|██████████| 85/85 [00:01<00:00, 76.74it/s]\n",
      "100%|██████████| 17/17 [00:00<00:00, 76.53it/s]\n"
     ]
    },
    {
     "name": "stdout",
     "output_type": "stream",
     "text": [
      "Epoch:210/500.. Train Loss: 0.345.. Val Loss: 1.121.. Test Loss: 0.141.. Time: 0.38m\n"
     ]
    },
    {
     "name": "stderr",
     "output_type": "stream",
     "text": [
      "100%|██████████| 238/238 [00:21<00:00, 10.86it/s]\n",
      "100%|██████████| 85/85 [00:01<00:00, 77.08it/s]\n",
      "100%|██████████| 17/17 [00:00<00:00, 74.25it/s]\n"
     ]
    },
    {
     "name": "stdout",
     "output_type": "stream",
     "text": [
      "Epoch:211/500.. Train Loss: 0.340.. Val Loss: 1.126.. Test Loss: 0.143.. Time: 0.39m\n"
     ]
    },
    {
     "name": "stderr",
     "output_type": "stream",
     "text": [
      "100%|██████████| 238/238 [00:22<00:00, 10.72it/s]\n",
      "100%|██████████| 85/85 [00:01<00:00, 76.11it/s]\n",
      "100%|██████████| 17/17 [00:00<00:00, 75.57it/s]\n"
     ]
    },
    {
     "name": "stdout",
     "output_type": "stream",
     "text": [
      "Epoch:212/500.. Train Loss: 0.351.. Val Loss: 1.120.. Test Loss: 0.135.. Time: 0.39m\n"
     ]
    },
    {
     "name": "stderr",
     "output_type": "stream",
     "text": [
      "100%|██████████| 238/238 [00:21<00:00, 10.92it/s]\n",
      "100%|██████████| 85/85 [00:01<00:00, 76.08it/s]\n",
      "100%|██████████| 17/17 [00:00<00:00, 75.60it/s]\n"
     ]
    },
    {
     "name": "stdout",
     "output_type": "stream",
     "text": [
      "Epoch:213/500.. Train Loss: 0.348.. Val Loss: 1.152.. Test Loss: 0.150.. Time: 0.39m\n"
     ]
    },
    {
     "name": "stderr",
     "output_type": "stream",
     "text": [
      "100%|██████████| 238/238 [00:21<00:00, 10.91it/s]\n",
      "100%|██████████| 85/85 [00:01<00:00, 74.07it/s]\n",
      "100%|██████████| 17/17 [00:00<00:00, 74.51it/s]\n"
     ]
    },
    {
     "name": "stdout",
     "output_type": "stream",
     "text": [
      "Epoch:214/500.. Train Loss: 0.343.. Val Loss: 1.122.. Test Loss: 0.132.. Time: 0.39m\n"
     ]
    },
    {
     "name": "stderr",
     "output_type": "stream",
     "text": [
      "100%|██████████| 238/238 [00:21<00:00, 10.88it/s]\n",
      "100%|██████████| 85/85 [00:01<00:00, 76.83it/s]\n",
      "100%|██████████| 17/17 [00:00<00:00, 76.46it/s]\n"
     ]
    },
    {
     "name": "stdout",
     "output_type": "stream",
     "text": [
      "Epoch:215/500.. Train Loss: 0.346.. Val Loss: 1.128.. Test Loss: 0.148.. Time: 0.39m\n"
     ]
    },
    {
     "name": "stderr",
     "output_type": "stream",
     "text": [
      "100%|██████████| 238/238 [00:21<00:00, 11.06it/s]\n",
      "100%|██████████| 85/85 [00:01<00:00, 76.25it/s]\n",
      "100%|██████████| 17/17 [00:00<00:00, 76.07it/s]\n"
     ]
    },
    {
     "name": "stdout",
     "output_type": "stream",
     "text": [
      "Epoch:216/500.. Train Loss: 0.338.. Val Loss: 1.106.. Test Loss: 0.141.. Time: 0.38m\n"
     ]
    },
    {
     "name": "stderr",
     "output_type": "stream",
     "text": [
      "100%|██████████| 238/238 [00:20<00:00, 11.89it/s]\n",
      "100%|██████████| 85/85 [00:01<00:00, 76.92it/s]\n",
      "100%|██████████| 17/17 [00:00<00:00, 76.64it/s]\n"
     ]
    },
    {
     "name": "stdout",
     "output_type": "stream",
     "text": [
      "Epoch:217/500.. Train Loss: 0.343.. Val Loss: 1.099.. Test Loss: 0.148.. Time: 0.36m\n"
     ]
    },
    {
     "name": "stderr",
     "output_type": "stream",
     "text": [
      "100%|██████████| 238/238 [00:18<00:00, 12.59it/s]\n",
      "100%|██████████| 85/85 [00:01<00:00, 77.77it/s]\n",
      "100%|██████████| 17/17 [00:00<00:00, 76.78it/s]\n"
     ]
    },
    {
     "name": "stdout",
     "output_type": "stream",
     "text": [
      "Epoch:218/500.. Train Loss: 0.338.. Val Loss: 1.125.. Test Loss: 0.142.. Time: 0.34m\n"
     ]
    },
    {
     "name": "stderr",
     "output_type": "stream",
     "text": [
      "100%|██████████| 238/238 [00:20<00:00, 11.87it/s]\n",
      "100%|██████████| 85/85 [00:01<00:00, 76.89it/s]\n",
      "100%|██████████| 17/17 [00:00<00:00, 69.53it/s]\n"
     ]
    },
    {
     "name": "stdout",
     "output_type": "stream",
     "text": [
      "Epoch:219/500.. Train Loss: 0.352.. Val Loss: 1.097.. Test Loss: 0.146.. Time: 0.36m\n"
     ]
    },
    {
     "name": "stderr",
     "output_type": "stream",
     "text": [
      "100%|██████████| 238/238 [00:21<00:00, 10.85it/s]\n",
      "100%|██████████| 85/85 [00:01<00:00, 75.82it/s]\n",
      "100%|██████████| 17/17 [00:00<00:00, 76.56it/s]\n"
     ]
    },
    {
     "name": "stdout",
     "output_type": "stream",
     "text": [
      "Epoch:220/500.. Train Loss: 0.338.. Val Loss: 1.117.. Test Loss: 0.146.. Time: 0.39m\n"
     ]
    },
    {
     "name": "stderr",
     "output_type": "stream",
     "text": [
      "100%|██████████| 238/238 [00:19<00:00, 11.90it/s]\n",
      "100%|██████████| 85/85 [00:01<00:00, 77.78it/s]\n",
      "100%|██████████| 17/17 [00:00<00:00, 73.60it/s]\n"
     ]
    },
    {
     "name": "stdout",
     "output_type": "stream",
     "text": [
      "Epoch:221/500.. Train Loss: 0.337.. Val Loss: 1.133.. Test Loss: 0.161.. Time: 0.36m\n"
     ]
    },
    {
     "name": "stderr",
     "output_type": "stream",
     "text": [
      "100%|██████████| 238/238 [00:21<00:00, 10.95it/s]\n",
      "100%|██████████| 85/85 [00:01<00:00, 73.52it/s]\n",
      "100%|██████████| 17/17 [00:00<00:00, 75.94it/s]\n"
     ]
    },
    {
     "name": "stdout",
     "output_type": "stream",
     "text": [
      "Epoch:222/500.. Train Loss: 0.339.. Val Loss: 1.120.. Test Loss: 0.160.. Time: 0.39m\n"
     ]
    },
    {
     "name": "stderr",
     "output_type": "stream",
     "text": [
      "100%|██████████| 238/238 [00:22<00:00, 10.80it/s]\n",
      "100%|██████████| 85/85 [00:01<00:00, 76.66it/s]\n",
      "100%|██████████| 17/17 [00:00<00:00, 73.64it/s]\n"
     ]
    },
    {
     "name": "stdout",
     "output_type": "stream",
     "text": [
      "Epoch:223/500.. Train Loss: 0.335.. Val Loss: 1.145.. Test Loss: 0.158.. Time: 0.39m\n"
     ]
    },
    {
     "name": "stderr",
     "output_type": "stream",
     "text": [
      "100%|██████████| 238/238 [00:21<00:00, 10.91it/s]\n",
      "100%|██████████| 85/85 [00:01<00:00, 77.28it/s]\n",
      "100%|██████████| 17/17 [00:00<00:00, 76.35it/s]\n"
     ]
    },
    {
     "name": "stdout",
     "output_type": "stream",
     "text": [
      "Epoch:224/500.. Train Loss: 0.333.. Val Loss: 1.160.. Test Loss: 0.151.. Time: 0.39m\n"
     ]
    },
    {
     "name": "stderr",
     "output_type": "stream",
     "text": [
      "100%|██████████| 238/238 [00:21<00:00, 11.31it/s]\n",
      "100%|██████████| 85/85 [00:01<00:00, 75.98it/s]\n",
      "100%|██████████| 17/17 [00:00<00:00, 76.38it/s]\n"
     ]
    },
    {
     "name": "stdout",
     "output_type": "stream",
     "text": [
      "Epoch:225/500.. Train Loss: 0.338.. Val Loss: 1.145.. Test Loss: 0.175.. Time: 0.37m\n"
     ]
    },
    {
     "name": "stderr",
     "output_type": "stream",
     "text": [
      "100%|██████████| 238/238 [00:21<00:00, 11.03it/s]\n",
      "100%|██████████| 85/85 [00:01<00:00, 76.74it/s]\n",
      "100%|██████████| 17/17 [00:00<00:00, 76.62it/s]\n"
     ]
    },
    {
     "name": "stdout",
     "output_type": "stream",
     "text": [
      "Epoch:226/500.. Train Loss: 0.331.. Val Loss: 1.138.. Test Loss: 0.151.. Time: 0.38m\n"
     ]
    },
    {
     "name": "stderr",
     "output_type": "stream",
     "text": [
      "100%|██████████| 238/238 [00:22<00:00, 10.80it/s]\n",
      "100%|██████████| 85/85 [00:01<00:00, 76.90it/s]\n",
      "100%|██████████| 17/17 [00:00<00:00, 77.15it/s]\n"
     ]
    },
    {
     "name": "stdout",
     "output_type": "stream",
     "text": [
      "Epoch:227/500.. Train Loss: 0.333.. Val Loss: 1.119.. Test Loss: 0.154.. Time: 0.39m\n"
     ]
    },
    {
     "name": "stderr",
     "output_type": "stream",
     "text": [
      "100%|██████████| 238/238 [00:21<00:00, 11.24it/s]\n",
      "100%|██████████| 85/85 [00:01<00:00, 76.01it/s]\n",
      "100%|██████████| 17/17 [00:00<00:00, 76.88it/s]\n"
     ]
    },
    {
     "name": "stdout",
     "output_type": "stream",
     "text": [
      "Epoch:228/500.. Train Loss: 0.332.. Val Loss: 1.108.. Test Loss: 0.159.. Time: 0.38m\n"
     ]
    },
    {
     "name": "stderr",
     "output_type": "stream",
     "text": [
      "100%|██████████| 238/238 [00:20<00:00, 11.48it/s]\n",
      "100%|██████████| 85/85 [00:01<00:00, 76.15it/s]\n",
      "100%|██████████| 17/17 [00:00<00:00, 75.44it/s]\n"
     ]
    },
    {
     "name": "stdout",
     "output_type": "stream",
     "text": [
      "Epoch:229/500.. Train Loss: 0.330.. Val Loss: 1.134.. Test Loss: 0.170.. Time: 0.37m\n"
     ]
    },
    {
     "name": "stderr",
     "output_type": "stream",
     "text": [
      "100%|██████████| 238/238 [00:18<00:00, 13.17it/s]\n",
      "100%|██████████| 85/85 [00:01<00:00, 77.28it/s]\n",
      "100%|██████████| 17/17 [00:00<00:00, 77.08it/s]\n"
     ]
    },
    {
     "name": "stdout",
     "output_type": "stream",
     "text": [
      "Epoch:230/500.. Train Loss: 0.332.. Val Loss: 1.117.. Test Loss: 0.147.. Time: 0.32m\n"
     ]
    },
    {
     "name": "stderr",
     "output_type": "stream",
     "text": [
      "100%|██████████| 238/238 [00:20<00:00, 11.35it/s]\n",
      "100%|██████████| 85/85 [00:01<00:00, 76.45it/s]\n",
      "100%|██████████| 17/17 [00:00<00:00, 76.27it/s]\n"
     ]
    },
    {
     "name": "stdout",
     "output_type": "stream",
     "text": [
      "Epoch:231/500.. Train Loss: 0.324.. Val Loss: 1.127.. Test Loss: 0.168.. Time: 0.37m\n"
     ]
    },
    {
     "name": "stderr",
     "output_type": "stream",
     "text": [
      "100%|██████████| 238/238 [00:21<00:00, 11.01it/s]\n",
      "100%|██████████| 85/85 [00:01<00:00, 77.75it/s]\n",
      "100%|██████████| 17/17 [00:00<00:00, 76.15it/s]\n"
     ]
    },
    {
     "name": "stdout",
     "output_type": "stream",
     "text": [
      "Epoch:232/500.. Train Loss: 0.321.. Val Loss: 1.123.. Test Loss: 0.174.. Time: 0.38m\n"
     ]
    },
    {
     "name": "stderr",
     "output_type": "stream",
     "text": [
      "100%|██████████| 238/238 [00:21<00:00, 11.23it/s]\n",
      "100%|██████████| 85/85 [00:01<00:00, 75.58it/s]\n",
      "100%|██████████| 17/17 [00:00<00:00, 75.12it/s]\n"
     ]
    },
    {
     "name": "stdout",
     "output_type": "stream",
     "text": [
      "Epoch:233/500.. Train Loss: 0.326.. Val Loss: 1.123.. Test Loss: 0.159.. Time: 0.38m\n"
     ]
    },
    {
     "name": "stderr",
     "output_type": "stream",
     "text": [
      "100%|██████████| 238/238 [00:22<00:00, 10.71it/s]\n",
      "100%|██████████| 85/85 [00:01<00:00, 77.35it/s]\n",
      "100%|██████████| 17/17 [00:00<00:00, 76.56it/s]\n"
     ]
    },
    {
     "name": "stdout",
     "output_type": "stream",
     "text": [
      "Epoch:234/500.. Train Loss: 0.326.. Val Loss: 1.111.. Test Loss: 0.157.. Time: 0.39m\n"
     ]
    },
    {
     "name": "stderr",
     "output_type": "stream",
     "text": [
      "100%|██████████| 238/238 [00:21<00:00, 11.12it/s]\n",
      "100%|██████████| 85/85 [00:01<00:00, 77.71it/s]\n",
      "100%|██████████| 17/17 [00:00<00:00, 76.79it/s]\n"
     ]
    },
    {
     "name": "stdout",
     "output_type": "stream",
     "text": [
      "Epoch:235/500.. Train Loss: 0.327.. Val Loss: 1.126.. Test Loss: 0.189.. Time: 0.38m\n"
     ]
    },
    {
     "name": "stderr",
     "output_type": "stream",
     "text": [
      "100%|██████████| 238/238 [00:21<00:00, 11.11it/s]\n",
      "100%|██████████| 85/85 [00:01<00:00, 76.70it/s]\n",
      "100%|██████████| 17/17 [00:00<00:00, 77.06it/s]\n"
     ]
    },
    {
     "name": "stdout",
     "output_type": "stream",
     "text": [
      "Epoch:236/500.. Train Loss: 0.315.. Val Loss: 1.130.. Test Loss: 0.174.. Time: 0.38m\n"
     ]
    },
    {
     "name": "stderr",
     "output_type": "stream",
     "text": [
      "100%|██████████| 238/238 [00:18<00:00, 12.78it/s]\n",
      "100%|██████████| 85/85 [00:01<00:00, 76.24it/s]\n",
      "100%|██████████| 17/17 [00:00<00:00, 71.15it/s]\n"
     ]
    },
    {
     "name": "stdout",
     "output_type": "stream",
     "text": [
      "Epoch:237/500.. Train Loss: 0.325.. Val Loss: 1.116.. Test Loss: 0.166.. Time: 0.33m\n"
     ]
    },
    {
     "name": "stderr",
     "output_type": "stream",
     "text": [
      "100%|██████████| 238/238 [00:21<00:00, 11.30it/s]\n",
      "100%|██████████| 85/85 [00:01<00:00, 79.05it/s]\n",
      "100%|██████████| 17/17 [00:00<00:00, 74.07it/s]\n"
     ]
    },
    {
     "name": "stdout",
     "output_type": "stream",
     "text": [
      "Epoch:238/500.. Train Loss: 0.326.. Val Loss: 1.104.. Test Loss: 0.150.. Time: 0.37m\n"
     ]
    },
    {
     "name": "stderr",
     "output_type": "stream",
     "text": [
      "100%|██████████| 238/238 [00:21<00:00, 11.07it/s]\n",
      "100%|██████████| 85/85 [00:01<00:00, 76.54it/s]\n",
      "100%|██████████| 17/17 [00:00<00:00, 73.50it/s]\n"
     ]
    },
    {
     "name": "stdout",
     "output_type": "stream",
     "text": [
      "Epoch:239/500.. Train Loss: 0.346.. Val Loss: 1.101.. Test Loss: 0.136.. Time: 0.38m\n"
     ]
    },
    {
     "name": "stderr",
     "output_type": "stream",
     "text": [
      "100%|██████████| 238/238 [00:21<00:00, 11.07it/s]\n",
      "100%|██████████| 85/85 [00:01<00:00, 76.32it/s]\n",
      "100%|██████████| 17/17 [00:00<00:00, 74.71it/s]\n"
     ]
    },
    {
     "name": "stdout",
     "output_type": "stream",
     "text": [
      "Epoch:240/500.. Train Loss: 0.344.. Val Loss: 1.105.. Test Loss: 0.155.. Time: 0.38m\n"
     ]
    },
    {
     "name": "stderr",
     "output_type": "stream",
     "text": [
      "100%|██████████| 238/238 [00:21<00:00, 11.13it/s]\n",
      "100%|██████████| 85/85 [00:01<00:00, 78.23it/s]\n",
      "100%|██████████| 17/17 [00:00<00:00, 76.16it/s]\n"
     ]
    },
    {
     "name": "stdout",
     "output_type": "stream",
     "text": [
      "Epoch:241/500.. Train Loss: 0.333.. Val Loss: 1.099.. Test Loss: 0.162.. Time: 0.38m\n"
     ]
    },
    {
     "name": "stderr",
     "output_type": "stream",
     "text": [
      "100%|██████████| 238/238 [00:21<00:00, 11.27it/s]\n",
      "100%|██████████| 85/85 [00:01<00:00, 76.58it/s]\n",
      "100%|██████████| 17/17 [00:00<00:00, 73.59it/s]\n"
     ]
    },
    {
     "name": "stdout",
     "output_type": "stream",
     "text": [
      "Loss Decreasing.. 1.086 >> 1.081 \n",
      "saving model...\n",
      "Epoch:242/500.. Train Loss: 0.322.. Val Loss: 1.081.. Test Loss: 0.141.. Time: 0.38m\n"
     ]
    },
    {
     "name": "stderr",
     "output_type": "stream",
     "text": [
      "100%|██████████| 238/238 [00:22<00:00, 10.63it/s]\n",
      "100%|██████████| 85/85 [00:01<00:00, 69.25it/s]\n",
      "100%|██████████| 17/17 [00:00<00:00, 77.45it/s]\n"
     ]
    },
    {
     "name": "stdout",
     "output_type": "stream",
     "text": [
      "Epoch:243/500.. Train Loss: 0.329.. Val Loss: 1.104.. Test Loss: 0.150.. Time: 0.40m\n"
     ]
    },
    {
     "name": "stderr",
     "output_type": "stream",
     "text": [
      "100%|██████████| 238/238 [00:20<00:00, 11.37it/s]\n",
      "100%|██████████| 85/85 [00:01<00:00, 75.81it/s]\n",
      "100%|██████████| 17/17 [00:00<00:00, 75.74it/s]\n"
     ]
    },
    {
     "name": "stdout",
     "output_type": "stream",
     "text": [
      "Epoch:244/500.. Train Loss: 0.324.. Val Loss: 1.100.. Test Loss: 0.143.. Time: 0.37m\n"
     ]
    },
    {
     "name": "stderr",
     "output_type": "stream",
     "text": [
      "100%|██████████| 238/238 [00:20<00:00, 11.49it/s]\n",
      "100%|██████████| 85/85 [00:01<00:00, 75.68it/s]\n",
      "100%|██████████| 17/17 [00:00<00:00, 76.29it/s]\n"
     ]
    },
    {
     "name": "stdout",
     "output_type": "stream",
     "text": [
      "Epoch:245/500.. Train Loss: 0.325.. Val Loss: 1.170.. Test Loss: 0.189.. Time: 0.37m\n"
     ]
    },
    {
     "name": "stderr",
     "output_type": "stream",
     "text": [
      "100%|██████████| 238/238 [00:21<00:00, 11.02it/s]\n",
      "100%|██████████| 85/85 [00:01<00:00, 76.91it/s]\n",
      "100%|██████████| 17/17 [00:00<00:00, 76.89it/s]\n"
     ]
    },
    {
     "name": "stdout",
     "output_type": "stream",
     "text": [
      "Epoch:246/500.. Train Loss: 0.323.. Val Loss: 1.154.. Test Loss: 0.186.. Time: 0.38m\n"
     ]
    },
    {
     "name": "stderr",
     "output_type": "stream",
     "text": [
      "100%|██████████| 238/238 [00:21<00:00, 11.02it/s]\n",
      "100%|██████████| 85/85 [00:01<00:00, 76.02it/s]\n",
      "100%|██████████| 17/17 [00:00<00:00, 76.61it/s]\n"
     ]
    },
    {
     "name": "stdout",
     "output_type": "stream",
     "text": [
      "Epoch:247/500.. Train Loss: 0.318.. Val Loss: 1.083.. Test Loss: 0.153.. Time: 0.38m\n"
     ]
    },
    {
     "name": "stderr",
     "output_type": "stream",
     "text": [
      "100%|██████████| 238/238 [00:21<00:00, 10.92it/s]\n",
      "100%|██████████| 85/85 [00:01<00:00, 77.22it/s]\n",
      "100%|██████████| 17/17 [00:00<00:00, 76.39it/s]\n"
     ]
    },
    {
     "name": "stdout",
     "output_type": "stream",
     "text": [
      "Epoch:248/500.. Train Loss: 0.322.. Val Loss: 1.104.. Test Loss: 0.149.. Time: 0.39m\n"
     ]
    },
    {
     "name": "stderr",
     "output_type": "stream",
     "text": [
      "100%|██████████| 238/238 [00:21<00:00, 10.90it/s]\n",
      "100%|██████████| 85/85 [00:01<00:00, 77.11it/s]\n",
      "100%|██████████| 17/17 [00:00<00:00, 73.95it/s]\n"
     ]
    },
    {
     "name": "stdout",
     "output_type": "stream",
     "text": [
      "Epoch:249/500.. Train Loss: 0.328.. Val Loss: 1.127.. Test Loss: 0.179.. Time: 0.39m\n"
     ]
    },
    {
     "name": "stderr",
     "output_type": "stream",
     "text": [
      "100%|██████████| 238/238 [00:21<00:00, 10.91it/s]\n",
      "100%|██████████| 85/85 [00:01<00:00, 73.61it/s]\n",
      "100%|██████████| 17/17 [00:00<00:00, 74.75it/s]\n"
     ]
    },
    {
     "name": "stdout",
     "output_type": "stream",
     "text": [
      "Epoch:250/500.. Train Loss: 0.325.. Val Loss: 1.096.. Test Loss: 0.151.. Time: 0.39m\n"
     ]
    },
    {
     "name": "stderr",
     "output_type": "stream",
     "text": [
      "100%|██████████| 238/238 [00:20<00:00, 11.35it/s]\n",
      "100%|██████████| 85/85 [00:01<00:00, 77.29it/s]\n",
      "100%|██████████| 17/17 [00:00<00:00, 75.96it/s]\n"
     ]
    },
    {
     "name": "stdout",
     "output_type": "stream",
     "text": [
      "Epoch:251/500.. Train Loss: 0.327.. Val Loss: 1.114.. Test Loss: 0.165.. Time: 0.37m\n"
     ]
    },
    {
     "name": "stderr",
     "output_type": "stream",
     "text": [
      "100%|██████████| 238/238 [00:19<00:00, 12.08it/s]\n",
      "100%|██████████| 85/85 [00:01<00:00, 77.16it/s]\n",
      "100%|██████████| 17/17 [00:00<00:00, 76.29it/s]\n"
     ]
    },
    {
     "name": "stdout",
     "output_type": "stream",
     "text": [
      "Epoch:252/500.. Train Loss: 0.334.. Val Loss: 1.109.. Test Loss: 0.152.. Time: 0.35m\n"
     ]
    },
    {
     "name": "stderr",
     "output_type": "stream",
     "text": [
      "100%|██████████| 238/238 [00:20<00:00, 11.37it/s]\n",
      "100%|██████████| 85/85 [00:01<00:00, 77.48it/s]\n",
      "100%|██████████| 17/17 [00:00<00:00, 76.37it/s]\n"
     ]
    },
    {
     "name": "stdout",
     "output_type": "stream",
     "text": [
      "Epoch:253/500.. Train Loss: 0.331.. Val Loss: 1.121.. Test Loss: 0.159.. Time: 0.37m\n"
     ]
    },
    {
     "name": "stderr",
     "output_type": "stream",
     "text": [
      "100%|██████████| 238/238 [00:21<00:00, 11.29it/s]\n",
      "100%|██████████| 85/85 [00:01<00:00, 77.20it/s]\n",
      "100%|██████████| 17/17 [00:00<00:00, 76.38it/s]\n"
     ]
    },
    {
     "name": "stdout",
     "output_type": "stream",
     "text": [
      "Epoch:254/500.. Train Loss: 0.322.. Val Loss: 1.130.. Test Loss: 0.155.. Time: 0.37m\n"
     ]
    },
    {
     "name": "stderr",
     "output_type": "stream",
     "text": [
      "100%|██████████| 238/238 [00:21<00:00, 11.22it/s]\n",
      "100%|██████████| 85/85 [00:01<00:00, 76.38it/s]\n",
      "100%|██████████| 17/17 [00:00<00:00, 75.96it/s]\n"
     ]
    },
    {
     "name": "stdout",
     "output_type": "stream",
     "text": [
      "Epoch:255/500.. Train Loss: 0.323.. Val Loss: 1.117.. Test Loss: 0.157.. Time: 0.38m\n"
     ]
    },
    {
     "name": "stderr",
     "output_type": "stream",
     "text": [
      "100%|██████████| 238/238 [00:22<00:00, 10.80it/s]\n",
      "100%|██████████| 85/85 [00:01<00:00, 74.34it/s]\n",
      "100%|██████████| 17/17 [00:00<00:00, 75.99it/s]\n"
     ]
    },
    {
     "name": "stdout",
     "output_type": "stream",
     "text": [
      "Epoch:256/500.. Train Loss: 0.321.. Val Loss: 1.145.. Test Loss: 0.188.. Time: 0.39m\n"
     ]
    },
    {
     "name": "stderr",
     "output_type": "stream",
     "text": [
      "100%|██████████| 238/238 [00:21<00:00, 11.06it/s]\n",
      "100%|██████████| 85/85 [00:01<00:00, 77.26it/s]\n",
      "100%|██████████| 17/17 [00:00<00:00, 77.05it/s]\n"
     ]
    },
    {
     "name": "stdout",
     "output_type": "stream",
     "text": [
      "Epoch:257/500.. Train Loss: 0.322.. Val Loss: 1.105.. Test Loss: 0.160.. Time: 0.38m\n"
     ]
    },
    {
     "name": "stderr",
     "output_type": "stream",
     "text": [
      "100%|██████████| 238/238 [00:21<00:00, 11.12it/s]\n",
      "100%|██████████| 85/85 [00:01<00:00, 76.93it/s]\n",
      "100%|██████████| 17/17 [00:00<00:00, 76.40it/s]\n"
     ]
    },
    {
     "name": "stdout",
     "output_type": "stream",
     "text": [
      "Epoch:258/500.. Train Loss: 0.314.. Val Loss: 1.097.. Test Loss: 0.158.. Time: 0.38m\n"
     ]
    },
    {
     "name": "stderr",
     "output_type": "stream",
     "text": [
      "100%|██████████| 238/238 [00:21<00:00, 11.22it/s]\n",
      "100%|██████████| 85/85 [00:01<00:00, 77.56it/s]\n",
      "100%|██████████| 17/17 [00:00<00:00, 73.46it/s]\n"
     ]
    },
    {
     "name": "stdout",
     "output_type": "stream",
     "text": [
      "Epoch:259/500.. Train Loss: 0.321.. Val Loss: 1.113.. Test Loss: 0.157.. Time: 0.38m\n"
     ]
    },
    {
     "name": "stderr",
     "output_type": "stream",
     "text": [
      "100%|██████████| 238/238 [00:21<00:00, 11.14it/s]\n",
      "100%|██████████| 85/85 [00:01<00:00, 75.22it/s]\n",
      "100%|██████████| 17/17 [00:00<00:00, 76.21it/s]\n"
     ]
    },
    {
     "name": "stdout",
     "output_type": "stream",
     "text": [
      "Epoch:260/500.. Train Loss: 0.319.. Val Loss: 1.112.. Test Loss: 0.166.. Time: 0.38m\n"
     ]
    },
    {
     "name": "stderr",
     "output_type": "stream",
     "text": [
      "100%|██████████| 238/238 [00:21<00:00, 10.98it/s]\n",
      "100%|██████████| 85/85 [00:01<00:00, 77.08it/s]\n",
      "100%|██████████| 17/17 [00:00<00:00, 76.04it/s]\n"
     ]
    },
    {
     "name": "stdout",
     "output_type": "stream",
     "text": [
      "Epoch:261/500.. Train Loss: 0.324.. Val Loss: 1.124.. Test Loss: 0.166.. Time: 0.38m\n"
     ]
    },
    {
     "name": "stderr",
     "output_type": "stream",
     "text": [
      "100%|██████████| 238/238 [00:21<00:00, 11.13it/s]\n",
      "100%|██████████| 85/85 [00:01<00:00, 76.62it/s]\n",
      "100%|██████████| 17/17 [00:00<00:00, 75.90it/s]\n"
     ]
    },
    {
     "name": "stdout",
     "output_type": "stream",
     "text": [
      "Epoch:262/500.. Train Loss: 0.316.. Val Loss: 1.125.. Test Loss: 0.183.. Time: 0.38m\n"
     ]
    },
    {
     "name": "stderr",
     "output_type": "stream",
     "text": [
      "100%|██████████| 238/238 [00:21<00:00, 11.10it/s]\n",
      "100%|██████████| 85/85 [00:01<00:00, 77.66it/s]\n",
      "100%|██████████| 17/17 [00:00<00:00, 77.22it/s]\n"
     ]
    },
    {
     "name": "stdout",
     "output_type": "stream",
     "text": [
      "Epoch:263/500.. Train Loss: 0.323.. Val Loss: 1.103.. Test Loss: 0.142.. Time: 0.38m\n"
     ]
    },
    {
     "name": "stderr",
     "output_type": "stream",
     "text": [
      "100%|██████████| 238/238 [00:21<00:00, 11.23it/s]\n",
      "100%|██████████| 85/85 [00:01<00:00, 76.96it/s]\n",
      "100%|██████████| 17/17 [00:00<00:00, 76.67it/s]\n"
     ]
    },
    {
     "name": "stdout",
     "output_type": "stream",
     "text": [
      "Epoch:264/500.. Train Loss: 0.313.. Val Loss: 1.109.. Test Loss: 0.161.. Time: 0.38m\n"
     ]
    },
    {
     "name": "stderr",
     "output_type": "stream",
     "text": [
      "100%|██████████| 238/238 [00:21<00:00, 10.98it/s]\n",
      "100%|██████████| 85/85 [00:01<00:00, 77.14it/s]\n",
      "100%|██████████| 17/17 [00:00<00:00, 76.27it/s]\n"
     ]
    },
    {
     "name": "stdout",
     "output_type": "stream",
     "text": [
      "Epoch:265/500.. Train Loss: 0.321.. Val Loss: 1.105.. Test Loss: 0.139.. Time: 0.38m\n"
     ]
    },
    {
     "name": "stderr",
     "output_type": "stream",
     "text": [
      "100%|██████████| 238/238 [00:21<00:00, 11.21it/s]\n",
      "100%|██████████| 85/85 [00:01<00:00, 77.03it/s]\n",
      "100%|██████████| 17/17 [00:00<00:00, 75.33it/s]\n"
     ]
    },
    {
     "name": "stdout",
     "output_type": "stream",
     "text": [
      "Epoch:266/500.. Train Loss: 0.320.. Val Loss: 1.119.. Test Loss: 0.175.. Time: 0.38m\n"
     ]
    },
    {
     "name": "stderr",
     "output_type": "stream",
     "text": [
      "100%|██████████| 238/238 [00:21<00:00, 11.09it/s]\n",
      "100%|██████████| 85/85 [00:01<00:00, 77.27it/s]\n",
      "100%|██████████| 17/17 [00:00<00:00, 76.94it/s]\n"
     ]
    },
    {
     "name": "stdout",
     "output_type": "stream",
     "text": [
      "Epoch:267/500.. Train Loss: 0.318.. Val Loss: 1.147.. Test Loss: 0.167.. Time: 0.38m\n"
     ]
    },
    {
     "name": "stderr",
     "output_type": "stream",
     "text": [
      "100%|██████████| 238/238 [00:22<00:00, 10.81it/s]\n",
      "100%|██████████| 85/85 [00:01<00:00, 77.48it/s]\n",
      "100%|██████████| 17/17 [00:00<00:00, 76.64it/s]\n"
     ]
    },
    {
     "name": "stdout",
     "output_type": "stream",
     "text": [
      "Epoch:268/500.. Train Loss: 0.313.. Val Loss: 1.091.. Test Loss: 0.169.. Time: 0.39m\n"
     ]
    },
    {
     "name": "stderr",
     "output_type": "stream",
     "text": [
      "100%|██████████| 238/238 [00:21<00:00, 11.32it/s]\n",
      "100%|██████████| 85/85 [00:01<00:00, 77.69it/s]\n",
      "100%|██████████| 17/17 [00:00<00:00, 77.14it/s]\n"
     ]
    },
    {
     "name": "stdout",
     "output_type": "stream",
     "text": [
      "Epoch:269/500.. Train Loss: 0.315.. Val Loss: 1.121.. Test Loss: 0.172.. Time: 0.37m\n"
     ]
    },
    {
     "name": "stderr",
     "output_type": "stream",
     "text": [
      "100%|██████████| 238/238 [00:21<00:00, 11.25it/s]\n",
      "100%|██████████| 85/85 [00:01<00:00, 77.33it/s]\n",
      "100%|██████████| 17/17 [00:00<00:00, 75.88it/s]\n"
     ]
    },
    {
     "name": "stdout",
     "output_type": "stream",
     "text": [
      "Epoch:270/500.. Train Loss: 0.315.. Val Loss: 1.114.. Test Loss: 0.148.. Time: 0.37m\n"
     ]
    },
    {
     "name": "stderr",
     "output_type": "stream",
     "text": [
      "100%|██████████| 238/238 [00:21<00:00, 10.99it/s]\n",
      "100%|██████████| 85/85 [00:01<00:00, 77.32it/s]\n",
      "100%|██████████| 17/17 [00:00<00:00, 77.21it/s]\n"
     ]
    },
    {
     "name": "stdout",
     "output_type": "stream",
     "text": [
      "Epoch:271/500.. Train Loss: 0.321.. Val Loss: 1.141.. Test Loss: 0.200.. Time: 0.38m\n"
     ]
    },
    {
     "name": "stderr",
     "output_type": "stream",
     "text": [
      "100%|██████████| 238/238 [00:21<00:00, 11.05it/s]\n",
      "100%|██████████| 85/85 [00:01<00:00, 76.57it/s]\n",
      "100%|██████████| 17/17 [00:00<00:00, 76.61it/s]\n"
     ]
    },
    {
     "name": "stdout",
     "output_type": "stream",
     "text": [
      "Epoch:272/500.. Train Loss: 0.316.. Val Loss: 1.101.. Test Loss: 0.174.. Time: 0.38m\n"
     ]
    },
    {
     "name": "stderr",
     "output_type": "stream",
     "text": [
      "100%|██████████| 238/238 [00:20<00:00, 11.59it/s]\n",
      "100%|██████████| 85/85 [00:01<00:00, 74.99it/s]\n",
      "100%|██████████| 17/17 [00:00<00:00, 75.92it/s]\n"
     ]
    },
    {
     "name": "stdout",
     "output_type": "stream",
     "text": [
      "Epoch:273/500.. Train Loss: 0.321.. Val Loss: 1.095.. Test Loss: 0.164.. Time: 0.37m\n"
     ]
    },
    {
     "name": "stderr",
     "output_type": "stream",
     "text": [
      "100%|██████████| 238/238 [00:21<00:00, 10.95it/s]\n",
      "100%|██████████| 85/85 [00:01<00:00, 77.39it/s]\n",
      "100%|██████████| 17/17 [00:00<00:00, 69.99it/s]\n"
     ]
    },
    {
     "name": "stdout",
     "output_type": "stream",
     "text": [
      "Epoch:274/500.. Train Loss: 0.346.. Val Loss: 1.099.. Test Loss: 0.160.. Time: 0.38m\n"
     ]
    },
    {
     "name": "stderr",
     "output_type": "stream",
     "text": [
      "100%|██████████| 238/238 [00:21<00:00, 11.11it/s]\n",
      "100%|██████████| 85/85 [00:01<00:00, 75.27it/s]\n",
      "100%|██████████| 17/17 [00:00<00:00, 76.36it/s]\n"
     ]
    },
    {
     "name": "stdout",
     "output_type": "stream",
     "text": [
      "Epoch:275/500.. Train Loss: 0.316.. Val Loss: 1.093.. Test Loss: 0.164.. Time: 0.38m\n"
     ]
    },
    {
     "name": "stderr",
     "output_type": "stream",
     "text": [
      "100%|██████████| 238/238 [00:21<00:00, 11.08it/s]\n",
      "100%|██████████| 85/85 [00:01<00:00, 76.13it/s]\n",
      "100%|██████████| 17/17 [00:00<00:00, 76.33it/s]\n"
     ]
    },
    {
     "name": "stdout",
     "output_type": "stream",
     "text": [
      "Epoch:276/500.. Train Loss: 0.312.. Val Loss: 1.130.. Test Loss: 0.171.. Time: 0.38m\n"
     ]
    },
    {
     "name": "stderr",
     "output_type": "stream",
     "text": [
      "100%|██████████| 238/238 [00:21<00:00, 11.17it/s]\n",
      "100%|██████████| 85/85 [00:01<00:00, 77.57it/s]\n",
      "100%|██████████| 17/17 [00:00<00:00, 77.16it/s]\n"
     ]
    },
    {
     "name": "stdout",
     "output_type": "stream",
     "text": [
      "Epoch:277/500.. Train Loss: 0.323.. Val Loss: 1.114.. Test Loss: 0.193.. Time: 0.38m\n"
     ]
    },
    {
     "name": "stderr",
     "output_type": "stream",
     "text": [
      "100%|██████████| 238/238 [00:21<00:00, 11.21it/s]\n",
      "100%|██████████| 85/85 [00:01<00:00, 77.10it/s]\n",
      "100%|██████████| 17/17 [00:00<00:00, 76.31it/s]\n"
     ]
    },
    {
     "name": "stdout",
     "output_type": "stream",
     "text": [
      "Epoch:278/500.. Train Loss: 0.315.. Val Loss: 1.103.. Test Loss: 0.186.. Time: 0.38m\n"
     ]
    },
    {
     "name": "stderr",
     "output_type": "stream",
     "text": [
      "100%|██████████| 238/238 [00:21<00:00, 11.09it/s]\n",
      "100%|██████████| 85/85 [00:01<00:00, 77.51it/s]\n",
      "100%|██████████| 17/17 [00:00<00:00, 76.94it/s]\n"
     ]
    },
    {
     "name": "stdout",
     "output_type": "stream",
     "text": [
      "Epoch:279/500.. Train Loss: 0.313.. Val Loss: 1.123.. Test Loss: 0.190.. Time: 0.38m\n"
     ]
    },
    {
     "name": "stderr",
     "output_type": "stream",
     "text": [
      "100%|██████████| 238/238 [00:21<00:00, 11.13it/s]\n",
      "100%|██████████| 85/85 [00:01<00:00, 77.42it/s]\n",
      "100%|██████████| 17/17 [00:00<00:00, 77.04it/s]\n"
     ]
    },
    {
     "name": "stdout",
     "output_type": "stream",
     "text": [
      "Epoch:280/500.. Train Loss: 0.320.. Val Loss: 1.104.. Test Loss: 0.171.. Time: 0.38m\n"
     ]
    },
    {
     "name": "stderr",
     "output_type": "stream",
     "text": [
      "100%|██████████| 238/238 [00:21<00:00, 11.20it/s]\n",
      "100%|██████████| 85/85 [00:01<00:00, 76.18it/s]\n",
      "100%|██████████| 17/17 [00:00<00:00, 71.16it/s]\n"
     ]
    },
    {
     "name": "stdout",
     "output_type": "stream",
     "text": [
      "Epoch:281/500.. Train Loss: 0.312.. Val Loss: 1.108.. Test Loss: 0.184.. Time: 0.38m\n"
     ]
    },
    {
     "name": "stderr",
     "output_type": "stream",
     "text": [
      "100%|██████████| 238/238 [00:21<00:00, 11.03it/s]\n",
      "100%|██████████| 85/85 [00:01<00:00, 76.51it/s]\n",
      "100%|██████████| 17/17 [00:00<00:00, 76.77it/s]\n"
     ]
    },
    {
     "name": "stdout",
     "output_type": "stream",
     "text": [
      "Epoch:282/500.. Train Loss: 0.314.. Val Loss: 1.083.. Test Loss: 0.155.. Time: 0.38m\n"
     ]
    },
    {
     "name": "stderr",
     "output_type": "stream",
     "text": [
      "100%|██████████| 238/238 [00:21<00:00, 11.26it/s]\n",
      "100%|██████████| 85/85 [00:01<00:00, 74.46it/s]\n",
      "100%|██████████| 17/17 [00:00<00:00, 75.56it/s]\n"
     ]
    },
    {
     "name": "stdout",
     "output_type": "stream",
     "text": [
      "Epoch:283/500.. Train Loss: 0.323.. Val Loss: 1.086.. Test Loss: 0.158.. Time: 0.38m\n"
     ]
    },
    {
     "name": "stderr",
     "output_type": "stream",
     "text": [
      "100%|██████████| 238/238 [00:21<00:00, 10.93it/s]\n",
      "100%|██████████| 85/85 [00:01<00:00, 77.39it/s]\n",
      "100%|██████████| 17/17 [00:00<00:00, 76.71it/s]\n"
     ]
    },
    {
     "name": "stdout",
     "output_type": "stream",
     "text": [
      "Epoch:284/500.. Train Loss: 0.313.. Val Loss: 1.135.. Test Loss: 0.182.. Time: 0.39m\n"
     ]
    },
    {
     "name": "stderr",
     "output_type": "stream",
     "text": [
      "100%|██████████| 238/238 [00:21<00:00, 11.28it/s]\n",
      "100%|██████████| 85/85 [00:01<00:00, 73.53it/s]\n",
      "100%|██████████| 17/17 [00:00<00:00, 74.55it/s]\n"
     ]
    },
    {
     "name": "stdout",
     "output_type": "stream",
     "text": [
      "Epoch:285/500.. Train Loss: 0.317.. Val Loss: 1.136.. Test Loss: 0.190.. Time: 0.37m\n"
     ]
    },
    {
     "name": "stderr",
     "output_type": "stream",
     "text": [
      "100%|██████████| 238/238 [00:21<00:00, 10.96it/s]\n",
      "100%|██████████| 85/85 [00:01<00:00, 76.15it/s]\n",
      "100%|██████████| 17/17 [00:00<00:00, 75.76it/s]\n"
     ]
    },
    {
     "name": "stdout",
     "output_type": "stream",
     "text": [
      "Epoch:286/500.. Train Loss: 0.314.. Val Loss: 1.085.. Test Loss: 0.168.. Time: 0.38m\n"
     ]
    },
    {
     "name": "stderr",
     "output_type": "stream",
     "text": [
      "100%|██████████| 238/238 [00:21<00:00, 10.96it/s]\n",
      "100%|██████████| 85/85 [00:01<00:00, 76.52it/s]\n",
      "100%|██████████| 17/17 [00:00<00:00, 75.51it/s]\n"
     ]
    },
    {
     "name": "stdout",
     "output_type": "stream",
     "text": [
      "Epoch:287/500.. Train Loss: 0.305.. Val Loss: 1.091.. Test Loss: 0.175.. Time: 0.38m\n"
     ]
    },
    {
     "name": "stderr",
     "output_type": "stream",
     "text": [
      "100%|██████████| 238/238 [00:21<00:00, 11.04it/s]\n",
      "100%|██████████| 85/85 [00:01<00:00, 77.34it/s]\n",
      "100%|██████████| 17/17 [00:00<00:00, 77.15it/s]\n"
     ]
    },
    {
     "name": "stdout",
     "output_type": "stream",
     "text": [
      "Loss Decreasing.. 1.081 >> 1.065 \n",
      "saving model...\n",
      "Epoch:288/500.. Train Loss: 0.314.. Val Loss: 1.065.. Test Loss: 0.138.. Time: 0.38m\n"
     ]
    },
    {
     "name": "stderr",
     "output_type": "stream",
     "text": [
      "100%|██████████| 238/238 [00:21<00:00, 11.08it/s]\n",
      "100%|██████████| 85/85 [00:01<00:00, 75.90it/s]\n",
      "100%|██████████| 17/17 [00:00<00:00, 75.90it/s]\n"
     ]
    },
    {
     "name": "stdout",
     "output_type": "stream",
     "text": [
      "Epoch:289/500.. Train Loss: 0.313.. Val Loss: 1.113.. Test Loss: 0.185.. Time: 0.38m\n"
     ]
    },
    {
     "name": "stderr",
     "output_type": "stream",
     "text": [
      "100%|██████████| 238/238 [00:21<00:00, 11.11it/s]\n",
      "100%|██████████| 85/85 [00:01<00:00, 75.93it/s]\n",
      "100%|██████████| 17/17 [00:00<00:00, 77.23it/s]\n"
     ]
    },
    {
     "name": "stdout",
     "output_type": "stream",
     "text": [
      "Epoch:290/500.. Train Loss: 0.312.. Val Loss: 1.159.. Test Loss: 0.161.. Time: 0.38m\n"
     ]
    },
    {
     "name": "stderr",
     "output_type": "stream",
     "text": [
      "100%|██████████| 238/238 [00:17<00:00, 13.30it/s]\n",
      "100%|██████████| 85/85 [00:01<00:00, 75.29it/s]\n",
      "100%|██████████| 17/17 [00:00<00:00, 70.75it/s]\n"
     ]
    },
    {
     "name": "stdout",
     "output_type": "stream",
     "text": [
      "Epoch:291/500.. Train Loss: 0.319.. Val Loss: 1.086.. Test Loss: 0.144.. Time: 0.32m\n"
     ]
    },
    {
     "name": "stderr",
     "output_type": "stream",
     "text": [
      "100%|██████████| 238/238 [00:19<00:00, 12.38it/s]\n",
      "100%|██████████| 85/85 [00:01<00:00, 77.25it/s]\n",
      "100%|██████████| 17/17 [00:00<00:00, 76.78it/s]\n"
     ]
    },
    {
     "name": "stdout",
     "output_type": "stream",
     "text": [
      "Epoch:292/500.. Train Loss: 0.311.. Val Loss: 1.085.. Test Loss: 0.143.. Time: 0.34m\n"
     ]
    },
    {
     "name": "stderr",
     "output_type": "stream",
     "text": [
      "100%|██████████| 238/238 [00:21<00:00, 11.13it/s]\n",
      "100%|██████████| 85/85 [00:01<00:00, 77.06it/s]\n",
      "100%|██████████| 17/17 [00:00<00:00, 76.18it/s]\n"
     ]
    },
    {
     "name": "stdout",
     "output_type": "stream",
     "text": [
      "Epoch:293/500.. Train Loss: 0.313.. Val Loss: 1.125.. Test Loss: 0.183.. Time: 0.38m\n"
     ]
    },
    {
     "name": "stderr",
     "output_type": "stream",
     "text": [
      "100%|██████████| 238/238 [00:20<00:00, 11.46it/s]\n",
      "100%|██████████| 85/85 [00:01<00:00, 77.02it/s]\n",
      "100%|██████████| 17/17 [00:00<00:00, 76.54it/s]\n"
     ]
    },
    {
     "name": "stdout",
     "output_type": "stream",
     "text": [
      "Epoch:294/500.. Train Loss: 0.308.. Val Loss: 1.118.. Test Loss: 0.186.. Time: 0.37m\n"
     ]
    },
    {
     "name": "stderr",
     "output_type": "stream",
     "text": [
      "100%|██████████| 238/238 [00:21<00:00, 10.93it/s]\n",
      "100%|██████████| 85/85 [00:01<00:00, 76.65it/s]\n",
      "100%|██████████| 17/17 [00:00<00:00, 76.24it/s]\n"
     ]
    },
    {
     "name": "stdout",
     "output_type": "stream",
     "text": [
      "Epoch:295/500.. Train Loss: 0.315.. Val Loss: 1.120.. Test Loss: 0.190.. Time: 0.39m\n"
     ]
    },
    {
     "name": "stderr",
     "output_type": "stream",
     "text": [
      "100%|██████████| 238/238 [00:21<00:00, 10.89it/s]\n",
      "100%|██████████| 85/85 [00:01<00:00, 77.37it/s]\n",
      "100%|██████████| 17/17 [00:00<00:00, 75.91it/s]\n"
     ]
    },
    {
     "name": "stdout",
     "output_type": "stream",
     "text": [
      "Epoch:296/500.. Train Loss: 0.312.. Val Loss: 1.099.. Test Loss: 0.176.. Time: 0.39m\n"
     ]
    },
    {
     "name": "stderr",
     "output_type": "stream",
     "text": [
      "100%|██████████| 238/238 [00:21<00:00, 10.90it/s]\n",
      "100%|██████████| 85/85 [00:01<00:00, 76.45it/s]\n",
      "100%|██████████| 17/17 [00:00<00:00, 73.61it/s]\n"
     ]
    },
    {
     "name": "stdout",
     "output_type": "stream",
     "text": [
      "Epoch:297/500.. Train Loss: 0.304.. Val Loss: 1.108.. Test Loss: 0.169.. Time: 0.39m\n"
     ]
    },
    {
     "name": "stderr",
     "output_type": "stream",
     "text": [
      "100%|██████████| 238/238 [00:21<00:00, 10.99it/s]\n",
      "100%|██████████| 85/85 [00:01<00:00, 76.64it/s]\n",
      "100%|██████████| 17/17 [00:00<00:00, 75.64it/s]\n"
     ]
    },
    {
     "name": "stdout",
     "output_type": "stream",
     "text": [
      "Epoch:298/500.. Train Loss: 0.313.. Val Loss: 1.081.. Test Loss: 0.164.. Time: 0.38m\n"
     ]
    },
    {
     "name": "stderr",
     "output_type": "stream",
     "text": [
      "100%|██████████| 238/238 [00:21<00:00, 10.99it/s]\n",
      "100%|██████████| 85/85 [00:01<00:00, 77.23it/s]\n",
      "100%|██████████| 17/17 [00:00<00:00, 76.28it/s]\n"
     ]
    },
    {
     "name": "stdout",
     "output_type": "stream",
     "text": [
      "Epoch:299/500.. Train Loss: 0.306.. Val Loss: 1.101.. Test Loss: 0.190.. Time: 0.38m\n"
     ]
    },
    {
     "name": "stderr",
     "output_type": "stream",
     "text": [
      "100%|██████████| 238/238 [00:21<00:00, 11.02it/s]\n",
      "100%|██████████| 85/85 [00:01<00:00, 77.50it/s]\n",
      "100%|██████████| 17/17 [00:00<00:00, 77.02it/s]\n"
     ]
    },
    {
     "name": "stdout",
     "output_type": "stream",
     "text": [
      "Epoch:300/500.. Train Loss: 0.307.. Val Loss: 1.116.. Test Loss: 0.176.. Time: 0.38m\n"
     ]
    },
    {
     "name": "stderr",
     "output_type": "stream",
     "text": [
      "100%|██████████| 238/238 [00:21<00:00, 11.02it/s]\n",
      "100%|██████████| 85/85 [00:01<00:00, 75.45it/s]\n",
      "100%|██████████| 17/17 [00:00<00:00, 67.76it/s]\n"
     ]
    },
    {
     "name": "stdout",
     "output_type": "stream",
     "text": [
      "Epoch:301/500.. Train Loss: 0.314.. Val Loss: 1.098.. Test Loss: 0.188.. Time: 0.38m\n"
     ]
    },
    {
     "name": "stderr",
     "output_type": "stream",
     "text": [
      "100%|██████████| 238/238 [00:21<00:00, 11.27it/s]\n",
      "100%|██████████| 85/85 [00:01<00:00, 76.68it/s]\n",
      "100%|██████████| 17/17 [00:00<00:00, 76.15it/s]\n"
     ]
    },
    {
     "name": "stdout",
     "output_type": "stream",
     "text": [
      "Epoch:302/500.. Train Loss: 0.338.. Val Loss: 1.150.. Test Loss: 0.203.. Time: 0.37m\n"
     ]
    },
    {
     "name": "stderr",
     "output_type": "stream",
     "text": [
      "100%|██████████| 238/238 [00:21<00:00, 11.24it/s]\n",
      "100%|██████████| 85/85 [00:01<00:00, 76.52it/s]\n",
      "100%|██████████| 17/17 [00:00<00:00, 76.55it/s]\n"
     ]
    },
    {
     "name": "stdout",
     "output_type": "stream",
     "text": [
      "Epoch:303/500.. Train Loss: 0.315.. Val Loss: 1.088.. Test Loss: 0.139.. Time: 0.38m\n"
     ]
    },
    {
     "name": "stderr",
     "output_type": "stream",
     "text": [
      "100%|██████████| 238/238 [00:21<00:00, 11.31it/s]\n",
      "100%|██████████| 85/85 [00:01<00:00, 76.68it/s]\n",
      "100%|██████████| 17/17 [00:00<00:00, 75.81it/s]\n"
     ]
    },
    {
     "name": "stdout",
     "output_type": "stream",
     "text": [
      "Epoch:304/500.. Train Loss: 0.314.. Val Loss: 1.093.. Test Loss: 0.158.. Time: 0.37m\n"
     ]
    },
    {
     "name": "stderr",
     "output_type": "stream",
     "text": [
      "100%|██████████| 238/238 [00:21<00:00, 11.03it/s]\n",
      "100%|██████████| 85/85 [00:01<00:00, 77.22it/s]\n",
      "100%|██████████| 17/17 [00:00<00:00, 76.86it/s]\n"
     ]
    },
    {
     "name": "stdout",
     "output_type": "stream",
     "text": [
      "Epoch:305/500.. Train Loss: 0.311.. Val Loss: 1.097.. Test Loss: 0.154.. Time: 0.38m\n"
     ]
    },
    {
     "name": "stderr",
     "output_type": "stream",
     "text": [
      "100%|██████████| 238/238 [00:22<00:00, 10.77it/s]\n",
      "100%|██████████| 85/85 [00:01<00:00, 76.89it/s]\n",
      "100%|██████████| 17/17 [00:00<00:00, 77.15it/s]\n"
     ]
    },
    {
     "name": "stdout",
     "output_type": "stream",
     "text": [
      "Epoch:306/500.. Train Loss: 0.310.. Val Loss: 1.109.. Test Loss: 0.191.. Time: 0.39m\n"
     ]
    },
    {
     "name": "stderr",
     "output_type": "stream",
     "text": [
      "100%|██████████| 238/238 [00:21<00:00, 11.02it/s]\n",
      "100%|██████████| 85/85 [00:01<00:00, 77.90it/s]\n",
      "100%|██████████| 17/17 [00:00<00:00, 77.62it/s]\n"
     ]
    },
    {
     "name": "stdout",
     "output_type": "stream",
     "text": [
      "Epoch:307/500.. Train Loss: 0.306.. Val Loss: 1.078.. Test Loss: 0.181.. Time: 0.38m\n"
     ]
    },
    {
     "name": "stderr",
     "output_type": "stream",
     "text": [
      "100%|██████████| 238/238 [00:20<00:00, 11.60it/s]\n",
      "100%|██████████| 85/85 [00:01<00:00, 76.66it/s]\n",
      "100%|██████████| 17/17 [00:00<00:00, 75.67it/s]\n"
     ]
    },
    {
     "name": "stdout",
     "output_type": "stream",
     "text": [
      "Epoch:308/500.. Train Loss: 0.309.. Val Loss: 1.095.. Test Loss: 0.189.. Time: 0.36m\n"
     ]
    },
    {
     "name": "stderr",
     "output_type": "stream",
     "text": [
      "100%|██████████| 238/238 [00:20<00:00, 11.79it/s]\n",
      "100%|██████████| 85/85 [00:01<00:00, 77.60it/s]\n",
      "100%|██████████| 17/17 [00:00<00:00, 73.82it/s]\n"
     ]
    },
    {
     "name": "stdout",
     "output_type": "stream",
     "text": [
      "Epoch:309/500.. Train Loss: 0.313.. Val Loss: 1.069.. Test Loss: 0.148.. Time: 0.36m\n"
     ]
    },
    {
     "name": "stderr",
     "output_type": "stream",
     "text": [
      "100%|██████████| 238/238 [00:21<00:00, 11.04it/s]\n",
      "100%|██████████| 85/85 [00:01<00:00, 76.79it/s]\n",
      "100%|██████████| 17/17 [00:00<00:00, 76.03it/s]\n"
     ]
    },
    {
     "name": "stdout",
     "output_type": "stream",
     "text": [
      "Epoch:310/500.. Train Loss: 0.314.. Val Loss: 1.090.. Test Loss: 0.172.. Time: 0.38m\n"
     ]
    },
    {
     "name": "stderr",
     "output_type": "stream",
     "text": [
      "100%|██████████| 238/238 [00:21<00:00, 11.01it/s]\n",
      "100%|██████████| 85/85 [00:01<00:00, 77.41it/s]\n",
      "100%|██████████| 17/17 [00:00<00:00, 76.57it/s]\n"
     ]
    },
    {
     "name": "stdout",
     "output_type": "stream",
     "text": [
      "Epoch:311/500.. Train Loss: 0.307.. Val Loss: 1.103.. Test Loss: 0.178.. Time: 0.38m\n"
     ]
    },
    {
     "name": "stderr",
     "output_type": "stream",
     "text": [
      "100%|██████████| 238/238 [00:21<00:00, 11.31it/s]\n",
      "100%|██████████| 85/85 [00:01<00:00, 76.42it/s]\n",
      "100%|██████████| 17/17 [00:00<00:00, 76.13it/s]\n"
     ]
    },
    {
     "name": "stdout",
     "output_type": "stream",
     "text": [
      "Epoch:312/500.. Train Loss: 0.311.. Val Loss: 1.123.. Test Loss: 0.204.. Time: 0.37m\n"
     ]
    },
    {
     "name": "stderr",
     "output_type": "stream",
     "text": [
      "100%|██████████| 238/238 [00:20<00:00, 11.53it/s]\n",
      "100%|██████████| 85/85 [00:01<00:00, 76.07it/s]\n",
      "100%|██████████| 17/17 [00:00<00:00, 75.54it/s]\n"
     ]
    },
    {
     "name": "stdout",
     "output_type": "stream",
     "text": [
      "Epoch:313/500.. Train Loss: 0.309.. Val Loss: 1.095.. Test Loss: 0.176.. Time: 0.37m\n"
     ]
    },
    {
     "name": "stderr",
     "output_type": "stream",
     "text": [
      "100%|██████████| 238/238 [00:22<00:00, 10.76it/s]\n",
      "100%|██████████| 85/85 [00:01<00:00, 77.17it/s]\n",
      "100%|██████████| 17/17 [00:00<00:00, 76.28it/s]\n"
     ]
    },
    {
     "name": "stdout",
     "output_type": "stream",
     "text": [
      "Epoch:314/500.. Train Loss: 0.369.. Val Loss: 1.103.. Test Loss: 0.176.. Time: 0.39m\n"
     ]
    },
    {
     "name": "stderr",
     "output_type": "stream",
     "text": [
      "100%|██████████| 238/238 [00:20<00:00, 11.42it/s]\n",
      "100%|██████████| 85/85 [00:01<00:00, 76.42it/s]\n",
      "100%|██████████| 17/17 [00:00<00:00, 75.67it/s]\n"
     ]
    },
    {
     "name": "stdout",
     "output_type": "stream",
     "text": [
      "Epoch:315/500.. Train Loss: 0.302.. Val Loss: 1.071.. Test Loss: 0.153.. Time: 0.37m\n"
     ]
    },
    {
     "name": "stderr",
     "output_type": "stream",
     "text": [
      "100%|██████████| 238/238 [00:21<00:00, 10.95it/s]\n",
      "100%|██████████| 85/85 [00:01<00:00, 75.54it/s]\n",
      "100%|██████████| 17/17 [00:00<00:00, 74.34it/s]\n"
     ]
    },
    {
     "name": "stdout",
     "output_type": "stream",
     "text": [
      "Epoch:316/500.. Train Loss: 0.307.. Val Loss: 1.106.. Test Loss: 0.196.. Time: 0.39m\n"
     ]
    },
    {
     "name": "stderr",
     "output_type": "stream",
     "text": [
      "100%|██████████| 238/238 [00:21<00:00, 11.11it/s]\n",
      "100%|██████████| 85/85 [00:01<00:00, 77.41it/s]\n",
      "100%|██████████| 17/17 [00:00<00:00, 76.67it/s]\n"
     ]
    },
    {
     "name": "stdout",
     "output_type": "stream",
     "text": [
      "Epoch:317/500.. Train Loss: 0.312.. Val Loss: 1.088.. Test Loss: 0.174.. Time: 0.38m\n"
     ]
    },
    {
     "name": "stderr",
     "output_type": "stream",
     "text": [
      "100%|██████████| 238/238 [00:21<00:00, 10.98it/s]\n",
      "100%|██████████| 85/85 [00:01<00:00, 77.06it/s]\n",
      "100%|██████████| 17/17 [00:00<00:00, 76.67it/s]\n"
     ]
    },
    {
     "name": "stdout",
     "output_type": "stream",
     "text": [
      "Epoch:318/500.. Train Loss: 0.308.. Val Loss: 1.114.. Test Loss: 0.186.. Time: 0.38m\n"
     ]
    },
    {
     "name": "stderr",
     "output_type": "stream",
     "text": [
      "100%|██████████| 238/238 [00:21<00:00, 10.93it/s]\n",
      "100%|██████████| 85/85 [00:01<00:00, 76.90it/s]\n",
      "100%|██████████| 17/17 [00:00<00:00, 75.27it/s]\n"
     ]
    },
    {
     "name": "stdout",
     "output_type": "stream",
     "text": [
      "Epoch:319/500.. Train Loss: 0.304.. Val Loss: 1.107.. Test Loss: 0.194.. Time: 0.39m\n"
     ]
    },
    {
     "name": "stderr",
     "output_type": "stream",
     "text": [
      "100%|██████████| 238/238 [00:21<00:00, 11.14it/s]\n",
      "100%|██████████| 85/85 [00:01<00:00, 74.32it/s]\n",
      "100%|██████████| 17/17 [00:00<00:00, 75.10it/s]\n"
     ]
    },
    {
     "name": "stdout",
     "output_type": "stream",
     "text": [
      "Epoch:320/500.. Train Loss: 0.308.. Val Loss: 1.083.. Test Loss: 0.174.. Time: 0.38m\n"
     ]
    },
    {
     "name": "stderr",
     "output_type": "stream",
     "text": [
      "100%|██████████| 238/238 [00:21<00:00, 10.98it/s]\n",
      "100%|██████████| 85/85 [00:01<00:00, 75.71it/s]\n",
      "100%|██████████| 17/17 [00:00<00:00, 76.20it/s]\n"
     ]
    },
    {
     "name": "stdout",
     "output_type": "stream",
     "text": [
      "Epoch:321/500.. Train Loss: 0.309.. Val Loss: 1.121.. Test Loss: 0.190.. Time: 0.38m\n"
     ]
    },
    {
     "name": "stderr",
     "output_type": "stream",
     "text": [
      "100%|██████████| 238/238 [00:18<00:00, 12.76it/s]\n",
      "100%|██████████| 85/85 [00:01<00:00, 76.72it/s]\n",
      "100%|██████████| 17/17 [00:00<00:00, 76.13it/s]\n"
     ]
    },
    {
     "name": "stdout",
     "output_type": "stream",
     "text": [
      "Epoch:322/500.. Train Loss: 0.309.. Val Loss: 1.124.. Test Loss: 0.206.. Time: 0.33m\n"
     ]
    },
    {
     "name": "stderr",
     "output_type": "stream",
     "text": [
      "100%|██████████| 238/238 [00:21<00:00, 11.15it/s]\n",
      "100%|██████████| 85/85 [00:01<00:00, 75.54it/s]\n",
      "100%|██████████| 17/17 [00:00<00:00, 75.27it/s]\n"
     ]
    },
    {
     "name": "stdout",
     "output_type": "stream",
     "text": [
      "Epoch:323/500.. Train Loss: 0.306.. Val Loss: 1.078.. Test Loss: 0.148.. Time: 0.38m\n"
     ]
    },
    {
     "name": "stderr",
     "output_type": "stream",
     "text": [
      "100%|██████████| 238/238 [00:21<00:00, 11.01it/s]\n",
      "100%|██████████| 85/85 [00:01<00:00, 75.91it/s]\n",
      "100%|██████████| 17/17 [00:00<00:00, 76.93it/s]\n"
     ]
    },
    {
     "name": "stdout",
     "output_type": "stream",
     "text": [
      "Epoch:324/500.. Train Loss: 0.305.. Val Loss: 1.098.. Test Loss: 0.177.. Time: 0.38m\n"
     ]
    },
    {
     "name": "stderr",
     "output_type": "stream",
     "text": [
      "100%|██████████| 238/238 [00:21<00:00, 10.88it/s]\n",
      "100%|██████████| 85/85 [00:01<00:00, 77.71it/s]\n",
      "100%|██████████| 17/17 [00:00<00:00, 75.70it/s]\n"
     ]
    },
    {
     "name": "stdout",
     "output_type": "stream",
     "text": [
      "Loss Decreasing.. 1.065 >> 1.057 \n",
      "saving model...\n",
      "Epoch:325/500.. Train Loss: 0.307.. Val Loss: 1.057.. Test Loss: 0.136.. Time: 0.39m\n"
     ]
    },
    {
     "name": "stderr",
     "output_type": "stream",
     "text": [
      "100%|██████████| 238/238 [00:21<00:00, 11.15it/s]\n",
      "100%|██████████| 85/85 [00:01<00:00, 77.76it/s]\n",
      "100%|██████████| 17/17 [00:00<00:00, 74.29it/s]\n"
     ]
    },
    {
     "name": "stdout",
     "output_type": "stream",
     "text": [
      "Epoch:326/500.. Train Loss: 0.306.. Val Loss: 1.086.. Test Loss: 0.173.. Time: 0.38m\n"
     ]
    },
    {
     "name": "stderr",
     "output_type": "stream",
     "text": [
      "100%|██████████| 238/238 [00:19<00:00, 12.12it/s]\n",
      "100%|██████████| 85/85 [00:01<00:00, 76.53it/s]\n",
      "100%|██████████| 17/17 [00:00<00:00, 76.64it/s]\n"
     ]
    },
    {
     "name": "stdout",
     "output_type": "stream",
     "text": [
      "Epoch:327/500.. Train Loss: 0.306.. Val Loss: 1.082.. Test Loss: 0.162.. Time: 0.35m\n"
     ]
    },
    {
     "name": "stderr",
     "output_type": "stream",
     "text": [
      "100%|██████████| 238/238 [00:20<00:00, 11.40it/s]\n",
      "100%|██████████| 85/85 [00:01<00:00, 77.10it/s]\n",
      "100%|██████████| 17/17 [00:00<00:00, 76.12it/s]\n"
     ]
    },
    {
     "name": "stdout",
     "output_type": "stream",
     "text": [
      "Epoch:328/500.. Train Loss: 0.303.. Val Loss: 1.079.. Test Loss: 0.177.. Time: 0.37m\n"
     ]
    },
    {
     "name": "stderr",
     "output_type": "stream",
     "text": [
      "100%|██████████| 238/238 [00:19<00:00, 12.36it/s]\n",
      "100%|██████████| 85/85 [00:01<00:00, 76.49it/s]\n",
      "100%|██████████| 17/17 [00:00<00:00, 75.64it/s]\n"
     ]
    },
    {
     "name": "stdout",
     "output_type": "stream",
     "text": [
      "Epoch:329/500.. Train Loss: 0.305.. Val Loss: 1.091.. Test Loss: 0.182.. Time: 0.34m\n"
     ]
    },
    {
     "name": "stderr",
     "output_type": "stream",
     "text": [
      "100%|██████████| 238/238 [00:21<00:00, 11.20it/s]\n",
      "100%|██████████| 85/85 [00:01<00:00, 77.04it/s]\n",
      "100%|██████████| 17/17 [00:00<00:00, 76.69it/s]\n"
     ]
    },
    {
     "name": "stdout",
     "output_type": "stream",
     "text": [
      "Epoch:330/500.. Train Loss: 0.297.. Val Loss: 1.101.. Test Loss: 0.198.. Time: 0.38m\n"
     ]
    },
    {
     "name": "stderr",
     "output_type": "stream",
     "text": [
      "100%|██████████| 238/238 [00:18<00:00, 12.60it/s]\n",
      "100%|██████████| 85/85 [00:01<00:00, 77.20it/s]\n",
      "100%|██████████| 17/17 [00:00<00:00, 77.03it/s]\n"
     ]
    },
    {
     "name": "stdout",
     "output_type": "stream",
     "text": [
      "Epoch:331/500.. Train Loss: 0.307.. Val Loss: 1.082.. Test Loss: 0.184.. Time: 0.34m\n"
     ]
    },
    {
     "name": "stderr",
     "output_type": "stream",
     "text": [
      "100%|██████████| 238/238 [00:20<00:00, 11.76it/s]\n",
      "100%|██████████| 85/85 [00:01<00:00, 76.39it/s]\n",
      "100%|██████████| 17/17 [00:00<00:00, 76.10it/s]\n"
     ]
    },
    {
     "name": "stdout",
     "output_type": "stream",
     "text": [
      "Epoch:332/500.. Train Loss: 0.302.. Val Loss: 1.106.. Test Loss: 0.193.. Time: 0.36m\n"
     ]
    },
    {
     "name": "stderr",
     "output_type": "stream",
     "text": [
      "100%|██████████| 238/238 [00:21<00:00, 10.95it/s]\n",
      "100%|██████████| 85/85 [00:01<00:00, 76.70it/s]\n",
      "100%|██████████| 17/17 [00:00<00:00, 76.38it/s]\n"
     ]
    },
    {
     "name": "stdout",
     "output_type": "stream",
     "text": [
      "Epoch:333/500.. Train Loss: 0.305.. Val Loss: 1.079.. Test Loss: 0.151.. Time: 0.38m\n"
     ]
    },
    {
     "name": "stderr",
     "output_type": "stream",
     "text": [
      "100%|██████████| 238/238 [00:21<00:00, 11.24it/s]\n",
      "100%|██████████| 85/85 [00:01<00:00, 74.58it/s]\n",
      "100%|██████████| 17/17 [00:00<00:00, 75.53it/s]\n"
     ]
    },
    {
     "name": "stdout",
     "output_type": "stream",
     "text": [
      "Epoch:334/500.. Train Loss: 0.304.. Val Loss: 1.071.. Test Loss: 0.155.. Time: 0.38m\n"
     ]
    },
    {
     "name": "stderr",
     "output_type": "stream",
     "text": [
      "100%|██████████| 238/238 [00:21<00:00, 10.88it/s]\n",
      "100%|██████████| 85/85 [00:01<00:00, 76.34it/s]\n",
      "100%|██████████| 17/17 [00:00<00:00, 73.96it/s]\n"
     ]
    },
    {
     "name": "stdout",
     "output_type": "stream",
     "text": [
      "Epoch:335/500.. Train Loss: 0.300.. Val Loss: 1.066.. Test Loss: 0.159.. Time: 0.39m\n"
     ]
    },
    {
     "name": "stderr",
     "output_type": "stream",
     "text": [
      "100%|██████████| 238/238 [00:21<00:00, 11.24it/s]\n",
      "100%|██████████| 85/85 [00:01<00:00, 75.09it/s]\n",
      "100%|██████████| 17/17 [00:00<00:00, 76.58it/s]\n"
     ]
    },
    {
     "name": "stdout",
     "output_type": "stream",
     "text": [
      "Epoch:336/500.. Train Loss: 0.307.. Val Loss: 1.101.. Test Loss: 0.190.. Time: 0.38m\n"
     ]
    },
    {
     "name": "stderr",
     "output_type": "stream",
     "text": [
      "100%|██████████| 238/238 [00:21<00:00, 11.00it/s]\n",
      "100%|██████████| 85/85 [00:01<00:00, 77.19it/s]\n",
      "100%|██████████| 17/17 [00:00<00:00, 75.96it/s]\n"
     ]
    },
    {
     "name": "stdout",
     "output_type": "stream",
     "text": [
      "Epoch:337/500.. Train Loss: 0.303.. Val Loss: 1.085.. Test Loss: 0.168.. Time: 0.38m\n"
     ]
    },
    {
     "name": "stderr",
     "output_type": "stream",
     "text": [
      "100%|██████████| 238/238 [00:21<00:00, 11.08it/s]\n",
      "100%|██████████| 85/85 [00:01<00:00, 76.88it/s]\n",
      "100%|██████████| 17/17 [00:00<00:00, 76.47it/s]\n"
     ]
    },
    {
     "name": "stdout",
     "output_type": "stream",
     "text": [
      "Epoch:338/500.. Train Loss: 0.302.. Val Loss: 1.069.. Test Loss: 0.150.. Time: 0.38m\n"
     ]
    },
    {
     "name": "stderr",
     "output_type": "stream",
     "text": [
      "100%|██████████| 238/238 [00:21<00:00, 11.02it/s]\n",
      "100%|██████████| 85/85 [00:01<00:00, 77.22it/s]\n",
      "100%|██████████| 17/17 [00:00<00:00, 77.15it/s]\n"
     ]
    },
    {
     "name": "stdout",
     "output_type": "stream",
     "text": [
      "Epoch:339/500.. Train Loss: 0.310.. Val Loss: 1.129.. Test Loss: 0.183.. Time: 0.38m\n"
     ]
    },
    {
     "name": "stderr",
     "output_type": "stream",
     "text": [
      "100%|██████████| 238/238 [00:21<00:00, 11.05it/s]\n",
      "100%|██████████| 85/85 [00:01<00:00, 76.21it/s]\n",
      "100%|██████████| 17/17 [00:00<00:00, 76.84it/s]\n"
     ]
    },
    {
     "name": "stdout",
     "output_type": "stream",
     "text": [
      "Epoch:340/500.. Train Loss: 0.301.. Val Loss: 1.095.. Test Loss: 0.188.. Time: 0.38m\n"
     ]
    },
    {
     "name": "stderr",
     "output_type": "stream",
     "text": [
      "100%|██████████| 238/238 [00:21<00:00, 11.06it/s]\n",
      "100%|██████████| 85/85 [00:01<00:00, 77.39it/s]\n",
      "100%|██████████| 17/17 [00:00<00:00, 75.55it/s]\n"
     ]
    },
    {
     "name": "stdout",
     "output_type": "stream",
     "text": [
      "Epoch:341/500.. Train Loss: 0.301.. Val Loss: 1.110.. Test Loss: 0.186.. Time: 0.38m\n"
     ]
    },
    {
     "name": "stderr",
     "output_type": "stream",
     "text": [
      "100%|██████████| 238/238 [00:21<00:00, 11.05it/s]\n",
      "100%|██████████| 85/85 [00:01<00:00, 77.07it/s]\n",
      "100%|██████████| 17/17 [00:00<00:00, 75.67it/s]\n"
     ]
    },
    {
     "name": "stdout",
     "output_type": "stream",
     "text": [
      "Epoch:342/500.. Train Loss: 0.308.. Val Loss: 1.100.. Test Loss: 0.180.. Time: 0.38m\n"
     ]
    },
    {
     "name": "stderr",
     "output_type": "stream",
     "text": [
      "100%|██████████| 238/238 [00:21<00:00, 10.97it/s]\n",
      "100%|██████████| 85/85 [00:01<00:00, 77.42it/s]\n",
      "100%|██████████| 17/17 [00:00<00:00, 76.94it/s]\n"
     ]
    },
    {
     "name": "stdout",
     "output_type": "stream",
     "text": [
      "Epoch:343/500.. Train Loss: 0.301.. Val Loss: 1.092.. Test Loss: 0.170.. Time: 0.38m\n"
     ]
    },
    {
     "name": "stderr",
     "output_type": "stream",
     "text": [
      "100%|██████████| 238/238 [00:21<00:00, 10.90it/s]\n",
      "100%|██████████| 85/85 [00:01<00:00, 74.81it/s]\n",
      "100%|██████████| 17/17 [00:00<00:00, 76.12it/s]\n"
     ]
    },
    {
     "name": "stdout",
     "output_type": "stream",
     "text": [
      "Epoch:344/500.. Train Loss: 0.306.. Val Loss: 1.113.. Test Loss: 0.191.. Time: 0.39m\n"
     ]
    },
    {
     "name": "stderr",
     "output_type": "stream",
     "text": [
      "100%|██████████| 238/238 [00:21<00:00, 11.09it/s]\n",
      "100%|██████████| 85/85 [00:01<00:00, 76.47it/s]\n",
      "100%|██████████| 17/17 [00:00<00:00, 76.46it/s]\n"
     ]
    },
    {
     "name": "stdout",
     "output_type": "stream",
     "text": [
      "Epoch:345/500.. Train Loss: 0.306.. Val Loss: 1.086.. Test Loss: 0.184.. Time: 0.38m\n"
     ]
    },
    {
     "name": "stderr",
     "output_type": "stream",
     "text": [
      "100%|██████████| 238/238 [00:19<00:00, 12.29it/s]\n",
      "100%|██████████| 85/85 [00:01<00:00, 76.05it/s]\n",
      "100%|██████████| 17/17 [00:00<00:00, 76.31it/s]\n"
     ]
    },
    {
     "name": "stdout",
     "output_type": "stream",
     "text": [
      "Epoch:346/500.. Train Loss: 0.303.. Val Loss: 1.112.. Test Loss: 0.180.. Time: 0.35m\n"
     ]
    },
    {
     "name": "stderr",
     "output_type": "stream",
     "text": [
      "100%|██████████| 238/238 [00:18<00:00, 12.65it/s]\n",
      "100%|██████████| 85/85 [00:01<00:00, 77.58it/s]\n",
      "100%|██████████| 17/17 [00:00<00:00, 76.82it/s]\n"
     ]
    },
    {
     "name": "stdout",
     "output_type": "stream",
     "text": [
      "Epoch:347/500.. Train Loss: 0.306.. Val Loss: 1.089.. Test Loss: 0.182.. Time: 0.34m\n"
     ]
    },
    {
     "name": "stderr",
     "output_type": "stream",
     "text": [
      "100%|██████████| 238/238 [00:21<00:00, 11.15it/s]\n",
      "100%|██████████| 85/85 [00:01<00:00, 77.54it/s]\n",
      "100%|██████████| 17/17 [00:00<00:00, 74.53it/s]\n"
     ]
    },
    {
     "name": "stdout",
     "output_type": "stream",
     "text": [
      "Loss Decreasing.. 1.057 >> 1.053 \n",
      "saving model...\n",
      "Epoch:348/500.. Train Loss: 0.302.. Val Loss: 1.053.. Test Loss: 0.155.. Time: 0.38m\n"
     ]
    },
    {
     "name": "stderr",
     "output_type": "stream",
     "text": [
      "100%|██████████| 238/238 [00:21<00:00, 11.32it/s]\n",
      "100%|██████████| 85/85 [00:01<00:00, 77.51it/s]\n",
      "100%|██████████| 17/17 [00:00<00:00, 76.65it/s]\n"
     ]
    },
    {
     "name": "stdout",
     "output_type": "stream",
     "text": [
      "Epoch:349/500.. Train Loss: 0.296.. Val Loss: 1.084.. Test Loss: 0.167.. Time: 0.37m\n"
     ]
    },
    {
     "name": "stderr",
     "output_type": "stream",
     "text": [
      "100%|██████████| 238/238 [00:21<00:00, 11.02it/s]\n",
      "100%|██████████| 85/85 [00:01<00:00, 66.78it/s]\n",
      "100%|██████████| 17/17 [00:00<00:00, 72.73it/s]\n"
     ]
    },
    {
     "name": "stdout",
     "output_type": "stream",
     "text": [
      "Epoch:350/500.. Train Loss: 0.307.. Val Loss: 1.079.. Test Loss: 0.170.. Time: 0.39m\n"
     ]
    },
    {
     "name": "stderr",
     "output_type": "stream",
     "text": [
      "100%|██████████| 238/238 [00:21<00:00, 11.29it/s]\n",
      "100%|██████████| 85/85 [00:01<00:00, 76.60it/s]\n",
      "100%|██████████| 17/17 [00:00<00:00, 74.86it/s]\n"
     ]
    },
    {
     "name": "stdout",
     "output_type": "stream",
     "text": [
      "Epoch:351/500.. Train Loss: 0.306.. Val Loss: 1.053.. Test Loss: 0.149.. Time: 0.37m\n"
     ]
    },
    {
     "name": "stderr",
     "output_type": "stream",
     "text": [
      "100%|██████████| 238/238 [00:21<00:00, 11.03it/s]\n",
      "100%|██████████| 85/85 [00:01<00:00, 76.59it/s]\n",
      "100%|██████████| 17/17 [00:00<00:00, 76.27it/s]\n"
     ]
    },
    {
     "name": "stdout",
     "output_type": "stream",
     "text": [
      "Epoch:352/500.. Train Loss: 0.300.. Val Loss: 1.067.. Test Loss: 0.162.. Time: 0.38m\n"
     ]
    },
    {
     "name": "stderr",
     "output_type": "stream",
     "text": [
      "100%|██████████| 238/238 [00:21<00:00, 11.26it/s]\n",
      "100%|██████████| 85/85 [00:01<00:00, 71.59it/s]\n",
      "100%|██████████| 17/17 [00:00<00:00, 76.00it/s]\n"
     ]
    },
    {
     "name": "stdout",
     "output_type": "stream",
     "text": [
      "Epoch:353/500.. Train Loss: 0.301.. Val Loss: 1.076.. Test Loss: 0.184.. Time: 0.38m\n"
     ]
    },
    {
     "name": "stderr",
     "output_type": "stream",
     "text": [
      "100%|██████████| 238/238 [00:21<00:00, 11.03it/s]\n",
      "100%|██████████| 85/85 [00:01<00:00, 76.81it/s]\n",
      "100%|██████████| 17/17 [00:00<00:00, 75.13it/s]\n"
     ]
    },
    {
     "name": "stdout",
     "output_type": "stream",
     "text": [
      "Epoch:354/500.. Train Loss: 0.302.. Val Loss: 1.083.. Test Loss: 0.165.. Time: 0.38m\n"
     ]
    },
    {
     "name": "stderr",
     "output_type": "stream",
     "text": [
      "100%|██████████| 238/238 [00:21<00:00, 11.26it/s]\n",
      "100%|██████████| 85/85 [00:01<00:00, 77.21it/s]\n",
      "100%|██████████| 17/17 [00:00<00:00, 76.46it/s]\n"
     ]
    },
    {
     "name": "stdout",
     "output_type": "stream",
     "text": [
      "Epoch:355/500.. Train Loss: 0.301.. Val Loss: 1.085.. Test Loss: 0.166.. Time: 0.37m\n"
     ]
    },
    {
     "name": "stderr",
     "output_type": "stream",
     "text": [
      "100%|██████████| 238/238 [00:21<00:00, 11.10it/s]\n",
      "100%|██████████| 85/85 [00:01<00:00, 75.76it/s]\n",
      "100%|██████████| 17/17 [00:00<00:00, 72.75it/s]\n"
     ]
    },
    {
     "name": "stdout",
     "output_type": "stream",
     "text": [
      "Epoch:356/500.. Train Loss: 0.299.. Val Loss: 1.094.. Test Loss: 0.189.. Time: 0.38m\n"
     ]
    },
    {
     "name": "stderr",
     "output_type": "stream",
     "text": [
      "100%|██████████| 238/238 [00:21<00:00, 10.94it/s]\n",
      "100%|██████████| 85/85 [00:01<00:00, 77.05it/s]\n",
      "100%|██████████| 17/17 [00:00<00:00, 77.09it/s]\n"
     ]
    },
    {
     "name": "stdout",
     "output_type": "stream",
     "text": [
      "Epoch:357/500.. Train Loss: 0.311.. Val Loss: 1.101.. Test Loss: 0.190.. Time: 0.38m\n"
     ]
    },
    {
     "name": "stderr",
     "output_type": "stream",
     "text": [
      "100%|██████████| 238/238 [00:21<00:00, 10.91it/s]\n",
      "100%|██████████| 85/85 [00:01<00:00, 76.68it/s]\n",
      "100%|██████████| 17/17 [00:00<00:00, 77.67it/s]\n"
     ]
    },
    {
     "name": "stdout",
     "output_type": "stream",
     "text": [
      "Epoch:358/500.. Train Loss: 0.295.. Val Loss: 1.082.. Test Loss: 0.174.. Time: 0.39m\n"
     ]
    },
    {
     "name": "stderr",
     "output_type": "stream",
     "text": [
      "100%|██████████| 238/238 [00:20<00:00, 11.71it/s]\n",
      "100%|██████████| 85/85 [00:01<00:00, 76.99it/s]\n",
      "100%|██████████| 17/17 [00:00<00:00, 75.91it/s]\n"
     ]
    },
    {
     "name": "stdout",
     "output_type": "stream",
     "text": [
      "Epoch:359/500.. Train Loss: 0.300.. Val Loss: 1.090.. Test Loss: 0.175.. Time: 0.36m\n"
     ]
    },
    {
     "name": "stderr",
     "output_type": "stream",
     "text": [
      "100%|██████████| 238/238 [00:21<00:00, 10.88it/s]\n",
      "100%|██████████| 85/85 [00:01<00:00, 74.85it/s]\n",
      "100%|██████████| 17/17 [00:00<00:00, 73.35it/s]\n"
     ]
    },
    {
     "name": "stdout",
     "output_type": "stream",
     "text": [
      "Epoch:360/500.. Train Loss: 0.306.. Val Loss: 1.088.. Test Loss: 0.176.. Time: 0.39m\n"
     ]
    },
    {
     "name": "stderr",
     "output_type": "stream",
     "text": [
      "100%|██████████| 238/238 [00:21<00:00, 11.17it/s]\n",
      "100%|██████████| 85/85 [00:01<00:00, 77.71it/s]\n",
      "100%|██████████| 17/17 [00:00<00:00, 78.27it/s]\n"
     ]
    },
    {
     "name": "stdout",
     "output_type": "stream",
     "text": [
      "Epoch:361/500.. Train Loss: 0.296.. Val Loss: 1.096.. Test Loss: 0.176.. Time: 0.38m\n"
     ]
    },
    {
     "name": "stderr",
     "output_type": "stream",
     "text": [
      "100%|██████████| 238/238 [00:21<00:00, 11.02it/s]\n",
      "100%|██████████| 85/85 [00:01<00:00, 76.43it/s]\n",
      "100%|██████████| 17/17 [00:00<00:00, 76.44it/s]\n"
     ]
    },
    {
     "name": "stdout",
     "output_type": "stream",
     "text": [
      "Epoch:362/500.. Train Loss: 0.296.. Val Loss: 1.087.. Test Loss: 0.178.. Time: 0.38m\n"
     ]
    },
    {
     "name": "stderr",
     "output_type": "stream",
     "text": [
      "100%|██████████| 238/238 [00:22<00:00, 10.80it/s]\n",
      "100%|██████████| 85/85 [00:01<00:00, 77.10it/s]\n",
      "100%|██████████| 17/17 [00:00<00:00, 76.84it/s]\n"
     ]
    },
    {
     "name": "stdout",
     "output_type": "stream",
     "text": [
      "Epoch:363/500.. Train Loss: 0.301.. Val Loss: 1.100.. Test Loss: 0.194.. Time: 0.39m\n"
     ]
    },
    {
     "name": "stderr",
     "output_type": "stream",
     "text": [
      "100%|██████████| 238/238 [00:21<00:00, 10.98it/s]\n",
      "100%|██████████| 85/85 [00:01<00:00, 76.16it/s]\n",
      "100%|██████████| 17/17 [00:00<00:00, 75.09it/s]\n"
     ]
    },
    {
     "name": "stdout",
     "output_type": "stream",
     "text": [
      "Epoch:364/500.. Train Loss: 0.303.. Val Loss: 1.094.. Test Loss: 0.178.. Time: 0.38m\n"
     ]
    },
    {
     "name": "stderr",
     "output_type": "stream",
     "text": [
      "100%|██████████| 238/238 [00:21<00:00, 10.91it/s]\n",
      "100%|██████████| 85/85 [00:01<00:00, 77.33it/s]\n",
      "100%|██████████| 17/17 [00:00<00:00, 76.40it/s]\n"
     ]
    },
    {
     "name": "stdout",
     "output_type": "stream",
     "text": [
      "Epoch:365/500.. Train Loss: 0.295.. Val Loss: 1.090.. Test Loss: 0.176.. Time: 0.39m\n"
     ]
    },
    {
     "name": "stderr",
     "output_type": "stream",
     "text": [
      "100%|██████████| 238/238 [00:21<00:00, 11.23it/s]\n",
      "100%|██████████| 85/85 [00:01<00:00, 75.52it/s]\n",
      "100%|██████████| 17/17 [00:00<00:00, 74.99it/s]\n"
     ]
    },
    {
     "name": "stdout",
     "output_type": "stream",
     "text": [
      "Epoch:366/500.. Train Loss: 0.300.. Val Loss: 1.094.. Test Loss: 0.185.. Time: 0.38m\n"
     ]
    },
    {
     "name": "stderr",
     "output_type": "stream",
     "text": [
      "100%|██████████| 238/238 [00:21<00:00, 11.24it/s]\n",
      "100%|██████████| 85/85 [00:01<00:00, 75.72it/s]\n",
      "100%|██████████| 17/17 [00:00<00:00, 76.34it/s]\n"
     ]
    },
    {
     "name": "stdout",
     "output_type": "stream",
     "text": [
      "Epoch:367/500.. Train Loss: 0.297.. Val Loss: 1.073.. Test Loss: 0.175.. Time: 0.38m\n"
     ]
    },
    {
     "name": "stderr",
     "output_type": "stream",
     "text": [
      "100%|██████████| 238/238 [00:21<00:00, 11.12it/s]\n",
      "100%|██████████| 85/85 [00:01<00:00, 77.73it/s]\n",
      "100%|██████████| 17/17 [00:00<00:00, 72.59it/s]\n"
     ]
    },
    {
     "name": "stdout",
     "output_type": "stream",
     "text": [
      "Epoch:368/500.. Train Loss: 0.298.. Val Loss: 1.068.. Test Loss: 0.170.. Time: 0.38m\n"
     ]
    },
    {
     "name": "stderr",
     "output_type": "stream",
     "text": [
      "100%|██████████| 238/238 [00:21<00:00, 11.15it/s]\n",
      "100%|██████████| 85/85 [00:01<00:00, 77.16it/s]\n",
      "100%|██████████| 17/17 [00:00<00:00, 76.51it/s]\n"
     ]
    },
    {
     "name": "stdout",
     "output_type": "stream",
     "text": [
      "Epoch:369/500.. Train Loss: 0.296.. Val Loss: 1.070.. Test Loss: 0.176.. Time: 0.38m\n"
     ]
    },
    {
     "name": "stderr",
     "output_type": "stream",
     "text": [
      "100%|██████████| 238/238 [00:21<00:00, 11.09it/s]\n",
      "100%|██████████| 85/85 [00:01<00:00, 76.50it/s]\n",
      "100%|██████████| 17/17 [00:00<00:00, 76.39it/s]\n"
     ]
    },
    {
     "name": "stdout",
     "output_type": "stream",
     "text": [
      "Loss Decreasing.. 1.053 >> 1.051 \n",
      "saving model...\n",
      "Epoch:370/500.. Train Loss: 0.297.. Val Loss: 1.051.. Test Loss: 0.148.. Time: 0.38m\n"
     ]
    },
    {
     "name": "stderr",
     "output_type": "stream",
     "text": [
      "100%|██████████| 238/238 [00:21<00:00, 10.91it/s]\n",
      "100%|██████████| 85/85 [00:01<00:00, 77.47it/s]\n",
      "100%|██████████| 17/17 [00:00<00:00, 76.24it/s]\n"
     ]
    },
    {
     "name": "stdout",
     "output_type": "stream",
     "text": [
      "Epoch:371/500.. Train Loss: 0.299.. Val Loss: 1.085.. Test Loss: 0.189.. Time: 0.39m\n"
     ]
    },
    {
     "name": "stderr",
     "output_type": "stream",
     "text": [
      "100%|██████████| 238/238 [00:21<00:00, 11.16it/s]\n",
      "100%|██████████| 85/85 [00:01<00:00, 77.37it/s]\n",
      "100%|██████████| 17/17 [00:00<00:00, 76.16it/s]\n"
     ]
    },
    {
     "name": "stdout",
     "output_type": "stream",
     "text": [
      "Epoch:372/500.. Train Loss: 0.299.. Val Loss: 1.065.. Test Loss: 0.169.. Time: 0.38m\n"
     ]
    },
    {
     "name": "stderr",
     "output_type": "stream",
     "text": [
      "100%|██████████| 238/238 [00:20<00:00, 11.66it/s]\n",
      "100%|██████████| 85/85 [00:01<00:00, 77.09it/s]\n",
      "100%|██████████| 17/17 [00:00<00:00, 76.02it/s]\n"
     ]
    },
    {
     "name": "stdout",
     "output_type": "stream",
     "text": [
      "Epoch:373/500.. Train Loss: 0.295.. Val Loss: 1.074.. Test Loss: 0.180.. Time: 0.36m\n"
     ]
    },
    {
     "name": "stderr",
     "output_type": "stream",
     "text": [
      "100%|██████████| 238/238 [00:21<00:00, 10.95it/s]\n",
      "100%|██████████| 85/85 [00:01<00:00, 77.74it/s]\n",
      "100%|██████████| 17/17 [00:00<00:00, 77.07it/s]\n"
     ]
    },
    {
     "name": "stdout",
     "output_type": "stream",
     "text": [
      "Epoch:374/500.. Train Loss: 0.303.. Val Loss: 1.080.. Test Loss: 0.176.. Time: 0.38m\n"
     ]
    },
    {
     "name": "stderr",
     "output_type": "stream",
     "text": [
      "100%|██████████| 238/238 [00:21<00:00, 11.16it/s]\n",
      "100%|██████████| 85/85 [00:01<00:00, 77.17it/s]\n",
      "100%|██████████| 17/17 [00:00<00:00, 75.73it/s]\n"
     ]
    },
    {
     "name": "stdout",
     "output_type": "stream",
     "text": [
      "Epoch:375/500.. Train Loss: 0.294.. Val Loss: 1.096.. Test Loss: 0.183.. Time: 0.38m\n"
     ]
    },
    {
     "name": "stderr",
     "output_type": "stream",
     "text": [
      "100%|██████████| 238/238 [00:21<00:00, 11.07it/s]\n",
      "100%|██████████| 85/85 [00:01<00:00, 77.34it/s]\n",
      "100%|██████████| 17/17 [00:00<00:00, 64.70it/s]\n"
     ]
    },
    {
     "name": "stdout",
     "output_type": "stream",
     "text": [
      "Epoch:376/500.. Train Loss: 0.298.. Val Loss: 1.090.. Test Loss: 0.181.. Time: 0.38m\n"
     ]
    },
    {
     "name": "stderr",
     "output_type": "stream",
     "text": [
      "100%|██████████| 238/238 [00:21<00:00, 11.26it/s]\n",
      "100%|██████████| 85/85 [00:01<00:00, 76.85it/s]\n",
      "100%|██████████| 17/17 [00:00<00:00, 72.09it/s]\n"
     ]
    },
    {
     "name": "stdout",
     "output_type": "stream",
     "text": [
      "Epoch:377/500.. Train Loss: 0.297.. Val Loss: 1.080.. Test Loss: 0.179.. Time: 0.37m\n"
     ]
    },
    {
     "name": "stderr",
     "output_type": "stream",
     "text": [
      "100%|██████████| 238/238 [00:21<00:00, 11.20it/s]\n",
      "100%|██████████| 85/85 [00:01<00:00, 76.88it/s]\n",
      "100%|██████████| 17/17 [00:00<00:00, 75.63it/s]\n"
     ]
    },
    {
     "name": "stdout",
     "output_type": "stream",
     "text": [
      "Epoch:378/500.. Train Loss: 0.297.. Val Loss: 1.076.. Test Loss: 0.178.. Time: 0.38m\n"
     ]
    },
    {
     "name": "stderr",
     "output_type": "stream",
     "text": [
      "100%|██████████| 238/238 [00:22<00:00, 10.80it/s]\n",
      "100%|██████████| 85/85 [00:01<00:00, 77.03it/s]\n",
      "100%|██████████| 17/17 [00:00<00:00, 75.98it/s]\n"
     ]
    },
    {
     "name": "stdout",
     "output_type": "stream",
     "text": [
      "Epoch:379/500.. Train Loss: 0.292.. Val Loss: 1.063.. Test Loss: 0.176.. Time: 0.39m\n"
     ]
    },
    {
     "name": "stderr",
     "output_type": "stream",
     "text": [
      "100%|██████████| 238/238 [00:21<00:00, 10.99it/s]\n",
      "100%|██████████| 85/85 [00:01<00:00, 77.60it/s]\n",
      "100%|██████████| 17/17 [00:00<00:00, 73.71it/s]\n"
     ]
    },
    {
     "name": "stdout",
     "output_type": "stream",
     "text": [
      "Epoch:380/500.. Train Loss: 0.296.. Val Loss: 1.077.. Test Loss: 0.177.. Time: 0.38m\n"
     ]
    },
    {
     "name": "stderr",
     "output_type": "stream",
     "text": [
      "100%|██████████| 238/238 [00:21<00:00, 11.19it/s]\n",
      "100%|██████████| 85/85 [00:01<00:00, 77.87it/s]\n",
      "100%|██████████| 17/17 [00:00<00:00, 77.68it/s]\n"
     ]
    },
    {
     "name": "stdout",
     "output_type": "stream",
     "text": [
      "Epoch:381/500.. Train Loss: 0.296.. Val Loss: 1.090.. Test Loss: 0.183.. Time: 0.38m\n"
     ]
    },
    {
     "name": "stderr",
     "output_type": "stream",
     "text": [
      "100%|██████████| 238/238 [00:21<00:00, 11.05it/s]\n",
      "100%|██████████| 85/85 [00:01<00:00, 76.54it/s]\n",
      "100%|██████████| 17/17 [00:00<00:00, 76.56it/s]\n"
     ]
    },
    {
     "name": "stdout",
     "output_type": "stream",
     "text": [
      "Epoch:382/500.. Train Loss: 0.297.. Val Loss: 1.055.. Test Loss: 0.165.. Time: 0.38m\n"
     ]
    },
    {
     "name": "stderr",
     "output_type": "stream",
     "text": [
      "100%|██████████| 238/238 [00:21<00:00, 11.02it/s]\n",
      "100%|██████████| 85/85 [00:01<00:00, 75.76it/s]\n",
      "100%|██████████| 17/17 [00:00<00:00, 75.66it/s]\n"
     ]
    },
    {
     "name": "stdout",
     "output_type": "stream",
     "text": [
      "Epoch:383/500.. Train Loss: 0.295.. Val Loss: 1.071.. Test Loss: 0.188.. Time: 0.38m\n"
     ]
    },
    {
     "name": "stderr",
     "output_type": "stream",
     "text": [
      "100%|██████████| 238/238 [00:21<00:00, 10.92it/s]\n",
      "100%|██████████| 85/85 [00:01<00:00, 73.33it/s]\n",
      "100%|██████████| 17/17 [00:00<00:00, 76.15it/s]\n"
     ]
    },
    {
     "name": "stdout",
     "output_type": "stream",
     "text": [
      "Epoch:384/500.. Train Loss: 0.321.. Val Loss: 1.079.. Test Loss: 0.189.. Time: 0.39m\n"
     ]
    },
    {
     "name": "stderr",
     "output_type": "stream",
     "text": [
      "100%|██████████| 238/238 [00:21<00:00, 11.03it/s]\n",
      "100%|██████████| 85/85 [00:01<00:00, 76.51it/s]\n",
      "100%|██████████| 17/17 [00:00<00:00, 73.06it/s]\n"
     ]
    },
    {
     "name": "stdout",
     "output_type": "stream",
     "text": [
      "Loss Decreasing.. 1.051 >> 1.049 \n",
      "saving model...\n",
      "Epoch:385/500.. Train Loss: 0.298.. Val Loss: 1.049.. Test Loss: 0.147.. Time: 0.38m\n"
     ]
    },
    {
     "name": "stderr",
     "output_type": "stream",
     "text": [
      "100%|██████████| 238/238 [00:21<00:00, 11.31it/s]\n",
      "100%|██████████| 85/85 [00:01<00:00, 76.22it/s]\n",
      "100%|██████████| 17/17 [00:00<00:00, 75.83it/s]\n"
     ]
    },
    {
     "name": "stdout",
     "output_type": "stream",
     "text": [
      "Epoch:386/500.. Train Loss: 0.295.. Val Loss: 1.060.. Test Loss: 0.172.. Time: 0.37m\n"
     ]
    },
    {
     "name": "stderr",
     "output_type": "stream",
     "text": [
      "100%|██████████| 238/238 [00:21<00:00, 11.09it/s]\n",
      "100%|██████████| 85/85 [00:01<00:00, 76.53it/s]\n",
      "100%|██████████| 17/17 [00:00<00:00, 73.80it/s]\n"
     ]
    },
    {
     "name": "stdout",
     "output_type": "stream",
     "text": [
      "Epoch:387/500.. Train Loss: 0.295.. Val Loss: 1.053.. Test Loss: 0.165.. Time: 0.38m\n"
     ]
    },
    {
     "name": "stderr",
     "output_type": "stream",
     "text": [
      "100%|██████████| 238/238 [00:21<00:00, 11.11it/s]\n",
      "100%|██████████| 85/85 [00:01<00:00, 75.80it/s]\n",
      "100%|██████████| 17/17 [00:00<00:00, 75.52it/s]\n"
     ]
    },
    {
     "name": "stdout",
     "output_type": "stream",
     "text": [
      "Epoch:388/500.. Train Loss: 0.298.. Val Loss: 1.068.. Test Loss: 0.173.. Time: 0.38m\n"
     ]
    },
    {
     "name": "stderr",
     "output_type": "stream",
     "text": [
      "100%|██████████| 238/238 [00:21<00:00, 10.85it/s]\n",
      "100%|██████████| 85/85 [00:01<00:00, 76.33it/s]\n",
      "100%|██████████| 17/17 [00:00<00:00, 75.57it/s]\n"
     ]
    },
    {
     "name": "stdout",
     "output_type": "stream",
     "text": [
      "Epoch:389/500.. Train Loss: 0.297.. Val Loss: 1.073.. Test Loss: 0.181.. Time: 0.39m\n"
     ]
    },
    {
     "name": "stderr",
     "output_type": "stream",
     "text": [
      "100%|██████████| 238/238 [00:21<00:00, 11.02it/s]\n",
      "100%|██████████| 85/85 [00:01<00:00, 75.44it/s]\n",
      "100%|██████████| 17/17 [00:00<00:00, 72.03it/s]\n"
     ]
    },
    {
     "name": "stdout",
     "output_type": "stream",
     "text": [
      "Epoch:390/500.. Train Loss: 0.297.. Val Loss: 1.060.. Test Loss: 0.179.. Time: 0.38m\n"
     ]
    },
    {
     "name": "stderr",
     "output_type": "stream",
     "text": [
      "100%|██████████| 238/238 [00:21<00:00, 10.99it/s]\n",
      "100%|██████████| 85/85 [00:01<00:00, 77.21it/s]\n",
      "100%|██████████| 17/17 [00:00<00:00, 76.92it/s]\n"
     ]
    },
    {
     "name": "stdout",
     "output_type": "stream",
     "text": [
      "Epoch:391/500.. Train Loss: 0.293.. Val Loss: 1.066.. Test Loss: 0.185.. Time: 0.38m\n"
     ]
    },
    {
     "name": "stderr",
     "output_type": "stream",
     "text": [
      "100%|██████████| 238/238 [00:21<00:00, 11.14it/s]\n",
      "100%|██████████| 85/85 [00:01<00:00, 74.31it/s]\n",
      "100%|██████████| 17/17 [00:00<00:00, 73.47it/s]\n"
     ]
    },
    {
     "name": "stdout",
     "output_type": "stream",
     "text": [
      "Epoch:392/500.. Train Loss: 0.297.. Val Loss: 1.058.. Test Loss: 0.180.. Time: 0.38m\n"
     ]
    },
    {
     "name": "stderr",
     "output_type": "stream",
     "text": [
      "100%|██████████| 238/238 [00:21<00:00, 11.01it/s]\n",
      "100%|██████████| 85/85 [00:01<00:00, 77.18it/s]\n",
      "100%|██████████| 17/17 [00:00<00:00, 76.42it/s]\n"
     ]
    },
    {
     "name": "stdout",
     "output_type": "stream",
     "text": [
      "Epoch:393/500.. Train Loss: 0.294.. Val Loss: 1.063.. Test Loss: 0.176.. Time: 0.38m\n"
     ]
    },
    {
     "name": "stderr",
     "output_type": "stream",
     "text": [
      "100%|██████████| 238/238 [00:21<00:00, 11.11it/s]\n",
      "100%|██████████| 85/85 [00:01<00:00, 78.52it/s]\n",
      "100%|██████████| 17/17 [00:00<00:00, 77.66it/s]\n"
     ]
    },
    {
     "name": "stdout",
     "output_type": "stream",
     "text": [
      "Epoch:394/500.. Train Loss: 0.294.. Val Loss: 1.050.. Test Loss: 0.159.. Time: 0.38m\n"
     ]
    },
    {
     "name": "stderr",
     "output_type": "stream",
     "text": [
      "100%|██████████| 238/238 [00:21<00:00, 11.03it/s]\n",
      "100%|██████████| 85/85 [00:01<00:00, 76.49it/s]\n",
      "100%|██████████| 17/17 [00:00<00:00, 76.55it/s]\n"
     ]
    },
    {
     "name": "stdout",
     "output_type": "stream",
     "text": [
      "Epoch:395/500.. Train Loss: 0.319.. Val Loss: 1.068.. Test Loss: 0.179.. Time: 0.38m\n"
     ]
    },
    {
     "name": "stderr",
     "output_type": "stream",
     "text": [
      "100%|██████████| 238/238 [00:21<00:00, 11.09it/s]\n",
      "100%|██████████| 85/85 [00:01<00:00, 77.35it/s]\n",
      "100%|██████████| 17/17 [00:00<00:00, 77.34it/s]\n"
     ]
    },
    {
     "name": "stdout",
     "output_type": "stream",
     "text": [
      "Epoch:396/500.. Train Loss: 0.292.. Val Loss: 1.070.. Test Loss: 0.185.. Time: 0.38m\n"
     ]
    },
    {
     "name": "stderr",
     "output_type": "stream",
     "text": [
      "100%|██████████| 238/238 [00:21<00:00, 11.16it/s]\n",
      "100%|██████████| 85/85 [00:01<00:00, 77.15it/s]\n",
      "100%|██████████| 17/17 [00:00<00:00, 75.80it/s]\n"
     ]
    },
    {
     "name": "stdout",
     "output_type": "stream",
     "text": [
      "Epoch:397/500.. Train Loss: 0.295.. Val Loss: 1.074.. Test Loss: 0.186.. Time: 0.38m\n"
     ]
    },
    {
     "name": "stderr",
     "output_type": "stream",
     "text": [
      "100%|██████████| 238/238 [00:21<00:00, 10.96it/s]\n",
      "100%|██████████| 85/85 [00:01<00:00, 76.85it/s]\n",
      "100%|██████████| 17/17 [00:00<00:00, 76.14it/s]\n"
     ]
    },
    {
     "name": "stdout",
     "output_type": "stream",
     "text": [
      "Loss Decreasing.. 1.049 >> 1.043 \n",
      "saving model...\n",
      "Epoch:398/500.. Train Loss: 0.296.. Val Loss: 1.043.. Test Loss: 0.151.. Time: 0.39m\n"
     ]
    },
    {
     "name": "stderr",
     "output_type": "stream",
     "text": [
      "100%|██████████| 238/238 [00:21<00:00, 11.08it/s]\n",
      "100%|██████████| 85/85 [00:01<00:00, 76.87it/s]\n",
      "100%|██████████| 17/17 [00:00<00:00, 76.62it/s]\n"
     ]
    },
    {
     "name": "stdout",
     "output_type": "stream",
     "text": [
      "Loss Decreasing.. 1.043 >> 1.042 \n",
      "saving model...\n",
      "Epoch:399/500.. Train Loss: 0.298.. Val Loss: 1.042.. Test Loss: 0.150.. Time: 0.38m\n"
     ]
    },
    {
     "name": "stderr",
     "output_type": "stream",
     "text": [
      "100%|██████████| 238/238 [00:21<00:00, 11.27it/s]\n",
      "100%|██████████| 85/85 [00:01<00:00, 76.78it/s]\n",
      "100%|██████████| 17/17 [00:00<00:00, 75.96it/s]\n"
     ]
    },
    {
     "name": "stdout",
     "output_type": "stream",
     "text": [
      "Epoch:400/500.. Train Loss: 0.292.. Val Loss: 1.054.. Test Loss: 0.172.. Time: 0.37m\n"
     ]
    },
    {
     "name": "stderr",
     "output_type": "stream",
     "text": [
      "100%|██████████| 238/238 [00:21<00:00, 11.24it/s]\n",
      "100%|██████████| 85/85 [00:01<00:00, 76.84it/s]\n",
      "100%|██████████| 17/17 [00:00<00:00, 76.00it/s]\n"
     ]
    },
    {
     "name": "stdout",
     "output_type": "stream",
     "text": [
      "Epoch:401/500.. Train Loss: 0.293.. Val Loss: 1.046.. Test Loss: 0.164.. Time: 0.38m\n"
     ]
    },
    {
     "name": "stderr",
     "output_type": "stream",
     "text": [
      "100%|██████████| 238/238 [00:21<00:00, 10.87it/s]\n",
      "100%|██████████| 85/85 [00:01<00:00, 76.16it/s]\n",
      "100%|██████████| 17/17 [00:00<00:00, 75.99it/s]\n"
     ]
    },
    {
     "name": "stdout",
     "output_type": "stream",
     "text": [
      "Epoch:402/500.. Train Loss: 0.297.. Val Loss: 1.066.. Test Loss: 0.190.. Time: 0.39m\n"
     ]
    },
    {
     "name": "stderr",
     "output_type": "stream",
     "text": [
      "100%|██████████| 238/238 [00:21<00:00, 11.24it/s]\n",
      "100%|██████████| 85/85 [00:01<00:00, 71.24it/s]\n",
      "100%|██████████| 17/17 [00:00<00:00, 60.23it/s]\n"
     ]
    },
    {
     "name": "stdout",
     "output_type": "stream",
     "text": [
      "Epoch:403/500.. Train Loss: 0.295.. Val Loss: 1.062.. Test Loss: 0.177.. Time: 0.38m\n"
     ]
    },
    {
     "name": "stderr",
     "output_type": "stream",
     "text": [
      "100%|██████████| 238/238 [00:21<00:00, 10.92it/s]\n",
      "100%|██████████| 85/85 [00:01<00:00, 76.90it/s]\n",
      "100%|██████████| 17/17 [00:00<00:00, 71.07it/s]\n"
     ]
    },
    {
     "name": "stdout",
     "output_type": "stream",
     "text": [
      "Epoch:404/500.. Train Loss: 0.295.. Val Loss: 1.061.. Test Loss: 0.177.. Time: 0.39m\n"
     ]
    },
    {
     "name": "stderr",
     "output_type": "stream",
     "text": [
      "100%|██████████| 238/238 [00:21<00:00, 11.23it/s]\n",
      "100%|██████████| 85/85 [00:01<00:00, 74.54it/s]\n",
      "100%|██████████| 17/17 [00:00<00:00, 73.35it/s]\n"
     ]
    },
    {
     "name": "stdout",
     "output_type": "stream",
     "text": [
      "Epoch:405/500.. Train Loss: 0.296.. Val Loss: 1.065.. Test Loss: 0.181.. Time: 0.38m\n"
     ]
    },
    {
     "name": "stderr",
     "output_type": "stream",
     "text": [
      "100%|██████████| 238/238 [00:21<00:00, 11.07it/s]\n",
      "100%|██████████| 85/85 [00:01<00:00, 76.57it/s]\n",
      "100%|██████████| 17/17 [00:00<00:00, 73.49it/s]\n"
     ]
    },
    {
     "name": "stdout",
     "output_type": "stream",
     "text": [
      "Epoch:406/500.. Train Loss: 0.296.. Val Loss: 1.066.. Test Loss: 0.182.. Time: 0.38m\n"
     ]
    },
    {
     "name": "stderr",
     "output_type": "stream",
     "text": [
      "100%|██████████| 238/238 [00:21<00:00, 11.29it/s]\n",
      "100%|██████████| 85/85 [00:01<00:00, 77.51it/s]\n",
      "100%|██████████| 17/17 [00:00<00:00, 76.90it/s]\n"
     ]
    },
    {
     "name": "stdout",
     "output_type": "stream",
     "text": [
      "Epoch:407/500.. Train Loss: 0.293.. Val Loss: 1.049.. Test Loss: 0.166.. Time: 0.37m\n"
     ]
    },
    {
     "name": "stderr",
     "output_type": "stream",
     "text": [
      "100%|██████████| 238/238 [00:21<00:00, 11.14it/s]\n",
      "100%|██████████| 85/85 [00:01<00:00, 76.55it/s]\n",
      "100%|██████████| 17/17 [00:00<00:00, 75.81it/s]\n"
     ]
    },
    {
     "name": "stdout",
     "output_type": "stream",
     "text": [
      "Epoch:408/500.. Train Loss: 0.293.. Val Loss: 1.077.. Test Loss: 0.188.. Time: 0.38m\n"
     ]
    },
    {
     "name": "stderr",
     "output_type": "stream",
     "text": [
      "100%|██████████| 238/238 [00:21<00:00, 11.02it/s]\n",
      "100%|██████████| 85/85 [00:01<00:00, 77.65it/s]\n",
      "100%|██████████| 17/17 [00:00<00:00, 75.25it/s]\n"
     ]
    },
    {
     "name": "stdout",
     "output_type": "stream",
     "text": [
      "Epoch:409/500.. Train Loss: 0.301.. Val Loss: 1.068.. Test Loss: 0.181.. Time: 0.38m\n"
     ]
    },
    {
     "name": "stderr",
     "output_type": "stream",
     "text": [
      "100%|██████████| 238/238 [00:21<00:00, 11.01it/s]\n",
      "100%|██████████| 85/85 [00:01<00:00, 77.09it/s]\n",
      "100%|██████████| 17/17 [00:00<00:00, 76.84it/s]\n"
     ]
    },
    {
     "name": "stdout",
     "output_type": "stream",
     "text": [
      "Epoch:410/500.. Train Loss: 0.294.. Val Loss: 1.064.. Test Loss: 0.178.. Time: 0.38m\n"
     ]
    },
    {
     "name": "stderr",
     "output_type": "stream",
     "text": [
      "100%|██████████| 238/238 [00:20<00:00, 11.79it/s]\n",
      "100%|██████████| 85/85 [00:01<00:00, 76.51it/s]\n",
      "100%|██████████| 17/17 [00:00<00:00, 75.67it/s]\n"
     ]
    },
    {
     "name": "stdout",
     "output_type": "stream",
     "text": [
      "Epoch:411/500.. Train Loss: 0.297.. Val Loss: 1.066.. Test Loss: 0.178.. Time: 0.36m\n"
     ]
    },
    {
     "name": "stderr",
     "output_type": "stream",
     "text": [
      "100%|██████████| 238/238 [00:21<00:00, 11.19it/s]\n",
      "100%|██████████| 85/85 [00:01<00:00, 76.83it/s]\n",
      "100%|██████████| 17/17 [00:00<00:00, 76.28it/s]\n"
     ]
    },
    {
     "name": "stdout",
     "output_type": "stream",
     "text": [
      "Epoch:412/500.. Train Loss: 0.294.. Val Loss: 1.051.. Test Loss: 0.158.. Time: 0.38m\n"
     ]
    },
    {
     "name": "stderr",
     "output_type": "stream",
     "text": [
      "100%|██████████| 238/238 [00:21<00:00, 10.90it/s]\n",
      "100%|██████████| 85/85 [00:01<00:00, 77.39it/s]\n",
      "100%|██████████| 17/17 [00:00<00:00, 77.13it/s]\n"
     ]
    },
    {
     "name": "stdout",
     "output_type": "stream",
     "text": [
      "Epoch:413/500.. Train Loss: 0.294.. Val Loss: 1.066.. Test Loss: 0.165.. Time: 0.39m\n"
     ]
    },
    {
     "name": "stderr",
     "output_type": "stream",
     "text": [
      "100%|██████████| 238/238 [00:21<00:00, 11.03it/s]\n",
      "100%|██████████| 85/85 [00:01<00:00, 77.21it/s]\n",
      "100%|██████████| 17/17 [00:00<00:00, 76.86it/s]\n"
     ]
    },
    {
     "name": "stdout",
     "output_type": "stream",
     "text": [
      "Epoch:414/500.. Train Loss: 0.288.. Val Loss: 1.068.. Test Loss: 0.175.. Time: 0.38m\n"
     ]
    },
    {
     "name": "stderr",
     "output_type": "stream",
     "text": [
      "100%|██████████| 238/238 [00:19<00:00, 11.92it/s]\n",
      "100%|██████████| 85/85 [00:01<00:00, 77.05it/s]\n",
      "100%|██████████| 17/17 [00:00<00:00, 76.06it/s]\n"
     ]
    },
    {
     "name": "stdout",
     "output_type": "stream",
     "text": [
      "Epoch:415/500.. Train Loss: 0.296.. Val Loss: 1.080.. Test Loss: 0.189.. Time: 0.36m\n"
     ]
    },
    {
     "name": "stderr",
     "output_type": "stream",
     "text": [
      "100%|██████████| 238/238 [00:21<00:00, 11.14it/s]\n",
      "100%|██████████| 85/85 [00:01<00:00, 77.46it/s]\n",
      "100%|██████████| 17/17 [00:00<00:00, 76.54it/s]\n"
     ]
    },
    {
     "name": "stdout",
     "output_type": "stream",
     "text": [
      "Epoch:416/500.. Train Loss: 0.298.. Val Loss: 1.072.. Test Loss: 0.185.. Time: 0.38m\n"
     ]
    },
    {
     "name": "stderr",
     "output_type": "stream",
     "text": [
      "100%|██████████| 238/238 [00:21<00:00, 11.11it/s]\n",
      "100%|██████████| 85/85 [00:01<00:00, 77.69it/s]\n",
      "100%|██████████| 17/17 [00:00<00:00, 77.24it/s]\n"
     ]
    },
    {
     "name": "stdout",
     "output_type": "stream",
     "text": [
      "Epoch:417/500.. Train Loss: 0.293.. Val Loss: 1.071.. Test Loss: 0.179.. Time: 0.38m\n"
     ]
    },
    {
     "name": "stderr",
     "output_type": "stream",
     "text": [
      "100%|██████████| 238/238 [00:21<00:00, 11.23it/s]\n",
      "100%|██████████| 85/85 [00:01<00:00, 76.98it/s]\n",
      "100%|██████████| 17/17 [00:00<00:00, 77.14it/s]\n"
     ]
    },
    {
     "name": "stdout",
     "output_type": "stream",
     "text": [
      "Epoch:418/500.. Train Loss: 0.293.. Val Loss: 1.066.. Test Loss: 0.174.. Time: 0.38m\n"
     ]
    },
    {
     "name": "stderr",
     "output_type": "stream",
     "text": [
      "100%|██████████| 238/238 [00:21<00:00, 11.15it/s]\n",
      "100%|██████████| 85/85 [00:01<00:00, 77.04it/s]\n",
      "100%|██████████| 17/17 [00:00<00:00, 76.44it/s]\n"
     ]
    },
    {
     "name": "stdout",
     "output_type": "stream",
     "text": [
      "Epoch:419/500.. Train Loss: 0.290.. Val Loss: 1.069.. Test Loss: 0.183.. Time: 0.38m\n"
     ]
    },
    {
     "name": "stderr",
     "output_type": "stream",
     "text": [
      "100%|██████████| 238/238 [00:21<00:00, 11.13it/s]\n",
      "100%|██████████| 85/85 [00:01<00:00, 76.51it/s]\n",
      "100%|██████████| 17/17 [00:00<00:00, 77.11it/s]\n"
     ]
    },
    {
     "name": "stdout",
     "output_type": "stream",
     "text": [
      "Epoch:420/500.. Train Loss: 0.308.. Val Loss: 1.074.. Test Loss: 0.181.. Time: 0.38m\n"
     ]
    },
    {
     "name": "stderr",
     "output_type": "stream",
     "text": [
      "100%|██████████| 238/238 [00:18<00:00, 12.92it/s]\n",
      "100%|██████████| 85/85 [00:01<00:00, 76.48it/s]\n",
      "100%|██████████| 17/17 [00:00<00:00, 73.60it/s]\n"
     ]
    },
    {
     "name": "stdout",
     "output_type": "stream",
     "text": [
      "Epoch:421/500.. Train Loss: 0.291.. Val Loss: 1.069.. Test Loss: 0.186.. Time: 0.33m\n"
     ]
    },
    {
     "name": "stderr",
     "output_type": "stream",
     "text": [
      "100%|██████████| 238/238 [00:21<00:00, 10.91it/s]\n",
      "100%|██████████| 85/85 [00:01<00:00, 77.04it/s]\n",
      "100%|██████████| 17/17 [00:00<00:00, 70.75it/s]\n"
     ]
    },
    {
     "name": "stdout",
     "output_type": "stream",
     "text": [
      "Epoch:422/500.. Train Loss: 0.315.. Val Loss: 1.066.. Test Loss: 0.179.. Time: 0.39m\n"
     ]
    },
    {
     "name": "stderr",
     "output_type": "stream",
     "text": [
      "100%|██████████| 238/238 [00:21<00:00, 11.15it/s]\n",
      "100%|██████████| 85/85 [00:01<00:00, 77.65it/s]\n",
      "100%|██████████| 17/17 [00:00<00:00, 77.42it/s]\n"
     ]
    },
    {
     "name": "stdout",
     "output_type": "stream",
     "text": [
      "Epoch:423/500.. Train Loss: 0.294.. Val Loss: 1.071.. Test Loss: 0.187.. Time: 0.38m\n"
     ]
    },
    {
     "name": "stderr",
     "output_type": "stream",
     "text": [
      "100%|██████████| 238/238 [00:21<00:00, 11.17it/s]\n",
      "100%|██████████| 85/85 [00:01<00:00, 77.03it/s]\n",
      "100%|██████████| 17/17 [00:00<00:00, 76.89it/s]\n"
     ]
    },
    {
     "name": "stdout",
     "output_type": "stream",
     "text": [
      "Epoch:424/500.. Train Loss: 0.298.. Val Loss: 1.071.. Test Loss: 0.184.. Time: 0.38m\n"
     ]
    },
    {
     "name": "stderr",
     "output_type": "stream",
     "text": [
      "100%|██████████| 238/238 [00:21<00:00, 11.16it/s]\n",
      "100%|██████████| 85/85 [00:01<00:00, 77.32it/s]\n",
      "100%|██████████| 17/17 [00:00<00:00, 76.77it/s]\n"
     ]
    },
    {
     "name": "stdout",
     "output_type": "stream",
     "text": [
      "Epoch:425/500.. Train Loss: 0.298.. Val Loss: 1.071.. Test Loss: 0.181.. Time: 0.38m\n"
     ]
    },
    {
     "name": "stderr",
     "output_type": "stream",
     "text": [
      "100%|██████████| 238/238 [00:21<00:00, 10.99it/s]\n",
      "100%|██████████| 85/85 [00:01<00:00, 77.37it/s]\n",
      "100%|██████████| 17/17 [00:00<00:00, 76.63it/s]\n"
     ]
    },
    {
     "name": "stdout",
     "output_type": "stream",
     "text": [
      "Epoch:426/500.. Train Loss: 0.300.. Val Loss: 1.059.. Test Loss: 0.171.. Time: 0.38m\n"
     ]
    },
    {
     "name": "stderr",
     "output_type": "stream",
     "text": [
      "100%|██████████| 238/238 [00:21<00:00, 11.22it/s]\n",
      "100%|██████████| 85/85 [00:01<00:00, 77.93it/s]\n",
      "100%|██████████| 17/17 [00:00<00:00, 76.88it/s]\n"
     ]
    },
    {
     "name": "stdout",
     "output_type": "stream",
     "text": [
      "Epoch:427/500.. Train Loss: 0.295.. Val Loss: 1.064.. Test Loss: 0.176.. Time: 0.38m\n"
     ]
    },
    {
     "name": "stderr",
     "output_type": "stream",
     "text": [
      "100%|██████████| 238/238 [00:21<00:00, 11.02it/s]\n",
      "100%|██████████| 85/85 [00:01<00:00, 77.58it/s]\n",
      "100%|██████████| 17/17 [00:00<00:00, 77.22it/s]\n"
     ]
    },
    {
     "name": "stdout",
     "output_type": "stream",
     "text": [
      "Epoch:428/500.. Train Loss: 0.294.. Val Loss: 1.064.. Test Loss: 0.174.. Time: 0.38m\n"
     ]
    },
    {
     "name": "stderr",
     "output_type": "stream",
     "text": [
      "100%|██████████| 238/238 [00:21<00:00, 10.96it/s]\n",
      "100%|██████████| 85/85 [00:01<00:00, 76.98it/s]\n",
      "100%|██████████| 17/17 [00:00<00:00, 76.37it/s]\n"
     ]
    },
    {
     "name": "stdout",
     "output_type": "stream",
     "text": [
      "Epoch:429/500.. Train Loss: 0.289.. Val Loss: 1.055.. Test Loss: 0.175.. Time: 0.38m\n"
     ]
    },
    {
     "name": "stderr",
     "output_type": "stream",
     "text": [
      "100%|██████████| 238/238 [00:21<00:00, 11.14it/s]\n",
      "100%|██████████| 85/85 [00:01<00:00, 77.59it/s]\n",
      "100%|██████████| 17/17 [00:00<00:00, 76.98it/s]\n"
     ]
    },
    {
     "name": "stdout",
     "output_type": "stream",
     "text": [
      "Epoch:430/500.. Train Loss: 0.294.. Val Loss: 1.044.. Test Loss: 0.158.. Time: 0.38m\n"
     ]
    },
    {
     "name": "stderr",
     "output_type": "stream",
     "text": [
      "100%|██████████| 238/238 [00:21<00:00, 10.97it/s]\n",
      "100%|██████████| 85/85 [00:01<00:00, 76.65it/s]\n",
      "100%|██████████| 17/17 [00:00<00:00, 75.97it/s]\n"
     ]
    },
    {
     "name": "stdout",
     "output_type": "stream",
     "text": [
      "Epoch:431/500.. Train Loss: 0.289.. Val Loss: 1.060.. Test Loss: 0.170.. Time: 0.38m\n"
     ]
    },
    {
     "name": "stderr",
     "output_type": "stream",
     "text": [
      "100%|██████████| 238/238 [00:22<00:00, 10.80it/s]\n",
      "100%|██████████| 85/85 [00:01<00:00, 76.81it/s]\n",
      "100%|██████████| 17/17 [00:00<00:00, 76.83it/s]\n"
     ]
    },
    {
     "name": "stdout",
     "output_type": "stream",
     "text": [
      "Epoch:432/500.. Train Loss: 0.294.. Val Loss: 1.073.. Test Loss: 0.183.. Time: 0.39m\n"
     ]
    },
    {
     "name": "stderr",
     "output_type": "stream",
     "text": [
      "100%|██████████| 238/238 [00:21<00:00, 11.13it/s]\n",
      "100%|██████████| 85/85 [00:01<00:00, 77.44it/s]\n",
      "100%|██████████| 17/17 [00:00<00:00, 76.71it/s]\n"
     ]
    },
    {
     "name": "stdout",
     "output_type": "stream",
     "text": [
      "Epoch:433/500.. Train Loss: 0.287.. Val Loss: 1.064.. Test Loss: 0.177.. Time: 0.38m\n"
     ]
    },
    {
     "name": "stderr",
     "output_type": "stream",
     "text": [
      "100%|██████████| 238/238 [00:22<00:00, 10.82it/s]\n",
      "100%|██████████| 85/85 [00:01<00:00, 77.21it/s]\n",
      "100%|██████████| 17/17 [00:00<00:00, 75.92it/s]\n"
     ]
    },
    {
     "name": "stdout",
     "output_type": "stream",
     "text": [
      "Epoch:434/500.. Train Loss: 0.302.. Val Loss: 1.045.. Test Loss: 0.161.. Time: 0.39m\n"
     ]
    },
    {
     "name": "stderr",
     "output_type": "stream",
     "text": [
      "100%|██████████| 238/238 [00:21<00:00, 10.98it/s]\n",
      "100%|██████████| 85/85 [00:01<00:00, 76.82it/s]\n",
      "100%|██████████| 17/17 [00:00<00:00, 76.41it/s]\n"
     ]
    },
    {
     "name": "stdout",
     "output_type": "stream",
     "text": [
      "Epoch:435/500.. Train Loss: 0.290.. Val Loss: 1.067.. Test Loss: 0.164.. Time: 0.38m\n"
     ]
    },
    {
     "name": "stderr",
     "output_type": "stream",
     "text": [
      "100%|██████████| 238/238 [00:21<00:00, 11.10it/s]\n",
      "100%|██████████| 85/85 [00:01<00:00, 73.47it/s]\n",
      "100%|██████████| 17/17 [00:00<00:00, 72.38it/s]\n"
     ]
    },
    {
     "name": "stdout",
     "output_type": "stream",
     "text": [
      "Epoch:436/500.. Train Loss: 0.297.. Val Loss: 1.056.. Test Loss: 0.171.. Time: 0.38m\n"
     ]
    },
    {
     "name": "stderr",
     "output_type": "stream",
     "text": [
      "100%|██████████| 238/238 [00:21<00:00, 10.85it/s]\n",
      "100%|██████████| 85/85 [00:01<00:00, 71.81it/s]\n",
      "100%|██████████| 17/17 [00:00<00:00, 75.29it/s]\n"
     ]
    },
    {
     "name": "stdout",
     "output_type": "stream",
     "text": [
      "Epoch:437/500.. Train Loss: 0.293.. Val Loss: 1.056.. Test Loss: 0.173.. Time: 0.39m\n"
     ]
    },
    {
     "name": "stderr",
     "output_type": "stream",
     "text": [
      "100%|██████████| 238/238 [00:22<00:00, 10.73it/s]\n",
      "100%|██████████| 85/85 [00:01<00:00, 77.11it/s]\n",
      "100%|██████████| 17/17 [00:00<00:00, 74.36it/s]\n"
     ]
    },
    {
     "name": "stdout",
     "output_type": "stream",
     "text": [
      "Epoch:438/500.. Train Loss: 0.291.. Val Loss: 1.068.. Test Loss: 0.180.. Time: 0.39m\n"
     ]
    },
    {
     "name": "stderr",
     "output_type": "stream",
     "text": [
      "100%|██████████| 238/238 [00:21<00:00, 11.30it/s]\n",
      "100%|██████████| 85/85 [00:01<00:00, 76.48it/s]\n",
      "100%|██████████| 17/17 [00:00<00:00, 76.57it/s]\n"
     ]
    },
    {
     "name": "stdout",
     "output_type": "stream",
     "text": [
      "Epoch:439/500.. Train Loss: 0.288.. Val Loss: 1.059.. Test Loss: 0.174.. Time: 0.37m\n"
     ]
    },
    {
     "name": "stderr",
     "output_type": "stream",
     "text": [
      "100%|██████████| 238/238 [00:21<00:00, 11.05it/s]\n",
      "100%|██████████| 85/85 [00:01<00:00, 77.00it/s]\n",
      "100%|██████████| 17/17 [00:00<00:00, 77.57it/s]\n"
     ]
    },
    {
     "name": "stdout",
     "output_type": "stream",
     "text": [
      "Epoch:440/500.. Train Loss: 0.289.. Val Loss: 1.074.. Test Loss: 0.174.. Time: 0.38m\n"
     ]
    },
    {
     "name": "stderr",
     "output_type": "stream",
     "text": [
      "100%|██████████| 238/238 [00:21<00:00, 11.20it/s]\n",
      "100%|██████████| 85/85 [00:01<00:00, 77.24it/s]\n",
      "100%|██████████| 17/17 [00:00<00:00, 76.32it/s]\n"
     ]
    },
    {
     "name": "stdout",
     "output_type": "stream",
     "text": [
      "Epoch:441/500.. Train Loss: 0.286.. Val Loss: 1.068.. Test Loss: 0.178.. Time: 0.38m\n"
     ]
    },
    {
     "name": "stderr",
     "output_type": "stream",
     "text": [
      "100%|██████████| 238/238 [00:21<00:00, 11.08it/s]\n",
      "100%|██████████| 85/85 [00:01<00:00, 76.38it/s]\n",
      "100%|██████████| 17/17 [00:00<00:00, 74.52it/s]\n"
     ]
    },
    {
     "name": "stdout",
     "output_type": "stream",
     "text": [
      "Epoch:442/500.. Train Loss: 0.293.. Val Loss: 1.064.. Test Loss: 0.178.. Time: 0.38m\n"
     ]
    },
    {
     "name": "stderr",
     "output_type": "stream",
     "text": [
      "100%|██████████| 238/238 [00:21<00:00, 10.92it/s]\n",
      "100%|██████████| 85/85 [00:01<00:00, 75.64it/s]\n",
      "100%|██████████| 17/17 [00:00<00:00, 74.84it/s]\n"
     ]
    },
    {
     "name": "stdout",
     "output_type": "stream",
     "text": [
      "Epoch:443/500.. Train Loss: 0.293.. Val Loss: 1.072.. Test Loss: 0.179.. Time: 0.39m\n"
     ]
    },
    {
     "name": "stderr",
     "output_type": "stream",
     "text": [
      "100%|██████████| 238/238 [00:21<00:00, 11.02it/s]\n",
      "100%|██████████| 85/85 [00:01<00:00, 76.81it/s]\n",
      "100%|██████████| 17/17 [00:00<00:00, 77.42it/s]\n"
     ]
    },
    {
     "name": "stdout",
     "output_type": "stream",
     "text": [
      "Epoch:444/500.. Train Loss: 0.293.. Val Loss: 1.059.. Test Loss: 0.170.. Time: 0.38m\n"
     ]
    },
    {
     "name": "stderr",
     "output_type": "stream",
     "text": [
      "100%|██████████| 238/238 [00:21<00:00, 10.98it/s]\n",
      "100%|██████████| 85/85 [00:01<00:00, 76.76it/s]\n",
      "100%|██████████| 17/17 [00:00<00:00, 77.02it/s]\n"
     ]
    },
    {
     "name": "stdout",
     "output_type": "stream",
     "text": [
      "Epoch:445/500.. Train Loss: 0.297.. Val Loss: 1.043.. Test Loss: 0.157.. Time: 0.38m\n"
     ]
    },
    {
     "name": "stderr",
     "output_type": "stream",
     "text": [
      "100%|██████████| 238/238 [00:21<00:00, 11.16it/s]\n",
      "100%|██████████| 85/85 [00:01<00:00, 75.67it/s]\n",
      "100%|██████████| 17/17 [00:00<00:00, 76.06it/s]\n"
     ]
    },
    {
     "name": "stdout",
     "output_type": "stream",
     "text": [
      "Epoch:446/500.. Train Loss: 0.294.. Val Loss: 1.059.. Test Loss: 0.172.. Time: 0.38m\n"
     ]
    },
    {
     "name": "stderr",
     "output_type": "stream",
     "text": [
      "100%|██████████| 238/238 [00:21<00:00, 11.02it/s]\n",
      "100%|██████████| 85/85 [00:01<00:00, 76.92it/s]\n",
      "100%|██████████| 17/17 [00:00<00:00, 76.27it/s]\n"
     ]
    },
    {
     "name": "stdout",
     "output_type": "stream",
     "text": [
      "Epoch:447/500.. Train Loss: 0.290.. Val Loss: 1.060.. Test Loss: 0.179.. Time: 0.38m\n"
     ]
    },
    {
     "name": "stderr",
     "output_type": "stream",
     "text": [
      "100%|██████████| 238/238 [00:21<00:00, 11.12it/s]\n",
      "100%|██████████| 85/85 [00:01<00:00, 76.94it/s]\n",
      "100%|██████████| 17/17 [00:00<00:00, 72.22it/s]\n"
     ]
    },
    {
     "name": "stdout",
     "output_type": "stream",
     "text": [
      "Epoch:448/500.. Train Loss: 0.287.. Val Loss: 1.056.. Test Loss: 0.173.. Time: 0.38m\n"
     ]
    },
    {
     "name": "stderr",
     "output_type": "stream",
     "text": [
      "100%|██████████| 238/238 [00:21<00:00, 11.20it/s]\n",
      "100%|██████████| 85/85 [00:01<00:00, 76.53it/s]\n",
      "100%|██████████| 17/17 [00:00<00:00, 75.87it/s]\n"
     ]
    },
    {
     "name": "stdout",
     "output_type": "stream",
     "text": [
      "Epoch:449/500.. Train Loss: 0.292.. Val Loss: 1.053.. Test Loss: 0.171.. Time: 0.38m\n"
     ]
    },
    {
     "name": "stderr",
     "output_type": "stream",
     "text": [
      "100%|██████████| 238/238 [00:21<00:00, 10.95it/s]\n",
      "100%|██████████| 85/85 [00:01<00:00, 76.16it/s]\n",
      "100%|██████████| 17/17 [00:00<00:00, 76.75it/s]\n"
     ]
    },
    {
     "name": "stdout",
     "output_type": "stream",
     "text": [
      "Epoch:450/500.. Train Loss: 0.296.. Val Loss: 1.063.. Test Loss: 0.178.. Time: 0.38m\n"
     ]
    },
    {
     "name": "stderr",
     "output_type": "stream",
     "text": [
      "100%|██████████| 238/238 [00:21<00:00, 10.91it/s]\n",
      "100%|██████████| 85/85 [00:01<00:00, 77.35it/s]\n",
      "100%|██████████| 17/17 [00:00<00:00, 77.18it/s]\n"
     ]
    },
    {
     "name": "stdout",
     "output_type": "stream",
     "text": [
      "Epoch:451/500.. Train Loss: 0.293.. Val Loss: 1.061.. Test Loss: 0.175.. Time: 0.39m\n"
     ]
    },
    {
     "name": "stderr",
     "output_type": "stream",
     "text": [
      "100%|██████████| 238/238 [00:21<00:00, 11.02it/s]\n",
      "100%|██████████| 85/85 [00:01<00:00, 77.17it/s]\n",
      "100%|██████████| 17/17 [00:00<00:00, 76.89it/s]\n"
     ]
    },
    {
     "name": "stdout",
     "output_type": "stream",
     "text": [
      "Epoch:452/500.. Train Loss: 0.287.. Val Loss: 1.073.. Test Loss: 0.178.. Time: 0.38m\n"
     ]
    },
    {
     "name": "stderr",
     "output_type": "stream",
     "text": [
      "100%|██████████| 238/238 [00:21<00:00, 11.08it/s]\n",
      "100%|██████████| 85/85 [00:01<00:00, 77.33it/s]\n",
      "100%|██████████| 17/17 [00:00<00:00, 76.62it/s]\n"
     ]
    },
    {
     "name": "stdout",
     "output_type": "stream",
     "text": [
      "Epoch:453/500.. Train Loss: 0.289.. Val Loss: 1.055.. Test Loss: 0.174.. Time: 0.38m\n"
     ]
    },
    {
     "name": "stderr",
     "output_type": "stream",
     "text": [
      "100%|██████████| 238/238 [00:20<00:00, 11.69it/s]\n",
      "100%|██████████| 85/85 [00:01<00:00, 75.55it/s]\n",
      "100%|██████████| 17/17 [00:00<00:00, 75.60it/s]\n"
     ]
    },
    {
     "name": "stdout",
     "output_type": "stream",
     "text": [
      "Epoch:454/500.. Train Loss: 0.288.. Val Loss: 1.060.. Test Loss: 0.175.. Time: 0.36m\n"
     ]
    },
    {
     "name": "stderr",
     "output_type": "stream",
     "text": [
      "100%|██████████| 238/238 [00:21<00:00, 11.30it/s]\n",
      "100%|██████████| 85/85 [00:01<00:00, 76.94it/s]\n",
      "100%|██████████| 17/17 [00:00<00:00, 76.67it/s]\n"
     ]
    },
    {
     "name": "stdout",
     "output_type": "stream",
     "text": [
      "Epoch:455/500.. Train Loss: 0.286.. Val Loss: 1.061.. Test Loss: 0.176.. Time: 0.37m\n"
     ]
    },
    {
     "name": "stderr",
     "output_type": "stream",
     "text": [
      "100%|██████████| 238/238 [00:21<00:00, 10.93it/s]\n",
      "100%|██████████| 85/85 [00:01<00:00, 76.79it/s]\n",
      "100%|██████████| 17/17 [00:00<00:00, 76.00it/s]\n"
     ]
    },
    {
     "name": "stdout",
     "output_type": "stream",
     "text": [
      "Epoch:456/500.. Train Loss: 0.288.. Val Loss: 1.062.. Test Loss: 0.177.. Time: 0.39m\n"
     ]
    },
    {
     "name": "stderr",
     "output_type": "stream",
     "text": [
      "100%|██████████| 238/238 [00:21<00:00, 10.91it/s]\n",
      "100%|██████████| 85/85 [00:01<00:00, 76.77it/s]\n",
      "100%|██████████| 17/17 [00:00<00:00, 74.97it/s]\n"
     ]
    },
    {
     "name": "stdout",
     "output_type": "stream",
     "text": [
      "Epoch:457/500.. Train Loss: 0.294.. Val Loss: 1.056.. Test Loss: 0.172.. Time: 0.39m\n"
     ]
    },
    {
     "name": "stderr",
     "output_type": "stream",
     "text": [
      "100%|██████████| 238/238 [00:21<00:00, 11.01it/s]\n",
      "100%|██████████| 85/85 [00:01<00:00, 71.23it/s]\n",
      "100%|██████████| 17/17 [00:00<00:00, 75.32it/s]\n"
     ]
    },
    {
     "name": "stdout",
     "output_type": "stream",
     "text": [
      "Epoch:458/500.. Train Loss: 0.297.. Val Loss: 1.052.. Test Loss: 0.164.. Time: 0.38m\n"
     ]
    },
    {
     "name": "stderr",
     "output_type": "stream",
     "text": [
      "100%|██████████| 238/238 [00:21<00:00, 10.90it/s]\n",
      "100%|██████████| 85/85 [00:01<00:00, 76.67it/s]\n",
      "100%|██████████| 17/17 [00:00<00:00, 76.42it/s]\n"
     ]
    },
    {
     "name": "stdout",
     "output_type": "stream",
     "text": [
      "Epoch:459/500.. Train Loss: 0.292.. Val Loss: 1.060.. Test Loss: 0.174.. Time: 0.39m\n"
     ]
    },
    {
     "name": "stderr",
     "output_type": "stream",
     "text": [
      "100%|██████████| 238/238 [00:21<00:00, 11.08it/s]\n",
      "100%|██████████| 85/85 [00:01<00:00, 74.77it/s]\n",
      "100%|██████████| 17/17 [00:00<00:00, 76.21it/s]\n"
     ]
    },
    {
     "name": "stdout",
     "output_type": "stream",
     "text": [
      "Epoch:460/500.. Train Loss: 0.288.. Val Loss: 1.058.. Test Loss: 0.175.. Time: 0.38m\n"
     ]
    },
    {
     "name": "stderr",
     "output_type": "stream",
     "text": [
      "100%|██████████| 238/238 [00:21<00:00, 10.84it/s]\n",
      "100%|██████████| 85/85 [00:01<00:00, 75.69it/s]\n",
      "100%|██████████| 17/17 [00:00<00:00, 70.75it/s]\n"
     ]
    },
    {
     "name": "stdout",
     "output_type": "stream",
     "text": [
      "Epoch:461/500.. Train Loss: 0.292.. Val Loss: 1.057.. Test Loss: 0.173.. Time: 0.39m\n"
     ]
    },
    {
     "name": "stderr",
     "output_type": "stream",
     "text": [
      "100%|██████████| 238/238 [00:21<00:00, 10.83it/s]\n",
      "100%|██████████| 85/85 [00:01<00:00, 73.95it/s]\n",
      "100%|██████████| 17/17 [00:00<00:00, 73.08it/s]\n"
     ]
    },
    {
     "name": "stdout",
     "output_type": "stream",
     "text": [
      "Epoch:462/500.. Train Loss: 0.293.. Val Loss: 1.060.. Test Loss: 0.176.. Time: 0.39m\n"
     ]
    },
    {
     "name": "stderr",
     "output_type": "stream",
     "text": [
      "100%|██████████| 238/238 [00:21<00:00, 11.27it/s]\n",
      "100%|██████████| 85/85 [00:01<00:00, 76.53it/s]\n",
      "100%|██████████| 17/17 [00:00<00:00, 70.55it/s]\n"
     ]
    },
    {
     "name": "stdout",
     "output_type": "stream",
     "text": [
      "Epoch:463/500.. Train Loss: 0.287.. Val Loss: 1.057.. Test Loss: 0.175.. Time: 0.37m\n"
     ]
    },
    {
     "name": "stderr",
     "output_type": "stream",
     "text": [
      "100%|██████████| 238/238 [00:21<00:00, 11.06it/s]\n",
      "100%|██████████| 85/85 [00:01<00:00, 76.60it/s]\n",
      "100%|██████████| 17/17 [00:00<00:00, 72.61it/s]\n"
     ]
    },
    {
     "name": "stdout",
     "output_type": "stream",
     "text": [
      "Epoch:464/500.. Train Loss: 0.291.. Val Loss: 1.060.. Test Loss: 0.176.. Time: 0.38m\n"
     ]
    },
    {
     "name": "stderr",
     "output_type": "stream",
     "text": [
      "100%|██████████| 238/238 [00:21<00:00, 11.11it/s]\n",
      "100%|██████████| 85/85 [00:01<00:00, 73.50it/s]\n",
      "100%|██████████| 17/17 [00:00<00:00, 75.44it/s]\n"
     ]
    },
    {
     "name": "stdout",
     "output_type": "stream",
     "text": [
      "Epoch:465/500.. Train Loss: 0.288.. Val Loss: 1.055.. Test Loss: 0.172.. Time: 0.38m\n"
     ]
    },
    {
     "name": "stderr",
     "output_type": "stream",
     "text": [
      "100%|██████████| 238/238 [00:21<00:00, 10.94it/s]\n",
      "100%|██████████| 85/85 [00:01<00:00, 76.53it/s]\n",
      "100%|██████████| 17/17 [00:00<00:00, 74.55it/s]\n"
     ]
    },
    {
     "name": "stdout",
     "output_type": "stream",
     "text": [
      "Epoch:466/500.. Train Loss: 0.287.. Val Loss: 1.050.. Test Loss: 0.165.. Time: 0.39m\n"
     ]
    },
    {
     "name": "stderr",
     "output_type": "stream",
     "text": [
      "100%|██████████| 238/238 [00:21<00:00, 11.08it/s]\n",
      "100%|██████████| 85/85 [00:01<00:00, 76.21it/s]\n",
      "100%|██████████| 17/17 [00:00<00:00, 76.19it/s]\n"
     ]
    },
    {
     "name": "stdout",
     "output_type": "stream",
     "text": [
      "Epoch:467/500.. Train Loss: 0.291.. Val Loss: 1.044.. Test Loss: 0.157.. Time: 0.38m\n"
     ]
    },
    {
     "name": "stderr",
     "output_type": "stream",
     "text": [
      "100%|██████████| 238/238 [00:21<00:00, 10.99it/s]\n",
      "100%|██████████| 85/85 [00:01<00:00, 76.41it/s]\n",
      "100%|██████████| 17/17 [00:00<00:00, 75.67it/s]\n"
     ]
    },
    {
     "name": "stdout",
     "output_type": "stream",
     "text": [
      "Epoch:468/500.. Train Loss: 0.292.. Val Loss: 1.043.. Test Loss: 0.156.. Time: 0.38m\n"
     ]
    },
    {
     "name": "stderr",
     "output_type": "stream",
     "text": [
      "100%|██████████| 238/238 [00:21<00:00, 11.15it/s]\n",
      "100%|██████████| 85/85 [00:01<00:00, 75.15it/s]\n",
      "100%|██████████| 17/17 [00:00<00:00, 77.05it/s]\n"
     ]
    },
    {
     "name": "stdout",
     "output_type": "stream",
     "text": [
      "Epoch:469/500.. Train Loss: 0.286.. Val Loss: 1.045.. Test Loss: 0.157.. Time: 0.38m\n"
     ]
    },
    {
     "name": "stderr",
     "output_type": "stream",
     "text": [
      "100%|██████████| 238/238 [00:21<00:00, 10.87it/s]\n",
      "100%|██████████| 85/85 [00:01<00:00, 75.02it/s]\n",
      "100%|██████████| 17/17 [00:00<00:00, 73.45it/s]\n"
     ]
    },
    {
     "name": "stdout",
     "output_type": "stream",
     "text": [
      "Epoch:470/500.. Train Loss: 0.295.. Val Loss: 1.046.. Test Loss: 0.160.. Time: 0.39m\n"
     ]
    },
    {
     "name": "stderr",
     "output_type": "stream",
     "text": [
      "100%|██████████| 238/238 [00:21<00:00, 11.12it/s]\n",
      "100%|██████████| 85/85 [00:01<00:00, 76.57it/s]\n",
      "100%|██████████| 17/17 [00:00<00:00, 75.99it/s]\n"
     ]
    },
    {
     "name": "stdout",
     "output_type": "stream",
     "text": [
      "Epoch:471/500.. Train Loss: 0.294.. Val Loss: 1.044.. Test Loss: 0.160.. Time: 0.38m\n"
     ]
    },
    {
     "name": "stderr",
     "output_type": "stream",
     "text": [
      "100%|██████████| 238/238 [00:20<00:00, 11.56it/s]\n",
      "100%|██████████| 85/85 [00:01<00:00, 77.59it/s]\n",
      "100%|██████████| 17/17 [00:00<00:00, 75.62it/s]\n"
     ]
    },
    {
     "name": "stdout",
     "output_type": "stream",
     "text": [
      "Epoch:472/500.. Train Loss: 0.286.. Val Loss: 1.045.. Test Loss: 0.163.. Time: 0.37m\n"
     ]
    },
    {
     "name": "stderr",
     "output_type": "stream",
     "text": [
      "100%|██████████| 238/238 [00:21<00:00, 10.89it/s]\n",
      "100%|██████████| 85/85 [00:01<00:00, 77.44it/s]\n",
      "100%|██████████| 17/17 [00:00<00:00, 76.25it/s]\n"
     ]
    },
    {
     "name": "stdout",
     "output_type": "stream",
     "text": [
      "Epoch:473/500.. Train Loss: 0.289.. Val Loss: 1.045.. Test Loss: 0.163.. Time: 0.39m\n"
     ]
    },
    {
     "name": "stderr",
     "output_type": "stream",
     "text": [
      "100%|██████████| 238/238 [00:21<00:00, 10.99it/s]\n",
      "100%|██████████| 85/85 [00:01<00:00, 77.88it/s]\n",
      "100%|██████████| 17/17 [00:00<00:00, 76.87it/s]\n"
     ]
    },
    {
     "name": "stdout",
     "output_type": "stream",
     "text": [
      "Epoch:474/500.. Train Loss: 0.290.. Val Loss: 1.050.. Test Loss: 0.164.. Time: 0.38m\n"
     ]
    },
    {
     "name": "stderr",
     "output_type": "stream",
     "text": [
      "100%|██████████| 238/238 [00:21<00:00, 10.93it/s]\n",
      "100%|██████████| 85/85 [00:01<00:00, 77.09it/s]\n",
      "100%|██████████| 17/17 [00:00<00:00, 76.37it/s]\n"
     ]
    },
    {
     "name": "stdout",
     "output_type": "stream",
     "text": [
      "Epoch:475/500.. Train Loss: 0.289.. Val Loss: 1.044.. Test Loss: 0.163.. Time: 0.39m\n"
     ]
    },
    {
     "name": "stderr",
     "output_type": "stream",
     "text": [
      "100%|██████████| 238/238 [00:21<00:00, 11.09it/s]\n",
      "100%|██████████| 85/85 [00:01<00:00, 77.07it/s]\n",
      "100%|██████████| 17/17 [00:00<00:00, 76.92it/s]\n"
     ]
    },
    {
     "name": "stdout",
     "output_type": "stream",
     "text": [
      "Epoch:476/500.. Train Loss: 0.280.. Val Loss: 1.046.. Test Loss: 0.164.. Time: 0.38m\n"
     ]
    },
    {
     "name": "stderr",
     "output_type": "stream",
     "text": [
      "100%|██████████| 238/238 [00:21<00:00, 10.93it/s]\n",
      "100%|██████████| 85/85 [00:01<00:00, 75.79it/s]\n",
      "100%|██████████| 17/17 [00:00<00:00, 76.04it/s]\n"
     ]
    },
    {
     "name": "stdout",
     "output_type": "stream",
     "text": [
      "Epoch:477/500.. Train Loss: 0.289.. Val Loss: 1.044.. Test Loss: 0.163.. Time: 0.39m\n"
     ]
    },
    {
     "name": "stderr",
     "output_type": "stream",
     "text": [
      "100%|██████████| 238/238 [00:21<00:00, 10.93it/s]\n",
      "100%|██████████| 85/85 [00:01<00:00, 77.24it/s]\n",
      "100%|██████████| 17/17 [00:00<00:00, 76.75it/s]\n"
     ]
    },
    {
     "name": "stdout",
     "output_type": "stream",
     "text": [
      "Epoch:478/500.. Train Loss: 0.289.. Val Loss: 1.054.. Test Loss: 0.163.. Time: 0.39m\n"
     ]
    },
    {
     "name": "stderr",
     "output_type": "stream",
     "text": [
      "100%|██████████| 238/238 [00:21<00:00, 11.14it/s]\n",
      "100%|██████████| 85/85 [00:01<00:00, 75.89it/s]\n",
      "100%|██████████| 17/17 [00:00<00:00, 75.93it/s]\n"
     ]
    },
    {
     "name": "stdout",
     "output_type": "stream",
     "text": [
      "Epoch:479/500.. Train Loss: 0.290.. Val Loss: 1.045.. Test Loss: 0.165.. Time: 0.38m\n"
     ]
    },
    {
     "name": "stderr",
     "output_type": "stream",
     "text": [
      "100%|██████████| 238/238 [00:21<00:00, 11.01it/s]\n",
      "100%|██████████| 85/85 [00:01<00:00, 76.78it/s]\n",
      "100%|██████████| 17/17 [00:00<00:00, 76.51it/s]\n"
     ]
    },
    {
     "name": "stdout",
     "output_type": "stream",
     "text": [
      "Epoch:480/500.. Train Loss: 0.292.. Val Loss: 1.045.. Test Loss: 0.164.. Time: 0.38m\n"
     ]
    },
    {
     "name": "stderr",
     "output_type": "stream",
     "text": [
      "100%|██████████| 238/238 [00:20<00:00, 11.43it/s]\n",
      "100%|██████████| 85/85 [00:01<00:00, 77.70it/s]\n",
      "100%|██████████| 17/17 [00:00<00:00, 76.83it/s]\n"
     ]
    },
    {
     "name": "stdout",
     "output_type": "stream",
     "text": [
      "Epoch:481/500.. Train Loss: 0.289.. Val Loss: 1.050.. Test Loss: 0.165.. Time: 0.37m\n"
     ]
    },
    {
     "name": "stderr",
     "output_type": "stream",
     "text": [
      "100%|██████████| 238/238 [00:21<00:00, 11.15it/s]\n",
      "100%|██████████| 85/85 [00:01<00:00, 76.22it/s]\n",
      "100%|██████████| 17/17 [00:00<00:00, 73.23it/s]\n"
     ]
    },
    {
     "name": "stdout",
     "output_type": "stream",
     "text": [
      "Epoch:482/500.. Train Loss: 0.293.. Val Loss: 1.048.. Test Loss: 0.165.. Time: 0.38m\n"
     ]
    },
    {
     "name": "stderr",
     "output_type": "stream",
     "text": [
      "100%|██████████| 238/238 [00:21<00:00, 10.94it/s]\n",
      "100%|██████████| 85/85 [00:01<00:00, 75.44it/s]\n",
      "100%|██████████| 17/17 [00:00<00:00, 77.30it/s]\n"
     ]
    },
    {
     "name": "stdout",
     "output_type": "stream",
     "text": [
      "Epoch:483/500.. Train Loss: 0.293.. Val Loss: 1.047.. Test Loss: 0.166.. Time: 0.39m\n"
     ]
    },
    {
     "name": "stderr",
     "output_type": "stream",
     "text": [
      "100%|██████████| 238/238 [00:21<00:00, 11.10it/s]\n",
      "100%|██████████| 85/85 [00:01<00:00, 77.40it/s]\n",
      "100%|██████████| 17/17 [00:00<00:00, 76.66it/s]\n"
     ]
    },
    {
     "name": "stdout",
     "output_type": "stream",
     "text": [
      "Epoch:484/500.. Train Loss: 0.293.. Val Loss: 1.051.. Test Loss: 0.166.. Time: 0.38m\n"
     ]
    },
    {
     "name": "stderr",
     "output_type": "stream",
     "text": [
      "100%|██████████| 238/238 [00:21<00:00, 10.98it/s]\n",
      "100%|██████████| 85/85 [00:01<00:00, 77.80it/s]\n",
      "100%|██████████| 17/17 [00:00<00:00, 76.74it/s]\n"
     ]
    },
    {
     "name": "stdout",
     "output_type": "stream",
     "text": [
      "Epoch:485/500.. Train Loss: 0.290.. Val Loss: 1.048.. Test Loss: 0.167.. Time: 0.38m\n"
     ]
    },
    {
     "name": "stderr",
     "output_type": "stream",
     "text": [
      "100%|██████████| 238/238 [00:21<00:00, 11.12it/s]\n",
      "100%|██████████| 85/85 [00:01<00:00, 76.94it/s]\n",
      "100%|██████████| 17/17 [00:00<00:00, 74.15it/s]\n"
     ]
    },
    {
     "name": "stdout",
     "output_type": "stream",
     "text": [
      "Epoch:486/500.. Train Loss: 0.292.. Val Loss: 1.047.. Test Loss: 0.165.. Time: 0.38m\n"
     ]
    },
    {
     "name": "stderr",
     "output_type": "stream",
     "text": [
      "100%|██████████| 238/238 [00:21<00:00, 10.90it/s]\n",
      "100%|██████████| 85/85 [00:01<00:00, 77.25it/s]\n",
      "100%|██████████| 17/17 [00:00<00:00, 77.50it/s]\n"
     ]
    },
    {
     "name": "stdout",
     "output_type": "stream",
     "text": [
      "Epoch:487/500.. Train Loss: 0.285.. Val Loss: 1.048.. Test Loss: 0.166.. Time: 0.39m\n"
     ]
    },
    {
     "name": "stderr",
     "output_type": "stream",
     "text": [
      "100%|██████████| 238/238 [00:21<00:00, 11.16it/s]\n",
      "100%|██████████| 85/85 [00:01<00:00, 76.94it/s]\n",
      "100%|██████████| 17/17 [00:00<00:00, 76.85it/s]\n"
     ]
    },
    {
     "name": "stdout",
     "output_type": "stream",
     "text": [
      "Epoch:488/500.. Train Loss: 0.294.. Val Loss: 1.052.. Test Loss: 0.165.. Time: 0.38m\n"
     ]
    },
    {
     "name": "stderr",
     "output_type": "stream",
     "text": [
      "100%|██████████| 238/238 [00:21<00:00, 10.89it/s]\n",
      "100%|██████████| 85/85 [00:01<00:00, 76.83it/s]\n",
      "100%|██████████| 17/17 [00:00<00:00, 75.93it/s]\n"
     ]
    },
    {
     "name": "stdout",
     "output_type": "stream",
     "text": [
      "Epoch:489/500.. Train Loss: 0.296.. Val Loss: 1.058.. Test Loss: 0.165.. Time: 0.39m\n"
     ]
    },
    {
     "name": "stderr",
     "output_type": "stream",
     "text": [
      "100%|██████████| 238/238 [00:21<00:00, 11.05it/s]\n",
      "100%|██████████| 85/85 [00:01<00:00, 76.10it/s]\n",
      "100%|██████████| 17/17 [00:00<00:00, 76.52it/s]\n"
     ]
    },
    {
     "name": "stdout",
     "output_type": "stream",
     "text": [
      "Epoch:490/500.. Train Loss: 0.290.. Val Loss: 1.049.. Test Loss: 0.166.. Time: 0.38m\n"
     ]
    },
    {
     "name": "stderr",
     "output_type": "stream",
     "text": [
      "100%|██████████| 238/238 [00:21<00:00, 11.04it/s]\n",
      "100%|██████████| 85/85 [00:01<00:00, 76.79it/s]\n",
      "100%|██████████| 17/17 [00:00<00:00, 75.09it/s]\n"
     ]
    },
    {
     "name": "stdout",
     "output_type": "stream",
     "text": [
      "Epoch:491/500.. Train Loss: 0.287.. Val Loss: 1.060.. Test Loss: 0.165.. Time: 0.38m\n"
     ]
    },
    {
     "name": "stderr",
     "output_type": "stream",
     "text": [
      "100%|██████████| 238/238 [00:21<00:00, 11.02it/s]\n",
      "100%|██████████| 85/85 [00:01<00:00, 76.20it/s]\n",
      "100%|██████████| 17/17 [00:00<00:00, 71.13it/s]\n"
     ]
    },
    {
     "name": "stdout",
     "output_type": "stream",
     "text": [
      "Epoch:492/500.. Train Loss: 0.291.. Val Loss: 1.049.. Test Loss: 0.165.. Time: 0.38m\n"
     ]
    },
    {
     "name": "stderr",
     "output_type": "stream",
     "text": [
      "100%|██████████| 238/238 [00:21<00:00, 11.12it/s]\n",
      "100%|██████████| 85/85 [00:01<00:00, 77.15it/s]\n",
      "100%|██████████| 17/17 [00:00<00:00, 76.61it/s]\n"
     ]
    },
    {
     "name": "stdout",
     "output_type": "stream",
     "text": [
      "Epoch:493/500.. Train Loss: 0.294.. Val Loss: 1.057.. Test Loss: 0.166.. Time: 0.38m\n"
     ]
    },
    {
     "name": "stderr",
     "output_type": "stream",
     "text": [
      "100%|██████████| 238/238 [00:21<00:00, 10.99it/s]\n",
      "100%|██████████| 85/85 [00:01<00:00, 74.91it/s]\n",
      "100%|██████████| 17/17 [00:00<00:00, 73.89it/s]\n"
     ]
    },
    {
     "name": "stdout",
     "output_type": "stream",
     "text": [
      "Epoch:494/500.. Train Loss: 0.280.. Val Loss: 1.054.. Test Loss: 0.165.. Time: 0.38m\n"
     ]
    },
    {
     "name": "stderr",
     "output_type": "stream",
     "text": [
      "100%|██████████| 238/238 [00:21<00:00, 11.25it/s]\n",
      "100%|██████████| 85/85 [00:01<00:00, 76.90it/s]\n",
      "100%|██████████| 17/17 [00:00<00:00, 76.51it/s]\n"
     ]
    },
    {
     "name": "stdout",
     "output_type": "stream",
     "text": [
      "Epoch:495/500.. Train Loss: 0.302.. Val Loss: 1.052.. Test Loss: 0.165.. Time: 0.37m\n"
     ]
    },
    {
     "name": "stderr",
     "output_type": "stream",
     "text": [
      "100%|██████████| 238/238 [00:21<00:00, 11.15it/s]\n",
      "100%|██████████| 85/85 [00:01<00:00, 76.10it/s]\n",
      "100%|██████████| 17/17 [00:00<00:00, 71.01it/s]\n"
     ]
    },
    {
     "name": "stdout",
     "output_type": "stream",
     "text": [
      "Epoch:496/500.. Train Loss: 0.284.. Val Loss: 1.050.. Test Loss: 0.166.. Time: 0.38m\n"
     ]
    },
    {
     "name": "stderr",
     "output_type": "stream",
     "text": [
      "100%|██████████| 238/238 [00:20<00:00, 11.64it/s]\n",
      "100%|██████████| 85/85 [00:01<00:00, 83.32it/s]\n",
      "100%|██████████| 17/17 [00:00<00:00, 83.15it/s]\n"
     ]
    },
    {
     "name": "stdout",
     "output_type": "stream",
     "text": [
      "Epoch:497/500.. Train Loss: 0.292.. Val Loss: 1.050.. Test Loss: 0.165.. Time: 0.36m\n"
     ]
    },
    {
     "name": "stderr",
     "output_type": "stream",
     "text": [
      "100%|██████████| 238/238 [00:19<00:00, 12.39it/s]\n",
      "100%|██████████| 85/85 [00:01<00:00, 83.29it/s]\n",
      "100%|██████████| 17/17 [00:00<00:00, 83.21it/s]\n"
     ]
    },
    {
     "name": "stdout",
     "output_type": "stream",
     "text": [
      "Epoch:498/500.. Train Loss: 0.285.. Val Loss: 1.053.. Test Loss: 0.166.. Time: 0.34m\n"
     ]
    },
    {
     "name": "stderr",
     "output_type": "stream",
     "text": [
      "100%|██████████| 238/238 [00:18<00:00, 12.59it/s]\n",
      "100%|██████████| 85/85 [00:01<00:00, 82.53it/s]\n",
      "100%|██████████| 17/17 [00:00<00:00, 82.40it/s]\n"
     ]
    },
    {
     "name": "stdout",
     "output_type": "stream",
     "text": [
      "Epoch:499/500.. Train Loss: 0.294.. Val Loss: 1.050.. Test Loss: 0.165.. Time: 0.34m\n"
     ]
    },
    {
     "name": "stderr",
     "output_type": "stream",
     "text": [
      "100%|██████████| 238/238 [00:19<00:00, 12.52it/s]\n",
      "100%|██████████| 85/85 [00:01<00:00, 81.97it/s]\n",
      "100%|██████████| 17/17 [00:00<00:00, 81.41it/s]"
     ]
    },
    {
     "name": "stdout",
     "output_type": "stream",
     "text": [
      "Epoch:500/500.. Train Loss: 0.291.. Val Loss: 1.052.. Test Loss: 0.165.. Time: 0.34m\n",
      "Total time: 189.77 m\n"
     ]
    },
    {
     "name": "stderr",
     "output_type": "stream",
     "text": [
      "\n"
     ]
    }
   ],
   "source": [
    "training.fit(model, train_loader, validation_loader, test_loader)\n",
    "best_model = training.get_best_model()"
   ]
  },
  {
   "cell_type": "code",
   "execution_count": 13,
   "metadata": {
    "tags": []
   },
   "outputs": [
    {
     "data": {
      "text/plain": [
       "<matplotlib.legend.Legend at 0x2ad16054ea60>"
      ]
     },
     "execution_count": 13,
     "metadata": {},
     "output_type": "execute_result"
    },
    {
     "data": {
      "image/png": "[encoded data removed]",
      "text/plain": [
       "<Figure size 640x480 with 1 Axes>"
      ]
     },
     "metadata": {},
     "output_type": "display_data"
    }
   ],
   "source": [
    "fig, ax = plt.subplots()\n",
    "\n",
    "ax.plot(training.results['Train'], label='Train')\n",
    "ax.plot(training.results['Validation'], label='Validation')\n",
    "ax.plot(training.results['Test'], label='Test')\n",
    "ax.legend()"
   ]
  },
  {
   "cell_type": "markdown",
   "metadata": {},
   "source": [
    "## Evaluation and plotting classes"
   ]
  },
  {
   "cell_type": "code",
   "execution_count": 14,
   "metadata": {
    "tags": []
   },
   "outputs": [],
   "source": [
    "class OSAEvaluator:\n",
    "    \n",
    "    def evaluate_OSA(self, dataset, model):\n",
    "        \n",
    "        torch.cuda.empty_cache()\n",
    "        Y_real = []\n",
    "        Y_pred = []\n",
    "        for i, data in enumerate(tqdm(dataset)):\n",
    "            src, tgt, y_real = data\n",
    "            src, tgt, y_real = src.to(device), tgt.to(device), y_real.to(device)\n",
    "            y_pred = model(src, tgt)\n",
    "            Y_real.append(y_real.reshape(1,-1))\n",
    "            Y_pred.append(y_pred)\n",
    "        \n",
    "        Y_real = torch.vstack(Y_real).cpu()\n",
    "        Y_pred = torch.vstack(Y_pred).cpu().detach()\n",
    "        print('********** OSA Evaluation summary **********')\n",
    "        print(f'OSA MSE: {mean_squared_error(Y_real, Y_pred)}')\n",
    "        print(f'OSA RMSE: {np.sqrt(mean_squared_error(Y_real, Y_pred))}')\n",
    "        print(f'OSA R2 score: {r2_score(Y_real, Y_pred)}')\n",
    "        print('********************************************')\n",
    "        return Y_real, Y_pred\n",
    "            \n",
    "class FSEvaluator:\n",
    "    \n",
    "    def evaluate_FS(self, dataset, model):\n",
    "        \n",
    "        torch.cuda.empty_cache()\n",
    "        Y_real = []\n",
    "        Y_pred = []\n",
    "        tgt_sim = None\n",
    "        for i, data in enumerate(tqdm(dataset)):\n",
    "            src, tgt, y_real = data\n",
    "            src, tgt, y_real = src.to(device), tgt.to(device), y_real.to(device)\n",
    "            if tgt_sim is None:\n",
    "                tgt_sim = tgt\n",
    "            else:\n",
    "                tgt_sim[:-1,:] = tgt_sim[1:,:]\n",
    "                tgt_sim[-1,:] = y_pred\n",
    "            y_pred = model(src, tgt_sim)\n",
    "            Y_real.append(y_real.reshape(1,-1))\n",
    "            Y_pred.append(y_pred)\n",
    "        \n",
    "        Y_real = torch.vstack(Y_real).cpu()\n",
    "        Y_pred = torch.vstack(Y_pred).cpu().detach()\n",
    "        print('*********** FS Evaluation summary **********')\n",
    "        print(f'FS MSE: {mean_squared_error(Y_real, Y_pred)}')\n",
    "        print(f'FS RMSE: {np.sqrt(mean_squared_error(Y_real, Y_pred))}')\n",
    "        print(f'FS R2 score: {r2_score(Y_real, Y_pred)}')\n",
    "        print('********************************************')\n",
    "        return Y_real, Y_pred\n",
    "    \n",
    "class Evaluator(OSAEvaluator, FSEvaluator):\n",
    "    \n",
    "    pass\n",
    "        "
   ]
  },
  {
   "cell_type": "code",
   "execution_count": 15,
   "metadata": {
    "tags": []
   },
   "outputs": [
    {
     "name": "stderr",
     "output_type": "stream",
     "text": [
      "100%|██████████| 699/699 [00:13<00:00, 52.50it/s]\n"
     ]
    },
    {
     "name": "stdout",
     "output_type": "stream",
     "text": [
      "********** OSA Evaluation summary **********\n",
      "OSA MSE: 0.1425158530473709\n",
      "OSA RMSE: 0.37751272320747375\n",
      "OSA R2 score: 0.5736635743246303\n",
      "********************************************\n"
     ]
    },
    {
     "name": "stderr",
     "output_type": "stream",
     "text": [
      "100%|██████████| 699/699 [00:12<00:00, 57.59it/s]\n"
     ]
    },
    {
     "name": "stdout",
     "output_type": "stream",
     "text": [
      "*********** FS Evaluation summary **********\n",
      "FS MSE: 0.40241849422454834\n",
      "FS RMSE: 0.634364664554596\n",
      "FS R2 score: -0.2038356723034933\n",
      "********************************************\n"
     ]
    }
   ],
   "source": [
    "evaluator = Evaluator()\n",
    "Y_real, Y_pred_OSA = evaluator.evaluate_OSA(test_dataset, model)\n",
    "Y_real, Y_pred_FS = evaluator.evaluate_FS(test_dataset, model)"
   ]
  },
  {
   "cell_type": "code",
   "execution_count": 16,
   "metadata": {
    "tags": []
   },
   "outputs": [
    {
     "data": {
      "text/plain": [
       "<matplotlib.legend.Legend at 0x2ad160519eb0>"
      ]
     },
     "execution_count": 16,
     "metadata": {},
     "output_type": "execute_result"
    },
    {
     "data": {
      "image/png": "[encoded data removed]",
      "text/plain": [
       "<Figure size 640x480 with 1 Axes>"
      ]
     },
     "metadata": {},
     "output_type": "display_data"
    }
   ],
   "source": [
    "fig, ax = plt.subplots()\n",
    "ax.plot(Y_real, label='Real')\n",
    "ax.plot(Y_pred_OSA, label='OSA')\n",
    "ax.plot(Y_pred_FS, label='FS')\n",
    "ax.legend()"
   ]
  },
  {
   "cell_type": "code",
   "execution_count": 17,
   "metadata": {
    "tags": []
   },
   "outputs": [
    {
     "name": "stderr",
     "output_type": "stream",
     "text": [
      "100%|██████████| 699/699 [00:13<00:00, 52.23it/s]\n"
     ]
    },
    {
     "name": "stdout",
     "output_type": "stream",
     "text": [
      "********** OSA Evaluation summary **********\n",
      "OSA MSE: 0.11478743702173233\n",
      "OSA RMSE: 0.33880293369293213\n",
      "OSA R2 score: 0.6566131589260837\n",
      "********************************************\n"
     ]
    },
    {
     "name": "stderr",
     "output_type": "stream",
     "text": [
      "100%|██████████| 699/699 [00:11<00:00, 58.54it/s]"
     ]
    },
    {
     "name": "stdout",
     "output_type": "stream",
     "text": [
      "*********** FS Evaluation summary **********\n",
      "FS MSE: 0.39258500933647156\n",
      "FS RMSE: 0.6265660524368286\n",
      "FS R2 score: -0.1744188821042938\n",
      "********************************************\n"
     ]
    },
    {
     "name": "stderr",
     "output_type": "stream",
     "text": [
      "\n"
     ]
    }
   ],
   "source": [
    "evaluator = Evaluator()\n",
    "Y_real, Y_pred_OSA = evaluator.evaluate_OSA(test_dataset, best_model)\n",
    "Y_real, Y_pred_FS = evaluator.evaluate_FS(test_dataset, best_model)"
   ]
  },
  {
   "cell_type": "code",
   "execution_count": 18,
   "metadata": {
    "tags": []
   },
   "outputs": [
    {
     "data": {
      "text/plain": [
       "<matplotlib.legend.Legend at 0x2ad16057f430>"
      ]
     },
     "execution_count": 18,
     "metadata": {},
     "output_type": "execute_result"
    },
    {
     "data": {
      "image/png": "[encoded data removed]",
      "text/plain": [
       "<Figure size 640x480 with 1 Axes>"
      ]
     },
     "metadata": {},
     "output_type": "display_data"
    }
   ],
   "source": [
    "fig, ax = plt.subplots()\n",
    "ax.plot(Y_real, label='Real')\n",
    "ax.plot(Y_pred_OSA, label='OSA')\n",
    "ax.plot(Y_pred_FS, label='FS')\n",
    "ax.legend()"
   ]
  }
 ],
 "metadata": {
  "kernelspec": {
   "display_name": "raul_dl",
   "language": "python",
   "name": "raul_dl"
  },
  "language_info": {
   "codemirror_mode": {
    "name": "ipython",
    "version": 3
   },
   "file_extension": ".py",
   "mimetype": "text/x-python",
   "name": "python",
   "nbconvert_exporter": "python",
   "pygments_lexer": "ipython3",
   "version": "3.9.13"
  }
 },
 "nbformat": 4,
 "nbformat_minor": 4
}
